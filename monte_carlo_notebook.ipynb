{
 "cells": [
  {
   "cell_type": "code",
   "execution_count": 1,
   "metadata": {},
   "outputs": [],
   "source": [
    "from NotebookLib import *\n",
    "from GHZ_distribution import *"
   ]
  },
  {
   "cell_type": "code",
   "execution_count": 23,
   "metadata": {},
   "outputs": [],
   "source": [
    "# Set parameters\n",
    "probability_of_success = 0.01\n",
    "\n",
    "# Monte Carlo parameter\n",
    "mc_trials = 10**5\n",
    "\n",
    "number_of_threads = 16\n",
    "\n",
    "repeat_no = 1"
   ]
  },
  {
   "cell_type": "code",
   "execution_count": 24,
   "metadata": {},
   "outputs": [
    {
     "name": "stderr",
     "output_type": "stream",
     "text": [
      "100%|██████████| 16/16 [00:03<00:00,  4.03it/s]\n"
     ]
    }
   ],
   "source": [
    "sampled_distribution = multiprocessed_sampling_ghz(probability_of_success,mc_trials,number_of_threads,repeat=repeat_no) #55 times faster for p = 0.1"
   ]
  },
  {
   "cell_type": "code",
   "execution_count": 25,
   "metadata": {},
   "outputs": [
    {
     "data": {
      "text/plain": [
       "203473"
      ]
     },
     "execution_count": 25,
     "metadata": {},
     "output_type": "execute_result"
    }
   ],
   "source": [
    "len(sampled_distribution)"
   ]
  },
  {
   "cell_type": "code",
   "execution_count": 4,
   "metadata": {},
   "outputs": [],
   "source": [
    "size_of_2d = 1000\n",
    "\n",
    "def sampling_function_GHZ_test(mc_trials,probability_of_success):\n",
    "    frequency_array = np.zeros(size_of_2d,dtype=int)\n",
    "    ghz_2d = np.zeros((size_of_2d,size_of_2d),dtype=int)\n",
    "    \n",
    "    # Create random generator of the thread\n",
    "    rand_int_of_thread = int( multiprocessing.current_process()._identity[0] * time.time()*100000 )\n",
    "    thread_random_generator = np.random.default_rng(seed=rand_int_of_thread)\n",
    "\n",
    "    ghz_achieved_in = thread_random_generator.geometric(p=probability_of_success, size=mc_trials)\n",
    "\n",
    "    links_created = np.sum(ghz_achieved_in) \n",
    "    linkA = thread_random_generator.geometric(p=probability_of_success,size=links_created)\n",
    "    linkB = thread_random_generator.geometric(p=probability_of_success,size=links_created)\n",
    "\n",
    "    t_link = np.maximum(linkA,linkB)\n",
    "    t_link_divided_list = np.array(np.split(t_link,np.cumsum(ghz_achieved_in)[0:-1]))\n",
    "\n",
    "    t_diff = np.abs(linkA-linkB)\n",
    "    t_diff_divided_list = np.array(np.split(t_diff,np.cumsum(ghz_achieved_in)[0:-1]))\n",
    "\n",
    "    for trial_ind in range(mc_trials):\n",
    "        ghz_time = ghz_achieved_in[trial_ind]\n",
    "        links_time = np.sum(t_link_divided_list[trial_ind])\n",
    "\n",
    "        frequency_array[ ghz_time+links_time] += 1\n",
    "\n",
    "        ghz_2d[ghz_time+links_time][ t_diff_divided_list[trial_ind][-1] ] += 1\n",
    "    return frequency_array, ghz_2d\n",
    "\n",
    "\n",
    "def multiprocessed_sampling_ghz_test(probability_of_success, mc_trials, number_of_threads, repeat=1 ):\n",
    "\n",
    "    trials_per_thread = int(mc_trials/number_of_threads)\n",
    "\n",
    "    frequency_array = np.zeros(size_of_2d,dtype=int)\n",
    "    ghz_2d = np.zeros((size_of_2d,size_of_2d),dtype=float)\n",
    "    for i in range(repeat):\n",
    "        with mp.Pool(number_of_threads) as pool:\n",
    "            parameters = itertools.repeat((trials_per_thread,probability_of_success),number_of_threads)\n",
    "            for result_arr1,result_arr2 in tqdm.tqdm(pool.istarmap(sampling_function_GHZ_test, parameters),total=number_of_threads):\n",
    "                frequency_array += result_arr1\n",
    "                ghz_2d += result_arr2\n",
    "\n",
    "\n",
    "    frequency_array = np.trim_zeros(frequency_array,trim='b')\n",
    "\n",
    "    sampled_probability_distribution = frequency_array/np.sum(frequency_array)\n",
    "    \n",
    "    ghz_2d_list = [np.array(0) for i in range(size_of_2d)]\n",
    "    for i in range(size_of_2d):\n",
    "        if np.sum(ghz_2d[i][:]):\n",
    "            ghz_2d_list[i] =  np.trim_zeros(ghz_2d[i][:]/np.sum(ghz_2d[i][:]), trim='b')\n",
    "     \n",
    "    return sampled_probability_distribution ,ghz_2d_list\n"
   ]
  },
  {
   "cell_type": "code",
   "execution_count": 5,
   "metadata": {},
   "outputs": [
    {
     "name": "stderr",
     "output_type": "stream",
     "text": [
      "100%|██████████| 16/16 [00:07<00:00,  2.02it/s]\n"
     ]
    }
   ],
   "source": [
    "probability_of_success = 0.4\n",
    "mc_trials = 10**7\n",
    "number_of_threads = 16\n",
    "repeat_no = 1\n",
    "sampled_distribution,ghz_test = multiprocessed_sampling_ghz_test(probability_of_success,mc_trials,number_of_threads,repeat=repeat_no) #55 times faster for p = 0.1"
   ]
  },
  {
   "cell_type": "code",
   "execution_count": 7,
   "metadata": {},
   "outputs": [
    {
     "data": {
      "text/plain": [
       "<matplotlib.legend.Legend at 0x7f87e1780f40>"
      ]
     },
     "execution_count": 7,
     "metadata": {},
     "output_type": "execute_result"
    },
    {
     "data": {
      "image/png": "[encoded data removed]",
      "text/plain": [
       "<Figure size 1500x1000 with 1 Axes>"
      ]
     },
     "metadata": {},
     "output_type": "display_data"
    }
   ],
   "source": [
    "cum_sum_accuracy_decimals = 3\n",
    "\n",
    "'''max_len = 0\n",
    "for distr in [mc_distribution, sampled_distribution]:\n",
    "    cum_distr = np.round(np.cumsum(distr),decimals = cum_sum_accuracy_decimals)\n",
    "    cut_off_len = np.where(cum_distr==1)[0][0]\n",
    "    if cut_off_len > max_len:\n",
    "        max_len = cut_off_len\n",
    "'''\n",
    "cut_off_percentage = 0.99\n",
    "cum_distr = np.cumsum(sampled_distribution)\n",
    "#cut_off_len = np.where(cum_distr>=cut_off_percentage)[0][0]\n",
    "\n",
    "\n",
    "#sampled_distribution_cut = np.trim_zeros(ghz_test[4][:],'b') #sampled_distribution[0:cut_off_len] #np.trim_zeros(ghz_test[3][:],'b')#[0:max_len]\n",
    "sampled_distribution_cut = sampled_distribution[0:-1]\n",
    "#mc_distribution_cut = mc_distribution[0:max_len]\n",
    "\n",
    "\n",
    "\n",
    "plt.scatter(y=sampled_distribution_cut,x=np.arange(0,len(sampled_distribution_cut)), label='NumPy Sampling',s =20, alpha=1)\n",
    "plt.ylim(bottom = 0 )\n",
    "#plt.scatter(y=mc_distribution_cut,x=np.arange(0,max_len),label='Monte Carlo',s =20, alpha=0.3)\n",
    "#plt.yscale('log')\n",
    "plt.legend()"
   ]
  },
  {
   "cell_type": "code",
   "execution_count": 9,
   "metadata": {},
   "outputs": [],
   "source": [
    "import numpy as np\n",
    "def ps(n,probability_of_success=probability_of_success):\n",
    "    '''\n",
    "    Success after n failed trials.\n",
    "    '''\n",
    "    return probability_of_success*(1-probability_of_success)**n\n",
    "\n",
    "#\n",
    "\n",
    "max_nn_array = 100\n",
    "nn_array = np.zeros((max_nn_array,max_nn_array))\n",
    "for (ind0,ind1), _ in np.ndenumerate(nn_array):\n",
    "    nn_array[ind0,ind1] = ps(ind0)*ps(ind1)\n",
    "\n",
    "\n",
    "nn_array_ind = np.dstack(np.unravel_index(np.argsort(nn_array.ravel()), np.shape(nn_array)))[0][::-1]\n",
    "\n",
    "nn_array_copy = np.copy(nn_array)\n",
    "\n",
    "nn_array = np.sort(nn_array.flatten())[::-1]\n",
    "'''\n",
    "elements_to_delete = []\n",
    "for (index,element) in enumerate(nn_array_ind):\n",
    "    n_i , n_j = tuple(element)\n",
    "    if abs(n_i - n_j) >= decoherence_time:\n",
    "        elements_to_delete.append(index)\n",
    "\n",
    "nn_array = np.delete(nn_array,elements_to_delete)\n",
    "nn_array_ind = np.delete(nn_array_ind,elements_to_delete,axis=0)\n",
    "'''\n",
    "nn_array_time = np.zeros_like(nn_array)\n",
    "for (i,succ_index) in enumerate(nn_array_ind):\n",
    "    nn_array_time[i] = max(succ_index) +1\n",
    "\n",
    "max_time_link = int( np.max(nn_array_time) )\n",
    "\n",
    "p_link_array = np.zeros(max_time_link+1)\n",
    "mult_link_array = np.zeros(max_time_link+1)\n",
    "for (ind,tim) in enumerate(nn_array_time):\n",
    "    p_link_array[int(tim)] += nn_array[ind]\n",
    "    mult_link_array[int(tim)] +=1 \n",
    "\n"
   ]
  },
  {
   "cell_type": "code",
   "execution_count": 10,
   "metadata": {},
   "outputs": [],
   "source": [
    "def kron_delta(a,b=0):\n",
    "    if a==b:\n",
    "        return 1\n",
    "    else:\n",
    "        return 0\n",
    "\n",
    "array_size = 100\n",
    "\n",
    "p_gen = probability_of_success\n",
    "\n",
    "q_g = (1-probability_of_success)\n",
    "\n",
    "p_gen_fac = p_gen / (2 - p_gen)\n",
    "\n",
    "tim_array = np.zeros(array_size)\n",
    "\n",
    "for i in range(array_size):\n",
    "    tim_array[i] = p_gen_fac * q_g ** i *(2-kron_delta(i))"
   ]
  },
  {
   "cell_type": "code",
   "execution_count": null,
   "metadata": {},
   "outputs": [],
   "source": [
    "\n",
    "\n",
    "\n"
   ]
  },
  {
   "cell_type": "code",
   "execution_count": 20,
   "metadata": {},
   "outputs": [],
   "source": [
    "t_max = 20\n",
    "dt_array = np.zeros(t_max-1)\n",
    "dt_array1 = np.zeros(t_max-1)\n",
    "\n",
    "probability_of_success = 0.4\n",
    "\n",
    "def pr_dt(dt,p,t):\n",
    "    q = 1- p\n",
    "    return (2 - kron_delta(dt)) * p * q**dt * (1- q **(2*(t-dt-1))) / (1+q)\n",
    "\n",
    "def pr_dt_1(dt,p,t):\n",
    "    q = 1- p\n",
    "    term = p * q**dt * (1- q **(2*(t-dt-1))) / (1+q) \n",
    "    corr1 = - p**2 * q**(2*t-6-dt) * (1-kron_delta(dt,t-2))\n",
    "\n",
    "    return (2 - kron_delta(dt)) * (term + corr1)\n",
    "\n",
    "\n",
    "for t in range(t_max-1):\n",
    "    dt_array[t] =  pr_dt(t,probability_of_success,t_max)\n",
    "    dt_array1[t] = pr_dt_1(t,probability_of_success,t_max)\n"
   ]
  },
  {
   "cell_type": "code",
   "execution_count": 21,
   "metadata": {},
   "outputs": [
    {
     "data": {
      "text/plain": [
       "array([0.25003047, 0.30003656, 0.18002193, 0.10801315, 0.06480788])"
      ]
     },
     "execution_count": 21,
     "metadata": {},
     "output_type": "execute_result"
    }
   ],
   "source": [
    "dt_array[0:5] / np.sum(dt_array)"
   ]
  },
  {
   "cell_type": "code",
   "execution_count": 22,
   "metadata": {},
   "outputs": [
    {
     "data": {
      "text/plain": [
       "array([0.25006433, 0.30007718, 0.18004629, 0.10802774, 0.06481659])"
      ]
     },
     "execution_count": 22,
     "metadata": {},
     "output_type": "execute_result"
    }
   ],
   "source": [
    "dt_array1[0:5] / np.sum(dt_array1)"
   ]
  },
  {
   "cell_type": "code",
   "execution_count": 25,
   "metadata": {},
   "outputs": [
    {
     "data": {
      "text/plain": [
       "array([0.25  , 0.3   , 0.18  , 0.108 , 0.0648])"
      ]
     },
     "execution_count": 25,
     "metadata": {},
     "output_type": "execute_result"
    }
   ],
   "source": [
    "tim_array[0:5]"
   ]
  },
  {
   "cell_type": "code",
   "execution_count": 24,
   "metadata": {},
   "outputs": [
    {
     "data": {
      "text/plain": [
       "array([0.20000265, 0.26499258, 0.17640787, 0.12003338, 0.07902893,\n",
       "       0.05295746, 0.03568023, 0.02274714, 0.01609186, 0.01041004,\n",
       "       0.00693341, 0.00483418, 0.00319188, 0.00204625, 0.00161581,\n",
       "       0.0009271 , 0.00049004, 0.00056288, 0.0010463 ])"
      ]
     },
     "execution_count": 24,
     "metadata": {},
     "output_type": "execute_result"
    }
   ],
   "source": [
    "ghz_test[20]"
   ]
  },
  {
   "cell_type": "code",
   "execution_count": null,
   "metadata": {},
   "outputs": [],
   "source": []
  }
 ],
 "metadata": {
  "interpreter": {
   "hash": "916dbcbb3f70747c44a77c7bcd40155683ae19c65e1c03b4aa3499c5328201f1"
  },
  "kernelspec": {
   "display_name": "Python 3.8.10 64-bit",
   "language": "python",
   "name": "python3"
  },
  "language_info": {
   "codemirror_mode": {
    "name": "ipython",
    "version": 3
   },
   "file_extension": ".py",
   "mimetype": "text/x-python",
   "name": "python",
   "nbconvert_exporter": "python",
   "pygments_lexer": "ipython3",
   "version": "3.8.10"
  },
  "orig_nbformat": 4
 },
 "nbformat": 4,
 "nbformat_minor": 2
}
