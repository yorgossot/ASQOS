{
 "cells": [
  {
   "cell_type": "code",
   "execution_count": 1,
   "metadata": {},
   "outputs": [],
   "source": [
    "from energy_levels import *"
   ]
  },
  {
   "cell_type": "code",
   "execution_count": 2,
   "metadata": {},
   "outputs": [],
   "source": [
    "g = EnergyLevel('g')\n",
    "h = EnergyLevel('h')"
   ]
  },
  {
   "cell_type": "code",
   "execution_count": 3,
   "metadata": {},
   "outputs": [],
   "source": [
    "c1 = Component([g,h], 'component1')"
   ]
  },
  {
   "cell_type": "code",
   "execution_count": 4,
   "metadata": {},
   "outputs": [],
   "source": [
    "t1 = Transition(g,h,1)"
   ]
  },
  {
   "cell_type": "code",
   "execution_count": 6,
   "metadata": {},
   "outputs": [],
   "source": [
    "c1.delete_transition(t1)"
   ]
  },
  {
   "cell_type": "code",
   "execution_count": 8,
   "metadata": {},
   "outputs": [
    {
     "data": {
      "text/plain": [
       "{}"
      ]
     },
     "execution_count": 8,
     "metadata": {},
     "output_type": "execute_result"
    }
   ],
   "source": [
    "c1.transitions"
   ]
  },
  {
   "cell_type": "code",
   "execution_count": 1,
   "metadata": {},
   "outputs": [],
   "source": [
    "from resources.system import system"
   ]
  },
  {
   "cell_type": "code",
   "execution_count": 11,
   "metadata": {},
   "outputs": [
    {
     "name": "stdout",
     "output_type": "stream",
     "text": [
      "Initializing system O-x-O-O- ...\n",
      "Constructing states and excitations ...\n",
      "Constructing ground and first-excited statespace ...\n",
      "Constructing gs_hamiltonian ...\n",
      "Constructing e1_hamiltonian ...\n",
      "Constructing interactions V_plus and V_minus ...\n",
      "Constructing NJ_hamiltonian ...\n",
      "Inverting NJ_hamiltonian ...\n",
      "Constructing eff_hamiltonian and effective lindblad operators ...\n",
      "\n",
      "System  O-x-O-O-  initialized in 804.7 seconds.\n"
     ]
    }
   ],
   "source": [
    "s1 = system.system('O-x-O-O-')"
   ]
  },
  {
   "cell_type": "code",
   "execution_count": 9,
   "metadata": {},
   "outputs": [],
   "source": [
    "a = s1.nj_hamiltonian_inv"
   ]
  },
  {
   "cell_type": "code",
   "execution_count": 16,
   "metadata": {},
   "outputs": [
    {
     "data": {
      "text/plain": [
       "149234"
      ]
     },
     "execution_count": 16,
     "metadata": {},
     "output_type": "execute_result"
    }
   ],
   "source": [
    "len(str(s1.eff_hamiltonian_gs[2,2]))"
   ]
  },
  {
   "cell_type": "code",
   "execution_count": 37,
   "metadata": {},
   "outputs": [],
   "source": [
    "c1 = cavity(0)"
   ]
  },
  {
   "cell_type": "code",
   "execution_count": 38,
   "metadata": {},
   "outputs": [],
   "source": [
    "c2 = cavity(1)"
   ]
  },
  {
   "cell_type": "code",
   "execution_count": 40,
   "metadata": {},
   "outputs": [
    {
     "data": {
      "text/latex": [
       "$\\displaystyle \\kappa_{c}$"
      ],
      "text/plain": [
       "kappa_c"
      ]
     },
     "execution_count": 40,
     "metadata": {},
     "output_type": "execute_result"
    }
   ],
   "source": []
  },
  {
   "cell_type": "code",
   "execution_count": 135,
   "metadata": {},
   "outputs": [
    {
     "data": {
      "text/plain": [
       "5"
      ]
     },
     "execution_count": 135,
     "metadata": {},
     "output_type": "execute_result"
    }
   ],
   "source": []
  },
  {
   "cell_type": "code",
   "execution_count": 15,
   "metadata": {},
   "outputs": [],
   "source": [
    "import sympy, math\n",
    "\n",
    "\n",
    "\n",
    "class EnergyLevel():\n",
    "\n",
    "    def __init__(self, name, energy : int = 0 , stable : bool = True ) -> None:\n",
    "        self.stable = stable\n",
    "        self.name = name\n",
    "        self.energy = energy\n",
    "        self.transitions = {}\n",
    "        self.losses = {}\n",
    "    \n",
    "    def __repr__(self) -> str:\n",
    "        return f\"Energy Level {str(self.name)} with energy E={str(self.energy)}\" \n",
    "\n",
    "\n",
    "    def set_energy(self, energy ):\n",
    "        self.energy = energy\n",
    "\n",
    "    def add_transition(self, interacting_energy_level, parameter) -> None:\n",
    "        '''\n",
    "        Adds an interaction with its complex conjugate.\n",
    "        '''\n",
    "        sympified_parameter = sympy.sympify(parameter)\n",
    "        self.transitions[interacting_energy_level.name] = {\"energy_level\": interacting_energy_level, \"coefficient\" : sympified_parameter}\n",
    "        interacting_energy_level.transitions[self.name] = {\"energy_level\": self, \"coefficient\" : sympy.conjugate(sympified_parameter)}\n",
    "\n",
    "    \n",
    "    def add_loss(self, decayed_energy_level , loss_rate) -> None:\n",
    "        '''\n",
    "        Adds a loss.\n",
    "        '''\n",
    "        assert loss_rate >= 0 \n",
    "        sympified_loss_rate = sympy.sympify(loss_rate )\n",
    "        self.losses[decayed_energy_level.name] = {\"energy_level\": decayed_energy_level, \"coefficient\" : sympy.sqrt(sympified_loss_rate)}\n",
    "\n",
    " \n",
    " class Transition():\n",
    "    \n",
    "    def __init__(self, energy_level_ket, energy_level_bra) -> None:\n",
    "        self.energy_level_ket = energy_level_ket\n",
    "        self.energy_level_bra = energy_level_bra\n",
    "\n",
    "class Loss(Transition):\n",
    "    def __init__(self, energy_level_ket, energy_level_bra, loss_rate) -> None:\n",
    "        super().__init__(energy_level_ket, energy_level_bra)\n",
    "\n",
    "class Component():\n",
    "\n",
    "    def __init__(self, energy_level_names : list = [] , name : str = 'Unnamed Component' ) -> None:    \n",
    "        \n",
    "        assert len(energy_level_names) == len(set(energy_level_names))\n",
    "\n",
    "        self.name = name\n",
    "\n",
    "        self.energy_levels = { el_name : EnergyLevel( name = el_name ) for el_name in energy_level_names}\n",
    "\n",
    "        \n",
    "    def __repr__(self) -> str:\n",
    "        return str(self.name) + f' with {len(self.energy_levels)} energy levels'\n",
    "\n",
    "    \n",
    "    "
   ]
  },
  {
   "cell_type": "code",
   "execution_count": 16,
   "metadata": {},
   "outputs": [],
   "source": [
    "c1 = Component(['g' , 'h'])"
   ]
  },
  {
   "cell_type": "code",
   "execution_count": 17,
   "metadata": {},
   "outputs": [],
   "source": [
    "c1.energy_levels['g'].add_transition(c1.energy_levels['h'],3+4j)"
   ]
  },
  {
   "cell_type": "code",
   "execution_count": 18,
   "metadata": {},
   "outputs": [],
   "source": [
    "c1.energy_levels['g'].set_energy(sympy.Symbol('s'))"
   ]
  },
  {
   "cell_type": "code",
   "execution_count": 19,
   "metadata": {},
   "outputs": [],
   "source": [
    "c1.energy_levels['g'].add_loss(c1.energy_levels['h'], sympy.Symbol('x',positive=True))"
   ]
  },
  {
   "cell_type": "code",
   "execution_count": 24,
   "metadata": {},
   "outputs": [
    {
     "data": {
      "text/plain": [
       "{'energy_level': Energy Level h with energy E=0, 'coefficient': 3.0 + 4.0*I}"
      ]
     },
     "execution_count": 24,
     "metadata": {},
     "output_type": "execute_result"
    }
   ],
   "source": []
  },
  {
   "cell_type": "code",
   "execution_count": null,
   "metadata": {},
   "outputs": [],
   "source": []
  }
 ],
 "metadata": {
  "kernelspec": {
   "display_name": "Python 3.10.7 64-bit (microsoft store)",
   "language": "python",
   "name": "python3"
  },
  "language_info": {
   "codemirror_mode": {
    "name": "ipython",
    "version": 3
   },
   "file_extension": ".py",
   "mimetype": "text/x-python",
   "name": "python",
   "nbconvert_exporter": "python",
   "pygments_lexer": "ipython3",
   "version": "3.10.7"
  },
  "orig_nbformat": 4,
  "vscode": {
   "interpreter": {
    "hash": "fb493f7ef8f6d8c1f79fad04ed532fb5a337da8a4b4d86e278dbad79ddd01ff2"
   }
  }
 },
 "nbformat": 4,
 "nbformat_minor": 2
}
