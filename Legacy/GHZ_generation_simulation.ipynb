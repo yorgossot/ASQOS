{
 "cells": [
  {
   "cell_type": "code",
   "execution_count": 1,
   "metadata": {},
   "outputs": [
    {
     "name": "stdout",
     "output_type": "stream",
     "text": [
      "Initializing system O-x-O ...\n",
      "Constructing states and excitations ...\n",
      "Constructing ground and first-excited statespace ...\n",
      "Constructing gs_hamiltonian ...\n",
      "Constructing e1_hamiltonian ...\n",
      "Constructing interactions V_plus and V_minus ...\n",
      "Constructing NJ_hamiltonian ...\n",
      "Inverting NJ_hamiltonian ...\n"
     ]
    },
    {
     "name": "stderr",
     "output_type": "stream",
     "text": [
      "Error in atexit._run_exitfuncs:\n",
      "Traceback (most recent call last):\n",
      "  File \"/usr/lib/python3/dist-packages/IPython/core/history.py\", line 576, in end_session\n",
      "    self.db.execute(\"\"\"UPDATE sessions SET end=?, num_cmds=? WHERE\n",
      "sqlite3.OperationalError: disk I/O error\n"
     ]
    },
    {
     "name": "stdout",
     "output_type": "stream",
     "text": [
      "Constructing eff_hamiltonian and effective lindblad operators ...\n",
      "\n",
      "System  O-x-O  initialized in 29.5 seconds.\n",
      "Preparing Analytical sub-class\n",
      "\n",
      "Done!\n"
     ]
    }
   ],
   "source": [
    "from resources.notebook_library import *\n",
    "from resources.gate_simulation import ghz_simulation\n",
    "from resources.gate_simulation import gate_simulation_functions\n",
    "GateSimulation  = reload(ghz_simulation)\n",
    "sim = GateSimulation.Simulation('O-x-O')"
   ]
  },
  {
   "cell_type": "markdown",
   "metadata": {},
   "source": [
    "# Obtain grid(s) of performance"
   ]
  },
  {
   "cell_type": "code",
   "execution_count": 20,
   "metadata": {},
   "outputs": [
    {
     "name": "stdout",
     "output_type": "stream",
     "text": [
      "24.74999999999998\n"
     ]
    }
   ],
   "source": [
    "# Global Parameters \n",
    "kSweep = [0.99]   #[0.995]\n",
    "\n",
    "print(kSweep[0]/ (4-4*kSweep[0]))\n",
    "CSweep = [25]#[24.75,25]#[10,15]#,20,25]     #[20,25,30]\n",
    "SplitSweep = [7]#[7,8,9,10]#[3,5,10]  #[3,5,10]\n",
    "\n",
    "# Dimensions of first grid for optimization  --- Give odd numbers\n",
    "DeNum = 3\n",
    "DENum = 11\n",
    "tgNum = 3\n",
    "rotNum = 3  \n",
    "\n",
    "# Limits of the grid\n",
    "## DE will be multiplied by  np.sqrt(C_val)/gamma_val\n",
    "DE_min = 0.05 \n",
    "DE_max = 2\n",
    "tg_min = 0.8\n",
    "tg_max = 1.2\n",
    "rot_min = 0.90\n",
    "rot_max = 1.11"
   ]
  },
  {
   "cell_type": "markdown",
   "metadata": {},
   "source": [
    "## Using analytical simulations"
   ]
  },
  {
   "cell_type": "code",
   "execution_count": 3,
   "metadata": {},
   "outputs": [
    {
     "name": "stdout",
     "output_type": "stream",
     "text": [
      "Simulating 1 out of 1\n"
     ]
    },
    {
     "name": "stderr",
     "output_type": "stream",
     "text": [
      "100%|██████████| 8019/8019 [00:14<00:00, 565.73it/s]\n"
     ]
    }
   ],
   "source": [
    "gamma_val = sim.parameters[sg.var('gamma')]\n",
    "\n",
    "SplitSweep = [spl*gamma_val for spl in SplitSweep] # for gamma_val = 1 it is not necessary\n",
    "\n",
    "AllParams = [(a,b,c) for a in kSweep for b in CSweep for c in SplitSweep] # Create a 3-d grid for hardware parameters\n",
    "\n",
    "TotalParamElems = NumElemsInList(AllParams)\n",
    "CurrentNumberOfSimulations = 1\n",
    "for (k, C_val , max_split) in AllParams:\n",
    "    print(f'Simulating {CurrentNumberOfSimulations} out of {TotalParamElems}')\n",
    "    CurrentNumberOfSimulations +=1\n",
    "    \n",
    "    c_val = k/ (4-4*k)\n",
    "    # Optimization Parameters  --- Give odd numbers\n",
    "    # De\n",
    "    DeSweep = np.linspace(0,max_split , num = DeNum)\n",
    "    # DE\n",
    "    DESweep = np.linspace(DE_min , DE_max , num = DENum) * np.sqrt(C_val)/gamma_val\n",
    "    # GateTime\n",
    "    tgSweep = np.linspace(tg_min,tg_max , num = tgNum)\n",
    "    # Rotations\n",
    "    r1Sweep = np.linspace(rot_min,rot_max , num = rotNum)\n",
    "    r2Sweep = np.linspace(rot_min,rot_max , num = rotNum)\n",
    "    r3Sweep = np.linspace(rot_min,rot_max , num = rotNum)\n",
    "    r4Sweep = np.linspace(rot_min,rot_max , num = rotNum)\n",
    "\n",
    "\n",
    "    ParamsSweep = [DeSweep ,DESweep,tgSweep,r1Sweep,r2Sweep,r3Sweep,r4Sweep ]\n",
    "    ResultsShape = tuple([np.shape(param)[0] for param in ParamsSweep])\n",
    "\n",
    "    Psucc = np.zeros(ResultsShape)\n",
    "    Fidelity =  np.zeros(ResultsShape)\n",
    "    GateTime =  np.zeros(ResultsShape)\n",
    "\n",
    "    sim.Analytical.obtain_gate_performance_hardware(C_val,c_val,max_split)\n",
    "\n",
    "\n",
    "    def simulation_process(De_val,DE_val,tg_ratio,r1_ratio,r2_ratio,r3_ratio,r4_ratio ):  \n",
    "        \n",
    "        param_vals = De_val,DE_val,tg_ratio,r1_ratio,r2_ratio,r3_ratio,r4_ratio  \n",
    "        index = tuple((np.where(ParamsSweep[i]==param_vals[i] ) for i in range(len(ParamsSweep)) ))\n",
    "        \n",
    "        \n",
    "        tunable_parameter_dictionary = {sg.var('De') : De_val , sg.var('DE') : DE_val \n",
    "                        , sg.var('tgr'): tg_ratio\n",
    "                        , sg.var('r1_r'):r1_ratio, sg.var('r2_r'):r2_ratio,\n",
    "                          sg.var('r3_r'):r3_ratio,sg.var('r4_r'):r4_ratio}\n",
    "        gate_time , p_success , fidelity = sim.Analytical.tunable_performance(tunable_parameter_dictionary)\n",
    "\n",
    "        return gate_time , p_success , fidelity , index\n",
    "\n",
    "    \n",
    "    all_sweeps = product(DeSweep,DESweep,tgSweep,r1Sweep,r2Sweep,r3Sweep,r4Sweep)\n",
    "    len_all_sweeps = DeNum*DENum*tgNum*rotNum**4\n",
    "    with mp.Pool() as pool:\n",
    "        for (tg, ps,fid, index) in  tqdm.tqdm(pool.istarmap(simulation_process, all_sweeps),total=len_all_sweeps):\n",
    "            GateTime[index] = tg\n",
    "            Psucc[index] = ps\n",
    "            Fidelity[index] = fid\n",
    "   \n",
    " \n",
    "    Directory = f'OptimizationResults/Analytical/ResC{C_val}_k{k}_Spl{max_split}_e{DeNum}_E{DENum}_t{tgNum}_r{rotNum}'\n",
    "    if not os.path.exists(Directory):\n",
    "        os.makedirs(Directory)\n",
    "    np.save(Directory+f'/Fidelity',Fidelity)\n",
    "    np.save(Directory+f'/GateTime',GateTime)\n",
    "    np.save(Directory+f'/Psucc',Psucc)\n",
    "    clear_output(wait=True)\n",
    "    "
   ]
  },
  {
   "cell_type": "markdown",
   "metadata": {},
   "source": [
    "# Plot result"
   ]
  },
  {
   "cell_type": "code",
   "execution_count": 4,
   "metadata": {},
   "outputs": [
    {
     "name": "stderr",
     "output_type": "stream",
     "text": [
      "<>:51: DeprecationWarning: invalid escape sequence \\%\n",
      "<>:52: DeprecationWarning: invalid escape sequence \\%\n",
      "<>:67: DeprecationWarning: invalid escape sequence \\L\n",
      "<>:51: DeprecationWarning: invalid escape sequence \\%\n",
      "<>:52: DeprecationWarning: invalid escape sequence \\%\n",
      "<>:67: DeprecationWarning: invalid escape sequence \\L\n",
      "<ipython-input-4-5377845e2951>:51: DeprecationWarning: invalid escape sequence \\%\n",
      "  AllLabels[i][j] += '$F='+ str(np.round(fidelity*100,decimals=2))+'\\%$\\n'\n",
      "<ipython-input-4-5377845e2951>:52: DeprecationWarning: invalid escape sequence \\%\n",
      "  AllLabels[i][j] += '$P_{succ}='+ str(np.round(p_success*100,decimals=2))+'\\%$\\n'\n",
      "<ipython-input-4-5377845e2951>:67: DeprecationWarning: invalid escape sequence \\L\n",
      "  ax.set_title(f'Gate Performance vs Cooperativity & Detuning Split \\nfor $k={kPlot} \\Leftrightarrow c = {np.round(cPlot,decimals=1)}$\\n'\n"
     ]
    },
    {
     "data": {
      "image/png": "[encoded data removed]",
      "text/plain": [
       "<Figure size 1500x1000 with 2 Axes>"
      ]
     },
     "metadata": {},
     "output_type": "display_data"
    }
   ],
   "source": [
    "Analytical = True\n",
    "kPlot = kSweep[0]\n",
    "cPlot = kPlot / (4-4*kPlot)\n",
    "\n",
    "fidelity_cap = 0.97\n",
    "interval_of_confidence = 0.99\n",
    "\n",
    "\n",
    "if Analytical:\n",
    "    subdir = 'Analytical'\n",
    "else:\n",
    "    subdir = 'Superoperator'\n",
    "AllLabels = [[\"\" for i in range(len(SplitSweep))]for j in range(len(CSweep))]\n",
    "FidelityPlot = np.zeros(np.array(AllLabels).shape)\n",
    "for (i,c) in enumerate(CSweep):\n",
    "    for (j,spl) in enumerate(SplitSweep):\n",
    "        DataDirectory = f'OptimizationResults/Analytical/ResC{c}_k{kPlot}_Spl{spl}_e{DeNum}_E{DENum}_t{tgNum}_r{rotNum}/'\n",
    "        GateTimeData = np.load(DataDirectory+\"GateTime.npy\")\n",
    "        FidelityData = np.load(DataDirectory+\"Fidelity.npy\")\n",
    "        PsuccData = np.load(DataDirectory+\"Psucc.npy\")\n",
    "        #ConcurrenceData = np.load(DataDirectory+\"Concurrence.npy\")\n",
    "\n",
    "\n",
    "        argm = ArgMin( gate_simulation_functions.gate_performance_cost_function(FidelityData,PsuccData,GateTimeData,fidelity_cap,interval_of_confidence) ) \n",
    "        #argm = ArgMin(1-FidelityData)\n",
    "        \n",
    "        #fidelity , p_success, gate_time = FidelityData[argm] , PsuccData[argm], GateTimeData[argm]\n",
    "\n",
    "\n",
    "        init_params = [ParamsSweep[i][argm[i]] for i in range(len(ParamsSweep))]\n",
    "\n",
    "        parameters_to_optimize = [ sg.var('De'),  sg.var('DE'), sg.var('tgr') , sg.var('r1_r') , sg.var('r2_r'), sg.var('r3_r'), sg.var('r4_r') ]\n",
    "        init_dict = {parameters_to_optimize[i] :ParamsSweep[i][argm[i]] for i in range(len(ParamsSweep))}\n",
    "        \n",
    "        sim.Analytical.optimize_gate_performance_hardware(init_dict,fidelity_cap,interval_of_confidence)\n",
    "        opt_tg = sim.Analytical.optimized_performance['gate_time']\n",
    "        opt_fid = sim.Analytical.optimized_performance['fidelity']\n",
    "        opt_p_success = sim.Analytical.optimized_performance['p_success']\n",
    "        fidelity , p_success, gate_time = opt_fid , opt_p_success , opt_tg\n",
    "        \n",
    "        t_conf = gate_simulation_functions.interval_of_confidence_geometric(interval_of_confidence,p_success) * gate_time\n",
    "\n",
    "        min_cost_function = gate_simulation_functions.gate_performance_cost_function(fidelity,p_success,gate_time,fidelity_cap,interval_of_confidence)\n",
    "        \n",
    "        \n",
    "        FidelityPlot[i][j] = -min_cost_function#FidelityData[argm]\n",
    "        \n",
    "        \n",
    "        \n",
    "\n",
    "        AllLabels[i][j] += '$F='+ str(np.round(fidelity*100,decimals=2))+'\\%$\\n'\n",
    "        AllLabels[i][j] += '$P_{succ}='+ str(np.round(p_success*100,decimals=2))+'\\%$\\n'\n",
    "        AllLabels[i][j] += '$t_g='+ str(int(gate_time))+r' \\,\\frac{1}{\\gamma}$'\n",
    "        AllLabels[i][j] += '\\n$t_{'+str(np.round(interval_of_confidence,decimals=2)) +'} = '+ str(int(t_conf))+r' \\,\\frac{1}{\\gamma}$'\n",
    "        AllLabels[i][j] += '\\n$c_f='+ str( np.round( min_cost_function,decimals= 5))+'$'\n",
    "        #AllLabels[i][j] += f'\\n Max at\\n{argm}'\n",
    "        \n",
    "\n",
    "\n",
    "fig, ax = plt.subplots()\n",
    "\n",
    "\n",
    "ax = sns.heatmap(FidelityPlot*100,yticklabels=CSweep,xticklabels=SplitSweep,cmap='gray', linewidth=0.5,annot=AllLabels, fmt = ''\\\n",
    "    ,cbar_kws={'label': 'Gate Fidelity (%)'}, annot_kws={\"size\": 14}) #Greys\n",
    "ax.set_ylabel('Cooperativity')\n",
    "ax.set_xlabel(r'Max Detuning Split $(\\gamma)$')\n",
    "ax.set_title(f'Gate Performance vs Cooperativity & Detuning Split \\nfor $k={kPlot} \\Leftrightarrow c = {np.round(cPlot,decimals=1)}$\\n'\n",
    "+r' $(\\Delta_e,\\Delta_E,t_g,rot)$ are optimized')\n",
    "plt.show() \n",
    "figure = ax.get_figure()\n",
    "figure.savefig(f'plots/OptimizedHeatmap.svg',transparent=False)"
   ]
  },
  {
   "cell_type": "code",
   "execution_count": null,
   "metadata": {},
   "outputs": [],
   "source": [
    "\n"
   ]
  },
  {
   "cell_type": "code",
   "execution_count": 5,
   "metadata": {},
   "outputs": [],
   "source": [
    "parameters_to_optimize = [ sg.var('De'),  sg.var('DE'), sg.var('tgr') , sg.var('r1_r') , sg.var('r2_r'), sg.var('r3_r'), sg.var('r4_r') ]\n",
    "num_parameters = len(parameters_to_optimize)\n",
    "\n",
    "\n",
    "\n",
    "\n",
    "def cost_function(params):\n",
    "    '''\n",
    "    Function that is used for minimization. Essentially it only makes use of global gate performance function.\n",
    "    '''\n",
    "    De_val, DE_val, tg_ratio , r1_ratio , r2_ratio, r3_ratio, r4_ratio = params\n",
    "    \n",
    "    tunable_parameters_dict = {sg.var('De') : De_val , sg.var('DE') : DE_val \n",
    "            , sg.var('tgr'): tg_ratio\n",
    "            , sg.var('r1_r'):r1_ratio, sg.var('r2_r'):r2_ratio,\n",
    "                sg.var('r3_r'):r3_ratio,sg.var('r4_r'):r4_ratio}\n",
    "    gate_time, p_success, fidelity_3ghz = sim.Analytical.tunable_performance(tunable_parameters_dict)\n",
    "    \n",
    "    return gate_simulation_functions.gate_performance_cost_function(fidelity_3ghz,p_success,gate_time, fidelity_cap, interval_of_confidence)\n",
    "\n",
    "\n",
    "import scipy.optimize\n",
    "def callback(x,*args,**kargs):\n",
    "    print(cost_function(x))\n",
    "\n"
   ]
  },
  {
   "cell_type": "code",
   "execution_count": 6,
   "metadata": {},
   "outputs": [],
   "source": [
    "\n",
    "\n",
    "parameters_to_optimize = [ sg.var('De'),  sg.var('DE'), sg.var('tgr') , sg.var('r1_r') , sg.var('r2_r'), sg.var('r3_r'), sg.var('r4_r') ]"
   ]
  },
  {
   "cell_type": "code",
   "execution_count": 21,
   "metadata": {},
   "outputs": [],
   "source": [
    "bounds = [[0 , max_split] , [0,DE_max] , [tg_min,tg_max]  ]\n",
    "for i in range(4): bounds.append([rot_min,rot_max]) "
   ]
  },
  {
   "cell_type": "code",
   "execution_count": 22,
   "metadata": {},
   "outputs": [
    {
     "data": {
      "text/plain": [
       "[[0, 7],\n",
       " [0, 2],\n",
       " [0.8, 1.2],\n",
       " [0.9, 1.11],\n",
       " [0.9, 1.11],\n",
       " [0.9, 1.11],\n",
       " [0.9, 1.11]]"
      ]
     },
     "execution_count": 22,
     "metadata": {},
     "output_type": "execute_result"
    }
   ],
   "source": [
    "bounds"
   ]
  },
  {
   "cell_type": "code",
   "execution_count": 23,
   "metadata": {},
   "outputs": [
    {
     "name": "stdout",
     "output_type": "stream",
     "text": [
      "differential_evolution step 1: f(x)= 0.041617\n",
      "differential_evolution step 2: f(x)= 0.041617\n",
      "differential_evolution step 3: f(x)= 0.0323333\n",
      "differential_evolution step 4: f(x)= 0.0298188\n",
      "differential_evolution step 5: f(x)= 0.0297851\n",
      "differential_evolution step 6: f(x)= 0.0297834\n",
      "differential_evolution step 7: f(x)= 0.0296644\n",
      "differential_evolution step 8: f(x)= 0.0296037\n",
      "differential_evolution step 9: f(x)= 0.0295074\n",
      "differential_evolution step 10: f(x)= 0.0295074\n",
      "differential_evolution step 11: f(x)= 0.0295074\n",
      "differential_evolution step 12: f(x)= 0.0295074\n",
      "differential_evolution step 13: f(x)= 0.0294657\n",
      "differential_evolution step 14: f(x)= 0.0293773\n",
      "differential_evolution step 15: f(x)= 0.0293755\n",
      "differential_evolution step 16: f(x)= 0.0293755\n",
      "differential_evolution step 17: f(x)= 0.0293755\n",
      "differential_evolution step 18: f(x)= 0.0293288\n",
      "differential_evolution step 19: f(x)= 0.0293082\n",
      "differential_evolution step 20: f(x)= 0.0293082\n",
      "differential_evolution step 21: f(x)= 0.0293068\n",
      "differential_evolution step 22: f(x)= 0.0293068\n",
      "differential_evolution step 23: f(x)= 0.0293068\n",
      "differential_evolution step 24: f(x)= 0.0293068\n",
      "differential_evolution step 25: f(x)= 0.0293068\n",
      "differential_evolution step 26: f(x)= 0.0292812\n",
      "differential_evolution step 27: f(x)= 0.0292812\n",
      "differential_evolution step 28: f(x)= 0.0292812\n",
      "differential_evolution step 29: f(x)= 0.0292812\n",
      "differential_evolution step 30: f(x)= 0.0292812\n",
      "differential_evolution step 31: f(x)= 0.0292738\n",
      "differential_evolution step 32: f(x)= 0.0292506\n",
      "differential_evolution step 33: f(x)= 0.0292506\n",
      "differential_evolution step 34: f(x)= 0.0292506\n",
      "differential_evolution step 35: f(x)= 0.0292506\n",
      "differential_evolution step 36: f(x)= 0.0292506\n",
      "differential_evolution step 37: f(x)= 0.0292506\n",
      "differential_evolution step 38: f(x)= 0.0292277\n",
      "differential_evolution step 39: f(x)= 0.0292277\n",
      "differential_evolution step 40: f(x)= 0.0292277\n",
      "differential_evolution step 41: f(x)= 0.0292277\n",
      "differential_evolution step 42: f(x)= 0.0292277\n",
      "differential_evolution step 43: f(x)= 0.0292277\n",
      "differential_evolution step 44: f(x)= 0.0292118\n",
      "differential_evolution step 45: f(x)= 0.0292118\n",
      "differential_evolution step 46: f(x)= 0.0292118\n"
     ]
    },
    {
     "data": {
      "text/plain": [
       "     fun: 0.029211848710421623\n",
       " message: 'Optimization terminated successfully.'\n",
       "    nfev: 5223\n",
       "     nit: 46\n",
       " success: True\n",
       "       x: array([0.38130563, 1.50587033, 0.88118476, 1.07076419, 1.05961752,\n",
       "       1.046447  , 1.06560916])"
      ]
     },
     "execution_count": 23,
     "metadata": {},
     "output_type": "execute_result"
    }
   ],
   "source": [
    "scipy.optimize.differential_evolution(cost_function,bounds=bounds, workers=16,disp=True)"
   ]
  },
  {
   "cell_type": "code",
   "execution_count": 24,
   "metadata": {},
   "outputs": [
    {
     "data": {
      "text/plain": [
       "(13.497786592288726, 0.0478472765387253, 0.9701241190817942)"
      ]
     },
     "execution_count": 24,
     "metadata": {},
     "output_type": "execute_result"
    }
   ],
   "source": [
    "x = [0.38130563, 1.50587033, 0.88118476, 1.07076419, 1.05961752,\n",
    "       1.046447  , 1.06560916]\n",
    "dix = {parameters_to_optimize[i]:x[i] for i in range(len(x))}\n",
    "sim.Analytical.tunable_performance(dix)"
   ]
  },
  {
   "cell_type": "code",
   "execution_count": 25,
   "metadata": {},
   "outputs": [],
   "source": [
    "p_success = 0.0478472765387253\n",
    "gate_time = 13.497786592288726"
   ]
  },
  {
   "cell_type": "code",
   "execution_count": 26,
   "metadata": {},
   "outputs": [
    {
     "data": {
      "text/plain": [
       "1268.7919396751402"
      ]
     },
     "execution_count": 26,
     "metadata": {},
     "output_type": "execute_result"
    }
   ],
   "source": [
    "gate_simulation_functions.interval_of_confidence_geometric(interval_of_confidence,p_success) * gate_time"
   ]
  },
  {
   "cell_type": "code",
   "execution_count": 11,
   "metadata": {},
   "outputs": [
    {
     "ename": "NameError",
     "evalue": "name 'func' is not defined",
     "output_type": "error",
     "traceback": [
      "\u001b[0;31m---------------------------------------------------------------------------\u001b[0m",
      "\u001b[0;31mNameError\u001b[0m                                 Traceback (most recent call last)",
      "\u001b[0;32m<ipython-input-11-2fef4e4f4021>\u001b[0m in \u001b[0;36m<module>\u001b[0;34m\u001b[0m\n\u001b[0;32m----> 1\u001b[0;31m \u001b[0mscipy\u001b[0m\u001b[0;34m.\u001b[0m\u001b[0moptimize\u001b[0m\u001b[0;34m.\u001b[0m\u001b[0mdual_annealing\u001b[0m\u001b[0;34m(\u001b[0m\u001b[0mfunc\u001b[0m\u001b[0;34m,\u001b[0m\u001b[0mbounds\u001b[0m\u001b[0;34m=\u001b[0m\u001b[0mbounds\u001b[0m\u001b[0;34m,\u001b[0m\u001b[0mcallback\u001b[0m\u001b[0;34m=\u001b[0m\u001b[0mcallback\u001b[0m\u001b[0;34m)\u001b[0m\u001b[0;34m\u001b[0m\u001b[0;34m\u001b[0m\u001b[0m\n\u001b[0m",
      "\u001b[0;31mNameError\u001b[0m: name 'func' is not defined"
     ]
    }
   ],
   "source": [
    "scipy.optimize.dual_annealing(func,bounds=bounds,callback=callback)"
   ]
  },
  {
   "cell_type": "code",
   "execution_count": null,
   "metadata": {},
   "outputs": [
    {
     "data": {
      "text/plain": [
       "Tuple(([0, 10], [0.05, 2], [0.9, 1.1], [0.95, 1.05], [0.95, 1.05], [0.95, 1.05], [0.95, 1.05])):(([0, 10], [0.05, 2], [0.9, 1.1], [0.95, 1.05], [0.95, 1.05], [0.95, 1.05], [0.95, 1.05]),)"
      ]
     },
     "execution_count": 59,
     "metadata": {},
     "output_type": "execute_result"
    }
   ],
   "source": []
  },
  {
   "cell_type": "code",
   "execution_count": null,
   "metadata": {},
   "outputs": [],
   "source": []
  }
 ],
 "metadata": {
  "interpreter": {
   "hash": "31f2aee4e71d21fbe5cf8b01ff0e069b9275f58929596ceb00d14d90e3e16cd6"
  },
  "kernelspec": {
   "display_name": "SageMath 9.0",
   "language": "python",
   "name": "python3"
  },
  "language_info": {
   "codemirror_mode": {
    "name": "ipython",
    "version": 3
   },
   "file_extension": ".py",
   "mimetype": "text/x-python",
   "name": "python",
   "nbconvert_exporter": "python",
   "pygments_lexer": "ipython3",
   "version": "3.8.10"
  },
  "orig_nbformat": 4
 },
 "nbformat": 4,
 "nbformat_minor": 2
}
