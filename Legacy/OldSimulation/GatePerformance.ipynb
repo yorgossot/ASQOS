{
 "cells": [
  {
   "cell_type": "code",
   "execution_count": 1,
   "metadata": {},
   "outputs": [
    {
     "name": "stdout",
     "output_type": "stream",
     "text": [
      "Initializing system O-x-O ...\n",
      "Constructing states and excitations ...\n",
      "Constructing ground and first-excited statespace ...\n",
      "Constructing gs_hamiltonian ...\n",
      "Constructing e1_hamiltonian ...\n",
      "Constructing interactions V_plus and V_minus ...\n",
      "Constructing NJ_hamiltonian ...\n",
      "Inverting NJ_hamiltonian ...\n"
     ]
    },
    {
     "name": "stderr",
     "output_type": "stream",
     "text": [
      "Error in atexit._run_exitfuncs:\n",
      "Traceback (most recent call last):\n",
      "  File \"/usr/lib/python3/dist-packages/IPython/core/history.py\", line 576, in end_session\n",
      "    self.db.execute(\"\"\"UPDATE sessions SET end=?, num_cmds=? WHERE\n",
      "sqlite3.OperationalError: disk I/O error\n"
     ]
    },
    {
     "name": "stdout",
     "output_type": "stream",
     "text": [
      "Constructing eff_hamiltonian and effective lindblad operators ...\n",
      "\n",
      "System  O-x-O  initialized in 29.6 seconds.\n",
      "\n",
      "Preparing Superoperator sub-class\n",
      "Preparing Analytical sub-class\n",
      "\n",
      "Done!\n"
     ]
    }
   ],
   "source": [
    "from NotebookLib import *\n",
    "import GateSimulation\n",
    "GateSimulation  = reload(GateSimulation)\n",
    "sim = GateSimulation.Simulation('O-x-O')"
   ]
  },
  {
   "cell_type": "markdown",
   "metadata": {},
   "source": [
    "# Obtain grid(s) of performance"
   ]
  },
  {
   "cell_type": "code",
   "execution_count": 37,
   "metadata": {},
   "outputs": [],
   "source": [
    "# Global Parameters \n",
    "kSweep = [0.98]   #[0.995]\n",
    "CSweep = [10]#[10,15]#,20,25]     #[20,25,30]\n",
    "SplitSweep = [10]#[3,5,10]  #[3,5,10]\n",
    "\n",
    "# Dimensions of first grid for optimization  --- Give odd numbers\n",
    "DeNum = 11\n",
    "DENum = 11\n",
    "tgNum = 11\n",
    "rotNum = 3  \n",
    "\n",
    "# Limits of the grid\n",
    "## DE will be multiplied by  np.sqrt(C_val)/gamma_val\n",
    "DE_min = 0.05 \n",
    "DE_max = 2\n",
    "tg_min = 0.9\n",
    "tg_max = 1.1\n",
    "rot_min = 0.95\n",
    "rot_max = 1.05"
   ]
  },
  {
   "cell_type": "markdown",
   "metadata": {},
   "source": [
    "## Using analytical"
   ]
  },
  {
   "cell_type": "code",
   "execution_count": 38,
   "metadata": {},
   "outputs": [
    {
     "name": "stdout",
     "output_type": "stream",
     "text": [
      "Simulating 1 out of 1\n"
     ]
    },
    {
     "name": "stderr",
     "output_type": "stream",
     "text": [
      "100%|██████████| 3993/3993 [00:08<00:00, 466.54it/s]\n"
     ]
    }
   ],
   "source": [
    "gamma_val = sim.parameters['gamma']\n",
    "\n",
    "SplitSweep = [spl*gamma_val for spl in SplitSweep] # for gamma_val = 1 it is not necessary\n",
    "\n",
    "AllParams = [(a,b,c) for a in kSweep for b in CSweep for c in SplitSweep] # Create a 3-d grid for hardware parameters\n",
    "\n",
    "TotalParamElems = NumElemsInList(AllParams)\n",
    "CurrentNumberOfSimulations = 1\n",
    "for (k, C_val , max_split) in AllParams:\n",
    "    print(f'Simulating {CurrentNumberOfSimulations} out of {TotalParamElems}')\n",
    "    CurrentNumberOfSimulations +=1\n",
    "    \n",
    "    c_val = k/ (4-4*k)\n",
    "    # Optimization Parameters  --- Give odd numbers\n",
    "    # De\n",
    "    DeSweep = np.linspace(0,max_split , num = DeNum)\n",
    "    # DE\n",
    "    DESweep = np.linspace(DE_min , DE_max , num = DENum) * np.sqrt(C_val)/gamma_val\n",
    "    # GateTime\n",
    "    tgSweep = np.linspace(tg_min,tg_max , num = tgNum)\n",
    "    # Rotations\n",
    "    rotSweep = np.linspace(rot_min,rot_max , num = rotNum)\n",
    "\n",
    "\n",
    "    ParamsSweep = [DeSweep ,DESweep,tgSweep,rotSweep ]\n",
    "    ResultsShape = tuple([np.shape(param)[0] for param in ParamsSweep])\n",
    "\n",
    "    Psucc = np.zeros(ResultsShape)\n",
    "    Fidelity =  np.zeros(ResultsShape)\n",
    "    GateTime =  np.zeros(ResultsShape)\n",
    "    Concurrence =  np.zeros(ResultsShape)\n",
    "    Rotations =  np.zeros(ResultsShape,dtype=tuple)\n",
    "    sim.Analytical.obtain_gate_performance_hardware(C_val,c_val,max_split)\n",
    "\n",
    "\n",
    "    def simulation_process(De_val,DE_val,tg_ratio,rot_ratio ):\n",
    "        \n",
    "        ii = np.where( DeSweep == De_val)[0][0]\n",
    "        jj = np.where( DESweep == DE_val)[0][0]\n",
    "        kk = np.where( tgSweep == tg_ratio)[0][0]\n",
    "        ll = np.where( rotSweep == rot_ratio)[0][0]\n",
    "        \n",
    "        index = (ii , jj , kk, ll )\n",
    "\n",
    "\n",
    "        subs_dictionary = {sg.var('De') : De_val , sg.var('DE') : De_val \n",
    "                        , sg.var('tgr'): tg_ratio, sg.var('rot_r'):rot_ratio}\n",
    "        \n",
    "        HL_dict = sim.Analytical.HL_dict_hw.copy()\n",
    "        for key in HL_dict:\n",
    "            if type(HL_dict[key]) is type(sg.var('x')): HL_dict[key] = HL_dict[key].subs(subs_dictionary)\n",
    "        HL_dict = { **HL_dict ,**subs_dictionary }\n",
    "        gate_time = sg.real( sim.Analytical.gate_time_symbolic.subs( HL_dict ))\n",
    "        HL_dict[sg.var('tgs')] =  gate_time\n",
    "        subs_dictionary[sg.var('tgs')] =  gate_time\n",
    "        p_success = sg.real(sim.Analytical.p_success_symbolic.subs(HL_dict))\n",
    "        try:    \n",
    "            subs_dictionary[sg.var('pss')]   = p_success\n",
    "            HL_dict[sg.var('pss')]   = p_success\n",
    "            #fidelity = sg.real(sim.Analytical.fidelity_symbolic.subs( HL_dict))\n",
    "            fid_3_ghz = sg.real(sim.Analytical.fidelity_ghz3_symbolic.subs( HL_dict))\n",
    "            fidelity = fid_3_ghz\n",
    "            #ket_vector = sim.Analytical.PureEvolutionVectorSg.column().subs(De=De_val,DE=DE_val,pss=p_success,tgs = gate_time )\n",
    "            #concurrence = GateSimulation.concurrence_from_ket( ket_vector )\n",
    "        except ValueError:\n",
    "            fidelity = 0\n",
    "\n",
    "        \n",
    "        return gate_time , p_success , fidelity , index\n",
    "\n",
    "    \n",
    "    all_sweeps = product(DeSweep,DESweep,tgSweep,rotSweep)\n",
    "    len_all_sweeps = DeNum*DENum*tgNum*rotNum\n",
    "    with mp.Pool() as pool:\n",
    "        for (tg, ps,fid, index) in  tqdm.tqdm(pool.istarmap(simulation_process, all_sweeps),total=len_all_sweeps):\n",
    "            GateTime[index] = tg\n",
    "            Psucc[index] = ps\n",
    "            Fidelity[index] = fid\n",
    "            #Concurrence[index] = con\n",
    "            #Rotations[index] = rot\n",
    "   \n",
    " \n",
    "    Directory = f'OptimizationResults/Analytical/ResC{C_val}_k{k}_Spl{max_split}_e{DeNum}_E{DENum}_t{tgNum}_r{rotNum}'\n",
    "    if not os.path.exists(Directory):\n",
    "        os.makedirs(Directory)\n",
    "    np.save(Directory+f'/Fidelity',Fidelity)\n",
    "    np.save(Directory+f'/GateTime',GateTime)\n",
    "    np.save(Directory+f'/Psucc',Psucc)\n",
    "    #np.save(Directory+f'/Concurrence',Concurrence)\n",
    "    clear_output(wait=True)\n",
    "    "
   ]
  },
  {
   "cell_type": "markdown",
   "metadata": {},
   "source": [
    "## Using superoperator simulations"
   ]
  },
  {
   "cell_type": "code",
   "execution_count": null,
   "metadata": {},
   "outputs": [
    {
     "ename": "KeyboardInterrupt",
     "evalue": "",
     "output_type": "error",
     "traceback": [
      "\u001b[0;31m---------------------------------------------------------------------------\u001b[0m",
      "\u001b[0;31mKeyboardInterrupt\u001b[0m                         Traceback (most recent call last)",
      "\u001b[0;32m<ipython-input-8-f6f4442a4543>\u001b[0m in \u001b[0;36m<module>\u001b[0;34m\u001b[0m\n\u001b[1;32m     56\u001b[0m     \u001b[0mcount_tot\u001b[0m \u001b[0;34m=\u001b[0m \u001b[0mDeNum\u001b[0m \u001b[0;34m*\u001b[0m \u001b[0mDENum\u001b[0m \u001b[0;34m*\u001b[0m \u001b[0mtgNum\u001b[0m\u001b[0;34m\u001b[0m\u001b[0;34m\u001b[0m\u001b[0m\n\u001b[1;32m     57\u001b[0m     \u001b[0mcount\u001b[0m \u001b[0;34m=\u001b[0m \u001b[0;36m0\u001b[0m\u001b[0;34m\u001b[0m\u001b[0;34m\u001b[0m\u001b[0m\n\u001b[0;32m---> 58\u001b[0;31m     \u001b[0;32mfor\u001b[0m \u001b[0;34m(\u001b[0m\u001b[0mtg\u001b[0m\u001b[0;34m,\u001b[0m \u001b[0mps\u001b[0m\u001b[0;34m,\u001b[0m\u001b[0mfid\u001b[0m\u001b[0;34m,\u001b[0m\u001b[0mcon\u001b[0m\u001b[0;34m,\u001b[0m \u001b[0mindex\u001b[0m\u001b[0;34m)\u001b[0m \u001b[0;32min\u001b[0m \u001b[0mpool\u001b[0m\u001b[0;34m.\u001b[0m\u001b[0mstarmap\u001b[0m\u001b[0;34m(\u001b[0m\u001b[0msimulation_process\u001b[0m\u001b[0;34m,\u001b[0m\u001b[0mall_sweeps\u001b[0m\u001b[0;34m)\u001b[0m\u001b[0;34m:\u001b[0m\u001b[0;34m\u001b[0m\u001b[0;34m\u001b[0m\u001b[0m\n\u001b[0m\u001b[1;32m     59\u001b[0m         \u001b[0mGateTime\u001b[0m\u001b[0;34m[\u001b[0m\u001b[0mindex\u001b[0m\u001b[0;34m]\u001b[0m \u001b[0;34m=\u001b[0m \u001b[0mtg\u001b[0m\u001b[0;34m\u001b[0m\u001b[0;34m\u001b[0m\u001b[0m\n\u001b[1;32m     60\u001b[0m         \u001b[0mPsucc\u001b[0m\u001b[0;34m[\u001b[0m\u001b[0mindex\u001b[0m\u001b[0;34m]\u001b[0m \u001b[0;34m=\u001b[0m \u001b[0mps\u001b[0m\u001b[0;34m\u001b[0m\u001b[0;34m\u001b[0m\u001b[0m\n",
      "\u001b[0;32m/usr/lib/python3.8/multiprocessing/pool.py\u001b[0m in \u001b[0;36mstarmap\u001b[0;34m(self, func, iterable, chunksize)\u001b[0m\n\u001b[1;32m    370\u001b[0m         \u001b[0;31m`\u001b[0m\u001b[0mfunc\u001b[0m\u001b[0;31m`\u001b[0m \u001b[0;32mand\u001b[0m \u001b[0;34m(\u001b[0m\u001b[0ma\u001b[0m\u001b[0;34m,\u001b[0m \u001b[0mb\u001b[0m\u001b[0;34m)\u001b[0m \u001b[0mbecomes\u001b[0m \u001b[0mfunc\u001b[0m\u001b[0;34m(\u001b[0m\u001b[0ma\u001b[0m\u001b[0;34m,\u001b[0m \u001b[0mb\u001b[0m\u001b[0;34m)\u001b[0m\u001b[0;34m.\u001b[0m\u001b[0;34m\u001b[0m\u001b[0;34m\u001b[0m\u001b[0m\n\u001b[1;32m    371\u001b[0m         '''\n\u001b[0;32m--> 372\u001b[0;31m         \u001b[0;32mreturn\u001b[0m \u001b[0mself\u001b[0m\u001b[0;34m.\u001b[0m\u001b[0m_map_async\u001b[0m\u001b[0;34m(\u001b[0m\u001b[0mfunc\u001b[0m\u001b[0;34m,\u001b[0m \u001b[0miterable\u001b[0m\u001b[0;34m,\u001b[0m \u001b[0mstarmapstar\u001b[0m\u001b[0;34m,\u001b[0m \u001b[0mchunksize\u001b[0m\u001b[0;34m)\u001b[0m\u001b[0;34m.\u001b[0m\u001b[0mget\u001b[0m\u001b[0;34m(\u001b[0m\u001b[0;34m)\u001b[0m\u001b[0;34m\u001b[0m\u001b[0;34m\u001b[0m\u001b[0m\n\u001b[0m\u001b[1;32m    373\u001b[0m \u001b[0;34m\u001b[0m\u001b[0m\n\u001b[1;32m    374\u001b[0m     def starmap_async(self, func, iterable, chunksize=None, callback=None,\n",
      "\u001b[0;32m/usr/lib/python3.8/multiprocessing/pool.py\u001b[0m in \u001b[0;36mget\u001b[0;34m(self, timeout)\u001b[0m\n\u001b[1;32m    763\u001b[0m \u001b[0;34m\u001b[0m\u001b[0m\n\u001b[1;32m    764\u001b[0m     \u001b[0;32mdef\u001b[0m \u001b[0mget\u001b[0m\u001b[0;34m(\u001b[0m\u001b[0mself\u001b[0m\u001b[0;34m,\u001b[0m \u001b[0mtimeout\u001b[0m\u001b[0;34m=\u001b[0m\u001b[0;32mNone\u001b[0m\u001b[0;34m)\u001b[0m\u001b[0;34m:\u001b[0m\u001b[0;34m\u001b[0m\u001b[0;34m\u001b[0m\u001b[0m\n\u001b[0;32m--> 765\u001b[0;31m         \u001b[0mself\u001b[0m\u001b[0;34m.\u001b[0m\u001b[0mwait\u001b[0m\u001b[0;34m(\u001b[0m\u001b[0mtimeout\u001b[0m\u001b[0;34m)\u001b[0m\u001b[0;34m\u001b[0m\u001b[0;34m\u001b[0m\u001b[0m\n\u001b[0m\u001b[1;32m    766\u001b[0m         \u001b[0;32mif\u001b[0m \u001b[0;32mnot\u001b[0m \u001b[0mself\u001b[0m\u001b[0;34m.\u001b[0m\u001b[0mready\u001b[0m\u001b[0;34m(\u001b[0m\u001b[0;34m)\u001b[0m\u001b[0;34m:\u001b[0m\u001b[0;34m\u001b[0m\u001b[0;34m\u001b[0m\u001b[0m\n\u001b[1;32m    767\u001b[0m             \u001b[0;32mraise\u001b[0m \u001b[0mTimeoutError\u001b[0m\u001b[0;34m\u001b[0m\u001b[0;34m\u001b[0m\u001b[0m\n",
      "\u001b[0;32m/usr/lib/python3.8/multiprocessing/pool.py\u001b[0m in \u001b[0;36mwait\u001b[0;34m(self, timeout)\u001b[0m\n\u001b[1;32m    760\u001b[0m \u001b[0;34m\u001b[0m\u001b[0m\n\u001b[1;32m    761\u001b[0m     \u001b[0;32mdef\u001b[0m \u001b[0mwait\u001b[0m\u001b[0;34m(\u001b[0m\u001b[0mself\u001b[0m\u001b[0;34m,\u001b[0m \u001b[0mtimeout\u001b[0m\u001b[0;34m=\u001b[0m\u001b[0;32mNone\u001b[0m\u001b[0;34m)\u001b[0m\u001b[0;34m:\u001b[0m\u001b[0;34m\u001b[0m\u001b[0;34m\u001b[0m\u001b[0m\n\u001b[0;32m--> 762\u001b[0;31m         \u001b[0mself\u001b[0m\u001b[0;34m.\u001b[0m\u001b[0m_event\u001b[0m\u001b[0;34m.\u001b[0m\u001b[0mwait\u001b[0m\u001b[0;34m(\u001b[0m\u001b[0mtimeout\u001b[0m\u001b[0;34m)\u001b[0m\u001b[0;34m\u001b[0m\u001b[0;34m\u001b[0m\u001b[0m\n\u001b[0m\u001b[1;32m    763\u001b[0m \u001b[0;34m\u001b[0m\u001b[0m\n\u001b[1;32m    764\u001b[0m     \u001b[0;32mdef\u001b[0m \u001b[0mget\u001b[0m\u001b[0;34m(\u001b[0m\u001b[0mself\u001b[0m\u001b[0;34m,\u001b[0m \u001b[0mtimeout\u001b[0m\u001b[0;34m=\u001b[0m\u001b[0;32mNone\u001b[0m\u001b[0;34m)\u001b[0m\u001b[0;34m:\u001b[0m\u001b[0;34m\u001b[0m\u001b[0;34m\u001b[0m\u001b[0m\n",
      "\u001b[0;32m/usr/lib/python3.8/threading.py\u001b[0m in \u001b[0;36mwait\u001b[0;34m(self, timeout)\u001b[0m\n\u001b[1;32m    556\u001b[0m             \u001b[0msignaled\u001b[0m \u001b[0;34m=\u001b[0m \u001b[0mself\u001b[0m\u001b[0;34m.\u001b[0m\u001b[0m_flag\u001b[0m\u001b[0;34m\u001b[0m\u001b[0;34m\u001b[0m\u001b[0m\n\u001b[1;32m    557\u001b[0m             \u001b[0;32mif\u001b[0m \u001b[0;32mnot\u001b[0m \u001b[0msignaled\u001b[0m\u001b[0;34m:\u001b[0m\u001b[0;34m\u001b[0m\u001b[0;34m\u001b[0m\u001b[0m\n\u001b[0;32m--> 558\u001b[0;31m                 \u001b[0msignaled\u001b[0m \u001b[0;34m=\u001b[0m \u001b[0mself\u001b[0m\u001b[0;34m.\u001b[0m\u001b[0m_cond\u001b[0m\u001b[0;34m.\u001b[0m\u001b[0mwait\u001b[0m\u001b[0;34m(\u001b[0m\u001b[0mtimeout\u001b[0m\u001b[0;34m)\u001b[0m\u001b[0;34m\u001b[0m\u001b[0;34m\u001b[0m\u001b[0m\n\u001b[0m\u001b[1;32m    559\u001b[0m             \u001b[0;32mreturn\u001b[0m \u001b[0msignaled\u001b[0m\u001b[0;34m\u001b[0m\u001b[0;34m\u001b[0m\u001b[0m\n\u001b[1;32m    560\u001b[0m \u001b[0;34m\u001b[0m\u001b[0m\n",
      "\u001b[0;32m/usr/lib/python3.8/threading.py\u001b[0m in \u001b[0;36mwait\u001b[0;34m(self, timeout)\u001b[0m\n\u001b[1;32m    300\u001b[0m         \u001b[0;32mtry\u001b[0m\u001b[0;34m:\u001b[0m    \u001b[0;31m# restore state no matter what (e.g., KeyboardInterrupt)\u001b[0m\u001b[0;34m\u001b[0m\u001b[0;34m\u001b[0m\u001b[0m\n\u001b[1;32m    301\u001b[0m             \u001b[0;32mif\u001b[0m \u001b[0mtimeout\u001b[0m \u001b[0;32mis\u001b[0m \u001b[0;32mNone\u001b[0m\u001b[0;34m:\u001b[0m\u001b[0;34m\u001b[0m\u001b[0;34m\u001b[0m\u001b[0m\n\u001b[0;32m--> 302\u001b[0;31m                 \u001b[0mwaiter\u001b[0m\u001b[0;34m.\u001b[0m\u001b[0macquire\u001b[0m\u001b[0;34m(\u001b[0m\u001b[0;34m)\u001b[0m\u001b[0;34m\u001b[0m\u001b[0;34m\u001b[0m\u001b[0m\n\u001b[0m\u001b[1;32m    303\u001b[0m                 \u001b[0mgotit\u001b[0m \u001b[0;34m=\u001b[0m \u001b[0;32mTrue\u001b[0m\u001b[0;34m\u001b[0m\u001b[0;34m\u001b[0m\u001b[0m\n\u001b[1;32m    304\u001b[0m             \u001b[0;32melse\u001b[0m\u001b[0;34m:\u001b[0m\u001b[0;34m\u001b[0m\u001b[0;34m\u001b[0m\u001b[0m\n",
      "\u001b[0;31mKeyboardInterrupt\u001b[0m: "
     ]
    }
   ],
   "source": [
    "realistic_simulation = False\n",
    "\n",
    "gamma_val = sim.parameters['gamma']\n",
    "\n",
    "SplitSweep = [spl*gamma_val for spl in SplitSweep] # for gamma_val = 1 it is not necessary\n",
    "\n",
    "AllParams = [(a,b,c) for a in kSweep for b in CSweep for c in SplitSweep] # Create a 3-d grid for hardware parameters\n",
    "\n",
    "TotalParamElems = NumElemsInList(AllParams)\n",
    "CurrentNumberOfSimulations = 0\n",
    "for (k, C_val , max_split) in AllParams:\n",
    "    #progressBar(CurrentNumberOfSimulations, TotalParamElems, barLength = 60)\n",
    "    CurrentNumberOfSimulations +=1\n",
    "    \n",
    "    c_val = k/ (4-4*k)\n",
    "    # Optimization Parameters  --- Give odd numbers\n",
    "    # De\n",
    "    DeSweep = np.linspace(0,max_split , num = DeNum)\n",
    "    # DE\n",
    "    \n",
    "    DESweep = np.linspace(0.1 , 2 , num = DENum) * np.sqrt(C_val)/gamma_val\n",
    "    # GateTime\n",
    "    \n",
    "    tgSweep = np.linspace(0.90,1.10 , num = tgNum)\n",
    "\n",
    "    ParamsSweep = [DeSweep ,DESweep,tgSweep ]\n",
    "    ResultsShape = tuple([np.shape(param)[0] for param in ParamsSweep])\n",
    "\n",
    "    Psucc = np.zeros(ResultsShape)\n",
    "    Fidelity =  np.zeros(ResultsShape)\n",
    "    GateTime =  np.zeros(ResultsShape)\n",
    "    Concurrence = np.zeros(ResultsShape)\n",
    "\n",
    "\n",
    "    def simulation_process(De_val,DE_val,tg_ratio ):\n",
    "        \n",
    "        \n",
    "        ii = np.where( DeSweep == De_val)[0][0]\n",
    "        jj = np.where( DESweep == DE_val)[0][0]\n",
    "        kk = np.where( tgSweep == tg_ratio)[0][0]\n",
    "        index = (ii , jj , kk)\n",
    "\n",
    "        super_dict = {'C' : C_val ,'c': c_val,\\\n",
    "                'De': De_val ,'De0': De_val - max_split, \\\n",
    "                'DE': DE_val ,'tgr': tg_ratio}\n",
    "        performance = sim.Superoperator.Simulate(super_dict , realistic = realistic_simulation) \n",
    "        gate_time = performance['gate_time']\n",
    "        p_success = performance['p_success']\n",
    "        fidelity = performance['fidelity']\n",
    "        #concurrence = performance['concurrence']\n",
    "\n",
    "        return gate_time , p_success , fidelity , index\n",
    "\n",
    "    pool = mp.Pool()\n",
    "    all_sweeps = product(DeSweep,DESweep,tgSweep)\n",
    "    count_tot = DeNum * DENum * tgNum\n",
    "    count = 0 \n",
    "    for (tg, ps,fid, index) in pool.starmap(simulation_process,all_sweeps):\n",
    "        GateTime[index] = tg\n",
    "        Psucc[index] = ps\n",
    "        Fidelity[index] = fid\n",
    "        #Concurrence[index] = con\n",
    "        \n",
    "        \n",
    "   \n",
    " \n",
    "    Directory = f'OptimizationResults/Superoperator/ResC{C_val}_k{k}_Spl{max_split}_e{DeNum}_E{DENum}_t{tgNum}'\n",
    "    if not os.path.exists(Directory):\n",
    "        os.makedirs(Directory)\n",
    "    np.save(Directory+f'/Fidelity',Fidelity)\n",
    "    np.save(Directory+f'/GateTime',GateTime)\n",
    "    np.save(Directory+f'/Psucc',Psucc)\n",
    "    #np.save(Directory+f'/Concurrence',Concurrence)"
   ]
  },
  {
   "cell_type": "markdown",
   "metadata": {},
   "source": [
    "# Plot result"
   ]
  },
  {
   "cell_type": "code",
   "execution_count": 39,
   "metadata": {},
   "outputs": [
    {
     "name": "stderr",
     "output_type": "stream",
     "text": [
      "<>:39: DeprecationWarning: invalid escape sequence \\L\n",
      "<>:39: DeprecationWarning: invalid escape sequence \\L\n",
      "<ipython-input-39-07d390f8a687>:39: DeprecationWarning: invalid escape sequence \\L\n",
      "  ax.set_title(f'Gate Performance vs Cooperativity & Detuning Split \\nfor $k={kPlot} \\Leftrightarrow c = {np.round(cPlot,decimals=1)}$\\n'+r' $(\\Delta_e,\\Delta_E,t_g,rot)$')\n"
     ]
    },
    {
     "data": {
      "image/png": "[encoded data removed]",
      "text/plain": [
       "<Figure size 1500x1000 with 2 Axes>"
      ]
     },
     "metadata": {},
     "output_type": "display_data"
    }
   ],
   "source": [
    "Analytical = True\n",
    "kPlot = kSweep[0]\n",
    "cPlot = kPlot / (4-4*kPlot)\n",
    "\n",
    "\n",
    "\n",
    "if Analytical:\n",
    "    subdir = 'Analytical'\n",
    "else:\n",
    "    subdir = 'Superoperator'\n",
    "AllLabels = [[\"\" for i in range(len(SplitSweep))]for j in range(len(CSweep))]\n",
    "FidelityPlot = np.zeros(np.array(AllLabels).shape)\n",
    "for (i,c) in enumerate(CSweep):\n",
    "    for (j,spl) in enumerate(SplitSweep):\n",
    "        DataDirectory = f'OptimizationResults/Analytical/ResC{c}_k{kPlot}_Spl{spl}_e{DeNum}_E{DENum}_t{tgNum}_r{rotNum}/'\n",
    "        GateTimeData = np.load(DataDirectory+\"GateTime.npy\")\n",
    "        FidelityData = np.load(DataDirectory+\"Fidelity.npy\")\n",
    "        PsuccData = np.load(DataDirectory+\"Psucc.npy\")\n",
    "        #ConcurrenceData = np.load(DataDirectory+\"Concurrence.npy\")\n",
    "\n",
    "        #argm = ArgMin( GateSimulation.gate_performance_cost_function(FidelityData,PsuccData,GateTimeData) ) \n",
    "        argm = ArgMin(1-FidelityData)\n",
    "        FidelityPlot[i][j] = FidelityData[argm]\n",
    "\n",
    "        AllLabels[i][j] += '$F='+ str(np.round(FidelityData[argm]*100,decimals=2))+'%$\\n'\n",
    "        AllLabels[i][j] += '$P_{succ}='+ str(np.round(PsuccData[argm]*100,decimals=2))+'%$\\n'\n",
    "        AllLabels[i][j] += '$t_g='+ str(int(GateTimeData[argm]))+r' \\,\\frac{1}{\\gamma}$'\n",
    "        AllLabels[i][j] += f'\\n Max at\\n{argm}'\n",
    "        \n",
    "\n",
    "\n",
    "fig, ax = plt.subplots()\n",
    "\n",
    "\n",
    "ax = sns.heatmap(FidelityPlot*100,yticklabels=CSweep,xticklabels=SplitSweep,cmap='gray', linewidth=0.5,annot=AllLabels, fmt = ''\\\n",
    "    ,cbar_kws={'label': 'Gate Fidelity (%)'}, annot_kws={\"size\": 14}) #Greys\n",
    "ax.set_ylabel('Cooperativity')\n",
    "ax.set_xlabel(r'Max Detuning Split $(\\gamma)$')\n",
    "ax.set_title(f'Gate Performance vs Cooperativity & Detuning Split \\nfor $k={kPlot} \\Leftrightarrow c = {np.round(cPlot,decimals=1)}$\\n'+r' $(\\Delta_e,\\Delta_E,t_g,rot)$')\n",
    "plt.show() \n",
    "figure = ax.get_figure()\n",
    "figure.savefig(f'plots/OptimizedHeatmap.svg',transparent=False)"
   ]
  },
  {
   "cell_type": "code",
   "execution_count": 34,
   "metadata": {},
   "outputs": [
    {
     "name": "stdout",
     "output_type": "stream",
     "text": [
      "57.11772857419612\n",
      "0.9695177628586176\n"
     ]
    }
   ],
   "source": [
    "init_params = [DeSweep[argm[0]],DESweep[argm[1]],tgSweep[argm[2]],rotSweep[argm[3]]]\n",
    "print(GateTimeData[argm])\n",
    "print(FidelityData[argm])"
   ]
  },
  {
   "cell_type": "code",
   "execution_count": 14,
   "metadata": {},
   "outputs": [
    {
     "name": "stdout",
     "output_type": "stream",
     "text": [
      "{'fidelity': 0.9492869455856261, 'p_success': 0.4334525913436266, 'gate_time': 2.097598864786638, 'tgr': 0.8033230710023522, 'De': 6.355403902976283, 'DE': 3.474904428732481, 'r1r': 1.2522940386929466, 'r2r': 1.1784404635028882}\n"
     ]
    }
   ],
   "source": [
    "sim.Analytical.optimize_gate_performance_hardware(init_params)\n",
    "print(sim.Analytical.optimized_dict)"
   ]
  },
  {
   "cell_type": "code",
   "execution_count": 15,
   "metadata": {},
   "outputs": [
    {
     "data": {
      "text/plain": [
       "{'C': 100, 'c': 249.74999999999977, 'max_split': 10}"
      ]
     },
     "execution_count": 15,
     "metadata": {},
     "output_type": "execute_result"
    }
   ],
   "source": [
    "sim.Analytical.hardware_dict"
   ]
  },
  {
   "cell_type": "code",
   "execution_count": 16,
   "metadata": {},
   "outputs": [
    {
     "data": {
      "text/plain": [
       "{'fidelity': 0.9471475925835855,\n",
       " 'p_success': 0.4374446295000347,\n",
       " 'gate_time': 2.0975988647866375,\n",
       " 'concurrence': 0.812830199036987}"
      ]
     },
     "execution_count": 16,
     "metadata": {},
     "output_type": "execute_result"
    }
   ],
   "source": [
    "super = sim.Superoperator\n",
    "\n",
    "super_variables = ['C','c','De','De0','DE','tgr','r1r','r2r']\n",
    "\n",
    "super_dict = dict()\n",
    "super_dict['De0'] =   sim.Analytical.optimized_dict['De'] - sim.Analytical.hardware_dict['max_split']\n",
    "for param in super_variables:\n",
    "    if param in sim.Analytical.hardware_dict:\n",
    "        exec(f\"super_dict['{param}'] = sim.Analytical.hardware_dict['{param}'] \")\n",
    "    elif param in sim.Analytical.optimized_dict:\n",
    "        exec(f\"super_dict['{param}'] = sim.Analytical.optimized_dict['{param}'] \")\n",
    "\n",
    "#super.realistic_parameters['gamma_g'] = 0.01\n",
    "#super.realistic_parameters['gamma_f'] = 0.99\n",
    "super.Simulate(super_dict,realistic = True)"
   ]
  },
  {
   "cell_type": "code",
   "execution_count": 17,
   "metadata": {},
   "outputs": [
    {
     "data": {
      "text/plain": [
       "{'fidelity': 0.9471475925835855,\n",
       " 'p_success': 0.4374446295000347,\n",
       " 'gate_time': 2.0975988647866375,\n",
       " 'concurrence': 0.812830199036987}"
      ]
     },
     "execution_count": 17,
     "metadata": {},
     "output_type": "execute_result"
    }
   ],
   "source": [
    "super.performance"
   ]
  },
  {
   "cell_type": "code",
   "execution_count": 24,
   "metadata": {},
   "outputs": [
    {
     "name": "stdout",
     "output_type": "stream",
     "text": [
      "Cost function value: 0.05058254490031233 , fidelity=0.94942 , p_success=0.48418, tg=3.88955\n",
      "Cost function value: -0.07403560481375633 , fidelity=0.95345 , p_success=0.47067, tg=3.79465\n",
      "Cost function value: -0.06521402707136098 , fidelity=0.95421 , p_success=0.48091, tg=4.17403\n",
      "Cost function value: -0.06503662203448551 , fidelity=0.95574 , p_success=0.46981, tg=4.08403\n",
      "Cost function value: -0.07448179025294993 , fidelity=0.9549 , p_success=0.48418, tg=3.88955\n",
      "Cost function value: -0.07448179025294993 , fidelity=0.95235 , p_success=0.48418, tg=3.88955\n",
      "Cost function value: -0.06672473856334978 , fidelity=0.95977 , p_success=0.47181, tg=4.04206\n",
      "step = 1, (De,DE,tgr,r1,r2) = [5.     4.8    0.9    0.9975 1.    ] \n",
      "Cost function value: -0.07767895231690661 , fidelity=0.95257 , p_success=0.48807, tg=3.82264\n",
      "Cost function value: 0.05359897811942149 , fidelity=0.9464 , p_success=0.49824, tg=3.68049\n",
      "step = 2, (De,DE,tgr,r1,r2) = [5.14   4.9344 0.8622 0.9766 1.028 ] \n",
      "Cost function value: -0.08212440864334924 , fidelity=0.95593 , p_success=0.47873, tg=3.62329\n",
      "Cost function value: -0.09140626443345293 , fidelity=0.95547 , p_success=0.47731, tg=3.37545\n",
      "step = 3, (De,DE,tgr,r1,r2) = [5.294   4.45824 0.88812 1.00586 1.0588 ] \n",
      "Cost function value: 0.051383717235907844 , fidelity=0.94862 , p_success=0.49048, tg=3.4771\n",
      "Cost function value: -0.07233680741153807 , fidelity=0.95745 , p_success=0.47645, tg=3.89454\n",
      "step = 4, (De,DE,tgr,r1,r2) = [5.294   4.45824 0.88812 1.00586 1.0588 ] \n",
      "Cost function value: -0.08448747260732731 , fidelity=0.95188 , p_success=0.48579, tg=3.61212\n",
      "step = 5, (De,DE,tgr,r1,r2) = [5.294   4.45824 0.88812 1.00586 1.0588 ] \n",
      "Cost function value: -0.08683967942955895 , fidelity=0.95301 , p_success=0.49615, tg=3.62581\n",
      "step = 6, (De,DE,tgr,r1,r2) = [5.294   4.45824 0.88812 1.00586 1.0588 ] \n",
      "Cost function value: -0.09176372870182067 , fidelity=0.95407 , p_success=0.48854, tg=3.44615\n",
      "Cost function value: -0.10131228385050339 , fidelity=0.95161 , p_success=0.49029, tg=3.24024\n",
      "step = 7, (De,DE,tgr,r1,r2) = [5.344928   4.53324288 0.83818944 1.08393632 1.0109856 ] \n",
      "Cost function value: -0.10329855804800733 , fidelity=0.95219 , p_success=0.4906, tg=3.2003\n",
      "Cost function value: 0.05164780958637005 , fidelity=0.94835 , p_success=0.49264, tg=2.89547\n",
      "step = 8, (De,DE,tgr,r1,r2) = [5.3679232  4.51545907 0.83406874 1.02636541 1.07838464] \n",
      "Cost function value: -0.11093040306733862 , fidelity=0.95085 , p_success=0.48851, tg=3.03554\n",
      "Cost function value: 0.057888658329921405 , fidelity=0.94211 , p_success=0.48843, tg=2.70961\n",
      "step = 9, (De,DE,tgr,r1,r2) = [5.31909248 4.2134827  0.86061623 1.06717157 1.0705385 ] \n",
      "Warning: Maximum number of iterations has been exceeded.\n"
     ]
    }
   ],
   "source": [
    "super.optimize_gate_performance_hardware(init_params , sim.Analytical.hardware_dict , max_iter = 10)"
   ]
  },
  {
   "cell_type": "code",
   "execution_count": 19,
   "metadata": {},
   "outputs": [
    {
     "data": {
      "text/plain": [
       "{'fidelity': 0.9508513233731039,\n",
       " 'p_success': 0.48851048125750124,\n",
       " 'gate_time': 3.0355387915923635,\n",
       " 'tgr': 0.8606162303999991,\n",
       " 'De': 5.319092480000004,\n",
       " 'DE': 4.213482700799999,\n",
       " 'r1r': 1.0671715712000014,\n",
       " 'r2r': 1.0705384960000006}"
      ]
     },
     "execution_count": 19,
     "metadata": {},
     "output_type": "execute_result"
    }
   ],
   "source": [
    "super.optimized_dict "
   ]
  },
  {
   "cell_type": "code",
   "execution_count": 23,
   "metadata": {},
   "outputs": [],
   "source": [
    "maximum_cost = 1\n",
    "def performance_makes_sense(fidelity,p_success,gate_time):\n",
    "    '''\n",
    "    Checks if performance parameters make sense.\n",
    "    '''\n",
    "    performance_array = np.array([fidelity,p_success,gate_time])\n",
    "    if np.any(np.zeros(3) >= performance_array):\n",
    "        return False\n",
    "    if np.any(np.full_like(performance_array,np.inf) == performance_array):\n",
    "        return False\n",
    "    if fidelity > 1.001 or p_success > 1.001:\n",
    "        return False\n",
    "    return True\n",
    "\n",
    "def gate_performance_cost_function(fidelity,p_success,gate_time):\n",
    "    '''\n",
    "    Cost function to be minimized in order to achieve maximum performance.\n",
    "    Designed to handle arrays as well.\n",
    "    The function should be smaller than 1.\n",
    "    '''\n",
    "\n",
    "    def performance_function(fidelity,p_success,gate_time):\n",
    "        '''\n",
    "        Here the actual cost function is defined.\n",
    "        '''\n",
    "        if performance_makes_sense(fidelity, p_success, gate_time):\n",
    "            fidelity_cap = 0.946\n",
    "            avg_time_to_success = max(gate_time/p_success , 1e-10)\n",
    "            if fidelity >= fidelity_cap:\n",
    "                cost = maximum_cost - fidelity_cap - 1/avg_time_to_success\n",
    "            else:\n",
    "                cost = maximum_cost - fidelity\n",
    "        else:\n",
    "            # if the performance parameters dont make sense, give the maximum cost \n",
    "            cost = maximum_cost\n",
    "        return cost\n",
    "    \n",
    "    # handling of arrays\n",
    "    if type(fidelity) != np.ndarray:\n",
    "        return performance_function(fidelity,p_success,gate_time)\n",
    "    else:\n",
    "        cost_array = np.zeros_like(fidelity)\n",
    "        for idx, _ in np.ndenumerate(fidelity):\n",
    "            cost_array[idx] = performance_function(fidelity[idx] ,p_success[idx] ,gate_time[idx] )\n",
    "        return cost_array\n",
    "GateSimulation  = reload(GateSimulation)"
   ]
  },
  {
   "cell_type": "code",
   "execution_count": 2,
   "metadata": {},
   "outputs": [],
   "source": [
    "from GateSimulationFunctions import *\n",
    "def obtain_gate_performance_hardware(self, C_val , c_val, max_split):\n",
    "    '''\n",
    "    Obtain the gate performance given the hardware setting. Detunings are still allowed to vary.\n",
    "    '''\n",
    "    \n",
    "    De0_val =  sg.var('De') - max_split\n",
    "    \n",
    "    GSRange = range(self.setup.gs_dim)\n",
    "\n",
    "    CcDe0_dict = {sg.var('C'): C_val , sg.var('c'): c_val ,sg.var('De0'): De0_val}\n",
    "\n",
    "    H = [self.basic_substitution(self.setup.eff_hamiltonian_gs[diag,diag]).subs(CcDe0_dict) for diag in GSRange]\n",
    "\n",
    "    H_symbolic = [ sg.var(f'H_{diag}') for diag in GSRange] \n",
    "\n",
    "    H_dict = {sg.var(f'H_{diag}'): H[diag] for diag in GSRange}\n",
    "    \n",
    "    self.gate_time_symbolic =  sg.abs_symbolic( np.pi  /(H_symbolic[3]+H_symbolic[0]-H_symbolic[1]-H_symbolic[2]) ) * sg.var('tgr') #tgr : gate time ratio\n",
    "    \n",
    "    gate_time_symbolic = sg.var('tgs')\n",
    "\n",
    "\n",
    "    eff_eff_hamiltonian_symbolic = [-1j*H_symbolic[i] for i in GSRange ]\n",
    "\n",
    "\n",
    "    loss_factors_symbolic = [0 for i in GSRange]\n",
    "    \n",
    "    L_symbolic =[]\n",
    "    L_dict = {}\n",
    "    for lind_op in range(self.lind_op_number):\n",
    "        for which in GSRange:   \n",
    "            l_symbolic =  sg.var(sg.var(f'L_{lind_op}_{which}' , domain='complex'))\n",
    "            \n",
    "            L_num = self.EffLindbladElements[lind_op][which]\n",
    "            if type(L_num) is type(sg.var('x')): L_num = L_num.subs(C=C_val, c=c_val, De0 = De0_val)\n",
    "            \n",
    "            L_symbolic.append( l_symbolic)\n",
    "            L_dict[l_symbolic] = L_num\n",
    "            \n",
    "            loss_symbolic = l_symbolic* sg.conjugate(l_symbolic)\n",
    "\n",
    "            eff_eff_hamiltonian_symbolic[which]  -= loss_symbolic / 2\n",
    "            loss_factors_symbolic[which] += loss_symbolic * gate_time_symbolic\n",
    "\n",
    "    \n",
    "\n",
    "    init_state = np.array([1,1,1,1])/2\n",
    "\n",
    "    p_success_symbolic = 0\n",
    "    for i in GSRange:\n",
    "        p_success_symbolic += init_state[i]**2 * np.exp( - loss_factors_symbolic[i])\n",
    "    self.p_success_symbolic = p_success_symbolic\n",
    "    \n",
    "    PSuccess_symbolic = sg.var('pss')\n",
    "\n",
    "\n",
    "    pure_evolution_unitary_symbolic = []  \n",
    "    for i in GSRange:\n",
    "        evolution_symbolic = sg.exp(eff_eff_hamiltonian_symbolic[i]*gate_time_symbolic)  \n",
    "        pure_evolution_unitary_symbolic.append( evolution_symbolic )\n",
    "\n",
    "    evolution_unitary_symbolic = sg.Matrix(sg.SR,np.diag(pure_evolution_unitary_symbolic))/ sg.sqrt(PSuccess_symbolic)\n",
    "    \n",
    "\n",
    "    # Post process rotations\n",
    "    rot_r = sg.var('rot_r')\n",
    "    r1 = - gate_time_symbolic * (H_symbolic[0] - H_symbolic[2]) * rot_r  \n",
    "    dim = self.setup.gs_dim\n",
    "    R1_symbolic = sg.Matrix(sg.SR,np.zeros((dim,dim)))\n",
    "    R1_list = [sg.exp(sg.I*r1*i) for i in range(2) for j in range(2) ]\n",
    "    for i in range(dim):\n",
    "        R1_symbolic[i,i] = R1_list[i]\n",
    "\n",
    "    r2 = -gate_time_symbolic * (H_symbolic[0] - H_symbolic[1]) * rot_r\n",
    "    R2_symbolic = sg.Matrix(sg.SR,np.zeros((dim,dim)))\n",
    "    R2_list = [sg.exp(sg.I*r2*j) for i in range(2) for j in range(2) ]\n",
    "    for i in range(dim):    \n",
    "        R2_symbolic[i,i] = R2_list[i]\n",
    "\n",
    "    # Simulate\n",
    "\n",
    "    FinalVector = sg.vector(np.array([1,1,1,-1])/2)\n",
    "\n",
    "\n",
    "    unitary_with_rotations_symbolic = R1_symbolic*R2_symbolic*evolution_unitary_symbolic\n",
    "    \n",
    "    # The following expressions are not fully expressed in terms of detunings necessarily.\n",
    "    self.fidelity_symbolic_hw        = sg.abs_symbolic(( unitary_with_rotations_symbolic*sg.vector(init_state) ) *FinalVector) \n",
    "    self.fidelity_ghz3_symbolic_hw   = GHZ_3_symbolic_fidelity_from_evolution(unitary_with_rotations_symbolic) \n",
    "\n",
    "\n",
    "    self.substitution_dict = {**H_dict , **L_dict}\n",
    "\n",
    "\n",
    "    # A dictionary of the hardware setting\n",
    "    self.hardware_dict = {'C' : C_val , 'c' : c_val , 'max_split' : max_split}"
   ]
  },
  {
   "cell_type": "code",
   "execution_count": 3,
   "metadata": {},
   "outputs": [],
   "source": [
    "C_val = c_val = max_split = 100\n",
    "obtain_gate_performance_hardware(sim.Analytical, C_val , c_val, max_split)"
   ]
  },
  {
   "cell_type": "code",
   "execution_count": 4,
   "metadata": {},
   "outputs": [],
   "source": [
    "import cProfile\n"
   ]
  },
  {
   "cell_type": "code",
   "execution_count": 5,
   "metadata": {},
   "outputs": [
    {
     "name": "stdout",
     "output_type": "stream",
     "text": [
      "Timer unit: 1e-06 s\n",
      "\n",
      "Total time: 10.5547 s\n",
      "File: <ipython-input-2-2268a05db9b5>\n",
      "Function: obtain_gate_performance_hardware at line 2\n",
      "\n",
      "Line #      Hits         Time  Per Hit   % Time  Line Contents\n",
      "==============================================================\n",
      "     2                                           def obtain_gate_performance_hardware(self, C_val , c_val, max_split):\n",
      "     3                                               '''\n",
      "     4                                               Obtain the gate performance given the hardware setting. Detunings are still allowed to vary.\n",
      "     5                                               '''\n",
      "     6                                               \n",
      "     7         1         80.0     80.0      0.0      De0_val =  sg.var('De') - max_split\n",
      "     8                                               \n",
      "     9         1          5.0      5.0      0.0      GSRange = range(self.setup.gs_dim)\n",
      "    10                                           \n",
      "    11         1         29.0     29.0      0.0      CcDe0_dict = {sg.var('C'): C_val , sg.var('c'): c_val ,sg.var('De0'): De0_val}\n",
      "    12                                           \n",
      "    13         1      94013.0  94013.0      0.9      H = [self.basic_substitution(self.setup.eff_hamiltonian_gs[diag,diag]).subs(CcDe0_dict) for diag in GSRange]\n",
      "    14                                           \n",
      "    15         1         62.0     62.0      0.0      H_symbolic = [ sg.var(f'H_{diag}') for diag in GSRange] \n",
      "    16                                           \n",
      "    17         1         32.0     32.0      0.0      H_dict = {sg.var(f'H_{diag}'): H[diag] for diag in GSRange}\n",
      "    18                                               \n",
      "    19         1         67.0     67.0      0.0      self.gate_time_symbolic =  sg.abs_symbolic( np.pi  /(H_symbolic[3]+H_symbolic[0]-H_symbolic[1]-H_symbolic[2]) ) * sg.var('tgr') #tgr : gate time ratio\n",
      "    20                                               \n",
      "    21         1         12.0     12.0      0.0      gate_time_symbolic = sg.var('tgs')\n",
      "    22                                           \n",
      "    23                                           \n",
      "    24         1         17.0     17.0      0.0      eff_eff_hamiltonian_symbolic = [-1j*H_symbolic[i] for i in GSRange ]\n",
      "    25                                           \n",
      "    26                                           \n",
      "    27         1          3.0      3.0      0.0      loss_factors_symbolic = [0 for i in GSRange]\n",
      "    28                                               \n",
      "    29         1          3.0      3.0      0.0      L_symbolic =[]\n",
      "    30         1          2.0      2.0      0.0      L_dict = {}\n",
      "    31        12         30.0      2.5      0.0      for lind_op in range(self.lind_op_number):\n",
      "    32        55        151.0      2.7      0.0          for which in GSRange:   \n",
      "    33        44   10424805.0 236927.4     98.8              l_symbolic =  sg.var(sg.var(f'L_{lind_op}_{which}' , domain='complex'))\n",
      "    34                                                       \n",
      "    35        44        255.0      5.8      0.0              L_num = self.EffLindbladElements[lind_op][which]\n",
      "    36        44      19609.0    445.7      0.2              if type(L_num) is type(sg.var('x')): L_num = L_num.subs(C=C_val, c=c_val, De0 = De0_val)\n",
      "    37                                                       \n",
      "    38        44        163.0      3.7      0.0              L_symbolic.append( l_symbolic)\n",
      "    39        44        150.0      3.4      0.0              L_dict[l_symbolic] = L_num\n",
      "    40                                                       \n",
      "    41        44        827.0     18.8      0.0              loss_symbolic = l_symbolic* sg.conjugate(l_symbolic)\n",
      "    42                                           \n",
      "    43        44        925.0     21.0      0.0              eff_eff_hamiltonian_symbolic[which]  -= loss_symbolic / 2\n",
      "    44        44        236.0      5.4      0.0              loss_factors_symbolic[which] += loss_symbolic * gate_time_symbolic\n",
      "    45                                           \n",
      "    46                                               \n",
      "    47                                           \n",
      "    48         1         32.0     32.0      0.0      init_state = np.array([1,1,1,1])/2\n",
      "    49                                           \n",
      "    50         1          3.0      3.0      0.0      p_success_symbolic = 0\n",
      "    51         5         16.0      3.2      0.0      for i in GSRange:\n",
      "    52         4        350.0     87.5      0.0          p_success_symbolic += init_state[i]**2 * np.exp( - loss_factors_symbolic[i])\n",
      "    53         1         28.0     28.0      0.0      self.p_success_symbolic = p_success_symbolic\n",
      "    54                                               \n",
      "    55         1         60.0     60.0      0.0      PSuccess_symbolic = sg.var('pss')\n",
      "    56                                           \n",
      "    57                                           \n",
      "    58         1          2.0      2.0      0.0      pure_evolution_unitary_symbolic = []  \n",
      "    59         5         13.0      2.6      0.0      for i in GSRange:\n",
      "    60         4        192.0     48.0      0.0          evolution_symbolic = sg.exp(eff_eff_hamiltonian_symbolic[i]*gate_time_symbolic)  \n",
      "    61         4         12.0      3.0      0.0          pure_evolution_unitary_symbolic.append( evolution_symbolic )\n",
      "    62                                           \n",
      "    63         1        268.0    268.0      0.0      evolution_unitary_symbolic = sg.Matrix(sg.SR,np.diag(pure_evolution_unitary_symbolic))/ sg.sqrt(PSuccess_symbolic)\n",
      "    64                                               \n",
      "    65                                           \n",
      "    66                                               # Post process rotations\n",
      "    67         1         23.0     23.0      0.0      rot_r = sg.var('rot_r')\n",
      "    68         1         11.0     11.0      0.0      r1 = - gate_time_symbolic * (H_symbolic[0] - H_symbolic[2]) * rot_r  \n",
      "    69         1          3.0      3.0      0.0      dim = self.setup.gs_dim\n",
      "    70         1        171.0    171.0      0.0      R1_symbolic = sg.Matrix(sg.SR,np.zeros((dim,dim)))\n",
      "    71         1         65.0     65.0      0.0      R1_list = [sg.exp(sg.I*r1*i) for i in range(2) for j in range(2) ]\n",
      "    72         5         13.0      2.6      0.0      for i in range(dim):\n",
      "    73         4         12.0      3.0      0.0          R1_symbolic[i,i] = R1_list[i]\n",
      "    74                                           \n",
      "    75         1          9.0      9.0      0.0      r2 = -gate_time_symbolic * (H_symbolic[0] - H_symbolic[1]) * rot_r\n",
      "    76         1        121.0    121.0      0.0      R2_symbolic = sg.Matrix(sg.SR,np.zeros((dim,dim)))\n",
      "    77         1         54.0     54.0      0.0      R2_list = [sg.exp(sg.I*r2*j) for i in range(2) for j in range(2) ]\n",
      "    78         5         13.0      2.6      0.0      for i in range(dim):    \n",
      "    79         4         10.0      2.5      0.0          R2_symbolic[i,i] = R2_list[i]\n",
      "    80                                           \n",
      "    81                                               # Simulate\n",
      "    82                                           \n",
      "    83         1         62.0     62.0      0.0      FinalVector = sg.vector(np.array([1,1,1,-1])/2)\n",
      "    84                                           \n",
      "    85                                           \n",
      "    86         1        242.0    242.0      0.0      unitary_with_rotations_symbolic = R1_symbolic*R2_symbolic*evolution_unitary_symbolic\n",
      "    87                                               \n",
      "    88                                               # The following expressions are not fully expressed in terms of detunings necessarily.\n",
      "    89         1        300.0    300.0      0.0      self.fidelity_symbolic_hw        = sg.abs_symbolic(( unitary_with_rotations_symbolic*sg.vector(init_state) ) *FinalVector) \n",
      "    90         1      11001.0  11001.0      0.1      self.fidelity_ghz3_symbolic_hw   = GHZ_3_symbolic_fidelity_from_evolution(unitary_with_rotations_symbolic) \n",
      "    91                                           \n",
      "    92                                           \n",
      "    93         1        145.0    145.0      0.0      self.substitution_dict = {**H_dict , **L_dict}\n",
      "    94                                           \n",
      "    95                                           \n",
      "    96                                               # A dictionary of the hardware setting\n",
      "    97         1          7.0      7.0      0.0      self.hardware_dict = {'C' : C_val , 'c' : c_val , 'max_split' : max_split}"
     ]
    }
   ],
   "source": [
    "%load_ext line_profiler\n",
    "%lprun -f obtain_gate_performance_hardware obtain_gate_performance_hardware(sim.Analytical, C_val , c_val, max_split)"
   ]
  },
  {
   "cell_type": "code",
   "execution_count": null,
   "metadata": {},
   "outputs": [],
   "source": []
  }
 ],
 "metadata": {
  "interpreter": {
   "hash": "31f2aee4e71d21fbe5cf8b01ff0e069b9275f58929596ceb00d14d90e3e16cd6"
  },
  "kernelspec": {
   "display_name": "SageMath 9.0",
   "language": "python",
   "name": "python3"
  },
  "language_info": {
   "codemirror_mode": {
    "name": "ipython",
    "version": 3
   },
   "file_extension": ".py",
   "mimetype": "text/x-python",
   "name": "python",
   "nbconvert_exporter": "python",
   "pygments_lexer": "ipython3",
   "version": "3.8.10"
  },
  "orig_nbformat": 4
 },
 "nbformat": 4,
 "nbformat_minor": 2
}
