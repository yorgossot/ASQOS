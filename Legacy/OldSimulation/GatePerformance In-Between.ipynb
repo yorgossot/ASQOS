{
 "cells": [
  {
   "cell_type": "code",
   "execution_count": 6,
   "metadata": {},
   "outputs": [
    {
     "name": "stdout",
     "output_type": "stream",
     "text": [
      "Initializing system O-x-O ...\n",
      "Constructing states and excitations ...\n",
      "Constructing ground and first-excited statespace ...\n",
      "Constructing gs_hamiltonian ...\n",
      "Constructing e1_hamiltonian ...\n",
      "Constructing interactions V_plus and V_minus ...\n",
      "Constructing NJ_hamiltonian ...\n",
      "Inverting NJ_hamiltonian ...\n",
      "Constructing eff_hamiltonian and effective lindblad operators ...\n",
      "\n",
      "System  O-x-O  initialized in 34.1 seconds.\n",
      "\n",
      "Preparing Superoperator sub-class\n",
      "Preparing Analytical sub-class\n",
      "\n",
      "Done!\n"
     ]
    }
   ],
   "source": [
    "from NotebookLib import *\n",
    "import GateSimulation_In_Between\n",
    "GateSimulation  = reload(GateSimulation_In_Between)\n",
    "sim = GateSimulation.Simulation('O-x-O')"
   ]
  },
  {
   "cell_type": "markdown",
   "metadata": {},
   "source": [
    "# Obtain grid(s) of performance"
   ]
  },
  {
   "cell_type": "code",
   "execution_count": 7,
   "metadata": {},
   "outputs": [],
   "source": [
    "# Global Parameters \n",
    "kSweep = [0.995]   #[0.995]\n",
    "CSweep = [50]     #[20,25,30]\n",
    "SplitSweep = [8,9,10,11,20,30]\n",
    "\n",
    "# Dimensions of first grid for optimization  --- Give odd numbers\n",
    "#DeNum = 3\n",
    "DENum = 151\n",
    "tgNum = 2\n",
    "rotNum = 3  \n",
    "\n",
    "# Limits of the grid\n",
    "## DE will be multiplied by  np.sqrt(C_val)/gamma_val\n",
    "DE_min = 0.01 \n",
    "DE_max = 2\n",
    "tg_min = 0.95\n",
    "tg_max = 1.05\n",
    "rot_min = 0.98\n",
    "rot_max = 1.02"
   ]
  },
  {
   "cell_type": "markdown",
   "metadata": {},
   "source": [
    "## Using analytical"
   ]
  },
  {
   "cell_type": "code",
   "execution_count": 8,
   "metadata": {},
   "outputs": [
    {
     "name": "stdout",
     "output_type": "stream",
     "text": [
      "Simulating 6 out of 6\n"
     ]
    },
    {
     "name": "stderr",
     "output_type": "stream",
     "text": [
      "100%|██████████| 302/302 [00:01<00:00, 185.76it/s]\n"
     ]
    }
   ],
   "source": [
    "gamma_val = sim.parameters['gamma']\n",
    "\n",
    "SplitSweep = [spl*gamma_val for spl in SplitSweep] # for gamma_val = 1 it is not necessary\n",
    "\n",
    "AllParams = [(a,b,c) for a in kSweep for b in CSweep for c in SplitSweep] # Create a 3-d grid for hardware parameters\n",
    "\n",
    "TotalParamElems = NumElemsInList(AllParams)\n",
    "CurrentNumberOfSimulations = 1\n",
    "for (k, C_val , max_split) in AllParams:\n",
    "    print(f'Simulating {CurrentNumberOfSimulations} out of {len(AllParams)}')\n",
    "    #progressBar(CurrentNumberOfSimulations, TotalParamElems, barLength = 60)\n",
    "    CurrentNumberOfSimulations +=1\n",
    "    \n",
    "    c_val = k/ (4-4*k)\n",
    "    # Optimization Parameters  --- Give odd numbers\n",
    "    # DE\n",
    "    DESweep = np.linspace(DE_min , DE_max , num = DENum) * np.sqrt(C_val)/gamma_val\n",
    "    # GateTime\n",
    "    tgSweep = np.linspace(tg_min,tg_max , num = tgNum)\n",
    "    # Rotations\n",
    "    #r1Sweep = np.linspace(rot_min,rot_max , num = rotNum)\n",
    "    #r2Sweep = np.linspace(rot_min,rot_max , num = rotNum)\n",
    "\n",
    "    ParamsSweep = [DESweep,tgSweep ]\n",
    "    ResultsShape = tuple([np.shape(param)[0] for param in ParamsSweep])\n",
    "\n",
    "    Psucc = np.zeros(ResultsShape)\n",
    "    Fidelity =  np.zeros(ResultsShape)\n",
    "    GateTime =  np.zeros(ResultsShape)\n",
    "    Concurrence =  np.zeros(ResultsShape)\n",
    "    Rotations =  np.zeros(ResultsShape,dtype=tuple)\n",
    "    sim.Analytical.obtain_gate_performance_hardware(C_val,c_val,max_split)\n",
    "\n",
    "\n",
    "    def simulation_process(DE_val,tg_ratio):#,r1_ratio,r2_ratio ):\n",
    "        \n",
    "        jj = np.where( DESweep == DE_val)[0][0]\n",
    "        kk = np.where( tgSweep == tg_ratio)[0][0]\n",
    "        #ll = np.where( r1Sweep == r1_ratio)[0][0]\n",
    "        #mm = np.where( r2Sweep == r2_ratio)[0][0]\n",
    "        index = (jj , kk)#, ll ,mm )\n",
    "        \n",
    "        #Note that this line is false\n",
    "        tg_ratio =1\n",
    "\n",
    "        gate_time = sg.real( sim.Analytical.gate_time_hw.subs(   DE=DE_val,tgr = tg_ratio ) )\n",
    "        p_success = sg.real(sim.Analytical.p_success_hw.subs(  DE=DE_val, tgr = tg_ratio,tgs=gate_time))\n",
    "        '''try:    \n",
    "            fidelity = sg.real(sim.Analytical.fidelity_hw.subs(  DE=DE_val, c=c_val,tgr = tg_ratio,tgs=gate_time,pss=p_success\\\n",
    "                ,r1r= r1_ratio , r2r = r2_ratio ))\n",
    "            \n",
    "        except ValueError:\n",
    "            fidelity = 0'''\n",
    "        #ket_vector = sim.Analytical.PureEvolutionVectorSg.column().subs(De=De_val,DE=DE_val,pss=p_success,tgs = gate_time )\n",
    "        #concurrence = GateSimulation.concurrence_from_ket( ket_vector )\n",
    "\n",
    "        #rotations = (complex(sim.Analytical.r1.subs( De=De_val,  DE=DE_val,tgr = tg_ratio,tgs = gate_time )) \\\n",
    "        #    , complex(sim.Analytical.r2.subs( De=De_val,  DE=DE_val,tgr = tg_ratio,tgs = gate_time )) )\n",
    "        \n",
    "        return gate_time , p_success , index\n",
    "\n",
    "    \n",
    "    all_sweeps = product(DESweep,tgSweep)#,r1Sweep,r2Sweep)\n",
    "    len_all_sweeps = DENum*tgNum#*rotNum*rotNum\n",
    "    with mp.Pool() as pool:\n",
    "        for (tg, ps, index) in  tqdm.tqdm(pool.istarmap(simulation_process, all_sweeps),total=len_all_sweeps):\n",
    "        #for (tg, ps,fid, index) in pool.starmap(simulation_process,all_sweeps):\n",
    "            GateTime[index] = tg\n",
    "            Psucc[index] = ps\n",
    "            #Fidelity[index] = fid\n",
    "            #Concurrence[index] = con\n",
    "            #Rotations[index] = rot\n",
    "   \n",
    " \n",
    "    Directory = f'OptimizationResults/Analytical/ResC{C_val}_k{k}_Spl{max_split}_E{DENum}_t{tgNum}'\n",
    "    if not os.path.exists(Directory):\n",
    "        os.makedirs(Directory)\n",
    "    np.save(Directory+f'/Fidelity',Fidelity)\n",
    "    np.save(Directory+f'/GateTime',GateTime)\n",
    "    np.save(Directory+f'/Psucc',Psucc)\n",
    "    clear_output(wait=True)\n",
    "    #np.save(Directory+f'/Concurrence',Concurrence)"
   ]
  },
  {
   "cell_type": "markdown",
   "metadata": {},
   "source": [
    "## Using superoperator simulations"
   ]
  },
  {
   "cell_type": "code",
   "execution_count": null,
   "metadata": {},
   "outputs": [],
   "source": [
    "realistic_simulation = True\n",
    "\n",
    "gamma_val = sim.parameters['gamma']\n",
    "\n",
    "SplitSweep = [spl*gamma_val for spl in SplitSweep] # for gamma_val = 1 it is not necessary\n",
    "\n",
    "AllParams = [(a,b,c) for a in kSweep for b in CSweep for c in SplitSweep] # Create a 3-d grid for hardware parameters\n",
    "\n",
    "TotalParamElems = NumElemsInList(AllParams)\n",
    "CurrentNumberOfSimulations = 0\n",
    "for (k, C_val , max_split) in AllParams:\n",
    "    #progressBar(CurrentNumberOfSimulations, TotalParamElems, barLength = 60)\n",
    "    CurrentNumberOfSimulations +=1\n",
    "    \n",
    "    c_val = k/ (4-4*k)\n",
    "    # Optimization Parameters  --- Give odd numbers\n",
    "\n",
    "    # DE \n",
    "    DESweep = np.linspace(DE_min , DE_max , num = DENum) * np.sqrt(C_val)/gamma_val\n",
    "    # GateTime\n",
    "\n",
    "    tgSweep = np.linspace(tg_min,tg_max , num = tgNum)\n",
    "\n",
    "    ParamsSweep = [DESweep,tgSweep ]\n",
    "    ResultsShape = tuple([np.shape(param)[0] for param in ParamsSweep])\n",
    "\n",
    "    Psucc = np.zeros(ResultsShape)\n",
    "    Fidelity =  np.zeros(ResultsShape)\n",
    "    GateTime =  np.zeros(ResultsShape)\n",
    "    Concurrence = np.zeros(ResultsShape)\n",
    "\n",
    "\n",
    "    def simulation_process(DE_val,tg_ratio ):\n",
    "        \n",
    "        \n",
    "        jj = np.where( DESweep == DE_val)[0][0]\n",
    "        kk = np.where( tgSweep == tg_ratio)[0][0]\n",
    "        index = ( jj , kk)\n",
    "        \n",
    "\n",
    "        super_cooperativities_dict = {'C' : C_val ,'c': c_val }\n",
    "        super_tg_rots_dict = {'tgr': tg_ratio, 'r1r':1 , 'r2r':1}\n",
    "        \n",
    "        super_detunings_dict_p = {'De':  DE_val + max_split/2 ,'De0':  DE_val - max_split/2,\n",
    "                                  'DE':  DE_val,  'dc': DE_val ,'db':  DE_val }\n",
    "        \n",
    "        super_detunings_dict_m = {'De': -DE_val + max_split/2 ,'De0': -DE_val - max_split/2,\n",
    "                                  'DE': -DE_val,  'dc': -DE_val ,'db': -DE_val }\n",
    "\n",
    "\n",
    "        performance = sim.Superoperator.Simulate(super_cooperativities_dict , super_tg_rots_dict, \n",
    "                                            super_detunings_dict_p , super_detunings_dict_m , \n",
    "                                            realistic = realistic_simulation) \n",
    "        \n",
    "        gate_time = performance['gate_time']\n",
    "        p_success = performance['p_success']\n",
    "        fidelity = performance['fidelity']\n",
    "        #concurrence = performance['concurrence']\n",
    "\n",
    "        return gate_time , p_success , fidelity , index\n",
    "\n",
    "    simulation_process(DESweep[0],tgSweep[0] )\n",
    "\n",
    "    pool = mp.Pool()\n",
    "    all_sweeps = product(DESweep,tgSweep)\n",
    "    count_tot =  DENum * tgNum\n",
    "    count = 0 \n",
    "    for (tg, ps,fid, index) in pool.starmap(simulation_process,all_sweeps):\n",
    "        GateTime[index] = tg\n",
    "        Psucc[index] = ps\n",
    "        Fidelity[index] = fid\n",
    "        #Concurrence[index] = con\n",
    "        \n",
    "        \n",
    "   \n",
    " \n",
    "    Directory = f'OptimizationResults/Superoperator/ResC{C_val}_k{k}_Spl{max_split}_E{DENum}_t{tgNum}'\n",
    "    if not os.path.exists(Directory):\n",
    "        os.makedirs(Directory)\n",
    "    np.save(Directory+f'/Fidelity',Fidelity)\n",
    "    np.save(Directory+f'/GateTime',GateTime)\n",
    "    np.save(Directory+f'/Psucc',Psucc)\n",
    "    #np.save(Directory+f'/Concurrence',Concurrence)"
   ]
  },
  {
   "cell_type": "markdown",
   "metadata": {},
   "source": [
    "# Plot result"
   ]
  },
  {
   "cell_type": "code",
   "execution_count": 9,
   "metadata": {},
   "outputs": [
    {
     "name": "stderr",
     "output_type": "stream",
     "text": [
      "<>:46: DeprecationWarning: invalid escape sequence \\L\n",
      "<>:46: DeprecationWarning: invalid escape sequence \\L\n",
      "<ipython-input-9-bcd4150bef6a>:46: DeprecationWarning: invalid escape sequence \\L\n",
      "  ax.set_title(f'Gate Performance vs Cooperativity & Detuning Split \\nfor $k={kPlot} \\Leftrightarrow c = {np.round(cPlot,decimals=1)}$\\n'\n"
     ]
    },
    {
     "data": {
      "image/png": "[encoded data removed]",
      "text/plain": [
       "<Figure size 1500x1000 with 2 Axes>"
      ]
     },
     "metadata": {},
     "output_type": "display_data"
    }
   ],
   "source": [
    "Analytical = True\n",
    "kPlot = kSweep[0]\n",
    "cPlot = kPlot / (4-4*kPlot)\n",
    "'''\n",
    "CSweep = [25,50,100]\n",
    "\n",
    "SplitSweep = [3,5,10]\n",
    "\n",
    "DeNum = 11\n",
    "DENum = 11\n",
    "tgNum = 11'''\n",
    "\n",
    "\n",
    "if Analytical:\n",
    "    subdir = 'Analytical'\n",
    "else:\n",
    "    subdir = 'Superoperator'\n",
    "AllLabels = [[\"\" for i in range(len(SplitSweep))]for j in range(len(CSweep))]\n",
    "FidelityPlot = np.zeros(np.array(AllLabels).shape)\n",
    "for (i,c) in enumerate(CSweep):\n",
    "    for (j,spl) in enumerate(SplitSweep):\n",
    "        DataDirectory = f'OptimizationResults/{subdir}/ResC{c}_k{kPlot}_Spl{spl}_E{DENum}_t{tgNum}/'\n",
    "        GateTimeData = np.load(DataDirectory+\"GateTime.npy\")\n",
    "        FidelityData = np.load(DataDirectory+\"Fidelity.npy\")\n",
    "        PsuccData = np.load(DataDirectory+\"Psucc.npy\")\n",
    "        #ConcurrenceData = np.load(DataDirectory+\"Concurrence.npy\")\n",
    "\n",
    "        #argm = ArgMin( GateSimulation.gate_performance_cost_function(FidelityData,PsuccData,GateTimeData) ) #\n",
    "        argm = ArgMin(- PsuccData)#ArgMin(GateTimeData/ PsuccData)\n",
    "        FidelityPlot[i][j] = FidelityData[argm]\n",
    "\n",
    "        AllLabels[i][j] += '$F='+ str(np.round(FidelityData[argm]*100,decimals=2))+r'%'+'$\\n'\n",
    "        AllLabels[i][j] += '$P_{succ}='+ str(np.round(PsuccData[argm]*100,decimals=3))+r'%'+'$\\n'\n",
    "        AllLabels[i][j] += '$t_g='+ str(int(GateTimeData[argm]))+r' \\,\\frac{1}{\\gamma}$'\n",
    "        AllLabels[i][j] += f'\\n Max at {argm}'\n",
    "        \n",
    "\n",
    "\n",
    "fig, ax = plt.subplots()\n",
    "\n",
    "\n",
    "ax = sns.heatmap(FidelityPlot*100,yticklabels=CSweep,xticklabels=SplitSweep,cmap='gray', linewidth=0.5,annot=AllLabels, fmt = ''\\\n",
    "    ,cbar_kws={'label': 'Gate Fidelity (%)'}, annot_kws={\"size\": 14}) #Greys\n",
    "ax.set_ylabel('Cooperativity')\n",
    "ax.set_xlabel(r'Max Detuning Split $(\\gamma)$')\n",
    "ax.set_title(f'Gate Performance vs Cooperativity & Detuning Split \\nfor $k={kPlot} \\Leftrightarrow c = {np.round(cPlot,decimals=1)}$\\n'\n",
    "            +r' $(\\Delta_E,t_g,r_1,r_2)$')\n",
    "plt.show() \n",
    "figure = ax.get_figure()\n",
    "figure.savefig(f'plots/OptimizedHeatmap.svg',transparent=False)"
   ]
  },
  {
   "cell_type": "code",
   "execution_count": 6,
   "metadata": {},
   "outputs": [
    {
     "name": "stdout",
     "output_type": "stream",
     "text": [
      "10.610829997778243\n",
      "0.008110729324220987\n"
     ]
    }
   ],
   "source": [
    "init_params = [DESweep[argm[0]],tgSweep[argm[1]]]\n",
    "print(GateTimeData[argm])\n",
    "print(PsuccData[argm])"
   ]
  },
  {
   "cell_type": "code",
   "execution_count": 7,
   "metadata": {},
   "outputs": [
    {
     "ename": "TypeError",
     "evalue": "no canonical coercion from <class 'numpy.ndarray'> to Symbolic Ring",
     "output_type": "error",
     "traceback": [
      "\u001b[0;31m---------------------------------------------------------------------------\u001b[0m",
      "\u001b[0;31mTypeError\u001b[0m                                 Traceback (most recent call last)",
      "\u001b[0;32m/usr/lib/python3/dist-packages/sage/symbolic/expression.pyx\u001b[0m in \u001b[0;36msage.symbolic.expression.Expression.coerce_in (build/cythonized/sage/symbolic/expression.cpp:22755)\u001b[0;34m()\u001b[0m\n\u001b[1;32m   3191\u001b[0m         \u001b[0;32mtry\u001b[0m\u001b[0;34m:\u001b[0m\u001b[0;34m\u001b[0m\u001b[0;34m\u001b[0m\u001b[0m\n\u001b[0;32m-> 3192\u001b[0;31m             \u001b[0;32mreturn\u001b[0m \u001b[0;34m<\u001b[0m\u001b[0mExpression\u001b[0m\u001b[0;31m?\u001b[0m\u001b[0;34m>\u001b[0m\u001b[0mz\u001b[0m\u001b[0;34m\u001b[0m\u001b[0;34m\u001b[0m\u001b[0m\n\u001b[0m\u001b[1;32m   3193\u001b[0m         \u001b[0;32mexcept\u001b[0m \u001b[0mTypeError\u001b[0m\u001b[0;34m:\u001b[0m\u001b[0;34m\u001b[0m\u001b[0;34m\u001b[0m\u001b[0m\n",
      "\u001b[0;31mTypeError\u001b[0m: Cannot convert numpy.ndarray to sage.symbolic.expression.Expression",
      "\nDuring handling of the above exception, another exception occurred:\n",
      "\u001b[0;31mTypeError\u001b[0m                                 Traceback (most recent call last)",
      "\u001b[0;32m<ipython-input-7-e9906052ea4e>\u001b[0m in \u001b[0;36m<module>\u001b[0;34m\u001b[0m\n\u001b[0;32m----> 1\u001b[0;31m \u001b[0msim\u001b[0m\u001b[0;34m.\u001b[0m\u001b[0mAnalytical\u001b[0m\u001b[0;34m.\u001b[0m\u001b[0moptimize_gate_performance_hardware\u001b[0m\u001b[0;34m(\u001b[0m\u001b[0minit_params\u001b[0m\u001b[0;34m[\u001b[0m\u001b[0;36m0\u001b[0m\u001b[0;34m]\u001b[0m\u001b[0;34m)\u001b[0m\u001b[0;34m\u001b[0m\u001b[0;34m\u001b[0m\u001b[0m\n\u001b[0m\u001b[1;32m      2\u001b[0m \u001b[0mprint\u001b[0m\u001b[0;34m(\u001b[0m\u001b[0msim\u001b[0m\u001b[0;34m.\u001b[0m\u001b[0mAnalytical\u001b[0m\u001b[0;34m.\u001b[0m\u001b[0moptimized_dict\u001b[0m\u001b[0;34m)\u001b[0m\u001b[0;34m\u001b[0m\u001b[0;34m\u001b[0m\u001b[0m\n",
      "\u001b[0;32m~/Thesis/Code/Yorgos_Thesis/GateSimulation_In_Between.py\u001b[0m in \u001b[0;36moptimize_gate_performance_hardware\u001b[0;34m(self, initial_params)\u001b[0m\n\u001b[1;32m    678\u001b[0m         \u001b[0;31m#self.fidelity_opt = float( sg.real( self.fidelity_opt.n())) # obtain number to be used later on efficiently\u001b[0m\u001b[0;34m\u001b[0m\u001b[0;34m\u001b[0m\u001b[0;34m\u001b[0m\u001b[0m\n\u001b[1;32m    679\u001b[0m         \u001b[0;31m## Probability of success\u001b[0m\u001b[0;34m\u001b[0m\u001b[0;34m\u001b[0m\u001b[0;34m\u001b[0m\u001b[0m\n\u001b[0;32m--> 680\u001b[0;31m         \u001b[0mself\u001b[0m\u001b[0;34m.\u001b[0m\u001b[0mp_success_opt\u001b[0m \u001b[0;34m=\u001b[0m \u001b[0mself\u001b[0m\u001b[0;34m.\u001b[0m\u001b[0mp_success_hw_full\u001b[0m\u001b[0;34m.\u001b[0m\u001b[0msubs\u001b[0m\u001b[0;34m(\u001b[0m \u001b[0mtgr\u001b[0m \u001b[0;34m=\u001b[0m \u001b[0;36m1\u001b[0m \u001b[0;34m,\u001b[0m \u001b[0mDE\u001b[0m \u001b[0;34m=\u001b[0m \u001b[0mself\u001b[0m\u001b[0;34m.\u001b[0m\u001b[0mDE_opt\u001b[0m \u001b[0;34m)\u001b[0m\u001b[0;34m\u001b[0m\u001b[0;34m\u001b[0m\u001b[0m\n\u001b[0m\u001b[1;32m    681\u001b[0m         \u001b[0mself\u001b[0m\u001b[0;34m.\u001b[0m\u001b[0mp_success_opt\u001b[0m \u001b[0;34m=\u001b[0m \u001b[0mfloat\u001b[0m\u001b[0;34m(\u001b[0m \u001b[0msg\u001b[0m\u001b[0;34m.\u001b[0m\u001b[0mreal\u001b[0m\u001b[0;34m(\u001b[0m \u001b[0mself\u001b[0m\u001b[0;34m.\u001b[0m\u001b[0mp_success_opt\u001b[0m\u001b[0;34m.\u001b[0m\u001b[0mn\u001b[0m\u001b[0;34m(\u001b[0m\u001b[0;34m)\u001b[0m\u001b[0;34m)\u001b[0m\u001b[0;34m)\u001b[0m \u001b[0;31m# obtain number to be used later on efficiently\u001b[0m\u001b[0;34m\u001b[0m\u001b[0;34m\u001b[0m\u001b[0m\n\u001b[1;32m    682\u001b[0m         \u001b[0;31m## Gate time\u001b[0m\u001b[0;34m\u001b[0m\u001b[0;34m\u001b[0m\u001b[0;34m\u001b[0m\u001b[0m\n",
      "\u001b[0;32m/usr/lib/python3/dist-packages/sage/symbolic/expression.pyx\u001b[0m in \u001b[0;36msage.symbolic.expression.Expression.substitute (build/cythonized/sage/symbolic/expression.cpp:30708)\u001b[0;34m()\u001b[0m\n\u001b[1;32m   5332\u001b[0m         \u001b[0;32mfor\u001b[0m \u001b[0mk\u001b[0m\u001b[0;34m,\u001b[0m \u001b[0mv\u001b[0m \u001b[0;32min\u001b[0m \u001b[0msdict\u001b[0m\u001b[0;34m.\u001b[0m\u001b[0miteritems\u001b[0m\u001b[0;34m(\u001b[0m\u001b[0;34m)\u001b[0m\u001b[0;34m:\u001b[0m\u001b[0;34m\u001b[0m\u001b[0;34m\u001b[0m\u001b[0m\n\u001b[1;32m   5333\u001b[0m             smap.insert(make_pair((<Expression>self.coerce_in(k))._gobj,\n\u001b[0;32m-> 5334\u001b[0;31m                                   (<Expression>self.coerce_in(v))._gobj))\n\u001b[0m\u001b[1;32m   5335\u001b[0m         \u001b[0mres\u001b[0m \u001b[0;34m=\u001b[0m \u001b[0mself\u001b[0m\u001b[0;34m.\u001b[0m\u001b[0m_gobj\u001b[0m\u001b[0;34m.\u001b[0m\u001b[0msubs_map\u001b[0m\u001b[0;34m(\u001b[0m\u001b[0msmap\u001b[0m\u001b[0;34m,\u001b[0m \u001b[0;36m0\u001b[0m\u001b[0;34m)\u001b[0m\u001b[0;34m\u001b[0m\u001b[0;34m\u001b[0m\u001b[0m\n\u001b[1;32m   5336\u001b[0m         \u001b[0;32mreturn\u001b[0m \u001b[0mnew_Expression_from_GEx\u001b[0m\u001b[0;34m(\u001b[0m\u001b[0mself\u001b[0m\u001b[0;34m.\u001b[0m\u001b[0m_parent\u001b[0m\u001b[0;34m,\u001b[0m \u001b[0mres\u001b[0m\u001b[0;34m)\u001b[0m\u001b[0;34m\u001b[0m\u001b[0;34m\u001b[0m\u001b[0m\n",
      "\u001b[0;32m/usr/lib/python3/dist-packages/sage/symbolic/expression.pyx\u001b[0m in \u001b[0;36msage.symbolic.expression.Expression.coerce_in (build/cythonized/sage/symbolic/expression.cpp:22807)\u001b[0;34m()\u001b[0m\n\u001b[1;32m   3192\u001b[0m             \u001b[0;32mreturn\u001b[0m \u001b[0;34m<\u001b[0m\u001b[0mExpression\u001b[0m\u001b[0;31m?\u001b[0m\u001b[0;34m>\u001b[0m\u001b[0mz\u001b[0m\u001b[0;34m\u001b[0m\u001b[0;34m\u001b[0m\u001b[0m\n\u001b[1;32m   3193\u001b[0m         \u001b[0;32mexcept\u001b[0m \u001b[0mTypeError\u001b[0m\u001b[0;34m:\u001b[0m\u001b[0;34m\u001b[0m\u001b[0;34m\u001b[0m\u001b[0m\n\u001b[0;32m-> 3194\u001b[0;31m             \u001b[0;32mreturn\u001b[0m \u001b[0mself\u001b[0m\u001b[0;34m.\u001b[0m\u001b[0m_parent\u001b[0m\u001b[0;34m.\u001b[0m\u001b[0m_coerce_\u001b[0m\u001b[0;34m(\u001b[0m\u001b[0mz\u001b[0m\u001b[0;34m)\u001b[0m\u001b[0;34m\u001b[0m\u001b[0;34m\u001b[0m\u001b[0m\n\u001b[0m\u001b[1;32m   3195\u001b[0m \u001b[0;34m\u001b[0m\u001b[0m\n\u001b[1;32m   3196\u001b[0m     \u001b[0mcpdef\u001b[0m \u001b[0m_add_\u001b[0m\u001b[0;34m(\u001b[0m\u001b[0mleft\u001b[0m\u001b[0;34m,\u001b[0m \u001b[0mright\u001b[0m\u001b[0;34m)\u001b[0m\u001b[0;34m:\u001b[0m\u001b[0;34m\u001b[0m\u001b[0;34m\u001b[0m\u001b[0m\n",
      "\u001b[0;32m/usr/lib/python3/dist-packages/sage/structure/parent_old.pyx\u001b[0m in \u001b[0;36msage.structure.parent_old.Parent._coerce_ (build/cythonized/sage/structure/parent_old.c:3776)\u001b[0;34m()\u001b[0m\n\u001b[1;32m    177\u001b[0m     \u001b[0;32mdef\u001b[0m \u001b[0m_coerce_\u001b[0m\u001b[0;34m(\u001b[0m\u001b[0mself\u001b[0m\u001b[0;34m,\u001b[0m \u001b[0mx\u001b[0m\u001b[0;34m)\u001b[0m\u001b[0;34m:\u001b[0m            \u001b[0;31m# Call this from Python (do not override!)\u001b[0m\u001b[0;34m\u001b[0m\u001b[0;34m\u001b[0m\u001b[0m\n\u001b[1;32m    178\u001b[0m         \u001b[0;32mif\u001b[0m \u001b[0mself\u001b[0m\u001b[0;34m.\u001b[0m\u001b[0m_element_constructor\u001b[0m \u001b[0;32mis\u001b[0m \u001b[0;32mnot\u001b[0m \u001b[0;32mNone\u001b[0m\u001b[0;34m:\u001b[0m\u001b[0;34m\u001b[0m\u001b[0;34m\u001b[0m\u001b[0m\n\u001b[0;32m--> 179\u001b[0;31m             \u001b[0;32mreturn\u001b[0m \u001b[0mself\u001b[0m\u001b[0;34m.\u001b[0m\u001b[0mcoerce\u001b[0m\u001b[0;34m(\u001b[0m\u001b[0mx\u001b[0m\u001b[0;34m)\u001b[0m\u001b[0;34m\u001b[0m\u001b[0;34m\u001b[0m\u001b[0m\n\u001b[0m\u001b[1;32m    180\u001b[0m         \u001b[0mcheck_old_coerce\u001b[0m\u001b[0;34m(\u001b[0m\u001b[0mself\u001b[0m\u001b[0;34m)\u001b[0m\u001b[0;34m\u001b[0m\u001b[0;34m\u001b[0m\u001b[0m\n\u001b[1;32m    181\u001b[0m         \u001b[0;32mreturn\u001b[0m \u001b[0mself\u001b[0m\u001b[0;34m.\u001b[0m\u001b[0m_coerce_c\u001b[0m\u001b[0;34m(\u001b[0m\u001b[0mx\u001b[0m\u001b[0;34m)\u001b[0m\u001b[0;34m\u001b[0m\u001b[0;34m\u001b[0m\u001b[0m\n",
      "\u001b[0;32m/usr/lib/python3/dist-packages/sage/structure/parent.pyx\u001b[0m in \u001b[0;36msage.structure.parent.Parent.coerce (build/cythonized/sage/structure/parent.c:10491)\u001b[0;34m()\u001b[0m\n\u001b[1;32m   1142\u001b[0m                 \u001b[0;32mexcept\u001b[0m \u001b[0mException\u001b[0m\u001b[0;34m:\u001b[0m\u001b[0;34m\u001b[0m\u001b[0;34m\u001b[0m\u001b[0m\n\u001b[1;32m   1143\u001b[0m                     \u001b[0m_record_exception\u001b[0m\u001b[0;34m(\u001b[0m\u001b[0;34m)\u001b[0m\u001b[0;34m\u001b[0m\u001b[0;34m\u001b[0m\u001b[0m\n\u001b[0;32m-> 1144\u001b[0;31m             \u001b[0;32mraise\u001b[0m \u001b[0mTypeError\u001b[0m\u001b[0;34m(\u001b[0m\u001b[0m_LazyString\u001b[0m\u001b[0;34m(\u001b[0m\u001b[0m_lazy_format\u001b[0m\u001b[0;34m,\u001b[0m \u001b[0;34m(\u001b[0m\u001b[0;34m\"no canonical coercion from %s to %s\"\u001b[0m\u001b[0;34m,\u001b[0m \u001b[0mparent\u001b[0m\u001b[0;34m(\u001b[0m\u001b[0mx\u001b[0m\u001b[0;34m)\u001b[0m\u001b[0;34m,\u001b[0m \u001b[0mself\u001b[0m\u001b[0;34m)\u001b[0m\u001b[0;34m,\u001b[0m \u001b[0;34m{\u001b[0m\u001b[0;34m}\u001b[0m\u001b[0;34m)\u001b[0m\u001b[0;34m)\u001b[0m\u001b[0;34m\u001b[0m\u001b[0;34m\u001b[0m\u001b[0m\n\u001b[0m\u001b[1;32m   1145\u001b[0m         \u001b[0;32melse\u001b[0m\u001b[0;34m:\u001b[0m\u001b[0;34m\u001b[0m\u001b[0;34m\u001b[0m\u001b[0m\n\u001b[1;32m   1146\u001b[0m             \u001b[0;32mreturn\u001b[0m \u001b[0;34m(\u001b[0m\u001b[0;34m<\u001b[0m\u001b[0mmap\u001b[0m\u001b[0;34m.\u001b[0m\u001b[0mMap\u001b[0m\u001b[0;34m>\u001b[0m\u001b[0mmor\u001b[0m\u001b[0;34m)\u001b[0m\u001b[0;34m.\u001b[0m\u001b[0m_call_\u001b[0m\u001b[0;34m(\u001b[0m\u001b[0mx\u001b[0m\u001b[0;34m)\u001b[0m\u001b[0;34m\u001b[0m\u001b[0;34m\u001b[0m\u001b[0m\n",
      "\u001b[0;31mTypeError\u001b[0m: no canonical coercion from <class 'numpy.ndarray'> to Symbolic Ring"
     ]
    }
   ],
   "source": [
    "sim.Analytical.optimize_gate_performance_hardware(init_params[0])\n",
    "print(sim.Analytical.optimized_dict)"
   ]
  },
  {
   "cell_type": "code",
   "execution_count": 15,
   "metadata": {},
   "outputs": [
    {
     "data": {
      "text/plain": [
       "{'C': 100, 'c': 249.74999999999977, 'max_split': 10}"
      ]
     },
     "execution_count": 15,
     "metadata": {},
     "output_type": "execute_result"
    }
   ],
   "source": [
    "sim.Analytical.hardware_dict"
   ]
  },
  {
   "cell_type": "code",
   "execution_count": 14,
   "metadata": {},
   "outputs": [
    {
     "data": {
      "text/plain": [
       "10.610829997778243"
      ]
     },
     "execution_count": 14,
     "metadata": {},
     "output_type": "execute_result"
    }
   ],
   "source": [
    "sim.Analytical.gate_time_hw_full.subs( tgr = 1 , DE = float(sim.Analytical.DE_opt) )"
   ]
  },
  {
   "cell_type": "code",
   "execution_count": 13,
   "metadata": {},
   "outputs": [
    {
     "data": {
      "text/plain": [
       "0.008110729324220994 - 9.5730939331996e-19*I"
      ]
     },
     "execution_count": 13,
     "metadata": {},
     "output_type": "execute_result"
    }
   ],
   "source": [
    "sim.Analytical.p_success_hw_full.subs( tgr = 1 , DE = float(sim.Analytical.DE_opt) )"
   ]
  },
  {
   "cell_type": "code",
   "execution_count": 16,
   "metadata": {},
   "outputs": [
    {
     "data": {
      "text/plain": [
       "{'fidelity': 0.9471475925835855,\n",
       " 'p_success': 0.4374446295000347,\n",
       " 'gate_time': 2.0975988647866375,\n",
       " 'concurrence': 0.812830199036987}"
      ]
     },
     "execution_count": 16,
     "metadata": {},
     "output_type": "execute_result"
    }
   ],
   "source": [
    "super = sim.Superoperator\n",
    "\n",
    "super_variables = ['C','c','De','De0','DE','tgr','r1r','r2r']\n",
    "\n",
    "super_dict = dict()\n",
    "super_dict['De0'] =   sim.Analytical.optimized_dict['De'] - sim.Analytical.hardware_dict['max_split']\n",
    "for param in super_variables:\n",
    "    if param in sim.Analytical.hardware_dict:\n",
    "        exec(f\"super_dict['{param}'] = sim.Analytical.hardware_dict['{param}'] \")\n",
    "    elif param in sim.Analytical.optimized_dict:\n",
    "        exec(f\"super_dict['{param}'] = sim.Analytical.optimized_dict['{param}'] \")\n",
    "\n",
    "#super.realistic_parameters['gamma_g'] = 0.01\n",
    "#super.realistic_parameters['gamma_f'] = 0.99\n",
    "super.Simulate(super_dict,realistic = True)"
   ]
  },
  {
   "cell_type": "code",
   "execution_count": 17,
   "metadata": {},
   "outputs": [
    {
     "data": {
      "text/plain": [
       "{'fidelity': 0.9471475925835855,\n",
       " 'p_success': 0.4374446295000347,\n",
       " 'gate_time': 2.0975988647866375,\n",
       " 'concurrence': 0.812830199036987}"
      ]
     },
     "execution_count": 17,
     "metadata": {},
     "output_type": "execute_result"
    }
   ],
   "source": [
    "super.performance"
   ]
  },
  {
   "cell_type": "code",
   "execution_count": 24,
   "metadata": {},
   "outputs": [
    {
     "name": "stdout",
     "output_type": "stream",
     "text": [
      "Cost function value: 0.05058254490031233 , fidelity=0.94942 , p_success=0.48418, tg=3.88955\n",
      "Cost function value: -0.07403560481375633 , fidelity=0.95345 , p_success=0.47067, tg=3.79465\n",
      "Cost function value: -0.06521402707136098 , fidelity=0.95421 , p_success=0.48091, tg=4.17403\n",
      "Cost function value: -0.06503662203448551 , fidelity=0.95574 , p_success=0.46981, tg=4.08403\n",
      "Cost function value: -0.07448179025294993 , fidelity=0.9549 , p_success=0.48418, tg=3.88955\n",
      "Cost function value: -0.07448179025294993 , fidelity=0.95235 , p_success=0.48418, tg=3.88955\n",
      "Cost function value: -0.06672473856334978 , fidelity=0.95977 , p_success=0.47181, tg=4.04206\n",
      "step = 1, (De,DE,tgr,r1,r2) = [5.     4.8    0.9    0.9975 1.    ] \n",
      "Cost function value: -0.07767895231690661 , fidelity=0.95257 , p_success=0.48807, tg=3.82264\n",
      "Cost function value: 0.05359897811942149 , fidelity=0.9464 , p_success=0.49824, tg=3.68049\n",
      "step = 2, (De,DE,tgr,r1,r2) = [5.14   4.9344 0.8622 0.9766 1.028 ] \n",
      "Cost function value: -0.08212440864334924 , fidelity=0.95593 , p_success=0.47873, tg=3.62329\n",
      "Cost function value: -0.09140626443345293 , fidelity=0.95547 , p_success=0.47731, tg=3.37545\n",
      "step = 3, (De,DE,tgr,r1,r2) = [5.294   4.45824 0.88812 1.00586 1.0588 ] \n",
      "Cost function value: 0.051383717235907844 , fidelity=0.94862 , p_success=0.49048, tg=3.4771\n",
      "Cost function value: -0.07233680741153807 , fidelity=0.95745 , p_success=0.47645, tg=3.89454\n",
      "step = 4, (De,DE,tgr,r1,r2) = [5.294   4.45824 0.88812 1.00586 1.0588 ] \n",
      "Cost function value: -0.08448747260732731 , fidelity=0.95188 , p_success=0.48579, tg=3.61212\n",
      "step = 5, (De,DE,tgr,r1,r2) = [5.294   4.45824 0.88812 1.00586 1.0588 ] \n",
      "Cost function value: -0.08683967942955895 , fidelity=0.95301 , p_success=0.49615, tg=3.62581\n",
      "step = 6, (De,DE,tgr,r1,r2) = [5.294   4.45824 0.88812 1.00586 1.0588 ] \n",
      "Cost function value: -0.09176372870182067 , fidelity=0.95407 , p_success=0.48854, tg=3.44615\n",
      "Cost function value: -0.10131228385050339 , fidelity=0.95161 , p_success=0.49029, tg=3.24024\n",
      "step = 7, (De,DE,tgr,r1,r2) = [5.344928   4.53324288 0.83818944 1.08393632 1.0109856 ] \n",
      "Cost function value: -0.10329855804800733 , fidelity=0.95219 , p_success=0.4906, tg=3.2003\n",
      "Cost function value: 0.05164780958637005 , fidelity=0.94835 , p_success=0.49264, tg=2.89547\n",
      "step = 8, (De,DE,tgr,r1,r2) = [5.3679232  4.51545907 0.83406874 1.02636541 1.07838464] \n",
      "Cost function value: -0.11093040306733862 , fidelity=0.95085 , p_success=0.48851, tg=3.03554\n",
      "Cost function value: 0.057888658329921405 , fidelity=0.94211 , p_success=0.48843, tg=2.70961\n",
      "step = 9, (De,DE,tgr,r1,r2) = [5.31909248 4.2134827  0.86061623 1.06717157 1.0705385 ] \n",
      "Warning: Maximum number of iterations has been exceeded.\n"
     ]
    }
   ],
   "source": [
    "super.optimize_gate_performance_hardware(init_params , sim.Analytical.hardware_dict , max_iter = 10)"
   ]
  },
  {
   "cell_type": "code",
   "execution_count": 19,
   "metadata": {},
   "outputs": [
    {
     "data": {
      "text/plain": [
       "{'fidelity': 0.9508513233731039,\n",
       " 'p_success': 0.48851048125750124,\n",
       " 'gate_time': 3.0355387915923635,\n",
       " 'tgr': 0.8606162303999991,\n",
       " 'De': 5.319092480000004,\n",
       " 'DE': 4.213482700799999,\n",
       " 'r1r': 1.0671715712000014,\n",
       " 'r2r': 1.0705384960000006}"
      ]
     },
     "execution_count": 19,
     "metadata": {},
     "output_type": "execute_result"
    }
   ],
   "source": [
    "super.optimized_dict "
   ]
  },
  {
   "cell_type": "markdown",
   "metadata": {},
   "source": [
    "# Tests"
   ]
  },
  {
   "cell_type": "code",
   "execution_count": 2,
   "metadata": {},
   "outputs": [
    {
     "data": {
      "text/plain": [
       "{'fidelity': 0.9999862909414448,\n",
       " 'p_success': 5.68692477086255e-05,\n",
       " 'gate_time': 590.6117279782516,\n",
       " 'concurrence': 0.9999450653666694}"
      ]
     },
     "execution_count": 2,
     "metadata": {},
     "output_type": "execute_result"
    }
   ],
   "source": [
    "C_val = 50\n",
    "c_val = C_val\n",
    "max_split = 10\n",
    "\n",
    "DE_val = 1.2*np.sqrt(C_val)\n",
    "\n",
    "realistic = True\n",
    "\n",
    "\n",
    "\n",
    "super_cooperativities_dict = {'C' : C_val ,'c': c_val }\n",
    "super_tg_rots_dict = {'tgr': 1, 'r1r':1 , 'r2r':1}\n",
    "\n",
    "super_detunings_dict_p = {'De':  DE_val + max_split/2 ,'De0':  DE_val - max_split/2,\n",
    "                            'DE':  DE_val,  'dc': DE_val ,'db':  DE_val }\n",
    "\n",
    "super_detunings_dict_m = {'De': -DE_val + max_split/2 ,'De0': -DE_val - max_split/2,\n",
    "                            'DE': -DE_val,  'dc': -DE_val ,'db': -DE_val }\n",
    "super_dict = {**super_cooperativities_dict , **super_detunings_dict_p , **super_tg_rots_dict}\n",
    "sim.Superoperator.Simulate( super_cooperativities_dict , super_tg_rots_dict, super_detunings_dict_p , super_detunings_dict_m , realistic)"
   ]
  },
  {
   "cell_type": "code",
   "execution_count": 3,
   "metadata": {},
   "outputs": [],
   "source": [
    "C_val = 50\n",
    "c_val = C_val\n",
    "max_split = 10\n",
    "\n",
    "DE_val = 1.2*np.sqrt(C_val)\n",
    "\n",
    "realistic = True\n",
    "\n",
    "\n",
    "\n",
    "super_cooperativities_dict = {'C' : C_val ,'c': c_val }\n",
    "super_tg_rots_dict = {'tgr': 1, 'r1r':1 , 'r2r':1}\n",
    "\n",
    "super_detunings_dict_p = {'De':  DE_val + max_split/2 ,'De0':  DE_val - max_split/2,\n",
    "                            'DE':  DE_val,  'dc': DE_val ,'db':  DE_val }\n",
    "\n",
    "super_detunings_dict_m = {'De': -DE_val + max_split/2 ,'De0': -DE_val - max_split/2,\n",
    "                            'DE': -DE_val,  'dc': -DE_val ,'db': -DE_val }\n",
    "super_dict = {**super_cooperativities_dict , **super_detunings_dict_p , **super_tg_rots_dict}\n",
    "sim.Analytical.obtain_gate_performance_hardware(C_val,c_val,max_split)"
   ]
  },
  {
   "cell_type": "code",
   "execution_count": 10,
   "metadata": {},
   "outputs": [
    {
     "name": "stdout",
     "output_type": "stream",
     "text": [
      "590.6117279782527\n",
      "5.68661251992149e-05\n"
     ]
    }
   ],
   "source": [
    "\n",
    "gate_time = sg.real( sim.Analytical.gate_time_hw.subs( DE=DE_val,tgr = 1 ) )\n",
    "p_success = sg.real( sim.Analytical.p_success_hw.subs( DE=DE_val, tgr = 1,tgs=gate_time))\n",
    "    \n",
    "fidelity = sg.real(sim.Analytical.fidelity_hw.subs(   DE=DE_val, c=c_val,tgr = 1,tgs=gate_time,pss=p_success\\\n",
    "        ,r1r= 1 , r2r = 1 ))\n",
    "print(gate_time)\n",
    "print(p_success)"
   ]
  },
  {
   "cell_type": "code",
   "execution_count": 16,
   "metadata": {},
   "outputs": [
    {
     "name": "stdout",
     "output_type": "stream",
     "text": [
      "False\n",
      "False\n",
      "False\n",
      "False\n",
      "False\n",
      "False\n",
      "True\n",
      "False\n",
      "False\n",
      "False\n"
     ]
    }
   ],
   "source": [
    "for i in range(10):\n",
    "    print()"
   ]
  },
  {
   "cell_type": "code",
   "execution_count": null,
   "metadata": {},
   "outputs": [],
   "source": []
  }
 ],
 "metadata": {
  "interpreter": {
   "hash": "31f2aee4e71d21fbe5cf8b01ff0e069b9275f58929596ceb00d14d90e3e16cd6"
  },
  "kernelspec": {
   "display_name": "SageMath 9.0",
   "language": "python",
   "name": "python3"
  },
  "language_info": {
   "codemirror_mode": {
    "name": "ipython",
    "version": 3
   },
   "file_extension": ".py",
   "mimetype": "text/x-python",
   "name": "python",
   "nbconvert_exporter": "python",
   "pygments_lexer": "ipython3",
   "version": "3.8.10"
  },
  "orig_nbformat": 4
 },
 "nbformat": 4,
 "nbformat_minor": 2
}
