{
 "cells": [
  {
   "cell_type": "markdown",
   "metadata": {},
   "source": [
    "# The implementation that follows is functional but incorrect because it uses a 1 dimensional decayed subspace"
   ]
  },
  {
   "cell_type": "code",
   "execution_count": 97,
   "metadata": {},
   "outputs": [],
   "source": [
    "import qutip as qt\n",
    "import sympy as sp\n",
    "import numpy as np\n",
    "from qutip.qip.operations import rz"
   ]
  },
  {
   "cell_type": "markdown",
   "metadata": {},
   "source": [
    "# Variables Declaration"
   ]
  },
  {
   "cell_type": "code",
   "execution_count": 98,
   "metadata": {},
   "outputs": [],
   "source": [
    "gamma = 1\n",
    "gamma_f = 0.9\n",
    "gamma_g = 0.1\n",
    "\n",
    "a = 1 # Cf/C\n",
    "b = gamma_f / gamma \n",
    "\n",
    "C = sp.symbols('C',positive=True)\n",
    "\n",
    "Omega = 0.25*gamma*sp.sqrt(C)\n",
    "\n",
    "DE =  gamma/2 * sp.sqrt(b)* sp.sqrt(4*a*C+b )\n",
    "De =  a*C * gamma**2 /(2*DE)\n",
    "\n",
    "DEt = (DE - 1j*gamma_f/2 - 1j*gamma_g/2 ) / gamma  #1j*gamma_g is also included. doesn't influence the results significantly\n",
    "Det = (De - 1j*gamma/2 ) / gamma"
   ]
  },
  {
   "cell_type": "markdown",
   "metadata": {},
   "source": [
    "# Hamiltonian as function of C"
   ]
  },
  {
   "cell_type": "code",
   "execution_count": 99,
   "metadata": {},
   "outputs": [],
   "source": [
    "H_eff = sp.Matrix(np.zeros((5,5)))\n",
    "\n",
    "for i in range(4):\n",
    "    n = bin(i).count('1')  #counts the excitations\n",
    "\n",
    "    Delta_n = (1j * Det/2 + n*C)  / (Det * (1j*DEt/2+C)  + DEt*n*C    )\n",
    "\n",
    "    H_eff[i,i] = - Omega**2/(4*gamma) * sp.re(Delta_n)\n",
    "\n"
   ]
  },
  {
   "cell_type": "markdown",
   "metadata": {},
   "source": [
    "# Lindblad operators as function of C"
   ]
  },
  {
   "cell_type": "code",
   "execution_count": 100,
   "metadata": {},
   "outputs": [],
   "source": [
    "L_0 = sp.Matrix(np.zeros((5,5)))\n",
    "\n",
    "for i in range(4):\n",
    "    n = bin(i).count('1')\n",
    "\n",
    "    frac = sp.sqrt(C)*Det*Omega / (Det * (1j*DEt/2+C  ) + n*DEt*C )\n",
    "\n",
    "    L_0[4,i] = 1/(2*gamma) * frac\n"
   ]
  },
  {
   "cell_type": "code",
   "execution_count": 101,
   "metadata": {},
   "outputs": [],
   "source": [
    "L_g = sp.Matrix(np.zeros((5,5)))\n",
    "\n",
    "for i in range(4):\n",
    "    n = bin(i).count('1')\n",
    "\n",
    "    frac = (1j * Det/2 + n*C)* Omega  / (Det * (1j*DEt/2+C)  + DEt*n*C    )\n",
    "\n",
    "    L_g[i,i] = sp.sqrt(gamma_g)/(2*gamma) * frac\n"
   ]
  },
  {
   "cell_type": "code",
   "execution_count": 102,
   "metadata": {},
   "outputs": [],
   "source": [
    "L_f = sp.Matrix(np.zeros((5,5)))\n",
    "\n",
    "for i in range(4):\n",
    "    n = bin(i).count('1')\n",
    "\n",
    "    frac = (1j * Det/2 + n*C)* Omega  / (Det * (1j*DEt/2+C)  + DEt*n*C    )\n",
    "\n",
    "    L_f[4,i] = sp.sqrt(gamma_f)/(2*gamma) * frac"
   ]
  },
  {
   "cell_type": "code",
   "execution_count": 103,
   "metadata": {},
   "outputs": [],
   "source": [
    "L_k0 = sp.Matrix(np.zeros((5,5)))\n",
    "\n",
    "for i in [1,3]:\n",
    "    n = bin(i).count('1')\n",
    "\n",
    "    frac = sp.sqrt(C*C)*Omega / (Det * (1j*DEt/2+C  ) + n*DEt*C )\n",
    "\n",
    "    L_k0[4,i] = -1/(2*sp.sqrt(gamma)) * frac\n",
    "\n",
    "L_k1 = sp.Matrix(np.zeros((5,5)))\n",
    "\n",
    "for i in [2,3]:\n",
    "    n = bin(i).count('1')\n",
    "\n",
    "    frac = sp.sqrt(C*C)*Omega / (Det * (1j*DEt/2+C  ) + n*DEt*C )\n",
    "\n",
    "    L_k1[4,i] = -1/(2*sp.sqrt(gamma)) * frac"
   ]
  },
  {
   "cell_type": "markdown",
   "metadata": {},
   "source": [
    "# Run the simulation for $C=100$ . In the 2015 paper $1 - P_{success}\\approx 43 \\%$"
   ]
  },
  {
   "cell_type": "code",
   "execution_count": 104,
   "metadata": {},
   "outputs": [
    {
     "name": "stdout",
     "output_type": "stream",
     "text": [
      "1-Psuccess: (0.6519634902845864+0j)\n",
      "Fidelity: 0.9716644453959508\n"
     ]
    }
   ],
   "source": [
    "C_val = 100\n",
    "\n",
    "H_eff_num = np.array( H_eff.subs(C,C_val)).astype(np.float64) #*2\n",
    "H_obj = qt.Qobj(H_eff_num)\n",
    "\n",
    "L_list = [ L_0, L_g, L_f, L_k0, L_k1]\n",
    "L_list_num =  []\n",
    "L_list_obj =  []\n",
    "for l in range(len(L_list)):\n",
    "    l_num = np.array( L_list[l].subs(C,C_val) ).astype(np.complex64)\n",
    "    L_list_num.append(l_num)\n",
    "    L_list_obj.append(qt.Qobj(l_num))\n",
    "\n",
    "\n",
    "init_state = qt.Qobj(np.array([1,1,1,1,0])/2)\n",
    "ideal_output  =  qt.Qobj(np.array([1,1,1,-1])/2)  #target state\n",
    "\n",
    "gate_time =  np.abs( np.pi\\\n",
    "        /(H_eff_num[3,3]+H_eff_num[0,0]-H_eff_num[1,1]-H_eff_num[2,2]))\n",
    "\n",
    "#ROTATIONS\n",
    "r1 = - gate_time * (H_eff_num[0,0] - H_eff_num[2,2])\n",
    "R1 = qt.tensor( rz(r1 ),qt.identity(2)).full()\n",
    "R1 = qt.Qobj(R1)\n",
    "r2 = - gate_time * (H_eff_num[0,0] - H_eff_num[1,1])\n",
    "R2 = qt.tensor(qt.identity(2),rz(r2 )) .full()\n",
    "R2 = qt.Qobj(R2)\n",
    "\n",
    "#SIMULATION\n",
    "times = np.linspace(0,gate_time,200)\n",
    "sol = qt.mesolve(H_obj,  init_state, times, L_list_obj, [] )\n",
    "\n",
    "\n",
    "#final density matrix \n",
    "dm_f = sol.states[-1].tidyup()\n",
    "\n",
    "P_s = (1 -dm_f[4,4]) \n",
    "\n",
    "f_state = 1/P_s * dm_f.eliminate_states([4])\n",
    "\n",
    "f_state_rotated =    R2*R1*f_state *R1.dag()*R2.dag()\n",
    "\n",
    "Fidelity = qt.fidelity(f_state_rotated,ideal_output)\n",
    "\n",
    "\n",
    "print(f'1-Psuccess: {1-P_s}')\n",
    "print(f'Fidelity: {Fidelity}')"
   ]
  },
  {
   "cell_type": "markdown",
   "metadata": {},
   "source": [
    "## Results are not in accordance with the paper. Manually setting the `H_eff_num*2` gives the correct results though. (second line of the above block)\n",
    "\n",
    "# ~~~\n",
    "\n"
   ]
  },
  {
   "cell_type": "markdown",
   "metadata": {},
   "source": [
    "# Plot the fidelity over time to ensure that we are not applying the Hamiltonian for more than needed"
   ]
  },
  {
   "cell_type": "code",
   "execution_count": 107,
   "metadata": {},
   "outputs": [
    {
     "data": {
      "text/plain": [
       "Text(0, 0.5, 'Fidelity wrt ideal output')"
      ]
     },
     "execution_count": 107,
     "metadata": {},
     "output_type": "execute_result"
    },
    {
     "data": {
      "image/png": "[encoded data removed]",
      "text/plain": [
       "<Figure size 432x288 with 1 Axes>"
      ]
     },
     "metadata": {
      "needs_background": "light"
     },
     "output_type": "display_data"
    }
   ],
   "source": [
    "fid = []\n",
    "\n",
    "for i in range(len(times)):\n",
    "    dm = sol.states[i]\n",
    "    p_s = (1 -dm[4,4]) \n",
    "\n",
    "    f_state = 1/p_s * dm.eliminate_states([4])\n",
    "\n",
    "    f_state_rotated =    R2*R1*f_state *R1.dag()*R2.dag()\n",
    "    \n",
    "    fidelity = qt.fidelity(f_state_rotated,ideal_output)\n",
    "    fid.append( fidelity )\n",
    "\n",
    "\n",
    "import matplotlib.pyplot as plt\n",
    "\n",
    "plt.plot(times,fid)\n",
    "plt.xlabel('Time')\n",
    "plt.ylabel('Fidelity wrt ideal output')\n"
   ]
  },
  {
   "cell_type": "code",
   "execution_count": null,
   "metadata": {},
   "outputs": [],
   "source": []
  }
 ],
 "metadata": {
  "interpreter": {
   "hash": "916dbcbb3f70747c44a77c7bcd40155683ae19c65e1c03b4aa3499c5328201f1"
  },
  "kernelspec": {
   "display_name": "Python 3.8.10 64-bit",
   "name": "python3"
  },
  "language_info": {
   "codemirror_mode": {
    "name": "ipython",
    "version": 3
   },
   "file_extension": ".py",
   "mimetype": "text/x-python",
   "name": "python",
   "nbconvert_exporter": "python",
   "pygments_lexer": "ipython3",
   "version": "3.8.10"
  },
  "orig_nbformat": 4
 },
 "nbformat": 4,
 "nbformat_minor": 2
}
