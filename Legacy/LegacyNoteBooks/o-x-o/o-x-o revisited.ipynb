{
 "cells": [
  {
   "cell_type": "markdown",
   "id": "11ebbd1c",
   "metadata": {},
   "source": [
    "# Many Variables  GHZ"
   ]
  },
  {
   "cell_type": "code",
   "execution_count": 1,
   "id": "a43f3bbd",
   "metadata": {
    "scrolled": false
   },
   "outputs": [
    {
     "name": "stdout",
     "output_type": "stream",
     "text": [
      "Started!\n",
      "Initializing system 2-  ...\n",
      "Constructing states and excitations...\n",
      "Constructing ground and first-excited statespace...\n",
      "Constructing gs_hamiltonian ...\n",
      "Constructing e1_hamiltonian ...\n",
      "Constructing interactions V_plus and V_minus ...\n",
      "Constructing NJ_hamiltonian  ...\n",
      "Inverting NJ_hamiltonian  ...\n",
      "Constructing eff_hamiltonian and effective lindblau operators ...\n",
      "\n",
      "System  2-  initialized in 4.5 seconds.\n"
     ]
    }
   ],
   "source": [
    "print('Started!')\n",
    "from system import *\n",
    "s1 = system('2-',MMA=True,ManyVariables = False)\n",
    "#s1 = load_object('x-o-o-')"
   ]
  },
  {
   "cell_type": "markdown",
   "id": "20c87d69",
   "metadata": {},
   "source": [
    "# Effective Hamiltonian Matrix obtain "
   ]
  },
  {
   "cell_type": "code",
   "execution_count": 2,
   "id": "6398d4bb",
   "metadata": {
    "scrolled": true
   },
   "outputs": [
    {
     "name": "stdout",
     "output_type": "stream",
     "text": [
      "Calculating 0 out of [0, 1, 2, 3]...\n",
      "Calculating 1 out of [0, 1, 2, 3]...\n",
      "Calculating 2 out of [0, 1, 2, 3]...\n",
      "Calculating 3 out of [0, 1, 2, 3]...\n",
      "\n",
      " Done! \n",
      "0 out of 5\n",
      "1 out of 5\n",
      "2 out of 5\n",
      "3 out of 5\n",
      "4 out of 5\n",
      "5 out of 5\n",
      "\n",
      " Done!\n"
     ]
    },
    {
     "ename": "IndexError",
     "evalue": "matrix index out of range",
     "output_type": "error",
     "traceback": [
      "\u001b[0;31m---------------------------------------------------------------------------\u001b[0m",
      "\u001b[0;31mIndexError\u001b[0m                                Traceback (most recent call last)",
      "\u001b[0;32m<ipython-input-2-0a7241b5bb35>\u001b[0m in \u001b[0;36m<module>\u001b[0;34m\u001b[0m\n\u001b[1;32m    163\u001b[0m \u001b[0mc\u001b[0m \u001b[0;34m=\u001b[0m \u001b[0meff_hamiltonian_tayl\u001b[0m\u001b[0;34m[\u001b[0m\u001b[0mInteger\u001b[0m\u001b[0;34m(\u001b[0m\u001b[0;36m3\u001b[0m\u001b[0;34m)\u001b[0m\u001b[0;34m,\u001b[0m\u001b[0mInteger\u001b[0m\u001b[0;34m(\u001b[0m\u001b[0;36m3\u001b[0m\u001b[0;34m)\u001b[0m\u001b[0;34m]\u001b[0m\u001b[0;34m\u001b[0m\u001b[0;34m\u001b[0m\u001b[0m\n\u001b[1;32m    164\u001b[0m \u001b[0;31m#c = symround(MMA_simplify(c,full=False),digits = 14)\u001b[0m\u001b[0;34m\u001b[0m\u001b[0;34m\u001b[0m\u001b[0;34m\u001b[0m\u001b[0m\n\u001b[0;32m--> 165\u001b[0;31m \u001b[0md\u001b[0m \u001b[0;34m=\u001b[0m \u001b[0meff_hamiltonian_tayl\u001b[0m\u001b[0;34m[\u001b[0m\u001b[0mInteger\u001b[0m\u001b[0;34m(\u001b[0m\u001b[0;36m4\u001b[0m\u001b[0;34m)\u001b[0m\u001b[0;34m,\u001b[0m\u001b[0mInteger\u001b[0m\u001b[0;34m(\u001b[0m\u001b[0;36m4\u001b[0m\u001b[0;34m)\u001b[0m\u001b[0;34m]\u001b[0m\u001b[0;34m\u001b[0m\u001b[0;34m\u001b[0m\u001b[0m\n\u001b[0m\u001b[1;32m    166\u001b[0m \u001b[0;31m#d = symround(MMA_simplify(d,full=False),digits = 14)\u001b[0m\u001b[0;34m\u001b[0m\u001b[0;34m\u001b[0m\u001b[0;34m\u001b[0m\u001b[0m\n\u001b[1;32m    167\u001b[0m \u001b[0me\u001b[0m \u001b[0;34m=\u001b[0m \u001b[0meff_hamiltonian_tayl\u001b[0m\u001b[0;34m[\u001b[0m\u001b[0mInteger\u001b[0m\u001b[0;34m(\u001b[0m\u001b[0;36m5\u001b[0m\u001b[0;34m)\u001b[0m\u001b[0;34m,\u001b[0m\u001b[0mInteger\u001b[0m\u001b[0;34m(\u001b[0m\u001b[0;36m5\u001b[0m\u001b[0;34m)\u001b[0m\u001b[0;34m]\u001b[0m\u001b[0;34m\u001b[0m\u001b[0;34m\u001b[0m\u001b[0m\n",
      "\u001b[0;32m/opt/SageMath/SageMath/local/lib/python3.9/site-packages/sage/matrix/matrix0.pyx\u001b[0m in \u001b[0;36msage.matrix.matrix0.Matrix.__getitem__ (build/cythonized/sage/matrix/matrix0.c:7095)\u001b[0;34m()\u001b[0m\n\u001b[1;32m    947\u001b[0m                     \u001b[0mrow\u001b[0m \u001b[0;34m+=\u001b[0m \u001b[0mnrows\u001b[0m\u001b[0;34m\u001b[0m\u001b[0;34m\u001b[0m\u001b[0m\n\u001b[1;32m    948\u001b[0m                 \u001b[0;32mif\u001b[0m \u001b[0mrow\u001b[0m \u001b[0;34m<\u001b[0m \u001b[0;36m0\u001b[0m \u001b[0;32mor\u001b[0m \u001b[0mrow\u001b[0m \u001b[0;34m>=\u001b[0m \u001b[0mnrows\u001b[0m\u001b[0;34m:\u001b[0m\u001b[0;34m\u001b[0m\u001b[0;34m\u001b[0m\u001b[0m\n\u001b[0;32m--> 949\u001b[0;31m                     \u001b[0;32mraise\u001b[0m \u001b[0mIndexError\u001b[0m\u001b[0;34m(\u001b[0m\u001b[0;34m\"matrix index out of range\"\u001b[0m\u001b[0;34m)\u001b[0m\u001b[0;34m\u001b[0m\u001b[0;34m\u001b[0m\u001b[0m\n\u001b[0m\u001b[1;32m    950\u001b[0m                 \u001b[0msingle_row\u001b[0m \u001b[0;34m=\u001b[0m \u001b[0;36m1\u001b[0m\u001b[0;34m\u001b[0m\u001b[0;34m\u001b[0m\u001b[0m\n\u001b[1;32m    951\u001b[0m \u001b[0;34m\u001b[0m\u001b[0m\n",
      "\u001b[0;31mIndexError\u001b[0m: matrix index out of range"
     ]
    }
   ],
   "source": [
    "#phi_val = np.pi/180 * 30\n",
    "n = 0\n",
    "\n",
    "#total_indices = s1.variable_index\n",
    "\n",
    "var('De1', domain='positive')\n",
    "var('Deg1', domain='positive' , latex_name =r'{{\\Delta e}}_{{  1}}^\\gamma')\n",
    "var('De2', domain='positive')\n",
    "var('Deg2', domain='positive' , latex_name =r'{{\\Delta e}}_{{  2}}^\\gamma')\n",
    "var('De3', domain='positive')\n",
    "var('Deg3', domain='positive' , latex_name =r'{{\\Delta e}}_{{  3}}^\\gamma')    \n",
    "\n",
    "var('gamma','DE','De','g','g_f','Omega','v','gamma_f','gamma_g','phi',domain='positive')\n",
    "var('DEg', domain='positive' , latex_name =r'{{\\Delta E}}^\\gamma')\n",
    "var('kappa_c','kappa_b',domain='positive')\n",
    "var('C',domain='positive')\n",
    "var('c',domain='positive',  latex_name =r'c')\n",
    "var('r_f',domain='positive',latex_name =r'r_f')\n",
    "var('r_g',domain='positive',latex_name =r'r_g')\n",
    "var('R_f',domain='positive')#ratio  (g_f/g)^2\n",
    "eff_hamiltonian_tayl = sg.copy( s1.eff_hamiltonian.parent().zero())\n",
    "for diag in s1.pos_gs:\n",
    "    print(f'Calculating {diag} out of {s1.pos_gs}...')\n",
    "    min_expr_len = 10**10\n",
    "    for term in range(1):\n",
    "        b = s1.eff_hamiltonian[diag,diag]\n",
    "        b = b.operands()[1].operands()[term]\n",
    "        if len(str(b))<10: #we isolated Omega^2 instead of one of the conjugate pairs\n",
    "            b = s1.eff_hamiltonian[diag,diag].operands()[0].operands()[term]\n",
    "        \n",
    "        b = b._mathematica_().ReplaceAll(f'DE->DEg*gamma*C^({n})')._sage_()\n",
    "        #b = b.subs(DE = DEg*gamma*C^n)\n",
    "        \n",
    "        b = b._mathematica_().ReplaceAll(f'De->Deg*gamma*C^({n})')._sage_()\n",
    "        #b = b.subs(De1 = Deg1*gamma*C^n) #sqrt C scaling!?\n",
    "        \n",
    "        #b = b._mathematica_().ReplaceAll(f'De2->Deg2*gamma*C^({n})')._sage_()\n",
    "        #b = b.subs(De2 = Deg2*gamma*C^n) #MAKE ZERO\n",
    "        \n",
    "        #b = b._mathematica_().ReplaceAll(f'De3->Deg2*gamma*C^({n})')._sage_()\n",
    "        #b = b.subs(De3 = Deg3*gamma*C^n) #MAKE ZERO  \n",
    "        \n",
    "        #b = b.subs(phi = phi_val)\n",
    "        \n",
    "        #b = MMA_simplify(b)\n",
    "        \n",
    "        #b = b._mathematica_().ReplaceAll('g_f->g*(R_f)^(1/2)')._sage_()\n",
    "        b = b.subs(g_f=g*(R_f)^(1/2))\n",
    "\n",
    "        b = b._mathematica_().ReplaceAll('gamma_f->gamma*r_f')._sage_()\n",
    "        #b = b.subs(gamma_f=gamma*r_f)\n",
    "\n",
    "        b = b._mathematica_().ReplaceAll('gamma_g->gamma*r_g')._sage_()\n",
    "        #b = b.subs(gamma_g=gamma*r_g)\n",
    "        \n",
    "        #b = b._mathematica_().ReplaceAll(\"g-> (C*gamma*kappa_c)^(1/2)\")._sage_()\n",
    "        b = b.subs(g = (C*gamma*kappa_c)^(1/2)) \n",
    "        \n",
    "        b = b._mathematica_().ReplaceAll('v->(c*kappa_b*kappa_c)^(1/2)')._sage_()\n",
    "        #b = b.subs(v = (c*kappa_b*kappa_c)^(1/2) )\n",
    "        \n",
    "        \n",
    "\n",
    "        #Substitutions\n",
    "        #b = b.subs(c=np.pi,R_f=2.1,Deg=np.e,DEg=np.sqrt(5),r_g=np.sqrt(3),r_f=np.sqrt(2), phi=phi_val) \n",
    "        #b = b.subs(phi=phi_val)\n",
    "\n",
    "        #b = b._mathematica_().Factor()._sage_()\n",
    "        #b = b._mathematica_().Together()._sage_()\n",
    "\n",
    "\n",
    "        b = SR(str(b).replace('Sqrt','sqrt'))\n",
    "        if len(str(b))<min_expr_len:\n",
    "            min_expr_len = len(str(b))\n",
    "            h_eff = b\n",
    "    \n",
    "    #h_eff = h_eff.subs(c=C)\n",
    "    h_eff = MMA_simplify(h_eff)\n",
    "    '''\n",
    "    h_eff = SR(str(h_eff).replace('Sqrt','sqrt'))\n",
    "    var('x')\n",
    "    h_eff = h_eff.subs(C=1/x)\n",
    "    h_eff = MMA_simplify(h_eff)\n",
    "    h_eff = h_eff._mathematica_().Series((x,0,1)).Normal()._sage_()\n",
    "    h_eff = h_eff.subs(x=1/C)\n",
    "    '''\n",
    "    h_eff = SR(str(h_eff).replace('Sqrt','sqrt'))\n",
    "    eff_hamiltonian_tayl[diag,diag] = h_eff  * Omega^2 / 2\n",
    "\n",
    "print('\\n Done! ')\n",
    "#show(symround(eff_hamiltonian_tayl[s1.pos_gs,s1.pos_gs],digits=3))\n",
    "\n",
    "\n",
    "eff_hamiltonian_tayl_temp = eff_hamiltonian_tayl[s1.pos_gs,s1.pos_gs] \n",
    "\n",
    "\n",
    "\n",
    "\n",
    "\n",
    "lind_op_number = len(s1.lindblau_list)\n",
    "\n",
    "eff_lind_taylor = []\n",
    "eff_lind = []\n",
    "eff_lind_coeff = []\n",
    "for lind_op in range(lind_op_number):\n",
    "    print(f'{lind_op} out of {lind_op_number-1}')\n",
    "    eff_lind_taylor.append([])\n",
    "    eff_lind.append([])\n",
    "    L_matrix = s1.eff_lindblau_list[lind_op]\n",
    "    L_nonzeros = []\n",
    "    L_nonzeros_pos = []\n",
    "    for i in  range(L_matrix.nrows()):\n",
    "        for j in  range(L_matrix.ncols()):\n",
    "            if not str(symround(L_matrix[i,j]))==str(0):\n",
    "                L_nonzeros.append(L_matrix[i,j])\n",
    "                L_nonzeros_pos.append((i,j))\n",
    "    eff_lind_coeff.append(s1.L_coeffs[lind_op])\n",
    "    \n",
    "    for which in range(len(L_nonzeros)):\n",
    "\n",
    "        L_elem = L_nonzeros[which]\n",
    "        b = L_elem\n",
    "        \n",
    "        b = b._mathematica_().ReplaceAll(f'DE->DEg*gamma*C^({n})')._sage_()\n",
    "        #b = b.subs(DE = DEg*gamma*C^n)\n",
    "        \n",
    "        b = b._mathematica_().ReplaceAll(f'De->Deg*gamma*C^({n})')._sage_()\n",
    "        #b = b.subs(De3 = Deg3*gamma*C^n) #MAKE ZERO  \n",
    "        \n",
    "        #b = b.subs(phi = phi_val)\n",
    "        \n",
    "        #b = MMA_simplify(b)\n",
    "        \n",
    "        #b = b._mathematica_().ReplaceAll('g_f->g*(R_f)^(1/2)')._sage_()\n",
    "        b = b.subs(g_f=g*(R_f)^(1/2))\n",
    "\n",
    "        b = b._mathematica_().ReplaceAll('gamma_f->gamma*r_f')._sage_()\n",
    "        #b = b.subs(gamma_f=gamma*r_f)\n",
    "\n",
    "        b = b._mathematica_().ReplaceAll('gamma_g->gamma*r_g')._sage_()\n",
    "        #b = b.subs(gamma_g=gamma*r_g)\n",
    "        \n",
    "        #b = b._mathematica_().ReplaceAll(\"g-> (C*gamma*kappa_c)^(1/2)\")._sage_()\n",
    "        b = b.subs(g = (C*gamma*kappa_c)^(1/2)) \n",
    "        \n",
    "        b = b._mathematica_().ReplaceAll('v->(c*kappa_b*kappa_c)^(1/2)')._sage_()\n",
    "        \n",
    "        b = b.subs(c=C)\n",
    "        \n",
    "        b = SR(str(b).replace('Sqrt','sqrt'))\n",
    "        \n",
    "        eff_lind[lind_op].append(b)\n",
    "        \n",
    "print('\\n Done!')\n",
    "\n",
    "\n",
    "eff_hamiltonian_tayl = eff_hamiltonian_tayl_temp\n",
    "\n",
    "a = eff_hamiltonian_tayl[0,0]\n",
    "#a = symround( MMA_simplify(a,full=False) ,digits = 14)\n",
    "b = eff_hamiltonian_tayl[1,1]\n",
    "#b = symround(MMA_simplify(b,full=False),digits = 14)\n",
    "c = eff_hamiltonian_tayl[3,3]\n",
    "#c = symround(MMA_simplify(c,full=False),digits = 14)\n",
    "d = eff_hamiltonian_tayl[4,4]\n",
    "#d = symround(MMA_simplify(d,full=False),digits = 14)\n",
    "e = eff_hamiltonian_tayl[5,5]\n",
    "#e = symround(MMA_simplify(e,full=False),digits = 14)\n",
    "f = eff_hamiltonian_tayl[7,7]\n",
    "#f = symround(MMA_simplify(f,full=False),digits = 14)"
   ]
  },
  {
   "cell_type": "markdown",
   "id": "f1ddbf1c",
   "metadata": {},
   "source": [
    "# See results"
   ]
  },
  {
   "cell_type": "code",
   "execution_count": null,
   "id": "64e94a3b",
   "metadata": {},
   "outputs": [],
   "source": [
    "m = 1"
   ]
  },
  {
   "cell_type": "code",
   "execution_count": 134,
   "id": "da8c8927",
   "metadata": {},
   "outputs": [
    {
     "name": "stdout",
     "output_type": "stream",
     "text": [
      "Numerator\n"
     ]
    },
    {
     "data": {
      "text/html": [
       "<html><script type=\"math/tex; mode=display\">\\newcommand{\\Bold}[1]{\\mathbf{#1}}\\left(0.16461 - 0.30919i\\right) \\, {\\Omega}^{2}</script></html>"
      ],
      "text/latex": [
       "$$\\newcommand{\\Bold}[1]{\\mathbf{#1}}\\left(0.16461 - 0.30919i\\right) \\, {\\Omega}^{2}$$"
      ],
      "text/plain": [
       "(0.16461 - 0.30919*I)*Omega^2"
      ]
     },
     "metadata": {},
     "output_type": "display_data"
    },
    {
     "name": "stdout",
     "output_type": "stream",
     "text": [
      "\n",
      "\n",
      "Denominator\n"
     ]
    },
    {
     "data": {
      "text/html": [
       "<html><script type=\"math/tex; mode=display\">\\newcommand{\\Bold}[1]{\\mathbf{#1}}C + 1.3759 + 0.73252i</script></html>"
      ],
      "text/latex": [
       "$$\\newcommand{\\Bold}[1]{\\mathbf{#1}}C + 1.3759 + 0.73252i$$"
      ],
      "text/plain": [
       "C + 1.3759 + 0.73252*I"
      ]
     },
     "metadata": {},
     "output_type": "display_data"
    }
   ],
   "source": [
    "x = symround(a.subs(R_f=2.1,Deg=np.sqrt(2)*C^m,Deg2=np.e*C^m,DEg=np.sqrt(5)*C^m,r_g=np.sqrt(3),gamma=0.3,r_f=0.1*np.sqrt(2), phi=np.pi/10,gamma_f=1.45,gamma_g=3),digits=14)\n",
    "x = x._mathematica_().Together().sage()\n",
    "print('Numerator')\n",
    "show(symround(x._mathematica_().Numerator()._sage_().expand(),digits=5))\n",
    "print('\\n\\nDenominator')\n",
    "show(symround(x._mathematica_().Denominator()._sage_().expand(),digits=5))"
   ]
  },
  {
   "cell_type": "code",
   "execution_count": 111,
   "id": "31f015d8",
   "metadata": {},
   "outputs": [
    {
     "name": "stdout",
     "output_type": "stream",
     "text": [
      "coeff:\n"
     ]
    },
    {
     "data": {
      "text/html": [
       "<html><script type=\"math/tex; mode=display\">\\newcommand{\\Bold}[1]{\\mathbf{#1}}\\sqrt{{\\gamma}}</script></html>"
      ],
      "text/latex": [
       "$$\\newcommand{\\Bold}[1]{\\mathbf{#1}}\\sqrt{{\\gamma}}$$"
      ],
      "text/plain": [
       "sqrt(gamma)"
      ]
     },
     "metadata": {},
     "output_type": "display_data"
    }
   ],
   "source": [
    "#m = 3\n",
    "\n",
    "lindop = 5\n",
    "pos = 0\n",
    "\n",
    "err = eff_lind[lindop][pos].subs(Omega=1,kappa_c=5.61,kappa_b=1.79, R_f=2.1,Deg=np.sqrt(2)*C^m,Deg2=np.e*C^m,DEg=np.sqrt(5)*C^m,r_g=np.sqrt(3),gamma=0.3,r_f=0.1*np.sqrt(2), phi=np.pi/10,gamma_f=1.45,gamma_g=3)\n",
    "\n",
    "err = err._mathematica_().Together()._sage_() \n",
    "err = SR(str(( err)).replace('Sqrt','sqrt'))\n",
    "#err = SR(str(MMA_simplify( err,full=False )).replace('Sqrt','sqrt')).simplify()\n",
    "#show( symround( err ,digits=1) )\n",
    "print(f'coeff:')\n",
    "show(eff_lind_coeff[lindop])"
   ]
  },
  {
   "cell_type": "code",
   "execution_count": 112,
   "id": "93dfa6fd",
   "metadata": {},
   "outputs": [
    {
     "name": "stdout",
     "output_type": "stream",
     "text": [
      "Numerator\n"
     ]
    },
    {
     "data": {
      "text/html": [
       "<html><script type=\"math/tex; mode=display\">\\newcommand{\\Bold}[1]{\\mathbf{#1}}-\\left(132 i - 146\\right) \\, C^{3}</script></html>"
      ],
      "text/latex": [
       "$$\\newcommand{\\Bold}[1]{\\mathbf{#1}}-\\left(132 i - 146\\right) \\, C^{3}$$"
      ],
      "text/plain": [
       "-(132*I - 146)*C^3"
      ]
     },
     "metadata": {},
     "output_type": "display_data"
    },
    {
     "name": "stdout",
     "output_type": "stream",
     "text": [
      "3\n",
      "\n",
      "\n",
      "Denominator\n"
     ]
    },
    {
     "data": {
      "text/html": [
       "<html><script type=\"math/tex; mode=display\">\\newcommand{\\Bold}[1]{\\mathbf{#1}}912 \\, C^{5} - \\left(4064 i - 648\\right) \\, C^{4} - \\left(2624 i + 2208\\right) \\, C^{3} - \\left(412 i + 1152\\right) \\, C^{2} - \\left(150. + 16.5i\\right) \\, C - 5.25</script></html>"
      ],
      "text/latex": [
       "$$\\newcommand{\\Bold}[1]{\\mathbf{#1}}912 \\, C^{5} - \\left(4064 i - 648\\right) \\, C^{4} - \\left(2624 i + 2208\\right) \\, C^{3} - \\left(412 i + 1152\\right) \\, C^{2} - \\left(150. + 16.5i\\right) \\, C - 5.25$$"
      ],
      "text/plain": [
       "912*C^5 - (4064*I - 648)*C^4 - (2624*I + 2208)*C^3 - (412*I + 1152)*C^2 - (150. + 16.5*I)*C - 5.25"
      ]
     },
     "metadata": {},
     "output_type": "display_data"
    },
    {
     "name": "stdout",
     "output_type": "stream",
     "text": [
      "5\n",
      "\n",
      "\n",
      "extra Denominator\n"
     ]
    },
    {
     "data": {
      "text/html": [
       "<html><script type=\"math/tex; mode=display\">\\newcommand{\\Bold}[1]{\\mathbf{#1}}1</script></html>"
      ],
      "text/latex": [
       "$$\\newcommand{\\Bold}[1]{\\mathbf{#1}}1$$"
      ],
      "text/plain": [
       "1"
      ]
     },
     "metadata": {},
     "output_type": "display_data"
    },
    {
     "name": "stdout",
     "output_type": "stream",
     "text": [
      "0\n"
     ]
    }
   ],
   "source": [
    "el = 0\n",
    "q = (symround(err._mathematica_().Numerator()._sage_() ,tol=1e-30 ).expand().operands()[el])\n",
    "\n",
    "print('Numerator')\n",
    "\n",
    "show(symround(q._mathematica_().Numerator()._sage_(),digits=3).expand())\n",
    "\n",
    "print(obtain_exponent(symround(q._mathematica_().Numerator()._sage_(),digits=3).expand()))\n",
    "\n",
    "print('\\n\\nDenominator')\n",
    "show(symround(q._mathematica_().Denominator()._sage_(),digits=3).expand())\n",
    "print(obtain_exponent(symround(q._mathematica_().Denominator()._sage_(),digits=3).expand()))\n",
    "\n",
    "print('\\n\\nextra Denominator')\n",
    "show( symround(err._mathematica_().Denominator()._sage_().expand(),digits=3))\n",
    "\n",
    "print(obtain_exponent(symround(err._mathematica_().Denominator()._sage_().expand(),digits=3)))"
   ]
  },
  {
   "cell_type": "code",
   "execution_count": 113,
   "id": "31ddb98f",
   "metadata": {
    "scrolled": true
   },
   "outputs": [
    {
     "data": {
      "text/html": [
       "<html><script type=\"math/tex; mode=display\">\\newcommand{\\Bold}[1]{\\mathbf{#1}}-\\frac{\\left(132 i - 146\\right) \\, C^{3}}{912 \\, C^{5} - \\left(4064 i - 648\\right) \\, C^{4} - \\left(2624 i + 2208\\right) \\, C^{3} - \\left(412 i + 1152\\right) \\, C^{2} - \\left(150. + 16.i\\right) \\, C - 5.2} + \\frac{\\left(9.4 - 29.i\\right) \\, C^{2}}{912 \\, C^{5} - \\left(4064 i - 648\\right) \\, C^{4} - \\left(2624 i + 2208\\right) \\, C^{3} - \\left(412 i + 1152\\right) \\, C^{2} - \\left(150. + 16.i\\right) \\, C - 5.2}</script></html>"
      ],
      "text/latex": [
       "$$\\newcommand{\\Bold}[1]{\\mathbf{#1}}-\\frac{\\left(132 i - 146\\right) \\, C^{3}}{912 \\, C^{5} - \\left(4064 i - 648\\right) \\, C^{4} - \\left(2624 i + 2208\\right) \\, C^{3} - \\left(412 i + 1152\\right) \\, C^{2} - \\left(150. + 16.i\\right) \\, C - 5.2} + \\frac{\\left(9.4 - 29.i\\right) \\, C^{2}}{912 \\, C^{5} - \\left(4064 i - 648\\right) \\, C^{4} - \\left(2624 i + 2208\\right) \\, C^{3} - \\left(412 i + 1152\\right) \\, C^{2} - \\left(150. + 16.i\\right) \\, C - 5.2}$$"
      ],
      "text/plain": [
       "-(132*I - 146)*C^3/(912*C^5 - (4064*I - 648)*C^4 - (2624*I + 2208)*C^3 - (412*I + 1152)*C^2 - (150. + 16.*I)*C - 5.2) + (9.4 - 29.*I)*C^2/(912*C^5 - (4064*I - 648)*C^4 - (2624*I + 2208)*C^3 - (412*I + 1152)*C^2 - (150. + 16.*I)*C - 5.2)"
      ]
     },
     "metadata": {},
     "output_type": "display_data"
    }
   ],
   "source": [
    "show(symround(err._mathematica_().Numerator()._sage_().expand(),tol=1e-30))\n",
    "#show(symround( err.numerator().expand()))"
   ]
  },
  {
   "cell_type": "code",
   "execution_count": 114,
   "id": "8f113cbf",
   "metadata": {},
   "outputs": [
    {
     "data": {
      "text/html": [
       "<html><script type=\"math/tex; mode=display\">\\newcommand{\\Bold}[1]{\\mathbf{#1}}1</script></html>"
      ],
      "text/latex": [
       "$$\\newcommand{\\Bold}[1]{\\mathbf{#1}}1$$"
      ],
      "text/plain": [
       "1"
      ]
     },
     "metadata": {},
     "output_type": "display_data"
    }
   ],
   "source": [
    "#show(symround(err.denominator().expand()))\n",
    "den = err._mathematica_().Denominator()._sage_().expand()\n",
    "den = SR(str(MMA_simplify( den,full=False )).replace('Sqrt','sqrt')).simplify()\n",
    "show(symround(den,tol=1e-30))"
   ]
  },
  {
   "cell_type": "markdown",
   "id": "594aef05",
   "metadata": {},
   "source": [
    "# Testing for auto"
   ]
  },
  {
   "cell_type": "code",
   "execution_count": 3,
   "id": "cf0b2c1e",
   "metadata": {},
   "outputs": [],
   "source": [
    "def obtain_exponent(expr):\n",
    "    expr = SR(str(( expr)).replace('Sqrt','sqrt'))\n",
    "    try:\n",
    "        exp = expr.op[0].op[0].op[0].op[1]\n",
    "    except:\n",
    "        try:\n",
    "            exp = expr.op[0].op[0].op[1]\n",
    "        except:\n",
    "            try:\n",
    "                exp = expr.op[0].op[1]\n",
    "            except:\n",
    "                exp = 0\n",
    "    return exp\n",
    "\n",
    "def obtain_expr_exp(expr):\n",
    "    try:\n",
    "        el = 0    \n",
    "        q = (expr._mathematica_().Numerator()._sage_() .expand().operands()[el])\n",
    "        q = SR(str(( q)).replace('Sqrt','sqrt'))\n",
    "        test_bool = (str(q._mathematica_().Numerator()._sage_().expand().denominator()) == str(1))\n",
    "        num_exp = (obtain_exponent(q._mathematica_().Numerator()._sage_().expand()))\n",
    "        den1_exp = (obtain_exponent(q._mathematica_().Denominator()._sage_().expand()))\n",
    "        den2_exp = (obtain_exponent(expr._mathematica_().Denominator()._sage_().expand()))\n",
    "        res = num_exp-den1_exp-den2_exp\n",
    "        if not test_bool:\n",
    "            #show(q)\n",
    "            res = obtain_exponent(q.numerator())-obtain_exponent(q.denominator())\n",
    "            return res\n",
    "        return res\n",
    "    except:\n",
    "        #print('altern')\n",
    "        den_exp = obtain_exponent( expr._mathematica_().Denominator()._sage_().expand())\n",
    "        num_exp = obtain_exponent( expr._mathematica_().Numerator()._sage_().expand())\n",
    "        return num_exp-den_exp\n"
   ]
  },
  {
   "cell_type": "code",
   "execution_count": 9,
   "id": "920d5027",
   "metadata": {},
   "outputs": [
    {
     "data": {
      "text/html": [
       "<html><script type=\"math/tex; mode=display\">\\newcommand{\\Bold}[1]{\\mathbf{#1}}0 \\sqrt{{\\kappa_c}}</script></html>"
      ],
      "text/latex": [
       "$$\\newcommand{\\Bold}[1]{\\mathbf{#1}}0 \\sqrt{{\\kappa_c}}$$"
      ],
      "text/plain": [
       "0 sqrt(kappa_c)"
      ]
     },
     "metadata": {},
     "output_type": "display_data"
    },
    {
     "name": "stdout",
     "output_type": "stream",
     "text": [
      "-2\n",
      "-3/2\n",
      "-3/2\n",
      "-3/2\n"
     ]
    },
    {
     "data": {
      "text/html": [
       "<html><script type=\"math/tex; mode=display\">\\newcommand{\\Bold}[1]{\\mathbf{#1}}1 \\sqrt{{\\gamma_g}}</script></html>"
      ],
      "text/latex": [
       "$$\\newcommand{\\Bold}[1]{\\mathbf{#1}}1 \\sqrt{{\\gamma_g}}$$"
      ],
      "text/plain": [
       "1 sqrt(gamma_g)"
      ]
     },
     "metadata": {},
     "output_type": "display_data"
    },
    {
     "name": "stdout",
     "output_type": "stream",
     "text": [
      "-2\n",
      "-1\n",
      "-1\n",
      "-1\n"
     ]
    },
    {
     "data": {
      "text/html": [
       "<html><script type=\"math/tex; mode=display\">\\newcommand{\\Bold}[1]{\\mathbf{#1}}2 \\sqrt{{\\gamma_f}}</script></html>"
      ],
      "text/latex": [
       "$$\\newcommand{\\Bold}[1]{\\mathbf{#1}}2 \\sqrt{{\\gamma_f}}$$"
      ],
      "text/plain": [
       "2 sqrt(gamma_f)"
      ]
     },
     "metadata": {},
     "output_type": "display_data"
    },
    {
     "name": "stdout",
     "output_type": "stream",
     "text": [
      "-2\n",
      "-1\n",
      "-1\n",
      "-1\n"
     ]
    },
    {
     "data": {
      "text/html": [
       "<html><script type=\"math/tex; mode=display\">\\newcommand{\\Bold}[1]{\\mathbf{#1}}3 \\sqrt{{\\gamma}}</script></html>"
      ],
      "text/latex": [
       "$$\\newcommand{\\Bold}[1]{\\mathbf{#1}}3 \\sqrt{{\\gamma}}$$"
      ],
      "text/plain": [
       "3 sqrt(gamma)"
      ]
     },
     "metadata": {},
     "output_type": "display_data"
    },
    {
     "name": "stdout",
     "output_type": "stream",
     "text": [
      "-3/2\n",
      "-3/2\n"
     ]
    },
    {
     "data": {
      "text/html": [
       "<html><script type=\"math/tex; mode=display\">\\newcommand{\\Bold}[1]{\\mathbf{#1}}4 \\sqrt{{\\gamma}}</script></html>"
      ],
      "text/latex": [
       "$$\\newcommand{\\Bold}[1]{\\mathbf{#1}}4 \\sqrt{{\\gamma}}$$"
      ],
      "text/plain": [
       "4 sqrt(gamma)"
      ]
     },
     "metadata": {},
     "output_type": "display_data"
    },
    {
     "name": "stdout",
     "output_type": "stream",
     "text": [
      "-3\n",
      "-2\n"
     ]
    },
    {
     "data": {
      "text/html": [
       "<html><script type=\"math/tex; mode=display\">\\newcommand{\\Bold}[1]{\\mathbf{#1}}5 \\sqrt{{\\kappa_b}}</script></html>"
      ],
      "text/latex": [
       "$$\\newcommand{\\Bold}[1]{\\mathbf{#1}}5 \\sqrt{{\\kappa_b}}$$"
      ],
      "text/plain": [
       "5 sqrt(kappa_b)"
      ]
     },
     "metadata": {},
     "output_type": "display_data"
    },
    {
     "name": "stdout",
     "output_type": "stream",
     "text": [
      "-2\n",
      "-1\n",
      "-1\n",
      "-1\n"
     ]
    }
   ],
   "source": [
    "mx = -100\n",
    "m = 1\n",
    "loop1 = True\n",
    "lindop = 0\n",
    "while(loop1):\n",
    "    try:\n",
    "        show(lindop,eff_lind_coeff[lindop]  )\n",
    "        pos = 0\n",
    "        loop2 = True\n",
    "        while(loop2):\n",
    "            try: \n",
    "                err = eff_lind[lindop][pos].subs(Omega=1,kappa_c=5.61,kappa_b=1.79, R_f=2.1,Deg=np.sqrt(2)*C^m,Deg2=np.e*C^m,DEg=np.sqrt(5)*C^m,r_g=np.sqrt(3),gamma=0.3,r_f=0.1*np.sqrt(2), phi=1/10*np.pi,gamma_f=1.45,gamma_g=3)\n",
    "                err = err._mathematica_().Together()._sage_() \n",
    "                exp = obtain_expr_exp(err)\n",
    "                if exp > mx:\n",
    "                    mx = exp\n",
    "                pos += 1\n",
    "                print(exp)\n",
    "            except IndexError:\n",
    "                loop2 = False\n",
    "        lindop +=1\n",
    "    except IndexError:\n",
    "        loop1 = False"
   ]
  },
  {
   "cell_type": "code",
   "execution_count": 63,
   "id": "a1139301",
   "metadata": {},
   "outputs": [
    {
     "data": {
      "text/html": [
       "<html><script type=\"math/tex; mode=display\">\\newcommand{\\Bold}[1]{\\mathbf{#1}}1.00000000000000</script></html>"
      ],
      "text/latex": [
       "$$\\newcommand{\\Bold}[1]{\\mathbf{#1}}1.00000000000000$$"
      ],
      "text/plain": [
       "1.00000000000000"
      ]
     },
     "metadata": {},
     "output_type": "display_data"
    }
   ],
   "source": [
    "show(mx)"
   ]
  },
  {
   "cell_type": "code",
   "execution_count": 179,
   "id": "aa470180",
   "metadata": {},
   "outputs": [
    {
     "data": {
      "text/html": [
       "<html><script type=\"math/tex; mode=display\">\\newcommand{\\Bold}[1]{\\mathbf{#1}}\\frac{2.36854385646540 \\, {\\left(\\left(2.2737367544323206 \\times 10^{-13} - 5513.660907473835i\\right) \\, C^{\\frac{7}{2}} + \\left(2.842170943040401 \\times 10^{-14} - 689.2076134342294i\\right) \\, C^{\\frac{5}{2}}\\right)}}{{\\left(9426.862830620365 \\, C^{5} + \\left(27285.3681027740 - 44079.8476731565i\\right) \\, C^{4} + \\left(8526.67753211688 - 98508.8580175064i\\right) \\, C^{3} + \\left(852.667753211688 - 29482.7478931105i\\right) \\, C^{2} + \\left(26.6458672878653 - 2878.20639191472i\\right) \\, C - 88.3799230197386i\\right)}^{1.00000000000000}}</script></html>"
      ],
      "text/latex": [
       "$$\\newcommand{\\Bold}[1]{\\mathbf{#1}}\\frac{2.36854385646540 \\, {\\left(\\left(2.2737367544323206 \\times 10^{-13} - 5513.660907473835i\\right) \\, C^{\\frac{7}{2}} + \\left(2.842170943040401 \\times 10^{-14} - 689.2076134342294i\\right) \\, C^{\\frac{5}{2}}\\right)}}{{\\left(9426.862830620365 \\, C^{5} + \\left(27285.3681027740 - 44079.8476731565i\\right) \\, C^{4} + \\left(8526.67753211688 - 98508.8580175064i\\right) \\, C^{3} + \\left(852.667753211688 - 29482.7478931105i\\right) \\, C^{2} + \\left(26.6458672878653 - 2878.20639191472i\\right) \\, C - 88.3799230197386i\\right)}^{1.00000000000000}}$$"
      ],
      "text/plain": [
       "2.36854385646540*((2.2737367544323206e-13 - 5513.660907473835*I)*C^(7/2) + (2.842170943040401e-14 - 689.2076134342294*I)*C^(5/2))/(9426.862830620365*C^5 + (27285.3681027740 - 44079.8476731565*I)*C^4 + (8526.67753211688 - 98508.8580175064*I)*C^3 + (852.667753211688 - 29482.7478931105*I)*C^2 + (26.6458672878653 - 2878.20639191472*I)*C - 88.3799230197386*I)^1.00000000000000"
      ]
     },
     "metadata": {},
     "output_type": "display_data"
    }
   ],
   "source": [
    "show(expr)"
   ]
  },
  {
   "cell_type": "code",
   "execution_count": 182,
   "id": "f8b64c4b",
   "metadata": {},
   "outputs": [],
   "source": []
  },
  {
   "cell_type": "code",
   "execution_count": 187,
   "id": "7ae7bd19",
   "metadata": {},
   "outputs": [
    {
     "data": {
      "text/plain": [
       "7/2"
      ]
     },
     "execution_count": 187,
     "metadata": {},
     "output_type": "execute_result"
    }
   ],
   "source": []
  },
  {
   "cell_type": "code",
   "execution_count": 188,
   "id": "b0ad42c0",
   "metadata": {},
   "outputs": [],
   "source": [
    "#TEST\n",
    "def obtain_exponent(expr):\n",
    "    try:\n",
    "        orde = SR(str(( expr)).replace('Sqrt','sqrt')).Order()\n",
    "        exp = orde.op[0].op[0].op[0].op[1]\n",
    "    except TypeError:\n",
    "        exp = 0\n",
    "    return exp\n",
    "\n",
    "orde.op[0].op[0].op[0].op[1]"
   ]
  },
  {
   "cell_type": "code",
   "execution_count": null,
   "id": "99a9dc78",
   "metadata": {},
   "outputs": [],
   "source": [
    "el = 0\n",
    "q = (symround(err._mathematica_().Numerator()._sage_() ,tol=1e-30 ).expand().operands()[el])\n",
    "\n",
    "print('Numerator')\n",
    "\n",
    "show(symround(q._mathematica_().Numerator()._sage_(),digits=3).expand())\n",
    "\n",
    "print(obtain_exponent(symround(q._mathematica_().Numerator()._sage_(),digits=3).expand()))\n",
    "\n",
    "print('\\n\\nDenominator')\n",
    "show(symround(q._mathematica_().Denominator()._sage_(),digits=3).expand())\n",
    "print(obtain_exponent(symround(q._mathematica_().Denominator()._sage_(),digits=3).expand()))\n",
    "\n",
    "print('\\n\\nextra Denominator')\n",
    "show( symround(err._mathematica_().Denominator()._sage_().expand(),digits=3))\n",
    "\n",
    "print(obtain_exponent(symround(err._mathematica_().Denominator()._sage_().expand(),digits=3)))"
   ]
  },
  {
   "cell_type": "code",
   "execution_count": 36,
   "id": "d7758542",
   "metadata": {},
   "outputs": [
    {
     "data": {
      "text/html": [
       "<html><script type=\"math/tex; mode=display\">\\newcommand{\\Bold}[1]{\\mathbf{#1}}-\\frac{{\\left(-i \\, \\sqrt{C \\gamma \\kappa_{c}} C^{3} \\sqrt{R_{f}} \\kappa_{b}^{4} \\kappa_{c}^{3} e^{\\left(2 i \\, \\phi\\right)} - i \\, \\sqrt{C \\gamma \\kappa_{c}} C^{3} \\sqrt{R_{f}} \\kappa_{b}^{4} \\kappa_{c}^{3} e^{\\left(-2 i \\, \\phi\\right)} - 0.12i \\, \\sqrt{C \\gamma \\kappa_{c}} C^{2} \\sqrt{R_{f}} \\kappa_{b}^{4} \\kappa_{c}^{3} e^{\\left(2 i \\, \\phi\\right)} - 0.12i \\, \\sqrt{C \\gamma \\kappa_{c}} C^{2} \\sqrt{R_{f}} \\kappa_{b}^{4} \\kappa_{c}^{3} e^{\\left(-2 i \\, \\phi\\right)}\\right)} \\Omega \\sqrt{\\kappa_{c}}}{C^{4} {{{\\Delta E}}^\\gamma} \\gamma \\kappa_{b}^{4} \\kappa_{c}^{4} e^{\\left(4 i \\, \\phi\\right)} + C^{4} {{{\\Delta E}}^\\gamma} \\gamma \\kappa_{b}^{4} \\kappa_{c}^{4} e^{\\left(-4 i \\, \\phi\\right)} - 2 \\, C^{4} {{{\\Delta E}}^\\gamma} \\gamma \\kappa_{b}^{4} \\kappa_{c}^{4} + 2 i \\, C^{4} R_{f} \\gamma \\kappa_{b}^{4} \\kappa_{c}^{4} - 0.50i \\, C^{4} \\gamma_{f} \\kappa_{b}^{4} \\kappa_{c}^{4} e^{\\left(4 i \\, \\phi\\right)} - 0.50i \\, C^{4} \\gamma_{g} \\kappa_{b}^{4} \\kappa_{c}^{4} e^{\\left(4 i \\, \\phi\\right)} - 0.50i \\, C^{4} \\gamma_{f} \\kappa_{b}^{4} \\kappa_{c}^{4} e^{\\left(-4 i \\, \\phi\\right)} - 0.50i \\, C^{4} \\gamma_{g} \\kappa_{b}^{4} \\kappa_{c}^{4} e^{\\left(-4 i \\, \\phi\\right)} - 4 \\, C^{3} {{{\\Delta E}}^\\gamma} \\gamma \\kappa_{b}^{4} \\kappa_{c}^{4} + 1.2i \\, C^{3} R_{f} \\gamma \\kappa_{b}^{4} \\kappa_{c}^{4} + i \\, C^{4} \\gamma_{f} \\kappa_{b}^{4} \\kappa_{c}^{4} + i \\, C^{4} \\gamma_{g} \\kappa_{b}^{4} \\kappa_{c}^{4} - 1.2 \\, C^{2} {{{\\Delta E}}^\\gamma} \\gamma \\kappa_{b}^{4} \\kappa_{c}^{4} + 0.19i \\, C^{2} R_{f} \\gamma \\kappa_{b}^{4} \\kappa_{c}^{4} + 2 i \\, C^{3} \\gamma_{f} \\kappa_{b}^{4} \\kappa_{c}^{4} + 2 i \\, C^{3} \\gamma_{g} \\kappa_{b}^{4} \\kappa_{c}^{4} - 0.12 \\, C {{{\\Delta E}}^\\gamma} \\gamma \\kappa_{b}^{4} \\kappa_{c}^{4} + 0.0078i \\, C R_{f} \\gamma \\kappa_{b}^{4} \\kappa_{c}^{4} + 0.62i \\, C^{2} \\gamma_{f} \\kappa_{b}^{4} \\kappa_{c}^{4} + 0.62i \\, C^{2} \\gamma_{g} \\kappa_{b}^{4} \\kappa_{c}^{4} - 0.0039 \\, {{{\\Delta E}}^\\gamma} \\gamma \\kappa_{b}^{4} \\kappa_{c}^{4} + 0.062i \\, C \\gamma_{f} \\kappa_{b}^{4} \\kappa_{c}^{4} + 0.062i \\, C \\gamma_{g} \\kappa_{b}^{4} \\kappa_{c}^{4} + 0.0020i \\, \\gamma_{f} \\kappa_{b}^{4} \\kappa_{c}^{4} + 0.0020i \\, \\gamma_{g} \\kappa_{b}^{4} \\kappa_{c}^{4}}</script></html>"
      ],
      "text/latex": [
       "$$\\newcommand{\\Bold}[1]{\\mathbf{#1}}-\\frac{{\\left(-i \\, \\sqrt{C \\gamma \\kappa_{c}} C^{3} \\sqrt{R_{f}} \\kappa_{b}^{4} \\kappa_{c}^{3} e^{\\left(2 i \\, \\phi\\right)} - i \\, \\sqrt{C \\gamma \\kappa_{c}} C^{3} \\sqrt{R_{f}} \\kappa_{b}^{4} \\kappa_{c}^{3} e^{\\left(-2 i \\, \\phi\\right)} - 0.12i \\, \\sqrt{C \\gamma \\kappa_{c}} C^{2} \\sqrt{R_{f}} \\kappa_{b}^{4} \\kappa_{c}^{3} e^{\\left(2 i \\, \\phi\\right)} - 0.12i \\, \\sqrt{C \\gamma \\kappa_{c}} C^{2} \\sqrt{R_{f}} \\kappa_{b}^{4} \\kappa_{c}^{3} e^{\\left(-2 i \\, \\phi\\right)}\\right)} \\Omega \\sqrt{\\kappa_{c}}}{C^{4} {{{\\Delta E}}^\\gamma} \\gamma \\kappa_{b}^{4} \\kappa_{c}^{4} e^{\\left(4 i \\, \\phi\\right)} + C^{4} {{{\\Delta E}}^\\gamma} \\gamma \\kappa_{b}^{4} \\kappa_{c}^{4} e^{\\left(-4 i \\, \\phi\\right)} - 2 \\, C^{4} {{{\\Delta E}}^\\gamma} \\gamma \\kappa_{b}^{4} \\kappa_{c}^{4} + 2 i \\, C^{4} R_{f} \\gamma \\kappa_{b}^{4} \\kappa_{c}^{4} - 0.50i \\, C^{4} \\gamma_{f} \\kappa_{b}^{4} \\kappa_{c}^{4} e^{\\left(4 i \\, \\phi\\right)} - 0.50i \\, C^{4} \\gamma_{g} \\kappa_{b}^{4} \\kappa_{c}^{4} e^{\\left(4 i \\, \\phi\\right)} - 0.50i \\, C^{4} \\gamma_{f} \\kappa_{b}^{4} \\kappa_{c}^{4} e^{\\left(-4 i \\, \\phi\\right)} - 0.50i \\, C^{4} \\gamma_{g} \\kappa_{b}^{4} \\kappa_{c}^{4} e^{\\left(-4 i \\, \\phi\\right)} - 4 \\, C^{3} {{{\\Delta E}}^\\gamma} \\gamma \\kappa_{b}^{4} \\kappa_{c}^{4} + 1.2i \\, C^{3} R_{f} \\gamma \\kappa_{b}^{4} \\kappa_{c}^{4} + i \\, C^{4} \\gamma_{f} \\kappa_{b}^{4} \\kappa_{c}^{4} + i \\, C^{4} \\gamma_{g} \\kappa_{b}^{4} \\kappa_{c}^{4} - 1.2 \\, C^{2} {{{\\Delta E}}^\\gamma} \\gamma \\kappa_{b}^{4} \\kappa_{c}^{4} + 0.19i \\, C^{2} R_{f} \\gamma \\kappa_{b}^{4} \\kappa_{c}^{4} + 2 i \\, C^{3} \\gamma_{f} \\kappa_{b}^{4} \\kappa_{c}^{4} + 2 i \\, C^{3} \\gamma_{g} \\kappa_{b}^{4} \\kappa_{c}^{4} - 0.12 \\, C {{{\\Delta E}}^\\gamma} \\gamma \\kappa_{b}^{4} \\kappa_{c}^{4} + 0.0078i \\, C R_{f} \\gamma \\kappa_{b}^{4} \\kappa_{c}^{4} + 0.62i \\, C^{2} \\gamma_{f} \\kappa_{b}^{4} \\kappa_{c}^{4} + 0.62i \\, C^{2} \\gamma_{g} \\kappa_{b}^{4} \\kappa_{c}^{4} - 0.0039 \\, {{{\\Delta E}}^\\gamma} \\gamma \\kappa_{b}^{4} \\kappa_{c}^{4} + 0.062i \\, C \\gamma_{f} \\kappa_{b}^{4} \\kappa_{c}^{4} + 0.062i \\, C \\gamma_{g} \\kappa_{b}^{4} \\kappa_{c}^{4} + 0.0020i \\, \\gamma_{f} \\kappa_{b}^{4} \\kappa_{c}^{4} + 0.0020i \\, \\gamma_{g} \\kappa_{b}^{4} \\kappa_{c}^{4}}$$"
      ],
      "text/plain": [
       "-(-I*sqrt(C*gamma*kappa_c)*C^3*sqrt(R_f)*kappa_b^4*kappa_c^3*e^(2*I*phi) - I*sqrt(C*gamma*kappa_c)*C^3*sqrt(R_f)*kappa_b^4*kappa_c^3*e^(-2*I*phi) - 0.12*I*sqrt(C*gamma*kappa_c)*C^2*sqrt(R_f)*kappa_b^4*kappa_c^3*e^(2*I*phi) - 0.12*I*sqrt(C*gamma*kappa_c)*C^2*sqrt(R_f)*kappa_b^4*kappa_c^3*e^(-2*I*phi))*Omega*sqrt(kappa_c)/(C^4*DEg*gamma*kappa_b^4*kappa_c^4*e^(4*I*phi) + C^4*DEg*gamma*kappa_b^4*kappa_c^4*e^(-4*I*phi) - 2*C^4*DEg*gamma*kappa_b^4*kappa_c^4 + 2*I*C^4*R_f*gamma*kappa_b^4*kappa_c^4 - 0.50*I*C^4*gamma_f*kappa_b^4*kappa_c^4*e^(4*I*phi) - 0.50*I*C^4*gamma_g*kappa_b^4*kappa_c^4*e^(4*I*phi) - 0.50*I*C^4*gamma_f*kappa_b^4*kappa_c^4*e^(-4*I*phi) - 0.50*I*C^4*gamma_g*kappa_b^4*kappa_c^4*e^(-4*I*phi) - 4*C^3*DEg*gamma*kappa_b^4*kappa_c^4 + 1.2*I*C^3*R_f*gamma*kappa_b^4*kappa_c^4 + I*C^4*gamma_f*kappa_b^4*kappa_c^4 + I*C^4*gamma_g*kappa_b^4*kappa_c^4 - 1.2*C^2*DEg*gamma*kappa_b^4*kappa_c^4 + 0.19*I*C^2*R_f*gamma*kappa_b^4*kappa_c^4 + 2*I*C^3*gamma_f*kappa_b^4*kappa_c^4 + 2*I*C^3*gamma_g*kappa_b^4*kappa_c^4 - 0.12*C*DEg*gamma*kappa_b^4*kappa_c^4 + 0.0078*I*C*R_f*gamma*kappa_b^4*kappa_c^4 + 0.62*I*C^2*gamma_f*kappa_b^4*kappa_c^4 + 0.62*I*C^2*gamma_g*kappa_b^4*kappa_c^4 - 0.0039*DEg*gamma*kappa_b^4*kappa_c^4 + 0.062*I*C*gamma_f*kappa_b^4*kappa_c^4 + 0.062*I*C*gamma_g*kappa_b^4*kappa_c^4 + 0.0020*I*gamma_f*kappa_b^4*kappa_c^4 + 0.0020*I*gamma_g*kappa_b^4*kappa_c^4)"
      ]
     },
     "metadata": {},
     "output_type": "display_data"
    }
   ],
   "source": [
    "lindop = 0\n",
    "pos = 0 \n",
    "show(symround(eff_lind[lindop][pos]))"
   ]
  },
  {
   "cell_type": "code",
   "execution_count": 131,
   "id": "54bd856e",
   "metadata": {},
   "outputs": [
    {
     "data": {
      "text/html": [
       "<html><script type=\"math/tex; mode=display\">\\newcommand{\\Bold}[1]{\\mathbf{#1}}\\frac{0.50 \\, {\\left(C - 0.50i \\, \\mathit{Deg} + 0.25\\right)} {\\Omega}^{2}}{C {\\left(\\mathit{Deg} + 0.50i\\right)} R_{f} {\\gamma} + {\\left(C - 0.50i \\, \\mathit{Deg} + 0.25\\right)} {{{\\Delta E}}^\\gamma} {\\gamma} + {\\left(0.50i \\, C + 0.25 \\, \\mathit{Deg} + 0.12i\\right)} {\\gamma_f} + {\\left(0.50i \\, C + 0.25 \\, \\mathit{Deg} + 0.12i\\right)} {\\gamma_g}}</script></html>"
      ],
      "text/latex": [
       "$$\\newcommand{\\Bold}[1]{\\mathbf{#1}}\\frac{0.50 \\, {\\left(C - 0.50i \\, \\mathit{Deg} + 0.25\\right)} {\\Omega}^{2}}{C {\\left(\\mathit{Deg} + 0.50i\\right)} R_{f} {\\gamma} + {\\left(C - 0.50i \\, \\mathit{Deg} + 0.25\\right)} {{{\\Delta E}}^\\gamma} {\\gamma} + {\\left(0.50i \\, C + 0.25 \\, \\mathit{Deg} + 0.12i\\right)} {\\gamma_f} + {\\left(0.50i \\, C + 0.25 \\, \\mathit{Deg} + 0.12i\\right)} {\\gamma_g}}$$"
      ],
      "text/plain": [
       "0.50*(C - 0.50*I*Deg + 0.25)*Omega^2/(C*(Deg + 0.50*I)*R_f*gamma + (C - 0.50*I*Deg + 0.25)*DEg*gamma + (0.50*I*C + 0.25*Deg + 0.12*I)*gamma_f + (0.50*I*C + 0.25*Deg + 0.12*I)*gamma_g)"
      ]
     },
     "metadata": {},
     "output_type": "display_data"
    }
   ],
   "source": []
  },
  {
   "cell_type": "code",
   "execution_count": 7,
   "id": "eeab2ec8",
   "metadata": {},
   "outputs": [
    {
     "data": {
      "text/html": [
       "<html><script type=\"math/tex; mode=display\">\\newcommand{\\Bold}[1]{\\mathbf{#1}}\\frac{0.50 \\, {\\Omega}^{2} {\\left({c} + 0.25\\right)}}{{\\left(-0.50i \\, C R_{f} + {{{\\Delta E}}^\\gamma} {c} + 0.25 \\, {{{\\Delta E}}^\\gamma}\\right)} {\\gamma} + {\\left(-0.50i \\, {c} - 0.12i\\right)} {\\gamma_f} + {\\left(-0.50i \\, {c} - 0.12i\\right)} {\\gamma_g}}</script></html>"
      ],
      "text/latex": [
       "$$\\newcommand{\\Bold}[1]{\\mathbf{#1}}\\frac{0.50 \\, {\\Omega}^{2} {\\left({c} + 0.25\\right)}}{{\\left(-0.50i \\, C R_{f} + {{{\\Delta E}}^\\gamma} {c} + 0.25 \\, {{{\\Delta E}}^\\gamma}\\right)} {\\gamma} + {\\left(-0.50i \\, {c} - 0.12i\\right)} {\\gamma_f} + {\\left(-0.50i \\, {c} - 0.12i\\right)} {\\gamma_g}}$$"
      ],
      "text/plain": [
       "0.50*Omega^2*(c + 0.25)/((-0.50*I*C*R_f + DEg*c + 0.25*DEg)*gamma + (-0.50*I*c - 0.12*I)*gamma_f + (-0.50*I*c - 0.12*I)*gamma_g)"
      ]
     },
     "metadata": {},
     "output_type": "display_data"
    }
   ],
   "source": [
    "show(symround(eff_hamiltonian_tayl[0,0]  ))"
   ]
  },
  {
   "cell_type": "code",
   "execution_count": 8,
   "id": "8b6c90b6",
   "metadata": {},
   "outputs": [
    {
     "data": {
      "text/html": [
       "<html><script type=\"math/tex; mode=display\">\\newcommand{\\Bold}[1]{\\mathbf{#1}}\\frac{0.50 \\, {\\left({\\left(\\mathit{Deg} - 0.50i\\right)} {c} - 0.50i \\, C + 0.25 \\, \\mathit{Deg} - 0.12i\\right)} {\\Omega}^{2}}{{\\left(C {\\left(-0.50i \\, \\mathit{Deg} - 0.25\\right)} R_{f} + {\\left(\\mathit{Deg} {c} - 0.50i \\, C + 0.25 \\, \\mathit{Deg} - 0.50i \\, {c} - 0.12i\\right)} {{{\\Delta E}}^\\gamma}\\right)} {\\gamma} + {\\left({\\left(-0.50i \\, \\mathit{Deg} - 0.25\\right)} {c} - 0.25 \\, C - 0.12i \\, \\mathit{Deg} - 0.062\\right)} {\\gamma_f} + {\\left({\\left(-0.50i \\, \\mathit{Deg} - 0.25\\right)} {c} - 0.25 \\, C - 0.12i \\, \\mathit{Deg} - 0.062\\right)} {\\gamma_g}}</script></html>"
      ],
      "text/latex": [
       "$$\\newcommand{\\Bold}[1]{\\mathbf{#1}}\\frac{0.50 \\, {\\left({\\left(\\mathit{Deg} - 0.50i\\right)} {c} - 0.50i \\, C + 0.25 \\, \\mathit{Deg} - 0.12i\\right)} {\\Omega}^{2}}{{\\left(C {\\left(-0.50i \\, \\mathit{Deg} - 0.25\\right)} R_{f} + {\\left(\\mathit{Deg} {c} - 0.50i \\, C + 0.25 \\, \\mathit{Deg} - 0.50i \\, {c} - 0.12i\\right)} {{{\\Delta E}}^\\gamma}\\right)} {\\gamma} + {\\left({\\left(-0.50i \\, \\mathit{Deg} - 0.25\\right)} {c} - 0.25 \\, C - 0.12i \\, \\mathit{Deg} - 0.062\\right)} {\\gamma_f} + {\\left({\\left(-0.50i \\, \\mathit{Deg} - 0.25\\right)} {c} - 0.25 \\, C - 0.12i \\, \\mathit{Deg} - 0.062\\right)} {\\gamma_g}}$$"
      ],
      "text/plain": [
       "0.50*((Deg - 0.50*I)*c - 0.50*I*C + 0.25*Deg - 0.12*I)*Omega^2/((C*(-0.50*I*Deg - 0.25)*R_f + (Deg*c - 0.50*I*C + 0.25*Deg - 0.50*I*c - 0.12*I)*DEg)*gamma + ((-0.50*I*Deg - 0.25)*c - 0.25*C - 0.12*I*Deg - 0.062)*gamma_f + ((-0.50*I*Deg - 0.25)*c - 0.25*C - 0.12*I*Deg - 0.062)*gamma_g)"
      ]
     },
     "metadata": {},
     "output_type": "display_data"
    }
   ],
   "source": [
    "show(symround(eff_hamiltonian_tayl[1,1]  ))"
   ]
  },
  {
   "cell_type": "code",
   "execution_count": null,
   "id": "2f5ea65a",
   "metadata": {},
   "outputs": [],
   "source": []
  }
 ],
 "metadata": {
  "kernelspec": {
   "display_name": "SageMath 9.3",
   "language": "sage",
   "name": "sagemath"
  },
  "language_info": {
   "codemirror_mode": {
    "name": "ipython",
    "version": 3
   },
   "file_extension": ".py",
   "mimetype": "text/x-python",
   "name": "python",
   "nbconvert_exporter": "python",
   "pygments_lexer": "ipython3",
   "version": "3.9.2"
  }
 },
 "nbformat": 4,
 "nbformat_minor": 5
}
