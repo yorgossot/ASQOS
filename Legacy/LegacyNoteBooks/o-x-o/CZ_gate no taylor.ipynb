{
 "cells": [
  {
   "cell_type": "markdown",
   "id": "11ebbd1c",
   "metadata": {},
   "source": [
    "# CZ gate  without Taylor"
   ]
  },
  {
   "cell_type": "code",
   "execution_count": null,
   "id": "a43f3bbd",
   "metadata": {
    "scrolled": false
   },
   "outputs": [
    {
     "name": "stdout",
     "output_type": "stream",
     "text": [
      "Initializing system x-o-  ...\n",
      "Constructing states and excitations...\n",
      "Constructing ground and first-excited statespace...\n",
      "Constructing gs_hamiltonian ...\n",
      "Constructing e1_hamiltonian ...\n",
      "Constructing interactions V_plus and V_minus ...\n",
      "Constructing NJ_hamiltonian  ...\n",
      "Inverting NJ_hamiltonian  ...\n",
      "Constructing eff_hamiltonian and effective lindblau operators ...\n"
     ]
    }
   ],
   "source": [
    "import sys\n",
    "sys.path.append(\"../\")\n",
    "from system import *\n",
    "\n",
    "s1 =  system('x-o-',MMA=True) \n",
    "#s1 = load_object('2')"
   ]
  },
  {
   "cell_type": "markdown",
   "id": "9d56099a",
   "metadata": {},
   "source": [
    "# $\\Delta_{E\\gamma} = \\ \\dfrac{\\Delta_E}{\\gamma}\\, C^n \\qquad \\Delta_{e\\gamma} = \\ \\dfrac{\\Delta_e}{\\gamma}\\, C^m$"
   ]
  },
  {
   "cell_type": "code",
   "execution_count": 53,
   "id": "2c69c1d2",
   "metadata": {},
   "outputs": [],
   "source": [
    "var('n','m',domain='positive')\n",
    "n = n\n",
    "m = m"
   ]
  },
  {
   "cell_type": "markdown",
   "id": "20c87d69",
   "metadata": {},
   "source": [
    "# Effective Hamiltonian Matrix obtain NO $C \\longrightarrow \\infty$ limit"
   ]
  },
  {
   "cell_type": "code",
   "execution_count": 54,
   "id": "6398d4bb",
   "metadata": {
    "scrolled": true
   },
   "outputs": [
    {
     "name": "stdout",
     "output_type": "stream",
     "text": [
      "Calculating 0 out of [0, 1]...\n",
      "Calculating 1 out of [0, 1]...\n",
      "\n",
      "Real part of H_eff in ground state subspace taylor expanded in 1/C: \n"
     ]
    },
    {
     "data": {
      "text/html": [
       "<html><script type=\"math/tex; mode=display\">\\newcommand{\\Bold}[1]{\\mathbf{#1}}\\left(\\begin{array}{rr}\n",
       "\\frac{0.9631i \\, {\\Omega}^{2}}{{\\left(2.154i \\, C^{n} + C + 1.515\\right)} {\\gamma}} & 0 \\\\\n",
       "0 & \\frac{{\\left(-0.9631i \\, C^{m} + 0.3679 \\, C + 0.1772\\right)} {\\Omega}^{2}}{{\\left(0.05423i \\, C^{2} - 2.154i \\, C^{m + n} + C^{m + 1} + 1.515 \\, C^{m} + 0.8226 \\, C^{n + 1} + 0.7627i \\, C + 0.3961 \\, C^{n} + 0.2787i\\right)} {\\gamma}}\n",
       "\\end{array}\\right)</script></html>"
      ],
      "text/latex": [
       "$$\\newcommand{\\Bold}[1]{\\mathbf{#1}}\\left(\\begin{array}{rr}\n",
       "\\frac{0.9631i \\, {\\Omega}^{2}}{{\\left(2.154i \\, C^{n} + C + 1.515\\right)} {\\gamma}} & 0 \\\\\n",
       "0 & \\frac{{\\left(-0.9631i \\, C^{m} + 0.3679 \\, C + 0.1772\\right)} {\\Omega}^{2}}{{\\left(0.05423i \\, C^{2} - 2.154i \\, C^{m + n} + C^{m + 1} + 1.515 \\, C^{m} + 0.8226 \\, C^{n + 1} + 0.7627i \\, C + 0.3961 \\, C^{n} + 0.2787i\\right)} {\\gamma}}\n",
       "\\end{array}\\right)$$"
      ],
      "text/plain": [
       "[                                                                                                                     0.9631*I*Omega^2/((2.154*I*C^n + C + 1.515)*gamma)                                                                                                                                                                       0]\n",
       "[                                                                                                                                                                      0 (-0.9631*I*C^m + 0.3679*C + 0.1772)*Omega^2/((0.05423*I*C^2 - 2.154*I*C^(m + n) + C^(m + 1) + 1.515*C^m + 0.8226*C^(n + 1) + 0.7627*I*C + 0.3961*C^n + 0.2787*I)*gamma)]"
      ]
     },
     "metadata": {},
     "output_type": "display_data"
    }
   ],
   "source": [
    "phi_val = 0\n",
    "var('gamma','DE','De','g','g_f','Omega','v','gamma_f','gamma_g','phi',domain='positive')\n",
    "var('DEt',domain='complex',  latex_name =r'\\tilde{\\Delta }_E')\n",
    "var('Det',domain='complex',  latex_name =r'\\tilde{\\Delta }_e')\n",
    "var('DEg',domain='positive',  latex_name =r'\\Delta_{E\\gamma}')\n",
    "var('Deg',domain='positive',  latex_name =r'\\Delta_{e\\gamma}')\n",
    "var('kappa_c','kappa_b',domain='positive')\n",
    "var('C',domain='positive')\n",
    "var('c',domain='positive',  latex_name =r'c')\n",
    "\n",
    "eff_hamiltonian_tayl = sg.copy( s1.eff_hamiltonian.parent().zero())\n",
    "for diag in s1.pos_gs:\n",
    "    print(f'Calculating {diag} out of {s1.pos_gs}...')\n",
    "    #Take only one of the compl conj terms. Switch maybe second 0 to 1\n",
    "    min_expr_len = 10**10\n",
    "    for term in range(1):\n",
    "        b = s1.eff_hamiltonian[diag,diag]\n",
    "\n",
    "        b = b.operands()[1].operands()[term]\n",
    "        #b = b.subs(DE=+0.5*I*gamma_f + 0.5*I*gamma_g + DEt*gamma)\n",
    "        #b = b.subs(De=+0.5*I*gamma   +Det*gamma)\n",
    "        b = b.subs(De=Deg*gamma*C^m)\n",
    "        b = b.subs(DE=DEg*gamma*C^n)\n",
    "        \n",
    "        \n",
    "        var('R_f',domain='positive')#ratio  (g_f/g)^2\n",
    "        b = b.subs(g_f=g*sqrt(R_f))\n",
    "\n",
    "        var('R_v',domain='positive',  latex_name =r'R_{\\nu}') #ratio (v/g)^2\n",
    "        b = b.subs(v=g*sqrt(R_v))\n",
    "\n",
    "        var('r_b',domain='positive')\n",
    "        b = b.subs(kappa_b=gamma/r_b)\n",
    "        \n",
    "        var('r_f',domain='positive',latex_name =r'r_f')\n",
    "        b = b.subs(gamma_f=gamma*r_f)\n",
    "        \n",
    "        var('r_g',domain='positive',latex_name =r'r_g')\n",
    "        b = b.subs(gamma_g=gamma*r_g)\n",
    "        \n",
    "        b = b.subs(g = sqrt(C*gamma*kappa_c)) \n",
    "        b = b.subs(r_b = c/(C*R_v))\n",
    "\n",
    "        b = b*gamma  #Omega has to be substituted with Omega/gamma\n",
    "        \n",
    "        b = b.subs(c=np.pi,R_f=1,Deg=np.e,DEg=np.sqrt(5),r_g=np.sqrt(3),r_f=np.sqrt(2), phi=phi_val) \n",
    "\n",
    "        b = b._mathematica_().Factor()._sage_()\n",
    "        b = MMA_simplify(b)#,full=True)\n",
    "        #holds the smallest expression\n",
    "        if len(str(b))<min_expr_len:\n",
    "            min_expr_len = len(str(b))\n",
    "            h_eff = b\n",
    "        \n",
    "        h_eff = SR(str(h_eff).replace('Sqrt','sqrt'))\n",
    "    '''\n",
    "    q = h_eff.subs(C=1/x)\n",
    "    q = MMA_simplify(q)\n",
    "    tayl = q._mathematica_().Series((x,0,1)).Normal()._sage_()\n",
    "    tayl = tayl.subs(x=1/C)\n",
    "    '''\n",
    "    tayl = h_eff\n",
    "    \n",
    "    #tayl =  (tayl + conjugate(tayl))/2      # try with + conjugate_transp\n",
    "\n",
    "    #taylr = taylr.expand()\n",
    "    tayl = MMA_simplify(tayl,full=False)\n",
    "    tayl = SR(str(tayl).replace('Sqrt','sqrt'))\n",
    "    eff_hamiltonian_tayl[diag,diag] = Omega^2/gamma * tayl\n",
    "\n",
    "print('\\nReal part of H_eff in ground state subspace taylor expanded in 1/C: ')\n",
    "show(symround(eff_hamiltonian_tayl[s1.pos_gs,s1.pos_gs],digits=4))\n",
    "\n",
    "eff_hamiltonian_tayl = (eff_hamiltonian_tayl[s1.pos_gs,s1.pos_gs] + conjugate(eff_hamiltonian_tayl[s1.pos_gs,s1.pos_gs]))/2"
   ]
  },
  {
   "cell_type": "markdown",
   "id": "3c69018c",
   "metadata": {},
   "source": [
    "# CZ gate time"
   ]
  },
  {
   "cell_type": "code",
   "execution_count": 57,
   "id": "d737471d",
   "metadata": {},
   "outputs": [],
   "source": [
    "#l_0-l_1-l_2+l_3\n",
    "denom = eff_hamiltonian_tayl[0,0]+eff_hamiltonian_tayl[3,3]-eff_hamiltonian_tayl[1,1]-eff_hamiltonian_tayl[2,2]\n",
    "\n",
    "t_g = np.pi/denom\n",
    "t_g = MMA_simplify(t_g,full=False) #not full if too slow\n",
    "t_g = SR(str(t_g).replace('Sqrt','sqrt')).simplify()"
   ]
  },
  {
   "cell_type": "code",
   "execution_count": 58,
   "id": "efd4ff7b",
   "metadata": {},
   "outputs": [
    {
     "data": {
      "text/html": [
       "<html><script type=\"math/tex; mode=display\">\\newcommand{\\Bold}[1]{\\mathbf{#1}}-\\frac{6.3 \\, {\\gamma}}{{\\Omega}^{2} {\\left(\\frac{0.96i \\, C^{m} + 0.37 \\, C + 0.18}{-0.054i \\, C^{2} + 2.2i \\, C^{m + n} + C^{m + 1} + 1.5 \\, C^{m} + 0.82 \\, C^{n + 1} - 0.77i \\, C + 0.39 \\, C^{n} - 0.28i} + \\frac{-0.96i \\, C^{m} + 0.37 \\, C + 0.18}{0.054i \\, C^{2} - 2.2i \\, C^{m + n} + C^{m + 1} + 1.5 \\, C^{m} + 0.82 \\, C^{n + 1} + 0.77i \\, C + 0.39 \\, C^{n} + 0.28i} - \\frac{0.96i}{2.2i \\, C^{n} + C + 1.5} + \\frac{0.96i}{-2.2i \\, C^{n} + C + 1.5}\\right)}}</script></html>"
      ],
      "text/latex": [
       "$$\\newcommand{\\Bold}[1]{\\mathbf{#1}}-\\frac{6.3 \\, {\\gamma}}{{\\Omega}^{2} {\\left(\\frac{0.96i \\, C^{m} + 0.37 \\, C + 0.18}{-0.054i \\, C^{2} + 2.2i \\, C^{m + n} + C^{m + 1} + 1.5 \\, C^{m} + 0.82 \\, C^{n + 1} - 0.77i \\, C + 0.39 \\, C^{n} - 0.28i} + \\frac{-0.96i \\, C^{m} + 0.37 \\, C + 0.18}{0.054i \\, C^{2} - 2.2i \\, C^{m + n} + C^{m + 1} + 1.5 \\, C^{m} + 0.82 \\, C^{n + 1} + 0.77i \\, C + 0.39 \\, C^{n} + 0.28i} - \\frac{0.96i}{2.2i \\, C^{n} + C + 1.5} + \\frac{0.96i}{-2.2i \\, C^{n} + C + 1.5}\\right)}}$$"
      ],
      "text/plain": [
       "-6.3*gamma/(Omega^2*((0.96*I*C^m + 0.37*C + 0.18)/(-0.054*I*C^2 + 2.2*I*C^(m + n) + C^(m + 1) + 1.5*C^m + 0.82*C^(n + 1) - 0.77*I*C + 0.39*C^n - 0.28*I) + (-0.96*I*C^m + 0.37*C + 0.18)/(0.054*I*C^2 - 2.2*I*C^(m + n) + C^(m + 1) + 1.5*C^m + 0.82*C^(n + 1) + 0.77*I*C + 0.39*C^n + 0.28*I) - 0.96*I/(2.2*I*C^n + C + 1.5) + 0.96*I/(-2.2*I*C^n + C + 1.5)))"
      ]
     },
     "metadata": {},
     "output_type": "display_data"
    }
   ],
   "source": [
    "show(symround((t_g)))\n",
    "#GHZ REGIME \n",
    "rf =1 \n",
    "de=122183415123789/100000000000000\n",
    "r_v=1.01014311134038/c\n",
    "#show(symround((t_g.subs(R_f =rf ,DEg=de,R_v=r_v))))"
   ]
  },
  {
   "cell_type": "code",
   "execution_count": 46,
   "id": "ceb45db6",
   "metadata": {},
   "outputs": [
    {
     "data": {
      "text/html": [
       "<html><script type=\"math/tex; mode=display\">\\newcommand{\\Bold}[1]{\\mathbf{#1}}\\frac{6.3 \\, \\gamma}{\\Omega^{2} {\\left(\\frac{3.7i \\, C^{2 \\, m} - i \\, C - 5.4 \\, C^{m + 1} - 1.4 \\, C^{m} - 0.12i}{-5.8 \\, C^{2 \\, m} + 8.2i \\, C^{2 \\, m + n} + 1.8 \\, C - 7.4 \\, C^{2 \\, m + 1} - 12. \\, C^{m + n + 1} - 3.0 \\, C^{m + n} - 11.i \\, C^{m + 1} - 2.1i \\, C^{m} - 2.2i \\, C^{n + 1} - 0.28i \\, C^{n} + 0.20} + \\frac{-3.7i \\, C^{2 \\, m} + i \\, C - 5.4 \\, C^{m + 1} - 1.4 \\, C^{m} + 0.12i}{-5.8 \\, C^{2 \\, m} - 8.2i \\, C^{2 \\, m + n} + 1.8 \\, C - 7.4 \\, C^{2 \\, m + 1} - 12. \\, C^{m + n + 1} - 3.0 \\, C^{m + n} + 11.i \\, C^{m + 1} + 2.1i \\, C^{m} + 2.2i \\, C^{n + 1} + 0.28i \\, C^{n} + 0.20} - \\frac{0.89 \\, C^{m} + 0.66i \\, C + 0.16i}{{\\left(C^{m + n - 1} + 0.70i \\, C^{m - 1} + 0.89i \\, C^{m} + 0.18i \\, C^{n - 1} + 0.73i \\, C^{n} - \\frac{0.13}{C} - 0.68\\right)} C} - \\frac{0.89 \\, C^{m} - 0.66i \\, C - 0.16i}{{\\left(C^{m + n - 1} - 0.70i \\, C^{m - 1} - 0.89i \\, C^{m} - 0.18i \\, C^{n - 1} - 0.73i \\, C^{n} - \\frac{0.13}{C} - 0.68\\right)} C} + \\frac{0.50i}{1.1i \\, C^{n} + C + 0.79} - \\frac{0.50i}{-1.1i \\, C^{n} + C + 0.79}\\right)}}</script></html>"
      ],
      "text/latex": [
       "$$\\newcommand{\\Bold}[1]{\\mathbf{#1}}\\frac{6.3 \\, \\gamma}{\\Omega^{2} {\\left(\\frac{3.7i \\, C^{2 \\, m} - i \\, C - 5.4 \\, C^{m + 1} - 1.4 \\, C^{m} - 0.12i}{-5.8 \\, C^{2 \\, m} + 8.2i \\, C^{2 \\, m + n} + 1.8 \\, C - 7.4 \\, C^{2 \\, m + 1} - 12. \\, C^{m + n + 1} - 3.0 \\, C^{m + n} - 11.i \\, C^{m + 1} - 2.1i \\, C^{m} - 2.2i \\, C^{n + 1} - 0.28i \\, C^{n} + 0.20} + \\frac{-3.7i \\, C^{2 \\, m} + i \\, C - 5.4 \\, C^{m + 1} - 1.4 \\, C^{m} + 0.12i}{-5.8 \\, C^{2 \\, m} - 8.2i \\, C^{2 \\, m + n} + 1.8 \\, C - 7.4 \\, C^{2 \\, m + 1} - 12. \\, C^{m + n + 1} - 3.0 \\, C^{m + n} + 11.i \\, C^{m + 1} + 2.1i \\, C^{m} + 2.2i \\, C^{n + 1} + 0.28i \\, C^{n} + 0.20} - \\frac{0.89 \\, C^{m} + 0.66i \\, C + 0.16i}{{\\left(C^{m + n - 1} + 0.70i \\, C^{m - 1} + 0.89i \\, C^{m} + 0.18i \\, C^{n - 1} + 0.73i \\, C^{n} - \\frac{0.13}{C} - 0.68\\right)} C} - \\frac{0.89 \\, C^{m} - 0.66i \\, C - 0.16i}{{\\left(C^{m + n - 1} - 0.70i \\, C^{m - 1} - 0.89i \\, C^{m} - 0.18i \\, C^{n - 1} - 0.73i \\, C^{n} - \\frac{0.13}{C} - 0.68\\right)} C} + \\frac{0.50i}{1.1i \\, C^{n} + C + 0.79} - \\frac{0.50i}{-1.1i \\, C^{n} + C + 0.79}\\right)}}$$"
      ],
      "text/plain": [
       "6.3*gamma/(Omega^2*((3.7*I*C^(2*m) - I*C - 5.4*C^(m + 1) - 1.4*C^m - 0.12*I)/(-5.8*C^(2*m) + 8.2*I*C^(2*m + n) + 1.8*C - 7.4*C^(2*m + 1) - 12.*C^(m + n + 1) - 3.0*C^(m + n) - 11.*I*C^(m + 1) - 2.1*I*C^m - 2.2*I*C^(n + 1) - 0.28*I*C^n + 0.20) + (-3.7*I*C^(2*m) + I*C - 5.4*C^(m + 1) - 1.4*C^m + 0.12*I)/(-5.8*C^(2*m) - 8.2*I*C^(2*m + n) + 1.8*C - 7.4*C^(2*m + 1) - 12.*C^(m + n + 1) - 3.0*C^(m + n) + 11.*I*C^(m + 1) + 2.1*I*C^m + 2.2*I*C^(n + 1) + 0.28*I*C^n + 0.20) - (0.89*C^m + 0.66*I*C + 0.16*I)/((C^(m + n - 1) + 0.70*I*C^(m - 1) + 0.89*I*C^m + 0.18*I*C^(n - 1) + 0.73*I*C^n - 0.13/C - 0.68)*C) - (0.89*C^m - 0.66*I*C - 0.16*I)/((C^(m + n - 1) - 0.70*I*C^(m - 1) - 0.89*I*C^m - 0.18*I*C^(n - 1) - 0.73*I*C^n - 0.13/C - 0.68)*C) + 0.50*I/(1.1*I*C^n + C + 0.79) - 0.50*I/(-1.1*I*C^n + C + 0.79)))"
      ]
     },
     "metadata": {},
     "output_type": "display_data"
    }
   ],
   "source": [
    "q = t_g.subs(C=1/x)\n",
    "q = MMA_simplify(q)\n",
    "tayl = q._mathematica_().Series((x,0,1)).Normal()._sage_()\n",
    "tayl = tayl.subs(x=1/C)\n",
    "show(symround(tayl))"
   ]
  },
  {
   "cell_type": "markdown",
   "id": "1498df0a",
   "metadata": {},
   "source": [
    "# Lindblau Operators no $C \\longrightarrow \\infty$ limit\n",
    "\n",
    "Choose which of the Lindblau operators to view and which non zero element of it"
   ]
  },
  {
   "cell_type": "code",
   "execution_count": 59,
   "id": "847371b4",
   "metadata": {
    "scrolled": true
   },
   "outputs": [
    {
     "name": "stdout",
     "output_type": "stream",
     "text": [
      "0 out of 5\n",
      "1 out of 5\n",
      "2 out of 5\n",
      "3 out of 5\n",
      "4 out of 5\n",
      "5 out of 5\n"
     ]
    }
   ],
   "source": [
    "lind_op_number = len(s1.lindblau_list)\n",
    "\n",
    "eff_lind_taylor = []\n",
    "eff_lind = []\n",
    "eff_lind_coeff = []\n",
    "for lind_op in range(lind_op_number):\n",
    "    print(f'{lind_op} out of {lind_op_number-1}')\n",
    "    eff_lind_taylor.append([])\n",
    "    eff_lind.append([])\n",
    "    L_matrix = s1.eff_lindblau_list[lind_op]\n",
    "    L_nonzeros = []\n",
    "    L_nonzeros_pos = []\n",
    "    for i in  range(L_matrix.nrows()):\n",
    "        for j in  range(L_matrix.ncols()):\n",
    "            if not L_matrix[i,j].is_zero():\n",
    "                L_nonzeros.append(L_matrix[i,j])\n",
    "                L_nonzeros_pos.append((i,j))\n",
    "    eff_lind_coeff.append(s1.L_coeffs[lind_op])\n",
    "    for which in range(len(L_nonzeros)):\n",
    "\n",
    "        L_elem = L_nonzeros[which]\n",
    "\n",
    "        #L_elem = L_elem.subs(DE=+0.5*I*gamma_f + 0.5*I*gamma_g + DEt*gamma)\n",
    "        #L_elem = L_elem.subs(De=+0.5*I*gamma   +Det*gamma)\n",
    "        L_elem = L_elem.subs(De=Deg*gamma*C^m)\n",
    "        L_elem = L_elem.subs(DE=DEg*gamma*C^n)\n",
    "\n",
    "        #COUPLINGS\n",
    "\n",
    "        L_elem = L_elem.subs(g_f=g*sqrt(R_f))\n",
    "\n",
    "        L_elem = L_elem.subs(v=g*sqrt(R_v))\n",
    "\n",
    "        #ABSORBTIONS\n",
    "        L_elem = L_elem.subs(kappa_b=gamma/r_b)\n",
    "\n",
    "        L_elem = L_elem.subs(gamma_g=gamma*r_g)\n",
    "\n",
    "        L_elem = L_elem.subs(gamma_f=gamma*r_f)\n",
    "\n",
    "        L_elem = L_elem.subs(g = sqrt(C*gamma*kappa_c)) \n",
    "        L_elem = L_elem.subs(r_b = c/(C*R_v))\n",
    "        \n",
    "        L_elem = L_elem.subs(c=np.pi,R_f=1,Deg=np.e,DEg=np.sqrt(5),r_g=np.sqrt(3),r_f=np.sqrt(2),phi=phi_val)\n",
    "        \n",
    "        L_elem = L_elem._mathematica_().Factor()._sage_()\n",
    "\n",
    "\n",
    "        L_elem = MMA_simplify(L_elem)#,full=True)\n",
    "\n",
    "        L_elem = SR(str(L_elem).replace('Sqrt','sqrt'))\n",
    "        \n",
    "        L_elem_show = symround(L_elem)\n",
    "        \n",
    "        eff_lind[lind_op].append(L_elem_show)\n",
    "        \n",
    "        var('x')\n",
    "        '''\n",
    "        q = L_elem.subs(C=1/x)\n",
    "        q = MMA_simplify(q)\n",
    "        tayl = q._mathematica_().Series((x,0,1)).Normal()._sage_()\n",
    "        tayl = tayl.subs(x=1/C)\n",
    "        '''\n",
    "        tayl = L_elem\n",
    "        tayl = SR(str(tayl).replace('Sqrt','sqrt'))\n",
    "        tayl_show = symround(tayl)\n",
    "        \n",
    "        eff_lind_taylor[-1].append(tayl_show)"
   ]
  },
  {
   "cell_type": "markdown",
   "id": "f1ddbf1c",
   "metadata": {},
   "source": [
    "# See results"
   ]
  },
  {
   "cell_type": "code",
   "execution_count": 61,
   "id": "bc6f635a",
   "metadata": {},
   "outputs": [
    {
     "data": {
      "text/html": [
       "<html><script type=\"math/tex; mode=display\">\\newcommand{\\Bold}[1]{\\mathbf{#1}}-\\frac{6.3 \\, C}{{\\left(C + 2.2i \\, \\sqrt{C} + 1.5\\right)} {\\left(C - 2.2i \\, \\sqrt{C} + 1.5\\right)} {\\left(\\frac{0.37 \\, C + 0.96i \\, \\sqrt{C} + 0.18}{-0.054i \\, C^{2} + 1.8 \\, C^{1.5} + 1.4i \\, C + 1.9 \\, \\sqrt{C} - 0.28i} + \\frac{0.37 \\, C - 0.96i \\, \\sqrt{C} + 0.18}{0.054i \\, C^{2} + 1.8 \\, C^{1.5} - 1.4i \\, C + 1.9 \\, \\sqrt{C} + 0.28i} - \\frac{0.96i}{C + 2.2i \\, \\sqrt{C} + 1.5} + \\frac{0.96i}{C - 2.2i \\, \\sqrt{C} + 1.5}\\right)}}</script></html>"
      ],
      "text/latex": [
       "$$\\newcommand{\\Bold}[1]{\\mathbf{#1}}-\\frac{6.3 \\, C}{{\\left(C + 2.2i \\, \\sqrt{C} + 1.5\\right)} {\\left(C - 2.2i \\, \\sqrt{C} + 1.5\\right)} {\\left(\\frac{0.37 \\, C + 0.96i \\, \\sqrt{C} + 0.18}{-0.054i \\, C^{2} + 1.8 \\, C^{1.5} + 1.4i \\, C + 1.9 \\, \\sqrt{C} - 0.28i} + \\frac{0.37 \\, C - 0.96i \\, \\sqrt{C} + 0.18}{0.054i \\, C^{2} + 1.8 \\, C^{1.5} - 1.4i \\, C + 1.9 \\, \\sqrt{C} + 0.28i} - \\frac{0.96i}{C + 2.2i \\, \\sqrt{C} + 1.5} + \\frac{0.96i}{C - 2.2i \\, \\sqrt{C} + 1.5}\\right)}}$$"
      ],
      "text/plain": [
       "-6.3*C/((C + 2.2*I*sqrt(C) + 1.5)*(C - 2.2*I*sqrt(C) + 1.5)*((0.37*C + 0.96*I*sqrt(C) + 0.18)/(-0.054*I*C^2 + 1.8*C^1.5 + 1.4*I*C + 1.9*sqrt(C) - 0.28*I) + (0.37*C - 0.96*I*sqrt(C) + 0.18)/(0.054*I*C^2 + 1.8*C^1.5 - 1.4*I*C + 1.9*sqrt(C) + 0.28*I) - 0.96*I/(C + 2.2*I*sqrt(C) + 1.5) + 0.96*I/(C - 2.2*I*sqrt(C) + 1.5)))"
      ]
     },
     "metadata": {},
     "output_type": "display_data"
    },
    {
     "name": "stdout",
     "output_type": "stream",
     "text": [
      "coeff:\n"
     ]
    },
    {
     "data": {
      "text/html": [
       "<html><script type=\"math/tex; mode=display\">\\newcommand{\\Bold}[1]{\\mathbf{#1}}\\sqrt{{\\kappa_c}}</script></html>"
      ],
      "text/latex": [
       "$$\\newcommand{\\Bold}[1]{\\mathbf{#1}}\\sqrt{{\\kappa_c}}$$"
      ],
      "text/plain": [
       "sqrt(kappa_c)"
      ]
     },
     "metadata": {},
     "output_type": "display_data"
    }
   ],
   "source": [
    "lindop = 0\n",
    "#t_g = gamma/Omega^2 * C^0.5\n",
    "a = eff_lind_taylor[lindop][0]\n",
    "err = t_g*a*conjugate(a)\n",
    "err = SR(str(MMA_simplify( err,full=False )).replace('Sqrt','sqrt')).simplify().subs(m=1/2,n=1/2)\n",
    "show( symround( err ) )\n",
    "print(f'coeff:')\n",
    "show(eff_lind_coeff[lindop])"
   ]
  },
  {
   "cell_type": "code",
   "execution_count": 40,
   "id": "31ddb98f",
   "metadata": {},
   "outputs": [
    {
     "data": {
      "text/html": [
       "<html><script type=\"math/tex; mode=display\">\\newcommand{\\Bold}[1]{\\mathbf{#1}}-25.0250910782765 \\, C^{10} - \\left(3.552713678800501 \\times 10^{-15}i\\right) \\, C^{\\frac{19}{2}} - 118.64654534562099 \\, C^{9} + \\left(1.4210854715202004 \\times 10^{-14}i\\right) \\, C^{\\frac{17}{2}} - 184.3306254407749 \\, C^{8} + \\left(3.552713678800501 \\times 10^{-14}i\\right) \\, C^{\\frac{15}{2}} - 134.39734880720943 \\, C^{7} + \\left(3.730349362740526 \\times 10^{-14}i\\right) \\, C^{\\frac{13}{2}} - 51.97685558157963 \\, C^{6} + \\left(1.4654943925052066 \\times 10^{-14}i\\right) \\, C^{\\frac{11}{2}} - 10.913747313380627 \\, C^{5} + \\left(2.4841240175987878 \\times 10^{-15}i\\right) \\, C^{\\frac{9}{2}} - 1.1802487076042534 \\, C^{4} + \\left(6.765421556309548 \\times 10^{-17}i\\right) \\, C^{\\frac{7}{2}} - 0.05753729972755995 \\, C^{3} + \\left(4.87890977618477 \\times 10^{-18}i\\right) \\, C^{\\frac{5}{2}} - 0.001247783406923433 \\, C^{2} + \\left(5.082197683525802 \\times 10^{-21}i\\right) \\, C^{\\frac{3}{2}} - \\left(9.874985575007444 \\times 10^{-06}\\right) \\, C</script></html>"
      ],
      "text/latex": [
       "$$\\newcommand{\\Bold}[1]{\\mathbf{#1}}-25.0250910782765 \\, C^{10} - \\left(3.552713678800501 \\times 10^{-15}i\\right) \\, C^{\\frac{19}{2}} - 118.64654534562099 \\, C^{9} + \\left(1.4210854715202004 \\times 10^{-14}i\\right) \\, C^{\\frac{17}{2}} - 184.3306254407749 \\, C^{8} + \\left(3.552713678800501 \\times 10^{-14}i\\right) \\, C^{\\frac{15}{2}} - 134.39734880720943 \\, C^{7} + \\left(3.730349362740526 \\times 10^{-14}i\\right) \\, C^{\\frac{13}{2}} - 51.97685558157963 \\, C^{6} + \\left(1.4654943925052066 \\times 10^{-14}i\\right) \\, C^{\\frac{11}{2}} - 10.913747313380627 \\, C^{5} + \\left(2.4841240175987878 \\times 10^{-15}i\\right) \\, C^{\\frac{9}{2}} - 1.1802487076042534 \\, C^{4} + \\left(6.765421556309548 \\times 10^{-17}i\\right) \\, C^{\\frac{7}{2}} - 0.05753729972755995 \\, C^{3} + \\left(4.87890977618477 \\times 10^{-18}i\\right) \\, C^{\\frac{5}{2}} - 0.001247783406923433 \\, C^{2} + \\left(5.082197683525802 \\times 10^{-21}i\\right) \\, C^{\\frac{3}{2}} - \\left(9.874985575007444 \\times 10^{-06}\\right) \\, C$$"
      ],
      "text/plain": [
       "-25.0250910782765*C^10 - (3.552713678800501e-15*I)*C^(19/2) - 118.64654534562099*C^9 + (1.4210854715202004e-14*I)*C^(17/2) - 184.3306254407749*C^8 + (3.552713678800501e-14*I)*C^(15/2) - 134.39734880720943*C^7 + (3.730349362740526e-14*I)*C^(13/2) - 51.97685558157963*C^6 + (1.4654943925052066e-14*I)*C^(11/2) - 10.913747313380627*C^5 + (2.4841240175987878e-15*I)*C^(9/2) - 1.1802487076042534*C^4 + (6.765421556309548e-17*I)*C^(7/2) - 0.05753729972755995*C^3 + (4.87890977618477e-18*I)*C^(5/2) - 0.001247783406923433*C^2 + (5.082197683525802e-21*I)*C^(3/2) - (9.874985575007444e-06)*C"
      ]
     },
     "metadata": {},
     "output_type": "display_data"
    }
   ],
   "source": [
    "show(err.numerator().expand())"
   ]
  },
  {
   "cell_type": "code",
   "execution_count": 41,
   "id": "8f113cbf",
   "metadata": {},
   "outputs": [
    {
     "data": {
      "text/html": [
       "<html><script type=\"math/tex; mode=display\">\\newcommand{\\Bold}[1]{\\mathbf{#1}}1.0 \\, C^{\\frac{21}{2}} + \\left(1.10546764698699 \\times 10^{-16}i\\right) \\, C^{10} + 3.612255692681547 \\, C^{\\frac{19}{2}} + \\left(7.565627119140737 \\times 10^{-16}i\\right) \\, C^{9} + 3.174545228184853 \\, C^{\\frac{17}{2}} + \\left(3.0950859755482263 \\times 10^{-15}i\\right) \\, C^{8} + 1.6958427083798973 \\, C^{\\frac{15}{2}} + \\left(6.189725079065766 \\times 10^{-15}i\\right) \\, C^{7} + 0.7640043117320927 \\, C^{\\frac{13}{2}} + \\left(3.726914035923889 \\times 10^{-15}i\\right) \\, C^{6} + 0.21942216982783574 \\, C^{\\frac{11}{2}} + \\left(8.374199850800896 \\times 10^{-16}i\\right) \\, C^{5} + 0.027130885467337672 \\, C^{\\frac{9}{2}} - \\left(8.895138788674788 \\times 10^{-18}i\\right) \\, C^{4} + 0.0006942663563354894 \\, C^{\\frac{7}{2}} - \\left(1.477971113921486 \\times 10^{-17}i\\right) \\, C^{3} - \\left(6.169866841524388 \\times 10^{-17}\\right) \\, C^{\\frac{5}{2}} + \\left(4.608117169979151 \\times 10^{-19}i\\right) \\, C^{2} - \\left(1.537658830000464 \\times 10^{-18}\\right) \\, C^{\\frac{3}{2}} - \\left(1.7405075117658746 \\times 10^{-20}i\\right) \\, C - \\left(9.190481095191023 \\times 10^{-21}\\right) \\, \\sqrt{C} - 1.312925870741571 \\times 10^{-22}i</script></html>"
      ],
      "text/latex": [
       "$$\\newcommand{\\Bold}[1]{\\mathbf{#1}}1.0 \\, C^{\\frac{21}{2}} + \\left(1.10546764698699 \\times 10^{-16}i\\right) \\, C^{10} + 3.612255692681547 \\, C^{\\frac{19}{2}} + \\left(7.565627119140737 \\times 10^{-16}i\\right) \\, C^{9} + 3.174545228184853 \\, C^{\\frac{17}{2}} + \\left(3.0950859755482263 \\times 10^{-15}i\\right) \\, C^{8} + 1.6958427083798973 \\, C^{\\frac{15}{2}} + \\left(6.189725079065766 \\times 10^{-15}i\\right) \\, C^{7} + 0.7640043117320927 \\, C^{\\frac{13}{2}} + \\left(3.726914035923889 \\times 10^{-15}i\\right) \\, C^{6} + 0.21942216982783574 \\, C^{\\frac{11}{2}} + \\left(8.374199850800896 \\times 10^{-16}i\\right) \\, C^{5} + 0.027130885467337672 \\, C^{\\frac{9}{2}} - \\left(8.895138788674788 \\times 10^{-18}i\\right) \\, C^{4} + 0.0006942663563354894 \\, C^{\\frac{7}{2}} - \\left(1.477971113921486 \\times 10^{-17}i\\right) \\, C^{3} - \\left(6.169866841524388 \\times 10^{-17}\\right) \\, C^{\\frac{5}{2}} + \\left(4.608117169979151 \\times 10^{-19}i\\right) \\, C^{2} - \\left(1.537658830000464 \\times 10^{-18}\\right) \\, C^{\\frac{3}{2}} - \\left(1.7405075117658746 \\times 10^{-20}i\\right) \\, C - \\left(9.190481095191023 \\times 10^{-21}\\right) \\, \\sqrt{C} - 1.312925870741571 \\times 10^{-22}i$$"
      ],
      "text/plain": [
       "1.0*C^(21/2) + (1.10546764698699e-16*I)*C^10 + 3.612255692681547*C^(19/2) + (7.565627119140737e-16*I)*C^9 + 3.174545228184853*C^(17/2) + (3.0950859755482263e-15*I)*C^8 + 1.6958427083798973*C^(15/2) + (6.189725079065766e-15*I)*C^7 + 0.7640043117320927*C^(13/2) + (3.726914035923889e-15*I)*C^6 + 0.21942216982783574*C^(11/2) + (8.374199850800896e-16*I)*C^5 + 0.027130885467337672*C^(9/2) - (8.895138788674788e-18*I)*C^4 + 0.0006942663563354894*C^(7/2) - (1.477971113921486e-17*I)*C^3 - (6.169866841524388e-17)*C^(5/2) + (4.608117169979151e-19*I)*C^2 - (1.537658830000464e-18)*C^(3/2) - (1.7405075117658746e-20*I)*C - (9.190481095191023e-21)*sqrt(C) - 1.312925870741571e-22*I"
      ]
     },
     "metadata": {},
     "output_type": "display_data"
    }
   ],
   "source": [
    "show(err.denominator().expand())"
   ]
  },
  {
   "cell_type": "code",
   "execution_count": null,
   "id": "af6015bc",
   "metadata": {},
   "outputs": [],
   "source": []
  }
 ],
 "metadata": {
  "kernelspec": {
   "display_name": "SageMath 9.3",
   "language": "sage",
   "name": "sagemath"
  },
  "language_info": {
   "codemirror_mode": {
    "name": "ipython",
    "version": 3
   },
   "file_extension": ".py",
   "mimetype": "text/x-python",
   "name": "python",
   "nbconvert_exporter": "python",
   "pygments_lexer": "ipython3",
   "version": "3.9.2"
  }
 },
 "nbformat": 4,
 "nbformat_minor": 5
}
