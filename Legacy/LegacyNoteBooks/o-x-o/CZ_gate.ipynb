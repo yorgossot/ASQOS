{
 "cells": [
  {
   "cell_type": "markdown",
   "id": "11ebbd1c",
   "metadata": {},
   "source": [
    "# CZ gate  "
   ]
  },
  {
   "cell_type": "code",
   "execution_count": 211,
   "id": "a43f3bbd",
   "metadata": {
    "scrolled": false
   },
   "outputs": [],
   "source": [
    "from system import *\n",
    "#s1 =  system('2',MMA=True) \n",
    "s1 = load_object('o-x-o')"
   ]
  },
  {
   "cell_type": "markdown",
   "id": "9d56099a",
   "metadata": {},
   "source": [
    "# $\\Delta_{E\\gamma} = \\ \\dfrac{\\Delta_E}{\\gamma}\\, C^n \\qquad \\Delta_{e\\gamma} = \\ \\dfrac{\\Delta_e}{\\gamma}\\, C^m$"
   ]
  },
  {
   "cell_type": "code",
   "execution_count": 222,
   "id": "2c69c1d2",
   "metadata": {},
   "outputs": [],
   "source": [
    "n = 1.2\n",
    "m = 0"
   ]
  },
  {
   "cell_type": "markdown",
   "id": "20c87d69",
   "metadata": {},
   "source": [
    "# Effective Hamiltonian Matrix obtain in $C \\longrightarrow \\infty$ limit"
   ]
  },
  {
   "cell_type": "code",
   "execution_count": 223,
   "id": "6398d4bb",
   "metadata": {
    "scrolled": true
   },
   "outputs": [
    {
     "name": "stdout",
     "output_type": "stream",
     "text": [
      "Calculating 0 out of [0, 1, 16, 17]...\n",
      "Calculating 1 out of [0, 1, 16, 17]...\n",
      "Calculating 16 out of [0, 1, 16, 17]...\n",
      "Calculating 17 out of [0, 1, 16, 17]...\n",
      "\n",
      "Real part of H_eff in ground state subspace taylor expanded in 1/C: \n",
      "symround: Deleted coefficient 4.441e-16\n",
      "symround: Deleted coefficient 1.480e-16\n",
      "symround: Deleted coefficient 9.252e-18\n",
      "symround: Deleted coefficient 4.441e-16\n",
      "symround: Deleted coefficient 1.480e-16\n",
      "symround: Deleted coefficient 9.252e-18\n"
     ]
    },
    {
     "data": {
      "text/html": [
       "<html><script type=\"math/tex; mode=display\">\\newcommand{\\Bold}[1]{\\mathbf{#1}}\\left(\\begin{array}{rrrr}\n",
       "\\frac{{\\left({c} {\\left(1.500i \\, {c} + 0.5000i\\right)} + 0.03125i\\right)} \\Omega^{2}}{{\\left(1.500i \\, {\\Delta_{E\\gamma}} {c}^{2} - \\frac{R_{f} {\\left({c} + 0.2500\\right)}^{2}}{C^{0.2000}} + 0.5000i \\, {\\Delta_{E\\gamma}} {c} + 0.03125i \\, {\\Delta_{E\\gamma}} + \\frac{{\\left({c} {\\left(-0.7500 \\, {c} - 0.2500\\right)} - 0.01562\\right)} {\\left({r_f} + {r_g}\\right)}}{C^{1.200}}\\right)} C^{1.200} \\gamma} & 0 & 0 & 0 \\\\\n",
       "0 & -\\frac{2 i \\, {\\left({\\left({\\left(C - 1.500i \\, {\\Delta_{e\\gamma}} + 0.7500\\right)} {c} + 0.7500 \\, C - 0.5000i \\, {\\Delta_{e\\gamma}} + 0.2500\\right)} {c} + 0.06250 \\, C - 0.03125i \\, {\\Delta_{e\\gamma}} + 0.01562\\right)} C^{2} \\Omega^{2}}{{\\left({\\left(-2 i \\, {\\left({c} + 0.7500\\right)} {c} - 0.1250i\\right)} C^{4.200} {\\Delta_{E\\gamma}} - {\\left({\\left({\\left(3 \\, {\\Delta_{e\\gamma}} + 1.500i\\right)} {c} + {\\Delta_{e\\gamma}} + 0.5000i\\right)} {c} + 0.06250 \\, {\\Delta_{e\\gamma}} + 0.03125i\\right)} C^{3.200} {\\Delta_{E\\gamma}} + {\\left({\\left({\\left({\\left(-2 i \\, {\\Delta_{e\\gamma}} + 1\\right)} {c} + C - i \\, {\\Delta_{e\\gamma}} + 0.5000\\right)} {c} + 0.2500 \\, C - 0.1250i \\, {\\Delta_{e\\gamma}} + 0.06250\\right)} C R_{f} + {\\left({\\left({\\left(C - 1.500i \\, {\\Delta_{e\\gamma}} + 0.7500\\right)} {c} + 0.7500 \\, C - 0.5000i \\, {\\Delta_{e\\gamma}} + 0.2500\\right)} {c} + 0.06250 \\, C - 0.03125i \\, {\\Delta_{e\\gamma}} + 0.01562\\right)} {\\left({r_f} + {r_g}\\right)}\\right)} C^{2}\\right)} \\gamma} & 0 & 0 \\\\\n",
       "0 & 0 & -\\frac{2 i \\, {\\left({\\left({\\left(C - 1.500i \\, {\\Delta_{e\\gamma}} + 0.7500\\right)} {c} + 0.7500 \\, C - 0.5000i \\, {\\Delta_{e\\gamma}} + 0.2500\\right)} {c} + 0.06250 \\, C - 0.03125i \\, {\\Delta_{e\\gamma}} + 0.01562\\right)} C^{2} \\Omega^{2}}{{\\left({\\left(-2 i \\, {\\left({c} + 0.7500\\right)} {c} - 0.1250i\\right)} C^{4.200} {\\Delta_{E\\gamma}} - {\\left({\\left({\\left(3 \\, {\\Delta_{e\\gamma}} + 1.500i\\right)} {c} + {\\Delta_{e\\gamma}} + 0.5000i\\right)} {c} + 0.06250 \\, {\\Delta_{e\\gamma}} + 0.03125i\\right)} C^{3.200} {\\Delta_{E\\gamma}} + {\\left({\\left({\\left({\\left(-2 i \\, {\\Delta_{e\\gamma}} + 1\\right)} {c} + C - i \\, {\\Delta_{e\\gamma}} + 0.5000\\right)} {c} + 0.2500 \\, C - 0.1250i \\, {\\Delta_{e\\gamma}} + 0.06250\\right)} C R_{f} + {\\left({\\left({\\left(C - 1.500i \\, {\\Delta_{e\\gamma}} + 0.7500\\right)} {c} + 0.7500 \\, C - 0.5000i \\, {\\Delta_{e\\gamma}} + 0.2500\\right)} {c} + 0.06250 \\, C - 0.03125i \\, {\\Delta_{e\\gamma}} + 0.01562\\right)} {\\left({r_f} + {r_g}\\right)}\\right)} C^{2}\\right)} \\gamma} & 0 \\\\\n",
       "0 & 0 & 0 & -\\frac{i \\, {\\left({\\left({\\left(2 i \\, {\\Delta_{e\\gamma}} + 1\\right)} {c} + C + 1.500i \\, {\\Delta_{e\\gamma}} + 0.7500\\right)} {c} + 0.1250 \\, C + 0.1250i \\, {\\Delta_{e\\gamma}} + 0.06250\\right)} C^{82} \\Omega^{2}}{{\\left({\\left(C^{84.20} {\\left(-i \\, {c} - 0.1250i\\right)} + {\\left({\\left({\\left(2 \\, {\\Delta_{e\\gamma}} - i\\right)} {c} + 1.500 \\, {\\Delta_{e\\gamma}} - 0.7500i\\right)} {c} + 0.1250 \\, {\\Delta_{e\\gamma}} - 0.06250i\\right)} C^{83.20} + {\\left({\\left({\\Delta_{e\\gamma}} {\\left(1.500i \\, {\\Delta_{e\\gamma}} + 1.500\\right)} - 0.3750i\\right)} {c}^{2} + {\\Delta_{e\\gamma}} {\\left(0.03125i \\, {\\Delta_{e\\gamma}} + 0.03125\\right)} + {\\left({\\Delta_{e\\gamma}} {\\left(0.5000i \\, {\\Delta_{e\\gamma}} + 0.5000\\right)} - 0.1250i\\right)} {c} - 0.007812i\\right)} C^{82.20}\\right)} {\\Delta_{E\\gamma}} + {\\left({\\left({\\left(-i \\, {\\Delta_{e\\gamma}} - 0.5000\\right)} {c} - 0.2500i \\, {\\Delta_{e\\gamma}} - 0.1250\\right)} C^{83} - 0.2500 \\, C^{84} + {\\left({\\left({\\Delta_{e\\gamma}} - 0.5000i\\right)}^{2} {c}^{2} + 0.06250 \\, {\\left({\\Delta_{e\\gamma}} - 0.5000i\\right)}^{2} + {\\left({\\Delta_{e\\gamma}} {\\left(0.5000 \\, {\\Delta_{e\\gamma}} - 0.5000i\\right)} - 0.1250\\right)} {c}\\right)} C^{82}\\right)} R_{f} + {\\left({\\left({c} {\\left(0.7500 \\, {c} + 0.2500\\right)} + 0.01562\\right)} C^{81} {\\left({\\Delta_{e\\gamma}} - 0.5000i\\right)}^{2} + C^{83} {\\left(-0.5000 \\, {c} - 0.06250\\right)} + {\\left({\\left({\\left(-i \\, {\\Delta_{e\\gamma}} - 0.5000\\right)} {c} - 0.7500i \\, {\\Delta_{e\\gamma}} - 0.3750\\right)} {c} - 0.06250i \\, {\\Delta_{e\\gamma}} - 0.03125\\right)} C^{82}\\right)} {r_f} + {\\left({\\left({c} {\\left(0.7500 \\, {c} + 0.2500\\right)} + 0.01562\\right)} C^{81} {\\left({\\Delta_{e\\gamma}} - 0.5000i\\right)}^{2} + C^{83} {\\left(-0.5000 \\, {c} - 0.06250\\right)} + {\\left({\\left({\\left(-i \\, {\\Delta_{e\\gamma}} - 0.5000\\right)} {c} - 0.7500i \\, {\\Delta_{e\\gamma}} - 0.3750\\right)} {c} - 0.06250i \\, {\\Delta_{e\\gamma}} - 0.03125\\right)} C^{82}\\right)} {r_g}\\right)} \\gamma}\n",
       "\\end{array}\\right)</script></html>"
      ],
      "text/latex": [
       "$$\\newcommand{\\Bold}[1]{\\mathbf{#1}}\\left(\\begin{array}{rrrr}\n",
       "\\frac{{\\left({c} {\\left(1.500i \\, {c} + 0.5000i\\right)} + 0.03125i\\right)} \\Omega^{2}}{{\\left(1.500i \\, {\\Delta_{E\\gamma}} {c}^{2} - \\frac{R_{f} {\\left({c} + 0.2500\\right)}^{2}}{C^{0.2000}} + 0.5000i \\, {\\Delta_{E\\gamma}} {c} + 0.03125i \\, {\\Delta_{E\\gamma}} + \\frac{{\\left({c} {\\left(-0.7500 \\, {c} - 0.2500\\right)} - 0.01562\\right)} {\\left({r_f} + {r_g}\\right)}}{C^{1.200}}\\right)} C^{1.200} \\gamma} & 0 & 0 & 0 \\\\\n",
       "0 & -\\frac{2 i \\, {\\left({\\left({\\left(C - 1.500i \\, {\\Delta_{e\\gamma}} + 0.7500\\right)} {c} + 0.7500 \\, C - 0.5000i \\, {\\Delta_{e\\gamma}} + 0.2500\\right)} {c} + 0.06250 \\, C - 0.03125i \\, {\\Delta_{e\\gamma}} + 0.01562\\right)} C^{2} \\Omega^{2}}{{\\left({\\left(-2 i \\, {\\left({c} + 0.7500\\right)} {c} - 0.1250i\\right)} C^{4.200} {\\Delta_{E\\gamma}} - {\\left({\\left({\\left(3 \\, {\\Delta_{e\\gamma}} + 1.500i\\right)} {c} + {\\Delta_{e\\gamma}} + 0.5000i\\right)} {c} + 0.06250 \\, {\\Delta_{e\\gamma}} + 0.03125i\\right)} C^{3.200} {\\Delta_{E\\gamma}} + {\\left({\\left({\\left({\\left(-2 i \\, {\\Delta_{e\\gamma}} + 1\\right)} {c} + C - i \\, {\\Delta_{e\\gamma}} + 0.5000\\right)} {c} + 0.2500 \\, C - 0.1250i \\, {\\Delta_{e\\gamma}} + 0.06250\\right)} C R_{f} + {\\left({\\left({\\left(C - 1.500i \\, {\\Delta_{e\\gamma}} + 0.7500\\right)} {c} + 0.7500 \\, C - 0.5000i \\, {\\Delta_{e\\gamma}} + 0.2500\\right)} {c} + 0.06250 \\, C - 0.03125i \\, {\\Delta_{e\\gamma}} + 0.01562\\right)} {\\left({r_f} + {r_g}\\right)}\\right)} C^{2}\\right)} \\gamma} & 0 & 0 \\\\\n",
       "0 & 0 & -\\frac{2 i \\, {\\left({\\left({\\left(C - 1.500i \\, {\\Delta_{e\\gamma}} + 0.7500\\right)} {c} + 0.7500 \\, C - 0.5000i \\, {\\Delta_{e\\gamma}} + 0.2500\\right)} {c} + 0.06250 \\, C - 0.03125i \\, {\\Delta_{e\\gamma}} + 0.01562\\right)} C^{2} \\Omega^{2}}{{\\left({\\left(-2 i \\, {\\left({c} + 0.7500\\right)} {c} - 0.1250i\\right)} C^{4.200} {\\Delta_{E\\gamma}} - {\\left({\\left({\\left(3 \\, {\\Delta_{e\\gamma}} + 1.500i\\right)} {c} + {\\Delta_{e\\gamma}} + 0.5000i\\right)} {c} + 0.06250 \\, {\\Delta_{e\\gamma}} + 0.03125i\\right)} C^{3.200} {\\Delta_{E\\gamma}} + {\\left({\\left({\\left({\\left(-2 i \\, {\\Delta_{e\\gamma}} + 1\\right)} {c} + C - i \\, {\\Delta_{e\\gamma}} + 0.5000\\right)} {c} + 0.2500 \\, C - 0.1250i \\, {\\Delta_{e\\gamma}} + 0.06250\\right)} C R_{f} + {\\left({\\left({\\left(C - 1.500i \\, {\\Delta_{e\\gamma}} + 0.7500\\right)} {c} + 0.7500 \\, C - 0.5000i \\, {\\Delta_{e\\gamma}} + 0.2500\\right)} {c} + 0.06250 \\, C - 0.03125i \\, {\\Delta_{e\\gamma}} + 0.01562\\right)} {\\left({r_f} + {r_g}\\right)}\\right)} C^{2}\\right)} \\gamma} & 0 \\\\\n",
       "0 & 0 & 0 & -\\frac{i \\, {\\left({\\left({\\left(2 i \\, {\\Delta_{e\\gamma}} + 1\\right)} {c} + C + 1.500i \\, {\\Delta_{e\\gamma}} + 0.7500\\right)} {c} + 0.1250 \\, C + 0.1250i \\, {\\Delta_{e\\gamma}} + 0.06250\\right)} C^{82} \\Omega^{2}}{{\\left({\\left(C^{84.20} {\\left(-i \\, {c} - 0.1250i\\right)} + {\\left({\\left({\\left(2 \\, {\\Delta_{e\\gamma}} - i\\right)} {c} + 1.500 \\, {\\Delta_{e\\gamma}} - 0.7500i\\right)} {c} + 0.1250 \\, {\\Delta_{e\\gamma}} - 0.06250i\\right)} C^{83.20} + {\\left({\\left({\\Delta_{e\\gamma}} {\\left(1.500i \\, {\\Delta_{e\\gamma}} + 1.500\\right)} - 0.3750i\\right)} {c}^{2} + {\\Delta_{e\\gamma}} {\\left(0.03125i \\, {\\Delta_{e\\gamma}} + 0.03125\\right)} + {\\left({\\Delta_{e\\gamma}} {\\left(0.5000i \\, {\\Delta_{e\\gamma}} + 0.5000\\right)} - 0.1250i\\right)} {c} - 0.007812i\\right)} C^{82.20}\\right)} {\\Delta_{E\\gamma}} + {\\left({\\left({\\left(-i \\, {\\Delta_{e\\gamma}} - 0.5000\\right)} {c} - 0.2500i \\, {\\Delta_{e\\gamma}} - 0.1250\\right)} C^{83} - 0.2500 \\, C^{84} + {\\left({\\left({\\Delta_{e\\gamma}} - 0.5000i\\right)}^{2} {c}^{2} + 0.06250 \\, {\\left({\\Delta_{e\\gamma}} - 0.5000i\\right)}^{2} + {\\left({\\Delta_{e\\gamma}} {\\left(0.5000 \\, {\\Delta_{e\\gamma}} - 0.5000i\\right)} - 0.1250\\right)} {c}\\right)} C^{82}\\right)} R_{f} + {\\left({\\left({c} {\\left(0.7500 \\, {c} + 0.2500\\right)} + 0.01562\\right)} C^{81} {\\left({\\Delta_{e\\gamma}} - 0.5000i\\right)}^{2} + C^{83} {\\left(-0.5000 \\, {c} - 0.06250\\right)} + {\\left({\\left({\\left(-i \\, {\\Delta_{e\\gamma}} - 0.5000\\right)} {c} - 0.7500i \\, {\\Delta_{e\\gamma}} - 0.3750\\right)} {c} - 0.06250i \\, {\\Delta_{e\\gamma}} - 0.03125\\right)} C^{82}\\right)} {r_f} + {\\left({\\left({c} {\\left(0.7500 \\, {c} + 0.2500\\right)} + 0.01562\\right)} C^{81} {\\left({\\Delta_{e\\gamma}} - 0.5000i\\right)}^{2} + C^{83} {\\left(-0.5000 \\, {c} - 0.06250\\right)} + {\\left({\\left({\\left(-i \\, {\\Delta_{e\\gamma}} - 0.5000\\right)} {c} - 0.7500i \\, {\\Delta_{e\\gamma}} - 0.3750\\right)} {c} - 0.06250i \\, {\\Delta_{e\\gamma}} - 0.03125\\right)} C^{82}\\right)} {r_g}\\right)} \\gamma}\n",
       "\\end{array}\\right)$$"
      ],
      "text/plain": [
       "[                                                                                                                                                                                                                                                                                                                                                                                                                                                                                                                                                                                                                                                                                                                          (c*(1.500*I*c + 0.5000*I) + 0.03125*I)*Omega^2/((1.500*I*DEg*c^2 - R_f*(c + 0.2500)^2/C^0.2000 + 0.5000*I*DEg*c + 0.03125*I*DEg + (c*(-0.7500*c - 0.2500) - 0.01562)*(r_f + r_g)/C^1.200)*C^1.200*gamma)                                                                                                                                                                                                                                                                                                                                                                                                                                                                                                                                                                                                                                                                                                                                                                                                                                                                                                                                  0                                                                                                                                                                                                                                                                                                                                                                                                                                                                                                                                                                                                                                                                                                                                                                                                                                                                                                                                  0                                                                                                                                                                                                                                                                                                                                                                                                                                                                                                                                                                                                                                                                                                                                                                                                                                                                                                                                  0]\n",
       "[                                                                                                                                                                                                                                                                                                                                                                                                                                                                                                                                                                                                                                                                                                                                                                                                                                                                                                                                 0                                                                                                                                                                                                                                                                                                                                                                                                                                     -2*I*(((C - 1.500*I*Deg + 0.7500)*c + 0.7500*C - 0.5000*I*Deg + 0.2500)*c + 0.06250*C - 0.03125*I*Deg + 0.01562)*C^2*Omega^2/(((-2*I*(c + 0.7500)*c - 0.1250*I)*C^4.200*DEg - (((3*Deg + 1.500*I)*c + Deg + 0.5000*I)*c + 0.06250*Deg + 0.03125*I)*C^3.200*DEg + ((((-2*I*Deg + 1)*c + C - I*Deg + 0.5000)*c + 0.2500*C - 0.1250*I*Deg + 0.06250)*C*R_f + (((C - 1.500*I*Deg + 0.7500)*c + 0.7500*C - 0.5000*I*Deg + 0.2500)*c + 0.06250*C - 0.03125*I*Deg + 0.01562)*(r_f + r_g))*C^2)*gamma)                                                                                                                                                                                                                                                                                                                                                                                                                                                                                                                                                                                                                                                                                                                                                                                                                                                                                                                                  0                                                                                                                                                                                                                                                                                                                                                                                                                                                                                                                                                                                                                                                                                                                                                                                                                                                                                                                                  0]\n",
       "[                                                                                                                                                                                                                                                                                                                                                                                                                                                                                                                                                                                                                                                                                                                                                                                                                                                                                                                                 0                                                                                                                                                                                                                                                                                                                                                                                                                                                                                                                                                                                                                                                                                                                                                                                                                                                                                                                                  0                                                                                                                                                                                                                                                                                                                                                                                                                                     -2*I*(((C - 1.500*I*Deg + 0.7500)*c + 0.7500*C - 0.5000*I*Deg + 0.2500)*c + 0.06250*C - 0.03125*I*Deg + 0.01562)*C^2*Omega^2/(((-2*I*(c + 0.7500)*c - 0.1250*I)*C^4.200*DEg - (((3*Deg + 1.500*I)*c + Deg + 0.5000*I)*c + 0.06250*Deg + 0.03125*I)*C^3.200*DEg + ((((-2*I*Deg + 1)*c + C - I*Deg + 0.5000)*c + 0.2500*C - 0.1250*I*Deg + 0.06250)*C*R_f + (((C - 1.500*I*Deg + 0.7500)*c + 0.7500*C - 0.5000*I*Deg + 0.2500)*c + 0.06250*C - 0.03125*I*Deg + 0.01562)*(r_f + r_g))*C^2)*gamma)                                                                                                                                                                                                                                                                                                                                                                                                                                                                                                                                                                                                                                                                                                                                                                                                                                                                                                                                  0]\n",
       "[                                                                                                                                                                                                                                                                                                                                                                                                                                                                                                                                                                                                                                                                                                                                                                                                                                                                                                                                 0                                                                                                                                                                                                                                                                                                                                                                                                                                                                                                                                                                                                                                                                                                                                                                                                                                                                                                                                  0                                                                                                                                                                                                                                                                                                                                                                                                                                                                                                                                                                                                                                                                                                                                                                                                                                                                                                                                  0 -I*(((2*I*Deg + 1)*c + C + 1.500*I*Deg + 0.7500)*c + 0.1250*C + 0.1250*I*Deg + 0.06250)*C^82*Omega^2/(((C^84.20*(-I*c - 0.1250*I) + (((2*Deg - I)*c + 1.500*Deg - 0.7500*I)*c + 0.1250*Deg - 0.06250*I)*C^83.20 + ((Deg*(1.500*I*Deg + 1.500) - 0.3750*I)*c^2 + Deg*(0.03125*I*Deg + 0.03125) + (Deg*(0.5000*I*Deg + 0.5000) - 0.1250*I)*c - 0.007812*I)*C^82.20)*DEg + (((-I*Deg - 0.5000)*c - 0.2500*I*Deg - 0.1250)*C^83 - 0.2500*C^84 + ((Deg - 0.5000*I)^2*c^2 + 0.06250*(Deg - 0.5000*I)^2 + (Deg*(0.5000*Deg - 0.5000*I) - 0.1250)*c)*C^82)*R_f + ((c*(0.7500*c + 0.2500) + 0.01562)*C^81*(Deg - 0.5000*I)^2 + C^83*(-0.5000*c - 0.06250) + (((-I*Deg - 0.5000)*c - 0.7500*I*Deg - 0.3750)*c - 0.06250*I*Deg - 0.03125)*C^82)*r_f + ((c*(0.7500*c + 0.2500) + 0.01562)*C^81*(Deg - 0.5000*I)^2 + C^83*(-0.5000*c - 0.06250) + (((-I*Deg - 0.5000)*c - 0.7500*I*Deg - 0.3750)*c - 0.06250*I*Deg - 0.03125)*C^82)*r_g)*gamma)]"
      ]
     },
     "metadata": {},
     "output_type": "display_data"
    }
   ],
   "source": [
    "var('gamma','DE','De','g','g_f','Omega','v','gamma_f','gamma_g',domain='positive')\n",
    "var('DEt',domain='complex',  latex_name =r'\\tilde{\\Delta }_E')\n",
    "var('Det',domain='complex',  latex_name =r'\\tilde{\\Delta }_e')\n",
    "var('DEg',domain='positive',  latex_name =r'\\Delta_{E\\gamma}')\n",
    "var('Deg',domain='positive',  latex_name =r'\\Delta_{e\\gamma}')\n",
    "var('kappa_c','kappa_b',domain='positive')\n",
    "var('C',domain='positive')\n",
    "var('c',domain='positive',  latex_name =r'c')\n",
    "\n",
    "eff_hamiltonian_tayl = sg.copy( s1.eff_hamiltonian.parent().zero())\n",
    "for diag in s1.pos_gs:\n",
    "    print(f'Calculating {diag} out of {s1.pos_gs}...')\n",
    "    #Take only one of the compl conj terms. Switch maybe second 0 to 1\n",
    "    min_expr_len = 10**10\n",
    "    for term in range(1):\n",
    "        b = s1.eff_hamiltonian[diag,diag]\n",
    "\n",
    "        b = b.operands()[1].operands()[term]\n",
    "        #b = b.subs(DE=+0.5*I*gamma_f + 0.5*I*gamma_g + DEt*gamma)\n",
    "        #b = b.subs(De=+0.5*I*gamma   +Det*gamma)\n",
    "        b = b.subs(De=Deg*gamma*C^m)\n",
    "        b = b.subs(DE=DEg*gamma*C^n)\n",
    "        \n",
    "        \n",
    "        var('R_f',domain='positive')#ratio  (g_f/g)^2\n",
    "        b = b.subs(g_f=g*sqrt(R_f))\n",
    "\n",
    "        var('R_v',domain='positive',  latex_name =r'R_{\\nu}') #ratio (v/g)^2\n",
    "        b = b.subs(v=g*sqrt(R_v))\n",
    "\n",
    "        var('r_b',domain='positive')\n",
    "        b = b.subs(kappa_b=gamma/r_b)\n",
    "        \n",
    "        var('r_f',domain='positive',latex_name =r'r_f')\n",
    "        b = b.subs(gamma_f=gamma*r_f)\n",
    "        \n",
    "        var('r_g',domain='positive',latex_name =r'r_g')\n",
    "        b = b.subs(gamma_g=gamma*r_g)\n",
    "        \n",
    "        b = b.subs(g = sqrt(C*gamma*kappa_c)) \n",
    "        b = b.subs(r_b = c/(C*R_v))\n",
    "\n",
    "        b = b*gamma  #Omega has to be substituted with Omega/gamma\n",
    "\n",
    "\n",
    "        b = b._mathematica_().Factor()._sage_()\n",
    "        b = MMA_simplify(b)#,full=True)\n",
    "        #holds the smallest expression\n",
    "        if len(str(b))<min_expr_len:\n",
    "            min_expr_len = len(str(b))\n",
    "            h_eff = b\n",
    "    \n",
    "\n",
    "    q = h_eff.subs(C=1/x)\n",
    "    q = MMA_simplify(q)\n",
    "    tayl = q._mathematica_().Series((x,0,1)).Normal()._sage_()\n",
    "    tayl = tayl.subs(x=1/C)\n",
    " \n",
    "    \n",
    "    #tayl =  (tayl + conjugate(tayl))/2      # try with + conjugate_transp\n",
    "\n",
    "    #taylr = taylr.expand()\n",
    "    tayl = MMA_simplify(tayl,full=True)\n",
    "    eff_hamiltonian_tayl[diag,diag] = Omega^2/gamma * tayl\n",
    "\n",
    "print('\\nReal part of H_eff in ground state subspace taylor expanded in 1/C: ')\n",
    "show(symround(eff_hamiltonian_tayl[s1.pos_gs,s1.pos_gs],digits=4))\n",
    "\n",
    "eff_hamiltonian_tayl = (eff_hamiltonian_tayl[s1.pos_gs,s1.pos_gs] + conjugate(eff_hamiltonian_tayl[s1.pos_gs,s1.pos_gs]))/2"
   ]
  },
  {
   "cell_type": "markdown",
   "id": "3c69018c",
   "metadata": {},
   "source": [
    "# CZ gate time"
   ]
  },
  {
   "cell_type": "code",
   "execution_count": 224,
   "id": "d737471d",
   "metadata": {},
   "outputs": [],
   "source": [
    "#l_0-l_1-l_2+l_3\n",
    "denom = eff_hamiltonian_tayl[0,0]+eff_hamiltonian_tayl[3,3]-eff_hamiltonian_tayl[1,1]-eff_hamiltonian_tayl[2,2]\n",
    "\n",
    "t_g = np.pi/denom\n",
    "#t_g = MMA_simplify(t_g,full=False) #not full if too slow\n",
    "t_g = SR(str(t_g).replace('Sqrt','sqrt')).simplify()"
   ]
  },
  {
   "cell_type": "code",
   "execution_count": 232,
   "id": "efd4ff7b",
   "metadata": {},
   "outputs": [
    {
     "data": {
      "text/html": [
       "<html><script type=\"math/tex; mode=display\">\\newcommand{\\Bold}[1]{\\mathbf{#1}}\\frac{6.283185307179586}{\\frac{2 \\, C^{82.0} {\\left(1.6332963267948966i \\, C + 33.403059578844484 + 6.144149445640851i\\right)} \\Omega^{2}}{{\\left(7.3043232282282i \\, C^{84.2} - 0.75 \\, C^{84.0} + \\left(149.38302374954353 + 27.477471648741183i\\right) \\, C^{83.2} - \\left(10.226171018936572 - 27.657914039364982i\\right) \\, C^{83.0} + \\left(99.72273498295571 - 261.9030123840012i\\right) \\, C^{82.2} + \\left(227.0284423059692 + 198.89923426949565i\\right) \\, C^{82.0} + \\left(184.2556050477521 + 70.15754688747364i\\right) \\, C^{81.0}\\right)} \\gamma} + \\frac{2 \\, C^{82.0} {\\left(-1.6332963267948966i \\, C + 33.403059578844484 - 6.144149445640851i\\right)} \\Omega^{2}}{{\\left(-7.3043232282282i \\, C^{84.2} - 0.75 \\, C^{84.0} + \\left(149.38302374954353 - 27.477471648741183i\\right) \\, C^{83.2} - \\left(10.226171018936572 + 27.657914039364982i\\right) \\, C^{83.0} + \\left(99.72273498295571 + 261.9030123840012i\\right) \\, C^{82.2} + \\left(227.0284423059692 - 198.89923426949565i\\right) \\, C^{82.0} + \\left(184.2556050477521 - 70.15754688747364i\\right) \\, C^{81.0}\\right)} \\gamma} + \\frac{2 \\, C^{2} {\\left(24.576597782563404i \\, C + 89.19472572963413 + 16.406452928428962i\\right)} \\Omega^{2}}{{\\left(-54.954943297482366i \\, C^{4.2} - \\left(199.44546996591146 + 36.68594401761759i\\right) \\, C^{3.2} + {\\left(3 \\, {\\left(3.391592653589793 \\, C + 11.502900727884255 - 62.53625204635218i\\right)} C + 38.662236968837064 \\, C + 25.809519142923044 - 140.31509377494717i\\right)} C^{2}\\right)} \\gamma} - \\frac{2 \\, C^{2} {\\left(24.576597782563404i \\, C - 89.19472572963413 + 16.406452928428962i\\right)} \\Omega^{2}}{{\\left(54.954943297482366i \\, C^{4.2} - \\left(199.44546996591146 - 36.68594401761759i\\right) \\, C^{3.2} + {\\left(3 \\, {\\left(3.391592653589793 \\, C + 11.502900727884255 + 62.53625204635218i\\right)} C + 38.662236968837064 \\, C + 25.809519142923044 + 140.31509377494717i\\right)} C^{2}\\right)} \\gamma} - \\frac{16.406452928428934i \\, \\Omega^{2}}{C^{1.2} \\gamma {\\left(-\\frac{34.508702183652765}{C^{0.2000000000000002}} - \\frac{25.809519142923044}{C^{1.2}} - 36.68594401761758i\\right)}} + \\frac{16.406452928428934i \\, \\Omega^{2}}{C^{1.2} \\gamma {\\left(-\\frac{34.508702183652765}{C^{0.2000000000000002}} - \\frac{25.809519142923044}{C^{1.2}} + 36.68594401761758i\\right)}}}</script></html>"
      ],
      "text/latex": [
       "$$\\newcommand{\\Bold}[1]{\\mathbf{#1}}\\frac{6.283185307179586}{\\frac{2 \\, C^{82.0} {\\left(1.6332963267948966i \\, C + 33.403059578844484 + 6.144149445640851i\\right)} \\Omega^{2}}{{\\left(7.3043232282282i \\, C^{84.2} - 0.75 \\, C^{84.0} + \\left(149.38302374954353 + 27.477471648741183i\\right) \\, C^{83.2} - \\left(10.226171018936572 - 27.657914039364982i\\right) \\, C^{83.0} + \\left(99.72273498295571 - 261.9030123840012i\\right) \\, C^{82.2} + \\left(227.0284423059692 + 198.89923426949565i\\right) \\, C^{82.0} + \\left(184.2556050477521 + 70.15754688747364i\\right) \\, C^{81.0}\\right)} \\gamma} + \\frac{2 \\, C^{82.0} {\\left(-1.6332963267948966i \\, C + 33.403059578844484 - 6.144149445640851i\\right)} \\Omega^{2}}{{\\left(-7.3043232282282i \\, C^{84.2} - 0.75 \\, C^{84.0} + \\left(149.38302374954353 - 27.477471648741183i\\right) \\, C^{83.2} - \\left(10.226171018936572 + 27.657914039364982i\\right) \\, C^{83.0} + \\left(99.72273498295571 + 261.9030123840012i\\right) \\, C^{82.2} + \\left(227.0284423059692 - 198.89923426949565i\\right) \\, C^{82.0} + \\left(184.2556050477521 - 70.15754688747364i\\right) \\, C^{81.0}\\right)} \\gamma} + \\frac{2 \\, C^{2} {\\left(24.576597782563404i \\, C + 89.19472572963413 + 16.406452928428962i\\right)} \\Omega^{2}}{{\\left(-54.954943297482366i \\, C^{4.2} - \\left(199.44546996591146 + 36.68594401761759i\\right) \\, C^{3.2} + {\\left(3 \\, {\\left(3.391592653589793 \\, C + 11.502900727884255 - 62.53625204635218i\\right)} C + 38.662236968837064 \\, C + 25.809519142923044 - 140.31509377494717i\\right)} C^{2}\\right)} \\gamma} - \\frac{2 \\, C^{2} {\\left(24.576597782563404i \\, C - 89.19472572963413 + 16.406452928428962i\\right)} \\Omega^{2}}{{\\left(54.954943297482366i \\, C^{4.2} - \\left(199.44546996591146 - 36.68594401761759i\\right) \\, C^{3.2} + {\\left(3 \\, {\\left(3.391592653589793 \\, C + 11.502900727884255 + 62.53625204635218i\\right)} C + 38.662236968837064 \\, C + 25.809519142923044 + 140.31509377494717i\\right)} C^{2}\\right)} \\gamma} - \\frac{16.406452928428934i \\, \\Omega^{2}}{C^{1.2} \\gamma {\\left(-\\frac{34.508702183652765}{C^{0.2000000000000002}} - \\frac{25.809519142923044}{C^{1.2}} - 36.68594401761758i\\right)}} + \\frac{16.406452928428934i \\, \\Omega^{2}}{C^{1.2} \\gamma {\\left(-\\frac{34.508702183652765}{C^{0.2000000000000002}} - \\frac{25.809519142923044}{C^{1.2}} + 36.68594401761758i\\right)}}}$$"
      ],
      "text/plain": [
       "6.283185307179586/(2*C^82.0*(1.6332963267948966*I*C + 33.403059578844484 + 6.144149445640851*I)*Omega^2/((7.3043232282282*I*C^84.2 - 0.75*C^84.0 + (149.38302374954353 + 27.477471648741183*I)*C^83.2 - (10.226171018936572 - 27.657914039364982*I)*C^83.0 + (99.72273498295571 - 261.9030123840012*I)*C^82.2 + (227.0284423059692 + 198.89923426949565*I)*C^82.0 + (184.2556050477521 + 70.15754688747364*I)*C^81.0)*gamma) + 2*C^82.0*(-1.6332963267948966*I*C + 33.403059578844484 - 6.144149445640851*I)*Omega^2/((-7.3043232282282*I*C^84.2 - 0.75*C^84.0 + (149.38302374954353 - 27.477471648741183*I)*C^83.2 - (10.226171018936572 + 27.657914039364982*I)*C^83.0 + (99.72273498295571 + 261.9030123840012*I)*C^82.2 + (227.0284423059692 - 198.89923426949565*I)*C^82.0 + (184.2556050477521 - 70.15754688747364*I)*C^81.0)*gamma) + 2*C^2*(24.576597782563404*I*C + 89.19472572963413 + 16.406452928428962*I)*Omega^2/((-54.954943297482366*I*C^4.2 - (199.44546996591146 + 36.68594401761759*I)*C^3.2 + (3*(3.391592653589793*C + 11.502900727884255 - 62.53625204635218*I)*C + 38.662236968837064*C + 25.809519142923044 - 140.31509377494717*I)*C^2)*gamma) - 2*C^2*(24.576597782563404*I*C - 89.19472572963413 + 16.406452928428962*I)*Omega^2/((54.954943297482366*I*C^4.2 - (199.44546996591146 - 36.68594401761759*I)*C^3.2 + (3*(3.391592653589793*C + 11.502900727884255 + 62.53625204635218*I)*C + 38.662236968837064*C + 25.809519142923044 + 140.31509377494717*I)*C^2)*gamma) - 16.406452928428934*I*Omega^2/(C^1.2*gamma*(-34.508702183652765/C^0.2000000000000002 - 25.809519142923044/C^1.2 - 36.68594401761758*I)) + 16.406452928428934*I*Omega^2/(C^1.2*gamma*(-34.508702183652765/C^0.2000000000000002 - 25.809519142923044/C^1.2 + 36.68594401761758*I)))"
      ]
     },
     "metadata": {},
     "output_type": "display_data"
    }
   ],
   "source": [
    "#show(symround((t_g)))\n",
    "#GHZ REGIME \n",
    "rf =1 \n",
    "de=122183415123789/100000000000000\n",
    "r_v=1.01014311134038/c_k\n",
    "#show(symround((t_g.subs(R_f =rf ,DEg=de,R_v=r_v))))\n",
    "show(t_g.subs(c=np.pi,R_f=3,Deg=np.e,DEg=np.sqrt(5),r_g=np.sqrt(3),r_f=np.sqrt(2)))"
   ]
  },
  {
   "cell_type": "markdown",
   "id": "1498df0a",
   "metadata": {},
   "source": [
    "# Lindblau Operators in $C \\longrightarrow \\infty$ limit\n",
    "\n",
    "Choose which of the Lindblau operators to view and which non zero element of it"
   ]
  },
  {
   "cell_type": "code",
   "execution_count": 226,
   "id": "847371b4",
   "metadata": {
    "scrolled": true
   },
   "outputs": [
    {
     "name": "stdout",
     "output_type": "stream",
     "text": [
      "0 out of 8\n",
      "symround: Deleted coefficient -3.5e-18\n",
      "symround: Deleted coefficient -8.9e-16\n",
      "symround: Deleted coefficient 1.8e-15\n",
      "symround: Deleted coefficient 1.3e-15\n",
      "symround: Deleted coefficient -4.4e-16\n",
      "symround: Deleted coefficient -5.6e-17\n",
      "symround: Deleted coefficient -3.5e-18\n",
      "symround: Deleted coefficient -8.9e-16\n",
      "symround: Deleted coefficient 1.8e-15\n",
      "symround: Deleted coefficient 1.3e-15\n",
      "symround: Deleted coefficient -4.4e-16\n",
      "symround: Deleted coefficient -5.6e-17\n",
      "symround: Deleted coefficient 1.3e-16\n",
      "symround: Deleted coefficient 4.4e-16\n",
      "symround: Deleted coefficient 1.1e-16\n",
      "symround: Deleted coefficient 8.7e-18\n",
      "symround: Deleted coefficient -1.2e-16\n",
      "symround: Deleted coefficient 6.9e-17\n",
      "symround: Deleted coefficient -6.9e-33\n",
      "symround: Deleted coefficient 3.5e-33\n",
      "symround: Deleted coefficient -8.7e-34\n",
      "symround: Deleted coefficient 4.3e-34\n",
      "symround: Deleted coefficient -1.1e-16\n",
      "symround: Deleted coefficient -4.3e-19\n",
      "symround: Deleted coefficient 2.8e-32\n",
      "symround: Deleted coefficient 5.5e-32\n",
      "symround: Deleted coefficient 1.4e-32\n",
      "symround: Deleted coefficient -1.4e-32\n",
      "symround: Deleted coefficient 1.7e-33\n",
      "symround: Deleted coefficient 3.5e-33\n",
      "symround: Deleted coefficient 6.9e-33\n",
      "symround: Deleted coefficient -3.5e-33\n",
      "symround: Deleted coefficient -8.7e-34\n",
      "symround: Deleted coefficient 2.2e-34\n",
      "symround: Deleted coefficient 1.3e-16\n",
      "symround: Deleted coefficient 4.4e-16\n",
      "symround: Deleted coefficient 1.1e-16\n",
      "symround: Deleted coefficient 8.7e-18\n",
      "symround: Deleted coefficient -1.2e-16\n",
      "symround: Deleted coefficient 6.9e-17\n",
      "symround: Deleted coefficient -6.9e-33\n",
      "symround: Deleted coefficient 3.5e-33\n",
      "symround: Deleted coefficient -8.7e-34\n",
      "symround: Deleted coefficient 4.3e-34\n",
      "symround: Deleted coefficient -1.1e-16\n",
      "symround: Deleted coefficient -4.3e-19\n",
      "symround: Deleted coefficient 2.8e-32\n",
      "symround: Deleted coefficient 5.5e-32\n",
      "symround: Deleted coefficient 1.4e-32\n",
      "symround: Deleted coefficient -1.4e-32\n",
      "symround: Deleted coefficient 1.7e-33\n",
      "symround: Deleted coefficient 3.5e-33\n",
      "symround: Deleted coefficient 6.9e-33\n",
      "symround: Deleted coefficient -3.5e-33\n",
      "symround: Deleted coefficient -8.7e-34\n",
      "symround: Deleted coefficient 2.2e-34\n"
     ]
    }
   ],
   "source": [
    "lind_op_number = len(s1.lindblau_list)\n",
    "\n",
    "eff_lind_taylor = []\n",
    "eff_lind = []\n",
    "eff_lind_coeff = []\n",
    "for lind_op in range(lind_op_number ):#lind_op_number \n",
    "    print(f'{lind_op} out of {lind_op_number-1}')\n",
    "    eff_lind_taylor.append([])\n",
    "    eff_lind.append([])\n",
    "    L_matrix = s1.eff_lindblau_list[lind_op]\n",
    "    L_nonzeros = []\n",
    "    L_nonzeros_pos = []\n",
    "    for i in  range(L_matrix.nrows()):\n",
    "        for j in  range(L_matrix.ncols()):\n",
    "            if not L_matrix[i,j].is_zero():\n",
    "                L_nonzeros.append(L_matrix[i,j])\n",
    "                L_nonzeros_pos.append((i,j))\n",
    "    eff_lind_coeff.append(s1.L_coeffs[lind_op])\n",
    "    for which in range(len(L_nonzeros)):\n",
    "\n",
    "        L_elem = L_nonzeros[which]\n",
    "\n",
    "        #L_elem = L_elem.subs(DE=+0.5*I*gamma_f + 0.5*I*gamma_g + DEt*gamma)\n",
    "        #L_elem = L_elem.subs(De=+0.5*I*gamma   +Det*gamma)\n",
    "        L_elem = L_elem.subs(De=Deg*gamma)\n",
    "        L_elem = L_elem.subs(DE=DEg*gamma)\n",
    "\n",
    "        #COUPLINGS\n",
    "\n",
    "        L_elem = L_elem.subs(g_f=g*sqrt(R_f))\n",
    "\n",
    "        L_elem = L_elem.subs(v=g*sqrt(R_v))\n",
    "\n",
    "        #ABSORBTIONS\n",
    "        L_elem = L_elem.subs(kappa_b=gamma/r_b)\n",
    "\n",
    "        L_elem = L_elem.subs(gamma_g=gamma*r_g)\n",
    "\n",
    "        L_elem = L_elem.subs(gamma_f=gamma*r_f)\n",
    "\n",
    "        L_elem = L_elem.subs(g = sqrt(C*gamma*kappa_c)) \n",
    "        L_elem = L_elem.subs(r_b = c/(C*R_v))\n",
    "        \n",
    "        L_elem = L_elem._mathematica_().Factor()._sage_()\n",
    "\n",
    "\n",
    "        L_elem = MMA_simplify(L_elem)#,full=True)\n",
    "\n",
    "        L_elem = SR(str(L_elem).replace('Sqrt','sqrt'))\n",
    "        \n",
    "        L_elem_show = symround(L_elem)\n",
    "        \n",
    "        eff_lind[lind_op].append(L_elem_show)\n",
    "        \n",
    "        var('x')\n",
    "        q = L_elem.subs(C=1/x)\n",
    "        q = MMA_simplify(q)\n",
    "        tayl = q._mathematica_().Series((x,0,1)).Normal()._sage_()\n",
    "        tayl = tayl.subs(x=1/C)\n",
    "        tayl = SR(str(tayl).replace('Sqrt','sqrt'))\n",
    "        tayl_show = symround(tayl)\n",
    "        \n",
    "        eff_lind_taylor[-1].append(tayl_show)"
   ]
  },
  {
   "cell_type": "markdown",
   "id": "f1ddbf1c",
   "metadata": {},
   "source": [
    "# See results"
   ]
  },
  {
   "cell_type": "code",
   "execution_count": 227,
   "id": "abd5a8d7",
   "metadata": {},
   "outputs": [],
   "source": [
    "#show((eff_lind_taylor[2][3]))"
   ]
  },
  {
   "cell_type": "code",
   "execution_count": 228,
   "id": "a02f7505",
   "metadata": {},
   "outputs": [],
   "source": [
    "#show(eff_lind[0][3])"
   ]
  },
  {
   "cell_type": "code",
   "execution_count": 229,
   "id": "bc6f635a",
   "metadata": {},
   "outputs": [
    {
     "name": "stdout",
     "output_type": "stream",
     "text": [
      "Interrupting Mathematica...\n"
     ]
    },
    {
     "ename": "KeyboardInterrupt",
     "evalue": "Ctrl-c pressed while running Mathematica",
     "output_type": "error",
     "traceback": [
      "\u001b[0;31m---------------------------------------------------------------------------\u001b[0m",
      "\u001b[0;31mKeyboardInterrupt\u001b[0m                         Traceback (most recent call last)",
      "\u001b[0;32m/opt/SageMath/SageMath/local/lib/python3.9/site-packages/sage/interfaces/expect.py\u001b[0m in \u001b[0;36m_eval_line\u001b[0;34m(self, line, allow_use_file, wait_for_prompt, restart_if_needed)\u001b[0m\n\u001b[1;32m    982\u001b[0m                     \u001b[0;32melse\u001b[0m\u001b[0;34m:\u001b[0m\u001b[0;34m\u001b[0m\u001b[0;34m\u001b[0m\u001b[0m\n\u001b[0;32m--> 983\u001b[0;31m                         \u001b[0mE\u001b[0m\u001b[0;34m.\u001b[0m\u001b[0mexpect\u001b[0m\u001b[0;34m(\u001b[0m\u001b[0mself\u001b[0m\u001b[0;34m.\u001b[0m\u001b[0m_prompt\u001b[0m\u001b[0;34m)\u001b[0m\u001b[0;34m\u001b[0m\u001b[0;34m\u001b[0m\u001b[0m\n\u001b[0m\u001b[1;32m    984\u001b[0m                 \u001b[0;32mexcept\u001b[0m \u001b[0mpexpect\u001b[0m\u001b[0;34m.\u001b[0m\u001b[0mEOF\u001b[0m \u001b[0;32mas\u001b[0m \u001b[0mmsg\u001b[0m\u001b[0;34m:\u001b[0m\u001b[0;34m\u001b[0m\u001b[0;34m\u001b[0m\u001b[0m\n",
      "\u001b[0;32m/opt/SageMath/SageMath/local/lib/python3.9/site-packages/pexpect/spawnbase.py\u001b[0m in \u001b[0;36mexpect\u001b[0;34m(self, pattern, timeout, searchwindowsize, async_, **kw)\u001b[0m\n\u001b[1;32m    342\u001b[0m         \u001b[0mcompiled_pattern_list\u001b[0m \u001b[0;34m=\u001b[0m \u001b[0mself\u001b[0m\u001b[0;34m.\u001b[0m\u001b[0mcompile_pattern_list\u001b[0m\u001b[0;34m(\u001b[0m\u001b[0mpattern\u001b[0m\u001b[0;34m)\u001b[0m\u001b[0;34m\u001b[0m\u001b[0;34m\u001b[0m\u001b[0m\n\u001b[0;32m--> 343\u001b[0;31m         return self.expect_list(compiled_pattern_list,\n\u001b[0m\u001b[1;32m    344\u001b[0m                 timeout, searchwindowsize, async_)\n",
      "\u001b[0;32m/opt/SageMath/SageMath/local/lib/python3.9/site-packages/pexpect/spawnbase.py\u001b[0m in \u001b[0;36mexpect_list\u001b[0;34m(self, pattern_list, timeout, searchwindowsize, async_, **kw)\u001b[0m\n\u001b[1;32m    371\u001b[0m         \u001b[0;32melse\u001b[0m\u001b[0;34m:\u001b[0m\u001b[0;34m\u001b[0m\u001b[0;34m\u001b[0m\u001b[0m\n\u001b[0;32m--> 372\u001b[0;31m             \u001b[0;32mreturn\u001b[0m \u001b[0mexp\u001b[0m\u001b[0;34m.\u001b[0m\u001b[0mexpect_loop\u001b[0m\u001b[0;34m(\u001b[0m\u001b[0mtimeout\u001b[0m\u001b[0;34m)\u001b[0m\u001b[0;34m\u001b[0m\u001b[0;34m\u001b[0m\u001b[0m\n\u001b[0m\u001b[1;32m    373\u001b[0m \u001b[0;34m\u001b[0m\u001b[0m\n",
      "\u001b[0;32m/opt/SageMath/SageMath/local/lib/python3.9/site-packages/pexpect/expect.py\u001b[0m in \u001b[0;36mexpect_loop\u001b[0;34m(self, timeout)\u001b[0m\n\u001b[1;32m    168\u001b[0m                 \u001b[0;31m# Still have time left, so read more data\u001b[0m\u001b[0;34m\u001b[0m\u001b[0;34m\u001b[0m\u001b[0;34m\u001b[0m\u001b[0m\n\u001b[0;32m--> 169\u001b[0;31m                 \u001b[0mincoming\u001b[0m \u001b[0;34m=\u001b[0m \u001b[0mspawn\u001b[0m\u001b[0;34m.\u001b[0m\u001b[0mread_nonblocking\u001b[0m\u001b[0;34m(\u001b[0m\u001b[0mspawn\u001b[0m\u001b[0;34m.\u001b[0m\u001b[0mmaxread\u001b[0m\u001b[0;34m,\u001b[0m \u001b[0mtimeout\u001b[0m\u001b[0;34m)\u001b[0m\u001b[0;34m\u001b[0m\u001b[0;34m\u001b[0m\u001b[0m\n\u001b[0m\u001b[1;32m    170\u001b[0m                 \u001b[0;32mif\u001b[0m \u001b[0mself\u001b[0m\u001b[0;34m.\u001b[0m\u001b[0mspawn\u001b[0m\u001b[0;34m.\u001b[0m\u001b[0mdelayafterread\u001b[0m \u001b[0;32mis\u001b[0m \u001b[0;32mnot\u001b[0m \u001b[0;32mNone\u001b[0m\u001b[0;34m:\u001b[0m\u001b[0;34m\u001b[0m\u001b[0;34m\u001b[0m\u001b[0m\n",
      "\u001b[0;32m/opt/SageMath/SageMath/local/lib/python3.9/site-packages/pexpect/pty_spawn.py\u001b[0m in \u001b[0;36mread_nonblocking\u001b[0;34m(self, size, timeout)\u001b[0m\n\u001b[1;32m    499\u001b[0m         \u001b[0;31m# (possibly timeout=None), we call select() with a timeout.\u001b[0m\u001b[0;34m\u001b[0m\u001b[0;34m\u001b[0m\u001b[0;34m\u001b[0m\u001b[0m\n\u001b[0;32m--> 500\u001b[0;31m         \u001b[0;32mif\u001b[0m \u001b[0;34m(\u001b[0m\u001b[0mtimeout\u001b[0m \u001b[0;34m!=\u001b[0m \u001b[0;36m0\u001b[0m\u001b[0;34m)\u001b[0m \u001b[0;32mand\u001b[0m \u001b[0mselect\u001b[0m\u001b[0;34m(\u001b[0m\u001b[0mtimeout\u001b[0m\u001b[0;34m)\u001b[0m\u001b[0;34m:\u001b[0m\u001b[0;34m\u001b[0m\u001b[0;34m\u001b[0m\u001b[0m\n\u001b[0m\u001b[1;32m    501\u001b[0m             \u001b[0;32mreturn\u001b[0m \u001b[0msuper\u001b[0m\u001b[0;34m(\u001b[0m\u001b[0mspawn\u001b[0m\u001b[0;34m,\u001b[0m \u001b[0mself\u001b[0m\u001b[0;34m)\u001b[0m\u001b[0;34m.\u001b[0m\u001b[0mread_nonblocking\u001b[0m\u001b[0;34m(\u001b[0m\u001b[0msize\u001b[0m\u001b[0;34m)\u001b[0m\u001b[0;34m\u001b[0m\u001b[0;34m\u001b[0m\u001b[0m\n",
      "\u001b[0;32m/opt/SageMath/SageMath/local/lib/python3.9/site-packages/pexpect/pty_spawn.py\u001b[0m in \u001b[0;36mselect\u001b[0;34m(timeout)\u001b[0m\n\u001b[1;32m    449\u001b[0m             \u001b[0;32mdef\u001b[0m \u001b[0mselect\u001b[0m\u001b[0;34m(\u001b[0m\u001b[0mtimeout\u001b[0m\u001b[0;34m)\u001b[0m\u001b[0;34m:\u001b[0m\u001b[0;34m\u001b[0m\u001b[0;34m\u001b[0m\u001b[0m\n\u001b[0;32m--> 450\u001b[0;31m                 \u001b[0;32mreturn\u001b[0m \u001b[0mselect_ignore_interrupts\u001b[0m\u001b[0;34m(\u001b[0m\u001b[0;34m[\u001b[0m\u001b[0mself\u001b[0m\u001b[0;34m.\u001b[0m\u001b[0mchild_fd\u001b[0m\u001b[0;34m]\u001b[0m\u001b[0;34m,\u001b[0m \u001b[0;34m[\u001b[0m\u001b[0;34m]\u001b[0m\u001b[0;34m,\u001b[0m \u001b[0;34m[\u001b[0m\u001b[0;34m]\u001b[0m\u001b[0;34m,\u001b[0m \u001b[0mtimeout\u001b[0m\u001b[0;34m)\u001b[0m\u001b[0;34m[\u001b[0m\u001b[0;36m0\u001b[0m\u001b[0;34m]\u001b[0m\u001b[0;34m\u001b[0m\u001b[0;34m\u001b[0m\u001b[0m\n\u001b[0m\u001b[1;32m    451\u001b[0m \u001b[0;34m\u001b[0m\u001b[0m\n",
      "\u001b[0;32m/opt/SageMath/SageMath/local/lib/python3.9/site-packages/pexpect/utils.py\u001b[0m in \u001b[0;36mselect_ignore_interrupts\u001b[0;34m(iwtd, owtd, ewtd, timeout)\u001b[0m\n\u001b[1;32m    142\u001b[0m         \u001b[0;32mtry\u001b[0m\u001b[0;34m:\u001b[0m\u001b[0;34m\u001b[0m\u001b[0;34m\u001b[0m\u001b[0m\n\u001b[0;32m--> 143\u001b[0;31m             \u001b[0;32mreturn\u001b[0m \u001b[0mselect\u001b[0m\u001b[0;34m.\u001b[0m\u001b[0mselect\u001b[0m\u001b[0;34m(\u001b[0m\u001b[0miwtd\u001b[0m\u001b[0;34m,\u001b[0m \u001b[0mowtd\u001b[0m\u001b[0;34m,\u001b[0m \u001b[0mewtd\u001b[0m\u001b[0;34m,\u001b[0m \u001b[0mtimeout\u001b[0m\u001b[0;34m)\u001b[0m\u001b[0;34m\u001b[0m\u001b[0;34m\u001b[0m\u001b[0m\n\u001b[0m\u001b[1;32m    144\u001b[0m         \u001b[0;32mexcept\u001b[0m \u001b[0mInterruptedError\u001b[0m\u001b[0;34m:\u001b[0m\u001b[0;34m\u001b[0m\u001b[0;34m\u001b[0m\u001b[0m\n",
      "\u001b[0;32msrc/cysignals/signals.pyx\u001b[0m in \u001b[0;36mcysignals.signals.python_check_interrupt\u001b[0;34m()\u001b[0m\n",
      "\u001b[0;31mKeyboardInterrupt\u001b[0m: ",
      "\nDuring handling of the above exception, another exception occurred:\n",
      "\u001b[0;31mKeyboardInterrupt\u001b[0m                         Traceback (most recent call last)",
      "\u001b[0;32m<ipython-input-229-02158a6e18a2>\u001b[0m in \u001b[0;36m<module>\u001b[0;34m\u001b[0m\n\u001b[1;32m      3\u001b[0m \u001b[0ma\u001b[0m \u001b[0;34m=\u001b[0m \u001b[0meff_lind_taylor\u001b[0m\u001b[0;34m[\u001b[0m\u001b[0mlindop\u001b[0m\u001b[0;34m]\u001b[0m\u001b[0;34m[\u001b[0m\u001b[0mInteger\u001b[0m\u001b[0;34m(\u001b[0m\u001b[0;36m0\u001b[0m\u001b[0;34m)\u001b[0m\u001b[0;34m]\u001b[0m\u001b[0;34m\u001b[0m\u001b[0;34m\u001b[0m\u001b[0m\n\u001b[1;32m      4\u001b[0m \u001b[0merr\u001b[0m \u001b[0;34m=\u001b[0m \u001b[0mt_g\u001b[0m\u001b[0;34m*\u001b[0m\u001b[0ma\u001b[0m\u001b[0;34m*\u001b[0m\u001b[0mconjugate\u001b[0m\u001b[0;34m(\u001b[0m\u001b[0ma\u001b[0m\u001b[0;34m)\u001b[0m\u001b[0;34m\u001b[0m\u001b[0;34m\u001b[0m\u001b[0m\n\u001b[0;32m----> 5\u001b[0;31m \u001b[0merr\u001b[0m \u001b[0;34m=\u001b[0m \u001b[0mSR\u001b[0m\u001b[0;34m(\u001b[0m\u001b[0mstr\u001b[0m\u001b[0;34m(\u001b[0m\u001b[0mMMA_simplify\u001b[0m\u001b[0;34m(\u001b[0m \u001b[0merr\u001b[0m\u001b[0;34m,\u001b[0m\u001b[0mfull\u001b[0m\u001b[0;34m=\u001b[0m\u001b[0;32mFalse\u001b[0m \u001b[0;34m)\u001b[0m\u001b[0;34m)\u001b[0m\u001b[0;34m.\u001b[0m\u001b[0mreplace\u001b[0m\u001b[0;34m(\u001b[0m\u001b[0;34m'Sqrt'\u001b[0m\u001b[0;34m,\u001b[0m\u001b[0;34m'sqrt'\u001b[0m\u001b[0;34m)\u001b[0m\u001b[0;34m)\u001b[0m\u001b[0;34m.\u001b[0m\u001b[0msimplify\u001b[0m\u001b[0;34m(\u001b[0m\u001b[0;34m)\u001b[0m\u001b[0;34m\u001b[0m\u001b[0;34m\u001b[0m\u001b[0m\n\u001b[0m\u001b[1;32m      6\u001b[0m \u001b[0mshow\u001b[0m\u001b[0;34m(\u001b[0m \u001b[0msymround\u001b[0m\u001b[0;34m(\u001b[0m \u001b[0merr\u001b[0m \u001b[0;34m)\u001b[0m \u001b[0;34m)\u001b[0m\u001b[0;34m\u001b[0m\u001b[0;34m\u001b[0m\u001b[0m\n\u001b[1;32m      7\u001b[0m \u001b[0mprint\u001b[0m\u001b[0;34m(\u001b[0m\u001b[0;34mf'coeff:'\u001b[0m\u001b[0;34m)\u001b[0m\u001b[0;34m\u001b[0m\u001b[0;34m\u001b[0m\u001b[0m\n",
      "\u001b[0;32m~/Thesis/Code/Yorgos_Thesis/functions.py\u001b[0m in \u001b[0;36mMMA_simplify\u001b[0;34m(expr, full)\u001b[0m\n\u001b[1;32m    109\u001b[0m         \u001b[0mexpr_simpl_m\u001b[0m  \u001b[0;34m=\u001b[0m  \u001b[0mexpr\u001b[0m\u001b[0;34m.\u001b[0m\u001b[0m_mathematica_\u001b[0m\u001b[0;34m(\u001b[0m\u001b[0;34m)\u001b[0m\u001b[0;34m.\u001b[0m\u001b[0mFullSimplify\u001b[0m\u001b[0;34m(\u001b[0m\u001b[0;34m)\u001b[0m\u001b[0;34m\u001b[0m\u001b[0;34m\u001b[0m\u001b[0m\n\u001b[1;32m    110\u001b[0m     \u001b[0;32melse\u001b[0m\u001b[0;34m:\u001b[0m\u001b[0;34m\u001b[0m\u001b[0;34m\u001b[0m\u001b[0m\n\u001b[0;32m--> 111\u001b[0;31m         \u001b[0mexpr_simpl_m\u001b[0m  \u001b[0;34m=\u001b[0m  \u001b[0mexpr\u001b[0m\u001b[0;34m.\u001b[0m\u001b[0m_mathematica_\u001b[0m\u001b[0;34m(\u001b[0m\u001b[0;34m)\u001b[0m\u001b[0;34m.\u001b[0m\u001b[0mSimplify\u001b[0m\u001b[0;34m(\u001b[0m\u001b[0;34m)\u001b[0m\u001b[0;34m\u001b[0m\u001b[0;34m\u001b[0m\u001b[0m\n\u001b[0m\u001b[1;32m    112\u001b[0m \u001b[0;34m\u001b[0m\u001b[0m\n\u001b[1;32m    113\u001b[0m     \u001b[0mexpr_simpl_sg\u001b[0m \u001b[0;34m=\u001b[0m \u001b[0mexpr_simpl_m\u001b[0m\u001b[0;34m.\u001b[0m\u001b[0m_sage_\u001b[0m\u001b[0;34m(\u001b[0m\u001b[0;34m)\u001b[0m\u001b[0;34m\u001b[0m\u001b[0;34m\u001b[0m\u001b[0m\n",
      "\u001b[0;32m/opt/SageMath/SageMath/local/lib/python3.9/site-packages/sage/interfaces/interface.py\u001b[0m in \u001b[0;36m__call__\u001b[0;34m(self, *args, **kwds)\u001b[0m\n\u001b[1;32m    677\u001b[0m \u001b[0;34m\u001b[0m\u001b[0m\n\u001b[1;32m    678\u001b[0m     \u001b[0;32mdef\u001b[0m \u001b[0m__call__\u001b[0m\u001b[0;34m(\u001b[0m\u001b[0mself\u001b[0m\u001b[0;34m,\u001b[0m \u001b[0;34m*\u001b[0m\u001b[0margs\u001b[0m\u001b[0;34m,\u001b[0m \u001b[0;34m**\u001b[0m\u001b[0mkwds\u001b[0m\u001b[0;34m)\u001b[0m\u001b[0;34m:\u001b[0m\u001b[0;34m\u001b[0m\u001b[0;34m\u001b[0m\u001b[0m\n\u001b[0;32m--> 679\u001b[0;31m         \u001b[0;32mreturn\u001b[0m \u001b[0mself\u001b[0m\u001b[0;34m.\u001b[0m\u001b[0m_obj\u001b[0m\u001b[0;34m.\u001b[0m\u001b[0mparent\u001b[0m\u001b[0;34m(\u001b[0m\u001b[0;34m)\u001b[0m\u001b[0;34m.\u001b[0m\u001b[0mfunction_call\u001b[0m\u001b[0;34m(\u001b[0m\u001b[0mself\u001b[0m\u001b[0;34m.\u001b[0m\u001b[0m_name\u001b[0m\u001b[0;34m,\u001b[0m \u001b[0;34m[\u001b[0m\u001b[0mself\u001b[0m\u001b[0;34m.\u001b[0m\u001b[0m_obj\u001b[0m\u001b[0;34m]\u001b[0m \u001b[0;34m+\u001b[0m \u001b[0mlist\u001b[0m\u001b[0;34m(\u001b[0m\u001b[0margs\u001b[0m\u001b[0;34m)\u001b[0m\u001b[0;34m,\u001b[0m \u001b[0mkwds\u001b[0m\u001b[0;34m)\u001b[0m\u001b[0;34m\u001b[0m\u001b[0;34m\u001b[0m\u001b[0m\n\u001b[0m\u001b[1;32m    680\u001b[0m \u001b[0;34m\u001b[0m\u001b[0m\n\u001b[1;32m    681\u001b[0m     \u001b[0;32mdef\u001b[0m \u001b[0mhelp\u001b[0m\u001b[0;34m(\u001b[0m\u001b[0mself\u001b[0m\u001b[0;34m)\u001b[0m\u001b[0;34m:\u001b[0m\u001b[0;34m\u001b[0m\u001b[0;34m\u001b[0m\u001b[0m\n",
      "\u001b[0;32m/opt/SageMath/SageMath/local/lib/python3.9/site-packages/sage/interfaces/interface.py\u001b[0m in \u001b[0;36mfunction_call\u001b[0;34m(self, function, args, kwds)\u001b[0m\n\u001b[1;32m    598\u001b[0m                                        \u001b[0;34m[\u001b[0m\u001b[0ms\u001b[0m\u001b[0;34m.\u001b[0m\u001b[0mname\u001b[0m\u001b[0;34m(\u001b[0m\u001b[0;34m)\u001b[0m \u001b[0;32mfor\u001b[0m \u001b[0ms\u001b[0m \u001b[0;32min\u001b[0m \u001b[0margs\u001b[0m\u001b[0;34m]\u001b[0m\u001b[0;34m,\u001b[0m\u001b[0;34m\u001b[0m\u001b[0;34m\u001b[0m\u001b[0m\n\u001b[1;32m    599\u001b[0m                                        ['%s=%s'%(key,value.name()) for key, value in kwds.items()])\n\u001b[0;32m--> 600\u001b[0;31m         \u001b[0;32mreturn\u001b[0m \u001b[0mself\u001b[0m\u001b[0;34m.\u001b[0m\u001b[0mnew\u001b[0m\u001b[0;34m(\u001b[0m\u001b[0ms\u001b[0m\u001b[0;34m)\u001b[0m\u001b[0;34m\u001b[0m\u001b[0;34m\u001b[0m\u001b[0m\n\u001b[0m\u001b[1;32m    601\u001b[0m \u001b[0;34m\u001b[0m\u001b[0m\n\u001b[1;32m    602\u001b[0m     \u001b[0;32mdef\u001b[0m \u001b[0m_function_call_string\u001b[0m\u001b[0;34m(\u001b[0m\u001b[0mself\u001b[0m\u001b[0;34m,\u001b[0m \u001b[0mfunction\u001b[0m\u001b[0;34m,\u001b[0m \u001b[0margs\u001b[0m\u001b[0;34m,\u001b[0m \u001b[0mkwds\u001b[0m\u001b[0;34m)\u001b[0m\u001b[0;34m:\u001b[0m\u001b[0;34m\u001b[0m\u001b[0;34m\u001b[0m\u001b[0m\n",
      "\u001b[0;32m/opt/SageMath/SageMath/local/lib/python3.9/site-packages/sage/interfaces/interface.py\u001b[0m in \u001b[0;36mnew\u001b[0;34m(self, code)\u001b[0m\n\u001b[1;32m    367\u001b[0m \u001b[0;34m\u001b[0m\u001b[0m\n\u001b[1;32m    368\u001b[0m     \u001b[0;32mdef\u001b[0m \u001b[0mnew\u001b[0m\u001b[0;34m(\u001b[0m\u001b[0mself\u001b[0m\u001b[0;34m,\u001b[0m \u001b[0mcode\u001b[0m\u001b[0;34m)\u001b[0m\u001b[0;34m:\u001b[0m\u001b[0;34m\u001b[0m\u001b[0;34m\u001b[0m\u001b[0m\n\u001b[0;32m--> 369\u001b[0;31m         \u001b[0;32mreturn\u001b[0m \u001b[0mself\u001b[0m\u001b[0;34m(\u001b[0m\u001b[0mcode\u001b[0m\u001b[0;34m)\u001b[0m\u001b[0;34m\u001b[0m\u001b[0;34m\u001b[0m\u001b[0m\n\u001b[0m\u001b[1;32m    370\u001b[0m \u001b[0;34m\u001b[0m\u001b[0m\n\u001b[1;32m    371\u001b[0m     \u001b[0;31m###################################################################\u001b[0m\u001b[0;34m\u001b[0m\u001b[0;34m\u001b[0m\u001b[0;34m\u001b[0m\u001b[0m\n",
      "\u001b[0;32m/opt/SageMath/SageMath/local/lib/python3.9/site-packages/sage/interfaces/interface.py\u001b[0m in \u001b[0;36m__call__\u001b[0;34m(self, x, name)\u001b[0m\n\u001b[1;32m    293\u001b[0m \u001b[0;34m\u001b[0m\u001b[0m\n\u001b[1;32m    294\u001b[0m         \u001b[0;32mif\u001b[0m \u001b[0misinstance\u001b[0m\u001b[0;34m(\u001b[0m\u001b[0mx\u001b[0m\u001b[0;34m,\u001b[0m \u001b[0mstr\u001b[0m\u001b[0;34m)\u001b[0m\u001b[0;34m:\u001b[0m\u001b[0;34m\u001b[0m\u001b[0;34m\u001b[0m\u001b[0m\n\u001b[0;32m--> 295\u001b[0;31m             \u001b[0;32mreturn\u001b[0m \u001b[0mcls\u001b[0m\u001b[0;34m(\u001b[0m\u001b[0mself\u001b[0m\u001b[0;34m,\u001b[0m \u001b[0mx\u001b[0m\u001b[0;34m,\u001b[0m \u001b[0mname\u001b[0m\u001b[0;34m=\u001b[0m\u001b[0mname\u001b[0m\u001b[0;34m)\u001b[0m\u001b[0;34m\u001b[0m\u001b[0;34m\u001b[0m\u001b[0m\n\u001b[0m\u001b[1;32m    296\u001b[0m         \u001b[0;32mtry\u001b[0m\u001b[0;34m:\u001b[0m\u001b[0;34m\u001b[0m\u001b[0;34m\u001b[0m\u001b[0m\n\u001b[1;32m    297\u001b[0m             \u001b[0;31m# Special methods do not and should not have an option to\u001b[0m\u001b[0;34m\u001b[0m\u001b[0;34m\u001b[0m\u001b[0;34m\u001b[0m\u001b[0m\n",
      "\u001b[0;32m/opt/SageMath/SageMath/local/lib/python3.9/site-packages/sage/interfaces/expect.py\u001b[0m in \u001b[0;36m__init__\u001b[0;34m(self, parent, value, is_name, name)\u001b[0m\n\u001b[1;32m   1466\u001b[0m         \u001b[0;32melse\u001b[0m\u001b[0;34m:\u001b[0m\u001b[0;34m\u001b[0m\u001b[0;34m\u001b[0m\u001b[0m\n\u001b[1;32m   1467\u001b[0m             \u001b[0;32mtry\u001b[0m\u001b[0;34m:\u001b[0m\u001b[0;34m\u001b[0m\u001b[0;34m\u001b[0m\u001b[0m\n\u001b[0;32m-> 1468\u001b[0;31m                 \u001b[0mself\u001b[0m\u001b[0;34m.\u001b[0m\u001b[0m_name\u001b[0m \u001b[0;34m=\u001b[0m \u001b[0mparent\u001b[0m\u001b[0;34m.\u001b[0m\u001b[0m_create\u001b[0m\u001b[0;34m(\u001b[0m\u001b[0mvalue\u001b[0m\u001b[0;34m,\u001b[0m \u001b[0mname\u001b[0m\u001b[0;34m=\u001b[0m\u001b[0mname\u001b[0m\u001b[0;34m)\u001b[0m\u001b[0;34m\u001b[0m\u001b[0;34m\u001b[0m\u001b[0m\n\u001b[0m\u001b[1;32m   1469\u001b[0m             \u001b[0;31m# Convert ValueError and RuntimeError to TypeError for\u001b[0m\u001b[0;34m\u001b[0m\u001b[0;34m\u001b[0m\u001b[0;34m\u001b[0m\u001b[0m\n\u001b[1;32m   1470\u001b[0m             \u001b[0;31m# coercion to work properly.\u001b[0m\u001b[0;34m\u001b[0m\u001b[0;34m\u001b[0m\u001b[0;34m\u001b[0m\u001b[0m\n",
      "\u001b[0;32m/opt/SageMath/SageMath/local/lib/python3.9/site-packages/sage/interfaces/interface.py\u001b[0m in \u001b[0;36m_create\u001b[0;34m(self, value, name)\u001b[0m\n\u001b[1;32m    498\u001b[0m     \u001b[0;32mdef\u001b[0m \u001b[0m_create\u001b[0m\u001b[0;34m(\u001b[0m\u001b[0mself\u001b[0m\u001b[0;34m,\u001b[0m \u001b[0mvalue\u001b[0m\u001b[0;34m,\u001b[0m \u001b[0mname\u001b[0m\u001b[0;34m=\u001b[0m\u001b[0;32mNone\u001b[0m\u001b[0;34m)\u001b[0m\u001b[0;34m:\u001b[0m\u001b[0;34m\u001b[0m\u001b[0;34m\u001b[0m\u001b[0m\n\u001b[1;32m    499\u001b[0m         \u001b[0mname\u001b[0m \u001b[0;34m=\u001b[0m \u001b[0mself\u001b[0m\u001b[0;34m.\u001b[0m\u001b[0m_next_var_name\u001b[0m\u001b[0;34m(\u001b[0m\u001b[0;34m)\u001b[0m \u001b[0;32mif\u001b[0m \u001b[0mname\u001b[0m \u001b[0;32mis\u001b[0m \u001b[0;32mNone\u001b[0m \u001b[0;32melse\u001b[0m \u001b[0mname\u001b[0m\u001b[0;34m\u001b[0m\u001b[0;34m\u001b[0m\u001b[0m\n\u001b[0;32m--> 500\u001b[0;31m         \u001b[0mself\u001b[0m\u001b[0;34m.\u001b[0m\u001b[0mset\u001b[0m\u001b[0;34m(\u001b[0m\u001b[0mname\u001b[0m\u001b[0;34m,\u001b[0m \u001b[0mvalue\u001b[0m\u001b[0;34m)\u001b[0m\u001b[0;34m\u001b[0m\u001b[0;34m\u001b[0m\u001b[0m\n\u001b[0m\u001b[1;32m    501\u001b[0m         \u001b[0;32mreturn\u001b[0m \u001b[0mname\u001b[0m\u001b[0;34m\u001b[0m\u001b[0;34m\u001b[0m\u001b[0m\n\u001b[1;32m    502\u001b[0m \u001b[0;34m\u001b[0m\u001b[0m\n",
      "\u001b[0;32m/opt/SageMath/SageMath/local/lib/python3.9/site-packages/sage/interfaces/mathematica.py\u001b[0m in \u001b[0;36mset\u001b[0;34m(self, var, value)\u001b[0m\n\u001b[1;32m    579\u001b[0m         \u001b[0mcmd\u001b[0m \u001b[0;34m=\u001b[0m \u001b[0;34m'%s=%s;'\u001b[0m\u001b[0;34m%\u001b[0m\u001b[0;34m(\u001b[0m\u001b[0mvar\u001b[0m\u001b[0;34m,\u001b[0m\u001b[0mvalue\u001b[0m\u001b[0;34m)\u001b[0m\u001b[0;34m\u001b[0m\u001b[0;34m\u001b[0m\u001b[0m\n\u001b[1;32m    580\u001b[0m         \u001b[0;31m#out = self.eval(cmd)\u001b[0m\u001b[0;34m\u001b[0m\u001b[0;34m\u001b[0m\u001b[0;34m\u001b[0m\u001b[0m\n\u001b[0;32m--> 581\u001b[0;31m         \u001b[0mout\u001b[0m \u001b[0;34m=\u001b[0m \u001b[0mself\u001b[0m\u001b[0;34m.\u001b[0m\u001b[0m_eval_line\u001b[0m\u001b[0;34m(\u001b[0m\u001b[0mcmd\u001b[0m\u001b[0;34m,\u001b[0m \u001b[0mallow_use_file\u001b[0m\u001b[0;34m=\u001b[0m\u001b[0;32mTrue\u001b[0m\u001b[0;34m)\u001b[0m\u001b[0;34m\u001b[0m\u001b[0;34m\u001b[0m\u001b[0m\n\u001b[0m\u001b[1;32m    582\u001b[0m         \u001b[0;32mif\u001b[0m \u001b[0mlen\u001b[0m\u001b[0;34m(\u001b[0m\u001b[0mout\u001b[0m\u001b[0;34m)\u001b[0m \u001b[0;34m>\u001b[0m \u001b[0;36m8\u001b[0m\u001b[0;34m:\u001b[0m\u001b[0;34m\u001b[0m\u001b[0;34m\u001b[0m\u001b[0m\n\u001b[1;32m    583\u001b[0m             \u001b[0;32mraise\u001b[0m \u001b[0mTypeError\u001b[0m\u001b[0;34m(\u001b[0m\u001b[0;34m\"Error executing code in Mathematica\\nCODE:\\n\\t%s\\nMathematica ERROR:\\n\\t%s\"\u001b[0m\u001b[0;34m%\u001b[0m\u001b[0;34m(\u001b[0m\u001b[0mcmd\u001b[0m\u001b[0;34m,\u001b[0m \u001b[0mout\u001b[0m\u001b[0;34m)\u001b[0m\u001b[0;34m)\u001b[0m\u001b[0;34m\u001b[0m\u001b[0;34m\u001b[0m\u001b[0m\n",
      "\u001b[0;32m/opt/SageMath/SageMath/local/lib/python3.9/site-packages/sage/interfaces/mathematica.py\u001b[0m in \u001b[0;36m_eval_line\u001b[0;34m(self, line, allow_use_file, wait_for_prompt, restart_if_needed)\u001b[0m\n\u001b[1;32m    605\u001b[0m \u001b[0;34m\u001b[0m\u001b[0m\n\u001b[1;32m    606\u001b[0m     \u001b[0;32mdef\u001b[0m \u001b[0m_eval_line\u001b[0m\u001b[0;34m(\u001b[0m\u001b[0mself\u001b[0m\u001b[0;34m,\u001b[0m \u001b[0mline\u001b[0m\u001b[0;34m,\u001b[0m  \u001b[0mallow_use_file\u001b[0m\u001b[0;34m=\u001b[0m\u001b[0;32mTrue\u001b[0m\u001b[0;34m,\u001b[0m \u001b[0mwait_for_prompt\u001b[0m\u001b[0;34m=\u001b[0m\u001b[0;32mTrue\u001b[0m\u001b[0;34m,\u001b[0m \u001b[0mrestart_if_needed\u001b[0m\u001b[0;34m=\u001b[0m\u001b[0;32mFalse\u001b[0m\u001b[0;34m)\u001b[0m\u001b[0;34m:\u001b[0m\u001b[0;34m\u001b[0m\u001b[0;34m\u001b[0m\u001b[0m\n\u001b[0;32m--> 607\u001b[0;31m         s = Expect._eval_line(self, line,\n\u001b[0m\u001b[1;32m    608\u001b[0m              allow_use_file=allow_use_file, wait_for_prompt=wait_for_prompt)\n\u001b[1;32m    609\u001b[0m         \u001b[0;32mreturn\u001b[0m \u001b[0mstr\u001b[0m\u001b[0;34m(\u001b[0m\u001b[0ms\u001b[0m\u001b[0;34m)\u001b[0m\u001b[0;34m.\u001b[0m\u001b[0mstrip\u001b[0m\u001b[0;34m(\u001b[0m\u001b[0;34m'\\n'\u001b[0m\u001b[0;34m)\u001b[0m\u001b[0;34m\u001b[0m\u001b[0;34m\u001b[0m\u001b[0m\n",
      "\u001b[0;32m/opt/SageMath/SageMath/local/lib/python3.9/site-packages/sage/interfaces/expect.py\u001b[0m in \u001b[0;36m_eval_line\u001b[0;34m(self, line, allow_use_file, wait_for_prompt, restart_if_needed)\u001b[0m\n\u001b[1;32m   1013\u001b[0m         \u001b[0;32mexcept\u001b[0m \u001b[0mKeyboardInterrupt\u001b[0m\u001b[0;34m:\u001b[0m\u001b[0;34m\u001b[0m\u001b[0;34m\u001b[0m\u001b[0m\n\u001b[1;32m   1014\u001b[0m             \u001b[0mself\u001b[0m\u001b[0;34m.\u001b[0m\u001b[0m_keyboard_interrupt\u001b[0m\u001b[0;34m(\u001b[0m\u001b[0;34m)\u001b[0m\u001b[0;34m\u001b[0m\u001b[0;34m\u001b[0m\u001b[0m\n\u001b[0;32m-> 1015\u001b[0;31m             \u001b[0;32mraise\u001b[0m \u001b[0mKeyboardInterrupt\u001b[0m\u001b[0;34m(\u001b[0m\u001b[0;34m\"Ctrl-c pressed while running %s\"\u001b[0m \u001b[0;34m%\u001b[0m \u001b[0mself\u001b[0m\u001b[0;34m)\u001b[0m\u001b[0;34m\u001b[0m\u001b[0;34m\u001b[0m\u001b[0m\n\u001b[0m\u001b[1;32m   1016\u001b[0m         \u001b[0;32mif\u001b[0m \u001b[0mself\u001b[0m\u001b[0;34m.\u001b[0m\u001b[0m_terminal_echo\u001b[0m\u001b[0;34m:\u001b[0m\u001b[0;34m\u001b[0m\u001b[0;34m\u001b[0m\u001b[0m\n\u001b[1;32m   1017\u001b[0m             \u001b[0mi\u001b[0m \u001b[0;34m=\u001b[0m \u001b[0mout\u001b[0m\u001b[0;34m.\u001b[0m\u001b[0mfind\u001b[0m\u001b[0;34m(\u001b[0m\u001b[0;34m\"\\n\"\u001b[0m\u001b[0;34m)\u001b[0m\u001b[0;34m\u001b[0m\u001b[0;34m\u001b[0m\u001b[0m\n",
      "\u001b[0;31mKeyboardInterrupt\u001b[0m: Ctrl-c pressed while running Mathematica"
     ]
    }
   ],
   "source": [
    "lindop = 0\n",
    "sub_bool = True\n",
    "a = eff_lind_taylor[lindop][0]\n",
    "err = t_g*a*conjugate(a)\n",
    "err = SR(str(MMA_simplify( err,full=False )).replace('Sqrt','sqrt')).simplify()\n",
    "show( symround( err ) )\n",
    "print(f'coeff:')\n",
    "show(eff_lind_coeff[lindop])"
   ]
  },
  {
   "cell_type": "code",
   "execution_count": 230,
   "id": "45c67872",
   "metadata": {},
   "outputs": [
    {
     "data": {
      "text/html": [
       "<html><script type=\"math/tex; mode=display\">\\newcommand{\\Bold}[1]{\\mathbf{#1}}\\frac{2176}{{\\left(\\frac{C^{2} {\\left(4.8i \\, C + 18. + 3.2i\\right)}}{-5.4i \\, C^{4.2} + C^{4} - \\left(20. + 3.6i\\right) \\, C^{3.2} + \\left(7.1 - 18.i\\right) \\, C^{3} + \\left(2.5 - 14.i\\right) \\, C^{2}} + \\frac{C^{2} {\\left(-4.8i \\, C + 18. - 3.2i\\right)}}{5.4i \\, C^{4.2} + C^{4} - \\left(20. - 3.6i\\right) \\, C^{3.2} + \\left(7.1 + 18.i\\right) \\, C^{3} + \\left(2.5 + 14.i\\right) \\, C^{2}} + \\frac{C {\\left(\\left(0.45 + 0.045i\\right) \\, C + 0.73 + 9.2i\\right)}}{C^{3} + \\left(5.5 + 20.i\\right) \\, C^{2} - \\left(13. - 44.i\\right) \\, C + 6.9 + 26.i} + \\frac{C {\\left(\\left(0.45 - 0.045i\\right) \\, C + 0.73 - 9.2i\\right)}}{C^{3} + \\left(5.5 - 20.i\\right) \\, C^{2} - \\left(13. + 44.i\\right) \\, C + 6.9 - 26.i} + \\frac{16.i}{C^{1.2} {\\left(\\frac{34.}{C^{0.20}} + \\frac{26.}{C^{1.2}} + 36.i\\right)}} + \\frac{16.i}{C^{1.2} {\\left(-\\frac{34.}{C^{0.20}} - \\frac{26.}{C^{1.2}} + 36.i\\right)}}\\right)} C^{1.4} {\\left(\\frac{34.}{C^{0.19}} + \\frac{26.}{C^{1.2}} + 36.i\\right)} {\\left(\\frac{34.}{C^{0.19}} + \\frac{26.}{C^{1.2}} - 36.i\\right)}}</script></html>"
      ],
      "text/latex": [
       "$$\\newcommand{\\Bold}[1]{\\mathbf{#1}}\\frac{2176}{{\\left(\\frac{C^{2} {\\left(4.8i \\, C + 18. + 3.2i\\right)}}{-5.4i \\, C^{4.2} + C^{4} - \\left(20. + 3.6i\\right) \\, C^{3.2} + \\left(7.1 - 18.i\\right) \\, C^{3} + \\left(2.5 - 14.i\\right) \\, C^{2}} + \\frac{C^{2} {\\left(-4.8i \\, C + 18. - 3.2i\\right)}}{5.4i \\, C^{4.2} + C^{4} - \\left(20. - 3.6i\\right) \\, C^{3.2} + \\left(7.1 + 18.i\\right) \\, C^{3} + \\left(2.5 + 14.i\\right) \\, C^{2}} + \\frac{C {\\left(\\left(0.45 + 0.045i\\right) \\, C + 0.73 + 9.2i\\right)}}{C^{3} + \\left(5.5 + 20.i\\right) \\, C^{2} - \\left(13. - 44.i\\right) \\, C + 6.9 + 26.i} + \\frac{C {\\left(\\left(0.45 - 0.045i\\right) \\, C + 0.73 - 9.2i\\right)}}{C^{3} + \\left(5.5 - 20.i\\right) \\, C^{2} - \\left(13. + 44.i\\right) \\, C + 6.9 - 26.i} + \\frac{16.i}{C^{1.2} {\\left(\\frac{34.}{C^{0.20}} + \\frac{26.}{C^{1.2}} + 36.i\\right)}} + \\frac{16.i}{C^{1.2} {\\left(-\\frac{34.}{C^{0.20}} - \\frac{26.}{C^{1.2}} + 36.i\\right)}}\\right)} C^{1.4} {\\left(\\frac{34.}{C^{0.19}} + \\frac{26.}{C^{1.2}} + 36.i\\right)} {\\left(\\frac{34.}{C^{0.19}} + \\frac{26.}{C^{1.2}} - 36.i\\right)}}$$"
      ],
      "text/plain": [
       "2176/((C^2*(4.8*I*C + 18. + 3.2*I)/(-5.4*I*C^4.2 + C^4 - (20. + 3.6*I)*C^3.2 + (7.1 - 18.*I)*C^3 + (2.5 - 14.*I)*C^2) + C^2*(-4.8*I*C + 18. - 3.2*I)/(5.4*I*C^4.2 + C^4 - (20. - 3.6*I)*C^3.2 + (7.1 + 18.*I)*C^3 + (2.5 + 14.*I)*C^2) + C*((0.45 + 0.045*I)*C + 0.73 + 9.2*I)/(C^3 + (5.5 + 20.*I)*C^2 - (13. - 44.*I)*C + 6.9 + 26.*I) + C*((0.45 - 0.045*I)*C + 0.73 - 9.2*I)/(C^3 + (5.5 - 20.*I)*C^2 - (13. + 44.*I)*C + 6.9 - 26.*I) + 16.*I/(C^1.2*(34./C^0.20 + 26./C^1.2 + 36.*I)) + 16.*I/(C^1.2*(-34./C^0.20 - 26./C^1.2 + 36.*I)))*C^1.4*(34./C^0.19 + 26./C^1.2 + 36.*I)*(34./C^0.19 + 26./C^1.2 - 36.*I))"
      ]
     },
     "metadata": {},
     "output_type": "display_data"
    },
    {
     "name": "stdout",
     "output_type": "stream",
     "text": [
      "coeff:\n"
     ]
    },
    {
     "data": {
      "text/html": [
       "<html><script type=\"math/tex; mode=display\">\\newcommand{\\Bold}[1]{\\mathbf{#1}}\\sqrt{\\kappa_{c}}</script></html>"
      ],
      "text/latex": [
       "$$\\newcommand{\\Bold}[1]{\\mathbf{#1}}\\sqrt{\\kappa_{c}}$$"
      ],
      "text/plain": [
       "sqrt(kappa_c)"
      ]
     },
     "metadata": {},
     "output_type": "display_data"
    }
   ],
   "source": [
    "lindop =0\n",
    "sub_bool = True\n",
    "a = eff_lind_taylor[lindop][0]\n",
    "err = t_g*a*conjugate(a)\n",
    "if sub_bool ==True:\n",
    "    err = err.subs(c=np.pi,R_f=3,Deg=np.e,DEg=np.sqrt(5),r_g=np.sqrt(3),r_f=np.sqrt(2))\n",
    "    err = symround(err)\n",
    "err = SR(str(MMA_simplify( err,full=False )).replace('Sqrt','sqrt')).simplify()\n",
    "show( symround( err ) )\n",
    "print(f'coeff:')\n",
    "show(eff_lind_coeff[lindop])"
   ]
  },
  {
   "cell_type": "code",
   "execution_count": null,
   "id": "a893cb70",
   "metadata": {},
   "outputs": [],
   "source": []
  }
 ],
 "metadata": {
  "kernelspec": {
   "display_name": "SageMath 9.3",
   "language": "sage",
   "name": "sagemath"
  },
  "language_info": {
   "codemirror_mode": {
    "name": "ipython",
    "version": 3
   },
   "file_extension": ".py",
   "mimetype": "text/x-python",
   "name": "python",
   "nbconvert_exporter": "python",
   "pygments_lexer": "ipython3",
   "version": "3.9.2"
  }
 },
 "nbformat": 4,
 "nbformat_minor": 5
}
