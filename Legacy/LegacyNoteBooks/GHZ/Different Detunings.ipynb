{
 "cells": [
  {
   "cell_type": "markdown",
   "id": "11ebbd1c",
   "metadata": {},
   "source": [
    "# Many Variables  GHZ"
   ]
  },
  {
   "cell_type": "code",
   "execution_count": 1,
   "id": "a43f3bbd",
   "metadata": {
    "scrolled": false
   },
   "outputs": [],
   "source": [
    "from system import *\n",
    "#s1 = system('o-o-x-o-',MMA=True,ManyVariables = True)\n",
    "s1 = load_object('GHZ')"
   ]
  },
  {
   "cell_type": "markdown",
   "id": "20c87d69",
   "metadata": {},
   "source": [
    "# Effective Hamiltonian Matrix obtain "
   ]
  },
  {
   "cell_type": "code",
   "execution_count": 20,
   "id": "6398d4bb",
   "metadata": {
    "scrolled": true
   },
   "outputs": [
    {
     "name": "stdout",
     "output_type": "stream",
     "text": [
      "Calculating 0 out of [0, 1, 18, 19, 48, 49, 66, 67]...\n",
      "Calculating 1 out of [0, 1, 18, 19, 48, 49, 66, 67]...\n",
      "Calculating 18 out of [0, 1, 18, 19, 48, 49, 66, 67]...\n",
      "Calculating 19 out of [0, 1, 18, 19, 48, 49, 66, 67]...\n",
      "Calculating 48 out of [0, 1, 18, 19, 48, 49, 66, 67]...\n",
      "Calculating 49 out of [0, 1, 18, 19, 48, 49, 66, 67]...\n",
      "Calculating 66 out of [0, 1, 18, 19, 48, 49, 66, 67]...\n",
      "Calculating 67 out of [0, 1, 18, 19, 48, 49, 66, 67]...\n",
      "\n",
      " H_eff in ground state subspace: \n"
     ]
    }
   ],
   "source": [
    "phi_val = np.pi/180 * 30\n",
    "n = 1/2\n",
    "\n",
    "total_indices = s1.variable_index\n",
    "\n",
    "var('De1', domain='positive')\n",
    "var('Deg1', domain='positive' , latex_name =r'{{\\Delta e}}_{{  1}}^\\gamma')\n",
    "var('De2', domain='positive')\n",
    "var('Deg2', domain='positive' , latex_name =r'{{\\Delta e}}_{{  2}}^\\gamma')\n",
    "var('De3', domain='positive')\n",
    "var('Deg3', domain='positive' , latex_name =r'{{\\Delta e}}_{{  3}}^\\gamma')    \n",
    "\n",
    "var('gamma','DE','De','g','g_f','Omega','v','gamma_f','gamma_g','phi',domain='positive')\n",
    "var('DEg', domain='positive' , latex_name =r'{{\\Delta E}}^\\gamma')\n",
    "var('kappa_c','kappa_b',domain='positive')\n",
    "var('C',domain='positive')\n",
    "var('c',domain='positive',  latex_name =r'c')\n",
    "var('r_f',domain='positive',latex_name =r'r_f')\n",
    "var('r_g',domain='positive',latex_name =r'r_g')\n",
    "var('R_f',domain='positive')#ratio  (g_f/g)^2\n",
    "eff_hamiltonian_tayl = sg.copy( s1.eff_hamiltonian.parent().zero())\n",
    "for diag in s1.pos_gs:\n",
    "    print(f'Calculating {diag} out of {s1.pos_gs}...')\n",
    "\n",
    "    b = s1.eff_hamiltonian[diag,diag]\n",
    "    b = b.subs(phi = phi_val)\n",
    "\n",
    "     \n",
    "    b = b.subs(DE = DEg*gamma)\n",
    "    \n",
    "    b = b.subs(De1 = Deg1*gamma*C^n) #sqrt C scaling!?\n",
    "    \n",
    "    b = b.subs(De2 = Deg2*gamma) #MAKE ZERO\n",
    "    b = b.subs(De3 = Deg3*gamma) #MAKE ZERO   \n",
    "    b = b.subs(g_f=g*(R_f)^(1/2))\n",
    "\n",
    "    b = b.subs(gamma_f=gamma*r_f)\n",
    "\n",
    "\n",
    "    b = b.subs(gamma_g=gamma*r_g)\n",
    "\n",
    "    b = b.subs(g = (C*gamma*kappa_c)^(1/2)) \n",
    "    \n",
    "    b = b.subs(v = (c*kappa_b*kappa_c)^(1/2) )\n",
    "\n",
    "\n",
    "    #Substitutions\n",
    "    #b = b.subs(c=np.pi,R_f=2.1,Deg=np.e,DEg=np.sqrt(5),r_g=np.sqrt(3),r_f=np.sqrt(2), phi=phi_val) \n",
    "    #b = b.subs(phi=phi_val)\n",
    "\n",
    "    #b = b._mathematica_().Factor()._sage_()\n",
    "    #b = b._mathematica_().Together()._sage_()\n",
    "\n",
    "        \n",
    "    b = SR(str(b).replace('Sqrt','sqrt'))\n",
    "\n",
    "    \n",
    "    eff_hamiltonian_tayl[diag,diag] = b  # Omega^2/gamma *\n",
    "    \n",
    "print('\\n H_eff in ground state subspace: ')\n",
    "#show(symround(eff_hamiltonian_tayl[s1.pos_gs,s1.pos_gs],digits=3))\n",
    "\n",
    "\n",
    "eff_hamiltonian_tayl = eff_hamiltonian_tayl[s1.pos_gs,s1.pos_gs] "
   ]
  },
  {
   "cell_type": "markdown",
   "id": "e60ad54c",
   "metadata": {},
   "source": [
    "# Parameter manipulation"
   ]
  },
  {
   "cell_type": "code",
   "execution_count": 31,
   "id": "d15bd585",
   "metadata": {},
   "outputs": [],
   "source": [
    "\n",
    "a = eff_hamiltonian_tayl[0,0]\n",
    "#a = symround( MMA_simplify(a,full=False) ,digits = 14)\n",
    "b = eff_hamiltonian_tayl[1,1]\n",
    "#b = symround(MMA_simplify(b,full=False),digits = 14)\n",
    "c = eff_hamiltonian_tayl[3,3]\n",
    "#c = symround(MMA_simplify(c,full=False),digits = 14)\n",
    "d = eff_hamiltonian_tayl[4,4]\n",
    "#d = symround(MMA_simplify(d,full=False),digits = 14)\n",
    "e = eff_hamiltonian_tayl[5,5]\n",
    "#e = symround(MMA_simplify(e,full=False),digits = 14)\n",
    "f = eff_hamiltonian_tayl[7,7]\n",
    "#f = symround(MMA_simplify(f,full=False),digits = 14)"
   ]
  },
  {
   "cell_type": "code",
   "execution_count": 95,
   "id": "2714dc7f",
   "metadata": {},
   "outputs": [],
   "source": [
    "#show(MMA_simplify(c))"
   ]
  },
  {
   "cell_type": "markdown",
   "id": "3c69018c",
   "metadata": {},
   "source": [
    "# Gate time"
   ]
  },
  {
   "cell_type": "code",
   "execution_count": 96,
   "id": "d737471d",
   "metadata": {},
   "outputs": [
    {
     "ename": "KeyboardInterrupt",
     "evalue": "",
     "output_type": "error",
     "traceback": [
      "\u001b[0;31m---------------------------------------------------------------------------\u001b[0m",
      "\u001b[0;31mKeyboardInterrupt\u001b[0m                         Traceback (most recent call last)",
      "\u001b[0;32m<ipython-input-96-c5525513821f>\u001b[0m in \u001b[0;36m<module>\u001b[0;34m\u001b[0m\n\u001b[1;32m      1\u001b[0m \u001b[0mdenom\u001b[0m \u001b[0;34m=\u001b[0m \u001b[0ma\u001b[0m\u001b[0;34m+\u001b[0m\u001b[0me\u001b[0m\u001b[0;34m-\u001b[0m\u001b[0mb\u001b[0m\u001b[0;34m-\u001b[0m\u001b[0md\u001b[0m\u001b[0;34m\u001b[0m\u001b[0;34m\u001b[0m\u001b[0m\n\u001b[1;32m      2\u001b[0m \u001b[0;34m\u001b[0m\u001b[0m\n\u001b[0;32m----> 3\u001b[0;31m \u001b[0mdenom\u001b[0m \u001b[0;34m=\u001b[0m \u001b[0mdenom\u001b[0m\u001b[0;34m.\u001b[0m\u001b[0m_mathematica_\u001b[0m\u001b[0;34m(\u001b[0m\u001b[0;34m)\u001b[0m\u001b[0;34m.\u001b[0m\u001b[0mTogether\u001b[0m\u001b[0;34m(\u001b[0m\u001b[0;34m)\u001b[0m\u001b[0;34m.\u001b[0m\u001b[0m_sage_\u001b[0m\u001b[0;34m(\u001b[0m\u001b[0;34m)\u001b[0m\u001b[0;34m\u001b[0m\u001b[0;34m\u001b[0m\u001b[0m\n\u001b[0m\u001b[1;32m      4\u001b[0m \u001b[0mdenom\u001b[0m \u001b[0;34m=\u001b[0m \u001b[0mSR\u001b[0m\u001b[0;34m(\u001b[0m\u001b[0mstr\u001b[0m\u001b[0;34m(\u001b[0m\u001b[0mdenom\u001b[0m\u001b[0;34m)\u001b[0m\u001b[0;34m.\u001b[0m\u001b[0mreplace\u001b[0m\u001b[0;34m(\u001b[0m\u001b[0;34m'Sqrt'\u001b[0m\u001b[0;34m,\u001b[0m\u001b[0;34m'sqrt'\u001b[0m\u001b[0;34m)\u001b[0m\u001b[0;34m)\u001b[0m\u001b[0;34m\u001b[0m\u001b[0;34m\u001b[0m\u001b[0m\n\u001b[1;32m      5\u001b[0m \u001b[0mt_g\u001b[0m \u001b[0;34m=\u001b[0m \u001b[0mInteger\u001b[0m\u001b[0;34m(\u001b[0m\u001b[0;36m3\u001b[0m\u001b[0;34m)\u001b[0m\u001b[0;34m*\u001b[0m\u001b[0mnp\u001b[0m\u001b[0;34m.\u001b[0m\u001b[0mpi\u001b[0m\u001b[0;34m/\u001b[0m\u001b[0mdenom\u001b[0m\u001b[0;34m\u001b[0m\u001b[0;34m\u001b[0m\u001b[0m\n",
      "\u001b[0;32m/opt/SageMath/SageMath/local/lib/python3.9/site-packages/sage/interfaces/mathematica.py\u001b[0m in \u001b[0;36m_sage_\u001b[0;34m(self, locals)\u001b[0m\n\u001b[1;32m    879\u001b[0m             \u001b[0;31m# symbolic_expression_from_string will automatically create it\u001b[0m\u001b[0;34m\u001b[0m\u001b[0;34m\u001b[0m\u001b[0;34m\u001b[0m\u001b[0m\n\u001b[1;32m    880\u001b[0m         \u001b[0;32mtry\u001b[0m\u001b[0;34m:\u001b[0m\u001b[0;34m\u001b[0m\u001b[0;34m\u001b[0m\u001b[0m\n\u001b[0;32m--> 881\u001b[0;31m             return symbolic_expression_from_string(res, lsymbols,\n\u001b[0m\u001b[1;32m    882\u001b[0m                 accept_sequence=True)\n\u001b[1;32m    883\u001b[0m         \u001b[0;32mexcept\u001b[0m \u001b[0mException\u001b[0m\u001b[0;34m:\u001b[0m\u001b[0;34m\u001b[0m\u001b[0;34m\u001b[0m\u001b[0m\n",
      "\u001b[0;32m/opt/SageMath/SageMath/local/lib/python3.9/site-packages/sage/calculus/calculus.py\u001b[0m in \u001b[0;36msymbolic_expression_from_string\u001b[0;34m(s, syms, accept_sequence)\u001b[0m\n\u001b[1;32m   2406\u001b[0m     parser_make_function.set_names({k: v for k, v in syms.items()\n\u001b[1;32m   2407\u001b[0m                                     if isinstance(v,Function)})\n\u001b[0;32m-> 2408\u001b[0;31m     \u001b[0;32mreturn\u001b[0m \u001b[0mparse_func\u001b[0m\u001b[0;34m(\u001b[0m\u001b[0ms\u001b[0m\u001b[0;34m)\u001b[0m\u001b[0;34m\u001b[0m\u001b[0;34m\u001b[0m\u001b[0m\n\u001b[0m\u001b[1;32m   2409\u001b[0m \u001b[0;34m\u001b[0m\u001b[0m\n\u001b[1;32m   2410\u001b[0m \u001b[0;34m\u001b[0m\u001b[0m\n",
      "\u001b[0;32m/opt/SageMath/SageMath/local/lib/python3.9/site-packages/sage/misc/parser.pyx\u001b[0m in \u001b[0;36msage.misc.parser.Parser.parse_sequence (build/cythonized/sage/misc/parser.c:5831)\u001b[0;34m()\u001b[0m\n\u001b[1;32m    548\u001b[0m         \u001b[0;32mreturn\u001b[0m \u001b[0mexpr\u001b[0m\u001b[0;34m\u001b[0m\u001b[0;34m\u001b[0m\u001b[0m\n\u001b[1;32m    549\u001b[0m \u001b[0;34m\u001b[0m\u001b[0m\n\u001b[0;32m--> 550\u001b[0;31m     \u001b[0mcpdef\u001b[0m \u001b[0mparse_sequence\u001b[0m\u001b[0;34m(\u001b[0m\u001b[0mself\u001b[0m\u001b[0;34m,\u001b[0m \u001b[0ms\u001b[0m\u001b[0;34m)\u001b[0m\u001b[0;34m:\u001b[0m\u001b[0;34m\u001b[0m\u001b[0;34m\u001b[0m\u001b[0m\n\u001b[0m\u001b[1;32m    551\u001b[0m         \"\"\"\n\u001b[1;32m    552\u001b[0m         \u001b[0mParse\u001b[0m \u001b[0ma\u001b[0m \u001b[0;34m(\u001b[0m\u001b[0mpossibly\u001b[0m \u001b[0mnested\u001b[0m\u001b[0;34m)\u001b[0m \u001b[0mset\u001b[0m \u001b[0mof\u001b[0m \u001b[0mlists\u001b[0m \u001b[0;32mand\u001b[0m \u001b[0mtuples\u001b[0m\u001b[0;34m.\u001b[0m\u001b[0;34m\u001b[0m\u001b[0;34m\u001b[0m\u001b[0m\n",
      "\u001b[0;32m/opt/SageMath/SageMath/local/lib/python3.9/site-packages/sage/misc/parser.pyx\u001b[0m in \u001b[0;36msage.misc.parser.Parser.parse_sequence (build/cythonized/sage/misc/parser.c:5696)\u001b[0;34m()\u001b[0m\n\u001b[1;32m    564\u001b[0m         \"\"\"\n\u001b[1;32m    565\u001b[0m         \u001b[0mcdef\u001b[0m \u001b[0mTokenizer\u001b[0m \u001b[0mtokens\u001b[0m \u001b[0;34m=\u001b[0m \u001b[0mTokenizer\u001b[0m\u001b[0;34m(\u001b[0m\u001b[0ms\u001b[0m\u001b[0;34m)\u001b[0m\u001b[0;34m\u001b[0m\u001b[0;34m\u001b[0m\u001b[0m\n\u001b[0;32m--> 566\u001b[0;31m         \u001b[0mall\u001b[0m \u001b[0;34m=\u001b[0m \u001b[0mself\u001b[0m\u001b[0;34m.\u001b[0m\u001b[0mp_sequence\u001b[0m\u001b[0;34m(\u001b[0m\u001b[0mtokens\u001b[0m\u001b[0;34m)\u001b[0m\u001b[0;34m\u001b[0m\u001b[0;34m\u001b[0m\u001b[0m\n\u001b[0m\u001b[1;32m    567\u001b[0m         \u001b[0;32mif\u001b[0m \u001b[0mtokens\u001b[0m\u001b[0;34m.\u001b[0m\u001b[0mnext\u001b[0m\u001b[0;34m(\u001b[0m\u001b[0;34m)\u001b[0m \u001b[0;34m!=\u001b[0m \u001b[0mEOS\u001b[0m\u001b[0;34m:\u001b[0m\u001b[0;34m\u001b[0m\u001b[0;34m\u001b[0m\u001b[0m\n\u001b[1;32m    568\u001b[0m             \u001b[0mself\u001b[0m\u001b[0;34m.\u001b[0m\u001b[0mparse_error\u001b[0m\u001b[0;34m(\u001b[0m\u001b[0mtokens\u001b[0m\u001b[0;34m)\u001b[0m\u001b[0;34m\u001b[0m\u001b[0;34m\u001b[0m\u001b[0m\n",
      "\u001b[0;32m/opt/SageMath/SageMath/local/lib/python3.9/site-packages/sage/misc/parser.pyx\u001b[0m in \u001b[0;36msage.misc.parser.Parser.p_sequence (build/cythonized/sage/misc/parser.c:6444)\u001b[0;34m()\u001b[0m\n\u001b[1;32m    630\u001b[0m                 \u001b[0mobj\u001b[0m \u001b[0;34m=\u001b[0m \u001b[0mself\u001b[0m\u001b[0;34m.\u001b[0m\u001b[0mp_list\u001b[0m\u001b[0;34m(\u001b[0m\u001b[0mtokens\u001b[0m\u001b[0;34m)\u001b[0m\u001b[0;34m\u001b[0m\u001b[0;34m\u001b[0m\u001b[0m\n\u001b[1;32m    631\u001b[0m             \u001b[0;32melif\u001b[0m \u001b[0mtoken\u001b[0m \u001b[0;34m==\u001b[0m \u001b[0;34m'('\u001b[0m\u001b[0;34m:\u001b[0m\u001b[0;34m\u001b[0m\u001b[0;34m\u001b[0m\u001b[0m\n\u001b[0;32m--> 632\u001b[0;31m                 \u001b[0mobj\u001b[0m \u001b[0;34m=\u001b[0m \u001b[0mself\u001b[0m\u001b[0;34m.\u001b[0m\u001b[0mp_tuple\u001b[0m\u001b[0;34m(\u001b[0m\u001b[0mtokens\u001b[0m\u001b[0;34m)\u001b[0m\u001b[0;34m\u001b[0m\u001b[0;34m\u001b[0m\u001b[0m\n\u001b[0m\u001b[1;32m    633\u001b[0m             \u001b[0;32melif\u001b[0m \u001b[0mtoken\u001b[0m \u001b[0;34m==\u001b[0m \u001b[0mEOS\u001b[0m\u001b[0;34m:\u001b[0m\u001b[0;34m\u001b[0m\u001b[0;34m\u001b[0m\u001b[0m\n\u001b[1;32m    634\u001b[0m                 \u001b[0;32mreturn\u001b[0m \u001b[0mall\u001b[0m\u001b[0;34m\u001b[0m\u001b[0;34m\u001b[0m\u001b[0m\n",
      "\u001b[0;32m/opt/SageMath/SageMath/local/lib/python3.9/site-packages/sage/misc/parser.pyx\u001b[0m in \u001b[0;36msage.misc.parser.Parser.p_tuple (build/cythonized/sage/misc/parser.c:7231)\u001b[0;34m()\u001b[0m\n\u001b[1;32m    698\u001b[0m                 \u001b[0;31m# we have to reparse the entire thing as an expression\u001b[0m\u001b[0;34m\u001b[0m\u001b[0;34m\u001b[0m\u001b[0;34m\u001b[0m\u001b[0m\n\u001b[1;32m    699\u001b[0m                 \u001b[0mtokens\u001b[0m\u001b[0;34m.\u001b[0m\u001b[0mreset\u001b[0m\u001b[0;34m(\u001b[0m\u001b[0mstart\u001b[0m\u001b[0;34m)\u001b[0m\u001b[0;34m\u001b[0m\u001b[0;34m\u001b[0m\u001b[0m\n\u001b[0;32m--> 700\u001b[0;31m                 \u001b[0;32mreturn\u001b[0m \u001b[0mself\u001b[0m\u001b[0;34m.\u001b[0m\u001b[0mp_eqn\u001b[0m\u001b[0;34m(\u001b[0m\u001b[0mtokens\u001b[0m\u001b[0;34m)\u001b[0m\u001b[0;34m\u001b[0m\u001b[0;34m\u001b[0m\u001b[0m\n\u001b[0m\u001b[1;32m    701\u001b[0m \u001b[0;34m\u001b[0m\u001b[0m\n\u001b[1;32m    702\u001b[0m \u001b[0;31m# eqn ::= expr op expr | expr\u001b[0m\u001b[0;34m\u001b[0m\u001b[0;34m\u001b[0m\u001b[0;34m\u001b[0m\u001b[0m\n",
      "\u001b[0;32m/opt/SageMath/SageMath/local/lib/python3.9/site-packages/sage/misc/parser.pyx\u001b[0m in \u001b[0;36msage.misc.parser.Parser.p_eqn (build/cythonized/sage/misc/parser.c:7388)\u001b[0;34m()\u001b[0m\n\u001b[1;32m    727\u001b[0m             \u001b[0ma\u001b[0m \u001b[0;34m!=\u001b[0m \u001b[0mb\u001b[0m\u001b[0;34m\u001b[0m\u001b[0;34m\u001b[0m\u001b[0m\n\u001b[1;32m    728\u001b[0m         \"\"\"\n\u001b[0;32m--> 729\u001b[0;31m         \u001b[0mlhs\u001b[0m \u001b[0;34m=\u001b[0m \u001b[0mself\u001b[0m\u001b[0;34m.\u001b[0m\u001b[0mp_expr\u001b[0m\u001b[0;34m(\u001b[0m\u001b[0mtokens\u001b[0m\u001b[0;34m)\u001b[0m\u001b[0;34m\u001b[0m\u001b[0;34m\u001b[0m\u001b[0m\n\u001b[0m\u001b[1;32m    730\u001b[0m         \u001b[0mcdef\u001b[0m \u001b[0mint\u001b[0m \u001b[0mop\u001b[0m \u001b[0;34m=\u001b[0m \u001b[0mtokens\u001b[0m\u001b[0;34m.\u001b[0m\u001b[0mnext\u001b[0m\u001b[0;34m(\u001b[0m\u001b[0;34m)\u001b[0m\u001b[0;34m\u001b[0m\u001b[0;34m\u001b[0m\u001b[0m\n\u001b[1;32m    731\u001b[0m         \u001b[0;32mif\u001b[0m \u001b[0mop\u001b[0m \u001b[0;34m==\u001b[0m \u001b[0;34m'='\u001b[0m\u001b[0;34m:\u001b[0m\u001b[0;34m\u001b[0m\u001b[0;34m\u001b[0m\u001b[0m\n",
      "\u001b[0;32m/opt/SageMath/SageMath/local/lib/python3.9/site-packages/sage/misc/parser.pyx\u001b[0m in \u001b[0;36msage.misc.parser.Parser.p_expr (build/cythonized/sage/misc/parser.c:7740)\u001b[0;34m()\u001b[0m\n\u001b[1;32m    767\u001b[0m         \u001b[0;31m# Note: this is left-recursive, so we can't just recurse\u001b[0m\u001b[0;34m\u001b[0m\u001b[0;34m\u001b[0m\u001b[0;34m\u001b[0m\u001b[0m\n\u001b[1;32m    768\u001b[0m         \u001b[0mcdef\u001b[0m \u001b[0mint\u001b[0m \u001b[0mop\u001b[0m\u001b[0;34m\u001b[0m\u001b[0;34m\u001b[0m\u001b[0m\n\u001b[0;32m--> 769\u001b[0;31m         \u001b[0moperand1\u001b[0m \u001b[0;34m=\u001b[0m \u001b[0mself\u001b[0m\u001b[0;34m.\u001b[0m\u001b[0mp_term\u001b[0m\u001b[0;34m(\u001b[0m\u001b[0mtokens\u001b[0m\u001b[0;34m)\u001b[0m\u001b[0;34m\u001b[0m\u001b[0;34m\u001b[0m\u001b[0m\n\u001b[0m\u001b[1;32m    770\u001b[0m         \u001b[0mop\u001b[0m \u001b[0;34m=\u001b[0m \u001b[0mtokens\u001b[0m\u001b[0;34m.\u001b[0m\u001b[0mnext\u001b[0m\u001b[0;34m(\u001b[0m\u001b[0;34m)\u001b[0m\u001b[0;34m\u001b[0m\u001b[0;34m\u001b[0m\u001b[0m\n\u001b[1;32m    771\u001b[0m         \u001b[0;32mwhile\u001b[0m \u001b[0mop\u001b[0m \u001b[0;34m==\u001b[0m \u001b[0;34m'+'\u001b[0m \u001b[0;32mor\u001b[0m \u001b[0mop\u001b[0m \u001b[0;34m==\u001b[0m \u001b[0;34m'-'\u001b[0m\u001b[0;34m:\u001b[0m\u001b[0;34m\u001b[0m\u001b[0;34m\u001b[0m\u001b[0m\n",
      "\u001b[0;32m/opt/SageMath/SageMath/local/lib/python3.9/site-packages/sage/misc/parser.pyx\u001b[0m in \u001b[0;36msage.misc.parser.Parser.p_term (build/cythonized/sage/misc/parser.c:8014)\u001b[0;34m()\u001b[0m\n\u001b[1;32m    801\u001b[0m         \u001b[0;31m# Note: this is left-recursive, so we can't just recurse\u001b[0m\u001b[0;34m\u001b[0m\u001b[0;34m\u001b[0m\u001b[0;34m\u001b[0m\u001b[0m\n\u001b[1;32m    802\u001b[0m         \u001b[0mcdef\u001b[0m \u001b[0mint\u001b[0m \u001b[0mop\u001b[0m\u001b[0;34m\u001b[0m\u001b[0;34m\u001b[0m\u001b[0m\n\u001b[0;32m--> 803\u001b[0;31m         \u001b[0moperand1\u001b[0m \u001b[0;34m=\u001b[0m \u001b[0mself\u001b[0m\u001b[0;34m.\u001b[0m\u001b[0mp_factor\u001b[0m\u001b[0;34m(\u001b[0m\u001b[0mtokens\u001b[0m\u001b[0;34m)\u001b[0m\u001b[0;34m\u001b[0m\u001b[0;34m\u001b[0m\u001b[0m\n\u001b[0m\u001b[1;32m    804\u001b[0m         \u001b[0mop\u001b[0m \u001b[0;34m=\u001b[0m \u001b[0mtokens\u001b[0m\u001b[0;34m.\u001b[0m\u001b[0mnext\u001b[0m\u001b[0;34m(\u001b[0m\u001b[0;34m)\u001b[0m\u001b[0;34m\u001b[0m\u001b[0;34m\u001b[0m\u001b[0m\n\u001b[1;32m    805\u001b[0m         \u001b[0;32mif\u001b[0m \u001b[0mop\u001b[0m \u001b[0;34m==\u001b[0m \u001b[0mNAME\u001b[0m \u001b[0;32mand\u001b[0m \u001b[0mself\u001b[0m\u001b[0;34m.\u001b[0m\u001b[0mimplicit_multiplication\u001b[0m\u001b[0;34m:\u001b[0m\u001b[0;34m\u001b[0m\u001b[0;34m\u001b[0m\u001b[0m\n",
      "\u001b[0;32m/opt/SageMath/SageMath/local/lib/python3.9/site-packages/sage/misc/parser.pyx\u001b[0m in \u001b[0;36msage.misc.parser.Parser.p_factor (build/cythonized/sage/misc/parser.c:8455)\u001b[0;34m()\u001b[0m\n\u001b[1;32m    844\u001b[0m         \u001b[0;32melse\u001b[0m\u001b[0;34m:\u001b[0m\u001b[0;34m\u001b[0m\u001b[0;34m\u001b[0m\u001b[0m\n\u001b[1;32m    845\u001b[0m             \u001b[0mtokens\u001b[0m\u001b[0;34m.\u001b[0m\u001b[0mbacktrack\u001b[0m\u001b[0;34m(\u001b[0m\u001b[0;34m)\u001b[0m\u001b[0;34m\u001b[0m\u001b[0;34m\u001b[0m\u001b[0m\n\u001b[0;32m--> 846\u001b[0;31m             \u001b[0;32mreturn\u001b[0m \u001b[0mself\u001b[0m\u001b[0;34m.\u001b[0m\u001b[0mp_power\u001b[0m\u001b[0;34m(\u001b[0m\u001b[0mtokens\u001b[0m\u001b[0;34m)\u001b[0m\u001b[0;34m\u001b[0m\u001b[0;34m\u001b[0m\u001b[0m\n\u001b[0m\u001b[1;32m    847\u001b[0m \u001b[0;34m\u001b[0m\u001b[0m\n\u001b[1;32m    848\u001b[0m \u001b[0;31m# power ::=  (atom | atom!) ^ factor | atom | atom!\u001b[0m\u001b[0;34m\u001b[0m\u001b[0;34m\u001b[0m\u001b[0;34m\u001b[0m\u001b[0m\n",
      "\u001b[0;32m/opt/SageMath/SageMath/local/lib/python3.9/site-packages/sage/misc/parser.pyx\u001b[0m in \u001b[0;36msage.misc.parser.Parser.p_power (build/cythonized/sage/misc/parser.c:8612)\u001b[0;34m()\u001b[0m\n\u001b[1;32m    872\u001b[0m \u001b[0;34m\u001b[0m\u001b[0m\n\u001b[1;32m    873\u001b[0m         \"\"\"\n\u001b[0;32m--> 874\u001b[0;31m         \u001b[0moperand1\u001b[0m \u001b[0;34m=\u001b[0m \u001b[0mself\u001b[0m\u001b[0;34m.\u001b[0m\u001b[0mp_atom\u001b[0m\u001b[0;34m(\u001b[0m\u001b[0mtokens\u001b[0m\u001b[0;34m)\u001b[0m\u001b[0;34m\u001b[0m\u001b[0;34m\u001b[0m\u001b[0m\n\u001b[0m\u001b[1;32m    875\u001b[0m         \u001b[0mcdef\u001b[0m \u001b[0mint\u001b[0m \u001b[0mtoken\u001b[0m \u001b[0;34m=\u001b[0m \u001b[0mtokens\u001b[0m\u001b[0;34m.\u001b[0m\u001b[0mnext\u001b[0m\u001b[0;34m(\u001b[0m\u001b[0;34m)\u001b[0m\u001b[0;34m\u001b[0m\u001b[0;34m\u001b[0m\u001b[0m\n\u001b[1;32m    876\u001b[0m         \u001b[0;32mif\u001b[0m \u001b[0mtoken\u001b[0m \u001b[0;34m==\u001b[0m \u001b[0;34m'^'\u001b[0m\u001b[0;34m:\u001b[0m\u001b[0;34m\u001b[0m\u001b[0;34m\u001b[0m\u001b[0m\n",
      "\u001b[0;32m/opt/SageMath/SageMath/local/lib/python3.9/site-packages/sage/misc/parser.pyx\u001b[0m in \u001b[0;36msage.misc.parser.Parser.p_atom (build/cythonized/sage/misc/parser.c:9323)\u001b[0;34m()\u001b[0m\n\u001b[1;32m    936\u001b[0m                 \u001b[0;32mreturn\u001b[0m \u001b[0mself\u001b[0m\u001b[0;34m.\u001b[0m\u001b[0mvariable_constructor\u001b[0m\u001b[0;34m(\u001b[0m\u001b[0mname\u001b[0m\u001b[0;34m)\u001b[0m\u001b[0;34m\u001b[0m\u001b[0;34m\u001b[0m\u001b[0m\n\u001b[1;32m    937\u001b[0m         \u001b[0;32melif\u001b[0m \u001b[0mtoken\u001b[0m \u001b[0;34m==\u001b[0m \u001b[0;34m'('\u001b[0m\u001b[0;34m:\u001b[0m\u001b[0;34m\u001b[0m\u001b[0;34m\u001b[0m\u001b[0m\n\u001b[0;32m--> 938\u001b[0;31m             \u001b[0mexpr\u001b[0m \u001b[0;34m=\u001b[0m \u001b[0mself\u001b[0m\u001b[0;34m.\u001b[0m\u001b[0mp_expr\u001b[0m\u001b[0;34m(\u001b[0m\u001b[0mtokens\u001b[0m\u001b[0;34m)\u001b[0m\u001b[0;34m\u001b[0m\u001b[0;34m\u001b[0m\u001b[0m\n\u001b[0m\u001b[1;32m    939\u001b[0m             \u001b[0mtoken\u001b[0m \u001b[0;34m=\u001b[0m \u001b[0mtokens\u001b[0m\u001b[0;34m.\u001b[0m\u001b[0mnext\u001b[0m\u001b[0;34m(\u001b[0m\u001b[0;34m)\u001b[0m\u001b[0;34m\u001b[0m\u001b[0;34m\u001b[0m\u001b[0m\n\u001b[1;32m    940\u001b[0m             \u001b[0;32mif\u001b[0m \u001b[0mtoken\u001b[0m \u001b[0;34m!=\u001b[0m \u001b[0;34m')'\u001b[0m\u001b[0;34m:\u001b[0m\u001b[0;34m\u001b[0m\u001b[0;34m\u001b[0m\u001b[0m\n",
      "\u001b[0;32m/opt/SageMath/SageMath/local/lib/python3.9/site-packages/sage/misc/parser.pyx\u001b[0m in \u001b[0;36msage.misc.parser.Parser.p_expr (build/cythonized/sage/misc/parser.c:7740)\u001b[0;34m()\u001b[0m\n\u001b[1;32m    767\u001b[0m         \u001b[0;31m# Note: this is left-recursive, so we can't just recurse\u001b[0m\u001b[0;34m\u001b[0m\u001b[0;34m\u001b[0m\u001b[0;34m\u001b[0m\u001b[0m\n\u001b[1;32m    768\u001b[0m         \u001b[0mcdef\u001b[0m \u001b[0mint\u001b[0m \u001b[0mop\u001b[0m\u001b[0;34m\u001b[0m\u001b[0;34m\u001b[0m\u001b[0m\n\u001b[0;32m--> 769\u001b[0;31m         \u001b[0moperand1\u001b[0m \u001b[0;34m=\u001b[0m \u001b[0mself\u001b[0m\u001b[0;34m.\u001b[0m\u001b[0mp_term\u001b[0m\u001b[0;34m(\u001b[0m\u001b[0mtokens\u001b[0m\u001b[0;34m)\u001b[0m\u001b[0;34m\u001b[0m\u001b[0;34m\u001b[0m\u001b[0m\n\u001b[0m\u001b[1;32m    770\u001b[0m         \u001b[0mop\u001b[0m \u001b[0;34m=\u001b[0m \u001b[0mtokens\u001b[0m\u001b[0;34m.\u001b[0m\u001b[0mnext\u001b[0m\u001b[0;34m(\u001b[0m\u001b[0;34m)\u001b[0m\u001b[0;34m\u001b[0m\u001b[0;34m\u001b[0m\u001b[0m\n\u001b[1;32m    771\u001b[0m         \u001b[0;32mwhile\u001b[0m \u001b[0mop\u001b[0m \u001b[0;34m==\u001b[0m \u001b[0;34m'+'\u001b[0m \u001b[0;32mor\u001b[0m \u001b[0mop\u001b[0m \u001b[0;34m==\u001b[0m \u001b[0;34m'-'\u001b[0m\u001b[0;34m:\u001b[0m\u001b[0;34m\u001b[0m\u001b[0;34m\u001b[0m\u001b[0m\n",
      "\u001b[0;32m/opt/SageMath/SageMath/local/lib/python3.9/site-packages/sage/misc/parser.pyx\u001b[0m in \u001b[0;36msage.misc.parser.Parser.p_term (build/cythonized/sage/misc/parser.c:8099)\u001b[0;34m()\u001b[0m\n\u001b[1;32m    807\u001b[0m             \u001b[0mtokens\u001b[0m\u001b[0;34m.\u001b[0m\u001b[0mbacktrack\u001b[0m\u001b[0;34m(\u001b[0m\u001b[0;34m)\u001b[0m\u001b[0;34m\u001b[0m\u001b[0;34m\u001b[0m\u001b[0m\n\u001b[1;32m    808\u001b[0m         \u001b[0;32mwhile\u001b[0m \u001b[0mop\u001b[0m \u001b[0;34m==\u001b[0m \u001b[0;34m'*'\u001b[0m \u001b[0;32mor\u001b[0m \u001b[0mop\u001b[0m \u001b[0;34m==\u001b[0m \u001b[0;34m'/'\u001b[0m\u001b[0;34m:\u001b[0m\u001b[0;34m\u001b[0m\u001b[0;34m\u001b[0m\u001b[0m\n\u001b[0;32m--> 809\u001b[0;31m             \u001b[0moperand2\u001b[0m \u001b[0;34m=\u001b[0m \u001b[0mself\u001b[0m\u001b[0;34m.\u001b[0m\u001b[0mp_factor\u001b[0m\u001b[0;34m(\u001b[0m\u001b[0mtokens\u001b[0m\u001b[0;34m)\u001b[0m\u001b[0;34m\u001b[0m\u001b[0;34m\u001b[0m\u001b[0m\n\u001b[0m\u001b[1;32m    810\u001b[0m             \u001b[0;32mif\u001b[0m \u001b[0mop\u001b[0m \u001b[0;34m==\u001b[0m \u001b[0;34m'*'\u001b[0m\u001b[0;34m:\u001b[0m\u001b[0;34m\u001b[0m\u001b[0;34m\u001b[0m\u001b[0m\n\u001b[1;32m    811\u001b[0m                 \u001b[0moperand1\u001b[0m \u001b[0;34m=\u001b[0m \u001b[0moperand1\u001b[0m \u001b[0;34m*\u001b[0m \u001b[0moperand2\u001b[0m\u001b[0;34m\u001b[0m\u001b[0;34m\u001b[0m\u001b[0m\n",
      "\u001b[0;32m/opt/SageMath/SageMath/local/lib/python3.9/site-packages/sage/misc/parser.pyx\u001b[0m in \u001b[0;36msage.misc.parser.Parser.p_factor (build/cythonized/sage/misc/parser.c:8455)\u001b[0;34m()\u001b[0m\n\u001b[1;32m    844\u001b[0m         \u001b[0;32melse\u001b[0m\u001b[0;34m:\u001b[0m\u001b[0;34m\u001b[0m\u001b[0;34m\u001b[0m\u001b[0m\n\u001b[1;32m    845\u001b[0m             \u001b[0mtokens\u001b[0m\u001b[0;34m.\u001b[0m\u001b[0mbacktrack\u001b[0m\u001b[0;34m(\u001b[0m\u001b[0;34m)\u001b[0m\u001b[0;34m\u001b[0m\u001b[0;34m\u001b[0m\u001b[0m\n\u001b[0;32m--> 846\u001b[0;31m             \u001b[0;32mreturn\u001b[0m \u001b[0mself\u001b[0m\u001b[0;34m.\u001b[0m\u001b[0mp_power\u001b[0m\u001b[0;34m(\u001b[0m\u001b[0mtokens\u001b[0m\u001b[0;34m)\u001b[0m\u001b[0;34m\u001b[0m\u001b[0;34m\u001b[0m\u001b[0m\n\u001b[0m\u001b[1;32m    847\u001b[0m \u001b[0;34m\u001b[0m\u001b[0m\n\u001b[1;32m    848\u001b[0m \u001b[0;31m# power ::=  (atom | atom!) ^ factor | atom | atom!\u001b[0m\u001b[0;34m\u001b[0m\u001b[0;34m\u001b[0m\u001b[0;34m\u001b[0m\u001b[0m\n",
      "\u001b[0;32m/opt/SageMath/SageMath/local/lib/python3.9/site-packages/sage/misc/parser.pyx\u001b[0m in \u001b[0;36msage.misc.parser.Parser.p_power (build/cythonized/sage/misc/parser.c:8612)\u001b[0;34m()\u001b[0m\n\u001b[1;32m    872\u001b[0m \u001b[0;34m\u001b[0m\u001b[0m\n\u001b[1;32m    873\u001b[0m         \"\"\"\n\u001b[0;32m--> 874\u001b[0;31m         \u001b[0moperand1\u001b[0m \u001b[0;34m=\u001b[0m \u001b[0mself\u001b[0m\u001b[0;34m.\u001b[0m\u001b[0mp_atom\u001b[0m\u001b[0;34m(\u001b[0m\u001b[0mtokens\u001b[0m\u001b[0;34m)\u001b[0m\u001b[0;34m\u001b[0m\u001b[0;34m\u001b[0m\u001b[0m\n\u001b[0m\u001b[1;32m    875\u001b[0m         \u001b[0mcdef\u001b[0m \u001b[0mint\u001b[0m \u001b[0mtoken\u001b[0m \u001b[0;34m=\u001b[0m \u001b[0mtokens\u001b[0m\u001b[0;34m.\u001b[0m\u001b[0mnext\u001b[0m\u001b[0;34m(\u001b[0m\u001b[0;34m)\u001b[0m\u001b[0;34m\u001b[0m\u001b[0;34m\u001b[0m\u001b[0m\n\u001b[1;32m    876\u001b[0m         \u001b[0;32mif\u001b[0m \u001b[0mtoken\u001b[0m \u001b[0;34m==\u001b[0m \u001b[0;34m'^'\u001b[0m\u001b[0;34m:\u001b[0m\u001b[0;34m\u001b[0m\u001b[0;34m\u001b[0m\u001b[0m\n",
      "\u001b[0;32m/opt/SageMath/SageMath/local/lib/python3.9/site-packages/sage/misc/parser.pyx\u001b[0m in \u001b[0;36msage.misc.parser.Parser.p_atom (build/cythonized/sage/misc/parser.c:9323)\u001b[0;34m()\u001b[0m\n\u001b[1;32m    936\u001b[0m                 \u001b[0;32mreturn\u001b[0m \u001b[0mself\u001b[0m\u001b[0;34m.\u001b[0m\u001b[0mvariable_constructor\u001b[0m\u001b[0;34m(\u001b[0m\u001b[0mname\u001b[0m\u001b[0;34m)\u001b[0m\u001b[0;34m\u001b[0m\u001b[0;34m\u001b[0m\u001b[0m\n\u001b[1;32m    937\u001b[0m         \u001b[0;32melif\u001b[0m \u001b[0mtoken\u001b[0m \u001b[0;34m==\u001b[0m \u001b[0;34m'('\u001b[0m\u001b[0;34m:\u001b[0m\u001b[0;34m\u001b[0m\u001b[0;34m\u001b[0m\u001b[0m\n\u001b[0;32m--> 938\u001b[0;31m             \u001b[0mexpr\u001b[0m \u001b[0;34m=\u001b[0m \u001b[0mself\u001b[0m\u001b[0;34m.\u001b[0m\u001b[0mp_expr\u001b[0m\u001b[0;34m(\u001b[0m\u001b[0mtokens\u001b[0m\u001b[0;34m)\u001b[0m\u001b[0;34m\u001b[0m\u001b[0;34m\u001b[0m\u001b[0m\n\u001b[0m\u001b[1;32m    939\u001b[0m             \u001b[0mtoken\u001b[0m \u001b[0;34m=\u001b[0m \u001b[0mtokens\u001b[0m\u001b[0;34m.\u001b[0m\u001b[0mnext\u001b[0m\u001b[0;34m(\u001b[0m\u001b[0;34m)\u001b[0m\u001b[0;34m\u001b[0m\u001b[0;34m\u001b[0m\u001b[0m\n\u001b[1;32m    940\u001b[0m             \u001b[0;32mif\u001b[0m \u001b[0mtoken\u001b[0m \u001b[0;34m!=\u001b[0m \u001b[0;34m')'\u001b[0m\u001b[0;34m:\u001b[0m\u001b[0;34m\u001b[0m\u001b[0;34m\u001b[0m\u001b[0m\n",
      "\u001b[0;32m/opt/SageMath/SageMath/local/lib/python3.9/site-packages/sage/misc/parser.pyx\u001b[0m in \u001b[0;36msage.misc.parser.Parser.p_expr (build/cythonized/sage/misc/parser.c:7780)\u001b[0;34m()\u001b[0m\n\u001b[1;32m    770\u001b[0m         \u001b[0mop\u001b[0m \u001b[0;34m=\u001b[0m \u001b[0mtokens\u001b[0m\u001b[0;34m.\u001b[0m\u001b[0mnext\u001b[0m\u001b[0;34m(\u001b[0m\u001b[0;34m)\u001b[0m\u001b[0;34m\u001b[0m\u001b[0;34m\u001b[0m\u001b[0m\n\u001b[1;32m    771\u001b[0m         \u001b[0;32mwhile\u001b[0m \u001b[0mop\u001b[0m \u001b[0;34m==\u001b[0m \u001b[0;34m'+'\u001b[0m \u001b[0;32mor\u001b[0m \u001b[0mop\u001b[0m \u001b[0;34m==\u001b[0m \u001b[0;34m'-'\u001b[0m\u001b[0;34m:\u001b[0m\u001b[0;34m\u001b[0m\u001b[0;34m\u001b[0m\u001b[0m\n\u001b[0;32m--> 772\u001b[0;31m             \u001b[0moperand2\u001b[0m \u001b[0;34m=\u001b[0m \u001b[0mself\u001b[0m\u001b[0;34m.\u001b[0m\u001b[0mp_term\u001b[0m\u001b[0;34m(\u001b[0m\u001b[0mtokens\u001b[0m\u001b[0;34m)\u001b[0m\u001b[0;34m\u001b[0m\u001b[0;34m\u001b[0m\u001b[0m\n\u001b[0m\u001b[1;32m    773\u001b[0m             \u001b[0;32mif\u001b[0m \u001b[0mop\u001b[0m \u001b[0;34m==\u001b[0m \u001b[0;34m'+'\u001b[0m\u001b[0;34m:\u001b[0m\u001b[0;34m\u001b[0m\u001b[0;34m\u001b[0m\u001b[0m\n\u001b[1;32m    774\u001b[0m                 \u001b[0moperand1\u001b[0m \u001b[0;34m=\u001b[0m \u001b[0moperand1\u001b[0m \u001b[0;34m+\u001b[0m \u001b[0moperand2\u001b[0m\u001b[0;34m\u001b[0m\u001b[0;34m\u001b[0m\u001b[0m\n",
      "\u001b[0;32m/opt/SageMath/SageMath/local/lib/python3.9/site-packages/sage/misc/parser.pyx\u001b[0m in \u001b[0;36msage.misc.parser.Parser.p_term (build/cythonized/sage/misc/parser.c:8014)\u001b[0;34m()\u001b[0m\n\u001b[1;32m    801\u001b[0m         \u001b[0;31m# Note: this is left-recursive, so we can't just recurse\u001b[0m\u001b[0;34m\u001b[0m\u001b[0;34m\u001b[0m\u001b[0;34m\u001b[0m\u001b[0m\n\u001b[1;32m    802\u001b[0m         \u001b[0mcdef\u001b[0m \u001b[0mint\u001b[0m \u001b[0mop\u001b[0m\u001b[0;34m\u001b[0m\u001b[0;34m\u001b[0m\u001b[0m\n\u001b[0;32m--> 803\u001b[0;31m         \u001b[0moperand1\u001b[0m \u001b[0;34m=\u001b[0m \u001b[0mself\u001b[0m\u001b[0;34m.\u001b[0m\u001b[0mp_factor\u001b[0m\u001b[0;34m(\u001b[0m\u001b[0mtokens\u001b[0m\u001b[0;34m)\u001b[0m\u001b[0;34m\u001b[0m\u001b[0;34m\u001b[0m\u001b[0m\n\u001b[0m\u001b[1;32m    804\u001b[0m         \u001b[0mop\u001b[0m \u001b[0;34m=\u001b[0m \u001b[0mtokens\u001b[0m\u001b[0;34m.\u001b[0m\u001b[0mnext\u001b[0m\u001b[0;34m(\u001b[0m\u001b[0;34m)\u001b[0m\u001b[0;34m\u001b[0m\u001b[0;34m\u001b[0m\u001b[0m\n\u001b[1;32m    805\u001b[0m         \u001b[0;32mif\u001b[0m \u001b[0mop\u001b[0m \u001b[0;34m==\u001b[0m \u001b[0mNAME\u001b[0m \u001b[0;32mand\u001b[0m \u001b[0mself\u001b[0m\u001b[0;34m.\u001b[0m\u001b[0mimplicit_multiplication\u001b[0m\u001b[0;34m:\u001b[0m\u001b[0;34m\u001b[0m\u001b[0;34m\u001b[0m\u001b[0m\n",
      "\u001b[0;32m/opt/SageMath/SageMath/local/lib/python3.9/site-packages/sage/misc/parser.pyx\u001b[0m in \u001b[0;36msage.misc.parser.Parser.p_factor (build/cythonized/sage/misc/parser.c:8455)\u001b[0;34m()\u001b[0m\n\u001b[1;32m    844\u001b[0m         \u001b[0;32melse\u001b[0m\u001b[0;34m:\u001b[0m\u001b[0;34m\u001b[0m\u001b[0;34m\u001b[0m\u001b[0m\n\u001b[1;32m    845\u001b[0m             \u001b[0mtokens\u001b[0m\u001b[0;34m.\u001b[0m\u001b[0mbacktrack\u001b[0m\u001b[0;34m(\u001b[0m\u001b[0;34m)\u001b[0m\u001b[0;34m\u001b[0m\u001b[0;34m\u001b[0m\u001b[0m\n\u001b[0;32m--> 846\u001b[0;31m             \u001b[0;32mreturn\u001b[0m \u001b[0mself\u001b[0m\u001b[0;34m.\u001b[0m\u001b[0mp_power\u001b[0m\u001b[0;34m(\u001b[0m\u001b[0mtokens\u001b[0m\u001b[0;34m)\u001b[0m\u001b[0;34m\u001b[0m\u001b[0;34m\u001b[0m\u001b[0m\n\u001b[0m\u001b[1;32m    847\u001b[0m \u001b[0;34m\u001b[0m\u001b[0m\n\u001b[1;32m    848\u001b[0m \u001b[0;31m# power ::=  (atom | atom!) ^ factor | atom | atom!\u001b[0m\u001b[0;34m\u001b[0m\u001b[0;34m\u001b[0m\u001b[0;34m\u001b[0m\u001b[0m\n",
      "\u001b[0;32m/opt/SageMath/SageMath/local/lib/python3.9/site-packages/sage/misc/parser.pyx\u001b[0m in \u001b[0;36msage.misc.parser.Parser.p_power (build/cythonized/sage/misc/parser.c:8612)\u001b[0;34m()\u001b[0m\n\u001b[1;32m    872\u001b[0m \u001b[0;34m\u001b[0m\u001b[0m\n\u001b[1;32m    873\u001b[0m         \"\"\"\n\u001b[0;32m--> 874\u001b[0;31m         \u001b[0moperand1\u001b[0m \u001b[0;34m=\u001b[0m \u001b[0mself\u001b[0m\u001b[0;34m.\u001b[0m\u001b[0mp_atom\u001b[0m\u001b[0;34m(\u001b[0m\u001b[0mtokens\u001b[0m\u001b[0;34m)\u001b[0m\u001b[0;34m\u001b[0m\u001b[0;34m\u001b[0m\u001b[0m\n\u001b[0m\u001b[1;32m    875\u001b[0m         \u001b[0mcdef\u001b[0m \u001b[0mint\u001b[0m \u001b[0mtoken\u001b[0m \u001b[0;34m=\u001b[0m \u001b[0mtokens\u001b[0m\u001b[0;34m.\u001b[0m\u001b[0mnext\u001b[0m\u001b[0;34m(\u001b[0m\u001b[0;34m)\u001b[0m\u001b[0;34m\u001b[0m\u001b[0;34m\u001b[0m\u001b[0m\n\u001b[1;32m    876\u001b[0m         \u001b[0;32mif\u001b[0m \u001b[0mtoken\u001b[0m \u001b[0;34m==\u001b[0m \u001b[0;34m'^'\u001b[0m\u001b[0;34m:\u001b[0m\u001b[0;34m\u001b[0m\u001b[0;34m\u001b[0m\u001b[0m\n",
      "\u001b[0;32m/opt/SageMath/SageMath/local/lib/python3.9/site-packages/sage/misc/parser.pyx\u001b[0m in \u001b[0;36msage.misc.parser.Parser.p_atom (build/cythonized/sage/misc/parser.c:9323)\u001b[0;34m()\u001b[0m\n\u001b[1;32m    936\u001b[0m                 \u001b[0;32mreturn\u001b[0m \u001b[0mself\u001b[0m\u001b[0;34m.\u001b[0m\u001b[0mvariable_constructor\u001b[0m\u001b[0;34m(\u001b[0m\u001b[0mname\u001b[0m\u001b[0;34m)\u001b[0m\u001b[0;34m\u001b[0m\u001b[0;34m\u001b[0m\u001b[0m\n\u001b[1;32m    937\u001b[0m         \u001b[0;32melif\u001b[0m \u001b[0mtoken\u001b[0m \u001b[0;34m==\u001b[0m \u001b[0;34m'('\u001b[0m\u001b[0;34m:\u001b[0m\u001b[0;34m\u001b[0m\u001b[0;34m\u001b[0m\u001b[0m\n\u001b[0;32m--> 938\u001b[0;31m             \u001b[0mexpr\u001b[0m \u001b[0;34m=\u001b[0m \u001b[0mself\u001b[0m\u001b[0;34m.\u001b[0m\u001b[0mp_expr\u001b[0m\u001b[0;34m(\u001b[0m\u001b[0mtokens\u001b[0m\u001b[0;34m)\u001b[0m\u001b[0;34m\u001b[0m\u001b[0;34m\u001b[0m\u001b[0m\n\u001b[0m\u001b[1;32m    939\u001b[0m             \u001b[0mtoken\u001b[0m \u001b[0;34m=\u001b[0m \u001b[0mtokens\u001b[0m\u001b[0;34m.\u001b[0m\u001b[0mnext\u001b[0m\u001b[0;34m(\u001b[0m\u001b[0;34m)\u001b[0m\u001b[0;34m\u001b[0m\u001b[0;34m\u001b[0m\u001b[0m\n\u001b[1;32m    940\u001b[0m             \u001b[0;32mif\u001b[0m \u001b[0mtoken\u001b[0m \u001b[0;34m!=\u001b[0m \u001b[0;34m')'\u001b[0m\u001b[0;34m:\u001b[0m\u001b[0;34m\u001b[0m\u001b[0;34m\u001b[0m\u001b[0m\n",
      "\u001b[0;32m/opt/SageMath/SageMath/local/lib/python3.9/site-packages/sage/misc/parser.pyx\u001b[0m in \u001b[0;36msage.misc.parser.Parser.p_expr (build/cythonized/sage/misc/parser.c:7740)\u001b[0;34m()\u001b[0m\n\u001b[1;32m    767\u001b[0m         \u001b[0;31m# Note: this is left-recursive, so we can't just recurse\u001b[0m\u001b[0;34m\u001b[0m\u001b[0;34m\u001b[0m\u001b[0;34m\u001b[0m\u001b[0m\n\u001b[1;32m    768\u001b[0m         \u001b[0mcdef\u001b[0m \u001b[0mint\u001b[0m \u001b[0mop\u001b[0m\u001b[0;34m\u001b[0m\u001b[0;34m\u001b[0m\u001b[0m\n\u001b[0;32m--> 769\u001b[0;31m         \u001b[0moperand1\u001b[0m \u001b[0;34m=\u001b[0m \u001b[0mself\u001b[0m\u001b[0;34m.\u001b[0m\u001b[0mp_term\u001b[0m\u001b[0;34m(\u001b[0m\u001b[0mtokens\u001b[0m\u001b[0;34m)\u001b[0m\u001b[0;34m\u001b[0m\u001b[0;34m\u001b[0m\u001b[0m\n\u001b[0m\u001b[1;32m    770\u001b[0m         \u001b[0mop\u001b[0m \u001b[0;34m=\u001b[0m \u001b[0mtokens\u001b[0m\u001b[0;34m.\u001b[0m\u001b[0mnext\u001b[0m\u001b[0;34m(\u001b[0m\u001b[0;34m)\u001b[0m\u001b[0;34m\u001b[0m\u001b[0;34m\u001b[0m\u001b[0m\n\u001b[1;32m    771\u001b[0m         \u001b[0;32mwhile\u001b[0m \u001b[0mop\u001b[0m \u001b[0;34m==\u001b[0m \u001b[0;34m'+'\u001b[0m \u001b[0;32mor\u001b[0m \u001b[0mop\u001b[0m \u001b[0;34m==\u001b[0m \u001b[0;34m'-'\u001b[0m\u001b[0;34m:\u001b[0m\u001b[0;34m\u001b[0m\u001b[0;34m\u001b[0m\u001b[0m\n",
      "\u001b[0;32m/opt/SageMath/SageMath/local/lib/python3.9/site-packages/sage/misc/parser.pyx\u001b[0m in \u001b[0;36msage.misc.parser.Parser.p_term (build/cythonized/sage/misc/parser.c:8014)\u001b[0;34m()\u001b[0m\n\u001b[1;32m    801\u001b[0m         \u001b[0;31m# Note: this is left-recursive, so we can't just recurse\u001b[0m\u001b[0;34m\u001b[0m\u001b[0;34m\u001b[0m\u001b[0;34m\u001b[0m\u001b[0m\n\u001b[1;32m    802\u001b[0m         \u001b[0mcdef\u001b[0m \u001b[0mint\u001b[0m \u001b[0mop\u001b[0m\u001b[0;34m\u001b[0m\u001b[0;34m\u001b[0m\u001b[0m\n\u001b[0;32m--> 803\u001b[0;31m         \u001b[0moperand1\u001b[0m \u001b[0;34m=\u001b[0m \u001b[0mself\u001b[0m\u001b[0;34m.\u001b[0m\u001b[0mp_factor\u001b[0m\u001b[0;34m(\u001b[0m\u001b[0mtokens\u001b[0m\u001b[0;34m)\u001b[0m\u001b[0;34m\u001b[0m\u001b[0;34m\u001b[0m\u001b[0m\n\u001b[0m\u001b[1;32m    804\u001b[0m         \u001b[0mop\u001b[0m \u001b[0;34m=\u001b[0m \u001b[0mtokens\u001b[0m\u001b[0;34m.\u001b[0m\u001b[0mnext\u001b[0m\u001b[0;34m(\u001b[0m\u001b[0;34m)\u001b[0m\u001b[0;34m\u001b[0m\u001b[0;34m\u001b[0m\u001b[0m\n\u001b[1;32m    805\u001b[0m         \u001b[0;32mif\u001b[0m \u001b[0mop\u001b[0m \u001b[0;34m==\u001b[0m \u001b[0mNAME\u001b[0m \u001b[0;32mand\u001b[0m \u001b[0mself\u001b[0m\u001b[0;34m.\u001b[0m\u001b[0mimplicit_multiplication\u001b[0m\u001b[0;34m:\u001b[0m\u001b[0;34m\u001b[0m\u001b[0;34m\u001b[0m\u001b[0m\n",
      "\u001b[0;32m/opt/SageMath/SageMath/local/lib/python3.9/site-packages/sage/misc/parser.pyx\u001b[0m in \u001b[0;36msage.misc.parser.Parser.p_factor (build/cythonized/sage/misc/parser.c:8455)\u001b[0;34m()\u001b[0m\n\u001b[1;32m    844\u001b[0m         \u001b[0;32melse\u001b[0m\u001b[0;34m:\u001b[0m\u001b[0;34m\u001b[0m\u001b[0;34m\u001b[0m\u001b[0m\n\u001b[1;32m    845\u001b[0m             \u001b[0mtokens\u001b[0m\u001b[0;34m.\u001b[0m\u001b[0mbacktrack\u001b[0m\u001b[0;34m(\u001b[0m\u001b[0;34m)\u001b[0m\u001b[0;34m\u001b[0m\u001b[0;34m\u001b[0m\u001b[0m\n\u001b[0;32m--> 846\u001b[0;31m             \u001b[0;32mreturn\u001b[0m \u001b[0mself\u001b[0m\u001b[0;34m.\u001b[0m\u001b[0mp_power\u001b[0m\u001b[0;34m(\u001b[0m\u001b[0mtokens\u001b[0m\u001b[0;34m)\u001b[0m\u001b[0;34m\u001b[0m\u001b[0;34m\u001b[0m\u001b[0m\n\u001b[0m\u001b[1;32m    847\u001b[0m \u001b[0;34m\u001b[0m\u001b[0m\n\u001b[1;32m    848\u001b[0m \u001b[0;31m# power ::=  (atom | atom!) ^ factor | atom | atom!\u001b[0m\u001b[0;34m\u001b[0m\u001b[0;34m\u001b[0m\u001b[0;34m\u001b[0m\u001b[0m\n",
      "\u001b[0;32m/opt/SageMath/SageMath/local/lib/python3.9/site-packages/sage/misc/parser.pyx\u001b[0m in \u001b[0;36msage.misc.parser.Parser.p_power (build/cythonized/sage/misc/parser.c:8612)\u001b[0;34m()\u001b[0m\n\u001b[1;32m    872\u001b[0m \u001b[0;34m\u001b[0m\u001b[0m\n\u001b[1;32m    873\u001b[0m         \"\"\"\n\u001b[0;32m--> 874\u001b[0;31m         \u001b[0moperand1\u001b[0m \u001b[0;34m=\u001b[0m \u001b[0mself\u001b[0m\u001b[0;34m.\u001b[0m\u001b[0mp_atom\u001b[0m\u001b[0;34m(\u001b[0m\u001b[0mtokens\u001b[0m\u001b[0;34m)\u001b[0m\u001b[0;34m\u001b[0m\u001b[0;34m\u001b[0m\u001b[0m\n\u001b[0m\u001b[1;32m    875\u001b[0m         \u001b[0mcdef\u001b[0m \u001b[0mint\u001b[0m \u001b[0mtoken\u001b[0m \u001b[0;34m=\u001b[0m \u001b[0mtokens\u001b[0m\u001b[0;34m.\u001b[0m\u001b[0mnext\u001b[0m\u001b[0;34m(\u001b[0m\u001b[0;34m)\u001b[0m\u001b[0;34m\u001b[0m\u001b[0;34m\u001b[0m\u001b[0m\n\u001b[1;32m    876\u001b[0m         \u001b[0;32mif\u001b[0m \u001b[0mtoken\u001b[0m \u001b[0;34m==\u001b[0m \u001b[0;34m'^'\u001b[0m\u001b[0;34m:\u001b[0m\u001b[0;34m\u001b[0m\u001b[0;34m\u001b[0m\u001b[0m\n",
      "\u001b[0;32m/opt/SageMath/SageMath/local/lib/python3.9/site-packages/sage/misc/parser.pyx\u001b[0m in \u001b[0;36msage.misc.parser.Parser.p_atom (build/cythonized/sage/misc/parser.c:9054)\u001b[0;34m()\u001b[0m\n\u001b[1;32m    921\u001b[0m             \u001b[0;32mreturn\u001b[0m \u001b[0mself\u001b[0m\u001b[0;34m.\u001b[0m\u001b[0minteger_constructor\u001b[0m\u001b[0;34m(\u001b[0m\u001b[0mtokens\u001b[0m\u001b[0;34m.\u001b[0m\u001b[0mlast_token_string\u001b[0m\u001b[0;34m(\u001b[0m\u001b[0;34m)\u001b[0m\u001b[0;34m)\u001b[0m\u001b[0;34m\u001b[0m\u001b[0;34m\u001b[0m\u001b[0m\n\u001b[1;32m    922\u001b[0m         \u001b[0;32melif\u001b[0m \u001b[0mtoken\u001b[0m \u001b[0;34m==\u001b[0m \u001b[0mFLOAT\u001b[0m\u001b[0;34m:\u001b[0m\u001b[0;34m\u001b[0m\u001b[0;34m\u001b[0m\u001b[0m\n\u001b[0;32m--> 923\u001b[0;31m             \u001b[0;32mreturn\u001b[0m \u001b[0mself\u001b[0m\u001b[0;34m.\u001b[0m\u001b[0mfloat_constructor\u001b[0m\u001b[0;34m(\u001b[0m\u001b[0mtokens\u001b[0m\u001b[0;34m.\u001b[0m\u001b[0mlast_token_string\u001b[0m\u001b[0;34m(\u001b[0m\u001b[0;34m)\u001b[0m\u001b[0;34m)\u001b[0m\u001b[0;34m\u001b[0m\u001b[0;34m\u001b[0m\u001b[0m\n\u001b[0m\u001b[1;32m    924\u001b[0m         \u001b[0;32melif\u001b[0m \u001b[0mtoken\u001b[0m \u001b[0;34m==\u001b[0m \u001b[0mNAME\u001b[0m\u001b[0;34m:\u001b[0m\u001b[0;34m\u001b[0m\u001b[0;34m\u001b[0m\u001b[0m\n\u001b[1;32m    925\u001b[0m             \u001b[0mname\u001b[0m \u001b[0;34m=\u001b[0m \u001b[0mtokens\u001b[0m\u001b[0;34m.\u001b[0m\u001b[0mlast_token_string\u001b[0m\u001b[0;34m(\u001b[0m\u001b[0;34m)\u001b[0m\u001b[0;34m\u001b[0m\u001b[0;34m\u001b[0m\u001b[0m\n",
      "\u001b[0;32m/opt/SageMath/SageMath/local/lib/python3.9/site-packages/sage/calculus/calculus.py\u001b[0m in \u001b[0;36m<lambda>\u001b[0;34m(x)\u001b[0m\n\u001b[1;32m   2365\u001b[0m \u001b[0;34m\u001b[0m\u001b[0m\n\u001b[1;32m   2366\u001b[0m SR_parser = Parser(make_int      = lambda x: SR(Integer(x)),\n\u001b[0;32m-> 2367\u001b[0;31m                    \u001b[0mmake_float\u001b[0m    \u001b[0;34m=\u001b[0m \u001b[0;32mlambda\u001b[0m \u001b[0mx\u001b[0m\u001b[0;34m:\u001b[0m \u001b[0mSR\u001b[0m\u001b[0;34m(\u001b[0m\u001b[0mcreate_RealNumber\u001b[0m\u001b[0;34m(\u001b[0m\u001b[0mx\u001b[0m\u001b[0;34m)\u001b[0m\u001b[0;34m)\u001b[0m\u001b[0;34m,\u001b[0m\u001b[0;34m\u001b[0m\u001b[0;34m\u001b[0m\u001b[0m\n\u001b[0m\u001b[1;32m   2368\u001b[0m                    \u001b[0mmake_var\u001b[0m      \u001b[0;34m=\u001b[0m \u001b[0mparser_make_var\u001b[0m\u001b[0;34m,\u001b[0m\u001b[0;34m\u001b[0m\u001b[0;34m\u001b[0m\u001b[0m\n\u001b[1;32m   2369\u001b[0m                    make_function = parser_make_function)\n",
      "\u001b[0;32m/opt/SageMath/SageMath/local/lib/python3.9/site-packages/sage/rings/real_mpfr.pyx\u001b[0m in \u001b[0;36msage.rings.real_mpfr.create_RealNumber (build/cythonized/sage/rings/real_mpfr.c:37267)\u001b[0;34m()\u001b[0m\n\u001b[1;32m   5887\u001b[0m         \u001b[0mR\u001b[0m \u001b[0;34m=\u001b[0m \u001b[0mRealField\u001b[0m\u001b[0;34m(\u001b[0m\u001b[0mprec\u001b[0m\u001b[0;34m=\u001b[0m\u001b[0mmax\u001b[0m\u001b[0;34m(\u001b[0m\u001b[0mbits\u001b[0m \u001b[0;34m+\u001b[0m \u001b[0mpad\u001b[0m\u001b[0;34m,\u001b[0m \u001b[0mmin_prec\u001b[0m\u001b[0;34m)\u001b[0m\u001b[0;34m,\u001b[0m \u001b[0mrnd\u001b[0m\u001b[0;34m=\u001b[0m\u001b[0mrnd\u001b[0m\u001b[0;34m)\u001b[0m\u001b[0;34m\u001b[0m\u001b[0;34m\u001b[0m\u001b[0m\n\u001b[1;32m   5888\u001b[0m \u001b[0;34m\u001b[0m\u001b[0m\n\u001b[0;32m-> 5889\u001b[0;31m     \u001b[0;32mreturn\u001b[0m \u001b[0mRealLiteral\u001b[0m\u001b[0;34m(\u001b[0m\u001b[0mR\u001b[0m\u001b[0;34m,\u001b[0m \u001b[0ms\u001b[0m\u001b[0;34m,\u001b[0m \u001b[0mbase\u001b[0m\u001b[0;34m)\u001b[0m\u001b[0;34m\u001b[0m\u001b[0;34m\u001b[0m\u001b[0m\n\u001b[0m\u001b[1;32m   5890\u001b[0m \u001b[0;34m\u001b[0m\u001b[0m\n\u001b[1;32m   5891\u001b[0m \u001b[0;34m\u001b[0m\u001b[0m\n",
      "\u001b[0;32m/opt/SageMath/SageMath/local/lib/python3.9/site-packages/sage/rings/real_mpfr.pyx\u001b[0m in \u001b[0;36msage.rings.real_mpfr.RealLiteral.__init__ (build/cythonized/sage/rings/real_mpfr.c:36109)\u001b[0;34m()\u001b[0m\n\u001b[1;32m   5686\u001b[0m             \u001b[0;36m2.50000000000000\u001b[0m\u001b[0;34m\u001b[0m\u001b[0;34m\u001b[0m\u001b[0m\n\u001b[1;32m   5687\u001b[0m         \"\"\"\n\u001b[0;32m-> 5688\u001b[0;31m         \u001b[0mRealNumber\u001b[0m\u001b[0;34m.\u001b[0m\u001b[0m__init__\u001b[0m\u001b[0;34m(\u001b[0m\u001b[0mself\u001b[0m\u001b[0;34m,\u001b[0m \u001b[0mparent\u001b[0m\u001b[0;34m,\u001b[0m \u001b[0mx\u001b[0m\u001b[0;34m,\u001b[0m \u001b[0mbase\u001b[0m\u001b[0;34m)\u001b[0m\u001b[0;34m\u001b[0m\u001b[0;34m\u001b[0m\u001b[0m\n\u001b[0m\u001b[1;32m   5689\u001b[0m         \u001b[0;32mif\u001b[0m \u001b[0misinstance\u001b[0m\u001b[0;34m(\u001b[0m\u001b[0mx\u001b[0m\u001b[0;34m,\u001b[0m \u001b[0mstr\u001b[0m\u001b[0;34m)\u001b[0m\u001b[0;34m:\u001b[0m\u001b[0;34m\u001b[0m\u001b[0;34m\u001b[0m\u001b[0m\n\u001b[1;32m   5690\u001b[0m             \u001b[0mself\u001b[0m\u001b[0;34m.\u001b[0m\u001b[0mbase\u001b[0m \u001b[0;34m=\u001b[0m \u001b[0mbase\u001b[0m\u001b[0;34m\u001b[0m\u001b[0;34m\u001b[0m\u001b[0m\n",
      "\u001b[0;32m/opt/SageMath/SageMath/local/lib/python3.9/site-packages/sage/rings/real_mpfr.pyx\u001b[0m in \u001b[0;36msage.rings.real_mpfr.RealNumber.__init__ (build/cythonized/sage/rings/real_mpfr.c:12118)\u001b[0;34m()\u001b[0m\n\u001b[1;32m   1415\u001b[0m         \"\"\"\n\u001b[1;32m   1416\u001b[0m         \u001b[0;32mif\u001b[0m \u001b[0mx\u001b[0m \u001b[0;32mis\u001b[0m \u001b[0;32mnot\u001b[0m \u001b[0;32mNone\u001b[0m\u001b[0;34m:\u001b[0m\u001b[0;34m\u001b[0m\u001b[0;34m\u001b[0m\u001b[0m\n\u001b[0;32m-> 1417\u001b[0;31m             \u001b[0mself\u001b[0m\u001b[0;34m.\u001b[0m\u001b[0m_set\u001b[0m\u001b[0;34m(\u001b[0m\u001b[0mx\u001b[0m\u001b[0;34m,\u001b[0m \u001b[0mbase\u001b[0m\u001b[0;34m)\u001b[0m\u001b[0;34m\u001b[0m\u001b[0;34m\u001b[0m\u001b[0m\n\u001b[0m\u001b[1;32m   1418\u001b[0m \u001b[0;34m\u001b[0m\u001b[0m\n\u001b[1;32m   1419\u001b[0m     \u001b[0;32mdef\u001b[0m \u001b[0m_magma_init_\u001b[0m\u001b[0;34m(\u001b[0m\u001b[0mself\u001b[0m\u001b[0;34m,\u001b[0m \u001b[0mmagma\u001b[0m\u001b[0;34m)\u001b[0m\u001b[0;34m:\u001b[0m\u001b[0;34m\u001b[0m\u001b[0;34m\u001b[0m\u001b[0m\n",
      "\u001b[0;32m/opt/SageMath/SageMath/local/lib/python3.9/site-packages/sage/rings/real_mpfr.pyx\u001b[0m in \u001b[0;36msage.rings.real_mpfr.RealNumber._set (build/cythonized/sage/rings/real_mpfr.c:12965)\u001b[0;34m()\u001b[0m\n\u001b[1;32m   1494\u001b[0m             \u001b[0mmpfr_set_z\u001b[0m\u001b[0;34m(\u001b[0m\u001b[0mself\u001b[0m\u001b[0;34m.\u001b[0m\u001b[0mvalue\u001b[0m\u001b[0;34m,\u001b[0m \u001b[0;34m(\u001b[0m\u001b[0;34m<\u001b[0m\u001b[0mgmpy2\u001b[0m\u001b[0;34m.\u001b[0m\u001b[0mmpz\u001b[0m\u001b[0;34m>\u001b[0m\u001b[0mx\u001b[0m\u001b[0;34m)\u001b[0m\u001b[0;34m.\u001b[0m\u001b[0mz\u001b[0m\u001b[0;34m,\u001b[0m \u001b[0mparent\u001b[0m\u001b[0;34m.\u001b[0m\u001b[0mrnd\u001b[0m\u001b[0;34m)\u001b[0m\u001b[0;34m\u001b[0m\u001b[0;34m\u001b[0m\u001b[0m\n\u001b[1;32m   1495\u001b[0m         \u001b[0;32melse\u001b[0m\u001b[0;34m:\u001b[0m\u001b[0;34m\u001b[0m\u001b[0;34m\u001b[0m\u001b[0m\n\u001b[0;32m-> 1496\u001b[0;31m             \u001b[0ms\u001b[0m \u001b[0;34m=\u001b[0m \u001b[0mstr\u001b[0m\u001b[0;34m(\u001b[0m\u001b[0mx\u001b[0m\u001b[0;34m)\u001b[0m\u001b[0;34m.\u001b[0m\u001b[0mreplace\u001b[0m\u001b[0;34m(\u001b[0m\u001b[0;34m' '\u001b[0m\u001b[0;34m,\u001b[0m\u001b[0;34m''\u001b[0m\u001b[0;34m)\u001b[0m\u001b[0;34m.\u001b[0m\u001b[0mreplace\u001b[0m\u001b[0;34m(\u001b[0m\u001b[0;34m'_'\u001b[0m\u001b[0;34m,\u001b[0m \u001b[0;34m''\u001b[0m\u001b[0;34m)\u001b[0m\u001b[0;34m\u001b[0m\u001b[0;34m\u001b[0m\u001b[0m\n\u001b[0m\u001b[1;32m   1497\u001b[0m             \u001b[0ms_lower\u001b[0m \u001b[0;34m=\u001b[0m \u001b[0ms\u001b[0m\u001b[0;34m.\u001b[0m\u001b[0mlower\u001b[0m\u001b[0;34m(\u001b[0m\u001b[0;34m)\u001b[0m\u001b[0;34m\u001b[0m\u001b[0;34m\u001b[0m\u001b[0m\n\u001b[1;32m   1498\u001b[0m             \u001b[0;32mif\u001b[0m \u001b[0ms_lower\u001b[0m \u001b[0;34m==\u001b[0m \u001b[0;34m'infinity'\u001b[0m\u001b[0;34m:\u001b[0m\u001b[0;34m\u001b[0m\u001b[0;34m\u001b[0m\u001b[0m\n",
      "\u001b[0;32msrc/cysignals/signals.pyx\u001b[0m in \u001b[0;36mcysignals.signals.python_check_interrupt\u001b[0;34m()\u001b[0m\n",
      "\u001b[0;31mKeyboardInterrupt\u001b[0m: "
     ]
    }
   ],
   "source": [
    "denom = a+e-b-d\n",
    "\n",
    "denom = denom._mathematica_().Together()._sage_()\n",
    "denom = SR(str(denom).replace('Sqrt','sqrt'))\n",
    "t_g = 3*np.pi/denom\n",
    "\n",
    "\n",
    "\n",
    "expr = (2*a - 2*b - d + f )#._mathematica_().Together()._sage_() #a=b=0\n",
    "expr = expr*t_g"
   ]
  },
  {
   "cell_type": "code",
   "execution_count": 134,
   "id": "f945c27e",
   "metadata": {},
   "outputs": [
    {
     "name": "stdout",
     "output_type": "stream",
     "text": [
      "Time Numerator\n",
      "Time Denominator\n"
     ]
    }
   ],
   "source": [
    "t_test = (SR(str((MMA_simplify(t_g.subs(c=C,R_f=1,r_g=1,r_f=1,gamma=1,Deg1=1)))).replace('Sqrt','sqrt')))\n",
    "print('Time Numerator')\n",
    "#print(t_test.numerator().expand())\n",
    "print('Time Denominator')\n",
    "#print(t_test.denominator().expand())"
   ]
  },
  {
   "cell_type": "code",
   "execution_count": 3,
   "id": "574016e2",
   "metadata": {
    "scrolled": false
   },
   "outputs": [
    {
     "ename": "NameError",
     "evalue": "name 'expr' is not defined",
     "output_type": "error",
     "traceback": [
      "\u001b[0;31m---------------------------------------------------------------------------\u001b[0m",
      "\u001b[0;31mNameError\u001b[0m                                 Traceback (most recent call last)",
      "\u001b[0;32m<ipython-input-3-abd8d9db050b>\u001b[0m in \u001b[0;36m<module>\u001b[0;34m\u001b[0m\n\u001b[1;32m      1\u001b[0m \u001b[0mc_val\u001b[0m \u001b[0;34m=\u001b[0m \u001b[0mInteger\u001b[0m\u001b[0;34m(\u001b[0m\u001b[0;36m1000\u001b[0m\u001b[0;34m)\u001b[0m\u001b[0;34m\u001b[0m\u001b[0;34m\u001b[0m\u001b[0m\n\u001b[0;32m----> 2\u001b[0;31m \u001b[0mexpr_plot\u001b[0m \u001b[0;34m=\u001b[0m \u001b[0mexpr\u001b[0m\u001b[0;34m.\u001b[0m\u001b[0msubs\u001b[0m\u001b[0;34m(\u001b[0m\u001b[0mc\u001b[0m\u001b[0;34m=\u001b[0m\u001b[0mc_val\u001b[0m\u001b[0;34m,\u001b[0m\u001b[0mC\u001b[0m\u001b[0;34m=\u001b[0m\u001b[0mInteger\u001b[0m\u001b[0;34m(\u001b[0m\u001b[0;36m100\u001b[0m\u001b[0;34m)\u001b[0m\u001b[0;34m*\u001b[0m\u001b[0mc_val\u001b[0m\u001b[0;34m,\u001b[0m\u001b[0mR_f\u001b[0m\u001b[0;34m=\u001b[0m\u001b[0mInteger\u001b[0m\u001b[0;34m(\u001b[0m\u001b[0;36m1\u001b[0m\u001b[0;34m)\u001b[0m\u001b[0;34m,\u001b[0m\u001b[0mr_g\u001b[0m\u001b[0;34m=\u001b[0m\u001b[0mRealNumber\u001b[0m\u001b[0;34m(\u001b[0m\u001b[0;34m'0.1'\u001b[0m\u001b[0;34m)\u001b[0m\u001b[0;34m,\u001b[0m\u001b[0mr_f\u001b[0m\u001b[0;34m=\u001b[0m\u001b[0mRealNumber\u001b[0m\u001b[0;34m(\u001b[0m\u001b[0;34m'0.1'\u001b[0m\u001b[0;34m)\u001b[0m\u001b[0;34m)\u001b[0m\u001b[0;34m\u001b[0m\u001b[0;34m\u001b[0m\u001b[0m\n\u001b[0m\u001b[1;32m      3\u001b[0m \u001b[0mexpr_plot\u001b[0m \u001b[0;34m=\u001b[0m \u001b[0mMMA_simplify\u001b[0m\u001b[0;34m(\u001b[0m\u001b[0mexpr_plot\u001b[0m\u001b[0;34m,\u001b[0m\u001b[0mfull\u001b[0m\u001b[0;34m=\u001b[0m\u001b[0;32mTrue\u001b[0m\u001b[0;34m)\u001b[0m\u001b[0;34m\u001b[0m\u001b[0;34m\u001b[0m\u001b[0m\n\u001b[1;32m      4\u001b[0m \u001b[0;34m\u001b[0m\u001b[0m\n\u001b[1;32m      5\u001b[0m \u001b[0;31m#show(expr_plot)\u001b[0m\u001b[0;34m\u001b[0m\u001b[0;34m\u001b[0m\u001b[0;34m\u001b[0m\u001b[0m\n",
      "\u001b[0;31mNameError\u001b[0m: name 'expr' is not defined"
     ]
    }
   ],
   "source": [
    "c_val = 1000\n",
    "expr_plot = expr.subs(c=c_val,C=100*c_val,R_f=1,r_g=0.1,r_f=0.1)\n",
    "expr_plot = MMA_simplify(expr_plot,full=True)\n",
    "\n",
    "#show(expr_plot)\n",
    "\n",
    "#plot(abs(expr_plot)/(2*np.pi),(Deg1,-40,40),gridlines='minor' )"
   ]
  },
  {
   "cell_type": "code",
   "execution_count": 7,
   "id": "924c5e73",
   "metadata": {},
   "outputs": [
    {
     "data": {
      "text/plain": [
       "1.78771230631476 - 1.83787004129158e-11*I"
      ]
     },
     "execution_count": 7,
     "metadata": {},
     "output_type": "execute_result"
    }
   ],
   "source": [
    "expr_plot.subs(Deg1=5)/np.pi"
   ]
  },
  {
   "cell_type": "markdown",
   "id": "80d38bfe",
   "metadata": {},
   "source": [
    "# NOTES\n",
    "\n",
    "- We found it possible for:  \n",
    "\n",
    "`phi_val = 0\n",
    "c_val = 10000\n",
    "expr_plot = expr.subs(c=c_val,C=100*c_val,R_f=1,r_g=0.1,r_f=0.1)`\n",
    "\n",
    "with and without  sqrt scaling of Deg, but with 3pi rotation \n",
    "\n",
    "- Many possibilities from other `phi_val`"
   ]
  },
  {
   "cell_type": "markdown",
   "id": "1498df0a",
   "metadata": {},
   "source": [
    "# Lindblau Operators no $C \\longrightarrow \\infty$ limit\n",
    "\n",
    "Choose which of the Lindblau operators to view and which non zero element of it"
   ]
  },
  {
   "cell_type": "code",
   "execution_count": 40,
   "id": "847371b4",
   "metadata": {
    "scrolled": true
   },
   "outputs": [
    {
     "name": "stdout",
     "output_type": "stream",
     "text": [
      "0 out of 12\n",
      "1 out of 12\n",
      "2 out of 12\n",
      "3 out of 12\n",
      "4 out of 12\n",
      "5 out of 12\n",
      "6 out of 12\n",
      "7 out of 12\n",
      "8 out of 12\n",
      "9 out of 12\n",
      "10 out of 12\n",
      "11 out of 12\n",
      "12 out of 12\n",
      "\n",
      " Done!\n"
     ]
    }
   ],
   "source": [
    "lind_op_number = len(s1.lindblau_list)\n",
    "\n",
    "eff_lind_taylor = []\n",
    "eff_lind = []\n",
    "eff_lind_coeff = []\n",
    "for lind_op in range(lind_op_number):\n",
    "    print(f'{lind_op} out of {lind_op_number-1}')\n",
    "    eff_lind_taylor.append([])\n",
    "    eff_lind.append([])\n",
    "    L_matrix = s1.eff_lindblau_list[lind_op]\n",
    "    L_nonzeros = []\n",
    "    L_nonzeros_pos = []\n",
    "    for i in  range(L_matrix.nrows()):\n",
    "        for j in  range(L_matrix.ncols()):\n",
    "            if not str(symround(L_matrix[i,j]))==str(0):\n",
    "                L_nonzeros.append(L_matrix[i,j])\n",
    "                L_nonzeros_pos.append((i,j))\n",
    "    eff_lind_coeff.append(s1.L_coeffs[lind_op])\n",
    "    \n",
    "    for which in range(len(L_nonzeros)):\n",
    "\n",
    "        L_elem = L_nonzeros[which]\n",
    "        b = L_elem\n",
    "        \n",
    "        b = b._mathematica_().ReplaceAll(f'DE->DEg*gamma*C^({n})')._sage_()\n",
    "        #b = b.subs(DE = DEg*gamma*C^n)\n",
    "        \n",
    "        b = b._mathematica_().ReplaceAll(f'De1->Deg1*gamma*C^({n})')._sage_()\n",
    "        #b = b.subs(De1 = Deg1*gamma*C^n) #sqrt C scaling!?\n",
    "        \n",
    "        b = b._mathematica_().ReplaceAll(f'De2->Deg2*gamma*C^({n})')._sage_()\n",
    "        #b = b.subs(De2 = Deg2*gamma*C^n) #MAKE ZERO\n",
    "        \n",
    "        b = b._mathematica_().ReplaceAll(f'De3->Deg2*gamma*C^({n})')._sage_()\n",
    "        #b = b.subs(De3 = Deg3*gamma*C^n) #MAKE ZERO  \n",
    "        \n",
    "        #b = b.subs(phi = phi_val)\n",
    "        \n",
    "        #b = MMA_simplify(b)\n",
    "        \n",
    "        #b = b._mathematica_().ReplaceAll('g_f->g*(R_f)^(1/2)')._sage_()\n",
    "        b = b.subs(g_f=g*(R_f)^(1/2))\n",
    "\n",
    "        b = b._mathematica_().ReplaceAll('gamma_f->gamma*r_f')._sage_()\n",
    "        #b = b.subs(gamma_f=gamma*r_f)\n",
    "\n",
    "        b = b._mathematica_().ReplaceAll('gamma_g->gamma*r_g')._sage_()\n",
    "        #b = b.subs(gamma_g=gamma*r_g)\n",
    "        \n",
    "        #b = b._mathematica_().ReplaceAll(\"g-> (C*gamma*kappa_c)^(1/2)\")._sage_()\n",
    "        b = b.subs(g = (C*gamma*kappa_c)^(1/2)) \n",
    "        \n",
    "        b = b._mathematica_().ReplaceAll('v->(c*kappa_b*kappa_c)^(1/2)')._sage_()\n",
    "        \n",
    "        b = b.subs(c=C)\n",
    "        \n",
    "        b = SR(str(b).replace('Sqrt','sqrt'))\n",
    "        \n",
    "        eff_lind[lind_op].append(b)\n",
    "        \n",
    "print('\\n Done!')"
   ]
  },
  {
   "cell_type": "markdown",
   "id": "f1ddbf1c",
   "metadata": {},
   "source": [
    "# See results"
   ]
  },
  {
   "cell_type": "code",
   "execution_count": 47,
   "id": "31f015d8",
   "metadata": {},
   "outputs": [
    {
     "name": "stdout",
     "output_type": "stream",
     "text": [
      "symround: Deleted coefficient -6.4e-32\n",
      "symround: Deleted coefficient 3.8e-27\n",
      "symround: Deleted coefficient 8.6e-28\n",
      "symround: Deleted coefficient -4.7e-19\n",
      "symround: Deleted coefficient -3.5e-21\n",
      "symround: Deleted coefficient -5.0e-21\n"
     ]
    },
    {
     "data": {
      "text/html": [
       "<html><script type=\"math/tex; mode=display\">\\newcommand{\\Bold}[1]{\\mathbf{#1}}\\frac{{\\left(2.6 \\, C^{24} + \\left(10. - 54.i\\right) \\, C^{23} - \\left(206 i + 480\\right) \\, C^{22} + \\left(2240 i - 1712\\right) \\, C^{21} + \\left(7744 i + 5696\\right) \\, C^{20} - \\left(6336 i - 20480\\right) \\, C^{19} - \\left(32000 i - 3488\\right) \\, C^{18} - \\left(19200 i + 27136\\right) \\, C^{17} + \\left(8960 i - 23040\\right) \\, C^{16} + \\left(13312 i - 3904\\right) \\, C^{15} + \\left(4992 i + 3264\\right) \\, C^{14} + \\left(360 i + 2016\\right) \\, C^{13} - \\left(320 i - 464\\right) \\, C^{12} - \\left(123 i - 27\\right) \\, C^{11} - \\left(11. + 20.i\\right) \\, C^{10} - \\left(3.2 + 1.3i\\right) \\, C^{9} - \\left(0.40 - 0.12i\\right) \\, C^{8} - \\left(0.025 - 0.033i\\right) \\, C^{7} - \\left(0.00018 - 0.0032i\\right) \\, C^{6} + \\left(0.000092 + 0.00017i\\right) \\, C^{5} + \\left(7.3 \\times 10^{-6} + 4.5 \\times 10^{-6}i\\right) \\, C^{4} + \\left(2.6 \\times 10^{-7} + 2.0 \\times 10^{-8}i\\right) \\, C^{3} + \\left(4.7 \\times 10^{-9} - 1.7 \\times 10^{-9}i\\right) \\, C^{2} + \\left(3.3 \\times 10^{-11} - 3.0 \\times 10^{-11}i\\right) \\, C\\right)} \\Omega}{{\\left(C^{11} + \\left(2.9 - 11.i\\right) \\, C^{10} - \\left(38. + 24.i\\right) \\, C^{9} - \\left(64. - 48.i\\right) \\, C^{8} + \\left(12. + 58.i\\right) \\, C^{7} + \\left(22. + 7.9i\\right) \\, C^{6} + \\left(4.5 - 3.0i\\right) \\, C^{5} + \\left(0.12 - 0.76i\\right) \\, C^{4} - \\left(0.036 + 0.057i\\right) \\, C^{3} - \\left(0.0031 + 0.0014i\\right) \\, C^{2} - 0.000069 \\, C\\right)} {\\left(C^{4} + \\left(0.38 - 3.8i\\right) \\, C^{3} - \\left(0.71 + 1.1i\\right) \\, C^{2} - \\left(0.20 + 0.12i\\right) \\, C - 0.011 - 0.0031i\\right)}^{3} {\\left(C - 0.18i\\right)} {\\left(C - 3.3i\\right)}}</script></html>"
      ],
      "text/latex": [
       "$$\\newcommand{\\Bold}[1]{\\mathbf{#1}}\\frac{{\\left(2.6 \\, C^{24} + \\left(10. - 54.i\\right) \\, C^{23} - \\left(206 i + 480\\right) \\, C^{22} + \\left(2240 i - 1712\\right) \\, C^{21} + \\left(7744 i + 5696\\right) \\, C^{20} - \\left(6336 i - 20480\\right) \\, C^{19} - \\left(32000 i - 3488\\right) \\, C^{18} - \\left(19200 i + 27136\\right) \\, C^{17} + \\left(8960 i - 23040\\right) \\, C^{16} + \\left(13312 i - 3904\\right) \\, C^{15} + \\left(4992 i + 3264\\right) \\, C^{14} + \\left(360 i + 2016\\right) \\, C^{13} - \\left(320 i - 464\\right) \\, C^{12} - \\left(123 i - 27\\right) \\, C^{11} - \\left(11. + 20.i\\right) \\, C^{10} - \\left(3.2 + 1.3i\\right) \\, C^{9} - \\left(0.40 - 0.12i\\right) \\, C^{8} - \\left(0.025 - 0.033i\\right) \\, C^{7} - \\left(0.00018 - 0.0032i\\right) \\, C^{6} + \\left(0.000092 + 0.00017i\\right) \\, C^{5} + \\left(7.3 \\times 10^{-6} + 4.5 \\times 10^{-6}i\\right) \\, C^{4} + \\left(2.6 \\times 10^{-7} + 2.0 \\times 10^{-8}i\\right) \\, C^{3} + \\left(4.7 \\times 10^{-9} - 1.7 \\times 10^{-9}i\\right) \\, C^{2} + \\left(3.3 \\times 10^{-11} - 3.0 \\times 10^{-11}i\\right) \\, C\\right)} \\Omega}{{\\left(C^{11} + \\left(2.9 - 11.i\\right) \\, C^{10} - \\left(38. + 24.i\\right) \\, C^{9} - \\left(64. - 48.i\\right) \\, C^{8} + \\left(12. + 58.i\\right) \\, C^{7} + \\left(22. + 7.9i\\right) \\, C^{6} + \\left(4.5 - 3.0i\\right) \\, C^{5} + \\left(0.12 - 0.76i\\right) \\, C^{4} - \\left(0.036 + 0.057i\\right) \\, C^{3} - \\left(0.0031 + 0.0014i\\right) \\, C^{2} - 0.000069 \\, C\\right)} {\\left(C^{4} + \\left(0.38 - 3.8i\\right) \\, C^{3} - \\left(0.71 + 1.1i\\right) \\, C^{2} - \\left(0.20 + 0.12i\\right) \\, C - 0.011 - 0.0031i\\right)}^{3} {\\left(C - 0.18i\\right)} {\\left(C - 3.3i\\right)}}$$"
      ],
      "text/plain": [
       "(2.6*C^24 + (10. - 54.*I)*C^23 - (206*I + 480)*C^22 + (2240*I - 1712)*C^21 + (7744*I + 5696)*C^20 - (6336*I - 20480)*C^19 - (32000*I - 3488)*C^18 - (19200*I + 27136)*C^17 + (8960*I - 23040)*C^16 + (13312*I - 3904)*C^15 + (4992*I + 3264)*C^14 + (360*I + 2016)*C^13 - (320*I - 464)*C^12 - (123*I - 27)*C^11 - (11. + 20.*I)*C^10 - (3.2 + 1.3*I)*C^9 - (0.40 - 0.12*I)*C^8 - (0.025 - 0.033*I)*C^7 - (0.00018 - 0.0032*I)*C^6 + (0.000092 + 0.00017*I)*C^5 + (7.3e-6 + 4.5e-6*I)*C^4 + (2.6e-7 + 2.0e-8*I)*C^3 + (4.7e-9 - 1.7e-9*I)*C^2 + (3.3e-11 - 3.0e-11*I)*C)*Omega/((C^11 + (2.9 - 11.*I)*C^10 - (38. + 24.*I)*C^9 - (64. - 48.*I)*C^8 + (12. + 58.*I)*C^7 + (22. + 7.9*I)*C^6 + (4.5 - 3.0*I)*C^5 + (0.12 - 0.76*I)*C^4 - (0.036 + 0.057*I)*C^3 - (0.0031 + 0.0014*I)*C^2 - 0.000069*C)*(C^4 + (0.38 - 3.8*I)*C^3 - (0.71 + 1.1*I)*C^2 - (0.20 + 0.12*I)*C - 0.011 - 0.0031*I)^3*(C - 0.18*I)*(C - 3.3*I))"
      ]
     },
     "metadata": {},
     "output_type": "display_data"
    },
    {
     "name": "stdout",
     "output_type": "stream",
     "text": [
      "coeff:\n"
     ]
    },
    {
     "data": {
      "text/html": [
       "<html><script type=\"math/tex; mode=display\">\\newcommand{\\Bold}[1]{\\mathbf{#1}}\\sqrt{\\gamma_{g}}</script></html>"
      ],
      "text/latex": [
       "$$\\newcommand{\\Bold}[1]{\\mathbf{#1}}\\sqrt{\\gamma_{g}}$$"
      ],
      "text/plain": [
       "sqrt(gamma_g)"
      ]
     },
     "metadata": {},
     "output_type": "display_data"
    }
   ],
   "source": [
    "lindop = 7\n",
    "pos = 7\n",
    "\n",
    "err = eff_lind[lindop][pos].subs(kappa_b=1.79, R_f=2.1,Deg1=np.sqrt(2)*C^m,Deg2=np.e*C^m,DEg=np.sqrt(5)*C^m,r_g=np.sqrt(3),gamma=0.3,r_f=0.1*np.sqrt(2), phi=np.pi/10,gamma_f=1.45,gamma_g=3)\n",
    "\n",
    "err = err._mathematica_().Together()._sage_() \n",
    "err = SR(str(( err)).replace('Sqrt','sqrt'))\n",
    "#err = SR(str(MMA_simplify( err,full=False )).replace('Sqrt','sqrt')).simplify()\n",
    "show( symround( err ,digits=1) )\n",
    "print(f'coeff:')\n",
    "show(eff_lind_coeff[lindop])"
   ]
  },
  {
   "cell_type": "code",
   "execution_count": 48,
   "id": "6b54e974",
   "metadata": {},
   "outputs": [],
   "source": [
    "#show(symround(err).operands()[2].operands())"
   ]
  },
  {
   "cell_type": "code",
   "execution_count": 49,
   "id": "31ddb98f",
   "metadata": {
    "scrolled": true
   },
   "outputs": [
    {
     "name": "stdout",
     "output_type": "stream",
     "text": [
      "symround: Deleted coefficient -6.4e-32\n",
      "symround: Deleted coefficient 3.8e-27\n",
      "symround: Deleted coefficient 8.6e-28\n"
     ]
    },
    {
     "data": {
      "text/html": [
       "<html><script type=\"math/tex; mode=display\">\\newcommand{\\Bold}[1]{\\mathbf{#1}}2.6 \\, C^{24} \\Omega + \\left(10. - 54.i\\right) \\, C^{23} \\Omega - \\left(206 i + 480\\right) \\, C^{22} \\Omega + \\left(2240 i - 1712\\right) \\, C^{21} \\Omega + \\left(7744 i + 5696\\right) \\, C^{20} \\Omega - \\left(6336 i - 20480\\right) \\, C^{19} \\Omega - \\left(32000 i - 3488\\right) \\, C^{18} \\Omega - \\left(19200 i + 27136\\right) \\, C^{17} \\Omega + \\left(8960 i - 23040\\right) \\, C^{16} \\Omega + \\left(13312 i - 3904\\right) \\, C^{15} \\Omega + \\left(4992 i + 3264\\right) \\, C^{14} \\Omega + \\left(360 i + 2016\\right) \\, C^{13} \\Omega - \\left(320 i - 464\\right) \\, C^{12} \\Omega - \\left(123 i - 27\\right) \\, C^{11} \\Omega - \\left(11. + 20.i\\right) \\, C^{10} \\Omega - \\left(3.2 + 1.3i\\right) \\, C^{9} \\Omega - \\left(0.40 - 0.12i\\right) \\, C^{8} \\Omega - \\left(0.025 - 0.033i\\right) \\, C^{7} \\Omega - \\left(0.00018 - 0.0032i\\right) \\, C^{6} \\Omega + \\left(0.000092 + 0.00017i\\right) \\, C^{5} \\Omega + \\left(7.3 \\times 10^{-6} + 4.5 \\times 10^{-6}i\\right) \\, C^{4} \\Omega + \\left(2.6 \\times 10^{-7} + 2.0 \\times 10^{-8}i\\right) \\, C^{3} \\Omega + \\left(4.7 \\times 10^{-9} - 1.7 \\times 10^{-9}i\\right) \\, C^{2} \\Omega + \\left(3.3 \\times 10^{-11} - 3.0 \\times 10^{-11}i\\right) \\, C \\Omega</script></html>"
      ],
      "text/latex": [
       "$$\\newcommand{\\Bold}[1]{\\mathbf{#1}}2.6 \\, C^{24} \\Omega + \\left(10. - 54.i\\right) \\, C^{23} \\Omega - \\left(206 i + 480\\right) \\, C^{22} \\Omega + \\left(2240 i - 1712\\right) \\, C^{21} \\Omega + \\left(7744 i + 5696\\right) \\, C^{20} \\Omega - \\left(6336 i - 20480\\right) \\, C^{19} \\Omega - \\left(32000 i - 3488\\right) \\, C^{18} \\Omega - \\left(19200 i + 27136\\right) \\, C^{17} \\Omega + \\left(8960 i - 23040\\right) \\, C^{16} \\Omega + \\left(13312 i - 3904\\right) \\, C^{15} \\Omega + \\left(4992 i + 3264\\right) \\, C^{14} \\Omega + \\left(360 i + 2016\\right) \\, C^{13} \\Omega - \\left(320 i - 464\\right) \\, C^{12} \\Omega - \\left(123 i - 27\\right) \\, C^{11} \\Omega - \\left(11. + 20.i\\right) \\, C^{10} \\Omega - \\left(3.2 + 1.3i\\right) \\, C^{9} \\Omega - \\left(0.40 - 0.12i\\right) \\, C^{8} \\Omega - \\left(0.025 - 0.033i\\right) \\, C^{7} \\Omega - \\left(0.00018 - 0.0032i\\right) \\, C^{6} \\Omega + \\left(0.000092 + 0.00017i\\right) \\, C^{5} \\Omega + \\left(7.3 \\times 10^{-6} + 4.5 \\times 10^{-6}i\\right) \\, C^{4} \\Omega + \\left(2.6 \\times 10^{-7} + 2.0 \\times 10^{-8}i\\right) \\, C^{3} \\Omega + \\left(4.7 \\times 10^{-9} - 1.7 \\times 10^{-9}i\\right) \\, C^{2} \\Omega + \\left(3.3 \\times 10^{-11} - 3.0 \\times 10^{-11}i\\right) \\, C \\Omega$$"
      ],
      "text/plain": [
       "2.6*C^24*Omega + (10. - 54.*I)*C^23*Omega - (206*I + 480)*C^22*Omega + (2240*I - 1712)*C^21*Omega + (7744*I + 5696)*C^20*Omega - (6336*I - 20480)*C^19*Omega - (32000*I - 3488)*C^18*Omega - (19200*I + 27136)*C^17*Omega + (8960*I - 23040)*C^16*Omega + (13312*I - 3904)*C^15*Omega + (4992*I + 3264)*C^14*Omega + (360*I + 2016)*C^13*Omega - (320*I - 464)*C^12*Omega - (123*I - 27)*C^11*Omega - (11. + 20.*I)*C^10*Omega - (3.2 + 1.3*I)*C^9*Omega - (0.40 - 0.12*I)*C^8*Omega - (0.025 - 0.033*I)*C^7*Omega - (0.00018 - 0.0032*I)*C^6*Omega + (0.000092 + 0.00017*I)*C^5*Omega + (7.3e-6 + 4.5e-6*I)*C^4*Omega + (2.6e-7 + 2.0e-8*I)*C^3*Omega + (4.7e-9 - 1.7e-9*I)*C^2*Omega + (3.3e-11 - 3.0e-11*I)*C*Omega"
      ]
     },
     "metadata": {},
     "output_type": "display_data"
    }
   ],
   "source": [
    "show(symround(err._mathematica_().Numerator()._sage_().expand()))\n",
    "#show(symround(err.numerator().expand()))"
   ]
  },
  {
   "cell_type": "code",
   "execution_count": null,
   "id": "8f113cbf",
   "metadata": {},
   "outputs": [],
   "source": [
    "den = err._mathematica_().Denominator()._sage_().expand()\n",
    "#den = SR(str(MMA_simplify( den,full=False )).replace('Sqrt','sqrt')).simplify()\n",
    "show(symround(den))"
   ]
  },
  {
   "cell_type": "code",
   "execution_count": 41,
   "id": "af6015bc",
   "metadata": {},
   "outputs": [],
   "source": [
    "#plot(abs(err*conjugate(err)),(C,1,500))"
   ]
  },
  {
   "cell_type": "code",
   "execution_count": null,
   "id": "6c3730a5",
   "metadata": {},
   "outputs": [],
   "source": []
  },
  {
   "cell_type": "code",
   "execution_count": 42,
   "id": "e02270de",
   "metadata": {},
   "outputs": [
    {
     "name": "stdout",
     "output_type": "stream",
     "text": [
      "Final matrix\n"
     ]
    },
    {
     "data": {
      "text/html": [
       "<html><script type=\"math/tex; mode=display\">\\newcommand{\\Bold}[1]{\\mathbf{#1}}\\left(\\begin{array}{rrrrrrrr}\n",
       "1.0 & 0.00 & 0.00 & 0.00 & 0.00 & 0.00 & 0.00 & 0.00 \\\\\n",
       "0.00 & 1.0 & 0.00 & 0.00 & 0.00 & 0.00 & 0.00 & 0.00 \\\\\n",
       "0.00 & 0.00 & 1.0 & 0.00 & 0.00 & 0.00 & 0.00 & 0.00 \\\\\n",
       "0.00 & 0.00 & 0.00 & 1.0 & 0.00 & 0.00 & 0.00 & 0.00 \\\\\n",
       "0.00 & 0.00 & 0.00 & 0.00 & 1.0 & 0.00 & 0.00 & 0.00 \\\\\n",
       "0.00 & 0.00 & 0.00 & 0.00 & 0.00 & -1.0 & 0.00 & 0.00 \\\\\n",
       "0.00 & 0.00 & 0.00 & 0.00 & 0.00 & 0.00 & -1.0 & 0.00 \\\\\n",
       "0.00 & 0.00 & 0.00 & 0.00 & 0.00 & 0.00 & 0.00 & 1.0\n",
       "\\end{array}\\right)</script></html>"
      ],
      "text/latex": [
       "$$\\newcommand{\\Bold}[1]{\\mathbf{#1}}\\left(\\begin{array}{rrrrrrrr}\n",
       "1.0 & 0.00 & 0.00 & 0.00 & 0.00 & 0.00 & 0.00 & 0.00 \\\\\n",
       "0.00 & 1.0 & 0.00 & 0.00 & 0.00 & 0.00 & 0.00 & 0.00 \\\\\n",
       "0.00 & 0.00 & 1.0 & 0.00 & 0.00 & 0.00 & 0.00 & 0.00 \\\\\n",
       "0.00 & 0.00 & 0.00 & 1.0 & 0.00 & 0.00 & 0.00 & 0.00 \\\\\n",
       "0.00 & 0.00 & 0.00 & 0.00 & 1.0 & 0.00 & 0.00 & 0.00 \\\\\n",
       "0.00 & 0.00 & 0.00 & 0.00 & 0.00 & -1.0 & 0.00 & 0.00 \\\\\n",
       "0.00 & 0.00 & 0.00 & 0.00 & 0.00 & 0.00 & -1.0 & 0.00 \\\\\n",
       "0.00 & 0.00 & 0.00 & 0.00 & 0.00 & 0.00 & 0.00 & 1.0\n",
       "\\end{array}\\right)$$"
      ],
      "text/plain": [
       "[ 1.0 0.00 0.00 0.00 0.00 0.00 0.00 0.00]\n",
       "[0.00  1.0 0.00 0.00 0.00 0.00 0.00 0.00]\n",
       "[0.00 0.00  1.0 0.00 0.00 0.00 0.00 0.00]\n",
       "[0.00 0.00 0.00  1.0 0.00 0.00 0.00 0.00]\n",
       "[0.00 0.00 0.00 0.00  1.0 0.00 0.00 0.00]\n",
       "[0.00 0.00 0.00 0.00 0.00 -1.0 0.00 0.00]\n",
       "[0.00 0.00 0.00 0.00 0.00 0.00 -1.0 0.00]\n",
       "[0.00 0.00 0.00 0.00 0.00 0.00 0.00  1.0]"
      ]
     },
     "metadata": {},
     "output_type": "display_data"
    },
    {
     "name": "stdout",
     "output_type": "stream",
     "text": [
      "with  complex error\n"
     ]
    },
    {
     "data": {
      "text/html": [
       "<html><script type=\"math/tex; mode=display\">\\newcommand{\\Bold}[1]{\\mathbf{#1}}\\left(\\begin{array}{rrrrrrrr}\n",
       "0.00 & 0.00 & 0.00 & 0.00 & 0.00 & 0.00 & 0.00 & 0.00 \\\\\n",
       "0.00 & 0.00 & 0.00 & 0.00 & 0.00 & 0.00 & 0.00 & 0.00 \\\\\n",
       "0.00 & 0.00 & 0.00 & 0.00 & 0.00 & 0.00 & 0.00 & 0.00 \\\\\n",
       "0.00 & 0.00 & 0.00 & 2.6 \\times 10^{-12}i & 0.00 & 0.00 & 0.00 & 0.00 \\\\\n",
       "0.00 & 0.00 & 0.00 & 0.00 & 0.00 & 0.00 & 0.00 & 0.00 \\\\\n",
       "0.00 & 0.00 & 0.00 & 0.00 & 0.00 & 5.5 \\times 10^{-12}i & 0.00 & 0.00 \\\\\n",
       "0.00 & 0.00 & 0.00 & 0.00 & 0.00 & 0.00 & 5.5 \\times 10^{-12}i & 0.00 \\\\\n",
       "0.00 & 0.00 & 0.00 & 0.00 & 0.00 & 0.00 & 0.00 & 0.032i\n",
       "\\end{array}\\right)</script></html>"
      ],
      "text/latex": [
       "$$\\newcommand{\\Bold}[1]{\\mathbf{#1}}\\left(\\begin{array}{rrrrrrrr}\n",
       "0.00 & 0.00 & 0.00 & 0.00 & 0.00 & 0.00 & 0.00 & 0.00 \\\\\n",
       "0.00 & 0.00 & 0.00 & 0.00 & 0.00 & 0.00 & 0.00 & 0.00 \\\\\n",
       "0.00 & 0.00 & 0.00 & 0.00 & 0.00 & 0.00 & 0.00 & 0.00 \\\\\n",
       "0.00 & 0.00 & 0.00 & 2.6 \\times 10^{-12}i & 0.00 & 0.00 & 0.00 & 0.00 \\\\\n",
       "0.00 & 0.00 & 0.00 & 0.00 & 0.00 & 0.00 & 0.00 & 0.00 \\\\\n",
       "0.00 & 0.00 & 0.00 & 0.00 & 0.00 & 5.5 \\times 10^{-12}i & 0.00 & 0.00 \\\\\n",
       "0.00 & 0.00 & 0.00 & 0.00 & 0.00 & 0.00 & 5.5 \\times 10^{-12}i & 0.00 \\\\\n",
       "0.00 & 0.00 & 0.00 & 0.00 & 0.00 & 0.00 & 0.00 & 0.032i\n",
       "\\end{array}\\right)$$"
      ],
      "text/plain": [
       "[     0.00      0.00      0.00      0.00      0.00      0.00      0.00      0.00]\n",
       "[     0.00      0.00      0.00      0.00      0.00      0.00      0.00      0.00]\n",
       "[     0.00      0.00      0.00      0.00      0.00      0.00      0.00      0.00]\n",
       "[     0.00      0.00      0.00 2.6e-12*I      0.00      0.00      0.00      0.00]\n",
       "[     0.00      0.00      0.00      0.00      0.00      0.00      0.00      0.00]\n",
       "[     0.00      0.00      0.00      0.00      0.00 5.5e-12*I      0.00      0.00]\n",
       "[     0.00      0.00      0.00      0.00      0.00      0.00 5.5e-12*I      0.00]\n",
       "[     0.00      0.00      0.00      0.00      0.00      0.00      0.00   0.032*I]"
      ]
     },
     "metadata": {},
     "output_type": "display_data"
    }
   ],
   "source": [
    "#substitute results\n",
    "rot = sg.copy( eff_hamiltonian_tayl.parent().zero())\n",
    "ent = sg.copy( eff_hamiltonian_tayl.parent().zero())\n",
    "\n",
    "\n",
    "t =  t_g.subs(c=c_val,C=100*c_val,R_f=1,r_g=0.1,r_f=0.1,Deg1=0.0012) \n",
    "\n",
    "\n",
    "t1 = (a-b).subs(c=c_val,C=100*c_val,R_f=1,r_g=0.1,r_f=0.1,Deg1=0.0012) *t\n",
    "t2 = (a-b).subs(c=c_val,C=100*c_val,R_f=1,r_g=0.1,r_f=0.1,Deg1=0.0012) *t\n",
    "t3 = (a-d).subs(c=c_val,C=100*c_val,R_f=1,r_g=0.1,r_f=0.1,Deg1=0.0012)  *t\n",
    "\n",
    "r_add = [0, t1, t2, t1+t2, t3, t3+t1, t3+t2, t3+t1+t2 ]\n",
    "en = [a,b,b,c,d,e,e,f]\n",
    "for i in range(8):\n",
    "    rot[i,i] = exp(I*r_add[i])\n",
    "    ent[i,i] = exp( (en[i]-a).subs(c=c_val,C=100*c_val,R_f=1,r_g=0.1,r_f=0.1,Deg1=0.0012) *t*sg.I)\n",
    "\n",
    "U = rot*ent\n",
    "\n",
    "U = U.subs(t = pi/(e+a-b-d).subs(c=c_val,C=100*c_val,R_f=1,r_g=0.1,r_f=0.1,Deg1=0.0012) )\n",
    "U = MMA_simplify(U)\n",
    "Un = U.n(digits=1)\n",
    "print('Final matrix')\n",
    "show(((Un.n(digits=1))+conjugate((Un.n(digits=1))))/2)\n",
    "\n",
    "print('with  complex error')\n",
    "show(((Un.n(digits=1))-conjugate((Un.n(digits=1))))/2)"
   ]
  },
  {
   "cell_type": "code",
   "execution_count": 20,
   "id": "5b9785bf",
   "metadata": {},
   "outputs": [
    {
     "name": "stdout",
     "output_type": "stream",
     "text": [
      "Calculating 0 out of [0, 1, 18, 19, 48, 49, 66, 67]...\n",
      "Calculating 1 out of [0, 1, 18, 19, 48, 49, 66, 67]...\n",
      "Calculating 18 out of [0, 1, 18, 19, 48, 49, 66, 67]...\n",
      "Calculating 19 out of [0, 1, 18, 19, 48, 49, 66, 67]...\n",
      "Calculating 48 out of [0, 1, 18, 19, 48, 49, 66, 67]...\n",
      "Calculating 49 out of [0, 1, 18, 19, 48, 49, 66, 67]...\n",
      "Calculating 66 out of [0, 1, 18, 19, 48, 49, 66, 67]...\n",
      "Calculating 67 out of [0, 1, 18, 19, 48, 49, 66, 67]...\n",
      "\n",
      " Done! \n"
     ]
    }
   ],
   "source": [
    "#phi_val = np.pi/180 * 30\n",
    "n = 0\n",
    "\n",
    "total_indices = s1.variable_index\n",
    "\n",
    "var('De1', domain='positive')\n",
    "var('Deg1', domain='positive' , latex_name =r'{{\\Delta e}}_{{  1}}^\\gamma')\n",
    "var('De2', domain='positive')\n",
    "var('Deg2', domain='positive' , latex_name =r'{{\\Delta e}}_{{  2}}^\\gamma')\n",
    "var('De3', domain='positive')\n",
    "var('Deg3', domain='positive' , latex_name =r'{{\\Delta e}}_{{  3}}^\\gamma')    \n",
    "\n",
    "var('gamma','DE','De','g','g_f','Omega','v','gamma_f','gamma_g','phi',domain='positive')\n",
    "var('DEg', domain='positive' , latex_name =r'{{\\Delta E}}^\\gamma')\n",
    "var('kappa_c','kappa_b',domain='positive')\n",
    "var('C',domain='positive')\n",
    "var('c',domain='positive',  latex_name =r'c')\n",
    "var('r_f',domain='positive',latex_name =r'r_f')\n",
    "var('r_g',domain='positive',latex_name =r'r_g')\n",
    "var('R_f',domain='positive')#ratio  (g_f/g)^2\n",
    "eff_hamiltonian_tayl = sg.copy( s1.eff_hamiltonian.parent().zero())\n",
    "for diag in s1.pos_gs:\n",
    "    print(f'Calculating {diag} out of {s1.pos_gs}...')\n",
    "    min_expr_len = 10**10\n",
    "    for term in range(1):\n",
    "        b = s1.eff_hamiltonian[diag,diag]\n",
    "        b = b.operands()[1].operands()[term]\n",
    "        if len(str(b))<10: #we isolated Omega^2 instead of one of the conjugate pairs\n",
    "            b = s1.eff_hamiltonian[diag,diag].operands()[0].operands()[term]\n",
    "        \n",
    "        b = b._mathematica_().ReplaceAll(f'DE->DEg*gamma*C^({n})')._sage_()\n",
    "        #b = b.subs(DE = DEg*gamma*C^n)\n",
    "        \n",
    "        b = b._mathematica_().ReplaceAll(f'De1->Deg1*gamma*C^({n})')._sage_()\n",
    "        #b = b.subs(De1 = Deg1*gamma*C^n) #sqrt C scaling!?\n",
    "        \n",
    "        b = b._mathematica_().ReplaceAll(f'De2->Deg2*gamma*C^({n})')._sage_()\n",
    "        #b = b.subs(De2 = Deg2*gamma*C^n) #MAKE ZERO\n",
    "        \n",
    "        b = b._mathematica_().ReplaceAll(f'De3->Deg2*gamma*C^({n})')._sage_()\n",
    "        #b = b.subs(De3 = Deg3*gamma*C^n) #MAKE ZERO  \n",
    "        \n",
    "        #b = b.subs(phi = phi_val)\n",
    "        \n",
    "        #b = MMA_simplify(b)\n",
    "        \n",
    "        #b = b._mathematica_().ReplaceAll('g_f->g*(R_f)^(1/2)')._sage_()\n",
    "        b = b.subs(g_f=g*(R_f)^(1/2))\n",
    "\n",
    "        b = b._mathematica_().ReplaceAll('gamma_f->gamma*r_f')._sage_()\n",
    "        #b = b.subs(gamma_f=gamma*r_f)\n",
    "\n",
    "        b = b._mathematica_().ReplaceAll('gamma_g->gamma*r_g')._sage_()\n",
    "        #b = b.subs(gamma_g=gamma*r_g)\n",
    "        \n",
    "        #b = b._mathematica_().ReplaceAll(\"g-> (C*gamma*kappa_c)^(1/2)\")._sage_()\n",
    "        b = b.subs(g = (C*gamma*kappa_c)^(1/2)) \n",
    "        \n",
    "        b = b._mathematica_().ReplaceAll('v->(c*kappa_b*kappa_c)^(1/2)')._sage_()\n",
    "        #b = b.subs(v = (c*kappa_b*kappa_c)^(1/2) )\n",
    "        \n",
    "        \n",
    "\n",
    "        #Substitutions\n",
    "        #b = b.subs(c=np.pi,R_f=2.1,Deg=np.e,DEg=np.sqrt(5),r_g=np.sqrt(3),r_f=np.sqrt(2), phi=phi_val) \n",
    "        #b = b.subs(phi=phi_val)\n",
    "\n",
    "        #b = b._mathematica_().Factor()._sage_()\n",
    "        #b = b._mathematica_().Together()._sage_()\n",
    "\n",
    "\n",
    "        b = SR(str(b).replace('Sqrt','sqrt'))\n",
    "        if len(str(b))<min_expr_len:\n",
    "            min_expr_len = len(str(b))\n",
    "            h_eff = b\n",
    "    \n",
    "    h_eff = h_eff.subs(c=C)\n",
    "    h_eff = MMA_simplify(h_eff)\n",
    "    '''\n",
    "    h_eff = SR(str(h_eff).replace('Sqrt','sqrt'))\n",
    "    var('x')\n",
    "    h_eff = h_eff.subs(C=1/x)\n",
    "    h_eff = MMA_simplify(h_eff)\n",
    "    h_eff = h_eff._mathematica_().Series((x,0,1)).Normal()._sage_()\n",
    "    h_eff = h_eff.subs(x=1/C)\n",
    "    '''\n",
    "    h_eff = SR(str(h_eff).replace('Sqrt','sqrt'))\n",
    "    eff_hamiltonian_tayl[diag,diag] = h_eff  * Omega^2 / 2\n",
    "\n",
    "print('\\n Done! ')\n",
    "#show(symround(eff_hamiltonian_tayl[s1.pos_gs,s1.pos_gs],digits=3))\n",
    "\n",
    "\n",
    "eff_hamiltonian_tayl_temp = eff_hamiltonian_tayl[s1.pos_gs,s1.pos_gs] \n",
    "\n",
    "eff_hamiltonian_tayl = eff_hamiltonian_tayl_temp\n",
    "a = eff_hamiltonian_tayl[0,0]\n",
    "#a = symround( MMA_simplify(a,full=False) ,digits = 14)\n",
    "b = eff_hamiltonian_tayl[1,1]\n",
    "#b = symround(MMA_simplify(b,full=False),digits = 14)\n",
    "c = eff_hamiltonian_tayl[3,3]\n",
    "#c = symround(MMA_simplify(c,full=False),digits = 14)\n",
    "d = eff_hamiltonian_tayl[4,4]\n",
    "#d = symround(MMA_simplify(d,full=False),digits = 14)\n",
    "e = eff_hamiltonian_tayl[5,5]\n",
    "#e = symround(MMA_simplify(e,full=False),digits = 14)\n",
    "f = eff_hamiltonian_tayl[7,7]\n",
    "#f = symround(MMA_simplify(f,full=False),digits = 14)"
   ]
  },
  {
   "cell_type": "code",
   "execution_count": 115,
   "id": "c8123bb9",
   "metadata": {},
   "outputs": [],
   "source": [
    "ham = (eff_hamiltonian_tayl_temp )\n",
    "c_ham = conjugate(ham)\n",
    "#eff_hamiltonian_tayl =   sg.matrix( ham._mathematica_().Plus(c_ham)._sage_() )/2\n",
    "eff_hamiltonian_tayl = (ham +c_ham)/2"
   ]
  },
  {
   "cell_type": "code",
   "execution_count": 30,
   "id": "17ddb8e8",
   "metadata": {},
   "outputs": [],
   "source": [
    "eff_hamiltonian_tayl = eff_hamiltonian_tayl_temp\n"
   ]
  },
  {
   "cell_type": "code",
   "execution_count": 39,
   "id": "4ccca15e",
   "metadata": {},
   "outputs": [
    {
     "name": "stdout",
     "output_type": "stream",
     "text": [
      "symround: Deleted coefficient 6.2e-17\n",
      "symround: Deleted coefficient 4.8e-17\n",
      "symround: Deleted coefficient 1.7e-18\n",
      "symround: Deleted coefficient 1.7e-18\n",
      "symround: Deleted coefficient 2.5e-18\n",
      "Numerator\n"
     ]
    },
    {
     "data": {
      "text/html": [
       "<html><script type=\"math/tex; mode=display\">\\newcommand{\\Bold}[1]{\\mathbf{#1}}\\left(0.053 - 0.81i\\right) \\, C^{18} \\Omega^{2} + \\left(9.9 + 0.077i\\right) \\, C^{17} \\Omega^{2} + \\left(3.7 + 46.i\\right) \\, C^{16} \\Omega^{2} + \\left(23 i - 100\\right) \\, C^{15} \\Omega^{2} - \\left(56. + 110.i\\right) \\, C^{14} \\Omega^{2} - \\left(63 i - 59\\right) \\, C^{13} \\Omega^{2} + \\left(38. + 13.i\\right) \\, C^{12} \\Omega^{2} + \\left(2.5 + 13.i\\right) \\, C^{11} \\Omega^{2} - \\left(2.5 - 2.3i\\right) \\, C^{10} \\Omega^{2} - \\left(0.61 + 0.13i\\right) \\, C^{9} \\Omega^{2} - \\left(0.038 + 0.078i\\right) \\, C^{8} \\Omega^{2} + \\left(0.0036 - 0.0082i\\right) \\, C^{7} \\Omega^{2} + \\left(0.00063 - 0.00023i\\right) \\, C^{6} \\Omega^{2} + \\left(0.000032 + 0.000013i\\right) \\, C^{5} \\Omega^{2} + \\left(5.4 \\times 10^{-7} + 9.7 \\times 10^{-7}i\\right) \\, C^{4} \\Omega^{2} - \\left(1.1 \\times 10^{-9} - 1.7 \\times 10^{-8}i\\right) \\, C^{3} \\Omega^{2}</script></html>"
      ],
      "text/latex": [
       "$$\\newcommand{\\Bold}[1]{\\mathbf{#1}}\\left(0.053 - 0.81i\\right) \\, C^{18} \\Omega^{2} + \\left(9.9 + 0.077i\\right) \\, C^{17} \\Omega^{2} + \\left(3.7 + 46.i\\right) \\, C^{16} \\Omega^{2} + \\left(23 i - 100\\right) \\, C^{15} \\Omega^{2} - \\left(56. + 110.i\\right) \\, C^{14} \\Omega^{2} - \\left(63 i - 59\\right) \\, C^{13} \\Omega^{2} + \\left(38. + 13.i\\right) \\, C^{12} \\Omega^{2} + \\left(2.5 + 13.i\\right) \\, C^{11} \\Omega^{2} - \\left(2.5 - 2.3i\\right) \\, C^{10} \\Omega^{2} - \\left(0.61 + 0.13i\\right) \\, C^{9} \\Omega^{2} - \\left(0.038 + 0.078i\\right) \\, C^{8} \\Omega^{2} + \\left(0.0036 - 0.0082i\\right) \\, C^{7} \\Omega^{2} + \\left(0.00063 - 0.00023i\\right) \\, C^{6} \\Omega^{2} + \\left(0.000032 + 0.000013i\\right) \\, C^{5} \\Omega^{2} + \\left(5.4 \\times 10^{-7} + 9.7 \\times 10^{-7}i\\right) \\, C^{4} \\Omega^{2} - \\left(1.1 \\times 10^{-9} - 1.7 \\times 10^{-8}i\\right) \\, C^{3} \\Omega^{2}$$"
      ],
      "text/plain": [
       "(0.053 - 0.81*I)*C^18*Omega^2 + (9.9 + 0.077*I)*C^17*Omega^2 + (3.7 + 46.*I)*C^16*Omega^2 + (23*I - 100)*C^15*Omega^2 - (56. + 110.*I)*C^14*Omega^2 - (63*I - 59)*C^13*Omega^2 + (38. + 13.*I)*C^12*Omega^2 + (2.5 + 13.*I)*C^11*Omega^2 - (2.5 - 2.3*I)*C^10*Omega^2 - (0.61 + 0.13*I)*C^9*Omega^2 - (0.038 + 0.078*I)*C^8*Omega^2 + (0.0036 - 0.0082*I)*C^7*Omega^2 + (0.00063 - 0.00023*I)*C^6*Omega^2 + (0.000032 + 0.000013*I)*C^5*Omega^2 + (5.4e-7 + 9.7e-7*I)*C^4*Omega^2 - (1.1e-9 - 1.7e-8*I)*C^3*Omega^2"
      ]
     },
     "metadata": {},
     "output_type": "display_data"
    },
    {
     "name": "stdout",
     "output_type": "stream",
     "text": [
      "\n",
      "\n",
      "Denominator\n"
     ]
    },
    {
     "data": {
      "text/html": [
       "<html><script type=\"math/tex; mode=display\">\\newcommand{\\Bold}[1]{\\mathbf{#1}}C^{20} + \\left(3.7 + 22.i\\right) \\, C^{19} + \\left(72 i - 200\\right) \\, C^{18} - \\left(960 i + 592\\right) \\, C^{17} - \\left(2624 i - 2560\\right) \\, C^{16} + \\left(3456 i + 6784\\right) \\, C^{15} + \\left(10240 i - 960\\right) \\, C^{14} + \\left(3488 i - 8704\\right) \\, C^{13} - \\left(3424 i + 4800\\right) \\, C^{12} - \\left(36. + 2700.i\\right) \\, C^{11} - \\left(616 i - 720\\right) \\, C^{10} + \\left(33 i + 254\\right) \\, C^{9} + \\left(32. + 43.i\\right) \\, C^{8} - \\left(0.97 - 8.9i\\right) \\, C^{7} - \\left(0.86 - 0.79i\\right) \\, C^{6} - \\left(0.12 - 0.0071i\\right) \\, C^{5} - \\left(0.0076 + 0.0049i\\right) \\, C^{4} - \\left(0.00020 + 0.00047i\\right) \\, C^{3} + \\left(2.6 \\times 10^{-6} - 0.000020i\\right) \\, C^{2} + \\left(2.6 \\times 10^{-7} - 3.8 \\times 10^{-7}i\\right) \\, C + 4.2 \\times 10^{-9} - 2.6 \\times 10^{-9}i</script></html>"
      ],
      "text/latex": [
       "$$\\newcommand{\\Bold}[1]{\\mathbf{#1}}C^{20} + \\left(3.7 + 22.i\\right) \\, C^{19} + \\left(72 i - 200\\right) \\, C^{18} - \\left(960 i + 592\\right) \\, C^{17} - \\left(2624 i - 2560\\right) \\, C^{16} + \\left(3456 i + 6784\\right) \\, C^{15} + \\left(10240 i - 960\\right) \\, C^{14} + \\left(3488 i - 8704\\right) \\, C^{13} - \\left(3424 i + 4800\\right) \\, C^{12} - \\left(36. + 2700.i\\right) \\, C^{11} - \\left(616 i - 720\\right) \\, C^{10} + \\left(33 i + 254\\right) \\, C^{9} + \\left(32. + 43.i\\right) \\, C^{8} - \\left(0.97 - 8.9i\\right) \\, C^{7} - \\left(0.86 - 0.79i\\right) \\, C^{6} - \\left(0.12 - 0.0071i\\right) \\, C^{5} - \\left(0.0076 + 0.0049i\\right) \\, C^{4} - \\left(0.00020 + 0.00047i\\right) \\, C^{3} + \\left(2.6 \\times 10^{-6} - 0.000020i\\right) \\, C^{2} + \\left(2.6 \\times 10^{-7} - 3.8 \\times 10^{-7}i\\right) \\, C + 4.2 \\times 10^{-9} - 2.6 \\times 10^{-9}i$$"
      ],
      "text/plain": [
       "C^20 + (3.7 + 22.*I)*C^19 + (72*I - 200)*C^18 - (960*I + 592)*C^17 - (2624*I - 2560)*C^16 + (3456*I + 6784)*C^15 + (10240*I - 960)*C^14 + (3488*I - 8704)*C^13 - (3424*I + 4800)*C^12 - (36. + 2700.*I)*C^11 - (616*I - 720)*C^10 + (33*I + 254)*C^9 + (32. + 43.*I)*C^8 - (0.97 - 8.9*I)*C^7 - (0.86 - 0.79*I)*C^6 - (0.12 - 0.0071*I)*C^5 - (0.0076 + 0.0049*I)*C^4 - (0.00020 + 0.00047*I)*C^3 + (2.6e-6 - 0.000020*I)*C^2 + (2.6e-7 - 3.8e-7*I)*C + 4.2e-9 - 2.6e-9*I"
      ]
     },
     "metadata": {},
     "output_type": "display_data"
    }
   ],
   "source": [
    "m = 1\n",
    "x = symround(f.subs(R_f=2.1,Deg1=np.sqrt(2)*C^m,Deg2=np.e*C^m,DEg=np.sqrt(5)*C^m,r_g=np.sqrt(3),gamma=0.3,r_f=0.1*np.sqrt(2), phi=np.pi/10,gamma_f=1.45,gamma_g=3))\n",
    "x = x._mathematica_().Together().sage()\n",
    "print('Numerator')\n",
    "show(symround(x._mathematica_().Numerator()._sage_().expand()))\n",
    "print('\\n\\nDenominator')\n",
    "show(symround(x._mathematica_().Denominator()._sage_().expand()))"
   ]
  },
  {
   "cell_type": "code",
   "execution_count": 1,
   "id": "961a2690",
   "metadata": {},
   "outputs": [],
   "source": []
  },
  {
   "cell_type": "code",
   "execution_count": null,
   "id": "141f7f6f",
   "metadata": {},
   "outputs": [],
   "source": []
  },
  {
   "cell_type": "code",
   "execution_count": null,
   "id": "c195569b",
   "metadata": {},
   "outputs": [],
   "source": []
  },
  {
   "cell_type": "code",
   "execution_count": null,
   "id": "cf0b2c1e",
   "metadata": {},
   "outputs": [],
   "source": []
  }
 ],
 "metadata": {
  "kernelspec": {
   "display_name": "SageMath 9.3",
   "language": "sage",
   "name": "sagemath"
  },
  "language_info": {
   "codemirror_mode": {
    "name": "ipython",
    "version": 3
   },
   "file_extension": ".py",
   "mimetype": "text/x-python",
   "name": "python",
   "nbconvert_exporter": "python",
   "pygments_lexer": "ipython3",
   "version": "3.9.2"
  }
 },
 "nbformat": 4,
 "nbformat_minor": 5
}
