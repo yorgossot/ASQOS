{
 "cells": [
  {
   "cell_type": "markdown",
   "id": "11ebbd1c",
   "metadata": {},
   "source": [
    "# Many Variables  GHZ\n",
    "\n",
    "$c = C$  but no scalings"
   ]
  },
  {
   "cell_type": "code",
   "execution_count": 1,
   "id": "a43f3bbd",
   "metadata": {
    "scrolled": false
   },
   "outputs": [
    {
     "name": "stdout",
     "output_type": "stream",
     "text": [
      "Started!\n",
      "Initializing system o-o-x-o-  ...\n",
      "Constructing states and excitations...\n",
      "Constructing ground and first-excited statespace...\n",
      "Constructing gs_hamiltonian ...\n",
      "Constructing e1_hamiltonian ...\n",
      "Constructing interactions V_plus and V_minus ...\n",
      "Constructing NJ_hamiltonian  ...\n",
      "Inverting NJ_hamiltonian  ...\n",
      "Constructing eff_hamiltonian and effective lindblau operators ...\n",
      "\n",
      "System  o-o-x-o-  initialized in 569.7 seconds.\n"
     ]
    }
   ],
   "source": [
    "print('Started!')\n",
    "from system import *\n",
    "s1 = system('o-o-x-o-',MMA=True,ManyVariables = True)\n",
    "#s1 = load_object('GHZ')"
   ]
  },
  {
   "cell_type": "markdown",
   "id": "20c87d69",
   "metadata": {},
   "source": [
    "# Effective Hamiltonian Matrix obtain "
   ]
  },
  {
   "cell_type": "code",
   "execution_count": 1,
   "id": "6398d4bb",
   "metadata": {
    "scrolled": true
   },
   "outputs": [
    {
     "ename": "NameError",
     "evalue": "name 's1' is not defined",
     "output_type": "error",
     "traceback": [
      "\u001b[0;31m---------------------------------------------------------------------------\u001b[0m",
      "\u001b[0;31mNameError\u001b[0m                                 Traceback (most recent call last)",
      "\u001b[0;32m<ipython-input-1-141902d937ad>\u001b[0m in \u001b[0;36m<module>\u001b[0;34m\u001b[0m\n\u001b[1;32m      1\u001b[0m \u001b[0mn\u001b[0m \u001b[0;34m=\u001b[0m \u001b[0mInteger\u001b[0m\u001b[0;34m(\u001b[0m\u001b[0;36m0\u001b[0m\u001b[0;34m)\u001b[0m  \u001b[0;31m#exponent\u001b[0m\u001b[0;34m\u001b[0m\u001b[0;34m\u001b[0m\u001b[0m\n\u001b[1;32m      2\u001b[0m \u001b[0;34m\u001b[0m\u001b[0m\n\u001b[0;32m----> 3\u001b[0;31m \u001b[0mtotal_indices\u001b[0m \u001b[0;34m=\u001b[0m \u001b[0ms1\u001b[0m\u001b[0;34m.\u001b[0m\u001b[0mvariable_index\u001b[0m\u001b[0;34m\u001b[0m\u001b[0;34m\u001b[0m\u001b[0m\n\u001b[0m\u001b[1;32m      4\u001b[0m \u001b[0;34m\u001b[0m\u001b[0m\n\u001b[1;32m      5\u001b[0m \u001b[0mvar\u001b[0m\u001b[0;34m(\u001b[0m\u001b[0;34m'De1'\u001b[0m\u001b[0;34m,\u001b[0m \u001b[0mdomain\u001b[0m\u001b[0;34m=\u001b[0m\u001b[0;34m'positive'\u001b[0m\u001b[0;34m)\u001b[0m\u001b[0;34m\u001b[0m\u001b[0;34m\u001b[0m\u001b[0m\n",
      "\u001b[0;31mNameError\u001b[0m: name 's1' is not defined"
     ]
    }
   ],
   "source": [
    "n = 0  #exponent\n",
    "\n",
    "total_indices = s1.variable_index\n",
    "\n",
    "var('De1', domain='positive')\n",
    "var('Deg1', domain='positive' , latex_name =r'{{\\Delta e}}_{{  1}}^\\gamma')\n",
    "var('De2', domain='positive')\n",
    "var('Deg2', domain='positive' , latex_name =r'{{\\Delta e}}_{{  2}}^\\gamma')\n",
    "var('De3', domain='positive')\n",
    "var('Deg3', domain='positive' , latex_name =r'{{\\Delta e}}_{{  3}}^\\gamma')    \n",
    "\n",
    "var('gamma','DE','De','g','g_f','Omega','v','gamma_f','gamma_g','phi',domain='positive')\n",
    "var('DEg', domain='positive' , latex_name =r'{{\\Delta E}}^\\gamma')\n",
    "var('kappa_c','kappa_b',domain='positive')\n",
    "var('C',domain='positive')\n",
    "var('c',domain='positive',  latex_name =r'c')\n",
    "var('r_f',domain='positive',latex_name =r'r_f')\n",
    "var('r_g',domain='positive',latex_name =r'r_g')\n",
    "var('R_f',domain='positive')#ratio  (g_f/g)^2\n",
    "eff_hamiltonian_tayl = sg.copy( s1.eff_hamiltonian.parent().zero())\n",
    "for diag in s1.pos_gs:\n",
    "    print(f'Calculating {diag} out of {s1.pos_gs}...')\n",
    "    min_expr_len = 10**10\n",
    "    for term in range(1):\n",
    "        b = s1.eff_hamiltonian[diag,diag]\n",
    "        b = b.operands()[1].operands()[term]\n",
    "        if len(str(b))<10: #we isolated Omega^2 instead of one of the conjugate pairs\n",
    "            b = s1.eff_hamiltonian[diag,diag].operands()[0].operands()[term]\n",
    "        \n",
    "        b = b._mathematica_().ReplaceAll(f'DE->DEg*gamma*C^({n})')._sage_()\n",
    "        #b = b.subs(DE = DEg*gamma*C^n)\n",
    "        \n",
    "        b = b._mathematica_().ReplaceAll(f'De1->Deg1*gamma*C^({n})')._sage_()\n",
    "        #b = b.subs(De1 = Deg1*gamma*C^n) #sqrt C scaling!?\n",
    "        \n",
    "        b = b._mathematica_().ReplaceAll(f'De2->Deg2*gamma*C^({n})')._sage_()\n",
    "        #b = b.subs(De2 = Deg2*gamma*C^n) #MAKE ZERO\n",
    "        \n",
    "        b = b._mathematica_().ReplaceAll(f'De3->Deg2*gamma*C^({n})')._sage_()\n",
    "        #b = b.subs(De3 = Deg3*gamma*C^n) #MAKE ZERO  \n",
    "        \n",
    "        #b = b.subs(phi = phi_val)\n",
    "        \n",
    "        #b = MMA_simplify(b)\n",
    "        \n",
    "        #b = b._mathematica_().ReplaceAll('g_f->g*(R_f)^(1/2)')._sage_()\n",
    "        b = b.subs(g_f=g*(R_f)^(1/2))\n",
    "\n",
    "        b = b._mathematica_().ReplaceAll('gamma_f->gamma*r_f')._sage_()\n",
    "        #b = b.subs(gamma_f=gamma*r_f)\n",
    "\n",
    "        b = b._mathematica_().ReplaceAll('gamma_g->gamma*r_g')._sage_()\n",
    "        #b = b.subs(gamma_g=gamma*r_g)\n",
    "        \n",
    "        #b = b._mathematica_().ReplaceAll(\"g-> (C*gamma*kappa_c)^(1/2)\")._sage_()\n",
    "        b = b.subs(g = (C*gamma*kappa_c)^(1/2)) \n",
    "        \n",
    "        b = b._mathematica_().ReplaceAll('v->(c*kappa_b*kappa_c)^(1/2)')._sage_()\n",
    "        #b = b.subs(v = (c*kappa_b*kappa_c)^(1/2) )\n",
    "        \n",
    "        \n",
    "\n",
    "        #Substitutions\n",
    "        #b = b.subs(c=np.pi,R_f=2.1,Deg=np.e,DEg=np.sqrt(5),r_g=np.sqrt(3),r_f=np.sqrt(2), phi=phi_val) \n",
    "        #b = b.subs(phi=phi_val)\n",
    "\n",
    "        #b = b._mathematica_().Factor()._sage_()\n",
    "        #b = b._mathematica_().Together()._sage_()\n",
    "\n",
    "\n",
    "        b = SR(str(b).replace('Sqrt','sqrt'))\n",
    "        if len(str(b))<min_expr_len:\n",
    "            min_expr_len = len(str(b))\n",
    "            h_eff = b\n",
    "    \n",
    "    h_eff = h_eff.subs(c=C)\n",
    "    h_eff = MMA_simplify(h_eff)\n",
    "    '''\n",
    "    h_eff = SR(str(h_eff).replace('Sqrt','sqrt'))\n",
    "    var('x')\n",
    "    h_eff = h_eff.subs(C=1/x)\n",
    "    h_eff = MMA_simplify(h_eff)\n",
    "    h_eff = h_eff._mathematica_().Series((x,0,1)).Normal()._sage_()\n",
    "    h_eff = h_eff.subs(x=1/C)\n",
    "    '''\n",
    "    h_eff = SR(str(h_eff).replace('Sqrt','sqrt'))\n",
    "    eff_hamiltonian_tayl[diag,diag] = h_eff  * Omega^2 / 2\n",
    "\n",
    "print('\\n Done! ')\n",
    "#show(symround(eff_hamiltonian_tayl[s1.pos_gs,s1.pos_gs],digits=3))\n",
    "\n",
    "\n",
    "eff_hamiltonian_tayl_temp = eff_hamiltonian_tayl[s1.pos_gs,s1.pos_gs] \n",
    "\n",
    "\n",
    "\n",
    "lind_op_number = len(s1.lindblau_list)\n",
    "\n",
    "eff_lind_taylor = []\n",
    "eff_lind = []\n",
    "eff_lind_coeff = []\n",
    "for lind_op in range(lind_op_number):\n",
    "    print(f'{lind_op} out of {lind_op_number-1}')\n",
    "    eff_lind_taylor.append([])\n",
    "    eff_lind.append([])\n",
    "    L_matrix = s1.eff_lindblau_list[lind_op]\n",
    "    L_nonzeros = []\n",
    "    L_nonzeros_pos = []\n",
    "    for i in  range(L_matrix.nrows()):\n",
    "        for j in  range(L_matrix.ncols()):\n",
    "            if not str(symround(L_matrix[i,j]))==str(0):\n",
    "                L_nonzeros.append(L_matrix[i,j])\n",
    "                L_nonzeros_pos.append((i,j))\n",
    "    eff_lind_coeff.append(s1.L_coeffs[lind_op])\n",
    "    \n",
    "    for which in range(len(L_nonzeros)):\n",
    "\n",
    "        L_elem = L_nonzeros[which]\n",
    "        b = L_elem\n",
    "        \n",
    "        b = b._mathematica_().ReplaceAll(f'DE->DEg*gamma*C^({n})')._sage_()\n",
    "        #b = b.subs(DE = DEg*gamma*C^n)\n",
    "        \n",
    "        b = b._mathematica_().ReplaceAll(f'De1->Deg1*gamma*C^({n})')._sage_()\n",
    "        #b = b.subs(De1 = Deg1*gamma*C^n) #sqrt C scaling!?\n",
    "        \n",
    "        b = b._mathematica_().ReplaceAll(f'De2->Deg2*gamma*C^({n})')._sage_()\n",
    "        #b = b.subs(De2 = Deg2*gamma*C^n) #MAKE ZERO\n",
    "        \n",
    "        b = b._mathematica_().ReplaceAll(f'De3->Deg2*gamma*C^({n})')._sage_()\n",
    "        #b = b.subs(De3 = Deg3*gamma*C^n) #MAKE ZERO  \n",
    "        \n",
    "        #b = b.subs(phi = phi_val)\n",
    "        \n",
    "        #b = MMA_simplify(b)\n",
    "        \n",
    "        #b = b._mathematica_().ReplaceAll('g_f->g*(R_f)^(1/2)')._sage_()\n",
    "        b = b.subs(g_f=g*(R_f)^(1/2))\n",
    "\n",
    "        b = b._mathematica_().ReplaceAll('gamma_f->gamma*r_f')._sage_()\n",
    "        #b = b.subs(gamma_f=gamma*r_f)\n",
    "\n",
    "        b = b._mathematica_().ReplaceAll('gamma_g->gamma*r_g')._sage_()\n",
    "        #b = b.subs(gamma_g=gamma*r_g)\n",
    "        \n",
    "        #b = b._mathematica_().ReplaceAll(\"g-> (C*gamma*kappa_c)^(1/2)\")._sage_()\n",
    "        b = b.subs(g = (C*gamma*kappa_c)^(1/2)) \n",
    "        \n",
    "        b = b._mathematica_().ReplaceAll('v->(c*kappa_b*kappa_c)^(1/2)')._sage_()\n",
    "        \n",
    "        b = b.subs(c=C)\n",
    "        \n",
    "        b = SR(str(b).replace('Sqrt','sqrt'))\n",
    "        \n",
    "        eff_lind[lind_op].append(b)\n",
    "        \n",
    "print('\\n Done!')\n",
    "\n",
    "\n",
    "eff_hamiltonian_tayl = eff_hamiltonian_tayl_temp\n",
    "\n",
    "a = eff_hamiltonian_tayl[0,0]\n",
    "#a = symround( MMA_simplify(a,full=False) ,digits = 14)\n",
    "b = eff_hamiltonian_tayl[1,1]\n",
    "#b = symround(MMA_simplify(b,full=False),digits = 14)\n",
    "c = eff_hamiltonian_tayl[3,3]\n",
    "#c = symround(MMA_simplify(c,full=False),digits = 14)\n",
    "d = eff_hamiltonian_tayl[4,4]\n",
    "#d = symround(MMA_simplify(d,full=False),digits = 14)\n",
    "e = eff_hamiltonian_tayl[5,5]\n",
    "#e = symround(MMA_simplify(e,full=False),digits = 14)\n",
    "f = eff_hamiltonian_tayl[7,7]\n",
    "#f = symround(MMA_simplify(f,full=False),digits = 14)"
   ]
  },
  {
   "cell_type": "markdown",
   "id": "f1ddbf1c",
   "metadata": {},
   "source": [
    "# Isolate highest powers"
   ]
  },
  {
   "cell_type": "code",
   "execution_count": 3,
   "id": "e138f038",
   "metadata": {},
   "outputs": [],
   "source": [
    "a = eff_hamiltonian_tayl[0,0]\n",
    "#a = symround( MMA_simplify(a,full=False) ,digits = 14)\n",
    "b = eff_hamiltonian_tayl[1,1]\n",
    "#b = symround(MMA_simplify(b,full=False),digits = 14)\n",
    "c = eff_hamiltonian_tayl[3,3]\n",
    "#c = symround(MMA_simplify(c,full=False),digits = 14)\n",
    "d = eff_hamiltonian_tayl[4,4]\n",
    "#d = symround(MMA_simplify(d,full=False),digits = 14)\n",
    "e = eff_hamiltonian_tayl[5,5]\n",
    "#e = symround(MMA_simplify(e,full=False),digits = 14)\n",
    "f = eff_hamiltonian_tayl[7,7]\n",
    "#f = symround(MMA_simplify(f,full=False),digits = 14)\n",
    "\n",
    "\n",
    "#SUBSTITUTIONS\n",
    "phival = 0\n",
    "R_fval = 1\n",
    "gamma_fval = gamma\n",
    "gamma_gval = gamma\n",
    "\n",
    "\n",
    "#modify abcdef\n",
    "a = (a + conjugate(a)).subs(phi=phival,R_f=R_fval ,gamma_g = gamma_gval , gamma_f = gamma_fval)._mathematica_().Together()._sage_()\n",
    "b = (b + conjugate(b)).subs(phi=phival,R_f=R_fval ,gamma_g = gamma_gval , gamma_f = gamma_fval)._mathematica_().Together()._sage_()\n",
    "c = (c + conjugate(c)).subs(phi=phival,R_f=R_fval ,gamma_g = gamma_gval , gamma_f = gamma_fval)._mathematica_().Together()._sage_()\n",
    "d = (d + conjugate(d)).subs(phi=phival,R_f=R_fval ,gamma_g = gamma_gval , gamma_f = gamma_fval)._mathematica_().Together()._sage_()\n",
    "e = (e + conjugate(e)).subs(phi=phival,R_f=R_fval ,gamma_g = gamma_gval , gamma_f = gamma_fval)._mathematica_().Together()._sage_()\n",
    "f = (f + conjugate(f)).subs(phi=phival,R_f=R_fval ,gamma_g = gamma_gval , gamma_f = gamma_fval)._mathematica_().Together()._sage_()"
   ]
  },
  {
   "cell_type": "code",
   "execution_count": 6,
   "id": "e6d6f35e",
   "metadata": {},
   "outputs": [],
   "source": [
    "term_list = [a,b,c,d,e,f]\n",
    "high_c_limit = [  ]\n",
    "\n",
    "for term in term_list:\n",
    "    num = term._mathematica_().Numerator().Collect('C')._sage_().operands()[0]\n",
    "    i = 1\n",
    "    while num.has(C)==False:\n",
    "        num = term._mathematica_().Numerator().Collect('C')._sage_().operands()[i]\n",
    "        i  = i + 1\n",
    "        print(i)\n",
    "    try:\n",
    "        den = term._mathematica_().Denominator().Collect('C')._sage_().operands()[0]\n",
    "        i=1\n",
    "        while den.has(C)==False:\n",
    "            den = term._mathematica_().Denominator().Collect('C')._sage_().operands()[i]\n",
    "            i= i + 1\n",
    "    except:\n",
    "        den= term._mathematica_().Denominator()._sage_().expand()._mathematica_().Collect('C')._sage_().operands()[0]\n",
    "        i = 1\n",
    "        while den.has(C)==False:\n",
    "            den = term._mathematica_().Denominator().Collect('C')._sage_().operands()[i]\n",
    "            i= i + 1\n",
    "    num = symround(num,digits=14,show_del=False)\n",
    "    den = symround(den,digits=14,show_del=False)\n",
    "    tayl = num/den\n",
    "    if len(high_c_limit)<=5:\n",
    "        tayl = MMA_simplify(tayl,full=True)\n",
    "    high_c_limit.append(tayl)"
   ]
  },
  {
   "cell_type": "code",
   "execution_count": 7,
   "id": "c77fae01",
   "metadata": {},
   "outputs": [],
   "source": [
    "a = MMA_simplify(symround(high_c_limit[0],digits=14),full=True)\n",
    "b = MMA_simplify(symround(high_c_limit[1],digits=14),full=True)\n",
    "c = MMA_simplify(symround(high_c_limit[2],digits=14),full=True)\n",
    "d = MMA_simplify(symround(high_c_limit[3],digits=14),full=True)\n",
    "e = MMA_simplify(symround(high_c_limit[4],digits=14),full=True)\n",
    "f = symround(high_c_limit[5],digits=14)"
   ]
  },
  {
   "cell_type": "code",
   "execution_count": 11,
   "id": "0a34455b",
   "metadata": {},
   "outputs": [
    {
     "data": {
      "text/plain": [
       "\"\\nview = a#.subs(Deg1=DEg,Deg2=DEg,Omega=1,gamma=1)\\nview = view.subs()\\nview = symround((view))\\nshow(view._mathematica_().Numerator().Collect('C')._sage_().collect(C).operands()[0])\\nprint(view._mathematica_().Denominator().Collect('C')._sage_().collect(C).operands()[0])\\n\""
      ]
     },
     "execution_count": 11,
     "metadata": {},
     "output_type": "execute_result"
    }
   ],
   "source": [
    "'''\n",
    "view = a#.subs(Deg1=DEg,Deg2=DEg,Omega=1,gamma=1)\n",
    "view = view.subs()\n",
    "view = symround((view))\n",
    "show(view._mathematica_().Numerator().Collect('C')._sage_().collect(C).operands()[0])\n",
    "print(view._mathematica_().Denominator().Collect('C')._sage_().collect(C).operands()[0])\n",
    "'''"
   ]
  },
  {
   "cell_type": "code",
   "execution_count": 10,
   "id": "90436d17",
   "metadata": {},
   "outputs": [
    {
     "data": {
      "text/html": [
       "<html><script type=\"math/tex; mode=display\">\\newcommand{\\Bold}[1]{\\mathbf{#1}}\\frac{4 \\, {{{\\Delta E}}^\\gamma} {\\Omega}^{2}}{C^{2} {\\gamma}}</script></html>"
      ],
      "text/latex": [
       "$$\\newcommand{\\Bold}[1]{\\mathbf{#1}}\\frac{4 \\, {{{\\Delta E}}^\\gamma} {\\Omega}^{2}}{C^{2} {\\gamma}}$$"
      ],
      "text/plain": [
       "4*DEg*Omega^2/(C^2*gamma)"
      ]
     },
     "metadata": {},
     "output_type": "display_data"
    }
   ],
   "source": [
    "show(a)"
   ]
  },
  {
   "cell_type": "code",
   "execution_count": 224,
   "id": "a336acc1",
   "metadata": {},
   "outputs": [
    {
     "data": {
      "text/html": [
       "<html><script type=\"math/tex; mode=display\">\\newcommand{\\Bold}[1]{\\mathbf{#1}}\\sqrt{{\\kappa_b}} \\phantom{\\verb!xxx!}\\verb|.| 0</script></html>"
      ],
      "text/latex": [
       "$$\\newcommand{\\Bold}[1]{\\mathbf{#1}}\\sqrt{{\\kappa_b}} \\phantom{\\verb!xxx!}\\verb|.| 0$$"
      ],
      "text/plain": [
       "sqrt(kappa_b) '   .' 0"
      ]
     },
     "metadata": {},
     "output_type": "display_data"
    },
    {
     "data": {
      "text/html": [
       "<html><script type=\"math/tex; mode=display\">\\newcommand{\\Bold}[1]{\\mathbf{#1}}\\frac{0.062 \\, {\\Omega}^{2}}{C^{2} {\\gamma}}</script></html>"
      ],
      "text/latex": [
       "$$\\newcommand{\\Bold}[1]{\\mathbf{#1}}\\frac{0.062 \\, {\\Omega}^{2}}{C^{2} {\\gamma}}$$"
      ],
      "text/plain": [
       "0.062*Omega^2/(C^2*gamma)"
      ]
     },
     "metadata": {},
     "output_type": "display_data"
    },
    {
     "name": "stdout",
     "output_type": "stream",
     "text": [
      "\\frac{0.062 \\, {\\Omega}^{2}}{C^{2} {\\gamma}}\n"
     ]
    }
   ],
   "source": [
    "op = 2\n",
    "pos = 0\n",
    "\n",
    "q = eff_lind[op][pos]\n",
    "\n",
    "q = q* conjugate(q)\n",
    "\n",
    "q = q.subs(phi=phival,R_f=R_fval ,gamma_g = gamma_gval , gamma_f = gamma_fval)._mathematica_().Together()._sage_()\n",
    "\n",
    "term = q\n",
    "\n",
    "num = term._mathematica_().Numerator().Collect('C')._sage_().operands()[0]\n",
    "i = 1\n",
    "while num.has(C)==False:\n",
    "    num = term._mathematica_().Numerator().Collect('C')._sage_().operands()[i]\n",
    "    i  = i + 1\n",
    "    print(i)\n",
    "try:\n",
    "    den = term._mathematica_().Denominator().Collect('C')._sage_().operands()[0]\n",
    "    i=1\n",
    "    while den.has(C)==False:\n",
    "        den = term._mathematica_().Denominator().Collect('C')._sage_().operands()[i]\n",
    "        i= i + 1\n",
    "except:\n",
    "    den= term._mathematica_().Denominator()._sage_().expand()._mathematica_().Collect('C')._sage_().operands()[0]\n",
    "    i = 1\n",
    "    while den.has(C)==False:\n",
    "        den = term._mathematica_().Denominator().Collect('C')._sage_().operands()[i]\n",
    "        i= i + 1\n",
    "num = symround(num,digits=14,show_del=False)\n",
    "den = symround(den,digits=14,show_del=False)\n",
    "tayl = num/den\n",
    "\n",
    "tayl = MMA_simplify(tayl,full=True)\n",
    "\n",
    "show(eff_lind_coeff[op], '   .',pos)\n",
    "show( symround(tayl ))\n",
    "print(latex(symround(tayl)))\n"
   ]
  },
  {
   "cell_type": "code",
   "execution_count": 225,
   "id": "383a108f",
   "metadata": {},
   "outputs": [
    {
     "data": {
      "text/html": [
       "<html><script type=\"math/tex; mode=display\">\\newcommand{\\Bold}[1]{\\mathbf{#1}}0.062 \\, C^{6} {\\Omega}^{2} + 0.016 \\, C^{5} {\\Omega}^{2} + 0.00098 \\, C^{4} {\\Omega}^{2}</script></html>"
      ],
      "text/latex": [
       "$$\\newcommand{\\Bold}[1]{\\mathbf{#1}}0.062 \\, C^{6} {\\Omega}^{2} + 0.016 \\, C^{5} {\\Omega}^{2} + 0.00098 \\, C^{4} {\\Omega}^{2}$$"
      ],
      "text/plain": [
       "0.062*C^6*Omega^2 + 0.016*C^5*Omega^2 + 0.00098*C^4*Omega^2"
      ]
     },
     "metadata": {},
     "output_type": "display_data"
    },
    {
     "name": "stdout",
     "output_type": "stream",
     "text": [
      "0.062 \\, C^{6} {\\Omega}^{2} + 0.016 \\, C^{5} {\\Omega}^{2} + 0.00098 \\, C^{4} {\\Omega}^{2}\n"
     ]
    }
   ],
   "source": [
    "\n",
    "term =term.subs(kappa_b=1)#,Deg1=1*C^m,Deg2=1*C^m,DEg=1*C^m)\n",
    "qnum = symround(term._mathematica_().Numerator().Collect('C')._sage_())\n",
    "qden = symround(term._mathematica_().Denominator().Collect('C')._sage_())\n",
    "show(qnum)\n",
    "print(latex(qnum))"
   ]
  },
  {
   "cell_type": "code",
   "execution_count": 226,
   "id": "28cefcb2",
   "metadata": {},
   "outputs": [
    {
     "data": {
      "text/html": [
       "<html><script type=\"math/tex; mode=display\">\\newcommand{\\Bold}[1]{\\mathbf{#1}}C^{8} {\\gamma} + {\\left(4 \\, {{{\\Delta E}}^\\gamma}^{2} + 8.4\\right)} C^{6} {\\gamma} + 5.2 \\, C^{7} {\\gamma} + {\\left(2.5 \\, {{{\\Delta E}}^\\gamma}^{2} + 3.9\\right)} C^{5} {\\gamma} + {\\left(0.64 \\, {{{\\Delta E}}^\\gamma}^{2} + 0.87\\right)} C^{4} {\\gamma} + {\\left(0.086 \\, {{{\\Delta E}}^\\gamma}^{2} + 0.11\\right)} C^{3} {\\gamma} + {\\left(0.0063 \\, {{{\\Delta E}}^\\gamma}^{2} + 0.0072\\right)} C^{2} {\\gamma} + {\\left(0.00024 \\, {{{\\Delta E}}^\\gamma}^{2} + 0.00026\\right)} C {\\gamma} + {\\left(\\left(3.8 \\times 10^{-6}\\right) \\, {{{\\Delta E}}^\\gamma}^{2} + 3.8 \\times 10^{-6}\\right)} {\\gamma}</script></html>"
      ],
      "text/latex": [
       "$$\\newcommand{\\Bold}[1]{\\mathbf{#1}}C^{8} {\\gamma} + {\\left(4 \\, {{{\\Delta E}}^\\gamma}^{2} + 8.4\\right)} C^{6} {\\gamma} + 5.2 \\, C^{7} {\\gamma} + {\\left(2.5 \\, {{{\\Delta E}}^\\gamma}^{2} + 3.9\\right)} C^{5} {\\gamma} + {\\left(0.64 \\, {{{\\Delta E}}^\\gamma}^{2} + 0.87\\right)} C^{4} {\\gamma} + {\\left(0.086 \\, {{{\\Delta E}}^\\gamma}^{2} + 0.11\\right)} C^{3} {\\gamma} + {\\left(0.0063 \\, {{{\\Delta E}}^\\gamma}^{2} + 0.0072\\right)} C^{2} {\\gamma} + {\\left(0.00024 \\, {{{\\Delta E}}^\\gamma}^{2} + 0.00026\\right)} C {\\gamma} + {\\left(\\left(3.8 \\times 10^{-6}\\right) \\, {{{\\Delta E}}^\\gamma}^{2} + 3.8 \\times 10^{-6}\\right)} {\\gamma}$$"
      ],
      "text/plain": [
       "C^8*gamma + (4*DEg^2 + 8.4)*C^6*gamma + 5.2*C^7*gamma + (2.5*DEg^2 + 3.9)*C^5*gamma + (0.64*DEg^2 + 0.87)*C^4*gamma + (0.086*DEg^2 + 0.11)*C^3*gamma + (0.0063*DEg^2 + 0.0072)*C^2*gamma + (0.00024*DEg^2 + 0.00026)*C*gamma + ((3.8e-6)*DEg^2 + 3.8e-6)*gamma"
      ]
     },
     "metadata": {},
     "output_type": "display_data"
    },
    {
     "name": "stdout",
     "output_type": "stream",
     "text": [
      "C^{8} {\\gamma} + {\\left(4 \\, {{{\\Delta E}}^\\gamma}^{2} + 8.4\\right)} C^{6} {\\gamma} + 5.2 \\, C^{7} {\\gamma} + {\\left(2.5 \\, {{{\\Delta E}}^\\gamma}^{2} + 3.9\\right)} C^{5} {\\gamma} + {\\left(0.64 \\, {{{\\Delta E}}^\\gamma}^{2} + 0.87\\right)} C^{4} {\\gamma} + {\\left(0.086 \\, {{{\\Delta E}}^\\gamma}^{2} + 0.11\\right)} C^{3} {\\gamma} + {\\left(0.0063 \\, {{{\\Delta E}}^\\gamma}^{2} + 0.0072\\right)} C^{2} {\\gamma} + {\\left(0.00024 \\, {{{\\Delta E}}^\\gamma}^{2} + 0.00026\\right)} C {\\gamma} + {\\left(\\left(3.8 \\times 10^{-6}\\right) \\, {{{\\Delta E}}^\\gamma}^{2} + 3.8 \\times 10^{-6}\\right)} {\\gamma}\n"
     ]
    }
   ],
   "source": [
    "show(qden)\n",
    "print(latex(qden))"
   ]
  },
  {
   "cell_type": "markdown",
   "id": "572020dd",
   "metadata": {},
   "source": [
    "# $t_g$ calculation"
   ]
  },
  {
   "cell_type": "code",
   "execution_count": 138,
   "id": "c6e60c7d",
   "metadata": {},
   "outputs": [
    {
     "name": "stdout",
     "output_type": "stream",
     "text": [
      "Finished!\n"
     ]
    }
   ],
   "source": [
    "t_den = (a + e - b - d)._mathematica_().Together()._sage_()\n",
    "\n",
    "ttden = symround(t_den, show_del=True,digits=14  )\n",
    "numnum = 0\n",
    "dennum = 0\n",
    "'''\n",
    "while True:\n",
    "    print(f'numnum={numnum}  ,  dennum={dennum}')\n",
    "    num = ttden._mathematica_().Numerator().Collect('C')._sage_().operands()[numnum]\n",
    "    den = ttden._mathematica_().Denominator().Collect('C')._sage_().operands()[dennum]\n",
    "    tayl = num/den\n",
    "    taylsimp = MMA_simplify(tayl,full=True)\n",
    "    retaylsimp = taylsimp  #(taylsimp+conjugate(taylsimp))   #/2\n",
    "    taylf = retaylsimp._mathematica_().Together()._sage_()\n",
    "    taylf = symround(taylf,digits=14)\n",
    "    if str(taylf) == str(0):\n",
    "        numnum += 1\n",
    "    else:\n",
    "        break\n",
    "'''\n",
    "        \n",
    "print('Finished!')\n",
    "\n",
    "tg = np.pi / ttden"
   ]
  },
  {
   "cell_type": "code",
   "execution_count": 139,
   "id": "0f85eafd",
   "metadata": {},
   "outputs": [
    {
     "data": {
      "text/html": [
       "<html><script type=\"math/tex; mode=display\">\\newcommand{\\Bold}[1]{\\mathbf{#1}}\\frac{13. \\, {\\left({\\left({{{\\Delta e}}_{{  1}}^\\gamma}^{2} + 0.25\\right)} {{{\\Delta E}}^\\gamma}^{2} + 0.50 \\, {{{\\Delta E}}^\\gamma} {{{\\Delta e}}_{{  1}}^\\gamma} + 0.25 \\, {{{\\Delta e}}_{{  1}}^\\gamma}^{2}\\right)} {\\left({{{\\Delta E}}^\\gamma}^{2} + 0.25\\right)} C {\\gamma}}{{\\left({\\left({{{\\Delta E}}^\\gamma} {{{\\Delta e}}_{{  1}}^\\gamma} - 0.25\\right)} {{{\\Delta E}}^\\gamma} - 0.25 \\, {{{\\Delta e}}_{{  1}}^\\gamma}\\right)} {\\Omega}^{2}}</script></html>"
      ],
      "text/latex": [
       "$$\\newcommand{\\Bold}[1]{\\mathbf{#1}}\\frac{13. \\, {\\left({\\left({{{\\Delta e}}_{{  1}}^\\gamma}^{2} + 0.25\\right)} {{{\\Delta E}}^\\gamma}^{2} + 0.50 \\, {{{\\Delta E}}^\\gamma} {{{\\Delta e}}_{{  1}}^\\gamma} + 0.25 \\, {{{\\Delta e}}_{{  1}}^\\gamma}^{2}\\right)} {\\left({{{\\Delta E}}^\\gamma}^{2} + 0.25\\right)} C {\\gamma}}{{\\left({\\left({{{\\Delta E}}^\\gamma} {{{\\Delta e}}_{{  1}}^\\gamma} - 0.25\\right)} {{{\\Delta E}}^\\gamma} - 0.25 \\, {{{\\Delta e}}_{{  1}}^\\gamma}\\right)} {\\Omega}^{2}}$$"
      ],
      "text/plain": [
       "13.*((Deg1^2 + 0.25)*DEg^2 + 0.50*DEg*Deg1 + 0.25*Deg1^2)*(DEg^2 + 0.25)*C*gamma/(((DEg*Deg1 - 0.25)*DEg - 0.25*Deg1)*Omega^2)"
      ]
     },
     "metadata": {},
     "output_type": "display_data"
    }
   ],
   "source": [
    "show(symround(MMA_simplify(tg,full=True).subs()))"
   ]
  },
  {
   "cell_type": "markdown",
   "id": "a9657e46",
   "metadata": {},
   "source": [
    "# condition 1 calculation"
   ]
  },
  {
   "cell_type": "code",
   "execution_count": 140,
   "id": "4f15aeb3",
   "metadata": {},
   "outputs": [
    {
     "name": "stdout",
     "output_type": "stream",
     "text": [
      "Finished!\n"
     ]
    }
   ],
   "source": [
    "t_den = (a + c - 2*b )._mathematica_().Together()._sage_()\n",
    "\n",
    "ttden = symround(t_den, show_del=True,digits=14  )\n",
    "\n",
    "print('Finished!')\n",
    "\n",
    "cond1 = tg*ttden"
   ]
  },
  {
   "cell_type": "code",
   "execution_count": 141,
   "id": "1a7d14d9",
   "metadata": {},
   "outputs": [
    {
     "data": {
      "text/html": [
       "<html><script type=\"math/tex; mode=display\">\\newcommand{\\Bold}[1]{\\mathbf{#1}}\\frac{{\\left(-3.1416 \\, {{{\\Delta e}}_{{  1}}^\\gamma}^{2} - 0.78540\\right)} {{{\\Delta E}}^\\gamma}^{2} - 1.5708 \\, {{{\\Delta E}}^\\gamma} {{{\\Delta e}}_{{  1}}^\\gamma} - 0.78540 \\, {{{\\Delta e}}_{{  1}}^\\gamma}^{2}}{{\\left({{{\\Delta E}}^\\gamma}^{2} {{{\\Delta e}}_{{  1}}^\\gamma} - 0.25000 \\, {{{\\Delta E}}^\\gamma} - 0.25000 \\, {{{\\Delta e}}_{{  1}}^\\gamma}\\right)} {{{\\Delta E}}^\\gamma}}</script></html>"
      ],
      "text/latex": [
       "$$\\newcommand{\\Bold}[1]{\\mathbf{#1}}\\frac{{\\left(-3.1416 \\, {{{\\Delta e}}_{{  1}}^\\gamma}^{2} - 0.78540\\right)} {{{\\Delta E}}^\\gamma}^{2} - 1.5708 \\, {{{\\Delta E}}^\\gamma} {{{\\Delta e}}_{{  1}}^\\gamma} - 0.78540 \\, {{{\\Delta e}}_{{  1}}^\\gamma}^{2}}{{\\left({{{\\Delta E}}^\\gamma}^{2} {{{\\Delta e}}_{{  1}}^\\gamma} - 0.25000 \\, {{{\\Delta E}}^\\gamma} - 0.25000 \\, {{{\\Delta e}}_{{  1}}^\\gamma}\\right)} {{{\\Delta E}}^\\gamma}}$$"
      ],
      "text/plain": [
       "((-3.1416*Deg1^2 - 0.78540)*DEg^2 - 1.5708*DEg*Deg1 - 0.78540*Deg1^2)/((DEg^2*Deg1 - 0.25000*DEg - 0.25000*Deg1)*DEg)"
      ]
     },
     "metadata": {},
     "output_type": "display_data"
    }
   ],
   "source": [
    "show(symround(MMA_simplify(cond1,full= not True).subs(),digits =5))"
   ]
  },
  {
   "cell_type": "markdown",
   "id": "ca1b0c86",
   "metadata": {},
   "source": [
    "# condition 2 calculation"
   ]
  },
  {
   "cell_type": "code",
   "execution_count": 142,
   "id": "f335995a",
   "metadata": {},
   "outputs": [
    {
     "data": {
      "text/html": [
       "<html><script type=\"math/tex; mode=display\">\\newcommand{\\Bold}[1]{\\mathbf{#1}}-\\frac{C^{2} {{{\\Delta E}}^\\gamma}^{6} {{{\\Delta e}}_{{  1}}^\\gamma}^{3} {\\Omega}^{2} + 0.25 \\, C^{2} {{{\\Delta E}}^\\gamma}^{6} {{{\\Delta e}}_{{  1}}^\\gamma} {\\Omega}^{2} + 0.25 \\, C^{2} {{{\\Delta E}}^\\gamma}^{5} {{{\\Delta e}}_{{  1}}^\\gamma}^{2} {\\Omega}^{2} + 0.75 \\, C^{2} {{{\\Delta E}}^\\gamma}^{4} {{{\\Delta e}}_{{  1}}^\\gamma}^{3} {\\Omega}^{2} + 0.19 \\, C^{2} {{{\\Delta E}}^\\gamma}^{4} {{{\\Delta e}}_{{  1}}^\\gamma} {\\Omega}^{2} + 0.31 \\, C^{2} {{{\\Delta E}}^\\gamma}^{3} {{{\\Delta e}}_{{  1}}^\\gamma}^{2} {\\Omega}^{2} + 0.062 \\, {{{\\Delta E}}^\\gamma}^{5} {{{\\Delta e}}_{{  1}}^\\gamma}^{2} {\\Omega}^{2} + 0.12 \\, C^{2} {{{\\Delta E}}^\\gamma}^{2} {{{\\Delta e}}_{{  1}}^\\gamma}^{3} {\\Omega}^{2} + 0.69 \\, {{{\\Delta E}}^\\gamma}^{4} {{{\\Delta e}}_{{  1}}^\\gamma}^{3} {\\Omega}^{2} + 0.016 \\, {{{\\Delta E}}^\\gamma}^{5} {\\Omega}^{2} + 0.20 \\, {{{\\Delta E}}^\\gamma}^{4} {{{\\Delta e}}_{{  1}}^\\gamma} {\\Omega}^{2} + 0.38 \\, {{{\\Delta E}}^\\gamma}^{3} {{{\\Delta e}}_{{  1}}^\\gamma}^{2} {\\Omega}^{2} + 0.34 \\, {{{\\Delta E}}^\\gamma}^{2} {{{\\Delta e}}_{{  1}}^\\gamma}^{3} {\\Omega}^{2} + 0.0039 \\, {{{\\Delta E}}^\\gamma}^{3} {\\Omega}^{2} + 0.051 \\, {{{\\Delta E}}^\\gamma}^{2} {{{\\Delta e}}_{{  1}}^\\gamma} {\\Omega}^{2} + 0.090 \\, {{{\\Delta E}}^\\gamma} {{{\\Delta e}}_{{  1}}^\\gamma}^{2} {\\Omega}^{2} + 0.043 \\, {{{\\Delta e}}_{{  1}}^\\gamma}^{3} {\\Omega}^{2}}{{\\left({{{\\Delta E}}^\\gamma}^{2} {{{\\Delta e}}_{{  1}}^\\gamma}^{2} + 0.25 \\, {{{\\Delta E}}^\\gamma}^{2} + 0.50 \\, {{{\\Delta E}}^\\gamma} {{{\\Delta e}}_{{  1}}^\\gamma} + 0.25 \\, {{{\\Delta e}}_{{  1}}^\\gamma}^{2}\\right)} {\\left({{{\\Delta E}}^\\gamma}^{2} + 0.25\\right)} C^{3} {{{\\Delta E}}^\\gamma}^{3} {{{\\Delta e}}_{{  1}}^\\gamma} {\\gamma}}</script></html>"
      ],
      "text/latex": [
       "$$\\newcommand{\\Bold}[1]{\\mathbf{#1}}-\\frac{C^{2} {{{\\Delta E}}^\\gamma}^{6} {{{\\Delta e}}_{{  1}}^\\gamma}^{3} {\\Omega}^{2} + 0.25 \\, C^{2} {{{\\Delta E}}^\\gamma}^{6} {{{\\Delta e}}_{{  1}}^\\gamma} {\\Omega}^{2} + 0.25 \\, C^{2} {{{\\Delta E}}^\\gamma}^{5} {{{\\Delta e}}_{{  1}}^\\gamma}^{2} {\\Omega}^{2} + 0.75 \\, C^{2} {{{\\Delta E}}^\\gamma}^{4} {{{\\Delta e}}_{{  1}}^\\gamma}^{3} {\\Omega}^{2} + 0.19 \\, C^{2} {{{\\Delta E}}^\\gamma}^{4} {{{\\Delta e}}_{{  1}}^\\gamma} {\\Omega}^{2} + 0.31 \\, C^{2} {{{\\Delta E}}^\\gamma}^{3} {{{\\Delta e}}_{{  1}}^\\gamma}^{2} {\\Omega}^{2} + 0.062 \\, {{{\\Delta E}}^\\gamma}^{5} {{{\\Delta e}}_{{  1}}^\\gamma}^{2} {\\Omega}^{2} + 0.12 \\, C^{2} {{{\\Delta E}}^\\gamma}^{2} {{{\\Delta e}}_{{  1}}^\\gamma}^{3} {\\Omega}^{2} + 0.69 \\, {{{\\Delta E}}^\\gamma}^{4} {{{\\Delta e}}_{{  1}}^\\gamma}^{3} {\\Omega}^{2} + 0.016 \\, {{{\\Delta E}}^\\gamma}^{5} {\\Omega}^{2} + 0.20 \\, {{{\\Delta E}}^\\gamma}^{4} {{{\\Delta e}}_{{  1}}^\\gamma} {\\Omega}^{2} + 0.38 \\, {{{\\Delta E}}^\\gamma}^{3} {{{\\Delta e}}_{{  1}}^\\gamma}^{2} {\\Omega}^{2} + 0.34 \\, {{{\\Delta E}}^\\gamma}^{2} {{{\\Delta e}}_{{  1}}^\\gamma}^{3} {\\Omega}^{2} + 0.0039 \\, {{{\\Delta E}}^\\gamma}^{3} {\\Omega}^{2} + 0.051 \\, {{{\\Delta E}}^\\gamma}^{2} {{{\\Delta e}}_{{  1}}^\\gamma} {\\Omega}^{2} + 0.090 \\, {{{\\Delta E}}^\\gamma} {{{\\Delta e}}_{{  1}}^\\gamma}^{2} {\\Omega}^{2} + 0.043 \\, {{{\\Delta e}}_{{  1}}^\\gamma}^{3} {\\Omega}^{2}}{{\\left({{{\\Delta E}}^\\gamma}^{2} {{{\\Delta e}}_{{  1}}^\\gamma}^{2} + 0.25 \\, {{{\\Delta E}}^\\gamma}^{2} + 0.50 \\, {{{\\Delta E}}^\\gamma} {{{\\Delta e}}_{{  1}}^\\gamma} + 0.25 \\, {{{\\Delta e}}_{{  1}}^\\gamma}^{2}\\right)} {\\left({{{\\Delta E}}^\\gamma}^{2} + 0.25\\right)} C^{3} {{{\\Delta E}}^\\gamma}^{3} {{{\\Delta e}}_{{  1}}^\\gamma} {\\gamma}}$$"
      ],
      "text/plain": [
       "-(C^2*DEg^6*Deg1^3*Omega^2 + 0.25*C^2*DEg^6*Deg1*Omega^2 + 0.25*C^2*DEg^5*Deg1^2*Omega^2 + 0.75*C^2*DEg^4*Deg1^3*Omega^2 + 0.19*C^2*DEg^4*Deg1*Omega^2 + 0.31*C^2*DEg^3*Deg1^2*Omega^2 + 0.062*DEg^5*Deg1^2*Omega^2 + 0.12*C^2*DEg^2*Deg1^3*Omega^2 + 0.69*DEg^4*Deg1^3*Omega^2 + 0.016*DEg^5*Omega^2 + 0.20*DEg^4*Deg1*Omega^2 + 0.38*DEg^3*Deg1^2*Omega^2 + 0.34*DEg^2*Deg1^3*Omega^2 + 0.0039*DEg^3*Omega^2 + 0.051*DEg^2*Deg1*Omega^2 + 0.090*DEg*Deg1^2*Omega^2 + 0.043*Deg1^3*Omega^2)/((DEg^2*Deg1^2 + 0.25*DEg^2 + 0.50*DEg*Deg1 + 0.25*Deg1^2)*(DEg^2 + 0.25)*C^3*DEg^3*Deg1*gamma)"
      ]
     },
     "metadata": {},
     "output_type": "display_data"
    }
   ],
   "source": [
    "# f added\n",
    "t_den = (2*a - 2*b -d + f )._mathematica_().Together()._sage_()\n",
    "ttden = symround(t_den, show_del=True,digits=14 )\n",
    "\n",
    "taylnf = ttden\n",
    "show(symround(taylnf,show_del=False))\n",
    "\n",
    "cond2 = taylnf*tg\n",
    "cond2 = MMA_simplify(cond2,full=not True)"
   ]
  },
  {
   "cell_type": "code",
   "execution_count": 145,
   "id": "3d4c0ac3",
   "metadata": {},
   "outputs": [
    {
     "data": {
      "text/html": [
       "<html><script type=\"math/tex; mode=display\">\\newcommand{\\Bold}[1]{\\mathbf{#1}}\\frac{{\\left(-13. \\, {{{\\Delta e}}_{{  1}}^\\gamma}^{2} - 3.2\\right)} C^{2} {{{\\Delta E}}^\\gamma}^{6} {{{\\Delta e}}_{{  1}}^\\gamma} + {\\left({\\left(-3.2 \\, C^{2} - 0.79\\right)} {{{\\Delta e}}_{{  1}}^\\gamma}^{2} - 0.20\\right)} {{{\\Delta E}}^\\gamma}^{5} + {\\left({\\left(-9.4 \\, {{{\\Delta e}}_{{  1}}^\\gamma}^{2} - 2.3\\right)} C^{2} - 8.6 \\, {{{\\Delta e}}_{{  1}}^\\gamma}^{2} - 2.6\\right)} {{{\\Delta E}}^\\gamma}^{4} {{{\\Delta e}}_{{  1}}^\\gamma} + {\\left({\\left(-3.9 \\, C^{2} - 4.7\\right)} {{{\\Delta e}}_{{  1}}^\\gamma}^{2} - 0.049\\right)} {{{\\Delta E}}^\\gamma}^{3} + {\\left({\\left(-1.6 \\, C^{2} - 4.3\\right)} {{{\\Delta e}}_{{  1}}^\\gamma}^{3} - 0.64 \\, {{{\\Delta e}}_{{  1}}^\\gamma}\\right)} {{{\\Delta E}}^\\gamma}^{2} - 1.1 \\, {{{\\Delta E}}^\\gamma} {{{\\Delta e}}_{{  1}}^\\gamma}^{2} - 0.54 \\, {{{\\Delta e}}_{{  1}}^\\gamma}^{3}}{{\\left({{{\\Delta E}}^\\gamma}^{2} {{{\\Delta e}}_{{  1}}^\\gamma} - 0.25 \\, {{{\\Delta E}}^\\gamma} - 0.25 \\, {{{\\Delta e}}_{{  1}}^\\gamma}\\right)} C^{2} {{{\\Delta E}}^\\gamma}^{3} {{{\\Delta e}}_{{  1}}^\\gamma}}</script></html>"
      ],
      "text/latex": [
       "$$\\newcommand{\\Bold}[1]{\\mathbf{#1}}\\frac{{\\left(-13. \\, {{{\\Delta e}}_{{  1}}^\\gamma}^{2} - 3.2\\right)} C^{2} {{{\\Delta E}}^\\gamma}^{6} {{{\\Delta e}}_{{  1}}^\\gamma} + {\\left({\\left(-3.2 \\, C^{2} - 0.79\\right)} {{{\\Delta e}}_{{  1}}^\\gamma}^{2} - 0.20\\right)} {{{\\Delta E}}^\\gamma}^{5} + {\\left({\\left(-9.4 \\, {{{\\Delta e}}_{{  1}}^\\gamma}^{2} - 2.3\\right)} C^{2} - 8.6 \\, {{{\\Delta e}}_{{  1}}^\\gamma}^{2} - 2.6\\right)} {{{\\Delta E}}^\\gamma}^{4} {{{\\Delta e}}_{{  1}}^\\gamma} + {\\left({\\left(-3.9 \\, C^{2} - 4.7\\right)} {{{\\Delta e}}_{{  1}}^\\gamma}^{2} - 0.049\\right)} {{{\\Delta E}}^\\gamma}^{3} + {\\left({\\left(-1.6 \\, C^{2} - 4.3\\right)} {{{\\Delta e}}_{{  1}}^\\gamma}^{3} - 0.64 \\, {{{\\Delta e}}_{{  1}}^\\gamma}\\right)} {{{\\Delta E}}^\\gamma}^{2} - 1.1 \\, {{{\\Delta E}}^\\gamma} {{{\\Delta e}}_{{  1}}^\\gamma}^{2} - 0.54 \\, {{{\\Delta e}}_{{  1}}^\\gamma}^{3}}{{\\left({{{\\Delta E}}^\\gamma}^{2} {{{\\Delta e}}_{{  1}}^\\gamma} - 0.25 \\, {{{\\Delta E}}^\\gamma} - 0.25 \\, {{{\\Delta e}}_{{  1}}^\\gamma}\\right)} C^{2} {{{\\Delta E}}^\\gamma}^{3} {{{\\Delta e}}_{{  1}}^\\gamma}}$$"
      ],
      "text/plain": [
       "((-13.*Deg1^2 - 3.2)*C^2*DEg^6*Deg1 + ((-3.2*C^2 - 0.79)*Deg1^2 - 0.20)*DEg^5 + ((-9.4*Deg1^2 - 2.3)*C^2 - 8.6*Deg1^2 - 2.6)*DEg^4*Deg1 + ((-3.9*C^2 - 4.7)*Deg1^2 - 0.049)*DEg^3 + ((-1.6*C^2 - 4.3)*Deg1^3 - 0.64*Deg1)*DEg^2 - 1.1*DEg*Deg1^2 - 0.54*Deg1^3)/((DEg^2*Deg1 - 0.25*DEg - 0.25*Deg1)*C^2*DEg^3*Deg1)"
      ]
     },
     "metadata": {},
     "output_type": "display_data"
    }
   ],
   "source": [
    "show(symround(MMA_simplify(cond2,full=not True),show_del=False))"
   ]
  },
  {
   "cell_type": "markdown",
   "id": "aa4744a3",
   "metadata": {},
   "source": [
    "# a bit of processing of the conditions. Use of $D_i = \\dfrac{Deg_i}{DEg}$"
   ]
  },
  {
   "cell_type": "code",
   "execution_count": 146,
   "id": "3fed6386",
   "metadata": {},
   "outputs": [
    {
     "data": {
      "text/html": [
       "<html><script type=\"math/tex; mode=display\">\\newcommand{\\Bold}[1]{\\mathbf{#1}}\\frac{{\\left(-3.2 \\, {{{\\Delta e}}_{{  1}}^\\gamma}^{2} - 0.79\\right)} {{{\\Delta E}}^\\gamma}^{2} - 1.6 \\, {{{\\Delta E}}^\\gamma} {{{\\Delta e}}_{{  1}}^\\gamma} - 0.79 \\, {{{\\Delta e}}_{{  1}}^\\gamma}^{2}}{{\\left({\\left({{{\\Delta E}}^\\gamma} {{{\\Delta e}}_{{  1}}^\\gamma} - 0.25\\right)} {{{\\Delta E}}^\\gamma} - 0.25 \\, {{{\\Delta e}}_{{  1}}^\\gamma}\\right)} {{{\\Delta E}}^\\gamma}}</script></html>"
      ],
      "text/latex": [
       "$$\\newcommand{\\Bold}[1]{\\mathbf{#1}}\\frac{{\\left(-3.2 \\, {{{\\Delta e}}_{{  1}}^\\gamma}^{2} - 0.79\\right)} {{{\\Delta E}}^\\gamma}^{2} - 1.6 \\, {{{\\Delta E}}^\\gamma} {{{\\Delta e}}_{{  1}}^\\gamma} - 0.79 \\, {{{\\Delta e}}_{{  1}}^\\gamma}^{2}}{{\\left({\\left({{{\\Delta E}}^\\gamma} {{{\\Delta e}}_{{  1}}^\\gamma} - 0.25\\right)} {{{\\Delta E}}^\\gamma} - 0.25 \\, {{{\\Delta e}}_{{  1}}^\\gamma}\\right)} {{{\\Delta E}}^\\gamma}}$$"
      ],
      "text/plain": [
       "((-3.2*Deg1^2 - 0.79)*DEg^2 - 1.6*DEg*Deg1 - 0.79*Deg1^2)/(((DEg*Deg1 - 0.25)*DEg - 0.25*Deg1)*DEg)"
      ]
     },
     "metadata": {},
     "output_type": "display_data"
    },
    {
     "name": "stdout",
     "output_type": "stream",
     "text": [
      "\n",
      "\n",
      "\n",
      "\n"
     ]
    },
    {
     "data": {
      "text/html": [
       "<html><script type=\"math/tex; mode=display\">\\newcommand{\\Bold}[1]{\\mathbf{#1}}\\frac{-0.20 \\, {{{\\Delta E}}^\\gamma}^{5} + {\\left({\\left({\\left(-3.2 \\, {{{\\Delta E}}^\\gamma}^{2} - 2.3\\right)} C^{2} - 2.6\\right)} {{{\\Delta E}}^\\gamma}^{2} - 0.64\\right)} {{{\\Delta E}}^\\gamma}^{2} {{{\\Delta e}}_{{  1}}^\\gamma} + {\\left({\\left(-3.2 \\, C^{2} - 0.79\\right)} {{{\\Delta E}}^\\gamma}^{4} + {\\left(-3.9 \\, C^{2} - 4.7\\right)} {{{\\Delta E}}^\\gamma}^{2} - 1.1\\right)} {{{\\Delta E}}^\\gamma} {{{\\Delta e}}_{{  1}}^\\gamma}^{2} + {\\left({\\left({\\left(-13. \\, {{{\\Delta E}}^\\gamma}^{4} - 9.4 \\, {{{\\Delta E}}^\\gamma}^{2} - 1.6\\right)} C^{2} - 8.6 \\, {{{\\Delta E}}^\\gamma}^{2} - 4.3\\right)} {{{\\Delta E}}^\\gamma}^{2} - 0.54\\right)} {{{\\Delta e}}_{{  1}}^\\gamma}^{3} - 0.049 \\, {{{\\Delta E}}^\\gamma}^{3}}{{\\left({\\left({{{\\Delta E}}^\\gamma} {{{\\Delta e}}_{{  1}}^\\gamma} - 0.25\\right)} {{{\\Delta E}}^\\gamma} - 0.25 \\, {{{\\Delta e}}_{{  1}}^\\gamma}\\right)} C^{2} {{{\\Delta E}}^\\gamma}^{3} {{{\\Delta e}}_{{  1}}^\\gamma}}</script></html>"
      ],
      "text/latex": [
       "$$\\newcommand{\\Bold}[1]{\\mathbf{#1}}\\frac{-0.20 \\, {{{\\Delta E}}^\\gamma}^{5} + {\\left({\\left({\\left(-3.2 \\, {{{\\Delta E}}^\\gamma}^{2} - 2.3\\right)} C^{2} - 2.6\\right)} {{{\\Delta E}}^\\gamma}^{2} - 0.64\\right)} {{{\\Delta E}}^\\gamma}^{2} {{{\\Delta e}}_{{  1}}^\\gamma} + {\\left({\\left(-3.2 \\, C^{2} - 0.79\\right)} {{{\\Delta E}}^\\gamma}^{4} + {\\left(-3.9 \\, C^{2} - 4.7\\right)} {{{\\Delta E}}^\\gamma}^{2} - 1.1\\right)} {{{\\Delta E}}^\\gamma} {{{\\Delta e}}_{{  1}}^\\gamma}^{2} + {\\left({\\left({\\left(-13. \\, {{{\\Delta E}}^\\gamma}^{4} - 9.4 \\, {{{\\Delta E}}^\\gamma}^{2} - 1.6\\right)} C^{2} - 8.6 \\, {{{\\Delta E}}^\\gamma}^{2} - 4.3\\right)} {{{\\Delta E}}^\\gamma}^{2} - 0.54\\right)} {{{\\Delta e}}_{{  1}}^\\gamma}^{3} - 0.049 \\, {{{\\Delta E}}^\\gamma}^{3}}{{\\left({\\left({{{\\Delta E}}^\\gamma} {{{\\Delta e}}_{{  1}}^\\gamma} - 0.25\\right)} {{{\\Delta E}}^\\gamma} - 0.25 \\, {{{\\Delta e}}_{{  1}}^\\gamma}\\right)} C^{2} {{{\\Delta E}}^\\gamma}^{3} {{{\\Delta e}}_{{  1}}^\\gamma}}$$"
      ],
      "text/plain": [
       "(-0.20*DEg^5 + (((-3.2*DEg^2 - 2.3)*C^2 - 2.6)*DEg^2 - 0.64)*DEg^2*Deg1 + ((-3.2*C^2 - 0.79)*DEg^4 + (-3.9*C^2 - 4.7)*DEg^2 - 1.1)*DEg*Deg1^2 + (((-13.*DEg^4 - 9.4*DEg^2 - 1.6)*C^2 - 8.6*DEg^2 - 4.3)*DEg^2 - 0.54)*Deg1^3 - 0.049*DEg^3)/(((DEg*Deg1 - 0.25)*DEg - 0.25*Deg1)*C^2*DEg^3*Deg1)"
      ]
     },
     "metadata": {},
     "output_type": "display_data"
    }
   ],
   "source": [
    "cond1 = MMA_simplify(cond1,full=True)\n",
    "show(symround(cond1))\n",
    "print('\\n\\n\\n')\n",
    "cond2 = MMA_simplify(cond2,full=True)\n",
    "show(symround(cond2))"
   ]
  },
  {
   "cell_type": "code",
   "execution_count": 152,
   "id": "bb77bc57",
   "metadata": {},
   "outputs": [],
   "source": [
    "var('D1', domain='positive',latex_name='D_1')\n",
    "var('D2', domain='positive',latex_name='D_2')\n",
    "cond1sub = cond1.subs(Deg1 = DEg *D1 , Deg2 = DEg *D2 )\n",
    "cond1sub = MMA_simplify(cond1sub,full=True)\n",
    "cond2sub = cond2.subs(Deg1 = DEg *D1 , Deg2 = DEg *D2 )\n",
    "cond2sub = MMA_simplify(cond2sub,full=True)"
   ]
  },
  {
   "cell_type": "code",
   "execution_count": 153,
   "id": "4bbd6b83",
   "metadata": {},
   "outputs": [
    {
     "data": {
      "text/html": [
       "<html><script type=\"math/tex; mode=display\">\\newcommand{\\Bold}[1]{\\mathbf{#1}}-3.2 \\, {D_1} + \\frac{{D_1} {\\left(-1.6 \\, {D_1} - 2.3\\right)} - 0.79}{{D_1} {{{\\Delta E}}^\\gamma}^{2} - 0.25 \\, {D_1} - 0.25}</script></html>"
      ],
      "text/latex": [
       "$$\\newcommand{\\Bold}[1]{\\mathbf{#1}}-3.2 \\, {D_1} + \\frac{{D_1} {\\left(-1.6 \\, {D_1} - 2.3\\right)} - 0.79}{{D_1} {{{\\Delta E}}^\\gamma}^{2} - 0.25 \\, {D_1} - 0.25}$$"
      ],
      "text/plain": [
       "-3.2*D1 + (D1*(-1.6*D1 - 2.3) - 0.79)/(D1*DEg^2 - 0.25*D1 - 0.25)"
      ]
     },
     "metadata": {},
     "output_type": "display_data"
    },
    {
     "name": "stdout",
     "output_type": "stream",
     "text": [
      "\n",
      "\n",
      "\n"
     ]
    },
    {
     "data": {
      "text/html": [
       "<html><script type=\"math/tex; mode=display\">\\newcommand{\\Bold}[1]{\\mathbf{#1}}\\frac{-13. \\, C^{2} {D_1}^{3} {{{\\Delta E}}^\\gamma}^{6} + {\\left({\\left({D_1} {\\left(-9.4 \\, {D_1} - 3.2\\right)} - 3.2\\right)} C^{2} + {D_1} {\\left(-8.6 \\, {D_1} - 0.79\\right)}\\right)} {D_1} {{{\\Delta E}}^\\gamma}^{4} + {\\left({\\left({\\left({D_1} {\\left(-1.6 \\, {D_1} - 3.9\\right)} - 2.3\\right)} C^{2} + {D_1} {\\left(-4.3 \\, {D_1} - 4.7\\right)} - 2.6\\right)} {D_1} - 0.20\\right)} {{{\\Delta E}}^\\gamma}^{2} + {\\left({D_1} {\\left(-0.54 \\, {D_1} - 1.1\\right)} - 0.64\\right)} {D_1} - 0.049}{{\\left({D_1} {{{\\Delta E}}^\\gamma}^{2} - 0.25 \\, {D_1} - 0.25\\right)} C^{2} {D_1} {{{\\Delta E}}^\\gamma}^{2}}</script></html>"
      ],
      "text/latex": [
       "$$\\newcommand{\\Bold}[1]{\\mathbf{#1}}\\frac{-13. \\, C^{2} {D_1}^{3} {{{\\Delta E}}^\\gamma}^{6} + {\\left({\\left({D_1} {\\left(-9.4 \\, {D_1} - 3.2\\right)} - 3.2\\right)} C^{2} + {D_1} {\\left(-8.6 \\, {D_1} - 0.79\\right)}\\right)} {D_1} {{{\\Delta E}}^\\gamma}^{4} + {\\left({\\left({\\left({D_1} {\\left(-1.6 \\, {D_1} - 3.9\\right)} - 2.3\\right)} C^{2} + {D_1} {\\left(-4.3 \\, {D_1} - 4.7\\right)} - 2.6\\right)} {D_1} - 0.20\\right)} {{{\\Delta E}}^\\gamma}^{2} + {\\left({D_1} {\\left(-0.54 \\, {D_1} - 1.1\\right)} - 0.64\\right)} {D_1} - 0.049}{{\\left({D_1} {{{\\Delta E}}^\\gamma}^{2} - 0.25 \\, {D_1} - 0.25\\right)} C^{2} {D_1} {{{\\Delta E}}^\\gamma}^{2}}$$"
      ],
      "text/plain": [
       "(-13.*C^2*D1^3*DEg^6 + ((D1*(-9.4*D1 - 3.2) - 3.2)*C^2 + D1*(-8.6*D1 - 0.79))*D1*DEg^4 + (((D1*(-1.6*D1 - 3.9) - 2.3)*C^2 + D1*(-4.3*D1 - 4.7) - 2.6)*D1 - 0.20)*DEg^2 + (D1*(-0.54*D1 - 1.1) - 0.64)*D1 - 0.049)/((D1*DEg^2 - 0.25*D1 - 0.25)*C^2*D1*DEg^2)"
      ]
     },
     "metadata": {},
     "output_type": "display_data"
    }
   ],
   "source": [
    "show(symround(cond1sub))\n",
    "print('\\n\\n')\n",
    "show(symround(cond2sub))"
   ]
  },
  {
   "cell_type": "code",
   "execution_count": 6,
   "id": "eb1cf6f3",
   "metadata": {},
   "outputs": [
    {
     "ename": "NameError",
     "evalue": "name 'q' is not defined",
     "output_type": "error",
     "traceback": [
      "\u001b[0;31m---------------------------------------------------------------------------\u001b[0m",
      "\u001b[0;31mNameError\u001b[0m                                 Traceback (most recent call last)",
      "\u001b[0;32m<ipython-input-6-996617e96a38>\u001b[0m in \u001b[0;36m<module>\u001b[0;34m\u001b[0m\n\u001b[0;32m----> 1\u001b[0;31m \u001b[0mprint\u001b[0m\u001b[0;34m(\u001b[0m\u001b[0mq\u001b[0m\u001b[0;34m)\u001b[0m\u001b[0;34m\u001b[0m\u001b[0;34m\u001b[0m\u001b[0m\n\u001b[0m",
      "\u001b[0;31mNameError\u001b[0m: name 'q' is not defined"
     ]
    }
   ],
   "source": [
    "print(q)"
   ]
  },
  {
   "cell_type": "code",
   "execution_count": 7,
   "id": "7369f430",
   "metadata": {},
   "outputs": [
    {
     "data": {
      "text/plain": [
       "5"
      ]
     },
     "execution_count": 7,
     "metadata": {},
     "output_type": "execute_result"
    }
   ],
   "source": [
    "len(high_c_limit)"
   ]
  },
  {
   "cell_type": "code",
   "execution_count": 84,
   "id": "b60765ee",
   "metadata": {},
   "outputs": [
    {
     "data": {
      "text/html": [
       "<html><script type=\"math/tex; mode=display\">\\newcommand{\\Bold}[1]{\\mathbf{#1}}-\\frac{2 \\, {{{\\Delta E}}^\\gamma} {\\Omega}^{2} \\sin\\left(2 \\, {\\phi}\\right)^{4}}{{\\left(-0.75 \\, {{{\\Delta E}}^\\gamma}^{2} + {\\left(-0.25 \\, {{{\\Delta E}}^\\gamma}^{2} - 0.25\\right)} \\cos\\left(8 \\, {\\phi}\\right) + {\\left({{{\\Delta E}}^\\gamma}^{2} + 2\\right)} \\cos\\left(4 \\, {\\phi}\\right) - 2.2\\right)} {\\gamma}}</script></html>"
      ],
      "text/latex": [
       "$$\\newcommand{\\Bold}[1]{\\mathbf{#1}}-\\frac{2 \\, {{{\\Delta E}}^\\gamma} {\\Omega}^{2} \\sin\\left(2 \\, {\\phi}\\right)^{4}}{{\\left(-0.75 \\, {{{\\Delta E}}^\\gamma}^{2} + {\\left(-0.25 \\, {{{\\Delta E}}^\\gamma}^{2} - 0.25\\right)} \\cos\\left(8 \\, {\\phi}\\right) + {\\left({{{\\Delta E}}^\\gamma}^{2} + 2\\right)} \\cos\\left(4 \\, {\\phi}\\right) - 2.2\\right)} {\\gamma}}$$"
      ],
      "text/plain": [
       "-2*DEg*Omega^2*sin(2*phi)^4/((-0.75*DEg^2 + (-0.25*DEg^2 - 0.25)*cos(8*phi) + (DEg^2 + 2)*cos(4*phi) - 2.2)*gamma)"
      ]
     },
     "metadata": {},
     "output_type": "display_data"
    }
   ],
   "source": [
    "show(symround(a,digits=2))"
   ]
  },
  {
   "cell_type": "code",
   "execution_count": 79,
   "id": "bbf2aa22",
   "metadata": {},
   "outputs": [
    {
     "data": {
      "text/html": [
       "<html><script type=\"math/tex; mode=display\">\\newcommand{\\Bold}[1]{\\mathbf{#1}}-\\frac{0.25 \\, {\\left(3 \\, {\\left({{{\\Delta e}}_{{  2}}^\\gamma}^{2} + 1.6\\right)} {{{\\Delta E}}^\\gamma} - 4 \\, {\\left({{{\\Delta e}}_{{  2}}^\\gamma}^{2} + 0.75\\right)} {{{\\Delta E}}^\\gamma} + {\\left({{{\\Delta e}}_{{  2}}^\\gamma}^{2} + 0.25\\right)} {{{\\Delta E}}^\\gamma} + 2 \\, {{{\\Delta e}}_{{  2}}^\\gamma}\\right)} {\\Omega}^{2}}{{\\left({\\left({{{\\Delta e}}_{{  2}}^\\gamma}^{2} + 0.75\\right)} {{{\\Delta E}}^\\gamma}^{2} + {\\left(-0.25 \\, {{{\\Delta e}}_{{  2}}^\\gamma}^{2} - 0.062\\right)} {{{\\Delta E}}^\\gamma}^{2} + {\\left(-0.75 \\, {{{\\Delta e}}_{{  2}}^\\gamma}^{2} - 1.2\\right)} {{{\\Delta E}}^\\gamma}^{2} - {{{\\Delta E}}^\\gamma} {{{\\Delta e}}_{{  2}}^\\gamma} - 0.50 \\, {{{\\Delta e}}_{{  2}}^\\gamma}^{2} - 1.8\\right)} {\\gamma}}</script></html>"
      ],
      "text/latex": [
       "$$\\newcommand{\\Bold}[1]{\\mathbf{#1}}-\\frac{0.25 \\, {\\left(3 \\, {\\left({{{\\Delta e}}_{{  2}}^\\gamma}^{2} + 1.6\\right)} {{{\\Delta E}}^\\gamma} - 4 \\, {\\left({{{\\Delta e}}_{{  2}}^\\gamma}^{2} + 0.75\\right)} {{{\\Delta E}}^\\gamma} + {\\left({{{\\Delta e}}_{{  2}}^\\gamma}^{2} + 0.25\\right)} {{{\\Delta E}}^\\gamma} + 2 \\, {{{\\Delta e}}_{{  2}}^\\gamma}\\right)} {\\Omega}^{2}}{{\\left({\\left({{{\\Delta e}}_{{  2}}^\\gamma}^{2} + 0.75\\right)} {{{\\Delta E}}^\\gamma}^{2} + {\\left(-0.25 \\, {{{\\Delta e}}_{{  2}}^\\gamma}^{2} - 0.062\\right)} {{{\\Delta E}}^\\gamma}^{2} + {\\left(-0.75 \\, {{{\\Delta e}}_{{  2}}^\\gamma}^{2} - 1.2\\right)} {{{\\Delta E}}^\\gamma}^{2} - {{{\\Delta E}}^\\gamma} {{{\\Delta e}}_{{  2}}^\\gamma} - 0.50 \\, {{{\\Delta e}}_{{  2}}^\\gamma}^{2} - 1.8\\right)} {\\gamma}}$$"
      ],
      "text/plain": [
       "-0.25*(3*(Deg2^2 + 1.6)*DEg - 4*(Deg2^2 + 0.75)*DEg + (Deg2^2 + 0.25)*DEg + 2*Deg2)*Omega^2/(((Deg2^2 + 0.75)*DEg^2 + (-0.25*Deg2^2 - 0.062)*DEg^2 + (-0.75*Deg2^2 - 1.2)*DEg^2 - DEg*Deg2 - 0.50*Deg2^2 - 1.8)*gamma)"
      ]
     },
     "metadata": {},
     "output_type": "display_data"
    }
   ],
   "source": [
    "show(symround(b))"
   ]
  },
  {
   "cell_type": "code",
   "execution_count": 81,
   "id": "1c68b74b",
   "metadata": {},
   "outputs": [
    {
     "data": {
      "text/html": [
       "<html><script type=\"math/tex; mode=display\">\\newcommand{\\Bold}[1]{\\mathbf{#1}}\\frac{{\\left(-0.25 \\, {\\left({{{\\Delta e}}_{{  2}}^\\gamma}^{2} + 0.25\\right)}^{2} {{{\\Delta E}}^\\gamma} \\cos\\left(8 \\, {\\phi}\\right) - 0.62 \\, {{{\\Delta e}}_{{  2}}^\\gamma}^{3} + {\\left(-0.75 \\, {{{\\Delta e}}_{{  2}}^\\gamma}^{4} - 2.9 \\, {{{\\Delta e}}_{{  2}}^\\gamma}^{2} - 1.5\\right)} {{{\\Delta E}}^\\gamma} + {\\left(-0.38 \\, {{{\\Delta e}}_{{  2}}^\\gamma}^{3} + {\\left({{{\\Delta e}}_{{  2}}^\\gamma}^{4} + {{{\\Delta e}}_{{  2}}^\\gamma}^{2} + 0.44\\right)} {{{\\Delta E}}^\\gamma} - 0.16 \\, {{{\\Delta e}}_{{  2}}^\\gamma}\\right)} \\cos\\left(4 \\, {\\phi}\\right) - 0.41 \\, {{{\\Delta e}}_{{  2}}^\\gamma}\\right)} {\\Omega}^{2}}{{\\left(-2.2 \\, {{{\\Delta e}}_{{  2}}^\\gamma}^{4} + {\\left(-0.25 \\, {{{\\Delta E}}^\\gamma}^{2} - 0.25\\right)} {\\left({{{\\Delta e}}_{{  2}}^\\gamma}^{2} + 0.25\\right)}^{2} \\cos\\left(8 \\, {\\phi}\\right) + {\\left(-0.75 \\, {{{\\Delta e}}_{{  2}}^\\gamma}^{4} - 2.9 \\, {{{\\Delta e}}_{{  2}}^\\gamma}^{2} - 1.5\\right)} {{{\\Delta E}}^\\gamma}^{2} + {\\left(-1.2 \\, {{{\\Delta e}}_{{  2}}^\\gamma}^{2} - 0.81\\right)} {{{\\Delta E}}^\\gamma} {{{\\Delta e}}_{{  2}}^\\gamma} - 6.4 \\, {{{\\Delta e}}_{{  2}}^\\gamma}^{2} + {\\left(2 \\, {{{\\Delta e}}_{{  2}}^\\gamma}^{4} + {\\left({{{\\Delta e}}_{{  2}}^\\gamma}^{4} + {{{\\Delta e}}_{{  2}}^\\gamma}^{2} + 0.44\\right)} {{{\\Delta E}}^\\gamma}^{2} + {\\left(-0.75 \\, {{{\\Delta e}}_{{  2}}^\\gamma}^{2} - 0.31\\right)} {{{\\Delta E}}^\\gamma} {{{\\Delta e}}_{{  2}}^\\gamma} + 1.8 \\, {{{\\Delta e}}_{{  2}}^\\gamma}^{2} + 0.62\\right)} \\cos\\left(4 \\, {\\phi}\\right) - 3.1\\right)} {\\gamma}}</script></html>"
      ],
      "text/latex": [
       "$$\\newcommand{\\Bold}[1]{\\mathbf{#1}}\\frac{{\\left(-0.25 \\, {\\left({{{\\Delta e}}_{{  2}}^\\gamma}^{2} + 0.25\\right)}^{2} {{{\\Delta E}}^\\gamma} \\cos\\left(8 \\, {\\phi}\\right) - 0.62 \\, {{{\\Delta e}}_{{  2}}^\\gamma}^{3} + {\\left(-0.75 \\, {{{\\Delta e}}_{{  2}}^\\gamma}^{4} - 2.9 \\, {{{\\Delta e}}_{{  2}}^\\gamma}^{2} - 1.5\\right)} {{{\\Delta E}}^\\gamma} + {\\left(-0.38 \\, {{{\\Delta e}}_{{  2}}^\\gamma}^{3} + {\\left({{{\\Delta e}}_{{  2}}^\\gamma}^{4} + {{{\\Delta e}}_{{  2}}^\\gamma}^{2} + 0.44\\right)} {{{\\Delta E}}^\\gamma} - 0.16 \\, {{{\\Delta e}}_{{  2}}^\\gamma}\\right)} \\cos\\left(4 \\, {\\phi}\\right) - 0.41 \\, {{{\\Delta e}}_{{  2}}^\\gamma}\\right)} {\\Omega}^{2}}{{\\left(-2.2 \\, {{{\\Delta e}}_{{  2}}^\\gamma}^{4} + {\\left(-0.25 \\, {{{\\Delta E}}^\\gamma}^{2} - 0.25\\right)} {\\left({{{\\Delta e}}_{{  2}}^\\gamma}^{2} + 0.25\\right)}^{2} \\cos\\left(8 \\, {\\phi}\\right) + {\\left(-0.75 \\, {{{\\Delta e}}_{{  2}}^\\gamma}^{4} - 2.9 \\, {{{\\Delta e}}_{{  2}}^\\gamma}^{2} - 1.5\\right)} {{{\\Delta E}}^\\gamma}^{2} + {\\left(-1.2 \\, {{{\\Delta e}}_{{  2}}^\\gamma}^{2} - 0.81\\right)} {{{\\Delta E}}^\\gamma} {{{\\Delta e}}_{{  2}}^\\gamma} - 6.4 \\, {{{\\Delta e}}_{{  2}}^\\gamma}^{2} + {\\left(2 \\, {{{\\Delta e}}_{{  2}}^\\gamma}^{4} + {\\left({{{\\Delta e}}_{{  2}}^\\gamma}^{4} + {{{\\Delta e}}_{{  2}}^\\gamma}^{2} + 0.44\\right)} {{{\\Delta E}}^\\gamma}^{2} + {\\left(-0.75 \\, {{{\\Delta e}}_{{  2}}^\\gamma}^{2} - 0.31\\right)} {{{\\Delta E}}^\\gamma} {{{\\Delta e}}_{{  2}}^\\gamma} + 1.8 \\, {{{\\Delta e}}_{{  2}}^\\gamma}^{2} + 0.62\\right)} \\cos\\left(4 \\, {\\phi}\\right) - 3.1\\right)} {\\gamma}}$$"
      ],
      "text/plain": [
       "(-0.25*(Deg2^2 + 0.25)^2*DEg*cos(8*phi) - 0.62*Deg2^3 + (-0.75*Deg2^4 - 2.9*Deg2^2 - 1.5)*DEg + (-0.38*Deg2^3 + (Deg2^4 + Deg2^2 + 0.44)*DEg - 0.16*Deg2)*cos(4*phi) - 0.41*Deg2)*Omega^2/((-2.2*Deg2^4 + (-0.25*DEg^2 - 0.25)*(Deg2^2 + 0.25)^2*cos(8*phi) + (-0.75*Deg2^4 - 2.9*Deg2^2 - 1.5)*DEg^2 + (-1.2*Deg2^2 - 0.81)*DEg*Deg2 - 6.4*Deg2^2 + (2*Deg2^4 + (Deg2^4 + Deg2^2 + 0.44)*DEg^2 + (-0.75*Deg2^2 - 0.31)*DEg*Deg2 + 1.8*Deg2^2 + 0.62)*cos(4*phi) - 3.1)*gamma)"
      ]
     },
     "metadata": {},
     "output_type": "display_data"
    }
   ],
   "source": [
    "show(symround(MMA_simplify(c._maxima_().demoivre()._sage_().expand(),full=True)))"
   ]
  },
  {
   "cell_type": "code",
   "execution_count": 77,
   "id": "c6e91204",
   "metadata": {},
   "outputs": [
    {
     "data": {
      "text/html": [
       "<html><script type=\"math/tex; mode=display\">\\newcommand{\\Bold}[1]{\\mathbf{#1}}-\\frac{0.25 \\, {\\left({\\left({{{\\Delta e}}_{{  1}}^\\gamma}^{2} + 0.25\\right)} {{{\\Delta E}}^\\gamma} \\cos\\left(8 \\, {\\phi}\\right) + 3 \\, {\\left({{{\\Delta e}}_{{  1}}^\\gamma}^{2} + 1.6\\right)} {{{\\Delta E}}^\\gamma} - {\\left({\\left(4 \\, {{{\\Delta e}}_{{  1}}^\\gamma}^{2} + 3\\right)} {{{\\Delta E}}^\\gamma} - {{{\\Delta e}}_{{  1}}^\\gamma}\\right)} \\cos\\left(4 \\, {\\phi}\\right) + {{{\\Delta e}}_{{  1}}^\\gamma}\\right)} {\\Omega}^{2}}{{\\left({\\left(-0.75 \\, {{{\\Delta e}}_{{  1}}^\\gamma}^{2} - 1.2\\right)} {{{\\Delta E}}^\\gamma}^{2} - 0.50 \\, {{{\\Delta E}}^\\gamma} {{{\\Delta e}}_{{  1}}^\\gamma} - 2.2 \\, {{{\\Delta e}}_{{  1}}^\\gamma}^{2} + {\\left({\\left(-0.25 \\, {{{\\Delta e}}_{{  1}}^\\gamma}^{2} - 0.062\\right)} {{{\\Delta E}}^\\gamma}^{2} - 0.25 \\, {{{\\Delta e}}_{{  1}}^\\gamma}^{2} - 0.062\\right)} \\cos\\left(8 \\, {\\phi}\\right) + {\\left({\\left({{{\\Delta e}}_{{  1}}^\\gamma}^{2} + 0.75\\right)} {{{\\Delta E}}^\\gamma}^{2} - 0.50 \\, {{{\\Delta E}}^\\gamma} {{{\\Delta e}}_{{  1}}^\\gamma} + 2 \\, {{{\\Delta e}}_{{  1}}^\\gamma}^{2} + 1.2\\right)} \\cos\\left(4 \\, {\\phi}\\right) - 3.2\\right)} {\\gamma}}</script></html>"
      ],
      "text/latex": [
       "$$\\newcommand{\\Bold}[1]{\\mathbf{#1}}-\\frac{0.25 \\, {\\left({\\left({{{\\Delta e}}_{{  1}}^\\gamma}^{2} + 0.25\\right)} {{{\\Delta E}}^\\gamma} \\cos\\left(8 \\, {\\phi}\\right) + 3 \\, {\\left({{{\\Delta e}}_{{  1}}^\\gamma}^{2} + 1.6\\right)} {{{\\Delta E}}^\\gamma} - {\\left({\\left(4 \\, {{{\\Delta e}}_{{  1}}^\\gamma}^{2} + 3\\right)} {{{\\Delta E}}^\\gamma} - {{{\\Delta e}}_{{  1}}^\\gamma}\\right)} \\cos\\left(4 \\, {\\phi}\\right) + {{{\\Delta e}}_{{  1}}^\\gamma}\\right)} {\\Omega}^{2}}{{\\left({\\left(-0.75 \\, {{{\\Delta e}}_{{  1}}^\\gamma}^{2} - 1.2\\right)} {{{\\Delta E}}^\\gamma}^{2} - 0.50 \\, {{{\\Delta E}}^\\gamma} {{{\\Delta e}}_{{  1}}^\\gamma} - 2.2 \\, {{{\\Delta e}}_{{  1}}^\\gamma}^{2} + {\\left({\\left(-0.25 \\, {{{\\Delta e}}_{{  1}}^\\gamma}^{2} - 0.062\\right)} {{{\\Delta E}}^\\gamma}^{2} - 0.25 \\, {{{\\Delta e}}_{{  1}}^\\gamma}^{2} - 0.062\\right)} \\cos\\left(8 \\, {\\phi}\\right) + {\\left({\\left({{{\\Delta e}}_{{  1}}^\\gamma}^{2} + 0.75\\right)} {{{\\Delta E}}^\\gamma}^{2} - 0.50 \\, {{{\\Delta E}}^\\gamma} {{{\\Delta e}}_{{  1}}^\\gamma} + 2 \\, {{{\\Delta e}}_{{  1}}^\\gamma}^{2} + 1.2\\right)} \\cos\\left(4 \\, {\\phi}\\right) - 3.2\\right)} {\\gamma}}$$"
      ],
      "text/plain": [
       "-0.25*((Deg1^2 + 0.25)*DEg*cos(8*phi) + 3*(Deg1^2 + 1.6)*DEg - ((4*Deg1^2 + 3)*DEg - Deg1)*cos(4*phi) + Deg1)*Omega^2/(((-0.75*Deg1^2 - 1.2)*DEg^2 - 0.50*DEg*Deg1 - 2.2*Deg1^2 + ((-0.25*Deg1^2 - 0.062)*DEg^2 - 0.25*Deg1^2 - 0.062)*cos(8*phi) + ((Deg1^2 + 0.75)*DEg^2 - 0.50*DEg*Deg1 + 2*Deg1^2 + 1.2)*cos(4*phi) - 3.2)*gamma)"
      ]
     },
     "metadata": {},
     "output_type": "display_data"
    }
   ],
   "source": [
    "show(symround(d))"
   ]
  },
  {
   "cell_type": "code",
   "execution_count": 78,
   "id": "e8029e14",
   "metadata": {},
   "outputs": [
    {
     "data": {
      "text/html": [
       "<html><script type=\"math/tex; mode=display\">\\newcommand{\\Bold}[1]{\\mathbf{#1}}\\frac{{\\left({\\left({\\left(-0.25 \\, {{{\\Delta e}}_{{  2}}^\\gamma}^{2} - 0.062\\right)} {{{\\Delta e}}_{{  1}}^\\gamma}^{2} - 0.062 \\, {{{\\Delta e}}_{{  2}}^\\gamma}^{2} - 0.016\\right)} {{{\\Delta E}}^\\gamma} \\cos\\left(8 \\, {\\phi}\\right) + {\\left({\\left(-0.75 \\, {{{\\Delta e}}_{{  2}}^\\gamma}^{2} - 1.2\\right)} {{{\\Delta e}}_{{  1}}^\\gamma}^{2} - 0.62 \\, {{{\\Delta e}}_{{  1}}^\\gamma} {{{\\Delta e}}_{{  2}}^\\gamma} - 1.2 \\, {{{\\Delta e}}_{{  2}}^\\gamma}^{2} - 1.3\\right)} {{{\\Delta E}}^\\gamma} + {\\left(-0.31 \\, {{{\\Delta e}}_{{  1}}^\\gamma} {{{\\Delta e}}_{{  2}}^\\gamma} - 0.25 \\, {{{\\Delta e}}_{{  2}}^\\gamma}^{2} - 0.10\\right)} {{{\\Delta e}}_{{  1}}^\\gamma} + {\\left({\\left({\\left({{{\\Delta e}}_{{  2}}^\\gamma}^{2} + 0.75\\right)} {{{\\Delta e}}_{{  1}}^\\gamma}^{2} - 0.38 \\, {{{\\Delta e}}_{{  1}}^\\gamma} {{{\\Delta e}}_{{  2}}^\\gamma} + 0.75 \\, {{{\\Delta e}}_{{  2}}^\\gamma}^{2} + 0.41\\right)} {{{\\Delta E}}^\\gamma} + {\\left(-0.19 \\, {{{\\Delta e}}_{{  1}}^\\gamma} {{{\\Delta e}}_{{  2}}^\\gamma} - 0.25 \\, {{{\\Delta e}}_{{  2}}^\\gamma}^{2} - 0.094\\right)} {{{\\Delta e}}_{{  1}}^\\gamma} - 0.078 \\, {{{\\Delta e}}_{{  2}}^\\gamma}\\right)} \\cos\\left(4 \\, {\\phi}\\right) - 0.20 \\, {{{\\Delta e}}_{{  2}}^\\gamma}\\right)} {\\Omega}^{2} {\\left(\\cos\\left(8 \\, {\\phi}\\right) + i \\, \\sin\\left(8 \\, {\\phi}\\right)\\right)} e^{\\left(-8 i \\, {\\phi}\\right)}}{{\\left({\\left(-1.2 \\, {{{\\Delta e}}_{{  1}}^\\gamma}^{2} - 1.3\\right)} {{{\\Delta E}}^\\gamma}^{2} + {\\left({\\left(-0.75 \\, {{{\\Delta e}}_{{  1}}^\\gamma}^{2} - 1.2\\right)} {{{\\Delta E}}^\\gamma}^{2} - 0.50 \\, {{{\\Delta E}}^\\gamma} {{{\\Delta e}}_{{  1}}^\\gamma} - 2.2 \\, {{{\\Delta e}}_{{  1}}^\\gamma}^{2} - 3.2\\right)} {{{\\Delta e}}_{{  2}}^\\gamma}^{2} + {\\left({\\left({{{\\Delta e}}_{{  1}}^\\gamma}^{2} + 0.25\\right)} {{{\\Delta E}}^\\gamma}^{2} + {{{\\Delta e}}_{{  1}}^\\gamma}^{2} + 0.25\\right)} {\\left(-0.25 \\, {{{\\Delta e}}_{{  2}}^\\gamma}^{2} - 0.062\\right)} \\cos\\left(8 \\, {\\phi}\\right) - 0.20 \\, {{{\\Delta E}}^\\gamma} {{{\\Delta e}}_{{  1}}^\\gamma} - 2.9 \\, {{{\\Delta e}}_{{  1}}^\\gamma}^{2} + {\\left({\\left(-0.62 \\, {{{\\Delta E}}^\\gamma} {{{\\Delta e}}_{{  1}}^\\gamma} - 0.62 \\, {{{\\Delta e}}_{{  1}}^\\gamma}^{2} - 0.41\\right)} {{{\\Delta E}}^\\gamma} - 1.1 \\, {{{\\Delta e}}_{{  1}}^\\gamma}\\right)} {{{\\Delta e}}_{{  2}}^\\gamma} + {\\left({\\left(0.75 \\, {{{\\Delta e}}_{{  1}}^\\gamma}^{2} + 0.41\\right)} {{{\\Delta E}}^\\gamma}^{2} + {\\left({\\left({{{\\Delta e}}_{{  1}}^\\gamma}^{2} + 0.75\\right)} {{{\\Delta E}}^\\gamma}^{2} - 0.50 \\, {{{\\Delta E}}^\\gamma} {{{\\Delta e}}_{{  1}}^\\gamma} + 2 \\, {{{\\Delta e}}_{{  1}}^\\gamma}^{2} + 1.2\\right)} {{{\\Delta e}}_{{  2}}^\\gamma}^{2} - 0.19 \\, {{{\\Delta E}}^\\gamma} {{{\\Delta e}}_{{  1}}^\\gamma} + 1.2 \\, {{{\\Delta e}}_{{  1}}^\\gamma}^{2} + {\\left({\\left(-0.38 \\, {{{\\Delta E}}^\\gamma} {{{\\Delta e}}_{{  1}}^\\gamma} - 0.38 \\, {{{\\Delta e}}_{{  1}}^\\gamma}^{2} - 0.16\\right)} {{{\\Delta E}}^\\gamma} - 0.50 \\, {{{\\Delta e}}_{{  1}}^\\gamma}\\right)} {{{\\Delta e}}_{{  2}}^\\gamma} + 0.61\\right)} \\cos\\left(4 \\, {\\phi}\\right) - 3\\right)} {\\gamma}}</script></html>"
      ],
      "text/latex": [
       "$$\\newcommand{\\Bold}[1]{\\mathbf{#1}}\\frac{{\\left({\\left({\\left(-0.25 \\, {{{\\Delta e}}_{{  2}}^\\gamma}^{2} - 0.062\\right)} {{{\\Delta e}}_{{  1}}^\\gamma}^{2} - 0.062 \\, {{{\\Delta e}}_{{  2}}^\\gamma}^{2} - 0.016\\right)} {{{\\Delta E}}^\\gamma} \\cos\\left(8 \\, {\\phi}\\right) + {\\left({\\left(-0.75 \\, {{{\\Delta e}}_{{  2}}^\\gamma}^{2} - 1.2\\right)} {{{\\Delta e}}_{{  1}}^\\gamma}^{2} - 0.62 \\, {{{\\Delta e}}_{{  1}}^\\gamma} {{{\\Delta e}}_{{  2}}^\\gamma} - 1.2 \\, {{{\\Delta e}}_{{  2}}^\\gamma}^{2} - 1.3\\right)} {{{\\Delta E}}^\\gamma} + {\\left(-0.31 \\, {{{\\Delta e}}_{{  1}}^\\gamma} {{{\\Delta e}}_{{  2}}^\\gamma} - 0.25 \\, {{{\\Delta e}}_{{  2}}^\\gamma}^{2} - 0.10\\right)} {{{\\Delta e}}_{{  1}}^\\gamma} + {\\left({\\left({\\left({{{\\Delta e}}_{{  2}}^\\gamma}^{2} + 0.75\\right)} {{{\\Delta e}}_{{  1}}^\\gamma}^{2} - 0.38 \\, {{{\\Delta e}}_{{  1}}^\\gamma} {{{\\Delta e}}_{{  2}}^\\gamma} + 0.75 \\, {{{\\Delta e}}_{{  2}}^\\gamma}^{2} + 0.41\\right)} {{{\\Delta E}}^\\gamma} + {\\left(-0.19 \\, {{{\\Delta e}}_{{  1}}^\\gamma} {{{\\Delta e}}_{{  2}}^\\gamma} - 0.25 \\, {{{\\Delta e}}_{{  2}}^\\gamma}^{2} - 0.094\\right)} {{{\\Delta e}}_{{  1}}^\\gamma} - 0.078 \\, {{{\\Delta e}}_{{  2}}^\\gamma}\\right)} \\cos\\left(4 \\, {\\phi}\\right) - 0.20 \\, {{{\\Delta e}}_{{  2}}^\\gamma}\\right)} {\\Omega}^{2} {\\left(\\cos\\left(8 \\, {\\phi}\\right) + i \\, \\sin\\left(8 \\, {\\phi}\\right)\\right)} e^{\\left(-8 i \\, {\\phi}\\right)}}{{\\left({\\left(-1.2 \\, {{{\\Delta e}}_{{  1}}^\\gamma}^{2} - 1.3\\right)} {{{\\Delta E}}^\\gamma}^{2} + {\\left({\\left(-0.75 \\, {{{\\Delta e}}_{{  1}}^\\gamma}^{2} - 1.2\\right)} {{{\\Delta E}}^\\gamma}^{2} - 0.50 \\, {{{\\Delta E}}^\\gamma} {{{\\Delta e}}_{{  1}}^\\gamma} - 2.2 \\, {{{\\Delta e}}_{{  1}}^\\gamma}^{2} - 3.2\\right)} {{{\\Delta e}}_{{  2}}^\\gamma}^{2} + {\\left({\\left({{{\\Delta e}}_{{  1}}^\\gamma}^{2} + 0.25\\right)} {{{\\Delta E}}^\\gamma}^{2} + {{{\\Delta e}}_{{  1}}^\\gamma}^{2} + 0.25\\right)} {\\left(-0.25 \\, {{{\\Delta e}}_{{  2}}^\\gamma}^{2} - 0.062\\right)} \\cos\\left(8 \\, {\\phi}\\right) - 0.20 \\, {{{\\Delta E}}^\\gamma} {{{\\Delta e}}_{{  1}}^\\gamma} - 2.9 \\, {{{\\Delta e}}_{{  1}}^\\gamma}^{2} + {\\left({\\left(-0.62 \\, {{{\\Delta E}}^\\gamma} {{{\\Delta e}}_{{  1}}^\\gamma} - 0.62 \\, {{{\\Delta e}}_{{  1}}^\\gamma}^{2} - 0.41\\right)} {{{\\Delta E}}^\\gamma} - 1.1 \\, {{{\\Delta e}}_{{  1}}^\\gamma}\\right)} {{{\\Delta e}}_{{  2}}^\\gamma} + {\\left({\\left(0.75 \\, {{{\\Delta e}}_{{  1}}^\\gamma}^{2} + 0.41\\right)} {{{\\Delta E}}^\\gamma}^{2} + {\\left({\\left({{{\\Delta e}}_{{  1}}^\\gamma}^{2} + 0.75\\right)} {{{\\Delta E}}^\\gamma}^{2} - 0.50 \\, {{{\\Delta E}}^\\gamma} {{{\\Delta e}}_{{  1}}^\\gamma} + 2 \\, {{{\\Delta e}}_{{  1}}^\\gamma}^{2} + 1.2\\right)} {{{\\Delta e}}_{{  2}}^\\gamma}^{2} - 0.19 \\, {{{\\Delta E}}^\\gamma} {{{\\Delta e}}_{{  1}}^\\gamma} + 1.2 \\, {{{\\Delta e}}_{{  1}}^\\gamma}^{2} + {\\left({\\left(-0.38 \\, {{{\\Delta E}}^\\gamma} {{{\\Delta e}}_{{  1}}^\\gamma} - 0.38 \\, {{{\\Delta e}}_{{  1}}^\\gamma}^{2} - 0.16\\right)} {{{\\Delta E}}^\\gamma} - 0.50 \\, {{{\\Delta e}}_{{  1}}^\\gamma}\\right)} {{{\\Delta e}}_{{  2}}^\\gamma} + 0.61\\right)} \\cos\\left(4 \\, {\\phi}\\right) - 3\\right)} {\\gamma}}$$"
      ],
      "text/plain": [
       "(((-0.25*Deg2^2 - 0.062)*Deg1^2 - 0.062*Deg2^2 - 0.016)*DEg*cos(8*phi) + ((-0.75*Deg2^2 - 1.2)*Deg1^2 - 0.62*Deg1*Deg2 - 1.2*Deg2^2 - 1.3)*DEg + (-0.31*Deg1*Deg2 - 0.25*Deg2^2 - 0.10)*Deg1 + (((Deg2^2 + 0.75)*Deg1^2 - 0.38*Deg1*Deg2 + 0.75*Deg2^2 + 0.41)*DEg + (-0.19*Deg1*Deg2 - 0.25*Deg2^2 - 0.094)*Deg1 - 0.078*Deg2)*cos(4*phi) - 0.20*Deg2)*Omega^2*(cos(8*phi) + I*sin(8*phi))*e^(-8*I*phi)/(((-1.2*Deg1^2 - 1.3)*DEg^2 + ((-0.75*Deg1^2 - 1.2)*DEg^2 - 0.50*DEg*Deg1 - 2.2*Deg1^2 - 3.2)*Deg2^2 + ((Deg1^2 + 0.25)*DEg^2 + Deg1^2 + 0.25)*(-0.25*Deg2^2 - 0.062)*cos(8*phi) - 0.20*DEg*Deg1 - 2.9*Deg1^2 + ((-0.62*DEg*Deg1 - 0.62*Deg1^2 - 0.41)*DEg - 1.1*Deg1)*Deg2 + ((0.75*Deg1^2 + 0.41)*DEg^2 + ((Deg1^2 + 0.75)*DEg^2 - 0.50*DEg*Deg1 + 2*Deg1^2 + 1.2)*Deg2^2 - 0.19*DEg*Deg1 + 1.2*Deg1^2 + ((-0.38*DEg*Deg1 - 0.38*Deg1^2 - 0.16)*DEg - 0.50*Deg1)*Deg2 + 0.61)*cos(4*phi) - 3)*gamma)"
      ]
     },
     "metadata": {},
     "output_type": "display_data"
    }
   ],
   "source": [
    "show(symround(e))"
   ]
  },
  {
   "cell_type": "code",
   "execution_count": 60,
   "id": "4db38925",
   "metadata": {},
   "outputs": [
    {
     "data": {
      "text/plain": [
       "False"
      ]
     },
     "execution_count": 60,
     "metadata": {},
     "output_type": "execute_result"
    }
   ],
   "source": []
  },
  {
   "cell_type": "code",
   "execution_count": null,
   "id": "10016f2a",
   "metadata": {},
   "outputs": [],
   "source": []
  }
 ],
 "metadata": {
  "kernelspec": {
   "display_name": "SageMath 9.3",
   "language": "sage",
   "name": "sagemath"
  },
  "language_info": {
   "codemirror_mode": {
    "name": "ipython",
    "version": 3
   },
   "file_extension": ".py",
   "mimetype": "text/x-python",
   "name": "python",
   "nbconvert_exporter": "python",
   "pygments_lexer": "ipython3",
   "version": "3.9.2"
  }
 },
 "nbformat": 4,
 "nbformat_minor": 5
}
