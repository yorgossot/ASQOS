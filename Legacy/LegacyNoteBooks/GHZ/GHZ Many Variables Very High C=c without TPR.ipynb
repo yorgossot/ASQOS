{
 "cells": [
  {
   "cell_type": "markdown",
   "id": "11ebbd1c",
   "metadata": {},
   "source": [
    "# Many Variables  GHZ\n",
    "\n",
    "with twophotonresonance= off"
   ]
  },
  {
   "cell_type": "code",
   "execution_count": 1,
   "id": "a43f3bbd",
   "metadata": {
    "scrolled": false
   },
   "outputs": [
    {
     "name": "stdout",
     "output_type": "stream",
     "text": [
      "Started!\n",
      "Initializing system o-o-x-o-  ...\n",
      "Constructing states and excitations...\n",
      "Constructing ground and first-excited statespace...\n",
      "Constructing gs_hamiltonian ...\n",
      "Constructing e1_hamiltonian ...\n",
      "Constructing interactions V_plus and V_minus ...\n",
      "Constructing NJ_hamiltonian  ...\n",
      "Inverting NJ_hamiltonian  ...\n",
      "Constructing eff_hamiltonian and effective lindblau operators ...\n",
      "\n",
      "System  o-o-x-o-  initialized in 736.4 seconds.\n"
     ]
    }
   ],
   "source": [
    "print('Started!')\n",
    "from system import *\n",
    "s1 = system('o-o-x-o-',MMA=True,ManyVariables = True,TwoPhotonResonance=False)\n",
    "#s1 = load_object('GHZ')"
   ]
  },
  {
   "cell_type": "markdown",
   "id": "20c87d69",
   "metadata": {},
   "source": [
    "# Effective Hamiltonian Matrix obtain "
   ]
  },
  {
   "cell_type": "code",
   "execution_count": 2,
   "id": "6398d4bb",
   "metadata": {
    "scrolled": true
   },
   "outputs": [
    {
     "name": "stdout",
     "output_type": "stream",
     "text": [
      "Calculating 0 out of [0, 1, 18, 19, 48, 49, 66, 67]...\n",
      "Calculating 1 out of [0, 1, 18, 19, 48, 49, 66, 67]...\n",
      "Calculating 18 out of [0, 1, 18, 19, 48, 49, 66, 67]...\n",
      "Calculating 19 out of [0, 1, 18, 19, 48, 49, 66, 67]...\n",
      "Calculating 48 out of [0, 1, 18, 19, 48, 49, 66, 67]...\n",
      "Calculating 49 out of [0, 1, 18, 19, 48, 49, 66, 67]...\n",
      "Calculating 66 out of [0, 1, 18, 19, 48, 49, 66, 67]...\n",
      "Calculating 67 out of [0, 1, 18, 19, 48, 49, 66, 67]...\n",
      "\n",
      " Done! \n",
      "0 out of 12\n",
      "1 out of 12\n",
      "2 out of 12\n",
      "3 out of 12\n",
      "4 out of 12\n",
      "5 out of 12\n",
      "6 out of 12\n",
      "7 out of 12\n",
      "8 out of 12\n",
      "9 out of 12\n",
      "10 out of 12\n",
      "11 out of 12\n",
      "12 out of 12\n",
      "\n",
      " Done!\n"
     ]
    }
   ],
   "source": [
    "n = 0  #exponent\n",
    "\n",
    "\n",
    "\n",
    "total_indices = s1.variable_index\n",
    "\n",
    "var('dct',domain='positive',  latex_name =r'{\\delta }_c') #modified version without the tilde\n",
    "\n",
    "var('De1', domain='positive')\n",
    "var('Deg1', domain='positive' , latex_name =r'{{\\Delta e}}_{{  1}}^\\gamma')\n",
    "var('De2', domain='positive')\n",
    "var('Deg2', domain='positive' , latex_name =r'{{\\Delta e}}_{{  2}}^\\gamma')\n",
    "var('De3', domain='positive')\n",
    "var('Deg3', domain='positive' , latex_name =r'{{\\Delta e}}_{{  3}}^\\gamma')    \n",
    "\n",
    "var('gamma','DE','De','g','g_f','Omega','v','gamma_f','gamma_g','phi',domain='positive')\n",
    "var('DEg', domain='positive' , latex_name =r'{{\\Delta E}}^\\gamma')\n",
    "var('kappa_c','kappa_b',domain='positive')\n",
    "var('C',domain='positive')\n",
    "var('c',domain='positive',  latex_name =r'c')\n",
    "var('r_f',domain='positive',latex_name =r'r_f')\n",
    "var('r_g',domain='positive',latex_name =r'r_g')\n",
    "var('R_f',domain='positive')#ratio  (g_f/g)^2\n",
    "eff_hamiltonian_tayl = sg.copy( s1.eff_hamiltonian.parent().zero())\n",
    "for diag in s1.pos_gs:\n",
    "    print(f'Calculating {diag} out of {s1.pos_gs}...')\n",
    "    min_expr_len = 10**10\n",
    "    for term in range(1):\n",
    "        b = s1.eff_hamiltonian[diag,diag]\n",
    "        b = b.operands()[1].operands()[term]\n",
    "        if len(str(b))<10: #we isolated Omega^2 instead of one of the conjugate pairs\n",
    "            b = s1.eff_hamiltonian[diag,diag].operands()[0].operands()[term]\n",
    "        \n",
    "        \n",
    "        b = b._mathematica_().ReplaceAll(f'DE->DEg*gamma*C^({n})')._sage_()\n",
    "        #b = b.subs(DE = DEg*gamma*C^n)\n",
    "        \n",
    "        b = b._mathematica_().ReplaceAll(f'De1->Deg1*gamma*C^({n})')._sage_()\n",
    "        #b = b.subs(De1 = Deg1*gamma*C^n) #sqrt C scaling!?\n",
    "        \n",
    "        b = b._mathematica_().ReplaceAll(f'De2->Deg2*gamma*C^({n})')._sage_()\n",
    "        #b = b.subs(De2 = Deg2*gamma*C^n) #MAKE ZERO\n",
    "        \n",
    "        b = b._mathematica_().ReplaceAll(f'De3->Deg2*gamma*C^({n})')._sage_()\n",
    "        #b = b.subs(De3 = Deg3*gamma*C^n) #MAKE ZERO  \n",
    "        \n",
    "        b = b.subs(dc = dct*kappa_c*C^n )\n",
    "        \n",
    "        #b = b.subs(phi = phi_val)\n",
    "        \n",
    "        #b = MMA_simplify(b)\n",
    "        \n",
    "        #b = b._mathematica_().ReplaceAll('g_f->g*(R_f)^(1/2)')._sage_()\n",
    "        b = b.subs(g_f=g*(R_f)^(1/2))\n",
    "\n",
    "        b = b._mathematica_().ReplaceAll('gamma_f->gamma*r_f')._sage_()\n",
    "        #b = b.subs(gamma_f=gamma*r_f)\n",
    "\n",
    "        b = b._mathematica_().ReplaceAll('gamma_g->gamma*r_g')._sage_()\n",
    "        #b = b.subs(gamma_g=gamma*r_g)\n",
    "        \n",
    "        #b = b._mathematica_().ReplaceAll(\"g-> (C*gamma*kappa_c)^(1/2)\")._sage_()\n",
    "        b = b.subs(g = (C*gamma*kappa_c)^(1/2)) \n",
    "        \n",
    "        b = b._mathematica_().ReplaceAll('v->(c*kappa_b*kappa_c)^(1/2)')._sage_()\n",
    "        #b = b.subs(v = (c*kappa_b*kappa_c)^(1/2) )\n",
    "        \n",
    "        \n",
    "        \n",
    "\n",
    "        #Substitutions\n",
    "        #b = b.subs(c=np.pi,R_f=2.1,Deg=np.e,DEg=np.sqrt(5),r_g=np.sqrt(3),r_f=np.sqrt(2), phi=phi_val) \n",
    "        #b = b.subs(phi=phi_val)\n",
    "\n",
    "        #b = b._mathematica_().Factor()._sage_()\n",
    "        #b = b._mathematica_().Together()._sage_()\n",
    "\n",
    "\n",
    "        b = SR(str(b).replace('Sqrt','sqrt'))\n",
    "        if len(str(b))<min_expr_len:\n",
    "            min_expr_len = len(str(b))\n",
    "            h_eff = b\n",
    "    \n",
    "    h_eff = h_eff.subs(c=C)\n",
    "    h_eff = MMA_simplify(h_eff)\n",
    "    '''\n",
    "    h_eff = SR(str(h_eff).replace('Sqrt','sqrt'))\n",
    "    var('x')\n",
    "    h_eff = h_eff.subs(C=1/x)\n",
    "    h_eff = MMA_simplify(h_eff)\n",
    "    h_eff = h_eff._mathematica_().Series((x,0,1)).Normal()._sage_()\n",
    "    h_eff = h_eff.subs(x=1/C)\n",
    "    '''\n",
    "    h_eff = SR(str(h_eff).replace('Sqrt','sqrt'))\n",
    "    eff_hamiltonian_tayl[diag,diag] = h_eff  * Omega^2 / 2\n",
    "\n",
    "print('\\n Done! ')\n",
    "#show(symround(eff_hamiltonian_tayl[s1.pos_gs,s1.pos_gs],digits=3))\n",
    "\n",
    "\n",
    "eff_hamiltonian_tayl_temp = eff_hamiltonian_tayl[s1.pos_gs,s1.pos_gs] \n",
    "\n",
    "\n",
    "\n",
    "\n",
    "\n",
    "lind_op_number = len(s1.lindblau_list)\n",
    "\n",
    "eff_lind_taylor = []\n",
    "eff_lind = []\n",
    "eff_lind_coeff = []\n",
    "for lind_op in range(lind_op_number):\n",
    "    print(f'{lind_op} out of {lind_op_number-1}')\n",
    "    eff_lind_taylor.append([])\n",
    "    eff_lind.append([])\n",
    "    L_matrix = s1.eff_lindblau_list[lind_op]\n",
    "    L_nonzeros = []\n",
    "    L_nonzeros_pos = []\n",
    "    for i in  range(L_matrix.nrows()):\n",
    "        for j in  range(L_matrix.ncols()):\n",
    "            if not str(symround(L_matrix[i,j]))==str(0):\n",
    "                L_nonzeros.append(L_matrix[i,j])\n",
    "                L_nonzeros_pos.append((i,j))\n",
    "    eff_lind_coeff.append(s1.L_coeffs[lind_op])\n",
    "    \n",
    "    for which in range(len(L_nonzeros)):\n",
    "\n",
    "        L_elem = L_nonzeros[which]\n",
    "        b = L_elem\n",
    "        \n",
    "        \n",
    "        b = b._mathematica_().ReplaceAll(f'DE->DEg*gamma*C^({n})')._sage_()\n",
    "        #b = b.subs(DE = DEg*gamma*C^n)\n",
    "        \n",
    "        b = b._mathematica_().ReplaceAll(f'De1->Deg1*gamma*C^({n})')._sage_()\n",
    "        #b = b.subs(De1 = Deg1*gamma*C^n) #sqrt C scaling!?\n",
    "        \n",
    "        b = b._mathematica_().ReplaceAll(f'De2->Deg2*gamma*C^({n})')._sage_()\n",
    "        #b = b.subs(De2 = Deg2*gamma*C^n) #MAKE ZERO\n",
    "        \n",
    "        b = b._mathematica_().ReplaceAll(f'De3->Deg2*gamma*C^({n})')._sage_()\n",
    "        #b = b.subs(De3 = Deg3*gamma*C^n) #MAKE ZERO  \n",
    "        \n",
    "        b = b.subs(dc = dct*kappa_c*C^n )\n",
    "        \n",
    "        #b = b.subs(phi = phi_val)\n",
    "        \n",
    "        #b = MMA_simplify(b)\n",
    "        \n",
    "        #b = b._mathematica_().ReplaceAll('g_f->g*(R_f)^(1/2)')._sage_()\n",
    "        b = b.subs(g_f=g*(R_f)^(1/2))\n",
    "\n",
    "        b = b._mathematica_().ReplaceAll('gamma_f->gamma*r_f')._sage_()\n",
    "        #b = b.subs(gamma_f=gamma*r_f)\n",
    "\n",
    "        b = b._mathematica_().ReplaceAll('gamma_g->gamma*r_g')._sage_()\n",
    "        #b = b.subs(gamma_g=gamma*r_g)\n",
    "        \n",
    "        #b = b._mathematica_().ReplaceAll(\"g-> (C*gamma*kappa_c)^(1/2)\")._sage_()\n",
    "        b = b.subs(g = (C*gamma*kappa_c)^(1/2)) \n",
    "        \n",
    "        b = b._mathematica_().ReplaceAll('v->(c*kappa_b*kappa_c)^(1/2)')._sage_()\n",
    "        \n",
    "        b = b.subs(c=C)\n",
    "        \n",
    "        b = SR(str(b).replace('Sqrt','sqrt'))\n",
    "        \n",
    "        eff_lind[lind_op].append(b)\n",
    "        \n",
    "print('\\n Done!')\n",
    "\n",
    "\n",
    "eff_hamiltonian_tayl = eff_hamiltonian_tayl_temp\n",
    "\n",
    "a = eff_hamiltonian_tayl[0,0]\n",
    "#a = symround( MMA_simplify(a,full=False) ,digits = 14)\n",
    "b = eff_hamiltonian_tayl[1,1]\n",
    "#b = symround(MMA_simplify(b,full=False),digits = 14)\n",
    "c = eff_hamiltonian_tayl[3,3]\n",
    "#c = symround(MMA_simplify(c,full=False),digits = 14)\n",
    "d = eff_hamiltonian_tayl[4,4]\n",
    "#d = symround(MMA_simplify(d,full=False),digits = 14)\n",
    "e = eff_hamiltonian_tayl[5,5]\n",
    "#e = symround(MMA_simplify(e,full=False),digits = 14)\n",
    "f = eff_hamiltonian_tayl[7,7]\n",
    "#f = symround(MMA_simplify(f,full=False),digits = 14)"
   ]
  },
  {
   "cell_type": "code",
   "execution_count": 5,
   "id": "f8e40d94",
   "metadata": {},
   "outputs": [
    {
     "data": {
      "text/html": [
       "<html><script type=\"math/tex; mode=display\">\\newcommand{\\Bold}[1]{\\mathbf{#1}}\\frac{C^{8} {{{\\Delta E}}^\\gamma} {\\Omega}^{2} {\\gamma} + C^{8} {{{\\Delta e}}_{{  2}}^\\gamma} {\\Omega}^{2} {\\gamma} + 4 \\, C^{6} {{{\\Delta E}}^\\gamma} {{{\\Delta e}}_{{  2}}^\\gamma}^{2} {\\Omega}^{2} {\\gamma} + 3.2 \\, C^{7} {{{\\Delta E}}^\\gamma} {\\Omega}^{2} {\\gamma} + 0.50 \\, C^{7} {{{\\Delta e}}_{{  2}}^\\gamma} {\\Omega}^{2} {\\gamma} + 2.5 \\, C^{5} {{{\\Delta E}}^\\gamma} {{{\\Delta e}}_{{  2}}^\\gamma}^{2} {\\Omega}^{2} {\\gamma} + 3.4 \\, C^{6} {{{\\Delta E}}^\\gamma} {\\Omega}^{2} {\\gamma} + 0.094 \\, C^{6} {{{\\Delta e}}_{{  2}}^\\gamma} {\\Omega}^{2} {\\gamma} + 0.64 \\, C^{4} {{{\\Delta E}}^\\gamma} {{{\\Delta e}}_{{  2}}^\\gamma}^{2} {\\Omega}^{2} {\\gamma} + 1.4 \\, C^{5} {{{\\Delta E}}^\\gamma} {\\Omega}^{2} {\\gamma} + 0.0078 \\, C^{5} {{{\\Delta e}}_{{  2}}^\\gamma} {\\Omega}^{2} {\\gamma} + 0.086 \\, C^{3} {{{\\Delta E}}^\\gamma} {{{\\Delta e}}_{{  2}}^\\gamma}^{2} {\\Omega}^{2} {\\gamma} + 0.28 \\, C^{4} {{{\\Delta E}}^\\gamma} {\\Omega}^{2} {\\gamma} + 0.00024 \\, C^{4} {{{\\Delta e}}_{{  2}}^\\gamma} {\\Omega}^{2} {\\gamma} + 0.0063 \\, C^{2} {{{\\Delta E}}^\\gamma} {{{\\Delta e}}_{{  2}}^\\gamma}^{2} {\\Omega}^{2} {\\gamma} + 0.032 \\, C^{3} {{{\\Delta E}}^\\gamma} {\\Omega}^{2} {\\gamma} + 0.00024 \\, C {{{\\Delta E}}^\\gamma} {{{\\Delta e}}_{{  2}}^\\gamma}^{2} {\\Omega}^{2} {\\gamma} + 0.0020 \\, C^{2} {{{\\Delta E}}^\\gamma} {\\Omega}^{2} {\\gamma} + \\left(3.8 \\times 10^{-6}\\right) \\, {{{\\Delta E}}^\\gamma} {{{\\Delta e}}_{{  2}}^\\gamma}^{2} {\\Omega}^{2} {\\gamma} + 0.000069 \\, C {{{\\Delta E}}^\\gamma} {\\Omega}^{2} {\\gamma} + \\left(9.5 \\times 10^{-7}\\right) \\, {{{\\Delta E}}^\\gamma} {\\Omega}^{2} {\\gamma}}{{\\left(C^{4} {{{\\Delta E}}^\\gamma} {\\gamma} + C^{4} {{{\\Delta e}}_{{  2}}^\\gamma} {\\gamma} + 2 i \\, C^{3} {{{\\Delta E}}^\\gamma} {{{\\Delta e}}_{{  2}}^\\gamma} {\\gamma} - 1.9i \\, C^{4} {\\gamma} + 1.6 \\, C^{3} {{{\\Delta E}}^\\gamma} {\\gamma} + 2.6 \\, C^{3} {{{\\Delta e}}_{{  2}}^\\gamma} {\\gamma} + 0.62i \\, C^{2} {{{\\Delta E}}^\\gamma} {{{\\Delta e}}_{{  2}}^\\gamma} {\\gamma} - 2.1i \\, C^{3} {\\gamma} + 0.41 \\, C^{2} {{{\\Delta E}}^\\gamma} {\\gamma} + 0.72 \\, C^{2} {{{\\Delta e}}_{{  2}}^\\gamma} {\\gamma} + 0.062i \\, C {{{\\Delta E}}^\\gamma} {{{\\Delta e}}_{{  2}}^\\gamma} {\\gamma} - 0.46i \\, C^{2} {\\gamma} + 0.035 \\, C {{{\\Delta E}}^\\gamma} {\\gamma} + 0.066 \\, C {{{\\Delta e}}_{{  2}}^\\gamma} {\\gamma} + 0.0020i \\, {{{\\Delta E}}^\\gamma} {{{\\Delta e}}_{{  2}}^\\gamma} {\\gamma} - 0.037i \\, C {\\gamma} + 0.00098 \\, {{{\\Delta E}}^\\gamma} {\\gamma} + 0.0020 \\, {{{\\Delta e}}_{{  2}}^\\gamma} {\\gamma} - 0.00098i \\, {\\gamma}\\right)} {\\left(C^{4} {{{\\Delta E}}^\\gamma} {\\gamma} + C^{4} {{{\\Delta e}}_{{  2}}^\\gamma} {\\gamma} - 2 i \\, C^{3} {{{\\Delta E}}^\\gamma} {{{\\Delta e}}_{{  2}}^\\gamma} {\\gamma} + 1.9i \\, C^{4} {\\gamma} + 1.6 \\, C^{3} {{{\\Delta E}}^\\gamma} {\\gamma} + 2.6 \\, C^{3} {{{\\Delta e}}_{{  2}}^\\gamma} {\\gamma} - 0.62i \\, C^{2} {{{\\Delta E}}^\\gamma} {{{\\Delta e}}_{{  2}}^\\gamma} {\\gamma} + 2.1i \\, C^{3} {\\gamma} + 0.41 \\, C^{2} {{{\\Delta E}}^\\gamma} {\\gamma} + 0.72 \\, C^{2} {{{\\Delta e}}_{{  2}}^\\gamma} {\\gamma} - 0.062i \\, C {{{\\Delta E}}^\\gamma} {{{\\Delta e}}_{{  2}}^\\gamma} {\\gamma} + 0.46i \\, C^{2} {\\gamma} + 0.035 \\, C {{{\\Delta E}}^\\gamma} {\\gamma} + 0.066 \\, C {{{\\Delta e}}_{{  2}}^\\gamma} {\\gamma} - 0.0020i \\, {{{\\Delta E}}^\\gamma} {{{\\Delta e}}_{{  2}}^\\gamma} {\\gamma} + 0.037i \\, C {\\gamma} + 0.00098 \\, {{{\\Delta E}}^\\gamma} {\\gamma} + 0.0020 \\, {{{\\Delta e}}_{{  2}}^\\gamma} {\\gamma} + 0.00098i \\, {\\gamma}\\right)}}</script></html>"
      ],
      "text/latex": [
       "$$\\newcommand{\\Bold}[1]{\\mathbf{#1}}\\frac{C^{8} {{{\\Delta E}}^\\gamma} {\\Omega}^{2} {\\gamma} + C^{8} {{{\\Delta e}}_{{  2}}^\\gamma} {\\Omega}^{2} {\\gamma} + 4 \\, C^{6} {{{\\Delta E}}^\\gamma} {{{\\Delta e}}_{{  2}}^\\gamma}^{2} {\\Omega}^{2} {\\gamma} + 3.2 \\, C^{7} {{{\\Delta E}}^\\gamma} {\\Omega}^{2} {\\gamma} + 0.50 \\, C^{7} {{{\\Delta e}}_{{  2}}^\\gamma} {\\Omega}^{2} {\\gamma} + 2.5 \\, C^{5} {{{\\Delta E}}^\\gamma} {{{\\Delta e}}_{{  2}}^\\gamma}^{2} {\\Omega}^{2} {\\gamma} + 3.4 \\, C^{6} {{{\\Delta E}}^\\gamma} {\\Omega}^{2} {\\gamma} + 0.094 \\, C^{6} {{{\\Delta e}}_{{  2}}^\\gamma} {\\Omega}^{2} {\\gamma} + 0.64 \\, C^{4} {{{\\Delta E}}^\\gamma} {{{\\Delta e}}_{{  2}}^\\gamma}^{2} {\\Omega}^{2} {\\gamma} + 1.4 \\, C^{5} {{{\\Delta E}}^\\gamma} {\\Omega}^{2} {\\gamma} + 0.0078 \\, C^{5} {{{\\Delta e}}_{{  2}}^\\gamma} {\\Omega}^{2} {\\gamma} + 0.086 \\, C^{3} {{{\\Delta E}}^\\gamma} {{{\\Delta e}}_{{  2}}^\\gamma}^{2} {\\Omega}^{2} {\\gamma} + 0.28 \\, C^{4} {{{\\Delta E}}^\\gamma} {\\Omega}^{2} {\\gamma} + 0.00024 \\, C^{4} {{{\\Delta e}}_{{  2}}^\\gamma} {\\Omega}^{2} {\\gamma} + 0.0063 \\, C^{2} {{{\\Delta E}}^\\gamma} {{{\\Delta e}}_{{  2}}^\\gamma}^{2} {\\Omega}^{2} {\\gamma} + 0.032 \\, C^{3} {{{\\Delta E}}^\\gamma} {\\Omega}^{2} {\\gamma} + 0.00024 \\, C {{{\\Delta E}}^\\gamma} {{{\\Delta e}}_{{  2}}^\\gamma}^{2} {\\Omega}^{2} {\\gamma} + 0.0020 \\, C^{2} {{{\\Delta E}}^\\gamma} {\\Omega}^{2} {\\gamma} + \\left(3.8 \\times 10^{-6}\\right) \\, {{{\\Delta E}}^\\gamma} {{{\\Delta e}}_{{  2}}^\\gamma}^{2} {\\Omega}^{2} {\\gamma} + 0.000069 \\, C {{{\\Delta E}}^\\gamma} {\\Omega}^{2} {\\gamma} + \\left(9.5 \\times 10^{-7}\\right) \\, {{{\\Delta E}}^\\gamma} {\\Omega}^{2} {\\gamma}}{{\\left(C^{4} {{{\\Delta E}}^\\gamma} {\\gamma} + C^{4} {{{\\Delta e}}_{{  2}}^\\gamma} {\\gamma} + 2 i \\, C^{3} {{{\\Delta E}}^\\gamma} {{{\\Delta e}}_{{  2}}^\\gamma} {\\gamma} - 1.9i \\, C^{4} {\\gamma} + 1.6 \\, C^{3} {{{\\Delta E}}^\\gamma} {\\gamma} + 2.6 \\, C^{3} {{{\\Delta e}}_{{  2}}^\\gamma} {\\gamma} + 0.62i \\, C^{2} {{{\\Delta E}}^\\gamma} {{{\\Delta e}}_{{  2}}^\\gamma} {\\gamma} - 2.1i \\, C^{3} {\\gamma} + 0.41 \\, C^{2} {{{\\Delta E}}^\\gamma} {\\gamma} + 0.72 \\, C^{2} {{{\\Delta e}}_{{  2}}^\\gamma} {\\gamma} + 0.062i \\, C {{{\\Delta E}}^\\gamma} {{{\\Delta e}}_{{  2}}^\\gamma} {\\gamma} - 0.46i \\, C^{2} {\\gamma} + 0.035 \\, C {{{\\Delta E}}^\\gamma} {\\gamma} + 0.066 \\, C {{{\\Delta e}}_{{  2}}^\\gamma} {\\gamma} + 0.0020i \\, {{{\\Delta E}}^\\gamma} {{{\\Delta e}}_{{  2}}^\\gamma} {\\gamma} - 0.037i \\, C {\\gamma} + 0.00098 \\, {{{\\Delta E}}^\\gamma} {\\gamma} + 0.0020 \\, {{{\\Delta e}}_{{  2}}^\\gamma} {\\gamma} - 0.00098i \\, {\\gamma}\\right)} {\\left(C^{4} {{{\\Delta E}}^\\gamma} {\\gamma} + C^{4} {{{\\Delta e}}_{{  2}}^\\gamma} {\\gamma} - 2 i \\, C^{3} {{{\\Delta E}}^\\gamma} {{{\\Delta e}}_{{  2}}^\\gamma} {\\gamma} + 1.9i \\, C^{4} {\\gamma} + 1.6 \\, C^{3} {{{\\Delta E}}^\\gamma} {\\gamma} + 2.6 \\, C^{3} {{{\\Delta e}}_{{  2}}^\\gamma} {\\gamma} - 0.62i \\, C^{2} {{{\\Delta E}}^\\gamma} {{{\\Delta e}}_{{  2}}^\\gamma} {\\gamma} + 2.1i \\, C^{3} {\\gamma} + 0.41 \\, C^{2} {{{\\Delta E}}^\\gamma} {\\gamma} + 0.72 \\, C^{2} {{{\\Delta e}}_{{  2}}^\\gamma} {\\gamma} - 0.062i \\, C {{{\\Delta E}}^\\gamma} {{{\\Delta e}}_{{  2}}^\\gamma} {\\gamma} + 0.46i \\, C^{2} {\\gamma} + 0.035 \\, C {{{\\Delta E}}^\\gamma} {\\gamma} + 0.066 \\, C {{{\\Delta e}}_{{  2}}^\\gamma} {\\gamma} - 0.0020i \\, {{{\\Delta E}}^\\gamma} {{{\\Delta e}}_{{  2}}^\\gamma} {\\gamma} + 0.037i \\, C {\\gamma} + 0.00098 \\, {{{\\Delta E}}^\\gamma} {\\gamma} + 0.0020 \\, {{{\\Delta e}}_{{  2}}^\\gamma} {\\gamma} + 0.00098i \\, {\\gamma}\\right)}}$$"
      ],
      "text/plain": [
       "(C^8*DEg*Omega^2*gamma + C^8*Deg2*Omega^2*gamma + 4*C^6*DEg*Deg2^2*Omega^2*gamma + 3.2*C^7*DEg*Omega^2*gamma + 0.50*C^7*Deg2*Omega^2*gamma + 2.5*C^5*DEg*Deg2^2*Omega^2*gamma + 3.4*C^6*DEg*Omega^2*gamma + 0.094*C^6*Deg2*Omega^2*gamma + 0.64*C^4*DEg*Deg2^2*Omega^2*gamma + 1.4*C^5*DEg*Omega^2*gamma + 0.0078*C^5*Deg2*Omega^2*gamma + 0.086*C^3*DEg*Deg2^2*Omega^2*gamma + 0.28*C^4*DEg*Omega^2*gamma + 0.00024*C^4*Deg2*Omega^2*gamma + 0.0063*C^2*DEg*Deg2^2*Omega^2*gamma + 0.032*C^3*DEg*Omega^2*gamma + 0.00024*C*DEg*Deg2^2*Omega^2*gamma + 0.0020*C^2*DEg*Omega^2*gamma + (3.8e-6)*DEg*Deg2^2*Omega^2*gamma + 0.000069*C*DEg*Omega^2*gamma + (9.5e-7)*DEg*Omega^2*gamma)/((C^4*DEg*gamma + C^4*Deg2*gamma + 2*I*C^3*DEg*Deg2*gamma - 1.9*I*C^4*gamma + 1.6*C^3*DEg*gamma + 2.6*C^3*Deg2*gamma + 0.62*I*C^2*DEg*Deg2*gamma - 2.1*I*C^3*gamma + 0.41*C^2*DEg*gamma + 0.72*C^2*Deg2*gamma + 0.062*I*C*DEg*Deg2*gamma - 0.46*I*C^2*gamma + 0.035*C*DEg*gamma + 0.066*C*Deg2*gamma + 0.0020*I*DEg*Deg2*gamma - 0.037*I*C*gamma + 0.00098*DEg*gamma + 0.0020*Deg2*gamma - 0.00098*I*gamma)*(C^4*DEg*gamma + C^4*Deg2*gamma - 2*I*C^3*DEg*Deg2*gamma + 1.9*I*C^4*gamma + 1.6*C^3*DEg*gamma + 2.6*C^3*Deg2*gamma - 0.62*I*C^2*DEg*Deg2*gamma + 2.1*I*C^3*gamma + 0.41*C^2*DEg*gamma + 0.72*C^2*Deg2*gamma - 0.062*I*C*DEg*Deg2*gamma + 0.46*I*C^2*gamma + 0.035*C*DEg*gamma + 0.066*C*Deg2*gamma - 0.0020*I*DEg*Deg2*gamma + 0.037*I*C*gamma + 0.00098*DEg*gamma + 0.0020*Deg2*gamma + 0.00098*I*gamma))"
      ]
     },
     "metadata": {},
     "output_type": "display_data"
    }
   ],
   "source": [
    "show(symround(b.subs(dct=0)))"
   ]
  },
  {
   "cell_type": "markdown",
   "id": "f1ddbf1c",
   "metadata": {},
   "source": [
    "# Isolate highest powers"
   ]
  },
  {
   "cell_type": "code",
   "execution_count": 3,
   "id": "e138f038",
   "metadata": {},
   "outputs": [
    {
     "name": "stdout",
     "output_type": "stream",
     "text": [
      "symround: Deleted coefficient 1.3333355467752e-16\n",
      "symround: Deleted coefficient 1.3333355467752e-16\n",
      "symround: Deleted coefficient 1.1102230246252e-16\n",
      "symround: Deleted coefficient -3.4694469519536e-18\n",
      "symround: Deleted coefficient 1.1102230246252e-16\n",
      "symround: Deleted coefficient -3.4694469519536e-18\n",
      "symround: Deleted coefficient 1.1102230246252e-16\n",
      "symround: Deleted coefficient 1.1102230246252e-16\n",
      "symround: Deleted coefficient 1.1102230246252e-16\n",
      "symround: Deleted coefficient 1.1102230246252e-16\n",
      "symround: Deleted coefficient 1.1102230246252e-16\n",
      "symround: Deleted coefficient 1.1102230246252e-16\n",
      "symround: Deleted coefficient 1.1102230246252e-16\n",
      "symround: Deleted coefficient 1.1102230246252e-16\n",
      "symround: Deleted coefficient 1.1102230246252e-16\n",
      "symround: Deleted coefficient 1.6653345369377e-16\n",
      "symround: Deleted coefficient -6.2450045135165e-17\n",
      "symround: Deleted coefficient 6.9388939039072e-18\n",
      "symround: Deleted coefficient 3.8270212473355e-18\n",
      "symround: Deleted coefficient 1.7347234759768e-18\n",
      "symround: Deleted coefficient 6.9388939039072e-18\n",
      "symround: Deleted coefficient 6.9388939039072e-18\n",
      "symround: Deleted coefficient 4.7837765591693e-19\n",
      "symround: Deleted coefficient 6.9388939039072e-18\n",
      "symround: Deleted coefficient 1.4351329677508e-18\n",
      "symround: Deleted coefficient 4.3368086899420e-19\n",
      "symround: Deleted coefficient 6.9388939039072e-18\n",
      "symround: Deleted coefficient 1.4351329677508e-18\n",
      "symround: Deleted coefficient 4.3368086899420e-19\n",
      "symround: Deleted coefficient 2.7755575615629e-17\n",
      "symround: Deleted coefficient 2.7755575615629e-17\n",
      "symround: Deleted coefficient 1.2246467991473e-16\n",
      "symround: Deleted coefficient 1.3877787807815e-17\n",
      "symround: Deleted coefficient 1.9135106236677e-18\n",
      "symround: Deleted coefficient 7.6540424946710e-18\n",
      "symround: Deleted coefficient 1.3877787807815e-17\n",
      "symround: Deleted coefficient 1.7347234759768e-18\n",
      "symround: Deleted coefficient 6.9388939039072e-18\n",
      "symround: Deleted coefficient 6.9388939039072e-18\n",
      "symround: Deleted coefficient 4.7837765591693e-19\n",
      "symround: Deleted coefficient 6.9388939039072e-18\n",
      "symround: Deleted coefficient 6.9388939039072e-18\n",
      "symround: Deleted coefficient 4.7837765591693e-19\n",
      "symround: Deleted coefficient 6.2450045135165e-17\n",
      "symround: Deleted coefficient 1.9081958235745e-17\n",
      "symround: Deleted coefficient 1.9081958235745e-17\n"
     ]
    }
   ],
   "source": [
    "a =  symround( eff_hamiltonian_tayl[0,0],digits = 14)\n",
    "a = symround( MMA_simplify(a,full=False) ,digits = 14)\n",
    "\n",
    "b = symround( eff_hamiltonian_tayl[1,1],digits = 14)\n",
    "b = symround(MMA_simplify(b,full=False),digits = 14)\n",
    "\n",
    "c = symround( eff_hamiltonian_tayl[3,3],digits = 14)\n",
    "c = symround(MMA_simplify(c,full=False),digits = 14)\n",
    "\n",
    "d = symround( eff_hamiltonian_tayl[4,4],digits = 14)\n",
    "d = symround(MMA_simplify(d,full=False),digits = 14)\n",
    "\n",
    "e = symround( eff_hamiltonian_tayl[5,5],digits = 14)\n",
    "e = symround(MMA_simplify(e,full=False),digits = 14)\n",
    "\n",
    "f = symround( eff_hamiltonian_tayl[7,7],digits = 14)\n",
    "f = symround(f,digits = 14)\n",
    "\n",
    "\n",
    "#SUBSTITUTIONS\n",
    "phival = 0 * np.pi \n",
    "R_fval = 1\n",
    "gamma_fval = gamma\n",
    "gamma_gval = gamma\n",
    "dctval = dct\n",
    "\n",
    "\n",
    "#modify abcdef\n",
    "a = (a + conjugate(a)).subs(dct=dctval,phi=phival,R_f=R_fval ,gamma_g = gamma_gval , gamma_f = gamma_fval)._mathematica_().Together()._sage_()\n",
    "b = (b + conjugate(b)).subs(dct=dctval,phi=phival,R_f=R_fval ,gamma_g = gamma_gval , gamma_f = gamma_fval)._mathematica_().Together()._sage_()\n",
    "c = (c + conjugate(c)).subs(dct=dctval,phi=phival,R_f=R_fval ,gamma_g = gamma_gval , gamma_f = gamma_fval)._mathematica_().Together()._sage_()\n",
    "d = (d + conjugate(d)).subs(dct=dctval,phi=phival,R_f=R_fval ,gamma_g = gamma_gval , gamma_f = gamma_fval)._mathematica_().Together()._sage_()\n",
    "e = (e + conjugate(e)).subs(dct=dctval,phi=phival,R_f=R_fval ,gamma_g = gamma_gval , gamma_f = gamma_fval)._mathematica_().Together()._sage_()\n",
    "f = (f + conjugate(f)).subs(dct=dctval,phi=phival,R_f=R_fval ,gamma_g = gamma_gval , gamma_f = gamma_fval)._mathematica_().Together()._sage_()"
   ]
  },
  {
   "cell_type": "code",
   "execution_count": 5,
   "id": "7fb65799",
   "metadata": {},
   "outputs": [
    {
     "ename": "NameError",
     "evalue": "name 'q' is not defined",
     "output_type": "error",
     "traceback": [
      "\u001b[0;31m---------------------------------------------------------------------------\u001b[0m",
      "\u001b[0;31mNameError\u001b[0m                                 Traceback (most recent call last)",
      "\u001b[0;32m<ipython-input-5-e222fcdf3350>\u001b[0m in \u001b[0;36m<module>\u001b[0;34m\u001b[0m\n\u001b[0;32m----> 1\u001b[0;31m \u001b[0mq\u001b[0m\u001b[0;34m\u001b[0m\u001b[0;34m\u001b[0m\u001b[0m\n\u001b[0m",
      "\u001b[0;31mNameError\u001b[0m: name 'q' is not defined"
     ]
    }
   ],
   "source": []
  },
  {
   "cell_type": "code",
   "execution_count": 6,
   "id": "9759d4ba",
   "metadata": {},
   "outputs": [
    {
     "name": "stdout",
     "output_type": "stream",
     "text": [
      "2\n",
      "6\n",
      "10\n",
      "6\n",
      "13\n",
      "1\n"
     ]
    }
   ],
   "source": [
    "term_list = [a,b,c,d,e,f]\n",
    "high_c_limit = [  ]\n",
    "\n",
    "for term in term_list:\n",
    "    num = term._mathematica_().Numerator().Collect('C')._sage_().operands()[0]\n",
    "    i = 1\n",
    "    while num.has(C)==False:\n",
    "        num = term._mathematica_().Numerator().Collect('C')._sage_().operands()[i]\n",
    "        i  = i + 1\n",
    "    print(i)\n",
    "    try:\n",
    "        den = term._mathematica_().Denominator().Collect('C')._sage_().operands()[0]\n",
    "        i=1\n",
    "        while den.has(C)==False:\n",
    "            den = term._mathematica_().Denominator().Collect('C')._sage_().operands()[i]\n",
    "            i= i + 1\n",
    "    except:\n",
    "        den= term._mathematica_().Denominator()._sage_().expand()._mathematica_().Collect('C')._sage_().operands()[0]\n",
    "        i = 1\n",
    "        while den.has(C)==False:\n",
    "            den = term._mathematica_().Denominator().Collect('C')._sage_().operands()[i]\n",
    "            i= i + 1\n",
    "    num = symround(num,digits=14,show_del=False)\n",
    "    den = symround(den,digits=14,show_del=False)\n",
    "    tayl = num/den\n",
    "    if len(high_c_limit)<=5:\n",
    "        tayl = MMA_simplify(tayl,full=True)\n",
    "    high_c_limit.append(tayl)"
   ]
  },
  {
   "cell_type": "code",
   "execution_count": 215,
   "id": "c77fae01",
   "metadata": {},
   "outputs": [],
   "source": [
    "a = high_c_limit[0]\n",
    "b = high_c_limit[1]\n",
    "c = high_c_limit[2]\n",
    "d = high_c_limit[3]\n",
    "e = high_c_limit[4]\n",
    "f = high_c_limit[5]"
   ]
  },
  {
   "cell_type": "code",
   "execution_count": 222,
   "id": "a4edd330",
   "metadata": {},
   "outputs": [
    {
     "data": {
      "text/html": [
       "<html><script type=\"math/tex; mode=display\">\\newcommand{\\Bold}[1]{\\mathbf{#1}}-\\frac{4 \\, {\\Omega}^{2} {{\\delta }_c}}{C {\\gamma}}</script></html>"
      ],
      "text/latex": [
       "$$\\newcommand{\\Bold}[1]{\\mathbf{#1}}-\\frac{4 \\, {\\Omega}^{2} {{\\delta }_c}}{C {\\gamma}}$$"
      ],
      "text/plain": [
       "-4*Omega^2*dct/(C*gamma)"
      ]
     },
     "metadata": {},
     "output_type": "display_data"
    },
    {
     "name": "stdout",
     "output_type": "stream",
     "text": [
      "-\\frac{4 \\, {\\Omega}^{2} {{\\delta }_c}}{C {\\gamma}}\n"
     ]
    }
   ],
   "source": [
    "view = a\n",
    "view = symround(MMA_simplify(view,full=True))\n",
    "show(view)\n",
    "print(latex(view))"
   ]
  },
  {
   "cell_type": "code",
   "execution_count": 208,
   "id": "f8312cf2",
   "metadata": {},
   "outputs": [
    {
     "name": "stdout",
     "output_type": "stream",
     "text": [
      "symround: Deleted coefficient 1.3333355467752e-16\n",
      "symround: Deleted coefficient 1.3333355467752e-16\n",
      "symround: Deleted coefficient 1.1102230246252e-16\n",
      "symround: Deleted coefficient -3.4694469519536e-18\n",
      "symround: Deleted coefficient 1.1102230246252e-16\n",
      "symround: Deleted coefficient -3.4694469519536e-18\n"
     ]
    },
    {
     "data": {
      "text/html": [
       "<html><script type=\"math/tex; mode=display\">\\newcommand{\\Bold}[1]{\\mathbf{#1}}\\frac{4 \\, {{{\\Delta E}}^\\gamma} {\\Omega}^{2}}{C^{2} {\\gamma}}</script></html>"
      ],
      "text/latex": [
       "$$\\newcommand{\\Bold}[1]{\\mathbf{#1}}\\frac{4 \\, {{{\\Delta E}}^\\gamma} {\\Omega}^{2}}{C^{2} {\\gamma}}$$"
      ],
      "text/plain": [
       "4*DEg*Omega^2/(C^2*gamma)"
      ]
     },
     "metadata": {},
     "output_type": "display_data"
    }
   ],
   "source": [
    "x =  symround( eff_hamiltonian_tayl[0,0],digits = 14)\n",
    "\n",
    "x = (x + conjugate(x)).subs(dct=dctval,phi=phival,R_f=R_fval ,gamma_g = gamma_gval , gamma_f = gamma_fval)._mathematica_().Together()._sage_()\n",
    "\n",
    "term = x\n",
    "\n",
    "num = term._mathematica_().Numerator().Collect('C')._sage_().operands()[0]\n",
    "if num.has(C)==False:\n",
    "    num = term._mathematica_().Numerator().Collect('C')._sage_().operands()[0]\n",
    "try:\n",
    "    den = term._mathematica_().Denominator().Collect('C')._sage_().operands()[0]\n",
    "    if den.has(C)==False:\n",
    "        den = term._mathematica_().Denominator().Collect('C')._sage_().operands()[0]\n",
    "except:\n",
    "    den= term._mathematica_().Denominator()._sage_().expand()._mathematica_().Collect('C')._sage_().operands()[0]\n",
    "    if den.has(C)==False:\n",
    "        den = term._mathematica_().Denominator().Collect('C')._sage_().operands()[0]\n",
    "num = symround(num,digits=14,show_del=False)\n",
    "den = symround(den,digits=14,show_del=False)\n",
    "tayl = num/den\n",
    "show(tayl)"
   ]
  },
  {
   "cell_type": "code",
   "execution_count": 189,
   "id": "6901bd20",
   "metadata": {},
   "outputs": [
    {
     "data": {
      "text/html": [
       "<html><script type=\"math/tex; mode=display\">\\newcommand{\\Bold}[1]{\\mathbf{#1}}\\frac{4 \\, {{{\\Delta E}}^\\gamma} {\\Omega}^{2}}{C^{2} {\\gamma}}</script></html>"
      ],
      "text/latex": [
       "$$\\newcommand{\\Bold}[1]{\\mathbf{#1}}\\frac{4 \\, {{{\\Delta E}}^\\gamma} {\\Omega}^{2}}{C^{2} {\\gamma}}$$"
      ],
      "text/plain": [
       "4*DEg*Omega^2/(C^2*gamma)"
      ]
     },
     "metadata": {},
     "output_type": "display_data"
    }
   ],
   "source": [
    "show(symround(MMA_simplify(tayl,full=True)))"
   ]
  },
  {
   "cell_type": "code",
   "execution_count": 211,
   "id": "bc28b949",
   "metadata": {},
   "outputs": [
    {
     "data": {
      "text/html": [
       "<html><script type=\"math/tex; mode=display\">\\newcommand{\\Bold}[1]{\\mathbf{#1}}\\left[C^{8} {\\gamma}^{2}, 5.2 \\, C^{7} {\\gamma}^{2}, {\\left(4 \\, {{{\\Delta E}}^\\gamma}^{2} {\\gamma}^{2} + 8.4 \\, {\\gamma}^{2}\\right)} C^{6}, {\\left(2.5 \\, {{{\\Delta E}}^\\gamma}^{2} {\\gamma}^{2} + 3.9 \\, {\\gamma}^{2}\\right)} C^{5}, {\\left(0.64 \\, {{{\\Delta E}}^\\gamma}^{2} {\\gamma}^{2} + 0.87 \\, {\\gamma}^{2}\\right)} C^{4}, {\\left(0.086 \\, {{{\\Delta E}}^\\gamma}^{2} {\\gamma}^{2} + 0.11 \\, {\\gamma}^{2}\\right)} C^{3}, \\left(3.8 \\times 10^{-6}\\right) \\, {{{\\Delta E}}^\\gamma}^{2} {\\gamma}^{2}, {\\left(0.0063 \\, {{{\\Delta E}}^\\gamma}^{2} {\\gamma}^{2} + 0.0072 \\, {\\gamma}^{2}\\right)} C^{2}, {\\left(0.00024 \\, {{{\\Delta E}}^\\gamma}^{2} {\\gamma}^{2} + 0.00026 \\, {\\gamma}^{2}\\right)} C, \\left(3.8 \\times 10^{-6}\\right) \\, {\\gamma}^{2}\\right]</script></html>"
      ],
      "text/latex": [
       "$$\\newcommand{\\Bold}[1]{\\mathbf{#1}}\\left[C^{8} {\\gamma}^{2}, 5.2 \\, C^{7} {\\gamma}^{2}, {\\left(4 \\, {{{\\Delta E}}^\\gamma}^{2} {\\gamma}^{2} + 8.4 \\, {\\gamma}^{2}\\right)} C^{6}, {\\left(2.5 \\, {{{\\Delta E}}^\\gamma}^{2} {\\gamma}^{2} + 3.9 \\, {\\gamma}^{2}\\right)} C^{5}, {\\left(0.64 \\, {{{\\Delta E}}^\\gamma}^{2} {\\gamma}^{2} + 0.87 \\, {\\gamma}^{2}\\right)} C^{4}, {\\left(0.086 \\, {{{\\Delta E}}^\\gamma}^{2} {\\gamma}^{2} + 0.11 \\, {\\gamma}^{2}\\right)} C^{3}, \\left(3.8 \\times 10^{-6}\\right) \\, {{{\\Delta E}}^\\gamma}^{2} {\\gamma}^{2}, {\\left(0.0063 \\, {{{\\Delta E}}^\\gamma}^{2} {\\gamma}^{2} + 0.0072 \\, {\\gamma}^{2}\\right)} C^{2}, {\\left(0.00024 \\, {{{\\Delta E}}^\\gamma}^{2} {\\gamma}^{2} + 0.00026 \\, {\\gamma}^{2}\\right)} C, \\left(3.8 \\times 10^{-6}\\right) \\, {\\gamma}^{2}\\right]$$"
      ],
      "text/plain": [
       "[C^8*gamma^2,\n",
       " 5.2*C^7*gamma^2,\n",
       " (4*DEg^2*gamma^2 + 8.4*gamma^2)*C^6,\n",
       " (2.5*DEg^2*gamma^2 + 3.9*gamma^2)*C^5,\n",
       " (0.64*DEg^2*gamma^2 + 0.87*gamma^2)*C^4,\n",
       " (0.086*DEg^2*gamma^2 + 0.11*gamma^2)*C^3,\n",
       " (3.8e-6)*DEg^2*gamma^2,\n",
       " (0.0063*DEg^2*gamma^2 + 0.0072*gamma^2)*C^2,\n",
       " (0.00024*DEg^2*gamma^2 + 0.00026*gamma^2)*C,\n",
       " (3.8e-6)*gamma^2]"
      ]
     },
     "metadata": {},
     "output_type": "display_data"
    }
   ],
   "source": [
    "show((symround(x._mathematica_().Denominator().Collect('C')._sage_())).operands())"
   ]
  },
  {
   "cell_type": "code",
   "execution_count": 212,
   "id": "d17b0fb0",
   "metadata": {},
   "outputs": [
    {
     "data": {
      "text/html": [
       "<html><script type=\"math/tex; mode=display\">\\newcommand{\\Bold}[1]{\\mathbf{#1}}\\left[4 \\, C^{6} {{{\\Delta E}}^\\gamma} {\\Omega}^{2} {\\gamma}, 2.5 \\, C^{5} {{{\\Delta E}}^\\gamma} {\\Omega}^{2} {\\gamma}, 0.64 \\, C^{4} {{{\\Delta E}}^\\gamma} {\\Omega}^{2} {\\gamma}, 0.086 \\, C^{3} {{{\\Delta E}}^\\gamma} {\\Omega}^{2} {\\gamma}, 0.0063 \\, C^{2} {{{\\Delta E}}^\\gamma} {\\Omega}^{2} {\\gamma}, 0.00024 \\, C {{{\\Delta E}}^\\gamma} {\\Omega}^{2} {\\gamma}, \\left(3.8 \\times 10^{-6}\\right) \\, {{{\\Delta E}}^\\gamma} {\\Omega}^{2} {\\gamma}\\right]</script></html>"
      ],
      "text/latex": [
       "$$\\newcommand{\\Bold}[1]{\\mathbf{#1}}\\left[4 \\, C^{6} {{{\\Delta E}}^\\gamma} {\\Omega}^{2} {\\gamma}, 2.5 \\, C^{5} {{{\\Delta E}}^\\gamma} {\\Omega}^{2} {\\gamma}, 0.64 \\, C^{4} {{{\\Delta E}}^\\gamma} {\\Omega}^{2} {\\gamma}, 0.086 \\, C^{3} {{{\\Delta E}}^\\gamma} {\\Omega}^{2} {\\gamma}, 0.0063 \\, C^{2} {{{\\Delta E}}^\\gamma} {\\Omega}^{2} {\\gamma}, 0.00024 \\, C {{{\\Delta E}}^\\gamma} {\\Omega}^{2} {\\gamma}, \\left(3.8 \\times 10^{-6}\\right) \\, {{{\\Delta E}}^\\gamma} {\\Omega}^{2} {\\gamma}\\right]$$"
      ],
      "text/plain": [
       "[4*C^6*DEg*Omega^2*gamma,\n",
       " 2.5*C^5*DEg*Omega^2*gamma,\n",
       " 0.64*C^4*DEg*Omega^2*gamma,\n",
       " 0.086*C^3*DEg*Omega^2*gamma,\n",
       " 0.0063*C^2*DEg*Omega^2*gamma,\n",
       " 0.00024*C*DEg*Omega^2*gamma,\n",
       " (3.8e-6)*DEg*Omega^2*gamma]"
      ]
     },
     "metadata": {},
     "output_type": "display_data"
    }
   ],
   "source": [
    "show((symround(x._mathematica_().Numerator().Collect('C')._sage_())).operands())"
   ]
  },
  {
   "cell_type": "markdown",
   "id": "572020dd",
   "metadata": {},
   "source": [
    "# $t_g$ calculation"
   ]
  },
  {
   "cell_type": "code",
   "execution_count": 138,
   "id": "c6e60c7d",
   "metadata": {},
   "outputs": [
    {
     "name": "stdout",
     "output_type": "stream",
     "text": [
      "Finished!\n"
     ]
    }
   ],
   "source": [
    "t_den = (a + e - b - d)._mathematica_().Together()._sage_()\n",
    "\n",
    "ttden = symround(t_den, show_del=True,digits=14  )\n",
    "numnum = 0\n",
    "dennum = 0\n",
    "'''\n",
    "while True:\n",
    "    print(f'numnum={numnum}  ,  dennum={dennum}')\n",
    "    num = ttden._mathematica_().Numerator().Collect('C')._sage_().operands()[numnum]\n",
    "    den = ttden._mathematica_().Denominator().Collect('C')._sage_().operands()[dennum]\n",
    "    tayl = num/den\n",
    "    taylsimp = MMA_simplify(tayl,full=True)\n",
    "    retaylsimp = taylsimp  #(taylsimp+conjugate(taylsimp))   #/2\n",
    "    taylf = retaylsimp._mathematica_().Together()._sage_()\n",
    "    taylf = symround(taylf,digits=14)\n",
    "    if str(taylf) == str(0):\n",
    "        numnum += 1\n",
    "    else:\n",
    "        break\n",
    "'''\n",
    "        \n",
    "print('Finished!')\n",
    "\n",
    "tg = np.pi / ttden"
   ]
  },
  {
   "cell_type": "code",
   "execution_count": 139,
   "id": "0f85eafd",
   "metadata": {},
   "outputs": [
    {
     "data": {
      "text/html": [
       "<html><script type=\"math/tex; mode=display\">\\newcommand{\\Bold}[1]{\\mathbf{#1}}\\frac{13. \\, {\\left({\\left({{{\\Delta e}}_{{  1}}^\\gamma}^{2} + 0.25\\right)} {{{\\Delta E}}^\\gamma}^{2} + 0.50 \\, {{{\\Delta E}}^\\gamma} {{{\\Delta e}}_{{  1}}^\\gamma} + 0.25 \\, {{{\\Delta e}}_{{  1}}^\\gamma}^{2}\\right)} {\\left({{{\\Delta E}}^\\gamma}^{2} + 0.25\\right)} C {\\gamma}}{{\\left({\\left({{{\\Delta E}}^\\gamma} {{{\\Delta e}}_{{  1}}^\\gamma} - 0.25\\right)} {{{\\Delta E}}^\\gamma} - 0.25 \\, {{{\\Delta e}}_{{  1}}^\\gamma}\\right)} {\\Omega}^{2}}</script></html>"
      ],
      "text/latex": [
       "$$\\newcommand{\\Bold}[1]{\\mathbf{#1}}\\frac{13. \\, {\\left({\\left({{{\\Delta e}}_{{  1}}^\\gamma}^{2} + 0.25\\right)} {{{\\Delta E}}^\\gamma}^{2} + 0.50 \\, {{{\\Delta E}}^\\gamma} {{{\\Delta e}}_{{  1}}^\\gamma} + 0.25 \\, {{{\\Delta e}}_{{  1}}^\\gamma}^{2}\\right)} {\\left({{{\\Delta E}}^\\gamma}^{2} + 0.25\\right)} C {\\gamma}}{{\\left({\\left({{{\\Delta E}}^\\gamma} {{{\\Delta e}}_{{  1}}^\\gamma} - 0.25\\right)} {{{\\Delta E}}^\\gamma} - 0.25 \\, {{{\\Delta e}}_{{  1}}^\\gamma}\\right)} {\\Omega}^{2}}$$"
      ],
      "text/plain": [
       "13.*((Deg1^2 + 0.25)*DEg^2 + 0.50*DEg*Deg1 + 0.25*Deg1^2)*(DEg^2 + 0.25)*C*gamma/(((DEg*Deg1 - 0.25)*DEg - 0.25*Deg1)*Omega^2)"
      ]
     },
     "metadata": {},
     "output_type": "display_data"
    }
   ],
   "source": [
    "show(symround(MMA_simplify(tg,full=True).subs()))"
   ]
  },
  {
   "cell_type": "markdown",
   "id": "a9657e46",
   "metadata": {},
   "source": [
    "# condition 1 calculation"
   ]
  },
  {
   "cell_type": "code",
   "execution_count": 140,
   "id": "4f15aeb3",
   "metadata": {},
   "outputs": [
    {
     "name": "stdout",
     "output_type": "stream",
     "text": [
      "Finished!\n"
     ]
    }
   ],
   "source": [
    "t_den = (a + c - 2*b )._mathematica_().Together()._sage_()\n",
    "\n",
    "ttden = symround(t_den, show_del=True,digits=14  )\n",
    "\n",
    "print('Finished!')\n",
    "\n",
    "cond1 = tg*ttden"
   ]
  },
  {
   "cell_type": "code",
   "execution_count": 141,
   "id": "1a7d14d9",
   "metadata": {},
   "outputs": [
    {
     "data": {
      "text/html": [
       "<html><script type=\"math/tex; mode=display\">\\newcommand{\\Bold}[1]{\\mathbf{#1}}\\frac{{\\left(-3.1416 \\, {{{\\Delta e}}_{{  1}}^\\gamma}^{2} - 0.78540\\right)} {{{\\Delta E}}^\\gamma}^{2} - 1.5708 \\, {{{\\Delta E}}^\\gamma} {{{\\Delta e}}_{{  1}}^\\gamma} - 0.78540 \\, {{{\\Delta e}}_{{  1}}^\\gamma}^{2}}{{\\left({{{\\Delta E}}^\\gamma}^{2} {{{\\Delta e}}_{{  1}}^\\gamma} - 0.25000 \\, {{{\\Delta E}}^\\gamma} - 0.25000 \\, {{{\\Delta e}}_{{  1}}^\\gamma}\\right)} {{{\\Delta E}}^\\gamma}}</script></html>"
      ],
      "text/latex": [
       "$$\\newcommand{\\Bold}[1]{\\mathbf{#1}}\\frac{{\\left(-3.1416 \\, {{{\\Delta e}}_{{  1}}^\\gamma}^{2} - 0.78540\\right)} {{{\\Delta E}}^\\gamma}^{2} - 1.5708 \\, {{{\\Delta E}}^\\gamma} {{{\\Delta e}}_{{  1}}^\\gamma} - 0.78540 \\, {{{\\Delta e}}_{{  1}}^\\gamma}^{2}}{{\\left({{{\\Delta E}}^\\gamma}^{2} {{{\\Delta e}}_{{  1}}^\\gamma} - 0.25000 \\, {{{\\Delta E}}^\\gamma} - 0.25000 \\, {{{\\Delta e}}_{{  1}}^\\gamma}\\right)} {{{\\Delta E}}^\\gamma}}$$"
      ],
      "text/plain": [
       "((-3.1416*Deg1^2 - 0.78540)*DEg^2 - 1.5708*DEg*Deg1 - 0.78540*Deg1^2)/((DEg^2*Deg1 - 0.25000*DEg - 0.25000*Deg1)*DEg)"
      ]
     },
     "metadata": {},
     "output_type": "display_data"
    }
   ],
   "source": [
    "show(symround(MMA_simplify(cond1,full= not True).subs(),digits =5))"
   ]
  },
  {
   "cell_type": "markdown",
   "id": "ca1b0c86",
   "metadata": {},
   "source": [
    "# condition 2 calculation"
   ]
  },
  {
   "cell_type": "code",
   "execution_count": 142,
   "id": "f335995a",
   "metadata": {},
   "outputs": [
    {
     "data": {
      "text/html": [
       "<html><script type=\"math/tex; mode=display\">\\newcommand{\\Bold}[1]{\\mathbf{#1}}-\\frac{C^{2} {{{\\Delta E}}^\\gamma}^{6} {{{\\Delta e}}_{{  1}}^\\gamma}^{3} {\\Omega}^{2} + 0.25 \\, C^{2} {{{\\Delta E}}^\\gamma}^{6} {{{\\Delta e}}_{{  1}}^\\gamma} {\\Omega}^{2} + 0.25 \\, C^{2} {{{\\Delta E}}^\\gamma}^{5} {{{\\Delta e}}_{{  1}}^\\gamma}^{2} {\\Omega}^{2} + 0.75 \\, C^{2} {{{\\Delta E}}^\\gamma}^{4} {{{\\Delta e}}_{{  1}}^\\gamma}^{3} {\\Omega}^{2} + 0.19 \\, C^{2} {{{\\Delta E}}^\\gamma}^{4} {{{\\Delta e}}_{{  1}}^\\gamma} {\\Omega}^{2} + 0.31 \\, C^{2} {{{\\Delta E}}^\\gamma}^{3} {{{\\Delta e}}_{{  1}}^\\gamma}^{2} {\\Omega}^{2} + 0.062 \\, {{{\\Delta E}}^\\gamma}^{5} {{{\\Delta e}}_{{  1}}^\\gamma}^{2} {\\Omega}^{2} + 0.12 \\, C^{2} {{{\\Delta E}}^\\gamma}^{2} {{{\\Delta e}}_{{  1}}^\\gamma}^{3} {\\Omega}^{2} + 0.69 \\, {{{\\Delta E}}^\\gamma}^{4} {{{\\Delta e}}_{{  1}}^\\gamma}^{3} {\\Omega}^{2} + 0.016 \\, {{{\\Delta E}}^\\gamma}^{5} {\\Omega}^{2} + 0.20 \\, {{{\\Delta E}}^\\gamma}^{4} {{{\\Delta e}}_{{  1}}^\\gamma} {\\Omega}^{2} + 0.38 \\, {{{\\Delta E}}^\\gamma}^{3} {{{\\Delta e}}_{{  1}}^\\gamma}^{2} {\\Omega}^{2} + 0.34 \\, {{{\\Delta E}}^\\gamma}^{2} {{{\\Delta e}}_{{  1}}^\\gamma}^{3} {\\Omega}^{2} + 0.0039 \\, {{{\\Delta E}}^\\gamma}^{3} {\\Omega}^{2} + 0.051 \\, {{{\\Delta E}}^\\gamma}^{2} {{{\\Delta e}}_{{  1}}^\\gamma} {\\Omega}^{2} + 0.090 \\, {{{\\Delta E}}^\\gamma} {{{\\Delta e}}_{{  1}}^\\gamma}^{2} {\\Omega}^{2} + 0.043 \\, {{{\\Delta e}}_{{  1}}^\\gamma}^{3} {\\Omega}^{2}}{{\\left({{{\\Delta E}}^\\gamma}^{2} {{{\\Delta e}}_{{  1}}^\\gamma}^{2} + 0.25 \\, {{{\\Delta E}}^\\gamma}^{2} + 0.50 \\, {{{\\Delta E}}^\\gamma} {{{\\Delta e}}_{{  1}}^\\gamma} + 0.25 \\, {{{\\Delta e}}_{{  1}}^\\gamma}^{2}\\right)} {\\left({{{\\Delta E}}^\\gamma}^{2} + 0.25\\right)} C^{3} {{{\\Delta E}}^\\gamma}^{3} {{{\\Delta e}}_{{  1}}^\\gamma} {\\gamma}}</script></html>"
      ],
      "text/latex": [
       "$$\\newcommand{\\Bold}[1]{\\mathbf{#1}}-\\frac{C^{2} {{{\\Delta E}}^\\gamma}^{6} {{{\\Delta e}}_{{  1}}^\\gamma}^{3} {\\Omega}^{2} + 0.25 \\, C^{2} {{{\\Delta E}}^\\gamma}^{6} {{{\\Delta e}}_{{  1}}^\\gamma} {\\Omega}^{2} + 0.25 \\, C^{2} {{{\\Delta E}}^\\gamma}^{5} {{{\\Delta e}}_{{  1}}^\\gamma}^{2} {\\Omega}^{2} + 0.75 \\, C^{2} {{{\\Delta E}}^\\gamma}^{4} {{{\\Delta e}}_{{  1}}^\\gamma}^{3} {\\Omega}^{2} + 0.19 \\, C^{2} {{{\\Delta E}}^\\gamma}^{4} {{{\\Delta e}}_{{  1}}^\\gamma} {\\Omega}^{2} + 0.31 \\, C^{2} {{{\\Delta E}}^\\gamma}^{3} {{{\\Delta e}}_{{  1}}^\\gamma}^{2} {\\Omega}^{2} + 0.062 \\, {{{\\Delta E}}^\\gamma}^{5} {{{\\Delta e}}_{{  1}}^\\gamma}^{2} {\\Omega}^{2} + 0.12 \\, C^{2} {{{\\Delta E}}^\\gamma}^{2} {{{\\Delta e}}_{{  1}}^\\gamma}^{3} {\\Omega}^{2} + 0.69 \\, {{{\\Delta E}}^\\gamma}^{4} {{{\\Delta e}}_{{  1}}^\\gamma}^{3} {\\Omega}^{2} + 0.016 \\, {{{\\Delta E}}^\\gamma}^{5} {\\Omega}^{2} + 0.20 \\, {{{\\Delta E}}^\\gamma}^{4} {{{\\Delta e}}_{{  1}}^\\gamma} {\\Omega}^{2} + 0.38 \\, {{{\\Delta E}}^\\gamma}^{3} {{{\\Delta e}}_{{  1}}^\\gamma}^{2} {\\Omega}^{2} + 0.34 \\, {{{\\Delta E}}^\\gamma}^{2} {{{\\Delta e}}_{{  1}}^\\gamma}^{3} {\\Omega}^{2} + 0.0039 \\, {{{\\Delta E}}^\\gamma}^{3} {\\Omega}^{2} + 0.051 \\, {{{\\Delta E}}^\\gamma}^{2} {{{\\Delta e}}_{{  1}}^\\gamma} {\\Omega}^{2} + 0.090 \\, {{{\\Delta E}}^\\gamma} {{{\\Delta e}}_{{  1}}^\\gamma}^{2} {\\Omega}^{2} + 0.043 \\, {{{\\Delta e}}_{{  1}}^\\gamma}^{3} {\\Omega}^{2}}{{\\left({{{\\Delta E}}^\\gamma}^{2} {{{\\Delta e}}_{{  1}}^\\gamma}^{2} + 0.25 \\, {{{\\Delta E}}^\\gamma}^{2} + 0.50 \\, {{{\\Delta E}}^\\gamma} {{{\\Delta e}}_{{  1}}^\\gamma} + 0.25 \\, {{{\\Delta e}}_{{  1}}^\\gamma}^{2}\\right)} {\\left({{{\\Delta E}}^\\gamma}^{2} + 0.25\\right)} C^{3} {{{\\Delta E}}^\\gamma}^{3} {{{\\Delta e}}_{{  1}}^\\gamma} {\\gamma}}$$"
      ],
      "text/plain": [
       "-(C^2*DEg^6*Deg1^3*Omega^2 + 0.25*C^2*DEg^6*Deg1*Omega^2 + 0.25*C^2*DEg^5*Deg1^2*Omega^2 + 0.75*C^2*DEg^4*Deg1^3*Omega^2 + 0.19*C^2*DEg^4*Deg1*Omega^2 + 0.31*C^2*DEg^3*Deg1^2*Omega^2 + 0.062*DEg^5*Deg1^2*Omega^2 + 0.12*C^2*DEg^2*Deg1^3*Omega^2 + 0.69*DEg^4*Deg1^3*Omega^2 + 0.016*DEg^5*Omega^2 + 0.20*DEg^4*Deg1*Omega^2 + 0.38*DEg^3*Deg1^2*Omega^2 + 0.34*DEg^2*Deg1^3*Omega^2 + 0.0039*DEg^3*Omega^2 + 0.051*DEg^2*Deg1*Omega^2 + 0.090*DEg*Deg1^2*Omega^2 + 0.043*Deg1^3*Omega^2)/((DEg^2*Deg1^2 + 0.25*DEg^2 + 0.50*DEg*Deg1 + 0.25*Deg1^2)*(DEg^2 + 0.25)*C^3*DEg^3*Deg1*gamma)"
      ]
     },
     "metadata": {},
     "output_type": "display_data"
    }
   ],
   "source": [
    "# f added\n",
    "t_den = (2*a - 2*b -d + f )._mathematica_().Together()._sage_()\n",
    "ttden = symround(t_den, show_del=True,digits=14 )\n",
    "\n",
    "taylnf = ttden\n",
    "show(symround(taylnf,show_del=False))\n",
    "\n",
    "cond2 = taylnf*tg\n",
    "cond2 = MMA_simplify(cond2,full=not True)"
   ]
  },
  {
   "cell_type": "code",
   "execution_count": 145,
   "id": "3d4c0ac3",
   "metadata": {},
   "outputs": [
    {
     "data": {
      "text/html": [
       "<html><script type=\"math/tex; mode=display\">\\newcommand{\\Bold}[1]{\\mathbf{#1}}\\frac{{\\left(-13. \\, {{{\\Delta e}}_{{  1}}^\\gamma}^{2} - 3.2\\right)} C^{2} {{{\\Delta E}}^\\gamma}^{6} {{{\\Delta e}}_{{  1}}^\\gamma} + {\\left({\\left(-3.2 \\, C^{2} - 0.79\\right)} {{{\\Delta e}}_{{  1}}^\\gamma}^{2} - 0.20\\right)} {{{\\Delta E}}^\\gamma}^{5} + {\\left({\\left(-9.4 \\, {{{\\Delta e}}_{{  1}}^\\gamma}^{2} - 2.3\\right)} C^{2} - 8.6 \\, {{{\\Delta e}}_{{  1}}^\\gamma}^{2} - 2.6\\right)} {{{\\Delta E}}^\\gamma}^{4} {{{\\Delta e}}_{{  1}}^\\gamma} + {\\left({\\left(-3.9 \\, C^{2} - 4.7\\right)} {{{\\Delta e}}_{{  1}}^\\gamma}^{2} - 0.049\\right)} {{{\\Delta E}}^\\gamma}^{3} + {\\left({\\left(-1.6 \\, C^{2} - 4.3\\right)} {{{\\Delta e}}_{{  1}}^\\gamma}^{3} - 0.64 \\, {{{\\Delta e}}_{{  1}}^\\gamma}\\right)} {{{\\Delta E}}^\\gamma}^{2} - 1.1 \\, {{{\\Delta E}}^\\gamma} {{{\\Delta e}}_{{  1}}^\\gamma}^{2} - 0.54 \\, {{{\\Delta e}}_{{  1}}^\\gamma}^{3}}{{\\left({{{\\Delta E}}^\\gamma}^{2} {{{\\Delta e}}_{{  1}}^\\gamma} - 0.25 \\, {{{\\Delta E}}^\\gamma} - 0.25 \\, {{{\\Delta e}}_{{  1}}^\\gamma}\\right)} C^{2} {{{\\Delta E}}^\\gamma}^{3} {{{\\Delta e}}_{{  1}}^\\gamma}}</script></html>"
      ],
      "text/latex": [
       "$$\\newcommand{\\Bold}[1]{\\mathbf{#1}}\\frac{{\\left(-13. \\, {{{\\Delta e}}_{{  1}}^\\gamma}^{2} - 3.2\\right)} C^{2} {{{\\Delta E}}^\\gamma}^{6} {{{\\Delta e}}_{{  1}}^\\gamma} + {\\left({\\left(-3.2 \\, C^{2} - 0.79\\right)} {{{\\Delta e}}_{{  1}}^\\gamma}^{2} - 0.20\\right)} {{{\\Delta E}}^\\gamma}^{5} + {\\left({\\left(-9.4 \\, {{{\\Delta e}}_{{  1}}^\\gamma}^{2} - 2.3\\right)} C^{2} - 8.6 \\, {{{\\Delta e}}_{{  1}}^\\gamma}^{2} - 2.6\\right)} {{{\\Delta E}}^\\gamma}^{4} {{{\\Delta e}}_{{  1}}^\\gamma} + {\\left({\\left(-3.9 \\, C^{2} - 4.7\\right)} {{{\\Delta e}}_{{  1}}^\\gamma}^{2} - 0.049\\right)} {{{\\Delta E}}^\\gamma}^{3} + {\\left({\\left(-1.6 \\, C^{2} - 4.3\\right)} {{{\\Delta e}}_{{  1}}^\\gamma}^{3} - 0.64 \\, {{{\\Delta e}}_{{  1}}^\\gamma}\\right)} {{{\\Delta E}}^\\gamma}^{2} - 1.1 \\, {{{\\Delta E}}^\\gamma} {{{\\Delta e}}_{{  1}}^\\gamma}^{2} - 0.54 \\, {{{\\Delta e}}_{{  1}}^\\gamma}^{3}}{{\\left({{{\\Delta E}}^\\gamma}^{2} {{{\\Delta e}}_{{  1}}^\\gamma} - 0.25 \\, {{{\\Delta E}}^\\gamma} - 0.25 \\, {{{\\Delta e}}_{{  1}}^\\gamma}\\right)} C^{2} {{{\\Delta E}}^\\gamma}^{3} {{{\\Delta e}}_{{  1}}^\\gamma}}$$"
      ],
      "text/plain": [
       "((-13.*Deg1^2 - 3.2)*C^2*DEg^6*Deg1 + ((-3.2*C^2 - 0.79)*Deg1^2 - 0.20)*DEg^5 + ((-9.4*Deg1^2 - 2.3)*C^2 - 8.6*Deg1^2 - 2.6)*DEg^4*Deg1 + ((-3.9*C^2 - 4.7)*Deg1^2 - 0.049)*DEg^3 + ((-1.6*C^2 - 4.3)*Deg1^3 - 0.64*Deg1)*DEg^2 - 1.1*DEg*Deg1^2 - 0.54*Deg1^3)/((DEg^2*Deg1 - 0.25*DEg - 0.25*Deg1)*C^2*DEg^3*Deg1)"
      ]
     },
     "metadata": {},
     "output_type": "display_data"
    }
   ],
   "source": [
    "show(symround(MMA_simplify(cond2,full=not True),show_del=False))"
   ]
  },
  {
   "cell_type": "markdown",
   "id": "aa4744a3",
   "metadata": {},
   "source": [
    "# a bit of processing of the conditions. Use of $D_i = \\dfrac{Deg_i}{DEg}$"
   ]
  },
  {
   "cell_type": "code",
   "execution_count": 146,
   "id": "3fed6386",
   "metadata": {},
   "outputs": [
    {
     "data": {
      "text/html": [
       "<html><script type=\"math/tex; mode=display\">\\newcommand{\\Bold}[1]{\\mathbf{#1}}\\frac{{\\left(-3.2 \\, {{{\\Delta e}}_{{  1}}^\\gamma}^{2} - 0.79\\right)} {{{\\Delta E}}^\\gamma}^{2} - 1.6 \\, {{{\\Delta E}}^\\gamma} {{{\\Delta e}}_{{  1}}^\\gamma} - 0.79 \\, {{{\\Delta e}}_{{  1}}^\\gamma}^{2}}{{\\left({\\left({{{\\Delta E}}^\\gamma} {{{\\Delta e}}_{{  1}}^\\gamma} - 0.25\\right)} {{{\\Delta E}}^\\gamma} - 0.25 \\, {{{\\Delta e}}_{{  1}}^\\gamma}\\right)} {{{\\Delta E}}^\\gamma}}</script></html>"
      ],
      "text/latex": [
       "$$\\newcommand{\\Bold}[1]{\\mathbf{#1}}\\frac{{\\left(-3.2 \\, {{{\\Delta e}}_{{  1}}^\\gamma}^{2} - 0.79\\right)} {{{\\Delta E}}^\\gamma}^{2} - 1.6 \\, {{{\\Delta E}}^\\gamma} {{{\\Delta e}}_{{  1}}^\\gamma} - 0.79 \\, {{{\\Delta e}}_{{  1}}^\\gamma}^{2}}{{\\left({\\left({{{\\Delta E}}^\\gamma} {{{\\Delta e}}_{{  1}}^\\gamma} - 0.25\\right)} {{{\\Delta E}}^\\gamma} - 0.25 \\, {{{\\Delta e}}_{{  1}}^\\gamma}\\right)} {{{\\Delta E}}^\\gamma}}$$"
      ],
      "text/plain": [
       "((-3.2*Deg1^2 - 0.79)*DEg^2 - 1.6*DEg*Deg1 - 0.79*Deg1^2)/(((DEg*Deg1 - 0.25)*DEg - 0.25*Deg1)*DEg)"
      ]
     },
     "metadata": {},
     "output_type": "display_data"
    },
    {
     "name": "stdout",
     "output_type": "stream",
     "text": [
      "\n",
      "\n",
      "\n",
      "\n"
     ]
    },
    {
     "data": {
      "text/html": [
       "<html><script type=\"math/tex; mode=display\">\\newcommand{\\Bold}[1]{\\mathbf{#1}}\\frac{-0.20 \\, {{{\\Delta E}}^\\gamma}^{5} + {\\left({\\left({\\left(-3.2 \\, {{{\\Delta E}}^\\gamma}^{2} - 2.3\\right)} C^{2} - 2.6\\right)} {{{\\Delta E}}^\\gamma}^{2} - 0.64\\right)} {{{\\Delta E}}^\\gamma}^{2} {{{\\Delta e}}_{{  1}}^\\gamma} + {\\left({\\left(-3.2 \\, C^{2} - 0.79\\right)} {{{\\Delta E}}^\\gamma}^{4} + {\\left(-3.9 \\, C^{2} - 4.7\\right)} {{{\\Delta E}}^\\gamma}^{2} - 1.1\\right)} {{{\\Delta E}}^\\gamma} {{{\\Delta e}}_{{  1}}^\\gamma}^{2} + {\\left({\\left({\\left(-13. \\, {{{\\Delta E}}^\\gamma}^{4} - 9.4 \\, {{{\\Delta E}}^\\gamma}^{2} - 1.6\\right)} C^{2} - 8.6 \\, {{{\\Delta E}}^\\gamma}^{2} - 4.3\\right)} {{{\\Delta E}}^\\gamma}^{2} - 0.54\\right)} {{{\\Delta e}}_{{  1}}^\\gamma}^{3} - 0.049 \\, {{{\\Delta E}}^\\gamma}^{3}}{{\\left({\\left({{{\\Delta E}}^\\gamma} {{{\\Delta e}}_{{  1}}^\\gamma} - 0.25\\right)} {{{\\Delta E}}^\\gamma} - 0.25 \\, {{{\\Delta e}}_{{  1}}^\\gamma}\\right)} C^{2} {{{\\Delta E}}^\\gamma}^{3} {{{\\Delta e}}_{{  1}}^\\gamma}}</script></html>"
      ],
      "text/latex": [
       "$$\\newcommand{\\Bold}[1]{\\mathbf{#1}}\\frac{-0.20 \\, {{{\\Delta E}}^\\gamma}^{5} + {\\left({\\left({\\left(-3.2 \\, {{{\\Delta E}}^\\gamma}^{2} - 2.3\\right)} C^{2} - 2.6\\right)} {{{\\Delta E}}^\\gamma}^{2} - 0.64\\right)} {{{\\Delta E}}^\\gamma}^{2} {{{\\Delta e}}_{{  1}}^\\gamma} + {\\left({\\left(-3.2 \\, C^{2} - 0.79\\right)} {{{\\Delta E}}^\\gamma}^{4} + {\\left(-3.9 \\, C^{2} - 4.7\\right)} {{{\\Delta E}}^\\gamma}^{2} - 1.1\\right)} {{{\\Delta E}}^\\gamma} {{{\\Delta e}}_{{  1}}^\\gamma}^{2} + {\\left({\\left({\\left(-13. \\, {{{\\Delta E}}^\\gamma}^{4} - 9.4 \\, {{{\\Delta E}}^\\gamma}^{2} - 1.6\\right)} C^{2} - 8.6 \\, {{{\\Delta E}}^\\gamma}^{2} - 4.3\\right)} {{{\\Delta E}}^\\gamma}^{2} - 0.54\\right)} {{{\\Delta e}}_{{  1}}^\\gamma}^{3} - 0.049 \\, {{{\\Delta E}}^\\gamma}^{3}}{{\\left({\\left({{{\\Delta E}}^\\gamma} {{{\\Delta e}}_{{  1}}^\\gamma} - 0.25\\right)} {{{\\Delta E}}^\\gamma} - 0.25 \\, {{{\\Delta e}}_{{  1}}^\\gamma}\\right)} C^{2} {{{\\Delta E}}^\\gamma}^{3} {{{\\Delta e}}_{{  1}}^\\gamma}}$$"
      ],
      "text/plain": [
       "(-0.20*DEg^5 + (((-3.2*DEg^2 - 2.3)*C^2 - 2.6)*DEg^2 - 0.64)*DEg^2*Deg1 + ((-3.2*C^2 - 0.79)*DEg^4 + (-3.9*C^2 - 4.7)*DEg^2 - 1.1)*DEg*Deg1^2 + (((-13.*DEg^4 - 9.4*DEg^2 - 1.6)*C^2 - 8.6*DEg^2 - 4.3)*DEg^2 - 0.54)*Deg1^3 - 0.049*DEg^3)/(((DEg*Deg1 - 0.25)*DEg - 0.25*Deg1)*C^2*DEg^3*Deg1)"
      ]
     },
     "metadata": {},
     "output_type": "display_data"
    }
   ],
   "source": [
    "cond1 = MMA_simplify(cond1,full=True)\n",
    "show(symround(cond1))\n",
    "print('\\n\\n\\n')\n",
    "cond2 = MMA_simplify(cond2,full=True)\n",
    "show(symround(cond2))"
   ]
  },
  {
   "cell_type": "code",
   "execution_count": 152,
   "id": "bb77bc57",
   "metadata": {},
   "outputs": [],
   "source": [
    "var('D1', domain='positive',latex_name='D_1')\n",
    "var('D2', domain='positive',latex_name='D_2')\n",
    "cond1sub = cond1.subs(Deg1 = DEg *D1 , Deg2 = DEg *D2 )\n",
    "cond1sub = MMA_simplify(cond1sub,full=True)\n",
    "cond2sub = cond2.subs(Deg1 = DEg *D1 , Deg2 = DEg *D2 )\n",
    "cond2sub = MMA_simplify(cond2sub,full=True)"
   ]
  },
  {
   "cell_type": "code",
   "execution_count": 153,
   "id": "4bbd6b83",
   "metadata": {},
   "outputs": [
    {
     "data": {
      "text/html": [
       "<html><script type=\"math/tex; mode=display\">\\newcommand{\\Bold}[1]{\\mathbf{#1}}-3.2 \\, {D_1} + \\frac{{D_1} {\\left(-1.6 \\, {D_1} - 2.3\\right)} - 0.79}{{D_1} {{{\\Delta E}}^\\gamma}^{2} - 0.25 \\, {D_1} - 0.25}</script></html>"
      ],
      "text/latex": [
       "$$\\newcommand{\\Bold}[1]{\\mathbf{#1}}-3.2 \\, {D_1} + \\frac{{D_1} {\\left(-1.6 \\, {D_1} - 2.3\\right)} - 0.79}{{D_1} {{{\\Delta E}}^\\gamma}^{2} - 0.25 \\, {D_1} - 0.25}$$"
      ],
      "text/plain": [
       "-3.2*D1 + (D1*(-1.6*D1 - 2.3) - 0.79)/(D1*DEg^2 - 0.25*D1 - 0.25)"
      ]
     },
     "metadata": {},
     "output_type": "display_data"
    },
    {
     "name": "stdout",
     "output_type": "stream",
     "text": [
      "\n",
      "\n",
      "\n"
     ]
    },
    {
     "data": {
      "text/html": [
       "<html><script type=\"math/tex; mode=display\">\\newcommand{\\Bold}[1]{\\mathbf{#1}}\\frac{-13. \\, C^{2} {D_1}^{3} {{{\\Delta E}}^\\gamma}^{6} + {\\left({\\left({D_1} {\\left(-9.4 \\, {D_1} - 3.2\\right)} - 3.2\\right)} C^{2} + {D_1} {\\left(-8.6 \\, {D_1} - 0.79\\right)}\\right)} {D_1} {{{\\Delta E}}^\\gamma}^{4} + {\\left({\\left({\\left({D_1} {\\left(-1.6 \\, {D_1} - 3.9\\right)} - 2.3\\right)} C^{2} + {D_1} {\\left(-4.3 \\, {D_1} - 4.7\\right)} - 2.6\\right)} {D_1} - 0.20\\right)} {{{\\Delta E}}^\\gamma}^{2} + {\\left({D_1} {\\left(-0.54 \\, {D_1} - 1.1\\right)} - 0.64\\right)} {D_1} - 0.049}{{\\left({D_1} {{{\\Delta E}}^\\gamma}^{2} - 0.25 \\, {D_1} - 0.25\\right)} C^{2} {D_1} {{{\\Delta E}}^\\gamma}^{2}}</script></html>"
      ],
      "text/latex": [
       "$$\\newcommand{\\Bold}[1]{\\mathbf{#1}}\\frac{-13. \\, C^{2} {D_1}^{3} {{{\\Delta E}}^\\gamma}^{6} + {\\left({\\left({D_1} {\\left(-9.4 \\, {D_1} - 3.2\\right)} - 3.2\\right)} C^{2} + {D_1} {\\left(-8.6 \\, {D_1} - 0.79\\right)}\\right)} {D_1} {{{\\Delta E}}^\\gamma}^{4} + {\\left({\\left({\\left({D_1} {\\left(-1.6 \\, {D_1} - 3.9\\right)} - 2.3\\right)} C^{2} + {D_1} {\\left(-4.3 \\, {D_1} - 4.7\\right)} - 2.6\\right)} {D_1} - 0.20\\right)} {{{\\Delta E}}^\\gamma}^{2} + {\\left({D_1} {\\left(-0.54 \\, {D_1} - 1.1\\right)} - 0.64\\right)} {D_1} - 0.049}{{\\left({D_1} {{{\\Delta E}}^\\gamma}^{2} - 0.25 \\, {D_1} - 0.25\\right)} C^{2} {D_1} {{{\\Delta E}}^\\gamma}^{2}}$$"
      ],
      "text/plain": [
       "(-13.*C^2*D1^3*DEg^6 + ((D1*(-9.4*D1 - 3.2) - 3.2)*C^2 + D1*(-8.6*D1 - 0.79))*D1*DEg^4 + (((D1*(-1.6*D1 - 3.9) - 2.3)*C^2 + D1*(-4.3*D1 - 4.7) - 2.6)*D1 - 0.20)*DEg^2 + (D1*(-0.54*D1 - 1.1) - 0.64)*D1 - 0.049)/((D1*DEg^2 - 0.25*D1 - 0.25)*C^2*D1*DEg^2)"
      ]
     },
     "metadata": {},
     "output_type": "display_data"
    }
   ],
   "source": [
    "show(symround(cond1sub))\n",
    "print('\\n\\n')\n",
    "show(symround(cond2sub))"
   ]
  },
  {
   "cell_type": "code",
   "execution_count": 149,
   "id": "8cce85a8",
   "metadata": {},
   "outputs": [
    {
     "data": {
      "image/png": "[encoded data removed]",
      "text/plain": [
       "Graphics object consisting of 1 graphics primitive"
      ]
     },
     "execution_count": 149,
     "metadata": {},
     "output_type": "execute_result"
    }
   ],
   "source": [
    "DEgval = 1\n",
    "D2val  = 0\n",
    "plot(cond1sub.subs(DEg=DEgval,D2=D2val)/(2*np.pi),(D1,0.5,5), gridlines=True)"
   ]
  },
  {
   "cell_type": "code",
   "execution_count": 150,
   "id": "9fad18ee",
   "metadata": {},
   "outputs": [
    {
     "ename": "ValueError",
     "evalue": "Variable 'D1' not found",
     "output_type": "error",
     "traceback": [
      "\u001b[0;31m---------------------------------------------------------------------------\u001b[0m",
      "\u001b[0;31mValueError\u001b[0m                                Traceback (most recent call last)",
      "\u001b[0;32m/opt/SageMath/SageMath/local/lib/python3.9/site-packages/sage/ext/fast_callable.pyx\u001b[0m in \u001b[0;36msage.ext.fast_callable.ExpressionTreeBuilder.var (build/cythonized/sage/ext/fast_callable.c:6739)\u001b[0;34m()\u001b[0m\n\u001b[1;32m    687\u001b[0m         \u001b[0;32mtry\u001b[0m\u001b[0;34m:\u001b[0m\u001b[0;34m\u001b[0m\u001b[0;34m\u001b[0m\u001b[0m\n\u001b[0;32m--> 688\u001b[0;31m             \u001b[0mind\u001b[0m \u001b[0;34m=\u001b[0m \u001b[0mself\u001b[0m\u001b[0;34m.\u001b[0m\u001b[0m_vars\u001b[0m\u001b[0;34m.\u001b[0m\u001b[0mindex\u001b[0m\u001b[0;34m(\u001b[0m\u001b[0mvar_name\u001b[0m\u001b[0;34m)\u001b[0m\u001b[0;34m\u001b[0m\u001b[0;34m\u001b[0m\u001b[0m\n\u001b[0m\u001b[1;32m    689\u001b[0m         \u001b[0;32mexcept\u001b[0m \u001b[0mValueError\u001b[0m\u001b[0;34m:\u001b[0m\u001b[0;34m\u001b[0m\u001b[0;34m\u001b[0m\u001b[0m\n",
      "\u001b[0;31mValueError\u001b[0m: 'D1' is not in list",
      "\nDuring handling of the above exception, another exception occurred:\n",
      "\u001b[0;31mValueError\u001b[0m                                Traceback (most recent call last)",
      "\u001b[0;32m<ipython-input-150-4d1a6416ba69>\u001b[0m in \u001b[0;36m<module>\u001b[0;34m\u001b[0m\n\u001b[0;32m----> 1\u001b[0;31m \u001b[0mplot\u001b[0m\u001b[0;34m(\u001b[0m\u001b[0mcond2sub\u001b[0m\u001b[0;34m.\u001b[0m\u001b[0msubs\u001b[0m\u001b[0;34m(\u001b[0m\u001b[0mDEg\u001b[0m\u001b[0;34m=\u001b[0m\u001b[0mDEgval\u001b[0m\u001b[0;34m,\u001b[0m\u001b[0mD2\u001b[0m\u001b[0;34m=\u001b[0m\u001b[0mD2val\u001b[0m\u001b[0;34m)\u001b[0m\u001b[0;34m/\u001b[0m\u001b[0;34m(\u001b[0m\u001b[0mInteger\u001b[0m\u001b[0;34m(\u001b[0m\u001b[0;36m2\u001b[0m\u001b[0;34m)\u001b[0m\u001b[0;34m*\u001b[0m\u001b[0mnp\u001b[0m\u001b[0;34m.\u001b[0m\u001b[0mpi\u001b[0m\u001b[0;34m)\u001b[0m\u001b[0;34m,\u001b[0m\u001b[0;34m(\u001b[0m\u001b[0mD1\u001b[0m\u001b[0;34m,\u001b[0m\u001b[0mRealNumber\u001b[0m\u001b[0;34m(\u001b[0m\u001b[0;34m'0.5'\u001b[0m\u001b[0;34m)\u001b[0m\u001b[0;34m,\u001b[0m\u001b[0mInteger\u001b[0m\u001b[0;34m(\u001b[0m\u001b[0;36m5\u001b[0m\u001b[0;34m)\u001b[0m\u001b[0;34m)\u001b[0m\u001b[0;34m,\u001b[0m \u001b[0mgridlines\u001b[0m\u001b[0;34m=\u001b[0m\u001b[0;32mTrue\u001b[0m\u001b[0;34m)\u001b[0m\u001b[0;34m\u001b[0m\u001b[0;34m\u001b[0m\u001b[0m\n\u001b[0m",
      "\u001b[0;32m/opt/SageMath/SageMath/local/lib/python3.9/site-packages/sage/misc/decorators.py\u001b[0m in \u001b[0;36mwrapper\u001b[0;34m(*args, **kwds)\u001b[0m\n\u001b[1;32m    489\u001b[0m                 \u001b[0moptions\u001b[0m\u001b[0;34m[\u001b[0m\u001b[0;34m'__original_opts'\u001b[0m\u001b[0;34m]\u001b[0m \u001b[0;34m=\u001b[0m \u001b[0mkwds\u001b[0m\u001b[0;34m\u001b[0m\u001b[0;34m\u001b[0m\u001b[0m\n\u001b[1;32m    490\u001b[0m             \u001b[0moptions\u001b[0m\u001b[0;34m.\u001b[0m\u001b[0mupdate\u001b[0m\u001b[0;34m(\u001b[0m\u001b[0mkwds\u001b[0m\u001b[0;34m)\u001b[0m\u001b[0;34m\u001b[0m\u001b[0;34m\u001b[0m\u001b[0m\n\u001b[0;32m--> 491\u001b[0;31m             \u001b[0;32mreturn\u001b[0m \u001b[0mfunc\u001b[0m\u001b[0;34m(\u001b[0m\u001b[0;34m*\u001b[0m\u001b[0margs\u001b[0m\u001b[0;34m,\u001b[0m \u001b[0;34m**\u001b[0m\u001b[0moptions\u001b[0m\u001b[0;34m)\u001b[0m\u001b[0;34m\u001b[0m\u001b[0;34m\u001b[0m\u001b[0m\n\u001b[0m\u001b[1;32m    492\u001b[0m \u001b[0;34m\u001b[0m\u001b[0m\n\u001b[1;32m    493\u001b[0m         \u001b[0;31m#Add the options specified by @options to the signature of the wrapped\u001b[0m\u001b[0;34m\u001b[0m\u001b[0;34m\u001b[0m\u001b[0;34m\u001b[0m\u001b[0m\n",
      "\u001b[0;32m/opt/SageMath/SageMath/local/lib/python3.9/site-packages/sage/plot/plot.py\u001b[0m in \u001b[0;36mplot\u001b[0;34m(funcs, *args, **kwds)\u001b[0m\n\u001b[1;32m   1955\u001b[0m \u001b[0;34m\u001b[0m\u001b[0m\n\u001b[1;32m   1956\u001b[0m     \u001b[0;32mif\u001b[0m \u001b[0mhasattr\u001b[0m\u001b[0;34m(\u001b[0m\u001b[0mfuncs\u001b[0m\u001b[0;34m,\u001b[0m \u001b[0;34m'plot'\u001b[0m\u001b[0;34m)\u001b[0m\u001b[0;34m:\u001b[0m\u001b[0;34m\u001b[0m\u001b[0;34m\u001b[0m\u001b[0m\n\u001b[0;32m-> 1957\u001b[0;31m         \u001b[0mG\u001b[0m \u001b[0;34m=\u001b[0m \u001b[0mfuncs\u001b[0m\u001b[0;34m.\u001b[0m\u001b[0mplot\u001b[0m\u001b[0;34m(\u001b[0m\u001b[0;34m*\u001b[0m\u001b[0margs\u001b[0m\u001b[0;34m,\u001b[0m \u001b[0;34m**\u001b[0m\u001b[0moriginal_opts\u001b[0m\u001b[0;34m)\u001b[0m\u001b[0;34m\u001b[0m\u001b[0;34m\u001b[0m\u001b[0m\n\u001b[0m\u001b[1;32m   1958\u001b[0m \u001b[0;34m\u001b[0m\u001b[0m\n\u001b[1;32m   1959\u001b[0m         \u001b[0;31m# If we have extra keywords already set, then update them\u001b[0m\u001b[0;34m\u001b[0m\u001b[0;34m\u001b[0m\u001b[0;34m\u001b[0m\u001b[0m\n",
      "\u001b[0;32m/opt/SageMath/SageMath/local/lib/python3.9/site-packages/sage/symbolic/expression.pyx\u001b[0m in \u001b[0;36msage.symbolic.expression.Expression.plot (build/cythonized/sage/symbolic/expression.cpp:65691)\u001b[0;34m()\u001b[0m\n\u001b[1;32m  12298\u001b[0m                     \u001b[0mparam\u001b[0m \u001b[0;34m=\u001b[0m \u001b[0mA\u001b[0m\u001b[0;34m[\u001b[0m\u001b[0;36m0\u001b[0m\u001b[0;34m]\u001b[0m\u001b[0;34m\u001b[0m\u001b[0;34m\u001b[0m\u001b[0m\n\u001b[1;32m  12299\u001b[0m                     \u001b[0;32mtry\u001b[0m\u001b[0;34m:\u001b[0m\u001b[0;34m\u001b[0m\u001b[0;34m\u001b[0m\u001b[0m\n\u001b[0;32m> 12300\u001b[0;31m                         \u001b[0mf\u001b[0m \u001b[0;34m=\u001b[0m \u001b[0mself\u001b[0m\u001b[0;34m.\u001b[0m\u001b[0m_plot_fast_callable\u001b[0m\u001b[0;34m(\u001b[0m\u001b[0mparam\u001b[0m\u001b[0;34m)\u001b[0m\u001b[0;34m\u001b[0m\u001b[0;34m\u001b[0m\u001b[0m\n\u001b[0m\u001b[1;32m  12301\u001b[0m                     \u001b[0;32mexcept\u001b[0m \u001b[0mNotImplementedError\u001b[0m\u001b[0;34m:\u001b[0m\u001b[0;34m\u001b[0m\u001b[0;34m\u001b[0m\u001b[0m\n\u001b[1;32m  12302\u001b[0m                         \u001b[0;32mreturn\u001b[0m \u001b[0mself\u001b[0m\u001b[0;34m.\u001b[0m\u001b[0mfunction\u001b[0m\u001b[0;34m(\u001b[0m\u001b[0mparam\u001b[0m\u001b[0;34m)\u001b[0m\u001b[0;34m\u001b[0m\u001b[0;34m\u001b[0m\u001b[0m\n",
      "\u001b[0;32m/opt/SageMath/SageMath/local/lib/python3.9/site-packages/sage/symbolic/expression.pyx\u001b[0m in \u001b[0;36msage.symbolic.expression.Expression._plot_fast_callable (build/cythonized/sage/symbolic/expression.cpp:66073)\u001b[0;34m()\u001b[0m\n\u001b[1;32m  12344\u001b[0m         \"\"\"\n\u001b[1;32m  12345\u001b[0m         \u001b[0;32mfrom\u001b[0m \u001b[0msage\u001b[0m\u001b[0;34m.\u001b[0m\u001b[0mext\u001b[0m\u001b[0;34m.\u001b[0m\u001b[0mfast_callable\u001b[0m \u001b[0;32mimport\u001b[0m \u001b[0mfast_callable\u001b[0m\u001b[0;34m\u001b[0m\u001b[0;34m\u001b[0m\u001b[0m\n\u001b[0;32m> 12346\u001b[0;31m         \u001b[0;32mreturn\u001b[0m \u001b[0mfast_callable\u001b[0m\u001b[0;34m(\u001b[0m\u001b[0mself\u001b[0m\u001b[0;34m,\u001b[0m \u001b[0mvars\u001b[0m\u001b[0;34m=\u001b[0m\u001b[0mvars\u001b[0m\u001b[0;34m,\u001b[0m \u001b[0mexpect_one_var\u001b[0m\u001b[0;34m=\u001b[0m\u001b[0;32mTrue\u001b[0m\u001b[0;34m)\u001b[0m\u001b[0;34m\u001b[0m\u001b[0;34m\u001b[0m\u001b[0m\n\u001b[0m\u001b[1;32m  12347\u001b[0m \u001b[0;34m\u001b[0m\u001b[0m\n\u001b[1;32m  12348\u001b[0m     \u001b[0;31m############\u001b[0m\u001b[0;34m\u001b[0m\u001b[0;34m\u001b[0m\u001b[0;34m\u001b[0m\u001b[0m\n",
      "\u001b[0;32m/opt/SageMath/SageMath/local/lib/python3.9/site-packages/sage/ext/fast_callable.pyx\u001b[0m in \u001b[0;36msage.ext.fast_callable.fast_callable (build/cythonized/sage/ext/fast_callable.c:4707)\u001b[0;34m()\u001b[0m\n\u001b[1;32m    455\u001b[0m \u001b[0;34m\u001b[0m\u001b[0m\n\u001b[1;32m    456\u001b[0m         \u001b[0metb\u001b[0m \u001b[0;34m=\u001b[0m \u001b[0mExpressionTreeBuilder\u001b[0m\u001b[0;34m(\u001b[0m\u001b[0mvars\u001b[0m\u001b[0;34m=\u001b[0m\u001b[0mvars\u001b[0m\u001b[0;34m,\u001b[0m \u001b[0mdomain\u001b[0m\u001b[0;34m=\u001b[0m\u001b[0mdomain\u001b[0m\u001b[0;34m)\u001b[0m\u001b[0;34m\u001b[0m\u001b[0;34m\u001b[0m\u001b[0m\n\u001b[0;32m--> 457\u001b[0;31m         \u001b[0met\u001b[0m \u001b[0;34m=\u001b[0m \u001b[0mx\u001b[0m\u001b[0;34m.\u001b[0m\u001b[0m_fast_callable_\u001b[0m\u001b[0;34m(\u001b[0m\u001b[0metb\u001b[0m\u001b[0;34m)\u001b[0m\u001b[0;34m\u001b[0m\u001b[0;34m\u001b[0m\u001b[0m\n\u001b[0m\u001b[1;32m    458\u001b[0m \u001b[0;34m\u001b[0m\u001b[0m\n\u001b[1;32m    459\u001b[0m     \u001b[0;32mif\u001b[0m \u001b[0misinstance\u001b[0m\u001b[0;34m(\u001b[0m\u001b[0mdomain\u001b[0m\u001b[0;34m,\u001b[0m \u001b[0mRealField_class\u001b[0m\u001b[0;34m)\u001b[0m\u001b[0;34m:\u001b[0m\u001b[0;34m\u001b[0m\u001b[0;34m\u001b[0m\u001b[0m\n",
      "\u001b[0;32m/opt/SageMath/SageMath/local/lib/python3.9/site-packages/sage/symbolic/expression.pyx\u001b[0m in \u001b[0;36msage.symbolic.expression.Expression._fast_callable_ (build/cythonized/sage/symbolic/expression.cpp:64918)\u001b[0;34m()\u001b[0m\n\u001b[1;32m  12181\u001b[0m         \"\"\"\n\u001b[1;32m  12182\u001b[0m         \u001b[0;32mfrom\u001b[0m \u001b[0msage\u001b[0m\u001b[0;34m.\u001b[0m\u001b[0msymbolic\u001b[0m\u001b[0;34m.\u001b[0m\u001b[0mexpression_conversions\u001b[0m \u001b[0;32mimport\u001b[0m \u001b[0mfast_callable\u001b[0m\u001b[0;34m\u001b[0m\u001b[0;34m\u001b[0m\u001b[0m\n\u001b[0;32m> 12183\u001b[0;31m         \u001b[0;32mreturn\u001b[0m \u001b[0mfast_callable\u001b[0m\u001b[0;34m(\u001b[0m\u001b[0mself\u001b[0m\u001b[0;34m,\u001b[0m \u001b[0metb\u001b[0m\u001b[0;34m)\u001b[0m\u001b[0;34m\u001b[0m\u001b[0;34m\u001b[0m\u001b[0m\n\u001b[0m\u001b[1;32m  12184\u001b[0m \u001b[0;34m\u001b[0m\u001b[0m\n\u001b[1;32m  12185\u001b[0m     \u001b[0;32mdef\u001b[0m \u001b[0mshow\u001b[0m\u001b[0;34m(\u001b[0m\u001b[0mself\u001b[0m\u001b[0;34m)\u001b[0m\u001b[0;34m:\u001b[0m\u001b[0;34m\u001b[0m\u001b[0;34m\u001b[0m\u001b[0m\n",
      "\u001b[0;32m/opt/SageMath/SageMath/local/lib/python3.9/site-packages/sage/symbolic/expression_conversions.py\u001b[0m in \u001b[0;36mfast_callable\u001b[0;34m(ex, etb)\u001b[0m\n\u001b[1;32m   1967\u001b[0m \u001b[0;34m\u001b[0m\u001b[0m\n\u001b[1;32m   1968\u001b[0m     \"\"\"\n\u001b[0;32m-> 1969\u001b[0;31m     \u001b[0;32mreturn\u001b[0m \u001b[0mFastCallableConverter\u001b[0m\u001b[0;34m(\u001b[0m\u001b[0mex\u001b[0m\u001b[0;34m,\u001b[0m \u001b[0metb\u001b[0m\u001b[0;34m)\u001b[0m\u001b[0;34m(\u001b[0m\u001b[0;34m)\u001b[0m\u001b[0;34m\u001b[0m\u001b[0;34m\u001b[0m\u001b[0m\n\u001b[0m\u001b[1;32m   1970\u001b[0m \u001b[0;34m\u001b[0m\u001b[0m\n\u001b[1;32m   1971\u001b[0m \u001b[0;32mclass\u001b[0m \u001b[0mRingConverter\u001b[0m\u001b[0;34m(\u001b[0m\u001b[0mConverter\u001b[0m\u001b[0;34m)\u001b[0m\u001b[0;34m:\u001b[0m\u001b[0;34m\u001b[0m\u001b[0;34m\u001b[0m\u001b[0m\n",
      "\u001b[0;32m/opt/SageMath/SageMath/local/lib/python3.9/site-packages/sage/symbolic/expression_conversions.py\u001b[0m in \u001b[0;36m__call__\u001b[0;34m(self, ex)\u001b[0m\n\u001b[1;32m    215\u001b[0m             \u001b[0;32mif\u001b[0m \u001b[0mgetattr\u001b[0m\u001b[0;34m(\u001b[0m\u001b[0mself\u001b[0m\u001b[0;34m,\u001b[0m \u001b[0;34m'use_fake_div'\u001b[0m\u001b[0;34m,\u001b[0m \u001b[0;32mFalse\u001b[0m\u001b[0;34m)\u001b[0m \u001b[0;32mand\u001b[0m \u001b[0;34m(\u001b[0m\u001b[0moperator\u001b[0m \u001b[0;32mis\u001b[0m \u001b[0m_operator\u001b[0m\u001b[0;34m.\u001b[0m\u001b[0mmul\u001b[0m \u001b[0;32mor\u001b[0m \u001b[0moperator\u001b[0m \u001b[0;32mis\u001b[0m \u001b[0mmul_vararg\u001b[0m\u001b[0;34m)\u001b[0m\u001b[0;34m:\u001b[0m\u001b[0;34m\u001b[0m\u001b[0;34m\u001b[0m\u001b[0m\n\u001b[1;32m    216\u001b[0m                 \u001b[0mdiv\u001b[0m \u001b[0;34m=\u001b[0m \u001b[0mself\u001b[0m\u001b[0;34m.\u001b[0m\u001b[0mget_fake_div\u001b[0m\u001b[0;34m(\u001b[0m\u001b[0mex\u001b[0m\u001b[0;34m)\u001b[0m\u001b[0;34m\u001b[0m\u001b[0;34m\u001b[0m\u001b[0m\n\u001b[0;32m--> 217\u001b[0;31m                 \u001b[0;32mreturn\u001b[0m \u001b[0mself\u001b[0m\u001b[0;34m.\u001b[0m\u001b[0marithmetic\u001b[0m\u001b[0;34m(\u001b[0m\u001b[0mdiv\u001b[0m\u001b[0;34m,\u001b[0m \u001b[0mdiv\u001b[0m\u001b[0;34m.\u001b[0m\u001b[0moperator\u001b[0m\u001b[0;34m(\u001b[0m\u001b[0;34m)\u001b[0m\u001b[0;34m)\u001b[0m\u001b[0;34m\u001b[0m\u001b[0;34m\u001b[0m\u001b[0m\n\u001b[0m\u001b[1;32m    218\u001b[0m             \u001b[0;32mreturn\u001b[0m \u001b[0mself\u001b[0m\u001b[0;34m.\u001b[0m\u001b[0marithmetic\u001b[0m\u001b[0;34m(\u001b[0m\u001b[0mex\u001b[0m\u001b[0;34m,\u001b[0m \u001b[0moperator\u001b[0m\u001b[0;34m)\u001b[0m\u001b[0;34m\u001b[0m\u001b[0;34m\u001b[0m\u001b[0m\n\u001b[1;32m    219\u001b[0m         \u001b[0;32melif\u001b[0m \u001b[0moperator\u001b[0m \u001b[0;32min\u001b[0m \u001b[0mrelation_operators\u001b[0m\u001b[0;34m:\u001b[0m\u001b[0;34m\u001b[0m\u001b[0;34m\u001b[0m\u001b[0m\n",
      "\u001b[0;32m/opt/SageMath/SageMath/local/lib/python3.9/site-packages/sage/symbolic/expression_conversions.py\u001b[0m in \u001b[0;36marithmetic\u001b[0;34m(self, ex, operator)\u001b[0m\n\u001b[1;32m   1895\u001b[0m         \u001b[0;32melif\u001b[0m \u001b[0moperator\u001b[0m \u001b[0;34m==\u001b[0m \u001b[0mmul_vararg\u001b[0m\u001b[0;34m:\u001b[0m\u001b[0;34m\u001b[0m\u001b[0;34m\u001b[0m\u001b[0m\n\u001b[1;32m   1896\u001b[0m             \u001b[0moperator\u001b[0m \u001b[0;34m=\u001b[0m \u001b[0m_operator\u001b[0m\u001b[0;34m.\u001b[0m\u001b[0mmul\u001b[0m\u001b[0;34m\u001b[0m\u001b[0;34m\u001b[0m\u001b[0m\n\u001b[0;32m-> 1897\u001b[0;31m         \u001b[0;32mreturn\u001b[0m \u001b[0mreduce\u001b[0m\u001b[0;34m(\u001b[0m\u001b[0;32mlambda\u001b[0m \u001b[0mx\u001b[0m\u001b[0;34m,\u001b[0m\u001b[0my\u001b[0m\u001b[0;34m:\u001b[0m \u001b[0mself\u001b[0m\u001b[0;34m.\u001b[0m\u001b[0metb\u001b[0m\u001b[0;34m.\u001b[0m\u001b[0mcall\u001b[0m\u001b[0;34m(\u001b[0m\u001b[0moperator\u001b[0m\u001b[0;34m,\u001b[0m \u001b[0mx\u001b[0m\u001b[0;34m,\u001b[0m\u001b[0my\u001b[0m\u001b[0;34m)\u001b[0m\u001b[0;34m,\u001b[0m \u001b[0moperands\u001b[0m\u001b[0;34m)\u001b[0m\u001b[0;34m\u001b[0m\u001b[0;34m\u001b[0m\u001b[0m\n\u001b[0m\u001b[1;32m   1898\u001b[0m \u001b[0;34m\u001b[0m\u001b[0m\n\u001b[1;32m   1899\u001b[0m     \u001b[0;32mdef\u001b[0m \u001b[0msymbol\u001b[0m\u001b[0;34m(\u001b[0m\u001b[0mself\u001b[0m\u001b[0;34m,\u001b[0m \u001b[0mex\u001b[0m\u001b[0;34m)\u001b[0m\u001b[0;34m:\u001b[0m\u001b[0;34m\u001b[0m\u001b[0;34m\u001b[0m\u001b[0m\n",
      "\u001b[0;32m/opt/SageMath/SageMath/local/lib/python3.9/site-packages/sage/symbolic/expression_conversions.py\u001b[0m in \u001b[0;36m<lambda>\u001b[0;34m(x, y)\u001b[0m\n\u001b[1;32m   1895\u001b[0m         \u001b[0;32melif\u001b[0m \u001b[0moperator\u001b[0m \u001b[0;34m==\u001b[0m \u001b[0mmul_vararg\u001b[0m\u001b[0;34m:\u001b[0m\u001b[0;34m\u001b[0m\u001b[0;34m\u001b[0m\u001b[0m\n\u001b[1;32m   1896\u001b[0m             \u001b[0moperator\u001b[0m \u001b[0;34m=\u001b[0m \u001b[0m_operator\u001b[0m\u001b[0;34m.\u001b[0m\u001b[0mmul\u001b[0m\u001b[0;34m\u001b[0m\u001b[0;34m\u001b[0m\u001b[0m\n\u001b[0;32m-> 1897\u001b[0;31m         \u001b[0;32mreturn\u001b[0m \u001b[0mreduce\u001b[0m\u001b[0;34m(\u001b[0m\u001b[0;32mlambda\u001b[0m \u001b[0mx\u001b[0m\u001b[0;34m,\u001b[0m\u001b[0my\u001b[0m\u001b[0;34m:\u001b[0m \u001b[0mself\u001b[0m\u001b[0;34m.\u001b[0m\u001b[0metb\u001b[0m\u001b[0;34m.\u001b[0m\u001b[0mcall\u001b[0m\u001b[0;34m(\u001b[0m\u001b[0moperator\u001b[0m\u001b[0;34m,\u001b[0m \u001b[0mx\u001b[0m\u001b[0;34m,\u001b[0m\u001b[0my\u001b[0m\u001b[0;34m)\u001b[0m\u001b[0;34m,\u001b[0m \u001b[0moperands\u001b[0m\u001b[0;34m)\u001b[0m\u001b[0;34m\u001b[0m\u001b[0;34m\u001b[0m\u001b[0m\n\u001b[0m\u001b[1;32m   1898\u001b[0m \u001b[0;34m\u001b[0m\u001b[0m\n\u001b[1;32m   1899\u001b[0m     \u001b[0;32mdef\u001b[0m \u001b[0msymbol\u001b[0m\u001b[0;34m(\u001b[0m\u001b[0mself\u001b[0m\u001b[0;34m,\u001b[0m \u001b[0mex\u001b[0m\u001b[0;34m)\u001b[0m\u001b[0;34m:\u001b[0m\u001b[0;34m\u001b[0m\u001b[0;34m\u001b[0m\u001b[0m\n",
      "\u001b[0;32m/opt/SageMath/SageMath/local/lib/python3.9/site-packages/sage/ext/fast_callable.pyx\u001b[0m in \u001b[0;36msage.ext.fast_callable.ExpressionTreeBuilder.call (build/cythonized/sage/ext/fast_callable.c:7204)\u001b[0;34m()\u001b[0m\n\u001b[1;32m    742\u001b[0m             \u001b[0;32mreturn\u001b[0m \u001b[0mself\u001b[0m\u001b[0;34m(\u001b[0m\u001b[0mbase\u001b[0m\u001b[0;34m)\u001b[0m\u001b[0;34m**\u001b[0m\u001b[0mexponent\u001b[0m\u001b[0;34m\u001b[0m\u001b[0;34m\u001b[0m\u001b[0m\n\u001b[1;32m    743\u001b[0m         \u001b[0;32melse\u001b[0m\u001b[0;34m:\u001b[0m\u001b[0;34m\u001b[0m\u001b[0;34m\u001b[0m\u001b[0m\n\u001b[0;32m--> 744\u001b[0;31m             \u001b[0;32mreturn\u001b[0m \u001b[0mExpressionCall\u001b[0m\u001b[0;34m(\u001b[0m\u001b[0mself\u001b[0m\u001b[0;34m,\u001b[0m \u001b[0mfn\u001b[0m\u001b[0;34m,\u001b[0m \u001b[0;34m[\u001b[0m\u001b[0mself\u001b[0m\u001b[0;34m(\u001b[0m\u001b[0ma\u001b[0m\u001b[0;34m)\u001b[0m \u001b[0;32mfor\u001b[0m \u001b[0ma\u001b[0m \u001b[0;32min\u001b[0m \u001b[0margs\u001b[0m\u001b[0;34m]\u001b[0m\u001b[0;34m)\u001b[0m\u001b[0;34m\u001b[0m\u001b[0;34m\u001b[0m\u001b[0m\n\u001b[0m\u001b[1;32m    745\u001b[0m \u001b[0;34m\u001b[0m\u001b[0m\n\u001b[1;32m    746\u001b[0m     \u001b[0;32mdef\u001b[0m \u001b[0mchoice\u001b[0m\u001b[0;34m(\u001b[0m\u001b[0mself\u001b[0m\u001b[0;34m,\u001b[0m \u001b[0mcond\u001b[0m\u001b[0;34m,\u001b[0m \u001b[0miftrue\u001b[0m\u001b[0;34m,\u001b[0m \u001b[0miffalse\u001b[0m\u001b[0;34m)\u001b[0m\u001b[0;34m:\u001b[0m\u001b[0;34m\u001b[0m\u001b[0;34m\u001b[0m\u001b[0m\n",
      "\u001b[0;32m/opt/SageMath/SageMath/local/lib/python3.9/site-packages/sage/ext/fast_callable.pyx\u001b[0m in \u001b[0;36msage.ext.fast_callable.ExpressionTreeBuilder.__call__ (build/cythonized/sage/ext/fast_callable.c:6320)\u001b[0;34m()\u001b[0m\n\u001b[1;32m    616\u001b[0m             \u001b[0;32mreturn\u001b[0m \u001b[0mself\u001b[0m\u001b[0;34m.\u001b[0m\u001b[0mconstant\u001b[0m\u001b[0;34m(\u001b[0m\u001b[0mx\u001b[0m\u001b[0;34m)\u001b[0m\u001b[0;34m\u001b[0m\u001b[0;34m\u001b[0m\u001b[0m\n\u001b[1;32m    617\u001b[0m \u001b[0;34m\u001b[0m\u001b[0m\n\u001b[0;32m--> 618\u001b[0;31m         \u001b[0;32mreturn\u001b[0m \u001b[0mfc\u001b[0m\u001b[0;34m(\u001b[0m\u001b[0mself\u001b[0m\u001b[0;34m)\u001b[0m\u001b[0;34m\u001b[0m\u001b[0;34m\u001b[0m\u001b[0m\n\u001b[0m\u001b[1;32m    619\u001b[0m \u001b[0;34m\u001b[0m\u001b[0m\n\u001b[1;32m    620\u001b[0m     \u001b[0;32mdef\u001b[0m \u001b[0m_clean_var\u001b[0m\u001b[0;34m(\u001b[0m\u001b[0mself\u001b[0m\u001b[0;34m,\u001b[0m \u001b[0mv\u001b[0m\u001b[0;34m)\u001b[0m\u001b[0;34m:\u001b[0m\u001b[0;34m\u001b[0m\u001b[0;34m\u001b[0m\u001b[0m\n",
      "\u001b[0;32m/opt/SageMath/SageMath/local/lib/python3.9/site-packages/sage/symbolic/expression_conversions.py\u001b[0m in \u001b[0;36m_fast_callable_\u001b[0;34m(self, etb)\u001b[0m\n\u001b[1;32m    123\u001b[0m             \u001b[0;34m[\u001b[0m\u001b[0;34m(\u001b[0m\u001b[0;34m'load_arg'\u001b[0m\u001b[0;34m,\u001b[0m \u001b[0;36m0\u001b[0m\u001b[0;34m)\u001b[0m\u001b[0;34m,\u001b[0m \u001b[0;34m(\u001b[0m\u001b[0;34m'load_arg'\u001b[0m\u001b[0;34m,\u001b[0m \u001b[0;36m1\u001b[0m\u001b[0;34m)\u001b[0m\u001b[0;34m,\u001b[0m \u001b[0;34m'div'\u001b[0m\u001b[0;34m,\u001b[0m \u001b[0;34m'return'\u001b[0m\u001b[0;34m]\u001b[0m\u001b[0;34m\u001b[0m\u001b[0;34m\u001b[0m\u001b[0m\n\u001b[1;32m    124\u001b[0m         \"\"\"\n\u001b[0;32m--> 125\u001b[0;31m         \u001b[0;32mreturn\u001b[0m \u001b[0mfast_callable\u001b[0m\u001b[0;34m(\u001b[0m\u001b[0mself\u001b[0m\u001b[0;34m,\u001b[0m \u001b[0metb\u001b[0m\u001b[0;34m)\u001b[0m\u001b[0;34m\u001b[0m\u001b[0;34m\u001b[0m\u001b[0m\n\u001b[0m\u001b[1;32m    126\u001b[0m \u001b[0;34m\u001b[0m\u001b[0m\n\u001b[1;32m    127\u001b[0m     \u001b[0;32mdef\u001b[0m \u001b[0m_fast_float_\u001b[0m\u001b[0;34m(\u001b[0m\u001b[0mself\u001b[0m\u001b[0;34m,\u001b[0m \u001b[0;34m*\u001b[0m\u001b[0mvars\u001b[0m\u001b[0;34m)\u001b[0m\u001b[0;34m:\u001b[0m\u001b[0;34m\u001b[0m\u001b[0;34m\u001b[0m\u001b[0m\n",
      "\u001b[0;32m/opt/SageMath/SageMath/local/lib/python3.9/site-packages/sage/symbolic/expression_conversions.py\u001b[0m in \u001b[0;36mfast_callable\u001b[0;34m(ex, etb)\u001b[0m\n\u001b[1;32m   1967\u001b[0m \u001b[0;34m\u001b[0m\u001b[0m\n\u001b[1;32m   1968\u001b[0m     \"\"\"\n\u001b[0;32m-> 1969\u001b[0;31m     \u001b[0;32mreturn\u001b[0m \u001b[0mFastCallableConverter\u001b[0m\u001b[0;34m(\u001b[0m\u001b[0mex\u001b[0m\u001b[0;34m,\u001b[0m \u001b[0metb\u001b[0m\u001b[0;34m)\u001b[0m\u001b[0;34m(\u001b[0m\u001b[0;34m)\u001b[0m\u001b[0;34m\u001b[0m\u001b[0;34m\u001b[0m\u001b[0m\n\u001b[0m\u001b[1;32m   1970\u001b[0m \u001b[0;34m\u001b[0m\u001b[0m\n\u001b[1;32m   1971\u001b[0m \u001b[0;32mclass\u001b[0m \u001b[0mRingConverter\u001b[0m\u001b[0;34m(\u001b[0m\u001b[0mConverter\u001b[0m\u001b[0;34m)\u001b[0m\u001b[0;34m:\u001b[0m\u001b[0;34m\u001b[0m\u001b[0;34m\u001b[0m\u001b[0m\n",
      "\u001b[0;32m/opt/SageMath/SageMath/local/lib/python3.9/site-packages/sage/symbolic/expression_conversions.py\u001b[0m in \u001b[0;36m__call__\u001b[0;34m(self, ex)\u001b[0m\n\u001b[1;32m    215\u001b[0m             \u001b[0;32mif\u001b[0m \u001b[0mgetattr\u001b[0m\u001b[0;34m(\u001b[0m\u001b[0mself\u001b[0m\u001b[0;34m,\u001b[0m \u001b[0;34m'use_fake_div'\u001b[0m\u001b[0;34m,\u001b[0m \u001b[0;32mFalse\u001b[0m\u001b[0;34m)\u001b[0m \u001b[0;32mand\u001b[0m \u001b[0;34m(\u001b[0m\u001b[0moperator\u001b[0m \u001b[0;32mis\u001b[0m \u001b[0m_operator\u001b[0m\u001b[0;34m.\u001b[0m\u001b[0mmul\u001b[0m \u001b[0;32mor\u001b[0m \u001b[0moperator\u001b[0m \u001b[0;32mis\u001b[0m \u001b[0mmul_vararg\u001b[0m\u001b[0;34m)\u001b[0m\u001b[0;34m:\u001b[0m\u001b[0;34m\u001b[0m\u001b[0;34m\u001b[0m\u001b[0m\n\u001b[1;32m    216\u001b[0m                 \u001b[0mdiv\u001b[0m \u001b[0;34m=\u001b[0m \u001b[0mself\u001b[0m\u001b[0;34m.\u001b[0m\u001b[0mget_fake_div\u001b[0m\u001b[0;34m(\u001b[0m\u001b[0mex\u001b[0m\u001b[0;34m)\u001b[0m\u001b[0;34m\u001b[0m\u001b[0;34m\u001b[0m\u001b[0m\n\u001b[0;32m--> 217\u001b[0;31m                 \u001b[0;32mreturn\u001b[0m \u001b[0mself\u001b[0m\u001b[0;34m.\u001b[0m\u001b[0marithmetic\u001b[0m\u001b[0;34m(\u001b[0m\u001b[0mdiv\u001b[0m\u001b[0;34m,\u001b[0m \u001b[0mdiv\u001b[0m\u001b[0;34m.\u001b[0m\u001b[0moperator\u001b[0m\u001b[0;34m(\u001b[0m\u001b[0;34m)\u001b[0m\u001b[0;34m)\u001b[0m\u001b[0;34m\u001b[0m\u001b[0;34m\u001b[0m\u001b[0m\n\u001b[0m\u001b[1;32m    218\u001b[0m             \u001b[0;32mreturn\u001b[0m \u001b[0mself\u001b[0m\u001b[0;34m.\u001b[0m\u001b[0marithmetic\u001b[0m\u001b[0;34m(\u001b[0m\u001b[0mex\u001b[0m\u001b[0;34m,\u001b[0m \u001b[0moperator\u001b[0m\u001b[0;34m)\u001b[0m\u001b[0;34m\u001b[0m\u001b[0;34m\u001b[0m\u001b[0m\n\u001b[1;32m    219\u001b[0m         \u001b[0;32melif\u001b[0m \u001b[0moperator\u001b[0m \u001b[0;32min\u001b[0m \u001b[0mrelation_operators\u001b[0m\u001b[0;34m:\u001b[0m\u001b[0;34m\u001b[0m\u001b[0;34m\u001b[0m\u001b[0m\n",
      "\u001b[0;32m/opt/SageMath/SageMath/local/lib/python3.9/site-packages/sage/symbolic/expression_conversions.py\u001b[0m in \u001b[0;36marithmetic\u001b[0;34m(self, ex, operator)\u001b[0m\n\u001b[1;32m   1895\u001b[0m         \u001b[0;32melif\u001b[0m \u001b[0moperator\u001b[0m \u001b[0;34m==\u001b[0m \u001b[0mmul_vararg\u001b[0m\u001b[0;34m:\u001b[0m\u001b[0;34m\u001b[0m\u001b[0;34m\u001b[0m\u001b[0m\n\u001b[1;32m   1896\u001b[0m             \u001b[0moperator\u001b[0m \u001b[0;34m=\u001b[0m \u001b[0m_operator\u001b[0m\u001b[0;34m.\u001b[0m\u001b[0mmul\u001b[0m\u001b[0;34m\u001b[0m\u001b[0;34m\u001b[0m\u001b[0m\n\u001b[0;32m-> 1897\u001b[0;31m         \u001b[0;32mreturn\u001b[0m \u001b[0mreduce\u001b[0m\u001b[0;34m(\u001b[0m\u001b[0;32mlambda\u001b[0m \u001b[0mx\u001b[0m\u001b[0;34m,\u001b[0m\u001b[0my\u001b[0m\u001b[0;34m:\u001b[0m \u001b[0mself\u001b[0m\u001b[0;34m.\u001b[0m\u001b[0metb\u001b[0m\u001b[0;34m.\u001b[0m\u001b[0mcall\u001b[0m\u001b[0;34m(\u001b[0m\u001b[0moperator\u001b[0m\u001b[0;34m,\u001b[0m \u001b[0mx\u001b[0m\u001b[0;34m,\u001b[0m\u001b[0my\u001b[0m\u001b[0;34m)\u001b[0m\u001b[0;34m,\u001b[0m \u001b[0moperands\u001b[0m\u001b[0;34m)\u001b[0m\u001b[0;34m\u001b[0m\u001b[0;34m\u001b[0m\u001b[0m\n\u001b[0m\u001b[1;32m   1898\u001b[0m \u001b[0;34m\u001b[0m\u001b[0m\n\u001b[1;32m   1899\u001b[0m     \u001b[0;32mdef\u001b[0m \u001b[0msymbol\u001b[0m\u001b[0;34m(\u001b[0m\u001b[0mself\u001b[0m\u001b[0;34m,\u001b[0m \u001b[0mex\u001b[0m\u001b[0;34m)\u001b[0m\u001b[0;34m:\u001b[0m\u001b[0;34m\u001b[0m\u001b[0;34m\u001b[0m\u001b[0m\n",
      "\u001b[0;32m/opt/SageMath/SageMath/local/lib/python3.9/site-packages/sage/symbolic/expression_conversions.py\u001b[0m in \u001b[0;36m<lambda>\u001b[0;34m(x, y)\u001b[0m\n\u001b[1;32m   1895\u001b[0m         \u001b[0;32melif\u001b[0m \u001b[0moperator\u001b[0m \u001b[0;34m==\u001b[0m \u001b[0mmul_vararg\u001b[0m\u001b[0;34m:\u001b[0m\u001b[0;34m\u001b[0m\u001b[0;34m\u001b[0m\u001b[0m\n\u001b[1;32m   1896\u001b[0m             \u001b[0moperator\u001b[0m \u001b[0;34m=\u001b[0m \u001b[0m_operator\u001b[0m\u001b[0;34m.\u001b[0m\u001b[0mmul\u001b[0m\u001b[0;34m\u001b[0m\u001b[0;34m\u001b[0m\u001b[0m\n\u001b[0;32m-> 1897\u001b[0;31m         \u001b[0;32mreturn\u001b[0m \u001b[0mreduce\u001b[0m\u001b[0;34m(\u001b[0m\u001b[0;32mlambda\u001b[0m \u001b[0mx\u001b[0m\u001b[0;34m,\u001b[0m\u001b[0my\u001b[0m\u001b[0;34m:\u001b[0m \u001b[0mself\u001b[0m\u001b[0;34m.\u001b[0m\u001b[0metb\u001b[0m\u001b[0;34m.\u001b[0m\u001b[0mcall\u001b[0m\u001b[0;34m(\u001b[0m\u001b[0moperator\u001b[0m\u001b[0;34m,\u001b[0m \u001b[0mx\u001b[0m\u001b[0;34m,\u001b[0m\u001b[0my\u001b[0m\u001b[0;34m)\u001b[0m\u001b[0;34m,\u001b[0m \u001b[0moperands\u001b[0m\u001b[0;34m)\u001b[0m\u001b[0;34m\u001b[0m\u001b[0;34m\u001b[0m\u001b[0m\n\u001b[0m\u001b[1;32m   1898\u001b[0m \u001b[0;34m\u001b[0m\u001b[0m\n\u001b[1;32m   1899\u001b[0m     \u001b[0;32mdef\u001b[0m \u001b[0msymbol\u001b[0m\u001b[0;34m(\u001b[0m\u001b[0mself\u001b[0m\u001b[0;34m,\u001b[0m \u001b[0mex\u001b[0m\u001b[0;34m)\u001b[0m\u001b[0;34m:\u001b[0m\u001b[0;34m\u001b[0m\u001b[0;34m\u001b[0m\u001b[0m\n",
      "\u001b[0;32m/opt/SageMath/SageMath/local/lib/python3.9/site-packages/sage/ext/fast_callable.pyx\u001b[0m in \u001b[0;36msage.ext.fast_callable.ExpressionTreeBuilder.call (build/cythonized/sage/ext/fast_callable.c:7204)\u001b[0;34m()\u001b[0m\n\u001b[1;32m    742\u001b[0m             \u001b[0;32mreturn\u001b[0m \u001b[0mself\u001b[0m\u001b[0;34m(\u001b[0m\u001b[0mbase\u001b[0m\u001b[0;34m)\u001b[0m\u001b[0;34m**\u001b[0m\u001b[0mexponent\u001b[0m\u001b[0;34m\u001b[0m\u001b[0;34m\u001b[0m\u001b[0m\n\u001b[1;32m    743\u001b[0m         \u001b[0;32melse\u001b[0m\u001b[0;34m:\u001b[0m\u001b[0;34m\u001b[0m\u001b[0;34m\u001b[0m\u001b[0m\n\u001b[0;32m--> 744\u001b[0;31m             \u001b[0;32mreturn\u001b[0m \u001b[0mExpressionCall\u001b[0m\u001b[0;34m(\u001b[0m\u001b[0mself\u001b[0m\u001b[0;34m,\u001b[0m \u001b[0mfn\u001b[0m\u001b[0;34m,\u001b[0m \u001b[0;34m[\u001b[0m\u001b[0mself\u001b[0m\u001b[0;34m(\u001b[0m\u001b[0ma\u001b[0m\u001b[0;34m)\u001b[0m \u001b[0;32mfor\u001b[0m \u001b[0ma\u001b[0m \u001b[0;32min\u001b[0m \u001b[0margs\u001b[0m\u001b[0;34m]\u001b[0m\u001b[0;34m)\u001b[0m\u001b[0;34m\u001b[0m\u001b[0;34m\u001b[0m\u001b[0m\n\u001b[0m\u001b[1;32m    745\u001b[0m \u001b[0;34m\u001b[0m\u001b[0m\n\u001b[1;32m    746\u001b[0m     \u001b[0;32mdef\u001b[0m \u001b[0mchoice\u001b[0m\u001b[0;34m(\u001b[0m\u001b[0mself\u001b[0m\u001b[0;34m,\u001b[0m \u001b[0mcond\u001b[0m\u001b[0;34m,\u001b[0m \u001b[0miftrue\u001b[0m\u001b[0;34m,\u001b[0m \u001b[0miffalse\u001b[0m\u001b[0;34m)\u001b[0m\u001b[0;34m:\u001b[0m\u001b[0;34m\u001b[0m\u001b[0;34m\u001b[0m\u001b[0m\n",
      "\u001b[0;32m/opt/SageMath/SageMath/local/lib/python3.9/site-packages/sage/ext/fast_callable.pyx\u001b[0m in \u001b[0;36msage.ext.fast_callable.ExpressionTreeBuilder.__call__ (build/cythonized/sage/ext/fast_callable.c:6320)\u001b[0;34m()\u001b[0m\n\u001b[1;32m    616\u001b[0m             \u001b[0;32mreturn\u001b[0m \u001b[0mself\u001b[0m\u001b[0;34m.\u001b[0m\u001b[0mconstant\u001b[0m\u001b[0;34m(\u001b[0m\u001b[0mx\u001b[0m\u001b[0;34m)\u001b[0m\u001b[0;34m\u001b[0m\u001b[0;34m\u001b[0m\u001b[0m\n\u001b[1;32m    617\u001b[0m \u001b[0;34m\u001b[0m\u001b[0m\n\u001b[0;32m--> 618\u001b[0;31m         \u001b[0;32mreturn\u001b[0m \u001b[0mfc\u001b[0m\u001b[0;34m(\u001b[0m\u001b[0mself\u001b[0m\u001b[0;34m)\u001b[0m\u001b[0;34m\u001b[0m\u001b[0;34m\u001b[0m\u001b[0m\n\u001b[0m\u001b[1;32m    619\u001b[0m \u001b[0;34m\u001b[0m\u001b[0m\n\u001b[1;32m    620\u001b[0m     \u001b[0;32mdef\u001b[0m \u001b[0m_clean_var\u001b[0m\u001b[0;34m(\u001b[0m\u001b[0mself\u001b[0m\u001b[0;34m,\u001b[0m \u001b[0mv\u001b[0m\u001b[0;34m)\u001b[0m\u001b[0;34m:\u001b[0m\u001b[0;34m\u001b[0m\u001b[0;34m\u001b[0m\u001b[0m\n",
      "\u001b[0;32m/opt/SageMath/SageMath/local/lib/python3.9/site-packages/sage/symbolic/expression.pyx\u001b[0m in \u001b[0;36msage.symbolic.expression.Expression._fast_callable_ (build/cythonized/sage/symbolic/expression.cpp:64918)\u001b[0;34m()\u001b[0m\n\u001b[1;32m  12181\u001b[0m         \"\"\"\n\u001b[1;32m  12182\u001b[0m         \u001b[0;32mfrom\u001b[0m \u001b[0msage\u001b[0m\u001b[0;34m.\u001b[0m\u001b[0msymbolic\u001b[0m\u001b[0;34m.\u001b[0m\u001b[0mexpression_conversions\u001b[0m \u001b[0;32mimport\u001b[0m \u001b[0mfast_callable\u001b[0m\u001b[0;34m\u001b[0m\u001b[0;34m\u001b[0m\u001b[0m\n\u001b[0;32m> 12183\u001b[0;31m         \u001b[0;32mreturn\u001b[0m \u001b[0mfast_callable\u001b[0m\u001b[0;34m(\u001b[0m\u001b[0mself\u001b[0m\u001b[0;34m,\u001b[0m \u001b[0metb\u001b[0m\u001b[0;34m)\u001b[0m\u001b[0;34m\u001b[0m\u001b[0;34m\u001b[0m\u001b[0m\n\u001b[0m\u001b[1;32m  12184\u001b[0m \u001b[0;34m\u001b[0m\u001b[0m\n\u001b[1;32m  12185\u001b[0m     \u001b[0;32mdef\u001b[0m \u001b[0mshow\u001b[0m\u001b[0;34m(\u001b[0m\u001b[0mself\u001b[0m\u001b[0;34m)\u001b[0m\u001b[0;34m:\u001b[0m\u001b[0;34m\u001b[0m\u001b[0;34m\u001b[0m\u001b[0m\n",
      "\u001b[0;32m/opt/SageMath/SageMath/local/lib/python3.9/site-packages/sage/symbolic/expression_conversions.py\u001b[0m in \u001b[0;36mfast_callable\u001b[0;34m(ex, etb)\u001b[0m\n\u001b[1;32m   1967\u001b[0m \u001b[0;34m\u001b[0m\u001b[0m\n\u001b[1;32m   1968\u001b[0m     \"\"\"\n\u001b[0;32m-> 1969\u001b[0;31m     \u001b[0;32mreturn\u001b[0m \u001b[0mFastCallableConverter\u001b[0m\u001b[0;34m(\u001b[0m\u001b[0mex\u001b[0m\u001b[0;34m,\u001b[0m \u001b[0metb\u001b[0m\u001b[0;34m)\u001b[0m\u001b[0;34m(\u001b[0m\u001b[0;34m)\u001b[0m\u001b[0;34m\u001b[0m\u001b[0;34m\u001b[0m\u001b[0m\n\u001b[0m\u001b[1;32m   1970\u001b[0m \u001b[0;34m\u001b[0m\u001b[0m\n\u001b[1;32m   1971\u001b[0m \u001b[0;32mclass\u001b[0m \u001b[0mRingConverter\u001b[0m\u001b[0;34m(\u001b[0m\u001b[0mConverter\u001b[0m\u001b[0;34m)\u001b[0m\u001b[0;34m:\u001b[0m\u001b[0;34m\u001b[0m\u001b[0;34m\u001b[0m\u001b[0m\n",
      "\u001b[0;32m/opt/SageMath/SageMath/local/lib/python3.9/site-packages/sage/symbolic/expression_conversions.py\u001b[0m in \u001b[0;36m__call__\u001b[0;34m(self, ex)\u001b[0m\n\u001b[1;32m    216\u001b[0m                 \u001b[0mdiv\u001b[0m \u001b[0;34m=\u001b[0m \u001b[0mself\u001b[0m\u001b[0;34m.\u001b[0m\u001b[0mget_fake_div\u001b[0m\u001b[0;34m(\u001b[0m\u001b[0mex\u001b[0m\u001b[0;34m)\u001b[0m\u001b[0;34m\u001b[0m\u001b[0;34m\u001b[0m\u001b[0m\n\u001b[1;32m    217\u001b[0m                 \u001b[0;32mreturn\u001b[0m \u001b[0mself\u001b[0m\u001b[0;34m.\u001b[0m\u001b[0marithmetic\u001b[0m\u001b[0;34m(\u001b[0m\u001b[0mdiv\u001b[0m\u001b[0;34m,\u001b[0m \u001b[0mdiv\u001b[0m\u001b[0;34m.\u001b[0m\u001b[0moperator\u001b[0m\u001b[0;34m(\u001b[0m\u001b[0;34m)\u001b[0m\u001b[0;34m)\u001b[0m\u001b[0;34m\u001b[0m\u001b[0;34m\u001b[0m\u001b[0m\n\u001b[0;32m--> 218\u001b[0;31m             \u001b[0;32mreturn\u001b[0m \u001b[0mself\u001b[0m\u001b[0;34m.\u001b[0m\u001b[0marithmetic\u001b[0m\u001b[0;34m(\u001b[0m\u001b[0mex\u001b[0m\u001b[0;34m,\u001b[0m \u001b[0moperator\u001b[0m\u001b[0;34m)\u001b[0m\u001b[0;34m\u001b[0m\u001b[0;34m\u001b[0m\u001b[0m\n\u001b[0m\u001b[1;32m    219\u001b[0m         \u001b[0;32melif\u001b[0m \u001b[0moperator\u001b[0m \u001b[0;32min\u001b[0m \u001b[0mrelation_operators\u001b[0m\u001b[0;34m:\u001b[0m\u001b[0;34m\u001b[0m\u001b[0;34m\u001b[0m\u001b[0m\n\u001b[1;32m    220\u001b[0m             \u001b[0;32mreturn\u001b[0m \u001b[0mself\u001b[0m\u001b[0;34m.\u001b[0m\u001b[0mrelation\u001b[0m\u001b[0;34m(\u001b[0m\u001b[0mex\u001b[0m\u001b[0;34m,\u001b[0m \u001b[0moperator\u001b[0m\u001b[0;34m)\u001b[0m\u001b[0;34m\u001b[0m\u001b[0;34m\u001b[0m\u001b[0m\n",
      "\u001b[0;32m/opt/SageMath/SageMath/local/lib/python3.9/site-packages/sage/symbolic/expression_conversions.py\u001b[0m in \u001b[0;36marithmetic\u001b[0;34m(self, ex, operator)\u001b[0m\n\u001b[1;32m   1895\u001b[0m         \u001b[0;32melif\u001b[0m \u001b[0moperator\u001b[0m \u001b[0;34m==\u001b[0m \u001b[0mmul_vararg\u001b[0m\u001b[0;34m:\u001b[0m\u001b[0;34m\u001b[0m\u001b[0;34m\u001b[0m\u001b[0m\n\u001b[1;32m   1896\u001b[0m             \u001b[0moperator\u001b[0m \u001b[0;34m=\u001b[0m \u001b[0m_operator\u001b[0m\u001b[0;34m.\u001b[0m\u001b[0mmul\u001b[0m\u001b[0;34m\u001b[0m\u001b[0;34m\u001b[0m\u001b[0m\n\u001b[0;32m-> 1897\u001b[0;31m         \u001b[0;32mreturn\u001b[0m \u001b[0mreduce\u001b[0m\u001b[0;34m(\u001b[0m\u001b[0;32mlambda\u001b[0m \u001b[0mx\u001b[0m\u001b[0;34m,\u001b[0m\u001b[0my\u001b[0m\u001b[0;34m:\u001b[0m \u001b[0mself\u001b[0m\u001b[0;34m.\u001b[0m\u001b[0metb\u001b[0m\u001b[0;34m.\u001b[0m\u001b[0mcall\u001b[0m\u001b[0;34m(\u001b[0m\u001b[0moperator\u001b[0m\u001b[0;34m,\u001b[0m \u001b[0mx\u001b[0m\u001b[0;34m,\u001b[0m\u001b[0my\u001b[0m\u001b[0;34m)\u001b[0m\u001b[0;34m,\u001b[0m \u001b[0moperands\u001b[0m\u001b[0;34m)\u001b[0m\u001b[0;34m\u001b[0m\u001b[0;34m\u001b[0m\u001b[0m\n\u001b[0m\u001b[1;32m   1898\u001b[0m \u001b[0;34m\u001b[0m\u001b[0m\n\u001b[1;32m   1899\u001b[0m     \u001b[0;32mdef\u001b[0m \u001b[0msymbol\u001b[0m\u001b[0;34m(\u001b[0m\u001b[0mself\u001b[0m\u001b[0;34m,\u001b[0m \u001b[0mex\u001b[0m\u001b[0;34m)\u001b[0m\u001b[0;34m:\u001b[0m\u001b[0;34m\u001b[0m\u001b[0;34m\u001b[0m\u001b[0m\n",
      "\u001b[0;32m/opt/SageMath/SageMath/local/lib/python3.9/site-packages/sage/symbolic/expression_conversions.py\u001b[0m in \u001b[0;36m<lambda>\u001b[0;34m(x, y)\u001b[0m\n\u001b[1;32m   1895\u001b[0m         \u001b[0;32melif\u001b[0m \u001b[0moperator\u001b[0m \u001b[0;34m==\u001b[0m \u001b[0mmul_vararg\u001b[0m\u001b[0;34m:\u001b[0m\u001b[0;34m\u001b[0m\u001b[0;34m\u001b[0m\u001b[0m\n\u001b[1;32m   1896\u001b[0m             \u001b[0moperator\u001b[0m \u001b[0;34m=\u001b[0m \u001b[0m_operator\u001b[0m\u001b[0;34m.\u001b[0m\u001b[0mmul\u001b[0m\u001b[0;34m\u001b[0m\u001b[0;34m\u001b[0m\u001b[0m\n\u001b[0;32m-> 1897\u001b[0;31m         \u001b[0;32mreturn\u001b[0m \u001b[0mreduce\u001b[0m\u001b[0;34m(\u001b[0m\u001b[0;32mlambda\u001b[0m \u001b[0mx\u001b[0m\u001b[0;34m,\u001b[0m\u001b[0my\u001b[0m\u001b[0;34m:\u001b[0m \u001b[0mself\u001b[0m\u001b[0;34m.\u001b[0m\u001b[0metb\u001b[0m\u001b[0;34m.\u001b[0m\u001b[0mcall\u001b[0m\u001b[0;34m(\u001b[0m\u001b[0moperator\u001b[0m\u001b[0;34m,\u001b[0m \u001b[0mx\u001b[0m\u001b[0;34m,\u001b[0m\u001b[0my\u001b[0m\u001b[0;34m)\u001b[0m\u001b[0;34m,\u001b[0m \u001b[0moperands\u001b[0m\u001b[0;34m)\u001b[0m\u001b[0;34m\u001b[0m\u001b[0;34m\u001b[0m\u001b[0m\n\u001b[0m\u001b[1;32m   1898\u001b[0m \u001b[0;34m\u001b[0m\u001b[0m\n\u001b[1;32m   1899\u001b[0m     \u001b[0;32mdef\u001b[0m \u001b[0msymbol\u001b[0m\u001b[0;34m(\u001b[0m\u001b[0mself\u001b[0m\u001b[0;34m,\u001b[0m \u001b[0mex\u001b[0m\u001b[0;34m)\u001b[0m\u001b[0;34m:\u001b[0m\u001b[0;34m\u001b[0m\u001b[0;34m\u001b[0m\u001b[0m\n",
      "\u001b[0;32m/opt/SageMath/SageMath/local/lib/python3.9/site-packages/sage/ext/fast_callable.pyx\u001b[0m in \u001b[0;36msage.ext.fast_callable.ExpressionTreeBuilder.call (build/cythonized/sage/ext/fast_callable.c:7204)\u001b[0;34m()\u001b[0m\n\u001b[1;32m    742\u001b[0m             \u001b[0;32mreturn\u001b[0m \u001b[0mself\u001b[0m\u001b[0;34m(\u001b[0m\u001b[0mbase\u001b[0m\u001b[0;34m)\u001b[0m\u001b[0;34m**\u001b[0m\u001b[0mexponent\u001b[0m\u001b[0;34m\u001b[0m\u001b[0;34m\u001b[0m\u001b[0m\n\u001b[1;32m    743\u001b[0m         \u001b[0;32melse\u001b[0m\u001b[0;34m:\u001b[0m\u001b[0;34m\u001b[0m\u001b[0;34m\u001b[0m\u001b[0m\n\u001b[0;32m--> 744\u001b[0;31m             \u001b[0;32mreturn\u001b[0m \u001b[0mExpressionCall\u001b[0m\u001b[0;34m(\u001b[0m\u001b[0mself\u001b[0m\u001b[0;34m,\u001b[0m \u001b[0mfn\u001b[0m\u001b[0;34m,\u001b[0m \u001b[0;34m[\u001b[0m\u001b[0mself\u001b[0m\u001b[0;34m(\u001b[0m\u001b[0ma\u001b[0m\u001b[0;34m)\u001b[0m \u001b[0;32mfor\u001b[0m \u001b[0ma\u001b[0m \u001b[0;32min\u001b[0m \u001b[0margs\u001b[0m\u001b[0;34m]\u001b[0m\u001b[0;34m)\u001b[0m\u001b[0;34m\u001b[0m\u001b[0;34m\u001b[0m\u001b[0m\n\u001b[0m\u001b[1;32m    745\u001b[0m \u001b[0;34m\u001b[0m\u001b[0m\n\u001b[1;32m    746\u001b[0m     \u001b[0;32mdef\u001b[0m \u001b[0mchoice\u001b[0m\u001b[0;34m(\u001b[0m\u001b[0mself\u001b[0m\u001b[0;34m,\u001b[0m \u001b[0mcond\u001b[0m\u001b[0;34m,\u001b[0m \u001b[0miftrue\u001b[0m\u001b[0;34m,\u001b[0m \u001b[0miffalse\u001b[0m\u001b[0;34m)\u001b[0m\u001b[0;34m:\u001b[0m\u001b[0;34m\u001b[0m\u001b[0;34m\u001b[0m\u001b[0m\n",
      "\u001b[0;32m/opt/SageMath/SageMath/local/lib/python3.9/site-packages/sage/ext/fast_callable.pyx\u001b[0m in \u001b[0;36msage.ext.fast_callable.ExpressionTreeBuilder.__call__ (build/cythonized/sage/ext/fast_callable.c:6320)\u001b[0;34m()\u001b[0m\n\u001b[1;32m    616\u001b[0m             \u001b[0;32mreturn\u001b[0m \u001b[0mself\u001b[0m\u001b[0;34m.\u001b[0m\u001b[0mconstant\u001b[0m\u001b[0;34m(\u001b[0m\u001b[0mx\u001b[0m\u001b[0;34m)\u001b[0m\u001b[0;34m\u001b[0m\u001b[0;34m\u001b[0m\u001b[0m\n\u001b[1;32m    617\u001b[0m \u001b[0;34m\u001b[0m\u001b[0m\n\u001b[0;32m--> 618\u001b[0;31m         \u001b[0;32mreturn\u001b[0m \u001b[0mfc\u001b[0m\u001b[0;34m(\u001b[0m\u001b[0mself\u001b[0m\u001b[0;34m)\u001b[0m\u001b[0;34m\u001b[0m\u001b[0;34m\u001b[0m\u001b[0m\n\u001b[0m\u001b[1;32m    619\u001b[0m \u001b[0;34m\u001b[0m\u001b[0m\n\u001b[1;32m    620\u001b[0m     \u001b[0;32mdef\u001b[0m \u001b[0m_clean_var\u001b[0m\u001b[0;34m(\u001b[0m\u001b[0mself\u001b[0m\u001b[0;34m,\u001b[0m \u001b[0mv\u001b[0m\u001b[0;34m)\u001b[0m\u001b[0;34m:\u001b[0m\u001b[0;34m\u001b[0m\u001b[0;34m\u001b[0m\u001b[0m\n",
      "\u001b[0;32m/opt/SageMath/SageMath/local/lib/python3.9/site-packages/sage/symbolic/expression.pyx\u001b[0m in \u001b[0;36msage.symbolic.expression.Expression._fast_callable_ (build/cythonized/sage/symbolic/expression.cpp:64918)\u001b[0;34m()\u001b[0m\n\u001b[1;32m  12181\u001b[0m         \"\"\"\n\u001b[1;32m  12182\u001b[0m         \u001b[0;32mfrom\u001b[0m \u001b[0msage\u001b[0m\u001b[0;34m.\u001b[0m\u001b[0msymbolic\u001b[0m\u001b[0;34m.\u001b[0m\u001b[0mexpression_conversions\u001b[0m \u001b[0;32mimport\u001b[0m \u001b[0mfast_callable\u001b[0m\u001b[0;34m\u001b[0m\u001b[0;34m\u001b[0m\u001b[0m\n\u001b[0;32m> 12183\u001b[0;31m         \u001b[0;32mreturn\u001b[0m \u001b[0mfast_callable\u001b[0m\u001b[0;34m(\u001b[0m\u001b[0mself\u001b[0m\u001b[0;34m,\u001b[0m \u001b[0metb\u001b[0m\u001b[0;34m)\u001b[0m\u001b[0;34m\u001b[0m\u001b[0;34m\u001b[0m\u001b[0m\n\u001b[0m\u001b[1;32m  12184\u001b[0m \u001b[0;34m\u001b[0m\u001b[0m\n\u001b[1;32m  12185\u001b[0m     \u001b[0;32mdef\u001b[0m \u001b[0mshow\u001b[0m\u001b[0;34m(\u001b[0m\u001b[0mself\u001b[0m\u001b[0;34m)\u001b[0m\u001b[0;34m:\u001b[0m\u001b[0;34m\u001b[0m\u001b[0;34m\u001b[0m\u001b[0m\n",
      "\u001b[0;32m/opt/SageMath/SageMath/local/lib/python3.9/site-packages/sage/symbolic/expression_conversions.py\u001b[0m in \u001b[0;36mfast_callable\u001b[0;34m(ex, etb)\u001b[0m\n\u001b[1;32m   1967\u001b[0m \u001b[0;34m\u001b[0m\u001b[0m\n\u001b[1;32m   1968\u001b[0m     \"\"\"\n\u001b[0;32m-> 1969\u001b[0;31m     \u001b[0;32mreturn\u001b[0m \u001b[0mFastCallableConverter\u001b[0m\u001b[0;34m(\u001b[0m\u001b[0mex\u001b[0m\u001b[0;34m,\u001b[0m \u001b[0metb\u001b[0m\u001b[0;34m)\u001b[0m\u001b[0;34m(\u001b[0m\u001b[0;34m)\u001b[0m\u001b[0;34m\u001b[0m\u001b[0;34m\u001b[0m\u001b[0m\n\u001b[0m\u001b[1;32m   1970\u001b[0m \u001b[0;34m\u001b[0m\u001b[0m\n\u001b[1;32m   1971\u001b[0m \u001b[0;32mclass\u001b[0m \u001b[0mRingConverter\u001b[0m\u001b[0;34m(\u001b[0m\u001b[0mConverter\u001b[0m\u001b[0;34m)\u001b[0m\u001b[0;34m:\u001b[0m\u001b[0;34m\u001b[0m\u001b[0;34m\u001b[0m\u001b[0m\n",
      "\u001b[0;32m/opt/SageMath/SageMath/local/lib/python3.9/site-packages/sage/symbolic/expression_conversions.py\u001b[0m in \u001b[0;36m__call__\u001b[0;34m(self, ex)\u001b[0m\n\u001b[1;32m    215\u001b[0m             \u001b[0;32mif\u001b[0m \u001b[0mgetattr\u001b[0m\u001b[0;34m(\u001b[0m\u001b[0mself\u001b[0m\u001b[0;34m,\u001b[0m \u001b[0;34m'use_fake_div'\u001b[0m\u001b[0;34m,\u001b[0m \u001b[0;32mFalse\u001b[0m\u001b[0;34m)\u001b[0m \u001b[0;32mand\u001b[0m \u001b[0;34m(\u001b[0m\u001b[0moperator\u001b[0m \u001b[0;32mis\u001b[0m \u001b[0m_operator\u001b[0m\u001b[0;34m.\u001b[0m\u001b[0mmul\u001b[0m \u001b[0;32mor\u001b[0m \u001b[0moperator\u001b[0m \u001b[0;32mis\u001b[0m \u001b[0mmul_vararg\u001b[0m\u001b[0;34m)\u001b[0m\u001b[0;34m:\u001b[0m\u001b[0;34m\u001b[0m\u001b[0;34m\u001b[0m\u001b[0m\n\u001b[1;32m    216\u001b[0m                 \u001b[0mdiv\u001b[0m \u001b[0;34m=\u001b[0m \u001b[0mself\u001b[0m\u001b[0;34m.\u001b[0m\u001b[0mget_fake_div\u001b[0m\u001b[0;34m(\u001b[0m\u001b[0mex\u001b[0m\u001b[0;34m)\u001b[0m\u001b[0;34m\u001b[0m\u001b[0;34m\u001b[0m\u001b[0m\n\u001b[0;32m--> 217\u001b[0;31m                 \u001b[0;32mreturn\u001b[0m \u001b[0mself\u001b[0m\u001b[0;34m.\u001b[0m\u001b[0marithmetic\u001b[0m\u001b[0;34m(\u001b[0m\u001b[0mdiv\u001b[0m\u001b[0;34m,\u001b[0m \u001b[0mdiv\u001b[0m\u001b[0;34m.\u001b[0m\u001b[0moperator\u001b[0m\u001b[0;34m(\u001b[0m\u001b[0;34m)\u001b[0m\u001b[0;34m)\u001b[0m\u001b[0;34m\u001b[0m\u001b[0;34m\u001b[0m\u001b[0m\n\u001b[0m\u001b[1;32m    218\u001b[0m             \u001b[0;32mreturn\u001b[0m \u001b[0mself\u001b[0m\u001b[0;34m.\u001b[0m\u001b[0marithmetic\u001b[0m\u001b[0;34m(\u001b[0m\u001b[0mex\u001b[0m\u001b[0;34m,\u001b[0m \u001b[0moperator\u001b[0m\u001b[0;34m)\u001b[0m\u001b[0;34m\u001b[0m\u001b[0;34m\u001b[0m\u001b[0m\n\u001b[1;32m    219\u001b[0m         \u001b[0;32melif\u001b[0m \u001b[0moperator\u001b[0m \u001b[0;32min\u001b[0m \u001b[0mrelation_operators\u001b[0m\u001b[0;34m:\u001b[0m\u001b[0;34m\u001b[0m\u001b[0;34m\u001b[0m\u001b[0m\n",
      "\u001b[0;32m/opt/SageMath/SageMath/local/lib/python3.9/site-packages/sage/symbolic/expression_conversions.py\u001b[0m in \u001b[0;36marithmetic\u001b[0;34m(self, ex, operator)\u001b[0m\n\u001b[1;32m   1895\u001b[0m         \u001b[0;32melif\u001b[0m \u001b[0moperator\u001b[0m \u001b[0;34m==\u001b[0m \u001b[0mmul_vararg\u001b[0m\u001b[0;34m:\u001b[0m\u001b[0;34m\u001b[0m\u001b[0;34m\u001b[0m\u001b[0m\n\u001b[1;32m   1896\u001b[0m             \u001b[0moperator\u001b[0m \u001b[0;34m=\u001b[0m \u001b[0m_operator\u001b[0m\u001b[0;34m.\u001b[0m\u001b[0mmul\u001b[0m\u001b[0;34m\u001b[0m\u001b[0;34m\u001b[0m\u001b[0m\n\u001b[0;32m-> 1897\u001b[0;31m         \u001b[0;32mreturn\u001b[0m \u001b[0mreduce\u001b[0m\u001b[0;34m(\u001b[0m\u001b[0;32mlambda\u001b[0m \u001b[0mx\u001b[0m\u001b[0;34m,\u001b[0m\u001b[0my\u001b[0m\u001b[0;34m:\u001b[0m \u001b[0mself\u001b[0m\u001b[0;34m.\u001b[0m\u001b[0metb\u001b[0m\u001b[0;34m.\u001b[0m\u001b[0mcall\u001b[0m\u001b[0;34m(\u001b[0m\u001b[0moperator\u001b[0m\u001b[0;34m,\u001b[0m \u001b[0mx\u001b[0m\u001b[0;34m,\u001b[0m\u001b[0my\u001b[0m\u001b[0;34m)\u001b[0m\u001b[0;34m,\u001b[0m \u001b[0moperands\u001b[0m\u001b[0;34m)\u001b[0m\u001b[0;34m\u001b[0m\u001b[0;34m\u001b[0m\u001b[0m\n\u001b[0m\u001b[1;32m   1898\u001b[0m \u001b[0;34m\u001b[0m\u001b[0m\n\u001b[1;32m   1899\u001b[0m     \u001b[0;32mdef\u001b[0m \u001b[0msymbol\u001b[0m\u001b[0;34m(\u001b[0m\u001b[0mself\u001b[0m\u001b[0;34m,\u001b[0m \u001b[0mex\u001b[0m\u001b[0;34m)\u001b[0m\u001b[0;34m:\u001b[0m\u001b[0;34m\u001b[0m\u001b[0;34m\u001b[0m\u001b[0m\n",
      "\u001b[0;32m/opt/SageMath/SageMath/local/lib/python3.9/site-packages/sage/symbolic/expression_conversions.py\u001b[0m in \u001b[0;36m<lambda>\u001b[0;34m(x, y)\u001b[0m\n\u001b[1;32m   1895\u001b[0m         \u001b[0;32melif\u001b[0m \u001b[0moperator\u001b[0m \u001b[0;34m==\u001b[0m \u001b[0mmul_vararg\u001b[0m\u001b[0;34m:\u001b[0m\u001b[0;34m\u001b[0m\u001b[0;34m\u001b[0m\u001b[0m\n\u001b[1;32m   1896\u001b[0m             \u001b[0moperator\u001b[0m \u001b[0;34m=\u001b[0m \u001b[0m_operator\u001b[0m\u001b[0;34m.\u001b[0m\u001b[0mmul\u001b[0m\u001b[0;34m\u001b[0m\u001b[0;34m\u001b[0m\u001b[0m\n\u001b[0;32m-> 1897\u001b[0;31m         \u001b[0;32mreturn\u001b[0m \u001b[0mreduce\u001b[0m\u001b[0;34m(\u001b[0m\u001b[0;32mlambda\u001b[0m \u001b[0mx\u001b[0m\u001b[0;34m,\u001b[0m\u001b[0my\u001b[0m\u001b[0;34m:\u001b[0m \u001b[0mself\u001b[0m\u001b[0;34m.\u001b[0m\u001b[0metb\u001b[0m\u001b[0;34m.\u001b[0m\u001b[0mcall\u001b[0m\u001b[0;34m(\u001b[0m\u001b[0moperator\u001b[0m\u001b[0;34m,\u001b[0m \u001b[0mx\u001b[0m\u001b[0;34m,\u001b[0m\u001b[0my\u001b[0m\u001b[0;34m)\u001b[0m\u001b[0;34m,\u001b[0m \u001b[0moperands\u001b[0m\u001b[0;34m)\u001b[0m\u001b[0;34m\u001b[0m\u001b[0;34m\u001b[0m\u001b[0m\n\u001b[0m\u001b[1;32m   1898\u001b[0m \u001b[0;34m\u001b[0m\u001b[0m\n\u001b[1;32m   1899\u001b[0m     \u001b[0;32mdef\u001b[0m \u001b[0msymbol\u001b[0m\u001b[0;34m(\u001b[0m\u001b[0mself\u001b[0m\u001b[0;34m,\u001b[0m \u001b[0mex\u001b[0m\u001b[0;34m)\u001b[0m\u001b[0;34m:\u001b[0m\u001b[0;34m\u001b[0m\u001b[0;34m\u001b[0m\u001b[0m\n",
      "\u001b[0;32m/opt/SageMath/SageMath/local/lib/python3.9/site-packages/sage/ext/fast_callable.pyx\u001b[0m in \u001b[0;36msage.ext.fast_callable.ExpressionTreeBuilder.call (build/cythonized/sage/ext/fast_callable.c:7204)\u001b[0;34m()\u001b[0m\n\u001b[1;32m    742\u001b[0m             \u001b[0;32mreturn\u001b[0m \u001b[0mself\u001b[0m\u001b[0;34m(\u001b[0m\u001b[0mbase\u001b[0m\u001b[0;34m)\u001b[0m\u001b[0;34m**\u001b[0m\u001b[0mexponent\u001b[0m\u001b[0;34m\u001b[0m\u001b[0;34m\u001b[0m\u001b[0m\n\u001b[1;32m    743\u001b[0m         \u001b[0;32melse\u001b[0m\u001b[0;34m:\u001b[0m\u001b[0;34m\u001b[0m\u001b[0;34m\u001b[0m\u001b[0m\n\u001b[0;32m--> 744\u001b[0;31m             \u001b[0;32mreturn\u001b[0m \u001b[0mExpressionCall\u001b[0m\u001b[0;34m(\u001b[0m\u001b[0mself\u001b[0m\u001b[0;34m,\u001b[0m \u001b[0mfn\u001b[0m\u001b[0;34m,\u001b[0m \u001b[0;34m[\u001b[0m\u001b[0mself\u001b[0m\u001b[0;34m(\u001b[0m\u001b[0ma\u001b[0m\u001b[0;34m)\u001b[0m \u001b[0;32mfor\u001b[0m \u001b[0ma\u001b[0m \u001b[0;32min\u001b[0m \u001b[0margs\u001b[0m\u001b[0;34m]\u001b[0m\u001b[0;34m)\u001b[0m\u001b[0;34m\u001b[0m\u001b[0;34m\u001b[0m\u001b[0m\n\u001b[0m\u001b[1;32m    745\u001b[0m \u001b[0;34m\u001b[0m\u001b[0m\n\u001b[1;32m    746\u001b[0m     \u001b[0;32mdef\u001b[0m \u001b[0mchoice\u001b[0m\u001b[0;34m(\u001b[0m\u001b[0mself\u001b[0m\u001b[0;34m,\u001b[0m \u001b[0mcond\u001b[0m\u001b[0;34m,\u001b[0m \u001b[0miftrue\u001b[0m\u001b[0;34m,\u001b[0m \u001b[0miffalse\u001b[0m\u001b[0;34m)\u001b[0m\u001b[0;34m:\u001b[0m\u001b[0;34m\u001b[0m\u001b[0;34m\u001b[0m\u001b[0m\n",
      "\u001b[0;32m/opt/SageMath/SageMath/local/lib/python3.9/site-packages/sage/ext/fast_callable.pyx\u001b[0m in \u001b[0;36msage.ext.fast_callable.ExpressionTreeBuilder.__call__ (build/cythonized/sage/ext/fast_callable.c:6320)\u001b[0;34m()\u001b[0m\n\u001b[1;32m    616\u001b[0m             \u001b[0;32mreturn\u001b[0m \u001b[0mself\u001b[0m\u001b[0;34m.\u001b[0m\u001b[0mconstant\u001b[0m\u001b[0;34m(\u001b[0m\u001b[0mx\u001b[0m\u001b[0;34m)\u001b[0m\u001b[0;34m\u001b[0m\u001b[0;34m\u001b[0m\u001b[0m\n\u001b[1;32m    617\u001b[0m \u001b[0;34m\u001b[0m\u001b[0m\n\u001b[0;32m--> 618\u001b[0;31m         \u001b[0;32mreturn\u001b[0m \u001b[0mfc\u001b[0m\u001b[0;34m(\u001b[0m\u001b[0mself\u001b[0m\u001b[0;34m)\u001b[0m\u001b[0;34m\u001b[0m\u001b[0;34m\u001b[0m\u001b[0m\n\u001b[0m\u001b[1;32m    619\u001b[0m \u001b[0;34m\u001b[0m\u001b[0m\n\u001b[1;32m    620\u001b[0m     \u001b[0;32mdef\u001b[0m \u001b[0m_clean_var\u001b[0m\u001b[0;34m(\u001b[0m\u001b[0mself\u001b[0m\u001b[0;34m,\u001b[0m \u001b[0mv\u001b[0m\u001b[0;34m)\u001b[0m\u001b[0;34m:\u001b[0m\u001b[0;34m\u001b[0m\u001b[0;34m\u001b[0m\u001b[0m\n",
      "\u001b[0;32m/opt/SageMath/SageMath/local/lib/python3.9/site-packages/sage/symbolic/expression.pyx\u001b[0m in \u001b[0;36msage.symbolic.expression.Expression._fast_callable_ (build/cythonized/sage/symbolic/expression.cpp:64918)\u001b[0;34m()\u001b[0m\n\u001b[1;32m  12181\u001b[0m         \"\"\"\n\u001b[1;32m  12182\u001b[0m         \u001b[0;32mfrom\u001b[0m \u001b[0msage\u001b[0m\u001b[0;34m.\u001b[0m\u001b[0msymbolic\u001b[0m\u001b[0;34m.\u001b[0m\u001b[0mexpression_conversions\u001b[0m \u001b[0;32mimport\u001b[0m \u001b[0mfast_callable\u001b[0m\u001b[0;34m\u001b[0m\u001b[0;34m\u001b[0m\u001b[0m\n\u001b[0;32m> 12183\u001b[0;31m         \u001b[0;32mreturn\u001b[0m \u001b[0mfast_callable\u001b[0m\u001b[0;34m(\u001b[0m\u001b[0mself\u001b[0m\u001b[0;34m,\u001b[0m \u001b[0metb\u001b[0m\u001b[0;34m)\u001b[0m\u001b[0;34m\u001b[0m\u001b[0;34m\u001b[0m\u001b[0m\n\u001b[0m\u001b[1;32m  12184\u001b[0m \u001b[0;34m\u001b[0m\u001b[0m\n\u001b[1;32m  12185\u001b[0m     \u001b[0;32mdef\u001b[0m \u001b[0mshow\u001b[0m\u001b[0;34m(\u001b[0m\u001b[0mself\u001b[0m\u001b[0;34m)\u001b[0m\u001b[0;34m:\u001b[0m\u001b[0;34m\u001b[0m\u001b[0;34m\u001b[0m\u001b[0m\n",
      "\u001b[0;32m/opt/SageMath/SageMath/local/lib/python3.9/site-packages/sage/symbolic/expression_conversions.py\u001b[0m in \u001b[0;36mfast_callable\u001b[0;34m(ex, etb)\u001b[0m\n\u001b[1;32m   1967\u001b[0m \u001b[0;34m\u001b[0m\u001b[0m\n\u001b[1;32m   1968\u001b[0m     \"\"\"\n\u001b[0;32m-> 1969\u001b[0;31m     \u001b[0;32mreturn\u001b[0m \u001b[0mFastCallableConverter\u001b[0m\u001b[0;34m(\u001b[0m\u001b[0mex\u001b[0m\u001b[0;34m,\u001b[0m \u001b[0metb\u001b[0m\u001b[0;34m)\u001b[0m\u001b[0;34m(\u001b[0m\u001b[0;34m)\u001b[0m\u001b[0;34m\u001b[0m\u001b[0;34m\u001b[0m\u001b[0m\n\u001b[0m\u001b[1;32m   1970\u001b[0m \u001b[0;34m\u001b[0m\u001b[0m\n\u001b[1;32m   1971\u001b[0m \u001b[0;32mclass\u001b[0m \u001b[0mRingConverter\u001b[0m\u001b[0;34m(\u001b[0m\u001b[0mConverter\u001b[0m\u001b[0;34m)\u001b[0m\u001b[0;34m:\u001b[0m\u001b[0;34m\u001b[0m\u001b[0;34m\u001b[0m\u001b[0m\n",
      "\u001b[0;32m/opt/SageMath/SageMath/local/lib/python3.9/site-packages/sage/symbolic/expression_conversions.py\u001b[0m in \u001b[0;36m__call__\u001b[0;34m(self, ex)\u001b[0m\n\u001b[1;32m    216\u001b[0m                 \u001b[0mdiv\u001b[0m \u001b[0;34m=\u001b[0m \u001b[0mself\u001b[0m\u001b[0;34m.\u001b[0m\u001b[0mget_fake_div\u001b[0m\u001b[0;34m(\u001b[0m\u001b[0mex\u001b[0m\u001b[0;34m)\u001b[0m\u001b[0;34m\u001b[0m\u001b[0;34m\u001b[0m\u001b[0m\n\u001b[1;32m    217\u001b[0m                 \u001b[0;32mreturn\u001b[0m \u001b[0mself\u001b[0m\u001b[0;34m.\u001b[0m\u001b[0marithmetic\u001b[0m\u001b[0;34m(\u001b[0m\u001b[0mdiv\u001b[0m\u001b[0;34m,\u001b[0m \u001b[0mdiv\u001b[0m\u001b[0;34m.\u001b[0m\u001b[0moperator\u001b[0m\u001b[0;34m(\u001b[0m\u001b[0;34m)\u001b[0m\u001b[0;34m)\u001b[0m\u001b[0;34m\u001b[0m\u001b[0;34m\u001b[0m\u001b[0m\n\u001b[0;32m--> 218\u001b[0;31m             \u001b[0;32mreturn\u001b[0m \u001b[0mself\u001b[0m\u001b[0;34m.\u001b[0m\u001b[0marithmetic\u001b[0m\u001b[0;34m(\u001b[0m\u001b[0mex\u001b[0m\u001b[0;34m,\u001b[0m \u001b[0moperator\u001b[0m\u001b[0;34m)\u001b[0m\u001b[0;34m\u001b[0m\u001b[0;34m\u001b[0m\u001b[0m\n\u001b[0m\u001b[1;32m    219\u001b[0m         \u001b[0;32melif\u001b[0m \u001b[0moperator\u001b[0m \u001b[0;32min\u001b[0m \u001b[0mrelation_operators\u001b[0m\u001b[0;34m:\u001b[0m\u001b[0;34m\u001b[0m\u001b[0;34m\u001b[0m\u001b[0m\n\u001b[1;32m    220\u001b[0m             \u001b[0;32mreturn\u001b[0m \u001b[0mself\u001b[0m\u001b[0;34m.\u001b[0m\u001b[0mrelation\u001b[0m\u001b[0;34m(\u001b[0m\u001b[0mex\u001b[0m\u001b[0;34m,\u001b[0m \u001b[0moperator\u001b[0m\u001b[0;34m)\u001b[0m\u001b[0;34m\u001b[0m\u001b[0;34m\u001b[0m\u001b[0m\n",
      "\u001b[0;32m/opt/SageMath/SageMath/local/lib/python3.9/site-packages/sage/symbolic/expression_conversions.py\u001b[0m in \u001b[0;36marithmetic\u001b[0;34m(self, ex, operator)\u001b[0m\n\u001b[1;32m   1895\u001b[0m         \u001b[0;32melif\u001b[0m \u001b[0moperator\u001b[0m \u001b[0;34m==\u001b[0m \u001b[0mmul_vararg\u001b[0m\u001b[0;34m:\u001b[0m\u001b[0;34m\u001b[0m\u001b[0;34m\u001b[0m\u001b[0m\n\u001b[1;32m   1896\u001b[0m             \u001b[0moperator\u001b[0m \u001b[0;34m=\u001b[0m \u001b[0m_operator\u001b[0m\u001b[0;34m.\u001b[0m\u001b[0mmul\u001b[0m\u001b[0;34m\u001b[0m\u001b[0;34m\u001b[0m\u001b[0m\n\u001b[0;32m-> 1897\u001b[0;31m         \u001b[0;32mreturn\u001b[0m \u001b[0mreduce\u001b[0m\u001b[0;34m(\u001b[0m\u001b[0;32mlambda\u001b[0m \u001b[0mx\u001b[0m\u001b[0;34m,\u001b[0m\u001b[0my\u001b[0m\u001b[0;34m:\u001b[0m \u001b[0mself\u001b[0m\u001b[0;34m.\u001b[0m\u001b[0metb\u001b[0m\u001b[0;34m.\u001b[0m\u001b[0mcall\u001b[0m\u001b[0;34m(\u001b[0m\u001b[0moperator\u001b[0m\u001b[0;34m,\u001b[0m \u001b[0mx\u001b[0m\u001b[0;34m,\u001b[0m\u001b[0my\u001b[0m\u001b[0;34m)\u001b[0m\u001b[0;34m,\u001b[0m \u001b[0moperands\u001b[0m\u001b[0;34m)\u001b[0m\u001b[0;34m\u001b[0m\u001b[0;34m\u001b[0m\u001b[0m\n\u001b[0m\u001b[1;32m   1898\u001b[0m \u001b[0;34m\u001b[0m\u001b[0m\n\u001b[1;32m   1899\u001b[0m     \u001b[0;32mdef\u001b[0m \u001b[0msymbol\u001b[0m\u001b[0;34m(\u001b[0m\u001b[0mself\u001b[0m\u001b[0;34m,\u001b[0m \u001b[0mex\u001b[0m\u001b[0;34m)\u001b[0m\u001b[0;34m:\u001b[0m\u001b[0;34m\u001b[0m\u001b[0;34m\u001b[0m\u001b[0m\n",
      "\u001b[0;32m/opt/SageMath/SageMath/local/lib/python3.9/site-packages/sage/symbolic/expression_conversions.py\u001b[0m in \u001b[0;36m<lambda>\u001b[0;34m(x, y)\u001b[0m\n\u001b[1;32m   1895\u001b[0m         \u001b[0;32melif\u001b[0m \u001b[0moperator\u001b[0m \u001b[0;34m==\u001b[0m \u001b[0mmul_vararg\u001b[0m\u001b[0;34m:\u001b[0m\u001b[0;34m\u001b[0m\u001b[0;34m\u001b[0m\u001b[0m\n\u001b[1;32m   1896\u001b[0m             \u001b[0moperator\u001b[0m \u001b[0;34m=\u001b[0m \u001b[0m_operator\u001b[0m\u001b[0;34m.\u001b[0m\u001b[0mmul\u001b[0m\u001b[0;34m\u001b[0m\u001b[0;34m\u001b[0m\u001b[0m\n\u001b[0;32m-> 1897\u001b[0;31m         \u001b[0;32mreturn\u001b[0m \u001b[0mreduce\u001b[0m\u001b[0;34m(\u001b[0m\u001b[0;32mlambda\u001b[0m \u001b[0mx\u001b[0m\u001b[0;34m,\u001b[0m\u001b[0my\u001b[0m\u001b[0;34m:\u001b[0m \u001b[0mself\u001b[0m\u001b[0;34m.\u001b[0m\u001b[0metb\u001b[0m\u001b[0;34m.\u001b[0m\u001b[0mcall\u001b[0m\u001b[0;34m(\u001b[0m\u001b[0moperator\u001b[0m\u001b[0;34m,\u001b[0m \u001b[0mx\u001b[0m\u001b[0;34m,\u001b[0m\u001b[0my\u001b[0m\u001b[0;34m)\u001b[0m\u001b[0;34m,\u001b[0m \u001b[0moperands\u001b[0m\u001b[0;34m)\u001b[0m\u001b[0;34m\u001b[0m\u001b[0;34m\u001b[0m\u001b[0m\n\u001b[0m\u001b[1;32m   1898\u001b[0m \u001b[0;34m\u001b[0m\u001b[0m\n\u001b[1;32m   1899\u001b[0m     \u001b[0;32mdef\u001b[0m \u001b[0msymbol\u001b[0m\u001b[0;34m(\u001b[0m\u001b[0mself\u001b[0m\u001b[0;34m,\u001b[0m \u001b[0mex\u001b[0m\u001b[0;34m)\u001b[0m\u001b[0;34m:\u001b[0m\u001b[0;34m\u001b[0m\u001b[0;34m\u001b[0m\u001b[0m\n",
      "\u001b[0;32m/opt/SageMath/SageMath/local/lib/python3.9/site-packages/sage/ext/fast_callable.pyx\u001b[0m in \u001b[0;36msage.ext.fast_callable.ExpressionTreeBuilder.call (build/cythonized/sage/ext/fast_callable.c:7149)\u001b[0;34m()\u001b[0m\n\u001b[1;32m    740\u001b[0m         \u001b[0;32mif\u001b[0m \u001b[0mfn\u001b[0m \u001b[0;32mis\u001b[0m \u001b[0moperator\u001b[0m\u001b[0;34m.\u001b[0m\u001b[0mpow\u001b[0m\u001b[0;34m:\u001b[0m\u001b[0;34m\u001b[0m\u001b[0;34m\u001b[0m\u001b[0m\n\u001b[1;32m    741\u001b[0m             \u001b[0mbase\u001b[0m\u001b[0;34m,\u001b[0m \u001b[0mexponent\u001b[0m \u001b[0;34m=\u001b[0m \u001b[0margs\u001b[0m\u001b[0;34m\u001b[0m\u001b[0;34m\u001b[0m\u001b[0m\n\u001b[0;32m--> 742\u001b[0;31m             \u001b[0;32mreturn\u001b[0m \u001b[0mself\u001b[0m\u001b[0;34m(\u001b[0m\u001b[0mbase\u001b[0m\u001b[0;34m)\u001b[0m\u001b[0;34m**\u001b[0m\u001b[0mexponent\u001b[0m\u001b[0;34m\u001b[0m\u001b[0;34m\u001b[0m\u001b[0m\n\u001b[0m\u001b[1;32m    743\u001b[0m         \u001b[0;32melse\u001b[0m\u001b[0;34m:\u001b[0m\u001b[0;34m\u001b[0m\u001b[0;34m\u001b[0m\u001b[0m\n\u001b[1;32m    744\u001b[0m             \u001b[0;32mreturn\u001b[0m \u001b[0mExpressionCall\u001b[0m\u001b[0;34m(\u001b[0m\u001b[0mself\u001b[0m\u001b[0;34m,\u001b[0m \u001b[0mfn\u001b[0m\u001b[0;34m,\u001b[0m \u001b[0;34m[\u001b[0m\u001b[0mself\u001b[0m\u001b[0;34m(\u001b[0m\u001b[0ma\u001b[0m\u001b[0;34m)\u001b[0m \u001b[0;32mfor\u001b[0m \u001b[0ma\u001b[0m \u001b[0;32min\u001b[0m \u001b[0margs\u001b[0m\u001b[0;34m]\u001b[0m\u001b[0;34m)\u001b[0m\u001b[0;34m\u001b[0m\u001b[0;34m\u001b[0m\u001b[0m\n",
      "\u001b[0;32m/opt/SageMath/SageMath/local/lib/python3.9/site-packages/sage/ext/fast_callable.pyx\u001b[0m in \u001b[0;36msage.ext.fast_callable.ExpressionTreeBuilder.__call__ (build/cythonized/sage/ext/fast_callable.c:6320)\u001b[0;34m()\u001b[0m\n\u001b[1;32m    616\u001b[0m             \u001b[0;32mreturn\u001b[0m \u001b[0mself\u001b[0m\u001b[0;34m.\u001b[0m\u001b[0mconstant\u001b[0m\u001b[0;34m(\u001b[0m\u001b[0mx\u001b[0m\u001b[0;34m)\u001b[0m\u001b[0;34m\u001b[0m\u001b[0;34m\u001b[0m\u001b[0m\n\u001b[1;32m    617\u001b[0m \u001b[0;34m\u001b[0m\u001b[0m\n\u001b[0;32m--> 618\u001b[0;31m         \u001b[0;32mreturn\u001b[0m \u001b[0mfc\u001b[0m\u001b[0;34m(\u001b[0m\u001b[0mself\u001b[0m\u001b[0;34m)\u001b[0m\u001b[0;34m\u001b[0m\u001b[0;34m\u001b[0m\u001b[0m\n\u001b[0m\u001b[1;32m    619\u001b[0m \u001b[0;34m\u001b[0m\u001b[0m\n\u001b[1;32m    620\u001b[0m     \u001b[0;32mdef\u001b[0m \u001b[0m_clean_var\u001b[0m\u001b[0;34m(\u001b[0m\u001b[0mself\u001b[0m\u001b[0;34m,\u001b[0m \u001b[0mv\u001b[0m\u001b[0;34m)\u001b[0m\u001b[0;34m:\u001b[0m\u001b[0;34m\u001b[0m\u001b[0;34m\u001b[0m\u001b[0m\n",
      "\u001b[0;32m/opt/SageMath/SageMath/local/lib/python3.9/site-packages/sage/symbolic/expression.pyx\u001b[0m in \u001b[0;36msage.symbolic.expression.Expression._fast_callable_ (build/cythonized/sage/symbolic/expression.cpp:64918)\u001b[0;34m()\u001b[0m\n\u001b[1;32m  12181\u001b[0m         \"\"\"\n\u001b[1;32m  12182\u001b[0m         \u001b[0;32mfrom\u001b[0m \u001b[0msage\u001b[0m\u001b[0;34m.\u001b[0m\u001b[0msymbolic\u001b[0m\u001b[0;34m.\u001b[0m\u001b[0mexpression_conversions\u001b[0m \u001b[0;32mimport\u001b[0m \u001b[0mfast_callable\u001b[0m\u001b[0;34m\u001b[0m\u001b[0;34m\u001b[0m\u001b[0m\n\u001b[0;32m> 12183\u001b[0;31m         \u001b[0;32mreturn\u001b[0m \u001b[0mfast_callable\u001b[0m\u001b[0;34m(\u001b[0m\u001b[0mself\u001b[0m\u001b[0;34m,\u001b[0m \u001b[0metb\u001b[0m\u001b[0;34m)\u001b[0m\u001b[0;34m\u001b[0m\u001b[0;34m\u001b[0m\u001b[0m\n\u001b[0m\u001b[1;32m  12184\u001b[0m \u001b[0;34m\u001b[0m\u001b[0m\n\u001b[1;32m  12185\u001b[0m     \u001b[0;32mdef\u001b[0m \u001b[0mshow\u001b[0m\u001b[0;34m(\u001b[0m\u001b[0mself\u001b[0m\u001b[0;34m)\u001b[0m\u001b[0;34m:\u001b[0m\u001b[0;34m\u001b[0m\u001b[0;34m\u001b[0m\u001b[0m\n",
      "\u001b[0;32m/opt/SageMath/SageMath/local/lib/python3.9/site-packages/sage/symbolic/expression_conversions.py\u001b[0m in \u001b[0;36mfast_callable\u001b[0;34m(ex, etb)\u001b[0m\n\u001b[1;32m   1967\u001b[0m \u001b[0;34m\u001b[0m\u001b[0m\n\u001b[1;32m   1968\u001b[0m     \"\"\"\n\u001b[0;32m-> 1969\u001b[0;31m     \u001b[0;32mreturn\u001b[0m \u001b[0mFastCallableConverter\u001b[0m\u001b[0;34m(\u001b[0m\u001b[0mex\u001b[0m\u001b[0;34m,\u001b[0m \u001b[0metb\u001b[0m\u001b[0;34m)\u001b[0m\u001b[0;34m(\u001b[0m\u001b[0;34m)\u001b[0m\u001b[0;34m\u001b[0m\u001b[0;34m\u001b[0m\u001b[0m\n\u001b[0m\u001b[1;32m   1970\u001b[0m \u001b[0;34m\u001b[0m\u001b[0m\n\u001b[1;32m   1971\u001b[0m \u001b[0;32mclass\u001b[0m \u001b[0mRingConverter\u001b[0m\u001b[0;34m(\u001b[0m\u001b[0mConverter\u001b[0m\u001b[0;34m)\u001b[0m\u001b[0;34m:\u001b[0m\u001b[0;34m\u001b[0m\u001b[0;34m\u001b[0m\u001b[0m\n",
      "\u001b[0;32m/opt/SageMath/SageMath/local/lib/python3.9/site-packages/sage/symbolic/expression_conversions.py\u001b[0m in \u001b[0;36m__call__\u001b[0;34m(self, ex)\u001b[0m\n\u001b[1;32m    210\u001b[0m         \u001b[0moperator\u001b[0m \u001b[0;34m=\u001b[0m \u001b[0mex\u001b[0m\u001b[0;34m.\u001b[0m\u001b[0moperator\u001b[0m\u001b[0;34m(\u001b[0m\u001b[0;34m)\u001b[0m\u001b[0;34m\u001b[0m\u001b[0;34m\u001b[0m\u001b[0m\n\u001b[1;32m    211\u001b[0m         \u001b[0;32mif\u001b[0m \u001b[0moperator\u001b[0m \u001b[0;32mis\u001b[0m \u001b[0;32mNone\u001b[0m\u001b[0;34m:\u001b[0m\u001b[0;34m\u001b[0m\u001b[0;34m\u001b[0m\u001b[0m\n\u001b[0;32m--> 212\u001b[0;31m             \u001b[0;32mreturn\u001b[0m \u001b[0mself\u001b[0m\u001b[0;34m.\u001b[0m\u001b[0msymbol\u001b[0m\u001b[0;34m(\u001b[0m\u001b[0mex\u001b[0m\u001b[0;34m)\u001b[0m\u001b[0;34m\u001b[0m\u001b[0;34m\u001b[0m\u001b[0m\n\u001b[0m\u001b[1;32m    213\u001b[0m \u001b[0;34m\u001b[0m\u001b[0m\n\u001b[1;32m    214\u001b[0m         \u001b[0;32mif\u001b[0m \u001b[0moperator\u001b[0m \u001b[0;32min\u001b[0m \u001b[0marithmetic_operators\u001b[0m\u001b[0;34m:\u001b[0m\u001b[0;34m\u001b[0m\u001b[0;34m\u001b[0m\u001b[0m\n",
      "\u001b[0;32m/opt/SageMath/SageMath/local/lib/python3.9/site-packages/sage/symbolic/expression_conversions.py\u001b[0m in \u001b[0;36msymbol\u001b[0;34m(self, ex)\u001b[0m\n\u001b[1;32m   1916\u001b[0m             \u001b[0mValueError\u001b[0m\u001b[0;34m:\u001b[0m \u001b[0mVariable\u001b[0m \u001b[0;34m'z'\u001b[0m \u001b[0;32mnot\u001b[0m \u001b[0mfound\u001b[0m\u001b[0;34m\u001b[0m\u001b[0;34m\u001b[0m\u001b[0m\n\u001b[1;32m   1917\u001b[0m         \"\"\"\n\u001b[0;32m-> 1918\u001b[0;31m         \u001b[0;32mreturn\u001b[0m \u001b[0mself\u001b[0m\u001b[0;34m.\u001b[0m\u001b[0metb\u001b[0m\u001b[0;34m.\u001b[0m\u001b[0mvar\u001b[0m\u001b[0;34m(\u001b[0m\u001b[0mSR\u001b[0m\u001b[0;34m(\u001b[0m\u001b[0mex\u001b[0m\u001b[0;34m)\u001b[0m\u001b[0;34m)\u001b[0m\u001b[0;34m\u001b[0m\u001b[0;34m\u001b[0m\u001b[0m\n\u001b[0m\u001b[1;32m   1919\u001b[0m \u001b[0;34m\u001b[0m\u001b[0m\n\u001b[1;32m   1920\u001b[0m     \u001b[0;32mdef\u001b[0m \u001b[0mcomposition\u001b[0m\u001b[0;34m(\u001b[0m\u001b[0mself\u001b[0m\u001b[0;34m,\u001b[0m \u001b[0mex\u001b[0m\u001b[0;34m,\u001b[0m \u001b[0mfunction\u001b[0m\u001b[0;34m)\u001b[0m\u001b[0;34m:\u001b[0m\u001b[0;34m\u001b[0m\u001b[0;34m\u001b[0m\u001b[0m\n",
      "\u001b[0;32m/opt/SageMath/SageMath/local/lib/python3.9/site-packages/sage/ext/fast_callable.pyx\u001b[0m in \u001b[0;36msage.ext.fast_callable.ExpressionTreeBuilder.var (build/cythonized/sage/ext/fast_callable.c:6791)\u001b[0;34m()\u001b[0m\n\u001b[1;32m    688\u001b[0m             \u001b[0mind\u001b[0m \u001b[0;34m=\u001b[0m \u001b[0mself\u001b[0m\u001b[0;34m.\u001b[0m\u001b[0m_vars\u001b[0m\u001b[0;34m.\u001b[0m\u001b[0mindex\u001b[0m\u001b[0;34m(\u001b[0m\u001b[0mvar_name\u001b[0m\u001b[0;34m)\u001b[0m\u001b[0;34m\u001b[0m\u001b[0;34m\u001b[0m\u001b[0m\n\u001b[1;32m    689\u001b[0m         \u001b[0;32mexcept\u001b[0m \u001b[0mValueError\u001b[0m\u001b[0;34m:\u001b[0m\u001b[0;34m\u001b[0m\u001b[0;34m\u001b[0m\u001b[0m\n\u001b[0;32m--> 690\u001b[0;31m             \u001b[0;32mraise\u001b[0m \u001b[0mValueError\u001b[0m\u001b[0;34m(\u001b[0m\u001b[0;34m\"Variable '%s' not found\"\u001b[0m \u001b[0;34m%\u001b[0m \u001b[0mvar_name\u001b[0m\u001b[0;34m)\u001b[0m\u001b[0;34m\u001b[0m\u001b[0;34m\u001b[0m\u001b[0m\n\u001b[0m\u001b[1;32m    691\u001b[0m         \u001b[0;32mreturn\u001b[0m \u001b[0mExpressionVariable\u001b[0m\u001b[0;34m(\u001b[0m\u001b[0mself\u001b[0m\u001b[0;34m,\u001b[0m \u001b[0mind\u001b[0m\u001b[0;34m)\u001b[0m\u001b[0;34m\u001b[0m\u001b[0;34m\u001b[0m\u001b[0m\n\u001b[1;32m    692\u001b[0m \u001b[0;34m\u001b[0m\u001b[0m\n",
      "\u001b[0;31mValueError\u001b[0m: Variable 'D1' not found"
     ]
    }
   ],
   "source": [
    "plot(cond2sub.subs(DEg=DEgval,D2=D2val)/(2*np.pi),(D1,0.5,5), gridlines=True)"
   ]
  },
  {
   "cell_type": "markdown",
   "id": "1c54ab00",
   "metadata": {},
   "source": [
    "# Search for a solution of both conditions"
   ]
  },
  {
   "cell_type": "code",
   "execution_count": 17,
   "id": "0ad76bf7",
   "metadata": {},
   "outputs": [
    {
     "name": "stdout",
     "output_type": "stream",
     "text": [
      "99.9900000000000 0.3644643570027668\n",
      "99.9800000000000 0.3599350668897934\n",
      "99.9700000000000 0.3554056736030553\n",
      "99.9600000000000 0.3508761774384901\n",
      "99.9500000000000 0.3463465786917439\n",
      "99.9400000000000 0.3418168776581645\n",
      "99.9300000000000 0.33728707463284024\n",
      "99.9200000000000 0.3327571699106322\n",
      "99.9100000000000 0.3282271637861136\n",
      "99.9000000000000 0.3236970565535806\n",
      "99.8900000000000 0.31916684850705224\n",
      "99.8800000000000 0.3146365399403237\n",
      "99.8700000000000 0.310106131146906\n",
      "99.8600000000000 0.3055756224200401\n",
      "99.8500000000000 0.30104501405267214\n",
      "99.8400000000000 0.29651430633757414\n",
      "99.8300000000000 0.29198349956715575\n",
      "99.8200000000000 0.2874525940336312\n",
      "99.8100000000000 0.28292159002894124\n",
      "99.8000000000000 0.27839048784473164\n",
      "99.7900000000000 0.273859287772396\n",
      "99.7800000000000 0.26932799010310404\n",
      "99.7700000000000 0.26479659512773424\n",
      "99.7600000000000 0.2602651031369092\n",
      "99.7500000000000 0.25573351442099934\n",
      "99.7400000000000 0.2512018292700837\n",
      "99.7300000000000 0.24667004797402825\n",
      "99.7200000000000 0.24213817082240752\n",
      "99.7100000000000 0.23760619810456163\n",
      "99.7000000000000 0.2330741301095216\n",
      "99.6900000000000 0.22854196712616215\n",
      "99.6800000000000 0.22400970944299559\n",
      "99.6700000000000 0.2194773573483424\n",
      "99.6600000000000 0.2149449111302033\n",
      "99.6500000000000 0.21041237107641564\n",
      "99.6400000000000 0.20587973747444366\n",
      "99.6300000000000 0.2013470106116202\n",
      "99.6200000000000 0.19681419077495121\n",
      "99.6100000000000 0.1922812782511798\n",
      "99.6000000000000 0.18774827332681454\n",
      "99.5900000000000 0.183215176288126\n",
      "99.5800000000000 0.1786819874211112\n",
      "99.5700000000000 0.17414870701152196\n",
      "99.5600000000000 0.16961533534484374\n",
      "99.5500000000000 0.16508187270633812\n",
      "99.5400000000000 0.1605483193809789\n",
      "99.5300000000000 0.15601467565351967\n",
      "99.5200000000000 0.15148094180840843\n",
      "99.5100000000000 0.1469471181299582\n",
      "99.5000000000000 0.14241320490205212\n",
      "99.4900000000000 0.13787920240852714\n",
      "99.4800000000000 0.13334511093280454\n",
      "99.4700000000000 0.12881093075815286\n",
      "99.4600000000000 0.12427666216754574\n",
      "99.4500000000000 0.11974230544373299\n",
      "99.4400000000000 0.11520786086917667\n",
      "99.4300000000000 0.11067332872614699\n",
      "99.4200000000000 0.10613870929663705\n",
      "99.4100000000000 0.10160400286236992\n",
      "99.4000000000000 0.09706920970488753\n",
      "99.3900000000000 0.0925343301054049\n",
      "99.3800000000000 0.08799936434493105\n",
      "99.3700000000000 0.08346431270424759\n",
      "99.3600000000000 0.07892917546386613\n",
      "99.3500000000000 0.07439395290403539\n",
      "99.3400000000000 0.06985864530482289\n",
      "99.3300000000000 0.06532325294594443\n",
      "99.3200000000000 0.060787776107002145\n",
      "99.3100000000000 0.056252215067246425\n",
      "99.3000000000000 0.051716570105746484\n",
      "99.2900000000000 0.04718084150131574\n",
      "99.2800000000000 0.04264502953249405\n",
      "99.2700000000000 0.03810913447761877\n",
      "99.2600000000000 0.03357315661476079\n",
      "99.2500000000000 0.02903709622175299\n",
      "99.2400000000000 0.024500953576215068\n",
      "99.2300000000000 0.01996472895550383\n",
      "99.2200000000000 0.015428422636695416\n",
      "99.2100000000000 0.010892034896677671\n",
      "99.2000000000000 0.006355566012096858\n",
      "99.1900000000000 0.0018190162593541004\n",
      "Finished\n",
      "\n",
      "\n",
      "\n"
     ]
    },
    {
     "ename": "NameError",
     "evalue": "name 'minsolDEg' is not defined",
     "output_type": "error",
     "traceback": [
      "\u001b[0;31m---------------------------------------------------------------------------\u001b[0m",
      "\u001b[0;31mNameError\u001b[0m                                 Traceback (most recent call last)",
      "\u001b[0;32m<ipython-input-17-d3e4d715b992>\u001b[0m in \u001b[0;36m<module>\u001b[0;34m\u001b[0m\n\u001b[1;32m     45\u001b[0m \u001b[0mprint\u001b[0m\u001b[0;34m(\u001b[0m\u001b[0;34m'\\n\\n'\u001b[0m\u001b[0;34m)\u001b[0m\u001b[0;34m\u001b[0m\u001b[0;34m\u001b[0m\u001b[0m\n\u001b[1;32m     46\u001b[0m \u001b[0;34m\u001b[0m\u001b[0m\n\u001b[0;32m---> 47\u001b[0;31m \u001b[0mprint\u001b[0m\u001b[0;34m(\u001b[0m\u001b[0mvalp\u001b[0m \u001b[0;34m,\u001b[0m\u001b[0mminsolDEg\u001b[0m\u001b[0;34m.\u001b[0m\u001b[0mn\u001b[0m\u001b[0;34m(\u001b[0m\u001b[0;34m)\u001b[0m \u001b[0;34m,\u001b[0m\u001b[0mminsolD2\u001b[0m\u001b[0;34m)\u001b[0m\u001b[0;34m\u001b[0m\u001b[0;34m\u001b[0m\u001b[0m\n\u001b[0m",
      "\u001b[0;31mNameError\u001b[0m: name 'minsolDEg' is not defined"
     ]
    }
   ],
   "source": [
    "#search for simultaneous roots\n",
    "tol =1e-6\n",
    "D1val= 2\n",
    "DEgval = 1\n",
    "valp=10\n",
    "p = -1\n",
    "minsol = 1\n",
    "count = 0\n",
    "while count<200:\n",
    "    D1val = D1val - 10^p\n",
    "    eq1s = cond2sub.subs(D1=D1val , DEg=DEgval) == - 380 *2*np.pi\n",
    "    #eq1s = MMA_simplify(eq1s)\n",
    "    sol = eq1s._mathematica_().NSolve(\"PositiveReals\")[2][1][2]._sage_()\n",
    "    #eq1s = eq1s.numerator()/eq1s.denominator()\n",
    "    #eq = eq1s+2*np.pi == 0 #2*pi ??\n",
    "    #sol = solve(eq,D2)\n",
    "    #sol = sol[0].rhs().n()\n",
    "    \n",
    "    eq2s = cond1sub.subs(D1=D1val , DEg=DEgval, D=sol)/(2*np.pi)\n",
    "\n",
    "    val = np.mod(float(abs(eq2s.n())) , 1)\n",
    "\n",
    "    #val = abs(eq2s-2*np.pi)\n",
    "    \n",
    "    if val > 0.5:\n",
    "        val = 1-val\n",
    "    \n",
    "    #print(f'precision: {p}')\n",
    "    \n",
    "    \n",
    "    if abs(val)<tol:\n",
    "        break\n",
    "        \n",
    "    if abs(val)<abs(valp):\n",
    "        valp = val\n",
    "        minsolD1 = D1val\n",
    "        minsolD2 = sol\n",
    "        print(D1val.n(), valp)\n",
    "    \n",
    "    count = count + 1\n",
    "    \n",
    "    \n",
    "print('Finished')\n",
    "\n",
    "print('\\n\\n')\n",
    "\n",
    "print(valp ,minsolDEg.n() ,minsolD2)\n"
   ]
  },
  {
   "cell_type": "markdown",
   "id": "17956c07",
   "metadata": {},
   "source": [
    "# Check how close to ideal the solutions are"
   ]
  },
  {
   "cell_type": "code",
   "execution_count": 18,
   "id": "893d9e47",
   "metadata": {},
   "outputs": [
    {
     "data": {
      "text/plain": [
       "29.0018190162594"
      ]
     },
     "execution_count": 18,
     "metadata": {},
     "output_type": "execute_result"
    }
   ],
   "source": [
    "cond1sub.subs(DEg=1,D1=minsolD1,D2=minsolD2)/(2*np.pi)"
   ]
  },
  {
   "cell_type": "code",
   "execution_count": 19,
   "id": "6e182900",
   "metadata": {},
   "outputs": [
    {
     "data": {
      "text/plain": [
       "-380.000000000000"
      ]
     },
     "execution_count": 19,
     "metadata": {},
     "output_type": "execute_result"
    }
   ],
   "source": [
    "cond2sub.subs(DEg=1,D1=minsolD1,D2=minsolD2)/(2*np.pi)"
   ]
  },
  {
   "cell_type": "code",
   "execution_count": 20,
   "id": "2e88d17d",
   "metadata": {},
   "outputs": [
    {
     "name": "stdout",
     "output_type": "stream",
     "text": [
      "99.1900000000000 0.973585966940121\n"
     ]
    }
   ],
   "source": [
    "print(minsolD1.n(),minsolD2)"
   ]
  },
  {
   "cell_type": "markdown",
   "id": "94fa4024",
   "metadata": {},
   "source": [
    "# Test if gate works"
   ]
  },
  {
   "cell_type": "code",
   "execution_count": 21,
   "id": "73fa2022",
   "metadata": {},
   "outputs": [],
   "source": [
    "# parameter substitution \n",
    "Cval = 10^8\n",
    "phival = 0* np.pi \n",
    "R_fval = 1\n",
    "gamma_fval = gamma\n",
    "gamma_gval = gamma\n",
    "DEgval = 1\n",
    "Deg2val = DEgval*minsolD2  #*0.99999\n",
    "Deg1val = DEgval*minsolD1   #*0.99999\n"
   ]
  },
  {
   "cell_type": "code",
   "execution_count": 22,
   "id": "65e892e9",
   "metadata": {},
   "outputs": [],
   "source": [
    "eff_hval = eff_hamiltonian_tayl.subs(DEg=DEgval,C=Cval,phi=phival,R_f=R_fval,gamma_f=gamma_fval,gamma_g=gamma_gval,Deg2=Deg2val,Deg1= Deg1val)\n",
    "eff_hval = (eff_hval + conjugate(eff_hval))\n",
    "\n",
    "a_val = eff_hval[0,0]\n",
    "b_val = eff_hval[1,1]\n",
    "c_val = eff_hval[3,3]\n",
    "d_val = eff_hval[4,4]\n",
    "e_val = eff_hval[5,5]\n",
    "f_val = eff_hval[7,7]"
   ]
  },
  {
   "cell_type": "code",
   "execution_count": 23,
   "id": "517f3a03",
   "metadata": {},
   "outputs": [],
   "source": [
    "U = sg.copy(eff_hval)\n",
    "\n",
    "tgval = np.pi /(a_val+e_val-b_val-d_val)\n",
    "\n",
    "t1 = (a_val-b_val)*tgval\n",
    "t2 = t1\n",
    "t3 = (a_val-d_val)*tgval\n",
    "\n",
    "R = [0 , t1, t2, t1+t2, t3, t1+t3, t2+t3, t1+t2+t3 ]\n",
    "\n",
    "for i in range(8):\n",
    "    U[i,i] = exp( (R[i] + (eff_hval[i,i]-a_val)*tgval )*I )\n",
    "    \n",
    "for i in range(8):\n",
    "    U[i,i] = U[i,i]"
   ]
  },
  {
   "cell_type": "code",
   "execution_count": 24,
   "id": "779addae",
   "metadata": {},
   "outputs": [
    {
     "name": "stdout",
     "output_type": "stream",
     "text": [
      "symround: Deleted coefficient -4.1555e-13\n",
      "symround: Deleted coefficient -4.1555e-13\n"
     ]
    },
    {
     "data": {
      "text/html": [
       "<html><script type=\"math/tex; mode=display\">\\newcommand{\\Bold}[1]{\\mathbf{#1}}\\left(\\begin{array}{rrrrrrrr}\n",
       "1 & 0 & 0 & 0 & 0 & 0 & 0 & 0 \\\\\n",
       "0 & 1 & 0 & 0 & 0 & 0 & 0 & 0 \\\\\n",
       "0 & 0 & 1 & 0 & 0 & 0 & 0 & 0 \\\\\n",
       "0 & 0 & 0 & 0.99994 + 0.011427i & 0 & 0 & 0 & 0 \\\\\n",
       "0 & 0 & 0 & 0 & 1 & 0 & 0 & 0 \\\\\n",
       "0 & 0 & 0 & 0 & 0 & -1 & 0 & 0 \\\\\n",
       "0 & 0 & 0 & 0 & 0 & 0 & -1 & 0 \\\\\n",
       "0 & 0 & 0 & 0 & 0 & 0 & 0 & 1.0000 - 0.000059826i\n",
       "\\end{array}\\right)</script></html>"
      ],
      "text/latex": [
       "$$\\newcommand{\\Bold}[1]{\\mathbf{#1}}\\left(\\begin{array}{rrrrrrrr}\n",
       "1 & 0 & 0 & 0 & 0 & 0 & 0 & 0 \\\\\n",
       "0 & 1 & 0 & 0 & 0 & 0 & 0 & 0 \\\\\n",
       "0 & 0 & 1 & 0 & 0 & 0 & 0 & 0 \\\\\n",
       "0 & 0 & 0 & 0.99994 + 0.011427i & 0 & 0 & 0 & 0 \\\\\n",
       "0 & 0 & 0 & 0 & 1 & 0 & 0 & 0 \\\\\n",
       "0 & 0 & 0 & 0 & 0 & -1 & 0 & 0 \\\\\n",
       "0 & 0 & 0 & 0 & 0 & 0 & -1 & 0 \\\\\n",
       "0 & 0 & 0 & 0 & 0 & 0 & 0 & 1.0000 - 0.000059826i\n",
       "\\end{array}\\right)$$"
      ],
      "text/plain": [
       "[                     1                      0                      0                      0                      0                      0                      0                      0]\n",
       "[                     0                      1                      0                      0                      0                      0                      0                      0]\n",
       "[                     0                      0                      1                      0                      0                      0                      0                      0]\n",
       "[                     0                      0                      0   0.99994 + 0.011427*I                      0                      0                      0                      0]\n",
       "[                     0                      0                      0                      0                      1                      0                      0                      0]\n",
       "[                     0                      0                      0                      0                      0                     -1                      0                      0]\n",
       "[                     0                      0                      0                      0                      0                      0                     -1                      0]\n",
       "[                     0                      0                      0                      0                      0                      0                      0 1.0000 - 0.000059826*I]"
      ]
     },
     "metadata": {},
     "output_type": "display_data"
    }
   ],
   "source": [
    "show(symround(U,digits=5))"
   ]
  },
  {
   "cell_type": "markdown",
   "id": "7b078430",
   "metadata": {},
   "source": [
    "# ------------------------------------------------------------------------------------------------------------------------------------------------------------------------------------------------------------------------------------------------------------------------------------------------------------------------------------------------------------------------------------------------------------------------------------------------------------------------------------------------------------------------------------------------------------------------------------------------------------\n"
   ]
  },
  {
   "cell_type": "markdown",
   "id": "eda75763",
   "metadata": {},
   "source": [
    "# Check scalings of the above result"
   ]
  },
  {
   "cell_type": "code",
   "execution_count": 11,
   "id": "4500d210",
   "metadata": {},
   "outputs": [],
   "source": [
    "# functions to obtain scalings\n",
    "def obtain_exponent(expr):\n",
    "    expr = SR(str(( expr)).replace('Sqrt','sqrt'))\n",
    "    try:\n",
    "        exp = expr.op[0].op[0].op[0].op[1]\n",
    "    except:\n",
    "        try:\n",
    "            exp = expr.op[0].op[0].op[1]\n",
    "        except:\n",
    "            try:\n",
    "                exp = expr.op[0].op[1]\n",
    "            except:\n",
    "                exp = 0\n",
    "    return exp\n",
    "\n",
    "def obtain_expr_exp(expr):\n",
    "    try:\n",
    "        el = 0    \n",
    "        q = (expr._mathematica_().Numerator()._sage_() .expand().operands()[el])\n",
    "        q = SR(str(( q)).replace('Sqrt','sqrt'))\n",
    "        test_bool = (str(q._mathematica_().Numerator()._sage_().expand().denominator()) == str(1))\n",
    "        num_exp = (obtain_exponent(q._mathematica_().Numerator()._sage_().expand()))\n",
    "        den1_exp = (obtain_exponent(q._mathematica_().Denominator()._sage_().expand()))\n",
    "        den2_exp = (obtain_exponent(expr._mathematica_().Denominator()._sage_().expand()))\n",
    "        res = num_exp-den1_exp-den2_exp\n",
    "        if not test_bool:\n",
    "            #show(q)\n",
    "            res = obtain_exponent(q.numerator())-obtain_exponent(q.denominator())\n",
    "            return res\n",
    "        return res\n",
    "    except:\n",
    "        #print('altern')\n",
    "        den_exp = obtain_exponent( expr._mathematica_().Denominator()._sage_().expand())\n",
    "        num_exp = obtain_exponent( expr._mathematica_().Numerator()._sage_().expand())\n",
    "        return num_exp-den_exp"
   ]
  },
  {
   "cell_type": "markdown",
   "id": "f460fb08",
   "metadata": {},
   "source": [
    "# L elements"
   ]
  },
  {
   "cell_type": "code",
   "execution_count": 95,
   "id": "1c895304",
   "metadata": {
    "scrolled": false
   },
   "outputs": [
    {
     "data": {
      "text/html": [
       "<html><script type=\"math/tex; mode=display\">\\newcommand{\\Bold}[1]{\\mathbf{#1}}0 \\sqrt{{\\kappa_c}}</script></html>"
      ],
      "text/latex": [
       "$$\\newcommand{\\Bold}[1]{\\mathbf{#1}}0 \\sqrt{{\\kappa_c}}$$"
      ],
      "text/plain": [
       "0 sqrt(kappa_c)"
      ]
     },
     "metadata": {},
     "output_type": "display_data"
    },
    {
     "name": "stdout",
     "output_type": "stream",
     "text": [
      "-3.00\n",
      "-3.00\n",
      "-3.00\n",
      "-3.00\n",
      "-3.00\n",
      "-3.00\n",
      "-3.00\n",
      "-3.00\n"
     ]
    },
    {
     "data": {
      "text/html": [
       "<html><script type=\"math/tex; mode=display\">\\newcommand{\\Bold}[1]{\\mathbf{#1}}1 \\sqrt{{\\gamma}}</script></html>"
      ],
      "text/latex": [
       "$$\\newcommand{\\Bold}[1]{\\mathbf{#1}}1 \\sqrt{{\\gamma}}$$"
      ],
      "text/plain": [
       "1 sqrt(gamma)"
      ]
     },
     "metadata": {},
     "output_type": "display_data"
    },
    {
     "name": "stdout",
     "output_type": "stream",
     "text": [
      "-4.00\n",
      "-4.00\n",
      "-4.00\n",
      "-4.00\n"
     ]
    },
    {
     "data": {
      "text/html": [
       "<html><script type=\"math/tex; mode=display\">\\newcommand{\\Bold}[1]{\\mathbf{#1}}2 \\sqrt{{\\kappa_b}}</script></html>"
      ],
      "text/latex": [
       "$$\\newcommand{\\Bold}[1]{\\mathbf{#1}}2 \\sqrt{{\\kappa_b}}$$"
      ],
      "text/plain": [
       "2 sqrt(kappa_b)"
      ]
     },
     "metadata": {},
     "output_type": "display_data"
    },
    {
     "name": "stdout",
     "output_type": "stream",
     "text": [
      "-2.00\n",
      "-2.00\n",
      "-2.00\n",
      "-2.00\n",
      "-2.00\n",
      "-2.00\n",
      "-2.00\n",
      "-2.00\n"
     ]
    },
    {
     "data": {
      "text/html": [
       "<html><script type=\"math/tex; mode=display\">\\newcommand{\\Bold}[1]{\\mathbf{#1}}3 \\sqrt{{\\kappa_c}}</script></html>"
      ],
      "text/latex": [
       "$$\\newcommand{\\Bold}[1]{\\mathbf{#1}}3 \\sqrt{{\\kappa_c}}$$"
      ],
      "text/plain": [
       "3 sqrt(kappa_c)"
      ]
     },
     "metadata": {},
     "output_type": "display_data"
    },
    {
     "name": "stdout",
     "output_type": "stream",
     "text": [
      "-3.00\n",
      "-3.00\n",
      "-3.00\n",
      "-3.00\n",
      "-3.00\n",
      "-3.00\n",
      "-3.00\n",
      "-3.00\n"
     ]
    },
    {
     "data": {
      "text/html": [
       "<html><script type=\"math/tex; mode=display\">\\newcommand{\\Bold}[1]{\\mathbf{#1}}4 \\sqrt{{\\gamma}}</script></html>"
      ],
      "text/latex": [
       "$$\\newcommand{\\Bold}[1]{\\mathbf{#1}}4 \\sqrt{{\\gamma}}$$"
      ],
      "text/plain": [
       "4 sqrt(gamma)"
      ]
     },
     "metadata": {},
     "output_type": "display_data"
    },
    {
     "name": "stdout",
     "output_type": "stream",
     "text": [
      "-4.00\n",
      "-4.00\n",
      "-4.00\n",
      "-4.00\n"
     ]
    },
    {
     "data": {
      "text/html": [
       "<html><script type=\"math/tex; mode=display\">\\newcommand{\\Bold}[1]{\\mathbf{#1}}5 \\sqrt{{\\kappa_b}}</script></html>"
      ],
      "text/latex": [
       "$$\\newcommand{\\Bold}[1]{\\mathbf{#1}}5 \\sqrt{{\\kappa_b}}$$"
      ],
      "text/plain": [
       "5 sqrt(kappa_b)"
      ]
     },
     "metadata": {},
     "output_type": "display_data"
    },
    {
     "name": "stdout",
     "output_type": "stream",
     "text": [
      "-2.00\n",
      "-2.00\n",
      "-2.00\n",
      "-2.00\n",
      "-2.00\n",
      "-2.00\n",
      "-2.00\n",
      "-2.00\n"
     ]
    },
    {
     "data": {
      "text/html": [
       "<html><script type=\"math/tex; mode=display\">\\newcommand{\\Bold}[1]{\\mathbf{#1}}6 \\sqrt{{\\kappa_c}}</script></html>"
      ],
      "text/latex": [
       "$$\\newcommand{\\Bold}[1]{\\mathbf{#1}}6 \\sqrt{{\\kappa_c}}$$"
      ],
      "text/plain": [
       "6 sqrt(kappa_c)"
      ]
     },
     "metadata": {},
     "output_type": "display_data"
    },
    {
     "name": "stdout",
     "output_type": "stream",
     "text": [
      "-3.00\n",
      "-3.00\n",
      "-3.00\n",
      "-3.00\n",
      "-3.00\n",
      "-3.00\n",
      "-3.00\n",
      "-3.00\n"
     ]
    },
    {
     "data": {
      "text/html": [
       "<html><script type=\"math/tex; mode=display\">\\newcommand{\\Bold}[1]{\\mathbf{#1}}7 \\sqrt{{\\gamma_g}}</script></html>"
      ],
      "text/latex": [
       "$$\\newcommand{\\Bold}[1]{\\mathbf{#1}}7 \\sqrt{{\\gamma_g}}$$"
      ],
      "text/plain": [
       "7 sqrt(gamma_g)"
      ]
     },
     "metadata": {},
     "output_type": "display_data"
    },
    {
     "name": "stdout",
     "output_type": "stream",
     "text": [
      "-10.0\n",
      "-12.0\n",
      "-12.0\n",
      "-14.0\n",
      "-12.0\n",
      "-14.0\n",
      "-14.0\n",
      "-43.0\n"
     ]
    },
    {
     "data": {
      "text/html": [
       "<html><script type=\"math/tex; mode=display\">\\newcommand{\\Bold}[1]{\\mathbf{#1}}8 \\sqrt{{\\gamma_f}}</script></html>"
      ],
      "text/latex": [
       "$$\\newcommand{\\Bold}[1]{\\mathbf{#1}}8 \\sqrt{{\\gamma_f}}$$"
      ],
      "text/plain": [
       "8 sqrt(gamma_f)"
      ]
     },
     "metadata": {},
     "output_type": "display_data"
    },
    {
     "name": "stdout",
     "output_type": "stream",
     "text": [
      "-10.0\n",
      "-12.0\n",
      "-12.0\n",
      "-14.0\n",
      "-12.0\n",
      "-14.0\n",
      "-14.0\n",
      "-43.0\n"
     ]
    },
    {
     "data": {
      "text/html": [
       "<html><script type=\"math/tex; mode=display\">\\newcommand{\\Bold}[1]{\\mathbf{#1}}9 \\sqrt{{\\kappa_b}}</script></html>"
      ],
      "text/latex": [
       "$$\\newcommand{\\Bold}[1]{\\mathbf{#1}}9 \\sqrt{{\\kappa_b}}$$"
      ],
      "text/plain": [
       "9 sqrt(kappa_b)"
      ]
     },
     "metadata": {},
     "output_type": "display_data"
    },
    {
     "name": "stdout",
     "output_type": "stream",
     "text": [
      "-2.00\n",
      "-2.00\n",
      "-2.00\n",
      "-2.00\n",
      "-2.00\n",
      "-2.00\n",
      "-2.00\n",
      "-2.00\n"
     ]
    },
    {
     "data": {
      "text/html": [
       "<html><script type=\"math/tex; mode=display\">\\newcommand{\\Bold}[1]{\\mathbf{#1}}10 \\sqrt{{\\kappa_c}}</script></html>"
      ],
      "text/latex": [
       "$$\\newcommand{\\Bold}[1]{\\mathbf{#1}}10 \\sqrt{{\\kappa_c}}$$"
      ],
      "text/plain": [
       "10 sqrt(kappa_c)"
      ]
     },
     "metadata": {},
     "output_type": "display_data"
    },
    {
     "name": "stdout",
     "output_type": "stream",
     "text": [
      "-3.00\n",
      "-3.00\n",
      "-3.00\n",
      "-3.00\n",
      "-3.00\n",
      "-3.00\n",
      "-3.00\n",
      "-3.00\n"
     ]
    },
    {
     "data": {
      "text/html": [
       "<html><script type=\"math/tex; mode=display\">\\newcommand{\\Bold}[1]{\\mathbf{#1}}11 \\sqrt{{\\gamma}}</script></html>"
      ],
      "text/latex": [
       "$$\\newcommand{\\Bold}[1]{\\mathbf{#1}}11 \\sqrt{{\\gamma}}$$"
      ],
      "text/plain": [
       "11 sqrt(gamma)"
      ]
     },
     "metadata": {},
     "output_type": "display_data"
    },
    {
     "name": "stdout",
     "output_type": "stream",
     "text": [
      "-4.00\n",
      "-4.00\n",
      "-4.00\n",
      "-4.00\n"
     ]
    },
    {
     "data": {
      "text/html": [
       "<html><script type=\"math/tex; mode=display\">\\newcommand{\\Bold}[1]{\\mathbf{#1}}12 \\sqrt{{\\kappa_b}}</script></html>"
      ],
      "text/latex": [
       "$$\\newcommand{\\Bold}[1]{\\mathbf{#1}}12 \\sqrt{{\\kappa_b}}$$"
      ],
      "text/plain": [
       "12 sqrt(kappa_b)"
      ]
     },
     "metadata": {},
     "output_type": "display_data"
    },
    {
     "name": "stdout",
     "output_type": "stream",
     "text": [
      "-2.00\n",
      "-2.00\n",
      "-2.00\n",
      "-2.00\n",
      "-2.00\n",
      "-2.00\n",
      "-2.00\n",
      "-2.00\n",
      "Max is -2.00\n"
     ]
    }
   ],
   "source": [
    "mx = -100   #maximum value of exponent\n",
    "\n",
    "m = 1\n",
    "m0 = 1   #exponent of detunings\n",
    "m1 = 1\n",
    "m2 = 1\n",
    "\n",
    "phival = 0 * np.pi \n",
    "R_fval = 1\n",
    "dctval = 1*C^m\n",
    "gammaval = 1\n",
    "kappa_cval = 1\n",
    "kappa_bval = 1\n",
    "gamma_fval = gammaval\n",
    "gamma_gval = gammaval\n",
    "DEgval = 1*C^m0\n",
    "Deg2val = 1*C^m1 #minsolD2  #*0.99999\n",
    "Deg1val = 1*C^m2 #minsolD1\n",
    "\n",
    "for lindop in range(13):\n",
    "    show(lindop,eff_lind_coeff[lindop]  )\n",
    "    pos = 0\n",
    "    more = True\n",
    "    while(more):\n",
    "        try: \n",
    "            err = eff_lind[lindop][pos].subs(dct=dctval ,kappa_c=kappa_cval,kappa_b=kappa_bval,Omega=1, R_f=R_fval,Deg1=Deg1val,Deg2=Deg2val,DEg=DEgval,gamma_g=gamma_gval,gamma=gammaval,gamma_f=gamma_fval, phi=phival)\n",
    "            err = err*conjugate(err)\n",
    "            err = err._mathematica_().Together()._sage_() \n",
    "\n",
    "            err = symround(err,digits=14,show_del=False)\n",
    "            exp = obtain_expr_exp(err)\n",
    "            if exp > mx:\n",
    "                mx = exp\n",
    "            pos += 1\n",
    "            print((exp.n(digits=3)))\n",
    "\n",
    "        except IndexError:\n",
    "            more = False\n",
    "print(f'Max is {mx.n(digits=3)}')"
   ]
  },
  {
   "cell_type": "code",
   "execution_count": 96,
   "id": "5b43e803",
   "metadata": {},
   "outputs": [
    {
     "name": "stdout",
     "output_type": "stream",
     "text": [
      "-1.00\n",
      "-1.00\n",
      "-1.00\n",
      "-1.00\n",
      "Max is -1.00  so tg ~ C^1.00\n"
     ]
    }
   ],
   "source": [
    "terms = [a,b,d,e]\n",
    "mx = -9999\n",
    "for term in terms:\n",
    "    err = term.subs(dct=dctval ,kappa_c=kappa_cval,kappa_b=kappa_bval,Omega=1, R_f=R_fval,Deg1=Deg1val,Deg2=Deg2val,DEg=DEgval,gamma_g=gamma_gval,gamma=gammaval,gamma_f=gamma_fval, phi=phival)\n",
    "\n",
    "    err = err._mathematica_().Together()._sage_() \n",
    "\n",
    "    err = symround(err,digits=14,show_del=False)\n",
    "    exp = obtain_expr_exp(err)\n",
    "    if exp > mx:\n",
    "        mx = exp\n",
    "    pos += 1\n",
    "    print((exp.n(digits=3)))\n",
    "print(f'Max is {mx.n(digits=3)}  so tg ~ C^{-mx.n(digits=3)}')"
   ]
  },
  {
   "cell_type": "markdown",
   "id": "2fd761ce",
   "metadata": {},
   "source": [
    "# $H_{eff}$ elements"
   ]
  },
  {
   "cell_type": "code",
   "execution_count": 359,
   "id": "8cd0ec66",
   "metadata": {},
   "outputs": [],
   "source": [
    "a = eff_hamiltonian_tayl[0,0]\n",
    "#a = symround( MMA_simplify(a,full=False) ,digits = 14)\n",
    "b = eff_hamiltonian_tayl[1,1]\n",
    "#b = symround(MMA_simplify(b,full=False),digits = 14)\n",
    "c = eff_hamiltonian_tayl[3,3]\n",
    "#c = symround(MMA_simplify(c,full=False),digits = 14)\n",
    "d = eff_hamiltonian_tayl[4,4]\n",
    "#d = symround(MMA_simplify(d,full=False),digits = 14)\n",
    "e = eff_hamiltonian_tayl[5,5]\n",
    "#e = symround(MMA_simplify(e,full=False),digits = 14)\n",
    "f = eff_hamiltonian_tayl[7,7]\n",
    "#f = symround(MMA_simplify(f,full=False),digits = 14)\n",
    "a = (a + conjugate(a)).subs(Deg1=Deg1val,Deg2=Deg2val,DEg=DEgval,phi=phival,R_f=R_fval ,gamma_g = gamma_gval , gamma_f = gamma_fval)._mathematica_().Together()._sage_()\n",
    "b = (b + conjugate(b)).subs(Deg1=Deg1val,Deg2=Deg2val,DEg=DEgval,phi=phival,R_f=R_fval ,gamma_g = gamma_gval , gamma_f = gamma_fval)._mathematica_().Together()._sage_()\n",
    "c = (c + conjugate(c)).subs(Deg1=Deg1val,Deg2=Deg2val,DEg=DEgval,phi=phival,R_f=R_fval ,gamma_g = gamma_gval , gamma_f = gamma_fval)._mathematica_().Together()._sage_()\n",
    "d = (d + conjugate(d)).subs(Deg1=Deg1val,Deg2=Deg2val,DEg=DEgval,phi=phival,R_f=R_fval ,gamma_g = gamma_gval , gamma_f = gamma_fval)._mathematica_().Together()._sage_()\n",
    "e = (e + conjugate(e)).subs(Deg1=Deg1val,Deg2=Deg2val,DEg=DEgval,phi=phival,R_f=R_fval ,gamma_g = gamma_gval , gamma_f = gamma_fval)._mathematica_().Together()._sage_()\n",
    "f = (f + conjugate(f)).subs(Deg1=Deg1val,Deg2=Deg2val,DEg=DEgval,phi=phival,R_f=R_fval ,gamma_g = gamma_gval , gamma_f = gamma_fval)._mathematica_().Together()._sage_()"
   ]
  },
  {
   "cell_type": "code",
   "execution_count": 21,
   "id": "49cd9351",
   "metadata": {},
   "outputs": [
    {
     "name": "stdout",
     "output_type": "stream",
     "text": [
      "Numerator\n"
     ]
    },
    {
     "data": {
      "text/html": [
       "<html><script type=\"math/tex; mode=display\">\\newcommand{\\Bold}[1]{\\mathbf{#1}}100</script></html>"
      ],
      "text/latex": [
       "$$\\newcommand{\\Bold}[1]{\\mathbf{#1}}100$$"
      ],
      "text/plain": [
       "100"
      ]
     },
     "metadata": {},
     "output_type": "display_data"
    },
    {
     "name": "stdout",
     "output_type": "stream",
     "text": [
      "\n",
      "\n",
      "Denominator\n"
     ]
    },
    {
     "data": {
      "text/html": [
       "<html><script type=\"math/tex; mode=display\">\\newcommand{\\Bold}[1]{\\mathbf{#1}}C</script></html>"
      ],
      "text/latex": [
       "$$\\newcommand{\\Bold}[1]{\\mathbf{#1}}C$$"
      ],
      "text/plain": [
       "C"
      ]
     },
     "metadata": {},
     "output_type": "display_data"
    }
   ],
   "source": [
    "x = symround(e.subs(kappa_c=kappa_cval,kappa_b=kappa_bval,Omega=1, R_f=R_fval,Deg1=Deg1val,Deg2=Deg2val,DEg=DEgval,gamma_g=gamma_gval,gamma=gammaval,gamma_f=gamma_fval, phi=phival))\n",
    "x = x._mathematica_().Together().sage()\n",
    "print('Numerator')\n",
    "show(symround(x._mathematica_().Numerator()._sage_().expand(),digits=5))\n",
    "print('\\n\\nDenominator')\n",
    "show(symround(x._mathematica_().Denominator()._sage_().expand(),digits=5))"
   ]
  },
  {
   "cell_type": "markdown",
   "id": "d6027abb",
   "metadata": {},
   "source": [
    "# ---------------------------------------------\n",
    "\n",
    "#  Try $D2 =0$"
   ]
  },
  {
   "cell_type": "code",
   "execution_count": 68,
   "id": "3cd6e989",
   "metadata": {},
   "outputs": [
    {
     "name": "stdout",
     "output_type": "stream",
     "text": [
      "symround: Deleted coefficient -8.5e-14\n"
     ]
    },
    {
     "data": {
      "text/html": [
       "<html><script type=\"math/tex; mode=display\">\\newcommand{\\Bold}[1]{\\mathbf{#1}}\\frac{1.00000000000000 \\, {\\Omega}^{2}}{C {{{\\Delta E}}^\\gamma} {\\gamma}} \\frac{1.00000000000000 \\, {\\Omega}^{2}}{C {{{\\Delta E}}^\\gamma} {\\gamma}} \\frac{1.00000000000000 \\, {\\Omega}^{2}}{C {{{\\Delta E}}^\\gamma} {\\gamma}} \\frac{1.00000000000000 \\, {\\Omega}^{2}}{C {{{\\Delta E}}^\\gamma} {\\gamma}} \\frac{1.00000000000000 \\, {\\Omega}^{2}}{C {{{\\Delta E}}^\\gamma} {\\gamma}} \\frac{{\\Omega}^{2} {\\left(-0.15i \\, e^{\\left(56 i \\, {\\phi}\\right)} + 3.4i \\, e^{\\left(52 i \\, {\\phi}\\right)} - 7.9i \\, e^{\\left(48 i \\, {\\phi}\\right)} - 150 i \\, e^{\\left(44 i \\, {\\phi}\\right)} + 150 i \\, e^{\\left(36 i \\, {\\phi}\\right)} + 7.9i \\, e^{\\left(32 i \\, {\\phi}\\right)} - 3.4i \\, e^{\\left(28 i \\, {\\phi}\\right)} + 0.15i \\, e^{\\left(24 i \\, {\\phi}\\right)}\\right)}}{C^{2} {{{\\Delta E}}^\\gamma}^{2} {\\gamma} {\\left(e^{\\left(56 i \\, {\\phi}\\right)} - 18. \\, e^{\\left(52 i \\, {\\phi}\\right)} - 64 \\, e^{\\left(48 i \\, {\\phi}\\right)} + 1232 \\, e^{\\left(44 i \\, {\\phi}\\right)} + 5184 \\, e^{\\left(40 i \\, {\\phi}\\right)} + 1232 \\, e^{\\left(36 i \\, {\\phi}\\right)} - 64 \\, e^{\\left(32 i \\, {\\phi}\\right)} - 18. \\, e^{\\left(28 i \\, {\\phi}\\right)} + e^{\\left(24 i \\, {\\phi}\\right)}\\right)}}</script></html>"
      ],
      "text/latex": [
       "$$\\newcommand{\\Bold}[1]{\\mathbf{#1}}\\frac{1.00000000000000 \\, {\\Omega}^{2}}{C {{{\\Delta E}}^\\gamma} {\\gamma}} \\frac{1.00000000000000 \\, {\\Omega}^{2}}{C {{{\\Delta E}}^\\gamma} {\\gamma}} \\frac{1.00000000000000 \\, {\\Omega}^{2}}{C {{{\\Delta E}}^\\gamma} {\\gamma}} \\frac{1.00000000000000 \\, {\\Omega}^{2}}{C {{{\\Delta E}}^\\gamma} {\\gamma}} \\frac{1.00000000000000 \\, {\\Omega}^{2}}{C {{{\\Delta E}}^\\gamma} {\\gamma}} \\frac{{\\Omega}^{2} {\\left(-0.15i \\, e^{\\left(56 i \\, {\\phi}\\right)} + 3.4i \\, e^{\\left(52 i \\, {\\phi}\\right)} - 7.9i \\, e^{\\left(48 i \\, {\\phi}\\right)} - 150 i \\, e^{\\left(44 i \\, {\\phi}\\right)} + 150 i \\, e^{\\left(36 i \\, {\\phi}\\right)} + 7.9i \\, e^{\\left(32 i \\, {\\phi}\\right)} - 3.4i \\, e^{\\left(28 i \\, {\\phi}\\right)} + 0.15i \\, e^{\\left(24 i \\, {\\phi}\\right)}\\right)}}{C^{2} {{{\\Delta E}}^\\gamma}^{2} {\\gamma} {\\left(e^{\\left(56 i \\, {\\phi}\\right)} - 18. \\, e^{\\left(52 i \\, {\\phi}\\right)} - 64 \\, e^{\\left(48 i \\, {\\phi}\\right)} + 1232 \\, e^{\\left(44 i \\, {\\phi}\\right)} + 5184 \\, e^{\\left(40 i \\, {\\phi}\\right)} + 1232 \\, e^{\\left(36 i \\, {\\phi}\\right)} - 64 \\, e^{\\left(32 i \\, {\\phi}\\right)} - 18. \\, e^{\\left(28 i \\, {\\phi}\\right)} + e^{\\left(24 i \\, {\\phi}\\right)}\\right)}}$$"
      ],
      "text/plain": [
       "1.00000000000000*Omega^2/(C*DEg*gamma) 1.00000000000000*Omega^2/(C*DEg*gamma) 1.00000000000000*Omega^2/(C*DEg*gamma) 1.00000000000000*Omega^2/(C*DEg*gamma) 1.00000000000000*Omega^2/(C*DEg*gamma) Omega^2*(-0.15*I*e^(56*I*phi) + 3.4*I*e^(52*I*phi) - 7.9*I*e^(48*I*phi) - 150*I*e^(44*I*phi) + 150*I*e^(36*I*phi) + 7.9*I*e^(32*I*phi) - 3.4*I*e^(28*I*phi) + 0.15*I*e^(24*I*phi))/(C^2*DEg^2*gamma*(e^(56*I*phi) - 18.*e^(52*I*phi) - 64*e^(48*I*phi) + 1232*e^(44*I*phi) + 5184*e^(40*I*phi) + 1232*e^(36*I*phi) - 64*e^(32*I*phi) - 18.*e^(28*I*phi) + e^(24*I*phi)))"
      ]
     },
     "metadata": {},
     "output_type": "display_data"
    }
   ],
   "source": [
    "a = eff_hamiltonian_tayl[0,0]\n",
    "#a = symround( MMA_simplify(a,full=False) ,digits = 14)\n",
    "b = eff_hamiltonian_tayl[1,1]\n",
    "#b = symround(MMA_simplify(b,full=False),digits = 14)\n",
    "c = eff_hamiltonian_tayl[3,3]\n",
    "#c = symround(MMA_simplify(c,full=False),digits = 14)\n",
    "d = eff_hamiltonian_tayl[4,4]\n",
    "#d = symround(MMA_simplify(d,full=False),digits = 14)\n",
    "e = eff_hamiltonian_tayl[5,5]\n",
    "#e = symround(MMA_simplify(e,full=False),digits = 14)\n",
    "f = eff_hamiltonian_tayl[7,7]\n",
    "#f = symround(MMA_simplify(f,full=False),digits = 14)\n",
    "\n",
    "\n",
    "#SUBSTITUTIONS\n",
    "phival = phi\n",
    "R_fval = 1\n",
    "gamma_fval = gamma\n",
    "gamma_gval = gamma\n",
    "Deg2val = 0\n",
    "\n",
    "\n",
    "#modify abcdef\n",
    "a = (a + conjugate(a)).subs(Deg2=Deg2val,phi=phival,R_f=R_fval ,gamma_g = gamma_gval , gamma_f = gamma_fval)._mathematica_().Together()._sage_()\n",
    "b = (b + conjugate(b)).subs(Deg2=Deg2val,phi=phival,R_f=R_fval ,gamma_g = gamma_gval , gamma_f = gamma_fval)._mathematica_().Together()._sage_()\n",
    "c = (c + conjugate(c)).subs(Deg2=Deg2val,phi=phival,R_f=R_fval ,gamma_g = gamma_gval , gamma_f = gamma_fval)._mathematica_().Together()._sage_()\n",
    "d = (d + conjugate(d)).subs(Deg2=Deg2val,phi=phival,R_f=R_fval ,gamma_g = gamma_gval , gamma_f = gamma_fval)._mathematica_().Together()._sage_()\n",
    "e = (e + conjugate(e)).subs(Deg2=Deg2val,phi=phival,R_f=R_fval ,gamma_g = gamma_gval , gamma_f = gamma_fval)._mathematica_().Together()._sage_()\n",
    "f = (f + conjugate(f)).subs(Deg2=Deg2val,phi=phival,R_f=R_fval ,gamma_g = gamma_gval , gamma_f = gamma_fval)._mathematica_().Together()._sage_()\n",
    "\n",
    "term_list = [a,b,c,d,e,f]\n",
    "index_list =[0,1,2,3,4,5]\n",
    "high_c_limit = [  ]\n",
    "\n",
    "#If we get error/division 0 modify this:\n",
    "err_term = 0\n",
    "\n",
    "for (i,term) in enumerate(term_list):\n",
    "    if i ==5 and err_term!=0:\n",
    "        err_term -= 1\n",
    "    num = term._mathematica_().Numerator().Collect('C')._sage_().operands()[err_term]\n",
    "    \n",
    "    try:\n",
    "        den = term._mathematica_().Denominator().Collect('C')._sage_().operands()[0]\n",
    "    except:\n",
    "        den= term._mathematica_().Denominator()._sage_().expand()._mathematica_().Collect('C')._sage_().operands()[0]\n",
    "    tayl = num/den\n",
    "    tayl = MMA_simplify(tayl,full=True)\n",
    "    high_c_limit.append(tayl)\n",
    "    \n",
    "a = high_c_limit[0]\n",
    "b = high_c_limit[1]\n",
    "c = high_c_limit[2]\n",
    "d = high_c_limit[3]\n",
    "e = high_c_limit[4]\n",
    "f = high_c_limit[5]\n",
    "\n",
    "show(a,b,c,d,e,symround(f))"
   ]
  },
  {
   "cell_type": "code",
   "execution_count": 62,
   "id": "41f22d9c",
   "metadata": {},
   "outputs": [
    {
     "name": "stdout",
     "output_type": "stream",
     "text": [
      "symround: Deleted coefficient -8.5e-14\n"
     ]
    },
    {
     "data": {
      "text/html": [
       "<html><script type=\"math/tex; mode=display\">\\newcommand{\\Bold}[1]{\\mathbf{#1}}\\frac{{\\Omega}^{2} {\\left(-0.15i \\, e^{\\left(56 i \\, {\\phi}\\right)} + 3.4i \\, e^{\\left(52 i \\, {\\phi}\\right)} - 7.9i \\, e^{\\left(48 i \\, {\\phi}\\right)} - 150 i \\, e^{\\left(44 i \\, {\\phi}\\right)} + 150 i \\, e^{\\left(36 i \\, {\\phi}\\right)} + 7.9i \\, e^{\\left(32 i \\, {\\phi}\\right)} - 3.4i \\, e^{\\left(28 i \\, {\\phi}\\right)} + 0.15i \\, e^{\\left(24 i \\, {\\phi}\\right)}\\right)}}{C^{2} {{{\\Delta E}}^\\gamma}^{2} {\\gamma} {\\left(e^{\\left(56 i \\, {\\phi}\\right)} - 18. \\, e^{\\left(52 i \\, {\\phi}\\right)} - 64 \\, e^{\\left(48 i \\, {\\phi}\\right)} + 1232 \\, e^{\\left(44 i \\, {\\phi}\\right)} + 5184 \\, e^{\\left(40 i \\, {\\phi}\\right)} + 1232 \\, e^{\\left(36 i \\, {\\phi}\\right)} - 64 \\, e^{\\left(32 i \\, {\\phi}\\right)} - 18. \\, e^{\\left(28 i \\, {\\phi}\\right)} + e^{\\left(24 i \\, {\\phi}\\right)}\\right)}}</script></html>"
      ],
      "text/latex": [
       "$$\\newcommand{\\Bold}[1]{\\mathbf{#1}}\\frac{{\\Omega}^{2} {\\left(-0.15i \\, e^{\\left(56 i \\, {\\phi}\\right)} + 3.4i \\, e^{\\left(52 i \\, {\\phi}\\right)} - 7.9i \\, e^{\\left(48 i \\, {\\phi}\\right)} - 150 i \\, e^{\\left(44 i \\, {\\phi}\\right)} + 150 i \\, e^{\\left(36 i \\, {\\phi}\\right)} + 7.9i \\, e^{\\left(32 i \\, {\\phi}\\right)} - 3.4i \\, e^{\\left(28 i \\, {\\phi}\\right)} + 0.15i \\, e^{\\left(24 i \\, {\\phi}\\right)}\\right)}}{C^{2} {{{\\Delta E}}^\\gamma}^{2} {\\gamma} {\\left(e^{\\left(56 i \\, {\\phi}\\right)} - 18. \\, e^{\\left(52 i \\, {\\phi}\\right)} - 64 \\, e^{\\left(48 i \\, {\\phi}\\right)} + 1232 \\, e^{\\left(44 i \\, {\\phi}\\right)} + 5184 \\, e^{\\left(40 i \\, {\\phi}\\right)} + 1232 \\, e^{\\left(36 i \\, {\\phi}\\right)} - 64 \\, e^{\\left(32 i \\, {\\phi}\\right)} - 18. \\, e^{\\left(28 i \\, {\\phi}\\right)} + e^{\\left(24 i \\, {\\phi}\\right)}\\right)}}$$"
      ],
      "text/plain": [
       "Omega^2*(-0.15*I*e^(56*I*phi) + 3.4*I*e^(52*I*phi) - 7.9*I*e^(48*I*phi) - 150*I*e^(44*I*phi) + 150*I*e^(36*I*phi) + 7.9*I*e^(32*I*phi) - 3.4*I*e^(28*I*phi) + 0.15*I*e^(24*I*phi))/(C^2*DEg^2*gamma*(e^(56*I*phi) - 18.*e^(52*I*phi) - 64*e^(48*I*phi) + 1232*e^(44*I*phi) + 5184*e^(40*I*phi) + 1232*e^(36*I*phi) - 64*e^(32*I*phi) - 18.*e^(28*I*phi) + e^(24*I*phi)))"
      ]
     },
     "metadata": {},
     "output_type": "display_data"
    }
   ],
   "source": [
    "show(symround(MMA_simplify(f,full=True)))"
   ]
  },
  {
   "cell_type": "code",
   "execution_count": 50,
   "id": "d7a49e97",
   "metadata": {},
   "outputs": [
    {
     "name": "stdout",
     "output_type": "stream",
     "text": [
      "symround: Deleted coefficient 4.005934284325451e-32\n"
     ]
    },
    {
     "data": {
      "text/html": [
       "<html><script type=\"math/tex; mode=display\">\\newcommand{\\Bold}[1]{\\mathbf{#1}}-\\frac{26 \\, C^{3} {{{\\Delta E}}^\\gamma}^{2} {{{\\Delta e}}_{{  1}}^\\gamma}^{2} {\\gamma}}{{\\left({{{\\Delta E}}^\\gamma} - 0.032 \\, {{{\\Delta e}}_{{  1}}^\\gamma}\\right)} {\\Omega}^{2}}</script></html>"
      ],
      "text/latex": [
       "$$\\newcommand{\\Bold}[1]{\\mathbf{#1}}-\\frac{26 \\, C^{3} {{{\\Delta E}}^\\gamma}^{2} {{{\\Delta e}}_{{  1}}^\\gamma}^{2} {\\gamma}}{{\\left({{{\\Delta E}}^\\gamma} - 0.032 \\, {{{\\Delta e}}_{{  1}}^\\gamma}\\right)} {\\Omega}^{2}}$$"
      ],
      "text/plain": [
       "-26*C^3*DEg^2*Deg1^2*gamma/((DEg - 0.032*Deg1)*Omega^2)"
      ]
     },
     "metadata": {},
     "output_type": "display_data"
    }
   ],
   "source": [
    "#tg_calculation\n",
    "t_den = (a + e - b - d)._mathematica_().Together()._sage_()\n",
    "\n",
    "ttden = symround(t_den, show_del=True,digits=16  )\n",
    "numnum = 0\n",
    "dennum = 0\n",
    "\n",
    "tg = np.pi / ttden\n",
    "show(symround(MMA_simplify(tg,full=True).subs()))"
   ]
  },
  {
   "cell_type": "code",
   "execution_count": 51,
   "id": "72aa5e32",
   "metadata": {},
   "outputs": [
    {
     "name": "stdout",
     "output_type": "stream",
     "text": [
      "symround: Deleted coefficient 2.2204460492503e-16\n",
      "Finished!\n"
     ]
    },
    {
     "data": {
      "text/html": [
       "<html><script type=\"math/tex; mode=display\">\\newcommand{\\Bold}[1]{\\mathbf{#1}}-\\frac{3.6483 \\, {{{\\Delta E}}^\\gamma} {{{\\Delta e}}_{{  1}}^\\gamma}^{2}}{{{{\\Delta E}}^\\gamma} - 0.032258 \\, {{{\\Delta e}}_{{  1}}^\\gamma}}</script></html>"
      ],
      "text/latex": [
       "$$\\newcommand{\\Bold}[1]{\\mathbf{#1}}-\\frac{3.6483 \\, {{{\\Delta E}}^\\gamma} {{{\\Delta e}}_{{  1}}^\\gamma}^{2}}{{{{\\Delta E}}^\\gamma} - 0.032258 \\, {{{\\Delta e}}_{{  1}}^\\gamma}}$$"
      ],
      "text/plain": [
       "-3.6483*DEg*Deg1^2/(DEg - 0.032258*Deg1)"
      ]
     },
     "metadata": {},
     "output_type": "display_data"
    }
   ],
   "source": [
    "#cond1\n",
    "t_den = (a + c - 2*b )._mathematica_().Together()._sage_()\n",
    "\n",
    "ttden = symround(t_den, show_del=True,digits=14  )\n",
    "\n",
    "print('Finished!')\n",
    "\n",
    "cond1 = tg*ttden\n",
    "show(symround(MMA_simplify(cond1,full= not True).subs(),digits =5))"
   ]
  },
  {
   "cell_type": "code",
   "execution_count": 53,
   "id": "f8c5ff1d",
   "metadata": {},
   "outputs": [
    {
     "name": "stdout",
     "output_type": "stream",
     "text": [
      "symround: Deleted coefficient 1.1481063742006e-17\n"
     ]
    },
    {
     "data": {
      "text/html": [
       "<html><script type=\"math/tex; mode=display\">\\newcommand{\\Bold}[1]{\\mathbf{#1}}-\\frac{{\\Omega}^{2}}{C {{{\\Delta E}}^\\gamma} {\\gamma}}</script></html>"
      ],
      "text/latex": [
       "$$\\newcommand{\\Bold}[1]{\\mathbf{#1}}-\\frac{{\\Omega}^{2}}{C {{{\\Delta E}}^\\gamma} {\\gamma}}$$"
      ],
      "text/plain": [
       "-Omega^2/(C*DEg*gamma)"
      ]
     },
     "metadata": {},
     "output_type": "display_data"
    },
    {
     "data": {
      "text/html": [
       "<html><script type=\"math/tex; mode=display\">\\newcommand{\\Bold}[1]{\\mathbf{#1}}\\frac{25.943 \\, C^{2} {{{\\Delta E}}^\\gamma} {{{\\Delta e}}_{{  1}}^\\gamma}^{2}}{{{{\\Delta E}}^\\gamma} - 0.032258 \\, {{{\\Delta e}}_{{  1}}^\\gamma}}</script></html>"
      ],
      "text/latex": [
       "$$\\newcommand{\\Bold}[1]{\\mathbf{#1}}\\frac{25.943 \\, C^{2} {{{\\Delta E}}^\\gamma} {{{\\Delta e}}_{{  1}}^\\gamma}^{2}}{{{{\\Delta E}}^\\gamma} - 0.032258 \\, {{{\\Delta e}}_{{  1}}^\\gamma}}$$"
      ],
      "text/plain": [
       "25.943*C^2*DEg*Deg1^2/(DEg - 0.032258*Deg1)"
      ]
     },
     "metadata": {},
     "output_type": "display_data"
    }
   ],
   "source": [
    "# cond2\n",
    "t_den = (2*a - 2*b -d + f )._mathematica_().Together()._sage_()\n",
    "ttden = symround(t_den, show_del=True,digits=14 )\n",
    "\n",
    "taylnf = ttden\n",
    "show(symround(taylnf,show_del=False))\n",
    "\n",
    "cond2 = taylnf*tg\n",
    "cond2 = MMA_simplify(cond2,full=not True)\n",
    "show(symround(MMA_simplify(cond2,full= not True).subs(),digits =5))"
   ]
  },
  {
   "cell_type": "code",
   "execution_count": 54,
   "id": "e0f72da4",
   "metadata": {},
   "outputs": [
    {
     "data": {
      "text/html": [
       "<html><script type=\"math/tex; mode=display\">\\newcommand{\\Bold}[1]{\\mathbf{#1}}-\\frac{3.7 \\, {{{\\Delta E}}^\\gamma} {{{\\Delta e}}_{{  1}}^\\gamma}^{2}}{{{{\\Delta E}}^\\gamma} - 0.032 \\, {{{\\Delta e}}_{{  1}}^\\gamma}}</script></html>"
      ],
      "text/latex": [
       "$$\\newcommand{\\Bold}[1]{\\mathbf{#1}}-\\frac{3.7 \\, {{{\\Delta E}}^\\gamma} {{{\\Delta e}}_{{  1}}^\\gamma}^{2}}{{{{\\Delta E}}^\\gamma} - 0.032 \\, {{{\\Delta e}}_{{  1}}^\\gamma}}$$"
      ],
      "text/plain": [
       "-3.7*DEg*Deg1^2/(DEg - 0.032*Deg1)"
      ]
     },
     "metadata": {},
     "output_type": "display_data"
    },
    {
     "name": "stdout",
     "output_type": "stream",
     "text": [
      "\n",
      "\n",
      "\n",
      "\n"
     ]
    },
    {
     "data": {
      "text/html": [
       "<html><script type=\"math/tex; mode=display\">\\newcommand{\\Bold}[1]{\\mathbf{#1}}\\frac{26 \\, C^{2} {{{\\Delta E}}^\\gamma} {{{\\Delta e}}_{{  1}}^\\gamma}^{2}}{{{{\\Delta E}}^\\gamma} - 0.032 \\, {{{\\Delta e}}_{{  1}}^\\gamma}}</script></html>"
      ],
      "text/latex": [
       "$$\\newcommand{\\Bold}[1]{\\mathbf{#1}}\\frac{26 \\, C^{2} {{{\\Delta E}}^\\gamma} {{{\\Delta e}}_{{  1}}^\\gamma}^{2}}{{{{\\Delta E}}^\\gamma} - 0.032 \\, {{{\\Delta e}}_{{  1}}^\\gamma}}$$"
      ],
      "text/plain": [
       "26*C^2*DEg*Deg1^2/(DEg - 0.032*Deg1)"
      ]
     },
     "metadata": {},
     "output_type": "display_data"
    }
   ],
   "source": [
    "cond1 = MMA_simplify(cond1,full=True)\n",
    "show(symround(cond1))\n",
    "print('\\n\\n\\n')\n",
    "cond2 = MMA_simplify(cond2,full=True)\n",
    "show(symround(cond2))"
   ]
  },
  {
   "cell_type": "code",
   "execution_count": 55,
   "id": "066ffd2f",
   "metadata": {},
   "outputs": [],
   "source": [
    "var('D1', domain='positive',latex_name='D_1')\n",
    "var('D2', domain='positive',latex_name='D_2')\n",
    "cond1sub = cond1.subs(Deg1 = DEg *D1 , Deg2 = DEg *D2 )\n",
    "cond1sub = MMA_simplify(cond1sub,full=True)\n",
    "cond2sub = cond2.subs(Deg1 = DEg *D1 , Deg2 = DEg *D2 )\n",
    "cond2sub = MMA_simplify(cond2sub,full=True)"
   ]
  },
  {
   "cell_type": "code",
   "execution_count": 56,
   "id": "e570441e",
   "metadata": {},
   "outputs": [
    {
     "data": {
      "text/html": [
       "<html><script type=\"math/tex; mode=display\">\\newcommand{\\Bold}[1]{\\mathbf{#1}}\\frac{113 \\, {D_1}^{2} {{{\\Delta E}}^\\gamma}^{2}}{{D_1} - 31}</script></html>"
      ],
      "text/latex": [
       "$$\\newcommand{\\Bold}[1]{\\mathbf{#1}}\\frac{113 \\, {D_1}^{2} {{{\\Delta E}}^\\gamma}^{2}}{{D_1} - 31}$$"
      ],
      "text/plain": [
       "113*D1^2*DEg^2/(D1 - 31)"
      ]
     },
     "metadata": {},
     "output_type": "display_data"
    },
    {
     "data": {
      "text/html": [
       "<html><script type=\"math/tex; mode=display\">\\newcommand{\\Bold}[1]{\\mathbf{#1}}-\\frac{808 \\, C^{2} {D_1}^{2} {{{\\Delta E}}^\\gamma}^{2}}{{D_1} - 31}</script></html>"
      ],
      "text/latex": [
       "$$\\newcommand{\\Bold}[1]{\\mathbf{#1}}-\\frac{808 \\, C^{2} {D_1}^{2} {{{\\Delta E}}^\\gamma}^{2}}{{D_1} - 31}$$"
      ],
      "text/plain": [
       "-808*C^2*D1^2*DEg^2/(D1 - 31)"
      ]
     },
     "metadata": {},
     "output_type": "display_data"
    }
   ],
   "source": [
    "show(symround(cond1sub._mathematica_().Together().Collect('D_1')._sage_()))\n",
    "\n",
    "show(symround(cond2sub))"
   ]
  },
  {
   "cell_type": "code",
   "execution_count": 58,
   "id": "9f9360b5",
   "metadata": {},
   "outputs": [
    {
     "data": {
      "text/html": [
       "<html><script type=\"math/tex; mode=display\">\\newcommand{\\Bold}[1]{\\mathbf{#1}}{{{\\Delta E}}^\\gamma} = \\frac{9 \\, \\sqrt{\\frac{1629300866482}{2375520663330751} \\, {D_1} k - \\frac{1629300866482}{76629698817121} \\, k}}{{D_1}}</script></html>"
      ],
      "text/latex": [
       "$$\\newcommand{\\Bold}[1]{\\mathbf{#1}}{{{\\Delta E}}^\\gamma} = \\frac{9 \\, \\sqrt{\\frac{1629300866482}{2375520663330751} \\, {D_1} k - \\frac{1629300866482}{76629698817121} \\, k}}{{D_1}}$$"
      ],
      "text/plain": [
       "DEg == 9*sqrt(1629300866482/2375520663330751*D1*k - 1629300866482/76629698817121*k)/D1"
      ]
     },
     "metadata": {},
     "output_type": "display_data"
    },
    {
     "data": {
      "text/html": [
       "<html><script type=\"math/tex; mode=display\">\\newcommand{\\Bold}[1]{\\mathbf{#1}}-44.6804288510549 \\, C^{2} k = 2 \\, \\pi n</script></html>"
      ],
      "text/latex": [
       "$$\\newcommand{\\Bold}[1]{\\mathbf{#1}}-44.6804288510549 \\, C^{2} k = 2 \\, \\pi n$$"
      ],
      "text/plain": [
       "-44.6804288510549*C^2*k == 2*pi*n"
      ]
     },
     "metadata": {},
     "output_type": "display_data"
    },
    {
     "data": {
      "text/plain": [
       "'\\nmn = 10\\nmnk = 0\\nfor kk in range(100,1000):\\n    #val = (cond2simp/(2*np.pi)).subs(C=Cval,k=-kk).n(digits=14)\\n    val = np.mod((abs(cond2simp.subs(C=Cval,k=-kk).n(digits=14))) , 2*np.pi)    \\n    #print(val,kk,cond2simp.subs(C=Cval,k=-kk).n(digits=14))\\n    if val > 0.5:\\n        val = 1-val\\n    if val<mn:\\n        mn = val\\n        mnk=-kk\\n        print(val,kk,cond2simp.subs(C=Cval,k=-kk).n(digits=14))\\n        '"
      ]
     },
     "execution_count": 58,
     "metadata": {},
     "output_type": "execute_result"
    }
   ],
   "source": [
    "var('k',domain='integer')\n",
    "eq = cond1sub == 2*k*np.pi\n",
    "\n",
    "solDEg = solve(eq,DEg)[0]\n",
    "show(solDEg)\n",
    "solDEg = solDEg.rhs().simplify_full()\n",
    "\n",
    "cond2simp = MMA_simplify( cond2sub.subs(DEg=solDEg) )\n",
    "\n",
    "#show(cond2simp == 2*var('n')*pi)\n",
    "\n",
    "#manual change:\n",
    "cond2simp = cond2simp.numerator()/(D1-31)\n",
    "\n",
    "show(cond2simp == 2*var('n')*pi)\n",
    "\n",
    "eq = cond2simp.subs(k=1) /(2*np.pi) == -70000\n",
    "\n",
    "solC = solve(eq,C)[0].rhs().n(digits=14)\n",
    "\n",
    "\n",
    "\n",
    "\n",
    "Cval=1000\n",
    "\n",
    "'''\n",
    "mn = 10\n",
    "mnk = 0\n",
    "for kk in range(100,1000):\n",
    "    #val = (cond2simp/(2*np.pi)).subs(C=Cval,k=-kk).n(digits=14)\n",
    "    val = np.mod((abs(cond2simp.subs(C=Cval,k=-kk).n(digits=14))) , 2*np.pi)    \n",
    "    #print(val,kk,cond2simp.subs(C=Cval,k=-kk).n(digits=14))\n",
    "    if val > 0.5:\n",
    "        val = 1-val\n",
    "    if val<mn:\n",
    "        mn = val\n",
    "        mnk=-kk\n",
    "        print(val,kk,cond2simp.subs(C=Cval,k=-kk).n(digits=14))\n",
    "        '''"
   ]
  },
  {
   "cell_type": "code",
   "execution_count": 17,
   "id": "99565a5e",
   "metadata": {},
   "outputs": [
    {
     "name": "stdout",
     "output_type": "stream",
     "text": [
      "0.11111111121135764 1\n",
      "0.1111111103091389 8\n",
      "9.313225746154785e-10 9\n"
     ]
    }
   ],
   "source": [
    "#manual\n",
    "mn = 10\n",
    "mnk = 0\n",
    "for kk in range(1,1000):\n",
    "    val = 44.6804288510549 * 100^2 * kk / (2*np.pi)\n",
    "    val = np.mod(val , 1) \n",
    "\n",
    "    if val > 0.5:\n",
    "        val = 1-val\n",
    "    if val<mn:\n",
    "        mn = val\n",
    "        mnk=-kk\n",
    "        print(val,kk)     \n"
   ]
  },
  {
   "cell_type": "code",
   "execution_count": 29,
   "id": "3e154ce3",
   "metadata": {},
   "outputs": [],
   "source": [
    "mnk = -1\n",
    "Cval = sqrt( 2*np.pi/44.6804288510549 * 10^6 )"
   ]
  },
  {
   "cell_type": "code",
   "execution_count": 30,
   "id": "5f1368ca",
   "metadata": {},
   "outputs": [
    {
     "data": {
      "text/html": [
       "<html><script type=\"math/tex; mode=display\">\\newcommand{\\Bold}[1]{\\mathbf{#1}}C = 375.000000000000</script></html>"
      ],
      "text/latex": [
       "$$\\newcommand{\\Bold}[1]{\\mathbf{#1}}C = 375.000000000000$$"
      ],
      "text/plain": [
       "C == 375.000000000000"
      ]
     },
     "metadata": {},
     "output_type": "display_data"
    },
    {
     "data": {
      "text/html": [
       "<html><script type=\"math/tex; mode=display\">\\newcommand{\\Bold}[1]{\\mathbf{#1}}k = \\left(-1\\right)</script></html>"
      ],
      "text/latex": [
       "$$\\newcommand{\\Bold}[1]{\\mathbf{#1}}k = \\left(-1\\right)$$"
      ],
      "text/plain": [
       "k == -1"
      ]
     },
     "metadata": {},
     "output_type": "display_data"
    }
   ],
   "source": [
    "show(C==Cval)\n",
    "show(k==mnk)"
   ]
  },
  {
   "cell_type": "code",
   "execution_count": 31,
   "id": "84f934e0",
   "metadata": {},
   "outputs": [
    {
     "data": {
      "text/html": [
       "<html><script type=\"math/tex; mode=display\">\\newcommand{\\Bold}[1]{\\mathbf{#1}}{D_1} = 5</script></html>"
      ],
      "text/latex": [
       "$$\\newcommand{\\Bold}[1]{\\mathbf{#1}}{D_1} = 5$$"
      ],
      "text/plain": [
       "D1 == 5"
      ]
     },
     "metadata": {},
     "output_type": "display_data"
    },
    {
     "data": {
      "text/html": [
       "<html><script type=\"math/tex; mode=display\">\\newcommand{\\Bold}[1]{\\mathbf{#1}}{{{\\Delta E}}^\\gamma} = 0.240370085030933</script></html>"
      ],
      "text/latex": [
       "$$\\newcommand{\\Bold}[1]{\\mathbf{#1}}{{{\\Delta E}}^\\gamma} = 0.240370085030933$$"
      ],
      "text/plain": [
       "DEg == 0.240370085030933"
      ]
     },
     "metadata": {},
     "output_type": "display_data"
    }
   ],
   "source": [
    "minsolD1 = 5\n",
    "minsolDEg = solDEg.subs(k=mnk,D1=minsolD1).n()\n",
    "show(D1 == minsolD1)\n",
    "show(DEg == minsolDEg)"
   ]
  },
  {
   "cell_type": "code",
   "execution_count": 45,
   "id": "6a390bc8",
   "metadata": {},
   "outputs": [
    {
     "ename": "ValueError",
     "evalue": "Variable 'D1' not found",
     "output_type": "error",
     "traceback": [
      "\u001b[0;31m---------------------------------------------------------------------------\u001b[0m",
      "\u001b[0;31mValueError\u001b[0m                                Traceback (most recent call last)",
      "\u001b[0;32m/opt/SageMath/SageMath/local/lib/python3.9/site-packages/sage/ext/fast_callable.pyx\u001b[0m in \u001b[0;36msage.ext.fast_callable.ExpressionTreeBuilder.var (build/cythonized/sage/ext/fast_callable.c:6739)\u001b[0;34m()\u001b[0m\n\u001b[1;32m    687\u001b[0m         \u001b[0;32mtry\u001b[0m\u001b[0;34m:\u001b[0m\u001b[0;34m\u001b[0m\u001b[0;34m\u001b[0m\u001b[0m\n\u001b[0;32m--> 688\u001b[0;31m             \u001b[0mind\u001b[0m \u001b[0;34m=\u001b[0m \u001b[0mself\u001b[0m\u001b[0;34m.\u001b[0m\u001b[0m_vars\u001b[0m\u001b[0;34m.\u001b[0m\u001b[0mindex\u001b[0m\u001b[0;34m(\u001b[0m\u001b[0mvar_name\u001b[0m\u001b[0;34m)\u001b[0m\u001b[0;34m\u001b[0m\u001b[0;34m\u001b[0m\u001b[0m\n\u001b[0m\u001b[1;32m    689\u001b[0m         \u001b[0;32mexcept\u001b[0m \u001b[0mValueError\u001b[0m\u001b[0;34m:\u001b[0m\u001b[0;34m\u001b[0m\u001b[0;34m\u001b[0m\u001b[0m\n",
      "\u001b[0;31mValueError\u001b[0m: 'D1' is not in list",
      "\nDuring handling of the above exception, another exception occurred:\n",
      "\u001b[0;31mValueError\u001b[0m                                Traceback (most recent call last)",
      "\u001b[0;32m<ipython-input-45-857c40ffdfad>\u001b[0m in \u001b[0;36m<module>\u001b[0;34m\u001b[0m\n\u001b[1;32m      2\u001b[0m \u001b[0mDEgval\u001b[0m \u001b[0;34m=\u001b[0m \u001b[0mInteger\u001b[0m\u001b[0;34m(\u001b[0m\u001b[0;36m10\u001b[0m\u001b[0;34m)\u001b[0m\u001b[0;34m\u001b[0m\u001b[0;34m\u001b[0m\u001b[0m\n\u001b[1;32m      3\u001b[0m \u001b[0mD2val\u001b[0m  \u001b[0;34m=\u001b[0m \u001b[0mInteger\u001b[0m\u001b[0;34m(\u001b[0m\u001b[0;36m0\u001b[0m\u001b[0;34m)\u001b[0m\u001b[0;34m\u001b[0m\u001b[0;34m\u001b[0m\u001b[0m\n\u001b[0;32m----> 4\u001b[0;31m \u001b[0mplot\u001b[0m\u001b[0;34m(\u001b[0m\u001b[0mcond1sub\u001b[0m\u001b[0;34m.\u001b[0m\u001b[0msubs\u001b[0m\u001b[0;34m(\u001b[0m\u001b[0mDEg\u001b[0m\u001b[0;34m=\u001b[0m\u001b[0mDEgval\u001b[0m\u001b[0;34m,\u001b[0m\u001b[0mD2\u001b[0m\u001b[0;34m=\u001b[0m\u001b[0mD2val\u001b[0m\u001b[0;34m)\u001b[0m\u001b[0;34m/\u001b[0m\u001b[0;34m(\u001b[0m\u001b[0mInteger\u001b[0m\u001b[0;34m(\u001b[0m\u001b[0;36m2\u001b[0m\u001b[0;34m)\u001b[0m\u001b[0;34m*\u001b[0m\u001b[0mnp\u001b[0m\u001b[0;34m.\u001b[0m\u001b[0mpi\u001b[0m\u001b[0;34m)\u001b[0m\u001b[0;34m,\u001b[0m\u001b[0;34m(\u001b[0m\u001b[0mD1\u001b[0m\u001b[0;34m,\u001b[0m\u001b[0mRealNumber\u001b[0m\u001b[0;34m(\u001b[0m\u001b[0;34m'0.1'\u001b[0m\u001b[0;34m)\u001b[0m\u001b[0;34m,\u001b[0m\u001b[0mInteger\u001b[0m\u001b[0;34m(\u001b[0m\u001b[0;36m10\u001b[0m\u001b[0;34m)\u001b[0m\u001b[0;34m)\u001b[0m\u001b[0;34m,\u001b[0m  \u001b[0mscale\u001b[0m\u001b[0;34m=\u001b[0m\u001b[0;34m'semilogx'\u001b[0m\u001b[0;34m,\u001b[0m \u001b[0mgridlines\u001b[0m\u001b[0;34m=\u001b[0m\u001b[0;32mTrue\u001b[0m\u001b[0;34m)\u001b[0m\u001b[0;34m\u001b[0m\u001b[0;34m\u001b[0m\u001b[0m\n\u001b[0m",
      "\u001b[0;32m/opt/SageMath/SageMath/local/lib/python3.9/site-packages/sage/misc/decorators.py\u001b[0m in \u001b[0;36mwrapper\u001b[0;34m(*args, **kwds)\u001b[0m\n\u001b[1;32m    489\u001b[0m                 \u001b[0moptions\u001b[0m\u001b[0;34m[\u001b[0m\u001b[0;34m'__original_opts'\u001b[0m\u001b[0;34m]\u001b[0m \u001b[0;34m=\u001b[0m \u001b[0mkwds\u001b[0m\u001b[0;34m\u001b[0m\u001b[0;34m\u001b[0m\u001b[0m\n\u001b[1;32m    490\u001b[0m             \u001b[0moptions\u001b[0m\u001b[0;34m.\u001b[0m\u001b[0mupdate\u001b[0m\u001b[0;34m(\u001b[0m\u001b[0mkwds\u001b[0m\u001b[0;34m)\u001b[0m\u001b[0;34m\u001b[0m\u001b[0;34m\u001b[0m\u001b[0m\n\u001b[0;32m--> 491\u001b[0;31m             \u001b[0;32mreturn\u001b[0m \u001b[0mfunc\u001b[0m\u001b[0;34m(\u001b[0m\u001b[0;34m*\u001b[0m\u001b[0margs\u001b[0m\u001b[0;34m,\u001b[0m \u001b[0;34m**\u001b[0m\u001b[0moptions\u001b[0m\u001b[0;34m)\u001b[0m\u001b[0;34m\u001b[0m\u001b[0;34m\u001b[0m\u001b[0m\n\u001b[0m\u001b[1;32m    492\u001b[0m \u001b[0;34m\u001b[0m\u001b[0m\n\u001b[1;32m    493\u001b[0m         \u001b[0;31m#Add the options specified by @options to the signature of the wrapped\u001b[0m\u001b[0;34m\u001b[0m\u001b[0;34m\u001b[0m\u001b[0;34m\u001b[0m\u001b[0m\n",
      "\u001b[0;32m/opt/SageMath/SageMath/local/lib/python3.9/site-packages/sage/plot/plot.py\u001b[0m in \u001b[0;36mplot\u001b[0;34m(funcs, *args, **kwds)\u001b[0m\n\u001b[1;32m   1955\u001b[0m \u001b[0;34m\u001b[0m\u001b[0m\n\u001b[1;32m   1956\u001b[0m     \u001b[0;32mif\u001b[0m \u001b[0mhasattr\u001b[0m\u001b[0;34m(\u001b[0m\u001b[0mfuncs\u001b[0m\u001b[0;34m,\u001b[0m \u001b[0;34m'plot'\u001b[0m\u001b[0;34m)\u001b[0m\u001b[0;34m:\u001b[0m\u001b[0;34m\u001b[0m\u001b[0;34m\u001b[0m\u001b[0m\n\u001b[0;32m-> 1957\u001b[0;31m         \u001b[0mG\u001b[0m \u001b[0;34m=\u001b[0m \u001b[0mfuncs\u001b[0m\u001b[0;34m.\u001b[0m\u001b[0mplot\u001b[0m\u001b[0;34m(\u001b[0m\u001b[0;34m*\u001b[0m\u001b[0margs\u001b[0m\u001b[0;34m,\u001b[0m \u001b[0;34m**\u001b[0m\u001b[0moriginal_opts\u001b[0m\u001b[0;34m)\u001b[0m\u001b[0;34m\u001b[0m\u001b[0;34m\u001b[0m\u001b[0m\n\u001b[0m\u001b[1;32m   1958\u001b[0m \u001b[0;34m\u001b[0m\u001b[0m\n\u001b[1;32m   1959\u001b[0m         \u001b[0;31m# If we have extra keywords already set, then update them\u001b[0m\u001b[0;34m\u001b[0m\u001b[0;34m\u001b[0m\u001b[0;34m\u001b[0m\u001b[0m\n",
      "\u001b[0;32m/opt/SageMath/SageMath/local/lib/python3.9/site-packages/sage/symbolic/expression.pyx\u001b[0m in \u001b[0;36msage.symbolic.expression.Expression.plot (build/cythonized/sage/symbolic/expression.cpp:65691)\u001b[0;34m()\u001b[0m\n\u001b[1;32m  12298\u001b[0m                     \u001b[0mparam\u001b[0m \u001b[0;34m=\u001b[0m \u001b[0mA\u001b[0m\u001b[0;34m[\u001b[0m\u001b[0;36m0\u001b[0m\u001b[0;34m]\u001b[0m\u001b[0;34m\u001b[0m\u001b[0;34m\u001b[0m\u001b[0m\n\u001b[1;32m  12299\u001b[0m                     \u001b[0;32mtry\u001b[0m\u001b[0;34m:\u001b[0m\u001b[0;34m\u001b[0m\u001b[0;34m\u001b[0m\u001b[0m\n\u001b[0;32m> 12300\u001b[0;31m                         \u001b[0mf\u001b[0m \u001b[0;34m=\u001b[0m \u001b[0mself\u001b[0m\u001b[0;34m.\u001b[0m\u001b[0m_plot_fast_callable\u001b[0m\u001b[0;34m(\u001b[0m\u001b[0mparam\u001b[0m\u001b[0;34m)\u001b[0m\u001b[0;34m\u001b[0m\u001b[0;34m\u001b[0m\u001b[0m\n\u001b[0m\u001b[1;32m  12301\u001b[0m                     \u001b[0;32mexcept\u001b[0m \u001b[0mNotImplementedError\u001b[0m\u001b[0;34m:\u001b[0m\u001b[0;34m\u001b[0m\u001b[0;34m\u001b[0m\u001b[0m\n\u001b[1;32m  12302\u001b[0m                         \u001b[0;32mreturn\u001b[0m \u001b[0mself\u001b[0m\u001b[0;34m.\u001b[0m\u001b[0mfunction\u001b[0m\u001b[0;34m(\u001b[0m\u001b[0mparam\u001b[0m\u001b[0;34m)\u001b[0m\u001b[0;34m\u001b[0m\u001b[0;34m\u001b[0m\u001b[0m\n",
      "\u001b[0;32m/opt/SageMath/SageMath/local/lib/python3.9/site-packages/sage/symbolic/expression.pyx\u001b[0m in \u001b[0;36msage.symbolic.expression.Expression._plot_fast_callable (build/cythonized/sage/symbolic/expression.cpp:66073)\u001b[0;34m()\u001b[0m\n\u001b[1;32m  12344\u001b[0m         \"\"\"\n\u001b[1;32m  12345\u001b[0m         \u001b[0;32mfrom\u001b[0m \u001b[0msage\u001b[0m\u001b[0;34m.\u001b[0m\u001b[0mext\u001b[0m\u001b[0;34m.\u001b[0m\u001b[0mfast_callable\u001b[0m \u001b[0;32mimport\u001b[0m \u001b[0mfast_callable\u001b[0m\u001b[0;34m\u001b[0m\u001b[0;34m\u001b[0m\u001b[0m\n\u001b[0;32m> 12346\u001b[0;31m         \u001b[0;32mreturn\u001b[0m \u001b[0mfast_callable\u001b[0m\u001b[0;34m(\u001b[0m\u001b[0mself\u001b[0m\u001b[0;34m,\u001b[0m \u001b[0mvars\u001b[0m\u001b[0;34m=\u001b[0m\u001b[0mvars\u001b[0m\u001b[0;34m,\u001b[0m \u001b[0mexpect_one_var\u001b[0m\u001b[0;34m=\u001b[0m\u001b[0;32mTrue\u001b[0m\u001b[0;34m)\u001b[0m\u001b[0;34m\u001b[0m\u001b[0;34m\u001b[0m\u001b[0m\n\u001b[0m\u001b[1;32m  12347\u001b[0m \u001b[0;34m\u001b[0m\u001b[0m\n\u001b[1;32m  12348\u001b[0m     \u001b[0;31m############\u001b[0m\u001b[0;34m\u001b[0m\u001b[0;34m\u001b[0m\u001b[0;34m\u001b[0m\u001b[0m\n",
      "\u001b[0;32m/opt/SageMath/SageMath/local/lib/python3.9/site-packages/sage/ext/fast_callable.pyx\u001b[0m in \u001b[0;36msage.ext.fast_callable.fast_callable (build/cythonized/sage/ext/fast_callable.c:4707)\u001b[0;34m()\u001b[0m\n\u001b[1;32m    455\u001b[0m \u001b[0;34m\u001b[0m\u001b[0m\n\u001b[1;32m    456\u001b[0m         \u001b[0metb\u001b[0m \u001b[0;34m=\u001b[0m \u001b[0mExpressionTreeBuilder\u001b[0m\u001b[0;34m(\u001b[0m\u001b[0mvars\u001b[0m\u001b[0;34m=\u001b[0m\u001b[0mvars\u001b[0m\u001b[0;34m,\u001b[0m \u001b[0mdomain\u001b[0m\u001b[0;34m=\u001b[0m\u001b[0mdomain\u001b[0m\u001b[0;34m)\u001b[0m\u001b[0;34m\u001b[0m\u001b[0;34m\u001b[0m\u001b[0m\n\u001b[0;32m--> 457\u001b[0;31m         \u001b[0met\u001b[0m \u001b[0;34m=\u001b[0m \u001b[0mx\u001b[0m\u001b[0;34m.\u001b[0m\u001b[0m_fast_callable_\u001b[0m\u001b[0;34m(\u001b[0m\u001b[0metb\u001b[0m\u001b[0;34m)\u001b[0m\u001b[0;34m\u001b[0m\u001b[0;34m\u001b[0m\u001b[0m\n\u001b[0m\u001b[1;32m    458\u001b[0m \u001b[0;34m\u001b[0m\u001b[0m\n\u001b[1;32m    459\u001b[0m     \u001b[0;32mif\u001b[0m \u001b[0misinstance\u001b[0m\u001b[0;34m(\u001b[0m\u001b[0mdomain\u001b[0m\u001b[0;34m,\u001b[0m \u001b[0mRealField_class\u001b[0m\u001b[0;34m)\u001b[0m\u001b[0;34m:\u001b[0m\u001b[0;34m\u001b[0m\u001b[0;34m\u001b[0m\u001b[0m\n",
      "\u001b[0;32m/opt/SageMath/SageMath/local/lib/python3.9/site-packages/sage/symbolic/expression.pyx\u001b[0m in \u001b[0;36msage.symbolic.expression.Expression._fast_callable_ (build/cythonized/sage/symbolic/expression.cpp:64918)\u001b[0;34m()\u001b[0m\n\u001b[1;32m  12181\u001b[0m         \"\"\"\n\u001b[1;32m  12182\u001b[0m         \u001b[0;32mfrom\u001b[0m \u001b[0msage\u001b[0m\u001b[0;34m.\u001b[0m\u001b[0msymbolic\u001b[0m\u001b[0;34m.\u001b[0m\u001b[0mexpression_conversions\u001b[0m \u001b[0;32mimport\u001b[0m \u001b[0mfast_callable\u001b[0m\u001b[0;34m\u001b[0m\u001b[0;34m\u001b[0m\u001b[0m\n\u001b[0;32m> 12183\u001b[0;31m         \u001b[0;32mreturn\u001b[0m \u001b[0mfast_callable\u001b[0m\u001b[0;34m(\u001b[0m\u001b[0mself\u001b[0m\u001b[0;34m,\u001b[0m \u001b[0metb\u001b[0m\u001b[0;34m)\u001b[0m\u001b[0;34m\u001b[0m\u001b[0;34m\u001b[0m\u001b[0m\n\u001b[0m\u001b[1;32m  12184\u001b[0m \u001b[0;34m\u001b[0m\u001b[0m\n\u001b[1;32m  12185\u001b[0m     \u001b[0;32mdef\u001b[0m \u001b[0mshow\u001b[0m\u001b[0;34m(\u001b[0m\u001b[0mself\u001b[0m\u001b[0;34m)\u001b[0m\u001b[0;34m:\u001b[0m\u001b[0;34m\u001b[0m\u001b[0;34m\u001b[0m\u001b[0m\n",
      "\u001b[0;32m/opt/SageMath/SageMath/local/lib/python3.9/site-packages/sage/symbolic/expression_conversions.py\u001b[0m in \u001b[0;36mfast_callable\u001b[0;34m(ex, etb)\u001b[0m\n\u001b[1;32m   1967\u001b[0m \u001b[0;34m\u001b[0m\u001b[0m\n\u001b[1;32m   1968\u001b[0m     \"\"\"\n\u001b[0;32m-> 1969\u001b[0;31m     \u001b[0;32mreturn\u001b[0m \u001b[0mFastCallableConverter\u001b[0m\u001b[0;34m(\u001b[0m\u001b[0mex\u001b[0m\u001b[0;34m,\u001b[0m \u001b[0metb\u001b[0m\u001b[0;34m)\u001b[0m\u001b[0;34m(\u001b[0m\u001b[0;34m)\u001b[0m\u001b[0;34m\u001b[0m\u001b[0;34m\u001b[0m\u001b[0m\n\u001b[0m\u001b[1;32m   1970\u001b[0m \u001b[0;34m\u001b[0m\u001b[0m\n\u001b[1;32m   1971\u001b[0m \u001b[0;32mclass\u001b[0m \u001b[0mRingConverter\u001b[0m\u001b[0;34m(\u001b[0m\u001b[0mConverter\u001b[0m\u001b[0;34m)\u001b[0m\u001b[0;34m:\u001b[0m\u001b[0;34m\u001b[0m\u001b[0;34m\u001b[0m\u001b[0m\n",
      "\u001b[0;32m/opt/SageMath/SageMath/local/lib/python3.9/site-packages/sage/symbolic/expression_conversions.py\u001b[0m in \u001b[0;36m__call__\u001b[0;34m(self, ex)\u001b[0m\n\u001b[1;32m    215\u001b[0m             \u001b[0;32mif\u001b[0m \u001b[0mgetattr\u001b[0m\u001b[0;34m(\u001b[0m\u001b[0mself\u001b[0m\u001b[0;34m,\u001b[0m \u001b[0;34m'use_fake_div'\u001b[0m\u001b[0;34m,\u001b[0m \u001b[0;32mFalse\u001b[0m\u001b[0;34m)\u001b[0m \u001b[0;32mand\u001b[0m \u001b[0;34m(\u001b[0m\u001b[0moperator\u001b[0m \u001b[0;32mis\u001b[0m \u001b[0m_operator\u001b[0m\u001b[0;34m.\u001b[0m\u001b[0mmul\u001b[0m \u001b[0;32mor\u001b[0m \u001b[0moperator\u001b[0m \u001b[0;32mis\u001b[0m \u001b[0mmul_vararg\u001b[0m\u001b[0;34m)\u001b[0m\u001b[0;34m:\u001b[0m\u001b[0;34m\u001b[0m\u001b[0;34m\u001b[0m\u001b[0m\n\u001b[1;32m    216\u001b[0m                 \u001b[0mdiv\u001b[0m \u001b[0;34m=\u001b[0m \u001b[0mself\u001b[0m\u001b[0;34m.\u001b[0m\u001b[0mget_fake_div\u001b[0m\u001b[0;34m(\u001b[0m\u001b[0mex\u001b[0m\u001b[0;34m)\u001b[0m\u001b[0;34m\u001b[0m\u001b[0;34m\u001b[0m\u001b[0m\n\u001b[0;32m--> 217\u001b[0;31m                 \u001b[0;32mreturn\u001b[0m \u001b[0mself\u001b[0m\u001b[0;34m.\u001b[0m\u001b[0marithmetic\u001b[0m\u001b[0;34m(\u001b[0m\u001b[0mdiv\u001b[0m\u001b[0;34m,\u001b[0m \u001b[0mdiv\u001b[0m\u001b[0;34m.\u001b[0m\u001b[0moperator\u001b[0m\u001b[0;34m(\u001b[0m\u001b[0;34m)\u001b[0m\u001b[0;34m)\u001b[0m\u001b[0;34m\u001b[0m\u001b[0;34m\u001b[0m\u001b[0m\n\u001b[0m\u001b[1;32m    218\u001b[0m             \u001b[0;32mreturn\u001b[0m \u001b[0mself\u001b[0m\u001b[0;34m.\u001b[0m\u001b[0marithmetic\u001b[0m\u001b[0;34m(\u001b[0m\u001b[0mex\u001b[0m\u001b[0;34m,\u001b[0m \u001b[0moperator\u001b[0m\u001b[0;34m)\u001b[0m\u001b[0;34m\u001b[0m\u001b[0;34m\u001b[0m\u001b[0m\n\u001b[1;32m    219\u001b[0m         \u001b[0;32melif\u001b[0m \u001b[0moperator\u001b[0m \u001b[0;32min\u001b[0m \u001b[0mrelation_operators\u001b[0m\u001b[0;34m:\u001b[0m\u001b[0;34m\u001b[0m\u001b[0;34m\u001b[0m\u001b[0m\n",
      "\u001b[0;32m/opt/SageMath/SageMath/local/lib/python3.9/site-packages/sage/symbolic/expression_conversions.py\u001b[0m in \u001b[0;36marithmetic\u001b[0;34m(self, ex, operator)\u001b[0m\n\u001b[1;32m   1895\u001b[0m         \u001b[0;32melif\u001b[0m \u001b[0moperator\u001b[0m \u001b[0;34m==\u001b[0m \u001b[0mmul_vararg\u001b[0m\u001b[0;34m:\u001b[0m\u001b[0;34m\u001b[0m\u001b[0;34m\u001b[0m\u001b[0m\n\u001b[1;32m   1896\u001b[0m             \u001b[0moperator\u001b[0m \u001b[0;34m=\u001b[0m \u001b[0m_operator\u001b[0m\u001b[0;34m.\u001b[0m\u001b[0mmul\u001b[0m\u001b[0;34m\u001b[0m\u001b[0;34m\u001b[0m\u001b[0m\n\u001b[0;32m-> 1897\u001b[0;31m         \u001b[0;32mreturn\u001b[0m \u001b[0mreduce\u001b[0m\u001b[0;34m(\u001b[0m\u001b[0;32mlambda\u001b[0m \u001b[0mx\u001b[0m\u001b[0;34m,\u001b[0m\u001b[0my\u001b[0m\u001b[0;34m:\u001b[0m \u001b[0mself\u001b[0m\u001b[0;34m.\u001b[0m\u001b[0metb\u001b[0m\u001b[0;34m.\u001b[0m\u001b[0mcall\u001b[0m\u001b[0;34m(\u001b[0m\u001b[0moperator\u001b[0m\u001b[0;34m,\u001b[0m \u001b[0mx\u001b[0m\u001b[0;34m,\u001b[0m\u001b[0my\u001b[0m\u001b[0;34m)\u001b[0m\u001b[0;34m,\u001b[0m \u001b[0moperands\u001b[0m\u001b[0;34m)\u001b[0m\u001b[0;34m\u001b[0m\u001b[0;34m\u001b[0m\u001b[0m\n\u001b[0m\u001b[1;32m   1898\u001b[0m \u001b[0;34m\u001b[0m\u001b[0m\n\u001b[1;32m   1899\u001b[0m     \u001b[0;32mdef\u001b[0m \u001b[0msymbol\u001b[0m\u001b[0;34m(\u001b[0m\u001b[0mself\u001b[0m\u001b[0;34m,\u001b[0m \u001b[0mex\u001b[0m\u001b[0;34m)\u001b[0m\u001b[0;34m:\u001b[0m\u001b[0;34m\u001b[0m\u001b[0;34m\u001b[0m\u001b[0m\n",
      "\u001b[0;32m/opt/SageMath/SageMath/local/lib/python3.9/site-packages/sage/symbolic/expression_conversions.py\u001b[0m in \u001b[0;36m<lambda>\u001b[0;34m(x, y)\u001b[0m\n\u001b[1;32m   1895\u001b[0m         \u001b[0;32melif\u001b[0m \u001b[0moperator\u001b[0m \u001b[0;34m==\u001b[0m \u001b[0mmul_vararg\u001b[0m\u001b[0;34m:\u001b[0m\u001b[0;34m\u001b[0m\u001b[0;34m\u001b[0m\u001b[0m\n\u001b[1;32m   1896\u001b[0m             \u001b[0moperator\u001b[0m \u001b[0;34m=\u001b[0m \u001b[0m_operator\u001b[0m\u001b[0;34m.\u001b[0m\u001b[0mmul\u001b[0m\u001b[0;34m\u001b[0m\u001b[0;34m\u001b[0m\u001b[0m\n\u001b[0;32m-> 1897\u001b[0;31m         \u001b[0;32mreturn\u001b[0m \u001b[0mreduce\u001b[0m\u001b[0;34m(\u001b[0m\u001b[0;32mlambda\u001b[0m \u001b[0mx\u001b[0m\u001b[0;34m,\u001b[0m\u001b[0my\u001b[0m\u001b[0;34m:\u001b[0m \u001b[0mself\u001b[0m\u001b[0;34m.\u001b[0m\u001b[0metb\u001b[0m\u001b[0;34m.\u001b[0m\u001b[0mcall\u001b[0m\u001b[0;34m(\u001b[0m\u001b[0moperator\u001b[0m\u001b[0;34m,\u001b[0m \u001b[0mx\u001b[0m\u001b[0;34m,\u001b[0m\u001b[0my\u001b[0m\u001b[0;34m)\u001b[0m\u001b[0;34m,\u001b[0m \u001b[0moperands\u001b[0m\u001b[0;34m)\u001b[0m\u001b[0;34m\u001b[0m\u001b[0;34m\u001b[0m\u001b[0m\n\u001b[0m\u001b[1;32m   1898\u001b[0m \u001b[0;34m\u001b[0m\u001b[0m\n\u001b[1;32m   1899\u001b[0m     \u001b[0;32mdef\u001b[0m \u001b[0msymbol\u001b[0m\u001b[0;34m(\u001b[0m\u001b[0mself\u001b[0m\u001b[0;34m,\u001b[0m \u001b[0mex\u001b[0m\u001b[0;34m)\u001b[0m\u001b[0;34m:\u001b[0m\u001b[0;34m\u001b[0m\u001b[0;34m\u001b[0m\u001b[0m\n",
      "\u001b[0;32m/opt/SageMath/SageMath/local/lib/python3.9/site-packages/sage/ext/fast_callable.pyx\u001b[0m in \u001b[0;36msage.ext.fast_callable.ExpressionTreeBuilder.call (build/cythonized/sage/ext/fast_callable.c:7204)\u001b[0;34m()\u001b[0m\n\u001b[1;32m    742\u001b[0m             \u001b[0;32mreturn\u001b[0m \u001b[0mself\u001b[0m\u001b[0;34m(\u001b[0m\u001b[0mbase\u001b[0m\u001b[0;34m)\u001b[0m\u001b[0;34m**\u001b[0m\u001b[0mexponent\u001b[0m\u001b[0;34m\u001b[0m\u001b[0;34m\u001b[0m\u001b[0m\n\u001b[1;32m    743\u001b[0m         \u001b[0;32melse\u001b[0m\u001b[0;34m:\u001b[0m\u001b[0;34m\u001b[0m\u001b[0;34m\u001b[0m\u001b[0m\n\u001b[0;32m--> 744\u001b[0;31m             \u001b[0;32mreturn\u001b[0m \u001b[0mExpressionCall\u001b[0m\u001b[0;34m(\u001b[0m\u001b[0mself\u001b[0m\u001b[0;34m,\u001b[0m \u001b[0mfn\u001b[0m\u001b[0;34m,\u001b[0m \u001b[0;34m[\u001b[0m\u001b[0mself\u001b[0m\u001b[0;34m(\u001b[0m\u001b[0ma\u001b[0m\u001b[0;34m)\u001b[0m \u001b[0;32mfor\u001b[0m \u001b[0ma\u001b[0m \u001b[0;32min\u001b[0m \u001b[0margs\u001b[0m\u001b[0;34m]\u001b[0m\u001b[0;34m)\u001b[0m\u001b[0;34m\u001b[0m\u001b[0;34m\u001b[0m\u001b[0m\n\u001b[0m\u001b[1;32m    745\u001b[0m \u001b[0;34m\u001b[0m\u001b[0m\n\u001b[1;32m    746\u001b[0m     \u001b[0;32mdef\u001b[0m \u001b[0mchoice\u001b[0m\u001b[0;34m(\u001b[0m\u001b[0mself\u001b[0m\u001b[0;34m,\u001b[0m \u001b[0mcond\u001b[0m\u001b[0;34m,\u001b[0m \u001b[0miftrue\u001b[0m\u001b[0;34m,\u001b[0m \u001b[0miffalse\u001b[0m\u001b[0;34m)\u001b[0m\u001b[0;34m:\u001b[0m\u001b[0;34m\u001b[0m\u001b[0;34m\u001b[0m\u001b[0m\n",
      "\u001b[0;32m/opt/SageMath/SageMath/local/lib/python3.9/site-packages/sage/ext/fast_callable.pyx\u001b[0m in \u001b[0;36msage.ext.fast_callable.ExpressionTreeBuilder.__call__ (build/cythonized/sage/ext/fast_callable.c:6320)\u001b[0;34m()\u001b[0m\n\u001b[1;32m    616\u001b[0m             \u001b[0;32mreturn\u001b[0m \u001b[0mself\u001b[0m\u001b[0;34m.\u001b[0m\u001b[0mconstant\u001b[0m\u001b[0;34m(\u001b[0m\u001b[0mx\u001b[0m\u001b[0;34m)\u001b[0m\u001b[0;34m\u001b[0m\u001b[0;34m\u001b[0m\u001b[0m\n\u001b[1;32m    617\u001b[0m \u001b[0;34m\u001b[0m\u001b[0m\n\u001b[0;32m--> 618\u001b[0;31m         \u001b[0;32mreturn\u001b[0m \u001b[0mfc\u001b[0m\u001b[0;34m(\u001b[0m\u001b[0mself\u001b[0m\u001b[0;34m)\u001b[0m\u001b[0;34m\u001b[0m\u001b[0;34m\u001b[0m\u001b[0m\n\u001b[0m\u001b[1;32m    619\u001b[0m \u001b[0;34m\u001b[0m\u001b[0m\n\u001b[1;32m    620\u001b[0m     \u001b[0;32mdef\u001b[0m \u001b[0m_clean_var\u001b[0m\u001b[0;34m(\u001b[0m\u001b[0mself\u001b[0m\u001b[0;34m,\u001b[0m \u001b[0mv\u001b[0m\u001b[0;34m)\u001b[0m\u001b[0;34m:\u001b[0m\u001b[0;34m\u001b[0m\u001b[0;34m\u001b[0m\u001b[0m\n",
      "\u001b[0;32m/opt/SageMath/SageMath/local/lib/python3.9/site-packages/sage/symbolic/expression_conversions.py\u001b[0m in \u001b[0;36m_fast_callable_\u001b[0;34m(self, etb)\u001b[0m\n\u001b[1;32m    123\u001b[0m             \u001b[0;34m[\u001b[0m\u001b[0;34m(\u001b[0m\u001b[0;34m'load_arg'\u001b[0m\u001b[0;34m,\u001b[0m \u001b[0;36m0\u001b[0m\u001b[0;34m)\u001b[0m\u001b[0;34m,\u001b[0m \u001b[0;34m(\u001b[0m\u001b[0;34m'load_arg'\u001b[0m\u001b[0;34m,\u001b[0m \u001b[0;36m1\u001b[0m\u001b[0;34m)\u001b[0m\u001b[0;34m,\u001b[0m \u001b[0;34m'div'\u001b[0m\u001b[0;34m,\u001b[0m \u001b[0;34m'return'\u001b[0m\u001b[0;34m]\u001b[0m\u001b[0;34m\u001b[0m\u001b[0;34m\u001b[0m\u001b[0m\n\u001b[1;32m    124\u001b[0m         \"\"\"\n\u001b[0;32m--> 125\u001b[0;31m         \u001b[0;32mreturn\u001b[0m \u001b[0mfast_callable\u001b[0m\u001b[0;34m(\u001b[0m\u001b[0mself\u001b[0m\u001b[0;34m,\u001b[0m \u001b[0metb\u001b[0m\u001b[0;34m)\u001b[0m\u001b[0;34m\u001b[0m\u001b[0;34m\u001b[0m\u001b[0m\n\u001b[0m\u001b[1;32m    126\u001b[0m \u001b[0;34m\u001b[0m\u001b[0m\n\u001b[1;32m    127\u001b[0m     \u001b[0;32mdef\u001b[0m \u001b[0m_fast_float_\u001b[0m\u001b[0;34m(\u001b[0m\u001b[0mself\u001b[0m\u001b[0;34m,\u001b[0m \u001b[0;34m*\u001b[0m\u001b[0mvars\u001b[0m\u001b[0;34m)\u001b[0m\u001b[0;34m:\u001b[0m\u001b[0;34m\u001b[0m\u001b[0;34m\u001b[0m\u001b[0m\n",
      "\u001b[0;32m/opt/SageMath/SageMath/local/lib/python3.9/site-packages/sage/symbolic/expression_conversions.py\u001b[0m in \u001b[0;36mfast_callable\u001b[0;34m(ex, etb)\u001b[0m\n\u001b[1;32m   1967\u001b[0m \u001b[0;34m\u001b[0m\u001b[0m\n\u001b[1;32m   1968\u001b[0m     \"\"\"\n\u001b[0;32m-> 1969\u001b[0;31m     \u001b[0;32mreturn\u001b[0m \u001b[0mFastCallableConverter\u001b[0m\u001b[0;34m(\u001b[0m\u001b[0mex\u001b[0m\u001b[0;34m,\u001b[0m \u001b[0metb\u001b[0m\u001b[0;34m)\u001b[0m\u001b[0;34m(\u001b[0m\u001b[0;34m)\u001b[0m\u001b[0;34m\u001b[0m\u001b[0;34m\u001b[0m\u001b[0m\n\u001b[0m\u001b[1;32m   1970\u001b[0m \u001b[0;34m\u001b[0m\u001b[0m\n\u001b[1;32m   1971\u001b[0m \u001b[0;32mclass\u001b[0m \u001b[0mRingConverter\u001b[0m\u001b[0;34m(\u001b[0m\u001b[0mConverter\u001b[0m\u001b[0;34m)\u001b[0m\u001b[0;34m:\u001b[0m\u001b[0;34m\u001b[0m\u001b[0;34m\u001b[0m\u001b[0m\n",
      "\u001b[0;32m/opt/SageMath/SageMath/local/lib/python3.9/site-packages/sage/symbolic/expression_conversions.py\u001b[0m in \u001b[0;36m__call__\u001b[0;34m(self, ex)\u001b[0m\n\u001b[1;32m    215\u001b[0m             \u001b[0;32mif\u001b[0m \u001b[0mgetattr\u001b[0m\u001b[0;34m(\u001b[0m\u001b[0mself\u001b[0m\u001b[0;34m,\u001b[0m \u001b[0;34m'use_fake_div'\u001b[0m\u001b[0;34m,\u001b[0m \u001b[0;32mFalse\u001b[0m\u001b[0;34m)\u001b[0m \u001b[0;32mand\u001b[0m \u001b[0;34m(\u001b[0m\u001b[0moperator\u001b[0m \u001b[0;32mis\u001b[0m \u001b[0m_operator\u001b[0m\u001b[0;34m.\u001b[0m\u001b[0mmul\u001b[0m \u001b[0;32mor\u001b[0m \u001b[0moperator\u001b[0m \u001b[0;32mis\u001b[0m \u001b[0mmul_vararg\u001b[0m\u001b[0;34m)\u001b[0m\u001b[0;34m:\u001b[0m\u001b[0;34m\u001b[0m\u001b[0;34m\u001b[0m\u001b[0m\n\u001b[1;32m    216\u001b[0m                 \u001b[0mdiv\u001b[0m \u001b[0;34m=\u001b[0m \u001b[0mself\u001b[0m\u001b[0;34m.\u001b[0m\u001b[0mget_fake_div\u001b[0m\u001b[0;34m(\u001b[0m\u001b[0mex\u001b[0m\u001b[0;34m)\u001b[0m\u001b[0;34m\u001b[0m\u001b[0;34m\u001b[0m\u001b[0m\n\u001b[0;32m--> 217\u001b[0;31m                 \u001b[0;32mreturn\u001b[0m \u001b[0mself\u001b[0m\u001b[0;34m.\u001b[0m\u001b[0marithmetic\u001b[0m\u001b[0;34m(\u001b[0m\u001b[0mdiv\u001b[0m\u001b[0;34m,\u001b[0m \u001b[0mdiv\u001b[0m\u001b[0;34m.\u001b[0m\u001b[0moperator\u001b[0m\u001b[0;34m(\u001b[0m\u001b[0;34m)\u001b[0m\u001b[0;34m)\u001b[0m\u001b[0;34m\u001b[0m\u001b[0;34m\u001b[0m\u001b[0m\n\u001b[0m\u001b[1;32m    218\u001b[0m             \u001b[0;32mreturn\u001b[0m \u001b[0mself\u001b[0m\u001b[0;34m.\u001b[0m\u001b[0marithmetic\u001b[0m\u001b[0;34m(\u001b[0m\u001b[0mex\u001b[0m\u001b[0;34m,\u001b[0m \u001b[0moperator\u001b[0m\u001b[0;34m)\u001b[0m\u001b[0;34m\u001b[0m\u001b[0;34m\u001b[0m\u001b[0m\n\u001b[1;32m    219\u001b[0m         \u001b[0;32melif\u001b[0m \u001b[0moperator\u001b[0m \u001b[0;32min\u001b[0m \u001b[0mrelation_operators\u001b[0m\u001b[0;34m:\u001b[0m\u001b[0;34m\u001b[0m\u001b[0;34m\u001b[0m\u001b[0m\n",
      "\u001b[0;32m/opt/SageMath/SageMath/local/lib/python3.9/site-packages/sage/symbolic/expression_conversions.py\u001b[0m in \u001b[0;36marithmetic\u001b[0;34m(self, ex, operator)\u001b[0m\n\u001b[1;32m   1895\u001b[0m         \u001b[0;32melif\u001b[0m \u001b[0moperator\u001b[0m \u001b[0;34m==\u001b[0m \u001b[0mmul_vararg\u001b[0m\u001b[0;34m:\u001b[0m\u001b[0;34m\u001b[0m\u001b[0;34m\u001b[0m\u001b[0m\n\u001b[1;32m   1896\u001b[0m             \u001b[0moperator\u001b[0m \u001b[0;34m=\u001b[0m \u001b[0m_operator\u001b[0m\u001b[0;34m.\u001b[0m\u001b[0mmul\u001b[0m\u001b[0;34m\u001b[0m\u001b[0;34m\u001b[0m\u001b[0m\n\u001b[0;32m-> 1897\u001b[0;31m         \u001b[0;32mreturn\u001b[0m \u001b[0mreduce\u001b[0m\u001b[0;34m(\u001b[0m\u001b[0;32mlambda\u001b[0m \u001b[0mx\u001b[0m\u001b[0;34m,\u001b[0m\u001b[0my\u001b[0m\u001b[0;34m:\u001b[0m \u001b[0mself\u001b[0m\u001b[0;34m.\u001b[0m\u001b[0metb\u001b[0m\u001b[0;34m.\u001b[0m\u001b[0mcall\u001b[0m\u001b[0;34m(\u001b[0m\u001b[0moperator\u001b[0m\u001b[0;34m,\u001b[0m \u001b[0mx\u001b[0m\u001b[0;34m,\u001b[0m\u001b[0my\u001b[0m\u001b[0;34m)\u001b[0m\u001b[0;34m,\u001b[0m \u001b[0moperands\u001b[0m\u001b[0;34m)\u001b[0m\u001b[0;34m\u001b[0m\u001b[0;34m\u001b[0m\u001b[0m\n\u001b[0m\u001b[1;32m   1898\u001b[0m \u001b[0;34m\u001b[0m\u001b[0m\n\u001b[1;32m   1899\u001b[0m     \u001b[0;32mdef\u001b[0m \u001b[0msymbol\u001b[0m\u001b[0;34m(\u001b[0m\u001b[0mself\u001b[0m\u001b[0;34m,\u001b[0m \u001b[0mex\u001b[0m\u001b[0;34m)\u001b[0m\u001b[0;34m:\u001b[0m\u001b[0;34m\u001b[0m\u001b[0;34m\u001b[0m\u001b[0m\n",
      "\u001b[0;32m/opt/SageMath/SageMath/local/lib/python3.9/site-packages/sage/symbolic/expression_conversions.py\u001b[0m in \u001b[0;36m<lambda>\u001b[0;34m(x, y)\u001b[0m\n\u001b[1;32m   1895\u001b[0m         \u001b[0;32melif\u001b[0m \u001b[0moperator\u001b[0m \u001b[0;34m==\u001b[0m \u001b[0mmul_vararg\u001b[0m\u001b[0;34m:\u001b[0m\u001b[0;34m\u001b[0m\u001b[0;34m\u001b[0m\u001b[0m\n\u001b[1;32m   1896\u001b[0m             \u001b[0moperator\u001b[0m \u001b[0;34m=\u001b[0m \u001b[0m_operator\u001b[0m\u001b[0;34m.\u001b[0m\u001b[0mmul\u001b[0m\u001b[0;34m\u001b[0m\u001b[0;34m\u001b[0m\u001b[0m\n\u001b[0;32m-> 1897\u001b[0;31m         \u001b[0;32mreturn\u001b[0m \u001b[0mreduce\u001b[0m\u001b[0;34m(\u001b[0m\u001b[0;32mlambda\u001b[0m \u001b[0mx\u001b[0m\u001b[0;34m,\u001b[0m\u001b[0my\u001b[0m\u001b[0;34m:\u001b[0m \u001b[0mself\u001b[0m\u001b[0;34m.\u001b[0m\u001b[0metb\u001b[0m\u001b[0;34m.\u001b[0m\u001b[0mcall\u001b[0m\u001b[0;34m(\u001b[0m\u001b[0moperator\u001b[0m\u001b[0;34m,\u001b[0m \u001b[0mx\u001b[0m\u001b[0;34m,\u001b[0m\u001b[0my\u001b[0m\u001b[0;34m)\u001b[0m\u001b[0;34m,\u001b[0m \u001b[0moperands\u001b[0m\u001b[0;34m)\u001b[0m\u001b[0;34m\u001b[0m\u001b[0;34m\u001b[0m\u001b[0m\n\u001b[0m\u001b[1;32m   1898\u001b[0m \u001b[0;34m\u001b[0m\u001b[0m\n\u001b[1;32m   1899\u001b[0m     \u001b[0;32mdef\u001b[0m \u001b[0msymbol\u001b[0m\u001b[0;34m(\u001b[0m\u001b[0mself\u001b[0m\u001b[0;34m,\u001b[0m \u001b[0mex\u001b[0m\u001b[0;34m)\u001b[0m\u001b[0;34m:\u001b[0m\u001b[0;34m\u001b[0m\u001b[0;34m\u001b[0m\u001b[0m\n",
      "\u001b[0;32m/opt/SageMath/SageMath/local/lib/python3.9/site-packages/sage/ext/fast_callable.pyx\u001b[0m in \u001b[0;36msage.ext.fast_callable.ExpressionTreeBuilder.call (build/cythonized/sage/ext/fast_callable.c:7204)\u001b[0;34m()\u001b[0m\n\u001b[1;32m    742\u001b[0m             \u001b[0;32mreturn\u001b[0m \u001b[0mself\u001b[0m\u001b[0;34m(\u001b[0m\u001b[0mbase\u001b[0m\u001b[0;34m)\u001b[0m\u001b[0;34m**\u001b[0m\u001b[0mexponent\u001b[0m\u001b[0;34m\u001b[0m\u001b[0;34m\u001b[0m\u001b[0m\n\u001b[1;32m    743\u001b[0m         \u001b[0;32melse\u001b[0m\u001b[0;34m:\u001b[0m\u001b[0;34m\u001b[0m\u001b[0;34m\u001b[0m\u001b[0m\n\u001b[0;32m--> 744\u001b[0;31m             \u001b[0;32mreturn\u001b[0m \u001b[0mExpressionCall\u001b[0m\u001b[0;34m(\u001b[0m\u001b[0mself\u001b[0m\u001b[0;34m,\u001b[0m \u001b[0mfn\u001b[0m\u001b[0;34m,\u001b[0m \u001b[0;34m[\u001b[0m\u001b[0mself\u001b[0m\u001b[0;34m(\u001b[0m\u001b[0ma\u001b[0m\u001b[0;34m)\u001b[0m \u001b[0;32mfor\u001b[0m \u001b[0ma\u001b[0m \u001b[0;32min\u001b[0m \u001b[0margs\u001b[0m\u001b[0;34m]\u001b[0m\u001b[0;34m)\u001b[0m\u001b[0;34m\u001b[0m\u001b[0;34m\u001b[0m\u001b[0m\n\u001b[0m\u001b[1;32m    745\u001b[0m \u001b[0;34m\u001b[0m\u001b[0m\n\u001b[1;32m    746\u001b[0m     \u001b[0;32mdef\u001b[0m \u001b[0mchoice\u001b[0m\u001b[0;34m(\u001b[0m\u001b[0mself\u001b[0m\u001b[0;34m,\u001b[0m \u001b[0mcond\u001b[0m\u001b[0;34m,\u001b[0m \u001b[0miftrue\u001b[0m\u001b[0;34m,\u001b[0m \u001b[0miffalse\u001b[0m\u001b[0;34m)\u001b[0m\u001b[0;34m:\u001b[0m\u001b[0;34m\u001b[0m\u001b[0;34m\u001b[0m\u001b[0m\n",
      "\u001b[0;32m/opt/SageMath/SageMath/local/lib/python3.9/site-packages/sage/ext/fast_callable.pyx\u001b[0m in \u001b[0;36msage.ext.fast_callable.ExpressionTreeBuilder.__call__ (build/cythonized/sage/ext/fast_callable.c:6320)\u001b[0;34m()\u001b[0m\n\u001b[1;32m    616\u001b[0m             \u001b[0;32mreturn\u001b[0m \u001b[0mself\u001b[0m\u001b[0;34m.\u001b[0m\u001b[0mconstant\u001b[0m\u001b[0;34m(\u001b[0m\u001b[0mx\u001b[0m\u001b[0;34m)\u001b[0m\u001b[0;34m\u001b[0m\u001b[0;34m\u001b[0m\u001b[0m\n\u001b[1;32m    617\u001b[0m \u001b[0;34m\u001b[0m\u001b[0m\n\u001b[0;32m--> 618\u001b[0;31m         \u001b[0;32mreturn\u001b[0m \u001b[0mfc\u001b[0m\u001b[0;34m(\u001b[0m\u001b[0mself\u001b[0m\u001b[0;34m)\u001b[0m\u001b[0;34m\u001b[0m\u001b[0;34m\u001b[0m\u001b[0m\n\u001b[0m\u001b[1;32m    619\u001b[0m \u001b[0;34m\u001b[0m\u001b[0m\n\u001b[1;32m    620\u001b[0m     \u001b[0;32mdef\u001b[0m \u001b[0m_clean_var\u001b[0m\u001b[0;34m(\u001b[0m\u001b[0mself\u001b[0m\u001b[0;34m,\u001b[0m \u001b[0mv\u001b[0m\u001b[0;34m)\u001b[0m\u001b[0;34m:\u001b[0m\u001b[0;34m\u001b[0m\u001b[0;34m\u001b[0m\u001b[0m\n",
      "\u001b[0;32m/opt/SageMath/SageMath/local/lib/python3.9/site-packages/sage/symbolic/expression.pyx\u001b[0m in \u001b[0;36msage.symbolic.expression.Expression._fast_callable_ (build/cythonized/sage/symbolic/expression.cpp:64918)\u001b[0;34m()\u001b[0m\n\u001b[1;32m  12181\u001b[0m         \"\"\"\n\u001b[1;32m  12182\u001b[0m         \u001b[0;32mfrom\u001b[0m \u001b[0msage\u001b[0m\u001b[0;34m.\u001b[0m\u001b[0msymbolic\u001b[0m\u001b[0;34m.\u001b[0m\u001b[0mexpression_conversions\u001b[0m \u001b[0;32mimport\u001b[0m \u001b[0mfast_callable\u001b[0m\u001b[0;34m\u001b[0m\u001b[0;34m\u001b[0m\u001b[0m\n\u001b[0;32m> 12183\u001b[0;31m         \u001b[0;32mreturn\u001b[0m \u001b[0mfast_callable\u001b[0m\u001b[0;34m(\u001b[0m\u001b[0mself\u001b[0m\u001b[0;34m,\u001b[0m \u001b[0metb\u001b[0m\u001b[0;34m)\u001b[0m\u001b[0;34m\u001b[0m\u001b[0;34m\u001b[0m\u001b[0m\n\u001b[0m\u001b[1;32m  12184\u001b[0m \u001b[0;34m\u001b[0m\u001b[0m\n\u001b[1;32m  12185\u001b[0m     \u001b[0;32mdef\u001b[0m \u001b[0mshow\u001b[0m\u001b[0;34m(\u001b[0m\u001b[0mself\u001b[0m\u001b[0;34m)\u001b[0m\u001b[0;34m:\u001b[0m\u001b[0;34m\u001b[0m\u001b[0;34m\u001b[0m\u001b[0m\n",
      "\u001b[0;32m/opt/SageMath/SageMath/local/lib/python3.9/site-packages/sage/symbolic/expression_conversions.py\u001b[0m in \u001b[0;36mfast_callable\u001b[0;34m(ex, etb)\u001b[0m\n\u001b[1;32m   1967\u001b[0m \u001b[0;34m\u001b[0m\u001b[0m\n\u001b[1;32m   1968\u001b[0m     \"\"\"\n\u001b[0;32m-> 1969\u001b[0;31m     \u001b[0;32mreturn\u001b[0m \u001b[0mFastCallableConverter\u001b[0m\u001b[0;34m(\u001b[0m\u001b[0mex\u001b[0m\u001b[0;34m,\u001b[0m \u001b[0metb\u001b[0m\u001b[0;34m)\u001b[0m\u001b[0;34m(\u001b[0m\u001b[0;34m)\u001b[0m\u001b[0;34m\u001b[0m\u001b[0;34m\u001b[0m\u001b[0m\n\u001b[0m\u001b[1;32m   1970\u001b[0m \u001b[0;34m\u001b[0m\u001b[0m\n\u001b[1;32m   1971\u001b[0m \u001b[0;32mclass\u001b[0m \u001b[0mRingConverter\u001b[0m\u001b[0;34m(\u001b[0m\u001b[0mConverter\u001b[0m\u001b[0;34m)\u001b[0m\u001b[0;34m:\u001b[0m\u001b[0;34m\u001b[0m\u001b[0;34m\u001b[0m\u001b[0m\n",
      "\u001b[0;32m/opt/SageMath/SageMath/local/lib/python3.9/site-packages/sage/symbolic/expression_conversions.py\u001b[0m in \u001b[0;36m__call__\u001b[0;34m(self, ex)\u001b[0m\n\u001b[1;32m    216\u001b[0m                 \u001b[0mdiv\u001b[0m \u001b[0;34m=\u001b[0m \u001b[0mself\u001b[0m\u001b[0;34m.\u001b[0m\u001b[0mget_fake_div\u001b[0m\u001b[0;34m(\u001b[0m\u001b[0mex\u001b[0m\u001b[0;34m)\u001b[0m\u001b[0;34m\u001b[0m\u001b[0;34m\u001b[0m\u001b[0m\n\u001b[1;32m    217\u001b[0m                 \u001b[0;32mreturn\u001b[0m \u001b[0mself\u001b[0m\u001b[0;34m.\u001b[0m\u001b[0marithmetic\u001b[0m\u001b[0;34m(\u001b[0m\u001b[0mdiv\u001b[0m\u001b[0;34m,\u001b[0m \u001b[0mdiv\u001b[0m\u001b[0;34m.\u001b[0m\u001b[0moperator\u001b[0m\u001b[0;34m(\u001b[0m\u001b[0;34m)\u001b[0m\u001b[0;34m)\u001b[0m\u001b[0;34m\u001b[0m\u001b[0;34m\u001b[0m\u001b[0m\n\u001b[0;32m--> 218\u001b[0;31m             \u001b[0;32mreturn\u001b[0m \u001b[0mself\u001b[0m\u001b[0;34m.\u001b[0m\u001b[0marithmetic\u001b[0m\u001b[0;34m(\u001b[0m\u001b[0mex\u001b[0m\u001b[0;34m,\u001b[0m \u001b[0moperator\u001b[0m\u001b[0;34m)\u001b[0m\u001b[0;34m\u001b[0m\u001b[0;34m\u001b[0m\u001b[0m\n\u001b[0m\u001b[1;32m    219\u001b[0m         \u001b[0;32melif\u001b[0m \u001b[0moperator\u001b[0m \u001b[0;32min\u001b[0m \u001b[0mrelation_operators\u001b[0m\u001b[0;34m:\u001b[0m\u001b[0;34m\u001b[0m\u001b[0;34m\u001b[0m\u001b[0m\n\u001b[1;32m    220\u001b[0m             \u001b[0;32mreturn\u001b[0m \u001b[0mself\u001b[0m\u001b[0;34m.\u001b[0m\u001b[0mrelation\u001b[0m\u001b[0;34m(\u001b[0m\u001b[0mex\u001b[0m\u001b[0;34m,\u001b[0m \u001b[0moperator\u001b[0m\u001b[0;34m)\u001b[0m\u001b[0;34m\u001b[0m\u001b[0;34m\u001b[0m\u001b[0m\n",
      "\u001b[0;32m/opt/SageMath/SageMath/local/lib/python3.9/site-packages/sage/symbolic/expression_conversions.py\u001b[0m in \u001b[0;36marithmetic\u001b[0;34m(self, ex, operator)\u001b[0m\n\u001b[1;32m   1895\u001b[0m         \u001b[0;32melif\u001b[0m \u001b[0moperator\u001b[0m \u001b[0;34m==\u001b[0m \u001b[0mmul_vararg\u001b[0m\u001b[0;34m:\u001b[0m\u001b[0;34m\u001b[0m\u001b[0;34m\u001b[0m\u001b[0m\n\u001b[1;32m   1896\u001b[0m             \u001b[0moperator\u001b[0m \u001b[0;34m=\u001b[0m \u001b[0m_operator\u001b[0m\u001b[0;34m.\u001b[0m\u001b[0mmul\u001b[0m\u001b[0;34m\u001b[0m\u001b[0;34m\u001b[0m\u001b[0m\n\u001b[0;32m-> 1897\u001b[0;31m         \u001b[0;32mreturn\u001b[0m \u001b[0mreduce\u001b[0m\u001b[0;34m(\u001b[0m\u001b[0;32mlambda\u001b[0m \u001b[0mx\u001b[0m\u001b[0;34m,\u001b[0m\u001b[0my\u001b[0m\u001b[0;34m:\u001b[0m \u001b[0mself\u001b[0m\u001b[0;34m.\u001b[0m\u001b[0metb\u001b[0m\u001b[0;34m.\u001b[0m\u001b[0mcall\u001b[0m\u001b[0;34m(\u001b[0m\u001b[0moperator\u001b[0m\u001b[0;34m,\u001b[0m \u001b[0mx\u001b[0m\u001b[0;34m,\u001b[0m\u001b[0my\u001b[0m\u001b[0;34m)\u001b[0m\u001b[0;34m,\u001b[0m \u001b[0moperands\u001b[0m\u001b[0;34m)\u001b[0m\u001b[0;34m\u001b[0m\u001b[0;34m\u001b[0m\u001b[0m\n\u001b[0m\u001b[1;32m   1898\u001b[0m \u001b[0;34m\u001b[0m\u001b[0m\n\u001b[1;32m   1899\u001b[0m     \u001b[0;32mdef\u001b[0m \u001b[0msymbol\u001b[0m\u001b[0;34m(\u001b[0m\u001b[0mself\u001b[0m\u001b[0;34m,\u001b[0m \u001b[0mex\u001b[0m\u001b[0;34m)\u001b[0m\u001b[0;34m:\u001b[0m\u001b[0;34m\u001b[0m\u001b[0;34m\u001b[0m\u001b[0m\n",
      "\u001b[0;32m/opt/SageMath/SageMath/local/lib/python3.9/site-packages/sage/symbolic/expression_conversions.py\u001b[0m in \u001b[0;36m<lambda>\u001b[0;34m(x, y)\u001b[0m\n\u001b[1;32m   1895\u001b[0m         \u001b[0;32melif\u001b[0m \u001b[0moperator\u001b[0m \u001b[0;34m==\u001b[0m \u001b[0mmul_vararg\u001b[0m\u001b[0;34m:\u001b[0m\u001b[0;34m\u001b[0m\u001b[0;34m\u001b[0m\u001b[0m\n\u001b[1;32m   1896\u001b[0m             \u001b[0moperator\u001b[0m \u001b[0;34m=\u001b[0m \u001b[0m_operator\u001b[0m\u001b[0;34m.\u001b[0m\u001b[0mmul\u001b[0m\u001b[0;34m\u001b[0m\u001b[0;34m\u001b[0m\u001b[0m\n\u001b[0;32m-> 1897\u001b[0;31m         \u001b[0;32mreturn\u001b[0m \u001b[0mreduce\u001b[0m\u001b[0;34m(\u001b[0m\u001b[0;32mlambda\u001b[0m \u001b[0mx\u001b[0m\u001b[0;34m,\u001b[0m\u001b[0my\u001b[0m\u001b[0;34m:\u001b[0m \u001b[0mself\u001b[0m\u001b[0;34m.\u001b[0m\u001b[0metb\u001b[0m\u001b[0;34m.\u001b[0m\u001b[0mcall\u001b[0m\u001b[0;34m(\u001b[0m\u001b[0moperator\u001b[0m\u001b[0;34m,\u001b[0m \u001b[0mx\u001b[0m\u001b[0;34m,\u001b[0m\u001b[0my\u001b[0m\u001b[0;34m)\u001b[0m\u001b[0;34m,\u001b[0m \u001b[0moperands\u001b[0m\u001b[0;34m)\u001b[0m\u001b[0;34m\u001b[0m\u001b[0;34m\u001b[0m\u001b[0m\n\u001b[0m\u001b[1;32m   1898\u001b[0m \u001b[0;34m\u001b[0m\u001b[0m\n\u001b[1;32m   1899\u001b[0m     \u001b[0;32mdef\u001b[0m \u001b[0msymbol\u001b[0m\u001b[0;34m(\u001b[0m\u001b[0mself\u001b[0m\u001b[0;34m,\u001b[0m \u001b[0mex\u001b[0m\u001b[0;34m)\u001b[0m\u001b[0;34m:\u001b[0m\u001b[0;34m\u001b[0m\u001b[0;34m\u001b[0m\u001b[0m\n",
      "\u001b[0;32m/opt/SageMath/SageMath/local/lib/python3.9/site-packages/sage/ext/fast_callable.pyx\u001b[0m in \u001b[0;36msage.ext.fast_callable.ExpressionTreeBuilder.call (build/cythonized/sage/ext/fast_callable.c:7149)\u001b[0;34m()\u001b[0m\n\u001b[1;32m    740\u001b[0m         \u001b[0;32mif\u001b[0m \u001b[0mfn\u001b[0m \u001b[0;32mis\u001b[0m \u001b[0moperator\u001b[0m\u001b[0;34m.\u001b[0m\u001b[0mpow\u001b[0m\u001b[0;34m:\u001b[0m\u001b[0;34m\u001b[0m\u001b[0;34m\u001b[0m\u001b[0m\n\u001b[1;32m    741\u001b[0m             \u001b[0mbase\u001b[0m\u001b[0;34m,\u001b[0m \u001b[0mexponent\u001b[0m \u001b[0;34m=\u001b[0m \u001b[0margs\u001b[0m\u001b[0;34m\u001b[0m\u001b[0;34m\u001b[0m\u001b[0m\n\u001b[0;32m--> 742\u001b[0;31m             \u001b[0;32mreturn\u001b[0m \u001b[0mself\u001b[0m\u001b[0;34m(\u001b[0m\u001b[0mbase\u001b[0m\u001b[0;34m)\u001b[0m\u001b[0;34m**\u001b[0m\u001b[0mexponent\u001b[0m\u001b[0;34m\u001b[0m\u001b[0;34m\u001b[0m\u001b[0m\n\u001b[0m\u001b[1;32m    743\u001b[0m         \u001b[0;32melse\u001b[0m\u001b[0;34m:\u001b[0m\u001b[0;34m\u001b[0m\u001b[0;34m\u001b[0m\u001b[0m\n\u001b[1;32m    744\u001b[0m             \u001b[0;32mreturn\u001b[0m \u001b[0mExpressionCall\u001b[0m\u001b[0;34m(\u001b[0m\u001b[0mself\u001b[0m\u001b[0;34m,\u001b[0m \u001b[0mfn\u001b[0m\u001b[0;34m,\u001b[0m \u001b[0;34m[\u001b[0m\u001b[0mself\u001b[0m\u001b[0;34m(\u001b[0m\u001b[0ma\u001b[0m\u001b[0;34m)\u001b[0m \u001b[0;32mfor\u001b[0m \u001b[0ma\u001b[0m \u001b[0;32min\u001b[0m \u001b[0margs\u001b[0m\u001b[0;34m]\u001b[0m\u001b[0;34m)\u001b[0m\u001b[0;34m\u001b[0m\u001b[0;34m\u001b[0m\u001b[0m\n",
      "\u001b[0;32m/opt/SageMath/SageMath/local/lib/python3.9/site-packages/sage/ext/fast_callable.pyx\u001b[0m in \u001b[0;36msage.ext.fast_callable.ExpressionTreeBuilder.__call__ (build/cythonized/sage/ext/fast_callable.c:6320)\u001b[0;34m()\u001b[0m\n\u001b[1;32m    616\u001b[0m             \u001b[0;32mreturn\u001b[0m \u001b[0mself\u001b[0m\u001b[0;34m.\u001b[0m\u001b[0mconstant\u001b[0m\u001b[0;34m(\u001b[0m\u001b[0mx\u001b[0m\u001b[0;34m)\u001b[0m\u001b[0;34m\u001b[0m\u001b[0;34m\u001b[0m\u001b[0m\n\u001b[1;32m    617\u001b[0m \u001b[0;34m\u001b[0m\u001b[0m\n\u001b[0;32m--> 618\u001b[0;31m         \u001b[0;32mreturn\u001b[0m \u001b[0mfc\u001b[0m\u001b[0;34m(\u001b[0m\u001b[0mself\u001b[0m\u001b[0;34m)\u001b[0m\u001b[0;34m\u001b[0m\u001b[0;34m\u001b[0m\u001b[0m\n\u001b[0m\u001b[1;32m    619\u001b[0m \u001b[0;34m\u001b[0m\u001b[0m\n\u001b[1;32m    620\u001b[0m     \u001b[0;32mdef\u001b[0m \u001b[0m_clean_var\u001b[0m\u001b[0;34m(\u001b[0m\u001b[0mself\u001b[0m\u001b[0;34m,\u001b[0m \u001b[0mv\u001b[0m\u001b[0;34m)\u001b[0m\u001b[0;34m:\u001b[0m\u001b[0;34m\u001b[0m\u001b[0;34m\u001b[0m\u001b[0m\n",
      "\u001b[0;32m/opt/SageMath/SageMath/local/lib/python3.9/site-packages/sage/symbolic/expression.pyx\u001b[0m in \u001b[0;36msage.symbolic.expression.Expression._fast_callable_ (build/cythonized/sage/symbolic/expression.cpp:64918)\u001b[0;34m()\u001b[0m\n\u001b[1;32m  12181\u001b[0m         \"\"\"\n\u001b[1;32m  12182\u001b[0m         \u001b[0;32mfrom\u001b[0m \u001b[0msage\u001b[0m\u001b[0;34m.\u001b[0m\u001b[0msymbolic\u001b[0m\u001b[0;34m.\u001b[0m\u001b[0mexpression_conversions\u001b[0m \u001b[0;32mimport\u001b[0m \u001b[0mfast_callable\u001b[0m\u001b[0;34m\u001b[0m\u001b[0;34m\u001b[0m\u001b[0m\n\u001b[0;32m> 12183\u001b[0;31m         \u001b[0;32mreturn\u001b[0m \u001b[0mfast_callable\u001b[0m\u001b[0;34m(\u001b[0m\u001b[0mself\u001b[0m\u001b[0;34m,\u001b[0m \u001b[0metb\u001b[0m\u001b[0;34m)\u001b[0m\u001b[0;34m\u001b[0m\u001b[0;34m\u001b[0m\u001b[0m\n\u001b[0m\u001b[1;32m  12184\u001b[0m \u001b[0;34m\u001b[0m\u001b[0m\n\u001b[1;32m  12185\u001b[0m     \u001b[0;32mdef\u001b[0m \u001b[0mshow\u001b[0m\u001b[0;34m(\u001b[0m\u001b[0mself\u001b[0m\u001b[0;34m)\u001b[0m\u001b[0;34m:\u001b[0m\u001b[0;34m\u001b[0m\u001b[0;34m\u001b[0m\u001b[0m\n",
      "\u001b[0;32m/opt/SageMath/SageMath/local/lib/python3.9/site-packages/sage/symbolic/expression_conversions.py\u001b[0m in \u001b[0;36mfast_callable\u001b[0;34m(ex, etb)\u001b[0m\n\u001b[1;32m   1967\u001b[0m \u001b[0;34m\u001b[0m\u001b[0m\n\u001b[1;32m   1968\u001b[0m     \"\"\"\n\u001b[0;32m-> 1969\u001b[0;31m     \u001b[0;32mreturn\u001b[0m \u001b[0mFastCallableConverter\u001b[0m\u001b[0;34m(\u001b[0m\u001b[0mex\u001b[0m\u001b[0;34m,\u001b[0m \u001b[0metb\u001b[0m\u001b[0;34m)\u001b[0m\u001b[0;34m(\u001b[0m\u001b[0;34m)\u001b[0m\u001b[0;34m\u001b[0m\u001b[0;34m\u001b[0m\u001b[0m\n\u001b[0m\u001b[1;32m   1970\u001b[0m \u001b[0;34m\u001b[0m\u001b[0m\n\u001b[1;32m   1971\u001b[0m \u001b[0;32mclass\u001b[0m \u001b[0mRingConverter\u001b[0m\u001b[0;34m(\u001b[0m\u001b[0mConverter\u001b[0m\u001b[0;34m)\u001b[0m\u001b[0;34m:\u001b[0m\u001b[0;34m\u001b[0m\u001b[0;34m\u001b[0m\u001b[0m\n",
      "\u001b[0;32m/opt/SageMath/SageMath/local/lib/python3.9/site-packages/sage/symbolic/expression_conversions.py\u001b[0m in \u001b[0;36m__call__\u001b[0;34m(self, ex)\u001b[0m\n\u001b[1;32m    210\u001b[0m         \u001b[0moperator\u001b[0m \u001b[0;34m=\u001b[0m \u001b[0mex\u001b[0m\u001b[0;34m.\u001b[0m\u001b[0moperator\u001b[0m\u001b[0;34m(\u001b[0m\u001b[0;34m)\u001b[0m\u001b[0;34m\u001b[0m\u001b[0;34m\u001b[0m\u001b[0m\n\u001b[1;32m    211\u001b[0m         \u001b[0;32mif\u001b[0m \u001b[0moperator\u001b[0m \u001b[0;32mis\u001b[0m \u001b[0;32mNone\u001b[0m\u001b[0;34m:\u001b[0m\u001b[0;34m\u001b[0m\u001b[0;34m\u001b[0m\u001b[0m\n\u001b[0;32m--> 212\u001b[0;31m             \u001b[0;32mreturn\u001b[0m \u001b[0mself\u001b[0m\u001b[0;34m.\u001b[0m\u001b[0msymbol\u001b[0m\u001b[0;34m(\u001b[0m\u001b[0mex\u001b[0m\u001b[0;34m)\u001b[0m\u001b[0;34m\u001b[0m\u001b[0;34m\u001b[0m\u001b[0m\n\u001b[0m\u001b[1;32m    213\u001b[0m \u001b[0;34m\u001b[0m\u001b[0m\n\u001b[1;32m    214\u001b[0m         \u001b[0;32mif\u001b[0m \u001b[0moperator\u001b[0m \u001b[0;32min\u001b[0m \u001b[0marithmetic_operators\u001b[0m\u001b[0;34m:\u001b[0m\u001b[0;34m\u001b[0m\u001b[0;34m\u001b[0m\u001b[0m\n",
      "\u001b[0;32m/opt/SageMath/SageMath/local/lib/python3.9/site-packages/sage/symbolic/expression_conversions.py\u001b[0m in \u001b[0;36msymbol\u001b[0;34m(self, ex)\u001b[0m\n\u001b[1;32m   1916\u001b[0m             \u001b[0mValueError\u001b[0m\u001b[0;34m:\u001b[0m \u001b[0mVariable\u001b[0m \u001b[0;34m'z'\u001b[0m \u001b[0;32mnot\u001b[0m \u001b[0mfound\u001b[0m\u001b[0;34m\u001b[0m\u001b[0;34m\u001b[0m\u001b[0m\n\u001b[1;32m   1917\u001b[0m         \"\"\"\n\u001b[0;32m-> 1918\u001b[0;31m         \u001b[0;32mreturn\u001b[0m \u001b[0mself\u001b[0m\u001b[0;34m.\u001b[0m\u001b[0metb\u001b[0m\u001b[0;34m.\u001b[0m\u001b[0mvar\u001b[0m\u001b[0;34m(\u001b[0m\u001b[0mSR\u001b[0m\u001b[0;34m(\u001b[0m\u001b[0mex\u001b[0m\u001b[0;34m)\u001b[0m\u001b[0;34m)\u001b[0m\u001b[0;34m\u001b[0m\u001b[0;34m\u001b[0m\u001b[0m\n\u001b[0m\u001b[1;32m   1919\u001b[0m \u001b[0;34m\u001b[0m\u001b[0m\n\u001b[1;32m   1920\u001b[0m     \u001b[0;32mdef\u001b[0m \u001b[0mcomposition\u001b[0m\u001b[0;34m(\u001b[0m\u001b[0mself\u001b[0m\u001b[0;34m,\u001b[0m \u001b[0mex\u001b[0m\u001b[0;34m,\u001b[0m \u001b[0mfunction\u001b[0m\u001b[0;34m)\u001b[0m\u001b[0;34m:\u001b[0m\u001b[0;34m\u001b[0m\u001b[0;34m\u001b[0m\u001b[0m\n",
      "\u001b[0;32m/opt/SageMath/SageMath/local/lib/python3.9/site-packages/sage/ext/fast_callable.pyx\u001b[0m in \u001b[0;36msage.ext.fast_callable.ExpressionTreeBuilder.var (build/cythonized/sage/ext/fast_callable.c:6791)\u001b[0;34m()\u001b[0m\n\u001b[1;32m    688\u001b[0m             \u001b[0mind\u001b[0m \u001b[0;34m=\u001b[0m \u001b[0mself\u001b[0m\u001b[0;34m.\u001b[0m\u001b[0m_vars\u001b[0m\u001b[0;34m.\u001b[0m\u001b[0mindex\u001b[0m\u001b[0;34m(\u001b[0m\u001b[0mvar_name\u001b[0m\u001b[0;34m)\u001b[0m\u001b[0;34m\u001b[0m\u001b[0;34m\u001b[0m\u001b[0m\n\u001b[1;32m    689\u001b[0m         \u001b[0;32mexcept\u001b[0m \u001b[0mValueError\u001b[0m\u001b[0;34m:\u001b[0m\u001b[0;34m\u001b[0m\u001b[0;34m\u001b[0m\u001b[0m\n\u001b[0;32m--> 690\u001b[0;31m             \u001b[0;32mraise\u001b[0m \u001b[0mValueError\u001b[0m\u001b[0;34m(\u001b[0m\u001b[0;34m\"Variable '%s' not found\"\u001b[0m \u001b[0;34m%\u001b[0m \u001b[0mvar_name\u001b[0m\u001b[0;34m)\u001b[0m\u001b[0;34m\u001b[0m\u001b[0;34m\u001b[0m\u001b[0m\n\u001b[0m\u001b[1;32m    691\u001b[0m         \u001b[0;32mreturn\u001b[0m \u001b[0mExpressionVariable\u001b[0m\u001b[0;34m(\u001b[0m\u001b[0mself\u001b[0m\u001b[0;34m,\u001b[0m \u001b[0mind\u001b[0m\u001b[0;34m)\u001b[0m\u001b[0;34m\u001b[0m\u001b[0;34m\u001b[0m\u001b[0m\n\u001b[1;32m    692\u001b[0m \u001b[0;34m\u001b[0m\u001b[0m\n",
      "\u001b[0;31mValueError\u001b[0m: Variable 'D1' not found"
     ]
    }
   ],
   "source": [
    "#DEgval <= 0.5 , >=1.8\n",
    "DEgval = 10\n",
    "D2val  = 0\n",
    "plot(cond1sub.subs(DEg=DEgval,D2=D2val)/(2*np.pi),(D1,0.1,10),  scale='semilogx', gridlines=True)"
   ]
  },
  {
   "cell_type": "code",
   "execution_count": 46,
   "id": "71130fe9",
   "metadata": {},
   "outputs": [
    {
     "data": {
      "image/png": "[encoded data removed]",
      "text/plain": [
       "Graphics object consisting of 1 graphics primitive"
      ]
     },
     "execution_count": 46,
     "metadata": {},
     "output_type": "execute_result"
    }
   ],
   "source": [
    "plot(cond2sub.subs(DEg=DEgval,D1=7)/(2*np.pi),(C,1e2,1e8),  scale='semilogx',gridlines=True)"
   ]
  },
  {
   "cell_type": "code",
   "execution_count": 23,
   "id": "8d57de67",
   "metadata": {},
   "outputs": [
    {
     "data": {
      "text/plain": [
       "-1.00000000000000"
      ]
     },
     "execution_count": 23,
     "metadata": {},
     "output_type": "execute_result"
    }
   ],
   "source": [
    "cond1sub.subs(DEg=minsolDEg,D1=minsolD1)/(2*np.pi)"
   ]
  },
  {
   "cell_type": "code",
   "execution_count": 24,
   "id": "534136f4",
   "metadata": {},
   "outputs": [
    {
     "data": {
      "text/plain": [
       "100000.000000000"
      ]
     },
     "execution_count": 24,
     "metadata": {},
     "output_type": "execute_result"
    }
   ],
   "source": [
    "cond2sub.subs(DEg=minsolDEg,D1=minsolD1,C=Cval)/(2*np.pi)"
   ]
  },
  {
   "cell_type": "code",
   "execution_count": 73,
   "id": "37e88d0e",
   "metadata": {},
   "outputs": [],
   "source": [
    "# parameter substitution \n",
    "\n",
    "phival = 1/4 * np.pi \n",
    "R_fval = 1\n",
    "gamma_fval = gamma\n",
    "gamma_gval = gamma\n",
    "DEgval = minsolDEg#*0.999\n",
    "Deg2val = 0  \n",
    "Deg1val = minsolDEg*minsolD1   #*0.99999"
   ]
  },
  {
   "cell_type": "code",
   "execution_count": 74,
   "id": "384fa48a",
   "metadata": {},
   "outputs": [],
   "source": [
    "eff_hval = eff_hamiltonian_tayl.subs(DEg=DEgval,C=Cval,phi=phival,R_f=R_fval,gamma_f=gamma_fval,gamma_g=gamma_gval,Deg2=Deg2val,Deg1= Deg1val)\n",
    "eff_hval = (eff_hval + conjugate(eff_hval))\n",
    "\n",
    "a_val = eff_hval[0,0]\n",
    "b_val = eff_hval[1,1]\n",
    "c_val = eff_hval[3,3]\n",
    "d_val = eff_hval[4,4]\n",
    "e_val = eff_hval[5,5]\n",
    "f_val = eff_hval[7,7]"
   ]
  },
  {
   "cell_type": "code",
   "execution_count": 75,
   "id": "8b19bde9",
   "metadata": {},
   "outputs": [
    {
     "name": "stdout",
     "output_type": "stream",
     "text": [
      "0\n",
      "1\n",
      "2\n",
      "3\n",
      "4\n",
      "5\n",
      "6\n",
      "7\n"
     ]
    }
   ],
   "source": [
    "U = sg.copy(eff_hval)\n",
    "\n",
    "tgval = np.pi /(a_val+e_val-b_val-d_val)\n",
    "\n",
    "t1 = (a_val-b_val)*tgval\n",
    "t2 = t1\n",
    "t3 = (a_val-d_val)*tgval\n",
    "\n",
    "R = 0*[0 , t1, t2, t1+t2, t3, t1+t3, t2+t3, t1+t2+t3 ]\n",
    "\n",
    "for i in range(8):\n",
    "    try:\n",
    "        U[i,i] = np.exp( (R[i] + (eff_hval[i,i]-a_val)*tgval ) *I )\n",
    "        print((R[i] + (eff_hval[i,i]-a_val)*tgval))\n",
    "    except:\n",
    "        print(i)\n",
    "\n",
    "\n",
    "for i in range(8):\n",
    "    U[i,i] = U[i,i]"
   ]
  },
  {
   "cell_type": "code",
   "execution_count": 76,
   "id": "a9c26775",
   "metadata": {},
   "outputs": [
    {
     "name": "stdout",
     "output_type": "stream",
     "text": [
      "symround: Deleted coefficient 1.9858e-22\n"
     ]
    },
    {
     "data": {
      "text/html": [
       "<html><script type=\"math/tex; mode=display\">\\newcommand{\\Bold}[1]{\\mathbf{#1}}\\left(\\begin{array}{rrrrrrrr}\n",
       "\\frac{0.0041601 \\, {\\Omega}^{2}}{{\\gamma}} & 0 & 0 & 0 & 0 & 0 & 0 & 0 \\\\\n",
       "0 & \\frac{0.0041601 \\, {\\Omega}^{2}}{{\\gamma}} & 0 & 0 & 0 & 0 & 0 & 0 \\\\\n",
       "0 & 0 & \\frac{0.0041601 \\, {\\Omega}^{2}}{{\\gamma}} & 0 & 0 & 0 & 0 & 0 \\\\\n",
       "0 & 0 & 0 & \\frac{0.0041601 \\, {\\Omega}^{2}}{{\\gamma}} & 0 & 0 & 0 & 0 \\\\\n",
       "0 & 0 & 0 & 0 & \\frac{0.0041601 \\, {\\Omega}^{2}}{{\\gamma}} & 0 & 0 & 0 \\\\\n",
       "0 & 0 & 0 & 0 & 0 & \\frac{0.0041601 \\, {\\Omega}^{2}}{{\\gamma}} & 0 & 0 \\\\\n",
       "0 & 0 & 0 & 0 & 0 & 0 & \\frac{0.0041601 \\, {\\Omega}^{2}}{{\\gamma}} & 0 \\\\\n",
       "0 & 0 & 0 & 0 & 0 & 0 & 0 & 0\n",
       "\\end{array}\\right)</script></html>"
      ],
      "text/latex": [
       "$$\\newcommand{\\Bold}[1]{\\mathbf{#1}}\\left(\\begin{array}{rrrrrrrr}\n",
       "\\frac{0.0041601 \\, {\\Omega}^{2}}{{\\gamma}} & 0 & 0 & 0 & 0 & 0 & 0 & 0 \\\\\n",
       "0 & \\frac{0.0041601 \\, {\\Omega}^{2}}{{\\gamma}} & 0 & 0 & 0 & 0 & 0 & 0 \\\\\n",
       "0 & 0 & \\frac{0.0041601 \\, {\\Omega}^{2}}{{\\gamma}} & 0 & 0 & 0 & 0 & 0 \\\\\n",
       "0 & 0 & 0 & \\frac{0.0041601 \\, {\\Omega}^{2}}{{\\gamma}} & 0 & 0 & 0 & 0 \\\\\n",
       "0 & 0 & 0 & 0 & \\frac{0.0041601 \\, {\\Omega}^{2}}{{\\gamma}} & 0 & 0 & 0 \\\\\n",
       "0 & 0 & 0 & 0 & 0 & \\frac{0.0041601 \\, {\\Omega}^{2}}{{\\gamma}} & 0 & 0 \\\\\n",
       "0 & 0 & 0 & 0 & 0 & 0 & \\frac{0.0041601 \\, {\\Omega}^{2}}{{\\gamma}} & 0 \\\\\n",
       "0 & 0 & 0 & 0 & 0 & 0 & 0 & 0\n",
       "\\end{array}\\right)$$"
      ],
      "text/plain": [
       "[0.0041601*Omega^2/gamma                       0                       0                       0                       0                       0                       0                       0]\n",
       "[                      0 0.0041601*Omega^2/gamma                       0                       0                       0                       0                       0                       0]\n",
       "[                      0                       0 0.0041601*Omega^2/gamma                       0                       0                       0                       0                       0]\n",
       "[                      0                       0                       0 0.0041601*Omega^2/gamma                       0                       0                       0                       0]\n",
       "[                      0                       0                       0                       0 0.0041601*Omega^2/gamma                       0                       0                       0]\n",
       "[                      0                       0                       0                       0                       0 0.0041601*Omega^2/gamma                       0                       0]\n",
       "[                      0                       0                       0                       0                       0                       0 0.0041601*Omega^2/gamma                       0]\n",
       "[                      0                       0                       0                       0                       0                       0                       0                       0]"
      ]
     },
     "metadata": {},
     "output_type": "display_data"
    }
   ],
   "source": [
    "show(symround(U,digits=5))"
   ]
  },
  {
   "cell_type": "code",
   "execution_count": 226,
   "id": "ca0be42e",
   "metadata": {},
   "outputs": [
    {
     "ename": "NameError",
     "evalue": "name 'minsolDEg' is not defined",
     "output_type": "error",
     "traceback": [
      "\u001b[0;31m---------------------------------------------------------------------------\u001b[0m",
      "\u001b[0;31mNameError\u001b[0m                                 Traceback (most recent call last)",
      "\u001b[0;32m<ipython-input-226-d1f61a079d76>\u001b[0m in \u001b[0;36m<module>\u001b[0;34m\u001b[0m\n\u001b[1;32m      9\u001b[0m \u001b[0mgamma_fval\u001b[0m \u001b[0;34m=\u001b[0m \u001b[0mgammaval\u001b[0m\u001b[0;34m\u001b[0m\u001b[0;34m\u001b[0m\u001b[0m\n\u001b[1;32m     10\u001b[0m \u001b[0mgamma_gval\u001b[0m \u001b[0;34m=\u001b[0m \u001b[0mgammaval\u001b[0m\u001b[0;34m\u001b[0m\u001b[0;34m\u001b[0m\u001b[0m\n\u001b[0;32m---> 11\u001b[0;31m \u001b[0mDEgval\u001b[0m \u001b[0;34m=\u001b[0m \u001b[0mminsolDEg\u001b[0m\u001b[0;31m#*0.999\u001b[0m\u001b[0;34m\u001b[0m\u001b[0;34m\u001b[0m\u001b[0m\n\u001b[0m\u001b[1;32m     12\u001b[0m \u001b[0mDeg2val\u001b[0m \u001b[0;34m=\u001b[0m \u001b[0mInteger\u001b[0m\u001b[0;34m(\u001b[0m\u001b[0;36m0\u001b[0m\u001b[0;34m)\u001b[0m\u001b[0;34m\u001b[0m\u001b[0;34m\u001b[0m\u001b[0m\n\u001b[1;32m     13\u001b[0m \u001b[0mDeg1val\u001b[0m \u001b[0;34m=\u001b[0m \u001b[0mminsolDEg\u001b[0m\u001b[0;34m*\u001b[0m\u001b[0mminsolD1\u001b[0m   \u001b[0;31m#*0.99999\u001b[0m\u001b[0;34m\u001b[0m\u001b[0;34m\u001b[0m\u001b[0m\n",
      "\u001b[0;31mNameError\u001b[0m: name 'minsolDEg' is not defined"
     ]
    }
   ],
   "source": [
    "mx = -100   #maximum value of exponent\n",
    "m = 1       #exponent of detunings\n",
    "\n",
    "phival = 1/4* np.pi \n",
    "R_fval = 1\n",
    "gammaval = 0.01\n",
    "kappa_cval = 1\n",
    "kappa_bval = 0.9\n",
    "gamma_fval = gammaval\n",
    "gamma_gval = gammaval\n",
    "DEgval = minsolDEg#*0.999\n",
    "Deg2val = 0 \n",
    "Deg1val = minsolDEg*minsolD1   #*0.99999\n",
    "\n",
    "for lindop in range(13):\n",
    "    show(lindop,eff_lind_coeff[lindop]  )\n",
    "    pos = 0\n",
    "    more = True\n",
    "    while(more):\n",
    "        try: \n",
    "            err = eff_lind[lindop][pos].subs(kappa_c=kappa_cval,kappa_b=kappa_bval,Omega=1, R_f=R_fval,Deg1=Deg1val*C^m,Deg2=Deg2val*C^m,DEg=DEgval*C^m,gamma_g=gamma_gval,gamma=gammaval,gamma_f=gamma_fval, phi=phival)\n",
    "            err = err._mathematica_().Together()._sage_() \n",
    "            exp = obtain_expr_exp(err)\n",
    "            if exp > mx:\n",
    "                mx = exp\n",
    "            pos += 1\n",
    "            print(exp)\n",
    "        except IndexError:\n",
    "            more = False"
   ]
  },
  {
   "cell_type": "code",
   "execution_count": 59,
   "id": "50f928f5",
   "metadata": {},
   "outputs": [],
   "source": [
    "a = eff_hamiltonian_tayl[0,0]\n",
    "#a = symround( MMA_simplify(a,full=False) ,digits = 14)\n",
    "b = eff_hamiltonian_tayl[1,1]\n",
    "#b = symround(MMA_simplify(b,full=False),digits = 14)\n",
    "c = eff_hamiltonian_tayl[3,3]\n",
    "#c = symround(MMA_simplify(c,full=False),digits = 14)\n",
    "d = eff_hamiltonian_tayl[4,4]\n",
    "#d = symround(MMA_simplify(d,full=False),digits = 14)\n",
    "e = eff_hamiltonian_tayl[5,5]\n",
    "#e = symround(MMA_simplify(e,full=False),digits = 14)\n",
    "f = eff_hamiltonian_tayl[7,7]\n",
    "#f = symround(MMA_simplify(f,full=False),digits = 14)"
   ]
  },
  {
   "cell_type": "code",
   "execution_count": 58,
   "id": "763382a6",
   "metadata": {},
   "outputs": [
    {
     "name": "stdout",
     "output_type": "stream",
     "text": [
      "symround: Deleted coefficient 3.3e-16\n",
      "symround: Deleted coefficient -4.2e-18\n",
      "symround: Deleted coefficient 5.3e-16\n",
      "symround: Deleted coefficient -3.5e-16\n",
      "symround: Deleted coefficient 2.7e-17\n",
      "symround: Deleted coefficient 1.1e-19\n",
      "symround: Deleted coefficient -1.0e-16\n",
      "symround: Deleted coefficient 1.7e-16\n",
      "symround: Deleted coefficient 7.5e-17\n",
      "symround: Deleted coefficient -3.1e-18\n",
      "symround: Deleted coefficient 1.9e-18\n",
      "symround: Deleted coefficient 1.3e-16\n",
      "symround: Deleted coefficient 6.2e-33\n",
      "symround: Deleted coefficient 2.4e-17\n",
      "symround: Deleted coefficient 1.9e-34\n",
      "symround: Deleted coefficient 1.9e-34\n",
      "symround: Deleted coefficient 1.1e-19\n",
      "symround: Deleted coefficient 8.3e-18\n",
      "symround: Deleted coefficient 2.1e-17\n",
      "symround: Deleted coefficient 4.4e-17\n",
      "symround: Deleted coefficient -7.7e-34\n",
      "symround: Deleted coefficient -7.8e-19\n",
      "symround: Deleted coefficient 1.4e-18\n",
      "symround: Deleted coefficient -1.8e-35\n",
      "symround: Deleted coefficient 2.2e-17\n",
      "symround: Deleted coefficient 7.2e-18\n",
      "symround: Deleted coefficient -4.8e-35\n",
      "symround: Deleted coefficient 9.6e-35\n",
      "symround: Deleted coefficient 4.1e-20\n",
      "symround: Deleted coefficient 6.4e-18\n",
      "symround: Deleted coefficient -6.5e-20\n",
      "symround: Deleted coefficient 3.6e-19\n",
      "symround: Deleted coefficient -4.5e-36\n",
      "symround: Deleted coefficient 6.9e-19\n",
      "symround: Deleted coefficient 6.8e-21\n",
      "symround: Deleted coefficient 3.0e-20\n",
      "symround: Deleted coefficient 4.2e-22\n",
      "symround: Deleted coefficient 6.7e-17\n",
      "symround: Deleted coefficient -1.0e-16\n",
      "symround: Deleted coefficient -3.5e-18\n",
      "symround: Deleted coefficient -5.0e-17\n",
      "symround: Deleted coefficient 6.9e-18\n",
      "symround: Deleted coefficient 8.3e-18\n",
      "symround: Deleted coefficient 5.2e-18\n",
      "symround: Deleted coefficient -1.7e-18\n",
      "symround: Deleted coefficient -2.2e-19\n",
      "symround: Deleted coefficient -6.7e-17\n",
      "symround: Deleted coefficient -1.0e-16\n",
      "symround: Deleted coefficient 3.5e-18\n",
      "symround: Deleted coefficient 5.0e-17\n",
      "symround: Deleted coefficient 6.9e-18\n",
      "symround: Deleted coefficient 8.3e-18\n",
      "symround: Deleted coefficient -5.2e-18\n",
      "symround: Deleted coefficient -1.7e-18\n",
      "symround: Deleted coefficient 2.2e-19\n"
     ]
    },
    {
     "data": {
      "text/html": [
       "<html><script type=\"math/tex; mode=display\">\\newcommand{\\Bold}[1]{\\mathbf{#1}}\\frac{{\\left({\\left(-0.00098 \\, {\\tilde{\\delta }_c}^{6} + {\\left(C {\\left(-0.070 \\, C - 0.012\\right)} - 0.00073\\right)} {\\tilde{\\delta }_c}^{4} + {\\left({\\left({\\left(C {\\left(-1.1 \\, C - 0.44\\right)} - 0.074\\right)} C - 0.0059\\right)} C - 0.00018\\right)} {\\tilde{\\delta }_c}^{2} - {\\left({\\left({\\left({\\left({\\left(4 \\, C + 2.5\\right)} C + 0.78\\right)} C + 0.14\\right)} C + 0.014\\right)} C + 0.00073\\right)} C - 0.000015\\right)} C {\\tilde{\\delta }_c} + {\\left(0.00098 \\, {\\tilde{\\delta }_c}^{8} + {\\left(C {\\left(0.094 \\, C + 0.016\\right)} + 0.00098\\right)} {\\tilde{\\delta }_c}^{6} + {\\left({\\left({\\left({\\left(2.2 \\, C + 0.88\\right)} C + 0.15\\right)} C + 0.012\\right)} C + 0.00037\\right)} {\\tilde{\\delta }_c}^{4} + {\\left({\\left({\\left({\\left({\\left(2 \\, {\\left(8 \\, C + 5\\right)} C + 3.1\\right)} C + 0.56\\right)} C + 0.057\\right)} C + 0.0029\\right)} C + 0.000061\\right)} {\\tilde{\\delta }_c}^{2} + {\\left({\\left({\\left({\\left({\\left(4 \\, C + 2.5\\right)} C + 0.64\\right)} C + 0.086\\right)} C + 0.0063\\right)} C + 0.00024\\right)} C + 3.8 \\times 10^{-6}\\right)} {{{\\Delta E}}^\\gamma}\\right)} {\\Omega}^{2}}{{\\left({\\left({\\left(4 \\, {{{\\Delta E}}^\\gamma} + 5.2i\\right)} {\\tilde{\\delta }_c} + 2 i \\, {{{\\Delta E}}^\\gamma} - 2.6\\right)} C^{3} - C^{4} - {\\left({\\left({\\left(2.5i \\, {{{\\Delta E}}^\\gamma} - 2.9\\right)} {\\tilde{\\delta }_c} - 2.5 \\, {{{\\Delta E}}^\\gamma} - 2.9i\\right)} {\\tilde{\\delta }_c} - 0.62i \\, {{{\\Delta E}}^\\gamma} + 0.72\\right)} C^{2} - {\\left({\\left({\\left({\\left(0.50 \\, {{{\\Delta E}}^\\gamma} + 0.53i\\right)} {\\tilde{\\delta }_c} + 0.75i \\, {{{\\Delta E}}^\\gamma} - 0.80\\right)} {\\tilde{\\delta }_c} - 0.38 \\, {{{\\Delta E}}^\\gamma} - 0.40i\\right)} {\\tilde{\\delta }_c} - 0.062i \\, {{{\\Delta E}}^\\gamma} + 0.066\\right)} C - {\\left({\\left({\\left({\\left(-0.031i \\, {{{\\Delta E}}^\\gamma} + 0.031\\right)} {\\tilde{\\delta }_c} + 0.062 \\, {{{\\Delta E}}^\\gamma} + 0.062i\\right)} {\\tilde{\\delta }_c} + 0.047i \\, {{{\\Delta E}}^\\gamma} - 0.047\\right)} {\\tilde{\\delta }_c} - 0.016 \\, {{{\\Delta E}}^\\gamma} - 0.016i\\right)} {\\tilde{\\delta }_c} + 0.0020i \\, {{{\\Delta E}}^\\gamma} - 0.0020\\right)} {\\left({\\left({\\left(4 \\, {{{\\Delta E}}^\\gamma} - 5.2i\\right)} {\\tilde{\\delta }_c} - 2 i \\, {{{\\Delta E}}^\\gamma} - 2.6\\right)} C^{3} - C^{4} - {\\left({\\left({\\left(-2.5i \\, {{{\\Delta E}}^\\gamma} - 2.9\\right)} {\\tilde{\\delta }_c} - 2.5 \\, {{{\\Delta E}}^\\gamma} + 2.9i\\right)} {\\tilde{\\delta }_c} + 0.62i \\, {{{\\Delta E}}^\\gamma} + 0.72\\right)} C^{2} - {\\left({\\left({\\left({\\left(0.50 \\, {{{\\Delta E}}^\\gamma} - 0.53i\\right)} {\\tilde{\\delta }_c} - 0.75i \\, {{{\\Delta E}}^\\gamma} - 0.80\\right)} {\\tilde{\\delta }_c} - 0.38 \\, {{{\\Delta E}}^\\gamma} + 0.40i\\right)} {\\tilde{\\delta }_c} + 0.062i \\, {{{\\Delta E}}^\\gamma} + 0.066\\right)} C - {\\left({\\left({\\left({\\left(0.031i \\, {{{\\Delta E}}^\\gamma} + 0.031\\right)} {\\tilde{\\delta }_c} + 0.062 \\, {{{\\Delta E}}^\\gamma} - 0.062i\\right)} {\\tilde{\\delta }_c} - 0.047i \\, {{{\\Delta E}}^\\gamma} - 0.047\\right)} {\\tilde{\\delta }_c} - 0.016 \\, {{{\\Delta E}}^\\gamma} + 0.016i\\right)} {\\tilde{\\delta }_c} - 0.0020i \\, {{{\\Delta E}}^\\gamma} - 0.0020\\right)} {\\gamma}}</script></html>"
      ],
      "text/latex": [
       "$$\\newcommand{\\Bold}[1]{\\mathbf{#1}}\\frac{{\\left({\\left(-0.00098 \\, {\\tilde{\\delta }_c}^{6} + {\\left(C {\\left(-0.070 \\, C - 0.012\\right)} - 0.00073\\right)} {\\tilde{\\delta }_c}^{4} + {\\left({\\left({\\left(C {\\left(-1.1 \\, C - 0.44\\right)} - 0.074\\right)} C - 0.0059\\right)} C - 0.00018\\right)} {\\tilde{\\delta }_c}^{2} - {\\left({\\left({\\left({\\left({\\left(4 \\, C + 2.5\\right)} C + 0.78\\right)} C + 0.14\\right)} C + 0.014\\right)} C + 0.00073\\right)} C - 0.000015\\right)} C {\\tilde{\\delta }_c} + {\\left(0.00098 \\, {\\tilde{\\delta }_c}^{8} + {\\left(C {\\left(0.094 \\, C + 0.016\\right)} + 0.00098\\right)} {\\tilde{\\delta }_c}^{6} + {\\left({\\left({\\left({\\left(2.2 \\, C + 0.88\\right)} C + 0.15\\right)} C + 0.012\\right)} C + 0.00037\\right)} {\\tilde{\\delta }_c}^{4} + {\\left({\\left({\\left({\\left({\\left(2 \\, {\\left(8 \\, C + 5\\right)} C + 3.1\\right)} C + 0.56\\right)} C + 0.057\\right)} C + 0.0029\\right)} C + 0.000061\\right)} {\\tilde{\\delta }_c}^{2} + {\\left({\\left({\\left({\\left({\\left(4 \\, C + 2.5\\right)} C + 0.64\\right)} C + 0.086\\right)} C + 0.0063\\right)} C + 0.00024\\right)} C + 3.8 \\times 10^{-6}\\right)} {{{\\Delta E}}^\\gamma}\\right)} {\\Omega}^{2}}{{\\left({\\left({\\left(4 \\, {{{\\Delta E}}^\\gamma} + 5.2i\\right)} {\\tilde{\\delta }_c} + 2 i \\, {{{\\Delta E}}^\\gamma} - 2.6\\right)} C^{3} - C^{4} - {\\left({\\left({\\left(2.5i \\, {{{\\Delta E}}^\\gamma} - 2.9\\right)} {\\tilde{\\delta }_c} - 2.5 \\, {{{\\Delta E}}^\\gamma} - 2.9i\\right)} {\\tilde{\\delta }_c} - 0.62i \\, {{{\\Delta E}}^\\gamma} + 0.72\\right)} C^{2} - {\\left({\\left({\\left({\\left(0.50 \\, {{{\\Delta E}}^\\gamma} + 0.53i\\right)} {\\tilde{\\delta }_c} + 0.75i \\, {{{\\Delta E}}^\\gamma} - 0.80\\right)} {\\tilde{\\delta }_c} - 0.38 \\, {{{\\Delta E}}^\\gamma} - 0.40i\\right)} {\\tilde{\\delta }_c} - 0.062i \\, {{{\\Delta E}}^\\gamma} + 0.066\\right)} C - {\\left({\\left({\\left({\\left(-0.031i \\, {{{\\Delta E}}^\\gamma} + 0.031\\right)} {\\tilde{\\delta }_c} + 0.062 \\, {{{\\Delta E}}^\\gamma} + 0.062i\\right)} {\\tilde{\\delta }_c} + 0.047i \\, {{{\\Delta E}}^\\gamma} - 0.047\\right)} {\\tilde{\\delta }_c} - 0.016 \\, {{{\\Delta E}}^\\gamma} - 0.016i\\right)} {\\tilde{\\delta }_c} + 0.0020i \\, {{{\\Delta E}}^\\gamma} - 0.0020\\right)} {\\left({\\left({\\left(4 \\, {{{\\Delta E}}^\\gamma} - 5.2i\\right)} {\\tilde{\\delta }_c} - 2 i \\, {{{\\Delta E}}^\\gamma} - 2.6\\right)} C^{3} - C^{4} - {\\left({\\left({\\left(-2.5i \\, {{{\\Delta E}}^\\gamma} - 2.9\\right)} {\\tilde{\\delta }_c} - 2.5 \\, {{{\\Delta E}}^\\gamma} + 2.9i\\right)} {\\tilde{\\delta }_c} + 0.62i \\, {{{\\Delta E}}^\\gamma} + 0.72\\right)} C^{2} - {\\left({\\left({\\left({\\left(0.50 \\, {{{\\Delta E}}^\\gamma} - 0.53i\\right)} {\\tilde{\\delta }_c} - 0.75i \\, {{{\\Delta E}}^\\gamma} - 0.80\\right)} {\\tilde{\\delta }_c} - 0.38 \\, {{{\\Delta E}}^\\gamma} + 0.40i\\right)} {\\tilde{\\delta }_c} + 0.062i \\, {{{\\Delta E}}^\\gamma} + 0.066\\right)} C - {\\left({\\left({\\left({\\left(0.031i \\, {{{\\Delta E}}^\\gamma} + 0.031\\right)} {\\tilde{\\delta }_c} + 0.062 \\, {{{\\Delta E}}^\\gamma} - 0.062i\\right)} {\\tilde{\\delta }_c} - 0.047i \\, {{{\\Delta E}}^\\gamma} - 0.047\\right)} {\\tilde{\\delta }_c} - 0.016 \\, {{{\\Delta E}}^\\gamma} + 0.016i\\right)} {\\tilde{\\delta }_c} - 0.0020i \\, {{{\\Delta E}}^\\gamma} - 0.0020\\right)} {\\gamma}}$$"
      ],
      "text/plain": [
       "((-0.00098*dct^6 + (C*(-0.070*C - 0.012) - 0.00073)*dct^4 + (((C*(-1.1*C - 0.44) - 0.074)*C - 0.0059)*C - 0.00018)*dct^2 - (((((4*C + 2.5)*C + 0.78)*C + 0.14)*C + 0.014)*C + 0.00073)*C - 0.000015)*C*dct + (0.00098*dct^8 + (C*(0.094*C + 0.016) + 0.00098)*dct^6 + ((((2.2*C + 0.88)*C + 0.15)*C + 0.012)*C + 0.00037)*dct^4 + (((((2*(8*C + 5)*C + 3.1)*C + 0.56)*C + 0.057)*C + 0.0029)*C + 0.000061)*dct^2 + (((((4*C + 2.5)*C + 0.64)*C + 0.086)*C + 0.0063)*C + 0.00024)*C + 3.8e-6)*DEg)*Omega^2/((((4*DEg + 5.2*I)*dct + 2*I*DEg - 2.6)*C^3 - C^4 - (((2.5*I*DEg - 2.9)*dct - 2.5*DEg - 2.9*I)*dct - 0.62*I*DEg + 0.72)*C^2 - ((((0.50*DEg + 0.53*I)*dct + 0.75*I*DEg - 0.80)*dct - 0.38*DEg - 0.40*I)*dct - 0.062*I*DEg + 0.066)*C - ((((-0.031*I*DEg + 0.031)*dct + 0.062*DEg + 0.062*I)*dct + 0.047*I*DEg - 0.047)*dct - 0.016*DEg - 0.016*I)*dct + 0.0020*I*DEg - 0.0020)*(((4*DEg - 5.2*I)*dct - 2*I*DEg - 2.6)*C^3 - C^4 - (((-2.5*I*DEg - 2.9)*dct - 2.5*DEg + 2.9*I)*dct + 0.62*I*DEg + 0.72)*C^2 - ((((0.50*DEg - 0.53*I)*dct - 0.75*I*DEg - 0.80)*dct - 0.38*DEg + 0.40*I)*dct + 0.062*I*DEg + 0.066)*C - ((((0.031*I*DEg + 0.031)*dct + 0.062*DEg - 0.062*I)*dct - 0.047*I*DEg - 0.047)*dct - 0.016*DEg + 0.016*I)*dct - 0.0020*I*DEg - 0.0020)*gamma)"
      ]
     },
     "metadata": {},
     "output_type": "display_data"
    }
   ],
   "source": [
    "show(symround((MMA_simplify(symround(a),full=True))))"
   ]
  },
  {
   "cell_type": "code",
   "execution_count": 64,
   "id": "e1c3b990",
   "metadata": {},
   "outputs": [
    {
     "data": {
      "text/html": [
       "<html><script type=\"math/tex; mode=display\">\\newcommand{\\Bold}[1]{\\mathbf{#1}}\\frac{{\\Omega}^{2}}{{{{\\Delta E}}^\\gamma} {\\gamma}}</script></html>"
      ],
      "text/latex": [
       "$$\\newcommand{\\Bold}[1]{\\mathbf{#1}}\\frac{{\\Omega}^{2}}{{{{\\Delta E}}^\\gamma} {\\gamma}}$$"
      ],
      "text/plain": [
       "Omega^2/(DEg*gamma)"
      ]
     },
     "metadata": {},
     "output_type": "display_data"
    }
   ],
   "source": [
    "show(symround(a))"
   ]
  },
  {
   "cell_type": "code",
   "execution_count": 68,
   "id": "79aa7690",
   "metadata": {},
   "outputs": [
    {
     "data": {
      "text/html": [
       "<html><script type=\"math/tex; mode=display\">\\newcommand{\\Bold}[1]{\\mathbf{#1}}\\frac{{\\left({\\left({{{\\Delta e}}_{{  2}}^\\gamma}^{4} + 0.81 \\, {{{\\Delta e}}_{{  2}}^\\gamma}^{2} + 0.14\\right)}^{2} {\\left({\\left({{{\\Delta e}}_{{  2}}^\\gamma}^{2} + 2.8\\right)} {{{\\Delta e}}_{{  1}}^\\gamma}^{2} + 2.4 \\, {{{\\Delta e}}_{{  2}}^\\gamma}^{2} + 2\\right)} {{{\\Delta E}}^\\gamma}^{5} + {\\left({\\left({{{\\Delta e}}_{{  2}}^\\gamma}^{2} + 0.56\\right)}^{2} {\\left({{{\\Delta e}}_{{  2}}^\\gamma}^{2} + 0.25\\right)}^{3} {{{\\Delta e}}_{{  1}}^\\gamma} + 2 \\, {\\left({{{\\Delta e}}_{{  2}}^\\gamma}^{4} + 0.81 \\, {{{\\Delta e}}_{{  2}}^\\gamma}^{2} + 0.14\\right)}^{2} {{{\\Delta e}}_{{  1}}^\\gamma}^{2} {{{\\Delta e}}_{{  2}}^\\gamma} + 1.1 \\, {\\left({{{\\Delta e}}_{{  2}}^\\gamma}^{4} + 0.81 \\, {{{\\Delta e}}_{{  2}}^\\gamma}^{2} + 0.14\\right)}^{2} {{{\\Delta e}}_{{  2}}^\\gamma}\\right)} {{{\\Delta E}}^\\gamma}^{6} + 2 \\, {\\left({{{\\Delta e}}_{{  2}}^\\gamma}^{4} + 0.81 \\, {{{\\Delta e}}_{{  2}}^\\gamma}^{2} + 0.14\\right)}^{2} {\\left({\\left({{{\\Delta e}}_{{  2}}^\\gamma}^{2} + 2.8\\right)} {{{\\Delta e}}_{{  1}}^\\gamma}^{2} + 2.4 \\, {{{\\Delta e}}_{{  2}}^\\gamma}^{2} + 2.0\\right)} {{{\\Delta E}}^\\gamma}^{3} - 1.6 \\, {\\left({{{\\Delta e}}_{{  2}}^\\gamma}^{2} + 0.56\\right)}^{2} {\\left({{{\\Delta e}}_{{  2}}^\\gamma}^{2} + 0.25\\right)}^{3} {{{\\Delta e}}_{{  1}}^\\gamma} + {\\left(0.44 \\, {\\left({{{\\Delta e}}_{{  2}}^\\gamma}^{2} + 0.56\\right)}^{2} {\\left({{{\\Delta e}}_{{  2}}^\\gamma}^{2} + 0.25\\right)}^{3} {{{\\Delta e}}_{{  1}}^\\gamma} + 0.88 \\, {\\left({{{\\Delta e}}_{{  2}}^\\gamma}^{4} + 0.81 \\, {{{\\Delta e}}_{{  2}}^\\gamma}^{2} + 0.14\\right)}^{2} {{{\\Delta e}}_{{  1}}^\\gamma}^{2} {{{\\Delta e}}_{{  2}}^\\gamma} + 0.49 \\, {\\left({{{\\Delta e}}_{{  2}}^\\gamma}^{4} + 0.81 \\, {{{\\Delta e}}_{{  2}}^\\gamma}^{2} + 0.14\\right)}^{2} {{{\\Delta e}}_{{  2}}^\\gamma}\\right)} {{{\\Delta E}}^\\gamma}^{4} - 3.1 \\, {\\left({{{\\Delta e}}_{{  2}}^\\gamma}^{4} + 0.81 \\, {{{\\Delta e}}_{{  2}}^\\gamma}^{2} + 0.14\\right)}^{2} {{{\\Delta e}}_{{  1}}^\\gamma}^{2} {{{\\Delta e}}_{{  2}}^\\gamma} + {\\left({{{\\Delta e}}_{{  2}}^\\gamma}^{4} + 0.81 \\, {{{\\Delta e}}_{{  2}}^\\gamma}^{2} + 0.14\\right)}^{2} {\\left({\\left({{{\\Delta e}}_{{  2}}^\\gamma}^{2} + 2.8\\right)} {{{\\Delta e}}_{{  1}}^\\gamma}^{2} + 2.4 \\, {{{\\Delta e}}_{{  2}}^\\gamma}^{2} + 2\\right)} {{{\\Delta E}}^\\gamma} + {\\left(-2.1 \\, {\\left({{{\\Delta e}}_{{  2}}^\\gamma}^{2} + 0.56\\right)}^{2} {\\left({{{\\Delta e}}_{{  2}}^\\gamma}^{2} + 0.25\\right)}^{3} {{{\\Delta e}}_{{  1}}^\\gamma} - 4.2 \\, {\\left({{{\\Delta e}}_{{  2}}^\\gamma}^{4} + 0.81 \\, {{{\\Delta e}}_{{  2}}^\\gamma}^{2} + 0.14\\right)}^{2} {{{\\Delta e}}_{{  1}}^\\gamma}^{2} {{{\\Delta e}}_{{  2}}^\\gamma} - 2.4 \\, {\\left({{{\\Delta e}}_{{  2}}^\\gamma}^{4} + 0.81 \\, {{{\\Delta e}}_{{  2}}^\\gamma}^{2} + 0.14\\right)}^{2} {{{\\Delta e}}_{{  2}}^\\gamma}\\right)} {{{\\Delta E}}^\\gamma}^{2} - 1.8 \\, {\\left({{{\\Delta e}}_{{  2}}^\\gamma}^{4} + 0.81 \\, {{{\\Delta e}}_{{  2}}^\\gamma}^{2} + 0.14\\right)}^{2} {{{\\Delta e}}_{{  2}}^\\gamma}\\right)} {\\Omega}^{2}}{{\\left(6.2 \\, {{{\\Delta e}}_{{  2}}^\\gamma}^{8} + {\\left({{{\\Delta e}}_{{  2}}^\\gamma}^{8} + 5.4 \\, {{{\\Delta e}}_{{  2}}^\\gamma}^{6} + 6.1 \\, {{{\\Delta e}}_{{  2}}^\\gamma}^{4} + {\\left(4 \\, {{{\\Delta e}}_{{  2}}^\\gamma}^{6} + 5.5 \\, {{{\\Delta e}}_{{  2}}^\\gamma}^{4} + 2.4 \\, {{{\\Delta e}}_{{  2}}^\\gamma}^{2} + 0.32\\right)} {{{\\Delta e}}_{{  1}}^\\gamma}^{2} + {\\left(4 \\, {{{\\Delta e}}_{{  2}}^\\gamma}^{6} + 5.5 \\, {{{\\Delta e}}_{{  2}}^\\gamma}^{4} + 2.4 \\, {{{\\Delta e}}_{{  2}}^\\gamma}^{2} + 0.32\\right)} {{{\\Delta e}}_{{  1}}^\\gamma} {{{\\Delta e}}_{{  2}}^\\gamma} + 2.5 \\, {{{\\Delta e}}_{{  2}}^\\gamma}^{2} + 0.32\\right)} {{{\\Delta E}}^\\gamma}^{6} + {\\left(2.2 \\, {{{\\Delta e}}_{{  2}}^\\gamma}^{7} + 3.1 \\, {{{\\Delta e}}_{{  2}}^\\gamma}^{5} + {\\left(4 \\, {{{\\Delta e}}_{{  2}}^\\gamma}^{6} + 5.5 \\, {{{\\Delta e}}_{{  2}}^\\gamma}^{4} + 2.4 \\, {{{\\Delta e}}_{{  2}}^\\gamma}^{2} + 0.32\\right)} {{{\\Delta e}}_{{  1}}^\\gamma}^{2} {{{\\Delta e}}_{{  2}}^\\gamma} + 2 \\, {\\left({{{\\Delta e}}_{{  2}}^\\gamma}^{4} + 0.81 \\, {{{\\Delta e}}_{{  2}}^\\gamma}^{2} + 0.14\\right)}^{2} {{{\\Delta e}}_{{  1}}^\\gamma} + 1.3 \\, {{{\\Delta e}}_{{  2}}^\\gamma}^{3} + 0.18 \\, {{{\\Delta e}}_{{  2}}^\\gamma}\\right)} {{{\\Delta E}}^\\gamma}^{5} + 22. \\, {{{\\Delta e}}_{{  2}}^\\gamma}^{6} + {\\left(6.6 \\, {{{\\Delta e}}_{{  2}}^\\gamma}^{8} + 28. \\, {{{\\Delta e}}_{{  2}}^\\gamma}^{6} + 30. \\, {{{\\Delta e}}_{{  2}}^\\gamma}^{4} + {\\left({{{\\Delta e}}_{{  2}}^\\gamma}^{8} + 20. \\, {{{\\Delta e}}_{{  2}}^\\gamma}^{6} + 27 \\, {{{\\Delta e}}_{{  2}}^\\gamma}^{4} + 12. \\, {{{\\Delta e}}_{{  2}}^\\gamma}^{2} + 1.5\\right)} {{{\\Delta e}}_{{  1}}^\\gamma}^{2} + {\\left(16. \\, {{{\\Delta e}}_{{  2}}^\\gamma}^{6} + 23. \\, {{{\\Delta e}}_{{  2}}^\\gamma}^{4} + 9.9 \\, {{{\\Delta e}}_{{  2}}^\\gamma}^{2} + 1.3\\right)} {{{\\Delta e}}_{{  1}}^\\gamma} {{{\\Delta e}}_{{  2}}^\\gamma} + 12. \\, {{{\\Delta e}}_{{  2}}^\\gamma}^{2} + 1.5\\right)} {{{\\Delta E}}^\\gamma}^{4} + {\\left(5.8 \\, {{{\\Delta e}}_{{  2}}^\\gamma}^{6} + {\\left(5.1 \\, {{{\\Delta e}}_{{  2}}^\\gamma}^{4} + 5.8 \\, {{{\\Delta e}}_{{  2}}^\\gamma}^{2} + 1.6\\right)} {{{\\Delta e}}_{{  1}}^\\gamma} {{{\\Delta e}}_{{  2}}^\\gamma}^{3} + 7.9 \\, {{{\\Delta e}}_{{  2}}^\\gamma}^{4} + {\\left(10. \\, {{{\\Delta e}}_{{  2}}^\\gamma}^{6} + 14. \\, {{{\\Delta e}}_{{  2}}^\\gamma}^{4} + 6.1 \\, {{{\\Delta e}}_{{  2}}^\\gamma}^{2} + 0.81\\right)} {{{\\Delta e}}_{{  1}}^\\gamma}^{2} + 3.4 \\, {{{\\Delta e}}_{{  2}}^\\gamma}^{2} + 0.46\\right)} {{{\\Delta E}}^\\gamma}^{3} {{{\\Delta e}}_{{  2}}^\\gamma} + 22. \\, {{{\\Delta e}}_{{  2}}^\\gamma}^{4} + {\\left(12. \\, {{{\\Delta e}}_{{  2}}^\\gamma}^{8} + 44. \\, {{{\\Delta e}}_{{  2}}^\\gamma}^{6} + 45 \\, {{{\\Delta e}}_{{  2}}^\\gamma}^{4} + {\\left(2.6 \\, {{{\\Delta e}}_{{  2}}^\\gamma}^{8} + 33 \\, {{{\\Delta e}}_{{  2}}^\\gamma}^{6} + 42 \\, {{{\\Delta e}}_{{  2}}^\\gamma}^{4} + 18. \\, {{{\\Delta e}}_{{  2}}^\\gamma}^{2} + 2.3\\right)} {{{\\Delta e}}_{{  1}}^\\gamma}^{2} + {\\left(22. \\, {{{\\Delta e}}_{{  2}}^\\gamma}^{6} + 30. \\, {{{\\Delta e}}_{{  2}}^\\gamma}^{4} + 13. \\, {{{\\Delta e}}_{{  2}}^\\gamma}^{2} + 1.8\\right)} {{{\\Delta e}}_{{  1}}^\\gamma} {{{\\Delta e}}_{{  2}}^\\gamma} + 17. \\, {{{\\Delta e}}_{{  2}}^\\gamma}^{2} + 2.2\\right)} {{{\\Delta E}}^\\gamma}^{2} + {\\left(1.6 \\, {{{\\Delta e}}_{{  2}}^\\gamma}^{8} + 16. \\, {{{\\Delta e}}_{{  2}}^\\gamma}^{6} + 20. \\, {{{\\Delta e}}_{{  2}}^\\gamma}^{4} + 8.5 \\, {{{\\Delta e}}_{{  2}}^\\gamma}^{2} + 1.1\\right)} {{{\\Delta e}}_{{  1}}^\\gamma}^{2} + {\\left(9.8 \\, {{{\\Delta e}}_{{  2}}^\\gamma}^{6} + 13. \\, {{{\\Delta e}}_{{  2}}^\\gamma}^{4} + 5.8 \\, {{{\\Delta e}}_{{  2}}^\\gamma}^{2} + 0.77\\right)} {{{\\Delta e}}_{{  1}}^\\gamma} {{{\\Delta e}}_{{  2}}^\\gamma} + {\\left(3.5 \\, {{{\\Delta e}}_{{  2}}^\\gamma}^{7} + 4.8 \\, {{{\\Delta e}}_{{  2}}^\\gamma}^{5} + {\\left(6.2 \\, {{{\\Delta e}}_{{  2}}^\\gamma}^{6} + 8.6 \\, {{{\\Delta e}}_{{  2}}^\\gamma}^{4} + 3.8 \\, {{{\\Delta e}}_{{  2}}^\\gamma}^{2} + 0.50\\right)} {{{\\Delta e}}_{{  1}}^\\gamma}^{2} {{{\\Delta e}}_{{  2}}^\\gamma} + 3.1 \\, {\\left({{{\\Delta e}}_{{  2}}^\\gamma}^{4} + 0.81 \\, {{{\\Delta e}}_{{  2}}^\\gamma}^{2} + 0.14\\right)}^{2} {{{\\Delta e}}_{{  1}}^\\gamma} + 2.1 \\, {{{\\Delta e}}_{{  2}}^\\gamma}^{3} + 0.28 \\, {{{\\Delta e}}_{{  2}}^\\gamma}\\right)} {{{\\Delta E}}^\\gamma} + 8.2 \\, {{{\\Delta e}}_{{  2}}^\\gamma}^{2} + 1.0\\right)} {\\left({{{\\Delta E}}^\\gamma} + i\\right)} {\\left({{{\\Delta E}}^\\gamma} - i\\right)} {\\left({{{\\Delta e}}_{{  2}}^\\gamma} + 0.50i\\right)} {\\left({{{\\Delta e}}_{{  2}}^\\gamma} - 0.50i\\right)} {\\gamma}}</script></html>"
      ],
      "text/latex": [
       "$$\\newcommand{\\Bold}[1]{\\mathbf{#1}}\\frac{{\\left({\\left({{{\\Delta e}}_{{  2}}^\\gamma}^{4} + 0.81 \\, {{{\\Delta e}}_{{  2}}^\\gamma}^{2} + 0.14\\right)}^{2} {\\left({\\left({{{\\Delta e}}_{{  2}}^\\gamma}^{2} + 2.8\\right)} {{{\\Delta e}}_{{  1}}^\\gamma}^{2} + 2.4 \\, {{{\\Delta e}}_{{  2}}^\\gamma}^{2} + 2\\right)} {{{\\Delta E}}^\\gamma}^{5} + {\\left({\\left({{{\\Delta e}}_{{  2}}^\\gamma}^{2} + 0.56\\right)}^{2} {\\left({{{\\Delta e}}_{{  2}}^\\gamma}^{2} + 0.25\\right)}^{3} {{{\\Delta e}}_{{  1}}^\\gamma} + 2 \\, {\\left({{{\\Delta e}}_{{  2}}^\\gamma}^{4} + 0.81 \\, {{{\\Delta e}}_{{  2}}^\\gamma}^{2} + 0.14\\right)}^{2} {{{\\Delta e}}_{{  1}}^\\gamma}^{2} {{{\\Delta e}}_{{  2}}^\\gamma} + 1.1 \\, {\\left({{{\\Delta e}}_{{  2}}^\\gamma}^{4} + 0.81 \\, {{{\\Delta e}}_{{  2}}^\\gamma}^{2} + 0.14\\right)}^{2} {{{\\Delta e}}_{{  2}}^\\gamma}\\right)} {{{\\Delta E}}^\\gamma}^{6} + 2 \\, {\\left({{{\\Delta e}}_{{  2}}^\\gamma}^{4} + 0.81 \\, {{{\\Delta e}}_{{  2}}^\\gamma}^{2} + 0.14\\right)}^{2} {\\left({\\left({{{\\Delta e}}_{{  2}}^\\gamma}^{2} + 2.8\\right)} {{{\\Delta e}}_{{  1}}^\\gamma}^{2} + 2.4 \\, {{{\\Delta e}}_{{  2}}^\\gamma}^{2} + 2.0\\right)} {{{\\Delta E}}^\\gamma}^{3} - 1.6 \\, {\\left({{{\\Delta e}}_{{  2}}^\\gamma}^{2} + 0.56\\right)}^{2} {\\left({{{\\Delta e}}_{{  2}}^\\gamma}^{2} + 0.25\\right)}^{3} {{{\\Delta e}}_{{  1}}^\\gamma} + {\\left(0.44 \\, {\\left({{{\\Delta e}}_{{  2}}^\\gamma}^{2} + 0.56\\right)}^{2} {\\left({{{\\Delta e}}_{{  2}}^\\gamma}^{2} + 0.25\\right)}^{3} {{{\\Delta e}}_{{  1}}^\\gamma} + 0.88 \\, {\\left({{{\\Delta e}}_{{  2}}^\\gamma}^{4} + 0.81 \\, {{{\\Delta e}}_{{  2}}^\\gamma}^{2} + 0.14\\right)}^{2} {{{\\Delta e}}_{{  1}}^\\gamma}^{2} {{{\\Delta e}}_{{  2}}^\\gamma} + 0.49 \\, {\\left({{{\\Delta e}}_{{  2}}^\\gamma}^{4} + 0.81 \\, {{{\\Delta e}}_{{  2}}^\\gamma}^{2} + 0.14\\right)}^{2} {{{\\Delta e}}_{{  2}}^\\gamma}\\right)} {{{\\Delta E}}^\\gamma}^{4} - 3.1 \\, {\\left({{{\\Delta e}}_{{  2}}^\\gamma}^{4} + 0.81 \\, {{{\\Delta e}}_{{  2}}^\\gamma}^{2} + 0.14\\right)}^{2} {{{\\Delta e}}_{{  1}}^\\gamma}^{2} {{{\\Delta e}}_{{  2}}^\\gamma} + {\\left({{{\\Delta e}}_{{  2}}^\\gamma}^{4} + 0.81 \\, {{{\\Delta e}}_{{  2}}^\\gamma}^{2} + 0.14\\right)}^{2} {\\left({\\left({{{\\Delta e}}_{{  2}}^\\gamma}^{2} + 2.8\\right)} {{{\\Delta e}}_{{  1}}^\\gamma}^{2} + 2.4 \\, {{{\\Delta e}}_{{  2}}^\\gamma}^{2} + 2\\right)} {{{\\Delta E}}^\\gamma} + {\\left(-2.1 \\, {\\left({{{\\Delta e}}_{{  2}}^\\gamma}^{2} + 0.56\\right)}^{2} {\\left({{{\\Delta e}}_{{  2}}^\\gamma}^{2} + 0.25\\right)}^{3} {{{\\Delta e}}_{{  1}}^\\gamma} - 4.2 \\, {\\left({{{\\Delta e}}_{{  2}}^\\gamma}^{4} + 0.81 \\, {{{\\Delta e}}_{{  2}}^\\gamma}^{2} + 0.14\\right)}^{2} {{{\\Delta e}}_{{  1}}^\\gamma}^{2} {{{\\Delta e}}_{{  2}}^\\gamma} - 2.4 \\, {\\left({{{\\Delta e}}_{{  2}}^\\gamma}^{4} + 0.81 \\, {{{\\Delta e}}_{{  2}}^\\gamma}^{2} + 0.14\\right)}^{2} {{{\\Delta e}}_{{  2}}^\\gamma}\\right)} {{{\\Delta E}}^\\gamma}^{2} - 1.8 \\, {\\left({{{\\Delta e}}_{{  2}}^\\gamma}^{4} + 0.81 \\, {{{\\Delta e}}_{{  2}}^\\gamma}^{2} + 0.14\\right)}^{2} {{{\\Delta e}}_{{  2}}^\\gamma}\\right)} {\\Omega}^{2}}{{\\left(6.2 \\, {{{\\Delta e}}_{{  2}}^\\gamma}^{8} + {\\left({{{\\Delta e}}_{{  2}}^\\gamma}^{8} + 5.4 \\, {{{\\Delta e}}_{{  2}}^\\gamma}^{6} + 6.1 \\, {{{\\Delta e}}_{{  2}}^\\gamma}^{4} + {\\left(4 \\, {{{\\Delta e}}_{{  2}}^\\gamma}^{6} + 5.5 \\, {{{\\Delta e}}_{{  2}}^\\gamma}^{4} + 2.4 \\, {{{\\Delta e}}_{{  2}}^\\gamma}^{2} + 0.32\\right)} {{{\\Delta e}}_{{  1}}^\\gamma}^{2} + {\\left(4 \\, {{{\\Delta e}}_{{  2}}^\\gamma}^{6} + 5.5 \\, {{{\\Delta e}}_{{  2}}^\\gamma}^{4} + 2.4 \\, {{{\\Delta e}}_{{  2}}^\\gamma}^{2} + 0.32\\right)} {{{\\Delta e}}_{{  1}}^\\gamma} {{{\\Delta e}}_{{  2}}^\\gamma} + 2.5 \\, {{{\\Delta e}}_{{  2}}^\\gamma}^{2} + 0.32\\right)} {{{\\Delta E}}^\\gamma}^{6} + {\\left(2.2 \\, {{{\\Delta e}}_{{  2}}^\\gamma}^{7} + 3.1 \\, {{{\\Delta e}}_{{  2}}^\\gamma}^{5} + {\\left(4 \\, {{{\\Delta e}}_{{  2}}^\\gamma}^{6} + 5.5 \\, {{{\\Delta e}}_{{  2}}^\\gamma}^{4} + 2.4 \\, {{{\\Delta e}}_{{  2}}^\\gamma}^{2} + 0.32\\right)} {{{\\Delta e}}_{{  1}}^\\gamma}^{2} {{{\\Delta e}}_{{  2}}^\\gamma} + 2 \\, {\\left({{{\\Delta e}}_{{  2}}^\\gamma}^{4} + 0.81 \\, {{{\\Delta e}}_{{  2}}^\\gamma}^{2} + 0.14\\right)}^{2} {{{\\Delta e}}_{{  1}}^\\gamma} + 1.3 \\, {{{\\Delta e}}_{{  2}}^\\gamma}^{3} + 0.18 \\, {{{\\Delta e}}_{{  2}}^\\gamma}\\right)} {{{\\Delta E}}^\\gamma}^{5} + 22. \\, {{{\\Delta e}}_{{  2}}^\\gamma}^{6} + {\\left(6.6 \\, {{{\\Delta e}}_{{  2}}^\\gamma}^{8} + 28. \\, {{{\\Delta e}}_{{  2}}^\\gamma}^{6} + 30. \\, {{{\\Delta e}}_{{  2}}^\\gamma}^{4} + {\\left({{{\\Delta e}}_{{  2}}^\\gamma}^{8} + 20. \\, {{{\\Delta e}}_{{  2}}^\\gamma}^{6} + 27 \\, {{{\\Delta e}}_{{  2}}^\\gamma}^{4} + 12. \\, {{{\\Delta e}}_{{  2}}^\\gamma}^{2} + 1.5\\right)} {{{\\Delta e}}_{{  1}}^\\gamma}^{2} + {\\left(16. \\, {{{\\Delta e}}_{{  2}}^\\gamma}^{6} + 23. \\, {{{\\Delta e}}_{{  2}}^\\gamma}^{4} + 9.9 \\, {{{\\Delta e}}_{{  2}}^\\gamma}^{2} + 1.3\\right)} {{{\\Delta e}}_{{  1}}^\\gamma} {{{\\Delta e}}_{{  2}}^\\gamma} + 12. \\, {{{\\Delta e}}_{{  2}}^\\gamma}^{2} + 1.5\\right)} {{{\\Delta E}}^\\gamma}^{4} + {\\left(5.8 \\, {{{\\Delta e}}_{{  2}}^\\gamma}^{6} + {\\left(5.1 \\, {{{\\Delta e}}_{{  2}}^\\gamma}^{4} + 5.8 \\, {{{\\Delta e}}_{{  2}}^\\gamma}^{2} + 1.6\\right)} {{{\\Delta e}}_{{  1}}^\\gamma} {{{\\Delta e}}_{{  2}}^\\gamma}^{3} + 7.9 \\, {{{\\Delta e}}_{{  2}}^\\gamma}^{4} + {\\left(10. \\, {{{\\Delta e}}_{{  2}}^\\gamma}^{6} + 14. \\, {{{\\Delta e}}_{{  2}}^\\gamma}^{4} + 6.1 \\, {{{\\Delta e}}_{{  2}}^\\gamma}^{2} + 0.81\\right)} {{{\\Delta e}}_{{  1}}^\\gamma}^{2} + 3.4 \\, {{{\\Delta e}}_{{  2}}^\\gamma}^{2} + 0.46\\right)} {{{\\Delta E}}^\\gamma}^{3} {{{\\Delta e}}_{{  2}}^\\gamma} + 22. \\, {{{\\Delta e}}_{{  2}}^\\gamma}^{4} + {\\left(12. \\, {{{\\Delta e}}_{{  2}}^\\gamma}^{8} + 44. \\, {{{\\Delta e}}_{{  2}}^\\gamma}^{6} + 45 \\, {{{\\Delta e}}_{{  2}}^\\gamma}^{4} + {\\left(2.6 \\, {{{\\Delta e}}_{{  2}}^\\gamma}^{8} + 33 \\, {{{\\Delta e}}_{{  2}}^\\gamma}^{6} + 42 \\, {{{\\Delta e}}_{{  2}}^\\gamma}^{4} + 18. \\, {{{\\Delta e}}_{{  2}}^\\gamma}^{2} + 2.3\\right)} {{{\\Delta e}}_{{  1}}^\\gamma}^{2} + {\\left(22. \\, {{{\\Delta e}}_{{  2}}^\\gamma}^{6} + 30. \\, {{{\\Delta e}}_{{  2}}^\\gamma}^{4} + 13. \\, {{{\\Delta e}}_{{  2}}^\\gamma}^{2} + 1.8\\right)} {{{\\Delta e}}_{{  1}}^\\gamma} {{{\\Delta e}}_{{  2}}^\\gamma} + 17. \\, {{{\\Delta e}}_{{  2}}^\\gamma}^{2} + 2.2\\right)} {{{\\Delta E}}^\\gamma}^{2} + {\\left(1.6 \\, {{{\\Delta e}}_{{  2}}^\\gamma}^{8} + 16. \\, {{{\\Delta e}}_{{  2}}^\\gamma}^{6} + 20. \\, {{{\\Delta e}}_{{  2}}^\\gamma}^{4} + 8.5 \\, {{{\\Delta e}}_{{  2}}^\\gamma}^{2} + 1.1\\right)} {{{\\Delta e}}_{{  1}}^\\gamma}^{2} + {\\left(9.8 \\, {{{\\Delta e}}_{{  2}}^\\gamma}^{6} + 13. \\, {{{\\Delta e}}_{{  2}}^\\gamma}^{4} + 5.8 \\, {{{\\Delta e}}_{{  2}}^\\gamma}^{2} + 0.77\\right)} {{{\\Delta e}}_{{  1}}^\\gamma} {{{\\Delta e}}_{{  2}}^\\gamma} + {\\left(3.5 \\, {{{\\Delta e}}_{{  2}}^\\gamma}^{7} + 4.8 \\, {{{\\Delta e}}_{{  2}}^\\gamma}^{5} + {\\left(6.2 \\, {{{\\Delta e}}_{{  2}}^\\gamma}^{6} + 8.6 \\, {{{\\Delta e}}_{{  2}}^\\gamma}^{4} + 3.8 \\, {{{\\Delta e}}_{{  2}}^\\gamma}^{2} + 0.50\\right)} {{{\\Delta e}}_{{  1}}^\\gamma}^{2} {{{\\Delta e}}_{{  2}}^\\gamma} + 3.1 \\, {\\left({{{\\Delta e}}_{{  2}}^\\gamma}^{4} + 0.81 \\, {{{\\Delta e}}_{{  2}}^\\gamma}^{2} + 0.14\\right)}^{2} {{{\\Delta e}}_{{  1}}^\\gamma} + 2.1 \\, {{{\\Delta e}}_{{  2}}^\\gamma}^{3} + 0.28 \\, {{{\\Delta e}}_{{  2}}^\\gamma}\\right)} {{{\\Delta E}}^\\gamma} + 8.2 \\, {{{\\Delta e}}_{{  2}}^\\gamma}^{2} + 1.0\\right)} {\\left({{{\\Delta E}}^\\gamma} + i\\right)} {\\left({{{\\Delta E}}^\\gamma} - i\\right)} {\\left({{{\\Delta e}}_{{  2}}^\\gamma} + 0.50i\\right)} {\\left({{{\\Delta e}}_{{  2}}^\\gamma} - 0.50i\\right)} {\\gamma}}$$"
      ],
      "text/plain": [
       "((Deg2^4 + 0.81*Deg2^2 + 0.14)^2*((Deg2^2 + 2.8)*Deg1^2 + 2.4*Deg2^2 + 2)*DEg^5 + ((Deg2^2 + 0.56)^2*(Deg2^2 + 0.25)^3*Deg1 + 2*(Deg2^4 + 0.81*Deg2^2 + 0.14)^2*Deg1^2*Deg2 + 1.1*(Deg2^4 + 0.81*Deg2^2 + 0.14)^2*Deg2)*DEg^6 + 2*(Deg2^4 + 0.81*Deg2^2 + 0.14)^2*((Deg2^2 + 2.8)*Deg1^2 + 2.4*Deg2^2 + 2.0)*DEg^3 - 1.6*(Deg2^2 + 0.56)^2*(Deg2^2 + 0.25)^3*Deg1 + (0.44*(Deg2^2 + 0.56)^2*(Deg2^2 + 0.25)^3*Deg1 + 0.88*(Deg2^4 + 0.81*Deg2^2 + 0.14)^2*Deg1^2*Deg2 + 0.49*(Deg2^4 + 0.81*Deg2^2 + 0.14)^2*Deg2)*DEg^4 - 3.1*(Deg2^4 + 0.81*Deg2^2 + 0.14)^2*Deg1^2*Deg2 + (Deg2^4 + 0.81*Deg2^2 + 0.14)^2*((Deg2^2 + 2.8)*Deg1^2 + 2.4*Deg2^2 + 2)*DEg + (-2.1*(Deg2^2 + 0.56)^2*(Deg2^2 + 0.25)^3*Deg1 - 4.2*(Deg2^4 + 0.81*Deg2^2 + 0.14)^2*Deg1^2*Deg2 - 2.4*(Deg2^4 + 0.81*Deg2^2 + 0.14)^2*Deg2)*DEg^2 - 1.8*(Deg2^4 + 0.81*Deg2^2 + 0.14)^2*Deg2)*Omega^2/((6.2*Deg2^8 + (Deg2^8 + 5.4*Deg2^6 + 6.1*Deg2^4 + (4*Deg2^6 + 5.5*Deg2^4 + 2.4*Deg2^2 + 0.32)*Deg1^2 + (4*Deg2^6 + 5.5*Deg2^4 + 2.4*Deg2^2 + 0.32)*Deg1*Deg2 + 2.5*Deg2^2 + 0.32)*DEg^6 + (2.2*Deg2^7 + 3.1*Deg2^5 + (4*Deg2^6 + 5.5*Deg2^4 + 2.4*Deg2^2 + 0.32)*Deg1^2*Deg2 + 2*(Deg2^4 + 0.81*Deg2^2 + 0.14)^2*Deg1 + 1.3*Deg2^3 + 0.18*Deg2)*DEg^5 + 22.*Deg2^6 + (6.6*Deg2^8 + 28.*Deg2^6 + 30.*Deg2^4 + (Deg2^8 + 20.*Deg2^6 + 27*Deg2^4 + 12.*Deg2^2 + 1.5)*Deg1^2 + (16.*Deg2^6 + 23.*Deg2^4 + 9.9*Deg2^2 + 1.3)*Deg1*Deg2 + 12.*Deg2^2 + 1.5)*DEg^4 + (5.8*Deg2^6 + (5.1*Deg2^4 + 5.8*Deg2^2 + 1.6)*Deg1*Deg2^3 + 7.9*Deg2^4 + (10.*Deg2^6 + 14.*Deg2^4 + 6.1*Deg2^2 + 0.81)*Deg1^2 + 3.4*Deg2^2 + 0.46)*DEg^3*Deg2 + 22.*Deg2^4 + (12.*Deg2^8 + 44.*Deg2^6 + 45*Deg2^4 + (2.6*Deg2^8 + 33*Deg2^6 + 42*Deg2^4 + 18.*Deg2^2 + 2.3)*Deg1^2 + (22.*Deg2^6 + 30.*Deg2^4 + 13.*Deg2^2 + 1.8)*Deg1*Deg2 + 17.*Deg2^2 + 2.2)*DEg^2 + (1.6*Deg2^8 + 16.*Deg2^6 + 20.*Deg2^4 + 8.5*Deg2^2 + 1.1)*Deg1^2 + (9.8*Deg2^6 + 13.*Deg2^4 + 5.8*Deg2^2 + 0.77)*Deg1*Deg2 + (3.5*Deg2^7 + 4.8*Deg2^5 + (6.2*Deg2^6 + 8.6*Deg2^4 + 3.8*Deg2^2 + 0.50)*Deg1^2*Deg2 + 3.1*(Deg2^4 + 0.81*Deg2^2 + 0.14)^2*Deg1 + 2.1*Deg2^3 + 0.28*Deg2)*DEg + 8.2*Deg2^2 + 1.0)*(DEg + I)*(DEg - I)*(Deg2 + 0.50*I)*(Deg2 - 0.50*I)*gamma)"
      ]
     },
     "metadata": {},
     "output_type": "display_data"
    }
   ],
   "source": [
    "show(symround(f))"
   ]
  },
  {
   "cell_type": "code",
   "execution_count": null,
   "id": "8efe0ef8",
   "metadata": {},
   "outputs": [],
   "source": []
  }
 ],
 "metadata": {
  "kernelspec": {
   "display_name": "SageMath 9.3",
   "language": "sage",
   "name": "sagemath"
  },
  "language_info": {
   "codemirror_mode": {
    "name": "ipython",
    "version": 3
   },
   "file_extension": ".py",
   "mimetype": "text/x-python",
   "name": "python",
   "nbconvert_exporter": "python",
   "pygments_lexer": "ipython3",
   "version": "3.9.2"
  }
 },
 "nbformat": 4,
 "nbformat_minor": 5
}
