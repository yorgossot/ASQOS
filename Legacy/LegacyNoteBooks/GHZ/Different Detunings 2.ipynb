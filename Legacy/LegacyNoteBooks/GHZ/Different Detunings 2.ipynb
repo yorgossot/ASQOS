{
 "cells": [
  {
   "cell_type": "markdown",
   "id": "11ebbd1c",
   "metadata": {},
   "source": [
    "# Many Variables  GHZ"
   ]
  },
  {
   "cell_type": "code",
   "execution_count": 1,
   "id": "a43f3bbd",
   "metadata": {
    "scrolled": false
   },
   "outputs": [],
   "source": [
    "from system import *\n",
    "\n",
    "s1 =  load_object('GHZ')"
   ]
  },
  {
   "cell_type": "markdown",
   "id": "20c87d69",
   "metadata": {},
   "source": [
    "# Effective Hamiltonian Matrix obtain "
   ]
  },
  {
   "cell_type": "code",
   "execution_count": 26,
   "id": "6398d4bb",
   "metadata": {},
   "outputs": [
    {
     "name": "stdout",
     "output_type": "stream",
     "text": [
      "Calculating 0 out of [0, 1, 18, 19, 48, 49, 66, 67]...\n",
      "Calculating 1 out of [0, 1, 18, 19, 48, 49, 66, 67]...\n",
      "Calculating 18 out of [0, 1, 18, 19, 48, 49, 66, 67]...\n",
      "Calculating 19 out of [0, 1, 18, 19, 48, 49, 66, 67]...\n",
      "Calculating 48 out of [0, 1, 18, 19, 48, 49, 66, 67]...\n",
      "Calculating 49 out of [0, 1, 18, 19, 48, 49, 66, 67]...\n",
      "Calculating 66 out of [0, 1, 18, 19, 48, 49, 66, 67]...\n",
      "Calculating 67 out of [0, 1, 18, 19, 48, 49, 66, 67]...\n",
      "\n",
      " H_eff in ground state subspace: \n"
     ]
    }
   ],
   "source": [
    "phi_val = 0\n",
    "n = 0\n",
    "\n",
    "total_indices = s1.variable_index\n",
    "\n",
    "var('De1', domain='positive')\n",
    "var('Deg1', domain='positive' , latex_name =r'{{\\Delta e}}_{{  1}}^\\gamma')\n",
    "var('De2', domain='positive')\n",
    "var('Deg2', domain='positive' , latex_name =r'{{\\Delta e}}_{{  2}}^\\gamma')\n",
    "var('De3', domain='positive')\n",
    "var('Deg3', domain='positive' , latex_name =r'{{\\Delta e}}_{{  3}}^\\gamma')    \n",
    "\n",
    "var('gamma','DE','De','g','g_f','Omega','v','gamma_f','gamma_g','phi',domain='positive')\n",
    "var('DEg', domain='positive' , latex_name =r'{{\\Delta E}}^\\gamma')\n",
    "var('kappa_c','kappa_b',domain='positive')\n",
    "var('C',domain='positive')\n",
    "var('c',domain='positive',  latex_name =r'c')\n",
    "var('r_f',domain='positive',latex_name =r'r_f')\n",
    "var('r_g',domain='positive',latex_name =r'r_g')\n",
    "var('R_f',domain='positive')#ratio  (g_f/g)^2\n",
    "eff_hamiltonian_tayl = sg.copy( s1.eff_hamiltonian.parent().zero())\n",
    "for diag in s1.pos_gs:\n",
    "    print(f'Calculating {diag} out of {s1.pos_gs}...')\n",
    "\n",
    "    b = s1.eff_hamiltonian[diag,diag]\n",
    "    \n",
    "    b = b.subs(phi = phi_val)\n",
    "\n",
    "     \n",
    "    b = b.subs(DE = 0*DEg*gamma)\n",
    "    \n",
    "    b = b.subs(De1 = Deg1*gamma*C^n) #sqrt C scaling!?\n",
    "    \n",
    "    b = b.subs(De2 = 0*Deg2*gamma) #MAKE ZERO\n",
    "    b = b.subs(De3 = 0*Deg3*gamma) #MAKE ZERO   \n",
    "    b = b.subs(g_f=g*sqrt(R_f))\n",
    "\n",
    "\n",
    "    b = b.subs(v = sqrt(c*kappa_b*kappa_c))\n",
    "\n",
    "\n",
    "    b = b.subs(gamma_f=gamma*r_f)\n",
    "\n",
    "\n",
    "    b = b.subs(gamma_g=gamma*r_g)\n",
    "\n",
    "    b = b.subs(g = sqrt(C*gamma*kappa_c)) \n",
    "\n",
    "\n",
    "\n",
    "    #Substitutions\n",
    "    #b = b.subs(c=np.pi,R_f=2.1,Deg=np.e,DEg=np.sqrt(5),r_g=np.sqrt(3),r_f=np.sqrt(2), phi=phi_val) \n",
    "    #b = b.subs(phi=phi_val)\n",
    "\n",
    "    #b = b._mathematica_().Factor()._sage_()\n",
    "    #h_eff = MMA_simplify(b)#,full=True)\n",
    "\n",
    "        \n",
    "    #h_eff = SR(str(h_eff).replace('Sqrt','sqrt'))\n",
    "\n",
    "\n",
    "    tayl = b\n",
    "    \n",
    "    #tayl =  (tayl + conjugate(tayl))/2      # try with + conjugate_transp\n",
    "\n",
    "    #taylr = taylr.expand()\n",
    "    #tayl = MMA_simplify(tayl,full=False)\n",
    "    #tayl = SR(str(tayl).replace('Sqrt','sqrt'))\n",
    "    eff_hamiltonian_tayl[diag,diag] = tayl  # Omega^2/gamma *\n",
    "\n",
    "print('\\n H_eff in ground state subspace: ')\n",
    "#show(symround(eff_hamiltonian_tayl[s1.pos_gs,s1.pos_gs],digits=3))\n",
    "\n",
    "\n",
    "eff_hamiltonian_tayl = eff_hamiltonian_tayl[s1.pos_gs,s1.pos_gs] "
   ]
  },
  {
   "cell_type": "markdown",
   "id": "e60ad54c",
   "metadata": {},
   "source": [
    "# Parameter manipulation"
   ]
  },
  {
   "cell_type": "code",
   "execution_count": 27,
   "id": "d15bd585",
   "metadata": {},
   "outputs": [],
   "source": [
    "a = eff_hamiltonian_tayl[0,0]\n",
    "#a = symround( MMA_simplify(a,full=False) ,digits = 14)\n",
    "b = eff_hamiltonian_tayl[1,1]\n",
    "#b = symround(MMA_simplify(b,full=False),digits = 14)\n",
    "c = eff_hamiltonian_tayl[3,3]\n",
    "#c = symround(MMA_simplify(c,full=False),digits = 14)\n",
    "d = eff_hamiltonian_tayl[4,4]\n",
    "#d = symround(MMA_simplify(d,full=False),digits = 14)\n",
    "e = eff_hamiltonian_tayl[5,5]\n",
    "#e = symround(MMA_simplify(e,full=False),digits = 14)\n",
    "f = eff_hamiltonian_tayl[7,7]\n",
    "#f = symround(MMA_simplify(f,full=False),digits = 14)"
   ]
  },
  {
   "cell_type": "markdown",
   "id": "3c69018c",
   "metadata": {},
   "source": [
    "# Gate time"
   ]
  },
  {
   "cell_type": "code",
   "execution_count": 28,
   "id": "d737471d",
   "metadata": {},
   "outputs": [],
   "source": [
    "denom = a+e-b-d\n",
    "\n",
    "#denom = denom._mathematica_().Together()._sage_()\n",
    "\n",
    "t_g = 1*np.pi/denom\n",
    "\n",
    "\n",
    "\n",
    "expr = (2*a - 2*b - d + f )#._mathematica_().Together()._sage_() #a=b=0\n",
    "expr = expr*t_g\n",
    "\n"
   ]
  },
  {
   "cell_type": "code",
   "execution_count": 5,
   "id": "f945c27e",
   "metadata": {},
   "outputs": [],
   "source": [
    "#show(symround(t_g.numerator().expand().subs(c=C,R_f=1.53,r_g=5.32,r_f=2.27,Deg1=sqrt(C))))"
   ]
  },
  {
   "cell_type": "code",
   "execution_count": 6,
   "id": "fbcc82b4",
   "metadata": {},
   "outputs": [],
   "source": [
    "#show(symround(t_g.denominator().expand().subs(c=C,R_f=1.53,r_g=5.32,r_f=2.27,Deg1=sqrt(C))))"
   ]
  },
  {
   "cell_type": "code",
   "execution_count": 30,
   "id": "574016e2",
   "metadata": {
    "scrolled": true
   },
   "outputs": [
    {
     "data": {
      "text/html": [
       "<html><script type=\"math/tex; mode=display\">\\newcommand{\\Bold}[1]{\\mathbf{#1}}\\frac{2.90631950228631 \\times 10^{30}i \\, {\\Delta e}^{22} - 4.117857826910638 \\times 10^{33} \\, {\\Delta e}^{21} {\\gamma} - 2.607041305193126 \\times 10^{34}i \\, {\\Delta e}^{20} {\\gamma}^{2} + 3.33893633717866 \\times 10^{50} \\, {\\Delta e}^{19} {\\gamma}^{3} + 1.272400101530553 \\times 10^{38}i \\, {\\Delta e}^{18} {\\gamma}^{4} + 3.413131014941959 \\times 10^{54} \\, {\\Delta e}^{17} {\\gamma}^{5} + 3.84964550615404 \\times 10^{42}i \\, {\\Delta e}^{16} {\\gamma}^{6} + 1.232293853004207 \\times 10^{58} \\, {\\Delta e}^{15} {\\gamma}^{7} + 1.437661529949914 \\times 10^{46}i \\, {\\Delta e}^{14} {\\gamma}^{8} + 2.145100305019325 \\times 10^{61} \\, {\\Delta e}^{13} {\\gamma}^{9} + 1.715036521222016 \\times 10^{49}i \\, {\\Delta e}^{12} {\\gamma}^{10} + 2.05871980234255 \\times 10^{64} \\, {\\Delta e}^{11} {\\gamma}^{11} + 4.13489426477621 \\times 10^{51}i \\, {\\Delta e}^{10} {\\gamma}^{12} + 1.142349189660713 \\times 10^{67} \\, {\\Delta e}^{9} {\\gamma}^{13} - 2.515264463278583 \\times 10^{54}i \\, {\\Delta e}^{8} {\\gamma}^{14} + 3.612672032432884 \\times 10^{69} \\, {\\Delta e}^{7} {\\gamma}^{15} - 4.62134242233253 \\times 10^{56}i \\, {\\Delta e}^{6} {\\gamma}^{16} + 5.94524819862370 \\times 10^{71} \\, {\\Delta e}^{5} {\\gamma}^{17} + 4.39968159923919 \\times 10^{57}i \\, {\\Delta e}^{4} {\\gamma}^{18} + 3.85724561629944 \\times 10^{73} \\, {\\Delta e}^{3} {\\gamma}^{19} - 4.190194940765201 \\times 10^{61}i \\, {\\Delta e}^{2} {\\gamma}^{20} + 9.60601264284956 \\times 10^{72} \\, {\\Delta e} {\\gamma}^{21} - 5.635867910980692 \\times 10^{60}i \\, {\\gamma}^{22}}{{\\left(4.05039325729080 \\times 10^{30} \\, {\\Delta e}^{20} + 3.751170731355356 \\times 10^{49} \\, {\\Delta e}^{18} {\\gamma}^{2} - 1.96814019957251 \\times 10^{34}i \\, {\\Delta e}^{17} {\\gamma}^{3} + 4.72029802209388 \\times 10^{53} \\, {\\Delta e}^{16} {\\gamma}^{4} - 3.79297246768532 \\times 10^{38}i \\, {\\Delta e}^{15} {\\gamma}^{5} + 1.83782366935777 \\times 10^{57} \\, {\\Delta e}^{14} {\\gamma}^{6} + 5.68518336660345 \\times 10^{42}i \\, {\\Delta e}^{13} {\\gamma}^{7} + 3.32264716157422 \\times 10^{60} \\, {\\Delta e}^{12} {\\gamma}^{8} + 8.00757385470737 \\times 10^{45}i \\, {\\Delta e}^{11} {\\gamma}^{9} + 3.273293237945818 \\times 10^{63} \\, {\\Delta e}^{10} {\\gamma}^{10} - 1.190227494461186 \\times 10^{49}i \\, {\\Delta e}^{9} {\\gamma}^{11} + 1.86097961203576 \\times 10^{66} \\, {\\Delta e}^{8} {\\gamma}^{12} - 1.257957325373732 \\times 10^{51}i \\, {\\Delta e}^{7} {\\gamma}^{13} + 6.05931745197241 \\times 10^{68} \\, {\\Delta e}^{6} {\\gamma}^{14} + 9.14564490569754 \\times 10^{53}i \\, {\\Delta e}^{5} {\\gamma}^{15} + 1.040273498903368 \\times 10^{71} \\, {\\Delta e}^{4} {\\gamma}^{16} - 6.08041540078689 \\times 10^{53}i \\, {\\Delta e}^{3} {\\gamma}^{17} + 7.24431465767043 \\times 10^{72} \\, {\\Delta e}^{2} {\\gamma}^{18} + 4.83428300726192 \\times 10^{56}i \\, {\\Delta e} {\\gamma}^{19} + 1.804586415466723 \\times 10^{72} \\, {\\gamma}^{20}\\right)} {\\Delta e} {\\gamma}}</script></html>"
      ],
      "text/latex": [
       "$$\\newcommand{\\Bold}[1]{\\mathbf{#1}}\\frac{2.90631950228631 \\times 10^{30}i \\, {\\Delta e}^{22} - 4.117857826910638 \\times 10^{33} \\, {\\Delta e}^{21} {\\gamma} - 2.607041305193126 \\times 10^{34}i \\, {\\Delta e}^{20} {\\gamma}^{2} + 3.33893633717866 \\times 10^{50} \\, {\\Delta e}^{19} {\\gamma}^{3} + 1.272400101530553 \\times 10^{38}i \\, {\\Delta e}^{18} {\\gamma}^{4} + 3.413131014941959 \\times 10^{54} \\, {\\Delta e}^{17} {\\gamma}^{5} + 3.84964550615404 \\times 10^{42}i \\, {\\Delta e}^{16} {\\gamma}^{6} + 1.232293853004207 \\times 10^{58} \\, {\\Delta e}^{15} {\\gamma}^{7} + 1.437661529949914 \\times 10^{46}i \\, {\\Delta e}^{14} {\\gamma}^{8} + 2.145100305019325 \\times 10^{61} \\, {\\Delta e}^{13} {\\gamma}^{9} + 1.715036521222016 \\times 10^{49}i \\, {\\Delta e}^{12} {\\gamma}^{10} + 2.05871980234255 \\times 10^{64} \\, {\\Delta e}^{11} {\\gamma}^{11} + 4.13489426477621 \\times 10^{51}i \\, {\\Delta e}^{10} {\\gamma}^{12} + 1.142349189660713 \\times 10^{67} \\, {\\Delta e}^{9} {\\gamma}^{13} - 2.515264463278583 \\times 10^{54}i \\, {\\Delta e}^{8} {\\gamma}^{14} + 3.612672032432884 \\times 10^{69} \\, {\\Delta e}^{7} {\\gamma}^{15} - 4.62134242233253 \\times 10^{56}i \\, {\\Delta e}^{6} {\\gamma}^{16} + 5.94524819862370 \\times 10^{71} \\, {\\Delta e}^{5} {\\gamma}^{17} + 4.39968159923919 \\times 10^{57}i \\, {\\Delta e}^{4} {\\gamma}^{18} + 3.85724561629944 \\times 10^{73} \\, {\\Delta e}^{3} {\\gamma}^{19} - 4.190194940765201 \\times 10^{61}i \\, {\\Delta e}^{2} {\\gamma}^{20} + 9.60601264284956 \\times 10^{72} \\, {\\Delta e} {\\gamma}^{21} - 5.635867910980692 \\times 10^{60}i \\, {\\gamma}^{22}}{{\\left(4.05039325729080 \\times 10^{30} \\, {\\Delta e}^{20} + 3.751170731355356 \\times 10^{49} \\, {\\Delta e}^{18} {\\gamma}^{2} - 1.96814019957251 \\times 10^{34}i \\, {\\Delta e}^{17} {\\gamma}^{3} + 4.72029802209388 \\times 10^{53} \\, {\\Delta e}^{16} {\\gamma}^{4} - 3.79297246768532 \\times 10^{38}i \\, {\\Delta e}^{15} {\\gamma}^{5} + 1.83782366935777 \\times 10^{57} \\, {\\Delta e}^{14} {\\gamma}^{6} + 5.68518336660345 \\times 10^{42}i \\, {\\Delta e}^{13} {\\gamma}^{7} + 3.32264716157422 \\times 10^{60} \\, {\\Delta e}^{12} {\\gamma}^{8} + 8.00757385470737 \\times 10^{45}i \\, {\\Delta e}^{11} {\\gamma}^{9} + 3.273293237945818 \\times 10^{63} \\, {\\Delta e}^{10} {\\gamma}^{10} - 1.190227494461186 \\times 10^{49}i \\, {\\Delta e}^{9} {\\gamma}^{11} + 1.86097961203576 \\times 10^{66} \\, {\\Delta e}^{8} {\\gamma}^{12} - 1.257957325373732 \\times 10^{51}i \\, {\\Delta e}^{7} {\\gamma}^{13} + 6.05931745197241 \\times 10^{68} \\, {\\Delta e}^{6} {\\gamma}^{14} + 9.14564490569754 \\times 10^{53}i \\, {\\Delta e}^{5} {\\gamma}^{15} + 1.040273498903368 \\times 10^{71} \\, {\\Delta e}^{4} {\\gamma}^{16} - 6.08041540078689 \\times 10^{53}i \\, {\\Delta e}^{3} {\\gamma}^{17} + 7.24431465767043 \\times 10^{72} \\, {\\Delta e}^{2} {\\gamma}^{18} + 4.83428300726192 \\times 10^{56}i \\, {\\Delta e} {\\gamma}^{19} + 1.804586415466723 \\times 10^{72} \\, {\\gamma}^{20}\\right)} {\\Delta e} {\\gamma}}$$"
      ],
      "text/plain": [
       "(2.90631950228631e30*I*De^22 - 4.117857826910638e33*De^21*gamma - 2.607041305193126e34*I*De^20*gamma^2 + 3.33893633717866e50*De^19*gamma^3 + 1.272400101530553e38*I*De^18*gamma^4 + 3.413131014941959e54*De^17*gamma^5 + 3.84964550615404e42*I*De^16*gamma^6 + 1.232293853004207e58*De^15*gamma^7 + 1.437661529949914e46*I*De^14*gamma^8 + 2.145100305019325e61*De^13*gamma^9 + 1.715036521222016e49*I*De^12*gamma^10 + 2.05871980234255e64*De^11*gamma^11 + 4.13489426477621e51*I*De^10*gamma^12 + 1.142349189660713e67*De^9*gamma^13 - 2.515264463278583e54*I*De^8*gamma^14 + 3.612672032432884e69*De^7*gamma^15 - 4.62134242233253e56*I*De^6*gamma^16 + 5.94524819862370e71*De^5*gamma^17 + 4.39968159923919e57*I*De^4*gamma^18 + 3.85724561629944e73*De^3*gamma^19 - 4.190194940765201e61*I*De^2*gamma^20 + 9.60601264284956e72*De*gamma^21 - 5.635867910980692e60*I*gamma^22)/((4.05039325729080e30*De^20 + 3.751170731355356e49*De^18*gamma^2 - 1.96814019957251e34*I*De^17*gamma^3 + 4.72029802209388e53*De^16*gamma^4 - 3.79297246768532e38*I*De^15*gamma^5 + 1.83782366935777e57*De^14*gamma^6 + 5.68518336660345e42*I*De^13*gamma^7 + 3.32264716157422e60*De^12*gamma^8 + 8.00757385470737e45*I*De^11*gamma^9 + 3.273293237945818e63*De^10*gamma^10 - 1.190227494461186e49*I*De^9*gamma^11 + 1.86097961203576e66*De^8*gamma^12 - 1.257957325373732e51*I*De^7*gamma^13 + 6.05931745197241e68*De^6*gamma^14 + 9.14564490569754e53*I*De^5*gamma^15 + 1.040273498903368e71*De^4*gamma^16 - 6.08041540078689e53*I*De^3*gamma^17 + 7.24431465767043e72*De^2*gamma^18 + 4.83428300726192e56*I*De*gamma^19 + 1.804586415466723e72*gamma^20)*De*gamma)"
      ]
     },
     "metadata": {},
     "output_type": "display_data"
    },
    {
     "ename": "ValueError",
     "evalue": "Variable 'gamma' not found",
     "output_type": "error",
     "traceback": [
      "\u001b[0;31m---------------------------------------------------------------------------\u001b[0m",
      "\u001b[0;31mValueError\u001b[0m                                Traceback (most recent call last)",
      "\u001b[0;32m/opt/SageMath/SageMath/local/lib/python3.9/site-packages/sage/ext/fast_callable.pyx\u001b[0m in \u001b[0;36msage.ext.fast_callable.ExpressionTreeBuilder.var (build/cythonized/sage/ext/fast_callable.c:6739)\u001b[0;34m()\u001b[0m\n\u001b[1;32m    687\u001b[0m         \u001b[0;32mtry\u001b[0m\u001b[0;34m:\u001b[0m\u001b[0;34m\u001b[0m\u001b[0;34m\u001b[0m\u001b[0m\n\u001b[0;32m--> 688\u001b[0;31m             \u001b[0mind\u001b[0m \u001b[0;34m=\u001b[0m \u001b[0mself\u001b[0m\u001b[0;34m.\u001b[0m\u001b[0m_vars\u001b[0m\u001b[0;34m.\u001b[0m\u001b[0mindex\u001b[0m\u001b[0;34m(\u001b[0m\u001b[0mvar_name\u001b[0m\u001b[0;34m)\u001b[0m\u001b[0;34m\u001b[0m\u001b[0;34m\u001b[0m\u001b[0m\n\u001b[0m\u001b[1;32m    689\u001b[0m         \u001b[0;32mexcept\u001b[0m \u001b[0mValueError\u001b[0m\u001b[0;34m:\u001b[0m\u001b[0;34m\u001b[0m\u001b[0;34m\u001b[0m\u001b[0m\n",
      "\u001b[0;31mValueError\u001b[0m: 'gamma' is not in list",
      "\nDuring handling of the above exception, another exception occurred:\n",
      "\u001b[0;31mValueError\u001b[0m                                Traceback (most recent call last)",
      "\u001b[0;32m<ipython-input-30-09ee2e227b43>\u001b[0m in \u001b[0;36m<module>\u001b[0;34m\u001b[0m\n\u001b[1;32m      5\u001b[0m \u001b[0mshow\u001b[0m\u001b[0;34m(\u001b[0m\u001b[0mexpr_plot\u001b[0m\u001b[0;34m)\u001b[0m\u001b[0;34m\u001b[0m\u001b[0;34m\u001b[0m\u001b[0m\n\u001b[1;32m      6\u001b[0m \u001b[0;34m\u001b[0m\u001b[0m\n\u001b[0;32m----> 7\u001b[0;31m \u001b[0mplot\u001b[0m\u001b[0;34m(\u001b[0m\u001b[0mabs\u001b[0m\u001b[0;34m(\u001b[0m\u001b[0mexpr_plot\u001b[0m\u001b[0;34m)\u001b[0m\u001b[0;34m/\u001b[0m\u001b[0mnp\u001b[0m\u001b[0;34m.\u001b[0m\u001b[0mpi\u001b[0m\u001b[0;34m,\u001b[0m\u001b[0;34m(\u001b[0m\u001b[0mDeg1\u001b[0m\u001b[0;34m,\u001b[0m\u001b[0;34m-\u001b[0m\u001b[0mRealNumber\u001b[0m\u001b[0;34m(\u001b[0m\u001b[0;34m'0.2'\u001b[0m\u001b[0;34m)\u001b[0m\u001b[0;34m,\u001b[0m\u001b[0mRealNumber\u001b[0m\u001b[0;34m(\u001b[0m\u001b[0;34m'0.2'\u001b[0m\u001b[0;34m)\u001b[0m\u001b[0;34m)\u001b[0m\u001b[0;34m,\u001b[0m\u001b[0mgridlines\u001b[0m\u001b[0;34m=\u001b[0m\u001b[0;34m'minor'\u001b[0m \u001b[0;34m)\u001b[0m\u001b[0;34m\u001b[0m\u001b[0;34m\u001b[0m\u001b[0m\n\u001b[0m",
      "\u001b[0;32m/opt/SageMath/SageMath/local/lib/python3.9/site-packages/sage/misc/decorators.py\u001b[0m in \u001b[0;36mwrapper\u001b[0;34m(*args, **kwds)\u001b[0m\n\u001b[1;32m    489\u001b[0m                 \u001b[0moptions\u001b[0m\u001b[0;34m[\u001b[0m\u001b[0;34m'__original_opts'\u001b[0m\u001b[0;34m]\u001b[0m \u001b[0;34m=\u001b[0m \u001b[0mkwds\u001b[0m\u001b[0;34m\u001b[0m\u001b[0;34m\u001b[0m\u001b[0m\n\u001b[1;32m    490\u001b[0m             \u001b[0moptions\u001b[0m\u001b[0;34m.\u001b[0m\u001b[0mupdate\u001b[0m\u001b[0;34m(\u001b[0m\u001b[0mkwds\u001b[0m\u001b[0;34m)\u001b[0m\u001b[0;34m\u001b[0m\u001b[0;34m\u001b[0m\u001b[0m\n\u001b[0;32m--> 491\u001b[0;31m             \u001b[0;32mreturn\u001b[0m \u001b[0mfunc\u001b[0m\u001b[0;34m(\u001b[0m\u001b[0;34m*\u001b[0m\u001b[0margs\u001b[0m\u001b[0;34m,\u001b[0m \u001b[0;34m**\u001b[0m\u001b[0moptions\u001b[0m\u001b[0;34m)\u001b[0m\u001b[0;34m\u001b[0m\u001b[0;34m\u001b[0m\u001b[0m\n\u001b[0m\u001b[1;32m    492\u001b[0m \u001b[0;34m\u001b[0m\u001b[0m\n\u001b[1;32m    493\u001b[0m         \u001b[0;31m#Add the options specified by @options to the signature of the wrapped\u001b[0m\u001b[0;34m\u001b[0m\u001b[0;34m\u001b[0m\u001b[0;34m\u001b[0m\u001b[0m\n",
      "\u001b[0;32m/opt/SageMath/SageMath/local/lib/python3.9/site-packages/sage/plot/plot.py\u001b[0m in \u001b[0;36mplot\u001b[0;34m(funcs, *args, **kwds)\u001b[0m\n\u001b[1;32m   1955\u001b[0m \u001b[0;34m\u001b[0m\u001b[0m\n\u001b[1;32m   1956\u001b[0m     \u001b[0;32mif\u001b[0m \u001b[0mhasattr\u001b[0m\u001b[0;34m(\u001b[0m\u001b[0mfuncs\u001b[0m\u001b[0;34m,\u001b[0m \u001b[0;34m'plot'\u001b[0m\u001b[0;34m)\u001b[0m\u001b[0;34m:\u001b[0m\u001b[0;34m\u001b[0m\u001b[0;34m\u001b[0m\u001b[0m\n\u001b[0;32m-> 1957\u001b[0;31m         \u001b[0mG\u001b[0m \u001b[0;34m=\u001b[0m \u001b[0mfuncs\u001b[0m\u001b[0;34m.\u001b[0m\u001b[0mplot\u001b[0m\u001b[0;34m(\u001b[0m\u001b[0;34m*\u001b[0m\u001b[0margs\u001b[0m\u001b[0;34m,\u001b[0m \u001b[0;34m**\u001b[0m\u001b[0moriginal_opts\u001b[0m\u001b[0;34m)\u001b[0m\u001b[0;34m\u001b[0m\u001b[0;34m\u001b[0m\u001b[0m\n\u001b[0m\u001b[1;32m   1958\u001b[0m \u001b[0;34m\u001b[0m\u001b[0m\n\u001b[1;32m   1959\u001b[0m         \u001b[0;31m# If we have extra keywords already set, then update them\u001b[0m\u001b[0;34m\u001b[0m\u001b[0;34m\u001b[0m\u001b[0;34m\u001b[0m\u001b[0m\n",
      "\u001b[0;32m/opt/SageMath/SageMath/local/lib/python3.9/site-packages/sage/symbolic/expression.pyx\u001b[0m in \u001b[0;36msage.symbolic.expression.Expression.plot (build/cythonized/sage/symbolic/expression.cpp:65691)\u001b[0;34m()\u001b[0m\n\u001b[1;32m  12298\u001b[0m                     \u001b[0mparam\u001b[0m \u001b[0;34m=\u001b[0m \u001b[0mA\u001b[0m\u001b[0;34m[\u001b[0m\u001b[0;36m0\u001b[0m\u001b[0;34m]\u001b[0m\u001b[0;34m\u001b[0m\u001b[0;34m\u001b[0m\u001b[0m\n\u001b[1;32m  12299\u001b[0m                     \u001b[0;32mtry\u001b[0m\u001b[0;34m:\u001b[0m\u001b[0;34m\u001b[0m\u001b[0;34m\u001b[0m\u001b[0m\n\u001b[0;32m> 12300\u001b[0;31m                         \u001b[0mf\u001b[0m \u001b[0;34m=\u001b[0m \u001b[0mself\u001b[0m\u001b[0;34m.\u001b[0m\u001b[0m_plot_fast_callable\u001b[0m\u001b[0;34m(\u001b[0m\u001b[0mparam\u001b[0m\u001b[0;34m)\u001b[0m\u001b[0;34m\u001b[0m\u001b[0;34m\u001b[0m\u001b[0m\n\u001b[0m\u001b[1;32m  12301\u001b[0m                     \u001b[0;32mexcept\u001b[0m \u001b[0mNotImplementedError\u001b[0m\u001b[0;34m:\u001b[0m\u001b[0;34m\u001b[0m\u001b[0;34m\u001b[0m\u001b[0m\n\u001b[1;32m  12302\u001b[0m                         \u001b[0;32mreturn\u001b[0m \u001b[0mself\u001b[0m\u001b[0;34m.\u001b[0m\u001b[0mfunction\u001b[0m\u001b[0;34m(\u001b[0m\u001b[0mparam\u001b[0m\u001b[0;34m)\u001b[0m\u001b[0;34m\u001b[0m\u001b[0;34m\u001b[0m\u001b[0m\n",
      "\u001b[0;32m/opt/SageMath/SageMath/local/lib/python3.9/site-packages/sage/symbolic/expression.pyx\u001b[0m in \u001b[0;36msage.symbolic.expression.Expression._plot_fast_callable (build/cythonized/sage/symbolic/expression.cpp:66073)\u001b[0;34m()\u001b[0m\n\u001b[1;32m  12344\u001b[0m         \"\"\"\n\u001b[1;32m  12345\u001b[0m         \u001b[0;32mfrom\u001b[0m \u001b[0msage\u001b[0m\u001b[0;34m.\u001b[0m\u001b[0mext\u001b[0m\u001b[0;34m.\u001b[0m\u001b[0mfast_callable\u001b[0m \u001b[0;32mimport\u001b[0m \u001b[0mfast_callable\u001b[0m\u001b[0;34m\u001b[0m\u001b[0;34m\u001b[0m\u001b[0m\n\u001b[0;32m> 12346\u001b[0;31m         \u001b[0;32mreturn\u001b[0m \u001b[0mfast_callable\u001b[0m\u001b[0;34m(\u001b[0m\u001b[0mself\u001b[0m\u001b[0;34m,\u001b[0m \u001b[0mvars\u001b[0m\u001b[0;34m=\u001b[0m\u001b[0mvars\u001b[0m\u001b[0;34m,\u001b[0m \u001b[0mexpect_one_var\u001b[0m\u001b[0;34m=\u001b[0m\u001b[0;32mTrue\u001b[0m\u001b[0;34m)\u001b[0m\u001b[0;34m\u001b[0m\u001b[0;34m\u001b[0m\u001b[0m\n\u001b[0m\u001b[1;32m  12347\u001b[0m \u001b[0;34m\u001b[0m\u001b[0m\n\u001b[1;32m  12348\u001b[0m     \u001b[0;31m############\u001b[0m\u001b[0;34m\u001b[0m\u001b[0;34m\u001b[0m\u001b[0;34m\u001b[0m\u001b[0m\n",
      "\u001b[0;32m/opt/SageMath/SageMath/local/lib/python3.9/site-packages/sage/ext/fast_callable.pyx\u001b[0m in \u001b[0;36msage.ext.fast_callable.fast_callable (build/cythonized/sage/ext/fast_callable.c:4707)\u001b[0;34m()\u001b[0m\n\u001b[1;32m    455\u001b[0m \u001b[0;34m\u001b[0m\u001b[0m\n\u001b[1;32m    456\u001b[0m         \u001b[0metb\u001b[0m \u001b[0;34m=\u001b[0m \u001b[0mExpressionTreeBuilder\u001b[0m\u001b[0;34m(\u001b[0m\u001b[0mvars\u001b[0m\u001b[0;34m=\u001b[0m\u001b[0mvars\u001b[0m\u001b[0;34m,\u001b[0m \u001b[0mdomain\u001b[0m\u001b[0;34m=\u001b[0m\u001b[0mdomain\u001b[0m\u001b[0;34m)\u001b[0m\u001b[0;34m\u001b[0m\u001b[0;34m\u001b[0m\u001b[0m\n\u001b[0;32m--> 457\u001b[0;31m         \u001b[0met\u001b[0m \u001b[0;34m=\u001b[0m \u001b[0mx\u001b[0m\u001b[0;34m.\u001b[0m\u001b[0m_fast_callable_\u001b[0m\u001b[0;34m(\u001b[0m\u001b[0metb\u001b[0m\u001b[0;34m)\u001b[0m\u001b[0;34m\u001b[0m\u001b[0;34m\u001b[0m\u001b[0m\n\u001b[0m\u001b[1;32m    458\u001b[0m \u001b[0;34m\u001b[0m\u001b[0m\n\u001b[1;32m    459\u001b[0m     \u001b[0;32mif\u001b[0m \u001b[0misinstance\u001b[0m\u001b[0;34m(\u001b[0m\u001b[0mdomain\u001b[0m\u001b[0;34m,\u001b[0m \u001b[0mRealField_class\u001b[0m\u001b[0;34m)\u001b[0m\u001b[0;34m:\u001b[0m\u001b[0;34m\u001b[0m\u001b[0;34m\u001b[0m\u001b[0m\n",
      "\u001b[0;32m/opt/SageMath/SageMath/local/lib/python3.9/site-packages/sage/symbolic/expression.pyx\u001b[0m in \u001b[0;36msage.symbolic.expression.Expression._fast_callable_ (build/cythonized/sage/symbolic/expression.cpp:64918)\u001b[0;34m()\u001b[0m\n\u001b[1;32m  12181\u001b[0m         \"\"\"\n\u001b[1;32m  12182\u001b[0m         \u001b[0;32mfrom\u001b[0m \u001b[0msage\u001b[0m\u001b[0;34m.\u001b[0m\u001b[0msymbolic\u001b[0m\u001b[0;34m.\u001b[0m\u001b[0mexpression_conversions\u001b[0m \u001b[0;32mimport\u001b[0m \u001b[0mfast_callable\u001b[0m\u001b[0;34m\u001b[0m\u001b[0;34m\u001b[0m\u001b[0m\n\u001b[0;32m> 12183\u001b[0;31m         \u001b[0;32mreturn\u001b[0m \u001b[0mfast_callable\u001b[0m\u001b[0;34m(\u001b[0m\u001b[0mself\u001b[0m\u001b[0;34m,\u001b[0m \u001b[0metb\u001b[0m\u001b[0;34m)\u001b[0m\u001b[0;34m\u001b[0m\u001b[0;34m\u001b[0m\u001b[0m\n\u001b[0m\u001b[1;32m  12184\u001b[0m \u001b[0;34m\u001b[0m\u001b[0m\n\u001b[1;32m  12185\u001b[0m     \u001b[0;32mdef\u001b[0m \u001b[0mshow\u001b[0m\u001b[0;34m(\u001b[0m\u001b[0mself\u001b[0m\u001b[0;34m)\u001b[0m\u001b[0;34m:\u001b[0m\u001b[0;34m\u001b[0m\u001b[0;34m\u001b[0m\u001b[0m\n",
      "\u001b[0;32m/opt/SageMath/SageMath/local/lib/python3.9/site-packages/sage/symbolic/expression_conversions.py\u001b[0m in \u001b[0;36mfast_callable\u001b[0;34m(ex, etb)\u001b[0m\n\u001b[1;32m   1967\u001b[0m \u001b[0;34m\u001b[0m\u001b[0m\n\u001b[1;32m   1968\u001b[0m     \"\"\"\n\u001b[0;32m-> 1969\u001b[0;31m     \u001b[0;32mreturn\u001b[0m \u001b[0mFastCallableConverter\u001b[0m\u001b[0;34m(\u001b[0m\u001b[0mex\u001b[0m\u001b[0;34m,\u001b[0m \u001b[0metb\u001b[0m\u001b[0;34m)\u001b[0m\u001b[0;34m(\u001b[0m\u001b[0;34m)\u001b[0m\u001b[0;34m\u001b[0m\u001b[0;34m\u001b[0m\u001b[0m\n\u001b[0m\u001b[1;32m   1970\u001b[0m \u001b[0;34m\u001b[0m\u001b[0m\n\u001b[1;32m   1971\u001b[0m \u001b[0;32mclass\u001b[0m \u001b[0mRingConverter\u001b[0m\u001b[0;34m(\u001b[0m\u001b[0mConverter\u001b[0m\u001b[0;34m)\u001b[0m\u001b[0;34m:\u001b[0m\u001b[0;34m\u001b[0m\u001b[0;34m\u001b[0m\u001b[0m\n",
      "\u001b[0;32m/opt/SageMath/SageMath/local/lib/python3.9/site-packages/sage/symbolic/expression_conversions.py\u001b[0m in \u001b[0;36m__call__\u001b[0;34m(self, ex)\u001b[0m\n\u001b[1;32m    215\u001b[0m             \u001b[0;32mif\u001b[0m \u001b[0mgetattr\u001b[0m\u001b[0;34m(\u001b[0m\u001b[0mself\u001b[0m\u001b[0;34m,\u001b[0m \u001b[0;34m'use_fake_div'\u001b[0m\u001b[0;34m,\u001b[0m \u001b[0;32mFalse\u001b[0m\u001b[0;34m)\u001b[0m \u001b[0;32mand\u001b[0m \u001b[0;34m(\u001b[0m\u001b[0moperator\u001b[0m \u001b[0;32mis\u001b[0m \u001b[0m_operator\u001b[0m\u001b[0;34m.\u001b[0m\u001b[0mmul\u001b[0m \u001b[0;32mor\u001b[0m \u001b[0moperator\u001b[0m \u001b[0;32mis\u001b[0m \u001b[0mmul_vararg\u001b[0m\u001b[0;34m)\u001b[0m\u001b[0;34m:\u001b[0m\u001b[0;34m\u001b[0m\u001b[0;34m\u001b[0m\u001b[0m\n\u001b[1;32m    216\u001b[0m                 \u001b[0mdiv\u001b[0m \u001b[0;34m=\u001b[0m \u001b[0mself\u001b[0m\u001b[0;34m.\u001b[0m\u001b[0mget_fake_div\u001b[0m\u001b[0;34m(\u001b[0m\u001b[0mex\u001b[0m\u001b[0;34m)\u001b[0m\u001b[0;34m\u001b[0m\u001b[0;34m\u001b[0m\u001b[0m\n\u001b[0;32m--> 217\u001b[0;31m                 \u001b[0;32mreturn\u001b[0m \u001b[0mself\u001b[0m\u001b[0;34m.\u001b[0m\u001b[0marithmetic\u001b[0m\u001b[0;34m(\u001b[0m\u001b[0mdiv\u001b[0m\u001b[0;34m,\u001b[0m \u001b[0mdiv\u001b[0m\u001b[0;34m.\u001b[0m\u001b[0moperator\u001b[0m\u001b[0;34m(\u001b[0m\u001b[0;34m)\u001b[0m\u001b[0;34m)\u001b[0m\u001b[0;34m\u001b[0m\u001b[0;34m\u001b[0m\u001b[0m\n\u001b[0m\u001b[1;32m    218\u001b[0m             \u001b[0;32mreturn\u001b[0m \u001b[0mself\u001b[0m\u001b[0;34m.\u001b[0m\u001b[0marithmetic\u001b[0m\u001b[0;34m(\u001b[0m\u001b[0mex\u001b[0m\u001b[0;34m,\u001b[0m \u001b[0moperator\u001b[0m\u001b[0;34m)\u001b[0m\u001b[0;34m\u001b[0m\u001b[0;34m\u001b[0m\u001b[0m\n\u001b[1;32m    219\u001b[0m         \u001b[0;32melif\u001b[0m \u001b[0moperator\u001b[0m \u001b[0;32min\u001b[0m \u001b[0mrelation_operators\u001b[0m\u001b[0;34m:\u001b[0m\u001b[0;34m\u001b[0m\u001b[0;34m\u001b[0m\u001b[0m\n",
      "\u001b[0;32m/opt/SageMath/SageMath/local/lib/python3.9/site-packages/sage/symbolic/expression_conversions.py\u001b[0m in \u001b[0;36marithmetic\u001b[0;34m(self, ex, operator)\u001b[0m\n\u001b[1;32m   1895\u001b[0m         \u001b[0;32melif\u001b[0m \u001b[0moperator\u001b[0m \u001b[0;34m==\u001b[0m \u001b[0mmul_vararg\u001b[0m\u001b[0;34m:\u001b[0m\u001b[0;34m\u001b[0m\u001b[0;34m\u001b[0m\u001b[0m\n\u001b[1;32m   1896\u001b[0m             \u001b[0moperator\u001b[0m \u001b[0;34m=\u001b[0m \u001b[0m_operator\u001b[0m\u001b[0;34m.\u001b[0m\u001b[0mmul\u001b[0m\u001b[0;34m\u001b[0m\u001b[0;34m\u001b[0m\u001b[0m\n\u001b[0;32m-> 1897\u001b[0;31m         \u001b[0;32mreturn\u001b[0m \u001b[0mreduce\u001b[0m\u001b[0;34m(\u001b[0m\u001b[0;32mlambda\u001b[0m \u001b[0mx\u001b[0m\u001b[0;34m,\u001b[0m\u001b[0my\u001b[0m\u001b[0;34m:\u001b[0m \u001b[0mself\u001b[0m\u001b[0;34m.\u001b[0m\u001b[0metb\u001b[0m\u001b[0;34m.\u001b[0m\u001b[0mcall\u001b[0m\u001b[0;34m(\u001b[0m\u001b[0moperator\u001b[0m\u001b[0;34m,\u001b[0m \u001b[0mx\u001b[0m\u001b[0;34m,\u001b[0m\u001b[0my\u001b[0m\u001b[0;34m)\u001b[0m\u001b[0;34m,\u001b[0m \u001b[0moperands\u001b[0m\u001b[0;34m)\u001b[0m\u001b[0;34m\u001b[0m\u001b[0;34m\u001b[0m\u001b[0m\n\u001b[0m\u001b[1;32m   1898\u001b[0m \u001b[0;34m\u001b[0m\u001b[0m\n\u001b[1;32m   1899\u001b[0m     \u001b[0;32mdef\u001b[0m \u001b[0msymbol\u001b[0m\u001b[0;34m(\u001b[0m\u001b[0mself\u001b[0m\u001b[0;34m,\u001b[0m \u001b[0mex\u001b[0m\u001b[0;34m)\u001b[0m\u001b[0;34m:\u001b[0m\u001b[0;34m\u001b[0m\u001b[0;34m\u001b[0m\u001b[0m\n",
      "\u001b[0;32m/opt/SageMath/SageMath/local/lib/python3.9/site-packages/sage/symbolic/expression_conversions.py\u001b[0m in \u001b[0;36m<lambda>\u001b[0;34m(x, y)\u001b[0m\n\u001b[1;32m   1895\u001b[0m         \u001b[0;32melif\u001b[0m \u001b[0moperator\u001b[0m \u001b[0;34m==\u001b[0m \u001b[0mmul_vararg\u001b[0m\u001b[0;34m:\u001b[0m\u001b[0;34m\u001b[0m\u001b[0;34m\u001b[0m\u001b[0m\n\u001b[1;32m   1896\u001b[0m             \u001b[0moperator\u001b[0m \u001b[0;34m=\u001b[0m \u001b[0m_operator\u001b[0m\u001b[0;34m.\u001b[0m\u001b[0mmul\u001b[0m\u001b[0;34m\u001b[0m\u001b[0;34m\u001b[0m\u001b[0m\n\u001b[0;32m-> 1897\u001b[0;31m         \u001b[0;32mreturn\u001b[0m \u001b[0mreduce\u001b[0m\u001b[0;34m(\u001b[0m\u001b[0;32mlambda\u001b[0m \u001b[0mx\u001b[0m\u001b[0;34m,\u001b[0m\u001b[0my\u001b[0m\u001b[0;34m:\u001b[0m \u001b[0mself\u001b[0m\u001b[0;34m.\u001b[0m\u001b[0metb\u001b[0m\u001b[0;34m.\u001b[0m\u001b[0mcall\u001b[0m\u001b[0;34m(\u001b[0m\u001b[0moperator\u001b[0m\u001b[0;34m,\u001b[0m \u001b[0mx\u001b[0m\u001b[0;34m,\u001b[0m\u001b[0my\u001b[0m\u001b[0;34m)\u001b[0m\u001b[0;34m,\u001b[0m \u001b[0moperands\u001b[0m\u001b[0;34m)\u001b[0m\u001b[0;34m\u001b[0m\u001b[0;34m\u001b[0m\u001b[0m\n\u001b[0m\u001b[1;32m   1898\u001b[0m \u001b[0;34m\u001b[0m\u001b[0m\n\u001b[1;32m   1899\u001b[0m     \u001b[0;32mdef\u001b[0m \u001b[0msymbol\u001b[0m\u001b[0;34m(\u001b[0m\u001b[0mself\u001b[0m\u001b[0;34m,\u001b[0m \u001b[0mex\u001b[0m\u001b[0;34m)\u001b[0m\u001b[0;34m:\u001b[0m\u001b[0;34m\u001b[0m\u001b[0;34m\u001b[0m\u001b[0m\n",
      "\u001b[0;32m/opt/SageMath/SageMath/local/lib/python3.9/site-packages/sage/ext/fast_callable.pyx\u001b[0m in \u001b[0;36msage.ext.fast_callable.ExpressionTreeBuilder.call (build/cythonized/sage/ext/fast_callable.c:7204)\u001b[0;34m()\u001b[0m\n\u001b[1;32m    742\u001b[0m             \u001b[0;32mreturn\u001b[0m \u001b[0mself\u001b[0m\u001b[0;34m(\u001b[0m\u001b[0mbase\u001b[0m\u001b[0;34m)\u001b[0m\u001b[0;34m**\u001b[0m\u001b[0mexponent\u001b[0m\u001b[0;34m\u001b[0m\u001b[0;34m\u001b[0m\u001b[0m\n\u001b[1;32m    743\u001b[0m         \u001b[0;32melse\u001b[0m\u001b[0;34m:\u001b[0m\u001b[0;34m\u001b[0m\u001b[0;34m\u001b[0m\u001b[0m\n\u001b[0;32m--> 744\u001b[0;31m             \u001b[0;32mreturn\u001b[0m \u001b[0mExpressionCall\u001b[0m\u001b[0;34m(\u001b[0m\u001b[0mself\u001b[0m\u001b[0;34m,\u001b[0m \u001b[0mfn\u001b[0m\u001b[0;34m,\u001b[0m \u001b[0;34m[\u001b[0m\u001b[0mself\u001b[0m\u001b[0;34m(\u001b[0m\u001b[0ma\u001b[0m\u001b[0;34m)\u001b[0m \u001b[0;32mfor\u001b[0m \u001b[0ma\u001b[0m \u001b[0;32min\u001b[0m \u001b[0margs\u001b[0m\u001b[0;34m]\u001b[0m\u001b[0;34m)\u001b[0m\u001b[0;34m\u001b[0m\u001b[0;34m\u001b[0m\u001b[0m\n\u001b[0m\u001b[1;32m    745\u001b[0m \u001b[0;34m\u001b[0m\u001b[0m\n\u001b[1;32m    746\u001b[0m     \u001b[0;32mdef\u001b[0m \u001b[0mchoice\u001b[0m\u001b[0;34m(\u001b[0m\u001b[0mself\u001b[0m\u001b[0;34m,\u001b[0m \u001b[0mcond\u001b[0m\u001b[0;34m,\u001b[0m \u001b[0miftrue\u001b[0m\u001b[0;34m,\u001b[0m \u001b[0miffalse\u001b[0m\u001b[0;34m)\u001b[0m\u001b[0;34m:\u001b[0m\u001b[0;34m\u001b[0m\u001b[0;34m\u001b[0m\u001b[0m\n",
      "\u001b[0;32m/opt/SageMath/SageMath/local/lib/python3.9/site-packages/sage/ext/fast_callable.pyx\u001b[0m in \u001b[0;36msage.ext.fast_callable.ExpressionTreeBuilder.__call__ (build/cythonized/sage/ext/fast_callable.c:6320)\u001b[0;34m()\u001b[0m\n\u001b[1;32m    616\u001b[0m             \u001b[0;32mreturn\u001b[0m \u001b[0mself\u001b[0m\u001b[0;34m.\u001b[0m\u001b[0mconstant\u001b[0m\u001b[0;34m(\u001b[0m\u001b[0mx\u001b[0m\u001b[0;34m)\u001b[0m\u001b[0;34m\u001b[0m\u001b[0;34m\u001b[0m\u001b[0m\n\u001b[1;32m    617\u001b[0m \u001b[0;34m\u001b[0m\u001b[0m\n\u001b[0;32m--> 618\u001b[0;31m         \u001b[0;32mreturn\u001b[0m \u001b[0mfc\u001b[0m\u001b[0;34m(\u001b[0m\u001b[0mself\u001b[0m\u001b[0;34m)\u001b[0m\u001b[0;34m\u001b[0m\u001b[0;34m\u001b[0m\u001b[0m\n\u001b[0m\u001b[1;32m    619\u001b[0m \u001b[0;34m\u001b[0m\u001b[0m\n\u001b[1;32m    620\u001b[0m     \u001b[0;32mdef\u001b[0m \u001b[0m_clean_var\u001b[0m\u001b[0;34m(\u001b[0m\u001b[0mself\u001b[0m\u001b[0;34m,\u001b[0m \u001b[0mv\u001b[0m\u001b[0;34m)\u001b[0m\u001b[0;34m:\u001b[0m\u001b[0;34m\u001b[0m\u001b[0;34m\u001b[0m\u001b[0m\n",
      "\u001b[0;32m/opt/SageMath/SageMath/local/lib/python3.9/site-packages/sage/symbolic/expression.pyx\u001b[0m in \u001b[0;36msage.symbolic.expression.Expression._fast_callable_ (build/cythonized/sage/symbolic/expression.cpp:64918)\u001b[0;34m()\u001b[0m\n\u001b[1;32m  12181\u001b[0m         \"\"\"\n\u001b[1;32m  12182\u001b[0m         \u001b[0;32mfrom\u001b[0m \u001b[0msage\u001b[0m\u001b[0;34m.\u001b[0m\u001b[0msymbolic\u001b[0m\u001b[0;34m.\u001b[0m\u001b[0mexpression_conversions\u001b[0m \u001b[0;32mimport\u001b[0m \u001b[0mfast_callable\u001b[0m\u001b[0;34m\u001b[0m\u001b[0;34m\u001b[0m\u001b[0m\n\u001b[0;32m> 12183\u001b[0;31m         \u001b[0;32mreturn\u001b[0m \u001b[0mfast_callable\u001b[0m\u001b[0;34m(\u001b[0m\u001b[0mself\u001b[0m\u001b[0;34m,\u001b[0m \u001b[0metb\u001b[0m\u001b[0;34m)\u001b[0m\u001b[0;34m\u001b[0m\u001b[0;34m\u001b[0m\u001b[0m\n\u001b[0m\u001b[1;32m  12184\u001b[0m \u001b[0;34m\u001b[0m\u001b[0m\n\u001b[1;32m  12185\u001b[0m     \u001b[0;32mdef\u001b[0m \u001b[0mshow\u001b[0m\u001b[0;34m(\u001b[0m\u001b[0mself\u001b[0m\u001b[0;34m)\u001b[0m\u001b[0;34m:\u001b[0m\u001b[0;34m\u001b[0m\u001b[0;34m\u001b[0m\u001b[0m\n",
      "\u001b[0;32m/opt/SageMath/SageMath/local/lib/python3.9/site-packages/sage/symbolic/expression_conversions.py\u001b[0m in \u001b[0;36mfast_callable\u001b[0;34m(ex, etb)\u001b[0m\n\u001b[1;32m   1967\u001b[0m \u001b[0;34m\u001b[0m\u001b[0m\n\u001b[1;32m   1968\u001b[0m     \"\"\"\n\u001b[0;32m-> 1969\u001b[0;31m     \u001b[0;32mreturn\u001b[0m \u001b[0mFastCallableConverter\u001b[0m\u001b[0;34m(\u001b[0m\u001b[0mex\u001b[0m\u001b[0;34m,\u001b[0m \u001b[0metb\u001b[0m\u001b[0;34m)\u001b[0m\u001b[0;34m(\u001b[0m\u001b[0;34m)\u001b[0m\u001b[0;34m\u001b[0m\u001b[0;34m\u001b[0m\u001b[0m\n\u001b[0m\u001b[1;32m   1970\u001b[0m \u001b[0;34m\u001b[0m\u001b[0m\n\u001b[1;32m   1971\u001b[0m \u001b[0;32mclass\u001b[0m \u001b[0mRingConverter\u001b[0m\u001b[0;34m(\u001b[0m\u001b[0mConverter\u001b[0m\u001b[0;34m)\u001b[0m\u001b[0;34m:\u001b[0m\u001b[0;34m\u001b[0m\u001b[0;34m\u001b[0m\u001b[0m\n",
      "\u001b[0;32m/opt/SageMath/SageMath/local/lib/python3.9/site-packages/sage/symbolic/expression_conversions.py\u001b[0m in \u001b[0;36m__call__\u001b[0;34m(self, ex)\u001b[0m\n\u001b[1;32m    224\u001b[0m             \u001b[0;32mreturn\u001b[0m \u001b[0mself\u001b[0m\u001b[0;34m.\u001b[0m\u001b[0mtuple\u001b[0m\u001b[0;34m(\u001b[0m\u001b[0mex\u001b[0m\u001b[0;34m)\u001b[0m\u001b[0;34m\u001b[0m\u001b[0;34m\u001b[0m\u001b[0m\n\u001b[1;32m    225\u001b[0m         \u001b[0;32melse\u001b[0m\u001b[0;34m:\u001b[0m\u001b[0;34m\u001b[0m\u001b[0;34m\u001b[0m\u001b[0m\n\u001b[0;32m--> 226\u001b[0;31m             \u001b[0;32mreturn\u001b[0m \u001b[0mself\u001b[0m\u001b[0;34m.\u001b[0m\u001b[0mcomposition\u001b[0m\u001b[0;34m(\u001b[0m\u001b[0mex\u001b[0m\u001b[0;34m,\u001b[0m \u001b[0moperator\u001b[0m\u001b[0;34m)\u001b[0m\u001b[0;34m\u001b[0m\u001b[0;34m\u001b[0m\u001b[0m\n\u001b[0m\u001b[1;32m    227\u001b[0m \u001b[0;34m\u001b[0m\u001b[0m\n\u001b[1;32m    228\u001b[0m     \u001b[0;32mdef\u001b[0m \u001b[0mget_fake_div\u001b[0m\u001b[0;34m(\u001b[0m\u001b[0mself\u001b[0m\u001b[0;34m,\u001b[0m \u001b[0mex\u001b[0m\u001b[0;34m)\u001b[0m\u001b[0;34m:\u001b[0m\u001b[0;34m\u001b[0m\u001b[0;34m\u001b[0m\u001b[0m\n",
      "\u001b[0;32m/opt/SageMath/SageMath/local/lib/python3.9/site-packages/sage/symbolic/expression_conversions.py\u001b[0m in \u001b[0;36mcomposition\u001b[0;34m(self, ex, function)\u001b[0m\n\u001b[1;32m   1933\u001b[0m             \u001b[0;34m{\u001b[0m\u001b[0marctan2\u001b[0m\u001b[0;34m}\u001b[0m\u001b[0;34m(\u001b[0m\u001b[0mv_0\u001b[0m\u001b[0;34m,\u001b[0m \u001b[0mv_1\u001b[0m\u001b[0;34m)\u001b[0m\u001b[0;34m\u001b[0m\u001b[0;34m\u001b[0m\u001b[0m\n\u001b[1;32m   1934\u001b[0m         \"\"\"\n\u001b[0;32m-> 1935\u001b[0;31m         \u001b[0;32mreturn\u001b[0m \u001b[0mself\u001b[0m\u001b[0;34m.\u001b[0m\u001b[0metb\u001b[0m\u001b[0;34m.\u001b[0m\u001b[0mcall\u001b[0m\u001b[0;34m(\u001b[0m\u001b[0mfunction\u001b[0m\u001b[0;34m,\u001b[0m \u001b[0;34m*\u001b[0m\u001b[0mex\u001b[0m\u001b[0;34m.\u001b[0m\u001b[0moperands\u001b[0m\u001b[0;34m(\u001b[0m\u001b[0;34m)\u001b[0m\u001b[0;34m)\u001b[0m\u001b[0;34m\u001b[0m\u001b[0;34m\u001b[0m\u001b[0m\n\u001b[0m\u001b[1;32m   1936\u001b[0m \u001b[0;34m\u001b[0m\u001b[0m\n\u001b[1;32m   1937\u001b[0m     \u001b[0;32mdef\u001b[0m \u001b[0mtuple\u001b[0m\u001b[0;34m(\u001b[0m\u001b[0mself\u001b[0m\u001b[0;34m,\u001b[0m \u001b[0mex\u001b[0m\u001b[0;34m)\u001b[0m\u001b[0;34m:\u001b[0m\u001b[0;34m\u001b[0m\u001b[0;34m\u001b[0m\u001b[0m\n",
      "\u001b[0;32m/opt/SageMath/SageMath/local/lib/python3.9/site-packages/sage/ext/fast_callable.pyx\u001b[0m in \u001b[0;36msage.ext.fast_callable.ExpressionTreeBuilder.call (build/cythonized/sage/ext/fast_callable.c:7204)\u001b[0;34m()\u001b[0m\n\u001b[1;32m    742\u001b[0m             \u001b[0;32mreturn\u001b[0m \u001b[0mself\u001b[0m\u001b[0;34m(\u001b[0m\u001b[0mbase\u001b[0m\u001b[0;34m)\u001b[0m\u001b[0;34m**\u001b[0m\u001b[0mexponent\u001b[0m\u001b[0;34m\u001b[0m\u001b[0;34m\u001b[0m\u001b[0m\n\u001b[1;32m    743\u001b[0m         \u001b[0;32melse\u001b[0m\u001b[0;34m:\u001b[0m\u001b[0;34m\u001b[0m\u001b[0;34m\u001b[0m\u001b[0m\n\u001b[0;32m--> 744\u001b[0;31m             \u001b[0;32mreturn\u001b[0m \u001b[0mExpressionCall\u001b[0m\u001b[0;34m(\u001b[0m\u001b[0mself\u001b[0m\u001b[0;34m,\u001b[0m \u001b[0mfn\u001b[0m\u001b[0;34m,\u001b[0m \u001b[0;34m[\u001b[0m\u001b[0mself\u001b[0m\u001b[0;34m(\u001b[0m\u001b[0ma\u001b[0m\u001b[0;34m)\u001b[0m \u001b[0;32mfor\u001b[0m \u001b[0ma\u001b[0m \u001b[0;32min\u001b[0m \u001b[0margs\u001b[0m\u001b[0;34m]\u001b[0m\u001b[0;34m)\u001b[0m\u001b[0;34m\u001b[0m\u001b[0;34m\u001b[0m\u001b[0m\n\u001b[0m\u001b[1;32m    745\u001b[0m \u001b[0;34m\u001b[0m\u001b[0m\n\u001b[1;32m    746\u001b[0m     \u001b[0;32mdef\u001b[0m \u001b[0mchoice\u001b[0m\u001b[0;34m(\u001b[0m\u001b[0mself\u001b[0m\u001b[0;34m,\u001b[0m \u001b[0mcond\u001b[0m\u001b[0;34m,\u001b[0m \u001b[0miftrue\u001b[0m\u001b[0;34m,\u001b[0m \u001b[0miffalse\u001b[0m\u001b[0;34m)\u001b[0m\u001b[0;34m:\u001b[0m\u001b[0;34m\u001b[0m\u001b[0;34m\u001b[0m\u001b[0m\n",
      "\u001b[0;32m/opt/SageMath/SageMath/local/lib/python3.9/site-packages/sage/ext/fast_callable.pyx\u001b[0m in \u001b[0;36msage.ext.fast_callable.ExpressionTreeBuilder.__call__ (build/cythonized/sage/ext/fast_callable.c:6320)\u001b[0;34m()\u001b[0m\n\u001b[1;32m    616\u001b[0m             \u001b[0;32mreturn\u001b[0m \u001b[0mself\u001b[0m\u001b[0;34m.\u001b[0m\u001b[0mconstant\u001b[0m\u001b[0;34m(\u001b[0m\u001b[0mx\u001b[0m\u001b[0;34m)\u001b[0m\u001b[0;34m\u001b[0m\u001b[0;34m\u001b[0m\u001b[0m\n\u001b[1;32m    617\u001b[0m \u001b[0;34m\u001b[0m\u001b[0m\n\u001b[0;32m--> 618\u001b[0;31m         \u001b[0;32mreturn\u001b[0m \u001b[0mfc\u001b[0m\u001b[0;34m(\u001b[0m\u001b[0mself\u001b[0m\u001b[0;34m)\u001b[0m\u001b[0;34m\u001b[0m\u001b[0;34m\u001b[0m\u001b[0m\n\u001b[0m\u001b[1;32m    619\u001b[0m \u001b[0;34m\u001b[0m\u001b[0m\n\u001b[1;32m    620\u001b[0m     \u001b[0;32mdef\u001b[0m \u001b[0m_clean_var\u001b[0m\u001b[0;34m(\u001b[0m\u001b[0mself\u001b[0m\u001b[0;34m,\u001b[0m \u001b[0mv\u001b[0m\u001b[0;34m)\u001b[0m\u001b[0;34m:\u001b[0m\u001b[0;34m\u001b[0m\u001b[0;34m\u001b[0m\u001b[0m\n",
      "\u001b[0;32m/opt/SageMath/SageMath/local/lib/python3.9/site-packages/sage/symbolic/expression.pyx\u001b[0m in \u001b[0;36msage.symbolic.expression.Expression._fast_callable_ (build/cythonized/sage/symbolic/expression.cpp:64918)\u001b[0;34m()\u001b[0m\n\u001b[1;32m  12181\u001b[0m         \"\"\"\n\u001b[1;32m  12182\u001b[0m         \u001b[0;32mfrom\u001b[0m \u001b[0msage\u001b[0m\u001b[0;34m.\u001b[0m\u001b[0msymbolic\u001b[0m\u001b[0;34m.\u001b[0m\u001b[0mexpression_conversions\u001b[0m \u001b[0;32mimport\u001b[0m \u001b[0mfast_callable\u001b[0m\u001b[0;34m\u001b[0m\u001b[0;34m\u001b[0m\u001b[0m\n\u001b[0;32m> 12183\u001b[0;31m         \u001b[0;32mreturn\u001b[0m \u001b[0mfast_callable\u001b[0m\u001b[0;34m(\u001b[0m\u001b[0mself\u001b[0m\u001b[0;34m,\u001b[0m \u001b[0metb\u001b[0m\u001b[0;34m)\u001b[0m\u001b[0;34m\u001b[0m\u001b[0;34m\u001b[0m\u001b[0m\n\u001b[0m\u001b[1;32m  12184\u001b[0m \u001b[0;34m\u001b[0m\u001b[0m\n\u001b[1;32m  12185\u001b[0m     \u001b[0;32mdef\u001b[0m \u001b[0mshow\u001b[0m\u001b[0;34m(\u001b[0m\u001b[0mself\u001b[0m\u001b[0;34m)\u001b[0m\u001b[0;34m:\u001b[0m\u001b[0;34m\u001b[0m\u001b[0;34m\u001b[0m\u001b[0m\n",
      "\u001b[0;32m/opt/SageMath/SageMath/local/lib/python3.9/site-packages/sage/symbolic/expression_conversions.py\u001b[0m in \u001b[0;36mfast_callable\u001b[0;34m(ex, etb)\u001b[0m\n\u001b[1;32m   1967\u001b[0m \u001b[0;34m\u001b[0m\u001b[0m\n\u001b[1;32m   1968\u001b[0m     \"\"\"\n\u001b[0;32m-> 1969\u001b[0;31m     \u001b[0;32mreturn\u001b[0m \u001b[0mFastCallableConverter\u001b[0m\u001b[0;34m(\u001b[0m\u001b[0mex\u001b[0m\u001b[0;34m,\u001b[0m \u001b[0metb\u001b[0m\u001b[0;34m)\u001b[0m\u001b[0;34m(\u001b[0m\u001b[0;34m)\u001b[0m\u001b[0;34m\u001b[0m\u001b[0;34m\u001b[0m\u001b[0m\n\u001b[0m\u001b[1;32m   1970\u001b[0m \u001b[0;34m\u001b[0m\u001b[0m\n\u001b[1;32m   1971\u001b[0m \u001b[0;32mclass\u001b[0m \u001b[0mRingConverter\u001b[0m\u001b[0;34m(\u001b[0m\u001b[0mConverter\u001b[0m\u001b[0;34m)\u001b[0m\u001b[0;34m:\u001b[0m\u001b[0;34m\u001b[0m\u001b[0;34m\u001b[0m\u001b[0m\n",
      "\u001b[0;32m/opt/SageMath/SageMath/local/lib/python3.9/site-packages/sage/symbolic/expression_conversions.py\u001b[0m in \u001b[0;36m__call__\u001b[0;34m(self, ex)\u001b[0m\n\u001b[1;32m    215\u001b[0m             \u001b[0;32mif\u001b[0m \u001b[0mgetattr\u001b[0m\u001b[0;34m(\u001b[0m\u001b[0mself\u001b[0m\u001b[0;34m,\u001b[0m \u001b[0;34m'use_fake_div'\u001b[0m\u001b[0;34m,\u001b[0m \u001b[0;32mFalse\u001b[0m\u001b[0;34m)\u001b[0m \u001b[0;32mand\u001b[0m \u001b[0;34m(\u001b[0m\u001b[0moperator\u001b[0m \u001b[0;32mis\u001b[0m \u001b[0m_operator\u001b[0m\u001b[0;34m.\u001b[0m\u001b[0mmul\u001b[0m \u001b[0;32mor\u001b[0m \u001b[0moperator\u001b[0m \u001b[0;32mis\u001b[0m \u001b[0mmul_vararg\u001b[0m\u001b[0;34m)\u001b[0m\u001b[0;34m:\u001b[0m\u001b[0;34m\u001b[0m\u001b[0;34m\u001b[0m\u001b[0m\n\u001b[1;32m    216\u001b[0m                 \u001b[0mdiv\u001b[0m \u001b[0;34m=\u001b[0m \u001b[0mself\u001b[0m\u001b[0;34m.\u001b[0m\u001b[0mget_fake_div\u001b[0m\u001b[0;34m(\u001b[0m\u001b[0mex\u001b[0m\u001b[0;34m)\u001b[0m\u001b[0;34m\u001b[0m\u001b[0;34m\u001b[0m\u001b[0m\n\u001b[0;32m--> 217\u001b[0;31m                 \u001b[0;32mreturn\u001b[0m \u001b[0mself\u001b[0m\u001b[0;34m.\u001b[0m\u001b[0marithmetic\u001b[0m\u001b[0;34m(\u001b[0m\u001b[0mdiv\u001b[0m\u001b[0;34m,\u001b[0m \u001b[0mdiv\u001b[0m\u001b[0;34m.\u001b[0m\u001b[0moperator\u001b[0m\u001b[0;34m(\u001b[0m\u001b[0;34m)\u001b[0m\u001b[0;34m)\u001b[0m\u001b[0;34m\u001b[0m\u001b[0;34m\u001b[0m\u001b[0m\n\u001b[0m\u001b[1;32m    218\u001b[0m             \u001b[0;32mreturn\u001b[0m \u001b[0mself\u001b[0m\u001b[0;34m.\u001b[0m\u001b[0marithmetic\u001b[0m\u001b[0;34m(\u001b[0m\u001b[0mex\u001b[0m\u001b[0;34m,\u001b[0m \u001b[0moperator\u001b[0m\u001b[0;34m)\u001b[0m\u001b[0;34m\u001b[0m\u001b[0;34m\u001b[0m\u001b[0m\n\u001b[1;32m    219\u001b[0m         \u001b[0;32melif\u001b[0m \u001b[0moperator\u001b[0m \u001b[0;32min\u001b[0m \u001b[0mrelation_operators\u001b[0m\u001b[0;34m:\u001b[0m\u001b[0;34m\u001b[0m\u001b[0;34m\u001b[0m\u001b[0m\n",
      "\u001b[0;32m/opt/SageMath/SageMath/local/lib/python3.9/site-packages/sage/symbolic/expression_conversions.py\u001b[0m in \u001b[0;36marithmetic\u001b[0;34m(self, ex, operator)\u001b[0m\n\u001b[1;32m   1895\u001b[0m         \u001b[0;32melif\u001b[0m \u001b[0moperator\u001b[0m \u001b[0;34m==\u001b[0m \u001b[0mmul_vararg\u001b[0m\u001b[0;34m:\u001b[0m\u001b[0;34m\u001b[0m\u001b[0;34m\u001b[0m\u001b[0m\n\u001b[1;32m   1896\u001b[0m             \u001b[0moperator\u001b[0m \u001b[0;34m=\u001b[0m \u001b[0m_operator\u001b[0m\u001b[0;34m.\u001b[0m\u001b[0mmul\u001b[0m\u001b[0;34m\u001b[0m\u001b[0;34m\u001b[0m\u001b[0m\n\u001b[0;32m-> 1897\u001b[0;31m         \u001b[0;32mreturn\u001b[0m \u001b[0mreduce\u001b[0m\u001b[0;34m(\u001b[0m\u001b[0;32mlambda\u001b[0m \u001b[0mx\u001b[0m\u001b[0;34m,\u001b[0m\u001b[0my\u001b[0m\u001b[0;34m:\u001b[0m \u001b[0mself\u001b[0m\u001b[0;34m.\u001b[0m\u001b[0metb\u001b[0m\u001b[0;34m.\u001b[0m\u001b[0mcall\u001b[0m\u001b[0;34m(\u001b[0m\u001b[0moperator\u001b[0m\u001b[0;34m,\u001b[0m \u001b[0mx\u001b[0m\u001b[0;34m,\u001b[0m\u001b[0my\u001b[0m\u001b[0;34m)\u001b[0m\u001b[0;34m,\u001b[0m \u001b[0moperands\u001b[0m\u001b[0;34m)\u001b[0m\u001b[0;34m\u001b[0m\u001b[0;34m\u001b[0m\u001b[0m\n\u001b[0m\u001b[1;32m   1898\u001b[0m \u001b[0;34m\u001b[0m\u001b[0m\n\u001b[1;32m   1899\u001b[0m     \u001b[0;32mdef\u001b[0m \u001b[0msymbol\u001b[0m\u001b[0;34m(\u001b[0m\u001b[0mself\u001b[0m\u001b[0;34m,\u001b[0m \u001b[0mex\u001b[0m\u001b[0;34m)\u001b[0m\u001b[0;34m:\u001b[0m\u001b[0;34m\u001b[0m\u001b[0;34m\u001b[0m\u001b[0m\n",
      "\u001b[0;32m/opt/SageMath/SageMath/local/lib/python3.9/site-packages/sage/symbolic/expression_conversions.py\u001b[0m in \u001b[0;36m<lambda>\u001b[0;34m(x, y)\u001b[0m\n\u001b[1;32m   1895\u001b[0m         \u001b[0;32melif\u001b[0m \u001b[0moperator\u001b[0m \u001b[0;34m==\u001b[0m \u001b[0mmul_vararg\u001b[0m\u001b[0;34m:\u001b[0m\u001b[0;34m\u001b[0m\u001b[0;34m\u001b[0m\u001b[0m\n\u001b[1;32m   1896\u001b[0m             \u001b[0moperator\u001b[0m \u001b[0;34m=\u001b[0m \u001b[0m_operator\u001b[0m\u001b[0;34m.\u001b[0m\u001b[0mmul\u001b[0m\u001b[0;34m\u001b[0m\u001b[0;34m\u001b[0m\u001b[0m\n\u001b[0;32m-> 1897\u001b[0;31m         \u001b[0;32mreturn\u001b[0m \u001b[0mreduce\u001b[0m\u001b[0;34m(\u001b[0m\u001b[0;32mlambda\u001b[0m \u001b[0mx\u001b[0m\u001b[0;34m,\u001b[0m\u001b[0my\u001b[0m\u001b[0;34m:\u001b[0m \u001b[0mself\u001b[0m\u001b[0;34m.\u001b[0m\u001b[0metb\u001b[0m\u001b[0;34m.\u001b[0m\u001b[0mcall\u001b[0m\u001b[0;34m(\u001b[0m\u001b[0moperator\u001b[0m\u001b[0;34m,\u001b[0m \u001b[0mx\u001b[0m\u001b[0;34m,\u001b[0m\u001b[0my\u001b[0m\u001b[0;34m)\u001b[0m\u001b[0;34m,\u001b[0m \u001b[0moperands\u001b[0m\u001b[0;34m)\u001b[0m\u001b[0;34m\u001b[0m\u001b[0;34m\u001b[0m\u001b[0m\n\u001b[0m\u001b[1;32m   1898\u001b[0m \u001b[0;34m\u001b[0m\u001b[0m\n\u001b[1;32m   1899\u001b[0m     \u001b[0;32mdef\u001b[0m \u001b[0msymbol\u001b[0m\u001b[0;34m(\u001b[0m\u001b[0mself\u001b[0m\u001b[0;34m,\u001b[0m \u001b[0mex\u001b[0m\u001b[0;34m)\u001b[0m\u001b[0;34m:\u001b[0m\u001b[0;34m\u001b[0m\u001b[0;34m\u001b[0m\u001b[0m\n",
      "\u001b[0;32m/opt/SageMath/SageMath/local/lib/python3.9/site-packages/sage/ext/fast_callable.pyx\u001b[0m in \u001b[0;36msage.ext.fast_callable.ExpressionTreeBuilder.call (build/cythonized/sage/ext/fast_callable.c:7204)\u001b[0;34m()\u001b[0m\n\u001b[1;32m    742\u001b[0m             \u001b[0;32mreturn\u001b[0m \u001b[0mself\u001b[0m\u001b[0;34m(\u001b[0m\u001b[0mbase\u001b[0m\u001b[0;34m)\u001b[0m\u001b[0;34m**\u001b[0m\u001b[0mexponent\u001b[0m\u001b[0;34m\u001b[0m\u001b[0;34m\u001b[0m\u001b[0m\n\u001b[1;32m    743\u001b[0m         \u001b[0;32melse\u001b[0m\u001b[0;34m:\u001b[0m\u001b[0;34m\u001b[0m\u001b[0;34m\u001b[0m\u001b[0m\n\u001b[0;32m--> 744\u001b[0;31m             \u001b[0;32mreturn\u001b[0m \u001b[0mExpressionCall\u001b[0m\u001b[0;34m(\u001b[0m\u001b[0mself\u001b[0m\u001b[0;34m,\u001b[0m \u001b[0mfn\u001b[0m\u001b[0;34m,\u001b[0m \u001b[0;34m[\u001b[0m\u001b[0mself\u001b[0m\u001b[0;34m(\u001b[0m\u001b[0ma\u001b[0m\u001b[0;34m)\u001b[0m \u001b[0;32mfor\u001b[0m \u001b[0ma\u001b[0m \u001b[0;32min\u001b[0m \u001b[0margs\u001b[0m\u001b[0;34m]\u001b[0m\u001b[0;34m)\u001b[0m\u001b[0;34m\u001b[0m\u001b[0;34m\u001b[0m\u001b[0m\n\u001b[0m\u001b[1;32m    745\u001b[0m \u001b[0;34m\u001b[0m\u001b[0m\n\u001b[1;32m    746\u001b[0m     \u001b[0;32mdef\u001b[0m \u001b[0mchoice\u001b[0m\u001b[0;34m(\u001b[0m\u001b[0mself\u001b[0m\u001b[0;34m,\u001b[0m \u001b[0mcond\u001b[0m\u001b[0;34m,\u001b[0m \u001b[0miftrue\u001b[0m\u001b[0;34m,\u001b[0m \u001b[0miffalse\u001b[0m\u001b[0;34m)\u001b[0m\u001b[0;34m:\u001b[0m\u001b[0;34m\u001b[0m\u001b[0;34m\u001b[0m\u001b[0m\n",
      "\u001b[0;32m/opt/SageMath/SageMath/local/lib/python3.9/site-packages/sage/ext/fast_callable.pyx\u001b[0m in \u001b[0;36msage.ext.fast_callable.ExpressionTreeBuilder.__call__ (build/cythonized/sage/ext/fast_callable.c:6320)\u001b[0;34m()\u001b[0m\n\u001b[1;32m    616\u001b[0m             \u001b[0;32mreturn\u001b[0m \u001b[0mself\u001b[0m\u001b[0;34m.\u001b[0m\u001b[0mconstant\u001b[0m\u001b[0;34m(\u001b[0m\u001b[0mx\u001b[0m\u001b[0;34m)\u001b[0m\u001b[0;34m\u001b[0m\u001b[0;34m\u001b[0m\u001b[0m\n\u001b[1;32m    617\u001b[0m \u001b[0;34m\u001b[0m\u001b[0m\n\u001b[0;32m--> 618\u001b[0;31m         \u001b[0;32mreturn\u001b[0m \u001b[0mfc\u001b[0m\u001b[0;34m(\u001b[0m\u001b[0mself\u001b[0m\u001b[0;34m)\u001b[0m\u001b[0;34m\u001b[0m\u001b[0;34m\u001b[0m\u001b[0m\n\u001b[0m\u001b[1;32m    619\u001b[0m \u001b[0;34m\u001b[0m\u001b[0m\n\u001b[1;32m    620\u001b[0m     \u001b[0;32mdef\u001b[0m \u001b[0m_clean_var\u001b[0m\u001b[0;34m(\u001b[0m\u001b[0mself\u001b[0m\u001b[0;34m,\u001b[0m \u001b[0mv\u001b[0m\u001b[0;34m)\u001b[0m\u001b[0;34m:\u001b[0m\u001b[0;34m\u001b[0m\u001b[0;34m\u001b[0m\u001b[0m\n",
      "\u001b[0;32m/opt/SageMath/SageMath/local/lib/python3.9/site-packages/sage/symbolic/expression.pyx\u001b[0m in \u001b[0;36msage.symbolic.expression.Expression._fast_callable_ (build/cythonized/sage/symbolic/expression.cpp:64918)\u001b[0;34m()\u001b[0m\n\u001b[1;32m  12181\u001b[0m         \"\"\"\n\u001b[1;32m  12182\u001b[0m         \u001b[0;32mfrom\u001b[0m \u001b[0msage\u001b[0m\u001b[0;34m.\u001b[0m\u001b[0msymbolic\u001b[0m\u001b[0;34m.\u001b[0m\u001b[0mexpression_conversions\u001b[0m \u001b[0;32mimport\u001b[0m \u001b[0mfast_callable\u001b[0m\u001b[0;34m\u001b[0m\u001b[0;34m\u001b[0m\u001b[0m\n\u001b[0;32m> 12183\u001b[0;31m         \u001b[0;32mreturn\u001b[0m \u001b[0mfast_callable\u001b[0m\u001b[0;34m(\u001b[0m\u001b[0mself\u001b[0m\u001b[0;34m,\u001b[0m \u001b[0metb\u001b[0m\u001b[0;34m)\u001b[0m\u001b[0;34m\u001b[0m\u001b[0;34m\u001b[0m\u001b[0m\n\u001b[0m\u001b[1;32m  12184\u001b[0m \u001b[0;34m\u001b[0m\u001b[0m\n\u001b[1;32m  12185\u001b[0m     \u001b[0;32mdef\u001b[0m \u001b[0mshow\u001b[0m\u001b[0;34m(\u001b[0m\u001b[0mself\u001b[0m\u001b[0;34m)\u001b[0m\u001b[0;34m:\u001b[0m\u001b[0;34m\u001b[0m\u001b[0;34m\u001b[0m\u001b[0m\n",
      "\u001b[0;32m/opt/SageMath/SageMath/local/lib/python3.9/site-packages/sage/symbolic/expression_conversions.py\u001b[0m in \u001b[0;36mfast_callable\u001b[0;34m(ex, etb)\u001b[0m\n\u001b[1;32m   1967\u001b[0m \u001b[0;34m\u001b[0m\u001b[0m\n\u001b[1;32m   1968\u001b[0m     \"\"\"\n\u001b[0;32m-> 1969\u001b[0;31m     \u001b[0;32mreturn\u001b[0m \u001b[0mFastCallableConverter\u001b[0m\u001b[0;34m(\u001b[0m\u001b[0mex\u001b[0m\u001b[0;34m,\u001b[0m \u001b[0metb\u001b[0m\u001b[0;34m)\u001b[0m\u001b[0;34m(\u001b[0m\u001b[0;34m)\u001b[0m\u001b[0;34m\u001b[0m\u001b[0;34m\u001b[0m\u001b[0m\n\u001b[0m\u001b[1;32m   1970\u001b[0m \u001b[0;34m\u001b[0m\u001b[0m\n\u001b[1;32m   1971\u001b[0m \u001b[0;32mclass\u001b[0m \u001b[0mRingConverter\u001b[0m\u001b[0;34m(\u001b[0m\u001b[0mConverter\u001b[0m\u001b[0;34m)\u001b[0m\u001b[0;34m:\u001b[0m\u001b[0;34m\u001b[0m\u001b[0;34m\u001b[0m\u001b[0m\n",
      "\u001b[0;32m/opt/SageMath/SageMath/local/lib/python3.9/site-packages/sage/symbolic/expression_conversions.py\u001b[0m in \u001b[0;36m__call__\u001b[0;34m(self, ex)\u001b[0m\n\u001b[1;32m    216\u001b[0m                 \u001b[0mdiv\u001b[0m \u001b[0;34m=\u001b[0m \u001b[0mself\u001b[0m\u001b[0;34m.\u001b[0m\u001b[0mget_fake_div\u001b[0m\u001b[0;34m(\u001b[0m\u001b[0mex\u001b[0m\u001b[0;34m)\u001b[0m\u001b[0;34m\u001b[0m\u001b[0;34m\u001b[0m\u001b[0m\n\u001b[1;32m    217\u001b[0m                 \u001b[0;32mreturn\u001b[0m \u001b[0mself\u001b[0m\u001b[0;34m.\u001b[0m\u001b[0marithmetic\u001b[0m\u001b[0;34m(\u001b[0m\u001b[0mdiv\u001b[0m\u001b[0;34m,\u001b[0m \u001b[0mdiv\u001b[0m\u001b[0;34m.\u001b[0m\u001b[0moperator\u001b[0m\u001b[0;34m(\u001b[0m\u001b[0;34m)\u001b[0m\u001b[0;34m)\u001b[0m\u001b[0;34m\u001b[0m\u001b[0;34m\u001b[0m\u001b[0m\n\u001b[0;32m--> 218\u001b[0;31m             \u001b[0;32mreturn\u001b[0m \u001b[0mself\u001b[0m\u001b[0;34m.\u001b[0m\u001b[0marithmetic\u001b[0m\u001b[0;34m(\u001b[0m\u001b[0mex\u001b[0m\u001b[0;34m,\u001b[0m \u001b[0moperator\u001b[0m\u001b[0;34m)\u001b[0m\u001b[0;34m\u001b[0m\u001b[0;34m\u001b[0m\u001b[0m\n\u001b[0m\u001b[1;32m    219\u001b[0m         \u001b[0;32melif\u001b[0m \u001b[0moperator\u001b[0m \u001b[0;32min\u001b[0m \u001b[0mrelation_operators\u001b[0m\u001b[0;34m:\u001b[0m\u001b[0;34m\u001b[0m\u001b[0;34m\u001b[0m\u001b[0m\n\u001b[1;32m    220\u001b[0m             \u001b[0;32mreturn\u001b[0m \u001b[0mself\u001b[0m\u001b[0;34m.\u001b[0m\u001b[0mrelation\u001b[0m\u001b[0;34m(\u001b[0m\u001b[0mex\u001b[0m\u001b[0;34m,\u001b[0m \u001b[0moperator\u001b[0m\u001b[0;34m)\u001b[0m\u001b[0;34m\u001b[0m\u001b[0;34m\u001b[0m\u001b[0m\n",
      "\u001b[0;32m/opt/SageMath/SageMath/local/lib/python3.9/site-packages/sage/symbolic/expression_conversions.py\u001b[0m in \u001b[0;36marithmetic\u001b[0;34m(self, ex, operator)\u001b[0m\n\u001b[1;32m   1895\u001b[0m         \u001b[0;32melif\u001b[0m \u001b[0moperator\u001b[0m \u001b[0;34m==\u001b[0m \u001b[0mmul_vararg\u001b[0m\u001b[0;34m:\u001b[0m\u001b[0;34m\u001b[0m\u001b[0;34m\u001b[0m\u001b[0m\n\u001b[1;32m   1896\u001b[0m             \u001b[0moperator\u001b[0m \u001b[0;34m=\u001b[0m \u001b[0m_operator\u001b[0m\u001b[0;34m.\u001b[0m\u001b[0mmul\u001b[0m\u001b[0;34m\u001b[0m\u001b[0;34m\u001b[0m\u001b[0m\n\u001b[0;32m-> 1897\u001b[0;31m         \u001b[0;32mreturn\u001b[0m \u001b[0mreduce\u001b[0m\u001b[0;34m(\u001b[0m\u001b[0;32mlambda\u001b[0m \u001b[0mx\u001b[0m\u001b[0;34m,\u001b[0m\u001b[0my\u001b[0m\u001b[0;34m:\u001b[0m \u001b[0mself\u001b[0m\u001b[0;34m.\u001b[0m\u001b[0metb\u001b[0m\u001b[0;34m.\u001b[0m\u001b[0mcall\u001b[0m\u001b[0;34m(\u001b[0m\u001b[0moperator\u001b[0m\u001b[0;34m,\u001b[0m \u001b[0mx\u001b[0m\u001b[0;34m,\u001b[0m\u001b[0my\u001b[0m\u001b[0;34m)\u001b[0m\u001b[0;34m,\u001b[0m \u001b[0moperands\u001b[0m\u001b[0;34m)\u001b[0m\u001b[0;34m\u001b[0m\u001b[0;34m\u001b[0m\u001b[0m\n\u001b[0m\u001b[1;32m   1898\u001b[0m \u001b[0;34m\u001b[0m\u001b[0m\n\u001b[1;32m   1899\u001b[0m     \u001b[0;32mdef\u001b[0m \u001b[0msymbol\u001b[0m\u001b[0;34m(\u001b[0m\u001b[0mself\u001b[0m\u001b[0;34m,\u001b[0m \u001b[0mex\u001b[0m\u001b[0;34m)\u001b[0m\u001b[0;34m:\u001b[0m\u001b[0;34m\u001b[0m\u001b[0;34m\u001b[0m\u001b[0m\n",
      "\u001b[0;32m/opt/SageMath/SageMath/local/lib/python3.9/site-packages/sage/symbolic/expression_conversions.py\u001b[0m in \u001b[0;36m<lambda>\u001b[0;34m(x, y)\u001b[0m\n\u001b[1;32m   1895\u001b[0m         \u001b[0;32melif\u001b[0m \u001b[0moperator\u001b[0m \u001b[0;34m==\u001b[0m \u001b[0mmul_vararg\u001b[0m\u001b[0;34m:\u001b[0m\u001b[0;34m\u001b[0m\u001b[0;34m\u001b[0m\u001b[0m\n\u001b[1;32m   1896\u001b[0m             \u001b[0moperator\u001b[0m \u001b[0;34m=\u001b[0m \u001b[0m_operator\u001b[0m\u001b[0;34m.\u001b[0m\u001b[0mmul\u001b[0m\u001b[0;34m\u001b[0m\u001b[0;34m\u001b[0m\u001b[0m\n\u001b[0;32m-> 1897\u001b[0;31m         \u001b[0;32mreturn\u001b[0m \u001b[0mreduce\u001b[0m\u001b[0;34m(\u001b[0m\u001b[0;32mlambda\u001b[0m \u001b[0mx\u001b[0m\u001b[0;34m,\u001b[0m\u001b[0my\u001b[0m\u001b[0;34m:\u001b[0m \u001b[0mself\u001b[0m\u001b[0;34m.\u001b[0m\u001b[0metb\u001b[0m\u001b[0;34m.\u001b[0m\u001b[0mcall\u001b[0m\u001b[0;34m(\u001b[0m\u001b[0moperator\u001b[0m\u001b[0;34m,\u001b[0m \u001b[0mx\u001b[0m\u001b[0;34m,\u001b[0m\u001b[0my\u001b[0m\u001b[0;34m)\u001b[0m\u001b[0;34m,\u001b[0m \u001b[0moperands\u001b[0m\u001b[0;34m)\u001b[0m\u001b[0;34m\u001b[0m\u001b[0;34m\u001b[0m\u001b[0m\n\u001b[0m\u001b[1;32m   1898\u001b[0m \u001b[0;34m\u001b[0m\u001b[0m\n\u001b[1;32m   1899\u001b[0m     \u001b[0;32mdef\u001b[0m \u001b[0msymbol\u001b[0m\u001b[0;34m(\u001b[0m\u001b[0mself\u001b[0m\u001b[0;34m,\u001b[0m \u001b[0mex\u001b[0m\u001b[0;34m)\u001b[0m\u001b[0;34m:\u001b[0m\u001b[0;34m\u001b[0m\u001b[0;34m\u001b[0m\u001b[0m\n",
      "\u001b[0;32m/opt/SageMath/SageMath/local/lib/python3.9/site-packages/sage/ext/fast_callable.pyx\u001b[0m in \u001b[0;36msage.ext.fast_callable.ExpressionTreeBuilder.call (build/cythonized/sage/ext/fast_callable.c:7204)\u001b[0;34m()\u001b[0m\n\u001b[1;32m    742\u001b[0m             \u001b[0;32mreturn\u001b[0m \u001b[0mself\u001b[0m\u001b[0;34m(\u001b[0m\u001b[0mbase\u001b[0m\u001b[0;34m)\u001b[0m\u001b[0;34m**\u001b[0m\u001b[0mexponent\u001b[0m\u001b[0;34m\u001b[0m\u001b[0;34m\u001b[0m\u001b[0m\n\u001b[1;32m    743\u001b[0m         \u001b[0;32melse\u001b[0m\u001b[0;34m:\u001b[0m\u001b[0;34m\u001b[0m\u001b[0;34m\u001b[0m\u001b[0m\n\u001b[0;32m--> 744\u001b[0;31m             \u001b[0;32mreturn\u001b[0m \u001b[0mExpressionCall\u001b[0m\u001b[0;34m(\u001b[0m\u001b[0mself\u001b[0m\u001b[0;34m,\u001b[0m \u001b[0mfn\u001b[0m\u001b[0;34m,\u001b[0m \u001b[0;34m[\u001b[0m\u001b[0mself\u001b[0m\u001b[0;34m(\u001b[0m\u001b[0ma\u001b[0m\u001b[0;34m)\u001b[0m \u001b[0;32mfor\u001b[0m \u001b[0ma\u001b[0m \u001b[0;32min\u001b[0m \u001b[0margs\u001b[0m\u001b[0;34m]\u001b[0m\u001b[0;34m)\u001b[0m\u001b[0;34m\u001b[0m\u001b[0;34m\u001b[0m\u001b[0m\n\u001b[0m\u001b[1;32m    745\u001b[0m \u001b[0;34m\u001b[0m\u001b[0m\n\u001b[1;32m    746\u001b[0m     \u001b[0;32mdef\u001b[0m \u001b[0mchoice\u001b[0m\u001b[0;34m(\u001b[0m\u001b[0mself\u001b[0m\u001b[0;34m,\u001b[0m \u001b[0mcond\u001b[0m\u001b[0;34m,\u001b[0m \u001b[0miftrue\u001b[0m\u001b[0;34m,\u001b[0m \u001b[0miffalse\u001b[0m\u001b[0;34m)\u001b[0m\u001b[0;34m:\u001b[0m\u001b[0;34m\u001b[0m\u001b[0;34m\u001b[0m\u001b[0m\n",
      "\u001b[0;32m/opt/SageMath/SageMath/local/lib/python3.9/site-packages/sage/ext/fast_callable.pyx\u001b[0m in \u001b[0;36msage.ext.fast_callable.ExpressionTreeBuilder.__call__ (build/cythonized/sage/ext/fast_callable.c:6320)\u001b[0;34m()\u001b[0m\n\u001b[1;32m    616\u001b[0m             \u001b[0;32mreturn\u001b[0m \u001b[0mself\u001b[0m\u001b[0;34m.\u001b[0m\u001b[0mconstant\u001b[0m\u001b[0;34m(\u001b[0m\u001b[0mx\u001b[0m\u001b[0;34m)\u001b[0m\u001b[0;34m\u001b[0m\u001b[0;34m\u001b[0m\u001b[0m\n\u001b[1;32m    617\u001b[0m \u001b[0;34m\u001b[0m\u001b[0m\n\u001b[0;32m--> 618\u001b[0;31m         \u001b[0;32mreturn\u001b[0m \u001b[0mfc\u001b[0m\u001b[0;34m(\u001b[0m\u001b[0mself\u001b[0m\u001b[0;34m)\u001b[0m\u001b[0;34m\u001b[0m\u001b[0;34m\u001b[0m\u001b[0m\n\u001b[0m\u001b[1;32m    619\u001b[0m \u001b[0;34m\u001b[0m\u001b[0m\n\u001b[1;32m    620\u001b[0m     \u001b[0;32mdef\u001b[0m \u001b[0m_clean_var\u001b[0m\u001b[0;34m(\u001b[0m\u001b[0mself\u001b[0m\u001b[0;34m,\u001b[0m \u001b[0mv\u001b[0m\u001b[0;34m)\u001b[0m\u001b[0;34m:\u001b[0m\u001b[0;34m\u001b[0m\u001b[0;34m\u001b[0m\u001b[0m\n",
      "\u001b[0;32m/opt/SageMath/SageMath/local/lib/python3.9/site-packages/sage/symbolic/expression.pyx\u001b[0m in \u001b[0;36msage.symbolic.expression.Expression._fast_callable_ (build/cythonized/sage/symbolic/expression.cpp:64918)\u001b[0;34m()\u001b[0m\n\u001b[1;32m  12181\u001b[0m         \"\"\"\n\u001b[1;32m  12182\u001b[0m         \u001b[0;32mfrom\u001b[0m \u001b[0msage\u001b[0m\u001b[0;34m.\u001b[0m\u001b[0msymbolic\u001b[0m\u001b[0;34m.\u001b[0m\u001b[0mexpression_conversions\u001b[0m \u001b[0;32mimport\u001b[0m \u001b[0mfast_callable\u001b[0m\u001b[0;34m\u001b[0m\u001b[0;34m\u001b[0m\u001b[0m\n\u001b[0;32m> 12183\u001b[0;31m         \u001b[0;32mreturn\u001b[0m \u001b[0mfast_callable\u001b[0m\u001b[0;34m(\u001b[0m\u001b[0mself\u001b[0m\u001b[0;34m,\u001b[0m \u001b[0metb\u001b[0m\u001b[0;34m)\u001b[0m\u001b[0;34m\u001b[0m\u001b[0;34m\u001b[0m\u001b[0m\n\u001b[0m\u001b[1;32m  12184\u001b[0m \u001b[0;34m\u001b[0m\u001b[0m\n\u001b[1;32m  12185\u001b[0m     \u001b[0;32mdef\u001b[0m \u001b[0mshow\u001b[0m\u001b[0;34m(\u001b[0m\u001b[0mself\u001b[0m\u001b[0;34m)\u001b[0m\u001b[0;34m:\u001b[0m\u001b[0;34m\u001b[0m\u001b[0;34m\u001b[0m\u001b[0m\n",
      "\u001b[0;32m/opt/SageMath/SageMath/local/lib/python3.9/site-packages/sage/symbolic/expression_conversions.py\u001b[0m in \u001b[0;36mfast_callable\u001b[0;34m(ex, etb)\u001b[0m\n\u001b[1;32m   1967\u001b[0m \u001b[0;34m\u001b[0m\u001b[0m\n\u001b[1;32m   1968\u001b[0m     \"\"\"\n\u001b[0;32m-> 1969\u001b[0;31m     \u001b[0;32mreturn\u001b[0m \u001b[0mFastCallableConverter\u001b[0m\u001b[0;34m(\u001b[0m\u001b[0mex\u001b[0m\u001b[0;34m,\u001b[0m \u001b[0metb\u001b[0m\u001b[0;34m)\u001b[0m\u001b[0;34m(\u001b[0m\u001b[0;34m)\u001b[0m\u001b[0;34m\u001b[0m\u001b[0;34m\u001b[0m\u001b[0m\n\u001b[0m\u001b[1;32m   1970\u001b[0m \u001b[0;34m\u001b[0m\u001b[0m\n\u001b[1;32m   1971\u001b[0m \u001b[0;32mclass\u001b[0m \u001b[0mRingConverter\u001b[0m\u001b[0;34m(\u001b[0m\u001b[0mConverter\u001b[0m\u001b[0;34m)\u001b[0m\u001b[0;34m:\u001b[0m\u001b[0;34m\u001b[0m\u001b[0;34m\u001b[0m\u001b[0m\n",
      "\u001b[0;32m/opt/SageMath/SageMath/local/lib/python3.9/site-packages/sage/symbolic/expression_conversions.py\u001b[0m in \u001b[0;36m__call__\u001b[0;34m(self, ex)\u001b[0m\n\u001b[1;32m    215\u001b[0m             \u001b[0;32mif\u001b[0m \u001b[0mgetattr\u001b[0m\u001b[0;34m(\u001b[0m\u001b[0mself\u001b[0m\u001b[0;34m,\u001b[0m \u001b[0;34m'use_fake_div'\u001b[0m\u001b[0;34m,\u001b[0m \u001b[0;32mFalse\u001b[0m\u001b[0;34m)\u001b[0m \u001b[0;32mand\u001b[0m \u001b[0;34m(\u001b[0m\u001b[0moperator\u001b[0m \u001b[0;32mis\u001b[0m \u001b[0m_operator\u001b[0m\u001b[0;34m.\u001b[0m\u001b[0mmul\u001b[0m \u001b[0;32mor\u001b[0m \u001b[0moperator\u001b[0m \u001b[0;32mis\u001b[0m \u001b[0mmul_vararg\u001b[0m\u001b[0;34m)\u001b[0m\u001b[0;34m:\u001b[0m\u001b[0;34m\u001b[0m\u001b[0;34m\u001b[0m\u001b[0m\n\u001b[1;32m    216\u001b[0m                 \u001b[0mdiv\u001b[0m \u001b[0;34m=\u001b[0m \u001b[0mself\u001b[0m\u001b[0;34m.\u001b[0m\u001b[0mget_fake_div\u001b[0m\u001b[0;34m(\u001b[0m\u001b[0mex\u001b[0m\u001b[0;34m)\u001b[0m\u001b[0;34m\u001b[0m\u001b[0;34m\u001b[0m\u001b[0m\n\u001b[0;32m--> 217\u001b[0;31m                 \u001b[0;32mreturn\u001b[0m \u001b[0mself\u001b[0m\u001b[0;34m.\u001b[0m\u001b[0marithmetic\u001b[0m\u001b[0;34m(\u001b[0m\u001b[0mdiv\u001b[0m\u001b[0;34m,\u001b[0m \u001b[0mdiv\u001b[0m\u001b[0;34m.\u001b[0m\u001b[0moperator\u001b[0m\u001b[0;34m(\u001b[0m\u001b[0;34m)\u001b[0m\u001b[0;34m)\u001b[0m\u001b[0;34m\u001b[0m\u001b[0;34m\u001b[0m\u001b[0m\n\u001b[0m\u001b[1;32m    218\u001b[0m             \u001b[0;32mreturn\u001b[0m \u001b[0mself\u001b[0m\u001b[0;34m.\u001b[0m\u001b[0marithmetic\u001b[0m\u001b[0;34m(\u001b[0m\u001b[0mex\u001b[0m\u001b[0;34m,\u001b[0m \u001b[0moperator\u001b[0m\u001b[0;34m)\u001b[0m\u001b[0;34m\u001b[0m\u001b[0;34m\u001b[0m\u001b[0m\n\u001b[1;32m    219\u001b[0m         \u001b[0;32melif\u001b[0m \u001b[0moperator\u001b[0m \u001b[0;32min\u001b[0m \u001b[0mrelation_operators\u001b[0m\u001b[0;34m:\u001b[0m\u001b[0;34m\u001b[0m\u001b[0;34m\u001b[0m\u001b[0m\n",
      "\u001b[0;32m/opt/SageMath/SageMath/local/lib/python3.9/site-packages/sage/symbolic/expression_conversions.py\u001b[0m in \u001b[0;36marithmetic\u001b[0;34m(self, ex, operator)\u001b[0m\n\u001b[1;32m   1895\u001b[0m         \u001b[0;32melif\u001b[0m \u001b[0moperator\u001b[0m \u001b[0;34m==\u001b[0m \u001b[0mmul_vararg\u001b[0m\u001b[0;34m:\u001b[0m\u001b[0;34m\u001b[0m\u001b[0;34m\u001b[0m\u001b[0m\n\u001b[1;32m   1896\u001b[0m             \u001b[0moperator\u001b[0m \u001b[0;34m=\u001b[0m \u001b[0m_operator\u001b[0m\u001b[0;34m.\u001b[0m\u001b[0mmul\u001b[0m\u001b[0;34m\u001b[0m\u001b[0;34m\u001b[0m\u001b[0m\n\u001b[0;32m-> 1897\u001b[0;31m         \u001b[0;32mreturn\u001b[0m \u001b[0mreduce\u001b[0m\u001b[0;34m(\u001b[0m\u001b[0;32mlambda\u001b[0m \u001b[0mx\u001b[0m\u001b[0;34m,\u001b[0m\u001b[0my\u001b[0m\u001b[0;34m:\u001b[0m \u001b[0mself\u001b[0m\u001b[0;34m.\u001b[0m\u001b[0metb\u001b[0m\u001b[0;34m.\u001b[0m\u001b[0mcall\u001b[0m\u001b[0;34m(\u001b[0m\u001b[0moperator\u001b[0m\u001b[0;34m,\u001b[0m \u001b[0mx\u001b[0m\u001b[0;34m,\u001b[0m\u001b[0my\u001b[0m\u001b[0;34m)\u001b[0m\u001b[0;34m,\u001b[0m \u001b[0moperands\u001b[0m\u001b[0;34m)\u001b[0m\u001b[0;34m\u001b[0m\u001b[0;34m\u001b[0m\u001b[0m\n\u001b[0m\u001b[1;32m   1898\u001b[0m \u001b[0;34m\u001b[0m\u001b[0m\n\u001b[1;32m   1899\u001b[0m     \u001b[0;32mdef\u001b[0m \u001b[0msymbol\u001b[0m\u001b[0;34m(\u001b[0m\u001b[0mself\u001b[0m\u001b[0;34m,\u001b[0m \u001b[0mex\u001b[0m\u001b[0;34m)\u001b[0m\u001b[0;34m:\u001b[0m\u001b[0;34m\u001b[0m\u001b[0;34m\u001b[0m\u001b[0m\n",
      "\u001b[0;32m/opt/SageMath/SageMath/local/lib/python3.9/site-packages/sage/symbolic/expression_conversions.py\u001b[0m in \u001b[0;36m<lambda>\u001b[0;34m(x, y)\u001b[0m\n\u001b[1;32m   1895\u001b[0m         \u001b[0;32melif\u001b[0m \u001b[0moperator\u001b[0m \u001b[0;34m==\u001b[0m \u001b[0mmul_vararg\u001b[0m\u001b[0;34m:\u001b[0m\u001b[0;34m\u001b[0m\u001b[0;34m\u001b[0m\u001b[0m\n\u001b[1;32m   1896\u001b[0m             \u001b[0moperator\u001b[0m \u001b[0;34m=\u001b[0m \u001b[0m_operator\u001b[0m\u001b[0;34m.\u001b[0m\u001b[0mmul\u001b[0m\u001b[0;34m\u001b[0m\u001b[0;34m\u001b[0m\u001b[0m\n\u001b[0;32m-> 1897\u001b[0;31m         \u001b[0;32mreturn\u001b[0m \u001b[0mreduce\u001b[0m\u001b[0;34m(\u001b[0m\u001b[0;32mlambda\u001b[0m \u001b[0mx\u001b[0m\u001b[0;34m,\u001b[0m\u001b[0my\u001b[0m\u001b[0;34m:\u001b[0m \u001b[0mself\u001b[0m\u001b[0;34m.\u001b[0m\u001b[0metb\u001b[0m\u001b[0;34m.\u001b[0m\u001b[0mcall\u001b[0m\u001b[0;34m(\u001b[0m\u001b[0moperator\u001b[0m\u001b[0;34m,\u001b[0m \u001b[0mx\u001b[0m\u001b[0;34m,\u001b[0m\u001b[0my\u001b[0m\u001b[0;34m)\u001b[0m\u001b[0;34m,\u001b[0m \u001b[0moperands\u001b[0m\u001b[0;34m)\u001b[0m\u001b[0;34m\u001b[0m\u001b[0;34m\u001b[0m\u001b[0m\n\u001b[0m\u001b[1;32m   1898\u001b[0m \u001b[0;34m\u001b[0m\u001b[0m\n\u001b[1;32m   1899\u001b[0m     \u001b[0;32mdef\u001b[0m \u001b[0msymbol\u001b[0m\u001b[0;34m(\u001b[0m\u001b[0mself\u001b[0m\u001b[0;34m,\u001b[0m \u001b[0mex\u001b[0m\u001b[0;34m)\u001b[0m\u001b[0;34m:\u001b[0m\u001b[0;34m\u001b[0m\u001b[0;34m\u001b[0m\u001b[0m\n",
      "\u001b[0;32m/opt/SageMath/SageMath/local/lib/python3.9/site-packages/sage/ext/fast_callable.pyx\u001b[0m in \u001b[0;36msage.ext.fast_callable.ExpressionTreeBuilder.call (build/cythonized/sage/ext/fast_callable.c:7204)\u001b[0;34m()\u001b[0m\n\u001b[1;32m    742\u001b[0m             \u001b[0;32mreturn\u001b[0m \u001b[0mself\u001b[0m\u001b[0;34m(\u001b[0m\u001b[0mbase\u001b[0m\u001b[0;34m)\u001b[0m\u001b[0;34m**\u001b[0m\u001b[0mexponent\u001b[0m\u001b[0;34m\u001b[0m\u001b[0;34m\u001b[0m\u001b[0m\n\u001b[1;32m    743\u001b[0m         \u001b[0;32melse\u001b[0m\u001b[0;34m:\u001b[0m\u001b[0;34m\u001b[0m\u001b[0;34m\u001b[0m\u001b[0m\n\u001b[0;32m--> 744\u001b[0;31m             \u001b[0;32mreturn\u001b[0m \u001b[0mExpressionCall\u001b[0m\u001b[0;34m(\u001b[0m\u001b[0mself\u001b[0m\u001b[0;34m,\u001b[0m \u001b[0mfn\u001b[0m\u001b[0;34m,\u001b[0m \u001b[0;34m[\u001b[0m\u001b[0mself\u001b[0m\u001b[0;34m(\u001b[0m\u001b[0ma\u001b[0m\u001b[0;34m)\u001b[0m \u001b[0;32mfor\u001b[0m \u001b[0ma\u001b[0m \u001b[0;32min\u001b[0m \u001b[0margs\u001b[0m\u001b[0;34m]\u001b[0m\u001b[0;34m)\u001b[0m\u001b[0;34m\u001b[0m\u001b[0;34m\u001b[0m\u001b[0m\n\u001b[0m\u001b[1;32m    745\u001b[0m \u001b[0;34m\u001b[0m\u001b[0m\n\u001b[1;32m    746\u001b[0m     \u001b[0;32mdef\u001b[0m \u001b[0mchoice\u001b[0m\u001b[0;34m(\u001b[0m\u001b[0mself\u001b[0m\u001b[0;34m,\u001b[0m \u001b[0mcond\u001b[0m\u001b[0;34m,\u001b[0m \u001b[0miftrue\u001b[0m\u001b[0;34m,\u001b[0m \u001b[0miffalse\u001b[0m\u001b[0;34m)\u001b[0m\u001b[0;34m:\u001b[0m\u001b[0;34m\u001b[0m\u001b[0;34m\u001b[0m\u001b[0m\n",
      "\u001b[0;32m/opt/SageMath/SageMath/local/lib/python3.9/site-packages/sage/ext/fast_callable.pyx\u001b[0m in \u001b[0;36msage.ext.fast_callable.ExpressionTreeBuilder.__call__ (build/cythonized/sage/ext/fast_callable.c:6320)\u001b[0;34m()\u001b[0m\n\u001b[1;32m    616\u001b[0m             \u001b[0;32mreturn\u001b[0m \u001b[0mself\u001b[0m\u001b[0;34m.\u001b[0m\u001b[0mconstant\u001b[0m\u001b[0;34m(\u001b[0m\u001b[0mx\u001b[0m\u001b[0;34m)\u001b[0m\u001b[0;34m\u001b[0m\u001b[0;34m\u001b[0m\u001b[0m\n\u001b[1;32m    617\u001b[0m \u001b[0;34m\u001b[0m\u001b[0m\n\u001b[0;32m--> 618\u001b[0;31m         \u001b[0;32mreturn\u001b[0m \u001b[0mfc\u001b[0m\u001b[0;34m(\u001b[0m\u001b[0mself\u001b[0m\u001b[0;34m)\u001b[0m\u001b[0;34m\u001b[0m\u001b[0;34m\u001b[0m\u001b[0m\n\u001b[0m\u001b[1;32m    619\u001b[0m \u001b[0;34m\u001b[0m\u001b[0m\n\u001b[1;32m    620\u001b[0m     \u001b[0;32mdef\u001b[0m \u001b[0m_clean_var\u001b[0m\u001b[0;34m(\u001b[0m\u001b[0mself\u001b[0m\u001b[0;34m,\u001b[0m \u001b[0mv\u001b[0m\u001b[0;34m)\u001b[0m\u001b[0;34m:\u001b[0m\u001b[0;34m\u001b[0m\u001b[0;34m\u001b[0m\u001b[0m\n",
      "\u001b[0;32m/opt/SageMath/SageMath/local/lib/python3.9/site-packages/sage/symbolic/expression.pyx\u001b[0m in \u001b[0;36msage.symbolic.expression.Expression._fast_callable_ (build/cythonized/sage/symbolic/expression.cpp:64918)\u001b[0;34m()\u001b[0m\n\u001b[1;32m  12181\u001b[0m         \"\"\"\n\u001b[1;32m  12182\u001b[0m         \u001b[0;32mfrom\u001b[0m \u001b[0msage\u001b[0m\u001b[0;34m.\u001b[0m\u001b[0msymbolic\u001b[0m\u001b[0;34m.\u001b[0m\u001b[0mexpression_conversions\u001b[0m \u001b[0;32mimport\u001b[0m \u001b[0mfast_callable\u001b[0m\u001b[0;34m\u001b[0m\u001b[0;34m\u001b[0m\u001b[0m\n\u001b[0;32m> 12183\u001b[0;31m         \u001b[0;32mreturn\u001b[0m \u001b[0mfast_callable\u001b[0m\u001b[0;34m(\u001b[0m\u001b[0mself\u001b[0m\u001b[0;34m,\u001b[0m \u001b[0metb\u001b[0m\u001b[0;34m)\u001b[0m\u001b[0;34m\u001b[0m\u001b[0;34m\u001b[0m\u001b[0m\n\u001b[0m\u001b[1;32m  12184\u001b[0m \u001b[0;34m\u001b[0m\u001b[0m\n\u001b[1;32m  12185\u001b[0m     \u001b[0;32mdef\u001b[0m \u001b[0mshow\u001b[0m\u001b[0;34m(\u001b[0m\u001b[0mself\u001b[0m\u001b[0;34m)\u001b[0m\u001b[0;34m:\u001b[0m\u001b[0;34m\u001b[0m\u001b[0;34m\u001b[0m\u001b[0m\n",
      "\u001b[0;32m/opt/SageMath/SageMath/local/lib/python3.9/site-packages/sage/symbolic/expression_conversions.py\u001b[0m in \u001b[0;36mfast_callable\u001b[0;34m(ex, etb)\u001b[0m\n\u001b[1;32m   1967\u001b[0m \u001b[0;34m\u001b[0m\u001b[0m\n\u001b[1;32m   1968\u001b[0m     \"\"\"\n\u001b[0;32m-> 1969\u001b[0;31m     \u001b[0;32mreturn\u001b[0m \u001b[0mFastCallableConverter\u001b[0m\u001b[0;34m(\u001b[0m\u001b[0mex\u001b[0m\u001b[0;34m,\u001b[0m \u001b[0metb\u001b[0m\u001b[0;34m)\u001b[0m\u001b[0;34m(\u001b[0m\u001b[0;34m)\u001b[0m\u001b[0;34m\u001b[0m\u001b[0;34m\u001b[0m\u001b[0m\n\u001b[0m\u001b[1;32m   1970\u001b[0m \u001b[0;34m\u001b[0m\u001b[0m\n\u001b[1;32m   1971\u001b[0m \u001b[0;32mclass\u001b[0m \u001b[0mRingConverter\u001b[0m\u001b[0;34m(\u001b[0m\u001b[0mConverter\u001b[0m\u001b[0;34m)\u001b[0m\u001b[0;34m:\u001b[0m\u001b[0;34m\u001b[0m\u001b[0;34m\u001b[0m\u001b[0m\n",
      "\u001b[0;32m/opt/SageMath/SageMath/local/lib/python3.9/site-packages/sage/symbolic/expression_conversions.py\u001b[0m in \u001b[0;36m__call__\u001b[0;34m(self, ex)\u001b[0m\n\u001b[1;32m    210\u001b[0m         \u001b[0moperator\u001b[0m \u001b[0;34m=\u001b[0m \u001b[0mex\u001b[0m\u001b[0;34m.\u001b[0m\u001b[0moperator\u001b[0m\u001b[0;34m(\u001b[0m\u001b[0;34m)\u001b[0m\u001b[0;34m\u001b[0m\u001b[0;34m\u001b[0m\u001b[0m\n\u001b[1;32m    211\u001b[0m         \u001b[0;32mif\u001b[0m \u001b[0moperator\u001b[0m \u001b[0;32mis\u001b[0m \u001b[0;32mNone\u001b[0m\u001b[0;34m:\u001b[0m\u001b[0;34m\u001b[0m\u001b[0;34m\u001b[0m\u001b[0m\n\u001b[0;32m--> 212\u001b[0;31m             \u001b[0;32mreturn\u001b[0m \u001b[0mself\u001b[0m\u001b[0;34m.\u001b[0m\u001b[0msymbol\u001b[0m\u001b[0;34m(\u001b[0m\u001b[0mex\u001b[0m\u001b[0;34m)\u001b[0m\u001b[0;34m\u001b[0m\u001b[0;34m\u001b[0m\u001b[0m\n\u001b[0m\u001b[1;32m    213\u001b[0m \u001b[0;34m\u001b[0m\u001b[0m\n\u001b[1;32m    214\u001b[0m         \u001b[0;32mif\u001b[0m \u001b[0moperator\u001b[0m \u001b[0;32min\u001b[0m \u001b[0marithmetic_operators\u001b[0m\u001b[0;34m:\u001b[0m\u001b[0;34m\u001b[0m\u001b[0;34m\u001b[0m\u001b[0m\n",
      "\u001b[0;32m/opt/SageMath/SageMath/local/lib/python3.9/site-packages/sage/symbolic/expression_conversions.py\u001b[0m in \u001b[0;36msymbol\u001b[0;34m(self, ex)\u001b[0m\n\u001b[1;32m   1916\u001b[0m             \u001b[0mValueError\u001b[0m\u001b[0;34m:\u001b[0m \u001b[0mVariable\u001b[0m \u001b[0;34m'z'\u001b[0m \u001b[0;32mnot\u001b[0m \u001b[0mfound\u001b[0m\u001b[0;34m\u001b[0m\u001b[0;34m\u001b[0m\u001b[0m\n\u001b[1;32m   1917\u001b[0m         \"\"\"\n\u001b[0;32m-> 1918\u001b[0;31m         \u001b[0;32mreturn\u001b[0m \u001b[0mself\u001b[0m\u001b[0;34m.\u001b[0m\u001b[0metb\u001b[0m\u001b[0;34m.\u001b[0m\u001b[0mvar\u001b[0m\u001b[0;34m(\u001b[0m\u001b[0mSR\u001b[0m\u001b[0;34m(\u001b[0m\u001b[0mex\u001b[0m\u001b[0;34m)\u001b[0m\u001b[0;34m)\u001b[0m\u001b[0;34m\u001b[0m\u001b[0;34m\u001b[0m\u001b[0m\n\u001b[0m\u001b[1;32m   1919\u001b[0m \u001b[0;34m\u001b[0m\u001b[0m\n\u001b[1;32m   1920\u001b[0m     \u001b[0;32mdef\u001b[0m \u001b[0mcomposition\u001b[0m\u001b[0;34m(\u001b[0m\u001b[0mself\u001b[0m\u001b[0;34m,\u001b[0m \u001b[0mex\u001b[0m\u001b[0;34m,\u001b[0m \u001b[0mfunction\u001b[0m\u001b[0;34m)\u001b[0m\u001b[0;34m:\u001b[0m\u001b[0;34m\u001b[0m\u001b[0;34m\u001b[0m\u001b[0m\n",
      "\u001b[0;32m/opt/SageMath/SageMath/local/lib/python3.9/site-packages/sage/ext/fast_callable.pyx\u001b[0m in \u001b[0;36msage.ext.fast_callable.ExpressionTreeBuilder.var (build/cythonized/sage/ext/fast_callable.c:6791)\u001b[0;34m()\u001b[0m\n\u001b[1;32m    688\u001b[0m             \u001b[0mind\u001b[0m \u001b[0;34m=\u001b[0m \u001b[0mself\u001b[0m\u001b[0;34m.\u001b[0m\u001b[0m_vars\u001b[0m\u001b[0;34m.\u001b[0m\u001b[0mindex\u001b[0m\u001b[0;34m(\u001b[0m\u001b[0mvar_name\u001b[0m\u001b[0;34m)\u001b[0m\u001b[0;34m\u001b[0m\u001b[0;34m\u001b[0m\u001b[0m\n\u001b[1;32m    689\u001b[0m         \u001b[0;32mexcept\u001b[0m \u001b[0mValueError\u001b[0m\u001b[0;34m:\u001b[0m\u001b[0;34m\u001b[0m\u001b[0;34m\u001b[0m\u001b[0m\n\u001b[0;32m--> 690\u001b[0;31m             \u001b[0;32mraise\u001b[0m \u001b[0mValueError\u001b[0m\u001b[0;34m(\u001b[0m\u001b[0;34m\"Variable '%s' not found\"\u001b[0m \u001b[0;34m%\u001b[0m \u001b[0mvar_name\u001b[0m\u001b[0;34m)\u001b[0m\u001b[0;34m\u001b[0m\u001b[0;34m\u001b[0m\u001b[0m\n\u001b[0m\u001b[1;32m    691\u001b[0m         \u001b[0;32mreturn\u001b[0m \u001b[0mExpressionVariable\u001b[0m\u001b[0;34m(\u001b[0m\u001b[0mself\u001b[0m\u001b[0;34m,\u001b[0m \u001b[0mind\u001b[0m\u001b[0;34m)\u001b[0m\u001b[0;34m\u001b[0m\u001b[0;34m\u001b[0m\u001b[0m\n\u001b[1;32m    692\u001b[0m \u001b[0;34m\u001b[0m\u001b[0m\n",
      "\u001b[0;31mValueError\u001b[0m: Variable 'gamma' not found"
     ]
    }
   ],
   "source": [
    "c_val = 100\n",
    "expr_plot = expr.subs(c=c_val,C=c_val,R_f=1,r_g=0.1,r_f=0.1)\n",
    "expr_plot = MMA_simplify(expr_plot,full=True)\n",
    "\n",
    "show(expr_plot)\n",
    "\n",
    "plot(abs(expr_plot)/np.pi,(Deg1,-0.2,0.2),gridlines='minor' )\n"
   ]
  },
  {
   "cell_type": "code",
   "execution_count": 181,
   "id": "924c5e73",
   "metadata": {},
   "outputs": [
    {
     "data": {
      "text/plain": [
       "32.0100317169740 + 1.30171537507265e-10*I"
      ]
     },
     "execution_count": 181,
     "metadata": {},
     "output_type": "execute_result"
    }
   ],
   "source": [
    "expr_plot.subs(Deg1=1.2)/np.pi"
   ]
  },
  {
   "cell_type": "markdown",
   "id": "80d38bfe",
   "metadata": {},
   "source": [
    "# NOTES\n",
    "\n",
    "- We found it possible for:  \n",
    "\n",
    "`phi_val = 0\n",
    "c_val = 10000\n",
    "expr_plot = expr.subs(c=c_val,C=100*c_val,R_f=1,r_g=0.1,r_f=0.1)`\n",
    "\n",
    "with and without  sqrt scaling of Deg, but with 3pi rotation \n",
    "\n",
    "- Many possibilities from other `phi_val`"
   ]
  },
  {
   "cell_type": "markdown",
   "id": "1498df0a",
   "metadata": {},
   "source": [
    "# Lindblau Operators no $C \\longrightarrow \\infty$ limit\n",
    "\n",
    "Choose which of the Lindblau operators to view and which non zero element of it"
   ]
  },
  {
   "cell_type": "code",
   "execution_count": 252,
   "id": "847371b4",
   "metadata": {
    "scrolled": true
   },
   "outputs": [
    {
     "name": "stdout",
     "output_type": "stream",
     "text": [
      "0 out of 8\n",
      "1 out of 8\n",
      "2 out of 8\n",
      "3 out of 8\n",
      "4 out of 8\n",
      "5 out of 8\n",
      "6 out of 8\n",
      "7 out of 8\n",
      "8 out of 8\n"
     ]
    }
   ],
   "source": [
    "lind_op_number = len(s1.lindblau_list)\n",
    "\n",
    "eff_lind_taylor = []\n",
    "eff_lind = []\n",
    "eff_lind_coeff = []\n",
    "for lind_op in range(lind_op_number):\n",
    "    print(f'{lind_op} out of {lind_op_number-1}')\n",
    "    eff_lind_taylor.append([])\n",
    "    eff_lind.append([])\n",
    "    L_matrix = s1.eff_lindblau_list[lind_op]\n",
    "    L_nonzeros = []\n",
    "    L_nonzeros_pos = []\n",
    "    for i in  range(L_matrix.nrows()):\n",
    "        for j in  range(L_matrix.ncols()):\n",
    "            if not L_matrix[i,j].is_zero():\n",
    "                L_nonzeros.append(L_matrix[i,j])\n",
    "                L_nonzeros_pos.append((i,j))\n",
    "    eff_lind_coeff.append(s1.L_coeffs[lind_op])\n",
    "    for which in range(len(L_nonzeros)):\n",
    "\n",
    "        L_elem = L_nonzeros[which]\n",
    "\n",
    "        #L_elem = L_elem .subs(DE=gamma*1/2 * sqrt(r_f) * sqrt(4*R_f*C+r_f) + 0.5*I*gamma_g)\n",
    "        \n",
    "        #L_elem  = L_elem .subs(De=gamma^2*R_f*C/( 2* gamma*1/2 * sqrt(r_f) * sqrt(4*R_f*C+r_f) )  ) \n",
    "        L_elem = L_elem.subs(DE=+0.5*I*gamma_f + 0.5*I*gamma_g + DEt*gamma)\n",
    "        L_elem = L_elem.subs(De=+0.5*I*gamma   +Det*gamma)\n",
    "        \n",
    "        L_elem = L_elem.subs(DEt=C^n)\n",
    "        L_elem = L_elem.subs(Det=C^m)\n",
    "        #COUPLINGS\n",
    "\n",
    "        var('R_f',domain='positive')#ratio  (g_f/g)^2\n",
    "        L_elem = L_elem.subs(g_f=g*sqrt(R_f))\n",
    "\n",
    "\n",
    "        L_elem = L_elem.subs(v = sqrt(c*kappa_b*kappa_c))\n",
    "        \n",
    "        var('r_f',domain='positive',latex_name =r'r_f')\n",
    "        L_elem = L_elem.subs(gamma_f=gamma*r_f)\n",
    "        \n",
    "        var('r_g',domain='positive',latex_name =r'r_g')\n",
    "        L_elem = L_elem.subs(gamma_g=gamma*r_g)\n",
    "        \n",
    "        L_elem = L_elem.subs(g = sqrt(C*gamma*kappa_c)) \n",
    "\n",
    "        #substitutions\n",
    "        #L_elem = L_elem.subs(c=np.pi,R_f=1,Deg=np.e,DEg=np.sqrt(5),r_g=np.sqrt(3),r_f=np.sqrt(2),phi=phi_val)\n",
    "        #L_elem = L_elem.subs(phi=phi_val)\n",
    "        \n",
    "        L_elem = L_elem._mathematica_().Factor()._sage_()\n",
    "\n",
    "\n",
    "        L_elem = SR(str(L_elem).replace('Sqrt','sqrt'))\n",
    "        L_elem = MMA_simplify(L_elem)#,full=True)\n",
    "\n",
    "        L_elem = SR(str(L_elem).replace('Sqrt','sqrt'))\n",
    "        \n",
    "        L_elem_show = symround(L_elem)\n",
    "        \n",
    "        eff_lind[lind_op].append(L_elem_show)\n",
    "        \n",
    "        var('x')\n",
    "        '''\n",
    "        q = L_elem.subs(C=1/x)\n",
    "        q = MMA_simplify(q)\n",
    "        tayl = q._mathematica_().Series((x,0,1)).Normal()._sage_()\n",
    "        tayl = tayl.subs(x=1/C)\n",
    "        '''\n",
    "        tayl = L_elem\n",
    "        tayl = SR(str(tayl).replace('Sqrt','sqrt'))\n",
    "        tayl_show = symround(tayl)\n",
    "        \n",
    "        eff_lind_taylor[-1].append(tayl_show)"
   ]
  },
  {
   "cell_type": "markdown",
   "id": "f1ddbf1c",
   "metadata": {},
   "source": [
    "# See results"
   ]
  },
  {
   "cell_type": "code",
   "execution_count": 241,
   "id": "31f015d8",
   "metadata": {},
   "outputs": [
    {
     "data": {
      "text/html": [
       "<html><script type=\"math/tex; mode=display\">\\newcommand{\\Bold}[1]{\\mathbf{#1}}\\frac{\\sqrt{C} {\\Omega} \\sqrt{R_{f}} \\sqrt{{\\kappa_c}}}{\\sqrt{C {\\gamma} {\\kappa_c}} {\\left(\\sqrt{C} R_{f} + \\sqrt{C} + 0.50i\\right)}}</script></html>"
      ],
      "text/latex": [
       "$$\\newcommand{\\Bold}[1]{\\mathbf{#1}}\\frac{\\sqrt{C} {\\Omega} \\sqrt{R_{f}} \\sqrt{{\\kappa_c}}}{\\sqrt{C {\\gamma} {\\kappa_c}} {\\left(\\sqrt{C} R_{f} + \\sqrt{C} + 0.50i\\right)}}$$"
      ],
      "text/plain": [
       "sqrt(C)*Omega*sqrt(R_f)*sqrt(kappa_c)/(sqrt(C*gamma*kappa_c)*(sqrt(C)*R_f + sqrt(C) + 0.50*I))"
      ]
     },
     "metadata": {},
     "output_type": "display_data"
    },
    {
     "name": "stdout",
     "output_type": "stream",
     "text": [
      "coeff:\n"
     ]
    },
    {
     "data": {
      "text/html": [
       "<html><script type=\"math/tex; mode=display\">\\newcommand{\\Bold}[1]{\\mathbf{#1}}\\sqrt{{\\kappa_c}}</script></html>"
      ],
      "text/latex": [
       "$$\\newcommand{\\Bold}[1]{\\mathbf{#1}}\\sqrt{{\\kappa_c}}$$"
      ],
      "text/plain": [
       "sqrt(kappa_c)"
      ]
     },
     "metadata": {},
     "output_type": "display_data"
    }
   ],
   "source": [
    "lindop = 0\n",
    "#t_g = gamma/Omega^2 * C^0.5\n",
    "a = eff_lind_taylor[lindop][1]\n",
    "err = a#*conjugate(a)#*t_g\n",
    "err = SR(str(MMA_simplify( err,full=False )).replace('Sqrt','sqrt')).simplify()\n",
    "show( symround( err ,digits=1) )\n",
    "print(f'coeff:')\n",
    "show(eff_lind_coeff[lindop])"
   ]
  },
  {
   "cell_type": "code",
   "execution_count": 269,
   "id": "bc6f635a",
   "metadata": {},
   "outputs": [
    {
     "name": "stdout",
     "output_type": "stream",
     "text": [
      "symround: Deleted coefficient 2.2e-16\n",
      "symround: Deleted coefficient 2.2e-16\n"
     ]
    },
    {
     "data": {
      "text/html": [
       "<html><script type=\"math/tex; mode=display\">\\newcommand{\\Bold}[1]{\\mathbf{#1}}\\frac{{\\left({c} {\\left(\\sqrt{C} + 0.50i\\right)} - 0.50i \\, C + 0.50 \\, \\sqrt{C} + 0.12i\\right)} {\\left({c} {\\left(\\sqrt{C} - 0.50i\\right)} + 0.50i \\, C + 0.50 \\, \\sqrt{C} - 0.12i\\right)} {\\Omega}^{2} R_{f} {c}}{{\\left({c}^{2} {\\left(2 i \\, \\sqrt{C} - 1.5\\right)} + {\\left(i \\, \\sqrt{C} {\\left({c} + 0.25\\right)}^{2} + C {\\left({c} + 0.25\\right)} - 0.25i \\, C^{1.5}\\right)} R_{f} + {\\left(C + 1.5i \\, \\sqrt{C} - 0.50\\right)} {c} + 0.12 \\, C + 0.12i \\, \\sqrt{C} - 0.031\\right)} {\\left({c}^{2} {\\left(-2 i \\, \\sqrt{C} - 1.5\\right)} + {\\left(-i \\, \\sqrt{C} {\\left({c} + 0.25\\right)}^{2} + C {\\left({c} + 0.25\\right)} + 0.25i \\, C^{1.5}\\right)} R_{f} + {\\left(C - 1.5i \\, \\sqrt{C} - 0.50\\right)} {c} + 0.12 \\, C - 0.12i \\, \\sqrt{C} - 0.031\\right)} {\\gamma}}</script></html>"
      ],
      "text/latex": [
       "$$\\newcommand{\\Bold}[1]{\\mathbf{#1}}\\frac{{\\left({c} {\\left(\\sqrt{C} + 0.50i\\right)} - 0.50i \\, C + 0.50 \\, \\sqrt{C} + 0.12i\\right)} {\\left({c} {\\left(\\sqrt{C} - 0.50i\\right)} + 0.50i \\, C + 0.50 \\, \\sqrt{C} - 0.12i\\right)} {\\Omega}^{2} R_{f} {c}}{{\\left({c}^{2} {\\left(2 i \\, \\sqrt{C} - 1.5\\right)} + {\\left(i \\, \\sqrt{C} {\\left({c} + 0.25\\right)}^{2} + C {\\left({c} + 0.25\\right)} - 0.25i \\, C^{1.5}\\right)} R_{f} + {\\left(C + 1.5i \\, \\sqrt{C} - 0.50\\right)} {c} + 0.12 \\, C + 0.12i \\, \\sqrt{C} - 0.031\\right)} {\\left({c}^{2} {\\left(-2 i \\, \\sqrt{C} - 1.5\\right)} + {\\left(-i \\, \\sqrt{C} {\\left({c} + 0.25\\right)}^{2} + C {\\left({c} + 0.25\\right)} + 0.25i \\, C^{1.5}\\right)} R_{f} + {\\left(C - 1.5i \\, \\sqrt{C} - 0.50\\right)} {c} + 0.12 \\, C - 0.12i \\, \\sqrt{C} - 0.031\\right)} {\\gamma}}$$"
      ],
      "text/plain": [
       "(c*(sqrt(C) + 0.50*I) - 0.50*I*C + 0.50*sqrt(C) + 0.12*I)*(c*(sqrt(C) - 0.50*I) + 0.50*I*C + 0.50*sqrt(C) - 0.12*I)*Omega^2*R_f*c/((c^2*(2*I*sqrt(C) - 1.5) + (I*sqrt(C)*(c + 0.25)^2 + C*(c + 0.25) - 0.25*I*C^1.5)*R_f + (C + 1.5*I*sqrt(C) - 0.50)*c + 0.12*C + 0.12*I*sqrt(C) - 0.031)*(c^2*(-2*I*sqrt(C) - 1.5) + (-I*sqrt(C)*(c + 0.25)^2 + C*(c + 0.25) + 0.25*I*C^1.5)*R_f + (C - 1.5*I*sqrt(C) - 0.50)*c + 0.12*C - 0.12*I*sqrt(C) - 0.031)*gamma)"
      ]
     },
     "metadata": {},
     "output_type": "display_data"
    },
    {
     "name": "stdout",
     "output_type": "stream",
     "text": [
      "coeff:\n"
     ]
    },
    {
     "data": {
      "text/html": [
       "<html><script type=\"math/tex; mode=display\">\\newcommand{\\Bold}[1]{\\mathbf{#1}}\\sqrt{{\\kappa_b}}</script></html>"
      ],
      "text/latex": [
       "$$\\newcommand{\\Bold}[1]{\\mathbf{#1}}\\sqrt{{\\kappa_b}}$$"
      ],
      "text/plain": [
       "sqrt(kappa_b)"
      ]
     },
     "metadata": {},
     "output_type": "display_data"
    }
   ],
   "source": [
    "lindop = 2\n",
    "#t_g = gamma/Omega^2 * C^0.5\n",
    "a = eff_lind_taylor[lindop][3]\n",
    "err = a*conjugate(a)#*t_g\n",
    "err = SR(str(MMA_simplify( err,full=False )).replace('Sqrt','sqrt')).simplify()\n",
    "show( symround( err ,digits=1) )\n",
    "print(f'coeff:')\n",
    "show(eff_lind_coeff[lindop])"
   ]
  },
  {
   "cell_type": "code",
   "execution_count": 270,
   "id": "31ddb98f",
   "metadata": {},
   "outputs": [
    {
     "data": {
      "text/html": [
       "<html><script type=\"math/tex; mode=display\">\\newcommand{\\Bold}[1]{\\mathbf{#1}}C^{9} {\\Omega}^{2} R_{f} {\\gamma}^{5} {\\kappa_c}^{5} + C^{8} {\\Omega}^{2} R_{f} {\\gamma}^{5} {\\kappa_c}^{5} + 0.25 \\, C^{7} {\\Omega}^{2} R_{f} {\\gamma}^{5} {\\kappa_c}^{5} + 0.016 \\, C^{6} {\\Omega}^{2} R_{f} {\\gamma}^{5} {\\kappa_c}^{5}</script></html>"
      ],
      "text/latex": [
       "$$\\newcommand{\\Bold}[1]{\\mathbf{#1}}C^{9} {\\Omega}^{2} R_{f} {\\gamma}^{5} {\\kappa_c}^{5} + C^{8} {\\Omega}^{2} R_{f} {\\gamma}^{5} {\\kappa_c}^{5} + 0.25 \\, C^{7} {\\Omega}^{2} R_{f} {\\gamma}^{5} {\\kappa_c}^{5} + 0.016 \\, C^{6} {\\Omega}^{2} R_{f} {\\gamma}^{5} {\\kappa_c}^{5}$$"
      ],
      "text/plain": [
       "C^9*Omega^2*R_f*gamma^5*kappa_c^5 + C^8*Omega^2*R_f*gamma^5*kappa_c^5 + 0.25*C^7*Omega^2*R_f*gamma^5*kappa_c^5 + 0.016*C^6*Omega^2*R_f*gamma^5*kappa_c^5"
      ]
     },
     "metadata": {},
     "output_type": "display_data"
    }
   ],
   "source": [
    "show(symround(err.numerator().expand().subs(c=C)))"
   ]
  },
  {
   "cell_type": "code",
   "execution_count": 273,
   "id": "8f113cbf",
   "metadata": {},
   "outputs": [
    {
     "name": "stdout",
     "output_type": "stream",
     "text": [
      "symround: Deleted coefficient 4.4e-16\n",
      "symround: Deleted coefficient -2.2e-16\n",
      "symround: Deleted coefficient 3.3e-16\n",
      "symround: Deleted coefficient 4.9e-32\n",
      "symround: Deleted coefficient -2.8e-16\n",
      "symround: Deleted coefficient 8.3e-17\n",
      "symround: Deleted coefficient -1.1e-16\n",
      "symround: Deleted coefficient 6.9e-18\n",
      "symround: Deleted coefficient 3.1e-33\n",
      "symround: Deleted coefficient -1.7e-17\n",
      "symround: Deleted coefficient -8.7e-19\n"
     ]
    },
    {
     "data": {
      "text/html": [
       "<html><script type=\"math/tex; mode=display\">\\newcommand{\\Bold}[1]{\\mathbf{#1}}C^{10} R_{f}^{2} {\\gamma}^{6} {\\kappa_c}^{5} + 4 \\, C^{10} R_{f} {\\gamma}^{6} {\\kappa_c}^{5} + 1.5 \\, C^{9} R_{f}^{2} {\\gamma}^{6} {\\kappa_c}^{5} + 4 \\, C^{10} {\\gamma}^{6} {\\kappa_c}^{5} + 3 \\, C^{9} R_{f} {\\gamma}^{6} {\\kappa_c}^{5} + 0.69 \\, C^{8} R_{f}^{2} {\\gamma}^{6} {\\kappa_c}^{5} + 6.2 \\, C^{9} {\\gamma}^{6} {\\kappa_c}^{5} + 0.25 \\, C^{8} R_{f} {\\gamma}^{6} {\\kappa_c}^{5} + 0.094 \\, C^{7} R_{f}^{2} {\\gamma}^{6} {\\kappa_c}^{5} + 3.1 \\, C^{8} {\\gamma}^{6} {\\kappa_c}^{5} + 0.0039 \\, C^{6} R_{f}^{2} {\\gamma}^{6} {\\kappa_c}^{5} + 0.55 \\, C^{7} {\\gamma}^{6} {\\kappa_c}^{5} + 0.039 \\, C^{6} {\\gamma}^{6} {\\kappa_c}^{5} + 0.00098 \\, C^{5} {\\gamma}^{6} {\\kappa_c}^{5}</script></html>"
      ],
      "text/latex": [
       "$$\\newcommand{\\Bold}[1]{\\mathbf{#1}}C^{10} R_{f}^{2} {\\gamma}^{6} {\\kappa_c}^{5} + 4 \\, C^{10} R_{f} {\\gamma}^{6} {\\kappa_c}^{5} + 1.5 \\, C^{9} R_{f}^{2} {\\gamma}^{6} {\\kappa_c}^{5} + 4 \\, C^{10} {\\gamma}^{6} {\\kappa_c}^{5} + 3 \\, C^{9} R_{f} {\\gamma}^{6} {\\kappa_c}^{5} + 0.69 \\, C^{8} R_{f}^{2} {\\gamma}^{6} {\\kappa_c}^{5} + 6.2 \\, C^{9} {\\gamma}^{6} {\\kappa_c}^{5} + 0.25 \\, C^{8} R_{f} {\\gamma}^{6} {\\kappa_c}^{5} + 0.094 \\, C^{7} R_{f}^{2} {\\gamma}^{6} {\\kappa_c}^{5} + 3.1 \\, C^{8} {\\gamma}^{6} {\\kappa_c}^{5} + 0.0039 \\, C^{6} R_{f}^{2} {\\gamma}^{6} {\\kappa_c}^{5} + 0.55 \\, C^{7} {\\gamma}^{6} {\\kappa_c}^{5} + 0.039 \\, C^{6} {\\gamma}^{6} {\\kappa_c}^{5} + 0.00098 \\, C^{5} {\\gamma}^{6} {\\kappa_c}^{5}$$"
      ],
      "text/plain": [
       "C^10*R_f^2*gamma^6*kappa_c^5 + 4*C^10*R_f*gamma^6*kappa_c^5 + 1.5*C^9*R_f^2*gamma^6*kappa_c^5 + 4*C^10*gamma^6*kappa_c^5 + 3*C^9*R_f*gamma^6*kappa_c^5 + 0.69*C^8*R_f^2*gamma^6*kappa_c^5 + 6.2*C^9*gamma^6*kappa_c^5 + 0.25*C^8*R_f*gamma^6*kappa_c^5 + 0.094*C^7*R_f^2*gamma^6*kappa_c^5 + 3.1*C^8*gamma^6*kappa_c^5 + 0.0039*C^6*R_f^2*gamma^6*kappa_c^5 + 0.55*C^7*gamma^6*kappa_c^5 + 0.039*C^6*gamma^6*kappa_c^5 + 0.00098*C^5*gamma^6*kappa_c^5"
      ]
     },
     "metadata": {},
     "output_type": "display_data"
    }
   ],
   "source": [
    "show(symround(err.denominator().expand().subs(c=C)))"
   ]
  },
  {
   "cell_type": "code",
   "execution_count": null,
   "id": "af6015bc",
   "metadata": {},
   "outputs": [],
   "source": []
  },
  {
   "cell_type": "code",
   "execution_count": null,
   "id": "5b5b0d78",
   "metadata": {},
   "outputs": [],
   "source": []
  },
  {
   "cell_type": "code",
   "execution_count": null,
   "id": "6c3730a5",
   "metadata": {},
   "outputs": [],
   "source": []
  },
  {
   "cell_type": "code",
   "execution_count": 354,
   "id": "12d274d3",
   "metadata": {},
   "outputs": [],
   "source": []
  },
  {
   "cell_type": "code",
   "execution_count": 68,
   "id": "908ba80c",
   "metadata": {},
   "outputs": [
    {
     "data": {
      "text/html": [
       "<html><script type=\"math/tex; mode=display\">\\newcommand{\\Bold}[1]{\\mathbf{#1}}\\frac{A \\sqrt{C} {\\Omega}^{2}}{{\\left(4 \\, C^{2} R_{f}^{2} + A^{2} C\\right)} {\\gamma}}</script></html>"
      ],
      "text/latex": [
       "$$\\newcommand{\\Bold}[1]{\\mathbf{#1}}\\frac{A \\sqrt{C} {\\Omega}^{2}}{{\\left(4 \\, C^{2} R_{f}^{2} + A^{2} C\\right)} {\\gamma}}$$"
      ],
      "text/plain": [
       "A*sqrt(C)*Omega^2/((4*C^2*R_f^2 + A^2*C)*gamma)"
      ]
     },
     "metadata": {},
     "output_type": "display_data"
    },
    {
     "data": {
      "text/html": [
       "Numerator"
      ],
      "text/plain": [
       "'Numerator'"
      ]
     },
     "metadata": {},
     "output_type": "display_data"
    },
    {
     "data": {
      "text/html": [
       "<html><script type=\"math/tex; mode=display\">\\newcommand{\\Bold}[1]{\\mathbf{#1}}A \\sqrt{C} {\\Omega}^{2}</script></html>"
      ],
      "text/latex": [
       "$$\\newcommand{\\Bold}[1]{\\mathbf{#1}}A \\sqrt{C} {\\Omega}^{2}$$"
      ],
      "text/plain": [
       "A*sqrt(C)*Omega^2"
      ]
     },
     "metadata": {},
     "output_type": "display_data"
    },
    {
     "data": {
      "text/html": [
       "Denominator"
      ],
      "text/plain": [
       "'Denominator'"
      ]
     },
     "metadata": {},
     "output_type": "display_data"
    },
    {
     "data": {
      "text/html": [
       "<html><script type=\"math/tex; mode=display\">\\newcommand{\\Bold}[1]{\\mathbf{#1}}4 \\, C^{2} R_{f}^{2} {\\gamma} + A^{2} C {\\gamma}</script></html>"
      ],
      "text/latex": [
       "$$\\newcommand{\\Bold}[1]{\\mathbf{#1}}4 \\, C^{2} R_{f}^{2} {\\gamma} + A^{2} C {\\gamma}$$"
      ],
      "text/plain": [
       "4*C^2*R_f^2*gamma + A^2*C*gamma"
      ]
     },
     "metadata": {},
     "output_type": "display_data"
    }
   ],
   "source": [
    "i = 0\n",
    "show(symround(eff_hamiltonian_tayl[i,i].full_simplify()))\n",
    "show('Numerator')\n",
    "show(symround(eff_hamiltonian_tayl[i,i].full_simplify().numerator().expand()))\n",
    "show('Denominator')\n",
    "show(symround(eff_hamiltonian_tayl[i,i].full_simplify().denominator().expand()))"
   ]
  },
  {
   "cell_type": "code",
   "execution_count": 69,
   "id": "12ba2650",
   "metadata": {},
   "outputs": [
    {
     "data": {
      "text/html": [
       "<html><script type=\"math/tex; mode=display\">\\newcommand{\\Bold}[1]{\\mathbf{#1}}\\frac{{\\left(4 \\, B C {\\Omega}^{2} R_{f} + {\\left(A B^{2} + 4 \\, A C\\right)} {\\Omega}^{2}\\right)} \\sqrt{C}}{{\\left(4 \\, B^{2} C^{2} R_{f}^{2} + A^{2} B^{2} C + 8 \\, A B C^{2} R_{f} + 4 \\, A^{2} C^{2}\\right)} {\\gamma}}</script></html>"
      ],
      "text/latex": [
       "$$\\newcommand{\\Bold}[1]{\\mathbf{#1}}\\frac{{\\left(4 \\, B C {\\Omega}^{2} R_{f} + {\\left(A B^{2} + 4 \\, A C\\right)} {\\Omega}^{2}\\right)} \\sqrt{C}}{{\\left(4 \\, B^{2} C^{2} R_{f}^{2} + A^{2} B^{2} C + 8 \\, A B C^{2} R_{f} + 4 \\, A^{2} C^{2}\\right)} {\\gamma}}$$"
      ],
      "text/plain": [
       "(4*B*C*Omega^2*R_f + (A*B^2 + 4*A*C)*Omega^2)*sqrt(C)/((4*B^2*C^2*R_f^2 + A^2*B^2*C + 8*A*B*C^2*R_f + 4*A^2*C^2)*gamma)"
      ]
     },
     "metadata": {},
     "output_type": "display_data"
    },
    {
     "data": {
      "text/html": [
       "Numerator"
      ],
      "text/plain": [
       "'Numerator'"
      ]
     },
     "metadata": {},
     "output_type": "display_data"
    },
    {
     "data": {
      "text/html": [
       "<html><script type=\"math/tex; mode=display\">\\newcommand{\\Bold}[1]{\\mathbf{#1}}A B^{2} \\sqrt{C} {\\Omega}^{2} + 4 \\, B C^{1.5} {\\Omega}^{2} R_{f} + 4 \\, A C^{1.5} {\\Omega}^{2}</script></html>"
      ],
      "text/latex": [
       "$$\\newcommand{\\Bold}[1]{\\mathbf{#1}}A B^{2} \\sqrt{C} {\\Omega}^{2} + 4 \\, B C^{1.5} {\\Omega}^{2} R_{f} + 4 \\, A C^{1.5} {\\Omega}^{2}$$"
      ],
      "text/plain": [
       "A*B^2*sqrt(C)*Omega^2 + 4*B*C^1.5*Omega^2*R_f + 4*A*C^1.5*Omega^2"
      ]
     },
     "metadata": {},
     "output_type": "display_data"
    },
    {
     "data": {
      "text/html": [
       "Denominator"
      ],
      "text/plain": [
       "'Denominator'"
      ]
     },
     "metadata": {},
     "output_type": "display_data"
    },
    {
     "data": {
      "text/html": [
       "<html><script type=\"math/tex; mode=display\">\\newcommand{\\Bold}[1]{\\mathbf{#1}}4 \\, B^{2} C^{2} R_{f}^{2} {\\gamma} + A^{2} B^{2} C {\\gamma} + 8 \\, A B C^{2} R_{f} {\\gamma} + 4 \\, A^{2} C^{2} {\\gamma}</script></html>"
      ],
      "text/latex": [
       "$$\\newcommand{\\Bold}[1]{\\mathbf{#1}}4 \\, B^{2} C^{2} R_{f}^{2} {\\gamma} + A^{2} B^{2} C {\\gamma} + 8 \\, A B C^{2} R_{f} {\\gamma} + 4 \\, A^{2} C^{2} {\\gamma}$$"
      ],
      "text/plain": [
       "4*B^2*C^2*R_f^2*gamma + A^2*B^2*C*gamma + 8*A*B*C^2*R_f*gamma + 4*A^2*C^2*gamma"
      ]
     },
     "metadata": {},
     "output_type": "display_data"
    }
   ],
   "source": [
    "i = 1\n",
    "show(symround(eff_hamiltonian_tayl[i,i].full_simplify()))\n",
    "show('Numerator')\n",
    "show(symround(eff_hamiltonian_tayl[i,i].full_simplify().numerator().expand()))\n",
    "show('Denominator')\n",
    "show(symround(eff_hamiltonian_tayl[i,i].full_simplify().denominator().expand()))"
   ]
  },
  {
   "cell_type": "code",
   "execution_count": 16,
   "id": "30ac1428",
   "metadata": {},
   "outputs": [
    {
     "data": {
      "text/html": [
       "<html><script type=\"math/tex; mode=display\">\\newcommand{\\Bold}[1]{\\mathbf{#1}}-0.50 \\, \\Omega^{2} {\\left(\\frac{-0.0039 \\, \\kappa_{b}^{4} \\kappa_{c}^{4} - 0.12 \\, \\kappa_{b}^{3} \\kappa_{c}^{3} v^{2} - 1.2 \\, \\kappa_{b}^{2} \\kappa_{c}^{2} v^{4} - 4 \\, \\kappa_{b} \\kappa_{c} v^{6}}{0.0078i \\, g_{f}^{2} \\kappa_{b}^{4} \\kappa_{c}^{3} + 0.0020i \\, \\gamma_{f} \\kappa_{b}^{4} \\kappa_{c}^{4} + 0.0020i \\, \\gamma_{g} \\kappa_{b}^{4} \\kappa_{c}^{4} + 0.19i \\, g_{f}^{2} \\kappa_{b}^{3} \\kappa_{c}^{2} v^{2} + 0.062i \\, \\gamma_{f} \\kappa_{b}^{3} \\kappa_{c}^{3} v^{2} + 0.062i \\, \\gamma_{g} \\kappa_{b}^{3} \\kappa_{c}^{3} v^{2} + 1.2i \\, g_{f}^{2} \\kappa_{b}^{2} \\kappa_{c} v^{4} + 0.62i \\, \\gamma_{f} \\kappa_{b}^{2} \\kappa_{c}^{2} v^{4} + 0.62i \\, \\gamma_{g} \\kappa_{b}^{2} \\kappa_{c}^{2} v^{4} + 2 i \\, g_{f}^{2} \\kappa_{b} v^{6} + 2 i \\, \\gamma_{f} \\kappa_{b} \\kappa_{c} v^{6} + 2 i \\, \\gamma_{g} \\kappa_{b} \\kappa_{c} v^{6}} + \\frac{-0.0039 \\, \\kappa_{b}^{4} \\kappa_{c}^{4} - 0.12 \\, \\kappa_{b}^{3} \\kappa_{c}^{3} v^{2} - 1.2 \\, \\kappa_{b}^{2} \\kappa_{c}^{2} v^{4} - 4 \\, \\kappa_{b} \\kappa_{c} v^{6}}{-0.0078i \\, g_{f}^{2} \\kappa_{b}^{4} \\kappa_{c}^{3} - 0.0020i \\, \\gamma_{f} \\kappa_{b}^{4} \\kappa_{c}^{4} - 0.0020i \\, \\gamma_{g} \\kappa_{b}^{4} \\kappa_{c}^{4} - 0.19i \\, g_{f}^{2} \\kappa_{b}^{3} \\kappa_{c}^{2} v^{2} - 0.062i \\, \\gamma_{f} \\kappa_{b}^{3} \\kappa_{c}^{3} v^{2} - 0.062i \\, \\gamma_{g} \\kappa_{b}^{3} \\kappa_{c}^{3} v^{2} - 1.2i \\, g_{f}^{2} \\kappa_{b}^{2} \\kappa_{c} v^{4} - 0.62i \\, \\gamma_{f} \\kappa_{b}^{2} \\kappa_{c}^{2} v^{4} - 0.62i \\, \\gamma_{g} \\kappa_{b}^{2} \\kappa_{c}^{2} v^{4} - 2 i \\, g_{f}^{2} \\kappa_{b} v^{6} - 2 i \\, \\gamma_{f} \\kappa_{b} \\kappa_{c} v^{6} - 2 i \\, \\gamma_{g} \\kappa_{b} \\kappa_{c} v^{6}}\\right)}</script></html>"
      ],
      "text/latex": [
       "$$\\newcommand{\\Bold}[1]{\\mathbf{#1}}-0.50 \\, \\Omega^{2} {\\left(\\frac{-0.0039 \\, \\kappa_{b}^{4} \\kappa_{c}^{4} - 0.12 \\, \\kappa_{b}^{3} \\kappa_{c}^{3} v^{2} - 1.2 \\, \\kappa_{b}^{2} \\kappa_{c}^{2} v^{4} - 4 \\, \\kappa_{b} \\kappa_{c} v^{6}}{0.0078i \\, g_{f}^{2} \\kappa_{b}^{4} \\kappa_{c}^{3} + 0.0020i \\, \\gamma_{f} \\kappa_{b}^{4} \\kappa_{c}^{4} + 0.0020i \\, \\gamma_{g} \\kappa_{b}^{4} \\kappa_{c}^{4} + 0.19i \\, g_{f}^{2} \\kappa_{b}^{3} \\kappa_{c}^{2} v^{2} + 0.062i \\, \\gamma_{f} \\kappa_{b}^{3} \\kappa_{c}^{3} v^{2} + 0.062i \\, \\gamma_{g} \\kappa_{b}^{3} \\kappa_{c}^{3} v^{2} + 1.2i \\, g_{f}^{2} \\kappa_{b}^{2} \\kappa_{c} v^{4} + 0.62i \\, \\gamma_{f} \\kappa_{b}^{2} \\kappa_{c}^{2} v^{4} + 0.62i \\, \\gamma_{g} \\kappa_{b}^{2} \\kappa_{c}^{2} v^{4} + 2 i \\, g_{f}^{2} \\kappa_{b} v^{6} + 2 i \\, \\gamma_{f} \\kappa_{b} \\kappa_{c} v^{6} + 2 i \\, \\gamma_{g} \\kappa_{b} \\kappa_{c} v^{6}} + \\frac{-0.0039 \\, \\kappa_{b}^{4} \\kappa_{c}^{4} - 0.12 \\, \\kappa_{b}^{3} \\kappa_{c}^{3} v^{2} - 1.2 \\, \\kappa_{b}^{2} \\kappa_{c}^{2} v^{4} - 4 \\, \\kappa_{b} \\kappa_{c} v^{6}}{-0.0078i \\, g_{f}^{2} \\kappa_{b}^{4} \\kappa_{c}^{3} - 0.0020i \\, \\gamma_{f} \\kappa_{b}^{4} \\kappa_{c}^{4} - 0.0020i \\, \\gamma_{g} \\kappa_{b}^{4} \\kappa_{c}^{4} - 0.19i \\, g_{f}^{2} \\kappa_{b}^{3} \\kappa_{c}^{2} v^{2} - 0.062i \\, \\gamma_{f} \\kappa_{b}^{3} \\kappa_{c}^{3} v^{2} - 0.062i \\, \\gamma_{g} \\kappa_{b}^{3} \\kappa_{c}^{3} v^{2} - 1.2i \\, g_{f}^{2} \\kappa_{b}^{2} \\kappa_{c} v^{4} - 0.62i \\, \\gamma_{f} \\kappa_{b}^{2} \\kappa_{c}^{2} v^{4} - 0.62i \\, \\gamma_{g} \\kappa_{b}^{2} \\kappa_{c}^{2} v^{4} - 2 i \\, g_{f}^{2} \\kappa_{b} v^{6} - 2 i \\, \\gamma_{f} \\kappa_{b} \\kappa_{c} v^{6} - 2 i \\, \\gamma_{g} \\kappa_{b} \\kappa_{c} v^{6}}\\right)}$$"
      ],
      "text/plain": [
       "-0.50*Omega^2*((-0.0039*kappa_b^4*kappa_c^4 - 0.12*kappa_b^3*kappa_c^3*v^2 - 1.2*kappa_b^2*kappa_c^2*v^4 - 4*kappa_b*kappa_c*v^6)/(0.0078*I*g_f^2*kappa_b^4*kappa_c^3 + 0.0020*I*gamma_f*kappa_b^4*kappa_c^4 + 0.0020*I*gamma_g*kappa_b^4*kappa_c^4 + 0.19*I*g_f^2*kappa_b^3*kappa_c^2*v^2 + 0.062*I*gamma_f*kappa_b^3*kappa_c^3*v^2 + 0.062*I*gamma_g*kappa_b^3*kappa_c^3*v^2 + 1.2*I*g_f^2*kappa_b^2*kappa_c*v^4 + 0.62*I*gamma_f*kappa_b^2*kappa_c^2*v^4 + 0.62*I*gamma_g*kappa_b^2*kappa_c^2*v^4 + 2*I*g_f^2*kappa_b*v^6 + 2*I*gamma_f*kappa_b*kappa_c*v^6 + 2*I*gamma_g*kappa_b*kappa_c*v^6) + (-0.0039*kappa_b^4*kappa_c^4 - 0.12*kappa_b^3*kappa_c^3*v^2 - 1.2*kappa_b^2*kappa_c^2*v^4 - 4*kappa_b*kappa_c*v^6)/(-0.0078*I*g_f^2*kappa_b^4*kappa_c^3 - 0.0020*I*gamma_f*kappa_b^4*kappa_c^4 - 0.0020*I*gamma_g*kappa_b^4*kappa_c^4 - 0.19*I*g_f^2*kappa_b^3*kappa_c^2*v^2 - 0.062*I*gamma_f*kappa_b^3*kappa_c^3*v^2 - 0.062*I*gamma_g*kappa_b^3*kappa_c^3*v^2 - 1.2*I*g_f^2*kappa_b^2*kappa_c*v^4 - 0.62*I*gamma_f*kappa_b^2*kappa_c^2*v^4 - 0.62*I*gamma_g*kappa_b^2*kappa_c^2*v^4 - 2*I*g_f^2*kappa_b*v^6 - 2*I*gamma_f*kappa_b*kappa_c*v^6 - 2*I*gamma_g*kappa_b*kappa_c*v^6))"
      ]
     },
     "metadata": {},
     "output_type": "display_data"
    }
   ],
   "source": [
    "show(symround(s1.eff_hamiltonian_gs[0,0]).subs(DE=0,phi=0,v))"
   ]
  },
  {
   "cell_type": "code",
   "execution_count": 19,
   "id": "e5babc41",
   "metadata": {},
   "outputs": [
    {
     "data": {
      "text/plain": [
       "-0.5*Omega^2.00000000000000*((0.00390625000000000*kappa_b^4*kappa_c^4 + 0.125000000000000*kappa_b^3*kappa_c^3*v^2.00000000000000 + 1.25000000000000*kappa_b^2.00000000000000*kappa_c^2.00000000000000*v^4 + 4*kappa_b*kappa_c*v^6)/(0.00781250000000000*I*g_f^2.00000000000000*kappa_b^4*kappa_c^3 + 0.00195312500000000*I*gamma_f*kappa_b^4*kappa_c^4 + 0.00195312500000000*I*gamma_g*kappa_b^4*kappa_c^4 + 0.187500000000000*I*g_f^2.00000000000000*kappa_b^3*kappa_c^2.00000000000000*v^2.00000000000000 + 0.0625000000000000*I*gamma_f*kappa_b^3*kappa_c^3*v^2.00000000000000 + 0.0625000000000000*I*gamma_g*kappa_b^3*kappa_c^3*v^2.00000000000000 + 1.25000000000000*I*g_f^2.00000000000000*kappa_b^2.00000000000000*kappa_c*v^4 + 0.625000000000000*I*gamma_f*kappa_b^2.00000000000000*kappa_c^2.00000000000000*v^4 + 0.625000000000000*I*gamma_g*kappa_b^2.00000000000000*kappa_c^2.00000000000000*v^4 + 2.00000000000000*I*g_f^2.00000000000000*kappa_b*v^6 + 2.00000000000000*I*gamma_f*kappa_b*kappa_c*v^6 + 2.00000000000000*I*gamma_g*kappa_b*kappa_c*v^6)^1.00000000000000 + (0.00390625000000000*kappa_b^4*kappa_c^4 + 0.125000000000000*kappa_b^3*kappa_c^3*v^2.00000000000000 + 1.25000000000000*kappa_b^2.00000000000000*kappa_c^2.00000000000000*v^4 + 4*kappa_b*kappa_c*v^6)/(-0.00781250000000000*I*g_f^2.00000000000000*kappa_b^4*kappa_c^3 - 0.00195312500000000*I*gamma_f*kappa_b^4*kappa_c^4 - 0.00195312500000000*I*gamma_g*kappa_b^4*kappa_c^4 - 0.187500000000000*I*g_f^2.00000000000000*kappa_b^3*kappa_c^2.00000000000000*v^2.00000000000000 - 0.0625000000000000*I*gamma_f*kappa_b^3*kappa_c^3*v^2.00000000000000 - 0.0625000000000000*I*gamma_g*kappa_b^3*kappa_c^3*v^2.00000000000000 - 1.25000000000000*I*g_f^2.00000000000000*kappa_b^2.00000000000000*kappa_c*v^4 - 0.625000000000000*I*gamma_f*kappa_b^2.00000000000000*kappa_c^2.00000000000000*v^4 - 0.625000000000000*I*gamma_g*kappa_b^2.00000000000000*kappa_c^2.00000000000000*v^4 - 2.00000000000000*I*g_f^2.00000000000000*kappa_b*v^6 - 2.00000000000000*I*gamma_f*kappa_b*kappa_c*v^6 - 2.00000000000000*I*gamma_g*kappa_b*kappa_c*v^6)^1.00000000000000)"
      ]
     },
     "execution_count": 19,
     "metadata": {},
     "output_type": "execute_result"
    }
   ],
   "source": [
    "s1.eff_hamiltonian_gs[0,0].subs(DE=0,phi=0)"
   ]
  },
  {
   "cell_type": "code",
   "execution_count": 31,
   "id": "9510b7d1",
   "metadata": {},
   "outputs": [
    {
     "data": {
      "text/html": [
       "<html><script type=\"math/tex; mode=display\">\\newcommand{\\Bold}[1]{\\mathbf{#1}}-0.50 \\, {\\Omega}^{2} {\\left(\\frac{4 \\, {c}^{3} {\\kappa_b}^{4} {\\kappa_c}^{4} + 1.2 \\, {c}^{2} {\\kappa_b}^{4} {\\kappa_c}^{4} + 0.12 \\, {c} {\\kappa_b}^{4} {\\kappa_c}^{4} + 0.0039 \\, {\\kappa_b}^{4} {\\kappa_c}^{4}}{2 i \\, C R_{f} {c}^{3} {\\gamma} {\\kappa_b}^{4} {\\kappa_c}^{4} + 1.2i \\, C R_{f} {c}^{2} {\\gamma} {\\kappa_b}^{4} {\\kappa_c}^{4} + 2 i \\, {c}^{3} {\\gamma} {\\kappa_b}^{4} {\\kappa_c}^{4} {r_f} + 2 i \\, {c}^{3} {\\gamma} {\\kappa_b}^{4} {\\kappa_c}^{4} {r_g} + 0.19i \\, C R_{f} {c} {\\gamma} {\\kappa_b}^{4} {\\kappa_c}^{4} + 0.62i \\, {c}^{2} {\\gamma} {\\kappa_b}^{4} {\\kappa_c}^{4} {r_f} + 0.62i \\, {c}^{2} {\\gamma} {\\kappa_b}^{4} {\\kappa_c}^{4} {r_g} + 0.0078i \\, C R_{f} {\\gamma} {\\kappa_b}^{4} {\\kappa_c}^{4} + 0.062i \\, {c} {\\gamma} {\\kappa_b}^{4} {\\kappa_c}^{4} {r_f} + 0.062i \\, {c} {\\gamma} {\\kappa_b}^{4} {\\kappa_c}^{4} {r_g} + 0.0020i \\, {\\gamma} {\\kappa_b}^{4} {\\kappa_c}^{4} {r_f} + 0.0020i \\, {\\gamma} {\\kappa_b}^{4} {\\kappa_c}^{4} {r_g}} + \\frac{4 \\, {c}^{3} {\\kappa_b}^{4} {\\kappa_c}^{4} + 1.2 \\, {c}^{2} {\\kappa_b}^{4} {\\kappa_c}^{4} + 0.12 \\, {c} {\\kappa_b}^{4} {\\kappa_c}^{4} + 0.0039 \\, {\\kappa_b}^{4} {\\kappa_c}^{4}}{-2 i \\, C R_{f} {c}^{3} {\\gamma} {\\kappa_b}^{4} {\\kappa_c}^{4} - 1.2i \\, C R_{f} {c}^{2} {\\gamma} {\\kappa_b}^{4} {\\kappa_c}^{4} - 2 i \\, {c}^{3} {\\gamma} {\\kappa_b}^{4} {\\kappa_c}^{4} {r_f} - 2 i \\, {c}^{3} {\\gamma} {\\kappa_b}^{4} {\\kappa_c}^{4} {r_g} - 0.19i \\, C R_{f} {c} {\\gamma} {\\kappa_b}^{4} {\\kappa_c}^{4} - 0.62i \\, {c}^{2} {\\gamma} {\\kappa_b}^{4} {\\kappa_c}^{4} {r_f} - 0.62i \\, {c}^{2} {\\gamma} {\\kappa_b}^{4} {\\kappa_c}^{4} {r_g} - 0.0078i \\, C R_{f} {\\gamma} {\\kappa_b}^{4} {\\kappa_c}^{4} - 0.062i \\, {c} {\\gamma} {\\kappa_b}^{4} {\\kappa_c}^{4} {r_f} - 0.062i \\, {c} {\\gamma} {\\kappa_b}^{4} {\\kappa_c}^{4} {r_g} - 0.0020i \\, {\\gamma} {\\kappa_b}^{4} {\\kappa_c}^{4} {r_f} - 0.0020i \\, {\\gamma} {\\kappa_b}^{4} {\\kappa_c}^{4} {r_g}}\\right)}</script></html>"
      ],
      "text/latex": [
       "$$\\newcommand{\\Bold}[1]{\\mathbf{#1}}-0.50 \\, {\\Omega}^{2} {\\left(\\frac{4 \\, {c}^{3} {\\kappa_b}^{4} {\\kappa_c}^{4} + 1.2 \\, {c}^{2} {\\kappa_b}^{4} {\\kappa_c}^{4} + 0.12 \\, {c} {\\kappa_b}^{4} {\\kappa_c}^{4} + 0.0039 \\, {\\kappa_b}^{4} {\\kappa_c}^{4}}{2 i \\, C R_{f} {c}^{3} {\\gamma} {\\kappa_b}^{4} {\\kappa_c}^{4} + 1.2i \\, C R_{f} {c}^{2} {\\gamma} {\\kappa_b}^{4} {\\kappa_c}^{4} + 2 i \\, {c}^{3} {\\gamma} {\\kappa_b}^{4} {\\kappa_c}^{4} {r_f} + 2 i \\, {c}^{3} {\\gamma} {\\kappa_b}^{4} {\\kappa_c}^{4} {r_g} + 0.19i \\, C R_{f} {c} {\\gamma} {\\kappa_b}^{4} {\\kappa_c}^{4} + 0.62i \\, {c}^{2} {\\gamma} {\\kappa_b}^{4} {\\kappa_c}^{4} {r_f} + 0.62i \\, {c}^{2} {\\gamma} {\\kappa_b}^{4} {\\kappa_c}^{4} {r_g} + 0.0078i \\, C R_{f} {\\gamma} {\\kappa_b}^{4} {\\kappa_c}^{4} + 0.062i \\, {c} {\\gamma} {\\kappa_b}^{4} {\\kappa_c}^{4} {r_f} + 0.062i \\, {c} {\\gamma} {\\kappa_b}^{4} {\\kappa_c}^{4} {r_g} + 0.0020i \\, {\\gamma} {\\kappa_b}^{4} {\\kappa_c}^{4} {r_f} + 0.0020i \\, {\\gamma} {\\kappa_b}^{4} {\\kappa_c}^{4} {r_g}} + \\frac{4 \\, {c}^{3} {\\kappa_b}^{4} {\\kappa_c}^{4} + 1.2 \\, {c}^{2} {\\kappa_b}^{4} {\\kappa_c}^{4} + 0.12 \\, {c} {\\kappa_b}^{4} {\\kappa_c}^{4} + 0.0039 \\, {\\kappa_b}^{4} {\\kappa_c}^{4}}{-2 i \\, C R_{f} {c}^{3} {\\gamma} {\\kappa_b}^{4} {\\kappa_c}^{4} - 1.2i \\, C R_{f} {c}^{2} {\\gamma} {\\kappa_b}^{4} {\\kappa_c}^{4} - 2 i \\, {c}^{3} {\\gamma} {\\kappa_b}^{4} {\\kappa_c}^{4} {r_f} - 2 i \\, {c}^{3} {\\gamma} {\\kappa_b}^{4} {\\kappa_c}^{4} {r_g} - 0.19i \\, C R_{f} {c} {\\gamma} {\\kappa_b}^{4} {\\kappa_c}^{4} - 0.62i \\, {c}^{2} {\\gamma} {\\kappa_b}^{4} {\\kappa_c}^{4} {r_f} - 0.62i \\, {c}^{2} {\\gamma} {\\kappa_b}^{4} {\\kappa_c}^{4} {r_g} - 0.0078i \\, C R_{f} {\\gamma} {\\kappa_b}^{4} {\\kappa_c}^{4} - 0.062i \\, {c} {\\gamma} {\\kappa_b}^{4} {\\kappa_c}^{4} {r_f} - 0.062i \\, {c} {\\gamma} {\\kappa_b}^{4} {\\kappa_c}^{4} {r_g} - 0.0020i \\, {\\gamma} {\\kappa_b}^{4} {\\kappa_c}^{4} {r_f} - 0.0020i \\, {\\gamma} {\\kappa_b}^{4} {\\kappa_c}^{4} {r_g}}\\right)}$$"
      ],
      "text/plain": [
       "-0.50*Omega^2*((4*c^3*kappa_b^4*kappa_c^4 + 1.2*c^2*kappa_b^4*kappa_c^4 + 0.12*c*kappa_b^4*kappa_c^4 + 0.0039*kappa_b^4*kappa_c^4)/(2*I*C*R_f*c^3*gamma*kappa_b^4*kappa_c^4 + 1.2*I*C*R_f*c^2*gamma*kappa_b^4*kappa_c^4 + 2*I*c^3*gamma*kappa_b^4*kappa_c^4*r_f + 2*I*c^3*gamma*kappa_b^4*kappa_c^4*r_g + 0.19*I*C*R_f*c*gamma*kappa_b^4*kappa_c^4 + 0.62*I*c^2*gamma*kappa_b^4*kappa_c^4*r_f + 0.62*I*c^2*gamma*kappa_b^4*kappa_c^4*r_g + 0.0078*I*C*R_f*gamma*kappa_b^4*kappa_c^4 + 0.062*I*c*gamma*kappa_b^4*kappa_c^4*r_f + 0.062*I*c*gamma*kappa_b^4*kappa_c^4*r_g + 0.0020*I*gamma*kappa_b^4*kappa_c^4*r_f + 0.0020*I*gamma*kappa_b^4*kappa_c^4*r_g) + (4*c^3*kappa_b^4*kappa_c^4 + 1.2*c^2*kappa_b^4*kappa_c^4 + 0.12*c*kappa_b^4*kappa_c^4 + 0.0039*kappa_b^4*kappa_c^4)/(-2*I*C*R_f*c^3*gamma*kappa_b^4*kappa_c^4 - 1.2*I*C*R_f*c^2*gamma*kappa_b^4*kappa_c^4 - 2*I*c^3*gamma*kappa_b^4*kappa_c^4*r_f - 2*I*c^3*gamma*kappa_b^4*kappa_c^4*r_g - 0.19*I*C*R_f*c*gamma*kappa_b^4*kappa_c^4 - 0.62*I*c^2*gamma*kappa_b^4*kappa_c^4*r_f - 0.62*I*c^2*gamma*kappa_b^4*kappa_c^4*r_g - 0.0078*I*C*R_f*gamma*kappa_b^4*kappa_c^4 - 0.062*I*c*gamma*kappa_b^4*kappa_c^4*r_f - 0.062*I*c*gamma*kappa_b^4*kappa_c^4*r_g - 0.0020*I*gamma*kappa_b^4*kappa_c^4*r_f - 0.0020*I*gamma*kappa_b^4*kappa_c^4*r_g))"
      ]
     },
     "metadata": {},
     "output_type": "display_data"
    }
   ],
   "source": [
    "show(symround(a))"
   ]
  },
  {
   "cell_type": "code",
   "execution_count": null,
   "id": "61a7eadb",
   "metadata": {},
   "outputs": [],
   "source": []
  }
 ],
 "metadata": {
  "kernelspec": {
   "display_name": "SageMath 9.3",
   "language": "sage",
   "name": "sagemath"
  },
  "language_info": {
   "codemirror_mode": {
    "name": "ipython",
    "version": 3
   },
   "file_extension": ".py",
   "mimetype": "text/x-python",
   "name": "python",
   "nbconvert_exporter": "python",
   "pygments_lexer": "ipython3",
   "version": "3.9.2"
  }
 },
 "nbformat": 4,
 "nbformat_minor": 5
}
