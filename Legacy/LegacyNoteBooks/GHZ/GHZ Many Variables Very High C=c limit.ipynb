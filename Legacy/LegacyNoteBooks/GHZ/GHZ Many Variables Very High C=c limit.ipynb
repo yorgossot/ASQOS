{
 "cells": [
  {
   "cell_type": "markdown",
   "id": "11ebbd1c",
   "metadata": {},
   "source": [
    "# Many Variables  GHZ"
   ]
  },
  {
   "cell_type": "code",
   "execution_count": 1,
   "id": "a43f3bbd",
   "metadata": {
    "scrolled": false
   },
   "outputs": [
    {
     "name": "stdout",
     "output_type": "stream",
     "text": [
      "Started!\n",
      "Initializing system o-o-x-o-  ...\n",
      "Constructing states and excitations...\n",
      "Constructing ground and first-excited statespace...\n",
      "Constructing gs_hamiltonian ...\n",
      "Constructing e1_hamiltonian ...\n",
      "Constructing interactions V_plus and V_minus ...\n",
      "Constructing NJ_hamiltonian  ...\n",
      "Inverting NJ_hamiltonian  ...\n",
      "Constructing eff_hamiltonian and effective lindblau operators ...\n",
      "\n",
      "System  o-o-x-o-  initialized in 651.6 seconds.\n"
     ]
    }
   ],
   "source": [
    "print('Started!')\n",
    "from system import *\n",
    "s1 = system('o-o-x-o-',MMA=True,ManyVariables = True)\n",
    "#s1 = load_object('GHZ')"
   ]
  },
  {
   "cell_type": "markdown",
   "id": "20c87d69",
   "metadata": {},
   "source": [
    "# Effective Hamiltonian Matrix obtain "
   ]
  },
  {
   "cell_type": "code",
   "execution_count": 2,
   "id": "6398d4bb",
   "metadata": {
    "scrolled": true
   },
   "outputs": [
    {
     "name": "stdout",
     "output_type": "stream",
     "text": [
      "Calculating 0 out of [0, 1, 18, 19, 48, 49, 66, 67]...\n",
      "Calculating 1 out of [0, 1, 18, 19, 48, 49, 66, 67]...\n",
      "Calculating 18 out of [0, 1, 18, 19, 48, 49, 66, 67]...\n",
      "Calculating 19 out of [0, 1, 18, 19, 48, 49, 66, 67]...\n",
      "Calculating 48 out of [0, 1, 18, 19, 48, 49, 66, 67]...\n",
      "Calculating 49 out of [0, 1, 18, 19, 48, 49, 66, 67]...\n",
      "Calculating 66 out of [0, 1, 18, 19, 48, 49, 66, 67]...\n",
      "Calculating 67 out of [0, 1, 18, 19, 48, 49, 66, 67]...\n",
      "\n",
      " Done! \n",
      "0 out of 12\n",
      "1 out of 12\n",
      "2 out of 12\n",
      "3 out of 12\n",
      "4 out of 12\n",
      "5 out of 12\n",
      "6 out of 12\n",
      "7 out of 12\n",
      "8 out of 12\n",
      "9 out of 12\n",
      "10 out of 12\n",
      "11 out of 12\n",
      "12 out of 12\n",
      "\n",
      " Done!\n"
     ]
    }
   ],
   "source": [
    "n = 1/2  #exponent\n",
    "\n",
    "total_indices = s1.variable_index\n",
    "\n",
    "var('De1', domain='positive')\n",
    "var('Deg1', domain='positive' , latex_name =r'{{\\Delta e}}_{{  1}}^\\gamma')\n",
    "var('De2', domain='positive')\n",
    "var('Deg2', domain='positive' , latex_name =r'{{\\Delta e}}_{{  2}}^\\gamma')\n",
    "var('De3', domain='positive')\n",
    "var('Deg3', domain='positive' , latex_name =r'{{\\Delta e}}_{{  3}}^\\gamma')    \n",
    "\n",
    "var('gamma','DE','De','g','g_f','Omega','v','gamma_f','gamma_g','phi',domain='positive')\n",
    "var('DEg', domain='positive' , latex_name =r'{{\\Delta E}}^\\gamma')\n",
    "var('kappa_c','kappa_b',domain='positive')\n",
    "var('C',domain='positive')\n",
    "var('c',domain='positive',  latex_name =r'c')\n",
    "var('r_f',domain='positive',latex_name =r'r_f')\n",
    "var('r_g',domain='positive',latex_name =r'r_g')\n",
    "var('R_f',domain='positive')#ratio  (g_f/g)^2\n",
    "eff_hamiltonian_tayl = sg.copy( s1.eff_hamiltonian.parent().zero())\n",
    "for diag in s1.pos_gs:\n",
    "    print(f'Calculating {diag} out of {s1.pos_gs}...')\n",
    "    min_expr_len = 10**10\n",
    "    for term in range(1):\n",
    "        b = s1.eff_hamiltonian[diag,diag]\n",
    "        b = b.operands()[1].operands()[term]\n",
    "        if len(str(b))<10: #we isolated Omega^2 instead of one of the conjugate pairs\n",
    "            b = s1.eff_hamiltonian[diag,diag].operands()[0].operands()[term]\n",
    "        \n",
    "        b = b._mathematica_().ReplaceAll(f'DE->DEg*gamma*C^({n})')._sage_()\n",
    "        #b = b.subs(DE = DEg*gamma*C^n)\n",
    "        \n",
    "        b = b._mathematica_().ReplaceAll(f'De1->Deg1*gamma*C^({n})')._sage_()\n",
    "        #b = b.subs(De1 = Deg1*gamma*C^n) #sqrt C scaling!?\n",
    "        \n",
    "        b = b._mathematica_().ReplaceAll(f'De2->Deg2*gamma*C^({n})')._sage_()\n",
    "        #b = b.subs(De2 = Deg2*gamma*C^n) #MAKE ZERO\n",
    "        \n",
    "        b = b._mathematica_().ReplaceAll(f'De3->Deg2*gamma*C^({n})')._sage_()\n",
    "        #b = b.subs(De3 = Deg3*gamma*C^n) #MAKE ZERO  \n",
    "        \n",
    "        #b = b.subs(phi = phi_val)\n",
    "        \n",
    "        #b = MMA_simplify(b)\n",
    "        \n",
    "        #b = b._mathematica_().ReplaceAll('g_f->g*(R_f)^(1/2)')._sage_()\n",
    "        b = b.subs(g_f=g*(R_f)^(1/2))\n",
    "\n",
    "        b = b._mathematica_().ReplaceAll('gamma_f->gamma*r_f')._sage_()\n",
    "        #b = b.subs(gamma_f=gamma*r_f)\n",
    "\n",
    "        b = b._mathematica_().ReplaceAll('gamma_g->gamma*r_g')._sage_()\n",
    "        #b = b.subs(gamma_g=gamma*r_g)\n",
    "        \n",
    "        #b = b._mathematica_().ReplaceAll(\"g-> (C*gamma*kappa_c)^(1/2)\")._sage_()\n",
    "        b = b.subs(g = (C*gamma*kappa_c)^(1/2)) \n",
    "        \n",
    "        b = b._mathematica_().ReplaceAll('v->(c*kappa_b*kappa_c)^(1/2)')._sage_()\n",
    "        #b = b.subs(v = (c*kappa_b*kappa_c)^(1/2) )\n",
    "        \n",
    "        \n",
    "\n",
    "        #Substitutions\n",
    "        #b = b.subs(c=np.pi,R_f=2.1,Deg=np.e,DEg=np.sqrt(5),r_g=np.sqrt(3),r_f=np.sqrt(2), phi=phi_val) \n",
    "        #b = b.subs(phi=phi_val)\n",
    "\n",
    "        #b = b._mathematica_().Factor()._sage_()\n",
    "        #b = b._mathematica_().Together()._sage_()\n",
    "\n",
    "\n",
    "        b = SR(str(b).replace('Sqrt','sqrt'))\n",
    "        if len(str(b))<min_expr_len:\n",
    "            min_expr_len = len(str(b))\n",
    "            h_eff = b\n",
    "    \n",
    "    h_eff = h_eff.subs(c=C)\n",
    "    h_eff = MMA_simplify(h_eff)\n",
    "    '''\n",
    "    h_eff = SR(str(h_eff).replace('Sqrt','sqrt'))\n",
    "    var('x')\n",
    "    h_eff = h_eff.subs(C=1/x)\n",
    "    h_eff = MMA_simplify(h_eff)\n",
    "    h_eff = h_eff._mathematica_().Series((x,0,1)).Normal()._sage_()\n",
    "    h_eff = h_eff.subs(x=1/C)\n",
    "    '''\n",
    "    h_eff = SR(str(h_eff).replace('Sqrt','sqrt'))\n",
    "    eff_hamiltonian_tayl[diag,diag] = h_eff  * Omega^2 / 2\n",
    "\n",
    "print('\\n Done! ')\n",
    "#show(symround(eff_hamiltonian_tayl[s1.pos_gs,s1.pos_gs],digits=3))\n",
    "\n",
    "\n",
    "eff_hamiltonian_tayl_temp = eff_hamiltonian_tayl[s1.pos_gs,s1.pos_gs] \n",
    "\n",
    "\n",
    "\n",
    "\n",
    "\n",
    "lind_op_number = len(s1.lindblau_list)\n",
    "\n",
    "eff_lind_taylor = []\n",
    "eff_lind = []\n",
    "eff_lind_coeff = []\n",
    "for lind_op in range(lind_op_number):\n",
    "    print(f'{lind_op} out of {lind_op_number-1}')\n",
    "    eff_lind_taylor.append([])\n",
    "    eff_lind.append([])\n",
    "    L_matrix = s1.eff_lindblau_list[lind_op]\n",
    "    L_nonzeros = []\n",
    "    L_nonzeros_pos = []\n",
    "    for i in  range(L_matrix.nrows()):\n",
    "        for j in  range(L_matrix.ncols()):\n",
    "            if not str(symround(L_matrix[i,j]))==str(0):\n",
    "                L_nonzeros.append(L_matrix[i,j])\n",
    "                L_nonzeros_pos.append((i,j))\n",
    "    eff_lind_coeff.append(s1.L_coeffs[lind_op])\n",
    "    \n",
    "    for which in range(len(L_nonzeros)):\n",
    "\n",
    "        L_elem = L_nonzeros[which]\n",
    "        b = L_elem\n",
    "        \n",
    "        b = b._mathematica_().ReplaceAll(f'DE->DEg*gamma*C^({n})')._sage_()\n",
    "        #b = b.subs(DE = DEg*gamma*C^n)\n",
    "        \n",
    "        b = b._mathematica_().ReplaceAll(f'De1->Deg1*gamma*C^({n})')._sage_()\n",
    "        #b = b.subs(De1 = Deg1*gamma*C^n) #sqrt C scaling!?\n",
    "        \n",
    "        b = b._mathematica_().ReplaceAll(f'De2->Deg2*gamma*C^({n})')._sage_()\n",
    "        #b = b.subs(De2 = Deg2*gamma*C^n) #MAKE ZERO\n",
    "        \n",
    "        b = b._mathematica_().ReplaceAll(f'De3->Deg2*gamma*C^({n})')._sage_()\n",
    "        #b = b.subs(De3 = Deg3*gamma*C^n) #MAKE ZERO  \n",
    "        \n",
    "        #b = b.subs(phi = phi_val)\n",
    "        \n",
    "        #b = MMA_simplify(b)\n",
    "        \n",
    "        #b = b._mathematica_().ReplaceAll('g_f->g*(R_f)^(1/2)')._sage_()\n",
    "        b = b.subs(g_f=g*(R_f)^(1/2))\n",
    "\n",
    "        b = b._mathematica_().ReplaceAll('gamma_f->gamma*r_f')._sage_()\n",
    "        #b = b.subs(gamma_f=gamma*r_f)\n",
    "\n",
    "        b = b._mathematica_().ReplaceAll('gamma_g->gamma*r_g')._sage_()\n",
    "        #b = b.subs(gamma_g=gamma*r_g)\n",
    "        \n",
    "        #b = b._mathematica_().ReplaceAll(\"g-> (C*gamma*kappa_c)^(1/2)\")._sage_()\n",
    "        b = b.subs(g = (C*gamma*kappa_c)^(1/2)) \n",
    "        \n",
    "        b = b._mathematica_().ReplaceAll('v->(c*kappa_b*kappa_c)^(1/2)')._sage_()\n",
    "        \n",
    "        b = b.subs(c=C)\n",
    "        \n",
    "        b = SR(str(b).replace('Sqrt','sqrt'))\n",
    "        \n",
    "        eff_lind[lind_op].append(b)\n",
    "        \n",
    "print('\\n Done!')\n",
    "\n",
    "\n",
    "eff_hamiltonian_tayl = eff_hamiltonian_tayl_temp\n",
    "\n",
    "a = eff_hamiltonian_tayl[0,0]\n",
    "#a = symround( MMA_simplify(a,full=False) ,digits = 14)\n",
    "b = eff_hamiltonian_tayl[1,1]\n",
    "#b = symround(MMA_simplify(b,full=False),digits = 14)\n",
    "c = eff_hamiltonian_tayl[3,3]\n",
    "#c = symround(MMA_simplify(c,full=False),digits = 14)\n",
    "d = eff_hamiltonian_tayl[4,4]\n",
    "#d = symround(MMA_simplify(d,full=False),digits = 14)\n",
    "e = eff_hamiltonian_tayl[5,5]\n",
    "#e = symround(MMA_simplify(e,full=False),digits = 14)\n",
    "f = eff_hamiltonian_tayl[7,7]\n",
    "#f = symround(MMA_simplify(f,full=False),digits = 14)"
   ]
  },
  {
   "cell_type": "markdown",
   "id": "f1ddbf1c",
   "metadata": {},
   "source": [
    "# Isolate highest powers"
   ]
  },
  {
   "cell_type": "code",
   "execution_count": 3,
   "id": "e138f038",
   "metadata": {},
   "outputs": [
    {
     "name": "stdout",
     "output_type": "stream",
     "text": [
      "symround: Deleted coefficient 1.1102230246252e-16\n",
      "symround: Deleted coefficient 1.1102230246252e-16\n",
      "symround: Deleted coefficient 1.1102230246252e-16\n",
      "symround: Deleted coefficient 1.1102230246252e-16\n",
      "symround: Deleted coefficient 1.1102230246252e-16\n",
      "symround: Deleted coefficient 1.1102230246252e-16\n",
      "symround: Deleted coefficient 1.1102230246252e-16\n",
      "symround: Deleted coefficient 1.1102230246252e-16\n",
      "symround: Deleted coefficient 1.1102230246252e-16\n",
      "symround: Deleted coefficient 1.1102230246252e-16\n",
      "symround: Deleted coefficient -2.7755575615629e-17\n",
      "symround: Deleted coefficient -1.6653345369377e-16\n",
      "symround: Deleted coefficient -8.3266726846887e-17\n",
      "symround: Deleted coefficient 6.9388939039072e-18\n",
      "symround: Deleted coefficient -5.1810407815841e-16\n",
      "symround: Deleted coefficient -1.0234868508263e-16\n",
      "symround: Deleted coefficient 1.7000290064573e-16\n",
      "symround: Deleted coefficient 4.4408920985006e-16\n",
      "symround: Deleted coefficient -1.3877787807814e-17\n",
      "symround: Deleted coefficient -1.3010426069826e-18\n",
      "symround: Deleted coefficient 2.0724163126336e-15\n",
      "symround: Deleted coefficient 3.3306690738755e-16\n",
      "symround: Deleted coefficient 6.5225602696728e-16\n",
      "symround: Deleted coefficient -4.4408920985006e-16\n",
      "symround: Deleted coefficient -6.2450045135165e-17\n",
      "symround: Deleted coefficient 1.1102230246252e-16\n",
      "symround: Deleted coefficient 7.9797279894933e-17\n",
      "symround: Deleted coefficient 6.6613381477509e-16\n",
      "symround: Deleted coefficient -9.7144514654701e-17\n",
      "symround: Deleted coefficient 6.9388939039072e-18\n",
      "symround: Deleted coefficient 2.7105054312138e-19\n",
      "symround: Deleted coefficient 8.8817841970013e-16\n",
      "symround: Deleted coefficient 1.2906342661267e-15\n",
      "symround: Deleted coefficient -5.8564264548977e-15\n",
      "symround: Deleted coefficient -2.7755575615629e-17\n",
      "symround: Deleted coefficient -3.3960103248039e-15\n",
      "symround: Deleted coefficient -3.4972025275692e-15\n",
      "symround: Deleted coefficient -6.4184768611142e-17\n",
      "symround: Deleted coefficient -1.1102230246252e-16\n",
      "symround: Deleted coefficient -7.0082828429463e-16\n",
      "symround: Deleted coefficient 3.2959746043559e-17\n",
      "symround: Deleted coefficient -6.6613381477509e-16\n",
      "symround: Deleted coefficient 1.0408340855861e-17\n",
      "symround: Deleted coefficient -2.4147350785597e-15\n",
      "symround: Deleted coefficient 9.5409791178724e-18\n",
      "symround: Deleted coefficient -1.2212453270877e-15\n",
      "symround: Deleted coefficient -3.6212352561016e-17\n",
      "symround: Deleted coefficient 1.3552527156069e-20\n",
      "symround: Deleted coefficient -1.6579330501069e-14\n",
      "symround: Deleted coefficient -1.2434497875802e-14\n",
      "symround: Deleted coefficient 3.8857805861880e-15\n",
      "symround: Deleted coefficient -2.9143354396410e-16\n",
      "symround: Deleted coefficient 1.9081958235745e-16\n",
      "symround: Deleted coefficient -2.9108659926891e-15\n",
      "symround: Deleted coefficient 1.3964523981613e-16\n",
      "symround: Deleted coefficient -1.1801902048229e-15\n",
      "symround: Deleted coefficient 4.1199682554449e-16\n",
      "symround: Deleted coefficient -8.5380921083233e-18\n",
      "symround: Deleted coefficient 1.2923689896027e-16\n",
      "symround: Deleted coefficient 1.4933077922367e-16\n",
      "symround: Deleted coefficient -3.2526065174565e-18\n",
      "symround: Deleted coefficient -4.3021142204225e-16\n",
      "symround: Deleted coefficient 1.0408340855861e-17\n",
      "symround: Deleted coefficient -2.0816681711722e-17\n",
      "symround: Deleted coefficient -6.5399075044326e-16\n",
      "symround: Deleted coefficient 1.0842021724855e-19\n",
      "symround: Deleted coefficient -4.9960036108132e-16\n",
      "symround: Deleted coefficient 8.4025668367627e-19\n",
      "symround: Deleted coefficient 2.0724163126336e-14\n",
      "symround: Deleted coefficient 1.6579330501069e-14\n",
      "symround: Deleted coefficient -9.7144514654701e-17\n",
      "symround: Deleted coefficient 2.2204460492503e-16\n",
      "symround: Deleted coefficient -3.3306690738755e-16\n",
      "symround: Deleted coefficient -3.3306690738755e-16\n",
      "symround: Deleted coefficient -1.5566251991099e-15\n",
      "symround: Deleted coefficient -7.2164496600635e-16\n",
      "symround: Deleted coefficient 3.1225022567583e-16\n",
      "symround: Deleted coefficient -5.5511151231258e-16\n",
      "symround: Deleted coefficient -7.8640797577615e-16\n",
      "symround: Deleted coefficient -4.1102104358925e-16\n",
      "symround: Deleted coefficient 7.1886940844479e-15\n",
      "symround: Deleted coefficient -1.1796119636642e-15\n",
      "symround: Deleted coefficient -1.3831528515122e-15\n",
      "symround: Deleted coefficient -6.9388939039072e-18\n",
      "symround: Deleted coefficient -1.1796119636642e-15\n",
      "symround: Deleted coefficient 1.0785101110800e-16\n",
      "symround: Deleted coefficient 5.6066262743570e-15\n",
      "symround: Deleted coefficient -8.1965684239904e-16\n",
      "symround: Deleted coefficient 3.9302328752600e-19\n",
      "symround: Deleted coefficient 2.0677903833644e-15\n",
      "symround: Deleted coefficient 1.5439038936194e-16\n",
      "symround: Deleted coefficient 2.5488870273686e-15\n",
      "symround: Deleted coefficient 6.3360774960053e-16\n",
      "symround: Deleted coefficient 1.6940658945086e-19\n",
      "symround: Deleted coefficient -1.0494805979117e-15\n",
      "symround: Deleted coefficient -4.3368086899420e-19\n",
      "symround: Deleted coefficient -4.3368086899420e-19\n",
      "symround: Deleted coefficient -2.6584637269345e-16\n",
      "symround: Deleted coefficient -3.3653635433950e-16\n",
      "symround: Deleted coefficient -1.0842021724855e-19\n",
      "symround: Deleted coefficient 2.0724163126336e-14\n",
      "symround: Deleted coefficient -8.2896652505345e-15\n",
      "symround: Deleted coefficient -8.0953762212251e-17\n",
      "symround: Deleted coefficient 2.7755575615629e-17\n",
      "symround: Deleted coefficient -1.7347234759768e-16\n",
      "symround: Deleted coefficient 3.4116228360877e-16\n",
      "symround: Deleted coefficient 9.3675067702748e-16\n",
      "symround: Deleted coefficient -2.8218168542556e-16\n",
      "symround: Deleted coefficient -5.2874371547773e-15\n",
      "symround: Deleted coefficient -7.0689981646055e-17\n",
      "symround: Deleted coefficient 1.7364581994528e-15\n",
      "symround: Deleted coefficient -1.9949319973733e-15\n",
      "symround: Deleted coefficient 8.6736173798840e-18\n",
      "symround: Deleted coefficient 2.2794266474335e-15\n",
      "symround: Deleted coefficient -2.8362728832221e-16\n",
      "symround: Deleted coefficient 1.1587952819525e-15\n",
      "symround: Deleted coefficient 4.6620693416877e-18\n",
      "symround: Deleted coefficient 1.5456386170953e-15\n",
      "symround: Deleted coefficient -5.4742045315151e-17\n",
      "symround: Deleted coefficient -6.4809269062494e-15\n",
      "symround: Deleted coefficient -3.3212726550473e-17\n",
      "symround: Deleted coefficient 1.1858461261560e-20\n",
      "symround: Deleted coefficient -5.0541891274033e-16\n",
      "symround: Deleted coefficient -2.8189256484623e-18\n",
      "symround: Deleted coefficient 4.0020070590785e-15\n",
      "symround: Deleted coefficient -2.6020852139652e-18\n",
      "symround: Deleted coefficient -8.8938459461702e-21\n",
      "symround: Deleted coefficient 7.7615323022806e-17\n",
      "symround: Deleted coefficient -4.2351647362715e-21\n",
      "symround: Deleted coefficient -1.3739009929736e-15\n",
      "symround: Deleted coefficient -5.4210108624275e-19\n",
      "symround: Deleted coefficient -1.5582018097690e-17\n",
      "symround: Deleted coefficient -5.6812193838240e-17\n",
      "symround: Deleted coefficient -4.1448326252673e-14\n",
      "symround: Deleted coefficient 1.3470706032119e-14\n",
      "symround: Deleted coefficient 7.2534570942177e-15\n",
      "symround: Deleted coefficient -1.8133642735544e-15\n",
      "symround: Deleted coefficient 2.5298050691328e-19\n",
      "symround: Deleted coefficient -1.2836953722228e-16\n",
      "symround: Deleted coefficient -4.0158848468863e-16\n",
      "symround: Deleted coefficient 9.8008262385448e-16\n",
      "symround: Deleted coefficient 7.8713077722448e-16\n",
      "symround: Deleted coefficient 3.2034560189705e-16\n",
      "symround: Deleted coefficient 1.4085954624932e-15\n",
      "symround: Deleted coefficient -9.1547320939245e-18\n",
      "symround: Deleted coefficient 7.5894152073985e-17\n",
      "symround: Deleted coefficient 1.5666721392416e-16\n",
      "symround: Deleted coefficient -1.2888453325421e-17\n",
      "symround: Deleted coefficient -6.3282712403634e-15\n",
      "symround: Deleted coefficient -4.8246996675605e-18\n",
      "symround: Deleted coefficient -1.0107655453358e-15\n",
      "symround: Deleted coefficient 2.1141942363467e-18\n",
      "symround: Deleted coefficient 1.0933094707344e-15\n",
      "symround: Deleted coefficient 1.2533828864838e-17\n",
      "symround: Deleted coefficient -4.1444712245431e-15\n",
      "symround: Deleted coefficient 1.5233040523421e-17\n",
      "symround: Deleted coefficient 4.2351647362715e-22\n",
      "symround: Deleted coefficient -7.7796926886697e-16\n",
      "symround: Deleted coefficient 3.0086610286473e-18\n",
      "symround: Deleted coefficient -4.7357950894167e-16\n",
      "symround: Deleted coefficient -6.7694873144564e-18\n",
      "symround: Deleted coefficient 2.1175823681358e-22\n",
      "symround: Deleted coefficient -1.8336569242161e-17\n",
      "symround: Deleted coefficient 4.2351647362715e-22\n",
      "symround: Deleted coefficient -1.6479873021780e-16\n",
      "symround: Deleted coefficient -2.5749801596531e-19\n",
      "symround: Deleted coefficient -1.7347234759768e-18\n",
      "symround: Deleted coefficient -1.1716159726421e-17\n",
      "symround: Deleted coefficient -2.7755575615629e-17\n",
      "symround: Deleted coefficient -4.3368086899420e-18\n",
      "symround: Deleted coefficient -8.2896652505345e-14\n",
      "symround: Deleted coefficient -9.0668213677721e-16\n",
      "symround: Deleted coefficient 3.1622563364161e-20\n",
      "symround: Deleted coefficient -1.7615538657386e-14\n",
      "symround: Deleted coefficient 6.4763009769801e-17\n",
      "symround: Deleted coefficient 3.4784819700577e-19\n",
      "symround: Deleted coefficient 7.9056408410401e-20\n",
      "symround: Deleted coefficient 2.2204460492503e-16\n",
      "symround: Deleted coefficient 1.2143064331838e-16\n",
      "symround: Deleted coefficient -3.7123082385904e-16\n",
      "symround: Deleted coefficient 1.1102230246252e-15\n",
      "symround: Deleted coefficient -1.4701781458903e-16\n",
      "symround: Deleted coefficient -2.2551405187698e-16\n",
      "symround: Deleted coefficient -2.5274921044982e-15\n",
      "symround: Deleted coefficient 6.4997920240506e-17\n",
      "symround: Deleted coefficient -2.2759572004816e-15\n",
      "symround: Deleted coefficient 8.4524853117875e-16\n",
      "symround: Deleted coefficient -7.6327832942980e-16\n",
      "symround: Deleted coefficient -1.2381588809784e-16\n",
      "symround: Deleted coefficient -4.2136433231477e-15\n",
      "symround: Deleted coefficient -6.7314724757836e-16\n",
      "symround: Deleted coefficient 4.6039561052424e-15\n",
      "symround: Deleted coefficient 4.2934406030426e-16\n",
      "symround: Deleted coefficient 4.8111471404044e-19\n",
      "symround: Deleted coefficient -5.1128083248623e-15\n",
      "symround: Deleted coefficient 1.9163273398681e-16\n",
      "symround: Deleted coefficient -9.5791430343439e-15\n",
      "symround: Deleted coefficient 1.7007879479780e-15\n",
      "symround: Deleted coefficient 2.5749801596531e-19\n",
      "symround: Deleted coefficient -5.8286708792821e-16\n",
      "symround: Deleted coefficient 6.9833461929791e-16\n",
      "symround: Deleted coefficient -1.3315357930838e-18\n",
      "symround: Deleted coefficient 1.1194748831637e-15\n",
      "symround: Deleted coefficient -1.8995222061946e-16\n",
      "symround: Deleted coefficient -4.0657581468206e-20\n",
      "symround: Deleted coefficient 1.6890424244428e-15\n",
      "symround: Deleted coefficient -7.3742010761602e-16\n",
      "symround: Deleted coefficient 2.7387398627889e-20\n",
      "symround: Deleted coefficient -1.1102230246252e-16\n",
      "symround: Deleted coefficient 3.1138286393784e-16\n",
      "symround: Deleted coefficient 6.0986372202310e-20\n",
      "symround: Deleted coefficient -1.1796119636642e-16\n",
      "symround: Deleted coefficient 3.3020732415762e-17\n",
      "symround: Deleted coefficient -9.8255821881499e-20\n",
      "symround: Deleted coefficient 1.0004475546610e-16\n",
      "symround: Deleted coefficient -7.4369492768928e-19\n",
      "symround: Deleted coefficient 1.4227443008441e-16\n",
      "symround: Deleted coefficient 2.5478751053409e-18\n",
      "symround: Deleted coefficient 1.9515639104739e-18\n",
      "symround: Deleted coefficient -2.0328790734103e-20\n",
      "symround: Deleted coefficient 1.8106176280508e-17\n",
      "symround: Deleted coefficient -9.2157184661268e-19\n",
      "symround: Deleted coefficient -1.7347234759768e-18\n",
      "symround: Deleted coefficient -1.5585406229479e-19\n",
      "symround: Deleted coefficient -6.2172489379009e-15\n",
      "symround: Deleted coefficient 4.1448326252673e-14\n",
      "symround: Deleted coefficient 1.4571677198205e-16\n",
      "symround: Deleted coefficient 3.9528204205201e-21\n",
      "symround: Deleted coefficient -5.1810407815841e-16\n",
      "symround: Deleted coefficient -2.7524279152165e-16\n",
      "symround: Deleted coefficient 9.8820510513002e-22\n",
      "symround: Deleted coefficient 5.9292306307801e-21\n",
      "symround: Deleted coefficient -5.5511151231258e-17\n",
      "symround: Deleted coefficient -1.4837668131188e-15\n",
      "symround: Deleted coefficient 2.2204460492503e-16\n",
      "symround: Deleted coefficient 2.6924353950057e-15\n",
      "symround: Deleted coefficient 2.5326962749261e-16\n",
      "symround: Deleted coefficient 1.8702487475375e-17\n",
      "symround: Deleted coefficient -8.6150704625698e-16\n",
      "symround: Deleted coefficient -2.8588242884098e-15\n",
      "symround: Deleted coefficient -4.9500605437541e-18\n",
      "symround: Deleted coefficient -5.5742447694722e-16\n",
      "symround: Deleted coefficient 2.4085325386313e-16\n",
      "symround: Deleted coefficient -2.7113727929517e-15\n",
      "symround: Deleted coefficient 3.8380756905987e-17\n",
      "symround: Deleted coefficient 4.2181246921273e-15\n",
      "symround: Deleted coefficient 1.5026533890881e-16\n",
      "symround: Deleted coefficient 1.4239477652556e-14\n",
      "symround: Deleted coefficient -4.9276988739466e-16\n",
      "symround: Deleted coefficient -3.3881317890172e-21\n",
      "symround: Deleted coefficient 8.5622336766974e-15\n",
      "symround: Deleted coefficient 1.6032639625629e-17\n",
      "symround: Deleted coefficient -1.4178762330896e-14\n",
      "symround: Deleted coefficient -2.0738077054216e-16\n",
      "symround: Deleted coefficient -3.3034284942918e-20\n",
      "symround: Deleted coefficient -9.7664931697494e-16\n",
      "symround: Deleted coefficient 1.2788164624467e-16\n",
      "symround: Deleted coefficient -7.4009503766344e-20\n",
      "symround: Deleted coefficient 5.2755109308800e-15\n",
      "symround: Deleted coefficient -1.9000643072808e-17\n",
      "symround: Deleted coefficient 6.7762635780344e-21\n",
      "symround: Deleted coefficient -5.6414653041662e-16\n",
      "symround: Deleted coefficient 1.3830692775947e-16\n",
      "symround: Deleted coefficient 5.8374687281609e-20\n",
      "symround: Deleted coefficient -2.7755575615629e-17\n",
      "symround: Deleted coefficient 1.3498317047445e-16\n",
      "symround: Deleted coefficient -1.2366681029913e-19\n",
      "symround: Deleted coefficient 3.7621815385247e-16\n",
      "symround: Deleted coefficient -2.5739637201164e-17\n",
      "symround: Deleted coefficient -3.3881317890172e-21\n",
      "symround: Deleted coefficient 8.3266726846887e-16\n",
      "symround: Deleted coefficient -9.9265485154626e-17\n",
      "symround: Deleted coefficient -6.0351097491869e-20\n",
      "symround: Deleted coefficient 1.3430554411664e-17\n",
      "symround: Deleted coefficient -3.0493186101155e-20\n",
      "symround: Deleted coefficient -8.9988780316297e-18\n",
      "symround: Deleted coefficient 2.1175823681358e-22\n",
      "symround: Deleted coefficient 2.7105054312138e-18\n",
      "symround: Deleted coefficient -5.0821976835258e-21\n",
      "symround: Deleted coefficient -1.3010426069826e-18\n",
      "symround: Deleted coefficient -2.6258021364883e-20\n",
      "symround: Deleted coefficient 1.5543122344752e-15\n",
      "symround: Deleted coefficient 2.0724163126336e-14\n",
      "symround: Deleted coefficient -1.5543122344752e-15\n",
      "symround: Deleted coefficient 1.6579330501069e-14\n",
      "symround: Deleted coefficient 1.6579330501069e-14\n",
      "symround: Deleted coefficient -1.4166908387144e-17\n",
      "symround: Deleted coefficient -6.1762819070626e-23\n",
      "symround: Deleted coefficient -1.0362081563168e-15\n",
      "symround: Deleted coefficient -5.5655711520923e-18\n"
     ]
    },
    {
     "name": "stdout",
     "output_type": "stream",
     "text": [
      "symround: Deleted coefficient 1.2352563814125e-22\n",
      "symround: Deleted coefficient 5.5511151231258e-17\n",
      "symround: Deleted coefficient 1.0408340855861e-17\n",
      "symround: Deleted coefficient 2.0469737016526e-16\n",
      "symround: Deleted coefficient -2.0816681711722e-16\n",
      "symround: Deleted coefficient 1.4222564098665e-15\n",
      "symround: Deleted coefficient 5.3798111798731e-16\n",
      "symround: Deleted coefficient -1.8905775382716e-18\n",
      "symround: Deleted coefficient -9.1731635308567e-16\n",
      "symround: Deleted coefficient 3.6602665343111e-16\n",
      "symround: Deleted coefficient -7.5724745484534e-19\n",
      "symround: Deleted coefficient -5.8565710151874e-15\n",
      "symround: Deleted coefficient -1.9879863272058e-18\n",
      "symround: Deleted coefficient 2.2126397936084e-15\n",
      "symround: Deleted coefficient 1.3035837058244e-18\n",
      "symround: Deleted coefficient 4.6096662366842e-15\n",
      "symround: Deleted coefficient 9.7357966957409e-18\n",
      "symround: Deleted coefficient 1.3795388442706e-15\n",
      "symround: Deleted coefficient -8.2918878649881e-18\n",
      "symround: Deleted coefficient -8.4703294725430e-22\n",
      "symround: Deleted coefficient 9.5713367787020e-16\n",
      "symround: Deleted coefficient 1.4162390878092e-18\n",
      "symround: Deleted coefficient 1.9845236565175e-15\n",
      "symround: Deleted coefficient -4.0037553350816e-17\n",
      "symround: Deleted coefficient 1.0819522412194e-21\n",
      "symround: Deleted coefficient -1.8524000692730e-15\n",
      "symround: Deleted coefficient -4.5729614756365e-17\n",
      "symround: Deleted coefficient -3.8778227116486e-21\n",
      "symround: Deleted coefficient 2.0391505053518e-15\n",
      "symround: Deleted coefficient 2.9442865246559e-18\n",
      "symround: Deleted coefficient -4.3675136342800e-22\n",
      "symround: Deleted coefficient -3.6587847913420e-15\n",
      "symround: Deleted coefficient 3.2546155737283e-17\n",
      "symround: Deleted coefficient 6.0880493083903e-22\n",
      "symround: Deleted coefficient -1.1607468458630e-15\n",
      "symround: Deleted coefficient -2.0762471603097e-17\n",
      "symround: Deleted coefficient 5.2939559203394e-22\n",
      "symround: Deleted coefficient -1.7509865085641e-17\n",
      "symround: Deleted coefficient -8.5477006383188e-18\n",
      "symround: Deleted coefficient -4.2435673031083e-16\n",
      "symround: Deleted coefficient -2.1071638628845e-17\n",
      "symround: Deleted coefficient -3.3351922298138e-21\n",
      "symround: Deleted coefficient -7.5894152073985e-19\n",
      "symround: Deleted coefficient 1.6940658945086e-21\n",
      "symround: Deleted coefficient -1.7482760031329e-18\n",
      "symround: Deleted coefficient 1.3234889800848e-23\n",
      "symround: Deleted coefficient -1.4026865606531e-18\n",
      "symround: Deleted coefficient 8.6736173798840e-19\n",
      "symround: Deleted coefficient -8.2896652505345e-15\n",
      "symround: Deleted coefficient 1.1605531350748e-13\n",
      "symround: Deleted coefficient 6.4763009769801e-17\n",
      "symround: Deleted coefficient 6.3245126728321e-20\n",
      "symround: Deleted coefficient 1.4921397450962e-13\n",
      "symround: Deleted coefficient -1.2952601953960e-15\n",
      "symround: Deleted coefficient 5.0596101382657e-19\n",
      "symround: Deleted coefficient -2.5298050691328e-19\n",
      "symround: Deleted coefficient 5.8286708792821e-16\n",
      "symround: Deleted coefficient 1.8973538018496e-19\n",
      "symround: Deleted coefficient -9.4867690092482e-20\n",
      "symround: Deleted coefficient -1.8214596497756e-16\n",
      "symround: Deleted coefficient 6.9388939039072e-18\n",
      "symround: Deleted coefficient -6.9388939039072e-18\n",
      "symround: Deleted coefficient -2.7755575615629e-16\n",
      "symround: Deleted coefficient -3.5879863894787e-16\n",
      "symround: Deleted coefficient -1.3769367590566e-17\n",
      "symround: Deleted coefficient -8.3266726846887e-16\n",
      "symround: Deleted coefficient 7.9666272132424e-17\n",
      "symround: Deleted coefficient 1.6653345369377e-16\n",
      "symround: Deleted coefficient -3.3447637021178e-17\n",
      "symround: Deleted coefficient -2.2841971369925e-15\n",
      "symround: Deleted coefficient 3.4665331586151e-16\n",
      "symround: Deleted coefficient 4.2162454083616e-15\n",
      "symround: Deleted coefficient -1.9071116214020e-16\n",
      "symround: Deleted coefficient -1.6940658945086e-19\n",
      "symround: Deleted coefficient 2.8411879330707e-15\n",
      "symround: Deleted coefficient 1.0928757898654e-16\n",
      "symround: Deleted coefficient 2.8408988124914e-15\n",
      "symround: Deleted coefficient 2.2244033871799e-15\n",
      "symround: Deleted coefficient 1.7279472123988e-19\n",
      "symround: Deleted coefficient 6.6613381477509e-16\n",
      "symround: Deleted coefficient -1.6674306611379e-15\n",
      "symround: Deleted coefficient -1.6881366638778e-18\n",
      "symround: Deleted coefficient -1.1986939219000e-15\n",
      "symround: Deleted coefficient 4.2972353106463e-16\n",
      "symround: Deleted coefficient 1.3552527156069e-20\n",
      "symround: Deleted coefficient 9.4053815661669e-15\n",
      "symround: Deleted coefficient -2.1139909484394e-16\n",
      "symround: Deleted coefficient 2.0211617843066e-18\n",
      "symround: Deleted coefficient 5.5511151231258e-16\n",
      "symround: Deleted coefficient -1.6960581160005e-15\n",
      "symround: Deleted coefficient 2.7136112186870e-18\n",
      "symround: Deleted coefficient 6.6174449004242e-24\n",
      "symround: Deleted coefficient -9.3964188282077e-16\n",
      "symround: Deleted coefficient 5.7705305377825e-16\n",
      "symround: Deleted coefficient -1.0634498652778e-18\n",
      "symround: Deleted coefficient 1.7520707107366e-15\n",
      "symround: Deleted coefficient 1.2687875923512e-16\n",
      "symround: Deleted coefficient -1.9752808329970e-18\n",
      "symround: Deleted coefficient 2.3161057151485e-23\n",
      "symround: Deleted coefficient 2.6465375030371e-16\n",
      "symround: Deleted coefficient 1.7459466625279e-18\n",
      "symround: Deleted coefficient 1.3234889800848e-23\n",
      "symround: Deleted coefficient -1.8823443780243e-16\n",
      "symround: Deleted coefficient 1.2027867851011e-18\n",
      "symround: Deleted coefficient 2.8082530333269e-16\n",
      "symround: Deleted coefficient 2.7971851361495e-18\n",
      "symround: Deleted coefficient 3.0661237437890e-16\n",
      "symround: Deleted coefficient 9.2728931900665e-19\n",
      "symround: Deleted coefficient 3.8267819179686e-17\n",
      "symround: Deleted coefficient -1.6256944537974e-18\n",
      "symround: Deleted coefficient 2.5614276324970e-17\n",
      "symround: Deleted coefficient 9.6900569165892e-19\n",
      "symround: Deleted coefficient 3.3087224502121e-24\n",
      "symround: Deleted coefficient -3.2526065174565e-19\n",
      "symround: Deleted coefficient -2.8460307027744e-19\n",
      "symround: Deleted coefficient -8.1315162936413e-20\n",
      "symround: Deleted coefficient 1.0842021724855e-19\n",
      "symround: Deleted coefficient 1.0362081563168e-15\n",
      "symround: Deleted coefficient -2.0724163126336e-14\n",
      "symround: Deleted coefficient -1.2952601953960e-16\n",
      "symround: Deleted coefficient -4.4469229730851e-21\n",
      "symround: Deleted coefficient -2.9013828376871e-14\n",
      "symround: Deleted coefficient 2.9143354396410e-16\n",
      "symround: Deleted coefficient 3.9528204205201e-21\n",
      "symround: Deleted coefficient 1.1858461261560e-20\n",
      "symround: Deleted coefficient -2.8333816774288e-17\n",
      "symround: Deleted coefficient -7.9056408410401e-21\n",
      "symround: Deleted coefficient -5.9292306307801e-21\n",
      "symround: Deleted coefficient -3.4694469519536e-18\n",
      "symround: Deleted coefficient 4.5102810375397e-17\n",
      "symround: Deleted coefficient -3.4694469519536e-16\n",
      "symround: Deleted coefficient -4.3368086899420e-19\n",
      "symround: Deleted coefficient -2.3707887505016e-16\n",
      "symround: Deleted coefficient 1.0295583829922e-15\n",
      "symround: Deleted coefficient -3.8082601308553e-18\n",
      "symround: Deleted coefficient -4.4787849644290e-15\n",
      "symround: Deleted coefficient 8.0152610216306e-18\n",
      "symround: Deleted coefficient 4.9331198848090e-18\n",
      "symround: Deleted coefficient 1.7347234759768e-18\n",
      "symround: Deleted coefficient 6.9857675778310e-15\n",
      "symround: Deleted coefficient 4.4849829868484e-17\n",
      "symround: Deleted coefficient -4.6841870660064e-15\n",
      "symround: Deleted coefficient -9.2428235204389e-17\n",
      "symround: Deleted coefficient 6.4586262228140e-21\n",
      "symround: Deleted coefficient -3.6674222686495e-15\n",
      "symround: Deleted coefficient -7.1476028221107e-17\n",
      "symround: Deleted coefficient -1.5198779734771e-14\n",
      "symround: Deleted coefficient -1.8493778557171e-16\n",
      "symround: Deleted coefficient 2.5410988417629e-21\n",
      "symround: Deleted coefficient 8.8054563640583e-15\n",
      "symround: Deleted coefficient -6.2513290261893e-17\n",
      "symround: Deleted coefficient 3.9413501826927e-20\n",
      "symround: Deleted coefficient 9.5106214570428e-16\n",
      "symround: Deleted coefficient -7.2905819836072e-17\n",
      "symround: Deleted coefficient 1.1331069184791e-14\n",
      "symround: Deleted coefficient -5.6111062316151e-16\n",
      "symround: Deleted coefficient 2.5587453614974e-21\n",
      "symround: Deleted coefficient 2.3809079707782e-15\n",
      "symround: Deleted coefficient 3.0891178648638e-16\n",
      "symround: Deleted coefficient -1.1164953035996e-19\n",
      "symround: Deleted coefficient -3.8387984920470e-16\n",
      "symround: Deleted coefficient 3.2598232381671e-16\n",
      "symround: Deleted coefficient 3.2293131114070e-21\n",
      "symround: Deleted coefficient -2.0261570199409e-15\n",
      "symround: Deleted coefficient 3.2807110706464e-16\n",
      "symround: Deleted coefficient -2.2975768694273e-20\n",
      "symround: Deleted coefficient -1.7095157754665e-16\n",
      "symround: Deleted coefficient 2.0705985093427e-19\n",
      "symround: Deleted coefficient -2.3418766925687e-17\n",
      "symround: Deleted coefficient 1.5345526498817e-16\n",
      "symround: Deleted coefficient -8.4703294725430e-21\n",
      "symround: Deleted coefficient 1.5737872159985e-16\n",
      "symround: Deleted coefficient -1.4028983188899e-19\n",
      "symround: Deleted coefficient -3.8743287007412e-17\n",
      "symround: Deleted coefficient -5.9292306307801e-20\n",
      "symround: Deleted coefficient 6.9405879698017e-18\n",
      "symround: Deleted coefficient 2.1797863501997e-20\n",
      "symround: Deleted coefficient 1.7076184216647e-17\n",
      "symround: Deleted coefficient 1.1858461261560e-20\n",
      "symround: Deleted coefficient -1.9786689647860e-18\n",
      "symround: Deleted coefficient -9.7408788934245e-21\n",
      "symround: Deleted coefficient -4.7645603283054e-22\n",
      "symround: Deleted coefficient -1.2952601953960e-16\n",
      "symround: Deleted coefficient 1.0362081563168e-15\n",
      "symround: Deleted coefficient -2.4868995751604e-14\n",
      "symround: Deleted coefficient 3.1086244689504e-15\n",
      "symround: Deleted coefficient -5.0596101382657e-18\n",
      "symround: Deleted coefficient 4.6322114302970e-23\n",
      "symround: Deleted coefficient 3.8601761919141e-24\n",
      "symround: Deleted coefficient -2.3161057151485e-23\n",
      "symround: Deleted coefficient 4.1448326252672e-15\n",
      "symround: Deleted coefficient 1.2143064331838e-17\n",
      "symround: Deleted coefficient -6.1762819070626e-23\n",
      "symround: Deleted coefficient 1.8528845721188e-22\n",
      "symround: Deleted coefficient -1.2352563814125e-22\n",
      "symround: Deleted coefficient -2.5298050691328e-19\n",
      "symround: Deleted coefficient 1.2352563814125e-22\n",
      "symround: Deleted coefficient -4.3368086899420e-19\n",
      "symround: Deleted coefficient -2.9273458657109e-17\n",
      "symround: Deleted coefficient 1.7347234759768e-18\n",
      "symround: Deleted coefficient 1.5185606678375e-16\n",
      "symround: Deleted coefficient -5.6703773620992e-17\n",
      "symround: Deleted coefficient 2.6893296075324e-20\n",
      "symround: Deleted coefficient 1.7569496205128e-16\n",
      "symround: Deleted coefficient -4.2923564008701e-16\n",
      "symround: Deleted coefficient -4.5400965972830e-19\n",
      "symround: Deleted coefficient -2.5975677049132e-16\n",
      "symround: Deleted coefficient -1.6445144670942e-18\n",
      "symround: Deleted coefficient -3.7278512931725e-16\n",
      "symround: Deleted coefficient -5.6158284402960e-19\n",
      "symround: Deleted coefficient 4.2797254455607e-15\n",
      "symround: Deleted coefficient -8.6634529845170e-18\n",
      "symround: Deleted coefficient -5.7332610881033e-16\n",
      "symround: Deleted coefficient -9.5172621953493e-18\n",
      "symround: Deleted coefficient 2.0514079191315e-22\n",
      "symround: Deleted coefficient -1.7039592393325e-15\n",
      "symround: Deleted coefficient -4.3650431215172e-19\n",
      "symround: Deleted coefficient -1.5261229779906e-15\n",
      "symround: Deleted coefficient 3.6710407934001e-18\n",
      "symround: Deleted coefficient 3.1763735522036e-22\n",
      "symround: Deleted coefficient 1.1849245543094e-15\n",
      "symround: Deleted coefficient 1.5151725360485e-17\n",
      "symround: Deleted coefficient 1.1117307432713e-21\n",
      "symround: Deleted coefficient -2.8843030394632e-15\n",
      "symround: Deleted coefficient 1.3944279894174e-18\n",
      "symround: Deleted coefficient 1.5881867761018e-22\n",
      "symround: Deleted coefficient -5.6573669360294e-16\n",
      "symround: Deleted coefficient 7.2921913462070e-17\n",
      "symround: Deleted coefficient 5.0292581243224e-22\n",
      "symround: Deleted coefficient -4.1156314467550e-16\n",
      "symround: Deleted coefficient -5.4431466567824e-17\n",
      "symround: Deleted coefficient -6.6174449004245e-24\n",
      "symround: Deleted coefficient -9.9424049722352e-16\n",
      "symround: Deleted coefficient -1.5302073708623e-17\n",
      "symround: Deleted coefficient 1.2705494208815e-21\n",
      "symround: Deleted coefficient 4.5688279548539e-16\n",
      "symround: Deleted coefficient -7.3714453956384e-18\n",
      "symround: Deleted coefficient 1.3109158347740e-20\n",
      "symround: Deleted coefficient 2.7003410358467e-17\n",
      "symround: Deleted coefficient -1.8663400434163e-20\n",
      "symround: Deleted coefficient 6.7307270867900e-16\n",
      "symround: Deleted coefficient 1.1286078747453e-17\n",
      "symround: Deleted coefficient -1.0323214044662e-21\n",
      "symround: Deleted coefficient -1.4761904916291e-17\n",
      "symround: Deleted coefficient -5.7836468429708e-21\n",
      "symround: Deleted coefficient -1.1260456000799e-17\n",
      "symround: Deleted coefficient 6.3792168840089e-21\n",
      "symround: Deleted coefficient 2.1153324368696e-18\n",
      "symround: Deleted coefficient 1.1117307432713e-21\n",
      "symround: Deleted coefficient -3.9963014451458e-18\n",
      "symround: Deleted coefficient -5.6910026143648e-22\n",
      "symround: Deleted coefficient 4.2351647362715e-22\n",
      "symround: Deleted coefficient -2.6469779601697e-23\n",
      "symround: Deleted coefficient -1.9428902930940e-16\n",
      "symround: Deleted coefficient -1.7615538657386e-14\n",
      "symround: Deleted coefficient 3.2381504884900e-17\n",
      "symround: Deleted coefficient 3.1622563364161e-20\n",
      "symround: Deleted coefficient -7.8751819880078e-14\n",
      "symround: Deleted coefficient -1.0362081563168e-15\n",
      "symround: Deleted coefficient -1.2649025345664e-19\n",
      "symround: Deleted coefficient 5.3758357719073e-19\n",
      "symround: Deleted coefficient 2.2019423321732e-15\n",
      "symround: Deleted coefficient 5.0596101382657e-19\n",
      "symround: Deleted coefficient 7.5894152073985e-19\n",
      "symround: Deleted coefficient 1.2649025345664e-19\n",
      "symround: Deleted coefficient -1.8973538018496e-19\n",
      "symround: Deleted coefficient -3.4694469519536e-18\n",
      "symround: Deleted coefficient 1.3877787807814e-17\n",
      "symround: Deleted coefficient -1.2490009027033e-16\n",
      "symround: Deleted coefficient 2.5783682914421e-18\n",
      "symround: Deleted coefficient -1.0408340855861e-17\n",
      "symround: Deleted coefficient 6.8304736866587e-18\n",
      "symround: Deleted coefficient 2.5934115965853e-16\n",
      "symround: Deleted coefficient 1.7401444868392e-17\n",
      "symround: Deleted coefficient 4.4408920985006e-16\n",
      "symround: Deleted coefficient 1.5083962724705e-17\n",
      "symround: Deleted coefficient 2.1175823681358e-20\n",
      "symround: Deleted coefficient -6.5254514754661e-16\n",
      "symround: Deleted coefficient -3.1911119254859e-17\n",
      "symround: Deleted coefficient -1.7049440563059e-15\n"
     ]
    },
    {
     "name": "stdout",
     "output_type": "stream",
     "text": [
      "symround: Deleted coefficient 1.9866649558081e-16\n",
      "symround: Deleted coefficient 9.0632525356210e-20\n",
      "symround: Deleted coefficient 3.3306690738755e-16\n",
      "symround: Deleted coefficient 2.3076339739544e-16\n",
      "symround: Deleted coefficient 2.1316995839233e-20\n",
      "symround: Deleted coefficient -1.2836953722228e-16\n",
      "symround: Deleted coefficient -4.6908006992585e-16\n",
      "symround: Deleted coefficient -6.0986372202310e-20\n",
      "symround: Deleted coefficient -9.7289074944366e-16\n",
      "symround: Deleted coefficient 6.2395835026541e-17\n",
      "symround: Deleted coefficient 3.4777761092683e-19\n",
      "symround: Deleted coefficient 2.2898349882894e-16\n",
      "symround: Deleted coefficient -7.9499124297500e-17\n",
      "symround: Deleted coefficient -1.0028870095491e-18\n",
      "symround: Deleted coefficient -1.2407709188295e-24\n",
      "symround: Deleted coefficient 1.3308220266535e-15\n",
      "symround: Deleted coefficient -9.5544638823927e-16\n",
      "symround: Deleted coefficient 1.4103098571784e-19\n",
      "symround: Deleted coefficient -3.0531133177192e-16\n",
      "symround: Deleted coefficient -1.0402919844998e-15\n",
      "symround: Deleted coefficient -3.4547297544951e-18\n",
      "symround: Deleted coefficient 9.9261673506363e-24\n",
      "symround: Deleted coefficient -8.3049886412390e-17\n",
      "symround: Deleted coefficient -9.7917008702597e-19\n",
      "symround: Deleted coefficient -1.3234889800848e-23\n",
      "symround: Deleted coefficient -5.1468432380603e-16\n",
      "symround: Deleted coefficient -3.1167503736508e-19\n",
      "symround: Deleted coefficient -8.6831719115291e-16\n",
      "symround: Deleted coefficient 1.1385534532677e-18\n",
      "symround: Deleted coefficient -1.7646519734465e-23\n",
      "symround: Deleted coefficient 1.0581813203459e-16\n",
      "symround: Deleted coefficient -4.8791391809413e-18\n",
      "symround: Deleted coefficient 1.0367330343998e-22\n",
      "symround: Deleted coefficient -3.9302667565778e-16\n",
      "symround: Deleted coefficient -3.1602269866466e-18\n",
      "symround: Deleted coefficient -2.7918205941502e-17\n",
      "symround: Deleted coefficient 5.2120054826925e-18\n",
      "symround: Deleted coefficient 2.1837568171400e-22\n",
      "symround: Deleted coefficient -5.4252460271638e-19\n",
      "symround: Deleted coefficient 7.9409338805091e-23\n",
      "symround: Deleted coefficient 1.1134756311426e-16\n",
      "symround: Deleted coefficient -9.7578195523695e-19\n",
      "symround: Deleted coefficient 6.6174449004242e-24\n",
      "symround: Deleted coefficient -2.1419345653693e-19\n",
      "symround: Deleted coefficient 1.1911400820764e-22\n",
      "symround: Deleted coefficient -5.0821976835258e-21\n",
      "symround: Deleted coefficient -4.0498762790596e-21\n",
      "symround: Deleted coefficient -3.4389537658525e-19\n",
      "symround: Deleted coefficient 2.6469779601697e-23\n",
      "symround: Deleted coefficient -9.7144514654701e-17\n",
      "symround: Deleted coefficient 1.1916393797643e-14\n",
      "symround: Deleted coefficient 4.0476881106125e-18\n",
      "symround: Deleted coefficient 4.9410255256501e-22\n",
      "symround: Deleted coefficient -1.0362081563168e-14\n",
      "symround: Deleted coefficient 2.1047978175185e-16\n",
      "symround: Deleted coefficient 7.9056408410401e-21\n",
      "symround: Deleted coefficient -2.2728717417990e-20\n",
      "symround: Deleted coefficient 1.4571677198205e-16\n",
      "symround: Deleted coefficient -1.5811281682080e-20\n",
      "symround: Deleted coefficient 3.9528204205201e-21\n",
      "symround: Deleted coefficient 3.9528204205201e-21\n",
      "symround: Deleted coefficient -4.9410255256501e-22\n",
      "symround: Deleted coefficient 2.4286128663675e-17\n",
      "symround: Deleted coefficient 6.5919492087119e-17\n",
      "symround: Deleted coefficient 1.0842021724855e-19\n",
      "symround: Deleted coefficient 8.5001450322864e-17\n",
      "symround: Deleted coefficient -1.5951747979167e-18\n",
      "symround: Deleted coefficient -1.2490009027033e-16\n",
      "symround: Deleted coefficient 1.9768393736200e-16\n",
      "symround: Deleted coefficient 6.8101228377749e-19\n",
      "symround: Deleted coefficient -2.1076890233118e-16\n",
      "symround: Deleted coefficient -8.1145756346962e-19\n",
      "symround: Deleted coefficient 1.0984958534704e-21\n",
      "symround: Deleted coefficient -1.2053798352970e-15\n",
      "symround: Deleted coefficient -8.7140102635562e-18\n",
      "symround: Deleted coefficient -4.4560709289154e-16\n",
      "symround: Deleted coefficient 2.9263294261742e-17\n",
      "symround: Deleted coefficient -2.6734477397714e-21\n",
      "symround: Deleted coefficient -3.6328000792748e-16\n",
      "symround: Deleted coefficient 3.8392615367248e-17\n",
      "symround: Deleted coefficient 3.0881409535313e-23\n",
      "symround: Deleted coefficient 1.2759433266896e-15\n",
      "symround: Deleted coefficient -4.2859867131068e-17\n",
      "symround: Deleted coefficient -6.3527471044073e-22\n",
      "symround: Deleted coefficient 1.1894782034338e-15\n",
      "symround: Deleted coefficient -3.9210397443391e-16\n",
      "symround: Deleted coefficient -6.4895076323494e-21\n",
      "symround: Deleted coefficient -1.1362438767648e-15\n",
      "symround: Deleted coefficient 1.0094663379669e-16\n",
      "symround: Deleted coefficient -2.3505164286307e-20\n",
      "symround: Deleted coefficient 8.1412741131937e-16\n",
      "symround: Deleted coefficient 1.4294655072806e-16\n",
      "symround: Deleted coefficient -1.4999541774295e-21\n",
      "symround: Deleted coefficient -1.1336417915508e-15\n",
      "symround: Deleted coefficient 1.0361415230583e-16\n",
      "symround: Deleted coefficient -1.3269962258821e-19\n",
      "symround: Deleted coefficient 2.3929697199471e-16\n",
      "symround: Deleted coefficient -1.8986772908297e-19\n",
      "symround: Deleted coefficient -9.2287288921966e-16\n",
      "symround: Deleted coefficient 2.0048380476915e-16\n",
      "symround: Deleted coefficient -5.8908494503576e-20\n",
      "symround: Deleted coefficient 1.7660975763431e-16\n",
      "symround: Deleted coefficient -1.0519972739701e-19\n",
      "symround: Deleted coefficient -4.9656459499836e-17\n",
      "symround: Deleted coefficient 5.5755282008524e-20\n",
      "symround: Deleted coefficient -6.3549493900701e-17\n",
      "symround: Deleted coefficient -1.7051845805757e-19\n",
      "symround: Deleted coefficient -5.6466604395761e-17\n",
      "symround: Deleted coefficient 1.5723049083408e-19\n",
      "symround: Deleted coefficient -7.2580135667853e-20\n",
      "symround: Deleted coefficient 3.1119990482123e-18\n",
      "symround: Deleted coefficient 2.0222911615696e-20\n",
      "symround: Deleted coefficient -4.0203183585044e-20\n",
      "symround: Deleted coefficient -1.5246593050577e-20\n",
      "symround: Deleted coefficient -1.4783371907548e-20\n",
      "symround: Deleted coefficient 2.4881592825595e-21\n",
      "symround: Deleted coefficient 5.1810407815841e-16\n",
      "symround: Deleted coefficient -2.0238440553063e-17\n",
      "symround: Deleted coefficient -1.0362081563168e-15\n",
      "symround: Deleted coefficient 4.6629367034257e-15\n",
      "symround: Deleted coefficient 5.0596101382657e-19\n",
      "symround: Deleted coefficient -3.8601761919141e-24\n",
      "symround: Deleted coefficient -3.8601761919141e-24\n",
      "symround: Deleted coefficient -7.7203523838283e-24\n",
      "symround: Deleted coefficient 1.0362081563168e-15\n",
      "symround: Deleted coefficient 2.0238440553063e-18\n",
      "symround: Deleted coefficient 1.5440704767657e-22\n",
      "symround: Deleted coefficient 6.1762819070626e-23\n",
      "symround: Deleted coefficient -8.0953762212251e-18\n",
      "symround: Deleted coefficient 3.7057691442376e-22\n",
      "symround: Deleted coefficient 3.7057691442376e-22\n",
      "symround: Deleted coefficient 2.4705127628250e-22\n",
      "symround: Deleted coefficient 4.3368086899420e-19\n",
      "symround: Deleted coefficient 4.3368086899420e-19\n",
      "symround: Deleted coefficient 1.9732479539236e-17\n",
      "symround: Deleted coefficient 1.2576745200832e-17\n",
      "symround: Deleted coefficient 2.0328790734103e-20\n",
      "symround: Deleted coefficient 2.6834003769016e-17\n",
      "symround: Deleted coefficient -1.1117307432713e-19\n",
      "symround: Deleted coefficient -2.2117724318704e-17\n",
      "symround: Deleted coefficient -8.9663519664551e-17\n",
      "symround: Deleted coefficient -2.2276966512788e-19\n",
      "symround: Deleted coefficient 2.7592945289756e-16\n",
      "symround: Deleted coefficient 1.0981782161152e-18\n",
      "symround: Deleted coefficient -1.4381941818020e-16\n",
      "symround: Deleted coefficient -1.0435445910173e-18\n",
      "symround: Deleted coefficient 6.2114845963505e-16\n",
      "symround: Deleted coefficient 8.8430239693349e-19\n",
      "symround: Deleted coefficient 7.9409338805091e-23\n",
      "symround: Deleted coefficient -1.9746935568203e-16\n",
      "symround: Deleted coefficient 1.2730216982962e-17\n",
      "symround: Deleted coefficient 2.1175823681358e-22\n",
      "symround: Deleted coefficient -8.9746641831108e-16\n",
      "symround: Deleted coefficient 3.2538770668774e-18\n",
      "symround: Deleted coefficient -1.9852334701273e-23\n",
      "symround: Deleted coefficient -1.3926102567126e-15\n",
      "symround: Deleted coefficient 1.1782228296307e-17\n",
      "symround: Deleted coefficient -1.3676052794210e-22\n",
      "symround: Deleted coefficient -5.5901464013353e-16\n",
      "symround: Deleted coefficient -7.4645837267969e-18\n",
      "symround: Deleted coefficient 2.5808035111654e-22\n",
      "symround: Deleted coefficient -7.4332900945606e-16\n",
      "symround: Deleted coefficient -7.6879533735958e-18\n",
      "symround: Deleted coefficient -8.7515708808110e-22\n",
      "symround: Deleted coefficient -1.6328084717632e-16\n",
      "symround: Deleted coefficient -1.5856456772601e-17\n",
      "symround: Deleted coefficient 3.7587087034410e-21\n",
      "symround: Deleted coefficient -2.3835507135736e-17\n",
      "symround: Deleted coefficient -6.6505321249263e-22\n",
      "symround: Deleted coefficient 1.1167282376601e-15\n",
      "symround: Deleted coefficient 4.6646104405294e-18\n",
      "symround: Deleted coefficient 1.7800926782141e-21\n",
      "symround: Deleted coefficient 1.1295501988991e-17\n",
      "symround: Deleted coefficient -5.6546066674125e-21\n",
      "symround: Deleted coefficient -2.4936649967167e-18\n",
      "symround: Deleted coefficient -2.1026931171098e-21\n",
      "symround: Deleted coefficient 9.0329005216777e-19\n",
      "symround: Deleted coefficient -3.0440246541951e-22\n",
      "symround: Deleted coefficient -3.0865880597947e-18\n",
      "symround: Deleted coefficient 4.2450909036221e-21\n",
      "symround: Deleted coefficient 2.5124232471944e-21\n",
      "symround: Deleted coefficient -4.0826988057657e-19\n",
      "symround: Deleted coefficient -2.6999175193731e-21\n",
      "symround: Deleted coefficient 1.4823076576950e-21\n",
      "symround: Deleted coefficient 9.9261673506363e-23\n",
      "symround: Deleted coefficient -7.4115382884751e-22\n",
      "symround: Deleted coefficient -1.2952601953960e-15\n",
      "symround: Deleted coefficient -2.4705127628250e-21\n",
      "symround: Deleted coefficient -1.3470706032119e-14\n",
      "symround: Deleted coefficient 4.5334106838861e-16\n",
      "symround: Deleted coefficient 2.0554666186704e-19\n",
      "symround: Deleted coefficient -6.4763009769801e-16\n",
      "symround: Deleted coefficient 5.0596101382657e-19\n",
      "symround: Deleted coefficient 5.3758357719073e-19\n",
      "symround: Deleted coefficient 6.3245126728321e-20\n",
      "symround: Deleted coefficient 3.7947076036993e-19\n",
      "symround: Deleted coefficient -1.3877787807814e-17\n",
      "symround: Deleted coefficient -3.5236570605779e-19\n",
      "symround: Deleted coefficient 2.1684043449710e-18\n",
      "symround: Deleted coefficient 2.4394548880924e-19\n",
      "symround: Deleted coefficient -1.0733601507606e-17\n",
      "symround: Deleted coefficient -1.6263032587283e-19\n",
      "symround: Deleted coefficient 8.6736173798840e-17\n",
      "symround: Deleted coefficient -1.4636729328554e-18\n",
      "symround: Deleted coefficient -5.2854855908668e-19\n",
      "symround: Deleted coefficient 1.3323122399521e-21\n",
      "symround: Deleted coefficient 2.8622937353617e-16\n",
      "symround: Deleted coefficient 2.6664597179565e-18\n",
      "symround: Deleted coefficient -8.4703294725430e-22\n",
      "symround: Deleted coefficient 4.3975240116012e-16\n",
      "symround: Deleted coefficient -1.2372102040775e-16\n",
      "symround: Deleted coefficient 1.0905549195899e-20\n",
      "symround: Deleted coefficient 6.9388939039072e-18\n",
      "symround: Deleted coefficient 3.6215740692805e-17\n",
      "symround: Deleted coefficient 7.5491811424040e-20\n",
      "symround: Deleted coefficient 1.1969591984240e-16\n",
      "symround: Deleted coefficient -2.1164981659633e-16\n",
      "symround: Deleted coefficient -1.5180418601573e-20\n",
      "symround: Deleted coefficient -1.1102230246252e-16\n",
      "symround: Deleted coefficient 4.1337918331441e-16\n",
      "symround: Deleted coefficient 6.8482613785510e-19\n",
      "symround: Deleted coefficient 4.1359030627651e-25\n",
      "symround: Deleted coefficient 6.4337234541648e-17\n",
      "symround: Deleted coefficient 2.0004094770989e-19\n",
      "symround: Deleted coefficient -9.6504404797853e-25\n",
      "symround: Deleted coefficient 1.4137996329211e-16\n",
      "symround: Deleted coefficient 8.8115143436970e-17\n",
      "symround: Deleted coefficient -3.3457801416545e-20\n",
      "symround: Deleted coefficient 8.2718061255303e-25\n",
      "symround: Deleted coefficient 1.7516980162398e-16\n",
      "symround: Deleted coefficient -3.6590389541657e-18\n",
      "symround: Deleted coefficient -4.1359030627651e-25\n",
      "symround: Deleted coefficient -8.6709068744528e-17\n",
      "symround: Deleted coefficient -7.6444723489701e-20\n",
      "symround: Deleted coefficient -1.7370792863614e-23\n",
      "symround: Deleted coefficient -1.5234734589316e-16\n",
      "symround: Deleted coefficient 1.9672472548879e-18\n",
      "symround: Deleted coefficient -3.3087224502121e-24\n",
      "symround: Deleted coefficient -2.3084019504932e-16\n",
      "symround: Deleted coefficient 2.1829097841927e-18\n",
      "symround: Deleted coefficient 2.1506695926379e-23\n",
      "symround: Deleted coefficient -1.8804131429045e-19\n",
      "symround: Deleted coefficient 3.3087224502121e-24\n",
      "symround: Deleted coefficient -1.1470858984897e-16\n",
      "symround: Deleted coefficient 2.3547515933670e-19\n",
      "symround: Deleted coefficient -2.4815418376591e-23\n",
      "symround: Deleted coefficient -2.3627719365863e-18\n",
      "symround: Deleted coefficient -2.0955242184677e-23\n",
      "symround: Deleted coefficient 1.1104601938504e-18\n",
      "symround: Deleted coefficient -9.8158766022959e-23\n",
      "symround: Deleted coefficient -1.2874900798265e-19\n",
      "symround: Deleted coefficient 3.7947076036993e-19\n",
      "symround: Deleted coefficient 3.6395946952333e-23\n",
      "symround: Deleted coefficient 2.3843977465209e-19\n",
      "symround: Deleted coefficient -6.6174449004242e-24\n",
      "symround: Deleted coefficient 2.9143354396410e-16\n",
      "symround: Deleted coefficient -5.0596101382657e-19\n",
      "symround: Deleted coefficient -4.6322114302970e-23\n",
      "symround: Deleted coefficient 1.0362081563168e-15\n",
      "symround: Deleted coefficient 2.4705127628250e-22\n",
      "symround: Deleted coefficient 1.0870256156430e-20\n",
      "symround: Deleted coefficient -3.2381504884900e-17\n",
      "symround: Deleted coefficient 3.9528204205201e-21\n",
      "symround: Deleted coefficient 1.9764102102600e-20\n",
      "symround: Deleted coefficient -3.9528204205201e-21\n",
      "symround: Deleted coefficient -2.7105054312138e-20\n",
      "symround: Deleted coefficient 6.9388939039072e-18\n",
      "symround: Deleted coefficient 2.1175823681358e-20\n",
      "symround: Deleted coefficient -3.0357660829594e-18\n",
      "symround: Deleted coefficient -4.7433845046241e-20\n",
      "symround: Deleted coefficient 6.9117888495951e-18\n",
      "symround: Deleted coefficient -3.7269449679189e-19\n"
     ]
    },
    {
     "name": "stdout",
     "output_type": "stream",
     "text": [
      "symround: Deleted coefficient -2.0925101928970e-17\n",
      "symround: Deleted coefficient 7.0473141211558e-19\n",
      "symround: Deleted coefficient -1.0587911840679e-22\n",
      "symround: Deleted coefficient -6.8304736866587e-18\n",
      "symround: Deleted coefficient -6.1960460091652e-19\n",
      "symround: Deleted coefficient 2.9778502051909e-23\n",
      "symround: Deleted coefficient 3.1908069936248e-16\n",
      "symround: Deleted coefficient 1.7279472123988e-18\n",
      "symround: Deleted coefficient 4.7645603283054e-22\n",
      "symround: Deleted coefficient 1.8259997463729e-16\n",
      "symround: Deleted coefficient -8.0115243710768e-18\n",
      "symround: Deleted coefficient -3.2442023624330e-21\n",
      "symround: Deleted coefficient 1.4658413372004e-16\n",
      "symround: Deleted coefficient 3.8461119156858e-18\n",
      "symround: Deleted coefficient 3.7719435932418e-21\n",
      "symround: Deleted coefficient -1.0245710529988e-16\n",
      "symround: Deleted coefficient -1.9077405433653e-17\n",
      "symround: Deleted coefficient -2.6469779601697e-21\n",
      "symround: Deleted coefficient -7.7195194680968e-17\n",
      "symround: Deleted coefficient -3.7975028124252e-17\n",
      "symround: Deleted coefficient -2.5172760401214e-20\n",
      "symround: Deleted coefficient -5.5599242657772e-18\n",
      "symround: Deleted coefficient 2.0015565008816e-20\n",
      "symround: Deleted coefficient -1.2744796537567e-16\n",
      "symround: Deleted coefficient 2.5347460946585e-17\n",
      "symround: Deleted coefficient 9.3173624197973e-21\n",
      "symround: Deleted coefficient -7.6678081066669e-17\n",
      "symround: Deleted coefficient 1.1715083288718e-19\n",
      "symround: Deleted coefficient 1.5639616338103e-17\n",
      "symround: Deleted coefficient 2.2022856628612e-20\n",
      "symround: Deleted coefficient -1.5732578204065e-17\n",
      "symround: Deleted coefficient -1.0731289813521e-19\n",
      "symround: Deleted coefficient 3.2851325826311e-17\n",
      "symround: Deleted coefficient 2.4168894009819e-19\n",
      "symround: Deleted coefficient 8.3386423190246e-20\n",
      "symround: Deleted coefficient 9.8730160331961e-18\n",
      "symround: Deleted coefficient 1.4876016136154e-20\n",
      "symround: Deleted coefficient 1.2929163846449e-19\n",
      "symround: Deleted coefficient -1.8846483076408e-20\n",
      "symround: Deleted coefficient -5.8463057743717e-20\n",
      "symround: Deleted coefficient 6.2574558978411e-20\n",
      "symround: Deleted coefficient -7.1468404924582e-21\n",
      "symround: Deleted coefficient -1.2952601953960e-16\n",
      "symround: Deleted coefficient 1.6190752442450e-17\n",
      "symround: Deleted coefficient -3.9528204205201e-21\n",
      "symround: Deleted coefficient 1.2063050599732e-25\n",
      "symround: Deleted coefficient 4.8252202398927e-25\n",
      "symround: Deleted coefficient 3.6189151799195e-25\n",
      "symround: Deleted coefficient 7.7715611723761e-16\n",
      "symround: Deleted coefficient 7.7203523838283e-24\n",
      "symround: Deleted coefficient -9.2644228605939e-23\n",
      "symround: Deleted coefficient -6.1762819070626e-23\n",
      "symround: Deleted coefficient 2.0238440553063e-18\n",
      "symround: Deleted coefficient -4.3233973349438e-22\n",
      "symround: Deleted coefficient 2.1616986674719e-22\n",
      "symround: Deleted coefficient 4.6322114302970e-23\n",
      "symround: Deleted coefficient -6.1762819070626e-23\n",
      "symround: Deleted coefficient 6.1762819070626e-23\n",
      "symround: Deleted coefficient 1.5440704767657e-23\n",
      "symround: Deleted coefficient -2.1684043449710e-19\n",
      "symround: Deleted coefficient 5.0469046440569e-21\n",
      "symround: Deleted coefficient -3.2526065174565e-18\n",
      "symround: Deleted coefficient -8.4703294725430e-22\n",
      "symround: Deleted coefficient 2.8311229229028e-17\n",
      "symround: Deleted coefficient 1.1011428314306e-20\n",
      "symround: Deleted coefficient -1.1282478857427e-18\n",
      "symround: Deleted coefficient -2.4140438996748e-20\n",
      "symround: Deleted coefficient -1.2407709188295e-24\n",
      "symround: Deleted coefficient 1.1113072267976e-18\n",
      "symround: Deleted coefficient -1.9354702844761e-19\n",
      "symround: Deleted coefficient -1.9300880959571e-24\n",
      "symround: Deleted coefficient -7.1320174158812e-17\n",
      "symround: Deleted coefficient -4.2753988012661e-19\n",
      "symround: Deleted coefficient -4.1741783640692e-18\n",
      "symround: Deleted coefficient 1.2796550250644e-18\n",
      "symround: Deleted coefficient -1.7680985593321e-23\n",
      "symround: Deleted coefficient -2.3771132631745e-17\n",
      "symround: Deleted coefficient -9.4920629651685e-20\n",
      "symround: Deleted coefficient 1.3542497591142e-22\n",
      "symround: Deleted coefficient -1.3647394846161e-16\n",
      "symround: Deleted coefficient -1.2327505756102e-18\n",
      "symround: Deleted coefficient 1.2200914035157e-23\n",
      "symround: Deleted coefficient 3.3122376369432e-17\n",
      "symround: Deleted coefficient 1.0120190835117e-18\n",
      "symround: Deleted coefficient -2.8651468467305e-22\n",
      "symround: Deleted coefficient -4.7363435432500e-18\n",
      "symround: Deleted coefficient -2.3988237764038e-22\n",
      "symround: Deleted coefficient 1.2067170179764e-16\n",
      "symround: Deleted coefficient -3.6512413982581e-18\n",
      "symround: Deleted coefficient -4.2682519607736e-22\n",
      "symround: Deleted coefficient -1.0713272716872e-17\n",
      "symround: Deleted coefficient -1.5280783182563e-21\n",
      "symround: Deleted coefficient -3.0730355326386e-18\n",
      "symround: Deleted coefficient 2.2036091518413e-21\n",
      "symround: Deleted coefficient 1.5632257739374e-18\n",
      "symround: Deleted coefficient -2.6966087969229e-22\n",
      "symround: Deleted coefficient -3.6320772778264e-18\n",
      "symround: Deleted coefficient 4.9630836753182e-22\n",
      "symround: Deleted coefficient 9.5291206566109e-22\n",
      "symround: Deleted coefficient -7.5318169669852e-18\n",
      "symround: Deleted coefficient -1.5948042210022e-21\n",
      "symround: Deleted coefficient 1.4028983188899e-21\n",
      "symround: Deleted coefficient -3.3087224502121e-24\n",
      "symround: Deleted coefficient 1.5683344414005e-21\n",
      "symround: Deleted coefficient 1.1911400820764e-22\n",
      "symround: Deleted coefficient -5.2939559203394e-23\n",
      "symround: Deleted coefficient 6.4763009769801e-17\n",
      "symround: Deleted coefficient -1.2143064331838e-17\n",
      "symround: Deleted coefficient -2.4705127628250e-22\n",
      "symround: Deleted coefficient 5.9292306307801e-21\n",
      "symround: Deleted coefficient 1.6190752442450e-16\n",
      "symround: Deleted coefficient -7.9056408410401e-20\n",
      "symround: Deleted coefficient -2.6879178859536e-19\n",
      "symround: Deleted coefficient -4.4271588709825e-19\n",
      "symround: Deleted coefficient -1.5811281682080e-20\n",
      "symround: Deleted coefficient -2.7105054312138e-19\n",
      "symround: Deleted coefficient -4.2351647362715e-22\n",
      "symround: Deleted coefficient 1.6093625997832e-19\n",
      "symround: Deleted coefficient -1.8528845721188e-22\n",
      "symround: Deleted coefficient 3.7608262858091e-19\n",
      "symround: Deleted coefficient 1.0587911840679e-22\n",
      "symround: Deleted coefficient 1.5178830414797e-18\n",
      "symround: Deleted coefficient -9.2495997840170e-19\n",
      "symround: Deleted coefficient -5.0292581243224e-22\n",
      "symround: Deleted coefficient -4.6434346168481e-18\n",
      "symround: Deleted coefficient -5.2939559203394e-22\n",
      "symround: Deleted coefficient 3.5897256304637e-18\n",
      "symround: Deleted coefficient 7.3872743238402e-21\n",
      "symround: Deleted coefficient -1.7347234759768e-18\n",
      "symround: Deleted coefficient -2.7528570785765e-18\n",
      "symround: Deleted coefficient 2.5410988417629e-21\n",
      "symround: Deleted coefficient -1.0339757656913e-25\n",
      "symround: Deleted coefficient 6.5052130349130e-19\n",
      "symround: Deleted coefficient -8.6212072162727e-20\n",
      "symround: Deleted coefficient -2.2747466845208e-24\n",
      "symround: Deleted coefficient -3.3610267347051e-18\n",
      "symround: Deleted coefficient 2.3174292041286e-20\n",
      "symround: Deleted coefficient -1.4217166778255e-24\n",
      "symround: Deleted coefficient -2.3046072428895e-17\n",
      "symround: Deleted coefficient -1.8078311460803e-19\n",
      "symround: Deleted coefficient 5.1698788284564e-26\n",
      "symround: Deleted coefficient 1.3931997916439e-17\n",
      "symround: Deleted coefficient -1.4696021634862e-19\n",
      "symround: Deleted coefficient 6.4106497472860e-24\n",
      "symround: Deleted coefficient -7.3585987292717e-21\n",
      "symround: Deleted coefficient -5.9281277232967e-24\n",
      "symround: Deleted coefficient 1.4371099796295e-16\n",
      "symround: Deleted coefficient 1.8994713842178e-19\n",
      "symround: Deleted coefficient -1.0753347963189e-23\n",
      "symround: Deleted coefficient 7.8657597064402e-19\n",
      "symround: Deleted coefficient -3.0605682664462e-23\n",
      "symround: Deleted coefficient -5.6327690992411e-20\n",
      "symround: Deleted coefficient -8.6853964318068e-24\n",
      "symround: Deleted coefficient 3.9053512824344e-19\n",
      "symround: Deleted coefficient -1.3786343542550e-24\n",
      "symround: Deleted coefficient -9.6985272460617e-20\n",
      "symround: Deleted coefficient 2.4815418376591e-23\n",
      "symround: Deleted coefficient 5.2939559203394e-23\n",
      "symround: Deleted coefficient 2.0995829180066e-19\n",
      "symround: Deleted coefficient 5.2939559203394e-23\n",
      "symround: Deleted coefficient -2.8951321439356e-24\n",
      "symround: Deleted coefficient -6.6174449004242e-24\n",
      "symround: Deleted coefficient 6.6174449004242e-24\n",
      "symround: Deleted coefficient -2.3161057151485e-23\n",
      "symround: Deleted coefficient -2.4126101199463e-25\n",
      "symround: Deleted coefficient -1.6190752442450e-17\n",
      "symround: Deleted coefficient -1.0119220276531e-18\n",
      "symround: Deleted coefficient -1.5440704767657e-23\n",
      "symround: Deleted coefficient -6.1762819070626e-22\n",
      "symround: Deleted coefficient 1.2143064331838e-17\n",
      "symround: Deleted coefficient -1.7293589339775e-21\n",
      "symround: Deleted coefficient 3.4587178679551e-21\n",
      "symround: Deleted coefficient 7.9056408410401e-21\n",
      "symround: Deleted coefficient 5.4351280782151e-21\n",
      "symround: Deleted coefficient -8.6736173798840e-18\n",
      "symround: Deleted coefficient -7.4538899358378e-20\n",
      "symround: Deleted coefficient 1.3234889800848e-23\n",
      "symround: Deleted coefficient -5.9885229370879e-19\n",
      "symround: Deleted coefficient -9.6504404797853e-24\n",
      "symround: Deleted coefficient -5.2410163611360e-20\n",
      "symround: Deleted coefficient -1.3234889800848e-23\n",
      "symround: Deleted coefficient -5.2028151752148e-17\n",
      "symround: Deleted coefficient -2.4140438996748e-20\n",
      "symround: Deleted coefficient 2.3161057151485e-23\n",
      "symround: Deleted coefficient -1.7618285302889e-18\n",
      "symround: Deleted coefficient 1.9253058891090e-18\n",
      "symround: Deleted coefficient 2.7793268581782e-22\n",
      "symround: Deleted coefficient -1.1228480507040e-18\n",
      "symround: Deleted coefficient 1.6163109169286e-21\n",
      "symround: Deleted coefficient 3.8597597340484e-17\n",
      "symround: Deleted coefficient -6.4228390807925e-18\n",
      "symround: Deleted coefficient 1.2176098616781e-21\n",
      "symround: Deleted coefficient -1.0122043719689e-19\n",
      "symround: Deleted coefficient -6.0764687798145e-21\n",
      "symround: Deleted coefficient -1.2027867851011e-18\n",
      "symround: Deleted coefficient -1.6278914455044e-21\n",
      "symround: Deleted coefficient 1.2349740370968e-18\n",
      "symround: Deleted coefficient 1.0818419504710e-20\n",
      "symround: Deleted coefficient 1.2811373327222e-20\n",
      "symround: Deleted coefficient -3.0618917554263e-20\n",
      "symround: Deleted coefficient 1.3069453678338e-22\n",
      "symround: Deleted coefficient 1.3959102970751e-18\n",
      "symround: Deleted coefficient -2.1546400595781e-20\n",
      "symround: Deleted coefficient 2.6377135373091e-20\n",
      "symround: Deleted coefficient -6.8821426964412e-21\n",
      "symround: Deleted coefficient 3.0528754867495e-20\n",
      "symround: Deleted coefficient 1.2070219498374e-20\n",
      "symround: Deleted coefficient 1.1898165930963e-20\n",
      "symround: Deleted coefficient -8.5001450322864e-17\n",
      "symround: Deleted coefficient -5.5339485887281e-20\n",
      "symround: Deleted coefficient -1.2063050599732e-25\n",
      "symround: Deleted coefficient -1.4475660719678e-24\n",
      "symround: Deleted coefficient -1.3510616671699e-23\n",
      "symround: Deleted coefficient 7.7203523838283e-24\n",
      "symround: Deleted coefficient -7.5894152073985e-19\n",
      "symround: Deleted coefficient 3.8601761919141e-23\n",
      "symround: Deleted coefficient 5.0182290494884e-23\n",
      "symround: Deleted coefficient 1.3896634290891e-22\n",
      "symround: Deleted coefficient 7.7203523838283e-23\n",
      "symround: Deleted coefficient 9.2644228605939e-23\n",
      "symround: Deleted coefficient -1.5440704767657e-23\n",
      "symround: Deleted coefficient 1.5440704767657e-23\n",
      "symround: Deleted coefficient -3.6862873864507e-18\n",
      "symround: Deleted coefficient -2.1175823681358e-22\n",
      "symround: Deleted coefficient -4.3368086899420e-19\n",
      "symround: Deleted coefficient -4.5775072191201e-20\n",
      "symround: Deleted coefficient 2.4126101199463e-25\n",
      "symround: Deleted coefficient 5.4210108624275e-19\n",
      "symround: Deleted coefficient 1.1329065669526e-20\n",
      "symround: Deleted coefficient -6.7830398416124e-18\n",
      "symround: Deleted coefficient 8.4915052962244e-20\n",
      "symround: Deleted coefficient -9.6935228033558e-25\n",
      "symround: Deleted coefficient 8.6397360619939e-19\n",
      "symround: Deleted coefficient 3.8195891965249e-20\n",
      "symround: Deleted coefficient 1.3441684953987e-24\n",
      "symround: Deleted coefficient 2.1493461036578e-20\n",
      "symround: Deleted coefficient 3.1674124289010e-23\n",
      "symround: Deleted coefficient -1.4779030863693e-17\n",
      "symround: Deleted coefficient -1.1835167855511e-18\n",
      "symround: Deleted coefficient 4.7149294915523e-23\n",
      "symround: Deleted coefficient 2.6109790599114e-19\n",
      "symround: Deleted coefficient -1.2407709188295e-23\n",
      "symround: Deleted coefficient 1.9005301754018e-19\n",
      "symround: Deleted coefficient 1.2742028019202e-22\n",
      "symround: Deleted coefficient -5.8625267861838e-19\n",
      "symround: Deleted coefficient 1.4992648602524e-22\n",
      "symround: Deleted coefficient -5.1318285202790e-19\n",
      "symround: Deleted coefficient -3.8601761919141e-24\n",
      "symround: Deleted coefficient -6.7828810229348e-23\n",
      "symround: Deleted coefficient 1.8761779781683e-19\n",
      "symround: Deleted coefficient 4.8307347773097e-22\n",
      "symround: Deleted coefficient -1.1018045759206e-21\n",
      "symround: Deleted coefficient -3.9704669402545e-23\n",
      "symround: Deleted coefficient 2.2830184906464e-22\n",
      "symround: Deleted coefficient -5.2939559203394e-22\n",
      "symround: Deleted coefficient 5.2939559203394e-23\n",
      "symround: Deleted coefficient -1.2352563814125e-22\n",
      "symround: Deleted coefficient -2.0238440553063e-18\n",
      "symround: Deleted coefficient -7.9056408410401e-21\n",
      "symround: Deleted coefficient 1.5811281682080e-20\n",
      "symround: Deleted coefficient -3.1622563364161e-20\n",
      "symround: Deleted coefficient -4.3198680309969e-19\n",
      "symround: Deleted coefficient -2.1175823681358e-22\n",
      "symround: Deleted coefficient -8.1484569525864e-19\n",
      "symround: Deleted coefficient -1.0521737391675e-21\n",
      "symround: Deleted coefficient 2.4394548880924e-19\n",
      "symround: Deleted coefficient -5.5586537163563e-22\n",
      "symround: Deleted coefficient -9.3343030787424e-19\n",
      "symround: Deleted coefficient -3.7057691442376e-22\n",
      "symround: Deleted coefficient -2.1717924767600e-18\n",
      "symround: Deleted coefficient -6.5624373896894e-21\n",
      "symround: Deleted coefficient 1.9587636905256e-21\n",
      "symround: Deleted coefficient -2.0679515313826e-25\n",
      "symround: Deleted coefficient 9.6443171374375e-18\n",
      "symround: Deleted coefficient -5.8031683054270e-20\n",
      "symround: Deleted coefficient 2.0679515313826e-25\n",
      "symround: Deleted coefficient -3.3140164061325e-20\n",
      "symround: Deleted coefficient 1.0339757656913e-24\n",
      "symround: Deleted coefficient -1.0217334926255e-20\n",
      "symround: Deleted coefficient 2.4815418376591e-24\n",
      "symround: Deleted coefficient 6.0676489665332e-20\n",
      "symround: Deleted coefficient -1.6543612251061e-24\n",
      "symround: Deleted coefficient -1.0905549195899e-19\n",
      "symround: Deleted coefficient -8.2718061255303e-25\n",
      "symround: Deleted coefficient 2.4815418376591e-24\n",
      "symround: Deleted coefficient -1.6178329292557e-19\n",
      "symround: Deleted coefficient 6.6174449004242e-24\n",
      "symround: Deleted coefficient -2.3574647457761e-23\n",
      "symround: Deleted coefficient 1.2407709188295e-24\n",
      "symround: Deleted coefficient 3.3087224502121e-24\n",
      "symround: Deleted coefficient -9.9261673506363e-24\n",
      "symround: Deleted coefficient -1.9300880959571e-24\n",
      "symround: Deleted coefficient -8.8543177419650e-19\n",
      "symround: Deleted coefficient 4.6322114302970e-23\n",
      "symround: Deleted coefficient -7.4115382884751e-22\n",
      "symround: Deleted coefficient -1.1117307432713e-21\n",
      "symround: Deleted coefficient 1.2352563814125e-21\n",
      "symround: Deleted coefficient -3.3987197008579e-20\n",
      "symround: Deleted coefficient 1.3234889800848e-23\n",
      "symround: Deleted coefficient -2.3730157412921e-19\n",
      "symround: Deleted coefficient -6.9621034889880e-23\n",
      "symround: Deleted coefficient 2.7105054312138e-20\n",
      "symround: Deleted coefficient -3.3087224502121e-24\n",
      "symround: Deleted coefficient -3.1340219048409e-20\n",
      "symround: Deleted coefficient -1.9025154088720e-23\n",
      "symround: Deleted coefficient 1.0249098661777e-19\n",
      "symround: Deleted coefficient -1.0488133179290e-21\n",
      "symround: Deleted coefficient -4.9630836753182e-23\n",
      "symround: Deleted coefficient 4.3283383604695e-19\n",
      "symround: Deleted coefficient -3.7016332411748e-22\n",
      "symround: Deleted coefficient -1.0513465585549e-21\n",
      "symround: Deleted coefficient -7.2791893904666e-22\n",
      "symround: Deleted coefficient -7.7754977579985e-22\n"
     ]
    },
    {
     "name": "stdout",
     "output_type": "stream",
     "text": [
      "symround: Deleted coefficient 1.9885421925775e-21\n",
      "symround: Deleted coefficient -3.3881317890172e-21\n",
      "symround: Deleted coefficient 3.0157626499329e-26\n",
      "symround: Deleted coefficient 6.0315252998658e-26\n",
      "symround: Deleted coefficient 1.5811281682080e-20\n",
      "symround: Deleted coefficient -4.8252202398927e-25\n",
      "symround: Deleted coefficient -1.2063050599732e-24\n",
      "symround: Deleted coefficient 1.7370792863614e-23\n",
      "symround: Deleted coefficient -1.1580528575742e-23\n",
      "symround: Deleted coefficient 1.1580528575742e-23\n",
      "symround: Deleted coefficient 3.8601761919141e-24\n",
      "symround: Deleted coefficient 3.8601761919141e-24\n",
      "symround: Deleted coefficient 5.7902642878712e-24\n",
      "symround: Deleted coefficient -1.3969426184796e-20\n",
      "symround: Deleted coefficient -3.3087224502121e-22\n",
      "symround: Deleted coefficient -5.8591960055839e-25\n",
      "symround: Deleted coefficient 4.2351647362715e-22\n",
      "symround: Deleted coefficient 7.7548182426846e-25\n",
      "symround: Deleted coefficient -1.6543612251061e-20\n",
      "symround: Deleted coefficient 1.3958672836832e-24\n",
      "symround: Deleted coefficient -8.4703294725430e-22\n",
      "symround: Deleted coefficient -6.2038545941477e-25\n",
      "symround: Deleted coefficient -3.1019272970739e-24\n",
      "symround: Deleted coefficient 1.8634724839595e-20\n",
      "symround: Deleted coefficient -7.8582158192538e-23\n",
      "symround: Deleted coefficient 1.3648480107125e-23\n",
      "symround: Deleted coefficient -3.0502285087893e-24\n",
      "symround: Deleted coefficient 2.1093105620102e-23\n",
      "symround: Deleted coefficient -8.6026783705515e-23\n",
      "symround: Deleted coefficient -6.6174449004242e-24\n",
      "symround: Deleted coefficient 6.1762819070626e-23\n",
      "symround: Deleted coefficient 4.9410255256501e-22\n",
      "symround: Deleted coefficient 9.8820510513002e-22\n",
      "symround: Deleted coefficient -2.5410988417629e-20\n",
      "symround: Deleted coefficient 1.3234889800848e-23\n",
      "symround: Deleted coefficient -4.6322114302970e-23\n",
      "symround: Deleted coefficient -4.1028158382630e-22\n",
      "symround: Deleted coefficient -4.4874548231002e-22\n",
      "symround: Deleted coefficient 3.0157626499329e-26\n",
      "symround: Deleted coefficient -8.4703294725430e-22\n",
      "symround: Deleted coefficient 5.1698788284564e-26\n",
      "symround: Deleted coefficient -2.0679515313826e-25\n",
      "symround: Deleted coefficient -4.2384734587217e-21\n",
      "symround: Deleted coefficient -1.0339757656913e-24\n",
      "symround: Deleted coefficient 8.2718061255303e-25\n",
      "symround: Deleted coefficient -4.1359030627651e-25\n",
      "symround: Deleted coefficient -8.2718061255303e-25\n",
      "symround: Deleted coefficient 5.7902642878712e-24\n",
      "symround: Deleted coefficient -7.7203523838283e-24\n",
      "symround: Deleted coefficient -2.7210933430544e-20\n",
      "symround: Deleted coefficient 2.4918815953160e-23\n",
      "symround: Deleted coefficient -8.2718061255303e-25\n",
      "symround: Deleted coefficient -5.7902642878712e-24\n",
      "symround: Deleted coefficient 1.1456451483859e-22\n",
      "symround: Deleted coefficient -7.9430018320404e-22\n",
      "symround: Deleted coefficient 1.5078813249665e-26\n",
      "symround: Deleted coefficient -4.3728558424027e-25\n",
      "symround: Deleted coefficient 2.4126101199463e-25\n",
      "symround: Deleted coefficient -1.2063050599732e-25\n",
      "symround: Deleted coefficient -4.8252202398927e-25\n",
      "symround: Deleted coefficient -3.6189151799195e-25\n",
      "symround: Deleted coefficient 3.5006283523244e-21\n",
      "symround: Deleted coefficient -1.2924697071141e-26\n",
      "symround: Deleted coefficient 4.1359030627651e-25\n",
      "symround: Deleted coefficient 8.2718061255303e-25\n",
      "symround: Deleted coefficient 1.0339757656913e-24\n",
      "symround: Deleted coefficient -6.6174449004242e-24\n",
      "symround: Deleted coefficient 1.3234889800848e-23\n",
      "symround: Deleted coefficient -3.0157626499329e-26\n",
      "symround: Deleted coefficient 1.0339757656913e-25\n",
      "symround: Deleted coefficient 7.2378303598390e-25\n"
     ]
    }
   ],
   "source": [
    "a = eff_hamiltonian_tayl[0,0]\n",
    "a = symround(a ,digits = 14)\n",
    "b = eff_hamiltonian_tayl[1,1]\n",
    "b = symround(b,digits = 14)\n",
    "c = eff_hamiltonian_tayl[3,3]\n",
    "c = symround(c,digits = 14)\n",
    "d = eff_hamiltonian_tayl[4,4]\n",
    "d = symround(d,digits = 14)\n",
    "e = eff_hamiltonian_tayl[5,5]\n",
    "e = symround(e,digits = 14)\n",
    "f = eff_hamiltonian_tayl[7,7]\n",
    "f = symround((f),digits = 14)\n",
    "\n",
    "\n",
    "#SUBSTITUTIONS\n",
    "phival = 0 * np.pi \n",
    "R_fval = 1\n",
    "gamma_fval = gamma\n",
    "gamma_gval = gamma\n",
    "\n",
    "\n",
    "#modify abcdef\n",
    "a = (a + conjugate(a)).subs(phi=phival,R_f=R_fval ,gamma_g = gamma_gval , gamma_f = gamma_fval)._mathematica_().Together()._sage_()\n",
    "b = (b + conjugate(b)).subs(phi=phival,R_f=R_fval ,gamma_g = gamma_gval , gamma_f = gamma_fval)._mathematica_().Together()._sage_()\n",
    "c = (c + conjugate(c)).subs(phi=phival,R_f=R_fval ,gamma_g = gamma_gval , gamma_f = gamma_fval)._mathematica_().Together()._sage_()\n",
    "d = (d + conjugate(d)).subs(phi=phival,R_f=R_fval ,gamma_g = gamma_gval , gamma_f = gamma_fval)._mathematica_().Together()._sage_()\n",
    "e = (e + conjugate(e)).subs(phi=phival,R_f=R_fval ,gamma_g = gamma_gval , gamma_f = gamma_fval)._mathematica_().Together()._sage_()\n",
    "f = (f + conjugate(f)).subs(phi=phival,R_f=R_fval ,gamma_g = gamma_gval , gamma_f = gamma_fval)._mathematica_().Together()._sage_()\n",
    "\n",
    "a = symround(a,digits = 14)\n",
    "b = symround(b,digits = 14)\n",
    "c = symround(c,digits = 14)\n",
    "d = symround(d,digits = 14)\n",
    "e = symround(e,digits = 14)\n",
    "f = symround(f,digits = 14)"
   ]
  },
  {
   "cell_type": "code",
   "execution_count": 4,
   "id": "9759d4ba",
   "metadata": {},
   "outputs": [],
   "source": [
    "term_list = [a,b,c,d,e,f]\n",
    "high_c_limit = [  ]\n",
    "\n",
    "for term in term_list:\n",
    "    num = term._mathematica_().Numerator().Collect('C')._sage_().collect(C).operands()[0]\n",
    "    i = 1\n",
    "    while num.has(C)==False:\n",
    "        num = term._mathematica_().Numerator().Collect('C')._sage_().collect(C).operands()[i]\n",
    "        i  = i + 1\n",
    "        print(i)\n",
    "\n",
    "    den= term._mathematica_().Denominator()._sage_().expand()._mathematica_().Collect('C')._sage_().collect(C).operands()[0]\n",
    "    i = 1\n",
    "    while den.has(C)==False:\n",
    "        den = term._mathematica_().Denominator().Collect('C')._sage_().collect(C).operands()[i]\n",
    "        i= i + 1\n",
    "    num = symround(num,digits=14,show_del=False)\n",
    "    den = symround(den,digits=14,show_del=False)\n",
    "    tayl = num/den\n",
    "    if len(high_c_limit)<=5:\n",
    "        tayl = MMA_simplify(tayl,full=True)\n",
    "    high_c_limit.append(tayl)"
   ]
  },
  {
   "cell_type": "code",
   "execution_count": 5,
   "id": "c77fae01",
   "metadata": {},
   "outputs": [],
   "source": [
    "a = high_c_limit[0]\n",
    "b = high_c_limit[1]\n",
    "c = high_c_limit[2]\n",
    "d = high_c_limit[3]\n",
    "e = high_c_limit[4]\n",
    "f = high_c_limit[5]"
   ]
  },
  {
   "cell_type": "code",
   "execution_count": 89,
   "id": "37daa057",
   "metadata": {},
   "outputs": [
    {
     "data": {
      "text/html": [
       "<html><script type=\"math/tex; mode=display\">\\newcommand{\\Bold}[1]{\\mathbf{#1}}\\frac{4 \\, {{{\\Delta E}}^\\gamma} {\\Omega}^{2}}{C^{1.50000000000000} {\\gamma}} \\frac{{\\Omega}^{2}}{\\sqrt{C} {\\left({{{\\Delta E}}^\\gamma} + {{{\\Delta e}}_{{  2}}^\\gamma}\\right)} {\\gamma}} \\frac{2 \\, {\\Omega}^{2}}{{\\left(2 \\, {{{\\Delta E}}^\\gamma} {\\gamma} + {{{\\Delta e}}_{{  2}}^\\gamma} {\\gamma}\\right)} \\sqrt{C}} \\frac{{\\Omega}^{2}}{\\sqrt{C} {\\left({{{\\Delta E}}^\\gamma} + {{{\\Delta e}}_{{  1}}^\\gamma}\\right)} {\\gamma}} \\frac{{\\left({{{\\Delta e}}_{{  1}}^\\gamma} + {{{\\Delta e}}_{{  2}}^\\gamma}\\right)} {\\Omega}^{2}}{{\\left({{{\\Delta E}}^\\gamma} {\\left({{{\\Delta e}}_{{  1}}^\\gamma} + {{{\\Delta e}}_{{  2}}^\\gamma}\\right)} + {{{\\Delta e}}_{{  1}}^\\gamma} {{{\\Delta e}}_{{  2}}^\\gamma}\\right)} \\sqrt{C} {\\gamma}}</script></html>"
      ],
      "text/latex": [
       "$$\\newcommand{\\Bold}[1]{\\mathbf{#1}}\\frac{4 \\, {{{\\Delta E}}^\\gamma} {\\Omega}^{2}}{C^{1.50000000000000} {\\gamma}} \\frac{{\\Omega}^{2}}{\\sqrt{C} {\\left({{{\\Delta E}}^\\gamma} + {{{\\Delta e}}_{{  2}}^\\gamma}\\right)} {\\gamma}} \\frac{2 \\, {\\Omega}^{2}}{{\\left(2 \\, {{{\\Delta E}}^\\gamma} {\\gamma} + {{{\\Delta e}}_{{  2}}^\\gamma} {\\gamma}\\right)} \\sqrt{C}} \\frac{{\\Omega}^{2}}{\\sqrt{C} {\\left({{{\\Delta E}}^\\gamma} + {{{\\Delta e}}_{{  1}}^\\gamma}\\right)} {\\gamma}} \\frac{{\\left({{{\\Delta e}}_{{  1}}^\\gamma} + {{{\\Delta e}}_{{  2}}^\\gamma}\\right)} {\\Omega}^{2}}{{\\left({{{\\Delta E}}^\\gamma} {\\left({{{\\Delta e}}_{{  1}}^\\gamma} + {{{\\Delta e}}_{{  2}}^\\gamma}\\right)} + {{{\\Delta e}}_{{  1}}^\\gamma} {{{\\Delta e}}_{{  2}}^\\gamma}\\right)} \\sqrt{C} {\\gamma}}$$"
      ],
      "text/plain": [
       "4*DEg*Omega^2/(C^1.50000000000000*gamma) Omega^2/(sqrt(C)*(DEg + Deg2)*gamma) 2*Omega^2/((2*DEg*gamma + Deg2*gamma)*sqrt(C)) Omega^2/(sqrt(C)*(DEg + Deg1)*gamma) (Deg1 + Deg2)*Omega^2/((DEg*(Deg1 + Deg2) + Deg1*Deg2)*sqrt(C)*gamma)"
      ]
     },
     "metadata": {},
     "output_type": "display_data"
    }
   ],
   "source": [
    "show(a,b,c,d,e)"
   ]
  },
  {
   "cell_type": "code",
   "execution_count": 90,
   "id": "8aec683b",
   "metadata": {},
   "outputs": [
    {
     "data": {
      "text/html": [
       "<html><script type=\"math/tex; mode=display\">\\newcommand{\\Bold}[1]{\\mathbf{#1}}\\frac{{\\left(-0.50 \\, {{{\\Delta E}}^\\gamma} {{{\\Delta e}}_{{  1}}^\\gamma} - 0.25 \\, {{{\\Delta E}}^\\gamma} {{{\\Delta e}}_{{  2}}^\\gamma} - 0.25 \\, {{{\\Delta e}}_{{  1}}^\\gamma} {{{\\Delta e}}_{{  2}}^\\gamma}\\right)} {{{\\Delta e}}_{{  1}}^\\gamma} {{{\\Delta e}}_{{  2}}^\\gamma} {\\Omega}^{2}}{{\\left({{{\\Delta E}}^\\gamma} {\\left({{{\\Delta e}}_{{  1}}^\\gamma} + 0.50 \\, {{{\\Delta e}}_{{  2}}^\\gamma}\\right)} {{{\\Delta e}}_{{  1}}^\\gamma} {{{\\Delta e}}_{{  2}}^\\gamma} + 0.25 \\, {{{\\Delta e}}_{{  1}}^\\gamma}^{2} {{{\\Delta e}}_{{  2}}^\\gamma}^{2} + {\\left({{{\\Delta e}}_{{  1}}^\\gamma}^{2} + {{{\\Delta e}}_{{  1}}^\\gamma} {{{\\Delta e}}_{{  2}}^\\gamma} + 0.25 \\, {{{\\Delta e}}_{{  2}}^\\gamma}^{2}\\right)} {{{\\Delta E}}^\\gamma}^{2}\\right)} \\sqrt{C} {{{\\Delta E}}^\\gamma} {\\gamma}}</script></html>"
      ],
      "text/latex": [
       "$$\\newcommand{\\Bold}[1]{\\mathbf{#1}}\\frac{{\\left(-0.50 \\, {{{\\Delta E}}^\\gamma} {{{\\Delta e}}_{{  1}}^\\gamma} - 0.25 \\, {{{\\Delta E}}^\\gamma} {{{\\Delta e}}_{{  2}}^\\gamma} - 0.25 \\, {{{\\Delta e}}_{{  1}}^\\gamma} {{{\\Delta e}}_{{  2}}^\\gamma}\\right)} {{{\\Delta e}}_{{  1}}^\\gamma} {{{\\Delta e}}_{{  2}}^\\gamma} {\\Omega}^{2}}{{\\left({{{\\Delta E}}^\\gamma} {\\left({{{\\Delta e}}_{{  1}}^\\gamma} + 0.50 \\, {{{\\Delta e}}_{{  2}}^\\gamma}\\right)} {{{\\Delta e}}_{{  1}}^\\gamma} {{{\\Delta e}}_{{  2}}^\\gamma} + 0.25 \\, {{{\\Delta e}}_{{  1}}^\\gamma}^{2} {{{\\Delta e}}_{{  2}}^\\gamma}^{2} + {\\left({{{\\Delta e}}_{{  1}}^\\gamma}^{2} + {{{\\Delta e}}_{{  1}}^\\gamma} {{{\\Delta e}}_{{  2}}^\\gamma} + 0.25 \\, {{{\\Delta e}}_{{  2}}^\\gamma}^{2}\\right)} {{{\\Delta E}}^\\gamma}^{2}\\right)} \\sqrt{C} {{{\\Delta E}}^\\gamma} {\\gamma}}$$"
      ],
      "text/plain": [
       "(-0.50*DEg*Deg1 - 0.25*DEg*Deg2 - 0.25*Deg1*Deg2)*Deg1*Deg2*Omega^2/((DEg*(Deg1 + 0.50*Deg2)*Deg1*Deg2 + 0.25*Deg1^2*Deg2^2 + (Deg1^2 + Deg1*Deg2 + 0.25*Deg2^2)*DEg^2)*sqrt(C)*DEg*gamma)"
      ]
     },
     "metadata": {},
     "output_type": "display_data"
    }
   ],
   "source": [
    "show(symround(f))"
   ]
  },
  {
   "cell_type": "code",
   "execution_count": 91,
   "id": "d202ebf1",
   "metadata": {},
   "outputs": [
    {
     "data": {
      "text/html": [
       "<html><script type=\"math/tex; mode=display\">\\newcommand{\\Bold}[1]{\\mathbf{#1}}-\\frac{0.25 \\, {\\Omega}^{2}}{\\sqrt{C}}</script></html>"
      ],
      "text/latex": [
       "$$\\newcommand{\\Bold}[1]{\\mathbf{#1}}-\\frac{0.25 \\, {\\Omega}^{2}}{\\sqrt{C}}$$"
      ],
      "text/plain": [
       "-0.25*Omega^2/sqrt(C)"
      ]
     },
     "metadata": {},
     "output_type": "display_data"
    }
   ],
   "source": [
    "q = symround(f.subs(Deg1=DEg,Deg2=DEg),show_del=False).subs(DEg=1)\n",
    "qn = symround(q._mathematica_().Numerator().Collect('C')._sage_(),show_del=False)\n",
    "qd = symround(q._mathematica_().Denominator().Collect('C')._sage_(),show_del=False)\n",
    "show(qn)"
   ]
  },
  {
   "cell_type": "code",
   "execution_count": 73,
   "id": "85db1fd0",
   "metadata": {},
   "outputs": [
    {
     "data": {
      "text/html": [
       "<html><script type=\"math/tex; mode=display\">\\newcommand{\\Bold}[1]{\\mathbf{#1}}28. \\, C^{21} {\\gamma} + 248 \\, C^{20} {\\gamma} + 3.5i \\, C^{20.} {\\gamma} + 976 \\, C^{19} {\\gamma} + 17 i \\, C^{18.} {\\gamma} + 2272 \\, C^{18} {\\gamma} - 20 i \\, C^{18.} {\\gamma} + 3584 \\, C^{17} {\\gamma} + 14 i \\, C^{16.} {\\gamma} + 3936 \\, C^{16} {\\gamma} - 3.5i \\, C^{16.} {\\gamma} + 3168 \\, C^{15} {\\gamma} - 19 i \\, C^{14.} {\\gamma} + 1888 \\, C^{14} {\\gamma} + 3.8i \\, C^{14.} {\\gamma} + 872 \\, C^{13} {\\gamma} + 1.3i \\, C^{12.} {\\gamma} + 304 \\, C^{12} {\\gamma} - 0.031i \\, C^{12.} {\\gamma} + 82 \\, C^{11} {\\gamma} + 0.072i \\, C^{10.} {\\gamma} + 17. \\, C^{10} {\\gamma} + 0.0078i \\, C^{9.5} {\\gamma} + 2.8 \\, C^{9} {\\gamma} + 0.00012i \\, C^{8.5} {\\gamma} + 0.36 \\, C^{8} {\\gamma} + 0.00031i \\, C^{7.5} {\\gamma} + 0.035 \\, C^{7} {\\gamma} - 0.000014i \\, C^{6.5} {\\gamma} + 0.0027 \\, C^{6} {\\gamma} + \\left(1.8 \\times 10^{-6}i\\right) \\, C^{5.5} {\\gamma} + 0.00016 \\, C^{5} {\\gamma} + \\left(1.5 \\times 10^{-8}i\\right) \\, C^{4.5} {\\gamma} + \\left(7.0 \\times 10^{-6}\\right) \\, C^{4} {\\gamma} + \\left(2.4 \\times 10^{-9}i\\right) \\, C^{3.5} {\\gamma} + \\left(2.3 \\times 10^{-7}\\right) \\, C^{3} {\\gamma} - \\left(1.8 \\times 10^{-11}i\\right) \\, C^{2.5} {\\gamma} + \\left(4.9 \\times 10^{-9}\\right) \\, C^{2} {\\gamma} + \\left(6.5 \\times 10^{-11}\\right) \\, C {\\gamma}</script></html>"
      ],
      "text/latex": [
       "$$\\newcommand{\\Bold}[1]{\\mathbf{#1}}28. \\, C^{21} {\\gamma} + 248 \\, C^{20} {\\gamma} + 3.5i \\, C^{20.} {\\gamma} + 976 \\, C^{19} {\\gamma} + 17 i \\, C^{18.} {\\gamma} + 2272 \\, C^{18} {\\gamma} - 20 i \\, C^{18.} {\\gamma} + 3584 \\, C^{17} {\\gamma} + 14 i \\, C^{16.} {\\gamma} + 3936 \\, C^{16} {\\gamma} - 3.5i \\, C^{16.} {\\gamma} + 3168 \\, C^{15} {\\gamma} - 19 i \\, C^{14.} {\\gamma} + 1888 \\, C^{14} {\\gamma} + 3.8i \\, C^{14.} {\\gamma} + 872 \\, C^{13} {\\gamma} + 1.3i \\, C^{12.} {\\gamma} + 304 \\, C^{12} {\\gamma} - 0.031i \\, C^{12.} {\\gamma} + 82 \\, C^{11} {\\gamma} + 0.072i \\, C^{10.} {\\gamma} + 17. \\, C^{10} {\\gamma} + 0.0078i \\, C^{9.5} {\\gamma} + 2.8 \\, C^{9} {\\gamma} + 0.00012i \\, C^{8.5} {\\gamma} + 0.36 \\, C^{8} {\\gamma} + 0.00031i \\, C^{7.5} {\\gamma} + 0.035 \\, C^{7} {\\gamma} - 0.000014i \\, C^{6.5} {\\gamma} + 0.0027 \\, C^{6} {\\gamma} + \\left(1.8 \\times 10^{-6}i\\right) \\, C^{5.5} {\\gamma} + 0.00016 \\, C^{5} {\\gamma} + \\left(1.5 \\times 10^{-8}i\\right) \\, C^{4.5} {\\gamma} + \\left(7.0 \\times 10^{-6}\\right) \\, C^{4} {\\gamma} + \\left(2.4 \\times 10^{-9}i\\right) \\, C^{3.5} {\\gamma} + \\left(2.3 \\times 10^{-7}\\right) \\, C^{3} {\\gamma} - \\left(1.8 \\times 10^{-11}i\\right) \\, C^{2.5} {\\gamma} + \\left(4.9 \\times 10^{-9}\\right) \\, C^{2} {\\gamma} + \\left(6.5 \\times 10^{-11}\\right) \\, C {\\gamma}$$"
      ],
      "text/plain": [
       "28.*C^21*gamma + 248*C^20*gamma + 3.5*I*C^20.*gamma + 976*C^19*gamma + 17*I*C^18.*gamma + 2272*C^18*gamma - 20*I*C^18.*gamma + 3584*C^17*gamma + 14*I*C^16.*gamma + 3936*C^16*gamma - 3.5*I*C^16.*gamma + 3168*C^15*gamma - 19*I*C^14.*gamma + 1888*C^14*gamma + 3.8*I*C^14.*gamma + 872*C^13*gamma + 1.3*I*C^12.*gamma + 304*C^12*gamma - 0.031*I*C^12.*gamma + 82*C^11*gamma + 0.072*I*C^10.*gamma + 17.*C^10*gamma + 0.0078*I*C^9.5*gamma + 2.8*C^9*gamma + 0.00012*I*C^8.5*gamma + 0.36*C^8*gamma + 0.00031*I*C^7.5*gamma + 0.035*C^7*gamma - 0.000014*I*C^6.5*gamma + 0.0027*C^6*gamma + (1.8e-6*I)*C^5.5*gamma + 0.00016*C^5*gamma + (1.5e-8*I)*C^4.5*gamma + (7.0e-6)*C^4*gamma + (2.4e-9*I)*C^3.5*gamma + (2.3e-7)*C^3*gamma - (1.8e-11*I)*C^2.5*gamma + (4.9e-9)*C^2*gamma + (6.5e-11)*C*gamma"
      ]
     },
     "metadata": {},
     "output_type": "display_data"
    }
   ],
   "source": [
    "show(symround(qd.subs(DEg=1).expand()._mathematica_().Collect('C')._sage_(),show_del=False))"
   ]
  },
  {
   "cell_type": "markdown",
   "id": "572020dd",
   "metadata": {},
   "source": [
    "# $t_g$ calculation"
   ]
  },
  {
   "cell_type": "code",
   "execution_count": 6,
   "id": "c6e60c7d",
   "metadata": {},
   "outputs": [
    {
     "name": "stdout",
     "output_type": "stream",
     "text": [
      "Finished!\n"
     ]
    }
   ],
   "source": [
    "t_den = ( e - b - d)._mathematica_().Together()._sage_() # a omitted due to scalings\n",
    "\n",
    "ttden = symround(t_den, show_del=True,digits=14  )\n",
    "numnum = 0\n",
    "dennum = 0\n",
    "'''\n",
    "while True:\n",
    "    print(f'numnum={numnum}  ,  dennum={dennum}')\n",
    "    num = ttden._mathematica_().Numerator().Collect('C')._sage_().operands()[numnum]\n",
    "    den = ttden._mathematica_().Denominator().Collect('C')._sage_().operands()[dennum]\n",
    "    tayl = num/den\n",
    "    taylsimp = MMA_simplify(tayl,full=True)\n",
    "    retaylsimp = taylsimp  #(taylsimp+conjugate(taylsimp))   #/2\n",
    "    taylf = retaylsimp._mathematica_().Together()._sage_()\n",
    "    taylf = symround(taylf,digits=14)\n",
    "    if str(taylf) == str(0):\n",
    "        numnum += 1\n",
    "    else:\n",
    "        break\n",
    "'''\n",
    "        \n",
    "print('Finished!')\n",
    "\n",
    "tg = np.pi / ttden"
   ]
  },
  {
   "cell_type": "code",
   "execution_count": 7,
   "id": "0f85eafd",
   "metadata": {},
   "outputs": [
    {
     "data": {
      "text/html": [
       "<html><script type=\"math/tex; mode=display\">\\newcommand{\\Bold}[1]{\\mathbf{#1}}-\\frac{3.2 \\, {\\left({{{\\Delta E}}^\\gamma} {\\left({{{\\Delta e}}_{{  1}}^\\gamma} + {{{\\Delta e}}_{{  2}}^\\gamma}\\right)} + {{{\\Delta e}}_{{  1}}^\\gamma} {{{\\Delta e}}_{{  2}}^\\gamma}\\right)} \\sqrt{C} {\\left({{{\\Delta E}}^\\gamma} + {{{\\Delta e}}_{{  1}}^\\gamma}\\right)} {\\left({{{\\Delta E}}^\\gamma} + {{{\\Delta e}}_{{  2}}^\\gamma}\\right)} {\\gamma}}{{\\left({{{\\Delta E}}^\\gamma} {\\left({{{\\Delta e}}_{{  1}}^\\gamma} + {{{\\Delta e}}_{{  2}}^\\gamma}\\right)} + 2 \\, {{{\\Delta e}}_{{  1}}^\\gamma} {{{\\Delta e}}_{{  2}}^\\gamma}\\right)} {{{\\Delta E}}^\\gamma} {\\Omega}^{2}}</script></html>"
      ],
      "text/latex": [
       "$$\\newcommand{\\Bold}[1]{\\mathbf{#1}}-\\frac{3.2 \\, {\\left({{{\\Delta E}}^\\gamma} {\\left({{{\\Delta e}}_{{  1}}^\\gamma} + {{{\\Delta e}}_{{  2}}^\\gamma}\\right)} + {{{\\Delta e}}_{{  1}}^\\gamma} {{{\\Delta e}}_{{  2}}^\\gamma}\\right)} \\sqrt{C} {\\left({{{\\Delta E}}^\\gamma} + {{{\\Delta e}}_{{  1}}^\\gamma}\\right)} {\\left({{{\\Delta E}}^\\gamma} + {{{\\Delta e}}_{{  2}}^\\gamma}\\right)} {\\gamma}}{{\\left({{{\\Delta E}}^\\gamma} {\\left({{{\\Delta e}}_{{  1}}^\\gamma} + {{{\\Delta e}}_{{  2}}^\\gamma}\\right)} + 2 \\, {{{\\Delta e}}_{{  1}}^\\gamma} {{{\\Delta e}}_{{  2}}^\\gamma}\\right)} {{{\\Delta E}}^\\gamma} {\\Omega}^{2}}$$"
      ],
      "text/plain": [
       "-3.2*(DEg*(Deg1 + Deg2) + Deg1*Deg2)*sqrt(C)*(DEg + Deg1)*(DEg + Deg2)*gamma/((DEg*(Deg1 + Deg2) + 2*Deg1*Deg2)*DEg*Omega^2)"
      ]
     },
     "metadata": {},
     "output_type": "display_data"
    }
   ],
   "source": [
    "show(symround(MMA_simplify(tg,full=True).subs()))"
   ]
  },
  {
   "cell_type": "markdown",
   "id": "a9657e46",
   "metadata": {},
   "source": [
    "# condition 1 calculation"
   ]
  },
  {
   "cell_type": "code",
   "execution_count": 8,
   "id": "4f15aeb3",
   "metadata": {},
   "outputs": [
    {
     "name": "stdout",
     "output_type": "stream",
     "text": [
      "Finished!\n"
     ]
    }
   ],
   "source": [
    "t_den = ( c - 2*b )._mathematica_().Together()._sage_() # a omitted due to scalings\n",
    "\n",
    "\n",
    "ttden = symround(t_den, show_del=True,digits=14  )\n",
    "\n",
    "print('Finished!')\n",
    "\n",
    "cond1 = tg*ttden"
   ]
  },
  {
   "cell_type": "code",
   "execution_count": 9,
   "id": "1a7d14d9",
   "metadata": {},
   "outputs": [
    {
     "data": {
      "text/html": [
       "<html><script type=\"math/tex; mode=display\">\\newcommand{\\Bold}[1]{\\mathbf{#1}}\\frac{{\\left({{{\\Delta E}}^\\gamma} {\\left({{{\\Delta e}}_{{  1}}^\\gamma} + {{{\\Delta e}}_{{  2}}^\\gamma}\\right)} + {{{\\Delta e}}_{{  1}}^\\gamma} {{{\\Delta e}}_{{  2}}^\\gamma}\\right)} {\\left(6.2832 \\, {{{\\Delta E}}^\\gamma} + 6.2832 \\, {{{\\Delta e}}_{{  1}}^\\gamma}\\right)}}{{\\left({{{\\Delta E}}^\\gamma} {\\left({{{\\Delta e}}_{{  1}}^\\gamma} + {{{\\Delta e}}_{{  2}}^\\gamma}\\right)} + 2 \\, {{{\\Delta e}}_{{  1}}^\\gamma} {{{\\Delta e}}_{{  2}}^\\gamma}\\right)} {\\left(2 \\, {{{\\Delta E}}^\\gamma} + {{{\\Delta e}}_{{  2}}^\\gamma}\\right)}}</script></html>"
      ],
      "text/latex": [
       "$$\\newcommand{\\Bold}[1]{\\mathbf{#1}}\\frac{{\\left({{{\\Delta E}}^\\gamma} {\\left({{{\\Delta e}}_{{  1}}^\\gamma} + {{{\\Delta e}}_{{  2}}^\\gamma}\\right)} + {{{\\Delta e}}_{{  1}}^\\gamma} {{{\\Delta e}}_{{  2}}^\\gamma}\\right)} {\\left(6.2832 \\, {{{\\Delta E}}^\\gamma} + 6.2832 \\, {{{\\Delta e}}_{{  1}}^\\gamma}\\right)}}{{\\left({{{\\Delta E}}^\\gamma} {\\left({{{\\Delta e}}_{{  1}}^\\gamma} + {{{\\Delta e}}_{{  2}}^\\gamma}\\right)} + 2 \\, {{{\\Delta e}}_{{  1}}^\\gamma} {{{\\Delta e}}_{{  2}}^\\gamma}\\right)} {\\left(2 \\, {{{\\Delta E}}^\\gamma} + {{{\\Delta e}}_{{  2}}^\\gamma}\\right)}}$$"
      ],
      "text/plain": [
       "(DEg*(Deg1 + Deg2) + Deg1*Deg2)*(6.2832*DEg + 6.2832*Deg1)/((DEg*(Deg1 + Deg2) + 2*Deg1*Deg2)*(2*DEg + Deg2))"
      ]
     },
     "metadata": {},
     "output_type": "display_data"
    }
   ],
   "source": [
    "show(symround(MMA_simplify(cond1,full= True).subs(),digits =5))"
   ]
  },
  {
   "cell_type": "markdown",
   "id": "ca1b0c86",
   "metadata": {},
   "source": [
    "# condition 2 calculation"
   ]
  },
  {
   "cell_type": "code",
   "execution_count": 10,
   "id": "f335995a",
   "metadata": {},
   "outputs": [
    {
     "data": {
      "text/html": [
       "<html><script type=\"math/tex; mode=display\">\\newcommand{\\Bold}[1]{\\mathbf{#1}}-\\frac{3 \\, {{{\\Delta E}}^\\gamma}^{4} {{{\\Delta e}}_{{  1}}^\\gamma}^{2} {\\Omega}^{2} + 2 \\, {{{\\Delta E}}^\\gamma}^{3} {{{\\Delta e}}_{{  1}}^\\gamma}^{3} {\\Omega}^{2} + 3 \\, {{{\\Delta E}}^\\gamma}^{4} {{{\\Delta e}}_{{  1}}^\\gamma} {{{\\Delta e}}_{{  2}}^\\gamma} {\\Omega}^{2} + 6.5 \\, {{{\\Delta E}}^\\gamma}^{3} {{{\\Delta e}}_{{  1}}^\\gamma}^{2} {{{\\Delta e}}_{{  2}}^\\gamma} {\\Omega}^{2} + 2.5 \\, {{{\\Delta E}}^\\gamma}^{2} {{{\\Delta e}}_{{  1}}^\\gamma}^{3} {{{\\Delta e}}_{{  2}}^\\gamma} {\\Omega}^{2} + 0.75 \\, {{{\\Delta E}}^\\gamma}^{4} {{{\\Delta e}}_{{  2}}^\\gamma}^{2} {\\Omega}^{2} + 3.2 \\, {{{\\Delta E}}^\\gamma}^{3} {{{\\Delta e}}_{{  1}}^\\gamma} {{{\\Delta e}}_{{  2}}^\\gamma}^{2} {\\Omega}^{2} + 3.8 \\, {{{\\Delta E}}^\\gamma}^{2} {{{\\Delta e}}_{{  1}}^\\gamma}^{2} {{{\\Delta e}}_{{  2}}^\\gamma}^{2} {\\Omega}^{2} + 1.2 \\, {{{\\Delta E}}^\\gamma} {{{\\Delta e}}_{{  1}}^\\gamma}^{3} {{{\\Delta e}}_{{  2}}^\\gamma}^{2} {\\Omega}^{2} + 0.25 \\, {{{\\Delta E}}^\\gamma}^{3} {{{\\Delta e}}_{{  2}}^\\gamma}^{3} {\\Omega}^{2} + 0.75 \\, {{{\\Delta E}}^\\gamma}^{2} {{{\\Delta e}}_{{  1}}^\\gamma} {{{\\Delta e}}_{{  2}}^\\gamma}^{3} {\\Omega}^{2} + 0.75 \\, {{{\\Delta E}}^\\gamma} {{{\\Delta e}}_{{  1}}^\\gamma}^{2} {{{\\Delta e}}_{{  2}}^\\gamma}^{3} {\\Omega}^{2} + 0.25 \\, {{{\\Delta e}}_{{  1}}^\\gamma}^{3} {{{\\Delta e}}_{{  2}}^\\gamma}^{3} {\\Omega}^{2}}{{\\left({{{\\Delta E}}^\\gamma}^{2} {{{\\Delta e}}_{{  1}}^\\gamma}^{2} + {{{\\Delta E}}^\\gamma}^{2} {{{\\Delta e}}_{{  1}}^\\gamma} {{{\\Delta e}}_{{  2}}^\\gamma} + {{{\\Delta E}}^\\gamma} {{{\\Delta e}}_{{  1}}^\\gamma}^{2} {{{\\Delta e}}_{{  2}}^\\gamma} + 0.25 \\, {{{\\Delta E}}^\\gamma}^{2} {{{\\Delta e}}_{{  2}}^\\gamma}^{2} + 0.50 \\, {{{\\Delta E}}^\\gamma} {{{\\Delta e}}_{{  1}}^\\gamma} {{{\\Delta e}}_{{  2}}^\\gamma}^{2} + 0.25 \\, {{{\\Delta e}}_{{  1}}^\\gamma}^{2} {{{\\Delta e}}_{{  2}}^\\gamma}^{2}\\right)} \\sqrt{C} {\\left({{{\\Delta E}}^\\gamma} + {{{\\Delta e}}_{{  1}}^\\gamma}\\right)} {\\left({{{\\Delta E}}^\\gamma} + {{{\\Delta e}}_{{  2}}^\\gamma}\\right)} {{{\\Delta E}}^\\gamma} {\\gamma}}</script></html>"
      ],
      "text/latex": [
       "$$\\newcommand{\\Bold}[1]{\\mathbf{#1}}-\\frac{3 \\, {{{\\Delta E}}^\\gamma}^{4} {{{\\Delta e}}_{{  1}}^\\gamma}^{2} {\\Omega}^{2} + 2 \\, {{{\\Delta E}}^\\gamma}^{3} {{{\\Delta e}}_{{  1}}^\\gamma}^{3} {\\Omega}^{2} + 3 \\, {{{\\Delta E}}^\\gamma}^{4} {{{\\Delta e}}_{{  1}}^\\gamma} {{{\\Delta e}}_{{  2}}^\\gamma} {\\Omega}^{2} + 6.5 \\, {{{\\Delta E}}^\\gamma}^{3} {{{\\Delta e}}_{{  1}}^\\gamma}^{2} {{{\\Delta e}}_{{  2}}^\\gamma} {\\Omega}^{2} + 2.5 \\, {{{\\Delta E}}^\\gamma}^{2} {{{\\Delta e}}_{{  1}}^\\gamma}^{3} {{{\\Delta e}}_{{  2}}^\\gamma} {\\Omega}^{2} + 0.75 \\, {{{\\Delta E}}^\\gamma}^{4} {{{\\Delta e}}_{{  2}}^\\gamma}^{2} {\\Omega}^{2} + 3.2 \\, {{{\\Delta E}}^\\gamma}^{3} {{{\\Delta e}}_{{  1}}^\\gamma} {{{\\Delta e}}_{{  2}}^\\gamma}^{2} {\\Omega}^{2} + 3.8 \\, {{{\\Delta E}}^\\gamma}^{2} {{{\\Delta e}}_{{  1}}^\\gamma}^{2} {{{\\Delta e}}_{{  2}}^\\gamma}^{2} {\\Omega}^{2} + 1.2 \\, {{{\\Delta E}}^\\gamma} {{{\\Delta e}}_{{  1}}^\\gamma}^{3} {{{\\Delta e}}_{{  2}}^\\gamma}^{2} {\\Omega}^{2} + 0.25 \\, {{{\\Delta E}}^\\gamma}^{3} {{{\\Delta e}}_{{  2}}^\\gamma}^{3} {\\Omega}^{2} + 0.75 \\, {{{\\Delta E}}^\\gamma}^{2} {{{\\Delta e}}_{{  1}}^\\gamma} {{{\\Delta e}}_{{  2}}^\\gamma}^{3} {\\Omega}^{2} + 0.75 \\, {{{\\Delta E}}^\\gamma} {{{\\Delta e}}_{{  1}}^\\gamma}^{2} {{{\\Delta e}}_{{  2}}^\\gamma}^{3} {\\Omega}^{2} + 0.25 \\, {{{\\Delta e}}_{{  1}}^\\gamma}^{3} {{{\\Delta e}}_{{  2}}^\\gamma}^{3} {\\Omega}^{2}}{{\\left({{{\\Delta E}}^\\gamma}^{2} {{{\\Delta e}}_{{  1}}^\\gamma}^{2} + {{{\\Delta E}}^\\gamma}^{2} {{{\\Delta e}}_{{  1}}^\\gamma} {{{\\Delta e}}_{{  2}}^\\gamma} + {{{\\Delta E}}^\\gamma} {{{\\Delta e}}_{{  1}}^\\gamma}^{2} {{{\\Delta e}}_{{  2}}^\\gamma} + 0.25 \\, {{{\\Delta E}}^\\gamma}^{2} {{{\\Delta e}}_{{  2}}^\\gamma}^{2} + 0.50 \\, {{{\\Delta E}}^\\gamma} {{{\\Delta e}}_{{  1}}^\\gamma} {{{\\Delta e}}_{{  2}}^\\gamma}^{2} + 0.25 \\, {{{\\Delta e}}_{{  1}}^\\gamma}^{2} {{{\\Delta e}}_{{  2}}^\\gamma}^{2}\\right)} \\sqrt{C} {\\left({{{\\Delta E}}^\\gamma} + {{{\\Delta e}}_{{  1}}^\\gamma}\\right)} {\\left({{{\\Delta E}}^\\gamma} + {{{\\Delta e}}_{{  2}}^\\gamma}\\right)} {{{\\Delta E}}^\\gamma} {\\gamma}}$$"
      ],
      "text/plain": [
       "-(3*DEg^4*Deg1^2*Omega^2 + 2*DEg^3*Deg1^3*Omega^2 + 3*DEg^4*Deg1*Deg2*Omega^2 + 6.5*DEg^3*Deg1^2*Deg2*Omega^2 + 2.5*DEg^2*Deg1^3*Deg2*Omega^2 + 0.75*DEg^4*Deg2^2*Omega^2 + 3.2*DEg^3*Deg1*Deg2^2*Omega^2 + 3.8*DEg^2*Deg1^2*Deg2^2*Omega^2 + 1.2*DEg*Deg1^3*Deg2^2*Omega^2 + 0.25*DEg^3*Deg2^3*Omega^2 + 0.75*DEg^2*Deg1*Deg2^3*Omega^2 + 0.75*DEg*Deg1^2*Deg2^3*Omega^2 + 0.25*Deg1^3*Deg2^3*Omega^2)/((DEg^2*Deg1^2 + DEg^2*Deg1*Deg2 + DEg*Deg1^2*Deg2 + 0.25*DEg^2*Deg2^2 + 0.50*DEg*Deg1*Deg2^2 + 0.25*Deg1^2*Deg2^2)*sqrt(C)*(DEg + Deg1)*(DEg + Deg2)*DEg*gamma)"
      ]
     },
     "metadata": {},
     "output_type": "display_data"
    }
   ],
   "source": [
    "# f added\n",
    "t_den = ( - 2*b -d + f )._mathematica_().Together()._sage_() # a omitted due to scalings\n",
    "\n",
    "ttden = symround(t_den, show_del=True,digits=14 )\n",
    "\n",
    "taylnf = ttden\n",
    "show(symround(taylnf,show_del=False))\n",
    "\n",
    "cond2 = taylnf*tg\n",
    "cond2 = MMA_simplify(cond2,full=not True)"
   ]
  },
  {
   "cell_type": "code",
   "execution_count": 11,
   "id": "3d4c0ac3",
   "metadata": {},
   "outputs": [
    {
     "data": {
      "text/html": [
       "<html><script type=\"math/tex; mode=display\">\\newcommand{\\Bold}[1]{\\mathbf{#1}}\\frac{{\\left({{{\\Delta E}}^\\gamma} {{{\\Delta e}}_{{  1}}^\\gamma}^{2} {\\left(0.42 \\, {{{\\Delta e}}_{{  1}}^\\gamma} + 0.25 \\, {{{\\Delta e}}_{{  2}}^\\gamma}\\right)} {{{\\Delta e}}_{{  2}}^\\gamma}^{2} + 0.083 \\, {{{\\Delta e}}_{{  1}}^\\gamma}^{3} {{{\\Delta e}}_{{  2}}^\\gamma}^{3} + {\\left({{{\\Delta e}}_{{  1}}^\\gamma}^{2} + {{{\\Delta e}}_{{  1}}^\\gamma} {{{\\Delta e}}_{{  2}}^\\gamma} + 0.25 \\, {{{\\Delta e}}_{{  2}}^\\gamma}^{2}\\right)} {{{\\Delta E}}^\\gamma}^{4} + {\\left(0.84 \\, {{{\\Delta e}}_{{  1}}^\\gamma}^{2} + 1.2 \\, {{{\\Delta e}}_{{  1}}^\\gamma} {{{\\Delta e}}_{{  2}}^\\gamma} + 0.25 \\, {{{\\Delta e}}_{{  2}}^\\gamma}^{2}\\right)} {{{\\Delta E}}^\\gamma}^{2} {{{\\Delta e}}_{{  1}}^\\gamma} {{{\\Delta e}}_{{  2}}^\\gamma} + {\\left(0.66 \\, {{{\\Delta e}}_{{  1}}^\\gamma}^{3} + 2.2 \\, {{{\\Delta e}}_{{  1}}^\\gamma}^{2} {{{\\Delta e}}_{{  2}}^\\gamma} + 1.1 \\, {{{\\Delta e}}_{{  1}}^\\gamma} {{{\\Delta e}}_{{  2}}^\\gamma}^{2} + 0.083 \\, {{{\\Delta e}}_{{  2}}^\\gamma}^{3}\\right)} {{{\\Delta E}}^\\gamma}^{3}\\right)} {\\left(9.4 \\, {{{\\Delta E}}^\\gamma} {\\left({{{\\Delta e}}_{{  1}}^\\gamma} + {{{\\Delta e}}_{{  2}}^\\gamma}\\right)} + 9.4 \\, {{{\\Delta e}}_{{  1}}^\\gamma} {{{\\Delta e}}_{{  2}}^\\gamma}\\right)}}{{\\left({{{\\Delta E}}^\\gamma} {\\left({{{\\Delta e}}_{{  1}}^\\gamma} + 0.50 \\, {{{\\Delta e}}_{{  2}}^\\gamma}\\right)} {{{\\Delta e}}_{{  1}}^\\gamma} {{{\\Delta e}}_{{  2}}^\\gamma} + 0.25 \\, {{{\\Delta e}}_{{  1}}^\\gamma}^{2} {{{\\Delta e}}_{{  2}}^\\gamma}^{2} + {\\left({{{\\Delta e}}_{{  1}}^\\gamma}^{2} + {{{\\Delta e}}_{{  1}}^\\gamma} {{{\\Delta e}}_{{  2}}^\\gamma} + 0.25 \\, {{{\\Delta e}}_{{  2}}^\\gamma}^{2}\\right)} {{{\\Delta E}}^\\gamma}^{2}\\right)} {\\left({{{\\Delta E}}^\\gamma} {\\left({{{\\Delta e}}_{{  1}}^\\gamma} + {{{\\Delta e}}_{{  2}}^\\gamma}\\right)} + 2 \\, {{{\\Delta e}}_{{  1}}^\\gamma} {{{\\Delta e}}_{{  2}}^\\gamma}\\right)} {{{\\Delta E}}^\\gamma}^{2}}</script></html>"
      ],
      "text/latex": [
       "$$\\newcommand{\\Bold}[1]{\\mathbf{#1}}\\frac{{\\left({{{\\Delta E}}^\\gamma} {{{\\Delta e}}_{{  1}}^\\gamma}^{2} {\\left(0.42 \\, {{{\\Delta e}}_{{  1}}^\\gamma} + 0.25 \\, {{{\\Delta e}}_{{  2}}^\\gamma}\\right)} {{{\\Delta e}}_{{  2}}^\\gamma}^{2} + 0.083 \\, {{{\\Delta e}}_{{  1}}^\\gamma}^{3} {{{\\Delta e}}_{{  2}}^\\gamma}^{3} + {\\left({{{\\Delta e}}_{{  1}}^\\gamma}^{2} + {{{\\Delta e}}_{{  1}}^\\gamma} {{{\\Delta e}}_{{  2}}^\\gamma} + 0.25 \\, {{{\\Delta e}}_{{  2}}^\\gamma}^{2}\\right)} {{{\\Delta E}}^\\gamma}^{4} + {\\left(0.84 \\, {{{\\Delta e}}_{{  1}}^\\gamma}^{2} + 1.2 \\, {{{\\Delta e}}_{{  1}}^\\gamma} {{{\\Delta e}}_{{  2}}^\\gamma} + 0.25 \\, {{{\\Delta e}}_{{  2}}^\\gamma}^{2}\\right)} {{{\\Delta E}}^\\gamma}^{2} {{{\\Delta e}}_{{  1}}^\\gamma} {{{\\Delta e}}_{{  2}}^\\gamma} + {\\left(0.66 \\, {{{\\Delta e}}_{{  1}}^\\gamma}^{3} + 2.2 \\, {{{\\Delta e}}_{{  1}}^\\gamma}^{2} {{{\\Delta e}}_{{  2}}^\\gamma} + 1.1 \\, {{{\\Delta e}}_{{  1}}^\\gamma} {{{\\Delta e}}_{{  2}}^\\gamma}^{2} + 0.083 \\, {{{\\Delta e}}_{{  2}}^\\gamma}^{3}\\right)} {{{\\Delta E}}^\\gamma}^{3}\\right)} {\\left(9.4 \\, {{{\\Delta E}}^\\gamma} {\\left({{{\\Delta e}}_{{  1}}^\\gamma} + {{{\\Delta e}}_{{  2}}^\\gamma}\\right)} + 9.4 \\, {{{\\Delta e}}_{{  1}}^\\gamma} {{{\\Delta e}}_{{  2}}^\\gamma}\\right)}}{{\\left({{{\\Delta E}}^\\gamma} {\\left({{{\\Delta e}}_{{  1}}^\\gamma} + 0.50 \\, {{{\\Delta e}}_{{  2}}^\\gamma}\\right)} {{{\\Delta e}}_{{  1}}^\\gamma} {{{\\Delta e}}_{{  2}}^\\gamma} + 0.25 \\, {{{\\Delta e}}_{{  1}}^\\gamma}^{2} {{{\\Delta e}}_{{  2}}^\\gamma}^{2} + {\\left({{{\\Delta e}}_{{  1}}^\\gamma}^{2} + {{{\\Delta e}}_{{  1}}^\\gamma} {{{\\Delta e}}_{{  2}}^\\gamma} + 0.25 \\, {{{\\Delta e}}_{{  2}}^\\gamma}^{2}\\right)} {{{\\Delta E}}^\\gamma}^{2}\\right)} {\\left({{{\\Delta E}}^\\gamma} {\\left({{{\\Delta e}}_{{  1}}^\\gamma} + {{{\\Delta e}}_{{  2}}^\\gamma}\\right)} + 2 \\, {{{\\Delta e}}_{{  1}}^\\gamma} {{{\\Delta e}}_{{  2}}^\\gamma}\\right)} {{{\\Delta E}}^\\gamma}^{2}}$$"
      ],
      "text/plain": [
       "(DEg*Deg1^2*(0.42*Deg1 + 0.25*Deg2)*Deg2^2 + 0.083*Deg1^3*Deg2^3 + (Deg1^2 + Deg1*Deg2 + 0.25*Deg2^2)*DEg^4 + (0.84*Deg1^2 + 1.2*Deg1*Deg2 + 0.25*Deg2^2)*DEg^2*Deg1*Deg2 + (0.66*Deg1^3 + 2.2*Deg1^2*Deg2 + 1.1*Deg1*Deg2^2 + 0.083*Deg2^3)*DEg^3)*(9.4*DEg*(Deg1 + Deg2) + 9.4*Deg1*Deg2)/((DEg*(Deg1 + 0.50*Deg2)*Deg1*Deg2 + 0.25*Deg1^2*Deg2^2 + (Deg1^2 + Deg1*Deg2 + 0.25*Deg2^2)*DEg^2)*(DEg*(Deg1 + Deg2) + 2*Deg1*Deg2)*DEg^2)"
      ]
     },
     "metadata": {},
     "output_type": "display_data"
    }
   ],
   "source": [
    "show(symround(MMA_simplify(cond2,full= True),show_del=False))"
   ]
  },
  {
   "cell_type": "markdown",
   "id": "aa4744a3",
   "metadata": {},
   "source": [
    "# a bit of processing of the conditions. Use of $D_i = \\dfrac{Deg_i}{DEg}$"
   ]
  },
  {
   "cell_type": "code",
   "execution_count": 12,
   "id": "3fed6386",
   "metadata": {},
   "outputs": [
    {
     "data": {
      "text/html": [
       "<html><script type=\"math/tex; mode=display\">\\newcommand{\\Bold}[1]{\\mathbf{#1}}\\frac{{\\left({{{\\Delta E}}^\\gamma} {\\left({{{\\Delta e}}_{{  1}}^\\gamma} + {{{\\Delta e}}_{{  2}}^\\gamma}\\right)} + {{{\\Delta e}}_{{  1}}^\\gamma} {{{\\Delta e}}_{{  2}}^\\gamma}\\right)} {\\left(6.3 \\, {{{\\Delta E}}^\\gamma} + 6.3 \\, {{{\\Delta e}}_{{  1}}^\\gamma}\\right)}}{{\\left({{{\\Delta E}}^\\gamma} {\\left({{{\\Delta e}}_{{  1}}^\\gamma} + {{{\\Delta e}}_{{  2}}^\\gamma}\\right)} + 2 \\, {{{\\Delta e}}_{{  1}}^\\gamma} {{{\\Delta e}}_{{  2}}^\\gamma}\\right)} {\\left(2 \\, {{{\\Delta E}}^\\gamma} + {{{\\Delta e}}_{{  2}}^\\gamma}\\right)}}</script></html>"
      ],
      "text/latex": [
       "$$\\newcommand{\\Bold}[1]{\\mathbf{#1}}\\frac{{\\left({{{\\Delta E}}^\\gamma} {\\left({{{\\Delta e}}_{{  1}}^\\gamma} + {{{\\Delta e}}_{{  2}}^\\gamma}\\right)} + {{{\\Delta e}}_{{  1}}^\\gamma} {{{\\Delta e}}_{{  2}}^\\gamma}\\right)} {\\left(6.3 \\, {{{\\Delta E}}^\\gamma} + 6.3 \\, {{{\\Delta e}}_{{  1}}^\\gamma}\\right)}}{{\\left({{{\\Delta E}}^\\gamma} {\\left({{{\\Delta e}}_{{  1}}^\\gamma} + {{{\\Delta e}}_{{  2}}^\\gamma}\\right)} + 2 \\, {{{\\Delta e}}_{{  1}}^\\gamma} {{{\\Delta e}}_{{  2}}^\\gamma}\\right)} {\\left(2 \\, {{{\\Delta E}}^\\gamma} + {{{\\Delta e}}_{{  2}}^\\gamma}\\right)}}$$"
      ],
      "text/plain": [
       "(DEg*(Deg1 + Deg2) + Deg1*Deg2)*(6.3*DEg + 6.3*Deg1)/((DEg*(Deg1 + Deg2) + 2*Deg1*Deg2)*(2*DEg + Deg2))"
      ]
     },
     "metadata": {},
     "output_type": "display_data"
    },
    {
     "name": "stdout",
     "output_type": "stream",
     "text": [
      "\n",
      "\n",
      "\n",
      "\n"
     ]
    },
    {
     "data": {
      "text/html": [
       "<html><script type=\"math/tex; mode=display\">\\newcommand{\\Bold}[1]{\\mathbf{#1}}\\frac{{\\left({{{\\Delta E}}^\\gamma} {{{\\Delta e}}_{{  1}}^\\gamma}^{2} {\\left(0.42 \\, {{{\\Delta e}}_{{  1}}^\\gamma} + 0.25 \\, {{{\\Delta e}}_{{  2}}^\\gamma}\\right)} {{{\\Delta e}}_{{  2}}^\\gamma}^{2} + 0.083 \\, {{{\\Delta e}}_{{  1}}^\\gamma}^{3} {{{\\Delta e}}_{{  2}}^\\gamma}^{3} + {\\left({{{\\Delta e}}_{{  1}}^\\gamma}^{2} + {{{\\Delta e}}_{{  1}}^\\gamma} {{{\\Delta e}}_{{  2}}^\\gamma} + 0.25 \\, {{{\\Delta e}}_{{  2}}^\\gamma}^{2}\\right)} {{{\\Delta E}}^\\gamma}^{4} + {\\left(0.84 \\, {{{\\Delta e}}_{{  1}}^\\gamma}^{2} + 1.2 \\, {{{\\Delta e}}_{{  1}}^\\gamma} {{{\\Delta e}}_{{  2}}^\\gamma} + 0.25 \\, {{{\\Delta e}}_{{  2}}^\\gamma}^{2}\\right)} {{{\\Delta E}}^\\gamma}^{2} {{{\\Delta e}}_{{  1}}^\\gamma} {{{\\Delta e}}_{{  2}}^\\gamma} + {\\left(0.66 \\, {{{\\Delta e}}_{{  1}}^\\gamma}^{3} + 2.2 \\, {{{\\Delta e}}_{{  1}}^\\gamma}^{2} {{{\\Delta e}}_{{  2}}^\\gamma} + 1.1 \\, {{{\\Delta e}}_{{  1}}^\\gamma} {{{\\Delta e}}_{{  2}}^\\gamma}^{2} + 0.083 \\, {{{\\Delta e}}_{{  2}}^\\gamma}^{3}\\right)} {{{\\Delta E}}^\\gamma}^{3}\\right)} {\\left(9.4 \\, {{{\\Delta E}}^\\gamma} {\\left({{{\\Delta e}}_{{  1}}^\\gamma} + {{{\\Delta e}}_{{  2}}^\\gamma}\\right)} + 9.4 \\, {{{\\Delta e}}_{{  1}}^\\gamma} {{{\\Delta e}}_{{  2}}^\\gamma}\\right)}}{{\\left({{{\\Delta E}}^\\gamma} {\\left({{{\\Delta e}}_{{  1}}^\\gamma} + 0.50 \\, {{{\\Delta e}}_{{  2}}^\\gamma}\\right)} {{{\\Delta e}}_{{  1}}^\\gamma} {{{\\Delta e}}_{{  2}}^\\gamma} + 0.25 \\, {{{\\Delta e}}_{{  1}}^\\gamma}^{2} {{{\\Delta e}}_{{  2}}^\\gamma}^{2} + {\\left({{{\\Delta e}}_{{  1}}^\\gamma}^{2} + {{{\\Delta e}}_{{  1}}^\\gamma} {{{\\Delta e}}_{{  2}}^\\gamma} + 0.25 \\, {{{\\Delta e}}_{{  2}}^\\gamma}^{2}\\right)} {{{\\Delta E}}^\\gamma}^{2}\\right)} {\\left({{{\\Delta E}}^\\gamma} {\\left({{{\\Delta e}}_{{  1}}^\\gamma} + {{{\\Delta e}}_{{  2}}^\\gamma}\\right)} + 2 \\, {{{\\Delta e}}_{{  1}}^\\gamma} {{{\\Delta e}}_{{  2}}^\\gamma}\\right)} {{{\\Delta E}}^\\gamma}^{2}}</script></html>"
      ],
      "text/latex": [
       "$$\\newcommand{\\Bold}[1]{\\mathbf{#1}}\\frac{{\\left({{{\\Delta E}}^\\gamma} {{{\\Delta e}}_{{  1}}^\\gamma}^{2} {\\left(0.42 \\, {{{\\Delta e}}_{{  1}}^\\gamma} + 0.25 \\, {{{\\Delta e}}_{{  2}}^\\gamma}\\right)} {{{\\Delta e}}_{{  2}}^\\gamma}^{2} + 0.083 \\, {{{\\Delta e}}_{{  1}}^\\gamma}^{3} {{{\\Delta e}}_{{  2}}^\\gamma}^{3} + {\\left({{{\\Delta e}}_{{  1}}^\\gamma}^{2} + {{{\\Delta e}}_{{  1}}^\\gamma} {{{\\Delta e}}_{{  2}}^\\gamma} + 0.25 \\, {{{\\Delta e}}_{{  2}}^\\gamma}^{2}\\right)} {{{\\Delta E}}^\\gamma}^{4} + {\\left(0.84 \\, {{{\\Delta e}}_{{  1}}^\\gamma}^{2} + 1.2 \\, {{{\\Delta e}}_{{  1}}^\\gamma} {{{\\Delta e}}_{{  2}}^\\gamma} + 0.25 \\, {{{\\Delta e}}_{{  2}}^\\gamma}^{2}\\right)} {{{\\Delta E}}^\\gamma}^{2} {{{\\Delta e}}_{{  1}}^\\gamma} {{{\\Delta e}}_{{  2}}^\\gamma} + {\\left(0.66 \\, {{{\\Delta e}}_{{  1}}^\\gamma}^{3} + 2.2 \\, {{{\\Delta e}}_{{  1}}^\\gamma}^{2} {{{\\Delta e}}_{{  2}}^\\gamma} + 1.1 \\, {{{\\Delta e}}_{{  1}}^\\gamma} {{{\\Delta e}}_{{  2}}^\\gamma}^{2} + 0.083 \\, {{{\\Delta e}}_{{  2}}^\\gamma}^{3}\\right)} {{{\\Delta E}}^\\gamma}^{3}\\right)} {\\left(9.4 \\, {{{\\Delta E}}^\\gamma} {\\left({{{\\Delta e}}_{{  1}}^\\gamma} + {{{\\Delta e}}_{{  2}}^\\gamma}\\right)} + 9.4 \\, {{{\\Delta e}}_{{  1}}^\\gamma} {{{\\Delta e}}_{{  2}}^\\gamma}\\right)}}{{\\left({{{\\Delta E}}^\\gamma} {\\left({{{\\Delta e}}_{{  1}}^\\gamma} + 0.50 \\, {{{\\Delta e}}_{{  2}}^\\gamma}\\right)} {{{\\Delta e}}_{{  1}}^\\gamma} {{{\\Delta e}}_{{  2}}^\\gamma} + 0.25 \\, {{{\\Delta e}}_{{  1}}^\\gamma}^{2} {{{\\Delta e}}_{{  2}}^\\gamma}^{2} + {\\left({{{\\Delta e}}_{{  1}}^\\gamma}^{2} + {{{\\Delta e}}_{{  1}}^\\gamma} {{{\\Delta e}}_{{  2}}^\\gamma} + 0.25 \\, {{{\\Delta e}}_{{  2}}^\\gamma}^{2}\\right)} {{{\\Delta E}}^\\gamma}^{2}\\right)} {\\left({{{\\Delta E}}^\\gamma} {\\left({{{\\Delta e}}_{{  1}}^\\gamma} + {{{\\Delta e}}_{{  2}}^\\gamma}\\right)} + 2 \\, {{{\\Delta e}}_{{  1}}^\\gamma} {{{\\Delta e}}_{{  2}}^\\gamma}\\right)} {{{\\Delta E}}^\\gamma}^{2}}$$"
      ],
      "text/plain": [
       "(DEg*Deg1^2*(0.42*Deg1 + 0.25*Deg2)*Deg2^2 + 0.083*Deg1^3*Deg2^3 + (Deg1^2 + Deg1*Deg2 + 0.25*Deg2^2)*DEg^4 + (0.84*Deg1^2 + 1.2*Deg1*Deg2 + 0.25*Deg2^2)*DEg^2*Deg1*Deg2 + (0.66*Deg1^3 + 2.2*Deg1^2*Deg2 + 1.1*Deg1*Deg2^2 + 0.083*Deg2^3)*DEg^3)*(9.4*DEg*(Deg1 + Deg2) + 9.4*Deg1*Deg2)/((DEg*(Deg1 + 0.50*Deg2)*Deg1*Deg2 + 0.25*Deg1^2*Deg2^2 + (Deg1^2 + Deg1*Deg2 + 0.25*Deg2^2)*DEg^2)*(DEg*(Deg1 + Deg2) + 2*Deg1*Deg2)*DEg^2)"
      ]
     },
     "metadata": {},
     "output_type": "display_data"
    }
   ],
   "source": [
    "cond1 = MMA_simplify(cond1,full=True)\n",
    "show(symround(cond1))\n",
    "print('\\n\\n\\n')\n",
    "cond2 = MMA_simplify(cond2,full=True)\n",
    "show(symround(cond2))"
   ]
  },
  {
   "cell_type": "code",
   "execution_count": 13,
   "id": "bb77bc57",
   "metadata": {},
   "outputs": [],
   "source": [
    "var('D1', domain='positive',latex_name='D_1')\n",
    "var('D2', domain='positive',latex_name='D_2')\n",
    "cond1sub = cond1.subs(Deg1 = DEg *D1 , Deg2 = DEg *D2 )\n",
    "cond1sub = MMA_simplify(cond1sub,full=True)\n",
    "cond2sub = cond2.subs(Deg1 = DEg *D1 , Deg2 = DEg *D2 )\n",
    "cond2sub = MMA_simplify(cond2sub,full=True)"
   ]
  },
  {
   "cell_type": "code",
   "execution_count": 14,
   "id": "4bbd6b83",
   "metadata": {},
   "outputs": [
    {
     "data": {
      "text/html": [
       "<html><script type=\"math/tex; mode=display\">\\newcommand{\\Bold}[1]{\\mathbf{#1}}\\frac{{\\left({D_1} {D_2} + {D_1} + {D_2}\\right)} {\\left(6.3 \\, {D_1} + 6.3\\right)}}{{\\left(2 \\, {D_1} {D_2} + {D_1} + {D_2}\\right)} {\\left({D_2} + 2\\right)}}</script></html>"
      ],
      "text/latex": [
       "$$\\newcommand{\\Bold}[1]{\\mathbf{#1}}\\frac{{\\left({D_1} {D_2} + {D_1} + {D_2}\\right)} {\\left(6.3 \\, {D_1} + 6.3\\right)}}{{\\left(2 \\, {D_1} {D_2} + {D_1} + {D_2}\\right)} {\\left({D_2} + 2\\right)}}$$"
      ],
      "text/plain": [
       "(D1*D2 + D1 + D2)*(6.3*D1 + 6.3)/((2*D1*D2 + D1 + D2)*(D2 + 2))"
      ]
     },
     "metadata": {},
     "output_type": "display_data"
    },
    {
     "name": "stdout",
     "output_type": "stream",
     "text": [
      "\n",
      "\n",
      "\n"
     ]
    },
    {
     "data": {
      "text/html": [
       "<html><script type=\"math/tex; mode=display\">\\newcommand{\\Bold}[1]{\\mathbf{#1}}\\frac{{\\left({\\left({\\left({\\left({D_2} + 5\\right)} {D_2} + 10\\right)} {D_2} + 8\\right)} {D_1}^{3} + {\\left({\\left(3 \\, {\\left({D_2} + 5\\right)} {D_2} + 26\\right)} {D_2} + 12\\right)} {D_1}^{2} + {\\left({\\left(3 \\, {D_2} + 13\\right)} {D_2} + 12\\right)} {D_1} {D_2} + {\\left({D_2} + 3\\right)} {D_2}^{2}\\right)} {\\left(1.6 \\, {D_1} {\\left({D_2} + 1\\right)} + 1.6 \\, {D_2}\\right)}}{{\\left({D_1}^{2} {\\left({D_2} + 2\\right)}^{2} + 2 \\, {D_1} {\\left({D_2} + 2\\right)} {D_2} + {D_2}^{2}\\right)} {\\left({D_1} {D_2} + 0.50 \\, {D_1} + 0.50 \\, {D_2}\\right)}}</script></html>"
      ],
      "text/latex": [
       "$$\\newcommand{\\Bold}[1]{\\mathbf{#1}}\\frac{{\\left({\\left({\\left({\\left({D_2} + 5\\right)} {D_2} + 10\\right)} {D_2} + 8\\right)} {D_1}^{3} + {\\left({\\left(3 \\, {\\left({D_2} + 5\\right)} {D_2} + 26\\right)} {D_2} + 12\\right)} {D_1}^{2} + {\\left({\\left(3 \\, {D_2} + 13\\right)} {D_2} + 12\\right)} {D_1} {D_2} + {\\left({D_2} + 3\\right)} {D_2}^{2}\\right)} {\\left(1.6 \\, {D_1} {\\left({D_2} + 1\\right)} + 1.6 \\, {D_2}\\right)}}{{\\left({D_1}^{2} {\\left({D_2} + 2\\right)}^{2} + 2 \\, {D_1} {\\left({D_2} + 2\\right)} {D_2} + {D_2}^{2}\\right)} {\\left({D_1} {D_2} + 0.50 \\, {D_1} + 0.50 \\, {D_2}\\right)}}$$"
      ],
      "text/plain": [
       "((((D2 + 5)*D2 + 10)*D2 + 8)*D1^3 + ((3*(D2 + 5)*D2 + 26)*D2 + 12)*D1^2 + ((3*D2 + 13)*D2 + 12)*D1*D2 + (D2 + 3)*D2^2)*(1.6*D1*(D2 + 1) + 1.6*D2)/((D1^2*(D2 + 2)^2 + 2*D1*(D2 + 2)*D2 + D2^2)*(D1*D2 + 0.50*D1 + 0.50*D2))"
      ]
     },
     "metadata": {},
     "output_type": "display_data"
    }
   ],
   "source": [
    "show(symround(cond1sub))\n",
    "print('\\n\\n')\n",
    "show(symround(cond2sub))"
   ]
  },
  {
   "cell_type": "code",
   "execution_count": 15,
   "id": "8cce85a8",
   "metadata": {},
   "outputs": [
    {
     "data": {
      "text/html": [
       "<html><script type=\"math/tex; mode=display\">\\newcommand{\\Bold}[1]{\\mathbf{#1}}\\frac{4.188790205 \\, {D_1}^{2} + 6.283185307 \\, {D_1} + 2.094395102}{3 \\, {D_1} + 1}</script></html>"
      ],
      "text/latex": [
       "$$\\newcommand{\\Bold}[1]{\\mathbf{#1}}\\frac{4.188790205 \\, {D_1}^{2} + 6.283185307 \\, {D_1} + 2.094395102}{3 \\, {D_1} + 1}$$"
      ],
      "text/plain": [
       "(4.188790205*D1^2 + 6.283185307*D1 + 2.094395102)/(3*D1 + 1)"
      ]
     },
     "metadata": {},
     "output_type": "display_data"
    },
    {
     "data": {
      "image/png": "[encoded data removed]",
      "text/plain": [
       "Graphics object consisting of 1 graphics primitive"
      ]
     },
     "execution_count": 15,
     "metadata": {},
     "output_type": "execute_result"
    }
   ],
   "source": [
    "DEgval = 1\n",
    "D2val  = 1\n",
    " \n",
    "show(symround(MMA_simplify(cond1sub.subs(D2=D2val)),digits=10))\n",
    "\n",
    "plot(cond1sub.subs(DEg=DEgval,D2=D2val)/(2*np.pi),(D1,0,20), gridlines=True)"
   ]
  },
  {
   "cell_type": "code",
   "execution_count": 16,
   "id": "9fad18ee",
   "metadata": {},
   "outputs": [
    {
     "data": {
      "text/html": [
       "<html><script type=\"math/tex; mode=display\">\\newcommand{\\Bold}[1]{\\mathbf{#1}}\\frac{5.585053606 \\, {D_1}^{4} + 15.82431855 \\, {D_1}^{3} + 13.03179175 \\, {D_1}^{2} + 4.188790205 \\, {D_1} + 0.4654211339}{{D_1}^{3} + {D_1}^{2} + 0.3333333333 \\, {D_1} + 0.03703703704}</script></html>"
      ],
      "text/latex": [
       "$$\\newcommand{\\Bold}[1]{\\mathbf{#1}}\\frac{5.585053606 \\, {D_1}^{4} + 15.82431855 \\, {D_1}^{3} + 13.03179175 \\, {D_1}^{2} + 4.188790205 \\, {D_1} + 0.4654211339}{{D_1}^{3} + {D_1}^{2} + 0.3333333333 \\, {D_1} + 0.03703703704}$$"
      ],
      "text/plain": [
       "(5.585053606*D1^4 + 15.82431855*D1^3 + 13.03179175*D1^2 + 4.188790205*D1 + 0.4654211339)/(D1^3 + D1^2 + 0.3333333333*D1 + 0.03703703704)"
      ]
     },
     "metadata": {},
     "output_type": "display_data"
    },
    {
     "data": {
      "image/png": "[encoded data removed]",
      "text/plain": [
       "Graphics object consisting of 1 graphics primitive"
      ]
     },
     "execution_count": 16,
     "metadata": {},
     "output_type": "execute_result"
    }
   ],
   "source": [
    "show(symround(MMA_simplify(cond2sub.subs(D2=D2val)),digits=10))\n",
    "plot(cond2sub.subs(DEg=DEgval,D2=D2val)/(2*np.pi),(D1,0.5,10), gridlines=True)"
   ]
  },
  {
   "cell_type": "markdown",
   "id": "1c54ab00",
   "metadata": {},
   "source": [
    "# Search for a solution of both conditions"
   ]
  },
  {
   "cell_type": "code",
   "execution_count": 18,
   "id": "0ad76bf7",
   "metadata": {},
   "outputs": [
    {
     "name": "stdout",
     "output_type": "stream",
     "text": [
      "Finished\n",
      "\n",
      "\n",
      "\n",
      "3.585702287089987e-06 2.783806519590723 0.756100000000005\n"
     ]
    }
   ],
   "source": [
    "#search for simultaneous roots\n",
    "tol =1e-6\n",
    "\n",
    "D2val= 0.8 # starting value\n",
    "DEgval = 1\n",
    "D1val = 1\n",
    "\n",
    "valp=10\n",
    "p = -4\n",
    "\n",
    "minsol = 1\n",
    "count = 0\n",
    "while count<1000:\n",
    "    k = 1\n",
    "    \n",
    "    D2val = D2val - 10^p\n",
    "    eq1s = cond1sub.subs(D2=D2val , DEg=DEgval) ==  k *2*np.pi\n",
    "    #eq1s = MMA_simplify(eq1s)\n",
    "    sol = eq1s._mathematica_().NSolve(\"PositiveReals\")[1][1][2]._sage_()\n",
    "    #eq1s = eq1s.numerator()/eq1s.denominator()\n",
    "    #eq = eq1s+2*np.pi == 0 #2*pi ??\n",
    "    #sol = solve(eq,D2)\n",
    "    #sol = sol[0].rhs().n()\n",
    "\n",
    "    eq2s = cond2sub.subs(D2=D2val , DEg=DEgval, D1=sol)/(2*np.pi)\n",
    "\n",
    "    val = np.mod(float(abs(eq2s.n())) , 1)\n",
    "\n",
    "    #val = abs(eq2s-2*np.pi)\n",
    "\n",
    "    if val > 0.5:\n",
    "        val = 1-val\n",
    "\n",
    "    #print(f'precision: {p}')\n",
    "\n",
    "\n",
    "    if abs(val)<tol:\n",
    "        break\n",
    "\n",
    "    if abs(val)<abs(valp):\n",
    "        valp = val\n",
    "        minsolD1 = sol\n",
    "        minsolD2 = D2val\n",
    "            #print(D2val.n(), valp)\n",
    "    \n",
    "    count = count + 1\n",
    "\n",
    "    \n",
    "print('Finished')\n",
    "\n",
    "print('\\n\\n')\n",
    "\n",
    "print(valp ,minsolD1 ,minsolD2)\n"
   ]
  },
  {
   "cell_type": "markdown",
   "id": "17956c07",
   "metadata": {},
   "source": [
    "# Check how close to ideal the solutions are"
   ]
  },
  {
   "cell_type": "code",
   "execution_count": 19,
   "id": "893d9e47",
   "metadata": {},
   "outputs": [
    {
     "data": {
      "text/plain": [
       "0.999999999999997"
      ]
     },
     "execution_count": 19,
     "metadata": {},
     "output_type": "execute_result"
    }
   ],
   "source": [
    "cond1sub.subs(DEg=1,D1=minsolD1,D2=minsolD2)/(2*np.pi)"
   ]
  },
  {
   "cell_type": "code",
   "execution_count": 20,
   "id": "6e182900",
   "metadata": {},
   "outputs": [
    {
     "data": {
      "text/plain": [
       "4.00000358570229"
      ]
     },
     "execution_count": 20,
     "metadata": {},
     "output_type": "execute_result"
    }
   ],
   "source": [
    "cond2sub.subs(DEg=1,D1=minsolD1,D2=minsolD2)/(2*np.pi)"
   ]
  },
  {
   "cell_type": "code",
   "execution_count": 21,
   "id": "2e88d17d",
   "metadata": {},
   "outputs": [
    {
     "name": "stdout",
     "output_type": "stream",
     "text": [
      "2.78380651959072 0.756100000000005\n"
     ]
    }
   ],
   "source": [
    "print(minsolD1.n(),minsolD2)"
   ]
  },
  {
   "cell_type": "markdown",
   "id": "94fa4024",
   "metadata": {},
   "source": [
    "# Test if gate works"
   ]
  },
  {
   "cell_type": "code",
   "execution_count": 48,
   "id": "73fa2022",
   "metadata": {},
   "outputs": [],
   "source": [
    "# parameter substitution \n",
    "Cval = 10^3\n",
    "phival = 0* np.pi \n",
    "R_fval = 1\n",
    "gamma_fval = gamma\n",
    "gamma_gval = gamma\n",
    "DEgval = 1\n",
    "Deg2val = DEgval*minsolD2  #*0.99999\n",
    "Deg1val = DEgval*minsolD1   #*0.99999\n"
   ]
  },
  {
   "cell_type": "code",
   "execution_count": 49,
   "id": "65e892e9",
   "metadata": {},
   "outputs": [],
   "source": [
    "eff_hval = eff_hamiltonian_tayl.subs(DEg=DEgval,C=Cval,phi=phival,R_f=R_fval,gamma_f=gamma_fval,gamma_g=gamma_gval,Deg2=Deg2val,Deg1= Deg1val)\n",
    "eff_hval = (eff_hval + conjugate(eff_hval))\n",
    "\n",
    "a_val = eff_hval[0,0]\n",
    "b_val = eff_hval[1,1]\n",
    "c_val = eff_hval[3,3]\n",
    "d_val = eff_hval[4,4]\n",
    "e_val = eff_hval[5,5]\n",
    "f_val = eff_hval[7,7]"
   ]
  },
  {
   "cell_type": "code",
   "execution_count": 50,
   "id": "517f3a03",
   "metadata": {},
   "outputs": [],
   "source": [
    "U = sg.copy(eff_hval)\n",
    "\n",
    "tgval = np.pi /(a_val+e_val-b_val-d_val)\n",
    "\n",
    "t1 = (a_val-b_val)*tgval\n",
    "t2 = t1\n",
    "t3 = (a_val-d_val)*tgval\n",
    "\n",
    "R = [0 , t1, t2, t1+t2, t3, t1+t3, t2+t3, t1+t2+t3 ]\n",
    "\n",
    "for i in range(8):\n",
    "    U[i,i] = exp( (R[i] + (eff_hval[i,i]-a_val)*tgval )*I )\n",
    "    \n",
    "for i in range(8):\n",
    "    U[i,i] = U[i,i].n()"
   ]
  },
  {
   "cell_type": "code",
   "execution_count": 51,
   "id": "779addae",
   "metadata": {},
   "outputs": [
    {
     "name": "stdout",
     "output_type": "stream",
     "text": [
      "symround: Deleted coefficient 1.2246e-16\n",
      "symround: Deleted coefficient 1.2246e-16\n"
     ]
    },
    {
     "data": {
      "text/html": [
       "<html><script type=\"math/tex; mode=display\">\\newcommand{\\Bold}[1]{\\mathbf{#1}}\\left(\\begin{array}{rrrrrrrr}\n",
       "1 & 0 & 0 & 0 & 0 & 0 & 0 & 0 \\\\\n",
       "0 & 1 & 0 & 0 & 0 & 0 & 0 & 0 \\\\\n",
       "0 & 0 & 1 & 0 & 0 & 0 & 0 & 0 \\\\\n",
       "0 & 0 & 0 & 0.99968 + 0.025347i & 0 & 0 & 0 & 0 \\\\\n",
       "0 & 0 & 0 & 0 & 1 & 0 & 0 & 0 \\\\\n",
       "0 & 0 & 0 & 0 & 0 & -1 & 0 & 0 \\\\\n",
       "0 & 0 & 0 & 0 & 0 & 0 & -1 & 0 \\\\\n",
       "0 & 0 & 0 & 0 & 0 & 0 & 0 & 0.97655 + 0.21531i\n",
       "\\end{array}\\right)</script></html>"
      ],
      "text/latex": [
       "$$\\newcommand{\\Bold}[1]{\\mathbf{#1}}\\left(\\begin{array}{rrrrrrrr}\n",
       "1 & 0 & 0 & 0 & 0 & 0 & 0 & 0 \\\\\n",
       "0 & 1 & 0 & 0 & 0 & 0 & 0 & 0 \\\\\n",
       "0 & 0 & 1 & 0 & 0 & 0 & 0 & 0 \\\\\n",
       "0 & 0 & 0 & 0.99968 + 0.025347i & 0 & 0 & 0 & 0 \\\\\n",
       "0 & 0 & 0 & 0 & 1 & 0 & 0 & 0 \\\\\n",
       "0 & 0 & 0 & 0 & 0 & -1 & 0 & 0 \\\\\n",
       "0 & 0 & 0 & 0 & 0 & 0 & -1 & 0 \\\\\n",
       "0 & 0 & 0 & 0 & 0 & 0 & 0 & 0.97655 + 0.21531i\n",
       "\\end{array}\\right)$$"
      ],
      "text/plain": [
       "[                   1                    0                    0                    0                    0                    0                    0                    0]\n",
       "[                   0                    1                    0                    0                    0                    0                    0                    0]\n",
       "[                   0                    0                    1                    0                    0                    0                    0                    0]\n",
       "[                   0                    0                    0 0.99968 + 0.025347*I                    0                    0                    0                    0]\n",
       "[                   0                    0                    0                    0                    1                    0                    0                    0]\n",
       "[                   0                    0                    0                    0                    0                   -1                    0                    0]\n",
       "[                   0                    0                    0                    0                    0                    0                   -1                    0]\n",
       "[                   0                    0                    0                    0                    0                    0                    0  0.97655 + 0.21531*I]"
      ]
     },
     "metadata": {},
     "output_type": "display_data"
    }
   ],
   "source": [
    "show(symround(U,digits=5))"
   ]
  },
  {
   "cell_type": "markdown",
   "id": "7b078430",
   "metadata": {},
   "source": [
    "# ------------------------------------------------------------------------------------------------------------------------------------------------------------------------------------------------------------------------------------------------------------------------------------------------------------------------------------------------------------------------------------------------------------------------------------------------------------------------------------------------------------------------------------------------------------------------------------------------------------\n"
   ]
  },
  {
   "cell_type": "markdown",
   "id": "eda75763",
   "metadata": {},
   "source": [
    "# Check scalings of the above result"
   ]
  },
  {
   "cell_type": "code",
   "execution_count": 323,
   "id": "4500d210",
   "metadata": {},
   "outputs": [],
   "source": [
    "# functions to obtain scalings\n",
    "def obtain_exponent(expr):\n",
    "    expr = SR(str(( expr)).replace('Sqrt','sqrt'))\n",
    "    try:\n",
    "        exp = expr.op[0].op[0].op[0].op[1]\n",
    "    except:\n",
    "        try:\n",
    "            exp = expr.op[0].op[0].op[1]\n",
    "        except:\n",
    "            try:\n",
    "                exp = expr.op[0].op[1]\n",
    "            except:\n",
    "                exp = 0\n",
    "    return exp\n",
    "\n",
    "def obtain_expr_exp(expr):\n",
    "    try:\n",
    "        el = 0    \n",
    "        q = (expr._mathematica_().Numerator()._sage_() .expand().operands()[el])\n",
    "        q = SR(str(( q)).replace('Sqrt','sqrt'))\n",
    "        test_bool = (str(q._mathematica_().Numerator()._sage_().expand().denominator()) == str(1))\n",
    "        num_exp = (obtain_exponent(q._mathematica_().Numerator()._sage_().expand()))\n",
    "        den1_exp = (obtain_exponent(q._mathematica_().Denominator()._sage_().expand()))\n",
    "        den2_exp = (obtain_exponent(expr._mathematica_().Denominator()._sage_().expand()))\n",
    "        res = num_exp-den1_exp-den2_exp\n",
    "        if not test_bool:\n",
    "            #show(q)\n",
    "            res = obtain_exponent(q.numerator())-obtain_exponent(q.denominator())\n",
    "            return res\n",
    "        return res\n",
    "    except:\n",
    "        #print('altern')\n",
    "        den_exp = obtain_exponent( expr._mathematica_().Denominator()._sage_().expand())\n",
    "        num_exp = obtain_exponent( expr._mathematica_().Numerator()._sage_().expand())\n",
    "        return num_exp-den_exp"
   ]
  },
  {
   "cell_type": "markdown",
   "id": "f460fb08",
   "metadata": {},
   "source": [
    "# L elements"
   ]
  },
  {
   "cell_type": "code",
   "execution_count": 325,
   "id": "1c895304",
   "metadata": {
    "scrolled": false
   },
   "outputs": [
    {
     "data": {
      "text/html": [
       "<html><script type=\"math/tex; mode=display\">\\newcommand{\\Bold}[1]{\\mathbf{#1}}0 \\sqrt{{\\kappa_c}}</script></html>"
      ],
      "text/latex": [
       "$$\\newcommand{\\Bold}[1]{\\mathbf{#1}}0 \\sqrt{{\\kappa_c}}$$"
      ],
      "text/plain": [
       "0 sqrt(kappa_c)"
      ]
     },
     "metadata": {},
     "output_type": "display_data"
    },
    {
     "name": "stdout",
     "output_type": "stream",
     "text": [
      "-1\n",
      "-1\n",
      "-1\n",
      "-1\n",
      "-1\n",
      "-1\n",
      "-1\n",
      "-1\n"
     ]
    },
    {
     "data": {
      "text/html": [
       "<html><script type=\"math/tex; mode=display\">\\newcommand{\\Bold}[1]{\\mathbf{#1}}1 \\sqrt{{\\gamma}}</script></html>"
      ],
      "text/latex": [
       "$$\\newcommand{\\Bold}[1]{\\mathbf{#1}}1 \\sqrt{{\\gamma}}$$"
      ],
      "text/plain": [
       "1 sqrt(gamma)"
      ]
     },
     "metadata": {},
     "output_type": "display_data"
    },
    {
     "name": "stdout",
     "output_type": "stream",
     "text": [
      "-1\n",
      "-1\n",
      "-1\n",
      "-1\n"
     ]
    },
    {
     "data": {
      "text/html": [
       "<html><script type=\"math/tex; mode=display\">\\newcommand{\\Bold}[1]{\\mathbf{#1}}2 \\sqrt{{\\kappa_b}}</script></html>"
      ],
      "text/latex": [
       "$$\\newcommand{\\Bold}[1]{\\mathbf{#1}}2 \\sqrt{{\\kappa_b}}$$"
      ],
      "text/plain": [
       "2 sqrt(kappa_b)"
      ]
     },
     "metadata": {},
     "output_type": "display_data"
    },
    {
     "name": "stdout",
     "output_type": "stream",
     "text": [
      "-2\n",
      "-1\n",
      "-1\n",
      "-2\n",
      "-1\n",
      "-1\n",
      "-1\n",
      "-1\n"
     ]
    },
    {
     "data": {
      "text/html": [
       "<html><script type=\"math/tex; mode=display\">\\newcommand{\\Bold}[1]{\\mathbf{#1}}3 \\sqrt{{\\kappa_c}}</script></html>"
      ],
      "text/latex": [
       "$$\\newcommand{\\Bold}[1]{\\mathbf{#1}}3 \\sqrt{{\\kappa_c}}$$"
      ],
      "text/plain": [
       "3 sqrt(kappa_c)"
      ]
     },
     "metadata": {},
     "output_type": "display_data"
    },
    {
     "name": "stdout",
     "output_type": "stream",
     "text": [
      "-1\n",
      "-1\n",
      "-1\n",
      "-1\n",
      "-1\n",
      "-1\n",
      "-1\n",
      "-1\n"
     ]
    },
    {
     "data": {
      "text/html": [
       "<html><script type=\"math/tex; mode=display\">\\newcommand{\\Bold}[1]{\\mathbf{#1}}4 \\sqrt{{\\gamma}}</script></html>"
      ],
      "text/latex": [
       "$$\\newcommand{\\Bold}[1]{\\mathbf{#1}}4 \\sqrt{{\\gamma}}$$"
      ],
      "text/plain": [
       "4 sqrt(gamma)"
      ]
     },
     "metadata": {},
     "output_type": "display_data"
    },
    {
     "name": "stdout",
     "output_type": "stream",
     "text": [
      "-1\n",
      "-1\n",
      "-1\n",
      "-1\n"
     ]
    },
    {
     "data": {
      "text/html": [
       "<html><script type=\"math/tex; mode=display\">\\newcommand{\\Bold}[1]{\\mathbf{#1}}5 \\sqrt{{\\kappa_b}}</script></html>"
      ],
      "text/latex": [
       "$$\\newcommand{\\Bold}[1]{\\mathbf{#1}}5 \\sqrt{{\\kappa_b}}$$"
      ],
      "text/plain": [
       "5 sqrt(kappa_b)"
      ]
     },
     "metadata": {},
     "output_type": "display_data"
    },
    {
     "name": "stdout",
     "output_type": "stream",
     "text": [
      "-2\n",
      "-1\n",
      "-1\n",
      "-1\n",
      "-1\n",
      "-1\n",
      "-1\n",
      "-1\n"
     ]
    },
    {
     "data": {
      "text/html": [
       "<html><script type=\"math/tex; mode=display\">\\newcommand{\\Bold}[1]{\\mathbf{#1}}6 \\sqrt{{\\kappa_c}}</script></html>"
      ],
      "text/latex": [
       "$$\\newcommand{\\Bold}[1]{\\mathbf{#1}}6 \\sqrt{{\\kappa_c}}$$"
      ],
      "text/plain": [
       "6 sqrt(kappa_c)"
      ]
     },
     "metadata": {},
     "output_type": "display_data"
    },
    {
     "name": "stdout",
     "output_type": "stream",
     "text": [
      "-1\n",
      "-1\n",
      "-1\n",
      "-1\n",
      "-1\n",
      "-1\n",
      "-1\n",
      "-1\n"
     ]
    },
    {
     "data": {
      "text/html": [
       "<html><script type=\"math/tex; mode=display\">\\newcommand{\\Bold}[1]{\\mathbf{#1}}7 \\sqrt{{\\gamma_g}}</script></html>"
      ],
      "text/latex": [
       "$$\\newcommand{\\Bold}[1]{\\mathbf{#1}}7 \\sqrt{{\\gamma_g}}$$"
      ],
      "text/plain": [
       "7 sqrt(gamma_g)"
      ]
     },
     "metadata": {},
     "output_type": "display_data"
    },
    {
     "name": "stdout",
     "output_type": "stream",
     "text": [
      "-2\n",
      "-1\n",
      "-1\n",
      "-1\n",
      "-1\n",
      "-1\n",
      "-1\n",
      "-1\n"
     ]
    },
    {
     "data": {
      "text/html": [
       "<html><script type=\"math/tex; mode=display\">\\newcommand{\\Bold}[1]{\\mathbf{#1}}8 \\sqrt{{\\gamma_f}}</script></html>"
      ],
      "text/latex": [
       "$$\\newcommand{\\Bold}[1]{\\mathbf{#1}}8 \\sqrt{{\\gamma_f}}$$"
      ],
      "text/plain": [
       "8 sqrt(gamma_f)"
      ]
     },
     "metadata": {},
     "output_type": "display_data"
    },
    {
     "name": "stdout",
     "output_type": "stream",
     "text": [
      "-2\n",
      "-1\n",
      "-1\n",
      "-1\n",
      "-1\n",
      "-1\n",
      "-1\n",
      "-1\n"
     ]
    },
    {
     "data": {
      "text/html": [
       "<html><script type=\"math/tex; mode=display\">\\newcommand{\\Bold}[1]{\\mathbf{#1}}9 \\sqrt{{\\kappa_b}}</script></html>"
      ],
      "text/latex": [
       "$$\\newcommand{\\Bold}[1]{\\mathbf{#1}}9 \\sqrt{{\\kappa_b}}$$"
      ],
      "text/plain": [
       "9 sqrt(kappa_b)"
      ]
     },
     "metadata": {},
     "output_type": "display_data"
    },
    {
     "name": "stdout",
     "output_type": "stream",
     "text": [
      "-2\n",
      "-1\n",
      "-1\n",
      "-1\n",
      "-1\n",
      "-1\n",
      "-1\n",
      "-1\n"
     ]
    },
    {
     "data": {
      "text/html": [
       "<html><script type=\"math/tex; mode=display\">\\newcommand{\\Bold}[1]{\\mathbf{#1}}10 \\sqrt{{\\kappa_c}}</script></html>"
      ],
      "text/latex": [
       "$$\\newcommand{\\Bold}[1]{\\mathbf{#1}}10 \\sqrt{{\\kappa_c}}$$"
      ],
      "text/plain": [
       "10 sqrt(kappa_c)"
      ]
     },
     "metadata": {},
     "output_type": "display_data"
    },
    {
     "name": "stdout",
     "output_type": "stream",
     "text": [
      "-1\n",
      "-1\n",
      "-1\n",
      "-1\n",
      "-1\n",
      "-1\n",
      "-1\n",
      "-1\n"
     ]
    },
    {
     "data": {
      "text/html": [
       "<html><script type=\"math/tex; mode=display\">\\newcommand{\\Bold}[1]{\\mathbf{#1}}11 \\sqrt{{\\gamma}}</script></html>"
      ],
      "text/latex": [
       "$$\\newcommand{\\Bold}[1]{\\mathbf{#1}}11 \\sqrt{{\\gamma}}$$"
      ],
      "text/plain": [
       "11 sqrt(gamma)"
      ]
     },
     "metadata": {},
     "output_type": "display_data"
    },
    {
     "name": "stdout",
     "output_type": "stream",
     "text": [
      "-1\n",
      "-1\n",
      "-1\n",
      "-1\n"
     ]
    },
    {
     "data": {
      "text/html": [
       "<html><script type=\"math/tex; mode=display\">\\newcommand{\\Bold}[1]{\\mathbf{#1}}12 \\sqrt{{\\kappa_b}}</script></html>"
      ],
      "text/latex": [
       "$$\\newcommand{\\Bold}[1]{\\mathbf{#1}}12 \\sqrt{{\\kappa_b}}$$"
      ],
      "text/plain": [
       "12 sqrt(kappa_b)"
      ]
     },
     "metadata": {},
     "output_type": "display_data"
    },
    {
     "name": "stdout",
     "output_type": "stream",
     "text": [
      "-2\n",
      "-1\n",
      "-1\n",
      "-2\n",
      "-1\n",
      "-1\n",
      "-1\n",
      "-1\n"
     ]
    }
   ],
   "source": [
    "mx = -100   #maximum value of exponent\n",
    "m = 1       #exponent of detunings\n",
    "\n",
    "phival = 0 * np.pi \n",
    "R_fval = 1\n",
    "gammaval = 1\n",
    "kappa_cval = 1\n",
    "kappa_bval = 1\n",
    "gamma_fval = gammaval\n",
    "gamma_gval = gammaval\n",
    "DEgval = 1\n",
    "Deg2val = DEgval*minsolD2  #*0.99999\n",
    "Deg1val = DEgval*minsolD1\n",
    "\n",
    "for lindop in range(13):\n",
    "    show(lindop,eff_lind_coeff[lindop]  )\n",
    "    pos = 0\n",
    "    more = True\n",
    "    while(more):\n",
    "        try: \n",
    "            err = eff_lind[lindop][pos].subs(kappa_c=kappa_cval,kappa_b=kappa_bval,Omega=1, R_f=R_fval,Deg1=Deg1val,Deg2=Deg2val,DEg=DEgval,gamma_g=gamma_gval,gamma=gammaval,gamma_f=gamma_fval, phi=phival)\n",
    "            err = err*conjugate(err)\n",
    "            err = err._mathematica_().Together()._sage_() \n",
    "            exp = obtain_expr_exp(err)\n",
    "            if exp > mx:\n",
    "                mx = exp\n",
    "            pos += 1\n",
    "            print(exp)\n",
    "        except IndexError:\n",
    "            more = False"
   ]
  },
  {
   "cell_type": "code",
   "execution_count": 327,
   "id": "805c13ca",
   "metadata": {},
   "outputs": [
    {
     "name": "stdout",
     "output_type": "stream",
     "text": [
      "symround: Deleted coefficient 5.6e-22\n",
      "symround: Deleted coefficient -2.2e-22\n",
      "symround: Deleted coefficient -5.6e-22\n",
      "symround: Deleted coefficient -2.2e-22\n"
     ]
    },
    {
     "data": {
      "text/html": [
       "<html><script type=\"math/tex; mode=display\">\\newcommand{\\Bold}[1]{\\mathbf{#1}}\\frac{0.0020 \\, {\\left(C^{11} + 6.4i \\, C^{10.} - 15. \\, C^{10} - 8.2i \\, C^{9.5} - 25 \\, C^{9} - 56 i \\, C^{8.5} + 45 \\, C^{8} + 6.4i \\, C^{7.5} + 14. \\, C^{7} + 9.1i \\, C^{6.5} + 0.00066 \\, C^{6} + 1.8i \\, C^{5.5} - 0.46 \\, C^{5} + 0.11i \\, C^{4.5} - 0.064 \\, C^{4} - 0.0019i \\, C^{3.5} - 0.0034 \\, C^{3} - 0.00051i \\, C^{2.5} - 0.000046 \\, C^{2} - 0.000015i \\, C^{1.5} + \\left(9.7 \\times 10^{-7}\\right) \\, C\\right)} {\\left(C^{11} - 6.4i \\, C^{10.} - 15. \\, C^{10} + 8.2i \\, C^{9.5} - 25 \\, C^{9} + 56 i \\, C^{8.5} + 45 \\, C^{8} - 6.4i \\, C^{7.5} + 14. \\, C^{7} - 9.1i \\, C^{6.5} + 0.00066 \\, C^{6} - 1.8i \\, C^{5.5} - 0.46 \\, C^{5} - 0.11i \\, C^{4.5} - 0.064 \\, C^{4} + 0.0019i \\, C^{3.5} - 0.0034 \\, C^{3} + 0.00051i \\, C^{2.5} - 0.000046 \\, C^{2} + 0.000015i \\, C^{1.5} + \\left(9.7 \\times 10^{-7}\\right) \\, C\\right)} C^{8}}{{\\left(C^{9.5} + 3.6i \\, C^{9} - 3.7 \\, C^{8.5} + 0.87i \\, C^{8} - 3.9 \\, C^{7.5} - 2.1i \\, C^{7} - 0.26 \\, C^{6.5} - 0.50i \\, C^{6} + 0.082 \\, C^{5.5} - 0.033i \\, C^{5} + 0.010 \\, C^{4.5} - 0.00019i \\, C^{4} + 0.00031 \\, C^{3.5} + 0.000025i \\, C^{3}\\right)} {\\left(C^{9.5} - 3.6i \\, C^{9} - 3.7 \\, C^{8.5} - 0.87i \\, C^{8} - 3.9 \\, C^{7.5} + 2.1i \\, C^{7} - 0.26 \\, C^{6.5} + 0.50i \\, C^{6} + 0.082 \\, C^{5.5} + 0.033i \\, C^{5} + 0.010 \\, C^{4.5} + 0.00019i \\, C^{4} + 0.00031 \\, C^{3.5} - 0.000025i \\, C^{3}\\right)} {\\left(C^{3} + 2.2i \\, C^{2.5} - 0.99 \\, C^{2} + 0.49i \\, C^{1.5} - 0.21 \\, C + 0.026i \\, {\\rm Sqrt}\\left(C\\right) - 0.010\\right)}^{2} {\\left(C^{3} - 2.2i \\, C^{2.5} - 0.99 \\, C^{2} - 0.49i \\, C^{1.5} - 0.21 \\, C - 0.026i \\, {\\rm Sqrt}\\left(C\\right) - 0.010\\right)}^{2}}</script></html>"
      ],
      "text/latex": [
       "$$\\newcommand{\\Bold}[1]{\\mathbf{#1}}\\frac{0.0020 \\, {\\left(C^{11} + 6.4i \\, C^{10.} - 15. \\, C^{10} - 8.2i \\, C^{9.5} - 25 \\, C^{9} - 56 i \\, C^{8.5} + 45 \\, C^{8} + 6.4i \\, C^{7.5} + 14. \\, C^{7} + 9.1i \\, C^{6.5} + 0.00066 \\, C^{6} + 1.8i \\, C^{5.5} - 0.46 \\, C^{5} + 0.11i \\, C^{4.5} - 0.064 \\, C^{4} - 0.0019i \\, C^{3.5} - 0.0034 \\, C^{3} - 0.00051i \\, C^{2.5} - 0.000046 \\, C^{2} - 0.000015i \\, C^{1.5} + \\left(9.7 \\times 10^{-7}\\right) \\, C\\right)} {\\left(C^{11} - 6.4i \\, C^{10.} - 15. \\, C^{10} + 8.2i \\, C^{9.5} - 25 \\, C^{9} + 56 i \\, C^{8.5} + 45 \\, C^{8} - 6.4i \\, C^{7.5} + 14. \\, C^{7} - 9.1i \\, C^{6.5} + 0.00066 \\, C^{6} - 1.8i \\, C^{5.5} - 0.46 \\, C^{5} - 0.11i \\, C^{4.5} - 0.064 \\, C^{4} + 0.0019i \\, C^{3.5} - 0.0034 \\, C^{3} + 0.00051i \\, C^{2.5} - 0.000046 \\, C^{2} + 0.000015i \\, C^{1.5} + \\left(9.7 \\times 10^{-7}\\right) \\, C\\right)} C^{8}}{{\\left(C^{9.5} + 3.6i \\, C^{9} - 3.7 \\, C^{8.5} + 0.87i \\, C^{8} - 3.9 \\, C^{7.5} - 2.1i \\, C^{7} - 0.26 \\, C^{6.5} - 0.50i \\, C^{6} + 0.082 \\, C^{5.5} - 0.033i \\, C^{5} + 0.010 \\, C^{4.5} - 0.00019i \\, C^{4} + 0.00031 \\, C^{3.5} + 0.000025i \\, C^{3}\\right)} {\\left(C^{9.5} - 3.6i \\, C^{9} - 3.7 \\, C^{8.5} - 0.87i \\, C^{8} - 3.9 \\, C^{7.5} + 2.1i \\, C^{7} - 0.26 \\, C^{6.5} + 0.50i \\, C^{6} + 0.082 \\, C^{5.5} + 0.033i \\, C^{5} + 0.010 \\, C^{4.5} + 0.00019i \\, C^{4} + 0.00031 \\, C^{3.5} - 0.000025i \\, C^{3}\\right)} {\\left(C^{3} + 2.2i \\, C^{2.5} - 0.99 \\, C^{2} + 0.49i \\, C^{1.5} - 0.21 \\, C + 0.026i \\, {\\rm Sqrt}\\left(C\\right) - 0.010\\right)}^{2} {\\left(C^{3} - 2.2i \\, C^{2.5} - 0.99 \\, C^{2} - 0.49i \\, C^{1.5} - 0.21 \\, C - 0.026i \\, {\\rm Sqrt}\\left(C\\right) - 0.010\\right)}^{2}}$$"
      ],
      "text/plain": [
       "0.0020*(C^11 + 6.4*I*C^10. - 15.*C^10 - 8.2*I*C^9.5 - 25*C^9 - 56*I*C^8.5 + 45*C^8 + 6.4*I*C^7.5 + 14.*C^7 + 9.1*I*C^6.5 + 0.00066*C^6 + 1.8*I*C^5.5 - 0.46*C^5 + 0.11*I*C^4.5 - 0.064*C^4 - 0.0019*I*C^3.5 - 0.0034*C^3 - 0.00051*I*C^2.5 - 0.000046*C^2 - 0.000015*I*C^1.5 + (9.7e-7)*C)*(C^11 - 6.4*I*C^10. - 15.*C^10 + 8.2*I*C^9.5 - 25*C^9 + 56*I*C^8.5 + 45*C^8 - 6.4*I*C^7.5 + 14.*C^7 - 9.1*I*C^6.5 + 0.00066*C^6 - 1.8*I*C^5.5 - 0.46*C^5 - 0.11*I*C^4.5 - 0.064*C^4 + 0.0019*I*C^3.5 - 0.0034*C^3 + 0.00051*I*C^2.5 - 0.000046*C^2 + 0.000015*I*C^1.5 + (9.7e-7)*C)*C^8/((C^9.5 + 3.6*I*C^9 - 3.7*C^8.5 + 0.87*I*C^8 - 3.9*C^7.5 - 2.1*I*C^7 - 0.26*C^6.5 - 0.50*I*C^6 + 0.082*C^5.5 - 0.033*I*C^5 + 0.010*C^4.5 - 0.00019*I*C^4 + 0.00031*C^3.5 + 0.000025*I*C^3)*(C^9.5 - 3.6*I*C^9 - 3.7*C^8.5 - 0.87*I*C^8 - 3.9*C^7.5 + 2.1*I*C^7 - 0.26*C^6.5 + 0.50*I*C^6 + 0.082*C^5.5 + 0.033*I*C^5 + 0.010*C^4.5 + 0.00019*I*C^4 + 0.00031*C^3.5 - 0.000025*I*C^3)*(C^3 + 2.2*I*C^2.5 - 0.99*C^2 + 0.49*I*C^1.5 - 0.21*C + 0.026*I*Sqrt(C) - 0.010)^2*(C^3 - 2.2*I*C^2.5 - 0.99*C^2 - 0.49*I*C^1.5 - 0.21*C - 0.026*I*Sqrt(C) - 0.010)^2)"
      ]
     },
     "metadata": {},
     "output_type": "display_data"
    }
   ],
   "source": [
    "show(symround(err))"
   ]
  },
  {
   "cell_type": "markdown",
   "id": "2fd761ce",
   "metadata": {},
   "source": [
    "# $H_{eff}$ elements"
   ]
  },
  {
   "cell_type": "code",
   "execution_count": 359,
   "id": "8cd0ec66",
   "metadata": {},
   "outputs": [],
   "source": [
    "a = eff_hamiltonian_tayl[0,0]\n",
    "#a = symround( MMA_simplify(a,full=False) ,digits = 14)\n",
    "b = eff_hamiltonian_tayl[1,1]\n",
    "#b = symround(MMA_simplify(b,full=False),digits = 14)\n",
    "c = eff_hamiltonian_tayl[3,3]\n",
    "#c = symround(MMA_simplify(c,full=False),digits = 14)\n",
    "d = eff_hamiltonian_tayl[4,4]\n",
    "#d = symround(MMA_simplify(d,full=False),digits = 14)\n",
    "e = eff_hamiltonian_tayl[5,5]\n",
    "#e = symround(MMA_simplify(e,full=False),digits = 14)\n",
    "f = eff_hamiltonian_tayl[7,7]\n",
    "#f = symround(MMA_simplify(f,full=False),digits = 14)\n",
    "a = (a + conjugate(a)).subs(Deg1=Deg1val,Deg2=Deg2val,DEg=DEgval,phi=phival,R_f=R_fval ,gamma_g = gamma_gval , gamma_f = gamma_fval)._mathematica_().Together()._sage_()\n",
    "b = (b + conjugate(b)).subs(Deg1=Deg1val,Deg2=Deg2val,DEg=DEgval,phi=phival,R_f=R_fval ,gamma_g = gamma_gval , gamma_f = gamma_fval)._mathematica_().Together()._sage_()\n",
    "c = (c + conjugate(c)).subs(Deg1=Deg1val,Deg2=Deg2val,DEg=DEgval,phi=phival,R_f=R_fval ,gamma_g = gamma_gval , gamma_f = gamma_fval)._mathematica_().Together()._sage_()\n",
    "d = (d + conjugate(d)).subs(Deg1=Deg1val,Deg2=Deg2val,DEg=DEgval,phi=phival,R_f=R_fval ,gamma_g = gamma_gval , gamma_f = gamma_fval)._mathematica_().Together()._sage_()\n",
    "e = (e + conjugate(e)).subs(Deg1=Deg1val,Deg2=Deg2val,DEg=DEgval,phi=phival,R_f=R_fval ,gamma_g = gamma_gval , gamma_f = gamma_fval)._mathematica_().Together()._sage_()\n",
    "f = (f + conjugate(f)).subs(Deg1=Deg1val,Deg2=Deg2val,DEg=DEgval,phi=phival,R_f=R_fval ,gamma_g = gamma_gval , gamma_f = gamma_fval)._mathematica_().Together()._sage_()"
   ]
  },
  {
   "cell_type": "code",
   "execution_count": 366,
   "id": "49cd9351",
   "metadata": {},
   "outputs": [
    {
     "name": "stdout",
     "output_type": "stream",
     "text": [
      "symround: Deleted coefficient -1.1e-18\n",
      "symround: Deleted coefficient -1.4e-19\n",
      "Numerator\n"
     ]
    },
    {
     "data": {
      "text/html": [
       "<html><script type=\"math/tex; mode=display\">\\newcommand{\\Bold}[1]{\\mathbf{#1}}177.84 \\, C^{9} + 579.94 \\, C^{8} + 618.86 \\, C^{7} + 248.50 \\, C^{6} + 49.950 \\, C^{5} + 5.6347 \\, C^{4} + 0.36168 \\, C^{3} + 0.012196 \\, C^{2} + 0.00016966 \\, C</script></html>"
      ],
      "text/latex": [
       "$$\\newcommand{\\Bold}[1]{\\mathbf{#1}}177.84 \\, C^{9} + 579.94 \\, C^{8} + 618.86 \\, C^{7} + 248.50 \\, C^{6} + 49.950 \\, C^{5} + 5.6347 \\, C^{4} + 0.36168 \\, C^{3} + 0.012196 \\, C^{2} + 0.00016966 \\, C$$"
      ],
      "text/plain": [
       "177.84*C^9 + 579.94*C^8 + 618.86*C^7 + 248.50*C^6 + 49.950*C^5 + 5.6347*C^4 + 0.36168*C^3 + 0.012196*C^2 + 0.00016966*C"
      ]
     },
     "metadata": {},
     "output_type": "display_data"
    },
    {
     "name": "stdout",
     "output_type": "stream",
     "text": [
      "\n",
      "\n",
      "Denominator\n",
      "symround: Deleted coefficient -1.1102e-16\n",
      "symround: Deleted coefficient -8.3267e-17\n"
     ]
    },
    {
     "data": {
      "text/html": [
       "<html><script type=\"math/tex; mode=display\">\\newcommand{\\Bold}[1]{\\mathbf{#1}}C^{10} + 3.2687 \\, C^{9} + 14.816 \\, C^{8} + 26.360 \\, C^{7} + 19.609 \\, C^{6} + 6.6269 \\, C^{5} + 1.1931 \\, C^{4} + 0.12294 \\, C^{3} + 0.0072814 \\, C^{2} + 0.00023054 \\, C + 3.0216 \\times 10^{-6}</script></html>"
      ],
      "text/latex": [
       "$$\\newcommand{\\Bold}[1]{\\mathbf{#1}}C^{10} + 3.2687 \\, C^{9} + 14.816 \\, C^{8} + 26.360 \\, C^{7} + 19.609 \\, C^{6} + 6.6269 \\, C^{5} + 1.1931 \\, C^{4} + 0.12294 \\, C^{3} + 0.0072814 \\, C^{2} + 0.00023054 \\, C + 3.0216 \\times 10^{-6}$$"
      ],
      "text/plain": [
       "C^10 + 3.2687*C^9 + 14.816*C^8 + 26.360*C^7 + 19.609*C^6 + 6.6269*C^5 + 1.1931*C^4 + 0.12294*C^3 + 0.0072814*C^2 + 0.00023054*C + 3.0216e-6"
      ]
     },
     "metadata": {},
     "output_type": "display_data"
    }
   ],
   "source": [
    "x = symround(b.subs(kappa_c=kappa_cval,kappa_b=kappa_bval,Omega=1, R_f=R_fval,Deg1=Deg1val,Deg2=Deg2val,DEg=DEgval,gamma_g=gamma_gval,gamma=gammaval,gamma_f=gamma_fval, phi=phival))\n",
    "x = x._mathematica_().Together().sage()\n",
    "print('Numerator')\n",
    "show(symround(x._mathematica_().Numerator()._sage_().expand(),digits=5))\n",
    "print('\\n\\nDenominator')\n",
    "show(symround(x._mathematica_().Denominator()._sage_().expand(),digits=5))"
   ]
  },
  {
   "cell_type": "markdown",
   "id": "d6027abb",
   "metadata": {},
   "source": [
    "# ---------------------------------------------\n",
    "\n",
    "#  Try $D2 =0$"
   ]
  },
  {
   "cell_type": "code",
   "execution_count": 68,
   "id": "3cd6e989",
   "metadata": {},
   "outputs": [
    {
     "name": "stdout",
     "output_type": "stream",
     "text": [
      "symround: Deleted coefficient -8.5e-14\n"
     ]
    },
    {
     "data": {
      "text/html": [
       "<html><script type=\"math/tex; mode=display\">\\newcommand{\\Bold}[1]{\\mathbf{#1}}\\frac{1.00000000000000 \\, {\\Omega}^{2}}{C {{{\\Delta E}}^\\gamma} {\\gamma}} \\frac{1.00000000000000 \\, {\\Omega}^{2}}{C {{{\\Delta E}}^\\gamma} {\\gamma}} \\frac{1.00000000000000 \\, {\\Omega}^{2}}{C {{{\\Delta E}}^\\gamma} {\\gamma}} \\frac{1.00000000000000 \\, {\\Omega}^{2}}{C {{{\\Delta E}}^\\gamma} {\\gamma}} \\frac{1.00000000000000 \\, {\\Omega}^{2}}{C {{{\\Delta E}}^\\gamma} {\\gamma}} \\frac{{\\Omega}^{2} {\\left(-0.15i \\, e^{\\left(56 i \\, {\\phi}\\right)} + 3.4i \\, e^{\\left(52 i \\, {\\phi}\\right)} - 7.9i \\, e^{\\left(48 i \\, {\\phi}\\right)} - 150 i \\, e^{\\left(44 i \\, {\\phi}\\right)} + 150 i \\, e^{\\left(36 i \\, {\\phi}\\right)} + 7.9i \\, e^{\\left(32 i \\, {\\phi}\\right)} - 3.4i \\, e^{\\left(28 i \\, {\\phi}\\right)} + 0.15i \\, e^{\\left(24 i \\, {\\phi}\\right)}\\right)}}{C^{2} {{{\\Delta E}}^\\gamma}^{2} {\\gamma} {\\left(e^{\\left(56 i \\, {\\phi}\\right)} - 18. \\, e^{\\left(52 i \\, {\\phi}\\right)} - 64 \\, e^{\\left(48 i \\, {\\phi}\\right)} + 1232 \\, e^{\\left(44 i \\, {\\phi}\\right)} + 5184 \\, e^{\\left(40 i \\, {\\phi}\\right)} + 1232 \\, e^{\\left(36 i \\, {\\phi}\\right)} - 64 \\, e^{\\left(32 i \\, {\\phi}\\right)} - 18. \\, e^{\\left(28 i \\, {\\phi}\\right)} + e^{\\left(24 i \\, {\\phi}\\right)}\\right)}}</script></html>"
      ],
      "text/latex": [
       "$$\\newcommand{\\Bold}[1]{\\mathbf{#1}}\\frac{1.00000000000000 \\, {\\Omega}^{2}}{C {{{\\Delta E}}^\\gamma} {\\gamma}} \\frac{1.00000000000000 \\, {\\Omega}^{2}}{C {{{\\Delta E}}^\\gamma} {\\gamma}} \\frac{1.00000000000000 \\, {\\Omega}^{2}}{C {{{\\Delta E}}^\\gamma} {\\gamma}} \\frac{1.00000000000000 \\, {\\Omega}^{2}}{C {{{\\Delta E}}^\\gamma} {\\gamma}} \\frac{1.00000000000000 \\, {\\Omega}^{2}}{C {{{\\Delta E}}^\\gamma} {\\gamma}} \\frac{{\\Omega}^{2} {\\left(-0.15i \\, e^{\\left(56 i \\, {\\phi}\\right)} + 3.4i \\, e^{\\left(52 i \\, {\\phi}\\right)} - 7.9i \\, e^{\\left(48 i \\, {\\phi}\\right)} - 150 i \\, e^{\\left(44 i \\, {\\phi}\\right)} + 150 i \\, e^{\\left(36 i \\, {\\phi}\\right)} + 7.9i \\, e^{\\left(32 i \\, {\\phi}\\right)} - 3.4i \\, e^{\\left(28 i \\, {\\phi}\\right)} + 0.15i \\, e^{\\left(24 i \\, {\\phi}\\right)}\\right)}}{C^{2} {{{\\Delta E}}^\\gamma}^{2} {\\gamma} {\\left(e^{\\left(56 i \\, {\\phi}\\right)} - 18. \\, e^{\\left(52 i \\, {\\phi}\\right)} - 64 \\, e^{\\left(48 i \\, {\\phi}\\right)} + 1232 \\, e^{\\left(44 i \\, {\\phi}\\right)} + 5184 \\, e^{\\left(40 i \\, {\\phi}\\right)} + 1232 \\, e^{\\left(36 i \\, {\\phi}\\right)} - 64 \\, e^{\\left(32 i \\, {\\phi}\\right)} - 18. \\, e^{\\left(28 i \\, {\\phi}\\right)} + e^{\\left(24 i \\, {\\phi}\\right)}\\right)}}$$"
      ],
      "text/plain": [
       "1.00000000000000*Omega^2/(C*DEg*gamma) 1.00000000000000*Omega^2/(C*DEg*gamma) 1.00000000000000*Omega^2/(C*DEg*gamma) 1.00000000000000*Omega^2/(C*DEg*gamma) 1.00000000000000*Omega^2/(C*DEg*gamma) Omega^2*(-0.15*I*e^(56*I*phi) + 3.4*I*e^(52*I*phi) - 7.9*I*e^(48*I*phi) - 150*I*e^(44*I*phi) + 150*I*e^(36*I*phi) + 7.9*I*e^(32*I*phi) - 3.4*I*e^(28*I*phi) + 0.15*I*e^(24*I*phi))/(C^2*DEg^2*gamma*(e^(56*I*phi) - 18.*e^(52*I*phi) - 64*e^(48*I*phi) + 1232*e^(44*I*phi) + 5184*e^(40*I*phi) + 1232*e^(36*I*phi) - 64*e^(32*I*phi) - 18.*e^(28*I*phi) + e^(24*I*phi)))"
      ]
     },
     "metadata": {},
     "output_type": "display_data"
    }
   ],
   "source": [
    "a = eff_hamiltonian_tayl[0,0]\n",
    "#a = symround( MMA_simplify(a,full=False) ,digits = 14)\n",
    "b = eff_hamiltonian_tayl[1,1]\n",
    "#b = symround(MMA_simplify(b,full=False),digits = 14)\n",
    "c = eff_hamiltonian_tayl[3,3]\n",
    "#c = symround(MMA_simplify(c,full=False),digits = 14)\n",
    "d = eff_hamiltonian_tayl[4,4]\n",
    "#d = symround(MMA_simplify(d,full=False),digits = 14)\n",
    "e = eff_hamiltonian_tayl[5,5]\n",
    "#e = symround(MMA_simplify(e,full=False),digits = 14)\n",
    "f = eff_hamiltonian_tayl[7,7]\n",
    "#f = symround(MMA_simplify(f,full=False),digits = 14)\n",
    "\n",
    "\n",
    "#SUBSTITUTIONS\n",
    "phival = phi\n",
    "R_fval = 1\n",
    "gamma_fval = gamma\n",
    "gamma_gval = gamma\n",
    "Deg2val = 0\n",
    "\n",
    "\n",
    "#modify abcdef\n",
    "a = (a + conjugate(a)).subs(Deg2=Deg2val,phi=phival,R_f=R_fval ,gamma_g = gamma_gval , gamma_f = gamma_fval)._mathematica_().Together()._sage_()\n",
    "b = (b + conjugate(b)).subs(Deg2=Deg2val,phi=phival,R_f=R_fval ,gamma_g = gamma_gval , gamma_f = gamma_fval)._mathematica_().Together()._sage_()\n",
    "c = (c + conjugate(c)).subs(Deg2=Deg2val,phi=phival,R_f=R_fval ,gamma_g = gamma_gval , gamma_f = gamma_fval)._mathematica_().Together()._sage_()\n",
    "d = (d + conjugate(d)).subs(Deg2=Deg2val,phi=phival,R_f=R_fval ,gamma_g = gamma_gval , gamma_f = gamma_fval)._mathematica_().Together()._sage_()\n",
    "e = (e + conjugate(e)).subs(Deg2=Deg2val,phi=phival,R_f=R_fval ,gamma_g = gamma_gval , gamma_f = gamma_fval)._mathematica_().Together()._sage_()\n",
    "f = (f + conjugate(f)).subs(Deg2=Deg2val,phi=phival,R_f=R_fval ,gamma_g = gamma_gval , gamma_f = gamma_fval)._mathematica_().Together()._sage_()\n",
    "\n",
    "term_list = [a,b,c,d,e,f]\n",
    "index_list =[0,1,2,3,4,5]\n",
    "high_c_limit = [  ]\n",
    "\n",
    "#If we get error/division 0 modify this:\n",
    "err_term = 0\n",
    "\n",
    "for (i,term) in enumerate(term_list):\n",
    "    if i ==5 and err_term!=0:\n",
    "        err_term -= 1\n",
    "    num = term._mathematica_().Numerator().Collect('C')._sage_().operands()[err_term]\n",
    "    \n",
    "    try:\n",
    "        den = term._mathematica_().Denominator().Collect('C')._sage_().operands()[0]\n",
    "    except:\n",
    "        den= term._mathematica_().Denominator()._sage_().expand()._mathematica_().Collect('C')._sage_().operands()[0]\n",
    "    tayl = num/den\n",
    "    tayl = MMA_simplify(tayl,full=True)\n",
    "    high_c_limit.append(tayl)\n",
    "    \n",
    "a = high_c_limit[0]\n",
    "b = high_c_limit[1]\n",
    "c = high_c_limit[2]\n",
    "d = high_c_limit[3]\n",
    "e = high_c_limit[4]\n",
    "f = high_c_limit[5]\n",
    "\n",
    "show(a,b,c,d,e,symround(f))"
   ]
  },
  {
   "cell_type": "code",
   "execution_count": 62,
   "id": "41f22d9c",
   "metadata": {},
   "outputs": [
    {
     "name": "stdout",
     "output_type": "stream",
     "text": [
      "symround: Deleted coefficient -8.5e-14\n"
     ]
    },
    {
     "data": {
      "text/html": [
       "<html><script type=\"math/tex; mode=display\">\\newcommand{\\Bold}[1]{\\mathbf{#1}}\\frac{{\\Omega}^{2} {\\left(-0.15i \\, e^{\\left(56 i \\, {\\phi}\\right)} + 3.4i \\, e^{\\left(52 i \\, {\\phi}\\right)} - 7.9i \\, e^{\\left(48 i \\, {\\phi}\\right)} - 150 i \\, e^{\\left(44 i \\, {\\phi}\\right)} + 150 i \\, e^{\\left(36 i \\, {\\phi}\\right)} + 7.9i \\, e^{\\left(32 i \\, {\\phi}\\right)} - 3.4i \\, e^{\\left(28 i \\, {\\phi}\\right)} + 0.15i \\, e^{\\left(24 i \\, {\\phi}\\right)}\\right)}}{C^{2} {{{\\Delta E}}^\\gamma}^{2} {\\gamma} {\\left(e^{\\left(56 i \\, {\\phi}\\right)} - 18. \\, e^{\\left(52 i \\, {\\phi}\\right)} - 64 \\, e^{\\left(48 i \\, {\\phi}\\right)} + 1232 \\, e^{\\left(44 i \\, {\\phi}\\right)} + 5184 \\, e^{\\left(40 i \\, {\\phi}\\right)} + 1232 \\, e^{\\left(36 i \\, {\\phi}\\right)} - 64 \\, e^{\\left(32 i \\, {\\phi}\\right)} - 18. \\, e^{\\left(28 i \\, {\\phi}\\right)} + e^{\\left(24 i \\, {\\phi}\\right)}\\right)}}</script></html>"
      ],
      "text/latex": [
       "$$\\newcommand{\\Bold}[1]{\\mathbf{#1}}\\frac{{\\Omega}^{2} {\\left(-0.15i \\, e^{\\left(56 i \\, {\\phi}\\right)} + 3.4i \\, e^{\\left(52 i \\, {\\phi}\\right)} - 7.9i \\, e^{\\left(48 i \\, {\\phi}\\right)} - 150 i \\, e^{\\left(44 i \\, {\\phi}\\right)} + 150 i \\, e^{\\left(36 i \\, {\\phi}\\right)} + 7.9i \\, e^{\\left(32 i \\, {\\phi}\\right)} - 3.4i \\, e^{\\left(28 i \\, {\\phi}\\right)} + 0.15i \\, e^{\\left(24 i \\, {\\phi}\\right)}\\right)}}{C^{2} {{{\\Delta E}}^\\gamma}^{2} {\\gamma} {\\left(e^{\\left(56 i \\, {\\phi}\\right)} - 18. \\, e^{\\left(52 i \\, {\\phi}\\right)} - 64 \\, e^{\\left(48 i \\, {\\phi}\\right)} + 1232 \\, e^{\\left(44 i \\, {\\phi}\\right)} + 5184 \\, e^{\\left(40 i \\, {\\phi}\\right)} + 1232 \\, e^{\\left(36 i \\, {\\phi}\\right)} - 64 \\, e^{\\left(32 i \\, {\\phi}\\right)} - 18. \\, e^{\\left(28 i \\, {\\phi}\\right)} + e^{\\left(24 i \\, {\\phi}\\right)}\\right)}}$$"
      ],
      "text/plain": [
       "Omega^2*(-0.15*I*e^(56*I*phi) + 3.4*I*e^(52*I*phi) - 7.9*I*e^(48*I*phi) - 150*I*e^(44*I*phi) + 150*I*e^(36*I*phi) + 7.9*I*e^(32*I*phi) - 3.4*I*e^(28*I*phi) + 0.15*I*e^(24*I*phi))/(C^2*DEg^2*gamma*(e^(56*I*phi) - 18.*e^(52*I*phi) - 64*e^(48*I*phi) + 1232*e^(44*I*phi) + 5184*e^(40*I*phi) + 1232*e^(36*I*phi) - 64*e^(32*I*phi) - 18.*e^(28*I*phi) + e^(24*I*phi)))"
      ]
     },
     "metadata": {},
     "output_type": "display_data"
    }
   ],
   "source": [
    "show(symround(MMA_simplify(f,full=True)))"
   ]
  },
  {
   "cell_type": "code",
   "execution_count": 50,
   "id": "d7a49e97",
   "metadata": {},
   "outputs": [
    {
     "name": "stdout",
     "output_type": "stream",
     "text": [
      "symround: Deleted coefficient 4.005934284325451e-32\n"
     ]
    },
    {
     "data": {
      "text/html": [
       "<html><script type=\"math/tex; mode=display\">\\newcommand{\\Bold}[1]{\\mathbf{#1}}-\\frac{26 \\, C^{3} {{{\\Delta E}}^\\gamma}^{2} {{{\\Delta e}}_{{  1}}^\\gamma}^{2} {\\gamma}}{{\\left({{{\\Delta E}}^\\gamma} - 0.032 \\, {{{\\Delta e}}_{{  1}}^\\gamma}\\right)} {\\Omega}^{2}}</script></html>"
      ],
      "text/latex": [
       "$$\\newcommand{\\Bold}[1]{\\mathbf{#1}}-\\frac{26 \\, C^{3} {{{\\Delta E}}^\\gamma}^{2} {{{\\Delta e}}_{{  1}}^\\gamma}^{2} {\\gamma}}{{\\left({{{\\Delta E}}^\\gamma} - 0.032 \\, {{{\\Delta e}}_{{  1}}^\\gamma}\\right)} {\\Omega}^{2}}$$"
      ],
      "text/plain": [
       "-26*C^3*DEg^2*Deg1^2*gamma/((DEg - 0.032*Deg1)*Omega^2)"
      ]
     },
     "metadata": {},
     "output_type": "display_data"
    }
   ],
   "source": [
    "#tg_calculation\n",
    "t_den = (a + e - b - d)._mathematica_().Together()._sage_()\n",
    "\n",
    "ttden = symround(t_den, show_del=True,digits=16  )\n",
    "numnum = 0\n",
    "dennum = 0\n",
    "\n",
    "tg = np.pi / ttden\n",
    "show(symround(MMA_simplify(tg,full=True).subs()))"
   ]
  },
  {
   "cell_type": "code",
   "execution_count": 51,
   "id": "72aa5e32",
   "metadata": {},
   "outputs": [
    {
     "name": "stdout",
     "output_type": "stream",
     "text": [
      "symround: Deleted coefficient 2.2204460492503e-16\n",
      "Finished!\n"
     ]
    },
    {
     "data": {
      "text/html": [
       "<html><script type=\"math/tex; mode=display\">\\newcommand{\\Bold}[1]{\\mathbf{#1}}-\\frac{3.6483 \\, {{{\\Delta E}}^\\gamma} {{{\\Delta e}}_{{  1}}^\\gamma}^{2}}{{{{\\Delta E}}^\\gamma} - 0.032258 \\, {{{\\Delta e}}_{{  1}}^\\gamma}}</script></html>"
      ],
      "text/latex": [
       "$$\\newcommand{\\Bold}[1]{\\mathbf{#1}}-\\frac{3.6483 \\, {{{\\Delta E}}^\\gamma} {{{\\Delta e}}_{{  1}}^\\gamma}^{2}}{{{{\\Delta E}}^\\gamma} - 0.032258 \\, {{{\\Delta e}}_{{  1}}^\\gamma}}$$"
      ],
      "text/plain": [
       "-3.6483*DEg*Deg1^2/(DEg - 0.032258*Deg1)"
      ]
     },
     "metadata": {},
     "output_type": "display_data"
    }
   ],
   "source": [
    "#cond1\n",
    "t_den = (a + c - 2*b )._mathematica_().Together()._sage_()\n",
    "\n",
    "ttden = symround(t_den, show_del=True,digits=14  )\n",
    "\n",
    "print('Finished!')\n",
    "\n",
    "cond1 = tg*ttden\n",
    "show(symround(MMA_simplify(cond1,full= not True).subs(),digits =5))"
   ]
  },
  {
   "cell_type": "code",
   "execution_count": 53,
   "id": "f8c5ff1d",
   "metadata": {},
   "outputs": [
    {
     "name": "stdout",
     "output_type": "stream",
     "text": [
      "symround: Deleted coefficient 1.1481063742006e-17\n"
     ]
    },
    {
     "data": {
      "text/html": [
       "<html><script type=\"math/tex; mode=display\">\\newcommand{\\Bold}[1]{\\mathbf{#1}}-\\frac{{\\Omega}^{2}}{C {{{\\Delta E}}^\\gamma} {\\gamma}}</script></html>"
      ],
      "text/latex": [
       "$$\\newcommand{\\Bold}[1]{\\mathbf{#1}}-\\frac{{\\Omega}^{2}}{C {{{\\Delta E}}^\\gamma} {\\gamma}}$$"
      ],
      "text/plain": [
       "-Omega^2/(C*DEg*gamma)"
      ]
     },
     "metadata": {},
     "output_type": "display_data"
    },
    {
     "data": {
      "text/html": [
       "<html><script type=\"math/tex; mode=display\">\\newcommand{\\Bold}[1]{\\mathbf{#1}}\\frac{25.943 \\, C^{2} {{{\\Delta E}}^\\gamma} {{{\\Delta e}}_{{  1}}^\\gamma}^{2}}{{{{\\Delta E}}^\\gamma} - 0.032258 \\, {{{\\Delta e}}_{{  1}}^\\gamma}}</script></html>"
      ],
      "text/latex": [
       "$$\\newcommand{\\Bold}[1]{\\mathbf{#1}}\\frac{25.943 \\, C^{2} {{{\\Delta E}}^\\gamma} {{{\\Delta e}}_{{  1}}^\\gamma}^{2}}{{{{\\Delta E}}^\\gamma} - 0.032258 \\, {{{\\Delta e}}_{{  1}}^\\gamma}}$$"
      ],
      "text/plain": [
       "25.943*C^2*DEg*Deg1^2/(DEg - 0.032258*Deg1)"
      ]
     },
     "metadata": {},
     "output_type": "display_data"
    }
   ],
   "source": [
    "# cond2\n",
    "t_den = (2*a - 2*b -d + f )._mathematica_().Together()._sage_()\n",
    "ttden = symround(t_den, show_del=True,digits=14 )\n",
    "\n",
    "taylnf = ttden\n",
    "show(symround(taylnf,show_del=False))\n",
    "\n",
    "cond2 = taylnf*tg\n",
    "cond2 = MMA_simplify(cond2,full=not True)\n",
    "show(symround(MMA_simplify(cond2,full= not True).subs(),digits =5))"
   ]
  },
  {
   "cell_type": "code",
   "execution_count": 54,
   "id": "e0f72da4",
   "metadata": {},
   "outputs": [
    {
     "data": {
      "text/html": [
       "<html><script type=\"math/tex; mode=display\">\\newcommand{\\Bold}[1]{\\mathbf{#1}}-\\frac{3.7 \\, {{{\\Delta E}}^\\gamma} {{{\\Delta e}}_{{  1}}^\\gamma}^{2}}{{{{\\Delta E}}^\\gamma} - 0.032 \\, {{{\\Delta e}}_{{  1}}^\\gamma}}</script></html>"
      ],
      "text/latex": [
       "$$\\newcommand{\\Bold}[1]{\\mathbf{#1}}-\\frac{3.7 \\, {{{\\Delta E}}^\\gamma} {{{\\Delta e}}_{{  1}}^\\gamma}^{2}}{{{{\\Delta E}}^\\gamma} - 0.032 \\, {{{\\Delta e}}_{{  1}}^\\gamma}}$$"
      ],
      "text/plain": [
       "-3.7*DEg*Deg1^2/(DEg - 0.032*Deg1)"
      ]
     },
     "metadata": {},
     "output_type": "display_data"
    },
    {
     "name": "stdout",
     "output_type": "stream",
     "text": [
      "\n",
      "\n",
      "\n",
      "\n"
     ]
    },
    {
     "data": {
      "text/html": [
       "<html><script type=\"math/tex; mode=display\">\\newcommand{\\Bold}[1]{\\mathbf{#1}}\\frac{26 \\, C^{2} {{{\\Delta E}}^\\gamma} {{{\\Delta e}}_{{  1}}^\\gamma}^{2}}{{{{\\Delta E}}^\\gamma} - 0.032 \\, {{{\\Delta e}}_{{  1}}^\\gamma}}</script></html>"
      ],
      "text/latex": [
       "$$\\newcommand{\\Bold}[1]{\\mathbf{#1}}\\frac{26 \\, C^{2} {{{\\Delta E}}^\\gamma} {{{\\Delta e}}_{{  1}}^\\gamma}^{2}}{{{{\\Delta E}}^\\gamma} - 0.032 \\, {{{\\Delta e}}_{{  1}}^\\gamma}}$$"
      ],
      "text/plain": [
       "26*C^2*DEg*Deg1^2/(DEg - 0.032*Deg1)"
      ]
     },
     "metadata": {},
     "output_type": "display_data"
    }
   ],
   "source": [
    "cond1 = MMA_simplify(cond1,full=True)\n",
    "show(symround(cond1))\n",
    "print('\\n\\n\\n')\n",
    "cond2 = MMA_simplify(cond2,full=True)\n",
    "show(symround(cond2))"
   ]
  },
  {
   "cell_type": "code",
   "execution_count": 55,
   "id": "066ffd2f",
   "metadata": {},
   "outputs": [],
   "source": [
    "var('D1', domain='positive',latex_name='D_1')\n",
    "var('D2', domain='positive',latex_name='D_2')\n",
    "cond1sub = cond1.subs(Deg1 = DEg *D1 , Deg2 = DEg *D2 )\n",
    "cond1sub = MMA_simplify(cond1sub,full=True)\n",
    "cond2sub = cond2.subs(Deg1 = DEg *D1 , Deg2 = DEg *D2 )\n",
    "cond2sub = MMA_simplify(cond2sub,full=True)"
   ]
  },
  {
   "cell_type": "code",
   "execution_count": 56,
   "id": "e570441e",
   "metadata": {},
   "outputs": [
    {
     "data": {
      "text/html": [
       "<html><script type=\"math/tex; mode=display\">\\newcommand{\\Bold}[1]{\\mathbf{#1}}\\frac{113 \\, {D_1}^{2} {{{\\Delta E}}^\\gamma}^{2}}{{D_1} - 31}</script></html>"
      ],
      "text/latex": [
       "$$\\newcommand{\\Bold}[1]{\\mathbf{#1}}\\frac{113 \\, {D_1}^{2} {{{\\Delta E}}^\\gamma}^{2}}{{D_1} - 31}$$"
      ],
      "text/plain": [
       "113*D1^2*DEg^2/(D1 - 31)"
      ]
     },
     "metadata": {},
     "output_type": "display_data"
    },
    {
     "data": {
      "text/html": [
       "<html><script type=\"math/tex; mode=display\">\\newcommand{\\Bold}[1]{\\mathbf{#1}}-\\frac{808 \\, C^{2} {D_1}^{2} {{{\\Delta E}}^\\gamma}^{2}}{{D_1} - 31}</script></html>"
      ],
      "text/latex": [
       "$$\\newcommand{\\Bold}[1]{\\mathbf{#1}}-\\frac{808 \\, C^{2} {D_1}^{2} {{{\\Delta E}}^\\gamma}^{2}}{{D_1} - 31}$$"
      ],
      "text/plain": [
       "-808*C^2*D1^2*DEg^2/(D1 - 31)"
      ]
     },
     "metadata": {},
     "output_type": "display_data"
    }
   ],
   "source": [
    "show(symround(cond1sub._mathematica_().Together().Collect('D_1')._sage_()))\n",
    "\n",
    "show(symround(cond2sub))"
   ]
  },
  {
   "cell_type": "code",
   "execution_count": 58,
   "id": "9f9360b5",
   "metadata": {},
   "outputs": [
    {
     "data": {
      "text/html": [
       "<html><script type=\"math/tex; mode=display\">\\newcommand{\\Bold}[1]{\\mathbf{#1}}{{{\\Delta E}}^\\gamma} = \\frac{9 \\, \\sqrt{\\frac{1629300866482}{2375520663330751} \\, {D_1} k - \\frac{1629300866482}{76629698817121} \\, k}}{{D_1}}</script></html>"
      ],
      "text/latex": [
       "$$\\newcommand{\\Bold}[1]{\\mathbf{#1}}{{{\\Delta E}}^\\gamma} = \\frac{9 \\, \\sqrt{\\frac{1629300866482}{2375520663330751} \\, {D_1} k - \\frac{1629300866482}{76629698817121} \\, k}}{{D_1}}$$"
      ],
      "text/plain": [
       "DEg == 9*sqrt(1629300866482/2375520663330751*D1*k - 1629300866482/76629698817121*k)/D1"
      ]
     },
     "metadata": {},
     "output_type": "display_data"
    },
    {
     "data": {
      "text/html": [
       "<html><script type=\"math/tex; mode=display\">\\newcommand{\\Bold}[1]{\\mathbf{#1}}-44.6804288510549 \\, C^{2} k = 2 \\, \\pi n</script></html>"
      ],
      "text/latex": [
       "$$\\newcommand{\\Bold}[1]{\\mathbf{#1}}-44.6804288510549 \\, C^{2} k = 2 \\, \\pi n$$"
      ],
      "text/plain": [
       "-44.6804288510549*C^2*k == 2*pi*n"
      ]
     },
     "metadata": {},
     "output_type": "display_data"
    },
    {
     "data": {
      "text/plain": [
       "'\\nmn = 10\\nmnk = 0\\nfor kk in range(100,1000):\\n    #val = (cond2simp/(2*np.pi)).subs(C=Cval,k=-kk).n(digits=14)\\n    val = np.mod((abs(cond2simp.subs(C=Cval,k=-kk).n(digits=14))) , 2*np.pi)    \\n    #print(val,kk,cond2simp.subs(C=Cval,k=-kk).n(digits=14))\\n    if val > 0.5:\\n        val = 1-val\\n    if val<mn:\\n        mn = val\\n        mnk=-kk\\n        print(val,kk,cond2simp.subs(C=Cval,k=-kk).n(digits=14))\\n        '"
      ]
     },
     "execution_count": 58,
     "metadata": {},
     "output_type": "execute_result"
    }
   ],
   "source": [
    "var('k',domain='integer')\n",
    "eq = cond1sub == 2*k*np.pi\n",
    "\n",
    "solDEg = solve(eq,DEg)[0]\n",
    "show(solDEg)\n",
    "solDEg = solDEg.rhs().simplify_full()\n",
    "\n",
    "cond2simp = MMA_simplify( cond2sub.subs(DEg=solDEg) )\n",
    "\n",
    "#show(cond2simp == 2*var('n')*pi)\n",
    "\n",
    "#manual change:\n",
    "cond2simp = cond2simp.numerator()/(D1-31)\n",
    "\n",
    "show(cond2simp == 2*var('n')*pi)\n",
    "\n",
    "eq = cond2simp.subs(k=1) /(2*np.pi) == -70000\n",
    "\n",
    "solC = solve(eq,C)[0].rhs().n(digits=14)\n",
    "\n",
    "\n",
    "\n",
    "\n",
    "Cval=1000\n",
    "\n",
    "'''\n",
    "mn = 10\n",
    "mnk = 0\n",
    "for kk in range(100,1000):\n",
    "    #val = (cond2simp/(2*np.pi)).subs(C=Cval,k=-kk).n(digits=14)\n",
    "    val = np.mod((abs(cond2simp.subs(C=Cval,k=-kk).n(digits=14))) , 2*np.pi)    \n",
    "    #print(val,kk,cond2simp.subs(C=Cval,k=-kk).n(digits=14))\n",
    "    if val > 0.5:\n",
    "        val = 1-val\n",
    "    if val<mn:\n",
    "        mn = val\n",
    "        mnk=-kk\n",
    "        print(val,kk,cond2simp.subs(C=Cval,k=-kk).n(digits=14))\n",
    "        '''"
   ]
  },
  {
   "cell_type": "code",
   "execution_count": 17,
   "id": "99565a5e",
   "metadata": {},
   "outputs": [
    {
     "name": "stdout",
     "output_type": "stream",
     "text": [
      "0.11111111121135764 1\n",
      "0.1111111103091389 8\n",
      "9.313225746154785e-10 9\n"
     ]
    }
   ],
   "source": [
    "#manual\n",
    "mn = 10\n",
    "mnk = 0\n",
    "for kk in range(1,1000):\n",
    "    val = 44.6804288510549 * 100^2 * kk / (2*np.pi)\n",
    "    val = np.mod(val , 1) \n",
    "\n",
    "    if val > 0.5:\n",
    "        val = 1-val\n",
    "    if val<mn:\n",
    "        mn = val\n",
    "        mnk=-kk\n",
    "        print(val,kk)     \n"
   ]
  },
  {
   "cell_type": "code",
   "execution_count": 29,
   "id": "3e154ce3",
   "metadata": {},
   "outputs": [],
   "source": [
    "mnk = -1\n",
    "Cval = sqrt( 2*np.pi/44.6804288510549 * 10^6 )"
   ]
  },
  {
   "cell_type": "code",
   "execution_count": 30,
   "id": "5f1368ca",
   "metadata": {},
   "outputs": [
    {
     "data": {
      "text/html": [
       "<html><script type=\"math/tex; mode=display\">\\newcommand{\\Bold}[1]{\\mathbf{#1}}C = 375.000000000000</script></html>"
      ],
      "text/latex": [
       "$$\\newcommand{\\Bold}[1]{\\mathbf{#1}}C = 375.000000000000$$"
      ],
      "text/plain": [
       "C == 375.000000000000"
      ]
     },
     "metadata": {},
     "output_type": "display_data"
    },
    {
     "data": {
      "text/html": [
       "<html><script type=\"math/tex; mode=display\">\\newcommand{\\Bold}[1]{\\mathbf{#1}}k = \\left(-1\\right)</script></html>"
      ],
      "text/latex": [
       "$$\\newcommand{\\Bold}[1]{\\mathbf{#1}}k = \\left(-1\\right)$$"
      ],
      "text/plain": [
       "k == -1"
      ]
     },
     "metadata": {},
     "output_type": "display_data"
    }
   ],
   "source": [
    "show(C==Cval)\n",
    "show(k==mnk)"
   ]
  },
  {
   "cell_type": "code",
   "execution_count": 31,
   "id": "84f934e0",
   "metadata": {},
   "outputs": [
    {
     "data": {
      "text/html": [
       "<html><script type=\"math/tex; mode=display\">\\newcommand{\\Bold}[1]{\\mathbf{#1}}{D_1} = 5</script></html>"
      ],
      "text/latex": [
       "$$\\newcommand{\\Bold}[1]{\\mathbf{#1}}{D_1} = 5$$"
      ],
      "text/plain": [
       "D1 == 5"
      ]
     },
     "metadata": {},
     "output_type": "display_data"
    },
    {
     "data": {
      "text/html": [
       "<html><script type=\"math/tex; mode=display\">\\newcommand{\\Bold}[1]{\\mathbf{#1}}{{{\\Delta E}}^\\gamma} = 0.240370085030933</script></html>"
      ],
      "text/latex": [
       "$$\\newcommand{\\Bold}[1]{\\mathbf{#1}}{{{\\Delta E}}^\\gamma} = 0.240370085030933$$"
      ],
      "text/plain": [
       "DEg == 0.240370085030933"
      ]
     },
     "metadata": {},
     "output_type": "display_data"
    }
   ],
   "source": [
    "minsolD1 = 5\n",
    "minsolDEg = solDEg.subs(k=mnk,D1=minsolD1).n()\n",
    "show(D1 == minsolD1)\n",
    "show(DEg == minsolDEg)"
   ]
  },
  {
   "cell_type": "code",
   "execution_count": 45,
   "id": "6a390bc8",
   "metadata": {},
   "outputs": [
    {
     "ename": "ValueError",
     "evalue": "Variable 'D1' not found",
     "output_type": "error",
     "traceback": [
      "\u001b[0;31m---------------------------------------------------------------------------\u001b[0m",
      "\u001b[0;31mValueError\u001b[0m                                Traceback (most recent call last)",
      "\u001b[0;32m/opt/SageMath/SageMath/local/lib/python3.9/site-packages/sage/ext/fast_callable.pyx\u001b[0m in \u001b[0;36msage.ext.fast_callable.ExpressionTreeBuilder.var (build/cythonized/sage/ext/fast_callable.c:6739)\u001b[0;34m()\u001b[0m\n\u001b[1;32m    687\u001b[0m         \u001b[0;32mtry\u001b[0m\u001b[0;34m:\u001b[0m\u001b[0;34m\u001b[0m\u001b[0;34m\u001b[0m\u001b[0m\n\u001b[0;32m--> 688\u001b[0;31m             \u001b[0mind\u001b[0m \u001b[0;34m=\u001b[0m \u001b[0mself\u001b[0m\u001b[0;34m.\u001b[0m\u001b[0m_vars\u001b[0m\u001b[0;34m.\u001b[0m\u001b[0mindex\u001b[0m\u001b[0;34m(\u001b[0m\u001b[0mvar_name\u001b[0m\u001b[0;34m)\u001b[0m\u001b[0;34m\u001b[0m\u001b[0;34m\u001b[0m\u001b[0m\n\u001b[0m\u001b[1;32m    689\u001b[0m         \u001b[0;32mexcept\u001b[0m \u001b[0mValueError\u001b[0m\u001b[0;34m:\u001b[0m\u001b[0;34m\u001b[0m\u001b[0;34m\u001b[0m\u001b[0m\n",
      "\u001b[0;31mValueError\u001b[0m: 'D1' is not in list",
      "\nDuring handling of the above exception, another exception occurred:\n",
      "\u001b[0;31mValueError\u001b[0m                                Traceback (most recent call last)",
      "\u001b[0;32m<ipython-input-45-857c40ffdfad>\u001b[0m in \u001b[0;36m<module>\u001b[0;34m\u001b[0m\n\u001b[1;32m      2\u001b[0m \u001b[0mDEgval\u001b[0m \u001b[0;34m=\u001b[0m \u001b[0mInteger\u001b[0m\u001b[0;34m(\u001b[0m\u001b[0;36m10\u001b[0m\u001b[0;34m)\u001b[0m\u001b[0;34m\u001b[0m\u001b[0;34m\u001b[0m\u001b[0m\n\u001b[1;32m      3\u001b[0m \u001b[0mD2val\u001b[0m  \u001b[0;34m=\u001b[0m \u001b[0mInteger\u001b[0m\u001b[0;34m(\u001b[0m\u001b[0;36m0\u001b[0m\u001b[0;34m)\u001b[0m\u001b[0;34m\u001b[0m\u001b[0;34m\u001b[0m\u001b[0m\n\u001b[0;32m----> 4\u001b[0;31m \u001b[0mplot\u001b[0m\u001b[0;34m(\u001b[0m\u001b[0mcond1sub\u001b[0m\u001b[0;34m.\u001b[0m\u001b[0msubs\u001b[0m\u001b[0;34m(\u001b[0m\u001b[0mDEg\u001b[0m\u001b[0;34m=\u001b[0m\u001b[0mDEgval\u001b[0m\u001b[0;34m,\u001b[0m\u001b[0mD2\u001b[0m\u001b[0;34m=\u001b[0m\u001b[0mD2val\u001b[0m\u001b[0;34m)\u001b[0m\u001b[0;34m/\u001b[0m\u001b[0;34m(\u001b[0m\u001b[0mInteger\u001b[0m\u001b[0;34m(\u001b[0m\u001b[0;36m2\u001b[0m\u001b[0;34m)\u001b[0m\u001b[0;34m*\u001b[0m\u001b[0mnp\u001b[0m\u001b[0;34m.\u001b[0m\u001b[0mpi\u001b[0m\u001b[0;34m)\u001b[0m\u001b[0;34m,\u001b[0m\u001b[0;34m(\u001b[0m\u001b[0mD1\u001b[0m\u001b[0;34m,\u001b[0m\u001b[0mRealNumber\u001b[0m\u001b[0;34m(\u001b[0m\u001b[0;34m'0.1'\u001b[0m\u001b[0;34m)\u001b[0m\u001b[0;34m,\u001b[0m\u001b[0mInteger\u001b[0m\u001b[0;34m(\u001b[0m\u001b[0;36m10\u001b[0m\u001b[0;34m)\u001b[0m\u001b[0;34m)\u001b[0m\u001b[0;34m,\u001b[0m  \u001b[0mscale\u001b[0m\u001b[0;34m=\u001b[0m\u001b[0;34m'semilogx'\u001b[0m\u001b[0;34m,\u001b[0m \u001b[0mgridlines\u001b[0m\u001b[0;34m=\u001b[0m\u001b[0;32mTrue\u001b[0m\u001b[0;34m)\u001b[0m\u001b[0;34m\u001b[0m\u001b[0;34m\u001b[0m\u001b[0m\n\u001b[0m",
      "\u001b[0;32m/opt/SageMath/SageMath/local/lib/python3.9/site-packages/sage/misc/decorators.py\u001b[0m in \u001b[0;36mwrapper\u001b[0;34m(*args, **kwds)\u001b[0m\n\u001b[1;32m    489\u001b[0m                 \u001b[0moptions\u001b[0m\u001b[0;34m[\u001b[0m\u001b[0;34m'__original_opts'\u001b[0m\u001b[0;34m]\u001b[0m \u001b[0;34m=\u001b[0m \u001b[0mkwds\u001b[0m\u001b[0;34m\u001b[0m\u001b[0;34m\u001b[0m\u001b[0m\n\u001b[1;32m    490\u001b[0m             \u001b[0moptions\u001b[0m\u001b[0;34m.\u001b[0m\u001b[0mupdate\u001b[0m\u001b[0;34m(\u001b[0m\u001b[0mkwds\u001b[0m\u001b[0;34m)\u001b[0m\u001b[0;34m\u001b[0m\u001b[0;34m\u001b[0m\u001b[0m\n\u001b[0;32m--> 491\u001b[0;31m             \u001b[0;32mreturn\u001b[0m \u001b[0mfunc\u001b[0m\u001b[0;34m(\u001b[0m\u001b[0;34m*\u001b[0m\u001b[0margs\u001b[0m\u001b[0;34m,\u001b[0m \u001b[0;34m**\u001b[0m\u001b[0moptions\u001b[0m\u001b[0;34m)\u001b[0m\u001b[0;34m\u001b[0m\u001b[0;34m\u001b[0m\u001b[0m\n\u001b[0m\u001b[1;32m    492\u001b[0m \u001b[0;34m\u001b[0m\u001b[0m\n\u001b[1;32m    493\u001b[0m         \u001b[0;31m#Add the options specified by @options to the signature of the wrapped\u001b[0m\u001b[0;34m\u001b[0m\u001b[0;34m\u001b[0m\u001b[0;34m\u001b[0m\u001b[0m\n",
      "\u001b[0;32m/opt/SageMath/SageMath/local/lib/python3.9/site-packages/sage/plot/plot.py\u001b[0m in \u001b[0;36mplot\u001b[0;34m(funcs, *args, **kwds)\u001b[0m\n\u001b[1;32m   1955\u001b[0m \u001b[0;34m\u001b[0m\u001b[0m\n\u001b[1;32m   1956\u001b[0m     \u001b[0;32mif\u001b[0m \u001b[0mhasattr\u001b[0m\u001b[0;34m(\u001b[0m\u001b[0mfuncs\u001b[0m\u001b[0;34m,\u001b[0m \u001b[0;34m'plot'\u001b[0m\u001b[0;34m)\u001b[0m\u001b[0;34m:\u001b[0m\u001b[0;34m\u001b[0m\u001b[0;34m\u001b[0m\u001b[0m\n\u001b[0;32m-> 1957\u001b[0;31m         \u001b[0mG\u001b[0m \u001b[0;34m=\u001b[0m \u001b[0mfuncs\u001b[0m\u001b[0;34m.\u001b[0m\u001b[0mplot\u001b[0m\u001b[0;34m(\u001b[0m\u001b[0;34m*\u001b[0m\u001b[0margs\u001b[0m\u001b[0;34m,\u001b[0m \u001b[0;34m**\u001b[0m\u001b[0moriginal_opts\u001b[0m\u001b[0;34m)\u001b[0m\u001b[0;34m\u001b[0m\u001b[0;34m\u001b[0m\u001b[0m\n\u001b[0m\u001b[1;32m   1958\u001b[0m \u001b[0;34m\u001b[0m\u001b[0m\n\u001b[1;32m   1959\u001b[0m         \u001b[0;31m# If we have extra keywords already set, then update them\u001b[0m\u001b[0;34m\u001b[0m\u001b[0;34m\u001b[0m\u001b[0;34m\u001b[0m\u001b[0m\n",
      "\u001b[0;32m/opt/SageMath/SageMath/local/lib/python3.9/site-packages/sage/symbolic/expression.pyx\u001b[0m in \u001b[0;36msage.symbolic.expression.Expression.plot (build/cythonized/sage/symbolic/expression.cpp:65691)\u001b[0;34m()\u001b[0m\n\u001b[1;32m  12298\u001b[0m                     \u001b[0mparam\u001b[0m \u001b[0;34m=\u001b[0m \u001b[0mA\u001b[0m\u001b[0;34m[\u001b[0m\u001b[0;36m0\u001b[0m\u001b[0;34m]\u001b[0m\u001b[0;34m\u001b[0m\u001b[0;34m\u001b[0m\u001b[0m\n\u001b[1;32m  12299\u001b[0m                     \u001b[0;32mtry\u001b[0m\u001b[0;34m:\u001b[0m\u001b[0;34m\u001b[0m\u001b[0;34m\u001b[0m\u001b[0m\n\u001b[0;32m> 12300\u001b[0;31m                         \u001b[0mf\u001b[0m \u001b[0;34m=\u001b[0m \u001b[0mself\u001b[0m\u001b[0;34m.\u001b[0m\u001b[0m_plot_fast_callable\u001b[0m\u001b[0;34m(\u001b[0m\u001b[0mparam\u001b[0m\u001b[0;34m)\u001b[0m\u001b[0;34m\u001b[0m\u001b[0;34m\u001b[0m\u001b[0m\n\u001b[0m\u001b[1;32m  12301\u001b[0m                     \u001b[0;32mexcept\u001b[0m \u001b[0mNotImplementedError\u001b[0m\u001b[0;34m:\u001b[0m\u001b[0;34m\u001b[0m\u001b[0;34m\u001b[0m\u001b[0m\n\u001b[1;32m  12302\u001b[0m                         \u001b[0;32mreturn\u001b[0m \u001b[0mself\u001b[0m\u001b[0;34m.\u001b[0m\u001b[0mfunction\u001b[0m\u001b[0;34m(\u001b[0m\u001b[0mparam\u001b[0m\u001b[0;34m)\u001b[0m\u001b[0;34m\u001b[0m\u001b[0;34m\u001b[0m\u001b[0m\n",
      "\u001b[0;32m/opt/SageMath/SageMath/local/lib/python3.9/site-packages/sage/symbolic/expression.pyx\u001b[0m in \u001b[0;36msage.symbolic.expression.Expression._plot_fast_callable (build/cythonized/sage/symbolic/expression.cpp:66073)\u001b[0;34m()\u001b[0m\n\u001b[1;32m  12344\u001b[0m         \"\"\"\n\u001b[1;32m  12345\u001b[0m         \u001b[0;32mfrom\u001b[0m \u001b[0msage\u001b[0m\u001b[0;34m.\u001b[0m\u001b[0mext\u001b[0m\u001b[0;34m.\u001b[0m\u001b[0mfast_callable\u001b[0m \u001b[0;32mimport\u001b[0m \u001b[0mfast_callable\u001b[0m\u001b[0;34m\u001b[0m\u001b[0;34m\u001b[0m\u001b[0m\n\u001b[0;32m> 12346\u001b[0;31m         \u001b[0;32mreturn\u001b[0m \u001b[0mfast_callable\u001b[0m\u001b[0;34m(\u001b[0m\u001b[0mself\u001b[0m\u001b[0;34m,\u001b[0m \u001b[0mvars\u001b[0m\u001b[0;34m=\u001b[0m\u001b[0mvars\u001b[0m\u001b[0;34m,\u001b[0m \u001b[0mexpect_one_var\u001b[0m\u001b[0;34m=\u001b[0m\u001b[0;32mTrue\u001b[0m\u001b[0;34m)\u001b[0m\u001b[0;34m\u001b[0m\u001b[0;34m\u001b[0m\u001b[0m\n\u001b[0m\u001b[1;32m  12347\u001b[0m \u001b[0;34m\u001b[0m\u001b[0m\n\u001b[1;32m  12348\u001b[0m     \u001b[0;31m############\u001b[0m\u001b[0;34m\u001b[0m\u001b[0;34m\u001b[0m\u001b[0;34m\u001b[0m\u001b[0m\n",
      "\u001b[0;32m/opt/SageMath/SageMath/local/lib/python3.9/site-packages/sage/ext/fast_callable.pyx\u001b[0m in \u001b[0;36msage.ext.fast_callable.fast_callable (build/cythonized/sage/ext/fast_callable.c:4707)\u001b[0;34m()\u001b[0m\n\u001b[1;32m    455\u001b[0m \u001b[0;34m\u001b[0m\u001b[0m\n\u001b[1;32m    456\u001b[0m         \u001b[0metb\u001b[0m \u001b[0;34m=\u001b[0m \u001b[0mExpressionTreeBuilder\u001b[0m\u001b[0;34m(\u001b[0m\u001b[0mvars\u001b[0m\u001b[0;34m=\u001b[0m\u001b[0mvars\u001b[0m\u001b[0;34m,\u001b[0m \u001b[0mdomain\u001b[0m\u001b[0;34m=\u001b[0m\u001b[0mdomain\u001b[0m\u001b[0;34m)\u001b[0m\u001b[0;34m\u001b[0m\u001b[0;34m\u001b[0m\u001b[0m\n\u001b[0;32m--> 457\u001b[0;31m         \u001b[0met\u001b[0m \u001b[0;34m=\u001b[0m \u001b[0mx\u001b[0m\u001b[0;34m.\u001b[0m\u001b[0m_fast_callable_\u001b[0m\u001b[0;34m(\u001b[0m\u001b[0metb\u001b[0m\u001b[0;34m)\u001b[0m\u001b[0;34m\u001b[0m\u001b[0;34m\u001b[0m\u001b[0m\n\u001b[0m\u001b[1;32m    458\u001b[0m \u001b[0;34m\u001b[0m\u001b[0m\n\u001b[1;32m    459\u001b[0m     \u001b[0;32mif\u001b[0m \u001b[0misinstance\u001b[0m\u001b[0;34m(\u001b[0m\u001b[0mdomain\u001b[0m\u001b[0;34m,\u001b[0m \u001b[0mRealField_class\u001b[0m\u001b[0;34m)\u001b[0m\u001b[0;34m:\u001b[0m\u001b[0;34m\u001b[0m\u001b[0;34m\u001b[0m\u001b[0m\n",
      "\u001b[0;32m/opt/SageMath/SageMath/local/lib/python3.9/site-packages/sage/symbolic/expression.pyx\u001b[0m in \u001b[0;36msage.symbolic.expression.Expression._fast_callable_ (build/cythonized/sage/symbolic/expression.cpp:64918)\u001b[0;34m()\u001b[0m\n\u001b[1;32m  12181\u001b[0m         \"\"\"\n\u001b[1;32m  12182\u001b[0m         \u001b[0;32mfrom\u001b[0m \u001b[0msage\u001b[0m\u001b[0;34m.\u001b[0m\u001b[0msymbolic\u001b[0m\u001b[0;34m.\u001b[0m\u001b[0mexpression_conversions\u001b[0m \u001b[0;32mimport\u001b[0m \u001b[0mfast_callable\u001b[0m\u001b[0;34m\u001b[0m\u001b[0;34m\u001b[0m\u001b[0m\n\u001b[0;32m> 12183\u001b[0;31m         \u001b[0;32mreturn\u001b[0m \u001b[0mfast_callable\u001b[0m\u001b[0;34m(\u001b[0m\u001b[0mself\u001b[0m\u001b[0;34m,\u001b[0m \u001b[0metb\u001b[0m\u001b[0;34m)\u001b[0m\u001b[0;34m\u001b[0m\u001b[0;34m\u001b[0m\u001b[0m\n\u001b[0m\u001b[1;32m  12184\u001b[0m \u001b[0;34m\u001b[0m\u001b[0m\n\u001b[1;32m  12185\u001b[0m     \u001b[0;32mdef\u001b[0m \u001b[0mshow\u001b[0m\u001b[0;34m(\u001b[0m\u001b[0mself\u001b[0m\u001b[0;34m)\u001b[0m\u001b[0;34m:\u001b[0m\u001b[0;34m\u001b[0m\u001b[0;34m\u001b[0m\u001b[0m\n",
      "\u001b[0;32m/opt/SageMath/SageMath/local/lib/python3.9/site-packages/sage/symbolic/expression_conversions.py\u001b[0m in \u001b[0;36mfast_callable\u001b[0;34m(ex, etb)\u001b[0m\n\u001b[1;32m   1967\u001b[0m \u001b[0;34m\u001b[0m\u001b[0m\n\u001b[1;32m   1968\u001b[0m     \"\"\"\n\u001b[0;32m-> 1969\u001b[0;31m     \u001b[0;32mreturn\u001b[0m \u001b[0mFastCallableConverter\u001b[0m\u001b[0;34m(\u001b[0m\u001b[0mex\u001b[0m\u001b[0;34m,\u001b[0m \u001b[0metb\u001b[0m\u001b[0;34m)\u001b[0m\u001b[0;34m(\u001b[0m\u001b[0;34m)\u001b[0m\u001b[0;34m\u001b[0m\u001b[0;34m\u001b[0m\u001b[0m\n\u001b[0m\u001b[1;32m   1970\u001b[0m \u001b[0;34m\u001b[0m\u001b[0m\n\u001b[1;32m   1971\u001b[0m \u001b[0;32mclass\u001b[0m \u001b[0mRingConverter\u001b[0m\u001b[0;34m(\u001b[0m\u001b[0mConverter\u001b[0m\u001b[0;34m)\u001b[0m\u001b[0;34m:\u001b[0m\u001b[0;34m\u001b[0m\u001b[0;34m\u001b[0m\u001b[0m\n",
      "\u001b[0;32m/opt/SageMath/SageMath/local/lib/python3.9/site-packages/sage/symbolic/expression_conversions.py\u001b[0m in \u001b[0;36m__call__\u001b[0;34m(self, ex)\u001b[0m\n\u001b[1;32m    215\u001b[0m             \u001b[0;32mif\u001b[0m \u001b[0mgetattr\u001b[0m\u001b[0;34m(\u001b[0m\u001b[0mself\u001b[0m\u001b[0;34m,\u001b[0m \u001b[0;34m'use_fake_div'\u001b[0m\u001b[0;34m,\u001b[0m \u001b[0;32mFalse\u001b[0m\u001b[0;34m)\u001b[0m \u001b[0;32mand\u001b[0m \u001b[0;34m(\u001b[0m\u001b[0moperator\u001b[0m \u001b[0;32mis\u001b[0m \u001b[0m_operator\u001b[0m\u001b[0;34m.\u001b[0m\u001b[0mmul\u001b[0m \u001b[0;32mor\u001b[0m \u001b[0moperator\u001b[0m \u001b[0;32mis\u001b[0m \u001b[0mmul_vararg\u001b[0m\u001b[0;34m)\u001b[0m\u001b[0;34m:\u001b[0m\u001b[0;34m\u001b[0m\u001b[0;34m\u001b[0m\u001b[0m\n\u001b[1;32m    216\u001b[0m                 \u001b[0mdiv\u001b[0m \u001b[0;34m=\u001b[0m \u001b[0mself\u001b[0m\u001b[0;34m.\u001b[0m\u001b[0mget_fake_div\u001b[0m\u001b[0;34m(\u001b[0m\u001b[0mex\u001b[0m\u001b[0;34m)\u001b[0m\u001b[0;34m\u001b[0m\u001b[0;34m\u001b[0m\u001b[0m\n\u001b[0;32m--> 217\u001b[0;31m                 \u001b[0;32mreturn\u001b[0m \u001b[0mself\u001b[0m\u001b[0;34m.\u001b[0m\u001b[0marithmetic\u001b[0m\u001b[0;34m(\u001b[0m\u001b[0mdiv\u001b[0m\u001b[0;34m,\u001b[0m \u001b[0mdiv\u001b[0m\u001b[0;34m.\u001b[0m\u001b[0moperator\u001b[0m\u001b[0;34m(\u001b[0m\u001b[0;34m)\u001b[0m\u001b[0;34m)\u001b[0m\u001b[0;34m\u001b[0m\u001b[0;34m\u001b[0m\u001b[0m\n\u001b[0m\u001b[1;32m    218\u001b[0m             \u001b[0;32mreturn\u001b[0m \u001b[0mself\u001b[0m\u001b[0;34m.\u001b[0m\u001b[0marithmetic\u001b[0m\u001b[0;34m(\u001b[0m\u001b[0mex\u001b[0m\u001b[0;34m,\u001b[0m \u001b[0moperator\u001b[0m\u001b[0;34m)\u001b[0m\u001b[0;34m\u001b[0m\u001b[0;34m\u001b[0m\u001b[0m\n\u001b[1;32m    219\u001b[0m         \u001b[0;32melif\u001b[0m \u001b[0moperator\u001b[0m \u001b[0;32min\u001b[0m \u001b[0mrelation_operators\u001b[0m\u001b[0;34m:\u001b[0m\u001b[0;34m\u001b[0m\u001b[0;34m\u001b[0m\u001b[0m\n",
      "\u001b[0;32m/opt/SageMath/SageMath/local/lib/python3.9/site-packages/sage/symbolic/expression_conversions.py\u001b[0m in \u001b[0;36marithmetic\u001b[0;34m(self, ex, operator)\u001b[0m\n\u001b[1;32m   1895\u001b[0m         \u001b[0;32melif\u001b[0m \u001b[0moperator\u001b[0m \u001b[0;34m==\u001b[0m \u001b[0mmul_vararg\u001b[0m\u001b[0;34m:\u001b[0m\u001b[0;34m\u001b[0m\u001b[0;34m\u001b[0m\u001b[0m\n\u001b[1;32m   1896\u001b[0m             \u001b[0moperator\u001b[0m \u001b[0;34m=\u001b[0m \u001b[0m_operator\u001b[0m\u001b[0;34m.\u001b[0m\u001b[0mmul\u001b[0m\u001b[0;34m\u001b[0m\u001b[0;34m\u001b[0m\u001b[0m\n\u001b[0;32m-> 1897\u001b[0;31m         \u001b[0;32mreturn\u001b[0m \u001b[0mreduce\u001b[0m\u001b[0;34m(\u001b[0m\u001b[0;32mlambda\u001b[0m \u001b[0mx\u001b[0m\u001b[0;34m,\u001b[0m\u001b[0my\u001b[0m\u001b[0;34m:\u001b[0m \u001b[0mself\u001b[0m\u001b[0;34m.\u001b[0m\u001b[0metb\u001b[0m\u001b[0;34m.\u001b[0m\u001b[0mcall\u001b[0m\u001b[0;34m(\u001b[0m\u001b[0moperator\u001b[0m\u001b[0;34m,\u001b[0m \u001b[0mx\u001b[0m\u001b[0;34m,\u001b[0m\u001b[0my\u001b[0m\u001b[0;34m)\u001b[0m\u001b[0;34m,\u001b[0m \u001b[0moperands\u001b[0m\u001b[0;34m)\u001b[0m\u001b[0;34m\u001b[0m\u001b[0;34m\u001b[0m\u001b[0m\n\u001b[0m\u001b[1;32m   1898\u001b[0m \u001b[0;34m\u001b[0m\u001b[0m\n\u001b[1;32m   1899\u001b[0m     \u001b[0;32mdef\u001b[0m \u001b[0msymbol\u001b[0m\u001b[0;34m(\u001b[0m\u001b[0mself\u001b[0m\u001b[0;34m,\u001b[0m \u001b[0mex\u001b[0m\u001b[0;34m)\u001b[0m\u001b[0;34m:\u001b[0m\u001b[0;34m\u001b[0m\u001b[0;34m\u001b[0m\u001b[0m\n",
      "\u001b[0;32m/opt/SageMath/SageMath/local/lib/python3.9/site-packages/sage/symbolic/expression_conversions.py\u001b[0m in \u001b[0;36m<lambda>\u001b[0;34m(x, y)\u001b[0m\n\u001b[1;32m   1895\u001b[0m         \u001b[0;32melif\u001b[0m \u001b[0moperator\u001b[0m \u001b[0;34m==\u001b[0m \u001b[0mmul_vararg\u001b[0m\u001b[0;34m:\u001b[0m\u001b[0;34m\u001b[0m\u001b[0;34m\u001b[0m\u001b[0m\n\u001b[1;32m   1896\u001b[0m             \u001b[0moperator\u001b[0m \u001b[0;34m=\u001b[0m \u001b[0m_operator\u001b[0m\u001b[0;34m.\u001b[0m\u001b[0mmul\u001b[0m\u001b[0;34m\u001b[0m\u001b[0;34m\u001b[0m\u001b[0m\n\u001b[0;32m-> 1897\u001b[0;31m         \u001b[0;32mreturn\u001b[0m \u001b[0mreduce\u001b[0m\u001b[0;34m(\u001b[0m\u001b[0;32mlambda\u001b[0m \u001b[0mx\u001b[0m\u001b[0;34m,\u001b[0m\u001b[0my\u001b[0m\u001b[0;34m:\u001b[0m \u001b[0mself\u001b[0m\u001b[0;34m.\u001b[0m\u001b[0metb\u001b[0m\u001b[0;34m.\u001b[0m\u001b[0mcall\u001b[0m\u001b[0;34m(\u001b[0m\u001b[0moperator\u001b[0m\u001b[0;34m,\u001b[0m \u001b[0mx\u001b[0m\u001b[0;34m,\u001b[0m\u001b[0my\u001b[0m\u001b[0;34m)\u001b[0m\u001b[0;34m,\u001b[0m \u001b[0moperands\u001b[0m\u001b[0;34m)\u001b[0m\u001b[0;34m\u001b[0m\u001b[0;34m\u001b[0m\u001b[0m\n\u001b[0m\u001b[1;32m   1898\u001b[0m \u001b[0;34m\u001b[0m\u001b[0m\n\u001b[1;32m   1899\u001b[0m     \u001b[0;32mdef\u001b[0m \u001b[0msymbol\u001b[0m\u001b[0;34m(\u001b[0m\u001b[0mself\u001b[0m\u001b[0;34m,\u001b[0m \u001b[0mex\u001b[0m\u001b[0;34m)\u001b[0m\u001b[0;34m:\u001b[0m\u001b[0;34m\u001b[0m\u001b[0;34m\u001b[0m\u001b[0m\n",
      "\u001b[0;32m/opt/SageMath/SageMath/local/lib/python3.9/site-packages/sage/ext/fast_callable.pyx\u001b[0m in \u001b[0;36msage.ext.fast_callable.ExpressionTreeBuilder.call (build/cythonized/sage/ext/fast_callable.c:7204)\u001b[0;34m()\u001b[0m\n\u001b[1;32m    742\u001b[0m             \u001b[0;32mreturn\u001b[0m \u001b[0mself\u001b[0m\u001b[0;34m(\u001b[0m\u001b[0mbase\u001b[0m\u001b[0;34m)\u001b[0m\u001b[0;34m**\u001b[0m\u001b[0mexponent\u001b[0m\u001b[0;34m\u001b[0m\u001b[0;34m\u001b[0m\u001b[0m\n\u001b[1;32m    743\u001b[0m         \u001b[0;32melse\u001b[0m\u001b[0;34m:\u001b[0m\u001b[0;34m\u001b[0m\u001b[0;34m\u001b[0m\u001b[0m\n\u001b[0;32m--> 744\u001b[0;31m             \u001b[0;32mreturn\u001b[0m \u001b[0mExpressionCall\u001b[0m\u001b[0;34m(\u001b[0m\u001b[0mself\u001b[0m\u001b[0;34m,\u001b[0m \u001b[0mfn\u001b[0m\u001b[0;34m,\u001b[0m \u001b[0;34m[\u001b[0m\u001b[0mself\u001b[0m\u001b[0;34m(\u001b[0m\u001b[0ma\u001b[0m\u001b[0;34m)\u001b[0m \u001b[0;32mfor\u001b[0m \u001b[0ma\u001b[0m \u001b[0;32min\u001b[0m \u001b[0margs\u001b[0m\u001b[0;34m]\u001b[0m\u001b[0;34m)\u001b[0m\u001b[0;34m\u001b[0m\u001b[0;34m\u001b[0m\u001b[0m\n\u001b[0m\u001b[1;32m    745\u001b[0m \u001b[0;34m\u001b[0m\u001b[0m\n\u001b[1;32m    746\u001b[0m     \u001b[0;32mdef\u001b[0m \u001b[0mchoice\u001b[0m\u001b[0;34m(\u001b[0m\u001b[0mself\u001b[0m\u001b[0;34m,\u001b[0m \u001b[0mcond\u001b[0m\u001b[0;34m,\u001b[0m \u001b[0miftrue\u001b[0m\u001b[0;34m,\u001b[0m \u001b[0miffalse\u001b[0m\u001b[0;34m)\u001b[0m\u001b[0;34m:\u001b[0m\u001b[0;34m\u001b[0m\u001b[0;34m\u001b[0m\u001b[0m\n",
      "\u001b[0;32m/opt/SageMath/SageMath/local/lib/python3.9/site-packages/sage/ext/fast_callable.pyx\u001b[0m in \u001b[0;36msage.ext.fast_callable.ExpressionTreeBuilder.__call__ (build/cythonized/sage/ext/fast_callable.c:6320)\u001b[0;34m()\u001b[0m\n\u001b[1;32m    616\u001b[0m             \u001b[0;32mreturn\u001b[0m \u001b[0mself\u001b[0m\u001b[0;34m.\u001b[0m\u001b[0mconstant\u001b[0m\u001b[0;34m(\u001b[0m\u001b[0mx\u001b[0m\u001b[0;34m)\u001b[0m\u001b[0;34m\u001b[0m\u001b[0;34m\u001b[0m\u001b[0m\n\u001b[1;32m    617\u001b[0m \u001b[0;34m\u001b[0m\u001b[0m\n\u001b[0;32m--> 618\u001b[0;31m         \u001b[0;32mreturn\u001b[0m \u001b[0mfc\u001b[0m\u001b[0;34m(\u001b[0m\u001b[0mself\u001b[0m\u001b[0;34m)\u001b[0m\u001b[0;34m\u001b[0m\u001b[0;34m\u001b[0m\u001b[0m\n\u001b[0m\u001b[1;32m    619\u001b[0m \u001b[0;34m\u001b[0m\u001b[0m\n\u001b[1;32m    620\u001b[0m     \u001b[0;32mdef\u001b[0m \u001b[0m_clean_var\u001b[0m\u001b[0;34m(\u001b[0m\u001b[0mself\u001b[0m\u001b[0;34m,\u001b[0m \u001b[0mv\u001b[0m\u001b[0;34m)\u001b[0m\u001b[0;34m:\u001b[0m\u001b[0;34m\u001b[0m\u001b[0;34m\u001b[0m\u001b[0m\n",
      "\u001b[0;32m/opt/SageMath/SageMath/local/lib/python3.9/site-packages/sage/symbolic/expression_conversions.py\u001b[0m in \u001b[0;36m_fast_callable_\u001b[0;34m(self, etb)\u001b[0m\n\u001b[1;32m    123\u001b[0m             \u001b[0;34m[\u001b[0m\u001b[0;34m(\u001b[0m\u001b[0;34m'load_arg'\u001b[0m\u001b[0;34m,\u001b[0m \u001b[0;36m0\u001b[0m\u001b[0;34m)\u001b[0m\u001b[0;34m,\u001b[0m \u001b[0;34m(\u001b[0m\u001b[0;34m'load_arg'\u001b[0m\u001b[0;34m,\u001b[0m \u001b[0;36m1\u001b[0m\u001b[0;34m)\u001b[0m\u001b[0;34m,\u001b[0m \u001b[0;34m'div'\u001b[0m\u001b[0;34m,\u001b[0m \u001b[0;34m'return'\u001b[0m\u001b[0;34m]\u001b[0m\u001b[0;34m\u001b[0m\u001b[0;34m\u001b[0m\u001b[0m\n\u001b[1;32m    124\u001b[0m         \"\"\"\n\u001b[0;32m--> 125\u001b[0;31m         \u001b[0;32mreturn\u001b[0m \u001b[0mfast_callable\u001b[0m\u001b[0;34m(\u001b[0m\u001b[0mself\u001b[0m\u001b[0;34m,\u001b[0m \u001b[0metb\u001b[0m\u001b[0;34m)\u001b[0m\u001b[0;34m\u001b[0m\u001b[0;34m\u001b[0m\u001b[0m\n\u001b[0m\u001b[1;32m    126\u001b[0m \u001b[0;34m\u001b[0m\u001b[0m\n\u001b[1;32m    127\u001b[0m     \u001b[0;32mdef\u001b[0m \u001b[0m_fast_float_\u001b[0m\u001b[0;34m(\u001b[0m\u001b[0mself\u001b[0m\u001b[0;34m,\u001b[0m \u001b[0;34m*\u001b[0m\u001b[0mvars\u001b[0m\u001b[0;34m)\u001b[0m\u001b[0;34m:\u001b[0m\u001b[0;34m\u001b[0m\u001b[0;34m\u001b[0m\u001b[0m\n",
      "\u001b[0;32m/opt/SageMath/SageMath/local/lib/python3.9/site-packages/sage/symbolic/expression_conversions.py\u001b[0m in \u001b[0;36mfast_callable\u001b[0;34m(ex, etb)\u001b[0m\n\u001b[1;32m   1967\u001b[0m \u001b[0;34m\u001b[0m\u001b[0m\n\u001b[1;32m   1968\u001b[0m     \"\"\"\n\u001b[0;32m-> 1969\u001b[0;31m     \u001b[0;32mreturn\u001b[0m \u001b[0mFastCallableConverter\u001b[0m\u001b[0;34m(\u001b[0m\u001b[0mex\u001b[0m\u001b[0;34m,\u001b[0m \u001b[0metb\u001b[0m\u001b[0;34m)\u001b[0m\u001b[0;34m(\u001b[0m\u001b[0;34m)\u001b[0m\u001b[0;34m\u001b[0m\u001b[0;34m\u001b[0m\u001b[0m\n\u001b[0m\u001b[1;32m   1970\u001b[0m \u001b[0;34m\u001b[0m\u001b[0m\n\u001b[1;32m   1971\u001b[0m \u001b[0;32mclass\u001b[0m \u001b[0mRingConverter\u001b[0m\u001b[0;34m(\u001b[0m\u001b[0mConverter\u001b[0m\u001b[0;34m)\u001b[0m\u001b[0;34m:\u001b[0m\u001b[0;34m\u001b[0m\u001b[0;34m\u001b[0m\u001b[0m\n",
      "\u001b[0;32m/opt/SageMath/SageMath/local/lib/python3.9/site-packages/sage/symbolic/expression_conversions.py\u001b[0m in \u001b[0;36m__call__\u001b[0;34m(self, ex)\u001b[0m\n\u001b[1;32m    215\u001b[0m             \u001b[0;32mif\u001b[0m \u001b[0mgetattr\u001b[0m\u001b[0;34m(\u001b[0m\u001b[0mself\u001b[0m\u001b[0;34m,\u001b[0m \u001b[0;34m'use_fake_div'\u001b[0m\u001b[0;34m,\u001b[0m \u001b[0;32mFalse\u001b[0m\u001b[0;34m)\u001b[0m \u001b[0;32mand\u001b[0m \u001b[0;34m(\u001b[0m\u001b[0moperator\u001b[0m \u001b[0;32mis\u001b[0m \u001b[0m_operator\u001b[0m\u001b[0;34m.\u001b[0m\u001b[0mmul\u001b[0m \u001b[0;32mor\u001b[0m \u001b[0moperator\u001b[0m \u001b[0;32mis\u001b[0m \u001b[0mmul_vararg\u001b[0m\u001b[0;34m)\u001b[0m\u001b[0;34m:\u001b[0m\u001b[0;34m\u001b[0m\u001b[0;34m\u001b[0m\u001b[0m\n\u001b[1;32m    216\u001b[0m                 \u001b[0mdiv\u001b[0m \u001b[0;34m=\u001b[0m \u001b[0mself\u001b[0m\u001b[0;34m.\u001b[0m\u001b[0mget_fake_div\u001b[0m\u001b[0;34m(\u001b[0m\u001b[0mex\u001b[0m\u001b[0;34m)\u001b[0m\u001b[0;34m\u001b[0m\u001b[0;34m\u001b[0m\u001b[0m\n\u001b[0;32m--> 217\u001b[0;31m                 \u001b[0;32mreturn\u001b[0m \u001b[0mself\u001b[0m\u001b[0;34m.\u001b[0m\u001b[0marithmetic\u001b[0m\u001b[0;34m(\u001b[0m\u001b[0mdiv\u001b[0m\u001b[0;34m,\u001b[0m \u001b[0mdiv\u001b[0m\u001b[0;34m.\u001b[0m\u001b[0moperator\u001b[0m\u001b[0;34m(\u001b[0m\u001b[0;34m)\u001b[0m\u001b[0;34m)\u001b[0m\u001b[0;34m\u001b[0m\u001b[0;34m\u001b[0m\u001b[0m\n\u001b[0m\u001b[1;32m    218\u001b[0m             \u001b[0;32mreturn\u001b[0m \u001b[0mself\u001b[0m\u001b[0;34m.\u001b[0m\u001b[0marithmetic\u001b[0m\u001b[0;34m(\u001b[0m\u001b[0mex\u001b[0m\u001b[0;34m,\u001b[0m \u001b[0moperator\u001b[0m\u001b[0;34m)\u001b[0m\u001b[0;34m\u001b[0m\u001b[0;34m\u001b[0m\u001b[0m\n\u001b[1;32m    219\u001b[0m         \u001b[0;32melif\u001b[0m \u001b[0moperator\u001b[0m \u001b[0;32min\u001b[0m \u001b[0mrelation_operators\u001b[0m\u001b[0;34m:\u001b[0m\u001b[0;34m\u001b[0m\u001b[0;34m\u001b[0m\u001b[0m\n",
      "\u001b[0;32m/opt/SageMath/SageMath/local/lib/python3.9/site-packages/sage/symbolic/expression_conversions.py\u001b[0m in \u001b[0;36marithmetic\u001b[0;34m(self, ex, operator)\u001b[0m\n\u001b[1;32m   1895\u001b[0m         \u001b[0;32melif\u001b[0m \u001b[0moperator\u001b[0m \u001b[0;34m==\u001b[0m \u001b[0mmul_vararg\u001b[0m\u001b[0;34m:\u001b[0m\u001b[0;34m\u001b[0m\u001b[0;34m\u001b[0m\u001b[0m\n\u001b[1;32m   1896\u001b[0m             \u001b[0moperator\u001b[0m \u001b[0;34m=\u001b[0m \u001b[0m_operator\u001b[0m\u001b[0;34m.\u001b[0m\u001b[0mmul\u001b[0m\u001b[0;34m\u001b[0m\u001b[0;34m\u001b[0m\u001b[0m\n\u001b[0;32m-> 1897\u001b[0;31m         \u001b[0;32mreturn\u001b[0m \u001b[0mreduce\u001b[0m\u001b[0;34m(\u001b[0m\u001b[0;32mlambda\u001b[0m \u001b[0mx\u001b[0m\u001b[0;34m,\u001b[0m\u001b[0my\u001b[0m\u001b[0;34m:\u001b[0m \u001b[0mself\u001b[0m\u001b[0;34m.\u001b[0m\u001b[0metb\u001b[0m\u001b[0;34m.\u001b[0m\u001b[0mcall\u001b[0m\u001b[0;34m(\u001b[0m\u001b[0moperator\u001b[0m\u001b[0;34m,\u001b[0m \u001b[0mx\u001b[0m\u001b[0;34m,\u001b[0m\u001b[0my\u001b[0m\u001b[0;34m)\u001b[0m\u001b[0;34m,\u001b[0m \u001b[0moperands\u001b[0m\u001b[0;34m)\u001b[0m\u001b[0;34m\u001b[0m\u001b[0;34m\u001b[0m\u001b[0m\n\u001b[0m\u001b[1;32m   1898\u001b[0m \u001b[0;34m\u001b[0m\u001b[0m\n\u001b[1;32m   1899\u001b[0m     \u001b[0;32mdef\u001b[0m \u001b[0msymbol\u001b[0m\u001b[0;34m(\u001b[0m\u001b[0mself\u001b[0m\u001b[0;34m,\u001b[0m \u001b[0mex\u001b[0m\u001b[0;34m)\u001b[0m\u001b[0;34m:\u001b[0m\u001b[0;34m\u001b[0m\u001b[0;34m\u001b[0m\u001b[0m\n",
      "\u001b[0;32m/opt/SageMath/SageMath/local/lib/python3.9/site-packages/sage/symbolic/expression_conversions.py\u001b[0m in \u001b[0;36m<lambda>\u001b[0;34m(x, y)\u001b[0m\n\u001b[1;32m   1895\u001b[0m         \u001b[0;32melif\u001b[0m \u001b[0moperator\u001b[0m \u001b[0;34m==\u001b[0m \u001b[0mmul_vararg\u001b[0m\u001b[0;34m:\u001b[0m\u001b[0;34m\u001b[0m\u001b[0;34m\u001b[0m\u001b[0m\n\u001b[1;32m   1896\u001b[0m             \u001b[0moperator\u001b[0m \u001b[0;34m=\u001b[0m \u001b[0m_operator\u001b[0m\u001b[0;34m.\u001b[0m\u001b[0mmul\u001b[0m\u001b[0;34m\u001b[0m\u001b[0;34m\u001b[0m\u001b[0m\n\u001b[0;32m-> 1897\u001b[0;31m         \u001b[0;32mreturn\u001b[0m \u001b[0mreduce\u001b[0m\u001b[0;34m(\u001b[0m\u001b[0;32mlambda\u001b[0m \u001b[0mx\u001b[0m\u001b[0;34m,\u001b[0m\u001b[0my\u001b[0m\u001b[0;34m:\u001b[0m \u001b[0mself\u001b[0m\u001b[0;34m.\u001b[0m\u001b[0metb\u001b[0m\u001b[0;34m.\u001b[0m\u001b[0mcall\u001b[0m\u001b[0;34m(\u001b[0m\u001b[0moperator\u001b[0m\u001b[0;34m,\u001b[0m \u001b[0mx\u001b[0m\u001b[0;34m,\u001b[0m\u001b[0my\u001b[0m\u001b[0;34m)\u001b[0m\u001b[0;34m,\u001b[0m \u001b[0moperands\u001b[0m\u001b[0;34m)\u001b[0m\u001b[0;34m\u001b[0m\u001b[0;34m\u001b[0m\u001b[0m\n\u001b[0m\u001b[1;32m   1898\u001b[0m \u001b[0;34m\u001b[0m\u001b[0m\n\u001b[1;32m   1899\u001b[0m     \u001b[0;32mdef\u001b[0m \u001b[0msymbol\u001b[0m\u001b[0;34m(\u001b[0m\u001b[0mself\u001b[0m\u001b[0;34m,\u001b[0m \u001b[0mex\u001b[0m\u001b[0;34m)\u001b[0m\u001b[0;34m:\u001b[0m\u001b[0;34m\u001b[0m\u001b[0;34m\u001b[0m\u001b[0m\n",
      "\u001b[0;32m/opt/SageMath/SageMath/local/lib/python3.9/site-packages/sage/ext/fast_callable.pyx\u001b[0m in \u001b[0;36msage.ext.fast_callable.ExpressionTreeBuilder.call (build/cythonized/sage/ext/fast_callable.c:7204)\u001b[0;34m()\u001b[0m\n\u001b[1;32m    742\u001b[0m             \u001b[0;32mreturn\u001b[0m \u001b[0mself\u001b[0m\u001b[0;34m(\u001b[0m\u001b[0mbase\u001b[0m\u001b[0;34m)\u001b[0m\u001b[0;34m**\u001b[0m\u001b[0mexponent\u001b[0m\u001b[0;34m\u001b[0m\u001b[0;34m\u001b[0m\u001b[0m\n\u001b[1;32m    743\u001b[0m         \u001b[0;32melse\u001b[0m\u001b[0;34m:\u001b[0m\u001b[0;34m\u001b[0m\u001b[0;34m\u001b[0m\u001b[0m\n\u001b[0;32m--> 744\u001b[0;31m             \u001b[0;32mreturn\u001b[0m \u001b[0mExpressionCall\u001b[0m\u001b[0;34m(\u001b[0m\u001b[0mself\u001b[0m\u001b[0;34m,\u001b[0m \u001b[0mfn\u001b[0m\u001b[0;34m,\u001b[0m \u001b[0;34m[\u001b[0m\u001b[0mself\u001b[0m\u001b[0;34m(\u001b[0m\u001b[0ma\u001b[0m\u001b[0;34m)\u001b[0m \u001b[0;32mfor\u001b[0m \u001b[0ma\u001b[0m \u001b[0;32min\u001b[0m \u001b[0margs\u001b[0m\u001b[0;34m]\u001b[0m\u001b[0;34m)\u001b[0m\u001b[0;34m\u001b[0m\u001b[0;34m\u001b[0m\u001b[0m\n\u001b[0m\u001b[1;32m    745\u001b[0m \u001b[0;34m\u001b[0m\u001b[0m\n\u001b[1;32m    746\u001b[0m     \u001b[0;32mdef\u001b[0m \u001b[0mchoice\u001b[0m\u001b[0;34m(\u001b[0m\u001b[0mself\u001b[0m\u001b[0;34m,\u001b[0m \u001b[0mcond\u001b[0m\u001b[0;34m,\u001b[0m \u001b[0miftrue\u001b[0m\u001b[0;34m,\u001b[0m \u001b[0miffalse\u001b[0m\u001b[0;34m)\u001b[0m\u001b[0;34m:\u001b[0m\u001b[0;34m\u001b[0m\u001b[0;34m\u001b[0m\u001b[0m\n",
      "\u001b[0;32m/opt/SageMath/SageMath/local/lib/python3.9/site-packages/sage/ext/fast_callable.pyx\u001b[0m in \u001b[0;36msage.ext.fast_callable.ExpressionTreeBuilder.__call__ (build/cythonized/sage/ext/fast_callable.c:6320)\u001b[0;34m()\u001b[0m\n\u001b[1;32m    616\u001b[0m             \u001b[0;32mreturn\u001b[0m \u001b[0mself\u001b[0m\u001b[0;34m.\u001b[0m\u001b[0mconstant\u001b[0m\u001b[0;34m(\u001b[0m\u001b[0mx\u001b[0m\u001b[0;34m)\u001b[0m\u001b[0;34m\u001b[0m\u001b[0;34m\u001b[0m\u001b[0m\n\u001b[1;32m    617\u001b[0m \u001b[0;34m\u001b[0m\u001b[0m\n\u001b[0;32m--> 618\u001b[0;31m         \u001b[0;32mreturn\u001b[0m \u001b[0mfc\u001b[0m\u001b[0;34m(\u001b[0m\u001b[0mself\u001b[0m\u001b[0;34m)\u001b[0m\u001b[0;34m\u001b[0m\u001b[0;34m\u001b[0m\u001b[0m\n\u001b[0m\u001b[1;32m    619\u001b[0m \u001b[0;34m\u001b[0m\u001b[0m\n\u001b[1;32m    620\u001b[0m     \u001b[0;32mdef\u001b[0m \u001b[0m_clean_var\u001b[0m\u001b[0;34m(\u001b[0m\u001b[0mself\u001b[0m\u001b[0;34m,\u001b[0m \u001b[0mv\u001b[0m\u001b[0;34m)\u001b[0m\u001b[0;34m:\u001b[0m\u001b[0;34m\u001b[0m\u001b[0;34m\u001b[0m\u001b[0m\n",
      "\u001b[0;32m/opt/SageMath/SageMath/local/lib/python3.9/site-packages/sage/symbolic/expression.pyx\u001b[0m in \u001b[0;36msage.symbolic.expression.Expression._fast_callable_ (build/cythonized/sage/symbolic/expression.cpp:64918)\u001b[0;34m()\u001b[0m\n\u001b[1;32m  12181\u001b[0m         \"\"\"\n\u001b[1;32m  12182\u001b[0m         \u001b[0;32mfrom\u001b[0m \u001b[0msage\u001b[0m\u001b[0;34m.\u001b[0m\u001b[0msymbolic\u001b[0m\u001b[0;34m.\u001b[0m\u001b[0mexpression_conversions\u001b[0m \u001b[0;32mimport\u001b[0m \u001b[0mfast_callable\u001b[0m\u001b[0;34m\u001b[0m\u001b[0;34m\u001b[0m\u001b[0m\n\u001b[0;32m> 12183\u001b[0;31m         \u001b[0;32mreturn\u001b[0m \u001b[0mfast_callable\u001b[0m\u001b[0;34m(\u001b[0m\u001b[0mself\u001b[0m\u001b[0;34m,\u001b[0m \u001b[0metb\u001b[0m\u001b[0;34m)\u001b[0m\u001b[0;34m\u001b[0m\u001b[0;34m\u001b[0m\u001b[0m\n\u001b[0m\u001b[1;32m  12184\u001b[0m \u001b[0;34m\u001b[0m\u001b[0m\n\u001b[1;32m  12185\u001b[0m     \u001b[0;32mdef\u001b[0m \u001b[0mshow\u001b[0m\u001b[0;34m(\u001b[0m\u001b[0mself\u001b[0m\u001b[0;34m)\u001b[0m\u001b[0;34m:\u001b[0m\u001b[0;34m\u001b[0m\u001b[0;34m\u001b[0m\u001b[0m\n",
      "\u001b[0;32m/opt/SageMath/SageMath/local/lib/python3.9/site-packages/sage/symbolic/expression_conversions.py\u001b[0m in \u001b[0;36mfast_callable\u001b[0;34m(ex, etb)\u001b[0m\n\u001b[1;32m   1967\u001b[0m \u001b[0;34m\u001b[0m\u001b[0m\n\u001b[1;32m   1968\u001b[0m     \"\"\"\n\u001b[0;32m-> 1969\u001b[0;31m     \u001b[0;32mreturn\u001b[0m \u001b[0mFastCallableConverter\u001b[0m\u001b[0;34m(\u001b[0m\u001b[0mex\u001b[0m\u001b[0;34m,\u001b[0m \u001b[0metb\u001b[0m\u001b[0;34m)\u001b[0m\u001b[0;34m(\u001b[0m\u001b[0;34m)\u001b[0m\u001b[0;34m\u001b[0m\u001b[0;34m\u001b[0m\u001b[0m\n\u001b[0m\u001b[1;32m   1970\u001b[0m \u001b[0;34m\u001b[0m\u001b[0m\n\u001b[1;32m   1971\u001b[0m \u001b[0;32mclass\u001b[0m \u001b[0mRingConverter\u001b[0m\u001b[0;34m(\u001b[0m\u001b[0mConverter\u001b[0m\u001b[0;34m)\u001b[0m\u001b[0;34m:\u001b[0m\u001b[0;34m\u001b[0m\u001b[0;34m\u001b[0m\u001b[0m\n",
      "\u001b[0;32m/opt/SageMath/SageMath/local/lib/python3.9/site-packages/sage/symbolic/expression_conversions.py\u001b[0m in \u001b[0;36m__call__\u001b[0;34m(self, ex)\u001b[0m\n\u001b[1;32m    216\u001b[0m                 \u001b[0mdiv\u001b[0m \u001b[0;34m=\u001b[0m \u001b[0mself\u001b[0m\u001b[0;34m.\u001b[0m\u001b[0mget_fake_div\u001b[0m\u001b[0;34m(\u001b[0m\u001b[0mex\u001b[0m\u001b[0;34m)\u001b[0m\u001b[0;34m\u001b[0m\u001b[0;34m\u001b[0m\u001b[0m\n\u001b[1;32m    217\u001b[0m                 \u001b[0;32mreturn\u001b[0m \u001b[0mself\u001b[0m\u001b[0;34m.\u001b[0m\u001b[0marithmetic\u001b[0m\u001b[0;34m(\u001b[0m\u001b[0mdiv\u001b[0m\u001b[0;34m,\u001b[0m \u001b[0mdiv\u001b[0m\u001b[0;34m.\u001b[0m\u001b[0moperator\u001b[0m\u001b[0;34m(\u001b[0m\u001b[0;34m)\u001b[0m\u001b[0;34m)\u001b[0m\u001b[0;34m\u001b[0m\u001b[0;34m\u001b[0m\u001b[0m\n\u001b[0;32m--> 218\u001b[0;31m             \u001b[0;32mreturn\u001b[0m \u001b[0mself\u001b[0m\u001b[0;34m.\u001b[0m\u001b[0marithmetic\u001b[0m\u001b[0;34m(\u001b[0m\u001b[0mex\u001b[0m\u001b[0;34m,\u001b[0m \u001b[0moperator\u001b[0m\u001b[0;34m)\u001b[0m\u001b[0;34m\u001b[0m\u001b[0;34m\u001b[0m\u001b[0m\n\u001b[0m\u001b[1;32m    219\u001b[0m         \u001b[0;32melif\u001b[0m \u001b[0moperator\u001b[0m \u001b[0;32min\u001b[0m \u001b[0mrelation_operators\u001b[0m\u001b[0;34m:\u001b[0m\u001b[0;34m\u001b[0m\u001b[0;34m\u001b[0m\u001b[0m\n\u001b[1;32m    220\u001b[0m             \u001b[0;32mreturn\u001b[0m \u001b[0mself\u001b[0m\u001b[0;34m.\u001b[0m\u001b[0mrelation\u001b[0m\u001b[0;34m(\u001b[0m\u001b[0mex\u001b[0m\u001b[0;34m,\u001b[0m \u001b[0moperator\u001b[0m\u001b[0;34m)\u001b[0m\u001b[0;34m\u001b[0m\u001b[0;34m\u001b[0m\u001b[0m\n",
      "\u001b[0;32m/opt/SageMath/SageMath/local/lib/python3.9/site-packages/sage/symbolic/expression_conversions.py\u001b[0m in \u001b[0;36marithmetic\u001b[0;34m(self, ex, operator)\u001b[0m\n\u001b[1;32m   1895\u001b[0m         \u001b[0;32melif\u001b[0m \u001b[0moperator\u001b[0m \u001b[0;34m==\u001b[0m \u001b[0mmul_vararg\u001b[0m\u001b[0;34m:\u001b[0m\u001b[0;34m\u001b[0m\u001b[0;34m\u001b[0m\u001b[0m\n\u001b[1;32m   1896\u001b[0m             \u001b[0moperator\u001b[0m \u001b[0;34m=\u001b[0m \u001b[0m_operator\u001b[0m\u001b[0;34m.\u001b[0m\u001b[0mmul\u001b[0m\u001b[0;34m\u001b[0m\u001b[0;34m\u001b[0m\u001b[0m\n\u001b[0;32m-> 1897\u001b[0;31m         \u001b[0;32mreturn\u001b[0m \u001b[0mreduce\u001b[0m\u001b[0;34m(\u001b[0m\u001b[0;32mlambda\u001b[0m \u001b[0mx\u001b[0m\u001b[0;34m,\u001b[0m\u001b[0my\u001b[0m\u001b[0;34m:\u001b[0m \u001b[0mself\u001b[0m\u001b[0;34m.\u001b[0m\u001b[0metb\u001b[0m\u001b[0;34m.\u001b[0m\u001b[0mcall\u001b[0m\u001b[0;34m(\u001b[0m\u001b[0moperator\u001b[0m\u001b[0;34m,\u001b[0m \u001b[0mx\u001b[0m\u001b[0;34m,\u001b[0m\u001b[0my\u001b[0m\u001b[0;34m)\u001b[0m\u001b[0;34m,\u001b[0m \u001b[0moperands\u001b[0m\u001b[0;34m)\u001b[0m\u001b[0;34m\u001b[0m\u001b[0;34m\u001b[0m\u001b[0m\n\u001b[0m\u001b[1;32m   1898\u001b[0m \u001b[0;34m\u001b[0m\u001b[0m\n\u001b[1;32m   1899\u001b[0m     \u001b[0;32mdef\u001b[0m \u001b[0msymbol\u001b[0m\u001b[0;34m(\u001b[0m\u001b[0mself\u001b[0m\u001b[0;34m,\u001b[0m \u001b[0mex\u001b[0m\u001b[0;34m)\u001b[0m\u001b[0;34m:\u001b[0m\u001b[0;34m\u001b[0m\u001b[0;34m\u001b[0m\u001b[0m\n",
      "\u001b[0;32m/opt/SageMath/SageMath/local/lib/python3.9/site-packages/sage/symbolic/expression_conversions.py\u001b[0m in \u001b[0;36m<lambda>\u001b[0;34m(x, y)\u001b[0m\n\u001b[1;32m   1895\u001b[0m         \u001b[0;32melif\u001b[0m \u001b[0moperator\u001b[0m \u001b[0;34m==\u001b[0m \u001b[0mmul_vararg\u001b[0m\u001b[0;34m:\u001b[0m\u001b[0;34m\u001b[0m\u001b[0;34m\u001b[0m\u001b[0m\n\u001b[1;32m   1896\u001b[0m             \u001b[0moperator\u001b[0m \u001b[0;34m=\u001b[0m \u001b[0m_operator\u001b[0m\u001b[0;34m.\u001b[0m\u001b[0mmul\u001b[0m\u001b[0;34m\u001b[0m\u001b[0;34m\u001b[0m\u001b[0m\n\u001b[0;32m-> 1897\u001b[0;31m         \u001b[0;32mreturn\u001b[0m \u001b[0mreduce\u001b[0m\u001b[0;34m(\u001b[0m\u001b[0;32mlambda\u001b[0m \u001b[0mx\u001b[0m\u001b[0;34m,\u001b[0m\u001b[0my\u001b[0m\u001b[0;34m:\u001b[0m \u001b[0mself\u001b[0m\u001b[0;34m.\u001b[0m\u001b[0metb\u001b[0m\u001b[0;34m.\u001b[0m\u001b[0mcall\u001b[0m\u001b[0;34m(\u001b[0m\u001b[0moperator\u001b[0m\u001b[0;34m,\u001b[0m \u001b[0mx\u001b[0m\u001b[0;34m,\u001b[0m\u001b[0my\u001b[0m\u001b[0;34m)\u001b[0m\u001b[0;34m,\u001b[0m \u001b[0moperands\u001b[0m\u001b[0;34m)\u001b[0m\u001b[0;34m\u001b[0m\u001b[0;34m\u001b[0m\u001b[0m\n\u001b[0m\u001b[1;32m   1898\u001b[0m \u001b[0;34m\u001b[0m\u001b[0m\n\u001b[1;32m   1899\u001b[0m     \u001b[0;32mdef\u001b[0m \u001b[0msymbol\u001b[0m\u001b[0;34m(\u001b[0m\u001b[0mself\u001b[0m\u001b[0;34m,\u001b[0m \u001b[0mex\u001b[0m\u001b[0;34m)\u001b[0m\u001b[0;34m:\u001b[0m\u001b[0;34m\u001b[0m\u001b[0;34m\u001b[0m\u001b[0m\n",
      "\u001b[0;32m/opt/SageMath/SageMath/local/lib/python3.9/site-packages/sage/ext/fast_callable.pyx\u001b[0m in \u001b[0;36msage.ext.fast_callable.ExpressionTreeBuilder.call (build/cythonized/sage/ext/fast_callable.c:7149)\u001b[0;34m()\u001b[0m\n\u001b[1;32m    740\u001b[0m         \u001b[0;32mif\u001b[0m \u001b[0mfn\u001b[0m \u001b[0;32mis\u001b[0m \u001b[0moperator\u001b[0m\u001b[0;34m.\u001b[0m\u001b[0mpow\u001b[0m\u001b[0;34m:\u001b[0m\u001b[0;34m\u001b[0m\u001b[0;34m\u001b[0m\u001b[0m\n\u001b[1;32m    741\u001b[0m             \u001b[0mbase\u001b[0m\u001b[0;34m,\u001b[0m \u001b[0mexponent\u001b[0m \u001b[0;34m=\u001b[0m \u001b[0margs\u001b[0m\u001b[0;34m\u001b[0m\u001b[0;34m\u001b[0m\u001b[0m\n\u001b[0;32m--> 742\u001b[0;31m             \u001b[0;32mreturn\u001b[0m \u001b[0mself\u001b[0m\u001b[0;34m(\u001b[0m\u001b[0mbase\u001b[0m\u001b[0;34m)\u001b[0m\u001b[0;34m**\u001b[0m\u001b[0mexponent\u001b[0m\u001b[0;34m\u001b[0m\u001b[0;34m\u001b[0m\u001b[0m\n\u001b[0m\u001b[1;32m    743\u001b[0m         \u001b[0;32melse\u001b[0m\u001b[0;34m:\u001b[0m\u001b[0;34m\u001b[0m\u001b[0;34m\u001b[0m\u001b[0m\n\u001b[1;32m    744\u001b[0m             \u001b[0;32mreturn\u001b[0m \u001b[0mExpressionCall\u001b[0m\u001b[0;34m(\u001b[0m\u001b[0mself\u001b[0m\u001b[0;34m,\u001b[0m \u001b[0mfn\u001b[0m\u001b[0;34m,\u001b[0m \u001b[0;34m[\u001b[0m\u001b[0mself\u001b[0m\u001b[0;34m(\u001b[0m\u001b[0ma\u001b[0m\u001b[0;34m)\u001b[0m \u001b[0;32mfor\u001b[0m \u001b[0ma\u001b[0m \u001b[0;32min\u001b[0m \u001b[0margs\u001b[0m\u001b[0;34m]\u001b[0m\u001b[0;34m)\u001b[0m\u001b[0;34m\u001b[0m\u001b[0;34m\u001b[0m\u001b[0m\n",
      "\u001b[0;32m/opt/SageMath/SageMath/local/lib/python3.9/site-packages/sage/ext/fast_callable.pyx\u001b[0m in \u001b[0;36msage.ext.fast_callable.ExpressionTreeBuilder.__call__ (build/cythonized/sage/ext/fast_callable.c:6320)\u001b[0;34m()\u001b[0m\n\u001b[1;32m    616\u001b[0m             \u001b[0;32mreturn\u001b[0m \u001b[0mself\u001b[0m\u001b[0;34m.\u001b[0m\u001b[0mconstant\u001b[0m\u001b[0;34m(\u001b[0m\u001b[0mx\u001b[0m\u001b[0;34m)\u001b[0m\u001b[0;34m\u001b[0m\u001b[0;34m\u001b[0m\u001b[0m\n\u001b[1;32m    617\u001b[0m \u001b[0;34m\u001b[0m\u001b[0m\n\u001b[0;32m--> 618\u001b[0;31m         \u001b[0;32mreturn\u001b[0m \u001b[0mfc\u001b[0m\u001b[0;34m(\u001b[0m\u001b[0mself\u001b[0m\u001b[0;34m)\u001b[0m\u001b[0;34m\u001b[0m\u001b[0;34m\u001b[0m\u001b[0m\n\u001b[0m\u001b[1;32m    619\u001b[0m \u001b[0;34m\u001b[0m\u001b[0m\n\u001b[1;32m    620\u001b[0m     \u001b[0;32mdef\u001b[0m \u001b[0m_clean_var\u001b[0m\u001b[0;34m(\u001b[0m\u001b[0mself\u001b[0m\u001b[0;34m,\u001b[0m \u001b[0mv\u001b[0m\u001b[0;34m)\u001b[0m\u001b[0;34m:\u001b[0m\u001b[0;34m\u001b[0m\u001b[0;34m\u001b[0m\u001b[0m\n",
      "\u001b[0;32m/opt/SageMath/SageMath/local/lib/python3.9/site-packages/sage/symbolic/expression.pyx\u001b[0m in \u001b[0;36msage.symbolic.expression.Expression._fast_callable_ (build/cythonized/sage/symbolic/expression.cpp:64918)\u001b[0;34m()\u001b[0m\n\u001b[1;32m  12181\u001b[0m         \"\"\"\n\u001b[1;32m  12182\u001b[0m         \u001b[0;32mfrom\u001b[0m \u001b[0msage\u001b[0m\u001b[0;34m.\u001b[0m\u001b[0msymbolic\u001b[0m\u001b[0;34m.\u001b[0m\u001b[0mexpression_conversions\u001b[0m \u001b[0;32mimport\u001b[0m \u001b[0mfast_callable\u001b[0m\u001b[0;34m\u001b[0m\u001b[0;34m\u001b[0m\u001b[0m\n\u001b[0;32m> 12183\u001b[0;31m         \u001b[0;32mreturn\u001b[0m \u001b[0mfast_callable\u001b[0m\u001b[0;34m(\u001b[0m\u001b[0mself\u001b[0m\u001b[0;34m,\u001b[0m \u001b[0metb\u001b[0m\u001b[0;34m)\u001b[0m\u001b[0;34m\u001b[0m\u001b[0;34m\u001b[0m\u001b[0m\n\u001b[0m\u001b[1;32m  12184\u001b[0m \u001b[0;34m\u001b[0m\u001b[0m\n\u001b[1;32m  12185\u001b[0m     \u001b[0;32mdef\u001b[0m \u001b[0mshow\u001b[0m\u001b[0;34m(\u001b[0m\u001b[0mself\u001b[0m\u001b[0;34m)\u001b[0m\u001b[0;34m:\u001b[0m\u001b[0;34m\u001b[0m\u001b[0;34m\u001b[0m\u001b[0m\n",
      "\u001b[0;32m/opt/SageMath/SageMath/local/lib/python3.9/site-packages/sage/symbolic/expression_conversions.py\u001b[0m in \u001b[0;36mfast_callable\u001b[0;34m(ex, etb)\u001b[0m\n\u001b[1;32m   1967\u001b[0m \u001b[0;34m\u001b[0m\u001b[0m\n\u001b[1;32m   1968\u001b[0m     \"\"\"\n\u001b[0;32m-> 1969\u001b[0;31m     \u001b[0;32mreturn\u001b[0m \u001b[0mFastCallableConverter\u001b[0m\u001b[0;34m(\u001b[0m\u001b[0mex\u001b[0m\u001b[0;34m,\u001b[0m \u001b[0metb\u001b[0m\u001b[0;34m)\u001b[0m\u001b[0;34m(\u001b[0m\u001b[0;34m)\u001b[0m\u001b[0;34m\u001b[0m\u001b[0;34m\u001b[0m\u001b[0m\n\u001b[0m\u001b[1;32m   1970\u001b[0m \u001b[0;34m\u001b[0m\u001b[0m\n\u001b[1;32m   1971\u001b[0m \u001b[0;32mclass\u001b[0m \u001b[0mRingConverter\u001b[0m\u001b[0;34m(\u001b[0m\u001b[0mConverter\u001b[0m\u001b[0;34m)\u001b[0m\u001b[0;34m:\u001b[0m\u001b[0;34m\u001b[0m\u001b[0;34m\u001b[0m\u001b[0m\n",
      "\u001b[0;32m/opt/SageMath/SageMath/local/lib/python3.9/site-packages/sage/symbolic/expression_conversions.py\u001b[0m in \u001b[0;36m__call__\u001b[0;34m(self, ex)\u001b[0m\n\u001b[1;32m    210\u001b[0m         \u001b[0moperator\u001b[0m \u001b[0;34m=\u001b[0m \u001b[0mex\u001b[0m\u001b[0;34m.\u001b[0m\u001b[0moperator\u001b[0m\u001b[0;34m(\u001b[0m\u001b[0;34m)\u001b[0m\u001b[0;34m\u001b[0m\u001b[0;34m\u001b[0m\u001b[0m\n\u001b[1;32m    211\u001b[0m         \u001b[0;32mif\u001b[0m \u001b[0moperator\u001b[0m \u001b[0;32mis\u001b[0m \u001b[0;32mNone\u001b[0m\u001b[0;34m:\u001b[0m\u001b[0;34m\u001b[0m\u001b[0;34m\u001b[0m\u001b[0m\n\u001b[0;32m--> 212\u001b[0;31m             \u001b[0;32mreturn\u001b[0m \u001b[0mself\u001b[0m\u001b[0;34m.\u001b[0m\u001b[0msymbol\u001b[0m\u001b[0;34m(\u001b[0m\u001b[0mex\u001b[0m\u001b[0;34m)\u001b[0m\u001b[0;34m\u001b[0m\u001b[0;34m\u001b[0m\u001b[0m\n\u001b[0m\u001b[1;32m    213\u001b[0m \u001b[0;34m\u001b[0m\u001b[0m\n\u001b[1;32m    214\u001b[0m         \u001b[0;32mif\u001b[0m \u001b[0moperator\u001b[0m \u001b[0;32min\u001b[0m \u001b[0marithmetic_operators\u001b[0m\u001b[0;34m:\u001b[0m\u001b[0;34m\u001b[0m\u001b[0;34m\u001b[0m\u001b[0m\n",
      "\u001b[0;32m/opt/SageMath/SageMath/local/lib/python3.9/site-packages/sage/symbolic/expression_conversions.py\u001b[0m in \u001b[0;36msymbol\u001b[0;34m(self, ex)\u001b[0m\n\u001b[1;32m   1916\u001b[0m             \u001b[0mValueError\u001b[0m\u001b[0;34m:\u001b[0m \u001b[0mVariable\u001b[0m \u001b[0;34m'z'\u001b[0m \u001b[0;32mnot\u001b[0m \u001b[0mfound\u001b[0m\u001b[0;34m\u001b[0m\u001b[0;34m\u001b[0m\u001b[0m\n\u001b[1;32m   1917\u001b[0m         \"\"\"\n\u001b[0;32m-> 1918\u001b[0;31m         \u001b[0;32mreturn\u001b[0m \u001b[0mself\u001b[0m\u001b[0;34m.\u001b[0m\u001b[0metb\u001b[0m\u001b[0;34m.\u001b[0m\u001b[0mvar\u001b[0m\u001b[0;34m(\u001b[0m\u001b[0mSR\u001b[0m\u001b[0;34m(\u001b[0m\u001b[0mex\u001b[0m\u001b[0;34m)\u001b[0m\u001b[0;34m)\u001b[0m\u001b[0;34m\u001b[0m\u001b[0;34m\u001b[0m\u001b[0m\n\u001b[0m\u001b[1;32m   1919\u001b[0m \u001b[0;34m\u001b[0m\u001b[0m\n\u001b[1;32m   1920\u001b[0m     \u001b[0;32mdef\u001b[0m \u001b[0mcomposition\u001b[0m\u001b[0;34m(\u001b[0m\u001b[0mself\u001b[0m\u001b[0;34m,\u001b[0m \u001b[0mex\u001b[0m\u001b[0;34m,\u001b[0m \u001b[0mfunction\u001b[0m\u001b[0;34m)\u001b[0m\u001b[0;34m:\u001b[0m\u001b[0;34m\u001b[0m\u001b[0;34m\u001b[0m\u001b[0m\n",
      "\u001b[0;32m/opt/SageMath/SageMath/local/lib/python3.9/site-packages/sage/ext/fast_callable.pyx\u001b[0m in \u001b[0;36msage.ext.fast_callable.ExpressionTreeBuilder.var (build/cythonized/sage/ext/fast_callable.c:6791)\u001b[0;34m()\u001b[0m\n\u001b[1;32m    688\u001b[0m             \u001b[0mind\u001b[0m \u001b[0;34m=\u001b[0m \u001b[0mself\u001b[0m\u001b[0;34m.\u001b[0m\u001b[0m_vars\u001b[0m\u001b[0;34m.\u001b[0m\u001b[0mindex\u001b[0m\u001b[0;34m(\u001b[0m\u001b[0mvar_name\u001b[0m\u001b[0;34m)\u001b[0m\u001b[0;34m\u001b[0m\u001b[0;34m\u001b[0m\u001b[0m\n\u001b[1;32m    689\u001b[0m         \u001b[0;32mexcept\u001b[0m \u001b[0mValueError\u001b[0m\u001b[0;34m:\u001b[0m\u001b[0;34m\u001b[0m\u001b[0;34m\u001b[0m\u001b[0m\n\u001b[0;32m--> 690\u001b[0;31m             \u001b[0;32mraise\u001b[0m \u001b[0mValueError\u001b[0m\u001b[0;34m(\u001b[0m\u001b[0;34m\"Variable '%s' not found\"\u001b[0m \u001b[0;34m%\u001b[0m \u001b[0mvar_name\u001b[0m\u001b[0;34m)\u001b[0m\u001b[0;34m\u001b[0m\u001b[0;34m\u001b[0m\u001b[0m\n\u001b[0m\u001b[1;32m    691\u001b[0m         \u001b[0;32mreturn\u001b[0m \u001b[0mExpressionVariable\u001b[0m\u001b[0;34m(\u001b[0m\u001b[0mself\u001b[0m\u001b[0;34m,\u001b[0m \u001b[0mind\u001b[0m\u001b[0;34m)\u001b[0m\u001b[0;34m\u001b[0m\u001b[0;34m\u001b[0m\u001b[0m\n\u001b[1;32m    692\u001b[0m \u001b[0;34m\u001b[0m\u001b[0m\n",
      "\u001b[0;31mValueError\u001b[0m: Variable 'D1' not found"
     ]
    }
   ],
   "source": [
    "#DEgval <= 0.5 , >=1.8\n",
    "DEgval = 10\n",
    "D2val  = 0\n",
    "plot(cond1sub.subs(DEg=DEgval,D2=D2val)/(2*np.pi),(D1,0.1,10),  scale='semilogx', gridlines=True)"
   ]
  },
  {
   "cell_type": "code",
   "execution_count": 46,
   "id": "71130fe9",
   "metadata": {},
   "outputs": [
    {
     "data": {
      "image/png": "[encoded data removed]",
      "text/plain": [
       "Graphics object consisting of 1 graphics primitive"
      ]
     },
     "execution_count": 46,
     "metadata": {},
     "output_type": "execute_result"
    }
   ],
   "source": [
    "plot(cond2sub.subs(DEg=DEgval,D1=7)/(2*np.pi),(C,1e2,1e8),  scale='semilogx',gridlines=True)"
   ]
  },
  {
   "cell_type": "code",
   "execution_count": 23,
   "id": "8d57de67",
   "metadata": {},
   "outputs": [
    {
     "data": {
      "text/plain": [
       "-1.00000000000000"
      ]
     },
     "execution_count": 23,
     "metadata": {},
     "output_type": "execute_result"
    }
   ],
   "source": [
    "cond1sub.subs(DEg=minsolDEg,D1=minsolD1)/(2*np.pi)"
   ]
  },
  {
   "cell_type": "code",
   "execution_count": 24,
   "id": "534136f4",
   "metadata": {},
   "outputs": [
    {
     "data": {
      "text/plain": [
       "100000.000000000"
      ]
     },
     "execution_count": 24,
     "metadata": {},
     "output_type": "execute_result"
    }
   ],
   "source": [
    "cond2sub.subs(DEg=minsolDEg,D1=minsolD1,C=Cval)/(2*np.pi)"
   ]
  },
  {
   "cell_type": "code",
   "execution_count": 73,
   "id": "37e88d0e",
   "metadata": {},
   "outputs": [],
   "source": [
    "# parameter substitution \n",
    "\n",
    "phival = 1/4 * np.pi \n",
    "R_fval = 1\n",
    "gamma_fval = gamma\n",
    "gamma_gval = gamma\n",
    "DEgval = minsolDEg#*0.999\n",
    "Deg2val = 0  \n",
    "Deg1val = minsolDEg*minsolD1   #*0.99999"
   ]
  },
  {
   "cell_type": "code",
   "execution_count": 74,
   "id": "384fa48a",
   "metadata": {},
   "outputs": [],
   "source": [
    "eff_hval = eff_hamiltonian_tayl.subs(DEg=DEgval,C=Cval,phi=phival,R_f=R_fval,gamma_f=gamma_fval,gamma_g=gamma_gval,Deg2=Deg2val,Deg1= Deg1val)\n",
    "eff_hval = (eff_hval + conjugate(eff_hval))\n",
    "\n",
    "a_val = eff_hval[0,0]\n",
    "b_val = eff_hval[1,1]\n",
    "c_val = eff_hval[3,3]\n",
    "d_val = eff_hval[4,4]\n",
    "e_val = eff_hval[5,5]\n",
    "f_val = eff_hval[7,7]"
   ]
  },
  {
   "cell_type": "code",
   "execution_count": 75,
   "id": "8b19bde9",
   "metadata": {},
   "outputs": [
    {
     "name": "stdout",
     "output_type": "stream",
     "text": [
      "0\n",
      "1\n",
      "2\n",
      "3\n",
      "4\n",
      "5\n",
      "6\n",
      "7\n"
     ]
    }
   ],
   "source": [
    "U = sg.copy(eff_hval)\n",
    "\n",
    "tgval = np.pi /(a_val+e_val-b_val-d_val)\n",
    "\n",
    "t1 = (a_val-b_val)*tgval\n",
    "t2 = t1\n",
    "t3 = (a_val-d_val)*tgval\n",
    "\n",
    "R = 0*[0 , t1, t2, t1+t2, t3, t1+t3, t2+t3, t1+t2+t3 ]\n",
    "\n",
    "for i in range(8):\n",
    "    try:\n",
    "        U[i,i] = np.exp( (R[i] + (eff_hval[i,i]-a_val)*tgval ) *I )\n",
    "        print((R[i] + (eff_hval[i,i]-a_val)*tgval))\n",
    "    except:\n",
    "        print(i)\n",
    "\n",
    "\n",
    "for i in range(8):\n",
    "    U[i,i] = U[i,i]"
   ]
  },
  {
   "cell_type": "code",
   "execution_count": 76,
   "id": "a9c26775",
   "metadata": {},
   "outputs": [
    {
     "name": "stdout",
     "output_type": "stream",
     "text": [
      "symround: Deleted coefficient 1.9858e-22\n"
     ]
    },
    {
     "data": {
      "text/html": [
       "<html><script type=\"math/tex; mode=display\">\\newcommand{\\Bold}[1]{\\mathbf{#1}}\\left(\\begin{array}{rrrrrrrr}\n",
       "\\frac{0.0041601 \\, {\\Omega}^{2}}{{\\gamma}} & 0 & 0 & 0 & 0 & 0 & 0 & 0 \\\\\n",
       "0 & \\frac{0.0041601 \\, {\\Omega}^{2}}{{\\gamma}} & 0 & 0 & 0 & 0 & 0 & 0 \\\\\n",
       "0 & 0 & \\frac{0.0041601 \\, {\\Omega}^{2}}{{\\gamma}} & 0 & 0 & 0 & 0 & 0 \\\\\n",
       "0 & 0 & 0 & \\frac{0.0041601 \\, {\\Omega}^{2}}{{\\gamma}} & 0 & 0 & 0 & 0 \\\\\n",
       "0 & 0 & 0 & 0 & \\frac{0.0041601 \\, {\\Omega}^{2}}{{\\gamma}} & 0 & 0 & 0 \\\\\n",
       "0 & 0 & 0 & 0 & 0 & \\frac{0.0041601 \\, {\\Omega}^{2}}{{\\gamma}} & 0 & 0 \\\\\n",
       "0 & 0 & 0 & 0 & 0 & 0 & \\frac{0.0041601 \\, {\\Omega}^{2}}{{\\gamma}} & 0 \\\\\n",
       "0 & 0 & 0 & 0 & 0 & 0 & 0 & 0\n",
       "\\end{array}\\right)</script></html>"
      ],
      "text/latex": [
       "$$\\newcommand{\\Bold}[1]{\\mathbf{#1}}\\left(\\begin{array}{rrrrrrrr}\n",
       "\\frac{0.0041601 \\, {\\Omega}^{2}}{{\\gamma}} & 0 & 0 & 0 & 0 & 0 & 0 & 0 \\\\\n",
       "0 & \\frac{0.0041601 \\, {\\Omega}^{2}}{{\\gamma}} & 0 & 0 & 0 & 0 & 0 & 0 \\\\\n",
       "0 & 0 & \\frac{0.0041601 \\, {\\Omega}^{2}}{{\\gamma}} & 0 & 0 & 0 & 0 & 0 \\\\\n",
       "0 & 0 & 0 & \\frac{0.0041601 \\, {\\Omega}^{2}}{{\\gamma}} & 0 & 0 & 0 & 0 \\\\\n",
       "0 & 0 & 0 & 0 & \\frac{0.0041601 \\, {\\Omega}^{2}}{{\\gamma}} & 0 & 0 & 0 \\\\\n",
       "0 & 0 & 0 & 0 & 0 & \\frac{0.0041601 \\, {\\Omega}^{2}}{{\\gamma}} & 0 & 0 \\\\\n",
       "0 & 0 & 0 & 0 & 0 & 0 & \\frac{0.0041601 \\, {\\Omega}^{2}}{{\\gamma}} & 0 \\\\\n",
       "0 & 0 & 0 & 0 & 0 & 0 & 0 & 0\n",
       "\\end{array}\\right)$$"
      ],
      "text/plain": [
       "[0.0041601*Omega^2/gamma                       0                       0                       0                       0                       0                       0                       0]\n",
       "[                      0 0.0041601*Omega^2/gamma                       0                       0                       0                       0                       0                       0]\n",
       "[                      0                       0 0.0041601*Omega^2/gamma                       0                       0                       0                       0                       0]\n",
       "[                      0                       0                       0 0.0041601*Omega^2/gamma                       0                       0                       0                       0]\n",
       "[                      0                       0                       0                       0 0.0041601*Omega^2/gamma                       0                       0                       0]\n",
       "[                      0                       0                       0                       0                       0 0.0041601*Omega^2/gamma                       0                       0]\n",
       "[                      0                       0                       0                       0                       0                       0 0.0041601*Omega^2/gamma                       0]\n",
       "[                      0                       0                       0                       0                       0                       0                       0                       0]"
      ]
     },
     "metadata": {},
     "output_type": "display_data"
    }
   ],
   "source": [
    "show(symround(U,digits=5))"
   ]
  },
  {
   "cell_type": "code",
   "execution_count": 642,
   "id": "ca0be42e",
   "metadata": {},
   "outputs": [
    {
     "data": {
      "text/html": [
       "<html><script type=\"math/tex; mode=display\">\\newcommand{\\Bold}[1]{\\mathbf{#1}}0 \\sqrt{{\\kappa_c}}</script></html>"
      ],
      "text/latex": [
       "$$\\newcommand{\\Bold}[1]{\\mathbf{#1}}0 \\sqrt{{\\kappa_c}}$$"
      ],
      "text/plain": [
       "0 sqrt(kappa_c)"
      ]
     },
     "metadata": {},
     "output_type": "display_data"
    },
    {
     "name": "stdout",
     "output_type": "stream",
     "text": [
      "-3/2\n",
      "-3/2\n",
      "-3/2\n",
      "-3/2\n",
      "-3/2\n",
      "-3/2\n",
      "-3/2\n",
      "-3/2\n"
     ]
    },
    {
     "data": {
      "text/html": [
       "<html><script type=\"math/tex; mode=display\">\\newcommand{\\Bold}[1]{\\mathbf{#1}}1 \\sqrt{{\\gamma}}</script></html>"
      ],
      "text/latex": [
       "$$\\newcommand{\\Bold}[1]{\\mathbf{#1}}1 \\sqrt{{\\gamma}}$$"
      ],
      "text/plain": [
       "1 sqrt(gamma)"
      ]
     },
     "metadata": {},
     "output_type": "display_data"
    },
    {
     "name": "stdout",
     "output_type": "stream",
     "text": [
      "-2\n",
      "-2\n",
      "-2\n",
      "-2\n"
     ]
    },
    {
     "data": {
      "text/html": [
       "<html><script type=\"math/tex; mode=display\">\\newcommand{\\Bold}[1]{\\mathbf{#1}}2 \\sqrt{{\\kappa_b}}</script></html>"
      ],
      "text/latex": [
       "$$\\newcommand{\\Bold}[1]{\\mathbf{#1}}2 \\sqrt{{\\kappa_b}}$$"
      ],
      "text/plain": [
       "2 sqrt(kappa_b)"
      ]
     },
     "metadata": {},
     "output_type": "display_data"
    },
    {
     "name": "stdout",
     "output_type": "stream",
     "text": [
      "-1\n",
      "-1\n",
      "-1\n",
      "-1\n",
      "-1\n",
      "-1\n",
      "-1\n",
      "-1\n"
     ]
    },
    {
     "data": {
      "text/html": [
       "<html><script type=\"math/tex; mode=display\">\\newcommand{\\Bold}[1]{\\mathbf{#1}}3 \\sqrt{{\\kappa_c}}</script></html>"
      ],
      "text/latex": [
       "$$\\newcommand{\\Bold}[1]{\\mathbf{#1}}3 \\sqrt{{\\kappa_c}}$$"
      ],
      "text/plain": [
       "3 sqrt(kappa_c)"
      ]
     },
     "metadata": {},
     "output_type": "display_data"
    },
    {
     "name": "stdout",
     "output_type": "stream",
     "text": [
      "-3/2\n",
      "-3/2\n",
      "-3/2\n",
      "-3/2\n",
      "-3/2\n",
      "-3/2\n",
      "-3/2\n",
      "-3/2\n"
     ]
    },
    {
     "data": {
      "text/html": [
       "<html><script type=\"math/tex; mode=display\">\\newcommand{\\Bold}[1]{\\mathbf{#1}}4 \\sqrt{{\\gamma}}</script></html>"
      ],
      "text/latex": [
       "$$\\newcommand{\\Bold}[1]{\\mathbf{#1}}4 \\sqrt{{\\gamma}}$$"
      ],
      "text/plain": [
       "4 sqrt(gamma)"
      ]
     },
     "metadata": {},
     "output_type": "display_data"
    },
    {
     "name": "stdout",
     "output_type": "stream",
     "text": [
      "-1\n",
      "-1\n",
      "-1\n",
      "-1\n"
     ]
    },
    {
     "data": {
      "text/html": [
       "<html><script type=\"math/tex; mode=display\">\\newcommand{\\Bold}[1]{\\mathbf{#1}}5 \\sqrt{{\\kappa_b}}</script></html>"
      ],
      "text/latex": [
       "$$\\newcommand{\\Bold}[1]{\\mathbf{#1}}5 \\sqrt{{\\kappa_b}}$$"
      ],
      "text/plain": [
       "5 sqrt(kappa_b)"
      ]
     },
     "metadata": {},
     "output_type": "display_data"
    },
    {
     "name": "stdout",
     "output_type": "stream",
     "text": [
      "-1\n",
      "-1\n",
      "-1\n",
      "-1\n",
      "-1\n",
      "-1\n",
      "-1\n",
      "-1\n"
     ]
    },
    {
     "data": {
      "text/html": [
       "<html><script type=\"math/tex; mode=display\">\\newcommand{\\Bold}[1]{\\mathbf{#1}}6 \\sqrt{{\\kappa_c}}</script></html>"
      ],
      "text/latex": [
       "$$\\newcommand{\\Bold}[1]{\\mathbf{#1}}6 \\sqrt{{\\kappa_c}}$$"
      ],
      "text/plain": [
       "6 sqrt(kappa_c)"
      ]
     },
     "metadata": {},
     "output_type": "display_data"
    },
    {
     "name": "stdout",
     "output_type": "stream",
     "text": [
      "-3/2\n",
      "-3/2\n",
      "-3/2\n",
      "-3/2\n",
      "-3/2\n",
      "-3/2\n",
      "-3/2\n",
      "-3/2\n"
     ]
    },
    {
     "data": {
      "text/html": [
       "<html><script type=\"math/tex; mode=display\">\\newcommand{\\Bold}[1]{\\mathbf{#1}}7 \\sqrt{{\\gamma_g}}</script></html>"
      ],
      "text/latex": [
       "$$\\newcommand{\\Bold}[1]{\\mathbf{#1}}7 \\sqrt{{\\gamma_g}}$$"
      ],
      "text/plain": [
       "7 sqrt(gamma_g)"
      ]
     },
     "metadata": {},
     "output_type": "display_data"
    },
    {
     "name": "stdout",
     "output_type": "stream",
     "text": [
      "-1\n",
      "-1\n",
      "-1\n",
      "-1\n",
      "-1\n",
      "-1\n",
      "-1\n",
      "-1\n"
     ]
    },
    {
     "data": {
      "text/html": [
       "<html><script type=\"math/tex; mode=display\">\\newcommand{\\Bold}[1]{\\mathbf{#1}}8 \\sqrt{{\\gamma_f}}</script></html>"
      ],
      "text/latex": [
       "$$\\newcommand{\\Bold}[1]{\\mathbf{#1}}8 \\sqrt{{\\gamma_f}}$$"
      ],
      "text/plain": [
       "8 sqrt(gamma_f)"
      ]
     },
     "metadata": {},
     "output_type": "display_data"
    },
    {
     "name": "stdout",
     "output_type": "stream",
     "text": [
      "-1\n",
      "-1\n",
      "-1\n",
      "-1\n",
      "-1\n",
      "-1\n",
      "-1\n",
      "-1\n"
     ]
    },
    {
     "data": {
      "text/html": [
       "<html><script type=\"math/tex; mode=display\">\\newcommand{\\Bold}[1]{\\mathbf{#1}}9 \\sqrt{{\\kappa_b}}</script></html>"
      ],
      "text/latex": [
       "$$\\newcommand{\\Bold}[1]{\\mathbf{#1}}9 \\sqrt{{\\kappa_b}}$$"
      ],
      "text/plain": [
       "9 sqrt(kappa_b)"
      ]
     },
     "metadata": {},
     "output_type": "display_data"
    },
    {
     "name": "stdout",
     "output_type": "stream",
     "text": [
      "-1\n",
      "-1\n",
      "-1\n",
      "-1\n",
      "-1\n",
      "-1\n",
      "-1\n",
      "-1\n"
     ]
    },
    {
     "data": {
      "text/html": [
       "<html><script type=\"math/tex; mode=display\">\\newcommand{\\Bold}[1]{\\mathbf{#1}}10 \\sqrt{{\\kappa_c}}</script></html>"
      ],
      "text/latex": [
       "$$\\newcommand{\\Bold}[1]{\\mathbf{#1}}10 \\sqrt{{\\kappa_c}}$$"
      ],
      "text/plain": [
       "10 sqrt(kappa_c)"
      ]
     },
     "metadata": {},
     "output_type": "display_data"
    },
    {
     "name": "stdout",
     "output_type": "stream",
     "text": [
      "-3/2\n",
      "-3/2\n",
      "-3/2\n",
      "-3/2\n",
      "-3/2\n",
      "-3/2\n",
      "-3/2\n",
      "-3/2\n"
     ]
    },
    {
     "data": {
      "text/html": [
       "<html><script type=\"math/tex; mode=display\">\\newcommand{\\Bold}[1]{\\mathbf{#1}}11 \\sqrt{{\\gamma}}</script></html>"
      ],
      "text/latex": [
       "$$\\newcommand{\\Bold}[1]{\\mathbf{#1}}11 \\sqrt{{\\gamma}}$$"
      ],
      "text/plain": [
       "11 sqrt(gamma)"
      ]
     },
     "metadata": {},
     "output_type": "display_data"
    },
    {
     "name": "stdout",
     "output_type": "stream",
     "text": [
      "-1\n",
      "-1\n",
      "-1\n",
      "-1\n"
     ]
    },
    {
     "data": {
      "text/html": [
       "<html><script type=\"math/tex; mode=display\">\\newcommand{\\Bold}[1]{\\mathbf{#1}}12 \\sqrt{{\\kappa_b}}</script></html>"
      ],
      "text/latex": [
       "$$\\newcommand{\\Bold}[1]{\\mathbf{#1}}12 \\sqrt{{\\kappa_b}}$$"
      ],
      "text/plain": [
       "12 sqrt(kappa_b)"
      ]
     },
     "metadata": {},
     "output_type": "display_data"
    },
    {
     "name": "stdout",
     "output_type": "stream",
     "text": [
      "-1\n",
      "-1\n",
      "-1\n",
      "-1\n",
      "-1\n",
      "-1\n",
      "-1\n",
      "-1\n"
     ]
    }
   ],
   "source": [
    "mx = -100   #maximum value of exponent\n",
    "m = 1       #exponent of detunings\n",
    "\n",
    "phival = 1/4* np.pi \n",
    "R_fval = 1\n",
    "gammaval = 0.01\n",
    "kappa_cval = 1\n",
    "kappa_bval = 0.9\n",
    "gamma_fval = gammaval\n",
    "gamma_gval = gammaval\n",
    "DEgval = minsolDEg#*0.999\n",
    "Deg2val = 0 \n",
    "Deg1val = minsolDEg*minsolD1   #*0.99999\n",
    "\n",
    "for lindop in range(13):\n",
    "    show(lindop,eff_lind_coeff[lindop]  )\n",
    "    pos = 0\n",
    "    more = True\n",
    "    while(more):\n",
    "        try: \n",
    "            err = eff_lind[lindop][pos].subs(kappa_c=kappa_cval,kappa_b=kappa_bval,Omega=1, R_f=R_fval,Deg1=Deg1val,Deg2=Deg2val,DEg=DEgval,gamma_g=gamma_gval,gamma=gammaval,gamma_f=gamma_fval, phi=phival)\n",
    "            err = err._mathematica_().Together()._sage_() \n",
    "            exp = obtain_expr_exp(err)\n",
    "            if exp > mx:\n",
    "                mx = exp\n",
    "            pos += 1\n",
    "            print(exp)\n",
    "        except IndexError:\n",
    "            more = False"
   ]
  },
  {
   "cell_type": "code",
   "execution_count": 765,
   "id": "b1b9e57f",
   "metadata": {},
   "outputs": [
    {
     "data": {
      "text/plain": [
       "\"RealNumber('12.34')\""
      ]
     },
     "execution_count": 765,
     "metadata": {},
     "output_type": "execute_result"
    }
   ],
   "source": [
    "preparse('12.34')"
   ]
  },
  {
   "cell_type": "code",
   "execution_count": 976,
   "id": "8994325c",
   "metadata": {},
   "outputs": [
    {
     "data": {
      "text/plain": [
       "Real Field with 53 bits of precision"
      ]
     },
     "execution_count": 976,
     "metadata": {},
     "output_type": "execute_result"
    }
   ],
   "source": [
    "R = RealField(53); R"
   ]
  },
  {
   "cell_type": "code",
   "execution_count": 977,
   "id": "40771055",
   "metadata": {},
   "outputs": [],
   "source": [
    "RealNumber = R"
   ]
  },
  {
   "cell_type": "code",
   "execution_count": 978,
   "id": "5ace3173",
   "metadata": {},
   "outputs": [
    {
     "data": {
      "text/plain": [
       "Real Field with 53 bits of precision"
      ]
     },
     "execution_count": 978,
     "metadata": {},
     "output_type": "execute_result"
    }
   ],
   "source": [
    "(12.34).parent()"
   ]
  },
  {
   "cell_type": "code",
   "execution_count": 800,
   "id": "df6a8d46",
   "metadata": {},
   "outputs": [],
   "source": [
    "ComplexNumber = ComplexField(100)"
   ]
  },
  {
   "cell_type": "code",
   "execution_count": 328,
   "id": "50f928f5",
   "metadata": {},
   "outputs": [],
   "source": [
    "a = eff_hamiltonian_tayl[0,0]\n",
    "#a = symround( MMA_simplify(a,full=False) ,digits = 14)\n",
    "b = eff_hamiltonian_tayl[1,1]\n",
    "#b = symround(MMA_simplify(b,full=False),digits = 14)\n",
    "c = eff_hamiltonian_tayl[3,3]\n",
    "#c = symround(MMA_simplify(c,full=False),digits = 14)\n",
    "d = eff_hamiltonian_tayl[4,4]\n",
    "#d = symround(MMA_simplify(d,full=False),digits = 14)\n",
    "e = eff_hamiltonian_tayl[5,5]\n",
    "#e = symround(MMA_simplify(e,full=False),digits = 14)\n",
    "f = eff_hamiltonian_tayl[7,7]\n",
    "#f = symround(MMA_simplify(f,full=False),digits = 14)"
   ]
  },
  {
   "cell_type": "code",
   "execution_count": 70,
   "id": "763382a6",
   "metadata": {},
   "outputs": [
    {
     "name": "stdout",
     "output_type": "stream",
     "text": [
      "symround: Deleted coefficient 1.1e-16\n",
      "symround: Deleted coefficient 1.1e-16\n"
     ]
    },
    {
     "data": {
      "text/html": [
       "<html><script type=\"math/tex; mode=display\">\\newcommand{\\Bold}[1]{\\mathbf{#1}}\\frac{0.50 \\, {\\left(C^{4} {\\left(e^{\\left(4 i \\, {\\phi}\\right)} - 1\\right)}^{2} - 4 \\, C^{3} e^{\\left(4 i \\, {\\phi}\\right)} - 1.2 \\, C^{2} e^{\\left(4 i \\, {\\phi}\\right)} - 0.12 \\, C e^{\\left(4 i \\, {\\phi}\\right)} - 0.0039 \\, e^{\\left(4 i \\, {\\phi}\\right)}\\right)} {\\Omega}^{2}}{{\\left({\\left(2 i \\, C^{3} + 1.2i \\, C^{2} + 0.19i \\, C + 0.0078i\\right)} R_{f} e^{\\left(4 i \\, {\\phi}\\right)} + {\\left(C^{4} {\\left(e^{\\left(4 i \\, {\\phi}\\right)} - 1\\right)}^{2} - 4 \\, C^{3} e^{\\left(4 i \\, {\\phi}\\right)} - 1.2 \\, C^{2} e^{\\left(4 i \\, {\\phi}\\right)} - 0.12 \\, C e^{\\left(4 i \\, {\\phi}\\right)} - 0.0039 \\, e^{\\left(4 i \\, {\\phi}\\right)}\\right)} {{{\\Delta E}}^\\gamma}\\right)} C {\\gamma} + {\\left(-0.50i \\, C^{4} {\\left(e^{\\left(4 i \\, {\\phi}\\right)} - 1\\right)}^{2} + 2 i \\, C^{3} e^{\\left(4 i \\, {\\phi}\\right)} + 0.62i \\, C^{2} e^{\\left(4 i \\, {\\phi}\\right)} + 0.062i \\, C e^{\\left(4 i \\, {\\phi}\\right)} + 0.0020i \\, e^{\\left(4 i \\, {\\phi}\\right)}\\right)} {\\gamma_f} + {\\left(-0.50i \\, C^{4} {\\left(e^{\\left(4 i \\, {\\phi}\\right)} - 1\\right)}^{2} + 2 i \\, C^{3} e^{\\left(4 i \\, {\\phi}\\right)} + 0.62i \\, C^{2} e^{\\left(4 i \\, {\\phi}\\right)} + 0.062i \\, C e^{\\left(4 i \\, {\\phi}\\right)} + 0.0020i \\, e^{\\left(4 i \\, {\\phi}\\right)}\\right)} {\\gamma_g}}</script></html>"
      ],
      "text/latex": [
       "$$\\newcommand{\\Bold}[1]{\\mathbf{#1}}\\frac{0.50 \\, {\\left(C^{4} {\\left(e^{\\left(4 i \\, {\\phi}\\right)} - 1\\right)}^{2} - 4 \\, C^{3} e^{\\left(4 i \\, {\\phi}\\right)} - 1.2 \\, C^{2} e^{\\left(4 i \\, {\\phi}\\right)} - 0.12 \\, C e^{\\left(4 i \\, {\\phi}\\right)} - 0.0039 \\, e^{\\left(4 i \\, {\\phi}\\right)}\\right)} {\\Omega}^{2}}{{\\left({\\left(2 i \\, C^{3} + 1.2i \\, C^{2} + 0.19i \\, C + 0.0078i\\right)} R_{f} e^{\\left(4 i \\, {\\phi}\\right)} + {\\left(C^{4} {\\left(e^{\\left(4 i \\, {\\phi}\\right)} - 1\\right)}^{2} - 4 \\, C^{3} e^{\\left(4 i \\, {\\phi}\\right)} - 1.2 \\, C^{2} e^{\\left(4 i \\, {\\phi}\\right)} - 0.12 \\, C e^{\\left(4 i \\, {\\phi}\\right)} - 0.0039 \\, e^{\\left(4 i \\, {\\phi}\\right)}\\right)} {{{\\Delta E}}^\\gamma}\\right)} C {\\gamma} + {\\left(-0.50i \\, C^{4} {\\left(e^{\\left(4 i \\, {\\phi}\\right)} - 1\\right)}^{2} + 2 i \\, C^{3} e^{\\left(4 i \\, {\\phi}\\right)} + 0.62i \\, C^{2} e^{\\left(4 i \\, {\\phi}\\right)} + 0.062i \\, C e^{\\left(4 i \\, {\\phi}\\right)} + 0.0020i \\, e^{\\left(4 i \\, {\\phi}\\right)}\\right)} {\\gamma_f} + {\\left(-0.50i \\, C^{4} {\\left(e^{\\left(4 i \\, {\\phi}\\right)} - 1\\right)}^{2} + 2 i \\, C^{3} e^{\\left(4 i \\, {\\phi}\\right)} + 0.62i \\, C^{2} e^{\\left(4 i \\, {\\phi}\\right)} + 0.062i \\, C e^{\\left(4 i \\, {\\phi}\\right)} + 0.0020i \\, e^{\\left(4 i \\, {\\phi}\\right)}\\right)} {\\gamma_g}}$$"
      ],
      "text/plain": [
       "0.50*(C^4*(e^(4*I*phi) - 1)^2 - 4*C^3*e^(4*I*phi) - 1.2*C^2*e^(4*I*phi) - 0.12*C*e^(4*I*phi) - 0.0039*e^(4*I*phi))*Omega^2/(((2*I*C^3 + 1.2*I*C^2 + 0.19*I*C + 0.0078*I)*R_f*e^(4*I*phi) + (C^4*(e^(4*I*phi) - 1)^2 - 4*C^3*e^(4*I*phi) - 1.2*C^2*e^(4*I*phi) - 0.12*C*e^(4*I*phi) - 0.0039*e^(4*I*phi))*DEg)*C*gamma + (-0.50*I*C^4*(e^(4*I*phi) - 1)^2 + 2*I*C^3*e^(4*I*phi) + 0.62*I*C^2*e^(4*I*phi) + 0.062*I*C*e^(4*I*phi) + 0.0020*I*e^(4*I*phi))*gamma_f + (-0.50*I*C^4*(e^(4*I*phi) - 1)^2 + 2*I*C^3*e^(4*I*phi) + 0.62*I*C^2*e^(4*I*phi) + 0.062*I*C*e^(4*I*phi) + 0.0020*I*e^(4*I*phi))*gamma_g)"
      ]
     },
     "metadata": {},
     "output_type": "display_data"
    }
   ],
   "source": [
    "show(symround(a))"
   ]
  },
  {
   "cell_type": "code",
   "execution_count": 78,
   "id": "e1c3b990",
   "metadata": {},
   "outputs": [
    {
     "name": "stdout",
     "output_type": "stream",
     "text": [
      "symround: Deleted coefficient 1.1e-16\n",
      "symround: Deleted coefficient 1.1e-16\n"
     ]
    },
    {
     "data": {
      "text/html": [
       "<html><script type=\"math/tex; mode=display\">\\newcommand{\\Bold}[1]{\\mathbf{#1}}\\frac{0.50 \\, {\\left(C^{5} {{{\\Delta e}}_{{  2}}^\\gamma} {\\left(e^{\\left(4 i \\, {\\phi}\\right)} - 1\\right)}^{2} - {\\left({\\left(4 \\, {{{\\Delta e}}_{{  2}}^\\gamma} - 3 i\\right)} e^{\\left(4 i \\, {\\phi}\\right)} + 0.50i \\, e^{\\left(8 i \\, {\\phi}\\right)} + 0.50i\\right)} C^{4} + C^{3} {\\left(-1.2 \\, {{{\\Delta e}}_{{  2}}^\\gamma} + 3.2i\\right)} e^{\\left(4 i \\, {\\phi}\\right)} + C^{2} {\\left(-0.12 \\, {{{\\Delta e}}_{{  2}}^\\gamma} + 0.81i\\right)} e^{\\left(4 i \\, {\\phi}\\right)} + C {\\left(-0.0039 \\, {{{\\Delta e}}_{{  2}}^\\gamma} + 0.070i\\right)} e^{\\left(4 i \\, {\\phi}\\right)} + 0.0020i \\, e^{\\left(4 i \\, {\\phi}\\right)}\\right)} {\\Omega}^{2}}{{\\left({\\left(2 i \\, C^{4} {{{\\Delta e}}_{{  2}}^\\gamma} + C^{3} {\\left(1.2i \\, {{{\\Delta e}}_{{  2}}^\\gamma} + 1.8\\right)} + C^{2} {\\left(0.19i \\, {{{\\Delta e}}_{{  2}}^\\gamma} + 0.88\\right)} + C {\\left(0.0078i \\, {{{\\Delta e}}_{{  2}}^\\gamma} + 0.11\\right)} + 0.0039\\right)} R_{f} e^{\\left(4 i \\, {\\phi}\\right)} + {\\left(C^{5} {{{\\Delta e}}_{{  2}}^\\gamma} {\\left(e^{\\left(4 i \\, {\\phi}\\right)} - 1\\right)}^{2} - {\\left({\\left(4 \\, {{{\\Delta e}}_{{  2}}^\\gamma} - 3 i\\right)} e^{\\left(4 i \\, {\\phi}\\right)} + 0.50i \\, e^{\\left(8 i \\, {\\phi}\\right)} + 0.50i\\right)} C^{4} + C^{3} {\\left(-1.2 \\, {{{\\Delta e}}_{{  2}}^\\gamma} + 3.2i\\right)} e^{\\left(4 i \\, {\\phi}\\right)} + C^{2} {\\left(-0.12 \\, {{{\\Delta e}}_{{  2}}^\\gamma} + 0.81i\\right)} e^{\\left(4 i \\, {\\phi}\\right)} + C {\\left(-0.0039 \\, {{{\\Delta e}}_{{  2}}^\\gamma} + 0.070i\\right)} e^{\\left(4 i \\, {\\phi}\\right)} + 0.0020i \\, e^{\\left(4 i \\, {\\phi}\\right)}\\right)} {{{\\Delta E}}^\\gamma}\\right)} C {\\gamma} + {\\left(-0.50i \\, C^{5} {{{\\Delta e}}_{{  2}}^\\gamma} {\\left(e^{\\left(4 i \\, {\\phi}\\right)} - 1\\right)}^{2} + {\\left({\\left(2 i \\, {{{\\Delta e}}_{{  2}}^\\gamma} + 1.5\\right)} e^{\\left(4 i \\, {\\phi}\\right)} - 0.25 \\, e^{\\left(8 i \\, {\\phi}\\right)} - 0.25\\right)} C^{4} + C^{3} {\\left(0.62i \\, {{{\\Delta e}}_{{  2}}^\\gamma} + 1.6\\right)} e^{\\left(4 i \\, {\\phi}\\right)} + C^{2} {\\left(0.062i \\, {{{\\Delta e}}_{{  2}}^\\gamma} + 0.41\\right)} e^{\\left(4 i \\, {\\phi}\\right)} + C {\\left(0.0020i \\, {{{\\Delta e}}_{{  2}}^\\gamma} + 0.035\\right)} e^{\\left(4 i \\, {\\phi}\\right)} + 0.00098 \\, e^{\\left(4 i \\, {\\phi}\\right)}\\right)} {\\gamma_f} + {\\left(-0.50i \\, C^{5} {{{\\Delta e}}_{{  2}}^\\gamma} {\\left(e^{\\left(4 i \\, {\\phi}\\right)} - 1\\right)}^{2} + {\\left({\\left(2 i \\, {{{\\Delta e}}_{{  2}}^\\gamma} + 1.5\\right)} e^{\\left(4 i \\, {\\phi}\\right)} - 0.25 \\, e^{\\left(8 i \\, {\\phi}\\right)} - 0.25\\right)} C^{4} + C^{3} {\\left(0.62i \\, {{{\\Delta e}}_{{  2}}^\\gamma} + 1.6\\right)} e^{\\left(4 i \\, {\\phi}\\right)} + C^{2} {\\left(0.062i \\, {{{\\Delta e}}_{{  2}}^\\gamma} + 0.41\\right)} e^{\\left(4 i \\, {\\phi}\\right)} + C {\\left(0.0020i \\, {{{\\Delta e}}_{{  2}}^\\gamma} + 0.035\\right)} e^{\\left(4 i \\, {\\phi}\\right)} + 0.00098 \\, e^{\\left(4 i \\, {\\phi}\\right)}\\right)} {\\gamma_g}}</script></html>"
      ],
      "text/latex": [
       "$$\\newcommand{\\Bold}[1]{\\mathbf{#1}}\\frac{0.50 \\, {\\left(C^{5} {{{\\Delta e}}_{{  2}}^\\gamma} {\\left(e^{\\left(4 i \\, {\\phi}\\right)} - 1\\right)}^{2} - {\\left({\\left(4 \\, {{{\\Delta e}}_{{  2}}^\\gamma} - 3 i\\right)} e^{\\left(4 i \\, {\\phi}\\right)} + 0.50i \\, e^{\\left(8 i \\, {\\phi}\\right)} + 0.50i\\right)} C^{4} + C^{3} {\\left(-1.2 \\, {{{\\Delta e}}_{{  2}}^\\gamma} + 3.2i\\right)} e^{\\left(4 i \\, {\\phi}\\right)} + C^{2} {\\left(-0.12 \\, {{{\\Delta e}}_{{  2}}^\\gamma} + 0.81i\\right)} e^{\\left(4 i \\, {\\phi}\\right)} + C {\\left(-0.0039 \\, {{{\\Delta e}}_{{  2}}^\\gamma} + 0.070i\\right)} e^{\\left(4 i \\, {\\phi}\\right)} + 0.0020i \\, e^{\\left(4 i \\, {\\phi}\\right)}\\right)} {\\Omega}^{2}}{{\\left({\\left(2 i \\, C^{4} {{{\\Delta e}}_{{  2}}^\\gamma} + C^{3} {\\left(1.2i \\, {{{\\Delta e}}_{{  2}}^\\gamma} + 1.8\\right)} + C^{2} {\\left(0.19i \\, {{{\\Delta e}}_{{  2}}^\\gamma} + 0.88\\right)} + C {\\left(0.0078i \\, {{{\\Delta e}}_{{  2}}^\\gamma} + 0.11\\right)} + 0.0039\\right)} R_{f} e^{\\left(4 i \\, {\\phi}\\right)} + {\\left(C^{5} {{{\\Delta e}}_{{  2}}^\\gamma} {\\left(e^{\\left(4 i \\, {\\phi}\\right)} - 1\\right)}^{2} - {\\left({\\left(4 \\, {{{\\Delta e}}_{{  2}}^\\gamma} - 3 i\\right)} e^{\\left(4 i \\, {\\phi}\\right)} + 0.50i \\, e^{\\left(8 i \\, {\\phi}\\right)} + 0.50i\\right)} C^{4} + C^{3} {\\left(-1.2 \\, {{{\\Delta e}}_{{  2}}^\\gamma} + 3.2i\\right)} e^{\\left(4 i \\, {\\phi}\\right)} + C^{2} {\\left(-0.12 \\, {{{\\Delta e}}_{{  2}}^\\gamma} + 0.81i\\right)} e^{\\left(4 i \\, {\\phi}\\right)} + C {\\left(-0.0039 \\, {{{\\Delta e}}_{{  2}}^\\gamma} + 0.070i\\right)} e^{\\left(4 i \\, {\\phi}\\right)} + 0.0020i \\, e^{\\left(4 i \\, {\\phi}\\right)}\\right)} {{{\\Delta E}}^\\gamma}\\right)} C {\\gamma} + {\\left(-0.50i \\, C^{5} {{{\\Delta e}}_{{  2}}^\\gamma} {\\left(e^{\\left(4 i \\, {\\phi}\\right)} - 1\\right)}^{2} + {\\left({\\left(2 i \\, {{{\\Delta e}}_{{  2}}^\\gamma} + 1.5\\right)} e^{\\left(4 i \\, {\\phi}\\right)} - 0.25 \\, e^{\\left(8 i \\, {\\phi}\\right)} - 0.25\\right)} C^{4} + C^{3} {\\left(0.62i \\, {{{\\Delta e}}_{{  2}}^\\gamma} + 1.6\\right)} e^{\\left(4 i \\, {\\phi}\\right)} + C^{2} {\\left(0.062i \\, {{{\\Delta e}}_{{  2}}^\\gamma} + 0.41\\right)} e^{\\left(4 i \\, {\\phi}\\right)} + C {\\left(0.0020i \\, {{{\\Delta e}}_{{  2}}^\\gamma} + 0.035\\right)} e^{\\left(4 i \\, {\\phi}\\right)} + 0.00098 \\, e^{\\left(4 i \\, {\\phi}\\right)}\\right)} {\\gamma_f} + {\\left(-0.50i \\, C^{5} {{{\\Delta e}}_{{  2}}^\\gamma} {\\left(e^{\\left(4 i \\, {\\phi}\\right)} - 1\\right)}^{2} + {\\left({\\left(2 i \\, {{{\\Delta e}}_{{  2}}^\\gamma} + 1.5\\right)} e^{\\left(4 i \\, {\\phi}\\right)} - 0.25 \\, e^{\\left(8 i \\, {\\phi}\\right)} - 0.25\\right)} C^{4} + C^{3} {\\left(0.62i \\, {{{\\Delta e}}_{{  2}}^\\gamma} + 1.6\\right)} e^{\\left(4 i \\, {\\phi}\\right)} + C^{2} {\\left(0.062i \\, {{{\\Delta e}}_{{  2}}^\\gamma} + 0.41\\right)} e^{\\left(4 i \\, {\\phi}\\right)} + C {\\left(0.0020i \\, {{{\\Delta e}}_{{  2}}^\\gamma} + 0.035\\right)} e^{\\left(4 i \\, {\\phi}\\right)} + 0.00098 \\, e^{\\left(4 i \\, {\\phi}\\right)}\\right)} {\\gamma_g}}$$"
      ],
      "text/plain": [
       "0.50*(C^5*Deg2*(e^(4*I*phi) - 1)^2 - ((4*Deg2 - 3*I)*e^(4*I*phi) + 0.50*I*e^(8*I*phi) + 0.50*I)*C^4 + C^3*(-1.2*Deg2 + 3.2*I)*e^(4*I*phi) + C^2*(-0.12*Deg2 + 0.81*I)*e^(4*I*phi) + C*(-0.0039*Deg2 + 0.070*I)*e^(4*I*phi) + 0.0020*I*e^(4*I*phi))*Omega^2/(((2*I*C^4*Deg2 + C^3*(1.2*I*Deg2 + 1.8) + C^2*(0.19*I*Deg2 + 0.88) + C*(0.0078*I*Deg2 + 0.11) + 0.0039)*R_f*e^(4*I*phi) + (C^5*Deg2*(e^(4*I*phi) - 1)^2 - ((4*Deg2 - 3*I)*e^(4*I*phi) + 0.50*I*e^(8*I*phi) + 0.50*I)*C^4 + C^3*(-1.2*Deg2 + 3.2*I)*e^(4*I*phi) + C^2*(-0.12*Deg2 + 0.81*I)*e^(4*I*phi) + C*(-0.0039*Deg2 + 0.070*I)*e^(4*I*phi) + 0.0020*I*e^(4*I*phi))*DEg)*C*gamma + (-0.50*I*C^5*Deg2*(e^(4*I*phi) - 1)^2 + ((2*I*Deg2 + 1.5)*e^(4*I*phi) - 0.25*e^(8*I*phi) - 0.25)*C^4 + C^3*(0.62*I*Deg2 + 1.6)*e^(4*I*phi) + C^2*(0.062*I*Deg2 + 0.41)*e^(4*I*phi) + C*(0.0020*I*Deg2 + 0.035)*e^(4*I*phi) + 0.00098*e^(4*I*phi))*gamma_f + (-0.50*I*C^5*Deg2*(e^(4*I*phi) - 1)^2 + ((2*I*Deg2 + 1.5)*e^(4*I*phi) - 0.25*e^(8*I*phi) - 0.25)*C^4 + C^3*(0.62*I*Deg2 + 1.6)*e^(4*I*phi) + C^2*(0.062*I*Deg2 + 0.41)*e^(4*I*phi) + C*(0.0020*I*Deg2 + 0.035)*e^(4*I*phi) + 0.00098*e^(4*I*phi))*gamma_g)"
      ]
     },
     "metadata": {},
     "output_type": "display_data"
    }
   ],
   "source": [
    "show(symround(b))"
   ]
  },
  {
   "cell_type": "code",
   "execution_count": 330,
   "id": "79aa7690",
   "metadata": {},
   "outputs": [
    {
     "data": {
      "text/html": [
       "<html><script type=\"math/tex; mode=display\">\\newcommand{\\Bold}[1]{\\mathbf{#1}}0 \\sqrt{{\\kappa_c}}</script></html>"
      ],
      "text/latex": [
       "$$\\newcommand{\\Bold}[1]{\\mathbf{#1}}0 \\sqrt{{\\kappa_c}}$$"
      ],
      "text/plain": [
       "0 sqrt(kappa_c)"
      ]
     },
     "metadata": {},
     "output_type": "display_data"
    },
    {
     "name": "stdout",
     "output_type": "stream",
     "text": [
      "-1\n",
      "-1\n",
      "-1\n",
      "-1\n",
      "-1\n",
      "-1\n",
      "-1\n",
      "-1\n"
     ]
    },
    {
     "data": {
      "text/html": [
       "<html><script type=\"math/tex; mode=display\">\\newcommand{\\Bold}[1]{\\mathbf{#1}}1 \\sqrt{{\\gamma}}</script></html>"
      ],
      "text/latex": [
       "$$\\newcommand{\\Bold}[1]{\\mathbf{#1}}1 \\sqrt{{\\gamma}}$$"
      ],
      "text/plain": [
       "1 sqrt(gamma)"
      ]
     },
     "metadata": {},
     "output_type": "display_data"
    },
    {
     "name": "stdout",
     "output_type": "stream",
     "text": [
      "-2\n",
      "-2\n",
      "-2\n",
      "-2\n"
     ]
    },
    {
     "data": {
      "text/html": [
       "<html><script type=\"math/tex; mode=display\">\\newcommand{\\Bold}[1]{\\mathbf{#1}}2 \\sqrt{{\\kappa_b}}</script></html>"
      ],
      "text/latex": [
       "$$\\newcommand{\\Bold}[1]{\\mathbf{#1}}2 \\sqrt{{\\kappa_b}}$$"
      ],
      "text/plain": [
       "2 sqrt(kappa_b)"
      ]
     },
     "metadata": {},
     "output_type": "display_data"
    },
    {
     "name": "stdout",
     "output_type": "stream",
     "text": [
      "-2\n",
      "-2\n",
      "-2\n",
      "-2\n",
      "-2\n",
      "-2\n",
      "-2\n",
      "-1\n"
     ]
    },
    {
     "data": {
      "text/html": [
       "<html><script type=\"math/tex; mode=display\">\\newcommand{\\Bold}[1]{\\mathbf{#1}}3 \\sqrt{{\\kappa_c}}</script></html>"
      ],
      "text/latex": [
       "$$\\newcommand{\\Bold}[1]{\\mathbf{#1}}3 \\sqrt{{\\kappa_c}}$$"
      ],
      "text/plain": [
       "3 sqrt(kappa_c)"
      ]
     },
     "metadata": {},
     "output_type": "display_data"
    },
    {
     "name": "stdout",
     "output_type": "stream",
     "text": [
      "-1\n",
      "-1\n",
      "-1\n",
      "-1\n",
      "-1\n",
      "-1\n",
      "-1\n",
      "-1\n"
     ]
    },
    {
     "data": {
      "text/html": [
       "<html><script type=\"math/tex; mode=display\">\\newcommand{\\Bold}[1]{\\mathbf{#1}}4 \\sqrt{{\\gamma}}</script></html>"
      ],
      "text/latex": [
       "$$\\newcommand{\\Bold}[1]{\\mathbf{#1}}4 \\sqrt{{\\gamma}}$$"
      ],
      "text/plain": [
       "4 sqrt(gamma)"
      ]
     },
     "metadata": {},
     "output_type": "display_data"
    },
    {
     "name": "stdout",
     "output_type": "stream",
     "text": [
      "-2\n",
      "-2\n",
      "-2\n",
      "-2\n"
     ]
    },
    {
     "data": {
      "text/html": [
       "<html><script type=\"math/tex; mode=display\">\\newcommand{\\Bold}[1]{\\mathbf{#1}}5 \\sqrt{{\\kappa_b}}</script></html>"
      ],
      "text/latex": [
       "$$\\newcommand{\\Bold}[1]{\\mathbf{#1}}5 \\sqrt{{\\kappa_b}}$$"
      ],
      "text/plain": [
       "5 sqrt(kappa_b)"
      ]
     },
     "metadata": {},
     "output_type": "display_data"
    },
    {
     "name": "stdout",
     "output_type": "stream",
     "text": [
      "-2\n",
      "-2\n",
      "-2\n",
      "-2\n",
      "-2\n",
      "-2\n",
      "-2\n",
      "-1\n"
     ]
    },
    {
     "data": {
      "text/html": [
       "<html><script type=\"math/tex; mode=display\">\\newcommand{\\Bold}[1]{\\mathbf{#1}}6 \\sqrt{{\\kappa_c}}</script></html>"
      ],
      "text/latex": [
       "$$\\newcommand{\\Bold}[1]{\\mathbf{#1}}6 \\sqrt{{\\kappa_c}}$$"
      ],
      "text/plain": [
       "6 sqrt(kappa_c)"
      ]
     },
     "metadata": {},
     "output_type": "display_data"
    },
    {
     "name": "stdout",
     "output_type": "stream",
     "text": [
      "-1\n",
      "-1\n",
      "-1\n",
      "-1\n",
      "-1\n",
      "-1\n",
      "-1\n",
      "-1\n"
     ]
    },
    {
     "data": {
      "text/html": [
       "<html><script type=\"math/tex; mode=display\">\\newcommand{\\Bold}[1]{\\mathbf{#1}}7 \\sqrt{{\\gamma_g}}</script></html>"
      ],
      "text/latex": [
       "$$\\newcommand{\\Bold}[1]{\\mathbf{#1}}7 \\sqrt{{\\gamma_g}}$$"
      ],
      "text/plain": [
       "7 sqrt(gamma_g)"
      ]
     },
     "metadata": {},
     "output_type": "display_data"
    },
    {
     "name": "stdout",
     "output_type": "stream",
     "text": [
      "-2\n",
      "-2\n",
      "-2\n",
      "-2\n",
      "-2\n",
      "-2\n",
      "-2\n",
      "-2\n"
     ]
    },
    {
     "data": {
      "text/html": [
       "<html><script type=\"math/tex; mode=display\">\\newcommand{\\Bold}[1]{\\mathbf{#1}}8 \\sqrt{{\\gamma_f}}</script></html>"
      ],
      "text/latex": [
       "$$\\newcommand{\\Bold}[1]{\\mathbf{#1}}8 \\sqrt{{\\gamma_f}}$$"
      ],
      "text/plain": [
       "8 sqrt(gamma_f)"
      ]
     },
     "metadata": {},
     "output_type": "display_data"
    },
    {
     "name": "stdout",
     "output_type": "stream",
     "text": [
      "-2\n",
      "-2\n",
      "-2\n",
      "-2\n",
      "-2\n",
      "-2\n",
      "-2\n",
      "-2\n"
     ]
    },
    {
     "data": {
      "text/html": [
       "<html><script type=\"math/tex; mode=display\">\\newcommand{\\Bold}[1]{\\mathbf{#1}}9 \\sqrt{{\\kappa_b}}</script></html>"
      ],
      "text/latex": [
       "$$\\newcommand{\\Bold}[1]{\\mathbf{#1}}9 \\sqrt{{\\kappa_b}}$$"
      ],
      "text/plain": [
       "9 sqrt(kappa_b)"
      ]
     },
     "metadata": {},
     "output_type": "display_data"
    },
    {
     "name": "stdout",
     "output_type": "stream",
     "text": [
      "-2\n",
      "-2\n",
      "-2\n",
      "-2\n",
      "-2\n",
      "-2\n",
      "-2\n",
      "-2\n"
     ]
    },
    {
     "data": {
      "text/html": [
       "<html><script type=\"math/tex; mode=display\">\\newcommand{\\Bold}[1]{\\mathbf{#1}}10 \\sqrt{{\\kappa_c}}</script></html>"
      ],
      "text/latex": [
       "$$\\newcommand{\\Bold}[1]{\\mathbf{#1}}10 \\sqrt{{\\kappa_c}}$$"
      ],
      "text/plain": [
       "10 sqrt(kappa_c)"
      ]
     },
     "metadata": {},
     "output_type": "display_data"
    },
    {
     "name": "stdout",
     "output_type": "stream",
     "text": [
      "-1\n",
      "-1\n",
      "-1\n",
      "-1\n",
      "-1\n",
      "-1\n",
      "-1\n",
      "-1\n"
     ]
    },
    {
     "data": {
      "text/html": [
       "<html><script type=\"math/tex; mode=display\">\\newcommand{\\Bold}[1]{\\mathbf{#1}}11 \\sqrt{{\\gamma}}</script></html>"
      ],
      "text/latex": [
       "$$\\newcommand{\\Bold}[1]{\\mathbf{#1}}11 \\sqrt{{\\gamma}}$$"
      ],
      "text/plain": [
       "11 sqrt(gamma)"
      ]
     },
     "metadata": {},
     "output_type": "display_data"
    },
    {
     "name": "stdout",
     "output_type": "stream",
     "text": [
      "-2\n",
      "-2\n",
      "-2\n",
      "-2\n"
     ]
    },
    {
     "data": {
      "text/html": [
       "<html><script type=\"math/tex; mode=display\">\\newcommand{\\Bold}[1]{\\mathbf{#1}}12 \\sqrt{{\\kappa_b}}</script></html>"
      ],
      "text/latex": [
       "$$\\newcommand{\\Bold}[1]{\\mathbf{#1}}12 \\sqrt{{\\kappa_b}}$$"
      ],
      "text/plain": [
       "12 sqrt(kappa_b)"
      ]
     },
     "metadata": {},
     "output_type": "display_data"
    },
    {
     "name": "stdout",
     "output_type": "stream",
     "text": [
      "-2\n",
      "-2\n",
      "-2\n",
      "-2\n",
      "-2\n",
      "-2\n",
      "-2\n",
      "-2\n"
     ]
    }
   ],
   "source": [
    "mx = -100   #maximum value of exponent\n",
    "m = 1/2       #exponent of detunings\n",
    "\n",
    "phival = 0 * np.pi \n",
    "R_fval = 1\n",
    "gammaval = 1\n",
    "kappa_cval = 1\n",
    "kappa_bval = 1\n",
    "gamma_fval = gammaval\n",
    "gamma_gval = gammaval\n",
    "DEgval = 1\n",
    "Deg2val = DEgval*minsolD2  #*0.99999\n",
    "Deg1val = DEgval*minsolD1\n",
    "\n",
    "for lindop in range(13):\n",
    "    show(lindop,eff_lind_coeff[lindop]  )\n",
    "    pos = 0\n",
    "    more = True\n",
    "    while(more):\n",
    "        try: \n",
    "            err = eff_lind[lindop][pos].subs(kappa_c=kappa_cval,kappa_b=kappa_bval,Omega=1, R_f=R_fval,Deg1=Deg1val*C^m,Deg2=Deg2val*C^m,DEg=DEgval,gamma_g=gamma_gval,gamma=gammaval,gamma_f=gamma_fval, phi=phival)\n",
    "            err = err*conjugate(err)\n",
    "            err = err._mathematica_().Together()._sage_() \n",
    "            exp = obtain_expr_exp(err)\n",
    "            if exp > mx:\n",
    "                mx = exp\n",
    "            pos += 1\n",
    "            print(exp)\n",
    "        except IndexError:\n",
    "            more = False"
   ]
  },
  {
   "cell_type": "code",
   "execution_count": 349,
   "id": "caf3163c",
   "metadata": {},
   "outputs": [
    {
     "name": "stdout",
     "output_type": "stream",
     "text": [
      "symround: Deleted coefficient -3.6e-15\n",
      "symround: Deleted coefficient 2.8e-14\n",
      "symround: Deleted coefficient -2.8e-14\n",
      "symround: Deleted coefficient -3.3e-14\n",
      "symround: Deleted coefficient 4.3e-14\n",
      "symround: Deleted coefficient 1.2e-13\n",
      "symround: Deleted coefficient 1.1e-13\n",
      "symround: Deleted coefficient 4.6e-13\n",
      "symround: Deleted coefficient 5.7e-14\n",
      "symround: Deleted coefficient -2.7e-13\n",
      "symround: Deleted coefficient -4.0e-13\n",
      "symround: Deleted coefficient 3.4e-13\n",
      "symround: Deleted coefficient -5.7e-13\n",
      "symround: Deleted coefficient 2.0e-13\n",
      "symround: Deleted coefficient -4.5e-13\n",
      "symround: Deleted coefficient 8.5e-14\n",
      "symround: Deleted coefficient -2.8e-14\n",
      "symround: Deleted coefficient 4.0e-13\n",
      "symround: Deleted coefficient 2.3e-13\n",
      "symround: Deleted coefficient -3.8e-13\n",
      "symround: Deleted coefficient 1.6e-13\n",
      "symround: Deleted coefficient -1.4e-14\n",
      "symround: Deleted coefficient 7.1e-14\n",
      "symround: Deleted coefficient -8.9e-14\n",
      "symround: Deleted coefficient 2.1e-14\n",
      "symround: Deleted coefficient 3.6e-15\n",
      "symround: Deleted coefficient -4.0e-15\n",
      "symround: Deleted coefficient 2.7e-15\n",
      "symround: Deleted coefficient -1.3e-15\n",
      "symround: Deleted coefficient 1.3e-15\n",
      "symround: Deleted coefficient 1.7e-16\n",
      "symround: Deleted coefficient -3.3e-16\n",
      "symround: Deleted coefficient 7.6e-17\n",
      "symround: Deleted coefficient 2.8e-17\n",
      "symround: Deleted coefficient -7.8e-18\n",
      "symround: Deleted coefficient -1.4e-17\n",
      "symround: Deleted coefficient 1.3e-18\n",
      "symround: Deleted coefficient -1.6e-19\n",
      "symround: Deleted coefficient -2.2e-19\n",
      "symround: Deleted coefficient 5.1e-21\n",
      "symround: Deleted coefficient -1.4e-20\n",
      "symround: Deleted coefficient 1.0e-21\n",
      "symround: Deleted coefficient 8.5e-22\n",
      "symround: Deleted coefficient 2.5e-23\n",
      "symround: Deleted coefficient -1.8e-24\n",
      "symround: Deleted coefficient 9.9e-24\n",
      "symround: Deleted coefficient 2.6e-26\n",
      "symround: Deleted coefficient 1.0e-25\n",
      "symround: Deleted coefficient -8.1e-28\n",
      "symround: Deleted coefficient 2.0e-14\n",
      "symround: Deleted coefficient 3.2e-27\n",
      "symround: Deleted coefficient -9.8e-13\n",
      "symround: Deleted coefficient -6.6e-15\n"
     ]
    },
    {
     "data": {
      "text/html": [
       "<html><script type=\"math/tex; mode=display\">\\newcommand{\\Bold}[1]{\\mathbf{#1}}-C^{33.5000000000000} - 3 \\, C^{33} - 9.75000000000000 \\, C^{32.5000000000000} - 10.3800000000000 \\, C^{32} - 43 \\, C^{31.5000000000000} - 19.2500000000000 \\, C^{31} - 125 \\, C^{30.5000000000000} - 27.2500000000000 \\, C^{30} - 276 \\, C^{29.5000000000000} - 17.2500000000000 \\, C^{29} - 500 \\, C^{28.5000000000000} + 15 \\, C^{28} - 760 \\, C^{27.5000000000000} + 66 \\, C^{27} - 992 \\, C^{26.5000000000000} + 126 \\, C^{26} - 1120 \\, C^{25.5000000000000} + 168 \\, C^{25} - 1104 \\, C^{24.5000000000000} + 182 \\, C^{24} - \\left(976.000000000000 + 1.47800000000000 \\times 10^{-12}i\\right) \\, C^{23.5000000000000} + 166 \\, C^{23} - 752 \\, C^{22.5000000000000} + 127 \\, C^{22} - 512 \\, C^{21.5000000000000} + 85 \\, C^{21} - 308 \\, C^{20.5000000000000} + 48 \\, C^{20} - 164 \\, C^{19.5000000000000} + 23.5000000000000 \\, C^{19} - 76 \\, C^{18.5000000000000} + 9.75000000000000 \\, C^{18} - 30.5000000000000 \\, C^{17.5000000000000} + 3.37500000000000 \\, C^{17} - 10.5000000000000 \\, C^{16.5000000000000} + 0.968800000000000 \\, C^{16} - 3.03100000000000 \\, C^{15.5000000000000} + 0.226600000000000 \\, C^{15} - 0.734400000000000 \\, C^{14.5000000000000} + 0.0419900000000000 \\, C^{14} - 0.148400000000000 \\, C^{13.5000000000000} + 0.00604200000000000 \\, C^{13} - 0.0241700000000000 \\, C^{12.5000000000000} + 0.000679000000000000 \\, C^{12} - 0.00317400000000000 \\, C^{11.5000000000000} + 0.0000591300000000000 \\, C^{11} - 0.000331900000000000 \\, C^{10.5000000000000} + \\left(3.93400000000000 \\times 10^{-6}\\right) \\, C^{10} - 0.0000271800000000000 \\, C^{9.50000000000000} + \\left(1.95600000000000 \\times 10^{-7}\\right) \\, C^{9} - \\left(1.71400000000000 \\times 10^{-6}\\right) \\, C^{8.50000000000000} + \\left(7.04300000000000 \\times 10^{-9}\\right) \\, C^{8} - \\left(8.19600000000000 \\times 10^{-8}\\right) \\, C^{7.50000000000000} + \\left(1.76400000000000 \\times 10^{-10}\\right) \\, C^{7} - \\left(2.82300000000000 \\times 10^{-9}\\right) \\, C^{6.50000000000000} + \\left(2.72800000000000 \\times 10^{-12}\\right) \\, C^{6} - \\left(6.73000000000000 \\times 10^{-11}\\right) \\, C^{5.50000000000000}</script></html>"
      ],
      "text/latex": [
       "$$\\newcommand{\\Bold}[1]{\\mathbf{#1}}-C^{33.5000000000000} - 3 \\, C^{33} - 9.75000000000000 \\, C^{32.5000000000000} - 10.3800000000000 \\, C^{32} - 43 \\, C^{31.5000000000000} - 19.2500000000000 \\, C^{31} - 125 \\, C^{30.5000000000000} - 27.2500000000000 \\, C^{30} - 276 \\, C^{29.5000000000000} - 17.2500000000000 \\, C^{29} - 500 \\, C^{28.5000000000000} + 15 \\, C^{28} - 760 \\, C^{27.5000000000000} + 66 \\, C^{27} - 992 \\, C^{26.5000000000000} + 126 \\, C^{26} - 1120 \\, C^{25.5000000000000} + 168 \\, C^{25} - 1104 \\, C^{24.5000000000000} + 182 \\, C^{24} - \\left(976.000000000000 + 1.47800000000000 \\times 10^{-12}i\\right) \\, C^{23.5000000000000} + 166 \\, C^{23} - 752 \\, C^{22.5000000000000} + 127 \\, C^{22} - 512 \\, C^{21.5000000000000} + 85 \\, C^{21} - 308 \\, C^{20.5000000000000} + 48 \\, C^{20} - 164 \\, C^{19.5000000000000} + 23.5000000000000 \\, C^{19} - 76 \\, C^{18.5000000000000} + 9.75000000000000 \\, C^{18} - 30.5000000000000 \\, C^{17.5000000000000} + 3.37500000000000 \\, C^{17} - 10.5000000000000 \\, C^{16.5000000000000} + 0.968800000000000 \\, C^{16} - 3.03100000000000 \\, C^{15.5000000000000} + 0.226600000000000 \\, C^{15} - 0.734400000000000 \\, C^{14.5000000000000} + 0.0419900000000000 \\, C^{14} - 0.148400000000000 \\, C^{13.5000000000000} + 0.00604200000000000 \\, C^{13} - 0.0241700000000000 \\, C^{12.5000000000000} + 0.000679000000000000 \\, C^{12} - 0.00317400000000000 \\, C^{11.5000000000000} + 0.0000591300000000000 \\, C^{11} - 0.000331900000000000 \\, C^{10.5000000000000} + \\left(3.93400000000000 \\times 10^{-6}\\right) \\, C^{10} - 0.0000271800000000000 \\, C^{9.50000000000000} + \\left(1.95600000000000 \\times 10^{-7}\\right) \\, C^{9} - \\left(1.71400000000000 \\times 10^{-6}\\right) \\, C^{8.50000000000000} + \\left(7.04300000000000 \\times 10^{-9}\\right) \\, C^{8} - \\left(8.19600000000000 \\times 10^{-8}\\right) \\, C^{7.50000000000000} + \\left(1.76400000000000 \\times 10^{-10}\\right) \\, C^{7} - \\left(2.82300000000000 \\times 10^{-9}\\right) \\, C^{6.50000000000000} + \\left(2.72800000000000 \\times 10^{-12}\\right) \\, C^{6} - \\left(6.73000000000000 \\times 10^{-11}\\right) \\, C^{5.50000000000000}$$"
      ],
      "text/plain": [
       "-C^33.5000000000000 - 3*C^33 - 9.75000000000000*C^32.5000000000000 - 10.3800000000000*C^32 - 43*C^31.5000000000000 - 19.2500000000000*C^31 - 125*C^30.5000000000000 - 27.2500000000000*C^30 - 276*C^29.5000000000000 - 17.2500000000000*C^29 - 500*C^28.5000000000000 + 15*C^28 - 760*C^27.5000000000000 + 66*C^27 - 992*C^26.5000000000000 + 126*C^26 - 1120*C^25.5000000000000 + 168*C^25 - 1104*C^24.5000000000000 + 182*C^24 - (976.000000000000 + 1.47800000000000e-12*I)*C^23.5000000000000 + 166*C^23 - 752*C^22.5000000000000 + 127*C^22 - 512*C^21.5000000000000 + 85*C^21 - 308*C^20.5000000000000 + 48*C^20 - 164*C^19.5000000000000 + 23.5000000000000*C^19 - 76*C^18.5000000000000 + 9.75000000000000*C^18 - 30.5000000000000*C^17.5000000000000 + 3.37500000000000*C^17 - 10.5000000000000*C^16.5000000000000 + 0.968800000000000*C^16 - 3.03100000000000*C^15.5000000000000 + 0.226600000000000*C^15 - 0.734400000000000*C^14.5000000000000 + 0.0419900000000000*C^14 - 0.148400000000000*C^13.5000000000000 + 0.00604200000000000*C^13 - 0.0241700000000000*C^12.5000000000000 + 0.000679000000000000*C^12 - 0.00317400000000000*C^11.5000000000000 + 0.0000591300000000000*C^11 - 0.000331900000000000*C^10.5000000000000 + (3.93400000000000e-6)*C^10 - 0.0000271800000000000*C^9.50000000000000 + (1.95600000000000e-7)*C^9 - (1.71400000000000e-6)*C^8.50000000000000 + (7.04300000000000e-9)*C^8 - (8.19600000000000e-8)*C^7.50000000000000 + (1.76400000000000e-10)*C^7 - (2.82300000000000e-9)*C^6.50000000000000 + (2.72800000000000e-12)*C^6 - (6.73000000000000e-11)*C^5.50000000000000"
      ]
     },
     "metadata": {},
     "output_type": "display_data"
    }
   ],
   "source": [
    "q = f.subs(kappa_c=kappa_cval,kappa_b=kappa_bval,Omega=1, R_f=R_fval,Deg1=Deg1val*C^m,Deg2=Deg2val*C^m,DEg=DEgval,gamma_g=gamma_gval,gamma=gammaval,gamma_f=gamma_fval, phi=phival)\n",
    "q = (q+conjugate(q))._mathematica_().Together()._sage_()\n",
    "q = symround(q.subs(kappa_c=kappa_cval,kappa_b=kappa_bval,Omega=1, R_f=R_fval,Deg1=Deg1val*C^m,Deg2=Deg2val,DEg=DEgval*C^m,gamma_g=gamma_gval,gamma=gammaval,gamma_f=gamma_fval, phi=phival))\n",
    "\n",
    "show(q._mathematica_().Numerator().Collect('C')._sage_())"
   ]
  },
  {
   "cell_type": "code",
   "execution_count": 350,
   "id": "96d3a2a3",
   "metadata": {},
   "outputs": [
    {
     "data": {
      "text/html": [
       "<html><script type=\"math/tex; mode=display\">\\newcommand{\\Bold}[1]{\\mathbf{#1}}24.8550913100000 \\, C^{31.0000000000000} + 10.1689828025000 \\, C^{30.0000000000000} + {\\left(77.5156250000000 \\, C^{2.50000000000000} + 16.17187500000000 \\, C^{1.50000000000000} - 33.1079011415407 - 1.42108547152020 \\times 10^{-14}i\\right)} C^{28} + \\left(73.6554160544155 - 3.55271367880050 \\times 10^{-15}i\\right) \\, C^{29.0000000000000} + 0.810937500000000 \\, C^{\\frac{57}{2}} + {\\left(-77.1250000000000 \\, C^{3.50000000000000} - 18.78514999999997 \\, C^{2.50000000000000} - 1.10119250000000 \\, C^{1.50000000000000} - 71.9681890249677 - 5.68434188608080 \\times 10^{-14}i\\right)} C^{27} + \\left(91.2624568163341 - 3.66373598126302 \\times 10^{-15}i\\right) \\, C^{28.0000000000000} + 0.00519000000000003 \\, C^{\\frac{55}{2}} - 0.01831151619120000 \\, C^{27.5000000000000} + {\\left(\\left(2.69394000000005 - 2.84217094304040 \\times 10^{-14}i\\right) \\, C^{3.50000000000000} + 28.83331291125617 \\, C^{2.50000000000000} + \\left(5.91698800801875 - 3.55271367880050 \\times 10^{-15}i\\right) \\, C^{1.50000000000000} - 98.2420386773524 + 4.26325641456060 \\times 10^{-14}i\\right)} C^{26} + \\left(212.126878369412 + 1.20736753927986 \\times 10^{-14}i\\right) \\, C^{27.0000000000000} + {\\left(-\\left(6.93889390390723 \\times 10^{-17}i\\right) \\, C^{3.50000000000000} + 1.93106925000000 \\, C^{2.50000000000000} + 0.4028737500000000 \\, C^{1.50000000000000} - 1.283569304319163\\right)} C^{\\frac{51}{2}} + \\left(0.294596869299375 - 6.66133814775094 \\times 10^{-16}i\\right) \\, C^{\\frac{53}{2}} - 0.1831151619120000 \\, C^{26.5000000000000} + {\\left(31.2500000000000 \\, C^{7.00000000000000} + 15.6250000000000 \\, C^{6.00000000000000} + 95.2225787500000 \\, C^{5.00000000000000} + 38.75382500000001 \\, C^{4.00000000000000} - \\left(28.3995866472499 + 8.52651282912120 \\times 10^{-14}i\\right) \\, C^{3.50000000000000} + 4.02471826250000 \\, C^{3.00000000000000} - 129.7932939397963 \\, C^{2.50000000000000} - \\left(26.0407928723381 + 7.10542735760100 \\times 10^{-15}i\\right) \\, C^{1.50000000000000} - 109.3823875883298 + 2.131628207280301 \\times 10^{-13}i\\right)} C^{25} + \\left(321.003525131621 + 3.10723669016966 \\times 10^{-14}i\\right) \\, C^{26.0000000000000} + {\\left(-\\left(1.28089200000000 - 5.78870285039557 \\times 10^{-17}i\\right) \\, C^{3.50000000000000} - \\left(0.742277495280000 - 8.88178419700125 \\times 10^{-16}i\\right) \\, C^{2.50000000000000} - \\left(0.108059619840000 + 2.22044604925031 \\times 10^{-16}i\\right) \\, C^{1.50000000000000} - 2.39801800437019 - 6.10622663543836 \\times 10^{-16}i\\right)} C^{\\frac{49}{2}} - \\left(1.623820774232946 + 1.114559833315099 \\times 10^{-16}i\\right) \\, C^{25.5000000000000} + {\\left(-6.83000000000000 \\, C^{7.00000000000000} - \\left(125.852480000000 - 7.10542735760100 \\times 10^{-15}i\\right) \\, C^{6.00000000000000} - \\left(76.9650168116000 - 2.66453525910038 \\times 10^{-14}i\\right) \\, C^{5.00000000000000} - 16.76845942960002 \\, C^{4.00000000000000} + \\left(123.2811190020182 + 1.421085471520200 \\times 10^{-13}i\\right) \\, C^{3.50000000000000} - 1.278636579452001 \\, C^{3.00000000000000} - \\left(198.400670532357 - 2.84217094304040 \\times 10^{-14}i\\right) \\, C^{2.50000000000000} - \\left(45.8960952511143 + 2.66453525910038 \\times 10^{-15}i\\right) \\, C^{1.50000000000000} + 10.05446036396557 - 1.989519660128281 \\times 10^{-13}i\\right)} C^{24} + \\left(437.414235871631 - 8.88004947352528 \\times 10^{-15}i\\right) \\, C^{25.0000000000000} + {\\left(\\left(0.332890419839999 + 6.32306706993546 \\times 10^{-16}i\\right) \\, C^{3.50000000000000} - 0.399078533261876 \\, C^{2.50000000000000} - \\left(0.0954214324644422 - 1.11022302462516 \\times 10^{-16}i\\right) \\, C^{1.50000000000000} - 1.49495614482728 - 2.22044604925031 \\times 10^{-16}i\\right)} C^{\\frac{47}{2}} - \\left(3.19711695501201 - 1.07336015076065 \\times 10^{-16}i\\right) \\, C^{24.5000000000000} + {\\left(14.6484375000000 \\, C^{8.50000000000000} + 21.9726562500000 \\, C^{7.50000000000000} + 73.4086973125000 \\, C^{7.00000000000000} - 279.589843750000 \\, C^{6.50000000000000} + \\left(68.5245677858500 + 2.84217094304040 \\times 10^{-14}i\\right) \\, C^{6.00000000000000} - 189.819335937500 \\, C^{5.50000000000000} - \\left(1.576068436824164 + 1.731947918415244 \\times 10^{-14}i\\right) \\, C^{5.00000000000000} + 4.80468750000000 \\, C^{4.50000000000000} - \\left(6.88814879311262 - 1.42108547152020 \\times 10^{-14}i\\right) \\, C^{4.00000000000000} + \\left(237.367451675131 + 8.88178419700125 \\times 10^{-14}i\\right) \\, C^{3.50000000000000} - \\left(0.881698700972370 + 1.77635683940025 \\times 10^{-15}i\\right) \\, C^{3.00000000000000} - \\left(85.0652444095229 - 4.54081217071689 \\times 10^{-14}i\\right) \\, C^{2.50000000000000} - \\left(26.24424936387340 - 3.837034856513100 \\times 10^{-14}i\\right) \\, C^{1.50000000000000} + 107.8247562466610 - 1.023161590174570 \\times 10^{-15}i\\right)} C^{23} + \\left(479.939698775640 - 1.03621972113999 \\times 10^{-13}i\\right) \\, C^{24.0000000000000} + {\\left(0.519000000000000 \\, C^{7.00000000000000} + 0.259500000000000 \\, C^{6.00000000000000} + 1.581456587880000 \\, C^{5.00000000000000} + 0.643623525600000 \\, C^{4.00000000000000} + \\left(0.717769688692547 + 8.88178419700125 \\times 10^{-16}i\\right) \\, C^{3.50000000000000} + 0.0668425209036000 \\, C^{3.00000000000000} - \\left(2.66764586178404 + 4.44089209850063 \\times 10^{-15}i\\right) \\, C^{2.50000000000000} - 0.582768758747782 \\, C^{1.50000000000000} - 0.747461341702930 - 1.11022302462516 \\times 10^{-15}i\\right)} C^{\\frac{45}{2}} - \\left(6.35437649671730 - 4.09408292857683 \\times 10^{-16}i\\right) \\, C^{23.5000000000000} + {\\left(49.6100000000000 \\, C^{9.50000000000000} + 62.3264843750000 \\, C^{8.50000000000000} + \\left(460.737688203650 - 2.84217094304040 \\times 10^{-14}i\\right) \\, C^{7.50000000000000} - 70.5368021622840 \\, C^{7.00000000000000} + \\left(57.5020549944999 - 5.68434188608080 \\times 10^{-14}i\\right) \\, C^{6.50000000000000} + \\left(33.3415300480243 - 5.68434188608080 \\times 10^{-14}i\\right) \\, C^{6.00000000000000} - 552.781457092041 \\, C^{5.50000000000000} - \\left(111.2189985275262 + 2.344791028008331 \\times 10^{-13}i\\right) \\, C^{5.00000000000000} - 221.883928236460 \\, C^{4.50000000000000} - \\left(52.6779233535686 + 2.84217094304040 \\times 10^{-14}i\\right) \\, C^{4.00000000000000} + \\left(114.7990261686478 - 2.273736754432321 \\times 10^{-13}i\\right) \\, C^{3.50000000000000} - \\left(5.71626284734741 - 7.10542735760100 \\times 10^{-15}i\\right) \\, C^{3.00000000000000} - \\left(37.3975099901555 + 1.58983937126322 \\times 10^{-13}i\\right) \\, C^{2.50000000000000} - \\left(12.7398644198441 + 4.95992136251289 \\times 10^{-14}i\\right) \\, C^{1.50000000000000} + 241.7470534707029 + 1.180926016697281 \\times 10^{-13}i\\right)} C^{22} + \\left(452.347214923374 - 8.31764941210816 \\times 10^{-14}i\\right) \\, C^{23.0000000000000} + {\\left(-\\left(0.230186880000000 - 2.22044604925031 \\times 10^{-16}i\\right) \\, C^{7.00000000000000} - 1.13181427392000 \\, C^{6.00000000000000} - \\left(1.16770354953654 + 1.38777878078145 \\times 10^{-17}i\\right) \\, C^{5.00000000000000} - 0.3543700142999425 \\, C^{4.00000000000000} + \\left(1.73503642314574 - 9.52793399733309 \\times 10^{-16}i\\right) \\, C^{3.50000000000000} - 0.03295924234258867 \\, C^{3.00000000000000} - \\left(3.877707985721687 + 3.330669073875470 \\times 10^{-15}i\\right) \\, C^{2.50000000000000} - \\left(0.872388438732408 - 1.52655665885959 \\times 10^{-16}i\\right) \\, C^{1.50000000000000} + 2.322908550772023 + 3.108624468950438 \\times 10^{-15}i\\right)} C^{\\frac{43}{2}} - \\left(8.27721732133140 - 9.00213063814714 \\times 10^{-16}i\\right) \\, C^{22.5000000000000} + {\\left(-49.3600000000000 \\, C^{10.5000000000000} - \\left(59.02302719999999 + 1.421085471520200 \\times 10^{-14}i\\right) \\, C^{9.50000000000000} - \\left(71.8478198659156 + 3.55271367880050 \\times 10^{-15}i\\right) \\, C^{8.50000000000000} + \\left(366.808110564356 + 3.19744231092045 \\times 10^{-14}i\\right) \\, C^{7.50000000000000} - \\left(113.985121400235 - 2.13162820728030 \\times 10^{-14}i\\right) \\, C^{7.00000000000000} + \\left(537.746687500574 + 7.12763181809350 \\times 10^{-14}i\\right) \\, C^{6.50000000000000} + \\left(108.855525913101 - 3.37507799486048 \\times 10^{-14}i\\right) \\, C^{6.00000000000000} - \\left(295.885373307798 - 5.86197757002083 \\times 10^{-14}i\\right) \\, C^{5.50000000000000} - \\left(140.6840500338835 - 1.020850071142831 \\times 10^{-13}i\\right) \\, C^{5.00000000000000} - 268.595583222388 \\, C^{4.50000000000000} - \\left(75.6296914293981 + 5.86197757002083 \\times 10^{-14}i\\right) \\, C^{4.00000000000000} + \\left(17.3046291084881 - 9.94759830064140 \\times 10^{-14}i\\right) \\, C^{3.50000000000000} - \\left(8.45625202445926 - 8.88178419700125 \\times 10^{-15}i\\right) \\, C^{3.00000000000000} + \\left(235.486832949052 - 1.14575016141316 \\times 10^{-13}i\\right) \\, C^{2.50000000000000} + \\left(47.2974455571875 - 1.27675647831893 \\times 10^{-14}i\\right) \\, C^{1.50000000000000} + 297.846094053403 - 1.19785393626684 \\times 10^{-13}i\\right)} C^{21} + \\left(364.2025610915592 - 3.785512891650231 \\times 10^{-14}i\\right) \\, C^{22.0000000000000} + {\\left(0.486562500000000 \\, C^{8.50000000000000} + \\left(0.729843750000000 + 4.44089209850063 \\times 10^{-16}i\\right) \\, C^{7.50000000000000} - \\left(0.252926837389200 + 4.44089209850063 \\times 10^{-16}i\\right) \\, C^{7.00000000000000} - \\left(9.28685625000000 + 4.44089209850063 \\times 10^{-16}i\\right) \\, C^{6.50000000000000} + \\left(0.366493199756241 + 1.11022302462516 \\times 10^{-16}i\\right) \\, C^{6.00000000000000} - 6.30503906250000 \\, C^{5.50000000000000} - \\left(0.544615702691403 - 9.71445146547012 \\times 10^{-17}i\\right) \\, C^{5.00000000000000} + 0.1595925000000000 \\, C^{4.50000000000000} - \\left(0.280249203023079 + 2.22044604925031 \\times 10^{-16}i\\right) \\, C^{4.00000000000000} + \\left(3.04557144006387 - 4.71844785465691 \\times 10^{-16}i\\right) \\, C^{3.50000000000000} - \\left(0.0309682698892939 - 1.38777878078145 \\times 10^{-17}i\\right) \\, C^{3.00000000000000} - \\left(0.000487962720934258 - 4.37150315946155 \\times 10^{-15}i\\right) \\, C^{2.50000000000000} - \\left(0.1055533830796867 - 3.617982649584128 \\times 10^{-16}i\\right) \\, C^{1.50000000000000} + 4.020556396144316 + 3.296540422364699 \\times 10^{-15}i\\right)} C^{\\frac{41}{2}} - \\left(9.23206312070316 + 2.35055030994857 \\times 10^{-16}i\\right) \\, C^{21.5000000000000} + {\\left(46.50937500000001 \\, C^{11.0000000000000} + \\left(23.93217280000000 - 1.421085471520200 \\times 10^{-14}i\\right) \\, C^{10.5000000000000} + \\left(79.4671875000000 - 2.84217094304040 \\times 10^{-14}i\\right) \\, C^{10.0000000000000} - \\left(6.22755711074802 - 1.42108547152020 \\times 10^{-14}i\\right) \\, C^{9.50000000000000} - \\left(873.154250000000 + 5.68434188608080 \\times 10^{-14}i\\right) \\, C^{9.00000000000000} - \\left(7.53980396730305 - 7.10542735760100 \\times 10^{-15}i\\right) \\, C^{8.50000000000000} - \\left(787.884296875000 - 1.42108547152020 \\times 10^{-14}i\\right) \\, C^{8.00000000000000} + \\left(449.0736403047576 + 1.598721155460225 \\times 10^{-14}i\\right) \\, C^{7.50000000000000} - \\left(230.5879835514493 - 1.634248292248230 \\times 10^{-13}i\\right) \\, C^{7.00000000000000} + \\left(1100.59828022730 + 6.66133814775094 \\times 10^{-15}i\\right) \\, C^{6.50000000000000} + \\left(234.248333277273 + 5.68434188608080 \\times 10^{-14}i\\right) \\, C^{6.00000000000000} - \\left(30.2058934924175 - 2.85993451143440 \\times 10^{-13}i\\right) \\, C^{5.50000000000000} + \\left(83.4368543175065 + 2.86437540353290 \\times 10^{-14}i\\right) \\, C^{5.00000000000000} - \\left(320.460703731798 - 1.42108547152020 \\times 10^{-14}i\\right) \\, C^{4.50000000000000} + \\left(3.15217616848055 + 7.22477633274821 \\times 10^{-14}i\\right) \\, C^{4.00000000000000} - \\left(304.720530896611 - 1.17239551400417 \\times 10^{-13}i\\right) \\, C^{3.50000000000000} - \\left(0.654107550419203 + 6.31439345255558 \\times 10^{-15}i\\right) \\, C^{3.00000000000000} + \\left(321.242307574497 + 3.92130772297605 \\times 10^{-13}i\\right) \\, C^{2.50000000000000} + \\left(76.4688757578933 + 4.25770529943748 \\times 10^{-14}i\\right) \\, C^{1.50000000000000} + 292.3270210767610 + 1.000848709464819 \\times 10^{-14}i\\right)} C^{20} + \\left(249.3798453569624 - 1.291235913629179 \\times 10^{-14}i\\right) \\, C^{21.0000000000000} + {\\left(0.4119614400000000 \\, C^{9.50000000000000} + 1.08499804500000 \\, C^{8.50000000000000} + 13.67822628940561 \\, C^{7.50000000000000} - \\left(0.654631807460357 - 4.44089209850063 \\times 10^{-16}i\\right) \\, C^{7.00000000000000} + \\left(3.20383955129933 - 1.77635683940025 \\times 10^{-15}i\\right) \\, C^{6.50000000000000} + \\left(0.144230387020380 - 8.88178419700125 \\times 10^{-16}i\\right) \\, C^{6.00000000000000} - 17.10399177359856 \\, C^{5.50000000000000} - \\left(1.77847932402410 + 8.88178419700125 \\times 10^{-16}i\\right) \\, C^{5.00000000000000} - \\left(7.41710954972557 + 2.22044604925031 \\times 10^{-16}i\\right) \\, C^{4.50000000000000} - \\left(0.779863658595298 + 4.44089209850063 \\times 10^{-16}i\\right) \\, C^{4.00000000000000} - \\left(0.915712321184894 - 2.33146835171283 \\times 10^{-15}i\\right) \\, C^{3.50000000000000} - \\left(0.0827740195065476 - 2.77555756156289 \\times 10^{-17}i\\right) \\, C^{3.00000000000000} + \\left(1.24555857801350 + 2.27595720048157 \\times 10^{-15}i\\right) \\, C^{2.50000000000000} + \\left(0.267314086778895 - 1.02695629777827 \\times 10^{-15}i\\right) \\, C^{1.50000000000000} + 4.92790361314276 - 2.37329145051646 \\times 10^{-15}i\\right)} C^{\\frac{39}{2}} - \\left(8.33498985231942 + 1.20129600711394 \\times 10^{-16}i\\right) \\, C^{20.5000000000000} + {\\left(10 \\, C^{14.0000000000000} + 10.0000000000000 \\, C^{13.0000000000000} - 22.2109832000000 \\, C^{12.0000000000000} + \\left(13.9801751500000 - 4.97379915032070 \\times 10^{-14}i\\right) \\, C^{11.0000000000000} + \\left(22.8927392209600 + 1.42108547152020 \\times 10^{-14}i\\right) \\, C^{10.5000000000000} + \\left(2158.55216726427 - 2.84217094304040 \\times 10^{-14}i\\right) \\, C^{10.0000000000000} - \\left(45.4051738465310 - 2.84217094304040 \\times 10^{-14}i\\right) \\, C^{9.50000000000000} + 1372.794397019857 \\, C^{9.00000000000000} - \\left(106.824939260999 - 5.68434188608080 \\times 10^{-14}i\\right) \\, C^{8.50000000000000} - \\left(1430.250643470400 + 1.136868377216160 \\times 10^{-13}i\\right) \\, C^{8.00000000000000} - \\left(39.9721177701823 + 2.13162820728030 \\times 10^{-14}i\\right) \\, C^{7.50000000000000} - \\left(1229.30549061914 + 5.68434188608080 \\times 10^{-14}i\\right) \\, C^{7.00000000000000} + \\left(1920.09207385122 + 1.54543045027822 \\times 10^{-13}i\\right) \\, C^{6.50000000000000} - \\left(322.808531080670 - 6.03961325396085 \\times 10^{-14}i\\right) \\, C^{6.00000000000000} + \\left(1075.369851135249 - 1.136868377216160 \\times 10^{-13}i\\right) \\, C^{5.50000000000000} + \\left(23.7913538278116 + 1.82964754458226 \\times 10^{-13}i\\right) \\, C^{5.00000000000000} - \\left(128.5414478738257 + 1.136868377216160 \\times 10^{-13}i\\right) \\, C^{4.50000000000000} + \\left(23.5108567503612 + 7.68274333040608 \\times 10^{-14}i\\right) \\, C^{4.00000000000000} - \\left(482.266453249984 - 2.34479102800833 \\times 10^{-13}i\\right) \\, C^{3.50000000000000} + \\left(2.61922420520805 - 4.37150315946155 \\times 10^{-15}i\\right) \\, C^{3.00000000000000} + \\left(363.306049458968 - 2.14495088357580 \\times 10^{-13}i\\right) \\, C^{2.50000000000000} + \\left(91.8797141178845 + 1.21430643318376 \\times 10^{-14}i\\right) \\, C^{1.50000000000000} + 235.105210459066 - 4.67343178045532 \\times 10^{-14}i\\right)} C^{19} + \\left(145.5401098102388 - 1.339152472164148 \\times 10^{-15}i\\right) \\, C^{20.0000000000000} + {\\left(-\\left(0.275387983411200 + 2.22044604925031 \\times 10^{-16}i\\right) \\, C^{9.50000000000000} - \\left(0.724110434343975 + 1.38777878078145 \\times 10^{-16}i\\right) \\, C^{8.50000000000000} + \\left(10.17565210491207 - 1.804112415015879 \\times 10^{-15}i\\right) \\, C^{7.50000000000000} - \\left(0.916548614780646 - 5.82867087928207 \\times 10^{-16}i\\right) \\, C^{7.00000000000000} + \\left(26.93031660883342 + 3.442558738075974 \\times 10^{-15}i\\right) \\, C^{6.50000000000000} + \\left(0.806689164374434 + 2.51187959321442 \\times 10^{-15}i\\right) \\, C^{6.00000000000000} + \\left(0.3429077108542795 - 2.775557561562891 \\times 10^{-17}i\\right) \\, C^{5.50000000000000} - \\left(2.21268915211966 + 4.08006961549745 \\times 10^{-15}i\\right) \\, C^{5.00000000000000} - \\left(7.40461370200039 + 8.88178419700125 \\times 10^{-16}i\\right) \\, C^{4.50000000000000} - \\left(1.05089726227147 - 5.27355936696949 \\times 10^{-16}i\\right) \\, C^{4.00000000000000} - \\left(3.59709906642319 - 3.88578058618805 \\times 10^{-16}i\\right) \\, C^{3.50000000000000} - \\left(0.1139209881164534 - 1.387778780781446 \\times 10^{-17}i\\right) \\, C^{3.00000000000000} + \\left(4.95557093302848 - 1.52655665885959 \\times 10^{-15}i\\right) \\, C^{2.50000000000000} + \\left(1.12555922206816 - 5.15212872365112 \\times 10^{-16}i\\right) \\, C^{1.50000000000000} + 4.46373981834255 + 9.43198291821976 \\times 10^{-16}i\\right)} C^{\\frac{37}{2}} - \\left(6.18204637850222 + 3.16587034365767 \\times 10^{-17}i\\right) \\, C^{19.5000000000000} + {\\left(-6.68480000000000 \\, C^{14.0000000000000} - 6.68480000000000 \\, C^{13.0000000000000} - 89.5995719504640 \\, C^{12.0000000000000} - \\left(1333.42579312790 - 3.19744231092045 \\times 10^{-14}i\\right) \\, C^{11.0000000000000} + 61.4117414370024 \\, C^{10.5000000000000} + \\left(352.037499043300 + 1.17683640610267 \\times 10^{-13}i\\right) \\, C^{10.0000000000000} - \\left(41.55193916168528 + 2.131628207280301 \\times 10^{-14}i\\right) \\, C^{9.50000000000000} + \\left(4302.71173148096 + 2.41584530158434 \\times 10^{-13}i\\right) \\, C^{9.00000000000000} - \\left(119.673921442929 - 6.21724893790088 \\times 10^{-14}i\\right) \\, C^{8.50000000000000} + \\left(1678.212018068339 + 2.557953848736361 \\times 10^{-13}i\\right) \\, C^{8.00000000000000} - \\left(1034.76056398236 - 2.92876833896116 \\times 10^{-13}i\\right) \\, C^{7.50000000000000} - \\left(319.623929314761 + 3.12749826036907 \\times 10^{-13}i\\right) \\, C^{7.00000000000000} + \\left(1313.96308996198 + 9.20791221048489 \\times 10^{-13}i\\right) \\, C^{6.50000000000000} - \\left(409.1693620612748 + 1.776356839400250 \\times 10^{-13}i\\right) \\, C^{6.00000000000000} + \\left(2150.31430840150 - 5.12478948166972 \\times 10^{-13}i\\right) \\, C^{5.50000000000000} + \\left(147.882671514180 + 1.55431223447522 \\times 10^{-14}i\\right) \\, C^{5.00000000000000} + \\left(451.9654271782104 - 2.269850973846132 \\times 10^{-13}i\\right) \\, C^{4.50000000000000} + \\left(96.6313507594206 - 7.77156117237610 \\times 10^{-15}i\\right) \\, C^{4.00000000000000} - \\left(488.632300203956 + 2.98427949019242 \\times 10^{-13}i\\right) \\, C^{3.50000000000000} + \\left(10.93537690216375 + 1.387778780781446 \\times 10^{-15}i\\right) \\, C^{3.00000000000000} + \\left(300.720116553040 - 9.76996261670138 \\times 10^{-14}i\\right) \\, C^{2.50000000000000} + \\left(81.2989461023830 + 2.19269047363468 \\times 10^{-14}i\\right) \\, C^{1.50000000000000} + 157.940686602235 + 1.71408026661268 \\times 10^{-14}i\\right)} C^{18} + \\left(71.9470116727145 + 2.14738437535195 \\times 10^{-15}i\\right) \\, C^{19.0000000000000} + {\\left(-\\left(4.16333634234434 \\times 10^{-17}i\\right) \\, C^{12.0000000000000} + \\left(1.15864155000000 - 6.24500451351651 \\times 10^{-17}i\\right) \\, C^{11.0000000000000} + \\left(1.97968657500000 + 1.68282054957558 \\times 10^{-15}i\\right) \\, C^{10.0000000000000} - \\left(0.143959795852109 + 2.22044604925031 \\times 10^{-16}i\\right) \\, C^{9.50000000000000} - \\left(21.7520186760000 - 5.39499001028787 \\times 10^{-16}i\\right) \\, C^{9.00000000000000} - \\left(1.483559441248597 + 1.387778780781446 \\times 10^{-16}i\\right) \\, C^{8.50000000000000} - \\left(19.6277736037500 + 4.57744953052952 \\times 10^{-16}i\\right) \\, C^{8.00000000000000} - \\left(0.341378014038801 - 2.08166817117217 \\times 10^{-16}i\\right) \\, C^{7.50000000000000} - \\left(2.50561623380974 + 6.86738166333356 \\times 10^{-16}i\\right) \\, C^{7.00000000000000} + \\left(29.1398818757742 - 3.71751240901830 \\times 10^{-15}i\\right) \\, C^{6.50000000000000} + 3.09417502468781 \\, C^{6.00000000000000} + \\left(16.7937461612464 - 3.56659146660831 \\times 10^{-15}i\\right) \\, C^{5.50000000000000} + \\left(1.98013535757497 - 1.59247615094671 \\times 10^{-15}i\\right) \\, C^{5.00000000000000} - \\left(1.67119316529780 - 8.88178419700125 \\times 10^{-16}i\\right) \\, C^{4.50000000000000} + \\left(0.475007986342767 - 2.60208521396521 \\times 10^{-16}i\\right) \\, C^{4.00000000000000} - \\left(5.13597111822285 + 1.77635683940025 \\times 10^{-15}i\\right) \\, C^{3.50000000000000} + \\left(0.0398351820267364 + 6.41305585025176 \\times 10^{-17}i\\right) \\, C^{3.00000000000000} + \\left(5.56126014052218 - 1.73125402902485 \\times 10^{-15}i\\right) \\, C^{2.50000000000000} + \\left(1.325723700676131 + 1.431146867680866 \\times 10^{-16}i\\right) \\, C^{1.50000000000000} + 3.22212420016197 + 4.00260337027336 \\times 10^{-16}i\\right)} C^{\\frac{35}{2}} - \\left(3.82095625882307 - 3.81991503951176 \\times 10^{-16}i\\right) \\, C^{18.5000000000000} + {\\left(18.7500000000000 \\, C^{15.5000000000000} + 37.5000000000000 \\, C^{14.5000000000000} - 3.494496860000002 \\, C^{14.0000000000000} - 286.678952750000 \\, C^{13.5000000000000} - 3.494496860000002 \\, C^{13.0000000000000} - 312.953634125000 \\, C^{12.5000000000000} + \\left(44.7744501643513 - 2.84217094304040 \\times 10^{-14}i\\right) \\, C^{12.0000000000000} - \\left(1168.53007338750 + 5.77315972805081 \\times 10^{-14}i\\right) \\, C^{11.5000000000000} - \\left(1072.70452116792 + 2.29150032282632 \\times 10^{-13}i\\right) \\, C^{11.0000000000000} - \\left(1074.20529899384 - 4.26325641456060 \\times 10^{-14}i\\right) \\, C^{10.5000000000000} - \\left(2847.65078623564 + 6.66133814775094 \\times 10^{-16}i\\right) \\, C^{10.0000000000000} - \\left(229.578703217603 + 7.19424519957101 \\times 10^{-14}i\\right) \\, C^{9.50000000000000} + \\left(2031.927770466598 + 2.842170943040401 \\times 10^{-13}i\\right) \\, C^{9.00000000000000} + \\left(38.6668461360901 - 2.30926389122033 \\times 10^{-14}i\\right) \\, C^{8.50000000000000} + \\left(2798.72959131761 + 2.93237656379120 \\times 10^{-14}i\\right) \\, C^{8.00000000000000} - \\left(1328.66443920204 - 5.99520433297584 \\times 10^{-15}i\\right) \\, C^{7.50000000000000} + \\left(736.015982926651 + 2.11275441586167 \\times 10^{-13}i\\right) \\, C^{7.00000000000000} + \\left(322.3904922221657 + 2.233213614033502 \\times 10^{-13}i\\right) \\, C^{6.50000000000000} - \\left(345.761888894602 - 6.93889390390723 \\times 10^{-18}i\\right) \\, C^{6.00000000000000} + \\left(2234.31721818153 + 6.30620555774897 \\times 10^{-13}i\\right) \\, C^{5.50000000000000} + \\left(138.265546585039 + 8.88178419700125 \\times 10^{-16}i\\right) \\, C^{5.00000000000000} + \\left(778.271032856495 + 1.70773985230799 \\times 10^{-13}i\\right) \\, C^{4.50000000000000} + \\left(106.871178863089 - 6.50590692430342 \\times 10^{-14}i\\right) \\, C^{4.00000000000000} - \\left(362.373699216755 - 9.94759830064140 \\times 10^{-14}i\\right) \\, C^{3.50000000000000} + \\left(12.64489250654986 - 2.775557561562891 \\times 10^{-16}i\\right) \\, C^{3.00000000000000} + \\left(200.566203738627 + 2.84217094304040 \\times 10^{-14}i\\right) \\, C^{2.50000000000000} + \\left(57.4698824036058 - 1.13242748511766 \\times 10^{-14}i\\right) \\, C^{1.50000000000000} + 89.9482019172847 + 9.21051429569886 \\times 10^{-15}i\\right)} C^{17} + \\left(29.6531486472933 - 2.38483820365343 \\times 10^{-15}i\\right) \\, C^{18.0000000000000} + {\\left(-\\left(0.768535200000000 + 5.55111512312578 \\times 10^{-17}i\\right) \\, C^{12.0000000000000} + \\left(0.282939329196000 - 8.88178419700125 \\times 10^{-16}i\\right) \\, C^{11.0000000000000} + \\left(45.7288625716050 + 8.88178419700125 \\times 10^{-16}i\\right) \\, C^{10.0000000000000} - \\left(0.483794099574136 - 6.66133814775094 \\times 10^{-16}i\\right) \\, C^{9.50000000000000} + \\left(32.05272888536147 + 1.554312234475219 \\times 10^{-15}i\\right) \\, C^{9.00000000000000} - \\left(2.62499088291559 - 4.44089209850063 \\times 10^{-16}i\\right) \\, C^{8.50000000000000} - \\left(32.5151283122536 + 1.77635683940025 \\times 10^{-15}i\\right) \\, C^{8.00000000000000} - \\left(12.1317318399654 - 1.97064586870965 \\times 10^{-15}i\\right) \\, C^{7.50000000000000} - \\left(25.6161561697335 - 9.43689570931383 \\times 10^{-16}i\\right) \\, C^{7.00000000000000} + \\left(30.9930190853784 - 3.10862446895044 \\times 10^{-15}i\\right) \\, C^{6.50000000000000} - \\left(6.27879487541153 + 1.44328993201270 \\times 10^{-15}i\\right) \\, C^{6.00000000000000} + \\left(34.1747760352040 + 2.63677968348475 \\times 10^{-15}i\\right) \\, C^{5.50000000000000} + \\left(1.19330845077457 + 3.49720252756924 \\times 10^{-15}i\\right) \\, C^{5.00000000000000} + \\left(4.45439542874502 + 8.89913143176102 \\times 10^{-16}i\\right) \\, C^{4.50000000000000} + \\left(0.748030826352462 + 6.52256026967280 \\times 10^{-16}i\\right) \\, C^{4.00000000000000} - \\left(4.99118172953607 + 2.22044604925031 \\times 10^{-16}i\\right) \\, C^{3.50000000000000} + \\left(0.0809610520693061 + 1.50487261540988 \\times 10^{-16}i\\right) \\, C^{3.00000000000000} + \\left(5.15541076263937 - 3.19189119579733 \\times 10^{-16}i\\right) \\, C^{2.50000000000000} + \\left(1.254667624292298 + 1.799775606325937 \\times 10^{-16}i\\right) \\, C^{1.50000000000000} + 1.91895649353427 + 7.78755315442026 \\times 10^{-16}i\\right)} C^{\\frac{33}{2}} - \\left(1.955982504436547 + 3.581467059227995 \\times 10^{-18}i\\right) \\, C^{17.5000000000000} + {\\left(\\left(26.3435000000000 + 3.55271367880050 \\times 10^{-15}i\\right) \\, C^{15.5000000000000} + \\left(441.708887000000 + 3.19744231092045 \\times 10^{-14}i\\right) \\, C^{14.5000000000000} - \\left(11.74367434908800 + 1.421085471520200 \\times 10^{-14}i\\right) \\, C^{14.0000000000000} + \\left(381.139580605620 - 1.57207580286922 \\times 10^{-13}i\\right) \\, C^{13.5000000000000} - \\left(11.74367434908800 + 1.421085471520200 \\times 10^{-14}i\\right) \\, C^{13.0000000000000} + \\left(2399.31184321089 - 1.52766688188422 \\times 10^{-13}i\\right) \\, C^{12.5000000000000} + \\left(100.6912174959052 + 1.421085471520200 \\times 10^{-14}i\\right) \\, C^{12.0000000000000} + \\left(2213.021948646697 - 2.842170943040401 \\times 10^{-13}i\\right) \\, C^{11.5000000000000} - \\left(157.3425914310251 - 1.136868377216160 \\times 10^{-13}i\\right) \\, C^{11.0000000000000} - \\left(1238.65576914070 + 2.32702745961433 \\times 10^{-13}i\\right) \\, C^{10.5000000000000} - \\left(3830.944221623683 + 1.648015057753582 \\times 10^{-12}i\\right) \\, C^{10.0000000000000} - \\left(1593.92606562482 - 7.10542735760100 \\times 10^{-15}i\\right) \\, C^{9.50000000000000} + \\left(493.189571394879 - 4.05009359383257 \\times 10^{-13}i\\right) \\, C^{9.00000000000000} - \\left(653.683055527921 + 1.07469588783715 \\times 10^{-13}i\\right) \\, C^{8.50000000000000} + \\left(3588.12193363735 - 3.97931687601272 \\times 10^{-13}i\\right) \\, C^{8.00000000000000} - \\left(1795.70820176344 + 5.68434188608080 \\times 10^{-14}i\\right) \\, C^{7.50000000000000} + \\left(1587.19162232503 + 1.63424829224823 \\times 10^{-13}i\\right) \\, C^{7.00000000000000} - \\left(775.967496959615 - 2.42028619368284 \\times 10^{-13}i\\right) \\, C^{6.50000000000000} - \\left(167.648478355409 - 1.84741111297626 \\times 10^{-13}i\\right) \\, C^{6.00000000000000} + \\left(2061.99792549005 + 2.30482299912182 \\times 10^{-13}i\\right) \\, C^{5.50000000000000} + \\left(128.154818379936 - 1.24344978758018 \\times 10^{-14}i\\right) \\, C^{5.00000000000000} + \\left(1015.30041307806 + 5.73360803279854 \\times 10^{-14}i\\right) \\, C^{4.50000000000000} + \\left(99.1305270309879 - 6.66133814775094 \\times 10^{-15}i\\right) \\, C^{4.00000000000000} - \\left(172.256747717122 + 2.84217094304040 \\times 10^{-14}i\\right) \\, C^{3.50000000000000} + \\left(11.9009502050189 + 1.06165076729781 \\times 10^{-15}i\\right) \\, C^{3.00000000000000} + \\left(112.4874139698710 - 1.243449787580175 \\times 10^{-14}i\\right) \\, C^{2.50000000000000} + \\left(33.5472232314083 - 6.10622663543836 \\times 10^{-15}i\\right) \\, C^{1.50000000000000} + 43.4304541993275 + 4.54757759227320 \\times 10^{-15}i\\right)} C^{16} + \\left(10.0218099425209 - 1.54231824794210 \\times 10^{-15}i\\right) \\, C^{17.0000000000000} + {\\left(-\\left(1.04801851027200 - 2.22044604925031 \\times 10^{-16}i\\right) \\, C^{12.0000000000000} - \\left(23.1836680026183 + 8.88178419700125 \\times 10^{-16}i\\right) \\, C^{11.0000000000000} + \\left(2.68153635317518 - 7.10542735760100 \\times 10^{-15}i\\right) \\, C^{10.0000000000000} - \\left(0.616886386219120 - 3.60822483003176 \\times 10^{-16}i\\right) \\, C^{9.50000000000000} + \\left(102.014042808107 - 2.22044604925031 \\times 10^{-15}i\\right) \\, C^{9.00000000000000} - \\left(2.889687738051196 - 2.324529457808922 \\times 10^{-16}i\\right) \\, C^{8.50000000000000} + \\left(53.0034345410370 + 1.33226762955019 \\times 10^{-15}i\\right) \\, C^{8.00000000000000} - \\left(31.8386820543514 + 4.23619472833536 \\times 10^{-15}i\\right) \\, C^{7.50000000000000} - \\left(3.84901740867731 + 4.44089209850063 \\times 10^{-15}i\\right) \\, C^{7.00000000000000} + \\left(5.10011190441442 - 7.16137218970125 \\times 10^{-15}i\\right) \\, C^{6.50000000000000} - \\left(7.88440213424252 - 2.22044604925031 \\times 10^{-16}i\\right) \\, C^{6.00000000000000} + \\left(47.4271990773122 + 5.55111512312578 \\times 10^{-17}i\\right) \\, C^{5.50000000000000} + \\left(1.83978100422135 + 8.04911692853238 \\times 10^{-16}i\\right) \\, C^{5.00000000000000} + \\left(16.7454669117097 + 1.78156100982818 \\times 10^{-15}i\\right) \\, C^{4.50000000000000} + \\left(1.39224441270631 - 4.71844785465691 \\times 10^{-16}i\\right) \\, C^{4.00000000000000} - \\left(1.906625459499195 - 1.332267629550188 \\times 10^{-15}i\\right) \\, C^{3.50000000000000} + \\left(0.158768306079087 - 5.63785129692462 \\times 10^{-17}i\\right) \\, C^{3.00000000000000} + \\left(3.86153741557916 + 6.93889390390723 \\times 10^{-16}i\\right) \\, C^{2.50000000000000} + \\left(0.927051375313264 - 3.46944695195361 \\times 10^{-17}i\\right) \\, C^{1.50000000000000} + 0.950428405069693 - 6.76542155630955 \\times 10^{-17}i\\right)} C^{\\frac{31}{2}} - \\left(0.813490385318747 + 7.37437471791435 \\times 10^{-18}i\\right) \\, C^{16.5000000000000} + {\\left(2.44140625000000 \\, C^{17.0000000000000} + 22.5830078125000 \\, C^{16.0000000000000} + \\left(10.00167986750002 + 1.421085471520200 \\times 10^{-14}i\\right) \\, C^{15.5000000000000} + 196.585083007812 \\, C^{15.0000000000000} + \\left(251.035589945320 + 1.77635683940025 \\times 10^{-13}i\\right) \\, C^{14.5000000000000} + \\left(234.622795944535 - 7.10542735760100 \\times 10^{-15}i\\right) \\, C^{14.0000000000000} - \\left(1640.60710021488 - 4.26325641456060 \\times 10^{-14}i\\right) \\, C^{13.5000000000000} + \\left(389.312859421098 - 7.10542735760100 \\times 10^{-15}i\\right) \\, C^{13.0000000000000} - \\left(1097.90939552513 + 3.51718654201250 \\times 10^{-13}i\\right) \\, C^{12.5000000000000} + \\left(531.460642876592 + 7.97972798949331 \\times 10^{-14}i\\right) \\, C^{12.0000000000000} + \\left(5479.99327095679 + 9.23705556488130 \\times 10^{-14}i\\right) \\, C^{11.5000000000000} + \\left(1149.21299266306 + 3.65929508916452 \\times 10^{-13}i\\right) \\, C^{11.0000000000000} + \\left(4397.15686018769 + 3.90798504668055 \\times 10^{-13}i\\right) \\, C^{10.5000000000000} - \\left(5493.10566268736 + 1.11957665360762 \\times 10^{-12}i\\right) \\, C^{10.0000000000000} + \\left(726.138462465101 + 1.56319401867222 \\times 10^{-13}i\\right) \\, C^{9.50000000000000} - \\left(3933.16340478485 + 7.72881758592803 \\times 10^{-13}i\\right) \\, C^{9.00000000000000} - \\left(336.502664161062 + 7.10542735760100 \\times 10^{-14}i\\right) \\, C^{8.50000000000000} + \\left(3399.85088559980 - 9.12078572390396 \\times 10^{-13}i\\right) \\, C^{8.00000000000000} - \\left(1478.301341733490 + 1.820765760385257 \\times 10^{-13}i\\right) \\, C^{7.50000000000000} + \\left(2817.42586190681 - 2.76445533131664 \\times 10^{-14}i\\right) \\, C^{7.00000000000000} - \\left(1701.59894460869 + 2.81552559044940 \\times 10^{-13}i\\right) \\, C^{6.50000000000000} + \\left(351.818395891377 + 1.13674694657284 \\times 10^{-13}i\\right) \\, C^{6.00000000000000} + \\left(1081.025676321231 + 1.151301276536287 \\times 10^{-13}i\\right) \\, C^{5.50000000000000} + \\left(143.977349193968 - 4.26325641456060 \\times 10^{-14}i\\right) \\, C^{5.00000000000000} + \\left(899.091831170821 - 2.13856710118421 \\times 10^{-14}i\\right) \\, C^{4.50000000000000} + \\left(74.8580365561318 + 1.15463194561016 \\times 10^{-14}i\\right) \\, C^{4.00000000000000} - \\left(13.88710056367800 + 2.131628207280301 \\times 10^{-14}i\\right) \\, C^{3.50000000000000} + \\left(8.79343732832090 + 2.33146835171283 \\times 10^{-15}i\\right) \\, C^{3.00000000000000} + \\left(57.4921621449642 - 3.55271367880050 \\times 10^{-15}i\\right) \\, C^{2.50000000000000} + \\left(16.44434247756351 - 1.110223024625157 \\times 10^{-15}i\\right) \\, C^{1.50000000000000} + 17.6204982709532 - 6.19946802227211 \\times 10^{-16}i\\right)} C^{15} + \\left(2.750438728821788 - 1.569920510594274 \\times 10^{-16}i\\right) \\, C^{16.0000000000000} + {\\left(0.311400000000000 \\, C^{15.5000000000000} + 0.622800000000000 \\, C^{14.5000000000000} - 4.761164047272000 \\, C^{13.5000000000000} - \\left(5.19753395554800 - 8.88178419700125 \\times 10^{-16}i\\right) \\, C^{12.5000000000000} + \\left(1.87762592495495 + 2.22044604925031 \\times 10^{-16}i\\right) \\, C^{12.0000000000000} - 19.40694745881960 \\, C^{11.5000000000000} - \\left(13.4431095987546 + 4.44089209850063 \\times 10^{-16}i\\right) \\, C^{11.0000000000000} - \\left(19.2471499971250 + 3.46944695195361 \\times 10^{-17}i\\right) \\, C^{10.5000000000000} - \\left(83.2975084270271 + 7.21644966006352 \\times 10^{-15}i\\right) \\, C^{10.0000000000000} - \\left(4.90987094881172 - 2.22044604925031 \\times 10^{-16}i\\right) \\, C^{9.50000000000000} + \\left(10.39225044318973 - 2.664535259100376 \\times 10^{-15}i\\right) \\, C^{9.00000000000000} - \\left(0.0214489472861128 - 3.20923843055709 \\times 10^{-17}i\\right) \\, C^{8.50000000000000} + \\left(75.3042366282921 + 8.88178419700125 \\times 10^{-16}i\\right) \\, C^{8.00000000000000} - \\left(28.7721096854341 - 4.25354196309513 \\times 10^{-15}i\\right) \\, C^{7.50000000000000} + \\left(30.4886831563435 + 2.33146835171283 \\times 10^{-15}i\\right) \\, C^{7.00000000000000} - \\left(26.5227597664032 + 3.35148575558719 \\times 10^{-15}i\\right) \\, C^{6.50000000000000} + \\left(0.355557932559153 + 4.44089209850063 \\times 10^{-16}i\\right) \\, C^{6.00000000000000} + \\left(27.25804663050591 + 2.013363434305582 \\times 10^{-16}i\\right) \\, C^{5.50000000000000} + \\left(2.142763213238552 - 1.443289932012704 \\times 10^{-15}i\\right) \\, C^{5.00000000000000} + \\left(17.94941022869366 - 1.336367269014899 \\times 10^{-15}i\\right) \\, C^{4.50000000000000} + \\left(1.29176816051816 + 5.68989300120393 \\times 10^{-16}i\\right) \\, C^{4.00000000000000} + 0.936765440767536 \\, C^{3.50000000000000} + \\left(0.149242354850869 - 8.54351311918577 \\times 10^{-17}i\\right) \\, C^{3.00000000000000} + \\left(2.56583874144420 + 1.11022302462516 \\times 10^{-16}i\\right) \\, C^{2.50000000000000} + \\left(0.575228091691391 + 1.11022302462516 \\times 10^{-16}i\\right) \\, C^{1.50000000000000} + 0.387927339419042 - 2.34662007707331 \\times 10^{-17}i\\right)} C^{\\frac{29}{2}} - \\left(0.271558685761060 + 1.66150277164259 \\times 10^{-17}i\\right) \\, C^{15.5000000000000} + {\\left(29.76600000000000 \\, C^{18.0000000000000} + 70.3802812500000 \\, C^{17.0000000000000} - \\left(458.391392234060 + 4.97379915032070 \\times 10^{-14}i\\right) \\, C^{16.0000000000000} + \\left(0.729477927787016 - 1.42108547152020 \\times 10^{-14}i\\right) \\, C^{15.5000000000000} - \\left(342.879413284077 + 2.13162820728030 \\times 10^{-14}i\\right) \\, C^{15.0000000000000} + \\left(1075.35276201308 + 4.26325641456060 \\times 10^{-14}i\\right) \\, C^{14.5000000000000} - \\left(420.388233422407 + 7.81597009336110 \\times 10^{-14}i\\right) \\, C^{14.0000000000000} + \\left(721.603954580960 + 7.81597009336110 \\times 10^{-13}i\\right) \\, C^{13.5000000000000} - \\left(2.97564143179329 - 3.90798504668055 \\times 10^{-14}i\\right) \\, C^{13.0000000000000} - \\left(6733.10237826555 - 8.95283847057726 \\times 10^{-13}i\\right) \\, C^{12.5000000000000} + \\left(635.635336425217 + 1.55431223447522 \\times 10^{-14}i\\right) \\, C^{12.0000000000000} - \\left(3087.45258807747 + 6.24833518259038 \\times 10^{-13}i\\right) \\, C^{11.5000000000000} + \\left(3398.93315891189 + 2.61124455391837 \\times 10^{-13}i\\right) \\, C^{11.0000000000000} + \\left(3010.76472576499 + 1.13686837721616 \\times 10^{-13}i\\right) \\, C^{10.5000000000000} - \\left(2213.14371531529 + 6.36643515683488 \\times 10^{-13}i\\right) \\, C^{10.0000000000000} + \\left(2351.27304744486 + 3.41060513164848 \\times 10^{-13}i\\right) \\, C^{9.50000000000000} - \\left(7464.47465610598 + 1.32949207198862 \\times 10^{-12}i\\right) \\, C^{9.00000000000000} + \\left(453.928179720780 + 1.22568621918617 \\times 10^{-13}i\\right) \\, C^{8.50000000000000} - \\left(567.899325802775 + 2.24098517520588 \\times 10^{-13}i\\right) \\, C^{8.00000000000000} - \\left(768.968931282733 - 1.59872115546023 \\times 10^{-14}i\\right) \\, C^{7.50000000000000} + \\left(1930.92400614190 - 9.95887400323525 \\times 10^{-14}i\\right) \\, C^{7.00000000000000} - \\left(1581.16276731271 + 9.50350909079134 \\times 10^{-14}i\\right) \\, C^{6.50000000000000} + \\left(521.726421265452 - 4.66248675952408 \\times 10^{-14}i\\right) \\, C^{6.00000000000000} + \\left(291.820866916854 + 8.88178419700125 \\times 10^{-16}i\\right) \\, C^{5.50000000000000} + \\left(148.832010714052 + 5.32907051820075 \\times 10^{-15}i\\right) \\, C^{5.00000000000000} + \\left(562.488195441483 + 5.62154489625044 \\times 10^{-14}i\\right) \\, C^{4.50000000000000} + \\left(50.6693961026022 - 4.44089209850063 \\times 10^{-15}i\\right) \\, C^{4.00000000000000} + \\left(42.2729759635447 + 1.42108547152020 \\times 10^{-14}i\\right) \\, C^{3.50000000000000} + \\left(5.53013156100980 + 3.88578058618805 \\times 10^{-16}i\\right) \\, C^{3.00000000000000} + \\left(26.2697908640439 + 3.55271367880050 \\times 10^{-15}i\\right) \\, C^{2.50000000000000} + \\left(6.70737987087512 - 5.55111512312578 \\times 10^{-16}i\\right) \\, C^{1.50000000000000} + 5.96218234856266 - 7.24463891654814 \\times 10^{-16}i\\right)} C^{14} + \\left(0.610918269285038 - 1.04748329422203 \\times 10^{-17}i\\right) \\, C^{15.0000000000000} + {\\left(0.3674603040000001 \\, C^{15.5000000000000} + \\left(7.80582860764800 + 2.22044604925031 \\times 10^{-16}i\\right) \\, C^{14.5000000000000} + \\left(8.59586392350844 - 8.95117313604032 \\times 10^{-16}i\\right) \\, C^{13.5000000000000} + \\left(29.8345337368823 + 4.44089209850063 \\times 10^{-16}i\\right) \\, C^{12.5000000000000} + 2.860269536163794 \\, C^{12.0000000000000} + \\left(27.9386370676351 + 4.71150896075301 \\times 10^{-15}i\\right) \\, C^{11.5000000000000} + \\left(21.3553788497042 + 5.32907051820075 \\times 10^{-15}i\\right) \\, C^{11.0000000000000} - \\left(20.0209471977552 + 8.32667268468867 \\times 10^{-17}i\\right) \\, C^{10.5000000000000} - \\left(55.9223797397817 - 6.21724893790088 \\times 10^{-15}i\\right) \\, C^{10.0000000000000} - \\left(25.3992368985016 + 4.57966997657877 \\times 10^{-16}i\\right) \\, C^{9.50000000000000} - \\left(53.82503994366891 - 1.376676550535194 \\times 10^{-14}i\\right) \\, C^{9.00000000000000} - \\left(8.98387596509886 + 1.52655665885959 \\times 10^{-16}i\\right) \\, C^{8.50000000000000} + \\left(33.0195744842271 - 5.32907051820075 \\times 10^{-15}i\\right) \\, C^{8.00000000000000} - \\left(20.4120654584365 - 1.83186799063151 \\times 10^{-15}i\\right) \\, C^{7.50000000000000} + \\left(28.3369563437450 - 2.22044604925031 \\times 10^{-15}i\\right) \\, C^{7.00000000000000} - \\left(30.53575206589393 - 5.481726184086710 \\times 10^{-15}i\\right) \\, C^{6.50000000000000} + \\left(3.41478780051217 - 4.44089209850063 \\times 10^{-16}i\\right) \\, C^{6.00000000000000} + \\left(10.36534698996844 + 1.783295733304158 \\times 10^{-15}i\\right) \\, C^{5.50000000000000} + \\left(1.98157013345301 + 5.55111512312578 \\times 10^{-17}i\\right) \\, C^{5.00000000000000} + \\left(12.52404250966363 - 1.770068466799835 \\times 10^{-15}i\\right) \\, C^{4.50000000000000} + \\left(0.977394795885271 - 1.38777878078145 \\times 10^{-17}i\\right) \\, C^{4.00000000000000} + \\left(1.61630868454108 - 5.55111512312578 \\times 10^{-16}i\\right) \\, C^{3.50000000000000} + \\left(0.111515476378323 - 6.67868538251071 \\times 10^{-17}i\\right) \\, C^{3.00000000000000} + \\left(1.43444683920455 + 2.22044604925031 \\times 10^{-16}i\\right) \\, C^{2.50000000000000} + \\left(0.298779712514297 - 9.36750677027476 \\times 10^{-17}i\\right) \\, C^{1.50000000000000} + 0.131292319788685 + 7.26584862154739 \\times 10^{-18}i\\right)} C^{\\frac{27}{2}} - \\left(0.0729876870444608 + 5.31799048021772 \\times 10^{-18}i\\right) \\, C^{14.5000000000000} + {\\left(-29.6160000000000 \\, C^{19.0000000000000} - 31.51132623999999 \\, C^{18.0000000000000} + \\left(1316.53219286572 - 8.88178419700125 \\times 10^{-16}i\\right) \\, C^{17.0000000000000} + \\left(1849.797386795505 + 1.776356839400250 \\times 10^{-15}i\\right) \\, C^{16.0000000000000} - \\left(168.061461279271 + 1.42108547152020 \\times 10^{-14}i\\right) \\, C^{15.5000000000000} + \\left(2033.11630201748 + 1.45827794284514 \\times 10^{-13}i\\right) \\, C^{15.0000000000000} + \\left(192.2419303477253 - 1.421085471520200 \\times 10^{-13}i\\right) \\, C^{14.5000000000000} + \\left(1683.124906153630 + 1.012523398458143 \\times 10^{-13}i\\right) \\, C^{14.0000000000000} + \\left(5813.15637267956 + 1.10134124042816 \\times 10^{-13}i\\right) \\, C^{13.5000000000000} + \\left(768.121686514398 - 9.32587340685131 \\times 10^{-14}i\\right) \\, C^{13.0000000000000} + \\left(665.990096622008 + 6.53699316899292 \\times 10^{-13}i\\right) \\, C^{12.5000000000000} + \\left(334.211510072177 + 4.12336831345783 \\times 10^{-13}i\\right) \\, C^{12.0000000000000} - \\left(4779.52436113779 - 4.68070027181966 \\times 10^{-13}i\\right) \\, C^{11.5000000000000} + \\left(3225.703492622065 + 1.536548666081217 \\times 10^{-13}i\\right) \\, C^{11.0000000000000} - \\left(842.127786110239 + 3.49942297361849 \\times 10^{-13}i\\right) \\, C^{10.5000000000000} + \\left(1843.31538927129 + 6.08124661738429 \\times 10^{-13}i\\right) \\, C^{10.0000000000000} + \\left(1120.40894819053 - 4.26325641456060 \\times 10^{-14}i\\right) \\, C^{9.50000000000000} - \\left(4811.60403562556 + 3.81361608958741 \\times 10^{-13}i\\right) \\, C^{9.00000000000000} + \\left(417.725000992847 + 3.19744231092045 \\times 10^{-14}i\\right) \\, C^{8.50000000000000} - \\left(1747.92108482895 + 4.61353177882984 \\times 10^{-13}i\\right) \\, C^{8.00000000000000} - \\left(294.805253854225 + 1.59872115546023 \\times 10^{-14}i\\right) \\, C^{7.50000000000000} + \\left(851.574422004731 - 1.70058411796958 \\times 10^{-13}i\\right) \\, C^{7.00000000000000} - \\left(1101.02899663863 + 8.70414851306123 \\times 10^{-14}i\\right) \\, C^{6.50000000000000} + \\left(371.751978436031 - 4.61531854401009 \\times 10^{-14}i\\right) \\, C^{6.00000000000000} - \\left(89.0649434571854 + 1.74971148680925 \\times 10^{-13}i\\right) \\, C^{5.50000000000000} + 104.2128785732806 \\, C^{5.00000000000000} + \\left(280.624470477862 + 2.86506929292329 \\times 10^{-14}i\\right) \\, C^{4.50000000000000} + \\left(28.5063150046141 - 7.99360577730113 \\times 10^{-15}i\\right) \\, C^{4.00000000000000} + \\left(46.1900001376122 + 9.76996261670138 \\times 10^{-15}i\\right) \\, C^{3.50000000000000} + \\left(2.91297825896584 - 3.88578058618805 \\times 10^{-16}i\\right) \\, C^{3.00000000000000} + \\left(11.79051960246635 + 2.664535259100376 \\times 10^{-15}i\\right) \\, C^{2.50000000000000} + \\left(2.34114512414732 + 4.16333634234434 \\times 10^{-16}i\\right) \\, C^{1.50000000000000} + 1.67409012816951 - 4.96564594998361 \\times 10^{-17}i\\right)} C^{13} + \\left(0.110080241567648 + 8.57620859094979 \\times 10^{-19}i\\right) \\, C^{14.0000000000000} + {\\left(0.0810937500000000 \\, C^{17.0000000000000} + 0.750117187500000 \\, C^{16.0000000000000} - 0.830884764476400 \\, C^{15.5000000000000} + \\left(6.52977011718750 + 4.44089209850063 \\times 10^{-16}i\\right) \\, C^{15.0000000000000} + 1.41641745949288 \\, C^{14.5000000000000} + 8.29061953125000 \\, C^{14.0000000000000} + \\left(3.86514253277862 - 1.33226762955019 \\times 10^{-15}i\\right) \\, C^{13.5000000000000} + \\left(13.4288046796875 + 3.55271367880050 \\times 10^{-15}i\\right) \\, C^{13.0000000000000} + \\left(9.21233511784777 - 2.77555756156289 \\times 10^{-16}i\\right) \\, C^{12.5000000000000} + \\left(12.9833543858877 - 4.44089209850063 \\times 10^{-16}i\\right) \\, C^{12.0000000000000} + \\left(82.5021369278454 - 1.77635683940025 \\times 10^{-15}i\\right) \\, C^{11.5000000000000} + \\left(32.6712634887316 - 9.99200722162641 \\times 10^{-16}i\\right) \\, C^{11.0000000000000} + \\left(67.4022599234109 - 5.27355936696949 \\times 10^{-15}i\\right) \\, C^{10.5000000000000} - \\left(20.0903551483243 - 6.49480469405717 \\times 10^{-15}i\\right) \\, C^{10.0000000000000} + \\left(12.0559496798038 - 5.55111512312578 \\times 10^{-17}i\\right) \\, C^{9.50000000000000} - \\left(56.4837901035567 - 2.34257058195908 \\times 10^{-14}i\\right) \\, C^{9.00000000000000} - \\left(3.837595924212335 - 1.110223024625157 \\times 10^{-16}i\\right) \\, C^{8.50000000000000} + \\left(23.74798100196343 + 6.883382752675971 \\times 10^{-15}i\\right) \\, C^{8.00000000000000} - \\left(11.06456286947304 + 2.817190924986335 \\times 10^{-15}i\\right) \\, C^{7.50000000000000} + \\left(31.10857434398780 - 3.996802888650563 \\times 10^{-15}i\\right) \\, C^{7.00000000000000} - \\left(25.57791569890270 - 2.756475603327146 \\times 10^{-15}i\\right) \\, C^{6.50000000000000} + \\left(6.50699521319410 - 7.77156117237610 \\times 10^{-16}i\\right) \\, C^{6.00000000000000} - \\left(0.537240230219864 - 3.48592682497539 \\times 10^{-15}i\\right) \\, C^{5.50000000000000} + \\left(1.62355278832776 - 6.66133814775094 \\times 10^{-16}i\\right) \\, C^{5.00000000000000} + \\left(6.94307091379616 + 4.43330268329323 \\times 10^{-16}i\\right) \\, C^{4.50000000000000} + \\left(0.585655115943397 - 1.66533453693773 \\times 10^{-16}i\\right) \\, C^{4.00000000000000} + \\left(1.480561751966027 - 1.387778780781446 \\times 10^{-17}i\\right) \\, C^{3.50000000000000} + \\left(0.0653403286953112 - 1.38777878078145 \\times 10^{-17}i\\right) \\, C^{3.00000000000000} + \\left(0.716309914125007 - 1.11022302462516 \\times 10^{-16}i\\right) \\, C^{2.50000000000000} + \\left(0.132791802047690 - 9.54097911787244 \\times 10^{-18}i\\right) \\, C^{1.50000000000000} + 0.0377474255356182 + 1.49755425074560 \\times 10^{-18}i\\right)} C^{\\frac{25}{2}} - \\left(0.01589553502321723 + 2.135184771570879 \\times 10^{-18}i\\right) \\, C^{13.5000000000000} + {\\left(7.75156250000000 \\, C^{19.5000000000000} - 33.7236544000000 \\, C^{19.0000000000000} + 73.3191406250000 \\, C^{18.5000000000000} - \\left(885.803879906116 - 7.10542735760100 \\times 10^{-15}i\\right) \\, C^{18.0000000000000} + 639.124486328125 \\, C^{17.5000000000000} - \\left(886.511580262397 - 2.34201547044677 \\times 10^{-13}i\\right) \\, C^{17.0000000000000} + 922.698951171875 \\, C^{16.5000000000000} + \\left(1782.900732535769 - 1.136868377216160 \\times 10^{-13}i\\right) \\, C^{16.0000000000000} + 1240.21991341087 \\, C^{15.5000000000000} + \\left(3454.82532615453 - 3.19744231092045 \\times 10^{-13}i\\right) \\, C^{15.0000000000000} - \\left(829.231923574896 - 1.42108547152020 \\times 10^{-14}i\\right) \\, C^{14.5000000000000} + \\left(5127.81342095441 - 2.54019028034236 \\times 10^{-13}i\\right) \\, C^{14.0000000000000} + \\left(3433.02069933923 - 4.01456645704457 \\times 10^{-13}i\\right) \\, C^{13.5000000000000} + \\left(5099.47503149483 - 4.97379915032070 \\times 10^{-13}i\\right) \\, C^{13.0000000000000} + \\left(5047.02638045347 - 9.16600129130529 \\times 10^{-13}i\\right) \\, C^{12.5000000000000} + \\left(2672.90632809947 - 7.99360577730113 \\times 10^{-15}i\\right) \\, C^{12.0000000000000} - \\left(591.020794776006 - 2.84217094304040 \\times 10^{-14}i\\right) \\, C^{11.5000000000000} + \\left(3046.57102342222 - 3.86357612569555 \\times 10^{-14}i\\right) \\, C^{11.0000000000000} + \\left(230.899897632420 + 8.08242361927114 \\times 10^{-14}i\\right) \\, C^{10.5000000000000} + \\left(2987.714673499186 - 1.161293283757914 \\times 10^{-13}i\\right) \\, C^{10.0000000000000} + \\left(1338.512430357976 - 1.065814103640150 \\times 10^{-14}i\\right) \\, C^{9.50000000000000} - \\left(2503.03284535443 + 2.10942374678780 \\times 10^{-14}i\\right) \\, C^{9.00000000000000} + \\left(553.894729474608 - 1.06581410364015 \\times 10^{-13}i\\right) \\, C^{8.50000000000000} - \\left(1768.33278717613 + 1.63757896132211 \\times 10^{-14}i\\right) \\, C^{8.00000000000000} + \\left(8.33111716793368 + 1.77635683940025 \\times 10^{-15}i\\right) \\, C^{7.50000000000000} + \\left(215.969406038907 + 9.21346332560802 \\times 10^{-14}i\\right) \\, C^{7.00000000000000} - \\left(576.859169375683 - 5.06261699229071 \\times 10^{-14}i\\right) \\, C^{6.50000000000000} + \\left(224.149912234017 - 1.41870022674073 \\times 10^{-14}i\\right) \\, C^{6.00000000000000} - \\left(194.745275224761 - 2.59792187762287 \\times 10^{-14}i\\right) \\, C^{5.50000000000000} + \\left(65.6548434734105 - 2.44249065417534 \\times 10^{-15}i\\right) \\, C^{5.00000000000000} + \\left(91.6524442954547 - 1.39749323224692 \\times 10^{-14}i\\right) \\, C^{4.50000000000000} + \\left(14.39581799278118 - 1.998401444325282 \\times 10^{-15}i\\right) \\, C^{4.00000000000000} + \\left(26.9065258185895 + 1.77635683940025 \\times 10^{-15}i\\right) \\, C^{3.50000000000000} + \\left(1.329220562320320 + 1.110223024625157 \\times 10^{-16}i\\right) \\, C^{3.00000000000000} + \\left(5.15656683927810 + 7.77156117237610 \\times 10^{-16}i\\right) \\, C^{2.50000000000000} + \\left(0.736817139580651 + 4.16333634234434 \\times 10^{-17}i\\right) \\, C^{1.50000000000000} + 0.388085903859996 - 3.44776290850390 \\times 10^{-17}i\\right)} C^{12} + \\left(0.01638337669872202 + 1.507685558888152 \\times 10^{-19}i\\right) \\, C^{13.0000000000000} + {\\left(0.247176864000000 \\, C^{18.0000000000000} + 0.681743868000000 \\, C^{17.0000000000000} - \\left(2.90640150548663 + 5.55111512312578 \\times 10^{-17}i\\right) \\, C^{16.0000000000000} - 1.00945747034608 \\, C^{15.5000000000000} + \\left(4.98793111110464 - 8.60422844084496 \\times 10^{-16}i\\right) \\, C^{15.0000000000000} - 8.91159857897945 \\, C^{14.5000000000000} + \\left(6.39033351242921 + 2.51534904016637 \\times 10^{-16}i\\right) \\, C^{14.0000000000000} - \\left(5.241173364957206 - 1.831867990631508 \\times 10^{-15}i\\right) \\, C^{13.5000000000000} + \\left(16.0219387996324 + 5.10702591327572 \\times 10^{-15}i\\right) \\, C^{13.0000000000000} - \\left(54.3551361966641 - 3.99680288865056 \\times 10^{-15}i\\right) \\, C^{12.5000000000000} + \\left(17.8134429964110 - 1.38777878078145 \\times 10^{-17}i\\right) \\, C^{12.0000000000000} - \\left(15.9909006934501 - 1.33920652345409 \\times 10^{-15}i\\right) \\, C^{11.5000000000000} + \\left(35.8551504331703 - 4.03496680512205 \\times 10^{-15}i\\right) \\, C^{11.0000000000000} + \\left(58.0726294893278 - 5.99520433297584 \\times 10^{-15}i\\right) \\, C^{10.5000000000000} + \\left(6.04836081525868 - 7.99555734121160 \\times 10^{-15}i\\right) \\, C^{10.0000000000000} + \\left(42.9382301931957 - 4.44089209850063 \\times 10^{-16}i\\right) \\, C^{9.50000000000000} - \\left(63.7189116939665 + 4.88541498921968 \\times 10^{-15}i\\right) \\, C^{9.00000000000000} + \\left(11.7352857959336 - 6.38378239159465 \\times 10^{-16}i\\right) \\, C^{8.50000000000000} - \\left(10.2461107715051 - 2.88636302359091 \\times 10^{-15}i\\right) \\, C^{8.00000000000000} - \\left(0.4921937991844731 + 1.332267629550188 \\times 10^{-15}i\\right) \\, C^{7.50000000000000} + \\left(18.26987250333285 + 2.331475127976407 \\times 10^{-15}i\\right) \\, C^{7.00000000000000} - \\left(14.06432001669249 + 2.081668171172168 \\times 10^{-15}i\\right) \\, C^{6.50000000000000} + \\left(6.58887402172161 + 4.44088998091826 \\times 10^{-16}i\\right) \\, C^{6.00000000000000} - \\left(4.87110339473882 + 9.00321484031963 \\times 10^{-16}i\\right) \\, C^{5.50000000000000} + 1.44753075292371 \\, C^{5.00000000000000} + \\left(2.13376169443631 + 6.65266453037106 \\times 10^{-16}i\\right) \\, C^{4.50000000000000} + \\left(0.332436133997114 - 1.38777878078145 \\times 10^{-17}i\\right) \\, C^{4.00000000000000} + \\left(0.776828559474640 + 1.11022302462516 \\times 10^{-16}i\\right) \\, C^{3.50000000000000} + \\left(0.03282492919987524 + 1.301042606982605 \\times 10^{-18}i\\right) \\, C^{3.00000000000000} + \\left(0.303620201633814 + 2.94902990916057 \\times 10^{-17}i\\right) \\, C^{2.50000000000000} + \\left(0.0502046405753882 - 1.51788304147971 \\times 10^{-18}i\\right) \\, C^{1.50000000000000} + 0.00929635779549032 + 4.06575814682064 \\times 10^{-20}i\\right)} C^{\\frac{23}{2}} - \\left(0.00279145035494429 + 1.25051510644542 \\times 10^{-19}i\\right) \\, C^{12.5000000000000} + {\\left(6 \\, C^{22.5000000000000} + 15.0000000000000 \\, C^{21.5000000000000} - \\left(98.7940899200000 - 1.11022302462516 \\times 10^{-16}i\\right) \\, C^{20.5000000000000} - \\left(219.406023240000 - 4.44089209850063 \\times 10^{-16}i\\right) \\, C^{19.5000000000000} + 80.3120818030400 \\, C^{19.0000000000000} - \\left(840.296159387540 - 4.44089209850063 \\times 10^{-16}i\\right) \\, C^{18.5000000000000} - \\left(244.416740077783 + 1.13686837721616 \\times 10^{-13}i\\right) \\, C^{18.0000000000000} - \\left(252.258348476295 - 4.92939022933570 \\times 10^{-14}i\\right) \\, C^{17.5000000000000} - \\left(3104.91466826497 - 8.65071903000114 \\times 10^{-14}i\\right) \\, C^{17.0000000000000} - \\left(256.654858605077 + 2.48689957516035 \\times 10^{-14}i\\right) \\, C^{16.5000000000000} - \\left(2651.20323015469 - 8.88178419700125 \\times 10^{-14}i\\right) \\, C^{16.0000000000000} + \\left(690.900074699972 - 5.06261699229071 \\times 10^{-13}i\\right) \\, C^{15.5000000000000} - \\left(1146.327016684545 + 3.996802888650563 \\times 10^{-15}i\\right) \\, C^{15.0000000000000} - \\left(941.821519643883 + 3.26405569239796 \\times 10^{-13}i\\right) \\, C^{14.5000000000000} + \\left(787.193061001402 - 1.22568621918617 \\times 10^{-13}i\\right) \\, C^{14.0000000000000} + \\left(350.691012596725 - 1.42663658664333 \\times 10^{-14}i\\right) \\, C^{13.5000000000000} + \\left(4005.19444985331 + 1.38444811170757 \\times 10^{-13}i\\right) \\, C^{13.0000000000000} + \\left(3322.83255556258 + 1.16823217766182 \\times 10^{-13}i\\right) \\, C^{12.5000000000000} + \\left(3544.372281435753 - 1.039168751049146 \\times 10^{-13}i\\right) \\, C^{12.0000000000000} - \\left(1038.305921140069 + 2.144118216307334 \\times 10^{-14}i\\right) \\, C^{11.5000000000000} + \\left(2843.882166669551 + 2.664535259100376 \\times 10^{-15}i\\right) \\, C^{11.0000000000000} - \\left(1047.706467015693 - 2.273667365493282 \\times 10^{-13}i\\right) \\, C^{10.5000000000000} + \\left(3194.96264731203 + 2.11608508493555 \\times 10^{-13}i\\right) \\, C^{10.0000000000000} + \\left(557.840065234365 + 7.99351904112733 \\times 10^{-14}i\\right) \\, C^{9.50000000000000} - \\left(407.6026408831473 - 2.087219286295294 \\times 10^{-14}i\\right) \\, C^{9.00000000000000} + \\left(441.6388667567088 - 1.776354128894819 \\times 10^{-14}i\\right) \\, C^{8.50000000000000} - \\left(1212.23899751620 - 9.79216707719388 \\times 10^{-14}i\\right) \\, C^{8.00000000000000} + \\left(117.8395729765263 - 1.421085640926790 \\times 10^{-14}i\\right) \\, C^{7.50000000000000} - \\left(164.866886696273 - 5.76760861292769 \\times 10^{-14}i\\right) \\, C^{7.00000000000000} - \\left(198.2398856418461 + 1.332267629550188 \\times 10^{-15}i\\right) \\, C^{6.50000000000000} + \\left(66.1865758007703 + 1.77891555652732 \\times 10^{-14}i\\right) \\, C^{6.00000000000000} - \\left(127.395170431555 - 7.43849426498855 \\times 10^{-15}i\\right) \\, C^{5.50000000000000} + \\left(29.14773418856715 + 1.831867990631508 \\times 10^{-15}i\\right) \\, C^{5.00000000000000} + \\left(11.2474208852821 + 7.16093850883226 \\times 10^{-15}i\\right) \\, C^{4.50000000000000} + \\left(6.07300719604298 + 6.10622663543836 \\times 10^{-16}i\\right) \\, C^{4.00000000000000} + \\left(9.16124172555625 + 8.88178419700125 \\times 10^{-16}i\\right) \\, C^{3.50000000000000} + \\left(0.517095875707220 - 5.55111512312578 \\times 10^{-17}i\\right) \\, C^{3.00000000000000} + \\left(1.814962382749580 + 1.665334536937735 \\times 10^{-16}i\\right) \\, C^{2.50000000000000} + \\left(0.205754395447766 - 5.20417042793042 \\times 10^{-18}i\\right) \\, C^{1.50000000000000} + 0.0738454344212925 - 4.66206934168767 \\times 10^{-18}i\\right)} C^{11} + \\left(0.00213466124695152 - 1.01776302568525 \\times 10^{-19}i\\right) \\, C^{12.0000000000000} + {\\left(0.236070383577600 \\, C^{18.0000000000000} + \\left(6.80309086706014 - 2.22044604925031 \\times 10^{-16}i\\right) \\, C^{17.0000000000000} + \\left(11.23739646458775 - 1.054711873393899 \\times 10^{-15}i\\right) \\, C^{16.0000000000000} - 0.282818311432852 \\, C^{15.5000000000000} + \\left(19.42622383403556 + 1.776356839400250 \\times 10^{-15}i\\right) \\, C^{15.0000000000000} - \\left(6.77500609662994 - 2.22044604925031 \\times 10^{-16}i\\right) \\, C^{14.5000000000000} + \\left(20.1451939927323 + 2.22911966663020 \\times 10^{-16}i\\right) \\, C^{14.0000000000000} + \\left(8.74726111641871 - 1.11022302462516 \\times 10^{-15}i\\right) \\, C^{13.5000000000000} + \\left(23.4690087716594 + 4.08006961549745 \\times 10^{-15}i\\right) \\, C^{13.0000000000000} - \\left(23.0818960280519 + 6.88338275267597 \\times 10^{-15}i\\right) \\, C^{12.5000000000000} + \\left(17.9841190983782 - 7.11930514540882 \\times 10^{-15}i\\right) \\, C^{12.0000000000000} - \\left(60.2266869496307 - 6.55031584528842 \\times 10^{-15}i\\right) \\, C^{11.5000000000000} + \\left(28.6550334507848 - 2.40042360988291 \\times 10^{-15}i\\right) \\, C^{11.0000000000000} - \\left(7.60119334597970 - 8.04911692853238 \\times 10^{-15}i\\right) \\, C^{10.5000000000000} + \\left(28.3545337104519 - 4.48989803669697 \\times 10^{-15}i\\right) \\, C^{10.0000000000000} + \\left(18.63990685014480 + 1.110223024625157 \\times 10^{-16}i\\right) \\, C^{9.50000000000000} - \\left(28.3317852902349 + 1.22185248030426 \\times 10^{-14}i\\right) \\, C^{9.00000000000000} + \\left(9.60393194047703 - 6.31439345255558 \\times 10^{-16}i\\right) \\, C^{8.50000000000000} - \\left(15.69425513624395 + 1.334002353026165 \\times 10^{-15}i\\right) \\, C^{8.00000000000000} + \\left(2.73118757198120 + 3.33066907387547 \\times 10^{-16}i\\right) \\, C^{7.50000000000000} + \\left(5.57968273269675 + 1.13797860024079 \\times 10^{-15}i\\right) \\, C^{7.00000000000000} - \\left(4.42503809828856 + 4.16333634234434 \\times 10^{-17}i\\right) \\, C^{6.50000000000000} + 3.390404290429603 \\, C^{6.00000000000000} - \\left(3.20654855898884 + 4.54497550705924 \\times 10^{-16}i\\right) \\, C^{5.50000000000000} + \\left(0.793520424401548 + 3.72965547335013 \\times 10^{-17}i\\right) \\, C^{5.00000000000000} + \\left(0.116063202156755 - 3.33825848908287 \\times 10^{-16}i\\right) \\, C^{4.50000000000000} + \\left(0.148044764058866 - 3.46944695195361 \\times 10^{-18}i\\right) \\, C^{4.00000000000000} + \\left(0.221191480901507 - 5.55111512312578 \\times 10^{-17}i\\right) \\, C^{3.50000000000000} + \\left(0.0131352648581378 + 6.50521303491303 \\times 10^{-19}i\\right) \\, C^{3.00000000000000} + \\left(0.0968024312251237 - 8.67361737988403 \\times 10^{-19}i\\right) \\, C^{2.50000000000000} + \\left(0.0152967261957284 + 5.14996031930615 \\times 10^{-19}i\\right) \\, C^{1.50000000000000} + 0.00191732233662494 - 6.94567016748526 \\times 10^{-20}i\\right)} C^{\\frac{21}{2}} - \\left(0.000389617962672295 + 3.91028955069130 \\times 10^{-20}i\\right) \\, C^{11.5000000000000} + {\\left(5.73040000000000 \\, C^{22.5000000000000} + \\left(162.321000000000 - 3.55271367880050 \\times 10^{-15}i\\right) \\, C^{21.5000000000000} + \\left(271.307454187072 - 5.32907051820075 \\times 10^{-15}i\\right) \\, C^{20.5000000000000} + \\left(240.1984128219196 - 3.663735981263017 \\times 10^{-14}i\\right) \\, C^{19.5000000000000} + 92.5767376631167 \\, C^{19.0000000000000} - \\left(545.920623120853 + 4.81004125418849 \\times 10^{-14}i\\right) \\, C^{18.5000000000000} + \\left(1005.152016395961 - 1.776356839400251 \\times 10^{-14}i\\right) \\, C^{18.0000000000000} - \\left(91.2576186838928 + 1.01030295240889 \\times 10^{-12}i\\right) \\, C^{17.5000000000000} - \\left(516.718951189677 + 1.13706353360721 \\times 10^{-13}i\\right) \\, C^{17.0000000000000} - \\left(523.338773235469 + 4.75952610656805 \\times 10^{-13}i\\right) \\, C^{16.5000000000000} - \\left(1999.17811055874 - 2.59348098552437 \\times 10^{-13}i\\right) \\, C^{16.0000000000000} + \\left(590.808688740186 + 4.26311763668252 \\times 10^{-13}i\\right) \\, C^{15.5000000000000} - \\left(1551.643185395676 - 3.796962744218035 \\times 10^{-13}i\\right) \\, C^{15.0000000000000} - \\left(506.262899432964 - 7.28306304154103 \\times 10^{-14}i\\right) \\, C^{14.5000000000000} - \\left(1842.40979126756 + 1.22568621918617 \\times 10^{-13}i\\right) \\, C^{14.0000000000000} - \\left(462.643825783175 - 1.51989532071184 \\times 10^{-13}i\\right) \\, C^{13.5000000000000} + \\left(659.690886197518 - 2.43471909300297 \\times 10^{-13}i\\right) \\, C^{13.0000000000000} + \\left(3285.01874834388 - 5.92893789619353 \\times 10^{-14}i\\right) \\, C^{12.5000000000000} + \\left(1853.87064180365 + 3.93018950717305 \\times 10^{-14}i\\right) \\, C^{12.0000000000000} + \\left(905.986319619969 + 1.28203003768590 \\times 10^{-13}i\\right) \\, C^{11.5000000000000} + \\left(1701.384483486212 + 1.740829702612246 \\times 10^{-13}i\\right) \\, C^{11.0000000000000} - \\left(584.968502168780 + 3.55618312575245 \\times 10^{-15}i\\right) \\, C^{10.5000000000000} + \\left(2132.457383260366 + 2.847722058163526 \\times 10^{-13}i\\right) \\, C^{10.0000000000000} + \\left(39.0647379603872 + 6.21776935494367 \\times 10^{-14}i\\right) \\, C^{9.50000000000000} + \\left(630.508303621916 - 6.60582699651968 \\times 10^{-14}i\\right) \\, C^{9.00000000000000} + \\left(173.738302282920 + 2.35367281220533 \\times 10^{-14}i\\right) \\, C^{8.50000000000000} - \\left(358.001487116966 + 7.06656955173912 \\times 10^{-14}i\\right) \\, C^{8.00000000000000} + \\left(71.4688059234228 + 5.10705301833003 \\times 10^{-15}i\\right) \\, C^{7.50000000000000} - \\left(141.3971744636042 - 2.318978342685796 \\times 10^{-14}i\\right) \\, C^{7.00000000000000} - \\left(42.2742605512175 - 5.96744875736022 \\times 10^{-16}i\\right) \\, C^{6.50000000000000} - \\left(1.10636502725308 - 7.11063152802893 \\times 10^{-15}i\\right) \\, C^{6.00000000000000} - \\left(47.7625853659693 + 3.33066907387547 \\times 10^{-15}i\\right) \\, C^{5.50000000000000} + \\left(7.55267236594488 + 9.99200722162641 \\times 10^{-16}i\\right) \\, C^{5.00000000000000} - \\left(3.96186520057154 - 5.20417042793042 \\times 10^{-18}i\\right) \\, C^{4.50000000000000} + \\left(1.86876585161470 + 5.55111512312578 \\times 10^{-17}i\\right) \\, C^{4.00000000000000} + \\left(1.78566183462993 - 6.66133814775094 \\times 10^{-16}i\\right) \\, C^{3.50000000000000} + \\left(0.158769898079930 + 6.07153216591882 \\times 10^{-18}i\\right) \\, C^{3.00000000000000} + \\left(0.456821388885453 + 2.77555756156289 \\times 10^{-17}i\\right) \\, C^{2.50000000000000} + \\left(0.0473061463782522 - 1.73472347597681 \\times 10^{-18}i\\right) \\, C^{1.50000000000000} + 0.0114655091792679 - 8.13151629364128 \\times 10^{-20}i\\right)} C^{10} + \\left(0.000269156207642302 - 6.61082745552380 \\times 10^{-21}i\\right) \\, C^{11.0000000000000} + {\\left(-\\left(6.93889390390723 \\times 10^{-18}i\\right) \\, C^{20.5000000000000} + \\left(0.193106925000000 - 6.59194920871187 \\times 10^{-17}i\\right) \\, C^{19.5000000000000} + \\left(1.82652643125000 - 5.58728410759990 \\times 10^{-16}i\\right) \\, C^{18.5000000000000} - 0.715718206232948 \\, C^{18.0000000000000} + \\left(15.9218692034063 - 7.09397818265955 \\times 10^{-16}i\\right) \\, C^{17.5000000000000} + \\left(0.2458039918573192 + 1.843143693225357 \\times 10^{-18}i\\right) \\, C^{17.0000000000000} + \\left(22.9862762715938 - 1.14905342185612 \\times 10^{-15}i\\right) \\, C^{16.5000000000000} + \\left(17.5297731815848 + 1.11022302462516 \\times 10^{-16}i\\right) \\, C^{16.0000000000000} + \\left(35.9978114199952 + 4.32671953820574 \\times 10^{-15}i\\right) \\, C^{15.5000000000000} + \\left(36.3222958688259 - 7.76722436368615 \\times 10^{-16}i\\right) \\, C^{15.0000000000000} + \\left(28.4023966752411 - 1.20112145923779 \\times 10^{-15}i\\right) \\, C^{14.5000000000000} + \\left(44.7332833755870 - 2.22044604925031 \\times 10^{-16}i\\right) \\, C^{14.0000000000000} + \\left(31.0719397324684 - 3.12128101143116 \\times 10^{-15}i\\right) \\, C^{13.5000000000000} + \\left(52.1548809436672 - 3.27862736959617 \\times 10^{-15}i\\right) \\, C^{13.0000000000000} + \\left(17.61849184516992 - 1.712488373328824 \\times 10^{-15}i\\right) \\, C^{12.5000000000000} + \\left(34.19037835868208 + 1.387778780781446 \\times 10^{-17}i\\right) \\, C^{12.0000000000000} - \\left(26.2669607571852 - 8.81239525796218 \\times 10^{-16}i\\right) \\, C^{11.5000000000000} + \\left(23.7851857534109 + 5.55805401702969 \\times 10^{-15}i\\right) \\, C^{11.0000000000000} - \\left(5.17002470126607 - 3.74700270810990 \\times 10^{-15}i\\right) \\, C^{10.5000000000000} + \\left(24.2180223703322 + 3.79882757195471 \\times 10^{-15}i\\right) \\, C^{10.0000000000000} + \\left(12.90443123762210 + 1.498801083243961 \\times 10^{-15}i\\right) \\, C^{9.50000000000000} - \\left(6.08320502119475 - 1.92987986702420 \\times 10^{-17}i\\right) \\, C^{9.00000000000000} + \\left(7.25830321725421 + 2.77555756156289 \\times 10^{-16}i\\right) \\, C^{8.50000000000000} - \\left(8.47479892733213 + 3.63153517674020 \\times 10^{-16}i\\right) \\, C^{8.00000000000000} + \\left(2.23289550188858 + 9.02056207507940 \\times 10^{-17}i\\right) \\, C^{7.50000000000000} + \\left(1.53514395060233 + 1.38832088186769 \\times 10^{-16}i\\right) \\, C^{7.00000000000000} - \\left(0.677803749061439 - 3.81639164714898 \\times 10^{-17}i\\right) \\, C^{6.50000000000000} + \\left(1.61234684239667 + 1.94287335243508 \\times 10^{-16}i\\right) \\, C^{6.00000000000000} - \\left(1.07648757528455 + 3.46944695195361 \\times 10^{-18}i\\right) \\, C^{5.50000000000000} + \\left(0.397916164696717 + 2.08166817117217 \\times 10^{-17}i\\right) \\, C^{5.00000000000000} - \\left(0.143207750949621 + 5.42101086242752 \\times 10^{-19}i\\right) \\, C^{4.50000000000000} + \\left(0.0607818908582914 - 8.67361737988403 \\times 10^{-19}i\\right) \\, C^{4.00000000000000} + \\left(0.0307236874132066 + 6.93889390390723 \\times 10^{-18}i\\right) \\, C^{3.50000000000000} + \\left(0.00461188499478552 - 3.25260651745651 \\times 10^{-19}i\\right) \\, C^{3.00000000000000} + \\left(0.0220312122329144 - 8.67361737988403 \\times 10^{-19}i\\right) \\, C^{2.50000000000000} + \\left(0.003582021619537652 - 1.490777987167569 \\times 10^{-19}i\\right) \\, C^{1.50000000000000} + 0.000319822476251230 + 1.65171424714589 \\times 10^{-20}i\\right)} C^{\\frac{19}{2}} - \\left(0.0000436479775158422 + 4.19049698319364 \\times 10^{-21}i\\right) \\, C^{10.5000000000000} + {\\left(3.12500000000000 \\, C^{24.0000000000000} + 30.4687500000000 \\, C^{23.0000000000000} - 17.3734271400000 \\, C^{22.5000000000000} + 275.604289125000 \\, C^{22.0000000000000} - 4.03231785000000 \\, C^{21.5000000000000} + 537.255095968750 \\, C^{21.0000000000000} + \\left(345.3888658987814 + 1.065814103640150 \\times 10^{-14}i\\right) \\, C^{20.5000000000000} + \\left(1480.223710618594 - 1.145750161413162 \\times 10^{-13}i\\right) \\, C^{20.0000000000000} + \\left(449.406254850488 - 7.23032744787133 \\times 10^{-14}i\\right) \\, C^{19.5000000000000} + \\left(2026.51766847036 - 5.68434188608080 \\times 10^{-14}i\\right) \\, C^{19.0000000000000} - \\left(122.9631965303672 + 2.135513987866489 \\times 10^{-13}i\\right) \\, C^{18.5000000000000} + \\left(3352.28329076565 + 4.99156271871470 \\times 10^{-13}i\\right) \\, C^{18.0000000000000} + \\left(698.207892362784 + 2.24709140184132 \\times 10^{-13}i\\right) \\, C^{17.5000000000000} + \\left(3053.57623459124 + 4.99864039049669 \\times 10^{-13}i\\right) \\, C^{17.0000000000000} - \\left(26.1445627741828 + 9.03267044494172 \\times 10^{-13}i\\right) \\, C^{16.5000000000000} + \\left(1382.30963137112 + 1.02140518265514 \\times 10^{-13}i\\right) \\, C^{16.0000000000000} + \\left(1045.860040942843 - 1.770916746579587 \\times 10^{-12}i\\right) \\, C^{15.5000000000000} + \\left(1135.743179655874 - 1.658673198789984 \\times 10^{-13}i\\right) \\, C^{15.0000000000000} + \\left(362.751297532232 - 9.00779451029621 \\times 10^{-13}i\\right) \\, C^{14.5000000000000} - \\left(107.346080143184 + 2.20712337295481 \\times 10^{-13}i\\right) \\, C^{14.0000000000000} - \\left(1116.80469980103 + 3.05477865225612 \\times 10^{-13}i\\right) \\, C^{13.5000000000000} + \\left(574.750056374270 - 1.58095758706622 \\times 10^{-13}i\\right) \\, C^{13.0000000000000} + \\left(1119.244826846746 + 2.746136651410325 \\times 10^{-13}i\\right) \\, C^{12.5000000000000} + \\left(1163.43393480315 + 4.67403893367191 \\times 10^{-14}i\\right) \\, C^{12.0000000000000} + \\left(1042.658120635181 - 1.268048166469526 \\times 10^{-13}i\\right) \\, C^{11.5000000000000} + \\left(913.649081977087 + 4.04121180963557 \\times 10^{-14}i\\right) \\, C^{11.0000000000000} + \\left(84.1183288384993 - 2.13308537500012 \\times 10^{-13}i\\right) \\, C^{10.5000000000000} + \\left(925.914735527458 + 2.56045185054177 \\times 10^{-14}i\\right) \\, C^{10.0000000000000} + \\left(77.3605789541783 - 7.23891432907742 \\times 10^{-14}i\\right) \\, C^{9.50000000000000} + \\left(493.317421702206 - 7.60502771868232 \\times 10^{-15}i\\right) \\, C^{9.00000000000000} + \\left(90.6790091918723 + 5.77359340891981 \\times 10^{-15}i\\right) \\, C^{8.50000000000000} + \\left(5.83637807822299 - 2.63677968348475 \\times 10^{-14}i\\right) \\, C^{8.00000000000000} + \\left(36.0954909342994 + 4.44089887476420 \\times 10^{-15}i\\right) \\, C^{7.50000000000000} - \\left(39.0815836750191 + 7.97972798949331 \\times 10^{-15}i\\right) \\, C^{7.00000000000000} - \\left(2.96101718987815 - 2.77555756156289 \\times 10^{-16}i\\right) \\, C^{6.50000000000000} - \\left(5.61677628192572 - 1.43635103810880 \\times 10^{-15}i\\right) \\, C^{6.00000000000000} - \\left(11.6076757846520 - 5.55111512312578 \\times 10^{-16}i\\right) \\, C^{5.50000000000000} + \\left(1.05482298068612 + 2.49800180540660 \\times 10^{-16}i\\right) \\, C^{5.00000000000000} - \\left(2.29732045983901 - 3.46944695195361 \\times 10^{-18}i\\right) \\, C^{4.50000000000000} + \\left(0.403501040097127 + 2.77555756156289 \\times 10^{-17}i\\right) \\, C^{4.00000000000000} + 0.1464084537407664 \\, C^{3.50000000000000} + \\left(0.0366589534457136 + 1.95156391047391 \\times 10^{-18}i\\right) \\, C^{3.00000000000000} + \\left(0.0793211849008153 + 6.93889390390723 \\times 10^{-18}i\\right) \\, C^{2.50000000000000} + \\left(0.00842546242860904 - 4.33680868994202 \\times 10^{-19}i\\right) \\, C^{1.50000000000000} + 0.00144423314759565 + 2.71050543121376 \\times 10^{-20}i\\right)} C^{9} + \\left(0.00003407105079500142 + 1.230844751478905 \\times 10^{-21}i\\right) \\, C^{10.0000000000000} + {\\left(-\\left(0.128089200000000 + 1.38777878078145 \\times 10^{-17}i\\right) \\, C^{20.5000000000000} - \\left(0.936857807304000 - 1.38777878078145 \\times 10^{-17}i\\right) \\, C^{19.5000000000000} - \\left(7.96379232060600 + 4.42354486374086 \\times 10^{-16}i\\right) \\, C^{18.5000000000000} - 0.643208929500928 \\, C^{18.0000000000000} + \\left(7.393254641465799 - 1.332267629550188 \\times 10^{-15}i\\right) \\, C^{17.5000000000000} - \\left(8.51961769382434 - 2.07082614944731 \\times 10^{-16}i\\right) \\, C^{17.0000000000000} + \\left(8.68229312656949 - 7.54951656745106 \\times 10^{-15}i\\right) \\, C^{16.5000000000000} - \\left(3.99980373252762 - 3.67067487516692 \\times 10^{-15}i\\right) \\, C^{16.0000000000000} + \\left(28.3868097781179 - 5.77315972805081 \\times 10^{-15}i\\right) \\, C^{15.5000000000000} + \\left(13.55708531982802 + 1.193706591906540 \\times 10^{-15}i\\right) \\, C^{15.0000000000000} + \\left(28.3559234207895 - 4.44089209850063 \\times 10^{-16}i\\right) \\, C^{14.5000000000000} + \\left(22.4849995180171 - 6.55942314353730 \\times 10^{-16}i\\right) \\, C^{14.0000000000000} + \\left(29.09006816209921 - 3.330669073875470 \\times 10^{-15}i\\right) \\, C^{13.5000000000000} + \\left(38.9392437666845 - 6.84174938925253 \\times 10^{-15}i\\right) \\, C^{13.0000000000000} + \\left(23.6962431153249 - 2.55351295663786 \\times 10^{-15}i\\right) \\, C^{12.5000000000000} + \\left(31.6695725547394 - 5.68468883077600 \\times 10^{-15}i\\right) \\, C^{12.0000000000000} - \\left(24.0238520351162 + 6.69603261727047 \\times 10^{-16}i\\right) \\, C^{11.5000000000000} + \\left(18.0456309596344 + 9.64506252643105 \\times 10^{-16}i\\right) \\, C^{11.0000000000000} - \\left(20.0570934135259 + 8.39606162372775 \\times 10^{-16}i\\right) \\, C^{10.5000000000000} + \\left(13.16157253907716 + 2.438153845485402 \\times 10^{-15}i\\right) \\, C^{10.0000000000000} + \\left(1.51939326806161 + 3.05311331771918 \\times 10^{-16}i\\right) \\, C^{9.50000000000000} - \\left(0.1034007358937243 - 1.110223024625157 \\times 10^{-16}i\\right) \\, C^{9.00000000000000} + \\left(4.17915467406943 + 5.00034041950315 \\times 10^{-16}i\\right) \\, C^{8.50000000000000} - \\left(4.23532304332956 + 2.22911966663020 \\times 10^{-16}i\\right) \\, C^{8.00000000000000} + \\left(1.54190210995753 - 4.85722573273506 \\times 10^{-17}i\\right) \\, C^{7.50000000000000} - \\left(0.286889784375478 - 5.52943107967607 \\times 10^{-17}i\\right) \\, C^{7.00000000000000} + \\left(0.1290558173535730 - 6.505213034913027 \\times 10^{-18}i\\right) \\, C^{6.50000000000000} + \\left(0.495258350079420 + 8.32599505833087 \\times 10^{-17}i\\right) \\, C^{6.00000000000000} - \\left(0.2169481108196110 + 1.127570259384925 \\times 10^{-17}i\\right) \\, C^{5.50000000000000} + \\left(0.156070871751509 - 5.42101086242752 \\times 10^{-18}i\\right) \\, C^{5.00000000000000} - \\left(0.0558398603877620 - 2.43945488809238 \\times 10^{-19}i\\right) \\, C^{4.50000000000000} + \\left(0.0227992299785387 - 4.33680868994202 \\times 10^{-19}i\\right) \\, C^{4.00000000000000} + 0.000298436966051250 \\, C^{3.50000000000000} + \\left(0.001521811901466661 - 1.355252715606880 \\times 10^{-20}i\\right) \\, C^{3.00000000000000} + \\left(0.00363137491598862 + 2.16840434497101 \\times 10^{-19}i\\right) \\, C^{2.50000000000000} + \\left(0.000635647594753354 + 2.71050543121376 \\times 10^{-20}i\\right) \\, C^{1.50000000000000} + 0.0000419292146747170 + 9.52912065661088 \\times 10^{-22}i\\right)} C^{\\frac{17}{2}} - \\left(4.40598798950901 \\times 10^{-6} + 6.01360305326051 \\times 10^{-22}i\\right) \\, C^{9.50000000000000} + {\\left(\\left(4.53100000000000 + 8.88178419700125 \\times 10^{-16}i\\right) \\, C^{24.0000000000000} + \\left(31.93350200000000 + 1.465494392505207 \\times 10^{-14}i\\right) \\, C^{23.0000000000000} - 15.6133285071760 \\, C^{22.5000000000000} + \\left(280.734184888120 + 8.60422844084496 \\times 10^{-14}i\\right) \\, C^{22.0000000000000} - \\left(214.427637531990 + 1.42108547152020 \\times 10^{-14}i\\right) \\, C^{21.5000000000000} - \\left(259.6765094917503 + 1.982858321980530 \\times 10^{-13}i\\right) \\, C^{21.0000000000000} - \\left(221.225243748978 - 4.16333634234434 \\times 10^{-14}i\\right) \\, C^{20.5000000000000} + \\left(434.598100638482 - 4.26325641456060 \\times 10^{-14}i\\right) \\, C^{20.0000000000000} - \\left(336.955913325788 - 9.81367764829599 \\times 10^{-14}i\\right) \\, C^{19.5000000000000} + \\left(244.470491222097 + 3.33955085807247 \\times 10^{-13}i\\right) \\, C^{19.0000000000000} - \\left(1348.436580812988 + 2.121774977936752 \\times 10^{-13}i\\right) \\, C^{18.5000000000000} + \\left(1576.51602430347 + 4.48086012738713 \\times 10^{-13}i\\right) \\, C^{18.0000000000000} - \\left(729.467934133158 + 5.25357535252624 \\times 10^{-13}i\\right) \\, C^{17.5000000000000} + \\left(2151.01470111575 + 6.04096633827211 \\times 10^{-13}i\\right) \\, C^{17.0000000000000} - \\left(1445.93002088651 - 2.64687577411493 \\times 10^{-13}i\\right) \\, C^{16.5000000000000} + \\left(922.911406422830 + 1.81188397618826 \\times 10^{-13}i\\right) \\, C^{16.0000000000000} - \\left(515.208681437025 + 5.84393644587067 \\times 10^{-14}i\\right) \\, C^{15.5000000000000} + \\left(653.286572130830 - 1.77635683940025 \\times 10^{-14}i\\right) \\, C^{15.0000000000000} - \\left(204.853012578086 + 1.80742573685499 \\times 10^{-13}i\\right) \\, C^{14.5000000000000} - \\left(570.251912829139 - 3.90798504668055 \\times 10^{-14}i\\right) \\, C^{14.0000000000000} - \\left(1040.84703390198 + 4.65849581132716 \\times 10^{-13}i\\right) \\, C^{13.5000000000000} - \\left(427.5183432464617 - 1.918742942308427 \\times 10^{-13}i\\right) \\, C^{13.0000000000000} - \\left(384.242463363580 + 7.63833440942108 \\times 10^{-14}i\\right) \\, C^{12.5000000000000} + \\left(300.457123598254 + 2.17048601314218 \\times 10^{-14}i\\right) \\, C^{12.0000000000000} + \\left(104.608254411516 - 1.97550309444239 \\times 10^{-14}i\\right) \\, C^{11.5000000000000} + \\left(436.700418032922 + 8.73190408867686 \\times 10^{-14}i\\right) \\, C^{11.0000000000000} - \\left(30.7811440378724 + 5.15004705547994 \\times 10^{-14}i\\right) \\, C^{10.5000000000000} + \\left(354.173907318482 + 2.64163690921748 \\times 10^{-14}i\\right) \\, C^{10.0000000000000} + \\left(2.23131861154235 - 2.39842867788553 \\times 10^{-14}i\\right) \\, C^{9.50000000000000} + \\left(209.8541136859031 + 1.576516694967722 \\times 10^{-14}i\\right) \\, C^{9.00000000000000} + \\left(28.63746901487783 - 2.664535259100376 \\times 10^{-15}i\\right) \\, C^{8.50000000000000} + \\left(44.5496158746722 - 2.13024042849952 \\times 10^{-15}i\\right) \\, C^{8.00000000000000} + \\left(13.3937543800262 - 8.74300631892311 \\times 10^{-16}i\\right) \\, C^{7.50000000000000} - \\left(0.887861887411162 + 1.65145674912992 \\times 10^{-15}i\\right) \\, C^{7.00000000000000} + \\left(1.51152327849625 - 6.03683769639929 \\times 10^{-16}i\\right) \\, C^{6.50000000000000} - \\left(1.049033796674331 + 3.324163860840557 \\times 10^{-16}i\\right) \\, C^{6.00000000000000} - \\left(1.886162645129352 - 1.283695372222837 \\times 10^{-16}i\\right) \\, C^{5.50000000000000} + \\left(0.104358600224381 + 6.93889390390723 \\times 10^{-18}i\\right) \\, C^{5.00000000000000} - \\left(0.577479970369328 - 6.50521303491303 \\times 10^{-19}i\\right) \\, C^{4.50000000000000} + \\left(0.0654592054881092 + 3.46944695195361 \\times 10^{-18}i\\right) \\, C^{4.00000000000000} - \\left(0.0181359132068952 + 2.77555756156289 \\times 10^{-17}i\\right) \\, C^{3.50000000000000} + 0.00640422337037766 \\, C^{3.00000000000000} + 0.00921964709945780 \\, C^{2.50000000000000} + \\left(0.001126686700791644 - 1.626303258728257 \\times 10^{-19}i\\right) \\, C^{1.50000000000000} + 0.000146694420732908 + 5.92923063078010 \\times 10^{-21}i\\right)} C^{8} + \\left(3.88963778318450 \\times 10^{-6} - 1.77843831698901 \\times 10^{-22}i\\right) \\, C^{9.00000000000000} + {\\left(-\\left(0.180425226432000 + 1.24683249835833 \\times 10^{-18}i\\right) \\, C^{20.5000000000000} - 1.46466089988758 \\, C^{19.5000000000000} - 12.58933567947748 \\, C^{18.5000000000000} - 0.0708499673973251 \\, C^{18.0000000000000} - 1.54231745532578 \\, C^{17.5000000000000} - \\left(4.91717145767602 + 4.37251959899826 \\times 10^{-16}i\\right) \\, C^{17.0000000000000} - \\left(5.03154352785113 - 7.10542735760100 \\times 10^{-15}i\\right) \\, C^{16.5000000000000} - \\left(8.81238912437899 - 4.64905891561784 \\times 10^{-16}i\\right) \\, C^{16.0000000000000} + \\left(12.79218563509308 - 6.210310043996969 \\times 10^{-15}i\\right) \\, C^{15.5000000000000} - \\left(0.244360876037938 - 1.59464455529168 \\times 10^{-15}i\\right) \\, C^{15.0000000000000} + \\left(17.9030407913419 - 9.60342916300760 \\times 10^{-15}i\\right) \\, C^{14.5000000000000} + \\left(3.30258249171412 + 2.74736830507827 \\times 10^{-16}i\\right) \\, C^{14.0000000000000} + \\left(20.0618922780924 - 4.17027523624824 \\times 10^{-15}i\\right) \\, C^{13.5000000000000} + \\left(15.28968104688811 - 3.538835890992686 \\times 10^{-15}i\\right) \\, C^{13.0000000000000} + \\left(29.7310968371445 + 4.44089209850063 \\times 10^{-16}i\\right) \\, C^{12.5000000000000} + \\left(16.6837549561728 + 7.24247051220317 \\times 10^{-16}i\\right) \\, C^{12.0000000000000} + \\left(2.58246027590795 + 1.33400235302616 \\times 10^{-15}i\\right) \\, C^{11.5000000000000} + \\left(11.0464850629418 + 5.65086172299445 \\times 10^{-16}i\\right) \\, C^{11.0000000000000} - \\left(12.6282972607381 + 6.80011602582908 \\times 10^{-16}i\\right) \\, C^{10.5000000000000} + \\left(6.812289633718351 - 1.127570259384925 \\times 10^{-16}i\\right) \\, C^{10.0000000000000} - \\left(4.87122967188751 + 4.02455846426619 \\times 10^{-16}i\\right) \\, C^{9.50000000000000} + \\left(1.528793890633238 + 3.530162273612802 \\times 10^{-16}i\\right) \\, C^{9.00000000000000} + \\left(0.0678151986450981 - 1.41271543074861 \\times 10^{-16}i\\right) \\, C^{8.50000000000000} - \\left(1.22600390211418 - 8.13151629364128 \\times 10^{-17}i\\right) \\, C^{8.00000000000000} + \\left(0.409878845577522 - 5.20417042793042 \\times 10^{-18}i\\right) \\, C^{7.50000000000000} - \\left(0.383706506181018 - 1.24574829618584 \\times 10^{-16}i\\right) \\, C^{7.00000000000000} + \\left(0.0894206549979105 - 6.93889390390723 \\times 10^{-18}i\\right) \\, C^{6.50000000000000} + \\left(0.0595587030052463 + 1.38743996760254 \\times 10^{-17}i\\right) \\, C^{6.00000000000000} - \\left(0.02668014962712625 + 2.764715539838036 \\times 10^{-18}i\\right) \\, C^{5.50000000000000} + \\left(0.0371761071429365 - 2.60208521396521 \\times 10^{-18}i\\right) \\, C^{5.00000000000000} - \\left(0.01093681278579007 - 1.694065894508601 \\times 10^{-20}i\\right) \\, C^{4.50000000000000} + \\left(0.00606873510050893 - 2.16840434497101 \\times 10^{-19}i\\right) \\, C^{4.00000000000000} - \\left(0.000574943996989538 - 2.16840434497101 \\times 10^{-19}i\\right) \\, C^{3.50000000000000} + \\left(0.000393541100619491 - 1.69406589450860 \\times 10^{-20}i\\right) \\, C^{3.00000000000000} + 0.0004607209706807511 \\, C^{2.50000000000000} + \\left(0.0000863947751073517 - 5.92923063078010 \\times 10^{-21}i\\right) \\, C^{1.50000000000000} + 4.23352789130071 \\times 10^{-6} + 9.26442286059391 \\times 10^{-23}i\\right)} C^{\\frac{15}{2}} - \\left(4.90407994452104 \\times 10^{-7} + 3.97046694025453 \\times 10^{-23}i\\right) \\, C^{8.50000000000000} + {\\left(\\left(12.15699791125000 + 1.776356839400250 \\times 10^{-15}i\\right) \\, C^{24.0000000000000} + \\left(101.2843028846075 + 2.975397705995419 \\times 10^{-14}i\\right) \\, C^{23.0000000000000} - 1.719820364676002 \\, C^{22.5000000000000} + \\left(880.742017647173 + 1.69891878343265 \\times 10^{-13}i\\right) \\, C^{22.0000000000000} - 121.718089511677 \\, C^{21.5000000000000} + \\left(395.139679324585 - 5.72875080706581 \\times 10^{-14}i\\right) \\, C^{21.0000000000000} - \\left(279.480255869023 - 1.32671651442706 \\times 10^{-14}i\\right) \\, C^{20.5000000000000} + \\left(1322.50913702632 + 8.52706794063351 \\times 10^{-13}i\\right) \\, C^{20.0000000000000} - \\left(446.711065125007 - 1.51476053922295 \\times 10^{-14}i\\right) \\, C^{19.5000000000000} + \\left(745.536817007896 + 2.14228634831670 \\times 10^{-12}i\\right) \\, C^{19.0000000000000} - \\left(1283.86050355324 + 1.75776060373778 \\times 10^{-13}i\\right) \\, C^{18.5000000000000} + \\left(1294.864866319842 + 4.245492846166599 \\times 10^{-13}i\\right) \\, C^{18.0000000000000} - \\left(958.092334024407 + 6.46149800331841 \\times 10^{-14}i\\right) \\, C^{17.5000000000000} + \\left(2103.46723460646 - 3.89662260791290 \\times 10^{-13}i\\right) \\, C^{17.0000000000000} - \\left(1296.75520114082 + 8.59069759773234 \\times 10^{-14}i\\right) \\, C^{16.5000000000000} + \\left(1533.26386230513 + 1.59650070941097 \\times 10^{-13}i\\right) \\, C^{16.0000000000000} - \\left(594.786615755370 + 4.39231984117328 \\times 10^{-15}i\\right) \\, C^{15.5000000000000} + \\left(1302.86818393927 + 1.06914477271403 \\times 10^{-13}i\\right) \\, C^{15.0000000000000} - \\left(97.6060041392077 + 2.50133247448048 \\times 10^{-13}i\\right) \\, C^{14.5000000000000} + \\left(367.057853780422 - 5.87307980026708 \\times 10^{-14}i\\right) \\, C^{14.0000000000000} - \\left(203.912495483586 + 9.00876595544276 \\times 10^{-14}i\\right) \\, C^{13.5000000000000} - \\left(264.009909413992 + 2.84078316425962 \\times 10^{-14}i\\right) \\, C^{13.0000000000000} - \\left(158.8234490186010 - 1.075355082758023 \\times 10^{-14}i\\right) \\, C^{12.5000000000000} - \\left(120.419532381301 + 1.91513471747840 \\times 10^{-15}i\\right) \\, C^{12.0000000000000} - \\left(13.9063998364045 + 7.40726924242097 \\times 10^{-16}i\\right) \\, C^{11.5000000000000} + \\left(73.0079558528826 - 1.53336544850280 \\times 10^{-14}i\\right) \\, C^{11.0000000000000} - \\left(30.7601375757200 + 7.91380849740619 \\times 10^{-15}i\\right) \\, C^{10.5000000000000} + \\left(94.6312075132185 - 1.07743675092919 \\times 10^{-14}i\\right) \\, C^{10.0000000000000} - \\left(14.8214400323836 + 3.12423698023423 \\times 10^{-15}i\\right) \\, C^{9.50000000000000} + \\left(60.2907694717826 - 3.75394160201381 \\times 10^{-15}i\\right) \\, C^{9.00000000000000} + \\left(2.69500443662230 - 4.33680868994202 \\times 10^{-19}i\\right) \\, C^{8.50000000000000} + \\left(18.3872459277510 + 1.25593979660721 \\times 10^{-15}i\\right) \\, C^{8.00000000000000} + \\left(2.854684340738999 + 1.179611963664229 \\times 10^{-16}i\\right) \\, C^{7.50000000000000} + \\left(2.464829782740671 - 1.047339298620997 \\times 10^{-16}i\\right) \\, C^{7.00000000000000} + \\left(0.590740722192449 - 2.77555756156289 \\times 10^{-17}i\\right) \\, C^{6.50000000000000} + \\left(0.142759223679205 + 4.20941493467497 \\times 10^{-17}i\\right) \\, C^{6.00000000000000} - \\left(0.2012729176658198 - 1.040834085586084 \\times 10^{-17}i\\right) \\, C^{5.50000000000000} + \\left(0.0306064561632523 - 3.46944695195361 \\times 10^{-18}i\\right) \\, C^{5.00000000000000} - \\left(0.0919694635895413 - 2.71050543121376 \\times 10^{-20}i\\right) \\, C^{4.50000000000000} + 0.00943141662490069 \\, C^{4.00000000000000} - \\left(0.00741163814832771 - 1.73472347597681 \\times 10^{-18}i\\right) \\, C^{3.50000000000000} + \\left(0.000884182095324792 - 1.76182853028894 \\times 10^{-19}i\\right) \\, C^{3.00000000000000} + \\left(0.000646486610566636 - 2.16840434497101 \\times 10^{-19}i\\right) \\, C^{2.50000000000000} + 0.0001109395653272762 \\, C^{1.50000000000000} + 0.0000119258707914098 + 5.29395592033938 \\times 10^{-22}i\\right)} C^{7} + \\left(3.562847920668345 \\times 10^{-7} + 1.840476862930487 \\times 10^{-23}i\\right) \\, C^{8.00000000000000} + {\\left(0.0519000000000000 \\, C^{24.0000000000000} + 0.506025000000000 \\, C^{23.0000000000000} + 4.57723603378800 \\, C^{22.0000000000000} + 8.92273263384900 \\, C^{21.0000000000000} - \\left(0.116796402681852 - 1.73472347597681 \\times 10^{-17}i\\right) \\, C^{20.5000000000000} + \\left(24.58355538595360 + 1.387778780781446 \\times 10^{-17}i\\right) \\, C^{20.0000000000000} - \\left(0.884627402501426 - 2.77555756156289 \\times 10^{-17}i\\right) \\, C^{19.5000000000000} + \\left(33.2684043765989 - 5.55111512312578 \\times 10^{-17}i\\right) \\, C^{19.0000000000000} - \\left(7.54889967367697 + 1.73472347597681 \\times 10^{-18}i\\right) \\, C^{18.5000000000000} + \\left(42.6683007482646 + 1.80411241501588 \\times 10^{-15}i\\right) \\, C^{18.0000000000000} + \\left(4.23770607161147 + 7.54951656745106 \\times 10^{-15}i\\right) \\, C^{17.5000000000000} + \\left(36.2469026968273 - 6.74238226014423 \\times 10^{-15}i\\right) \\, C^{17.0000000000000} + \\left(4.30221185873406 + 1.46549439250521 \\times 10^{-14}i\\right) \\, C^{16.5000000000000} + \\left(22.76908928173526 - 1.290634266126745 \\times 10^{-15}i\\right) \\, C^{16.0000000000000} + \\left(20.0870507185237 + 2.38177533251616 \\times 10^{-14}i\\right) \\, C^{15.5000000000000} + \\left(15.7584726746567 + 3.92676342830800 \\times 10^{-15}i\\right) \\, C^{15.0000000000000} + \\left(23.3229751827380 + 1.08801856413265 \\times 10^{-14}i\\right) \\, C^{14.5000000000000} + \\left(8.36081408001763 + 1.49359691281603 \\times 10^{-15}i\\right) \\, C^{14.0000000000000} + \\left(19.6998542338234 - 4.53109771925142 \\times 10^{-15}i\\right) \\, C^{13.5000000000000} + \\left(10.44913210652106 + 1.731254029024854 \\times 10^{-15}i\\right) \\, C^{13.0000000000000} + \\left(21.8541059396802 + 4.44089209850063 \\times 10^{-16}i\\right) \\, C^{12.5000000000000} + \\left(9.93809751393644 - 3.22658566531686 \\times 10^{-16}i\\right) \\, C^{12.0000000000000} + \\left(12.8171641139776 + 5.57279916657549 \\times 10^{-17}i\\right) \\, C^{11.5000000000000} + \\left(5.87043984053832 + 1.24336305140638 \\times 10^{-15}i\\right) \\, C^{11.0000000000000} + \\left(0.741652479684791 - 1.73472347597681 \\times 10^{-16}i\\right) \\, C^{10.5000000000000} + \\left(2.80844566399264 + 2.51860164668383 \\times 10^{-16}i\\right) \\, C^{10.0000000000000} - \\left(1.36958262481295 - 4.85722573273506 \\times 10^{-17}i\\right) \\, C^{9.50000000000000} + \\left(0.889041007389374 + 3.00540842212982 \\times 10^{-16}i\\right) \\, C^{9.00000000000000} - \\left(0.337921141706129 - 3.48299947910968 \\times 10^{-18}i\\right) \\, C^{8.50000000000000} - \\left(0.154539533529306 - 7.15573433840433 \\times 10^{-17}i\\right) \\, C^{8.00000000000000} + \\left(0.01960174702612196 + 3.794707603699266 \\times 10^{-18}i\\right) \\, C^{7.50000000000000} - \\left(0.1232375490748339 - 2.341876692568690 \\times 10^{-17}i\\right) \\, C^{7.00000000000000} + \\left(0.0166566861502954 - 2.60208521396521 \\times 10^{-18}i\\right) \\, C^{6.50000000000000} - \\left(0.007486469938014728 + 3.388131789017201 \\times 10^{-21}i\\right) \\, C^{6.00000000000000} - \\left(0.002056434126251991 + 3.252606517456513 \\times 10^{-19}i\\right) \\, C^{5.50000000000000} + \\left(0.00479874129462242 + 8.67361737988403 \\times 10^{-19}i\\right) \\, C^{5.00000000000000} - \\left(0.001365843861781407 - 1.033380195650246 \\times 10^{-19}i\\right) \\, C^{4.50000000000000} + \\left(0.00102427850312788 + 5.42101086242752 \\times 10^{-20}i\\right) \\, C^{4.00000000000000} - 0.0000855978348543471 \\, C^{3.50000000000000} + \\left(0.0000693962121666081 - 5.08219768352580 \\times 10^{-21}i\\right) \\, C^{3.00000000000000} + \\left(0.0000493944872992999 - 3.38813178901720 \\times 10^{-21}i\\right) \\, C^{2.50000000000000} + \\left(9.18759197075072 \\times 10^{-6} - 4.23516473627150 \\times 10^{-22}i\\right) \\, C^{1.50000000000000} + 3.23394325008918 \\times 10^{-7} - 3.30872245021211 \\times 10^{-24}i\\right)} C^{\\frac{13}{2}} - \\left(5.54113697746822 \\times 10^{-8} + 7.54802308954638 \\times 10^{-24}i\\right) \\, C^{7.50000000000000} + {\\left(4.96100000000000 \\, C^{26.5000000000000} + 49.4047500000000 \\, C^{25.5000000000000} + 437.8507506172401 \\, C^{24.5000000000000} + \\left(14.7441465941100 + 8.88178419700125 \\times 10^{-16}i\\right) \\, C^{24.0000000000000} + \\left(847.717509490170 + 7.10542735760100 \\times 10^{-15}i\\right) \\, C^{23.5000000000000} + \\left(132.591133460113 - 4.44089209850063 \\times 10^{-16}i\\right) \\, C^{23.0000000000000} + \\left(1682.13685772940 - 5.68434188608080 \\times 10^{-14}i\\right) \\, C^{22.5000000000000} + \\left(1159.151590730303 + 1.139088823265411 \\times 10^{-13}i\\right) \\, C^{22.0000000000000} + \\left(2064.046458580642 + 2.211564265053312 \\times 10^{-13}i\\right) \\, C^{21.5000000000000} + \\left(1270.72351672510 - 7.11652958784725 \\times 10^{-14}i\\right) \\, C^{21.0000000000000} + \\left(2163.674124803789 + 1.508793090465588 \\times 10^{-13}i\\right) \\, C^{20.5000000000000} + \\left(2654.52700831741 - 3.76566833271141 \\times 10^{-13}i\\right) \\, C^{20.0000000000000} + \\left(1785.22192393816 + 7.93566601320350 \\times 10^{-14}i\\right) \\, C^{19.5000000000000} + \\left(2531.04784665577 + 5.89750470680883 \\times 10^{-13}i\\right) \\, C^{19.0000000000000} + \\left(668.837526744894 + 9.37583344295945 \\times 10^{-14}i\\right) \\, C^{18.5000000000000} + \\left(2629.768254395907 + 1.403321903126198 \\times 10^{-13}i\\right) \\, C^{18.0000000000000} + \\left(185.6147638953138 - 1.613154054780353 \\times 10^{-13}i\\right) \\, C^{17.5000000000000} + \\left(2634.418265657165 - 4.059565184011404 \\times 10^{-13}i\\right) \\, C^{17.0000000000000} - \\left(512.627741967261 + 2.00651995019285 \\times 10^{-13}i\\right) \\, C^{16.5000000000000} + \\left(2030.56917081528 - 7.10542735760100 \\times 10^{-14}i\\right) \\, C^{16.0000000000000} - \\left(458.977718544140 - 4.44227987728141 \\times 10^{-14}i\\right) \\, C^{15.5000000000000} + \\left(1493.233138434593 - 1.378341885072132 \\times 10^{-13}i\\right) \\, C^{15.0000000000000} - \\left(268.1444959284859 - 1.344653555168662 \\times 10^{-13}i\\right) \\, C^{14.5000000000000} + \\left(870.982938511957 + 1.26426646929190 \\times 10^{-14}i\\right) \\, C^{14.0000000000000} - \\left(174.566197039391 - 1.30360999772705 \\times 10^{-13}i\\right) \\, C^{13.5000000000000} + \\left(251.451904147100 + 1.19695919842400 \\times 10^{-16}i\\right) \\, C^{13.0000000000000} - \\left(110.8398236134331 - 2.397214371452350 \\times 10^{-14}i\\right) \\, C^{12.5000000000000} + \\left(18.7252524504150 - 2.83800760669806 \\times 10^{-15}i\\right) \\, C^{12.0000000000000} - \\left(37.1908551006428 - 3.76487035991246 \\times 10^{-14}i\\right) \\, C^{11.5000000000000} + \\left(10.2779398055953 - 6.22245310832881 \\times 10^{-15}i\\right) \\, C^{11.0000000000000} - \\left(18.21945848199911 - 1.088365508827849 \\times 10^{-14}i\\right) \\, C^{10.5000000000000} + \\left(16.9244116783309 - 3.53883589099269 \\times 10^{-15}i\\right) \\, C^{10.0000000000000} - \\left(8.14870706900210 - 1.66880398388969 \\times 10^{-15}i\\right) \\, C^{9.50000000000000} + \\left(11.8189433038469 + 6.48434214309268 \\times 10^{-16}i\\right) \\, C^{9.00000000000000} - \\left(1.186756138487631 + 1.045170894276026 \\times 10^{-16}i\\right) \\, C^{8.50000000000000} + \\left(4.18414096295797 + 2.39391839684799 \\times 10^{-16}i\\right) \\, C^{8.00000000000000} + \\left(0.2375039418489179 - 1.217016938614979 \\times 10^{-17}i\\right) \\, C^{7.50000000000000} + \\left(0.801503022045839 + 5.63785129692462 \\times 10^{-17}i\\right) \\, C^{7.00000000000000} + 0.0970097637825505 \\, C^{6.50000000000000} + \\left(0.0941934370527958 - 4.63496428737553 \\times 10^{-18}i\\right) \\, C^{6.00000000000000} - \\left(0.0132335787859882 + 1.73472347597681 \\times 10^{-18}i\\right) \\, C^{5.50000000000000} + \\left(0.0103291288397084 + 9.75781955236954 \\times 10^{-19}i\\right) \\, C^{5.00000000000000} - \\left(0.0101348540931344 + 4.33680868994202 \\times 10^{-19}i\\right) \\, C^{4.50000000000000} + \\left(0.00136341749578582 + 9.48676900924816 \\times 10^{-20}i\\right) \\, C^{4.00000000000000} - 0.001160016214069510 \\, C^{3.50000000000000} + \\left(0.0001016659566749069 - 1.185846126156021 \\times 10^{-20}i\\right) \\, C^{3.00000000000000} + 0.00001325482459242791 \\, C^{2.50000000000000} + \\left(7.83412596216332 \\times 10^{-6} + 1.69406589450860 \\times 10^{-21}i\\right) \\, C^{1.50000000000000} + 7.68121692789040 \\times 10^{-7} + 1.32348898008484 \\times 10^{-23}i\\right)} C^{6} + \\left(2.75801173551146 \\times 10^{-8} + 1.65436122510606 \\times 10^{-24}i\\right) \\, C^{7.00000000000000} + {\\left(0.0635754240000000 \\, C^{24.0000000000000} + 0.518188300608000 \\, C^{23.0000000000000} + \\left(4.61983468820495 + 4.42354486374086 \\times 10^{-16}i\\right) \\, C^{22.0000000000000} + \\left(2.305012582105007 - 1.776356839400250 \\times 10^{-15}i\\right) \\, C^{21.0000000000000} - 0.0880783729252055 \\, C^{20.5000000000000} + \\left(15.90068032067876 - 1.776790520269245 \\times 10^{-15}i\\right) \\, C^{20.0000000000000} - 0.736996452607462 \\, C^{19.5000000000000} + \\left(18.5888591669213 - 5.16253706450698 \\times 10^{-15}i\\right) \\, C^{19.0000000000000} - 6.35375769926986 \\, C^{18.5000000000000} + \\left(29.2438292591108 - 5.41580669199959 \\times 10^{-15}i\\right) \\, C^{18.0000000000000} - 2.566128614897980 \\, C^{17.5000000000000} + \\left(28.9589239502659 + 6.57506953613898 \\times 10^{-15}i\\right) \\, C^{17.0000000000000} - 5.07397639818520 \\, C^{16.5000000000000} + \\left(17.6710293016563 - 1.26201132877313 \\times 10^{-15}i\\right) \\, C^{16.0000000000000} + \\left(2.04437176889644 + 6.66133814775094 \\times 10^{-16}i\\right) \\, C^{15.5000000000000} + \\left(9.57481444359712 + 7.46798456408015 \\times 10^{-16}i\\right) \\, C^{15.0000000000000} + \\left(4.98710569344477 - 4.47558656802016 \\times 10^{-16}i\\right) \\, C^{14.5000000000000} + \\left(1.319049873951580 + 1.914701036609401 \\times 10^{-16}i\\right) \\, C^{14.0000000000000} + \\left(4.97145667543002 - 1.13711123850280 \\times 10^{-15}i\\right) \\, C^{13.5000000000000} + \\left(0.229102987677125 - 6.52256026967280 \\times 10^{-16}i\\right) \\, C^{13.0000000000000} + \\left(5.78355093772681 + 1.45716771982052 \\times 10^{-16}i\\right) \\, C^{12.5000000000000} + \\left(2.325291268796322 - 2.179788467782107 \\times 10^{-16}i\\right) \\, C^{12.0000000000000} + \\left(4.83863620231470 - 1.75369701399530 \\times 10^{-16}i\\right) \\, C^{11.5000000000000} + \\left(2.110395592804992 - 2.009026625615640 \\times 10^{-16}i\\right) \\, C^{11.0000000000000} + \\left(1.57891812927472 + 8.02309607639273 \\times 10^{-17}i\\right) \\, C^{10.5000000000000} + \\left(0.978209807541490 - 1.09965205344342 \\times 10^{-16}i\\right) \\, C^{10.0000000000000} + \\left(0.0875250462791841 + 8.23993651088983 \\times 10^{-18}i\\right) \\, C^{9.50000000000000} + \\left(0.302296985593637 - 3.46944695195361 \\times 10^{-17}i\\right) \\, C^{9.00000000000000} - \\left(0.0481323811371932 + 1.43114686768087 \\times 10^{-17}i\\right) \\, C^{8.50000000000000} + \\left(0.0104749008516147 - 5.69206140554890 \\times 10^{-18}i\\right) \\, C^{8.00000000000000} - \\left(0.00484981623939640 + 1.89735380184963 \\times 10^{-19}i\\right) \\, C^{7.50000000000000} - \\left(0.0204457636854696 + 4.60785923306339 \\times 10^{-19}i\\right) \\, C^{7.00000000000000} + \\left(0.00143378464989143 - 4.87890977618477 \\times 10^{-19}i\\right) \\, C^{6.50000000000000} - \\left(0.00367439543091427 + 2.20228566286118 \\times 10^{-19}i\\right) \\, C^{6.00000000000000} - \\left(0.000122380810339528 + 3.04931861011548 \\times 10^{-20}i\\right) \\, C^{5.50000000000000} + \\left(0.000218236030420938 - 1.08420217248550 \\times 10^{-19}i\\right) \\, C^{5.00000000000000} - \\left(0.000117347806394434 + 2.54109884176290 \\times 10^{-21}i\\right) \\, C^{4.50000000000000} + \\left(0.0001048322805294760 - 1.355252715606880 \\times 10^{-20}i\\right) \\, C^{4.00000000000000} - \\left(3.806101921948448 \\times 10^{-6} - 3.388131789017201 \\times 10^{-21}i\\right) \\, C^{3.50000000000000} + \\left(7.96199082761924 \\times 10^{-6} - 8.47032947254300 \\times 10^{-22}i\\right) \\, C^{3.00000000000000} + \\left(4.76416713505281 \\times 10^{-6}\\right) \\, C^{2.50000000000000} + \\left(7.78685963289271 \\times 10^{-7} - 1.98523347012727 \\times 10^{-23}i\\right) \\, C^{1.50000000000000} + 1.827802720935857 \\times 10^{-8} - 1.861156378244312 \\times 10^{-24}i\\right)} C^{\\frac{11}{2}} - \\left(4.59938953739373 \\times 10^{-9} + 1.13737334226041 \\times 10^{-24}i\\right) \\, C^{6.50000000000000} + {\\left(-4.93600000000000 \\, C^{27.5000000000000} - 43.2829734400000 \\, C^{26.5000000000000} - \\left(377.193647106240 + 1.11022302462516 \\times 10^{-16}i\\right) \\, C^{25.5000000000000} - \\left(325.456058761986 - 1.39888101102770 \\times 10^{-14}i\\right) \\, C^{24.5000000000000} + \\left(8.58909633161477 + 1.33226762955019 \\times 10^{-15}i\\right) \\, C^{24.0000000000000} - \\left(674.447537567716 - 4.28823643261467 \\times 10^{-14}i\\right) \\, C^{23.5000000000000} + 75.3244829118193 \\, C^{23.0000000000000} - \\left(164.609335776801 + 8.83182416089312 \\times 10^{-14}i\\right) \\, C^{22.5000000000000} + \\left(655.162892832842 + 8.52651282912120 \\times 10^{-14}i\\right) \\, C^{22.0000000000000} + \\left(128.089921570096 - 3.24150428721026 \\times 10^{-14}i\\right) \\, C^{21.5000000000000} + \\left(563.297954719024 + 4.12336831345783 \\times 10^{-13}i\\right) \\, C^{21.0000000000000} + \\left(501.693682258994 + 3.01043912021015 \\times 10^{-13}i\\right) \\, C^{20.5000000000000} + \\left(1152.34900892701 + 4.58313942353072 \\times 10^{-13}i\\right) \\, C^{20.0000000000000} + \\left(659.026146948527 - 1.13423159753268 \\times 10^{-13}i\\right) \\, C^{19.5000000000000} + \\left(858.525941894623 + 3.63042929052426 \\times 10^{-13}i\\right) \\, C^{19.0000000000000} + \\left(248.249606388278 + 7.87703235971549 \\times 10^{-14}i\\right) \\, C^{18.5000000000000} + \\left(745.588898552902 + 1.87447279920150 \\times 10^{-13}i\\right) \\, C^{18.0000000000000} - \\left(0.928641703892140 - 5.66768854071142 \\times 10^{-14}i\\right) \\, C^{17.5000000000000} + \\left(655.976162536426 + 1.17056971754570 \\times 10^{-13}i\\right) \\, C^{17.0000000000000} - \\left(299.015143155906 - 1.79871742500559 \\times 10^{-13}i\\right) \\, C^{16.5000000000000} + \\left(511.321250722510 + 6.54754028772686 \\times 10^{-14}i\\right) \\, C^{16.0000000000000} - \\left(307.947714853493 - 1.70249231379316 \\times 10^{-13}i\\right) \\, C^{15.5000000000000} + \\left(393.507801551785 + 6.68631816580501 \\times 10^{-14}i\\right) \\, C^{15.0000000000000} - \\left(189.045893128050 + 8.40213315589367 \\times 10^{-15}i\\right) \\, C^{14.5000000000000} + \\left(287.2687833359555 - 1.743744038051886 \\times 10^{-14}i\\right) \\, C^{14.0000000000000} - \\left(94.1153034131252 + 1.17158886758784 \\times 10^{-14}i\\right) \\, C^{13.5000000000000} + \\left(129.744726462834 + 1.14968798370363 \\times 10^{-15}i\\right) \\, C^{13.0000000000000} - \\left(47.7979451685792 - 1.24587840044654 \\times 10^{-14}i\\right) \\, C^{12.5000000000000} + \\left(31.4110757214574 + 3.80858539150708 \\times 10^{-15}i\\right) \\, C^{12.0000000000000} - \\left(18.5273431491290 - 9.90939101608301 \\times 10^{-15}i\\right) \\, C^{11.5000000000000} + \\left(5.97254992861748 + 1.24900090270330 \\times 10^{-16}i\\right) \\, C^{11.0000000000000} - \\left(6.94076567669752 - 2.67147415300428 \\times 10^{-15}i\\right) \\, C^{10.5000000000000} + \\left(2.71170400400564 - 2.21190795714199 \\times 10^{-16}i\\right) \\, C^{10.0000000000000} - \\left(2.492712546244420 - 3.792539199354295 \\times 10^{-16}i\\right) \\, C^{9.50000000000000} + \\left(1.65470695797047 - 3.11979175132704 \\times 10^{-17}i\\right) \\, C^{9.00000000000000} - \\left(0.526561547968773 - 8.32667268468867 \\times 10^{-17}i\\right) \\, C^{8.50000000000000} + \\left(0.617199622428689 - 2.91650384398601 \\times 10^{-17}i\\right) \\, C^{8.00000000000000} - \\left(0.0327601629161254 - 2.08437867660338 \\times 10^{-17}i\\right) \\, C^{7.50000000000000} + \\left(0.135703845119182 - 8.02309607639273 \\times 10^{-18}i\\right) \\, C^{7.00000000000000} + \\left(0.00679425247410448 + 3.03576608295941 \\times 10^{-18}i\\right) \\, C^{6.50000000000000} + \\left(0.0191331516306856 + 5.72594272343907 \\times 10^{-19}i\\right) \\, C^{6.00000000000000} - \\left(0.000501928672415760 - 2.16840434497101 \\times 10^{-19}i\\right) \\, C^{5.50000000000000} + \\left(0.002011770027688580 + 1.490777987167569 \\times 10^{-19}i\\right) \\, C^{5.00000000000000} - \\left(0.000797332020964368 + 3.38813178901720 \\times 10^{-20}i\\right) \\, C^{4.50000000000000} + \\left(0.000179005759403058 + 1.35525271560688 \\times 10^{-20}i\\right) \\, C^{4.00000000000000} - \\left(0.0001128273185863565 + 1.355252715606880 \\times 10^{-20}i\\right) \\, C^{3.50000000000000} + \\left(9.94517301133626 \\times 10^{-6} - 2.61389073566757 \\times 10^{-22}i\\right) \\, C^{3.00000000000000} - \\left(2.398562767765189 \\times 10^{-6} + 3.388131789017201 \\times 10^{-21}i\\right) \\, C^{2.50000000000000} + \\left(3.75137843463561 \\times 10^{-7}\\right) \\, C^{1.50000000000000} + 3.86129096490780 \\times 10^{-8} + 2.06795153138257 \\times 10^{-24}i\\right)} C^{5} + \\left(2.39119490462675 \\times 10^{-9} - 5.65455496862421 \\times 10^{-26}i\\right) \\, C^{6.00000000000000} + {\\left(0.0352133616390000 \\, C^{24.0000000000000} + \\left(0.222988100127450 + 6.93889390390723 \\times 10^{-18}i\\right) \\, C^{23.0000000000000} + \\left(1.937227787740206 + 1.387778780781446 \\times 10^{-17}i\\right) \\, C^{22.0000000000000} - \\left(4.15484819057186 - 2.22044604925031 \\times 10^{-16}i\\right) \\, C^{21.0000000000000} - \\left(0.0271461728333164 + 1.04083408558608 \\times 10^{-17}i\\right) \\, C^{20.5000000000000} - \\left(0.143597849264216 - 8.88178419700125 \\times 10^{-16}i\\right) \\, C^{20.0000000000000} - \\left(0.2097450222062960 + 1.110223024625157 \\times 10^{-16}i\\right) \\, C^{19.5000000000000} - \\left(3.661411723327276 - 4.329869796038111 \\times 10^{-15}i\\right) \\, C^{19.0000000000000} - \\left(1.79367076178214 + 7.76939276803112 \\times 10^{-16}i\\right) \\, C^{18.5000000000000} + \\left(1.56730175196842 + 4.62997695738210 \\times 10^{-15}i\\right) \\, C^{18.0000000000000} + \\left(0.643819977591828 - 1.44328993201270 \\times 10^{-15}i\\right) \\, C^{17.5000000000000} + \\left(5.43256327325968 + 1.21669167796323 \\times 10^{-15}i\\right) \\, C^{17.0000000000000} + \\left(0.507460159740899 - 1.72084568816899 \\times 10^{-15}i\\right) \\, C^{16.5000000000000} + \\left(4.366814619545003 + 4.276310208717327 \\times 10^{-15}i\\right) \\, C^{16.0000000000000} + \\left(3.88178506884534 - 2.95477618067475 \\times 10^{-15}i\\right) \\, C^{15.5000000000000} + \\left(2.58372775440964 + 1.00268372164175 \\times 10^{-15}i\\right) \\, C^{15.0000000000000} + \\left(4.67862812274267 + 1.75207071073658 \\times 10^{-16}i\\right) \\, C^{14.5000000000000} - \\left(0.137255349415629 - 3.72531866466019 \\times 10^{-16}i\\right) \\, C^{14.0000000000000} + \\left(3.97051681895339 - 1.14437539305845 \\times 10^{-15}i\\right) \\, C^{13.5000000000000} - \\left(1.66051268815260 - 3.46944695195361 \\times 10^{-17}i\\right) \\, C^{13.0000000000000} + \\left(2.87187874777338 - 8.57603918436034 \\times 10^{-17}i\\right) \\, C^{12.5000000000000} - \\left(0.768619489630587 + 3.49451912719234 \\times 10^{-17}i\\right) \\, C^{12.0000000000000} + \\left(1.843628511527108 - 1.661201016155134 \\times 10^{-16}i\\right) \\, C^{11.5000000000000} + \\left(0.0457079744186262 + 3.63478778325765 \\times 10^{-17}i\\right) \\, C^{11.0000000000000} + \\left(0.754267207910291 - 4.43167638003450 \\times 10^{-17}i\\right) \\, C^{10.5000000000000} + \\left(0.1395049010459340 - 1.078781161623077 \\times 10^{-17}i\\right) \\, C^{10.0000000000000} + \\left(0.1776443319055619 - 1.192622389734055 \\times 10^{-17}i\\right) \\, C^{9.50000000000000} + \\left(0.0561935807659494 + 4.13352078260099 \\times 10^{-18}i\\right) \\, C^{9.00000000000000} + \\left(0.02581784446741183 + 1.300936727864198 \\times 10^{-18}i\\right) \\, C^{8.50000000000000} + \\left(0.00671597105700758 + 2.60208521396521 \\times 10^{-18}i\\right) \\, C^{8.00000000000000} + \\left(0.00322667709677102 + 3.74388562686401 \\times 10^{-19}i\\right) \\, C^{7.50000000000000} - \\left(0.00190888549084470 - 8.33480420098231 \\times 10^{-19}i\\right) \\, C^{7.00000000000000} + \\left(0.000460767860342897 - 3.38813178901720 \\times 10^{-20}i\\right) \\, C^{6.50000000000000} - \\left(0.000583905553746450 - 8.13681024956162 \\times 10^{-20}i\\right) \\, C^{6.00000000000000} + \\left(0.0000163244116253254 + 8.47032947254300 \\times 10^{-22}i\\right) \\, C^{5.50000000000000} - \\left(0.00002589542838892228 - 1.355252715606880 \\times 10^{-20}i\\right) \\, C^{5.00000000000000} - \\left(6.45029891169609 \\times 10^{-6} - 1.58818677610181 \\times 10^{-21}i\\right) \\, C^{4.50000000000000} + \\left(5.74992874848581 \\times 10^{-6}\\right) \\, C^{4.00000000000000} + \\left(3.33258835745752 \\times 10^{-7}\\right) \\, C^{3.50000000000000} + \\left(5.71059968841078 \\times 10^{-7} - 5.29395592033938 \\times 10^{-23}i\\right) \\, C^{3.00000000000000} + \\left(3.953206377144720 \\times 10^{-7} - 2.646977960169689 \\times 10^{-23}i\\right) \\, C^{2.50000000000000} + \\left(5.25548542488419 \\times 10^{-8}\\right) \\, C^{1.50000000000000} + 7.38446238861619 \\times 10^{-10}\\right)} C^{\\frac{9}{2}} - \\left(2.27194855521361 \\times 10^{-10} + 6.46234853557053 \\times 10^{-26}i\\right) \\, C^{5.50000000000000} + {\\left(-5.84240000000000 \\, C^{27.5000000000000} - \\left(55.0580368575900 - 8.88178419700125 \\times 10^{-16}i\\right) \\, C^{26.5000000000000} - \\left(484.569467458768 - 7.54951656745106 \\times 10^{-15}i\\right) \\, C^{25.5000000000000} - \\left(722.984419265376 + 1.66755498298698 \\times 10^{-13}i\\right) \\, C^{24.5000000000000} + 6.11200603109206 \\, C^{24.0000000000000} - \\left(1452.238803055021 - 3.043398866253710 \\times 10^{-14}i\\right) \\, C^{23.5000000000000} + \\left(56.9972194307761 - 8.88178419700125 \\times 10^{-16}i\\right) \\, C^{23.0000000000000} - \\left(1495.657260138823 - 4.049538482320259 \\times 10^{-13}i\\right) \\, C^{22.5000000000000} + \\left(498.096397082414 - 8.65973959207622 \\times 10^{-15}i\\right) \\, C^{22.0000000000000} - \\left(1463.36234699624 - 1.32741040381745 \\times 10^{-14}i\\right) \\, C^{21.5000000000000} + \\left(678.406017654160 - 7.28028748397946 \\times 10^{-14}i\\right) \\, C^{21.0000000000000} - \\left(1066.61601043041 - 5.77767000908835 \\times 10^{-14}i\\right) \\, C^{20.5000000000000} + \\left(1202.68088534449 - 7.01660951563099 \\times 10^{-14}i\\right) \\, C^{20.0000000000000} - \\left(587.467119784943 - 1.31460814456474 \\times 10^{-13}i\\right) \\, C^{19.5000000000000} + \\left(1205.77382198337 - 7.54396545232794 \\times 10^{-14}i\\right) \\, C^{19.0000000000000} - \\left(337.5546315510547 - 1.886650558002856 \\times 10^{-13}i\\right) \\, C^{18.5000000000000} + \\left(1092.729676340164 - 1.403321903126198 \\times 10^{-13}i\\right) \\, C^{18.0000000000000} - \\left(207.791188204045 - 4.38642178135495 \\times 10^{-14}i\\right) \\, C^{17.5000000000000} + \\left(824.310036960163 - 1.47100322374361 \\times 10^{-13}i\\right) \\, C^{17.0000000000000} - \\left(174.8212338231970 - 1.712562383571203 \\times 10^{-14}i\\right) \\, C^{16.5000000000000} + \\left(526.237262039426 + 8.68749516769185 \\times 10^{-15}i\\right) \\, C^{16.0000000000000} - \\left(144.429906742921 - 2.34066238613551 \\times 10^{-14}i\\right) \\, C^{15.5000000000000} + \\left(291.684297883759 - 1.32758387616505 \\times 10^{-14}i\\right) \\, C^{15.0000000000000} - \\left(88.3779632664178 - 2.60761464504489 \\times 10^{-15}i\\right) \\, C^{14.5000000000000} + \\left(149.1573127587736 - 1.800209287194932 \\times 10^{-14}i\\right) \\, C^{14.0000000000000} - \\left(38.22410319601413 + 4.328135072562134 \\times 10^{-16}i\\right) \\, C^{13.5000000000000} + \\left(62.5149982214867 + 2.36258495406316 \\times 10^{-15}i\\right) \\, C^{13.0000000000000} - \\left(14.11416509620314 + 2.191823111896696 \\times 10^{-15}i\\right) \\, C^{12.5000000000000} + \\left(18.68488501457589 + 1.658395643033828 \\times 10^{-15}i\\right) \\, C^{12.0000000000000} - \\left(4.65109282603336 + 1.07124595652430 \\times 10^{-15}i\\right) \\, C^{11.5000000000000} + \\left(4.06728851315073 + 3.64305482482286 \\times 10^{-16}i\\right) \\, C^{11.0000000000000} - \\left(1.486497992158727 + 2.615095640035037 \\times 10^{-16}i\\right) \\, C^{10.5000000000000} + \\left(0.815666815375752 + 4.45856967610982 \\times 10^{-17}i\\right) \\, C^{10.0000000000000} - \\left(0.458396267756726 + 5.76795555762288 \\times 10^{-17}i\\right) \\, C^{9.50000000000000} + \\left(0.222572321193751 + 5.51672558546726 \\times 10^{-18}i\\right) \\, C^{9.00000000000000} - \\left(0.100861284308477 + 8.67404089635766 \\times 10^{-18}i\\right) \\, C^{8.50000000000000} + \\left(0.0661641919345272 - 3.25260651745651 \\times 10^{-19}i\\right) \\, C^{8.00000000000000} - \\left(0.0115808543346650 + 1.95114039400028 \\times 10^{-18}i\\right) \\, C^{7.50000000000000} + \\left(0.01465607435675745 - 1.735570508924061 \\times 10^{-18}i\\right) \\, C^{7.00000000000000} - \\left(0.000246528081209938 + 1.08420217248550 \\times 10^{-19}i\\right) \\, C^{6.50000000000000} + \\left(0.00222466108085576 + 1.56701095242046 \\times 10^{-20}i\\right) \\, C^{6.00000000000000} - \\left(0.00002488024327789619 + 1.355252715606880 \\times 10^{-20}i\\right) \\, C^{5.50000000000000} + \\left(0.000237568805961081 - 5.92923063078010 \\times 10^{-21}i\\right) \\, C^{5.00000000000000} - \\left(0.0000452659504696863 + 2.96461531539005 \\times 10^{-21}i\\right) \\, C^{4.50000000000000} + \\left(0.0000180745052087437 + 2.11758236813575 \\times 10^{-22}i\\right) \\, C^{4.00000000000000} - \\left(7.40313598724691 \\times 10^{-6} + 4.23516473627150 \\times 10^{-22}i\\right) \\, C^{3.50000000000000} + \\left(7.98410746610175 \\times 10^{-7} - 1.32348898008484 \\times 10^{-23}i\\right) \\, C^{3.00000000000000} - \\left(2.96603970536433 \\times 10^{-7} + 1.05879118406788 \\times 10^{-22}i\\right) \\, C^{2.50000000000000} + \\left(1.040642323394389 \\times 10^{-8}\\right) \\, C^{1.50000000000000} + 1.48063338954157 \\times 10^{-9} + 5.16987882845642 \\times 10^{-26}i\\right)} C^{4} + \\left(2.284525458634457 \\times 10^{-10} + 3.231174267785264 \\times 10^{-27}i\\right) \\, C^{5.00000000000000} + {\\left(0.0411961440000000 \\, C^{26.5000000000000} + 0.4102570440000000 \\, C^{25.5000000000000} + \\left(3.63591263312556 + 2.22044604925031 \\times 10^{-16}i\\right) \\, C^{24.5000000000000} + 0.0286871359919654 \\, C^{24.0000000000000} + \\left(7.03944619880637 + 1.11022302462516 \\times 10^{-16}i\\right) \\, C^{23.5000000000000} + \\left(0.215333933562829 - 6.93889390390723 \\times 10^{-18}i\\right) \\, C^{23.0000000000000} + \\left(13.9800321599085 + 4.44089209850063 \\times 10^{-16}i\\right) \\, C^{22.5000000000000} + \\left(1.905113238942285 - 1.032160468206200 \\times 10^{-16}i\\right) \\, C^{22.0000000000000} + \\left(18.0014673252542 + 1.73472347597681 \\times 10^{-18}i\\right) \\, C^{21.5000000000000} - \\left(0.528283801277429 + 1.55431223447522 \\times 10^{-15}i\\right) \\, C^{21.0000000000000} + \\left(19.9316935329391 - 6.79577921713914 \\times 10^{-16}i\\right) \\, C^{20.5000000000000} + \\left(4.59032248947771 - 7.76939276803112 \\times 10^{-16}i\\right) \\, C^{20.0000000000000} + \\left(17.7940226714513 + 1.53147622621724 \\times 10^{-15}i\\right) \\, C^{19.5000000000000} + \\left(4.35759821006952 - 3.58046925441613 \\times 10^{-15}i\\right) \\, C^{19.0000000000000} + \\left(12.8474787901663 - 1.02776944940763 \\times 10^{-15}i\\right) \\, C^{18.5000000000000} + \\left(8.90529877059382 + 9.30679144861557 \\times 10^{-16}i\\right) \\, C^{18.0000000000000} + \\left(8.49015228680999 - 4.31919040463913 \\times 10^{-16}i\\right) \\, C^{17.5000000000000} + \\left(10.5868258444200 + 1.55300949780234 \\times 10^{-15}i\\right) \\, C^{17.0000000000000} + \\left(4.71827760283781 - 3.04023841692092 \\times 10^{-16}i\\right) \\, C^{16.5000000000000} + \\left(9.11627877413178 + 3.00280633691585 \\times 10^{-15}i\\right) \\, C^{16.0000000000000} + \\left(3.18947306102183 + 3.24432253523237 \\times 10^{-16}i\\right) \\, C^{15.5000000000000} + \\left(6.19111790736361 - 2.26367861087817 \\times 10^{-16}i\\right) \\, C^{15.0000000000000} + \\left(2.16992543821601 - 2.74508131612068 \\times 10^{-16}i\\right) \\, C^{14.5000000000000} + \\left(3.15389448011415 - 1.63985578588433 \\times 10^{-16}i\\right) \\, C^{14.0000000000000} + \\left(1.454243024288726 - 1.233707722840625 \\times 10^{-16}i\\right) \\, C^{13.5000000000000} + \\left(0.881840621261074 + 1.30781887056064 \\times 10^{-18}i\\right) \\, C^{13.0000000000000} + \\left(0.875631897960523 - 4.14131348571572 \\times 10^{-17}i\\right) \\, C^{12.5000000000000} + \\left(0.0655513547391168 + 2.03239202946565 \\times 10^{-17}i\\right) \\, C^{12.0000000000000} + \\left(0.461492512657628 - 7.48173614397883 \\times 10^{-18}i\\right) \\, C^{11.5000000000000} - \\left(0.0100339248947905 - 6.78812203929596 \\times 10^{-18}i\\right) \\, C^{11.0000000000000} + \\left(0.181405569240497 + 1.18220388448283 \\times 10^{-17}i\\right) \\, C^{10.5000000000000} + \\left(0.00748809673865337 + 1.67034897198548 \\times 10^{-18}i\\right) \\, C^{10.0000000000000} + \\left(0.0491210582284105 + 6.69685423922931 \\times 10^{-20}i\\right) \\, C^{9.50000000000000} + \\left(0.00528366854547123 + 1.96299885526184 \\times 10^{-19}i\\right) \\, C^{9.00000000000000} + \\left(0.00940837912881585 - 1.17908640619024 \\times 10^{-18}i\\right) \\, C^{8.50000000000000} + \\left(0.000928619925864593 + 4.74338450462408 \\times 10^{-20}i\\right) \\, C^{8.00000000000000} + \\left(0.00135204880555069 - 1.43995807828384 \\times 10^{-19}i\\right) \\, C^{7.50000000000000} - \\left(0.0000995180043658120 - 3.21872519956634 \\times 10^{-20}i\\right) \\, C^{7.00000000000000} + \\left(0.000145653963628733 - 5.08219768352580 \\times 10^{-21}i\\right) \\, C^{6.50000000000000} - \\left(0.0000517620574606719 + 7.41153828847513 \\times 10^{-22}i\\right) \\, C^{6.00000000000000} + \\left(8.49431229123634 \\times 10^{-6} - 4.23516473627150 \\times 10^{-22}i\\right) \\, C^{5.50000000000000} - \\left(4.89119581174675 \\times 10^{-6} + 8.47032947254300 \\times 10^{-22}i\\right) \\, C^{5.00000000000000} - \\left(4.71919345761361 \\times 10^{-8} + 9.92616735063633 \\times 10^{-24}i\\right) \\, C^{4.50000000000000} + \\left(6.00537491143933 \\times 10^{-8}\\right) \\, C^{4.00000000000000} + \\left(5.67725164981406 \\times 10^{-8} - 1.32348898008484 \\times 10^{-23}i\\right) \\, C^{3.50000000000000} + \\left(2.29416536502318 \\times 10^{-8} - 3.30872245021211 \\times 10^{-24}i\\right) \\, C^{3.00000000000000} + \\left(2.511489612319981 \\times 10^{-8}\\right) \\, C^{2.50000000000000} + \\left(2.72573395845912 \\times 10^{-9} + 5.16987882845642 \\times 10^{-26}i\\right) \\, C^{1.50000000000000} + 2.010096399019038 \\times 10^{-11} - 1.615587133892632 \\times 10^{-27}i\\right)} C^{\\frac{7}{2}} - \\left(1.07618353344787 \\times 10^{-11} + 1.61558713389263 \\times 10^{-27}i\\right) \\, C^{4.50000000000000} + {\\left(C^{31.0000000000000} + 10.2500000000000 \\, C^{30.0000000000000} + 92.1776516800000 \\, C^{29.0000000000000} + 206.9308279800000 \\, C^{28.0000000000000} - 3.12483820616000 \\, C^{27.5000000000000} + 480.9819076658768 \\, C^{27.0000000000000} - 28.5062456135048 \\, C^{26.5000000000000} + 727.851600288020 \\, C^{26.0000000000000} - \\left(249.7951465174778 - 2.831068712794149 \\times 10^{-14}i\\right) \\, C^{25.5000000000000} + \\left(991.804222204058 + 5.15143483426073 \\times 10^{-14}i\\right) \\, C^{25.0000000000000} - \\left(303.5671284191130 + 1.145750161413162 \\times 10^{-13}i\\right) \\, C^{24.5000000000000} + \\left(1089.947481425124 + 1.620925615952729 \\times 10^{-14}i\\right) \\, C^{24.0000000000000} - \\left(615.800471061757 + 2.15244488899202 \\times 10^{-14}i\\right) \\, C^{23.5000000000000} + \\left(1042.07317087012 - 5.87307980026708 \\times 10^{-14}i\\right) \\, C^{23.0000000000000} - \\left(481.422626344188 - 7.80209230555329 \\times 10^{-14}i\\right) \\, C^{22.5000000000000} + \\left(969.501780747171 + 2.18436380095000 \\times 10^{-14}i\\right) \\, C^{22.0000000000000} - \\left(371.515689056307 + 1.17461596005342 \\times 10^{-13}i\\right) \\, C^{21.5000000000000} + \\left(787.175068077721 - 1.79370407416002 \\times 10^{-14}i\\right) \\, C^{21.0000000000000} - \\left(92.3837719718325 + 1.10285044985226 \\times 10^{-15}i\\right) \\, C^{20.5000000000000} + \\left(714.997915358672 + 4.57958324040497 \\times 10^{-14}i\\right) \\, C^{20.0000000000000} + \\left(131.303535333261 - 1.83637827166905 \\times 10^{-14}i\\right) \\, C^{19.5000000000000} + \\left(574.920979146742 - 6.94930224476309 \\times 10^{-15}i\\right) \\, C^{19.0000000000000} + \\left(202.395757814392 - 9.43949779452780 \\times 10^{-14}i\\right) \\, C^{18.5000000000000} + \\left(447.9129481753811 - 2.944953308992027 \\times 10^{-14}i\\right) \\, C^{18.0000000000000} + \\left(166.082633367183 - 1.56437363063588 \\times 10^{-14}i\\right) \\, C^{17.5000000000000} + \\left(309.927371758593 - 5.31226538452723 \\times 10^{-14}i\\right) \\, C^{17.0000000000000} + \\left(91.6235828244718 - 7.01652277945719 \\times 10^{-15}i\\right) \\, C^{16.5000000000000} + \\left(186.683274000211 - 8.08381139805192 \\times 10^{-15}i\\right) \\, C^{16.0000000000000} + \\left(28.8725440917404 - 2.15040658890775 \\times 10^{-15}i\\right) \\, C^{15.5000000000000} + \\left(96.6761257114490 - 7.80435828809378 \\times 10^{-16}i\\right) \\, C^{15.0000000000000} + \\left(0.718362418173866 + 1.22270900002053 \\times 10^{-15}i\\right) \\, C^{14.5000000000000} + \\left(43.7147466338907 - 5.58743589590405 \\times 10^{-16}i\\right) \\, C^{14.0000000000000} - \\left(3.47168854803045 - 3.38067789908136 \\times 10^{-16}i\\right) \\, C^{13.5000000000000} + \\left(16.60772517073725 + 3.614882508997178 \\times 10^{-16}i\\right) \\, C^{13.0000000000000} - \\left(1.840716318286719 + 3.657420503608288 \\times 10^{-16}i\\right) \\, C^{12.5000000000000} + \\left(4.91684594039606 - 4.27243418595069 \\times 10^{-16}i\\right) \\, C^{12.0000000000000} - \\left(0.627890562712819 + 6.29650411670957 \\times 10^{-17}i\\right) \\, C^{11.5000000000000} + \\left(1.10036615849654 - 3.02204414921389 \\times 10^{-17}i\\right) \\, C^{11.0000000000000} - \\left(0.185996065385089 + 3.42861996389596 \\times 10^{-17}i\\right) \\, C^{10.5000000000000} + \\left(0.193464665585043 - 5.26801553632971 \\times 10^{-19}i\\right) \\, C^{10.0000000000000} - \\left(0.0516931713341229 + 7.18283939271647 \\times 10^{-18}i\\right) \\, C^{9.50000000000000} + \\left(0.03153003595803033 + 1.640808697949986 \\times 10^{-18}i\\right) \\, C^{9.00000000000000} - \\left(0.0111242213820278 + 1.32814766129474 \\times 10^{-18}i\\right) \\, C^{8.50000000000000} + \\left(0.00578551619913067 + 3.99799551104030 \\times 10^{-19}i\\right) \\, C^{8.00000000000000} - \\left(0.00146712920640688 + 8.76414402612184 \\times 10^{-20}i\\right) \\, C^{7.50000000000000} + \\left(0.00107995958695380 - 3.98105485209521 \\times 10^{-20}i\\right) \\, C^{7.00000000000000} - \\left(0.0000906386800140925 + 2.66815378385105 \\times 10^{-20}i\\right) \\, C^{6.50000000000000} + \\left(0.000163054389091944 + 5.96893530018265 \\times 10^{-21}i\\right) \\, C^{6.00000000000000} - \\left(3.666701185392629 \\times 10^{-6} + 1.694065894508601 \\times 10^{-21}i\\right) \\, C^{5.50000000000000} + \\left(0.0000176586930263223 + 4.76456032830544 \\times 10^{-22}i\\right) \\, C^{5.00000000000000} - \\left(1.858511238240292 \\times 10^{-6} + 1.323488980084844 \\times 10^{-23}i\\right) \\, C^{4.50000000000000} + \\left(1.265345541780621 \\times 10^{-6} + 1.323488980084844 \\times 10^{-23}i\\right) \\, C^{4.00000000000000} - \\left(3.29621898065156 \\times 10^{-7} - 1.32348898008484 \\times 10^{-23}i\\right) \\, C^{3.50000000000000} + \\left(4.85421571380838 \\times 10^{-8} - 4.13590306276514 \\times 10^{-25}i\\right) \\, C^{3.00000000000000} - \\left(1.735933197039664 \\times 10^{-8}\\right) \\, C^{2.50000000000000} + \\left(4.857029739158831 \\times 10^{-11} - 2.067951531382569 \\times 10^{-25}i\\right) \\, C^{1.50000000000000} + 4.17457415944797 \\times 10^{-11} + 8.07793566946316 \\times 10^{-28}i\\right)} C^{3} + \\left(1.55709495147355 \\times 10^{-11} - 8.07793566946316 \\times 10^{-28}i\\right) \\, C^{4.00000000000000} + {\\left(0.0411961440000000 \\, C^{26.5000000000000} + 0.4102570440000000 \\, C^{25.5000000000000} + \\left(3.63591263312556 + 2.22044604925031 \\times 10^{-16}i\\right) \\, C^{24.5000000000000} + 0.00543522423587199 \\, C^{24.0000000000000} + \\left(7.03944619880637 + 1.11022302462516 \\times 10^{-16}i\\right) \\, C^{23.5000000000000} - \\left(0.000936162258859265 - 1.73472347597681 \\times 10^{-18}i\\right) \\, C^{23.0000000000000} + \\left(13.9800321599085 + 4.44089209850063 \\times 10^{-16}i\\right) \\, C^{22.5000000000000} - \\left(0.0442316166964461 + 2.77555756156289 \\times 10^{-17}i\\right) \\, C^{22.0000000000000} + \\left(18.0014673252542 + 1.73472347597681 \\times 10^{-18}i\\right) \\, C^{21.5000000000000} - \\left(3.64048691948771 - 4.44089209850063 \\times 10^{-16}i\\right) \\, C^{21.0000000000000} + \\left(19.9352157711998 - 6.78060038672435 \\times 10^{-16}i\\right) \\, C^{20.5000000000000} - \\left(4.96454659158348 - 1.77635683940025 \\times 10^{-15}i\\right) \\, C^{20.0000000000000} + \\left(17.8167334929427 + 1.54364639560339 \\times 10^{-15}i\\right) \\, C^{19.5000000000000} - \\left(8.27213891968114 + 7.49400541621981 \\times 10^{-16}i\\right) \\, C^{19.0000000000000} + \\left(13.0376095870830 - 8.75952346139457 \\times 10^{-16}i\\right) \\, C^{18.5000000000000} - \\left(7.86789060556900 + 2.68665298341908 \\times 10^{-16}i\\right) \\, C^{18.0000000000000} + \\left(8.03527572683031 - 2.86635949350855 \\times 10^{-16}i\\right) \\, C^{17.5000000000000} - \\left(5.80083774925263 + 6.45155349770447 \\times 10^{-16}i\\right) \\, C^{17.0000000000000} + \\left(4.11633305678333 - 2.21312768458604 \\times 10^{-17}i\\right) \\, C^{16.5000000000000} - \\left(3.363350845248402 + 1.241750300674804 \\times 10^{-16}i\\right) \\, C^{16.0000000000000} + \\left(1.84372948851375 + 8.28531630103898 \\times 10^{-17}i\\right) \\, C^{15.5000000000000} - \\left(1.44322472112539 - 1.69923279548685 \\times 10^{-16}i\\right) \\, C^{15.0000000000000} + \\left(0.749863160051766 + 6.33021602801029 \\times 10^{-17}i\\right) \\, C^{14.5000000000000} - \\left(0.403635291454107 + 4.12335638723393 \\times 10^{-18}i\\right) \\, C^{14.0000000000000} + \\left(0.314034379293407 - 1.89400802170798 \\times 10^{-17}i\\right) \\, C^{13.5000000000000} - \\left(0.0951007687579295 - 1.14349447879331 \\times 10^{-18}i\\right) \\, C^{13.0000000000000} + \\left(0.1400641239894085 - 4.579398926035649 \\times 10^{-17}i\\right) \\, C^{12.5000000000000} - \\left(0.0371101851879025 + 7.88821600570984 \\times 10^{-18}i\\right) \\, C^{12.0000000000000} + \\left(0.0613408781444634 - 1.34965568071010 \\times 10^{-17}i\\right) \\, C^{11.5000000000000} - \\left(0.01316832140004160 + 1.108977886192693 \\times 10^{-18}i\\right) \\, C^{11.0000000000000} + \\left(0.02219979864081086 - 2.525005215765069 \\times 10^{-18}i\\right) \\, C^{10.5000000000000} - \\left(0.00233165848137979 + 5.26880962971777 \\times 10^{-19}i\\right) \\, C^{10.0000000000000} + \\left(0.00604356579620838 - 1.61730353366368 \\times 10^{-19}i\\right) \\, C^{9.50000000000000} - \\left(0.0000495897981715504 + 8.38562617781757 \\times 10^{-20}i\\right) \\, C^{9.00000000000000} + \\left(0.001227391333705110 + 1.355119591227048 \\times 10^{-19}i\\right) \\, C^{8.50000000000000} + \\left(0.0000346615332040339 - 1.73641754187132 \\times 10^{-20}i\\right) \\, C^{8.00000000000000} + \\left(0.000185096182573928 + 1.56699027290514 \\times 10^{-20}i\\right) \\, C^{7.50000000000000} - \\left(3.99884643053984 \\times 10^{-6} + 1.69406589450860 \\times 10^{-21}i\\right) \\, C^{7.00000000000000} + \\left(0.0000196316575707197 + 4.63221143029695 \\times 10^{-22}i\\right) \\, C^{6.50000000000000} - \\left(2.77274357011374 \\times 10^{-6} + 1.52201232709757 \\times 10^{-22}i\\right) \\, C^{6.00000000000000} + \\left(1.220433521438123 \\times 10^{-6} + 2.646977960169689 \\times 10^{-23}i\\right) \\, C^{5.50000000000000} - \\left(3.48242901010164 \\times 10^{-7} + 6.61744490042422 \\times 10^{-23}i\\right) \\, C^{5.00000000000000} + \\left(2.73167304086487 \\times 10^{-8} + 4.54949336904165 \\times 10^{-24}i\\right) \\, C^{4.50000000000000} - \\left(1.19235933096288 \\times 10^{-8} + 3.30872245021211 \\times 10^{-24}i\\right) \\, C^{4.00000000000000} + \\left(3.46062537879114 \\times 10^{-9} + 8.27180612553028 \\times 10^{-25}i\\right) \\, C^{3.50000000000000} + \\left(3.08211718985951 \\times 10^{-10} - 2.06795153138257 \\times 10^{-25}i\\right) \\, C^{3.00000000000000} + \\left(1.081119840175532 \\times 10^{-9}\\right) \\, C^{2.50000000000000} + \\left(1.003357023031620 \\times 10^{-10} - 1.615587133892632 \\times 10^{-27}i\\right) \\, C^{1.50000000000000} + 3.28916001831811 \\times 10^{-13}\\right)} C^{\\frac{5}{2}} - \\left(1.250021229134873 \\times 10^{-12}\\right) \\, C^{3.50000000000000} + {\\left(1.00000000000000 \\, C^{31.0000000000000} + 10.2500000000000 \\, C^{30.0000000000000} + 92.1776516800000 \\, C^{29.0000000000000} + 206.9308279800000 \\, C^{28.0000000000000} - 2.61818671954400 \\, C^{27.5000000000000} + 480.9819076658768 \\, C^{27.0000000000000} - \\left(25.6623267824504 - 2.22044604925031 \\times 10^{-16}i\\right) \\, C^{26.5000000000000} + 727.851600288020 \\, C^{26.0000000000000} - \\left(227.000528958155 - 3.55271367880050 \\times 10^{-15}i\\right) \\, C^{25.5000000000000} + \\left(991.804222204058 + 5.15143483426073 \\times 10^{-14}i\\right) \\, C^{25.0000000000000} - \\left(411.2709609703808 - 1.437738816889578 \\times 10^{-14}i\\right) \\, C^{24.5000000000000} + \\left(1088.44396624826 + 1.62075214360513 \\times 10^{-14}i\\right) \\, C^{24.0000000000000} - \\left(819.773717409002 - 9.47054934474778 \\times 10^{-14}i\\right) \\, C^{23.5000000000000} + \\left(1027.75058043928 - 5.86058979124005 \\times 10^{-14}i\\right) \\, C^{23.0000000000000} - \\left(1007.13847306089 - 1.89293025698589 \\times 10^{-14}i\\right) \\, C^{22.5000000000000} + \\left(844.096845434693 + 3.80286080403636 \\times 10^{-14}i\\right) \\, C^{22.0000000000000} - \\left(1092.32351986731 + 2.34435734713934 \\times 10^{-13}i\\right) \\, C^{21.5000000000000} + \\left(595.207153109717 - 9.70751257156621 \\times 10^{-15}i\\right) \\, C^{21.0000000000000} - \\left(939.397503341356 + 5.03891091178932 \\times 10^{-15}i\\right) \\, C^{20.5000000000000} + \\left(381.376862785621 + 1.82699992287705 \\times 10^{-14}i\\right) \\, C^{20.0000000000000} - \\left(658.207458064151 - 5.32903799213558 \\times 10^{-14}i\\right) \\, C^{19.5000000000000} + \\left(219.516727267629 - 5.80698683583236 \\times 10^{-16}i\\right) \\, C^{19.0000000000000} - \\left(381.424051456831 - 6.25654313513718 \\times 10^{-14}i\\right) \\, C^{18.5000000000000} + \\left(119.866327665584 + 7.17698470098505 \\times 10^{-15}i\\right) \\, C^{18.0000000000000} - \\left(180.6395751908336 - 2.927199498417576 \\times 10^{-14}i\\right) \\, C^{17.5000000000000} + \\left(62.6165353799566 + 4.01541040255673 \\times 10^{-15}i\\right) \\, C^{17.0000000000000} - \\left(68.0775841610493 - 6.05105429738600 \\times 10^{-15}i\\right) \\, C^{16.5000000000000} + \\left(31.2893827359505 + 5.69206140554890 \\times 10^{-18}i\\right) \\, C^{16.0000000000000} - \\left(20.8137989377201 - 5.28861622463989 \\times 10^{-15}i\\right) \\, C^{15.5000000000000} + \\left(14.49477953075682 + 3.758115780377880 \\times 10^{-16}i\\right) \\, C^{15.0000000000000} - \\left(5.72217089289436 - 1.40218511714835 \\times 10^{-15}i\\right) \\, C^{14.5000000000000} + \\left(6.03027295035251 - 2.32534260943829 \\times 10^{-16}i\\right) \\, C^{14.0000000000000} - \\left(1.515591969851350 - 2.903052960783609 \\times 10^{-16}i\\right) \\, C^{13.5000000000000} + \\left(2.14713896192773 - 8.93060717608099 \\times 10^{-17}i\\right) \\, C^{13.0000000000000} - \\left(0.3697518394872339 - 1.094561385430424 \\times 10^{-16}i\\right) \\, C^{12.5000000000000} + \\left(0.616206852951343 - 1.90443711487105 \\times 10^{-17}i\\right) \\, C^{12.0000000000000} - \\left(0.0801907761180388 - 1.93568204271289 \\times 10^{-17}i\\right) \\, C^{11.5000000000000} + \\left(0.137223401774751 + 3.54790337869304 \\times 10^{-18}i\\right) \\, C^{11.0000000000000} - \\left(0.0168567797293510 - 3.17891465104539 \\times 10^{-18}i\\right) \\, C^{10.5000000000000} + \\left(0.0234821719109442 + 9.10874746931143 \\times 10^{-19}i\\right) \\, C^{10.0000000000000} - \\left(0.00373724431595249 - 6.74238226014423 \\times 10^{-19}i\\right) \\, C^{9.50000000000000} + \\left(0.00321229701484847 + 8.27842357043070 \\times 10^{-21}i\\right) \\, C^{9.00000000000000} - \\left(0.000738226940125339 - 1.31714036888350 \\times 10^{-19}i\\right) \\, C^{8.50000000000000} + \\left(0.000403182367081481 + 7.88799432130567 \\times 10^{-21}i\\right) \\, C^{8.00000000000000} - \\left(0.0001004417538266411 - 1.916742915407876 \\times 10^{-20}i\\right) \\, C^{7.50000000000000} + \\left(0.0000549392689748072 - 3.95723205045368 \\times 10^{-21}i\\right) \\, C^{7.00000000000000} - \\left(7.71753580029422 \\times 10^{-6} - 2.11096492323533 \\times 10^{-21}i\\right) \\, C^{6.50000000000000} + \\left(7.51743251189379 \\times 10^{-6} - 2.20030042939105 \\times 10^{-22}i\\right) \\, C^{6.00000000000000} - \\left(3.37004403315639 \\times 10^{-7} - 4.63221143029695 \\times 10^{-23}i\\right) \\, C^{5.50000000000000} + \\left(8.10393893858633 \\times 10^{-7} + 6.61744490042422 \\times 10^{-24}i\\right) \\, C^{5.00000000000000} - \\left(5.47524740358324 \\times 10^{-8} - 3.30872245021211 \\times 10^{-24}i\\right) \\, C^{4.50000000000000} + \\left(5.67762006959662 \\times 10^{-8} + 1.65436122510606 \\times 10^{-24}i\\right) \\, C^{4.00000000000000} - \\left(9.57576694314771 \\times 10^{-9} - 4.13590306276514 \\times 10^{-25}i\\right) \\, C^{3.50000000000000} + \\left(2.01283722726652 \\times 10^{-9} - 3.87740912134232 \\times 10^{-26}i\\right) \\, C^{3.00000000000000} - \\left(5.92801376834187 \\times 10^{-10}\\right) \\, C^{2.50000000000000} - \\left(7.26906862467267 \\times 10^{-12} - 3.23117426778526 \\times 10^{-27}i\\right) \\, C^{1.50000000000000} + 8.12539447541833 \\times 10^{-13} + 1.26217744835362 \\times 10^{-29}i\\right)} C^{2} + \\left(5.05602900229674 \\times 10^{-13} - 1.89326617253043 \\times 10^{-29}i\\right) \\, C^{3.00000000000000} + {\\left(0.0181686863649086 \\, C^{26.5000000000000} + \\left(0.180935175909438 - 5.42101086242752 \\times 10^{-20}i\\right) \\, C^{25.5000000000000} + \\left(1.60354222185133 + 4.33680868994202 \\times 10^{-19}i\\right) \\, C^{24.5000000000000} + 0.0002860258829065441 \\, C^{24.0000000000000} + \\left(3.10459858011860 + 3.49655200626575 \\times 10^{-17}i\\right) \\, C^{23.5000000000000} - \\left(0.00582247823117330 - 4.33680868994202 \\times 10^{-19}i\\right) \\, C^{23.0000000000000} + \\left(6.16559694724619 - 3.88117272695498 \\times 10^{-16}i\\right) \\, C^{22.5000000000000} - \\left(0.0583776410851203 - 3.38813178901720 \\times 10^{-21}i\\right) \\, C^{22.0000000000000} + \\left(7.93916571271074 - 6.75564679609823 \\times 10^{-16}i\\right) \\, C^{21.5000000000000} - \\left(0.681328101451040 - 6.24500451351651 \\times 10^{-17}i\\right) \\, C^{21.0000000000000} + \\left(8.79210548357718 - 6.97792518211671 \\times 10^{-16}i\\right) \\, C^{20.5000000000000} - \\left(1.068319800558388 - 2.150786059668119 \\times 10^{-16}i\\right) \\, C^{20.0000000000000} + \\left(7.85807850909567 - 7.97439401838129 \\times 10^{-18}i\\right) \\, C^{19.5000000000000} - \\left(1.69382593274474 + 3.31576129400379 \\times 10^{-16}i\\right) \\, C^{19.0000000000000} + \\left(5.75290226837636 - 1.36868020226003 \\times 10^{-16}i\\right) \\, C^{18.5000000000000} - \\left(1.73549486753222 - 3.59548545450505 \\times 10^{-16}i\\right) \\, C^{18.0000000000000} + \\left(3.50885771361940 + 1.59788265344935 \\times 10^{-16}i\\right) \\, C^{17.5000000000000} - \\left(1.38333486574239 - 1.29504561371604 \\times 10^{-16}i\\right) \\, C^{17.0000000000000} + \\left(1.766562838581119 + 1.116663982635158 \\times 10^{-16}i\\right) \\, C^{16.5000000000000} - \\left(0.884233172083851 - 1.34325872907376 \\times 10^{-16}i\\right) \\, C^{16.0000000000000} + \\left(0.724914121434304 - 2.36766994194098 \\times 10^{-17}i\\right) \\, C^{15.5000000000000} - \\left(0.443810269503021 - 4.73322010925703 \\times 10^{-17}i\\right) \\, C^{15.0000000000000} + \\left(0.242076511788803 + 1.52582452342441 \\times 10^{-17}i\\right) \\, C^{14.5000000000000} - \\left(0.1680581565759818 - 2.642065169075614 \\times 10^{-17}i\\right) \\, C^{14.0000000000000} + \\left(0.0691088663907765 + 1.54467045843662 \\times 10^{-18}i\\right) \\, C^{13.5000000000000} - \\left(0.0498821472034831 - 9.57570746870987 \\times 10^{-19}i\\right) \\, C^{13.0000000000000} + \\left(0.0186287879190882 + 9.94694612762366 \\times 10^{-19}i\\right) \\, C^{12.5000000000000} - \\left(0.01293441903879069 + 1.113424680713231 \\times 10^{-18}i\\right) \\, C^{12.0000000000000} + \\left(0.00526212536184976 + 4.09114431981989 \\times 10^{-19}i\\right) \\, C^{11.5000000000000} - \\left(0.00296149132177027 + 3.13344287841212 \\times 10^{-19}i\\right) \\, C^{11.0000000000000} + \\left(0.001488611667384015 - 1.433603263227903 \\times 10^{-19}i\\right) \\, C^{10.5000000000000} - \\left(0.000517029165143937 + 7.40492084357470 \\times 10^{-20}i\\right) \\, C^{10.0000000000000} + \\left(0.000369468586859137 - 2.88785295454513 \\times 10^{-20}i\\right) \\, C^{9.50000000000000} - \\left(0.0000570651533586780 + 1.10230088428816 \\times 10^{-20}i\\right) \\, C^{9.00000000000000} + \\left(0.0000742950824049630 - 4.45684914043571 \\times 10^{-21}i\\right) \\, C^{8.50000000000000} - \\left(3.354279257947562 \\times 10^{-6} + 1.323488980084844 \\times 10^{-21}i\\right) \\, C^{8.00000000000000} + \\left(0.00001138728413936287 - 3.613745301091040 \\times 10^{-23}i\\right) \\, C^{7.50000000000000} - \\left(3.00641878722672 \\times 10^{-7} + 6.94831714544543 \\times 10^{-23}i\\right) \\, C^{7.00000000000000} + \\left(1.21707838262864 \\times 10^{-6} + 9.71937219749808 \\times 10^{-24}i\\right) \\, C^{6.50000000000000} - \\left(8.83429627446574 \\times 10^{-8} - 1.65436122510606 \\times 10^{-24}i\\right) \\, C^{6.00000000000000} + \\left(7.77009194964948 \\times 10^{-8} + 3.30872245021211 \\times 10^{-24}i\\right) \\, C^{5.50000000000000} - \\left(1.227556975172440 \\times 10^{-8} - 1.033975765691285 \\times 10^{-25}i\\right) \\, C^{5.00000000000000} + \\left(2.15687126751962 \\times 10^{-9} + 1.55096364853693 \\times 10^{-25}i\\right) \\, C^{4.50000000000000} - \\left(6.75739045781132 \\times 10^{-10} - 1.03397576569128 \\times 10^{-25}i\\right) \\, C^{4.00000000000000} + \\left(1.027663567629353 \\times 10^{-10} - 1.292469707114106 \\times 10^{-26}i\\right) \\, C^{3.50000000000000} - \\left(9.77704741692161 \\times 10^{-12} - 6.46234853557053 \\times 10^{-27}i\\right) \\, C^{3.00000000000000} + \\left(2.726594825000015 \\times 10^{-11} + 1.615587133892632 \\times 10^{-27}i\\right) \\, C^{2.50000000000000} + \\left(2.27098015229604 \\times 10^{-12} - 2.52435489670724 \\times 10^{-29}i\\right) \\, C^{1.50000000000000} + 2.431007469653331 \\times 10^{-15}\\right)} C^{\\frac{3}{2}} - \\left(9.29947959877681 \\times 10^{-14}\\right) \\, C^{2.50000000000000} + {\\left(0.4410288100000000 \\, C^{31.0000000000000} + 4.52054530250000 \\, C^{30.0000000000000} + \\left(40.6530000290249 - 3.55271367880050 \\times 10^{-15}i\\right) \\, C^{29.0000000000000} + \\left(91.2624568163341 - 3.66373598126302 \\times 10^{-15}i\\right) \\, C^{28.0000000000000} - 0.4180600295752001 \\, C^{27.5000000000000} + \\left(212.126878369412 + 1.20736753927986 \\times 10^{-14}i\\right) \\, C^{27.0000000000000} - \\left(4.15325974844758 + 5.55111512312578 \\times 10^{-17}i\\right) \\, C^{26.5000000000000} + \\left(321.003525131621 + 3.10723669016966 \\times 10^{-14}i\\right) \\, C^{26.0000000000000} - \\left(36.8002735674391 + 9.02056207507940 \\times 10^{-16}i\\right) \\, C^{25.5000000000000} + \\left(437.414235871631 - 8.88004947352528 \\times 10^{-15}i\\right) \\, C^{25.0000000000000} - \\left(70.5785593924305 + 3.52495810318487 \\times 10^{-15}i\\right) \\, C^{24.5000000000000} + \\left(479.9522419811163 - 1.036220263241072 \\times 10^{-13}i\\right) \\, C^{24.0000000000000} - \\left(140.401378841100 + 8.68684464638836 \\times 10^{-15}i\\right) \\, C^{23.5000000000000} + \\left(452.468943587001 - 8.31756267593437 \\times 10^{-14}i\\right) \\, C^{23.0000000000000} - \\left(179.6938116731590 + 1.265437407638181 \\times 10^{-14}i\\right) \\, C^{22.5000000000000} + \\left(365.270598874903 - 3.78399568623511 \\times 10^{-14}i\\right) \\, C^{22.0000000000000} - \\left(198.8019340877223 - 1.708290627011610 \\times 10^{-14}i\\right) \\, C^{21.5000000000000} + \\left(251.172225264114 - 1.33357409316803 \\times 10^{-14}i\\right) \\, C^{21.0000000000000} - \\left(177.016598779122 - 3.43576356448739 \\times 10^{-14}i\\right) \\, C^{20.5000000000000} + \\left(148.6431949656507 - 1.434186021895614 \\times 10^{-15}i\\right) \\, C^{20.0000000000000} - \\left(129.2594870605779 + 2.790123140123876 \\times 10^{-14}i\\right) \\, C^{19.5000000000000} + \\left(75.4114937420328 + 1.85914922779667 \\times 10^{-15}i\\right) \\, C^{19.0000000000000} - \\left(78.5256805621775 + 5.68430936001563 \\times 10^{-15}i\\right) \\, C^{18.5000000000000} + \\left(32.9256303462777 - 2.45024269970862 \\times 10^{-15}i\\right) \\, C^{18.0000000000000} - \\left(39.3842500183033 + 2.96946712011192 \\times 10^{-15}i\\right) \\, C^{17.5000000000000} + \\left(12.52516451001605 - 1.514413594527753 \\times 10^{-15}i\\right) \\, C^{17.0000000000000} - \\left(15.96371043542110 + 1.410498745525648 \\times 10^{-15}i\\right) \\, C^{16.5000000000000} + \\left(4.33370763298329 + 1.78660424399613 \\times 10^{-17}i\\right) \\, C^{16.0000000000000} - \\left(5.18863198264123 + 1.88431161204428 \\times 10^{-16}i\\right) \\, C^{15.5000000000000} + \\left(1.44277452488521 + 7.55311984560868 \\times 10^{-17}i\\right) \\, C^{15.0000000000000} - \\left(1.377567680018447 + 2.193181117469381 \\times 10^{-16}i\\right) \\, C^{14.5000000000000} + \\left(0.4740437022181331 - 1.727926036575091 \\times 10^{-17}i\\right) \\, C^{14.0000000000000} - \\left(0.305557965266272 + 7.31692206128886 \\times 10^{-17}i\\right) \\, C^{13.5000000000000} + \\left(0.146785849566535 - 4.97811189268703 \\times 10^{-18}i\\right) \\, C^{13.0000000000000} - \\left(0.05674049609898307 + 1.145072077657567 \\times 10^{-17}i\\right) \\, C^{12.5000000000000} + \\left(0.0393290186471625 + 1.24790121570975 \\times 10^{-18}i\\right) \\, C^{12.0000000000000} - \\left(0.00879087441942695 + 1.45499415386852 \\times 10^{-18}i\\right) \\, C^{11.5000000000000} + \\left(0.00853531720794462 - 1.59600363289044 \\times 10^{-19}i\\right) \\, C^{11.0000000000000} - \\left(0.00121142438617149 + 3.35769154247525 \\times 10^{-20}i\\right) \\, C^{10.5000000000000} + \\left(0.00144178418005262 + 8.51697987415158 \\times 10^{-20}i\\right) \\, C^{10.0000000000000} - \\left(0.000177339624088583 - 1.67553704878741 \\times 10^{-20}i\\right) \\, C^{9.50000000000000} + \\left(0.000186174124273232 + 5.43457662447339 \\times 10^{-21}i\\right) \\, C^{9.00000000000000} - \\left(0.00002816692449012457 - 2.974544713914955 \\times 10^{-21}i\\right) \\, C^{8.50000000000000} + \\left(0.0000190565722619916 + 5.36840217546915 \\times 10^{-22}i\\right) \\, C^{8.00000000000000} - \\left(3.67226072005048 \\times 10^{-6} - 3.55713512791944 \\times 10^{-22}i\\right) \\, C^{7.50000000000000} + \\left(1.842110113485185 \\times 10^{-6} + 4.135903062765138 \\times 10^{-24}i\\right) \\, C^{7.00000000000000} - \\left(3.04287954220349 \\times 10^{-7} - 2.30576595749156 \\times 10^{-23}i\\right) \\, C^{6.50000000000000} + \\left(2.02482967374199 \\times 10^{-7} + 2.68833699079734 \\times 10^{-24}i\\right) \\, C^{6.00000000000000} - \\left(1.44427711824921 \\times 10^{-8} + 7.23783035983899 \\times 10^{-25}i\\right) \\, C^{5.50000000000000} + \\left(2.08657454144497 \\times 10^{-8} - 6.33310156485912 \\times 10^{-25}i\\right) \\, C^{5.00000000000000} - \\left(1.08638823788438 \\times 10^{-9} + 8.40105309624169 \\times 10^{-26}i\\right) \\, C^{4.50000000000000} + \\left(1.44431251379398 \\times 10^{-9} + 6.46234853557053 \\times 10^{-27}i\\right) \\, C^{4.00000000000000} - \\left(1.638268015533758 \\times 10^{-10} - 3.231174267785264 \\times 10^{-27}i\\right) \\, C^{3.50000000000000} + \\left(4.881072800953627 \\times 10^{-11} - 1.615587133892632 \\times 10^{-27}i\\right) \\, C^{3.00000000000000} - \\left(1.13030061250830 \\times 10^{-11} - 1.61558713389263 \\times 10^{-27}i\\right) \\, C^{2.50000000000000} - \\left(2.36037657000009 \\times 10^{-13} - 7.57306469012171 \\times 10^{-29}i\\right) \\, C^{1.50000000000000} + 9.67523905363601 \\times 10^{-15} + 9.86076131526265 \\times 10^{-32}i\\right)} C + {\\left(0.0181686863649086 \\, C^{26.5000000000000} + \\left(0.180935175909438 - 5.42101086242752 \\times 10^{-20}i\\right) \\, C^{25.5000000000000} + \\left(1.60354222185133 + 4.33680868994202 \\times 10^{-19}i\\right) \\, C^{24.5000000000000} + \\left(3.10459858011860 + 3.49655200626575 \\times 10^{-17}i\\right) \\, C^{23.5000000000000} - 0.000377181928935503 \\, C^{23.0000000000000} + \\left(6.16559694724619 - 3.88117272695498 \\times 10^{-16}i\\right) \\, C^{22.5000000000000} - 0.003661918769646051 \\, C^{22.0000000000000} + \\left(7.93916571271074 - 6.75564679609823 \\times 10^{-16}i\\right) \\, C^{21.5000000000000} - \\left(0.0319968444128995 - 3.46944695195361 \\times 10^{-18}i\\right) \\, C^{21.0000000000000} + \\left(8.79211142147451 - 6.97792518211671 \\times 10^{-16}i\\right) \\, C^{20.5000000000000} - \\left(0.0527279355078316 - 8.67361737988403 \\times 10^{-19}i\\right) \\, C^{20.0000000000000} + \\left(7.85804749212098 - 7.97100588659227 \\times 10^{-18}i\\right) \\, C^{19.5000000000000} - 0.0822222893443842 \\, C^{19.0000000000000} + \\left(5.752567280027416 - 1.368679275817741 \\times 10^{-16}i\\right) \\, C^{18.5000000000000} - \\left(0.0863314961986040 - 4.33680868994202 \\times 10^{-18}i\\right) \\, C^{18.0000000000000} + \\left(3.502376716112480 + 1.602083936867726 \\times 10^{-16}i\\right) \\, C^{17.5000000000000} - \\left(0.0704038129454399 - 1.66687314992475 \\times 10^{-18}i\\right) \\, C^{17.0000000000000} + \\left(1.757298585148576 + 1.115613661780562 \\times 10^{-16}i\\right) \\, C^{16.5000000000000} - \\left(0.0462055201686298 + 6.05248885949053 \\times 10^{-19}i\\right) \\, C^{16.0000000000000} + \\left(0.709686862003324 - 2.23891983782993 \\times 10^{-17}i\\right) \\, C^{15.5000000000000} - \\left(0.0240667936417242 + 2.15567144755228 \\times 10^{-19}i\\right) \\, C^{15.0000000000000} + \\left(0.2271738895162030 + 1.465452250108863 \\times 10^{-17}i\\right) \\, C^{14.5000000000000} - \\left(0.00965090392716973 - 1.56043897963677 \\times 10^{-19}i\\right) \\, C^{14.0000000000000} + \\left(0.0576179391268433 + 7.32261353061838 \\times 10^{-19}i\\right) \\, C^{13.5000000000000} - \\left(0.003013615719484684 + 3.335192229813808 \\times 10^{-20}i\\right) \\, C^{13.0000000000000} + \\left(0.0116007851231918 + 2.43498982548522 \\times 10^{-19}i\\right) \\, C^{12.5000000000000} - \\left(0.000769061423884501 - 2.86369928065858 \\times 10^{-20}i\\right) \\, C^{12.0000000000000} + \\left(0.00184274531397619 + 5.13281792570039 \\times 10^{-20}i\\right) \\, C^{11.5000000000000} - \\left(0.0001632999518074898 - 6.021047678773488 \\times 10^{-21}i\\right) \\, C^{11.0000000000000} + \\left(0.000229986734876751 + 3.17306482975341 \\times 10^{-21}i\\right) \\, C^{10.5000000000000} - \\left(0.0000272695220781812 - 3.95794108568653 \\times 10^{-22}i\\right) \\, C^{10.0000000000000} + \\left(0.00002365234989022744 + 1.070371712643618 \\times 10^{-21}i\\right) \\, C^{9.50000000000000} - \\left(3.244327545467252 \\times 10^{-6} - 1.293762176821220 \\times 10^{-23}i\\right) \\, C^{9.00000000000000} + \\left(2.38562485575194 \\times 10^{-6} - 8.93355061557270 \\times 10^{-23}i\\right) \\, C^{8.50000000000000} - \\left(2.50428364665541 \\times 10^{-7} - 2.26182198744969 \\times 10^{-24}i\\right) \\, C^{8.00000000000000} + \\left(2.68427110374239 \\times 10^{-7} - 9.66928899634740 \\times 10^{-24}i\\right) \\, C^{7.50000000000000} - \\left(1.41170589881746 \\times 10^{-8} + 3.10192729707385 \\times 10^{-25}i\\right) \\, C^{7.00000000000000} + \\left(2.68907852025440 \\times 10^{-8} - 3.20532487364298 \\times 10^{-24}i\\right) \\, C^{6.50000000000000} - \\left(1.39605968753446 \\times 10^{-9} - 5.49299625523495 \\times 10^{-26}i\\right) \\, C^{6.00000000000000} + \\left(1.72611334047667 \\times 10^{-9} - 1.16322273640270 \\times 10^{-25}i\\right) \\, C^{5.50000000000000} - \\left(1.75094071819797 \\times 10^{-10} + 6.46234853557053 \\times 10^{-27}i\\right) \\, C^{5.00000000000000} + \\left(4.998797373366603 \\times 10^{-11} + 4.038967834731580 \\times 10^{-28}i\\right) \\, C^{4.50000000000000} - \\left(1.15927631031045 \\times 10^{-11} + 6.05845175209737 \\times 10^{-28}i\\right) \\, C^{4.00000000000000} + \\left(1.229441064021272 \\times 10^{-12}\\right) \\, C^{3.50000000000000} - \\left(2.955335158821709 \\times 10^{-13} + 1.388395193188981 \\times 10^{-28}i\\right) \\, C^{3.00000000000000} + \\left(2.99107220063713 \\times 10^{-13}\\right) \\, C^{2.50000000000000} + \\left(2.312946784147316 \\times 10^{-14}\\right) \\, C^{1.50000000000000}\\right)} {\\rm Sqrt}\\left(C\\right) - \\left(2.43204270126669 \\times 10^{-15} - 7.88860905221012 \\times 10^{-31}i\\right) \\, C^{1.50000000000000} + 5.23309580551324 \\times 10^{-17}</script></html>"
      ],
      "text/latex": [
       "$$\\newcommand{\\Bold}[1]{\\mathbf{#1}}24.8550913100000 \\, C^{31.0000000000000} + 10.1689828025000 \\, C^{30.0000000000000} + {\\left(77.5156250000000 \\, C^{2.50000000000000} + 16.17187500000000 \\, C^{1.50000000000000} - 33.1079011415407 - 1.42108547152020 \\times 10^{-14}i\\right)} C^{28} + \\left(73.6554160544155 - 3.55271367880050 \\times 10^{-15}i\\right) \\, C^{29.0000000000000} + 0.810937500000000 \\, C^{\\frac{57}{2}} + {\\left(-77.1250000000000 \\, C^{3.50000000000000} - 18.78514999999997 \\, C^{2.50000000000000} - 1.10119250000000 \\, C^{1.50000000000000} - 71.9681890249677 - 5.68434188608080 \\times 10^{-14}i\\right)} C^{27} + \\left(91.2624568163341 - 3.66373598126302 \\times 10^{-15}i\\right) \\, C^{28.0000000000000} + 0.00519000000000003 \\, C^{\\frac{55}{2}} - 0.01831151619120000 \\, C^{27.5000000000000} + {\\left(\\left(2.69394000000005 - 2.84217094304040 \\times 10^{-14}i\\right) \\, C^{3.50000000000000} + 28.83331291125617 \\, C^{2.50000000000000} + \\left(5.91698800801875 - 3.55271367880050 \\times 10^{-15}i\\right) \\, C^{1.50000000000000} - 98.2420386773524 + 4.26325641456060 \\times 10^{-14}i\\right)} C^{26} + \\left(212.126878369412 + 1.20736753927986 \\times 10^{-14}i\\right) \\, C^{27.0000000000000} + {\\left(-\\left(6.93889390390723 \\times 10^{-17}i\\right) \\, C^{3.50000000000000} + 1.93106925000000 \\, C^{2.50000000000000} + 0.4028737500000000 \\, C^{1.50000000000000} - 1.283569304319163\\right)} C^{\\frac{51}{2}} + \\left(0.294596869299375 - 6.66133814775094 \\times 10^{-16}i\\right) \\, C^{\\frac{53}{2}} - 0.1831151619120000 \\, C^{26.5000000000000} + {\\left(31.2500000000000 \\, C^{7.00000000000000} + 15.6250000000000 \\, C^{6.00000000000000} + 95.2225787500000 \\, C^{5.00000000000000} + 38.75382500000001 \\, C^{4.00000000000000} - \\left(28.3995866472499 + 8.52651282912120 \\times 10^{-14}i\\right) \\, C^{3.50000000000000} + 4.02471826250000 \\, C^{3.00000000000000} - 129.7932939397963 \\, C^{2.50000000000000} - \\left(26.0407928723381 + 7.10542735760100 \\times 10^{-15}i\\right) \\, C^{1.50000000000000} - 109.3823875883298 + 2.131628207280301 \\times 10^{-13}i\\right)} C^{25} + \\left(321.003525131621 + 3.10723669016966 \\times 10^{-14}i\\right) \\, C^{26.0000000000000} + {\\left(-\\left(1.28089200000000 - 5.78870285039557 \\times 10^{-17}i\\right) \\, C^{3.50000000000000} - \\left(0.742277495280000 - 8.88178419700125 \\times 10^{-16}i\\right) \\, C^{2.50000000000000} - \\left(0.108059619840000 + 2.22044604925031 \\times 10^{-16}i\\right) \\, C^{1.50000000000000} - 2.39801800437019 - 6.10622663543836 \\times 10^{-16}i\\right)} C^{\\frac{49}{2}} - \\left(1.623820774232946 + 1.114559833315099 \\times 10^{-16}i\\right) \\, C^{25.5000000000000} + {\\left(-6.83000000000000 \\, C^{7.00000000000000} - \\left(125.852480000000 - 7.10542735760100 \\times 10^{-15}i\\right) \\, C^{6.00000000000000} - \\left(76.9650168116000 - 2.66453525910038 \\times 10^{-14}i\\right) \\, C^{5.00000000000000} - 16.76845942960002 \\, C^{4.00000000000000} + \\left(123.2811190020182 + 1.421085471520200 \\times 10^{-13}i\\right) \\, C^{3.50000000000000} - 1.278636579452001 \\, C^{3.00000000000000} - \\left(198.400670532357 - 2.84217094304040 \\times 10^{-14}i\\right) \\, C^{2.50000000000000} - \\left(45.8960952511143 + 2.66453525910038 \\times 10^{-15}i\\right) \\, C^{1.50000000000000} + 10.05446036396557 - 1.989519660128281 \\times 10^{-13}i\\right)} C^{24} + \\left(437.414235871631 - 8.88004947352528 \\times 10^{-15}i\\right) \\, C^{25.0000000000000} + {\\left(\\left(0.332890419839999 + 6.32306706993546 \\times 10^{-16}i\\right) \\, C^{3.50000000000000} - 0.399078533261876 \\, C^{2.50000000000000} - \\left(0.0954214324644422 - 1.11022302462516 \\times 10^{-16}i\\right) \\, C^{1.50000000000000} - 1.49495614482728 - 2.22044604925031 \\times 10^{-16}i\\right)} C^{\\frac{47}{2}} - \\left(3.19711695501201 - 1.07336015076065 \\times 10^{-16}i\\right) \\, C^{24.5000000000000} + {\\left(14.6484375000000 \\, C^{8.50000000000000} + 21.9726562500000 \\, C^{7.50000000000000} + 73.4086973125000 \\, C^{7.00000000000000} - 279.589843750000 \\, C^{6.50000000000000} + \\left(68.5245677858500 + 2.84217094304040 \\times 10^{-14}i\\right) \\, C^{6.00000000000000} - 189.819335937500 \\, C^{5.50000000000000} - \\left(1.576068436824164 + 1.731947918415244 \\times 10^{-14}i\\right) \\, C^{5.00000000000000} + 4.80468750000000 \\, C^{4.50000000000000} - \\left(6.88814879311262 - 1.42108547152020 \\times 10^{-14}i\\right) \\, C^{4.00000000000000} + \\left(237.367451675131 + 8.88178419700125 \\times 10^{-14}i\\right) \\, C^{3.50000000000000} - \\left(0.881698700972370 + 1.77635683940025 \\times 10^{-15}i\\right) \\, C^{3.00000000000000} - \\left(85.0652444095229 - 4.54081217071689 \\times 10^{-14}i\\right) \\, C^{2.50000000000000} - \\left(26.24424936387340 - 3.837034856513100 \\times 10^{-14}i\\right) \\, C^{1.50000000000000} + 107.8247562466610 - 1.023161590174570 \\times 10^{-15}i\\right)} C^{23} + \\left(479.939698775640 - 1.03621972113999 \\times 10^{-13}i\\right) \\, C^{24.0000000000000} + {\\left(0.519000000000000 \\, C^{7.00000000000000} + 0.259500000000000 \\, C^{6.00000000000000} + 1.581456587880000 \\, C^{5.00000000000000} + 0.643623525600000 \\, C^{4.00000000000000} + \\left(0.717769688692547 + 8.88178419700125 \\times 10^{-16}i\\right) \\, C^{3.50000000000000} + 0.0668425209036000 \\, C^{3.00000000000000} - \\left(2.66764586178404 + 4.44089209850063 \\times 10^{-15}i\\right) \\, C^{2.50000000000000} - 0.582768758747782 \\, C^{1.50000000000000} - 0.747461341702930 - 1.11022302462516 \\times 10^{-15}i\\right)} C^{\\frac{45}{2}} - \\left(6.35437649671730 - 4.09408292857683 \\times 10^{-16}i\\right) \\, C^{23.5000000000000} + {\\left(49.6100000000000 \\, C^{9.50000000000000} + 62.3264843750000 \\, C^{8.50000000000000} + \\left(460.737688203650 - 2.84217094304040 \\times 10^{-14}i\\right) \\, C^{7.50000000000000} - 70.5368021622840 \\, C^{7.00000000000000} + \\left(57.5020549944999 - 5.68434188608080 \\times 10^{-14}i\\right) \\, C^{6.50000000000000} + \\left(33.3415300480243 - 5.68434188608080 \\times 10^{-14}i\\right) \\, C^{6.00000000000000} - 552.781457092041 \\, C^{5.50000000000000} - \\left(111.2189985275262 + 2.344791028008331 \\times 10^{-13}i\\right) \\, C^{5.00000000000000} - 221.883928236460 \\, C^{4.50000000000000} - \\left(52.6779233535686 + 2.84217094304040 \\times 10^{-14}i\\right) \\, C^{4.00000000000000} + \\left(114.7990261686478 - 2.273736754432321 \\times 10^{-13}i\\right) \\, C^{3.50000000000000} - \\left(5.71626284734741 - 7.10542735760100 \\times 10^{-15}i\\right) \\, C^{3.00000000000000} - \\left(37.3975099901555 + 1.58983937126322 \\times 10^{-13}i\\right) \\, C^{2.50000000000000} - \\left(12.7398644198441 + 4.95992136251289 \\times 10^{-14}i\\right) \\, C^{1.50000000000000} + 241.7470534707029 + 1.180926016697281 \\times 10^{-13}i\\right)} C^{22} + \\left(452.347214923374 - 8.31764941210816 \\times 10^{-14}i\\right) \\, C^{23.0000000000000} + {\\left(-\\left(0.230186880000000 - 2.22044604925031 \\times 10^{-16}i\\right) \\, C^{7.00000000000000} - 1.13181427392000 \\, C^{6.00000000000000} - \\left(1.16770354953654 + 1.38777878078145 \\times 10^{-17}i\\right) \\, C^{5.00000000000000} - 0.3543700142999425 \\, C^{4.00000000000000} + \\left(1.73503642314574 - 9.52793399733309 \\times 10^{-16}i\\right) \\, C^{3.50000000000000} - 0.03295924234258867 \\, C^{3.00000000000000} - \\left(3.877707985721687 + 3.330669073875470 \\times 10^{-15}i\\right) \\, C^{2.50000000000000} - \\left(0.872388438732408 - 1.52655665885959 \\times 10^{-16}i\\right) \\, C^{1.50000000000000} + 2.322908550772023 + 3.108624468950438 \\times 10^{-15}i\\right)} C^{\\frac{43}{2}} - \\left(8.27721732133140 - 9.00213063814714 \\times 10^{-16}i\\right) \\, C^{22.5000000000000} + {\\left(-49.3600000000000 \\, C^{10.5000000000000} - \\left(59.02302719999999 + 1.421085471520200 \\times 10^{-14}i\\right) \\, C^{9.50000000000000} - \\left(71.8478198659156 + 3.55271367880050 \\times 10^{-15}i\\right) \\, C^{8.50000000000000} + \\left(366.808110564356 + 3.19744231092045 \\times 10^{-14}i\\right) \\, C^{7.50000000000000} - \\left(113.985121400235 - 2.13162820728030 \\times 10^{-14}i\\right) \\, C^{7.00000000000000} + \\left(537.746687500574 + 7.12763181809350 \\times 10^{-14}i\\right) \\, C^{6.50000000000000} + \\left(108.855525913101 - 3.37507799486048 \\times 10^{-14}i\\right) \\, C^{6.00000000000000} - \\left(295.885373307798 - 5.86197757002083 \\times 10^{-14}i\\right) \\, C^{5.50000000000000} - \\left(140.6840500338835 - 1.020850071142831 \\times 10^{-13}i\\right) \\, C^{5.00000000000000} - 268.595583222388 \\, C^{4.50000000000000} - \\left(75.6296914293981 + 5.86197757002083 \\times 10^{-14}i\\right) \\, C^{4.00000000000000} + \\left(17.3046291084881 - 9.94759830064140 \\times 10^{-14}i\\right) \\, C^{3.50000000000000} - \\left(8.45625202445926 - 8.88178419700125 \\times 10^{-15}i\\right) \\, C^{3.00000000000000} + \\left(235.486832949052 - 1.14575016141316 \\times 10^{-13}i\\right) \\, C^{2.50000000000000} + \\left(47.2974455571875 - 1.27675647831893 \\times 10^{-14}i\\right) \\, C^{1.50000000000000} + 297.846094053403 - 1.19785393626684 \\times 10^{-13}i\\right)} C^{21} + \\left(364.2025610915592 - 3.785512891650231 \\times 10^{-14}i\\right) \\, C^{22.0000000000000} + {\\left(0.486562500000000 \\, C^{8.50000000000000} + \\left(0.729843750000000 + 4.44089209850063 \\times 10^{-16}i\\right) \\, C^{7.50000000000000} - \\left(0.252926837389200 + 4.44089209850063 \\times 10^{-16}i\\right) \\, C^{7.00000000000000} - \\left(9.28685625000000 + 4.44089209850063 \\times 10^{-16}i\\right) \\, C^{6.50000000000000} + \\left(0.366493199756241 + 1.11022302462516 \\times 10^{-16}i\\right) \\, C^{6.00000000000000} - 6.30503906250000 \\, C^{5.50000000000000} - \\left(0.544615702691403 - 9.71445146547012 \\times 10^{-17}i\\right) \\, C^{5.00000000000000} + 0.1595925000000000 \\, C^{4.50000000000000} - \\left(0.280249203023079 + 2.22044604925031 \\times 10^{-16}i\\right) \\, C^{4.00000000000000} + \\left(3.04557144006387 - 4.71844785465691 \\times 10^{-16}i\\right) \\, C^{3.50000000000000} - \\left(0.0309682698892939 - 1.38777878078145 \\times 10^{-17}i\\right) \\, C^{3.00000000000000} - \\left(0.000487962720934258 - 4.37150315946155 \\times 10^{-15}i\\right) \\, C^{2.50000000000000} - \\left(0.1055533830796867 - 3.617982649584128 \\times 10^{-16}i\\right) \\, C^{1.50000000000000} + 4.020556396144316 + 3.296540422364699 \\times 10^{-15}i\\right)} C^{\\frac{41}{2}} - \\left(9.23206312070316 + 2.35055030994857 \\times 10^{-16}i\\right) \\, C^{21.5000000000000} + {\\left(46.50937500000001 \\, C^{11.0000000000000} + \\left(23.93217280000000 - 1.421085471520200 \\times 10^{-14}i\\right) \\, C^{10.5000000000000} + \\left(79.4671875000000 - 2.84217094304040 \\times 10^{-14}i\\right) \\, C^{10.0000000000000} - \\left(6.22755711074802 - 1.42108547152020 \\times 10^{-14}i\\right) \\, C^{9.50000000000000} - \\left(873.154250000000 + 5.68434188608080 \\times 10^{-14}i\\right) \\, C^{9.00000000000000} - \\left(7.53980396730305 - 7.10542735760100 \\times 10^{-15}i\\right) \\, C^{8.50000000000000} - \\left(787.884296875000 - 1.42108547152020 \\times 10^{-14}i\\right) \\, C^{8.00000000000000} + \\left(449.0736403047576 + 1.598721155460225 \\times 10^{-14}i\\right) \\, C^{7.50000000000000} - \\left(230.5879835514493 - 1.634248292248230 \\times 10^{-13}i\\right) \\, C^{7.00000000000000} + \\left(1100.59828022730 + 6.66133814775094 \\times 10^{-15}i\\right) \\, C^{6.50000000000000} + \\left(234.248333277273 + 5.68434188608080 \\times 10^{-14}i\\right) \\, C^{6.00000000000000} - \\left(30.2058934924175 - 2.85993451143440 \\times 10^{-13}i\\right) \\, C^{5.50000000000000} + \\left(83.4368543175065 + 2.86437540353290 \\times 10^{-14}i\\right) \\, C^{5.00000000000000} - \\left(320.460703731798 - 1.42108547152020 \\times 10^{-14}i\\right) \\, C^{4.50000000000000} + \\left(3.15217616848055 + 7.22477633274821 \\times 10^{-14}i\\right) \\, C^{4.00000000000000} - \\left(304.720530896611 - 1.17239551400417 \\times 10^{-13}i\\right) \\, C^{3.50000000000000} - \\left(0.654107550419203 + 6.31439345255558 \\times 10^{-15}i\\right) \\, C^{3.00000000000000} + \\left(321.242307574497 + 3.92130772297605 \\times 10^{-13}i\\right) \\, C^{2.50000000000000} + \\left(76.4688757578933 + 4.25770529943748 \\times 10^{-14}i\\right) \\, C^{1.50000000000000} + 292.3270210767610 + 1.000848709464819 \\times 10^{-14}i\\right)} C^{20} + \\left(249.3798453569624 - 1.291235913629179 \\times 10^{-14}i\\right) \\, C^{21.0000000000000} + {\\left(0.4119614400000000 \\, C^{9.50000000000000} + 1.08499804500000 \\, C^{8.50000000000000} + 13.67822628940561 \\, C^{7.50000000000000} - \\left(0.654631807460357 - 4.44089209850063 \\times 10^{-16}i\\right) \\, C^{7.00000000000000} + \\left(3.20383955129933 - 1.77635683940025 \\times 10^{-15}i\\right) \\, C^{6.50000000000000} + \\left(0.144230387020380 - 8.88178419700125 \\times 10^{-16}i\\right) \\, C^{6.00000000000000} - 17.10399177359856 \\, C^{5.50000000000000} - \\left(1.77847932402410 + 8.88178419700125 \\times 10^{-16}i\\right) \\, C^{5.00000000000000} - \\left(7.41710954972557 + 2.22044604925031 \\times 10^{-16}i\\right) \\, C^{4.50000000000000} - \\left(0.779863658595298 + 4.44089209850063 \\times 10^{-16}i\\right) \\, C^{4.00000000000000} - \\left(0.915712321184894 - 2.33146835171283 \\times 10^{-15}i\\right) \\, C^{3.50000000000000} - \\left(0.0827740195065476 - 2.77555756156289 \\times 10^{-17}i\\right) \\, C^{3.00000000000000} + \\left(1.24555857801350 + 2.27595720048157 \\times 10^{-15}i\\right) \\, C^{2.50000000000000} + \\left(0.267314086778895 - 1.02695629777827 \\times 10^{-15}i\\right) \\, C^{1.50000000000000} + 4.92790361314276 - 2.37329145051646 \\times 10^{-15}i\\right)} C^{\\frac{39}{2}} - \\left(8.33498985231942 + 1.20129600711394 \\times 10^{-16}i\\right) \\, C^{20.5000000000000} + {\\left(10 \\, C^{14.0000000000000} + 10.0000000000000 \\, C^{13.0000000000000} - 22.2109832000000 \\, C^{12.0000000000000} + \\left(13.9801751500000 - 4.97379915032070 \\times 10^{-14}i\\right) \\, C^{11.0000000000000} + \\left(22.8927392209600 + 1.42108547152020 \\times 10^{-14}i\\right) \\, C^{10.5000000000000} + \\left(2158.55216726427 - 2.84217094304040 \\times 10^{-14}i\\right) \\, C^{10.0000000000000} - \\left(45.4051738465310 - 2.84217094304040 \\times 10^{-14}i\\right) \\, C^{9.50000000000000} + 1372.794397019857 \\, C^{9.00000000000000} - \\left(106.824939260999 - 5.68434188608080 \\times 10^{-14}i\\right) \\, C^{8.50000000000000} - \\left(1430.250643470400 + 1.136868377216160 \\times 10^{-13}i\\right) \\, C^{8.00000000000000} - \\left(39.9721177701823 + 2.13162820728030 \\times 10^{-14}i\\right) \\, C^{7.50000000000000} - \\left(1229.30549061914 + 5.68434188608080 \\times 10^{-14}i\\right) \\, C^{7.00000000000000} + \\left(1920.09207385122 + 1.54543045027822 \\times 10^{-13}i\\right) \\, C^{6.50000000000000} - \\left(322.808531080670 - 6.03961325396085 \\times 10^{-14}i\\right) \\, C^{6.00000000000000} + \\left(1075.369851135249 - 1.136868377216160 \\times 10^{-13}i\\right) \\, C^{5.50000000000000} + \\left(23.7913538278116 + 1.82964754458226 \\times 10^{-13}i\\right) \\, C^{5.00000000000000} - \\left(128.5414478738257 + 1.136868377216160 \\times 10^{-13}i\\right) \\, C^{4.50000000000000} + \\left(23.5108567503612 + 7.68274333040608 \\times 10^{-14}i\\right) \\, C^{4.00000000000000} - \\left(482.266453249984 - 2.34479102800833 \\times 10^{-13}i\\right) \\, C^{3.50000000000000} + \\left(2.61922420520805 - 4.37150315946155 \\times 10^{-15}i\\right) \\, C^{3.00000000000000} + \\left(363.306049458968 - 2.14495088357580 \\times 10^{-13}i\\right) \\, C^{2.50000000000000} + \\left(91.8797141178845 + 1.21430643318376 \\times 10^{-14}i\\right) \\, C^{1.50000000000000} + 235.105210459066 - 4.67343178045532 \\times 10^{-14}i\\right)} C^{19} + \\left(145.5401098102388 - 1.339152472164148 \\times 10^{-15}i\\right) \\, C^{20.0000000000000} + {\\left(-\\left(0.275387983411200 + 2.22044604925031 \\times 10^{-16}i\\right) \\, C^{9.50000000000000} - \\left(0.724110434343975 + 1.38777878078145 \\times 10^{-16}i\\right) \\, C^{8.50000000000000} + \\left(10.17565210491207 - 1.804112415015879 \\times 10^{-15}i\\right) \\, C^{7.50000000000000} - \\left(0.916548614780646 - 5.82867087928207 \\times 10^{-16}i\\right) \\, C^{7.00000000000000} + \\left(26.93031660883342 + 3.442558738075974 \\times 10^{-15}i\\right) \\, C^{6.50000000000000} + \\left(0.806689164374434 + 2.51187959321442 \\times 10^{-15}i\\right) \\, C^{6.00000000000000} + \\left(0.3429077108542795 - 2.775557561562891 \\times 10^{-17}i\\right) \\, C^{5.50000000000000} - \\left(2.21268915211966 + 4.08006961549745 \\times 10^{-15}i\\right) \\, C^{5.00000000000000} - \\left(7.40461370200039 + 8.88178419700125 \\times 10^{-16}i\\right) \\, C^{4.50000000000000} - \\left(1.05089726227147 - 5.27355936696949 \\times 10^{-16}i\\right) \\, C^{4.00000000000000} - \\left(3.59709906642319 - 3.88578058618805 \\times 10^{-16}i\\right) \\, C^{3.50000000000000} - \\left(0.1139209881164534 - 1.387778780781446 \\times 10^{-17}i\\right) \\, C^{3.00000000000000} + \\left(4.95557093302848 - 1.52655665885959 \\times 10^{-15}i\\right) \\, C^{2.50000000000000} + \\left(1.12555922206816 - 5.15212872365112 \\times 10^{-16}i\\right) \\, C^{1.50000000000000} + 4.46373981834255 + 9.43198291821976 \\times 10^{-16}i\\right)} C^{\\frac{37}{2}} - \\left(6.18204637850222 + 3.16587034365767 \\times 10^{-17}i\\right) \\, C^{19.5000000000000} + {\\left(-6.68480000000000 \\, C^{14.0000000000000} - 6.68480000000000 \\, C^{13.0000000000000} - 89.5995719504640 \\, C^{12.0000000000000} - \\left(1333.42579312790 - 3.19744231092045 \\times 10^{-14}i\\right) \\, C^{11.0000000000000} + 61.4117414370024 \\, C^{10.5000000000000} + \\left(352.037499043300 + 1.17683640610267 \\times 10^{-13}i\\right) \\, C^{10.0000000000000} - \\left(41.55193916168528 + 2.131628207280301 \\times 10^{-14}i\\right) \\, C^{9.50000000000000} + \\left(4302.71173148096 + 2.41584530158434 \\times 10^{-13}i\\right) \\, C^{9.00000000000000} - \\left(119.673921442929 - 6.21724893790088 \\times 10^{-14}i\\right) \\, C^{8.50000000000000} + \\left(1678.212018068339 + 2.557953848736361 \\times 10^{-13}i\\right) \\, C^{8.00000000000000} - \\left(1034.76056398236 - 2.92876833896116 \\times 10^{-13}i\\right) \\, C^{7.50000000000000} - \\left(319.623929314761 + 3.12749826036907 \\times 10^{-13}i\\right) \\, C^{7.00000000000000} + \\left(1313.96308996198 + 9.20791221048489 \\times 10^{-13}i\\right) \\, C^{6.50000000000000} - \\left(409.1693620612748 + 1.776356839400250 \\times 10^{-13}i\\right) \\, C^{6.00000000000000} + \\left(2150.31430840150 - 5.12478948166972 \\times 10^{-13}i\\right) \\, C^{5.50000000000000} + \\left(147.882671514180 + 1.55431223447522 \\times 10^{-14}i\\right) \\, C^{5.00000000000000} + \\left(451.9654271782104 - 2.269850973846132 \\times 10^{-13}i\\right) \\, C^{4.50000000000000} + \\left(96.6313507594206 - 7.77156117237610 \\times 10^{-15}i\\right) \\, C^{4.00000000000000} - \\left(488.632300203956 + 2.98427949019242 \\times 10^{-13}i\\right) \\, C^{3.50000000000000} + \\left(10.93537690216375 + 1.387778780781446 \\times 10^{-15}i\\right) \\, C^{3.00000000000000} + \\left(300.720116553040 - 9.76996261670138 \\times 10^{-14}i\\right) \\, C^{2.50000000000000} + \\left(81.2989461023830 + 2.19269047363468 \\times 10^{-14}i\\right) \\, C^{1.50000000000000} + 157.940686602235 + 1.71408026661268 \\times 10^{-14}i\\right)} C^{18} + \\left(71.9470116727145 + 2.14738437535195 \\times 10^{-15}i\\right) \\, C^{19.0000000000000} + {\\left(-\\left(4.16333634234434 \\times 10^{-17}i\\right) \\, C^{12.0000000000000} + \\left(1.15864155000000 - 6.24500451351651 \\times 10^{-17}i\\right) \\, C^{11.0000000000000} + \\left(1.97968657500000 + 1.68282054957558 \\times 10^{-15}i\\right) \\, C^{10.0000000000000} - \\left(0.143959795852109 + 2.22044604925031 \\times 10^{-16}i\\right) \\, C^{9.50000000000000} - \\left(21.7520186760000 - 5.39499001028787 \\times 10^{-16}i\\right) \\, C^{9.00000000000000} - \\left(1.483559441248597 + 1.387778780781446 \\times 10^{-16}i\\right) \\, C^{8.50000000000000} - \\left(19.6277736037500 + 4.57744953052952 \\times 10^{-16}i\\right) \\, C^{8.00000000000000} - \\left(0.341378014038801 - 2.08166817117217 \\times 10^{-16}i\\right) \\, C^{7.50000000000000} - \\left(2.50561623380974 + 6.86738166333356 \\times 10^{-16}i\\right) \\, C^{7.00000000000000} + \\left(29.1398818757742 - 3.71751240901830 \\times 10^{-15}i\\right) \\, C^{6.50000000000000} + 3.09417502468781 \\, C^{6.00000000000000} + \\left(16.7937461612464 - 3.56659146660831 \\times 10^{-15}i\\right) \\, C^{5.50000000000000} + \\left(1.98013535757497 - 1.59247615094671 \\times 10^{-15}i\\right) \\, C^{5.00000000000000} - \\left(1.67119316529780 - 8.88178419700125 \\times 10^{-16}i\\right) \\, C^{4.50000000000000} + \\left(0.475007986342767 - 2.60208521396521 \\times 10^{-16}i\\right) \\, C^{4.00000000000000} - \\left(5.13597111822285 + 1.77635683940025 \\times 10^{-15}i\\right) \\, C^{3.50000000000000} + \\left(0.0398351820267364 + 6.41305585025176 \\times 10^{-17}i\\right) \\, C^{3.00000000000000} + \\left(5.56126014052218 - 1.73125402902485 \\times 10^{-15}i\\right) \\, C^{2.50000000000000} + \\left(1.325723700676131 + 1.431146867680866 \\times 10^{-16}i\\right) \\, C^{1.50000000000000} + 3.22212420016197 + 4.00260337027336 \\times 10^{-16}i\\right)} C^{\\frac{35}{2}} - \\left(3.82095625882307 - 3.81991503951176 \\times 10^{-16}i\\right) \\, C^{18.5000000000000} + {\\left(18.7500000000000 \\, C^{15.5000000000000} + 37.5000000000000 \\, C^{14.5000000000000} - 3.494496860000002 \\, C^{14.0000000000000} - 286.678952750000 \\, C^{13.5000000000000} - 3.494496860000002 \\, C^{13.0000000000000} - 312.953634125000 \\, C^{12.5000000000000} + \\left(44.7744501643513 - 2.84217094304040 \\times 10^{-14}i\\right) \\, C^{12.0000000000000} - \\left(1168.53007338750 + 5.77315972805081 \\times 10^{-14}i\\right) \\, C^{11.5000000000000} - \\left(1072.70452116792 + 2.29150032282632 \\times 10^{-13}i\\right) \\, C^{11.0000000000000} - \\left(1074.20529899384 - 4.26325641456060 \\times 10^{-14}i\\right) \\, C^{10.5000000000000} - \\left(2847.65078623564 + 6.66133814775094 \\times 10^{-16}i\\right) \\, C^{10.0000000000000} - \\left(229.578703217603 + 7.19424519957101 \\times 10^{-14}i\\right) \\, C^{9.50000000000000} + \\left(2031.927770466598 + 2.842170943040401 \\times 10^{-13}i\\right) \\, C^{9.00000000000000} + \\left(38.6668461360901 - 2.30926389122033 \\times 10^{-14}i\\right) \\, C^{8.50000000000000} + \\left(2798.72959131761 + 2.93237656379120 \\times 10^{-14}i\\right) \\, C^{8.00000000000000} - \\left(1328.66443920204 - 5.99520433297584 \\times 10^{-15}i\\right) \\, C^{7.50000000000000} + \\left(736.015982926651 + 2.11275441586167 \\times 10^{-13}i\\right) \\, C^{7.00000000000000} + \\left(322.3904922221657 + 2.233213614033502 \\times 10^{-13}i\\right) \\, C^{6.50000000000000} - \\left(345.761888894602 - 6.93889390390723 \\times 10^{-18}i\\right) \\, C^{6.00000000000000} + \\left(2234.31721818153 + 6.30620555774897 \\times 10^{-13}i\\right) \\, C^{5.50000000000000} + \\left(138.265546585039 + 8.88178419700125 \\times 10^{-16}i\\right) \\, C^{5.00000000000000} + \\left(778.271032856495 + 1.70773985230799 \\times 10^{-13}i\\right) \\, C^{4.50000000000000} + \\left(106.871178863089 - 6.50590692430342 \\times 10^{-14}i\\right) \\, C^{4.00000000000000} - \\left(362.373699216755 - 9.94759830064140 \\times 10^{-14}i\\right) \\, C^{3.50000000000000} + \\left(12.64489250654986 - 2.775557561562891 \\times 10^{-16}i\\right) \\, C^{3.00000000000000} + \\left(200.566203738627 + 2.84217094304040 \\times 10^{-14}i\\right) \\, C^{2.50000000000000} + \\left(57.4698824036058 - 1.13242748511766 \\times 10^{-14}i\\right) \\, C^{1.50000000000000} + 89.9482019172847 + 9.21051429569886 \\times 10^{-15}i\\right)} C^{17} + \\left(29.6531486472933 - 2.38483820365343 \\times 10^{-15}i\\right) \\, C^{18.0000000000000} + {\\left(-\\left(0.768535200000000 + 5.55111512312578 \\times 10^{-17}i\\right) \\, C^{12.0000000000000} + \\left(0.282939329196000 - 8.88178419700125 \\times 10^{-16}i\\right) \\, C^{11.0000000000000} + \\left(45.7288625716050 + 8.88178419700125 \\times 10^{-16}i\\right) \\, C^{10.0000000000000} - \\left(0.483794099574136 - 6.66133814775094 \\times 10^{-16}i\\right) \\, C^{9.50000000000000} + \\left(32.05272888536147 + 1.554312234475219 \\times 10^{-15}i\\right) \\, C^{9.00000000000000} - \\left(2.62499088291559 - 4.44089209850063 \\times 10^{-16}i\\right) \\, C^{8.50000000000000} - \\left(32.5151283122536 + 1.77635683940025 \\times 10^{-15}i\\right) \\, C^{8.00000000000000} - \\left(12.1317318399654 - 1.97064586870965 \\times 10^{-15}i\\right) \\, C^{7.50000000000000} - \\left(25.6161561697335 - 9.43689570931383 \\times 10^{-16}i\\right) \\, C^{7.00000000000000} + \\left(30.9930190853784 - 3.10862446895044 \\times 10^{-15}i\\right) \\, C^{6.50000000000000} - \\left(6.27879487541153 + 1.44328993201270 \\times 10^{-15}i\\right) \\, C^{6.00000000000000} + \\left(34.1747760352040 + 2.63677968348475 \\times 10^{-15}i\\right) \\, C^{5.50000000000000} + \\left(1.19330845077457 + 3.49720252756924 \\times 10^{-15}i\\right) \\, C^{5.00000000000000} + \\left(4.45439542874502 + 8.89913143176102 \\times 10^{-16}i\\right) \\, C^{4.50000000000000} + \\left(0.748030826352462 + 6.52256026967280 \\times 10^{-16}i\\right) \\, C^{4.00000000000000} - \\left(4.99118172953607 + 2.22044604925031 \\times 10^{-16}i\\right) \\, C^{3.50000000000000} + \\left(0.0809610520693061 + 1.50487261540988 \\times 10^{-16}i\\right) \\, C^{3.00000000000000} + \\left(5.15541076263937 - 3.19189119579733 \\times 10^{-16}i\\right) \\, C^{2.50000000000000} + \\left(1.254667624292298 + 1.799775606325937 \\times 10^{-16}i\\right) \\, C^{1.50000000000000} + 1.91895649353427 + 7.78755315442026 \\times 10^{-16}i\\right)} C^{\\frac{33}{2}} - \\left(1.955982504436547 + 3.581467059227995 \\times 10^{-18}i\\right) \\, C^{17.5000000000000} + {\\left(\\left(26.3435000000000 + 3.55271367880050 \\times 10^{-15}i\\right) \\, C^{15.5000000000000} + \\left(441.708887000000 + 3.19744231092045 \\times 10^{-14}i\\right) \\, C^{14.5000000000000} - \\left(11.74367434908800 + 1.421085471520200 \\times 10^{-14}i\\right) \\, C^{14.0000000000000} + \\left(381.139580605620 - 1.57207580286922 \\times 10^{-13}i\\right) \\, C^{13.5000000000000} - \\left(11.74367434908800 + 1.421085471520200 \\times 10^{-14}i\\right) \\, C^{13.0000000000000} + \\left(2399.31184321089 - 1.52766688188422 \\times 10^{-13}i\\right) \\, C^{12.5000000000000} + \\left(100.6912174959052 + 1.421085471520200 \\times 10^{-14}i\\right) \\, C^{12.0000000000000} + \\left(2213.021948646697 - 2.842170943040401 \\times 10^{-13}i\\right) \\, C^{11.5000000000000} - \\left(157.3425914310251 - 1.136868377216160 \\times 10^{-13}i\\right) \\, C^{11.0000000000000} - \\left(1238.65576914070 + 2.32702745961433 \\times 10^{-13}i\\right) \\, C^{10.5000000000000} - \\left(3830.944221623683 + 1.648015057753582 \\times 10^{-12}i\\right) \\, C^{10.0000000000000} - \\left(1593.92606562482 - 7.10542735760100 \\times 10^{-15}i\\right) \\, C^{9.50000000000000} + \\left(493.189571394879 - 4.05009359383257 \\times 10^{-13}i\\right) \\, C^{9.00000000000000} - \\left(653.683055527921 + 1.07469588783715 \\times 10^{-13}i\\right) \\, C^{8.50000000000000} + \\left(3588.12193363735 - 3.97931687601272 \\times 10^{-13}i\\right) \\, C^{8.00000000000000} - \\left(1795.70820176344 + 5.68434188608080 \\times 10^{-14}i\\right) \\, C^{7.50000000000000} + \\left(1587.19162232503 + 1.63424829224823 \\times 10^{-13}i\\right) \\, C^{7.00000000000000} - \\left(775.967496959615 - 2.42028619368284 \\times 10^{-13}i\\right) \\, C^{6.50000000000000} - \\left(167.648478355409 - 1.84741111297626 \\times 10^{-13}i\\right) \\, C^{6.00000000000000} + \\left(2061.99792549005 + 2.30482299912182 \\times 10^{-13}i\\right) \\, C^{5.50000000000000} + \\left(128.154818379936 - 1.24344978758018 \\times 10^{-14}i\\right) \\, C^{5.00000000000000} + \\left(1015.30041307806 + 5.73360803279854 \\times 10^{-14}i\\right) \\, C^{4.50000000000000} + \\left(99.1305270309879 - 6.66133814775094 \\times 10^{-15}i\\right) \\, C^{4.00000000000000} - \\left(172.256747717122 + 2.84217094304040 \\times 10^{-14}i\\right) \\, C^{3.50000000000000} + \\left(11.9009502050189 + 1.06165076729781 \\times 10^{-15}i\\right) \\, C^{3.00000000000000} + \\left(112.4874139698710 - 1.243449787580175 \\times 10^{-14}i\\right) \\, C^{2.50000000000000} + \\left(33.5472232314083 - 6.10622663543836 \\times 10^{-15}i\\right) \\, C^{1.50000000000000} + 43.4304541993275 + 4.54757759227320 \\times 10^{-15}i\\right)} C^{16} + \\left(10.0218099425209 - 1.54231824794210 \\times 10^{-15}i\\right) \\, C^{17.0000000000000} + {\\left(-\\left(1.04801851027200 - 2.22044604925031 \\times 10^{-16}i\\right) \\, C^{12.0000000000000} - \\left(23.1836680026183 + 8.88178419700125 \\times 10^{-16}i\\right) \\, C^{11.0000000000000} + \\left(2.68153635317518 - 7.10542735760100 \\times 10^{-15}i\\right) \\, C^{10.0000000000000} - \\left(0.616886386219120 - 3.60822483003176 \\times 10^{-16}i\\right) \\, C^{9.50000000000000} + \\left(102.014042808107 - 2.22044604925031 \\times 10^{-15}i\\right) \\, C^{9.00000000000000} - \\left(2.889687738051196 - 2.324529457808922 \\times 10^{-16}i\\right) \\, C^{8.50000000000000} + \\left(53.0034345410370 + 1.33226762955019 \\times 10^{-15}i\\right) \\, C^{8.00000000000000} - \\left(31.8386820543514 + 4.23619472833536 \\times 10^{-15}i\\right) \\, C^{7.50000000000000} - \\left(3.84901740867731 + 4.44089209850063 \\times 10^{-15}i\\right) \\, C^{7.00000000000000} + \\left(5.10011190441442 - 7.16137218970125 \\times 10^{-15}i\\right) \\, C^{6.50000000000000} - \\left(7.88440213424252 - 2.22044604925031 \\times 10^{-16}i\\right) \\, C^{6.00000000000000} + \\left(47.4271990773122 + 5.55111512312578 \\times 10^{-17}i\\right) \\, C^{5.50000000000000} + \\left(1.83978100422135 + 8.04911692853238 \\times 10^{-16}i\\right) \\, C^{5.00000000000000} + \\left(16.7454669117097 + 1.78156100982818 \\times 10^{-15}i\\right) \\, C^{4.50000000000000} + \\left(1.39224441270631 - 4.71844785465691 \\times 10^{-16}i\\right) \\, C^{4.00000000000000} - \\left(1.906625459499195 - 1.332267629550188 \\times 10^{-15}i\\right) \\, C^{3.50000000000000} + \\left(0.158768306079087 - 5.63785129692462 \\times 10^{-17}i\\right) \\, C^{3.00000000000000} + \\left(3.86153741557916 + 6.93889390390723 \\times 10^{-16}i\\right) \\, C^{2.50000000000000} + \\left(0.927051375313264 - 3.46944695195361 \\times 10^{-17}i\\right) \\, C^{1.50000000000000} + 0.950428405069693 - 6.76542155630955 \\times 10^{-17}i\\right)} C^{\\frac{31}{2}} - \\left(0.813490385318747 + 7.37437471791435 \\times 10^{-18}i\\right) \\, C^{16.5000000000000} + {\\left(2.44140625000000 \\, C^{17.0000000000000} + 22.5830078125000 \\, C^{16.0000000000000} + \\left(10.00167986750002 + 1.421085471520200 \\times 10^{-14}i\\right) \\, C^{15.5000000000000} + 196.585083007812 \\, C^{15.0000000000000} + \\left(251.035589945320 + 1.77635683940025 \\times 10^{-13}i\\right) \\, C^{14.5000000000000} + \\left(234.622795944535 - 7.10542735760100 \\times 10^{-15}i\\right) \\, C^{14.0000000000000} - \\left(1640.60710021488 - 4.26325641456060 \\times 10^{-14}i\\right) \\, C^{13.5000000000000} + \\left(389.312859421098 - 7.10542735760100 \\times 10^{-15}i\\right) \\, C^{13.0000000000000} - \\left(1097.90939552513 + 3.51718654201250 \\times 10^{-13}i\\right) \\, C^{12.5000000000000} + \\left(531.460642876592 + 7.97972798949331 \\times 10^{-14}i\\right) \\, C^{12.0000000000000} + \\left(5479.99327095679 + 9.23705556488130 \\times 10^{-14}i\\right) \\, C^{11.5000000000000} + \\left(1149.21299266306 + 3.65929508916452 \\times 10^{-13}i\\right) \\, C^{11.0000000000000} + \\left(4397.15686018769 + 3.90798504668055 \\times 10^{-13}i\\right) \\, C^{10.5000000000000} - \\left(5493.10566268736 + 1.11957665360762 \\times 10^{-12}i\\right) \\, C^{10.0000000000000} + \\left(726.138462465101 + 1.56319401867222 \\times 10^{-13}i\\right) \\, C^{9.50000000000000} - \\left(3933.16340478485 + 7.72881758592803 \\times 10^{-13}i\\right) \\, C^{9.00000000000000} - \\left(336.502664161062 + 7.10542735760100 \\times 10^{-14}i\\right) \\, C^{8.50000000000000} + \\left(3399.85088559980 - 9.12078572390396 \\times 10^{-13}i\\right) \\, C^{8.00000000000000} - \\left(1478.301341733490 + 1.820765760385257 \\times 10^{-13}i\\right) \\, C^{7.50000000000000} + \\left(2817.42586190681 - 2.76445533131664 \\times 10^{-14}i\\right) \\, C^{7.00000000000000} - \\left(1701.59894460869 + 2.81552559044940 \\times 10^{-13}i\\right) \\, C^{6.50000000000000} + \\left(351.818395891377 + 1.13674694657284 \\times 10^{-13}i\\right) \\, C^{6.00000000000000} + \\left(1081.025676321231 + 1.151301276536287 \\times 10^{-13}i\\right) \\, C^{5.50000000000000} + \\left(143.977349193968 - 4.26325641456060 \\times 10^{-14}i\\right) \\, C^{5.00000000000000} + \\left(899.091831170821 - 2.13856710118421 \\times 10^{-14}i\\right) \\, C^{4.50000000000000} + \\left(74.8580365561318 + 1.15463194561016 \\times 10^{-14}i\\right) \\, C^{4.00000000000000} - \\left(13.88710056367800 + 2.131628207280301 \\times 10^{-14}i\\right) \\, C^{3.50000000000000} + \\left(8.79343732832090 + 2.33146835171283 \\times 10^{-15}i\\right) \\, C^{3.00000000000000} + \\left(57.4921621449642 - 3.55271367880050 \\times 10^{-15}i\\right) \\, C^{2.50000000000000} + \\left(16.44434247756351 - 1.110223024625157 \\times 10^{-15}i\\right) \\, C^{1.50000000000000} + 17.6204982709532 - 6.19946802227211 \\times 10^{-16}i\\right)} C^{15} + \\left(2.750438728821788 - 1.569920510594274 \\times 10^{-16}i\\right) \\, C^{16.0000000000000} + {\\left(0.311400000000000 \\, C^{15.5000000000000} + 0.622800000000000 \\, C^{14.5000000000000} - 4.761164047272000 \\, C^{13.5000000000000} - \\left(5.19753395554800 - 8.88178419700125 \\times 10^{-16}i\\right) \\, C^{12.5000000000000} + \\left(1.87762592495495 + 2.22044604925031 \\times 10^{-16}i\\right) \\, C^{12.0000000000000} - 19.40694745881960 \\, C^{11.5000000000000} - \\left(13.4431095987546 + 4.44089209850063 \\times 10^{-16}i\\right) \\, C^{11.0000000000000} - \\left(19.2471499971250 + 3.46944695195361 \\times 10^{-17}i\\right) \\, C^{10.5000000000000} - \\left(83.2975084270271 + 7.21644966006352 \\times 10^{-15}i\\right) \\, C^{10.0000000000000} - \\left(4.90987094881172 - 2.22044604925031 \\times 10^{-16}i\\right) \\, C^{9.50000000000000} + \\left(10.39225044318973 - 2.664535259100376 \\times 10^{-15}i\\right) \\, C^{9.00000000000000} - \\left(0.0214489472861128 - 3.20923843055709 \\times 10^{-17}i\\right) \\, C^{8.50000000000000} + \\left(75.3042366282921 + 8.88178419700125 \\times 10^{-16}i\\right) \\, C^{8.00000000000000} - \\left(28.7721096854341 - 4.25354196309513 \\times 10^{-15}i\\right) \\, C^{7.50000000000000} + \\left(30.4886831563435 + 2.33146835171283 \\times 10^{-15}i\\right) \\, C^{7.00000000000000} - \\left(26.5227597664032 + 3.35148575558719 \\times 10^{-15}i\\right) \\, C^{6.50000000000000} + \\left(0.355557932559153 + 4.44089209850063 \\times 10^{-16}i\\right) \\, C^{6.00000000000000} + \\left(27.25804663050591 + 2.013363434305582 \\times 10^{-16}i\\right) \\, C^{5.50000000000000} + \\left(2.142763213238552 - 1.443289932012704 \\times 10^{-15}i\\right) \\, C^{5.00000000000000} + \\left(17.94941022869366 - 1.336367269014899 \\times 10^{-15}i\\right) \\, C^{4.50000000000000} + \\left(1.29176816051816 + 5.68989300120393 \\times 10^{-16}i\\right) \\, C^{4.00000000000000} + 0.936765440767536 \\, C^{3.50000000000000} + \\left(0.149242354850869 - 8.54351311918577 \\times 10^{-17}i\\right) \\, C^{3.00000000000000} + \\left(2.56583874144420 + 1.11022302462516 \\times 10^{-16}i\\right) \\, C^{2.50000000000000} + \\left(0.575228091691391 + 1.11022302462516 \\times 10^{-16}i\\right) \\, C^{1.50000000000000} + 0.387927339419042 - 2.34662007707331 \\times 10^{-17}i\\right)} C^{\\frac{29}{2}} - \\left(0.271558685761060 + 1.66150277164259 \\times 10^{-17}i\\right) \\, C^{15.5000000000000} + {\\left(29.76600000000000 \\, C^{18.0000000000000} + 70.3802812500000 \\, C^{17.0000000000000} - \\left(458.391392234060 + 4.97379915032070 \\times 10^{-14}i\\right) \\, C^{16.0000000000000} + \\left(0.729477927787016 - 1.42108547152020 \\times 10^{-14}i\\right) \\, C^{15.5000000000000} - \\left(342.879413284077 + 2.13162820728030 \\times 10^{-14}i\\right) \\, C^{15.0000000000000} + \\left(1075.35276201308 + 4.26325641456060 \\times 10^{-14}i\\right) \\, C^{14.5000000000000} - \\left(420.388233422407 + 7.81597009336110 \\times 10^{-14}i\\right) \\, C^{14.0000000000000} + \\left(721.603954580960 + 7.81597009336110 \\times 10^{-13}i\\right) \\, C^{13.5000000000000} - \\left(2.97564143179329 - 3.90798504668055 \\times 10^{-14}i\\right) \\, C^{13.0000000000000} - \\left(6733.10237826555 - 8.95283847057726 \\times 10^{-13}i\\right) \\, C^{12.5000000000000} + \\left(635.635336425217 + 1.55431223447522 \\times 10^{-14}i\\right) \\, C^{12.0000000000000} - \\left(3087.45258807747 + 6.24833518259038 \\times 10^{-13}i\\right) \\, C^{11.5000000000000} + \\left(3398.93315891189 + 2.61124455391837 \\times 10^{-13}i\\right) \\, C^{11.0000000000000} + \\left(3010.76472576499 + 1.13686837721616 \\times 10^{-13}i\\right) \\, C^{10.5000000000000} - \\left(2213.14371531529 + 6.36643515683488 \\times 10^{-13}i\\right) \\, C^{10.0000000000000} + \\left(2351.27304744486 + 3.41060513164848 \\times 10^{-13}i\\right) \\, C^{9.50000000000000} - \\left(7464.47465610598 + 1.32949207198862 \\times 10^{-12}i\\right) \\, C^{9.00000000000000} + \\left(453.928179720780 + 1.22568621918617 \\times 10^{-13}i\\right) \\, C^{8.50000000000000} - \\left(567.899325802775 + 2.24098517520588 \\times 10^{-13}i\\right) \\, C^{8.00000000000000} - \\left(768.968931282733 - 1.59872115546023 \\times 10^{-14}i\\right) \\, C^{7.50000000000000} + \\left(1930.92400614190 - 9.95887400323525 \\times 10^{-14}i\\right) \\, C^{7.00000000000000} - \\left(1581.16276731271 + 9.50350909079134 \\times 10^{-14}i\\right) \\, C^{6.50000000000000} + \\left(521.726421265452 - 4.66248675952408 \\times 10^{-14}i\\right) \\, C^{6.00000000000000} + \\left(291.820866916854 + 8.88178419700125 \\times 10^{-16}i\\right) \\, C^{5.50000000000000} + \\left(148.832010714052 + 5.32907051820075 \\times 10^{-15}i\\right) \\, C^{5.00000000000000} + \\left(562.488195441483 + 5.62154489625044 \\times 10^{-14}i\\right) \\, C^{4.50000000000000} + \\left(50.6693961026022 - 4.44089209850063 \\times 10^{-15}i\\right) \\, C^{4.00000000000000} + \\left(42.2729759635447 + 1.42108547152020 \\times 10^{-14}i\\right) \\, C^{3.50000000000000} + \\left(5.53013156100980 + 3.88578058618805 \\times 10^{-16}i\\right) \\, C^{3.00000000000000} + \\left(26.2697908640439 + 3.55271367880050 \\times 10^{-15}i\\right) \\, C^{2.50000000000000} + \\left(6.70737987087512 - 5.55111512312578 \\times 10^{-16}i\\right) \\, C^{1.50000000000000} + 5.96218234856266 - 7.24463891654814 \\times 10^{-16}i\\right)} C^{14} + \\left(0.610918269285038 - 1.04748329422203 \\times 10^{-17}i\\right) \\, C^{15.0000000000000} + {\\left(0.3674603040000001 \\, C^{15.5000000000000} + \\left(7.80582860764800 + 2.22044604925031 \\times 10^{-16}i\\right) \\, C^{14.5000000000000} + \\left(8.59586392350844 - 8.95117313604032 \\times 10^{-16}i\\right) \\, C^{13.5000000000000} + \\left(29.8345337368823 + 4.44089209850063 \\times 10^{-16}i\\right) \\, C^{12.5000000000000} + 2.860269536163794 \\, C^{12.0000000000000} + \\left(27.9386370676351 + 4.71150896075301 \\times 10^{-15}i\\right) \\, C^{11.5000000000000} + \\left(21.3553788497042 + 5.32907051820075 \\times 10^{-15}i\\right) \\, C^{11.0000000000000} - \\left(20.0209471977552 + 8.32667268468867 \\times 10^{-17}i\\right) \\, C^{10.5000000000000} - \\left(55.9223797397817 - 6.21724893790088 \\times 10^{-15}i\\right) \\, C^{10.0000000000000} - \\left(25.3992368985016 + 4.57966997657877 \\times 10^{-16}i\\right) \\, C^{9.50000000000000} - \\left(53.82503994366891 - 1.376676550535194 \\times 10^{-14}i\\right) \\, C^{9.00000000000000} - \\left(8.98387596509886 + 1.52655665885959 \\times 10^{-16}i\\right) \\, C^{8.50000000000000} + \\left(33.0195744842271 - 5.32907051820075 \\times 10^{-15}i\\right) \\, C^{8.00000000000000} - \\left(20.4120654584365 - 1.83186799063151 \\times 10^{-15}i\\right) \\, C^{7.50000000000000} + \\left(28.3369563437450 - 2.22044604925031 \\times 10^{-15}i\\right) \\, C^{7.00000000000000} - \\left(30.53575206589393 - 5.481726184086710 \\times 10^{-15}i\\right) \\, C^{6.50000000000000} + \\left(3.41478780051217 - 4.44089209850063 \\times 10^{-16}i\\right) \\, C^{6.00000000000000} + \\left(10.36534698996844 + 1.783295733304158 \\times 10^{-15}i\\right) \\, C^{5.50000000000000} + \\left(1.98157013345301 + 5.55111512312578 \\times 10^{-17}i\\right) \\, C^{5.00000000000000} + \\left(12.52404250966363 - 1.770068466799835 \\times 10^{-15}i\\right) \\, C^{4.50000000000000} + \\left(0.977394795885271 - 1.38777878078145 \\times 10^{-17}i\\right) \\, C^{4.00000000000000} + \\left(1.61630868454108 - 5.55111512312578 \\times 10^{-16}i\\right) \\, C^{3.50000000000000} + \\left(0.111515476378323 - 6.67868538251071 \\times 10^{-17}i\\right) \\, C^{3.00000000000000} + \\left(1.43444683920455 + 2.22044604925031 \\times 10^{-16}i\\right) \\, C^{2.50000000000000} + \\left(0.298779712514297 - 9.36750677027476 \\times 10^{-17}i\\right) \\, C^{1.50000000000000} + 0.131292319788685 + 7.26584862154739 \\times 10^{-18}i\\right)} C^{\\frac{27}{2}} - \\left(0.0729876870444608 + 5.31799048021772 \\times 10^{-18}i\\right) \\, C^{14.5000000000000} + {\\left(-29.6160000000000 \\, C^{19.0000000000000} - 31.51132623999999 \\, C^{18.0000000000000} + \\left(1316.53219286572 - 8.88178419700125 \\times 10^{-16}i\\right) \\, C^{17.0000000000000} + \\left(1849.797386795505 + 1.776356839400250 \\times 10^{-15}i\\right) \\, C^{16.0000000000000} - \\left(168.061461279271 + 1.42108547152020 \\times 10^{-14}i\\right) \\, C^{15.5000000000000} + \\left(2033.11630201748 + 1.45827794284514 \\times 10^{-13}i\\right) \\, C^{15.0000000000000} + \\left(192.2419303477253 - 1.421085471520200 \\times 10^{-13}i\\right) \\, C^{14.5000000000000} + \\left(1683.124906153630 + 1.012523398458143 \\times 10^{-13}i\\right) \\, C^{14.0000000000000} + \\left(5813.15637267956 + 1.10134124042816 \\times 10^{-13}i\\right) \\, C^{13.5000000000000} + \\left(768.121686514398 - 9.32587340685131 \\times 10^{-14}i\\right) \\, C^{13.0000000000000} + \\left(665.990096622008 + 6.53699316899292 \\times 10^{-13}i\\right) \\, C^{12.5000000000000} + \\left(334.211510072177 + 4.12336831345783 \\times 10^{-13}i\\right) \\, C^{12.0000000000000} - \\left(4779.52436113779 - 4.68070027181966 \\times 10^{-13}i\\right) \\, C^{11.5000000000000} + \\left(3225.703492622065 + 1.536548666081217 \\times 10^{-13}i\\right) \\, C^{11.0000000000000} - \\left(842.127786110239 + 3.49942297361849 \\times 10^{-13}i\\right) \\, C^{10.5000000000000} + \\left(1843.31538927129 + 6.08124661738429 \\times 10^{-13}i\\right) \\, C^{10.0000000000000} + \\left(1120.40894819053 - 4.26325641456060 \\times 10^{-14}i\\right) \\, C^{9.50000000000000} - \\left(4811.60403562556 + 3.81361608958741 \\times 10^{-13}i\\right) \\, C^{9.00000000000000} + \\left(417.725000992847 + 3.19744231092045 \\times 10^{-14}i\\right) \\, C^{8.50000000000000} - \\left(1747.92108482895 + 4.61353177882984 \\times 10^{-13}i\\right) \\, C^{8.00000000000000} - \\left(294.805253854225 + 1.59872115546023 \\times 10^{-14}i\\right) \\, C^{7.50000000000000} + \\left(851.574422004731 - 1.70058411796958 \\times 10^{-13}i\\right) \\, C^{7.00000000000000} - \\left(1101.02899663863 + 8.70414851306123 \\times 10^{-14}i\\right) \\, C^{6.50000000000000} + \\left(371.751978436031 - 4.61531854401009 \\times 10^{-14}i\\right) \\, C^{6.00000000000000} - \\left(89.0649434571854 + 1.74971148680925 \\times 10^{-13}i\\right) \\, C^{5.50000000000000} + 104.2128785732806 \\, C^{5.00000000000000} + \\left(280.624470477862 + 2.86506929292329 \\times 10^{-14}i\\right) \\, C^{4.50000000000000} + \\left(28.5063150046141 - 7.99360577730113 \\times 10^{-15}i\\right) \\, C^{4.00000000000000} + \\left(46.1900001376122 + 9.76996261670138 \\times 10^{-15}i\\right) \\, C^{3.50000000000000} + \\left(2.91297825896584 - 3.88578058618805 \\times 10^{-16}i\\right) \\, C^{3.00000000000000} + \\left(11.79051960246635 + 2.664535259100376 \\times 10^{-15}i\\right) \\, C^{2.50000000000000} + \\left(2.34114512414732 + 4.16333634234434 \\times 10^{-16}i\\right) \\, C^{1.50000000000000} + 1.67409012816951 - 4.96564594998361 \\times 10^{-17}i\\right)} C^{13} + \\left(0.110080241567648 + 8.57620859094979 \\times 10^{-19}i\\right) \\, C^{14.0000000000000} + {\\left(0.0810937500000000 \\, C^{17.0000000000000} + 0.750117187500000 \\, C^{16.0000000000000} - 0.830884764476400 \\, C^{15.5000000000000} + \\left(6.52977011718750 + 4.44089209850063 \\times 10^{-16}i\\right) \\, C^{15.0000000000000} + 1.41641745949288 \\, C^{14.5000000000000} + 8.29061953125000 \\, C^{14.0000000000000} + \\left(3.86514253277862 - 1.33226762955019 \\times 10^{-15}i\\right) \\, C^{13.5000000000000} + \\left(13.4288046796875 + 3.55271367880050 \\times 10^{-15}i\\right) \\, C^{13.0000000000000} + \\left(9.21233511784777 - 2.77555756156289 \\times 10^{-16}i\\right) \\, C^{12.5000000000000} + \\left(12.9833543858877 - 4.44089209850063 \\times 10^{-16}i\\right) \\, C^{12.0000000000000} + \\left(82.5021369278454 - 1.77635683940025 \\times 10^{-15}i\\right) \\, C^{11.5000000000000} + \\left(32.6712634887316 - 9.99200722162641 \\times 10^{-16}i\\right) \\, C^{11.0000000000000} + \\left(67.4022599234109 - 5.27355936696949 \\times 10^{-15}i\\right) \\, C^{10.5000000000000} - \\left(20.0903551483243 - 6.49480469405717 \\times 10^{-15}i\\right) \\, C^{10.0000000000000} + \\left(12.0559496798038 - 5.55111512312578 \\times 10^{-17}i\\right) \\, C^{9.50000000000000} - \\left(56.4837901035567 - 2.34257058195908 \\times 10^{-14}i\\right) \\, C^{9.00000000000000} - \\left(3.837595924212335 - 1.110223024625157 \\times 10^{-16}i\\right) \\, C^{8.50000000000000} + \\left(23.74798100196343 + 6.883382752675971 \\times 10^{-15}i\\right) \\, C^{8.00000000000000} - \\left(11.06456286947304 + 2.817190924986335 \\times 10^{-15}i\\right) \\, C^{7.50000000000000} + \\left(31.10857434398780 - 3.996802888650563 \\times 10^{-15}i\\right) \\, C^{7.00000000000000} - \\left(25.57791569890270 - 2.756475603327146 \\times 10^{-15}i\\right) \\, C^{6.50000000000000} + \\left(6.50699521319410 - 7.77156117237610 \\times 10^{-16}i\\right) \\, C^{6.00000000000000} - \\left(0.537240230219864 - 3.48592682497539 \\times 10^{-15}i\\right) \\, C^{5.50000000000000} + \\left(1.62355278832776 - 6.66133814775094 \\times 10^{-16}i\\right) \\, C^{5.00000000000000} + \\left(6.94307091379616 + 4.43330268329323 \\times 10^{-16}i\\right) \\, C^{4.50000000000000} + \\left(0.585655115943397 - 1.66533453693773 \\times 10^{-16}i\\right) \\, C^{4.00000000000000} + \\left(1.480561751966027 - 1.387778780781446 \\times 10^{-17}i\\right) \\, C^{3.50000000000000} + \\left(0.0653403286953112 - 1.38777878078145 \\times 10^{-17}i\\right) \\, C^{3.00000000000000} + \\left(0.716309914125007 - 1.11022302462516 \\times 10^{-16}i\\right) \\, C^{2.50000000000000} + \\left(0.132791802047690 - 9.54097911787244 \\times 10^{-18}i\\right) \\, C^{1.50000000000000} + 0.0377474255356182 + 1.49755425074560 \\times 10^{-18}i\\right)} C^{\\frac{25}{2}} - \\left(0.01589553502321723 + 2.135184771570879 \\times 10^{-18}i\\right) \\, C^{13.5000000000000} + {\\left(7.75156250000000 \\, C^{19.5000000000000} - 33.7236544000000 \\, C^{19.0000000000000} + 73.3191406250000 \\, C^{18.5000000000000} - \\left(885.803879906116 - 7.10542735760100 \\times 10^{-15}i\\right) \\, C^{18.0000000000000} + 639.124486328125 \\, C^{17.5000000000000} - \\left(886.511580262397 - 2.34201547044677 \\times 10^{-13}i\\right) \\, C^{17.0000000000000} + 922.698951171875 \\, C^{16.5000000000000} + \\left(1782.900732535769 - 1.136868377216160 \\times 10^{-13}i\\right) \\, C^{16.0000000000000} + 1240.21991341087 \\, C^{15.5000000000000} + \\left(3454.82532615453 - 3.19744231092045 \\times 10^{-13}i\\right) \\, C^{15.0000000000000} - \\left(829.231923574896 - 1.42108547152020 \\times 10^{-14}i\\right) \\, C^{14.5000000000000} + \\left(5127.81342095441 - 2.54019028034236 \\times 10^{-13}i\\right) \\, C^{14.0000000000000} + \\left(3433.02069933923 - 4.01456645704457 \\times 10^{-13}i\\right) \\, C^{13.5000000000000} + \\left(5099.47503149483 - 4.97379915032070 \\times 10^{-13}i\\right) \\, C^{13.0000000000000} + \\left(5047.02638045347 - 9.16600129130529 \\times 10^{-13}i\\right) \\, C^{12.5000000000000} + \\left(2672.90632809947 - 7.99360577730113 \\times 10^{-15}i\\right) \\, C^{12.0000000000000} - \\left(591.020794776006 - 2.84217094304040 \\times 10^{-14}i\\right) \\, C^{11.5000000000000} + \\left(3046.57102342222 - 3.86357612569555 \\times 10^{-14}i\\right) \\, C^{11.0000000000000} + \\left(230.899897632420 + 8.08242361927114 \\times 10^{-14}i\\right) \\, C^{10.5000000000000} + \\left(2987.714673499186 - 1.161293283757914 \\times 10^{-13}i\\right) \\, C^{10.0000000000000} + \\left(1338.512430357976 - 1.065814103640150 \\times 10^{-14}i\\right) \\, C^{9.50000000000000} - \\left(2503.03284535443 + 2.10942374678780 \\times 10^{-14}i\\right) \\, C^{9.00000000000000} + \\left(553.894729474608 - 1.06581410364015 \\times 10^{-13}i\\right) \\, C^{8.50000000000000} - \\left(1768.33278717613 + 1.63757896132211 \\times 10^{-14}i\\right) \\, C^{8.00000000000000} + \\left(8.33111716793368 + 1.77635683940025 \\times 10^{-15}i\\right) \\, C^{7.50000000000000} + \\left(215.969406038907 + 9.21346332560802 \\times 10^{-14}i\\right) \\, C^{7.00000000000000} - \\left(576.859169375683 - 5.06261699229071 \\times 10^{-14}i\\right) \\, C^{6.50000000000000} + \\left(224.149912234017 - 1.41870022674073 \\times 10^{-14}i\\right) \\, C^{6.00000000000000} - \\left(194.745275224761 - 2.59792187762287 \\times 10^{-14}i\\right) \\, C^{5.50000000000000} + \\left(65.6548434734105 - 2.44249065417534 \\times 10^{-15}i\\right) \\, C^{5.00000000000000} + \\left(91.6524442954547 - 1.39749323224692 \\times 10^{-14}i\\right) \\, C^{4.50000000000000} + \\left(14.39581799278118 - 1.998401444325282 \\times 10^{-15}i\\right) \\, C^{4.00000000000000} + \\left(26.9065258185895 + 1.77635683940025 \\times 10^{-15}i\\right) \\, C^{3.50000000000000} + \\left(1.329220562320320 + 1.110223024625157 \\times 10^{-16}i\\right) \\, C^{3.00000000000000} + \\left(5.15656683927810 + 7.77156117237610 \\times 10^{-16}i\\right) \\, C^{2.50000000000000} + \\left(0.736817139580651 + 4.16333634234434 \\times 10^{-17}i\\right) \\, C^{1.50000000000000} + 0.388085903859996 - 3.44776290850390 \\times 10^{-17}i\\right)} C^{12} + \\left(0.01638337669872202 + 1.507685558888152 \\times 10^{-19}i\\right) \\, C^{13.0000000000000} + {\\left(0.247176864000000 \\, C^{18.0000000000000} + 0.681743868000000 \\, C^{17.0000000000000} - \\left(2.90640150548663 + 5.55111512312578 \\times 10^{-17}i\\right) \\, C^{16.0000000000000} - 1.00945747034608 \\, C^{15.5000000000000} + \\left(4.98793111110464 - 8.60422844084496 \\times 10^{-16}i\\right) \\, C^{15.0000000000000} - 8.91159857897945 \\, C^{14.5000000000000} + \\left(6.39033351242921 + 2.51534904016637 \\times 10^{-16}i\\right) \\, C^{14.0000000000000} - \\left(5.241173364957206 - 1.831867990631508 \\times 10^{-15}i\\right) \\, C^{13.5000000000000} + \\left(16.0219387996324 + 5.10702591327572 \\times 10^{-15}i\\right) \\, C^{13.0000000000000} - \\left(54.3551361966641 - 3.99680288865056 \\times 10^{-15}i\\right) \\, C^{12.5000000000000} + \\left(17.8134429964110 - 1.38777878078145 \\times 10^{-17}i\\right) \\, C^{12.0000000000000} - \\left(15.9909006934501 - 1.33920652345409 \\times 10^{-15}i\\right) \\, C^{11.5000000000000} + \\left(35.8551504331703 - 4.03496680512205 \\times 10^{-15}i\\right) \\, C^{11.0000000000000} + \\left(58.0726294893278 - 5.99520433297584 \\times 10^{-15}i\\right) \\, C^{10.5000000000000} + \\left(6.04836081525868 - 7.99555734121160 \\times 10^{-15}i\\right) \\, C^{10.0000000000000} + \\left(42.9382301931957 - 4.44089209850063 \\times 10^{-16}i\\right) \\, C^{9.50000000000000} - \\left(63.7189116939665 + 4.88541498921968 \\times 10^{-15}i\\right) \\, C^{9.00000000000000} + \\left(11.7352857959336 - 6.38378239159465 \\times 10^{-16}i\\right) \\, C^{8.50000000000000} - \\left(10.2461107715051 - 2.88636302359091 \\times 10^{-15}i\\right) \\, C^{8.00000000000000} - \\left(0.4921937991844731 + 1.332267629550188 \\times 10^{-15}i\\right) \\, C^{7.50000000000000} + \\left(18.26987250333285 + 2.331475127976407 \\times 10^{-15}i\\right) \\, C^{7.00000000000000} - \\left(14.06432001669249 + 2.081668171172168 \\times 10^{-15}i\\right) \\, C^{6.50000000000000} + \\left(6.58887402172161 + 4.44088998091826 \\times 10^{-16}i\\right) \\, C^{6.00000000000000} - \\left(4.87110339473882 + 9.00321484031963 \\times 10^{-16}i\\right) \\, C^{5.50000000000000} + 1.44753075292371 \\, C^{5.00000000000000} + \\left(2.13376169443631 + 6.65266453037106 \\times 10^{-16}i\\right) \\, C^{4.50000000000000} + \\left(0.332436133997114 - 1.38777878078145 \\times 10^{-17}i\\right) \\, C^{4.00000000000000} + \\left(0.776828559474640 + 1.11022302462516 \\times 10^{-16}i\\right) \\, C^{3.50000000000000} + \\left(0.03282492919987524 + 1.301042606982605 \\times 10^{-18}i\\right) \\, C^{3.00000000000000} + \\left(0.303620201633814 + 2.94902990916057 \\times 10^{-17}i\\right) \\, C^{2.50000000000000} + \\left(0.0502046405753882 - 1.51788304147971 \\times 10^{-18}i\\right) \\, C^{1.50000000000000} + 0.00929635779549032 + 4.06575814682064 \\times 10^{-20}i\\right)} C^{\\frac{23}{2}} - \\left(0.00279145035494429 + 1.25051510644542 \\times 10^{-19}i\\right) \\, C^{12.5000000000000} + {\\left(6 \\, C^{22.5000000000000} + 15.0000000000000 \\, C^{21.5000000000000} - \\left(98.7940899200000 - 1.11022302462516 \\times 10^{-16}i\\right) \\, C^{20.5000000000000} - \\left(219.406023240000 - 4.44089209850063 \\times 10^{-16}i\\right) \\, C^{19.5000000000000} + 80.3120818030400 \\, C^{19.0000000000000} - \\left(840.296159387540 - 4.44089209850063 \\times 10^{-16}i\\right) \\, C^{18.5000000000000} - \\left(244.416740077783 + 1.13686837721616 \\times 10^{-13}i\\right) \\, C^{18.0000000000000} - \\left(252.258348476295 - 4.92939022933570 \\times 10^{-14}i\\right) \\, C^{17.5000000000000} - \\left(3104.91466826497 - 8.65071903000114 \\times 10^{-14}i\\right) \\, C^{17.0000000000000} - \\left(256.654858605077 + 2.48689957516035 \\times 10^{-14}i\\right) \\, C^{16.5000000000000} - \\left(2651.20323015469 - 8.88178419700125 \\times 10^{-14}i\\right) \\, C^{16.0000000000000} + \\left(690.900074699972 - 5.06261699229071 \\times 10^{-13}i\\right) \\, C^{15.5000000000000} - \\left(1146.327016684545 + 3.996802888650563 \\times 10^{-15}i\\right) \\, C^{15.0000000000000} - \\left(941.821519643883 + 3.26405569239796 \\times 10^{-13}i\\right) \\, C^{14.5000000000000} + \\left(787.193061001402 - 1.22568621918617 \\times 10^{-13}i\\right) \\, C^{14.0000000000000} + \\left(350.691012596725 - 1.42663658664333 \\times 10^{-14}i\\right) \\, C^{13.5000000000000} + \\left(4005.19444985331 + 1.38444811170757 \\times 10^{-13}i\\right) \\, C^{13.0000000000000} + \\left(3322.83255556258 + 1.16823217766182 \\times 10^{-13}i\\right) \\, C^{12.5000000000000} + \\left(3544.372281435753 - 1.039168751049146 \\times 10^{-13}i\\right) \\, C^{12.0000000000000} - \\left(1038.305921140069 + 2.144118216307334 \\times 10^{-14}i\\right) \\, C^{11.5000000000000} + \\left(2843.882166669551 + 2.664535259100376 \\times 10^{-15}i\\right) \\, C^{11.0000000000000} - \\left(1047.706467015693 - 2.273667365493282 \\times 10^{-13}i\\right) \\, C^{10.5000000000000} + \\left(3194.96264731203 + 2.11608508493555 \\times 10^{-13}i\\right) \\, C^{10.0000000000000} + \\left(557.840065234365 + 7.99351904112733 \\times 10^{-14}i\\right) \\, C^{9.50000000000000} - \\left(407.6026408831473 - 2.087219286295294 \\times 10^{-14}i\\right) \\, C^{9.00000000000000} + \\left(441.6388667567088 - 1.776354128894819 \\times 10^{-14}i\\right) \\, C^{8.50000000000000} - \\left(1212.23899751620 - 9.79216707719388 \\times 10^{-14}i\\right) \\, C^{8.00000000000000} + \\left(117.8395729765263 - 1.421085640926790 \\times 10^{-14}i\\right) \\, C^{7.50000000000000} - \\left(164.866886696273 - 5.76760861292769 \\times 10^{-14}i\\right) \\, C^{7.00000000000000} - \\left(198.2398856418461 + 1.332267629550188 \\times 10^{-15}i\\right) \\, C^{6.50000000000000} + \\left(66.1865758007703 + 1.77891555652732 \\times 10^{-14}i\\right) \\, C^{6.00000000000000} - \\left(127.395170431555 - 7.43849426498855 \\times 10^{-15}i\\right) \\, C^{5.50000000000000} + \\left(29.14773418856715 + 1.831867990631508 \\times 10^{-15}i\\right) \\, C^{5.00000000000000} + \\left(11.2474208852821 + 7.16093850883226 \\times 10^{-15}i\\right) \\, C^{4.50000000000000} + \\left(6.07300719604298 + 6.10622663543836 \\times 10^{-16}i\\right) \\, C^{4.00000000000000} + \\left(9.16124172555625 + 8.88178419700125 \\times 10^{-16}i\\right) \\, C^{3.50000000000000} + \\left(0.517095875707220 - 5.55111512312578 \\times 10^{-17}i\\right) \\, C^{3.00000000000000} + \\left(1.814962382749580 + 1.665334536937735 \\times 10^{-16}i\\right) \\, C^{2.50000000000000} + \\left(0.205754395447766 - 5.20417042793042 \\times 10^{-18}i\\right) \\, C^{1.50000000000000} + 0.0738454344212925 - 4.66206934168767 \\times 10^{-18}i\\right)} C^{11} + \\left(0.00213466124695152 - 1.01776302568525 \\times 10^{-19}i\\right) \\, C^{12.0000000000000} + {\\left(0.236070383577600 \\, C^{18.0000000000000} + \\left(6.80309086706014 - 2.22044604925031 \\times 10^{-16}i\\right) \\, C^{17.0000000000000} + \\left(11.23739646458775 - 1.054711873393899 \\times 10^{-15}i\\right) \\, C^{16.0000000000000} - 0.282818311432852 \\, C^{15.5000000000000} + \\left(19.42622383403556 + 1.776356839400250 \\times 10^{-15}i\\right) \\, C^{15.0000000000000} - \\left(6.77500609662994 - 2.22044604925031 \\times 10^{-16}i\\right) \\, C^{14.5000000000000} + \\left(20.1451939927323 + 2.22911966663020 \\times 10^{-16}i\\right) \\, C^{14.0000000000000} + \\left(8.74726111641871 - 1.11022302462516 \\times 10^{-15}i\\right) \\, C^{13.5000000000000} + \\left(23.4690087716594 + 4.08006961549745 \\times 10^{-15}i\\right) \\, C^{13.0000000000000} - \\left(23.0818960280519 + 6.88338275267597 \\times 10^{-15}i\\right) \\, C^{12.5000000000000} + \\left(17.9841190983782 - 7.11930514540882 \\times 10^{-15}i\\right) \\, C^{12.0000000000000} - \\left(60.2266869496307 - 6.55031584528842 \\times 10^{-15}i\\right) \\, C^{11.5000000000000} + \\left(28.6550334507848 - 2.40042360988291 \\times 10^{-15}i\\right) \\, C^{11.0000000000000} - \\left(7.60119334597970 - 8.04911692853238 \\times 10^{-15}i\\right) \\, C^{10.5000000000000} + \\left(28.3545337104519 - 4.48989803669697 \\times 10^{-15}i\\right) \\, C^{10.0000000000000} + \\left(18.63990685014480 + 1.110223024625157 \\times 10^{-16}i\\right) \\, C^{9.50000000000000} - \\left(28.3317852902349 + 1.22185248030426 \\times 10^{-14}i\\right) \\, C^{9.00000000000000} + \\left(9.60393194047703 - 6.31439345255558 \\times 10^{-16}i\\right) \\, C^{8.50000000000000} - \\left(15.69425513624395 + 1.334002353026165 \\times 10^{-15}i\\right) \\, C^{8.00000000000000} + \\left(2.73118757198120 + 3.33066907387547 \\times 10^{-16}i\\right) \\, C^{7.50000000000000} + \\left(5.57968273269675 + 1.13797860024079 \\times 10^{-15}i\\right) \\, C^{7.00000000000000} - \\left(4.42503809828856 + 4.16333634234434 \\times 10^{-17}i\\right) \\, C^{6.50000000000000} + 3.390404290429603 \\, C^{6.00000000000000} - \\left(3.20654855898884 + 4.54497550705924 \\times 10^{-16}i\\right) \\, C^{5.50000000000000} + \\left(0.793520424401548 + 3.72965547335013 \\times 10^{-17}i\\right) \\, C^{5.00000000000000} + \\left(0.116063202156755 - 3.33825848908287 \\times 10^{-16}i\\right) \\, C^{4.50000000000000} + \\left(0.148044764058866 - 3.46944695195361 \\times 10^{-18}i\\right) \\, C^{4.00000000000000} + \\left(0.221191480901507 - 5.55111512312578 \\times 10^{-17}i\\right) \\, C^{3.50000000000000} + \\left(0.0131352648581378 + 6.50521303491303 \\times 10^{-19}i\\right) \\, C^{3.00000000000000} + \\left(0.0968024312251237 - 8.67361737988403 \\times 10^{-19}i\\right) \\, C^{2.50000000000000} + \\left(0.0152967261957284 + 5.14996031930615 \\times 10^{-19}i\\right) \\, C^{1.50000000000000} + 0.00191732233662494 - 6.94567016748526 \\times 10^{-20}i\\right)} C^{\\frac{21}{2}} - \\left(0.000389617962672295 + 3.91028955069130 \\times 10^{-20}i\\right) \\, C^{11.5000000000000} + {\\left(5.73040000000000 \\, C^{22.5000000000000} + \\left(162.321000000000 - 3.55271367880050 \\times 10^{-15}i\\right) \\, C^{21.5000000000000} + \\left(271.307454187072 - 5.32907051820075 \\times 10^{-15}i\\right) \\, C^{20.5000000000000} + \\left(240.1984128219196 - 3.663735981263017 \\times 10^{-14}i\\right) \\, C^{19.5000000000000} + 92.5767376631167 \\, C^{19.0000000000000} - \\left(545.920623120853 + 4.81004125418849 \\times 10^{-14}i\\right) \\, C^{18.5000000000000} + \\left(1005.152016395961 - 1.776356839400251 \\times 10^{-14}i\\right) \\, C^{18.0000000000000} - \\left(91.2576186838928 + 1.01030295240889 \\times 10^{-12}i\\right) \\, C^{17.5000000000000} - \\left(516.718951189677 + 1.13706353360721 \\times 10^{-13}i\\right) \\, C^{17.0000000000000} - \\left(523.338773235469 + 4.75952610656805 \\times 10^{-13}i\\right) \\, C^{16.5000000000000} - \\left(1999.17811055874 - 2.59348098552437 \\times 10^{-13}i\\right) \\, C^{16.0000000000000} + \\left(590.808688740186 + 4.26311763668252 \\times 10^{-13}i\\right) \\, C^{15.5000000000000} - \\left(1551.643185395676 - 3.796962744218035 \\times 10^{-13}i\\right) \\, C^{15.0000000000000} - \\left(506.262899432964 - 7.28306304154103 \\times 10^{-14}i\\right) \\, C^{14.5000000000000} - \\left(1842.40979126756 + 1.22568621918617 \\times 10^{-13}i\\right) \\, C^{14.0000000000000} - \\left(462.643825783175 - 1.51989532071184 \\times 10^{-13}i\\right) \\, C^{13.5000000000000} + \\left(659.690886197518 - 2.43471909300297 \\times 10^{-13}i\\right) \\, C^{13.0000000000000} + \\left(3285.01874834388 - 5.92893789619353 \\times 10^{-14}i\\right) \\, C^{12.5000000000000} + \\left(1853.87064180365 + 3.93018950717305 \\times 10^{-14}i\\right) \\, C^{12.0000000000000} + \\left(905.986319619969 + 1.28203003768590 \\times 10^{-13}i\\right) \\, C^{11.5000000000000} + \\left(1701.384483486212 + 1.740829702612246 \\times 10^{-13}i\\right) \\, C^{11.0000000000000} - \\left(584.968502168780 + 3.55618312575245 \\times 10^{-15}i\\right) \\, C^{10.5000000000000} + \\left(2132.457383260366 + 2.847722058163526 \\times 10^{-13}i\\right) \\, C^{10.0000000000000} + \\left(39.0647379603872 + 6.21776935494367 \\times 10^{-14}i\\right) \\, C^{9.50000000000000} + \\left(630.508303621916 - 6.60582699651968 \\times 10^{-14}i\\right) \\, C^{9.00000000000000} + \\left(173.738302282920 + 2.35367281220533 \\times 10^{-14}i\\right) \\, C^{8.50000000000000} - \\left(358.001487116966 + 7.06656955173912 \\times 10^{-14}i\\right) \\, C^{8.00000000000000} + \\left(71.4688059234228 + 5.10705301833003 \\times 10^{-15}i\\right) \\, C^{7.50000000000000} - \\left(141.3971744636042 - 2.318978342685796 \\times 10^{-14}i\\right) \\, C^{7.00000000000000} - \\left(42.2742605512175 - 5.96744875736022 \\times 10^{-16}i\\right) \\, C^{6.50000000000000} - \\left(1.10636502725308 - 7.11063152802893 \\times 10^{-15}i\\right) \\, C^{6.00000000000000} - \\left(47.7625853659693 + 3.33066907387547 \\times 10^{-15}i\\right) \\, C^{5.50000000000000} + \\left(7.55267236594488 + 9.99200722162641 \\times 10^{-16}i\\right) \\, C^{5.00000000000000} - \\left(3.96186520057154 - 5.20417042793042 \\times 10^{-18}i\\right) \\, C^{4.50000000000000} + \\left(1.86876585161470 + 5.55111512312578 \\times 10^{-17}i\\right) \\, C^{4.00000000000000} + \\left(1.78566183462993 - 6.66133814775094 \\times 10^{-16}i\\right) \\, C^{3.50000000000000} + \\left(0.158769898079930 + 6.07153216591882 \\times 10^{-18}i\\right) \\, C^{3.00000000000000} + \\left(0.456821388885453 + 2.77555756156289 \\times 10^{-17}i\\right) \\, C^{2.50000000000000} + \\left(0.0473061463782522 - 1.73472347597681 \\times 10^{-18}i\\right) \\, C^{1.50000000000000} + 0.0114655091792679 - 8.13151629364128 \\times 10^{-20}i\\right)} C^{10} + \\left(0.000269156207642302 - 6.61082745552380 \\times 10^{-21}i\\right) \\, C^{11.0000000000000} + {\\left(-\\left(6.93889390390723 \\times 10^{-18}i\\right) \\, C^{20.5000000000000} + \\left(0.193106925000000 - 6.59194920871187 \\times 10^{-17}i\\right) \\, C^{19.5000000000000} + \\left(1.82652643125000 - 5.58728410759990 \\times 10^{-16}i\\right) \\, C^{18.5000000000000} - 0.715718206232948 \\, C^{18.0000000000000} + \\left(15.9218692034063 - 7.09397818265955 \\times 10^{-16}i\\right) \\, C^{17.5000000000000} + \\left(0.2458039918573192 + 1.843143693225357 \\times 10^{-18}i\\right) \\, C^{17.0000000000000} + \\left(22.9862762715938 - 1.14905342185612 \\times 10^{-15}i\\right) \\, C^{16.5000000000000} + \\left(17.5297731815848 + 1.11022302462516 \\times 10^{-16}i\\right) \\, C^{16.0000000000000} + \\left(35.9978114199952 + 4.32671953820574 \\times 10^{-15}i\\right) \\, C^{15.5000000000000} + \\left(36.3222958688259 - 7.76722436368615 \\times 10^{-16}i\\right) \\, C^{15.0000000000000} + \\left(28.4023966752411 - 1.20112145923779 \\times 10^{-15}i\\right) \\, C^{14.5000000000000} + \\left(44.7332833755870 - 2.22044604925031 \\times 10^{-16}i\\right) \\, C^{14.0000000000000} + \\left(31.0719397324684 - 3.12128101143116 \\times 10^{-15}i\\right) \\, C^{13.5000000000000} + \\left(52.1548809436672 - 3.27862736959617 \\times 10^{-15}i\\right) \\, C^{13.0000000000000} + \\left(17.61849184516992 - 1.712488373328824 \\times 10^{-15}i\\right) \\, C^{12.5000000000000} + \\left(34.19037835868208 + 1.387778780781446 \\times 10^{-17}i\\right) \\, C^{12.0000000000000} - \\left(26.2669607571852 - 8.81239525796218 \\times 10^{-16}i\\right) \\, C^{11.5000000000000} + \\left(23.7851857534109 + 5.55805401702969 \\times 10^{-15}i\\right) \\, C^{11.0000000000000} - \\left(5.17002470126607 - 3.74700270810990 \\times 10^{-15}i\\right) \\, C^{10.5000000000000} + \\left(24.2180223703322 + 3.79882757195471 \\times 10^{-15}i\\right) \\, C^{10.0000000000000} + \\left(12.90443123762210 + 1.498801083243961 \\times 10^{-15}i\\right) \\, C^{9.50000000000000} - \\left(6.08320502119475 - 1.92987986702420 \\times 10^{-17}i\\right) \\, C^{9.00000000000000} + \\left(7.25830321725421 + 2.77555756156289 \\times 10^{-16}i\\right) \\, C^{8.50000000000000} - \\left(8.47479892733213 + 3.63153517674020 \\times 10^{-16}i\\right) \\, C^{8.00000000000000} + \\left(2.23289550188858 + 9.02056207507940 \\times 10^{-17}i\\right) \\, C^{7.50000000000000} + \\left(1.53514395060233 + 1.38832088186769 \\times 10^{-16}i\\right) \\, C^{7.00000000000000} - \\left(0.677803749061439 - 3.81639164714898 \\times 10^{-17}i\\right) \\, C^{6.50000000000000} + \\left(1.61234684239667 + 1.94287335243508 \\times 10^{-16}i\\right) \\, C^{6.00000000000000} - \\left(1.07648757528455 + 3.46944695195361 \\times 10^{-18}i\\right) \\, C^{5.50000000000000} + \\left(0.397916164696717 + 2.08166817117217 \\times 10^{-17}i\\right) \\, C^{5.00000000000000} - \\left(0.143207750949621 + 5.42101086242752 \\times 10^{-19}i\\right) \\, C^{4.50000000000000} + \\left(0.0607818908582914 - 8.67361737988403 \\times 10^{-19}i\\right) \\, C^{4.00000000000000} + \\left(0.0307236874132066 + 6.93889390390723 \\times 10^{-18}i\\right) \\, C^{3.50000000000000} + \\left(0.00461188499478552 - 3.25260651745651 \\times 10^{-19}i\\right) \\, C^{3.00000000000000} + \\left(0.0220312122329144 - 8.67361737988403 \\times 10^{-19}i\\right) \\, C^{2.50000000000000} + \\left(0.003582021619537652 - 1.490777987167569 \\times 10^{-19}i\\right) \\, C^{1.50000000000000} + 0.000319822476251230 + 1.65171424714589 \\times 10^{-20}i\\right)} C^{\\frac{19}{2}} - \\left(0.0000436479775158422 + 4.19049698319364 \\times 10^{-21}i\\right) \\, C^{10.5000000000000} + {\\left(3.12500000000000 \\, C^{24.0000000000000} + 30.4687500000000 \\, C^{23.0000000000000} - 17.3734271400000 \\, C^{22.5000000000000} + 275.604289125000 \\, C^{22.0000000000000} - 4.03231785000000 \\, C^{21.5000000000000} + 537.255095968750 \\, C^{21.0000000000000} + \\left(345.3888658987814 + 1.065814103640150 \\times 10^{-14}i\\right) \\, C^{20.5000000000000} + \\left(1480.223710618594 - 1.145750161413162 \\times 10^{-13}i\\right) \\, C^{20.0000000000000} + \\left(449.406254850488 - 7.23032744787133 \\times 10^{-14}i\\right) \\, C^{19.5000000000000} + \\left(2026.51766847036 - 5.68434188608080 \\times 10^{-14}i\\right) \\, C^{19.0000000000000} - \\left(122.9631965303672 + 2.135513987866489 \\times 10^{-13}i\\right) \\, C^{18.5000000000000} + \\left(3352.28329076565 + 4.99156271871470 \\times 10^{-13}i\\right) \\, C^{18.0000000000000} + \\left(698.207892362784 + 2.24709140184132 \\times 10^{-13}i\\right) \\, C^{17.5000000000000} + \\left(3053.57623459124 + 4.99864039049669 \\times 10^{-13}i\\right) \\, C^{17.0000000000000} - \\left(26.1445627741828 + 9.03267044494172 \\times 10^{-13}i\\right) \\, C^{16.5000000000000} + \\left(1382.30963137112 + 1.02140518265514 \\times 10^{-13}i\\right) \\, C^{16.0000000000000} + \\left(1045.860040942843 - 1.770916746579587 \\times 10^{-12}i\\right) \\, C^{15.5000000000000} + \\left(1135.743179655874 - 1.658673198789984 \\times 10^{-13}i\\right) \\, C^{15.0000000000000} + \\left(362.751297532232 - 9.00779451029621 \\times 10^{-13}i\\right) \\, C^{14.5000000000000} - \\left(107.346080143184 + 2.20712337295481 \\times 10^{-13}i\\right) \\, C^{14.0000000000000} - \\left(1116.80469980103 + 3.05477865225612 \\times 10^{-13}i\\right) \\, C^{13.5000000000000} + \\left(574.750056374270 - 1.58095758706622 \\times 10^{-13}i\\right) \\, C^{13.0000000000000} + \\left(1119.244826846746 + 2.746136651410325 \\times 10^{-13}i\\right) \\, C^{12.5000000000000} + \\left(1163.43393480315 + 4.67403893367191 \\times 10^{-14}i\\right) \\, C^{12.0000000000000} + \\left(1042.658120635181 - 1.268048166469526 \\times 10^{-13}i\\right) \\, C^{11.5000000000000} + \\left(913.649081977087 + 4.04121180963557 \\times 10^{-14}i\\right) \\, C^{11.0000000000000} + \\left(84.1183288384993 - 2.13308537500012 \\times 10^{-13}i\\right) \\, C^{10.5000000000000} + \\left(925.914735527458 + 2.56045185054177 \\times 10^{-14}i\\right) \\, C^{10.0000000000000} + \\left(77.3605789541783 - 7.23891432907742 \\times 10^{-14}i\\right) \\, C^{9.50000000000000} + \\left(493.317421702206 - 7.60502771868232 \\times 10^{-15}i\\right) \\, C^{9.00000000000000} + \\left(90.6790091918723 + 5.77359340891981 \\times 10^{-15}i\\right) \\, C^{8.50000000000000} + \\left(5.83637807822299 - 2.63677968348475 \\times 10^{-14}i\\right) \\, C^{8.00000000000000} + \\left(36.0954909342994 + 4.44089887476420 \\times 10^{-15}i\\right) \\, C^{7.50000000000000} - \\left(39.0815836750191 + 7.97972798949331 \\times 10^{-15}i\\right) \\, C^{7.00000000000000} - \\left(2.96101718987815 - 2.77555756156289 \\times 10^{-16}i\\right) \\, C^{6.50000000000000} - \\left(5.61677628192572 - 1.43635103810880 \\times 10^{-15}i\\right) \\, C^{6.00000000000000} - \\left(11.6076757846520 - 5.55111512312578 \\times 10^{-16}i\\right) \\, C^{5.50000000000000} + \\left(1.05482298068612 + 2.49800180540660 \\times 10^{-16}i\\right) \\, C^{5.00000000000000} - \\left(2.29732045983901 - 3.46944695195361 \\times 10^{-18}i\\right) \\, C^{4.50000000000000} + \\left(0.403501040097127 + 2.77555756156289 \\times 10^{-17}i\\right) \\, C^{4.00000000000000} + 0.1464084537407664 \\, C^{3.50000000000000} + \\left(0.0366589534457136 + 1.95156391047391 \\times 10^{-18}i\\right) \\, C^{3.00000000000000} + \\left(0.0793211849008153 + 6.93889390390723 \\times 10^{-18}i\\right) \\, C^{2.50000000000000} + \\left(0.00842546242860904 - 4.33680868994202 \\times 10^{-19}i\\right) \\, C^{1.50000000000000} + 0.00144423314759565 + 2.71050543121376 \\times 10^{-20}i\\right)} C^{9} + \\left(0.00003407105079500142 + 1.230844751478905 \\times 10^{-21}i\\right) \\, C^{10.0000000000000} + {\\left(-\\left(0.128089200000000 + 1.38777878078145 \\times 10^{-17}i\\right) \\, C^{20.5000000000000} - \\left(0.936857807304000 - 1.38777878078145 \\times 10^{-17}i\\right) \\, C^{19.5000000000000} - \\left(7.96379232060600 + 4.42354486374086 \\times 10^{-16}i\\right) \\, C^{18.5000000000000} - 0.643208929500928 \\, C^{18.0000000000000} + \\left(7.393254641465799 - 1.332267629550188 \\times 10^{-15}i\\right) \\, C^{17.5000000000000} - \\left(8.51961769382434 - 2.07082614944731 \\times 10^{-16}i\\right) \\, C^{17.0000000000000} + \\left(8.68229312656949 - 7.54951656745106 \\times 10^{-15}i\\right) \\, C^{16.5000000000000} - \\left(3.99980373252762 - 3.67067487516692 \\times 10^{-15}i\\right) \\, C^{16.0000000000000} + \\left(28.3868097781179 - 5.77315972805081 \\times 10^{-15}i\\right) \\, C^{15.5000000000000} + \\left(13.55708531982802 + 1.193706591906540 \\times 10^{-15}i\\right) \\, C^{15.0000000000000} + \\left(28.3559234207895 - 4.44089209850063 \\times 10^{-16}i\\right) \\, C^{14.5000000000000} + \\left(22.4849995180171 - 6.55942314353730 \\times 10^{-16}i\\right) \\, C^{14.0000000000000} + \\left(29.09006816209921 - 3.330669073875470 \\times 10^{-15}i\\right) \\, C^{13.5000000000000} + \\left(38.9392437666845 - 6.84174938925253 \\times 10^{-15}i\\right) \\, C^{13.0000000000000} + \\left(23.6962431153249 - 2.55351295663786 \\times 10^{-15}i\\right) \\, C^{12.5000000000000} + \\left(31.6695725547394 - 5.68468883077600 \\times 10^{-15}i\\right) \\, C^{12.0000000000000} - \\left(24.0238520351162 + 6.69603261727047 \\times 10^{-16}i\\right) \\, C^{11.5000000000000} + \\left(18.0456309596344 + 9.64506252643105 \\times 10^{-16}i\\right) \\, C^{11.0000000000000} - \\left(20.0570934135259 + 8.39606162372775 \\times 10^{-16}i\\right) \\, C^{10.5000000000000} + \\left(13.16157253907716 + 2.438153845485402 \\times 10^{-15}i\\right) \\, C^{10.0000000000000} + \\left(1.51939326806161 + 3.05311331771918 \\times 10^{-16}i\\right) \\, C^{9.50000000000000} - \\left(0.1034007358937243 - 1.110223024625157 \\times 10^{-16}i\\right) \\, C^{9.00000000000000} + \\left(4.17915467406943 + 5.00034041950315 \\times 10^{-16}i\\right) \\, C^{8.50000000000000} - \\left(4.23532304332956 + 2.22911966663020 \\times 10^{-16}i\\right) \\, C^{8.00000000000000} + \\left(1.54190210995753 - 4.85722573273506 \\times 10^{-17}i\\right) \\, C^{7.50000000000000} - \\left(0.286889784375478 - 5.52943107967607 \\times 10^{-17}i\\right) \\, C^{7.00000000000000} + \\left(0.1290558173535730 - 6.505213034913027 \\times 10^{-18}i\\right) \\, C^{6.50000000000000} + \\left(0.495258350079420 + 8.32599505833087 \\times 10^{-17}i\\right) \\, C^{6.00000000000000} - \\left(0.2169481108196110 + 1.127570259384925 \\times 10^{-17}i\\right) \\, C^{5.50000000000000} + \\left(0.156070871751509 - 5.42101086242752 \\times 10^{-18}i\\right) \\, C^{5.00000000000000} - \\left(0.0558398603877620 - 2.43945488809238 \\times 10^{-19}i\\right) \\, C^{4.50000000000000} + \\left(0.0227992299785387 - 4.33680868994202 \\times 10^{-19}i\\right) \\, C^{4.00000000000000} + 0.000298436966051250 \\, C^{3.50000000000000} + \\left(0.001521811901466661 - 1.355252715606880 \\times 10^{-20}i\\right) \\, C^{3.00000000000000} + \\left(0.00363137491598862 + 2.16840434497101 \\times 10^{-19}i\\right) \\, C^{2.50000000000000} + \\left(0.000635647594753354 + 2.71050543121376 \\times 10^{-20}i\\right) \\, C^{1.50000000000000} + 0.0000419292146747170 + 9.52912065661088 \\times 10^{-22}i\\right)} C^{\\frac{17}{2}} - \\left(4.40598798950901 \\times 10^{-6} + 6.01360305326051 \\times 10^{-22}i\\right) \\, C^{9.50000000000000} + {\\left(\\left(4.53100000000000 + 8.88178419700125 \\times 10^{-16}i\\right) \\, C^{24.0000000000000} + \\left(31.93350200000000 + 1.465494392505207 \\times 10^{-14}i\\right) \\, C^{23.0000000000000} - 15.6133285071760 \\, C^{22.5000000000000} + \\left(280.734184888120 + 8.60422844084496 \\times 10^{-14}i\\right) \\, C^{22.0000000000000} - \\left(214.427637531990 + 1.42108547152020 \\times 10^{-14}i\\right) \\, C^{21.5000000000000} - \\left(259.6765094917503 + 1.982858321980530 \\times 10^{-13}i\\right) \\, C^{21.0000000000000} - \\left(221.225243748978 - 4.16333634234434 \\times 10^{-14}i\\right) \\, C^{20.5000000000000} + \\left(434.598100638482 - 4.26325641456060 \\times 10^{-14}i\\right) \\, C^{20.0000000000000} - \\left(336.955913325788 - 9.81367764829599 \\times 10^{-14}i\\right) \\, C^{19.5000000000000} + \\left(244.470491222097 + 3.33955085807247 \\times 10^{-13}i\\right) \\, C^{19.0000000000000} - \\left(1348.436580812988 + 2.121774977936752 \\times 10^{-13}i\\right) \\, C^{18.5000000000000} + \\left(1576.51602430347 + 4.48086012738713 \\times 10^{-13}i\\right) \\, C^{18.0000000000000} - \\left(729.467934133158 + 5.25357535252624 \\times 10^{-13}i\\right) \\, C^{17.5000000000000} + \\left(2151.01470111575 + 6.04096633827211 \\times 10^{-13}i\\right) \\, C^{17.0000000000000} - \\left(1445.93002088651 - 2.64687577411493 \\times 10^{-13}i\\right) \\, C^{16.5000000000000} + \\left(922.911406422830 + 1.81188397618826 \\times 10^{-13}i\\right) \\, C^{16.0000000000000} - \\left(515.208681437025 + 5.84393644587067 \\times 10^{-14}i\\right) \\, C^{15.5000000000000} + \\left(653.286572130830 - 1.77635683940025 \\times 10^{-14}i\\right) \\, C^{15.0000000000000} - \\left(204.853012578086 + 1.80742573685499 \\times 10^{-13}i\\right) \\, C^{14.5000000000000} - \\left(570.251912829139 - 3.90798504668055 \\times 10^{-14}i\\right) \\, C^{14.0000000000000} - \\left(1040.84703390198 + 4.65849581132716 \\times 10^{-13}i\\right) \\, C^{13.5000000000000} - \\left(427.5183432464617 - 1.918742942308427 \\times 10^{-13}i\\right) \\, C^{13.0000000000000} - \\left(384.242463363580 + 7.63833440942108 \\times 10^{-14}i\\right) \\, C^{12.5000000000000} + \\left(300.457123598254 + 2.17048601314218 \\times 10^{-14}i\\right) \\, C^{12.0000000000000} + \\left(104.608254411516 - 1.97550309444239 \\times 10^{-14}i\\right) \\, C^{11.5000000000000} + \\left(436.700418032922 + 8.73190408867686 \\times 10^{-14}i\\right) \\, C^{11.0000000000000} - \\left(30.7811440378724 + 5.15004705547994 \\times 10^{-14}i\\right) \\, C^{10.5000000000000} + \\left(354.173907318482 + 2.64163690921748 \\times 10^{-14}i\\right) \\, C^{10.0000000000000} + \\left(2.23131861154235 - 2.39842867788553 \\times 10^{-14}i\\right) \\, C^{9.50000000000000} + \\left(209.8541136859031 + 1.576516694967722 \\times 10^{-14}i\\right) \\, C^{9.00000000000000} + \\left(28.63746901487783 - 2.664535259100376 \\times 10^{-15}i\\right) \\, C^{8.50000000000000} + \\left(44.5496158746722 - 2.13024042849952 \\times 10^{-15}i\\right) \\, C^{8.00000000000000} + \\left(13.3937543800262 - 8.74300631892311 \\times 10^{-16}i\\right) \\, C^{7.50000000000000} - \\left(0.887861887411162 + 1.65145674912992 \\times 10^{-15}i\\right) \\, C^{7.00000000000000} + \\left(1.51152327849625 - 6.03683769639929 \\times 10^{-16}i\\right) \\, C^{6.50000000000000} - \\left(1.049033796674331 + 3.324163860840557 \\times 10^{-16}i\\right) \\, C^{6.00000000000000} - \\left(1.886162645129352 - 1.283695372222837 \\times 10^{-16}i\\right) \\, C^{5.50000000000000} + \\left(0.104358600224381 + 6.93889390390723 \\times 10^{-18}i\\right) \\, C^{5.00000000000000} - \\left(0.577479970369328 - 6.50521303491303 \\times 10^{-19}i\\right) \\, C^{4.50000000000000} + \\left(0.0654592054881092 + 3.46944695195361 \\times 10^{-18}i\\right) \\, C^{4.00000000000000} - \\left(0.0181359132068952 + 2.77555756156289 \\times 10^{-17}i\\right) \\, C^{3.50000000000000} + 0.00640422337037766 \\, C^{3.00000000000000} + 0.00921964709945780 \\, C^{2.50000000000000} + \\left(0.001126686700791644 - 1.626303258728257 \\times 10^{-19}i\\right) \\, C^{1.50000000000000} + 0.000146694420732908 + 5.92923063078010 \\times 10^{-21}i\\right)} C^{8} + \\left(3.88963778318450 \\times 10^{-6} - 1.77843831698901 \\times 10^{-22}i\\right) \\, C^{9.00000000000000} + {\\left(-\\left(0.180425226432000 + 1.24683249835833 \\times 10^{-18}i\\right) \\, C^{20.5000000000000} - 1.46466089988758 \\, C^{19.5000000000000} - 12.58933567947748 \\, C^{18.5000000000000} - 0.0708499673973251 \\, C^{18.0000000000000} - 1.54231745532578 \\, C^{17.5000000000000} - \\left(4.91717145767602 + 4.37251959899826 \\times 10^{-16}i\\right) \\, C^{17.0000000000000} - \\left(5.03154352785113 - 7.10542735760100 \\times 10^{-15}i\\right) \\, C^{16.5000000000000} - \\left(8.81238912437899 - 4.64905891561784 \\times 10^{-16}i\\right) \\, C^{16.0000000000000} + \\left(12.79218563509308 - 6.210310043996969 \\times 10^{-15}i\\right) \\, C^{15.5000000000000} - \\left(0.244360876037938 - 1.59464455529168 \\times 10^{-15}i\\right) \\, C^{15.0000000000000} + \\left(17.9030407913419 - 9.60342916300760 \\times 10^{-15}i\\right) \\, C^{14.5000000000000} + \\left(3.30258249171412 + 2.74736830507827 \\times 10^{-16}i\\right) \\, C^{14.0000000000000} + \\left(20.0618922780924 - 4.17027523624824 \\times 10^{-15}i\\right) \\, C^{13.5000000000000} + \\left(15.28968104688811 - 3.538835890992686 \\times 10^{-15}i\\right) \\, C^{13.0000000000000} + \\left(29.7310968371445 + 4.44089209850063 \\times 10^{-16}i\\right) \\, C^{12.5000000000000} + \\left(16.6837549561728 + 7.24247051220317 \\times 10^{-16}i\\right) \\, C^{12.0000000000000} + \\left(2.58246027590795 + 1.33400235302616 \\times 10^{-15}i\\right) \\, C^{11.5000000000000} + \\left(11.0464850629418 + 5.65086172299445 \\times 10^{-16}i\\right) \\, C^{11.0000000000000} - \\left(12.6282972607381 + 6.80011602582908 \\times 10^{-16}i\\right) \\, C^{10.5000000000000} + \\left(6.812289633718351 - 1.127570259384925 \\times 10^{-16}i\\right) \\, C^{10.0000000000000} - \\left(4.87122967188751 + 4.02455846426619 \\times 10^{-16}i\\right) \\, C^{9.50000000000000} + \\left(1.528793890633238 + 3.530162273612802 \\times 10^{-16}i\\right) \\, C^{9.00000000000000} + \\left(0.0678151986450981 - 1.41271543074861 \\times 10^{-16}i\\right) \\, C^{8.50000000000000} - \\left(1.22600390211418 - 8.13151629364128 \\times 10^{-17}i\\right) \\, C^{8.00000000000000} + \\left(0.409878845577522 - 5.20417042793042 \\times 10^{-18}i\\right) \\, C^{7.50000000000000} - \\left(0.383706506181018 - 1.24574829618584 \\times 10^{-16}i\\right) \\, C^{7.00000000000000} + \\left(0.0894206549979105 - 6.93889390390723 \\times 10^{-18}i\\right) \\, C^{6.50000000000000} + \\left(0.0595587030052463 + 1.38743996760254 \\times 10^{-17}i\\right) \\, C^{6.00000000000000} - \\left(0.02668014962712625 + 2.764715539838036 \\times 10^{-18}i\\right) \\, C^{5.50000000000000} + \\left(0.0371761071429365 - 2.60208521396521 \\times 10^{-18}i\\right) \\, C^{5.00000000000000} - \\left(0.01093681278579007 - 1.694065894508601 \\times 10^{-20}i\\right) \\, C^{4.50000000000000} + \\left(0.00606873510050893 - 2.16840434497101 \\times 10^{-19}i\\right) \\, C^{4.00000000000000} - \\left(0.000574943996989538 - 2.16840434497101 \\times 10^{-19}i\\right) \\, C^{3.50000000000000} + \\left(0.000393541100619491 - 1.69406589450860 \\times 10^{-20}i\\right) \\, C^{3.00000000000000} + 0.0004607209706807511 \\, C^{2.50000000000000} + \\left(0.0000863947751073517 - 5.92923063078010 \\times 10^{-21}i\\right) \\, C^{1.50000000000000} + 4.23352789130071 \\times 10^{-6} + 9.26442286059391 \\times 10^{-23}i\\right)} C^{\\frac{15}{2}} - \\left(4.90407994452104 \\times 10^{-7} + 3.97046694025453 \\times 10^{-23}i\\right) \\, C^{8.50000000000000} + {\\left(\\left(12.15699791125000 + 1.776356839400250 \\times 10^{-15}i\\right) \\, C^{24.0000000000000} + \\left(101.2843028846075 + 2.975397705995419 \\times 10^{-14}i\\right) \\, C^{23.0000000000000} - 1.719820364676002 \\, C^{22.5000000000000} + \\left(880.742017647173 + 1.69891878343265 \\times 10^{-13}i\\right) \\, C^{22.0000000000000} - 121.718089511677 \\, C^{21.5000000000000} + \\left(395.139679324585 - 5.72875080706581 \\times 10^{-14}i\\right) \\, C^{21.0000000000000} - \\left(279.480255869023 - 1.32671651442706 \\times 10^{-14}i\\right) \\, C^{20.5000000000000} + \\left(1322.50913702632 + 8.52706794063351 \\times 10^{-13}i\\right) \\, C^{20.0000000000000} - \\left(446.711065125007 - 1.51476053922295 \\times 10^{-14}i\\right) \\, C^{19.5000000000000} + \\left(745.536817007896 + 2.14228634831670 \\times 10^{-12}i\\right) \\, C^{19.0000000000000} - \\left(1283.86050355324 + 1.75776060373778 \\times 10^{-13}i\\right) \\, C^{18.5000000000000} + \\left(1294.864866319842 + 4.245492846166599 \\times 10^{-13}i\\right) \\, C^{18.0000000000000} - \\left(958.092334024407 + 6.46149800331841 \\times 10^{-14}i\\right) \\, C^{17.5000000000000} + \\left(2103.46723460646 - 3.89662260791290 \\times 10^{-13}i\\right) \\, C^{17.0000000000000} - \\left(1296.75520114082 + 8.59069759773234 \\times 10^{-14}i\\right) \\, C^{16.5000000000000} + \\left(1533.26386230513 + 1.59650070941097 \\times 10^{-13}i\\right) \\, C^{16.0000000000000} - \\left(594.786615755370 + 4.39231984117328 \\times 10^{-15}i\\right) \\, C^{15.5000000000000} + \\left(1302.86818393927 + 1.06914477271403 \\times 10^{-13}i\\right) \\, C^{15.0000000000000} - \\left(97.6060041392077 + 2.50133247448048 \\times 10^{-13}i\\right) \\, C^{14.5000000000000} + \\left(367.057853780422 - 5.87307980026708 \\times 10^{-14}i\\right) \\, C^{14.0000000000000} - \\left(203.912495483586 + 9.00876595544276 \\times 10^{-14}i\\right) \\, C^{13.5000000000000} - \\left(264.009909413992 + 2.84078316425962 \\times 10^{-14}i\\right) \\, C^{13.0000000000000} - \\left(158.8234490186010 - 1.075355082758023 \\times 10^{-14}i\\right) \\, C^{12.5000000000000} - \\left(120.419532381301 + 1.91513471747840 \\times 10^{-15}i\\right) \\, C^{12.0000000000000} - \\left(13.9063998364045 + 7.40726924242097 \\times 10^{-16}i\\right) \\, C^{11.5000000000000} + \\left(73.0079558528826 - 1.53336544850280 \\times 10^{-14}i\\right) \\, C^{11.0000000000000} - \\left(30.7601375757200 + 7.91380849740619 \\times 10^{-15}i\\right) \\, C^{10.5000000000000} + \\left(94.6312075132185 - 1.07743675092919 \\times 10^{-14}i\\right) \\, C^{10.0000000000000} - \\left(14.8214400323836 + 3.12423698023423 \\times 10^{-15}i\\right) \\, C^{9.50000000000000} + \\left(60.2907694717826 - 3.75394160201381 \\times 10^{-15}i\\right) \\, C^{9.00000000000000} + \\left(2.69500443662230 - 4.33680868994202 \\times 10^{-19}i\\right) \\, C^{8.50000000000000} + \\left(18.3872459277510 + 1.25593979660721 \\times 10^{-15}i\\right) \\, C^{8.00000000000000} + \\left(2.854684340738999 + 1.179611963664229 \\times 10^{-16}i\\right) \\, C^{7.50000000000000} + \\left(2.464829782740671 - 1.047339298620997 \\times 10^{-16}i\\right) \\, C^{7.00000000000000} + \\left(0.590740722192449 - 2.77555756156289 \\times 10^{-17}i\\right) \\, C^{6.50000000000000} + \\left(0.142759223679205 + 4.20941493467497 \\times 10^{-17}i\\right) \\, C^{6.00000000000000} - \\left(0.2012729176658198 - 1.040834085586084 \\times 10^{-17}i\\right) \\, C^{5.50000000000000} + \\left(0.0306064561632523 - 3.46944695195361 \\times 10^{-18}i\\right) \\, C^{5.00000000000000} - \\left(0.0919694635895413 - 2.71050543121376 \\times 10^{-20}i\\right) \\, C^{4.50000000000000} + 0.00943141662490069 \\, C^{4.00000000000000} - \\left(0.00741163814832771 - 1.73472347597681 \\times 10^{-18}i\\right) \\, C^{3.50000000000000} + \\left(0.000884182095324792 - 1.76182853028894 \\times 10^{-19}i\\right) \\, C^{3.00000000000000} + \\left(0.000646486610566636 - 2.16840434497101 \\times 10^{-19}i\\right) \\, C^{2.50000000000000} + 0.0001109395653272762 \\, C^{1.50000000000000} + 0.0000119258707914098 + 5.29395592033938 \\times 10^{-22}i\\right)} C^{7} + \\left(3.562847920668345 \\times 10^{-7} + 1.840476862930487 \\times 10^{-23}i\\right) \\, C^{8.00000000000000} + {\\left(0.0519000000000000 \\, C^{24.0000000000000} + 0.506025000000000 \\, C^{23.0000000000000} + 4.57723603378800 \\, C^{22.0000000000000} + 8.92273263384900 \\, C^{21.0000000000000} - \\left(0.116796402681852 - 1.73472347597681 \\times 10^{-17}i\\right) \\, C^{20.5000000000000} + \\left(24.58355538595360 + 1.387778780781446 \\times 10^{-17}i\\right) \\, C^{20.0000000000000} - \\left(0.884627402501426 - 2.77555756156289 \\times 10^{-17}i\\right) \\, C^{19.5000000000000} + \\left(33.2684043765989 - 5.55111512312578 \\times 10^{-17}i\\right) \\, C^{19.0000000000000} - \\left(7.54889967367697 + 1.73472347597681 \\times 10^{-18}i\\right) \\, C^{18.5000000000000} + \\left(42.6683007482646 + 1.80411241501588 \\times 10^{-15}i\\right) \\, C^{18.0000000000000} + \\left(4.23770607161147 + 7.54951656745106 \\times 10^{-15}i\\right) \\, C^{17.5000000000000} + \\left(36.2469026968273 - 6.74238226014423 \\times 10^{-15}i\\right) \\, C^{17.0000000000000} + \\left(4.30221185873406 + 1.46549439250521 \\times 10^{-14}i\\right) \\, C^{16.5000000000000} + \\left(22.76908928173526 - 1.290634266126745 \\times 10^{-15}i\\right) \\, C^{16.0000000000000} + \\left(20.0870507185237 + 2.38177533251616 \\times 10^{-14}i\\right) \\, C^{15.5000000000000} + \\left(15.7584726746567 + 3.92676342830800 \\times 10^{-15}i\\right) \\, C^{15.0000000000000} + \\left(23.3229751827380 + 1.08801856413265 \\times 10^{-14}i\\right) \\, C^{14.5000000000000} + \\left(8.36081408001763 + 1.49359691281603 \\times 10^{-15}i\\right) \\, C^{14.0000000000000} + \\left(19.6998542338234 - 4.53109771925142 \\times 10^{-15}i\\right) \\, C^{13.5000000000000} + \\left(10.44913210652106 + 1.731254029024854 \\times 10^{-15}i\\right) \\, C^{13.0000000000000} + \\left(21.8541059396802 + 4.44089209850063 \\times 10^{-16}i\\right) \\, C^{12.5000000000000} + \\left(9.93809751393644 - 3.22658566531686 \\times 10^{-16}i\\right) \\, C^{12.0000000000000} + \\left(12.8171641139776 + 5.57279916657549 \\times 10^{-17}i\\right) \\, C^{11.5000000000000} + \\left(5.87043984053832 + 1.24336305140638 \\times 10^{-15}i\\right) \\, C^{11.0000000000000} + \\left(0.741652479684791 - 1.73472347597681 \\times 10^{-16}i\\right) \\, C^{10.5000000000000} + \\left(2.80844566399264 + 2.51860164668383 \\times 10^{-16}i\\right) \\, C^{10.0000000000000} - \\left(1.36958262481295 - 4.85722573273506 \\times 10^{-17}i\\right) \\, C^{9.50000000000000} + \\left(0.889041007389374 + 3.00540842212982 \\times 10^{-16}i\\right) \\, C^{9.00000000000000} - \\left(0.337921141706129 - 3.48299947910968 \\times 10^{-18}i\\right) \\, C^{8.50000000000000} - \\left(0.154539533529306 - 7.15573433840433 \\times 10^{-17}i\\right) \\, C^{8.00000000000000} + \\left(0.01960174702612196 + 3.794707603699266 \\times 10^{-18}i\\right) \\, C^{7.50000000000000} - \\left(0.1232375490748339 - 2.341876692568690 \\times 10^{-17}i\\right) \\, C^{7.00000000000000} + \\left(0.0166566861502954 - 2.60208521396521 \\times 10^{-18}i\\right) \\, C^{6.50000000000000} - \\left(0.007486469938014728 + 3.388131789017201 \\times 10^{-21}i\\right) \\, C^{6.00000000000000} - \\left(0.002056434126251991 + 3.252606517456513 \\times 10^{-19}i\\right) \\, C^{5.50000000000000} + \\left(0.00479874129462242 + 8.67361737988403 \\times 10^{-19}i\\right) \\, C^{5.00000000000000} - \\left(0.001365843861781407 - 1.033380195650246 \\times 10^{-19}i\\right) \\, C^{4.50000000000000} + \\left(0.00102427850312788 + 5.42101086242752 \\times 10^{-20}i\\right) \\, C^{4.00000000000000} - 0.0000855978348543471 \\, C^{3.50000000000000} + \\left(0.0000693962121666081 - 5.08219768352580 \\times 10^{-21}i\\right) \\, C^{3.00000000000000} + \\left(0.0000493944872992999 - 3.38813178901720 \\times 10^{-21}i\\right) \\, C^{2.50000000000000} + \\left(9.18759197075072 \\times 10^{-6} - 4.23516473627150 \\times 10^{-22}i\\right) \\, C^{1.50000000000000} + 3.23394325008918 \\times 10^{-7} - 3.30872245021211 \\times 10^{-24}i\\right)} C^{\\frac{13}{2}} - \\left(5.54113697746822 \\times 10^{-8} + 7.54802308954638 \\times 10^{-24}i\\right) \\, C^{7.50000000000000} + {\\left(4.96100000000000 \\, C^{26.5000000000000} + 49.4047500000000 \\, C^{25.5000000000000} + 437.8507506172401 \\, C^{24.5000000000000} + \\left(14.7441465941100 + 8.88178419700125 \\times 10^{-16}i\\right) \\, C^{24.0000000000000} + \\left(847.717509490170 + 7.10542735760100 \\times 10^{-15}i\\right) \\, C^{23.5000000000000} + \\left(132.591133460113 - 4.44089209850063 \\times 10^{-16}i\\right) \\, C^{23.0000000000000} + \\left(1682.13685772940 - 5.68434188608080 \\times 10^{-14}i\\right) \\, C^{22.5000000000000} + \\left(1159.151590730303 + 1.139088823265411 \\times 10^{-13}i\\right) \\, C^{22.0000000000000} + \\left(2064.046458580642 + 2.211564265053312 \\times 10^{-13}i\\right) \\, C^{21.5000000000000} + \\left(1270.72351672510 - 7.11652958784725 \\times 10^{-14}i\\right) \\, C^{21.0000000000000} + \\left(2163.674124803789 + 1.508793090465588 \\times 10^{-13}i\\right) \\, C^{20.5000000000000} + \\left(2654.52700831741 - 3.76566833271141 \\times 10^{-13}i\\right) \\, C^{20.0000000000000} + \\left(1785.22192393816 + 7.93566601320350 \\times 10^{-14}i\\right) \\, C^{19.5000000000000} + \\left(2531.04784665577 + 5.89750470680883 \\times 10^{-13}i\\right) \\, C^{19.0000000000000} + \\left(668.837526744894 + 9.37583344295945 \\times 10^{-14}i\\right) \\, C^{18.5000000000000} + \\left(2629.768254395907 + 1.403321903126198 \\times 10^{-13}i\\right) \\, C^{18.0000000000000} + \\left(185.6147638953138 - 1.613154054780353 \\times 10^{-13}i\\right) \\, C^{17.5000000000000} + \\left(2634.418265657165 - 4.059565184011404 \\times 10^{-13}i\\right) \\, C^{17.0000000000000} - \\left(512.627741967261 + 2.00651995019285 \\times 10^{-13}i\\right) \\, C^{16.5000000000000} + \\left(2030.56917081528 - 7.10542735760100 \\times 10^{-14}i\\right) \\, C^{16.0000000000000} - \\left(458.977718544140 - 4.44227987728141 \\times 10^{-14}i\\right) \\, C^{15.5000000000000} + \\left(1493.233138434593 - 1.378341885072132 \\times 10^{-13}i\\right) \\, C^{15.0000000000000} - \\left(268.1444959284859 - 1.344653555168662 \\times 10^{-13}i\\right) \\, C^{14.5000000000000} + \\left(870.982938511957 + 1.26426646929190 \\times 10^{-14}i\\right) \\, C^{14.0000000000000} - \\left(174.566197039391 - 1.30360999772705 \\times 10^{-13}i\\right) \\, C^{13.5000000000000} + \\left(251.451904147100 + 1.19695919842400 \\times 10^{-16}i\\right) \\, C^{13.0000000000000} - \\left(110.8398236134331 - 2.397214371452350 \\times 10^{-14}i\\right) \\, C^{12.5000000000000} + \\left(18.7252524504150 - 2.83800760669806 \\times 10^{-15}i\\right) \\, C^{12.0000000000000} - \\left(37.1908551006428 - 3.76487035991246 \\times 10^{-14}i\\right) \\, C^{11.5000000000000} + \\left(10.2779398055953 - 6.22245310832881 \\times 10^{-15}i\\right) \\, C^{11.0000000000000} - \\left(18.21945848199911 - 1.088365508827849 \\times 10^{-14}i\\right) \\, C^{10.5000000000000} + \\left(16.9244116783309 - 3.53883589099269 \\times 10^{-15}i\\right) \\, C^{10.0000000000000} - \\left(8.14870706900210 - 1.66880398388969 \\times 10^{-15}i\\right) \\, C^{9.50000000000000} + \\left(11.8189433038469 + 6.48434214309268 \\times 10^{-16}i\\right) \\, C^{9.00000000000000} - \\left(1.186756138487631 + 1.045170894276026 \\times 10^{-16}i\\right) \\, C^{8.50000000000000} + \\left(4.18414096295797 + 2.39391839684799 \\times 10^{-16}i\\right) \\, C^{8.00000000000000} + \\left(0.2375039418489179 - 1.217016938614979 \\times 10^{-17}i\\right) \\, C^{7.50000000000000} + \\left(0.801503022045839 + 5.63785129692462 \\times 10^{-17}i\\right) \\, C^{7.00000000000000} + 0.0970097637825505 \\, C^{6.50000000000000} + \\left(0.0941934370527958 - 4.63496428737553 \\times 10^{-18}i\\right) \\, C^{6.00000000000000} - \\left(0.0132335787859882 + 1.73472347597681 \\times 10^{-18}i\\right) \\, C^{5.50000000000000} + \\left(0.0103291288397084 + 9.75781955236954 \\times 10^{-19}i\\right) \\, C^{5.00000000000000} - \\left(0.0101348540931344 + 4.33680868994202 \\times 10^{-19}i\\right) \\, C^{4.50000000000000} + \\left(0.00136341749578582 + 9.48676900924816 \\times 10^{-20}i\\right) \\, C^{4.00000000000000} - 0.001160016214069510 \\, C^{3.50000000000000} + \\left(0.0001016659566749069 - 1.185846126156021 \\times 10^{-20}i\\right) \\, C^{3.00000000000000} + 0.00001325482459242791 \\, C^{2.50000000000000} + \\left(7.83412596216332 \\times 10^{-6} + 1.69406589450860 \\times 10^{-21}i\\right) \\, C^{1.50000000000000} + 7.68121692789040 \\times 10^{-7} + 1.32348898008484 \\times 10^{-23}i\\right)} C^{6} + \\left(2.75801173551146 \\times 10^{-8} + 1.65436122510606 \\times 10^{-24}i\\right) \\, C^{7.00000000000000} + {\\left(0.0635754240000000 \\, C^{24.0000000000000} + 0.518188300608000 \\, C^{23.0000000000000} + \\left(4.61983468820495 + 4.42354486374086 \\times 10^{-16}i\\right) \\, C^{22.0000000000000} + \\left(2.305012582105007 - 1.776356839400250 \\times 10^{-15}i\\right) \\, C^{21.0000000000000} - 0.0880783729252055 \\, C^{20.5000000000000} + \\left(15.90068032067876 - 1.776790520269245 \\times 10^{-15}i\\right) \\, C^{20.0000000000000} - 0.736996452607462 \\, C^{19.5000000000000} + \\left(18.5888591669213 - 5.16253706450698 \\times 10^{-15}i\\right) \\, C^{19.0000000000000} - 6.35375769926986 \\, C^{18.5000000000000} + \\left(29.2438292591108 - 5.41580669199959 \\times 10^{-15}i\\right) \\, C^{18.0000000000000} - 2.566128614897980 \\, C^{17.5000000000000} + \\left(28.9589239502659 + 6.57506953613898 \\times 10^{-15}i\\right) \\, C^{17.0000000000000} - 5.07397639818520 \\, C^{16.5000000000000} + \\left(17.6710293016563 - 1.26201132877313 \\times 10^{-15}i\\right) \\, C^{16.0000000000000} + \\left(2.04437176889644 + 6.66133814775094 \\times 10^{-16}i\\right) \\, C^{15.5000000000000} + \\left(9.57481444359712 + 7.46798456408015 \\times 10^{-16}i\\right) \\, C^{15.0000000000000} + \\left(4.98710569344477 - 4.47558656802016 \\times 10^{-16}i\\right) \\, C^{14.5000000000000} + \\left(1.319049873951580 + 1.914701036609401 \\times 10^{-16}i\\right) \\, C^{14.0000000000000} + \\left(4.97145667543002 - 1.13711123850280 \\times 10^{-15}i\\right) \\, C^{13.5000000000000} + \\left(0.229102987677125 - 6.52256026967280 \\times 10^{-16}i\\right) \\, C^{13.0000000000000} + \\left(5.78355093772681 + 1.45716771982052 \\times 10^{-16}i\\right) \\, C^{12.5000000000000} + \\left(2.325291268796322 - 2.179788467782107 \\times 10^{-16}i\\right) \\, C^{12.0000000000000} + \\left(4.83863620231470 - 1.75369701399530 \\times 10^{-16}i\\right) \\, C^{11.5000000000000} + \\left(2.110395592804992 - 2.009026625615640 \\times 10^{-16}i\\right) \\, C^{11.0000000000000} + \\left(1.57891812927472 + 8.02309607639273 \\times 10^{-17}i\\right) \\, C^{10.5000000000000} + \\left(0.978209807541490 - 1.09965205344342 \\times 10^{-16}i\\right) \\, C^{10.0000000000000} + \\left(0.0875250462791841 + 8.23993651088983 \\times 10^{-18}i\\right) \\, C^{9.50000000000000} + \\left(0.302296985593637 - 3.46944695195361 \\times 10^{-17}i\\right) \\, C^{9.00000000000000} - \\left(0.0481323811371932 + 1.43114686768087 \\times 10^{-17}i\\right) \\, C^{8.50000000000000} + \\left(0.0104749008516147 - 5.69206140554890 \\times 10^{-18}i\\right) \\, C^{8.00000000000000} - \\left(0.00484981623939640 + 1.89735380184963 \\times 10^{-19}i\\right) \\, C^{7.50000000000000} - \\left(0.0204457636854696 + 4.60785923306339 \\times 10^{-19}i\\right) \\, C^{7.00000000000000} + \\left(0.00143378464989143 - 4.87890977618477 \\times 10^{-19}i\\right) \\, C^{6.50000000000000} - \\left(0.00367439543091427 + 2.20228566286118 \\times 10^{-19}i\\right) \\, C^{6.00000000000000} - \\left(0.000122380810339528 + 3.04931861011548 \\times 10^{-20}i\\right) \\, C^{5.50000000000000} + \\left(0.000218236030420938 - 1.08420217248550 \\times 10^{-19}i\\right) \\, C^{5.00000000000000} - \\left(0.000117347806394434 + 2.54109884176290 \\times 10^{-21}i\\right) \\, C^{4.50000000000000} + \\left(0.0001048322805294760 - 1.355252715606880 \\times 10^{-20}i\\right) \\, C^{4.00000000000000} - \\left(3.806101921948448 \\times 10^{-6} - 3.388131789017201 \\times 10^{-21}i\\right) \\, C^{3.50000000000000} + \\left(7.96199082761924 \\times 10^{-6} - 8.47032947254300 \\times 10^{-22}i\\right) \\, C^{3.00000000000000} + \\left(4.76416713505281 \\times 10^{-6}\\right) \\, C^{2.50000000000000} + \\left(7.78685963289271 \\times 10^{-7} - 1.98523347012727 \\times 10^{-23}i\\right) \\, C^{1.50000000000000} + 1.827802720935857 \\times 10^{-8} - 1.861156378244312 \\times 10^{-24}i\\right)} C^{\\frac{11}{2}} - \\left(4.59938953739373 \\times 10^{-9} + 1.13737334226041 \\times 10^{-24}i\\right) \\, C^{6.50000000000000} + {\\left(-4.93600000000000 \\, C^{27.5000000000000} - 43.2829734400000 \\, C^{26.5000000000000} - \\left(377.193647106240 + 1.11022302462516 \\times 10^{-16}i\\right) \\, C^{25.5000000000000} - \\left(325.456058761986 - 1.39888101102770 \\times 10^{-14}i\\right) \\, C^{24.5000000000000} + \\left(8.58909633161477 + 1.33226762955019 \\times 10^{-15}i\\right) \\, C^{24.0000000000000} - \\left(674.447537567716 - 4.28823643261467 \\times 10^{-14}i\\right) \\, C^{23.5000000000000} + 75.3244829118193 \\, C^{23.0000000000000} - \\left(164.609335776801 + 8.83182416089312 \\times 10^{-14}i\\right) \\, C^{22.5000000000000} + \\left(655.162892832842 + 8.52651282912120 \\times 10^{-14}i\\right) \\, C^{22.0000000000000} + \\left(128.089921570096 - 3.24150428721026 \\times 10^{-14}i\\right) \\, C^{21.5000000000000} + \\left(563.297954719024 + 4.12336831345783 \\times 10^{-13}i\\right) \\, C^{21.0000000000000} + \\left(501.693682258994 + 3.01043912021015 \\times 10^{-13}i\\right) \\, C^{20.5000000000000} + \\left(1152.34900892701 + 4.58313942353072 \\times 10^{-13}i\\right) \\, C^{20.0000000000000} + \\left(659.026146948527 - 1.13423159753268 \\times 10^{-13}i\\right) \\, C^{19.5000000000000} + \\left(858.525941894623 + 3.63042929052426 \\times 10^{-13}i\\right) \\, C^{19.0000000000000} + \\left(248.249606388278 + 7.87703235971549 \\times 10^{-14}i\\right) \\, C^{18.5000000000000} + \\left(745.588898552902 + 1.87447279920150 \\times 10^{-13}i\\right) \\, C^{18.0000000000000} - \\left(0.928641703892140 - 5.66768854071142 \\times 10^{-14}i\\right) \\, C^{17.5000000000000} + \\left(655.976162536426 + 1.17056971754570 \\times 10^{-13}i\\right) \\, C^{17.0000000000000} - \\left(299.015143155906 - 1.79871742500559 \\times 10^{-13}i\\right) \\, C^{16.5000000000000} + \\left(511.321250722510 + 6.54754028772686 \\times 10^{-14}i\\right) \\, C^{16.0000000000000} - \\left(307.947714853493 - 1.70249231379316 \\times 10^{-13}i\\right) \\, C^{15.5000000000000} + \\left(393.507801551785 + 6.68631816580501 \\times 10^{-14}i\\right) \\, C^{15.0000000000000} - \\left(189.045893128050 + 8.40213315589367 \\times 10^{-15}i\\right) \\, C^{14.5000000000000} + \\left(287.2687833359555 - 1.743744038051886 \\times 10^{-14}i\\right) \\, C^{14.0000000000000} - \\left(94.1153034131252 + 1.17158886758784 \\times 10^{-14}i\\right) \\, C^{13.5000000000000} + \\left(129.744726462834 + 1.14968798370363 \\times 10^{-15}i\\right) \\, C^{13.0000000000000} - \\left(47.7979451685792 - 1.24587840044654 \\times 10^{-14}i\\right) \\, C^{12.5000000000000} + \\left(31.4110757214574 + 3.80858539150708 \\times 10^{-15}i\\right) \\, C^{12.0000000000000} - \\left(18.5273431491290 - 9.90939101608301 \\times 10^{-15}i\\right) \\, C^{11.5000000000000} + \\left(5.97254992861748 + 1.24900090270330 \\times 10^{-16}i\\right) \\, C^{11.0000000000000} - \\left(6.94076567669752 - 2.67147415300428 \\times 10^{-15}i\\right) \\, C^{10.5000000000000} + \\left(2.71170400400564 - 2.21190795714199 \\times 10^{-16}i\\right) \\, C^{10.0000000000000} - \\left(2.492712546244420 - 3.792539199354295 \\times 10^{-16}i\\right) \\, C^{9.50000000000000} + \\left(1.65470695797047 - 3.11979175132704 \\times 10^{-17}i\\right) \\, C^{9.00000000000000} - \\left(0.526561547968773 - 8.32667268468867 \\times 10^{-17}i\\right) \\, C^{8.50000000000000} + \\left(0.617199622428689 - 2.91650384398601 \\times 10^{-17}i\\right) \\, C^{8.00000000000000} - \\left(0.0327601629161254 - 2.08437867660338 \\times 10^{-17}i\\right) \\, C^{7.50000000000000} + \\left(0.135703845119182 - 8.02309607639273 \\times 10^{-18}i\\right) \\, C^{7.00000000000000} + \\left(0.00679425247410448 + 3.03576608295941 \\times 10^{-18}i\\right) \\, C^{6.50000000000000} + \\left(0.0191331516306856 + 5.72594272343907 \\times 10^{-19}i\\right) \\, C^{6.00000000000000} - \\left(0.000501928672415760 - 2.16840434497101 \\times 10^{-19}i\\right) \\, C^{5.50000000000000} + \\left(0.002011770027688580 + 1.490777987167569 \\times 10^{-19}i\\right) \\, C^{5.00000000000000} - \\left(0.000797332020964368 + 3.38813178901720 \\times 10^{-20}i\\right) \\, C^{4.50000000000000} + \\left(0.000179005759403058 + 1.35525271560688 \\times 10^{-20}i\\right) \\, C^{4.00000000000000} - \\left(0.0001128273185863565 + 1.355252715606880 \\times 10^{-20}i\\right) \\, C^{3.50000000000000} + \\left(9.94517301133626 \\times 10^{-6} - 2.61389073566757 \\times 10^{-22}i\\right) \\, C^{3.00000000000000} - \\left(2.398562767765189 \\times 10^{-6} + 3.388131789017201 \\times 10^{-21}i\\right) \\, C^{2.50000000000000} + \\left(3.75137843463561 \\times 10^{-7}\\right) \\, C^{1.50000000000000} + 3.86129096490780 \\times 10^{-8} + 2.06795153138257 \\times 10^{-24}i\\right)} C^{5} + \\left(2.39119490462675 \\times 10^{-9} - 5.65455496862421 \\times 10^{-26}i\\right) \\, C^{6.00000000000000} + {\\left(0.0352133616390000 \\, C^{24.0000000000000} + \\left(0.222988100127450 + 6.93889390390723 \\times 10^{-18}i\\right) \\, C^{23.0000000000000} + \\left(1.937227787740206 + 1.387778780781446 \\times 10^{-17}i\\right) \\, C^{22.0000000000000} - \\left(4.15484819057186 - 2.22044604925031 \\times 10^{-16}i\\right) \\, C^{21.0000000000000} - \\left(0.0271461728333164 + 1.04083408558608 \\times 10^{-17}i\\right) \\, C^{20.5000000000000} - \\left(0.143597849264216 - 8.88178419700125 \\times 10^{-16}i\\right) \\, C^{20.0000000000000} - \\left(0.2097450222062960 + 1.110223024625157 \\times 10^{-16}i\\right) \\, C^{19.5000000000000} - \\left(3.661411723327276 - 4.329869796038111 \\times 10^{-15}i\\right) \\, C^{19.0000000000000} - \\left(1.79367076178214 + 7.76939276803112 \\times 10^{-16}i\\right) \\, C^{18.5000000000000} + \\left(1.56730175196842 + 4.62997695738210 \\times 10^{-15}i\\right) \\, C^{18.0000000000000} + \\left(0.643819977591828 - 1.44328993201270 \\times 10^{-15}i\\right) \\, C^{17.5000000000000} + \\left(5.43256327325968 + 1.21669167796323 \\times 10^{-15}i\\right) \\, C^{17.0000000000000} + \\left(0.507460159740899 - 1.72084568816899 \\times 10^{-15}i\\right) \\, C^{16.5000000000000} + \\left(4.366814619545003 + 4.276310208717327 \\times 10^{-15}i\\right) \\, C^{16.0000000000000} + \\left(3.88178506884534 - 2.95477618067475 \\times 10^{-15}i\\right) \\, C^{15.5000000000000} + \\left(2.58372775440964 + 1.00268372164175 \\times 10^{-15}i\\right) \\, C^{15.0000000000000} + \\left(4.67862812274267 + 1.75207071073658 \\times 10^{-16}i\\right) \\, C^{14.5000000000000} - \\left(0.137255349415629 - 3.72531866466019 \\times 10^{-16}i\\right) \\, C^{14.0000000000000} + \\left(3.97051681895339 - 1.14437539305845 \\times 10^{-15}i\\right) \\, C^{13.5000000000000} - \\left(1.66051268815260 - 3.46944695195361 \\times 10^{-17}i\\right) \\, C^{13.0000000000000} + \\left(2.87187874777338 - 8.57603918436034 \\times 10^{-17}i\\right) \\, C^{12.5000000000000} - \\left(0.768619489630587 + 3.49451912719234 \\times 10^{-17}i\\right) \\, C^{12.0000000000000} + \\left(1.843628511527108 - 1.661201016155134 \\times 10^{-16}i\\right) \\, C^{11.5000000000000} + \\left(0.0457079744186262 + 3.63478778325765 \\times 10^{-17}i\\right) \\, C^{11.0000000000000} + \\left(0.754267207910291 - 4.43167638003450 \\times 10^{-17}i\\right) \\, C^{10.5000000000000} + \\left(0.1395049010459340 - 1.078781161623077 \\times 10^{-17}i\\right) \\, C^{10.0000000000000} + \\left(0.1776443319055619 - 1.192622389734055 \\times 10^{-17}i\\right) \\, C^{9.50000000000000} + \\left(0.0561935807659494 + 4.13352078260099 \\times 10^{-18}i\\right) \\, C^{9.00000000000000} + \\left(0.02581784446741183 + 1.300936727864198 \\times 10^{-18}i\\right) \\, C^{8.50000000000000} + \\left(0.00671597105700758 + 2.60208521396521 \\times 10^{-18}i\\right) \\, C^{8.00000000000000} + \\left(0.00322667709677102 + 3.74388562686401 \\times 10^{-19}i\\right) \\, C^{7.50000000000000} - \\left(0.00190888549084470 - 8.33480420098231 \\times 10^{-19}i\\right) \\, C^{7.00000000000000} + \\left(0.000460767860342897 - 3.38813178901720 \\times 10^{-20}i\\right) \\, C^{6.50000000000000} - \\left(0.000583905553746450 - 8.13681024956162 \\times 10^{-20}i\\right) \\, C^{6.00000000000000} + \\left(0.0000163244116253254 + 8.47032947254300 \\times 10^{-22}i\\right) \\, C^{5.50000000000000} - \\left(0.00002589542838892228 - 1.355252715606880 \\times 10^{-20}i\\right) \\, C^{5.00000000000000} - \\left(6.45029891169609 \\times 10^{-6} - 1.58818677610181 \\times 10^{-21}i\\right) \\, C^{4.50000000000000} + \\left(5.74992874848581 \\times 10^{-6}\\right) \\, C^{4.00000000000000} + \\left(3.33258835745752 \\times 10^{-7}\\right) \\, C^{3.50000000000000} + \\left(5.71059968841078 \\times 10^{-7} - 5.29395592033938 \\times 10^{-23}i\\right) \\, C^{3.00000000000000} + \\left(3.953206377144720 \\times 10^{-7} - 2.646977960169689 \\times 10^{-23}i\\right) \\, C^{2.50000000000000} + \\left(5.25548542488419 \\times 10^{-8}\\right) \\, C^{1.50000000000000} + 7.38446238861619 \\times 10^{-10}\\right)} C^{\\frac{9}{2}} - \\left(2.27194855521361 \\times 10^{-10} + 6.46234853557053 \\times 10^{-26}i\\right) \\, C^{5.50000000000000} + {\\left(-5.84240000000000 \\, C^{27.5000000000000} - \\left(55.0580368575900 - 8.88178419700125 \\times 10^{-16}i\\right) \\, C^{26.5000000000000} - \\left(484.569467458768 - 7.54951656745106 \\times 10^{-15}i\\right) \\, C^{25.5000000000000} - \\left(722.984419265376 + 1.66755498298698 \\times 10^{-13}i\\right) \\, C^{24.5000000000000} + 6.11200603109206 \\, C^{24.0000000000000} - \\left(1452.238803055021 - 3.043398866253710 \\times 10^{-14}i\\right) \\, C^{23.5000000000000} + \\left(56.9972194307761 - 8.88178419700125 \\times 10^{-16}i\\right) \\, C^{23.0000000000000} - \\left(1495.657260138823 - 4.049538482320259 \\times 10^{-13}i\\right) \\, C^{22.5000000000000} + \\left(498.096397082414 - 8.65973959207622 \\times 10^{-15}i\\right) \\, C^{22.0000000000000} - \\left(1463.36234699624 - 1.32741040381745 \\times 10^{-14}i\\right) \\, C^{21.5000000000000} + \\left(678.406017654160 - 7.28028748397946 \\times 10^{-14}i\\right) \\, C^{21.0000000000000} - \\left(1066.61601043041 - 5.77767000908835 \\times 10^{-14}i\\right) \\, C^{20.5000000000000} + \\left(1202.68088534449 - 7.01660951563099 \\times 10^{-14}i\\right) \\, C^{20.0000000000000} - \\left(587.467119784943 - 1.31460814456474 \\times 10^{-13}i\\right) \\, C^{19.5000000000000} + \\left(1205.77382198337 - 7.54396545232794 \\times 10^{-14}i\\right) \\, C^{19.0000000000000} - \\left(337.5546315510547 - 1.886650558002856 \\times 10^{-13}i\\right) \\, C^{18.5000000000000} + \\left(1092.729676340164 - 1.403321903126198 \\times 10^{-13}i\\right) \\, C^{18.0000000000000} - \\left(207.791188204045 - 4.38642178135495 \\times 10^{-14}i\\right) \\, C^{17.5000000000000} + \\left(824.310036960163 - 1.47100322374361 \\times 10^{-13}i\\right) \\, C^{17.0000000000000} - \\left(174.8212338231970 - 1.712562383571203 \\times 10^{-14}i\\right) \\, C^{16.5000000000000} + \\left(526.237262039426 + 8.68749516769185 \\times 10^{-15}i\\right) \\, C^{16.0000000000000} - \\left(144.429906742921 - 2.34066238613551 \\times 10^{-14}i\\right) \\, C^{15.5000000000000} + \\left(291.684297883759 - 1.32758387616505 \\times 10^{-14}i\\right) \\, C^{15.0000000000000} - \\left(88.3779632664178 - 2.60761464504489 \\times 10^{-15}i\\right) \\, C^{14.5000000000000} + \\left(149.1573127587736 - 1.800209287194932 \\times 10^{-14}i\\right) \\, C^{14.0000000000000} - \\left(38.22410319601413 + 4.328135072562134 \\times 10^{-16}i\\right) \\, C^{13.5000000000000} + \\left(62.5149982214867 + 2.36258495406316 \\times 10^{-15}i\\right) \\, C^{13.0000000000000} - \\left(14.11416509620314 + 2.191823111896696 \\times 10^{-15}i\\right) \\, C^{12.5000000000000} + \\left(18.68488501457589 + 1.658395643033828 \\times 10^{-15}i\\right) \\, C^{12.0000000000000} - \\left(4.65109282603336 + 1.07124595652430 \\times 10^{-15}i\\right) \\, C^{11.5000000000000} + \\left(4.06728851315073 + 3.64305482482286 \\times 10^{-16}i\\right) \\, C^{11.0000000000000} - \\left(1.486497992158727 + 2.615095640035037 \\times 10^{-16}i\\right) \\, C^{10.5000000000000} + \\left(0.815666815375752 + 4.45856967610982 \\times 10^{-17}i\\right) \\, C^{10.0000000000000} - \\left(0.458396267756726 + 5.76795555762288 \\times 10^{-17}i\\right) \\, C^{9.50000000000000} + \\left(0.222572321193751 + 5.51672558546726 \\times 10^{-18}i\\right) \\, C^{9.00000000000000} - \\left(0.100861284308477 + 8.67404089635766 \\times 10^{-18}i\\right) \\, C^{8.50000000000000} + \\left(0.0661641919345272 - 3.25260651745651 \\times 10^{-19}i\\right) \\, C^{8.00000000000000} - \\left(0.0115808543346650 + 1.95114039400028 \\times 10^{-18}i\\right) \\, C^{7.50000000000000} + \\left(0.01465607435675745 - 1.735570508924061 \\times 10^{-18}i\\right) \\, C^{7.00000000000000} - \\left(0.000246528081209938 + 1.08420217248550 \\times 10^{-19}i\\right) \\, C^{6.50000000000000} + \\left(0.00222466108085576 + 1.56701095242046 \\times 10^{-20}i\\right) \\, C^{6.00000000000000} - \\left(0.00002488024327789619 + 1.355252715606880 \\times 10^{-20}i\\right) \\, C^{5.50000000000000} + \\left(0.000237568805961081 - 5.92923063078010 \\times 10^{-21}i\\right) \\, C^{5.00000000000000} - \\left(0.0000452659504696863 + 2.96461531539005 \\times 10^{-21}i\\right) \\, C^{4.50000000000000} + \\left(0.0000180745052087437 + 2.11758236813575 \\times 10^{-22}i\\right) \\, C^{4.00000000000000} - \\left(7.40313598724691 \\times 10^{-6} + 4.23516473627150 \\times 10^{-22}i\\right) \\, C^{3.50000000000000} + \\left(7.98410746610175 \\times 10^{-7} - 1.32348898008484 \\times 10^{-23}i\\right) \\, C^{3.00000000000000} - \\left(2.96603970536433 \\times 10^{-7} + 1.05879118406788 \\times 10^{-22}i\\right) \\, C^{2.50000000000000} + \\left(1.040642323394389 \\times 10^{-8}\\right) \\, C^{1.50000000000000} + 1.48063338954157 \\times 10^{-9} + 5.16987882845642 \\times 10^{-26}i\\right)} C^{4} + \\left(2.284525458634457 \\times 10^{-10} + 3.231174267785264 \\times 10^{-27}i\\right) \\, C^{5.00000000000000} + {\\left(0.0411961440000000 \\, C^{26.5000000000000} + 0.4102570440000000 \\, C^{25.5000000000000} + \\left(3.63591263312556 + 2.22044604925031 \\times 10^{-16}i\\right) \\, C^{24.5000000000000} + 0.0286871359919654 \\, C^{24.0000000000000} + \\left(7.03944619880637 + 1.11022302462516 \\times 10^{-16}i\\right) \\, C^{23.5000000000000} + \\left(0.215333933562829 - 6.93889390390723 \\times 10^{-18}i\\right) \\, C^{23.0000000000000} + \\left(13.9800321599085 + 4.44089209850063 \\times 10^{-16}i\\right) \\, C^{22.5000000000000} + \\left(1.905113238942285 - 1.032160468206200 \\times 10^{-16}i\\right) \\, C^{22.0000000000000} + \\left(18.0014673252542 + 1.73472347597681 \\times 10^{-18}i\\right) \\, C^{21.5000000000000} - \\left(0.528283801277429 + 1.55431223447522 \\times 10^{-15}i\\right) \\, C^{21.0000000000000} + \\left(19.9316935329391 - 6.79577921713914 \\times 10^{-16}i\\right) \\, C^{20.5000000000000} + \\left(4.59032248947771 - 7.76939276803112 \\times 10^{-16}i\\right) \\, C^{20.0000000000000} + \\left(17.7940226714513 + 1.53147622621724 \\times 10^{-15}i\\right) \\, C^{19.5000000000000} + \\left(4.35759821006952 - 3.58046925441613 \\times 10^{-15}i\\right) \\, C^{19.0000000000000} + \\left(12.8474787901663 - 1.02776944940763 \\times 10^{-15}i\\right) \\, C^{18.5000000000000} + \\left(8.90529877059382 + 9.30679144861557 \\times 10^{-16}i\\right) \\, C^{18.0000000000000} + \\left(8.49015228680999 - 4.31919040463913 \\times 10^{-16}i\\right) \\, C^{17.5000000000000} + \\left(10.5868258444200 + 1.55300949780234 \\times 10^{-15}i\\right) \\, C^{17.0000000000000} + \\left(4.71827760283781 - 3.04023841692092 \\times 10^{-16}i\\right) \\, C^{16.5000000000000} + \\left(9.11627877413178 + 3.00280633691585 \\times 10^{-15}i\\right) \\, C^{16.0000000000000} + \\left(3.18947306102183 + 3.24432253523237 \\times 10^{-16}i\\right) \\, C^{15.5000000000000} + \\left(6.19111790736361 - 2.26367861087817 \\times 10^{-16}i\\right) \\, C^{15.0000000000000} + \\left(2.16992543821601 - 2.74508131612068 \\times 10^{-16}i\\right) \\, C^{14.5000000000000} + \\left(3.15389448011415 - 1.63985578588433 \\times 10^{-16}i\\right) \\, C^{14.0000000000000} + \\left(1.454243024288726 - 1.233707722840625 \\times 10^{-16}i\\right) \\, C^{13.5000000000000} + \\left(0.881840621261074 + 1.30781887056064 \\times 10^{-18}i\\right) \\, C^{13.0000000000000} + \\left(0.875631897960523 - 4.14131348571572 \\times 10^{-17}i\\right) \\, C^{12.5000000000000} + \\left(0.0655513547391168 + 2.03239202946565 \\times 10^{-17}i\\right) \\, C^{12.0000000000000} + \\left(0.461492512657628 - 7.48173614397883 \\times 10^{-18}i\\right) \\, C^{11.5000000000000} - \\left(0.0100339248947905 - 6.78812203929596 \\times 10^{-18}i\\right) \\, C^{11.0000000000000} + \\left(0.181405569240497 + 1.18220388448283 \\times 10^{-17}i\\right) \\, C^{10.5000000000000} + \\left(0.00748809673865337 + 1.67034897198548 \\times 10^{-18}i\\right) \\, C^{10.0000000000000} + \\left(0.0491210582284105 + 6.69685423922931 \\times 10^{-20}i\\right) \\, C^{9.50000000000000} + \\left(0.00528366854547123 + 1.96299885526184 \\times 10^{-19}i\\right) \\, C^{9.00000000000000} + \\left(0.00940837912881585 - 1.17908640619024 \\times 10^{-18}i\\right) \\, C^{8.50000000000000} + \\left(0.000928619925864593 + 4.74338450462408 \\times 10^{-20}i\\right) \\, C^{8.00000000000000} + \\left(0.00135204880555069 - 1.43995807828384 \\times 10^{-19}i\\right) \\, C^{7.50000000000000} - \\left(0.0000995180043658120 - 3.21872519956634 \\times 10^{-20}i\\right) \\, C^{7.00000000000000} + \\left(0.000145653963628733 - 5.08219768352580 \\times 10^{-21}i\\right) \\, C^{6.50000000000000} - \\left(0.0000517620574606719 + 7.41153828847513 \\times 10^{-22}i\\right) \\, C^{6.00000000000000} + \\left(8.49431229123634 \\times 10^{-6} - 4.23516473627150 \\times 10^{-22}i\\right) \\, C^{5.50000000000000} - \\left(4.89119581174675 \\times 10^{-6} + 8.47032947254300 \\times 10^{-22}i\\right) \\, C^{5.00000000000000} - \\left(4.71919345761361 \\times 10^{-8} + 9.92616735063633 \\times 10^{-24}i\\right) \\, C^{4.50000000000000} + \\left(6.00537491143933 \\times 10^{-8}\\right) \\, C^{4.00000000000000} + \\left(5.67725164981406 \\times 10^{-8} - 1.32348898008484 \\times 10^{-23}i\\right) \\, C^{3.50000000000000} + \\left(2.29416536502318 \\times 10^{-8} - 3.30872245021211 \\times 10^{-24}i\\right) \\, C^{3.00000000000000} + \\left(2.511489612319981 \\times 10^{-8}\\right) \\, C^{2.50000000000000} + \\left(2.72573395845912 \\times 10^{-9} + 5.16987882845642 \\times 10^{-26}i\\right) \\, C^{1.50000000000000} + 2.010096399019038 \\times 10^{-11} - 1.615587133892632 \\times 10^{-27}i\\right)} C^{\\frac{7}{2}} - \\left(1.07618353344787 \\times 10^{-11} + 1.61558713389263 \\times 10^{-27}i\\right) \\, C^{4.50000000000000} + {\\left(C^{31.0000000000000} + 10.2500000000000 \\, C^{30.0000000000000} + 92.1776516800000 \\, C^{29.0000000000000} + 206.9308279800000 \\, C^{28.0000000000000} - 3.12483820616000 \\, C^{27.5000000000000} + 480.9819076658768 \\, C^{27.0000000000000} - 28.5062456135048 \\, C^{26.5000000000000} + 727.851600288020 \\, C^{26.0000000000000} - \\left(249.7951465174778 - 2.831068712794149 \\times 10^{-14}i\\right) \\, C^{25.5000000000000} + \\left(991.804222204058 + 5.15143483426073 \\times 10^{-14}i\\right) \\, C^{25.0000000000000} - \\left(303.5671284191130 + 1.145750161413162 \\times 10^{-13}i\\right) \\, C^{24.5000000000000} + \\left(1089.947481425124 + 1.620925615952729 \\times 10^{-14}i\\right) \\, C^{24.0000000000000} - \\left(615.800471061757 + 2.15244488899202 \\times 10^{-14}i\\right) \\, C^{23.5000000000000} + \\left(1042.07317087012 - 5.87307980026708 \\times 10^{-14}i\\right) \\, C^{23.0000000000000} - \\left(481.422626344188 - 7.80209230555329 \\times 10^{-14}i\\right) \\, C^{22.5000000000000} + \\left(969.501780747171 + 2.18436380095000 \\times 10^{-14}i\\right) \\, C^{22.0000000000000} - \\left(371.515689056307 + 1.17461596005342 \\times 10^{-13}i\\right) \\, C^{21.5000000000000} + \\left(787.175068077721 - 1.79370407416002 \\times 10^{-14}i\\right) \\, C^{21.0000000000000} - \\left(92.3837719718325 + 1.10285044985226 \\times 10^{-15}i\\right) \\, C^{20.5000000000000} + \\left(714.997915358672 + 4.57958324040497 \\times 10^{-14}i\\right) \\, C^{20.0000000000000} + \\left(131.303535333261 - 1.83637827166905 \\times 10^{-14}i\\right) \\, C^{19.5000000000000} + \\left(574.920979146742 - 6.94930224476309 \\times 10^{-15}i\\right) \\, C^{19.0000000000000} + \\left(202.395757814392 - 9.43949779452780 \\times 10^{-14}i\\right) \\, C^{18.5000000000000} + \\left(447.9129481753811 - 2.944953308992027 \\times 10^{-14}i\\right) \\, C^{18.0000000000000} + \\left(166.082633367183 - 1.56437363063588 \\times 10^{-14}i\\right) \\, C^{17.5000000000000} + \\left(309.927371758593 - 5.31226538452723 \\times 10^{-14}i\\right) \\, C^{17.0000000000000} + \\left(91.6235828244718 - 7.01652277945719 \\times 10^{-15}i\\right) \\, C^{16.5000000000000} + \\left(186.683274000211 - 8.08381139805192 \\times 10^{-15}i\\right) \\, C^{16.0000000000000} + \\left(28.8725440917404 - 2.15040658890775 \\times 10^{-15}i\\right) \\, C^{15.5000000000000} + \\left(96.6761257114490 - 7.80435828809378 \\times 10^{-16}i\\right) \\, C^{15.0000000000000} + \\left(0.718362418173866 + 1.22270900002053 \\times 10^{-15}i\\right) \\, C^{14.5000000000000} + \\left(43.7147466338907 - 5.58743589590405 \\times 10^{-16}i\\right) \\, C^{14.0000000000000} - \\left(3.47168854803045 - 3.38067789908136 \\times 10^{-16}i\\right) \\, C^{13.5000000000000} + \\left(16.60772517073725 + 3.614882508997178 \\times 10^{-16}i\\right) \\, C^{13.0000000000000} - \\left(1.840716318286719 + 3.657420503608288 \\times 10^{-16}i\\right) \\, C^{12.5000000000000} + \\left(4.91684594039606 - 4.27243418595069 \\times 10^{-16}i\\right) \\, C^{12.0000000000000} - \\left(0.627890562712819 + 6.29650411670957 \\times 10^{-17}i\\right) \\, C^{11.5000000000000} + \\left(1.10036615849654 - 3.02204414921389 \\times 10^{-17}i\\right) \\, C^{11.0000000000000} - \\left(0.185996065385089 + 3.42861996389596 \\times 10^{-17}i\\right) \\, C^{10.5000000000000} + \\left(0.193464665585043 - 5.26801553632971 \\times 10^{-19}i\\right) \\, C^{10.0000000000000} - \\left(0.0516931713341229 + 7.18283939271647 \\times 10^{-18}i\\right) \\, C^{9.50000000000000} + \\left(0.03153003595803033 + 1.640808697949986 \\times 10^{-18}i\\right) \\, C^{9.00000000000000} - \\left(0.0111242213820278 + 1.32814766129474 \\times 10^{-18}i\\right) \\, C^{8.50000000000000} + \\left(0.00578551619913067 + 3.99799551104030 \\times 10^{-19}i\\right) \\, C^{8.00000000000000} - \\left(0.00146712920640688 + 8.76414402612184 \\times 10^{-20}i\\right) \\, C^{7.50000000000000} + \\left(0.00107995958695380 - 3.98105485209521 \\times 10^{-20}i\\right) \\, C^{7.00000000000000} - \\left(0.0000906386800140925 + 2.66815378385105 \\times 10^{-20}i\\right) \\, C^{6.50000000000000} + \\left(0.000163054389091944 + 5.96893530018265 \\times 10^{-21}i\\right) \\, C^{6.00000000000000} - \\left(3.666701185392629 \\times 10^{-6} + 1.694065894508601 \\times 10^{-21}i\\right) \\, C^{5.50000000000000} + \\left(0.0000176586930263223 + 4.76456032830544 \\times 10^{-22}i\\right) \\, C^{5.00000000000000} - \\left(1.858511238240292 \\times 10^{-6} + 1.323488980084844 \\times 10^{-23}i\\right) \\, C^{4.50000000000000} + \\left(1.265345541780621 \\times 10^{-6} + 1.323488980084844 \\times 10^{-23}i\\right) \\, C^{4.00000000000000} - \\left(3.29621898065156 \\times 10^{-7} - 1.32348898008484 \\times 10^{-23}i\\right) \\, C^{3.50000000000000} + \\left(4.85421571380838 \\times 10^{-8} - 4.13590306276514 \\times 10^{-25}i\\right) \\, C^{3.00000000000000} - \\left(1.735933197039664 \\times 10^{-8}\\right) \\, C^{2.50000000000000} + \\left(4.857029739158831 \\times 10^{-11} - 2.067951531382569 \\times 10^{-25}i\\right) \\, C^{1.50000000000000} + 4.17457415944797 \\times 10^{-11} + 8.07793566946316 \\times 10^{-28}i\\right)} C^{3} + \\left(1.55709495147355 \\times 10^{-11} - 8.07793566946316 \\times 10^{-28}i\\right) \\, C^{4.00000000000000} + {\\left(0.0411961440000000 \\, C^{26.5000000000000} + 0.4102570440000000 \\, C^{25.5000000000000} + \\left(3.63591263312556 + 2.22044604925031 \\times 10^{-16}i\\right) \\, C^{24.5000000000000} + 0.00543522423587199 \\, C^{24.0000000000000} + \\left(7.03944619880637 + 1.11022302462516 \\times 10^{-16}i\\right) \\, C^{23.5000000000000} - \\left(0.000936162258859265 - 1.73472347597681 \\times 10^{-18}i\\right) \\, C^{23.0000000000000} + \\left(13.9800321599085 + 4.44089209850063 \\times 10^{-16}i\\right) \\, C^{22.5000000000000} - \\left(0.0442316166964461 + 2.77555756156289 \\times 10^{-17}i\\right) \\, C^{22.0000000000000} + \\left(18.0014673252542 + 1.73472347597681 \\times 10^{-18}i\\right) \\, C^{21.5000000000000} - \\left(3.64048691948771 - 4.44089209850063 \\times 10^{-16}i\\right) \\, C^{21.0000000000000} + \\left(19.9352157711998 - 6.78060038672435 \\times 10^{-16}i\\right) \\, C^{20.5000000000000} - \\left(4.96454659158348 - 1.77635683940025 \\times 10^{-15}i\\right) \\, C^{20.0000000000000} + \\left(17.8167334929427 + 1.54364639560339 \\times 10^{-15}i\\right) \\, C^{19.5000000000000} - \\left(8.27213891968114 + 7.49400541621981 \\times 10^{-16}i\\right) \\, C^{19.0000000000000} + \\left(13.0376095870830 - 8.75952346139457 \\times 10^{-16}i\\right) \\, C^{18.5000000000000} - \\left(7.86789060556900 + 2.68665298341908 \\times 10^{-16}i\\right) \\, C^{18.0000000000000} + \\left(8.03527572683031 - 2.86635949350855 \\times 10^{-16}i\\right) \\, C^{17.5000000000000} - \\left(5.80083774925263 + 6.45155349770447 \\times 10^{-16}i\\right) \\, C^{17.0000000000000} + \\left(4.11633305678333 - 2.21312768458604 \\times 10^{-17}i\\right) \\, C^{16.5000000000000} - \\left(3.363350845248402 + 1.241750300674804 \\times 10^{-16}i\\right) \\, C^{16.0000000000000} + \\left(1.84372948851375 + 8.28531630103898 \\times 10^{-17}i\\right) \\, C^{15.5000000000000} - \\left(1.44322472112539 - 1.69923279548685 \\times 10^{-16}i\\right) \\, C^{15.0000000000000} + \\left(0.749863160051766 + 6.33021602801029 \\times 10^{-17}i\\right) \\, C^{14.5000000000000} - \\left(0.403635291454107 + 4.12335638723393 \\times 10^{-18}i\\right) \\, C^{14.0000000000000} + \\left(0.314034379293407 - 1.89400802170798 \\times 10^{-17}i\\right) \\, C^{13.5000000000000} - \\left(0.0951007687579295 - 1.14349447879331 \\times 10^{-18}i\\right) \\, C^{13.0000000000000} + \\left(0.1400641239894085 - 4.579398926035649 \\times 10^{-17}i\\right) \\, C^{12.5000000000000} - \\left(0.0371101851879025 + 7.88821600570984 \\times 10^{-18}i\\right) \\, C^{12.0000000000000} + \\left(0.0613408781444634 - 1.34965568071010 \\times 10^{-17}i\\right) \\, C^{11.5000000000000} - \\left(0.01316832140004160 + 1.108977886192693 \\times 10^{-18}i\\right) \\, C^{11.0000000000000} + \\left(0.02219979864081086 - 2.525005215765069 \\times 10^{-18}i\\right) \\, C^{10.5000000000000} - \\left(0.00233165848137979 + 5.26880962971777 \\times 10^{-19}i\\right) \\, C^{10.0000000000000} + \\left(0.00604356579620838 - 1.61730353366368 \\times 10^{-19}i\\right) \\, C^{9.50000000000000} - \\left(0.0000495897981715504 + 8.38562617781757 \\times 10^{-20}i\\right) \\, C^{9.00000000000000} + \\left(0.001227391333705110 + 1.355119591227048 \\times 10^{-19}i\\right) \\, C^{8.50000000000000} + \\left(0.0000346615332040339 - 1.73641754187132 \\times 10^{-20}i\\right) \\, C^{8.00000000000000} + \\left(0.000185096182573928 + 1.56699027290514 \\times 10^{-20}i\\right) \\, C^{7.50000000000000} - \\left(3.99884643053984 \\times 10^{-6} + 1.69406589450860 \\times 10^{-21}i\\right) \\, C^{7.00000000000000} + \\left(0.0000196316575707197 + 4.63221143029695 \\times 10^{-22}i\\right) \\, C^{6.50000000000000} - \\left(2.77274357011374 \\times 10^{-6} + 1.52201232709757 \\times 10^{-22}i\\right) \\, C^{6.00000000000000} + \\left(1.220433521438123 \\times 10^{-6} + 2.646977960169689 \\times 10^{-23}i\\right) \\, C^{5.50000000000000} - \\left(3.48242901010164 \\times 10^{-7} + 6.61744490042422 \\times 10^{-23}i\\right) \\, C^{5.00000000000000} + \\left(2.73167304086487 \\times 10^{-8} + 4.54949336904165 \\times 10^{-24}i\\right) \\, C^{4.50000000000000} - \\left(1.19235933096288 \\times 10^{-8} + 3.30872245021211 \\times 10^{-24}i\\right) \\, C^{4.00000000000000} + \\left(3.46062537879114 \\times 10^{-9} + 8.27180612553028 \\times 10^{-25}i\\right) \\, C^{3.50000000000000} + \\left(3.08211718985951 \\times 10^{-10} - 2.06795153138257 \\times 10^{-25}i\\right) \\, C^{3.00000000000000} + \\left(1.081119840175532 \\times 10^{-9}\\right) \\, C^{2.50000000000000} + \\left(1.003357023031620 \\times 10^{-10} - 1.615587133892632 \\times 10^{-27}i\\right) \\, C^{1.50000000000000} + 3.28916001831811 \\times 10^{-13}\\right)} C^{\\frac{5}{2}} - \\left(1.250021229134873 \\times 10^{-12}\\right) \\, C^{3.50000000000000} + {\\left(1.00000000000000 \\, C^{31.0000000000000} + 10.2500000000000 \\, C^{30.0000000000000} + 92.1776516800000 \\, C^{29.0000000000000} + 206.9308279800000 \\, C^{28.0000000000000} - 2.61818671954400 \\, C^{27.5000000000000} + 480.9819076658768 \\, C^{27.0000000000000} - \\left(25.6623267824504 - 2.22044604925031 \\times 10^{-16}i\\right) \\, C^{26.5000000000000} + 727.851600288020 \\, C^{26.0000000000000} - \\left(227.000528958155 - 3.55271367880050 \\times 10^{-15}i\\right) \\, C^{25.5000000000000} + \\left(991.804222204058 + 5.15143483426073 \\times 10^{-14}i\\right) \\, C^{25.0000000000000} - \\left(411.2709609703808 - 1.437738816889578 \\times 10^{-14}i\\right) \\, C^{24.5000000000000} + \\left(1088.44396624826 + 1.62075214360513 \\times 10^{-14}i\\right) \\, C^{24.0000000000000} - \\left(819.773717409002 - 9.47054934474778 \\times 10^{-14}i\\right) \\, C^{23.5000000000000} + \\left(1027.75058043928 - 5.86058979124005 \\times 10^{-14}i\\right) \\, C^{23.0000000000000} - \\left(1007.13847306089 - 1.89293025698589 \\times 10^{-14}i\\right) \\, C^{22.5000000000000} + \\left(844.096845434693 + 3.80286080403636 \\times 10^{-14}i\\right) \\, C^{22.0000000000000} - \\left(1092.32351986731 + 2.34435734713934 \\times 10^{-13}i\\right) \\, C^{21.5000000000000} + \\left(595.207153109717 - 9.70751257156621 \\times 10^{-15}i\\right) \\, C^{21.0000000000000} - \\left(939.397503341356 + 5.03891091178932 \\times 10^{-15}i\\right) \\, C^{20.5000000000000} + \\left(381.376862785621 + 1.82699992287705 \\times 10^{-14}i\\right) \\, C^{20.0000000000000} - \\left(658.207458064151 - 5.32903799213558 \\times 10^{-14}i\\right) \\, C^{19.5000000000000} + \\left(219.516727267629 - 5.80698683583236 \\times 10^{-16}i\\right) \\, C^{19.0000000000000} - \\left(381.424051456831 - 6.25654313513718 \\times 10^{-14}i\\right) \\, C^{18.5000000000000} + \\left(119.866327665584 + 7.17698470098505 \\times 10^{-15}i\\right) \\, C^{18.0000000000000} - \\left(180.6395751908336 - 2.927199498417576 \\times 10^{-14}i\\right) \\, C^{17.5000000000000} + \\left(62.6165353799566 + 4.01541040255673 \\times 10^{-15}i\\right) \\, C^{17.0000000000000} - \\left(68.0775841610493 - 6.05105429738600 \\times 10^{-15}i\\right) \\, C^{16.5000000000000} + \\left(31.2893827359505 + 5.69206140554890 \\times 10^{-18}i\\right) \\, C^{16.0000000000000} - \\left(20.8137989377201 - 5.28861622463989 \\times 10^{-15}i\\right) \\, C^{15.5000000000000} + \\left(14.49477953075682 + 3.758115780377880 \\times 10^{-16}i\\right) \\, C^{15.0000000000000} - \\left(5.72217089289436 - 1.40218511714835 \\times 10^{-15}i\\right) \\, C^{14.5000000000000} + \\left(6.03027295035251 - 2.32534260943829 \\times 10^{-16}i\\right) \\, C^{14.0000000000000} - \\left(1.515591969851350 - 2.903052960783609 \\times 10^{-16}i\\right) \\, C^{13.5000000000000} + \\left(2.14713896192773 - 8.93060717608099 \\times 10^{-17}i\\right) \\, C^{13.0000000000000} - \\left(0.3697518394872339 - 1.094561385430424 \\times 10^{-16}i\\right) \\, C^{12.5000000000000} + \\left(0.616206852951343 - 1.90443711487105 \\times 10^{-17}i\\right) \\, C^{12.0000000000000} - \\left(0.0801907761180388 - 1.93568204271289 \\times 10^{-17}i\\right) \\, C^{11.5000000000000} + \\left(0.137223401774751 + 3.54790337869304 \\times 10^{-18}i\\right) \\, C^{11.0000000000000} - \\left(0.0168567797293510 - 3.17891465104539 \\times 10^{-18}i\\right) \\, C^{10.5000000000000} + \\left(0.0234821719109442 + 9.10874746931143 \\times 10^{-19}i\\right) \\, C^{10.0000000000000} - \\left(0.00373724431595249 - 6.74238226014423 \\times 10^{-19}i\\right) \\, C^{9.50000000000000} + \\left(0.00321229701484847 + 8.27842357043070 \\times 10^{-21}i\\right) \\, C^{9.00000000000000} - \\left(0.000738226940125339 - 1.31714036888350 \\times 10^{-19}i\\right) \\, C^{8.50000000000000} + \\left(0.000403182367081481 + 7.88799432130567 \\times 10^{-21}i\\right) \\, C^{8.00000000000000} - \\left(0.0001004417538266411 - 1.916742915407876 \\times 10^{-20}i\\right) \\, C^{7.50000000000000} + \\left(0.0000549392689748072 - 3.95723205045368 \\times 10^{-21}i\\right) \\, C^{7.00000000000000} - \\left(7.71753580029422 \\times 10^{-6} - 2.11096492323533 \\times 10^{-21}i\\right) \\, C^{6.50000000000000} + \\left(7.51743251189379 \\times 10^{-6} - 2.20030042939105 \\times 10^{-22}i\\right) \\, C^{6.00000000000000} - \\left(3.37004403315639 \\times 10^{-7} - 4.63221143029695 \\times 10^{-23}i\\right) \\, C^{5.50000000000000} + \\left(8.10393893858633 \\times 10^{-7} + 6.61744490042422 \\times 10^{-24}i\\right) \\, C^{5.00000000000000} - \\left(5.47524740358324 \\times 10^{-8} - 3.30872245021211 \\times 10^{-24}i\\right) \\, C^{4.50000000000000} + \\left(5.67762006959662 \\times 10^{-8} + 1.65436122510606 \\times 10^{-24}i\\right) \\, C^{4.00000000000000} - \\left(9.57576694314771 \\times 10^{-9} - 4.13590306276514 \\times 10^{-25}i\\right) \\, C^{3.50000000000000} + \\left(2.01283722726652 \\times 10^{-9} - 3.87740912134232 \\times 10^{-26}i\\right) \\, C^{3.00000000000000} - \\left(5.92801376834187 \\times 10^{-10}\\right) \\, C^{2.50000000000000} - \\left(7.26906862467267 \\times 10^{-12} - 3.23117426778526 \\times 10^{-27}i\\right) \\, C^{1.50000000000000} + 8.12539447541833 \\times 10^{-13} + 1.26217744835362 \\times 10^{-29}i\\right)} C^{2} + \\left(5.05602900229674 \\times 10^{-13} - 1.89326617253043 \\times 10^{-29}i\\right) \\, C^{3.00000000000000} + {\\left(0.0181686863649086 \\, C^{26.5000000000000} + \\left(0.180935175909438 - 5.42101086242752 \\times 10^{-20}i\\right) \\, C^{25.5000000000000} + \\left(1.60354222185133 + 4.33680868994202 \\times 10^{-19}i\\right) \\, C^{24.5000000000000} + 0.0002860258829065441 \\, C^{24.0000000000000} + \\left(3.10459858011860 + 3.49655200626575 \\times 10^{-17}i\\right) \\, C^{23.5000000000000} - \\left(0.00582247823117330 - 4.33680868994202 \\times 10^{-19}i\\right) \\, C^{23.0000000000000} + \\left(6.16559694724619 - 3.88117272695498 \\times 10^{-16}i\\right) \\, C^{22.5000000000000} - \\left(0.0583776410851203 - 3.38813178901720 \\times 10^{-21}i\\right) \\, C^{22.0000000000000} + \\left(7.93916571271074 - 6.75564679609823 \\times 10^{-16}i\\right) \\, C^{21.5000000000000} - \\left(0.681328101451040 - 6.24500451351651 \\times 10^{-17}i\\right) \\, C^{21.0000000000000} + \\left(8.79210548357718 - 6.97792518211671 \\times 10^{-16}i\\right) \\, C^{20.5000000000000} - \\left(1.068319800558388 - 2.150786059668119 \\times 10^{-16}i\\right) \\, C^{20.0000000000000} + \\left(7.85807850909567 - 7.97439401838129 \\times 10^{-18}i\\right) \\, C^{19.5000000000000} - \\left(1.69382593274474 + 3.31576129400379 \\times 10^{-16}i\\right) \\, C^{19.0000000000000} + \\left(5.75290226837636 - 1.36868020226003 \\times 10^{-16}i\\right) \\, C^{18.5000000000000} - \\left(1.73549486753222 - 3.59548545450505 \\times 10^{-16}i\\right) \\, C^{18.0000000000000} + \\left(3.50885771361940 + 1.59788265344935 \\times 10^{-16}i\\right) \\, C^{17.5000000000000} - \\left(1.38333486574239 - 1.29504561371604 \\times 10^{-16}i\\right) \\, C^{17.0000000000000} + \\left(1.766562838581119 + 1.116663982635158 \\times 10^{-16}i\\right) \\, C^{16.5000000000000} - \\left(0.884233172083851 - 1.34325872907376 \\times 10^{-16}i\\right) \\, C^{16.0000000000000} + \\left(0.724914121434304 - 2.36766994194098 \\times 10^{-17}i\\right) \\, C^{15.5000000000000} - \\left(0.443810269503021 - 4.73322010925703 \\times 10^{-17}i\\right) \\, C^{15.0000000000000} + \\left(0.242076511788803 + 1.52582452342441 \\times 10^{-17}i\\right) \\, C^{14.5000000000000} - \\left(0.1680581565759818 - 2.642065169075614 \\times 10^{-17}i\\right) \\, C^{14.0000000000000} + \\left(0.0691088663907765 + 1.54467045843662 \\times 10^{-18}i\\right) \\, C^{13.5000000000000} - \\left(0.0498821472034831 - 9.57570746870987 \\times 10^{-19}i\\right) \\, C^{13.0000000000000} + \\left(0.0186287879190882 + 9.94694612762366 \\times 10^{-19}i\\right) \\, C^{12.5000000000000} - \\left(0.01293441903879069 + 1.113424680713231 \\times 10^{-18}i\\right) \\, C^{12.0000000000000} + \\left(0.00526212536184976 + 4.09114431981989 \\times 10^{-19}i\\right) \\, C^{11.5000000000000} - \\left(0.00296149132177027 + 3.13344287841212 \\times 10^{-19}i\\right) \\, C^{11.0000000000000} + \\left(0.001488611667384015 - 1.433603263227903 \\times 10^{-19}i\\right) \\, C^{10.5000000000000} - \\left(0.000517029165143937 + 7.40492084357470 \\times 10^{-20}i\\right) \\, C^{10.0000000000000} + \\left(0.000369468586859137 - 2.88785295454513 \\times 10^{-20}i\\right) \\, C^{9.50000000000000} - \\left(0.0000570651533586780 + 1.10230088428816 \\times 10^{-20}i\\right) \\, C^{9.00000000000000} + \\left(0.0000742950824049630 - 4.45684914043571 \\times 10^{-21}i\\right) \\, C^{8.50000000000000} - \\left(3.354279257947562 \\times 10^{-6} + 1.323488980084844 \\times 10^{-21}i\\right) \\, C^{8.00000000000000} + \\left(0.00001138728413936287 - 3.613745301091040 \\times 10^{-23}i\\right) \\, C^{7.50000000000000} - \\left(3.00641878722672 \\times 10^{-7} + 6.94831714544543 \\times 10^{-23}i\\right) \\, C^{7.00000000000000} + \\left(1.21707838262864 \\times 10^{-6} + 9.71937219749808 \\times 10^{-24}i\\right) \\, C^{6.50000000000000} - \\left(8.83429627446574 \\times 10^{-8} - 1.65436122510606 \\times 10^{-24}i\\right) \\, C^{6.00000000000000} + \\left(7.77009194964948 \\times 10^{-8} + 3.30872245021211 \\times 10^{-24}i\\right) \\, C^{5.50000000000000} - \\left(1.227556975172440 \\times 10^{-8} - 1.033975765691285 \\times 10^{-25}i\\right) \\, C^{5.00000000000000} + \\left(2.15687126751962 \\times 10^{-9} + 1.55096364853693 \\times 10^{-25}i\\right) \\, C^{4.50000000000000} - \\left(6.75739045781132 \\times 10^{-10} - 1.03397576569128 \\times 10^{-25}i\\right) \\, C^{4.00000000000000} + \\left(1.027663567629353 \\times 10^{-10} - 1.292469707114106 \\times 10^{-26}i\\right) \\, C^{3.50000000000000} - \\left(9.77704741692161 \\times 10^{-12} - 6.46234853557053 \\times 10^{-27}i\\right) \\, C^{3.00000000000000} + \\left(2.726594825000015 \\times 10^{-11} + 1.615587133892632 \\times 10^{-27}i\\right) \\, C^{2.50000000000000} + \\left(2.27098015229604 \\times 10^{-12} - 2.52435489670724 \\times 10^{-29}i\\right) \\, C^{1.50000000000000} + 2.431007469653331 \\times 10^{-15}\\right)} C^{\\frac{3}{2}} - \\left(9.29947959877681 \\times 10^{-14}\\right) \\, C^{2.50000000000000} + {\\left(0.4410288100000000 \\, C^{31.0000000000000} + 4.52054530250000 \\, C^{30.0000000000000} + \\left(40.6530000290249 - 3.55271367880050 \\times 10^{-15}i\\right) \\, C^{29.0000000000000} + \\left(91.2624568163341 - 3.66373598126302 \\times 10^{-15}i\\right) \\, C^{28.0000000000000} - 0.4180600295752001 \\, C^{27.5000000000000} + \\left(212.126878369412 + 1.20736753927986 \\times 10^{-14}i\\right) \\, C^{27.0000000000000} - \\left(4.15325974844758 + 5.55111512312578 \\times 10^{-17}i\\right) \\, C^{26.5000000000000} + \\left(321.003525131621 + 3.10723669016966 \\times 10^{-14}i\\right) \\, C^{26.0000000000000} - \\left(36.8002735674391 + 9.02056207507940 \\times 10^{-16}i\\right) \\, C^{25.5000000000000} + \\left(437.414235871631 - 8.88004947352528 \\times 10^{-15}i\\right) \\, C^{25.0000000000000} - \\left(70.5785593924305 + 3.52495810318487 \\times 10^{-15}i\\right) \\, C^{24.5000000000000} + \\left(479.9522419811163 - 1.036220263241072 \\times 10^{-13}i\\right) \\, C^{24.0000000000000} - \\left(140.401378841100 + 8.68684464638836 \\times 10^{-15}i\\right) \\, C^{23.5000000000000} + \\left(452.468943587001 - 8.31756267593437 \\times 10^{-14}i\\right) \\, C^{23.0000000000000} - \\left(179.6938116731590 + 1.265437407638181 \\times 10^{-14}i\\right) \\, C^{22.5000000000000} + \\left(365.270598874903 - 3.78399568623511 \\times 10^{-14}i\\right) \\, C^{22.0000000000000} - \\left(198.8019340877223 - 1.708290627011610 \\times 10^{-14}i\\right) \\, C^{21.5000000000000} + \\left(251.172225264114 - 1.33357409316803 \\times 10^{-14}i\\right) \\, C^{21.0000000000000} - \\left(177.016598779122 - 3.43576356448739 \\times 10^{-14}i\\right) \\, C^{20.5000000000000} + \\left(148.6431949656507 - 1.434186021895614 \\times 10^{-15}i\\right) \\, C^{20.0000000000000} - \\left(129.2594870605779 + 2.790123140123876 \\times 10^{-14}i\\right) \\, C^{19.5000000000000} + \\left(75.4114937420328 + 1.85914922779667 \\times 10^{-15}i\\right) \\, C^{19.0000000000000} - \\left(78.5256805621775 + 5.68430936001563 \\times 10^{-15}i\\right) \\, C^{18.5000000000000} + \\left(32.9256303462777 - 2.45024269970862 \\times 10^{-15}i\\right) \\, C^{18.0000000000000} - \\left(39.3842500183033 + 2.96946712011192 \\times 10^{-15}i\\right) \\, C^{17.5000000000000} + \\left(12.52516451001605 - 1.514413594527753 \\times 10^{-15}i\\right) \\, C^{17.0000000000000} - \\left(15.96371043542110 + 1.410498745525648 \\times 10^{-15}i\\right) \\, C^{16.5000000000000} + \\left(4.33370763298329 + 1.78660424399613 \\times 10^{-17}i\\right) \\, C^{16.0000000000000} - \\left(5.18863198264123 + 1.88431161204428 \\times 10^{-16}i\\right) \\, C^{15.5000000000000} + \\left(1.44277452488521 + 7.55311984560868 \\times 10^{-17}i\\right) \\, C^{15.0000000000000} - \\left(1.377567680018447 + 2.193181117469381 \\times 10^{-16}i\\right) \\, C^{14.5000000000000} + \\left(0.4740437022181331 - 1.727926036575091 \\times 10^{-17}i\\right) \\, C^{14.0000000000000} - \\left(0.305557965266272 + 7.31692206128886 \\times 10^{-17}i\\right) \\, C^{13.5000000000000} + \\left(0.146785849566535 - 4.97811189268703 \\times 10^{-18}i\\right) \\, C^{13.0000000000000} - \\left(0.05674049609898307 + 1.145072077657567 \\times 10^{-17}i\\right) \\, C^{12.5000000000000} + \\left(0.0393290186471625 + 1.24790121570975 \\times 10^{-18}i\\right) \\, C^{12.0000000000000} - \\left(0.00879087441942695 + 1.45499415386852 \\times 10^{-18}i\\right) \\, C^{11.5000000000000} + \\left(0.00853531720794462 - 1.59600363289044 \\times 10^{-19}i\\right) \\, C^{11.0000000000000} - \\left(0.00121142438617149 + 3.35769154247525 \\times 10^{-20}i\\right) \\, C^{10.5000000000000} + \\left(0.00144178418005262 + 8.51697987415158 \\times 10^{-20}i\\right) \\, C^{10.0000000000000} - \\left(0.000177339624088583 - 1.67553704878741 \\times 10^{-20}i\\right) \\, C^{9.50000000000000} + \\left(0.000186174124273232 + 5.43457662447339 \\times 10^{-21}i\\right) \\, C^{9.00000000000000} - \\left(0.00002816692449012457 - 2.974544713914955 \\times 10^{-21}i\\right) \\, C^{8.50000000000000} + \\left(0.0000190565722619916 + 5.36840217546915 \\times 10^{-22}i\\right) \\, C^{8.00000000000000} - \\left(3.67226072005048 \\times 10^{-6} - 3.55713512791944 \\times 10^{-22}i\\right) \\, C^{7.50000000000000} + \\left(1.842110113485185 \\times 10^{-6} + 4.135903062765138 \\times 10^{-24}i\\right) \\, C^{7.00000000000000} - \\left(3.04287954220349 \\times 10^{-7} - 2.30576595749156 \\times 10^{-23}i\\right) \\, C^{6.50000000000000} + \\left(2.02482967374199 \\times 10^{-7} + 2.68833699079734 \\times 10^{-24}i\\right) \\, C^{6.00000000000000} - \\left(1.44427711824921 \\times 10^{-8} + 7.23783035983899 \\times 10^{-25}i\\right) \\, C^{5.50000000000000} + \\left(2.08657454144497 \\times 10^{-8} - 6.33310156485912 \\times 10^{-25}i\\right) \\, C^{5.00000000000000} - \\left(1.08638823788438 \\times 10^{-9} + 8.40105309624169 \\times 10^{-26}i\\right) \\, C^{4.50000000000000} + \\left(1.44431251379398 \\times 10^{-9} + 6.46234853557053 \\times 10^{-27}i\\right) \\, C^{4.00000000000000} - \\left(1.638268015533758 \\times 10^{-10} - 3.231174267785264 \\times 10^{-27}i\\right) \\, C^{3.50000000000000} + \\left(4.881072800953627 \\times 10^{-11} - 1.615587133892632 \\times 10^{-27}i\\right) \\, C^{3.00000000000000} - \\left(1.13030061250830 \\times 10^{-11} - 1.61558713389263 \\times 10^{-27}i\\right) \\, C^{2.50000000000000} - \\left(2.36037657000009 \\times 10^{-13} - 7.57306469012171 \\times 10^{-29}i\\right) \\, C^{1.50000000000000} + 9.67523905363601 \\times 10^{-15} + 9.86076131526265 \\times 10^{-32}i\\right)} C + {\\left(0.0181686863649086 \\, C^{26.5000000000000} + \\left(0.180935175909438 - 5.42101086242752 \\times 10^{-20}i\\right) \\, C^{25.5000000000000} + \\left(1.60354222185133 + 4.33680868994202 \\times 10^{-19}i\\right) \\, C^{24.5000000000000} + \\left(3.10459858011860 + 3.49655200626575 \\times 10^{-17}i\\right) \\, C^{23.5000000000000} - 0.000377181928935503 \\, C^{23.0000000000000} + \\left(6.16559694724619 - 3.88117272695498 \\times 10^{-16}i\\right) \\, C^{22.5000000000000} - 0.003661918769646051 \\, C^{22.0000000000000} + \\left(7.93916571271074 - 6.75564679609823 \\times 10^{-16}i\\right) \\, C^{21.5000000000000} - \\left(0.0319968444128995 - 3.46944695195361 \\times 10^{-18}i\\right) \\, C^{21.0000000000000} + \\left(8.79211142147451 - 6.97792518211671 \\times 10^{-16}i\\right) \\, C^{20.5000000000000} - \\left(0.0527279355078316 - 8.67361737988403 \\times 10^{-19}i\\right) \\, C^{20.0000000000000} + \\left(7.85804749212098 - 7.97100588659227 \\times 10^{-18}i\\right) \\, C^{19.5000000000000} - 0.0822222893443842 \\, C^{19.0000000000000} + \\left(5.752567280027416 - 1.368679275817741 \\times 10^{-16}i\\right) \\, C^{18.5000000000000} - \\left(0.0863314961986040 - 4.33680868994202 \\times 10^{-18}i\\right) \\, C^{18.0000000000000} + \\left(3.502376716112480 + 1.602083936867726 \\times 10^{-16}i\\right) \\, C^{17.5000000000000} - \\left(0.0704038129454399 - 1.66687314992475 \\times 10^{-18}i\\right) \\, C^{17.0000000000000} + \\left(1.757298585148576 + 1.115613661780562 \\times 10^{-16}i\\right) \\, C^{16.5000000000000} - \\left(0.0462055201686298 + 6.05248885949053 \\times 10^{-19}i\\right) \\, C^{16.0000000000000} + \\left(0.709686862003324 - 2.23891983782993 \\times 10^{-17}i\\right) \\, C^{15.5000000000000} - \\left(0.0240667936417242 + 2.15567144755228 \\times 10^{-19}i\\right) \\, C^{15.0000000000000} + \\left(0.2271738895162030 + 1.465452250108863 \\times 10^{-17}i\\right) \\, C^{14.5000000000000} - \\left(0.00965090392716973 - 1.56043897963677 \\times 10^{-19}i\\right) \\, C^{14.0000000000000} + \\left(0.0576179391268433 + 7.32261353061838 \\times 10^{-19}i\\right) \\, C^{13.5000000000000} - \\left(0.003013615719484684 + 3.335192229813808 \\times 10^{-20}i\\right) \\, C^{13.0000000000000} + \\left(0.0116007851231918 + 2.43498982548522 \\times 10^{-19}i\\right) \\, C^{12.5000000000000} - \\left(0.000769061423884501 - 2.86369928065858 \\times 10^{-20}i\\right) \\, C^{12.0000000000000} + \\left(0.00184274531397619 + 5.13281792570039 \\times 10^{-20}i\\right) \\, C^{11.5000000000000} - \\left(0.0001632999518074898 - 6.021047678773488 \\times 10^{-21}i\\right) \\, C^{11.0000000000000} + \\left(0.000229986734876751 + 3.17306482975341 \\times 10^{-21}i\\right) \\, C^{10.5000000000000} - \\left(0.0000272695220781812 - 3.95794108568653 \\times 10^{-22}i\\right) \\, C^{10.0000000000000} + \\left(0.00002365234989022744 + 1.070371712643618 \\times 10^{-21}i\\right) \\, C^{9.50000000000000} - \\left(3.244327545467252 \\times 10^{-6} - 1.293762176821220 \\times 10^{-23}i\\right) \\, C^{9.00000000000000} + \\left(2.38562485575194 \\times 10^{-6} - 8.93355061557270 \\times 10^{-23}i\\right) \\, C^{8.50000000000000} - \\left(2.50428364665541 \\times 10^{-7} - 2.26182198744969 \\times 10^{-24}i\\right) \\, C^{8.00000000000000} + \\left(2.68427110374239 \\times 10^{-7} - 9.66928899634740 \\times 10^{-24}i\\right) \\, C^{7.50000000000000} - \\left(1.41170589881746 \\times 10^{-8} + 3.10192729707385 \\times 10^{-25}i\\right) \\, C^{7.00000000000000} + \\left(2.68907852025440 \\times 10^{-8} - 3.20532487364298 \\times 10^{-24}i\\right) \\, C^{6.50000000000000} - \\left(1.39605968753446 \\times 10^{-9} - 5.49299625523495 \\times 10^{-26}i\\right) \\, C^{6.00000000000000} + \\left(1.72611334047667 \\times 10^{-9} - 1.16322273640270 \\times 10^{-25}i\\right) \\, C^{5.50000000000000} - \\left(1.75094071819797 \\times 10^{-10} + 6.46234853557053 \\times 10^{-27}i\\right) \\, C^{5.00000000000000} + \\left(4.998797373366603 \\times 10^{-11} + 4.038967834731580 \\times 10^{-28}i\\right) \\, C^{4.50000000000000} - \\left(1.15927631031045 \\times 10^{-11} + 6.05845175209737 \\times 10^{-28}i\\right) \\, C^{4.00000000000000} + \\left(1.229441064021272 \\times 10^{-12}\\right) \\, C^{3.50000000000000} - \\left(2.955335158821709 \\times 10^{-13} + 1.388395193188981 \\times 10^{-28}i\\right) \\, C^{3.00000000000000} + \\left(2.99107220063713 \\times 10^{-13}\\right) \\, C^{2.50000000000000} + \\left(2.312946784147316 \\times 10^{-14}\\right) \\, C^{1.50000000000000}\\right)} {\\rm Sqrt}\\left(C\\right) - \\left(2.43204270126669 \\times 10^{-15} - 7.88860905221012 \\times 10^{-31}i\\right) \\, C^{1.50000000000000} + 5.23309580551324 \\times 10^{-17}$$"
      ],
      "text/plain": [
       "24.8550913100000*C^31.0000000000000 + 10.1689828025000*C^30.0000000000000 + (77.5156250000000*C^2.50000000000000 + 16.17187500000000*C^1.50000000000000 - 33.1079011415407 - 1.42108547152020e-14*I)*C^28 + (73.6554160544155 - 3.55271367880050e-15*I)*C^29.0000000000000 + 0.810937500000000*C^(57/2) + (-77.1250000000000*C^3.50000000000000 - 18.78514999999997*C^2.50000000000000 - 1.10119250000000*C^1.50000000000000 - 71.9681890249677 - 5.68434188608080e-14*I)*C^27 + (91.2624568163341 - 3.66373598126302e-15*I)*C^28.0000000000000 + 0.00519000000000003*C^(55/2) - 0.01831151619120000*C^27.5000000000000 + ((2.69394000000005 - 2.84217094304040e-14*I)*C^3.50000000000000 + 28.83331291125617*C^2.50000000000000 + (5.91698800801875 - 3.55271367880050e-15*I)*C^1.50000000000000 - 98.2420386773524 + 4.26325641456060e-14*I)*C^26 + (212.126878369412 + 1.20736753927986e-14*I)*C^27.0000000000000 + (-(6.93889390390723e-17*I)*C^3.50000000000000 + 1.93106925000000*C^2.50000000000000 + 0.4028737500000000*C^1.50000000000000 - 1.283569304319163)*C^(51/2) + (0.294596869299375 - 6.66133814775094e-16*I)*C^(53/2) - 0.1831151619120000*C^26.5000000000000 + (31.2500000000000*C^7.00000000000000 + 15.6250000000000*C^6.00000000000000 + 95.2225787500000*C^5.00000000000000 + 38.75382500000001*C^4.00000000000000 - (28.3995866472499 + 8.52651282912120e-14*I)*C^3.50000000000000 + 4.02471826250000*C^3.00000000000000 - 129.7932939397963*C^2.50000000000000 - (26.0407928723381 + 7.10542735760100e-15*I)*C^1.50000000000000 - 109.3823875883298 + 2.131628207280301e-13*I)*C^25 + (321.003525131621 + 3.10723669016966e-14*I)*C^26.0000000000000 + (-(1.28089200000000 - 5.78870285039557e-17*I)*C^3.50000000000000 - (0.742277495280000 - 8.88178419700125e-16*I)*C^2.50000000000000 - (0.108059619840000 + 2.22044604925031e-16*I)*C^1.50000000000000 - 2.39801800437019 - 6.10622663543836e-16*I)*C^(49/2) - (1.623820774232946 + 1.114559833315099e-16*I)*C^25.5000000000000 + (-6.83000000000000*C^7.00000000000000 - (125.852480000000 - 7.10542735760100e-15*I)*C^6.00000000000000 - (76.9650168116000 - 2.66453525910038e-14*I)*C^5.00000000000000 - 16.76845942960002*C^4.00000000000000 + (123.2811190020182 + 1.421085471520200e-13*I)*C^3.50000000000000 - 1.278636579452001*C^3.00000000000000 - (198.400670532357 - 2.84217094304040e-14*I)*C^2.50000000000000 - (45.8960952511143 + 2.66453525910038e-15*I)*C^1.50000000000000 + 10.05446036396557 - 1.989519660128281e-13*I)*C^24 + (437.414235871631 - 8.88004947352528e-15*I)*C^25.0000000000000 + ((0.332890419839999 + 6.32306706993546e-16*I)*C^3.50000000000000 - 0.399078533261876*C^2.50000000000000 - (0.0954214324644422 - 1.11022302462516e-16*I)*C^1.50000000000000 - 1.49495614482728 - 2.22044604925031e-16*I)*C^(47/2) - (3.19711695501201 - 1.07336015076065e-16*I)*C^24.5000000000000 + (14.6484375000000*C^8.50000000000000 + 21.9726562500000*C^7.50000000000000 + 73.4086973125000*C^7.00000000000000 - 279.589843750000*C^6.50000000000000 + (68.5245677858500 + 2.84217094304040e-14*I)*C^6.00000000000000 - 189.819335937500*C^5.50000000000000 - (1.576068436824164 + 1.731947918415244e-14*I)*C^5.00000000000000 + 4.80468750000000*C^4.50000000000000 - (6.88814879311262 - 1.42108547152020e-14*I)*C^4.00000000000000 + (237.367451675131 + 8.88178419700125e-14*I)*C^3.50000000000000 - (0.881698700972370 + 1.77635683940025e-15*I)*C^3.00000000000000 - (85.0652444095229 - 4.54081217071689e-14*I)*C^2.50000000000000 - (26.24424936387340 - 3.837034856513100e-14*I)*C^1.50000000000000 + 107.8247562466610 - 1.023161590174570e-15*I)*C^23 + (479.939698775640 - 1.03621972113999e-13*I)*C^24.0000000000000 + (0.519000000000000*C^7.00000000000000 + 0.259500000000000*C^6.00000000000000 + 1.581456587880000*C^5.00000000000000 + 0.643623525600000*C^4.00000000000000 + (0.717769688692547 + 8.88178419700125e-16*I)*C^3.50000000000000 + 0.0668425209036000*C^3.00000000000000 - (2.66764586178404 + 4.44089209850063e-15*I)*C^2.50000000000000 - 0.582768758747782*C^1.50000000000000 - 0.747461341702930 - 1.11022302462516e-15*I)*C^(45/2) - (6.35437649671730 - 4.09408292857683e-16*I)*C^23.5000000000000 + (49.6100000000000*C^9.50000000000000 + 62.3264843750000*C^8.50000000000000 + (460.737688203650 - 2.84217094304040e-14*I)*C^7.50000000000000 - 70.5368021622840*C^7.00000000000000 + (57.5020549944999 - 5.68434188608080e-14*I)*C^6.50000000000000 + (33.3415300480243 - 5.68434188608080e-14*I)*C^6.00000000000000 - 552.781457092041*C^5.50000000000000 - (111.2189985275262 + 2.344791028008331e-13*I)*C^5.00000000000000 - 221.883928236460*C^4.50000000000000 - (52.6779233535686 + 2.84217094304040e-14*I)*C^4.00000000000000 + (114.7990261686478 - 2.273736754432321e-13*I)*C^3.50000000000000 - (5.71626284734741 - 7.10542735760100e-15*I)*C^3.00000000000000 - (37.3975099901555 + 1.58983937126322e-13*I)*C^2.50000000000000 - (12.7398644198441 + 4.95992136251289e-14*I)*C^1.50000000000000 + 241.7470534707029 + 1.180926016697281e-13*I)*C^22 + (452.347214923374 - 8.31764941210816e-14*I)*C^23.0000000000000 + (-(0.230186880000000 - 2.22044604925031e-16*I)*C^7.00000000000000 - 1.13181427392000*C^6.00000000000000 - (1.16770354953654 + 1.38777878078145e-17*I)*C^5.00000000000000 - 0.3543700142999425*C^4.00000000000000 + (1.73503642314574 - 9.52793399733309e-16*I)*C^3.50000000000000 - 0.03295924234258867*C^3.00000000000000 - (3.877707985721687 + 3.330669073875470e-15*I)*C^2.50000000000000 - (0.872388438732408 - 1.52655665885959e-16*I)*C^1.50000000000000 + 2.322908550772023 + 3.108624468950438e-15*I)*C^(43/2) - (8.27721732133140 - 9.00213063814714e-16*I)*C^22.5000000000000 + (-49.3600000000000*C^10.5000000000000 - (59.02302719999999 + 1.421085471520200e-14*I)*C^9.50000000000000 - (71.8478198659156 + 3.55271367880050e-15*I)*C^8.50000000000000 + (366.808110564356 + 3.19744231092045e-14*I)*C^7.50000000000000 - (113.985121400235 - 2.13162820728030e-14*I)*C^7.00000000000000 + (537.746687500574 + 7.12763181809350e-14*I)*C^6.50000000000000 + (108.855525913101 - 3.37507799486048e-14*I)*C^6.00000000000000 - (295.885373307798 - 5.86197757002083e-14*I)*C^5.50000000000000 - (140.6840500338835 - 1.020850071142831e-13*I)*C^5.00000000000000 - 268.595583222388*C^4.50000000000000 - (75.6296914293981 + 5.86197757002083e-14*I)*C^4.00000000000000 + (17.3046291084881 - 9.94759830064140e-14*I)*C^3.50000000000000 - (8.45625202445926 - 8.88178419700125e-15*I)*C^3.00000000000000 + (235.486832949052 - 1.14575016141316e-13*I)*C^2.50000000000000 + (47.2974455571875 - 1.27675647831893e-14*I)*C^1.50000000000000 + 297.846094053403 - 1.19785393626684e-13*I)*C^21 + (364.2025610915592 - 3.785512891650231e-14*I)*C^22.0000000000000 + (0.486562500000000*C^8.50000000000000 + (0.729843750000000 + 4.44089209850063e-16*I)*C^7.50000000000000 - (0.252926837389200 + 4.44089209850063e-16*I)*C^7.00000000000000 - (9.28685625000000 + 4.44089209850063e-16*I)*C^6.50000000000000 + (0.366493199756241 + 1.11022302462516e-16*I)*C^6.00000000000000 - 6.30503906250000*C^5.50000000000000 - (0.544615702691403 - 9.71445146547012e-17*I)*C^5.00000000000000 + 0.1595925000000000*C^4.50000000000000 - (0.280249203023079 + 2.22044604925031e-16*I)*C^4.00000000000000 + (3.04557144006387 - 4.71844785465691e-16*I)*C^3.50000000000000 - (0.0309682698892939 - 1.38777878078145e-17*I)*C^3.00000000000000 - (0.000487962720934258 - 4.37150315946155e-15*I)*C^2.50000000000000 - (0.1055533830796867 - 3.617982649584128e-16*I)*C^1.50000000000000 + 4.020556396144316 + 3.296540422364699e-15*I)*C^(41/2) - (9.23206312070316 + 2.35055030994857e-16*I)*C^21.5000000000000 + (46.50937500000001*C^11.0000000000000 + (23.93217280000000 - 1.421085471520200e-14*I)*C^10.5000000000000 + (79.4671875000000 - 2.84217094304040e-14*I)*C^10.0000000000000 - (6.22755711074802 - 1.42108547152020e-14*I)*C^9.50000000000000 - (873.154250000000 + 5.68434188608080e-14*I)*C^9.00000000000000 - (7.53980396730305 - 7.10542735760100e-15*I)*C^8.50000000000000 - (787.884296875000 - 1.42108547152020e-14*I)*C^8.00000000000000 + (449.0736403047576 + 1.598721155460225e-14*I)*C^7.50000000000000 - (230.5879835514493 - 1.634248292248230e-13*I)*C^7.00000000000000 + (1100.59828022730 + 6.66133814775094e-15*I)*C^6.50000000000000 + (234.248333277273 + 5.68434188608080e-14*I)*C^6.00000000000000 - (30.2058934924175 - 2.85993451143440e-13*I)*C^5.50000000000000 + (83.4368543175065 + 2.86437540353290e-14*I)*C^5.00000000000000 - (320.460703731798 - 1.42108547152020e-14*I)*C^4.50000000000000 + (3.15217616848055 + 7.22477633274821e-14*I)*C^4.00000000000000 - (304.720530896611 - 1.17239551400417e-13*I)*C^3.50000000000000 - (0.654107550419203 + 6.31439345255558e-15*I)*C^3.00000000000000 + (321.242307574497 + 3.92130772297605e-13*I)*C^2.50000000000000 + (76.4688757578933 + 4.25770529943748e-14*I)*C^1.50000000000000 + 292.3270210767610 + 1.000848709464819e-14*I)*C^20 + (249.3798453569624 - 1.291235913629179e-14*I)*C^21.0000000000000 + (0.4119614400000000*C^9.50000000000000 + 1.08499804500000*C^8.50000000000000 + 13.67822628940561*C^7.50000000000000 - (0.654631807460357 - 4.44089209850063e-16*I)*C^7.00000000000000 + (3.20383955129933 - 1.77635683940025e-15*I)*C^6.50000000000000 + (0.144230387020380 - 8.88178419700125e-16*I)*C^6.00000000000000 - 17.10399177359856*C^5.50000000000000 - (1.77847932402410 + 8.88178419700125e-16*I)*C^5.00000000000000 - (7.41710954972557 + 2.22044604925031e-16*I)*C^4.50000000000000 - (0.779863658595298 + 4.44089209850063e-16*I)*C^4.00000000000000 - (0.915712321184894 - 2.33146835171283e-15*I)*C^3.50000000000000 - (0.0827740195065476 - 2.77555756156289e-17*I)*C^3.00000000000000 + (1.24555857801350 + 2.27595720048157e-15*I)*C^2.50000000000000 + (0.267314086778895 - 1.02695629777827e-15*I)*C^1.50000000000000 + 4.92790361314276 - 2.37329145051646e-15*I)*C^(39/2) - (8.33498985231942 + 1.20129600711394e-16*I)*C^20.5000000000000 + (10*C^14.0000000000000 + 10.0000000000000*C^13.0000000000000 - 22.2109832000000*C^12.0000000000000 + (13.9801751500000 - 4.97379915032070e-14*I)*C^11.0000000000000 + (22.8927392209600 + 1.42108547152020e-14*I)*C^10.5000000000000 + (2158.55216726427 - 2.84217094304040e-14*I)*C^10.0000000000000 - (45.4051738465310 - 2.84217094304040e-14*I)*C^9.50000000000000 + 1372.794397019857*C^9.00000000000000 - (106.824939260999 - 5.68434188608080e-14*I)*C^8.50000000000000 - (1430.250643470400 + 1.136868377216160e-13*I)*C^8.00000000000000 - (39.9721177701823 + 2.13162820728030e-14*I)*C^7.50000000000000 - (1229.30549061914 + 5.68434188608080e-14*I)*C^7.00000000000000 + (1920.09207385122 + 1.54543045027822e-13*I)*C^6.50000000000000 - (322.808531080670 - 6.03961325396085e-14*I)*C^6.00000000000000 + (1075.369851135249 - 1.136868377216160e-13*I)*C^5.50000000000000 + (23.7913538278116 + 1.82964754458226e-13*I)*C^5.00000000000000 - (128.5414478738257 + 1.136868377216160e-13*I)*C^4.50000000000000 + (23.5108567503612 + 7.68274333040608e-14*I)*C^4.00000000000000 - (482.266453249984 - 2.34479102800833e-13*I)*C^3.50000000000000 + (2.61922420520805 - 4.37150315946155e-15*I)*C^3.00000000000000 + (363.306049458968 - 2.14495088357580e-13*I)*C^2.50000000000000 + (91.8797141178845 + 1.21430643318376e-14*I)*C^1.50000000000000 + 235.105210459066 - 4.67343178045532e-14*I)*C^19 + (145.5401098102388 - 1.339152472164148e-15*I)*C^20.0000000000000 + (-(0.275387983411200 + 2.22044604925031e-16*I)*C^9.50000000000000 - (0.724110434343975 + 1.38777878078145e-16*I)*C^8.50000000000000 + (10.17565210491207 - 1.804112415015879e-15*I)*C^7.50000000000000 - (0.916548614780646 - 5.82867087928207e-16*I)*C^7.00000000000000 + (26.93031660883342 + 3.442558738075974e-15*I)*C^6.50000000000000 + (0.806689164374434 + 2.51187959321442e-15*I)*C^6.00000000000000 + (0.3429077108542795 - 2.775557561562891e-17*I)*C^5.50000000000000 - (2.21268915211966 + 4.08006961549745e-15*I)*C^5.00000000000000 - (7.40461370200039 + 8.88178419700125e-16*I)*C^4.50000000000000 - (1.05089726227147 - 5.27355936696949e-16*I)*C^4.00000000000000 - (3.59709906642319 - 3.88578058618805e-16*I)*C^3.50000000000000 - (0.1139209881164534 - 1.387778780781446e-17*I)*C^3.00000000000000 + (4.95557093302848 - 1.52655665885959e-15*I)*C^2.50000000000000 + (1.12555922206816 - 5.15212872365112e-16*I)*C^1.50000000000000 + 4.46373981834255 + 9.43198291821976e-16*I)*C^(37/2) - (6.18204637850222 + 3.16587034365767e-17*I)*C^19.5000000000000 + (-6.68480000000000*C^14.0000000000000 - 6.68480000000000*C^13.0000000000000 - 89.5995719504640*C^12.0000000000000 - (1333.42579312790 - 3.19744231092045e-14*I)*C^11.0000000000000 + 61.4117414370024*C^10.5000000000000 + (352.037499043300 + 1.17683640610267e-13*I)*C^10.0000000000000 - (41.55193916168528 + 2.131628207280301e-14*I)*C^9.50000000000000 + (4302.71173148096 + 2.41584530158434e-13*I)*C^9.00000000000000 - (119.673921442929 - 6.21724893790088e-14*I)*C^8.50000000000000 + (1678.212018068339 + 2.557953848736361e-13*I)*C^8.00000000000000 - (1034.76056398236 - 2.92876833896116e-13*I)*C^7.50000000000000 - (319.623929314761 + 3.12749826036907e-13*I)*C^7.00000000000000 + (1313.96308996198 + 9.20791221048489e-13*I)*C^6.50000000000000 - (409.1693620612748 + 1.776356839400250e-13*I)*C^6.00000000000000 + (2150.31430840150 - 5.12478948166972e-13*I)*C^5.50000000000000 + (147.882671514180 + 1.55431223447522e-14*I)*C^5.00000000000000 + (451.9654271782104 - 2.269850973846132e-13*I)*C^4.50000000000000 + (96.6313507594206 - 7.77156117237610e-15*I)*C^4.00000000000000 - (488.632300203956 + 2.98427949019242e-13*I)*C^3.50000000000000 + (10.93537690216375 + 1.387778780781446e-15*I)*C^3.00000000000000 + (300.720116553040 - 9.76996261670138e-14*I)*C^2.50000000000000 + (81.2989461023830 + 2.19269047363468e-14*I)*C^1.50000000000000 + 157.940686602235 + 1.71408026661268e-14*I)*C^18 + (71.9470116727145 + 2.14738437535195e-15*I)*C^19.0000000000000 + (-(4.16333634234434e-17*I)*C^12.0000000000000 + (1.15864155000000 - 6.24500451351651e-17*I)*C^11.0000000000000 + (1.97968657500000 + 1.68282054957558e-15*I)*C^10.0000000000000 - (0.143959795852109 + 2.22044604925031e-16*I)*C^9.50000000000000 - (21.7520186760000 - 5.39499001028787e-16*I)*C^9.00000000000000 - (1.483559441248597 + 1.387778780781446e-16*I)*C^8.50000000000000 - (19.6277736037500 + 4.57744953052952e-16*I)*C^8.00000000000000 - (0.341378014038801 - 2.08166817117217e-16*I)*C^7.50000000000000 - (2.50561623380974 + 6.86738166333356e-16*I)*C^7.00000000000000 + (29.1398818757742 - 3.71751240901830e-15*I)*C^6.50000000000000 + 3.09417502468781*C^6.00000000000000 + (16.7937461612464 - 3.56659146660831e-15*I)*C^5.50000000000000 + (1.98013535757497 - 1.59247615094671e-15*I)*C^5.00000000000000 - (1.67119316529780 - 8.88178419700125e-16*I)*C^4.50000000000000 + (0.475007986342767 - 2.60208521396521e-16*I)*C^4.00000000000000 - (5.13597111822285 + 1.77635683940025e-15*I)*C^3.50000000000000 + (0.0398351820267364 + 6.41305585025176e-17*I)*C^3.00000000000000 + (5.56126014052218 - 1.73125402902485e-15*I)*C^2.50000000000000 + (1.325723700676131 + 1.431146867680866e-16*I)*C^1.50000000000000 + 3.22212420016197 + 4.00260337027336e-16*I)*C^(35/2) - (3.82095625882307 - 3.81991503951176e-16*I)*C^18.5000000000000 + (18.7500000000000*C^15.5000000000000 + 37.5000000000000*C^14.5000000000000 - 3.494496860000002*C^14.0000000000000 - 286.678952750000*C^13.5000000000000 - 3.494496860000002*C^13.0000000000000 - 312.953634125000*C^12.5000000000000 + (44.7744501643513 - 2.84217094304040e-14*I)*C^12.0000000000000 - (1168.53007338750 + 5.77315972805081e-14*I)*C^11.5000000000000 - (1072.70452116792 + 2.29150032282632e-13*I)*C^11.0000000000000 - (1074.20529899384 - 4.26325641456060e-14*I)*C^10.5000000000000 - (2847.65078623564 + 6.66133814775094e-16*I)*C^10.0000000000000 - (229.578703217603 + 7.19424519957101e-14*I)*C^9.50000000000000 + (2031.927770466598 + 2.842170943040401e-13*I)*C^9.00000000000000 + (38.6668461360901 - 2.30926389122033e-14*I)*C^8.50000000000000 + (2798.72959131761 + 2.93237656379120e-14*I)*C^8.00000000000000 - (1328.66443920204 - 5.99520433297584e-15*I)*C^7.50000000000000 + (736.015982926651 + 2.11275441586167e-13*I)*C^7.00000000000000 + (322.3904922221657 + 2.233213614033502e-13*I)*C^6.50000000000000 - (345.761888894602 - 6.93889390390723e-18*I)*C^6.00000000000000 + (2234.31721818153 + 6.30620555774897e-13*I)*C^5.50000000000000 + (138.265546585039 + 8.88178419700125e-16*I)*C^5.00000000000000 + (778.271032856495 + 1.70773985230799e-13*I)*C^4.50000000000000 + (106.871178863089 - 6.50590692430342e-14*I)*C^4.00000000000000 - (362.373699216755 - 9.94759830064140e-14*I)*C^3.50000000000000 + (12.64489250654986 - 2.775557561562891e-16*I)*C^3.00000000000000 + (200.566203738627 + 2.84217094304040e-14*I)*C^2.50000000000000 + (57.4698824036058 - 1.13242748511766e-14*I)*C^1.50000000000000 + 89.9482019172847 + 9.21051429569886e-15*I)*C^17 + (29.6531486472933 - 2.38483820365343e-15*I)*C^18.0000000000000 + (-(0.768535200000000 + 5.55111512312578e-17*I)*C^12.0000000000000 + (0.282939329196000 - 8.88178419700125e-16*I)*C^11.0000000000000 + (45.7288625716050 + 8.88178419700125e-16*I)*C^10.0000000000000 - (0.483794099574136 - 6.66133814775094e-16*I)*C^9.50000000000000 + (32.05272888536147 + 1.554312234475219e-15*I)*C^9.00000000000000 - (2.62499088291559 - 4.44089209850063e-16*I)*C^8.50000000000000 - (32.5151283122536 + 1.77635683940025e-15*I)*C^8.00000000000000 - (12.1317318399654 - 1.97064586870965e-15*I)*C^7.50000000000000 - (25.6161561697335 - 9.43689570931383e-16*I)*C^7.00000000000000 + (30.9930190853784 - 3.10862446895044e-15*I)*C^6.50000000000000 - (6.27879487541153 + 1.44328993201270e-15*I)*C^6.00000000000000 + (34.1747760352040 + 2.63677968348475e-15*I)*C^5.50000000000000 + (1.19330845077457 + 3.49720252756924e-15*I)*C^5.00000000000000 + (4.45439542874502 + 8.89913143176102e-16*I)*C^4.50000000000000 + (0.748030826352462 + 6.52256026967280e-16*I)*C^4.00000000000000 - (4.99118172953607 + 2.22044604925031e-16*I)*C^3.50000000000000 + (0.0809610520693061 + 1.50487261540988e-16*I)*C^3.00000000000000 + (5.15541076263937 - 3.19189119579733e-16*I)*C^2.50000000000000 + (1.254667624292298 + 1.799775606325937e-16*I)*C^1.50000000000000 + 1.91895649353427 + 7.78755315442026e-16*I)*C^(33/2) - (1.955982504436547 + 3.581467059227995e-18*I)*C^17.5000000000000 + ((26.3435000000000 + 3.55271367880050e-15*I)*C^15.5000000000000 + (441.708887000000 + 3.19744231092045e-14*I)*C^14.5000000000000 - (11.74367434908800 + 1.421085471520200e-14*I)*C^14.0000000000000 + (381.139580605620 - 1.57207580286922e-13*I)*C^13.5000000000000 - (11.74367434908800 + 1.421085471520200e-14*I)*C^13.0000000000000 + (2399.31184321089 - 1.52766688188422e-13*I)*C^12.5000000000000 + (100.6912174959052 + 1.421085471520200e-14*I)*C^12.0000000000000 + (2213.021948646697 - 2.842170943040401e-13*I)*C^11.5000000000000 - (157.3425914310251 - 1.136868377216160e-13*I)*C^11.0000000000000 - (1238.65576914070 + 2.32702745961433e-13*I)*C^10.5000000000000 - (3830.944221623683 + 1.648015057753582e-12*I)*C^10.0000000000000 - (1593.92606562482 - 7.10542735760100e-15*I)*C^9.50000000000000 + (493.189571394879 - 4.05009359383257e-13*I)*C^9.00000000000000 - (653.683055527921 + 1.07469588783715e-13*I)*C^8.50000000000000 + (3588.12193363735 - 3.97931687601272e-13*I)*C^8.00000000000000 - (1795.70820176344 + 5.68434188608080e-14*I)*C^7.50000000000000 + (1587.19162232503 + 1.63424829224823e-13*I)*C^7.00000000000000 - (775.967496959615 - 2.42028619368284e-13*I)*C^6.50000000000000 - (167.648478355409 - 1.84741111297626e-13*I)*C^6.00000000000000 + (2061.99792549005 + 2.30482299912182e-13*I)*C^5.50000000000000 + (128.154818379936 - 1.24344978758018e-14*I)*C^5.00000000000000 + (1015.30041307806 + 5.73360803279854e-14*I)*C^4.50000000000000 + (99.1305270309879 - 6.66133814775094e-15*I)*C^4.00000000000000 - (172.256747717122 + 2.84217094304040e-14*I)*C^3.50000000000000 + (11.9009502050189 + 1.06165076729781e-15*I)*C^3.00000000000000 + (112.4874139698710 - 1.243449787580175e-14*I)*C^2.50000000000000 + (33.5472232314083 - 6.10622663543836e-15*I)*C^1.50000000000000 + 43.4304541993275 + 4.54757759227320e-15*I)*C^16 + (10.0218099425209 - 1.54231824794210e-15*I)*C^17.0000000000000 + (-(1.04801851027200 - 2.22044604925031e-16*I)*C^12.0000000000000 - (23.1836680026183 + 8.88178419700125e-16*I)*C^11.0000000000000 + (2.68153635317518 - 7.10542735760100e-15*I)*C^10.0000000000000 - (0.616886386219120 - 3.60822483003176e-16*I)*C^9.50000000000000 + (102.014042808107 - 2.22044604925031e-15*I)*C^9.00000000000000 - (2.889687738051196 - 2.324529457808922e-16*I)*C^8.50000000000000 + (53.0034345410370 + 1.33226762955019e-15*I)*C^8.00000000000000 - (31.8386820543514 + 4.23619472833536e-15*I)*C^7.50000000000000 - (3.84901740867731 + 4.44089209850063e-15*I)*C^7.00000000000000 + (5.10011190441442 - 7.16137218970125e-15*I)*C^6.50000000000000 - (7.88440213424252 - 2.22044604925031e-16*I)*C^6.00000000000000 + (47.4271990773122 + 5.55111512312578e-17*I)*C^5.50000000000000 + (1.83978100422135 + 8.04911692853238e-16*I)*C^5.00000000000000 + (16.7454669117097 + 1.78156100982818e-15*I)*C^4.50000000000000 + (1.39224441270631 - 4.71844785465691e-16*I)*C^4.00000000000000 - (1.906625459499195 - 1.332267629550188e-15*I)*C^3.50000000000000 + (0.158768306079087 - 5.63785129692462e-17*I)*C^3.00000000000000 + (3.86153741557916 + 6.93889390390723e-16*I)*C^2.50000000000000 + (0.927051375313264 - 3.46944695195361e-17*I)*C^1.50000000000000 + 0.950428405069693 - 6.76542155630955e-17*I)*C^(31/2) - (0.813490385318747 + 7.37437471791435e-18*I)*C^16.5000000000000 + (2.44140625000000*C^17.0000000000000 + 22.5830078125000*C^16.0000000000000 + (10.00167986750002 + 1.421085471520200e-14*I)*C^15.5000000000000 + 196.585083007812*C^15.0000000000000 + (251.035589945320 + 1.77635683940025e-13*I)*C^14.5000000000000 + (234.622795944535 - 7.10542735760100e-15*I)*C^14.0000000000000 - (1640.60710021488 - 4.26325641456060e-14*I)*C^13.5000000000000 + (389.312859421098 - 7.10542735760100e-15*I)*C^13.0000000000000 - (1097.90939552513 + 3.51718654201250e-13*I)*C^12.5000000000000 + (531.460642876592 + 7.97972798949331e-14*I)*C^12.0000000000000 + (5479.99327095679 + 9.23705556488130e-14*I)*C^11.5000000000000 + (1149.21299266306 + 3.65929508916452e-13*I)*C^11.0000000000000 + (4397.15686018769 + 3.90798504668055e-13*I)*C^10.5000000000000 - (5493.10566268736 + 1.11957665360762e-12*I)*C^10.0000000000000 + (726.138462465101 + 1.56319401867222e-13*I)*C^9.50000000000000 - (3933.16340478485 + 7.72881758592803e-13*I)*C^9.00000000000000 - (336.502664161062 + 7.10542735760100e-14*I)*C^8.50000000000000 + (3399.85088559980 - 9.12078572390396e-13*I)*C^8.00000000000000 - (1478.301341733490 + 1.820765760385257e-13*I)*C^7.50000000000000 + (2817.42586190681 - 2.76445533131664e-14*I)*C^7.00000000000000 - (1701.59894460869 + 2.81552559044940e-13*I)*C^6.50000000000000 + (351.818395891377 + 1.13674694657284e-13*I)*C^6.00000000000000 + (1081.025676321231 + 1.151301276536287e-13*I)*C^5.50000000000000 + (143.977349193968 - 4.26325641456060e-14*I)*C^5.00000000000000 + (899.091831170821 - 2.13856710118421e-14*I)*C^4.50000000000000 + (74.8580365561318 + 1.15463194561016e-14*I)*C^4.00000000000000 - (13.88710056367800 + 2.131628207280301e-14*I)*C^3.50000000000000 + (8.79343732832090 + 2.33146835171283e-15*I)*C^3.00000000000000 + (57.4921621449642 - 3.55271367880050e-15*I)*C^2.50000000000000 + (16.44434247756351 - 1.110223024625157e-15*I)*C^1.50000000000000 + 17.6204982709532 - 6.19946802227211e-16*I)*C^15 + (2.750438728821788 - 1.569920510594274e-16*I)*C^16.0000000000000 + (0.311400000000000*C^15.5000000000000 + 0.622800000000000*C^14.5000000000000 - 4.761164047272000*C^13.5000000000000 - (5.19753395554800 - 8.88178419700125e-16*I)*C^12.5000000000000 + (1.87762592495495 + 2.22044604925031e-16*I)*C^12.0000000000000 - 19.40694745881960*C^11.5000000000000 - (13.4431095987546 + 4.44089209850063e-16*I)*C^11.0000000000000 - (19.2471499971250 + 3.46944695195361e-17*I)*C^10.5000000000000 - (83.2975084270271 + 7.21644966006352e-15*I)*C^10.0000000000000 - (4.90987094881172 - 2.22044604925031e-16*I)*C^9.50000000000000 + (10.39225044318973 - 2.664535259100376e-15*I)*C^9.00000000000000 - (0.0214489472861128 - 3.20923843055709e-17*I)*C^8.50000000000000 + (75.3042366282921 + 8.88178419700125e-16*I)*C^8.00000000000000 - (28.7721096854341 - 4.25354196309513e-15*I)*C^7.50000000000000 + (30.4886831563435 + 2.33146835171283e-15*I)*C^7.00000000000000 - (26.5227597664032 + 3.35148575558719e-15*I)*C^6.50000000000000 + (0.355557932559153 + 4.44089209850063e-16*I)*C^6.00000000000000 + (27.25804663050591 + 2.013363434305582e-16*I)*C^5.50000000000000 + (2.142763213238552 - 1.443289932012704e-15*I)*C^5.00000000000000 + (17.94941022869366 - 1.336367269014899e-15*I)*C^4.50000000000000 + (1.29176816051816 + 5.68989300120393e-16*I)*C^4.00000000000000 + 0.936765440767536*C^3.50000000000000 + (0.149242354850869 - 8.54351311918577e-17*I)*C^3.00000000000000 + (2.56583874144420 + 1.11022302462516e-16*I)*C^2.50000000000000 + (0.575228091691391 + 1.11022302462516e-16*I)*C^1.50000000000000 + 0.387927339419042 - 2.34662007707331e-17*I)*C^(29/2) - (0.271558685761060 + 1.66150277164259e-17*I)*C^15.5000000000000 + (29.76600000000000*C^18.0000000000000 + 70.3802812500000*C^17.0000000000000 - (458.391392234060 + 4.97379915032070e-14*I)*C^16.0000000000000 + (0.729477927787016 - 1.42108547152020e-14*I)*C^15.5000000000000 - (342.879413284077 + 2.13162820728030e-14*I)*C^15.0000000000000 + (1075.35276201308 + 4.26325641456060e-14*I)*C^14.5000000000000 - (420.388233422407 + 7.81597009336110e-14*I)*C^14.0000000000000 + (721.603954580960 + 7.81597009336110e-13*I)*C^13.5000000000000 - (2.97564143179329 - 3.90798504668055e-14*I)*C^13.0000000000000 - (6733.10237826555 - 8.95283847057726e-13*I)*C^12.5000000000000 + (635.635336425217 + 1.55431223447522e-14*I)*C^12.0000000000000 - (3087.45258807747 + 6.24833518259038e-13*I)*C^11.5000000000000 + (3398.93315891189 + 2.61124455391837e-13*I)*C^11.0000000000000 + (3010.76472576499 + 1.13686837721616e-13*I)*C^10.5000000000000 - (2213.14371531529 + 6.36643515683488e-13*I)*C^10.0000000000000 + (2351.27304744486 + 3.41060513164848e-13*I)*C^9.50000000000000 - (7464.47465610598 + 1.32949207198862e-12*I)*C^9.00000000000000 + (453.928179720780 + 1.22568621918617e-13*I)*C^8.50000000000000 - (567.899325802775 + 2.24098517520588e-13*I)*C^8.00000000000000 - (768.968931282733 - 1.59872115546023e-14*I)*C^7.50000000000000 + (1930.92400614190 - 9.95887400323525e-14*I)*C^7.00000000000000 - (1581.16276731271 + 9.50350909079134e-14*I)*C^6.50000000000000 + (521.726421265452 - 4.66248675952408e-14*I)*C^6.00000000000000 + (291.820866916854 + 8.88178419700125e-16*I)*C^5.50000000000000 + (148.832010714052 + 5.32907051820075e-15*I)*C^5.00000000000000 + (562.488195441483 + 5.62154489625044e-14*I)*C^4.50000000000000 + (50.6693961026022 - 4.44089209850063e-15*I)*C^4.00000000000000 + (42.2729759635447 + 1.42108547152020e-14*I)*C^3.50000000000000 + (5.53013156100980 + 3.88578058618805e-16*I)*C^3.00000000000000 + (26.2697908640439 + 3.55271367880050e-15*I)*C^2.50000000000000 + (6.70737987087512 - 5.55111512312578e-16*I)*C^1.50000000000000 + 5.96218234856266 - 7.24463891654814e-16*I)*C^14 + (0.610918269285038 - 1.04748329422203e-17*I)*C^15.0000000000000 + (0.3674603040000001*C^15.5000000000000 + (7.80582860764800 + 2.22044604925031e-16*I)*C^14.5000000000000 + (8.59586392350844 - 8.95117313604032e-16*I)*C^13.5000000000000 + (29.8345337368823 + 4.44089209850063e-16*I)*C^12.5000000000000 + 2.860269536163794*C^12.0000000000000 + (27.9386370676351 + 4.71150896075301e-15*I)*C^11.5000000000000 + (21.3553788497042 + 5.32907051820075e-15*I)*C^11.0000000000000 - (20.0209471977552 + 8.32667268468867e-17*I)*C^10.5000000000000 - (55.9223797397817 - 6.21724893790088e-15*I)*C^10.0000000000000 - (25.3992368985016 + 4.57966997657877e-16*I)*C^9.50000000000000 - (53.82503994366891 - 1.376676550535194e-14*I)*C^9.00000000000000 - (8.98387596509886 + 1.52655665885959e-16*I)*C^8.50000000000000 + (33.0195744842271 - 5.32907051820075e-15*I)*C^8.00000000000000 - (20.4120654584365 - 1.83186799063151e-15*I)*C^7.50000000000000 + (28.3369563437450 - 2.22044604925031e-15*I)*C^7.00000000000000 - (30.53575206589393 - 5.481726184086710e-15*I)*C^6.50000000000000 + (3.41478780051217 - 4.44089209850063e-16*I)*C^6.00000000000000 + (10.36534698996844 + 1.783295733304158e-15*I)*C^5.50000000000000 + (1.98157013345301 + 5.55111512312578e-17*I)*C^5.00000000000000 + (12.52404250966363 - 1.770068466799835e-15*I)*C^4.50000000000000 + (0.977394795885271 - 1.38777878078145e-17*I)*C^4.00000000000000 + (1.61630868454108 - 5.55111512312578e-16*I)*C^3.50000000000000 + (0.111515476378323 - 6.67868538251071e-17*I)*C^3.00000000000000 + (1.43444683920455 + 2.22044604925031e-16*I)*C^2.50000000000000 + (0.298779712514297 - 9.36750677027476e-17*I)*C^1.50000000000000 + 0.131292319788685 + 7.26584862154739e-18*I)*C^(27/2) - (0.0729876870444608 + 5.31799048021772e-18*I)*C^14.5000000000000 + (-29.6160000000000*C^19.0000000000000 - 31.51132623999999*C^18.0000000000000 + (1316.53219286572 - 8.88178419700125e-16*I)*C^17.0000000000000 + (1849.797386795505 + 1.776356839400250e-15*I)*C^16.0000000000000 - (168.061461279271 + 1.42108547152020e-14*I)*C^15.5000000000000 + (2033.11630201748 + 1.45827794284514e-13*I)*C^15.0000000000000 + (192.2419303477253 - 1.421085471520200e-13*I)*C^14.5000000000000 + (1683.124906153630 + 1.012523398458143e-13*I)*C^14.0000000000000 + (5813.15637267956 + 1.10134124042816e-13*I)*C^13.5000000000000 + (768.121686514398 - 9.32587340685131e-14*I)*C^13.0000000000000 + (665.990096622008 + 6.53699316899292e-13*I)*C^12.5000000000000 + (334.211510072177 + 4.12336831345783e-13*I)*C^12.0000000000000 - (4779.52436113779 - 4.68070027181966e-13*I)*C^11.5000000000000 + (3225.703492622065 + 1.536548666081217e-13*I)*C^11.0000000000000 - (842.127786110239 + 3.49942297361849e-13*I)*C^10.5000000000000 + (1843.31538927129 + 6.08124661738429e-13*I)*C^10.0000000000000 + (1120.40894819053 - 4.26325641456060e-14*I)*C^9.50000000000000 - (4811.60403562556 + 3.81361608958741e-13*I)*C^9.00000000000000 + (417.725000992847 + 3.19744231092045e-14*I)*C^8.50000000000000 - (1747.92108482895 + 4.61353177882984e-13*I)*C^8.00000000000000 - (294.805253854225 + 1.59872115546023e-14*I)*C^7.50000000000000 + (851.574422004731 - 1.70058411796958e-13*I)*C^7.00000000000000 - (1101.02899663863 + 8.70414851306123e-14*I)*C^6.50000000000000 + (371.751978436031 - 4.61531854401009e-14*I)*C^6.00000000000000 - (89.0649434571854 + 1.74971148680925e-13*I)*C^5.50000000000000 + 104.2128785732806*C^5.00000000000000 + (280.624470477862 + 2.86506929292329e-14*I)*C^4.50000000000000 + (28.5063150046141 - 7.99360577730113e-15*I)*C^4.00000000000000 + (46.1900001376122 + 9.76996261670138e-15*I)*C^3.50000000000000 + (2.91297825896584 - 3.88578058618805e-16*I)*C^3.00000000000000 + (11.79051960246635 + 2.664535259100376e-15*I)*C^2.50000000000000 + (2.34114512414732 + 4.16333634234434e-16*I)*C^1.50000000000000 + 1.67409012816951 - 4.96564594998361e-17*I)*C^13 + (0.110080241567648 + 8.57620859094979e-19*I)*C^14.0000000000000 + (0.0810937500000000*C^17.0000000000000 + 0.750117187500000*C^16.0000000000000 - 0.830884764476400*C^15.5000000000000 + (6.52977011718750 + 4.44089209850063e-16*I)*C^15.0000000000000 + 1.41641745949288*C^14.5000000000000 + 8.29061953125000*C^14.0000000000000 + (3.86514253277862 - 1.33226762955019e-15*I)*C^13.5000000000000 + (13.4288046796875 + 3.55271367880050e-15*I)*C^13.0000000000000 + (9.21233511784777 - 2.77555756156289e-16*I)*C^12.5000000000000 + (12.9833543858877 - 4.44089209850063e-16*I)*C^12.0000000000000 + (82.5021369278454 - 1.77635683940025e-15*I)*C^11.5000000000000 + (32.6712634887316 - 9.99200722162641e-16*I)*C^11.0000000000000 + (67.4022599234109 - 5.27355936696949e-15*I)*C^10.5000000000000 - (20.0903551483243 - 6.49480469405717e-15*I)*C^10.0000000000000 + (12.0559496798038 - 5.55111512312578e-17*I)*C^9.50000000000000 - (56.4837901035567 - 2.34257058195908e-14*I)*C^9.00000000000000 - (3.837595924212335 - 1.110223024625157e-16*I)*C^8.50000000000000 + (23.74798100196343 + 6.883382752675971e-15*I)*C^8.00000000000000 - (11.06456286947304 + 2.817190924986335e-15*I)*C^7.50000000000000 + (31.10857434398780 - 3.996802888650563e-15*I)*C^7.00000000000000 - (25.57791569890270 - 2.756475603327146e-15*I)*C^6.50000000000000 + (6.50699521319410 - 7.77156117237610e-16*I)*C^6.00000000000000 - (0.537240230219864 - 3.48592682497539e-15*I)*C^5.50000000000000 + (1.62355278832776 - 6.66133814775094e-16*I)*C^5.00000000000000 + (6.94307091379616 + 4.43330268329323e-16*I)*C^4.50000000000000 + (0.585655115943397 - 1.66533453693773e-16*I)*C^4.00000000000000 + (1.480561751966027 - 1.387778780781446e-17*I)*C^3.50000000000000 + (0.0653403286953112 - 1.38777878078145e-17*I)*C^3.00000000000000 + (0.716309914125007 - 1.11022302462516e-16*I)*C^2.50000000000000 + (0.132791802047690 - 9.54097911787244e-18*I)*C^1.50000000000000 + 0.0377474255356182 + 1.49755425074560e-18*I)*C^(25/2) - (0.01589553502321723 + 2.135184771570879e-18*I)*C^13.5000000000000 + (7.75156250000000*C^19.5000000000000 - 33.7236544000000*C^19.0000000000000 + 73.3191406250000*C^18.5000000000000 - (885.803879906116 - 7.10542735760100e-15*I)*C^18.0000000000000 + 639.124486328125*C^17.5000000000000 - (886.511580262397 - 2.34201547044677e-13*I)*C^17.0000000000000 + 922.698951171875*C^16.5000000000000 + (1782.900732535769 - 1.136868377216160e-13*I)*C^16.0000000000000 + 1240.21991341087*C^15.5000000000000 + (3454.82532615453 - 3.19744231092045e-13*I)*C^15.0000000000000 - (829.231923574896 - 1.42108547152020e-14*I)*C^14.5000000000000 + (5127.81342095441 - 2.54019028034236e-13*I)*C^14.0000000000000 + (3433.02069933923 - 4.01456645704457e-13*I)*C^13.5000000000000 + (5099.47503149483 - 4.97379915032070e-13*I)*C^13.0000000000000 + (5047.02638045347 - 9.16600129130529e-13*I)*C^12.5000000000000 + (2672.90632809947 - 7.99360577730113e-15*I)*C^12.0000000000000 - (591.020794776006 - 2.84217094304040e-14*I)*C^11.5000000000000 + (3046.57102342222 - 3.86357612569555e-14*I)*C^11.0000000000000 + (230.899897632420 + 8.08242361927114e-14*I)*C^10.5000000000000 + (2987.714673499186 - 1.161293283757914e-13*I)*C^10.0000000000000 + (1338.512430357976 - 1.065814103640150e-14*I)*C^9.50000000000000 - (2503.03284535443 + 2.10942374678780e-14*I)*C^9.00000000000000 + (553.894729474608 - 1.06581410364015e-13*I)*C^8.50000000000000 - (1768.33278717613 + 1.63757896132211e-14*I)*C^8.00000000000000 + (8.33111716793368 + 1.77635683940025e-15*I)*C^7.50000000000000 + (215.969406038907 + 9.21346332560802e-14*I)*C^7.00000000000000 - (576.859169375683 - 5.06261699229071e-14*I)*C^6.50000000000000 + (224.149912234017 - 1.41870022674073e-14*I)*C^6.00000000000000 - (194.745275224761 - 2.59792187762287e-14*I)*C^5.50000000000000 + (65.6548434734105 - 2.44249065417534e-15*I)*C^5.00000000000000 + (91.6524442954547 - 1.39749323224692e-14*I)*C^4.50000000000000 + (14.39581799278118 - 1.998401444325282e-15*I)*C^4.00000000000000 + (26.9065258185895 + 1.77635683940025e-15*I)*C^3.50000000000000 + (1.329220562320320 + 1.110223024625157e-16*I)*C^3.00000000000000 + (5.15656683927810 + 7.77156117237610e-16*I)*C^2.50000000000000 + (0.736817139580651 + 4.16333634234434e-17*I)*C^1.50000000000000 + 0.388085903859996 - 3.44776290850390e-17*I)*C^12 + (0.01638337669872202 + 1.507685558888152e-19*I)*C^13.0000000000000 + (0.247176864000000*C^18.0000000000000 + 0.681743868000000*C^17.0000000000000 - (2.90640150548663 + 5.55111512312578e-17*I)*C^16.0000000000000 - 1.00945747034608*C^15.5000000000000 + (4.98793111110464 - 8.60422844084496e-16*I)*C^15.0000000000000 - 8.91159857897945*C^14.5000000000000 + (6.39033351242921 + 2.51534904016637e-16*I)*C^14.0000000000000 - (5.241173364957206 - 1.831867990631508e-15*I)*C^13.5000000000000 + (16.0219387996324 + 5.10702591327572e-15*I)*C^13.0000000000000 - (54.3551361966641 - 3.99680288865056e-15*I)*C^12.5000000000000 + (17.8134429964110 - 1.38777878078145e-17*I)*C^12.0000000000000 - (15.9909006934501 - 1.33920652345409e-15*I)*C^11.5000000000000 + (35.8551504331703 - 4.03496680512205e-15*I)*C^11.0000000000000 + (58.0726294893278 - 5.99520433297584e-15*I)*C^10.5000000000000 + (6.04836081525868 - 7.99555734121160e-15*I)*C^10.0000000000000 + (42.9382301931957 - 4.44089209850063e-16*I)*C^9.50000000000000 - (63.7189116939665 + 4.88541498921968e-15*I)*C^9.00000000000000 + (11.7352857959336 - 6.38378239159465e-16*I)*C^8.50000000000000 - (10.2461107715051 - 2.88636302359091e-15*I)*C^8.00000000000000 - (0.4921937991844731 + 1.332267629550188e-15*I)*C^7.50000000000000 + (18.26987250333285 + 2.331475127976407e-15*I)*C^7.00000000000000 - (14.06432001669249 + 2.081668171172168e-15*I)*C^6.50000000000000 + (6.58887402172161 + 4.44088998091826e-16*I)*C^6.00000000000000 - (4.87110339473882 + 9.00321484031963e-16*I)*C^5.50000000000000 + 1.44753075292371*C^5.00000000000000 + (2.13376169443631 + 6.65266453037106e-16*I)*C^4.50000000000000 + (0.332436133997114 - 1.38777878078145e-17*I)*C^4.00000000000000 + (0.776828559474640 + 1.11022302462516e-16*I)*C^3.50000000000000 + (0.03282492919987524 + 1.301042606982605e-18*I)*C^3.00000000000000 + (0.303620201633814 + 2.94902990916057e-17*I)*C^2.50000000000000 + (0.0502046405753882 - 1.51788304147971e-18*I)*C^1.50000000000000 + 0.00929635779549032 + 4.06575814682064e-20*I)*C^(23/2) - (0.00279145035494429 + 1.25051510644542e-19*I)*C^12.5000000000000 + (6*C^22.5000000000000 + 15.0000000000000*C^21.5000000000000 - (98.7940899200000 - 1.11022302462516e-16*I)*C^20.5000000000000 - (219.406023240000 - 4.44089209850063e-16*I)*C^19.5000000000000 + 80.3120818030400*C^19.0000000000000 - (840.296159387540 - 4.44089209850063e-16*I)*C^18.5000000000000 - (244.416740077783 + 1.13686837721616e-13*I)*C^18.0000000000000 - (252.258348476295 - 4.92939022933570e-14*I)*C^17.5000000000000 - (3104.91466826497 - 8.65071903000114e-14*I)*C^17.0000000000000 - (256.654858605077 + 2.48689957516035e-14*I)*C^16.5000000000000 - (2651.20323015469 - 8.88178419700125e-14*I)*C^16.0000000000000 + (690.900074699972 - 5.06261699229071e-13*I)*C^15.5000000000000 - (1146.327016684545 + 3.996802888650563e-15*I)*C^15.0000000000000 - (941.821519643883 + 3.26405569239796e-13*I)*C^14.5000000000000 + (787.193061001402 - 1.22568621918617e-13*I)*C^14.0000000000000 + (350.691012596725 - 1.42663658664333e-14*I)*C^13.5000000000000 + (4005.19444985331 + 1.38444811170757e-13*I)*C^13.0000000000000 + (3322.83255556258 + 1.16823217766182e-13*I)*C^12.5000000000000 + (3544.372281435753 - 1.039168751049146e-13*I)*C^12.0000000000000 - (1038.305921140069 + 2.144118216307334e-14*I)*C^11.5000000000000 + (2843.882166669551 + 2.664535259100376e-15*I)*C^11.0000000000000 - (1047.706467015693 - 2.273667365493282e-13*I)*C^10.5000000000000 + (3194.96264731203 + 2.11608508493555e-13*I)*C^10.0000000000000 + (557.840065234365 + 7.99351904112733e-14*I)*C^9.50000000000000 - (407.6026408831473 - 2.087219286295294e-14*I)*C^9.00000000000000 + (441.6388667567088 - 1.776354128894819e-14*I)*C^8.50000000000000 - (1212.23899751620 - 9.79216707719388e-14*I)*C^8.00000000000000 + (117.8395729765263 - 1.421085640926790e-14*I)*C^7.50000000000000 - (164.866886696273 - 5.76760861292769e-14*I)*C^7.00000000000000 - (198.2398856418461 + 1.332267629550188e-15*I)*C^6.50000000000000 + (66.1865758007703 + 1.77891555652732e-14*I)*C^6.00000000000000 - (127.395170431555 - 7.43849426498855e-15*I)*C^5.50000000000000 + (29.14773418856715 + 1.831867990631508e-15*I)*C^5.00000000000000 + (11.2474208852821 + 7.16093850883226e-15*I)*C^4.50000000000000 + (6.07300719604298 + 6.10622663543836e-16*I)*C^4.00000000000000 + (9.16124172555625 + 8.88178419700125e-16*I)*C^3.50000000000000 + (0.517095875707220 - 5.55111512312578e-17*I)*C^3.00000000000000 + (1.814962382749580 + 1.665334536937735e-16*I)*C^2.50000000000000 + (0.205754395447766 - 5.20417042793042e-18*I)*C^1.50000000000000 + 0.0738454344212925 - 4.66206934168767e-18*I)*C^11 + (0.00213466124695152 - 1.01776302568525e-19*I)*C^12.0000000000000 + (0.236070383577600*C^18.0000000000000 + (6.80309086706014 - 2.22044604925031e-16*I)*C^17.0000000000000 + (11.23739646458775 - 1.054711873393899e-15*I)*C^16.0000000000000 - 0.282818311432852*C^15.5000000000000 + (19.42622383403556 + 1.776356839400250e-15*I)*C^15.0000000000000 - (6.77500609662994 - 2.22044604925031e-16*I)*C^14.5000000000000 + (20.1451939927323 + 2.22911966663020e-16*I)*C^14.0000000000000 + (8.74726111641871 - 1.11022302462516e-15*I)*C^13.5000000000000 + (23.4690087716594 + 4.08006961549745e-15*I)*C^13.0000000000000 - (23.0818960280519 + 6.88338275267597e-15*I)*C^12.5000000000000 + (17.9841190983782 - 7.11930514540882e-15*I)*C^12.0000000000000 - (60.2266869496307 - 6.55031584528842e-15*I)*C^11.5000000000000 + (28.6550334507848 - 2.40042360988291e-15*I)*C^11.0000000000000 - (7.60119334597970 - 8.04911692853238e-15*I)*C^10.5000000000000 + (28.3545337104519 - 4.48989803669697e-15*I)*C^10.0000000000000 + (18.63990685014480 + 1.110223024625157e-16*I)*C^9.50000000000000 - (28.3317852902349 + 1.22185248030426e-14*I)*C^9.00000000000000 + (9.60393194047703 - 6.31439345255558e-16*I)*C^8.50000000000000 - (15.69425513624395 + 1.334002353026165e-15*I)*C^8.00000000000000 + (2.73118757198120 + 3.33066907387547e-16*I)*C^7.50000000000000 + (5.57968273269675 + 1.13797860024079e-15*I)*C^7.00000000000000 - (4.42503809828856 + 4.16333634234434e-17*I)*C^6.50000000000000 + 3.390404290429603*C^6.00000000000000 - (3.20654855898884 + 4.54497550705924e-16*I)*C^5.50000000000000 + (0.793520424401548 + 3.72965547335013e-17*I)*C^5.00000000000000 + (0.116063202156755 - 3.33825848908287e-16*I)*C^4.50000000000000 + (0.148044764058866 - 3.46944695195361e-18*I)*C^4.00000000000000 + (0.221191480901507 - 5.55111512312578e-17*I)*C^3.50000000000000 + (0.0131352648581378 + 6.50521303491303e-19*I)*C^3.00000000000000 + (0.0968024312251237 - 8.67361737988403e-19*I)*C^2.50000000000000 + (0.0152967261957284 + 5.14996031930615e-19*I)*C^1.50000000000000 + 0.00191732233662494 - 6.94567016748526e-20*I)*C^(21/2) - (0.000389617962672295 + 3.91028955069130e-20*I)*C^11.5000000000000 + (5.73040000000000*C^22.5000000000000 + (162.321000000000 - 3.55271367880050e-15*I)*C^21.5000000000000 + (271.307454187072 - 5.32907051820075e-15*I)*C^20.5000000000000 + (240.1984128219196 - 3.663735981263017e-14*I)*C^19.5000000000000 + 92.5767376631167*C^19.0000000000000 - (545.920623120853 + 4.81004125418849e-14*I)*C^18.5000000000000 + (1005.152016395961 - 1.776356839400251e-14*I)*C^18.0000000000000 - (91.2576186838928 + 1.01030295240889e-12*I)*C^17.5000000000000 - (516.718951189677 + 1.13706353360721e-13*I)*C^17.0000000000000 - (523.338773235469 + 4.75952610656805e-13*I)*C^16.5000000000000 - (1999.17811055874 - 2.59348098552437e-13*I)*C^16.0000000000000 + (590.808688740186 + 4.26311763668252e-13*I)*C^15.5000000000000 - (1551.643185395676 - 3.796962744218035e-13*I)*C^15.0000000000000 - (506.262899432964 - 7.28306304154103e-14*I)*C^14.5000000000000 - (1842.40979126756 + 1.22568621918617e-13*I)*C^14.0000000000000 - (462.643825783175 - 1.51989532071184e-13*I)*C^13.5000000000000 + (659.690886197518 - 2.43471909300297e-13*I)*C^13.0000000000000 + (3285.01874834388 - 5.92893789619353e-14*I)*C^12.5000000000000 + (1853.87064180365 + 3.93018950717305e-14*I)*C^12.0000000000000 + (905.986319619969 + 1.28203003768590e-13*I)*C^11.5000000000000 + (1701.384483486212 + 1.740829702612246e-13*I)*C^11.0000000000000 - (584.968502168780 + 3.55618312575245e-15*I)*C^10.5000000000000 + (2132.457383260366 + 2.847722058163526e-13*I)*C^10.0000000000000 + (39.0647379603872 + 6.21776935494367e-14*I)*C^9.50000000000000 + (630.508303621916 - 6.60582699651968e-14*I)*C^9.00000000000000 + (173.738302282920 + 2.35367281220533e-14*I)*C^8.50000000000000 - (358.001487116966 + 7.06656955173912e-14*I)*C^8.00000000000000 + (71.4688059234228 + 5.10705301833003e-15*I)*C^7.50000000000000 - (141.3971744636042 - 2.318978342685796e-14*I)*C^7.00000000000000 - (42.2742605512175 - 5.96744875736022e-16*I)*C^6.50000000000000 - (1.10636502725308 - 7.11063152802893e-15*I)*C^6.00000000000000 - (47.7625853659693 + 3.33066907387547e-15*I)*C^5.50000000000000 + (7.55267236594488 + 9.99200722162641e-16*I)*C^5.00000000000000 - (3.96186520057154 - 5.20417042793042e-18*I)*C^4.50000000000000 + (1.86876585161470 + 5.55111512312578e-17*I)*C^4.00000000000000 + (1.78566183462993 - 6.66133814775094e-16*I)*C^3.50000000000000 + (0.158769898079930 + 6.07153216591882e-18*I)*C^3.00000000000000 + (0.456821388885453 + 2.77555756156289e-17*I)*C^2.50000000000000 + (0.0473061463782522 - 1.73472347597681e-18*I)*C^1.50000000000000 + 0.0114655091792679 - 8.13151629364128e-20*I)*C^10 + (0.000269156207642302 - 6.61082745552380e-21*I)*C^11.0000000000000 + (-(6.93889390390723e-18*I)*C^20.5000000000000 + (0.193106925000000 - 6.59194920871187e-17*I)*C^19.5000000000000 + (1.82652643125000 - 5.58728410759990e-16*I)*C^18.5000000000000 - 0.715718206232948*C^18.0000000000000 + (15.9218692034063 - 7.09397818265955e-16*I)*C^17.5000000000000 + (0.2458039918573192 + 1.843143693225357e-18*I)*C^17.0000000000000 + (22.9862762715938 - 1.14905342185612e-15*I)*C^16.5000000000000 + (17.5297731815848 + 1.11022302462516e-16*I)*C^16.0000000000000 + (35.9978114199952 + 4.32671953820574e-15*I)*C^15.5000000000000 + (36.3222958688259 - 7.76722436368615e-16*I)*C^15.0000000000000 + (28.4023966752411 - 1.20112145923779e-15*I)*C^14.5000000000000 + (44.7332833755870 - 2.22044604925031e-16*I)*C^14.0000000000000 + (31.0719397324684 - 3.12128101143116e-15*I)*C^13.5000000000000 + (52.1548809436672 - 3.27862736959617e-15*I)*C^13.0000000000000 + (17.61849184516992 - 1.712488373328824e-15*I)*C^12.5000000000000 + (34.19037835868208 + 1.387778780781446e-17*I)*C^12.0000000000000 - (26.2669607571852 - 8.81239525796218e-16*I)*C^11.5000000000000 + (23.7851857534109 + 5.55805401702969e-15*I)*C^11.0000000000000 - (5.17002470126607 - 3.74700270810990e-15*I)*C^10.5000000000000 + (24.2180223703322 + 3.79882757195471e-15*I)*C^10.0000000000000 + (12.90443123762210 + 1.498801083243961e-15*I)*C^9.50000000000000 - (6.08320502119475 - 1.92987986702420e-17*I)*C^9.00000000000000 + (7.25830321725421 + 2.77555756156289e-16*I)*C^8.50000000000000 - (8.47479892733213 + 3.63153517674020e-16*I)*C^8.00000000000000 + (2.23289550188858 + 9.02056207507940e-17*I)*C^7.50000000000000 + (1.53514395060233 + 1.38832088186769e-16*I)*C^7.00000000000000 - (0.677803749061439 - 3.81639164714898e-17*I)*C^6.50000000000000 + (1.61234684239667 + 1.94287335243508e-16*I)*C^6.00000000000000 - (1.07648757528455 + 3.46944695195361e-18*I)*C^5.50000000000000 + (0.397916164696717 + 2.08166817117217e-17*I)*C^5.00000000000000 - (0.143207750949621 + 5.42101086242752e-19*I)*C^4.50000000000000 + (0.0607818908582914 - 8.67361737988403e-19*I)*C^4.00000000000000 + (0.0307236874132066 + 6.93889390390723e-18*I)*C^3.50000000000000 + (0.00461188499478552 - 3.25260651745651e-19*I)*C^3.00000000000000 + (0.0220312122329144 - 8.67361737988403e-19*I)*C^2.50000000000000 + (0.003582021619537652 - 1.490777987167569e-19*I)*C^1.50000000000000 + 0.000319822476251230 + 1.65171424714589e-20*I)*C^(19/2) - (0.0000436479775158422 + 4.19049698319364e-21*I)*C^10.5000000000000 + (3.12500000000000*C^24.0000000000000 + 30.4687500000000*C^23.0000000000000 - 17.3734271400000*C^22.5000000000000 + 275.604289125000*C^22.0000000000000 - 4.03231785000000*C^21.5000000000000 + 537.255095968750*C^21.0000000000000 + (345.3888658987814 + 1.065814103640150e-14*I)*C^20.5000000000000 + (1480.223710618594 - 1.145750161413162e-13*I)*C^20.0000000000000 + (449.406254850488 - 7.23032744787133e-14*I)*C^19.5000000000000 + (2026.51766847036 - 5.68434188608080e-14*I)*C^19.0000000000000 - (122.9631965303672 + 2.135513987866489e-13*I)*C^18.5000000000000 + (3352.28329076565 + 4.99156271871470e-13*I)*C^18.0000000000000 + (698.207892362784 + 2.24709140184132e-13*I)*C^17.5000000000000 + (3053.57623459124 + 4.99864039049669e-13*I)*C^17.0000000000000 - (26.1445627741828 + 9.03267044494172e-13*I)*C^16.5000000000000 + (1382.30963137112 + 1.02140518265514e-13*I)*C^16.0000000000000 + (1045.860040942843 - 1.770916746579587e-12*I)*C^15.5000000000000 + (1135.743179655874 - 1.658673198789984e-13*I)*C^15.0000000000000 + (362.751297532232 - 9.00779451029621e-13*I)*C^14.5000000000000 - (107.346080143184 + 2.20712337295481e-13*I)*C^14.0000000000000 - (1116.80469980103 + 3.05477865225612e-13*I)*C^13.5000000000000 + (574.750056374270 - 1.58095758706622e-13*I)*C^13.0000000000000 + (1119.244826846746 + 2.746136651410325e-13*I)*C^12.5000000000000 + (1163.43393480315 + 4.67403893367191e-14*I)*C^12.0000000000000 + (1042.658120635181 - 1.268048166469526e-13*I)*C^11.5000000000000 + (913.649081977087 + 4.04121180963557e-14*I)*C^11.0000000000000 + (84.1183288384993 - 2.13308537500012e-13*I)*C^10.5000000000000 + (925.914735527458 + 2.56045185054177e-14*I)*C^10.0000000000000 + (77.3605789541783 - 7.23891432907742e-14*I)*C^9.50000000000000 + (493.317421702206 - 7.60502771868232e-15*I)*C^9.00000000000000 + (90.6790091918723 + 5.77359340891981e-15*I)*C^8.50000000000000 + (5.83637807822299 - 2.63677968348475e-14*I)*C^8.00000000000000 + (36.0954909342994 + 4.44089887476420e-15*I)*C^7.50000000000000 - (39.0815836750191 + 7.97972798949331e-15*I)*C^7.00000000000000 - (2.96101718987815 - 2.77555756156289e-16*I)*C^6.50000000000000 - (5.61677628192572 - 1.43635103810880e-15*I)*C^6.00000000000000 - (11.6076757846520 - 5.55111512312578e-16*I)*C^5.50000000000000 + (1.05482298068612 + 2.49800180540660e-16*I)*C^5.00000000000000 - (2.29732045983901 - 3.46944695195361e-18*I)*C^4.50000000000000 + (0.403501040097127 + 2.77555756156289e-17*I)*C^4.00000000000000 + 0.1464084537407664*C^3.50000000000000 + (0.0366589534457136 + 1.95156391047391e-18*I)*C^3.00000000000000 + (0.0793211849008153 + 6.93889390390723e-18*I)*C^2.50000000000000 + (0.00842546242860904 - 4.33680868994202e-19*I)*C^1.50000000000000 + 0.00144423314759565 + 2.71050543121376e-20*I)*C^9 + (0.00003407105079500142 + 1.230844751478905e-21*I)*C^10.0000000000000 + (-(0.128089200000000 + 1.38777878078145e-17*I)*C^20.5000000000000 - (0.936857807304000 - 1.38777878078145e-17*I)*C^19.5000000000000 - (7.96379232060600 + 4.42354486374086e-16*I)*C^18.5000000000000 - 0.643208929500928*C^18.0000000000000 + (7.393254641465799 - 1.332267629550188e-15*I)*C^17.5000000000000 - (8.51961769382434 - 2.07082614944731e-16*I)*C^17.0000000000000 + (8.68229312656949 - 7.54951656745106e-15*I)*C^16.5000000000000 - (3.99980373252762 - 3.67067487516692e-15*I)*C^16.0000000000000 + (28.3868097781179 - 5.77315972805081e-15*I)*C^15.5000000000000 + (13.55708531982802 + 1.193706591906540e-15*I)*C^15.0000000000000 + (28.3559234207895 - 4.44089209850063e-16*I)*C^14.5000000000000 + (22.4849995180171 - 6.55942314353730e-16*I)*C^14.0000000000000 + (29.09006816209921 - 3.330669073875470e-15*I)*C^13.5000000000000 + (38.9392437666845 - 6.84174938925253e-15*I)*C^13.0000000000000 + (23.6962431153249 - 2.55351295663786e-15*I)*C^12.5000000000000 + (31.6695725547394 - 5.68468883077600e-15*I)*C^12.0000000000000 - (24.0238520351162 + 6.69603261727047e-16*I)*C^11.5000000000000 + (18.0456309596344 + 9.64506252643105e-16*I)*C^11.0000000000000 - (20.0570934135259 + 8.39606162372775e-16*I)*C^10.5000000000000 + (13.16157253907716 + 2.438153845485402e-15*I)*C^10.0000000000000 + (1.51939326806161 + 3.05311331771918e-16*I)*C^9.50000000000000 - (0.1034007358937243 - 1.110223024625157e-16*I)*C^9.00000000000000 + (4.17915467406943 + 5.00034041950315e-16*I)*C^8.50000000000000 - (4.23532304332956 + 2.22911966663020e-16*I)*C^8.00000000000000 + (1.54190210995753 - 4.85722573273506e-17*I)*C^7.50000000000000 - (0.286889784375478 - 5.52943107967607e-17*I)*C^7.00000000000000 + (0.1290558173535730 - 6.505213034913027e-18*I)*C^6.50000000000000 + (0.495258350079420 + 8.32599505833087e-17*I)*C^6.00000000000000 - (0.2169481108196110 + 1.127570259384925e-17*I)*C^5.50000000000000 + (0.156070871751509 - 5.42101086242752e-18*I)*C^5.00000000000000 - (0.0558398603877620 - 2.43945488809238e-19*I)*C^4.50000000000000 + (0.0227992299785387 - 4.33680868994202e-19*I)*C^4.00000000000000 + 0.000298436966051250*C^3.50000000000000 + (0.001521811901466661 - 1.355252715606880e-20*I)*C^3.00000000000000 + (0.00363137491598862 + 2.16840434497101e-19*I)*C^2.50000000000000 + (0.000635647594753354 + 2.71050543121376e-20*I)*C^1.50000000000000 + 0.0000419292146747170 + 9.52912065661088e-22*I)*C^(17/2) - (4.40598798950901e-6 + 6.01360305326051e-22*I)*C^9.50000000000000 + ((4.53100000000000 + 8.88178419700125e-16*I)*C^24.0000000000000 + (31.93350200000000 + 1.465494392505207e-14*I)*C^23.0000000000000 - 15.6133285071760*C^22.5000000000000 + (280.734184888120 + 8.60422844084496e-14*I)*C^22.0000000000000 - (214.427637531990 + 1.42108547152020e-14*I)*C^21.5000000000000 - (259.6765094917503 + 1.982858321980530e-13*I)*C^21.0000000000000 - (221.225243748978 - 4.16333634234434e-14*I)*C^20.5000000000000 + (434.598100638482 - 4.26325641456060e-14*I)*C^20.0000000000000 - (336.955913325788 - 9.81367764829599e-14*I)*C^19.5000000000000 + (244.470491222097 + 3.33955085807247e-13*I)*C^19.0000000000000 - (1348.436580812988 + 2.121774977936752e-13*I)*C^18.5000000000000 + (1576.51602430347 + 4.48086012738713e-13*I)*C^18.0000000000000 - (729.467934133158 + 5.25357535252624e-13*I)*C^17.5000000000000 + (2151.01470111575 + 6.04096633827211e-13*I)*C^17.0000000000000 - (1445.93002088651 - 2.64687577411493e-13*I)*C^16.5000000000000 + (922.911406422830 + 1.81188397618826e-13*I)*C^16.0000000000000 - (515.208681437025 + 5.84393644587067e-14*I)*C^15.5000000000000 + (653.286572130830 - 1.77635683940025e-14*I)*C^15.0000000000000 - (204.853012578086 + 1.80742573685499e-13*I)*C^14.5000000000000 - (570.251912829139 - 3.90798504668055e-14*I)*C^14.0000000000000 - (1040.84703390198 + 4.65849581132716e-13*I)*C^13.5000000000000 - (427.5183432464617 - 1.918742942308427e-13*I)*C^13.0000000000000 - (384.242463363580 + 7.63833440942108e-14*I)*C^12.5000000000000 + (300.457123598254 + 2.17048601314218e-14*I)*C^12.0000000000000 + (104.608254411516 - 1.97550309444239e-14*I)*C^11.5000000000000 + (436.700418032922 + 8.73190408867686e-14*I)*C^11.0000000000000 - (30.7811440378724 + 5.15004705547994e-14*I)*C^10.5000000000000 + (354.173907318482 + 2.64163690921748e-14*I)*C^10.0000000000000 + (2.23131861154235 - 2.39842867788553e-14*I)*C^9.50000000000000 + (209.8541136859031 + 1.576516694967722e-14*I)*C^9.00000000000000 + (28.63746901487783 - 2.664535259100376e-15*I)*C^8.50000000000000 + (44.5496158746722 - 2.13024042849952e-15*I)*C^8.00000000000000 + (13.3937543800262 - 8.74300631892311e-16*I)*C^7.50000000000000 - (0.887861887411162 + 1.65145674912992e-15*I)*C^7.00000000000000 + (1.51152327849625 - 6.03683769639929e-16*I)*C^6.50000000000000 - (1.049033796674331 + 3.324163860840557e-16*I)*C^6.00000000000000 - (1.886162645129352 - 1.283695372222837e-16*I)*C^5.50000000000000 + (0.104358600224381 + 6.93889390390723e-18*I)*C^5.00000000000000 - (0.577479970369328 - 6.50521303491303e-19*I)*C^4.50000000000000 + (0.0654592054881092 + 3.46944695195361e-18*I)*C^4.00000000000000 - (0.0181359132068952 + 2.77555756156289e-17*I)*C^3.50000000000000 + 0.00640422337037766*C^3.00000000000000 + 0.00921964709945780*C^2.50000000000000 + (0.001126686700791644 - 1.626303258728257e-19*I)*C^1.50000000000000 + 0.000146694420732908 + 5.92923063078010e-21*I)*C^8 + (3.88963778318450e-6 - 1.77843831698901e-22*I)*C^9.00000000000000 + (-(0.180425226432000 + 1.24683249835833e-18*I)*C^20.5000000000000 - 1.46466089988758*C^19.5000000000000 - 12.58933567947748*C^18.5000000000000 - 0.0708499673973251*C^18.0000000000000 - 1.54231745532578*C^17.5000000000000 - (4.91717145767602 + 4.37251959899826e-16*I)*C^17.0000000000000 - (5.03154352785113 - 7.10542735760100e-15*I)*C^16.5000000000000 - (8.81238912437899 - 4.64905891561784e-16*I)*C^16.0000000000000 + (12.79218563509308 - 6.210310043996969e-15*I)*C^15.5000000000000 - (0.244360876037938 - 1.59464455529168e-15*I)*C^15.0000000000000 + (17.9030407913419 - 9.60342916300760e-15*I)*C^14.5000000000000 + (3.30258249171412 + 2.74736830507827e-16*I)*C^14.0000000000000 + (20.0618922780924 - 4.17027523624824e-15*I)*C^13.5000000000000 + (15.28968104688811 - 3.538835890992686e-15*I)*C^13.0000000000000 + (29.7310968371445 + 4.44089209850063e-16*I)*C^12.5000000000000 + (16.6837549561728 + 7.24247051220317e-16*I)*C^12.0000000000000 + (2.58246027590795 + 1.33400235302616e-15*I)*C^11.5000000000000 + (11.0464850629418 + 5.65086172299445e-16*I)*C^11.0000000000000 - (12.6282972607381 + 6.80011602582908e-16*I)*C^10.5000000000000 + (6.812289633718351 - 1.127570259384925e-16*I)*C^10.0000000000000 - (4.87122967188751 + 4.02455846426619e-16*I)*C^9.50000000000000 + (1.528793890633238 + 3.530162273612802e-16*I)*C^9.00000000000000 + (0.0678151986450981 - 1.41271543074861e-16*I)*C^8.50000000000000 - (1.22600390211418 - 8.13151629364128e-17*I)*C^8.00000000000000 + (0.409878845577522 - 5.20417042793042e-18*I)*C^7.50000000000000 - (0.383706506181018 - 1.24574829618584e-16*I)*C^7.00000000000000 + (0.0894206549979105 - 6.93889390390723e-18*I)*C^6.50000000000000 + (0.0595587030052463 + 1.38743996760254e-17*I)*C^6.00000000000000 - (0.02668014962712625 + 2.764715539838036e-18*I)*C^5.50000000000000 + (0.0371761071429365 - 2.60208521396521e-18*I)*C^5.00000000000000 - (0.01093681278579007 - 1.694065894508601e-20*I)*C^4.50000000000000 + (0.00606873510050893 - 2.16840434497101e-19*I)*C^4.00000000000000 - (0.000574943996989538 - 2.16840434497101e-19*I)*C^3.50000000000000 + (0.000393541100619491 - 1.69406589450860e-20*I)*C^3.00000000000000 + 0.0004607209706807511*C^2.50000000000000 + (0.0000863947751073517 - 5.92923063078010e-21*I)*C^1.50000000000000 + 4.23352789130071e-6 + 9.26442286059391e-23*I)*C^(15/2) - (4.90407994452104e-7 + 3.97046694025453e-23*I)*C^8.50000000000000 + ((12.15699791125000 + 1.776356839400250e-15*I)*C^24.0000000000000 + (101.2843028846075 + 2.975397705995419e-14*I)*C^23.0000000000000 - 1.719820364676002*C^22.5000000000000 + (880.742017647173 + 1.69891878343265e-13*I)*C^22.0000000000000 - 121.718089511677*C^21.5000000000000 + (395.139679324585 - 5.72875080706581e-14*I)*C^21.0000000000000 - (279.480255869023 - 1.32671651442706e-14*I)*C^20.5000000000000 + (1322.50913702632 + 8.52706794063351e-13*I)*C^20.0000000000000 - (446.711065125007 - 1.51476053922295e-14*I)*C^19.5000000000000 + (745.536817007896 + 2.14228634831670e-12*I)*C^19.0000000000000 - (1283.86050355324 + 1.75776060373778e-13*I)*C^18.5000000000000 + (1294.864866319842 + 4.245492846166599e-13*I)*C^18.0000000000000 - (958.092334024407 + 6.46149800331841e-14*I)*C^17.5000000000000 + (2103.46723460646 - 3.89662260791290e-13*I)*C^17.0000000000000 - (1296.75520114082 + 8.59069759773234e-14*I)*C^16.5000000000000 + (1533.26386230513 + 1.59650070941097e-13*I)*C^16.0000000000000 - (594.786615755370 + 4.39231984117328e-15*I)*C^15.5000000000000 + (1302.86818393927 + 1.06914477271403e-13*I)*C^15.0000000000000 - (97.6060041392077 + 2.50133247448048e-13*I)*C^14.5000000000000 + (367.057853780422 - 5.87307980026708e-14*I)*C^14.0000000000000 - (203.912495483586 + 9.00876595544276e-14*I)*C^13.5000000000000 - (264.009909413992 + 2.84078316425962e-14*I)*C^13.0000000000000 - (158.8234490186010 - 1.075355082758023e-14*I)*C^12.5000000000000 - (120.419532381301 + 1.91513471747840e-15*I)*C^12.0000000000000 - (13.9063998364045 + 7.40726924242097e-16*I)*C^11.5000000000000 + (73.0079558528826 - 1.53336544850280e-14*I)*C^11.0000000000000 - (30.7601375757200 + 7.91380849740619e-15*I)*C^10.5000000000000 + (94.6312075132185 - 1.07743675092919e-14*I)*C^10.0000000000000 - (14.8214400323836 + 3.12423698023423e-15*I)*C^9.50000000000000 + (60.2907694717826 - 3.75394160201381e-15*I)*C^9.00000000000000 + (2.69500443662230 - 4.33680868994202e-19*I)*C^8.50000000000000 + (18.3872459277510 + 1.25593979660721e-15*I)*C^8.00000000000000 + (2.854684340738999 + 1.179611963664229e-16*I)*C^7.50000000000000 + (2.464829782740671 - 1.047339298620997e-16*I)*C^7.00000000000000 + (0.590740722192449 - 2.77555756156289e-17*I)*C^6.50000000000000 + (0.142759223679205 + 4.20941493467497e-17*I)*C^6.00000000000000 - (0.2012729176658198 - 1.040834085586084e-17*I)*C^5.50000000000000 + (0.0306064561632523 - 3.46944695195361e-18*I)*C^5.00000000000000 - (0.0919694635895413 - 2.71050543121376e-20*I)*C^4.50000000000000 + 0.00943141662490069*C^4.00000000000000 - (0.00741163814832771 - 1.73472347597681e-18*I)*C^3.50000000000000 + (0.000884182095324792 - 1.76182853028894e-19*I)*C^3.00000000000000 + (0.000646486610566636 - 2.16840434497101e-19*I)*C^2.50000000000000 + 0.0001109395653272762*C^1.50000000000000 + 0.0000119258707914098 + 5.29395592033938e-22*I)*C^7 + (3.562847920668345e-7 + 1.840476862930487e-23*I)*C^8.00000000000000 + (0.0519000000000000*C^24.0000000000000 + 0.506025000000000*C^23.0000000000000 + 4.57723603378800*C^22.0000000000000 + 8.92273263384900*C^21.0000000000000 - (0.116796402681852 - 1.73472347597681e-17*I)*C^20.5000000000000 + (24.58355538595360 + 1.387778780781446e-17*I)*C^20.0000000000000 - (0.884627402501426 - 2.77555756156289e-17*I)*C^19.5000000000000 + (33.2684043765989 - 5.55111512312578e-17*I)*C^19.0000000000000 - (7.54889967367697 + 1.73472347597681e-18*I)*C^18.5000000000000 + (42.6683007482646 + 1.80411241501588e-15*I)*C^18.0000000000000 + (4.23770607161147 + 7.54951656745106e-15*I)*C^17.5000000000000 + (36.2469026968273 - 6.74238226014423e-15*I)*C^17.0000000000000 + (4.30221185873406 + 1.46549439250521e-14*I)*C^16.5000000000000 + (22.76908928173526 - 1.290634266126745e-15*I)*C^16.0000000000000 + (20.0870507185237 + 2.38177533251616e-14*I)*C^15.5000000000000 + (15.7584726746567 + 3.92676342830800e-15*I)*C^15.0000000000000 + (23.3229751827380 + 1.08801856413265e-14*I)*C^14.5000000000000 + (8.36081408001763 + 1.49359691281603e-15*I)*C^14.0000000000000 + (19.6998542338234 - 4.53109771925142e-15*I)*C^13.5000000000000 + (10.44913210652106 + 1.731254029024854e-15*I)*C^13.0000000000000 + (21.8541059396802 + 4.44089209850063e-16*I)*C^12.5000000000000 + (9.93809751393644 - 3.22658566531686e-16*I)*C^12.0000000000000 + (12.8171641139776 + 5.57279916657549e-17*I)*C^11.5000000000000 + (5.87043984053832 + 1.24336305140638e-15*I)*C^11.0000000000000 + (0.741652479684791 - 1.73472347597681e-16*I)*C^10.5000000000000 + (2.80844566399264 + 2.51860164668383e-16*I)*C^10.0000000000000 - (1.36958262481295 - 4.85722573273506e-17*I)*C^9.50000000000000 + (0.889041007389374 + 3.00540842212982e-16*I)*C^9.00000000000000 - (0.337921141706129 - 3.48299947910968e-18*I)*C^8.50000000000000 - (0.154539533529306 - 7.15573433840433e-17*I)*C^8.00000000000000 + (0.01960174702612196 + 3.794707603699266e-18*I)*C^7.50000000000000 - (0.1232375490748339 - 2.341876692568690e-17*I)*C^7.00000000000000 + (0.0166566861502954 - 2.60208521396521e-18*I)*C^6.50000000000000 - (0.007486469938014728 + 3.388131789017201e-21*I)*C^6.00000000000000 - (0.002056434126251991 + 3.252606517456513e-19*I)*C^5.50000000000000 + (0.00479874129462242 + 8.67361737988403e-19*I)*C^5.00000000000000 - (0.001365843861781407 - 1.033380195650246e-19*I)*C^4.50000000000000 + (0.00102427850312788 + 5.42101086242752e-20*I)*C^4.00000000000000 - 0.0000855978348543471*C^3.50000000000000 + (0.0000693962121666081 - 5.08219768352580e-21*I)*C^3.00000000000000 + (0.0000493944872992999 - 3.38813178901720e-21*I)*C^2.50000000000000 + (9.18759197075072e-6 - 4.23516473627150e-22*I)*C^1.50000000000000 + 3.23394325008918e-7 - 3.30872245021211e-24*I)*C^(13/2) - (5.54113697746822e-8 + 7.54802308954638e-24*I)*C^7.50000000000000 + (4.96100000000000*C^26.5000000000000 + 49.4047500000000*C^25.5000000000000 + 437.8507506172401*C^24.5000000000000 + (14.7441465941100 + 8.88178419700125e-16*I)*C^24.0000000000000 + (847.717509490170 + 7.10542735760100e-15*I)*C^23.5000000000000 + (132.591133460113 - 4.44089209850063e-16*I)*C^23.0000000000000 + (1682.13685772940 - 5.68434188608080e-14*I)*C^22.5000000000000 + (1159.151590730303 + 1.139088823265411e-13*I)*C^22.0000000000000 + (2064.046458580642 + 2.211564265053312e-13*I)*C^21.5000000000000 + (1270.72351672510 - 7.11652958784725e-14*I)*C^21.0000000000000 + (2163.674124803789 + 1.508793090465588e-13*I)*C^20.5000000000000 + (2654.52700831741 - 3.76566833271141e-13*I)*C^20.0000000000000 + (1785.22192393816 + 7.93566601320350e-14*I)*C^19.5000000000000 + (2531.04784665577 + 5.89750470680883e-13*I)*C^19.0000000000000 + (668.837526744894 + 9.37583344295945e-14*I)*C^18.5000000000000 + (2629.768254395907 + 1.403321903126198e-13*I)*C^18.0000000000000 + (185.6147638953138 - 1.613154054780353e-13*I)*C^17.5000000000000 + (2634.418265657165 - 4.059565184011404e-13*I)*C^17.0000000000000 - (512.627741967261 + 2.00651995019285e-13*I)*C^16.5000000000000 + (2030.56917081528 - 7.10542735760100e-14*I)*C^16.0000000000000 - (458.977718544140 - 4.44227987728141e-14*I)*C^15.5000000000000 + (1493.233138434593 - 1.378341885072132e-13*I)*C^15.0000000000000 - (268.1444959284859 - 1.344653555168662e-13*I)*C^14.5000000000000 + (870.982938511957 + 1.26426646929190e-14*I)*C^14.0000000000000 - (174.566197039391 - 1.30360999772705e-13*I)*C^13.5000000000000 + (251.451904147100 + 1.19695919842400e-16*I)*C^13.0000000000000 - (110.8398236134331 - 2.397214371452350e-14*I)*C^12.5000000000000 + (18.7252524504150 - 2.83800760669806e-15*I)*C^12.0000000000000 - (37.1908551006428 - 3.76487035991246e-14*I)*C^11.5000000000000 + (10.2779398055953 - 6.22245310832881e-15*I)*C^11.0000000000000 - (18.21945848199911 - 1.088365508827849e-14*I)*C^10.5000000000000 + (16.9244116783309 - 3.53883589099269e-15*I)*C^10.0000000000000 - (8.14870706900210 - 1.66880398388969e-15*I)*C^9.50000000000000 + (11.8189433038469 + 6.48434214309268e-16*I)*C^9.00000000000000 - (1.186756138487631 + 1.045170894276026e-16*I)*C^8.50000000000000 + (4.18414096295797 + 2.39391839684799e-16*I)*C^8.00000000000000 + (0.2375039418489179 - 1.217016938614979e-17*I)*C^7.50000000000000 + (0.801503022045839 + 5.63785129692462e-17*I)*C^7.00000000000000 + 0.0970097637825505*C^6.50000000000000 + (0.0941934370527958 - 4.63496428737553e-18*I)*C^6.00000000000000 - (0.0132335787859882 + 1.73472347597681e-18*I)*C^5.50000000000000 + (0.0103291288397084 + 9.75781955236954e-19*I)*C^5.00000000000000 - (0.0101348540931344 + 4.33680868994202e-19*I)*C^4.50000000000000 + (0.00136341749578582 + 9.48676900924816e-20*I)*C^4.00000000000000 - 0.001160016214069510*C^3.50000000000000 + (0.0001016659566749069 - 1.185846126156021e-20*I)*C^3.00000000000000 + 0.00001325482459242791*C^2.50000000000000 + (7.83412596216332e-6 + 1.69406589450860e-21*I)*C^1.50000000000000 + 7.68121692789040e-7 + 1.32348898008484e-23*I)*C^6 + (2.75801173551146e-8 + 1.65436122510606e-24*I)*C^7.00000000000000 + (0.0635754240000000*C^24.0000000000000 + 0.518188300608000*C^23.0000000000000 + (4.61983468820495 + 4.42354486374086e-16*I)*C^22.0000000000000 + (2.305012582105007 - 1.776356839400250e-15*I)*C^21.0000000000000 - 0.0880783729252055*C^20.5000000000000 + (15.90068032067876 - 1.776790520269245e-15*I)*C^20.0000000000000 - 0.736996452607462*C^19.5000000000000 + (18.5888591669213 - 5.16253706450698e-15*I)*C^19.0000000000000 - 6.35375769926986*C^18.5000000000000 + (29.2438292591108 - 5.41580669199959e-15*I)*C^18.0000000000000 - 2.566128614897980*C^17.5000000000000 + (28.9589239502659 + 6.57506953613898e-15*I)*C^17.0000000000000 - 5.07397639818520*C^16.5000000000000 + (17.6710293016563 - 1.26201132877313e-15*I)*C^16.0000000000000 + (2.04437176889644 + 6.66133814775094e-16*I)*C^15.5000000000000 + (9.57481444359712 + 7.46798456408015e-16*I)*C^15.0000000000000 + (4.98710569344477 - 4.47558656802016e-16*I)*C^14.5000000000000 + (1.319049873951580 + 1.914701036609401e-16*I)*C^14.0000000000000 + (4.97145667543002 - 1.13711123850280e-15*I)*C^13.5000000000000 + (0.229102987677125 - 6.52256026967280e-16*I)*C^13.0000000000000 + (5.78355093772681 + 1.45716771982052e-16*I)*C^12.5000000000000 + (2.325291268796322 - 2.179788467782107e-16*I)*C^12.0000000000000 + (4.83863620231470 - 1.75369701399530e-16*I)*C^11.5000000000000 + (2.110395592804992 - 2.009026625615640e-16*I)*C^11.0000000000000 + (1.57891812927472 + 8.02309607639273e-17*I)*C^10.5000000000000 + (0.978209807541490 - 1.09965205344342e-16*I)*C^10.0000000000000 + (0.0875250462791841 + 8.23993651088983e-18*I)*C^9.50000000000000 + (0.302296985593637 - 3.46944695195361e-17*I)*C^9.00000000000000 - (0.0481323811371932 + 1.43114686768087e-17*I)*C^8.50000000000000 + (0.0104749008516147 - 5.69206140554890e-18*I)*C^8.00000000000000 - (0.00484981623939640 + 1.89735380184963e-19*I)*C^7.50000000000000 - (0.0204457636854696 + 4.60785923306339e-19*I)*C^7.00000000000000 + (0.00143378464989143 - 4.87890977618477e-19*I)*C^6.50000000000000 - (0.00367439543091427 + 2.20228566286118e-19*I)*C^6.00000000000000 - (0.000122380810339528 + 3.04931861011548e-20*I)*C^5.50000000000000 + (0.000218236030420938 - 1.08420217248550e-19*I)*C^5.00000000000000 - (0.000117347806394434 + 2.54109884176290e-21*I)*C^4.50000000000000 + (0.0001048322805294760 - 1.355252715606880e-20*I)*C^4.00000000000000 - (3.806101921948448e-6 - 3.388131789017201e-21*I)*C^3.50000000000000 + (7.96199082761924e-6 - 8.47032947254300e-22*I)*C^3.00000000000000 + (4.76416713505281e-6)*C^2.50000000000000 + (7.78685963289271e-7 - 1.98523347012727e-23*I)*C^1.50000000000000 + 1.827802720935857e-8 - 1.861156378244312e-24*I)*C^(11/2) - (4.59938953739373e-9 + 1.13737334226041e-24*I)*C^6.50000000000000 + (-4.93600000000000*C^27.5000000000000 - 43.2829734400000*C^26.5000000000000 - (377.193647106240 + 1.11022302462516e-16*I)*C^25.5000000000000 - (325.456058761986 - 1.39888101102770e-14*I)*C^24.5000000000000 + (8.58909633161477 + 1.33226762955019e-15*I)*C^24.0000000000000 - (674.447537567716 - 4.28823643261467e-14*I)*C^23.5000000000000 + 75.3244829118193*C^23.0000000000000 - (164.609335776801 + 8.83182416089312e-14*I)*C^22.5000000000000 + (655.162892832842 + 8.52651282912120e-14*I)*C^22.0000000000000 + (128.089921570096 - 3.24150428721026e-14*I)*C^21.5000000000000 + (563.297954719024 + 4.12336831345783e-13*I)*C^21.0000000000000 + (501.693682258994 + 3.01043912021015e-13*I)*C^20.5000000000000 + (1152.34900892701 + 4.58313942353072e-13*I)*C^20.0000000000000 + (659.026146948527 - 1.13423159753268e-13*I)*C^19.5000000000000 + (858.525941894623 + 3.63042929052426e-13*I)*C^19.0000000000000 + (248.249606388278 + 7.87703235971549e-14*I)*C^18.5000000000000 + (745.588898552902 + 1.87447279920150e-13*I)*C^18.0000000000000 - (0.928641703892140 - 5.66768854071142e-14*I)*C^17.5000000000000 + (655.976162536426 + 1.17056971754570e-13*I)*C^17.0000000000000 - (299.015143155906 - 1.79871742500559e-13*I)*C^16.5000000000000 + (511.321250722510 + 6.54754028772686e-14*I)*C^16.0000000000000 - (307.947714853493 - 1.70249231379316e-13*I)*C^15.5000000000000 + (393.507801551785 + 6.68631816580501e-14*I)*C^15.0000000000000 - (189.045893128050 + 8.40213315589367e-15*I)*C^14.5000000000000 + (287.2687833359555 - 1.743744038051886e-14*I)*C^14.0000000000000 - (94.1153034131252 + 1.17158886758784e-14*I)*C^13.5000000000000 + (129.744726462834 + 1.14968798370363e-15*I)*C^13.0000000000000 - (47.7979451685792 - 1.24587840044654e-14*I)*C^12.5000000000000 + (31.4110757214574 + 3.80858539150708e-15*I)*C^12.0000000000000 - (18.5273431491290 - 9.90939101608301e-15*I)*C^11.5000000000000 + (5.97254992861748 + 1.24900090270330e-16*I)*C^11.0000000000000 - (6.94076567669752 - 2.67147415300428e-15*I)*C^10.5000000000000 + (2.71170400400564 - 2.21190795714199e-16*I)*C^10.0000000000000 - (2.492712546244420 - 3.792539199354295e-16*I)*C^9.50000000000000 + (1.65470695797047 - 3.11979175132704e-17*I)*C^9.00000000000000 - (0.526561547968773 - 8.32667268468867e-17*I)*C^8.50000000000000 + (0.617199622428689 - 2.91650384398601e-17*I)*C^8.00000000000000 - (0.0327601629161254 - 2.08437867660338e-17*I)*C^7.50000000000000 + (0.135703845119182 - 8.02309607639273e-18*I)*C^7.00000000000000 + (0.00679425247410448 + 3.03576608295941e-18*I)*C^6.50000000000000 + (0.0191331516306856 + 5.72594272343907e-19*I)*C^6.00000000000000 - (0.000501928672415760 - 2.16840434497101e-19*I)*C^5.50000000000000 + (0.002011770027688580 + 1.490777987167569e-19*I)*C^5.00000000000000 - (0.000797332020964368 + 3.38813178901720e-20*I)*C^4.50000000000000 + (0.000179005759403058 + 1.35525271560688e-20*I)*C^4.00000000000000 - (0.0001128273185863565 + 1.355252715606880e-20*I)*C^3.50000000000000 + (9.94517301133626e-6 - 2.61389073566757e-22*I)*C^3.00000000000000 - (2.398562767765189e-6 + 3.388131789017201e-21*I)*C^2.50000000000000 + (3.75137843463561e-7)*C^1.50000000000000 + 3.86129096490780e-8 + 2.06795153138257e-24*I)*C^5 + (2.39119490462675e-9 - 5.65455496862421e-26*I)*C^6.00000000000000 + (0.0352133616390000*C^24.0000000000000 + (0.222988100127450 + 6.93889390390723e-18*I)*C^23.0000000000000 + (1.937227787740206 + 1.387778780781446e-17*I)*C^22.0000000000000 - (4.15484819057186 - 2.22044604925031e-16*I)*C^21.0000000000000 - (0.0271461728333164 + 1.04083408558608e-17*I)*C^20.5000000000000 - (0.143597849264216 - 8.88178419700125e-16*I)*C^20.0000000000000 - (0.2097450222062960 + 1.110223024625157e-16*I)*C^19.5000000000000 - (3.661411723327276 - 4.329869796038111e-15*I)*C^19.0000000000000 - (1.79367076178214 + 7.76939276803112e-16*I)*C^18.5000000000000 + (1.56730175196842 + 4.62997695738210e-15*I)*C^18.0000000000000 + (0.643819977591828 - 1.44328993201270e-15*I)*C^17.5000000000000 + (5.43256327325968 + 1.21669167796323e-15*I)*C^17.0000000000000 + (0.507460159740899 - 1.72084568816899e-15*I)*C^16.5000000000000 + (4.366814619545003 + 4.276310208717327e-15*I)*C^16.0000000000000 + (3.88178506884534 - 2.95477618067475e-15*I)*C^15.5000000000000 + (2.58372775440964 + 1.00268372164175e-15*I)*C^15.0000000000000 + (4.67862812274267 + 1.75207071073658e-16*I)*C^14.5000000000000 - (0.137255349415629 - 3.72531866466019e-16*I)*C^14.0000000000000 + (3.97051681895339 - 1.14437539305845e-15*I)*C^13.5000000000000 - (1.66051268815260 - 3.46944695195361e-17*I)*C^13.0000000000000 + (2.87187874777338 - 8.57603918436034e-17*I)*C^12.5000000000000 - (0.768619489630587 + 3.49451912719234e-17*I)*C^12.0000000000000 + (1.843628511527108 - 1.661201016155134e-16*I)*C^11.5000000000000 + (0.0457079744186262 + 3.63478778325765e-17*I)*C^11.0000000000000 + (0.754267207910291 - 4.43167638003450e-17*I)*C^10.5000000000000 + (0.1395049010459340 - 1.078781161623077e-17*I)*C^10.0000000000000 + (0.1776443319055619 - 1.192622389734055e-17*I)*C^9.50000000000000 + (0.0561935807659494 + 4.13352078260099e-18*I)*C^9.00000000000000 + (0.02581784446741183 + 1.300936727864198e-18*I)*C^8.50000000000000 + (0.00671597105700758 + 2.60208521396521e-18*I)*C^8.00000000000000 + (0.00322667709677102 + 3.74388562686401e-19*I)*C^7.50000000000000 - (0.00190888549084470 - 8.33480420098231e-19*I)*C^7.00000000000000 + (0.000460767860342897 - 3.38813178901720e-20*I)*C^6.50000000000000 - (0.000583905553746450 - 8.13681024956162e-20*I)*C^6.00000000000000 + (0.0000163244116253254 + 8.47032947254300e-22*I)*C^5.50000000000000 - (0.00002589542838892228 - 1.355252715606880e-20*I)*C^5.00000000000000 - (6.45029891169609e-6 - 1.58818677610181e-21*I)*C^4.50000000000000 + (5.74992874848581e-6)*C^4.00000000000000 + (3.33258835745752e-7)*C^3.50000000000000 + (5.71059968841078e-7 - 5.29395592033938e-23*I)*C^3.00000000000000 + (3.953206377144720e-7 - 2.646977960169689e-23*I)*C^2.50000000000000 + (5.25548542488419e-8)*C^1.50000000000000 + 7.38446238861619e-10)*C^(9/2) - (2.27194855521361e-10 + 6.46234853557053e-26*I)*C^5.50000000000000 + (-5.84240000000000*C^27.5000000000000 - (55.0580368575900 - 8.88178419700125e-16*I)*C^26.5000000000000 - (484.569467458768 - 7.54951656745106e-15*I)*C^25.5000000000000 - (722.984419265376 + 1.66755498298698e-13*I)*C^24.5000000000000 + 6.11200603109206*C^24.0000000000000 - (1452.238803055021 - 3.043398866253710e-14*I)*C^23.5000000000000 + (56.9972194307761 - 8.88178419700125e-16*I)*C^23.0000000000000 - (1495.657260138823 - 4.049538482320259e-13*I)*C^22.5000000000000 + (498.096397082414 - 8.65973959207622e-15*I)*C^22.0000000000000 - (1463.36234699624 - 1.32741040381745e-14*I)*C^21.5000000000000 + (678.406017654160 - 7.28028748397946e-14*I)*C^21.0000000000000 - (1066.61601043041 - 5.77767000908835e-14*I)*C^20.5000000000000 + (1202.68088534449 - 7.01660951563099e-14*I)*C^20.0000000000000 - (587.467119784943 - 1.31460814456474e-13*I)*C^19.5000000000000 + (1205.77382198337 - 7.54396545232794e-14*I)*C^19.0000000000000 - (337.5546315510547 - 1.886650558002856e-13*I)*C^18.5000000000000 + (1092.729676340164 - 1.403321903126198e-13*I)*C^18.0000000000000 - (207.791188204045 - 4.38642178135495e-14*I)*C^17.5000000000000 + (824.310036960163 - 1.47100322374361e-13*I)*C^17.0000000000000 - (174.8212338231970 - 1.712562383571203e-14*I)*C^16.5000000000000 + (526.237262039426 + 8.68749516769185e-15*I)*C^16.0000000000000 - (144.429906742921 - 2.34066238613551e-14*I)*C^15.5000000000000 + (291.684297883759 - 1.32758387616505e-14*I)*C^15.0000000000000 - (88.3779632664178 - 2.60761464504489e-15*I)*C^14.5000000000000 + (149.1573127587736 - 1.800209287194932e-14*I)*C^14.0000000000000 - (38.22410319601413 + 4.328135072562134e-16*I)*C^13.5000000000000 + (62.5149982214867 + 2.36258495406316e-15*I)*C^13.0000000000000 - (14.11416509620314 + 2.191823111896696e-15*I)*C^12.5000000000000 + (18.68488501457589 + 1.658395643033828e-15*I)*C^12.0000000000000 - (4.65109282603336 + 1.07124595652430e-15*I)*C^11.5000000000000 + (4.06728851315073 + 3.64305482482286e-16*I)*C^11.0000000000000 - (1.486497992158727 + 2.615095640035037e-16*I)*C^10.5000000000000 + (0.815666815375752 + 4.45856967610982e-17*I)*C^10.0000000000000 - (0.458396267756726 + 5.76795555762288e-17*I)*C^9.50000000000000 + (0.222572321193751 + 5.51672558546726e-18*I)*C^9.00000000000000 - (0.100861284308477 + 8.67404089635766e-18*I)*C^8.50000000000000 + (0.0661641919345272 - 3.25260651745651e-19*I)*C^8.00000000000000 - (0.0115808543346650 + 1.95114039400028e-18*I)*C^7.50000000000000 + (0.01465607435675745 - 1.735570508924061e-18*I)*C^7.00000000000000 - (0.000246528081209938 + 1.08420217248550e-19*I)*C^6.50000000000000 + (0.00222466108085576 + 1.56701095242046e-20*I)*C^6.00000000000000 - (0.00002488024327789619 + 1.355252715606880e-20*I)*C^5.50000000000000 + (0.000237568805961081 - 5.92923063078010e-21*I)*C^5.00000000000000 - (0.0000452659504696863 + 2.96461531539005e-21*I)*C^4.50000000000000 + (0.0000180745052087437 + 2.11758236813575e-22*I)*C^4.00000000000000 - (7.40313598724691e-6 + 4.23516473627150e-22*I)*C^3.50000000000000 + (7.98410746610175e-7 - 1.32348898008484e-23*I)*C^3.00000000000000 - (2.96603970536433e-7 + 1.05879118406788e-22*I)*C^2.50000000000000 + (1.040642323394389e-8)*C^1.50000000000000 + 1.48063338954157e-9 + 5.16987882845642e-26*I)*C^4 + (2.284525458634457e-10 + 3.231174267785264e-27*I)*C^5.00000000000000 + (0.0411961440000000*C^26.5000000000000 + 0.4102570440000000*C^25.5000000000000 + (3.63591263312556 + 2.22044604925031e-16*I)*C^24.5000000000000 + 0.0286871359919654*C^24.0000000000000 + (7.03944619880637 + 1.11022302462516e-16*I)*C^23.5000000000000 + (0.215333933562829 - 6.93889390390723e-18*I)*C^23.0000000000000 + (13.9800321599085 + 4.44089209850063e-16*I)*C^22.5000000000000 + (1.905113238942285 - 1.032160468206200e-16*I)*C^22.0000000000000 + (18.0014673252542 + 1.73472347597681e-18*I)*C^21.5000000000000 - (0.528283801277429 + 1.55431223447522e-15*I)*C^21.0000000000000 + (19.9316935329391 - 6.79577921713914e-16*I)*C^20.5000000000000 + (4.59032248947771 - 7.76939276803112e-16*I)*C^20.0000000000000 + (17.7940226714513 + 1.53147622621724e-15*I)*C^19.5000000000000 + (4.35759821006952 - 3.58046925441613e-15*I)*C^19.0000000000000 + (12.8474787901663 - 1.02776944940763e-15*I)*C^18.5000000000000 + (8.90529877059382 + 9.30679144861557e-16*I)*C^18.0000000000000 + (8.49015228680999 - 4.31919040463913e-16*I)*C^17.5000000000000 + (10.5868258444200 + 1.55300949780234e-15*I)*C^17.0000000000000 + (4.71827760283781 - 3.04023841692092e-16*I)*C^16.5000000000000 + (9.11627877413178 + 3.00280633691585e-15*I)*C^16.0000000000000 + (3.18947306102183 + 3.24432253523237e-16*I)*C^15.5000000000000 + (6.19111790736361 - 2.26367861087817e-16*I)*C^15.0000000000000 + (2.16992543821601 - 2.74508131612068e-16*I)*C^14.5000000000000 + (3.15389448011415 - 1.63985578588433e-16*I)*C^14.0000000000000 + (1.454243024288726 - 1.233707722840625e-16*I)*C^13.5000000000000 + (0.881840621261074 + 1.30781887056064e-18*I)*C^13.0000000000000 + (0.875631897960523 - 4.14131348571572e-17*I)*C^12.5000000000000 + (0.0655513547391168 + 2.03239202946565e-17*I)*C^12.0000000000000 + (0.461492512657628 - 7.48173614397883e-18*I)*C^11.5000000000000 - (0.0100339248947905 - 6.78812203929596e-18*I)*C^11.0000000000000 + (0.181405569240497 + 1.18220388448283e-17*I)*C^10.5000000000000 + (0.00748809673865337 + 1.67034897198548e-18*I)*C^10.0000000000000 + (0.0491210582284105 + 6.69685423922931e-20*I)*C^9.50000000000000 + (0.00528366854547123 + 1.96299885526184e-19*I)*C^9.00000000000000 + (0.00940837912881585 - 1.17908640619024e-18*I)*C^8.50000000000000 + (0.000928619925864593 + 4.74338450462408e-20*I)*C^8.00000000000000 + (0.00135204880555069 - 1.43995807828384e-19*I)*C^7.50000000000000 - (0.0000995180043658120 - 3.21872519956634e-20*I)*C^7.00000000000000 + (0.000145653963628733 - 5.08219768352580e-21*I)*C^6.50000000000000 - (0.0000517620574606719 + 7.41153828847513e-22*I)*C^6.00000000000000 + (8.49431229123634e-6 - 4.23516473627150e-22*I)*C^5.50000000000000 - (4.89119581174675e-6 + 8.47032947254300e-22*I)*C^5.00000000000000 - (4.71919345761361e-8 + 9.92616735063633e-24*I)*C^4.50000000000000 + (6.00537491143933e-8)*C^4.00000000000000 + (5.67725164981406e-8 - 1.32348898008484e-23*I)*C^3.50000000000000 + (2.29416536502318e-8 - 3.30872245021211e-24*I)*C^3.00000000000000 + (2.511489612319981e-8)*C^2.50000000000000 + (2.72573395845912e-9 + 5.16987882845642e-26*I)*C^1.50000000000000 + 2.010096399019038e-11 - 1.615587133892632e-27*I)*C^(7/2) - (1.07618353344787e-11 + 1.61558713389263e-27*I)*C^4.50000000000000 + (C^31.0000000000000 + 10.2500000000000*C^30.0000000000000 + 92.1776516800000*C^29.0000000000000 + 206.9308279800000*C^28.0000000000000 - 3.12483820616000*C^27.5000000000000 + 480.9819076658768*C^27.0000000000000 - 28.5062456135048*C^26.5000000000000 + 727.851600288020*C^26.0000000000000 - (249.7951465174778 - 2.831068712794149e-14*I)*C^25.5000000000000 + (991.804222204058 + 5.15143483426073e-14*I)*C^25.0000000000000 - (303.5671284191130 + 1.145750161413162e-13*I)*C^24.5000000000000 + (1089.947481425124 + 1.620925615952729e-14*I)*C^24.0000000000000 - (615.800471061757 + 2.15244488899202e-14*I)*C^23.5000000000000 + (1042.07317087012 - 5.87307980026708e-14*I)*C^23.0000000000000 - (481.422626344188 - 7.80209230555329e-14*I)*C^22.5000000000000 + (969.501780747171 + 2.18436380095000e-14*I)*C^22.0000000000000 - (371.515689056307 + 1.17461596005342e-13*I)*C^21.5000000000000 + (787.175068077721 - 1.79370407416002e-14*I)*C^21.0000000000000 - (92.3837719718325 + 1.10285044985226e-15*I)*C^20.5000000000000 + (714.997915358672 + 4.57958324040497e-14*I)*C^20.0000000000000 + (131.303535333261 - 1.83637827166905e-14*I)*C^19.5000000000000 + (574.920979146742 - 6.94930224476309e-15*I)*C^19.0000000000000 + (202.395757814392 - 9.43949779452780e-14*I)*C^18.5000000000000 + (447.9129481753811 - 2.944953308992027e-14*I)*C^18.0000000000000 + (166.082633367183 - 1.56437363063588e-14*I)*C^17.5000000000000 + (309.927371758593 - 5.31226538452723e-14*I)*C^17.0000000000000 + (91.6235828244718 - 7.01652277945719e-15*I)*C^16.5000000000000 + (186.683274000211 - 8.08381139805192e-15*I)*C^16.0000000000000 + (28.8725440917404 - 2.15040658890775e-15*I)*C^15.5000000000000 + (96.6761257114490 - 7.80435828809378e-16*I)*C^15.0000000000000 + (0.718362418173866 + 1.22270900002053e-15*I)*C^14.5000000000000 + (43.7147466338907 - 5.58743589590405e-16*I)*C^14.0000000000000 - (3.47168854803045 - 3.38067789908136e-16*I)*C^13.5000000000000 + (16.60772517073725 + 3.614882508997178e-16*I)*C^13.0000000000000 - (1.840716318286719 + 3.657420503608288e-16*I)*C^12.5000000000000 + (4.91684594039606 - 4.27243418595069e-16*I)*C^12.0000000000000 - (0.627890562712819 + 6.29650411670957e-17*I)*C^11.5000000000000 + (1.10036615849654 - 3.02204414921389e-17*I)*C^11.0000000000000 - (0.185996065385089 + 3.42861996389596e-17*I)*C^10.5000000000000 + (0.193464665585043 - 5.26801553632971e-19*I)*C^10.0000000000000 - (0.0516931713341229 + 7.18283939271647e-18*I)*C^9.50000000000000 + (0.03153003595803033 + 1.640808697949986e-18*I)*C^9.00000000000000 - (0.0111242213820278 + 1.32814766129474e-18*I)*C^8.50000000000000 + (0.00578551619913067 + 3.99799551104030e-19*I)*C^8.00000000000000 - (0.00146712920640688 + 8.76414402612184e-20*I)*C^7.50000000000000 + (0.00107995958695380 - 3.98105485209521e-20*I)*C^7.00000000000000 - (0.0000906386800140925 + 2.66815378385105e-20*I)*C^6.50000000000000 + (0.000163054389091944 + 5.96893530018265e-21*I)*C^6.00000000000000 - (3.666701185392629e-6 + 1.694065894508601e-21*I)*C^5.50000000000000 + (0.0000176586930263223 + 4.76456032830544e-22*I)*C^5.00000000000000 - (1.858511238240292e-6 + 1.323488980084844e-23*I)*C^4.50000000000000 + (1.265345541780621e-6 + 1.323488980084844e-23*I)*C^4.00000000000000 - (3.29621898065156e-7 - 1.32348898008484e-23*I)*C^3.50000000000000 + (4.85421571380838e-8 - 4.13590306276514e-25*I)*C^3.00000000000000 - (1.735933197039664e-8)*C^2.50000000000000 + (4.857029739158831e-11 - 2.067951531382569e-25*I)*C^1.50000000000000 + 4.17457415944797e-11 + 8.07793566946316e-28*I)*C^3 + (1.55709495147355e-11 - 8.07793566946316e-28*I)*C^4.00000000000000 + (0.0411961440000000*C^26.5000000000000 + 0.4102570440000000*C^25.5000000000000 + (3.63591263312556 + 2.22044604925031e-16*I)*C^24.5000000000000 + 0.00543522423587199*C^24.0000000000000 + (7.03944619880637 + 1.11022302462516e-16*I)*C^23.5000000000000 - (0.000936162258859265 - 1.73472347597681e-18*I)*C^23.0000000000000 + (13.9800321599085 + 4.44089209850063e-16*I)*C^22.5000000000000 - (0.0442316166964461 + 2.77555756156289e-17*I)*C^22.0000000000000 + (18.0014673252542 + 1.73472347597681e-18*I)*C^21.5000000000000 - (3.64048691948771 - 4.44089209850063e-16*I)*C^21.0000000000000 + (19.9352157711998 - 6.78060038672435e-16*I)*C^20.5000000000000 - (4.96454659158348 - 1.77635683940025e-15*I)*C^20.0000000000000 + (17.8167334929427 + 1.54364639560339e-15*I)*C^19.5000000000000 - (8.27213891968114 + 7.49400541621981e-16*I)*C^19.0000000000000 + (13.0376095870830 - 8.75952346139457e-16*I)*C^18.5000000000000 - (7.86789060556900 + 2.68665298341908e-16*I)*C^18.0000000000000 + (8.03527572683031 - 2.86635949350855e-16*I)*C^17.5000000000000 - (5.80083774925263 + 6.45155349770447e-16*I)*C^17.0000000000000 + (4.11633305678333 - 2.21312768458604e-17*I)*C^16.5000000000000 - (3.363350845248402 + 1.241750300674804e-16*I)*C^16.0000000000000 + (1.84372948851375 + 8.28531630103898e-17*I)*C^15.5000000000000 - (1.44322472112539 - 1.69923279548685e-16*I)*C^15.0000000000000 + (0.749863160051766 + 6.33021602801029e-17*I)*C^14.5000000000000 - (0.403635291454107 + 4.12335638723393e-18*I)*C^14.0000000000000 + (0.314034379293407 - 1.89400802170798e-17*I)*C^13.5000000000000 - (0.0951007687579295 - 1.14349447879331e-18*I)*C^13.0000000000000 + (0.1400641239894085 - 4.579398926035649e-17*I)*C^12.5000000000000 - (0.0371101851879025 + 7.88821600570984e-18*I)*C^12.0000000000000 + (0.0613408781444634 - 1.34965568071010e-17*I)*C^11.5000000000000 - (0.01316832140004160 + 1.108977886192693e-18*I)*C^11.0000000000000 + (0.02219979864081086 - 2.525005215765069e-18*I)*C^10.5000000000000 - (0.00233165848137979 + 5.26880962971777e-19*I)*C^10.0000000000000 + (0.00604356579620838 - 1.61730353366368e-19*I)*C^9.50000000000000 - (0.0000495897981715504 + 8.38562617781757e-20*I)*C^9.00000000000000 + (0.001227391333705110 + 1.355119591227048e-19*I)*C^8.50000000000000 + (0.0000346615332040339 - 1.73641754187132e-20*I)*C^8.00000000000000 + (0.000185096182573928 + 1.56699027290514e-20*I)*C^7.50000000000000 - (3.99884643053984e-6 + 1.69406589450860e-21*I)*C^7.00000000000000 + (0.0000196316575707197 + 4.63221143029695e-22*I)*C^6.50000000000000 - (2.77274357011374e-6 + 1.52201232709757e-22*I)*C^6.00000000000000 + (1.220433521438123e-6 + 2.646977960169689e-23*I)*C^5.50000000000000 - (3.48242901010164e-7 + 6.61744490042422e-23*I)*C^5.00000000000000 + (2.73167304086487e-8 + 4.54949336904165e-24*I)*C^4.50000000000000 - (1.19235933096288e-8 + 3.30872245021211e-24*I)*C^4.00000000000000 + (3.46062537879114e-9 + 8.27180612553028e-25*I)*C^3.50000000000000 + (3.08211718985951e-10 - 2.06795153138257e-25*I)*C^3.00000000000000 + (1.081119840175532e-9)*C^2.50000000000000 + (1.003357023031620e-10 - 1.615587133892632e-27*I)*C^1.50000000000000 + 3.28916001831811e-13)*C^(5/2) - (1.250021229134873e-12)*C^3.50000000000000 + (1.00000000000000*C^31.0000000000000 + 10.2500000000000*C^30.0000000000000 + 92.1776516800000*C^29.0000000000000 + 206.9308279800000*C^28.0000000000000 - 2.61818671954400*C^27.5000000000000 + 480.9819076658768*C^27.0000000000000 - (25.6623267824504 - 2.22044604925031e-16*I)*C^26.5000000000000 + 727.851600288020*C^26.0000000000000 - (227.000528958155 - 3.55271367880050e-15*I)*C^25.5000000000000 + (991.804222204058 + 5.15143483426073e-14*I)*C^25.0000000000000 - (411.2709609703808 - 1.437738816889578e-14*I)*C^24.5000000000000 + (1088.44396624826 + 1.62075214360513e-14*I)*C^24.0000000000000 - (819.773717409002 - 9.47054934474778e-14*I)*C^23.5000000000000 + (1027.75058043928 - 5.86058979124005e-14*I)*C^23.0000000000000 - (1007.13847306089 - 1.89293025698589e-14*I)*C^22.5000000000000 + (844.096845434693 + 3.80286080403636e-14*I)*C^22.0000000000000 - (1092.32351986731 + 2.34435734713934e-13*I)*C^21.5000000000000 + (595.207153109717 - 9.70751257156621e-15*I)*C^21.0000000000000 - (939.397503341356 + 5.03891091178932e-15*I)*C^20.5000000000000 + (381.376862785621 + 1.82699992287705e-14*I)*C^20.0000000000000 - (658.207458064151 - 5.32903799213558e-14*I)*C^19.5000000000000 + (219.516727267629 - 5.80698683583236e-16*I)*C^19.0000000000000 - (381.424051456831 - 6.25654313513718e-14*I)*C^18.5000000000000 + (119.866327665584 + 7.17698470098505e-15*I)*C^18.0000000000000 - (180.6395751908336 - 2.927199498417576e-14*I)*C^17.5000000000000 + (62.6165353799566 + 4.01541040255673e-15*I)*C^17.0000000000000 - (68.0775841610493 - 6.05105429738600e-15*I)*C^16.5000000000000 + (31.2893827359505 + 5.69206140554890e-18*I)*C^16.0000000000000 - (20.8137989377201 - 5.28861622463989e-15*I)*C^15.5000000000000 + (14.49477953075682 + 3.758115780377880e-16*I)*C^15.0000000000000 - (5.72217089289436 - 1.40218511714835e-15*I)*C^14.5000000000000 + (6.03027295035251 - 2.32534260943829e-16*I)*C^14.0000000000000 - (1.515591969851350 - 2.903052960783609e-16*I)*C^13.5000000000000 + (2.14713896192773 - 8.93060717608099e-17*I)*C^13.0000000000000 - (0.3697518394872339 - 1.094561385430424e-16*I)*C^12.5000000000000 + (0.616206852951343 - 1.90443711487105e-17*I)*C^12.0000000000000 - (0.0801907761180388 - 1.93568204271289e-17*I)*C^11.5000000000000 + (0.137223401774751 + 3.54790337869304e-18*I)*C^11.0000000000000 - (0.0168567797293510 - 3.17891465104539e-18*I)*C^10.5000000000000 + (0.0234821719109442 + 9.10874746931143e-19*I)*C^10.0000000000000 - (0.00373724431595249 - 6.74238226014423e-19*I)*C^9.50000000000000 + (0.00321229701484847 + 8.27842357043070e-21*I)*C^9.00000000000000 - (0.000738226940125339 - 1.31714036888350e-19*I)*C^8.50000000000000 + (0.000403182367081481 + 7.88799432130567e-21*I)*C^8.00000000000000 - (0.0001004417538266411 - 1.916742915407876e-20*I)*C^7.50000000000000 + (0.0000549392689748072 - 3.95723205045368e-21*I)*C^7.00000000000000 - (7.71753580029422e-6 - 2.11096492323533e-21*I)*C^6.50000000000000 + (7.51743251189379e-6 - 2.20030042939105e-22*I)*C^6.00000000000000 - (3.37004403315639e-7 - 4.63221143029695e-23*I)*C^5.50000000000000 + (8.10393893858633e-7 + 6.61744490042422e-24*I)*C^5.00000000000000 - (5.47524740358324e-8 - 3.30872245021211e-24*I)*C^4.50000000000000 + (5.67762006959662e-8 + 1.65436122510606e-24*I)*C^4.00000000000000 - (9.57576694314771e-9 - 4.13590306276514e-25*I)*C^3.50000000000000 + (2.01283722726652e-9 - 3.87740912134232e-26*I)*C^3.00000000000000 - (5.92801376834187e-10)*C^2.50000000000000 - (7.26906862467267e-12 - 3.23117426778526e-27*I)*C^1.50000000000000 + 8.12539447541833e-13 + 1.26217744835362e-29*I)*C^2 + (5.05602900229674e-13 - 1.89326617253043e-29*I)*C^3.00000000000000 + (0.0181686863649086*C^26.5000000000000 + (0.180935175909438 - 5.42101086242752e-20*I)*C^25.5000000000000 + (1.60354222185133 + 4.33680868994202e-19*I)*C^24.5000000000000 + 0.0002860258829065441*C^24.0000000000000 + (3.10459858011860 + 3.49655200626575e-17*I)*C^23.5000000000000 - (0.00582247823117330 - 4.33680868994202e-19*I)*C^23.0000000000000 + (6.16559694724619 - 3.88117272695498e-16*I)*C^22.5000000000000 - (0.0583776410851203 - 3.38813178901720e-21*I)*C^22.0000000000000 + (7.93916571271074 - 6.75564679609823e-16*I)*C^21.5000000000000 - (0.681328101451040 - 6.24500451351651e-17*I)*C^21.0000000000000 + (8.79210548357718 - 6.97792518211671e-16*I)*C^20.5000000000000 - (1.068319800558388 - 2.150786059668119e-16*I)*C^20.0000000000000 + (7.85807850909567 - 7.97439401838129e-18*I)*C^19.5000000000000 - (1.69382593274474 + 3.31576129400379e-16*I)*C^19.0000000000000 + (5.75290226837636 - 1.36868020226003e-16*I)*C^18.5000000000000 - (1.73549486753222 - 3.59548545450505e-16*I)*C^18.0000000000000 + (3.50885771361940 + 1.59788265344935e-16*I)*C^17.5000000000000 - (1.38333486574239 - 1.29504561371604e-16*I)*C^17.0000000000000 + (1.766562838581119 + 1.116663982635158e-16*I)*C^16.5000000000000 - (0.884233172083851 - 1.34325872907376e-16*I)*C^16.0000000000000 + (0.724914121434304 - 2.36766994194098e-17*I)*C^15.5000000000000 - (0.443810269503021 - 4.73322010925703e-17*I)*C^15.0000000000000 + (0.242076511788803 + 1.52582452342441e-17*I)*C^14.5000000000000 - (0.1680581565759818 - 2.642065169075614e-17*I)*C^14.0000000000000 + (0.0691088663907765 + 1.54467045843662e-18*I)*C^13.5000000000000 - (0.0498821472034831 - 9.57570746870987e-19*I)*C^13.0000000000000 + (0.0186287879190882 + 9.94694612762366e-19*I)*C^12.5000000000000 - (0.01293441903879069 + 1.113424680713231e-18*I)*C^12.0000000000000 + (0.00526212536184976 + 4.09114431981989e-19*I)*C^11.5000000000000 - (0.00296149132177027 + 3.13344287841212e-19*I)*C^11.0000000000000 + (0.001488611667384015 - 1.433603263227903e-19*I)*C^10.5000000000000 - (0.000517029165143937 + 7.40492084357470e-20*I)*C^10.0000000000000 + (0.000369468586859137 - 2.88785295454513e-20*I)*C^9.50000000000000 - (0.0000570651533586780 + 1.10230088428816e-20*I)*C^9.00000000000000 + (0.0000742950824049630 - 4.45684914043571e-21*I)*C^8.50000000000000 - (3.354279257947562e-6 + 1.323488980084844e-21*I)*C^8.00000000000000 + (0.00001138728413936287 - 3.613745301091040e-23*I)*C^7.50000000000000 - (3.00641878722672e-7 + 6.94831714544543e-23*I)*C^7.00000000000000 + (1.21707838262864e-6 + 9.71937219749808e-24*I)*C^6.50000000000000 - (8.83429627446574e-8 - 1.65436122510606e-24*I)*C^6.00000000000000 + (7.77009194964948e-8 + 3.30872245021211e-24*I)*C^5.50000000000000 - (1.227556975172440e-8 - 1.033975765691285e-25*I)*C^5.00000000000000 + (2.15687126751962e-9 + 1.55096364853693e-25*I)*C^4.50000000000000 - (6.75739045781132e-10 - 1.03397576569128e-25*I)*C^4.00000000000000 + (1.027663567629353e-10 - 1.292469707114106e-26*I)*C^3.50000000000000 - (9.77704741692161e-12 - 6.46234853557053e-27*I)*C^3.00000000000000 + (2.726594825000015e-11 + 1.615587133892632e-27*I)*C^2.50000000000000 + (2.27098015229604e-12 - 2.52435489670724e-29*I)*C^1.50000000000000 + 2.431007469653331e-15)*C^(3/2) - (9.29947959877681e-14)*C^2.50000000000000 + (0.4410288100000000*C^31.0000000000000 + 4.52054530250000*C^30.0000000000000 + (40.6530000290249 - 3.55271367880050e-15*I)*C^29.0000000000000 + (91.2624568163341 - 3.66373598126302e-15*I)*C^28.0000000000000 - 0.4180600295752001*C^27.5000000000000 + (212.126878369412 + 1.20736753927986e-14*I)*C^27.0000000000000 - (4.15325974844758 + 5.55111512312578e-17*I)*C^26.5000000000000 + (321.003525131621 + 3.10723669016966e-14*I)*C^26.0000000000000 - (36.8002735674391 + 9.02056207507940e-16*I)*C^25.5000000000000 + (437.414235871631 - 8.88004947352528e-15*I)*C^25.0000000000000 - (70.5785593924305 + 3.52495810318487e-15*I)*C^24.5000000000000 + (479.9522419811163 - 1.036220263241072e-13*I)*C^24.0000000000000 - (140.401378841100 + 8.68684464638836e-15*I)*C^23.5000000000000 + (452.468943587001 - 8.31756267593437e-14*I)*C^23.0000000000000 - (179.6938116731590 + 1.265437407638181e-14*I)*C^22.5000000000000 + (365.270598874903 - 3.78399568623511e-14*I)*C^22.0000000000000 - (198.8019340877223 - 1.708290627011610e-14*I)*C^21.5000000000000 + (251.172225264114 - 1.33357409316803e-14*I)*C^21.0000000000000 - (177.016598779122 - 3.43576356448739e-14*I)*C^20.5000000000000 + (148.6431949656507 - 1.434186021895614e-15*I)*C^20.0000000000000 - (129.2594870605779 + 2.790123140123876e-14*I)*C^19.5000000000000 + (75.4114937420328 + 1.85914922779667e-15*I)*C^19.0000000000000 - (78.5256805621775 + 5.68430936001563e-15*I)*C^18.5000000000000 + (32.9256303462777 - 2.45024269970862e-15*I)*C^18.0000000000000 - (39.3842500183033 + 2.96946712011192e-15*I)*C^17.5000000000000 + (12.52516451001605 - 1.514413594527753e-15*I)*C^17.0000000000000 - (15.96371043542110 + 1.410498745525648e-15*I)*C^16.5000000000000 + (4.33370763298329 + 1.78660424399613e-17*I)*C^16.0000000000000 - (5.18863198264123 + 1.88431161204428e-16*I)*C^15.5000000000000 + (1.44277452488521 + 7.55311984560868e-17*I)*C^15.0000000000000 - (1.377567680018447 + 2.193181117469381e-16*I)*C^14.5000000000000 + (0.4740437022181331 - 1.727926036575091e-17*I)*C^14.0000000000000 - (0.305557965266272 + 7.31692206128886e-17*I)*C^13.5000000000000 + (0.146785849566535 - 4.97811189268703e-18*I)*C^13.0000000000000 - (0.05674049609898307 + 1.145072077657567e-17*I)*C^12.5000000000000 + (0.0393290186471625 + 1.24790121570975e-18*I)*C^12.0000000000000 - (0.00879087441942695 + 1.45499415386852e-18*I)*C^11.5000000000000 + (0.00853531720794462 - 1.59600363289044e-19*I)*C^11.0000000000000 - (0.00121142438617149 + 3.35769154247525e-20*I)*C^10.5000000000000 + (0.00144178418005262 + 8.51697987415158e-20*I)*C^10.0000000000000 - (0.000177339624088583 - 1.67553704878741e-20*I)*C^9.50000000000000 + (0.000186174124273232 + 5.43457662447339e-21*I)*C^9.00000000000000 - (0.00002816692449012457 - 2.974544713914955e-21*I)*C^8.50000000000000 + (0.0000190565722619916 + 5.36840217546915e-22*I)*C^8.00000000000000 - (3.67226072005048e-6 - 3.55713512791944e-22*I)*C^7.50000000000000 + (1.842110113485185e-6 + 4.135903062765138e-24*I)*C^7.00000000000000 - (3.04287954220349e-7 - 2.30576595749156e-23*I)*C^6.50000000000000 + (2.02482967374199e-7 + 2.68833699079734e-24*I)*C^6.00000000000000 - (1.44427711824921e-8 + 7.23783035983899e-25*I)*C^5.50000000000000 + (2.08657454144497e-8 - 6.33310156485912e-25*I)*C^5.00000000000000 - (1.08638823788438e-9 + 8.40105309624169e-26*I)*C^4.50000000000000 + (1.44431251379398e-9 + 6.46234853557053e-27*I)*C^4.00000000000000 - (1.638268015533758e-10 - 3.231174267785264e-27*I)*C^3.50000000000000 + (4.881072800953627e-11 - 1.615587133892632e-27*I)*C^3.00000000000000 - (1.13030061250830e-11 - 1.61558713389263e-27*I)*C^2.50000000000000 - (2.36037657000009e-13 - 7.57306469012171e-29*I)*C^1.50000000000000 + 9.67523905363601e-15 + 9.86076131526265e-32*I)*C + (0.0181686863649086*C^26.5000000000000 + (0.180935175909438 - 5.42101086242752e-20*I)*C^25.5000000000000 + (1.60354222185133 + 4.33680868994202e-19*I)*C^24.5000000000000 + (3.10459858011860 + 3.49655200626575e-17*I)*C^23.5000000000000 - 0.000377181928935503*C^23.0000000000000 + (6.16559694724619 - 3.88117272695498e-16*I)*C^22.5000000000000 - 0.003661918769646051*C^22.0000000000000 + (7.93916571271074 - 6.75564679609823e-16*I)*C^21.5000000000000 - (0.0319968444128995 - 3.46944695195361e-18*I)*C^21.0000000000000 + (8.79211142147451 - 6.97792518211671e-16*I)*C^20.5000000000000 - (0.0527279355078316 - 8.67361737988403e-19*I)*C^20.0000000000000 + (7.85804749212098 - 7.97100588659227e-18*I)*C^19.5000000000000 - 0.0822222893443842*C^19.0000000000000 + (5.752567280027416 - 1.368679275817741e-16*I)*C^18.5000000000000 - (0.0863314961986040 - 4.33680868994202e-18*I)*C^18.0000000000000 + (3.502376716112480 + 1.602083936867726e-16*I)*C^17.5000000000000 - (0.0704038129454399 - 1.66687314992475e-18*I)*C^17.0000000000000 + (1.757298585148576 + 1.115613661780562e-16*I)*C^16.5000000000000 - (0.0462055201686298 + 6.05248885949053e-19*I)*C^16.0000000000000 + (0.709686862003324 - 2.23891983782993e-17*I)*C^15.5000000000000 - (0.0240667936417242 + 2.15567144755228e-19*I)*C^15.0000000000000 + (0.2271738895162030 + 1.465452250108863e-17*I)*C^14.5000000000000 - (0.00965090392716973 - 1.56043897963677e-19*I)*C^14.0000000000000 + (0.0576179391268433 + 7.32261353061838e-19*I)*C^13.5000000000000 - (0.003013615719484684 + 3.335192229813808e-20*I)*C^13.0000000000000 + (0.0116007851231918 + 2.43498982548522e-19*I)*C^12.5000000000000 - (0.000769061423884501 - 2.86369928065858e-20*I)*C^12.0000000000000 + (0.00184274531397619 + 5.13281792570039e-20*I)*C^11.5000000000000 - (0.0001632999518074898 - 6.021047678773488e-21*I)*C^11.0000000000000 + (0.000229986734876751 + 3.17306482975341e-21*I)*C^10.5000000000000 - (0.0000272695220781812 - 3.95794108568653e-22*I)*C^10.0000000000000 + (0.00002365234989022744 + 1.070371712643618e-21*I)*C^9.50000000000000 - (3.244327545467252e-6 - 1.293762176821220e-23*I)*C^9.00000000000000 + (2.38562485575194e-6 - 8.93355061557270e-23*I)*C^8.50000000000000 - (2.50428364665541e-7 - 2.26182198744969e-24*I)*C^8.00000000000000 + (2.68427110374239e-7 - 9.66928899634740e-24*I)*C^7.50000000000000 - (1.41170589881746e-8 + 3.10192729707385e-25*I)*C^7.00000000000000 + (2.68907852025440e-8 - 3.20532487364298e-24*I)*C^6.50000000000000 - (1.39605968753446e-9 - 5.49299625523495e-26*I)*C^6.00000000000000 + (1.72611334047667e-9 - 1.16322273640270e-25*I)*C^5.50000000000000 - (1.75094071819797e-10 + 6.46234853557053e-27*I)*C^5.00000000000000 + (4.998797373366603e-11 + 4.038967834731580e-28*I)*C^4.50000000000000 - (1.15927631031045e-11 + 6.05845175209737e-28*I)*C^4.00000000000000 + (1.229441064021272e-12)*C^3.50000000000000 - (2.955335158821709e-13 + 1.388395193188981e-28*I)*C^3.00000000000000 + (2.99107220063713e-13)*C^2.50000000000000 + (2.312946784147316e-14)*C^1.50000000000000)*Sqrt(C) - (2.43204270126669e-15 - 7.88860905221012e-31*I)*C^1.50000000000000 + 5.23309580551324e-17"
      ]
     },
     "metadata": {},
     "output_type": "display_data"
    }
   ],
   "source": [
    "show(q._mathematica_().Denominator().Collect('C')._sage_())"
   ]
  },
  {
   "cell_type": "code",
   "execution_count": null,
   "id": "25e2658c",
   "metadata": {},
   "outputs": [],
   "source": []
  }
 ],
 "metadata": {
  "kernelspec": {
   "display_name": "SageMath 9.3",
   "language": "sage",
   "name": "sagemath"
  },
  "language_info": {
   "codemirror_mode": {
    "name": "ipython",
    "version": 3
   },
   "file_extension": ".py",
   "mimetype": "text/x-python",
   "name": "python",
   "nbconvert_exporter": "python",
   "pygments_lexer": "ipython3",
   "version": "3.9.2"
  }
 },
 "nbformat": 4,
 "nbformat_minor": 5
}
