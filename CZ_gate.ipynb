{
 "cells": [
  {
   "cell_type": "markdown",
   "id": "11ebbd1c",
   "metadata": {},
   "source": [
    "# CZ gate  "
   ]
  },
  {
   "cell_type": "code",
   "execution_count": 15,
   "id": "a43f3bbd",
   "metadata": {
    "scrolled": false
   },
   "outputs": [
    {
     "name": "stdout",
     "output_type": "stream",
     "text": [
      "Initializing system t  ...\n",
      "Constructing states and excitations...\n",
      "Constructing ground and first-excited statespace...\n",
      "Constructing gs_hamiltonian ...\n",
      "Constructing e1_hamiltonian ...\n",
      "Constructing interactions V_plus and V_minus ...\n",
      "Constructing NJ_hamiltonian  ...\n",
      "Inverting NJ_hamiltonian  ...\n",
      "Constructing eff_hamiltonian and effective lindblau operators ...\n",
      "\n",
      "System  t  initialized in 193.8 seconds.\n"
     ]
    }
   ],
   "source": [
    "from system import *\n",
    "s1 = system('t',MMA=True)"
   ]
  },
  {
   "cell_type": "markdown",
   "id": "9d56099a",
   "metadata": {},
   "source": [
    "# $\\Delta_{E\\gamma} = \\ \\dfrac{\\Delta_E}{\\gamma}\\, C^n \\qquad \\Delta_{e\\gamma} = \\ \\dfrac{\\Delta_e}{\\gamma}\\, C^m$"
   ]
  },
  {
   "cell_type": "code",
   "execution_count": 17,
   "id": "2c69c1d2",
   "metadata": {},
   "outputs": [],
   "source": [
    "n = 1\n",
    "m = 0"
   ]
  },
  {
   "cell_type": "markdown",
   "id": "20c87d69",
   "metadata": {},
   "source": [
    "# Effective Hamiltonian Matrix obtain"
   ]
  },
  {
   "cell_type": "code",
   "execution_count": 18,
   "id": "6398d4bb",
   "metadata": {
    "scrolled": true
   },
   "outputs": [
    {
     "name": "stdout",
     "output_type": "stream",
     "text": [
      "Calculating 0 out of [0, 1, 2, 3, 4, 5, 6, 7]...\n",
      "Calculating 1 out of [0, 1, 2, 3, 4, 5, 6, 7]...\n",
      "Calculating 2 out of [0, 1, 2, 3, 4, 5, 6, 7]...\n",
      "Calculating 3 out of [0, 1, 2, 3, 4, 5, 6, 7]...\n",
      "Calculating 4 out of [0, 1, 2, 3, 4, 5, 6, 7]...\n",
      "Calculating 5 out of [0, 1, 2, 3, 4, 5, 6, 7]...\n",
      "Calculating 6 out of [0, 1, 2, 3, 4, 5, 6, 7]...\n",
      "Calculating 7 out of [0, 1, 2, 3, 4, 5, 6, 7]...\n",
      "\n",
      "Real part of H_eff in ground state subspace taylor expanded in 1/C: \n"
     ]
    },
    {
     "data": {
      "text/html": [
       "<html><script type=\"math/tex; mode=display\">\\newcommand{\\Bold}[1]{\\mathbf{#1}}\\left(\\begin{array}{rrrrrrrr}\n",
       "\\frac{{\\left({R_{\\nu}}^{3} {c_\\kappa}^{3} + 0.5625 \\, {R_{\\nu}}^{2} {c_\\kappa}^{2} + 0.09375 \\, {R_{\\nu}} {c_\\kappa} + 0.003906\\right)} {\\Omega}^{2}}{{\\left({\\left({R_{\\nu}}^{3} {c_\\kappa}^{3} + 0.5625 \\, {R_{\\nu}}^{2} {c_\\kappa}^{2} + 0.09375 \\, {R_{\\nu}} {c_\\kappa} + 0.003906\\right)} {\\Delta_{E\\gamma}} + {\\left(-0.5000i \\, {R_{\\nu}}^{3} {c_\\kappa}^{3} - 0.6250i \\, {R_{\\nu}}^{2} {c_\\kappa}^{2} - 0.1562i \\, {R_{\\nu}} {c_\\kappa} - 0.007812i\\right)} R_{f}\\right)} C {\\gamma}} & 0 & 0 & 0 & 0 & 0 & 0 & 0 \\\\\n",
       "0 & \\frac{{\\left({R_{\\nu}}^{3} {c_\\kappa}^{3} + 1.250 \\, {R_{\\nu}}^{2} {c_\\kappa}^{2} + 0.3125 \\, {R_{\\nu}} {c_\\kappa} + 0.01562\\right)} {\\Omega}^{2}}{{\\left({\\left({R_{\\nu}}^{3} {c_\\kappa}^{3} + 1.250 \\, {R_{\\nu}}^{2} {c_\\kappa}^{2} + 0.3125 \\, {R_{\\nu}} {c_\\kappa} + 0.01562\\right)} {\\Delta_{E\\gamma}} + {\\left(-i \\, {R_{\\nu}}^{2} {c_\\kappa}^{2} - 0.5000i \\, {R_{\\nu}} {c_\\kappa} - 0.03125i\\right)} R_{f}\\right)} C {\\gamma}} & 0 & 0 & 0 & 0 & 0 & 0 \\\\\n",
       "0 & 0 & \\frac{{\\left({R_{\\nu}}^{3} {c_\\kappa}^{3} + 1.250 \\, {R_{\\nu}}^{2} {c_\\kappa}^{2} + 0.3125 \\, {R_{\\nu}} {c_\\kappa} + 0.01562\\right)} {\\Omega}^{2}}{{\\left({\\left({R_{\\nu}}^{3} {c_\\kappa}^{3} + 1.250 \\, {R_{\\nu}}^{2} {c_\\kappa}^{2} + 0.3125 \\, {R_{\\nu}} {c_\\kappa} + 0.01562\\right)} {\\Delta_{E\\gamma}} + {\\left(-i \\, {R_{\\nu}}^{2} {c_\\kappa}^{2} - 0.5000i \\, {R_{\\nu}} {c_\\kappa} - 0.03125i\\right)} R_{f}\\right)} C {\\gamma}} & 0 & 0 & 0 & 0 & 0 \\\\\n",
       "0 & 0 & 0 & \\frac{{\\left({R_{\\nu}}^{2} {c_\\kappa}^{2} + 0.5000 \\, {R_{\\nu}} {c_\\kappa} + 0.03125\\right)} {\\Omega}^{2}}{{\\left({\\left({R_{\\nu}}^{2} {c_\\kappa}^{2} + 0.5000 \\, {R_{\\nu}} {c_\\kappa} + 0.03125\\right)} {\\Delta_{E\\gamma}} + {\\left(-0.7500i \\, {R_{\\nu}} {c_\\kappa} - 0.06250i\\right)} R_{f}\\right)} C {\\gamma}} & 0 & 0 & 0 & 0 \\\\\n",
       "0 & 0 & 0 & 0 & \\frac{{\\left({R_{\\nu}}^{3} {c_\\kappa}^{3} + 0.7500 \\, {R_{\\nu}}^{2} {c_\\kappa}^{2} + 0.1875 \\, {R_{\\nu}} {c_\\kappa} + 0.01562\\right)} {\\Omega}^{2}}{{\\left({\\left({R_{\\nu}}^{3} {c_\\kappa}^{3} + 0.7500 \\, {R_{\\nu}}^{2} {c_\\kappa}^{2} + 0.1875 \\, {R_{\\nu}} {c_\\kappa} + 0.01562\\right)} {\\Delta_{E\\gamma}} + {\\left(-0.5000i \\, {R_{\\nu}}^{2} {c_\\kappa}^{2} - 0.2500i \\, {R_{\\nu}} {c_\\kappa} - 0.03125i\\right)} R_{f}\\right)} C {\\gamma}} & 0 & 0 & 0 \\\\\n",
       "0 & 0 & 0 & 0 & 0 & \\frac{{\\left({R_{\\nu}}^{2} {c_\\kappa}^{2} + 0.5000 \\, {R_{\\nu}} {c_\\kappa} + 0.06250\\right)} {\\Omega}^{2}}{{\\left({\\left({R_{\\nu}}^{2} {c_\\kappa}^{2} + 0.5000 \\, {R_{\\nu}} {c_\\kappa} + 0.06250\\right)} {\\Delta_{E\\gamma}} + {\\left(-0.5000i \\, {R_{\\nu}} {c_\\kappa} - 0.1250i\\right)} R_{f}\\right)} C {\\gamma}} & 0 & 0 \\\\\n",
       "0 & 0 & 0 & 0 & 0 & 0 & \\frac{{\\left({R_{\\nu}}^{2} {c_\\kappa}^{2} + 0.5000 \\, {R_{\\nu}} {c_\\kappa} + 0.06250\\right)} {\\Omega}^{2}}{{\\left({\\left({R_{\\nu}}^{2} {c_\\kappa}^{2} + 0.5000 \\, {R_{\\nu}} {c_\\kappa} + 0.06250\\right)} {\\Delta_{E\\gamma}} + {\\left(-0.5000i \\, {R_{\\nu}} {c_\\kappa} - 0.1250i\\right)} R_{f}\\right)} C {\\gamma}} & 0 \\\\\n",
       "0 & 0 & 0 & 0 & 0 & 0 & 0 & \\frac{{\\left({R_{\\nu}} {c_\\kappa} + 0.2500\\right)} {\\Omega}^{2}}{{\\left({\\left({R_{\\nu}} {c_\\kappa} + 0.2500\\right)} {\\Delta_{E\\gamma}} - 0.5000i \\, R_{f}\\right)} C {\\gamma}}\n",
       "\\end{array}\\right)</script></html>"
      ],
      "text/latex": [
       "$$\\newcommand{\\Bold}[1]{\\mathbf{#1}}\\left(\\begin{array}{rrrrrrrr}\n",
       "\\frac{{\\left({R_{\\nu}}^{3} {c_\\kappa}^{3} + 0.5625 \\, {R_{\\nu}}^{2} {c_\\kappa}^{2} + 0.09375 \\, {R_{\\nu}} {c_\\kappa} + 0.003906\\right)} {\\Omega}^{2}}{{\\left({\\left({R_{\\nu}}^{3} {c_\\kappa}^{3} + 0.5625 \\, {R_{\\nu}}^{2} {c_\\kappa}^{2} + 0.09375 \\, {R_{\\nu}} {c_\\kappa} + 0.003906\\right)} {\\Delta_{E\\gamma}} + {\\left(-0.5000i \\, {R_{\\nu}}^{3} {c_\\kappa}^{3} - 0.6250i \\, {R_{\\nu}}^{2} {c_\\kappa}^{2} - 0.1562i \\, {R_{\\nu}} {c_\\kappa} - 0.007812i\\right)} R_{f}\\right)} C {\\gamma}} & 0 & 0 & 0 & 0 & 0 & 0 & 0 \\\\\n",
       "0 & \\frac{{\\left({R_{\\nu}}^{3} {c_\\kappa}^{3} + 1.250 \\, {R_{\\nu}}^{2} {c_\\kappa}^{2} + 0.3125 \\, {R_{\\nu}} {c_\\kappa} + 0.01562\\right)} {\\Omega}^{2}}{{\\left({\\left({R_{\\nu}}^{3} {c_\\kappa}^{3} + 1.250 \\, {R_{\\nu}}^{2} {c_\\kappa}^{2} + 0.3125 \\, {R_{\\nu}} {c_\\kappa} + 0.01562\\right)} {\\Delta_{E\\gamma}} + {\\left(-i \\, {R_{\\nu}}^{2} {c_\\kappa}^{2} - 0.5000i \\, {R_{\\nu}} {c_\\kappa} - 0.03125i\\right)} R_{f}\\right)} C {\\gamma}} & 0 & 0 & 0 & 0 & 0 & 0 \\\\\n",
       "0 & 0 & \\frac{{\\left({R_{\\nu}}^{3} {c_\\kappa}^{3} + 1.250 \\, {R_{\\nu}}^{2} {c_\\kappa}^{2} + 0.3125 \\, {R_{\\nu}} {c_\\kappa} + 0.01562\\right)} {\\Omega}^{2}}{{\\left({\\left({R_{\\nu}}^{3} {c_\\kappa}^{3} + 1.250 \\, {R_{\\nu}}^{2} {c_\\kappa}^{2} + 0.3125 \\, {R_{\\nu}} {c_\\kappa} + 0.01562\\right)} {\\Delta_{E\\gamma}} + {\\left(-i \\, {R_{\\nu}}^{2} {c_\\kappa}^{2} - 0.5000i \\, {R_{\\nu}} {c_\\kappa} - 0.03125i\\right)} R_{f}\\right)} C {\\gamma}} & 0 & 0 & 0 & 0 & 0 \\\\\n",
       "0 & 0 & 0 & \\frac{{\\left({R_{\\nu}}^{2} {c_\\kappa}^{2} + 0.5000 \\, {R_{\\nu}} {c_\\kappa} + 0.03125\\right)} {\\Omega}^{2}}{{\\left({\\left({R_{\\nu}}^{2} {c_\\kappa}^{2} + 0.5000 \\, {R_{\\nu}} {c_\\kappa} + 0.03125\\right)} {\\Delta_{E\\gamma}} + {\\left(-0.7500i \\, {R_{\\nu}} {c_\\kappa} - 0.06250i\\right)} R_{f}\\right)} C {\\gamma}} & 0 & 0 & 0 & 0 \\\\\n",
       "0 & 0 & 0 & 0 & \\frac{{\\left({R_{\\nu}}^{3} {c_\\kappa}^{3} + 0.7500 \\, {R_{\\nu}}^{2} {c_\\kappa}^{2} + 0.1875 \\, {R_{\\nu}} {c_\\kappa} + 0.01562\\right)} {\\Omega}^{2}}{{\\left({\\left({R_{\\nu}}^{3} {c_\\kappa}^{3} + 0.7500 \\, {R_{\\nu}}^{2} {c_\\kappa}^{2} + 0.1875 \\, {R_{\\nu}} {c_\\kappa} + 0.01562\\right)} {\\Delta_{E\\gamma}} + {\\left(-0.5000i \\, {R_{\\nu}}^{2} {c_\\kappa}^{2} - 0.2500i \\, {R_{\\nu}} {c_\\kappa} - 0.03125i\\right)} R_{f}\\right)} C {\\gamma}} & 0 & 0 & 0 \\\\\n",
       "0 & 0 & 0 & 0 & 0 & \\frac{{\\left({R_{\\nu}}^{2} {c_\\kappa}^{2} + 0.5000 \\, {R_{\\nu}} {c_\\kappa} + 0.06250\\right)} {\\Omega}^{2}}{{\\left({\\left({R_{\\nu}}^{2} {c_\\kappa}^{2} + 0.5000 \\, {R_{\\nu}} {c_\\kappa} + 0.06250\\right)} {\\Delta_{E\\gamma}} + {\\left(-0.5000i \\, {R_{\\nu}} {c_\\kappa} - 0.1250i\\right)} R_{f}\\right)} C {\\gamma}} & 0 & 0 \\\\\n",
       "0 & 0 & 0 & 0 & 0 & 0 & \\frac{{\\left({R_{\\nu}}^{2} {c_\\kappa}^{2} + 0.5000 \\, {R_{\\nu}} {c_\\kappa} + 0.06250\\right)} {\\Omega}^{2}}{{\\left({\\left({R_{\\nu}}^{2} {c_\\kappa}^{2} + 0.5000 \\, {R_{\\nu}} {c_\\kappa} + 0.06250\\right)} {\\Delta_{E\\gamma}} + {\\left(-0.5000i \\, {R_{\\nu}} {c_\\kappa} - 0.1250i\\right)} R_{f}\\right)} C {\\gamma}} & 0 \\\\\n",
       "0 & 0 & 0 & 0 & 0 & 0 & 0 & \\frac{{\\left({R_{\\nu}} {c_\\kappa} + 0.2500\\right)} {\\Omega}^{2}}{{\\left({\\left({R_{\\nu}} {c_\\kappa} + 0.2500\\right)} {\\Delta_{E\\gamma}} - 0.5000i \\, R_{f}\\right)} C {\\gamma}}\n",
       "\\end{array}\\right)$$"
      ],
      "text/plain": [
       "[(R_v^3*c_k^3 + 0.5625*R_v^2*c_k^2 + 0.09375*R_v*c_k + 0.003906)*Omega^2/(((R_v^3*c_k^3 + 0.5625*R_v^2*c_k^2 + 0.09375*R_v*c_k + 0.003906)*DEg + (-0.5000*I*R_v^3*c_k^3 - 0.6250*I*R_v^2*c_k^2 - 0.1562*I*R_v*c_k - 0.007812*I)*R_f)*C*gamma)                                                                                                                                                                                                                                            0                                                                                                                                                                                                                                            0                                                                                                                                                                                                                                            0                                                                                                                                                                                                                                            0                                                                                                                                                                                                                                            0                                                                                                                                                                                                                                            0                                                                                                                                                                                                                                            0]\n",
       "[                                                                                                                                                                                                                                           0                                      (R_v^3*c_k^3 + 1.250*R_v^2*c_k^2 + 0.3125*R_v*c_k + 0.01562)*Omega^2/(((R_v^3*c_k^3 + 1.250*R_v^2*c_k^2 + 0.3125*R_v*c_k + 0.01562)*DEg + (-I*R_v^2*c_k^2 - 0.5000*I*R_v*c_k - 0.03125*I)*R_f)*C*gamma)                                                                                                                                                                                                                                            0                                                                                                                                                                                                                                            0                                                                                                                                                                                                                                            0                                                                                                                                                                                                                                            0                                                                                                                                                                                                                                            0                                                                                                                                                                                                                                            0]\n",
       "[                                                                                                                                                                                                                                           0                                                                                                                                                                                                                                            0                                      (R_v^3*c_k^3 + 1.250*R_v^2*c_k^2 + 0.3125*R_v*c_k + 0.01562)*Omega^2/(((R_v^3*c_k^3 + 1.250*R_v^2*c_k^2 + 0.3125*R_v*c_k + 0.01562)*DEg + (-I*R_v^2*c_k^2 - 0.5000*I*R_v*c_k - 0.03125*I)*R_f)*C*gamma)                                                                                                                                                                                                                                            0                                                                                                                                                                                                                                            0                                                                                                                                                                                                                                            0                                                                                                                                                                                                                                            0                                                                                                                                                                                                                                            0]\n",
       "[                                                                                                                                                                                                                                           0                                                                                                                                                                                                                                            0                                                                                                                                                                                                                                            0                                                                                              (R_v^2*c_k^2 + 0.5000*R_v*c_k + 0.03125)*Omega^2/(((R_v^2*c_k^2 + 0.5000*R_v*c_k + 0.03125)*DEg + (-0.7500*I*R_v*c_k - 0.06250*I)*R_f)*C*gamma)                                                                                                                                                                                                                                            0                                                                                                                                                                                                                                            0                                                                                                                                                                                                                                            0                                                                                                                                                                                                                                            0]\n",
       "[                                                                                                                                                                                                                                           0                                                                                                                                                                                                                                            0                                                                                                                                                                                                                                            0                                                                                                                                                                                                                                            0                             (R_v^3*c_k^3 + 0.7500*R_v^2*c_k^2 + 0.1875*R_v*c_k + 0.01562)*Omega^2/(((R_v^3*c_k^3 + 0.7500*R_v^2*c_k^2 + 0.1875*R_v*c_k + 0.01562)*DEg + (-0.5000*I*R_v^2*c_k^2 - 0.2500*I*R_v*c_k - 0.03125*I)*R_f)*C*gamma)                                                                                                                                                                                                                                            0                                                                                                                                                                                                                                            0                                                                                                                                                                                                                                            0]\n",
       "[                                                                                                                                                                                                                                           0                                                                                                                                                                                                                                            0                                                                                                                                                                                                                                            0                                                                                                                                                                                                                                            0                                                                                                                                                                                                                                            0                                                                                               (R_v^2*c_k^2 + 0.5000*R_v*c_k + 0.06250)*Omega^2/(((R_v^2*c_k^2 + 0.5000*R_v*c_k + 0.06250)*DEg + (-0.5000*I*R_v*c_k - 0.1250*I)*R_f)*C*gamma)                                                                                                                                                                                                                                            0                                                                                                                                                                                                                                            0]\n",
       "[                                                                                                                                                                                                                                           0                                                                                                                                                                                                                                            0                                                                                                                                                                                                                                            0                                                                                                                                                                                                                                            0                                                                                                                                                                                                                                            0                                                                                                                                                                                                                                            0                                                                                               (R_v^2*c_k^2 + 0.5000*R_v*c_k + 0.06250)*Omega^2/(((R_v^2*c_k^2 + 0.5000*R_v*c_k + 0.06250)*DEg + (-0.5000*I*R_v*c_k - 0.1250*I)*R_f)*C*gamma)                                                                                                                                                                                                                                            0]\n",
       "[                                                                                                                                                                                                                                           0                                                                                                                                                                                                                                            0                                                                                                                                                                                                                                            0                                                                                                                                                                                                                                            0                                                                                                                                                                                                                                            0                                                                                                                                                                                                                                            0                                                                                                                                                                                                                                            0                                                                                                                                                                 (R_v*c_k + 0.2500)*Omega^2/(((R_v*c_k + 0.2500)*DEg - 0.5000*I*R_f)*C*gamma)]"
      ]
     },
     "metadata": {},
     "output_type": "display_data"
    }
   ],
   "source": [
    "var('gamma','DE','De','g','g_f','Omega','v','gamma_f','gamma_g',domain='positive')\n",
    "var('DEt',domain='complex',  latex_name =r'\\tilde{\\Delta }_E')\n",
    "var('Det',domain='complex',  latex_name =r'\\tilde{\\Delta }_e')\n",
    "var('DEg',domain='positive',  latex_name =r'\\Delta_{E\\gamma}')\n",
    "var('Deg',domain='positive',  latex_name =r'\\Delta_{e\\gamma}')\n",
    "var('kappa_c','kappa_b',domain='positive')\n",
    "var('C',domain='positive')\n",
    "var('c_k',domain='positive',  latex_name =r'c_\\kappa')\n",
    "\n",
    "eff_hamiltonian_tayl = sg.copy( s1.eff_hamiltonian.parent().zero())\n",
    "for diag in s1.pos_gs:\n",
    "    print(f'Calculating {diag} out of {s1.pos_gs}...')\n",
    "    #Take only one of the compl conj terms. Switch maybe second 0 to 1\n",
    "    min_expr_len = 10**10\n",
    "    for term in range(1):\n",
    "        b = s1.eff_hamiltonian[diag,diag]\n",
    "\n",
    "        b = b.operands()[1].operands()[term]\n",
    "        #b = b.subs(DE=+0.5*I*gamma_f + 0.5*I*gamma_g + DEt*gamma)\n",
    "        #b = b.subs(De=+0.5*I*gamma   +Det*gamma)\n",
    "        b = b.subs(DE=DEg*gamma*C^n)\n",
    "        b = b.subs(De=Deg*gamma*C^m)\n",
    "        \n",
    "        var('R_f',domain='positive')#ratio  (g_f/g)^2\n",
    "        b = b.subs(g_f=g*sqrt(R_f))\n",
    "\n",
    "        var('R_v',domain='positive',  latex_name =r'R_{\\nu}') #ratio (v/g)^2\n",
    "        b = b.subs(v=g*sqrt(R_v))\n",
    "\n",
    "        var('r_b',domain='positive')\n",
    "        b = b.subs(kappa_b=gamma/r_b)\n",
    "        \n",
    "        var('r_f',domain='positive',latex_name =r'r_f')\n",
    "        b = b.subs(gamma_f=gamma*r_f)\n",
    "        \n",
    "        var('r_g',domain='positive',latex_name =r'r_g')\n",
    "        b = b.subs(gamma_g=gamma*r_g)\n",
    "        \n",
    "        b = b.subs(g = sqrt(C*gamma*kappa_c)) \n",
    "        b = b.subs(r_b = c_k/C)\n",
    "\n",
    "        b = b*gamma  #Omega has to be substituted with Omega/gamma\n",
    "\n",
    "\n",
    "        b = b._mathematica_().Factor()._sage_()\n",
    "        b = MMA_simplify(b)#,full=True)\n",
    "        #holds the smallest expression\n",
    "        if len(str(b))<min_expr_len:\n",
    "            min_expr_len = len(str(b))\n",
    "            h_eff = b\n",
    "  \n",
    "    q = h_eff.subs(C=1/x)\n",
    "    q = MMA_simplify(q)\n",
    "    tayl = q._mathematica_().Series((x,0,1)).Normal()._sage_()\n",
    "    tayl = tayl.subs(x=1/C)\n",
    "    \n",
    "    #tayl =  (tayl + conjugate(tayl))/2      # try with + conjugate_transp\n",
    "\n",
    "    #taylr = taylr.expand()\n",
    "    #tayl = MMA_simplify(tayl,full=True)\n",
    "    eff_hamiltonian_tayl[diag,diag] = Omega^2/gamma * tayl\n",
    "\n",
    "print('\\nReal part of H_eff in ground state subspace taylor expanded in 1/C: ')\n",
    "show(symround(eff_hamiltonian_tayl[s1.pos_gs,s1.pos_gs],digits=4))\n",
    "\n",
    "eff_hamiltonian_tayl = (eff_hamiltonian_tayl[s1.pos_gs,s1.pos_gs] + conjugate(eff_hamiltonian_tayl[s1.pos_gs,s1.pos_gs]))/2"
   ]
  },
  {
   "cell_type": "markdown",
   "id": "3c69018c",
   "metadata": {},
   "source": [
    "# CZ gate time"
   ]
  },
  {
   "cell_type": "code",
   "execution_count": 11,
   "id": "d737471d",
   "metadata": {},
   "outputs": [],
   "source": [
    "#l_0-l_1-l_2+l_3\n",
    "denom = eff_hamiltonian_tayl[0,0]+eff_hamiltonian_tayl[3,3]-eff_hamiltonian_tayl[1,1]-eff_hamiltonian_tayl[2,2]\n",
    "\n",
    "t_g = np.pi/denom\n",
    "t_g = MMA_simplify(t_g,full=False) #not full if too slow\n",
    "t_g = SR(str(t_g).replace('Sqrt','sqrt')).simplify()"
   ]
  },
  {
   "cell_type": "code",
   "execution_count": 12,
   "id": "efd4ff7b",
   "metadata": {},
   "outputs": [
    {
     "name": "stdout",
     "output_type": "stream",
     "text": [
      "symround: Deleted coefficient 2.2e-16\n",
      "symround: Deleted coefficient 1.1e-16\n",
      "symround: Deleted coefficient 2.8e-17\n",
      "symround: Deleted coefficient 1.7e-18\n"
     ]
    },
    {
     "data": {
      "text/html": [
       "<html><script type=\"math/tex; mode=display\">\\newcommand{\\Bold}[1]{\\mathbf{#1}}-\\frac{6.3 \\, {\\left({R_{\\nu}} {c_\\kappa} + 0.25\\right)}^{2} {\\left({R_{\\nu}} {c_\\kappa} + 0.12\\right)}^{2} C^{1.5} R_{f}^{2} {\\gamma}}{{\\left({\\left(5 \\, {R_{\\nu}}^{6} {c_\\kappa}^{6} + 7 \\, {R_{\\nu}}^{5} {c_\\kappa}^{5} + 4.1 \\, {R_{\\nu}}^{4} {c_\\kappa}^{4} + 1.2 \\, {R_{\\nu}}^{3} {c_\\kappa}^{3} + 0.20 \\, {R_{\\nu}}^{2} {c_\\kappa}^{2} + 0.016 \\, {R_{\\nu}} {c_\\kappa} + 0.00049\\right)} {\\Delta_{E\\gamma}} + {\\left(\\frac{5 \\, {\\Delta_{E\\gamma}} {R_{\\nu}}^{6} {c_\\kappa}^{6}}{\\sqrt{C}} + \\frac{7 \\, {\\Delta_{E\\gamma}} {R_{\\nu}}^{5} {c_\\kappa}^{5}}{\\sqrt{C}} + \\frac{4.1 \\, {\\Delta_{E\\gamma}} {R_{\\nu}}^{4} {c_\\kappa}^{4}}{\\sqrt{C}} + \\frac{1.2 \\, {\\Delta_{E\\gamma}} {R_{\\nu}}^{3} {c_\\kappa}^{3}}{\\sqrt{C}} + \\frac{0.20 \\, {\\Delta_{E\\gamma}} {R_{\\nu}}^{2} {c_\\kappa}^{2}}{\\sqrt{C}} + \\frac{0.016 \\, {\\Delta_{E\\gamma}} {R_{\\nu}} {c_\\kappa}}{\\sqrt{C}} + \\frac{0.00049 \\, {\\Delta_{E\\gamma}}}{\\sqrt{C}}\\right)} \\sqrt{C}\\right)} {\\Omega}^{2}}</script></html>"
      ],
      "text/latex": [
       "$$\\newcommand{\\Bold}[1]{\\mathbf{#1}}-\\frac{6.3 \\, {\\left({R_{\\nu}} {c_\\kappa} + 0.25\\right)}^{2} {\\left({R_{\\nu}} {c_\\kappa} + 0.12\\right)}^{2} C^{1.5} R_{f}^{2} {\\gamma}}{{\\left({\\left(5 \\, {R_{\\nu}}^{6} {c_\\kappa}^{6} + 7 \\, {R_{\\nu}}^{5} {c_\\kappa}^{5} + 4.1 \\, {R_{\\nu}}^{4} {c_\\kappa}^{4} + 1.2 \\, {R_{\\nu}}^{3} {c_\\kappa}^{3} + 0.20 \\, {R_{\\nu}}^{2} {c_\\kappa}^{2} + 0.016 \\, {R_{\\nu}} {c_\\kappa} + 0.00049\\right)} {\\Delta_{E\\gamma}} + {\\left(\\frac{5 \\, {\\Delta_{E\\gamma}} {R_{\\nu}}^{6} {c_\\kappa}^{6}}{\\sqrt{C}} + \\frac{7 \\, {\\Delta_{E\\gamma}} {R_{\\nu}}^{5} {c_\\kappa}^{5}}{\\sqrt{C}} + \\frac{4.1 \\, {\\Delta_{E\\gamma}} {R_{\\nu}}^{4} {c_\\kappa}^{4}}{\\sqrt{C}} + \\frac{1.2 \\, {\\Delta_{E\\gamma}} {R_{\\nu}}^{3} {c_\\kappa}^{3}}{\\sqrt{C}} + \\frac{0.20 \\, {\\Delta_{E\\gamma}} {R_{\\nu}}^{2} {c_\\kappa}^{2}}{\\sqrt{C}} + \\frac{0.016 \\, {\\Delta_{E\\gamma}} {R_{\\nu}} {c_\\kappa}}{\\sqrt{C}} + \\frac{0.00049 \\, {\\Delta_{E\\gamma}}}{\\sqrt{C}}\\right)} \\sqrt{C}\\right)} {\\Omega}^{2}}$$"
      ],
      "text/plain": [
       "-6.3*(R_v*c_k + 0.25)^2*(R_v*c_k + 0.12)^2*C^1.5*R_f^2*gamma/(((5*R_v^6*c_k^6 + 7*R_v^5*c_k^5 + 4.1*R_v^4*c_k^4 + 1.2*R_v^3*c_k^3 + 0.20*R_v^2*c_k^2 + 0.016*R_v*c_k + 0.00049)*DEg + (5*DEg*R_v^6*c_k^6/sqrt(C) + 7*DEg*R_v^5*c_k^5/sqrt(C) + 4.1*DEg*R_v^4*c_k^4/sqrt(C) + 1.2*DEg*R_v^3*c_k^3/sqrt(C) + 0.20*DEg*R_v^2*c_k^2/sqrt(C) + 0.016*DEg*R_v*c_k/sqrt(C) + 0.00049*DEg/sqrt(C))*sqrt(C))*Omega^2)"
      ]
     },
     "metadata": {},
     "output_type": "display_data"
    }
   ],
   "source": [
    "show(symround((t_g)))"
   ]
  },
  {
   "cell_type": "markdown",
   "id": "1498df0a",
   "metadata": {},
   "source": [
    "# Lindblau Operators\n",
    "\n",
    "Choose which of the Lindblau operators to view and which non zero element of it"
   ]
  },
  {
   "cell_type": "code",
   "execution_count": 13,
   "id": "847371b4",
   "metadata": {
    "scrolled": true
   },
   "outputs": [
    {
     "name": "stdout",
     "output_type": "stream",
     "text": [
      "0 out of 8\n",
      "symround: Deleted coefficient -5.1e-16\n",
      "symround: Deleted coefficient 1.4e-14\n",
      "symround: Deleted coefficient 9.8e-15\n",
      "symround: Deleted coefficient -8.9e-16\n",
      "symround: Deleted coefficient 6.2e-15\n",
      "symround: Deleted coefficient 1.1e-14\n",
      "symround: Deleted coefficient 8.9e-15\n",
      "symround: Deleted coefficient 6.7e-16\n",
      "symround: Deleted coefficient 6.2e-15\n",
      "symround: Deleted coefficient 1.1e-14\n",
      "symround: Deleted coefficient 8.9e-15\n",
      "symround: Deleted coefficient 6.7e-16\n",
      "1 out of 8\n",
      "2 out of 8\n",
      "3 out of 8\n",
      "4 out of 8\n",
      "symround: Deleted coefficient -8.9e-16\n",
      "symround: Deleted coefficient -8.9e-16\n",
      "symround: Deleted coefficient -2.2e-16\n",
      "symround: Deleted coefficient 6.2e-15\n",
      "symround: Deleted coefficient 7.1e-15\n",
      "symround: Deleted coefficient 4.4e-15\n",
      "symround: Deleted coefficient -8.9e-16\n",
      "symround: Deleted coefficient -1.1e-15\n",
      "symround: Deleted coefficient -1.1e-16\n",
      "symround: Deleted coefficient -8.9e-16\n",
      "symround: Deleted coefficient -1.1e-15\n",
      "symround: Deleted coefficient -1.1e-16\n",
      "5 out of 8\n",
      "symround: Deleted coefficient 6.2e-16\n",
      "symround: Deleted coefficient 2.4e-15\n",
      "symround: Deleted coefficient 1.2e-15\n",
      "symround: Deleted coefficient 3.1e-15\n",
      "symround: Deleted coefficient 1.8e-15\n",
      "symround: Deleted coefficient 3.3e-16\n",
      "symround: Deleted coefficient 3.1e-15\n",
      "symround: Deleted coefficient 1.8e-15\n",
      "symround: Deleted coefficient 3.3e-16\n",
      "6 out of 8\n",
      "7 out of 8\n",
      "8 out of 8\n"
     ]
    }
   ],
   "source": [
    "lind_op_number = len(s1.lindblau_list)\n",
    "\n",
    "eff_lind_taylor = []\n",
    "eff_lind = []\n",
    "eff_lind_coeff = []\n",
    "for lind_op in range(lind_op_number):\n",
    "    print(f'{lind_op} out of {lind_op_number-1}')\n",
    "    eff_lind_taylor.append([])\n",
    "    eff_lind.append([])\n",
    "    L_matrix = s1.eff_lindblau_list[lind_op]\n",
    "    L_nonzeros = []\n",
    "    L_nonzeros_pos = []\n",
    "    for i in  range(L_matrix.nrows()):\n",
    "        for j in  range(L_matrix.ncols()):\n",
    "            if not L_matrix[i,j].is_zero():\n",
    "                L_nonzeros.append(L_matrix[i,j])\n",
    "                L_nonzeros_pos.append((i,j))\n",
    "    eff_lind_coeff.append(s1.L_coeffs[lind_op])\n",
    "    for which in range(len(L_nonzeros)):\n",
    "\n",
    "        L_elem = L_nonzeros[which]\n",
    "\n",
    "        #L_elem = L_elem.subs(DE=+0.5*I*gamma_f + 0.5*I*gamma_g + DEt*gamma)\n",
    "        #L_elem = L_elem.subs(De=+0.5*I*gamma   +Det*gamma)\n",
    "        L_elem = L_elem.subs(DE=DEg*gamma*C^n)\n",
    "        L_elem = L_elem.subs(De=Deg*gamma*C^m)\n",
    "        #COUPLINGS\n",
    "\n",
    "        L_elem = L_elem.subs(g_f=g*sqrt(R_f))\n",
    "\n",
    "        L_elem = L_elem.subs(v=g*sqrt(R_v))\n",
    "\n",
    "        #ABSORBTIONS\n",
    "        L_elem = L_elem.subs(kappa_b=gamma/r_b)\n",
    "\n",
    "        L_elem = L_elem.subs(gamma_g=gamma*r_g)\n",
    "\n",
    "        L_elem = L_elem.subs(gamma_f=gamma*r_f)\n",
    "\n",
    "        L_elem = L_elem.subs(g = sqrt(C*gamma*kappa_c)) \n",
    "        L_elem = L_elem.subs(r_b = c_k/C)\n",
    "        \n",
    "        L_elem = L_elem._mathematica_().Factor()._sage_()\n",
    "\n",
    "\n",
    "        L_elem = MMA_simplify(L_elem)#,full=True)\n",
    "\n",
    "        L_elem = SR(str(L_elem).replace('Sqrt','sqrt'))\n",
    "        \n",
    "        L_elem_show = symround(L_elem)\n",
    "        \n",
    "        eff_lind[lind_op].append(L_elem_show)\n",
    "        \n",
    "        var('x')\n",
    "        q = L_elem.subs(C=1/x)\n",
    "        q = MMA_simplify(q)\n",
    "        tayl = q._mathematica_().Series((x,0,1)).Normal()._sage_()\n",
    "        tayl = tayl.subs(x=1/C)\n",
    "        tayl = SR(str(tayl).replace('Sqrt','sqrt'))\n",
    "        tayl_show = symround(tayl)\n",
    "        \n",
    "        eff_lind_taylor[-1].append(tayl_show)"
   ]
  },
  {
   "cell_type": "markdown",
   "id": "f1ddbf1c",
   "metadata": {},
   "source": [
    "# See results"
   ]
  },
  {
   "cell_type": "code",
   "execution_count": null,
   "id": "abd5a8d7",
   "metadata": {},
   "outputs": [],
   "source": [
    "#show((eff_lind_taylor[2][3]))"
   ]
  },
  {
   "cell_type": "code",
   "execution_count": null,
   "id": "a02f7505",
   "metadata": {},
   "outputs": [],
   "source": [
    "#show(eff_lind[0][3])"
   ]
  },
  {
   "cell_type": "code",
   "execution_count": 14,
   "id": "bc6f635a",
   "metadata": {},
   "outputs": [
    {
     "name": "stdout",
     "output_type": "stream",
     "text": [
      "symround: Deleted coefficient 2.2e-17\n",
      "symround: Deleted coefficient 1.1e-17\n",
      "symround: Deleted coefficient 2.8e-18\n",
      "symround: Deleted coefficient 1.7e-19\n"
     ]
    },
    {
     "data": {
      "text/html": [
       "<html><script type=\"math/tex; mode=display\">\\newcommand{\\Bold}[1]{\\mathbf{#1}}\\frac{{\\left({\\left({R_{\\nu}}^{3.5} {c_\\kappa}^{3} + 0.88 \\, {R_{\\nu}}^{2.5} {c_\\kappa}^{2} + 0.16 \\, {R_{\\nu}}^{1.5} {c_\\kappa} + 0.0078 \\, \\sqrt{{R_{\\nu}}}\\right)} \\sqrt{C} R_{f}^{1.5} + {\\left(-1.5i \\, {R_{\\nu}}^{3.5} {c_\\kappa}^{3} - 0.69i \\, {R_{\\nu}}^{2.5} {c_\\kappa}^{2} - 0.094i \\, {R_{\\nu}}^{1.5} {c_\\kappa} - 0.0039i \\, \\sqrt{{R_{\\nu}}}\\right)} {\\Delta_{E\\gamma}} \\sqrt{R_{f}}\\right)} {\\left(-0.62 \\, {\\left({R_{\\nu}}^{3.5} {c_\\kappa}^{3} + 0.88 \\, {R_{\\nu}}^{2.5} {c_\\kappa}^{2} + 0.16 \\, {R_{\\nu}}^{1.5} {c_\\kappa} + 0.0078 \\, \\sqrt{{R_{\\nu}}}\\right)} \\sqrt{C} R_{f}^{1.5} - 0.62 \\, {\\left(1.5i \\, {R_{\\nu}}^{3.5} {c_\\kappa}^{3} + 0.69i \\, {R_{\\nu}}^{2.5} {c_\\kappa}^{2} + 0.094i \\, {R_{\\nu}}^{1.5} {c_\\kappa} + 0.0039i \\, \\sqrt{{R_{\\nu}}}\\right)} {\\Delta_{E\\gamma}} \\sqrt{R_{f}}\\right)} {\\left({R_{\\nu}} {c_\\kappa} + 0.25\\right)}^{2} {\\left({R_{\\nu}} {c_\\kappa} + 0.12\\right)}^{2} {c_\\kappa}}{{\\left({\\Delta_{E\\gamma}} {R_{\\nu}}^{6} {c_\\kappa}^{6} + 1.4 \\, {\\Delta_{E\\gamma}} {R_{\\nu}}^{5} {c_\\kappa}^{5} + 0.81 \\, {\\Delta_{E\\gamma}} {R_{\\nu}}^{4} {c_\\kappa}^{4} + 0.24 \\, {\\Delta_{E\\gamma}} {R_{\\nu}}^{3} {c_\\kappa}^{3} + 0.039 \\, {\\Delta_{E\\gamma}} {R_{\\nu}}^{2} {c_\\kappa}^{2} + 0.0031 \\, {\\Delta_{E\\gamma}} {R_{\\nu}} {c_\\kappa} + 0.000097 \\, {\\Delta_{E\\gamma}}\\right)} {\\left({R_{\\nu}}^{2} {c_\\kappa}^{2} + 0.75 \\, {R_{\\nu}} {c_\\kappa} + 0.062\\right)}^{4} \\sqrt{C} R_{f}^{2}}</script></html>"
      ],
      "text/latex": [
       "$$\\newcommand{\\Bold}[1]{\\mathbf{#1}}\\frac{{\\left({\\left({R_{\\nu}}^{3.5} {c_\\kappa}^{3} + 0.88 \\, {R_{\\nu}}^{2.5} {c_\\kappa}^{2} + 0.16 \\, {R_{\\nu}}^{1.5} {c_\\kappa} + 0.0078 \\, \\sqrt{{R_{\\nu}}}\\right)} \\sqrt{C} R_{f}^{1.5} + {\\left(-1.5i \\, {R_{\\nu}}^{3.5} {c_\\kappa}^{3} - 0.69i \\, {R_{\\nu}}^{2.5} {c_\\kappa}^{2} - 0.094i \\, {R_{\\nu}}^{1.5} {c_\\kappa} - 0.0039i \\, \\sqrt{{R_{\\nu}}}\\right)} {\\Delta_{E\\gamma}} \\sqrt{R_{f}}\\right)} {\\left(-0.62 \\, {\\left({R_{\\nu}}^{3.5} {c_\\kappa}^{3} + 0.88 \\, {R_{\\nu}}^{2.5} {c_\\kappa}^{2} + 0.16 \\, {R_{\\nu}}^{1.5} {c_\\kappa} + 0.0078 \\, \\sqrt{{R_{\\nu}}}\\right)} \\sqrt{C} R_{f}^{1.5} - 0.62 \\, {\\left(1.5i \\, {R_{\\nu}}^{3.5} {c_\\kappa}^{3} + 0.69i \\, {R_{\\nu}}^{2.5} {c_\\kappa}^{2} + 0.094i \\, {R_{\\nu}}^{1.5} {c_\\kappa} + 0.0039i \\, \\sqrt{{R_{\\nu}}}\\right)} {\\Delta_{E\\gamma}} \\sqrt{R_{f}}\\right)} {\\left({R_{\\nu}} {c_\\kappa} + 0.25\\right)}^{2} {\\left({R_{\\nu}} {c_\\kappa} + 0.12\\right)}^{2} {c_\\kappa}}{{\\left({\\Delta_{E\\gamma}} {R_{\\nu}}^{6} {c_\\kappa}^{6} + 1.4 \\, {\\Delta_{E\\gamma}} {R_{\\nu}}^{5} {c_\\kappa}^{5} + 0.81 \\, {\\Delta_{E\\gamma}} {R_{\\nu}}^{4} {c_\\kappa}^{4} + 0.24 \\, {\\Delta_{E\\gamma}} {R_{\\nu}}^{3} {c_\\kappa}^{3} + 0.039 \\, {\\Delta_{E\\gamma}} {R_{\\nu}}^{2} {c_\\kappa}^{2} + 0.0031 \\, {\\Delta_{E\\gamma}} {R_{\\nu}} {c_\\kappa} + 0.000097 \\, {\\Delta_{E\\gamma}}\\right)} {\\left({R_{\\nu}}^{2} {c_\\kappa}^{2} + 0.75 \\, {R_{\\nu}} {c_\\kappa} + 0.062\\right)}^{4} \\sqrt{C} R_{f}^{2}}$$"
      ],
      "text/plain": [
       "((R_v^3.5*c_k^3 + 0.88*R_v^2.5*c_k^2 + 0.16*R_v^1.5*c_k + 0.0078*sqrt(R_v))*sqrt(C)*R_f^1.5 + (-1.5*I*R_v^3.5*c_k^3 - 0.69*I*R_v^2.5*c_k^2 - 0.094*I*R_v^1.5*c_k - 0.0039*I*sqrt(R_v))*DEg*sqrt(R_f))*(-0.62*(R_v^3.5*c_k^3 + 0.88*R_v^2.5*c_k^2 + 0.16*R_v^1.5*c_k + 0.0078*sqrt(R_v))*sqrt(C)*R_f^1.5 - 0.62*(1.5*I*R_v^3.5*c_k^3 + 0.69*I*R_v^2.5*c_k^2 + 0.094*I*R_v^1.5*c_k + 0.0039*I*sqrt(R_v))*DEg*sqrt(R_f))*(R_v*c_k + 0.25)^2*(R_v*c_k + 0.12)^2*c_k/((DEg*R_v^6*c_k^6 + 1.4*DEg*R_v^5*c_k^5 + 0.81*DEg*R_v^4*c_k^4 + 0.24*DEg*R_v^3*c_k^3 + 0.039*DEg*R_v^2*c_k^2 + 0.0031*DEg*R_v*c_k + 0.000097*DEg)*(R_v^2*c_k^2 + 0.75*R_v*c_k + 0.062)^4*sqrt(C)*R_f^2)"
      ]
     },
     "metadata": {},
     "output_type": "display_data"
    },
    {
     "name": "stdout",
     "output_type": "stream",
     "text": [
      "coeff:\n"
     ]
    },
    {
     "data": {
      "text/html": [
       "<html><script type=\"math/tex; mode=display\">\\newcommand{\\Bold}[1]{\\mathbf{#1}}\\sqrt{{\\kappa_b}}</script></html>"
      ],
      "text/latex": [
       "$$\\newcommand{\\Bold}[1]{\\mathbf{#1}}\\sqrt{{\\kappa_b}}$$"
      ],
      "text/plain": [
       "sqrt(kappa_b)"
      ]
     },
     "metadata": {},
     "output_type": "display_data"
    }
   ],
   "source": [
    "lindop = 3\n",
    "a = eff_lind_taylor[lindop][0]\n",
    "err = t_g*a*conjugate(a)\n",
    "err = SR(str(MMA_simplify( err,full=False )).replace('Sqrt','sqrt')).simplify()\n",
    "show( symround( err ) )\n",
    "print(f'coeff:')\n",
    "show(eff_lind_coeff[lindop])"
   ]
  },
  {
   "cell_type": "code",
   "execution_count": null,
   "id": "eb7c7159",
   "metadata": {},
   "outputs": [],
   "source": []
  }
 ],
 "metadata": {
  "kernelspec": {
   "display_name": "SageMath 9.3",
   "language": "sage",
   "name": "sagemath"
  },
  "language_info": {
   "codemirror_mode": {
    "name": "ipython",
    "version": 3
   },
   "file_extension": ".py",
   "mimetype": "text/x-python",
   "name": "python",
   "nbconvert_exporter": "python",
   "pygments_lexer": "ipython3",
   "version": "3.9.2"
  }
 },
 "nbformat": 4,
 "nbformat_minor": 5
}
