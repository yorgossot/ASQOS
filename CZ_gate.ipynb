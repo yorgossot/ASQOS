{
 "cells": [
  {
   "cell_type": "markdown",
   "id": "11ebbd1c",
   "metadata": {},
   "source": [
    "# CZ gate  "
   ]
  },
  {
   "cell_type": "code",
   "execution_count": 1,
   "id": "a43f3bbd",
   "metadata": {
    "scrolled": false
   },
   "outputs": [
    {
     "name": "stdout",
     "output_type": "stream",
     "text": [
      "Initializing system o-x-o  ...\n",
      "Constructing states and excitations...\n",
      "Constructing ground and first-excited statespace...\n",
      "Constructing gs_hamiltonian ...\n",
      "Constructing e1_hamiltonian ...\n",
      "Constructing interactions V_plus and V_minus ...\n",
      "Constructing NJ_hamiltonian  ...\n",
      "Inverting NJ_hamiltonian  ...\n",
      "Constructing eff_hamiltonian and effective lindblau operators ...\n",
      "\n",
      "System  o-x-o  initialized in 18.8 seconds.\n"
     ]
    }
   ],
   "source": [
    "from system import *\n",
    "s1 = system('o-x-o',MMA=True)"
   ]
  },
  {
   "cell_type": "markdown",
   "id": "9d56099a",
   "metadata": {},
   "source": [
    "# $\\Delta_{E\\gamma} = \\ \\dfrac{\\Delta_E}{\\gamma}\\, C^n \\qquad \\Delta_{e\\gamma} = \\ \\dfrac{\\Delta_e}{\\gamma}\\, C^m$"
   ]
  },
  {
   "cell_type": "code",
   "execution_count": 10,
   "id": "2c69c1d2",
   "metadata": {},
   "outputs": [],
   "source": [
    "n = 1/2\n",
    "m = 1/2"
   ]
  },
  {
   "cell_type": "markdown",
   "id": "20c87d69",
   "metadata": {},
   "source": [
    "# Effective Hamiltonian Matrix obtain in $C \\longrightarrow \\infty$ limit"
   ]
  },
  {
   "cell_type": "code",
   "execution_count": 11,
   "id": "6398d4bb",
   "metadata": {
    "scrolled": true
   },
   "outputs": [
    {
     "name": "stdout",
     "output_type": "stream",
     "text": [
      "Calculating 0 out of [0, 1, 16, 17]...\n",
      "Calculating 1 out of [0, 1, 16, 17]...\n",
      "Calculating 16 out of [0, 1, 16, 17]...\n",
      "Calculating 17 out of [0, 1, 16, 17]...\n",
      "\n",
      "Real part of H_eff in ground state subspace taylor expanded in 1/C: \n"
     ]
    },
    {
     "data": {
      "text/html": [
       "<html><script type=\"math/tex; mode=display\">\\newcommand{\\Bold}[1]{\\mathbf{#1}}\\left(\\begin{array}{rrrr}\n",
       "\\frac{0.7500 \\, {\\left(-2 i \\, {R_{\\nu}}^{2} {c_\\kappa}^{2} - 0.6667i \\, {R_{\\nu}} {c_\\kappa} - 0.04167i\\right)} {\\Omega}^{2}}{{\\left({R_{\\nu}}^{2} {c_\\kappa}^{2} + 0.5000 \\, {R_{\\nu}} {c_\\kappa} + 0.06250\\right)} C R_{f} {\\gamma}} & 0 & 0 & 0 \\\\\n",
       "0 & -\\frac{2 i \\, {\\left({R_{\\nu}}^{2} {c_\\kappa}^{2} + 0.7500 \\, {R_{\\nu}} {c_\\kappa} + 0.06250\\right)} {\\Omega}^{2}}{{\\left({R_{\\nu}} {c_\\kappa} + 0.2500\\right)} C R_{f} {\\gamma}} & 0 & 0 \\\\\n",
       "0 & 0 & -\\frac{2 i \\, {\\left({R_{\\nu}}^{2} {c_\\kappa}^{2} + 0.7500 \\, {R_{\\nu}} {c_\\kappa} + 0.06250\\right)} {\\Omega}^{2}}{{\\left({R_{\\nu}} {c_\\kappa} + 0.2500\\right)} C R_{f} {\\gamma}} & 0 \\\\\n",
       "0 & 0 & 0 & \\frac{4 i \\, {\\left({R_{\\nu}} {c_\\kappa} + 0.1250\\right)} {\\Omega}^{2}}{C R_{f} {\\gamma}}\n",
       "\\end{array}\\right)</script></html>"
      ],
      "text/latex": [
       "$$\\newcommand{\\Bold}[1]{\\mathbf{#1}}\\left(\\begin{array}{rrrr}\n",
       "\\frac{0.7500 \\, {\\left(-2 i \\, {R_{\\nu}}^{2} {c_\\kappa}^{2} - 0.6667i \\, {R_{\\nu}} {c_\\kappa} - 0.04167i\\right)} {\\Omega}^{2}}{{\\left({R_{\\nu}}^{2} {c_\\kappa}^{2} + 0.5000 \\, {R_{\\nu}} {c_\\kappa} + 0.06250\\right)} C R_{f} {\\gamma}} & 0 & 0 & 0 \\\\\n",
       "0 & -\\frac{2 i \\, {\\left({R_{\\nu}}^{2} {c_\\kappa}^{2} + 0.7500 \\, {R_{\\nu}} {c_\\kappa} + 0.06250\\right)} {\\Omega}^{2}}{{\\left({R_{\\nu}} {c_\\kappa} + 0.2500\\right)} C R_{f} {\\gamma}} & 0 & 0 \\\\\n",
       "0 & 0 & -\\frac{2 i \\, {\\left({R_{\\nu}}^{2} {c_\\kappa}^{2} + 0.7500 \\, {R_{\\nu}} {c_\\kappa} + 0.06250\\right)} {\\Omega}^{2}}{{\\left({R_{\\nu}} {c_\\kappa} + 0.2500\\right)} C R_{f} {\\gamma}} & 0 \\\\\n",
       "0 & 0 & 0 & \\frac{4 i \\, {\\left({R_{\\nu}} {c_\\kappa} + 0.1250\\right)} {\\Omega}^{2}}{C R_{f} {\\gamma}}\n",
       "\\end{array}\\right)$$"
      ],
      "text/plain": [
       "[0.7500*(-2*I*R_v^2*c_k^2 - 0.6667*I*R_v*c_k - 0.04167*I)*Omega^2/((R_v^2*c_k^2 + 0.5000*R_v*c_k + 0.06250)*C*R_f*gamma)                                                                                                                       0                                                                                                                       0                                                                                                                       0]\n",
       "[                                                                                                                      0                                  -2*I*(R_v^2*c_k^2 + 0.7500*R_v*c_k + 0.06250)*Omega^2/((R_v*c_k + 0.2500)*C*R_f*gamma)                                                                                                                       0                                                                                                                       0]\n",
       "[                                                                                                                      0                                                                                                                       0                                  -2*I*(R_v^2*c_k^2 + 0.7500*R_v*c_k + 0.06250)*Omega^2/((R_v*c_k + 0.2500)*C*R_f*gamma)                                                                                                                       0]\n",
       "[                                                                                                                      0                                                                                                                       0                                                                                                                       0                                                                            4*I*(R_v*c_k + 0.1250)*Omega^2/(C*R_f*gamma)]"
      ]
     },
     "metadata": {},
     "output_type": "display_data"
    }
   ],
   "source": [
    "var('gamma','DE','De','g','g_f','Omega','v','gamma_f','gamma_g',domain='positive')\n",
    "var('DEt',domain='complex',  latex_name =r'\\tilde{\\Delta }_E')\n",
    "var('Det',domain='complex',  latex_name =r'\\tilde{\\Delta }_e')\n",
    "var('DEg',domain='positive',  latex_name =r'\\Delta_{E\\gamma}')\n",
    "var('Deg',domain='positive',  latex_name =r'\\Delta_{e\\gamma}')\n",
    "var('kappa_c','kappa_b',domain='positive')\n",
    "var('C',domain='positive')\n",
    "var('c_k',domain='positive',  latex_name =r'c_\\kappa')\n",
    "\n",
    "eff_hamiltonian_tayl = sg.copy( s1.eff_hamiltonian.parent().zero())\n",
    "for diag in s1.pos_gs:\n",
    "    print(f'Calculating {diag} out of {s1.pos_gs}...')\n",
    "    #Take only one of the compl conj terms. Switch maybe second 0 to 1\n",
    "    min_expr_len = 10**10\n",
    "    for term in range(1):\n",
    "        b = s1.eff_hamiltonian[diag,diag]\n",
    "\n",
    "        b = b.operands()[1].operands()[term]\n",
    "        #b = b.subs(DE=+0.5*I*gamma_f + 0.5*I*gamma_g + DEt*gamma)\n",
    "        #b = b.subs(De=+0.5*I*gamma   +Det*gamma)\n",
    "        b = b.subs(DE=DEg*gamma*C^n)\n",
    "        b = b.subs(De=Deg*gamma*C^m)\n",
    "        \n",
    "        var('R_f',domain='positive')#ratio  (g_f/g)^2\n",
    "        b = b.subs(g_f=g*sqrt(R_f))\n",
    "\n",
    "        var('R_v',domain='positive',  latex_name =r'R_{\\nu}') #ratio (v/g)^2\n",
    "        b = b.subs(v=g*sqrt(R_v))\n",
    "\n",
    "        var('r_b',domain='positive')\n",
    "        b = b.subs(kappa_b=gamma/r_b)\n",
    "        \n",
    "        var('r_f',domain='positive',latex_name =r'r_f')\n",
    "        b = b.subs(gamma_f=gamma*r_f)\n",
    "        \n",
    "        var('r_g',domain='positive',latex_name =r'r_g')\n",
    "        b = b.subs(gamma_g=gamma*r_g)\n",
    "        \n",
    "        b = b.subs(g = sqrt(C*gamma*kappa_c)) \n",
    "        b = b.subs(r_b = c_k/C)\n",
    "\n",
    "        b = b*gamma  #Omega has to be substituted with Omega/gamma\n",
    "\n",
    "\n",
    "        b = b._mathematica_().Factor()._sage_()\n",
    "        b = MMA_simplify(b)#,full=True)\n",
    "        #holds the smallest expression\n",
    "        if len(str(b))<min_expr_len:\n",
    "            min_expr_len = len(str(b))\n",
    "            h_eff = b\n",
    "  \n",
    "    q = h_eff.subs(C=1/x)\n",
    "    q = MMA_simplify(q)\n",
    "    tayl = q._mathematica_().Series((x,0,1)).Normal()._sage_()\n",
    "    tayl = tayl.subs(x=1/C)\n",
    "    \n",
    "    #tayl =  (tayl + conjugate(tayl))/2      # try with + conjugate_transp\n",
    "\n",
    "    #taylr = taylr.expand()\n",
    "    #tayl = MMA_simplify(tayl,full=True)\n",
    "    eff_hamiltonian_tayl[diag,diag] = Omega^2/gamma * tayl\n",
    "\n",
    "print('\\nReal part of H_eff in ground state subspace taylor expanded in 1/C: ')\n",
    "show(symround(eff_hamiltonian_tayl[s1.pos_gs,s1.pos_gs],digits=4))\n",
    "\n",
    "eff_hamiltonian_tayl = (eff_hamiltonian_tayl[s1.pos_gs,s1.pos_gs] + conjugate(eff_hamiltonian_tayl[s1.pos_gs,s1.pos_gs]))/2"
   ]
  },
  {
   "cell_type": "markdown",
   "id": "3c69018c",
   "metadata": {},
   "source": [
    "# CZ gate time"
   ]
  },
  {
   "cell_type": "code",
   "execution_count": 12,
   "id": "d737471d",
   "metadata": {},
   "outputs": [
    {
     "ename": "TypeError",
     "evalue": "Error executing code in Mathematica\nCODE:\n\tsage5=Simplify[sage2];\nMathematica ERROR:\n\tSimplify::infd: Expression <<1>> simplified to ComplexInfinity.",
     "output_type": "error",
     "traceback": [
      "\u001b[0;31m---------------------------------------------------------------------------\u001b[0m",
      "\u001b[0;31mTypeError\u001b[0m                                 Traceback (most recent call last)",
      "\u001b[0;32m<ipython-input-12-a2f544ac5be1>\u001b[0m in \u001b[0;36m<module>\u001b[0;34m\u001b[0m\n\u001b[1;32m      3\u001b[0m \u001b[0;34m\u001b[0m\u001b[0m\n\u001b[1;32m      4\u001b[0m \u001b[0mt_g\u001b[0m \u001b[0;34m=\u001b[0m \u001b[0mnp\u001b[0m\u001b[0;34m.\u001b[0m\u001b[0mpi\u001b[0m\u001b[0;34m/\u001b[0m\u001b[0mdenom\u001b[0m\u001b[0;34m\u001b[0m\u001b[0;34m\u001b[0m\u001b[0m\n\u001b[0;32m----> 5\u001b[0;31m \u001b[0mt_g\u001b[0m \u001b[0;34m=\u001b[0m \u001b[0mMMA_simplify\u001b[0m\u001b[0;34m(\u001b[0m\u001b[0mt_g\u001b[0m\u001b[0;34m,\u001b[0m\u001b[0mfull\u001b[0m\u001b[0;34m=\u001b[0m\u001b[0;32mFalse\u001b[0m\u001b[0;34m)\u001b[0m \u001b[0;31m#not full if too slow\u001b[0m\u001b[0;34m\u001b[0m\u001b[0;34m\u001b[0m\u001b[0m\n\u001b[0m\u001b[1;32m      6\u001b[0m \u001b[0mt_g\u001b[0m \u001b[0;34m=\u001b[0m \u001b[0mSR\u001b[0m\u001b[0;34m(\u001b[0m\u001b[0mstr\u001b[0m\u001b[0;34m(\u001b[0m\u001b[0mt_g\u001b[0m\u001b[0;34m)\u001b[0m\u001b[0;34m.\u001b[0m\u001b[0mreplace\u001b[0m\u001b[0;34m(\u001b[0m\u001b[0;34m'Sqrt'\u001b[0m\u001b[0;34m,\u001b[0m\u001b[0;34m'sqrt'\u001b[0m\u001b[0;34m)\u001b[0m\u001b[0;34m)\u001b[0m\u001b[0;34m.\u001b[0m\u001b[0msimplify\u001b[0m\u001b[0;34m(\u001b[0m\u001b[0;34m)\u001b[0m\u001b[0;34m\u001b[0m\u001b[0;34m\u001b[0m\u001b[0m\n",
      "\u001b[0;32m~/Thesis/Code/Yorgos_Thesis/functions.py\u001b[0m in \u001b[0;36mMMA_simplify\u001b[0;34m(expr, full)\u001b[0m\n\u001b[1;32m     92\u001b[0m         \u001b[0mexpr_simpl_m\u001b[0m  \u001b[0;34m=\u001b[0m  \u001b[0mexpr\u001b[0m\u001b[0;34m.\u001b[0m\u001b[0m_mathematica_\u001b[0m\u001b[0;34m(\u001b[0m\u001b[0;34m)\u001b[0m\u001b[0;34m.\u001b[0m\u001b[0mFullSimplify\u001b[0m\u001b[0;34m(\u001b[0m\u001b[0;34m)\u001b[0m\u001b[0;34m\u001b[0m\u001b[0;34m\u001b[0m\u001b[0m\n\u001b[1;32m     93\u001b[0m     \u001b[0;32melse\u001b[0m\u001b[0;34m:\u001b[0m\u001b[0;34m\u001b[0m\u001b[0;34m\u001b[0m\u001b[0m\n\u001b[0;32m---> 94\u001b[0;31m         \u001b[0mexpr_simpl_m\u001b[0m  \u001b[0;34m=\u001b[0m  \u001b[0mexpr\u001b[0m\u001b[0;34m.\u001b[0m\u001b[0m_mathematica_\u001b[0m\u001b[0;34m(\u001b[0m\u001b[0;34m)\u001b[0m\u001b[0;34m.\u001b[0m\u001b[0mSimplify\u001b[0m\u001b[0;34m(\u001b[0m\u001b[0;34m)\u001b[0m\u001b[0;34m\u001b[0m\u001b[0;34m\u001b[0m\u001b[0m\n\u001b[0m\u001b[1;32m     95\u001b[0m \u001b[0;34m\u001b[0m\u001b[0m\n\u001b[1;32m     96\u001b[0m     \u001b[0mexpr_simpl_sg\u001b[0m \u001b[0;34m=\u001b[0m \u001b[0mexpr_simpl_m\u001b[0m\u001b[0;34m.\u001b[0m\u001b[0m_sage_\u001b[0m\u001b[0;34m(\u001b[0m\u001b[0;34m)\u001b[0m\u001b[0;34m\u001b[0m\u001b[0;34m\u001b[0m\u001b[0m\n",
      "\u001b[0;32m/opt/SageMath/SageMath/local/lib/python3.9/site-packages/sage/interfaces/interface.py\u001b[0m in \u001b[0;36m__call__\u001b[0;34m(self, *args, **kwds)\u001b[0m\n\u001b[1;32m    677\u001b[0m \u001b[0;34m\u001b[0m\u001b[0m\n\u001b[1;32m    678\u001b[0m     \u001b[0;32mdef\u001b[0m \u001b[0m__call__\u001b[0m\u001b[0;34m(\u001b[0m\u001b[0mself\u001b[0m\u001b[0;34m,\u001b[0m \u001b[0;34m*\u001b[0m\u001b[0margs\u001b[0m\u001b[0;34m,\u001b[0m \u001b[0;34m**\u001b[0m\u001b[0mkwds\u001b[0m\u001b[0;34m)\u001b[0m\u001b[0;34m:\u001b[0m\u001b[0;34m\u001b[0m\u001b[0;34m\u001b[0m\u001b[0m\n\u001b[0;32m--> 679\u001b[0;31m         \u001b[0;32mreturn\u001b[0m \u001b[0mself\u001b[0m\u001b[0;34m.\u001b[0m\u001b[0m_obj\u001b[0m\u001b[0;34m.\u001b[0m\u001b[0mparent\u001b[0m\u001b[0;34m(\u001b[0m\u001b[0;34m)\u001b[0m\u001b[0;34m.\u001b[0m\u001b[0mfunction_call\u001b[0m\u001b[0;34m(\u001b[0m\u001b[0mself\u001b[0m\u001b[0;34m.\u001b[0m\u001b[0m_name\u001b[0m\u001b[0;34m,\u001b[0m \u001b[0;34m[\u001b[0m\u001b[0mself\u001b[0m\u001b[0;34m.\u001b[0m\u001b[0m_obj\u001b[0m\u001b[0;34m]\u001b[0m \u001b[0;34m+\u001b[0m \u001b[0mlist\u001b[0m\u001b[0;34m(\u001b[0m\u001b[0margs\u001b[0m\u001b[0;34m)\u001b[0m\u001b[0;34m,\u001b[0m \u001b[0mkwds\u001b[0m\u001b[0;34m)\u001b[0m\u001b[0;34m\u001b[0m\u001b[0;34m\u001b[0m\u001b[0m\n\u001b[0m\u001b[1;32m    680\u001b[0m \u001b[0;34m\u001b[0m\u001b[0m\n\u001b[1;32m    681\u001b[0m     \u001b[0;32mdef\u001b[0m \u001b[0mhelp\u001b[0m\u001b[0;34m(\u001b[0m\u001b[0mself\u001b[0m\u001b[0;34m)\u001b[0m\u001b[0;34m:\u001b[0m\u001b[0;34m\u001b[0m\u001b[0;34m\u001b[0m\u001b[0m\n",
      "\u001b[0;32m/opt/SageMath/SageMath/local/lib/python3.9/site-packages/sage/interfaces/interface.py\u001b[0m in \u001b[0;36mfunction_call\u001b[0;34m(self, function, args, kwds)\u001b[0m\n\u001b[1;32m    598\u001b[0m                                        \u001b[0;34m[\u001b[0m\u001b[0ms\u001b[0m\u001b[0;34m.\u001b[0m\u001b[0mname\u001b[0m\u001b[0;34m(\u001b[0m\u001b[0;34m)\u001b[0m \u001b[0;32mfor\u001b[0m \u001b[0ms\u001b[0m \u001b[0;32min\u001b[0m \u001b[0margs\u001b[0m\u001b[0;34m]\u001b[0m\u001b[0;34m,\u001b[0m\u001b[0;34m\u001b[0m\u001b[0;34m\u001b[0m\u001b[0m\n\u001b[1;32m    599\u001b[0m                                        ['%s=%s'%(key,value.name()) for key, value in kwds.items()])\n\u001b[0;32m--> 600\u001b[0;31m         \u001b[0;32mreturn\u001b[0m \u001b[0mself\u001b[0m\u001b[0;34m.\u001b[0m\u001b[0mnew\u001b[0m\u001b[0;34m(\u001b[0m\u001b[0ms\u001b[0m\u001b[0;34m)\u001b[0m\u001b[0;34m\u001b[0m\u001b[0;34m\u001b[0m\u001b[0m\n\u001b[0m\u001b[1;32m    601\u001b[0m \u001b[0;34m\u001b[0m\u001b[0m\n\u001b[1;32m    602\u001b[0m     \u001b[0;32mdef\u001b[0m \u001b[0m_function_call_string\u001b[0m\u001b[0;34m(\u001b[0m\u001b[0mself\u001b[0m\u001b[0;34m,\u001b[0m \u001b[0mfunction\u001b[0m\u001b[0;34m,\u001b[0m \u001b[0margs\u001b[0m\u001b[0;34m,\u001b[0m \u001b[0mkwds\u001b[0m\u001b[0;34m)\u001b[0m\u001b[0;34m:\u001b[0m\u001b[0;34m\u001b[0m\u001b[0;34m\u001b[0m\u001b[0m\n",
      "\u001b[0;32m/opt/SageMath/SageMath/local/lib/python3.9/site-packages/sage/interfaces/interface.py\u001b[0m in \u001b[0;36mnew\u001b[0;34m(self, code)\u001b[0m\n\u001b[1;32m    367\u001b[0m \u001b[0;34m\u001b[0m\u001b[0m\n\u001b[1;32m    368\u001b[0m     \u001b[0;32mdef\u001b[0m \u001b[0mnew\u001b[0m\u001b[0;34m(\u001b[0m\u001b[0mself\u001b[0m\u001b[0;34m,\u001b[0m \u001b[0mcode\u001b[0m\u001b[0;34m)\u001b[0m\u001b[0;34m:\u001b[0m\u001b[0;34m\u001b[0m\u001b[0;34m\u001b[0m\u001b[0m\n\u001b[0;32m--> 369\u001b[0;31m         \u001b[0;32mreturn\u001b[0m \u001b[0mself\u001b[0m\u001b[0;34m(\u001b[0m\u001b[0mcode\u001b[0m\u001b[0;34m)\u001b[0m\u001b[0;34m\u001b[0m\u001b[0;34m\u001b[0m\u001b[0m\n\u001b[0m\u001b[1;32m    370\u001b[0m \u001b[0;34m\u001b[0m\u001b[0m\n\u001b[1;32m    371\u001b[0m     \u001b[0;31m###################################################################\u001b[0m\u001b[0;34m\u001b[0m\u001b[0;34m\u001b[0m\u001b[0;34m\u001b[0m\u001b[0m\n",
      "\u001b[0;32m/opt/SageMath/SageMath/local/lib/python3.9/site-packages/sage/interfaces/interface.py\u001b[0m in \u001b[0;36m__call__\u001b[0;34m(self, x, name)\u001b[0m\n\u001b[1;32m    293\u001b[0m \u001b[0;34m\u001b[0m\u001b[0m\n\u001b[1;32m    294\u001b[0m         \u001b[0;32mif\u001b[0m \u001b[0misinstance\u001b[0m\u001b[0;34m(\u001b[0m\u001b[0mx\u001b[0m\u001b[0;34m,\u001b[0m \u001b[0mstr\u001b[0m\u001b[0;34m)\u001b[0m\u001b[0;34m:\u001b[0m\u001b[0;34m\u001b[0m\u001b[0;34m\u001b[0m\u001b[0m\n\u001b[0;32m--> 295\u001b[0;31m             \u001b[0;32mreturn\u001b[0m \u001b[0mcls\u001b[0m\u001b[0;34m(\u001b[0m\u001b[0mself\u001b[0m\u001b[0;34m,\u001b[0m \u001b[0mx\u001b[0m\u001b[0;34m,\u001b[0m \u001b[0mname\u001b[0m\u001b[0;34m=\u001b[0m\u001b[0mname\u001b[0m\u001b[0;34m)\u001b[0m\u001b[0;34m\u001b[0m\u001b[0;34m\u001b[0m\u001b[0m\n\u001b[0m\u001b[1;32m    296\u001b[0m         \u001b[0;32mtry\u001b[0m\u001b[0;34m:\u001b[0m\u001b[0;34m\u001b[0m\u001b[0;34m\u001b[0m\u001b[0m\n\u001b[1;32m    297\u001b[0m             \u001b[0;31m# Special methods do not and should not have an option to\u001b[0m\u001b[0;34m\u001b[0m\u001b[0;34m\u001b[0m\u001b[0;34m\u001b[0m\u001b[0m\n",
      "\u001b[0;32m/opt/SageMath/SageMath/local/lib/python3.9/site-packages/sage/interfaces/expect.py\u001b[0m in \u001b[0;36m__init__\u001b[0;34m(self, parent, value, is_name, name)\u001b[0m\n\u001b[1;32m   1466\u001b[0m         \u001b[0;32melse\u001b[0m\u001b[0;34m:\u001b[0m\u001b[0;34m\u001b[0m\u001b[0;34m\u001b[0m\u001b[0m\n\u001b[1;32m   1467\u001b[0m             \u001b[0;32mtry\u001b[0m\u001b[0;34m:\u001b[0m\u001b[0;34m\u001b[0m\u001b[0;34m\u001b[0m\u001b[0m\n\u001b[0;32m-> 1468\u001b[0;31m                 \u001b[0mself\u001b[0m\u001b[0;34m.\u001b[0m\u001b[0m_name\u001b[0m \u001b[0;34m=\u001b[0m \u001b[0mparent\u001b[0m\u001b[0;34m.\u001b[0m\u001b[0m_create\u001b[0m\u001b[0;34m(\u001b[0m\u001b[0mvalue\u001b[0m\u001b[0;34m,\u001b[0m \u001b[0mname\u001b[0m\u001b[0;34m=\u001b[0m\u001b[0mname\u001b[0m\u001b[0;34m)\u001b[0m\u001b[0;34m\u001b[0m\u001b[0;34m\u001b[0m\u001b[0m\n\u001b[0m\u001b[1;32m   1469\u001b[0m             \u001b[0;31m# Convert ValueError and RuntimeError to TypeError for\u001b[0m\u001b[0;34m\u001b[0m\u001b[0;34m\u001b[0m\u001b[0;34m\u001b[0m\u001b[0m\n\u001b[1;32m   1470\u001b[0m             \u001b[0;31m# coercion to work properly.\u001b[0m\u001b[0;34m\u001b[0m\u001b[0;34m\u001b[0m\u001b[0;34m\u001b[0m\u001b[0m\n",
      "\u001b[0;32m/opt/SageMath/SageMath/local/lib/python3.9/site-packages/sage/interfaces/interface.py\u001b[0m in \u001b[0;36m_create\u001b[0;34m(self, value, name)\u001b[0m\n\u001b[1;32m    498\u001b[0m     \u001b[0;32mdef\u001b[0m \u001b[0m_create\u001b[0m\u001b[0;34m(\u001b[0m\u001b[0mself\u001b[0m\u001b[0;34m,\u001b[0m \u001b[0mvalue\u001b[0m\u001b[0;34m,\u001b[0m \u001b[0mname\u001b[0m\u001b[0;34m=\u001b[0m\u001b[0;32mNone\u001b[0m\u001b[0;34m)\u001b[0m\u001b[0;34m:\u001b[0m\u001b[0;34m\u001b[0m\u001b[0;34m\u001b[0m\u001b[0m\n\u001b[1;32m    499\u001b[0m         \u001b[0mname\u001b[0m \u001b[0;34m=\u001b[0m \u001b[0mself\u001b[0m\u001b[0;34m.\u001b[0m\u001b[0m_next_var_name\u001b[0m\u001b[0;34m(\u001b[0m\u001b[0;34m)\u001b[0m \u001b[0;32mif\u001b[0m \u001b[0mname\u001b[0m \u001b[0;32mis\u001b[0m \u001b[0;32mNone\u001b[0m \u001b[0;32melse\u001b[0m \u001b[0mname\u001b[0m\u001b[0;34m\u001b[0m\u001b[0;34m\u001b[0m\u001b[0m\n\u001b[0;32m--> 500\u001b[0;31m         \u001b[0mself\u001b[0m\u001b[0;34m.\u001b[0m\u001b[0mset\u001b[0m\u001b[0;34m(\u001b[0m\u001b[0mname\u001b[0m\u001b[0;34m,\u001b[0m \u001b[0mvalue\u001b[0m\u001b[0;34m)\u001b[0m\u001b[0;34m\u001b[0m\u001b[0;34m\u001b[0m\u001b[0m\n\u001b[0m\u001b[1;32m    501\u001b[0m         \u001b[0;32mreturn\u001b[0m \u001b[0mname\u001b[0m\u001b[0;34m\u001b[0m\u001b[0;34m\u001b[0m\u001b[0m\n\u001b[1;32m    502\u001b[0m \u001b[0;34m\u001b[0m\u001b[0m\n",
      "\u001b[0;32m/opt/SageMath/SageMath/local/lib/python3.9/site-packages/sage/interfaces/mathematica.py\u001b[0m in \u001b[0;36mset\u001b[0;34m(self, var, value)\u001b[0m\n\u001b[1;32m    581\u001b[0m         \u001b[0mout\u001b[0m \u001b[0;34m=\u001b[0m \u001b[0mself\u001b[0m\u001b[0;34m.\u001b[0m\u001b[0m_eval_line\u001b[0m\u001b[0;34m(\u001b[0m\u001b[0mcmd\u001b[0m\u001b[0;34m,\u001b[0m \u001b[0mallow_use_file\u001b[0m\u001b[0;34m=\u001b[0m\u001b[0;32mTrue\u001b[0m\u001b[0;34m)\u001b[0m\u001b[0;34m\u001b[0m\u001b[0;34m\u001b[0m\u001b[0m\n\u001b[1;32m    582\u001b[0m         \u001b[0;32mif\u001b[0m \u001b[0mlen\u001b[0m\u001b[0;34m(\u001b[0m\u001b[0mout\u001b[0m\u001b[0;34m)\u001b[0m \u001b[0;34m>\u001b[0m \u001b[0;36m8\u001b[0m\u001b[0;34m:\u001b[0m\u001b[0;34m\u001b[0m\u001b[0;34m\u001b[0m\u001b[0m\n\u001b[0;32m--> 583\u001b[0;31m             \u001b[0;32mraise\u001b[0m \u001b[0mTypeError\u001b[0m\u001b[0;34m(\u001b[0m\u001b[0;34m\"Error executing code in Mathematica\\nCODE:\\n\\t%s\\nMathematica ERROR:\\n\\t%s\"\u001b[0m\u001b[0;34m%\u001b[0m\u001b[0;34m(\u001b[0m\u001b[0mcmd\u001b[0m\u001b[0;34m,\u001b[0m \u001b[0mout\u001b[0m\u001b[0;34m)\u001b[0m\u001b[0;34m)\u001b[0m\u001b[0;34m\u001b[0m\u001b[0;34m\u001b[0m\u001b[0m\n\u001b[0m\u001b[1;32m    584\u001b[0m \u001b[0;34m\u001b[0m\u001b[0m\n\u001b[1;32m    585\u001b[0m     \u001b[0;32mdef\u001b[0m \u001b[0mget\u001b[0m\u001b[0;34m(\u001b[0m\u001b[0mself\u001b[0m\u001b[0;34m,\u001b[0m \u001b[0mvar\u001b[0m\u001b[0;34m,\u001b[0m \u001b[0mascii_art\u001b[0m\u001b[0;34m=\u001b[0m\u001b[0;32mFalse\u001b[0m\u001b[0;34m)\u001b[0m\u001b[0;34m:\u001b[0m\u001b[0;34m\u001b[0m\u001b[0;34m\u001b[0m\u001b[0m\n",
      "\u001b[0;31mTypeError\u001b[0m: Error executing code in Mathematica\nCODE:\n\tsage5=Simplify[sage2];\nMathematica ERROR:\n\tSimplify::infd: Expression <<1>> simplified to ComplexInfinity."
     ]
    }
   ],
   "source": [
    "#l_0-l_1-l_2+l_3\n",
    "denom = eff_hamiltonian_tayl[0,0]+eff_hamiltonian_tayl[3,3]-eff_hamiltonian_tayl[1,1]-eff_hamiltonian_tayl[2,2]\n",
    "\n",
    "t_g = np.pi/denom\n",
    "t_g = MMA_simplify(t_g,full=False) #not full if too slow\n",
    "t_g = SR(str(t_g).replace('Sqrt','sqrt')).simplify()"
   ]
  },
  {
   "cell_type": "code",
   "execution_count": null,
   "id": "efd4ff7b",
   "metadata": {},
   "outputs": [],
   "source": [
    "show(symround((t_g)))\n",
    "#GHZ REGIME \n",
    "rf =1 \n",
    "de=122183415123789/100000000000000\n",
    "r_v=1.01014311134038/c_k\n",
    "#show(symround((t_g.subs(R_f =rf ,DEg=de,R_v=r_v))))"
   ]
  },
  {
   "cell_type": "markdown",
   "id": "1498df0a",
   "metadata": {},
   "source": [
    "# Lindblau Operators in $C \\longrightarrow \\infty$ limit\n",
    "\n",
    "Choose which of the Lindblau operators to view and which non zero element of it"
   ]
  },
  {
   "cell_type": "code",
   "execution_count": 6,
   "id": "847371b4",
   "metadata": {
    "scrolled": true
   },
   "outputs": [
    {
     "name": "stdout",
     "output_type": "stream",
     "text": [
      "0 out of 8\n",
      "1 out of 8\n",
      "symround: Deleted coefficient 1.1e-14\n",
      "symround: Deleted coefficient 1.1e-14\n",
      "symround: Deleted coefficient 1.3e-15\n",
      "2 out of 8\n",
      "3 out of 8\n",
      "4 out of 8\n",
      "5 out of 8\n",
      "6 out of 8\n",
      "7 out of 8\n",
      "8 out of 8\n",
      "symround: Deleted coefficient 1.1e-14\n",
      "symround: Deleted coefficient 1.1e-14\n",
      "symround: Deleted coefficient 1.3e-15\n"
     ]
    }
   ],
   "source": [
    "lind_op_number = len(s1.lindblau_list)\n",
    "\n",
    "eff_lind_taylor = []\n",
    "eff_lind = []\n",
    "eff_lind_coeff = []\n",
    "for lind_op in range(lind_op_number):\n",
    "    print(f'{lind_op} out of {lind_op_number-1}')\n",
    "    eff_lind_taylor.append([])\n",
    "    eff_lind.append([])\n",
    "    L_matrix = s1.eff_lindblau_list[lind_op]\n",
    "    L_nonzeros = []\n",
    "    L_nonzeros_pos = []\n",
    "    for i in  range(L_matrix.nrows()):\n",
    "        for j in  range(L_matrix.ncols()):\n",
    "            if not L_matrix[i,j].is_zero():\n",
    "                L_nonzeros.append(L_matrix[i,j])\n",
    "                L_nonzeros_pos.append((i,j))\n",
    "    eff_lind_coeff.append(s1.L_coeffs[lind_op])\n",
    "    for which in range(len(L_nonzeros)):\n",
    "\n",
    "        L_elem = L_nonzeros[which]\n",
    "\n",
    "        #L_elem = L_elem.subs(DE=+0.5*I*gamma_f + 0.5*I*gamma_g + DEt*gamma)\n",
    "        #L_elem = L_elem.subs(De=+0.5*I*gamma   +Det*gamma)\n",
    "        L_elem = L_elem.subs(DE=DEg*gamma*C^n)\n",
    "        L_elem = L_elem.subs(De=Deg*gamma*C^m)\n",
    "        #COUPLINGS\n",
    "\n",
    "        L_elem = L_elem.subs(g_f=g*sqrt(R_f))\n",
    "\n",
    "        L_elem = L_elem.subs(v=g*sqrt(R_v))\n",
    "\n",
    "        #ABSORBTIONS\n",
    "        L_elem = L_elem.subs(kappa_b=gamma/r_b)\n",
    "\n",
    "        L_elem = L_elem.subs(gamma_g=gamma*r_g)\n",
    "\n",
    "        L_elem = L_elem.subs(gamma_f=gamma*r_f)\n",
    "\n",
    "        L_elem = L_elem.subs(g = sqrt(C*gamma*kappa_c)) \n",
    "        L_elem = L_elem.subs(r_b = c_k/C)\n",
    "        \n",
    "        L_elem = L_elem._mathematica_().Factor()._sage_()\n",
    "\n",
    "\n",
    "        L_elem = MMA_simplify(L_elem)#,full=True)\n",
    "\n",
    "        L_elem = SR(str(L_elem).replace('Sqrt','sqrt'))\n",
    "        \n",
    "        L_elem_show = symround(L_elem)\n",
    "        \n",
    "        eff_lind[lind_op].append(L_elem_show)\n",
    "        \n",
    "        var('x')\n",
    "        q = L_elem.subs(C=1/x)\n",
    "        q = MMA_simplify(q)\n",
    "        tayl = q._mathematica_().Series((x,0,1)).Normal()._sage_()\n",
    "        tayl = tayl.subs(x=1/C)\n",
    "        tayl = SR(str(tayl).replace('Sqrt','sqrt'))\n",
    "        tayl_show = symround(tayl)\n",
    "        \n",
    "        eff_lind_taylor[-1].append(tayl_show)"
   ]
  },
  {
   "cell_type": "markdown",
   "id": "f1ddbf1c",
   "metadata": {},
   "source": [
    "# See results"
   ]
  },
  {
   "cell_type": "code",
   "execution_count": 7,
   "id": "abd5a8d7",
   "metadata": {},
   "outputs": [],
   "source": [
    "#show((eff_lind_taylor[2][3]))"
   ]
  },
  {
   "cell_type": "code",
   "execution_count": 8,
   "id": "a02f7505",
   "metadata": {},
   "outputs": [],
   "source": [
    "#show(eff_lind[0][3])"
   ]
  },
  {
   "cell_type": "code",
   "execution_count": 9,
   "id": "bc6f635a",
   "metadata": {},
   "outputs": [
    {
     "data": {
      "text/html": [
       "<html><script type=\"math/tex; mode=display\">\\newcommand{\\Bold}[1]{\\mathbf{#1}}-\\frac{2.0 \\, {\\left({\\left(0.66i \\, {R_{\\nu}}^{4} {c_\\kappa}^{4} + 0.55i \\, {R_{\\nu}}^{3} {c_\\kappa}^{3} + 0.17i \\, {R_{\\nu}}^{2} {c_\\kappa}^{2} + 0.021i \\, {R_{\\nu}} {c_\\kappa} + 0.00086i\\right)} C^{1.5} R_{f} + {\\left({R_{\\nu}}^{4} {c_\\kappa}^{4} + 0.66 \\, {R_{\\nu}}^{3} {c_\\kappa}^{3} + 0.15 \\, {R_{\\nu}}^{2} {c_\\kappa}^{2} + 0.014 \\, {R_{\\nu}} {c_\\kappa} + 0.00043\\right)} C {\\Delta_{E\\gamma}}\\right)} {\\left({\\left(-0.66i \\, {R_{\\nu}}^{4} {c_\\kappa}^{4} - 0.55i \\, {R_{\\nu}}^{3} {c_\\kappa}^{3} - 0.17i \\, {R_{\\nu}}^{2} {c_\\kappa}^{2} - 0.021i \\, {R_{\\nu}} {c_\\kappa} - 0.00086i\\right)} C^{1.5} R_{f} + {\\left({R_{\\nu}}^{4} {c_\\kappa}^{4} + 0.66 \\, {R_{\\nu}}^{3} {c_\\kappa}^{3} + 0.15 \\, {R_{\\nu}}^{2} {c_\\kappa}^{2} + 0.014 \\, {R_{\\nu}} {c_\\kappa} + 0.00043\\right)} C {\\Delta_{E\\gamma}}\\right)} {r_g}}{{\\left({R_{\\nu}}^{6} {c_\\kappa}^{6} + 2 \\, {R_{\\nu}}^{5} {c_\\kappa}^{5} + 1.5 \\, {R_{\\nu}}^{4} {c_\\kappa}^{4} + 0.53 \\, {R_{\\nu}}^{3} {c_\\kappa}^{3} + 0.094 \\, {R_{\\nu}}^{2} {c_\\kappa}^{2} + 0.0078 \\, {R_{\\nu}} {c_\\kappa} + 0.00024\\right)} {\\left({R_{\\nu}}^{2} {c_\\kappa}^{2} + 0.50 \\, {R_{\\nu}} {c_\\kappa} + 0.062\\right)}^{2} C^{3.5} {\\Delta_{E\\gamma}} R_{f}^{2}}</script></html>"
      ],
      "text/latex": [
       "$$\\newcommand{\\Bold}[1]{\\mathbf{#1}}-\\frac{2.0 \\, {\\left({\\left(0.66i \\, {R_{\\nu}}^{4} {c_\\kappa}^{4} + 0.55i \\, {R_{\\nu}}^{3} {c_\\kappa}^{3} + 0.17i \\, {R_{\\nu}}^{2} {c_\\kappa}^{2} + 0.021i \\, {R_{\\nu}} {c_\\kappa} + 0.00086i\\right)} C^{1.5} R_{f} + {\\left({R_{\\nu}}^{4} {c_\\kappa}^{4} + 0.66 \\, {R_{\\nu}}^{3} {c_\\kappa}^{3} + 0.15 \\, {R_{\\nu}}^{2} {c_\\kappa}^{2} + 0.014 \\, {R_{\\nu}} {c_\\kappa} + 0.00043\\right)} C {\\Delta_{E\\gamma}}\\right)} {\\left({\\left(-0.66i \\, {R_{\\nu}}^{4} {c_\\kappa}^{4} - 0.55i \\, {R_{\\nu}}^{3} {c_\\kappa}^{3} - 0.17i \\, {R_{\\nu}}^{2} {c_\\kappa}^{2} - 0.021i \\, {R_{\\nu}} {c_\\kappa} - 0.00086i\\right)} C^{1.5} R_{f} + {\\left({R_{\\nu}}^{4} {c_\\kappa}^{4} + 0.66 \\, {R_{\\nu}}^{3} {c_\\kappa}^{3} + 0.15 \\, {R_{\\nu}}^{2} {c_\\kappa}^{2} + 0.014 \\, {R_{\\nu}} {c_\\kappa} + 0.00043\\right)} C {\\Delta_{E\\gamma}}\\right)} {r_g}}{{\\left({R_{\\nu}}^{6} {c_\\kappa}^{6} + 2 \\, {R_{\\nu}}^{5} {c_\\kappa}^{5} + 1.5 \\, {R_{\\nu}}^{4} {c_\\kappa}^{4} + 0.53 \\, {R_{\\nu}}^{3} {c_\\kappa}^{3} + 0.094 \\, {R_{\\nu}}^{2} {c_\\kappa}^{2} + 0.0078 \\, {R_{\\nu}} {c_\\kappa} + 0.00024\\right)} {\\left({R_{\\nu}}^{2} {c_\\kappa}^{2} + 0.50 \\, {R_{\\nu}} {c_\\kappa} + 0.062\\right)}^{2} C^{3.5} {\\Delta_{E\\gamma}} R_{f}^{2}}$$"
      ],
      "text/plain": [
       "-2.0*((0.66*I*R_v^4*c_k^4 + 0.55*I*R_v^3*c_k^3 + 0.17*I*R_v^2*c_k^2 + 0.021*I*R_v*c_k + 0.00086*I)*C^1.5*R_f + (R_v^4*c_k^4 + 0.66*R_v^3*c_k^3 + 0.15*R_v^2*c_k^2 + 0.014*R_v*c_k + 0.00043)*C*DEg)*((-0.66*I*R_v^4*c_k^4 - 0.55*I*R_v^3*c_k^3 - 0.17*I*R_v^2*c_k^2 - 0.021*I*R_v*c_k - 0.00086*I)*C^1.5*R_f + (R_v^4*c_k^4 + 0.66*R_v^3*c_k^3 + 0.15*R_v^2*c_k^2 + 0.014*R_v*c_k + 0.00043)*C*DEg)*r_g/((R_v^6*c_k^6 + 2*R_v^5*c_k^5 + 1.5*R_v^4*c_k^4 + 0.53*R_v^3*c_k^3 + 0.094*R_v^2*c_k^2 + 0.0078*R_v*c_k + 0.00024)*(R_v^2*c_k^2 + 0.50*R_v*c_k + 0.062)^2*C^3.5*DEg*R_f^2)"
      ]
     },
     "metadata": {},
     "output_type": "display_data"
    },
    {
     "name": "stdout",
     "output_type": "stream",
     "text": [
      "coeff:\n"
     ]
    },
    {
     "data": {
      "text/html": [
       "<html><script type=\"math/tex; mode=display\">\\newcommand{\\Bold}[1]{\\mathbf{#1}}\\sqrt{{\\gamma_g}}</script></html>"
      ],
      "text/latex": [
       "$$\\newcommand{\\Bold}[1]{\\mathbf{#1}}\\sqrt{{\\gamma_g}}$$"
      ],
      "text/plain": [
       "sqrt(gamma_g)"
      ]
     },
     "metadata": {},
     "output_type": "display_data"
    }
   ],
   "source": [
    "lindop = 4\n",
    "a = eff_lind_taylor[lindop][0]\n",
    "err = t_g*a*conjugate(a)\n",
    "err = SR(str(MMA_simplify( err,full=False )).replace('Sqrt','sqrt')).simplify()\n",
    "show( symround( err ) )\n",
    "print(f'coeff:')\n",
    "show(eff_lind_coeff[lindop])"
   ]
  },
  {
   "cell_type": "code",
   "execution_count": null,
   "id": "3751ad1f",
   "metadata": {},
   "outputs": [],
   "source": []
  }
 ],
 "metadata": {
  "kernelspec": {
   "display_name": "SageMath 9.3",
   "language": "sage",
   "name": "sagemath"
  },
  "language_info": {
   "codemirror_mode": {
    "name": "ipython",
    "version": 3
   },
   "file_extension": ".py",
   "mimetype": "text/x-python",
   "name": "python",
   "nbconvert_exporter": "python",
   "pygments_lexer": "ipython3",
   "version": "3.9.2"
  }
 },
 "nbformat": 4,
 "nbformat_minor": 5
}
