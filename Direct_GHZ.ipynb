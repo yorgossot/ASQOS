{
 "cells": [
  {
   "cell_type": "code",
   "execution_count": 1,
   "metadata": {},
   "outputs": [
    {
     "name": "stdout",
     "output_type": "stream",
     "text": [
      "Loading object O-O-x-O- \n",
      "Preparing Analytical sub-class\n",
      "\n",
      "Done!\n"
     ]
    }
   ],
   "source": [
    "from resources.notebook_library import *\n",
    "from resources.gate_simulation.direct_ghz import ghz_simulation\n",
    "from resources.gate_simulation.direct_ghz import gate_simulation_functions\n",
    "GateSimulation  = ghz_simulation\n",
    "sim = GateSimulation.Simulation(load=True)"
   ]
  },
  {
   "cell_type": "markdown",
   "metadata": {},
   "source": [
    "# Obtain grid(s) of performance"
   ]
  },
  {
   "cell_type": "code",
   "execution_count": 2,
   "metadata": {},
   "outputs": [],
   "source": [
    "# Global Parameters \n",
    "kSweep = [0.99]   #[0.995]\n",
    "\n",
    "CSweep =[25]#[25]#[25,50,75]#,50,75]\n",
    "\n",
    "SplitSweep =[15]\n",
    " \n",
    "\n",
    "# Bounds of optimization\n",
    "## DE will be multiplied by  np.sqrt(C_val)/gamma_val\n",
    "DE_min = 0.01 \n",
    "DE_max = 10\n",
    "tg_min = 0.7\n",
    "tg_max = 1.2\n",
    "rot_min = 0.8\n",
    "rot_max = 1.2\n",
    "\n",
    "\n",
    "# Optimization settings\n",
    "opt_settings_dict = {\n",
    "\"ghz_dim\":3,                # 3-ghz state or 4-ghz state\n",
    "'swap_into_memory':False,    # Use of nuclear memory\n",
    "'fidelity_cap': 0.95 , 'confidence_interval':0.99, #Cost function parameters\n",
    "\"n_cores\": 16,  # Number of cores to use in optimization\n",
    "\"disp_bool\" : True} # Show optimization progress"
   ]
  },
  {
   "cell_type": "markdown",
   "metadata": {},
   "source": [
    "## Using analytical simulations"
   ]
  },
  {
   "cell_type": "code",
   "execution_count": 3,
   "metadata": {},
   "outputs": [
    {
     "name": "stdout",
     "output_type": "stream",
     "text": [
      "Optimizing 1 out of 1\n",
      "differential_evolution step 1: f(x)= 45.0003\n",
      "differential_evolution step 2: f(x)= 45.0003\n",
      "differential_evolution step 3: f(x)= 35.4351\n",
      "differential_evolution step 4: f(x)= 35.4351\n",
      "differential_evolution step 5: f(x)= 35.4351\n",
      "differential_evolution step 6: f(x)= 35.4351\n",
      "differential_evolution step 7: f(x)= 32.9488\n",
      "differential_evolution step 8: f(x)= 32.9488\n",
      "differential_evolution step 9: f(x)= 27.694\n",
      "differential_evolution step 10: f(x)= 23.5896\n",
      "differential_evolution step 11: f(x)= 23.5896\n",
      "differential_evolution step 12: f(x)= 23.5896\n",
      "differential_evolution step 13: f(x)= 21.5457\n",
      "differential_evolution step 14: f(x)= 21.5457\n",
      "differential_evolution step 15: f(x)= 21.5457\n",
      "differential_evolution step 16: f(x)= 21.5457\n",
      "differential_evolution step 17: f(x)= 21.3406\n",
      "differential_evolution step 18: f(x)= 21.2851\n",
      "differential_evolution step 19: f(x)= 21.2851\n",
      "differential_evolution step 20: f(x)= 20.5362\n",
      "differential_evolution step 21: f(x)= 20.5362\n",
      "differential_evolution step 22: f(x)= 20.3804\n",
      "differential_evolution step 23: f(x)= 20.2577\n",
      "differential_evolution step 24: f(x)= 20.0521\n",
      "differential_evolution step 25: f(x)= 20.0521\n",
      "differential_evolution step 26: f(x)= 20.0521\n",
      "differential_evolution step 27: f(x)= 20.0521\n",
      "differential_evolution step 28: f(x)= 20.0521\n",
      "differential_evolution step 29: f(x)= 20.0521\n",
      "differential_evolution step 30: f(x)= 20.0521\n",
      "differential_evolution step 31: f(x)= 20.0521\n",
      "differential_evolution step 32: f(x)= 20.0521\n",
      "differential_evolution step 33: f(x)= 20.0521\n",
      "differential_evolution step 34: f(x)= 20.0521\n",
      "differential_evolution step 35: f(x)= 20.0521\n",
      "differential_evolution step 36: f(x)= 20.0521\n",
      "differential_evolution step 37: f(x)= 20.0081\n",
      "differential_evolution step 38: f(x)= 20.0081\n",
      "differential_evolution step 39: f(x)= 20.0081\n",
      "differential_evolution step 40: f(x)= 20.0081\n",
      "differential_evolution step 41: f(x)= 20.0081\n",
      "differential_evolution step 42: f(x)= 20.0081\n",
      "differential_evolution step 43: f(x)= 20.0081\n",
      "differential_evolution step 44: f(x)= 20.0081\n",
      "differential_evolution step 45: f(x)= 20.0081\n",
      "differential_evolution step 46: f(x)= 20.0081\n",
      "differential_evolution step 47: f(x)= 20.0081\n",
      "differential_evolution step 48: f(x)= 20.0081\n",
      "differential_evolution step 49: f(x)= 20.0081\n",
      "differential_evolution step 50: f(x)= 20.0081\n",
      "differential_evolution step 51: f(x)= 20.0081\n",
      "differential_evolution step 52: f(x)= 20.0081\n"
     ]
    },
    {
     "ename": "TypeError",
     "evalue": "unable to simplify to float approximation",
     "output_type": "error",
     "traceback": [
      "\u001b[0;31m---------------------------------------------------------------------------\u001b[0m",
      "\u001b[0;31mTypeError\u001b[0m                                 Traceback (most recent call last)",
      "\u001b[0;32m/usr/lib/python3/dist-packages/sage/symbolic/expression.pyx\u001b[0m in \u001b[0;36msage.symbolic.expression.Expression.__float__ (build/cythonized/sage/symbolic/expression.cpp:10936)\u001b[0;34m()\u001b[0m\n\u001b[1;32m   1432\u001b[0m         \u001b[0;32mtry\u001b[0m\u001b[0;34m:\u001b[0m\u001b[0;34m\u001b[0m\u001b[0;34m\u001b[0m\u001b[0m\n\u001b[0;32m-> 1433\u001b[0;31m             \u001b[0mret\u001b[0m \u001b[0;34m=\u001b[0m \u001b[0mfloat\u001b[0m\u001b[0;34m(\u001b[0m\u001b[0mself\u001b[0m\u001b[0;34m.\u001b[0m\u001b[0m_eval_self\u001b[0m\u001b[0;34m(\u001b[0m\u001b[0mfloat\u001b[0m\u001b[0;34m)\u001b[0m\u001b[0;34m)\u001b[0m\u001b[0;34m\u001b[0m\u001b[0;34m\u001b[0m\u001b[0m\n\u001b[0m\u001b[1;32m   1434\u001b[0m         \u001b[0;32mexcept\u001b[0m \u001b[0mTypeError\u001b[0m\u001b[0;34m:\u001b[0m\u001b[0;34m\u001b[0m\u001b[0;34m\u001b[0m\u001b[0m\n",
      "\u001b[0;32m/usr/lib/python3/dist-packages/sage/symbolic/expression.pyx\u001b[0m in \u001b[0;36msage.symbolic.expression.Expression._eval_self (build/cythonized/sage/symbolic/expression.cpp:10067)\u001b[0;34m()\u001b[0m\n\u001b[1;32m   1240\u001b[0m         \u001b[0;32melse\u001b[0m\u001b[0;34m:\u001b[0m\u001b[0;34m\u001b[0m\u001b[0;34m\u001b[0m\u001b[0m\n\u001b[0;32m-> 1241\u001b[0;31m             \u001b[0;32mraise\u001b[0m \u001b[0mTypeError\u001b[0m\u001b[0;34m(\u001b[0m\u001b[0;34m\"Cannot evaluate symbolic expression to a numeric value.\"\u001b[0m\u001b[0;34m)\u001b[0m\u001b[0;34m\u001b[0m\u001b[0;34m\u001b[0m\u001b[0m\n\u001b[0m\u001b[1;32m   1242\u001b[0m \u001b[0;34m\u001b[0m\u001b[0m\n",
      "\u001b[0;31mTypeError\u001b[0m: Cannot evaluate symbolic expression to a numeric value.",
      "\nDuring handling of the above exception, another exception occurred:\n",
      "\u001b[0;31mTypeError\u001b[0m                                 Traceback (most recent call last)",
      "\u001b[0;32m/usr/lib/python3/dist-packages/sage/symbolic/expression.pyx\u001b[0m in \u001b[0;36msage.symbolic.expression.Expression.__float__ (build/cythonized/sage/symbolic/expression.cpp:10998)\u001b[0;34m()\u001b[0m\n\u001b[1;32m   1435\u001b[0m             \u001b[0;32mtry\u001b[0m\u001b[0;34m:\u001b[0m\u001b[0;34m\u001b[0m\u001b[0;34m\u001b[0m\u001b[0m\n\u001b[0;32m-> 1436\u001b[0;31m                 \u001b[0mc\u001b[0m \u001b[0;34m=\u001b[0m \u001b[0;34m(\u001b[0m\u001b[0mself\u001b[0m\u001b[0;34m.\u001b[0m\u001b[0m_eval_self\u001b[0m\u001b[0;34m(\u001b[0m\u001b[0mcomplex\u001b[0m\u001b[0;34m)\u001b[0m\u001b[0;34m)\u001b[0m\u001b[0;34m\u001b[0m\u001b[0;34m\u001b[0m\u001b[0m\n\u001b[0m\u001b[1;32m   1437\u001b[0m                 \u001b[0;32mif\u001b[0m \u001b[0mimag\u001b[0m\u001b[0;34m(\u001b[0m\u001b[0mc\u001b[0m\u001b[0;34m)\u001b[0m \u001b[0;34m==\u001b[0m \u001b[0;36m0\u001b[0m\u001b[0;34m:\u001b[0m\u001b[0;34m\u001b[0m\u001b[0;34m\u001b[0m\u001b[0m\n",
      "\u001b[0;32m/usr/lib/python3/dist-packages/sage/symbolic/expression.pyx\u001b[0m in \u001b[0;36msage.symbolic.expression.Expression._eval_self (build/cythonized/sage/symbolic/expression.cpp:10067)\u001b[0;34m()\u001b[0m\n\u001b[1;32m   1240\u001b[0m         \u001b[0;32melse\u001b[0m\u001b[0;34m:\u001b[0m\u001b[0;34m\u001b[0m\u001b[0;34m\u001b[0m\u001b[0m\n\u001b[0;32m-> 1241\u001b[0;31m             \u001b[0;32mraise\u001b[0m \u001b[0mTypeError\u001b[0m\u001b[0;34m(\u001b[0m\u001b[0;34m\"Cannot evaluate symbolic expression to a numeric value.\"\u001b[0m\u001b[0;34m)\u001b[0m\u001b[0;34m\u001b[0m\u001b[0;34m\u001b[0m\u001b[0m\n\u001b[0m\u001b[1;32m   1242\u001b[0m \u001b[0;34m\u001b[0m\u001b[0m\n",
      "\u001b[0;31mTypeError\u001b[0m: Cannot evaluate symbolic expression to a numeric value.",
      "\nDuring handling of the above exception, another exception occurred:\n",
      "\u001b[0;31mTypeError\u001b[0m                                 Traceback (most recent call last)",
      "\u001b[0;32m<ipython-input-3-0d12d96d2f94>\u001b[0m in \u001b[0;36m<module>\u001b[0;34m\u001b[0m\n\u001b[1;32m     24\u001b[0m                 \u001b[0;31m#for i in range(opt_settings_dict[\"ghz_dim\"]) : bounds.append([rot_min,rot_max])\u001b[0m\u001b[0;34m\u001b[0m\u001b[0;34m\u001b[0m\u001b[0;34m\u001b[0m\u001b[0m\n\u001b[1;32m     25\u001b[0m                 \u001b[0;32mfor\u001b[0m \u001b[0mi\u001b[0m \u001b[0;32min\u001b[0m \u001b[0mrange\u001b[0m\u001b[0;34m(\u001b[0m\u001b[0;36m2\u001b[0m\u001b[0;34m)\u001b[0m \u001b[0;34m:\u001b[0m \u001b[0mbounds\u001b[0m\u001b[0;34m.\u001b[0m\u001b[0mappend\u001b[0m\u001b[0;34m(\u001b[0m\u001b[0;34m[\u001b[0m\u001b[0mrot_min\u001b[0m\u001b[0;34m,\u001b[0m\u001b[0mrot_max\u001b[0m\u001b[0;34m]\u001b[0m\u001b[0;34m)\u001b[0m\u001b[0;34m\u001b[0m\u001b[0;34m\u001b[0m\u001b[0m\n\u001b[0;32m---> 26\u001b[0;31m                 \u001b[0msim\u001b[0m\u001b[0;34m.\u001b[0m\u001b[0mAnalytical\u001b[0m\u001b[0;34m.\u001b[0m\u001b[0moptimize_gate_performance_hardware\u001b[0m\u001b[0;34m(\u001b[0m\u001b[0mbounds\u001b[0m\u001b[0;34m,\u001b[0m\u001b[0mopt_settings_dict\u001b[0m\u001b[0;34m)\u001b[0m\u001b[0;34m\u001b[0m\u001b[0;34m\u001b[0m\u001b[0m\n\u001b[0m\u001b[1;32m     27\u001b[0m \u001b[0;34m\u001b[0m\u001b[0m\n\u001b[1;32m     28\u001b[0m                 \u001b[0moptimized_performance_dict\u001b[0m \u001b[0;34m=\u001b[0m \u001b[0msim\u001b[0m\u001b[0;34m.\u001b[0m\u001b[0mAnalytical\u001b[0m\u001b[0;34m.\u001b[0m\u001b[0moptimized_performance_dict\u001b[0m\u001b[0;34m\u001b[0m\u001b[0;34m\u001b[0m\u001b[0m\n",
      "\u001b[0;32m~/Thesis/Code/Yorgos_Thesis/resources/gate_simulation/direct_ghz/ghz_analytical.py\u001b[0m in \u001b[0;36moptimize_gate_performance_hardware\u001b[0;34m(self, parameter_bounds, opt_settings_dict)\u001b[0m\n\u001b[1;32m    221\u001b[0m \u001b[0;34m\u001b[0m\u001b[0m\n\u001b[1;32m    222\u001b[0m \u001b[0;34m\u001b[0m\u001b[0m\n\u001b[0;32m--> 223\u001b[0;31m         \u001b[0mself\u001b[0m\u001b[0;34m.\u001b[0m\u001b[0moptimized_performance_dict\u001b[0m \u001b[0;34m=\u001b[0m \u001b[0mself\u001b[0m\u001b[0;34m.\u001b[0m\u001b[0mtunable_performance\u001b[0m\u001b[0;34m(\u001b[0m\u001b[0mself\u001b[0m\u001b[0;34m.\u001b[0m\u001b[0mopt_tunable_dict\u001b[0m\u001b[0;34m,\u001b[0m\u001b[0mopt_settings_dict\u001b[0m\u001b[0;34m)\u001b[0m\u001b[0;34m\u001b[0m\u001b[0;34m\u001b[0m\u001b[0m\n\u001b[0m\u001b[1;32m    224\u001b[0m \u001b[0;34m\u001b[0m\u001b[0m\n\u001b[1;32m    225\u001b[0m         \u001b[0mself\u001b[0m\u001b[0;34m.\u001b[0m\u001b[0moptimized_performance_dict\u001b[0m\u001b[0;34m[\u001b[0m\u001b[0;34m't_conf'\u001b[0m\u001b[0;34m]\u001b[0m \u001b[0;34m=\u001b[0m \u001b[0mgate_simulation_functions\u001b[0m\u001b[0;34m.\u001b[0m\u001b[0mtime_interval_of_confidence\u001b[0m\u001b[0;34m(\u001b[0m\u001b[0mopt_settings_dict\u001b[0m\u001b[0;34m,\u001b[0m\u001b[0mself\u001b[0m\u001b[0;34m.\u001b[0m\u001b[0moptimized_performance_dict\u001b[0m\u001b[0;34m)\u001b[0m\u001b[0;34m\u001b[0m\u001b[0;34m\u001b[0m\u001b[0m\n",
      "\u001b[0;32m~/Thesis/Code/Yorgos_Thesis/resources/gate_simulation/direct_ghz/ghz_analytical.py\u001b[0m in \u001b[0;36mtunable_performance\u001b[0;34m(self, tunable_parameters_dict, opt_settings_dict)\u001b[0m\n\u001b[1;32m    162\u001b[0m             \u001b[0mHL_dict\u001b[0m\u001b[0;34m[\u001b[0m\u001b[0msg\u001b[0m\u001b[0;34m.\u001b[0m\u001b[0mvar\u001b[0m\u001b[0;34m(\u001b[0m\u001b[0;34m'pss'\u001b[0m\u001b[0;34m)\u001b[0m\u001b[0;34m]\u001b[0m   \u001b[0;34m=\u001b[0m \u001b[0mp_success\u001b[0m\u001b[0;34m\u001b[0m\u001b[0;34m\u001b[0m\u001b[0m\n\u001b[1;32m    163\u001b[0m \u001b[0;34m\u001b[0m\u001b[0m\n\u001b[0;32m--> 164\u001b[0;31m             \u001b[0mfidelity\u001b[0m \u001b[0;34m=\u001b[0m \u001b[0mfloat\u001b[0m\u001b[0;34m(\u001b[0m\u001b[0msg\u001b[0m\u001b[0;34m.\u001b[0m\u001b[0mreal\u001b[0m\u001b[0;34m(\u001b[0m\u001b[0mself\u001b[0m\u001b[0;34m.\u001b[0m\u001b[0mfidelity_ghz_symbolic\u001b[0m\u001b[0;34m.\u001b[0m\u001b[0msubs\u001b[0m\u001b[0;34m(\u001b[0m \u001b[0mHL_dict\u001b[0m\u001b[0;34m)\u001b[0m\u001b[0;34m)\u001b[0m\u001b[0;34m)\u001b[0m\u001b[0;34m\u001b[0m\u001b[0;34m\u001b[0m\u001b[0m\n\u001b[0m\u001b[1;32m    165\u001b[0m \u001b[0;34m\u001b[0m\u001b[0m\n\u001b[1;32m    166\u001b[0m \u001b[0;34m\u001b[0m\u001b[0m\n",
      "\u001b[0;32m/usr/lib/python3/dist-packages/sage/symbolic/expression.pyx\u001b[0m in \u001b[0;36msage.symbolic.expression.Expression.__float__ (build/cythonized/sage/symbolic/expression.cpp:11129)\u001b[0;34m()\u001b[0m\n\u001b[1;32m   1440\u001b[0m                     \u001b[0;32mraise\u001b[0m\u001b[0;34m\u001b[0m\u001b[0;34m\u001b[0m\u001b[0m\n\u001b[1;32m   1441\u001b[0m             \u001b[0;32mexcept\u001b[0m \u001b[0mTypeError\u001b[0m\u001b[0;34m:\u001b[0m\u001b[0;34m\u001b[0m\u001b[0;34m\u001b[0m\u001b[0m\n\u001b[0;32m-> 1442\u001b[0;31m                 \u001b[0;32mraise\u001b[0m \u001b[0mTypeError\u001b[0m\u001b[0;34m(\u001b[0m\u001b[0;34m\"unable to simplify to float approximation\"\u001b[0m\u001b[0;34m)\u001b[0m\u001b[0;34m\u001b[0m\u001b[0;34m\u001b[0m\u001b[0m\n\u001b[0m\u001b[1;32m   1443\u001b[0m         \u001b[0;32mreturn\u001b[0m \u001b[0mret\u001b[0m\u001b[0;34m\u001b[0m\u001b[0;34m\u001b[0m\u001b[0m\n\u001b[1;32m   1444\u001b[0m \u001b[0;34m\u001b[0m\u001b[0m\n",
      "\u001b[0;31mTypeError\u001b[0m: unable to simplify to float approximation"
     ]
    }
   ],
   "source": [
    "gamma_val = sim.parameters[sg.var('gamma')]\n",
    "\n",
    "SplitSweep = [spl*gamma_val for spl in SplitSweep] # for gamma_val = 1 it is not necessary\n",
    "\n",
    "AllParams = [(a,b,c) for a in kSweep for b in CSweep for c in SplitSweep] # Create a 3-d grid for hardware parameters\n",
    "\n",
    "TotalParamElems = NumElemsInList(AllParams)\n",
    "\n",
    "\n",
    "CurrentNumberOfSimulations = 1\n",
    "Results = [ [{} for j in range(len(SplitSweep))] for i in range(len(CSweep))]\n",
    "cont_bool = True\n",
    "while cont_bool:\n",
    "        for  (k, C_val , max_split) in AllParams:\n",
    "                print(f'Optimizing {CurrentNumberOfSimulations} out of {TotalParamElems}')\n",
    "                CurrentNumberOfSimulations +=1\n",
    "                c_val = k/ (4-4*k)\n",
    "                \n",
    "                hardware_dict = {'c': c_val,'k':k , 'C':C_val ,'max_split': max_split}\n",
    "\n",
    "                sim.Analytical.obtain_gate_performance_hardware(hardware_dict)\n",
    "                bounds = [[0 , max_split] , [DE_min,DE_max*np.sqrt(C_val)/gamma_val ] , [tg_min,tg_max]  ]\n",
    "                # Add rotation bounds depending on the ghz_dim\n",
    "                #for i in range(opt_settings_dict[\"ghz_dim\"]) : bounds.append([rot_min,rot_max]) \n",
    "                for i in range(2) : bounds.append([rot_min,rot_max]) \n",
    "                sim.Analytical.optimize_gate_performance_hardware(bounds,opt_settings_dict)\n",
    "                \n",
    "                optimized_performance_dict = sim.Analytical.optimized_performance_dict\n",
    "                opt_cost_function = gate_simulation_functions.gate_performance_cost_function(optimized_performance_dict,opt_settings_dict)\n",
    "                if opt_cost_function<0:\n",
    "                        cont_bool = False\n",
    "                tunable_params_dict = sim.Analytical.opt_tunable_dict\n",
    "                \n",
    "                result = {'hardware': hardware_dict , \n",
    "                        'performance': optimized_performance_dict,\n",
    "                        'tuning': tunable_params_dict,\n",
    "                        'opt_settings' : opt_settings_dict, \n",
    "                        'cost': opt_cost_function}\n",
    "                i = np.where(C_val == np.array(CSweep) )[0][0]\n",
    "                j = np.where(max_split == np.array(SplitSweep) )[0][0]\n",
    "                Results[i][j] = result\n",
    "\n",
    "                clear_output(wait=True)"
   ]
  },
  {
   "cell_type": "markdown",
   "metadata": {},
   "source": [
    "# Plot result"
   ]
  },
  {
   "cell_type": "code",
   "execution_count": null,
   "metadata": {},
   "outputs": [
    {
     "data": {
      "image/png": "[encoded data removed]",
      "text/plain": [
       "<Figure size 640x480 with 2 Axes>"
      ]
     },
     "metadata": {},
     "output_type": "display_data"
    },
    {
     "name": "stdout",
     "output_type": "stream",
     "text": [
      "{'cost': -583.1986336751972,\n",
      " 'hardware': {'C': 75, 'c': 24.74999999999998, 'k': 0.99, 'max_split': 15},\n",
      " 'opt_settings': {'confidence_interval': 0.99,\n",
      "                  'disp_bool': False,\n",
      "                  'fidelity_cap': 0.99,\n",
      "                  'ghz_dim': 2,\n",
      "                  'n_cores': 16,\n",
      "                  'swap_into_memory': False},\n",
      " 'performance': {'concurrence': 0.9870436490717143,\n",
      "                 'fidelity': 0.9900682697217602,\n",
      "                 'gate_time': 8.808994662631642,\n",
      "                 'p_success': 0.08837365729554231,\n",
      "                 't_conf': 0.0017146816577710527},\n",
      " 'tuning': {De: 1.4750446778031252,\n",
      "            DE: 2.758860660042899,\n",
      "            tgr: 0.9306699192792619,\n",
      "            r0_r: 1.0275483354650845,\n",
      "            r1_r: 1.0290190567539215,\n",
      "            tgs: 8.808994662631642,\n",
      "            pss: 0.08837365729554231}}\n"
     ]
    }
   ],
   "source": [
    "plot_results(Results)\n",
    "pprint(Results[0][0])"
   ]
  },
  {
   "cell_type": "markdown",
   "metadata": {},
   "source": [
    "# Print results"
   ]
  },
  {
   "cell_type": "code",
   "execution_count": null,
   "metadata": {},
   "outputs": [],
   "source": [
    "for i,C in enumerate(CSweep):\n",
    "    for j,spl in enumerate(SplitSweep):\n",
    "        pass\n",
    "        #print(Results[i][j]['tuning'][sg.var('DE')]/np.sqrt(C))\n",
    "        #print(Results[i][j]['tuning'][sg.var('De')],spl)\n",
    "        #print([Results[i][j]['tuning'][sg.var(f'r{k}_r')]  for k in range(opt_settings_dict[\"ghz_dim\"] ) ])\n",
    "       "
   ]
  },
  {
   "cell_type": "code",
   "execution_count": null,
   "metadata": {},
   "outputs": [
    {
     "data": {
      "text/plain": [
       "{'hardware': {'c': 24.74999999999998, 'k': 0.99, 'C': 75, 'max_split': 15},\n",
       " 'performance': {'gate_time': 8.808994662631642,\n",
       "  'p_success': 0.08837365729554231,\n",
       "  'fidelity': 0.9900682697217602,\n",
       "  't_conf': 0.0017146816577710527,\n",
       "  'concurrence': 0.9870436490717143},\n",
       " 'tuning': {De: 1.4750446778031252,\n",
       "  DE: 2.758860660042899,\n",
       "  tgr: 0.9306699192792619,\n",
       "  r0_r: 1.0275483354650845,\n",
       "  r1_r: 1.0290190567539215,\n",
       "  tgs: 8.808994662631642,\n",
       "  pss: 0.08837365729554231},\n",
       " 'opt_settings': {'ghz_dim': 2,\n",
       "  'swap_into_memory': False,\n",
       "  'fidelity_cap': 0.99,\n",
       "  'confidence_interval': 0.99,\n",
       "  'n_cores': 16,\n",
       "  'disp_bool': False},\n",
       " 'cost': -583.1986336751972}"
      ]
     },
     "execution_count": 36,
     "metadata": {},
     "output_type": "execute_result"
    }
   ],
   "source": [
    "costs = np.array([[Results[i][j]['cost'] for j in range(len(SplitSweep))]for i in range(len(CSweep))])\n",
    "i_min, j_min = ArgMin(costs)\n",
    "\n",
    "Results[i_min][j_min]"
   ]
  },
  {
   "cell_type": "markdown",
   "metadata": {},
   "source": [
    "# Tests"
   ]
  },
  {
   "cell_type": "code",
   "execution_count": null,
   "metadata": {},
   "outputs": [],
   "source": [
    "tunable_parameters_dict = {sg.var(\"De1\"): 49.26073284392254\n",
    ", sg.var(\"De2\"): 25.285056530282482, \n",
    "sg.var(\"DE\"): 0.9327664708604897, \n",
    "sg.var(\"tgr\"): 0.9754512038222098, \n",
    "sg.var(\"r0_r\"): 0.9754512038222098, \n",
    "sg.var(\"r1_r\"): 1.1249785909114383, \n",
    "sg.var(\"tgs\"): 8.42852756771169, \n",
    "sg.var(\"pss\"): 0.0624942639192368}"
   ]
  },
  {
   "cell_type": "code",
   "execution_count": null,
   "metadata": {},
   "outputs": [],
   "source": [
    "k = 0.999\n",
    "HL_dict = {sg.var(\"C\"):250,sg.var(\"c\"):k/ (4-4*k),sg.var(\"max_split\"):50}\n",
    "for key in HL_dict:\n",
    "    if type(HL_dict[key]) is type(sg.var('x')): HL_dict[key] = HL_dict[key].subs(tunable_parameters_dict)\n",
    "HL_dict = { **HL_dict ,**tunable_parameters_dict }\n",
    "\n",
    "gate_time = float(sg.real( sim.Analytical.gate_time_symbolic.subs( HL_dict )))\n",
    "HL_dict[sg.var('tgs')] =  gate_time\n",
    "tunable_parameters_dict[sg.var('tgs')] =  gate_time\n",
    "p_success = float(sg.real(sim.Analytical.p_success_symbolic.subs(HL_dict)))\n",
    "\n",
    "tunable_parameters_dict[sg.var('pss')]   = p_success\n",
    "HL_dict[sg.var('pss')]   = p_success\n",
    "\n",
    "fidelity = float(sg.real(sim.Analytical.fidelity_ghz_symbolic.subs( HL_dict)))"
   ]
  },
  {
   "cell_type": "code",
   "execution_count": null,
   "metadata": {},
   "outputs": [
    {
     "data": {
      "text/plain": [
       "0.9999999979735865"
      ]
     },
     "execution_count": 7,
     "metadata": {},
     "output_type": "execute_result"
    }
   ],
   "source": [
    "fidelity"
   ]
  },
  {
   "cell_type": "code",
   "execution_count": null,
   "metadata": {},
   "outputs": [
    {
     "data": {
      "text/plain": [
       "0.0624942639192368"
      ]
     },
     "execution_count": 8,
     "metadata": {},
     "output_type": "execute_result"
    }
   ],
   "source": [
    "p_success"
   ]
  },
  {
   "cell_type": "code",
   "execution_count": null,
   "metadata": {},
   "outputs": [
    {
     "data": {
      "text/plain": [
       "8.42852756771169"
      ]
     },
     "execution_count": 9,
     "metadata": {},
     "output_type": "execute_result"
    }
   ],
   "source": [
    "gate_time"
   ]
  },
  {
   "cell_type": "code",
   "execution_count": null,
   "metadata": {},
   "outputs": [],
   "source": []
  }
 ],
 "metadata": {
  "interpreter": {
   "hash": "31f2aee4e71d21fbe5cf8b01ff0e069b9275f58929596ceb00d14d90e3e16cd6"
  },
  "kernelspec": {
   "display_name": "SageMath 9.0",
   "language": "python",
   "name": "python3"
  },
  "language_info": {
   "codemirror_mode": {
    "name": "ipython",
    "version": 3
   },
   "file_extension": ".py",
   "mimetype": "text/x-python",
   "name": "python",
   "nbconvert_exporter": "python",
   "pygments_lexer": "ipython3",
   "version": "3.8.10"
  },
  "orig_nbformat": 4
 },
 "nbformat": 4,
 "nbformat_minor": 2
}
