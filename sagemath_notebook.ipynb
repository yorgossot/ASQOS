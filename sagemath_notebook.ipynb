{
 "cells": [
  {
   "cell_type": "code",
   "execution_count": 1,
   "metadata": {
    "scrolled": false
   },
   "outputs": [
    {
     "name": "stderr",
     "output_type": "stream",
     "text": [
      "/home/yorgos/.local/lib/python3.8/site-packages/qutip/__init__.py:91: UserWarning: Old version of Cython detected: needed 0.29.20, got 0.29.14.\n",
      "  warnings.warn(\n"
     ]
    },
    {
     "name": "stdout",
     "output_type": "stream",
     "text": [
      "Initializing system o-x-o  ...\n",
      "Constructing states and excitations...\n",
      "Constructing ground and first-excited statespace...\n",
      "Constructing gs_hamiltonian ...\n",
      "Constructing e1_hamiltonian ...\n",
      "Constructing interactions V_plus and V_minus ...\n",
      "Constructing NJ_hamiltonian  ...\n",
      "Inverting NJ_hamiltonian  ...\n",
      "Constructing eff_hamiltonian and effective lindblad operators ...\n",
      "\n",
      "System  o-x-o  initialized in 30.1 seconds.\n"
     ]
    }
   ],
   "source": [
    "from system import *\n",
    "s1 = system('o-x-o',MMA=True,ManyVariables=False,TwoPhotonResonance= True)"
   ]
  },
  {
   "cell_type": "markdown",
   "metadata": {},
   "source": [
    "# Effective Hamiltonian as Real part\n",
    "\n",
    "Will output $Q_n$ from expression:\n",
    "\n",
    "$$\\Delta_n = - \\dfrac{\\Omega^2}{\\gamma} \\text{Re}\\{Q_n \\} $$"
   ]
  },
  {
   "cell_type": "code",
   "execution_count": 2,
   "metadata": {
    "scrolled": true
   },
   "outputs": [
    {
     "name": "stdout",
     "output_type": "stream",
     "text": [
      "Element is the real part of this expression times  Ω^2/γ\n",
      "symround: Deleted coefficient 1.1e-16\n"
     ]
    },
    {
     "data": {
      "text/html": [
       "<html><script type=\"math/tex; mode=display\">\\newcommand{\\Bold}[1]{\\mathbf{#1}}\\frac{{c}^{2} + 0.33 \\, {c} + 0.021}{-0.66i \\, C R_{f} {\\left({c} + 0.25\\right)}^{2} + {\\left({c}^{2} + 0.33 \\, {c} + 0.021\\right)} {\\tilde{\\Delta }_E}}</script></html>"
      ],
      "text/plain": [
       "(c^2 + 0.33*c + 0.021)/(-0.66*I*C*R_f*(c + 0.25)^2 + (c^2 + 0.33*c + 0.021)*DEt)"
      ]
     },
     "metadata": {},
     "output_type": "display_data"
    }
   ],
   "source": [
    "diag = 0  #input n corresponding to diag element to view\n",
    "\n",
    "var('gamma','DE','De','g','g_f','Omega','v','gamma_f','gamma_g','gamma0','De0','g0',domain='positive')\n",
    "var('DEt',domain='positive',  latex_name =r'\\tilde{\\Delta }_E')\n",
    "var('Det',domain='positive',  latex_name =r'\\tilde{\\Delta }_e')\n",
    "var('De0t',domain='positive',  latex_name =r'\\tilde{\\Delta }_{e0}')\n",
    "var('dct',domain='positive',  latex_name =r'\\tilde{\\delta }_c')\n",
    "var('DEg',domain='positive',  latex_name =r'\\Delta_{E\\gamma}')\n",
    "var('Deg',domain='positive',  latex_name =r'\\Delta_{e\\gamma}')\n",
    "var('kappa_c','kappa_b',domain='positive')\n",
    "var('C',domain='positive')\n",
    "var('c',domain='positive',  latex_name =r'c')\n",
    "\n",
    "\n",
    "#Take only one of the compl conj terms, choose the one with the shortest length when shortned\n",
    "min_expr_len = 10**10\n",
    "for term in range(2):\n",
    "    b = s1.eff_hamiltonian_gs[diag,diag]\n",
    "    #b = b.subs(gamma0=gamma)\n",
    "    \n",
    "    b = b.operands()[1].operands()[term]  #  + b.operands()[1].operands()[3] use if obtained with sage\n",
    "\n",
    "\n",
    "    b = b.subs(DE=+0.5*I*gamma_f + 0.5*I*gamma_g + DEt*gamma)\n",
    "    b = b.subs(De=+0.5*I*gamma   +Det*gamma)\n",
    "    \n",
    "    b = b.subs(De0= +0.5*I*gamma0 +De0t*gamma)\n",
    "    \n",
    "    #var('a0', latex_name =r'a_0')\n",
    "    #b = b.subs(De0=+0.5*I*gamma   +Det*gamma*a0)\n",
    "    #var('n')\n",
    "    b = b.subs(DE=DEg*gamma)\n",
    "    b = b.subs(De=Deg*gamma)\n",
    "    var('a0', latex_name =r'a_0')\n",
    "    b = b.subs(De0=a0*Deg*gamma)\n",
    "    \n",
    "    var('R_f',domain='real')#ratio  (g_f/g)^2\n",
    "    b = b.subs(g_f=g*sqrt(R_f))\n",
    "    \n",
    "    var('R0',domain='positive',  latex_name =r'R_0')\n",
    "    b = b.subs(g0=g*sqrt(R0))\n",
    "\n",
    "    var('R_v',domain='real',  latex_name =r'R_{\\nu}') #ratio (v/g)^2\n",
    "    b = b.subs(v=g*sqrt(R_v))\n",
    "\n",
    "    var('r_b',domain='real')\n",
    "    b = b.subs(kappa_b=gamma/r_b)\n",
    "\n",
    "\n",
    "    var('r_g',domain='real',latex_name =r'r_g')\n",
    "    b = b.subs(gamma_g=gamma*r_g)\n",
    "\n",
    "\n",
    "    var('r_f',domain='real',latex_name =r'r_f')\n",
    "    b = b.subs(gamma_f=gamma*r_f)\n",
    "    \n",
    "    var('r0',domain='real',latex_name =r'r_0')\n",
    "    b = b.subs(gamma0=gamma*r0)\n",
    "\n",
    "\n",
    "    b = b.subs(g = sqrt(C*kappa_c*gamma)) \n",
    "    \n",
    "    b = b.subs(dc = (dct+0.5*I)*kappa_c )\n",
    "    \n",
    "    b = b.subs(r_b = c/(C*R_v))\n",
    "    \n",
    "    b = b*gamma  #Omega has to be substituted with Omega/gamma\n",
    "    \n",
    "\n",
    "    b = b._mathematica_().Factor()._sage_()\n",
    "    b = MMA_simplify(b,full= False)\n",
    "    #holds the smallest expression\n",
    "    if len(str(b))<min_expr_len:\n",
    "        min_expr_len = len(str(b))\n",
    "        h_eff = b\n",
    "print('Element is the real part of this expression times  Ω^2/γ')\n",
    "show( (symround(h_eff,digits=1)))"
   ]
  },
  {
   "cell_type": "markdown",
   "metadata": {},
   "source": [
    "## Show the result separated in Numerator and denominator multiplying by a factor"
   ]
  },
  {
   "cell_type": "code",
   "execution_count": 60,
   "metadata": {},
   "outputs": [
    {
     "name": "stdout",
     "output_type": "stream",
     "text": [
      "numerator\n"
     ]
    },
    {
     "data": {
      "text/html": [
       "<html><script type=\"math/tex; mode=display\">\\newcommand{\\Bold}[1]{\\mathbf{#1}}-2 \\, {\\tilde{\\Delta }_e} {c} {\\tilde{\\delta }_c} - 0.500i \\, {\\tilde{\\Delta }_e} {\\tilde{\\delta }_c}^{2} + C {c} + 0.500i \\, C {\\tilde{\\delta }_c}</script></html>"
      ],
      "text/latex": [
       "$$\\newcommand{\\Bold}[1]{\\mathbf{#1}}-2 \\, {\\tilde{\\Delta }_e} {c} {\\tilde{\\delta }_c} - 0.500i \\, {\\tilde{\\Delta }_e} {\\tilde{\\delta }_c}^{2} + C {c} + 0.500i \\, C {\\tilde{\\delta }_c}$$"
      ],
      "text/plain": [
       "-2*Det*c*dct - 0.500*I*Det*dct^2 + C*c + 0.500*I*C*dct"
      ]
     },
     "metadata": {},
     "output_type": "display_data"
    },
    {
     "name": "stdout",
     "output_type": "stream",
     "text": [
      "\n",
      "\n",
      " Latex\n",
      "-2 \\, {\\tilde{\\Delta }_e} {c} {\\tilde{\\delta }_c} - 0.500i \\, {\\tilde{\\Delta }_e} {\\tilde{\\delta }_c}^{2} + C {c} + 0.500i \\, C {\\tilde{\\delta }_c}\n",
      "~~~~~~~~~~~~~~~~~~~~~~~~~~~~~~~~~~~~~~~~~~~~~~~~~~~~~~~~\n",
      "\n",
      "\n",
      "denominator\n"
     ]
    },
    {
     "data": {
      "text/html": [
       "<html><script type=\"math/tex; mode=display\">\\newcommand{\\Bold}[1]{\\mathbf{#1}}{\\left({\\tilde{\\Delta }_e} {c} + 0.500i \\, {\\tilde{\\Delta }_e} {\\tilde{\\delta }_c} - 0.500i \\, C\\right)} C R_{f} - {\\left(2 \\, {\\tilde{\\Delta }_e} {c} {\\tilde{\\delta }_c} + 0.500i \\, {\\tilde{\\Delta }_e} {\\tilde{\\delta }_c}^{2} - C {c} - 0.500i \\, C {\\tilde{\\delta }_c}\\right)} {\\tilde{\\Delta }_E}</script></html>"
      ],
      "text/latex": [
       "$$\\newcommand{\\Bold}[1]{\\mathbf{#1}}{\\left({\\tilde{\\Delta }_e} {c} + 0.500i \\, {\\tilde{\\Delta }_e} {\\tilde{\\delta }_c} - 0.500i \\, C\\right)} C R_{f} - {\\left(2 \\, {\\tilde{\\Delta }_e} {c} {\\tilde{\\delta }_c} + 0.500i \\, {\\tilde{\\Delta }_e} {\\tilde{\\delta }_c}^{2} - C {c} - 0.500i \\, C {\\tilde{\\delta }_c}\\right)} {\\tilde{\\Delta }_E}$$"
      ],
      "text/plain": [
       "(Det*c + 0.500*I*Det*dct - 0.500*I*C)*C*R_f - (2*Det*c*dct + 0.500*I*Det*dct^2 - C*c - 0.500*I*C*dct)*DEt"
      ]
     },
     "metadata": {},
     "output_type": "display_data"
    },
    {
     "name": "stdout",
     "output_type": "stream",
     "text": [
      "\n",
      "\n",
      " Latex\n",
      "{\\left({\\tilde{\\Delta }_e} {c} + 0.500i \\, {\\tilde{\\Delta }_e} {\\tilde{\\delta }_c} - 0.500i \\, C\\right)} C R_{f} - {\\left(2 \\, {\\tilde{\\Delta }_e} {c} {\\tilde{\\delta }_c} + 0.500i \\, {\\tilde{\\Delta }_e} {\\tilde{\\delta }_c}^{2} - C {c} - 0.500i \\, C {\\tilde{\\delta }_c}\\right)} {\\tilde{\\Delta }_E}\n"
     ]
    }
   ],
   "source": [
    "factor = 1#*16*4\n",
    "\n",
    "\n",
    "print('numerator')\n",
    "nu = symround(SR(str(MMA_simplify(factor*(h_eff.numerator().expand()),full=True)).replace('Sqrt','sqrt'))\\\n",
    "              ,digits=3)\n",
    "show(nu)\n",
    "print(\"\\n\\n Latex\")\n",
    "print(latex(nu))\n",
    "\n",
    "print(\"~~~~~~~~~~~~~~~~~~~~~~~~~~~~~~~~~~~~~~~~~~~~~~~~~~~~~~~~\")\n",
    "print('\\n\\ndenominator')\n",
    "den = symround(SR(str(MMA_simplify(factor*(h_eff.denominator().expand()),full= not True)).replace('Sqrt','sqrt'))\\\n",
    "               ,digits=3)\n",
    "show(den)\n",
    "print(\"\\n\\n Latex\")\n",
    "print(latex(den))"
   ]
  },
  {
   "cell_type": "markdown",
   "metadata": {},
   "source": [
    "# Lindblad Operators\n",
    "\n",
    "Choose which of the Lindblad operators to view and which non zero element of it"
   ]
  },
  {
   "cell_type": "code",
   "execution_count": 30,
   "metadata": {
    "scrolled": true
   },
   "outputs": [],
   "source": [
    "\n",
    "def lind(lind_op,which):    \n",
    "    L_matrix_orig = s1.lindblad_list[lind_op]\n",
    "    L_matrix      = s1.eff_lindblad_list[lind_op] #lindblad_list[lind_op] ##(gamma_g=0,gamma_f=gamma)\n",
    "\n",
    "    L_nonzeros = []\n",
    "    L_nonzeros_pos = []\n",
    "    #find non zero elements\n",
    "    for i in  range(L_matrix.nrows()):\n",
    "        for j in  range(L_matrix.ncols()):\n",
    "            if not L_matrix[i,j].is_zero():\n",
    "                L_nonzeros.append(L_matrix[i,j])\n",
    "                L_nonzeros_pos.append((i,j))\n",
    "\n",
    "    #show what these elements do \n",
    "    #for t in L_nonzeros_pos:\n",
    "    #    print(f' |{s1.gs_e1_dec_states[t[0]]}> < {s1.gs_e1_dec_states[t[1]]} | ')\n",
    "\n",
    "    L_elem = L_nonzeros[which]\n",
    "\n",
    "    var('gamma_f')\n",
    "    var('R0',domain='real',latex_name =r'R_0')\n",
    "    L_elem = L_elem.subs(DE=+0.5*I*gamma_f + 0.5*I*gamma_g + DEt*gamma)\n",
    "    L_elem = L_elem.subs(De=+0.5*I*gamma   +Det*gamma)\n",
    "    L_elem = L_elem.subs(De0=+0.5*I*gamma0   +De0t*gamma*R0)\n",
    "    #L_elem = L_elem.subs(DE=gamma*DEg)\n",
    "    #L_elem = L_elem.subs(De=gamma*Deg)                     \n",
    "    #COUPLINGS\n",
    "    b = L_elem\n",
    "    #ratio  (g_0/g)^2\n",
    "    b = b.subs(g0=g*sqrt(R0))\n",
    "    \n",
    "    var('R_f',domain='real')#ratio  (g_f/g)^2\n",
    "    b = b.subs(g_f=g*sqrt(R_f))\n",
    "\n",
    "    var('R_v',domain='real',  latex_name =r'R_{\\nu}') #ratio (v/g)^2\n",
    "    b = b.subs(v=g*sqrt(R_v))\n",
    "\n",
    "    var('r_b',domain='real')\n",
    "    b = b.subs(kappa_b=gamma/r_b)\n",
    "\n",
    "\n",
    "    var('r_g',domain='real',latex_name =r'r_g')\n",
    "    b = b.subs(gamma_g=gamma*r_g)\n",
    "\n",
    "\n",
    "    var('r_f',domain='real',latex_name =r'r_f')\n",
    "    b = b.subs(gamma_f=gamma*r_f)\n",
    "\n",
    "\n",
    "    b = b.subs(g = sqrt(C*kappa_c*gamma)) \n",
    "    \n",
    "    b = b.subs(r_b = c/(C*R_v))\n",
    "    \n",
    "    b = b.subs(dc = (dct+0.5*I)*kappa_c )\n",
    "    \n",
    "    \n",
    "    L_elem = b\n",
    "    \n",
    "  \n",
    "    L_elem = L_elem._mathematica_().PowerExpand()._sage_()\n",
    "    L_elem = L_elem._mathematica_().Factor()._sage_()\n",
    "\n",
    "\n",
    "    L_elem = MMA_simplify(L_elem,full=not True)\n",
    "\n",
    "    L_elem = SR(str(L_elem).replace('Sqrt','sqrt'))\n",
    "\n",
    "    \n",
    "\n",
    "    show( symround(L_elem))\n",
    "\n",
    "    print(f' |{s1.gs_e1_dec_states[L_nonzeros_pos[which][0]]}> < {s1.gs_e1_dec_states[L_nonzeros_pos[which][1]]} | \\n')\n",
    "    print(f' Original coefficient :')\n",
    "    show(s1.L_coeffs[lind_op])\n",
    "    return L_elem\n"
   ]
  },
  {
   "cell_type": "markdown",
   "metadata": {},
   "source": [
    "## View Lindblad results"
   ]
  },
  {
   "cell_type": "code",
   "execution_count": 37,
   "metadata": {},
   "outputs": [
    {
     "data": {
      "text/html": [
       "<html><script type=\"math/tex; mode=display\">\\newcommand{\\Bold}[1]{\\mathbf{#1}}\\frac{{\\left({\\left(4 \\, {c}^{2} + 3 \\, {c} + 0.25\\right)} C {\\left({\\tilde{\\Delta }_{e0}} + {\\tilde{\\Delta }_e}\\right)} - {\\left(-6 i \\, {c}^{2} - 2 i \\, {c} - 0.12i\\right)} {\\tilde{\\Delta }_{e0}} {\\tilde{\\Delta }_e} - C^{2} {\\left(4 i \\, {c} + 0.50i\\right)}\\right)} {\\Omega} \\sqrt{{r_g}}}{{\\left({\\left(4 \\, {\\tilde{\\Delta }_{e0}} {\\tilde{\\Delta }_e} {\\left({c} + 0.25\\right)}^{2} - {\\left(2 i \\, {\\tilde{\\Delta }_{e0}} {c} + 2 i \\, {\\tilde{\\Delta }_e} {c} + 0.50i \\, {\\tilde{\\Delta }_{e0}} + 0.50i \\, {\\tilde{\\Delta }_e}\\right)} C - C^{2}\\right)} C R_{f} + {\\left({\\left(4 \\, {c}^{2} + 3 \\, {c} + 0.25\\right)} C {\\left({\\tilde{\\Delta }_{e0}} + {\\tilde{\\Delta }_e}\\right)} - {\\left(-6 i \\, {c}^{2} - 2 i \\, {c} - 0.12i\\right)} {\\tilde{\\Delta }_{e0}} {\\tilde{\\Delta }_e} - C^{2} {\\left(4 i \\, {c} + 0.50i\\right)}\\right)} {\\tilde{\\Delta }_E}\\right)} \\sqrt{{\\gamma}}}</script></html>"
      ],
      "text/latex": [
       "$$\\newcommand{\\Bold}[1]{\\mathbf{#1}}\\frac{{\\left({\\left(4 \\, {c}^{2} + 3 \\, {c} + 0.25\\right)} C {\\left({\\tilde{\\Delta }_{e0}} + {\\tilde{\\Delta }_e}\\right)} - {\\left(-6 i \\, {c}^{2} - 2 i \\, {c} - 0.12i\\right)} {\\tilde{\\Delta }_{e0}} {\\tilde{\\Delta }_e} - C^{2} {\\left(4 i \\, {c} + 0.50i\\right)}\\right)} {\\Omega} \\sqrt{{r_g}}}{{\\left({\\left(4 \\, {\\tilde{\\Delta }_{e0}} {\\tilde{\\Delta }_e} {\\left({c} + 0.25\\right)}^{2} - {\\left(2 i \\, {\\tilde{\\Delta }_{e0}} {c} + 2 i \\, {\\tilde{\\Delta }_e} {c} + 0.50i \\, {\\tilde{\\Delta }_{e0}} + 0.50i \\, {\\tilde{\\Delta }_e}\\right)} C - C^{2}\\right)} C R_{f} + {\\left({\\left(4 \\, {c}^{2} + 3 \\, {c} + 0.25\\right)} C {\\left({\\tilde{\\Delta }_{e0}} + {\\tilde{\\Delta }_e}\\right)} - {\\left(-6 i \\, {c}^{2} - 2 i \\, {c} - 0.12i\\right)} {\\tilde{\\Delta }_{e0}} {\\tilde{\\Delta }_e} - C^{2} {\\left(4 i \\, {c} + 0.50i\\right)}\\right)} {\\tilde{\\Delta }_E}\\right)} \\sqrt{{\\gamma}}}$$"
      ],
      "text/plain": [
       "((4*c^2 + 3*c + 0.25)*C*(De0t + Det) - (-6*I*c^2 - 2*I*c - 0.12*I)*De0t*Det - C^2*(4*I*c + 0.50*I))*Omega*sqrt(r_g)/(((4*De0t*Det*(c + 0.25)^2 - (2*I*De0t*c + 2*I*Det*c + 0.50*I*De0t + 0.50*I*Det)*C - C^2)*C*R_f + ((4*c^2 + 3*c + 0.25)*C*(De0t + Det) - (-6*I*c^2 - 2*I*c - 0.12*I)*De0t*Det - C^2*(4*I*c + 0.50*I))*DEt)*sqrt(gamma))"
      ]
     },
     "metadata": {},
     "output_type": "display_data"
    },
    {
     "name": "stdout",
     "output_type": "stream",
     "text": [
      " |0000g001> < 0000g001 | \n",
      "\n",
      " Original coefficient :\n"
     ]
    },
    {
     "data": {
      "text/html": [
       "<html><script type=\"math/tex; mode=display\">\\newcommand{\\Bold}[1]{\\mathbf{#1}}\\sqrt{{\\gamma_g}}</script></html>"
      ],
      "text/latex": [
       "$$\\newcommand{\\Bold}[1]{\\mathbf{#1}}\\sqrt{{\\gamma_g}}$$"
      ],
      "text/plain": [
       "sqrt(gamma_g)"
      ]
     },
     "metadata": {},
     "output_type": "display_data"
    },
    {
     "name": "stdout",
     "output_type": "stream",
     "text": [
      "\\frac{{\\left({\\left(4 \\, {c}^{2} + 3 \\, {c} + 0.25\\right)} C {\\left({\\tilde{\\Delta }_{e0}} + {\\tilde{\\Delta }_e}\\right)} - {\\left(-6 i \\, {c}^{2} - 2 i \\, {c} - 0.12i\\right)} {\\tilde{\\Delta }_{e0}} {\\tilde{\\Delta }_e} - C^{2} {\\left(4 i \\, {c} + 0.50i\\right)}\\right)} {\\Omega} \\sqrt{{r_g}}}{{\\left({\\left(4 \\, {\\tilde{\\Delta }_{e0}} {\\tilde{\\Delta }_e} {\\left({c} + 0.25\\right)}^{2} - {\\left(2 i \\, {\\tilde{\\Delta }_{e0}} {c} + 2 i \\, {\\tilde{\\Delta }_e} {c} + 0.50i \\, {\\tilde{\\Delta }_{e0}} + 0.50i \\, {\\tilde{\\Delta }_e}\\right)} C - C^{2}\\right)} C R_{f} + {\\left({\\left(4 \\, {c}^{2} + 3 \\, {c} + 0.25\\right)} C {\\left({\\tilde{\\Delta }_{e0}} + {\\tilde{\\Delta }_e}\\right)} - {\\left(-6 i \\, {c}^{2} - 2 i \\, {c} - 0.12i\\right)} {\\tilde{\\Delta }_{e0}} {\\tilde{\\Delta }_e} - C^{2} {\\left(4 i \\, {c} + 0.50i\\right)}\\right)} {\\tilde{\\Delta }_E}\\right)} \\sqrt{{\\gamma}}}\n"
     ]
    }
   ],
   "source": [
    "lind_op = 6  #which lindblad operator\n",
    "which   = 1  #which non zero element to access\n",
    "L_elem = lind(lind_op,which)\n",
    "\n",
    "print(latex(symround(L_elem)))\n"
   ]
  },
  {
   "cell_type": "code",
   "execution_count": 40,
   "metadata": {},
   "outputs": [
    {
     "name": "stdout",
     "output_type": "stream",
     "text": [
      "numerator\n"
     ]
    },
    {
     "data": {
      "text/html": [
       "<html><script type=\"math/tex; mode=display\">\\newcommand{\\Bold}[1]{\\mathbf{#1}}{\\left(2 \\, {\\left(16 \\, {c}^{2} + 12 \\, {c} + 1\\right)} C {\\left({\\tilde{\\Delta }_{e0}} + {\\tilde{\\Delta }_e}\\right)} + {\\left(48 i \\, {c}^{2} + 16 i \\, {c} + i\\right)} {\\tilde{\\Delta }_{e0}} {\\tilde{\\Delta }_e} + C^{2} {\\left(-32 i \\, {c} - 4 i\\right)}\\right)} {\\Omega} \\sqrt{{r_g}}</script></html>"
      ],
      "text/latex": [
       "$$\\newcommand{\\Bold}[1]{\\mathbf{#1}}{\\left(2 \\, {\\left(16 \\, {c}^{2} + 12 \\, {c} + 1\\right)} C {\\left({\\tilde{\\Delta }_{e0}} + {\\tilde{\\Delta }_e}\\right)} + {\\left(48 i \\, {c}^{2} + 16 i \\, {c} + i\\right)} {\\tilde{\\Delta }_{e0}} {\\tilde{\\Delta }_e} + C^{2} {\\left(-32 i \\, {c} - 4 i\\right)}\\right)} {\\Omega} \\sqrt{{r_g}}$$"
      ],
      "text/plain": [
       "(2*(16*c^2 + 12*c + 1)*C*(De0t + Det) + (48*I*c^2 + 16*I*c + I)*De0t*Det + C^2*(-32*I*c - 4*I))*Omega*sqrt(r_g)"
      ]
     },
     "metadata": {},
     "output_type": "display_data"
    },
    {
     "name": "stdout",
     "output_type": "stream",
     "text": [
      "\n",
      "\n",
      " Latex\n",
      "{\\left(2 \\, {\\left(16 \\, {c}^{2} + 12 \\, {c} + 1\\right)} C {\\left({\\tilde{\\Delta }_{e0}} + {\\tilde{\\Delta }_e}\\right)} + {\\left(48 i \\, {c}^{2} + 16 i \\, {c} + i\\right)} {\\tilde{\\Delta }_{e0}} {\\tilde{\\Delta }_e} + C^{2} {\\left(-32 i \\, {c} - 4 i\\right)}\\right)} {\\Omega} \\sqrt{{r_g}}\n",
      "~~~~~~~~~~~~~~~~~~~~~~~~~~~~~~~~~~~~~~~~~~~~~~~~~~~~~~~~\n",
      "\n",
      "\n",
      "denominator\n"
     ]
    },
    {
     "data": {
      "text/html": [
       "<html><script type=\"math/tex; mode=display\">\\newcommand{\\Bold}[1]{\\mathbf{#1}}{\\left({\\left(32 \\, {\\tilde{\\Delta }_{e0}} {\\tilde{\\Delta }_e} {\\left({c} + 0.250\\right)}^{2} + {\\left(-16 i \\, {\\tilde{\\Delta }_{e0}} {c} - 16 i \\, {\\tilde{\\Delta }_e} {c} - 4 i \\, {\\tilde{\\Delta }_{e0}} - 4 i \\, {\\tilde{\\Delta }_e}\\right)} C - 8 \\, C^{2}\\right)} C R_{f} + {\\left(2 \\, {\\left(16 \\, {c}^{2} + 12 \\, {c} + 1\\right)} C {\\left({\\tilde{\\Delta }_{e0}} + {\\tilde{\\Delta }_e}\\right)} + {\\left(48 i \\, {c}^{2} + 16 i \\, {c} + i\\right)} {\\tilde{\\Delta }_{e0}} {\\tilde{\\Delta }_e} + C^{2} {\\left(-32 i \\, {c} - 4 i\\right)}\\right)} {\\tilde{\\Delta }_E}\\right)} \\sqrt{{\\gamma}}</script></html>"
      ],
      "text/latex": [
       "$$\\newcommand{\\Bold}[1]{\\mathbf{#1}}{\\left({\\left(32 \\, {\\tilde{\\Delta }_{e0}} {\\tilde{\\Delta }_e} {\\left({c} + 0.250\\right)}^{2} + {\\left(-16 i \\, {\\tilde{\\Delta }_{e0}} {c} - 16 i \\, {\\tilde{\\Delta }_e} {c} - 4 i \\, {\\tilde{\\Delta }_{e0}} - 4 i \\, {\\tilde{\\Delta }_e}\\right)} C - 8 \\, C^{2}\\right)} C R_{f} + {\\left(2 \\, {\\left(16 \\, {c}^{2} + 12 \\, {c} + 1\\right)} C {\\left({\\tilde{\\Delta }_{e0}} + {\\tilde{\\Delta }_e}\\right)} + {\\left(48 i \\, {c}^{2} + 16 i \\, {c} + i\\right)} {\\tilde{\\Delta }_{e0}} {\\tilde{\\Delta }_e} + C^{2} {\\left(-32 i \\, {c} - 4 i\\right)}\\right)} {\\tilde{\\Delta }_E}\\right)} \\sqrt{{\\gamma}}$$"
      ],
      "text/plain": [
       "((32*De0t*Det*(c + 0.250)^2 + (-16*I*De0t*c - 16*I*Det*c - 4*I*De0t - 4*I*Det)*C - 8*C^2)*C*R_f + (2*(16*c^2 + 12*c + 1)*C*(De0t + Det) + (48*I*c^2 + 16*I*c + I)*De0t*Det + C^2*(-32*I*c - 4*I))*DEt)*sqrt(gamma)"
      ]
     },
     "metadata": {},
     "output_type": "display_data"
    },
    {
     "name": "stdout",
     "output_type": "stream",
     "text": [
      "\n",
      "\n",
      " Latex\n",
      "{\\left({\\left(32 \\, {\\tilde{\\Delta }_{e0}} {\\tilde{\\Delta }_e} {\\left({c} + 0.250\\right)}^{2} + {\\left(-16 i \\, {\\tilde{\\Delta }_{e0}} {c} - 16 i \\, {\\tilde{\\Delta }_e} {c} - 4 i \\, {\\tilde{\\Delta }_{e0}} - 4 i \\, {\\tilde{\\Delta }_e}\\right)} C - 8 \\, C^{2}\\right)} C R_{f} + {\\left(2 \\, {\\left(16 \\, {c}^{2} + 12 \\, {c} + 1\\right)} C {\\left({\\tilde{\\Delta }_{e0}} + {\\tilde{\\Delta }_e}\\right)} + {\\left(48 i \\, {c}^{2} + 16 i \\, {c} + i\\right)} {\\tilde{\\Delta }_{e0}} {\\tilde{\\Delta }_e} + C^{2} {\\left(-32 i \\, {c} - 4 i\\right)}\\right)} {\\tilde{\\Delta }_E}\\right)} \\sqrt{{\\gamma}}\n"
     ]
    }
   ],
   "source": [
    "factor = -8\n",
    "\n",
    "\n",
    "print('numerator')\n",
    "nu = symround(SR(str(MMA_simplify(factor*(L_elem.numerator().expand()),full=not True)).replace('Sqrt','sqrt'))\\\n",
    "              ,digits=3)\n",
    "show(nu)\n",
    "print(\"\\n\\n Latex\")\n",
    "print(latex(nu))\n",
    "\n",
    "print(\"~~~~~~~~~~~~~~~~~~~~~~~~~~~~~~~~~~~~~~~~~~~~~~~~~~~~~~~~\")\n",
    "print('\\n\\ndenominator')\n",
    "den = symround(SR(str(MMA_simplify(factor*(L_elem.denominator().expand()),full=not True)).replace('Sqrt','sqrt'))\\\n",
    "               ,digits=3)\n",
    "show(den)\n",
    "print(\"\\n\\n Latex\")\n",
    "print(latex(den))"
   ]
  },
  {
   "cell_type": "markdown",
   "metadata": {},
   "source": [
    "# Expand linearly in the limit:   $C\\rightarrow \\infty$ routine"
   ]
  },
  {
   "cell_type": "code",
   "execution_count": null,
   "metadata": {},
   "outputs": [
    {
     "data": {
      "text/html": [
       "<html><script type=\"math/tex; mode=display\">\\newcommand{\\Bold}[1]{\\mathbf{#1}}\\frac{{\\left(2 i \\, {R_{\\nu}} {c_\\kappa} + 0.66i\\right)} {R_{\\nu}} {c_\\kappa} + 0.042i}{{\\left({\\left(2 i \\, {\\Delta E} + 1.3 \\, R_{f}\\right)} {R_{\\nu}}^{2} {c_\\kappa}^{2} + {\\left(0.66i \\, {\\Delta E} + R_{f}\\right)} {R_{\\nu}} {c_\\kappa} + 0.042i \\, {\\Delta E} + 0.083 \\, R_{f}\\right)} C}</script></html>"
      ],
      "text/latex": [
       "$$\\newcommand{\\Bold}[1]{\\mathbf{#1}}\\frac{{\\left(2 i \\, {R_{\\nu}} {c_\\kappa} + 0.66i\\right)} {R_{\\nu}} {c_\\kappa} + 0.042i}{{\\left({\\left(2 i \\, {\\Delta E} + 1.3 \\, R_{f}\\right)} {R_{\\nu}}^{2} {c_\\kappa}^{2} + {\\left(0.66i \\, {\\Delta E} + R_{f}\\right)} {R_{\\nu}} {c_\\kappa} + 0.042i \\, {\\Delta E} + 0.083 \\, R_{f}\\right)} C}$$"
      ],
      "text/plain": [
       "((2*I*R_v*c_k + 0.66*I)*R_v*c_k + 0.042*I)/(((2*I*DE + 1.3*R_f)*R_v^2*c_k^2 + (0.66*I*DE + R_f)*R_v*c_k + 0.042*I*DE + 0.083*R_f)*C)"
      ]
     },
     "metadata": {},
     "output_type": "display_data"
    }
   ],
   "source": [
    "#with mathematica\n",
    "q = b.subs(C=1/x)\n",
    "q = MMA_simplify(q)\n",
    "tayl = q._mathematica_().Series((x,0,1)).Normal()._sage_()\n",
    "tayl = tayl.subs(x=1/C)\n",
    "\n",
    "show(symround(tayl))\n"
   ]
  }
 ],
 "metadata": {
  "kernelspec": {
   "display_name": "SageMath 9.0",
   "language": "sage",
   "name": "sagemath"
  },
  "language_info": {
   "codemirror_mode": {
    "name": "ipython",
    "version": 3
   },
   "file_extension": ".py",
   "mimetype": "text/x-python",
   "name": "python",
   "nbconvert_exporter": "python",
   "pygments_lexer": "ipython3",
   "version": "3.8.10"
  }
 },
 "nbformat": 4,
 "nbformat_minor": 5
}
