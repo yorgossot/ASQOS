{
 "cells": [
  {
   "cell_type": "code",
   "execution_count": 1,
   "id": "079af908",
   "metadata": {},
   "outputs": [
    {
     "name": "stdout",
     "output_type": "stream",
     "text": [
      "Constructing states and excitations...\n",
      "Constructing ground and first-excited statespace...\n",
      "Constructing gs_hamiltonian ...\n",
      "Constructing e1_hamiltonian ...\n",
      "Constructing interactions V_plus and V_minus ...\n",
      "Constructing NJ_hamiltonian  ...\n",
      "Inverting NJ_hamiltonian  ...\n",
      "Constructing eff_hamiltonian and effective lindblau operators ...\n",
      "Solving effective Lindblau master equation ...\n",
      "\n",
      "System  3  initialized!\n"
     ]
    }
   ],
   "source": [
    "from system import *\n",
    "s1 = system('3')"
   ]
  },
  {
   "cell_type": "code",
   "execution_count": 11,
   "id": "dcd1b00f",
   "metadata": {},
   "outputs": [
    {
     "data": {
      "text/html": [
       "<html><script type=\"math/tex; mode=display\">\\newcommand{\\Bold}[1]{\\mathbf{#1}}-0.5 \\, {\\Omega}^{2} {\\left(\\frac{1}{1.0 \\, {\\Delta E} + 0.5i \\, {\\gamma_f}} + \\frac{1}{1.0 \\, {\\Delta E} - 0.5i \\, {\\gamma_f}} + \\frac{1.0 \\, g^{2}}{{\\left(1.0 \\, {\\Delta E} + 0.5i \\, {\\gamma_f}\\right)}^{2} {\\left(-\\frac{1.0 \\, g^{2}}{1.0 \\, {\\Delta E} + 0.5i \\, {\\gamma_f}} - \\frac{3.0 \\, g^{2}}{1.0 \\, {\\Delta e} + 0.5i \\, {\\gamma}} + 0.5i \\, {\\kappa_c}\\right)}} + \\frac{1.0 \\, g^{2}}{{\\left(1.0 \\, {\\Delta E} - 0.5i \\, {\\gamma_f}\\right)}^{2} {\\left(-\\frac{1.0 \\, g^{2}}{1.0 \\, {\\Delta E} - 0.5i \\, {\\gamma_f}} - \\frac{3.0 \\, g^{2}}{1.0 \\, {\\Delta e} - 0.5i \\, {\\gamma}} - 0.5i \\, {\\kappa_c}\\right)}}\\right)}</script></html>"
      ],
      "text/plain": [
       "-0.5*Omega^2*(1/(1.0*DE + 0.5*I*gamma_f) + 1/(1.0*DE - 0.5*I*gamma_f) + 1.0*g^2/((1.0*DE + 0.5*I*gamma_f)^2*(-1.0*g^2/(1.0*DE + 0.5*I*gamma_f) - 3.0*g^2/(1.0*De + 0.5*I*gamma) + 0.5*I*kappa_c)) + 1.0*g^2/((1.0*DE - 0.5*I*gamma_f)^2*(-1.0*g^2/(1.0*DE - 0.5*I*gamma_f) - 3.0*g^2/(1.0*De - 0.5*I*gamma) - 0.5*I*kappa_c)))"
      ]
     },
     "metadata": {},
     "output_type": "display_data"
    }
   ],
   "source": [
    "show((s1.eff_hamiltonian_gs[7,7])(gamma_g=0 ))"
   ]
  },
  {
   "cell_type": "code",
   "execution_count": 7,
   "id": "06b937ce",
   "metadata": {},
   "outputs": [
    {
     "data": {
      "text/html": [
       "<html><script type=\"math/tex; mode=display\">\\newcommand{\\Bold}[1]{\\mathbf{#1}}\\verb|['0g000'|\\phantom{\\verb!x!}\\verb|'0g001'|\\phantom{\\verb!x!}\\verb|'0g010'|\\phantom{\\verb!x!}\\verb|'0g011'|\\phantom{\\verb!x!}\\verb|'0g100'|\\phantom{\\verb!x!}\\verb|'0g101'|\\phantom{\\verb!x!}\\verb|'0g110'|\\phantom{\\verb!x!}\\verb|'0g111']|</script></html>"
      ],
      "text/plain": [
       "array(['0g000', '0g001', '0g010', '0g011', '0g100', '0g101', '0g110',\n",
       "       '0g111'], dtype='<U20')"
      ]
     },
     "metadata": {},
     "output_type": "display_data"
    }
   ],
   "source": [
    "show(s1.gs_states)"
   ]
  },
  {
   "cell_type": "code",
   "execution_count": null,
   "id": "979ca8af",
   "metadata": {},
   "outputs": [],
   "source": []
  }
 ],
 "metadata": {
  "kernelspec": {
   "display_name": "SageMath 9.0",
   "language": "sage",
   "name": "sagemath"
  },
  "language_info": {
   "codemirror_mode": {
    "name": "ipython",
    "version": 3
   },
   "file_extension": ".py",
   "mimetype": "text/x-python",
   "name": "python",
   "nbconvert_exporter": "python",
   "pygments_lexer": "ipython3",
   "version": "3.8.5"
  }
 },
 "nbformat": 4,
 "nbformat_minor": 5
}
