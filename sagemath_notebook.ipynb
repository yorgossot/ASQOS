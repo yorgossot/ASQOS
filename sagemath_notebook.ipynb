{
 "cells": [
  {
   "cell_type": "code",
   "execution_count": 6,
   "id": "a43f3bbd",
   "metadata": {
    "scrolled": false
   },
   "outputs": [
    {
     "name": "stdout",
     "output_type": "stream",
     "text": [
      "Initializing system 2  ...\n",
      "Constructing states and excitations...\n",
      "Constructing ground and first-excited statespace...\n",
      "Constructing gs_hamiltonian ...\n",
      "Constructing e1_hamiltonian ...\n",
      "Constructing interactions V_plus and V_minus ...\n",
      "Constructing NJ_hamiltonian  ...\n",
      "Inverting NJ_hamiltonian  ...\n",
      "Constructing eff_hamiltonian and effective lindblau operators ...\n",
      "\n",
      "System  2  initialized in 3.0 seconds.\n"
     ]
    }
   ],
   "source": [
    "from system import *\n",
    "\n",
    "s1 = system('2',MMA=True)"
   ]
  },
  {
   "cell_type": "markdown",
   "id": "20c87d69",
   "metadata": {},
   "source": [
    "# Effective Hamiltonian as Real part\n",
    "\n",
    "Will output $Q_n$ from expression:\n",
    "\n",
    "$$\\Delta_n = - \\dfrac{\\Omega^2}{\\gamma} \\text{Re}\\{Q_n \\} $$"
   ]
  },
  {
   "cell_type": "code",
   "execution_count": 7,
   "id": "6398d4bb",
   "metadata": {
    "scrolled": true
   },
   "outputs": [
    {
     "data": {
      "text/html": [
       "<html><script type=\"math/tex; mode=display\">\\newcommand{\\Bold}[1]{\\mathbf{#1}}\\frac{C {r_c} + 0.50i \\, {\\tilde{\\Delta }_e}}{{\\left({\\tilde{\\Delta }_e} R_{f} + {\\tilde{\\Delta }_E}\\right)} C {r_c} + 0.50i \\, {\\tilde{\\Delta }_E} {\\tilde{\\Delta }_e}}</script></html>"
      ],
      "text/latex": [
       "$$\\newcommand{\\Bold}[1]{\\mathbf{#1}}\\frac{C {r_c} + 0.50i \\, {\\tilde{\\Delta }_e}}{{\\left({\\tilde{\\Delta }_e} R_{f} + {\\tilde{\\Delta }_E}\\right)} C {r_c} + 0.50i \\, {\\tilde{\\Delta }_E} {\\tilde{\\Delta }_e}}$$"
      ],
      "text/plain": [
       "(C*r_c + 0.50*I*Det)/((Det*R_f + DEt)*C*r_c + 0.50*I*DEt*Det)"
      ]
     },
     "metadata": {},
     "output_type": "display_data"
    }
   ],
   "source": [
    "diag = 2  #input n corresponding to diag element\n",
    "\n",
    "var('gamma','DE','De','g','g_f','Omega','v','gamma_f','gamma_g',domain='positive')\n",
    "var('DEt',domain='positive',  latex_name =r'\\tilde{\\Delta }_E')\n",
    "var('Det',domain='positive',  latex_name =r'\\tilde{\\Delta }_e')\n",
    "var('kappa_c','kappa_b',domain='positive')\n",
    "var('C',domain='positive')\n",
    "\n",
    "\n",
    "#(gamma_f=gamma)#gamma_g=0,\n",
    "\n",
    "#Take only one of the compl conj terms. Switch maybe second 0 to 1\n",
    "min_expr_len = 10**10\n",
    "for term in range(2):\n",
    "    b = s1.eff_hamiltonian_gs[diag,diag]\n",
    "    b = b.operands()[1].operands()[term]  #  + b.operands()[1].operands()[3] use if obtained with sage\n",
    "\n",
    "    b = b.subs(DE=+0.5*I*gamma_f + 0.5*I*gamma_g + DEt*gamma)\n",
    "    b = b.subs(De=+0.5*I*gamma   +Det*gamma)\n",
    "\n",
    "    var('R_f',domain='real')#ratio  (g_f/g)^2\n",
    "    b = b.subs(g_f=g*sqrt(R_f))\n",
    "\n",
    "    var('R_v',domain='real',  latex_name =r'R_{\\nu}') #ratio (v/g)^2\n",
    "    b = b.subs(v=g*sqrt(R_v))\n",
    "\n",
    "    var('r_b',domain='real')\n",
    "    b = b.subs(kappa_b=gamma/r_b)\n",
    "\n",
    "    var('r_c',domain='real',latex_name =r'r_c')\n",
    "    b = b.subs(kappa_c=gamma/r_c)\n",
    "\n",
    "\n",
    "    b = b.subs(g = sqrt(C)*gamma) \n",
    "\n",
    "    b = b*gamma  #Omega has to be substituted with Omega/gamma\n",
    "    \n",
    "\n",
    "    b = b._mathematica_().Factor()._sage_()\n",
    "    b = MMA_simplify(b,full=True)\n",
    "    #holds the smallest expression\n",
    "    if len(str(b))<min_expr_len:\n",
    "        min_expr_len = len(str(b))\n",
    "        h_eff = b\n",
    "\n",
    "show( symround(h_eff))"
   ]
  },
  {
   "cell_type": "markdown",
   "id": "407a99a6",
   "metadata": {},
   "source": [
    "# Expand linearly in the limit:   $C\\rightarrow \\infty$"
   ]
  },
  {
   "cell_type": "code",
   "execution_count": 8,
   "id": "def83d4b",
   "metadata": {},
   "outputs": [
    {
     "data": {
      "text/html": [
       "<html><script type=\"math/tex; mode=display\">\\newcommand{\\Bold}[1]{\\mathbf{#1}}\\frac{1}{{\\tilde{\\Delta }_e} R_{f} + {\\tilde{\\Delta }_E}} + \\frac{0.50i \\, {\\tilde{\\Delta }_e}^{2} R_{f}}{{\\left({\\tilde{\\Delta }_e} R_{f} + {\\tilde{\\Delta }_E}\\right)}^{2} C {r_c}}</script></html>"
      ],
      "text/latex": [
       "$$\\newcommand{\\Bold}[1]{\\mathbf{#1}}\\frac{1}{{\\tilde{\\Delta }_e} R_{f} + {\\tilde{\\Delta }_E}} + \\frac{0.50i \\, {\\tilde{\\Delta }_e}^{2} R_{f}}{{\\left({\\tilde{\\Delta }_e} R_{f} + {\\tilde{\\Delta }_E}\\right)}^{2} C {r_c}}$$"
      ],
      "text/plain": [
       "1/(Det*R_f + DEt) + 0.50*I*Det^2*R_f/((Det*R_f + DEt)^2*C*r_c)"
      ]
     },
     "metadata": {},
     "output_type": "display_data"
    }
   ],
   "source": [
    "#with mathematica\n",
    "q = b.subs(C=1/x)\n",
    "q = MMA_simplify(q)\n",
    "tayl = q._mathematica_().Series((x,0,1)).Normal()._sage_()\n",
    "tayl = tayl.subs(x=1/C)\n",
    "#t = q._mathematica_().Series((x,0,2))\n",
    "#t_exp = t[3]\n",
    "#t_st = t[4]\n",
    "#tayl = 0\n",
    "#for i in range(1,len(t_exp)):\n",
    "#    tayl += MMA_simplify( t_exp[i]._sage_() ) / C**(i-1+Integer(t[4]))\n",
    "\n",
    "show(symround(tayl))\n",
    "\n",
    "#with sage\n",
    "#tayl = b.taylor(C_c,infinity, 1)\n",
    "#show(symround(MMA_simplify(tayl)))"
   ]
  },
  {
   "cell_type": "markdown",
   "id": "1498df0a",
   "metadata": {},
   "source": [
    "# Lindblau Operators\n",
    "\n",
    "Choose which of the Lindblau operators to view and which non zero element of it"
   ]
  },
  {
   "cell_type": "code",
   "execution_count": 10,
   "id": "847371b4",
   "metadata": {
    "scrolled": true
   },
   "outputs": [
    {
     "data": {
      "text/html": [
       "<html><script type=\"math/tex; mode=display\">\\newcommand{\\Bold}[1]{\\mathbf{#1}}\\frac{{\\left(C {r_c} + 0.50i \\, {\\tilde{\\Delta }_e}\\right)} {\\Omega} \\sqrt{\\frac{{\\gamma}}{{r_g}}}}{{\\left({\\left({\\tilde{\\Delta }_e} R_{f} + {\\tilde{\\Delta }_E}\\right)} C {r_c} + 0.50i \\, {\\tilde{\\Delta }_E} {\\tilde{\\Delta }_e}\\right)} {\\gamma}}</script></html>"
      ],
      "text/latex": [
       "$$\\newcommand{\\Bold}[1]{\\mathbf{#1}}\\frac{{\\left(C {r_c} + 0.50i \\, {\\tilde{\\Delta }_e}\\right)} {\\Omega} \\sqrt{\\frac{{\\gamma}}{{r_g}}}}{{\\left({\\left({\\tilde{\\Delta }_e} R_{f} + {\\tilde{\\Delta }_E}\\right)} C {r_c} + 0.50i \\, {\\tilde{\\Delta }_E} {\\tilde{\\Delta }_e}\\right)} {\\gamma}}$$"
      ],
      "text/plain": [
       "(C*r_c + 0.50*I*Det)*Omega*sqrt(gamma/r_g)/(((Det*R_f + DEt)*C*r_c + 0.50*I*DEt*Det)*gamma)"
      ]
     },
     "metadata": {},
     "output_type": "display_data"
    },
    {
     "name": "stdout",
     "output_type": "stream",
     "text": [
      " |0f01> < 0g01 | \n",
      "\n",
      " Original coefficient :\n"
     ]
    },
    {
     "data": {
      "text/html": [
       "<html><script type=\"math/tex; mode=display\">\\newcommand{\\Bold}[1]{\\mathbf{#1}}\\sqrt{{\\gamma_g}}</script></html>"
      ],
      "text/latex": [
       "$$\\newcommand{\\Bold}[1]{\\mathbf{#1}}\\sqrt{{\\gamma_g}}$$"
      ],
      "text/plain": [
       "sqrt(gamma_g)"
      ]
     },
     "metadata": {},
     "output_type": "display_data"
    }
   ],
   "source": [
    "def lind(lind_op,which):    \n",
    "    L_matrix_orig = s1.lindblau_list[lind_op]\n",
    "    L_matrix      = s1.eff_lindblau_list[lind_op] #lindblau_list[lind_op] ##(gamma_g=0,gamma_f=gamma)\n",
    "\n",
    "    L_nonzeros = []\n",
    "    L_nonzeros_pos = []\n",
    "    #find non zero elements\n",
    "    for i in  range(L_matrix.nrows()):\n",
    "        for j in  range(L_matrix.ncols()):\n",
    "            if not L_matrix[i,j].is_zero():\n",
    "                L_nonzeros.append(L_matrix[i,j])\n",
    "                L_nonzeros_pos.append((i,j))\n",
    "\n",
    "    #show what these elements do \n",
    "    #for t in L_nonzeros_pos:\n",
    "    #    print(f' |{s1.gs_e1_dec_states[t[0]]}> < {s1.gs_e1_dec_states[t[1]]} | ')\n",
    "\n",
    "    L_elem = L_nonzeros[which]\n",
    "\n",
    "    var('gamma_f')\n",
    "    L_elem = L_elem.subs(DE=+0.5*I*gamma_f + 0.5*I*gamma_g + DEt*gamma)\n",
    "    L_elem = L_elem.subs(De=+0.5*I*gamma   +Det*gamma)\n",
    "\n",
    "    #COUPLINGS\n",
    "    var('R_f',domain='real')#ratio  (g_f/g)^2\n",
    "    L_elem = L_elem.subs(g_f=g*sqrt(R_f))\n",
    "\n",
    "    var('R_v',domain='real',  latex_name =r'R_{\\nu}') #ratio (v/g)^2\n",
    "    L_elem = L_elem.subs(v=g*sqrt(R_v))\n",
    "\n",
    "    #ABSORBTIONS\n",
    "    var('r_b',domain='real')\n",
    "    L_elem = L_elem.subs(kappa_b=gamma/r_b)\n",
    "\n",
    "    var('r_c',domain='real',latex_name =r'r_c')\n",
    "    L_elem = L_elem.subs(kappa_c=gamma/r_c)\n",
    "\n",
    "    var('gamma_g')\n",
    "    var('r_g',domain='real',latex_name =r'r_g')\n",
    "    L_elem = L_elem.subs(gamma_g=gamma/r_g)\n",
    "\n",
    "    var('gamma_f')\n",
    "    var('r_f',domain='real',latex_name =r'r_f')\n",
    "    L_elem = L_elem.subs(gamma_f=gamma/r_f)\n",
    "\n",
    "    L_elem = L_elem.subs(g = sqrt(C)*gamma) \n",
    "\n",
    "    L_elem = L_elem._mathematica_().Factor()._sage_()\n",
    "\n",
    "\n",
    "    L_elem = MMA_simplify(L_elem,full=True)\n",
    "\n",
    "    L_elem = SR(str(L_elem).replace('Sqrt','sqrt'))\n",
    "\n",
    "\n",
    "\n",
    "    show( symround(L_elem))\n",
    "\n",
    "    print(f' |{s1.gs_e1_dec_states[L_nonzeros_pos[which][0]]}> < {s1.gs_e1_dec_states[L_nonzeros_pos[which][1]]} | \\n')\n",
    "    print(f' Original coefficient :')\n",
    "    show(s1.L_coeffs[lind_op])\n",
    "\n",
    "lind_op = 1  #which lindblau operator\n",
    "which   = 1  #which non zero element to access\n",
    "lind(lind_op,which)"
   ]
  },
  {
   "cell_type": "markdown",
   "id": "0ecd2826",
   "metadata": {},
   "source": [
    "# Expand linearly in the limit:   $C\\rightarrow \\infty$"
   ]
  },
  {
   "cell_type": "code",
   "execution_count": 5,
   "id": "abd5a8d7",
   "metadata": {},
   "outputs": [
    {
     "ename": "NameError",
     "evalue": "name 'L_elem' is not defined",
     "output_type": "error",
     "traceback": [
      "\u001b[0;31m---------------------------------------------------------------------------\u001b[0m",
      "\u001b[0;31mNameError\u001b[0m                                 Traceback (most recent call last)",
      "\u001b[0;32m<ipython-input-5-75f01b4d36ed>\u001b[0m in \u001b[0;36m<module>\u001b[0;34m\u001b[0m\n\u001b[1;32m      1\u001b[0m \u001b[0;31m#with mathematica\u001b[0m\u001b[0;34m\u001b[0m\u001b[0;34m\u001b[0m\u001b[0;34m\u001b[0m\u001b[0m\n\u001b[1;32m      2\u001b[0m \u001b[0;34m\u001b[0m\u001b[0m\n\u001b[0;32m----> 3\u001b[0;31m \u001b[0mq\u001b[0m \u001b[0;34m=\u001b[0m \u001b[0mL_elem\u001b[0m\u001b[0;34m.\u001b[0m\u001b[0msubs\u001b[0m\u001b[0;34m(\u001b[0m\u001b[0mC\u001b[0m\u001b[0;34m=\u001b[0m\u001b[0mInteger\u001b[0m\u001b[0;34m(\u001b[0m\u001b[0;36m1\u001b[0m\u001b[0;34m)\u001b[0m\u001b[0;34m/\u001b[0m\u001b[0mx\u001b[0m\u001b[0;34m)\u001b[0m\u001b[0;34m\u001b[0m\u001b[0;34m\u001b[0m\u001b[0m\n\u001b[0m\u001b[1;32m      4\u001b[0m \u001b[0mq\u001b[0m \u001b[0;34m=\u001b[0m \u001b[0mMMA_simplify\u001b[0m\u001b[0;34m(\u001b[0m\u001b[0mq\u001b[0m\u001b[0;34m)\u001b[0m\u001b[0;34m\u001b[0m\u001b[0;34m\u001b[0m\u001b[0m\n\u001b[1;32m      5\u001b[0m \u001b[0mt\u001b[0m \u001b[0;34m=\u001b[0m \u001b[0mq\u001b[0m\u001b[0;34m.\u001b[0m\u001b[0m_mathematica_\u001b[0m\u001b[0;34m(\u001b[0m\u001b[0;34m)\u001b[0m\u001b[0;34m.\u001b[0m\u001b[0mSeries\u001b[0m\u001b[0;34m(\u001b[0m\u001b[0;34m(\u001b[0m\u001b[0mx\u001b[0m\u001b[0;34m,\u001b[0m\u001b[0mInteger\u001b[0m\u001b[0;34m(\u001b[0m\u001b[0;36m0\u001b[0m\u001b[0;34m)\u001b[0m\u001b[0;34m,\u001b[0m\u001b[0mInteger\u001b[0m\u001b[0;34m(\u001b[0m\u001b[0;36m1\u001b[0m\u001b[0;34m)\u001b[0m\u001b[0;34m)\u001b[0m\u001b[0;34m)\u001b[0m\u001b[0;34m.\u001b[0m\u001b[0mNormal\u001b[0m\u001b[0;34m(\u001b[0m\u001b[0;34m)\u001b[0m\u001b[0;34m\u001b[0m\u001b[0;34m\u001b[0m\u001b[0m\n",
      "\u001b[0;31mNameError\u001b[0m: name 'L_elem' is not defined"
     ]
    }
   ],
   "source": [
    "#with mathematica\n",
    "\n",
    "q = L_elem.subs(C=1/x)\n",
    "q = MMA_simplify(q)\n",
    "t = q._mathematica_().Series((x,0,1)).Normal()\n",
    "\n",
    "tayl = t._sage_().subs(x=1/C)\n",
    "tayl = SR(str(tayl).replace('Sqrt','sqrt'))\n",
    "show(symround(tayl))"
   ]
  },
  {
   "cell_type": "code",
   "execution_count": 101,
   "id": "45337245",
   "metadata": {},
   "outputs": [
    {
     "data": {
      "text/html": [
       "<html><script type=\"math/tex; mode=display\">\\newcommand{\\Bold}[1]{\\mathbf{#1}}\\frac{{\\left(8.00000000000000 \\, {\\tilde{\\Delta }_e} R_{f} + 16.0000000000000 \\, {\\tilde{\\Delta }_E}\\right)} C^{2} {r_c}^{2} + 1.00000000000000 \\, {\\tilde{\\Delta }_E} {\\tilde{\\Delta }_e}^{2}}{{\\left(4.00000000000000 \\, {\\tilde{\\Delta }_e}^{2} R_{f}^{2} + 16.0000000000000 \\, {\\tilde{\\Delta }_E} {\\tilde{\\Delta }_e} R_{f} + 16.0000000000000 \\, {\\tilde{\\Delta }_E}^{2}\\right)} C^{2} {r_c}^{2} + 1.00000000000000 \\, {\\tilde{\\Delta }_E}^{2} {\\tilde{\\Delta }_e}^{2}}</script></html>"
      ],
      "text/latex": [
       "$$\\newcommand{\\Bold}[1]{\\mathbf{#1}}\\frac{{\\left(8.00000000000000 \\, {\\tilde{\\Delta }_e} R_{f} + 16.0000000000000 \\, {\\tilde{\\Delta }_E}\\right)} C^{2} {r_c}^{2} + 1.00000000000000 \\, {\\tilde{\\Delta }_E} {\\tilde{\\Delta }_e}^{2}}{{\\left(4.00000000000000 \\, {\\tilde{\\Delta }_e}^{2} R_{f}^{2} + 16.0000000000000 \\, {\\tilde{\\Delta }_E} {\\tilde{\\Delta }_e} R_{f} + 16.0000000000000 \\, {\\tilde{\\Delta }_E}^{2}\\right)} C^{2} {r_c}^{2} + 1.00000000000000 \\, {\\tilde{\\Delta }_E}^{2} {\\tilde{\\Delta }_e}^{2}}$$"
      ],
      "text/plain": [
       "((8.00000000000000*Det*R_f + 16.0000000000000*DEt)*C^2*r_c^2 + 1.00000000000000*DEt*Det^2)/((4.00000000000000*Det^2*R_f^2 + 16.0000000000000*DEt*Det*R_f + 16.0000000000000*DEt^2)*C^2*r_c^2 + 1.00000000000000*DEt^2*Det^2)"
      ]
     },
     "metadata": {},
     "output_type": "display_data"
    }
   ],
   "source": []
  },
  {
   "cell_type": "code",
   "execution_count": null,
   "id": "fbe64d09",
   "metadata": {},
   "outputs": [],
   "source": []
  }
 ],
 "metadata": {
  "kernelspec": {
   "display_name": "SageMath 9.3",
   "language": "sage",
   "name": "sagemath"
  },
  "language_info": {
   "codemirror_mode": {
    "name": "ipython",
    "version": 3
   },
   "file_extension": ".py",
   "mimetype": "text/x-python",
   "name": "python",
   "nbconvert_exporter": "python",
   "pygments_lexer": "ipython3",
   "version": "3.9.2"
  }
 },
 "nbformat": 4,
 "nbformat_minor": 5
}
