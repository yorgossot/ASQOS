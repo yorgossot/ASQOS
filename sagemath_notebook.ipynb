{
 "cells": [
  {
   "cell_type": "code",
   "execution_count": 2,
   "id": "a43f3bbd",
   "metadata": {
    "scrolled": false
   },
   "outputs": [
    {
     "name": "stdout",
     "output_type": "stream",
     "text": [
      "Initializing system x-o-o  ...\n",
      "Constructing states and excitations...\n",
      "Constructing ground and first-excited statespace...\n",
      "Constructing gs_hamiltonian ...\n",
      "Constructing e1_hamiltonian ...\n",
      "Constructing interactions V_plus and V_minus ...\n",
      "Constructing NJ_hamiltonian  ...\n",
      "Inverting NJ_hamiltonian  ...\n",
      "Constructing eff_hamiltonian and effective lindblau operators ...\n",
      "\n",
      "System  x-o-o  initialized in 15.0 seconds.\n"
     ]
    }
   ],
   "source": [
    "reset()\n",
    "from system import *\n",
    "s1 = system('x-o-o',MMA=True)"
   ]
  },
  {
   "cell_type": "markdown",
   "id": "20c87d69",
   "metadata": {},
   "source": [
    "# Effective Hamiltonian as Real part\n",
    "\n",
    "Will output $Q_n$ from expression:\n",
    "\n",
    "$$\\Delta_n = - \\dfrac{\\Omega^2}{\\gamma} \\text{Re}\\{Q_n \\} $$"
   ]
  },
  {
   "cell_type": "code",
   "execution_count": 12,
   "id": "6398d4bb",
   "metadata": {
    "scrolled": true
   },
   "outputs": [
    {
     "data": {
      "text/html": [
       "<html><script type=\"math/tex; mode=display\">\\newcommand{\\Bold}[1]{\\mathbf{#1}}\\frac{{\\left({R_{\\nu}} {c_\\kappa} + 0.33\\right)} {R_{\\nu}} {c_\\kappa} + 0.021}{{\\left(0.66i \\, C R_{f} + {\\Delta_{E\\gamma}} + 0.50i \\, {r_f} + 0.50i \\, {r_g}\\right)} {R_{\\nu}}^{2} {c_\\kappa}^{2} + {\\left(0.50i \\, C R_{f} + 0.33 \\, {\\Delta_{E\\gamma}} + 0.17i \\, {r_f} + 0.17i \\, {r_g}\\right)} {R_{\\nu}} {c_\\kappa} + 0.042i \\, C R_{f} + 0.021 \\, {\\Delta_{E\\gamma}} + 0.010i \\, {r_f} + 0.010i \\, {r_g}}</script></html>"
      ],
      "text/latex": [
       "$$\\newcommand{\\Bold}[1]{\\mathbf{#1}}\\frac{{\\left({R_{\\nu}} {c_\\kappa} + 0.33\\right)} {R_{\\nu}} {c_\\kappa} + 0.021}{{\\left(0.66i \\, C R_{f} + {\\Delta_{E\\gamma}} + 0.50i \\, {r_f} + 0.50i \\, {r_g}\\right)} {R_{\\nu}}^{2} {c_\\kappa}^{2} + {\\left(0.50i \\, C R_{f} + 0.33 \\, {\\Delta_{E\\gamma}} + 0.17i \\, {r_f} + 0.17i \\, {r_g}\\right)} {R_{\\nu}} {c_\\kappa} + 0.042i \\, C R_{f} + 0.021 \\, {\\Delta_{E\\gamma}} + 0.010i \\, {r_f} + 0.010i \\, {r_g}}$$"
      ],
      "text/plain": [
       "((R_v*c_k + 0.33)*R_v*c_k + 0.021)/((0.66*I*C*R_f + DEg + 0.50*I*r_f + 0.50*I*r_g)*R_v^2*c_k^2 + (0.50*I*C*R_f + 0.33*DEg + 0.17*I*r_f + 0.17*I*r_g)*R_v*c_k + 0.042*I*C*R_f + 0.021*DEg + 0.010*I*r_f + 0.010*I*r_g)"
      ]
     },
     "metadata": {},
     "output_type": "display_data"
    }
   ],
   "source": [
    "diag = 0  #input n corresponding to diag element\n",
    "\n",
    "var('gamma','DE','De','g','g_f','Omega','v','gamma_f','gamma_g',domain='positive')\n",
    "var('DEt',domain='positive',  latex_name =r'\\tilde{\\Delta }_E')\n",
    "var('Det',domain='positive',  latex_name =r'\\tilde{\\Delta }_e')\n",
    "var('DEg',domain='positive',  latex_name =r'\\Delta_{E\\gamma}')\n",
    "var('Deg',domain='positive',  latex_name =r'\\Delta_{e\\gamma}')\n",
    "var('kappa_c','kappa_b',domain='positive')\n",
    "var('C',domain='positive')\n",
    "var('c_k',domain='positive',  latex_name =r'c_\\kappa')\n",
    "\n",
    "#(gamma_f=gamma)#gamma_g=0,\n",
    "\n",
    "#Take only one of the compl conj terms. Switch maybe second 0 to 1\n",
    "min_expr_len = 10**10\n",
    "for term in range(2):\n",
    "    b = s1.eff_hamiltonian_gs[diag,diag]\n",
    "    b = b.operands()[1].operands()[term]  #  + b.operands()[1].operands()[3] use if obtained with sage\n",
    "\n",
    "    #b = b.subs(DE=+0.5*I*gamma_f + 0.5*I*gamma_g + DEt*gamma)\n",
    "    #b = b.subs(De=+0.5*I*gamma   +Det*gamma)\n",
    "    var('n')\n",
    "    b = b.subs(DE=DEg*gamma)\n",
    "    b = b.subs(De=Deg*gamma)\n",
    "    \n",
    "    var('R_f',domain='real')#ratio  (g_f/g)^2\n",
    "    b = b.subs(g_f=g*sqrt(R_f))\n",
    "\n",
    "    var('R_v',domain='real',  latex_name =r'R_{\\nu}') #ratio (v/g)^2\n",
    "    b = b.subs(v=g*sqrt(R_v))\n",
    "\n",
    "    var('r_b',domain='real')\n",
    "    b = b.subs(kappa_b=gamma/r_b)\n",
    "\n",
    "\n",
    "    var('r_g',domain='real',latex_name =r'r_g')\n",
    "    b = b.subs(gamma_g=gamma*r_g)\n",
    "\n",
    "\n",
    "    var('r_f',domain='real',latex_name =r'r_f')\n",
    "    b = b.subs(gamma_f=gamma*r_f)\n",
    "\n",
    "\n",
    "    b = b.subs(g = sqrt(C*kappa_c*gamma)) \n",
    "    \n",
    "    b = b.subs(r_b = c_k/C)\n",
    "    \n",
    "    b = b*gamma  #Omega has to be substituted with Omega/gamma\n",
    "    \n",
    "\n",
    "    b = b._mathematica_().Factor()._sage_()\n",
    "    b = MMA_simplify(b,full=True)\n",
    "    #holds the smallest expression\n",
    "    if len(str(b))<min_expr_len:\n",
    "        min_expr_len = len(str(b))\n",
    "        h_eff = b\n",
    "\n",
    "show( symround(h_eff))"
   ]
  },
  {
   "cell_type": "markdown",
   "id": "407a99a6",
   "metadata": {},
   "source": [
    "# Expand linearly in the limit:   $C\\rightarrow \\infty$"
   ]
  },
  {
   "cell_type": "code",
   "execution_count": 61,
   "id": "def83d4b",
   "metadata": {},
   "outputs": [
    {
     "data": {
      "text/html": [
       "<html><script type=\"math/tex; mode=display\">\\newcommand{\\Bold}[1]{\\mathbf{#1}}\\frac{{\\left(2 i \\, {R_{\\nu}} {c_\\kappa} + 0.66i\\right)} {R_{\\nu}} {c_\\kappa} + 0.042i}{{\\left({\\left(2 i \\, {\\Delta E} + 1.3 \\, R_{f}\\right)} {R_{\\nu}}^{2} {c_\\kappa}^{2} + {\\left(0.66i \\, {\\Delta E} + R_{f}\\right)} {R_{\\nu}} {c_\\kappa} + 0.042i \\, {\\Delta E} + 0.083 \\, R_{f}\\right)} C}</script></html>"
      ],
      "text/latex": [
       "$$\\newcommand{\\Bold}[1]{\\mathbf{#1}}\\frac{{\\left(2 i \\, {R_{\\nu}} {c_\\kappa} + 0.66i\\right)} {R_{\\nu}} {c_\\kappa} + 0.042i}{{\\left({\\left(2 i \\, {\\Delta E} + 1.3 \\, R_{f}\\right)} {R_{\\nu}}^{2} {c_\\kappa}^{2} + {\\left(0.66i \\, {\\Delta E} + R_{f}\\right)} {R_{\\nu}} {c_\\kappa} + 0.042i \\, {\\Delta E} + 0.083 \\, R_{f}\\right)} C}$$"
      ],
      "text/plain": [
       "((2*I*R_v*c_k + 0.66*I)*R_v*c_k + 0.042*I)/(((2*I*DE + 1.3*R_f)*R_v^2*c_k^2 + (0.66*I*DE + R_f)*R_v*c_k + 0.042*I*DE + 0.083*R_f)*C)"
      ]
     },
     "metadata": {},
     "output_type": "display_data"
    }
   ],
   "source": [
    "#with mathematica\n",
    "q = b.subs(C=1/x)\n",
    "q = MMA_simplify(q)\n",
    "tayl = q._mathematica_().Series((x,0,1)).Normal()._sage_()\n",
    "tayl = tayl.subs(x=1/C)\n",
    "#t = q._mathematica_().Series((x,0,2))\n",
    "#t_exp = t[3]\n",
    "#t_st = t[4]\n",
    "#tayl = 0\n",
    "#for i in range(1,len(t_exp)):\n",
    "#    tayl += MMA_simplify( t_exp[i]._sage_() ) / C**(i-1+Integer(t[4]))\n",
    "\n",
    "show(symround(tayl))\n",
    "\n",
    "#with sage\n",
    "#tayl = b.taylor(C_c,infinity, 1)\n",
    "#show(symround(MMA_simplify(tayl)))"
   ]
  },
  {
   "cell_type": "markdown",
   "id": "1498df0a",
   "metadata": {},
   "source": [
    "# Lindblau Operators\n",
    "\n",
    "Choose which of the Lindblau operators to view and which non zero element of it"
   ]
  },
  {
   "cell_type": "code",
   "execution_count": 13,
   "id": "847371b4",
   "metadata": {
    "scrolled": true
   },
   "outputs": [
    {
     "data": {
      "text/html": [
       "<html><script type=\"math/tex; mode=display\">\\newcommand{\\Bold}[1]{\\mathbf{#1}}\\frac{{\\left(2 i \\, {\\left({\\left(C + 1.5i \\, {\\Delta_{e\\gamma}} + 0.75\\right)} {R_{\\nu}} {c_\\kappa} + 0.75 \\, C + 0.50i \\, {\\Delta_{e\\gamma}} + 0.25\\right)} {R_{\\nu}} {c_\\kappa} + 0.12i \\, C - 0.062 \\, {\\Delta_{e\\gamma}} + 0.031i\\right)} \\sqrt{{\\gamma} {r_g}} {\\Omega}}{{\\left({\\left(C {\\left(2 i \\, {\\Delta_{e\\gamma}} + 1\\right)} R_{f} + {\\left(2 i \\, C - 3 \\, {\\Delta_{e\\gamma}} + 1.5i\\right)} {\\Delta_{E\\gamma}} + {\\left(C + 1.5i \\, {\\Delta_{e\\gamma}} + 0.75\\right)} {r_f} + {\\left(C + 1.5i \\, {\\Delta_{e\\gamma}} + 0.75\\right)} {r_g}\\right)} {R_{\\nu}}^{2} {c_\\kappa}^{2} + {\\left({\\left(2 \\, C + 1.5i \\, {\\Delta_{e\\gamma}} + 0.75\\right)} C R_{f} + {\\left(1.5i \\, C - {\\Delta_{e\\gamma}} + 0.50i\\right)} {\\Delta_{E\\gamma}} + {\\left(0.75 \\, C + 0.50i \\, {\\Delta_{e\\gamma}} + 0.25\\right)} {r_f} + {\\left(0.75 \\, C + 0.50i \\, {\\Delta_{e\\gamma}} + 0.25\\right)} {r_g}\\right)} {R_{\\nu}} {c_\\kappa} + {\\left(0.25 \\, C R_{f} + 0.12i \\, {\\Delta_{E\\gamma}} + 0.062 \\, {r_g}\\right)} {\\left(C + 0.50i \\, {\\Delta_{e\\gamma}} + 0.25\\right)} + {\\left(0.062 \\, C + 0.031i \\, {\\Delta_{e\\gamma}} + 0.016\\right)} {r_f}\\right)} {\\gamma}}</script></html>"
      ],
      "text/latex": [
       "$$\\newcommand{\\Bold}[1]{\\mathbf{#1}}\\frac{{\\left(2 i \\, {\\left({\\left(C + 1.5i \\, {\\Delta_{e\\gamma}} + 0.75\\right)} {R_{\\nu}} {c_\\kappa} + 0.75 \\, C + 0.50i \\, {\\Delta_{e\\gamma}} + 0.25\\right)} {R_{\\nu}} {c_\\kappa} + 0.12i \\, C - 0.062 \\, {\\Delta_{e\\gamma}} + 0.031i\\right)} \\sqrt{{\\gamma} {r_g}} {\\Omega}}{{\\left({\\left(C {\\left(2 i \\, {\\Delta_{e\\gamma}} + 1\\right)} R_{f} + {\\left(2 i \\, C - 3 \\, {\\Delta_{e\\gamma}} + 1.5i\\right)} {\\Delta_{E\\gamma}} + {\\left(C + 1.5i \\, {\\Delta_{e\\gamma}} + 0.75\\right)} {r_f} + {\\left(C + 1.5i \\, {\\Delta_{e\\gamma}} + 0.75\\right)} {r_g}\\right)} {R_{\\nu}}^{2} {c_\\kappa}^{2} + {\\left({\\left(2 \\, C + 1.5i \\, {\\Delta_{e\\gamma}} + 0.75\\right)} C R_{f} + {\\left(1.5i \\, C - {\\Delta_{e\\gamma}} + 0.50i\\right)} {\\Delta_{E\\gamma}} + {\\left(0.75 \\, C + 0.50i \\, {\\Delta_{e\\gamma}} + 0.25\\right)} {r_f} + {\\left(0.75 \\, C + 0.50i \\, {\\Delta_{e\\gamma}} + 0.25\\right)} {r_g}\\right)} {R_{\\nu}} {c_\\kappa} + {\\left(0.25 \\, C R_{f} + 0.12i \\, {\\Delta_{E\\gamma}} + 0.062 \\, {r_g}\\right)} {\\left(C + 0.50i \\, {\\Delta_{e\\gamma}} + 0.25\\right)} + {\\left(0.062 \\, C + 0.031i \\, {\\Delta_{e\\gamma}} + 0.016\\right)} {r_f}\\right)} {\\gamma}}$$"
      ],
      "text/plain": [
       "(2*I*((C + 1.5*I*Deg + 0.75)*R_v*c_k + 0.75*C + 0.50*I*Deg + 0.25)*R_v*c_k + 0.12*I*C - 0.062*Deg + 0.031*I)*sqrt(gamma*r_g)*Omega/(((C*(2*I*Deg + 1)*R_f + (2*I*C - 3*Deg + 1.5*I)*DEg + (C + 1.5*I*Deg + 0.75)*r_f + (C + 1.5*I*Deg + 0.75)*r_g)*R_v^2*c_k^2 + ((2*C + 1.5*I*Deg + 0.75)*C*R_f + (1.5*I*C - Deg + 0.50*I)*DEg + (0.75*C + 0.50*I*Deg + 0.25)*r_f + (0.75*C + 0.50*I*Deg + 0.25)*r_g)*R_v*c_k + (0.25*C*R_f + 0.12*I*DEg + 0.062*r_g)*(C + 0.50*I*Deg + 0.25) + (0.062*C + 0.031*I*Deg + 0.016)*r_f)*gamma)"
      ]
     },
     "metadata": {},
     "output_type": "display_data"
    },
    {
     "name": "stdout",
     "output_type": "stream",
     "text": [
      " |0f000001> < 0g000001 | \n",
      "\n",
      " Original coefficient :\n"
     ]
    },
    {
     "data": {
      "text/html": [
       "<html><script type=\"math/tex; mode=display\">\\newcommand{\\Bold}[1]{\\mathbf{#1}}\\sqrt{{\\gamma_g}}</script></html>"
      ],
      "text/latex": [
       "$$\\newcommand{\\Bold}[1]{\\mathbf{#1}}\\sqrt{{\\gamma_g}}$$"
      ],
      "text/plain": [
       "sqrt(gamma_g)"
      ]
     },
     "metadata": {},
     "output_type": "display_data"
    }
   ],
   "source": [
    "def lind(lind_op,which):    \n",
    "    L_matrix_orig = s1.lindblau_list[lind_op]\n",
    "    L_matrix      = s1.eff_lindblau_list[lind_op] #lindblau_list[lind_op] ##(gamma_g=0,gamma_f=gamma)\n",
    "\n",
    "    L_nonzeros = []\n",
    "    L_nonzeros_pos = []\n",
    "    #find non zero elements\n",
    "    for i in  range(L_matrix.nrows()):\n",
    "        for j in  range(L_matrix.ncols()):\n",
    "            if not L_matrix[i,j].is_zero():\n",
    "                L_nonzeros.append(L_matrix[i,j])\n",
    "                L_nonzeros_pos.append((i,j))\n",
    "\n",
    "    #show what these elements do \n",
    "    #for t in L_nonzeros_pos:\n",
    "    #    print(f' |{s1.gs_e1_dec_states[t[0]]}> < {s1.gs_e1_dec_states[t[1]]} | ')\n",
    "\n",
    "    L_elem = L_nonzeros[which]\n",
    "\n",
    "    var('gamma_f')\n",
    "    #L_elem = L_elem.subs(DE=+0.5*I*gamma_f + 0.5*I*gamma_g + DEt*gamma)\n",
    "    #L_elem = L_elem.subs(De=+0.5*I*gamma   +Det*gamma)\n",
    "    L_elem = L_elem.subs(DE=gamma*DEg)\n",
    "    L_elem = L_elem.subs(De=gamma*Deg)                     \n",
    "    #COUPLINGS\n",
    "    var('R_f',domain='real')#ratio  (g_f/g)^2\n",
    "    L_elem = L_elem.subs(g_f=g*sqrt(R_f))\n",
    "\n",
    "    var('R_v',domain='real',  latex_name =r'R_{\\nu}') #ratio (v/g)^2\n",
    "    L_elem = L_elem.subs(v=g*sqrt(R_v))\n",
    "\n",
    "    #ABSORBTIONS\n",
    "    var('r_b',domain='real')\n",
    "    L_elem = L_elem.subs(kappa_b=gamma/r_b)\n",
    "\n",
    "    var('gamma_g')\n",
    "    var('r_g',domain='real',latex_name =r'r_g')\n",
    "    L_elem = L_elem.subs(gamma_g=gamma*r_g)\n",
    "\n",
    "    var('gamma_f')\n",
    "    var('r_f',domain='real',latex_name =r'r_f')\n",
    "    L_elem = L_elem.subs(gamma_f=gamma*r_f)\n",
    "\n",
    "    L_elem = L_elem.subs(g = sqrt(C*gamma*kappa_c)) \n",
    "\n",
    "    L_elem = L_elem.subs(r_b = c_k/C)\n",
    "    \n",
    "    L_elem = L_elem._mathematica_().Factor()._sage_()\n",
    "\n",
    "\n",
    "    L_elem = MMA_simplify(L_elem,full=True)\n",
    "\n",
    "    L_elem = SR(str(L_elem).replace('Sqrt','sqrt'))\n",
    "\n",
    "    \n",
    "\n",
    "    show( symround(L_elem))\n",
    "\n",
    "    print(f' |{s1.gs_e1_dec_states[L_nonzeros_pos[which][0]]}> < {s1.gs_e1_dec_states[L_nonzeros_pos[which][1]]} | \\n')\n",
    "    print(f' Original coefficient :')\n",
    "    show(s1.L_coeffs[lind_op])\n",
    "    return L_elem\n",
    "\n",
    "lind_op = 1  #which lindblau operator\n",
    "which   = 1  #which non zero element to access\n",
    "L_elem = lind(lind_op,which)"
   ]
  },
  {
   "cell_type": "markdown",
   "id": "0ecd2826",
   "metadata": {},
   "source": [
    "# Expand linearly in the limit:   $C\\rightarrow \\infty$"
   ]
  },
  {
   "cell_type": "code",
   "execution_count": 14,
   "id": "abd5a8d7",
   "metadata": {},
   "outputs": [
    {
     "data": {
      "text/html": [
       "<html><script type=\"math/tex; mode=display\">\\newcommand{\\Bold}[1]{\\mathbf{#1}}\\frac{{\\left({\\left(2 i \\, {R_{\\nu}} {c_\\kappa} + 1.5i\\right)} {R_{\\nu}} {c_\\kappa} + 0.12i\\right)} \\sqrt{{\\gamma} {r_g}} {\\Omega}}{{\\left(2 \\, R_{f} {R_{\\nu}} {c_\\kappa} + 0.25 \\, R_{f}\\right)} C {\\gamma}}</script></html>"
      ],
      "text/latex": [
       "$$\\newcommand{\\Bold}[1]{\\mathbf{#1}}\\frac{{\\left({\\left(2 i \\, {R_{\\nu}} {c_\\kappa} + 1.5i\\right)} {R_{\\nu}} {c_\\kappa} + 0.12i\\right)} \\sqrt{{\\gamma} {r_g}} {\\Omega}}{{\\left(2 \\, R_{f} {R_{\\nu}} {c_\\kappa} + 0.25 \\, R_{f}\\right)} C {\\gamma}}$$"
      ],
      "text/plain": [
       "((2*I*R_v*c_k + 1.5*I)*R_v*c_k + 0.12*I)*sqrt(gamma*r_g)*Omega/((2*R_f*R_v*c_k + 0.25*R_f)*C*gamma)"
      ]
     },
     "metadata": {},
     "output_type": "display_data"
    }
   ],
   "source": [
    "#with mathematica\n",
    "\n",
    "q = L_elem.subs(C=1/x)\n",
    "q = MMA_simplify(q)\n",
    "t = q._mathematica_().Series((x,0,1)).Normal()\n",
    "\n",
    "tayl = t._sage_().subs(x=1/C)\n",
    "tayl = SR(str(tayl).replace('Sqrt','sqrt'))\n",
    "show(symround(tayl))"
   ]
  },
  {
   "cell_type": "code",
   "execution_count": 101,
   "id": "45337245",
   "metadata": {},
   "outputs": [
    {
     "data": {
      "text/html": [
       "<html><script type=\"math/tex; mode=display\">\\newcommand{\\Bold}[1]{\\mathbf{#1}}\\frac{{\\left(8.00000000000000 \\, {\\tilde{\\Delta }_e} R_{f} + 16.0000000000000 \\, {\\tilde{\\Delta }_E}\\right)} C^{2} {r_c}^{2} + 1.00000000000000 \\, {\\tilde{\\Delta }_E} {\\tilde{\\Delta }_e}^{2}}{{\\left(4.00000000000000 \\, {\\tilde{\\Delta }_e}^{2} R_{f}^{2} + 16.0000000000000 \\, {\\tilde{\\Delta }_E} {\\tilde{\\Delta }_e} R_{f} + 16.0000000000000 \\, {\\tilde{\\Delta }_E}^{2}\\right)} C^{2} {r_c}^{2} + 1.00000000000000 \\, {\\tilde{\\Delta }_E}^{2} {\\tilde{\\Delta }_e}^{2}}</script></html>"
      ],
      "text/latex": [
       "$$\\newcommand{\\Bold}[1]{\\mathbf{#1}}\\frac{{\\left(8.00000000000000 \\, {\\tilde{\\Delta }_e} R_{f} + 16.0000000000000 \\, {\\tilde{\\Delta }_E}\\right)} C^{2} {r_c}^{2} + 1.00000000000000 \\, {\\tilde{\\Delta }_E} {\\tilde{\\Delta }_e}^{2}}{{\\left(4.00000000000000 \\, {\\tilde{\\Delta }_e}^{2} R_{f}^{2} + 16.0000000000000 \\, {\\tilde{\\Delta }_E} {\\tilde{\\Delta }_e} R_{f} + 16.0000000000000 \\, {\\tilde{\\Delta }_E}^{2}\\right)} C^{2} {r_c}^{2} + 1.00000000000000 \\, {\\tilde{\\Delta }_E}^{2} {\\tilde{\\Delta }_e}^{2}}$$"
      ],
      "text/plain": [
       "((8.00000000000000*Det*R_f + 16.0000000000000*DEt)*C^2*r_c^2 + 1.00000000000000*DEt*Det^2)/((4.00000000000000*Det^2*R_f^2 + 16.0000000000000*DEt*Det*R_f + 16.0000000000000*DEt^2)*C^2*r_c^2 + 1.00000000000000*DEt^2*Det^2)"
      ]
     },
     "metadata": {},
     "output_type": "display_data"
    }
   ],
   "source": []
  },
  {
   "cell_type": "code",
   "execution_count": null,
   "id": "fbe64d09",
   "metadata": {},
   "outputs": [],
   "source": []
  }
 ],
 "metadata": {
  "kernelspec": {
   "display_name": "SageMath 9.3",
   "language": "sage",
   "name": "sagemath"
  },
  "language_info": {
   "codemirror_mode": {
    "name": "ipython",
    "version": 3
   },
   "file_extension": ".py",
   "mimetype": "text/x-python",
   "name": "python",
   "nbconvert_exporter": "python",
   "pygments_lexer": "ipython3",
   "version": "3.9.2"
  }
 },
 "nbformat": 4,
 "nbformat_minor": 5
}
