{
 "cells": [
  {
   "cell_type": "code",
   "execution_count": 32,
   "id": "a43f3bbd",
   "metadata": {
    "scrolled": false
   },
   "outputs": [
    {
     "name": "stdout",
     "output_type": "stream",
     "text": [
      "Initializing system x-o-o-  ...\n",
      "Constructing states and excitations...\n",
      "Constructing ground and first-excited statespace...\n",
      "Constructing gs_hamiltonian ...\n",
      "Constructing e1_hamiltonian ...\n",
      "Constructing interactions V_plus and V_minus ...\n",
      "Constructing NJ_hamiltonian  ...\n",
      "Inverting NJ_hamiltonian  ...\n",
      "Constructing eff_hamiltonian and effective lindblau operators ...\n",
      "Constructing effective Lindblau master equation ...\n",
      "\n",
      "System  x-o-o-  initialized in 97.6 seconds.\n"
     ]
    }
   ],
   "source": [
    "from system import *\n",
    "\n",
    "s1 = system('x-o-o-',MMA=True)"
   ]
  },
  {
   "cell_type": "code",
   "execution_count": 38,
   "id": "f63d25b7",
   "metadata": {},
   "outputs": [
    {
     "name": "stdout",
     "output_type": "stream",
     "text": [
      "symround: Deleted coefficient 2.0e-16\n",
      "symround: Deleted coefficient 2.0e-16\n",
      "symround: Deleted coefficient -1.2e-16\n",
      "symround: Deleted coefficient 2.0e-16\n"
     ]
    },
    {
     "data": {
      "text/html": [
       "<html><script type=\"math/tex; mode=display\">\\newcommand{\\Bold}[1]{\\mathbf{#1}}\\frac{C_{\\mathit{fb}}^{3} C_{\\mathit{fc}}^{3} {\\left({\\Delta e} - i\\right)} V_{f}^{3} {\\left(e^{\\left(3 i \\, {\\phi}\\right)} + 1\\right)}^{2} + {\\left(-1.5i \\, C_{\\mathit{fc}} G_{f} + 2.2 \\, {\\Delta e} - 2.2i\\right)} C_{\\mathit{fb}}^{2} C_{\\mathit{fc}}^{2} G_{g}^{2} V_{f}^{2} e^{\\left(3 i \\, {\\phi}\\right)} + {\\left(-0.50i \\, C_{\\mathit{fc}} G_{f} + 0.38 \\, {\\Delta e} - 0.38i\\right)} C_{\\mathit{fb}} C_{\\mathit{fc}} G_{g}^{4} V_{f} e^{\\left(3 i \\, {\\phi}\\right)} + {\\left(-0.031i \\, C_{\\mathit{fc}} G_{f} + 0.016 \\, {\\Delta e} - 0.016i\\right)} G_{g}^{6} e^{\\left(3 i \\, {\\phi}\\right)}}{{\\left({\\left({\\Delta E} - i\\right)} {\\Delta e} - i \\, {\\Delta E} - 1\\right)} C_{\\mathit{fb}}^{3} C_{\\mathit{fc}}^{3} V_{f}^{3} {\\left(e^{\\left(3 i \\, {\\phi}\\right)} + 1\\right)}^{2} + {\\left({\\left({\\left(-1.5i \\, {\\Delta E} - 1.5\\right)} G_{f} - 1.5i \\, {\\Delta e} - 1.5\\right)} C_{\\mathit{fc}} + {\\left(2.2 \\, {\\Delta E} - 2.2i\\right)} {\\Delta e} - 2.2i \\, {\\Delta E} - 2.2\\right)} C_{\\mathit{fb}}^{2} C_{\\mathit{fc}}^{2} G_{g}^{2} V_{f}^{2} e^{\\left(3 i \\, {\\phi}\\right)} + {\\left({\\left({\\left(-0.50 \\, C_{\\mathit{fc}} - 0.50i \\, {\\Delta E} - 0.50\\right)} G_{f} - 0.50i \\, {\\Delta e} - 0.50\\right)} C_{\\mathit{fc}} + {\\left(0.38 \\, {\\Delta E} - 0.38i\\right)} {\\Delta e} - 0.38i \\, {\\Delta E} - 0.38\\right)} C_{\\mathit{fb}} C_{\\mathit{fc}} G_{g}^{4} V_{f} e^{\\left(3 i \\, {\\phi}\\right)} + {\\left({\\left({\\left(-0.062 \\, C_{\\mathit{fc}} - 0.031i \\, {\\Delta E} - 0.031\\right)} G_{f} - 0.031i \\, {\\Delta e} - 0.031\\right)} C_{\\mathit{fc}} + {\\left(0.016 \\, {\\Delta E} - 0.016i\\right)} {\\Delta e} - 0.016i \\, {\\Delta E} - 0.016\\right)} G_{g}^{6} e^{\\left(3 i \\, {\\phi}\\right)}}</script></html>"
      ],
      "text/latex": [
       "$$\\newcommand{\\Bold}[1]{\\mathbf{#1}}\\frac{C_{\\mathit{fb}}^{3} C_{\\mathit{fc}}^{3} {\\left({\\Delta e} - i\\right)} V_{f}^{3} {\\left(e^{\\left(3 i \\, {\\phi}\\right)} + 1\\right)}^{2} + {\\left(-1.5i \\, C_{\\mathit{fc}} G_{f} + 2.2 \\, {\\Delta e} - 2.2i\\right)} C_{\\mathit{fb}}^{2} C_{\\mathit{fc}}^{2} G_{g}^{2} V_{f}^{2} e^{\\left(3 i \\, {\\phi}\\right)} + {\\left(-0.50i \\, C_{\\mathit{fc}} G_{f} + 0.38 \\, {\\Delta e} - 0.38i\\right)} C_{\\mathit{fb}} C_{\\mathit{fc}} G_{g}^{4} V_{f} e^{\\left(3 i \\, {\\phi}\\right)} + {\\left(-0.031i \\, C_{\\mathit{fc}} G_{f} + 0.016 \\, {\\Delta e} - 0.016i\\right)} G_{g}^{6} e^{\\left(3 i \\, {\\phi}\\right)}}{{\\left({\\left({\\Delta E} - i\\right)} {\\Delta e} - i \\, {\\Delta E} - 1\\right)} C_{\\mathit{fb}}^{3} C_{\\mathit{fc}}^{3} V_{f}^{3} {\\left(e^{\\left(3 i \\, {\\phi}\\right)} + 1\\right)}^{2} + {\\left({\\left({\\left(-1.5i \\, {\\Delta E} - 1.5\\right)} G_{f} - 1.5i \\, {\\Delta e} - 1.5\\right)} C_{\\mathit{fc}} + {\\left(2.2 \\, {\\Delta E} - 2.2i\\right)} {\\Delta e} - 2.2i \\, {\\Delta E} - 2.2\\right)} C_{\\mathit{fb}}^{2} C_{\\mathit{fc}}^{2} G_{g}^{2} V_{f}^{2} e^{\\left(3 i \\, {\\phi}\\right)} + {\\left({\\left({\\left(-0.50 \\, C_{\\mathit{fc}} - 0.50i \\, {\\Delta E} - 0.50\\right)} G_{f} - 0.50i \\, {\\Delta e} - 0.50\\right)} C_{\\mathit{fc}} + {\\left(0.38 \\, {\\Delta E} - 0.38i\\right)} {\\Delta e} - 0.38i \\, {\\Delta E} - 0.38\\right)} C_{\\mathit{fb}} C_{\\mathit{fc}} G_{g}^{4} V_{f} e^{\\left(3 i \\, {\\phi}\\right)} + {\\left({\\left({\\left(-0.062 \\, C_{\\mathit{fc}} - 0.031i \\, {\\Delta E} - 0.031\\right)} G_{f} - 0.031i \\, {\\Delta e} - 0.031\\right)} C_{\\mathit{fc}} + {\\left(0.016 \\, {\\Delta E} - 0.016i\\right)} {\\Delta e} - 0.016i \\, {\\Delta E} - 0.016\\right)} G_{g}^{6} e^{\\left(3 i \\, {\\phi}\\right)}}$$"
      ],
      "text/plain": [
       "(C_fb^3*C_fc^3*(De - I)*V_f^3*(e^(3*I*phi) + 1)^2 + (-1.5*I*C_fc*G_f + 2.2*De - 2.2*I)*C_fb^2*C_fc^2*G_g^2*V_f^2*e^(3*I*phi) + (-0.50*I*C_fc*G_f + 0.38*De - 0.38*I)*C_fb*C_fc*G_g^4*V_f*e^(3*I*phi) + (-0.031*I*C_fc*G_f + 0.016*De - 0.016*I)*G_g^6*e^(3*I*phi))/(((DE - I)*De - I*DE - 1)*C_fb^3*C_fc^3*V_f^3*(e^(3*I*phi) + 1)^2 + (((-1.5*I*DE - 1.5)*G_f - 1.5*I*De - 1.5)*C_fc + (2.2*DE - 2.2*I)*De - 2.2*I*DE - 2.2)*C_fb^2*C_fc^2*G_g^2*V_f^2*e^(3*I*phi) + (((-0.50*C_fc - 0.50*I*DE - 0.50)*G_f - 0.50*I*De - 0.50)*C_fc + (0.38*DE - 0.38*I)*De - 0.38*I*DE - 0.38)*C_fb*C_fc*G_g^4*V_f*e^(3*I*phi) + (((-0.062*C_fc - 0.031*I*DE - 0.031)*G_f - 0.031*I*De - 0.031)*C_fc + (0.016*DE - 0.016*I)*De - 0.016*I*DE - 0.016)*G_g^6*e^(3*I*phi))"
      ]
     },
     "metadata": {},
     "output_type": "display_data"
    }
   ],
   "source": [
    "var('gamma','DE','De','g','g_f','Omega','v',domain='positive')\n",
    "var('G_f')#ratio g/g_f\n",
    "var('V_f')#ratio v/g_f\n",
    "\n",
    "b = s1.eff_hamiltonian_gs[1,1](gamma_g=0,gamma_f=gamma)\n",
    "a = copy(b)\n",
    "#show(symround(b))\n",
    "b = b.subs(g=g_f*sqrt(G_f))\n",
    "b = b.subs(v=g_f*sqrt(V_f))\n",
    "\n",
    "b = b.operands()[1].operands()[0]\n",
    "\n",
    "b = b.subs(DE=-0.5*I*gamma+DE*gamma)\n",
    "b = b.subs(De=-0.5*I*gamma+De*gamma)\n",
    "\n",
    "var('C_fc','g_f','kappa_c','gamma_f',domain='positive')\n",
    "b = b.subs(kappa_c = g_f^2/(gamma*C_fc)) \n",
    "var('C_fb','g_f','kappa_b','gamma_f',domain='positive')\n",
    "b = b.subs(kappa_b = g_f^2/(gamma*C_fb))\n",
    "\n",
    "\n",
    "b = b*gamma  #Omega has to be substituted with Omega/gamma\n",
    "var('G_g',domain='positive')\n",
    "b = b.subs( gamma = g_f/G_g)\n",
    "\n",
    "\n",
    "b=MMA_simplify(b,full=True)\n",
    "b = symround(b,digits=1)\n",
    "show(b)"
   ]
  },
  {
   "cell_type": "code",
   "execution_count": null,
   "id": "7b649a16",
   "metadata": {},
   "outputs": [],
   "source": []
  }
 ],
 "metadata": {
  "kernelspec": {
   "display_name": "SageMath 9.3",
   "language": "sage",
   "name": "sagemath"
  },
  "language_info": {
   "codemirror_mode": {
    "name": "ipython",
    "version": 3
   },
   "file_extension": ".py",
   "mimetype": "text/x-python",
   "name": "python",
   "nbconvert_exporter": "python",
   "pygments_lexer": "ipython3",
   "version": "3.9.2"
  }
 },
 "nbformat": 4,
 "nbformat_minor": 5
}
