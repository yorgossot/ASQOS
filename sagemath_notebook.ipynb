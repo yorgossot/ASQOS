{
 "cells": [
  {
   "cell_type": "code",
   "execution_count": 21,
   "id": "9bac2dff",
   "metadata": {
    "scrolled": false
   },
   "outputs": [
    {
     "name": "stdout",
     "output_type": "stream",
     "text": [
      "Initializing system 2 ...\n",
      "Constructing states and excitations ...\n",
      "Constructing ground and first-excited statespace ...\n",
      "Constructing gs_hamiltonian ...\n",
      "Constructing e1_hamiltonian ...\n",
      "Constructing interactions V_plus and V_minus ...\n",
      "Constructing NJ_hamiltonian ...\n",
      "Inverting NJ_hamiltonian ...\n",
      "Constructing eff_hamiltonian and effective lindblad operators ...\n",
      "\n",
      "System  2  initialized in 0.9 seconds.\n"
     ]
    },
    {
     "data": {
      "text/plain": [
       "c"
      ]
     },
     "execution_count": 21,
     "metadata": {},
     "output_type": "execute_result"
    }
   ],
   "source": [
    "from system import *\n",
    "s1 = system('2',MMA=True,ManyVariables=False,TwoPhotonResonance= False)\n",
    "\n",
    "var('gamma','DE','De','g','g_f','Omega','v','gamma_f','gamma_g','gamma0','De0','g0','db',domain='positive')\n",
    "var('DEt',domain='positive',  latex_name =r'\\tilde{\\Delta }_E')\n",
    "var('Det',domain='positive',  latex_name =r'\\tilde{\\Delta }_e')\n",
    "var('De0t',domain='positive',  latex_name =r'\\tilde{\\Delta }_{e0}')\n",
    "var('dct',domain='complex',  latex_name =r'\\tilde{\\delta }_c')\n",
    "var('dbt',domain='complex',  latex_name =r'\\tilde{\\delta }_c')\n",
    "var('DEg',domain='positive',  latex_name =r'\\Delta_{E\\gamma}')\n",
    "var('Deg',domain='positive',  latex_name =r'\\Delta_{e\\gamma}')\n",
    "var('kappa_c','kappa_b',domain='positive')\n",
    "var('C',domain='positive')\n",
    "var('c',domain='positive',  latex_name =r'c')"
   ]
  },
  {
   "cell_type": "markdown",
   "id": "350ad84a",
   "metadata": {},
   "source": [
    "# Effective Hamiltonian as Real part\n",
    "\n",
    "Will output $Q_n$ from expression:\n",
    "\n",
    "$$\\Delta_n = - \\dfrac{\\Omega^2}{\\gamma} \\text{Re}\\{Q_n \\} $$"
   ]
  },
  {
   "cell_type": "code",
   "execution_count": 11,
   "id": "fa0e12ad",
   "metadata": {
    "scrolled": true
   },
   "outputs": [
    {
     "name": "stdout",
     "output_type": "stream",
     "text": [
      "Element is the real part of this expression times  Ω^2/γ\n"
     ]
    },
    {
     "data": {
      "text/html": [
       "<html><script type=\"math/tex; mode=display\">\\newcommand{\\Bold}[1]{\\mathbf{#1}}\\frac{1}{-2 i \\, C R_{f} + {\\tilde{\\Delta }_E}}</script></html>"
      ],
      "text/plain": [
       "1/(-2*I*C*R_f + DEt)"
      ]
     },
     "metadata": {},
     "output_type": "display_data"
    }
   ],
   "source": [
    "diag = 0  #input n corresponding to diag element to view\n",
    "\n",
    "\n",
    "\n",
    "#Take only one of the compl conj terms, choose the one with the shortest length when shortned\n",
    "min_expr_len = 10**10\n",
    "for term in range(2):\n",
    "    b = s1.eff_hamiltonian_gs[diag,diag]\n",
    "    #b = b.subs(gamma0=gamma)\n",
    "    \n",
    "    b = b.operands()[1].operands()[term]  #  + b.operands()[1].operands()[3] use if obtained with sage\n",
    "\n",
    "\n",
    "    b = b.subs(DE=+0.5*I*gamma_f + 0.5*I*gamma_g + DEt*gamma)\n",
    "    b = b.subs(De=+0.5*I*gamma   +Det*gamma)\n",
    "    \n",
    "    b = b.subs(De0= +0.5*I*gamma0 +De0t*gamma)\n",
    "    \n",
    "    #var('a0', latex_name =r'a_0')\n",
    "    #b = b.subs(De0=+0.5*I*gamma   +Det*gamma*a0)\n",
    "    #var('n')\n",
    "    b = b.subs(DE=DEg*gamma)\n",
    "    b = b.subs(De=Deg*gamma)\n",
    "    var('a0', latex_name =r'a_0')\n",
    "    b = b.subs(De0=a0*Deg*gamma)\n",
    "    \n",
    "    var('R_f',domain='real')#ratio  (g_f/g)^2\n",
    "    b = b.subs(g_f=g*sqrt(R_f))\n",
    "    \n",
    "    var('R0',domain='positive',  latex_name =r'R_0')\n",
    "    b = b.subs(g0=g*sqrt(R0))\n",
    "\n",
    "    var('R_v',domain='real',  latex_name =r'R_{\\nu}') #ratio (v/g)^2\n",
    "    b = b.subs(v=g*sqrt(R_v))\n",
    "\n",
    "    var('r_b',domain='real')\n",
    "    b = b.subs(kappa_b=gamma/r_b)\n",
    "\n",
    "\n",
    "    var('r_g',domain='real',latex_name =r'r_g')\n",
    "    b = b.subs(gamma_g=gamma*r_g)\n",
    "\n",
    "\n",
    "    var('r_f',domain='real',latex_name =r'r_f')\n",
    "    b = b.subs(gamma_f=gamma*r_f)\n",
    "    \n",
    "    var('r0',domain='real',latex_name =r'r_0')\n",
    "    b = b.subs(gamma0=gamma*r0)\n",
    "\n",
    "\n",
    "    b = b.subs(g = sqrt(C*kappa_c*gamma)) \n",
    "    \n",
    "    b = b.subs(dc = (dct )*kappa_c  )\n",
    "    b = b.subs(db = (dbt )*kappa_b  )\n",
    "    b = b.subs(r_b = c/(C*R_v))\n",
    "    \n",
    "    b = b*gamma  #Omega has to be substituted with Omega/gamma\n",
    "    \n",
    "\n",
    "    b = b._mathematica_().Factor()._sage_()\n",
    "    b = MMA_simplify(b,full= False)\n",
    "    #holds the smallest expression\n",
    "    if len(str(b))<min_expr_len:\n",
    "        min_expr_len = len(str(b))\n",
    "        h_eff = b\n",
    "print('Element is the real part of this expression times  Ω^2/γ')\n",
    "show( (symround(h_eff,digits=1)))"
   ]
  },
  {
   "cell_type": "markdown",
   "id": "c3cbb2f5",
   "metadata": {},
   "source": [
    "### Show the result separated in Numerator and denominator multiplying by a factor"
   ]
  },
  {
   "cell_type": "code",
   "execution_count": 60,
   "id": "fcd77753",
   "metadata": {},
   "outputs": [
    {
     "name": "stdout",
     "output_type": "stream",
     "text": [
      "numerator\n"
     ]
    },
    {
     "data": {
      "text/html": [
       "<html><script type=\"math/tex; mode=display\">\\newcommand{\\Bold}[1]{\\mathbf{#1}}-2 \\, {\\tilde{\\Delta }_e} {c} {\\tilde{\\delta }_c} - 0.500i \\, {\\tilde{\\Delta }_e} {\\tilde{\\delta }_c}^{2} + C {c} + 0.500i \\, C {\\tilde{\\delta }_c}</script></html>"
      ],
      "text/latex": [
       "$$\\newcommand{\\Bold}[1]{\\mathbf{#1}}-2 \\, {\\tilde{\\Delta }_e} {c} {\\tilde{\\delta }_c} - 0.500i \\, {\\tilde{\\Delta }_e} {\\tilde{\\delta }_c}^{2} + C {c} + 0.500i \\, C {\\tilde{\\delta }_c}$$"
      ],
      "text/plain": [
       "-2*Det*c*dct - 0.500*I*Det*dct^2 + C*c + 0.500*I*C*dct"
      ]
     },
     "metadata": {},
     "output_type": "display_data"
    },
    {
     "name": "stdout",
     "output_type": "stream",
     "text": [
      "\n",
      "\n",
      " Latex\n",
      "-2 \\, {\\tilde{\\Delta }_e} {c} {\\tilde{\\delta }_c} - 0.500i \\, {\\tilde{\\Delta }_e} {\\tilde{\\delta }_c}^{2} + C {c} + 0.500i \\, C {\\tilde{\\delta }_c}\n",
      "~~~~~~~~~~~~~~~~~~~~~~~~~~~~~~~~~~~~~~~~~~~~~~~~~~~~~~~~\n",
      "\n",
      "\n",
      "denominator\n"
     ]
    },
    {
     "data": {
      "text/html": [
       "<html><script type=\"math/tex; mode=display\">\\newcommand{\\Bold}[1]{\\mathbf{#1}}{\\left({\\tilde{\\Delta }_e} {c} + 0.500i \\, {\\tilde{\\Delta }_e} {\\tilde{\\delta }_c} - 0.500i \\, C\\right)} C R_{f} - {\\left(2 \\, {\\tilde{\\Delta }_e} {c} {\\tilde{\\delta }_c} + 0.500i \\, {\\tilde{\\Delta }_e} {\\tilde{\\delta }_c}^{2} - C {c} - 0.500i \\, C {\\tilde{\\delta }_c}\\right)} {\\tilde{\\Delta }_E}</script></html>"
      ],
      "text/latex": [
       "$$\\newcommand{\\Bold}[1]{\\mathbf{#1}}{\\left({\\tilde{\\Delta }_e} {c} + 0.500i \\, {\\tilde{\\Delta }_e} {\\tilde{\\delta }_c} - 0.500i \\, C\\right)} C R_{f} - {\\left(2 \\, {\\tilde{\\Delta }_e} {c} {\\tilde{\\delta }_c} + 0.500i \\, {\\tilde{\\Delta }_e} {\\tilde{\\delta }_c}^{2} - C {c} - 0.500i \\, C {\\tilde{\\delta }_c}\\right)} {\\tilde{\\Delta }_E}$$"
      ],
      "text/plain": [
       "(Det*c + 0.500*I*Det*dct - 0.500*I*C)*C*R_f - (2*Det*c*dct + 0.500*I*Det*dct^2 - C*c - 0.500*I*C*dct)*DEt"
      ]
     },
     "metadata": {},
     "output_type": "display_data"
    },
    {
     "name": "stdout",
     "output_type": "stream",
     "text": [
      "\n",
      "\n",
      " Latex\n",
      "{\\left({\\tilde{\\Delta }_e} {c} + 0.500i \\, {\\tilde{\\Delta }_e} {\\tilde{\\delta }_c} - 0.500i \\, C\\right)} C R_{f} - {\\left(2 \\, {\\tilde{\\Delta }_e} {c} {\\tilde{\\delta }_c} + 0.500i \\, {\\tilde{\\Delta }_e} {\\tilde{\\delta }_c}^{2} - C {c} - 0.500i \\, C {\\tilde{\\delta }_c}\\right)} {\\tilde{\\Delta }_E}\n"
     ]
    }
   ],
   "source": [
    "factor = 1#*16*4\n",
    "\n",
    "\n",
    "print('numerator')\n",
    "nu = symround(SR(str(MMA_simplify(factor*(h_eff.numerator().expand()),full=True)).replace('Sqrt','sqrt'))\\\n",
    "              ,digits=3)\n",
    "show(nu)\n",
    "print(\"\\n\\n Latex\")\n",
    "print(latex(nu))\n",
    "\n",
    "print(\"~~~~~~~~~~~~~~~~~~~~~~~~~~~~~~~~~~~~~~~~~~~~~~~~~~~~~~~~\")\n",
    "print('\\n\\ndenominator')\n",
    "den = symround(SR(str(MMA_simplify(factor*(h_eff.denominator().expand()),full= not True)).replace('Sqrt','sqrt'))\\\n",
    "               ,digits=3)\n",
    "show(den)\n",
    "print(\"\\n\\n Latex\")\n",
    "print(latex(den))"
   ]
  },
  {
   "cell_type": "markdown",
   "id": "d09346ba",
   "metadata": {},
   "source": [
    "# Lindblad Operators\n",
    "\n",
    "Choose which of the Lindblad operators to view and which non zero element of it"
   ]
  },
  {
   "cell_type": "code",
   "execution_count": 12,
   "id": "8e6cdf13",
   "metadata": {
    "scrolled": true
   },
   "outputs": [],
   "source": [
    "\n",
    "def lind(lind_op,which):    \n",
    "    L_matrix_orig = s1.lindblad_list[lind_op]\n",
    "    L_matrix      = s1.eff_lindblad_list[lind_op] #lindblad_list[lind_op] ##(gamma_g=0,gamma_f=gamma)\n",
    "\n",
    "    L_nonzeros = []\n",
    "    L_nonzeros_pos = []\n",
    "    #find non zero elements\n",
    "    for i in  range(L_matrix.nrows()):\n",
    "        for j in  range(L_matrix.ncols()):\n",
    "            if not L_matrix[i,j].is_zero():\n",
    "                L_nonzeros.append(L_matrix[i,j])\n",
    "                L_nonzeros_pos.append((i,j))\n",
    "\n",
    "    #show what these elements do \n",
    "    #for t in L_nonzeros_pos:\n",
    "    #    print(f' |{s1.gs_e1_dec_states[t[0]]}> < {s1.gs_e1_dec_states[t[1]]} | ')\n",
    "\n",
    "    L_elem = L_nonzeros[which]\n",
    "\n",
    "    var('gamma_f')\n",
    "    var('R0',domain='real',latex_name =r'R_0')\n",
    "    L_elem = L_elem.subs(DE=+0.5*I*gamma_f + 0.5*I*gamma_g + DEt*gamma)\n",
    "    L_elem = L_elem.subs(De=+0.5*I*gamma   +Det*gamma)\n",
    "    L_elem = L_elem.subs(De0=+0.5*I*gamma0   +De0t*gamma*R0)\n",
    "    #L_elem = L_elem.subs(DE=gamma*DEg)\n",
    "    #L_elem = L_elem.subs(De=gamma*Deg)                     \n",
    "    #COUPLINGS\n",
    "    b = L_elem\n",
    "    #ratio  (g_0/g)^2\n",
    "    b = b.subs(g0=g*sqrt(R0))\n",
    "    \n",
    "    var('R_f',domain='real')#ratio  (g_f/g)^2\n",
    "    b = b.subs(g_f=g*sqrt(R_f))\n",
    "\n",
    "    var('R_v',domain='real',  latex_name =r'R_{\\nu}') #ratio (v/g)^2\n",
    "    b = b.subs(v=g*sqrt(R_v))\n",
    "\n",
    "    var('r_b',domain='real')\n",
    "    b = b.subs(kappa_b=gamma/r_b)\n",
    "\n",
    "\n",
    "    var('r_g',domain='real',latex_name =r'r_g')\n",
    "    b = b.subs(gamma_g=gamma*r_g)\n",
    "\n",
    "\n",
    "    var('r_f',domain='real',latex_name =r'r_f')\n",
    "    b = b.subs(gamma_f=gamma*r_f)\n",
    "\n",
    "\n",
    "    b = b.subs(g = sqrt(C*kappa_c*gamma)) \n",
    "    \n",
    "    b = b.subs(r_b = c/(C*R_v))\n",
    "    \n",
    "    b = b.subs(dc0 = (dct+0.5*I)*kappa_c )\n",
    "    \n",
    "    \n",
    "    L_elem = b\n",
    "    \n",
    "  \n",
    "    L_elem = L_elem._mathematica_().PowerExpand()._sage_()\n",
    "    L_elem = L_elem._mathematica_().Factor()._sage_()\n",
    "\n",
    "\n",
    "    L_elem = MMA_simplify(L_elem,full=not True)\n",
    "\n",
    "    L_elem = SR(str(L_elem).replace('Sqrt','sqrt'))\n",
    "\n",
    "    \n",
    "\n",
    "    show( symround(L_elem))\n",
    "\n",
    "    print(f' |{s1.gs_e1_dec_states[L_nonzeros_pos[which][0]]}> < {s1.gs_e1_dec_states[L_nonzeros_pos[which][1]]} | \\n')\n",
    "    print(f' Original coefficient :')\n",
    "    show(s1.L_coeffs[lind_op])\n",
    "    return L_elem\n"
   ]
  },
  {
   "cell_type": "markdown",
   "id": "402c63b9",
   "metadata": {},
   "source": [
    "## View Lindblad results"
   ]
  },
  {
   "cell_type": "code",
   "execution_count": 24,
   "id": "8b57964e",
   "metadata": {},
   "outputs": [
    {
     "data": {
      "text/html": [
       "<html><script type=\"math/tex; mode=display\">\\newcommand{\\Bold}[1]{\\mathbf{#1}}\\frac{{\\left(C + 0.50i \\, {\\tilde{\\Delta }_e}\\right)} {\\Omega} \\sqrt{{r_f}}}{{\\left(C {\\tilde{\\Delta }_e} R_{f} + C {\\tilde{\\Delta }_E} + 0.50i \\, {\\tilde{\\Delta }_E} {\\tilde{\\Delta }_e}\\right)} \\sqrt{{\\gamma}}}</script></html>"
      ],
      "text/plain": [
       "(C + 0.50*I*Det)*Omega*sqrt(r_f)/((C*Det*R_f + C*DEt + 0.50*I*DEt*Det)*sqrt(gamma))"
      ]
     },
     "metadata": {},
     "output_type": "display_data"
    },
    {
     "name": "stdout",
     "output_type": "stream",
     "text": [
      " |0f01> < 0g01 | \n",
      "\n",
      " Original coefficient :\n"
     ]
    },
    {
     "data": {
      "text/html": [
       "<html><script type=\"math/tex; mode=display\">\\newcommand{\\Bold}[1]{\\mathbf{#1}}\\sqrt{{\\gamma_f}}</script></html>"
      ],
      "text/plain": [
       "sqrt(gamma_f)"
      ]
     },
     "metadata": {},
     "output_type": "display_data"
    },
    {
     "name": "stdout",
     "output_type": "stream",
     "text": [
      "\\frac{{\\left(C + 0.50i \\, {\\tilde{\\Delta }_e}\\right)} {\\Omega} \\sqrt{{r_f}}}{{\\left(C {\\tilde{\\Delta }_e} R_{f} + C {\\tilde{\\Delta }_E} + 0.50i \\, {\\tilde{\\Delta }_E} {\\tilde{\\Delta }_e}\\right)} \\sqrt{{\\gamma}}}\n"
     ]
    }
   ],
   "source": [
    "lind_op = 1  #which lindblad operator\n",
    "which   = 1  #which non zero element to access\n",
    "L_elem = lind(lind_op,which)\n",
    "\n",
    "print(latex(symround(L_elem)))\n"
   ]
  },
  {
   "cell_type": "code",
   "execution_count": 40,
   "id": "cc68bbb3",
   "metadata": {},
   "outputs": [
    {
     "name": "stdout",
     "output_type": "stream",
     "text": [
      "numerator\n"
     ]
    },
    {
     "data": {
      "text/html": [
       "<html><script type=\"math/tex; mode=display\">\\newcommand{\\Bold}[1]{\\mathbf{#1}}{\\left(2 \\, {\\left(16 \\, {c}^{2} + 12 \\, {c} + 1\\right)} C {\\left({\\tilde{\\Delta }_{e0}} + {\\tilde{\\Delta }_e}\\right)} + {\\left(48 i \\, {c}^{2} + 16 i \\, {c} + i\\right)} {\\tilde{\\Delta }_{e0}} {\\tilde{\\Delta }_e} + C^{2} {\\left(-32 i \\, {c} - 4 i\\right)}\\right)} {\\Omega} \\sqrt{{r_g}}</script></html>"
      ],
      "text/latex": [
       "$$\\newcommand{\\Bold}[1]{\\mathbf{#1}}{\\left(2 \\, {\\left(16 \\, {c}^{2} + 12 \\, {c} + 1\\right)} C {\\left({\\tilde{\\Delta }_{e0}} + {\\tilde{\\Delta }_e}\\right)} + {\\left(48 i \\, {c}^{2} + 16 i \\, {c} + i\\right)} {\\tilde{\\Delta }_{e0}} {\\tilde{\\Delta }_e} + C^{2} {\\left(-32 i \\, {c} - 4 i\\right)}\\right)} {\\Omega} \\sqrt{{r_g}}$$"
      ],
      "text/plain": [
       "(2*(16*c^2 + 12*c + 1)*C*(De0t + Det) + (48*I*c^2 + 16*I*c + I)*De0t*Det + C^2*(-32*I*c - 4*I))*Omega*sqrt(r_g)"
      ]
     },
     "metadata": {},
     "output_type": "display_data"
    },
    {
     "name": "stdout",
     "output_type": "stream",
     "text": [
      "\n",
      "\n",
      " Latex\n",
      "{\\left(2 \\, {\\left(16 \\, {c}^{2} + 12 \\, {c} + 1\\right)} C {\\left({\\tilde{\\Delta }_{e0}} + {\\tilde{\\Delta }_e}\\right)} + {\\left(48 i \\, {c}^{2} + 16 i \\, {c} + i\\right)} {\\tilde{\\Delta }_{e0}} {\\tilde{\\Delta }_e} + C^{2} {\\left(-32 i \\, {c} - 4 i\\right)}\\right)} {\\Omega} \\sqrt{{r_g}}\n",
      "~~~~~~~~~~~~~~~~~~~~~~~~~~~~~~~~~~~~~~~~~~~~~~~~~~~~~~~~\n",
      "\n",
      "\n",
      "denominator\n"
     ]
    },
    {
     "data": {
      "text/html": [
       "<html><script type=\"math/tex; mode=display\">\\newcommand{\\Bold}[1]{\\mathbf{#1}}{\\left({\\left(32 \\, {\\tilde{\\Delta }_{e0}} {\\tilde{\\Delta }_e} {\\left({c} + 0.250\\right)}^{2} + {\\left(-16 i \\, {\\tilde{\\Delta }_{e0}} {c} - 16 i \\, {\\tilde{\\Delta }_e} {c} - 4 i \\, {\\tilde{\\Delta }_{e0}} - 4 i \\, {\\tilde{\\Delta }_e}\\right)} C - 8 \\, C^{2}\\right)} C R_{f} + {\\left(2 \\, {\\left(16 \\, {c}^{2} + 12 \\, {c} + 1\\right)} C {\\left({\\tilde{\\Delta }_{e0}} + {\\tilde{\\Delta }_e}\\right)} + {\\left(48 i \\, {c}^{2} + 16 i \\, {c} + i\\right)} {\\tilde{\\Delta }_{e0}} {\\tilde{\\Delta }_e} + C^{2} {\\left(-32 i \\, {c} - 4 i\\right)}\\right)} {\\tilde{\\Delta }_E}\\right)} \\sqrt{{\\gamma}}</script></html>"
      ],
      "text/latex": [
       "$$\\newcommand{\\Bold}[1]{\\mathbf{#1}}{\\left({\\left(32 \\, {\\tilde{\\Delta }_{e0}} {\\tilde{\\Delta }_e} {\\left({c} + 0.250\\right)}^{2} + {\\left(-16 i \\, {\\tilde{\\Delta }_{e0}} {c} - 16 i \\, {\\tilde{\\Delta }_e} {c} - 4 i \\, {\\tilde{\\Delta }_{e0}} - 4 i \\, {\\tilde{\\Delta }_e}\\right)} C - 8 \\, C^{2}\\right)} C R_{f} + {\\left(2 \\, {\\left(16 \\, {c}^{2} + 12 \\, {c} + 1\\right)} C {\\left({\\tilde{\\Delta }_{e0}} + {\\tilde{\\Delta }_e}\\right)} + {\\left(48 i \\, {c}^{2} + 16 i \\, {c} + i\\right)} {\\tilde{\\Delta }_{e0}} {\\tilde{\\Delta }_e} + C^{2} {\\left(-32 i \\, {c} - 4 i\\right)}\\right)} {\\tilde{\\Delta }_E}\\right)} \\sqrt{{\\gamma}}$$"
      ],
      "text/plain": [
       "((32*De0t*Det*(c + 0.250)^2 + (-16*I*De0t*c - 16*I*Det*c - 4*I*De0t - 4*I*Det)*C - 8*C^2)*C*R_f + (2*(16*c^2 + 12*c + 1)*C*(De0t + Det) + (48*I*c^2 + 16*I*c + I)*De0t*Det + C^2*(-32*I*c - 4*I))*DEt)*sqrt(gamma)"
      ]
     },
     "metadata": {},
     "output_type": "display_data"
    },
    {
     "name": "stdout",
     "output_type": "stream",
     "text": [
      "\n",
      "\n",
      " Latex\n",
      "{\\left({\\left(32 \\, {\\tilde{\\Delta }_{e0}} {\\tilde{\\Delta }_e} {\\left({c} + 0.250\\right)}^{2} + {\\left(-16 i \\, {\\tilde{\\Delta }_{e0}} {c} - 16 i \\, {\\tilde{\\Delta }_e} {c} - 4 i \\, {\\tilde{\\Delta }_{e0}} - 4 i \\, {\\tilde{\\Delta }_e}\\right)} C - 8 \\, C^{2}\\right)} C R_{f} + {\\left(2 \\, {\\left(16 \\, {c}^{2} + 12 \\, {c} + 1\\right)} C {\\left({\\tilde{\\Delta }_{e0}} + {\\tilde{\\Delta }_e}\\right)} + {\\left(48 i \\, {c}^{2} + 16 i \\, {c} + i\\right)} {\\tilde{\\Delta }_{e0}} {\\tilde{\\Delta }_e} + C^{2} {\\left(-32 i \\, {c} - 4 i\\right)}\\right)} {\\tilde{\\Delta }_E}\\right)} \\sqrt{{\\gamma}}\n"
     ]
    }
   ],
   "source": [
    "factor = -8\n",
    "\n",
    "\n",
    "print('numerator')\n",
    "nu = symround(SR(str(MMA_simplify(factor*(L_elem.numerator().expand()),full=not True)).replace('Sqrt','sqrt'))\\\n",
    "              ,digits=3)\n",
    "show(nu)\n",
    "print(\"\\n\\n Latex\")\n",
    "print(latex(nu))\n",
    "\n",
    "print(\"~~~~~~~~~~~~~~~~~~~~~~~~~~~~~~~~~~~~~~~~~~~~~~~~~~~~~~~~\")\n",
    "print('\\n\\ndenominator')\n",
    "den = symround(SR(str(MMA_simplify(factor*(L_elem.denominator().expand()),full=not True)).replace('Sqrt','sqrt'))\\\n",
    "               ,digits=3)\n",
    "show(den)\n",
    "print(\"\\n\\n Latex\")\n",
    "print(latex(den))"
   ]
  },
  {
   "cell_type": "markdown",
   "id": "054a17ad",
   "metadata": {},
   "source": [
    "# Expand linearly in the limit:   $C\\rightarrow \\infty$ routine"
   ]
  },
  {
   "cell_type": "code",
   "execution_count": null,
   "id": "bf98a8d5",
   "metadata": {},
   "outputs": [
    {
     "data": {
      "text/html": [
       "<html><script type=\"math/tex; mode=display\">\\newcommand{\\Bold}[1]{\\mathbf{#1}}\\frac{{\\left(2 i \\, {R_{\\nu}} {c_\\kappa} + 0.66i\\right)} {R_{\\nu}} {c_\\kappa} + 0.042i}{{\\left({\\left(2 i \\, {\\Delta E} + 1.3 \\, R_{f}\\right)} {R_{\\nu}}^{2} {c_\\kappa}^{2} + {\\left(0.66i \\, {\\Delta E} + R_{f}\\right)} {R_{\\nu}} {c_\\kappa} + 0.042i \\, {\\Delta E} + 0.083 \\, R_{f}\\right)} C}</script></html>"
      ],
      "text/latex": [
       "$$\\newcommand{\\Bold}[1]{\\mathbf{#1}}\\frac{{\\left(2 i \\, {R_{\\nu}} {c_\\kappa} + 0.66i\\right)} {R_{\\nu}} {c_\\kappa} + 0.042i}{{\\left({\\left(2 i \\, {\\Delta E} + 1.3 \\, R_{f}\\right)} {R_{\\nu}}^{2} {c_\\kappa}^{2} + {\\left(0.66i \\, {\\Delta E} + R_{f}\\right)} {R_{\\nu}} {c_\\kappa} + 0.042i \\, {\\Delta E} + 0.083 \\, R_{f}\\right)} C}$$"
      ],
      "text/plain": [
       "((2*I*R_v*c_k + 0.66*I)*R_v*c_k + 0.042*I)/(((2*I*DE + 1.3*R_f)*R_v^2*c_k^2 + (0.66*I*DE + R_f)*R_v*c_k + 0.042*I*DE + 0.083*R_f)*C)"
      ]
     },
     "metadata": {},
     "output_type": "display_data"
    }
   ],
   "source": [
    "#with mathematica\n",
    "q = b.subs(C=1/x)\n",
    "q = MMA_simplify(q)\n",
    "tayl = q._mathematica_().Series((x,0,1)).Normal()._sage_()\n",
    "tayl = tayl.subs(x=1/C)\n",
    "\n",
    "show(symround(tayl))\n"
   ]
  },
  {
   "cell_type": "markdown",
   "id": "93617ed6",
   "metadata": {},
   "source": [
    "# ~v~v~v~v~v~v~v~v~v~v~v~~v~v~v~v~v~v~v~v~vv"
   ]
  },
  {
   "cell_type": "code",
   "execution_count": 2,
   "id": "a2451d68",
   "metadata": {},
   "outputs": [],
   "source": [
    "def substit(a):\n",
    "    np.random.seed(31)\n",
    "    \n",
    "    a = a.subs(g0=g,gamma0=gamma)\n",
    "    \n",
    "    a = MMA_simplify((a.subs(db=np.random.random(),\n",
    "            #De0=np.random.random(),\n",
    "             #De=np.random.random(),\n",
    "             gamma=np.random.random(),\n",
    "             Omega=C^(1/2)*np.random.random(),\n",
    "             g=C^(1/2)*np.random.random(),#np.random.random(),\n",
    "             v=C^(1/2)*np.random.random(),#np.random.random(),\n",
    "             g0=C^(1/2)*np.random.random(),#np.random.random(),\n",
    "             g_f=C^(1/2)*np.random.random(),#np.random.random(),\n",
    "             gamma_g = np.random.random(),\n",
    "             gamma_f=np.random.random(),\n",
    "             gamma0=np.random.random(),\n",
    "             kappa_c=np.random.random(),\n",
    "             #dc=np.random.random(),\n",
    "             phi=np.random.random(),\n",
    "             kappa_b=np.random.random())))\n",
    "    a = symround(a,show_del=False,tol=1e-10)#.subs(DE=np.random.random()).n()\n",
    "\n",
    "    return a"
   ]
  },
  {
   "cell_type": "code",
   "execution_count": null,
   "id": "0a98d1bf",
   "metadata": {},
   "outputs": [],
   "source": []
  },
  {
   "cell_type": "markdown",
   "id": "64d5841f",
   "metadata": {},
   "source": [
    "# Check if by flipping detunings we can achieve same losses"
   ]
  },
  {
   "cell_type": "code",
   "execution_count": 3,
   "id": "a0a305b6",
   "metadata": {},
   "outputs": [
    {
     "name": "stdout",
     "output_type": "stream",
     "text": [
      "0\n",
      "1\n",
      "2\n",
      "3\n",
      "4\n",
      "5\n",
      "6\n",
      "7\n",
      "8\n",
      "9\n",
      "10\n"
     ]
    }
   ],
   "source": [
    "L_nonzeros = []\n",
    "L_nonzeros_pos = []\n",
    "for i in range(len(s1.lindblad_list)):\n",
    "    print(i)\n",
    "    L_matrix_orig = s1.lindblad_list[i]\n",
    "    L_matrix      = s1.eff_lindblad_list[i] #lindblad_list[lind_op] ##(gamma_g=0,gamma_f=gamma)\n",
    "\n",
    "    L_nonzeros.append([])\n",
    "    L_nonzeros_pos.append([])\n",
    "    #find non zero elements\n",
    "    for i in  range(L_matrix.nrows()):\n",
    "        for j in  range(L_matrix.ncols()):\n",
    "            if str(L_matrix[i,j])!= '0.0' and str(L_matrix[i,j])!= '0': #not L_matrix[i,j].is_zero():\n",
    "                L_nonzeros[-1].append(L_matrix[i,j])\n",
    "                L_nonzeros_pos[-1].append((i,j))\n"
   ]
  },
  {
   "cell_type": "markdown",
   "id": "4e75e253",
   "metadata": {},
   "source": [
    "# O-x-O"
   ]
  },
  {
   "cell_type": "code",
   "execution_count": 22,
   "id": "5c334a62",
   "metadata": {},
   "outputs": [
    {
     "data": {
      "text/html": [
       "<html><script type=\"math/tex; mode=display\">\\newcommand{\\Bold}[1]{\\mathbf{#1}}\\begin{array}{l}\n",
       "\\verb|[0.49*(0.054*DE^6|\\phantom{\\verb!x!}\\verb|+|\\phantom{\\verb!x!}\\verb|0.10*DE^4|\\phantom{\\verb!x!}\\verb|+|\\phantom{\\verb!x!}\\verb|(DE^2|\\phantom{\\verb!x!}\\verb|+|\\phantom{\\verb!x!}\\verb|0.91)*C^2|\\phantom{\\verb!x!}\\verb|+|\\phantom{\\verb!x!}\\verb|(-0.47*DE^4|\\phantom{\\verb!x!}\\verb|-|\\phantom{\\verb!x!}\\verb|0.45*DE^2|\\phantom{\\verb!x!}\\verb|-|\\phantom{\\verb!x!}\\verb|0.021)*C|\\phantom{\\verb!x!}\\verb|+|\\phantom{\\verb!x!}\\verb|0.046*DE^2|\\phantom{\\verb!x!}\\verb|+|\\phantom{\\verb!x!}\\verb|0.000092)*C*DE/(0.045*DE^8|\\phantom{\\verb!x!}\\verb|+|\\phantom{\\verb!x!}\\verb|0.083*DE^6|\\phantom{\\verb!x!}\\verb|+|\\phantom{\\verb!x!}\\verb|0.039*DE^4|\\phantom{\\verb!x!}\\verb|+|\\phantom{\\verb!x!}\\verb|(DE^4|\\phantom{\\verb!x!}\\verb|+|\\phantom{\\verb!x!}\\verb|0.97*DE^2|\\phantom{\\verb!x!}\\verb|+|\\phantom{\\verb!x!}\\verb|0.047)*C^2|\\phantom{\\verb!x!}\\verb|+|\\phantom{\\verb!x!}\\verb|(-0.42*DE^6|\\phantom{\\verb!x!}\\verb|-|\\phantom{\\verb!x!}\\verb|0.45*DE^4|\\phantom{\\verb!x!}\\verb|-|\\phantom{\\verb!x!}\\verb|0.050*DE^2|\\phantom{\\verb!x!}\\verb|+|\\phantom{\\verb!x!}\\verb|0.00027)*C|\\phantom{\\verb!x!}\\verb|+|\\phantom{\\verb!x!}\\verb|0.00027*DE^2|\\phantom{\\verb!x!}\\verb|+|\\phantom{\\verb!x!}\\verb|3.9e-7)|\\phantom{\\verb!x!}\\verb|+|\\phantom{\\verb!x!}\\verb|0.72*(-1.2*DE^2|\\phantom{\\verb!x!}\\verb|+|\\phantom{\\verb!x!}\\verb|C|\\phantom{\\verb!x!}\\verb|-|\\phantom{\\verb!x!}\\verb|0.0024)*C*DE/(1.5*DE^4|\\phantom{\\verb!x!}\\verb|-|\\phantom{\\verb!x!}\\verb|2.4*C*DE^2|\\phantom{\\verb!x!}\\verb|+|\\phantom{\\verb!x!}\\verb|C^2|\\phantom{\\verb!x!}\\verb|+|\\phantom{\\verb!x!}\\verb|0.010*DE^2|\\phantom{\\verb!x!}\\verb|+|\\phantom{\\verb!x!}\\verb|0.0078*C|\\phantom{\\verb!x!}\\verb|+|\\phantom{\\verb!x!}\\verb|0.000015)|\\\\\n",
       "\\phantom{\\verb!x!}\\verb|-0.22*(1.6*DE^4|\\phantom{\\verb!x!}\\verb|+|\\phantom{\\verb!x!}\\verb|(-2.8*DE^2|\\phantom{\\verb!x!}\\verb|-|\\phantom{\\verb!x!}\\verb|0.058)*C|\\phantom{\\verb!x!}\\verb|+|\\phantom{\\verb!x!}\\verb|C^2|\\phantom{\\verb!x!}\\verb|+|\\phantom{\\verb!x!}\\verb|0.093*DE^2|\\phantom{\\verb!x!}\\verb|+|\\phantom{\\verb!x!}\\verb|0.00018)*C*DE/(0.58*DE^6|\\phantom{\\verb!x!}\\verb|+|\\phantom{\\verb!x!}\\verb|0.038*DE^4|\\phantom{\\verb!x!}\\verb|+|\\phantom{\\verb!x!}\\verb|(DE^2|\\phantom{\\verb!x!}\\verb|+|\\phantom{\\verb!x!}\\verb|0.031)*C^2|\\phantom{\\verb!x!}\\verb|+|\\phantom{\\verb!x!}\\verb|(-1.5*DE^4|\\phantom{\\verb!x!}\\verb|-|\\phantom{\\verb!x!}\\verb|0.049*DE^2|\\phantom{\\verb!x!}\\verb|+|\\phantom{\\verb!x!}\\verb|0.00021)*C|\\phantom{\\verb!x!}\\verb|+|\\phantom{\\verb!x!}\\verb|0.00024*DE^2|\\phantom{\\verb!x!}\\verb|+|\\phantom{\\verb!x!}\\verb|3.5e-7)|\\phantom{\\verb!x!}\\verb|+|\\phantom{\\verb!x!}\\verb|0.42*(0.19*DE^4|\\phantom{\\verb!x!}\\verb|+|\\phantom{\\verb!x!}\\verb|(-0.88*DE^2|\\phantom{\\verb!x!}\\verb|-|\\phantom{\\verb!x!}\\verb|0.11)*C|\\phantom{\\verb!x!}\\verb|+|\\phantom{\\verb!x!}\\verb|C^2|\\phantom{\\verb!x!}\\verb|+|\\phantom{\\verb!x!}\\verb|0.17*DE^2|\\phantom{\\verb!x!}\\verb|+|\\phantom{\\verb!x!}\\verb|0.00034)*C*DE/(0.13*DE^6|\\phantom{\\verb!x!}\\verb|+|\\phantom{\\verb!x!}\\verb|0.12*DE^4|\\phantom{\\verb!x!}\\verb|+|\\phantom{\\verb!x!}\\verb|(DE^2|\\phantom{\\verb!x!}\\verb|+|\\phantom{\\verb!x!}\\verb|0.11)*C^2|\\phantom{\\verb!x!}\\verb|+|\\phantom{\\verb!x!}\\verb|(-0.72*DE^4|\\phantom{\\verb!x!}\\verb|-|\\phantom{\\verb!x!}\\verb|0.18*DE^2|\\phantom{\\verb!x!}\\verb|+|\\phantom{\\verb!x!}\\verb|0.00075)*C|\\phantom{\\verb!x!}\\verb|+|\\phantom{\\verb!x!}\\verb|0.00086*DE^2|\\phantom{\\verb!x!}\\verb|+|\\phantom{\\verb!x!}\\verb|1.2e-6)|\\\\\n",
       "\\phantom{\\verb!x!}\\verb|-0.22*(1.6*DE^4|\\phantom{\\verb!x!}\\verb|+|\\phantom{\\verb!x!}\\verb|(-2.8*DE^2|\\phantom{\\verb!x!}\\verb|-|\\phantom{\\verb!x!}\\verb|0.058)*C|\\phantom{\\verb!x!}\\verb|+|\\phantom{\\verb!x!}\\verb|C^2|\\phantom{\\verb!x!}\\verb|+|\\phantom{\\verb!x!}\\verb|0.093*DE^2|\\phantom{\\verb!x!}\\verb|+|\\phantom{\\verb!x!}\\verb|0.00018)*C*DE/(0.58*DE^6|\\phantom{\\verb!x!}\\verb|+|\\phantom{\\verb!x!}\\verb|0.038*DE^4|\\phantom{\\verb!x!}\\verb|+|\\phantom{\\verb!x!}\\verb|(DE^2|\\phantom{\\verb!x!}\\verb|+|\\phantom{\\verb!x!}\\verb|0.031)*C^2|\\phantom{\\verb!x!}\\verb|+|\\phantom{\\verb!x!}\\verb|(-1.5*DE^4|\\phantom{\\verb!x!}\\verb|-|\\phantom{\\verb!x!}\\verb|0.049*DE^2|\\phantom{\\verb!x!}\\verb|+|\\phantom{\\verb!x!}\\verb|0.00021)*C|\\phantom{\\verb!x!}\\verb|+|\\phantom{\\verb!x!}\\verb|0.00024*DE^2|\\phantom{\\verb!x!}\\verb|+|\\phantom{\\verb!x!}\\verb|3.5e-7)|\\phantom{\\verb!x!}\\verb|+|\\phantom{\\verb!x!}\\verb|0.42*(0.19*DE^4|\\phantom{\\verb!x!}\\verb|+|\\phantom{\\verb!x!}\\verb|(-0.88*DE^2|\\phantom{\\verb!x!}\\verb|-|\\phantom{\\verb!x!}\\verb|0.11)*C|\\phantom{\\verb!x!}\\verb|+|\\phantom{\\verb!x!}\\verb|C^2|\\phantom{\\verb!x!}\\verb|+|\\phantom{\\verb!x!}\\verb|0.17*DE^2|\\phantom{\\verb!x!}\\verb|+|\\phantom{\\verb!x!}\\verb|0.00034)*C*DE/(0.13*DE^6|\\phantom{\\verb!x!}\\verb|+|\\phantom{\\verb!x!}\\verb|0.12*DE^4|\\phantom{\\verb!x!}\\verb|+|\\phantom{\\verb!x!}\\verb|(DE^2|\\phantom{\\verb!x!}\\verb|+|\\phantom{\\verb!x!}\\verb|0.11)*C^2|\\phantom{\\verb!x!}\\verb|+|\\phantom{\\verb!x!}\\verb|(-0.72*DE^4|\\phantom{\\verb!x!}\\verb|-|\\phantom{\\verb!x!}\\verb|0.18*DE^2|\\phantom{\\verb!x!}\\verb|+|\\phantom{\\verb!x!}\\verb|0.00075)*C|\\phantom{\\verb!x!}\\verb|+|\\phantom{\\verb!x!}\\verb|0.00086*DE^2|\\phantom{\\verb!x!}\\verb|+|\\phantom{\\verb!x!}\\verb|1.2e-6)|\\\\\n",
       "\\phantom{\\verb!x!}\\verb|-0.32*(0.57*DE^6|\\phantom{\\verb!x!}\\verb|+|\\phantom{\\verb!x!}\\verb|0.066*DE^4|\\phantom{\\verb!x!}\\verb|+|\\phantom{\\verb!x!}\\verb|(DE^2|\\phantom{\\verb!x!}\\verb|+|\\phantom{\\verb!x!}\\verb|0.057)*C^2|\\phantom{\\verb!x!}\\verb|+|\\phantom{\\verb!x!}\\verb|(-1.6*DE^4|\\phantom{\\verb!x!}\\verb|-|\\phantom{\\verb!x!}\\verb|0.11*DE^2|\\phantom{\\verb!x!}\\verb|-|\\phantom{\\verb!x!}\\verb|0.00087)*C|\\phantom{\\verb!x!}\\verb|+|\\phantom{\\verb!x!}\\verb|0.0020*DE^2|\\phantom{\\verb!x!}\\verb|+|\\phantom{\\verb!x!}\\verb|3.8e-6)*C*DE/(0.31*DE^8|\\phantom{\\verb!x!}\\verb|+|\\phantom{\\verb!x!}\\verb|0.038*DE^6|\\phantom{\\verb!x!}\\verb|+|\\phantom{\\verb!x!}\\verb|0.0013*DE^4|\\phantom{\\verb!x!}\\verb|+|\\phantom{\\verb!x!}\\verb|(DE^4|\\phantom{\\verb!x!}\\verb|+|\\phantom{\\verb!x!}\\verb|0.079*DE^2|\\phantom{\\verb!x!}\\verb|+|\\phantom{\\verb!x!}\\verb|0.0013)*C^2|\\phantom{\\verb!x!}\\verb|+|\\phantom{\\verb!x!}\\verb|(-1.1*DE^6|\\phantom{\\verb!x!}\\verb|-|\\phantom{\\verb!x!}\\verb|0.088*DE^4|\\phantom{\\verb!x!}\\verb|-|\\phantom{\\verb!x!}\\verb|0.0013*DE^2|\\phantom{\\verb!x!}\\verb|+|\\phantom{\\verb!x!}\\verb|7.3e-6)*C|\\phantom{\\verb!x!}\\verb|+|\\phantom{\\verb!x!}\\verb|(7.6e-6)*DE^2|\\phantom{\\verb!x!}\\verb|+|\\phantom{\\verb!x!}\\verb|1.0e-8)|\\phantom{\\verb!x!}\\verb|-|\\phantom{\\verb!x!}\\verb|0.72*(-1.2*DE^2|\\phantom{\\verb!x!}\\verb|+|\\phantom{\\verb!x!}\\verb|C|\\phantom{\\verb!x!}\\verb|-|\\phantom{\\verb!x!}\\verb|0.0024)*C*DE/(1.5*DE^4|\\phantom{\\verb!x!}\\verb|-|\\phantom{\\verb!x!}\\verb|2.4*C*DE^2|\\phantom{\\verb!x!}\\verb|+|\\phantom{\\verb!x!}\\verb|C^2|\\phantom{\\verb!x!}\\verb|+|\\phantom{\\verb!x!}\\verb|0.010*DE^2|\\phantom{\\verb!x!}\\verb|+|\\phantom{\\verb!x!}\\verb|0.0078*C|\\phantom{\\verb!x!}\\verb|+|\\phantom{\\verb!x!}\\verb|0.000015)]|\n",
       "\\end{array}</script></html>"
      ],
      "text/plain": [
       "array([0.49*(0.054*DE^6 + 0.10*DE^4 + (DE^2 + 0.91)*C^2 + (-0.47*DE^4 - 0.45*DE^2 - 0.021)*C + 0.046*DE^2 + 0.000092)*C*DE/(0.045*DE^8 + 0.083*DE^6 + 0.039*DE^4 + (DE^4 + 0.97*DE^2 + 0.047)*C^2 + (-0.42*DE^6 - 0.45*DE^4 - 0.050*DE^2 + 0.00027)*C + 0.00027*DE^2 + 3.9e-7) + 0.72*(-1.2*DE^2 + C - 0.0024)*C*DE/(1.5*DE^4 - 2.4*C*DE^2 + C^2 + 0.010*DE^2 + 0.0078*C + 0.000015),\n",
       "       -0.22*(1.6*DE^4 + (-2.8*DE^2 - 0.058)*C + C^2 + 0.093*DE^2 + 0.00018)*C*DE/(0.58*DE^6 + 0.038*DE^4 + (DE^2 + 0.031)*C^2 + (-1.5*DE^4 - 0.049*DE^2 + 0.00021)*C + 0.00024*DE^2 + 3.5e-7) + 0.42*(0.19*DE^4 + (-0.88*DE^2 - 0.11)*C + C^2 + 0.17*DE^2 + 0.00034)*C*DE/(0.13*DE^6 + 0.12*DE^4 + (DE^2 + 0.11)*C^2 + (-0.72*DE^4 - 0.18*DE^2 + 0.00075)*C + 0.00086*DE^2 + 1.2e-6),\n",
       "       -0.22*(1.6*DE^4 + (-2.8*DE^2 - 0.058)*C + C^2 + 0.093*DE^2 + 0.00018)*C*DE/(0.58*DE^6 + 0.038*DE^4 + (DE^2 + 0.031)*C^2 + (-1.5*DE^4 - 0.049*DE^2 + 0.00021)*C + 0.00024*DE^2 + 3.5e-7) + 0.42*(0.19*DE^4 + (-0.88*DE^2 - 0.11)*C + C^2 + 0.17*DE^2 + 0.00034)*C*DE/(0.13*DE^6 + 0.12*DE^4 + (DE^2 + 0.11)*C^2 + (-0.72*DE^4 - 0.18*DE^2 + 0.00075)*C + 0.00086*DE^2 + 1.2e-6),\n",
       "       -0.32*(0.57*DE^6 + 0.066*DE^4 + (DE^2 + 0.057)*C^2 + (-1.6*DE^4 - 0.11*DE^2 - 0.00087)*C + 0.0020*DE^2 + 3.8e-6)*C*DE/(0.31*DE^8 + 0.038*DE^6 + 0.0013*DE^4 + (DE^4 + 0.079*DE^2 + 0.0013)*C^2 + (-1.1*DE^6 - 0.088*DE^4 - 0.0013*DE^2 + 7.3e-6)*C + (7.6e-6)*DE^2 + 1.0e-8) - 0.72*(-1.2*DE^2 + C - 0.0024)*C*DE/(1.5*DE^4 - 2.4*C*DE^2 + C^2 + 0.010*DE^2 + 0.0078*C + 0.000015)],\n",
       "      dtype=object)"
      ]
     },
     "metadata": {},
     "output_type": "display_data"
    }
   ],
   "source": [
    "a = s1.eff_hamiltonian_gs.subs(dc=DE,db=DE,De=2*DE,De0=0)\n",
    "\n",
    "b = s1.eff_hamiltonian_gs.subs(dc=-DE,db=-DE,De0=-1.5*DE,De=-0.5*DE,DE=-DE)\n",
    "\n",
    "#show(substit(s1.eff_hamiltonian_gs[0,0]))\n",
    "#q = substit(a+b)\n",
    "q = substit(a).numpy().diagonal()+substit(b).numpy().diagonal()[::-1]\n",
    "show(q)"
   ]
  },
  {
   "cell_type": "code",
   "execution_count": 195,
   "id": "c48cf8b2",
   "metadata": {},
   "outputs": [],
   "source": []
  },
  {
   "cell_type": "code",
   "execution_count": 6,
   "id": "13007d09",
   "metadata": {},
   "outputs": [],
   "source": [
    "# gate time\n",
    "va = substit(a).numpy().diagonal()\n",
    "\n",
    "den = va[0]+va[3]-va[1]-va[2]\n",
    "\n",
    "den = den._mathematica_().Together()._sage_()\n",
    "\n",
    "tg = np.pi/den"
   ]
  },
  {
   "cell_type": "code",
   "execution_count": null,
   "id": "bbaa6508",
   "metadata": {},
   "outputs": [],
   "source": []
  },
  {
   "cell_type": "code",
   "execution_count": 7,
   "id": "7466706f",
   "metadata": {},
   "outputs": [
    {
     "name": "stdout",
     "output_type": "stream",
     "text": [
      "0 0 sqrt(kappa_c)\n",
      "Yesssssssssssssssssss\n",
      "1 0 sqrt(gamma)\n",
      "no\n",
      "((-(7.3e-6)*DE^6 - (3.4e-7)*DE^4 + (4.7e-8)*DE^2)*C^8 + (0.000049*DE^8 - (3.3e-6)*DE^6 - (9.5e-7)*DE^4 - (2.9e-9)*DE^2)*C^7 + (-0.00012*DE^10 + 0.000027*DE^8 + (4.1e-6)*DE^6 - (2.7e-8)*DE^4 - (3.3e-10)*DE^2)*C^6 + (0.00013*DE^12 - 0.000068*DE^10 - (8.6e-6)*DE^8 + (1.4e-8)*DE^6 - (1.7e-9)*DE^4)*C^5 + (-0.000053*DE^14 + 0.000072*DE^12 + (8.7e-6)*DE^10 + (1.5e-9)*DE^8 - (3.8e-9)*DE^6)*C^4 + (-0.000027*DE^13 - (3.0e-6)*DE^11 + (1.1e-7)*DE^9 + (1.2e-8)*DE^7)*C^3*DE)*C^5/((-3.9*DE^8 + 5.3*I*DE^7 + 2.9*DE^6 - 0.83*I*DE^5 + (DE^2 - 0.63*I*DE - 0.10)*C^3 - 0.13*DE^4 + (-4.9*DE^4 + 4.3*I*DE^3 + 1.3*DE^2 - 0.15*I*DE - 0.0045)*C^2 + 0.012*I*DE^3 + (7.8*DE^6 - 8.8*I*DE^5 - 3.8*DE^4 + 0.79*I*DE^3 + 0.080*DE^2 - 0.0036*I*DE - 0.000058)*C + 0.00060*DE^2 - 0.000015*I*DE - 1.6e-7)*(-3.9*DE^8 - 5.3*I*DE^7 + 2.9*DE^6 + 0.83*I*DE^5 + (DE^2 + 0.63*I*DE - 0.10)*C^3 - 0.13*DE^4 + (-4.9*DE^4 - 4.3*I*DE^3 + 1.3*DE^2 + 0.15*I*DE - 0.0045)*C^2 - 0.012*I*DE^3 + (7.8*DE^6 + 8.8*I*DE^5 - 3.8*DE^4 - 0.79*I*DE^3 + 0.080*DE^2 + 0.0036*I*DE - 0.000058)*C + 0.00060*DE^2 + 0.000015*I*DE - 1.6e-7)*(1.0*I*DE^7 + 1.1*DE^6 - 0.48*I*DE^5 + (DE^2 - 0.66*I*DE - 0.11)*C^3 - 0.10*DE^4 - (3*DE^4 - 3.2*I*DE^3 - 1.1*DE^2 + 0.15*I*DE + 0.0049)*C^2 + 0.010*I*DE^3 + (2.1*DE^6 - 3.8*I*DE^5 - 2.3*DE^4 + 0.61*I*DE^3 + 0.073*DE^2 - 0.0037*I*DE - 0.000063)*C + 0.00058*DE^2 - 0.000016*I*DE - 1.8e-7)*(-1.0*I*DE^7 + 1.1*DE^6 + 0.48*I*DE^5 + (DE^2 + 0.66*I*DE - 0.11)*C^3 - 0.10*DE^4 - (3*DE^4 + 3.2*I*DE^3 - 1.1*DE^2 - 0.15*I*DE + 0.0049)*C^2 - 0.010*I*DE^3 + (2.1*DE^6 + 3.8*I*DE^5 - 2.3*DE^4 - 0.61*I*DE^3 + 0.073*DE^2 + 0.0037*I*DE - 0.000063)*C + 0.00058*DE^2 + 0.000016*I*DE - 1.8e-7))\n",
      "Yesssssssssssssssssss\n",
      "2 0 sqrt(gamma0)\n",
      "3 0 sqrt(kappa_b)\n",
      "Yesssssssssssssssssss\n",
      "4 0 sqrt(kappa_c)\n",
      "Yesssssssssssssssssss\n",
      "5 0 sqrt(gamma_f)\n",
      "no\n",
      "(0.33*I*DE^4 + (-1.4*I*DE^2 + 0.26*I)*C^2 + 0.12*I*C^3 + (-1.1*I*DE^2 + 0.017*I)*C - 0.068*I*DE^2 + 0.00024*I)*C*DE/((0.27*DE^6 + 0.23*I*DE^5 + (DE^2 + 0.69*I*DE - 0.12)*C^3 - 0.070*DE^4 + (-1.1*DE^4 - 1.9*I*DE^3 + 0.93*DE^2 + 0.16*I*DE - 0.0053)*C^2 - 0.0090*I*DE^3 + (1.1*I*DE^5 - 1.2*DE^4 - 0.43*I*DE^3 + 0.066*DE^2 + 0.0037*I*DE - 0.000069)*C + 0.00056*DE^2 + 0.000017*I*DE - 1.9e-7)*(0.27*DE^6 - 0.23*I*DE^5 + (DE^2 - 0.69*I*DE - 0.12)*C^3 - 0.070*DE^4 + (-1.1*DE^4 + 1.9*I*DE^3 + 0.93*DE^2 - 0.16*I*DE - 0.0053)*C^2 + 0.0090*I*DE^3 + (-1.1*I*DE^5 - 1.2*DE^4 + 0.43*I*DE^3 + 0.066*DE^2 - 0.0037*I*DE - 0.000069)*C + 0.00056*DE^2 - 0.000017*I*DE - 1.9e-7))\n",
      "6 0 sqrt(gamma_g)\n",
      "no\n",
      "(0.30*I*DE^4 + (-1.2*I*DE^2 + 0.24*I)*C^2 + 0.11*I*C^3 + (-0.98*I*DE^2 + 0.016*I)*C - 0.062*I*DE^2 + 0.00022*I)*C*DE/((0.27*DE^6 + 0.23*I*DE^5 + (DE^2 + 0.69*I*DE - 0.12)*C^3 - 0.070*DE^4 + (-1.1*DE^4 - 1.9*I*DE^3 + 0.93*DE^2 + 0.16*I*DE - 0.0053)*C^2 - 0.0090*I*DE^3 + (1.1*I*DE^5 - 1.2*DE^4 - 0.43*I*DE^3 + 0.066*DE^2 + 0.0037*I*DE - 0.000069)*C + 0.00056*DE^2 + 0.000017*I*DE - 1.9e-7)*(0.27*DE^6 - 0.23*I*DE^5 + (DE^2 - 0.69*I*DE - 0.12)*C^3 - 0.070*DE^4 + (-1.1*DE^4 + 1.9*I*DE^3 + 0.93*DE^2 - 0.16*I*DE - 0.0053)*C^2 + 0.0090*I*DE^3 + (-1.1*I*DE^5 - 1.2*DE^4 + 0.43*I*DE^3 + 0.066*DE^2 - 0.0037*I*DE - 0.000069)*C + 0.00056*DE^2 - 0.000017*I*DE - 1.9e-7))\n",
      "7 0 sqrt(kappa_b)\n",
      "Yesssssssssssssssssss\n",
      "8 0 sqrt(kappa_c)\n",
      "Yesssssssssssssssssss\n",
      "9 0 sqrt(gamma)\n",
      "no\n",
      "((-(7.3e-6)*DE^6 - (3.4e-7)*DE^4 + (4.7e-8)*DE^2)*C^8 + (0.000049*DE^8 - (3.3e-6)*DE^6 - (9.5e-7)*DE^4 - (2.9e-9)*DE^2)*C^7 + (-0.00012*DE^10 + 0.000027*DE^8 + (4.1e-6)*DE^6 - (2.7e-8)*DE^4 - (3.3e-10)*DE^2)*C^6 + (0.00013*DE^12 - 0.000068*DE^10 - (8.6e-6)*DE^8 + (1.4e-8)*DE^6 - (1.7e-9)*DE^4)*C^5 + (-0.000053*DE^14 + 0.000072*DE^12 + (8.7e-6)*DE^10 + (1.5e-9)*DE^8 - (3.8e-9)*DE^6)*C^4 + (-0.000027*DE^14 - (3.0e-6)*DE^12 + (1.1e-7)*DE^10 + (1.2e-8)*DE^8)*C^3)*C^5/((-3.9*DE^8 + 5.3*I*DE^7 + 2.9*DE^6 - 0.83*I*DE^5 + (DE^2 - 0.63*I*DE - 0.10)*C^3 - 0.13*DE^4 + (-4.9*DE^4 + 4.3*I*DE^3 + 1.3*DE^2 - 0.15*I*DE - 0.0045)*C^2 + 0.012*I*DE^3 + (7.8*DE^6 - 8.8*I*DE^5 - 3.8*DE^4 + 0.79*I*DE^3 + 0.080*DE^2 - 0.0036*I*DE - 0.000058)*C + 0.00060*DE^2 - 0.000015*I*DE - 1.6e-7)*(-3.9*DE^8 - 5.3*I*DE^7 + 2.9*DE^6 + 0.83*I*DE^5 + (DE^2 + 0.63*I*DE - 0.10)*C^3 - 0.13*DE^4 + (-4.9*DE^4 - 4.3*I*DE^3 + 1.3*DE^2 + 0.15*I*DE - 0.0045)*C^2 - 0.012*I*DE^3 + (7.8*DE^6 + 8.8*I*DE^5 - 3.8*DE^4 - 0.79*I*DE^3 + 0.080*DE^2 + 0.0036*I*DE - 0.000058)*C + 0.00060*DE^2 + 0.000015*I*DE - 1.6e-7)*(1.0*I*DE^7 + 1.1*DE^6 - 0.48*I*DE^5 + (DE^2 - 0.66*I*DE - 0.11)*C^3 - 0.10*DE^4 - (3*DE^4 - 3.2*I*DE^3 - 1.1*DE^2 + 0.15*I*DE + 0.0049)*C^2 + 0.010*I*DE^3 + (2.1*DE^6 - 3.8*I*DE^5 - 2.3*DE^4 + 0.61*I*DE^3 + 0.073*DE^2 - 0.0037*I*DE - 0.000063)*C + 0.00058*DE^2 - 0.000016*I*DE - 1.8e-7)*(-1.0*I*DE^7 + 1.1*DE^6 + 0.48*I*DE^5 + (DE^2 + 0.66*I*DE - 0.11)*C^3 - 0.10*DE^4 - (3*DE^4 + 3.2*I*DE^3 - 1.1*DE^2 - 0.15*I*DE + 0.0049)*C^2 - 0.010*I*DE^3 + (2.1*DE^6 + 3.8*I*DE^5 - 2.3*DE^4 - 0.61*I*DE^3 + 0.073*DE^2 + 0.0037*I*DE - 0.000063)*C + 0.00058*DE^2 + 0.000016*I*DE - 1.8e-7))\n",
      "Yesssssssssssssssssss\n",
      "10 0 sqrt(gamma0)\n",
      "0 1 sqrt(kappa_c)\n",
      "Yesssssssssssssssssss\n",
      "1 1 sqrt(gamma)\n",
      "Yesssssssssssssssssss\n",
      "no\n",
      "(((7.3e-6)*DE^6 + (3.4e-7)*DE^4 - (4.7e-8)*DE^2)*C^8 + (-0.000049*DE^8 + (3.3e-6)*DE^6 + (9.5e-7)*DE^4 + (2.9e-9)*DE^2)*C^7 + (0.00012*DE^10 - 0.000027*DE^8 - (4.1e-6)*DE^6 + (2.7e-8)*DE^4 + (3.3e-10)*DE^2)*C^6 + (-0.00013*DE^12 + 0.000068*DE^10 + (8.6e-6)*DE^8 - (1.4e-8)*DE^6 + (1.7e-9)*DE^4)*C^5 + (0.000053*DE^14 - 0.000072*DE^12 - (8.7e-6)*DE^10 - (1.5e-9)*DE^8 + (3.8e-9)*DE^6)*C^4 + (0.000027*DE^13 + (3.0e-6)*DE^11 - (1.1e-7)*DE^9 - (1.2e-8)*DE^7)*C^3*DE)*C^5/((-3.9*DE^8 + 5.3*I*DE^7 + 2.9*DE^6 - 0.83*I*DE^5 + (DE^2 - 0.63*I*DE - 0.10)*C^3 - 0.13*DE^4 + (-4.9*DE^4 + 4.3*I*DE^3 + 1.3*DE^2 - 0.15*I*DE - 0.0045)*C^2 + 0.012*I*DE^3 + (7.8*DE^6 - 8.8*I*DE^5 - 3.8*DE^4 + 0.79*I*DE^3 + 0.080*DE^2 - 0.0036*I*DE - 0.000058)*C + 0.00060*DE^2 - 0.000015*I*DE - 1.6e-7)*(-3.9*DE^8 - 5.3*I*DE^7 + 2.9*DE^6 + 0.83*I*DE^5 + (DE^2 + 0.63*I*DE - 0.10)*C^3 - 0.13*DE^4 + (-4.9*DE^4 - 4.3*I*DE^3 + 1.3*DE^2 + 0.15*I*DE - 0.0045)*C^2 - 0.012*I*DE^3 + (7.8*DE^6 + 8.8*I*DE^5 - 3.8*DE^4 - 0.79*I*DE^3 + 0.080*DE^2 + 0.0036*I*DE - 0.000058)*C + 0.00060*DE^2 + 0.000015*I*DE - 1.6e-7)*(1.0*I*DE^7 + 1.1*DE^6 - 0.48*I*DE^5 + (DE^2 - 0.66*I*DE - 0.11)*C^3 - 0.10*DE^4 - (3*DE^4 - 3.2*I*DE^3 - 1.1*DE^2 + 0.15*I*DE + 0.0049)*C^2 + 0.010*I*DE^3 + (2.1*DE^6 - 3.8*I*DE^5 - 2.3*DE^4 + 0.61*I*DE^3 + 0.073*DE^2 - 0.0037*I*DE - 0.000063)*C + 0.00058*DE^2 - 0.000016*I*DE - 1.8e-7)*(-1.0*I*DE^7 + 1.1*DE^6 + 0.48*I*DE^5 + (DE^2 + 0.66*I*DE - 0.11)*C^3 - 0.10*DE^4 - (3*DE^4 + 3.2*I*DE^3 - 1.1*DE^2 - 0.15*I*DE + 0.0049)*C^2 - 0.010*I*DE^3 + (2.1*DE^6 + 3.8*I*DE^5 - 2.3*DE^4 - 0.61*I*DE^3 + 0.073*DE^2 + 0.0037*I*DE - 0.000063)*C + 0.00058*DE^2 + 0.000016*I*DE - 1.8e-7))\n",
      "2 1 sqrt(gamma0)\n",
      "3 1 sqrt(kappa_b)\n",
      "Yesssssssssssssssssss\n",
      "4 1 sqrt(kappa_c)\n",
      "Yesssssssssssssssssss\n",
      "5 1 sqrt(gamma_f)\n",
      "Yesssssssssssssssssss\n",
      "6 1 sqrt(gamma_g)\n",
      "Yesssssssssssssssssss\n",
      "7 1 sqrt(kappa_b)\n",
      "Yesssssssssssssssssss\n",
      "8 1 sqrt(kappa_c)\n",
      "Yesssssssssssssssssss\n",
      "9 1 sqrt(gamma)\n",
      "Yesssssssssssssssssss\n",
      "no\n",
      "(((7.3e-6)*DE^6 + (3.4e-7)*DE^4 - (4.7e-8)*DE^2)*C^8 + (-0.000049*DE^8 + (3.3e-6)*DE^6 + (9.5e-7)*DE^4 + (2.9e-9)*DE^2)*C^7 + (0.00012*DE^10 - 0.000027*DE^8 - (4.1e-6)*DE^6 + (2.7e-8)*DE^4 + (3.3e-10)*DE^2)*C^6 + (-0.00013*DE^12 + 0.000068*DE^10 + (8.6e-6)*DE^8 - (1.4e-8)*DE^6 + (1.7e-9)*DE^4)*C^5 + (0.000053*DE^14 - 0.000072*DE^12 - (8.7e-6)*DE^10 - (1.5e-9)*DE^8 + (3.8e-9)*DE^6)*C^4 + (0.000027*DE^14 + (3.0e-6)*DE^12 - (1.1e-7)*DE^10 - (1.2e-8)*DE^8)*C^3)*C^5/((-3.9*DE^8 + 5.3*I*DE^7 + 2.9*DE^6 - 0.83*I*DE^5 + (DE^2 - 0.63*I*DE - 0.10)*C^3 - 0.13*DE^4 + (-4.9*DE^4 + 4.3*I*DE^3 + 1.3*DE^2 - 0.15*I*DE - 0.0045)*C^2 + 0.012*I*DE^3 + (7.8*DE^6 - 8.8*I*DE^5 - 3.8*DE^4 + 0.79*I*DE^3 + 0.080*DE^2 - 0.0036*I*DE - 0.000058)*C + 0.00060*DE^2 - 0.000015*I*DE - 1.6e-7)*(-3.9*DE^8 - 5.3*I*DE^7 + 2.9*DE^6 + 0.83*I*DE^5 + (DE^2 + 0.63*I*DE - 0.10)*C^3 - 0.13*DE^4 + (-4.9*DE^4 - 4.3*I*DE^3 + 1.3*DE^2 + 0.15*I*DE - 0.0045)*C^2 - 0.012*I*DE^3 + (7.8*DE^6 + 8.8*I*DE^5 - 3.8*DE^4 - 0.79*I*DE^3 + 0.080*DE^2 + 0.0036*I*DE - 0.000058)*C + 0.00060*DE^2 + 0.000015*I*DE - 1.6e-7)*(1.0*I*DE^7 + 1.1*DE^6 - 0.48*I*DE^5 + (DE^2 - 0.66*I*DE - 0.11)*C^3 - 0.10*DE^4 - (3*DE^4 - 3.2*I*DE^3 - 1.1*DE^2 + 0.15*I*DE + 0.0049)*C^2 + 0.010*I*DE^3 + (2.1*DE^6 - 3.8*I*DE^5 - 2.3*DE^4 + 0.61*I*DE^3 + 0.073*DE^2 - 0.0037*I*DE - 0.000063)*C + 0.00058*DE^2 - 0.000016*I*DE - 1.8e-7)*(-1.0*I*DE^7 + 1.1*DE^6 + 0.48*I*DE^5 + (DE^2 + 0.66*I*DE - 0.11)*C^3 - 0.10*DE^4 - (3*DE^4 + 3.2*I*DE^3 - 1.1*DE^2 - 0.15*I*DE + 0.0049)*C^2 - 0.010*I*DE^3 + (2.1*DE^6 + 3.8*I*DE^5 - 2.3*DE^4 - 0.61*I*DE^3 + 0.073*DE^2 + 0.0037*I*DE - 0.000063)*C + 0.00058*DE^2 + 0.000016*I*DE - 1.8e-7))\n",
      "10 1 sqrt(gamma0)\n",
      "0 2 sqrt(kappa_c)\n",
      "Yesssssssssssssssssss\n",
      "1 2 sqrt(gamma)\n",
      "2 2 sqrt(gamma0)\n",
      "3 2 sqrt(kappa_b)\n",
      "Yesssssssssssssssssss\n",
      "4 2 sqrt(kappa_c)\n"
     ]
    },
    {
     "name": "stdout",
     "output_type": "stream",
     "text": [
      "Yesssssssssssssssssss\n",
      "5 2 sqrt(gamma_f)\n",
      "Yesssssssssssssssssss\n",
      "6 2 sqrt(gamma_g)\n",
      "Yesssssssssssssssssss\n",
      "7 2 sqrt(kappa_b)\n",
      "Yesssssssssssssssssss\n",
      "8 2 sqrt(kappa_c)\n",
      "Yesssssssssssssssssss\n",
      "9 2 sqrt(gamma)\n",
      "10 2 sqrt(gamma0)\n",
      "0 3 sqrt(kappa_c)\n",
      "Yesssssssssssssssssss\n",
      "1 3 sqrt(gamma)\n",
      "2 3 sqrt(gamma0)\n",
      "3 3 sqrt(kappa_b)\n",
      "Yesssssssssssssssssss\n",
      "4 3 sqrt(kappa_c)\n",
      "Yesssssssssssssssssss\n",
      "5 3 sqrt(gamma_f)\n",
      "no\n",
      "(-4.1*I*DE^6 + 2.7*I*DE^4 + (-1.5*I*DE^2 + 0.20*I)*C^2 + 0.093*I*C^3 + (4.8*I*DE^4 - 1.6*I*DE^2 + 0.013*I)*C - 0.090*I*DE^2 + 0.00019*I)*C*DE/((-3.9*DE^8 + 5.3*I*DE^7 + 2.9*DE^6 - 0.83*I*DE^5 + (DE^2 - 0.63*I*DE - 0.10)*C^3 - 0.13*DE^4 + (-4.9*DE^4 + 4.3*I*DE^3 + 1.3*DE^2 - 0.15*I*DE - 0.0045)*C^2 + 0.012*I*DE^3 + (7.8*DE^6 - 8.8*I*DE^5 - 3.8*DE^4 + 0.79*I*DE^3 + 0.080*DE^2 - 0.0036*I*DE - 0.000058)*C + 0.00060*DE^2 - 0.000015*I*DE - 1.6e-7)*(-3.9*DE^8 - 5.3*I*DE^7 + 2.9*DE^6 + 0.83*I*DE^5 + (DE^2 + 0.63*I*DE - 0.10)*C^3 - 0.13*DE^4 + (-4.9*DE^4 - 4.3*I*DE^3 + 1.3*DE^2 + 0.15*I*DE - 0.0045)*C^2 - 0.012*I*DE^3 + (7.8*DE^6 + 8.8*I*DE^5 - 3.8*DE^4 - 0.79*I*DE^3 + 0.080*DE^2 + 0.0036*I*DE - 0.000058)*C + 0.00060*DE^2 + 0.000015*I*DE - 1.6e-7))\n",
      "6 3 sqrt(gamma_g)\n",
      "no\n",
      "(-3.8*I*DE^6 + 2.4*I*DE^4 + (-1.4*I*DE^2 + 0.18*I)*C^2 + 0.085*I*C^3 + (4.3*I*DE^4 - 1.5*I*DE^2 + 0.012*I)*C - 0.082*I*DE^2 + 0.00018*I)*C*DE/((-3.9*DE^8 + 5.3*I*DE^7 + 2.9*DE^6 - 0.83*I*DE^5 + (DE^2 - 0.63*I*DE - 0.10)*C^3 - 0.13*DE^4 + (-4.9*DE^4 + 4.3*I*DE^3 + 1.3*DE^2 - 0.15*I*DE - 0.0045)*C^2 + 0.012*I*DE^3 + (7.8*DE^6 - 8.8*I*DE^5 - 3.8*DE^4 + 0.79*I*DE^3 + 0.080*DE^2 - 0.0036*I*DE - 0.000058)*C + 0.00060*DE^2 - 0.000015*I*DE - 1.6e-7)*(-3.9*DE^8 - 5.3*I*DE^7 + 2.9*DE^6 + 0.83*I*DE^5 + (DE^2 + 0.63*I*DE - 0.10)*C^3 - 0.13*DE^4 + (-4.9*DE^4 - 4.3*I*DE^3 + 1.3*DE^2 + 0.15*I*DE - 0.0045)*C^2 - 0.012*I*DE^3 + (7.8*DE^6 + 8.8*I*DE^5 - 3.8*DE^4 - 0.79*I*DE^3 + 0.080*DE^2 + 0.0036*I*DE - 0.000058)*C + 0.00060*DE^2 + 0.000015*I*DE - 1.6e-7))\n",
      "7 3 sqrt(kappa_b)\n",
      "Yesssssssssssssssssss\n",
      "8 3 sqrt(kappa_c)\n",
      "Yesssssssssssssssssss\n",
      "9 3 sqrt(gamma)\n",
      "10 3 sqrt(gamma0)\n"
     ]
    }
   ],
   "source": [
    "for which in range(4):\n",
    "\n",
    "    for lind_op in range(len(s1.lindblad_list)):\n",
    "         #which non zero element to access\n",
    "        print(lind_op,which,s1.L_coeffs[lind_op])\n",
    "        if str(s1.L_coeffs[lind_op])=='sqrt(gamma)':\n",
    "            try:   \n",
    "                a = L_nonzeros[lind_op][which].subs(dc=DE,db=DE,De=2*DE,De0=0)\n",
    "                for which2 in range(4):\n",
    "                    b = L_nonzeros[lind_op+1][which2].subs(dc=-DE,db=-DE,De0=-2*DE,De=0,DE=-DE)\n",
    "\n",
    "\n",
    "\n",
    "                    s = substit(a*conjugate( a)  - b * conjugate(b))\n",
    "                    #s = symround(MMA_simplify(s.subs(De0=np.random.random(),De=np.random.random(),R0=np.random.random(),gamma=np.random.random(),Omega=np.random.random(),C=np.random.random(),c=np.random.random(),R_f=np.random.random(),r_g = np.random.random(),r0=np.random.random(),r_f=np.random.random(),kappa_c=np.random.random(),dc0=np.random.random(),DE=np.random.random(),gamma0=np.random.random(),R_v=np.random.random())._mathematica_().Together()._sage_().numerator()))\n",
    "\n",
    "\n",
    "                    if s == 0 :\n",
    "                        print('Yesssssssssssssssssss')\n",
    "                    else:\n",
    "                        print('no')\n",
    "                        print(s)\n",
    "            except:\n",
    "                pass\n",
    "        try:   \n",
    "            a = L_nonzeros[lind_op][which].subs(dc=DE,db=DE,De=2*DE,De0=0)\n",
    "\n",
    "            b = L_nonzeros[lind_op][3-which].subs(dc=-DE,db=-DE,De0=-2*DE,De=0,DE=-DE)\n",
    "\n",
    "\n",
    "\n",
    "            s = substit(a*conjugate( a)  - b * conjugate(b))\n",
    "            #s = symround(MMA_simplify(s.subs(De0=np.random.random(),De=np.random.random(),R0=np.random.random(),gamma=np.random.random(),Omega=np.random.random(),C=np.random.random(),c=np.random.random(),R_f=np.random.random(),r_g = np.random.random(),r0=np.random.random(),r_f=np.random.random(),kappa_c=np.random.random(),dc0=np.random.random(),DE=np.random.random(),gamma0=np.random.random(),R_v=np.random.random())._mathematica_().Together()._sage_().numerator()))\n",
    "\n",
    "            \n",
    "            if s == 0 :\n",
    "                print('Yesssssssssssssssssss')\n",
    "            else:\n",
    "                print('no')\n",
    "                print(s)\n",
    "        except:\n",
    "            pass\n",
    "\n"
   ]
  },
  {
   "cell_type": "markdown",
   "id": "14860feb",
   "metadata": {},
   "source": [
    "# Check scalings"
   ]
  },
  {
   "cell_type": "code",
   "execution_count": 8,
   "id": "7c49e233",
   "metadata": {},
   "outputs": [],
   "source": [
    "def obtain_exponent(expr):\n",
    "    expr = SR(str(( expr)).replace('Sqrt','sqrt'))\n",
    "    try:\n",
    "        exp = expr.op[0].op[0].op[0].op[1]\n",
    "    except:\n",
    "        try:\n",
    "            exp = expr.op[0].op[0].op[1]\n",
    "        except:\n",
    "            try:\n",
    "                exp = expr.op[0].op[1]\n",
    "            except:\n",
    "                exp = 0\n",
    "    return exp\n",
    "\n",
    "def obtain_expr_exp(expr):\n",
    "    try:\n",
    "        el = 0    \n",
    "        q = (expr._mathematica_().Numerator()._sage_() .expand().operands()[el])\n",
    "        q = SR(str(( q)).replace('Sqrt','sqrt'))\n",
    "        test_bool = (str(q._mathematica_().Numerator()._sage_().expand().denominator()) == str(1))\n",
    "        num_exp = (obtain_exponent(q._mathematica_().Numerator()._sage_().expand()))\n",
    "        den1_exp = (obtain_exponent(q._mathematica_().Denominator()._sage_().expand()))\n",
    "        den2_exp = (obtain_exponent(expr._mathematica_().Denominator()._sage_().expand()))\n",
    "        res = num_exp-den1_exp-den2_exp\n",
    "        if not test_bool:\n",
    "            #show(q)\n",
    "            res = obtain_exponent(q.numerator())-obtain_exponent(q.denominator())\n",
    "            return res\n",
    "        return res\n",
    "    except:\n",
    "        #print('altern')\n",
    "        den_exp = obtain_exponent( expr._mathematica_().Denominator()._sage_().expand())\n",
    "        num_exp = obtain_exponent( expr._mathematica_().Numerator()._sage_().expand())\n",
    "        return num_exp-den_exp"
   ]
  },
  {
   "cell_type": "code",
   "execution_count": 11,
   "id": "6e904403",
   "metadata": {},
   "outputs": [
    {
     "name": "stdout",
     "output_type": "stream",
     "text": [
      "-0.5\n"
     ]
    }
   ],
   "source": [
    "n =1/2\n",
    "\n",
    "dbool = 1\n",
    "# gate time\n",
    "\n",
    "a = s1.eff_hamiltonian_gs.subs(dc=dbool*DE,db=dbool*DE,De=1.5*DE,De0=0.5*DE)\n",
    "\n",
    "a = a.subs(DE=C^n)\n",
    "\n",
    "va = substit(a).numpy().diagonal()\n",
    "\n",
    "\n",
    "den = va[0]+va[3]-va[1]-va[2]\n",
    "\n",
    "den = den._mathematica_().Together()._sage_()\n",
    "\n",
    "#den = den.numerator().expand() / den.denominator().expand()\n",
    "\n",
    "tg_sc = - obtain_expr_exp(den)\n",
    "\n",
    "print(tg_sc)"
   ]
  },
  {
   "cell_type": "code",
   "execution_count": 12,
   "id": "d576dc0f",
   "metadata": {},
   "outputs": [
    {
     "name": "stdout",
     "output_type": "stream",
     "text": [
      "-0.5\n",
      "-0.5\n",
      "-0.5\n",
      "-0.5\n",
      "-0.5\n",
      "-0.5\n",
      "-0.5\n",
      "-0.5\n",
      "-0.5\n",
      "-0.5\n",
      "-0.5\n",
      "-0.5\n",
      "-0.5\n",
      "-0.5\n",
      "-0.5\n",
      "-0.5\n",
      "-0.5\n",
      "-0.5\n",
      "-0.5\n",
      "-0.5\n",
      "-0.5\n",
      "-0.5\n",
      "-0.5\n",
      "-0.5\n",
      "-0.5\n",
      "-0.5\n",
      "-0.5\n",
      "-0.5\n",
      "-0.5\n",
      "-0.5\n",
      "-0.5\n",
      "-0.5\n",
      "-0.5\n",
      "-0.5\n",
      "-0.5\n",
      "-0.5\n"
     ]
    }
   ],
   "source": [
    "for which in range(4):\n",
    "\n",
    "    for lind_op in range(len(s1.lindblad_list)):\n",
    "         #which non zero element to access\n",
    "        #print(lind_op,which,s1.L_coeffs[lind_op])\n",
    "\n",
    "        try:   \n",
    "            a = L_nonzeros[lind_op][which].subs(dc=dbool*DE,db=dbool*DE,De=1.5*DE,De0=0*DE)#subs(dc=DE,db=DE,De=3/2*DE,De0=0.5*DE)\n",
    "            a = a.subs(DE=C^n)\n",
    "            loss_rate = substit(a*conjugate( a))\n",
    "            \n",
    "            loss_rate_sc = obtain_expr_exp(loss_rate)\n",
    "            \n",
    "            loss_sc =  tg_sc + loss_rate_sc\n",
    "            \n",
    "            print(loss_sc)\n",
    "\n",
    "            if loss_sc>=0:\n",
    "                print(s1.L_coeffs[lind_op], which)\n",
    "                show(loss_rate)\n",
    "                \n",
    "        except:\n",
    "            pass\n",
    "\n"
   ]
  },
  {
   "cell_type": "code",
   "execution_count": 69,
   "id": "76985de9",
   "metadata": {},
   "outputs": [
    {
     "data": {
      "text/html": [
       "<html><script type=\"math/tex; mode=display\">\\newcommand{\\Bold}[1]{\\mathbf{#1}}\\frac{{\\Delta E}^{42} - 5.0 \\, {\\Delta E}^{40} + 9.839590999999999 \\, {\\Delta E}^{38} - 9.153792600000001 \\, {\\Delta E}^{36} + 3.3430946500000003 \\, {\\Delta E}^{34} + 0.42843207 \\, {\\Delta E}^{32} - 0.4185541695300001 \\, {\\Delta E}^{30} + 12.487 \\, {\\Delta E}^{28} e - 12.071423908885 \\, {\\Delta E}^{28} - 37.071149000000005 \\, {\\Delta E}^{26} e + 33.23688380478215 \\, {\\Delta E}^{26} + 31.854119064 \\, {\\Delta E}^{24} e - 22.521730131019012 \\, {\\Delta E}^{24} + 1.0642545255999978 \\, {\\Delta E}^{22} e - 10.368512546906494 \\, {\\Delta E}^{22} - 10.032484587 \\, {\\Delta E}^{20} e + 13.22237633132717 \\, {\\Delta E}^{20} + 0.36684672055000106 \\, {\\Delta E}^{18} e + 0.10376123011194059 \\, {\\Delta E}^{18} + 1.0167461001240001 \\, {\\Delta E}^{16} e - 1.2310855136476688 \\, {\\Delta E}^{16} + 30.364131999999998 \\, {\\Delta E}^{14} e^{2} - 74.64764741199741 \\, {\\Delta E}^{14} e + 35.6458729847336 \\, {\\Delta E}^{14} - 35.444680796 \\, {\\Delta E}^{12} e^{2} + 74.97705845025796 \\, {\\Delta E}^{12} e - 19.365077204770603 \\, {\\Delta E}^{12} - 10.383373028399998 \\, {\\Delta E}^{10} e^{2} + 46.953156949087024 \\, {\\Delta E}^{10} e - 51.001446597730116 \\, {\\Delta E}^{10} + 13.545375109999998 \\, {\\Delta E}^{8} e^{2} - 40.56454207930957 \\, {\\Delta E}^{8} e + 29.013719395745 \\, {\\Delta E}^{8} + 2.7687990764399992 \\, {\\Delta E}^{6} e^{2} - 8.592708723295434 \\, {\\Delta E}^{6} e + 6.476494568492593 \\, {\\Delta E}^{6} + 0.28315251408799996 \\, {\\Delta E}^{4} e^{2} - 0.8974175914675755 \\, {\\Delta E}^{4} e + 0.6962031589900969 \\, {\\Delta E}^{4} + 0.014075892070439997 \\, {\\Delta E}^{2} e^{2} - 0.04505120276014457 \\, {\\Delta E}^{2} e + 0.0354061057923555 \\, {\\Delta E}^{2} + 0.00036060471611999993 \\, e^{2} - 0.00116742786 \\, e + 0.00093114}{0.01552560000000014 \\, {\\Delta E}^{39} - 0.031725235599999735 \\, {\\Delta E}^{37} + 0.010112121359999282 \\, {\\Delta E}^{35} + 0.011035977940000247 \\, {\\Delta E}^{33} - 0.002502129039999912 \\, {\\Delta E}^{31} + 1.907 \\, {\\Delta E}^{29} e + 5.997857238469798 \\, {\\Delta E}^{29} + 0.351954800000005 \\, {\\Delta E}^{27} e - 20.826694120585696 \\, {\\Delta E}^{27} - 8.607796079200007 \\, {\\Delta E}^{25} e + 24.60461596137386 \\, {\\Delta E}^{25} + 7.168159385400005 \\, {\\Delta E}^{23} e - 9.049962577942402 \\, {\\Delta E}^{23} + 0.6833078511799968 \\, {\\Delta E}^{21} e - 2.255955882485777 \\, {\\Delta E}^{21} - 1.1833374117480007 \\, {\\Delta E}^{19} e + 1.2322028501167055 \\, {\\Delta E}^{19} - 0.2732855788169999 \\, {\\Delta E}^{17} e + 0.27772614639150905 \\, {\\Delta E}^{17} - 30.784622000000006 \\, {\\Delta E}^{15} e^{2} + 78.83307573678873 \\, {\\Delta E}^{15} e - 35.985118181178606 \\, {\\Delta E}^{15} + 6.864249954800009 \\, {\\Delta E}^{13} e^{2} - 8.54476418999738 \\, {\\Delta E}^{13} e - 15.85195318778755 \\, {\\Delta E}^{13} + 17.134245014599987 \\, {\\Delta E}^{11} e^{2} - 51.093199880219906 \\, {\\Delta E}^{11} e + 37.81993290293532 \\, {\\Delta E}^{11} + 3.092774958999998 \\, {\\Delta E}^{9} e^{2} - 9.308184086554856 \\, {\\Delta E}^{9} e + 8.108960904256094 \\, {\\Delta E}^{9} - 0.2208609679800002 \\, {\\Delta E}^{7} e^{2} + 0.8506878436514711 \\, {\\Delta E}^{7} e - 0.5792426270159492 \\, {\\Delta E}^{7} - 0.0392315267263999 \\, {\\Delta E}^{5} e^{2} + 0.14252522354765673 \\, {\\Delta E}^{5} e - 0.10824732825625916 \\, {\\Delta E}^{5} - 0.002335077388540002 \\, {\\Delta E}^{3} e^{2} + 0.008495664495473447 \\, {\\Delta E}^{3} e - 0.006745324435199311 \\, {\\Delta E}^{3} + \\left(2.7184169999988454 \\times 10^{-07}\\right) \\, {\\Delta E} e^{2} + \\left(2.3064339999999883 \\times 10^{-05}\\right) \\, {\\Delta E} e - \\left(1.9739999999999862 \\times 10^{-05}\\right) \\, {\\Delta E}}</script></html>"
      ],
      "text/plain": [
       "(DE^42 - 5.0*DE^40 + 9.839590999999999*DE^38 - 9.153792600000001*DE^36 + 3.3430946500000003*DE^34 + 0.42843207*DE^32 - 0.4185541695300001*DE^30 + 12.487*DE^28*e - 12.071423908885*DE^28 - 37.071149000000005*DE^26*e + 33.23688380478215*DE^26 + 31.854119064*DE^24*e - 22.521730131019012*DE^24 + 1.0642545255999978*DE^22*e - 10.368512546906494*DE^22 - 10.032484587*DE^20*e + 13.22237633132717*DE^20 + 0.36684672055000106*DE^18*e + 0.10376123011194059*DE^18 + 1.0167461001240001*DE^16*e - 1.2310855136476688*DE^16 + 30.364131999999998*DE^14*e^2 - 74.64764741199741*DE^14*e + 35.6458729847336*DE^14 - 35.444680796*DE^12*e^2 + 74.97705845025796*DE^12*e - 19.365077204770603*DE^12 - 10.383373028399998*DE^10*e^2 + 46.953156949087024*DE^10*e - 51.001446597730116*DE^10 + 13.545375109999998*DE^8*e^2 - 40.56454207930957*DE^8*e + 29.013719395745*DE^8 + 2.7687990764399992*DE^6*e^2 - 8.592708723295434*DE^6*e + 6.476494568492593*DE^6 + 0.28315251408799996*DE^4*e^2 - 0.8974175914675755*DE^4*e + 0.6962031589900969*DE^4 + 0.014075892070439997*DE^2*e^2 - 0.04505120276014457*DE^2*e + 0.0354061057923555*DE^2 + 0.00036060471611999993*e^2 - 0.00116742786*e + 0.00093114)/(0.01552560000000014*DE^39 - 0.031725235599999735*DE^37 + 0.010112121359999282*DE^35 + 0.011035977940000247*DE^33 - 0.002502129039999912*DE^31 + 1.907*DE^29*e + 5.997857238469798*DE^29 + 0.351954800000005*DE^27*e - 20.826694120585696*DE^27 - 8.607796079200007*DE^25*e + 24.60461596137386*DE^25 + 7.168159385400005*DE^23*e - 9.049962577942402*DE^23 + 0.6833078511799968*DE^21*e - 2.255955882485777*DE^21 - 1.1833374117480007*DE^19*e + 1.2322028501167055*DE^19 - 0.2732855788169999*DE^17*e + 0.27772614639150905*DE^17 - 30.784622000000006*DE^15*e^2 + 78.83307573678873*DE^15*e - 35.985118181178606*DE^15 + 6.864249954800009*DE^13*e^2 - 8.54476418999738*DE^13*e - 15.85195318778755*DE^13 + 17.134245014599987*DE^11*e^2 - 51.093199880219906*DE^11*e + 37.81993290293532*DE^11 + 3.092774958999998*DE^9*e^2 - 9.308184086554856*DE^9*e + 8.108960904256094*DE^9 - 0.2208609679800002*DE^7*e^2 + 0.8506878436514711*DE^7*e - 0.5792426270159492*DE^7 - 0.0392315267263999*DE^5*e^2 + 0.14252522354765673*DE^5*e - 0.10824732825625916*DE^5 - 0.002335077388540002*DE^3*e^2 + 0.008495664495473447*DE^3*e - 0.006745324435199311*DE^3 + (2.7184169999988454e-07)*DE*e^2 + (2.3064339999999883e-05)*DE*e - (1.9739999999999862e-05)*DE)"
      ]
     },
     "metadata": {},
     "output_type": "display_data"
    }
   ],
   "source": [
    "show(tg)"
   ]
  },
  {
   "cell_type": "code",
   "execution_count": null,
   "id": "000167ba",
   "metadata": {},
   "outputs": [],
   "source": []
  }
 ],
 "metadata": {
  "interpreter": {
   "hash": "31f2aee4e71d21fbe5cf8b01ff0e069b9275f58929596ceb00d14d90e3e16cd6"
  },
  "kernelspec": {
   "display_name": "SageMath 9.0",
   "language": "python",
   "name": "python3"
  },
  "language_info": {
   "codemirror_mode": {
    "name": "ipython",
    "version": 3
   },
   "file_extension": ".py",
   "mimetype": "text/x-python",
   "name": "python",
   "nbconvert_exporter": "python",
   "pygments_lexer": "ipython3",
   "version": "3.8.10"
  }
 },
 "nbformat": 4,
 "nbformat_minor": 5
}
