{
 "cells": [
  {
   "cell_type": "code",
   "execution_count": null,
   "id": "a43f3bbd",
   "metadata": {
    "scrolled": false
   },
   "outputs": [
    {
     "name": "stdout",
     "output_type": "stream",
     "text": [
      "Initializing system x-o-o-  ...\n",
      "Constructing states and excitations...\n",
      "Constructing ground and first-excited statespace...\n",
      "Constructing gs_hamiltonian ...\n",
      "Constructing e1_hamiltonian ...\n",
      "Constructing interactions V_plus and V_minus ...\n",
      "Constructing NJ_hamiltonian  ...\n",
      "Inverting NJ_hamiltonian  ...\n",
      "Constructing eff_hamiltonian and effective lindblau operators ...\n"
     ]
    }
   ],
   "source": [
    "from system import *\n",
    "\n",
    "s1 = system('x-o-o-',MMA=True)"
   ]
  },
  {
   "cell_type": "markdown",
   "id": "c201a481",
   "metadata": {},
   "source": [
    "# Effective Hamiltonian as Real part\n",
    "\n",
    "Will output $Q_n$ from expression:\n",
    "\n",
    "$$\\Delta_n = - \\dfrac{\\Omega^2}{\\gamma} \\text{Re}\\{Q_n \\} $$"
   ]
  },
  {
   "cell_type": "code",
   "execution_count": null,
   "id": "6398d4bb",
   "metadata": {},
   "outputs": [],
   "source": [
    "diag = 1  #input n corresponding to diag element\n",
    "\n",
    "var('gamma','DE','De','g','g_f','Omega','v',domain='positive')\n",
    "var('DEt',domain='positive',  latex_name =r'\\tilde{\\Delta }_E')\n",
    "var('Det',domain='positive',  latex_name =r'\\tilde{\\Delta }_e')\n",
    "var('kappa_c','kappa_b',domain='positive')\n",
    "var('C',domain='positive')\n",
    "\n",
    "\n",
    "\n",
    "\n",
    "b = s1.eff_hamiltonian_gs[diag,diag](gamma_g=0,gamma_f=gamma)\n",
    "\n",
    "#Take only one of the compl conj terms. Switch maybe second 0 to 1\n",
    "b = b.operands()[1].operands()[0] #+ b.operands()[1].operands()[3] use if obtained with sage\n",
    "\n",
    "b = b.subs(DE=+0.5*I*gamma+DEt*gamma)\n",
    "b = b.subs(De=+0.5*I*gamma+Det*gamma)\n",
    "\n",
    "var('R_f',domain='real')#ratio  (g_f/g)^2\n",
    "b = b.subs(g_f=g*sqrt(R_f))\n",
    "\n",
    "var('R_v',domain='real',  latex_name =r'R_{\\nu}') #ratio (v/g)^2\n",
    "b = b.subs(v=g*sqrt(R_v))\n",
    "\n",
    "var('R_b',domain='real')\n",
    "b = b.subs(kappa_b=gamma/R_b)\n",
    "\n",
    "var('R_c',domain='real',latex_name =r'R_c')\n",
    "b = b.subs(kappa_c=gamma/R_c)\n",
    "\n",
    "b = b.subs(g = sqrt(C)*gamma) \n",
    "\n",
    "\n",
    "\n",
    "\n",
    "\n",
    "b = b*gamma  #Omega has to be substituted with Omega/gamma\n",
    "\n",
    "\n",
    "b = b._mathematica_().Factor()._sage_()\n",
    "b = MMA_simplify(b,full=True)\n",
    "\n",
    "show( symround(b))"
   ]
  },
  {
   "cell_type": "markdown",
   "id": "b7c20b7a",
   "metadata": {},
   "source": [
    "# Expand linearly in the limit:   $C\\rightarrow \\infty$"
   ]
  },
  {
   "cell_type": "code",
   "execution_count": null,
   "id": "40941181",
   "metadata": {},
   "outputs": [],
   "source": [
    "#with mathematica\n",
    "q = b.subs(C=1/x)\n",
    "q = MMA_simplify(q)\n",
    "t = q._mathematica_().Series((x,0,2))\n",
    "t_exp = t[3]\n",
    "t_st = t[4]\n",
    "tayl = 0\n",
    "for i in range(1,len(t_exp)):\n",
    "    tayl += MMA_simplify( t_exp[i]._sage_() ) / C**(i-1+Integer(t[4]))\n",
    "\n",
    "show(symround(tayl))\n",
    "\n",
    "#with sage\n",
    "#tayl = b.taylor(C_c,infinity, 1)\n",
    "#show(symround(MMA_simplify(tayl)))"
   ]
  },
  {
   "cell_type": "code",
   "execution_count": null,
   "id": "b004ef92",
   "metadata": {},
   "outputs": [],
   "source": []
  }
 ],
 "metadata": {
  "kernelspec": {
   "display_name": "SageMath 9.3",
   "language": "sage",
   "name": "sagemath"
  },
  "language_info": {
   "codemirror_mode": {
    "name": "ipython",
    "version": 3
   },
   "file_extension": ".py",
   "mimetype": "text/x-python",
   "name": "python",
   "nbconvert_exporter": "python",
   "pygments_lexer": "ipython3",
   "version": "3.9.2"
  }
 },
 "nbformat": 4,
 "nbformat_minor": 5
}
