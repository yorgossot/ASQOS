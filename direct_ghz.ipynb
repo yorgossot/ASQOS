{
 "cells": [
  {
   "cell_type": "markdown",
   "id": "11ebbd1c",
   "metadata": {},
   "source": [
    "# $CZ_{01}CZ_{02}$ gate  "
   ]
  },
  {
   "cell_type": "code",
   "execution_count": 1,
   "id": "a43f3bbd",
   "metadata": {
    "scrolled": false
   },
   "outputs": [],
   "source": [
    "from system import *\n",
    "#s1 = system('t',MMA=True)\n",
    "s1 = load_object('t')"
   ]
  },
  {
   "cell_type": "markdown",
   "id": "9d56099a",
   "metadata": {},
   "source": [
    "# $\\Delta_{E\\gamma} \\rightarrow \\ \\Delta_{E\\gamma}\\, C^n \\qquad \\Delta_{e\\gamma} \\rightarrow \\ \\Delta_{e\\gamma}\\, C^m$"
   ]
  },
  {
   "cell_type": "code",
   "execution_count": 2,
   "id": "2c69c1d2",
   "metadata": {},
   "outputs": [],
   "source": [
    "n = 1\n",
    "m = 0"
   ]
  },
  {
   "cell_type": "markdown",
   "id": "20c87d69",
   "metadata": {},
   "source": [
    "# Effective Hamiltonian Matrix obtain in $C \\longrightarrow \\infty$ limit"
   ]
  },
  {
   "cell_type": "code",
   "execution_count": 3,
   "id": "6398d4bb",
   "metadata": {
    "scrolled": true
   },
   "outputs": [
    {
     "name": "stdout",
     "output_type": "stream",
     "text": [
      "Calculating 0 out of [0, 1, 2, 3, 4, 5, 6, 7]...\n",
      "Calculating 1 out of [0, 1, 2, 3, 4, 5, 6, 7]...\n",
      "Calculating 2 out of [0, 1, 2, 3, 4, 5, 6, 7]...\n",
      "Calculating 3 out of [0, 1, 2, 3, 4, 5, 6, 7]...\n",
      "Calculating 4 out of [0, 1, 2, 3, 4, 5, 6, 7]...\n",
      "Calculating 5 out of [0, 1, 2, 3, 4, 5, 6, 7]...\n",
      "Calculating 6 out of [0, 1, 2, 3, 4, 5, 6, 7]...\n",
      "Calculating 7 out of [0, 1, 2, 3, 4, 5, 6, 7]...\n",
      "\n",
      "Real part of H_eff in ground state subspace taylor expanded in 1/C: \n"
     ]
    },
    {
     "data": {
      "text/html": [
       "<html><script type=\"math/tex; mode=display\">\\newcommand{\\Bold}[1]{\\mathbf{#1}}\\left(\\begin{array}{rrrrrrrr}\n",
       "\\frac{{\\left({R_{\\nu}}^{3} {c_\\kappa}^{3} + 0.5625 \\, {R_{\\nu}}^{2} {c_\\kappa}^{2} + 0.09375 \\, {R_{\\nu}} {c_\\kappa} + 0.003906\\right)} {\\Omega}^{2}}{{\\left({\\left({R_{\\nu}}^{3} {c_\\kappa}^{3} + 0.5625 \\, {R_{\\nu}}^{2} {c_\\kappa}^{2} + 0.09375 \\, {R_{\\nu}} {c_\\kappa} + 0.003906\\right)} {\\Delta_{E\\gamma}} + {\\left(-0.5000i \\, {R_{\\nu}}^{3} {c_\\kappa}^{3} - 0.6250i \\, {R_{\\nu}}^{2} {c_\\kappa}^{2} - 0.1562i \\, {R_{\\nu}} {c_\\kappa} - 0.007812i\\right)} R_{f}\\right)} C {\\gamma}} & 0 & 0 & 0 & 0 & 0 & 0 & 0 \\\\\n",
       "0 & \\frac{{\\left({R_{\\nu}}^{3} {c_\\kappa}^{3} + 1.250 \\, {R_{\\nu}}^{2} {c_\\kappa}^{2} + 0.3125 \\, {R_{\\nu}} {c_\\kappa} + 0.01562\\right)} {\\Omega}^{2}}{{\\left({\\left({R_{\\nu}}^{3} {c_\\kappa}^{3} + 1.250 \\, {R_{\\nu}}^{2} {c_\\kappa}^{2} + 0.3125 \\, {R_{\\nu}} {c_\\kappa} + 0.01562\\right)} {\\Delta_{E\\gamma}} + {\\left(-i \\, {R_{\\nu}}^{2} {c_\\kappa}^{2} - 0.5000i \\, {R_{\\nu}} {c_\\kappa} - 0.03125i\\right)} R_{f}\\right)} C {\\gamma}} & 0 & 0 & 0 & 0 & 0 & 0 \\\\\n",
       "0 & 0 & \\frac{{\\left({R_{\\nu}}^{3} {c_\\kappa}^{3} + 1.250 \\, {R_{\\nu}}^{2} {c_\\kappa}^{2} + 0.3125 \\, {R_{\\nu}} {c_\\kappa} + 0.01562\\right)} {\\Omega}^{2}}{{\\left({\\left({R_{\\nu}}^{3} {c_\\kappa}^{3} + 1.250 \\, {R_{\\nu}}^{2} {c_\\kappa}^{2} + 0.3125 \\, {R_{\\nu}} {c_\\kappa} + 0.01562\\right)} {\\Delta_{E\\gamma}} + {\\left(-i \\, {R_{\\nu}}^{2} {c_\\kappa}^{2} - 0.5000i \\, {R_{\\nu}} {c_\\kappa} - 0.03125i\\right)} R_{f}\\right)} C {\\gamma}} & 0 & 0 & 0 & 0 & 0 \\\\\n",
       "0 & 0 & 0 & \\frac{{\\left({R_{\\nu}}^{2} {c_\\kappa}^{2} + 0.5000 \\, {R_{\\nu}} {c_\\kappa} + 0.03125\\right)} {\\Omega}^{2}}{{\\left({\\left({R_{\\nu}}^{2} {c_\\kappa}^{2} + 0.5000 \\, {R_{\\nu}} {c_\\kappa} + 0.03125\\right)} {\\Delta_{E\\gamma}} + {\\left(-0.7500i \\, {R_{\\nu}} {c_\\kappa} - 0.06250i\\right)} R_{f}\\right)} C {\\gamma}} & 0 & 0 & 0 & 0 \\\\\n",
       "0 & 0 & 0 & 0 & \\frac{{\\left({R_{\\nu}}^{3} {c_\\kappa}^{3} + 0.7500 \\, {R_{\\nu}}^{2} {c_\\kappa}^{2} + 0.1875 \\, {R_{\\nu}} {c_\\kappa} + 0.01562\\right)} {\\Omega}^{2}}{{\\left({\\left({R_{\\nu}}^{3} {c_\\kappa}^{3} + 0.7500 \\, {R_{\\nu}}^{2} {c_\\kappa}^{2} + 0.1875 \\, {R_{\\nu}} {c_\\kappa} + 0.01562\\right)} {\\Delta_{E\\gamma}} + {\\left(-0.5000i \\, {R_{\\nu}}^{2} {c_\\kappa}^{2} - 0.2500i \\, {R_{\\nu}} {c_\\kappa} - 0.03125i\\right)} R_{f}\\right)} C {\\gamma}} & 0 & 0 & 0 \\\\\n",
       "0 & 0 & 0 & 0 & 0 & \\frac{{\\left({R_{\\nu}}^{2} {c_\\kappa}^{2} + 0.5000 \\, {R_{\\nu}} {c_\\kappa} + 0.06250\\right)} {\\Omega}^{2}}{{\\left({\\left({R_{\\nu}}^{2} {c_\\kappa}^{2} + 0.5000 \\, {R_{\\nu}} {c_\\kappa} + 0.06250\\right)} {\\Delta_{E\\gamma}} + {\\left(-0.5000i \\, {R_{\\nu}} {c_\\kappa} - 0.1250i\\right)} R_{f}\\right)} C {\\gamma}} & 0 & 0 \\\\\n",
       "0 & 0 & 0 & 0 & 0 & 0 & \\frac{{\\left({R_{\\nu}}^{2} {c_\\kappa}^{2} + 0.5000 \\, {R_{\\nu}} {c_\\kappa} + 0.06250\\right)} {\\Omega}^{2}}{{\\left({\\left({R_{\\nu}}^{2} {c_\\kappa}^{2} + 0.5000 \\, {R_{\\nu}} {c_\\kappa} + 0.06250\\right)} {\\Delta_{E\\gamma}} + {\\left(-0.5000i \\, {R_{\\nu}} {c_\\kappa} - 0.1250i\\right)} R_{f}\\right)} C {\\gamma}} & 0 \\\\\n",
       "0 & 0 & 0 & 0 & 0 & 0 & 0 & \\frac{{\\left({R_{\\nu}} {c_\\kappa} + 0.2500\\right)} {\\Omega}^{2}}{{\\left({\\left({R_{\\nu}} {c_\\kappa} + 0.2500\\right)} {\\Delta_{E\\gamma}} - 0.5000i \\, R_{f}\\right)} C {\\gamma}}\n",
       "\\end{array}\\right)</script></html>"
      ],
      "text/latex": [
       "$$\\newcommand{\\Bold}[1]{\\mathbf{#1}}\\left(\\begin{array}{rrrrrrrr}\n",
       "\\frac{{\\left({R_{\\nu}}^{3} {c_\\kappa}^{3} + 0.5625 \\, {R_{\\nu}}^{2} {c_\\kappa}^{2} + 0.09375 \\, {R_{\\nu}} {c_\\kappa} + 0.003906\\right)} {\\Omega}^{2}}{{\\left({\\left({R_{\\nu}}^{3} {c_\\kappa}^{3} + 0.5625 \\, {R_{\\nu}}^{2} {c_\\kappa}^{2} + 0.09375 \\, {R_{\\nu}} {c_\\kappa} + 0.003906\\right)} {\\Delta_{E\\gamma}} + {\\left(-0.5000i \\, {R_{\\nu}}^{3} {c_\\kappa}^{3} - 0.6250i \\, {R_{\\nu}}^{2} {c_\\kappa}^{2} - 0.1562i \\, {R_{\\nu}} {c_\\kappa} - 0.007812i\\right)} R_{f}\\right)} C {\\gamma}} & 0 & 0 & 0 & 0 & 0 & 0 & 0 \\\\\n",
       "0 & \\frac{{\\left({R_{\\nu}}^{3} {c_\\kappa}^{3} + 1.250 \\, {R_{\\nu}}^{2} {c_\\kappa}^{2} + 0.3125 \\, {R_{\\nu}} {c_\\kappa} + 0.01562\\right)} {\\Omega}^{2}}{{\\left({\\left({R_{\\nu}}^{3} {c_\\kappa}^{3} + 1.250 \\, {R_{\\nu}}^{2} {c_\\kappa}^{2} + 0.3125 \\, {R_{\\nu}} {c_\\kappa} + 0.01562\\right)} {\\Delta_{E\\gamma}} + {\\left(-i \\, {R_{\\nu}}^{2} {c_\\kappa}^{2} - 0.5000i \\, {R_{\\nu}} {c_\\kappa} - 0.03125i\\right)} R_{f}\\right)} C {\\gamma}} & 0 & 0 & 0 & 0 & 0 & 0 \\\\\n",
       "0 & 0 & \\frac{{\\left({R_{\\nu}}^{3} {c_\\kappa}^{3} + 1.250 \\, {R_{\\nu}}^{2} {c_\\kappa}^{2} + 0.3125 \\, {R_{\\nu}} {c_\\kappa} + 0.01562\\right)} {\\Omega}^{2}}{{\\left({\\left({R_{\\nu}}^{3} {c_\\kappa}^{3} + 1.250 \\, {R_{\\nu}}^{2} {c_\\kappa}^{2} + 0.3125 \\, {R_{\\nu}} {c_\\kappa} + 0.01562\\right)} {\\Delta_{E\\gamma}} + {\\left(-i \\, {R_{\\nu}}^{2} {c_\\kappa}^{2} - 0.5000i \\, {R_{\\nu}} {c_\\kappa} - 0.03125i\\right)} R_{f}\\right)} C {\\gamma}} & 0 & 0 & 0 & 0 & 0 \\\\\n",
       "0 & 0 & 0 & \\frac{{\\left({R_{\\nu}}^{2} {c_\\kappa}^{2} + 0.5000 \\, {R_{\\nu}} {c_\\kappa} + 0.03125\\right)} {\\Omega}^{2}}{{\\left({\\left({R_{\\nu}}^{2} {c_\\kappa}^{2} + 0.5000 \\, {R_{\\nu}} {c_\\kappa} + 0.03125\\right)} {\\Delta_{E\\gamma}} + {\\left(-0.7500i \\, {R_{\\nu}} {c_\\kappa} - 0.06250i\\right)} R_{f}\\right)} C {\\gamma}} & 0 & 0 & 0 & 0 \\\\\n",
       "0 & 0 & 0 & 0 & \\frac{{\\left({R_{\\nu}}^{3} {c_\\kappa}^{3} + 0.7500 \\, {R_{\\nu}}^{2} {c_\\kappa}^{2} + 0.1875 \\, {R_{\\nu}} {c_\\kappa} + 0.01562\\right)} {\\Omega}^{2}}{{\\left({\\left({R_{\\nu}}^{3} {c_\\kappa}^{3} + 0.7500 \\, {R_{\\nu}}^{2} {c_\\kappa}^{2} + 0.1875 \\, {R_{\\nu}} {c_\\kappa} + 0.01562\\right)} {\\Delta_{E\\gamma}} + {\\left(-0.5000i \\, {R_{\\nu}}^{2} {c_\\kappa}^{2} - 0.2500i \\, {R_{\\nu}} {c_\\kappa} - 0.03125i\\right)} R_{f}\\right)} C {\\gamma}} & 0 & 0 & 0 \\\\\n",
       "0 & 0 & 0 & 0 & 0 & \\frac{{\\left({R_{\\nu}}^{2} {c_\\kappa}^{2} + 0.5000 \\, {R_{\\nu}} {c_\\kappa} + 0.06250\\right)} {\\Omega}^{2}}{{\\left({\\left({R_{\\nu}}^{2} {c_\\kappa}^{2} + 0.5000 \\, {R_{\\nu}} {c_\\kappa} + 0.06250\\right)} {\\Delta_{E\\gamma}} + {\\left(-0.5000i \\, {R_{\\nu}} {c_\\kappa} - 0.1250i\\right)} R_{f}\\right)} C {\\gamma}} & 0 & 0 \\\\\n",
       "0 & 0 & 0 & 0 & 0 & 0 & \\frac{{\\left({R_{\\nu}}^{2} {c_\\kappa}^{2} + 0.5000 \\, {R_{\\nu}} {c_\\kappa} + 0.06250\\right)} {\\Omega}^{2}}{{\\left({\\left({R_{\\nu}}^{2} {c_\\kappa}^{2} + 0.5000 \\, {R_{\\nu}} {c_\\kappa} + 0.06250\\right)} {\\Delta_{E\\gamma}} + {\\left(-0.5000i \\, {R_{\\nu}} {c_\\kappa} - 0.1250i\\right)} R_{f}\\right)} C {\\gamma}} & 0 \\\\\n",
       "0 & 0 & 0 & 0 & 0 & 0 & 0 & \\frac{{\\left({R_{\\nu}} {c_\\kappa} + 0.2500\\right)} {\\Omega}^{2}}{{\\left({\\left({R_{\\nu}} {c_\\kappa} + 0.2500\\right)} {\\Delta_{E\\gamma}} - 0.5000i \\, R_{f}\\right)} C {\\gamma}}\n",
       "\\end{array}\\right)$$"
      ],
      "text/plain": [
       "[(R_v^3*c_k^3 + 0.5625*R_v^2*c_k^2 + 0.09375*R_v*c_k + 0.003906)*Omega^2/(((R_v^3*c_k^3 + 0.5625*R_v^2*c_k^2 + 0.09375*R_v*c_k + 0.003906)*DEg + (-0.5000*I*R_v^3*c_k^3 - 0.6250*I*R_v^2*c_k^2 - 0.1562*I*R_v*c_k - 0.007812*I)*R_f)*C*gamma)                                                                                                                                                                                                                                            0                                                                                                                                                                                                                                            0                                                                                                                                                                                                                                            0                                                                                                                                                                                                                                            0                                                                                                                                                                                                                                            0                                                                                                                                                                                                                                            0                                                                                                                                                                                                                                            0]\n",
       "[                                                                                                                                                                                                                                           0                                      (R_v^3*c_k^3 + 1.250*R_v^2*c_k^2 + 0.3125*R_v*c_k + 0.01562)*Omega^2/(((R_v^3*c_k^3 + 1.250*R_v^2*c_k^2 + 0.3125*R_v*c_k + 0.01562)*DEg + (-I*R_v^2*c_k^2 - 0.5000*I*R_v*c_k - 0.03125*I)*R_f)*C*gamma)                                                                                                                                                                                                                                            0                                                                                                                                                                                                                                            0                                                                                                                                                                                                                                            0                                                                                                                                                                                                                                            0                                                                                                                                                                                                                                            0                                                                                                                                                                                                                                            0]\n",
       "[                                                                                                                                                                                                                                           0                                                                                                                                                                                                                                            0                                      (R_v^3*c_k^3 + 1.250*R_v^2*c_k^2 + 0.3125*R_v*c_k + 0.01562)*Omega^2/(((R_v^3*c_k^3 + 1.250*R_v^2*c_k^2 + 0.3125*R_v*c_k + 0.01562)*DEg + (-I*R_v^2*c_k^2 - 0.5000*I*R_v*c_k - 0.03125*I)*R_f)*C*gamma)                                                                                                                                                                                                                                            0                                                                                                                                                                                                                                            0                                                                                                                                                                                                                                            0                                                                                                                                                                                                                                            0                                                                                                                                                                                                                                            0]\n",
       "[                                                                                                                                                                                                                                           0                                                                                                                                                                                                                                            0                                                                                                                                                                                                                                            0                                                                                              (R_v^2*c_k^2 + 0.5000*R_v*c_k + 0.03125)*Omega^2/(((R_v^2*c_k^2 + 0.5000*R_v*c_k + 0.03125)*DEg + (-0.7500*I*R_v*c_k - 0.06250*I)*R_f)*C*gamma)                                                                                                                                                                                                                                            0                                                                                                                                                                                                                                            0                                                                                                                                                                                                                                            0                                                                                                                                                                                                                                            0]\n",
       "[                                                                                                                                                                                                                                           0                                                                                                                                                                                                                                            0                                                                                                                                                                                                                                            0                                                                                                                                                                                                                                            0                             (R_v^3*c_k^3 + 0.7500*R_v^2*c_k^2 + 0.1875*R_v*c_k + 0.01562)*Omega^2/(((R_v^3*c_k^3 + 0.7500*R_v^2*c_k^2 + 0.1875*R_v*c_k + 0.01562)*DEg + (-0.5000*I*R_v^2*c_k^2 - 0.2500*I*R_v*c_k - 0.03125*I)*R_f)*C*gamma)                                                                                                                                                                                                                                            0                                                                                                                                                                                                                                            0                                                                                                                                                                                                                                            0]\n",
       "[                                                                                                                                                                                                                                           0                                                                                                                                                                                                                                            0                                                                                                                                                                                                                                            0                                                                                                                                                                                                                                            0                                                                                                                                                                                                                                            0                                                                                               (R_v^2*c_k^2 + 0.5000*R_v*c_k + 0.06250)*Omega^2/(((R_v^2*c_k^2 + 0.5000*R_v*c_k + 0.06250)*DEg + (-0.5000*I*R_v*c_k - 0.1250*I)*R_f)*C*gamma)                                                                                                                                                                                                                                            0                                                                                                                                                                                                                                            0]\n",
       "[                                                                                                                                                                                                                                           0                                                                                                                                                                                                                                            0                                                                                                                                                                                                                                            0                                                                                                                                                                                                                                            0                                                                                                                                                                                                                                            0                                                                                                                                                                                                                                            0                                                                                               (R_v^2*c_k^2 + 0.5000*R_v*c_k + 0.06250)*Omega^2/(((R_v^2*c_k^2 + 0.5000*R_v*c_k + 0.06250)*DEg + (-0.5000*I*R_v*c_k - 0.1250*I)*R_f)*C*gamma)                                                                                                                                                                                                                                            0]\n",
       "[                                                                                                                                                                                                                                           0                                                                                                                                                                                                                                            0                                                                                                                                                                                                                                            0                                                                                                                                                                                                                                            0                                                                                                                                                                                                                                            0                                                                                                                                                                                                                                            0                                                                                                                                                                                                                                            0                                                                                                                                                                 (R_v*c_k + 0.2500)*Omega^2/(((R_v*c_k + 0.2500)*DEg - 0.5000*I*R_f)*C*gamma)]"
      ]
     },
     "metadata": {},
     "output_type": "display_data"
    }
   ],
   "source": [
    "var('gamma','DE','De','g','g_f','Omega','v','gamma_f','gamma_g',domain='positive')\n",
    "var('DEt',domain='complex',  latex_name =r'\\tilde{\\Delta }_E')\n",
    "var('Det',domain='complex',  latex_name =r'\\tilde{\\Delta }_e')\n",
    "var('DEg',domain='positive',  latex_name =r'\\Delta_{E\\gamma}')\n",
    "var('Deg',domain='positive',  latex_name =r'\\Delta_{e\\gamma}')\n",
    "var('kappa_c','kappa_b',domain='positive')\n",
    "var('C',domain='positive')\n",
    "var('c_k',domain='positive',  latex_name =r'c_\\kappa')\n",
    "\n",
    "eff_hamiltonian_tayl = sg.copy( s1.eff_hamiltonian.parent().zero())\n",
    "for diag in s1.pos_gs:\n",
    "    print(f'Calculating {diag} out of {s1.pos_gs}...')\n",
    "    #Take only one of the compl conj terms. Switch maybe second 0 to 1\n",
    "    min_expr_len = 10**10\n",
    "    for term in range(1):\n",
    "        b = s1.eff_hamiltonian[diag,diag]\n",
    "\n",
    "        b = b.operands()[1].operands()[term]\n",
    "        #b = b.subs(DE=+0.5*I*gamma_f + 0.5*I*gamma_g + DEt*gamma)\n",
    "        #b = b.subs(De=+0.5*I*gamma   +Det*gamma)\n",
    "        b = b.subs(DE=DEg*gamma*C^n)\n",
    "        b = b.subs(De=Deg*gamma*C^m)\n",
    "        \n",
    "        var('R_f',domain='positive')#ratio  (g_f/g)^2\n",
    "        b = b.subs(g_f=g*sqrt(R_f))\n",
    "\n",
    "        var('R_v',domain='positive',  latex_name =r'R_{\\nu}') #ratio (v/g)^2\n",
    "        b = b.subs(v=g*sqrt(R_v))\n",
    "\n",
    "        var('r_b',domain='positive')\n",
    "        b = b.subs(kappa_b=gamma/r_b)\n",
    "        \n",
    "        var('r_f',domain='positive',latex_name =r'r_f')\n",
    "        b = b.subs(gamma_f=gamma*r_f)\n",
    "        \n",
    "        var('r_g',domain='positive',latex_name =r'r_g')\n",
    "        b = b.subs(gamma_g=gamma*r_g)\n",
    "        \n",
    "        b = b.subs(g = sqrt(C*gamma*kappa_c)) \n",
    "        b = b.subs(r_b = c_k/C)\n",
    "\n",
    "        b = b*gamma  #Omega has to be substituted with Omega/gamma\n",
    "\n",
    "\n",
    "        b = b._mathematica_().Factor()._sage_()\n",
    "        b = MMA_simplify(b)#,full=True)\n",
    "        #holds the smallest expression\n",
    "        if len(str(b))<min_expr_len:\n",
    "            min_expr_len = len(str(b))\n",
    "            h_eff = b\n",
    "  \n",
    "    q = h_eff.subs(C=1/x)\n",
    "    q = MMA_simplify(q)\n",
    "    tayl = q._mathematica_().Series((x,0,1)).Normal()._sage_()\n",
    "    tayl = tayl.subs(x=1/C)\n",
    "    \n",
    "    #tayl =  (tayl + conjugate(tayl))/2      # try with + conjugate_transp\n",
    "\n",
    "    #taylr = taylr.expand()\n",
    "    #tayl = MMA_simplify(tayl,full=True)\n",
    "    eff_hamiltonian_tayl[diag,diag] = Omega^2/gamma * tayl\n",
    "\n",
    "print('\\nReal part of H_eff in ground state subspace taylor expanded in 1/C: ')\n",
    "show(symround(eff_hamiltonian_tayl[s1.pos_gs,s1.pos_gs],digits=4))\n",
    "\n",
    "eff_hamiltonian_tayl = (eff_hamiltonian_tayl[s1.pos_gs,s1.pos_gs] + conjugate(eff_hamiltonian_tayl[s1.pos_gs,s1.pos_gs]))/2"
   ]
  },
  {
   "cell_type": "markdown",
   "id": "3c69018c",
   "metadata": {},
   "source": [
    "# Parameter manipulation"
   ]
  },
  {
   "cell_type": "code",
   "execution_count": 4,
   "id": "d737471d",
   "metadata": {},
   "outputs": [],
   "source": [
    "#isolate parameters\n",
    "a = eff_hamiltonian_tayl[0,0]\n",
    "a = MMA_simplify(a,full=True)\n",
    "\n",
    "b = eff_hamiltonian_tayl[1,1]\n",
    "b = MMA_simplify(b,full=True)\n",
    "\n",
    "c = eff_hamiltonian_tayl[3,3]\n",
    "c = MMA_simplify(c,full=True)\n",
    "\n",
    "d = eff_hamiltonian_tayl[4,4]\n",
    "d = MMA_simplify(d,full=True)\n",
    "\n",
    "e = eff_hamiltonian_tayl[5,5]\n",
    "e = MMA_simplify(e,full=True)\n",
    "\n",
    "f = eff_hamiltonian_tayl[7,7]\n",
    "f = MMA_simplify(f,full=True)\n",
    "\n",
    "a = MMA_simplify(a.numerator().expand()) /  MMA_simplify(a.denominator().expand())\n",
    "b = MMA_simplify(b.numerator().expand()) /  MMA_simplify(b.denominator().expand())\n",
    "#c = MMA_simplify(c.numerator().expand()) /  MMA_simplify(c.denominator().expand())\n",
    "\n",
    "d = MMA_simplify(d.numerator().expand()) /  MMA_simplify(d.denominator().expand())\n",
    "e = MMA_simplify(e.numerator().expand()) /  MMA_simplify(e.denominator().expand())\n",
    "f = MMA_simplify(f.numerator().expand()) /  MMA_simplify(f.denominator().expand())"
   ]
  },
  {
   "cell_type": "code",
   "execution_count": 5,
   "id": "69f67660",
   "metadata": {},
   "outputs": [],
   "source": [
    "tg = 3*np.pi/(e+a-b-d)\n",
    "\n",
    "eq1 = (a-2*b+c)*tg\n",
    "eq1 = MMA_simplify(eq1)\n",
    "var('x',domain = 'real')\n",
    "eq1 = eq1.subs(R_v=x/c_k) \n",
    "\n",
    "eq2 = (3*a-2*b-d+f)*tg\n",
    "eq2 = MMA_simplify(eq2)\n",
    "eq2 = eq2.subs(R_v=x/c_k)"
   ]
  },
  {
   "cell_type": "code",
   "execution_count": 6,
   "id": "ac98e3b3",
   "metadata": {},
   "outputs": [
    {
     "name": "stdout",
     "output_type": "stream",
     "text": [
      "precision: -1\n",
      "1.00000000000000 1.30000000000000 2.207266137319351\n",
      "precision: -2\n",
      "1.00000000000000 1.23000000000000 0.18682883390788874\n",
      "precision: -3\n",
      "1.00000000000000 1.22200000000000 0.08499972994047766\n",
      "precision: -4\n",
      "1.00000000000000 1.22190000000000 0.0034810507205733643\n",
      "precision: -5\n",
      "1.00000000000000 1.22184000000000 0.00042314229862938646\n",
      "precision: -6\n",
      "1.00000000000000 1.22183500000000 1.541594362208798e-05\n",
      "precision: -7\n",
      "1.00000000000000 1.22183420000000 5.22276872771954e-06\n",
      "precision: -8\n",
      "1.00000000000000 1.22183416000000 1.2618110645234992e-07\n",
      "precision: -9\n",
      "1.00000000000000 1.22183415200000 2.4249423802302772e-08\n",
      "precision: -10\n",
      "1.00000000000000 1.22183415130000 3.862972164370149e-09\n",
      "precision: -11\n",
      "1.00000000000000 1.22183415124000 8.051230793171271e-10\n",
      "precision: -12\n",
      "1.00000000000000 1.22183415123800 9.134737410931848e-11\n",
      "precision: -13\n",
      "1.00000000000000 1.22183415123790 9.919176591210999e-12\n",
      "x1 , R_f D_{Eg}\n"
     ]
    },
    {
     "data": {
      "text/html": [
       "<html><script type=\"math/tex; mode=display\">\\newcommand{\\Bold}[1]{\\mathbf{#1}}1.01014311134038</script></html>"
      ],
      "text/latex": [
       "$$\\newcommand{\\Bold}[1]{\\mathbf{#1}}1.01014311134038$$"
      ],
      "text/plain": [
       "1.01014311134038"
      ]
     },
     "metadata": {},
     "output_type": "display_data"
    },
    {
     "data": {
      "text/html": [
       "<html><script type=\"math/tex; mode=display\">\\newcommand{\\Bold}[1]{\\mathbf{#1}}1.00000000000000</script></html>"
      ],
      "text/latex": [
       "$$\\newcommand{\\Bold}[1]{\\mathbf{#1}}1.00000000000000$$"
      ],
      "text/plain": [
       "1.00000000000000"
      ]
     },
     "metadata": {},
     "output_type": "display_data"
    },
    {
     "data": {
      "text/html": [
       "<html><script type=\"math/tex; mode=display\">\\newcommand{\\Bold}[1]{\\mathbf{#1}}1.22183415123789</script></html>"
      ],
      "text/latex": [
       "$$\\newcommand{\\Bold}[1]{\\mathbf{#1}}1.22183415123789$$"
      ],
      "text/plain": [
       "1.22183415123789"
      ]
     },
     "metadata": {},
     "output_type": "display_data"
    }
   ],
   "source": [
    "#search for simultaneous roots\n",
    "tol =1e-12\n",
    "rf=1\n",
    "de=1\n",
    "valp=10\n",
    "p = -1\n",
    "while True:\n",
    "    #rf = rf-10^p\n",
    "    de = de+10^p\n",
    "    eq1s = eq1.subs(R_f =rf , DEg=de)\n",
    "    eq = eq1s-2*pi == 0 #2*pi ??\n",
    "    sol = solve(eq,x)\n",
    "    sol = sol[0].rhs()\n",
    "    sol = (sol).roots(x, ring=RR, multiplicities=False)\n",
    "    #sol = eq.roots(x, ring=RR, multiplicities=False)\n",
    "    for i in sol:\n",
    "        if i>0:\n",
    "            x1=i\n",
    "    eq2s = eq2.subs(R_f =rf ,DEg=de)\n",
    "    val = np.mod(float(eq2s.subs(x=x1)) , 2*np.pi)\n",
    "    if abs(val)<tol:\n",
    "        break\n",
    "    if abs(val)>abs(valp):\n",
    "        print(f'precision: {p}')\n",
    "        print(rf.n(),de.n(),valp)\n",
    "        #rf = rf+10^p\n",
    "        de = de-10^p\n",
    "        p = p-1\n",
    "    else:\n",
    "        valp=val\n",
    "print('x1 , R_f D_{Eg}')\n",
    "show(x1)\n",
    "show(rf.n())\n",
    "show(de.n())"
   ]
  },
  {
   "cell_type": "code",
   "execution_count": 7,
   "id": "c04bad4a",
   "metadata": {},
   "outputs": [
    {
     "name": "stdout",
     "output_type": "stream",
     "text": [
      "Final matrix\n"
     ]
    },
    {
     "data": {
      "text/html": [
       "<html><script type=\"math/tex; mode=display\">\\newcommand{\\Bold}[1]{\\mathbf{#1}}\\left(\\begin{array}{rrrrrrrr}\n",
       "1.0 & 0.00 & 0.00 & 0.00 & 0.00 & 0.00 & 0.00 & 0.00 \\\\\n",
       "0.00 & 1.0 & 0.00 & 0.00 & 0.00 & 0.00 & 0.00 & 0.00 \\\\\n",
       "0.00 & 0.00 & 1.0 & 0.00 & 0.00 & 0.00 & 0.00 & 0.00 \\\\\n",
       "0.00 & 0.00 & 0.00 & 1.0 & 0.00 & 0.00 & 0.00 & 0.00 \\\\\n",
       "0.00 & 0.00 & 0.00 & 0.00 & 1.0 & 0.00 & 0.00 & 0.00 \\\\\n",
       "0.00 & 0.00 & 0.00 & 0.00 & 0.00 & -1.0 & 0.00 & 0.00 \\\\\n",
       "0.00 & 0.00 & 0.00 & 0.00 & 0.00 & 0.00 & -1.0 & 0.00 \\\\\n",
       "0.00 & 0.00 & 0.00 & 0.00 & 0.00 & 0.00 & 0.00 & 1.0\n",
       "\\end{array}\\right)</script></html>"
      ],
      "text/latex": [
       "$$\\newcommand{\\Bold}[1]{\\mathbf{#1}}\\left(\\begin{array}{rrrrrrrr}\n",
       "1.0 & 0.00 & 0.00 & 0.00 & 0.00 & 0.00 & 0.00 & 0.00 \\\\\n",
       "0.00 & 1.0 & 0.00 & 0.00 & 0.00 & 0.00 & 0.00 & 0.00 \\\\\n",
       "0.00 & 0.00 & 1.0 & 0.00 & 0.00 & 0.00 & 0.00 & 0.00 \\\\\n",
       "0.00 & 0.00 & 0.00 & 1.0 & 0.00 & 0.00 & 0.00 & 0.00 \\\\\n",
       "0.00 & 0.00 & 0.00 & 0.00 & 1.0 & 0.00 & 0.00 & 0.00 \\\\\n",
       "0.00 & 0.00 & 0.00 & 0.00 & 0.00 & -1.0 & 0.00 & 0.00 \\\\\n",
       "0.00 & 0.00 & 0.00 & 0.00 & 0.00 & 0.00 & -1.0 & 0.00 \\\\\n",
       "0.00 & 0.00 & 0.00 & 0.00 & 0.00 & 0.00 & 0.00 & 1.0\n",
       "\\end{array}\\right)$$"
      ],
      "text/plain": [
       "[ 1.0 0.00 0.00 0.00 0.00 0.00 0.00 0.00]\n",
       "[0.00  1.0 0.00 0.00 0.00 0.00 0.00 0.00]\n",
       "[0.00 0.00  1.0 0.00 0.00 0.00 0.00 0.00]\n",
       "[0.00 0.00 0.00  1.0 0.00 0.00 0.00 0.00]\n",
       "[0.00 0.00 0.00 0.00  1.0 0.00 0.00 0.00]\n",
       "[0.00 0.00 0.00 0.00 0.00 -1.0 0.00 0.00]\n",
       "[0.00 0.00 0.00 0.00 0.00 0.00 -1.0 0.00]\n",
       "[0.00 0.00 0.00 0.00 0.00 0.00 0.00  1.0]"
      ]
     },
     "metadata": {},
     "output_type": "display_data"
    },
    {
     "name": "stdout",
     "output_type": "stream",
     "text": [
      "with  complex error\n"
     ]
    },
    {
     "data": {
      "text/html": [
       "<html><script type=\"math/tex; mode=display\">\\newcommand{\\Bold}[1]{\\mathbf{#1}}\\left(\\begin{array}{rrrrrrrr}\n",
       "0.00 & 0.00 & 0.00 & 0.00 & 0.00 & 0.00 & 0.00 & 0.00 \\\\\n",
       "0.00 & 0.00 & 0.00 & 0.00 & 0.00 & 0.00 & 0.00 & 0.00 \\\\\n",
       "0.00 & 0.00 & 0.00 & 0.00 & 0.00 & 0.00 & 0.00 & 0.00 \\\\\n",
       "0.00 & 0.00 & 0.00 & 5.4 \\times 10^{-14}i & 0.00 & 0.00 & 0.00 & 0.00 \\\\\n",
       "0.00 & 0.00 & 0.00 & 0.00 & 0.00 & 0.00 & 0.00 & 0.00 \\\\\n",
       "0.00 & 0.00 & 0.00 & 0.00 & 0.00 & -3.3 \\times 10^{-16}i & 0.00 & 0.00 \\\\\n",
       "0.00 & 0.00 & 0.00 & 0.00 & 0.00 & 0.00 & -3.3 \\times 10^{-16}i & 0.00 \\\\\n",
       "0.00 & 0.00 & 0.00 & 0.00 & 0.00 & 0.00 & 0.00 & -2.8 \\times 10^{-15}i\n",
       "\\end{array}\\right)</script></html>"
      ],
      "text/latex": [
       "$$\\newcommand{\\Bold}[1]{\\mathbf{#1}}\\left(\\begin{array}{rrrrrrrr}\n",
       "0.00 & 0.00 & 0.00 & 0.00 & 0.00 & 0.00 & 0.00 & 0.00 \\\\\n",
       "0.00 & 0.00 & 0.00 & 0.00 & 0.00 & 0.00 & 0.00 & 0.00 \\\\\n",
       "0.00 & 0.00 & 0.00 & 0.00 & 0.00 & 0.00 & 0.00 & 0.00 \\\\\n",
       "0.00 & 0.00 & 0.00 & 5.4 \\times 10^{-14}i & 0.00 & 0.00 & 0.00 & 0.00 \\\\\n",
       "0.00 & 0.00 & 0.00 & 0.00 & 0.00 & 0.00 & 0.00 & 0.00 \\\\\n",
       "0.00 & 0.00 & 0.00 & 0.00 & 0.00 & -3.3 \\times 10^{-16}i & 0.00 & 0.00 \\\\\n",
       "0.00 & 0.00 & 0.00 & 0.00 & 0.00 & 0.00 & -3.3 \\times 10^{-16}i & 0.00 \\\\\n",
       "0.00 & 0.00 & 0.00 & 0.00 & 0.00 & 0.00 & 0.00 & -2.8 \\times 10^{-15}i\n",
       "\\end{array}\\right)$$"
      ],
      "text/plain": [
       "[      0.00       0.00       0.00       0.00       0.00       0.00       0.00       0.00]\n",
       "[      0.00       0.00       0.00       0.00       0.00       0.00       0.00       0.00]\n",
       "[      0.00       0.00       0.00       0.00       0.00       0.00       0.00       0.00]\n",
       "[      0.00       0.00       0.00  5.4e-14*I       0.00       0.00       0.00       0.00]\n",
       "[      0.00       0.00       0.00       0.00       0.00       0.00       0.00       0.00]\n",
       "[      0.00       0.00       0.00       0.00       0.00 -3.3e-16*I       0.00       0.00]\n",
       "[      0.00       0.00       0.00       0.00       0.00       0.00 -3.3e-16*I       0.00]\n",
       "[      0.00       0.00       0.00       0.00       0.00       0.00       0.00 -2.8e-15*I]"
      ]
     },
     "metadata": {},
     "output_type": "display_data"
    }
   ],
   "source": [
    "#substitute results\n",
    "rot = sg.copy( eff_hamiltonian_tayl.parent().zero())\n",
    "ent = sg.copy( eff_hamiltonian_tayl.parent().zero())\n",
    "\n",
    "\n",
    "t = abs( tg.subs(R_f =rf ,DEg=de,R_v=x1/c_k) )\n",
    "t1 = (a-b).subs(R_f =rf ,DEg=de,R_v=x1/c_k)*t\n",
    "t2 = (a-b).subs(R_f =rf ,DEg=de,R_v=x1/c_k)*t\n",
    "t3 = (a-d).subs(R_f =rf ,DEg=de,R_v=x1/c_k) *t\n",
    "\n",
    "r_add = [0, t1, t2, t1+t2, t3, t3+t1, t3+t2, t3+t1+t2 ]\n",
    "en = [a,b,b,c,d,e,e,f]\n",
    "for i in range(8):\n",
    "    rot[i,i] = exp(I*r_add[i])\n",
    "    ent[i,i] = exp( (en[i]-a).subs(R_f =rf ,DEg=de,R_v=x1/c_k)*t*sg.I)\n",
    "\n",
    "U = rot*ent\n",
    "\n",
    "U = U.subs(t = pi/(e+a-b-d).subs(R_f =rf ,DEg=de,R_v=x1/c_k))\n",
    "Un = U.n(digits=1)\n",
    "print('Final matrix')\n",
    "show(((Un.n(digits=1))+conjugate((Un.n(digits=1))))/2)\n",
    "\n",
    "print('with  complex error')\n",
    "show(((Un.n(digits=1))-conjugate((Un.n(digits=1))))/2)"
   ]
  },
  {
   "cell_type": "code",
   "execution_count": 8,
   "id": "fcaf9fe9",
   "metadata": {},
   "outputs": [
    {
     "data": {
      "text/plain": [
       "118.355092310716*C*gamma/Omega^2"
      ]
     },
     "execution_count": 8,
     "metadata": {},
     "output_type": "execute_result"
    }
   ],
   "source": [
    "t"
   ]
  },
  {
   "cell_type": "code",
   "execution_count": 182,
   "id": "62ceaf7e",
   "metadata": {},
   "outputs": [
    {
     "data": {
      "text/plain": [
       "0.10778978351038017"
      ]
     },
     "execution_count": 182,
     "metadata": {},
     "output_type": "execute_result"
    }
   ],
   "source": [
    "np.mod(float(t3),2*np.pi)/np.pi"
   ]
  },
  {
   "cell_type": "markdown",
   "id": "1498df0a",
   "metadata": {},
   "source": [
    "# Lindblau Operators\n",
    "\n",
    "Choose which of the Lindblau operators to view and which non zero element of it"
   ]
  },
  {
   "cell_type": "code",
   "execution_count": 13,
   "id": "847371b4",
   "metadata": {
    "scrolled": true
   },
   "outputs": [
    {
     "name": "stdout",
     "output_type": "stream",
     "text": [
      "0 out of 8\n",
      "symround: Deleted coefficient -5.1e-16\n",
      "symround: Deleted coefficient 1.4e-14\n",
      "symround: Deleted coefficient 9.8e-15\n",
      "symround: Deleted coefficient -8.9e-16\n",
      "symround: Deleted coefficient 6.2e-15\n",
      "symround: Deleted coefficient 1.1e-14\n",
      "symround: Deleted coefficient 8.9e-15\n",
      "symround: Deleted coefficient 6.7e-16\n",
      "symround: Deleted coefficient 6.2e-15\n",
      "symround: Deleted coefficient 1.1e-14\n",
      "symround: Deleted coefficient 8.9e-15\n",
      "symround: Deleted coefficient 6.7e-16\n",
      "1 out of 8\n",
      "2 out of 8\n",
      "3 out of 8\n",
      "4 out of 8\n",
      "symround: Deleted coefficient -8.9e-16\n",
      "symround: Deleted coefficient -8.9e-16\n",
      "symround: Deleted coefficient -2.2e-16\n",
      "symround: Deleted coefficient 6.2e-15\n",
      "symround: Deleted coefficient 7.1e-15\n",
      "symround: Deleted coefficient 4.4e-15\n",
      "symround: Deleted coefficient -8.9e-16\n",
      "symround: Deleted coefficient -1.1e-15\n",
      "symround: Deleted coefficient -1.1e-16\n",
      "symround: Deleted coefficient -8.9e-16\n",
      "symround: Deleted coefficient -1.1e-15\n",
      "symround: Deleted coefficient -1.1e-16\n",
      "5 out of 8\n",
      "symround: Deleted coefficient 6.2e-16\n",
      "symround: Deleted coefficient 2.4e-15\n",
      "symround: Deleted coefficient 1.2e-15\n",
      "symround: Deleted coefficient 3.1e-15\n",
      "symround: Deleted coefficient 1.8e-15\n",
      "symround: Deleted coefficient 3.3e-16\n",
      "symround: Deleted coefficient 3.1e-15\n",
      "symround: Deleted coefficient 1.8e-15\n",
      "symround: Deleted coefficient 3.3e-16\n",
      "6 out of 8\n",
      "7 out of 8\n",
      "8 out of 8\n"
     ]
    }
   ],
   "source": [
    "lind_op_number = len(s1.lindblau_list)\n",
    "\n",
    "eff_lind_taylor = []\n",
    "eff_lind = []\n",
    "eff_lind_coeff = []\n",
    "for lind_op in range(lind_op_number):\n",
    "    print(f'{lind_op} out of {lind_op_number-1}')\n",
    "    eff_lind_taylor.append([])\n",
    "    eff_lind.append([])\n",
    "    L_matrix = s1.eff_lindblau_list[lind_op]\n",
    "    L_nonzeros = []\n",
    "    L_nonzeros_pos = []\n",
    "    for i in  range(L_matrix.nrows()):\n",
    "        for j in  range(L_matrix.ncols()):\n",
    "            if not L_matrix[i,j].is_zero():\n",
    "                L_nonzeros.append(L_matrix[i,j])\n",
    "                L_nonzeros_pos.append((i,j))\n",
    "    eff_lind_coeff.append(s1.L_coeffs[lind_op])\n",
    "    for which in range(len(L_nonzeros)):\n",
    "\n",
    "        L_elem = L_nonzeros[which]\n",
    "\n",
    "        #L_elem = L_elem.subs(DE=+0.5*I*gamma_f + 0.5*I*gamma_g + DEt*gamma)\n",
    "        #L_elem = L_elem.subs(De=+0.5*I*gamma   +Det*gamma)\n",
    "        L_elem = L_elem.subs(DE=DEg*gamma*C^n)\n",
    "        L_elem = L_elem.subs(De=Deg*gamma*C^m)\n",
    "        #COUPLINGS\n",
    "\n",
    "        L_elem = L_elem.subs(g_f=g*sqrt(R_f))\n",
    "\n",
    "        L_elem = L_elem.subs(v=g*sqrt(R_v))\n",
    "\n",
    "        #ABSORBTIONS\n",
    "        L_elem = L_elem.subs(kappa_b=gamma/r_b)\n",
    "\n",
    "        L_elem = L_elem.subs(gamma_g=gamma*r_g)\n",
    "\n",
    "        L_elem = L_elem.subs(gamma_f=gamma*r_f)\n",
    "\n",
    "        L_elem = L_elem.subs(g = sqrt(C*gamma*kappa_c)) \n",
    "        L_elem = L_elem.subs(r_b = c_k/C)\n",
    "        \n",
    "        L_elem = L_elem._mathematica_().Factor()._sage_()\n",
    "\n",
    "\n",
    "        L_elem = MMA_simplify(L_elem)#,full=True)\n",
    "\n",
    "        L_elem = SR(str(L_elem).replace('Sqrt','sqrt'))\n",
    "        \n",
    "        L_elem_show = symround(L_elem)\n",
    "        \n",
    "        eff_lind[lind_op].append(L_elem_show)\n",
    "        \n",
    "        var('x')\n",
    "        q = L_elem.subs(C=1/x)\n",
    "        q = MMA_simplify(q)\n",
    "        tayl = q._mathematica_().Series((x,0,1)).Normal()._sage_()\n",
    "        tayl = tayl.subs(x=1/C)\n",
    "        tayl = SR(str(tayl).replace('Sqrt','sqrt'))\n",
    "        tayl_show = symround(tayl)\n",
    "        \n",
    "        eff_lind_taylor[-1].append(tayl_show)"
   ]
  },
  {
   "cell_type": "markdown",
   "id": "f1ddbf1c",
   "metadata": {},
   "source": [
    "# See results"
   ]
  },
  {
   "cell_type": "code",
   "execution_count": null,
   "id": "abd5a8d7",
   "metadata": {},
   "outputs": [],
   "source": [
    "#show((eff_lind_taylor[2][3]))"
   ]
  },
  {
   "cell_type": "code",
   "execution_count": null,
   "id": "a02f7505",
   "metadata": {},
   "outputs": [],
   "source": [
    "#show(eff_lind[0][3])"
   ]
  },
  {
   "cell_type": "code",
   "execution_count": 14,
   "id": "bc6f635a",
   "metadata": {},
   "outputs": [
    {
     "name": "stdout",
     "output_type": "stream",
     "text": [
      "symround: Deleted coefficient 2.2e-17\n",
      "symround: Deleted coefficient 1.1e-17\n",
      "symround: Deleted coefficient 2.8e-18\n",
      "symround: Deleted coefficient 1.7e-19\n"
     ]
    },
    {
     "data": {
      "text/html": [
       "<html><script type=\"math/tex; mode=display\">\\newcommand{\\Bold}[1]{\\mathbf{#1}}\\frac{{\\left({\\left({R_{\\nu}}^{3.5} {c_\\kappa}^{3} + 0.88 \\, {R_{\\nu}}^{2.5} {c_\\kappa}^{2} + 0.16 \\, {R_{\\nu}}^{1.5} {c_\\kappa} + 0.0078 \\, \\sqrt{{R_{\\nu}}}\\right)} \\sqrt{C} R_{f}^{1.5} + {\\left(-1.5i \\, {R_{\\nu}}^{3.5} {c_\\kappa}^{3} - 0.69i \\, {R_{\\nu}}^{2.5} {c_\\kappa}^{2} - 0.094i \\, {R_{\\nu}}^{1.5} {c_\\kappa} - 0.0039i \\, \\sqrt{{R_{\\nu}}}\\right)} {\\Delta_{E\\gamma}} \\sqrt{R_{f}}\\right)} {\\left(-0.62 \\, {\\left({R_{\\nu}}^{3.5} {c_\\kappa}^{3} + 0.88 \\, {R_{\\nu}}^{2.5} {c_\\kappa}^{2} + 0.16 \\, {R_{\\nu}}^{1.5} {c_\\kappa} + 0.0078 \\, \\sqrt{{R_{\\nu}}}\\right)} \\sqrt{C} R_{f}^{1.5} - 0.62 \\, {\\left(1.5i \\, {R_{\\nu}}^{3.5} {c_\\kappa}^{3} + 0.69i \\, {R_{\\nu}}^{2.5} {c_\\kappa}^{2} + 0.094i \\, {R_{\\nu}}^{1.5} {c_\\kappa} + 0.0039i \\, \\sqrt{{R_{\\nu}}}\\right)} {\\Delta_{E\\gamma}} \\sqrt{R_{f}}\\right)} {\\left({R_{\\nu}} {c_\\kappa} + 0.25\\right)}^{2} {\\left({R_{\\nu}} {c_\\kappa} + 0.12\\right)}^{2} {c_\\kappa}}{{\\left({\\Delta_{E\\gamma}} {R_{\\nu}}^{6} {c_\\kappa}^{6} + 1.4 \\, {\\Delta_{E\\gamma}} {R_{\\nu}}^{5} {c_\\kappa}^{5} + 0.81 \\, {\\Delta_{E\\gamma}} {R_{\\nu}}^{4} {c_\\kappa}^{4} + 0.24 \\, {\\Delta_{E\\gamma}} {R_{\\nu}}^{3} {c_\\kappa}^{3} + 0.039 \\, {\\Delta_{E\\gamma}} {R_{\\nu}}^{2} {c_\\kappa}^{2} + 0.0031 \\, {\\Delta_{E\\gamma}} {R_{\\nu}} {c_\\kappa} + 0.000097 \\, {\\Delta_{E\\gamma}}\\right)} {\\left({R_{\\nu}}^{2} {c_\\kappa}^{2} + 0.75 \\, {R_{\\nu}} {c_\\kappa} + 0.062\\right)}^{4} \\sqrt{C} R_{f}^{2}}</script></html>"
      ],
      "text/latex": [
       "$$\\newcommand{\\Bold}[1]{\\mathbf{#1}}\\frac{{\\left({\\left({R_{\\nu}}^{3.5} {c_\\kappa}^{3} + 0.88 \\, {R_{\\nu}}^{2.5} {c_\\kappa}^{2} + 0.16 \\, {R_{\\nu}}^{1.5} {c_\\kappa} + 0.0078 \\, \\sqrt{{R_{\\nu}}}\\right)} \\sqrt{C} R_{f}^{1.5} + {\\left(-1.5i \\, {R_{\\nu}}^{3.5} {c_\\kappa}^{3} - 0.69i \\, {R_{\\nu}}^{2.5} {c_\\kappa}^{2} - 0.094i \\, {R_{\\nu}}^{1.5} {c_\\kappa} - 0.0039i \\, \\sqrt{{R_{\\nu}}}\\right)} {\\Delta_{E\\gamma}} \\sqrt{R_{f}}\\right)} {\\left(-0.62 \\, {\\left({R_{\\nu}}^{3.5} {c_\\kappa}^{3} + 0.88 \\, {R_{\\nu}}^{2.5} {c_\\kappa}^{2} + 0.16 \\, {R_{\\nu}}^{1.5} {c_\\kappa} + 0.0078 \\, \\sqrt{{R_{\\nu}}}\\right)} \\sqrt{C} R_{f}^{1.5} - 0.62 \\, {\\left(1.5i \\, {R_{\\nu}}^{3.5} {c_\\kappa}^{3} + 0.69i \\, {R_{\\nu}}^{2.5} {c_\\kappa}^{2} + 0.094i \\, {R_{\\nu}}^{1.5} {c_\\kappa} + 0.0039i \\, \\sqrt{{R_{\\nu}}}\\right)} {\\Delta_{E\\gamma}} \\sqrt{R_{f}}\\right)} {\\left({R_{\\nu}} {c_\\kappa} + 0.25\\right)}^{2} {\\left({R_{\\nu}} {c_\\kappa} + 0.12\\right)}^{2} {c_\\kappa}}{{\\left({\\Delta_{E\\gamma}} {R_{\\nu}}^{6} {c_\\kappa}^{6} + 1.4 \\, {\\Delta_{E\\gamma}} {R_{\\nu}}^{5} {c_\\kappa}^{5} + 0.81 \\, {\\Delta_{E\\gamma}} {R_{\\nu}}^{4} {c_\\kappa}^{4} + 0.24 \\, {\\Delta_{E\\gamma}} {R_{\\nu}}^{3} {c_\\kappa}^{3} + 0.039 \\, {\\Delta_{E\\gamma}} {R_{\\nu}}^{2} {c_\\kappa}^{2} + 0.0031 \\, {\\Delta_{E\\gamma}} {R_{\\nu}} {c_\\kappa} + 0.000097 \\, {\\Delta_{E\\gamma}}\\right)} {\\left({R_{\\nu}}^{2} {c_\\kappa}^{2} + 0.75 \\, {R_{\\nu}} {c_\\kappa} + 0.062\\right)}^{4} \\sqrt{C} R_{f}^{2}}$$"
      ],
      "text/plain": [
       "((R_v^3.5*c_k^3 + 0.88*R_v^2.5*c_k^2 + 0.16*R_v^1.5*c_k + 0.0078*sqrt(R_v))*sqrt(C)*R_f^1.5 + (-1.5*I*R_v^3.5*c_k^3 - 0.69*I*R_v^2.5*c_k^2 - 0.094*I*R_v^1.5*c_k - 0.0039*I*sqrt(R_v))*DEg*sqrt(R_f))*(-0.62*(R_v^3.5*c_k^3 + 0.88*R_v^2.5*c_k^2 + 0.16*R_v^1.5*c_k + 0.0078*sqrt(R_v))*sqrt(C)*R_f^1.5 - 0.62*(1.5*I*R_v^3.5*c_k^3 + 0.69*I*R_v^2.5*c_k^2 + 0.094*I*R_v^1.5*c_k + 0.0039*I*sqrt(R_v))*DEg*sqrt(R_f))*(R_v*c_k + 0.25)^2*(R_v*c_k + 0.12)^2*c_k/((DEg*R_v^6*c_k^6 + 1.4*DEg*R_v^5*c_k^5 + 0.81*DEg*R_v^4*c_k^4 + 0.24*DEg*R_v^3*c_k^3 + 0.039*DEg*R_v^2*c_k^2 + 0.0031*DEg*R_v*c_k + 0.000097*DEg)*(R_v^2*c_k^2 + 0.75*R_v*c_k + 0.062)^4*sqrt(C)*R_f^2)"
      ]
     },
     "metadata": {},
     "output_type": "display_data"
    },
    {
     "name": "stdout",
     "output_type": "stream",
     "text": [
      "coeff:\n"
     ]
    },
    {
     "data": {
      "text/html": [
       "<html><script type=\"math/tex; mode=display\">\\newcommand{\\Bold}[1]{\\mathbf{#1}}\\sqrt{{\\kappa_b}}</script></html>"
      ],
      "text/latex": [
       "$$\\newcommand{\\Bold}[1]{\\mathbf{#1}}\\sqrt{{\\kappa_b}}$$"
      ],
      "text/plain": [
       "sqrt(kappa_b)"
      ]
     },
     "metadata": {},
     "output_type": "display_data"
    }
   ],
   "source": [
    "lindop = 3\n",
    "a = eff_lind_taylor[lindop][0]\n",
    "err = t_g*a*conjugate(a)\n",
    "err = SR(str(MMA_simplify( err,full=False )).replace('Sqrt','sqrt')).simplify()\n",
    "show( symround( err ) )\n",
    "print(f'coeff:')\n",
    "show(eff_lind_coeff[lindop])"
   ]
  },
  {
   "cell_type": "code",
   "execution_count": null,
   "id": "1bb2d9ba",
   "metadata": {},
   "outputs": [],
   "source": [
    "(err).has(C)"
   ]
  },
  {
   "cell_type": "code",
   "execution_count": null,
   "id": "6a5a89fe",
   "metadata": {},
   "outputs": [],
   "source": []
  },
  {
   "cell_type": "code",
   "execution_count": 185,
   "id": "6d6f4063",
   "metadata": {},
   "outputs": [
    {
     "name": "stdout",
     "output_type": "stream",
     "text": [
      "R_f =1 \n",
      "DEg=122183415123789/100000000000000\n",
      "R_v=1.01014311134038/c_k\n"
     ]
    }
   ],
   "source": [
    "print(f'R_f ={rf} \\nDEg={de}\\nR_v={x1}/c_k')"
   ]
  },
  {
   "cell_type": "code",
   "execution_count": null,
   "id": "733b169c",
   "metadata": {},
   "outputs": [],
   "source": []
  }
 ],
 "metadata": {
  "kernelspec": {
   "display_name": "SageMath 9.3",
   "language": "sage",
   "name": "sagemath"
  },
  "language_info": {
   "codemirror_mode": {
    "name": "ipython",
    "version": 3
   },
   "file_extension": ".py",
   "mimetype": "text/x-python",
   "name": "python",
   "nbconvert_exporter": "python",
   "pygments_lexer": "ipython3",
   "version": "3.9.2"
  }
 },
 "nbformat": 4,
 "nbformat_minor": 5
}
