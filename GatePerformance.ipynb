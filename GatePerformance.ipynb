{
 "cells": [
  {
   "cell_type": "code",
   "execution_count": 1,
   "metadata": {},
   "outputs": [
    {
     "name": "stdout",
     "output_type": "stream",
     "text": [
      "Initializing system O-x-O  ...\n",
      "Constructing states and excitations...\n",
      "Constructing ground and first-excited statespace...\n",
      "Constructing gs_hamiltonian ...\n",
      "Constructing e1_hamiltonian ...\n",
      "Constructing interactions V_plus and V_minus ...\n",
      "Constructing NJ_hamiltonian  ...\n",
      "Inverting NJ_hamiltonian  ...\n"
     ]
    },
    {
     "name": "stderr",
     "output_type": "stream",
     "text": [
      "Error in atexit._run_exitfuncs:\n",
      "Traceback (most recent call last):\n",
      "  File \"/usr/lib/python3/dist-packages/IPython/core/history.py\", line 576, in end_session\n",
      "    self.db.execute(\"\"\"UPDATE sessions SET end=?, num_cmds=? WHERE\n",
      "sqlite3.OperationalError: disk I/O error\n"
     ]
    },
    {
     "name": "stdout",
     "output_type": "stream",
     "text": [
      "Constructing eff_hamiltonian and effective lindblad operators ...\n",
      "\n",
      "System  O-x-O  initialized in 33.4 seconds.\n",
      "\n",
      "Preparing Superoperator sub-class\n",
      "Preparing Analytical sub-class\n",
      "\n",
      "Done!\n"
     ]
    }
   ],
   "source": [
    "from NotebookLib import *\n",
    "import GateSimulation\n",
    "GateSimulation  = reload(GateSimulation)\n",
    "sim = GateSimulation.Simulation('O-x-O')"
   ]
  },
  {
   "cell_type": "markdown",
   "metadata": {},
   "source": [
    "# Obtain grid(s) of performance"
   ]
  },
  {
   "cell_type": "code",
   "execution_count": 45,
   "metadata": {},
   "outputs": [],
   "source": [
    "# Global Parameters \n",
    "kSweep = [0.95]   #[0.995]\n",
    "CSweep = [10]     #[20,25,30]\n",
    "SplitSweep = [10] #[3,5,10]\n",
    "\n",
    "# Dimensions of first grid for optimization  --- Give odd numbers\n",
    "DeNum = 5\n",
    "DENum = 5\n",
    "tgNum = 5\n",
    "\n",
    "# Limits of the grid\n",
    "## DE will be multiplied by  np.sqrt(C_val)/gamma_val\n",
    "DE_min = 0.1 \n",
    "DE_max = 2\n",
    "tg_min = 0.9\n",
    "tg_max = 1.1"
   ]
  },
  {
   "cell_type": "markdown",
   "metadata": {},
   "source": [
    "## Using analytical"
   ]
  },
  {
   "cell_type": "code",
   "execution_count": 46,
   "metadata": {},
   "outputs": [
    {
     "name": "stdout",
     "output_type": "stream",
     "text": [
      "Progress: [----------------------------------------------------------->] 100 %\n"
     ]
    }
   ],
   "source": [
    "gamma_val = sim.parameters['gamma']\n",
    "\n",
    "SplitSweep = [spl*gamma_val for spl in SplitSweep] # for gamma_val = 1 it is not necessary\n",
    "\n",
    "AllParams = [(a,b,c) for a in kSweep for b in CSweep for c in SplitSweep] # Create a 3-d grid for hardware parameters\n",
    "\n",
    "TotalParamElems = NumElemsInList(AllParams)\n",
    "CurrentNumberOfSimulations = 1\n",
    "for (k, C_val , max_split) in AllParams:\n",
    "    progressBar(CurrentNumberOfSimulations, TotalParamElems, barLength = 60)\n",
    "    CurrentNumberOfSimulations +=1\n",
    "    \n",
    "    c_val = k/ (4-4*k)\n",
    "    # Optimization Parameters  --- Give odd numbers\n",
    "    # De\n",
    "    DeSweep = np.linspace(0,max_split , num = DeNum)\n",
    "    # DE\n",
    "    \n",
    "    DESweep = np.linspace(0.1 , 2 , num = DENum) * np.sqrt(C_val)/gamma_val\n",
    "    # GateTime\n",
    "    \n",
    "    tgSweep = np.linspace(0.90,1.10 , num = tgNum)\n",
    "\n",
    "    ParamsSweep = [DeSweep ,DESweep,tgSweep ]\n",
    "    ResultsShape = tuple([np.shape(param)[0] for param in ParamsSweep])\n",
    "\n",
    "    Psucc = np.zeros(ResultsShape)\n",
    "    Fidelity =  np.zeros(ResultsShape)\n",
    "    GateTime =  np.zeros(ResultsShape)\n",
    "\n",
    "    \n",
    "    sim.Analytical.obtain_gate_performance_hardware(C_val,c_val,max_split)\n",
    "\n",
    "\n",
    "    def simulation_process(De_val,DE_val,tg_ratio ):\n",
    "        \n",
    "        \n",
    "        ii = np.where( DeSweep == De_val)[0][0]\n",
    "        jj = np.where( DESweep == DE_val)[0][0]\n",
    "        kk = np.where( tgSweep == tg_ratio)[0][0]\n",
    "        index = (ii , jj , kk)\n",
    "\n",
    "        gate_time = sg.real( sim.Analytical.gate_time_hw.subs( De=De_val,  DE=DE_val,tgr = tg_ratio ) )\n",
    "        p_success = sg.real(sim.Analytical.p_success_hw.subs( De=De_val, DE=DE_val, tgr = tg_ratio,tgs=gate_time))\n",
    "        try:    \n",
    "            fidelity = sg.real(sim.Analytical.fidelity_hw.subs( De=De_val,  DE=DE_val, c=c_val,tgr = tg_ratio,tgs=gate_time,pss=p_success ))\n",
    "        except ValueError:\n",
    "            fidelity = 0\n",
    "        \n",
    "        return gate_time , p_success , fidelity , index\n",
    "\n",
    "    pool = mp.Pool()\n",
    "    all_sweeps = product(DeSweep,DESweep,tgSweep)\n",
    "    for (tg, ps,fid, index) in pool.starmap(simulation_process,all_sweeps):\n",
    "        GateTime[index] = tg\n",
    "        Psucc[index] = ps\n",
    "        Fidelity[index] = fid\n",
    "   \n",
    " \n",
    "    Directory = f'OptimizationResults/Analytical/ResC{C_val}_k{k}_Spl{max_split}_e{DeNum}_E{DENum}_t{tgNum}'\n",
    "    if not os.path.exists(Directory):\n",
    "        os.makedirs(Directory)\n",
    "    np.save(Directory+f'/Fidelity',Fidelity)\n",
    "    np.save(Directory+f'/GateTime',GateTime)\n",
    "    np.save(Directory+f'/Psucc',Psucc)\n"
   ]
  },
  {
   "cell_type": "markdown",
   "metadata": {},
   "source": [
    "## Using superoperator simulations"
   ]
  },
  {
   "cell_type": "code",
   "execution_count": 47,
   "metadata": {},
   "outputs": [],
   "source": [
    "gamma_val = sim.parameters['gamma']\n",
    "\n",
    "SplitSweep = [spl*gamma_val for spl in SplitSweep] # for gamma_val = 1 it is not necessary\n",
    "\n",
    "AllParams = [(a,b,c) for a in kSweep for b in CSweep for c in SplitSweep] # Create a 3-d grid for hardware parameters\n",
    "\n",
    "TotalParamElems = NumElemsInList(AllParams)\n",
    "CurrentNumberOfSimulations = 0\n",
    "for (k, C_val , max_split) in AllParams:\n",
    "    #progressBar(CurrentNumberOfSimulations, TotalParamElems, barLength = 60)\n",
    "    CurrentNumberOfSimulations +=1\n",
    "    \n",
    "    c_val = k/ (4-4*k)\n",
    "    # Optimization Parameters  --- Give odd numbers\n",
    "    # De\n",
    "    DeSweep = np.linspace(0,max_split , num = DeNum)\n",
    "    # DE\n",
    "    \n",
    "    DESweep = np.linspace(0.1 , 2 , num = DENum) * np.sqrt(C_val)/gamma_val\n",
    "    # GateTime\n",
    "    \n",
    "    tgSweep = np.linspace(0.90,1.10 , num = tgNum)\n",
    "\n",
    "    ParamsSweep = [DeSweep ,DESweep,tgSweep ]\n",
    "    ResultsShape = tuple([np.shape(param)[0] for param in ParamsSweep])\n",
    "\n",
    "    Psucc = np.zeros(ResultsShape)\n",
    "    Fidelity =  np.zeros(ResultsShape)\n",
    "    GateTime =  np.zeros(ResultsShape)\n",
    "\n",
    "\n",
    "    def simulation_process(De_val,DE_val,tg_ratio ):\n",
    "        \n",
    "        \n",
    "        ii = np.where( DeSweep == De_val)[0][0]\n",
    "        jj = np.where( DESweep == DE_val)[0][0]\n",
    "        kk = np.where( tgSweep == tg_ratio)[0][0]\n",
    "        index = (ii , jj , kk)\n",
    "\n",
    "        super_dict = {'C' : C_val ,'c': c_val,\\\n",
    "                'De': De_val ,'De0': De_val - max_split, \\\n",
    "                'DE': DE_val ,'tgr': tg_ratio}\n",
    "        performance = sim.Superoperator.Simulate(super_dict , realistic = True)\n",
    "        gate_time = performance['gate_time']\n",
    "        p_success = performance['p_success']\n",
    "        fidelity = performance['fidelity']\n",
    "\n",
    "        return gate_time , p_success , fidelity , index\n",
    "\n",
    "    pool = mp.Pool(1)\n",
    "    all_sweeps = product(DeSweep,DESweep,tgSweep)\n",
    "    count_tot = DeNum * DENum * tgNum\n",
    "    count = 0 \n",
    "    for (tg, ps,fid, index) in pool.starmap(simulation_process,all_sweeps):\n",
    "        GateTime[index] = tg\n",
    "        Psucc[index] = ps\n",
    "        Fidelity[index] = fid\n",
    "        \n",
    "        \n",
    "   \n",
    " \n",
    "    Directory = f'OptimizationResults/Superoperator/ResC{C_val}_k{k}_Spl{max_split}_e{DeNum}_E{DENum}_t{tgNum}'\n",
    "    if not os.path.exists(Directory):\n",
    "        os.makedirs(Directory)\n",
    "    np.save(Directory+f'/Fidelity',Fidelity)\n",
    "    np.save(Directory+f'/GateTime',GateTime)\n",
    "    np.save(Directory+f'/Psucc',Psucc)\n"
   ]
  },
  {
   "cell_type": "markdown",
   "metadata": {},
   "source": [
    "# Plot result"
   ]
  },
  {
   "cell_type": "code",
   "execution_count": 48,
   "metadata": {},
   "outputs": [
    {
     "name": "stderr",
     "output_type": "stream",
     "text": [
      "<>:31: DeprecationWarning: invalid escape sequence \\%\n",
      "<>:32: DeprecationWarning: invalid escape sequence \\%\n",
      "<>:45: DeprecationWarning: invalid escape sequence \\L\n",
      "<>:45: DeprecationWarning: invalid escape sequence \\D\n",
      "<>:31: DeprecationWarning: invalid escape sequence \\%\n",
      "<>:32: DeprecationWarning: invalid escape sequence \\%\n",
      "<>:45: DeprecationWarning: invalid escape sequence \\L\n",
      "<>:45: DeprecationWarning: invalid escape sequence \\D\n",
      "<ipython-input-48-9dde25483041>:31: DeprecationWarning: invalid escape sequence \\%\n",
      "  AllLabels[i][j] += '$F='+ str(np.round(FidelityData[argm]*100,decimals=2))+'\\%$\\n'\n",
      "<ipython-input-48-9dde25483041>:32: DeprecationWarning: invalid escape sequence \\%\n",
      "  AllLabels[i][j] += '$P_{succ}='+ str(np.round(PsuccData[argm]*100,decimals=2))+'\\%$\\n'\n",
      "<ipython-input-48-9dde25483041>:45: DeprecationWarning: invalid escape sequence \\L\n",
      "  ax.set_title(f'Gate Performance vs Cooperativity & Detuning Split \\nfor $k={kPlot} \\Leftrightarrow c = {np.round(cPlot,decimals=1)}$\\n $(\\Delta_e,\\Delta_E,t_g)$')\n",
      "<ipython-input-48-9dde25483041>:45: DeprecationWarning: invalid escape sequence \\D\n",
      "  ax.set_title(f'Gate Performance vs Cooperativity & Detuning Split \\nfor $k={kPlot} \\Leftrightarrow c = {np.round(cPlot,decimals=1)}$\\n $(\\Delta_e,\\Delta_E,t_g)$')\n"
     ]
    },
    {
     "data": {
      "image/png": "[encoded data removed]",
      "text/plain": [
       "<Figure size 1080x720 with 2 Axes>"
      ]
     },
     "metadata": {
      "needs_background": "light"
     },
     "output_type": "display_data"
    }
   ],
   "source": [
    "Analytical = False\n",
    "kPlot = kSweep[0]\n",
    "cPlot = kPlot / (4-4*kPlot)\n",
    "'''\n",
    "CSweep = [25,50,100]\n",
    "\n",
    "SplitSweep = [3,5,10]\n",
    "\n",
    "DeNum = 11\n",
    "DENum = 11\n",
    "tgNum = 11'''\n",
    "\n",
    "\n",
    "if Analytical:\n",
    "    subdir = 'Analytical'\n",
    "else:\n",
    "    subdir = 'Superoperator'\n",
    "AllLabels = [[\"\" for i in range(len(SplitSweep))]for j in range(len(CSweep))]\n",
    "FidelityPlot = np.zeros(np.array(AllLabels).shape)\n",
    "for (i,c) in enumerate(CSweep):\n",
    "    for (j,spl) in enumerate(SplitSweep):\n",
    "        DataDirectory = f'OptimizationResults/{subdir}/ResC{c}_k{kPlot}_Spl{spl}_e{DeNum}_E{DENum}_t{tgNum}/'\n",
    "        GateTimeData = np.load(DataDirectory+\"GateTime.npy\")\n",
    "        FidelityData = np.load(DataDirectory+\"Fidelity.npy\")\n",
    "        PsuccData = np.load(DataDirectory+\"Psucc.npy\")\n",
    "\n",
    "\n",
    "        argm = ArgMin( GateSimulation.gate_performance_cost_function(FidelityData,PsuccData,GateTimeData) ) \n",
    "        FidelityPlot[i][j] = FidelityData[argm]\n",
    "\n",
    "        AllLabels[i][j] += '$F='+ str(np.round(FidelityData[argm]*100,decimals=2))+'\\%$\\n'\n",
    "        AllLabels[i][j] += '$P_{succ}='+ str(np.round(PsuccData[argm]*100,decimals=2))+'\\%$\\n'\n",
    "        AllLabels[i][j] += '$t_g='+ str(int(GateTimeData[argm]))+r' \\,\\frac{1}{\\gamma}$'\n",
    "        AllLabels[i][j] += f'\\n Max at {argm}'\n",
    "        \n",
    "\n",
    "\n",
    "fig, ax = plt.subplots()\n",
    "\n",
    "\n",
    "ax = sns.heatmap(FidelityPlot*100,yticklabels=CSweep,xticklabels=SplitSweep,cmap='gray', linewidth=0.5,annot=AllLabels, fmt = ''\\\n",
    "    ,cbar_kws={'label': 'Gate Fidelity (%)'}, annot_kws={\"size\": 14}) #Greys\n",
    "ax.set_ylabel('Cooperativity')\n",
    "ax.set_xlabel(r'Max Detuning Split $(\\gamma)$')\n",
    "ax.set_title(f'Gate Performance vs Cooperativity & Detuning Split \\nfor $k={kPlot} \\Leftrightarrow c = {np.round(cPlot,decimals=1)}$\\n $(\\Delta_e,\\Delta_E,t_g)$')\n",
    "plt.show() \n",
    "figure = ax.get_figure()\n",
    "figure.savefig(f'plots/OptimizedHeatmap.svg',transparent=False)"
   ]
  },
  {
   "cell_type": "code",
   "execution_count": 49,
   "metadata": {},
   "outputs": [],
   "source": [
    "init_params = [DeSweep[argm[0]],DESweep[argm[1]],tgSweep[argm[2]]]\n"
   ]
  },
  {
   "cell_type": "code",
   "execution_count": 50,
   "metadata": {},
   "outputs": [
    {
     "name": "stdout",
     "output_type": "stream",
     "text": [
      "{'fidelity': 0.9500000014825066, 'p_success': 0.006407602673364953, 'gate_time': 63.26472990165107, 'tgr': 0.8544707039649844, 'De': 0.0003359685864994745, 'DE': 2.002095998067219}\n"
     ]
    }
   ],
   "source": [
    "sim.Analytical.optimize_gate_performance_hardware(init_params)\n",
    "print(sim.Analytical.optimized_dict)"
   ]
  },
  {
   "cell_type": "code",
   "execution_count": 51,
   "metadata": {},
   "outputs": [
    {
     "data": {
      "text/plain": [
       "{'C': 10, 'c': 4.749999999999996, 'max_split': 10}"
      ]
     },
     "execution_count": 51,
     "metadata": {},
     "output_type": "execute_result"
    }
   ],
   "source": [
    "sim.Analytical.hardware_dict"
   ]
  },
  {
   "cell_type": "code",
   "execution_count": 52,
   "metadata": {},
   "outputs": [
    {
     "data": {
      "text/plain": [
       "{'fidelity': 0.9397938059482535,\n",
       " 'p_success': 0.007463847623001284,\n",
       " 'gate_time': 63.26472990165101}"
      ]
     },
     "execution_count": 52,
     "metadata": {},
     "output_type": "execute_result"
    }
   ],
   "source": [
    "super = sim.Superoperator\n",
    "\n",
    "super_variables = ['C','c','De','De0','DE','tgr']\n",
    "\n",
    "super_dict = dict()\n",
    "super_dict['De0'] =   sim.Analytical.optimized_dict['De'] - sim.Analytical.hardware_dict['max_split']\n",
    "for param in super_variables:\n",
    "    if param in sim.Analytical.hardware_dict:\n",
    "        exec(f\"super_dict['{param}'] = sim.Analytical.hardware_dict['{param}'] \")\n",
    "    elif param in sim.Analytical.optimized_dict:\n",
    "        exec(f\"super_dict['{param}'] = sim.Analytical.optimized_dict['{param}'] \")\n",
    "\n",
    "#super.realistic_parameters['gamma_g'] = 0.01\n",
    "#super.realistic_parameters['gamma_f'] = 0.99\n",
    "super.Simulate(super_dict,realistic = True)"
   ]
  },
  {
   "cell_type": "code",
   "execution_count": 53,
   "metadata": {},
   "outputs": [
    {
     "data": {
      "text/plain": [
       "{'fidelity': 0.9397938059482535,\n",
       " 'p_success': 0.007463847623001284,\n",
       " 'gate_time': 63.26472990165101}"
      ]
     },
     "execution_count": 53,
     "metadata": {},
     "output_type": "execute_result"
    }
   ],
   "source": [
    "super = sim.Superoperator\n",
    "super.performance\n"
   ]
  },
  {
   "cell_type": "code",
   "execution_count": 54,
   "metadata": {},
   "outputs": [
    {
     "data": {
      "text/plain": [
       "{'fidelity': 0.9397938059482535,\n",
       " 'p_success': 0.007463847623001284,\n",
       " 'gate_time': 63.26472990165101}"
      ]
     },
     "execution_count": 54,
     "metadata": {},
     "output_type": "execute_result"
    }
   ],
   "source": [
    "super.performance"
   ]
  },
  {
   "cell_type": "code",
   "execution_count": 55,
   "metadata": {},
   "outputs": [
    {
     "name": "stdout",
     "output_type": "stream",
     "text": [
      "Cost function value: 0.0465828450969674 , fidelity=0.9558574444344584 , p_success=0.003417154903032645\n",
      "Cost function value: 0.046581601217978094 , fidelity=0.9558662999839805 , p_success=0.003418398782021949\n",
      "Cost function value: 0.045504385841845935 , fidelity=0.9534596902418987 , p_success=0.00449561415815411\n",
      "Cost function value: 0.04741651090146593 , fidelity=0.9579326381058009 , p_success=0.0025834890985341153\n",
      "Cost function value: 0.0517159178825457 , fidelity=0.9482840821174543 , p_success=0.005392257703709369\n",
      "Cost function value: 0.04688051781283012 , fidelity=0.957557675798011 , p_success=0.003119482187169928\n",
      "step = 1, (De,DE,tgr) = [0.         1.90922514 0.9       ] \n",
      "Cost function value: 0.04549320543196984 , fidelity=0.9526847156467844 , p_success=0.0045067945680302085\n",
      "Cost function value: 0.05171591258062058 , fidelity=0.9482840874193794 , p_success=0.005392257703709595\n",
      "step = 2, (De,DE,tgr) = [1.2500000e-04 1.8637674e+00 8.7750000e-01] \n",
      "Cost function value: 0.04508734173476532 , fidelity=0.9517502862933778 , p_success=0.004912658265234723\n",
      "Cost function value: 0.052371855600344075 , fidelity=0.9476281443996559 , p_success=0.005811500138050475\n",
      "step = 3, (De,DE,tgr) = [2.50000000e-04 1.90922514e+00 8.85000000e-01] \n",
      "Cost function value: 0.053941601105316206 , fidelity=0.9460583988946838 , p_success=0.006130818671655354\n",
      "Cost function value: 0.04600737782769761 , fidelity=0.9549919704084321 , p_success=0.00399262217230244\n",
      "step = 4, (De,DE,tgr) = [2.50000000e-04 1.90922514e+00 8.85000000e-01] \n",
      "Cost function value: 0.050182182903443895 , fidelity=0.9498178170965561 , p_success=0.005347642497691907\n",
      "Cost function value: 0.045694762309365644 , fidelity=0.9540686746052793 , p_success=0.004305237690634404\n",
      "step = 5, (De,DE,tgr) = [2.50000000e-04 1.90922514e+00 8.85000000e-01] \n",
      "Cost function value: 0.04501740083391253 , fidelity=0.9514480137894121 , p_success=0.004982599166087513\n",
      "Cost function value: 0.05018218670356789 , fidelity=0.9498178132964321 , p_success=0.00534764249769193\n",
      "step = 6, (De,DE,tgr) = [9.37500000e-05 1.91301328e+00 8.84375000e-01] \n",
      "Cost function value: 0.050024824024411885 , fidelity=0.9499751759755881 , p_success=0.00512810840333383\n",
      "Cost function value: 0.045356116438780784 , fidelity=0.9528981524755531 , p_success=0.00464388356121926\n",
      "step = 7, (De,DE,tgr) = [9.37500000e-05 1.91301328e+00 8.84375000e-01] \n",
      "Cost function value: 0.04480991068973228 , fidelity=0.9500976811366649 , p_success=0.005190089310267768\n",
      "Cost function value: 0.05290962564641155 , fidelity=0.9470903743535884 , p_success=0.005540244774752014\n",
      "step = 8, (De,DE,tgr) = [1.56250000e-04 1.95257835e+00 8.96180556e-01] \n",
      "Cost function value: 0.050695965520479835 , fidelity=0.9493040344795202 , p_success=0.005433210048881129\n",
      "Cost function value: 0.04516644533513913 , fidelity=0.9520987454237689 , p_success=0.004833554664860914\n",
      "step = 9, (De,DE,tgr) = [1.56250000e-04 1.95257835e+00 8.96180556e-01] \n",
      "Warning: Maximum number of iterations has been exceeded.\n"
     ]
    }
   ],
   "source": [
    "super.optimize_gate_performance_hardware(init_params , sim.Analytical.hardware_dict , max_iter = 10)"
   ]
  },
  {
   "cell_type": "code",
   "execution_count": 56,
   "metadata": {},
   "outputs": [
    {
     "data": {
      "text/plain": [
       "{'fidelity': 0.9500976811366649,\n",
       " 'p_success': 0.005190089310267768,\n",
       " 'gate_time': 66.39746052729153}"
      ]
     },
     "execution_count": 56,
     "metadata": {},
     "output_type": "execute_result"
    }
   ],
   "source": [
    "super.performance"
   ]
  },
  {
   "cell_type": "code",
   "execution_count": 57,
   "metadata": {},
   "outputs": [
    {
     "data": {
      "text/plain": [
       "{'fidelity': 0.9500976811366649,\n",
       " 'p_success': 0.005190089310267768,\n",
       " 'gate_time': 66.39746052729153,\n",
       " 'tgr': 0.8961805555555553,\n",
       " 'De': 0.00015624999999999998,\n",
       " 'DE': 1.9525783536283885}"
      ]
     },
     "execution_count": 57,
     "metadata": {},
     "output_type": "execute_result"
    }
   ],
   "source": [
    "super.optimized_dict"
   ]
  },
  {
   "cell_type": "code",
   "execution_count": 58,
   "metadata": {},
   "outputs": [
    {
     "data": {
      "text/plain": [
       "{'fidelity': 0.9492007096082482,\n",
       " 'p_success': 2.0017765249499614e-05,\n",
       " 'gate_time': 135.19739036377158,\n",
       " 'tgr': 0.9310493827160492,\n",
       " 'De': -0.0001691815272062186,\n",
       " 'DE': 1.987627789557331}"
      ]
     },
     "execution_count": 58,
     "metadata": {},
     "output_type": "execute_result"
    }
   ],
   "source": [
    "{'fidelity': 0.9492007096082482,\n",
    " 'p_success': 2.0017765249499614e-05,\n",
    " 'gate_time': 135.19739036377158,\n",
    " 'tgr': 0.9310493827160492,\n",
    " 'De': -0.0001691815272062186,\n",
    " 'DE': 1.987627789557331}"
   ]
  }
 ],
 "metadata": {
  "interpreter": {
   "hash": "31f2aee4e71d21fbe5cf8b01ff0e069b9275f58929596ceb00d14d90e3e16cd6"
  },
  "kernelspec": {
   "display_name": "SageMath 9.0",
   "language": "python",
   "name": "python3"
  },
  "language_info": {
   "codemirror_mode": {
    "name": "ipython",
    "version": 3
   },
   "file_extension": ".py",
   "mimetype": "text/x-python",
   "name": "python",
   "nbconvert_exporter": "python",
   "pygments_lexer": "ipython3",
   "version": "3.8.10"
  },
  "orig_nbformat": 4
 },
 "nbformat": 4,
 "nbformat_minor": 2
}
