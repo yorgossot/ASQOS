{
 "cells": [
  {
   "cell_type": "code",
   "execution_count": 1,
   "id": "a43f3bbd",
   "metadata": {
    "scrolled": false
   },
   "outputs": [
    {
     "name": "stdout",
     "output_type": "stream",
     "text": [
      "Initializing system O-x-O  ...\n",
      "Constructing states and excitations...\n",
      "Constructing ground and first-excited statespace...\n",
      "Constructing gs_hamiltonian ...\n",
      "Constructing e1_hamiltonian ...\n",
      "Constructing interactions V_plus and V_minus ...\n",
      "Constructing NJ_hamiltonian  ...\n",
      "Inverting NJ_hamiltonian  ...\n",
      "Constructing eff_hamiltonian and effective lindblau operators ...\n",
      "\n",
      "System  O-x-O  initialized in 32.2 seconds.\n"
     ]
    }
   ],
   "source": [
    "from system import *\n",
    "s1 = system('O-x-O',MMA=True,ManyVariables=False,TwoPhotonResonance= True)"
   ]
  },
  {
   "cell_type": "markdown",
   "id": "20c87d69",
   "metadata": {},
   "source": [
    "# Effective Hamiltonian as Real part\n",
    "\n",
    "Will output $Q_n$ from expression:\n",
    "\n",
    "$$\\Delta_n = - \\dfrac{\\Omega^2}{\\gamma} \\text{Re}\\{Q_n \\} $$"
   ]
  },
  {
   "cell_type": "code",
   "execution_count": 24,
   "id": "6398d4bb",
   "metadata": {
    "scrolled": true
   },
   "outputs": [
    {
     "data": {
      "text/html": [
       "<html><script type=\"math/tex; mode=display\">\\newcommand{\\Bold}[1]{\\mathbf{#1}}\\frac{-0.12i \\, C^{2} {R_0}^{2} + {\\left(i \\, C {R_0} {r_0} + {\\left(2 \\, C {R_0} - 1.5 \\, {r_0} + 1.5\\right)} {\\tilde{\\Delta }_{e0}} + 1.5i \\, {\\tilde{\\Delta }_{e0}}^{2} - i \\, C {R_0} - 0.38i \\, {r_0}^{2} + 0.75i \\, {r_0} - 0.38i\\right)} {c}^{2} + 0.062i \\, C {R_0} {r_0} + {\\left(0.12 \\, C {R_0} - 0.031 \\, {r_0} + 0.031\\right)} {\\tilde{\\Delta }_{e0}} + 0.031i \\, {\\tilde{\\Delta }_{e0}}^{2} - 0.062i \\, C {R_0} + {\\left(-i \\, C^{2} {R_0}^{2} + 0.75i \\, C {R_0} {r_0} + {\\left(1.5 \\, C {R_0} - 0.50 \\, {r_0} + 0.50\\right)} {\\tilde{\\Delta }_{e0}} + 0.50i \\, {\\tilde{\\Delta }_{e0}}^{2} - 0.75i \\, C {R_0} - 0.12i \\, {r_0}^{2} + 0.25i \\, {r_0} - 0.12i\\right)} {c} - 0.0078i \\, {r_0}^{2} + 0.016i \\, {r_0} - 0.0078i}{{\\left(-0.25 \\, C^{2} {R_0}^{2} + {\\left({\\tilde{\\Delta }_{e0}}^{2} - 0.25 \\, {\\left({r_0} - 1\\right)}^{2} + {\\tilde{\\Delta }_{e0}} {\\left(i \\, {r_0} - i\\right)}\\right)} {c}^{2} + 0.12 \\, C {R_0} {r_0} + {\\left(-0.25i \\, C {R_0} + 0.062i \\, {r_0} - 0.062i\\right)} {\\tilde{\\Delta }_{e0}} + 0.062 \\, {\\tilde{\\Delta }_{e0}}^{2} - 0.12 \\, C {R_0} + {\\left(0.50 \\, C {R_0} {r_0} + {\\left(-i \\, C {R_0} + 0.50i \\, {r_0} - 0.50i\\right)} {\\tilde{\\Delta }_{e0}} + 0.50 \\, {\\tilde{\\Delta }_{e0}}^{2} - 0.50 \\, C {R_0} - 0.12 \\, {r_0}^{2} + 0.25 \\, {r_0} - 0.12\\right)} {c} - 0.016 \\, {r_0}^{2} + 0.031 \\, {r_0} - 0.016\\right)} C R_{f} + {\\left(-0.12i \\, C^{2} {R_0}^{2} + {\\left(i \\, C {R_0} {r_0} + {\\left(2 \\, C {R_0} - 1.5 \\, {r_0} + 1.5\\right)} {\\tilde{\\Delta }_{e0}} + 1.5i \\, {\\tilde{\\Delta }_{e0}}^{2} - i \\, C {R_0} - 0.38i \\, {r_0}^{2} + 0.75i \\, {r_0} - 0.38i\\right)} {c}^{2} + 0.062i \\, C {R_0} {r_0} + {\\left(0.12 \\, C {R_0} - 0.031 \\, {r_0} + 0.031\\right)} {\\tilde{\\Delta }_{e0}} + 0.031i \\, {\\tilde{\\Delta }_{e0}}^{2} - 0.062i \\, C {R_0} + {\\left(-i \\, C^{2} {R_0}^{2} + 0.75i \\, C {R_0} {r_0} + {\\left(1.5 \\, C {R_0} - 0.50 \\, {r_0} + 0.50\\right)} {\\tilde{\\Delta }_{e0}} + 0.50i \\, {\\tilde{\\Delta }_{e0}}^{2} - 0.75i \\, C {R_0} - 0.12i \\, {r_0}^{2} + 0.25i \\, {r_0} - 0.12i\\right)} {c} - 0.0078i \\, {r_0}^{2} + 0.016i \\, {r_0} - 0.0078i\\right)} {\\tilde{\\Delta }_E}}</script></html>"
      ],
      "text/latex": [
       "$$\\newcommand{\\Bold}[1]{\\mathbf{#1}}\\frac{-0.12i \\, C^{2} {R_0}^{2} + {\\left(i \\, C {R_0} {r_0} + {\\left(2 \\, C {R_0} - 1.5 \\, {r_0} + 1.5\\right)} {\\tilde{\\Delta }_{e0}} + 1.5i \\, {\\tilde{\\Delta }_{e0}}^{2} - i \\, C {R_0} - 0.38i \\, {r_0}^{2} + 0.75i \\, {r_0} - 0.38i\\right)} {c}^{2} + 0.062i \\, C {R_0} {r_0} + {\\left(0.12 \\, C {R_0} - 0.031 \\, {r_0} + 0.031\\right)} {\\tilde{\\Delta }_{e0}} + 0.031i \\, {\\tilde{\\Delta }_{e0}}^{2} - 0.062i \\, C {R_0} + {\\left(-i \\, C^{2} {R_0}^{2} + 0.75i \\, C {R_0} {r_0} + {\\left(1.5 \\, C {R_0} - 0.50 \\, {r_0} + 0.50\\right)} {\\tilde{\\Delta }_{e0}} + 0.50i \\, {\\tilde{\\Delta }_{e0}}^{2} - 0.75i \\, C {R_0} - 0.12i \\, {r_0}^{2} + 0.25i \\, {r_0} - 0.12i\\right)} {c} - 0.0078i \\, {r_0}^{2} + 0.016i \\, {r_0} - 0.0078i}{{\\left(-0.25 \\, C^{2} {R_0}^{2} + {\\left({\\tilde{\\Delta }_{e0}}^{2} - 0.25 \\, {\\left({r_0} - 1\\right)}^{2} + {\\tilde{\\Delta }_{e0}} {\\left(i \\, {r_0} - i\\right)}\\right)} {c}^{2} + 0.12 \\, C {R_0} {r_0} + {\\left(-0.25i \\, C {R_0} + 0.062i \\, {r_0} - 0.062i\\right)} {\\tilde{\\Delta }_{e0}} + 0.062 \\, {\\tilde{\\Delta }_{e0}}^{2} - 0.12 \\, C {R_0} + {\\left(0.50 \\, C {R_0} {r_0} + {\\left(-i \\, C {R_0} + 0.50i \\, {r_0} - 0.50i\\right)} {\\tilde{\\Delta }_{e0}} + 0.50 \\, {\\tilde{\\Delta }_{e0}}^{2} - 0.50 \\, C {R_0} - 0.12 \\, {r_0}^{2} + 0.25 \\, {r_0} - 0.12\\right)} {c} - 0.016 \\, {r_0}^{2} + 0.031 \\, {r_0} - 0.016\\right)} C R_{f} + {\\left(-0.12i \\, C^{2} {R_0}^{2} + {\\left(i \\, C {R_0} {r_0} + {\\left(2 \\, C {R_0} - 1.5 \\, {r_0} + 1.5\\right)} {\\tilde{\\Delta }_{e0}} + 1.5i \\, {\\tilde{\\Delta }_{e0}}^{2} - i \\, C {R_0} - 0.38i \\, {r_0}^{2} + 0.75i \\, {r_0} - 0.38i\\right)} {c}^{2} + 0.062i \\, C {R_0} {r_0} + {\\left(0.12 \\, C {R_0} - 0.031 \\, {r_0} + 0.031\\right)} {\\tilde{\\Delta }_{e0}} + 0.031i \\, {\\tilde{\\Delta }_{e0}}^{2} - 0.062i \\, C {R_0} + {\\left(-i \\, C^{2} {R_0}^{2} + 0.75i \\, C {R_0} {r_0} + {\\left(1.5 \\, C {R_0} - 0.50 \\, {r_0} + 0.50\\right)} {\\tilde{\\Delta }_{e0}} + 0.50i \\, {\\tilde{\\Delta }_{e0}}^{2} - 0.75i \\, C {R_0} - 0.12i \\, {r_0}^{2} + 0.25i \\, {r_0} - 0.12i\\right)} {c} - 0.0078i \\, {r_0}^{2} + 0.016i \\, {r_0} - 0.0078i\\right)} {\\tilde{\\Delta }_E}}$$"
      ],
      "text/plain": [
       "(-0.12*I*C^2*R0^2 + (I*C*R0*r0 + (2*C*R0 - 1.5*r0 + 1.5)*De0t + 1.5*I*De0t^2 - I*C*R0 - 0.38*I*r0^2 + 0.75*I*r0 - 0.38*I)*c^2 + 0.062*I*C*R0*r0 + (0.12*C*R0 - 0.031*r0 + 0.031)*De0t + 0.031*I*De0t^2 - 0.062*I*C*R0 + (-I*C^2*R0^2 + 0.75*I*C*R0*r0 + (1.5*C*R0 - 0.50*r0 + 0.50)*De0t + 0.50*I*De0t^2 - 0.75*I*C*R0 - 0.12*I*r0^2 + 0.25*I*r0 - 0.12*I)*c - 0.0078*I*r0^2 + 0.016*I*r0 - 0.0078*I)/((-0.25*C^2*R0^2 + (De0t^2 - 0.25*(r0 - 1)^2 + De0t*(I*r0 - I))*c^2 + 0.12*C*R0*r0 + (-0.25*I*C*R0 + 0.062*I*r0 - 0.062*I)*De0t + 0.062*De0t^2 - 0.12*C*R0 + (0.50*C*R0*r0 + (-I*C*R0 + 0.50*I*r0 - 0.50*I)*De0t + 0.50*De0t^2 - 0.50*C*R0 - 0.12*r0^2 + 0.25*r0 - 0.12)*c - 0.016*r0^2 + 0.031*r0 - 0.016)*C*R_f + (-0.12*I*C^2*R0^2 + (I*C*R0*r0 + (2*C*R0 - 1.5*r0 + 1.5)*De0t + 1.5*I*De0t^2 - I*C*R0 - 0.38*I*r0^2 + 0.75*I*r0 - 0.38*I)*c^2 + 0.062*I*C*R0*r0 + (0.12*C*R0 - 0.031*r0 + 0.031)*De0t + 0.031*I*De0t^2 - 0.062*I*C*R0 + (-I*C^2*R0^2 + 0.75*I*C*R0*r0 + (1.5*C*R0 - 0.50*r0 + 0.50)*De0t + 0.50*I*De0t^2 - 0.75*I*C*R0 - 0.12*I*r0^2 + 0.25*I*r0 - 0.12*I)*c - 0.0078*I*r0^2 + 0.016*I*r0 - 0.0078*I)*DEt)"
      ]
     },
     "metadata": {},
     "output_type": "display_data"
    }
   ],
   "source": [
    "diag = 0  #input n corresponding to diag element\n",
    "\n",
    "var('gamma','DE','De','g','g_f','Omega','v','gamma_f','gamma_g','gamma0','De0','g0',domain='positive')\n",
    "var('DEt',domain='positive',  latex_name =r'\\tilde{\\Delta }_E')\n",
    "var('Det',domain='positive',  latex_name =r'\\tilde{\\Delta }_e')\n",
    "var('De0t',domain='positive',  latex_name =r'\\tilde{\\Delta }_{e0}')\n",
    "var('dct',domain='positive',  latex_name =r'\\tilde{\\delta }_c')\n",
    "var('DEg',domain='positive',  latex_name =r'\\Delta_{E\\gamma}')\n",
    "var('Deg',domain='positive',  latex_name =r'\\Delta_{e\\gamma}')\n",
    "var('kappa_c','kappa_b',domain='positive')\n",
    "var('C',domain='positive')\n",
    "var('c',domain='positive',  latex_name =r'c')\n",
    "\n",
    "#(gamma_f=gamma)#gamma_g=0,\n",
    "\n",
    "#Take only one of the compl conj terms. Switch maybe second 0 to 1\n",
    "min_expr_len = 10**10\n",
    "for term in range(2):\n",
    "    b = s1.eff_hamiltonian_gs[diag,diag]\n",
    "    #b = b.subs(gamma0=gamma)\n",
    "    \n",
    "    b = b.operands()[1].operands()[term]  #  + b.operands()[1].operands()[3] use if obtained with sage\n",
    "\n",
    "\n",
    "    b = b.subs(DE=+0.5*I*gamma_f + 0.5*I*gamma_g + DEt*gamma)\n",
    "    b = b.subs(De=+0.5*I*gamma   +Det*gamma)\n",
    "    \n",
    "    b = b.subs(De0= +0.5*I*gamma0 +De0t*gamma)\n",
    "    \n",
    "    #var('a0', latex_name =r'a_0')\n",
    "    #b = b.subs(De0=+0.5*I*gamma   +Det*gamma*a0)\n",
    "    #var('n')\n",
    "    b = b.subs(DE=DEg*gamma)\n",
    "    b = b.subs(De=Deg*gamma)\n",
    "    var('a0', latex_name =r'a_0')\n",
    "    b = b.subs(De0=a0*Deg*gamma)\n",
    "    \n",
    "    var('R_f',domain='real')#ratio  (g_f/g)^2\n",
    "    b = b.subs(g_f=g*sqrt(R_f))\n",
    "    \n",
    "    var('R0',domain='positive',  latex_name =r'R_0')\n",
    "    b = b.subs(g0=g*sqrt(R0))\n",
    "\n",
    "    var('R_v',domain='real',  latex_name =r'R_{\\nu}') #ratio (v/g)^2\n",
    "    b = b.subs(v=g*sqrt(R_v))\n",
    "\n",
    "    var('r_b',domain='real')\n",
    "    b = b.subs(kappa_b=gamma/r_b)\n",
    "\n",
    "\n",
    "    var('r_g',domain='real',latex_name =r'r_g')\n",
    "    b = b.subs(gamma_g=gamma*r_g)\n",
    "\n",
    "\n",
    "    var('r_f',domain='real',latex_name =r'r_f')\n",
    "    b = b.subs(gamma_f=gamma*r_f)\n",
    "    \n",
    "    var('r0',domain='real',latex_name =r'r_0')\n",
    "    b = b.subs(gamma0=gamma*r0)\n",
    "\n",
    "\n",
    "    b = b.subs(g = sqrt(C*kappa_c*gamma)) \n",
    "    \n",
    "    b = b.subs(dc = (dct+0.5*I)*kappa_c )\n",
    "    \n",
    "    b = b.subs(r_b = c/(C*R_v))\n",
    "    \n",
    "    b = b*gamma  #Omega has to be substituted with Omega/gamma\n",
    "    \n",
    "\n",
    "    b = b._mathematica_().Factor()._sage_()\n",
    "    b = MMA_simplify(b,full= False)\n",
    "    #holds the smallest expression\n",
    "    if len(str(b))<min_expr_len:\n",
    "        min_expr_len = len(str(b))\n",
    "        h_eff = b\n",
    "\n",
    "show( (symround(h_eff,digits=1)))"
   ]
  },
  {
   "cell_type": "code",
   "execution_count": 25,
   "id": "0d4a8f32",
   "metadata": {},
   "outputs": [
    {
     "data": {
      "text/html": [
       "<html><script type=\"math/tex; mode=display\">\\newcommand{\\Bold}[1]{\\mathbf{#1}}48 \\, {\\left(-0.25 \\, C R_{f} - 0.38i \\, {\\tilde{\\Delta }_E}\\right)} {c}^{2} - 0.75 \\, C R_{f} + 48 \\, {\\left(-0.12 \\, C R_{f} - 0.12i \\, {\\tilde{\\Delta }_E}\\right)} {c} - 0.38i \\, {\\tilde{\\Delta }_E}</script></html>"
      ],
      "text/latex": [
       "$$\\newcommand{\\Bold}[1]{\\mathbf{#1}}48 \\, {\\left(-0.25 \\, C R_{f} - 0.38i \\, {\\tilde{\\Delta }_E}\\right)} {c}^{2} - 0.75 \\, C R_{f} + 48 \\, {\\left(-0.12 \\, C R_{f} - 0.12i \\, {\\tilde{\\Delta }_E}\\right)} {c} - 0.38i \\, {\\tilde{\\Delta }_E}$$"
      ],
      "text/plain": [
       "48*(-0.25*C*R_f - 0.38*I*DEt)*c^2 - 0.75*C*R_f + 48*(-0.12*C*R_f - 0.12*I*DEt)*c - 0.38*I*DEt"
      ]
     },
     "metadata": {},
     "output_type": "display_data"
    }
   ],
   "source": [
    "show(symround(MMA_simplify(h_eff.subs(De0t=I/2,R0=0),full=True).denominator()*48))"
   ]
  },
  {
   "cell_type": "code",
   "execution_count": 60,
   "id": "fef9a7b4",
   "metadata": {},
   "outputs": [
    {
     "name": "stdout",
     "output_type": "stream",
     "text": [
      "numerator\n"
     ]
    },
    {
     "data": {
      "text/html": [
       "<html><script type=\"math/tex; mode=display\">\\newcommand{\\Bold}[1]{\\mathbf{#1}}-2 \\, {\\tilde{\\Delta }_e} {c} {\\tilde{\\delta }_c} - 0.500i \\, {\\tilde{\\Delta }_e} {\\tilde{\\delta }_c}^{2} + C {c} + 0.500i \\, C {\\tilde{\\delta }_c}</script></html>"
      ],
      "text/latex": [
       "$$\\newcommand{\\Bold}[1]{\\mathbf{#1}}-2 \\, {\\tilde{\\Delta }_e} {c} {\\tilde{\\delta }_c} - 0.500i \\, {\\tilde{\\Delta }_e} {\\tilde{\\delta }_c}^{2} + C {c} + 0.500i \\, C {\\tilde{\\delta }_c}$$"
      ],
      "text/plain": [
       "-2*Det*c*dct - 0.500*I*Det*dct^2 + C*c + 0.500*I*C*dct"
      ]
     },
     "metadata": {},
     "output_type": "display_data"
    },
    {
     "name": "stdout",
     "output_type": "stream",
     "text": [
      "\n",
      "\n",
      " Latex\n",
      "-2 \\, {\\tilde{\\Delta }_e} {c} {\\tilde{\\delta }_c} - 0.500i \\, {\\tilde{\\Delta }_e} {\\tilde{\\delta }_c}^{2} + C {c} + 0.500i \\, C {\\tilde{\\delta }_c}\n",
      "~~~~~~~~~~~~~~~~~~~~~~~~~~~~~~~~~~~~~~~~~~~~~~~~~~~~~~~~\n",
      "\n",
      "\n",
      "denominator\n"
     ]
    },
    {
     "data": {
      "text/html": [
       "<html><script type=\"math/tex; mode=display\">\\newcommand{\\Bold}[1]{\\mathbf{#1}}{\\left({\\tilde{\\Delta }_e} {c} + 0.500i \\, {\\tilde{\\Delta }_e} {\\tilde{\\delta }_c} - 0.500i \\, C\\right)} C R_{f} - {\\left(2 \\, {\\tilde{\\Delta }_e} {c} {\\tilde{\\delta }_c} + 0.500i \\, {\\tilde{\\Delta }_e} {\\tilde{\\delta }_c}^{2} - C {c} - 0.500i \\, C {\\tilde{\\delta }_c}\\right)} {\\tilde{\\Delta }_E}</script></html>"
      ],
      "text/latex": [
       "$$\\newcommand{\\Bold}[1]{\\mathbf{#1}}{\\left({\\tilde{\\Delta }_e} {c} + 0.500i \\, {\\tilde{\\Delta }_e} {\\tilde{\\delta }_c} - 0.500i \\, C\\right)} C R_{f} - {\\left(2 \\, {\\tilde{\\Delta }_e} {c} {\\tilde{\\delta }_c} + 0.500i \\, {\\tilde{\\Delta }_e} {\\tilde{\\delta }_c}^{2} - C {c} - 0.500i \\, C {\\tilde{\\delta }_c}\\right)} {\\tilde{\\Delta }_E}$$"
      ],
      "text/plain": [
       "(Det*c + 0.500*I*Det*dct - 0.500*I*C)*C*R_f - (2*Det*c*dct + 0.500*I*Det*dct^2 - C*c - 0.500*I*C*dct)*DEt"
      ]
     },
     "metadata": {},
     "output_type": "display_data"
    },
    {
     "name": "stdout",
     "output_type": "stream",
     "text": [
      "\n",
      "\n",
      " Latex\n",
      "{\\left({\\tilde{\\Delta }_e} {c} + 0.500i \\, {\\tilde{\\Delta }_e} {\\tilde{\\delta }_c} - 0.500i \\, C\\right)} C R_{f} - {\\left(2 \\, {\\tilde{\\Delta }_e} {c} {\\tilde{\\delta }_c} + 0.500i \\, {\\tilde{\\Delta }_e} {\\tilde{\\delta }_c}^{2} - C {c} - 0.500i \\, C {\\tilde{\\delta }_c}\\right)} {\\tilde{\\Delta }_E}\n"
     ]
    }
   ],
   "source": [
    "factor = 1#*16*4\n",
    "\n",
    "\n",
    "print('numerator')\n",
    "nu = symround(SR(str(MMA_simplify(factor*(h_eff.numerator().expand()),full=True)).replace('Sqrt','sqrt'))\\\n",
    "              ,digits=3)\n",
    "show(nu)\n",
    "print(\"\\n\\n Latex\")\n",
    "print(latex(nu))\n",
    "\n",
    "print(\"~~~~~~~~~~~~~~~~~~~~~~~~~~~~~~~~~~~~~~~~~~~~~~~~~~~~~~~~\")\n",
    "print('\\n\\ndenominator')\n",
    "den = symround(SR(str(MMA_simplify(factor*(h_eff.denominator().expand()),full= not True)).replace('Sqrt','sqrt'))\\\n",
    "               ,digits=3)\n",
    "show(den)\n",
    "print(\"\\n\\n Latex\")\n",
    "print(latex(den))"
   ]
  },
  {
   "cell_type": "markdown",
   "id": "407a99a6",
   "metadata": {},
   "source": [
    "# Expand linearly in the limit:   $C\\rightarrow \\infty$"
   ]
  },
  {
   "cell_type": "code",
   "execution_count": 61,
   "id": "def83d4b",
   "metadata": {},
   "outputs": [
    {
     "data": {
      "text/html": [
       "<html><script type=\"math/tex; mode=display\">\\newcommand{\\Bold}[1]{\\mathbf{#1}}\\frac{{\\left(2 i \\, {R_{\\nu}} {c_\\kappa} + 0.66i\\right)} {R_{\\nu}} {c_\\kappa} + 0.042i}{{\\left({\\left(2 i \\, {\\Delta E} + 1.3 \\, R_{f}\\right)} {R_{\\nu}}^{2} {c_\\kappa}^{2} + {\\left(0.66i \\, {\\Delta E} + R_{f}\\right)} {R_{\\nu}} {c_\\kappa} + 0.042i \\, {\\Delta E} + 0.083 \\, R_{f}\\right)} C}</script></html>"
      ],
      "text/latex": [
       "$$\\newcommand{\\Bold}[1]{\\mathbf{#1}}\\frac{{\\left(2 i \\, {R_{\\nu}} {c_\\kappa} + 0.66i\\right)} {R_{\\nu}} {c_\\kappa} + 0.042i}{{\\left({\\left(2 i \\, {\\Delta E} + 1.3 \\, R_{f}\\right)} {R_{\\nu}}^{2} {c_\\kappa}^{2} + {\\left(0.66i \\, {\\Delta E} + R_{f}\\right)} {R_{\\nu}} {c_\\kappa} + 0.042i \\, {\\Delta E} + 0.083 \\, R_{f}\\right)} C}$$"
      ],
      "text/plain": [
       "((2*I*R_v*c_k + 0.66*I)*R_v*c_k + 0.042*I)/(((2*I*DE + 1.3*R_f)*R_v^2*c_k^2 + (0.66*I*DE + R_f)*R_v*c_k + 0.042*I*DE + 0.083*R_f)*C)"
      ]
     },
     "metadata": {},
     "output_type": "display_data"
    }
   ],
   "source": [
    "#with mathematica\n",
    "q = b.subs(C=1/x)\n",
    "q = MMA_simplify(q)\n",
    "tayl = q._mathematica_().Series((x,0,1)).Normal()._sage_()\n",
    "tayl = tayl.subs(x=1/C)\n",
    "#t = q._mathematica_().Series((x,0,2))\n",
    "#t_exp = t[3]\n",
    "#t_st = t[4]\n",
    "#tayl = 0\n",
    "#for i in range(1,len(t_exp)):\n",
    "#    tayl += MMA_simplify( t_exp[i]._sage_() ) / C**(i-1+Integer(t[4]))\n",
    "\n",
    "show(symround(tayl))\n",
    "\n",
    "#with sage\n",
    "#tayl = b.taylor(C_c,infinity, 1)\n",
    "#show(symround(MMA_simplify(tayl)))"
   ]
  },
  {
   "cell_type": "markdown",
   "id": "1498df0a",
   "metadata": {},
   "source": [
    "# Lindblau Operators\n",
    "\n",
    "Choose which of the Lindblau operators to view and which non zero element of it"
   ]
  },
  {
   "cell_type": "code",
   "execution_count": 6,
   "id": "847371b4",
   "metadata": {
    "scrolled": true
   },
   "outputs": [],
   "source": [
    "def lind(lind_op,which):    \n",
    "    L_matrix_orig = s1.lindblau_list[lind_op]\n",
    "    L_matrix      = s1.eff_lindblau_list[lind_op] #lindblau_list[lind_op] ##(gamma_g=0,gamma_f=gamma)\n",
    "\n",
    "    L_nonzeros = []\n",
    "    L_nonzeros_pos = []\n",
    "    #find non zero elements\n",
    "    for i in  range(L_matrix.nrows()):\n",
    "        for j in  range(L_matrix.ncols()):\n",
    "            if not L_matrix[i,j].is_zero():\n",
    "                L_nonzeros.append(L_matrix[i,j])\n",
    "                L_nonzeros_pos.append((i,j))\n",
    "\n",
    "    #show what these elements do \n",
    "    #for t in L_nonzeros_pos:\n",
    "    #    print(f' |{s1.gs_e1_dec_states[t[0]]}> < {s1.gs_e1_dec_states[t[1]]} | ')\n",
    "\n",
    "    L_elem = L_nonzeros[which]\n",
    "\n",
    "    var('gamma_f')\n",
    "    L_elem = L_elem.subs(DE=+0.5*I*gamma_f + 0.5*I*gamma_g + DEt*gamma)\n",
    "    L_elem = L_elem.subs(De=+0.5*I*gamma   +Det*gamma)\n",
    "    #L_elem = L_elem.subs(DE=gamma*DEg)\n",
    "    #L_elem = L_elem.subs(De=gamma*Deg)                     \n",
    "    #COUPLINGS\n",
    "    b = L_elem\n",
    "    var('R_f',domain='real')#ratio  (g_f/g)^2\n",
    "    b = b.subs(g_f=g*sqrt(R_f))\n",
    "\n",
    "    var('R_v',domain='real',  latex_name =r'R_{\\nu}') #ratio (v/g)^2\n",
    "    b = b.subs(v=g*sqrt(R_v))\n",
    "\n",
    "    var('r_b',domain='real')\n",
    "    b = b.subs(kappa_b=gamma/r_b)\n",
    "\n",
    "\n",
    "    var('r_g',domain='real',latex_name =r'r_g')\n",
    "    b = b.subs(gamma_g=gamma*r_g)\n",
    "\n",
    "\n",
    "    var('r_f',domain='real',latex_name =r'r_f')\n",
    "    b = b.subs(gamma_f=gamma*r_f)\n",
    "\n",
    "\n",
    "    b = b.subs(g = sqrt(C*kappa_c*gamma)) \n",
    "    \n",
    "    b = b.subs(r_b = c/(C*R_v))\n",
    "    \n",
    "    b = b.subs(dc = (dct+0.5*I)*kappa_c )\n",
    "    \n",
    "    \n",
    "    L_elem = b\n",
    "    \n",
    "  \n",
    "    L_elem = L_elem._mathematica_().PowerExpand()._sage_()\n",
    "    L_elem = L_elem._mathematica_().Factor()._sage_()\n",
    "\n",
    "\n",
    "    L_elem = MMA_simplify(L_elem,full=True)\n",
    "\n",
    "    L_elem = SR(str(L_elem).replace('Sqrt','sqrt'))\n",
    "\n",
    "    \n",
    "\n",
    "    show( symround(L_elem))\n",
    "\n",
    "    print(f' |{s1.gs_e1_dec_states[L_nonzeros_pos[which][0]]}> < {s1.gs_e1_dec_states[L_nonzeros_pos[which][1]]} | \\n')\n",
    "    print(f' Original coefficient :')\n",
    "    show(s1.L_coeffs[lind_op])\n",
    "    return L_elem\n"
   ]
  },
  {
   "cell_type": "markdown",
   "id": "0ecd2826",
   "metadata": {},
   "source": [
    "# Expand linearly in the limit:   $C\\rightarrow \\infty$"
   ]
  },
  {
   "cell_type": "code",
   "execution_count": 22,
   "id": "abd5a8d7",
   "metadata": {},
   "outputs": [
    {
     "data": {
      "text/html": [
       "<html><script type=\"math/tex; mode=display\">\\newcommand{\\Bold}[1]{\\mathbf{#1}}\\frac{{\\Omega} \\sqrt{{\\kappa_c}}}{\\sqrt{C {\\gamma} {\\kappa_c}} \\sqrt{R_{f}}}</script></html>"
      ],
      "text/latex": [
       "$$\\newcommand{\\Bold}[1]{\\mathbf{#1}}\\frac{{\\Omega} \\sqrt{{\\kappa_c}}}{\\sqrt{C {\\gamma} {\\kappa_c}} \\sqrt{R_{f}}}$$"
      ],
      "text/plain": [
       "Omega*sqrt(kappa_c)/(sqrt(C*gamma*kappa_c)*sqrt(R_f))"
      ]
     },
     "metadata": {},
     "output_type": "display_data"
    }
   ],
   "source": [
    "#with mathematica\n",
    "\n",
    "q = L_elem.subs(C=1/x)\n",
    "q = MMA_simplify(q)\n",
    "t = q._mathematica_().Series((x,0,1)).Normal()\n",
    "\n",
    "tayl = t._sage_().subs(x=1/C)\n",
    "tayl = SR(str(tayl).replace('Sqrt','sqrt'))\n",
    "show(symround(tayl))"
   ]
  },
  {
   "cell_type": "code",
   "execution_count": 8,
   "id": "fbe64d09",
   "metadata": {},
   "outputs": [
    {
     "name": "stdout",
     "output_type": "stream",
     "text": [
      "symround: Deleted coefficient 2.2e-16\n",
      "symround: Deleted coefficient 1.8e-17\n"
     ]
    },
    {
     "data": {
      "text/html": [
       "<html><script type=\"math/tex; mode=display\">\\newcommand{\\Bold}[1]{\\mathbf{#1}}-\\frac{{\\left({\\tilde{\\Delta }_e} {\\left({c} + 0.25\\right)} - 0.50i \\, C\\right)} \\sqrt{C} {\\tilde{\\Delta }_e} {\\Omega} \\sqrt{R_{f}} {c} e^{\\left(-i \\, {\\phi}\\right)}}{{\\left({\\left({\\tilde{\\Delta }_e}^{2} {\\left({c} + 0.25\\right)}^{2} - C {\\tilde{\\Delta }_e} {\\left(i \\, {c} + 0.25i\\right)} - 0.25 \\, C^{2}\\right)} C R_{f} + {\\left({\\tilde{\\Delta }_e}^{2} {\\left({c} + 0.25\\right)} {\\left(1.5i \\, {c} + 0.12i\\right)} + {\\left({\\left(2 \\, {c} + 1.5\\right)} {c} + 0.12\\right)} C {\\tilde{\\Delta }_e} + C^{2} {\\left(-i \\, {c} - 0.12i\\right)}\\right)} {\\tilde{\\Delta }_E}\\right)} \\sqrt{{\\gamma}}}</script></html>"
      ],
      "text/latex": [
       "$$\\newcommand{\\Bold}[1]{\\mathbf{#1}}-\\frac{{\\left({\\tilde{\\Delta }_e} {\\left({c} + 0.25\\right)} - 0.50i \\, C\\right)} \\sqrt{C} {\\tilde{\\Delta }_e} {\\Omega} \\sqrt{R_{f}} {c} e^{\\left(-i \\, {\\phi}\\right)}}{{\\left({\\left({\\tilde{\\Delta }_e}^{2} {\\left({c} + 0.25\\right)}^{2} - C {\\tilde{\\Delta }_e} {\\left(i \\, {c} + 0.25i\\right)} - 0.25 \\, C^{2}\\right)} C R_{f} + {\\left({\\tilde{\\Delta }_e}^{2} {\\left({c} + 0.25\\right)} {\\left(1.5i \\, {c} + 0.12i\\right)} + {\\left({\\left(2 \\, {c} + 1.5\\right)} {c} + 0.12\\right)} C {\\tilde{\\Delta }_e} + C^{2} {\\left(-i \\, {c} - 0.12i\\right)}\\right)} {\\tilde{\\Delta }_E}\\right)} \\sqrt{{\\gamma}}}$$"
      ],
      "text/plain": [
       "-(Det*(c + 0.25) - 0.50*I*C)*sqrt(C)*Det*Omega*sqrt(R_f)*c*e^(-I*phi)/(((Det^2*(c + 0.25)^2 - C*Det*(I*c + 0.25*I) - 0.25*C^2)*C*R_f + (Det^2*(c + 0.25)*(1.5*I*c + 0.12*I) + ((2*c + 1.5)*c + 0.12)*C*Det + C^2*(-I*c - 0.12*I))*DEt)*sqrt(gamma))"
      ]
     },
     "metadata": {},
     "output_type": "display_data"
    },
    {
     "name": "stdout",
     "output_type": "stream",
     "text": [
      " |0100f001> < 0100g001 | \n",
      "\n",
      " Original coefficient :\n"
     ]
    },
    {
     "data": {
      "text/html": [
       "<html><script type=\"math/tex; mode=display\">\\newcommand{\\Bold}[1]{\\mathbf{#1}}\\sqrt{{\\kappa_c}}</script></html>"
      ],
      "text/latex": [
       "$$\\newcommand{\\Bold}[1]{\\mathbf{#1}}\\sqrt{{\\kappa_c}}$$"
      ],
      "text/plain": [
       "sqrt(kappa_c)"
      ]
     },
     "metadata": {},
     "output_type": "display_data"
    },
    {
     "name": "stdout",
     "output_type": "stream",
     "text": [
      "symround: Deleted coefficient 2.2e-16\n",
      "symround: Deleted coefficient 1.8e-17\n",
      "-\\frac{{\\left({\\tilde{\\Delta }_e} {\\left({c} + 0.25\\right)} - 0.50i \\, C\\right)} \\sqrt{C} {\\tilde{\\Delta }_e} {\\Omega} \\sqrt{R_{f}} {c} e^{\\left(-i \\, {\\phi}\\right)}}{{\\left({\\left({\\tilde{\\Delta }_e}^{2} {\\left({c} + 0.25\\right)}^{2} - C {\\tilde{\\Delta }_e} {\\left(i \\, {c} + 0.25i\\right)} - 0.25 \\, C^{2}\\right)} C R_{f} + {\\left({\\tilde{\\Delta }_e}^{2} {\\left({c} + 0.25\\right)} {\\left(1.5i \\, {c} + 0.12i\\right)} + {\\left({\\left(2 \\, {c} + 1.5\\right)} {c} + 0.12\\right)} C {\\tilde{\\Delta }_e} + C^{2} {\\left(-i \\, {c} - 0.12i\\right)}\\right)} {\\tilde{\\Delta }_E}\\right)} \\sqrt{{\\gamma}}}\n"
     ]
    }
   ],
   "source": [
    "lind_op = 0  #which lindblau operator\n",
    "which   = 3  #which non zero element to access\n",
    "L_elem = lind(lind_op,which)\n",
    "\n",
    "print(latex(symround(L_elem)))\n"
   ]
  },
  {
   "cell_type": "code",
   "execution_count": 40,
   "id": "9c801eb0",
   "metadata": {},
   "outputs": [
    {
     "data": {
      "text/html": [
       "<html><script type=\"math/tex; mode=display\">\\newcommand{\\Bold}[1]{\\mathbf{#1}}\\frac{\\sqrt{C {\\gamma} {\\kappa_c}} {\\Omega} \\sqrt{R_{f}}}{{\\left(C R_{f} {\\gamma} + 0.50i \\, {\\tilde{\\Delta }_E} {\\gamma}\\right)} \\sqrt{{\\kappa_c}}}</script></html>"
      ],
      "text/latex": [
       "$$\\newcommand{\\Bold}[1]{\\mathbf{#1}}\\frac{\\sqrt{C {\\gamma} {\\kappa_c}} {\\Omega} \\sqrt{R_{f}}}{{\\left(C R_{f} {\\gamma} + 0.50i \\, {\\tilde{\\Delta }_E} {\\gamma}\\right)} \\sqrt{{\\kappa_c}}}$$"
      ],
      "text/plain": [
       "sqrt(C*gamma*kappa_c)*Omega*sqrt(R_f)/((C*R_f*gamma + 0.50*I*DEt*gamma)*sqrt(kappa_c))"
      ]
     },
     "metadata": {},
     "output_type": "display_data"
    },
    {
     "name": "stdout",
     "output_type": "stream",
     "text": [
      " |0f00> < 0g00 | \n",
      "\n",
      " Original coefficient :\n"
     ]
    },
    {
     "data": {
      "text/html": [
       "<html><script type=\"math/tex; mode=display\">\\newcommand{\\Bold}[1]{\\mathbf{#1}}\\sqrt{{\\kappa_c}}</script></html>"
      ],
      "text/latex": [
       "$$\\newcommand{\\Bold}[1]{\\mathbf{#1}}\\sqrt{{\\kappa_c}}$$"
      ],
      "text/plain": [
       "sqrt(kappa_c)"
      ]
     },
     "metadata": {},
     "output_type": "display_data"
    },
    {
     "name": "stdout",
     "output_type": "stream",
     "text": [
      "\\frac{\\sqrt{C {\\gamma} {\\kappa_c}} {\\Omega} \\sqrt{R_{f}}}{{\\left(C R_{f} {\\gamma} + 0.50i \\, {\\tilde{\\Delta }_E} {\\gamma}\\right)} \\sqrt{{\\kappa_c}}}\n"
     ]
    }
   ],
   "source": [
    "lind_op = 0  #which lindblau operator\n",
    "which   = 0  #which non zero element to access\n",
    "L_elem = lind(lind_op,which)\n",
    "\n",
    "print(latex(symround(L_elem)))\n"
   ]
  },
  {
   "cell_type": "code",
   "execution_count": 9,
   "id": "f374cfb5",
   "metadata": {},
   "outputs": [
    {
     "name": "stdout",
     "output_type": "stream",
     "text": [
      "numerator\n"
     ]
    },
    {
     "data": {
      "text/html": [
       "<html><script type=\"math/tex; mode=display\">\\newcommand{\\Bold}[1]{\\mathbf{#1}}-{\\left(2 \\, {\\tilde{\\Delta }_e} {\\left(4 \\, {c} + 1\\right)} - 4 i \\, C\\right)} \\sqrt{C} {\\tilde{\\Delta }_e} {\\Omega} \\sqrt{R_{f}} {c} e^{\\left(-i \\, {\\phi}\\right)}</script></html>"
      ],
      "text/latex": [
       "$$\\newcommand{\\Bold}[1]{\\mathbf{#1}}-{\\left(2 \\, {\\tilde{\\Delta }_e} {\\left(4 \\, {c} + 1\\right)} - 4 i \\, C\\right)} \\sqrt{C} {\\tilde{\\Delta }_e} {\\Omega} \\sqrt{R_{f}} {c} e^{\\left(-i \\, {\\phi}\\right)}$$"
      ],
      "text/plain": [
       "-(2*Det*(4*c + 1) - 4*I*C)*sqrt(C)*Det*Omega*sqrt(R_f)*c*e^(-I*phi)"
      ]
     },
     "metadata": {},
     "output_type": "display_data"
    },
    {
     "name": "stdout",
     "output_type": "stream",
     "text": [
      "\n",
      "\n",
      " Latex\n",
      "-{\\left(2 \\, {\\tilde{\\Delta }_e} {\\left(4 \\, {c} + 1\\right)} - 4 i \\, C\\right)} \\sqrt{C} {\\tilde{\\Delta }_e} {\\Omega} \\sqrt{R_{f}} {c} e^{\\left(-i \\, {\\phi}\\right)}\n",
      "~~~~~~~~~~~~~~~~~~~~~~~~~~~~~~~~~~~~~~~~~~~~~~~~~~~~~~~~\n",
      "\n",
      "\n",
      "denominator\n",
      "symround: Deleted coefficient 1.78e-15\n",
      "symround: Deleted coefficient 5.92e-16\n",
      "symround: Deleted coefficient 3.70e-17\n"
     ]
    },
    {
     "data": {
      "text/html": [
       "<html><script type=\"math/tex; mode=display\">\\newcommand{\\Bold}[1]{\\mathbf{#1}}{\\left({\\left(8 \\, {\\tilde{\\Delta }_e}^{2} {\\left({c} + 0.250\\right)}^{2} + C {\\tilde{\\Delta }_e} {\\left(-8 i \\, {c} - 2 i\\right)} - 2 \\, C^{2}\\right)} C R_{f} + {\\left({\\left(16 \\, {c}^{2} + 12 \\, {c} + 1\\right)} C {\\tilde{\\Delta }_e} + {\\left(12 i \\, {c}^{2} + 4 i \\, {c} + 0.250i\\right)} {\\tilde{\\Delta }_e}^{2} + C^{2} {\\left(-8 i \\, {c} - i\\right)}\\right)} {\\tilde{\\Delta }_E}\\right)} \\sqrt{{\\gamma}}</script></html>"
      ],
      "text/latex": [
       "$$\\newcommand{\\Bold}[1]{\\mathbf{#1}}{\\left({\\left(8 \\, {\\tilde{\\Delta }_e}^{2} {\\left({c} + 0.250\\right)}^{2} + C {\\tilde{\\Delta }_e} {\\left(-8 i \\, {c} - 2 i\\right)} - 2 \\, C^{2}\\right)} C R_{f} + {\\left({\\left(16 \\, {c}^{2} + 12 \\, {c} + 1\\right)} C {\\tilde{\\Delta }_e} + {\\left(12 i \\, {c}^{2} + 4 i \\, {c} + 0.250i\\right)} {\\tilde{\\Delta }_e}^{2} + C^{2} {\\left(-8 i \\, {c} - i\\right)}\\right)} {\\tilde{\\Delta }_E}\\right)} \\sqrt{{\\gamma}}$$"
      ],
      "text/plain": [
       "((8*Det^2*(c + 0.250)^2 + C*Det*(-8*I*c - 2*I) - 2*C^2)*C*R_f + ((16*c^2 + 12*c + 1)*C*Det + (12*I*c^2 + 4*I*c + 0.250*I)*Det^2 + C^2*(-8*I*c - I))*DEt)*sqrt(gamma)"
      ]
     },
     "metadata": {},
     "output_type": "display_data"
    },
    {
     "name": "stdout",
     "output_type": "stream",
     "text": [
      "\n",
      "\n",
      " Latex\n",
      "{\\left({\\left(8 \\, {\\tilde{\\Delta }_e}^{2} {\\left({c} + 0.250\\right)}^{2} + C {\\tilde{\\Delta }_e} {\\left(-8 i \\, {c} - 2 i\\right)} - 2 \\, C^{2}\\right)} C R_{f} + {\\left({\\left(16 \\, {c}^{2} + 12 \\, {c} + 1\\right)} C {\\tilde{\\Delta }_e} + {\\left(12 i \\, {c}^{2} + 4 i \\, {c} + 0.250i\\right)} {\\tilde{\\Delta }_e}^{2} + C^{2} {\\left(-8 i \\, {c} - i\\right)}\\right)} {\\tilde{\\Delta }_E}\\right)} \\sqrt{{\\gamma}}\n"
     ]
    }
   ],
   "source": [
    "factor = 8\n",
    "\n",
    "\n",
    "print('numerator')\n",
    "nu = symround(SR(str(MMA_simplify(factor*(L_elem.numerator().expand()),full=not True)).replace('Sqrt','sqrt'))\\\n",
    "              ,digits=3)\n",
    "show(nu)\n",
    "print(\"\\n\\n Latex\")\n",
    "print(latex(nu))\n",
    "\n",
    "print(\"~~~~~~~~~~~~~~~~~~~~~~~~~~~~~~~~~~~~~~~~~~~~~~~~~~~~~~~~\")\n",
    "print('\\n\\ndenominator')\n",
    "den = symround(SR(str(MMA_simplify(factor*(L_elem.denominator().expand()),full=not True)).replace('Sqrt','sqrt'))\\\n",
    "               ,digits=3)\n",
    "show(den)\n",
    "print(\"\\n\\n Latex\")\n",
    "print(latex(den))"
   ]
  },
  {
   "cell_type": "code",
   "execution_count": 28,
   "id": "45cef896",
   "metadata": {},
   "outputs": [
    {
     "data": {
      "text/html": [
       "<html><script type=\"math/tex; mode=display\">\\newcommand{\\Bold}[1]{\\mathbf{#1}}\\frac{32 \\, \\sqrt{C} {\\tilde{\\Delta }_e}^{2} {\\Omega} \\sqrt{R_{f}} {c}^{2} e^{\\left(2 i \\, {\\phi}\\right)}}{{\\left({\\left(2 \\, {\\left(16 \\, {c}^{2} + 12 \\, {c} + 1\\right)} {\\tilde{\\Delta }_e}^{2} - C {\\tilde{\\Delta }_e} {\\left(48 i \\, {c} + 8 i\\right)} - 8 \\, C^{2}\\right)} C R_{f} + {\\left(4 \\, {\\left(16 \\, {c}^{2} + 10 \\, {c} + 1\\right)} C {\\tilde{\\Delta }_e} - {\\left(-48 i \\, {c}^{2} - 16 i \\, {c} - i\\right)} {\\tilde{\\Delta }_e}^{2} - C^{2} {\\left(16 i \\, {c} + 4 i\\right)}\\right)} {\\tilde{\\Delta }_E}\\right)} \\sqrt{{\\gamma}}}</script></html>"
      ],
      "text/latex": [
       "$$\\newcommand{\\Bold}[1]{\\mathbf{#1}}\\frac{32 \\, \\sqrt{C} {\\tilde{\\Delta }_e}^{2} {\\Omega} \\sqrt{R_{f}} {c}^{2} e^{\\left(2 i \\, {\\phi}\\right)}}{{\\left({\\left(2 \\, {\\left(16 \\, {c}^{2} + 12 \\, {c} + 1\\right)} {\\tilde{\\Delta }_e}^{2} - C {\\tilde{\\Delta }_e} {\\left(48 i \\, {c} + 8 i\\right)} - 8 \\, C^{2}\\right)} C R_{f} + {\\left(4 \\, {\\left(16 \\, {c}^{2} + 10 \\, {c} + 1\\right)} C {\\tilde{\\Delta }_e} - {\\left(-48 i \\, {c}^{2} - 16 i \\, {c} - i\\right)} {\\tilde{\\Delta }_e}^{2} - C^{2} {\\left(16 i \\, {c} + 4 i\\right)}\\right)} {\\tilde{\\Delta }_E}\\right)} \\sqrt{{\\gamma}}}$$"
      ],
      "text/plain": [
       "32*sqrt(C)*Det^2*Omega*sqrt(R_f)*c^2*e^(2*I*phi)/(((2*(16*c^2 + 12*c + 1)*Det^2 - C*Det*(48*I*c + 8*I) - 8*C^2)*C*R_f + (4*(16*c^2 + 10*c + 1)*C*Det - (-48*I*c^2 - 16*I*c - I)*Det^2 - C^2*(16*I*c + 4*I))*DEt)*sqrt(gamma))"
      ]
     },
     "metadata": {},
     "output_type": "display_data"
    }
   ],
   "source": [
    "show(symround(SR(str(MMA_simplify(factor*(L_elem.numerator().expand()),full=not True)).replace('Sqrt','sqrt')),digits=3) / (symround(SR(str(MMA_simplify(factor*(L_elem.denominator().expand()),full=not True)).replace('Sqrt','sqrt')),digits=3)))"
   ]
  },
  {
   "cell_type": "code",
   "execution_count": null,
   "id": "1c1aa87c",
   "metadata": {},
   "outputs": [],
   "source": []
  },
  {
   "cell_type": "code",
   "execution_count": 29,
   "id": "a63f7164",
   "metadata": {},
   "outputs": [
    {
     "data": {
      "text/plain": [
       "\\frac{32 \\, \\sqrt{C} {\\tilde{\\Delta }_e}^{2} {\\Omega} \\sqrt{R_{f}} {c}^{2} e^{\\left(2 i \\, {\\phi}\\right)}}{{\\left({\\left(2 \\, {\\left(16 \\, {c}^{2} + 12 \\, {c} + 1\\right)} {\\tilde{\\Delta }_e}^{2} - C {\\tilde{\\Delta }_e} {\\left(48 i \\, {c} + 8 i\\right)} - 8 \\, C^{2}\\right)} C R_{f} + {\\left(4 \\, {\\left(16 \\, {c}^{2} + 10 \\, {c} + 1\\right)} C {\\tilde{\\Delta }_e} - {\\left(-48 i \\, {c}^{2} - 16 i \\, {c} - i\\right)} {\\tilde{\\Delta }_e}^{2} - C^{2} {\\left(16 i \\, {c} + 4 i\\right)}\\right)} {\\tilde{\\Delta }_E}\\right)} \\sqrt{{\\gamma}}}"
      ]
     },
     "execution_count": 29,
     "metadata": {},
     "output_type": "execute_result"
    }
   ],
   "source": [
    "latex(symround(SR(str(MMA_simplify(factor*(L_elem.numerator().expand()),full=not True)).replace('Sqrt','sqrt')),digits=3) / (symround(SR(str(MMA_simplify(factor*(L_elem.denominator().expand()),full=not True)).replace('Sqrt','sqrt')),digits=3)))"
   ]
  },
  {
   "cell_type": "code",
   "execution_count": null,
   "id": "c4ca36ac",
   "metadata": {},
   "outputs": [],
   "source": []
  }
 ],
 "metadata": {
  "kernelspec": {
   "display_name": "SageMath 9.3",
   "language": "sage",
   "name": "sagemath"
  },
  "language_info": {
   "codemirror_mode": {
    "name": "ipython",
    "version": 3
   },
   "file_extension": ".py",
   "mimetype": "text/x-python",
   "name": "python",
   "nbconvert_exporter": "python",
   "pygments_lexer": "ipython3",
   "version": "3.9.2"
  }
 },
 "nbformat": 4,
 "nbformat_minor": 5
}
