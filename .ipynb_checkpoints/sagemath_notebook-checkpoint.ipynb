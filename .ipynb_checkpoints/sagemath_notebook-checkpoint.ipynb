{
 "cells": [
  {
   "cell_type": "code",
   "execution_count": 881,
   "metadata": {
    "scrolled": false
   },
   "outputs": [
    {
     "name": "stdout",
     "output_type": "stream",
     "text": [
      "Initializing system O-x-O ...\n",
      "Constructing states and excitations ...\n",
      "Constructing ground and first-excited statespace ...\n",
      "Constructing gs_hamiltonian ...\n",
      "Constructing e1_hamiltonian ...\n",
      "Constructing interactions V_plus and V_minus ...\n",
      "Constructing NJ_hamiltonian ...\n",
      "Inverting NJ_hamiltonian ...\n",
      "Constructing eff_hamiltonian and effective lindblad operators ...\n",
      "\n",
      "System  O-x-O  initialized in 28.5 seconds.\n"
     ]
    },
    {
     "data": {
      "text/plain": [
       "R_f"
      ]
     },
     "execution_count": 881,
     "metadata": {},
     "output_type": "execute_result"
    }
   ],
   "source": [
    "from resources.system.system import *\n",
    "from resources.notebook_library import *\n",
    "s1 = system('O-x-O',MMA=True,ManyVariables=False,TwoPhotonResonance= True)\n",
    "\n",
    "var('gamma','DE','De','g','g_f','Omega','v','gamma_f','gamma_g','gamma0','De0','g0','db',domain='positive')\n",
    "var('r_g','r_f','r0',domain='positive')\n",
    "var('DEt',domain='positive',  latex_name =r'\\tilde{\\Delta }_E')\n",
    "var('Det',domain='positive',  latex_name =r'\\tilde{\\Delta }_e')\n",
    "var('De0t',domain='positive',  latex_name =r'\\tilde{\\Delta }_{e0}')\n",
    "var('dct',domain='complex',  latex_name =r'\\tilde{\\delta }_c')\n",
    "var('dbt',domain='complex',  latex_name =r'\\tilde{\\delta }_c')\n",
    "var('DEg',domain='positive',  latex_name =r'\\Delta_{E\\gamma}')\n",
    "var('Deg',domain='positive',  latex_name =r'\\Delta_{e\\gamma}')\n",
    "var('kappa_c','kappa_b',domain='positive')\n",
    "var('C',domain='positive')\n",
    "var('c',domain='positive',  latex_name =r'c')\n",
    "var('CtE',domain='complex',latex_name=r'\\tilde{C}_E')\n",
    "var('Ct0',domain='complex',latex_name=r'\\tilde{C}_0')\n",
    "var('Ct1',domain='complex',latex_name=r'\\tilde{C}_1')\n",
    "var('R0',domain='positive',  latex_name =r'R_0')\n",
    "var('R_f',domain='real')#ratio  (g_f/g)^2"
   ]
  },
  {
   "cell_type": "code",
   "execution_count": 882,
   "metadata": {},
   "outputs": [],
   "source": [
    "def separate_simpl_compl_factors(expr):\n",
    "    expr_factors = []\n",
    "    len_factor = []\n",
    "\n",
    "    factors = expr.operands()\n",
    "    for i,fac in enumerate(factors):\n",
    "        expr_factors.append(str(fac))\n",
    "        len_factor.append(len(str(fac)))\n",
    "\n",
    "    max1 = sorted(len_factor)[::-1][0]\n",
    "    max2 = sorted(len_factor)[::-1][1]\n",
    "\n",
    "    ind_max1 = len_factor.index(max1)\n",
    "    ind_max2 = len_factor.index(max2)\n",
    "\n",
    "\n",
    "    simple_factor =1\n",
    "    compl_factor = 1\n",
    "    for i,fac in enumerate(factors):\n",
    "        if i in [ind_max1,ind_max2]:\n",
    "            compl_factor = compl_factor*fac\n",
    "        else:\n",
    "            simple_factor = fac*simple_factor\n",
    "    return simple_factor , compl_factor\n",
    "def MMA_collect(expr,coll):\n",
    "    \n",
    "    return expr._mathematica_().Collect(coll)._sage_(locals=mathematica_to_sagemath).subs(E=sg.e)"
   ]
  },
  {
   "cell_type": "code",
   "execution_count": 918,
   "metadata": {},
   "outputs": [],
   "source": [
    "sg.var('Cts',latex_name=r\"\\tilde{C}_s\")\n",
    "sg.var('Ctp',latex_name=r\"\\tilde{C}_p\")\n",
    "ct0_val = 1/2*( Cts+ sg.sqrt(Cts^2+4*Ctp) )\n",
    "ct1_val = 1/2*( Cts- sg.sqrt(Cts^2+4*Ctp) )\n",
    "sg.var('c2','c3')\n",
    "\n",
    "sg.var('P1','P2','P3')\n",
    "\n",
    "\n",
    "\n",
    "polynomials = [[16,12,1],\n",
    "              [48,16,1],]\n",
    "\n",
    "    \n",
    "def p_subs(expr):\n",
    "    \n",
    "    #P1\n",
    "    fac = [1,2]\n",
    "    for f in fac:    \n",
    "        expr = expr.subs(f*(12*c)== f*(P1 -16*c^2 -1) )\n",
    "    #P2\n",
    "    fac = [1,2*sg.I,sg.I]\n",
    "    for f in fac:   \n",
    "        expr = expr.subs(f*(48*c^2)== f*(P2 -16*c -1))\n",
    "\n",
    "    #c3\n",
    "    fac = [1,32*I,-32*I,64*I,-16*I]\n",
    "    for f in fac:  \n",
    "        expr = expr.subs( f*(c+1/8)==f*c3)\n",
    "    #c2\n",
    "    fac = [1,-16*I,-8*I]\n",
    "    for f in fac:  \n",
    "        expr = expr.subs( f*(c+1/4)==f*I*c2)\n",
    "    \n",
    "    return expr\n",
    "\n",
    "def custom_simplify(expr):\n",
    "    '''\n",
    "    Only for elements that have both  0 and 1 dependency\n",
    "    '''\n",
    "    expr = symround(expr)\n",
    "    \n",
    "    expr = expr.subs(Ct0=ct0_val,Ct1=ct1_val).expand()\n",
    "\n",
    "    \n",
    "    expr = symround(MMA_simplify(expr))\n",
    "    expr = MMA_collect(expr,'{CtE,Ctp,Cts}')\n",
    "    expr = p_subs(expr)\n",
    "     \n",
    "    \n",
    "    return expr\n",
    "    \n",
    "    \n",
    "\n",
    "    "
   ]
  },
  {
   "cell_type": "markdown",
   "metadata": {},
   "source": [
    "# Effective Hamiltonian as Real part\n",
    "\n",
    "Will output $Q_n$ from expression:\n",
    "\n",
    "$$\\Delta_n = - \\dfrac{\\Omega^2}{\\gamma} \\text{Re}\\{Q_n \\} $$"
   ]
  },
  {
   "cell_type": "code",
   "execution_count": 919,
   "metadata": {
    "scrolled": true
   },
   "outputs": [
    {
     "name": "stdout",
     "output_type": "stream",
     "text": [
      "Element is the real part of this expression times  Ω^2/γ\n"
     ]
    },
    {
     "data": {
      "text/html": [
       "<html><script type=\"math/tex; mode=display\">\\newcommand{\\Bold}[1]{\\mathbf{#1}}\\frac{{\\left({\\tilde{C}_0} + {\\tilde{C}_1} + 1.5i\\right)} {c}^{2} + {\\tilde{C}_0} {\\left(-0.12i \\, {\\tilde{C}_1} + 0.062\\right)} + {\\left({\\tilde{C}_0} {\\left(-i \\, {\\tilde{C}_1} + 0.75\\right)} + 0.75 \\, {\\tilde{C}_1} + 0.50i\\right)} {c} + 0.062 \\, {\\tilde{C}_1} + 0.031i}{{\\left({\\left({\\tilde{C}_0} + {\\tilde{C}_1} + {\\tilde{C}_E} + 1.5i\\right)} {c}^{2} + {\\left(-0.25 \\, {\\tilde{C}_1} {\\tilde{C}_E} - 0.12i \\, {\\tilde{C}_1} - 0.12i \\, {\\tilde{C}_E} + 0.062\\right)} {\\tilde{C}_0} - 0.12i \\, {\\tilde{C}_1} {\\tilde{C}_E} + {\\left({\\tilde{C}_0} {\\left(-i \\, {\\tilde{C}_1} - 0.50i \\, {\\tilde{C}_E} + 0.75\\right)} - 0.50i \\, {\\tilde{C}_1} {\\tilde{C}_E} + 0.75 \\, {\\tilde{C}_1} + 0.50 \\, {\\tilde{C}_E} + 0.50i\\right)} {c} + 0.062 \\, {\\tilde{C}_1} + 0.062 \\, {\\tilde{C}_E} + 0.031i\\right)} {\\tilde{\\Delta }_E}}</script></html>"
      ],
      "text/plain": [
       "((Ct0 + Ct1 + 1.5*I)*c^2 + Ct0*(-0.12*I*Ct1 + 0.062) + (Ct0*(-I*Ct1 + 0.75) + 0.75*Ct1 + 0.50*I)*c + 0.062*Ct1 + 0.031*I)/(((Ct0 + Ct1 + CtE + 1.5*I)*c^2 + (-0.25*Ct1*CtE - 0.12*I*Ct1 - 0.12*I*CtE + 0.062)*Ct0 - 0.12*I*Ct1*CtE + (Ct0*(-I*Ct1 - 0.50*I*CtE + 0.75) - 0.50*I*Ct1*CtE + 0.75*Ct1 + 0.50*CtE + 0.50*I)*c + 0.062*Ct1 + 0.062*CtE + 0.031*I)*DEt)"
      ]
     },
     "metadata": {},
     "output_type": "display_data"
    }
   ],
   "source": [
    "diag = 1  #input n corresponding to diag element to view\n",
    "\n",
    "\n",
    "#Take only one of the compl conj terms, choose the one with the shortest length when shortned\n",
    "min_expr_len = 10**10\n",
    "for term in range(2):\n",
    "    b = s1.eff_hamiltonian_gs[diag,diag]\n",
    "    #b = b.subs(gamma0=gamma)\n",
    "    \n",
    "    b = b.operands()[1].operands()[term]  #  + b.operands()[1].operands()[3] use if obtained with sage\n",
    "    \n",
    "\n",
    "    \n",
    "    b = b.subs(DE=+0.5*I*gamma_f + 0.5*I*gamma_g + DEt*gamma)\n",
    "    b = b.subs(De=+0.5*I*gamma   +Det*gamma)\n",
    "    b = b.subs(De0= +0.5*I*gamma0 +De0t*gamma)\n",
    "  \n",
    "    \n",
    "    b = b.subs(g_f=g*sqrt(R_f))\n",
    "    b = b.subs(g0=g*sqrt(R0))\n",
    "    b = b.subs(g = sqrt(C*kappa_c*gamma))\n",
    "    b = b.subs(v=sqrt(c *kappa_c*kappa_b))\n",
    "\n",
    "    b = b.subs(gamma_g=gamma*r_g)\n",
    "    b = b.subs(gamma_f=gamma*r_f)\n",
    "    b = b.subs(gamma0=gamma*r0)\n",
    "    \n",
    "    \n",
    "    b = b.subs(Det = C/Ct1)\n",
    "    b = b.subs(De0t= C*R0/Ct0)\n",
    "    b = b.subs(R_f= CtE*DEt/C)\n",
    "    b = b*gamma  #Omega has to be substituted with Omega/gamma\n",
    "    \n",
    "\n",
    "    b = b._mathematica_().Factor()._sage_()\n",
    "    b = MMA_simplify(b,full= False)\n",
    "    #holds the smallest expression\n",
    "    if len(str(b))<min_expr_len:\n",
    "        min_expr_len = len(str(b))\n",
    "        h_eff = b\n",
    "print('Element is the real part of this expression times  Ω^2/γ')\n",
    "show( (symround(h_eff,digits=1)))"
   ]
  },
  {
   "cell_type": "code",
   "execution_count": 920,
   "metadata": {},
   "outputs": [
    {
     "data": {
      "text/html": [
       "<html><script type=\"math/tex; mode=display\">\\newcommand{\\Bold}[1]{\\mathbf{#1}}\\frac{1}{{\\tilde{\\Delta }_E}}</script></html>"
      ],
      "text/plain": [
       "1/DEt"
      ]
     },
     "metadata": {},
     "output_type": "display_data"
    }
   ],
   "source": [
    "simpl, complic = separate_simpl_compl_factors(h_eff)\n",
    "show(simpl)"
   ]
  },
  {
   "cell_type": "markdown",
   "metadata": {},
   "source": [
    "### Show the result separated in Numerator and denominator multiplying by a factor"
   ]
  },
  {
   "cell_type": "code",
   "execution_count": 922,
   "metadata": {},
   "outputs": [
    {
     "name": "stdout",
     "output_type": "stream",
     "text": [
      "numerator\n"
     ]
    },
    {
     "data": {
      "text/html": [
       "<html><script type=\"math/tex; mode=display\">\\newcommand{\\Bold}[1]{\\mathbf{#1}}2 \\, {\\tilde{C}_s} P_{1} + 32 i \\, {\\tilde{C}_p} c_{3} + i \\, P_{2}</script></html>"
      ],
      "text/plain": [
       "2*Cts*P1 + 32*I*Ctp*c3 + I*P2"
      ]
     },
     "metadata": {},
     "output_type": "display_data"
    },
    {
     "name": "stdout",
     "output_type": "stream",
     "text": [
      "~~~~~~~~~~~~~~~~~~~~~~~~~~~~~~~~~~~~~~~~~~~~~~~~~~~~~~~~\n",
      "\n",
      "\n",
      "denominator\n"
     ]
    },
    {
     "data": {
      "text/html": [
       "<html><script type=\"math/tex; mode=display\">\\newcommand{\\Bold}[1]{\\mathbf{#1}}2 \\, {\\left(16 \\, {c}^{2} + 8 \\, {\\tilde{C}_s} c_{2} + 4 \\, {\\tilde{C}_p} + 8 \\, {c} + 1\\right)} {\\tilde{C}_E} + 2 \\, {\\tilde{C}_s} P_{1} + 32 i \\, {\\tilde{C}_p} c_{3} + i \\, P_{2}</script></html>"
      ],
      "text/plain": [
       "2*(16*c^2 + 8*Cts*c2 + 4*Ctp + 8*c + 1)*CtE + 2*Cts*P1 + 32*I*Ctp*c3 + I*P2"
      ]
     },
     "metadata": {},
     "output_type": "display_data"
    }
   ],
   "source": [
    "factor = 8*4\n",
    "state = 1\n",
    "\n",
    "factor=RR(factor)\n",
    "print('numerator')\n",
    "nu = custom_simplify(factor*complic.numerator())\n",
    "show(nu)\n",
    "#print(\"\\n\\n Latex\")\n",
    "#print(latex(nu))\n",
    "\n",
    "print(\"~~~~~~~~~~~~~~~~~~~~~~~~~~~~~~~~~~~~~~~~~~~~~~~~~~~~~~~~\")\n",
    "print('\\n\\ndenominator')\n",
    "den = custom_simplify(factor*complic.denominator())\n",
    "show(MMA_collect(den,'{CtE,Cts,Ctp}' ) )\n",
    "#print(\"\\n\\n Latex\")\n",
    "#print(latex(den))"
   ]
  },
  {
   "cell_type": "code",
   "execution_count": null,
   "metadata": {},
   "outputs": [],
   "source": []
  },
  {
   "cell_type": "markdown",
   "metadata": {},
   "source": [
    "# Lindblad Operators\n",
    "\n",
    "Choose which of the Lindblad operators to view and which non zero element of it"
   ]
  },
  {
   "cell_type": "code",
   "execution_count": 3,
   "metadata": {
    "scrolled": true
   },
   "outputs": [],
   "source": [
    "mathematica_to_sagemath = {'Im':sg.imag_part,\"Re\":sg.real,\"E\":sg.exp, \"Sqrt\":sg.sqrt }\n",
    "def lind(lind_op,which):    \n",
    "    L_matrix_orig = s1.lindblad_list[lind_op]\n",
    "    L_matrix      = s1.eff_lindblad_list[lind_op] #lindblad_list[lind_op] ##(gamma_g=0,gamma_f=gamma)\n",
    "\n",
    "    L_nonzeros = []\n",
    "    L_nonzeros_pos = []\n",
    "    #find non zero elements\n",
    "    for i in  range(L_matrix.nrows()):\n",
    "        for j in  range(L_matrix.ncols()):\n",
    "            if not (str(L_matrix[i,j])== '0' or  str(L_matrix[i,j])== '0.0'):\n",
    "                L_nonzeros.append(L_matrix[i,j])\n",
    "                L_nonzeros_pos.append((i,j))\n",
    "\n",
    "    #show what these elements do \n",
    "    #for t in L_nonzeros_pos:\n",
    "    #    print(f' |{s1.gs_e1_dec_states[t[0]]}> < {s1.gs_e1_dec_states[t[1]]} | ')\n",
    "\n",
    "    L_elem = L_nonzeros[which]\n",
    "    \n",
    "    b = L_elem\n",
    "\n",
    "    b = b.subs(DE=+0.5*I*gamma_f + 0.5*I*gamma_g + DEt*gamma)\n",
    "    b = b.subs(De=+0.5*I*gamma   +Det*gamma)\n",
    "    b = b.subs(De0= +0.5*I*gamma0 +De0t*gamma)\n",
    "  \n",
    "    \n",
    "    b = b.subs(g_f=g*sqrt(R_f))\n",
    "    b = b.subs(g0=g*sqrt(R0))\n",
    "    b = b.subs(g = sqrt(C*kappa_c*gamma))\n",
    "    b = b.subs(v=sqrt(c *kappa_c*kappa_b))\n",
    "\n",
    "    b = b.subs(gamma_g=gamma*r_g)\n",
    "    b = b.subs(gamma_f=gamma*r_f)\n",
    "    b = b.subs(gamma0=gamma*r0)\n",
    "    \n",
    "    \n",
    "    b = b.subs(Det = C/Ct1)\n",
    "    b = b.subs(De0t= C*R0/Ct0)\n",
    "    b = b.subs(R_f= CtE*DEt/C)\n",
    "    \n",
    "    \n",
    "    L_elem = b\n",
    "    \n",
    "  \n",
    "    L_elem = L_elem._mathematica_().PowerExpand()._sage_(locals=mathematica_to_sagemath).subs(E=sg.e)\n",
    "    L_elem = L_elem._mathematica_().Factor()._sage_(locals=mathematica_to_sagemath).subs(E=sg.e)\n",
    "\n",
    "\n",
    "    L_elem = MMA_simplify(L_elem,full=not True)\n",
    "\n",
    "    \n",
    "    print(f' |{s1.gs_e1_dec_states[L_nonzeros_pos[which][0]]}> < {s1.gs_e1_dec_states[L_nonzeros_pos[which][1]]} | \\n')\n",
    "\n",
    "    \n",
    "    return L_elem, s1.L_coeffs[lind_op]**2\n"
   ]
  },
  {
   "cell_type": "code",
   "execution_count": null,
   "metadata": {},
   "outputs": [],
   "source": [
    "sg.var('Cts',latex_name=r\"\\tilde{C}_s\")\n",
    "sg.var('Ctp',latex_name=r\"\\tilde{C}_p\")\n",
    "ct0_val = 1/2*( Cts+ sg.sqrt(Cts^2+4*Ctp) )\n",
    "ct1_val = 1/2*( Cts- sg.sqrt(Cts^2+4*Ctp) )\n",
    "sg.var('c2','c3')\n",
    "\n",
    "sg.var('P1','P2','P3','P4')\n",
    "polynomials = [[16,12,1],\n",
    "              [48,16,1],\n",
    "              [8,12,1],\n",
    "               [24,12,1]]\n",
    "\n",
    "\n",
    "    \n",
    "def p_subs(expr):\n",
    "    #combos\n",
    "    #P1\n",
    "    fac = [1]\n",
    "    for f in fac:    \n",
    "        #expr = expr.subs(f*(16*c^2 )== f*(P1 -(12*c+1) ))\n",
    "        pass\n",
    "    #P2\n",
    "    fac = [1,2*sg.I,sg.I]\n",
    "    for f in fac:   \n",
    "        #expr = expr.subs(f*(48*c^2)== f*(P2 -16*c -1))\n",
    "        pass\n",
    "    #P3\n",
    "    fac = [1]\n",
    "    for f in fac:  \n",
    "        #expr = expr.subs(f*(8*c)== f*(4*c2^2 -16*c^2 -1 ))\n",
    "        pass\n",
    "    \n",
    "    #P4\n",
    "    fac = [1]\n",
    "    for f in fac:  \n",
    "        expr = expr.subs(f*(24*c^2)== f*(P4 - (12*c +1) ))\n",
    "        pass\n",
    "    expr = expr.simplify()\n",
    "    \n",
    "    #c3\n",
    "    fac = [1,32*I,-32*I,64*I,-16*I,-128*I,128*I]\n",
    "    for f in fac:  \n",
    "        expr = expr.subs( f*(c+1/8)==f*c3)\n",
    "    #c2\n",
    "    fac = [-128*I]\n",
    "    for f in fac:  \n",
    "        expr = expr.subs( f*(c+1/4)==f*I*c2)\n",
    "        pass\n",
    "    \n",
    "    return expr\n",
    "\n",
    "def custom_simplify(expr):\n",
    "    expr = symround(expr)\n",
    "    \n",
    "    expr = symround(MMA_simplify(expr))\n",
    "    expr = MMA_collect(expr,'{CtE,Ctp,Cts}')\n",
    "    expr = p_subs(expr)\n",
    "    \n",
    "\n",
    "    return expr"
   ]
  },
  {
   "cell_type": "markdown",
   "metadata": {},
   "source": [
    "## View Lindblad results"
   ]
  },
  {
   "cell_type": "code",
   "execution_count": 847,
   "metadata": {},
   "outputs": [
    {
     "name": "stdout",
     "output_type": "stream",
     "text": [
      " |0000f000> < 0000g000 | \n",
      "\n",
      " Original coefficient :\n"
     ]
    },
    {
     "data": {
      "text/html": [
       "<html><script type=\"math/tex; mode=display\">\\newcommand{\\Bold}[1]{\\mathbf{#1}}{\\kappa_c}</script></html>"
      ],
      "text/plain": [
       "kappa_c"
      ]
     },
     "metadata": {},
     "output_type": "display_data"
    }
   ],
   "source": [
    "lind_op = 0  #which lindblad operator\n",
    "which   = 0  #which non zero element to access\n",
    "L_elem, coeff = lind(lind_op,which)\n",
    "L_elem = symround(L_elem,digits=14)\n",
    "\n",
    "print(f' Original coefficient :')\n",
    "show(coeff)\n",
    "#show( symround(L_elem))\n",
    "#print(latex(symround(L_elem)))\n"
   ]
  },
  {
   "cell_type": "code",
   "execution_count": 848,
   "metadata": {},
   "outputs": [],
   "source": []
  },
  {
   "cell_type": "code",
   "execution_count": 500,
   "metadata": {},
   "outputs": [
    {
     "data": {
      "text/html": [
       "<html><script type=\"math/tex; mode=display\">\\newcommand{\\Bold}[1]{\\mathbf{#1}}\\frac{0.25000000000000 \\, \\sqrt{{\\tilde{C}_E}} {\\Omega}}{\\sqrt{{\\tilde{\\Delta }_E}} \\sqrt{{\\gamma}}}</script></html>"
      ],
      "text/plain": [
       "0.25000000000000*sqrt(CtE)*Omega/(sqrt(DEt)*sqrt(gamma))"
      ]
     },
     "metadata": {},
     "output_type": "display_data"
    }
   ],
   "source": [
    "show((simple))"
   ]
  },
  {
   "cell_type": "markdown",
   "metadata": {},
   "source": [
    "# ~v~v~v~v~v~v~v~v~v~v~v~~v~v~v~v~v~v~v~v~vv"
   ]
  },
  {
   "cell_type": "code",
   "execution_count": 849,
   "metadata": {},
   "outputs": [],
   "source": [
    "simple , complic = separate_simpl_compl_factors(L_elem)"
   ]
  },
  {
   "cell_type": "code",
   "execution_count": 850,
   "metadata": {},
   "outputs": [
    {
     "data": {
      "text/html": [
       "<html><script type=\"math/tex; mode=display\">\\newcommand{\\Bold}[1]{\\mathbf{#1}}-\\frac{0.25000000000000 \\, \\sqrt{{\\tilde{C}_E}} {\\Omega} {c} e^{\\left(-i \\, {\\phi}\\right)}}{\\sqrt{{\\tilde{\\Delta }_E}} \\sqrt{{\\gamma}}}</script></html>"
      ],
      "text/plain": [
       "-0.25000000000000*sqrt(CtE)*Omega*c*e^(-I*phi)/(sqrt(DEt)*sqrt(gamma))"
      ]
     },
     "metadata": {},
     "output_type": "display_data"
    },
    {
     "data": {
      "text/plain": [
       "-\\frac{0.25000000000000 \\, \\sqrt{{\\tilde{C}_E}} {\\Omega} {c} e^{\\left(-i \\, {\\phi}\\right)}}{\\sqrt{{\\tilde{\\Delta }_E}} \\sqrt{{\\gamma}}}"
      ]
     },
     "execution_count": 850,
     "metadata": {},
     "output_type": "execute_result"
    }
   ],
   "source": [
    "#2\n",
    "show(simple)\n",
    "latex(simple)"
   ]
  },
  {
   "cell_type": "code",
   "execution_count": 851,
   "metadata": {},
   "outputs": [
    {
     "data": {
      "text/html": [
       "<html><script type=\"math/tex; mode=display\">\\newcommand{\\Bold}[1]{\\mathbf{#1}}64 i \\, {\\tilde{C}_0}^{3} {\\tilde{C}_E} - 256 \\, {\\tilde{C}_0}^{3} {c} - 384 \\, {\\tilde{C}_0}^{2} {\\tilde{C}_E} {c} - 1024 i \\, {\\tilde{C}_0}^{2} {c}^{2} - 768 i \\, {\\tilde{C}_0} {\\tilde{C}_E} {c}^{2} + 1024 \\, {\\tilde{C}_0} {c}^{3} + 512 \\, {\\tilde{C}_E} {c}^{3} - 32 \\, {\\tilde{C}_0}^{3} - 96 \\, {\\tilde{C}_0}^{2} {\\tilde{C}_E} - 576 i \\, {\\tilde{C}_0}^{2} {c} - 384 i \\, {\\tilde{C}_0} {\\tilde{C}_E} {c} + 1408 \\, {\\tilde{C}_0} {c}^{2} + 384 \\, {\\tilde{C}_E} {c}^{2} + 768 i \\, {c}^{3} - 48 i \\, {\\tilde{C}_0}^{2} - 48 i \\, {\\tilde{C}_0} {\\tilde{C}_E} + 384 \\, {\\tilde{C}_0} {c} + 96 \\, {\\tilde{C}_E} {c} + 448 i \\, {c}^{2} + 24 \\, {\\tilde{C}_0} + 8 \\, {\\tilde{C}_E} + 80 i \\, {c} + 4 i</script></html>"
      ],
      "text/plain": [
       "64*I*Ct0^3*CtE - 256*Ct0^3*c - 384*Ct0^2*CtE*c - 1024*I*Ct0^2*c^2 - 768*I*Ct0*CtE*c^2 + 1024*Ct0*c^3 + 512*CtE*c^3 - 32*Ct0^3 - 96*Ct0^2*CtE - 576*I*Ct0^2*c - 384*I*Ct0*CtE*c + 1408*Ct0*c^2 + 384*CtE*c^2 + 768*I*c^3 - 48*I*Ct0^2 - 48*I*Ct0*CtE + 384*Ct0*c + 96*CtE*c + 448*I*c^2 + 24*Ct0 + 8*CtE + 80*I*c + 4*I"
      ]
     },
     "metadata": {},
     "output_type": "display_data"
    },
    {
     "data": {
      "text/html": [
       "<html><script type=\"math/tex; mode=display\">\\newcommand{\\Bold}[1]{\\mathbf{#1}}32.000000000000 \\, {\\tilde{C}_0}^{4} {\\tilde{C}_E}^{2} + 256.00000000000i \\, {\\tilde{C}_0}^{4} {\\tilde{C}_E} {c} + 256.00000000000i \\, {\\tilde{C}_0}^{3} {\\tilde{C}_E}^{2} {c} - 512.00000000000 \\, {\\tilde{C}_0}^{4} {c}^{2} - 1536.0000000000 \\, {\\tilde{C}_0}^{3} {\\tilde{C}_E} {c}^{2} - 768.00000000000 \\, {\\tilde{C}_0}^{2} {\\tilde{C}_E}^{2} {c}^{2} - 2048.0000000000i \\, {\\tilde{C}_0}^{3} {c}^{3} - 3072.0000000000i \\, {\\tilde{C}_0}^{2} {\\tilde{C}_E} {c}^{3} - 1024.0000000000i \\, {\\tilde{C}_0} {\\tilde{C}_E}^{2} {c}^{3} + 2048 \\, {\\tilde{C}_0}^{2} {c}^{4} + 2048.0000000000 \\, {\\tilde{C}_0} {\\tilde{C}_E} {c}^{4} + 512.00000000000 \\, {\\tilde{C}_E}^{2} {c}^{4} + 32.000000000000i \\, {\\tilde{C}_0}^{4} {\\tilde{C}_E} + 64.000000000000i \\, {\\tilde{C}_0}^{3} {\\tilde{C}_E}^{2} - 128.00000000000 \\, {\\tilde{C}_0}^{4} {c} - 768.00000000000 \\, {\\tilde{C}_0}^{3} {\\tilde{C}_E} {c} - 384.00000000000 \\, {\\tilde{C}_0}^{2} {\\tilde{C}_E}^{2} {c} - 1792.0000000000i \\, {\\tilde{C}_0}^{3} {c}^{2} - 3072.0000000000i \\, {\\tilde{C}_0}^{2} {\\tilde{C}_E} {c}^{2} - 768.00000000000i \\, {\\tilde{C}_0} {\\tilde{C}_E}^{2} {c}^{2} + 4608.0000000000 \\, {\\tilde{C}_0}^{2} {c}^{3} + 4096.0000000000 \\, {\\tilde{C}_0} {\\tilde{C}_E} {c}^{3} + 512.00000000000 \\, {\\tilde{C}_E}^{2} {c}^{3} + 3072.0000000000i \\, {\\tilde{C}_0} {c}^{4} + 1536.0000000000i \\, {\\tilde{C}_E} {c}^{4} - 8.0000000000000 \\, {\\tilde{C}_0}^{4} - 64.000000000000 \\, {\\tilde{C}_0}^{3} {\\tilde{C}_E} - 48.000000000000 \\, {\\tilde{C}_0}^{2} {\\tilde{C}_E}^{2} - 320.00000000000i \\, {\\tilde{C}_0}^{3} {c} - 768.00000000000i \\, {\\tilde{C}_0}^{2} {\\tilde{C}_E} {c} - 192.00000000000i \\, {\\tilde{C}_0} {\\tilde{C}_E}^{2} {c} + 2112.0000000000 \\, {\\tilde{C}_0}^{2} {c}^{2} + 1920.0000000000 \\, {\\tilde{C}_0} {\\tilde{C}_E} {c}^{2} + 192.00000000000 \\, {\\tilde{C}_E}^{2} {c}^{2} + 3328.0000000000i \\, {\\tilde{C}_0} {c}^{3} + 1280.0000000000i \\, {\\tilde{C}_E} {c}^{3} - 1152.0000000000 \\, {c}^{4} - 16.000000000000i \\, {\\tilde{C}_0}^{3} - 48.000000000000i \\, {\\tilde{C}_0}^{2} {\\tilde{C}_E} - 16.000000000000i \\, {\\tilde{C}_0} {\\tilde{C}_E}^{2} + 288.00000000000 \\, {\\tilde{C}_0}^{2} {c} + 320.00000000000 \\, {\\tilde{C}_0} {\\tilde{C}_E} {c} + 32.000000000000 \\, {\\tilde{C}_E}^{2} {c} + 1024.0000000000i \\, {\\tilde{C}_0} {c}^{2} + 384.00000000000i \\, {\\tilde{C}_E} {c}^{2} - 768.00000000000 \\, {c}^{3} + 12.000000000000 \\, {\\tilde{C}_0}^{2} + 16.000000000000 \\, {\\tilde{C}_0} {\\tilde{C}_E} + 2.0000000000000 \\, {\\tilde{C}_E}^{2} + 112.00000000000i \\, {\\tilde{C}_0} {c} + 48.000000000000i \\, {\\tilde{C}_E} {c} - 176.00000000000 \\, {c}^{2} + 4.0000000000000i \\, {\\tilde{C}_0} + 2.0000000000000i \\, {\\tilde{C}_E} - 16.000000000000 \\, {c} - 0.50000000000000</script></html>"
      ],
      "text/plain": [
       "32.000000000000*Ct0^4*CtE^2 + 256.00000000000*I*Ct0^4*CtE*c + 256.00000000000*I*Ct0^3*CtE^2*c - 512.00000000000*Ct0^4*c^2 - 1536.0000000000*Ct0^3*CtE*c^2 - 768.00000000000*Ct0^2*CtE^2*c^2 - 2048.0000000000*I*Ct0^3*c^3 - 3072.0000000000*I*Ct0^2*CtE*c^3 - 1024.0000000000*I*Ct0*CtE^2*c^3 + 2048*Ct0^2*c^4 + 2048.0000000000*Ct0*CtE*c^4 + 512.00000000000*CtE^2*c^4 + 32.000000000000*I*Ct0^4*CtE + 64.000000000000*I*Ct0^3*CtE^2 - 128.00000000000*Ct0^4*c - 768.00000000000*Ct0^3*CtE*c - 384.00000000000*Ct0^2*CtE^2*c - 1792.0000000000*I*Ct0^3*c^2 - 3072.0000000000*I*Ct0^2*CtE*c^2 - 768.00000000000*I*Ct0*CtE^2*c^2 + 4608.0000000000*Ct0^2*c^3 + 4096.0000000000*Ct0*CtE*c^3 + 512.00000000000*CtE^2*c^3 + 3072.0000000000*I*Ct0*c^4 + 1536.0000000000*I*CtE*c^4 - 8.0000000000000*Ct0^4 - 64.000000000000*Ct0^3*CtE - 48.000000000000*Ct0^2*CtE^2 - 320.00000000000*I*Ct0^3*c - 768.00000000000*I*Ct0^2*CtE*c - 192.00000000000*I*Ct0*CtE^2*c + 2112.0000000000*Ct0^2*c^2 + 1920.0000000000*Ct0*CtE*c^2 + 192.00000000000*CtE^2*c^2 + 3328.0000000000*I*Ct0*c^3 + 1280.0000000000*I*CtE*c^3 - 1152.0000000000*c^4 - 16.000000000000*I*Ct0^3 - 48.000000000000*I*Ct0^2*CtE - 16.000000000000*I*Ct0*CtE^2 + 288.00000000000*Ct0^2*c + 320.00000000000*Ct0*CtE*c + 32.000000000000*CtE^2*c + 1024.0000000000*I*Ct0*c^2 + 384.00000000000*I*CtE*c^2 - 768.00000000000*c^3 + 12.000000000000*Ct0^2 + 16.000000000000*Ct0*CtE + 2.0000000000000*CtE^2 + 112.00000000000*I*Ct0*c + 48.000000000000*I*CtE*c - 176.00000000000*c^2 + 4.0000000000000*I*Ct0 + 2.0000000000000*I*CtE - 16.000000000000*c - 0.50000000000000"
      ]
     },
     "metadata": {},
     "output_type": "display_data"
    }
   ],
   "source": [
    "factor = 512\n",
    "num = symround(factor*complic.numerator())\n",
    "show(num)"
   ]
  },
  {
   "cell_type": "code",
   "execution_count": 845,
   "metadata": {},
   "outputs": [],
   "source": [
    "r =custom_simplify( MMA_collect(num,'{CtE,Ct0}') ,state=None)"
   ]
  },
  {
   "cell_type": "code",
   "execution_count": 855,
   "metadata": {},
   "outputs": [
    {
     "data": {
      "text/html": [
       "<html><script type=\"math/tex; mode=display\">\\newcommand{\\Bold}[1]{\\mathbf{#1}}-32 \\, {\\tilde{C}_0}^{3} {\\left(8 \\, {c} + 1\\right)} + {\\left(-1024 i \\, {c}^{2} - 576 i \\, {c} - 48 i\\right)} {\\tilde{C}_0}^{2} + 768 i \\, {c}^{3} + 8 \\, {\\left(128 \\, {c}^{3} + 176 \\, {c}^{2} + 48 \\, {c} + 3\\right)} {\\tilde{C}_0} + {\\left(64 i \\, {\\tilde{C}_0}^{3} - 96 \\, {\\tilde{C}_0}^{2} {\\left(4 \\, {c} + 1\\right)} + 512 \\, {c}^{3} + {\\left(-768 i \\, {c}^{2} - 384 i \\, {c} - 48 i\\right)} {\\tilde{C}_0} + 384 \\, {c}^{2} + 96 \\, {c} + 8\\right)} {\\tilde{C}_E} + 448 i \\, {c}^{2} + 80 i \\, {c} + 4 i</script></html>"
      ],
      "text/plain": [
       "-32*Ct0^3*(8*c + 1) + (-1024*I*c^2 - 576*I*c - 48*I)*Ct0^2 + 768*I*c^3 + 8*(128*c^3 + 176*c^2 + 48*c + 3)*Ct0 + (64*I*Ct0^3 - 96*Ct0^2*(4*c + 1) + 512*c^3 + (-768*I*c^2 - 384*I*c - 48*I)*Ct0 + 384*c^2 + 96*c + 8)*CtE + 448*I*c^2 + 80*I*c + 4*I"
      ]
     },
     "metadata": {},
     "output_type": "display_data"
    }
   ],
   "source": []
  },
  {
   "cell_type": "code",
   "execution_count": 878,
   "metadata": {},
   "outputs": [
    {
     "data": {
      "text/html": [
       "<html><script type=\"math/tex; mode=display\">\\newcommand{\\Bold}[1]{\\mathbf{#1}}-256 \\, {\\tilde{C}_0}^{3} c_{3} + 16 \\, {\\tilde{C}_0}^{2} \\mathit{QQ} + 768 i \\, {c}^{3} + 8 \\, {\\left(128 \\, {c}^{3} + 176 \\, {c}^{2} + 48 \\, {c} + 3\\right)} {\\tilde{C}_0} + {\\left(64 i \\, {\\tilde{C}_0}^{3} - 96 \\, {\\tilde{C}_0}^{2} {\\left(4 \\, {c} + 1\\right)} + 512 \\, {c}^{3} + {\\left(-768 i \\, {c}^{2} - 384 i \\, {c} - 48 i\\right)} {\\tilde{C}_0} + 8 \\, \\mathit{QS}\\right)} {\\tilde{C}_E} + 448 i \\, {c}^{2} + 80 i \\, {c} + 4 i</script></html>"
      ],
      "text/plain": [
       "-256*Ct0^3*c3 + 16*Ct0^2*QQ + 768*I*c^3 + 8*(128*c^3 + 176*c^2 + 48*c + 3)*Ct0 + (64*I*Ct0^3 - 96*Ct0^2*(4*c + 1) + 512*c^3 + (-768*I*c^2 - 384*I*c - 48*I)*Ct0 + 8*QS)*CtE + 448*I*c^2 + 80*I*c + 4*I"
      ]
     },
     "metadata": {},
     "output_type": "display_data"
    },
    {
     "name": "stdout",
     "output_type": "stream",
     "text": [
      "-256*Ct0^3*c3 + 16*Ct0^2*QQ + 768*I*c^3 + 8*(128*c^3 + 176*c^2 + 48*c + 3)*Ct0 + (64*I*Ct0^3 - 96*Ct0^2*(4*c + 1) + 512*c^3 + (-768*I*c^2 - 384*I*c - 48*I)*Ct0 + 8*QS)*CtE + 448*I*c^2 + 80*I*c + 4*I\n"
     ]
    }
   ],
   "source": [
    "subbed = r.subs(8*c+1==8*c3).subs(I*s4768).subs(s2_192).subs(-I*s1536)\n",
    "#subbed = subbed.subs(-I*s384).subs(s128).subs(1/3*I*s1536).subs(-1/6*I*s1536)\n",
    "#subbed = subbed.subs(c==c2-1/4).expand()\n",
    "#subbed = subbed.expand()\n",
    "show(subbed)\n",
    "print(subbed)"
   ]
  },
  {
   "cell_type": "code",
   "execution_count": 767,
   "metadata": {},
   "outputs": [
    {
     "name": "stdout",
     "output_type": "stream",
     "text": [
      "0\n"
     ]
    },
    {
     "data": {
      "text/html": [
       "<html><script type=\"math/tex; mode=display\">\\newcommand{\\Bold}[1]{\\mathbf{#1}}2 \\, {\\tilde{C}_s} P_{3} c_{2}^{2} + \\frac{1}{2} \\, {\\tilde{C}_p} {\\tilde{C}_s} P_{4} + 4 i \\, {\\tilde{C}_p}^{2} c_{3} - \\frac{1}{2} i \\, {\\left({\\tilde{C}_s}^{2} P_{1} - 2 \\, {\\tilde{C}_p} P_{1} - P_{2}\\right)} c_{2}</script></html>"
      ],
      "text/plain": [
       "2*Cts*P3*c2^2 + 1/2*Ctp*Cts*P4 + 4*I*Ctp^2*c3 - 1/2*I*(Cts^2*P1 - 2*Ctp*P1 - P2)*c2"
      ]
     },
     "metadata": {},
     "output_type": "display_data"
    },
    {
     "name": "stdout",
     "output_type": "stream",
     "text": [
      "2 \\, {\\tilde{C}_s} P_{3} c_{2}^{2} + \\frac{1}{2} \\, {\\tilde{C}_p} {\\tilde{C}_s} P_{4} + 4 i \\, {\\tilde{C}_p}^{2} c_{3} - \\frac{1}{2} i \\, {\\left({\\tilde{C}_s}^{2} P_{1} - 2 \\, {\\tilde{C}_p} P_{1} - P_{2}\\right)} c_{2}\n",
      "1\n"
     ]
    },
    {
     "data": {
      "text/html": [
       "<html><script type=\"math/tex; mode=display\">\\newcommand{\\Bold}[1]{\\mathbf{#1}}-16 i \\, {\\tilde{C}_s} c_{2}^{3} + 16 \\, c_{2}^{4} + 4 \\, {\\tilde{C}_p} {\\tilde{C}_s} c_{2} - 4 \\, {\\left({\\tilde{C}_s}^{2} - 2 \\, {\\tilde{C}_p}\\right)} c_{2}^{2} + {\\tilde{C}_p}^{2}</script></html>"
      ],
      "text/plain": [
       "-16*I*Cts*c2^3 + 16*c2^4 + 4*Ctp*Cts*c2 - 4*(Cts^2 - 2*Ctp)*c2^2 + Ctp^2"
      ]
     },
     "metadata": {},
     "output_type": "display_data"
    },
    {
     "name": "stdout",
     "output_type": "stream",
     "text": [
      "-16 i \\, {\\tilde{C}_s} c_{2}^{3} + 16 \\, c_{2}^{4} + 4 \\, {\\tilde{C}_p} {\\tilde{C}_s} c_{2} - 4 \\, {\\left({\\tilde{C}_s}^{2} - 2 \\, {\\tilde{C}_p}\\right)} c_{2}^{2} + {\\tilde{C}_p}^{2}\n"
     ]
    }
   ],
   "source": [
    "coef = subbed.coefficients(CtE)\n",
    "for elem in coef:\n",
    "    print(elem[1])\n",
    "    expr = elem[0]/16/2    #show(expr)\n",
    "    sh = MMA_simplify(expr)\n",
    "    show(sh)\n",
    "    print(latex(sh))"
   ]
  },
  {
   "cell_type": "markdown",
   "metadata": {},
   "source": [
    "## Denominator"
   ]
  },
  {
   "cell_type": "code",
   "execution_count": 403,
   "metadata": {},
   "outputs": [
    {
     "data": {
      "text/plain": [
       "[(Ct0^2*(-0.12*CtE - 0.062*I) + (Ct0 + 0.50*CtE + 0.75*I)*c^2 + Ct0*(-0.12*I*CtE + 0.062) + (-0.50*I*Ct0^2 + Ct0*(-0.50*I*CtE + 0.75) + 0.25*CtE + 0.25*I)*c + 0.031*CtE + 0.016*I)^2,\n",
       " 4096]"
      ]
     },
     "execution_count": 403,
     "metadata": {},
     "output_type": "execute_result"
    }
   ],
   "source": [
    "den = symround(factor*complic.denominator())\n",
    "den.operands()"
   ]
  },
  {
   "cell_type": "code",
   "execution_count": 406,
   "metadata": {},
   "outputs": [],
   "source": [
    "factor = 4096\n",
    "x = den.operands()[0].operands()[0]*sqrt(factor)"
   ]
  },
  {
   "cell_type": "code",
   "execution_count": 407,
   "metadata": {
    "scrolled": true
   },
   "outputs": [
    {
     "data": {
      "text/html": [
       "<html><script type=\"math/tex; mode=display\">\\newcommand{\\Bold}[1]{\\mathbf{#1}}{\\left(32 \\, {c}^{2} + {\\tilde{C}_s} {\\left(-16 i \\, {c} - 4 i\\right)} - 8 \\, {\\tilde{C}_p} + 16 \\, {c} + 2\\right)} {\\tilde{C}_E} + 2 \\, {\\left(16 \\, {c}^{2} + 12 \\, {c} + 1\\right)} {\\tilde{C}_s} + 48 i \\, {c}^{2} - 32 i \\, {\\tilde{C}_p} c_{3} + 16 i \\, {c} + i</script></html>"
      ],
      "text/plain": [
       "(32*c^2 + Cts*(-16*I*c - 4*I) - 8*Ctp + 16*c + 2)*CtE + 2*(16*c^2 + 12*c + 1)*Cts + 48*I*c^2 - 32*I*Ctp*c3 + 16*I*c + I"
      ]
     },
     "metadata": {},
     "output_type": "display_data"
    }
   ],
   "source": [
    "show(custom_simplify(custom_simplify(x)))"
   ]
  },
  {
   "cell_type": "code",
   "execution_count": 706,
   "metadata": {},
   "outputs": [],
   "source": [
    "s4_768 = 768*c^4 ==  16*c2^2*P2 -(640*c^3+192*c^2+24*c+1)\n",
    "s2_192 = 192*c^2 == (2*4^4*c2^4 -(512*c^4+512*c^3+32*c+2))\n",
    "s1536 =  1536*c^3 == (96 *c2*P1 - (1536*c^2+384*c+24)    )\n",
    "s384 = 384*c^2 == ( 8*4^3*c2^3 -(512*c^3+96*c+8))\n",
    "s128 = 128*c^4 == ( 4^2*c2^2*P3-(256*c^3+120*c^2+20*c+1))"
   ]
  },
  {
   "cell_type": "code",
   "execution_count": 642,
   "metadata": {},
   "outputs": [
    {
     "data": {
      "text/html": [
       "<html><script type=\"math/tex; mode=display\">\\newcommand{\\Bold}[1]{\\mathbf{#1}}0</script></html>"
      ],
      "text/plain": [
       "0"
      ]
     },
     "metadata": {},
     "output_type": "display_data"
    },
    {
     "data": {
      "text/html": [
       "<html><script type=\"math/tex; mode=display\">\\newcommand{\\Bold}[1]{\\mathbf{#1}}0</script></html>"
      ],
      "text/plain": [
       "0"
      ]
     },
     "metadata": {},
     "output_type": "display_data"
    },
    {
     "data": {
      "text/html": [
       "<html><script type=\"math/tex; mode=display\">\\newcommand{\\Bold}[1]{\\mathbf{#1}}0</script></html>"
      ],
      "text/plain": [
       "0"
      ]
     },
     "metadata": {},
     "output_type": "display_data"
    },
    {
     "data": {
      "text/html": [
       "<html><script type=\"math/tex; mode=display\">\\newcommand{\\Bold}[1]{\\mathbf{#1}}0</script></html>"
      ],
      "text/plain": [
       "0"
      ]
     },
     "metadata": {},
     "output_type": "display_data"
    },
    {
     "data": {
      "text/html": [
       "<html><script type=\"math/tex; mode=display\">\\newcommand{\\Bold}[1]{\\mathbf{#1}}0</script></html>"
      ],
      "text/plain": [
       "0"
      ]
     },
     "metadata": {},
     "output_type": "display_data"
    }
   ],
   "source": [
    "#Verify\n",
    "p1s =P1== 16*c^2+12*c+1\n",
    "p2s =P2== 48*c^2+16*c+1\n",
    "p3s =P3== 8*c^2+12*c+1\n",
    "p4s =P4== 24*c^2+12*c+1\n",
    "for expres in [s4_768,s2_192,s1536,s384,s128]:\n",
    "    ex = expres.subs(p1s,p2s,p3s,p4s,c2=c+1/4)\n",
    "    is0= ex.lhs()-ex.rhs()\n",
    "    show(MMA_simplify(is0))\n",
    "    #show((ex))"
   ]
  },
  {
   "cell_type": "code",
   "execution_count": 760,
   "metadata": {},
   "outputs": [],
   "source": []
  }
 ],
 "metadata": {
  "interpreter": {
   "hash": "31f2aee4e71d21fbe5cf8b01ff0e069b9275f58929596ceb00d14d90e3e16cd6"
  },
  "kernelspec": {
   "display_name": "SageMath 9.0",
   "language": "sage",
   "name": "sagemath"
  },
  "language_info": {
   "codemirror_mode": {
    "name": "ipython",
    "version": 3
   },
   "file_extension": ".py",
   "mimetype": "text/x-python",
   "name": "python",
   "nbconvert_exporter": "python",
   "pygments_lexer": "ipython3",
   "version": "3.8.10"
  }
 },
 "nbformat": 4,
 "nbformat_minor": 5
}
