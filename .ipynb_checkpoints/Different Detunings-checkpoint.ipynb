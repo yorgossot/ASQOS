{
 "cells": [
  {
   "cell_type": "markdown",
   "id": "11ebbd1c",
   "metadata": {},
   "source": [
    "# Many Variables  GHZ"
   ]
  },
  {
   "cell_type": "code",
   "execution_count": null,
   "id": "a43f3bbd",
   "metadata": {
    "scrolled": false
   },
   "outputs": [],
   "source": [
    "from system import *\n",
    "\n",
    "s1 =  load_object('GHZ')"
   ]
  },
  {
   "cell_type": "markdown",
   "id": "20c87d69",
   "metadata": {},
   "source": [
    "# Effective Hamiltonian Matrix obtain "
   ]
  },
  {
   "cell_type": "code",
   "execution_count": null,
   "id": "6398d4bb",
   "metadata": {},
   "outputs": [],
   "source": [
    "phi_val = np.pi/3\n",
    "n = 1/2\n",
    "\n",
    "total_indices = s1.variable_index\n",
    "\n",
    "var('De1', domain='positive')\n",
    "var('Deg1', domain='positive' , latex_name =r'{{\\Delta e}}_{{  1}}^\\gamma')\n",
    "var('De2', domain='positive')\n",
    "var('Deg2', domain='positive' , latex_name =r'{{\\Delta e}}_{{  2}}^\\gamma')\n",
    "var('De3', domain='positive')\n",
    "var('Deg3', domain='positive' , latex_name =r'{{\\Delta e}}_{{  3}}^\\gamma')    \n",
    "\n",
    "var('gamma','DE','De','g','g_f','Omega','v','gamma_f','gamma_g','phi',domain='positive')\n",
    "var('DEg', domain='positive' , latex_name =r'{{\\Delta E}}^\\gamma')\n",
    "var('kappa_c','kappa_b',domain='positive')\n",
    "var('C',domain='positive')\n",
    "var('c',domain='positive',  latex_name =r'c')\n",
    "var('r_f',domain='positive',latex_name =r'r_f')\n",
    "var('r_g',domain='positive',latex_name =r'r_g')\n",
    "var('R_f',domain='positive')#ratio  (g_f/g)^2\n",
    "eff_hamiltonian_tayl = sg.copy( s1.eff_hamiltonian.parent().zero())\n",
    "for diag in s1.pos_gs:\n",
    "    print(f'Calculating {diag} out of {s1.pos_gs}...')\n",
    "    #Take only one of the compl conj terms. Switch maybe second 0 to 1\n",
    "\n",
    "    b = s1.eff_hamiltonian[diag,diag]\n",
    "    \n",
    "    b = b.subs(phi = phi_val)\n",
    "\n",
    "     \n",
    "    b = b.subs(DE = 0*DEg*gamma)\n",
    "    \n",
    "    b = b.subs(De1 = Deg1*gamma*C^n) #sqrt C scaling!?\n",
    "    \n",
    "    b = b.subs(De2 = 0*Deg2*gamma) #MAKE ZERO\n",
    "    b = b.subs(De3 = 0*Deg3*gamma) #MAKE ZERO   \n",
    "    b = b.subs(g_f=g*sqrt(R_f))\n",
    "\n",
    "\n",
    "    b = b.subs(v = sqrt(c*kappa_b*kappa_c))\n",
    "\n",
    "\n",
    "    b = b.subs(gamma_f=gamma*r_f)\n",
    "\n",
    "\n",
    "    b = b.subs(gamma_g=gamma*r_g)\n",
    "\n",
    "    b = b.subs(g = sqrt(C*gamma*kappa_c)) \n",
    "\n",
    "\n",
    "\n",
    "    #Substitutions\n",
    "    #b = b.subs(c=np.pi,R_f=2.1,Deg=np.e,DEg=np.sqrt(5),r_g=np.sqrt(3),r_f=np.sqrt(2), phi=phi_val) \n",
    "    #b = b.subs(phi=phi_val)\n",
    "\n",
    "    #b = b._mathematica_().Factor()._sage_()\n",
    "    #h_eff = MMA_simplify(b)#,full=True)\n",
    "\n",
    "        \n",
    "    #h_eff = SR(str(h_eff).replace('Sqrt','sqrt'))\n",
    "\n",
    "\n",
    "    tayl = b\n",
    "    \n",
    "    #tayl =  (tayl + conjugate(tayl))/2      # try with + conjugate_transp\n",
    "\n",
    "    #taylr = taylr.expand()\n",
    "    #tayl = MMA_simplify(tayl,full=False)\n",
    "    #tayl = SR(str(tayl).replace('Sqrt','sqrt'))\n",
    "    eff_hamiltonian_tayl[diag,diag] = tayl  # Omega^2/gamma *\n",
    "\n",
    "print('\\n H_eff in ground state subspace: ')\n",
    "#show(symround(eff_hamiltonian_tayl[s1.pos_gs,s1.pos_gs],digits=3))\n",
    "\n",
    "\n",
    "eff_hamiltonian_tayl = (eff_hamiltonian_tayl[s1.pos_gs,s1.pos_gs] + conjugate(eff_hamiltonian_tayl[s1.pos_gs,s1.pos_gs]))/2"
   ]
  },
  {
   "cell_type": "markdown",
   "id": "e60ad54c",
   "metadata": {},
   "source": [
    "# Parameter manipulation"
   ]
  },
  {
   "cell_type": "code",
   "execution_count": null,
   "id": "d15bd585",
   "metadata": {},
   "outputs": [],
   "source": [
    "a = eff_hamiltonian_tayl[0,0]\n",
    "#a = symround( MMA_simplify(a,full=False) ,digits = 14)\n",
    "b = eff_hamiltonian_tayl[1,1]\n",
    "#b = symround(MMA_simplify(b,full=False),digits = 14)\n",
    "c = eff_hamiltonian_tayl[3,3]\n",
    "#c = symround(MMA_simplify(c,full=False),digits = 14)\n",
    "d = eff_hamiltonian_tayl[4,4]\n",
    "#d = symround(MMA_simplify(d,full=False),digits = 14)\n",
    "e = eff_hamiltonian_tayl[5,5]\n",
    "#e = symround(MMA_simplify(e,full=False),digits = 14)\n",
    "f = eff_hamiltonian_tayl[7,7]\n",
    "#f = symround(MMA_simplify(f,full=False),digits = 14)"
   ]
  },
  {
   "cell_type": "markdown",
   "id": "3c69018c",
   "metadata": {},
   "source": [
    "# Gate time"
   ]
  },
  {
   "cell_type": "code",
   "execution_count": 4,
   "id": "d737471d",
   "metadata": {},
   "outputs": [],
   "source": [
    "denom = a+e-b-d\n",
    "\n",
    "#denom = denom._mathematica_().Together()._sage_()\n",
    "\n",
    "t_g = 1*np.pi/denom\n",
    "\n",
    "\n",
    "\n",
    "expr = (2*a - 2*b - d + f )#._mathematica_().Together()._sage_() #a=b=0\n",
    "expr = expr*t_g\n",
    "\n"
   ]
  },
  {
   "cell_type": "code",
   "execution_count": 5,
   "id": "f945c27e",
   "metadata": {},
   "outputs": [],
   "source": [
    "#show(symround(t_g.numerator().expand().subs(c=C,R_f=1.53,r_g=5.32,r_f=2.27,Deg1=sqrt(C))))"
   ]
  },
  {
   "cell_type": "code",
   "execution_count": 6,
   "id": "fbcc82b4",
   "metadata": {},
   "outputs": [],
   "source": [
    "#show(symround(t_g.denominator().expand().subs(c=C,R_f=1.53,r_g=5.32,r_f=2.27,Deg1=sqrt(C))))"
   ]
  },
  {
   "cell_type": "code",
   "execution_count": 11,
   "id": "574016e2",
   "metadata": {
    "scrolled": true
   },
   "outputs": [
    {
     "name": "stdout",
     "output_type": "stream",
     "text": [
      "Interrupting Mathematica...\n"
     ]
    },
    {
     "ename": "KeyboardInterrupt",
     "evalue": "Ctrl-c pressed while running Mathematica",
     "output_type": "error",
     "traceback": [
      "\u001b[0;31m---------------------------------------------------------------------------\u001b[0m",
      "\u001b[0;31mKeyboardInterrupt\u001b[0m                         Traceback (most recent call last)",
      "\u001b[0;32m/opt/SageMath/SageMath/local/lib/python3.9/site-packages/sage/interfaces/expect.py\u001b[0m in \u001b[0;36m_eval_line\u001b[0;34m(self, line, allow_use_file, wait_for_prompt, restart_if_needed)\u001b[0m\n\u001b[1;32m    982\u001b[0m                     \u001b[0;32melse\u001b[0m\u001b[0;34m:\u001b[0m\u001b[0;34m\u001b[0m\u001b[0;34m\u001b[0m\u001b[0m\n\u001b[0;32m--> 983\u001b[0;31m                         \u001b[0mE\u001b[0m\u001b[0;34m.\u001b[0m\u001b[0mexpect\u001b[0m\u001b[0;34m(\u001b[0m\u001b[0mself\u001b[0m\u001b[0;34m.\u001b[0m\u001b[0m_prompt\u001b[0m\u001b[0;34m)\u001b[0m\u001b[0;34m\u001b[0m\u001b[0;34m\u001b[0m\u001b[0m\n\u001b[0m\u001b[1;32m    984\u001b[0m                 \u001b[0;32mexcept\u001b[0m \u001b[0mpexpect\u001b[0m\u001b[0;34m.\u001b[0m\u001b[0mEOF\u001b[0m \u001b[0;32mas\u001b[0m \u001b[0mmsg\u001b[0m\u001b[0;34m:\u001b[0m\u001b[0;34m\u001b[0m\u001b[0;34m\u001b[0m\u001b[0m\n",
      "\u001b[0;32m/opt/SageMath/SageMath/local/lib/python3.9/site-packages/pexpect/spawnbase.py\u001b[0m in \u001b[0;36mexpect\u001b[0;34m(self, pattern, timeout, searchwindowsize, async_, **kw)\u001b[0m\n\u001b[1;32m    342\u001b[0m         \u001b[0mcompiled_pattern_list\u001b[0m \u001b[0;34m=\u001b[0m \u001b[0mself\u001b[0m\u001b[0;34m.\u001b[0m\u001b[0mcompile_pattern_list\u001b[0m\u001b[0;34m(\u001b[0m\u001b[0mpattern\u001b[0m\u001b[0;34m)\u001b[0m\u001b[0;34m\u001b[0m\u001b[0;34m\u001b[0m\u001b[0m\n\u001b[0;32m--> 343\u001b[0;31m         return self.expect_list(compiled_pattern_list,\n\u001b[0m\u001b[1;32m    344\u001b[0m                 timeout, searchwindowsize, async_)\n",
      "\u001b[0;32m/opt/SageMath/SageMath/local/lib/python3.9/site-packages/pexpect/spawnbase.py\u001b[0m in \u001b[0;36mexpect_list\u001b[0;34m(self, pattern_list, timeout, searchwindowsize, async_, **kw)\u001b[0m\n\u001b[1;32m    371\u001b[0m         \u001b[0;32melse\u001b[0m\u001b[0;34m:\u001b[0m\u001b[0;34m\u001b[0m\u001b[0;34m\u001b[0m\u001b[0m\n\u001b[0;32m--> 372\u001b[0;31m             \u001b[0;32mreturn\u001b[0m \u001b[0mexp\u001b[0m\u001b[0;34m.\u001b[0m\u001b[0mexpect_loop\u001b[0m\u001b[0;34m(\u001b[0m\u001b[0mtimeout\u001b[0m\u001b[0;34m)\u001b[0m\u001b[0;34m\u001b[0m\u001b[0;34m\u001b[0m\u001b[0m\n\u001b[0m\u001b[1;32m    373\u001b[0m \u001b[0;34m\u001b[0m\u001b[0m\n",
      "\u001b[0;32m/opt/SageMath/SageMath/local/lib/python3.9/site-packages/pexpect/expect.py\u001b[0m in \u001b[0;36mexpect_loop\u001b[0;34m(self, timeout)\u001b[0m\n\u001b[1;32m    168\u001b[0m                 \u001b[0;31m# Still have time left, so read more data\u001b[0m\u001b[0;34m\u001b[0m\u001b[0;34m\u001b[0m\u001b[0;34m\u001b[0m\u001b[0m\n\u001b[0;32m--> 169\u001b[0;31m                 \u001b[0mincoming\u001b[0m \u001b[0;34m=\u001b[0m \u001b[0mspawn\u001b[0m\u001b[0;34m.\u001b[0m\u001b[0mread_nonblocking\u001b[0m\u001b[0;34m(\u001b[0m\u001b[0mspawn\u001b[0m\u001b[0;34m.\u001b[0m\u001b[0mmaxread\u001b[0m\u001b[0;34m,\u001b[0m \u001b[0mtimeout\u001b[0m\u001b[0;34m)\u001b[0m\u001b[0;34m\u001b[0m\u001b[0;34m\u001b[0m\u001b[0m\n\u001b[0m\u001b[1;32m    170\u001b[0m                 \u001b[0;32mif\u001b[0m \u001b[0mself\u001b[0m\u001b[0;34m.\u001b[0m\u001b[0mspawn\u001b[0m\u001b[0;34m.\u001b[0m\u001b[0mdelayafterread\u001b[0m \u001b[0;32mis\u001b[0m \u001b[0;32mnot\u001b[0m \u001b[0;32mNone\u001b[0m\u001b[0;34m:\u001b[0m\u001b[0;34m\u001b[0m\u001b[0;34m\u001b[0m\u001b[0m\n",
      "\u001b[0;32m/opt/SageMath/SageMath/local/lib/python3.9/site-packages/pexpect/pty_spawn.py\u001b[0m in \u001b[0;36mread_nonblocking\u001b[0;34m(self, size, timeout)\u001b[0m\n\u001b[1;32m    499\u001b[0m         \u001b[0;31m# (possibly timeout=None), we call select() with a timeout.\u001b[0m\u001b[0;34m\u001b[0m\u001b[0;34m\u001b[0m\u001b[0;34m\u001b[0m\u001b[0m\n\u001b[0;32m--> 500\u001b[0;31m         \u001b[0;32mif\u001b[0m \u001b[0;34m(\u001b[0m\u001b[0mtimeout\u001b[0m \u001b[0;34m!=\u001b[0m \u001b[0;36m0\u001b[0m\u001b[0;34m)\u001b[0m \u001b[0;32mand\u001b[0m \u001b[0mselect\u001b[0m\u001b[0;34m(\u001b[0m\u001b[0mtimeout\u001b[0m\u001b[0;34m)\u001b[0m\u001b[0;34m:\u001b[0m\u001b[0;34m\u001b[0m\u001b[0;34m\u001b[0m\u001b[0m\n\u001b[0m\u001b[1;32m    501\u001b[0m             \u001b[0;32mreturn\u001b[0m \u001b[0msuper\u001b[0m\u001b[0;34m(\u001b[0m\u001b[0mspawn\u001b[0m\u001b[0;34m,\u001b[0m \u001b[0mself\u001b[0m\u001b[0;34m)\u001b[0m\u001b[0;34m.\u001b[0m\u001b[0mread_nonblocking\u001b[0m\u001b[0;34m(\u001b[0m\u001b[0msize\u001b[0m\u001b[0;34m)\u001b[0m\u001b[0;34m\u001b[0m\u001b[0;34m\u001b[0m\u001b[0m\n",
      "\u001b[0;32m/opt/SageMath/SageMath/local/lib/python3.9/site-packages/pexpect/pty_spawn.py\u001b[0m in \u001b[0;36mselect\u001b[0;34m(timeout)\u001b[0m\n\u001b[1;32m    449\u001b[0m             \u001b[0;32mdef\u001b[0m \u001b[0mselect\u001b[0m\u001b[0;34m(\u001b[0m\u001b[0mtimeout\u001b[0m\u001b[0;34m)\u001b[0m\u001b[0;34m:\u001b[0m\u001b[0;34m\u001b[0m\u001b[0;34m\u001b[0m\u001b[0m\n\u001b[0;32m--> 450\u001b[0;31m                 \u001b[0;32mreturn\u001b[0m \u001b[0mselect_ignore_interrupts\u001b[0m\u001b[0;34m(\u001b[0m\u001b[0;34m[\u001b[0m\u001b[0mself\u001b[0m\u001b[0;34m.\u001b[0m\u001b[0mchild_fd\u001b[0m\u001b[0;34m]\u001b[0m\u001b[0;34m,\u001b[0m \u001b[0;34m[\u001b[0m\u001b[0;34m]\u001b[0m\u001b[0;34m,\u001b[0m \u001b[0;34m[\u001b[0m\u001b[0;34m]\u001b[0m\u001b[0;34m,\u001b[0m \u001b[0mtimeout\u001b[0m\u001b[0;34m)\u001b[0m\u001b[0;34m[\u001b[0m\u001b[0;36m0\u001b[0m\u001b[0;34m]\u001b[0m\u001b[0;34m\u001b[0m\u001b[0;34m\u001b[0m\u001b[0m\n\u001b[0m\u001b[1;32m    451\u001b[0m \u001b[0;34m\u001b[0m\u001b[0m\n",
      "\u001b[0;32m/opt/SageMath/SageMath/local/lib/python3.9/site-packages/pexpect/utils.py\u001b[0m in \u001b[0;36mselect_ignore_interrupts\u001b[0;34m(iwtd, owtd, ewtd, timeout)\u001b[0m\n\u001b[1;32m    142\u001b[0m         \u001b[0;32mtry\u001b[0m\u001b[0;34m:\u001b[0m\u001b[0;34m\u001b[0m\u001b[0;34m\u001b[0m\u001b[0m\n\u001b[0;32m--> 143\u001b[0;31m             \u001b[0;32mreturn\u001b[0m \u001b[0mselect\u001b[0m\u001b[0;34m.\u001b[0m\u001b[0mselect\u001b[0m\u001b[0;34m(\u001b[0m\u001b[0miwtd\u001b[0m\u001b[0;34m,\u001b[0m \u001b[0mowtd\u001b[0m\u001b[0;34m,\u001b[0m \u001b[0mewtd\u001b[0m\u001b[0;34m,\u001b[0m \u001b[0mtimeout\u001b[0m\u001b[0;34m)\u001b[0m\u001b[0;34m\u001b[0m\u001b[0;34m\u001b[0m\u001b[0m\n\u001b[0m\u001b[1;32m    144\u001b[0m         \u001b[0;32mexcept\u001b[0m \u001b[0mInterruptedError\u001b[0m\u001b[0;34m:\u001b[0m\u001b[0;34m\u001b[0m\u001b[0;34m\u001b[0m\u001b[0m\n",
      "\u001b[0;32msrc/cysignals/signals.pyx\u001b[0m in \u001b[0;36mcysignals.signals.python_check_interrupt\u001b[0;34m()\u001b[0m\n",
      "\u001b[0;31mKeyboardInterrupt\u001b[0m: ",
      "\nDuring handling of the above exception, another exception occurred:\n",
      "\u001b[0;31mKeyboardInterrupt\u001b[0m                         Traceback (most recent call last)",
      "\u001b[0;32m<ipython-input-11-dc4d9719402d>\u001b[0m in \u001b[0;36m<module>\u001b[0;34m\u001b[0m\n\u001b[1;32m      1\u001b[0m \u001b[0mc_val\u001b[0m \u001b[0;34m=\u001b[0m \u001b[0mInteger\u001b[0m\u001b[0;34m(\u001b[0m\u001b[0;36m100\u001b[0m\u001b[0;34m)\u001b[0m\u001b[0;34m\u001b[0m\u001b[0;34m\u001b[0m\u001b[0m\n\u001b[1;32m      2\u001b[0m \u001b[0mexpr_plot\u001b[0m \u001b[0;34m=\u001b[0m \u001b[0mexpr\u001b[0m\u001b[0;34m.\u001b[0m\u001b[0msubs\u001b[0m\u001b[0;34m(\u001b[0m\u001b[0mc\u001b[0m\u001b[0;34m=\u001b[0m\u001b[0mc_val\u001b[0m\u001b[0;34m,\u001b[0m\u001b[0mC\u001b[0m\u001b[0;34m=\u001b[0m\u001b[0mInteger\u001b[0m\u001b[0;34m(\u001b[0m\u001b[0;36m100\u001b[0m\u001b[0;34m)\u001b[0m\u001b[0;34m*\u001b[0m\u001b[0mc_val\u001b[0m\u001b[0;34m,\u001b[0m\u001b[0mR_f\u001b[0m\u001b[0;34m=\u001b[0m\u001b[0mInteger\u001b[0m\u001b[0;34m(\u001b[0m\u001b[0;36m1\u001b[0m\u001b[0;34m)\u001b[0m\u001b[0;34m,\u001b[0m\u001b[0mr_g\u001b[0m\u001b[0;34m=\u001b[0m\u001b[0mRealNumber\u001b[0m\u001b[0;34m(\u001b[0m\u001b[0;34m'0.1'\u001b[0m\u001b[0;34m)\u001b[0m\u001b[0;34m,\u001b[0m\u001b[0mr_f\u001b[0m\u001b[0;34m=\u001b[0m\u001b[0mRealNumber\u001b[0m\u001b[0;34m(\u001b[0m\u001b[0;34m'0.1'\u001b[0m\u001b[0;34m)\u001b[0m\u001b[0;34m)\u001b[0m\u001b[0;34m\u001b[0m\u001b[0;34m\u001b[0m\u001b[0m\n\u001b[0;32m----> 3\u001b[0;31m \u001b[0mexpr_plot\u001b[0m \u001b[0;34m=\u001b[0m \u001b[0mMMA_simplify\u001b[0m\u001b[0;34m(\u001b[0m\u001b[0mexpr_plot\u001b[0m\u001b[0;34m,\u001b[0m\u001b[0mfull\u001b[0m\u001b[0;34m=\u001b[0m\u001b[0;32mTrue\u001b[0m\u001b[0;34m)\u001b[0m\u001b[0;34m\u001b[0m\u001b[0;34m\u001b[0m\u001b[0m\n\u001b[0m\u001b[1;32m      4\u001b[0m \u001b[0;34m\u001b[0m\u001b[0m\n\u001b[1;32m      5\u001b[0m \u001b[0;31m#show(expr_plot)\u001b[0m\u001b[0;34m\u001b[0m\u001b[0;34m\u001b[0m\u001b[0;34m\u001b[0m\u001b[0m\n",
      "\u001b[0;32m~/Thesis/Code/Yorgos_Thesis/functions.py\u001b[0m in \u001b[0;36mMMA_simplify\u001b[0;34m(expr, full)\u001b[0m\n\u001b[1;32m    107\u001b[0m     '''\n\u001b[1;32m    108\u001b[0m     \u001b[0;32mif\u001b[0m \u001b[0mfull\u001b[0m\u001b[0;34m==\u001b[0m\u001b[0;32mTrue\u001b[0m\u001b[0;34m:\u001b[0m\u001b[0;34m\u001b[0m\u001b[0;34m\u001b[0m\u001b[0m\n\u001b[0;32m--> 109\u001b[0;31m         \u001b[0mexpr_simpl_m\u001b[0m  \u001b[0;34m=\u001b[0m  \u001b[0mexpr\u001b[0m\u001b[0;34m.\u001b[0m\u001b[0m_mathematica_\u001b[0m\u001b[0;34m(\u001b[0m\u001b[0;34m)\u001b[0m\u001b[0;34m.\u001b[0m\u001b[0mFullSimplify\u001b[0m\u001b[0;34m(\u001b[0m\u001b[0;34m)\u001b[0m\u001b[0;34m\u001b[0m\u001b[0;34m\u001b[0m\u001b[0m\n\u001b[0m\u001b[1;32m    110\u001b[0m     \u001b[0;32melse\u001b[0m\u001b[0;34m:\u001b[0m\u001b[0;34m\u001b[0m\u001b[0;34m\u001b[0m\u001b[0m\n\u001b[1;32m    111\u001b[0m         \u001b[0mexpr_simpl_m\u001b[0m  \u001b[0;34m=\u001b[0m  \u001b[0mexpr\u001b[0m\u001b[0;34m.\u001b[0m\u001b[0m_mathematica_\u001b[0m\u001b[0;34m(\u001b[0m\u001b[0;34m)\u001b[0m\u001b[0;34m.\u001b[0m\u001b[0mSimplify\u001b[0m\u001b[0;34m(\u001b[0m\u001b[0;34m)\u001b[0m\u001b[0;34m\u001b[0m\u001b[0;34m\u001b[0m\u001b[0m\n",
      "\u001b[0;32m/opt/SageMath/SageMath/local/lib/python3.9/site-packages/sage/interfaces/interface.py\u001b[0m in \u001b[0;36m__call__\u001b[0;34m(self, *args, **kwds)\u001b[0m\n\u001b[1;32m    677\u001b[0m \u001b[0;34m\u001b[0m\u001b[0m\n\u001b[1;32m    678\u001b[0m     \u001b[0;32mdef\u001b[0m \u001b[0m__call__\u001b[0m\u001b[0;34m(\u001b[0m\u001b[0mself\u001b[0m\u001b[0;34m,\u001b[0m \u001b[0;34m*\u001b[0m\u001b[0margs\u001b[0m\u001b[0;34m,\u001b[0m \u001b[0;34m**\u001b[0m\u001b[0mkwds\u001b[0m\u001b[0;34m)\u001b[0m\u001b[0;34m:\u001b[0m\u001b[0;34m\u001b[0m\u001b[0;34m\u001b[0m\u001b[0m\n\u001b[0;32m--> 679\u001b[0;31m         \u001b[0;32mreturn\u001b[0m \u001b[0mself\u001b[0m\u001b[0;34m.\u001b[0m\u001b[0m_obj\u001b[0m\u001b[0;34m.\u001b[0m\u001b[0mparent\u001b[0m\u001b[0;34m(\u001b[0m\u001b[0;34m)\u001b[0m\u001b[0;34m.\u001b[0m\u001b[0mfunction_call\u001b[0m\u001b[0;34m(\u001b[0m\u001b[0mself\u001b[0m\u001b[0;34m.\u001b[0m\u001b[0m_name\u001b[0m\u001b[0;34m,\u001b[0m \u001b[0;34m[\u001b[0m\u001b[0mself\u001b[0m\u001b[0;34m.\u001b[0m\u001b[0m_obj\u001b[0m\u001b[0;34m]\u001b[0m \u001b[0;34m+\u001b[0m \u001b[0mlist\u001b[0m\u001b[0;34m(\u001b[0m\u001b[0margs\u001b[0m\u001b[0;34m)\u001b[0m\u001b[0;34m,\u001b[0m \u001b[0mkwds\u001b[0m\u001b[0;34m)\u001b[0m\u001b[0;34m\u001b[0m\u001b[0;34m\u001b[0m\u001b[0m\n\u001b[0m\u001b[1;32m    680\u001b[0m \u001b[0;34m\u001b[0m\u001b[0m\n\u001b[1;32m    681\u001b[0m     \u001b[0;32mdef\u001b[0m \u001b[0mhelp\u001b[0m\u001b[0;34m(\u001b[0m\u001b[0mself\u001b[0m\u001b[0;34m)\u001b[0m\u001b[0;34m:\u001b[0m\u001b[0;34m\u001b[0m\u001b[0;34m\u001b[0m\u001b[0m\n",
      "\u001b[0;32m/opt/SageMath/SageMath/local/lib/python3.9/site-packages/sage/interfaces/interface.py\u001b[0m in \u001b[0;36mfunction_call\u001b[0;34m(self, function, args, kwds)\u001b[0m\n\u001b[1;32m    598\u001b[0m                                        \u001b[0;34m[\u001b[0m\u001b[0ms\u001b[0m\u001b[0;34m.\u001b[0m\u001b[0mname\u001b[0m\u001b[0;34m(\u001b[0m\u001b[0;34m)\u001b[0m \u001b[0;32mfor\u001b[0m \u001b[0ms\u001b[0m \u001b[0;32min\u001b[0m \u001b[0margs\u001b[0m\u001b[0;34m]\u001b[0m\u001b[0;34m,\u001b[0m\u001b[0;34m\u001b[0m\u001b[0;34m\u001b[0m\u001b[0m\n\u001b[1;32m    599\u001b[0m                                        ['%s=%s'%(key,value.name()) for key, value in kwds.items()])\n\u001b[0;32m--> 600\u001b[0;31m         \u001b[0;32mreturn\u001b[0m \u001b[0mself\u001b[0m\u001b[0;34m.\u001b[0m\u001b[0mnew\u001b[0m\u001b[0;34m(\u001b[0m\u001b[0ms\u001b[0m\u001b[0;34m)\u001b[0m\u001b[0;34m\u001b[0m\u001b[0;34m\u001b[0m\u001b[0m\n\u001b[0m\u001b[1;32m    601\u001b[0m \u001b[0;34m\u001b[0m\u001b[0m\n\u001b[1;32m    602\u001b[0m     \u001b[0;32mdef\u001b[0m \u001b[0m_function_call_string\u001b[0m\u001b[0;34m(\u001b[0m\u001b[0mself\u001b[0m\u001b[0;34m,\u001b[0m \u001b[0mfunction\u001b[0m\u001b[0;34m,\u001b[0m \u001b[0margs\u001b[0m\u001b[0;34m,\u001b[0m \u001b[0mkwds\u001b[0m\u001b[0;34m)\u001b[0m\u001b[0;34m:\u001b[0m\u001b[0;34m\u001b[0m\u001b[0;34m\u001b[0m\u001b[0m\n",
      "\u001b[0;32m/opt/SageMath/SageMath/local/lib/python3.9/site-packages/sage/interfaces/interface.py\u001b[0m in \u001b[0;36mnew\u001b[0;34m(self, code)\u001b[0m\n\u001b[1;32m    367\u001b[0m \u001b[0;34m\u001b[0m\u001b[0m\n\u001b[1;32m    368\u001b[0m     \u001b[0;32mdef\u001b[0m \u001b[0mnew\u001b[0m\u001b[0;34m(\u001b[0m\u001b[0mself\u001b[0m\u001b[0;34m,\u001b[0m \u001b[0mcode\u001b[0m\u001b[0;34m)\u001b[0m\u001b[0;34m:\u001b[0m\u001b[0;34m\u001b[0m\u001b[0;34m\u001b[0m\u001b[0m\n\u001b[0;32m--> 369\u001b[0;31m         \u001b[0;32mreturn\u001b[0m \u001b[0mself\u001b[0m\u001b[0;34m(\u001b[0m\u001b[0mcode\u001b[0m\u001b[0;34m)\u001b[0m\u001b[0;34m\u001b[0m\u001b[0;34m\u001b[0m\u001b[0m\n\u001b[0m\u001b[1;32m    370\u001b[0m \u001b[0;34m\u001b[0m\u001b[0m\n\u001b[1;32m    371\u001b[0m     \u001b[0;31m###################################################################\u001b[0m\u001b[0;34m\u001b[0m\u001b[0;34m\u001b[0m\u001b[0;34m\u001b[0m\u001b[0m\n",
      "\u001b[0;32m/opt/SageMath/SageMath/local/lib/python3.9/site-packages/sage/interfaces/interface.py\u001b[0m in \u001b[0;36m__call__\u001b[0;34m(self, x, name)\u001b[0m\n\u001b[1;32m    293\u001b[0m \u001b[0;34m\u001b[0m\u001b[0m\n\u001b[1;32m    294\u001b[0m         \u001b[0;32mif\u001b[0m \u001b[0misinstance\u001b[0m\u001b[0;34m(\u001b[0m\u001b[0mx\u001b[0m\u001b[0;34m,\u001b[0m \u001b[0mstr\u001b[0m\u001b[0;34m)\u001b[0m\u001b[0;34m:\u001b[0m\u001b[0;34m\u001b[0m\u001b[0;34m\u001b[0m\u001b[0m\n\u001b[0;32m--> 295\u001b[0;31m             \u001b[0;32mreturn\u001b[0m \u001b[0mcls\u001b[0m\u001b[0;34m(\u001b[0m\u001b[0mself\u001b[0m\u001b[0;34m,\u001b[0m \u001b[0mx\u001b[0m\u001b[0;34m,\u001b[0m \u001b[0mname\u001b[0m\u001b[0;34m=\u001b[0m\u001b[0mname\u001b[0m\u001b[0;34m)\u001b[0m\u001b[0;34m\u001b[0m\u001b[0;34m\u001b[0m\u001b[0m\n\u001b[0m\u001b[1;32m    296\u001b[0m         \u001b[0;32mtry\u001b[0m\u001b[0;34m:\u001b[0m\u001b[0;34m\u001b[0m\u001b[0;34m\u001b[0m\u001b[0m\n\u001b[1;32m    297\u001b[0m             \u001b[0;31m# Special methods do not and should not have an option to\u001b[0m\u001b[0;34m\u001b[0m\u001b[0;34m\u001b[0m\u001b[0;34m\u001b[0m\u001b[0m\n",
      "\u001b[0;32m/opt/SageMath/SageMath/local/lib/python3.9/site-packages/sage/interfaces/expect.py\u001b[0m in \u001b[0;36m__init__\u001b[0;34m(self, parent, value, is_name, name)\u001b[0m\n\u001b[1;32m   1466\u001b[0m         \u001b[0;32melse\u001b[0m\u001b[0;34m:\u001b[0m\u001b[0;34m\u001b[0m\u001b[0;34m\u001b[0m\u001b[0m\n\u001b[1;32m   1467\u001b[0m             \u001b[0;32mtry\u001b[0m\u001b[0;34m:\u001b[0m\u001b[0;34m\u001b[0m\u001b[0;34m\u001b[0m\u001b[0m\n\u001b[0;32m-> 1468\u001b[0;31m                 \u001b[0mself\u001b[0m\u001b[0;34m.\u001b[0m\u001b[0m_name\u001b[0m \u001b[0;34m=\u001b[0m \u001b[0mparent\u001b[0m\u001b[0;34m.\u001b[0m\u001b[0m_create\u001b[0m\u001b[0;34m(\u001b[0m\u001b[0mvalue\u001b[0m\u001b[0;34m,\u001b[0m \u001b[0mname\u001b[0m\u001b[0;34m=\u001b[0m\u001b[0mname\u001b[0m\u001b[0;34m)\u001b[0m\u001b[0;34m\u001b[0m\u001b[0;34m\u001b[0m\u001b[0m\n\u001b[0m\u001b[1;32m   1469\u001b[0m             \u001b[0;31m# Convert ValueError and RuntimeError to TypeError for\u001b[0m\u001b[0;34m\u001b[0m\u001b[0;34m\u001b[0m\u001b[0;34m\u001b[0m\u001b[0m\n\u001b[1;32m   1470\u001b[0m             \u001b[0;31m# coercion to work properly.\u001b[0m\u001b[0;34m\u001b[0m\u001b[0;34m\u001b[0m\u001b[0;34m\u001b[0m\u001b[0m\n",
      "\u001b[0;32m/opt/SageMath/SageMath/local/lib/python3.9/site-packages/sage/interfaces/interface.py\u001b[0m in \u001b[0;36m_create\u001b[0;34m(self, value, name)\u001b[0m\n\u001b[1;32m    498\u001b[0m     \u001b[0;32mdef\u001b[0m \u001b[0m_create\u001b[0m\u001b[0;34m(\u001b[0m\u001b[0mself\u001b[0m\u001b[0;34m,\u001b[0m \u001b[0mvalue\u001b[0m\u001b[0;34m,\u001b[0m \u001b[0mname\u001b[0m\u001b[0;34m=\u001b[0m\u001b[0;32mNone\u001b[0m\u001b[0;34m)\u001b[0m\u001b[0;34m:\u001b[0m\u001b[0;34m\u001b[0m\u001b[0;34m\u001b[0m\u001b[0m\n\u001b[1;32m    499\u001b[0m         \u001b[0mname\u001b[0m \u001b[0;34m=\u001b[0m \u001b[0mself\u001b[0m\u001b[0;34m.\u001b[0m\u001b[0m_next_var_name\u001b[0m\u001b[0;34m(\u001b[0m\u001b[0;34m)\u001b[0m \u001b[0;32mif\u001b[0m \u001b[0mname\u001b[0m \u001b[0;32mis\u001b[0m \u001b[0;32mNone\u001b[0m \u001b[0;32melse\u001b[0m \u001b[0mname\u001b[0m\u001b[0;34m\u001b[0m\u001b[0;34m\u001b[0m\u001b[0m\n\u001b[0;32m--> 500\u001b[0;31m         \u001b[0mself\u001b[0m\u001b[0;34m.\u001b[0m\u001b[0mset\u001b[0m\u001b[0;34m(\u001b[0m\u001b[0mname\u001b[0m\u001b[0;34m,\u001b[0m \u001b[0mvalue\u001b[0m\u001b[0;34m)\u001b[0m\u001b[0;34m\u001b[0m\u001b[0;34m\u001b[0m\u001b[0m\n\u001b[0m\u001b[1;32m    501\u001b[0m         \u001b[0;32mreturn\u001b[0m \u001b[0mname\u001b[0m\u001b[0;34m\u001b[0m\u001b[0;34m\u001b[0m\u001b[0m\n\u001b[1;32m    502\u001b[0m \u001b[0;34m\u001b[0m\u001b[0m\n",
      "\u001b[0;32m/opt/SageMath/SageMath/local/lib/python3.9/site-packages/sage/interfaces/mathematica.py\u001b[0m in \u001b[0;36mset\u001b[0;34m(self, var, value)\u001b[0m\n\u001b[1;32m    579\u001b[0m         \u001b[0mcmd\u001b[0m \u001b[0;34m=\u001b[0m \u001b[0;34m'%s=%s;'\u001b[0m\u001b[0;34m%\u001b[0m\u001b[0;34m(\u001b[0m\u001b[0mvar\u001b[0m\u001b[0;34m,\u001b[0m\u001b[0mvalue\u001b[0m\u001b[0;34m)\u001b[0m\u001b[0;34m\u001b[0m\u001b[0;34m\u001b[0m\u001b[0m\n\u001b[1;32m    580\u001b[0m         \u001b[0;31m#out = self.eval(cmd)\u001b[0m\u001b[0;34m\u001b[0m\u001b[0;34m\u001b[0m\u001b[0;34m\u001b[0m\u001b[0m\n\u001b[0;32m--> 581\u001b[0;31m         \u001b[0mout\u001b[0m \u001b[0;34m=\u001b[0m \u001b[0mself\u001b[0m\u001b[0;34m.\u001b[0m\u001b[0m_eval_line\u001b[0m\u001b[0;34m(\u001b[0m\u001b[0mcmd\u001b[0m\u001b[0;34m,\u001b[0m \u001b[0mallow_use_file\u001b[0m\u001b[0;34m=\u001b[0m\u001b[0;32mTrue\u001b[0m\u001b[0;34m)\u001b[0m\u001b[0;34m\u001b[0m\u001b[0;34m\u001b[0m\u001b[0m\n\u001b[0m\u001b[1;32m    582\u001b[0m         \u001b[0;32mif\u001b[0m \u001b[0mlen\u001b[0m\u001b[0;34m(\u001b[0m\u001b[0mout\u001b[0m\u001b[0;34m)\u001b[0m \u001b[0;34m>\u001b[0m \u001b[0;36m8\u001b[0m\u001b[0;34m:\u001b[0m\u001b[0;34m\u001b[0m\u001b[0;34m\u001b[0m\u001b[0m\n\u001b[1;32m    583\u001b[0m             \u001b[0;32mraise\u001b[0m \u001b[0mTypeError\u001b[0m\u001b[0;34m(\u001b[0m\u001b[0;34m\"Error executing code in Mathematica\\nCODE:\\n\\t%s\\nMathematica ERROR:\\n\\t%s\"\u001b[0m\u001b[0;34m%\u001b[0m\u001b[0;34m(\u001b[0m\u001b[0mcmd\u001b[0m\u001b[0;34m,\u001b[0m \u001b[0mout\u001b[0m\u001b[0;34m)\u001b[0m\u001b[0;34m)\u001b[0m\u001b[0;34m\u001b[0m\u001b[0;34m\u001b[0m\u001b[0m\n",
      "\u001b[0;32m/opt/SageMath/SageMath/local/lib/python3.9/site-packages/sage/interfaces/mathematica.py\u001b[0m in \u001b[0;36m_eval_line\u001b[0;34m(self, line, allow_use_file, wait_for_prompt, restart_if_needed)\u001b[0m\n\u001b[1;32m    605\u001b[0m \u001b[0;34m\u001b[0m\u001b[0m\n\u001b[1;32m    606\u001b[0m     \u001b[0;32mdef\u001b[0m \u001b[0m_eval_line\u001b[0m\u001b[0;34m(\u001b[0m\u001b[0mself\u001b[0m\u001b[0;34m,\u001b[0m \u001b[0mline\u001b[0m\u001b[0;34m,\u001b[0m  \u001b[0mallow_use_file\u001b[0m\u001b[0;34m=\u001b[0m\u001b[0;32mTrue\u001b[0m\u001b[0;34m,\u001b[0m \u001b[0mwait_for_prompt\u001b[0m\u001b[0;34m=\u001b[0m\u001b[0;32mTrue\u001b[0m\u001b[0;34m,\u001b[0m \u001b[0mrestart_if_needed\u001b[0m\u001b[0;34m=\u001b[0m\u001b[0;32mFalse\u001b[0m\u001b[0;34m)\u001b[0m\u001b[0;34m:\u001b[0m\u001b[0;34m\u001b[0m\u001b[0;34m\u001b[0m\u001b[0m\n\u001b[0;32m--> 607\u001b[0;31m         s = Expect._eval_line(self, line,\n\u001b[0m\u001b[1;32m    608\u001b[0m              allow_use_file=allow_use_file, wait_for_prompt=wait_for_prompt)\n\u001b[1;32m    609\u001b[0m         \u001b[0;32mreturn\u001b[0m \u001b[0mstr\u001b[0m\u001b[0;34m(\u001b[0m\u001b[0ms\u001b[0m\u001b[0;34m)\u001b[0m\u001b[0;34m.\u001b[0m\u001b[0mstrip\u001b[0m\u001b[0;34m(\u001b[0m\u001b[0;34m'\\n'\u001b[0m\u001b[0;34m)\u001b[0m\u001b[0;34m\u001b[0m\u001b[0;34m\u001b[0m\u001b[0m\n",
      "\u001b[0;32m/opt/SageMath/SageMath/local/lib/python3.9/site-packages/sage/interfaces/expect.py\u001b[0m in \u001b[0;36m_eval_line\u001b[0;34m(self, line, allow_use_file, wait_for_prompt, restart_if_needed)\u001b[0m\n\u001b[1;32m   1013\u001b[0m         \u001b[0;32mexcept\u001b[0m \u001b[0mKeyboardInterrupt\u001b[0m\u001b[0;34m:\u001b[0m\u001b[0;34m\u001b[0m\u001b[0;34m\u001b[0m\u001b[0m\n\u001b[1;32m   1014\u001b[0m             \u001b[0mself\u001b[0m\u001b[0;34m.\u001b[0m\u001b[0m_keyboard_interrupt\u001b[0m\u001b[0;34m(\u001b[0m\u001b[0;34m)\u001b[0m\u001b[0;34m\u001b[0m\u001b[0;34m\u001b[0m\u001b[0m\n\u001b[0;32m-> 1015\u001b[0;31m             \u001b[0;32mraise\u001b[0m \u001b[0mKeyboardInterrupt\u001b[0m\u001b[0;34m(\u001b[0m\u001b[0;34m\"Ctrl-c pressed while running %s\"\u001b[0m \u001b[0;34m%\u001b[0m \u001b[0mself\u001b[0m\u001b[0;34m)\u001b[0m\u001b[0;34m\u001b[0m\u001b[0;34m\u001b[0m\u001b[0m\n\u001b[0m\u001b[1;32m   1016\u001b[0m         \u001b[0;32mif\u001b[0m \u001b[0mself\u001b[0m\u001b[0;34m.\u001b[0m\u001b[0m_terminal_echo\u001b[0m\u001b[0;34m:\u001b[0m\u001b[0;34m\u001b[0m\u001b[0;34m\u001b[0m\u001b[0m\n\u001b[1;32m   1017\u001b[0m             \u001b[0mi\u001b[0m \u001b[0;34m=\u001b[0m \u001b[0mout\u001b[0m\u001b[0;34m.\u001b[0m\u001b[0mfind\u001b[0m\u001b[0;34m(\u001b[0m\u001b[0;34m\"\\n\"\u001b[0m\u001b[0;34m)\u001b[0m\u001b[0;34m\u001b[0m\u001b[0;34m\u001b[0m\u001b[0m\n",
      "\u001b[0;31mKeyboardInterrupt\u001b[0m: Ctrl-c pressed while running Mathematica"
     ]
    }
   ],
   "source": [
    "c_val = 100\n",
    "expr_plot = expr.subs(c=c_val,C=100*c_val,R_f=1,r_g=0.1,r_f=0.1)\n",
    "expr_plot = MMA_simplify(expr_plot,full=True)\n",
    "\n",
    "#show(expr_plot)\n",
    "\n",
    "plot(abs(expr_plot)/np.pi,(Deg1,-0.2,0.2),gridlines='minor' )\n"
   ]
  },
  {
   "cell_type": "code",
   "execution_count": 181,
   "id": "924c5e73",
   "metadata": {},
   "outputs": [
    {
     "data": {
      "text/plain": [
       "32.0100317169740 + 1.30171537507265e-10*I"
      ]
     },
     "execution_count": 181,
     "metadata": {},
     "output_type": "execute_result"
    }
   ],
   "source": [
    "expr_plot.subs(Deg1=1.2)/np.pi"
   ]
  },
  {
   "cell_type": "markdown",
   "id": "80d38bfe",
   "metadata": {},
   "source": [
    "# NOTES\n",
    "\n",
    "- We found it possible for:  \n",
    "\n",
    "`phi_val = 0\n",
    "c_val = 10000\n",
    "expr_plot = expr.subs(c=c_val,C=100*c_val,R_f=1,r_g=0.1,r_f=0.1)`\n",
    "\n",
    "with and without  sqrt scaling of Deg, but with 3pi rotation \n",
    "\n",
    "- Many possibilities from other `phi_val`"
   ]
  },
  {
   "cell_type": "markdown",
   "id": "1498df0a",
   "metadata": {},
   "source": [
    "# Lindblau Operators no $C \\longrightarrow \\infty$ limit\n",
    "\n",
    "Choose which of the Lindblau operators to view and which non zero element of it"
   ]
  },
  {
   "cell_type": "code",
   "execution_count": 252,
   "id": "847371b4",
   "metadata": {
    "scrolled": true
   },
   "outputs": [
    {
     "name": "stdout",
     "output_type": "stream",
     "text": [
      "0 out of 8\n",
      "1 out of 8\n",
      "2 out of 8\n",
      "3 out of 8\n",
      "4 out of 8\n",
      "5 out of 8\n",
      "6 out of 8\n",
      "7 out of 8\n",
      "8 out of 8\n"
     ]
    }
   ],
   "source": [
    "lind_op_number = len(s1.lindblau_list)\n",
    "\n",
    "eff_lind_taylor = []\n",
    "eff_lind = []\n",
    "eff_lind_coeff = []\n",
    "for lind_op in range(lind_op_number):\n",
    "    print(f'{lind_op} out of {lind_op_number-1}')\n",
    "    eff_lind_taylor.append([])\n",
    "    eff_lind.append([])\n",
    "    L_matrix = s1.eff_lindblau_list[lind_op]\n",
    "    L_nonzeros = []\n",
    "    L_nonzeros_pos = []\n",
    "    for i in  range(L_matrix.nrows()):\n",
    "        for j in  range(L_matrix.ncols()):\n",
    "            if not L_matrix[i,j].is_zero():\n",
    "                L_nonzeros.append(L_matrix[i,j])\n",
    "                L_nonzeros_pos.append((i,j))\n",
    "    eff_lind_coeff.append(s1.L_coeffs[lind_op])\n",
    "    for which in range(len(L_nonzeros)):\n",
    "\n",
    "        L_elem = L_nonzeros[which]\n",
    "\n",
    "        #L_elem = L_elem .subs(DE=gamma*1/2 * sqrt(r_f) * sqrt(4*R_f*C+r_f) + 0.5*I*gamma_g)\n",
    "        \n",
    "        #L_elem  = L_elem .subs(De=gamma^2*R_f*C/( 2* gamma*1/2 * sqrt(r_f) * sqrt(4*R_f*C+r_f) )  ) \n",
    "        L_elem = L_elem.subs(DE=+0.5*I*gamma_f + 0.5*I*gamma_g + DEt*gamma)\n",
    "        L_elem = L_elem.subs(De=+0.5*I*gamma   +Det*gamma)\n",
    "        \n",
    "        L_elem = L_elem.subs(DEt=C^n)\n",
    "        L_elem = L_elem.subs(Det=C^m)\n",
    "        #COUPLINGS\n",
    "\n",
    "        var('R_f',domain='positive')#ratio  (g_f/g)^2\n",
    "        L_elem = L_elem.subs(g_f=g*sqrt(R_f))\n",
    "\n",
    "\n",
    "        L_elem = L_elem.subs(v = sqrt(c*kappa_b*kappa_c))\n",
    "        \n",
    "        var('r_f',domain='positive',latex_name =r'r_f')\n",
    "        L_elem = L_elem.subs(gamma_f=gamma*r_f)\n",
    "        \n",
    "        var('r_g',domain='positive',latex_name =r'r_g')\n",
    "        L_elem = L_elem.subs(gamma_g=gamma*r_g)\n",
    "        \n",
    "        L_elem = L_elem.subs(g = sqrt(C*gamma*kappa_c)) \n",
    "\n",
    "        #substitutions\n",
    "        #L_elem = L_elem.subs(c=np.pi,R_f=1,Deg=np.e,DEg=np.sqrt(5),r_g=np.sqrt(3),r_f=np.sqrt(2),phi=phi_val)\n",
    "        #L_elem = L_elem.subs(phi=phi_val)\n",
    "        \n",
    "        L_elem = L_elem._mathematica_().Factor()._sage_()\n",
    "\n",
    "\n",
    "        L_elem = SR(str(L_elem).replace('Sqrt','sqrt'))\n",
    "        L_elem = MMA_simplify(L_elem)#,full=True)\n",
    "\n",
    "        L_elem = SR(str(L_elem).replace('Sqrt','sqrt'))\n",
    "        \n",
    "        L_elem_show = symround(L_elem)\n",
    "        \n",
    "        eff_lind[lind_op].append(L_elem_show)\n",
    "        \n",
    "        var('x')\n",
    "        '''\n",
    "        q = L_elem.subs(C=1/x)\n",
    "        q = MMA_simplify(q)\n",
    "        tayl = q._mathematica_().Series((x,0,1)).Normal()._sage_()\n",
    "        tayl = tayl.subs(x=1/C)\n",
    "        '''\n",
    "        tayl = L_elem\n",
    "        tayl = SR(str(tayl).replace('Sqrt','sqrt'))\n",
    "        tayl_show = symround(tayl)\n",
    "        \n",
    "        eff_lind_taylor[-1].append(tayl_show)"
   ]
  },
  {
   "cell_type": "markdown",
   "id": "f1ddbf1c",
   "metadata": {},
   "source": [
    "# See results"
   ]
  },
  {
   "cell_type": "code",
   "execution_count": 241,
   "id": "31f015d8",
   "metadata": {},
   "outputs": [
    {
     "data": {
      "text/html": [
       "<html><script type=\"math/tex; mode=display\">\\newcommand{\\Bold}[1]{\\mathbf{#1}}\\frac{\\sqrt{C} {\\Omega} \\sqrt{R_{f}} \\sqrt{{\\kappa_c}}}{\\sqrt{C {\\gamma} {\\kappa_c}} {\\left(\\sqrt{C} R_{f} + \\sqrt{C} + 0.50i\\right)}}</script></html>"
      ],
      "text/latex": [
       "$$\\newcommand{\\Bold}[1]{\\mathbf{#1}}\\frac{\\sqrt{C} {\\Omega} \\sqrt{R_{f}} \\sqrt{{\\kappa_c}}}{\\sqrt{C {\\gamma} {\\kappa_c}} {\\left(\\sqrt{C} R_{f} + \\sqrt{C} + 0.50i\\right)}}$$"
      ],
      "text/plain": [
       "sqrt(C)*Omega*sqrt(R_f)*sqrt(kappa_c)/(sqrt(C*gamma*kappa_c)*(sqrt(C)*R_f + sqrt(C) + 0.50*I))"
      ]
     },
     "metadata": {},
     "output_type": "display_data"
    },
    {
     "name": "stdout",
     "output_type": "stream",
     "text": [
      "coeff:\n"
     ]
    },
    {
     "data": {
      "text/html": [
       "<html><script type=\"math/tex; mode=display\">\\newcommand{\\Bold}[1]{\\mathbf{#1}}\\sqrt{{\\kappa_c}}</script></html>"
      ],
      "text/latex": [
       "$$\\newcommand{\\Bold}[1]{\\mathbf{#1}}\\sqrt{{\\kappa_c}}$$"
      ],
      "text/plain": [
       "sqrt(kappa_c)"
      ]
     },
     "metadata": {},
     "output_type": "display_data"
    }
   ],
   "source": [
    "lindop = 0\n",
    "#t_g = gamma/Omega^2 * C^0.5\n",
    "a = eff_lind_taylor[lindop][1]\n",
    "err = a#*conjugate(a)#*t_g\n",
    "err = SR(str(MMA_simplify( err,full=False )).replace('Sqrt','sqrt')).simplify()\n",
    "show( symround( err ,digits=1) )\n",
    "print(f'coeff:')\n",
    "show(eff_lind_coeff[lindop])"
   ]
  },
  {
   "cell_type": "code",
   "execution_count": 269,
   "id": "bc6f635a",
   "metadata": {},
   "outputs": [
    {
     "name": "stdout",
     "output_type": "stream",
     "text": [
      "symround: Deleted coefficient 2.2e-16\n",
      "symround: Deleted coefficient 2.2e-16\n"
     ]
    },
    {
     "data": {
      "text/html": [
       "<html><script type=\"math/tex; mode=display\">\\newcommand{\\Bold}[1]{\\mathbf{#1}}\\frac{{\\left({c} {\\left(\\sqrt{C} + 0.50i\\right)} - 0.50i \\, C + 0.50 \\, \\sqrt{C} + 0.12i\\right)} {\\left({c} {\\left(\\sqrt{C} - 0.50i\\right)} + 0.50i \\, C + 0.50 \\, \\sqrt{C} - 0.12i\\right)} {\\Omega}^{2} R_{f} {c}}{{\\left({c}^{2} {\\left(2 i \\, \\sqrt{C} - 1.5\\right)} + {\\left(i \\, \\sqrt{C} {\\left({c} + 0.25\\right)}^{2} + C {\\left({c} + 0.25\\right)} - 0.25i \\, C^{1.5}\\right)} R_{f} + {\\left(C + 1.5i \\, \\sqrt{C} - 0.50\\right)} {c} + 0.12 \\, C + 0.12i \\, \\sqrt{C} - 0.031\\right)} {\\left({c}^{2} {\\left(-2 i \\, \\sqrt{C} - 1.5\\right)} + {\\left(-i \\, \\sqrt{C} {\\left({c} + 0.25\\right)}^{2} + C {\\left({c} + 0.25\\right)} + 0.25i \\, C^{1.5}\\right)} R_{f} + {\\left(C - 1.5i \\, \\sqrt{C} - 0.50\\right)} {c} + 0.12 \\, C - 0.12i \\, \\sqrt{C} - 0.031\\right)} {\\gamma}}</script></html>"
      ],
      "text/latex": [
       "$$\\newcommand{\\Bold}[1]{\\mathbf{#1}}\\frac{{\\left({c} {\\left(\\sqrt{C} + 0.50i\\right)} - 0.50i \\, C + 0.50 \\, \\sqrt{C} + 0.12i\\right)} {\\left({c} {\\left(\\sqrt{C} - 0.50i\\right)} + 0.50i \\, C + 0.50 \\, \\sqrt{C} - 0.12i\\right)} {\\Omega}^{2} R_{f} {c}}{{\\left({c}^{2} {\\left(2 i \\, \\sqrt{C} - 1.5\\right)} + {\\left(i \\, \\sqrt{C} {\\left({c} + 0.25\\right)}^{2} + C {\\left({c} + 0.25\\right)} - 0.25i \\, C^{1.5}\\right)} R_{f} + {\\left(C + 1.5i \\, \\sqrt{C} - 0.50\\right)} {c} + 0.12 \\, C + 0.12i \\, \\sqrt{C} - 0.031\\right)} {\\left({c}^{2} {\\left(-2 i \\, \\sqrt{C} - 1.5\\right)} + {\\left(-i \\, \\sqrt{C} {\\left({c} + 0.25\\right)}^{2} + C {\\left({c} + 0.25\\right)} + 0.25i \\, C^{1.5}\\right)} R_{f} + {\\left(C - 1.5i \\, \\sqrt{C} - 0.50\\right)} {c} + 0.12 \\, C - 0.12i \\, \\sqrt{C} - 0.031\\right)} {\\gamma}}$$"
      ],
      "text/plain": [
       "(c*(sqrt(C) + 0.50*I) - 0.50*I*C + 0.50*sqrt(C) + 0.12*I)*(c*(sqrt(C) - 0.50*I) + 0.50*I*C + 0.50*sqrt(C) - 0.12*I)*Omega^2*R_f*c/((c^2*(2*I*sqrt(C) - 1.5) + (I*sqrt(C)*(c + 0.25)^2 + C*(c + 0.25) - 0.25*I*C^1.5)*R_f + (C + 1.5*I*sqrt(C) - 0.50)*c + 0.12*C + 0.12*I*sqrt(C) - 0.031)*(c^2*(-2*I*sqrt(C) - 1.5) + (-I*sqrt(C)*(c + 0.25)^2 + C*(c + 0.25) + 0.25*I*C^1.5)*R_f + (C - 1.5*I*sqrt(C) - 0.50)*c + 0.12*C - 0.12*I*sqrt(C) - 0.031)*gamma)"
      ]
     },
     "metadata": {},
     "output_type": "display_data"
    },
    {
     "name": "stdout",
     "output_type": "stream",
     "text": [
      "coeff:\n"
     ]
    },
    {
     "data": {
      "text/html": [
       "<html><script type=\"math/tex; mode=display\">\\newcommand{\\Bold}[1]{\\mathbf{#1}}\\sqrt{{\\kappa_b}}</script></html>"
      ],
      "text/latex": [
       "$$\\newcommand{\\Bold}[1]{\\mathbf{#1}}\\sqrt{{\\kappa_b}}$$"
      ],
      "text/plain": [
       "sqrt(kappa_b)"
      ]
     },
     "metadata": {},
     "output_type": "display_data"
    }
   ],
   "source": [
    "lindop = 2\n",
    "#t_g = gamma/Omega^2 * C^0.5\n",
    "a = eff_lind_taylor[lindop][3]\n",
    "err = a*conjugate(a)#*t_g\n",
    "err = SR(str(MMA_simplify( err,full=False )).replace('Sqrt','sqrt')).simplify()\n",
    "show( symround( err ,digits=1) )\n",
    "print(f'coeff:')\n",
    "show(eff_lind_coeff[lindop])"
   ]
  },
  {
   "cell_type": "code",
   "execution_count": 270,
   "id": "31ddb98f",
   "metadata": {},
   "outputs": [
    {
     "data": {
      "text/html": [
       "<html><script type=\"math/tex; mode=display\">\\newcommand{\\Bold}[1]{\\mathbf{#1}}C^{9} {\\Omega}^{2} R_{f} {\\gamma}^{5} {\\kappa_c}^{5} + C^{8} {\\Omega}^{2} R_{f} {\\gamma}^{5} {\\kappa_c}^{5} + 0.25 \\, C^{7} {\\Omega}^{2} R_{f} {\\gamma}^{5} {\\kappa_c}^{5} + 0.016 \\, C^{6} {\\Omega}^{2} R_{f} {\\gamma}^{5} {\\kappa_c}^{5}</script></html>"
      ],
      "text/latex": [
       "$$\\newcommand{\\Bold}[1]{\\mathbf{#1}}C^{9} {\\Omega}^{2} R_{f} {\\gamma}^{5} {\\kappa_c}^{5} + C^{8} {\\Omega}^{2} R_{f} {\\gamma}^{5} {\\kappa_c}^{5} + 0.25 \\, C^{7} {\\Omega}^{2} R_{f} {\\gamma}^{5} {\\kappa_c}^{5} + 0.016 \\, C^{6} {\\Omega}^{2} R_{f} {\\gamma}^{5} {\\kappa_c}^{5}$$"
      ],
      "text/plain": [
       "C^9*Omega^2*R_f*gamma^5*kappa_c^5 + C^8*Omega^2*R_f*gamma^5*kappa_c^5 + 0.25*C^7*Omega^2*R_f*gamma^5*kappa_c^5 + 0.016*C^6*Omega^2*R_f*gamma^5*kappa_c^5"
      ]
     },
     "metadata": {},
     "output_type": "display_data"
    }
   ],
   "source": [
    "show(symround(err.numerator().expand().subs(c=C)))"
   ]
  },
  {
   "cell_type": "code",
   "execution_count": 273,
   "id": "8f113cbf",
   "metadata": {},
   "outputs": [
    {
     "name": "stdout",
     "output_type": "stream",
     "text": [
      "symround: Deleted coefficient 4.4e-16\n",
      "symround: Deleted coefficient -2.2e-16\n",
      "symround: Deleted coefficient 3.3e-16\n",
      "symround: Deleted coefficient 4.9e-32\n",
      "symround: Deleted coefficient -2.8e-16\n",
      "symround: Deleted coefficient 8.3e-17\n",
      "symround: Deleted coefficient -1.1e-16\n",
      "symround: Deleted coefficient 6.9e-18\n",
      "symround: Deleted coefficient 3.1e-33\n",
      "symround: Deleted coefficient -1.7e-17\n",
      "symround: Deleted coefficient -8.7e-19\n"
     ]
    },
    {
     "data": {
      "text/html": [
       "<html><script type=\"math/tex; mode=display\">\\newcommand{\\Bold}[1]{\\mathbf{#1}}C^{10} R_{f}^{2} {\\gamma}^{6} {\\kappa_c}^{5} + 4 \\, C^{10} R_{f} {\\gamma}^{6} {\\kappa_c}^{5} + 1.5 \\, C^{9} R_{f}^{2} {\\gamma}^{6} {\\kappa_c}^{5} + 4 \\, C^{10} {\\gamma}^{6} {\\kappa_c}^{5} + 3 \\, C^{9} R_{f} {\\gamma}^{6} {\\kappa_c}^{5} + 0.69 \\, C^{8} R_{f}^{2} {\\gamma}^{6} {\\kappa_c}^{5} + 6.2 \\, C^{9} {\\gamma}^{6} {\\kappa_c}^{5} + 0.25 \\, C^{8} R_{f} {\\gamma}^{6} {\\kappa_c}^{5} + 0.094 \\, C^{7} R_{f}^{2} {\\gamma}^{6} {\\kappa_c}^{5} + 3.1 \\, C^{8} {\\gamma}^{6} {\\kappa_c}^{5} + 0.0039 \\, C^{6} R_{f}^{2} {\\gamma}^{6} {\\kappa_c}^{5} + 0.55 \\, C^{7} {\\gamma}^{6} {\\kappa_c}^{5} + 0.039 \\, C^{6} {\\gamma}^{6} {\\kappa_c}^{5} + 0.00098 \\, C^{5} {\\gamma}^{6} {\\kappa_c}^{5}</script></html>"
      ],
      "text/latex": [
       "$$\\newcommand{\\Bold}[1]{\\mathbf{#1}}C^{10} R_{f}^{2} {\\gamma}^{6} {\\kappa_c}^{5} + 4 \\, C^{10} R_{f} {\\gamma}^{6} {\\kappa_c}^{5} + 1.5 \\, C^{9} R_{f}^{2} {\\gamma}^{6} {\\kappa_c}^{5} + 4 \\, C^{10} {\\gamma}^{6} {\\kappa_c}^{5} + 3 \\, C^{9} R_{f} {\\gamma}^{6} {\\kappa_c}^{5} + 0.69 \\, C^{8} R_{f}^{2} {\\gamma}^{6} {\\kappa_c}^{5} + 6.2 \\, C^{9} {\\gamma}^{6} {\\kappa_c}^{5} + 0.25 \\, C^{8} R_{f} {\\gamma}^{6} {\\kappa_c}^{5} + 0.094 \\, C^{7} R_{f}^{2} {\\gamma}^{6} {\\kappa_c}^{5} + 3.1 \\, C^{8} {\\gamma}^{6} {\\kappa_c}^{5} + 0.0039 \\, C^{6} R_{f}^{2} {\\gamma}^{6} {\\kappa_c}^{5} + 0.55 \\, C^{7} {\\gamma}^{6} {\\kappa_c}^{5} + 0.039 \\, C^{6} {\\gamma}^{6} {\\kappa_c}^{5} + 0.00098 \\, C^{5} {\\gamma}^{6} {\\kappa_c}^{5}$$"
      ],
      "text/plain": [
       "C^10*R_f^2*gamma^6*kappa_c^5 + 4*C^10*R_f*gamma^6*kappa_c^5 + 1.5*C^9*R_f^2*gamma^6*kappa_c^5 + 4*C^10*gamma^6*kappa_c^5 + 3*C^9*R_f*gamma^6*kappa_c^5 + 0.69*C^8*R_f^2*gamma^6*kappa_c^5 + 6.2*C^9*gamma^6*kappa_c^5 + 0.25*C^8*R_f*gamma^6*kappa_c^5 + 0.094*C^7*R_f^2*gamma^6*kappa_c^5 + 3.1*C^8*gamma^6*kappa_c^5 + 0.0039*C^6*R_f^2*gamma^6*kappa_c^5 + 0.55*C^7*gamma^6*kappa_c^5 + 0.039*C^6*gamma^6*kappa_c^5 + 0.00098*C^5*gamma^6*kappa_c^5"
      ]
     },
     "metadata": {},
     "output_type": "display_data"
    }
   ],
   "source": [
    "show(symround(err.denominator().expand().subs(c=C)))"
   ]
  },
  {
   "cell_type": "code",
   "execution_count": null,
   "id": "af6015bc",
   "metadata": {},
   "outputs": [],
   "source": []
  },
  {
   "cell_type": "code",
   "execution_count": null,
   "id": "5b5b0d78",
   "metadata": {},
   "outputs": [],
   "source": []
  },
  {
   "cell_type": "code",
   "execution_count": null,
   "id": "6c3730a5",
   "metadata": {},
   "outputs": [],
   "source": []
  },
  {
   "cell_type": "code",
   "execution_count": 354,
   "id": "12d274d3",
   "metadata": {},
   "outputs": [],
   "source": []
  },
  {
   "cell_type": "code",
   "execution_count": 68,
   "id": "908ba80c",
   "metadata": {},
   "outputs": [
    {
     "data": {
      "text/html": [
       "<html><script type=\"math/tex; mode=display\">\\newcommand{\\Bold}[1]{\\mathbf{#1}}\\frac{A \\sqrt{C} {\\Omega}^{2}}{{\\left(4 \\, C^{2} R_{f}^{2} + A^{2} C\\right)} {\\gamma}}</script></html>"
      ],
      "text/latex": [
       "$$\\newcommand{\\Bold}[1]{\\mathbf{#1}}\\frac{A \\sqrt{C} {\\Omega}^{2}}{{\\left(4 \\, C^{2} R_{f}^{2} + A^{2} C\\right)} {\\gamma}}$$"
      ],
      "text/plain": [
       "A*sqrt(C)*Omega^2/((4*C^2*R_f^2 + A^2*C)*gamma)"
      ]
     },
     "metadata": {},
     "output_type": "display_data"
    },
    {
     "data": {
      "text/html": [
       "Numerator"
      ],
      "text/plain": [
       "'Numerator'"
      ]
     },
     "metadata": {},
     "output_type": "display_data"
    },
    {
     "data": {
      "text/html": [
       "<html><script type=\"math/tex; mode=display\">\\newcommand{\\Bold}[1]{\\mathbf{#1}}A \\sqrt{C} {\\Omega}^{2}</script></html>"
      ],
      "text/latex": [
       "$$\\newcommand{\\Bold}[1]{\\mathbf{#1}}A \\sqrt{C} {\\Omega}^{2}$$"
      ],
      "text/plain": [
       "A*sqrt(C)*Omega^2"
      ]
     },
     "metadata": {},
     "output_type": "display_data"
    },
    {
     "data": {
      "text/html": [
       "Denominator"
      ],
      "text/plain": [
       "'Denominator'"
      ]
     },
     "metadata": {},
     "output_type": "display_data"
    },
    {
     "data": {
      "text/html": [
       "<html><script type=\"math/tex; mode=display\">\\newcommand{\\Bold}[1]{\\mathbf{#1}}4 \\, C^{2} R_{f}^{2} {\\gamma} + A^{2} C {\\gamma}</script></html>"
      ],
      "text/latex": [
       "$$\\newcommand{\\Bold}[1]{\\mathbf{#1}}4 \\, C^{2} R_{f}^{2} {\\gamma} + A^{2} C {\\gamma}$$"
      ],
      "text/plain": [
       "4*C^2*R_f^2*gamma + A^2*C*gamma"
      ]
     },
     "metadata": {},
     "output_type": "display_data"
    }
   ],
   "source": [
    "i = 0\n",
    "show(symround(eff_hamiltonian_tayl[i,i].full_simplify()))\n",
    "show('Numerator')\n",
    "show(symround(eff_hamiltonian_tayl[i,i].full_simplify().numerator().expand()))\n",
    "show('Denominator')\n",
    "show(symround(eff_hamiltonian_tayl[i,i].full_simplify().denominator().expand()))"
   ]
  },
  {
   "cell_type": "code",
   "execution_count": 69,
   "id": "12ba2650",
   "metadata": {},
   "outputs": [
    {
     "data": {
      "text/html": [
       "<html><script type=\"math/tex; mode=display\">\\newcommand{\\Bold}[1]{\\mathbf{#1}}\\frac{{\\left(4 \\, B C {\\Omega}^{2} R_{f} + {\\left(A B^{2} + 4 \\, A C\\right)} {\\Omega}^{2}\\right)} \\sqrt{C}}{{\\left(4 \\, B^{2} C^{2} R_{f}^{2} + A^{2} B^{2} C + 8 \\, A B C^{2} R_{f} + 4 \\, A^{2} C^{2}\\right)} {\\gamma}}</script></html>"
      ],
      "text/latex": [
       "$$\\newcommand{\\Bold}[1]{\\mathbf{#1}}\\frac{{\\left(4 \\, B C {\\Omega}^{2} R_{f} + {\\left(A B^{2} + 4 \\, A C\\right)} {\\Omega}^{2}\\right)} \\sqrt{C}}{{\\left(4 \\, B^{2} C^{2} R_{f}^{2} + A^{2} B^{2} C + 8 \\, A B C^{2} R_{f} + 4 \\, A^{2} C^{2}\\right)} {\\gamma}}$$"
      ],
      "text/plain": [
       "(4*B*C*Omega^2*R_f + (A*B^2 + 4*A*C)*Omega^2)*sqrt(C)/((4*B^2*C^2*R_f^2 + A^2*B^2*C + 8*A*B*C^2*R_f + 4*A^2*C^2)*gamma)"
      ]
     },
     "metadata": {},
     "output_type": "display_data"
    },
    {
     "data": {
      "text/html": [
       "Numerator"
      ],
      "text/plain": [
       "'Numerator'"
      ]
     },
     "metadata": {},
     "output_type": "display_data"
    },
    {
     "data": {
      "text/html": [
       "<html><script type=\"math/tex; mode=display\">\\newcommand{\\Bold}[1]{\\mathbf{#1}}A B^{2} \\sqrt{C} {\\Omega}^{2} + 4 \\, B C^{1.5} {\\Omega}^{2} R_{f} + 4 \\, A C^{1.5} {\\Omega}^{2}</script></html>"
      ],
      "text/latex": [
       "$$\\newcommand{\\Bold}[1]{\\mathbf{#1}}A B^{2} \\sqrt{C} {\\Omega}^{2} + 4 \\, B C^{1.5} {\\Omega}^{2} R_{f} + 4 \\, A C^{1.5} {\\Omega}^{2}$$"
      ],
      "text/plain": [
       "A*B^2*sqrt(C)*Omega^2 + 4*B*C^1.5*Omega^2*R_f + 4*A*C^1.5*Omega^2"
      ]
     },
     "metadata": {},
     "output_type": "display_data"
    },
    {
     "data": {
      "text/html": [
       "Denominator"
      ],
      "text/plain": [
       "'Denominator'"
      ]
     },
     "metadata": {},
     "output_type": "display_data"
    },
    {
     "data": {
      "text/html": [
       "<html><script type=\"math/tex; mode=display\">\\newcommand{\\Bold}[1]{\\mathbf{#1}}4 \\, B^{2} C^{2} R_{f}^{2} {\\gamma} + A^{2} B^{2} C {\\gamma} + 8 \\, A B C^{2} R_{f} {\\gamma} + 4 \\, A^{2} C^{2} {\\gamma}</script></html>"
      ],
      "text/latex": [
       "$$\\newcommand{\\Bold}[1]{\\mathbf{#1}}4 \\, B^{2} C^{2} R_{f}^{2} {\\gamma} + A^{2} B^{2} C {\\gamma} + 8 \\, A B C^{2} R_{f} {\\gamma} + 4 \\, A^{2} C^{2} {\\gamma}$$"
      ],
      "text/plain": [
       "4*B^2*C^2*R_f^2*gamma + A^2*B^2*C*gamma + 8*A*B*C^2*R_f*gamma + 4*A^2*C^2*gamma"
      ]
     },
     "metadata": {},
     "output_type": "display_data"
    }
   ],
   "source": [
    "i = 1\n",
    "show(symround(eff_hamiltonian_tayl[i,i].full_simplify()))\n",
    "show('Numerator')\n",
    "show(symround(eff_hamiltonian_tayl[i,i].full_simplify().numerator().expand()))\n",
    "show('Denominator')\n",
    "show(symround(eff_hamiltonian_tayl[i,i].full_simplify().denominator().expand()))"
   ]
  },
  {
   "cell_type": "code",
   "execution_count": null,
   "id": "30ac1428",
   "metadata": {},
   "outputs": [],
   "source": [
    "show(a)"
   ]
  },
  {
   "cell_type": "code",
   "execution_count": null,
   "id": "e5babc41",
   "metadata": {},
   "outputs": [],
   "source": []
  }
 ],
 "metadata": {
  "kernelspec": {
   "display_name": "SageMath 9.3",
   "language": "sage",
   "name": "sagemath"
  },
  "language_info": {
   "codemirror_mode": {
    "name": "ipython",
    "version": 3
   },
   "file_extension": ".py",
   "mimetype": "text/x-python",
   "name": "python",
   "nbconvert_exporter": "python",
   "pygments_lexer": "ipython3",
   "version": "3.9.2"
  }
 },
 "nbformat": 4,
 "nbformat_minor": 5
}
