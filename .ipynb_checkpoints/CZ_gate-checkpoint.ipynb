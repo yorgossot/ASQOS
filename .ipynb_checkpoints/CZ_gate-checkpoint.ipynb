{
 "cells": [
  {
   "cell_type": "markdown",
   "id": "11ebbd1c",
   "metadata": {},
   "source": [
    "# CZ gate  "
   ]
  },
  {
   "cell_type": "code",
   "execution_count": 190,
   "id": "a43f3bbd",
   "metadata": {
    "scrolled": false
   },
   "outputs": [],
   "source": [
    "from system import *\n",
    "#s1 =  system('2',MMA=True) \n",
    "s1 = load_object('o-x-o')"
   ]
  },
  {
   "cell_type": "markdown",
   "id": "9d56099a",
   "metadata": {},
   "source": [
    "# $\\Delta_{E\\gamma} = \\ \\dfrac{\\Delta_E}{\\gamma}\\, C^n \\qquad \\Delta_{e\\gamma} = \\ \\dfrac{\\Delta_e}{\\gamma}\\, C^m$"
   ]
  },
  {
   "cell_type": "code",
   "execution_count": 200,
   "id": "2c69c1d2",
   "metadata": {},
   "outputs": [],
   "source": [
    "n = 1\n",
    "m = 0.1"
   ]
  },
  {
   "cell_type": "markdown",
   "id": "20c87d69",
   "metadata": {},
   "source": [
    "# Effective Hamiltonian Matrix obtain in $C \\longrightarrow \\infty$ limit"
   ]
  },
  {
   "cell_type": "code",
   "execution_count": 201,
   "id": "6398d4bb",
   "metadata": {
    "scrolled": true
   },
   "outputs": [
    {
     "name": "stdout",
     "output_type": "stream",
     "text": [
      "Calculating 0 out of [0, 1, 16, 17]...\n",
      "Calculating 1 out of [0, 1, 16, 17]...\n",
      "Calculating 16 out of [0, 1, 16, 17]...\n",
      "Calculating 17 out of [0, 1, 16, 17]...\n",
      "\n",
      "Real part of H_eff in ground state subspace taylor expanded in 1/C: \n",
      "symround: Deleted coefficient 1.110e-16\n",
      "symround: Deleted coefficient 4.441e-16\n",
      "symround: Deleted coefficient 3.701e-17\n",
      "symround: Deleted coefficient 4.441e-16\n",
      "symround: Deleted coefficient 3.701e-17\n",
      "symround: Deleted coefficient 4.441e-16\n",
      "symround: Deleted coefficient 3.701e-17\n",
      "symround: Deleted coefficient 4.441e-16\n",
      "symround: Deleted coefficient 3.701e-17\n",
      "symround: Deleted coefficient 4.441e-16\n",
      "symround: Deleted coefficient 2.776e-17\n",
      "symround: Deleted coefficient 2.220e-16\n",
      "symround: Deleted coefficient 5.551e-17\n",
      "symround: Deleted coefficient 1.110e-16\n",
      "symround: Deleted coefficient 1.060e-17\n",
      "symround: Deleted coefficient 1.110e-16\n",
      "symround: Deleted coefficient 1.060e-17\n"
     ]
    },
    {
     "data": {
      "text/html": [
       "<html><script type=\"math/tex; mode=display\">\\newcommand{\\Bold}[1]{\\mathbf{#1}}\\left(\\begin{array}{rrrr}\n",
       "\\frac{{\\left({\\left({c} + 0.3333\\right)} {c} + 0.02083\\right)} \\Omega^{2}}{{\\left(0.6667i \\, R_{f} {\\left({c} + 0.2500\\right)}^{2} + {\\left({\\left({c} + 0.3333\\right)} {c} + 0.02083\\right)} {\\Delta_{E\\gamma}}\\right)} C \\gamma} & 0 & 0 & 0 \\\\\n",
       "0 & \\frac{{\\left({\\left({\\left(4 \\, {c} + 1.333\\right)} {c} + 0.08333\\right)} C^{24.70} {\\Delta_{e\\gamma}} - {\\left({c} {\\left(-2.667i \\, {c} - 2 i\\right)} - 0.1667i\\right)} C^{25.60} - C^{24.60} {\\left({c} + 0.2500\\right)} {\\left(-2 i \\, {c} - 0.1667i\\right)}\\right)} \\Omega^{2}}{{\\left({\\left({\\left({\\left(4 \\, {c} + 1.333\\right)} {c} + 0.08333\\right)} C^{25.70} {\\Delta_{e\\gamma}} - {\\left({c} {\\left(-2.667i \\, {c} - 2 i\\right)} - 0.1667i\\right)} C^{26.60} - C^{25.60} {\\left({c} + 0.2500\\right)} {\\left(-2 i \\, {c} - 0.1667i\\right)}\\right)} {\\Delta_{E\\gamma}} + {\\left({\\left(2.667i \\, {\\left({c} + 0.5000\\right)} {c} + 0.1667i\\right)} C^{25.70} {\\Delta_{e\\gamma}} - C^{26.60} {\\left(1.333 \\, {c} + 0.3333\\right)} - {\\left({\\left(1.333 \\, {c} + 0.6667\\right)} {c} + 0.08333\\right)} C^{25.60}\\right)} R_{f} + {\\left({\\left(2 i \\, {\\left({c} + 0.3333\\right)} {c} + 0.04167i\\right)} C^{24.70} {\\Delta_{e\\gamma}} - {\\left({\\left(1.333 \\, {c} + 1\\right)} {c} + 0.08333\\right)} C^{25.60} - {\\left({\\left({c} + 0.3333\\right)} {c} + 0.02083\\right)} C^{24.60}\\right)} {r_f} + {\\left({\\left(2 i \\, {\\left({c} + 0.3333\\right)} {c} + 0.04167i\\right)} C^{24.70} {\\Delta_{e\\gamma}} - {\\left({\\left(1.333 \\, {c} + 1\\right)} {c} + 0.08333\\right)} C^{25.60} - {\\left({\\left({c} + 0.3333\\right)} {c} + 0.02083\\right)} C^{24.60}\\right)} {r_g}\\right)} \\gamma} & 0 & 0 \\\\\n",
       "0 & 0 & \\frac{{\\left({\\left({\\left(4 \\, {c} + 1.333\\right)} {c} + 0.08333\\right)} C^{24.70} {\\Delta_{e\\gamma}} - {\\left({c} {\\left(-2.667i \\, {c} - 2 i\\right)} - 0.1667i\\right)} C^{25.60} - C^{24.60} {\\left({c} + 0.2500\\right)} {\\left(-2 i \\, {c} - 0.1667i\\right)}\\right)} \\Omega^{2}}{{\\left({\\left({\\left({\\left(4 \\, {c} + 1.333\\right)} {c} + 0.08333\\right)} C^{25.70} {\\Delta_{e\\gamma}} - {\\left({c} {\\left(-2.667i \\, {c} - 2 i\\right)} - 0.1667i\\right)} C^{26.60} - C^{25.60} {\\left({c} + 0.2500\\right)} {\\left(-2 i \\, {c} - 0.1667i\\right)}\\right)} {\\Delta_{E\\gamma}} + {\\left({\\left(2.667i \\, {\\left({c} + 0.5000\\right)} {c} + 0.1667i\\right)} C^{25.70} {\\Delta_{e\\gamma}} - C^{26.60} {\\left(1.333 \\, {c} + 0.3333\\right)} - {\\left({\\left(1.333 \\, {c} + 0.6667\\right)} {c} + 0.08333\\right)} C^{25.60}\\right)} R_{f} + {\\left({\\left(2 i \\, {\\left({c} + 0.3333\\right)} {c} + 0.04167i\\right)} C^{24.70} {\\Delta_{e\\gamma}} - {\\left({\\left(1.333 \\, {c} + 1\\right)} {c} + 0.08333\\right)} C^{25.60} - {\\left({\\left({c} + 0.3333\\right)} {c} + 0.02083\\right)} C^{24.60}\\right)} {r_f} + {\\left({\\left(2 i \\, {\\left({c} + 0.3333\\right)} {c} + 0.04167i\\right)} C^{24.70} {\\Delta_{e\\gamma}} - {\\left({\\left(1.333 \\, {c} + 1\\right)} {c} + 0.08333\\right)} C^{25.60} - {\\left({\\left({c} + 0.3333\\right)} {c} + 0.02083\\right)} C^{24.60}\\right)} {r_g}\\right)} \\gamma} & 0 \\\\\n",
       "0 & 0 & 0 & \\frac{{\\left(-0.7500 \\, {\\left({\\left(2 \\, {c} + 0.6667\\right)} {c} + 0.04167\\right)} C^{2.200} {\\Delta_{e\\gamma}}^{2} + 0.7500 \\, {\\left(2.667i \\, {\\left({c} + 0.7500\\right)} {c} + 0.1667i\\right)} C^{3.100} {\\Delta_{e\\gamma}} + 0.7500 \\, C^{4} {\\left(1.333 \\, {c} + 0.1667\\right)} + 0.7500 \\, {\\left(2 i \\, {\\left({c} + 0.3333\\right)} {c} + 0.04167i\\right)} C^{2.100} {\\Delta_{e\\gamma}} + 0.7500 \\, {\\left({\\left(1.333 \\, {c} + 1\\right)} {c} + 0.08333\\right)} C^{3} + 0.7500 \\, {\\left({c} {\\left(0.5000 \\, {c} + 0.1667\\right)} + 0.01042\\right)} C^{2}\\right)} \\Omega^{2}}{{\\left({\\left({\\left({c} {\\left(-1.500 \\, {c} - 0.5000\\right)} - 0.03125\\right)} C^{3.200} {\\Delta_{e\\gamma}}^{2} + {\\left(2 i \\, {\\left({c} + 0.7500\\right)} {c} + 0.1250i\\right)} C^{4.100} {\\Delta_{e\\gamma}} + C^{5} {\\left({c} + 0.1250\\right)} + {\\left(1.500i \\, {\\left({c} + 0.3333\\right)} {c} + 0.03125i\\right)} C^{3.100} {\\Delta_{e\\gamma}} + {\\left({\\left({c} + 0.7500\\right)} {c} + 0.06250\\right)} C^{4} + {\\left({c} {\\left(0.3750 \\, {c} + 0.1250\\right)} + 0.007812\\right)} C^{3}\\right)} {\\Delta_{E\\gamma}} + {\\left(i \\, C^{3.200} {\\Delta_{e\\gamma}}^{2} {\\left({c} + 0.2500\\right)}^{2} + C^{4.100} {\\Delta_{e\\gamma}} {\\left({c} + 0.2500\\right)} + C^{3.100} {\\Delta_{e\\gamma}} {\\left({c} + 0.2500\\right)}^{2} - 0.2500i \\, C^{5} - 0.2500i \\, C^{3} {\\left({c} + 0.2500\\right)}^{2} - C^{4} {\\left(0.5000i \\, {c} + 0.1250i\\right)}\\right)} R_{f} + {\\left({\\left(0.7500i \\, {\\left({c} + 0.3333\\right)} {c} + 0.01562i\\right)} C^{2.200} {\\Delta_{e\\gamma}}^{2} + {\\left({\\left({c} + 0.7500\\right)} {c} + 0.06250\\right)} C^{3.100} {\\Delta_{e\\gamma}} - C^{4} {\\left(0.5000i \\, {c} + 0.06250i\\right)} + C^{3} {\\left({c} + 0.6545\\right)} {\\left(-0.5000i \\, {c} - 0.04775i\\right)} + {\\left({c} {\\left(0.7500 \\, {c} + 0.2500\\right)} + 0.01562\\right)} C^{2.100} {\\Delta_{e\\gamma}}\\right)} {r_f} + {\\left({\\left(0.7500i \\, {\\left({c} + 0.3333\\right)} {c} + 0.01562i\\right)} C^{2.200} {\\Delta_{e\\gamma}}^{2} + {\\left({\\left({c} + 0.7500\\right)} {c} + 0.06250\\right)} C^{3.100} {\\Delta_{e\\gamma}} - C^{4} {\\left(0.5000i \\, {c} + 0.06250i\\right)} + C^{3} {\\left({c} + 0.6545\\right)} {\\left(-0.5000i \\, {c} - 0.04775i\\right)} + {\\left({c} {\\left(0.7500 \\, {c} + 0.2500\\right)} + 0.01562\\right)} C^{2.100} {\\Delta_{e\\gamma}}\\right)} {r_g}\\right)} \\gamma}\n",
       "\\end{array}\\right)</script></html>"
      ],
      "text/latex": [
       "$$\\newcommand{\\Bold}[1]{\\mathbf{#1}}\\left(\\begin{array}{rrrr}\n",
       "\\frac{{\\left({\\left({c} + 0.3333\\right)} {c} + 0.02083\\right)} \\Omega^{2}}{{\\left(0.6667i \\, R_{f} {\\left({c} + 0.2500\\right)}^{2} + {\\left({\\left({c} + 0.3333\\right)} {c} + 0.02083\\right)} {\\Delta_{E\\gamma}}\\right)} C \\gamma} & 0 & 0 & 0 \\\\\n",
       "0 & \\frac{{\\left({\\left({\\left(4 \\, {c} + 1.333\\right)} {c} + 0.08333\\right)} C^{24.70} {\\Delta_{e\\gamma}} - {\\left({c} {\\left(-2.667i \\, {c} - 2 i\\right)} - 0.1667i\\right)} C^{25.60} - C^{24.60} {\\left({c} + 0.2500\\right)} {\\left(-2 i \\, {c} - 0.1667i\\right)}\\right)} \\Omega^{2}}{{\\left({\\left({\\left({\\left(4 \\, {c} + 1.333\\right)} {c} + 0.08333\\right)} C^{25.70} {\\Delta_{e\\gamma}} - {\\left({c} {\\left(-2.667i \\, {c} - 2 i\\right)} - 0.1667i\\right)} C^{26.60} - C^{25.60} {\\left({c} + 0.2500\\right)} {\\left(-2 i \\, {c} - 0.1667i\\right)}\\right)} {\\Delta_{E\\gamma}} + {\\left({\\left(2.667i \\, {\\left({c} + 0.5000\\right)} {c} + 0.1667i\\right)} C^{25.70} {\\Delta_{e\\gamma}} - C^{26.60} {\\left(1.333 \\, {c} + 0.3333\\right)} - {\\left({\\left(1.333 \\, {c} + 0.6667\\right)} {c} + 0.08333\\right)} C^{25.60}\\right)} R_{f} + {\\left({\\left(2 i \\, {\\left({c} + 0.3333\\right)} {c} + 0.04167i\\right)} C^{24.70} {\\Delta_{e\\gamma}} - {\\left({\\left(1.333 \\, {c} + 1\\right)} {c} + 0.08333\\right)} C^{25.60} - {\\left({\\left({c} + 0.3333\\right)} {c} + 0.02083\\right)} C^{24.60}\\right)} {r_f} + {\\left({\\left(2 i \\, {\\left({c} + 0.3333\\right)} {c} + 0.04167i\\right)} C^{24.70} {\\Delta_{e\\gamma}} - {\\left({\\left(1.333 \\, {c} + 1\\right)} {c} + 0.08333\\right)} C^{25.60} - {\\left({\\left({c} + 0.3333\\right)} {c} + 0.02083\\right)} C^{24.60}\\right)} {r_g}\\right)} \\gamma} & 0 & 0 \\\\\n",
       "0 & 0 & \\frac{{\\left({\\left({\\left(4 \\, {c} + 1.333\\right)} {c} + 0.08333\\right)} C^{24.70} {\\Delta_{e\\gamma}} - {\\left({c} {\\left(-2.667i \\, {c} - 2 i\\right)} - 0.1667i\\right)} C^{25.60} - C^{24.60} {\\left({c} + 0.2500\\right)} {\\left(-2 i \\, {c} - 0.1667i\\right)}\\right)} \\Omega^{2}}{{\\left({\\left({\\left({\\left(4 \\, {c} + 1.333\\right)} {c} + 0.08333\\right)} C^{25.70} {\\Delta_{e\\gamma}} - {\\left({c} {\\left(-2.667i \\, {c} - 2 i\\right)} - 0.1667i\\right)} C^{26.60} - C^{25.60} {\\left({c} + 0.2500\\right)} {\\left(-2 i \\, {c} - 0.1667i\\right)}\\right)} {\\Delta_{E\\gamma}} + {\\left({\\left(2.667i \\, {\\left({c} + 0.5000\\right)} {c} + 0.1667i\\right)} C^{25.70} {\\Delta_{e\\gamma}} - C^{26.60} {\\left(1.333 \\, {c} + 0.3333\\right)} - {\\left({\\left(1.333 \\, {c} + 0.6667\\right)} {c} + 0.08333\\right)} C^{25.60}\\right)} R_{f} + {\\left({\\left(2 i \\, {\\left({c} + 0.3333\\right)} {c} + 0.04167i\\right)} C^{24.70} {\\Delta_{e\\gamma}} - {\\left({\\left(1.333 \\, {c} + 1\\right)} {c} + 0.08333\\right)} C^{25.60} - {\\left({\\left({c} + 0.3333\\right)} {c} + 0.02083\\right)} C^{24.60}\\right)} {r_f} + {\\left({\\left(2 i \\, {\\left({c} + 0.3333\\right)} {c} + 0.04167i\\right)} C^{24.70} {\\Delta_{e\\gamma}} - {\\left({\\left(1.333 \\, {c} + 1\\right)} {c} + 0.08333\\right)} C^{25.60} - {\\left({\\left({c} + 0.3333\\right)} {c} + 0.02083\\right)} C^{24.60}\\right)} {r_g}\\right)} \\gamma} & 0 \\\\\n",
       "0 & 0 & 0 & \\frac{{\\left(-0.7500 \\, {\\left({\\left(2 \\, {c} + 0.6667\\right)} {c} + 0.04167\\right)} C^{2.200} {\\Delta_{e\\gamma}}^{2} + 0.7500 \\, {\\left(2.667i \\, {\\left({c} + 0.7500\\right)} {c} + 0.1667i\\right)} C^{3.100} {\\Delta_{e\\gamma}} + 0.7500 \\, C^{4} {\\left(1.333 \\, {c} + 0.1667\\right)} + 0.7500 \\, {\\left(2 i \\, {\\left({c} + 0.3333\\right)} {c} + 0.04167i\\right)} C^{2.100} {\\Delta_{e\\gamma}} + 0.7500 \\, {\\left({\\left(1.333 \\, {c} + 1\\right)} {c} + 0.08333\\right)} C^{3} + 0.7500 \\, {\\left({c} {\\left(0.5000 \\, {c} + 0.1667\\right)} + 0.01042\\right)} C^{2}\\right)} \\Omega^{2}}{{\\left({\\left({\\left({c} {\\left(-1.500 \\, {c} - 0.5000\\right)} - 0.03125\\right)} C^{3.200} {\\Delta_{e\\gamma}}^{2} + {\\left(2 i \\, {\\left({c} + 0.7500\\right)} {c} + 0.1250i\\right)} C^{4.100} {\\Delta_{e\\gamma}} + C^{5} {\\left({c} + 0.1250\\right)} + {\\left(1.500i \\, {\\left({c} + 0.3333\\right)} {c} + 0.03125i\\right)} C^{3.100} {\\Delta_{e\\gamma}} + {\\left({\\left({c} + 0.7500\\right)} {c} + 0.06250\\right)} C^{4} + {\\left({c} {\\left(0.3750 \\, {c} + 0.1250\\right)} + 0.007812\\right)} C^{3}\\right)} {\\Delta_{E\\gamma}} + {\\left(i \\, C^{3.200} {\\Delta_{e\\gamma}}^{2} {\\left({c} + 0.2500\\right)}^{2} + C^{4.100} {\\Delta_{e\\gamma}} {\\left({c} + 0.2500\\right)} + C^{3.100} {\\Delta_{e\\gamma}} {\\left({c} + 0.2500\\right)}^{2} - 0.2500i \\, C^{5} - 0.2500i \\, C^{3} {\\left({c} + 0.2500\\right)}^{2} - C^{4} {\\left(0.5000i \\, {c} + 0.1250i\\right)}\\right)} R_{f} + {\\left({\\left(0.7500i \\, {\\left({c} + 0.3333\\right)} {c} + 0.01562i\\right)} C^{2.200} {\\Delta_{e\\gamma}}^{2} + {\\left({\\left({c} + 0.7500\\right)} {c} + 0.06250\\right)} C^{3.100} {\\Delta_{e\\gamma}} - C^{4} {\\left(0.5000i \\, {c} + 0.06250i\\right)} + C^{3} {\\left({c} + 0.6545\\right)} {\\left(-0.5000i \\, {c} - 0.04775i\\right)} + {\\left({c} {\\left(0.7500 \\, {c} + 0.2500\\right)} + 0.01562\\right)} C^{2.100} {\\Delta_{e\\gamma}}\\right)} {r_f} + {\\left({\\left(0.7500i \\, {\\left({c} + 0.3333\\right)} {c} + 0.01562i\\right)} C^{2.200} {\\Delta_{e\\gamma}}^{2} + {\\left({\\left({c} + 0.7500\\right)} {c} + 0.06250\\right)} C^{3.100} {\\Delta_{e\\gamma}} - C^{4} {\\left(0.5000i \\, {c} + 0.06250i\\right)} + C^{3} {\\left({c} + 0.6545\\right)} {\\left(-0.5000i \\, {c} - 0.04775i\\right)} + {\\left({c} {\\left(0.7500 \\, {c} + 0.2500\\right)} + 0.01562\\right)} C^{2.100} {\\Delta_{e\\gamma}}\\right)} {r_g}\\right)} \\gamma}\n",
       "\\end{array}\\right)$$"
      ],
      "text/plain": [
       "[                                                                                                                                                                                                                                                                                                                                                                                                                                                                                                                                                                                                                                                                                                                                                                                                                                                                                                                                                                                                                                                                                                  ((c + 0.3333)*c + 0.02083)*Omega^2/((0.6667*I*R_f*(c + 0.2500)^2 + ((c + 0.3333)*c + 0.02083)*DEg)*C*gamma)                                                                                                                                                                                                                                                                                                                                                                                                                                                                                                                                                                                                                                                                                                                                                                                                                                                                                                                                                                                                                                                                                                                                                                                                             0                                                                                                                                                                                                                                                                                                                                                                                                                                                                                                                                                                                                                                                                                                                                                                                                                                                                                                                                                                                                                                                                                                                                                                                                             0                                                                                                                                                                                                                                                                                                                                                                                                                                                                                                                                                                                                                                                                                                                                                                                                                                                                                                                                                                                                                                                                                                                                                                                                             0]\n",
       "[                                                                                                                                                                                                                                                                                                                                                                                                                                                                                                                                                                                                                                                                                                                                                                                                                                                                                                                                                                                                                                                                                                                                                                                                            0                                                                                                                                                                                                                                                                                                                                                                                                                                                                                                                       (((4*c + 1.333)*c + 0.08333)*C^24.70*Deg - (c*(-2.667*I*c - 2*I) - 0.1667*I)*C^25.60 - C^24.60*(c + 0.2500)*(-2*I*c - 0.1667*I))*Omega^2/(((((4*c + 1.333)*c + 0.08333)*C^25.70*Deg - (c*(-2.667*I*c - 2*I) - 0.1667*I)*C^26.60 - C^25.60*(c + 0.2500)*(-2*I*c - 0.1667*I))*DEg + ((2.667*I*(c + 0.5000)*c + 0.1667*I)*C^25.70*Deg - C^26.60*(1.333*c + 0.3333) - ((1.333*c + 0.6667)*c + 0.08333)*C^25.60)*R_f + ((2*I*(c + 0.3333)*c + 0.04167*I)*C^24.70*Deg - ((1.333*c + 1)*c + 0.08333)*C^25.60 - ((c + 0.3333)*c + 0.02083)*C^24.60)*r_f + ((2*I*(c + 0.3333)*c + 0.04167*I)*C^24.70*Deg - ((1.333*c + 1)*c + 0.08333)*C^25.60 - ((c + 0.3333)*c + 0.02083)*C^24.60)*r_g)*gamma)                                                                                                                                                                                                                                                                                                                                                                                                                                                                                                                                                                                                                                                                                                                                                                                                                                                                                                                                                                                                                                                                                                                                                                                                             0                                                                                                                                                                                                                                                                                                                                                                                                                                                                                                                                                                                                                                                                                                                                                                                                                                                                                                                                                                                                                                                                                                                                                                                                             0]\n",
       "[                                                                                                                                                                                                                                                                                                                                                                                                                                                                                                                                                                                                                                                                                                                                                                                                                                                                                                                                                                                                                                                                                                                                                                                                            0                                                                                                                                                                                                                                                                                                                                                                                                                                                                                                                                                                                                                                                                                                                                                                                                                                                                                                                                                                                                                                                                                                                                                                                                             0                                                                                                                                                                                                                                                                                                                                                                                                                                                                                                                       (((4*c + 1.333)*c + 0.08333)*C^24.70*Deg - (c*(-2.667*I*c - 2*I) - 0.1667*I)*C^25.60 - C^24.60*(c + 0.2500)*(-2*I*c - 0.1667*I))*Omega^2/(((((4*c + 1.333)*c + 0.08333)*C^25.70*Deg - (c*(-2.667*I*c - 2*I) - 0.1667*I)*C^26.60 - C^25.60*(c + 0.2500)*(-2*I*c - 0.1667*I))*DEg + ((2.667*I*(c + 0.5000)*c + 0.1667*I)*C^25.70*Deg - C^26.60*(1.333*c + 0.3333) - ((1.333*c + 0.6667)*c + 0.08333)*C^25.60)*R_f + ((2*I*(c + 0.3333)*c + 0.04167*I)*C^24.70*Deg - ((1.333*c + 1)*c + 0.08333)*C^25.60 - ((c + 0.3333)*c + 0.02083)*C^24.60)*r_f + ((2*I*(c + 0.3333)*c + 0.04167*I)*C^24.70*Deg - ((1.333*c + 1)*c + 0.08333)*C^25.60 - ((c + 0.3333)*c + 0.02083)*C^24.60)*r_g)*gamma)                                                                                                                                                                                                                                                                                                                                                                                                                                                                                                                                                                                                                                                                                                                                                                                                                                                                                                                                                                                                                                                                                                                                                                                                             0]\n",
       "[                                                                                                                                                                                                                                                                                                                                                                                                                                                                                                                                                                                                                                                                                                                                                                                                                                                                                                                                                                                                                                                                                                                                                                                                            0                                                                                                                                                                                                                                                                                                                                                                                                                                                                                                                                                                                                                                                                                                                                                                                                                                                                                                                                                                                                                                                                                                                                                                                                             0                                                                                                                                                                                                                                                                                                                                                                                                                                                                                                                                                                                                                                                                                                                                                                                                                                                                                                                                                                                                                                                                                                                                                                                                             0 (-0.7500*((2*c + 0.6667)*c + 0.04167)*C^2.200*Deg^2 + 0.7500*(2.667*I*(c + 0.7500)*c + 0.1667*I)*C^3.100*Deg + 0.7500*C^4*(1.333*c + 0.1667) + 0.7500*(2*I*(c + 0.3333)*c + 0.04167*I)*C^2.100*Deg + 0.7500*((1.333*c + 1)*c + 0.08333)*C^3 + 0.7500*(c*(0.5000*c + 0.1667) + 0.01042)*C^2)*Omega^2/((((c*(-1.500*c - 0.5000) - 0.03125)*C^3.200*Deg^2 + (2*I*(c + 0.7500)*c + 0.1250*I)*C^4.100*Deg + C^5*(c + 0.1250) + (1.500*I*(c + 0.3333)*c + 0.03125*I)*C^3.100*Deg + ((c + 0.7500)*c + 0.06250)*C^4 + (c*(0.3750*c + 0.1250) + 0.007812)*C^3)*DEg + (I*C^3.200*Deg^2*(c + 0.2500)^2 + C^4.100*Deg*(c + 0.2500) + C^3.100*Deg*(c + 0.2500)^2 - 0.2500*I*C^5 - 0.2500*I*C^3*(c + 0.2500)^2 - C^4*(0.5000*I*c + 0.1250*I))*R_f + ((0.7500*I*(c + 0.3333)*c + 0.01562*I)*C^2.200*Deg^2 + ((c + 0.7500)*c + 0.06250)*C^3.100*Deg - C^4*(0.5000*I*c + 0.06250*I) + C^3*(c + 0.6545)*(-0.5000*I*c - 0.04775*I) + (c*(0.7500*c + 0.2500) + 0.01562)*C^2.100*Deg)*r_f + ((0.7500*I*(c + 0.3333)*c + 0.01562*I)*C^2.200*Deg^2 + ((c + 0.7500)*c + 0.06250)*C^3.100*Deg - C^4*(0.5000*I*c + 0.06250*I) + C^3*(c + 0.6545)*(-0.5000*I*c - 0.04775*I) + (c*(0.7500*c + 0.2500) + 0.01562)*C^2.100*Deg)*r_g)*gamma)]"
      ]
     },
     "metadata": {},
     "output_type": "display_data"
    }
   ],
   "source": [
    "\n",
    "\n",
    "var('gamma','DE','De','g','g_f','Omega','v','gamma_f','gamma_g',domain='positive')\n",
    "var('DEt',domain='complex',  latex_name =r'\\tilde{\\Delta }_E')\n",
    "var('Det',domain='complex',  latex_name =r'\\tilde{\\Delta }_e')\n",
    "var('DEg',domain='positive',  latex_name =r'\\Delta_{E\\gamma}')\n",
    "var('Deg',domain='positive',  latex_name =r'\\Delta_{e\\gamma}')\n",
    "var('kappa_c','kappa_b',domain='positive')\n",
    "var('C',domain='positive')\n",
    "var('c',domain='positive',  latex_name =r'c')\n",
    "\n",
    "eff_hamiltonian_tayl = sg.copy( s1.eff_hamiltonian.parent().zero())\n",
    "for diag in s1.pos_gs:\n",
    "    print(f'Calculating {diag} out of {s1.pos_gs}...')\n",
    "    #Take only one of the compl conj terms. Switch maybe second 0 to 1\n",
    "    min_expr_len = 10**10\n",
    "    for term in range(1):\n",
    "        b = s1.eff_hamiltonian[diag,diag]\n",
    "\n",
    "        b = b.operands()[1].operands()[term]\n",
    "        #b = b.subs(DE=+0.5*I*gamma_f + 0.5*I*gamma_g + DEt*gamma)\n",
    "        #b = b.subs(De=+0.5*I*gamma   +Det*gamma)\n",
    "        b = b.subs(De=Deg*gamma*C^m)\n",
    "        b = b.subs(DE=DEg*gamma*C^n)\n",
    "        \n",
    "        \n",
    "        var('R_f',domain='positive')#ratio  (g_f/g)^2\n",
    "        b = b.subs(g_f=g*sqrt(R_f))\n",
    "\n",
    "        var('R_v',domain='positive',  latex_name =r'R_{\\nu}') #ratio (v/g)^2\n",
    "        b = b.subs(v=g*sqrt(R_v))\n",
    "\n",
    "        var('r_b',domain='positive')\n",
    "        b = b.subs(kappa_b=gamma/r_b)\n",
    "        \n",
    "        var('r_f',domain='positive',latex_name =r'r_f')\n",
    "        b = b.subs(gamma_f=gamma*r_f)\n",
    "        \n",
    "        var('r_g',domain='positive',latex_name =r'r_g')\n",
    "        b = b.subs(gamma_g=gamma*r_g)\n",
    "        \n",
    "        b = b.subs(g = sqrt(C*gamma*kappa_c)) \n",
    "        b = b.subs(r_b = c/(C*R_v))\n",
    "\n",
    "        b = b*gamma  #Omega has to be substituted with Omega/gamma\n",
    "\n",
    "\n",
    "        b = b._mathematica_().Factor()._sage_()\n",
    "        b = MMA_simplify(b)#,full=True)\n",
    "        #holds the smallest expression\n",
    "        if len(str(b))<min_expr_len:\n",
    "            min_expr_len = len(str(b))\n",
    "            h_eff = b\n",
    "    \n",
    "\n",
    "    q = h_eff.subs(C=1/x)\n",
    "    q = MMA_simplify(q)\n",
    "    tayl = q._mathematica_().Series((x,0,1)).Normal()._sage_()\n",
    "    tayl = tayl.subs(x=1/C)\n",
    " \n",
    "    \n",
    "    #tayl =  (tayl + conjugate(tayl))/2      # try with + conjugate_transp\n",
    "\n",
    "    #taylr = taylr.expand()\n",
    "    tayl = MMA_simplify(tayl,full=True)\n",
    "    eff_hamiltonian_tayl[diag,diag] = Omega^2/gamma * tayl\n",
    "\n",
    "print('\\nReal part of H_eff in ground state subspace taylor expanded in 1/C: ')\n",
    "show(symround(eff_hamiltonian_tayl[s1.pos_gs,s1.pos_gs],digits=4))\n",
    "\n",
    "eff_hamiltonian_tayl = (eff_hamiltonian_tayl[s1.pos_gs,s1.pos_gs] + conjugate(eff_hamiltonian_tayl[s1.pos_gs,s1.pos_gs]))/2"
   ]
  },
  {
   "cell_type": "markdown",
   "id": "3c69018c",
   "metadata": {},
   "source": [
    "# CZ gate time"
   ]
  },
  {
   "cell_type": "code",
   "execution_count": 203,
   "id": "d737471d",
   "metadata": {},
   "outputs": [],
   "source": [
    "#l_0-l_1-l_2+l_3\n",
    "denom = eff_hamiltonian_tayl[0,0]+eff_hamiltonian_tayl[3,3]-eff_hamiltonian_tayl[1,1]-eff_hamiltonian_tayl[2,2]\n",
    "\n",
    "t_g = np.pi/denom\n",
    "#t_g = MMA_simplify(t_g,full=False) #not full if too slow\n",
    "t_g = SR(str(t_g).replace('Sqrt','sqrt')).simplify()"
   ]
  },
  {
   "cell_type": "code",
   "execution_count": 204,
   "id": "efd4ff7b",
   "metadata": {},
   "outputs": [
    {
     "name": "stdout",
     "output_type": "stream",
     "text": [
      "symround: Deleted coefficient 4.4e-16\n",
      "symround: Deleted coefficient 3.7e-17\n",
      "symround: Deleted coefficient 4.4e-16\n",
      "symround: Deleted coefficient 3.7e-17\n",
      "symround: Deleted coefficient 4.4e-16\n",
      "symround: Deleted coefficient 3.7e-17\n",
      "symround: Deleted coefficient 4.4e-16\n",
      "symround: Deleted coefficient 3.7e-17\n",
      "symround: Deleted coefficient 4.4e-16\n",
      "symround: Deleted coefficient 3.3e-16\n",
      "symround: Deleted coefficient 2.8e-17\n",
      "symround: Deleted coefficient 2.2e-16\n",
      "symround: Deleted coefficient 5.6e-17\n",
      "symround: Deleted coefficient 1.1e-16\n",
      "symround: Deleted coefficient 1.1e-17\n",
      "symround: Deleted coefficient 1.1e-16\n",
      "symround: Deleted coefficient 1.1e-17\n",
      "symround: Deleted coefficient 4.4e-16\n",
      "symround: Deleted coefficient 3.3e-16\n",
      "symround: Deleted coefficient 2.8e-17\n",
      "symround: Deleted coefficient 2.2e-16\n",
      "symround: Deleted coefficient 5.6e-17\n",
      "symround: Deleted coefficient 1.1e-16\n",
      "symround: Deleted coefficient 1.1e-17\n",
      "symround: Deleted coefficient 1.1e-16\n",
      "symround: Deleted coefficient 1.1e-17\n",
      "symround: Deleted coefficient 1.1e-16\n",
      "symround: Deleted coefficient 1.1e-16\n"
     ]
    },
    {
     "data": {
      "text/html": [
       "<html><script type=\"math/tex; mode=display\">\\newcommand{\\Bold}[1]{\\mathbf{#1}}-\\frac{6.3}{\\frac{2 \\, {\\left({\\left({\\left(4 \\, {c} + 1.3\\right)} {c} + 0.083\\right)} C^{25.} {\\Delta_{e\\gamma}} - {\\left({c} {\\left(2.7i \\, {c} + 2 i\\right)} + 0.17i\\right)} C^{26.} - C^{24.} {\\left({c} + 0.25\\right)} {\\left(2 i \\, {c} + 0.17i\\right)}\\right)} \\Omega^{2}}{{\\left({\\left({\\left({\\left(4 \\, {c} + 1.3\\right)} {c} + 0.083\\right)} C^{26.} {\\Delta_{e\\gamma}} - {\\left({c} {\\left(2.7i \\, {c} + 2 i\\right)} + 0.17i\\right)} C^{26.} - C^{26.} {\\left({c} + 0.25\\right)} {\\left(2 i \\, {c} + 0.17i\\right)}\\right)} {\\Delta_{E\\gamma}} + {\\left({\\left({c} {\\left(-2.7i \\, {c} - 1.3i\\right)} - 0.17i\\right)} C^{26.} {\\Delta_{e\\gamma}} - C^{26.} {\\left(1.3 \\, {c} + 0.33\\right)} - {\\left({\\left(1.3 \\, {c} + 0.66\\right)} {c} + 0.083\\right)} C^{26.}\\right)} R_{f} + {\\left({\\left({c} {\\left(-2 i \\, {c} - 0.66i\\right)} - 0.042i\\right)} C^{25.} {\\Delta_{e\\gamma}} - {\\left({\\left(1.3 \\, {c} + 1\\right)} {c} + 0.083\\right)} C^{26.} - {\\left({\\left({c} + 0.33\\right)} {c} + 0.021\\right)} C^{24.}\\right)} {r_f} + {\\left({\\left({c} {\\left(-2 i \\, {c} - 0.66i\\right)} - 0.042i\\right)} C^{25.} {\\Delta_{e\\gamma}} - {\\left({\\left(1.3 \\, {c} + 1\\right)} {c} + 0.083\\right)} C^{26.} - {\\left({\\left({c} + 0.33\\right)} {c} + 0.021\\right)} C^{24.}\\right)} {r_g}\\right)} \\gamma} + \\frac{2 \\, {\\left({\\left({\\left(4 \\, {c} + 1.3\\right)} {c} + 0.083\\right)} C^{25.} {\\Delta_{e\\gamma}} - {\\left({c} {\\left(-2.7i \\, {c} - 2 i\\right)} - 0.17i\\right)} C^{26.} - C^{24.} {\\left({c} + 0.25\\right)} {\\left(-2 i \\, {c} - 0.17i\\right)}\\right)} \\Omega^{2}}{{\\left({\\left({\\left({\\left(4 \\, {c} + 1.3\\right)} {c} + 0.083\\right)} C^{26.} {\\Delta_{e\\gamma}} - {\\left({c} {\\left(-2.7i \\, {c} - 2 i\\right)} - 0.17i\\right)} C^{26.} - C^{26.} {\\left({c} + 0.25\\right)} {\\left(-2 i \\, {c} - 0.17i\\right)}\\right)} {\\Delta_{E\\gamma}} + {\\left({\\left({c} {\\left(2.7i \\, {c} + 1.3i\\right)} + 0.17i\\right)} C^{26.} {\\Delta_{e\\gamma}} - C^{26.} {\\left(1.3 \\, {c} + 0.33\\right)} - {\\left({\\left(1.3 \\, {c} + 0.66\\right)} {c} + 0.083\\right)} C^{26.}\\right)} R_{f} + {\\left({\\left({c} {\\left(2 i \\, {c} + 0.66i\\right)} + 0.042i\\right)} C^{25.} {\\Delta_{e\\gamma}} - {\\left({\\left(1.3 \\, {c} + 1\\right)} {c} + 0.083\\right)} C^{26.} - {\\left({\\left({c} + 0.33\\right)} {c} + 0.021\\right)} C^{24.}\\right)} {r_f} + {\\left({\\left({c} {\\left(2 i \\, {c} + 0.66i\\right)} + 0.042i\\right)} C^{25.} {\\Delta_{e\\gamma}} - {\\left({\\left(1.3 \\, {c} + 1\\right)} {c} + 0.083\\right)} C^{26.} - {\\left({\\left({c} + 0.33\\right)} {c} + 0.021\\right)} C^{24.}\\right)} {r_g}\\right)} \\gamma} - \\frac{{\\left({\\left({c} {\\left(-1.5 \\, {c} - 0.50\\right)} - 0.031\\right)} C^{2.2} {\\Delta_{e\\gamma}}^{2} + {\\left(0.75 \\, {c} {\\left(2.7i \\, {c} + 2 i\\right)} + 0.12i\\right)} C^{3.1} {\\Delta_{e\\gamma}} + 0.75 \\, C^{4} {\\left(1.3 \\, {c} + 0.17\\right)} + {\\left(0.75 \\, {c} {\\left(2 i \\, {c} + 0.66i\\right)} + 0.031i\\right)} C^{2.1} {\\Delta_{e\\gamma}} + {\\left(0.75 \\, {\\left(1.3 \\, {c} + 1\\right)} {c} + 0.062\\right)} C^{3} + {\\left({c} {\\left(0.38 \\, {c} + 0.12\\right)} + 0.0078\\right)} C^{2}\\right)} \\Omega^{2}}{{\\left({\\left({\\left({c} {\\left(-1.5 \\, {c} - 0.50\\right)} - 0.031\\right)} C^{3.2} {\\Delta_{e\\gamma}}^{2} + {\\left({c} {\\left(2 i \\, {c} + 1.5i\\right)} + 0.12i\\right)} C^{4.1} {\\Delta_{e\\gamma}} + C^{5} {\\left({c} + 0.12\\right)} + {\\left({c} {\\left(1.5i \\, {c} + 0.50i\\right)} + 0.031i\\right)} C^{3.1} {\\Delta_{e\\gamma}} + {\\left({\\left({c} + 0.75\\right)} {c} + 0.062\\right)} C^{4} + {\\left({c} {\\left(0.38 \\, {c} + 0.12\\right)} + 0.0078\\right)} C^{3}\\right)} {\\Delta_{E\\gamma}} + {\\left(i \\, C^{3.2} {\\Delta_{e\\gamma}}^{2} {\\left({c} + 0.25\\right)}^{2} + C^{4.1} {\\Delta_{e\\gamma}} {\\left({c} + 0.25\\right)} + C^{3.1} {\\Delta_{e\\gamma}} {\\left({c} + 0.25\\right)}^{2} - 0.25i \\, C^{5} - 0.25i \\, C^{3} {\\left({c} + 0.25\\right)}^{2} - C^{4} {\\left(0.50i \\, {c} + 0.12i\\right)}\\right)} R_{f} + {\\left({\\left({c} {\\left(0.75i \\, {c} + 0.25i\\right)} + 0.016i\\right)} C^{2.2} {\\Delta_{e\\gamma}}^{2} + {\\left({\\left({c} + 0.75\\right)} {c} + 0.062\\right)} C^{3.1} {\\Delta_{e\\gamma}} - C^{4} {\\left(0.50i \\, {c} + 0.062i\\right)} + C^{3} {\\left({c} + 0.66\\right)} {\\left(-0.50i \\, {c} - 0.048i\\right)} + {\\left({c} {\\left(0.75 \\, {c} + 0.25\\right)} + 0.016\\right)} C^{2.1} {\\Delta_{e\\gamma}}\\right)} {r_f} + {\\left({\\left({c} {\\left(0.75i \\, {c} + 0.25i\\right)} + 0.016i\\right)} C^{2.2} {\\Delta_{e\\gamma}}^{2} + {\\left({\\left({c} + 0.75\\right)} {c} + 0.062\\right)} C^{3.1} {\\Delta_{e\\gamma}} - C^{4} {\\left(0.50i \\, {c} + 0.062i\\right)} + C^{3} {\\left({c} + 0.66\\right)} {\\left(-0.50i \\, {c} - 0.048i\\right)} + {\\left({c} {\\left(0.75 \\, {c} + 0.25\\right)} + 0.016\\right)} C^{2.1} {\\Delta_{e\\gamma}}\\right)} {r_g}\\right)} \\gamma} - \\frac{{\\left({\\left({c} {\\left(-1.5 \\, {c} - 0.50\\right)} - 0.031\\right)} C^{2.2} {\\Delta_{e\\gamma}}^{2} + {\\left(0.75 \\, {c} {\\left(-2.7i \\, {c} - 2 i\\right)} - 0.12i\\right)} C^{3.1} {\\Delta_{e\\gamma}} + 0.75 \\, C^{4} {\\left(1.3 \\, {c} + 0.17\\right)} + {\\left(0.75 \\, {c} {\\left(-2 i \\, {c} - 0.66i\\right)} - 0.031i\\right)} C^{2.1} {\\Delta_{e\\gamma}} + {\\left(0.75 \\, {\\left(1.3 \\, {c} + 1\\right)} {c} + 0.062\\right)} C^{3} + {\\left({c} {\\left(0.38 \\, {c} + 0.12\\right)} + 0.0078\\right)} C^{2}\\right)} \\Omega^{2}}{{\\left({\\left({\\left({c} {\\left(-1.5 \\, {c} - 0.50\\right)} - 0.031\\right)} C^{3.2} {\\Delta_{e\\gamma}}^{2} + {\\left({c} {\\left(-2 i \\, {c} - 1.5i\\right)} - 0.12i\\right)} C^{4.1} {\\Delta_{e\\gamma}} + C^{5} {\\left({c} + 0.12\\right)} + {\\left({c} {\\left(-1.5i \\, {c} - 0.50i\\right)} - 0.031i\\right)} C^{3.1} {\\Delta_{e\\gamma}} + {\\left({\\left({c} + 0.75\\right)} {c} + 0.062\\right)} C^{4} + {\\left({c} {\\left(0.38 \\, {c} + 0.12\\right)} + 0.0078\\right)} C^{3}\\right)} {\\Delta_{E\\gamma}} + {\\left(-i \\, C^{3.2} {\\Delta_{e\\gamma}}^{2} {\\left({c} + 0.25\\right)}^{2} + C^{4.1} {\\Delta_{e\\gamma}} {\\left({c} + 0.25\\right)} + C^{3.1} {\\Delta_{e\\gamma}} {\\left({c} + 0.25\\right)}^{2} + 0.25i \\, C^{5} + 0.25i \\, C^{3} {\\left({c} + 0.25\\right)}^{2} - C^{4} {\\left(-0.50i \\, {c} - 0.12i\\right)}\\right)} R_{f} + {\\left({\\left({c} {\\left(-0.75i \\, {c} - 0.25i\\right)} - 0.016i\\right)} C^{2.2} {\\Delta_{e\\gamma}}^{2} + {\\left({\\left({c} + 0.75\\right)} {c} + 0.062\\right)} C^{3.1} {\\Delta_{e\\gamma}} + C^{3} {\\left({c} + 0.66\\right)} {\\left(0.50i \\, {c} + 0.048i\\right)} - C^{4} {\\left(-0.50i \\, {c} - 0.062i\\right)} + {\\left({c} {\\left(0.75 \\, {c} + 0.25\\right)} + 0.016\\right)} C^{2.1} {\\Delta_{e\\gamma}}\\right)} {r_f} + {\\left({\\left({c} {\\left(-0.75i \\, {c} - 0.25i\\right)} - 0.016i\\right)} C^{2.2} {\\Delta_{e\\gamma}}^{2} + {\\left({\\left({c} + 0.75\\right)} {c} + 0.062\\right)} C^{3.1} {\\Delta_{e\\gamma}} + C^{3} {\\left({c} + 0.66\\right)} {\\left(0.50i \\, {c} + 0.048i\\right)} - C^{4} {\\left(-0.50i \\, {c} - 0.062i\\right)} + {\\left({c} {\\left(0.75 \\, {c} + 0.25\\right)} + 0.016\\right)} C^{2.1} {\\Delta_{e\\gamma}}\\right)} {r_g}\\right)} \\gamma} - \\frac{{\\left({\\left({c} + 0.33\\right)} {c} + 0.021\\right)} \\Omega^{2}}{{\\left(0.66i \\, R_{f} {\\left({c} + 0.25\\right)}^{2} + {\\left({\\left({c} + 0.33\\right)} {c} + 0.021\\right)} {\\Delta_{E\\gamma}}\\right)} C \\gamma} - \\frac{{\\left({\\left({c} + 0.33\\right)} {c} + 0.021\\right)} \\Omega^{2}}{{\\left(-0.66i \\, R_{f} {\\left({c} + 0.25\\right)}^{2} + {\\left({\\left({c} + 0.33\\right)} {c} + 0.021\\right)} {\\Delta_{E\\gamma}}\\right)} C \\gamma}}</script></html>"
      ],
      "text/latex": [
       "$$\\newcommand{\\Bold}[1]{\\mathbf{#1}}-\\frac{6.3}{\\frac{2 \\, {\\left({\\left({\\left(4 \\, {c} + 1.3\\right)} {c} + 0.083\\right)} C^{25.} {\\Delta_{e\\gamma}} - {\\left({c} {\\left(2.7i \\, {c} + 2 i\\right)} + 0.17i\\right)} C^{26.} - C^{24.} {\\left({c} + 0.25\\right)} {\\left(2 i \\, {c} + 0.17i\\right)}\\right)} \\Omega^{2}}{{\\left({\\left({\\left({\\left(4 \\, {c} + 1.3\\right)} {c} + 0.083\\right)} C^{26.} {\\Delta_{e\\gamma}} - {\\left({c} {\\left(2.7i \\, {c} + 2 i\\right)} + 0.17i\\right)} C^{26.} - C^{26.} {\\left({c} + 0.25\\right)} {\\left(2 i \\, {c} + 0.17i\\right)}\\right)} {\\Delta_{E\\gamma}} + {\\left({\\left({c} {\\left(-2.7i \\, {c} - 1.3i\\right)} - 0.17i\\right)} C^{26.} {\\Delta_{e\\gamma}} - C^{26.} {\\left(1.3 \\, {c} + 0.33\\right)} - {\\left({\\left(1.3 \\, {c} + 0.66\\right)} {c} + 0.083\\right)} C^{26.}\\right)} R_{f} + {\\left({\\left({c} {\\left(-2 i \\, {c} - 0.66i\\right)} - 0.042i\\right)} C^{25.} {\\Delta_{e\\gamma}} - {\\left({\\left(1.3 \\, {c} + 1\\right)} {c} + 0.083\\right)} C^{26.} - {\\left({\\left({c} + 0.33\\right)} {c} + 0.021\\right)} C^{24.}\\right)} {r_f} + {\\left({\\left({c} {\\left(-2 i \\, {c} - 0.66i\\right)} - 0.042i\\right)} C^{25.} {\\Delta_{e\\gamma}} - {\\left({\\left(1.3 \\, {c} + 1\\right)} {c} + 0.083\\right)} C^{26.} - {\\left({\\left({c} + 0.33\\right)} {c} + 0.021\\right)} C^{24.}\\right)} {r_g}\\right)} \\gamma} + \\frac{2 \\, {\\left({\\left({\\left(4 \\, {c} + 1.3\\right)} {c} + 0.083\\right)} C^{25.} {\\Delta_{e\\gamma}} - {\\left({c} {\\left(-2.7i \\, {c} - 2 i\\right)} - 0.17i\\right)} C^{26.} - C^{24.} {\\left({c} + 0.25\\right)} {\\left(-2 i \\, {c} - 0.17i\\right)}\\right)} \\Omega^{2}}{{\\left({\\left({\\left({\\left(4 \\, {c} + 1.3\\right)} {c} + 0.083\\right)} C^{26.} {\\Delta_{e\\gamma}} - {\\left({c} {\\left(-2.7i \\, {c} - 2 i\\right)} - 0.17i\\right)} C^{26.} - C^{26.} {\\left({c} + 0.25\\right)} {\\left(-2 i \\, {c} - 0.17i\\right)}\\right)} {\\Delta_{E\\gamma}} + {\\left({\\left({c} {\\left(2.7i \\, {c} + 1.3i\\right)} + 0.17i\\right)} C^{26.} {\\Delta_{e\\gamma}} - C^{26.} {\\left(1.3 \\, {c} + 0.33\\right)} - {\\left({\\left(1.3 \\, {c} + 0.66\\right)} {c} + 0.083\\right)} C^{26.}\\right)} R_{f} + {\\left({\\left({c} {\\left(2 i \\, {c} + 0.66i\\right)} + 0.042i\\right)} C^{25.} {\\Delta_{e\\gamma}} - {\\left({\\left(1.3 \\, {c} + 1\\right)} {c} + 0.083\\right)} C^{26.} - {\\left({\\left({c} + 0.33\\right)} {c} + 0.021\\right)} C^{24.}\\right)} {r_f} + {\\left({\\left({c} {\\left(2 i \\, {c} + 0.66i\\right)} + 0.042i\\right)} C^{25.} {\\Delta_{e\\gamma}} - {\\left({\\left(1.3 \\, {c} + 1\\right)} {c} + 0.083\\right)} C^{26.} - {\\left({\\left({c} + 0.33\\right)} {c} + 0.021\\right)} C^{24.}\\right)} {r_g}\\right)} \\gamma} - \\frac{{\\left({\\left({c} {\\left(-1.5 \\, {c} - 0.50\\right)} - 0.031\\right)} C^{2.2} {\\Delta_{e\\gamma}}^{2} + {\\left(0.75 \\, {c} {\\left(2.7i \\, {c} + 2 i\\right)} + 0.12i\\right)} C^{3.1} {\\Delta_{e\\gamma}} + 0.75 \\, C^{4} {\\left(1.3 \\, {c} + 0.17\\right)} + {\\left(0.75 \\, {c} {\\left(2 i \\, {c} + 0.66i\\right)} + 0.031i\\right)} C^{2.1} {\\Delta_{e\\gamma}} + {\\left(0.75 \\, {\\left(1.3 \\, {c} + 1\\right)} {c} + 0.062\\right)} C^{3} + {\\left({c} {\\left(0.38 \\, {c} + 0.12\\right)} + 0.0078\\right)} C^{2}\\right)} \\Omega^{2}}{{\\left({\\left({\\left({c} {\\left(-1.5 \\, {c} - 0.50\\right)} - 0.031\\right)} C^{3.2} {\\Delta_{e\\gamma}}^{2} + {\\left({c} {\\left(2 i \\, {c} + 1.5i\\right)} + 0.12i\\right)} C^{4.1} {\\Delta_{e\\gamma}} + C^{5} {\\left({c} + 0.12\\right)} + {\\left({c} {\\left(1.5i \\, {c} + 0.50i\\right)} + 0.031i\\right)} C^{3.1} {\\Delta_{e\\gamma}} + {\\left({\\left({c} + 0.75\\right)} {c} + 0.062\\right)} C^{4} + {\\left({c} {\\left(0.38 \\, {c} + 0.12\\right)} + 0.0078\\right)} C^{3}\\right)} {\\Delta_{E\\gamma}} + {\\left(i \\, C^{3.2} {\\Delta_{e\\gamma}}^{2} {\\left({c} + 0.25\\right)}^{2} + C^{4.1} {\\Delta_{e\\gamma}} {\\left({c} + 0.25\\right)} + C^{3.1} {\\Delta_{e\\gamma}} {\\left({c} + 0.25\\right)}^{2} - 0.25i \\, C^{5} - 0.25i \\, C^{3} {\\left({c} + 0.25\\right)}^{2} - C^{4} {\\left(0.50i \\, {c} + 0.12i\\right)}\\right)} R_{f} + {\\left({\\left({c} {\\left(0.75i \\, {c} + 0.25i\\right)} + 0.016i\\right)} C^{2.2} {\\Delta_{e\\gamma}}^{2} + {\\left({\\left({c} + 0.75\\right)} {c} + 0.062\\right)} C^{3.1} {\\Delta_{e\\gamma}} - C^{4} {\\left(0.50i \\, {c} + 0.062i\\right)} + C^{3} {\\left({c} + 0.66\\right)} {\\left(-0.50i \\, {c} - 0.048i\\right)} + {\\left({c} {\\left(0.75 \\, {c} + 0.25\\right)} + 0.016\\right)} C^{2.1} {\\Delta_{e\\gamma}}\\right)} {r_f} + {\\left({\\left({c} {\\left(0.75i \\, {c} + 0.25i\\right)} + 0.016i\\right)} C^{2.2} {\\Delta_{e\\gamma}}^{2} + {\\left({\\left({c} + 0.75\\right)} {c} + 0.062\\right)} C^{3.1} {\\Delta_{e\\gamma}} - C^{4} {\\left(0.50i \\, {c} + 0.062i\\right)} + C^{3} {\\left({c} + 0.66\\right)} {\\left(-0.50i \\, {c} - 0.048i\\right)} + {\\left({c} {\\left(0.75 \\, {c} + 0.25\\right)} + 0.016\\right)} C^{2.1} {\\Delta_{e\\gamma}}\\right)} {r_g}\\right)} \\gamma} - \\frac{{\\left({\\left({c} {\\left(-1.5 \\, {c} - 0.50\\right)} - 0.031\\right)} C^{2.2} {\\Delta_{e\\gamma}}^{2} + {\\left(0.75 \\, {c} {\\left(-2.7i \\, {c} - 2 i\\right)} - 0.12i\\right)} C^{3.1} {\\Delta_{e\\gamma}} + 0.75 \\, C^{4} {\\left(1.3 \\, {c} + 0.17\\right)} + {\\left(0.75 \\, {c} {\\left(-2 i \\, {c} - 0.66i\\right)} - 0.031i\\right)} C^{2.1} {\\Delta_{e\\gamma}} + {\\left(0.75 \\, {\\left(1.3 \\, {c} + 1\\right)} {c} + 0.062\\right)} C^{3} + {\\left({c} {\\left(0.38 \\, {c} + 0.12\\right)} + 0.0078\\right)} C^{2}\\right)} \\Omega^{2}}{{\\left({\\left({\\left({c} {\\left(-1.5 \\, {c} - 0.50\\right)} - 0.031\\right)} C^{3.2} {\\Delta_{e\\gamma}}^{2} + {\\left({c} {\\left(-2 i \\, {c} - 1.5i\\right)} - 0.12i\\right)} C^{4.1} {\\Delta_{e\\gamma}} + C^{5} {\\left({c} + 0.12\\right)} + {\\left({c} {\\left(-1.5i \\, {c} - 0.50i\\right)} - 0.031i\\right)} C^{3.1} {\\Delta_{e\\gamma}} + {\\left({\\left({c} + 0.75\\right)} {c} + 0.062\\right)} C^{4} + {\\left({c} {\\left(0.38 \\, {c} + 0.12\\right)} + 0.0078\\right)} C^{3}\\right)} {\\Delta_{E\\gamma}} + {\\left(-i \\, C^{3.2} {\\Delta_{e\\gamma}}^{2} {\\left({c} + 0.25\\right)}^{2} + C^{4.1} {\\Delta_{e\\gamma}} {\\left({c} + 0.25\\right)} + C^{3.1} {\\Delta_{e\\gamma}} {\\left({c} + 0.25\\right)}^{2} + 0.25i \\, C^{5} + 0.25i \\, C^{3} {\\left({c} + 0.25\\right)}^{2} - C^{4} {\\left(-0.50i \\, {c} - 0.12i\\right)}\\right)} R_{f} + {\\left({\\left({c} {\\left(-0.75i \\, {c} - 0.25i\\right)} - 0.016i\\right)} C^{2.2} {\\Delta_{e\\gamma}}^{2} + {\\left({\\left({c} + 0.75\\right)} {c} + 0.062\\right)} C^{3.1} {\\Delta_{e\\gamma}} + C^{3} {\\left({c} + 0.66\\right)} {\\left(0.50i \\, {c} + 0.048i\\right)} - C^{4} {\\left(-0.50i \\, {c} - 0.062i\\right)} + {\\left({c} {\\left(0.75 \\, {c} + 0.25\\right)} + 0.016\\right)} C^{2.1} {\\Delta_{e\\gamma}}\\right)} {r_f} + {\\left({\\left({c} {\\left(-0.75i \\, {c} - 0.25i\\right)} - 0.016i\\right)} C^{2.2} {\\Delta_{e\\gamma}}^{2} + {\\left({\\left({c} + 0.75\\right)} {c} + 0.062\\right)} C^{3.1} {\\Delta_{e\\gamma}} + C^{3} {\\left({c} + 0.66\\right)} {\\left(0.50i \\, {c} + 0.048i\\right)} - C^{4} {\\left(-0.50i \\, {c} - 0.062i\\right)} + {\\left({c} {\\left(0.75 \\, {c} + 0.25\\right)} + 0.016\\right)} C^{2.1} {\\Delta_{e\\gamma}}\\right)} {r_g}\\right)} \\gamma} - \\frac{{\\left({\\left({c} + 0.33\\right)} {c} + 0.021\\right)} \\Omega^{2}}{{\\left(0.66i \\, R_{f} {\\left({c} + 0.25\\right)}^{2} + {\\left({\\left({c} + 0.33\\right)} {c} + 0.021\\right)} {\\Delta_{E\\gamma}}\\right)} C \\gamma} - \\frac{{\\left({\\left({c} + 0.33\\right)} {c} + 0.021\\right)} \\Omega^{2}}{{\\left(-0.66i \\, R_{f} {\\left({c} + 0.25\\right)}^{2} + {\\left({\\left({c} + 0.33\\right)} {c} + 0.021\\right)} {\\Delta_{E\\gamma}}\\right)} C \\gamma}}$$"
      ],
      "text/plain": [
       "-6.3/(2*(((4*c + 1.3)*c + 0.083)*C^25.*Deg - (c*(2.7*I*c + 2*I) + 0.17*I)*C^26. - C^24.*(c + 0.25)*(2*I*c + 0.17*I))*Omega^2/(((((4*c + 1.3)*c + 0.083)*C^26.*Deg - (c*(2.7*I*c + 2*I) + 0.17*I)*C^26. - C^26.*(c + 0.25)*(2*I*c + 0.17*I))*DEg + ((c*(-2.7*I*c - 1.3*I) - 0.17*I)*C^26.*Deg - C^26.*(1.3*c + 0.33) - ((1.3*c + 0.66)*c + 0.083)*C^26.)*R_f + ((c*(-2*I*c - 0.66*I) - 0.042*I)*C^25.*Deg - ((1.3*c + 1)*c + 0.083)*C^26. - ((c + 0.33)*c + 0.021)*C^24.)*r_f + ((c*(-2*I*c - 0.66*I) - 0.042*I)*C^25.*Deg - ((1.3*c + 1)*c + 0.083)*C^26. - ((c + 0.33)*c + 0.021)*C^24.)*r_g)*gamma) + 2*(((4*c + 1.3)*c + 0.083)*C^25.*Deg - (c*(-2.7*I*c - 2*I) - 0.17*I)*C^26. - C^24.*(c + 0.25)*(-2*I*c - 0.17*I))*Omega^2/(((((4*c + 1.3)*c + 0.083)*C^26.*Deg - (c*(-2.7*I*c - 2*I) - 0.17*I)*C^26. - C^26.*(c + 0.25)*(-2*I*c - 0.17*I))*DEg + ((c*(2.7*I*c + 1.3*I) + 0.17*I)*C^26.*Deg - C^26.*(1.3*c + 0.33) - ((1.3*c + 0.66)*c + 0.083)*C^26.)*R_f + ((c*(2*I*c + 0.66*I) + 0.042*I)*C^25.*Deg - ((1.3*c + 1)*c + 0.083)*C^26. - ((c + 0.33)*c + 0.021)*C^24.)*r_f + ((c*(2*I*c + 0.66*I) + 0.042*I)*C^25.*Deg - ((1.3*c + 1)*c + 0.083)*C^26. - ((c + 0.33)*c + 0.021)*C^24.)*r_g)*gamma) - ((c*(-1.5*c - 0.50) - 0.031)*C^2.2*Deg^2 + (0.75*c*(2.7*I*c + 2*I) + 0.12*I)*C^3.1*Deg + 0.75*C^4*(1.3*c + 0.17) + (0.75*c*(2*I*c + 0.66*I) + 0.031*I)*C^2.1*Deg + (0.75*(1.3*c + 1)*c + 0.062)*C^3 + (c*(0.38*c + 0.12) + 0.0078)*C^2)*Omega^2/((((c*(-1.5*c - 0.50) - 0.031)*C^3.2*Deg^2 + (c*(2*I*c + 1.5*I) + 0.12*I)*C^4.1*Deg + C^5*(c + 0.12) + (c*(1.5*I*c + 0.50*I) + 0.031*I)*C^3.1*Deg + ((c + 0.75)*c + 0.062)*C^4 + (c*(0.38*c + 0.12) + 0.0078)*C^3)*DEg + (I*C^3.2*Deg^2*(c + 0.25)^2 + C^4.1*Deg*(c + 0.25) + C^3.1*Deg*(c + 0.25)^2 - 0.25*I*C^5 - 0.25*I*C^3*(c + 0.25)^2 - C^4*(0.50*I*c + 0.12*I))*R_f + ((c*(0.75*I*c + 0.25*I) + 0.016*I)*C^2.2*Deg^2 + ((c + 0.75)*c + 0.062)*C^3.1*Deg - C^4*(0.50*I*c + 0.062*I) + C^3*(c + 0.66)*(-0.50*I*c - 0.048*I) + (c*(0.75*c + 0.25) + 0.016)*C^2.1*Deg)*r_f + ((c*(0.75*I*c + 0.25*I) + 0.016*I)*C^2.2*Deg^2 + ((c + 0.75)*c + 0.062)*C^3.1*Deg - C^4*(0.50*I*c + 0.062*I) + C^3*(c + 0.66)*(-0.50*I*c - 0.048*I) + (c*(0.75*c + 0.25) + 0.016)*C^2.1*Deg)*r_g)*gamma) - ((c*(-1.5*c - 0.50) - 0.031)*C^2.2*Deg^2 + (0.75*c*(-2.7*I*c - 2*I) - 0.12*I)*C^3.1*Deg + 0.75*C^4*(1.3*c + 0.17) + (0.75*c*(-2*I*c - 0.66*I) - 0.031*I)*C^2.1*Deg + (0.75*(1.3*c + 1)*c + 0.062)*C^3 + (c*(0.38*c + 0.12) + 0.0078)*C^2)*Omega^2/((((c*(-1.5*c - 0.50) - 0.031)*C^3.2*Deg^2 + (c*(-2*I*c - 1.5*I) - 0.12*I)*C^4.1*Deg + C^5*(c + 0.12) + (c*(-1.5*I*c - 0.50*I) - 0.031*I)*C^3.1*Deg + ((c + 0.75)*c + 0.062)*C^4 + (c*(0.38*c + 0.12) + 0.0078)*C^3)*DEg + (-I*C^3.2*Deg^2*(c + 0.25)^2 + C^4.1*Deg*(c + 0.25) + C^3.1*Deg*(c + 0.25)^2 + 0.25*I*C^5 + 0.25*I*C^3*(c + 0.25)^2 - C^4*(-0.50*I*c - 0.12*I))*R_f + ((c*(-0.75*I*c - 0.25*I) - 0.016*I)*C^2.2*Deg^2 + ((c + 0.75)*c + 0.062)*C^3.1*Deg + C^3*(c + 0.66)*(0.50*I*c + 0.048*I) - C^4*(-0.50*I*c - 0.062*I) + (c*(0.75*c + 0.25) + 0.016)*C^2.1*Deg)*r_f + ((c*(-0.75*I*c - 0.25*I) - 0.016*I)*C^2.2*Deg^2 + ((c + 0.75)*c + 0.062)*C^3.1*Deg + C^3*(c + 0.66)*(0.50*I*c + 0.048*I) - C^4*(-0.50*I*c - 0.062*I) + (c*(0.75*c + 0.25) + 0.016)*C^2.1*Deg)*r_g)*gamma) - ((c + 0.33)*c + 0.021)*Omega^2/((0.66*I*R_f*(c + 0.25)^2 + ((c + 0.33)*c + 0.021)*DEg)*C*gamma) - ((c + 0.33)*c + 0.021)*Omega^2/((-0.66*I*R_f*(c + 0.25)^2 + ((c + 0.33)*c + 0.021)*DEg)*C*gamma))"
      ]
     },
     "metadata": {},
     "output_type": "display_data"
    }
   ],
   "source": [
    "show(symround((t_g)))\n",
    "#GHZ REGIME \n",
    "rf =1 \n",
    "de=122183415123789/100000000000000\n",
    "r_v=1.01014311134038/c_k\n",
    "#show(symround((t_g.subs(R_f =rf ,DEg=de,R_v=r_v))))"
   ]
  },
  {
   "cell_type": "markdown",
   "id": "1498df0a",
   "metadata": {},
   "source": [
    "# Lindblau Operators in $C \\longrightarrow \\infty$ limit\n",
    "\n",
    "Choose which of the Lindblau operators to view and which non zero element of it"
   ]
  },
  {
   "cell_type": "code",
   "execution_count": 205,
   "id": "847371b4",
   "metadata": {
    "scrolled": true
   },
   "outputs": [
    {
     "name": "stdout",
     "output_type": "stream",
     "text": [
      "0 out of 8\n",
      "symround: Deleted coefficient 1.2e-16\n",
      "symround: Deleted coefficient -1.8e-16\n",
      "symround: Deleted coefficient -6.2e-17\n",
      "symround: Deleted coefficient -3.8e-18\n",
      "symround: Deleted coefficient -1.2e-16\n"
     ]
    }
   ],
   "source": [
    "lind_op_number = len(s1.lindblau_list)\n",
    "\n",
    "eff_lind_taylor = []\n",
    "eff_lind = []\n",
    "eff_lind_coeff = []\n",
    "for lind_op in range(1):\n",
    "    print(f'{lind_op} out of {lind_op_number-1}')\n",
    "    eff_lind_taylor.append([])\n",
    "    eff_lind.append([])\n",
    "    L_matrix = s1.eff_lindblau_list[lind_op]\n",
    "    L_nonzeros = []\n",
    "    L_nonzeros_pos = []\n",
    "    for i in  range(L_matrix.nrows()):\n",
    "        for j in  range(L_matrix.ncols()):\n",
    "            if not L_matrix[i,j].is_zero():\n",
    "                L_nonzeros.append(L_matrix[i,j])\n",
    "                L_nonzeros_pos.append((i,j))\n",
    "    eff_lind_coeff.append(s1.L_coeffs[lind_op])\n",
    "    for which in range(len(L_nonzeros)):\n",
    "\n",
    "        L_elem = L_nonzeros[which]\n",
    "\n",
    "        #L_elem = L_elem.subs(DE=+0.5*I*gamma_f + 0.5*I*gamma_g + DEt*gamma)\n",
    "        #L_elem = L_elem.subs(De=+0.5*I*gamma   +Det*gamma)\n",
    "        L_elem = L_elem.subs(De=Deg*gamma*C^m)\n",
    "        L_elem = L_elem.subs(DE=DEg*gamma*C^n)\n",
    "\n",
    "        #COUPLINGS\n",
    "\n",
    "        L_elem = L_elem.subs(g_f=g*sqrt(R_f))\n",
    "\n",
    "        L_elem = L_elem.subs(v=g*sqrt(R_v))\n",
    "\n",
    "        #ABSORBTIONS\n",
    "        L_elem = L_elem.subs(kappa_b=gamma/r_b)\n",
    "\n",
    "        L_elem = L_elem.subs(gamma_g=gamma*r_g)\n",
    "\n",
    "        L_elem = L_elem.subs(gamma_f=gamma*r_f)\n",
    "\n",
    "        L_elem = L_elem.subs(g = sqrt(C*gamma*kappa_c)) \n",
    "        L_elem = L_elem.subs(r_b = c/(C*R_v))\n",
    "        \n",
    "        L_elem = L_elem._mathematica_().Factor()._sage_()\n",
    "\n",
    "\n",
    "        L_elem = MMA_simplify(L_elem)#,full=True)\n",
    "\n",
    "        L_elem = SR(str(L_elem).replace('Sqrt','sqrt'))\n",
    "        \n",
    "        L_elem_show = symround(L_elem)\n",
    "        \n",
    "        eff_lind[lind_op].append(L_elem_show)\n",
    "        \n",
    "        var('x')\n",
    "        q = L_elem.subs(C=1/x)\n",
    "        q = MMA_simplify(q)\n",
    "        tayl = q._mathematica_().Series((x,0,1)).Normal()._sage_()\n",
    "        tayl = tayl.subs(x=1/C)\n",
    "        tayl = SR(str(tayl).replace('Sqrt','sqrt'))\n",
    "        tayl_show = symround(tayl)\n",
    "        \n",
    "        eff_lind_taylor[-1].append(tayl_show)"
   ]
  },
  {
   "cell_type": "markdown",
   "id": "f1ddbf1c",
   "metadata": {},
   "source": [
    "# See results"
   ]
  },
  {
   "cell_type": "code",
   "execution_count": 206,
   "id": "abd5a8d7",
   "metadata": {},
   "outputs": [],
   "source": [
    "#show((eff_lind_taylor[2][3]))"
   ]
  },
  {
   "cell_type": "code",
   "execution_count": 207,
   "id": "a02f7505",
   "metadata": {},
   "outputs": [],
   "source": [
    "#show(eff_lind[0][3])"
   ]
  },
  {
   "cell_type": "code",
   "execution_count": 209,
   "id": "bc6f635a",
   "metadata": {},
   "outputs": [
    {
     "name": "stdout",
     "output_type": "stream",
     "text": [
      "Interrupting Mathematica...\n"
     ]
    },
    {
     "ename": "KeyboardInterrupt",
     "evalue": "Ctrl-c pressed while running Mathematica",
     "output_type": "error",
     "traceback": [
      "\u001b[0;31m---------------------------------------------------------------------------\u001b[0m",
      "\u001b[0;31mKeyboardInterrupt\u001b[0m                         Traceback (most recent call last)",
      "\u001b[0;32m/opt/SageMath/SageMath/local/lib/python3.9/site-packages/sage/interfaces/expect.py\u001b[0m in \u001b[0;36m_eval_line\u001b[0;34m(self, line, allow_use_file, wait_for_prompt, restart_if_needed)\u001b[0m\n\u001b[1;32m    982\u001b[0m                     \u001b[0;32melse\u001b[0m\u001b[0;34m:\u001b[0m\u001b[0;34m\u001b[0m\u001b[0;34m\u001b[0m\u001b[0m\n\u001b[0;32m--> 983\u001b[0;31m                         \u001b[0mE\u001b[0m\u001b[0;34m.\u001b[0m\u001b[0mexpect\u001b[0m\u001b[0;34m(\u001b[0m\u001b[0mself\u001b[0m\u001b[0;34m.\u001b[0m\u001b[0m_prompt\u001b[0m\u001b[0;34m)\u001b[0m\u001b[0;34m\u001b[0m\u001b[0;34m\u001b[0m\u001b[0m\n\u001b[0m\u001b[1;32m    984\u001b[0m                 \u001b[0;32mexcept\u001b[0m \u001b[0mpexpect\u001b[0m\u001b[0;34m.\u001b[0m\u001b[0mEOF\u001b[0m \u001b[0;32mas\u001b[0m \u001b[0mmsg\u001b[0m\u001b[0;34m:\u001b[0m\u001b[0;34m\u001b[0m\u001b[0;34m\u001b[0m\u001b[0m\n",
      "\u001b[0;32m/opt/SageMath/SageMath/local/lib/python3.9/site-packages/pexpect/spawnbase.py\u001b[0m in \u001b[0;36mexpect\u001b[0;34m(self, pattern, timeout, searchwindowsize, async_, **kw)\u001b[0m\n\u001b[1;32m    342\u001b[0m         \u001b[0mcompiled_pattern_list\u001b[0m \u001b[0;34m=\u001b[0m \u001b[0mself\u001b[0m\u001b[0;34m.\u001b[0m\u001b[0mcompile_pattern_list\u001b[0m\u001b[0;34m(\u001b[0m\u001b[0mpattern\u001b[0m\u001b[0;34m)\u001b[0m\u001b[0;34m\u001b[0m\u001b[0;34m\u001b[0m\u001b[0m\n\u001b[0;32m--> 343\u001b[0;31m         return self.expect_list(compiled_pattern_list,\n\u001b[0m\u001b[1;32m    344\u001b[0m                 timeout, searchwindowsize, async_)\n",
      "\u001b[0;32m/opt/SageMath/SageMath/local/lib/python3.9/site-packages/pexpect/spawnbase.py\u001b[0m in \u001b[0;36mexpect_list\u001b[0;34m(self, pattern_list, timeout, searchwindowsize, async_, **kw)\u001b[0m\n\u001b[1;32m    371\u001b[0m         \u001b[0;32melse\u001b[0m\u001b[0;34m:\u001b[0m\u001b[0;34m\u001b[0m\u001b[0;34m\u001b[0m\u001b[0m\n\u001b[0;32m--> 372\u001b[0;31m             \u001b[0;32mreturn\u001b[0m \u001b[0mexp\u001b[0m\u001b[0;34m.\u001b[0m\u001b[0mexpect_loop\u001b[0m\u001b[0;34m(\u001b[0m\u001b[0mtimeout\u001b[0m\u001b[0;34m)\u001b[0m\u001b[0;34m\u001b[0m\u001b[0;34m\u001b[0m\u001b[0m\n\u001b[0m\u001b[1;32m    373\u001b[0m \u001b[0;34m\u001b[0m\u001b[0m\n",
      "\u001b[0;32m/opt/SageMath/SageMath/local/lib/python3.9/site-packages/pexpect/expect.py\u001b[0m in \u001b[0;36mexpect_loop\u001b[0;34m(self, timeout)\u001b[0m\n\u001b[1;32m    168\u001b[0m                 \u001b[0;31m# Still have time left, so read more data\u001b[0m\u001b[0;34m\u001b[0m\u001b[0;34m\u001b[0m\u001b[0;34m\u001b[0m\u001b[0m\n\u001b[0;32m--> 169\u001b[0;31m                 \u001b[0mincoming\u001b[0m \u001b[0;34m=\u001b[0m \u001b[0mspawn\u001b[0m\u001b[0;34m.\u001b[0m\u001b[0mread_nonblocking\u001b[0m\u001b[0;34m(\u001b[0m\u001b[0mspawn\u001b[0m\u001b[0;34m.\u001b[0m\u001b[0mmaxread\u001b[0m\u001b[0;34m,\u001b[0m \u001b[0mtimeout\u001b[0m\u001b[0;34m)\u001b[0m\u001b[0;34m\u001b[0m\u001b[0;34m\u001b[0m\u001b[0m\n\u001b[0m\u001b[1;32m    170\u001b[0m                 \u001b[0;32mif\u001b[0m \u001b[0mself\u001b[0m\u001b[0;34m.\u001b[0m\u001b[0mspawn\u001b[0m\u001b[0;34m.\u001b[0m\u001b[0mdelayafterread\u001b[0m \u001b[0;32mis\u001b[0m \u001b[0;32mnot\u001b[0m \u001b[0;32mNone\u001b[0m\u001b[0;34m:\u001b[0m\u001b[0;34m\u001b[0m\u001b[0;34m\u001b[0m\u001b[0m\n",
      "\u001b[0;32m/opt/SageMath/SageMath/local/lib/python3.9/site-packages/pexpect/pty_spawn.py\u001b[0m in \u001b[0;36mread_nonblocking\u001b[0;34m(self, size, timeout)\u001b[0m\n\u001b[1;32m    499\u001b[0m         \u001b[0;31m# (possibly timeout=None), we call select() with a timeout.\u001b[0m\u001b[0;34m\u001b[0m\u001b[0;34m\u001b[0m\u001b[0;34m\u001b[0m\u001b[0m\n\u001b[0;32m--> 500\u001b[0;31m         \u001b[0;32mif\u001b[0m \u001b[0;34m(\u001b[0m\u001b[0mtimeout\u001b[0m \u001b[0;34m!=\u001b[0m \u001b[0;36m0\u001b[0m\u001b[0;34m)\u001b[0m \u001b[0;32mand\u001b[0m \u001b[0mselect\u001b[0m\u001b[0;34m(\u001b[0m\u001b[0mtimeout\u001b[0m\u001b[0;34m)\u001b[0m\u001b[0;34m:\u001b[0m\u001b[0;34m\u001b[0m\u001b[0;34m\u001b[0m\u001b[0m\n\u001b[0m\u001b[1;32m    501\u001b[0m             \u001b[0;32mreturn\u001b[0m \u001b[0msuper\u001b[0m\u001b[0;34m(\u001b[0m\u001b[0mspawn\u001b[0m\u001b[0;34m,\u001b[0m \u001b[0mself\u001b[0m\u001b[0;34m)\u001b[0m\u001b[0;34m.\u001b[0m\u001b[0mread_nonblocking\u001b[0m\u001b[0;34m(\u001b[0m\u001b[0msize\u001b[0m\u001b[0;34m)\u001b[0m\u001b[0;34m\u001b[0m\u001b[0;34m\u001b[0m\u001b[0m\n",
      "\u001b[0;32m/opt/SageMath/SageMath/local/lib/python3.9/site-packages/pexpect/pty_spawn.py\u001b[0m in \u001b[0;36mselect\u001b[0;34m(timeout)\u001b[0m\n\u001b[1;32m    449\u001b[0m             \u001b[0;32mdef\u001b[0m \u001b[0mselect\u001b[0m\u001b[0;34m(\u001b[0m\u001b[0mtimeout\u001b[0m\u001b[0;34m)\u001b[0m\u001b[0;34m:\u001b[0m\u001b[0;34m\u001b[0m\u001b[0;34m\u001b[0m\u001b[0m\n\u001b[0;32m--> 450\u001b[0;31m                 \u001b[0;32mreturn\u001b[0m \u001b[0mselect_ignore_interrupts\u001b[0m\u001b[0;34m(\u001b[0m\u001b[0;34m[\u001b[0m\u001b[0mself\u001b[0m\u001b[0;34m.\u001b[0m\u001b[0mchild_fd\u001b[0m\u001b[0;34m]\u001b[0m\u001b[0;34m,\u001b[0m \u001b[0;34m[\u001b[0m\u001b[0;34m]\u001b[0m\u001b[0;34m,\u001b[0m \u001b[0;34m[\u001b[0m\u001b[0;34m]\u001b[0m\u001b[0;34m,\u001b[0m \u001b[0mtimeout\u001b[0m\u001b[0;34m)\u001b[0m\u001b[0;34m[\u001b[0m\u001b[0;36m0\u001b[0m\u001b[0;34m]\u001b[0m\u001b[0;34m\u001b[0m\u001b[0;34m\u001b[0m\u001b[0m\n\u001b[0m\u001b[1;32m    451\u001b[0m \u001b[0;34m\u001b[0m\u001b[0m\n",
      "\u001b[0;32m/opt/SageMath/SageMath/local/lib/python3.9/site-packages/pexpect/utils.py\u001b[0m in \u001b[0;36mselect_ignore_interrupts\u001b[0;34m(iwtd, owtd, ewtd, timeout)\u001b[0m\n\u001b[1;32m    142\u001b[0m         \u001b[0;32mtry\u001b[0m\u001b[0;34m:\u001b[0m\u001b[0;34m\u001b[0m\u001b[0;34m\u001b[0m\u001b[0m\n\u001b[0;32m--> 143\u001b[0;31m             \u001b[0;32mreturn\u001b[0m \u001b[0mselect\u001b[0m\u001b[0;34m.\u001b[0m\u001b[0mselect\u001b[0m\u001b[0;34m(\u001b[0m\u001b[0miwtd\u001b[0m\u001b[0;34m,\u001b[0m \u001b[0mowtd\u001b[0m\u001b[0;34m,\u001b[0m \u001b[0mewtd\u001b[0m\u001b[0;34m,\u001b[0m \u001b[0mtimeout\u001b[0m\u001b[0;34m)\u001b[0m\u001b[0;34m\u001b[0m\u001b[0;34m\u001b[0m\u001b[0m\n\u001b[0m\u001b[1;32m    144\u001b[0m         \u001b[0;32mexcept\u001b[0m \u001b[0mInterruptedError\u001b[0m\u001b[0;34m:\u001b[0m\u001b[0;34m\u001b[0m\u001b[0;34m\u001b[0m\u001b[0m\n",
      "\u001b[0;32msrc/cysignals/signals.pyx\u001b[0m in \u001b[0;36mcysignals.signals.python_check_interrupt\u001b[0;34m()\u001b[0m\n",
      "\u001b[0;31mKeyboardInterrupt\u001b[0m: ",
      "\nDuring handling of the above exception, another exception occurred:\n",
      "\u001b[0;31mKeyboardInterrupt\u001b[0m                         Traceback (most recent call last)",
      "\u001b[0;32m<ipython-input-209-02158a6e18a2>\u001b[0m in \u001b[0;36m<module>\u001b[0;34m\u001b[0m\n\u001b[1;32m      3\u001b[0m \u001b[0ma\u001b[0m \u001b[0;34m=\u001b[0m \u001b[0meff_lind_taylor\u001b[0m\u001b[0;34m[\u001b[0m\u001b[0mlindop\u001b[0m\u001b[0;34m]\u001b[0m\u001b[0;34m[\u001b[0m\u001b[0mInteger\u001b[0m\u001b[0;34m(\u001b[0m\u001b[0;36m0\u001b[0m\u001b[0;34m)\u001b[0m\u001b[0;34m]\u001b[0m\u001b[0;34m\u001b[0m\u001b[0;34m\u001b[0m\u001b[0m\n\u001b[1;32m      4\u001b[0m \u001b[0merr\u001b[0m \u001b[0;34m=\u001b[0m \u001b[0mt_g\u001b[0m\u001b[0;34m*\u001b[0m\u001b[0ma\u001b[0m\u001b[0;34m*\u001b[0m\u001b[0mconjugate\u001b[0m\u001b[0;34m(\u001b[0m\u001b[0ma\u001b[0m\u001b[0;34m)\u001b[0m\u001b[0;34m\u001b[0m\u001b[0;34m\u001b[0m\u001b[0m\n\u001b[0;32m----> 5\u001b[0;31m \u001b[0merr\u001b[0m \u001b[0;34m=\u001b[0m \u001b[0mSR\u001b[0m\u001b[0;34m(\u001b[0m\u001b[0mstr\u001b[0m\u001b[0;34m(\u001b[0m\u001b[0mMMA_simplify\u001b[0m\u001b[0;34m(\u001b[0m \u001b[0merr\u001b[0m\u001b[0;34m,\u001b[0m\u001b[0mfull\u001b[0m\u001b[0;34m=\u001b[0m\u001b[0;32mFalse\u001b[0m \u001b[0;34m)\u001b[0m\u001b[0;34m)\u001b[0m\u001b[0;34m.\u001b[0m\u001b[0mreplace\u001b[0m\u001b[0;34m(\u001b[0m\u001b[0;34m'Sqrt'\u001b[0m\u001b[0;34m,\u001b[0m\u001b[0;34m'sqrt'\u001b[0m\u001b[0;34m)\u001b[0m\u001b[0;34m)\u001b[0m\u001b[0;34m.\u001b[0m\u001b[0msimplify\u001b[0m\u001b[0;34m(\u001b[0m\u001b[0;34m)\u001b[0m\u001b[0;34m\u001b[0m\u001b[0;34m\u001b[0m\u001b[0m\n\u001b[0m\u001b[1;32m      6\u001b[0m \u001b[0mshow\u001b[0m\u001b[0;34m(\u001b[0m \u001b[0msymround\u001b[0m\u001b[0;34m(\u001b[0m \u001b[0merr\u001b[0m \u001b[0;34m)\u001b[0m \u001b[0;34m)\u001b[0m\u001b[0;34m\u001b[0m\u001b[0;34m\u001b[0m\u001b[0m\n\u001b[1;32m      7\u001b[0m \u001b[0mprint\u001b[0m\u001b[0;34m(\u001b[0m\u001b[0;34mf'coeff:'\u001b[0m\u001b[0;34m)\u001b[0m\u001b[0;34m\u001b[0m\u001b[0;34m\u001b[0m\u001b[0m\n",
      "\u001b[0;32m~/Thesis/Code/Yorgos_Thesis/functions.py\u001b[0m in \u001b[0;36mMMA_simplify\u001b[0;34m(expr, full)\u001b[0m\n\u001b[1;32m    109\u001b[0m         \u001b[0mexpr_simpl_m\u001b[0m  \u001b[0;34m=\u001b[0m  \u001b[0mexpr\u001b[0m\u001b[0;34m.\u001b[0m\u001b[0m_mathematica_\u001b[0m\u001b[0;34m(\u001b[0m\u001b[0;34m)\u001b[0m\u001b[0;34m.\u001b[0m\u001b[0mFullSimplify\u001b[0m\u001b[0;34m(\u001b[0m\u001b[0;34m)\u001b[0m\u001b[0;34m\u001b[0m\u001b[0;34m\u001b[0m\u001b[0m\n\u001b[1;32m    110\u001b[0m     \u001b[0;32melse\u001b[0m\u001b[0;34m:\u001b[0m\u001b[0;34m\u001b[0m\u001b[0;34m\u001b[0m\u001b[0m\n\u001b[0;32m--> 111\u001b[0;31m         \u001b[0mexpr_simpl_m\u001b[0m  \u001b[0;34m=\u001b[0m  \u001b[0mexpr\u001b[0m\u001b[0;34m.\u001b[0m\u001b[0m_mathematica_\u001b[0m\u001b[0;34m(\u001b[0m\u001b[0;34m)\u001b[0m\u001b[0;34m.\u001b[0m\u001b[0mSimplify\u001b[0m\u001b[0;34m(\u001b[0m\u001b[0;34m)\u001b[0m\u001b[0;34m\u001b[0m\u001b[0;34m\u001b[0m\u001b[0m\n\u001b[0m\u001b[1;32m    112\u001b[0m \u001b[0;34m\u001b[0m\u001b[0m\n\u001b[1;32m    113\u001b[0m     \u001b[0mexpr_simpl_sg\u001b[0m \u001b[0;34m=\u001b[0m \u001b[0mexpr_simpl_m\u001b[0m\u001b[0;34m.\u001b[0m\u001b[0m_sage_\u001b[0m\u001b[0;34m(\u001b[0m\u001b[0;34m)\u001b[0m\u001b[0;34m\u001b[0m\u001b[0;34m\u001b[0m\u001b[0m\n",
      "\u001b[0;32m/opt/SageMath/SageMath/local/lib/python3.9/site-packages/sage/interfaces/interface.py\u001b[0m in \u001b[0;36m__call__\u001b[0;34m(self, *args, **kwds)\u001b[0m\n\u001b[1;32m    677\u001b[0m \u001b[0;34m\u001b[0m\u001b[0m\n\u001b[1;32m    678\u001b[0m     \u001b[0;32mdef\u001b[0m \u001b[0m__call__\u001b[0m\u001b[0;34m(\u001b[0m\u001b[0mself\u001b[0m\u001b[0;34m,\u001b[0m \u001b[0;34m*\u001b[0m\u001b[0margs\u001b[0m\u001b[0;34m,\u001b[0m \u001b[0;34m**\u001b[0m\u001b[0mkwds\u001b[0m\u001b[0;34m)\u001b[0m\u001b[0;34m:\u001b[0m\u001b[0;34m\u001b[0m\u001b[0;34m\u001b[0m\u001b[0m\n\u001b[0;32m--> 679\u001b[0;31m         \u001b[0;32mreturn\u001b[0m \u001b[0mself\u001b[0m\u001b[0;34m.\u001b[0m\u001b[0m_obj\u001b[0m\u001b[0;34m.\u001b[0m\u001b[0mparent\u001b[0m\u001b[0;34m(\u001b[0m\u001b[0;34m)\u001b[0m\u001b[0;34m.\u001b[0m\u001b[0mfunction_call\u001b[0m\u001b[0;34m(\u001b[0m\u001b[0mself\u001b[0m\u001b[0;34m.\u001b[0m\u001b[0m_name\u001b[0m\u001b[0;34m,\u001b[0m \u001b[0;34m[\u001b[0m\u001b[0mself\u001b[0m\u001b[0;34m.\u001b[0m\u001b[0m_obj\u001b[0m\u001b[0;34m]\u001b[0m \u001b[0;34m+\u001b[0m \u001b[0mlist\u001b[0m\u001b[0;34m(\u001b[0m\u001b[0margs\u001b[0m\u001b[0;34m)\u001b[0m\u001b[0;34m,\u001b[0m \u001b[0mkwds\u001b[0m\u001b[0;34m)\u001b[0m\u001b[0;34m\u001b[0m\u001b[0;34m\u001b[0m\u001b[0m\n\u001b[0m\u001b[1;32m    680\u001b[0m \u001b[0;34m\u001b[0m\u001b[0m\n\u001b[1;32m    681\u001b[0m     \u001b[0;32mdef\u001b[0m \u001b[0mhelp\u001b[0m\u001b[0;34m(\u001b[0m\u001b[0mself\u001b[0m\u001b[0;34m)\u001b[0m\u001b[0;34m:\u001b[0m\u001b[0;34m\u001b[0m\u001b[0;34m\u001b[0m\u001b[0m\n",
      "\u001b[0;32m/opt/SageMath/SageMath/local/lib/python3.9/site-packages/sage/interfaces/interface.py\u001b[0m in \u001b[0;36mfunction_call\u001b[0;34m(self, function, args, kwds)\u001b[0m\n\u001b[1;32m    598\u001b[0m                                        \u001b[0;34m[\u001b[0m\u001b[0ms\u001b[0m\u001b[0;34m.\u001b[0m\u001b[0mname\u001b[0m\u001b[0;34m(\u001b[0m\u001b[0;34m)\u001b[0m \u001b[0;32mfor\u001b[0m \u001b[0ms\u001b[0m \u001b[0;32min\u001b[0m \u001b[0margs\u001b[0m\u001b[0;34m]\u001b[0m\u001b[0;34m,\u001b[0m\u001b[0;34m\u001b[0m\u001b[0;34m\u001b[0m\u001b[0m\n\u001b[1;32m    599\u001b[0m                                        ['%s=%s'%(key,value.name()) for key, value in kwds.items()])\n\u001b[0;32m--> 600\u001b[0;31m         \u001b[0;32mreturn\u001b[0m \u001b[0mself\u001b[0m\u001b[0;34m.\u001b[0m\u001b[0mnew\u001b[0m\u001b[0;34m(\u001b[0m\u001b[0ms\u001b[0m\u001b[0;34m)\u001b[0m\u001b[0;34m\u001b[0m\u001b[0;34m\u001b[0m\u001b[0m\n\u001b[0m\u001b[1;32m    601\u001b[0m \u001b[0;34m\u001b[0m\u001b[0m\n\u001b[1;32m    602\u001b[0m     \u001b[0;32mdef\u001b[0m \u001b[0m_function_call_string\u001b[0m\u001b[0;34m(\u001b[0m\u001b[0mself\u001b[0m\u001b[0;34m,\u001b[0m \u001b[0mfunction\u001b[0m\u001b[0;34m,\u001b[0m \u001b[0margs\u001b[0m\u001b[0;34m,\u001b[0m \u001b[0mkwds\u001b[0m\u001b[0;34m)\u001b[0m\u001b[0;34m:\u001b[0m\u001b[0;34m\u001b[0m\u001b[0;34m\u001b[0m\u001b[0m\n",
      "\u001b[0;32m/opt/SageMath/SageMath/local/lib/python3.9/site-packages/sage/interfaces/interface.py\u001b[0m in \u001b[0;36mnew\u001b[0;34m(self, code)\u001b[0m\n\u001b[1;32m    367\u001b[0m \u001b[0;34m\u001b[0m\u001b[0m\n\u001b[1;32m    368\u001b[0m     \u001b[0;32mdef\u001b[0m \u001b[0mnew\u001b[0m\u001b[0;34m(\u001b[0m\u001b[0mself\u001b[0m\u001b[0;34m,\u001b[0m \u001b[0mcode\u001b[0m\u001b[0;34m)\u001b[0m\u001b[0;34m:\u001b[0m\u001b[0;34m\u001b[0m\u001b[0;34m\u001b[0m\u001b[0m\n\u001b[0;32m--> 369\u001b[0;31m         \u001b[0;32mreturn\u001b[0m \u001b[0mself\u001b[0m\u001b[0;34m(\u001b[0m\u001b[0mcode\u001b[0m\u001b[0;34m)\u001b[0m\u001b[0;34m\u001b[0m\u001b[0;34m\u001b[0m\u001b[0m\n\u001b[0m\u001b[1;32m    370\u001b[0m \u001b[0;34m\u001b[0m\u001b[0m\n\u001b[1;32m    371\u001b[0m     \u001b[0;31m###################################################################\u001b[0m\u001b[0;34m\u001b[0m\u001b[0;34m\u001b[0m\u001b[0;34m\u001b[0m\u001b[0m\n",
      "\u001b[0;32m/opt/SageMath/SageMath/local/lib/python3.9/site-packages/sage/interfaces/interface.py\u001b[0m in \u001b[0;36m__call__\u001b[0;34m(self, x, name)\u001b[0m\n\u001b[1;32m    293\u001b[0m \u001b[0;34m\u001b[0m\u001b[0m\n\u001b[1;32m    294\u001b[0m         \u001b[0;32mif\u001b[0m \u001b[0misinstance\u001b[0m\u001b[0;34m(\u001b[0m\u001b[0mx\u001b[0m\u001b[0;34m,\u001b[0m \u001b[0mstr\u001b[0m\u001b[0;34m)\u001b[0m\u001b[0;34m:\u001b[0m\u001b[0;34m\u001b[0m\u001b[0;34m\u001b[0m\u001b[0m\n\u001b[0;32m--> 295\u001b[0;31m             \u001b[0;32mreturn\u001b[0m \u001b[0mcls\u001b[0m\u001b[0;34m(\u001b[0m\u001b[0mself\u001b[0m\u001b[0;34m,\u001b[0m \u001b[0mx\u001b[0m\u001b[0;34m,\u001b[0m \u001b[0mname\u001b[0m\u001b[0;34m=\u001b[0m\u001b[0mname\u001b[0m\u001b[0;34m)\u001b[0m\u001b[0;34m\u001b[0m\u001b[0;34m\u001b[0m\u001b[0m\n\u001b[0m\u001b[1;32m    296\u001b[0m         \u001b[0;32mtry\u001b[0m\u001b[0;34m:\u001b[0m\u001b[0;34m\u001b[0m\u001b[0;34m\u001b[0m\u001b[0m\n\u001b[1;32m    297\u001b[0m             \u001b[0;31m# Special methods do not and should not have an option to\u001b[0m\u001b[0;34m\u001b[0m\u001b[0;34m\u001b[0m\u001b[0;34m\u001b[0m\u001b[0m\n",
      "\u001b[0;32m/opt/SageMath/SageMath/local/lib/python3.9/site-packages/sage/interfaces/expect.py\u001b[0m in \u001b[0;36m__init__\u001b[0;34m(self, parent, value, is_name, name)\u001b[0m\n\u001b[1;32m   1466\u001b[0m         \u001b[0;32melse\u001b[0m\u001b[0;34m:\u001b[0m\u001b[0;34m\u001b[0m\u001b[0;34m\u001b[0m\u001b[0m\n\u001b[1;32m   1467\u001b[0m             \u001b[0;32mtry\u001b[0m\u001b[0;34m:\u001b[0m\u001b[0;34m\u001b[0m\u001b[0;34m\u001b[0m\u001b[0m\n\u001b[0;32m-> 1468\u001b[0;31m                 \u001b[0mself\u001b[0m\u001b[0;34m.\u001b[0m\u001b[0m_name\u001b[0m \u001b[0;34m=\u001b[0m \u001b[0mparent\u001b[0m\u001b[0;34m.\u001b[0m\u001b[0m_create\u001b[0m\u001b[0;34m(\u001b[0m\u001b[0mvalue\u001b[0m\u001b[0;34m,\u001b[0m \u001b[0mname\u001b[0m\u001b[0;34m=\u001b[0m\u001b[0mname\u001b[0m\u001b[0;34m)\u001b[0m\u001b[0;34m\u001b[0m\u001b[0;34m\u001b[0m\u001b[0m\n\u001b[0m\u001b[1;32m   1469\u001b[0m             \u001b[0;31m# Convert ValueError and RuntimeError to TypeError for\u001b[0m\u001b[0;34m\u001b[0m\u001b[0;34m\u001b[0m\u001b[0;34m\u001b[0m\u001b[0m\n\u001b[1;32m   1470\u001b[0m             \u001b[0;31m# coercion to work properly.\u001b[0m\u001b[0;34m\u001b[0m\u001b[0;34m\u001b[0m\u001b[0;34m\u001b[0m\u001b[0m\n",
      "\u001b[0;32m/opt/SageMath/SageMath/local/lib/python3.9/site-packages/sage/interfaces/interface.py\u001b[0m in \u001b[0;36m_create\u001b[0;34m(self, value, name)\u001b[0m\n\u001b[1;32m    498\u001b[0m     \u001b[0;32mdef\u001b[0m \u001b[0m_create\u001b[0m\u001b[0;34m(\u001b[0m\u001b[0mself\u001b[0m\u001b[0;34m,\u001b[0m \u001b[0mvalue\u001b[0m\u001b[0;34m,\u001b[0m \u001b[0mname\u001b[0m\u001b[0;34m=\u001b[0m\u001b[0;32mNone\u001b[0m\u001b[0;34m)\u001b[0m\u001b[0;34m:\u001b[0m\u001b[0;34m\u001b[0m\u001b[0;34m\u001b[0m\u001b[0m\n\u001b[1;32m    499\u001b[0m         \u001b[0mname\u001b[0m \u001b[0;34m=\u001b[0m \u001b[0mself\u001b[0m\u001b[0;34m.\u001b[0m\u001b[0m_next_var_name\u001b[0m\u001b[0;34m(\u001b[0m\u001b[0;34m)\u001b[0m \u001b[0;32mif\u001b[0m \u001b[0mname\u001b[0m \u001b[0;32mis\u001b[0m \u001b[0;32mNone\u001b[0m \u001b[0;32melse\u001b[0m \u001b[0mname\u001b[0m\u001b[0;34m\u001b[0m\u001b[0;34m\u001b[0m\u001b[0m\n\u001b[0;32m--> 500\u001b[0;31m         \u001b[0mself\u001b[0m\u001b[0;34m.\u001b[0m\u001b[0mset\u001b[0m\u001b[0;34m(\u001b[0m\u001b[0mname\u001b[0m\u001b[0;34m,\u001b[0m \u001b[0mvalue\u001b[0m\u001b[0;34m)\u001b[0m\u001b[0;34m\u001b[0m\u001b[0;34m\u001b[0m\u001b[0m\n\u001b[0m\u001b[1;32m    501\u001b[0m         \u001b[0;32mreturn\u001b[0m \u001b[0mname\u001b[0m\u001b[0;34m\u001b[0m\u001b[0;34m\u001b[0m\u001b[0m\n\u001b[1;32m    502\u001b[0m \u001b[0;34m\u001b[0m\u001b[0m\n",
      "\u001b[0;32m/opt/SageMath/SageMath/local/lib/python3.9/site-packages/sage/interfaces/mathematica.py\u001b[0m in \u001b[0;36mset\u001b[0;34m(self, var, value)\u001b[0m\n\u001b[1;32m    579\u001b[0m         \u001b[0mcmd\u001b[0m \u001b[0;34m=\u001b[0m \u001b[0;34m'%s=%s;'\u001b[0m\u001b[0;34m%\u001b[0m\u001b[0;34m(\u001b[0m\u001b[0mvar\u001b[0m\u001b[0;34m,\u001b[0m\u001b[0mvalue\u001b[0m\u001b[0;34m)\u001b[0m\u001b[0;34m\u001b[0m\u001b[0;34m\u001b[0m\u001b[0m\n\u001b[1;32m    580\u001b[0m         \u001b[0;31m#out = self.eval(cmd)\u001b[0m\u001b[0;34m\u001b[0m\u001b[0;34m\u001b[0m\u001b[0;34m\u001b[0m\u001b[0m\n\u001b[0;32m--> 581\u001b[0;31m         \u001b[0mout\u001b[0m \u001b[0;34m=\u001b[0m \u001b[0mself\u001b[0m\u001b[0;34m.\u001b[0m\u001b[0m_eval_line\u001b[0m\u001b[0;34m(\u001b[0m\u001b[0mcmd\u001b[0m\u001b[0;34m,\u001b[0m \u001b[0mallow_use_file\u001b[0m\u001b[0;34m=\u001b[0m\u001b[0;32mTrue\u001b[0m\u001b[0;34m)\u001b[0m\u001b[0;34m\u001b[0m\u001b[0;34m\u001b[0m\u001b[0m\n\u001b[0m\u001b[1;32m    582\u001b[0m         \u001b[0;32mif\u001b[0m \u001b[0mlen\u001b[0m\u001b[0;34m(\u001b[0m\u001b[0mout\u001b[0m\u001b[0;34m)\u001b[0m \u001b[0;34m>\u001b[0m \u001b[0;36m8\u001b[0m\u001b[0;34m:\u001b[0m\u001b[0;34m\u001b[0m\u001b[0;34m\u001b[0m\u001b[0m\n\u001b[1;32m    583\u001b[0m             \u001b[0;32mraise\u001b[0m \u001b[0mTypeError\u001b[0m\u001b[0;34m(\u001b[0m\u001b[0;34m\"Error executing code in Mathematica\\nCODE:\\n\\t%s\\nMathematica ERROR:\\n\\t%s\"\u001b[0m\u001b[0;34m%\u001b[0m\u001b[0;34m(\u001b[0m\u001b[0mcmd\u001b[0m\u001b[0;34m,\u001b[0m \u001b[0mout\u001b[0m\u001b[0;34m)\u001b[0m\u001b[0;34m)\u001b[0m\u001b[0;34m\u001b[0m\u001b[0;34m\u001b[0m\u001b[0m\n",
      "\u001b[0;32m/opt/SageMath/SageMath/local/lib/python3.9/site-packages/sage/interfaces/mathematica.py\u001b[0m in \u001b[0;36m_eval_line\u001b[0;34m(self, line, allow_use_file, wait_for_prompt, restart_if_needed)\u001b[0m\n\u001b[1;32m    605\u001b[0m \u001b[0;34m\u001b[0m\u001b[0m\n\u001b[1;32m    606\u001b[0m     \u001b[0;32mdef\u001b[0m \u001b[0m_eval_line\u001b[0m\u001b[0;34m(\u001b[0m\u001b[0mself\u001b[0m\u001b[0;34m,\u001b[0m \u001b[0mline\u001b[0m\u001b[0;34m,\u001b[0m  \u001b[0mallow_use_file\u001b[0m\u001b[0;34m=\u001b[0m\u001b[0;32mTrue\u001b[0m\u001b[0;34m,\u001b[0m \u001b[0mwait_for_prompt\u001b[0m\u001b[0;34m=\u001b[0m\u001b[0;32mTrue\u001b[0m\u001b[0;34m,\u001b[0m \u001b[0mrestart_if_needed\u001b[0m\u001b[0;34m=\u001b[0m\u001b[0;32mFalse\u001b[0m\u001b[0;34m)\u001b[0m\u001b[0;34m:\u001b[0m\u001b[0;34m\u001b[0m\u001b[0;34m\u001b[0m\u001b[0m\n\u001b[0;32m--> 607\u001b[0;31m         s = Expect._eval_line(self, line,\n\u001b[0m\u001b[1;32m    608\u001b[0m              allow_use_file=allow_use_file, wait_for_prompt=wait_for_prompt)\n\u001b[1;32m    609\u001b[0m         \u001b[0;32mreturn\u001b[0m \u001b[0mstr\u001b[0m\u001b[0;34m(\u001b[0m\u001b[0ms\u001b[0m\u001b[0;34m)\u001b[0m\u001b[0;34m.\u001b[0m\u001b[0mstrip\u001b[0m\u001b[0;34m(\u001b[0m\u001b[0;34m'\\n'\u001b[0m\u001b[0;34m)\u001b[0m\u001b[0;34m\u001b[0m\u001b[0;34m\u001b[0m\u001b[0m\n",
      "\u001b[0;32m/opt/SageMath/SageMath/local/lib/python3.9/site-packages/sage/interfaces/expect.py\u001b[0m in \u001b[0;36m_eval_line\u001b[0;34m(self, line, allow_use_file, wait_for_prompt, restart_if_needed)\u001b[0m\n\u001b[1;32m   1013\u001b[0m         \u001b[0;32mexcept\u001b[0m \u001b[0mKeyboardInterrupt\u001b[0m\u001b[0;34m:\u001b[0m\u001b[0;34m\u001b[0m\u001b[0;34m\u001b[0m\u001b[0m\n\u001b[1;32m   1014\u001b[0m             \u001b[0mself\u001b[0m\u001b[0;34m.\u001b[0m\u001b[0m_keyboard_interrupt\u001b[0m\u001b[0;34m(\u001b[0m\u001b[0;34m)\u001b[0m\u001b[0;34m\u001b[0m\u001b[0;34m\u001b[0m\u001b[0m\n\u001b[0;32m-> 1015\u001b[0;31m             \u001b[0;32mraise\u001b[0m \u001b[0mKeyboardInterrupt\u001b[0m\u001b[0;34m(\u001b[0m\u001b[0;34m\"Ctrl-c pressed while running %s\"\u001b[0m \u001b[0;34m%\u001b[0m \u001b[0mself\u001b[0m\u001b[0;34m)\u001b[0m\u001b[0;34m\u001b[0m\u001b[0;34m\u001b[0m\u001b[0m\n\u001b[0m\u001b[1;32m   1016\u001b[0m         \u001b[0;32mif\u001b[0m \u001b[0mself\u001b[0m\u001b[0;34m.\u001b[0m\u001b[0m_terminal_echo\u001b[0m\u001b[0;34m:\u001b[0m\u001b[0;34m\u001b[0m\u001b[0;34m\u001b[0m\u001b[0m\n\u001b[1;32m   1017\u001b[0m             \u001b[0mi\u001b[0m \u001b[0;34m=\u001b[0m \u001b[0mout\u001b[0m\u001b[0;34m.\u001b[0m\u001b[0mfind\u001b[0m\u001b[0;34m(\u001b[0m\u001b[0;34m\"\\n\"\u001b[0m\u001b[0;34m)\u001b[0m\u001b[0;34m\u001b[0m\u001b[0;34m\u001b[0m\u001b[0m\n",
      "\u001b[0;31mKeyboardInterrupt\u001b[0m: Ctrl-c pressed while running Mathematica"
     ]
    }
   ],
   "source": [
    "lindop = 0\n",
    "sub_bool = True\n",
    "a = eff_lind_taylor[lindop][0]\n",
    "err = t_g*a*conjugate(a)\n",
    "err = SR(str(MMA_simplify( err,full=False )).replace('Sqrt','sqrt')).simplify()\n",
    "show( symround( err ) )\n",
    "print(f'coeff:')\n",
    "show(eff_lind_coeff[lindop])"
   ]
  },
  {
   "cell_type": "code",
   "execution_count": null,
   "id": "45c67872",
   "metadata": {},
   "outputs": [],
   "source": [
    "lindop =0\n",
    "sub_bool = True\n",
    "a = eff_lind_taylor[lindop][0]\n",
    "err = t_g*a*conjugate(a)\n",
    "if sub_bool ==True:\n",
    "    err = err.subs(c=np.pi,R_f=3,Deg=np.e,DEg=np.sqrt(5),r_g=np.sqrt(3),r_f=np.sqrt(2))\n",
    "    err = symround(err)\n",
    "err = SR(str(MMA_simplify( err,full=False )).replace('Sqrt','sqrt')).simplify()\n",
    "show( symround( err ) )\n",
    "print(f'coeff:')\n",
    "show(eff_lind_coeff[lindop])"
   ]
  },
  {
   "cell_type": "code",
   "execution_count": null,
   "id": "9eede45f",
   "metadata": {},
   "outputs": [],
   "source": []
  },
  {
   "cell_type": "code",
   "execution_count": null,
   "id": "a893cb70",
   "metadata": {},
   "outputs": [],
   "source": []
  }
 ],
 "metadata": {
  "kernelspec": {
   "display_name": "SageMath 9.3",
   "language": "sage",
   "name": "sagemath"
  },
  "language_info": {
   "codemirror_mode": {
    "name": "ipython",
    "version": 3
   },
   "file_extension": ".py",
   "mimetype": "text/x-python",
   "name": "python",
   "nbconvert_exporter": "python",
   "pygments_lexer": "ipython3",
   "version": "3.9.2"
  }
 },
 "nbformat": 4,
 "nbformat_minor": 5
}
