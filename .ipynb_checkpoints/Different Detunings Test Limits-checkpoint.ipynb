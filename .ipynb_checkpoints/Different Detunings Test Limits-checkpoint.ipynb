{
 "cells": [
  {
   "cell_type": "markdown",
   "id": "11ebbd1c",
   "metadata": {},
   "source": [
    "# Many Variables  GHZ"
   ]
  },
  {
   "cell_type": "code",
   "execution_count": 28,
   "id": "a43f3bbd",
   "metadata": {
    "scrolled": false
   },
   "outputs": [
    {
     "name": "stdout",
     "output_type": "stream",
     "text": [
      "Started!\n",
      "Initializing system 2  ...\n",
      "Constructing states and excitations...\n",
      "Constructing ground and first-excited statespace...\n",
      "Constructing gs_hamiltonian ...\n",
      "Constructing e1_hamiltonian ...\n",
      "Constructing interactions V_plus and V_minus ...\n",
      "Constructing NJ_hamiltonian  ...\n",
      "Inverting NJ_hamiltonian  ...\n",
      "Constructing eff_hamiltonian and effective lindblau operators ...\n",
      "\n",
      "System  2  initialized in 1.4 seconds.\n"
     ]
    }
   ],
   "source": [
    "print('Started!')\n",
    "from system import *\n",
    "s1 = system('2',MMA=True,ManyVariables = True,TwoPhotonResonance=False)\n",
    "#s1 = load_object('o-x-o')"
   ]
  },
  {
   "cell_type": "markdown",
   "id": "20c87d69",
   "metadata": {},
   "source": [
    "# Effective Hamiltonian Matrix obtain "
   ]
  },
  {
   "cell_type": "code",
   "execution_count": 32,
   "id": "6398d4bb",
   "metadata": {
    "scrolled": true
   },
   "outputs": [
    {
     "name": "stdout",
     "output_type": "stream",
     "text": [
      "Calculating 0 out of [0, 1, 2, 3]...\n",
      "Calculating 1 out of [0, 1, 2, 3]...\n",
      "Calculating 2 out of [0, 1, 2, 3]...\n",
      "Calculating 3 out of [0, 1, 2, 3]...\n",
      "\n",
      " Done! \n",
      "0 out of 4\n",
      "1 out of 4\n",
      "2 out of 4\n",
      "3 out of 4\n",
      "4 out of 4\n",
      "\n",
      " Done!\n"
     ]
    },
    {
     "ename": "IndexError",
     "evalue": "matrix index out of range",
     "output_type": "error",
     "traceback": [
      "\u001b[0;31m---------------------------------------------------------------------------\u001b[0m",
      "\u001b[0;31mIndexError\u001b[0m                                Traceback (most recent call last)",
      "\u001b[0;32m<ipython-input-32-1008700690de>\u001b[0m in \u001b[0;36m<module>\u001b[0;34m\u001b[0m\n\u001b[1;32m    172\u001b[0m \u001b[0mc\u001b[0m \u001b[0;34m=\u001b[0m \u001b[0meff_hamiltonian_tayl\u001b[0m\u001b[0;34m[\u001b[0m\u001b[0mInteger\u001b[0m\u001b[0;34m(\u001b[0m\u001b[0;36m3\u001b[0m\u001b[0;34m)\u001b[0m\u001b[0;34m,\u001b[0m\u001b[0mInteger\u001b[0m\u001b[0;34m(\u001b[0m\u001b[0;36m3\u001b[0m\u001b[0;34m)\u001b[0m\u001b[0;34m]\u001b[0m\u001b[0;34m\u001b[0m\u001b[0;34m\u001b[0m\u001b[0m\n\u001b[1;32m    173\u001b[0m \u001b[0;31m#c = symround(MMA_simplify(c,full=False),digits = 14)\u001b[0m\u001b[0;34m\u001b[0m\u001b[0;34m\u001b[0m\u001b[0;34m\u001b[0m\u001b[0m\n\u001b[0;32m--> 174\u001b[0;31m \u001b[0md\u001b[0m \u001b[0;34m=\u001b[0m \u001b[0meff_hamiltonian_tayl\u001b[0m\u001b[0;34m[\u001b[0m\u001b[0mInteger\u001b[0m\u001b[0;34m(\u001b[0m\u001b[0;36m4\u001b[0m\u001b[0;34m)\u001b[0m\u001b[0;34m,\u001b[0m\u001b[0mInteger\u001b[0m\u001b[0;34m(\u001b[0m\u001b[0;36m4\u001b[0m\u001b[0;34m)\u001b[0m\u001b[0;34m]\u001b[0m\u001b[0;34m\u001b[0m\u001b[0;34m\u001b[0m\u001b[0m\n\u001b[0m\u001b[1;32m    175\u001b[0m \u001b[0;31m#d = symround(MMA_simplify(d,full=False),digits = 14)\u001b[0m\u001b[0;34m\u001b[0m\u001b[0;34m\u001b[0m\u001b[0;34m\u001b[0m\u001b[0m\n\u001b[1;32m    176\u001b[0m \u001b[0me\u001b[0m \u001b[0;34m=\u001b[0m \u001b[0meff_hamiltonian_tayl\u001b[0m\u001b[0;34m[\u001b[0m\u001b[0mInteger\u001b[0m\u001b[0;34m(\u001b[0m\u001b[0;36m5\u001b[0m\u001b[0;34m)\u001b[0m\u001b[0;34m,\u001b[0m\u001b[0mInteger\u001b[0m\u001b[0;34m(\u001b[0m\u001b[0;36m5\u001b[0m\u001b[0;34m)\u001b[0m\u001b[0;34m]\u001b[0m\u001b[0;34m\u001b[0m\u001b[0;34m\u001b[0m\u001b[0m\n",
      "\u001b[0;32m/opt/SageMath/SageMath/local/lib/python3.9/site-packages/sage/matrix/matrix0.pyx\u001b[0m in \u001b[0;36msage.matrix.matrix0.Matrix.__getitem__ (build/cythonized/sage/matrix/matrix0.c:7095)\u001b[0;34m()\u001b[0m\n\u001b[1;32m    947\u001b[0m                     \u001b[0mrow\u001b[0m \u001b[0;34m+=\u001b[0m \u001b[0mnrows\u001b[0m\u001b[0;34m\u001b[0m\u001b[0;34m\u001b[0m\u001b[0m\n\u001b[1;32m    948\u001b[0m                 \u001b[0;32mif\u001b[0m \u001b[0mrow\u001b[0m \u001b[0;34m<\u001b[0m \u001b[0;36m0\u001b[0m \u001b[0;32mor\u001b[0m \u001b[0mrow\u001b[0m \u001b[0;34m>=\u001b[0m \u001b[0mnrows\u001b[0m\u001b[0;34m:\u001b[0m\u001b[0;34m\u001b[0m\u001b[0;34m\u001b[0m\u001b[0m\n\u001b[0;32m--> 949\u001b[0;31m                     \u001b[0;32mraise\u001b[0m \u001b[0mIndexError\u001b[0m\u001b[0;34m(\u001b[0m\u001b[0;34m\"matrix index out of range\"\u001b[0m\u001b[0;34m)\u001b[0m\u001b[0;34m\u001b[0m\u001b[0;34m\u001b[0m\u001b[0m\n\u001b[0m\u001b[1;32m    950\u001b[0m                 \u001b[0msingle_row\u001b[0m \u001b[0;34m=\u001b[0m \u001b[0;36m1\u001b[0m\u001b[0;34m\u001b[0m\u001b[0;34m\u001b[0m\u001b[0m\n\u001b[1;32m    951\u001b[0m \u001b[0;34m\u001b[0m\u001b[0m\n",
      "\u001b[0;31mIndexError\u001b[0m: matrix index out of range"
     ]
    }
   ],
   "source": [
    "#phi_val = np.pi/180 * 30\n",
    "n = 0\n",
    "\n",
    "total_indices = s1.variable_index\n",
    "\n",
    "var('dct',domain='positive',  latex_name =r'\\tilde{\\delta }_c')\n",
    "var('De1', domain='positive')\n",
    "var('Deg1', domain='positive' , latex_name =r'{{\\Delta e}}_{{  1}}^\\gamma')\n",
    "var('De2', domain='positive')\n",
    "var('Deg2', domain='positive' , latex_name =r'{{\\Delta e}}_{{  2}}^\\gamma')\n",
    "var('De3', domain='positive')\n",
    "var('Deg3', domain='positive' , latex_name =r'{{\\Delta e}}_{{  3}}^\\gamma')    \n",
    "\n",
    "var('gamma','DE','De','g','g_f','Omega','v','gamma_f','gamma_g','phi',domain='positive')\n",
    "var('DEg', domain='positive' , latex_name =r'{{\\Delta E}}^\\gamma')\n",
    "var('kappa_c','kappa_b',domain='positive')\n",
    "var('C',domain='positive')\n",
    "var('c',domain='positive',  latex_name =r'c')\n",
    "var('r_f',domain='positive',latex_name =r'r_f')\n",
    "var('r_g',domain='positive',latex_name =r'r_g')\n",
    "var('R_f',domain='positive')#ratio  (g_f/g)^2\n",
    "eff_hamiltonian_tayl = sg.copy( s1.eff_hamiltonian.parent().zero())\n",
    "for diag in s1.pos_gs:\n",
    "    print(f'Calculating {diag} out of {s1.pos_gs}...')\n",
    "    min_expr_len = 10**10\n",
    "    for term in range(1):\n",
    "        b = s1.eff_hamiltonian[diag,diag]\n",
    "        b = b.operands()[1].operands()[term]\n",
    "        if len(str(b))<10: #we isolated Omega^2 instead of one of the conjugate pairs\n",
    "            b = s1.eff_hamiltonian[diag,diag].operands()[0].operands()[term]\n",
    "        \n",
    "        b = b._mathematica_().ReplaceAll(f'DE->DEg*gamma*C^({n})')._sage_()\n",
    "        #b = b.subs(DE = DEg*gamma*C^n)\n",
    "        \n",
    "        b = b._mathematica_().ReplaceAll(f'De1->Deg1*gamma*C^({n})')._sage_()\n",
    "        #b = b.subs(De1 = Deg1*gamma*C^n) #sqrt C scaling!?\n",
    "        \n",
    "        b = b._mathematica_().ReplaceAll(f'De2->Deg2*gamma*C^({n})')._sage_()\n",
    "        #b = b.subs(De2 = Deg2*gamma*C^n) #MAKE ZERO\n",
    "        \n",
    "        b = b._mathematica_().ReplaceAll(f'De3->Deg2*gamma*C^({n})')._sage_()\n",
    "        #b = b.subs(De3 = Deg3*gamma*C^n) #MAKE ZERO  \n",
    "        \n",
    "        #b = b.subs(phi = phi_val)\n",
    "        \n",
    "        #b = MMA_simplify(b)\n",
    "        \n",
    "        #b = b._mathematica_().ReplaceAll('g_f->g*(R_f)^(1/2)')._sage_()\n",
    "        b = b.subs(g_f=g*(R_f)^(1/2))\n",
    "\n",
    "        b = b._mathematica_().ReplaceAll('gamma_f->gamma*r_f')._sage_()\n",
    "        #b = b.subs(gamma_f=gamma*r_f)\n",
    "\n",
    "        b = b._mathematica_().ReplaceAll('gamma_g->gamma*r_g')._sage_()\n",
    "        #b = b.subs(gamma_g=gamma*r_g)\n",
    "        \n",
    "        #b = b._mathematica_().ReplaceAll(\"g-> (C*gamma*kappa_c)^(1/2)\")._sage_()\n",
    "        b = b.subs(g = (C*gamma*kappa_c)^(1/2)) \n",
    "        \n",
    "        b = b._mathematica_().ReplaceAll('v->(c*kappa_b*kappa_c)^(1/2)')._sage_()\n",
    "        \n",
    "        b = b.subs(dc = (dct+0.5*I)*kappa_c )\n",
    "        #b = b.subs(v = (c*kappa_b*kappa_c)^(1/2) )\n",
    "        \n",
    "        \n",
    "\n",
    "        #Substitutions\n",
    "        #b = b.subs(c=np.pi,R_f=2.1,Deg=np.e,DEg=np.sqrt(5),r_g=np.sqrt(3),r_f=np.sqrt(2), phi=phi_val) \n",
    "        #b = b.subs(phi=phi_val)\n",
    "\n",
    "        #b = b._mathematica_().Factor()._sage_()\n",
    "        #b = b._mathematica_().Together()._sage_()\n",
    "\n",
    "\n",
    "        b = SR(str(b).replace('Sqrt','sqrt'))\n",
    "        if len(str(b))<min_expr_len:\n",
    "            min_expr_len = len(str(b))\n",
    "            h_eff = b\n",
    "    \n",
    "    h_eff = h_eff.subs(c=C)\n",
    "    h_eff = MMA_simplify(h_eff)\n",
    "    '''\n",
    "    h_eff = SR(str(h_eff).replace('Sqrt','sqrt'))\n",
    "    var('x')\n",
    "    h_eff = h_eff.subs(C=1/x)\n",
    "    h_eff = MMA_simplify(h_eff)\n",
    "    h_eff = h_eff._mathematica_().Series((x,0,1)).Normal()._sage_()\n",
    "    h_eff = h_eff.subs(x=1/C)\n",
    "    '''\n",
    "    h_eff = SR(str(h_eff).replace('Sqrt','sqrt'))\n",
    "    eff_hamiltonian_tayl[diag,diag] = h_eff  * Omega^2 / 2\n",
    "\n",
    "print('\\n Done! ')\n",
    "#show(symround(eff_hamiltonian_tayl[s1.pos_gs,s1.pos_gs],digits=3))\n",
    "\n",
    "\n",
    "eff_hamiltonian_tayl_temp = eff_hamiltonian_tayl[s1.pos_gs,s1.pos_gs] \n",
    "\n",
    "\n",
    "\n",
    "\n",
    "\n",
    "lind_op_number = len(s1.lindblau_list)\n",
    "\n",
    "eff_lind_taylor = []\n",
    "eff_lind = []\n",
    "eff_lind_coeff = []\n",
    "for lind_op in range(lind_op_number):\n",
    "    print(f'{lind_op} out of {lind_op_number-1}')\n",
    "    eff_lind_taylor.append([])\n",
    "    eff_lind.append([])\n",
    "    L_matrix = s1.eff_lindblau_list[lind_op]\n",
    "    L_nonzeros = []\n",
    "    L_nonzeros_pos = []\n",
    "    for i in  range(L_matrix.nrows()):\n",
    "        for j in  range(L_matrix.ncols()):\n",
    "            if not str(symround(L_matrix[i,j]))==str(0):\n",
    "                L_nonzeros.append(L_matrix[i,j])\n",
    "                L_nonzeros_pos.append((i,j))\n",
    "    eff_lind_coeff.append(s1.L_coeffs[lind_op])\n",
    "    \n",
    "    for which in range(len(L_nonzeros)):\n",
    "\n",
    "        L_elem = L_nonzeros[which]\n",
    "        b = L_elem\n",
    "        \n",
    "        b = b._mathematica_().ReplaceAll(f'DE->DEg*gamma*C^({n})')._sage_()\n",
    "        #b = b.subs(DE = DEg*gamma*C^n)\n",
    "        \n",
    "        b = b._mathematica_().ReplaceAll(f'De1->Deg1*gamma*C^({n})')._sage_()\n",
    "        #b = b.subs(De1 = Deg1*gamma*C^n) #sqrt C scaling!?\n",
    "        \n",
    "        b = b._mathematica_().ReplaceAll(f'De2->Deg2*gamma*C^({n})')._sage_()\n",
    "        #b = b.subs(De2 = Deg2*gamma*C^n) #MAKE ZERO\n",
    "        \n",
    "        b = b._mathematica_().ReplaceAll(f'De3->Deg2*gamma*C^({n})')._sage_()\n",
    "        #b = b.subs(De3 = Deg3*gamma*C^n) #MAKE ZERO  \n",
    "        \n",
    "        #b = b.subs(phi = phi_val)\n",
    "        \n",
    "        #b = MMA_simplify(b)\n",
    "        \n",
    "        #b = b._mathematica_().ReplaceAll('g_f->g*(R_f)^(1/2)')._sage_()\n",
    "        b = b.subs(g_f=g*(R_f)^(1/2))\n",
    "\n",
    "        b = b._mathematica_().ReplaceAll('gamma_f->gamma*r_f')._sage_()\n",
    "        #b = b.subs(gamma_f=gamma*r_f)\n",
    "\n",
    "        b = b._mathematica_().ReplaceAll('gamma_g->gamma*r_g')._sage_()\n",
    "        #b = b.subs(gamma_g=gamma*r_g)\n",
    "        \n",
    "        #b = b._mathematica_().ReplaceAll(\"g-> (C*gamma*kappa_c)^(1/2)\")._sage_()\n",
    "        b = b.subs(g = (C*gamma*kappa_c)^(1/2)) \n",
    "        \n",
    "        b = b._mathematica_().ReplaceAll('v->(c*kappa_b*kappa_c)^(1/2)')._sage_()\n",
    "        b = b.subs(dc = (dct+0.5*I)*kappa_c )\n",
    "        b = b.subs(c=C)\n",
    "        \n",
    "        b = SR(str(b).replace('Sqrt','sqrt'))\n",
    "        \n",
    "        eff_lind[lind_op].append(b)\n",
    "        \n",
    "print('\\n Done!')\n",
    "\n",
    "\n",
    "eff_hamiltonian_tayl = eff_hamiltonian_tayl_temp\n",
    "\n",
    "a = eff_hamiltonian_tayl[0,0]\n",
    "#a = symround( MMA_simplify(a,full=False) ,digits = 14)\n",
    "b = eff_hamiltonian_tayl[1,1]\n",
    "#b = symround(MMA_simplify(b,full=False),digits = 14)\n",
    "c = eff_hamiltonian_tayl[3,3]\n",
    "#c = symround(MMA_simplify(c,full=False),digits = 14)\n",
    "d = eff_hamiltonian_tayl[4,4]\n",
    "#d = symround(MMA_simplify(d,full=False),digits = 14)\n",
    "e = eff_hamiltonian_tayl[5,5]\n",
    "#e = symround(MMA_simplify(e,full=False),digits = 14)\n",
    "f = eff_hamiltonian_tayl[7,7]\n",
    "#f = symround(MMA_simplify(f,full=False),digits = 14)"
   ]
  },
  {
   "cell_type": "markdown",
   "id": "f1ddbf1c",
   "metadata": {},
   "source": [
    "# See results"
   ]
  },
  {
   "cell_type": "code",
   "execution_count": 9,
   "id": "64e94a3b",
   "metadata": {},
   "outputs": [],
   "source": [
    "m = 1/2"
   ]
  },
  {
   "cell_type": "code",
   "execution_count": 16,
   "id": "da8c8927",
   "metadata": {},
   "outputs": [
    {
     "ename": "NameError",
     "evalue": "name 'd' is not defined",
     "output_type": "error",
     "traceback": [
      "\u001b[0;31m---------------------------------------------------------------------------\u001b[0m",
      "\u001b[0;31mNameError\u001b[0m                                 Traceback (most recent call last)",
      "\u001b[0;32m<ipython-input-16-08d51de0f92f>\u001b[0m in \u001b[0;36m<module>\u001b[0;34m\u001b[0m\n\u001b[0;32m----> 1\u001b[0;31m \u001b[0mx\u001b[0m \u001b[0;34m=\u001b[0m \u001b[0msymround\u001b[0m\u001b[0;34m(\u001b[0m\u001b[0md\u001b[0m\u001b[0;34m.\u001b[0m\u001b[0msubs\u001b[0m\u001b[0;34m(\u001b[0m\u001b[0mR_f\u001b[0m\u001b[0;34m=\u001b[0m\u001b[0mRealNumber\u001b[0m\u001b[0;34m(\u001b[0m\u001b[0;34m'2.1'\u001b[0m\u001b[0;34m)\u001b[0m\u001b[0;34m,\u001b[0m\u001b[0mDeg1\u001b[0m\u001b[0;34m=\u001b[0m\u001b[0mnp\u001b[0m\u001b[0;34m.\u001b[0m\u001b[0msqrt\u001b[0m\u001b[0;34m(\u001b[0m\u001b[0mInteger\u001b[0m\u001b[0;34m(\u001b[0m\u001b[0;36m2\u001b[0m\u001b[0;34m)\u001b[0m\u001b[0;34m)\u001b[0m\u001b[0;34m*\u001b[0m\u001b[0mC\u001b[0m\u001b[0;34m**\u001b[0m\u001b[0mm\u001b[0m\u001b[0;34m,\u001b[0m\u001b[0mDeg2\u001b[0m\u001b[0;34m=\u001b[0m\u001b[0mnp\u001b[0m\u001b[0;34m.\u001b[0m\u001b[0me\u001b[0m\u001b[0;34m*\u001b[0m\u001b[0mC\u001b[0m\u001b[0;34m**\u001b[0m\u001b[0mm\u001b[0m\u001b[0;34m,\u001b[0m\u001b[0mDEg\u001b[0m\u001b[0;34m=\u001b[0m\u001b[0mnp\u001b[0m\u001b[0;34m.\u001b[0m\u001b[0msqrt\u001b[0m\u001b[0;34m(\u001b[0m\u001b[0mInteger\u001b[0m\u001b[0;34m(\u001b[0m\u001b[0;36m5\u001b[0m\u001b[0;34m)\u001b[0m\u001b[0;34m)\u001b[0m\u001b[0;34m*\u001b[0m\u001b[0mC\u001b[0m\u001b[0;34m**\u001b[0m\u001b[0mm\u001b[0m\u001b[0;34m,\u001b[0m\u001b[0mr_g\u001b[0m\u001b[0;34m=\u001b[0m\u001b[0mnp\u001b[0m\u001b[0;34m.\u001b[0m\u001b[0msqrt\u001b[0m\u001b[0;34m(\u001b[0m\u001b[0mInteger\u001b[0m\u001b[0;34m(\u001b[0m\u001b[0;36m3\u001b[0m\u001b[0;34m)\u001b[0m\u001b[0;34m)\u001b[0m\u001b[0;34m,\u001b[0m\u001b[0mgamma\u001b[0m\u001b[0;34m=\u001b[0m\u001b[0mRealNumber\u001b[0m\u001b[0;34m(\u001b[0m\u001b[0;34m'0.3'\u001b[0m\u001b[0;34m)\u001b[0m\u001b[0;34m,\u001b[0m\u001b[0mr_f\u001b[0m\u001b[0;34m=\u001b[0m\u001b[0mRealNumber\u001b[0m\u001b[0;34m(\u001b[0m\u001b[0;34m'0.1'\u001b[0m\u001b[0;34m)\u001b[0m\u001b[0;34m*\u001b[0m\u001b[0mnp\u001b[0m\u001b[0;34m.\u001b[0m\u001b[0msqrt\u001b[0m\u001b[0;34m(\u001b[0m\u001b[0mInteger\u001b[0m\u001b[0;34m(\u001b[0m\u001b[0;36m2\u001b[0m\u001b[0;34m)\u001b[0m\u001b[0;34m)\u001b[0m\u001b[0;34m,\u001b[0m \u001b[0mphi\u001b[0m\u001b[0;34m=\u001b[0m\u001b[0mnp\u001b[0m\u001b[0;34m.\u001b[0m\u001b[0mpi\u001b[0m\u001b[0;34m/\u001b[0m\u001b[0mInteger\u001b[0m\u001b[0;34m(\u001b[0m\u001b[0;36m10\u001b[0m\u001b[0;34m)\u001b[0m\u001b[0;34m,\u001b[0m\u001b[0mgamma_f\u001b[0m\u001b[0;34m=\u001b[0m\u001b[0mRealNumber\u001b[0m\u001b[0;34m(\u001b[0m\u001b[0;34m'1.45'\u001b[0m\u001b[0;34m)\u001b[0m\u001b[0;34m,\u001b[0m\u001b[0mgamma_g\u001b[0m\u001b[0;34m=\u001b[0m\u001b[0mInteger\u001b[0m\u001b[0;34m(\u001b[0m\u001b[0;36m3\u001b[0m\u001b[0;34m)\u001b[0m\u001b[0;34m)\u001b[0m\u001b[0;34m,\u001b[0m\u001b[0mdigits\u001b[0m\u001b[0;34m=\u001b[0m\u001b[0mInteger\u001b[0m\u001b[0;34m(\u001b[0m\u001b[0;36m14\u001b[0m\u001b[0;34m)\u001b[0m\u001b[0;34m)\u001b[0m\u001b[0;34m\u001b[0m\u001b[0;34m\u001b[0m\u001b[0m\n\u001b[0m\u001b[1;32m      2\u001b[0m \u001b[0mx\u001b[0m \u001b[0;34m=\u001b[0m \u001b[0mx\u001b[0m\u001b[0;34m.\u001b[0m\u001b[0m_mathematica_\u001b[0m\u001b[0;34m(\u001b[0m\u001b[0;34m)\u001b[0m\u001b[0;34m.\u001b[0m\u001b[0mTogether\u001b[0m\u001b[0;34m(\u001b[0m\u001b[0;34m)\u001b[0m\u001b[0;34m.\u001b[0m\u001b[0msage\u001b[0m\u001b[0;34m(\u001b[0m\u001b[0;34m)\u001b[0m\u001b[0;34m\u001b[0m\u001b[0;34m\u001b[0m\u001b[0m\n\u001b[1;32m      3\u001b[0m \u001b[0mprint\u001b[0m\u001b[0;34m(\u001b[0m\u001b[0;34m'Numerator'\u001b[0m\u001b[0;34m)\u001b[0m\u001b[0;34m\u001b[0m\u001b[0;34m\u001b[0m\u001b[0m\n\u001b[1;32m      4\u001b[0m \u001b[0mshow\u001b[0m\u001b[0;34m(\u001b[0m\u001b[0msymround\u001b[0m\u001b[0;34m(\u001b[0m\u001b[0mx\u001b[0m\u001b[0;34m.\u001b[0m\u001b[0m_mathematica_\u001b[0m\u001b[0;34m(\u001b[0m\u001b[0;34m)\u001b[0m\u001b[0;34m.\u001b[0m\u001b[0mNumerator\u001b[0m\u001b[0;34m(\u001b[0m\u001b[0;34m)\u001b[0m\u001b[0;34m.\u001b[0m\u001b[0m_sage_\u001b[0m\u001b[0;34m(\u001b[0m\u001b[0;34m)\u001b[0m\u001b[0;34m.\u001b[0m\u001b[0mexpand\u001b[0m\u001b[0;34m(\u001b[0m\u001b[0;34m)\u001b[0m\u001b[0;34m,\u001b[0m\u001b[0mdigits\u001b[0m\u001b[0;34m=\u001b[0m\u001b[0mInteger\u001b[0m\u001b[0;34m(\u001b[0m\u001b[0;36m5\u001b[0m\u001b[0;34m)\u001b[0m\u001b[0;34m)\u001b[0m\u001b[0;34m)\u001b[0m\u001b[0;34m\u001b[0m\u001b[0;34m\u001b[0m\u001b[0m\n\u001b[1;32m      5\u001b[0m \u001b[0mprint\u001b[0m\u001b[0;34m(\u001b[0m\u001b[0;34m'\\n\\nDenominator'\u001b[0m\u001b[0;34m)\u001b[0m\u001b[0;34m\u001b[0m\u001b[0;34m\u001b[0m\u001b[0m\n",
      "\u001b[0;31mNameError\u001b[0m: name 'd' is not defined"
     ]
    }
   ],
   "source": [
    "x = symround(d.subs(R_f=2.1,Deg1=np.sqrt(2)*C^m,Deg2=np.e*C^m,DEg=np.sqrt(5)*C^m,r_g=np.sqrt(3),gamma=0.3,r_f=0.1*np.sqrt(2), phi=np.pi/10,gamma_f=1.45,gamma_g=3),digits=14)\n",
    "x = x._mathematica_().Together().sage()\n",
    "print('Numerator')\n",
    "show(symround(x._mathematica_().Numerator()._sage_().expand(),digits=5))\n",
    "print('\\n\\nDenominator')\n",
    "show(symround(x._mathematica_().Denominator()._sage_().expand(),digits=5))"
   ]
  },
  {
   "cell_type": "code",
   "execution_count": 248,
   "id": "31f015d8",
   "metadata": {},
   "outputs": [
    {
     "name": "stdout",
     "output_type": "stream",
     "text": [
      "coeff:\n"
     ]
    },
    {
     "data": {
      "text/html": [
       "<html><script type=\"math/tex; mode=display\">\\newcommand{\\Bold}[1]{\\mathbf{#1}}\\sqrt{\\gamma_{g}}</script></html>"
      ],
      "text/latex": [
       "$$\\newcommand{\\Bold}[1]{\\mathbf{#1}}\\sqrt{\\gamma_{g}}$$"
      ],
      "text/plain": [
       "sqrt(gamma_g)"
      ]
     },
     "metadata": {},
     "output_type": "display_data"
    }
   ],
   "source": [
    "#m = 3\n",
    "\n",
    "lindop = 7\n",
    "pos = 7\n",
    "\n",
    "err = eff_lind[lindop][pos].subs(Omega=1,kappa_c=5.61,kappa_b=1.79, R_f=2.1,Deg1=np.sqrt(2)*C^m,Deg2=np.e*C^m,DEg=np.sqrt(5)*C^m,r_g=np.sqrt(3),gamma=0.3,r_f=0.1*np.sqrt(2), phi=np.pi/10,gamma_f=1.45,gamma_g=3)\n",
    "\n",
    "err = err._mathematica_().Together()._sage_() \n",
    "err = SR(str(( err)).replace('Sqrt','sqrt'))\n",
    "#err = SR(str(MMA_simplify( err,full=False )).replace('Sqrt','sqrt')).simplify()\n",
    "#show( symround( err ,digits=1) )\n",
    "print(f'coeff:')\n",
    "show(eff_lind_coeff[lindop])"
   ]
  },
  {
   "cell_type": "code",
   "execution_count": 249,
   "id": "93dfa6fd",
   "metadata": {},
   "outputs": [
    {
     "name": "stdout",
     "output_type": "stream",
     "text": [
      "Numerator\n"
     ]
    },
    {
     "ename": "AttributeError",
     "evalue": "'list' object has no attribute '_mathematica_'",
     "output_type": "error",
     "traceback": [
      "\u001b[0;31m---------------------------------------------------------------------------\u001b[0m",
      "\u001b[0;31mAttributeError\u001b[0m                            Traceback (most recent call last)",
      "\u001b[0;32m<ipython-input-249-1220bf790bed>\u001b[0m in \u001b[0;36m<module>\u001b[0;34m\u001b[0m\n\u001b[1;32m      4\u001b[0m \u001b[0mprint\u001b[0m\u001b[0;34m(\u001b[0m\u001b[0;34m'Numerator'\u001b[0m\u001b[0;34m)\u001b[0m\u001b[0;34m\u001b[0m\u001b[0;34m\u001b[0m\u001b[0m\n\u001b[1;32m      5\u001b[0m \u001b[0;34m\u001b[0m\u001b[0m\n\u001b[0;32m----> 6\u001b[0;31m \u001b[0mshow\u001b[0m\u001b[0;34m(\u001b[0m\u001b[0msymround\u001b[0m\u001b[0;34m(\u001b[0m\u001b[0mq\u001b[0m\u001b[0;34m.\u001b[0m\u001b[0m_mathematica_\u001b[0m\u001b[0;34m(\u001b[0m\u001b[0;34m)\u001b[0m\u001b[0;34m.\u001b[0m\u001b[0mNumerator\u001b[0m\u001b[0;34m(\u001b[0m\u001b[0;34m)\u001b[0m\u001b[0;34m.\u001b[0m\u001b[0m_sage_\u001b[0m\u001b[0;34m(\u001b[0m\u001b[0;34m)\u001b[0m\u001b[0;34m,\u001b[0m\u001b[0mdigits\u001b[0m\u001b[0;34m=\u001b[0m\u001b[0mInteger\u001b[0m\u001b[0;34m(\u001b[0m\u001b[0;36m3\u001b[0m\u001b[0;34m)\u001b[0m\u001b[0;34m)\u001b[0m\u001b[0;34m.\u001b[0m\u001b[0mexpand\u001b[0m\u001b[0;34m(\u001b[0m\u001b[0;34m)\u001b[0m\u001b[0;34m)\u001b[0m\u001b[0;34m\u001b[0m\u001b[0;34m\u001b[0m\u001b[0m\n\u001b[0m\u001b[1;32m      7\u001b[0m \u001b[0;34m\u001b[0m\u001b[0m\n\u001b[1;32m      8\u001b[0m \u001b[0mprint\u001b[0m\u001b[0;34m(\u001b[0m\u001b[0mobtain_exponent\u001b[0m\u001b[0;34m(\u001b[0m\u001b[0msymround\u001b[0m\u001b[0;34m(\u001b[0m\u001b[0mq\u001b[0m\u001b[0;34m.\u001b[0m\u001b[0m_mathematica_\u001b[0m\u001b[0;34m(\u001b[0m\u001b[0;34m)\u001b[0m\u001b[0;34m.\u001b[0m\u001b[0mNumerator\u001b[0m\u001b[0;34m(\u001b[0m\u001b[0;34m)\u001b[0m\u001b[0;34m.\u001b[0m\u001b[0m_sage_\u001b[0m\u001b[0;34m(\u001b[0m\u001b[0;34m)\u001b[0m\u001b[0;34m,\u001b[0m\u001b[0mdigits\u001b[0m\u001b[0;34m=\u001b[0m\u001b[0mInteger\u001b[0m\u001b[0;34m(\u001b[0m\u001b[0;36m3\u001b[0m\u001b[0;34m)\u001b[0m\u001b[0;34m)\u001b[0m\u001b[0;34m.\u001b[0m\u001b[0mexpand\u001b[0m\u001b[0;34m(\u001b[0m\u001b[0;34m)\u001b[0m\u001b[0;34m)\u001b[0m\u001b[0;34m)\u001b[0m\u001b[0;34m\u001b[0m\u001b[0;34m\u001b[0m\u001b[0m\n",
      "\u001b[0;31mAttributeError\u001b[0m: 'list' object has no attribute '_mathematica_'"
     ]
    }
   ],
   "source": [
    "el = 0\n",
    "q = (symround(err._mathematica_().Numerator()._sage_() ,tol=1e-30 ).expand().operands()[el])\n",
    "\n",
    "print('Numerator')\n",
    "\n",
    "show(symround(q._mathematica_().Numerator()._sage_(),digits=3).expand())\n",
    "\n",
    "print(obtain_exponent(symround(q._mathematica_().Numerator()._sage_(),digits=3).expand()))\n",
    "\n",
    "print('\\n\\nDenominator')\n",
    "show(symround(q._mathematica_().Denominator()._sage_(),digits=3).expand())\n",
    "print(obtain_exponent(symround(q._mathematica_().Denominator()._sage_(),digits=3).expand()))\n",
    "\n",
    "print('\\n\\nextra Denominator')\n",
    "show( symround(err._mathematica_().Denominator()._sage_().expand(),digits=3))\n",
    "\n",
    "print(obtain_exponent(symround(err._mathematica_().Denominator()._sage_().expand(),digits=3)))"
   ]
  },
  {
   "cell_type": "code",
   "execution_count": 234,
   "id": "31ddb98f",
   "metadata": {
    "scrolled": true
   },
   "outputs": [
    {
     "data": {
      "text/html": [
       "<html><script type=\"math/tex; mode=display\">\\newcommand{\\Bold}[1]{\\mathbf{#1}}-\\left(22. - 7.2i\\right) \\, C^{12} + \\left(60. + 190.i\\right) \\, C^{12.} - \\left(162 i - 496\\right) \\, C^{11} - \\left(420 i + 152\\right) \\, C^{10.} + \\left(14. + 6.8i\\right) \\, C^{10} - \\left(56. + 180.i\\right) \\, C^{9.5} - \\left(60. - 20.i\\right) \\, C^{9} - \\left(6.1 + 20.i\\right) \\, C^{8.5} - \\left(14. - 4.4i\\right) \\, C^{8} + \\left(0.23 + 0.72i\\right) \\, C^{7.5} - \\left(0.92 - 0.30i\\right) \\, C^{7} + \\left(0.063 + 0.20i\\right) \\, C^{6.5} - \\left(0.0073 - 0.0023i\\right) \\, C^{6} + \\left(0.0022 + 0.0067i\\right) \\, C^{5.5} + \\left(0.00082 - 0.00026i\\right) \\, C^{5} - \\left(0.000010 + 0.000032i\\right) \\, C^{4.5} + \\left(7.7 \\times 10^{-21} + 1.5 \\times 10^{-20}i\\right) \\, C^{4} + \\left(4.4 \\times 10^{-22} - 1.4 \\times 10^{-21}i\\right) \\, C^{3.5}</script></html>"
      ],
      "text/latex": [
       "$$\\newcommand{\\Bold}[1]{\\mathbf{#1}}-\\left(22. - 7.2i\\right) \\, C^{12} + \\left(60. + 190.i\\right) \\, C^{12.} - \\left(162 i - 496\\right) \\, C^{11} - \\left(420 i + 152\\right) \\, C^{10.} + \\left(14. + 6.8i\\right) \\, C^{10} - \\left(56. + 180.i\\right) \\, C^{9.5} - \\left(60. - 20.i\\right) \\, C^{9} - \\left(6.1 + 20.i\\right) \\, C^{8.5} - \\left(14. - 4.4i\\right) \\, C^{8} + \\left(0.23 + 0.72i\\right) \\, C^{7.5} - \\left(0.92 - 0.30i\\right) \\, C^{7} + \\left(0.063 + 0.20i\\right) \\, C^{6.5} - \\left(0.0073 - 0.0023i\\right) \\, C^{6} + \\left(0.0022 + 0.0067i\\right) \\, C^{5.5} + \\left(0.00082 - 0.00026i\\right) \\, C^{5} - \\left(0.000010 + 0.000032i\\right) \\, C^{4.5} + \\left(7.7 \\times 10^{-21} + 1.5 \\times 10^{-20}i\\right) \\, C^{4} + \\left(4.4 \\times 10^{-22} - 1.4 \\times 10^{-21}i\\right) \\, C^{3.5}$$"
      ],
      "text/plain": [
       "-(22. - 7.2*I)*C^12 + (60. + 190.*I)*C^12. - (162*I - 496)*C^11 - (420*I + 152)*C^10. + (14. + 6.8*I)*C^10 - (56. + 180.*I)*C^9.5 - (60. - 20.*I)*C^9 - (6.1 + 20.*I)*C^8.5 - (14. - 4.4*I)*C^8 + (0.23 + 0.72*I)*C^7.5 - (0.92 - 0.30*I)*C^7 + (0.063 + 0.20*I)*C^6.5 - (0.0073 - 0.0023*I)*C^6 + (0.0022 + 0.0067*I)*C^5.5 + (0.00082 - 0.00026*I)*C^5 - (0.000010 + 0.000032*I)*C^4.5 + (7.7e-21 + 1.5e-20*I)*C^4 + (4.4e-22 - 1.4e-21*I)*C^3.5"
      ]
     },
     "metadata": {},
     "output_type": "display_data"
    }
   ],
   "source": [
    "show(symround(err._mathematica_().Numerator()._sage_().expand(),tol=1e-30))\n",
    "#show(symround( err.numerator().expand()))"
   ]
  },
  {
   "cell_type": "code",
   "execution_count": 235,
   "id": "8f113cbf",
   "metadata": {},
   "outputs": [
    {
     "data": {
      "text/html": [
       "<html><script type=\"math/tex; mode=display\">\\newcommand{\\Bold}[1]{\\mathbf{#1}}\\left(4.4 + 15.i\\right) \\, C^{13} - \\left(63 i - 226\\right) \\, C^{12.} - \\left(1216 i + 328\\right) \\, C^{12} + \\left(720 i - 2720\\right) \\, C^{12.} + \\left(1536 i + 420\\right) \\, C^{11} + \\left(624 i - 2976\\right) \\, C^{10.} + \\left(3776 i + 808\\right) \\, C^{10} - \\left(166 i - 214\\right) \\, C^{9.5} + \\left(1456 i + 142\\right) \\, C^{9} - \\left(71 i - 504\\right) \\, C^{8.5} - \\left(0.66 - 180.i\\right) \\, C^{8} + \\left(120. - 5.7i\\right) \\, C^{7.5} - \\left(1.1 - 0.55i\\right) \\, C^{7} + \\left(11. - 0.052i\\right) \\, C^{6.5} - \\left(0.040 + 1.6i\\right) \\, C^{6} + \\left(0.39 + 0.0046i\\right) \\, C^{5.5} + \\left(0.00018 - 0.12i\\right) \\, C^{5} - \\left(0.0026 - 6.9 \\times 10^{-18}i\\right) \\, C^{4.5} - \\left(1.2 \\times 10^{-18} + 0.0023i\\right) \\, C^{4} - \\left(0.00031 - 4.2 \\times 10^{-19}i\\right) \\, C^{3.5} + \\left(5.3 \\times 10^{-20} + 0.000012i\\right) \\, C^{3} - \\left(1.1 \\times 10^{-21} + 5.8 \\times 10^{-21}i\\right) \\, C^{2.5} - \\left(3.0 \\times 10^{-22} - 4.1 \\times 10^{-22}i\\right) \\, C^{2}</script></html>"
      ],
      "text/latex": [
       "$$\\newcommand{\\Bold}[1]{\\mathbf{#1}}\\left(4.4 + 15.i\\right) \\, C^{13} - \\left(63 i - 226\\right) \\, C^{12.} - \\left(1216 i + 328\\right) \\, C^{12} + \\left(720 i - 2720\\right) \\, C^{12.} + \\left(1536 i + 420\\right) \\, C^{11} + \\left(624 i - 2976\\right) \\, C^{10.} + \\left(3776 i + 808\\right) \\, C^{10} - \\left(166 i - 214\\right) \\, C^{9.5} + \\left(1456 i + 142\\right) \\, C^{9} - \\left(71 i - 504\\right) \\, C^{8.5} - \\left(0.66 - 180.i\\right) \\, C^{8} + \\left(120. - 5.7i\\right) \\, C^{7.5} - \\left(1.1 - 0.55i\\right) \\, C^{7} + \\left(11. - 0.052i\\right) \\, C^{6.5} - \\left(0.040 + 1.6i\\right) \\, C^{6} + \\left(0.39 + 0.0046i\\right) \\, C^{5.5} + \\left(0.00018 - 0.12i\\right) \\, C^{5} - \\left(0.0026 - 6.9 \\times 10^{-18}i\\right) \\, C^{4.5} - \\left(1.2 \\times 10^{-18} + 0.0023i\\right) \\, C^{4} - \\left(0.00031 - 4.2 \\times 10^{-19}i\\right) \\, C^{3.5} + \\left(5.3 \\times 10^{-20} + 0.000012i\\right) \\, C^{3} - \\left(1.1 \\times 10^{-21} + 5.8 \\times 10^{-21}i\\right) \\, C^{2.5} - \\left(3.0 \\times 10^{-22} - 4.1 \\times 10^{-22}i\\right) \\, C^{2}$$"
      ],
      "text/plain": [
       "(4.4 + 15.*I)*C^13 - (63*I - 226)*C^12. - (1216*I + 328)*C^12 + (720*I - 2720)*C^12. + (1536*I + 420)*C^11 + (624*I - 2976)*C^10. + (3776*I + 808)*C^10 - (166*I - 214)*C^9.5 + (1456*I + 142)*C^9 - (71*I - 504)*C^8.5 - (0.66 - 180.*I)*C^8 + (120. - 5.7*I)*C^7.5 - (1.1 - 0.55*I)*C^7 + (11. - 0.052*I)*C^6.5 - (0.040 + 1.6*I)*C^6 + (0.39 + 0.0046*I)*C^5.5 + (0.00018 - 0.12*I)*C^5 - (0.0026 - 6.9e-18*I)*C^4.5 - (1.2e-18 + 0.0023*I)*C^4 - (0.00031 - 4.2e-19*I)*C^3.5 + (5.3e-20 + 0.000012*I)*C^3 - (1.1e-21 + 5.8e-21*I)*C^2.5 - (3.0e-22 - 4.1e-22*I)*C^2"
      ]
     },
     "metadata": {},
     "output_type": "display_data"
    }
   ],
   "source": [
    "#show(symround(err.denominator().expand()))\n",
    "den = err._mathematica_().Denominator()._sage_().expand()\n",
    "den = SR(str(MMA_simplify( den,full=False )).replace('Sqrt','sqrt')).simplify()\n",
    "show(symround(den,tol=1e-30))"
   ]
  },
  {
   "cell_type": "markdown",
   "id": "594aef05",
   "metadata": {},
   "source": [
    "# Testing for auto"
   ]
  },
  {
   "cell_type": "code",
   "execution_count": 33,
   "id": "cf0b2c1e",
   "metadata": {},
   "outputs": [],
   "source": [
    "def obtain_exponent(expr):\n",
    "    expr = SR(str(( expr)).replace('Sqrt','sqrt'))\n",
    "    try:\n",
    "        exp = expr.op[0].op[0].op[0].op[1]\n",
    "    except:\n",
    "        try:\n",
    "            exp = expr.op[0].op[0].op[1]\n",
    "        except:\n",
    "            try:\n",
    "                exp = expr.op[0].op[1]\n",
    "            except:\n",
    "                exp = 0\n",
    "    return exp\n",
    "\n",
    "def obtain_expr_exp(expr):\n",
    "    try:\n",
    "        el = 0    \n",
    "        q = (expr._mathematica_().Numerator()._sage_() .expand().operands()[el])\n",
    "        q = SR(str(( q)).replace('Sqrt','sqrt'))\n",
    "        test_bool = (str(q._mathematica_().Numerator()._sage_().expand().denominator()) == str(1))\n",
    "        num_exp = (obtain_exponent(q._mathematica_().Numerator()._sage_().expand()))\n",
    "        den1_exp = (obtain_exponent(q._mathematica_().Denominator()._sage_().expand()))\n",
    "        den2_exp = (obtain_exponent(expr._mathematica_().Denominator()._sage_().expand()))\n",
    "        res = num_exp-den1_exp-den2_exp\n",
    "        if not test_bool:\n",
    "            #show(q)\n",
    "            res = obtain_exponent(q.numerator())-obtain_exponent(q.denominator())\n",
    "            return res\n",
    "        return res\n",
    "    except:\n",
    "        #print('altern')\n",
    "        den_exp = obtain_exponent( expr._mathematica_().Denominator()._sage_().expand())\n",
    "        num_exp = obtain_exponent( expr._mathematica_().Numerator()._sage_().expand())\n",
    "        return num_exp-den_exp\n"
   ]
  },
  {
   "cell_type": "code",
   "execution_count": 34,
   "id": "920d5027",
   "metadata": {},
   "outputs": [
    {
     "data": {
      "text/html": [
       "<html><script type=\"math/tex; mode=display\">\\newcommand{\\Bold}[1]{\\mathbf{#1}}0 \\sqrt{{\\kappa_c}}</script></html>"
      ],
      "text/latex": [
       "$$\\newcommand{\\Bold}[1]{\\mathbf{#1}}0 \\sqrt{{\\kappa_c}}$$"
      ],
      "text/plain": [
       "0 sqrt(kappa_c)"
      ]
     },
     "metadata": {},
     "output_type": "display_data"
    },
    {
     "name": "stdout",
     "output_type": "stream",
     "text": [
      "-3/2\n",
      "-5/2\n",
      "-5/2\n",
      "-3/2\n"
     ]
    },
    {
     "data": {
      "text/html": [
       "<html><script type=\"math/tex; mode=display\">\\newcommand{\\Bold}[1]{\\mathbf{#1}}1 \\sqrt{{\\gamma_g}}</script></html>"
      ],
      "text/latex": [
       "$$\\newcommand{\\Bold}[1]{\\mathbf{#1}}1 \\sqrt{{\\gamma_g}}$$"
      ],
      "text/plain": [
       "1 sqrt(gamma_g)"
      ]
     },
     "metadata": {},
     "output_type": "display_data"
    },
    {
     "name": "stdout",
     "output_type": "stream",
     "text": [
      "-1.00000000000000\n",
      "-2\n",
      "-2\n",
      "-1\n"
     ]
    },
    {
     "data": {
      "text/html": [
       "<html><script type=\"math/tex; mode=display\">\\newcommand{\\Bold}[1]{\\mathbf{#1}}2 \\sqrt{{\\gamma_f}}</script></html>"
      ],
      "text/latex": [
       "$$\\newcommand{\\Bold}[1]{\\mathbf{#1}}2 \\sqrt{{\\gamma_f}}$$"
      ],
      "text/plain": [
       "2 sqrt(gamma_f)"
      ]
     },
     "metadata": {},
     "output_type": "display_data"
    },
    {
     "name": "stdout",
     "output_type": "stream",
     "text": [
      "-1.00000000000000\n",
      "-2\n",
      "-2\n",
      "-1\n"
     ]
    },
    {
     "data": {
      "text/html": [
       "<html><script type=\"math/tex; mode=display\">\\newcommand{\\Bold}[1]{\\mathbf{#1}}3 \\sqrt{{\\gamma}}</script></html>"
      ],
      "text/latex": [
       "$$\\newcommand{\\Bold}[1]{\\mathbf{#1}}3 \\sqrt{{\\gamma}}$$"
      ],
      "text/plain": [
       "3 sqrt(gamma)"
      ]
     },
     "metadata": {},
     "output_type": "display_data"
    },
    {
     "name": "stdout",
     "output_type": "stream",
     "text": [
      "-2\n",
      "-3\n"
     ]
    },
    {
     "data": {
      "text/html": [
       "<html><script type=\"math/tex; mode=display\">\\newcommand{\\Bold}[1]{\\mathbf{#1}}4 \\sqrt{{\\gamma}}</script></html>"
      ],
      "text/latex": [
       "$$\\newcommand{\\Bold}[1]{\\mathbf{#1}}4 \\sqrt{{\\gamma}}$$"
      ],
      "text/plain": [
       "4 sqrt(gamma)"
      ]
     },
     "metadata": {},
     "output_type": "display_data"
    },
    {
     "name": "stdout",
     "output_type": "stream",
     "text": [
      "-2\n",
      "-3\n"
     ]
    },
    {
     "ename": "IndexError",
     "evalue": "list index out of range",
     "output_type": "error",
     "traceback": [
      "\u001b[0;31m---------------------------------------------------------------------------\u001b[0m",
      "\u001b[0;31mIndexError\u001b[0m                                Traceback (most recent call last)",
      "\u001b[0;32m<ipython-input-34-14e807ab5504>\u001b[0m in \u001b[0;36m<module>\u001b[0;34m\u001b[0m\n\u001b[1;32m      2\u001b[0m \u001b[0mm\u001b[0m \u001b[0;34m=\u001b[0m \u001b[0mInteger\u001b[0m\u001b[0;34m(\u001b[0m\u001b[0;36m1\u001b[0m\u001b[0;34m)\u001b[0m\u001b[0;34m\u001b[0m\u001b[0;34m\u001b[0m\u001b[0m\n\u001b[1;32m      3\u001b[0m \u001b[0;32mfor\u001b[0m \u001b[0mlindop\u001b[0m \u001b[0;32min\u001b[0m \u001b[0mrange\u001b[0m\u001b[0;34m(\u001b[0m\u001b[0mInteger\u001b[0m\u001b[0;34m(\u001b[0m\u001b[0;36m13\u001b[0m\u001b[0;34m)\u001b[0m\u001b[0;34m)\u001b[0m\u001b[0;34m:\u001b[0m\u001b[0;34m\u001b[0m\u001b[0;34m\u001b[0m\u001b[0m\n\u001b[0;32m----> 4\u001b[0;31m     \u001b[0mshow\u001b[0m\u001b[0;34m(\u001b[0m\u001b[0mlindop\u001b[0m\u001b[0;34m,\u001b[0m\u001b[0meff_lind_coeff\u001b[0m\u001b[0;34m[\u001b[0m\u001b[0mlindop\u001b[0m\u001b[0;34m]\u001b[0m  \u001b[0;34m)\u001b[0m\u001b[0;34m\u001b[0m\u001b[0;34m\u001b[0m\u001b[0m\n\u001b[0m\u001b[1;32m      5\u001b[0m     \u001b[0mpos\u001b[0m \u001b[0;34m=\u001b[0m \u001b[0mInteger\u001b[0m\u001b[0;34m(\u001b[0m\u001b[0;36m0\u001b[0m\u001b[0;34m)\u001b[0m\u001b[0;34m\u001b[0m\u001b[0;34m\u001b[0m\u001b[0m\n\u001b[1;32m      6\u001b[0m     \u001b[0mmore\u001b[0m \u001b[0;34m=\u001b[0m \u001b[0;32mTrue\u001b[0m\u001b[0;34m\u001b[0m\u001b[0;34m\u001b[0m\u001b[0m\n",
      "\u001b[0;31mIndexError\u001b[0m: list index out of range"
     ]
    }
   ],
   "source": [
    "mx = -100   #maximum value of exponent\n",
    "m = 1       #exponent of detunings\n",
    "\n",
    "phival = 0* np.pi \n",
    "R_fval = 1\n",
    "gamma_fval = gamma\n",
    "gamma_gval = gamma\n",
    "DEgval = 1\n",
    "Deg2val = DEgval*minsolD2  #*0.99999\n",
    "Deg1val = DEgval*minsolD1\n",
    "\n",
    "for lindop in range(13):\n",
    "    show(lindop,eff_lind_coeff[lindop]  )\n",
    "    pos = 0\n",
    "    more = True\n",
    "    while(more):\n",
    "        try: \n",
    "            err = eff_lind[lindop][pos].subs(dct=np.sqrt(1.53)*C^m,Omega=1,kappa_c=5.61,kappa_b=1.79, R_f=2.1,Deg1=np.sqrt(2)*C^m,Deg2=np.e*C^m,DEg=np.sqrt(5)*C^m,r_g=np.sqrt(3),gamma=0.3,r_f=0.1*np.sqrt(2), phi=np.pi/10,gamma_f=1.45,gamma_g=3)\n",
    "            err = err._mathematica_().Together()._sage_() \n",
    "            exp = obtain_expr_exp(err)\n",
    "            if exp > mx:\n",
    "                mx = exp\n",
    "            pos += 1\n",
    "            print(exp)\n",
    "        except IndexError:\n",
    "            more = False"
   ]
  },
  {
   "cell_type": "code",
   "execution_count": 26,
   "id": "a1139301",
   "metadata": {},
   "outputs": [
    {
     "data": {
      "text/html": [
       "<html><script type=\"math/tex; mode=display\">\\newcommand{\\Bold}[1]{\\mathbf{#1}}-1</script></html>"
      ],
      "text/latex": [
       "$$\\newcommand{\\Bold}[1]{\\mathbf{#1}}-1$$"
      ],
      "text/plain": [
       "-1"
      ]
     },
     "metadata": {},
     "output_type": "display_data"
    }
   ],
   "source": [
    "show(mx)"
   ]
  },
  {
   "cell_type": "code",
   "execution_count": 27,
   "id": "aa470180",
   "metadata": {},
   "outputs": [
    {
     "ename": "NameError",
     "evalue": "name 'expr' is not defined",
     "output_type": "error",
     "traceback": [
      "\u001b[0;31m---------------------------------------------------------------------------\u001b[0m",
      "\u001b[0;31mNameError\u001b[0m                                 Traceback (most recent call last)",
      "\u001b[0;32m<ipython-input-27-94ae2d85b050>\u001b[0m in \u001b[0;36m<module>\u001b[0;34m\u001b[0m\n\u001b[0;32m----> 1\u001b[0;31m \u001b[0mshow\u001b[0m\u001b[0;34m(\u001b[0m\u001b[0mexpr\u001b[0m\u001b[0;34m)\u001b[0m\u001b[0;34m\u001b[0m\u001b[0;34m\u001b[0m\u001b[0m\n\u001b[0m",
      "\u001b[0;31mNameError\u001b[0m: name 'expr' is not defined"
     ]
    }
   ],
   "source": [
    "show(expr)"
   ]
  },
  {
   "cell_type": "code",
   "execution_count": 182,
   "id": "f8b64c4b",
   "metadata": {},
   "outputs": [],
   "source": []
  },
  {
   "cell_type": "code",
   "execution_count": 187,
   "id": "7ae7bd19",
   "metadata": {},
   "outputs": [
    {
     "data": {
      "text/plain": [
       "7/2"
      ]
     },
     "execution_count": 187,
     "metadata": {},
     "output_type": "execute_result"
    }
   ],
   "source": []
  },
  {
   "cell_type": "code",
   "execution_count": 188,
   "id": "b0ad42c0",
   "metadata": {},
   "outputs": [],
   "source": [
    "#TEST\n",
    "def obtain_exponent(expr):\n",
    "    try:\n",
    "        orde = SR(str(( expr)).replace('Sqrt','sqrt')).Order()\n",
    "        exp = orde.op[0].op[0].op[0].op[1]\n",
    "    except TypeError:\n",
    "        exp = 0\n",
    "    return exp\n",
    "\n",
    "orde.op[0].op[0].op[0].op[1]"
   ]
  },
  {
   "cell_type": "code",
   "execution_count": null,
   "id": "99a9dc78",
   "metadata": {},
   "outputs": [],
   "source": [
    "el = 0\n",
    "q = (symround(err._mathematica_().Numerator()._sage_() ,tol=1e-30 ).expand().operands()[el])\n",
    "\n",
    "print('Numerator')\n",
    "\n",
    "show(symround(q._mathematica_().Numerator()._sage_(),digits=3).expand())\n",
    "\n",
    "print(obtain_exponent(symround(q._mathematica_().Numerator()._sage_(),digits=3).expand()))\n",
    "\n",
    "print('\\n\\nDenominator')\n",
    "show(symround(q._mathematica_().Denominator()._sage_(),digits=3).expand())\n",
    "print(obtain_exponent(symround(q._mathematica_().Denominator()._sage_(),digits=3).expand()))\n",
    "\n",
    "print('\\n\\nextra Denominator')\n",
    "show( symround(err._mathematica_().Denominator()._sage_().expand(),digits=3))\n",
    "\n",
    "print(obtain_exponent(symround(err._mathematica_().Denominator()._sage_().expand(),digits=3)))"
   ]
  },
  {
   "cell_type": "code",
   "execution_count": 250,
   "id": "d7758542",
   "metadata": {},
   "outputs": [
    {
     "data": {
      "text/html": [
       "<html><script type=\"math/tex; mode=display\">\\newcommand{\\Bold}[1]{\\mathbf{#1}}\\frac{-\\left(7488.95904084581 + 6718.01634154288i\\right) \\, C^{19.5000000000000} - \\left(146175.167483481 - 158210.139494543i\\right) \\, C^{19.0000000000000} + \\left(1.40416170190662 \\times 10^{6} + 1.33575762375496 \\times 10^{6}i\\right) \\, C^{18.5000000000000} + \\left(6.55178140330077 \\times 10^{6} - 6.69860005031530 \\times 10^{6}i\\right) \\, C^{18.0000000000000} - \\left(1.79305037473182 \\times 10^{7} + 1.79350587849144 \\times 10^{7}i\\right) \\, C^{17.5000000000000} - \\left(2.36155772108600 \\times 10^{7} - 2.37171435868918 \\times 10^{7}i\\right) \\, C^{17.0000000000000} + \\left(1.63910100882983 \\times 10^{6} - 1.84406936185372 \\times 10^{6}i\\right) \\, C^{16.5000000000000} - \\left(4.75285059889809 \\times 10^{7} - 3.75433061064312 \\times 10^{7}i\\right) \\, C^{16.0000000000000} + \\left(4.15313038066807 \\times 10^{7} + 4.87626257153558 \\times 10^{7}i\\right) \\, C^{15.5000000000000} - \\left(6.33440670519635 \\times 10^{6} + 3.75542957225609 \\times 10^{6}i\\right) \\, C^{15.0000000000000} + \\left(2.10321093375663 \\times 10^{7} + 3.96699134023395 \\times 10^{7}i\\right) \\, C^{14.5000000000000} + \\left(1.70216570785738 \\times 10^{7} - 1.18298309937309 \\times 10^{7}i\\right) \\, C^{14.0000000000000} + \\left(2.22992515803455 \\times 10^{6} + 1.02781952723612 \\times 10^{7}i\\right) \\, C^{13.5000000000000} + \\left(9.81230665729459 \\times 10^{6} - 3.90679892890652 \\times 10^{6}i\\right) \\, C^{13.0000000000000} - \\left(696896.795467959 + 96640.1962038990i\\right) \\, C^{12.5000000000000} + \\left(2.33199366790597 \\times 10^{6} - 496680.108507839i\\right) \\, C^{12.0000000000000} - \\left(219610.749410932 + 593575.543038401i\\right) \\, C^{11.5000000000000} + \\left(261158.966150310 - 10810.5896413446i\\right) \\, C^{11.0000000000000} - \\left(23858.2442671281 + 137588.872226217i\\right) \\, C^{10.5000000000000} + \\left(5835.04119434564 + 3623.60234960061i\\right) \\, C^{10.0000000000000} - \\left(981.808846066121 + 15187.0283761388i\\right) \\, C^{9.50000000000000} - \\left(1974.40536022792 - 369.849243882553i\\right) \\, C^{9.00000000000000} + \\left(13.5466895709047 - 830.287328943550i\\right) \\, C^{8.50000000000000} - \\left(248.206992393050 - 12.0218190295012i\\right) \\, C^{8.00000000000000} + \\left(2.19390691746541 - 9.76057021050649i\\right) \\, C^{7.50000000000000} - \\left(12.6508870551941 + 0.0180564966983194i\\right) \\, C^{7.00000000000000} + \\left(0.0392953502101259 + 1.29303548235977i\\right) \\, C^{6.50000000000000} - \\left(0.236676913721802 + 0.00554130087105360i\\right) \\, C^{6.00000000000000} - \\left(0.000332856535077300 - 0.0632165983131768i\\right) \\, C^{5.50000000000000} + \\left(0.00273672965613837 + 7.85190215809965 \\times 10^{-6}i\\right) \\, C^{5.00000000000000} + \\left(2.99122174025831 \\times 10^{-20} + 0.000714595972831589i\\right) \\, C^{4.50000000000000} + \\left(0.000117847368191749 - 1.27131118366605 \\times 10^{-19}i\\right) \\, C^{4.00000000000000} - \\left(2.29102610635849 \\times 10^{-20} + 7.29137651509710 \\times 10^{-6}i\\right) \\, C^{3.50000000000000} - \\left(1.71999552242979 \\times 10^{-7} - 2.45775303411946 \\times 10^{-21}i\\right) \\, C^{3.00000000000000} + \\left(1.56015418193604 \\times 10^{-22} - 1.15734856339218 \\times 10^{-22}i\\right) \\, C^{2.50000000000000} - \\left(5.88477778225279 \\times 10^{-24} + 4.27554132666771 \\times 10^{-24}i\\right) \\, C^{2}}{{\\left(1.00000000000000 \\, C^{10.0000000000000} - \\left(2.36605818352689 \\times 10^{-15} + 10.9863242408896i\\right) \\, C^{9.50000000000000} - \\left(36.5687902975831 - 1.30041145233382 \\times 10^{-14}i\\right) \\, C^{9.00000000000000} + \\left(1.43986842710431 \\times 10^{-14} + 30.7526943011312i\\right) \\, C^{8.50000000000000} - \\left(33.4919503889781 - 3.54829052614286 \\times 10^{-15}i\\right) \\, C^{8.00000000000000} + \\left(1.19061331248695 \\times 10^{-14} + 45.7451757962172i\\right) \\, C^{7.50000000000000} + \\left(5.66435160775730 - 2.55444014160724 \\times 10^{-15}i\\right) \\, C^{7.00000000000000} + \\left(1.88813131558382 \\times 10^{-15} + 9.46282259996348i\\right) \\, C^{6.50000000000000} + \\left(3.10462986284868 - 1.88079758141438 \\times 10^{-16}i\\right) \\, C^{6.00000000000000} - \\left(9.43327633504782 \\times 10^{-17} - 0.413204334079750i\\right) \\, C^{5.50000000000000} + \\left(0.295430815711153 + 3.08708169387755 \\times 10^{-17}i\\right) \\, C^{5.00000000000000} - \\left(2.55053762809913 \\times 10^{-18} + 0.0226004009812007i\\right) \\, C^{4.50000000000000} + \\left(0.00696967726456589 - 2.63231827019972 \\times 10^{-18}i\\right) \\, C^{4.00000000000000} - \\left(1.83054627913405 \\times 10^{-18} + 0.00135071328592904i\\right) \\, C^{3.50000000000000} - \\left(0.0000684213696255791 - 2.04267216462088 \\times 10^{-19}i\\right) \\, C^{3.00000000000000} + \\left(2.35383169358941 \\times 10^{-20} + 6.98522960528717 \\times 10^{-21}i\\right) \\, C^{2.50000000000000} - \\left(2.34096281387470 \\times 10^{-21} + 1.70080904075907 \\times 10^{-21}i\\right) \\, C^{2}\\right)} {\\left(\\left(4.34672582434281 + 15.1235908447054i\\right) \\, C^{3.00000000000000} + \\left(58.9179361743329 - 15.2169042607225i\\right) \\, C^{2.50000000000000} - \\left(2.65192677524963 + 11.4175364591636i\\right) \\, C^{2} + \\left(16.7467080330417 - 5.86014199342403 \\times 10^{-16}i\\right) \\, C^{1.50000000000000} - \\left(1.25420899446302 \\times 10^{-16} + 3.58419162304540i\\right) \\, C - \\left(7.50066723502131 \\times 10^{-18} - 0.285651125213588i\\right) \\, C^{1.00000000000000} + 1.00000000000000 \\, \\sqrt{C} - 1.48465718859219 \\times 10^{-17} - 0.174275051601312i\\right)} {\\left(\\left(4.34672582434281 + 15.1235908447054i\\right) \\, C^{3.00000000000000} + \\left(58.9179361743329 - 15.2169042607225i\\right) \\, C^{2.50000000000000} - \\left(2.65192677524963 + 11.4175364591636i\\right) \\, C^{2} + \\left(16.7467080330417 + 9.38354404574983 \\times 10^{-16}i\\right) \\, C^{1.50000000000000} - 3.58419162304540i \\, C - \\left(2.93235751429682 \\times 10^{-17} - 0.285651125213588i\\right) \\, C^{1.00000000000000} + 1.00000000000000 \\, \\sqrt{C} - 7.33089378574206 \\times 10^{-18} - 0.174275051601312i\\right)} {\\left(\\left(4.34672582434281 + 15.1235908447054i\\right) \\, C^{3.00000000000000} + \\left(58.9179361743329 - 15.2169042607225i\\right) \\, C^{2.50000000000000} - \\left(2.65192677524962 + 11.4175364591636i\\right) \\, C^{2} + 16.7467080330417 \\, C^{1.50000000000000} - 3.58419162304540i \\, C - \\left(1.31222998764783 \\times 10^{-17} - 0.285651125213588i\\right) \\, C^{1.00000000000000} + 1.00000000000000 \\, \\sqrt{C} - 0.174275051601312i\\right)} {\\left(1.00000000000000 \\, \\sqrt{C} - 0.183939720585721i\\right)} {\\left(1.00000000000000 \\, \\sqrt{C} - 3.31683416662469i\\right)}}</script></html>"
      ],
      "text/latex": [
       "$$\\newcommand{\\Bold}[1]{\\mathbf{#1}}\\frac{-\\left(7488.95904084581 + 6718.01634154288i\\right) \\, C^{19.5000000000000} - \\left(146175.167483481 - 158210.139494543i\\right) \\, C^{19.0000000000000} + \\left(1.40416170190662 \\times 10^{6} + 1.33575762375496 \\times 10^{6}i\\right) \\, C^{18.5000000000000} + \\left(6.55178140330077 \\times 10^{6} - 6.69860005031530 \\times 10^{6}i\\right) \\, C^{18.0000000000000} - \\left(1.79305037473182 \\times 10^{7} + 1.79350587849144 \\times 10^{7}i\\right) \\, C^{17.5000000000000} - \\left(2.36155772108600 \\times 10^{7} - 2.37171435868918 \\times 10^{7}i\\right) \\, C^{17.0000000000000} + \\left(1.63910100882983 \\times 10^{6} - 1.84406936185372 \\times 10^{6}i\\right) \\, C^{16.5000000000000} - \\left(4.75285059889809 \\times 10^{7} - 3.75433061064312 \\times 10^{7}i\\right) \\, C^{16.0000000000000} + \\left(4.15313038066807 \\times 10^{7} + 4.87626257153558 \\times 10^{7}i\\right) \\, C^{15.5000000000000} - \\left(6.33440670519635 \\times 10^{6} + 3.75542957225609 \\times 10^{6}i\\right) \\, C^{15.0000000000000} + \\left(2.10321093375663 \\times 10^{7} + 3.96699134023395 \\times 10^{7}i\\right) \\, C^{14.5000000000000} + \\left(1.70216570785738 \\times 10^{7} - 1.18298309937309 \\times 10^{7}i\\right) \\, C^{14.0000000000000} + \\left(2.22992515803455 \\times 10^{6} + 1.02781952723612 \\times 10^{7}i\\right) \\, C^{13.5000000000000} + \\left(9.81230665729459 \\times 10^{6} - 3.90679892890652 \\times 10^{6}i\\right) \\, C^{13.0000000000000} - \\left(696896.795467959 + 96640.1962038990i\\right) \\, C^{12.5000000000000} + \\left(2.33199366790597 \\times 10^{6} - 496680.108507839i\\right) \\, C^{12.0000000000000} - \\left(219610.749410932 + 593575.543038401i\\right) \\, C^{11.5000000000000} + \\left(261158.966150310 - 10810.5896413446i\\right) \\, C^{11.0000000000000} - \\left(23858.2442671281 + 137588.872226217i\\right) \\, C^{10.5000000000000} + \\left(5835.04119434564 + 3623.60234960061i\\right) \\, C^{10.0000000000000} - \\left(981.808846066121 + 15187.0283761388i\\right) \\, C^{9.50000000000000} - \\left(1974.40536022792 - 369.849243882553i\\right) \\, C^{9.00000000000000} + \\left(13.5466895709047 - 830.287328943550i\\right) \\, C^{8.50000000000000} - \\left(248.206992393050 - 12.0218190295012i\\right) \\, C^{8.00000000000000} + \\left(2.19390691746541 - 9.76057021050649i\\right) \\, C^{7.50000000000000} - \\left(12.6508870551941 + 0.0180564966983194i\\right) \\, C^{7.00000000000000} + \\left(0.0392953502101259 + 1.29303548235977i\\right) \\, C^{6.50000000000000} - \\left(0.236676913721802 + 0.00554130087105360i\\right) \\, C^{6.00000000000000} - \\left(0.000332856535077300 - 0.0632165983131768i\\right) \\, C^{5.50000000000000} + \\left(0.00273672965613837 + 7.85190215809965 \\times 10^{-6}i\\right) \\, C^{5.00000000000000} + \\left(2.99122174025831 \\times 10^{-20} + 0.000714595972831589i\\right) \\, C^{4.50000000000000} + \\left(0.000117847368191749 - 1.27131118366605 \\times 10^{-19}i\\right) \\, C^{4.00000000000000} - \\left(2.29102610635849 \\times 10^{-20} + 7.29137651509710 \\times 10^{-6}i\\right) \\, C^{3.50000000000000} - \\left(1.71999552242979 \\times 10^{-7} - 2.45775303411946 \\times 10^{-21}i\\right) \\, C^{3.00000000000000} + \\left(1.56015418193604 \\times 10^{-22} - 1.15734856339218 \\times 10^{-22}i\\right) \\, C^{2.50000000000000} - \\left(5.88477778225279 \\times 10^{-24} + 4.27554132666771 \\times 10^{-24}i\\right) \\, C^{2}}{{\\left(1.00000000000000 \\, C^{10.0000000000000} - \\left(2.36605818352689 \\times 10^{-15} + 10.9863242408896i\\right) \\, C^{9.50000000000000} - \\left(36.5687902975831 - 1.30041145233382 \\times 10^{-14}i\\right) \\, C^{9.00000000000000} + \\left(1.43986842710431 \\times 10^{-14} + 30.7526943011312i\\right) \\, C^{8.50000000000000} - \\left(33.4919503889781 - 3.54829052614286 \\times 10^{-15}i\\right) \\, C^{8.00000000000000} + \\left(1.19061331248695 \\times 10^{-14} + 45.7451757962172i\\right) \\, C^{7.50000000000000} + \\left(5.66435160775730 - 2.55444014160724 \\times 10^{-15}i\\right) \\, C^{7.00000000000000} + \\left(1.88813131558382 \\times 10^{-15} + 9.46282259996348i\\right) \\, C^{6.50000000000000} + \\left(3.10462986284868 - 1.88079758141438 \\times 10^{-16}i\\right) \\, C^{6.00000000000000} - \\left(9.43327633504782 \\times 10^{-17} - 0.413204334079750i\\right) \\, C^{5.50000000000000} + \\left(0.295430815711153 + 3.08708169387755 \\times 10^{-17}i\\right) \\, C^{5.00000000000000} - \\left(2.55053762809913 \\times 10^{-18} + 0.0226004009812007i\\right) \\, C^{4.50000000000000} + \\left(0.00696967726456589 - 2.63231827019972 \\times 10^{-18}i\\right) \\, C^{4.00000000000000} - \\left(1.83054627913405 \\times 10^{-18} + 0.00135071328592904i\\right) \\, C^{3.50000000000000} - \\left(0.0000684213696255791 - 2.04267216462088 \\times 10^{-19}i\\right) \\, C^{3.00000000000000} + \\left(2.35383169358941 \\times 10^{-20} + 6.98522960528717 \\times 10^{-21}i\\right) \\, C^{2.50000000000000} - \\left(2.34096281387470 \\times 10^{-21} + 1.70080904075907 \\times 10^{-21}i\\right) \\, C^{2}\\right)} {\\left(\\left(4.34672582434281 + 15.1235908447054i\\right) \\, C^{3.00000000000000} + \\left(58.9179361743329 - 15.2169042607225i\\right) \\, C^{2.50000000000000} - \\left(2.65192677524963 + 11.4175364591636i\\right) \\, C^{2} + \\left(16.7467080330417 - 5.86014199342403 \\times 10^{-16}i\\right) \\, C^{1.50000000000000} - \\left(1.25420899446302 \\times 10^{-16} + 3.58419162304540i\\right) \\, C - \\left(7.50066723502131 \\times 10^{-18} - 0.285651125213588i\\right) \\, C^{1.00000000000000} + 1.00000000000000 \\, \\sqrt{C} - 1.48465718859219 \\times 10^{-17} - 0.174275051601312i\\right)} {\\left(\\left(4.34672582434281 + 15.1235908447054i\\right) \\, C^{3.00000000000000} + \\left(58.9179361743329 - 15.2169042607225i\\right) \\, C^{2.50000000000000} - \\left(2.65192677524963 + 11.4175364591636i\\right) \\, C^{2} + \\left(16.7467080330417 + 9.38354404574983 \\times 10^{-16}i\\right) \\, C^{1.50000000000000} - 3.58419162304540i \\, C - \\left(2.93235751429682 \\times 10^{-17} - 0.285651125213588i\\right) \\, C^{1.00000000000000} + 1.00000000000000 \\, \\sqrt{C} - 7.33089378574206 \\times 10^{-18} - 0.174275051601312i\\right)} {\\left(\\left(4.34672582434281 + 15.1235908447054i\\right) \\, C^{3.00000000000000} + \\left(58.9179361743329 - 15.2169042607225i\\right) \\, C^{2.50000000000000} - \\left(2.65192677524962 + 11.4175364591636i\\right) \\, C^{2} + 16.7467080330417 \\, C^{1.50000000000000} - 3.58419162304540i \\, C - \\left(1.31222998764783 \\times 10^{-17} - 0.285651125213588i\\right) \\, C^{1.00000000000000} + 1.00000000000000 \\, \\sqrt{C} - 0.174275051601312i\\right)} {\\left(1.00000000000000 \\, \\sqrt{C} - 0.183939720585721i\\right)} {\\left(1.00000000000000 \\, \\sqrt{C} - 3.31683416662469i\\right)}}$$"
      ],
      "text/plain": [
       "(-(7488.95904084581 + 6718.01634154288*I)*C^19.5000000000000 - (146175.167483481 - 158210.139494543*I)*C^19.0000000000000 + (1.40416170190662e6 + 1.33575762375496e6*I)*C^18.5000000000000 + (6.55178140330077e6 - 6.69860005031530e6*I)*C^18.0000000000000 - (1.79305037473182e7 + 1.79350587849144e7*I)*C^17.5000000000000 - (2.36155772108600e7 - 2.37171435868918e7*I)*C^17.0000000000000 + (1.63910100882983e6 - 1.84406936185372e6*I)*C^16.5000000000000 - (4.75285059889809e7 - 3.75433061064312e7*I)*C^16.0000000000000 + (4.15313038066807e7 + 4.87626257153558e7*I)*C^15.5000000000000 - (6.33440670519635e6 + 3.75542957225609e6*I)*C^15.0000000000000 + (2.10321093375663e7 + 3.96699134023395e7*I)*C^14.5000000000000 + (1.70216570785738e7 - 1.18298309937309e7*I)*C^14.0000000000000 + (2.22992515803455e6 + 1.02781952723612e7*I)*C^13.5000000000000 + (9.81230665729459e6 - 3.90679892890652e6*I)*C^13.0000000000000 - (696896.795467959 + 96640.1962038990*I)*C^12.5000000000000 + (2.33199366790597e6 - 496680.108507839*I)*C^12.0000000000000 - (219610.749410932 + 593575.543038401*I)*C^11.5000000000000 + (261158.966150310 - 10810.5896413446*I)*C^11.0000000000000 - (23858.2442671281 + 137588.872226217*I)*C^10.5000000000000 + (5835.04119434564 + 3623.60234960061*I)*C^10.0000000000000 - (981.808846066121 + 15187.0283761388*I)*C^9.50000000000000 - (1974.40536022792 - 369.849243882553*I)*C^9.00000000000000 + (13.5466895709047 - 830.287328943550*I)*C^8.50000000000000 - (248.206992393050 - 12.0218190295012*I)*C^8.00000000000000 + (2.19390691746541 - 9.76057021050649*I)*C^7.50000000000000 - (12.6508870551941 + 0.0180564966983194*I)*C^7.00000000000000 + (0.0392953502101259 + 1.29303548235977*I)*C^6.50000000000000 - (0.236676913721802 + 0.00554130087105360*I)*C^6.00000000000000 - (0.000332856535077300 - 0.0632165983131768*I)*C^5.50000000000000 + (0.00273672965613837 + 7.85190215809965e-6*I)*C^5.00000000000000 + (2.99122174025831e-20 + 0.000714595972831589*I)*C^4.50000000000000 + (0.000117847368191749 - 1.27131118366605e-19*I)*C^4.00000000000000 - (2.29102610635849e-20 + 7.29137651509710e-6*I)*C^3.50000000000000 - (1.71999552242979e-7 - 2.45775303411946e-21*I)*C^3.00000000000000 + (1.56015418193604e-22 - 1.15734856339218e-22*I)*C^2.50000000000000 - (5.88477778225279e-24 + 4.27554132666771e-24*I)*C^2)/((1.00000000000000*C^10.0000000000000 - (2.36605818352689e-15 + 10.9863242408896*I)*C^9.50000000000000 - (36.5687902975831 - 1.30041145233382e-14*I)*C^9.00000000000000 + (1.43986842710431e-14 + 30.7526943011312*I)*C^8.50000000000000 - (33.4919503889781 - 3.54829052614286e-15*I)*C^8.00000000000000 + (1.19061331248695e-14 + 45.7451757962172*I)*C^7.50000000000000 + (5.66435160775730 - 2.55444014160724e-15*I)*C^7.00000000000000 + (1.88813131558382e-15 + 9.46282259996348*I)*C^6.50000000000000 + (3.10462986284868 - 1.88079758141438e-16*I)*C^6.00000000000000 - (9.43327633504782e-17 - 0.413204334079750*I)*C^5.50000000000000 + (0.295430815711153 + 3.08708169387755e-17*I)*C^5.00000000000000 - (2.55053762809913e-18 + 0.0226004009812007*I)*C^4.50000000000000 + (0.00696967726456589 - 2.63231827019972e-18*I)*C^4.00000000000000 - (1.83054627913405e-18 + 0.00135071328592904*I)*C^3.50000000000000 - (0.0000684213696255791 - 2.04267216462088e-19*I)*C^3.00000000000000 + (2.35383169358941e-20 + 6.98522960528717e-21*I)*C^2.50000000000000 - (2.34096281387470e-21 + 1.70080904075907e-21*I)*C^2)*((4.34672582434281 + 15.1235908447054*I)*C^3.00000000000000 + (58.9179361743329 - 15.2169042607225*I)*C^2.50000000000000 - (2.65192677524963 + 11.4175364591636*I)*C^2 + (16.7467080330417 - 5.86014199342403e-16*I)*C^1.50000000000000 - (1.25420899446302e-16 + 3.58419162304540*I)*C - (7.50066723502131e-18 - 0.285651125213588*I)*C^1.00000000000000 + 1.00000000000000*sqrt(C) - 1.48465718859219e-17 - 0.174275051601312*I)*((4.34672582434281 + 15.1235908447054*I)*C^3.00000000000000 + (58.9179361743329 - 15.2169042607225*I)*C^2.50000000000000 - (2.65192677524963 + 11.4175364591636*I)*C^2 + (16.7467080330417 + 9.38354404574983e-16*I)*C^1.50000000000000 - 3.58419162304540*I*C - (2.93235751429682e-17 - 0.285651125213588*I)*C^1.00000000000000 + 1.00000000000000*sqrt(C) - 7.33089378574206e-18 - 0.174275051601312*I)*((4.34672582434281 + 15.1235908447054*I)*C^3.00000000000000 + (58.9179361743329 - 15.2169042607225*I)*C^2.50000000000000 - (2.65192677524962 + 11.4175364591636*I)*C^2 + 16.7467080330417*C^1.50000000000000 - 3.58419162304540*I*C - (1.31222998764783e-17 - 0.285651125213588*I)*C^1.00000000000000 + 1.00000000000000*sqrt(C) - 0.174275051601312*I)*(1.00000000000000*sqrt(C) - 0.183939720585721*I)*(1.00000000000000*sqrt(C) - 3.31683416662469*I))"
      ]
     },
     "metadata": {},
     "output_type": "display_data"
    }
   ],
   "source": [
    "show(err)"
   ]
  },
  {
   "cell_type": "code",
   "execution_count": null,
   "id": "54bd856e",
   "metadata": {},
   "outputs": [],
   "source": []
  }
 ],
 "metadata": {
  "kernelspec": {
   "display_name": "SageMath 9.3",
   "language": "sage",
   "name": "sagemath"
  },
  "language_info": {
   "codemirror_mode": {
    "name": "ipython",
    "version": 3
   },
   "file_extension": ".py",
   "mimetype": "text/x-python",
   "name": "python",
   "nbconvert_exporter": "python",
   "pygments_lexer": "ipython3",
   "version": "3.9.2"
  }
 },
 "nbformat": 4,
 "nbformat_minor": 5
}
