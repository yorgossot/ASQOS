{
 "cells": [
  {
   "cell_type": "code",
   "execution_count": 1,
   "id": "a43f3bbd",
   "metadata": {
    "scrolled": false
   },
   "outputs": [
    {
     "name": "stdout",
     "output_type": "stream",
     "text": [
      "Initializing system O-x-O  ...\n",
      "Constructing states and excitations...\n",
      "Constructing ground and first-excited statespace...\n",
      "Constructing gs_hamiltonian ...\n",
      "Constructing e1_hamiltonian ...\n",
      "Constructing interactions V_plus and V_minus ...\n",
      "Constructing NJ_hamiltonian  ...\n",
      "Inverting NJ_hamiltonian  ...\n",
      "Constructing eff_hamiltonian and effective lindblau operators ...\n",
      "\n",
      "System  O-x-O  initialized in 37.9 seconds.\n"
     ]
    }
   ],
   "source": [
    "from system import *\n",
    "s1 = system('O-x-O',MMA=True,ManyVariables=False,TwoPhotonResonance= True)"
   ]
  },
  {
   "cell_type": "markdown",
   "id": "20c87d69",
   "metadata": {},
   "source": [
    "# Effective Hamiltonian as Real part\n",
    "\n",
    "Will output $Q_n$ from expression:\n",
    "\n",
    "$$\\Delta_n = - \\dfrac{\\Omega^2}{\\gamma} \\text{Re}\\{Q_n \\} $$"
   ]
  },
  {
   "cell_type": "code",
   "execution_count": 12,
   "id": "6398d4bb",
   "metadata": {
    "scrolled": true
   },
   "outputs": [
    {
     "name": "stdout",
     "output_type": "stream",
     "text": [
      "symround: Deleted coefficient 4.9e-16\n"
     ]
    },
    {
     "data": {
      "text/html": [
       "<html><script type=\"math/tex; mode=display\">\\newcommand{\\Bold}[1]{\\mathbf{#1}}-\\frac{C^{2} {R_0} {\\left(4 i \\, {c} + 0.50i\\right)} - {\\left({\\tilde{\\Delta }_e} {R_0} + {\\tilde{\\Delta }_{e0}}\\right)} {\\left(4 \\, {c}^{2} + 3 \\, {c} + 0.25\\right)} C + {\\left(-6 i \\, {c}^{2} - 2 i \\, {c} - 0.12i\\right)} {\\tilde{\\Delta }_{e0}} {\\tilde{\\Delta }_e}}{{\\left(4 \\, {\\tilde{\\Delta }_{e0}} {\\tilde{\\Delta }_e} {\\left({c} + 0.25\\right)}^{2} - C^{2} {R_0} - {\\left({\\tilde{\\Delta }_e} {R_0} + {\\tilde{\\Delta }_{e0}}\\right)} C {\\left(2 i \\, {c} + 0.50i\\right)}\\right)} C R_{f} - {\\left(C^{2} {R_0} {\\left(4 i \\, {c} + 0.50i\\right)} - {\\left({\\tilde{\\Delta }_e} {R_0} + {\\tilde{\\Delta }_{e0}}\\right)} {\\left(4 \\, {c}^{2} + 3 \\, {c} + 0.25\\right)} C + {\\left(-6 i \\, {c}^{2} - 2 i \\, {c} - 0.12i\\right)} {\\tilde{\\Delta }_{e0}} {\\tilde{\\Delta }_e}\\right)} {\\tilde{\\Delta }_E}}</script></html>"
      ],
      "text/latex": [
       "$$\\newcommand{\\Bold}[1]{\\mathbf{#1}}-\\frac{C^{2} {R_0} {\\left(4 i \\, {c} + 0.50i\\right)} - {\\left({\\tilde{\\Delta }_e} {R_0} + {\\tilde{\\Delta }_{e0}}\\right)} {\\left(4 \\, {c}^{2} + 3 \\, {c} + 0.25\\right)} C + {\\left(-6 i \\, {c}^{2} - 2 i \\, {c} - 0.12i\\right)} {\\tilde{\\Delta }_{e0}} {\\tilde{\\Delta }_e}}{{\\left(4 \\, {\\tilde{\\Delta }_{e0}} {\\tilde{\\Delta }_e} {\\left({c} + 0.25\\right)}^{2} - C^{2} {R_0} - {\\left({\\tilde{\\Delta }_e} {R_0} + {\\tilde{\\Delta }_{e0}}\\right)} C {\\left(2 i \\, {c} + 0.50i\\right)}\\right)} C R_{f} - {\\left(C^{2} {R_0} {\\left(4 i \\, {c} + 0.50i\\right)} - {\\left({\\tilde{\\Delta }_e} {R_0} + {\\tilde{\\Delta }_{e0}}\\right)} {\\left(4 \\, {c}^{2} + 3 \\, {c} + 0.25\\right)} C + {\\left(-6 i \\, {c}^{2} - 2 i \\, {c} - 0.12i\\right)} {\\tilde{\\Delta }_{e0}} {\\tilde{\\Delta }_e}\\right)} {\\tilde{\\Delta }_E}}$$"
      ],
      "text/plain": [
       "-(C^2*R0*(4*I*c + 0.50*I) - (Det*R0 + De0t)*(4*c^2 + 3*c + 0.25)*C + (-6*I*c^2 - 2*I*c - 0.12*I)*De0t*Det)/((4*De0t*Det*(c + 0.25)^2 - C^2*R0 - (Det*R0 + De0t)*C*(2*I*c + 0.50*I))*C*R_f - (C^2*R0*(4*I*c + 0.50*I) - (Det*R0 + De0t)*(4*c^2 + 3*c + 0.25)*C + (-6*I*c^2 - 2*I*c - 0.12*I)*De0t*Det)*DEt)"
      ]
     },
     "metadata": {},
     "output_type": "display_data"
    }
   ],
   "source": [
    "diag = 1  #input n corresponding to diag element\n",
    "\n",
    "var('gamma','DE','De','g','g_f','Omega','v','gamma_f','gamma_g','gamma0','De0','g0',domain='positive')\n",
    "var('DEt',domain='positive',  latex_name =r'\\tilde{\\Delta }_E')\n",
    "var('Det',domain='positive',  latex_name =r'\\tilde{\\Delta }_e')\n",
    "var('De0t',domain='positive',  latex_name =r'\\tilde{\\Delta }_{e0}')\n",
    "var('dct',domain='positive',  latex_name =r'\\tilde{\\delta }_c')\n",
    "var('DEg',domain='positive',  latex_name =r'\\Delta_{E\\gamma}')\n",
    "var('Deg',domain='positive',  latex_name =r'\\Delta_{e\\gamma}')\n",
    "var('kappa_c','kappa_b',domain='positive')\n",
    "var('C',domain='positive')\n",
    "var('c',domain='positive',  latex_name =r'c')\n",
    "\n",
    "#(gamma_f=gamma)#gamma_g=0,\n",
    "\n",
    "#Take only one of the compl conj terms. Switch maybe second 0 to 1\n",
    "min_expr_len = 10**10\n",
    "for term in range(2):\n",
    "    b = s1.eff_hamiltonian_gs[diag,diag]\n",
    "\n",
    "    \n",
    "    b = b.operands()[1].operands()[term]  #  + b.operands()[1].operands()[3] use if obtained with sage\n",
    "\n",
    "\n",
    "    b = b.subs(DE=+0.5*I*gamma_f + 0.5*I*gamma_g + DEt*gamma)\n",
    "    b = b.subs(De=+0.5*I*gamma   +Det*gamma)\n",
    "    \n",
    "    b = b.subs(De0= +0.5*I*gamma0 +De0t*gamma)\n",
    "    \n",
    "    #var('a0', latex_name =r'a_0')\n",
    "    #b = b.subs(De0=+0.5*I*gamma   +Det*gamma*a0)\n",
    "    #var('n')\n",
    "    b = b.subs(DE=DEg*gamma)\n",
    "    b = b.subs(De=Deg*gamma)\n",
    "    var('a0', latex_name =r'a_0')\n",
    "    b = b.subs(De0=a0*Deg*gamma)\n",
    "    \n",
    "    var('R_f',domain='real')#ratio  (g_f/g)^2\n",
    "    b = b.subs(g_f=g*sqrt(R_f))\n",
    "    \n",
    "    var('R0',domain='positive',  latex_name =r'R_0')\n",
    "    b = b.subs(g0=g*sqrt(R0))\n",
    "\n",
    "    var('R_v',domain='real',  latex_name =r'R_{\\nu}') #ratio (v/g)^2\n",
    "    b = b.subs(v=g*sqrt(R_v))\n",
    "\n",
    "    var('r_b',domain='real')\n",
    "    b = b.subs(kappa_b=gamma/r_b)\n",
    "\n",
    "\n",
    "    var('r_g',domain='real',latex_name =r'r_g')\n",
    "    b = b.subs(gamma_g=gamma*r_g)\n",
    "\n",
    "\n",
    "    var('r_f',domain='real',latex_name =r'r_f')\n",
    "    b = b.subs(gamma_f=gamma*r_f)\n",
    "    \n",
    "    var('r0',domain='real',latex_name =r'r_0')\n",
    "    b = b.subs(gamma0=gamma*r0)\n",
    "\n",
    "\n",
    "    b = b.subs(g = sqrt(C*kappa_c*gamma)) \n",
    "    \n",
    "    b = b.subs(dc = (dct+0.5*I)*kappa_c )\n",
    "    \n",
    "    b = b.subs(r_b = c/(C*R_v))\n",
    "    \n",
    "    b = b*gamma  #Omega has to be substituted with Omega/gamma\n",
    "    \n",
    "\n",
    "    b = b._mathematica_().Factor()._sage_()\n",
    "    b = MMA_simplify(b,full= False)\n",
    "    #holds the smallest expression\n",
    "    if len(str(b))<min_expr_len:\n",
    "        min_expr_len = len(str(b))\n",
    "        h_eff = b\n",
    "\n",
    "show( (symround(h_eff,digits=1)))"
   ]
  },
  {
   "cell_type": "code",
   "execution_count": 59,
   "id": "0d4a8f32",
   "metadata": {},
   "outputs": [],
   "source": [
    "#show(symround(MMA_simplify(h_eff.subs(De0t=I/2,R0=0),full= not True).denominator()*48))"
   ]
  },
  {
   "cell_type": "code",
   "execution_count": 13,
   "id": "fef9a7b4",
   "metadata": {},
   "outputs": [
    {
     "name": "stdout",
     "output_type": "stream",
     "text": [
      "numerator\n"
     ]
    },
    {
     "data": {
      "text/html": [
       "<html><script type=\"math/tex; mode=display\">\\newcommand{\\Bold}[1]{\\mathbf{#1}}2 \\, {\\left(16 \\, {c}^{2} + 12 \\, {c} + 1\\right)} C {\\tilde{\\Delta }_{e0}} + {\\left(48 i \\, {c}^{2} + 16 i \\, {c} + i\\right)} {\\tilde{\\Delta }_{e0}} {\\tilde{\\Delta }_e} + {\\left(2 \\, {\\left(16 \\, {c}^{2} + 12 \\, {c} + 1\\right)} C {\\tilde{\\Delta }_e} + C^{2} {\\left(-32 i \\, {c} - 4 i\\right)}\\right)} {R_0}</script></html>"
      ],
      "text/latex": [
       "$$\\newcommand{\\Bold}[1]{\\mathbf{#1}}2 \\, {\\left(16 \\, {c}^{2} + 12 \\, {c} + 1\\right)} C {\\tilde{\\Delta }_{e0}} + {\\left(48 i \\, {c}^{2} + 16 i \\, {c} + i\\right)} {\\tilde{\\Delta }_{e0}} {\\tilde{\\Delta }_e} + {\\left(2 \\, {\\left(16 \\, {c}^{2} + 12 \\, {c} + 1\\right)} C {\\tilde{\\Delta }_e} + C^{2} {\\left(-32 i \\, {c} - 4 i\\right)}\\right)} {R_0}$$"
      ],
      "text/plain": [
       "2*(16*c^2 + 12*c + 1)*C*De0t + (48*I*c^2 + 16*I*c + I)*De0t*Det + (2*(16*c^2 + 12*c + 1)*C*Det + C^2*(-32*I*c - 4*I))*R0"
      ]
     },
     "metadata": {},
     "output_type": "display_data"
    },
    {
     "name": "stdout",
     "output_type": "stream",
     "text": [
      "\n",
      "\n",
      " Latex\n",
      "2 \\, {\\left(16 \\, {c}^{2} + 12 \\, {c} + 1\\right)} C {\\tilde{\\Delta }_{e0}} + {\\left(48 i \\, {c}^{2} + 16 i \\, {c} + i\\right)} {\\tilde{\\Delta }_{e0}} {\\tilde{\\Delta }_e} + {\\left(2 \\, {\\left(16 \\, {c}^{2} + 12 \\, {c} + 1\\right)} C {\\tilde{\\Delta }_e} + C^{2} {\\left(-32 i \\, {c} - 4 i\\right)}\\right)} {R_0}\n",
      "\n",
      "\n",
      "~~~~~~~~~~~~~~~~~~~~~~~~~~~~~~~~~~~~~~~~~~~~~~~~~~~~~~~~\n",
      "\n",
      "\n",
      "denominator\n",
      "symround: Deleted coefficient -3.92e-15\n"
     ]
    },
    {
     "data": {
      "text/html": [
       "<html><script type=\"math/tex; mode=display\">\\newcommand{\\Bold}[1]{\\mathbf{#1}}32 \\, C {\\tilde{\\Delta }_{e0}} {\\tilde{\\Delta }_e} R_{f} {\\left({c} + 0.250\\right)}^{2} + C^{2} {\\tilde{\\Delta }_{e0}} R_{f} {\\left(-16 i \\, {c} - 4 i\\right)} + 2 \\, {\\left(16 \\, {c}^{2} + 12 \\, {c} + 1\\right)} C {\\tilde{\\Delta }_E} {\\tilde{\\Delta }_{e0}} + {\\left(48 i \\, {c}^{2} + 16 i \\, {c} + i\\right)} {\\tilde{\\Delta }_E} {\\tilde{\\Delta }_{e0}} {\\tilde{\\Delta }_e} + {\\left(C^{2} {\\tilde{\\Delta }_e} R_{f} {\\left(-16 i \\, {c} - 4 i\\right)} + 2 \\, {\\left(16 \\, {c}^{2} + 12 \\, {c} + 1\\right)} C {\\tilde{\\Delta }_E} {\\tilde{\\Delta }_e} - 8 \\, C^{3} R_{f} + C^{2} {\\tilde{\\Delta }_E} {\\left(-32 i \\, {c} - 4 i\\right)}\\right)} {R_0}</script></html>"
      ],
      "text/latex": [
       "$$\\newcommand{\\Bold}[1]{\\mathbf{#1}}32 \\, C {\\tilde{\\Delta }_{e0}} {\\tilde{\\Delta }_e} R_{f} {\\left({c} + 0.250\\right)}^{2} + C^{2} {\\tilde{\\Delta }_{e0}} R_{f} {\\left(-16 i \\, {c} - 4 i\\right)} + 2 \\, {\\left(16 \\, {c}^{2} + 12 \\, {c} + 1\\right)} C {\\tilde{\\Delta }_E} {\\tilde{\\Delta }_{e0}} + {\\left(48 i \\, {c}^{2} + 16 i \\, {c} + i\\right)} {\\tilde{\\Delta }_E} {\\tilde{\\Delta }_{e0}} {\\tilde{\\Delta }_e} + {\\left(C^{2} {\\tilde{\\Delta }_e} R_{f} {\\left(-16 i \\, {c} - 4 i\\right)} + 2 \\, {\\left(16 \\, {c}^{2} + 12 \\, {c} + 1\\right)} C {\\tilde{\\Delta }_E} {\\tilde{\\Delta }_e} - 8 \\, C^{3} R_{f} + C^{2} {\\tilde{\\Delta }_E} {\\left(-32 i \\, {c} - 4 i\\right)}\\right)} {R_0}$$"
      ],
      "text/plain": [
       "32*C*De0t*Det*R_f*(c + 0.250)^2 + C^2*De0t*R_f*(-16*I*c - 4*I) + 2*(16*c^2 + 12*c + 1)*C*DEt*De0t + (48*I*c^2 + 16*I*c + I)*DEt*De0t*Det + (C^2*Det*R_f*(-16*I*c - 4*I) + 2*(16*c^2 + 12*c + 1)*C*DEt*Det - 8*C^3*R_f + C^2*DEt*(-32*I*c - 4*I))*R0"
      ]
     },
     "metadata": {},
     "output_type": "display_data"
    },
    {
     "name": "stdout",
     "output_type": "stream",
     "text": [
      "\n",
      "\n",
      " Latex\n",
      "32 \\, C {\\tilde{\\Delta }_{e0}} {\\tilde{\\Delta }_e} R_{f} {\\left({c} + 0.250\\right)}^{2} + C^{2} {\\tilde{\\Delta }_{e0}} R_{f} {\\left(-16 i \\, {c} - 4 i\\right)} + 2 \\, {\\left(16 \\, {c}^{2} + 12 \\, {c} + 1\\right)} C {\\tilde{\\Delta }_E} {\\tilde{\\Delta }_{e0}} + {\\left(48 i \\, {c}^{2} + 16 i \\, {c} + i\\right)} {\\tilde{\\Delta }_E} {\\tilde{\\Delta }_{e0}} {\\tilde{\\Delta }_e} + {\\left(C^{2} {\\tilde{\\Delta }_e} R_{f} {\\left(-16 i \\, {c} - 4 i\\right)} + 2 \\, {\\left(16 \\, {c}^{2} + 12 \\, {c} + 1\\right)} C {\\tilde{\\Delta }_E} {\\tilde{\\Delta }_e} - 8 \\, C^{3} R_{f} + C^{2} {\\tilde{\\Delta }_E} {\\left(-32 i \\, {c} - 4 i\\right)}\\right)} {R_0}\n"
     ]
    }
   ],
   "source": [
    "factor = -8 #*16*4\n",
    "\n",
    "\n",
    "print('numerator')\n",
    "nu = symround(SR(str(MMA_simplify(factor*(h_eff.numerator().expand()),full=not True)\\\n",
    "                      ._mathematica_().Collect('R0')._sage_()).replace('Sqrt','sqrt'))\\\n",
    "              ,digits=3)\n",
    "nu = nu.collect(R0)\n",
    "show(nu)\n",
    "print(\"\\n\\n Latex\")\n",
    "print(latex(nu))\n",
    "\n",
    "print(\"\\n\\n~~~~~~~~~~~~~~~~~~~~~~~~~~~~~~~~~~~~~~~~~~~~~~~~~~~~~~~~\")\n",
    "print('\\n\\ndenominator')\n",
    "den = symround(SR(str(MMA_simplify(factor*(h_eff.denominator().expand()),full= not True)\\\n",
    "                      ._mathematica_().Collect('R0')._sage_()).replace('Sqrt','sqrt'))\\\n",
    "               ,digits=3)\n",
    "\n",
    "show(den)\n",
    "print(\"\\n\\n Latex\")\n",
    "print(latex(den))"
   ]
  },
  {
   "cell_type": "markdown",
   "id": "407a99a6",
   "metadata": {},
   "source": [
    "# Expand linearly in the limit:   $C\\rightarrow \\infty$"
   ]
  },
  {
   "cell_type": "code",
   "execution_count": 61,
   "id": "def83d4b",
   "metadata": {},
   "outputs": [
    {
     "data": {
      "text/html": [
       "<html><script type=\"math/tex; mode=display\">\\newcommand{\\Bold}[1]{\\mathbf{#1}}\\frac{{\\left(2 i \\, {R_{\\nu}} {c_\\kappa} + 0.66i\\right)} {R_{\\nu}} {c_\\kappa} + 0.042i}{{\\left({\\left(2 i \\, {\\Delta E} + 1.3 \\, R_{f}\\right)} {R_{\\nu}}^{2} {c_\\kappa}^{2} + {\\left(0.66i \\, {\\Delta E} + R_{f}\\right)} {R_{\\nu}} {c_\\kappa} + 0.042i \\, {\\Delta E} + 0.083 \\, R_{f}\\right)} C}</script></html>"
      ],
      "text/latex": [
       "$$\\newcommand{\\Bold}[1]{\\mathbf{#1}}\\frac{{\\left(2 i \\, {R_{\\nu}} {c_\\kappa} + 0.66i\\right)} {R_{\\nu}} {c_\\kappa} + 0.042i}{{\\left({\\left(2 i \\, {\\Delta E} + 1.3 \\, R_{f}\\right)} {R_{\\nu}}^{2} {c_\\kappa}^{2} + {\\left(0.66i \\, {\\Delta E} + R_{f}\\right)} {R_{\\nu}} {c_\\kappa} + 0.042i \\, {\\Delta E} + 0.083 \\, R_{f}\\right)} C}$$"
      ],
      "text/plain": [
       "((2*I*R_v*c_k + 0.66*I)*R_v*c_k + 0.042*I)/(((2*I*DE + 1.3*R_f)*R_v^2*c_k^2 + (0.66*I*DE + R_f)*R_v*c_k + 0.042*I*DE + 0.083*R_f)*C)"
      ]
     },
     "metadata": {},
     "output_type": "display_data"
    }
   ],
   "source": [
    "#with mathematica\n",
    "q = b.subs(C=1/x)\n",
    "q = MMA_simplify(q)\n",
    "tayl = q._mathematica_().Series((x,0,1)).Normal()._sage_()\n",
    "tayl = tayl.subs(x=1/C)\n",
    "#t = q._mathematica_().Series((x,0,2))\n",
    "#t_exp = t[3]\n",
    "#t_st = t[4]\n",
    "#tayl = 0\n",
    "#for i in range(1,len(t_exp)):\n",
    "#    tayl += MMA_simplify( t_exp[i]._sage_() ) / C**(i-1+Integer(t[4]))\n",
    "\n",
    "show(symround(tayl))\n",
    "\n",
    "#with sage\n",
    "#tayl = b.taylor(C_c,infinity, 1)\n",
    "#show(symround(MMA_simplify(tayl)))"
   ]
  },
  {
   "cell_type": "markdown",
   "id": "1498df0a",
   "metadata": {},
   "source": [
    "# Lindblad Operators\n",
    "\n",
    "Choose which of the Lindblau operators to view and which non zero element of it"
   ]
  },
  {
   "cell_type": "code",
   "execution_count": 7,
   "id": "847371b4",
   "metadata": {
    "scrolled": true
   },
   "outputs": [],
   "source": [
    "def lind(lind_op,which):    \n",
    "    L_matrix_orig = s1.lindblau_list[lind_op]\n",
    "    L_matrix      = s1.eff_lindblau_list[lind_op] #lindblau_list[lind_op] ##(gamma_g=0,gamma_f=gamma)\n",
    "\n",
    "    L_nonzeros = []\n",
    "    L_nonzeros_pos = []\n",
    "    #find non zero elements\n",
    "    for i in  range(L_matrix.nrows()):\n",
    "        for j in  range(L_matrix.ncols()):\n",
    "            if not L_matrix[i,j].is_zero():\n",
    "                L_nonzeros.append(L_matrix[i,j])\n",
    "                L_nonzeros_pos.append((i,j))\n",
    "\n",
    "    #show what these elements do \n",
    "    #for t in L_nonzeros_pos:\n",
    "    #    print(f' |{s1.gs_e1_dec_states[t[0]]}> < {s1.gs_e1_dec_states[t[1]]} | ')\n",
    "\n",
    "    L_elem = L_nonzeros[which]\n",
    "\n",
    "    var('gamma_f')\n",
    "    L_elem = L_elem.subs(DE=+0.5*I*gamma_f + 0.5*I*gamma_g + DEt*gamma)\n",
    "    L_elem = L_elem.subs(De=+0.5*I*gamma   +Det*gamma)\n",
    "    \n",
    "    #L_elem = L_elem.subs(DE=gamma*DEg)\n",
    "    #L_elem = L_elem.subs(De=gamma*Deg)                     \n",
    "    #COUPLINGS\n",
    "    b = L_elem\n",
    "    \n",
    "    b = b.subs(De0= +0.5*I*gamma0 +De0t*gamma)\n",
    "    \n",
    "    var('R_f',domain='real')#ratio  (g_f/g)^2\n",
    "    b = b.subs(g_f=g*sqrt(R_f))\n",
    "    \n",
    "    var('R0',domain='positive',  latex_name =r'R_0')\n",
    "    b = b.subs(g0=g*sqrt(R0))\n",
    "    \n",
    "    var('R_v',domain='real',  latex_name =r'R_{\\nu}') #ratio (v/g)^2\n",
    "    b = b.subs(v=g*sqrt(R_v))\n",
    "\n",
    "    var('r_b',domain='real')\n",
    "    b = b.subs(kappa_b=gamma/r_b)\n",
    "\n",
    "\n",
    "    var('r_g',domain='real',latex_name =r'r_g')\n",
    "    b = b.subs(gamma_g=gamma*r_g)\n",
    "\n",
    "\n",
    "    var('r_f',domain='real',latex_name =r'r_f')\n",
    "    b = b.subs(gamma_f=gamma*r_f)\n",
    "\n",
    "\n",
    "    b = b.subs(g = sqrt(C*kappa_c*gamma)) \n",
    "    \n",
    "    b = b.subs(r_b = c/(C*R_v))\n",
    "    \n",
    "    b = b.subs(dc = (dct+0.5*I)*kappa_c )\n",
    "    \n",
    "    \n",
    "    L_elem = b\n",
    "    \n",
    "  \n",
    "    L_elem = L_elem._mathematica_().PowerExpand()._sage_()\n",
    "    L_elem = L_elem._mathematica_().Factor()._sage_()\n",
    "\n",
    "\n",
    "    L_elem = MMA_simplify(L_elem,full=True)\n",
    "\n",
    "    L_elem = SR(str(L_elem).replace('Sqrt','sqrt'))\n",
    "\n",
    "    \n",
    "\n",
    "    show( symround(L_elem))\n",
    "\n",
    "    print(f' |{s1.gs_e1_dec_states[L_nonzeros_pos[which][0]]}> < {s1.gs_e1_dec_states[L_nonzeros_pos[which][1]]} | \\n')\n",
    "    print(f' Original coefficient :')\n",
    "    show(s1.L_coeffs[lind_op])\n",
    "    return L_elem\n"
   ]
  },
  {
   "cell_type": "markdown",
   "id": "0ecd2826",
   "metadata": {},
   "source": [
    "# View"
   ]
  },
  {
   "cell_type": "code",
   "execution_count": 37,
   "id": "fbe64d09",
   "metadata": {},
   "outputs": [
    {
     "ename": "IndexError",
     "evalue": "list index out of range",
     "output_type": "error",
     "traceback": [
      "\u001b[0;31m---------------------------------------------------------------------------\u001b[0m",
      "\u001b[0;31mIndexError\u001b[0m                                Traceback (most recent call last)",
      "\u001b[0;32m<ipython-input-37-fc9bb1d7cb65>\u001b[0m in \u001b[0;36m<module>\u001b[0;34m\u001b[0m\n\u001b[1;32m      1\u001b[0m \u001b[0mlind_op\u001b[0m \u001b[0;34m=\u001b[0m \u001b[0mInteger\u001b[0m\u001b[0;34m(\u001b[0m\u001b[0;36m2\u001b[0m\u001b[0;34m)\u001b[0m  \u001b[0;31m#which lindblau operator\u001b[0m\u001b[0;34m\u001b[0m\u001b[0;34m\u001b[0m\u001b[0m\n\u001b[1;32m      2\u001b[0m \u001b[0mwhich\u001b[0m   \u001b[0;34m=\u001b[0m \u001b[0mInteger\u001b[0m\u001b[0;34m(\u001b[0m\u001b[0;36m2\u001b[0m\u001b[0;34m)\u001b[0m  \u001b[0;31m#which non zero element to access\u001b[0m\u001b[0;34m\u001b[0m\u001b[0;34m\u001b[0m\u001b[0m\n\u001b[0;32m----> 3\u001b[0;31m \u001b[0mL_elem\u001b[0m \u001b[0;34m=\u001b[0m \u001b[0mlind\u001b[0m\u001b[0;34m(\u001b[0m\u001b[0mlind_op\u001b[0m\u001b[0;34m,\u001b[0m\u001b[0mwhich\u001b[0m\u001b[0;34m)\u001b[0m\u001b[0;34m\u001b[0m\u001b[0;34m\u001b[0m\u001b[0m\n\u001b[0m\u001b[1;32m      4\u001b[0m \u001b[0;34m\u001b[0m\u001b[0m\n\u001b[1;32m      5\u001b[0m \u001b[0mprint\u001b[0m\u001b[0;34m(\u001b[0m\u001b[0mlatex\u001b[0m\u001b[0;34m(\u001b[0m\u001b[0msymround\u001b[0m\u001b[0;34m(\u001b[0m\u001b[0mL_elem\u001b[0m\u001b[0;34m)\u001b[0m\u001b[0;34m)\u001b[0m\u001b[0;34m)\u001b[0m\u001b[0;34m\u001b[0m\u001b[0;34m\u001b[0m\u001b[0m\n",
      "\u001b[0;32m<ipython-input-7-77caf8b483f9>\u001b[0m in \u001b[0;36mlind\u001b[0;34m(lind_op, which)\u001b[0m\n\u001b[1;32m     16\u001b[0m     \u001b[0;31m#    print(f' |{s1.gs_e1_dec_states[t[0]]}> < {s1.gs_e1_dec_states[t[1]]} | ')\u001b[0m\u001b[0;34m\u001b[0m\u001b[0;34m\u001b[0m\u001b[0;34m\u001b[0m\u001b[0m\n\u001b[1;32m     17\u001b[0m \u001b[0;34m\u001b[0m\u001b[0m\n\u001b[0;32m---> 18\u001b[0;31m     \u001b[0mL_elem\u001b[0m \u001b[0;34m=\u001b[0m \u001b[0mL_nonzeros\u001b[0m\u001b[0;34m[\u001b[0m\u001b[0mwhich\u001b[0m\u001b[0;34m]\u001b[0m\u001b[0;34m\u001b[0m\u001b[0;34m\u001b[0m\u001b[0m\n\u001b[0m\u001b[1;32m     19\u001b[0m \u001b[0;34m\u001b[0m\u001b[0m\n\u001b[1;32m     20\u001b[0m     \u001b[0mvar\u001b[0m\u001b[0;34m(\u001b[0m\u001b[0;34m'gamma_f'\u001b[0m\u001b[0;34m)\u001b[0m\u001b[0;34m\u001b[0m\u001b[0;34m\u001b[0m\u001b[0m\n",
      "\u001b[0;31mIndexError\u001b[0m: list index out of range"
     ]
    }
   ],
   "source": [
    "lind_op = 2  #which lindblau operator\n",
    "which   = 2  #which non zero element to access\n",
    "L_elem = lind(lind_op,which)\n",
    "\n",
    "print(latex(symround(L_elem)))\n"
   ]
  },
  {
   "cell_type": "code",
   "execution_count": null,
   "id": "c945f8b1",
   "metadata": {},
   "outputs": [],
   "source": []
  },
  {
   "cell_type": "code",
   "execution_count": 30,
   "id": "9c801eb0",
   "metadata": {},
   "outputs": [
    {
     "name": "stdout",
     "output_type": "stream",
     "text": [
      "symround: Deleted coefficient 2.2e-16\n",
      "symround: Deleted coefficient 1.8e-17\n"
     ]
    },
    {
     "data": {
      "text/html": [
       "<html><script type=\"math/tex; mode=display\">\\newcommand{\\Bold}[1]{\\mathbf{#1}}\\frac{{\\left(0.50i \\, C {R_0} - {\\tilde{\\Delta }_{e0}} {\\left({c} + 0.25\\right)}\\right)} \\sqrt{C} {\\tilde{\\Delta }_{e0}} {\\Omega} \\sqrt{R_{f}} {c} e^{\\left(-i \\, {\\phi}\\right)}}{{\\left({\\left(-0.25 \\, C^{2} {R_0}^{2} + {\\tilde{\\Delta }_{e0}}^{2} {\\left({c} + 0.25\\right)}^{2} + C {\\tilde{\\Delta }_{e0}} {R_0} {\\left(-i \\, {c} - 0.25i\\right)}\\right)} C R_{f} - {\\left(C^{2} {R_0}^{2} {\\left(i \\, {c} + 0.12i\\right)} - {\\left({\\left(2 \\, {c} + 1.5\\right)} {c} + 0.12\\right)} C {\\tilde{\\Delta }_{e0}} {R_0} - {\\tilde{\\Delta }_{e0}}^{2} {\\left({c} + 0.25\\right)} {\\left(1.5i \\, {c} + 0.12i\\right)}\\right)} {\\tilde{\\Delta }_E}\\right)} \\sqrt{{\\gamma}}}</script></html>"
      ],
      "text/latex": [
       "$$\\newcommand{\\Bold}[1]{\\mathbf{#1}}\\frac{{\\left(0.50i \\, C {R_0} - {\\tilde{\\Delta }_{e0}} {\\left({c} + 0.25\\right)}\\right)} \\sqrt{C} {\\tilde{\\Delta }_{e0}} {\\Omega} \\sqrt{R_{f}} {c} e^{\\left(-i \\, {\\phi}\\right)}}{{\\left({\\left(-0.25 \\, C^{2} {R_0}^{2} + {\\tilde{\\Delta }_{e0}}^{2} {\\left({c} + 0.25\\right)}^{2} + C {\\tilde{\\Delta }_{e0}} {R_0} {\\left(-i \\, {c} - 0.25i\\right)}\\right)} C R_{f} - {\\left(C^{2} {R_0}^{2} {\\left(i \\, {c} + 0.12i\\right)} - {\\left({\\left(2 \\, {c} + 1.5\\right)} {c} + 0.12\\right)} C {\\tilde{\\Delta }_{e0}} {R_0} - {\\tilde{\\Delta }_{e0}}^{2} {\\left({c} + 0.25\\right)} {\\left(1.5i \\, {c} + 0.12i\\right)}\\right)} {\\tilde{\\Delta }_E}\\right)} \\sqrt{{\\gamma}}}$$"
      ],
      "text/plain": [
       "(0.50*I*C*R0 - De0t*(c + 0.25))*sqrt(C)*De0t*Omega*sqrt(R_f)*c*e^(-I*phi)/(((-0.25*C^2*R0^2 + De0t^2*(c + 0.25)^2 + C*De0t*R0*(-I*c - 0.25*I))*C*R_f - (C^2*R0^2*(I*c + 0.12*I) - ((2*c + 1.5)*c + 0.12)*C*De0t*R0 - De0t^2*(c + 0.25)*(1.5*I*c + 0.12*I))*DEt)*sqrt(gamma))"
      ]
     },
     "metadata": {},
     "output_type": "display_data"
    },
    {
     "name": "stdout",
     "output_type": "stream",
     "text": [
      " |0000f000> < 0000g000 | \n",
      "\n",
      " Original coefficient :\n"
     ]
    },
    {
     "data": {
      "text/html": [
       "<html><script type=\"math/tex; mode=display\">\\newcommand{\\Bold}[1]{\\mathbf{#1}}\\sqrt{{\\kappa_c}}</script></html>"
      ],
      "text/latex": [
       "$$\\newcommand{\\Bold}[1]{\\mathbf{#1}}\\sqrt{{\\kappa_c}}$$"
      ],
      "text/plain": [
       "sqrt(kappa_c)"
      ]
     },
     "metadata": {},
     "output_type": "display_data"
    },
    {
     "name": "stdout",
     "output_type": "stream",
     "text": [
      "symround: Deleted coefficient 2.2e-16\n",
      "symround: Deleted coefficient 1.8e-17\n",
      "\\frac{{\\left(0.50i \\, C {R_0} - {\\tilde{\\Delta }_{e0}} {\\left({c} + 0.25\\right)}\\right)} \\sqrt{C} {\\tilde{\\Delta }_{e0}} {\\Omega} \\sqrt{R_{f}} {c} e^{\\left(-i \\, {\\phi}\\right)}}{{\\left({\\left(-0.25 \\, C^{2} {R_0}^{2} + {\\tilde{\\Delta }_{e0}}^{2} {\\left({c} + 0.25\\right)}^{2} + C {\\tilde{\\Delta }_{e0}} {R_0} {\\left(-i \\, {c} - 0.25i\\right)}\\right)} C R_{f} - {\\left(C^{2} {R_0}^{2} {\\left(i \\, {c} + 0.12i\\right)} - {\\left({\\left(2 \\, {c} + 1.5\\right)} {c} + 0.12\\right)} C {\\tilde{\\Delta }_{e0}} {R_0} - {\\tilde{\\Delta }_{e0}}^{2} {\\left({c} + 0.25\\right)} {\\left(1.5i \\, {c} + 0.12i\\right)}\\right)} {\\tilde{\\Delta }_E}\\right)} \\sqrt{{\\gamma}}}\n"
     ]
    }
   ],
   "source": [
    "lind_op = 0  #which lindblau operator\n",
    "which   = 0  #which non zero element to access\n",
    "L_elem = lind(lind_op,which)\n",
    "\n",
    "print(latex(symround(L_elem)))\n"
   ]
  },
  {
   "cell_type": "code",
   "execution_count": 31,
   "id": "f374cfb5",
   "metadata": {},
   "outputs": [
    {
     "name": "stdout",
     "output_type": "stream",
     "text": [
      "numerator\n"
     ]
    },
    {
     "data": {
      "text/html": [
       "<html><script type=\"math/tex; mode=display\">\\newcommand{\\Bold}[1]{\\mathbf{#1}}0.500i \\, C^{1.50} {\\tilde{\\Delta }_{e0}} {\\Omega} {R_0} \\sqrt{R_{f}} {c} e^{\\left(-i \\, {\\phi}\\right)} - \\sqrt{C} {\\tilde{\\Delta }_{e0}}^{2} {\\Omega} \\sqrt{R_{f}} {c}^{2} e^{\\left(-i \\, {\\phi}\\right)} - 0.250 \\, \\sqrt{C} {\\tilde{\\Delta }_{e0}}^{2} {\\Omega} \\sqrt{R_{f}} {c} e^{\\left(-i \\, {\\phi}\\right)}</script></html>"
      ],
      "text/latex": [
       "$$\\newcommand{\\Bold}[1]{\\mathbf{#1}}0.500i \\, C^{1.50} {\\tilde{\\Delta }_{e0}} {\\Omega} {R_0} \\sqrt{R_{f}} {c} e^{\\left(-i \\, {\\phi}\\right)} - \\sqrt{C} {\\tilde{\\Delta }_{e0}}^{2} {\\Omega} \\sqrt{R_{f}} {c}^{2} e^{\\left(-i \\, {\\phi}\\right)} - 0.250 \\, \\sqrt{C} {\\tilde{\\Delta }_{e0}}^{2} {\\Omega} \\sqrt{R_{f}} {c} e^{\\left(-i \\, {\\phi}\\right)}$$"
      ],
      "text/plain": [
       "0.500*I*C^1.50*De0t*Omega*R0*sqrt(R_f)*c*e^(-I*phi) - sqrt(C)*De0t^2*Omega*sqrt(R_f)*c^2*e^(-I*phi) - 0.250*sqrt(C)*De0t^2*Omega*sqrt(R_f)*c*e^(-I*phi)"
      ]
     },
     "metadata": {},
     "output_type": "display_data"
    },
    {
     "name": "stdout",
     "output_type": "stream",
     "text": [
      "\n",
      "\n",
      " Latex\n",
      "0.500i \\, C^{1.50} {\\tilde{\\Delta }_{e0}} {\\Omega} {R_0} \\sqrt{R_{f}} {c} e^{\\left(-i \\, {\\phi}\\right)} - \\sqrt{C} {\\tilde{\\Delta }_{e0}}^{2} {\\Omega} \\sqrt{R_{f}} {c}^{2} e^{\\left(-i \\, {\\phi}\\right)} - 0.250 \\, \\sqrt{C} {\\tilde{\\Delta }_{e0}}^{2} {\\Omega} \\sqrt{R_{f}} {c} e^{\\left(-i \\, {\\phi}\\right)}\n",
      "\n",
      "\n",
      "~~~~~~~~~~~~~~~~~~~~~~~~~~~~~~~~~~~~~~~~~~~~~~~~~~~~~~~~\n",
      "\n",
      "\n",
      "denominator\n",
      "symround: Deleted coefficient 2.22e-16\n",
      "symround: Deleted coefficient 7.40e-17\n",
      "symround: Deleted coefficient 4.63e-18\n"
     ]
    },
    {
     "data": {
      "text/html": [
       "<html><script type=\"math/tex; mode=display\">\\newcommand{\\Bold}[1]{\\mathbf{#1}}{\\left(-0.250 \\, C^{3} R_{f} + C^{2} {\\tilde{\\Delta }_E} {\\left(-i \\, {c} - 0.125i\\right)}\\right)} {R_0}^{2} \\sqrt{{\\gamma}} + {\\left(C^{2} {\\tilde{\\Delta }_{e0}} R_{f} {\\left(-i \\, {c} - 0.250i\\right)} + {\\left(2 \\, {c}^{2} + 1.50 \\, {c} + 0.125\\right)} C {\\tilde{\\Delta }_E} {\\tilde{\\Delta }_{e0}}\\right)} {R_0} \\sqrt{{\\gamma}} + {\\left(C {\\tilde{\\Delta }_{e0}}^{2} R_{f} {\\left({c} + 0.250\\right)}^{2} + {\\left(1.50i \\, {c}^{2} + 0.500i \\, {c} + 0.0312i\\right)} {\\tilde{\\Delta }_E} {\\tilde{\\Delta }_{e0}}^{2}\\right)} \\sqrt{{\\gamma}}</script></html>"
      ],
      "text/latex": [
       "$$\\newcommand{\\Bold}[1]{\\mathbf{#1}}{\\left(-0.250 \\, C^{3} R_{f} + C^{2} {\\tilde{\\Delta }_E} {\\left(-i \\, {c} - 0.125i\\right)}\\right)} {R_0}^{2} \\sqrt{{\\gamma}} + {\\left(C^{2} {\\tilde{\\Delta }_{e0}} R_{f} {\\left(-i \\, {c} - 0.250i\\right)} + {\\left(2 \\, {c}^{2} + 1.50 \\, {c} + 0.125\\right)} C {\\tilde{\\Delta }_E} {\\tilde{\\Delta }_{e0}}\\right)} {R_0} \\sqrt{{\\gamma}} + {\\left(C {\\tilde{\\Delta }_{e0}}^{2} R_{f} {\\left({c} + 0.250\\right)}^{2} + {\\left(1.50i \\, {c}^{2} + 0.500i \\, {c} + 0.0312i\\right)} {\\tilde{\\Delta }_E} {\\tilde{\\Delta }_{e0}}^{2}\\right)} \\sqrt{{\\gamma}}$$"
      ],
      "text/plain": [
       "(-0.250*C^3*R_f + C^2*DEt*(-I*c - 0.125*I))*R0^2*sqrt(gamma) + (C^2*De0t*R_f*(-I*c - 0.250*I) + (2*c^2 + 1.50*c + 0.125)*C*DEt*De0t)*R0*sqrt(gamma) + (C*De0t^2*R_f*(c + 0.250)^2 + (1.50*I*c^2 + 0.500*I*c + 0.0312*I)*DEt*De0t^2)*sqrt(gamma)"
      ]
     },
     "metadata": {},
     "output_type": "display_data"
    },
    {
     "name": "stdout",
     "output_type": "stream",
     "text": [
      "\n",
      "\n",
      " Latex\n",
      "{\\left(-0.250 \\, C^{3} R_{f} + C^{2} {\\tilde{\\Delta }_E} {\\left(-i \\, {c} - 0.125i\\right)}\\right)} {R_0}^{2} \\sqrt{{\\gamma}} + {\\left(C^{2} {\\tilde{\\Delta }_{e0}} R_{f} {\\left(-i \\, {c} - 0.250i\\right)} + {\\left(2 \\, {c}^{2} + 1.50 \\, {c} + 0.125\\right)} C {\\tilde{\\Delta }_E} {\\tilde{\\Delta }_{e0}}\\right)} {R_0} \\sqrt{{\\gamma}} + {\\left(C {\\tilde{\\Delta }_{e0}}^{2} R_{f} {\\left({c} + 0.250\\right)}^{2} + {\\left(1.50i \\, {c}^{2} + 0.500i \\, {c} + 0.0312i\\right)} {\\tilde{\\Delta }_E} {\\tilde{\\Delta }_{e0}}^{2}\\right)} \\sqrt{{\\gamma}}\n"
     ]
    }
   ],
   "source": [
    "factor = 1 #*16*4\n",
    "\n",
    "\n",
    "print('numerator')\n",
    "nu = symround(SR(str(MMA_simplify(factor*(L_elem.numerator().expand()),full=not True)\\\n",
    "                      ._mathematica_().Collect('R_0')._sage_()).replace('Sqrt','sqrt'))\\\n",
    "              ,digits=3)#collect(R0??)\n",
    "nu = nu.collect(R0)\n",
    "show(nu)\n",
    "print(\"\\n\\n Latex\")\n",
    "print(latex(nu))\n",
    "\n",
    "print(\"\\n\\n~~~~~~~~~~~~~~~~~~~~~~~~~~~~~~~~~~~~~~~~~~~~~~~~~~~~~~~~\")\n",
    "print('\\n\\ndenominator')\n",
    "den = symround(SR(str(MMA_simplify(factor*(L_elem.denominator().expand()),full= not True)\\\n",
    "                      ._mathematica_().Collect('R0')._sage_()).replace('Sqrt','sqrt'))\\\n",
    "               ,digits=3)   #collect(R0??)\n",
    "\n",
    "show(den)\n",
    "print(\"\\n\\n Latex\")\n",
    "print(latex(den))"
   ]
  },
  {
   "cell_type": "code",
   "execution_count": 35,
   "id": "45cef896",
   "metadata": {},
   "outputs": [
    {
     "name": "stdout",
     "output_type": "stream",
     "text": [
      "symround: Deleted coefficient 2.2e-16\n",
      "symround: Deleted coefficient 1.8e-17\n"
     ]
    },
    {
     "data": {
      "text/html": [
       "<html><script type=\"math/tex; mode=display\">\\newcommand{\\Bold}[1]{\\mathbf{#1}}-\\frac{\\sqrt{C} {\\tilde{\\Delta }_{e0}}^{2} {\\Omega} \\sqrt{R_{f}} {\\left({c} + 0.25\\right)} {c} e^{\\left(-i \\, {\\phi}\\right)}}{{\\left(C {\\tilde{\\Delta }_{e0}}^{2} R_{f} {\\left({c} + 0.25\\right)}^{2} + {\\tilde{\\Delta }_E} {\\tilde{\\Delta }_{e0}}^{2} {\\left({c} + 0.25\\right)} {\\left(1.5i \\, {c} + 0.12i\\right)}\\right)} \\sqrt{{\\gamma}}}</script></html>"
      ],
      "text/latex": [
       "$$\\newcommand{\\Bold}[1]{\\mathbf{#1}}-\\frac{\\sqrt{C} {\\tilde{\\Delta }_{e0}}^{2} {\\Omega} \\sqrt{R_{f}} {\\left({c} + 0.25\\right)} {c} e^{\\left(-i \\, {\\phi}\\right)}}{{\\left(C {\\tilde{\\Delta }_{e0}}^{2} R_{f} {\\left({c} + 0.25\\right)}^{2} + {\\tilde{\\Delta }_E} {\\tilde{\\Delta }_{e0}}^{2} {\\left({c} + 0.25\\right)} {\\left(1.5i \\, {c} + 0.12i\\right)}\\right)} \\sqrt{{\\gamma}}}$$"
      ],
      "text/plain": [
       "-sqrt(C)*De0t^2*Omega*sqrt(R_f)*(c + 0.25)*c*e^(-I*phi)/((C*De0t^2*R_f*(c + 0.25)^2 + DEt*De0t^2*(c + 0.25)*(1.5*I*c + 0.12*I))*sqrt(gamma))"
      ]
     },
     "metadata": {},
     "output_type": "display_data"
    }
   ],
   "source": [
    "show(symround(L_elem.subs(R0=0)))"
   ]
  },
  {
   "cell_type": "code",
   "execution_count": null,
   "id": "1c1aa87c",
   "metadata": {},
   "outputs": [],
   "source": []
  },
  {
   "cell_type": "code",
   "execution_count": 29,
   "id": "a63f7164",
   "metadata": {},
   "outputs": [
    {
     "data": {
      "text/plain": [
       "\\frac{32 \\, \\sqrt{C} {\\tilde{\\Delta }_e}^{2} {\\Omega} \\sqrt{R_{f}} {c}^{2} e^{\\left(2 i \\, {\\phi}\\right)}}{{\\left({\\left(2 \\, {\\left(16 \\, {c}^{2} + 12 \\, {c} + 1\\right)} {\\tilde{\\Delta }_e}^{2} - C {\\tilde{\\Delta }_e} {\\left(48 i \\, {c} + 8 i\\right)} - 8 \\, C^{2}\\right)} C R_{f} + {\\left(4 \\, {\\left(16 \\, {c}^{2} + 10 \\, {c} + 1\\right)} C {\\tilde{\\Delta }_e} - {\\left(-48 i \\, {c}^{2} - 16 i \\, {c} - i\\right)} {\\tilde{\\Delta }_e}^{2} - C^{2} {\\left(16 i \\, {c} + 4 i\\right)}\\right)} {\\tilde{\\Delta }_E}\\right)} \\sqrt{{\\gamma}}}"
      ]
     },
     "execution_count": 29,
     "metadata": {},
     "output_type": "execute_result"
    }
   ],
   "source": [
    "latex(symround(SR(str(MMA_simplify(factor*(L_elem.numerator().expand()),full=not True)).replace('Sqrt','sqrt')),digits=3) / (symround(SR(str(MMA_simplify(factor*(L_elem.denominator().expand()),full=not True)).replace('Sqrt','sqrt')),digits=3)))"
   ]
  },
  {
   "cell_type": "code",
   "execution_count": 81,
   "id": "c4ca36ac",
   "metadata": {},
   "outputs": [
    {
     "data": {
      "text/plain": [
       "31"
      ]
     },
     "execution_count": 81,
     "metadata": {},
     "output_type": "execute_result"
    }
   ],
   "source": [
    "s1.e1_dim"
   ]
  },
  {
   "cell_type": "code",
   "execution_count": 84,
   "id": "d84bb3a5",
   "metadata": {},
   "outputs": [
    {
     "data": {
      "text/plain": [
       "array(['0000f00e', '0000f00X', '0000f010', '0000f011', '0000f100',\n",
       "       '0000f101', '0000E000', '0000E001', '0001f000', '0001f001',\n",
       "       '0010f000', '0010f001', '0100f00e', '0100f00X', '0100f010',\n",
       "       '0100f011', '0100f100', '0100f101', '0100E000', '0100E001',\n",
       "       '0101f000', '0101f001', '0110f000', '0110f001', '0e00f000',\n",
       "       '0e00f001', '0X00f000', '0X00f001', '1000f000', '1000f001',\n",
       "       '1100f001'], dtype='<U32')"
      ]
     },
     "execution_count": 84,
     "metadata": {},
     "output_type": "execute_result"
    }
   ],
   "source": [
    "s1.e1_states"
   ]
  },
  {
   "cell_type": "code",
   "execution_count": 92,
   "id": "13959d59",
   "metadata": {},
   "outputs": [
    {
     "name": "stdout",
     "output_type": "stream",
     "text": [
      "1000f000\n",
      "1000f001\n",
      "1100f001\n"
     ]
    }
   ],
   "source": [
    "for state in s1.e1_states:\n",
    "    if state[0]==\"1\":\n",
    "        print(state)"
   ]
  },
  {
   "cell_type": "code",
   "execution_count": 27,
   "id": "0b7ded59",
   "metadata": {},
   "outputs": [
    {
     "data": {
      "text/plain": [
       "array(['0g000', '0g001', '0g00e', '0g00o', '0g002', '0g010', '0g011',\n",
       "       '0g01e', '0g01o', '0g012', '0g100', '0g101', '0g10e', '0g10o',\n",
       "       '0g102', '0g110', '0g111', '0g11e', '0g11o', '0g112', '0f000',\n",
       "       '0f001', '0f00e', '0f00o', '0f002', '0f010', '0f011', '0f01e',\n",
       "       '0f01o', '0f012', '0f100', '0f101', '0f10e', '0f10o', '0f102',\n",
       "       '0f110', '0f111', '0f11e', '0f11o', '0f112', '0E000', '0E001',\n",
       "       '0E00e', '0E00o', '0E002', '0E010', '0E011', '0E01e', '0E01o',\n",
       "       '0E012', '0E100', '0E101', '0E10e', '0E10o', '0E102', '0E110',\n",
       "       '0E111', '0E11e', '0E11o', '0E112', '1g000', '1g001', '1g00e',\n",
       "       '1g00o', '1g002', '1g010', '1g011', '1g01e', '1g01o', '1g012',\n",
       "       '1g100', '1g101', '1g10e', '1g10o', '1g102', '1g110', '1g111',\n",
       "       '1g11e', '1g11o', '1g112', '1f000', '1f001', '1f00e', '1f00o',\n",
       "       '1f002', '1f010', '1f011', '1f01e', '1f01o', '1f012', '1f100',\n",
       "       '1f101', '1f10e', '1f10o', '1f102', '1f110', '1f111', '1f11e',\n",
       "       '1f11o', '1f112', '1E000', '1E001', '1E00e', '1E00o', '1E002',\n",
       "       '1E010', '1E011', '1E01e', '1E01o', '1E012', '1E100', '1E101',\n",
       "       '1E10e', '1E10o', '1E102', '1E110', '1E111', '1E11e', '1E11o',\n",
       "       '1E112'], dtype='<U20')"
      ]
     },
     "execution_count": 27,
     "metadata": {},
     "output_type": "execute_result"
    }
   ],
   "source": [
    " s1.states"
   ]
  },
  {
   "cell_type": "code",
   "execution_count": 32,
   "id": "590fc950",
   "metadata": {},
   "outputs": [],
   "source": [
    "import collections\n",
    "l = [item for item, count in collections.Counter(s1.states).items() if count > 1]"
   ]
  },
  {
   "cell_type": "code",
   "execution_count": 33,
   "id": "c2918199",
   "metadata": {},
   "outputs": [
    {
     "name": "stdout",
     "output_type": "stream",
     "text": [
      "229 0011E12\n",
      "239 0011E12\n",
      "449 0111f12\n",
      "459 0111f12\n",
      "889 0o10E12\n",
      "899 0o10E12\n",
      "1469 1100f12\n",
      "1479 1100f12\n",
      "1769 1e01f12\n",
      "1779 1e01f12\n"
     ]
    }
   ],
   "source": [
    "seen = set()\n",
    "uniq = []\n",
    "for (i,x) in enumerate(s1.states):\n",
    "    if x in l:\n",
    "        print(i,x)\n",
    "    "
   ]
  },
  {
   "cell_type": "code",
   "execution_count": 34,
   "id": "20c0fec7",
   "metadata": {},
   "outputs": [
    {
     "data": {
      "text/plain": [
       "['0011E12', '0111f12', '0o10E12', '1100f12', '1e01f12']"
      ]
     },
     "execution_count": 34,
     "metadata": {},
     "output_type": "execute_result"
    }
   ],
   "source": [
    "l"
   ]
  },
  {
   "cell_type": "code",
   "execution_count": null,
   "id": "a4a84a67",
   "metadata": {},
   "outputs": [],
   "source": []
  }
 ],
 "metadata": {
  "kernelspec": {
   "display_name": "SageMath 9.3",
   "language": "sage",
   "name": "sagemath"
  },
  "language_info": {
   "codemirror_mode": {
    "name": "ipython",
    "version": 3
   },
   "file_extension": ".py",
   "mimetype": "text/x-python",
   "name": "python",
   "nbconvert_exporter": "python",
   "pygments_lexer": "ipython3",
   "version": "3.9.2"
  }
 },
 "nbformat": 4,
 "nbformat_minor": 5
}
