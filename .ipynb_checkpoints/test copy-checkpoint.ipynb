{
 "cells": [
  {
   "cell_type": "markdown",
   "metadata": {},
   "source": [
    "# CZ gate general numerical simulation"
   ]
  },
  {
   "cell_type": "code",
   "execution_count": 1,
   "metadata": {
    "scrolled": false
   },
   "outputs": [
    {
     "name": "stderr",
     "output_type": "stream",
     "text": [
      "/home/yorgos/.local/lib/python3.8/site-packages/qutip/__init__.py:91: UserWarning: Old version of Cython detected: needed 0.29.20, got 0.29.14.\n",
      "  warnings.warn(\n",
      "Error in atexit._run_exitfuncs:\n",
      "Traceback (most recent call last):\n",
      "  File \"/usr/lib/python3/dist-packages/IPython/core/history.py\", line 576, in end_session\n",
      "    self.db.execute(\"\"\"UPDATE sessions SET end=?, num_cmds=? WHERE\n",
      "sqlite3.OperationalError: disk I/O error\n"
     ]
    },
    {
     "name": "stdout",
     "output_type": "stream",
     "text": [
      "Initialisation took 33.493727684020996 to complete.\n"
     ]
    }
   ],
   "source": [
    "from NotebookLib import *\n",
    "import SuperoperatorSimulations\n",
    "simulations  = reload(SuperoperatorSimulations)\n",
    "with Time('Initialisation'):\n",
    "    with HiddenPrints():\n",
    "        sim = simulations.Simulation('O-x-O')"
   ]
  },
  {
   "cell_type": "code",
   "execution_count": 7,
   "metadata": {},
   "outputs": [
    {
     "name": "stdout",
     "output_type": "stream",
     "text": [
      "Starting qutip simulations for C in 100-100\n",
      "Hamiltonian took 0.01988530158996582 to complete.\n",
      "Lindlad took 0.11736679077148438 to complete.\n",
      "Exponentiation took 0.14617919921875 to complete.\n",
      "All took 0.29324817657470703 to complete.\n"
     ]
    },
    {
     "name": "stderr",
     "output_type": "stream",
     "text": [
      "<ipython-input-7-ec403084c51a>:108: ComplexWarning: Casting complex values to real discards the imaginary part\n",
      "  sim.AVG_P_failure[C_val_i] = f_prob\n"
     ]
    }
   ],
   "source": [
    "from system import *\n",
    "from qutip.qip.operations import rz\n",
    "import sage.all as sg\n",
    "\n",
    "equate_losses = False\n",
    "\n",
    "sim.C_val_range = [100]\n",
    "\n",
    "sim.AVG_P_failure = np.zeros(np.shape(sim.C_val_range))\n",
    "sim.AVG_Infidelity = np.zeros(np.shape(sim.C_val_range))\n",
    "sim.AVG_gate_time = np.zeros(np.shape(sim.C_val_range))\n",
    "print(f'Starting qutip simulations for C in {sim.C_val_range[0]}-{sim.C_val_range[-1]}') \n",
    "with Time('All'):\n",
    "    for (C_val_i,C_val) in enumerate(sim.C_val_range):      \n",
    "        \n",
    "        g_val = sg.sqrt(C_val*sim.parameters['kappa_c'] *sim.parameters['gamma'] )\n",
    "        \n",
    "        with Time('Hamiltonian'):\n",
    "            for i in range(100):\n",
    "                eff_hamiltonian_num = symround( sim.eff_hamiltonian_C.subs(g=g_val).expand() ,digits=14,show_del=False)\n",
    "                eff_hamiltonian_num = eff_hamiltonian_num.numpy().astype(float)\n",
    "                H_obj = qt.Qobj(eff_hamiltonian_num)\n",
    "\n",
    "        sim.H_obj = H_obj\n",
    "\n",
    "        #Initialize superoperator with hamiltonian\n",
    "        L = -1j*( qt.spre(H_obj) -qt.spost(H_obj))\n",
    "\n",
    "        L_obj_list = []\n",
    "        L_np_list = []\n",
    "        with Time('Lindlad'):\n",
    "            for i in range(100):\n",
    "                for lind_op in range(len(sim.eff_lind_master_eq_C)):\n",
    "                    if equate_losses == False:\n",
    "                        L_nparray = sim.eff_lind_master_eq_C[lind_op].subs(g=g_val ).numpy().astype(complex)\n",
    "                        L_np_list.append(L_nparray)\n",
    "                        L_obj_list.append(qt.Qobj(L_nparray))\n",
    "                    else:\n",
    "                        L_nparray = sim.eff_lind_master_eq_C[lind_op].subs(g=g_val ).numpy().astype(complex)\n",
    "                        x,y = np.nonzero(L_nparray)\n",
    "                        for j in range(1,len(x)): #equate all elements to the 0th element\n",
    "                            L_nparray[x[j],y[j]] = L_nparray[x[0],y[0]]\n",
    "\n",
    "                        if str(sim.eff_lind_coeff[lind_op]) not in [ 'sqrt(gamma)','sqrt(gamma0)']  : #neglect gamma losses  that are asymmetrical      \n",
    "                            L_np_list.append(L_nparray)\n",
    "                            L_obj_list.append(qt.Qobj(L_nparray))\n",
    "                        else:\n",
    "                            L_nparray *= 0 \n",
    "                            L_np_list.append(L_nparray)\n",
    "                            L_obj_list.append(qt.Qobj(L_nparray))\n",
    "\n",
    "                    lind = qt.Qobj(L_nparray)\n",
    "                    L += qt.to_super(lind) - 0.5 * (  qt.spre(lind.dag()*lind) + qt.spost(lind.dag()*lind) )\n",
    "            \n",
    "            sim.L_obj_list = L_obj_list\n",
    "        \n",
    "        \n",
    "\n",
    "\n",
    "        gs_pos = sim.GsPosInGsDec\n",
    "\n",
    "        init_state = np.zeros(sim.setup.gs_dim +sim.setup.dec_dim)\n",
    "        init_state[gs_pos] = 1/2 # |++> state\n",
    "        psi0 = qt.Qobj(init_state)\n",
    "        init_dm = qt.ket2dm(psi0)\n",
    "        init_vec_dm = qt.operator_to_vector(init_dm)\n",
    "\n",
    "        psif_gs  =  qt.Qobj(np.array([1,1,1,-1])/2)  #target state\n",
    "\n",
    "        H = [eff_hamiltonian_num[gs_pos[0],gs_pos[0]], eff_hamiltonian_num[gs_pos[1],gs_pos[1]]\\\n",
    "            ,eff_hamiltonian_num[gs_pos[2],gs_pos[2]], eff_hamiltonian_num[gs_pos[3],gs_pos[3]]]\n",
    "        \n",
    "        gate_time =  np.abs( np.pi  /(H[3]+H[0]-H[1]-H[2]) )\n",
    "        \n",
    "        with Time('Exponentiation'):\n",
    "            for i in range(100):\n",
    "                Lt = (L*gate_time).expm()\n",
    "        #post process rotations\n",
    "        \n",
    "        r1 = - gate_time * (H[0] - H[2])           \n",
    "        R1 = qt.Qobj(qt.tensor( rz(r1 ),qt.identity(2)).full())\n",
    "        \n",
    "        \n",
    "        r2 = -gate_time * (H[0] - H[1])\n",
    "        R2 = qt.Qobj( qt.tensor(qt.identity(2),rz(r2 )).full())\n",
    "        \n",
    "        #simulate\n",
    "\n",
    "        dm_f_vec = Lt*init_vec_dm\n",
    "\n",
    "        dm_f = qt.vector_to_operator(dm_f_vec)\n",
    "\n",
    "\n",
    "        dec_pos = sim.DecPosInGsDec\n",
    "        \n",
    "        Psuccess = 1\n",
    "        for pos in dec_pos:\n",
    "            Psuccess -= dm_f[pos,pos]\n",
    "\n",
    "        dm_f_gs =   1/ Psuccess * dm_f.eliminate_states(dec_pos) #ground state\n",
    "        \n",
    "        RotatedFinalState = R1.dag()*R2.dag()*psif_gs\n",
    "        \n",
    "        StateFidelity = qt.fidelity(dm_f_gs,RotatedFinalState)\n",
    "                \n",
    "\n",
    "        f_prob = 1- Psuccess \n",
    "        infidelity = 1 - StateFidelity\n",
    "\n",
    "        sim.AVG_Infidelity[C_val_i] = infidelity\n",
    "        sim.AVG_P_failure[C_val_i] = f_prob\n",
    "        sim.AVG_gate_time[C_val_i] = gate_time"
   ]
  },
  {
   "cell_type": "code",
   "execution_count": null,
   "metadata": {},
   "outputs": [],
   "source": []
  }
 ],
 "metadata": {
  "interpreter": {
   "hash": "916dbcbb3f70747c44a77c7bcd40155683ae19c65e1c03b4aa3499c5328201f1"
  },
  "kernelspec": {
   "display_name": "Python 3",
   "language": "python",
   "name": "python3"
  },
  "language_info": {
   "codemirror_mode": {
    "name": "ipython",
    "version": 3
   },
   "file_extension": ".py",
   "mimetype": "text/x-python",
   "name": "python",
   "nbconvert_exporter": "python",
   "pygments_lexer": "ipython3",
   "version": "3.8.10"
  }
 },
 "nbformat": 4,
 "nbformat_minor": 5
}
