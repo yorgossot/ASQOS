{
 "cells": [
  {
   "cell_type": "code",
   "execution_count": 1,
   "id": "a43f3bbd",
   "metadata": {
    "scrolled": false
   },
   "outputs": [
    {
     "name": "stdout",
     "output_type": "stream",
     "text": [
      "Initializing system 2  ...\n",
      "Constructing states and excitations...\n",
      "Constructing ground and first-excited statespace...\n",
      "Constructing gs_hamiltonian ...\n",
      "Constructing e1_hamiltonian ...\n",
      "Constructing interactions V_plus and V_minus ...\n",
      "Constructing NJ_hamiltonian  ...\n",
      "Inverting NJ_hamiltonian  ...\n",
      "Constructing eff_hamiltonian and effective lindblad operators ...\n",
      "\n",
      "System  2  initialized in 2.3 seconds.\n"
     ]
    }
   ],
   "source": [
    "from system import *\n",
    "s1 = system('2',MMA=True,ManyVariables=False,TwoPhotonResonance= True)"
   ]
  },
  {
   "cell_type": "code",
   "execution_count": 2,
   "id": "ccf57522",
   "metadata": {},
   "outputs": [
    {
     "data": {
      "text/plain": [
       "c"
      ]
     },
     "execution_count": 2,
     "metadata": {},
     "output_type": "execute_result"
    }
   ],
   "source": [
    "var('gamma','DE','De','g','g_f','Omega','v','gamma_f','gamma_g','gamma0','De0','g0',domain='positive')\n",
    "var('DEt',domain='positive',  latex_name =r'\\tilde{\\Delta }_E')\n",
    "var('Det',domain='positive',  latex_name =r'\\tilde{\\Delta }_e')\n",
    "var('De0t',domain='positive',  latex_name =r'\\tilde{\\Delta }_{e0}')\n",
    "var('dct',domain='positive',  latex_name =r'\\tilde{\\delta }_c')\n",
    "var('DEg',domain='positive',  latex_name =r'\\Delta_{E\\gamma}')\n",
    "var('Deg',domain='positive',  latex_name =r'\\Delta_{e\\gamma}')\n",
    "var('kappa_c','kappa_b',domain='positive')\n",
    "var('C',domain='positive')\n",
    "var('c',domain='positive',  latex_name =r'c')"
   ]
  },
  {
   "cell_type": "code",
   "execution_count": 3,
   "id": "e6d7c0bf",
   "metadata": {},
   "outputs": [],
   "source": [
    "parameters = dict()\n",
    "variables = ['g_f','gamma','gamma_g','gamma_f','DE','De','Omega','kappa_c']\n",
    "\n",
    "gamma_val = 1\n",
    "gamma_g_val = 0.1*gamma_val\n",
    "gamma_f_val = 0.9*gamma_val\n",
    "\n",
    "kappa_c_val = 100*gamma_val\n",
    "\n",
    "C_val = g**2/(kappa_c_val*gamma_val)\n",
    "\n",
    "Omega_val = sg.sqrt(C_val)*gamma_val*0.25\n",
    "\n",
    "DE_val =  gamma_val/2*sg.sqrt(gamma_f_val) * sg.sqrt(4*C_val +gamma_f_val )  #gamma_val*sg.sqrt(g**2/(kappa_c_val*gamma_val))  #   #    \n",
    "De_val =  C_val * gamma_val**2 /(2*DE_val)  #gamma_val*sg.sqrt(g**2/(kappa_c_val*gamma_val)) #   #\n",
    "phi_val = 0\n",
    "\n",
    "g_f_val = g\n",
    "\n",
    "for var in variables:\n",
    "    exec(f\"parameters['{var}'] = {var}_val \")"
   ]
  },
  {
   "cell_type": "code",
   "execution_count": 10,
   "id": "48e27e63",
   "metadata": {},
   "outputs": [],
   "source": [
    "def substitute(a):\n",
    "    q = sg.copy(a)\n",
    "    for var in variables:\n",
    "        q = eval(f\"q.subs({var}= parameters['{var}'] )\") \n",
    "    return q"
   ]
  },
  {
   "cell_type": "code",
   "execution_count": null,
   "id": "ff81611d",
   "metadata": {},
   "outputs": [],
   "source": []
  },
  {
   "cell_type": "markdown",
   "id": "20c87d69",
   "metadata": {},
   "source": [
    "# Effective Hamiltonian as Real part\n",
    "\n",
    "Will output $Q_n$ from expression:\n",
    "\n",
    "$$\\Delta_n = - \\dfrac{\\Omega^2}{\\gamma} \\text{Re}\\{Q_n \\} $$"
   ]
  },
  {
   "cell_type": "code",
   "execution_count": 30,
   "id": "6398d4bb",
   "metadata": {
    "scrolled": true
   },
   "outputs": [],
   "source": [
    "eff_hamiltonian =  sg.matrix(sg.SR, s1.gs_dim+1,s1.gs_dim+1) \n",
    "\n",
    "for diag in range(s1.gs_dim):\n",
    "    eff_hamiltonian[diag,diag] =  s1.eff_hamiltonian_gs[diag,diag]\n",
    "\n",
    "eff_hamiltonian_C = symround( substitute(eff_hamiltonian) , digits=14,show_del=False)"
   ]
  },
  {
   "cell_type": "markdown",
   "id": "1498df0a",
   "metadata": {},
   "source": [
    "# Lindblad Operators\n",
    "\n",
    "Every Lindblad operator is calculated in a subspace of dimension $G.S._{dim}+1$"
   ]
  },
  {
   "cell_type": "code",
   "execution_count": 31,
   "id": "847371b4",
   "metadata": {
    "scrolled": true
   },
   "outputs": [
    {
     "name": "stdout",
     "output_type": "stream",
     "text": [
      "Simplifying Lindblad Operators\n",
      "0 out of 4\n",
      "1 out of 4\n",
      "2 out of 4\n",
      "3 out of 4\n",
      "4 out of 4\n"
     ]
    }
   ],
   "source": [
    "lind_op_number = len(s1.lindblad_list)\n",
    "eff_lind = []\n",
    "eff_lind_master_eq = []\n",
    "eff_lind_coeff = []\n",
    "print('Simplifying Lindblad Operators')\n",
    "for lind_op in range(lind_op_number ):\n",
    "    print(f'{lind_op} out of {lind_op_number-1}')\n",
    "    eff_lind.append([])\n",
    "    L_matrix = s1.eff_lindblad_list[lind_op]\n",
    "    L_nonzeros = []\n",
    "    L_nonzeros_pos = []\n",
    "    for i in  range(L_matrix.nrows()):\n",
    "        for j in  range(L_matrix.ncols()):\n",
    "            if not L_matrix[i,j].is_zero():\n",
    "                L_nonzeros.append(L_matrix[i,j])\n",
    "                L_nonzeros_pos.append((i,j))\n",
    "\n",
    "    eff_lind_coeff.append(s1.L_coeffs[lind_op])\n",
    "\n",
    "    gs_dim = s1.gs_dim\n",
    "    gs_pos_correspondence = s1.pos_gs\n",
    "    L_meq = sg.matrix(sg.SR, gs_dim+1,gs_dim+1) #extra dimension for heralded errors\n",
    "\n",
    "\n",
    "    for which in range(len(L_nonzeros)):\n",
    "        L_elem = L_nonzeros[which]\n",
    "\n",
    "        eff_lind[lind_op].append(L_elem)\n",
    "\n",
    "        #separate gamma_g errors from the rest so that we can project the rest of them to a \n",
    "        #one-dimensional decayed subspace\n",
    "        if L_nonzeros_pos[which][0] not in s1.pos_gs:\n",
    "            index_i = gs_dim \n",
    "            index_j = gs_pos_correspondence.index(L_nonzeros_pos[which][1])\n",
    "            L_meq[index_i,index_j] = L_elem\n",
    "        else:\n",
    "            index_i = gs_pos_correspondence.index(L_nonzeros_pos[which][0])\n",
    "            index_j = gs_pos_correspondence.index(L_nonzeros_pos[which][1])\n",
    "            L_meq[index_i,index_j] = L_elem\n",
    "\n",
    "\n",
    "    eff_lind_master_eq.append(L_meq)   "
   ]
  },
  {
   "cell_type": "code",
   "execution_count": 32,
   "id": "fbd27b82",
   "metadata": {},
   "outputs": [],
   "source": [
    "eff_lind_master_eq_C = []\n",
    "for lind_op in range(lind_op_number):\n",
    "    eff_lind_master_eq_C.append(  substitute(eff_lind_master_eq[lind_op])     )"
   ]
  },
  {
   "cell_type": "code",
   "execution_count": null,
   "id": "2759c7b7",
   "metadata": {},
   "outputs": [],
   "source": [
    "\n"
   ]
  },
  {
   "cell_type": "code",
   "execution_count": 44,
   "id": "50d7934a",
   "metadata": {},
   "outputs": [
    {
     "ename": "ValueError",
     "evalue": "dimension mismatch",
     "output_type": "error",
     "traceback": [
      "\u001b[0;31m---------------------------------------------------------------------------\u001b[0m",
      "\u001b[0;31mValueError\u001b[0m                                Traceback (most recent call last)",
      "\u001b[0;32m<ipython-input-44-2d998984cb59>\u001b[0m in \u001b[0;36m<module>\u001b[0;34m\u001b[0m\n\u001b[1;32m     53\u001b[0m \u001b[0mPsuccess\u001b[0m \u001b[0;34m=\u001b[0m \u001b[0mInteger\u001b[0m\u001b[0;34m(\u001b[0m\u001b[0;36m1\u001b[0m\u001b[0;34m)\u001b[0m\u001b[0;34m-\u001b[0m \u001b[0mdm_ff\u001b[0m\u001b[0;34m[\u001b[0m\u001b[0mInteger\u001b[0m\u001b[0;34m(\u001b[0m\u001b[0;36m4\u001b[0m\u001b[0;34m)\u001b[0m\u001b[0;34m]\u001b[0m\u001b[0;34m\u001b[0m\u001b[0;34m\u001b[0m\u001b[0m\n\u001b[1;32m     54\u001b[0m \u001b[0;34m\u001b[0m\u001b[0m\n\u001b[0;32m---> 55\u001b[0;31m \u001b[0mdm_f_gs\u001b[0m \u001b[0;34m=\u001b[0m   \u001b[0mInteger\u001b[0m\u001b[0;34m(\u001b[0m\u001b[0;36m1\u001b[0m\u001b[0;34m)\u001b[0m\u001b[0;34m/\u001b[0m \u001b[0mPsuccess\u001b[0m \u001b[0;34m*\u001b[0m \u001b[0mdm_ff\u001b[0m\u001b[0;34m.\u001b[0m\u001b[0meliminate_states\u001b[0m\u001b[0;34m(\u001b[0m\u001b[0;34m[\u001b[0m\u001b[0mInteger\u001b[0m\u001b[0;34m(\u001b[0m\u001b[0;36m4\u001b[0m\u001b[0;34m)\u001b[0m\u001b[0;34m]\u001b[0m\u001b[0;34m)\u001b[0m \u001b[0;31m#ground state\u001b[0m\u001b[0;34m\u001b[0m\u001b[0;34m\u001b[0m\u001b[0m\n\u001b[0m\u001b[1;32m     56\u001b[0m \u001b[0;34m\u001b[0m\u001b[0m\n\u001b[1;32m     57\u001b[0m \u001b[0mStateFidelity\u001b[0m \u001b[0;34m=\u001b[0m \u001b[0mqt\u001b[0m\u001b[0;34m.\u001b[0m\u001b[0mfidelity\u001b[0m\u001b[0;34m(\u001b[0m\u001b[0mdm_f_gs\u001b[0m\u001b[0;34m,\u001b[0m\u001b[0mpsif_gs\u001b[0m\u001b[0;34m)\u001b[0m\u001b[0;34m\u001b[0m\u001b[0;34m\u001b[0m\u001b[0m\n",
      "\u001b[0;32m/opt/SageMath/SageMath/local/lib/python3.9/site-packages/qutip-4.6.1-py3.9-linux-x86_64.egg/qutip/qobj.py\u001b[0m in \u001b[0;36m__rmul__\u001b[0;34m(self, other)\u001b[0m\n\u001b[1;32m    622\u001b[0m                 \u001b[0;32mreturn\u001b[0m \u001b[0mout\u001b[0m\u001b[0;34m\u001b[0m\u001b[0;34m\u001b[0m\u001b[0m\n\u001b[1;32m    623\u001b[0m             \u001b[0;32melse\u001b[0m\u001b[0;34m:\u001b[0m\u001b[0;34m\u001b[0m\u001b[0;34m\u001b[0m\u001b[0m\n\u001b[0;32m--> 624\u001b[0;31m                 \u001b[0;32mreturn\u001b[0m \u001b[0mother\u001b[0m \u001b[0;34m*\u001b[0m \u001b[0mself\u001b[0m\u001b[0;34m.\u001b[0m\u001b[0mdata\u001b[0m\u001b[0;34m\u001b[0m\u001b[0;34m\u001b[0m\u001b[0m\n\u001b[0m\u001b[1;32m    625\u001b[0m \u001b[0;34m\u001b[0m\u001b[0m\n\u001b[1;32m    626\u001b[0m         \u001b[0;32melif\u001b[0m \u001b[0misinstance\u001b[0m\u001b[0;34m(\u001b[0m\u001b[0mother\u001b[0m\u001b[0;34m,\u001b[0m \u001b[0mlist\u001b[0m\u001b[0;34m)\u001b[0m\u001b[0;34m:\u001b[0m\u001b[0;34m\u001b[0m\u001b[0;34m\u001b[0m\u001b[0m\n",
      "\u001b[0;32m~/.sage/local/lib/python3.9/site-packages/scipy/sparse/base.py\u001b[0m in \u001b[0;36m__rmul__\u001b[0;34m(self, other)\u001b[0m\n\u001b[1;32m    548\u001b[0m             \u001b[0;32mexcept\u001b[0m \u001b[0mAttributeError\u001b[0m\u001b[0;34m:\u001b[0m\u001b[0;34m\u001b[0m\u001b[0;34m\u001b[0m\u001b[0m\n\u001b[1;32m    549\u001b[0m                 \u001b[0mtr\u001b[0m \u001b[0;34m=\u001b[0m \u001b[0mnp\u001b[0m\u001b[0;34m.\u001b[0m\u001b[0masarray\u001b[0m\u001b[0;34m(\u001b[0m\u001b[0mother\u001b[0m\u001b[0;34m)\u001b[0m\u001b[0;34m.\u001b[0m\u001b[0mtranspose\u001b[0m\u001b[0;34m(\u001b[0m\u001b[0;34m)\u001b[0m\u001b[0;34m\u001b[0m\u001b[0;34m\u001b[0m\u001b[0m\n\u001b[0;32m--> 550\u001b[0;31m             \u001b[0;32mreturn\u001b[0m \u001b[0;34m(\u001b[0m\u001b[0mself\u001b[0m\u001b[0;34m.\u001b[0m\u001b[0mtranspose\u001b[0m\u001b[0;34m(\u001b[0m\u001b[0;34m)\u001b[0m \u001b[0;34m*\u001b[0m \u001b[0mtr\u001b[0m\u001b[0;34m)\u001b[0m\u001b[0;34m.\u001b[0m\u001b[0mtranspose\u001b[0m\u001b[0;34m(\u001b[0m\u001b[0;34m)\u001b[0m\u001b[0;34m\u001b[0m\u001b[0;34m\u001b[0m\u001b[0m\n\u001b[0m\u001b[1;32m    551\u001b[0m \u001b[0;34m\u001b[0m\u001b[0m\n\u001b[1;32m    552\u001b[0m     \u001b[0;31m#######################\u001b[0m\u001b[0;34m\u001b[0m\u001b[0;34m\u001b[0m\u001b[0;34m\u001b[0m\u001b[0m\n",
      "\u001b[0;32m~/.sage/local/lib/python3.9/site-packages/scipy/sparse/base.py\u001b[0m in \u001b[0;36m__mul__\u001b[0;34m(self, other)\u001b[0m\n\u001b[1;32m    496\u001b[0m             \u001b[0;31m# dense row or column vector\u001b[0m\u001b[0;34m\u001b[0m\u001b[0;34m\u001b[0m\u001b[0;34m\u001b[0m\u001b[0m\n\u001b[1;32m    497\u001b[0m             \u001b[0;32mif\u001b[0m \u001b[0mother\u001b[0m\u001b[0;34m.\u001b[0m\u001b[0mshape\u001b[0m \u001b[0;34m!=\u001b[0m \u001b[0;34m(\u001b[0m\u001b[0mN\u001b[0m\u001b[0;34m,\u001b[0m\u001b[0;34m)\u001b[0m \u001b[0;32mand\u001b[0m \u001b[0mother\u001b[0m\u001b[0;34m.\u001b[0m\u001b[0mshape\u001b[0m \u001b[0;34m!=\u001b[0m \u001b[0;34m(\u001b[0m\u001b[0mN\u001b[0m\u001b[0;34m,\u001b[0m \u001b[0;36m1\u001b[0m\u001b[0;34m)\u001b[0m\u001b[0;34m:\u001b[0m\u001b[0;34m\u001b[0m\u001b[0;34m\u001b[0m\u001b[0m\n\u001b[0;32m--> 498\u001b[0;31m                 \u001b[0;32mraise\u001b[0m \u001b[0mValueError\u001b[0m\u001b[0;34m(\u001b[0m\u001b[0;34m'dimension mismatch'\u001b[0m\u001b[0;34m)\u001b[0m\u001b[0;34m\u001b[0m\u001b[0;34m\u001b[0m\u001b[0m\n\u001b[0m\u001b[1;32m    499\u001b[0m \u001b[0;34m\u001b[0m\u001b[0m\n\u001b[1;32m    500\u001b[0m             \u001b[0mresult\u001b[0m \u001b[0;34m=\u001b[0m \u001b[0mself\u001b[0m\u001b[0;34m.\u001b[0m\u001b[0m_mul_vector\u001b[0m\u001b[0;34m(\u001b[0m\u001b[0mnp\u001b[0m\u001b[0;34m.\u001b[0m\u001b[0mravel\u001b[0m\u001b[0;34m(\u001b[0m\u001b[0mother\u001b[0m\u001b[0;34m)\u001b[0m\u001b[0;34m)\u001b[0m\u001b[0;34m\u001b[0m\u001b[0;34m\u001b[0m\u001b[0m\n",
      "\u001b[0;31mValueError\u001b[0m: dimension mismatch"
     ]
    }
   ],
   "source": [
    "C_val = 1\n",
    "\n",
    "g_val = sg.sqrt(C_val*parameters['kappa_c'] *parameters['gamma'] )\n",
    "\n",
    "eff_hamiltonian_num = symround( eff_hamiltonian_C.subs(g=g_val).expand() ,digits=14,show_del=False)\n",
    "eff_hamiltonian_num = eff_hamiltonian_num.numpy().astype(float)\n",
    "H_obj = qt.Qobj(eff_hamiltonian_num)\n",
    "\n",
    "\n",
    "L_obj_list = []\n",
    "L_np_list = []\n",
    "for lind_op in range(len(eff_lind_master_eq_C)):\n",
    "    L_nparray = eff_lind_master_eq_C[lind_op].subs(g=g_val ).numpy().astype(complex)\n",
    "    L_np_list.append(L_nparray)\n",
    "    L_obj_list.append(qt.Qobj(L_nparray))\n",
    "\n",
    "qubit_cardinal_states = [np.array([1,0]),np.array([0,1])\\\n",
    "    ,np.array([1,1])/np.sqrt(2),np.array([1,-1])/np.sqrt(2)\\\n",
    "    ,np.array([1,1j])/np.sqrt(2),np.array([1,-1j])/np.sqrt(2) ]\n",
    "\n",
    "#two_qubit_cardinal_states = np.kron(qubit_cardinal_states,qubit_cardinal_states)\n",
    "pp_state = np.kron(qubit_cardinal_states[2],qubit_cardinal_states[2])\n",
    "\n",
    "psif_gs  =  qt.Qobj(np.array([1,1,1,-1])/2)  #target state\n",
    "\n",
    "\n",
    "\n",
    "dim5_vec = np.zeros(5,dtype=complex)\n",
    "dim5_vec[0:4] = pp_state\n",
    "psi0 = qt.Qobj(dim5_vec)\n",
    "gate_time =  np.abs( np.pi\\\n",
    "    /(eff_hamiltonian_num[3,3]+eff_hamiltonian_num[0,0]-eff_hamiltonian_num[1,1]-eff_hamiltonian_num[2,2]))\n",
    "#post process rotations\n",
    "r1 = -gate_time * (eff_hamiltonian_num[0,0] - eff_hamiltonian_num[1,1])\n",
    "R1 = qt.tensor( qt.qip.operations.rz(r1 ),qt.identity(2)) \n",
    "R1_5 = np.zeros((5,5),dtype='complex128')\n",
    "R1_5[0:4,0:4] = R1.full()\n",
    "R1_5[4,4] = 1\n",
    "R1 = qt.Qobj(R1_5)\n",
    "\n",
    "r2 = -gate_time * (eff_hamiltonian_num[0,0] - eff_hamiltonian_num[2,2])\n",
    "R2 = qt.tensor(qt.identity(2),qt.qip.operations.rz(r2 )) \n",
    "R2_5 = np.zeros((5,5),dtype='complex128')\n",
    "R2_5[0:4,0:4] = R2.full()\n",
    "R2_5[4,4] = 1\n",
    "R2 = qt.Qobj(R2_5)\n",
    "#simulate\n",
    "\n",
    "\n",
    "times = np.linspace(0,gate_time,3)\n",
    "sol = qt.mesolve(H_obj, psi0, times, [], [] )\n",
    "#final density matrix \n",
    "dm_f = sol.states[-1]\n",
    "dm_ff =  R2*R1*dm_f#*R1.dag()*R2.dag() # add rotations\n",
    "\n",
    "Psuccess = 1- dm_ff[4]\n",
    "\n",
    "dm_f_gs =   1/ Psuccess * dm_ff.eliminate_states([4]) #ground state\n",
    "\n",
    "StateFidelity = qt.fidelity(dm_f_gs,psif_gs)\n",
    "\n",
    "\n",
    "f_prob = 1- Psuccess \n",
    "infidelity = 1 - StateFidelity\n",
    "\n"
   ]
  },
  {
   "cell_type": "code",
   "execution_count": 61,
   "id": "027b80d6",
   "metadata": {},
   "outputs": [],
   "source": [
    "C_val = 1\n",
    "\n",
    "g_val = sg.sqrt(C_val*parameters['kappa_c'] *parameters['gamma'] )\n",
    "\n",
    "\n",
    "eff_hamiltonian_num = np.diag(np.array([1,3,5,10,0]))\n",
    "\n",
    "H_obj = qt.Qobj(eff_hamiltonian_num)\n",
    "\n",
    "\n",
    "\n",
    "psif_gs  =  qt.Qobj(np.array([1,1,1,-1])/2)  #target state\n",
    "\n",
    "psi0_gs = np.array([1,1,1,1])/2\n",
    "dim5_vec = np.zeros(5,dtype=complex)\n",
    "dim5_vec[0:4] = psi0_gs\n",
    "psi0 = qt.Qobj(dim5_vec)\n",
    "gate_time =  np.abs( np.pi\\\n",
    "    /(eff_hamiltonian_num[3,3]+eff_hamiltonian_num[0,0]-eff_hamiltonian_num[1,1]-eff_hamiltonian_num[2,2]))\n",
    "#post process rotations\n",
    "r1 = -gate_time * (eff_hamiltonian_num[0,0] - eff_hamiltonian_num[1,1])\n",
    "R1 = qt.tensor( qt.qip.operations.rz(r1 ),qt.identity(2)) \n",
    "R1_5 = np.zeros((5,5),dtype='complex128')\n",
    "R1_5[0:4,0:4] = R1.full()\n",
    "R1_5[4,4] = 1\n",
    "R1 = qt.Qobj(R1_5)\n",
    "\n",
    "r2 = -gate_time * (eff_hamiltonian_num[0,0] - eff_hamiltonian_num[2,2])\n",
    "R2 = qt.tensor(qt.identity(2),qt.qip.operations.rz(r2 )) \n",
    "R2_5 = np.zeros((5,5),dtype='complex128')\n",
    "R2_5[0:4,0:4] = R2.full()\n",
    "R2_5[4,4] = 1\n",
    "R2 = qt.Qobj(R2_5)\n",
    "#simulate\n",
    "\n",
    "\n",
    "times = np.linspace(0,gate_time,3)\n",
    "sol = qt.mesolve(H_obj, psi0, times, [], [] )\n",
    "#final density matrix \n",
    "dm_f = sol.states[-1]\n",
    "dm_ff =  R2*R1*dm_f#*R1.dag()*R2.dag() # add rotations\n",
    "\n",
    "Psuccess = 1- dm_ff.full()[4]\n",
    "\n",
    "\n"
   ]
  },
  {
   "cell_type": "code",
   "execution_count": 59,
   "id": "9a0f5bad",
   "metadata": {},
   "outputs": [
    {
     "ename": "AttributeError",
     "evalue": "'numpy.ndarray' object has no attribute 'eliminate_states'",
     "output_type": "error",
     "traceback": [
      "\u001b[0;31m---------------------------------------------------------------------------\u001b[0m",
      "\u001b[0;31mAttributeError\u001b[0m                            Traceback (most recent call last)",
      "\u001b[0;32m<ipython-input-59-b90da694f54f>\u001b[0m in \u001b[0;36m<module>\u001b[0;34m\u001b[0m\n\u001b[0;32m----> 1\u001b[0;31m \u001b[0mdm_f_gs\u001b[0m \u001b[0;34m=\u001b[0m   \u001b[0mInteger\u001b[0m\u001b[0;34m(\u001b[0m\u001b[0;36m1\u001b[0m\u001b[0;34m)\u001b[0m\u001b[0;34m/\u001b[0m \u001b[0mPsuccess\u001b[0m \u001b[0;34m*\u001b[0m \u001b[0mdm_ff\u001b[0m\u001b[0;34m.\u001b[0m\u001b[0meliminate_states\u001b[0m\u001b[0;34m(\u001b[0m\u001b[0;34m[\u001b[0m\u001b[0mInteger\u001b[0m\u001b[0;34m(\u001b[0m\u001b[0;36m4\u001b[0m\u001b[0;34m)\u001b[0m\u001b[0;34m]\u001b[0m\u001b[0;34m)\u001b[0m \u001b[0;31m#ground state\u001b[0m\u001b[0;34m\u001b[0m\u001b[0;34m\u001b[0m\u001b[0m\n\u001b[0m\u001b[1;32m      2\u001b[0m \u001b[0;34m\u001b[0m\u001b[0m\n\u001b[1;32m      3\u001b[0m \u001b[0mStateFidelity\u001b[0m \u001b[0;34m=\u001b[0m \u001b[0mqt\u001b[0m\u001b[0;34m.\u001b[0m\u001b[0mfidelity\u001b[0m\u001b[0;34m(\u001b[0m\u001b[0mdm_f_gs\u001b[0m\u001b[0;34m,\u001b[0m\u001b[0mpsif_gs\u001b[0m\u001b[0;34m)\u001b[0m\u001b[0;34m\u001b[0m\u001b[0;34m\u001b[0m\u001b[0m\n\u001b[1;32m      4\u001b[0m \u001b[0;34m\u001b[0m\u001b[0m\n\u001b[1;32m      5\u001b[0m \u001b[0;34m\u001b[0m\u001b[0m\n",
      "\u001b[0;31mAttributeError\u001b[0m: 'numpy.ndarray' object has no attribute 'eliminate_states'"
     ]
    }
   ],
   "source": [
    "dm_f_gs =   1/ Psuccess * dm_ff.eliminate_states([4]) #ground state\n",
    "\n",
    "\n",
    "\n",
    "\n",
    "f_prob = 1- Psuccess \n",
    "infidelity = 1 - StateFidelity"
   ]
  },
  {
   "cell_type": "code",
   "execution_count": 65,
   "id": "4c996159",
   "metadata": {},
   "outputs": [
    {
     "data": {
      "text/plain": [
       "array([[-0.25000016+4.33012976e-01j],\n",
       "       [-0.25000011-4.33012906e-01j],\n",
       "       [ 0.50000004-5.00734329e-08j],\n",
       "       [ 0.24999051-4.33017499e-01j],\n",
       "       [ 0.        +0.00000000e+00j]])"
      ]
     },
     "execution_count": 65,
     "metadata": {},
     "output_type": "execute_result"
    }
   ],
   "source": [
    "dm_ff.full()"
   ]
  },
  {
   "cell_type": "code",
   "execution_count": 68,
   "id": "9987df9d",
   "metadata": {},
   "outputs": [
    {
     "data": {
      "text/latex": [
       "Quantum object: dims = [[5], [1]], shape = (5, 1), type = ket\\begin{equation*}\\left(\\begin{array}{*{11}c}(-0.250+0.433j)\\\\(-0.250-0.433j)\\\\(0.500-5.007\\times10^{-08}j)\\\\(0.250-0.433j)\\\\0.0\\\\\\end{array}\\right)\\end{equation*}"
      ],
      "text/plain": [
       "Quantum object: dims = [[5], [1]], shape = (5, 1), type = ket\n",
       "Qobj data =\n",
       "[[-0.25000016+4.33012976e-01j]\n",
       " [-0.25000011-4.33012906e-01j]\n",
       " [ 0.50000004-5.00734329e-08j]\n",
       " [ 0.24999051-4.33017499e-01j]\n",
       " [ 0.        +0.00000000e+00j]]"
      ]
     },
     "execution_count": 68,
     "metadata": {},
     "output_type": "execute_result"
    }
   ],
   "source": [
    "dm_ff"
   ]
  },
  {
   "cell_type": "code",
   "execution_count": 74,
   "id": "558da7d2",
   "metadata": {},
   "outputs": [],
   "source": [
    "dm_f_gs =    dm_ff.eliminate_states([4]) / Psuccess[0]"
   ]
  },
  {
   "cell_type": "code",
   "execution_count": 75,
   "id": "89fb667f",
   "metadata": {},
   "outputs": [],
   "source": [
    "StateFidelity = qt.fidelity(dm_f_gs,psif_gs)"
   ]
  },
  {
   "cell_type": "code",
   "execution_count": null,
   "id": "7a75d795",
   "metadata": {},
   "outputs": [],
   "source": []
  }
 ],
 "metadata": {
  "kernelspec": {
   "display_name": "SageMath 9.3",
   "language": "sage",
   "name": "sagemath"
  },
  "language_info": {
   "codemirror_mode": {
    "name": "ipython",
    "version": 3
   },
   "file_extension": ".py",
   "mimetype": "text/x-python",
   "name": "python",
   "nbconvert_exporter": "python",
   "pygments_lexer": "ipython3",
   "version": "3.9.2"
  }
 },
 "nbformat": 4,
 "nbformat_minor": 5
}
