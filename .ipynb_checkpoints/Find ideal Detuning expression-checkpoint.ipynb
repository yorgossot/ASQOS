{
 "cells": [
  {
   "cell_type": "code",
   "execution_count": 2,
   "id": "50f1d9d2",
   "metadata": {},
   "outputs": [
    {
     "data": {
      "text/plain": [
       "c"
      ]
     },
     "execution_count": 2,
     "metadata": {},
     "output_type": "execute_result"
    }
   ],
   "source": [
    "from system import *\n",
    "# Variable Declaration\n",
    "sg.var('r_f','r_g','c','c2','c3','P1','P2','A1','A2','B1','B2','C','R_f','R_0','gamma','gamma_f','gamma_g','gamma0','De','DE',domain='real')\n",
    "sg.var('Det',  latex_name =r'\\tilde{\\Delta }_e',domain = 'complex')\n",
    "sg.var('DEt',  latex_name =r'\\tilde{\\Delta }_E',domain = 'complex')\n",
    "var('gamma','DE','De','g','g_f','Omega','v','gamma_f','gamma_g','gamma0','De0','g0',domain='positive')\n",
    "var('DEt',domain='positive',  latex_name =r'\\tilde{\\Delta }_E')\n",
    "var('Det',domain='positive',  latex_name =r'\\tilde{\\Delta }_e')\n",
    "var('De0t',domain='positive',  latex_name =r'\\tilde{\\Delta }_{e0}')\n",
    "var('dct',domain='positive',  latex_name =r'\\tilde{\\delta }_c')\n",
    "var('DEg',domain='positive',  latex_name =r'\\Delta_{E\\gamma}')\n",
    "var('Deg',domain='positive',  latex_name =r'\\Delta_{e\\gamma}')\n",
    "var('DEg',domain='positive',  latex_name =r'\\Delta_{E\\gamma}')\n",
    "var('De0g',domain='positive',  latex_name =r'\\Delta_{e0\\gamma}')\n",
    "var('kappa_c','kappa_b',domain='positive')\n",
    "var('C',domain='positive')\n",
    "var('c',domain='positive',  latex_name =r'c')"
   ]
  },
  {
   "cell_type": "markdown",
   "id": "03e272b4",
   "metadata": {},
   "source": [
    "# Without 0 coupling"
   ]
  },
  {
   "cell_type": "code",
   "execution_count": 103,
   "id": "e817ce0e",
   "metadata": {},
   "outputs": [],
   "source": [
    "# Definition of expressions\n",
    "A1 = 2*P1*C+I*P2*Det\n",
    "A2 = (4*P1*C+I*P2*Det)*Det - I*32*C**2*c3\n",
    "B1 = 2*Det*c2-I*C\n",
    "B2 = 4*(Det**2)*c2 - I*4*C*Det*c2*C^2 "
   ]
  },
  {
   "cell_type": "code",
   "execution_count": 104,
   "id": "29b33964",
   "metadata": {},
   "outputs": [],
   "source": [
    "#L_g elements\n",
    "Det_val = Deg - I  /2\n",
    "DEt_val = DEg - I*r_f/2 - I*r_g/2\n",
    "c2_val = c+1/2^2\n",
    "c3_val = c+1/2^3\n",
    "\n",
    "L = [i for i in range(3)]\n",
    "\n",
    "\n",
    "L0 = (P2 / (-32*I*C*R_f*c2^2 +P2*DEt)).subs(DEt=DEt_val,Det=Det_val)\n",
    "\n",
    "L[0] = L0*L0.conjugate()\n",
    "\n",
    "\n",
    "L1 = (A1 / (16*B1*c2*C*R_f+A1*DEt)).subs(DEt=DEt_val,Det=Det_val)\n",
    "L[1] = L1*L1.conjugate()\n",
    "\n",
    "L2 = (A2/(8*B2*C*R_f +A2*DEt )).subs(DEt=DEt_val,Det=Det_val)\n",
    "L[2] = L2*L2.conjugate()"
   ]
  },
  {
   "cell_type": "code",
   "execution_count": 110,
   "id": "7f43cdfd",
   "metadata": {},
   "outputs": [
    {
     "data": {
      "text/html": [
       "<html><script type=\"math/tex; mode=display\">\\newcommand{\\Bold}[1]{\\mathbf{#1}}\\frac{4 \\, P_{2}^{2}}{4096 \\, C^{6} R_{f}^{2} c_{2}^{4} + 4 \\, C {\\Delta_{E\\gamma}}^{2} P_{2}^{2} + 128 \\, {\\left(P_{2} R_{f} c_{2}^{2} {r_f} + P_{2} R_{f} c_{2}^{2} {r_g}\\right)} C^{3} + P_{2}^{2} {r_f}^{2} + 2 \\, P_{2}^{2} {r_f} {r_g} + P_{2}^{2} {r_g}^{2}}</script></html>"
      ],
      "text/latex": [
       "$$\\newcommand{\\Bold}[1]{\\mathbf{#1}}\\frac{4 \\, P_{2}^{2}}{4096 \\, C^{6} R_{f}^{2} c_{2}^{4} + 4 \\, C {\\Delta_{E\\gamma}}^{2} P_{2}^{2} + 128 \\, {\\left(P_{2} R_{f} c_{2}^{2} {r_f} + P_{2} R_{f} c_{2}^{2} {r_g}\\right)} C^{3} + P_{2}^{2} {r_f}^{2} + 2 \\, P_{2}^{2} {r_f} {r_g} + P_{2}^{2} {r_g}^{2}}$$"
      ],
      "text/plain": [
       "4*P2^2/(4096*C^6*R_f^2*c2^4 + 4*C*DEg^2*P2^2 + 128*(P2*R_f*c2^2*r_f + P2*R_f*c2^2*r_g)*C^3 + P2^2*r_f^2 + 2*P2^2*r_f*r_g + P2^2*r_g^2)"
      ]
     },
     "metadata": {},
     "output_type": "display_data"
    }
   ],
   "source": [
    "x0 = L[0].subs( Deg=C^(1/2) *Deg, DEg=C^(1/2) *DEg, P2=P2*C^2, P1=P1*C^2, c2=C^2*c2, c3=c3*C^2, c=C)\n",
    "\n",
    "x0 = x0.numerator().expand().collect(C)/x0.denominator().expand().collect(C)\n",
    "\n",
    "show(symround(x0))"
   ]
  },
  {
   "cell_type": "code",
   "execution_count": 106,
   "id": "7a560832",
   "metadata": {},
   "outputs": [],
   "source": [
    "t0 = 4*C^4 *P2^2 / (4096*C^10*R_f^2*c2^4)"
   ]
  },
  {
   "cell_type": "code",
   "execution_count": 111,
   "id": "35897628",
   "metadata": {},
   "outputs": [
    {
     "data": {
      "text/html": [
       "<html><script type=\"math/tex; mode=display\">\\newcommand{\\Bold}[1]{\\mathbf{#1}}\\frac{4 \\, {\\left(16 \\, C^{2} P_{1}^{2} + 4 \\, {\\left({\\Delta_{e\\gamma}}^{2} P_{2}^{2} + 2 \\, P_{1} P_{2}\\right)} C + P_{2}^{2}\\right)}}{16384 \\, C^{7} {\\Delta_{e\\gamma}}^{2} R_{f}^{2} c_{2}^{4} + 4096 \\, C^{6} R_{f}^{2} c_{2}^{4} + 2048 \\, {\\left({\\Delta_{E\\gamma}} {\\Delta_{e\\gamma}} P_{1} R_{f} c_{2}^{2} + 4 \\, R_{f}^{2} c_{2}^{3}\\right)} C^{5} + 512 \\, {\\left({\\Delta_{e\\gamma}}^{2} P_{2} R_{f} c_{2}^{2} {r_f} + {\\Delta_{e\\gamma}}^{2} P_{2} R_{f} c_{2}^{2} {r_g} + P_{1} R_{f} c_{2}^{2} {r_f} + P_{1} R_{f} c_{2}^{2} {r_g} + 8 \\, R_{f}^{2} c_{2}^{2}\\right)} C^{4} - 64 \\, {\\left(8 \\, {\\Delta_{E\\gamma}} {\\Delta_{e\\gamma}} P_{2} R_{f} c_{2} - 2 \\, P_{2} R_{f} c_{2}^{2} {r_f} - 2 \\, P_{2} R_{f} c_{2}^{2} {r_g} - {\\Delta_{E\\gamma}}^{2} P_{1}^{2} - 8 \\, P_{1} R_{f} c_{2} {r_f} - 8 \\, P_{1} R_{f} c_{2} {r_g}\\right)} C^{3} + P_{2}^{2} {r_f}^{2} + 2 \\, P_{2}^{2} {r_f} {r_g} + P_{2}^{2} {r_g}^{2} + 16 \\, {\\left({\\Delta_{E\\gamma}}^{2} {\\Delta_{e\\gamma}}^{2} P_{2}^{2} + 2 \\, {\\Delta_{E\\gamma}}^{2} P_{1} P_{2} + 8 \\, P_{2} R_{f} c_{2} {r_f} + P_{1}^{2} {r_f}^{2} + 8 \\, P_{2} R_{f} c_{2} {r_g} + 2 \\, P_{1}^{2} {r_f} {r_g} + P_{1}^{2} {r_g}^{2}\\right)} C^{2} + 4 \\, {\\left({\\Delta_{e\\gamma}}^{2} P_{2}^{2} {r_f}^{2} + 2 \\, {\\Delta_{e\\gamma}}^{2} P_{2}^{2} {r_f} {r_g} + {\\Delta_{e\\gamma}}^{2} P_{2}^{2} {r_g}^{2} + {\\Delta_{E\\gamma}}^{2} P_{2}^{2} + 2 \\, P_{1} P_{2} {r_f}^{2} + 4 \\, P_{1} P_{2} {r_f} {r_g} + 2 \\, P_{1} P_{2} {r_g}^{2}\\right)} C}</script></html>"
      ],
      "text/latex": [
       "$$\\newcommand{\\Bold}[1]{\\mathbf{#1}}\\frac{4 \\, {\\left(16 \\, C^{2} P_{1}^{2} + 4 \\, {\\left({\\Delta_{e\\gamma}}^{2} P_{2}^{2} + 2 \\, P_{1} P_{2}\\right)} C + P_{2}^{2}\\right)}}{16384 \\, C^{7} {\\Delta_{e\\gamma}}^{2} R_{f}^{2} c_{2}^{4} + 4096 \\, C^{6} R_{f}^{2} c_{2}^{4} + 2048 \\, {\\left({\\Delta_{E\\gamma}} {\\Delta_{e\\gamma}} P_{1} R_{f} c_{2}^{2} + 4 \\, R_{f}^{2} c_{2}^{3}\\right)} C^{5} + 512 \\, {\\left({\\Delta_{e\\gamma}}^{2} P_{2} R_{f} c_{2}^{2} {r_f} + {\\Delta_{e\\gamma}}^{2} P_{2} R_{f} c_{2}^{2} {r_g} + P_{1} R_{f} c_{2}^{2} {r_f} + P_{1} R_{f} c_{2}^{2} {r_g} + 8 \\, R_{f}^{2} c_{2}^{2}\\right)} C^{4} - 64 \\, {\\left(8 \\, {\\Delta_{E\\gamma}} {\\Delta_{e\\gamma}} P_{2} R_{f} c_{2} - 2 \\, P_{2} R_{f} c_{2}^{2} {r_f} - 2 \\, P_{2} R_{f} c_{2}^{2} {r_g} - {\\Delta_{E\\gamma}}^{2} P_{1}^{2} - 8 \\, P_{1} R_{f} c_{2} {r_f} - 8 \\, P_{1} R_{f} c_{2} {r_g}\\right)} C^{3} + P_{2}^{2} {r_f}^{2} + 2 \\, P_{2}^{2} {r_f} {r_g} + P_{2}^{2} {r_g}^{2} + 16 \\, {\\left({\\Delta_{E\\gamma}}^{2} {\\Delta_{e\\gamma}}^{2} P_{2}^{2} + 2 \\, {\\Delta_{E\\gamma}}^{2} P_{1} P_{2} + 8 \\, P_{2} R_{f} c_{2} {r_f} + P_{1}^{2} {r_f}^{2} + 8 \\, P_{2} R_{f} c_{2} {r_g} + 2 \\, P_{1}^{2} {r_f} {r_g} + P_{1}^{2} {r_g}^{2}\\right)} C^{2} + 4 \\, {\\left({\\Delta_{e\\gamma}}^{2} P_{2}^{2} {r_f}^{2} + 2 \\, {\\Delta_{e\\gamma}}^{2} P_{2}^{2} {r_f} {r_g} + {\\Delta_{e\\gamma}}^{2} P_{2}^{2} {r_g}^{2} + {\\Delta_{E\\gamma}}^{2} P_{2}^{2} + 2 \\, P_{1} P_{2} {r_f}^{2} + 4 \\, P_{1} P_{2} {r_f} {r_g} + 2 \\, P_{1} P_{2} {r_g}^{2}\\right)} C}$$"
      ],
      "text/plain": [
       "4*(16*C^2*P1^2 + 4*(Deg^2*P2^2 + 2*P1*P2)*C + P2^2)/(16384*C^7*Deg^2*R_f^2*c2^4 + 4096*C^6*R_f^2*c2^4 + 2048*(DEg*Deg*P1*R_f*c2^2 + 4*R_f^2*c2^3)*C^5 + 512*(Deg^2*P2*R_f*c2^2*r_f + Deg^2*P2*R_f*c2^2*r_g + P1*R_f*c2^2*r_f + P1*R_f*c2^2*r_g + 8*R_f^2*c2^2)*C^4 - 64*(8*DEg*Deg*P2*R_f*c2 - 2*P2*R_f*c2^2*r_f - 2*P2*R_f*c2^2*r_g - DEg^2*P1^2 - 8*P1*R_f*c2*r_f - 8*P1*R_f*c2*r_g)*C^3 + P2^2*r_f^2 + 2*P2^2*r_f*r_g + P2^2*r_g^2 + 16*(DEg^2*Deg^2*P2^2 + 2*DEg^2*P1*P2 + 8*P2*R_f*c2*r_f + P1^2*r_f^2 + 8*P2*R_f*c2*r_g + 2*P1^2*r_f*r_g + P1^2*r_g^2)*C^2 + 4*(Deg^2*P2^2*r_f^2 + 2*Deg^2*P2^2*r_f*r_g + Deg^2*P2^2*r_g^2 + DEg^2*P2^2 + 2*P1*P2*r_f^2 + 4*P1*P2*r_f*r_g + 2*P1*P2*r_g^2)*C)"
      ]
     },
     "metadata": {},
     "output_type": "display_data"
    }
   ],
   "source": [
    "x1 = L[1].subs( Deg=C^(1/2) *Deg,DEg=C^(1/2) *DEg, P2=P2*C^2, P1=P1*C^2, c2=C^2*c2, c3=c3*C^2, c=C)\n",
    "\n",
    "x1 = x1.numerator().expand().collect(C)/x1.denominator().expand().collect(C)\n",
    "\n",
    "show(symround(x1))"
   ]
  },
  {
   "cell_type": "code",
   "execution_count": 108,
   "id": "076a56d8",
   "metadata": {},
   "outputs": [],
   "source": [
    "t1 = 4*16*C^6*P1^2 / (16384*C^11*Deg^2*R_f^2*c2^4)"
   ]
  },
  {
   "cell_type": "code",
   "execution_count": 112,
   "id": "2cd86cac",
   "metadata": {},
   "outputs": [
    {
     "data": {
      "text/html": [
       "<html><script type=\"math/tex; mode=display\">\\newcommand{\\Bold}[1]{\\mathbf{#1}}\\frac{4 \\, {\\left(16384 \\, C^{4} c_{3}^{2} + 256 \\, {\\left({\\Delta_{e\\gamma}}^{2} P_{1}^{2} - 4 \\, {\\Delta_{e\\gamma}}^{2} P_{2} c_{3} + 8 \\, P_{1} c_{3}\\right)} C^{3} + 16 \\, {\\left({\\Delta_{e\\gamma}}^{4} P_{2}^{2} + 4 \\, {\\Delta_{e\\gamma}}^{2} P_{1} P_{2} + 4 \\, P_{1}^{2} + 16 \\, P_{2} c_{3}\\right)} C^{2} + 8 \\, {\\left({\\Delta_{e\\gamma}}^{2} P_{2}^{2} + 2 \\, P_{1} P_{2}\\right)} C + P_{2}^{2}\\right)}}{65536 \\, C^{9} {\\Delta_{e\\gamma}}^{2} R_{f}^{2} c_{2}^{2} + 16384 \\, C^{8} R_{f}^{2} c_{2}^{2} + 131072 \\, C^{7} {\\Delta_{E\\gamma}} {\\Delta_{e\\gamma}} R_{f} c_{2} c_{3} - 4096 \\, {\\left({\\Delta_{E\\gamma}} {\\Delta_{e\\gamma}}^{3} P_{2} R_{f} c_{2} - 16 \\, {\\Delta_{e\\gamma}}^{2} R_{f}^{2} c_{2}^{2} - 2 \\, {\\Delta_{e\\gamma}}^{2} P_{1} R_{f} c_{2} {r_f} - 2 \\, {\\Delta_{e\\gamma}}^{2} P_{1} R_{f} c_{2} {r_g} - 8 \\, R_{f} c_{2} c_{3} {r_f} - 8 \\, R_{f} c_{2} c_{3} {r_g}\\right)} C^{6} + 1024 \\, {\\left({\\Delta_{e\\gamma}}^{2} P_{2} R_{f} c_{2} {r_f} + {\\Delta_{e\\gamma}}^{2} P_{2} R_{f} c_{2} {r_g} - {\\Delta_{E\\gamma}} {\\Delta_{e\\gamma}} P_{2} R_{f} c_{2} + 16 \\, R_{f}^{2} c_{2}^{2} + 64 \\, {\\Delta_{E\\gamma}}^{2} c_{3}^{2} + 2 \\, P_{1} R_{f} c_{2} {r_f} + 2 \\, P_{1} R_{f} c_{2} {r_g}\\right)} C^{5} + 256 \\, {\\left(256 \\, {\\Delta_{e\\gamma}}^{4} R_{f}^{2} c_{2}^{2} + 64 \\, {\\Delta_{E\\gamma}} {\\Delta_{e\\gamma}}^{3} P_{1} R_{f} c_{2} + 4 \\, {\\Delta_{E\\gamma}}^{2} {\\Delta_{e\\gamma}}^{2} P_{1}^{2} - 16 \\, {\\Delta_{E\\gamma}}^{2} {\\Delta_{e\\gamma}}^{2} P_{2} c_{3} - 256 \\, {\\Delta_{e\\gamma}}^{2} R_{f} c_{2} c_{3} {r_f} - 256 \\, {\\Delta_{e\\gamma}}^{2} R_{f} c_{2} c_{3} {r_g} + 512 \\, {\\Delta_{E\\gamma}} {\\Delta_{e\\gamma}} R_{f} c_{2} c_{3} + 32 \\, {\\Delta_{E\\gamma}}^{2} P_{1} c_{3} + P_{2} R_{f} c_{2} {r_f} + 64 \\, c_{3}^{2} {r_f}^{2} + P_{2} R_{f} c_{2} {r_g} + 128 \\, c_{3}^{2} {r_f} {r_g} + 64 \\, c_{3}^{2} {r_g}^{2}\\right)} C^{4} + 64 \\, {\\left({\\Delta_{E\\gamma}}^{2} {\\Delta_{e\\gamma}}^{4} P_{2}^{2} + 32 \\, {\\Delta_{e\\gamma}}^{4} P_{2} R_{f} c_{2} {r_f} + 32 \\, {\\Delta_{e\\gamma}}^{4} P_{2} R_{f} c_{2} {r_g} + 4 \\, {\\Delta_{E\\gamma}}^{2} {\\Delta_{e\\gamma}}^{2} P_{1} P_{2} + 512 \\, {\\Delta_{e\\gamma}}^{2} R_{f}^{2} c_{2}^{2} + 64 \\, {\\Delta_{e\\gamma}}^{2} P_{1} R_{f} c_{2} {r_f} + 4 \\, {\\Delta_{e\\gamma}}^{2} P_{1}^{2} {r_f}^{2} - 16 \\, {\\Delta_{e\\gamma}}^{2} P_{2} c_{3} {r_f}^{2} + 64 \\, {\\Delta_{e\\gamma}}^{2} P_{1} R_{f} c_{2} {r_g} + 8 \\, {\\Delta_{e\\gamma}}^{2} P_{1}^{2} {r_f} {r_g} - 32 \\, {\\Delta_{e\\gamma}}^{2} P_{2} c_{3} {r_f} {r_g} + 4 \\, {\\Delta_{e\\gamma}}^{2} P_{1}^{2} {r_g}^{2} - 16 \\, {\\Delta_{e\\gamma}}^{2} P_{2} c_{3} {r_g}^{2} + 64 \\, {\\Delta_{E\\gamma}} {\\Delta_{e\\gamma}} P_{1} R_{f} c_{2} + 4 \\, {\\Delta_{E\\gamma}}^{2} P_{1}^{2} + 16 \\, {\\Delta_{E\\gamma}}^{2} P_{2} c_{3} + 256 \\, R_{f} c_{2} c_{3} {r_f} + 32 \\, P_{1} c_{3} {r_f}^{2} + 256 \\, R_{f} c_{2} c_{3} {r_g} + 64 \\, P_{1} c_{3} {r_f} {r_g} + 32 \\, P_{1} c_{3} {r_g}^{2}\\right)} C^{3} + P_{2}^{2} {r_f}^{2} + 2 \\, P_{2}^{2} {r_f} {r_g} + P_{2}^{2} {r_g}^{2} + 16 \\, {\\left({\\Delta_{e\\gamma}}^{4} P_{2}^{2} {r_f}^{2} + 2 \\, {\\Delta_{e\\gamma}}^{4} P_{2}^{2} {r_f} {r_g} + {\\Delta_{e\\gamma}}^{4} P_{2}^{2} {r_g}^{2} + 2 \\, {\\Delta_{E\\gamma}}^{2} {\\Delta_{e\\gamma}}^{2} P_{2}^{2} + 64 \\, {\\Delta_{e\\gamma}}^{2} P_{2} R_{f} c_{2} {r_f} + 4 \\, {\\Delta_{e\\gamma}}^{2} P_{1} P_{2} {r_f}^{2} + 64 \\, {\\Delta_{e\\gamma}}^{2} P_{2} R_{f} c_{2} {r_g} + 8 \\, {\\Delta_{e\\gamma}}^{2} P_{1} P_{2} {r_f} {r_g} + 4 \\, {\\Delta_{e\\gamma}}^{2} P_{1} P_{2} {r_g}^{2} + 4 \\, {\\Delta_{E\\gamma}}^{2} P_{1} P_{2} + 256 \\, R_{f}^{2} c_{2}^{2} + 64 \\, P_{1} R_{f} c_{2} {r_f} + 4 \\, P_{1}^{2} {r_f}^{2} + 16 \\, P_{2} c_{3} {r_f}^{2} + 64 \\, P_{1} R_{f} c_{2} {r_g} + 8 \\, P_{1}^{2} {r_f} {r_g} + 32 \\, P_{2} c_{3} {r_f} {r_g} + 4 \\, P_{1}^{2} {r_g}^{2} + 16 \\, P_{2} c_{3} {r_g}^{2}\\right)} C^{2} + 4 \\, {\\left(2 \\, {\\Delta_{e\\gamma}}^{2} P_{2}^{2} {r_f}^{2} + 4 \\, {\\Delta_{e\\gamma}}^{2} P_{2}^{2} {r_f} {r_g} + 2 \\, {\\Delta_{e\\gamma}}^{2} P_{2}^{2} {r_g}^{2} + {\\Delta_{E\\gamma}}^{2} P_{2}^{2} + 32 \\, P_{2} R_{f} c_{2} {r_f} + 4 \\, P_{1} P_{2} {r_f}^{2} + 32 \\, P_{2} R_{f} c_{2} {r_g} + 8 \\, P_{1} P_{2} {r_f} {r_g} + 4 \\, P_{1} P_{2} {r_g}^{2}\\right)} C}</script></html>"
      ],
      "text/latex": [
       "$$\\newcommand{\\Bold}[1]{\\mathbf{#1}}\\frac{4 \\, {\\left(16384 \\, C^{4} c_{3}^{2} + 256 \\, {\\left({\\Delta_{e\\gamma}}^{2} P_{1}^{2} - 4 \\, {\\Delta_{e\\gamma}}^{2} P_{2} c_{3} + 8 \\, P_{1} c_{3}\\right)} C^{3} + 16 \\, {\\left({\\Delta_{e\\gamma}}^{4} P_{2}^{2} + 4 \\, {\\Delta_{e\\gamma}}^{2} P_{1} P_{2} + 4 \\, P_{1}^{2} + 16 \\, P_{2} c_{3}\\right)} C^{2} + 8 \\, {\\left({\\Delta_{e\\gamma}}^{2} P_{2}^{2} + 2 \\, P_{1} P_{2}\\right)} C + P_{2}^{2}\\right)}}{65536 \\, C^{9} {\\Delta_{e\\gamma}}^{2} R_{f}^{2} c_{2}^{2} + 16384 \\, C^{8} R_{f}^{2} c_{2}^{2} + 131072 \\, C^{7} {\\Delta_{E\\gamma}} {\\Delta_{e\\gamma}} R_{f} c_{2} c_{3} - 4096 \\, {\\left({\\Delta_{E\\gamma}} {\\Delta_{e\\gamma}}^{3} P_{2} R_{f} c_{2} - 16 \\, {\\Delta_{e\\gamma}}^{2} R_{f}^{2} c_{2}^{2} - 2 \\, {\\Delta_{e\\gamma}}^{2} P_{1} R_{f} c_{2} {r_f} - 2 \\, {\\Delta_{e\\gamma}}^{2} P_{1} R_{f} c_{2} {r_g} - 8 \\, R_{f} c_{2} c_{3} {r_f} - 8 \\, R_{f} c_{2} c_{3} {r_g}\\right)} C^{6} + 1024 \\, {\\left({\\Delta_{e\\gamma}}^{2} P_{2} R_{f} c_{2} {r_f} + {\\Delta_{e\\gamma}}^{2} P_{2} R_{f} c_{2} {r_g} - {\\Delta_{E\\gamma}} {\\Delta_{e\\gamma}} P_{2} R_{f} c_{2} + 16 \\, R_{f}^{2} c_{2}^{2} + 64 \\, {\\Delta_{E\\gamma}}^{2} c_{3}^{2} + 2 \\, P_{1} R_{f} c_{2} {r_f} + 2 \\, P_{1} R_{f} c_{2} {r_g}\\right)} C^{5} + 256 \\, {\\left(256 \\, {\\Delta_{e\\gamma}}^{4} R_{f}^{2} c_{2}^{2} + 64 \\, {\\Delta_{E\\gamma}} {\\Delta_{e\\gamma}}^{3} P_{1} R_{f} c_{2} + 4 \\, {\\Delta_{E\\gamma}}^{2} {\\Delta_{e\\gamma}}^{2} P_{1}^{2} - 16 \\, {\\Delta_{E\\gamma}}^{2} {\\Delta_{e\\gamma}}^{2} P_{2} c_{3} - 256 \\, {\\Delta_{e\\gamma}}^{2} R_{f} c_{2} c_{3} {r_f} - 256 \\, {\\Delta_{e\\gamma}}^{2} R_{f} c_{2} c_{3} {r_g} + 512 \\, {\\Delta_{E\\gamma}} {\\Delta_{e\\gamma}} R_{f} c_{2} c_{3} + 32 \\, {\\Delta_{E\\gamma}}^{2} P_{1} c_{3} + P_{2} R_{f} c_{2} {r_f} + 64 \\, c_{3}^{2} {r_f}^{2} + P_{2} R_{f} c_{2} {r_g} + 128 \\, c_{3}^{2} {r_f} {r_g} + 64 \\, c_{3}^{2} {r_g}^{2}\\right)} C^{4} + 64 \\, {\\left({\\Delta_{E\\gamma}}^{2} {\\Delta_{e\\gamma}}^{4} P_{2}^{2} + 32 \\, {\\Delta_{e\\gamma}}^{4} P_{2} R_{f} c_{2} {r_f} + 32 \\, {\\Delta_{e\\gamma}}^{4} P_{2} R_{f} c_{2} {r_g} + 4 \\, {\\Delta_{E\\gamma}}^{2} {\\Delta_{e\\gamma}}^{2} P_{1} P_{2} + 512 \\, {\\Delta_{e\\gamma}}^{2} R_{f}^{2} c_{2}^{2} + 64 \\, {\\Delta_{e\\gamma}}^{2} P_{1} R_{f} c_{2} {r_f} + 4 \\, {\\Delta_{e\\gamma}}^{2} P_{1}^{2} {r_f}^{2} - 16 \\, {\\Delta_{e\\gamma}}^{2} P_{2} c_{3} {r_f}^{2} + 64 \\, {\\Delta_{e\\gamma}}^{2} P_{1} R_{f} c_{2} {r_g} + 8 \\, {\\Delta_{e\\gamma}}^{2} P_{1}^{2} {r_f} {r_g} - 32 \\, {\\Delta_{e\\gamma}}^{2} P_{2} c_{3} {r_f} {r_g} + 4 \\, {\\Delta_{e\\gamma}}^{2} P_{1}^{2} {r_g}^{2} - 16 \\, {\\Delta_{e\\gamma}}^{2} P_{2} c_{3} {r_g}^{2} + 64 \\, {\\Delta_{E\\gamma}} {\\Delta_{e\\gamma}} P_{1} R_{f} c_{2} + 4 \\, {\\Delta_{E\\gamma}}^{2} P_{1}^{2} + 16 \\, {\\Delta_{E\\gamma}}^{2} P_{2} c_{3} + 256 \\, R_{f} c_{2} c_{3} {r_f} + 32 \\, P_{1} c_{3} {r_f}^{2} + 256 \\, R_{f} c_{2} c_{3} {r_g} + 64 \\, P_{1} c_{3} {r_f} {r_g} + 32 \\, P_{1} c_{3} {r_g}^{2}\\right)} C^{3} + P_{2}^{2} {r_f}^{2} + 2 \\, P_{2}^{2} {r_f} {r_g} + P_{2}^{2} {r_g}^{2} + 16 \\, {\\left({\\Delta_{e\\gamma}}^{4} P_{2}^{2} {r_f}^{2} + 2 \\, {\\Delta_{e\\gamma}}^{4} P_{2}^{2} {r_f} {r_g} + {\\Delta_{e\\gamma}}^{4} P_{2}^{2} {r_g}^{2} + 2 \\, {\\Delta_{E\\gamma}}^{2} {\\Delta_{e\\gamma}}^{2} P_{2}^{2} + 64 \\, {\\Delta_{e\\gamma}}^{2} P_{2} R_{f} c_{2} {r_f} + 4 \\, {\\Delta_{e\\gamma}}^{2} P_{1} P_{2} {r_f}^{2} + 64 \\, {\\Delta_{e\\gamma}}^{2} P_{2} R_{f} c_{2} {r_g} + 8 \\, {\\Delta_{e\\gamma}}^{2} P_{1} P_{2} {r_f} {r_g} + 4 \\, {\\Delta_{e\\gamma}}^{2} P_{1} P_{2} {r_g}^{2} + 4 \\, {\\Delta_{E\\gamma}}^{2} P_{1} P_{2} + 256 \\, R_{f}^{2} c_{2}^{2} + 64 \\, P_{1} R_{f} c_{2} {r_f} + 4 \\, P_{1}^{2} {r_f}^{2} + 16 \\, P_{2} c_{3} {r_f}^{2} + 64 \\, P_{1} R_{f} c_{2} {r_g} + 8 \\, P_{1}^{2} {r_f} {r_g} + 32 \\, P_{2} c_{3} {r_f} {r_g} + 4 \\, P_{1}^{2} {r_g}^{2} + 16 \\, P_{2} c_{3} {r_g}^{2}\\right)} C^{2} + 4 \\, {\\left(2 \\, {\\Delta_{e\\gamma}}^{2} P_{2}^{2} {r_f}^{2} + 4 \\, {\\Delta_{e\\gamma}}^{2} P_{2}^{2} {r_f} {r_g} + 2 \\, {\\Delta_{e\\gamma}}^{2} P_{2}^{2} {r_g}^{2} + {\\Delta_{E\\gamma}}^{2} P_{2}^{2} + 32 \\, P_{2} R_{f} c_{2} {r_f} + 4 \\, P_{1} P_{2} {r_f}^{2} + 32 \\, P_{2} R_{f} c_{2} {r_g} + 8 \\, P_{1} P_{2} {r_f} {r_g} + 4 \\, P_{1} P_{2} {r_g}^{2}\\right)} C}$$"
      ],
      "text/plain": [
       "4*(16384*C^4*c3^2 + 256*(Deg^2*P1^2 - 4*Deg^2*P2*c3 + 8*P1*c3)*C^3 + 16*(Deg^4*P2^2 + 4*Deg^2*P1*P2 + 4*P1^2 + 16*P2*c3)*C^2 + 8*(Deg^2*P2^2 + 2*P1*P2)*C + P2^2)/(65536*C^9*Deg^2*R_f^2*c2^2 + 16384*C^8*R_f^2*c2^2 + 131072*C^7*DEg*Deg*R_f*c2*c3 - 4096*(DEg*Deg^3*P2*R_f*c2 - 16*Deg^2*R_f^2*c2^2 - 2*Deg^2*P1*R_f*c2*r_f - 2*Deg^2*P1*R_f*c2*r_g - 8*R_f*c2*c3*r_f - 8*R_f*c2*c3*r_g)*C^6 + 1024*(Deg^2*P2*R_f*c2*r_f + Deg^2*P2*R_f*c2*r_g - DEg*Deg*P2*R_f*c2 + 16*R_f^2*c2^2 + 64*DEg^2*c3^2 + 2*P1*R_f*c2*r_f + 2*P1*R_f*c2*r_g)*C^5 + 256*(256*Deg^4*R_f^2*c2^2 + 64*DEg*Deg^3*P1*R_f*c2 + 4*DEg^2*Deg^2*P1^2 - 16*DEg^2*Deg^2*P2*c3 - 256*Deg^2*R_f*c2*c3*r_f - 256*Deg^2*R_f*c2*c3*r_g + 512*DEg*Deg*R_f*c2*c3 + 32*DEg^2*P1*c3 + P2*R_f*c2*r_f + 64*c3^2*r_f^2 + P2*R_f*c2*r_g + 128*c3^2*r_f*r_g + 64*c3^2*r_g^2)*C^4 + 64*(DEg^2*Deg^4*P2^2 + 32*Deg^4*P2*R_f*c2*r_f + 32*Deg^4*P2*R_f*c2*r_g + 4*DEg^2*Deg^2*P1*P2 + 512*Deg^2*R_f^2*c2^2 + 64*Deg^2*P1*R_f*c2*r_f + 4*Deg^2*P1^2*r_f^2 - 16*Deg^2*P2*c3*r_f^2 + 64*Deg^2*P1*R_f*c2*r_g + 8*Deg^2*P1^2*r_f*r_g - 32*Deg^2*P2*c3*r_f*r_g + 4*Deg^2*P1^2*r_g^2 - 16*Deg^2*P2*c3*r_g^2 + 64*DEg*Deg*P1*R_f*c2 + 4*DEg^2*P1^2 + 16*DEg^2*P2*c3 + 256*R_f*c2*c3*r_f + 32*P1*c3*r_f^2 + 256*R_f*c2*c3*r_g + 64*P1*c3*r_f*r_g + 32*P1*c3*r_g^2)*C^3 + P2^2*r_f^2 + 2*P2^2*r_f*r_g + P2^2*r_g^2 + 16*(Deg^4*P2^2*r_f^2 + 2*Deg^4*P2^2*r_f*r_g + Deg^4*P2^2*r_g^2 + 2*DEg^2*Deg^2*P2^2 + 64*Deg^2*P2*R_f*c2*r_f + 4*Deg^2*P1*P2*r_f^2 + 64*Deg^2*P2*R_f*c2*r_g + 8*Deg^2*P1*P2*r_f*r_g + 4*Deg^2*P1*P2*r_g^2 + 4*DEg^2*P1*P2 + 256*R_f^2*c2^2 + 64*P1*R_f*c2*r_f + 4*P1^2*r_f^2 + 16*P2*c3*r_f^2 + 64*P1*R_f*c2*r_g + 8*P1^2*r_f*r_g + 32*P2*c3*r_f*r_g + 4*P1^2*r_g^2 + 16*P2*c3*r_g^2)*C^2 + 4*(2*Deg^2*P2^2*r_f^2 + 4*Deg^2*P2^2*r_f*r_g + 2*Deg^2*P2^2*r_g^2 + DEg^2*P2^2 + 32*P2*R_f*c2*r_f + 4*P1*P2*r_f^2 + 32*P2*R_f*c2*r_g + 8*P1*P2*r_f*r_g + 4*P1*P2*r_g^2)*C)"
      ]
     },
     "metadata": {},
     "output_type": "display_data"
    }
   ],
   "source": [
    "x2 = L[2].subs( Deg=C^(1/2) *Deg,DEg=C^(1/2) *DEg, P2=P2*C^2, P1=P1*C^2, c2=C^2*c2, c3=c3*C^2, c=C)\n",
    "\n",
    "x2 = x2.numerator().expand().collect(C)/x2.denominator().expand().collect(C)\n",
    "\n",
    "show(symround(x2))"
   ]
  },
  {
   "cell_type": "code",
   "execution_count": 64,
   "id": "7d2876f6",
   "metadata": {},
   "outputs": [],
   "source": [
    "t2 = 4*16384*C^8*c3^2 / (65536*C^13*Deg^2*R_f^2*c2^2)"
   ]
  },
  {
   "cell_type": "code",
   "execution_count": 79,
   "id": "de81d88c",
   "metadata": {},
   "outputs": [
    {
     "data": {
      "text/html": [
       "<html><script type=\"math/tex; mode=display\">\\newcommand{\\Bold}[1]{\\mathbf{#1}}\\frac{P_{2}^{2}}{1024 \\, C^{6} R_{f}^{2} c_{2}^{4}}</script></html>"
      ],
      "text/latex": [
       "$$\\newcommand{\\Bold}[1]{\\mathbf{#1}}\\frac{P_{2}^{2}}{1024 \\, C^{6} R_{f}^{2} c_{2}^{4}}$$"
      ],
      "text/plain": [
       "1/1024*P2^2/(C^6*R_f^2*c2^4)"
      ]
     },
     "metadata": {},
     "output_type": "display_data"
    },
    {
     "data": {
      "text/html": [
       "<html><script type=\"math/tex; mode=display\">\\newcommand{\\Bold}[1]{\\mathbf{#1}}\\frac{P_{1}^{2}}{256 \\, C^{5} {\\Delta_{e\\gamma}}^{2} R_{f}^{2} c_{2}^{4}}</script></html>"
      ],
      "text/latex": [
       "$$\\newcommand{\\Bold}[1]{\\mathbf{#1}}\\frac{P_{1}^{2}}{256 \\, C^{5} {\\Delta_{e\\gamma}}^{2} R_{f}^{2} c_{2}^{4}}$$"
      ],
      "text/plain": [
       "1/256*P1^2/(C^5*Deg^2*R_f^2*c2^4)"
      ]
     },
     "metadata": {},
     "output_type": "display_data"
    },
    {
     "data": {
      "text/html": [
       "<html><script type=\"math/tex; mode=display\">\\newcommand{\\Bold}[1]{\\mathbf{#1}}\\frac{c_{3}^{2}}{C^{5} {\\Delta_{e\\gamma}}^{2} R_{f}^{2} c_{2}^{2}}</script></html>"
      ],
      "text/latex": [
       "$$\\newcommand{\\Bold}[1]{\\mathbf{#1}}\\frac{c_{3}^{2}}{C^{5} {\\Delta_{e\\gamma}}^{2} R_{f}^{2} c_{2}^{2}}$$"
      ],
      "text/plain": [
       "c3^2/(C^5*Deg^2*R_f^2*c2^2)"
      ]
     },
     "metadata": {},
     "output_type": "display_data"
    }
   ],
   "source": [
    "show(t0)\n",
    "show(t1)\n",
    "show(t2)"
   ]
  },
  {
   "cell_type": "code",
   "execution_count": null,
   "id": "0ce382b0",
   "metadata": {},
   "outputs": [],
   "source": []
  },
  {
   "cell_type": "code",
   "execution_count": 4,
   "id": "7ad0a6dc",
   "metadata": {},
   "outputs": [],
   "source": [
    "for i in range(3):\n",
    "    L[i] = L[i].numerator().expand()/L[i].denominator().expand()"
   ]
  },
  {
   "cell_type": "code",
   "execution_count": 5,
   "id": "40c4deea",
   "metadata": {},
   "outputs": [
    {
     "data": {
      "text/html": [
       "<html><script type=\"math/tex; mode=display\">\\newcommand{\\Bold}[1]{\\mathbf{#1}}\\frac{4 \\, P_{2}^{2}}{4096 \\, C^{2} R_{f}^{2} c_{2}^{4} + 128 \\, C P_{2} R_{f} c_{2}^{2} r_{f} + 128 \\, C P_{2} R_{f} c_{2}^{2} r_{g} + 4 \\, {\\Delta_{E\\gamma}}^{2} P_{2}^{2} + P_{2}^{2} r_{f}^{2} + 2 \\, P_{2}^{2} r_{f} r_{g} + P_{2}^{2} r_{g}^{2}}</script></html>"
      ],
      "text/latex": [
       "$$\\newcommand{\\Bold}[1]{\\mathbf{#1}}\\frac{4 \\, P_{2}^{2}}{4096 \\, C^{2} R_{f}^{2} c_{2}^{4} + 128 \\, C P_{2} R_{f} c_{2}^{2} r_{f} + 128 \\, C P_{2} R_{f} c_{2}^{2} r_{g} + 4 \\, {\\Delta_{E\\gamma}}^{2} P_{2}^{2} + P_{2}^{2} r_{f}^{2} + 2 \\, P_{2}^{2} r_{f} r_{g} + P_{2}^{2} r_{g}^{2}}$$"
      ],
      "text/plain": [
       "4*P2^2/(4096*C^2*R_f^2*c2^4 + 128*C*P2*R_f*c2^2*r_f + 128*C*P2*R_f*c2^2*r_g + 4*DEg^2*P2^2 + P2^2*r_f^2 + 2*P2^2*r_f*r_g + P2^2*r_g^2)"
      ]
     },
     "metadata": {},
     "output_type": "display_data"
    }
   ],
   "source": [
    "show(L[0])"
   ]
  },
  {
   "cell_type": "code",
   "execution_count": 6,
   "id": "b1b9d9f8",
   "metadata": {},
   "outputs": [],
   "source": [
    "eq1 = L[0] == L[1]\n",
    "eq2 = L[0] == L[2]"
   ]
  },
  {
   "cell_type": "code",
   "execution_count": 7,
   "id": "0945f0aa",
   "metadata": {},
   "outputs": [],
   "source": [
    "DEg_sol0 = eq1._mathematica_().Solve('DEg')[1][1][2]._sage_()"
   ]
  },
  {
   "cell_type": "code",
   "execution_count": 8,
   "id": "fa98aad8",
   "metadata": {},
   "outputs": [
    {
     "data": {
      "text/html": [
       "<html><script type=\"math/tex; mode=display\">\\newcommand{\\Bold}[1]{\\mathbf{#1}}\\frac{128 \\, C^{2} P_{1} R_{f} c_{2}^{2} + 32 \\, C^{2} P_{2} R_{f} c_{2} + 64 \\, C P_{2} R_{f} c_{2}^{2} + 4 \\, C P_{1} P_{2} r_{f} + 4 \\, C P_{1} P_{2} r_{g} + P_{2}^{2} r_{f} + P_{2}^{2} r_{g}}{4 \\, {\\Delta_{e\\gamma}} P_{2}^{2}}</script></html>"
      ],
      "text/latex": [
       "$$\\newcommand{\\Bold}[1]{\\mathbf{#1}}\\frac{128 \\, C^{2} P_{1} R_{f} c_{2}^{2} + 32 \\, C^{2} P_{2} R_{f} c_{2} + 64 \\, C P_{2} R_{f} c_{2}^{2} + 4 \\, C P_{1} P_{2} r_{f} + 4 \\, C P_{1} P_{2} r_{g} + P_{2}^{2} r_{f} + P_{2}^{2} r_{g}}{4 \\, {\\Delta_{e\\gamma}} P_{2}^{2}}$$"
      ],
      "text/plain": [
       "1/4*(128*C^2*P1*R_f*c2^2 + 32*C^2*P2*R_f*c2 + 64*C*P2*R_f*c2^2 + 4*C*P1*P2*r_f + 4*C*P1*P2*r_g + P2^2*r_f + P2^2*r_g)/(Deg*P2^2)"
      ]
     },
     "metadata": {},
     "output_type": "display_data"
    }
   ],
   "source": [
    "show((DEg_sol0))"
   ]
  },
  {
   "cell_type": "code",
   "execution_count": 9,
   "id": "710c17de",
   "metadata": {},
   "outputs": [],
   "source": [
    "sol2 = eq2._mathematica_().Solve('DEg')"
   ]
  },
  {
   "cell_type": "code",
   "execution_count": 10,
   "id": "4cf8e152",
   "metadata": {},
   "outputs": [],
   "source": [
    "DEg_sol = sol2[1][1][2]._sage_()"
   ]
  },
  {
   "cell_type": "code",
   "execution_count": 11,
   "id": "1d5bb81d",
   "metadata": {},
   "outputs": [
    {
     "data": {
      "text/html": [
       "<html><script type=\"math/tex; mode=display\">\\newcommand{\\Bold}[1]{\\mathbf{#1}}\\frac{512 \\, C^{7} {\\Delta_{e\\gamma}}^{2} P_{2}^{2} R_{f} c_{2} + 128 \\, C^{7} P_{2}^{2} R_{f} c_{2} - 8192 \\, C^{3} {\\Delta_{e\\gamma}}^{2} P_{1}^{2} R_{f} c_{2}^{3} - 512 \\, C {\\Delta_{e\\gamma}}^{4} P_{2}^{2} R_{f} c_{2}^{3} + 32768 \\, C^{3} {\\Delta_{e\\gamma}}^{2} P_{2} R_{f} c_{2}^{3} c_{3} - 524288 \\, C^{5} R_{f} c_{2}^{3} c_{3}^{2} + 512 \\, C^{4} {\\Delta_{e\\gamma}}^{2} P_{2}^{2} R_{f} c_{2} - 2048 \\, C^{2} {\\Delta_{e\\gamma}}^{2} P_{1} P_{2} R_{f} c_{2}^{3} - 65536 \\, C^{4} P_{1} R_{f} c_{2}^{3} c_{3} + 64 \\, C^{4} {\\Delta_{e\\gamma}}^{2} P_{1} P_{2}^{2} r_{f} + 64 \\, C^{4} {\\Delta_{e\\gamma}}^{2} P_{1} P_{2}^{2} r_{g} + 512 \\, C {\\Delta_{e\\gamma}}^{4} P_{2}^{2} R_{f} c_{2} - 2048 \\, C^{3} P_{1}^{2} R_{f} c_{2}^{3} - 256 \\, C {\\Delta_{e\\gamma}}^{2} P_{2}^{2} R_{f} c_{2}^{3} - 8192 \\, C^{3} P_{2} R_{f} c_{2}^{3} c_{3} + 8 \\, C^{3} {\\Delta_{e\\gamma}}^{2} P_{2}^{3} r_{f} - 256 \\, C^{2} {\\Delta_{e\\gamma}}^{2} P_{1}^{2} P_{2} c_{2} r_{f} - 16 \\, {\\Delta_{e\\gamma}}^{4} P_{2}^{3} c_{2} r_{f} + 256 \\, C^{5} P_{2}^{2} c_{3} r_{f} + 1024 \\, C^{2} {\\Delta_{e\\gamma}}^{2} P_{2}^{2} c_{2} c_{3} r_{f} - 16384 \\, C^{4} P_{2} c_{2} c_{3}^{2} r_{f} + 8 \\, C^{3} {\\Delta_{e\\gamma}}^{2} P_{2}^{3} r_{g} - 256 \\, C^{2} {\\Delta_{e\\gamma}}^{2} P_{1}^{2} P_{2} c_{2} r_{g} - 16 \\, {\\Delta_{e\\gamma}}^{4} P_{2}^{3} c_{2} r_{g} + 256 \\, C^{5} P_{2}^{2} c_{3} r_{g} + 1024 \\, C^{2} {\\Delta_{e\\gamma}}^{2} P_{2}^{2} c_{2} c_{3} r_{g} - 16384 \\, C^{4} P_{2} c_{2} c_{3}^{2} r_{g} + 128 \\, C^{4} P_{2}^{2} R_{f} c_{2} - 512 \\, C^{2} P_{1} P_{2} R_{f} c_{2}^{3} + 16 \\, C^{4} P_{1} P_{2}^{2} r_{f} + 16 \\, {\\Delta_{e\\gamma}}^{4} P_{2}^{3} r_{f} - 64 \\, C {\\Delta_{e\\gamma}}^{2} P_{1} P_{2}^{2} c_{2} r_{f} - 512 \\, C^{2} {\\Delta_{e\\gamma}}^{2} P_{2}^{2} c_{3} r_{f} - 2048 \\, C^{3} P_{1} P_{2} c_{2} c_{3} r_{f} + 16 \\, C^{4} P_{1} P_{2}^{2} r_{g} + 16 \\, {\\Delta_{e\\gamma}}^{4} P_{2}^{3} r_{g} - 64 \\, C {\\Delta_{e\\gamma}}^{2} P_{1} P_{2}^{2} c_{2} r_{g} - 512 \\, C^{2} {\\Delta_{e\\gamma}}^{2} P_{2}^{2} c_{3} r_{g} - 2048 \\, C^{3} P_{1} P_{2} c_{2} c_{3} r_{g} + 256 \\, C {\\Delta_{e\\gamma}}^{2} P_{2}^{2} R_{f} c_{2} - 32 \\, C P_{2}^{2} R_{f} c_{2}^{3} + 32 \\, C {\\Delta_{e\\gamma}}^{2} P_{1} P_{2}^{2} r_{f} + 2 \\, C^{3} P_{2}^{3} r_{f} - 64 \\, C^{2} P_{1}^{2} P_{2} c_{2} r_{f} - 8 \\, {\\Delta_{e\\gamma}}^{2} P_{2}^{3} c_{2} r_{f} - 256 \\, C^{2} P_{2}^{2} c_{2} c_{3} r_{f} + 32 \\, C {\\Delta_{e\\gamma}}^{2} P_{1} P_{2}^{2} r_{g} + 2 \\, C^{3} P_{2}^{3} r_{g} - 64 \\, C^{2} P_{1}^{2} P_{2} c_{2} r_{g} - 8 \\, {\\Delta_{e\\gamma}}^{2} P_{2}^{3} c_{2} r_{g} - 256 \\, C^{2} P_{2}^{2} c_{2} c_{3} r_{g} + 8 \\, {\\Delta_{e\\gamma}}^{2} P_{2}^{3} r_{f} - 16 \\, C P_{1} P_{2}^{2} c_{2} r_{f} + 128 \\, C^{2} P_{2}^{2} c_{3} r_{f} + 8 \\, {\\Delta_{e\\gamma}}^{2} P_{2}^{3} r_{g} - 16 \\, C P_{1} P_{2}^{2} c_{2} r_{g} + 128 \\, C^{2} P_{2}^{2} c_{3} r_{g} + 32 \\, C P_{2}^{2} R_{f} c_{2} + 8 \\, C P_{1} P_{2}^{2} r_{f} - P_{2}^{3} c_{2} r_{f} + 8 \\, C P_{1} P_{2}^{2} r_{g} - P_{2}^{3} c_{2} r_{g} + P_{2}^{3} r_{f} + P_{2}^{3} r_{g}}{8 \\, {\\left(4 \\, C^{2} {\\Delta_{e\\gamma}}^{2} P_{2} - 128 \\, C^{4} c_{3} - 16 \\, {\\Delta_{e\\gamma}}^{2} P_{1} + C^{2} P_{2} - 128 \\, C c_{3} - 4 \\, P_{1}\\right)} C {\\Delta_{e\\gamma}} P_{2}^{2}}</script></html>"
      ],
      "text/latex": [
       "$$\\newcommand{\\Bold}[1]{\\mathbf{#1}}\\frac{512 \\, C^{7} {\\Delta_{e\\gamma}}^{2} P_{2}^{2} R_{f} c_{2} + 128 \\, C^{7} P_{2}^{2} R_{f} c_{2} - 8192 \\, C^{3} {\\Delta_{e\\gamma}}^{2} P_{1}^{2} R_{f} c_{2}^{3} - 512 \\, C {\\Delta_{e\\gamma}}^{4} P_{2}^{2} R_{f} c_{2}^{3} + 32768 \\, C^{3} {\\Delta_{e\\gamma}}^{2} P_{2} R_{f} c_{2}^{3} c_{3} - 524288 \\, C^{5} R_{f} c_{2}^{3} c_{3}^{2} + 512 \\, C^{4} {\\Delta_{e\\gamma}}^{2} P_{2}^{2} R_{f} c_{2} - 2048 \\, C^{2} {\\Delta_{e\\gamma}}^{2} P_{1} P_{2} R_{f} c_{2}^{3} - 65536 \\, C^{4} P_{1} R_{f} c_{2}^{3} c_{3} + 64 \\, C^{4} {\\Delta_{e\\gamma}}^{2} P_{1} P_{2}^{2} r_{f} + 64 \\, C^{4} {\\Delta_{e\\gamma}}^{2} P_{1} P_{2}^{2} r_{g} + 512 \\, C {\\Delta_{e\\gamma}}^{4} P_{2}^{2} R_{f} c_{2} - 2048 \\, C^{3} P_{1}^{2} R_{f} c_{2}^{3} - 256 \\, C {\\Delta_{e\\gamma}}^{2} P_{2}^{2} R_{f} c_{2}^{3} - 8192 \\, C^{3} P_{2} R_{f} c_{2}^{3} c_{3} + 8 \\, C^{3} {\\Delta_{e\\gamma}}^{2} P_{2}^{3} r_{f} - 256 \\, C^{2} {\\Delta_{e\\gamma}}^{2} P_{1}^{2} P_{2} c_{2} r_{f} - 16 \\, {\\Delta_{e\\gamma}}^{4} P_{2}^{3} c_{2} r_{f} + 256 \\, C^{5} P_{2}^{2} c_{3} r_{f} + 1024 \\, C^{2} {\\Delta_{e\\gamma}}^{2} P_{2}^{2} c_{2} c_{3} r_{f} - 16384 \\, C^{4} P_{2} c_{2} c_{3}^{2} r_{f} + 8 \\, C^{3} {\\Delta_{e\\gamma}}^{2} P_{2}^{3} r_{g} - 256 \\, C^{2} {\\Delta_{e\\gamma}}^{2} P_{1}^{2} P_{2} c_{2} r_{g} - 16 \\, {\\Delta_{e\\gamma}}^{4} P_{2}^{3} c_{2} r_{g} + 256 \\, C^{5} P_{2}^{2} c_{3} r_{g} + 1024 \\, C^{2} {\\Delta_{e\\gamma}}^{2} P_{2}^{2} c_{2} c_{3} r_{g} - 16384 \\, C^{4} P_{2} c_{2} c_{3}^{2} r_{g} + 128 \\, C^{4} P_{2}^{2} R_{f} c_{2} - 512 \\, C^{2} P_{1} P_{2} R_{f} c_{2}^{3} + 16 \\, C^{4} P_{1} P_{2}^{2} r_{f} + 16 \\, {\\Delta_{e\\gamma}}^{4} P_{2}^{3} r_{f} - 64 \\, C {\\Delta_{e\\gamma}}^{2} P_{1} P_{2}^{2} c_{2} r_{f} - 512 \\, C^{2} {\\Delta_{e\\gamma}}^{2} P_{2}^{2} c_{3} r_{f} - 2048 \\, C^{3} P_{1} P_{2} c_{2} c_{3} r_{f} + 16 \\, C^{4} P_{1} P_{2}^{2} r_{g} + 16 \\, {\\Delta_{e\\gamma}}^{4} P_{2}^{3} r_{g} - 64 \\, C {\\Delta_{e\\gamma}}^{2} P_{1} P_{2}^{2} c_{2} r_{g} - 512 \\, C^{2} {\\Delta_{e\\gamma}}^{2} P_{2}^{2} c_{3} r_{g} - 2048 \\, C^{3} P_{1} P_{2} c_{2} c_{3} r_{g} + 256 \\, C {\\Delta_{e\\gamma}}^{2} P_{2}^{2} R_{f} c_{2} - 32 \\, C P_{2}^{2} R_{f} c_{2}^{3} + 32 \\, C {\\Delta_{e\\gamma}}^{2} P_{1} P_{2}^{2} r_{f} + 2 \\, C^{3} P_{2}^{3} r_{f} - 64 \\, C^{2} P_{1}^{2} P_{2} c_{2} r_{f} - 8 \\, {\\Delta_{e\\gamma}}^{2} P_{2}^{3} c_{2} r_{f} - 256 \\, C^{2} P_{2}^{2} c_{2} c_{3} r_{f} + 32 \\, C {\\Delta_{e\\gamma}}^{2} P_{1} P_{2}^{2} r_{g} + 2 \\, C^{3} P_{2}^{3} r_{g} - 64 \\, C^{2} P_{1}^{2} P_{2} c_{2} r_{g} - 8 \\, {\\Delta_{e\\gamma}}^{2} P_{2}^{3} c_{2} r_{g} - 256 \\, C^{2} P_{2}^{2} c_{2} c_{3} r_{g} + 8 \\, {\\Delta_{e\\gamma}}^{2} P_{2}^{3} r_{f} - 16 \\, C P_{1} P_{2}^{2} c_{2} r_{f} + 128 \\, C^{2} P_{2}^{2} c_{3} r_{f} + 8 \\, {\\Delta_{e\\gamma}}^{2} P_{2}^{3} r_{g} - 16 \\, C P_{1} P_{2}^{2} c_{2} r_{g} + 128 \\, C^{2} P_{2}^{2} c_{3} r_{g} + 32 \\, C P_{2}^{2} R_{f} c_{2} + 8 \\, C P_{1} P_{2}^{2} r_{f} - P_{2}^{3} c_{2} r_{f} + 8 \\, C P_{1} P_{2}^{2} r_{g} - P_{2}^{3} c_{2} r_{g} + P_{2}^{3} r_{f} + P_{2}^{3} r_{g}}{8 \\, {\\left(4 \\, C^{2} {\\Delta_{e\\gamma}}^{2} P_{2} - 128 \\, C^{4} c_{3} - 16 \\, {\\Delta_{e\\gamma}}^{2} P_{1} + C^{2} P_{2} - 128 \\, C c_{3} - 4 \\, P_{1}\\right)} C {\\Delta_{e\\gamma}} P_{2}^{2}}$$"
      ],
      "text/plain": [
       "1/8*(512*C^7*Deg^2*P2^2*R_f*c2 + 128*C^7*P2^2*R_f*c2 - 8192*C^3*Deg^2*P1^2*R_f*c2^3 - 512*C*Deg^4*P2^2*R_f*c2^3 + 32768*C^3*Deg^2*P2*R_f*c2^3*c3 - 524288*C^5*R_f*c2^3*c3^2 + 512*C^4*Deg^2*P2^2*R_f*c2 - 2048*C^2*Deg^2*P1*P2*R_f*c2^3 - 65536*C^4*P1*R_f*c2^3*c3 + 64*C^4*Deg^2*P1*P2^2*r_f + 64*C^4*Deg^2*P1*P2^2*r_g + 512*C*Deg^4*P2^2*R_f*c2 - 2048*C^3*P1^2*R_f*c2^3 - 256*C*Deg^2*P2^2*R_f*c2^3 - 8192*C^3*P2*R_f*c2^3*c3 + 8*C^3*Deg^2*P2^3*r_f - 256*C^2*Deg^2*P1^2*P2*c2*r_f - 16*Deg^4*P2^3*c2*r_f + 256*C^5*P2^2*c3*r_f + 1024*C^2*Deg^2*P2^2*c2*c3*r_f - 16384*C^4*P2*c2*c3^2*r_f + 8*C^3*Deg^2*P2^3*r_g - 256*C^2*Deg^2*P1^2*P2*c2*r_g - 16*Deg^4*P2^3*c2*r_g + 256*C^5*P2^2*c3*r_g + 1024*C^2*Deg^2*P2^2*c2*c3*r_g - 16384*C^4*P2*c2*c3^2*r_g + 128*C^4*P2^2*R_f*c2 - 512*C^2*P1*P2*R_f*c2^3 + 16*C^4*P1*P2^2*r_f + 16*Deg^4*P2^3*r_f - 64*C*Deg^2*P1*P2^2*c2*r_f - 512*C^2*Deg^2*P2^2*c3*r_f - 2048*C^3*P1*P2*c2*c3*r_f + 16*C^4*P1*P2^2*r_g + 16*Deg^4*P2^3*r_g - 64*C*Deg^2*P1*P2^2*c2*r_g - 512*C^2*Deg^2*P2^2*c3*r_g - 2048*C^3*P1*P2*c2*c3*r_g + 256*C*Deg^2*P2^2*R_f*c2 - 32*C*P2^2*R_f*c2^3 + 32*C*Deg^2*P1*P2^2*r_f + 2*C^3*P2^3*r_f - 64*C^2*P1^2*P2*c2*r_f - 8*Deg^2*P2^3*c2*r_f - 256*C^2*P2^2*c2*c3*r_f + 32*C*Deg^2*P1*P2^2*r_g + 2*C^3*P2^3*r_g - 64*C^2*P1^2*P2*c2*r_g - 8*Deg^2*P2^3*c2*r_g - 256*C^2*P2^2*c2*c3*r_g + 8*Deg^2*P2^3*r_f - 16*C*P1*P2^2*c2*r_f + 128*C^2*P2^2*c3*r_f + 8*Deg^2*P2^3*r_g - 16*C*P1*P2^2*c2*r_g + 128*C^2*P2^2*c3*r_g + 32*C*P2^2*R_f*c2 + 8*C*P1*P2^2*r_f - P2^3*c2*r_f + 8*C*P1*P2^2*r_g - P2^3*c2*r_g + P2^3*r_f + P2^3*r_g)/((4*C^2*Deg^2*P2 - 128*C^4*c3 - 16*Deg^2*P1 + C^2*P2 - 128*C*c3 - 4*P1)*C*Deg*P2^2)"
      ]
     },
     "metadata": {},
     "output_type": "display_data"
    }
   ],
   "source": [
    "show(DEg_sol)"
   ]
  },
  {
   "cell_type": "code",
   "execution_count": 39,
   "id": "f4290faa",
   "metadata": {},
   "outputs": [
    {
     "data": {
      "text/html": [
       "<html><script type=\"math/tex; mode=display\">\\newcommand{\\Bold}[1]{\\mathbf{#1}}-\\frac{0.12 \\, {\\left(524288 \\, C^{13} R_{f} c_{2}^{3} c_{3}^{2} + 512 \\, {\\left(16 \\, {\\Delta_{e\\gamma}}^{2} P_{1}^{2} R_{f} c_{2}^{3} - 64 \\, {\\Delta_{e\\gamma}}^{2} P_{2} R_{f} c_{2}^{3} c_{3} - {\\Delta_{e\\gamma}}^{2} P_{2}^{2} R_{f} c_{2} + 128 \\, P_{1} R_{f} c_{2}^{3} c_{3}\\right)} C^{12} + 128 \\, {\\left(4 \\, {\\Delta_{e\\gamma}}^{4} P_{2}^{2} R_{f} c_{2}^{3} + 16 \\, {\\Delta_{e\\gamma}}^{2} P_{1} P_{2} R_{f} c_{2}^{3} + 16 \\, P_{1}^{2} R_{f} c_{2}^{3} + 64 \\, P_{2} R_{f} c_{2}^{3} c_{3} - P_{2}^{2} R_{f} c_{2}\\right)} C^{11} + 256 \\, {\\left({\\Delta_{e\\gamma}}^{2} P_{2}^{2} R_{f} c_{2}^{3} + 2 \\, P_{1} P_{2} R_{f} c_{2}^{3} + 64 \\, P_{2} c_{2} c_{3}^{2} r_{f} + 64 \\, P_{2} c_{2} c_{3}^{2} r_{g}\\right)} C^{10} + 32 \\, {\\left(8 \\, {\\Delta_{e\\gamma}}^{2} P_{1}^{2} P_{2} c_{2} r_{f} - 32 \\, {\\Delta_{e\\gamma}}^{2} P_{2}^{2} c_{2} c_{3} r_{f} + 8 \\, {\\Delta_{e\\gamma}}^{2} P_{1}^{2} P_{2} c_{2} r_{g} - 32 \\, {\\Delta_{e\\gamma}}^{2} P_{2}^{2} c_{2} c_{3} r_{g} - 16 \\, {\\Delta_{e\\gamma}}^{2} P_{2}^{2} R_{f} c_{2} + P_{2}^{2} R_{f} c_{2}^{3} - 2 \\, {\\Delta_{e\\gamma}}^{2} P_{1} P_{2}^{2} r_{f} - 2 \\, {\\Delta_{e\\gamma}}^{2} P_{1} P_{2}^{2} r_{g} + 64 \\, P_{1} P_{2} c_{2} c_{3} r_{f} + 64 \\, P_{1} P_{2} c_{2} c_{3} r_{g} - 8 \\, P_{2}^{2} c_{3} r_{f} - 8 \\, P_{2}^{2} c_{3} r_{g}\\right)} C^{9} + 8 \\, {\\left(2 \\, {\\Delta_{e\\gamma}}^{4} P_{2}^{3} c_{2} r_{f} + 2 \\, {\\Delta_{e\\gamma}}^{4} P_{2}^{3} c_{2} r_{g} + 8 \\, {\\Delta_{e\\gamma}}^{2} P_{1} P_{2}^{2} c_{2} r_{f} + 8 \\, {\\Delta_{e\\gamma}}^{2} P_{1} P_{2}^{2} c_{2} r_{g} - {\\Delta_{e\\gamma}}^{2} P_{2}^{3} r_{f} - {\\Delta_{e\\gamma}}^{2} P_{2}^{3} r_{g} + 8 \\, P_{1}^{2} P_{2} c_{2} r_{f} + 32 \\, P_{2}^{2} c_{2} c_{3} r_{f} + 8 \\, P_{1}^{2} P_{2} c_{2} r_{g} + 32 \\, P_{2}^{2} c_{2} c_{3} r_{g} - 16 \\, P_{2}^{2} R_{f} c_{2} - 2 \\, P_{1} P_{2}^{2} r_{f} - 2 \\, P_{1} P_{2}^{2} r_{g}\\right)} C^{8} - 2 \\, {\\left(256 \\, {\\Delta_{e\\gamma}}^{4} P_{2}^{2} R_{f} c_{2} - 4 \\, {\\Delta_{e\\gamma}}^{2} P_{2}^{3} c_{2} r_{f} - 4 \\, {\\Delta_{e\\gamma}}^{2} P_{2}^{3} c_{2} r_{g} - 256 \\, {\\Delta_{e\\gamma}}^{2} P_{2}^{2} c_{3} r_{f} - 256 \\, {\\Delta_{e\\gamma}}^{2} P_{2}^{2} c_{3} r_{g} - 8 \\, P_{1} P_{2}^{2} c_{2} r_{f} - 8 \\, P_{1} P_{2}^{2} c_{2} r_{g} + P_{2}^{3} r_{f} + P_{2}^{3} r_{g}\\right)} C^{7} - {\\left(16 \\, {\\Delta_{e\\gamma}}^{4} P_{2}^{3} r_{f} + 16 \\, {\\Delta_{e\\gamma}}^{4} P_{2}^{3} r_{g} + 256 \\, {\\Delta_{e\\gamma}}^{2} P_{2}^{2} R_{f} c_{2} + 32 \\, {\\Delta_{e\\gamma}}^{2} P_{1} P_{2}^{2} r_{f} + 32 \\, {\\Delta_{e\\gamma}}^{2} P_{1} P_{2}^{2} r_{g} - P_{2}^{3} c_{2} r_{f} - P_{2}^{3} c_{2} r_{g} + 128 \\, P_{2}^{2} c_{3} r_{f} + 128 \\, P_{2}^{2} c_{3} r_{g}\\right)} C^{6} - 8 \\, {\\left({\\Delta_{e\\gamma}}^{2} P_{2}^{3} r_{f} + {\\Delta_{e\\gamma}}^{2} P_{2}^{3} r_{g} + 4 \\, P_{2}^{2} R_{f} c_{2} + P_{1} P_{2}^{2} r_{f} + P_{1} P_{2}^{2} r_{g}\\right)} C^{5} - {\\left(P_{2}^{3} r_{f} + P_{2}^{3} r_{g}\\right)} C^{4}\\right)}}{4 \\, C^{8.5} {\\Delta_{e\\gamma}}^{3} P_{2}^{3} - 128 \\, C^{9.5} {\\Delta_{e\\gamma}} P_{2}^{2} c_{3} + C^{7.5} {\\Delta_{e\\gamma}} P_{2}^{3} - 4 \\, C^{5.5} {\\Delta_{e\\gamma}} P_{1} P_{2}^{2} - 16 \\, {\\left({\\Delta_{e\\gamma}}^{3} P_{1} P_{2}^{2} + 8 \\, {\\Delta_{e\\gamma}} P_{2}^{2} c_{3}\\right)} C^{6.5}}</script></html>"
      ],
      "text/latex": [
       "$$\\newcommand{\\Bold}[1]{\\mathbf{#1}}-\\frac{0.12 \\, {\\left(524288 \\, C^{13} R_{f} c_{2}^{3} c_{3}^{2} + 512 \\, {\\left(16 \\, {\\Delta_{e\\gamma}}^{2} P_{1}^{2} R_{f} c_{2}^{3} - 64 \\, {\\Delta_{e\\gamma}}^{2} P_{2} R_{f} c_{2}^{3} c_{3} - {\\Delta_{e\\gamma}}^{2} P_{2}^{2} R_{f} c_{2} + 128 \\, P_{1} R_{f} c_{2}^{3} c_{3}\\right)} C^{12} + 128 \\, {\\left(4 \\, {\\Delta_{e\\gamma}}^{4} P_{2}^{2} R_{f} c_{2}^{3} + 16 \\, {\\Delta_{e\\gamma}}^{2} P_{1} P_{2} R_{f} c_{2}^{3} + 16 \\, P_{1}^{2} R_{f} c_{2}^{3} + 64 \\, P_{2} R_{f} c_{2}^{3} c_{3} - P_{2}^{2} R_{f} c_{2}\\right)} C^{11} + 256 \\, {\\left({\\Delta_{e\\gamma}}^{2} P_{2}^{2} R_{f} c_{2}^{3} + 2 \\, P_{1} P_{2} R_{f} c_{2}^{3} + 64 \\, P_{2} c_{2} c_{3}^{2} r_{f} + 64 \\, P_{2} c_{2} c_{3}^{2} r_{g}\\right)} C^{10} + 32 \\, {\\left(8 \\, {\\Delta_{e\\gamma}}^{2} P_{1}^{2} P_{2} c_{2} r_{f} - 32 \\, {\\Delta_{e\\gamma}}^{2} P_{2}^{2} c_{2} c_{3} r_{f} + 8 \\, {\\Delta_{e\\gamma}}^{2} P_{1}^{2} P_{2} c_{2} r_{g} - 32 \\, {\\Delta_{e\\gamma}}^{2} P_{2}^{2} c_{2} c_{3} r_{g} - 16 \\, {\\Delta_{e\\gamma}}^{2} P_{2}^{2} R_{f} c_{2} + P_{2}^{2} R_{f} c_{2}^{3} - 2 \\, {\\Delta_{e\\gamma}}^{2} P_{1} P_{2}^{2} r_{f} - 2 \\, {\\Delta_{e\\gamma}}^{2} P_{1} P_{2}^{2} r_{g} + 64 \\, P_{1} P_{2} c_{2} c_{3} r_{f} + 64 \\, P_{1} P_{2} c_{2} c_{3} r_{g} - 8 \\, P_{2}^{2} c_{3} r_{f} - 8 \\, P_{2}^{2} c_{3} r_{g}\\right)} C^{9} + 8 \\, {\\left(2 \\, {\\Delta_{e\\gamma}}^{4} P_{2}^{3} c_{2} r_{f} + 2 \\, {\\Delta_{e\\gamma}}^{4} P_{2}^{3} c_{2} r_{g} + 8 \\, {\\Delta_{e\\gamma}}^{2} P_{1} P_{2}^{2} c_{2} r_{f} + 8 \\, {\\Delta_{e\\gamma}}^{2} P_{1} P_{2}^{2} c_{2} r_{g} - {\\Delta_{e\\gamma}}^{2} P_{2}^{3} r_{f} - {\\Delta_{e\\gamma}}^{2} P_{2}^{3} r_{g} + 8 \\, P_{1}^{2} P_{2} c_{2} r_{f} + 32 \\, P_{2}^{2} c_{2} c_{3} r_{f} + 8 \\, P_{1}^{2} P_{2} c_{2} r_{g} + 32 \\, P_{2}^{2} c_{2} c_{3} r_{g} - 16 \\, P_{2}^{2} R_{f} c_{2} - 2 \\, P_{1} P_{2}^{2} r_{f} - 2 \\, P_{1} P_{2}^{2} r_{g}\\right)} C^{8} - 2 \\, {\\left(256 \\, {\\Delta_{e\\gamma}}^{4} P_{2}^{2} R_{f} c_{2} - 4 \\, {\\Delta_{e\\gamma}}^{2} P_{2}^{3} c_{2} r_{f} - 4 \\, {\\Delta_{e\\gamma}}^{2} P_{2}^{3} c_{2} r_{g} - 256 \\, {\\Delta_{e\\gamma}}^{2} P_{2}^{2} c_{3} r_{f} - 256 \\, {\\Delta_{e\\gamma}}^{2} P_{2}^{2} c_{3} r_{g} - 8 \\, P_{1} P_{2}^{2} c_{2} r_{f} - 8 \\, P_{1} P_{2}^{2} c_{2} r_{g} + P_{2}^{3} r_{f} + P_{2}^{3} r_{g}\\right)} C^{7} - {\\left(16 \\, {\\Delta_{e\\gamma}}^{4} P_{2}^{3} r_{f} + 16 \\, {\\Delta_{e\\gamma}}^{4} P_{2}^{3} r_{g} + 256 \\, {\\Delta_{e\\gamma}}^{2} P_{2}^{2} R_{f} c_{2} + 32 \\, {\\Delta_{e\\gamma}}^{2} P_{1} P_{2}^{2} r_{f} + 32 \\, {\\Delta_{e\\gamma}}^{2} P_{1} P_{2}^{2} r_{g} - P_{2}^{3} c_{2} r_{f} - P_{2}^{3} c_{2} r_{g} + 128 \\, P_{2}^{2} c_{3} r_{f} + 128 \\, P_{2}^{2} c_{3} r_{g}\\right)} C^{6} - 8 \\, {\\left({\\Delta_{e\\gamma}}^{2} P_{2}^{3} r_{f} + {\\Delta_{e\\gamma}}^{2} P_{2}^{3} r_{g} + 4 \\, P_{2}^{2} R_{f} c_{2} + P_{1} P_{2}^{2} r_{f} + P_{1} P_{2}^{2} r_{g}\\right)} C^{5} - {\\left(P_{2}^{3} r_{f} + P_{2}^{3} r_{g}\\right)} C^{4}\\right)}}{4 \\, C^{8.5} {\\Delta_{e\\gamma}}^{3} P_{2}^{3} - 128 \\, C^{9.5} {\\Delta_{e\\gamma}} P_{2}^{2} c_{3} + C^{7.5} {\\Delta_{e\\gamma}} P_{2}^{3} - 4 \\, C^{5.5} {\\Delta_{e\\gamma}} P_{1} P_{2}^{2} - 16 \\, {\\left({\\Delta_{e\\gamma}}^{3} P_{1} P_{2}^{2} + 8 \\, {\\Delta_{e\\gamma}} P_{2}^{2} c_{3}\\right)} C^{6.5}}$$"
      ],
      "text/plain": [
       "-0.12*(524288*C^13*R_f*c2^3*c3^2 + 512*(16*Deg^2*P1^2*R_f*c2^3 - 64*Deg^2*P2*R_f*c2^3*c3 - Deg^2*P2^2*R_f*c2 + 128*P1*R_f*c2^3*c3)*C^12 + 128*(4*Deg^4*P2^2*R_f*c2^3 + 16*Deg^2*P1*P2*R_f*c2^3 + 16*P1^2*R_f*c2^3 + 64*P2*R_f*c2^3*c3 - P2^2*R_f*c2)*C^11 + 256*(Deg^2*P2^2*R_f*c2^3 + 2*P1*P2*R_f*c2^3 + 64*P2*c2*c3^2*r_f + 64*P2*c2*c3^2*r_g)*C^10 + 32*(8*Deg^2*P1^2*P2*c2*r_f - 32*Deg^2*P2^2*c2*c3*r_f + 8*Deg^2*P1^2*P2*c2*r_g - 32*Deg^2*P2^2*c2*c3*r_g - 16*Deg^2*P2^2*R_f*c2 + P2^2*R_f*c2^3 - 2*Deg^2*P1*P2^2*r_f - 2*Deg^2*P1*P2^2*r_g + 64*P1*P2*c2*c3*r_f + 64*P1*P2*c2*c3*r_g - 8*P2^2*c3*r_f - 8*P2^2*c3*r_g)*C^9 + 8*(2*Deg^4*P2^3*c2*r_f + 2*Deg^4*P2^3*c2*r_g + 8*Deg^2*P1*P2^2*c2*r_f + 8*Deg^2*P1*P2^2*c2*r_g - Deg^2*P2^3*r_f - Deg^2*P2^3*r_g + 8*P1^2*P2*c2*r_f + 32*P2^2*c2*c3*r_f + 8*P1^2*P2*c2*r_g + 32*P2^2*c2*c3*r_g - 16*P2^2*R_f*c2 - 2*P1*P2^2*r_f - 2*P1*P2^2*r_g)*C^8 - 2*(256*Deg^4*P2^2*R_f*c2 - 4*Deg^2*P2^3*c2*r_f - 4*Deg^2*P2^3*c2*r_g - 256*Deg^2*P2^2*c3*r_f - 256*Deg^2*P2^2*c3*r_g - 8*P1*P2^2*c2*r_f - 8*P1*P2^2*c2*r_g + P2^3*r_f + P2^3*r_g)*C^7 - (16*Deg^4*P2^3*r_f + 16*Deg^4*P2^3*r_g + 256*Deg^2*P2^2*R_f*c2 + 32*Deg^2*P1*P2^2*r_f + 32*Deg^2*P1*P2^2*r_g - P2^3*c2*r_f - P2^3*c2*r_g + 128*P2^2*c3*r_f + 128*P2^2*c3*r_g)*C^6 - 8*(Deg^2*P2^3*r_f + Deg^2*P2^3*r_g + 4*P2^2*R_f*c2 + P1*P2^2*r_f + P1*P2^2*r_g)*C^5 - (P2^3*r_f + P2^3*r_g)*C^4)/(4*C^8.5*Deg^3*P2^3 - 128*C^9.5*Deg*P2^2*c3 + C^7.5*Deg*P2^3 - 4*C^5.5*Deg*P1*P2^2 - 16*(Deg^3*P1*P2^2 + 8*Deg*P2^2*c3)*C^6.5)"
      ]
     },
     "metadata": {},
     "output_type": "display_data"
    }
   ],
   "source": []
  },
  {
   "cell_type": "code",
   "execution_count": 16,
   "id": "173261dd",
   "metadata": {},
   "outputs": [
    {
     "data": {
      "text/plain": [
       "{{Deg -> -9867.986290348066}, {Deg -> 9867.986290348064}, \n",
       " {Deg -> 0. - 0.8463809413366021*I}, {Deg -> 0. + 0.8463809413366021*I}}"
      ]
     },
     "execution_count": 16,
     "metadata": {},
     "output_type": "execute_result"
    }
   ],
   "source": []
  },
  {
   "cell_type": "code",
   "execution_count": null,
   "id": "6399b109",
   "metadata": {},
   "outputs": [],
   "source": []
  },
  {
   "cell_type": "code",
   "execution_count": 60,
   "id": "73f688bf",
   "metadata": {},
   "outputs": [
    {
     "data": {
      "text/html": [
       "<html><script type=\"math/tex; mode=display\">\\newcommand{\\Bold}[1]{\\mathbf{#1}}-\\frac{3.02007673473046 \\times 10^{17} \\, {\\Delta_{e\\gamma}}^{4} - 2.96148121908101 \\times 10^{25} \\, {\\Delta_{e\\gamma}}^{2} - 7.40113409681553 \\times 10^{24}}{55388198400 \\, {\\left(1605121732 \\, {\\Delta_{e\\gamma}}^{2} - 106398826367\\right)} {\\Delta_{e\\gamma}}}</script></html>"
      ],
      "text/latex": [
       "$$\\newcommand{\\Bold}[1]{\\mathbf{#1}}-\\frac{3.02007673473046 \\times 10^{17} \\, {\\Delta_{e\\gamma}}^{4} - 2.96148121908101 \\times 10^{25} \\, {\\Delta_{e\\gamma}}^{2} - 7.40113409681553 \\times 10^{24}}{55388198400 \\, {\\left(1605121732 \\, {\\Delta_{e\\gamma}}^{2} - 106398826367\\right)} {\\Delta_{e\\gamma}}}$$"
      ],
      "text/plain": [
       "-1/55388198400*(3.02007673473046e17*Deg^4 - 2.96148121908101e25*Deg^2 - 7.40113409681553e24)/((1605121732*Deg^2 - 106398826367)*Deg)"
      ]
     },
     "metadata": {},
     "output_type": "display_data"
    }
   ],
   "source": [
    "show(substitute(DEg_sol))"
   ]
  },
  {
   "cell_type": "code",
   "execution_count": 61,
   "id": "494f5eb9",
   "metadata": {},
   "outputs": [
    {
     "data": {
      "text/html": [
       "<html><script type=\"math/tex; mode=display\">\\newcommand{\\Bold}[1]{\\mathbf{#1}}\\frac{2318.93946326213}{{\\Delta_{E\\gamma}}}</script></html>"
      ],
      "text/latex": [
       "$$\\newcommand{\\Bold}[1]{\\mathbf{#1}}\\frac{2318.93946326213}{{\\Delta_{E\\gamma}}}$$"
      ],
      "text/plain": [
       "2318.93946326213/DEg"
      ]
     },
     "metadata": {},
     "output_type": "display_data"
    }
   ],
   "source": [
    "show(substitute(Deg_sol))"
   ]
  },
  {
   "cell_type": "code",
   "execution_count": 12,
   "id": "31734736",
   "metadata": {},
   "outputs": [],
   "source": [
    "variables = ['Det','P1','P2','c2','c3','c','C','gamma','R_f','r_f','r_g']\n",
    "\n",
    "P1_val  = 16*c^2+12*c+1\n",
    "P2_val  = 48*c^2+16*c+1\n",
    "c2_val = c+1/2^2\n",
    "c3_val = c+1/2^3\n",
    "\n",
    "R_f_val = 1\n",
    "gamma_val = 1\n",
    "r_f_val = 0.9\n",
    "r_g_val = 0.1\n",
    "C_val = 100\n",
    "c_val = 100\n",
    "\n",
    "parameters = {}\n",
    "for var in variables:\n",
    "    exec(f\"parameters['{var}'] = {var}_val \")\n",
    "\n",
    "def substitute(a):\n",
    "    q = sg.copy(a)\n",
    "    for var in variables:\n",
    "        q = eval(f\"q.subs({var}= parameters['{var}'] )\") \n",
    "    return q"
   ]
  },
  {
   "cell_type": "code",
   "execution_count": null,
   "id": "9ccee4a1",
   "metadata": {},
   "outputs": [],
   "source": []
  },
  {
   "cell_type": "code",
   "execution_count": 257,
   "id": "c498b6c4",
   "metadata": {},
   "outputs": [],
   "source": [
    "eq1s = substitute(eq1)\n",
    "eq2s = substitute(eq2)"
   ]
  },
  {
   "cell_type": "code",
   "execution_count": 259,
   "id": "6ee5c09c",
   "metadata": {},
   "outputs": [
    {
     "data": {
      "text/html": [
       "<html><script type=\"math/tex; mode=display\">\\newcommand{\\Bold}[1]{\\mathbf{#1}}\\frac{P_{2}^{2}}{{\\left(2 i \\, C {\\left(4 \\, {c} + 1\\right)}^{2} + P_{2} {\\left(\\frac{{\\Delta E}}{{\\gamma}} + \\frac{i \\, {\\gamma_f}}{{\\gamma}} + \\frac{i \\, {\\gamma_g}}{{\\gamma}}\\right)}\\right)} {\\left(-2 i \\, C {\\left(4 \\, {c} + 1\\right)}^{2} + P_{2} {\\left(\\frac{{\\Delta E}}{{\\gamma}} - \\frac{i \\, {\\gamma_f}}{{\\gamma}} - \\frac{i \\, {\\gamma_g}}{{\\gamma}}\\right)}\\right)}} = \\frac{{\\left(4 \\, C P_{1} - i \\, P_{2} {\\left(\\frac{2 \\, {\\Delta e}}{{\\gamma}} + i\\right)}\\right)} {\\left(4 \\, C P_{1} + i \\, P_{2} {\\left(\\frac{2 \\, {\\Delta e}}{{\\gamma}} - i\\right)}\\right)}}{{\\left(2 \\, {\\left({\\left(4 \\, {c} + 1\\right)} {\\left(\\frac{2 \\, {\\Delta e}}{{\\gamma}} + i\\right)} + 4 i \\, C\\right)} C {\\left(4 \\, {c} + 1\\right)} + {\\left(4 \\, C P_{1} - i \\, P_{2} {\\left(\\frac{2 \\, {\\Delta e}}{{\\gamma}} + i\\right)}\\right)} {\\left(\\frac{{\\Delta E}}{{\\gamma}} + \\frac{i \\, {\\gamma_f}}{{\\gamma}} + \\frac{i \\, {\\gamma_g}}{{\\gamma}}\\right)}\\right)} {\\left(2 \\, {\\left({\\left(4 \\, {c} + 1\\right)} {\\left(\\frac{2 \\, {\\Delta e}}{{\\gamma}} - i\\right)} - 4 i \\, C\\right)} C {\\left(4 \\, {c} + 1\\right)} + {\\left(4 \\, C P_{1} + i \\, P_{2} {\\left(\\frac{2 \\, {\\Delta e}}{{\\gamma}} - i\\right)}\\right)} {\\left(\\frac{{\\Delta E}}{{\\gamma}} - \\frac{i \\, {\\gamma_f}}{{\\gamma}} - \\frac{i \\, {\\gamma_g}}{{\\gamma}}\\right)}\\right)}}</script></html>"
      ],
      "text/latex": [
       "$$\\newcommand{\\Bold}[1]{\\mathbf{#1}}\\frac{P_{2}^{2}}{{\\left(2 i \\, C {\\left(4 \\, {c} + 1\\right)}^{2} + P_{2} {\\left(\\frac{{\\Delta E}}{{\\gamma}} + \\frac{i \\, {\\gamma_f}}{{\\gamma}} + \\frac{i \\, {\\gamma_g}}{{\\gamma}}\\right)}\\right)} {\\left(-2 i \\, C {\\left(4 \\, {c} + 1\\right)}^{2} + P_{2} {\\left(\\frac{{\\Delta E}}{{\\gamma}} - \\frac{i \\, {\\gamma_f}}{{\\gamma}} - \\frac{i \\, {\\gamma_g}}{{\\gamma}}\\right)}\\right)}} = \\frac{{\\left(4 \\, C P_{1} - i \\, P_{2} {\\left(\\frac{2 \\, {\\Delta e}}{{\\gamma}} + i\\right)}\\right)} {\\left(4 \\, C P_{1} + i \\, P_{2} {\\left(\\frac{2 \\, {\\Delta e}}{{\\gamma}} - i\\right)}\\right)}}{{\\left(2 \\, {\\left({\\left(4 \\, {c} + 1\\right)} {\\left(\\frac{2 \\, {\\Delta e}}{{\\gamma}} + i\\right)} + 4 i \\, C\\right)} C {\\left(4 \\, {c} + 1\\right)} + {\\left(4 \\, C P_{1} - i \\, P_{2} {\\left(\\frac{2 \\, {\\Delta e}}{{\\gamma}} + i\\right)}\\right)} {\\left(\\frac{{\\Delta E}}{{\\gamma}} + \\frac{i \\, {\\gamma_f}}{{\\gamma}} + \\frac{i \\, {\\gamma_g}}{{\\gamma}}\\right)}\\right)} {\\left(2 \\, {\\left({\\left(4 \\, {c} + 1\\right)} {\\left(\\frac{2 \\, {\\Delta e}}{{\\gamma}} - i\\right)} - 4 i \\, C\\right)} C {\\left(4 \\, {c} + 1\\right)} + {\\left(4 \\, C P_{1} + i \\, P_{2} {\\left(\\frac{2 \\, {\\Delta e}}{{\\gamma}} - i\\right)}\\right)} {\\left(\\frac{{\\Delta E}}{{\\gamma}} - \\frac{i \\, {\\gamma_f}}{{\\gamma}} - \\frac{i \\, {\\gamma_g}}{{\\gamma}}\\right)}\\right)}}$$"
      ],
      "text/plain": [
       "P2^2/((2*I*C*(4*c + 1)^2 + P2*(DE/gamma + I*gamma_f/gamma + I*gamma_g/gamma))*(-2*I*C*(4*c + 1)^2 + P2*(DE/gamma - I*gamma_f/gamma - I*gamma_g/gamma))) == (4*C*P1 - I*P2*(2*De/gamma + I))*(4*C*P1 + I*P2*(2*De/gamma - I))/((2*((4*c + 1)*(2*De/gamma + I) + 4*I*C)*C*(4*c + 1) + (4*C*P1 - I*P2*(2*De/gamma + I))*(DE/gamma + I*gamma_f/gamma + I*gamma_g/gamma))*(2*((4*c + 1)*(2*De/gamma - I) - 4*I*C)*C*(4*c + 1) + (4*C*P1 + I*P2*(2*De/gamma - I))*(DE/gamma - I*gamma_f/gamma - I*gamma_g/gamma)))"
      ]
     },
     "metadata": {},
     "output_type": "display_data"
    }
   ],
   "source": [
    "show(eq1s)"
   ]
  },
  {
   "cell_type": "code",
   "execution_count": 130,
   "id": "0e783fd2",
   "metadata": {},
   "outputs": [],
   "source": [
    "expr = eq1s\n",
    "rhs = expr.rhs()\n",
    "rhs = (rhs.numerator().expand()/rhs.denominator().expand())\n",
    "lhs = expr.lhs()\n",
    "lhs = (lhs.numerator().expand()/lhs.denominator().expand())\n",
    "eq1s= rhs ==lhs\n",
    "\n",
    "   \n",
    "expr = eq2s\n",
    "rhs = expr.rhs()\n",
    "rhs = (rhs.numerator().expand()/rhs.denominator().expand())\n",
    "lhs = expr.lhs()\n",
    "lhs = (lhs.numerator().expand()/lhs.denominator().expand())\n",
    "eq2s= rhs == lhs"
   ]
  },
  {
   "cell_type": "code",
   "execution_count": 131,
   "id": "43c38159",
   "metadata": {},
   "outputs": [
    {
     "data": {
      "text/html": [
       "<html><script type=\"math/tex; mode=display\">\\newcommand{\\Bold}[1]{\\mathbf{#1}}\\frac{927758092804 \\, \\mathit{De}^{2} + 4220061573924001}{927758092804 \\, \\mathit{DE}^{2} \\mathit{De}^{2} + 4220061573924001 \\, \\mathit{DE}^{2} + 8.23301120000000 \\times 10^{15} \\, \\mathit{DE} \\mathit{De} + 4.26194869009440 \\times 10^{15} \\, \\mathit{De}^{2} + 1.66932087432444 \\times 10^{16}} = \\frac{231939523201}{231939523201 \\, \\mathit{DE}^{2} + 1.06548717252360 \\times 10^{15}}</script></html>"
      ],
      "text/latex": [
       "$$\\newcommand{\\Bold}[1]{\\mathbf{#1}}\\frac{927758092804 \\, \\mathit{De}^{2} + 4220061573924001}{927758092804 \\, \\mathit{DE}^{2} \\mathit{De}^{2} + 4220061573924001 \\, \\mathit{DE}^{2} + 8.23301120000000 \\times 10^{15} \\, \\mathit{DE} \\mathit{De} + 4.26194869009440 \\times 10^{15} \\, \\mathit{De}^{2} + 1.66932087432444 \\times 10^{16}} = \\frac{231939523201}{231939523201 \\, \\mathit{DE}^{2} + 1.06548717252360 \\times 10^{15}}$$"
      ],
      "text/plain": [
       "(927758092804*De^2 + 4220061573924001)/(927758092804*DE^2*De^2 + 4220061573924001*DE^2 + 8.23301120000000e15*DE*De + 4.26194869009440e15*De^2 + 1.66932087432444e16) == 231939523201/(231939523201*DE^2 + 1.06548717252360e15)"
      ]
     },
     "metadata": {},
     "output_type": "display_data"
    }
   ],
   "source": [
    "show(eq1s)"
   ]
  },
  {
   "cell_type": "code",
   "execution_count": 132,
   "id": "ab7aa792",
   "metadata": {},
   "outputs": [
    {
     "name": "stdout",
     "output_type": "stream",
     "text": [
      "27938567915617305601442401/11875303587891200000000/De\n"
     ]
    }
   ],
   "source": [
    "DE_sol = eq1s.solve(DE)[0].rhs()\n",
    "print(DE_sol)"
   ]
  },
  {
   "cell_type": "code",
   "execution_count": 133,
   "id": "3bbda129",
   "metadata": {},
   "outputs": [],
   "source": [
    "De_sol = eq2s.subs(DE=DE_sol).solve(De)"
   ]
  },
  {
   "cell_type": "code",
   "execution_count": 134,
   "id": "7e17b7dc",
   "metadata": {},
   "outputs": [
    {
     "data": {
      "text/html": [
       "<html><script type=\"math/tex; mode=display\">\\newcommand{\\Bold}[1]{\\mathbf{#1}}\\left[\\mathit{De} = -\\frac{1}{63124406272} \\, \\sqrt{\\frac{3}{75372086523773035939355773297235212798} \\, \\sqrt{23083878453294054182585811503838092264060062065948059940624911661922422956737483541167616921989597730354764562586970907725832128635065} + \\frac{14413705277226652397318074495805498850764652299106199746107097625791}{75372086523773035939355773297235212798}}, \\mathit{De} = \\frac{1}{63124406272} \\, \\sqrt{\\frac{3}{75372086523773035939355773297235212798} \\, \\sqrt{23083878453294054182585811503838092264060062065948059940624911661922422956737483541167616921989597730354764562586970907725832128635065} + \\frac{14413705277226652397318074495805498850764652299106199746107097625791}{75372086523773035939355773297235212798}}, \\mathit{De} = 0\\right]</script></html>"
      ],
      "text/latex": [
       "$$\\newcommand{\\Bold}[1]{\\mathbf{#1}}\\left[\\mathit{De} = -\\frac{1}{63124406272} \\, \\sqrt{\\frac{3}{75372086523773035939355773297235212798} \\, \\sqrt{23083878453294054182585811503838092264060062065948059940624911661922422956737483541167616921989597730354764562586970907725832128635065} + \\frac{14413705277226652397318074495805498850764652299106199746107097625791}{75372086523773035939355773297235212798}}, \\mathit{De} = \\frac{1}{63124406272} \\, \\sqrt{\\frac{3}{75372086523773035939355773297235212798} \\, \\sqrt{23083878453294054182585811503838092264060062065948059940624911661922422956737483541167616921989597730354764562586970907725832128635065} + \\frac{14413705277226652397318074495805498850764652299106199746107097625791}{75372086523773035939355773297235212798}}, \\mathit{De} = 0\\right]$$"
      ],
      "text/plain": [
       "[De == -1/63124406272*sqrt(3/75372086523773035939355773297235212798*sqrt(23083878453294054182585811503838092264060062065948059940624911661922422956737483541167616921989597730354764562586970907725832128635065) + 14413705277226652397318074495805498850764652299106199746107097625791/75372086523773035939355773297235212798), De == 1/63124406272*sqrt(3/75372086523773035939355773297235212798*sqrt(23083878453294054182585811503838092264060062065948059940624911661922422956737483541167616921989597730354764562586970907725832128635065) + 14413705277226652397318074495805498850764652299106199746107097625791/75372086523773035939355773297235212798), De == 0]"
      ]
     },
     "metadata": {},
     "output_type": "display_data"
    }
   ],
   "source": [
    "show(De_sol)"
   ]
  },
  {
   "cell_type": "code",
   "execution_count": 152,
   "id": "81779f0c",
   "metadata": {},
   "outputs": [],
   "source": [
    "De_val = De_sol[0].rhs().n()"
   ]
  },
  {
   "cell_type": "code",
   "execution_count": 153,
   "id": "b723317f",
   "metadata": {},
   "outputs": [
    {
     "data": {
      "text/plain": [
       "-9797.16095384322"
      ]
     },
     "execution_count": 153,
     "metadata": {},
     "output_type": "execute_result"
    }
   ],
   "source": [
    "De_val"
   ]
  },
  {
   "cell_type": "code",
   "execution_count": 154,
   "id": "42a412fe",
   "metadata": {},
   "outputs": [
    {
     "data": {
      "text/html": [
       "<html><script type=\"math/tex; mode=display\">\\newcommand{\\Bold}[1]{\\mathbf{#1}}\\frac{27938567915617305601442401}{11875303587891200000000 \\, \\mathit{De}}</script></html>"
      ],
      "text/latex": [
       "$$\\newcommand{\\Bold}[1]{\\mathbf{#1}}\\frac{27938567915617305601442401}{11875303587891200000000 \\, \\mathit{De}}$$"
      ],
      "text/plain": [
       "27938567915617305601442401/11875303587891200000000/De"
      ]
     },
     "metadata": {},
     "output_type": "display_data"
    }
   ],
   "source": [
    "show(DE_sol)"
   ]
  },
  {
   "cell_type": "markdown",
   "id": "1a652039",
   "metadata": {},
   "source": [
    "# With 0 coupling"
   ]
  },
  {
   "cell_type": "code",
   "execution_count": 3,
   "id": "fe723ce1",
   "metadata": {},
   "outputs": [
    {
     "name": "stdout",
     "output_type": "stream",
     "text": [
      "Initializing system O-x-O  ...\n",
      "Constructing states and excitations...\n",
      "Constructing ground and first-excited statespace...\n",
      "Constructing gs_hamiltonian ...\n",
      "Constructing e1_hamiltonian ...\n",
      "Constructing interactions V_plus and V_minus ...\n",
      "Constructing NJ_hamiltonian  ...\n",
      "Inverting NJ_hamiltonian  ...\n",
      "Constructing eff_hamiltonian and effective lindblad operators ...\n",
      "\n",
      "System  O-x-O  initialized in 40.0 seconds.\n"
     ]
    }
   ],
   "source": [
    "s1 = system('O-x-O')"
   ]
  },
  {
   "cell_type": "code",
   "execution_count": 4,
   "id": "c888bd8e",
   "metadata": {},
   "outputs": [],
   "source": [
    "def lind(lind_op,which):    \n",
    "    L_matrix_orig = s1.lindblad_list[lind_op]\n",
    "    L_matrix      = s1.eff_lindblad_list[lind_op] #lindblau_list[lind_op] ##(gamma_g=0,gamma_f=gamma)\n",
    "\n",
    "    L_nonzeros = []\n",
    "    L_nonzeros_pos = []\n",
    "    #find non zero elements\n",
    "    for i in  range(L_matrix.nrows()):\n",
    "        for j in  range(L_matrix.ncols()):\n",
    "            if not L_matrix[i,j].is_zero():\n",
    "                L_nonzeros.append(L_matrix[i,j])\n",
    "                L_nonzeros_pos.append((i,j))\n",
    "\n",
    "    #show what these elements do \n",
    "    #for t in L_nonzeros_pos:\n",
    "    #    print(f' |{s1.gs_e1_dec_states[t[0]]}> < {s1.gs_e1_dec_states[t[1]]} | ')\n",
    "\n",
    "    L_elem = L_nonzeros[which]\n",
    "\n",
    "\n",
    "    \n",
    "    L_elem = L_elem.subs(DE=gamma*DEg)\n",
    "    L_elem = L_elem.subs(De0=gamma*De0g)\n",
    "    L_elem = L_elem.subs(De=gamma*Deg)                     \n",
    "    #COUPLINGS\n",
    "    b = L_elem\n",
    "    \n",
    "    b = b.subs(g_f=g*sqrt(R_f))\n",
    "    \n",
    "    var('R0',domain='positive',  latex_name =r'R_0')\n",
    "    b = b.subs(g0=g*sqrt(R0))\n",
    "    \n",
    "    var('R_v',domain='real',  latex_name =r'R_{\\nu}') #ratio (v/g)^2\n",
    "    b = b.subs(v=g*sqrt(R_v))\n",
    "\n",
    "    var('r_b',domain='real')\n",
    "    b = b.subs(kappa_b=gamma/r_b)\n",
    "\n",
    "\n",
    "    var('r_g',domain='real',latex_name =r'r_g')\n",
    "    b = b.subs(gamma_g=gamma*r_g)\n",
    "\n",
    "    var('r0',domain='real',latex_name =r'r0')\n",
    "    b = b.subs(gamma0=gamma*r0)\n",
    "\n",
    "    var('r_f',domain='real',latex_name =r'r_f')\n",
    "    b = b.subs(gamma_f=gamma*r_f)\n",
    "\n",
    "    var('g')\n",
    "    b = b.subs(g = sqrt(C*kappa_c*gamma)) \n",
    "    \n",
    "    b = b.subs(r_b = c/(C*R_v))\n",
    "    \n",
    "    b = b.subs(dc = (dct+0.5*I)*kappa_c )\n",
    "    \n",
    "    \n",
    "    L_elem = b\n",
    "    \n",
    "  \n",
    "    L_elem = L_elem._mathematica_().PowerExpand()._sage_()\n",
    "    L_elem = L_elem._mathematica_().Factor()._sage_()\n",
    "\n",
    "\n",
    "    L_elem = MMA_simplify(L_elem,full=True)\n",
    "\n",
    "    L_elem = SR(str(L_elem).replace('Sqrt','sqrt'))\n",
    "\n",
    "    \n",
    "\n",
    "    show( symround(L_elem))\n",
    "\n",
    "    print(f' |{s1.gs_e1_dec_states[L_nonzeros_pos[which][0]]}> < {s1.gs_e1_dec_states[L_nonzeros_pos[which][1]]} | \\n')\n",
    "    print(f' Original coefficient :')\n",
    "    show(s1.L_coeffs[lind_op])\n",
    "    return L_elem\n"
   ]
  },
  {
   "cell_type": "code",
   "execution_count": 6,
   "id": "437b008b",
   "metadata": {},
   "outputs": [
    {
     "name": "stdout",
     "output_type": "stream",
     "text": [
      "symround: Deleted coefficient 2.2e-16\n",
      "symround: Deleted coefficient 5.6e-17\n",
      "symround: Deleted coefficient 2.2e-16\n",
      "symround: Deleted coefficient 1.8e-17\n",
      "symround: Deleted coefficient 1.1e-16\n",
      "symround: Deleted coefficient 9.2e-18\n"
     ]
    },
    {
     "data": {
      "text/html": [
       "<html><script type=\"math/tex; mode=display\">\\newcommand{\\Bold}[1]{\\mathbf{#1}}\\frac{{\\left(1.5i \\, C^{2} {R_0}^{2} {\\left(-0.66 \\, {c} - 0.083\\right)} + 1.5i \\, {\\left({c} {\\left(-0.66 \\, {c} - 0.50\\right)} - 0.042\\right)} C {R_0} {r0} + 1.5i \\, {\\left({\\left({c} + 0.33\\right)} {c} + 0.021\\right)} {\\Delta_{e0\\gamma}}^{2} + 1.5i \\, {\\left({c} {\\left(-0.25 \\, {c} - 0.083\\right)} - 0.0052\\right)} {r0}^{2} - 1.5i \\, {\\left({\\left({c} {\\left(1.3i \\, {c} + i\\right)} + 0.083i\\right)} C {R_0} - {\\left({c} {\\left(-i \\, {c} - 0.33i\\right)} - 0.021i\\right)} {r0}\\right)} {\\Delta_{e0\\gamma}}\\right)} {\\Omega} \\sqrt{{r_g}}}{{\\left({\\left(-0.25 \\, C^{2} {R_0}^{2} + {\\Delta_{e0\\gamma}}^{2} {\\left({c} + 0.25\\right)}^{2} + C {R_0} {\\left(-0.50 \\, {c} - 0.12\\right)} {r0} - 0.25 \\, {\\left({c} + 0.25\\right)}^{2} {r0}^{2} + {\\left(-i \\, C {R_0} + {\\left(-i \\, {c} - 0.25i\\right)} {r0}\\right)} {\\Delta_{e0\\gamma}} {\\left({c} + 0.25\\right)}\\right)} C R_{f} - {\\left(C^{2} {R_0}^{2} {\\left(i \\, {c} + 0.12i\\right)} - {\\Delta_{e0\\gamma}}^{2} {\\left({c} + 0.25\\right)} {\\left(1.5i \\, {c} + 0.12i\\right)} + {\\left({c} {\\left(i \\, {c} + 0.75i\\right)} + 0.062i\\right)} C {R_0} {r0} - {\\left({c} + 0.25\\right)} {\\left(-0.38i \\, {c} - 0.031i\\right)} {r0}^{2} - {\\left({\\left({\\left(2 \\, {c} + 1.5\\right)} {c} + 0.12\\right)} C {R_0} + {\\left({\\left(1.5 \\, {c} + 0.50\\right)} {c} + 0.031\\right)} {r0}\\right)} {\\Delta_{e0\\gamma}}\\right)} {\\Delta_{E\\gamma}} + {\\left(C^{2} {R_0}^{2} {\\left(-0.50 \\, {c} - 0.062\\right)} + {\\left({c} {\\left(-0.50 \\, {c} - 0.38\\right)} - 0.031\\right)} C {R_0} {r0} + {\\left({c} {\\left(0.75 \\, {c} + 0.25\\right)} + 0.016\\right)} {\\Delta_{e0\\gamma}}^{2} + {\\left({c} {\\left(-0.19 \\, {c} - 0.062\\right)} - 0.0039\\right)} {r0}^{2} - {\\left({\\left({c} {\\left(i \\, {c} + 0.75i\\right)} + 0.062i\\right)} C {R_0} - {\\left({c} {\\left(-0.75i \\, {c} - 0.25i\\right)} - 0.016i\\right)} {r0}\\right)} {\\Delta_{e0\\gamma}}\\right)} {r_f} + {\\left(C^{2} {R_0}^{2} {\\left(-0.50 \\, {c} - 0.062\\right)} + {\\left({c} {\\left(-0.50 \\, {c} - 0.38\\right)} - 0.031\\right)} C {R_0} {r0} + {\\left({c} {\\left(0.75 \\, {c} + 0.25\\right)} + 0.016\\right)} {\\Delta_{e0\\gamma}}^{2} + {\\left({c} {\\left(-0.19 \\, {c} - 0.062\\right)} - 0.0039\\right)} {r0}^{2} - {\\left({\\left({c} {\\left(i \\, {c} + 0.75i\\right)} + 0.062i\\right)} C {R_0} - {\\left({c} {\\left(-0.75i \\, {c} - 0.25i\\right)} - 0.016i\\right)} {r0}\\right)} {\\Delta_{e0\\gamma}}\\right)} {r_g}\\right)} \\sqrt{{\\gamma}}}</script></html>"
      ],
      "text/latex": [
       "$$\\newcommand{\\Bold}[1]{\\mathbf{#1}}\\frac{{\\left(1.5i \\, C^{2} {R_0}^{2} {\\left(-0.66 \\, {c} - 0.083\\right)} + 1.5i \\, {\\left({c} {\\left(-0.66 \\, {c} - 0.50\\right)} - 0.042\\right)} C {R_0} {r0} + 1.5i \\, {\\left({\\left({c} + 0.33\\right)} {c} + 0.021\\right)} {\\Delta_{e0\\gamma}}^{2} + 1.5i \\, {\\left({c} {\\left(-0.25 \\, {c} - 0.083\\right)} - 0.0052\\right)} {r0}^{2} - 1.5i \\, {\\left({\\left({c} {\\left(1.3i \\, {c} + i\\right)} + 0.083i\\right)} C {R_0} - {\\left({c} {\\left(-i \\, {c} - 0.33i\\right)} - 0.021i\\right)} {r0}\\right)} {\\Delta_{e0\\gamma}}\\right)} {\\Omega} \\sqrt{{r_g}}}{{\\left({\\left(-0.25 \\, C^{2} {R_0}^{2} + {\\Delta_{e0\\gamma}}^{2} {\\left({c} + 0.25\\right)}^{2} + C {R_0} {\\left(-0.50 \\, {c} - 0.12\\right)} {r0} - 0.25 \\, {\\left({c} + 0.25\\right)}^{2} {r0}^{2} + {\\left(-i \\, C {R_0} + {\\left(-i \\, {c} - 0.25i\\right)} {r0}\\right)} {\\Delta_{e0\\gamma}} {\\left({c} + 0.25\\right)}\\right)} C R_{f} - {\\left(C^{2} {R_0}^{2} {\\left(i \\, {c} + 0.12i\\right)} - {\\Delta_{e0\\gamma}}^{2} {\\left({c} + 0.25\\right)} {\\left(1.5i \\, {c} + 0.12i\\right)} + {\\left({c} {\\left(i \\, {c} + 0.75i\\right)} + 0.062i\\right)} C {R_0} {r0} - {\\left({c} + 0.25\\right)} {\\left(-0.38i \\, {c} - 0.031i\\right)} {r0}^{2} - {\\left({\\left({\\left(2 \\, {c} + 1.5\\right)} {c} + 0.12\\right)} C {R_0} + {\\left({\\left(1.5 \\, {c} + 0.50\\right)} {c} + 0.031\\right)} {r0}\\right)} {\\Delta_{e0\\gamma}}\\right)} {\\Delta_{E\\gamma}} + {\\left(C^{2} {R_0}^{2} {\\left(-0.50 \\, {c} - 0.062\\right)} + {\\left({c} {\\left(-0.50 \\, {c} - 0.38\\right)} - 0.031\\right)} C {R_0} {r0} + {\\left({c} {\\left(0.75 \\, {c} + 0.25\\right)} + 0.016\\right)} {\\Delta_{e0\\gamma}}^{2} + {\\left({c} {\\left(-0.19 \\, {c} - 0.062\\right)} - 0.0039\\right)} {r0}^{2} - {\\left({\\left({c} {\\left(i \\, {c} + 0.75i\\right)} + 0.062i\\right)} C {R_0} - {\\left({c} {\\left(-0.75i \\, {c} - 0.25i\\right)} - 0.016i\\right)} {r0}\\right)} {\\Delta_{e0\\gamma}}\\right)} {r_f} + {\\left(C^{2} {R_0}^{2} {\\left(-0.50 \\, {c} - 0.062\\right)} + {\\left({c} {\\left(-0.50 \\, {c} - 0.38\\right)} - 0.031\\right)} C {R_0} {r0} + {\\left({c} {\\left(0.75 \\, {c} + 0.25\\right)} + 0.016\\right)} {\\Delta_{e0\\gamma}}^{2} + {\\left({c} {\\left(-0.19 \\, {c} - 0.062\\right)} - 0.0039\\right)} {r0}^{2} - {\\left({\\left({c} {\\left(i \\, {c} + 0.75i\\right)} + 0.062i\\right)} C {R_0} - {\\left({c} {\\left(-0.75i \\, {c} - 0.25i\\right)} - 0.016i\\right)} {r0}\\right)} {\\Delta_{e0\\gamma}}\\right)} {r_g}\\right)} \\sqrt{{\\gamma}}}$$"
      ],
      "text/plain": [
       "(1.5*I*C^2*R0^2*(-0.66*c - 0.083) + 1.5*I*(c*(-0.66*c - 0.50) - 0.042)*C*R0*r0 + 1.5*I*((c + 0.33)*c + 0.021)*De0g^2 + 1.5*I*(c*(-0.25*c - 0.083) - 0.0052)*r0^2 - 1.5*I*((c*(1.3*I*c + I) + 0.083*I)*C*R0 - (c*(-I*c - 0.33*I) - 0.021*I)*r0)*De0g)*Omega*sqrt(r_g)/(((-0.25*C^2*R0^2 + De0g^2*(c + 0.25)^2 + C*R0*(-0.50*c - 0.12)*r0 - 0.25*(c + 0.25)^2*r0^2 + (-I*C*R0 + (-I*c - 0.25*I)*r0)*De0g*(c + 0.25))*C*R_f - (C^2*R0^2*(I*c + 0.12*I) - De0g^2*(c + 0.25)*(1.5*I*c + 0.12*I) + (c*(I*c + 0.75*I) + 0.062*I)*C*R0*r0 - (c + 0.25)*(-0.38*I*c - 0.031*I)*r0^2 - (((2*c + 1.5)*c + 0.12)*C*R0 + ((1.5*c + 0.50)*c + 0.031)*r0)*De0g)*DEg + (C^2*R0^2*(-0.50*c - 0.062) + (c*(-0.50*c - 0.38) - 0.031)*C*R0*r0 + (c*(0.75*c + 0.25) + 0.016)*De0g^2 + (c*(-0.19*c - 0.062) - 0.0039)*r0^2 - ((c*(I*c + 0.75*I) + 0.062*I)*C*R0 - (c*(-0.75*I*c - 0.25*I) - 0.016*I)*r0)*De0g)*r_f + (C^2*R0^2*(-0.50*c - 0.062) + (c*(-0.50*c - 0.38) - 0.031)*C*R0*r0 + (c*(0.75*c + 0.25) + 0.016)*De0g^2 + (c*(-0.19*c - 0.062) - 0.0039)*r0^2 - ((c*(I*c + 0.75*I) + 0.062*I)*C*R0 - (c*(-0.75*I*c - 0.25*I) - 0.016*I)*r0)*De0g)*r_g)*sqrt(gamma))"
      ]
     },
     "metadata": {},
     "output_type": "display_data"
    },
    {
     "name": "stdout",
     "output_type": "stream",
     "text": [
      " |0000g000> < 0000g000 | \n",
      "\n",
      " Original coefficient :\n"
     ]
    },
    {
     "data": {
      "text/html": [
       "<html><script type=\"math/tex; mode=display\">\\newcommand{\\Bold}[1]{\\mathbf{#1}}\\sqrt{{\\gamma_g}}</script></html>"
      ],
      "text/latex": [
       "$$\\newcommand{\\Bold}[1]{\\mathbf{#1}}\\sqrt{{\\gamma_g}}$$"
      ],
      "text/plain": [
       "sqrt(gamma_g)"
      ]
     },
     "metadata": {},
     "output_type": "display_data"
    },
    {
     "data": {
      "text/html": [
       "<html><script type=\"math/tex; mode=display\">\\newcommand{\\Bold}[1]{\\mathbf{#1}}\\frac{{\\left({\\left({\\left(2 i \\, {\\Delta_{e\\gamma}} {c} + 2 \\, C + 1.5i \\, {\\Delta_{e\\gamma}} + {c} + 0.75\\right)} {c} + 0.25 \\, C + 0.12i \\, {\\Delta_{e\\gamma}} + 0.062\\right)} C {R_0} + {\\left({\\left({\\left(2 i \\, C - 3 \\, {\\Delta_{e\\gamma}} + 1.5i\\right)} {c} + 1.5i \\, C - {\\Delta_{e\\gamma}} + 0.50i\\right)} {c} + 0.12i \\, C - 0.062 \\, {\\Delta_{e\\gamma}} + 0.031i\\right)} {\\Delta_{e0\\gamma}} + {\\left({\\left({\\left(C + 1.5i \\, {\\Delta_{e\\gamma}} + 0.75\\right)} {c} + 0.75 \\, C + 0.50i \\, {\\Delta_{e\\gamma}} + 0.25\\right)} {c} + 0.062 \\, C + 0.031i \\, {\\Delta_{e\\gamma}} + 0.016\\right)} {r0}\\right)} {\\Omega} \\sqrt{{r_g}}}{{\\left({\\left({\\left({\\Delta_{e\\gamma}} {c} - 0.50i \\, C + 0.25 \\, {\\Delta_{e\\gamma}} - 0.50i \\, {c} - 0.12i\\right)} C {R_0} + {\\left({\\left({\\left(2 i \\, {\\Delta_{e\\gamma}} + 1\\right)} {c} + C + i \\, {\\Delta_{e\\gamma}} + 0.50\\right)} {c} + 0.25 \\, C + 0.12i \\, {\\Delta_{e\\gamma}} + 0.062\\right)} {\\Delta_{e0\\gamma}} + {\\left({\\left({\\Delta_{e\\gamma}} {c} - 0.50i \\, C + 0.50 \\, {\\Delta_{e\\gamma}} - 0.50i \\, {c} - 0.25i\\right)} {c} - 0.12i \\, C + 0.062 \\, {\\Delta_{e\\gamma}} - 0.031i\\right)} {r0}\\right)} C R_{f} + {\\left({\\left({\\left(2 i \\, {\\Delta_{e\\gamma}} {c} + 2 \\, C + 1.5i \\, {\\Delta_{e\\gamma}} + {c} + 0.75\\right)} {c} + 0.25 \\, C + 0.12i \\, {\\Delta_{e\\gamma}} + 0.062\\right)} C {R_0} + {\\left({\\left({\\left(2 i \\, C - 3 \\, {\\Delta_{e\\gamma}} + 1.5i\\right)} {c} + 1.5i \\, C - {\\Delta_{e\\gamma}} + 0.50i\\right)} {c} + 0.12i \\, C - 0.062 \\, {\\Delta_{e\\gamma}} + 0.031i\\right)} {\\Delta_{e0\\gamma}} + {\\left({\\left({\\left(C + 1.5i \\, {\\Delta_{e\\gamma}} + 0.75\\right)} {c} + 0.75 \\, C + 0.50i \\, {\\Delta_{e\\gamma}} + 0.25\\right)} {c} + 0.062 \\, C + 0.031i \\, {\\Delta_{e\\gamma}} + 0.016\\right)} {r0}\\right)} {\\Delta_{E\\gamma}} + {\\left({\\left({\\left({\\Delta_{e\\gamma}} {c} - i \\, C + 0.75 \\, {\\Delta_{e\\gamma}} - 0.50i \\, {c} - 0.38i\\right)} {c} - 0.12i \\, C + 0.062 \\, {\\Delta_{e\\gamma}} - 0.031i\\right)} C {R_0} + {\\left({\\left({\\left(C + 1.5i \\, {\\Delta_{e\\gamma}} + 0.75\\right)} {c} + 0.75 \\, C + 0.50i \\, {\\Delta_{e\\gamma}} + 0.25\\right)} {c} + 0.062 \\, C + 0.031i \\, {\\Delta_{e\\gamma}} + 0.016\\right)} {\\Delta_{e0\\gamma}} + {\\left({\\left({\\left(-0.50i \\, C + 0.75 \\, {\\Delta_{e\\gamma}} - 0.38i\\right)} {c} - 0.38i \\, C + 0.25 \\, {\\Delta_{e\\gamma}} - 0.12i\\right)} {c} - 0.031i \\, C + 0.016 \\, {\\Delta_{e\\gamma}} - 0.0078i\\right)} {r0}\\right)} {r_f} + {\\left({\\left({\\left({\\Delta_{e\\gamma}} {c} - i \\, C + 0.75 \\, {\\Delta_{e\\gamma}} - 0.50i \\, {c} - 0.38i\\right)} {c} - 0.12i \\, C + 0.062 \\, {\\Delta_{e\\gamma}} - 0.031i\\right)} C {R_0} + {\\left({\\left({\\left(C + 1.5i \\, {\\Delta_{e\\gamma}} + 0.75\\right)} {c} + 0.75 \\, C + 0.50i \\, {\\Delta_{e\\gamma}} + 0.25\\right)} {c} + 0.062 \\, C + 0.031i \\, {\\Delta_{e\\gamma}} + 0.016\\right)} {\\Delta_{e0\\gamma}} + {\\left({\\left({\\left(-0.50i \\, C + 0.75 \\, {\\Delta_{e\\gamma}} - 0.38i\\right)} {c} - 0.38i \\, C + 0.25 \\, {\\Delta_{e\\gamma}} - 0.12i\\right)} {c} - 0.031i \\, C + 0.016 \\, {\\Delta_{e\\gamma}} - 0.0078i\\right)} {r0}\\right)} {r_g}\\right)} \\sqrt{{\\gamma}}}</script></html>"
      ],
      "text/latex": [
       "$$\\newcommand{\\Bold}[1]{\\mathbf{#1}}\\frac{{\\left({\\left({\\left(2 i \\, {\\Delta_{e\\gamma}} {c} + 2 \\, C + 1.5i \\, {\\Delta_{e\\gamma}} + {c} + 0.75\\right)} {c} + 0.25 \\, C + 0.12i \\, {\\Delta_{e\\gamma}} + 0.062\\right)} C {R_0} + {\\left({\\left({\\left(2 i \\, C - 3 \\, {\\Delta_{e\\gamma}} + 1.5i\\right)} {c} + 1.5i \\, C - {\\Delta_{e\\gamma}} + 0.50i\\right)} {c} + 0.12i \\, C - 0.062 \\, {\\Delta_{e\\gamma}} + 0.031i\\right)} {\\Delta_{e0\\gamma}} + {\\left({\\left({\\left(C + 1.5i \\, {\\Delta_{e\\gamma}} + 0.75\\right)} {c} + 0.75 \\, C + 0.50i \\, {\\Delta_{e\\gamma}} + 0.25\\right)} {c} + 0.062 \\, C + 0.031i \\, {\\Delta_{e\\gamma}} + 0.016\\right)} {r0}\\right)} {\\Omega} \\sqrt{{r_g}}}{{\\left({\\left({\\left({\\Delta_{e\\gamma}} {c} - 0.50i \\, C + 0.25 \\, {\\Delta_{e\\gamma}} - 0.50i \\, {c} - 0.12i\\right)} C {R_0} + {\\left({\\left({\\left(2 i \\, {\\Delta_{e\\gamma}} + 1\\right)} {c} + C + i \\, {\\Delta_{e\\gamma}} + 0.50\\right)} {c} + 0.25 \\, C + 0.12i \\, {\\Delta_{e\\gamma}} + 0.062\\right)} {\\Delta_{e0\\gamma}} + {\\left({\\left({\\Delta_{e\\gamma}} {c} - 0.50i \\, C + 0.50 \\, {\\Delta_{e\\gamma}} - 0.50i \\, {c} - 0.25i\\right)} {c} - 0.12i \\, C + 0.062 \\, {\\Delta_{e\\gamma}} - 0.031i\\right)} {r0}\\right)} C R_{f} + {\\left({\\left({\\left(2 i \\, {\\Delta_{e\\gamma}} {c} + 2 \\, C + 1.5i \\, {\\Delta_{e\\gamma}} + {c} + 0.75\\right)} {c} + 0.25 \\, C + 0.12i \\, {\\Delta_{e\\gamma}} + 0.062\\right)} C {R_0} + {\\left({\\left({\\left(2 i \\, C - 3 \\, {\\Delta_{e\\gamma}} + 1.5i\\right)} {c} + 1.5i \\, C - {\\Delta_{e\\gamma}} + 0.50i\\right)} {c} + 0.12i \\, C - 0.062 \\, {\\Delta_{e\\gamma}} + 0.031i\\right)} {\\Delta_{e0\\gamma}} + {\\left({\\left({\\left(C + 1.5i \\, {\\Delta_{e\\gamma}} + 0.75\\right)} {c} + 0.75 \\, C + 0.50i \\, {\\Delta_{e\\gamma}} + 0.25\\right)} {c} + 0.062 \\, C + 0.031i \\, {\\Delta_{e\\gamma}} + 0.016\\right)} {r0}\\right)} {\\Delta_{E\\gamma}} + {\\left({\\left({\\left({\\Delta_{e\\gamma}} {c} - i \\, C + 0.75 \\, {\\Delta_{e\\gamma}} - 0.50i \\, {c} - 0.38i\\right)} {c} - 0.12i \\, C + 0.062 \\, {\\Delta_{e\\gamma}} - 0.031i\\right)} C {R_0} + {\\left({\\left({\\left(C + 1.5i \\, {\\Delta_{e\\gamma}} + 0.75\\right)} {c} + 0.75 \\, C + 0.50i \\, {\\Delta_{e\\gamma}} + 0.25\\right)} {c} + 0.062 \\, C + 0.031i \\, {\\Delta_{e\\gamma}} + 0.016\\right)} {\\Delta_{e0\\gamma}} + {\\left({\\left({\\left(-0.50i \\, C + 0.75 \\, {\\Delta_{e\\gamma}} - 0.38i\\right)} {c} - 0.38i \\, C + 0.25 \\, {\\Delta_{e\\gamma}} - 0.12i\\right)} {c} - 0.031i \\, C + 0.016 \\, {\\Delta_{e\\gamma}} - 0.0078i\\right)} {r0}\\right)} {r_f} + {\\left({\\left({\\left({\\Delta_{e\\gamma}} {c} - i \\, C + 0.75 \\, {\\Delta_{e\\gamma}} - 0.50i \\, {c} - 0.38i\\right)} {c} - 0.12i \\, C + 0.062 \\, {\\Delta_{e\\gamma}} - 0.031i\\right)} C {R_0} + {\\left({\\left({\\left(C + 1.5i \\, {\\Delta_{e\\gamma}} + 0.75\\right)} {c} + 0.75 \\, C + 0.50i \\, {\\Delta_{e\\gamma}} + 0.25\\right)} {c} + 0.062 \\, C + 0.031i \\, {\\Delta_{e\\gamma}} + 0.016\\right)} {\\Delta_{e0\\gamma}} + {\\left({\\left({\\left(-0.50i \\, C + 0.75 \\, {\\Delta_{e\\gamma}} - 0.38i\\right)} {c} - 0.38i \\, C + 0.25 \\, {\\Delta_{e\\gamma}} - 0.12i\\right)} {c} - 0.031i \\, C + 0.016 \\, {\\Delta_{e\\gamma}} - 0.0078i\\right)} {r0}\\right)} {r_g}\\right)} \\sqrt{{\\gamma}}}$$"
      ],
      "text/plain": [
       "(((2*I*Deg*c + 2*C + 1.5*I*Deg + c + 0.75)*c + 0.25*C + 0.12*I*Deg + 0.062)*C*R0 + (((2*I*C - 3*Deg + 1.5*I)*c + 1.5*I*C - Deg + 0.50*I)*c + 0.12*I*C - 0.062*Deg + 0.031*I)*De0g + (((C + 1.5*I*Deg + 0.75)*c + 0.75*C + 0.50*I*Deg + 0.25)*c + 0.062*C + 0.031*I*Deg + 0.016)*r0)*Omega*sqrt(r_g)/((((Deg*c - 0.50*I*C + 0.25*Deg - 0.50*I*c - 0.12*I)*C*R0 + (((2*I*Deg + 1)*c + C + I*Deg + 0.50)*c + 0.25*C + 0.12*I*Deg + 0.062)*De0g + ((Deg*c - 0.50*I*C + 0.50*Deg - 0.50*I*c - 0.25*I)*c - 0.12*I*C + 0.062*Deg - 0.031*I)*r0)*C*R_f + (((2*I*Deg*c + 2*C + 1.5*I*Deg + c + 0.75)*c + 0.25*C + 0.12*I*Deg + 0.062)*C*R0 + (((2*I*C - 3*Deg + 1.5*I)*c + 1.5*I*C - Deg + 0.50*I)*c + 0.12*I*C - 0.062*Deg + 0.031*I)*De0g + (((C + 1.5*I*Deg + 0.75)*c + 0.75*C + 0.50*I*Deg + 0.25)*c + 0.062*C + 0.031*I*Deg + 0.016)*r0)*DEg + (((Deg*c - I*C + 0.75*Deg - 0.50*I*c - 0.38*I)*c - 0.12*I*C + 0.062*Deg - 0.031*I)*C*R0 + (((C + 1.5*I*Deg + 0.75)*c + 0.75*C + 0.50*I*Deg + 0.25)*c + 0.062*C + 0.031*I*Deg + 0.016)*De0g + (((-0.50*I*C + 0.75*Deg - 0.38*I)*c - 0.38*I*C + 0.25*Deg - 0.12*I)*c - 0.031*I*C + 0.016*Deg - 0.0078*I)*r0)*r_f + (((Deg*c - I*C + 0.75*Deg - 0.50*I*c - 0.38*I)*c - 0.12*I*C + 0.062*Deg - 0.031*I)*C*R0 + (((C + 1.5*I*Deg + 0.75)*c + 0.75*C + 0.50*I*Deg + 0.25)*c + 0.062*C + 0.031*I*Deg + 0.016)*De0g + (((-0.50*I*C + 0.75*Deg - 0.38*I)*c - 0.38*I*C + 0.25*Deg - 0.12*I)*c - 0.031*I*C + 0.016*Deg - 0.0078*I)*r0)*r_g)*sqrt(gamma))"
      ]
     },
     "metadata": {},
     "output_type": "display_data"
    },
    {
     "name": "stdout",
     "output_type": "stream",
     "text": [
      " |0000g001> < 0000g001 | \n",
      "\n",
      " Original coefficient :\n"
     ]
    },
    {
     "data": {
      "text/html": [
       "<html><script type=\"math/tex; mode=display\">\\newcommand{\\Bold}[1]{\\mathbf{#1}}\\sqrt{{\\gamma_g}}</script></html>"
      ],
      "text/latex": [
       "$$\\newcommand{\\Bold}[1]{\\mathbf{#1}}\\sqrt{{\\gamma_g}}$$"
      ],
      "text/plain": [
       "sqrt(gamma_g)"
      ]
     },
     "metadata": {},
     "output_type": "display_data"
    },
    {
     "data": {
      "text/html": [
       "<html><script type=\"math/tex; mode=display\">\\newcommand{\\Bold}[1]{\\mathbf{#1}}\\frac{{\\left({\\left({\\left(2 i \\, {\\Delta_{e\\gamma}} {c} + 2 \\, C + 1.5i \\, {\\Delta_{e\\gamma}} + {c} + 0.75\\right)} {c} + 0.25 \\, C + 0.12i \\, {\\Delta_{e\\gamma}} + 0.062\\right)} C {R_0} + {\\left({\\left({\\left(2 i \\, C - 3 \\, {\\Delta_{e\\gamma}} + 1.5i\\right)} {c} + 1.5i \\, C - {\\Delta_{e\\gamma}} + 0.50i\\right)} {c} + 0.12i \\, C - 0.062 \\, {\\Delta_{e\\gamma}} + 0.031i\\right)} {\\Delta_{e0\\gamma}} + {\\left({\\left({\\left(C + 1.5i \\, {\\Delta_{e\\gamma}} + 0.75\\right)} {c} + 0.75 \\, C + 0.50i \\, {\\Delta_{e\\gamma}} + 0.25\\right)} {c} + 0.062 \\, C + 0.031i \\, {\\Delta_{e\\gamma}} + 0.016\\right)} {r0}\\right)} {\\Omega} \\sqrt{{r_g}}}{{\\left({\\left({\\left({\\Delta_{e\\gamma}} {c} - 0.50i \\, C + 0.25 \\, {\\Delta_{e\\gamma}} - 0.50i \\, {c} - 0.12i\\right)} C {R_0} + {\\left({\\left({\\left(2 i \\, {\\Delta_{e\\gamma}} + 1\\right)} {c} + C + i \\, {\\Delta_{e\\gamma}} + 0.50\\right)} {c} + 0.25 \\, C + 0.12i \\, {\\Delta_{e\\gamma}} + 0.062\\right)} {\\Delta_{e0\\gamma}} + {\\left({\\left({\\Delta_{e\\gamma}} {c} - 0.50i \\, C + 0.50 \\, {\\Delta_{e\\gamma}} - 0.50i \\, {c} - 0.25i\\right)} {c} - 0.12i \\, C + 0.062 \\, {\\Delta_{e\\gamma}} - 0.031i\\right)} {r0}\\right)} C R_{f} + {\\left({\\left({\\left(2 i \\, {\\Delta_{e\\gamma}} {c} + 2 \\, C + 1.5i \\, {\\Delta_{e\\gamma}} + {c} + 0.75\\right)} {c} + 0.25 \\, C + 0.12i \\, {\\Delta_{e\\gamma}} + 0.062\\right)} C {R_0} + {\\left({\\left({\\left(2 i \\, C - 3 \\, {\\Delta_{e\\gamma}} + 1.5i\\right)} {c} + 1.5i \\, C - {\\Delta_{e\\gamma}} + 0.50i\\right)} {c} + 0.12i \\, C - 0.062 \\, {\\Delta_{e\\gamma}} + 0.031i\\right)} {\\Delta_{e0\\gamma}} + {\\left({\\left({\\left(C + 1.5i \\, {\\Delta_{e\\gamma}} + 0.75\\right)} {c} + 0.75 \\, C + 0.50i \\, {\\Delta_{e\\gamma}} + 0.25\\right)} {c} + 0.062 \\, C + 0.031i \\, {\\Delta_{e\\gamma}} + 0.016\\right)} {r0}\\right)} {\\Delta_{E\\gamma}} + {\\left({\\left({\\left({\\Delta_{e\\gamma}} {c} - i \\, C + 0.75 \\, {\\Delta_{e\\gamma}} - 0.50i \\, {c} - 0.38i\\right)} {c} - 0.12i \\, C + 0.062 \\, {\\Delta_{e\\gamma}} - 0.031i\\right)} C {R_0} + {\\left({\\left({\\left(C + 1.5i \\, {\\Delta_{e\\gamma}} + 0.75\\right)} {c} + 0.75 \\, C + 0.50i \\, {\\Delta_{e\\gamma}} + 0.25\\right)} {c} + 0.062 \\, C + 0.031i \\, {\\Delta_{e\\gamma}} + 0.016\\right)} {\\Delta_{e0\\gamma}} + {\\left({\\left({\\left(-0.50i \\, C + 0.75 \\, {\\Delta_{e\\gamma}} - 0.38i\\right)} {c} - 0.38i \\, C + 0.25 \\, {\\Delta_{e\\gamma}} - 0.12i\\right)} {c} - 0.031i \\, C + 0.016 \\, {\\Delta_{e\\gamma}} - 0.0078i\\right)} {r0}\\right)} {r_f} + {\\left({\\left({\\left({\\Delta_{e\\gamma}} {c} - i \\, C + 0.75 \\, {\\Delta_{e\\gamma}} - 0.50i \\, {c} - 0.38i\\right)} {c} - 0.12i \\, C + 0.062 \\, {\\Delta_{e\\gamma}} - 0.031i\\right)} C {R_0} + {\\left({\\left({\\left(C + 1.5i \\, {\\Delta_{e\\gamma}} + 0.75\\right)} {c} + 0.75 \\, C + 0.50i \\, {\\Delta_{e\\gamma}} + 0.25\\right)} {c} + 0.062 \\, C + 0.031i \\, {\\Delta_{e\\gamma}} + 0.016\\right)} {\\Delta_{e0\\gamma}} + {\\left({\\left({\\left(-0.50i \\, C + 0.75 \\, {\\Delta_{e\\gamma}} - 0.38i\\right)} {c} - 0.38i \\, C + 0.25 \\, {\\Delta_{e\\gamma}} - 0.12i\\right)} {c} - 0.031i \\, C + 0.016 \\, {\\Delta_{e\\gamma}} - 0.0078i\\right)} {r0}\\right)} {r_g}\\right)} \\sqrt{{\\gamma}}}</script></html>"
      ],
      "text/latex": [
       "$$\\newcommand{\\Bold}[1]{\\mathbf{#1}}\\frac{{\\left({\\left({\\left(2 i \\, {\\Delta_{e\\gamma}} {c} + 2 \\, C + 1.5i \\, {\\Delta_{e\\gamma}} + {c} + 0.75\\right)} {c} + 0.25 \\, C + 0.12i \\, {\\Delta_{e\\gamma}} + 0.062\\right)} C {R_0} + {\\left({\\left({\\left(2 i \\, C - 3 \\, {\\Delta_{e\\gamma}} + 1.5i\\right)} {c} + 1.5i \\, C - {\\Delta_{e\\gamma}} + 0.50i\\right)} {c} + 0.12i \\, C - 0.062 \\, {\\Delta_{e\\gamma}} + 0.031i\\right)} {\\Delta_{e0\\gamma}} + {\\left({\\left({\\left(C + 1.5i \\, {\\Delta_{e\\gamma}} + 0.75\\right)} {c} + 0.75 \\, C + 0.50i \\, {\\Delta_{e\\gamma}} + 0.25\\right)} {c} + 0.062 \\, C + 0.031i \\, {\\Delta_{e\\gamma}} + 0.016\\right)} {r0}\\right)} {\\Omega} \\sqrt{{r_g}}}{{\\left({\\left({\\left({\\Delta_{e\\gamma}} {c} - 0.50i \\, C + 0.25 \\, {\\Delta_{e\\gamma}} - 0.50i \\, {c} - 0.12i\\right)} C {R_0} + {\\left({\\left({\\left(2 i \\, {\\Delta_{e\\gamma}} + 1\\right)} {c} + C + i \\, {\\Delta_{e\\gamma}} + 0.50\\right)} {c} + 0.25 \\, C + 0.12i \\, {\\Delta_{e\\gamma}} + 0.062\\right)} {\\Delta_{e0\\gamma}} + {\\left({\\left({\\Delta_{e\\gamma}} {c} - 0.50i \\, C + 0.50 \\, {\\Delta_{e\\gamma}} - 0.50i \\, {c} - 0.25i\\right)} {c} - 0.12i \\, C + 0.062 \\, {\\Delta_{e\\gamma}} - 0.031i\\right)} {r0}\\right)} C R_{f} + {\\left({\\left({\\left(2 i \\, {\\Delta_{e\\gamma}} {c} + 2 \\, C + 1.5i \\, {\\Delta_{e\\gamma}} + {c} + 0.75\\right)} {c} + 0.25 \\, C + 0.12i \\, {\\Delta_{e\\gamma}} + 0.062\\right)} C {R_0} + {\\left({\\left({\\left(2 i \\, C - 3 \\, {\\Delta_{e\\gamma}} + 1.5i\\right)} {c} + 1.5i \\, C - {\\Delta_{e\\gamma}} + 0.50i\\right)} {c} + 0.12i \\, C - 0.062 \\, {\\Delta_{e\\gamma}} + 0.031i\\right)} {\\Delta_{e0\\gamma}} + {\\left({\\left({\\left(C + 1.5i \\, {\\Delta_{e\\gamma}} + 0.75\\right)} {c} + 0.75 \\, C + 0.50i \\, {\\Delta_{e\\gamma}} + 0.25\\right)} {c} + 0.062 \\, C + 0.031i \\, {\\Delta_{e\\gamma}} + 0.016\\right)} {r0}\\right)} {\\Delta_{E\\gamma}} + {\\left({\\left({\\left({\\Delta_{e\\gamma}} {c} - i \\, C + 0.75 \\, {\\Delta_{e\\gamma}} - 0.50i \\, {c} - 0.38i\\right)} {c} - 0.12i \\, C + 0.062 \\, {\\Delta_{e\\gamma}} - 0.031i\\right)} C {R_0} + {\\left({\\left({\\left(C + 1.5i \\, {\\Delta_{e\\gamma}} + 0.75\\right)} {c} + 0.75 \\, C + 0.50i \\, {\\Delta_{e\\gamma}} + 0.25\\right)} {c} + 0.062 \\, C + 0.031i \\, {\\Delta_{e\\gamma}} + 0.016\\right)} {\\Delta_{e0\\gamma}} + {\\left({\\left({\\left(-0.50i \\, C + 0.75 \\, {\\Delta_{e\\gamma}} - 0.38i\\right)} {c} - 0.38i \\, C + 0.25 \\, {\\Delta_{e\\gamma}} - 0.12i\\right)} {c} - 0.031i \\, C + 0.016 \\, {\\Delta_{e\\gamma}} - 0.0078i\\right)} {r0}\\right)} {r_f} + {\\left({\\left({\\left({\\Delta_{e\\gamma}} {c} - i \\, C + 0.75 \\, {\\Delta_{e\\gamma}} - 0.50i \\, {c} - 0.38i\\right)} {c} - 0.12i \\, C + 0.062 \\, {\\Delta_{e\\gamma}} - 0.031i\\right)} C {R_0} + {\\left({\\left({\\left(C + 1.5i \\, {\\Delta_{e\\gamma}} + 0.75\\right)} {c} + 0.75 \\, C + 0.50i \\, {\\Delta_{e\\gamma}} + 0.25\\right)} {c} + 0.062 \\, C + 0.031i \\, {\\Delta_{e\\gamma}} + 0.016\\right)} {\\Delta_{e0\\gamma}} + {\\left({\\left({\\left(-0.50i \\, C + 0.75 \\, {\\Delta_{e\\gamma}} - 0.38i\\right)} {c} - 0.38i \\, C + 0.25 \\, {\\Delta_{e\\gamma}} - 0.12i\\right)} {c} - 0.031i \\, C + 0.016 \\, {\\Delta_{e\\gamma}} - 0.0078i\\right)} {r0}\\right)} {r_g}\\right)} \\sqrt{{\\gamma}}}$$"
      ],
      "text/plain": [
       "(((2*I*Deg*c + 2*C + 1.5*I*Deg + c + 0.75)*c + 0.25*C + 0.12*I*Deg + 0.062)*C*R0 + (((2*I*C - 3*Deg + 1.5*I)*c + 1.5*I*C - Deg + 0.50*I)*c + 0.12*I*C - 0.062*Deg + 0.031*I)*De0g + (((C + 1.5*I*Deg + 0.75)*c + 0.75*C + 0.50*I*Deg + 0.25)*c + 0.062*C + 0.031*I*Deg + 0.016)*r0)*Omega*sqrt(r_g)/((((Deg*c - 0.50*I*C + 0.25*Deg - 0.50*I*c - 0.12*I)*C*R0 + (((2*I*Deg + 1)*c + C + I*Deg + 0.50)*c + 0.25*C + 0.12*I*Deg + 0.062)*De0g + ((Deg*c - 0.50*I*C + 0.50*Deg - 0.50*I*c - 0.25*I)*c - 0.12*I*C + 0.062*Deg - 0.031*I)*r0)*C*R_f + (((2*I*Deg*c + 2*C + 1.5*I*Deg + c + 0.75)*c + 0.25*C + 0.12*I*Deg + 0.062)*C*R0 + (((2*I*C - 3*Deg + 1.5*I)*c + 1.5*I*C - Deg + 0.50*I)*c + 0.12*I*C - 0.062*Deg + 0.031*I)*De0g + (((C + 1.5*I*Deg + 0.75)*c + 0.75*C + 0.50*I*Deg + 0.25)*c + 0.062*C + 0.031*I*Deg + 0.016)*r0)*DEg + (((Deg*c - I*C + 0.75*Deg - 0.50*I*c - 0.38*I)*c - 0.12*I*C + 0.062*Deg - 0.031*I)*C*R0 + (((C + 1.5*I*Deg + 0.75)*c + 0.75*C + 0.50*I*Deg + 0.25)*c + 0.062*C + 0.031*I*Deg + 0.016)*De0g + (((-0.50*I*C + 0.75*Deg - 0.38*I)*c - 0.38*I*C + 0.25*Deg - 0.12*I)*c - 0.031*I*C + 0.016*Deg - 0.0078*I)*r0)*r_f + (((Deg*c - I*C + 0.75*Deg - 0.50*I*c - 0.38*I)*c - 0.12*I*C + 0.062*Deg - 0.031*I)*C*R0 + (((C + 1.5*I*Deg + 0.75)*c + 0.75*C + 0.50*I*Deg + 0.25)*c + 0.062*C + 0.031*I*Deg + 0.016)*De0g + (((-0.50*I*C + 0.75*Deg - 0.38*I)*c - 0.38*I*C + 0.25*Deg - 0.12*I)*c - 0.031*I*C + 0.016*Deg - 0.0078*I)*r0)*r_g)*sqrt(gamma))"
      ]
     },
     "metadata": {},
     "output_type": "display_data"
    },
    {
     "name": "stdout",
     "output_type": "stream",
     "text": [
      " |0100g000> < 0100g000 | \n",
      "\n",
      " Original coefficient :\n"
     ]
    },
    {
     "data": {
      "text/html": [
       "<html><script type=\"math/tex; mode=display\">\\newcommand{\\Bold}[1]{\\mathbf{#1}}\\sqrt{{\\gamma_g}}</script></html>"
      ],
      "text/latex": [
       "$$\\newcommand{\\Bold}[1]{\\mathbf{#1}}\\sqrt{{\\gamma_g}}$$"
      ],
      "text/plain": [
       "sqrt(gamma_g)"
      ]
     },
     "metadata": {},
     "output_type": "display_data"
    },
    {
     "data": {
      "text/html": [
       "<html><script type=\"math/tex; mode=display\">\\newcommand{\\Bold}[1]{\\mathbf{#1}}-\\frac{{\\left({\\left(-6 i \\, {\\left({\\Delta_{e\\gamma}} - 0.50i\\right)}^{2} + 4 i \\, C {\\left(2 i \\, {\\Delta_{e\\gamma}} + 1\\right)}\\right)} {c}^{2} + 0.50i \\, C^{2} - 0.12i \\, {\\left({\\Delta_{e\\gamma}} - 0.50i\\right)}^{2} + 4 i \\, C {\\left(0.12i \\, {\\Delta_{e\\gamma}} + 0.062\\right)} + {\\left(4 i \\, C^{2} - 2 i \\, {\\left({\\Delta_{e\\gamma}} - 0.50i\\right)}^{2} + 4 i \\, C {\\left(1.5i \\, {\\Delta_{e\\gamma}} + 0.75\\right)}\\right)} {c}\\right)} {\\Omega} \\sqrt{{r_g}}}{{\\left({\\left(4 \\, {\\Delta_{e\\gamma}}^{2} {\\left({c} + 0.25\\right)}^{2} - {\\left(C + 0.25\\right)}^{2} - {\\left({\\left(4 i \\, C + 4 i \\, {c} + 2 i\\right)} {c} + i \\, C + 0.25i\\right)} {\\Delta_{e\\gamma}} - {\\left(2 \\, C + 0.50\\right)} {c} - {c}^{2}\\right)} C R_{f} + {\\left({\\left(C {\\left(8 \\, {\\Delta_{e\\gamma}} - 4 i\\right)} + 6 \\, {\\Delta_{e\\gamma}} {\\left(i \\, {\\Delta_{e\\gamma}} + 1\\right)} - 1.5i\\right)} {c}^{2} - 0.50i \\, C^{2} - {\\Delta_{e\\gamma}} {\\left(-0.12i \\, {\\Delta_{e\\gamma}} - 0.12\\right)} - C {\\left(-0.50 \\, {\\Delta_{e\\gamma}} + 0.25i\\right)} - {\\left(4 i \\, C^{2} - C {\\left(6 \\, {\\Delta_{e\\gamma}} - 3 i\\right)} - 2 \\, {\\Delta_{e\\gamma}} {\\left(i \\, {\\Delta_{e\\gamma}} + 1\\right)} + 0.50i\\right)} {c} - 0.031i\\right)} {\\Delta_{E\\gamma}} + {\\left({\\left(3 \\, {\\left({\\Delta_{e\\gamma}} - 0.50i\\right)}^{2} + 2 \\, C {\\left(-2 i \\, {\\Delta_{e\\gamma}} - 1\\right)}\\right)} {c}^{2} - 0.25 \\, C^{2} + 0.062 \\, {\\left({\\Delta_{e\\gamma}} - 0.50i\\right)}^{2} - C {\\left(0.25i \\, {\\Delta_{e\\gamma}} + 0.12\\right)} - {\\left(2 \\, C^{2} - {\\left({\\Delta_{e\\gamma}} - 0.50i\\right)}^{2} + C {\\left(3 i \\, {\\Delta_{e\\gamma}} + 1.5\\right)}\\right)} {c}\\right)} {r_f} + {\\left({\\left({\\left(3 \\, {\\Delta_{e\\gamma}} - 3 i\\right)} {\\Delta_{e\\gamma}} + 2 \\, C {\\left(-2 i \\, {\\Delta_{e\\gamma}} - 1\\right)} - 0.75\\right)} {c}^{2} - 0.25 \\, C^{2} - C {\\left(0.25i \\, {\\Delta_{e\\gamma}} + 0.12\\right)} - {\\Delta_{e\\gamma}} {\\left(-0.062 \\, {\\Delta_{e\\gamma}} + 0.062i\\right)} - {\\left(2 \\, C^{2} - {\\left({\\Delta_{e\\gamma}} - i\\right)} {\\Delta_{e\\gamma}} + C {\\left(3 i \\, {\\Delta_{e\\gamma}} + 1.5\\right)} + 0.25\\right)} {c} - 0.016\\right)} {r_g}\\right)} \\sqrt{{\\gamma}}}</script></html>"
      ],
      "text/latex": [
       "$$\\newcommand{\\Bold}[1]{\\mathbf{#1}}-\\frac{{\\left({\\left(-6 i \\, {\\left({\\Delta_{e\\gamma}} - 0.50i\\right)}^{2} + 4 i \\, C {\\left(2 i \\, {\\Delta_{e\\gamma}} + 1\\right)}\\right)} {c}^{2} + 0.50i \\, C^{2} - 0.12i \\, {\\left({\\Delta_{e\\gamma}} - 0.50i\\right)}^{2} + 4 i \\, C {\\left(0.12i \\, {\\Delta_{e\\gamma}} + 0.062\\right)} + {\\left(4 i \\, C^{2} - 2 i \\, {\\left({\\Delta_{e\\gamma}} - 0.50i\\right)}^{2} + 4 i \\, C {\\left(1.5i \\, {\\Delta_{e\\gamma}} + 0.75\\right)}\\right)} {c}\\right)} {\\Omega} \\sqrt{{r_g}}}{{\\left({\\left(4 \\, {\\Delta_{e\\gamma}}^{2} {\\left({c} + 0.25\\right)}^{2} - {\\left(C + 0.25\\right)}^{2} - {\\left({\\left(4 i \\, C + 4 i \\, {c} + 2 i\\right)} {c} + i \\, C + 0.25i\\right)} {\\Delta_{e\\gamma}} - {\\left(2 \\, C + 0.50\\right)} {c} - {c}^{2}\\right)} C R_{f} + {\\left({\\left(C {\\left(8 \\, {\\Delta_{e\\gamma}} - 4 i\\right)} + 6 \\, {\\Delta_{e\\gamma}} {\\left(i \\, {\\Delta_{e\\gamma}} + 1\\right)} - 1.5i\\right)} {c}^{2} - 0.50i \\, C^{2} - {\\Delta_{e\\gamma}} {\\left(-0.12i \\, {\\Delta_{e\\gamma}} - 0.12\\right)} - C {\\left(-0.50 \\, {\\Delta_{e\\gamma}} + 0.25i\\right)} - {\\left(4 i \\, C^{2} - C {\\left(6 \\, {\\Delta_{e\\gamma}} - 3 i\\right)} - 2 \\, {\\Delta_{e\\gamma}} {\\left(i \\, {\\Delta_{e\\gamma}} + 1\\right)} + 0.50i\\right)} {c} - 0.031i\\right)} {\\Delta_{E\\gamma}} + {\\left({\\left(3 \\, {\\left({\\Delta_{e\\gamma}} - 0.50i\\right)}^{2} + 2 \\, C {\\left(-2 i \\, {\\Delta_{e\\gamma}} - 1\\right)}\\right)} {c}^{2} - 0.25 \\, C^{2} + 0.062 \\, {\\left({\\Delta_{e\\gamma}} - 0.50i\\right)}^{2} - C {\\left(0.25i \\, {\\Delta_{e\\gamma}} + 0.12\\right)} - {\\left(2 \\, C^{2} - {\\left({\\Delta_{e\\gamma}} - 0.50i\\right)}^{2} + C {\\left(3 i \\, {\\Delta_{e\\gamma}} + 1.5\\right)}\\right)} {c}\\right)} {r_f} + {\\left({\\left({\\left(3 \\, {\\Delta_{e\\gamma}} - 3 i\\right)} {\\Delta_{e\\gamma}} + 2 \\, C {\\left(-2 i \\, {\\Delta_{e\\gamma}} - 1\\right)} - 0.75\\right)} {c}^{2} - 0.25 \\, C^{2} - C {\\left(0.25i \\, {\\Delta_{e\\gamma}} + 0.12\\right)} - {\\Delta_{e\\gamma}} {\\left(-0.062 \\, {\\Delta_{e\\gamma}} + 0.062i\\right)} - {\\left(2 \\, C^{2} - {\\left({\\Delta_{e\\gamma}} - i\\right)} {\\Delta_{e\\gamma}} + C {\\left(3 i \\, {\\Delta_{e\\gamma}} + 1.5\\right)} + 0.25\\right)} {c} - 0.016\\right)} {r_g}\\right)} \\sqrt{{\\gamma}}}$$"
      ],
      "text/plain": [
       "-((-6*I*(Deg - 0.50*I)^2 + 4*I*C*(2*I*Deg + 1))*c^2 + 0.50*I*C^2 - 0.12*I*(Deg - 0.50*I)^2 + 4*I*C*(0.12*I*Deg + 0.062) + (4*I*C^2 - 2*I*(Deg - 0.50*I)^2 + 4*I*C*(1.5*I*Deg + 0.75))*c)*Omega*sqrt(r_g)/(((4*Deg^2*(c + 0.25)^2 - (C + 0.25)^2 - ((4*I*C + 4*I*c + 2*I)*c + I*C + 0.25*I)*Deg - (2*C + 0.50)*c - c^2)*C*R_f + ((C*(8*Deg - 4*I) + 6*Deg*(I*Deg + 1) - 1.5*I)*c^2 - 0.50*I*C^2 - Deg*(-0.12*I*Deg - 0.12) - C*(-0.50*Deg + 0.25*I) - (4*I*C^2 - C*(6*Deg - 3*I) - 2*Deg*(I*Deg + 1) + 0.50*I)*c - 0.031*I)*DEg + ((3*(Deg - 0.50*I)^2 + 2*C*(-2*I*Deg - 1))*c^2 - 0.25*C^2 + 0.062*(Deg - 0.50*I)^2 - C*(0.25*I*Deg + 0.12) - (2*C^2 - (Deg - 0.50*I)^2 + C*(3*I*Deg + 1.5))*c)*r_f + (((3*Deg - 3*I)*Deg + 2*C*(-2*I*Deg - 1) - 0.75)*c^2 - 0.25*C^2 - C*(0.25*I*Deg + 0.12) - Deg*(-0.062*Deg + 0.062*I) - (2*C^2 - (Deg - I)*Deg + C*(3*I*Deg + 1.5) + 0.25)*c - 0.016)*r_g)*sqrt(gamma))"
      ]
     },
     "metadata": {},
     "output_type": "display_data"
    },
    {
     "name": "stdout",
     "output_type": "stream",
     "text": [
      " |0100g001> < 0100g001 | \n",
      "\n",
      " Original coefficient :\n"
     ]
    },
    {
     "data": {
      "text/html": [
       "<html><script type=\"math/tex; mode=display\">\\newcommand{\\Bold}[1]{\\mathbf{#1}}\\sqrt{{\\gamma_g}}</script></html>"
      ],
      "text/latex": [
       "$$\\newcommand{\\Bold}[1]{\\mathbf{#1}}\\sqrt{{\\gamma_g}}$$"
      ],
      "text/plain": [
       "sqrt(gamma_g)"
      ]
     },
     "metadata": {},
     "output_type": "display_data"
    }
   ],
   "source": [
    "L_g = []\n",
    "g_index = 6\n",
    "for which in range(4):\n",
    "    L_g.append( lind(g_index,which))"
   ]
  },
  {
   "cell_type": "code",
   "execution_count": 7,
   "id": "7b3831bb",
   "metadata": {},
   "outputs": [
    {
     "name": "stdout",
     "output_type": "stream",
     "text": [
      "symround: Deleted coefficient 2.2204460492503e-16\n",
      "symround: Deleted coefficient 5.5511151231258e-17\n",
      "symround: Deleted coefficient 2.2204460492503e-16\n",
      "symround: Deleted coefficient 1.8503717077086e-17\n",
      "symround: Deleted coefficient 1.1102230246252e-16\n",
      "symround: Deleted coefficient 9.2518585385430e-18\n",
      "symround: Deleted coefficient 2.2204460492503e-16\n",
      "symround: Deleted coefficient 5.5511151231258e-17\n",
      "symround: Deleted coefficient 2.2204460492503e-16\n",
      "symround: Deleted coefficient 1.8503717077086e-17\n",
      "symround: Deleted coefficient 1.1102230246252e-16\n",
      "symround: Deleted coefficient 9.2518585385430e-18\n",
      "symround: Deleted coefficient 4.4408920985006e-16\n",
      "symround: Deleted coefficient 2.2204460492503e-16\n",
      "symround: Deleted coefficient 1.7763568394003e-15\n",
      "symround: Deleted coefficient 4.4408920985006e-16\n",
      "symround: Deleted coefficient 4.4408920985006e-16\n",
      "symround: Deleted coefficient 1.1102230246252e-16\n"
     ]
    }
   ],
   "source": [
    "# Get Modulus\n",
    "L_g2 = []\n",
    "for i in range(4):\n",
    "    L_g2.append( symround(L_g[i]*L_g[i].conjugate() ,digits = 14))  \n",
    "\n",
    "# Do an early substitution\n",
    "for i in range(4):\n",
    "    L_g2[i] = L_g2[i].subs(R_f = 1 , R0 = 1 , r0 = 1)\n",
    "    \n",
    "# Simplify a bit\n",
    "for i in range(4):\n",
    "    L_g2[i] = symround(L_g2[i].numerator().expand() /  L_g2[i].denominator().expand(),digits=14)\n",
    "    L_g2[i] = MMA_simplify(L_g2[i])"
   ]
  },
  {
   "cell_type": "code",
   "execution_count": 124,
   "id": "ac1865cc",
   "metadata": {},
   "outputs": [
    {
     "data": {
      "text/html": [
       "<html><script type=\"math/tex; mode=display\">\\newcommand{\\Bold}[1]{\\mathbf{#1}}\\frac{{\\left(C^{2} + 0.25 \\, {\\Delta_{e\\gamma}}^{2} + 0.50 \\, C + 0.062\\right)} {\\Omega}^{2} \\sqrt{{r_g}} \\overline{\\sqrt{{r_g}}}}{{\\left(C^{2} {\\Delta_{E\\gamma}}^{2} + 2 \\, C^{2} {\\Delta_{E\\gamma}} {\\Delta_{e\\gamma}} + C^{2} {\\Delta_{e\\gamma}}^{2} + 0.25 \\, {\\Delta_{E\\gamma}}^{2} {\\Delta_{e\\gamma}}^{2} + 0.50 \\, C {\\Delta_{E\\gamma}}^{2} + {\\left(0.25 \\, C^{2} + 0.062 \\, {\\Delta_{e\\gamma}}^{2} + 0.12 \\, C + 0.016\\right)} {r_f}^{2} + {\\left(0.50 \\, {\\Delta_{e\\gamma}}^{2} + 0.50 \\, C + 0.12\\right)} C {r_g} + {\\left(0.25 \\, C^{2} + 0.062 \\, {\\Delta_{e\\gamma}}^{2} + 0.12 \\, C + 0.016\\right)} {r_g}^{2} + 0.25 \\, C^{2} + 0.062 \\, {\\Delta_{E\\gamma}}^{2} + {\\left({\\left(0.50 \\, {\\Delta_{e\\gamma}}^{2} + 0.50 \\, C + 0.12\\right)} C + {\\left(0.50 \\, C^{2} + 0.12 \\, {\\Delta_{e\\gamma}}^{2} + 0.25 \\, C + 0.031\\right)} {r_g}\\right)} {r_f}\\right)} {\\gamma}}</script></html>"
      ],
      "text/latex": [
       "$$\\newcommand{\\Bold}[1]{\\mathbf{#1}}\\frac{{\\left(C^{2} + 0.25 \\, {\\Delta_{e\\gamma}}^{2} + 0.50 \\, C + 0.062\\right)} {\\Omega}^{2} \\sqrt{{r_g}} \\overline{\\sqrt{{r_g}}}}{{\\left(C^{2} {\\Delta_{E\\gamma}}^{2} + 2 \\, C^{2} {\\Delta_{E\\gamma}} {\\Delta_{e\\gamma}} + C^{2} {\\Delta_{e\\gamma}}^{2} + 0.25 \\, {\\Delta_{E\\gamma}}^{2} {\\Delta_{e\\gamma}}^{2} + 0.50 \\, C {\\Delta_{E\\gamma}}^{2} + {\\left(0.25 \\, C^{2} + 0.062 \\, {\\Delta_{e\\gamma}}^{2} + 0.12 \\, C + 0.016\\right)} {r_f}^{2} + {\\left(0.50 \\, {\\Delta_{e\\gamma}}^{2} + 0.50 \\, C + 0.12\\right)} C {r_g} + {\\left(0.25 \\, C^{2} + 0.062 \\, {\\Delta_{e\\gamma}}^{2} + 0.12 \\, C + 0.016\\right)} {r_g}^{2} + 0.25 \\, C^{2} + 0.062 \\, {\\Delta_{E\\gamma}}^{2} + {\\left({\\left(0.50 \\, {\\Delta_{e\\gamma}}^{2} + 0.50 \\, C + 0.12\\right)} C + {\\left(0.50 \\, C^{2} + 0.12 \\, {\\Delta_{e\\gamma}}^{2} + 0.25 \\, C + 0.031\\right)} {r_g}\\right)} {r_f}\\right)} {\\gamma}}$$"
      ],
      "text/plain": [
       "(C^2 + 0.25*Deg^2 + 0.50*C + 0.062)*Omega^2*sqrt(r_g)*conjugate(sqrt(r_g))/((C^2*DEg^2 + 2*C^2*DEg*Deg + C^2*Deg^2 + 0.25*DEg^2*Deg^2 + 0.50*C*DEg^2 + (0.25*C^2 + 0.062*Deg^2 + 0.12*C + 0.016)*r_f^2 + (0.50*Deg^2 + 0.50*C + 0.12)*C*r_g + (0.25*C^2 + 0.062*Deg^2 + 0.12*C + 0.016)*r_g^2 + 0.25*C^2 + 0.062*DEg^2 + ((0.50*Deg^2 + 0.50*C + 0.12)*C + (0.50*C^2 + 0.12*Deg^2 + 0.25*C + 0.031)*r_g)*r_f)*gamma)"
      ]
     },
     "metadata": {},
     "output_type": "display_data"
    }
   ],
   "source": [
    "show(symround(L_g2[1]))"
   ]
  },
  {
   "cell_type": "code",
   "execution_count": 8,
   "id": "dc02c2fb",
   "metadata": {},
   "outputs": [],
   "source": [
    "L_g3 = []\n",
    "for i in range(4):\n",
    "    x = L_g2[i].subs( Deg=C^(1/2) *Deg,De0g=C^(1/2) *De0g,DEg=C^(1/2) *DEg, P2=P2*C^2, P1=P1*C^2, c2=C^2*c2, c3=c3*C^2, c=C)\n",
    "    x = symround(x.numerator().expand().collect(C) /  x.denominator().expand().collect(C),digits=14)\n",
    "    L_g3.append(x)"
   ]
  },
  {
   "cell_type": "code",
   "execution_count": 20,
   "id": "782be4e3",
   "metadata": {},
   "outputs": [
    {
     "data": {
      "text/html": [
       "<html><script type=\"math/tex; mode=display\">\\newcommand{\\Bold}[1]{\\mathbf{#1}}\\frac{4 \\, C^{7} {\\Delta_{e\\gamma}}^{2} {\\Omega}^{2} \\sqrt{{r_g}} \\overline{\\sqrt{{r_g}}} + {\\left(2.2 \\, {\\Delta_{e\\gamma}}^{4} {\\Omega}^{2} \\sqrt{{r_g}} \\overline{\\sqrt{{r_g}}} + 6 \\, {\\Delta_{e\\gamma}}^{2} {\\Omega}^{2} \\sqrt{{r_g}} \\overline{\\sqrt{{r_g}}} + 4 \\, {\\Omega}^{2} \\sqrt{{r_g}} \\overline{\\sqrt{{r_g}}}\\right)} C^{6} + {\\left(1.5 \\, {\\Delta_{e\\gamma}}^{4} {\\Omega}^{2} \\sqrt{{r_g}} \\overline{\\sqrt{{r_g}}} + 5.8 \\, {\\Delta_{e\\gamma}}^{2} {\\Omega}^{2} \\sqrt{{r_g}} \\overline{\\sqrt{{r_g}}} + 5 \\, {\\Omega}^{2} \\sqrt{{r_g}} \\overline{\\sqrt{{r_g}}}\\right)} C^{5} + {\\left(0.34 \\, {\\Delta_{e\\gamma}}^{4} {\\Omega}^{2} \\sqrt{{r_g}} \\overline{\\sqrt{{r_g}}} + 1.9 \\, {\\Delta_{e\\gamma}}^{2} {\\Omega}^{2} \\sqrt{{r_g}} \\overline{\\sqrt{{r_g}}} + 2.3 \\, {\\Omega}^{2} \\sqrt{{r_g}} \\overline{\\sqrt{{r_g}}}\\right)} C^{4} + {\\left(0.031 \\, {\\Delta_{e\\gamma}}^{4} {\\Omega}^{2} \\sqrt{{r_g}} \\overline{\\sqrt{{r_g}}} + 0.29 \\, {\\Delta_{e\\gamma}}^{2} {\\Omega}^{2} \\sqrt{{r_g}} \\overline{\\sqrt{{r_g}}} + 0.50 \\, {\\Omega}^{2} \\sqrt{{r_g}} \\overline{\\sqrt{{r_g}}}\\right)} C^{3} + 0.000061 \\, {\\Omega}^{2} \\sqrt{{r_g}} \\overline{\\sqrt{{r_g}}} + {\\left(0.00098 \\, {\\Delta_{e\\gamma}}^{4} {\\Omega}^{2} \\sqrt{{r_g}} \\overline{\\sqrt{{r_g}}} + 0.020 \\, {\\Delta_{e\\gamma}}^{2} {\\Omega}^{2} \\sqrt{{r_g}} \\overline{\\sqrt{{r_g}}} + 0.055 \\, {\\Omega}^{2} \\sqrt{{r_g}} \\overline{\\sqrt{{r_g}}}\\right)} C^{2} + {\\left(0.00049 \\, {\\Delta_{e\\gamma}}^{2} {\\Omega}^{2} \\sqrt{{r_g}} \\overline{\\sqrt{{r_g}}} + 0.0029 \\, {\\Omega}^{2} \\sqrt{{r_g}} \\overline{\\sqrt{{r_g}}}\\right)} C}{{\\left(4 \\, {\\Delta_{E\\gamma}}^{2} {\\Delta_{e\\gamma}}^{2} {\\gamma} + 4 \\, {\\Delta_{E\\gamma}} {\\Delta_{e\\gamma}}^{3} {\\gamma} + {\\Delta_{e\\gamma}}^{4} {\\gamma}\\right)} C^{8} + {\\left(2.2 \\, {\\Delta_{E\\gamma}}^{2} {\\Delta_{e\\gamma}}^{4} {\\gamma} + 1.5 \\, {\\Delta_{e\\gamma}}^{4} {\\gamma} {r_f} + 1.5 \\, {\\Delta_{e\\gamma}}^{4} {\\gamma} {r_g} + 6 \\, {\\Delta_{E\\gamma}}^{2} {\\Delta_{e\\gamma}}^{2} {\\gamma} + 2 \\, {\\Delta_{E\\gamma}} {\\Delta_{e\\gamma}}^{3} {\\gamma} + {\\Delta_{e\\gamma}}^{4} {\\gamma} + {\\Delta_{e\\gamma}}^{2} {\\gamma} {r_f}^{2} + 2 \\, {\\Delta_{e\\gamma}}^{2} {\\gamma} {r_f} {r_g} + {\\Delta_{e\\gamma}}^{2} {\\gamma} {r_g}^{2} + 2 \\, {\\Delta_{e\\gamma}}^{2} {\\gamma} {r_f} + 2 \\, {\\Delta_{e\\gamma}}^{2} {\\gamma} {r_g} + 4 \\, {\\Delta_{E\\gamma}}^{2} {\\gamma} + 4 \\, {\\Delta_{E\\gamma}} {\\Delta_{e\\gamma}} {\\gamma} + 2 \\, {\\Delta_{e\\gamma}}^{2} {\\gamma}\\right)} C^{7} + {\\left(1.5 \\, {\\Delta_{E\\gamma}}^{2} {\\Delta_{e\\gamma}}^{4} {\\gamma} + 0.56 \\, {\\Delta_{e\\gamma}}^{4} {\\gamma} {r_f}^{2} + 1.1 \\, {\\Delta_{e\\gamma}}^{4} {\\gamma} {r_f} {r_g} + 0.56 \\, {\\Delta_{e\\gamma}}^{4} {\\gamma} {r_g}^{2} + 1.2 \\, {\\Delta_{e\\gamma}}^{4} {\\gamma} {r_f} + 1.2 \\, {\\Delta_{e\\gamma}}^{4} {\\gamma} {r_g} + 5.8 \\, {\\Delta_{E\\gamma}}^{2} {\\Delta_{e\\gamma}}^{2} {\\gamma} + 0.25 \\, {\\Delta_{E\\gamma}} {\\Delta_{e\\gamma}}^{3} {\\gamma} + 0.38 \\, {\\Delta_{e\\gamma}}^{4} {\\gamma} + 1.5 \\, {\\Delta_{e\\gamma}}^{2} {\\gamma} {r_f}^{2} + 3 \\, {\\Delta_{e\\gamma}}^{2} {\\gamma} {r_f} {r_g} + 1.5 \\, {\\Delta_{e\\gamma}}^{2} {\\gamma} {r_g}^{2} + 3.8 \\, {\\Delta_{e\\gamma}}^{2} {\\gamma} {r_f} + 3.8 \\, {\\Delta_{e\\gamma}}^{2} {\\gamma} {r_g} + 5 \\, {\\Delta_{E\\gamma}}^{2} {\\gamma} + {\\Delta_{E\\gamma}} {\\Delta_{e\\gamma}} {\\gamma} + 1.5 \\, {\\Delta_{e\\gamma}}^{2} {\\gamma} + {\\gamma} {r_f}^{2} + 2 \\, {\\gamma} {r_f} {r_g} + {\\gamma} {r_g}^{2} + 2 \\, {\\gamma} {r_f} + 2 \\, {\\gamma} {r_g} + {\\gamma}\\right)} C^{6} + {\\left(0.34 \\, {\\Delta_{E\\gamma}}^{2} {\\Delta_{e\\gamma}}^{4} {\\gamma} + 0.38 \\, {\\Delta_{e\\gamma}}^{4} {\\gamma} {r_f}^{2} + 0.75 \\, {\\Delta_{e\\gamma}}^{4} {\\gamma} {r_f} {r_g} + 0.38 \\, {\\Delta_{e\\gamma}}^{4} {\\gamma} {r_g}^{2} + 0.38 \\, {\\Delta_{e\\gamma}}^{4} {\\gamma} {r_f} + 0.38 \\, {\\Delta_{e\\gamma}}^{4} {\\gamma} {r_g} + 1.9 \\, {\\Delta_{E\\gamma}}^{2} {\\Delta_{e\\gamma}}^{2} {\\gamma} + 0.062 \\, {\\Delta_{e\\gamma}}^{4} {\\gamma} + 1.4 \\, {\\Delta_{e\\gamma}}^{2} {\\gamma} {r_f}^{2} + 2.9 \\, {\\Delta_{e\\gamma}}^{2} {\\gamma} {r_f} {r_g} + 1.4 \\, {\\Delta_{e\\gamma}}^{2} {\\gamma} {r_g}^{2} + 1.8 \\, {\\Delta_{e\\gamma}}^{2} {\\gamma} {r_f} + 1.8 \\, {\\Delta_{e\\gamma}}^{2} {\\gamma} {r_g} + 2.3 \\, {\\Delta_{E\\gamma}}^{2} {\\gamma} + 0.062 \\, {\\Delta_{E\\gamma}} {\\Delta_{e\\gamma}} {\\gamma} + 0.41 \\, {\\Delta_{e\\gamma}}^{2} {\\gamma} + 1.2 \\, {\\gamma} {r_f}^{2} + 2.5 \\, {\\gamma} {r_f} {r_g} + 1.2 \\, {\\gamma} {r_g}^{2} + 1.8 \\, {\\gamma} {r_f} + 1.8 \\, {\\gamma} {r_g} + 0.50 \\, {\\gamma}\\right)} C^{5} + {\\left(0.031 \\, {\\Delta_{E\\gamma}}^{2} {\\Delta_{e\\gamma}}^{4} {\\gamma} + 0.086 \\, {\\Delta_{e\\gamma}}^{4} {\\gamma} {r_f}^{2} + 0.17 \\, {\\Delta_{e\\gamma}}^{4} {\\gamma} {r_f} {r_g} + 0.086 \\, {\\Delta_{e\\gamma}}^{4} {\\gamma} {r_g}^{2} + 0.047 \\, {\\Delta_{e\\gamma}}^{4} {\\gamma} {r_f} + 0.047 \\, {\\Delta_{e\\gamma}}^{4} {\\gamma} {r_g} + 0.29 \\, {\\Delta_{E\\gamma}}^{2} {\\Delta_{e\\gamma}}^{2} {\\gamma} + 0.0039 \\, {\\Delta_{e\\gamma}}^{4} {\\gamma} + 0.48 \\, {\\Delta_{e\\gamma}}^{2} {\\gamma} {r_f}^{2} + 0.97 \\, {\\Delta_{e\\gamma}}^{2} {\\gamma} {r_f} {r_g} + 0.48 \\, {\\Delta_{e\\gamma}}^{2} {\\gamma} {r_g}^{2} + 0.36 \\, {\\Delta_{e\\gamma}}^{2} {\\gamma} {r_f} + 0.36 \\, {\\Delta_{e\\gamma}}^{2} {\\gamma} {r_g} + 0.50 \\, {\\Delta_{E\\gamma}}^{2} {\\gamma} + 0.047 \\, {\\Delta_{e\\gamma}}^{2} {\\gamma} + 0.58 \\, {\\gamma} {r_f}^{2} + 1.2 \\, {\\gamma} {r_f} {r_g} + 0.58 \\, {\\gamma} {r_g}^{2} + 0.53 \\, {\\gamma} {r_f} + 0.53 \\, {\\gamma} {r_g} + 0.094 \\, {\\gamma}\\right)} C^{4} + {\\left(0.00098 \\, {\\Delta_{E\\gamma}}^{2} {\\Delta_{e\\gamma}}^{4} {\\gamma} + 0.0078 \\, {\\Delta_{e\\gamma}}^{4} {\\gamma} {r_f}^{2} + 0.016 \\, {\\Delta_{e\\gamma}}^{4} {\\gamma} {r_f} {r_g} + 0.0078 \\, {\\Delta_{e\\gamma}}^{4} {\\gamma} {r_g}^{2} + 0.0020 \\, {\\Delta_{e\\gamma}}^{4} {\\gamma} {r_f} + 0.0020 \\, {\\Delta_{e\\gamma}}^{4} {\\gamma} {r_g} + 0.020 \\, {\\Delta_{E\\gamma}}^{2} {\\Delta_{e\\gamma}}^{2} {\\gamma} + 0.072 \\, {\\Delta_{e\\gamma}}^{2} {\\gamma} {r_f}^{2} + 0.14 \\, {\\Delta_{e\\gamma}}^{2} {\\gamma} {r_f} {r_g} + 0.072 \\, {\\Delta_{e\\gamma}}^{2} {\\gamma} {r_g}^{2} + 0.031 \\, {\\Delta_{e\\gamma}}^{2} {\\gamma} {r_f} + 0.031 \\, {\\Delta_{e\\gamma}}^{2} {\\gamma} {r_g} + 0.055 \\, {\\Delta_{E\\gamma}}^{2} {\\gamma} + 0.0020 \\, {\\Delta_{e\\gamma}}^{2} {\\gamma} + 0.12 \\, {\\gamma} {r_f}^{2} + 0.25 \\, {\\gamma} {r_f} {r_g} + 0.12 \\, {\\gamma} {r_g}^{2} + 0.074 \\, {\\gamma} {r_f} + 0.074 \\, {\\gamma} {r_g} + 0.0078 \\, {\\gamma}\\right)} C^{3} + {\\left(0.00024 \\, {\\Delta_{e\\gamma}}^{4} {\\gamma} {r_f}^{2} + 0.00049 \\, {\\Delta_{e\\gamma}}^{4} {\\gamma} {r_f} {r_g} + 0.00024 \\, {\\Delta_{e\\gamma}}^{4} {\\gamma} {r_g}^{2} + 0.00049 \\, {\\Delta_{E\\gamma}}^{2} {\\Delta_{e\\gamma}}^{2} {\\gamma} + 0.0049 \\, {\\Delta_{e\\gamma}}^{2} {\\gamma} {r_f}^{2} + 0.0098 \\, {\\Delta_{e\\gamma}}^{2} {\\gamma} {r_f} {r_g} + 0.0049 \\, {\\Delta_{e\\gamma}}^{2} {\\gamma} {r_g}^{2} + 0.00098 \\, {\\Delta_{e\\gamma}}^{2} {\\gamma} {r_f} + 0.00098 \\, {\\Delta_{e\\gamma}}^{2} {\\gamma} {r_g} + 0.0029 \\, {\\Delta_{E\\gamma}}^{2} {\\gamma} + 0.014 \\, {\\gamma} {r_f}^{2} + 0.027 \\, {\\gamma} {r_f} {r_g} + 0.014 \\, {\\gamma} {r_g}^{2} + 0.0049 \\, {\\gamma} {r_f} + 0.0049 \\, {\\gamma} {r_g} + 0.00024 \\, {\\gamma}\\right)} C^{2} + 0.000015 \\, {\\gamma} {r_f}^{2} + 0.000031 \\, {\\gamma} {r_f} {r_g} + 0.000015 \\, {\\gamma} {r_g}^{2} + {\\left(0.00012 \\, {\\Delta_{e\\gamma}}^{2} {\\gamma} {r_f}^{2} + 0.00024 \\, {\\Delta_{e\\gamma}}^{2} {\\gamma} {r_f} {r_g} + 0.00012 \\, {\\Delta_{e\\gamma}}^{2} {\\gamma} {r_g}^{2} + 0.000061 \\, {\\Delta_{E\\gamma}}^{2} {\\gamma} + 0.00073 \\, {\\gamma} {r_f}^{2} + 0.0015 \\, {\\gamma} {r_f} {r_g} + 0.00073 \\, {\\gamma} {r_g}^{2} + 0.00012 \\, {\\gamma} {r_f} + 0.00012 \\, {\\gamma} {r_g}\\right)} C}</script></html>"
      ],
      "text/latex": [
       "$$\\newcommand{\\Bold}[1]{\\mathbf{#1}}\\frac{4 \\, C^{7} {\\Delta_{e\\gamma}}^{2} {\\Omega}^{2} \\sqrt{{r_g}} \\overline{\\sqrt{{r_g}}} + {\\left(2.2 \\, {\\Delta_{e\\gamma}}^{4} {\\Omega}^{2} \\sqrt{{r_g}} \\overline{\\sqrt{{r_g}}} + 6 \\, {\\Delta_{e\\gamma}}^{2} {\\Omega}^{2} \\sqrt{{r_g}} \\overline{\\sqrt{{r_g}}} + 4 \\, {\\Omega}^{2} \\sqrt{{r_g}} \\overline{\\sqrt{{r_g}}}\\right)} C^{6} + {\\left(1.5 \\, {\\Delta_{e\\gamma}}^{4} {\\Omega}^{2} \\sqrt{{r_g}} \\overline{\\sqrt{{r_g}}} + 5.8 \\, {\\Delta_{e\\gamma}}^{2} {\\Omega}^{2} \\sqrt{{r_g}} \\overline{\\sqrt{{r_g}}} + 5 \\, {\\Omega}^{2} \\sqrt{{r_g}} \\overline{\\sqrt{{r_g}}}\\right)} C^{5} + {\\left(0.34 \\, {\\Delta_{e\\gamma}}^{4} {\\Omega}^{2} \\sqrt{{r_g}} \\overline{\\sqrt{{r_g}}} + 1.9 \\, {\\Delta_{e\\gamma}}^{2} {\\Omega}^{2} \\sqrt{{r_g}} \\overline{\\sqrt{{r_g}}} + 2.3 \\, {\\Omega}^{2} \\sqrt{{r_g}} \\overline{\\sqrt{{r_g}}}\\right)} C^{4} + {\\left(0.031 \\, {\\Delta_{e\\gamma}}^{4} {\\Omega}^{2} \\sqrt{{r_g}} \\overline{\\sqrt{{r_g}}} + 0.29 \\, {\\Delta_{e\\gamma}}^{2} {\\Omega}^{2} \\sqrt{{r_g}} \\overline{\\sqrt{{r_g}}} + 0.50 \\, {\\Omega}^{2} \\sqrt{{r_g}} \\overline{\\sqrt{{r_g}}}\\right)} C^{3} + 0.000061 \\, {\\Omega}^{2} \\sqrt{{r_g}} \\overline{\\sqrt{{r_g}}} + {\\left(0.00098 \\, {\\Delta_{e\\gamma}}^{4} {\\Omega}^{2} \\sqrt{{r_g}} \\overline{\\sqrt{{r_g}}} + 0.020 \\, {\\Delta_{e\\gamma}}^{2} {\\Omega}^{2} \\sqrt{{r_g}} \\overline{\\sqrt{{r_g}}} + 0.055 \\, {\\Omega}^{2} \\sqrt{{r_g}} \\overline{\\sqrt{{r_g}}}\\right)} C^{2} + {\\left(0.00049 \\, {\\Delta_{e\\gamma}}^{2} {\\Omega}^{2} \\sqrt{{r_g}} \\overline{\\sqrt{{r_g}}} + 0.0029 \\, {\\Omega}^{2} \\sqrt{{r_g}} \\overline{\\sqrt{{r_g}}}\\right)} C}{{\\left(4 \\, {\\Delta_{E\\gamma}}^{2} {\\Delta_{e\\gamma}}^{2} {\\gamma} + 4 \\, {\\Delta_{E\\gamma}} {\\Delta_{e\\gamma}}^{3} {\\gamma} + {\\Delta_{e\\gamma}}^{4} {\\gamma}\\right)} C^{8} + {\\left(2.2 \\, {\\Delta_{E\\gamma}}^{2} {\\Delta_{e\\gamma}}^{4} {\\gamma} + 1.5 \\, {\\Delta_{e\\gamma}}^{4} {\\gamma} {r_f} + 1.5 \\, {\\Delta_{e\\gamma}}^{4} {\\gamma} {r_g} + 6 \\, {\\Delta_{E\\gamma}}^{2} {\\Delta_{e\\gamma}}^{2} {\\gamma} + 2 \\, {\\Delta_{E\\gamma}} {\\Delta_{e\\gamma}}^{3} {\\gamma} + {\\Delta_{e\\gamma}}^{4} {\\gamma} + {\\Delta_{e\\gamma}}^{2} {\\gamma} {r_f}^{2} + 2 \\, {\\Delta_{e\\gamma}}^{2} {\\gamma} {r_f} {r_g} + {\\Delta_{e\\gamma}}^{2} {\\gamma} {r_g}^{2} + 2 \\, {\\Delta_{e\\gamma}}^{2} {\\gamma} {r_f} + 2 \\, {\\Delta_{e\\gamma}}^{2} {\\gamma} {r_g} + 4 \\, {\\Delta_{E\\gamma}}^{2} {\\gamma} + 4 \\, {\\Delta_{E\\gamma}} {\\Delta_{e\\gamma}} {\\gamma} + 2 \\, {\\Delta_{e\\gamma}}^{2} {\\gamma}\\right)} C^{7} + {\\left(1.5 \\, {\\Delta_{E\\gamma}}^{2} {\\Delta_{e\\gamma}}^{4} {\\gamma} + 0.56 \\, {\\Delta_{e\\gamma}}^{4} {\\gamma} {r_f}^{2} + 1.1 \\, {\\Delta_{e\\gamma}}^{4} {\\gamma} {r_f} {r_g} + 0.56 \\, {\\Delta_{e\\gamma}}^{4} {\\gamma} {r_g}^{2} + 1.2 \\, {\\Delta_{e\\gamma}}^{4} {\\gamma} {r_f} + 1.2 \\, {\\Delta_{e\\gamma}}^{4} {\\gamma} {r_g} + 5.8 \\, {\\Delta_{E\\gamma}}^{2} {\\Delta_{e\\gamma}}^{2} {\\gamma} + 0.25 \\, {\\Delta_{E\\gamma}} {\\Delta_{e\\gamma}}^{3} {\\gamma} + 0.38 \\, {\\Delta_{e\\gamma}}^{4} {\\gamma} + 1.5 \\, {\\Delta_{e\\gamma}}^{2} {\\gamma} {r_f}^{2} + 3 \\, {\\Delta_{e\\gamma}}^{2} {\\gamma} {r_f} {r_g} + 1.5 \\, {\\Delta_{e\\gamma}}^{2} {\\gamma} {r_g}^{2} + 3.8 \\, {\\Delta_{e\\gamma}}^{2} {\\gamma} {r_f} + 3.8 \\, {\\Delta_{e\\gamma}}^{2} {\\gamma} {r_g} + 5 \\, {\\Delta_{E\\gamma}}^{2} {\\gamma} + {\\Delta_{E\\gamma}} {\\Delta_{e\\gamma}} {\\gamma} + 1.5 \\, {\\Delta_{e\\gamma}}^{2} {\\gamma} + {\\gamma} {r_f}^{2} + 2 \\, {\\gamma} {r_f} {r_g} + {\\gamma} {r_g}^{2} + 2 \\, {\\gamma} {r_f} + 2 \\, {\\gamma} {r_g} + {\\gamma}\\right)} C^{6} + {\\left(0.34 \\, {\\Delta_{E\\gamma}}^{2} {\\Delta_{e\\gamma}}^{4} {\\gamma} + 0.38 \\, {\\Delta_{e\\gamma}}^{4} {\\gamma} {r_f}^{2} + 0.75 \\, {\\Delta_{e\\gamma}}^{4} {\\gamma} {r_f} {r_g} + 0.38 \\, {\\Delta_{e\\gamma}}^{4} {\\gamma} {r_g}^{2} + 0.38 \\, {\\Delta_{e\\gamma}}^{4} {\\gamma} {r_f} + 0.38 \\, {\\Delta_{e\\gamma}}^{4} {\\gamma} {r_g} + 1.9 \\, {\\Delta_{E\\gamma}}^{2} {\\Delta_{e\\gamma}}^{2} {\\gamma} + 0.062 \\, {\\Delta_{e\\gamma}}^{4} {\\gamma} + 1.4 \\, {\\Delta_{e\\gamma}}^{2} {\\gamma} {r_f}^{2} + 2.9 \\, {\\Delta_{e\\gamma}}^{2} {\\gamma} {r_f} {r_g} + 1.4 \\, {\\Delta_{e\\gamma}}^{2} {\\gamma} {r_g}^{2} + 1.8 \\, {\\Delta_{e\\gamma}}^{2} {\\gamma} {r_f} + 1.8 \\, {\\Delta_{e\\gamma}}^{2} {\\gamma} {r_g} + 2.3 \\, {\\Delta_{E\\gamma}}^{2} {\\gamma} + 0.062 \\, {\\Delta_{E\\gamma}} {\\Delta_{e\\gamma}} {\\gamma} + 0.41 \\, {\\Delta_{e\\gamma}}^{2} {\\gamma} + 1.2 \\, {\\gamma} {r_f}^{2} + 2.5 \\, {\\gamma} {r_f} {r_g} + 1.2 \\, {\\gamma} {r_g}^{2} + 1.8 \\, {\\gamma} {r_f} + 1.8 \\, {\\gamma} {r_g} + 0.50 \\, {\\gamma}\\right)} C^{5} + {\\left(0.031 \\, {\\Delta_{E\\gamma}}^{2} {\\Delta_{e\\gamma}}^{4} {\\gamma} + 0.086 \\, {\\Delta_{e\\gamma}}^{4} {\\gamma} {r_f}^{2} + 0.17 \\, {\\Delta_{e\\gamma}}^{4} {\\gamma} {r_f} {r_g} + 0.086 \\, {\\Delta_{e\\gamma}}^{4} {\\gamma} {r_g}^{2} + 0.047 \\, {\\Delta_{e\\gamma}}^{4} {\\gamma} {r_f} + 0.047 \\, {\\Delta_{e\\gamma}}^{4} {\\gamma} {r_g} + 0.29 \\, {\\Delta_{E\\gamma}}^{2} {\\Delta_{e\\gamma}}^{2} {\\gamma} + 0.0039 \\, {\\Delta_{e\\gamma}}^{4} {\\gamma} + 0.48 \\, {\\Delta_{e\\gamma}}^{2} {\\gamma} {r_f}^{2} + 0.97 \\, {\\Delta_{e\\gamma}}^{2} {\\gamma} {r_f} {r_g} + 0.48 \\, {\\Delta_{e\\gamma}}^{2} {\\gamma} {r_g}^{2} + 0.36 \\, {\\Delta_{e\\gamma}}^{2} {\\gamma} {r_f} + 0.36 \\, {\\Delta_{e\\gamma}}^{2} {\\gamma} {r_g} + 0.50 \\, {\\Delta_{E\\gamma}}^{2} {\\gamma} + 0.047 \\, {\\Delta_{e\\gamma}}^{2} {\\gamma} + 0.58 \\, {\\gamma} {r_f}^{2} + 1.2 \\, {\\gamma} {r_f} {r_g} + 0.58 \\, {\\gamma} {r_g}^{2} + 0.53 \\, {\\gamma} {r_f} + 0.53 \\, {\\gamma} {r_g} + 0.094 \\, {\\gamma}\\right)} C^{4} + {\\left(0.00098 \\, {\\Delta_{E\\gamma}}^{2} {\\Delta_{e\\gamma}}^{4} {\\gamma} + 0.0078 \\, {\\Delta_{e\\gamma}}^{4} {\\gamma} {r_f}^{2} + 0.016 \\, {\\Delta_{e\\gamma}}^{4} {\\gamma} {r_f} {r_g} + 0.0078 \\, {\\Delta_{e\\gamma}}^{4} {\\gamma} {r_g}^{2} + 0.0020 \\, {\\Delta_{e\\gamma}}^{4} {\\gamma} {r_f} + 0.0020 \\, {\\Delta_{e\\gamma}}^{4} {\\gamma} {r_g} + 0.020 \\, {\\Delta_{E\\gamma}}^{2} {\\Delta_{e\\gamma}}^{2} {\\gamma} + 0.072 \\, {\\Delta_{e\\gamma}}^{2} {\\gamma} {r_f}^{2} + 0.14 \\, {\\Delta_{e\\gamma}}^{2} {\\gamma} {r_f} {r_g} + 0.072 \\, {\\Delta_{e\\gamma}}^{2} {\\gamma} {r_g}^{2} + 0.031 \\, {\\Delta_{e\\gamma}}^{2} {\\gamma} {r_f} + 0.031 \\, {\\Delta_{e\\gamma}}^{2} {\\gamma} {r_g} + 0.055 \\, {\\Delta_{E\\gamma}}^{2} {\\gamma} + 0.0020 \\, {\\Delta_{e\\gamma}}^{2} {\\gamma} + 0.12 \\, {\\gamma} {r_f}^{2} + 0.25 \\, {\\gamma} {r_f} {r_g} + 0.12 \\, {\\gamma} {r_g}^{2} + 0.074 \\, {\\gamma} {r_f} + 0.074 \\, {\\gamma} {r_g} + 0.0078 \\, {\\gamma}\\right)} C^{3} + {\\left(0.00024 \\, {\\Delta_{e\\gamma}}^{4} {\\gamma} {r_f}^{2} + 0.00049 \\, {\\Delta_{e\\gamma}}^{4} {\\gamma} {r_f} {r_g} + 0.00024 \\, {\\Delta_{e\\gamma}}^{4} {\\gamma} {r_g}^{2} + 0.00049 \\, {\\Delta_{E\\gamma}}^{2} {\\Delta_{e\\gamma}}^{2} {\\gamma} + 0.0049 \\, {\\Delta_{e\\gamma}}^{2} {\\gamma} {r_f}^{2} + 0.0098 \\, {\\Delta_{e\\gamma}}^{2} {\\gamma} {r_f} {r_g} + 0.0049 \\, {\\Delta_{e\\gamma}}^{2} {\\gamma} {r_g}^{2} + 0.00098 \\, {\\Delta_{e\\gamma}}^{2} {\\gamma} {r_f} + 0.00098 \\, {\\Delta_{e\\gamma}}^{2} {\\gamma} {r_g} + 0.0029 \\, {\\Delta_{E\\gamma}}^{2} {\\gamma} + 0.014 \\, {\\gamma} {r_f}^{2} + 0.027 \\, {\\gamma} {r_f} {r_g} + 0.014 \\, {\\gamma} {r_g}^{2} + 0.0049 \\, {\\gamma} {r_f} + 0.0049 \\, {\\gamma} {r_g} + 0.00024 \\, {\\gamma}\\right)} C^{2} + 0.000015 \\, {\\gamma} {r_f}^{2} + 0.000031 \\, {\\gamma} {r_f} {r_g} + 0.000015 \\, {\\gamma} {r_g}^{2} + {\\left(0.00012 \\, {\\Delta_{e\\gamma}}^{2} {\\gamma} {r_f}^{2} + 0.00024 \\, {\\Delta_{e\\gamma}}^{2} {\\gamma} {r_f} {r_g} + 0.00012 \\, {\\Delta_{e\\gamma}}^{2} {\\gamma} {r_g}^{2} + 0.000061 \\, {\\Delta_{E\\gamma}}^{2} {\\gamma} + 0.00073 \\, {\\gamma} {r_f}^{2} + 0.0015 \\, {\\gamma} {r_f} {r_g} + 0.00073 \\, {\\gamma} {r_g}^{2} + 0.00012 \\, {\\gamma} {r_f} + 0.00012 \\, {\\gamma} {r_g}\\right)} C}$$"
      ],
      "text/plain": [
       "(4*C^7*Deg^2*Omega^2*sqrt(r_g)*conjugate(sqrt(r_g)) + (2.2*Deg^4*Omega^2*sqrt(r_g)*conjugate(sqrt(r_g)) + 6*Deg^2*Omega^2*sqrt(r_g)*conjugate(sqrt(r_g)) + 4*Omega^2*sqrt(r_g)*conjugate(sqrt(r_g)))*C^6 + (1.5*Deg^4*Omega^2*sqrt(r_g)*conjugate(sqrt(r_g)) + 5.8*Deg^2*Omega^2*sqrt(r_g)*conjugate(sqrt(r_g)) + 5*Omega^2*sqrt(r_g)*conjugate(sqrt(r_g)))*C^5 + (0.34*Deg^4*Omega^2*sqrt(r_g)*conjugate(sqrt(r_g)) + 1.9*Deg^2*Omega^2*sqrt(r_g)*conjugate(sqrt(r_g)) + 2.3*Omega^2*sqrt(r_g)*conjugate(sqrt(r_g)))*C^4 + (0.031*Deg^4*Omega^2*sqrt(r_g)*conjugate(sqrt(r_g)) + 0.29*Deg^2*Omega^2*sqrt(r_g)*conjugate(sqrt(r_g)) + 0.50*Omega^2*sqrt(r_g)*conjugate(sqrt(r_g)))*C^3 + 0.000061*Omega^2*sqrt(r_g)*conjugate(sqrt(r_g)) + (0.00098*Deg^4*Omega^2*sqrt(r_g)*conjugate(sqrt(r_g)) + 0.020*Deg^2*Omega^2*sqrt(r_g)*conjugate(sqrt(r_g)) + 0.055*Omega^2*sqrt(r_g)*conjugate(sqrt(r_g)))*C^2 + (0.00049*Deg^2*Omega^2*sqrt(r_g)*conjugate(sqrt(r_g)) + 0.0029*Omega^2*sqrt(r_g)*conjugate(sqrt(r_g)))*C)/((4*DEg^2*Deg^2*gamma + 4*DEg*Deg^3*gamma + Deg^4*gamma)*C^8 + (2.2*DEg^2*Deg^4*gamma + 1.5*Deg^4*gamma*r_f + 1.5*Deg^4*gamma*r_g + 6*DEg^2*Deg^2*gamma + 2*DEg*Deg^3*gamma + Deg^4*gamma + Deg^2*gamma*r_f^2 + 2*Deg^2*gamma*r_f*r_g + Deg^2*gamma*r_g^2 + 2*Deg^2*gamma*r_f + 2*Deg^2*gamma*r_g + 4*DEg^2*gamma + 4*DEg*Deg*gamma + 2*Deg^2*gamma)*C^7 + (1.5*DEg^2*Deg^4*gamma + 0.56*Deg^4*gamma*r_f^2 + 1.1*Deg^4*gamma*r_f*r_g + 0.56*Deg^4*gamma*r_g^2 + 1.2*Deg^4*gamma*r_f + 1.2*Deg^4*gamma*r_g + 5.8*DEg^2*Deg^2*gamma + 0.25*DEg*Deg^3*gamma + 0.38*Deg^4*gamma + 1.5*Deg^2*gamma*r_f^2 + 3*Deg^2*gamma*r_f*r_g + 1.5*Deg^2*gamma*r_g^2 + 3.8*Deg^2*gamma*r_f + 3.8*Deg^2*gamma*r_g + 5*DEg^2*gamma + DEg*Deg*gamma + 1.5*Deg^2*gamma + gamma*r_f^2 + 2*gamma*r_f*r_g + gamma*r_g^2 + 2*gamma*r_f + 2*gamma*r_g + gamma)*C^6 + (0.34*DEg^2*Deg^4*gamma + 0.38*Deg^4*gamma*r_f^2 + 0.75*Deg^4*gamma*r_f*r_g + 0.38*Deg^4*gamma*r_g^2 + 0.38*Deg^4*gamma*r_f + 0.38*Deg^4*gamma*r_g + 1.9*DEg^2*Deg^2*gamma + 0.062*Deg^4*gamma + 1.4*Deg^2*gamma*r_f^2 + 2.9*Deg^2*gamma*r_f*r_g + 1.4*Deg^2*gamma*r_g^2 + 1.8*Deg^2*gamma*r_f + 1.8*Deg^2*gamma*r_g + 2.3*DEg^2*gamma + 0.062*DEg*Deg*gamma + 0.41*Deg^2*gamma + 1.2*gamma*r_f^2 + 2.5*gamma*r_f*r_g + 1.2*gamma*r_g^2 + 1.8*gamma*r_f + 1.8*gamma*r_g + 0.50*gamma)*C^5 + (0.031*DEg^2*Deg^4*gamma + 0.086*Deg^4*gamma*r_f^2 + 0.17*Deg^4*gamma*r_f*r_g + 0.086*Deg^4*gamma*r_g^2 + 0.047*Deg^4*gamma*r_f + 0.047*Deg^4*gamma*r_g + 0.29*DEg^2*Deg^2*gamma + 0.0039*Deg^4*gamma + 0.48*Deg^2*gamma*r_f^2 + 0.97*Deg^2*gamma*r_f*r_g + 0.48*Deg^2*gamma*r_g^2 + 0.36*Deg^2*gamma*r_f + 0.36*Deg^2*gamma*r_g + 0.50*DEg^2*gamma + 0.047*Deg^2*gamma + 0.58*gamma*r_f^2 + 1.2*gamma*r_f*r_g + 0.58*gamma*r_g^2 + 0.53*gamma*r_f + 0.53*gamma*r_g + 0.094*gamma)*C^4 + (0.00098*DEg^2*Deg^4*gamma + 0.0078*Deg^4*gamma*r_f^2 + 0.016*Deg^4*gamma*r_f*r_g + 0.0078*Deg^4*gamma*r_g^2 + 0.0020*Deg^4*gamma*r_f + 0.0020*Deg^4*gamma*r_g + 0.020*DEg^2*Deg^2*gamma + 0.072*Deg^2*gamma*r_f^2 + 0.14*Deg^2*gamma*r_f*r_g + 0.072*Deg^2*gamma*r_g^2 + 0.031*Deg^2*gamma*r_f + 0.031*Deg^2*gamma*r_g + 0.055*DEg^2*gamma + 0.0020*Deg^2*gamma + 0.12*gamma*r_f^2 + 0.25*gamma*r_f*r_g + 0.12*gamma*r_g^2 + 0.074*gamma*r_f + 0.074*gamma*r_g + 0.0078*gamma)*C^3 + (0.00024*Deg^4*gamma*r_f^2 + 0.00049*Deg^4*gamma*r_f*r_g + 0.00024*Deg^4*gamma*r_g^2 + 0.00049*DEg^2*Deg^2*gamma + 0.0049*Deg^2*gamma*r_f^2 + 0.0098*Deg^2*gamma*r_f*r_g + 0.0049*Deg^2*gamma*r_g^2 + 0.00098*Deg^2*gamma*r_f + 0.00098*Deg^2*gamma*r_g + 0.0029*DEg^2*gamma + 0.014*gamma*r_f^2 + 0.027*gamma*r_f*r_g + 0.014*gamma*r_g^2 + 0.0049*gamma*r_f + 0.0049*gamma*r_g + 0.00024*gamma)*C^2 + 0.000015*gamma*r_f^2 + 0.000031*gamma*r_f*r_g + 0.000015*gamma*r_g^2 + (0.00012*Deg^2*gamma*r_f^2 + 0.00024*Deg^2*gamma*r_f*r_g + 0.00012*Deg^2*gamma*r_g^2 + 0.000061*DEg^2*gamma + 0.00073*gamma*r_f^2 + 0.0015*gamma*r_f*r_g + 0.00073*gamma*r_g^2 + 0.00012*gamma*r_f + 0.00012*gamma*r_g)*C)"
      ]
     },
     "metadata": {},
     "output_type": "display_data"
    }
   ],
   "source": [
    "show(symround(L_g3[3]))"
   ]
  },
  {
   "cell_type": "code",
   "execution_count": 13,
   "id": "aaeec3b0",
   "metadata": {},
   "outputs": [
    {
     "data": {
      "text/html": [
       "<html><script type=\"math/tex; mode=display\">\\newcommand{\\Bold}[1]{\\mathbf{#1}}3.99999999999999 \\, C^{7} {\\Delta_{e0\\gamma}}^{2} {\\Omega}^{2} \\sqrt{{r_g}} \\overline{\\sqrt{{r_g}}}</script></html>"
      ],
      "text/latex": [
       "$$\\newcommand{\\Bold}[1]{\\mathbf{#1}}3.99999999999999 \\, C^{7} {\\Delta_{e0\\gamma}}^{2} {\\Omega}^{2} \\sqrt{{r_g}} \\overline{\\sqrt{{r_g}}}$$"
      ],
      "text/plain": [
       "3.99999999999999*C^7*De0g^2*Omega^2*sqrt(r_g)*conjugate(sqrt(r_g))"
      ]
     },
     "metadata": {},
     "output_type": "display_data"
    },
    {
     "name": "stdout",
     "output_type": "stream",
     "text": [
      "\n",
      "\n",
      "\n",
      "\n"
     ]
    },
    {
     "data": {
      "text/html": [
       "<html><script type=\"math/tex; mode=display\">\\newcommand{\\Bold}[1]{\\mathbf{#1}}{\\left(4 \\, {\\Delta_{E\\gamma}}^{2} {\\Delta_{e0\\gamma}}^{2} {\\gamma} + 4 \\, {\\Delta_{E\\gamma}} {\\Delta_{e0\\gamma}}^{3} {\\gamma} + {\\Delta_{e0\\gamma}}^{4} {\\gamma}\\right)} C^{8}</script></html>"
      ],
      "text/latex": [
       "$$\\newcommand{\\Bold}[1]{\\mathbf{#1}}{\\left(4 \\, {\\Delta_{E\\gamma}}^{2} {\\Delta_{e0\\gamma}}^{2} {\\gamma} + 4 \\, {\\Delta_{E\\gamma}} {\\Delta_{e0\\gamma}}^{3} {\\gamma} + {\\Delta_{e0\\gamma}}^{4} {\\gamma}\\right)} C^{8}$$"
      ],
      "text/plain": [
       "(4*DEg^2*De0g^2*gamma + 4*DEg*De0g^3*gamma + De0g^4*gamma)*C^8"
      ]
     },
     "metadata": {},
     "output_type": "display_data"
    },
    {
     "name": "stdout",
     "output_type": "stream",
     "text": [
      "\n",
      "\n",
      "\n",
      "\n"
     ]
    },
    {
     "data": {
      "text/html": [
       "<html><script type=\"math/tex; mode=display\">\\newcommand{\\Bold}[1]{\\mathbf{#1}}\\frac{3.99999999999999 \\, {\\Delta_{e0\\gamma}}^{2} {\\Omega}^{2} \\sqrt{{r_g}} \\overline{\\sqrt{{r_g}}}}{{\\left(4 \\, {\\Delta_{E\\gamma}}^{2} {\\Delta_{e0\\gamma}}^{2} {\\gamma} + 4 \\, {\\Delta_{E\\gamma}} {\\Delta_{e0\\gamma}}^{3} {\\gamma} + {\\Delta_{e0\\gamma}}^{4} {\\gamma}\\right)} C}</script></html>"
      ],
      "text/latex": [
       "$$\\newcommand{\\Bold}[1]{\\mathbf{#1}}\\frac{3.99999999999999 \\, {\\Delta_{e0\\gamma}}^{2} {\\Omega}^{2} \\sqrt{{r_g}} \\overline{\\sqrt{{r_g}}}}{{\\left(4 \\, {\\Delta_{E\\gamma}}^{2} {\\Delta_{e0\\gamma}}^{2} {\\gamma} + 4 \\, {\\Delta_{E\\gamma}} {\\Delta_{e0\\gamma}}^{3} {\\gamma} + {\\Delta_{e0\\gamma}}^{4} {\\gamma}\\right)} C}$$"
      ],
      "text/plain": [
       "3.99999999999999*De0g^2*Omega^2*sqrt(r_g)*conjugate(sqrt(r_g))/((4*DEg^2*De0g^2*gamma + 4*DEg*De0g^3*gamma + De0g^4*gamma)*C)"
      ]
     },
     "metadata": {},
     "output_type": "display_data"
    },
    {
     "data": {
      "text/html": [
       "<html><script type=\"math/tex; mode=display\">\\newcommand{\\Bold}[1]{\\mathbf{#1}}\\frac{4 \\, {\\Delta_{e0\\gamma}}^{2} {\\Omega}^{2} \\sqrt{{r_g}} \\overline{\\sqrt{{r_g}}}}{{\\left(4 \\, {\\Delta_{E\\gamma}}^{2} {\\Delta_{e0\\gamma}}^{2} {\\gamma} + 4 \\, {\\Delta_{E\\gamma}} {\\Delta_{e0\\gamma}}^{3} {\\gamma} + {\\Delta_{e0\\gamma}}^{4} {\\gamma}\\right)} C}</script></html>"
      ],
      "text/latex": [
       "$$\\newcommand{\\Bold}[1]{\\mathbf{#1}}\\frac{4 \\, {\\Delta_{e0\\gamma}}^{2} {\\Omega}^{2} \\sqrt{{r_g}} \\overline{\\sqrt{{r_g}}}}{{\\left(4 \\, {\\Delta_{E\\gamma}}^{2} {\\Delta_{e0\\gamma}}^{2} {\\gamma} + 4 \\, {\\Delta_{E\\gamma}} {\\Delta_{e0\\gamma}}^{3} {\\gamma} + {\\Delta_{e0\\gamma}}^{4} {\\gamma}\\right)} C}$$"
      ],
      "text/plain": [
       "4*De0g^2*Omega^2*sqrt(r_g)*conjugate(sqrt(r_g))/((4*DEg^2*De0g^2*gamma + 4*DEg*De0g^3*gamma + De0g^4*gamma)*C)"
      ]
     },
     "metadata": {},
     "output_type": "display_data"
    }
   ],
   "source": [
    "x = L_g3[0]\n",
    "\n",
    "num = x._mathematica_().Numerator().Collect(\"C\")._sage_().operands()[0]\n",
    "show(num)\n",
    "den = x._mathematica_().Denominator().Collect(\"C\")._sage_().operands()[0]\n",
    "print(\"\\n\\n\\n\")\n",
    "show(den)\n",
    "x = num/den\n",
    "print(\"\\n\\n\\n\")\n",
    "show(x)\n",
    "\n",
    "t0 = symround(x)\n",
    "show(t0)"
   ]
  },
  {
   "cell_type": "code",
   "execution_count": 14,
   "id": "88c022b5",
   "metadata": {},
   "outputs": [
    {
     "data": {
      "text/html": [
       "<html><script type=\"math/tex; mode=display\">\\newcommand{\\Bold}[1]{\\mathbf{#1}}{\\left({\\Delta_{e0\\gamma}}^{2} {\\Omega}^{2} \\sqrt{{r_g}} \\overline{\\sqrt{{r_g}}} + 2 \\, {\\Delta_{e0\\gamma}} {\\Delta_{e\\gamma}} {\\Omega}^{2} \\sqrt{{r_g}} \\overline{\\sqrt{{r_g}}} + {\\Delta_{e\\gamma}}^{2} {\\Omega}^{2} \\sqrt{{r_g}} \\overline{\\sqrt{{r_g}}}\\right)} C^{7}</script></html>"
      ],
      "text/latex": [
       "$$\\newcommand{\\Bold}[1]{\\mathbf{#1}}{\\left({\\Delta_{e0\\gamma}}^{2} {\\Omega}^{2} \\sqrt{{r_g}} \\overline{\\sqrt{{r_g}}} + 2 \\, {\\Delta_{e0\\gamma}} {\\Delta_{e\\gamma}} {\\Omega}^{2} \\sqrt{{r_g}} \\overline{\\sqrt{{r_g}}} + {\\Delta_{e\\gamma}}^{2} {\\Omega}^{2} \\sqrt{{r_g}} \\overline{\\sqrt{{r_g}}}\\right)} C^{7}$$"
      ],
      "text/plain": [
       "(De0g^2*Omega^2*sqrt(r_g)*conjugate(sqrt(r_g)) + 2*De0g*Deg*Omega^2*sqrt(r_g)*conjugate(sqrt(r_g)) + Deg^2*Omega^2*sqrt(r_g)*conjugate(sqrt(r_g)))*C^7"
      ]
     },
     "metadata": {},
     "output_type": "display_data"
    },
    {
     "name": "stdout",
     "output_type": "stream",
     "text": [
      "\n",
      "\n",
      "\n",
      "\n"
     ]
    },
    {
     "data": {
      "text/html": [
       "<html><script type=\"math/tex; mode=display\">\\newcommand{\\Bold}[1]{\\mathbf{#1}}{\\left({\\Delta_{E\\gamma}}^{2} {\\Delta_{e0\\gamma}}^{2} {\\gamma} + 2 \\, {\\Delta_{E\\gamma}}^{2} {\\Delta_{e0\\gamma}} {\\Delta_{e\\gamma}} {\\gamma} + 2 \\, {\\Delta_{E\\gamma}} {\\Delta_{e0\\gamma}}^{2} {\\Delta_{e\\gamma}} {\\gamma} + {\\Delta_{E\\gamma}}^{2} {\\Delta_{e\\gamma}}^{2} {\\gamma} + 2 \\, {\\Delta_{E\\gamma}} {\\Delta_{e0\\gamma}} {\\Delta_{e\\gamma}}^{2} {\\gamma} + {\\Delta_{e0\\gamma}}^{2} {\\Delta_{e\\gamma}}^{2} {\\gamma}\\right)} C^{8}</script></html>"
      ],
      "text/latex": [
       "$$\\newcommand{\\Bold}[1]{\\mathbf{#1}}{\\left({\\Delta_{E\\gamma}}^{2} {\\Delta_{e0\\gamma}}^{2} {\\gamma} + 2 \\, {\\Delta_{E\\gamma}}^{2} {\\Delta_{e0\\gamma}} {\\Delta_{e\\gamma}} {\\gamma} + 2 \\, {\\Delta_{E\\gamma}} {\\Delta_{e0\\gamma}}^{2} {\\Delta_{e\\gamma}} {\\gamma} + {\\Delta_{E\\gamma}}^{2} {\\Delta_{e\\gamma}}^{2} {\\gamma} + 2 \\, {\\Delta_{E\\gamma}} {\\Delta_{e0\\gamma}} {\\Delta_{e\\gamma}}^{2} {\\gamma} + {\\Delta_{e0\\gamma}}^{2} {\\Delta_{e\\gamma}}^{2} {\\gamma}\\right)} C^{8}$$"
      ],
      "text/plain": [
       "(DEg^2*De0g^2*gamma + 2*DEg^2*De0g*Deg*gamma + 2*DEg*De0g^2*Deg*gamma + DEg^2*Deg^2*gamma + 2*DEg*De0g*Deg^2*gamma + De0g^2*Deg^2*gamma)*C^8"
      ]
     },
     "metadata": {},
     "output_type": "display_data"
    },
    {
     "name": "stdout",
     "output_type": "stream",
     "text": [
      "\n",
      "\n",
      "\n",
      "\n"
     ]
    },
    {
     "data": {
      "text/html": [
       "<html><script type=\"math/tex; mode=display\">\\newcommand{\\Bold}[1]{\\mathbf{#1}}\\frac{{\\Delta_{e0\\gamma}}^{2} {\\Omega}^{2} \\sqrt{{r_g}} \\overline{\\sqrt{{r_g}}} + 2 \\, {\\Delta_{e0\\gamma}} {\\Delta_{e\\gamma}} {\\Omega}^{2} \\sqrt{{r_g}} \\overline{\\sqrt{{r_g}}} + {\\Delta_{e\\gamma}}^{2} {\\Omega}^{2} \\sqrt{{r_g}} \\overline{\\sqrt{{r_g}}}}{{\\left({\\Delta_{E\\gamma}}^{2} {\\Delta_{e0\\gamma}}^{2} {\\gamma} + 2 \\, {\\Delta_{E\\gamma}}^{2} {\\Delta_{e0\\gamma}} {\\Delta_{e\\gamma}} {\\gamma} + 2 \\, {\\Delta_{E\\gamma}} {\\Delta_{e0\\gamma}}^{2} {\\Delta_{e\\gamma}} {\\gamma} + {\\Delta_{E\\gamma}}^{2} {\\Delta_{e\\gamma}}^{2} {\\gamma} + 2 \\, {\\Delta_{E\\gamma}} {\\Delta_{e0\\gamma}} {\\Delta_{e\\gamma}}^{2} {\\gamma} + {\\Delta_{e0\\gamma}}^{2} {\\Delta_{e\\gamma}}^{2} {\\gamma}\\right)} C}</script></html>"
      ],
      "text/latex": [
       "$$\\newcommand{\\Bold}[1]{\\mathbf{#1}}\\frac{{\\Delta_{e0\\gamma}}^{2} {\\Omega}^{2} \\sqrt{{r_g}} \\overline{\\sqrt{{r_g}}} + 2 \\, {\\Delta_{e0\\gamma}} {\\Delta_{e\\gamma}} {\\Omega}^{2} \\sqrt{{r_g}} \\overline{\\sqrt{{r_g}}} + {\\Delta_{e\\gamma}}^{2} {\\Omega}^{2} \\sqrt{{r_g}} \\overline{\\sqrt{{r_g}}}}{{\\left({\\Delta_{E\\gamma}}^{2} {\\Delta_{e0\\gamma}}^{2} {\\gamma} + 2 \\, {\\Delta_{E\\gamma}}^{2} {\\Delta_{e0\\gamma}} {\\Delta_{e\\gamma}} {\\gamma} + 2 \\, {\\Delta_{E\\gamma}} {\\Delta_{e0\\gamma}}^{2} {\\Delta_{e\\gamma}} {\\gamma} + {\\Delta_{E\\gamma}}^{2} {\\Delta_{e\\gamma}}^{2} {\\gamma} + 2 \\, {\\Delta_{E\\gamma}} {\\Delta_{e0\\gamma}} {\\Delta_{e\\gamma}}^{2} {\\gamma} + {\\Delta_{e0\\gamma}}^{2} {\\Delta_{e\\gamma}}^{2} {\\gamma}\\right)} C}$$"
      ],
      "text/plain": [
       "(De0g^2*Omega^2*sqrt(r_g)*conjugate(sqrt(r_g)) + 2*De0g*Deg*Omega^2*sqrt(r_g)*conjugate(sqrt(r_g)) + Deg^2*Omega^2*sqrt(r_g)*conjugate(sqrt(r_g)))/((DEg^2*De0g^2*gamma + 2*DEg^2*De0g*Deg*gamma + 2*DEg*De0g^2*Deg*gamma + DEg^2*Deg^2*gamma + 2*DEg*De0g*Deg^2*gamma + De0g^2*Deg^2*gamma)*C)"
      ]
     },
     "metadata": {},
     "output_type": "display_data"
    }
   ],
   "source": [
    "x = L_g3[1]\n",
    "\n",
    "num = x._mathematica_().Numerator().Collect(\"C\")._sage_().operands()[0]\n",
    "show(num)\n",
    "den = x._mathematica_().Denominator().Collect(\"C\")._sage_().operands()[0]\n",
    "print(\"\\n\\n\\n\")\n",
    "show(den)\n",
    "x = num/den\n",
    "print(\"\\n\\n\\n\")\n",
    "\n",
    "\n",
    "t1 = symround(x)\n",
    "show(t1)"
   ]
  },
  {
   "cell_type": "code",
   "execution_count": 15,
   "id": "323fbf76",
   "metadata": {},
   "outputs": [
    {
     "data": {
      "text/html": [
       "<html><script type=\"math/tex; mode=display\">\\newcommand{\\Bold}[1]{\\mathbf{#1}}4 \\, C^{7} {\\Delta_{e\\gamma}}^{2} {\\Omega}^{2} \\sqrt{{r_g}} \\overline{\\sqrt{{r_g}}}</script></html>"
      ],
      "text/latex": [
       "$$\\newcommand{\\Bold}[1]{\\mathbf{#1}}4 \\, C^{7} {\\Delta_{e\\gamma}}^{2} {\\Omega}^{2} \\sqrt{{r_g}} \\overline{\\sqrt{{r_g}}}$$"
      ],
      "text/plain": [
       "4*C^7*Deg^2*Omega^2*sqrt(r_g)*conjugate(sqrt(r_g))"
      ]
     },
     "metadata": {},
     "output_type": "display_data"
    },
    {
     "name": "stdout",
     "output_type": "stream",
     "text": [
      "\n",
      "\n",
      "\n",
      "\n"
     ]
    },
    {
     "data": {
      "text/html": [
       "<html><script type=\"math/tex; mode=display\">\\newcommand{\\Bold}[1]{\\mathbf{#1}}{\\left(4 \\, {\\Delta_{E\\gamma}}^{2} {\\Delta_{e\\gamma}}^{2} {\\gamma} + 4 \\, {\\Delta_{E\\gamma}} {\\Delta_{e\\gamma}}^{3} {\\gamma} + {\\Delta_{e\\gamma}}^{4} {\\gamma}\\right)} C^{8}</script></html>"
      ],
      "text/latex": [
       "$$\\newcommand{\\Bold}[1]{\\mathbf{#1}}{\\left(4 \\, {\\Delta_{E\\gamma}}^{2} {\\Delta_{e\\gamma}}^{2} {\\gamma} + 4 \\, {\\Delta_{E\\gamma}} {\\Delta_{e\\gamma}}^{3} {\\gamma} + {\\Delta_{e\\gamma}}^{4} {\\gamma}\\right)} C^{8}$$"
      ],
      "text/plain": [
       "(4*DEg^2*Deg^2*gamma + 4*DEg*Deg^3*gamma + Deg^4*gamma)*C^8"
      ]
     },
     "metadata": {},
     "output_type": "display_data"
    },
    {
     "name": "stdout",
     "output_type": "stream",
     "text": [
      "\n",
      "\n",
      "\n",
      "\n"
     ]
    },
    {
     "data": {
      "text/html": [
       "<html><script type=\"math/tex; mode=display\">\\newcommand{\\Bold}[1]{\\mathbf{#1}}\\frac{4 \\, {\\Delta_{e\\gamma}}^{2} {\\Omega}^{2} \\sqrt{{r_g}} \\overline{\\sqrt{{r_g}}}}{{\\left(4 \\, {\\Delta_{E\\gamma}}^{2} {\\Delta_{e\\gamma}}^{2} {\\gamma} + 4 \\, {\\Delta_{E\\gamma}} {\\Delta_{e\\gamma}}^{3} {\\gamma} + {\\Delta_{e\\gamma}}^{4} {\\gamma}\\right)} C}</script></html>"
      ],
      "text/latex": [
       "$$\\newcommand{\\Bold}[1]{\\mathbf{#1}}\\frac{4 \\, {\\Delta_{e\\gamma}}^{2} {\\Omega}^{2} \\sqrt{{r_g}} \\overline{\\sqrt{{r_g}}}}{{\\left(4 \\, {\\Delta_{E\\gamma}}^{2} {\\Delta_{e\\gamma}}^{2} {\\gamma} + 4 \\, {\\Delta_{E\\gamma}} {\\Delta_{e\\gamma}}^{3} {\\gamma} + {\\Delta_{e\\gamma}}^{4} {\\gamma}\\right)} C}$$"
      ],
      "text/plain": [
       "4*Deg^2*Omega^2*sqrt(r_g)*conjugate(sqrt(r_g))/((4*DEg^2*Deg^2*gamma + 4*DEg*Deg^3*gamma + Deg^4*gamma)*C)"
      ]
     },
     "metadata": {},
     "output_type": "display_data"
    }
   ],
   "source": [
    "x = L_g3[3]\n",
    "\n",
    "num = x._mathematica_().Numerator().Collect(\"C\")._sage_().operands()[0]\n",
    "show(num)\n",
    "den = x._mathematica_().Denominator().Collect(\"C\")._sage_().operands()[0]\n",
    "print(\"\\n\\n\\n\")\n",
    "show(den)\n",
    "x = num/den\n",
    "print(\"\\n\\n\\n\")\n",
    "\n",
    "t3 = symround(x)\n",
    "\n",
    "show(t3)"
   ]
  },
  {
   "cell_type": "code",
   "execution_count": 16,
   "id": "cd59e00b",
   "metadata": {},
   "outputs": [],
   "source": [
    "eq0 = (t0==t1)\n",
    "eq1 = (t0==t3)"
   ]
  },
  {
   "cell_type": "code",
   "execution_count": null,
   "id": "ff983852",
   "metadata": {},
   "outputs": [],
   "source": []
  },
  {
   "cell_type": "code",
   "execution_count": 27,
   "id": "35b40715",
   "metadata": {},
   "outputs": [
    {
     "data": {
      "text/plain": [
       "\\frac{4 \\, {\\Delta_{e0\\gamma}}^{2} {\\Omega}^{2} \\sqrt{{r_g}} \\overline{\\sqrt{{r_g}}}}{{\\left(4 \\, {\\Delta_{E\\gamma}}^{2} {\\Delta_{e0\\gamma}}^{2} {\\gamma} + 4 \\, {\\Delta_{E\\gamma}} {\\Delta_{e0\\gamma}}^{3} {\\gamma} + {\\Delta_{e0\\gamma}}^{4} {\\gamma}\\right)} C} = \\frac{{\\Delta_{e0\\gamma}}^{2} {\\Omega}^{2} \\sqrt{{r_g}} \\overline{\\sqrt{{r_g}}} + 2 \\, {\\Delta_{e0\\gamma}} {\\Delta_{e\\gamma}} {\\Omega}^{2} \\sqrt{{r_g}} \\overline{\\sqrt{{r_g}}} + {\\Delta_{e\\gamma}}^{2} {\\Omega}^{2} \\sqrt{{r_g}} \\overline{\\sqrt{{r_g}}}}{{\\left({\\Delta_{E\\gamma}}^{2} {\\Delta_{e0\\gamma}}^{2} {\\gamma} + 2 \\, {\\Delta_{E\\gamma}}^{2} {\\Delta_{e0\\gamma}} {\\Delta_{e\\gamma}} {\\gamma} + 2 \\, {\\Delta_{E\\gamma}} {\\Delta_{e0\\gamma}}^{2} {\\Delta_{e\\gamma}} {\\gamma} + {\\Delta_{E\\gamma}}^{2} {\\Delta_{e\\gamma}}^{2} {\\gamma} + 2 \\, {\\Delta_{E\\gamma}} {\\Delta_{e0\\gamma}} {\\Delta_{e\\gamma}}^{2} {\\gamma} + {\\Delta_{e0\\gamma}}^{2} {\\Delta_{e\\gamma}}^{2} {\\gamma}\\right)} C}"
      ]
     },
     "execution_count": 27,
     "metadata": {},
     "output_type": "execute_result"
    }
   ],
   "source": [
    "latex(eq0)"
   ]
  },
  {
   "cell_type": "code",
   "execution_count": 18,
   "id": "b9897eb4",
   "metadata": {},
   "outputs": [
    {
     "data": {
      "text/plain": [
       "[Deg == De0g]"
      ]
     },
     "execution_count": 18,
     "metadata": {},
     "output_type": "execute_result"
    }
   ],
   "source": [
    "eq0.solve(Deg)"
   ]
  },
  {
   "cell_type": "code",
   "execution_count": 19,
   "id": "d34709a0",
   "metadata": {},
   "outputs": [
    {
     "data": {
      "text/plain": [
       "[]"
      ]
     },
     "execution_count": 19,
     "metadata": {},
     "output_type": "execute_result"
    }
   ],
   "source": [
    "eq1.solve(DEg)"
   ]
  },
  {
   "cell_type": "code",
   "execution_count": 250,
   "id": "a7114b5d",
   "metadata": {},
   "outputs": [
    {
     "data": {
      "text/html": [
       "<html><script type=\"math/tex; mode=display\">\\newcommand{\\Bold}[1]{\\mathbf{#1}}\\frac{1.66452155840773 \\times 10^{14}}{1.66452155840773 \\times 10^{15} \\, {\\Delta_{E\\gamma}}^{2} + 3.22404001250000 \\times 10^{16} \\, {\\Delta_{E\\gamma}} + 1.66066311946098 \\times 10^{17}} = \\frac{9.28254604473731 \\times 10^{13}}{9.28254604473731 \\times 10^{14} \\, {\\Delta_{E\\gamma}}^{2} + 1.21202250937500 \\times 10^{16} \\, {\\Delta_{E\\gamma}} + 4.22547843044164 \\times 10^{16}}</script></html>"
      ],
      "text/latex": [
       "$$\\newcommand{\\Bold}[1]{\\mathbf{#1}}\\frac{1.66452155840773 \\times 10^{14}}{1.66452155840773 \\times 10^{15} \\, {\\Delta_{E\\gamma}}^{2} + 3.22404001250000 \\times 10^{16} \\, {\\Delta_{E\\gamma}} + 1.66066311946098 \\times 10^{17}} = \\frac{9.28254604473731 \\times 10^{13}}{9.28254604473731 \\times 10^{14} \\, {\\Delta_{E\\gamma}}^{2} + 1.21202250937500 \\times 10^{16} \\, {\\Delta_{E\\gamma}} + 4.22547843044164 \\times 10^{16}}$$"
      ],
      "text/plain": [
       "1.66452155840773e14/(1.66452155840773e15*DEg^2 + 3.22404001250000e16*DEg + 1.66066311946098e17) == 9.28254604473731e13/(9.28254604473731e14*DEg^2 + 1.21202250937500e16*DEg + 4.22547843044164e16)"
      ]
     },
     "metadata": {},
     "output_type": "display_data"
    }
   ],
   "source": [
    "show(eq[0])"
   ]
  },
  {
   "cell_type": "code",
   "execution_count": 162,
   "id": "f91f3023",
   "metadata": {},
   "outputs": [
    {
     "ename": "NotImplementedError",
     "evalue": "Don't know a Sage equivalent                         for Mathematica function 'Root'.  Please specify one                         manually using the 'locals' dictionary",
     "output_type": "error",
     "traceback": [
      "\u001b[0;31m---------------------------------------------------------------------------\u001b[0m",
      "\u001b[0;31mNotImplementedError\u001b[0m                       Traceback (most recent call last)",
      "\u001b[0;32m<ipython-input-162-0b5ddd5cd821>\u001b[0m in \u001b[0;36m<module>\u001b[0;34m\u001b[0m\n\u001b[1;32m      3\u001b[0m \u001b[0msolDeg\u001b[0m \u001b[0;34m=\u001b[0m \u001b[0;34m[\u001b[0m\u001b[0;34m]\u001b[0m\u001b[0;34m\u001b[0m\u001b[0;34m\u001b[0m\u001b[0m\n\u001b[1;32m      4\u001b[0m \u001b[0;32mfor\u001b[0m \u001b[0mi\u001b[0m \u001b[0;32min\u001b[0m \u001b[0;34m[\u001b[0m\u001b[0mInteger\u001b[0m\u001b[0;34m(\u001b[0m\u001b[0;36m1\u001b[0m\u001b[0;34m)\u001b[0m\u001b[0;34m,\u001b[0m\u001b[0mInteger\u001b[0m\u001b[0;34m(\u001b[0m\u001b[0;36m2\u001b[0m\u001b[0;34m)\u001b[0m\u001b[0;34m]\u001b[0m\u001b[0;34m:\u001b[0m\u001b[0;34m\u001b[0m\u001b[0;34m\u001b[0m\u001b[0m\n\u001b[0;32m----> 5\u001b[0;31m     \u001b[0mexpr\u001b[0m \u001b[0;34m=\u001b[0m \u001b[0msol\u001b[0m\u001b[0;34m[\u001b[0m\u001b[0mi\u001b[0m\u001b[0;34m]\u001b[0m\u001b[0;34m[\u001b[0m\u001b[0mInteger\u001b[0m\u001b[0;34m(\u001b[0m\u001b[0;36m1\u001b[0m\u001b[0;34m)\u001b[0m\u001b[0;34m]\u001b[0m\u001b[0;34m[\u001b[0m\u001b[0mInteger\u001b[0m\u001b[0;34m(\u001b[0m\u001b[0;36m2\u001b[0m\u001b[0;34m)\u001b[0m\u001b[0;34m]\u001b[0m\u001b[0;34m.\u001b[0m\u001b[0m_sage_\u001b[0m\u001b[0;34m(\u001b[0m\u001b[0;34m)\u001b[0m\u001b[0;34m\u001b[0m\u001b[0;34m\u001b[0m\u001b[0m\n\u001b[0m\u001b[1;32m      6\u001b[0m     \u001b[0mexpr\u001b[0m \u001b[0;34m=\u001b[0m \u001b[0mMMA_simplify\u001b[0m\u001b[0;34m(\u001b[0m\u001b[0mexpr\u001b[0m\u001b[0;34m)\u001b[0m\u001b[0;34m\u001b[0m\u001b[0;34m\u001b[0m\u001b[0m\n\u001b[1;32m      7\u001b[0m     \u001b[0mexpr\u001b[0m \u001b[0;34m=\u001b[0m \u001b[0mSR\u001b[0m\u001b[0;34m(\u001b[0m\u001b[0mstr\u001b[0m\u001b[0;34m(\u001b[0m\u001b[0mexpr\u001b[0m\u001b[0;34m)\u001b[0m\u001b[0;34m.\u001b[0m\u001b[0mreplace\u001b[0m\u001b[0;34m(\u001b[0m\u001b[0;34m'Sqrt'\u001b[0m\u001b[0;34m,\u001b[0m\u001b[0;34m'sqrt'\u001b[0m\u001b[0;34m)\u001b[0m\u001b[0;34m)\u001b[0m\u001b[0;34m\u001b[0m\u001b[0;34m\u001b[0m\u001b[0m\n",
      "\u001b[0;32m/opt/SageMath/SageMath/local/lib/python3.9/site-packages/sage/interfaces/mathematica.py\u001b[0m in \u001b[0;36m_sage_\u001b[0;34m(self, locals)\u001b[0m\n\u001b[1;32m    867\u001b[0m                         \u001b[0;32mbreak\u001b[0m\u001b[0;34m\u001b[0m\u001b[0;34m\u001b[0m\u001b[0m\n\u001b[1;32m    868\u001b[0m                 \u001b[0;32melse\u001b[0m\u001b[0;34m:\u001b[0m\u001b[0;34m\u001b[0m\u001b[0;34m\u001b[0m\u001b[0m\n\u001b[0;32m--> 869\u001b[0;31m                     raise NotImplementedError(\"Don't know a Sage equivalent \\\n\u001b[0m\u001b[1;32m    870\u001b[0m                         \u001b[0;32mfor\u001b[0m \u001b[0mMathematica\u001b[0m \u001b[0mfunction\u001b[0m \u001b[0;34m'%s'\u001b[0m\u001b[0;34m.\u001b[0m  \u001b[0mPlease\u001b[0m \u001b[0mspecify\u001b[0m \u001b[0mone\u001b[0m\u001b[0;31m \u001b[0m\u001b[0;31m\\\u001b[0m\u001b[0;34m\u001b[0m\u001b[0;34m\u001b[0m\u001b[0m\n\u001b[1;32m    871\u001b[0m                         manually using the 'locals' dictionary\" % m.group())\n",
      "\u001b[0;31mNotImplementedError\u001b[0m: Don't know a Sage equivalent                         for Mathematica function 'Root'.  Please specify one                         manually using the 'locals' dictionary"
     ]
    }
   ],
   "source": [
    "sol = eq1.subs()._mathematica_().NSolve('Deg')\n",
    "\n",
    "solDeg = []\n",
    "for i in [1,2]:\n",
    "    expr = sol[i][1][2]._sage_()\n",
    "    expr = MMA_simplify(expr)\n",
    "    expr = SR(str(expr).replace('Sqrt','sqrt'))\n",
    "    solDEg.append(sol0[2][1][2]._sage_())"
   ]
  },
  {
   "cell_type": "code",
   "execution_count": 163,
   "id": "dc2b4aa8",
   "metadata": {},
   "outputs": [
    {
     "data": {
      "text/plain": [
       "{{Deg -> Root[-1.89448515274583*^59 - 7.430168740798631*^58*DEg - \n",
       "      1.4050275952462112*^43*DEg^2 + (-7.540518624290302*^58 - \n",
       "        1.4672119886427667*^58*DEg - 2.8098721209349*^42*DEg^2)*#1 + \n",
       "      (-1.993007113469223*^59 - 7.521065124767686*^58*DEg - \n",
       "        1.3313201930603204*^43*DEg^2)*#1^2 + \n",
       "      (-7.596873621997027*^58 - 1.470754608397605*^58*DEg - \n",
       "        2.635141336927239*^42*DEg^2)*#1^3 + \n",
       "      (-9.402303319526322*^57 - 7.250918622411091*^56*DEg - \n",
       "        1.3234666365339786*^41*DEg^2)*#1^4 + \n",
       "      (-3.7609213278105338*^56 + 1.2342530349233095*^54*DEg - \n",
       "        1.3031938497367324*^38*DEg^2)*#1^5 + \n",
       "      (-3.3240773280104133*^40 + 4.1141767830781344*^52*DEg - \n",
       "        6.812001381139556*^36*DEg^2)*#1^6 + \n",
       "      (5.202002342488491*^36 + 5.182172865604229*^35*DEg + \n",
       "        1.1679330193000632*^33*DEg^2)*#1^7 + \n",
       "      (1.3005005856221229*^35 + 2.9198325482501582*^31*DEg^2)*#1^8 & , 1]}, \n",
       " {Deg -> Root[-1.89448515274583*^59 - 7.430168740798631*^58*DEg - \n",
       "      1.4050275952462112*^43*DEg^2 + (-7.540518624290302*^58 - \n",
       "        1.4672119886427667*^58*DEg - 2.8098721209349*^42*DEg^2)*#1 + \n",
       "      (-1.993007113469223*^59 - 7.521065124767686*^58*DEg - \n",
       "        1.3313201930603204*^43*DEg^2)*#1^2 + \n",
       "      (-7.596873621997027*^58 - 1.470754608397605*^58*DEg - \n",
       "        2.635141336927239*^42*DEg^2)*#1^3 + \n",
       "      (-9.402303319526322*^57 - 7.250918622411091*^56*DEg - \n",
       "        1.3234666365339786*^41*DEg^2)*#1^4 + \n",
       "      (-3.7609213278105338*^56 + 1.2342530349233095*^54*DEg - \n",
       "        1.3031938497367324*^38*DEg^2)*#1^5 + \n",
       "      (-3.3240773280104133*^40 + 4.1141767830781344*^52*DEg - \n",
       "        6.812001381139556*^36*DEg^2)*#1^6 + \n",
       "      (5.202002342488491*^36 + 5.182172865604229*^35*DEg + \n",
       "        1.1679330193000632*^33*DEg^2)*#1^7 + \n",
       "      (1.3005005856221229*^35 + 2.9198325482501582*^31*DEg^2)*#1^8 & , 2]}, \n",
       " {Deg -> Root[-1.89448515274583*^59 - 7.430168740798631*^58*DEg - \n",
       "      1.4050275952462112*^43*DEg^2 + (-7.540518624290302*^58 - \n",
       "        1.4672119886427667*^58*DEg - 2.8098721209349*^42*DEg^2)*#1 + \n",
       "      (-1.993007113469223*^59 - 7.521065124767686*^58*DEg - \n",
       "        1.3313201930603204*^43*DEg^2)*#1^2 + \n",
       "      (-7.596873621997027*^58 - 1.470754608397605*^58*DEg - \n",
       "        2.635141336927239*^42*DEg^2)*#1^3 + \n",
       "      (-9.402303319526322*^57 - 7.250918622411091*^56*DEg - \n",
       "        1.3234666365339786*^41*DEg^2)*#1^4 + \n",
       "      (-3.7609213278105338*^56 + 1.2342530349233095*^54*DEg - \n",
       "        1.3031938497367324*^38*DEg^2)*#1^5 + \n",
       "      (-3.3240773280104133*^40 + 4.1141767830781344*^52*DEg - \n",
       "        6.812001381139556*^36*DEg^2)*#1^6 + \n",
       "      (5.202002342488491*^36 + 5.182172865604229*^35*DEg + \n",
       "        1.1679330193000632*^33*DEg^2)*#1^7 + \n",
       "      (1.3005005856221229*^35 + 2.9198325482501582*^31*DEg^2)*#1^8 & , 3]}, \n",
       " {Deg -> Root[-1.89448515274583*^59 - 7.430168740798631*^58*DEg - \n",
       "      1.4050275952462112*^43*DEg^2 + (-7.540518624290302*^58 - \n",
       "        1.4672119886427667*^58*DEg - 2.8098721209349*^42*DEg^2)*#1 + \n",
       "      (-1.993007113469223*^59 - 7.521065124767686*^58*DEg - \n",
       "        1.3313201930603204*^43*DEg^2)*#1^2 + \n",
       "      (-7.596873621997027*^58 - 1.470754608397605*^58*DEg - \n",
       "        2.635141336927239*^42*DEg^2)*#1^3 + \n",
       "      (-9.402303319526322*^57 - 7.250918622411091*^56*DEg - \n",
       "        1.3234666365339786*^41*DEg^2)*#1^4 + \n",
       "      (-3.7609213278105338*^56 + 1.2342530349233095*^54*DEg - \n",
       "        1.3031938497367324*^38*DEg^2)*#1^5 + \n",
       "      (-3.3240773280104133*^40 + 4.1141767830781344*^52*DEg - \n",
       "        6.812001381139556*^36*DEg^2)*#1^6 + \n",
       "      (5.202002342488491*^36 + 5.182172865604229*^35*DEg + \n",
       "        1.1679330193000632*^33*DEg^2)*#1^7 + \n",
       "      (1.3005005856221229*^35 + 2.9198325482501582*^31*DEg^2)*#1^8 & , 4]}, \n",
       " {Deg -> Root[-1.89448515274583*^59 - 7.430168740798631*^58*DEg - \n",
       "      1.4050275952462112*^43*DEg^2 + (-7.540518624290302*^58 - \n",
       "        1.4672119886427667*^58*DEg - 2.8098721209349*^42*DEg^2)*#1 + \n",
       "      (-1.993007113469223*^59 - 7.521065124767686*^58*DEg - \n",
       "        1.3313201930603204*^43*DEg^2)*#1^2 + \n",
       "      (-7.596873621997027*^58 - 1.470754608397605*^58*DEg - \n",
       "        2.635141336927239*^42*DEg^2)*#1^3 + \n",
       "      (-9.402303319526322*^57 - 7.250918622411091*^56*DEg - \n",
       "        1.3234666365339786*^41*DEg^2)*#1^4 + \n",
       "      (-3.7609213278105338*^56 + 1.2342530349233095*^54*DEg - \n",
       "        1.3031938497367324*^38*DEg^2)*#1^5 + \n",
       "      (-3.3240773280104133*^40 + 4.1141767830781344*^52*DEg - \n",
       "        6.812001381139556*^36*DEg^2)*#1^6 + \n",
       "      (5.202002342488491*^36 + 5.182172865604229*^35*DEg + \n",
       "        1.1679330193000632*^33*DEg^2)*#1^7 + \n",
       "      (1.3005005856221229*^35 + 2.9198325482501582*^31*DEg^2)*#1^8 & , 5]}, \n",
       " {Deg -> Root[-1.89448515274583*^59 - 7.430168740798631*^58*DEg - \n",
       "      1.4050275952462112*^43*DEg^2 + (-7.540518624290302*^58 - \n",
       "        1.4672119886427667*^58*DEg - 2.8098721209349*^42*DEg^2)*#1 + \n",
       "      (-1.993007113469223*^59 - 7.521065124767686*^58*DEg - \n",
       "        1.3313201930603204*^43*DEg^2)*#1^2 + \n",
       "      (-7.596873621997027*^58 - 1.470754608397605*^58*DEg - \n",
       "        2.635141336927239*^42*DEg^2)*#1^3 + \n",
       "      (-9.402303319526322*^57 - 7.250918622411091*^56*DEg - \n",
       "        1.3234666365339786*^41*DEg^2)*#1^4 + \n",
       "      (-3.7609213278105338*^56 + 1.2342530349233095*^54*DEg - \n",
       "        1.3031938497367324*^38*DEg^2)*#1^5 + \n",
       "      (-3.3240773280104133*^40 + 4.1141767830781344*^52*DEg - \n",
       "        6.812001381139556*^36*DEg^2)*#1^6 + \n",
       "      (5.202002342488491*^36 + 5.182172865604229*^35*DEg + \n",
       "        1.1679330193000632*^33*DEg^2)*#1^7 + \n",
       "      (1.3005005856221229*^35 + 2.9198325482501582*^31*DEg^2)*#1^8 & , 6]}, \n",
       " {Deg -> Root[-1.89448515274583*^59 - 7.430168740798631*^58*DEg - \n",
       "      1.4050275952462112*^43*DEg^2 + (-7.540518624290302*^58 - \n",
       "        1.4672119886427667*^58*DEg - 2.8098721209349*^42*DEg^2)*#1 + \n",
       "      (-1.993007113469223*^59 - 7.521065124767686*^58*DEg - \n",
       "        1.3313201930603204*^43*DEg^2)*#1^2 + \n",
       "      (-7.596873621997027*^58 - 1.470754608397605*^58*DEg - \n",
       "        2.635141336927239*^42*DEg^2)*#1^3 + \n",
       "      (-9.402303319526322*^57 - 7.250918622411091*^56*DEg - \n",
       "        1.3234666365339786*^41*DEg^2)*#1^4 + \n",
       "      (-3.7609213278105338*^56 + 1.2342530349233095*^54*DEg - \n",
       "        1.3031938497367324*^38*DEg^2)*#1^5 + \n",
       "      (-3.3240773280104133*^40 + 4.1141767830781344*^52*DEg - \n",
       "        6.812001381139556*^36*DEg^2)*#1^6 + \n",
       "      (5.202002342488491*^36 + 5.182172865604229*^35*DEg + \n",
       "        1.1679330193000632*^33*DEg^2)*#1^7 + \n",
       "      (1.3005005856221229*^35 + 2.9198325482501582*^31*DEg^2)*#1^8 & , 7]}, \n",
       " {Deg -> Root[-1.89448515274583*^59 - 7.430168740798631*^58*DEg - \n",
       "      1.4050275952462112*^43*DEg^2 + (-7.540518624290302*^58 - \n",
       "        1.4672119886427667*^58*DEg - 2.8098721209349*^42*DEg^2)*#1 + \n",
       "      (-1.993007113469223*^59 - 7.521065124767686*^58*DEg - \n",
       "        1.3313201930603204*^43*DEg^2)*#1^2 + \n",
       "      (-7.596873621997027*^58 - 1.470754608397605*^58*DEg - \n",
       "        2.635141336927239*^42*DEg^2)*#1^3 + \n",
       "      (-9.402303319526322*^57 - 7.250918622411091*^56*DEg - \n",
       "        1.3234666365339786*^41*DEg^2)*#1^4 + \n",
       "      (-3.7609213278105338*^56 + 1.2342530349233095*^54*DEg - \n",
       "        1.3031938497367324*^38*DEg^2)*#1^5 + \n",
       "      (-3.3240773280104133*^40 + 4.1141767830781344*^52*DEg - \n",
       "        6.812001381139556*^36*DEg^2)*#1^6 + \n",
       "      (5.202002342488491*^36 + 5.182172865604229*^35*DEg + \n",
       "        1.1679330193000632*^33*DEg^2)*#1^7 + \n",
       "      (1.3005005856221229*^35 + 2.9198325482501582*^31*DEg^2)*#1^8 & , 8]}}"
      ]
     },
     "execution_count": 163,
     "metadata": {},
     "output_type": "execute_result"
    }
   ],
   "source": [
    "sol"
   ]
  },
  {
   "cell_type": "code",
   "execution_count": 107,
   "id": "1ec2a4af",
   "metadata": {},
   "outputs": [
    {
     "data": {
      "text/html": [
       "<html><script type=\"math/tex; mode=display\">\\newcommand{\\Bold}[1]{\\mathbf{#1}}\\frac{0.00078 \\, {\\left(23 \\, {\\Delta_{e0\\gamma}}^{4} + 3424 \\, {\\left({\\Delta_{e0\\gamma}}^{2} + 0.25\\right)}^{2} + 61865984 \\, {\\Delta_{e0\\gamma}}^{2} + 61865984\\right)}}{27 \\, {\\Delta_{E\\gamma}}^{2} {\\Delta_{e0\\gamma}}^{4} + 483328 \\, {\\Delta_{E\\gamma}}^{2} {\\Delta_{e0\\gamma}}^{2} + 479232 \\, {\\Delta_{E\\gamma}} {\\Delta_{e0\\gamma}}^{3} + 120832 \\, {\\Delta_{e0\\gamma}}^{4} + 1808 \\, {\\left({\\Delta_{e0\\gamma}}^{2} + 0.25\\right)}^{2} + 483328 \\, {\\Delta_{E\\gamma}}^{2} + 479232 \\, {\\Delta_{E\\gamma}} {\\Delta_{e0\\gamma}} + 606208 \\, {\\Delta_{e0\\gamma}}^{2} + 479232} = \\frac{0.10 \\, {\\left(0.00098 \\, {\\Delta_{e0\\gamma}}^{2} {\\Delta_{e\\gamma}}^{2} + 99614720 \\, {\\left(2.2 \\, {\\Delta_{e\\gamma}}^{2} + 0.56\\right)} {\\Delta_{e0\\gamma}}^{2} + 999424 \\, {\\left(1.5 \\, {\\Delta_{e\\gamma}}^{2} + 0.38\\right)} {\\Delta_{e0\\gamma}}^{2} + 9984 \\, {\\left(0.34 \\, {\\Delta_{e\\gamma}}^{2} + 0.086\\right)} {\\Delta_{e0\\gamma}}^{2} + 100 \\, {\\left(0.031 \\, {\\Delta_{e\\gamma}}^{2} + 0.0078\\right)} {\\Delta_{e0\\gamma}}^{2} + 1030792151040 \\, {\\Delta_{e0\\gamma}}^{2} + 1992864825344 \\, {\\Delta_{e0\\gamma}} {\\Delta_{e\\gamma}} + 1030792151040 \\, {\\Delta_{e\\gamma}}^{2} + 4054449127424\\right)}}{226492416 \\, {\\Delta_{E\\gamma}}^{2} {\\Delta_{e0\\gamma}}^{2} {\\Delta_{e\\gamma}}^{2} + 1030792151040 \\, {\\Delta_{E\\gamma}}^{2} {\\Delta_{e0\\gamma}}^{2} + 1992864825344 \\, {\\Delta_{E\\gamma}}^{2} {\\Delta_{e0\\gamma}} {\\Delta_{e\\gamma}} + 2010044694528 \\, {\\Delta_{E\\gamma}} {\\Delta_{e0\\gamma}}^{2} {\\Delta_{e\\gamma}} + 1030792151040 \\, {\\Delta_{E\\gamma}}^{2} {\\Delta_{e\\gamma}}^{2} + 2010044694528 \\, {\\Delta_{E\\gamma}} {\\Delta_{e0\\gamma}} {\\Delta_{e\\gamma}}^{2} + 1013612281856 \\, {\\Delta_{e0\\gamma}}^{2} {\\Delta_{e\\gamma}}^{2} + 10066329600 \\, {\\left(1.5 \\, {\\Delta_{e\\gamma}}^{2} + 0.38\\right)} {\\Delta_{e0\\gamma}}^{2} + 99614720 \\, {\\left(1.2 \\, {\\Delta_{e\\gamma}}^{2} + 0.31\\right)} {\\Delta_{e0\\gamma}}^{2} + 9043968 \\, {\\left(1.1 \\, {\\Delta_{e\\gamma}}^{2} + 0.28\\right)} {\\Delta_{e0\\gamma}}^{2} + 90112 \\, {\\left(0.75 \\, {\\Delta_{e\\gamma}}^{2} + 0.19\\right)} {\\Delta_{e0\\gamma}}^{2} + 81788928 \\, {\\left(0.56 \\, {\\Delta_{e\\gamma}}^{2} + 0.14\\right)} {\\Delta_{e0\\gamma}}^{2} + 1818624 \\, {\\left(0.38 \\, {\\Delta_{e\\gamma}}^{2} + 0.094\\right)} {\\Delta_{e0\\gamma}}^{2} + 896 \\, {\\left(0.17 \\, {\\Delta_{e\\gamma}}^{2} + 0.043\\right)} {\\Delta_{e0\\gamma}}^{2} + 8192 \\, {\\left(0.086 \\, {\\Delta_{e\\gamma}}^{2} + 0.021\\right)} {\\Delta_{e0\\gamma}}^{2} + 9984 \\, {\\left(0.047 \\, {\\Delta_{e\\gamma}}^{2} + 0.012\\right)} {\\Delta_{e0\\gamma}}^{2} + 9 \\, {\\left(0.016 \\, {\\Delta_{e\\gamma}}^{2} + 0.0039\\right)} {\\Delta_{e0\\gamma}}^{2} + 82 \\, {\\left(0.0078 \\, {\\Delta_{e\\gamma}}^{2} + 0.0020\\right)} {\\Delta_{e0\\gamma}}^{2} + 4054449127424 \\, {\\Delta_{E\\gamma}}^{2} + 2010044694528 \\, {\\Delta_{E\\gamma}} {\\Delta_{e0\\gamma}} + 2267742732288 \\, {\\Delta_{e0\\gamma}}^{2} + 2010044694528 \\, {\\Delta_{E\\gamma}} {\\Delta_{e\\gamma}} + 498216206336 \\, {\\Delta_{e0\\gamma}} {\\Delta_{e\\gamma}} + 2267742732288 \\, {\\Delta_{e\\gamma}}^{2} + 4020089389056}</script></html>"
      ],
      "text/latex": [
       "$$\\newcommand{\\Bold}[1]{\\mathbf{#1}}\\frac{0.00078 \\, {\\left(23 \\, {\\Delta_{e0\\gamma}}^{4} + 3424 \\, {\\left({\\Delta_{e0\\gamma}}^{2} + 0.25\\right)}^{2} + 61865984 \\, {\\Delta_{e0\\gamma}}^{2} + 61865984\\right)}}{27 \\, {\\Delta_{E\\gamma}}^{2} {\\Delta_{e0\\gamma}}^{4} + 483328 \\, {\\Delta_{E\\gamma}}^{2} {\\Delta_{e0\\gamma}}^{2} + 479232 \\, {\\Delta_{E\\gamma}} {\\Delta_{e0\\gamma}}^{3} + 120832 \\, {\\Delta_{e0\\gamma}}^{4} + 1808 \\, {\\left({\\Delta_{e0\\gamma}}^{2} + 0.25\\right)}^{2} + 483328 \\, {\\Delta_{E\\gamma}}^{2} + 479232 \\, {\\Delta_{E\\gamma}} {\\Delta_{e0\\gamma}} + 606208 \\, {\\Delta_{e0\\gamma}}^{2} + 479232} = \\frac{0.10 \\, {\\left(0.00098 \\, {\\Delta_{e0\\gamma}}^{2} {\\Delta_{e\\gamma}}^{2} + 99614720 \\, {\\left(2.2 \\, {\\Delta_{e\\gamma}}^{2} + 0.56\\right)} {\\Delta_{e0\\gamma}}^{2} + 999424 \\, {\\left(1.5 \\, {\\Delta_{e\\gamma}}^{2} + 0.38\\right)} {\\Delta_{e0\\gamma}}^{2} + 9984 \\, {\\left(0.34 \\, {\\Delta_{e\\gamma}}^{2} + 0.086\\right)} {\\Delta_{e0\\gamma}}^{2} + 100 \\, {\\left(0.031 \\, {\\Delta_{e\\gamma}}^{2} + 0.0078\\right)} {\\Delta_{e0\\gamma}}^{2} + 1030792151040 \\, {\\Delta_{e0\\gamma}}^{2} + 1992864825344 \\, {\\Delta_{e0\\gamma}} {\\Delta_{e\\gamma}} + 1030792151040 \\, {\\Delta_{e\\gamma}}^{2} + 4054449127424\\right)}}{226492416 \\, {\\Delta_{E\\gamma}}^{2} {\\Delta_{e0\\gamma}}^{2} {\\Delta_{e\\gamma}}^{2} + 1030792151040 \\, {\\Delta_{E\\gamma}}^{2} {\\Delta_{e0\\gamma}}^{2} + 1992864825344 \\, {\\Delta_{E\\gamma}}^{2} {\\Delta_{e0\\gamma}} {\\Delta_{e\\gamma}} + 2010044694528 \\, {\\Delta_{E\\gamma}} {\\Delta_{e0\\gamma}}^{2} {\\Delta_{e\\gamma}} + 1030792151040 \\, {\\Delta_{E\\gamma}}^{2} {\\Delta_{e\\gamma}}^{2} + 2010044694528 \\, {\\Delta_{E\\gamma}} {\\Delta_{e0\\gamma}} {\\Delta_{e\\gamma}}^{2} + 1013612281856 \\, {\\Delta_{e0\\gamma}}^{2} {\\Delta_{e\\gamma}}^{2} + 10066329600 \\, {\\left(1.5 \\, {\\Delta_{e\\gamma}}^{2} + 0.38\\right)} {\\Delta_{e0\\gamma}}^{2} + 99614720 \\, {\\left(1.2 \\, {\\Delta_{e\\gamma}}^{2} + 0.31\\right)} {\\Delta_{e0\\gamma}}^{2} + 9043968 \\, {\\left(1.1 \\, {\\Delta_{e\\gamma}}^{2} + 0.28\\right)} {\\Delta_{e0\\gamma}}^{2} + 90112 \\, {\\left(0.75 \\, {\\Delta_{e\\gamma}}^{2} + 0.19\\right)} {\\Delta_{e0\\gamma}}^{2} + 81788928 \\, {\\left(0.56 \\, {\\Delta_{e\\gamma}}^{2} + 0.14\\right)} {\\Delta_{e0\\gamma}}^{2} + 1818624 \\, {\\left(0.38 \\, {\\Delta_{e\\gamma}}^{2} + 0.094\\right)} {\\Delta_{e0\\gamma}}^{2} + 896 \\, {\\left(0.17 \\, {\\Delta_{e\\gamma}}^{2} + 0.043\\right)} {\\Delta_{e0\\gamma}}^{2} + 8192 \\, {\\left(0.086 \\, {\\Delta_{e\\gamma}}^{2} + 0.021\\right)} {\\Delta_{e0\\gamma}}^{2} + 9984 \\, {\\left(0.047 \\, {\\Delta_{e\\gamma}}^{2} + 0.012\\right)} {\\Delta_{e0\\gamma}}^{2} + 9 \\, {\\left(0.016 \\, {\\Delta_{e\\gamma}}^{2} + 0.0039\\right)} {\\Delta_{e0\\gamma}}^{2} + 82 \\, {\\left(0.0078 \\, {\\Delta_{e\\gamma}}^{2} + 0.0020\\right)} {\\Delta_{e0\\gamma}}^{2} + 4054449127424 \\, {\\Delta_{E\\gamma}}^{2} + 2010044694528 \\, {\\Delta_{E\\gamma}} {\\Delta_{e0\\gamma}} + 2267742732288 \\, {\\Delta_{e0\\gamma}}^{2} + 2010044694528 \\, {\\Delta_{E\\gamma}} {\\Delta_{e\\gamma}} + 498216206336 \\, {\\Delta_{e0\\gamma}} {\\Delta_{e\\gamma}} + 2267742732288 \\, {\\Delta_{e\\gamma}}^{2} + 4020089389056}$$"
      ],
      "text/plain": [
       "0.00078*(23*De0g^4 + 3424*(De0g^2 + 0.25)^2 + 61865984*De0g^2 + 61865984)/(27*DEg^2*De0g^4 + 483328*DEg^2*De0g^2 + 479232*DEg*De0g^3 + 120832*De0g^4 + 1808*(De0g^2 + 0.25)^2 + 483328*DEg^2 + 479232*DEg*De0g + 606208*De0g^2 + 479232) == 0.10*(0.00098*De0g^2*Deg^2 + 99614720*(2.2*Deg^2 + 0.56)*De0g^2 + 999424*(1.5*Deg^2 + 0.38)*De0g^2 + 9984*(0.34*Deg^2 + 0.086)*De0g^2 + 100*(0.031*Deg^2 + 0.0078)*De0g^2 + 1030792151040*De0g^2 + 1992864825344*De0g*Deg + 1030792151040*Deg^2 + 4054449127424)/(226492416*DEg^2*De0g^2*Deg^2 + 1030792151040*DEg^2*De0g^2 + 1992864825344*DEg^2*De0g*Deg + 2010044694528*DEg*De0g^2*Deg + 1030792151040*DEg^2*Deg^2 + 2010044694528*DEg*De0g*Deg^2 + 1013612281856*De0g^2*Deg^2 + 10066329600*(1.5*Deg^2 + 0.38)*De0g^2 + 99614720*(1.2*Deg^2 + 0.31)*De0g^2 + 9043968*(1.1*Deg^2 + 0.28)*De0g^2 + 90112*(0.75*Deg^2 + 0.19)*De0g^2 + 81788928*(0.56*Deg^2 + 0.14)*De0g^2 + 1818624*(0.38*Deg^2 + 0.094)*De0g^2 + 896*(0.17*Deg^2 + 0.043)*De0g^2 + 8192*(0.086*Deg^2 + 0.021)*De0g^2 + 9984*(0.047*Deg^2 + 0.012)*De0g^2 + 9*(0.016*Deg^2 + 0.0039)*De0g^2 + 82*(0.0078*Deg^2 + 0.0020)*De0g^2 + 4054449127424*DEg^2 + 2010044694528*DEg*De0g + 2267742732288*De0g^2 + 2010044694528*DEg*Deg + 498216206336*De0g*Deg + 2267742732288*Deg^2 + 4020089389056)"
      ]
     },
     "metadata": {},
     "output_type": "display_data"
    }
   ],
   "source": [
    "show(symround(eq0.subs(C=100,c=100,Omega=1,gamma=1,r_g=0.1,r_f=0.9)))"
   ]
  },
  {
   "cell_type": "code",
   "execution_count": null,
   "id": "165fd448",
   "metadata": {},
   "outputs": [],
   "source": []
  }
 ],
 "metadata": {
  "kernelspec": {
   "display_name": "SageMath 9.3",
   "language": "sage",
   "name": "sagemath"
  },
  "language_info": {
   "codemirror_mode": {
    "name": "ipython",
    "version": 3
   },
   "file_extension": ".py",
   "mimetype": "text/x-python",
   "name": "python",
   "nbconvert_exporter": "python",
   "pygments_lexer": "ipython3",
   "version": "3.9.2"
  }
 },
 "nbformat": 4,
 "nbformat_minor": 5
}
