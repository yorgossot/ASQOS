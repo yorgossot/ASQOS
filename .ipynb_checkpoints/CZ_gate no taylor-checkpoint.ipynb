{
 "cells": [
  {
   "cell_type": "markdown",
   "id": "11ebbd1c",
   "metadata": {},
   "source": [
    "# CZ gate  without Taylor"
   ]
  },
  {
   "cell_type": "code",
   "execution_count": 93,
   "id": "a43f3bbd",
   "metadata": {
    "scrolled": false
   },
   "outputs": [],
   "source": [
    "from system import *\n",
    "#s1 =  system('2',MMA=True) \n",
    "s1 = load_object('o-x-o')"
   ]
  },
  {
   "cell_type": "markdown",
   "id": "9d56099a",
   "metadata": {},
   "source": [
    "# $\\Delta_{E\\gamma} = \\ \\dfrac{\\Delta_E}{\\gamma}\\, C^n \\qquad \\Delta_{e\\gamma} = \\ \\dfrac{\\Delta_e}{\\gamma}\\, C^m$"
   ]
  },
  {
   "cell_type": "code",
   "execution_count": 94,
   "id": "2c69c1d2",
   "metadata": {},
   "outputs": [],
   "source": [
    "var('n','m',domain='positive')\n",
    "n = 1/2\n",
    "m = 1/2"
   ]
  },
  {
   "cell_type": "markdown",
   "id": "20c87d69",
   "metadata": {},
   "source": [
    "# Effective Hamiltonian Matrix obtain NO $C \\longrightarrow \\infty$ limit"
   ]
  },
  {
   "cell_type": "code",
   "execution_count": 96,
   "id": "6398d4bb",
   "metadata": {
    "scrolled": true
   },
   "outputs": [
    {
     "name": "stdout",
     "output_type": "stream",
     "text": [
      "Calculating 0 out of [0, 1, 16, 17]...\n",
      "Calculating 1 out of [0, 1, 16, 17]...\n",
      "Calculating 16 out of [0, 1, 16, 17]...\n",
      "Calculating 17 out of [0, 1, 16, 17]...\n",
      "\n",
      "Real part of H_eff in ground state subspace taylor expanded in 1/C: \n"
     ]
    },
    {
     "data": {
      "text/html": [
       "<html><script type=\"math/tex; mode=display\">\\newcommand{\\Bold}[1]{\\mathbf{#1}}\\left(\\begin{array}{rrrr}\n",
       "-\\frac{1.426i \\, \\Omega^{2}}{{\\left(C - 3.189i \\, \\sqrt{C} + 2.244\\right)} \\gamma} & 0 & 0 & 0 \\\\\n",
       "0 & \\frac{{\\left(1.245 \\, C - 4.519i \\, \\sqrt{C} + 0.8312\\right)} \\Omega^{2}}{{\\left(0.1718i \\, C^{2} + 5.952 \\, C^{1.500} - 7.563i \\, C + 8.967 \\, \\sqrt{C} + 1.308i\\right)} \\gamma} & 0 & 0 \\\\\n",
       "0 & 0 & \\frac{{\\left(1.245 \\, C - 4.519i \\, \\sqrt{C} + 0.8312\\right)} \\Omega^{2}}{{\\left(0.1718i \\, C^{2} + 5.952 \\, C^{1.500} - 7.563i \\, C + 8.967 \\, \\sqrt{C} + 1.308i\\right)} \\gamma} & 0 \\\\\n",
       "0 & 0 & 0 & \\frac{{\\left(0.3310i \\, C^{2} - 6.769 \\, C^{1.500} - 11.04i \\, C - 4.519 \\, \\sqrt{C} + 0.4156i\\right)} \\Omega^{2}}{{\\left(0.02533 \\, C^{3} + 1.674i \\, C^{2.500} - 23.05 \\, C^{2} - 10.87i \\, C^{1.500} - 27.18 \\, C + 8.038i \\, \\sqrt{C} + 0.6538\\right)} \\gamma}\n",
       "\\end{array}\\right)</script></html>"
      ],
      "text/latex": [
       "$$\\newcommand{\\Bold}[1]{\\mathbf{#1}}\\left(\\begin{array}{rrrr}\n",
       "-\\frac{1.426i \\, \\Omega^{2}}{{\\left(C - 3.189i \\, \\sqrt{C} + 2.244\\right)} \\gamma} & 0 & 0 & 0 \\\\\n",
       "0 & \\frac{{\\left(1.245 \\, C - 4.519i \\, \\sqrt{C} + 0.8312\\right)} \\Omega^{2}}{{\\left(0.1718i \\, C^{2} + 5.952 \\, C^{1.500} - 7.563i \\, C + 8.967 \\, \\sqrt{C} + 1.308i\\right)} \\gamma} & 0 & 0 \\\\\n",
       "0 & 0 & \\frac{{\\left(1.245 \\, C - 4.519i \\, \\sqrt{C} + 0.8312\\right)} \\Omega^{2}}{{\\left(0.1718i \\, C^{2} + 5.952 \\, C^{1.500} - 7.563i \\, C + 8.967 \\, \\sqrt{C} + 1.308i\\right)} \\gamma} & 0 \\\\\n",
       "0 & 0 & 0 & \\frac{{\\left(0.3310i \\, C^{2} - 6.769 \\, C^{1.500} - 11.04i \\, C - 4.519 \\, \\sqrt{C} + 0.4156i\\right)} \\Omega^{2}}{{\\left(0.02533 \\, C^{3} + 1.674i \\, C^{2.500} - 23.05 \\, C^{2} - 10.87i \\, C^{1.500} - 27.18 \\, C + 8.038i \\, \\sqrt{C} + 0.6538\\right)} \\gamma}\n",
       "\\end{array}\\right)$$"
      ],
      "text/plain": [
       "[                                                                                                                                  -1.426*I*Omega^2/((C - 3.189*I*sqrt(C) + 2.244)*gamma)                                                                                                                                                                                        0                                                                                                                                                                                        0                                                                                                                                                                                        0]\n",
       "[                                                                                                                                                                                       0                                                                (1.245*C - 4.519*I*sqrt(C) + 0.8312)*Omega^2/((0.1718*I*C^2 + 5.952*C^1.500 - 7.563*I*C + 8.967*sqrt(C) + 1.308*I)*gamma)                                                                                                                                                                                        0                                                                                                                                                                                        0]\n",
       "[                                                                                                                                                                                       0                                                                                                                                                                                        0                                                                (1.245*C - 4.519*I*sqrt(C) + 0.8312)*Omega^2/((0.1718*I*C^2 + 5.952*C^1.500 - 7.563*I*C + 8.967*sqrt(C) + 1.308*I)*gamma)                                                                                                                                                                                        0]\n",
       "[                                                                                                                                                                                       0                                                                                                                                                                                        0                                                                                                                                                                                        0 (0.3310*I*C^2 - 6.769*C^1.500 - 11.04*I*C - 4.519*sqrt(C) + 0.4156*I)*Omega^2/((0.02533*C^3 + 1.674*I*C^2.500 - 23.05*C^2 - 10.87*I*C^1.500 - 27.18*C + 8.038*I*sqrt(C) + 0.6538)*gamma)]"
      ]
     },
     "metadata": {},
     "output_type": "display_data"
    }
   ],
   "source": [
    "phi_val = 0\n",
    "var('gamma','DE','De','g','g_f','Omega','v','gamma_f','gamma_g','phi',domain='positive')\n",
    "var('DEt',domain='complex',  latex_name =r'\\tilde{\\Delta }_E')\n",
    "var('Det',domain='complex',  latex_name =r'\\tilde{\\Delta }_e')\n",
    "var('DEg',domain='positive',  latex_name =r'\\Delta_{E\\gamma}')\n",
    "var('Deg',domain='positive',  latex_name =r'\\Delta_{e\\gamma}')\n",
    "var('kappa_c','kappa_b',domain='positive')\n",
    "var('C',domain='positive')\n",
    "var('c',domain='positive',  latex_name =r'c')\n",
    "\n",
    "eff_hamiltonian_tayl = sg.copy( s1.eff_hamiltonian.parent().zero())\n",
    "for diag in s1.pos_gs:\n",
    "    print(f'Calculating {diag} out of {s1.pos_gs}...')\n",
    "    #Take only one of the compl conj terms. Switch maybe second 0 to 1\n",
    "    min_expr_len = 10**10\n",
    "    for term in range(1):\n",
    "        b = s1.eff_hamiltonian[diag,diag]\n",
    "\n",
    "        b = b.operands()[1].operands()[term]\n",
    "        #b = b.subs(DE=+0.5*I*gamma_f + 0.5*I*gamma_g + DEt*gamma)\n",
    "        #b = b.subs(De=+0.5*I*gamma   +Det*gamma)\n",
    "        b = b.subs(De=Deg*gamma*C^m)\n",
    "        b = b.subs(DE=DEg*gamma*C^n)\n",
    "        \n",
    "        \n",
    "        var('R_f',domain='positive')#ratio  (g_f/g)^2\n",
    "        b = b.subs(g_f=g*sqrt(R_f))\n",
    "\n",
    "        var('R_v',domain='positive',  latex_name =r'R_{\\nu}') #ratio (v/g)^2\n",
    "        b = b.subs(v=g*sqrt(R_v))\n",
    "\n",
    "        var('r_b',domain='positive')\n",
    "        b = b.subs(kappa_b=gamma/r_b)\n",
    "        \n",
    "        var('r_f',domain='positive',latex_name =r'r_f')\n",
    "        b = b.subs(gamma_f=gamma*r_f)\n",
    "        \n",
    "        var('r_g',domain='positive',latex_name =r'r_g')\n",
    "        b = b.subs(gamma_g=gamma*r_g)\n",
    "        \n",
    "        b = b.subs(g = sqrt(C*gamma*kappa_c)) \n",
    "        b = b.subs(r_b = c/(C*R_v))\n",
    "\n",
    "        b = b*gamma  #Omega has to be substituted with Omega/gamma\n",
    "        \n",
    "        b = b.subs(c=np.pi,R_f=1,Deg=np.e,DEg=np.sqrt(5),r_g=np.sqrt(3),r_f=np.sqrt(2), phi=phi_val) \n",
    "\n",
    "        b = b._mathematica_().Factor()._sage_()\n",
    "        b = MMA_simplify(b)#,full=True)\n",
    "        #holds the smallest expression\n",
    "        if len(str(b))<min_expr_len:\n",
    "            min_expr_len = len(str(b))\n",
    "            h_eff = b\n",
    "        \n",
    "        h_eff = SR(str(h_eff).replace('Sqrt','sqrt'))\n",
    "    '''\n",
    "    q = h_eff.subs(C=1/x)\n",
    "    q = MMA_simplify(q)\n",
    "    tayl = q._mathematica_().Series((x,0,1)).Normal()._sage_()\n",
    "    tayl = tayl.subs(x=1/C)\n",
    "    '''\n",
    "    tayl = h_eff\n",
    "    \n",
    "    #tayl =  (tayl + conjugate(tayl))/2      # try with + conjugate_transp\n",
    "\n",
    "    #taylr = taylr.expand()\n",
    "    tayl = MMA_simplify(tayl,full=False)\n",
    "    tayl = SR(str(tayl).replace('Sqrt','sqrt'))\n",
    "    eff_hamiltonian_tayl[diag,diag] = Omega^2/gamma * tayl\n",
    "\n",
    "print('\\nReal part of H_eff in ground state subspace taylor expanded in 1/C: ')\n",
    "show(symround(eff_hamiltonian_tayl[s1.pos_gs,s1.pos_gs],digits=4))\n",
    "\n",
    "eff_hamiltonian_tayl = (eff_hamiltonian_tayl[s1.pos_gs,s1.pos_gs] + conjugate(eff_hamiltonian_tayl[s1.pos_gs,s1.pos_gs]))/2"
   ]
  },
  {
   "cell_type": "markdown",
   "id": "3c69018c",
   "metadata": {},
   "source": [
    "# CZ gate time"
   ]
  },
  {
   "cell_type": "code",
   "execution_count": 97,
   "id": "d737471d",
   "metadata": {},
   "outputs": [],
   "source": [
    "#l_0-l_1-l_2+l_3\n",
    "denom = eff_hamiltonian_tayl[0,0]+eff_hamiltonian_tayl[3,3]-eff_hamiltonian_tayl[1,1]-eff_hamiltonian_tayl[2,2]\n",
    "\n",
    "t_g = np.pi/denom\n",
    "t_g = MMA_simplify(t_g,full=False) #not full if too slow\n",
    "t_g = SR(str(t_g).replace('Sqrt','sqrt')).simplify()"
   ]
  },
  {
   "cell_type": "code",
   "execution_count": 98,
   "id": "efd4ff7b",
   "metadata": {},
   "outputs": [
    {
     "data": {
      "text/html": [
       "<html><script type=\"math/tex; mode=display\">\\newcommand{\\Bold}[1]{\\mathbf{#1}}\\frac{{\\left(C^{3} + 66 i \\, C^{2.5} - 912 \\, C^{2} - 428 i \\, C^{1.5} - 1072 \\, C + 316 i \\, \\sqrt{C} + 26.\\right)} {\\left(C^{3} - 66 i \\, C^{2.5} - 912 \\, C^{2} + 428 i \\, C^{1.5} - 1072 \\, C - 316 i \\, \\sqrt{C} + 26.\\right)} {\\left(C^{2} + 34.i \\, C^{1.5} - 44 \\, C + 52 i \\, \\sqrt{C} + 7.6\\right)} {\\left(C^{2} - 34.i \\, C^{1.5} - 44 \\, C - 52 i \\, \\sqrt{C} + 7.6\\right)} {\\left(C + 3.2i \\, \\sqrt{C} + 2.2\\right)} {\\left(0.021 \\, C - 0.066i \\, \\sqrt{C} + 0.046\\right)} \\gamma}{{\\left(C^{10} - 1696 \\, C^{9} - \\left(1.5 \\times 10^{-11}i\\right) \\, C^{8.5} - 704512 \\, C^{8} + 3309568 \\, C^{7} + \\left(6.3 \\times 10^{-9}i\\right) \\, C^{6.5} + 5439488 \\, C^{6} + 1032192 \\, C^{5} + \\left(1.8 \\times 10^{-7}i\\right) \\, C^{4.5} - 405504 \\, C^{4} + \\left(6.3 \\times 10^{-8}i\\right) \\, C^{3.5} - 14464 \\, C^{3} + \\left(1.9 \\times 10^{-8}i\\right) \\, C^{2.5} - \\left(2.0 \\times 10^{-8}\\right) \\, C^{2} + \\left(5.9 \\times 10^{-10}i\\right) \\, C^{1.5} - \\left(3.7 \\times 10^{-11}\\right) \\, C + \\left(3.1 \\times 10^{-11}i\\right) \\, \\sqrt{C} + 1.4 \\times 10^{-11}\\right)} \\sqrt{C} \\Omega^{2}}</script></html>"
      ],
      "text/latex": [
       "$$\\newcommand{\\Bold}[1]{\\mathbf{#1}}\\frac{{\\left(C^{3} + 66 i \\, C^{2.5} - 912 \\, C^{2} - 428 i \\, C^{1.5} - 1072 \\, C + 316 i \\, \\sqrt{C} + 26.\\right)} {\\left(C^{3} - 66 i \\, C^{2.5} - 912 \\, C^{2} + 428 i \\, C^{1.5} - 1072 \\, C - 316 i \\, \\sqrt{C} + 26.\\right)} {\\left(C^{2} + 34.i \\, C^{1.5} - 44 \\, C + 52 i \\, \\sqrt{C} + 7.6\\right)} {\\left(C^{2} - 34.i \\, C^{1.5} - 44 \\, C - 52 i \\, \\sqrt{C} + 7.6\\right)} {\\left(C + 3.2i \\, \\sqrt{C} + 2.2\\right)} {\\left(0.021 \\, C - 0.066i \\, \\sqrt{C} + 0.046\\right)} \\gamma}{{\\left(C^{10} - 1696 \\, C^{9} - \\left(1.5 \\times 10^{-11}i\\right) \\, C^{8.5} - 704512 \\, C^{8} + 3309568 \\, C^{7} + \\left(6.3 \\times 10^{-9}i\\right) \\, C^{6.5} + 5439488 \\, C^{6} + 1032192 \\, C^{5} + \\left(1.8 \\times 10^{-7}i\\right) \\, C^{4.5} - 405504 \\, C^{4} + \\left(6.3 \\times 10^{-8}i\\right) \\, C^{3.5} - 14464 \\, C^{3} + \\left(1.9 \\times 10^{-8}i\\right) \\, C^{2.5} - \\left(2.0 \\times 10^{-8}\\right) \\, C^{2} + \\left(5.9 \\times 10^{-10}i\\right) \\, C^{1.5} - \\left(3.7 \\times 10^{-11}\\right) \\, C + \\left(3.1 \\times 10^{-11}i\\right) \\, \\sqrt{C} + 1.4 \\times 10^{-11}\\right)} \\sqrt{C} \\Omega^{2}}$$"
      ],
      "text/plain": [
       "(C^3 + 66*I*C^2.5 - 912*C^2 - 428*I*C^1.5 - 1072*C + 316*I*sqrt(C) + 26.)*(C^3 - 66*I*C^2.5 - 912*C^2 + 428*I*C^1.5 - 1072*C - 316*I*sqrt(C) + 26.)*(C^2 + 34.*I*C^1.5 - 44*C + 52*I*sqrt(C) + 7.6)*(C^2 - 34.*I*C^1.5 - 44*C - 52*I*sqrt(C) + 7.6)*(C + 3.2*I*sqrt(C) + 2.2)*(0.021*C - 0.066*I*sqrt(C) + 0.046)*gamma/((C^10 - 1696*C^9 - (1.5e-11*I)*C^8.5 - 704512*C^8 + 3309568*C^7 + (6.3e-9*I)*C^6.5 + 5439488*C^6 + 1032192*C^5 + (1.8e-7*I)*C^4.5 - 405504*C^4 + (6.3e-8*I)*C^3.5 - 14464*C^3 + (1.9e-8*I)*C^2.5 - (2.0e-8)*C^2 + (5.9e-10*I)*C^1.5 - (3.7e-11)*C + (3.1e-11*I)*sqrt(C) + 1.4e-11)*sqrt(C)*Omega^2)"
      ]
     },
     "metadata": {},
     "output_type": "display_data"
    }
   ],
   "source": [
    "show(symround((t_g.subs())))\n",
    "#GHZ REGIME \n",
    "rf =1 \n",
    "de=122183415123789/100000000000000\n",
    "r_v=1.01014311134038/c\n",
    "#show(symround((t_g.subs(R_f =rf ,DEg=de,R_v=r_v))))"
   ]
  },
  {
   "cell_type": "code",
   "execution_count": 69,
   "id": "ceb45db6",
   "metadata": {},
   "outputs": [
    {
     "name": "stdout",
     "output_type": "stream",
     "text": [
      "symround: Deleted coefficient 7.2e-17\n",
      "symround: Deleted coefficient 1.1e-15\n",
      "symround: Deleted coefficient 5.4e-16\n",
      "symround: Deleted coefficient 3.1e-16\n",
      "symround: Deleted coefficient 7.7e-17\n",
      "symround: Deleted coefficient -3.7e-18\n",
      "symround: Deleted coefficient -1.3e-16\n",
      "symround: Deleted coefficient 3.3e-18\n",
      "symround: Deleted coefficient -3.6e-18\n",
      "symround: Deleted coefficient -1.6e-20\n"
     ]
    },
    {
     "data": {
      "text/html": [
       "<html><script type=\"math/tex; mode=display\">\\newcommand{\\Bold}[1]{\\mathbf{#1}}\\frac{{\\left(\\frac{13.i}{C} - \\frac{2.5}{C^{1.5}} + \\frac{6.9i}{C^{2}} + \\frac{1}{C^{2.5}}\\right)} {\\left(-\\frac{13.i}{C} - \\frac{2.5}{C^{1.5}} - \\frac{6.9i}{C^{2}} + \\frac{1}{C^{2.5}}\\right)} {\\left(-\\frac{0.16 \\, \\gamma}{\\Omega^{2}} - \\frac{0.45 \\, \\gamma}{C \\Omega^{2}}\\right)} {\\left(\\frac{1}{C^{2.5}} + \\frac{0.27i}{C^{3}} + \\frac{0.36}{C^{3.5}} + \\frac{0.12i}{C^{4}} - \\frac{0.010}{C^{4.5}}\\right)} {\\left(\\frac{1}{C^{2.5}} - \\frac{0.27i}{C^{3}} + \\frac{0.36}{C^{3.5}} - \\frac{0.12i}{C^{4}} - \\frac{0.010}{C^{4.5}}\\right)}}{\\frac{1}{C^{7.5}} + \\frac{0.77}{C^{8.5}} + \\frac{0.37}{C^{9.5}} + \\frac{0.18}{C^{10.}} + \\frac{0.039}{C^{12.}} + \\frac{0.0011}{C^{12.}}}</script></html>"
      ],
      "text/latex": [
       "$$\\newcommand{\\Bold}[1]{\\mathbf{#1}}\\frac{{\\left(\\frac{13.i}{C} - \\frac{2.5}{C^{1.5}} + \\frac{6.9i}{C^{2}} + \\frac{1}{C^{2.5}}\\right)} {\\left(-\\frac{13.i}{C} - \\frac{2.5}{C^{1.5}} - \\frac{6.9i}{C^{2}} + \\frac{1}{C^{2.5}}\\right)} {\\left(-\\frac{0.16 \\, \\gamma}{\\Omega^{2}} - \\frac{0.45 \\, \\gamma}{C \\Omega^{2}}\\right)} {\\left(\\frac{1}{C^{2.5}} + \\frac{0.27i}{C^{3}} + \\frac{0.36}{C^{3.5}} + \\frac{0.12i}{C^{4}} - \\frac{0.010}{C^{4.5}}\\right)} {\\left(\\frac{1}{C^{2.5}} - \\frac{0.27i}{C^{3}} + \\frac{0.36}{C^{3.5}} - \\frac{0.12i}{C^{4}} - \\frac{0.010}{C^{4.5}}\\right)}}{\\frac{1}{C^{7.5}} + \\frac{0.77}{C^{8.5}} + \\frac{0.37}{C^{9.5}} + \\frac{0.18}{C^{10.}} + \\frac{0.039}{C^{12.}} + \\frac{0.0011}{C^{12.}}}$$"
      ],
      "text/plain": [
       "(13.*I/C - 2.5/C^1.5 + 6.9*I/C^2 + 1/C^2.5)*(-13.*I/C - 2.5/C^1.5 - 6.9*I/C^2 + 1/C^2.5)*(-0.16*gamma/Omega^2 - 0.45*gamma/(C*Omega^2))*(1/C^2.5 + 0.27*I/C^3 + 0.36/C^3.5 + 0.12*I/C^4 - 0.010/C^4.5)*(1/C^2.5 - 0.27*I/C^3 + 0.36/C^3.5 - 0.12*I/C^4 - 0.010/C^4.5)/(1/C^7.5 + 0.77/C^8.5 + 0.37/C^9.5 + 0.18/C^10. + 0.039/C^12. + 0.0011/C^12.)"
      ]
     },
     "metadata": {},
     "output_type": "display_data"
    }
   ],
   "source": [
    "q = t_g.subs(C=1/x)\n",
    "q = MMA_simplify(q)\n",
    "tayl = q._mathematica_().Series((x,0,1)).Normal()._sage_()\n",
    "tayl = tayl.subs(x=1/C)\n",
    "show(symround(tayl))"
   ]
  },
  {
   "cell_type": "markdown",
   "id": "1498df0a",
   "metadata": {},
   "source": [
    "# Lindblau Operators no $C \\longrightarrow \\infty$ limit\n",
    "\n",
    "Choose which of the Lindblau operators to view and which non zero element of it"
   ]
  },
  {
   "cell_type": "code",
   "execution_count": 99,
   "id": "847371b4",
   "metadata": {
    "scrolled": true
   },
   "outputs": [
    {
     "name": "stdout",
     "output_type": "stream",
     "text": [
      "0 out of 8\n",
      "1 out of 8\n",
      "2 out of 8\n",
      "3 out of 8\n",
      "4 out of 8\n",
      "5 out of 8\n",
      "6 out of 8\n",
      "7 out of 8\n",
      "8 out of 8\n"
     ]
    }
   ],
   "source": [
    "lind_op_number = len(s1.lindblau_list)\n",
    "\n",
    "eff_lind_taylor = []\n",
    "eff_lind = []\n",
    "eff_lind_coeff = []\n",
    "for lind_op in range(lind_op_number):\n",
    "    print(f'{lind_op} out of {lind_op_number-1}')\n",
    "    eff_lind_taylor.append([])\n",
    "    eff_lind.append([])\n",
    "    L_matrix = s1.eff_lindblau_list[lind_op]\n",
    "    L_nonzeros = []\n",
    "    L_nonzeros_pos = []\n",
    "    for i in  range(L_matrix.nrows()):\n",
    "        for j in  range(L_matrix.ncols()):\n",
    "            if not L_matrix[i,j].is_zero():\n",
    "                L_nonzeros.append(L_matrix[i,j])\n",
    "                L_nonzeros_pos.append((i,j))\n",
    "    eff_lind_coeff.append(s1.L_coeffs[lind_op])\n",
    "    for which in range(len(L_nonzeros)):\n",
    "\n",
    "        L_elem = L_nonzeros[which]\n",
    "\n",
    "        #L_elem = L_elem.subs(DE=+0.5*I*gamma_f + 0.5*I*gamma_g + DEt*gamma)\n",
    "        #L_elem = L_elem.subs(De=+0.5*I*gamma   +Det*gamma)\n",
    "        L_elem = L_elem.subs(De=Deg*gamma*C^m)\n",
    "        L_elem = L_elem.subs(DE=DEg*gamma*C^n)\n",
    "\n",
    "        #COUPLINGS\n",
    "\n",
    "        L_elem = L_elem.subs(g_f=g*sqrt(R_f))\n",
    "\n",
    "        L_elem = L_elem.subs(v=g*sqrt(R_v))\n",
    "\n",
    "        #ABSORBTIONS\n",
    "        L_elem = L_elem.subs(kappa_b=gamma/r_b)\n",
    "\n",
    "        L_elem = L_elem.subs(gamma_g=gamma*r_g)\n",
    "\n",
    "        L_elem = L_elem.subs(gamma_f=gamma*r_f)\n",
    "\n",
    "        L_elem = L_elem.subs(g = sqrt(C*gamma*kappa_c)) \n",
    "        L_elem = L_elem.subs(r_b = c/(C*R_v))\n",
    "        \n",
    "        L_elem = L_elem.subs(c=np.pi,R_f=1,Deg=np.e,DEg=np.sqrt(5),r_g=np.sqrt(3),r_f=np.sqrt(2),phi=phi_val)\n",
    "        \n",
    "        L_elem = L_elem._mathematica_().Factor()._sage_()\n",
    "\n",
    "\n",
    "        L_elem = MMA_simplify(L_elem)#,full=True)\n",
    "\n",
    "        L_elem = SR(str(L_elem).replace('Sqrt','sqrt'))\n",
    "        \n",
    "        L_elem_show = symround(L_elem)\n",
    "        \n",
    "        eff_lind[lind_op].append(L_elem_show)\n",
    "        \n",
    "        var('x')\n",
    "        '''\n",
    "        q = L_elem.subs(C=1/x)\n",
    "        q = MMA_simplify(q)\n",
    "        tayl = q._mathematica_().Series((x,0,1)).Normal()._sage_()\n",
    "        tayl = tayl.subs(x=1/C)\n",
    "        '''\n",
    "        tayl = L_elem\n",
    "        tayl = SR(str(tayl).replace('Sqrt','sqrt'))\n",
    "        tayl_show = symround(tayl)\n",
    "        \n",
    "        eff_lind_taylor[-1].append(tayl_show)"
   ]
  },
  {
   "cell_type": "markdown",
   "id": "f1ddbf1c",
   "metadata": {},
   "source": [
    "# See results"
   ]
  },
  {
   "cell_type": "code",
   "execution_count": 103,
   "id": "bc6f635a",
   "metadata": {},
   "outputs": [
    {
     "data": {
      "text/html": [
       "<html><script type=\"math/tex; mode=display\">\\newcommand{\\Bold}[1]{\\mathbf{#1}}\\frac{{\\left(C^{3} - 66 i \\, C^{2.5} - 912 \\, C^{2} + 428 i \\, C^{1.5} - 1072 \\, C - 316 i \\, \\sqrt{C} + 26.\\right)} {\\left(0.81 \\, C^{3} + 54.i \\, C^{2.5} - 736 \\, C^{2} - 348 i \\, C^{1.5} - 872 \\, C + 256 i \\, \\sqrt{C} + 21\\right)} {\\left(C^{2} + 34.i \\, C^{1.5} - 44 \\, C + 52 i \\, \\sqrt{C} + 7.6\\right)} {\\left(C^{2} - 34.i \\, C^{1.5} - 44 \\, C - 52 i \\, \\sqrt{C} + 7.6\\right)} {\\left(C + 3.2i \\, \\sqrt{C} + 2.2\\right)} {\\left(C - 3.2i \\, \\sqrt{C} + 2.2\\right)} C^{1.5}}{{\\left(C^{10} - 1696 \\, C^{9} - \\left(1.5 \\times 10^{-11}i\\right) \\, C^{8.5} - 704512 \\, C^{8} + 3309568 \\, C^{7} + \\left(6.3 \\times 10^{-9}i\\right) \\, C^{6.5} + 5439488 \\, C^{6} + 1032192 \\, C^{5} + \\left(1.8 \\times 10^{-7}i\\right) \\, C^{4.5} - 405504 \\, C^{4} + \\left(6.3 \\times 10^{-8}i\\right) \\, C^{3.5} - 14464 \\, C^{3} + \\left(1.9 \\times 10^{-8}i\\right) \\, C^{2.5} - \\left(2.0 \\times 10^{-8}\\right) \\, C^{2} + \\left(5.9 \\times 10^{-10}i\\right) \\, C^{1.5} - \\left(3.7 \\times 10^{-11}\\right) \\, C + \\left(3.1 \\times 10^{-11}i\\right) \\, \\sqrt{C} + 1.4 \\times 10^{-11}\\right)} {\\left(C^{2} + 34.i \\, C^{1.5} - 44 \\, C + 52.i \\, \\sqrt{C} + 7.6\\right)} {\\left(C^{2} - 34.i \\, C^{1.5} - 44 \\, C - 52.i \\, \\sqrt{C} + 7.6\\right)}}</script></html>"
      ],
      "text/latex": [
       "$$\\newcommand{\\Bold}[1]{\\mathbf{#1}}\\frac{{\\left(C^{3} - 66 i \\, C^{2.5} - 912 \\, C^{2} + 428 i \\, C^{1.5} - 1072 \\, C - 316 i \\, \\sqrt{C} + 26.\\right)} {\\left(0.81 \\, C^{3} + 54.i \\, C^{2.5} - 736 \\, C^{2} - 348 i \\, C^{1.5} - 872 \\, C + 256 i \\, \\sqrt{C} + 21\\right)} {\\left(C^{2} + 34.i \\, C^{1.5} - 44 \\, C + 52 i \\, \\sqrt{C} + 7.6\\right)} {\\left(C^{2} - 34.i \\, C^{1.5} - 44 \\, C - 52 i \\, \\sqrt{C} + 7.6\\right)} {\\left(C + 3.2i \\, \\sqrt{C} + 2.2\\right)} {\\left(C - 3.2i \\, \\sqrt{C} + 2.2\\right)} C^{1.5}}{{\\left(C^{10} - 1696 \\, C^{9} - \\left(1.5 \\times 10^{-11}i\\right) \\, C^{8.5} - 704512 \\, C^{8} + 3309568 \\, C^{7} + \\left(6.3 \\times 10^{-9}i\\right) \\, C^{6.5} + 5439488 \\, C^{6} + 1032192 \\, C^{5} + \\left(1.8 \\times 10^{-7}i\\right) \\, C^{4.5} - 405504 \\, C^{4} + \\left(6.3 \\times 10^{-8}i\\right) \\, C^{3.5} - 14464 \\, C^{3} + \\left(1.9 \\times 10^{-8}i\\right) \\, C^{2.5} - \\left(2.0 \\times 10^{-8}\\right) \\, C^{2} + \\left(5.9 \\times 10^{-10}i\\right) \\, C^{1.5} - \\left(3.7 \\times 10^{-11}\\right) \\, C + \\left(3.1 \\times 10^{-11}i\\right) \\, \\sqrt{C} + 1.4 \\times 10^{-11}\\right)} {\\left(C^{2} + 34.i \\, C^{1.5} - 44 \\, C + 52.i \\, \\sqrt{C} + 7.6\\right)} {\\left(C^{2} - 34.i \\, C^{1.5} - 44 \\, C - 52.i \\, \\sqrt{C} + 7.6\\right)}}$$"
      ],
      "text/plain": [
       "(C^3 - 66*I*C^2.5 - 912*C^2 + 428*I*C^1.5 - 1072*C - 316*I*sqrt(C) + 26.)*(0.81*C^3 + 54.*I*C^2.5 - 736*C^2 - 348*I*C^1.5 - 872*C + 256*I*sqrt(C) + 21)*(C^2 + 34.*I*C^1.5 - 44*C + 52*I*sqrt(C) + 7.6)*(C^2 - 34.*I*C^1.5 - 44*C - 52*I*sqrt(C) + 7.6)*(C + 3.2*I*sqrt(C) + 2.2)*(C - 3.2*I*sqrt(C) + 2.2)*C^1.5/((C^10 - 1696*C^9 - (1.5e-11*I)*C^8.5 - 704512*C^8 + 3309568*C^7 + (6.3e-9*I)*C^6.5 + 5439488*C^6 + 1032192*C^5 + (1.8e-7*I)*C^4.5 - 405504*C^4 + (6.3e-8*I)*C^3.5 - 14464*C^3 + (1.9e-8*I)*C^2.5 - (2.0e-8)*C^2 + (5.9e-10*I)*C^1.5 - (3.7e-11)*C + (3.1e-11*I)*sqrt(C) + 1.4e-11)*(C^2 + 34.*I*C^1.5 - 44*C + 52.*I*sqrt(C) + 7.6)*(C^2 - 34.*I*C^1.5 - 44*C - 52.*I*sqrt(C) + 7.6))"
      ]
     },
     "metadata": {},
     "output_type": "display_data"
    },
    {
     "name": "stdout",
     "output_type": "stream",
     "text": [
      "coeff:\n"
     ]
    },
    {
     "data": {
      "text/html": [
       "<html><script type=\"math/tex; mode=display\">\\newcommand{\\Bold}[1]{\\mathbf{#1}}\\sqrt{\\gamma}</script></html>"
      ],
      "text/latex": [
       "$$\\newcommand{\\Bold}[1]{\\mathbf{#1}}\\sqrt{\\gamma}$$"
      ],
      "text/plain": [
       "sqrt(gamma)"
      ]
     },
     "metadata": {},
     "output_type": "display_data"
    }
   ],
   "source": [
    "lindop = 1\n",
    "#t_g = gamma/Omega^2 * C^0.5\n",
    "a = eff_lind_taylor[lindop][0]\n",
    "err = t_g*a*conjugate(a)\n",
    "err = SR(str(MMA_simplify( err,full=False )).replace('Sqrt','sqrt')).simplify()\n",
    "show( symround( err ) )\n",
    "print(f'coeff:')\n",
    "show(eff_lind_coeff[lindop])"
   ]
  },
  {
   "cell_type": "code",
   "execution_count": 104,
   "id": "31ddb98f",
   "metadata": {},
   "outputs": [
    {
     "data": {
      "text/html": [
       "<html><script type=\"math/tex; mode=display\">\\newcommand{\\Bold}[1]{\\mathbf{#1}}0.811313766533441 \\, C^{\\frac{27}{2}} + \\left(3.1086244689504383 \\times 10^{-15}i\\right) \\, C^{13} + 2981.434063485231 \\, C^{\\frac{25}{2}} + \\left(5.4569682106375694 \\times 10^{-12}i\\right) \\, C^{12} + 2971359.0531337005 \\, C^{\\frac{23}{2}} + \\left(1.862645149230957 \\times 10^{-09}i\\right) \\, C^{11} + 750529512.4837118 \\, C^{\\frac{21}{2}} + \\left(9.5367431640625 \\times 10^{-07}i\\right) \\, C^{10} + 15834890083.961231 \\, C^{\\frac{19}{2}} + 95294502994.50436 \\, C^{\\frac{17}{2}} - \\left(7.62939453125 \\times 10^{-06}i\\right) \\, C^{8} + 208996705536.5621 \\, C^{\\frac{15}{2}} - \\left(2.288818359375 \\times 10^{-05}i\\right) \\, C^{7} + 170931453458.14423 \\, C^{\\frac{13}{2}} + 62533446751.116615 \\, C^{\\frac{11}{2}} - \\left(7.3909759521484375 \\times 10^{-06}i\\right) \\, C^{5} + 10254099387.993645 \\, C^{\\frac{9}{2}} - \\left(1.2218952178955078 \\times 10^{-06}i\\right) \\, C^{4} + 639481152.924291 \\, C^{\\frac{7}{2}} - \\left(2.2118911147117615 \\times 10^{-09}i\\right) \\, C^{3} + 16763118.874850856 \\, C^{\\frac{5}{2}} + \\left(5.820766091346741 \\times 10^{-11}i\\right) \\, C^{2} + 157560.08615516865 \\, C^{\\frac{3}{2}}</script></html>"
      ],
      "text/latex": [
       "$$\\newcommand{\\Bold}[1]{\\mathbf{#1}}0.811313766533441 \\, C^{\\frac{27}{2}} + \\left(3.1086244689504383 \\times 10^{-15}i\\right) \\, C^{13} + 2981.434063485231 \\, C^{\\frac{25}{2}} + \\left(5.4569682106375694 \\times 10^{-12}i\\right) \\, C^{12} + 2971359.0531337005 \\, C^{\\frac{23}{2}} + \\left(1.862645149230957 \\times 10^{-09}i\\right) \\, C^{11} + 750529512.4837118 \\, C^{\\frac{21}{2}} + \\left(9.5367431640625 \\times 10^{-07}i\\right) \\, C^{10} + 15834890083.961231 \\, C^{\\frac{19}{2}} + 95294502994.50436 \\, C^{\\frac{17}{2}} - \\left(7.62939453125 \\times 10^{-06}i\\right) \\, C^{8} + 208996705536.5621 \\, C^{\\frac{15}{2}} - \\left(2.288818359375 \\times 10^{-05}i\\right) \\, C^{7} + 170931453458.14423 \\, C^{\\frac{13}{2}} + 62533446751.116615 \\, C^{\\frac{11}{2}} - \\left(7.3909759521484375 \\times 10^{-06}i\\right) \\, C^{5} + 10254099387.993645 \\, C^{\\frac{9}{2}} - \\left(1.2218952178955078 \\times 10^{-06}i\\right) \\, C^{4} + 639481152.924291 \\, C^{\\frac{7}{2}} - \\left(2.2118911147117615 \\times 10^{-09}i\\right) \\, C^{3} + 16763118.874850856 \\, C^{\\frac{5}{2}} + \\left(5.820766091346741 \\times 10^{-11}i\\right) \\, C^{2} + 157560.08615516865 \\, C^{\\frac{3}{2}}$$"
      ],
      "text/plain": [
       "0.811313766533441*C^(27/2) + (3.1086244689504383e-15*I)*C^13 + 2981.434063485231*C^(25/2) + (5.4569682106375694e-12*I)*C^12 + 2971359.0531337005*C^(23/2) + (1.862645149230957e-09*I)*C^11 + 750529512.4837118*C^(21/2) + (9.5367431640625e-07*I)*C^10 + 15834890083.961231*C^(19/2) + 95294502994.50436*C^(17/2) - (7.62939453125e-06*I)*C^8 + 208996705536.5621*C^(15/2) - (2.288818359375e-05*I)*C^7 + 170931453458.14423*C^(13/2) + 62533446751.116615*C^(11/2) - (7.3909759521484375e-06*I)*C^5 + 10254099387.993645*C^(9/2) - (1.2218952178955078e-06*I)*C^4 + 639481152.924291*C^(7/2) - (2.2118911147117615e-09*I)*C^3 + 16763118.874850856*C^(5/2) + (5.820766091346741e-11*I)*C^2 + 157560.08615516865*C^(3/2)"
      ]
     },
     "metadata": {},
     "output_type": "display_data"
    }
   ],
   "source": [
    "show(err.numerator().expand())"
   ]
  },
  {
   "cell_type": "code",
   "execution_count": 105,
   "id": "8f113cbf",
   "metadata": {},
   "outputs": [
    {
     "data": {
      "text/html": [
       "<html><script type=\"math/tex; mode=display\">\\newcommand{\\Bold}[1]{\\mathbf{#1}}1.0 \\, C^{14} - 598.1074620359257 \\, C^{13.0} - \\left(1.5369039374490967 \\times 10^{-11}i\\right) \\, C^{\\frac{25}{2}} + \\left(4.547473508864641 \\times 10^{-12}i\\right) \\, C^{12.5} - 2578418.4288260443 \\, C^{12} - \\left(2.3748725652694702 \\times 10^{-08}i\\right) \\, C^{11.5} + \\left(1.3474164006765932 \\times 10^{-09}i\\right) \\, C^{\\frac{23}{2}} - 781307226.1664569 \\, C^{11} - \\left(5.494803190231323 \\times 10^{-08}i\\right) \\, C^{\\frac{21}{2}} - 238398485.4253342 \\, C^{10} + \\left(6.67572021484375 \\times 10^{-06}i\\right) \\, C^{9.5} - \\left(7.152557373046875 \\times 10^{-07}i\\right) \\, C^{\\frac{19}{2}} + 23002037636.369507 \\, C^{9} + \\left(2.384185791015625 \\times 10^{-05}i\\right) \\, C^{\\frac{17}{2}} + \\left(1.239776611328125 \\times 10^{-05}i\\right) \\, C^{8.5} + 38156820222.81761 \\, C^{8} + 0.0002105236053466797i \\, C^{7.5} - \\left(1.9073486328125 \\times 10^{-06}i\\right) \\, C^{\\frac{15}{2}} + 16720500519.057753 \\, C^{7} + 0.0006585121154785156i \\, C^{\\frac{13}{2}} + 0.00039386749267578125i \\, C^{6.5} + 176099996.32904434 \\, C^{6} + 0.0005997419357299805i \\, C^{\\frac{11}{2}} + 0.00013638660311698914i \\, C^{5.5} - 861028405.9437343 \\, C^{5} + 0.0002115108072757721i \\, C^{\\frac{9}{2}} + \\left(3.4862531926452876 \\times 10^{-05}i\\right) \\, C^{4.5} - 53517888.79831597 \\, C^{4} + \\left(4.4972266869498955 \\times 10^{-05}i\\right) \\, C^{\\frac{7}{2}} + \\left(1.1040998736847376 \\times 10^{-06}i\\right) \\, C^{3.5} - 840145.2845780352 \\, C^{3} + \\left(2.437268451233961 \\times 10^{-06}i\\right) \\, C^{\\frac{5}{2}} + \\left(5.559477482775144 \\times 10^{-08}i\\right) \\, C^{2.5} - \\left(1.1879995459650685 \\times 10^{-06}\\right) \\, C^{2} + \\left(9.800201050985519 \\times 10^{-08}i\\right) \\, C^{\\frac{3}{2}} + \\left(2.7673466055340225 \\times 10^{-08}\\right) \\, C + \\left(1.7906839579563082 \\times 10^{-09}i\\right) \\, \\sqrt{C} + 8.393831052920169 \\times 10^{-10}</script></html>"
      ],
      "text/latex": [
       "$$\\newcommand{\\Bold}[1]{\\mathbf{#1}}1.0 \\, C^{14} - 598.1074620359257 \\, C^{13.0} - \\left(1.5369039374490967 \\times 10^{-11}i\\right) \\, C^{\\frac{25}{2}} + \\left(4.547473508864641 \\times 10^{-12}i\\right) \\, C^{12.5} - 2578418.4288260443 \\, C^{12} - \\left(2.3748725652694702 \\times 10^{-08}i\\right) \\, C^{11.5} + \\left(1.3474164006765932 \\times 10^{-09}i\\right) \\, C^{\\frac{23}{2}} - 781307226.1664569 \\, C^{11} - \\left(5.494803190231323 \\times 10^{-08}i\\right) \\, C^{\\frac{21}{2}} - 238398485.4253342 \\, C^{10} + \\left(6.67572021484375 \\times 10^{-06}i\\right) \\, C^{9.5} - \\left(7.152557373046875 \\times 10^{-07}i\\right) \\, C^{\\frac{19}{2}} + 23002037636.369507 \\, C^{9} + \\left(2.384185791015625 \\times 10^{-05}i\\right) \\, C^{\\frac{17}{2}} + \\left(1.239776611328125 \\times 10^{-05}i\\right) \\, C^{8.5} + 38156820222.81761 \\, C^{8} + 0.0002105236053466797i \\, C^{7.5} - \\left(1.9073486328125 \\times 10^{-06}i\\right) \\, C^{\\frac{15}{2}} + 16720500519.057753 \\, C^{7} + 0.0006585121154785156i \\, C^{\\frac{13}{2}} + 0.00039386749267578125i \\, C^{6.5} + 176099996.32904434 \\, C^{6} + 0.0005997419357299805i \\, C^{\\frac{11}{2}} + 0.00013638660311698914i \\, C^{5.5} - 861028405.9437343 \\, C^{5} + 0.0002115108072757721i \\, C^{\\frac{9}{2}} + \\left(3.4862531926452876 \\times 10^{-05}i\\right) \\, C^{4.5} - 53517888.79831597 \\, C^{4} + \\left(4.4972266869498955 \\times 10^{-05}i\\right) \\, C^{\\frac{7}{2}} + \\left(1.1040998736847376 \\times 10^{-06}i\\right) \\, C^{3.5} - 840145.2845780352 \\, C^{3} + \\left(2.437268451233961 \\times 10^{-06}i\\right) \\, C^{\\frac{5}{2}} + \\left(5.559477482775144 \\times 10^{-08}i\\right) \\, C^{2.5} - \\left(1.1879995459650685 \\times 10^{-06}\\right) \\, C^{2} + \\left(9.800201050985519 \\times 10^{-08}i\\right) \\, C^{\\frac{3}{2}} + \\left(2.7673466055340225 \\times 10^{-08}\\right) \\, C + \\left(1.7906839579563082 \\times 10^{-09}i\\right) \\, \\sqrt{C} + 8.393831052920169 \\times 10^{-10}$$"
      ],
      "text/plain": [
       "1.0*C^14 - 598.1074620359257*C^13.0 - (1.5369039374490967e-11*I)*C^(25/2) + (4.547473508864641e-12*I)*C^12.5 - 2578418.4288260443*C^12 - (2.3748725652694702e-08*I)*C^11.5 + (1.3474164006765932e-09*I)*C^(23/2) - 781307226.1664569*C^11 - (5.494803190231323e-08*I)*C^(21/2) - 238398485.4253342*C^10 + (6.67572021484375e-06*I)*C^9.5 - (7.152557373046875e-07*I)*C^(19/2) + 23002037636.369507*C^9 + (2.384185791015625e-05*I)*C^(17/2) + (1.239776611328125e-05*I)*C^8.5 + 38156820222.81761*C^8 + 0.0002105236053466797*I*C^7.5 - (1.9073486328125e-06*I)*C^(15/2) + 16720500519.057753*C^7 + 0.0006585121154785156*I*C^(13/2) + 0.00039386749267578125*I*C^6.5 + 176099996.32904434*C^6 + 0.0005997419357299805*I*C^(11/2) + 0.00013638660311698914*I*C^5.5 - 861028405.9437343*C^5 + 0.0002115108072757721*I*C^(9/2) + (3.4862531926452876e-05*I)*C^4.5 - 53517888.79831597*C^4 + (4.4972266869498955e-05*I)*C^(7/2) + (1.1040998736847376e-06*I)*C^3.5 - 840145.2845780352*C^3 + (2.437268451233961e-06*I)*C^(5/2) + (5.559477482775144e-08*I)*C^2.5 - (1.1879995459650685e-06)*C^2 + (9.800201050985519e-08*I)*C^(3/2) + (2.7673466055340225e-08)*C + (1.7906839579563082e-09*I)*sqrt(C) + 8.393831052920169e-10"
      ]
     },
     "metadata": {},
     "output_type": "display_data"
    }
   ],
   "source": [
    "show(err.denominator().expand())"
   ]
  },
  {
   "cell_type": "code",
   "execution_count": null,
   "id": "af6015bc",
   "metadata": {},
   "outputs": [],
   "source": []
  }
 ],
 "metadata": {
  "kernelspec": {
   "display_name": "SageMath 9.3",
   "language": "sage",
   "name": "sagemath"
  },
  "language_info": {
   "codemirror_mode": {
    "name": "ipython",
    "version": 3
   },
   "file_extension": ".py",
   "mimetype": "text/x-python",
   "name": "python",
   "nbconvert_exporter": "python",
   "pygments_lexer": "ipython3",
   "version": "3.9.2"
  }
 },
 "nbformat": 4,
 "nbformat_minor": 5
}
