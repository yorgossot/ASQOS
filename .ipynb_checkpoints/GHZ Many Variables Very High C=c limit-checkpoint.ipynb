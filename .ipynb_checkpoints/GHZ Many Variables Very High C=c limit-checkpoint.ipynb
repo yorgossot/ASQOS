{
 "cells": [
  {
   "cell_type": "markdown",
   "id": "11ebbd1c",
   "metadata": {},
   "source": [
    "# Many Variables  GHZ"
   ]
  },
  {
   "cell_type": "code",
   "execution_count": 2,
   "id": "a43f3bbd",
   "metadata": {
    "scrolled": false
   },
   "outputs": [
    {
     "name": "stdout",
     "output_type": "stream",
     "text": [
      "Started!\n",
      "Initializing system o-o-x-o-  ...\n",
      "Constructing states and excitations...\n",
      "Constructing ground and first-excited statespace...\n",
      "Constructing gs_hamiltonian ...\n",
      "Constructing e1_hamiltonian ...\n",
      "Constructing interactions V_plus and V_minus ...\n",
      "Constructing NJ_hamiltonian  ...\n",
      "Inverting NJ_hamiltonian  ...\n",
      "Constructing eff_hamiltonian and effective lindblau operators ...\n",
      "\n",
      "System  o-o-x-o-  initialized in 568.5 seconds.\n"
     ]
    }
   ],
   "source": [
    "print('Started!')\n",
    "from system import *\n",
    "s1 = system('o-o-x-o-',MMA=True,ManyVariables = True)\n",
    "#s1 = load_object('GHZ')"
   ]
  },
  {
   "cell_type": "markdown",
   "id": "20c87d69",
   "metadata": {},
   "source": [
    "# Effective Hamiltonian Matrix obtain "
   ]
  },
  {
   "cell_type": "code",
   "execution_count": 688,
   "id": "6398d4bb",
   "metadata": {
    "scrolled": true
   },
   "outputs": [
    {
     "name": "stdout",
     "output_type": "stream",
     "text": [
      "Calculating 0 out of [0, 1, 18, 19, 48, 49, 66, 67]...\n",
      "Calculating 1 out of [0, 1, 18, 19, 48, 49, 66, 67]...\n",
      "Calculating 18 out of [0, 1, 18, 19, 48, 49, 66, 67]...\n",
      "Calculating 19 out of [0, 1, 18, 19, 48, 49, 66, 67]...\n",
      "Calculating 48 out of [0, 1, 18, 19, 48, 49, 66, 67]...\n",
      "Calculating 49 out of [0, 1, 18, 19, 48, 49, 66, 67]...\n",
      "Calculating 66 out of [0, 1, 18, 19, 48, 49, 66, 67]...\n",
      "Calculating 67 out of [0, 1, 18, 19, 48, 49, 66, 67]...\n",
      "\n",
      " Done! \n",
      "0 out of 12\n",
      "1 out of 12\n",
      "2 out of 12\n",
      "3 out of 12\n",
      "4 out of 12\n",
      "5 out of 12\n",
      "6 out of 12\n",
      "7 out of 12\n",
      "8 out of 12\n",
      "9 out of 12\n",
      "10 out of 12\n",
      "11 out of 12\n",
      "12 out of 12\n",
      "\n",
      " Done!\n"
     ]
    }
   ],
   "source": [
    "#phi_val = np.pi/180 * 30\n",
    "n = 1\n",
    "\n",
    "total_indices = s1.variable_index\n",
    "\n",
    "var('De1', domain='positive')\n",
    "var('Deg1', domain='positive' , latex_name =r'{{\\Delta e}}_{{  1}}^\\gamma')\n",
    "var('De2', domain='positive')\n",
    "var('Deg2', domain='positive' , latex_name =r'{{\\Delta e}}_{{  2}}^\\gamma')\n",
    "var('De3', domain='positive')\n",
    "var('Deg3', domain='positive' , latex_name =r'{{\\Delta e}}_{{  3}}^\\gamma')    \n",
    "\n",
    "var('gamma','DE','De','g','g_f','Omega','v','gamma_f','gamma_g','phi',domain='positive')\n",
    "var('DEg', domain='positive' , latex_name =r'{{\\Delta E}}^\\gamma')\n",
    "var('kappa_c','kappa_b',domain='positive')\n",
    "var('C',domain='positive')\n",
    "var('c',domain='positive',  latex_name =r'c')\n",
    "var('r_f',domain='positive',latex_name =r'r_f')\n",
    "var('r_g',domain='positive',latex_name =r'r_g')\n",
    "var('R_f',domain='positive')#ratio  (g_f/g)^2\n",
    "eff_hamiltonian_tayl = sg.copy( s1.eff_hamiltonian.parent().zero())\n",
    "for diag in s1.pos_gs:\n",
    "    print(f'Calculating {diag} out of {s1.pos_gs}...')\n",
    "    min_expr_len = 10**10\n",
    "    for term in range(1):\n",
    "        b = s1.eff_hamiltonian[diag,diag]\n",
    "        b = b.operands()[1].operands()[term]\n",
    "        if len(str(b))<10: #we isolated Omega^2 instead of one of the conjugate pairs\n",
    "            b = s1.eff_hamiltonian[diag,diag].operands()[0].operands()[term]\n",
    "        \n",
    "        b = b._mathematica_().ReplaceAll(f'DE->DEg*gamma*C^({n})')._sage_()\n",
    "        #b = b.subs(DE = DEg*gamma*C^n)\n",
    "        \n",
    "        b = b._mathematica_().ReplaceAll(f'De1->Deg1*gamma*C^({n})')._sage_()\n",
    "        #b = b.subs(De1 = Deg1*gamma*C^n) #sqrt C scaling!?\n",
    "        \n",
    "        b = b._mathematica_().ReplaceAll(f'De2->Deg2*gamma*C^({n})')._sage_()\n",
    "        #b = b.subs(De2 = Deg2*gamma*C^n) #MAKE ZERO\n",
    "        \n",
    "        b = b._mathematica_().ReplaceAll(f'De3->Deg2*gamma*C^({n})')._sage_()\n",
    "        #b = b.subs(De3 = Deg3*gamma*C^n) #MAKE ZERO  \n",
    "        \n",
    "        #b = b.subs(phi = phi_val)\n",
    "        \n",
    "        #b = MMA_simplify(b)\n",
    "        \n",
    "        #b = b._mathematica_().ReplaceAll('g_f->g*(R_f)^(1/2)')._sage_()\n",
    "        b = b.subs(g_f=g*(R_f)^(1/2))\n",
    "\n",
    "        b = b._mathematica_().ReplaceAll('gamma_f->gamma*r_f')._sage_()\n",
    "        #b = b.subs(gamma_f=gamma*r_f)\n",
    "\n",
    "        b = b._mathematica_().ReplaceAll('gamma_g->gamma*r_g')._sage_()\n",
    "        #b = b.subs(gamma_g=gamma*r_g)\n",
    "        \n",
    "        #b = b._mathematica_().ReplaceAll(\"g-> (C*gamma*kappa_c)^(1/2)\")._sage_()\n",
    "        b = b.subs(g = (C*gamma*kappa_c)^(1/2)) \n",
    "        \n",
    "        b = b._mathematica_().ReplaceAll('v->(c*kappa_b*kappa_c)^(1/2)')._sage_()\n",
    "        #b = b.subs(v = (c*kappa_b*kappa_c)^(1/2) )\n",
    "        \n",
    "        \n",
    "\n",
    "        #Substitutions\n",
    "        #b = b.subs(c=np.pi,R_f=2.1,Deg=np.e,DEg=np.sqrt(5),r_g=np.sqrt(3),r_f=np.sqrt(2), phi=phi_val) \n",
    "        #b = b.subs(phi=phi_val)\n",
    "\n",
    "        #b = b._mathematica_().Factor()._sage_()\n",
    "        #b = b._mathematica_().Together()._sage_()\n",
    "\n",
    "\n",
    "        b = SR(str(b).replace('Sqrt','sqrt'))\n",
    "        if len(str(b))<min_expr_len:\n",
    "            min_expr_len = len(str(b))\n",
    "            h_eff = b\n",
    "    \n",
    "    h_eff = h_eff.subs(c=C)\n",
    "    h_eff = MMA_simplify(h_eff)\n",
    "    '''\n",
    "    h_eff = SR(str(h_eff).replace('Sqrt','sqrt'))\n",
    "    var('x')\n",
    "    h_eff = h_eff.subs(C=1/x)\n",
    "    h_eff = MMA_simplify(h_eff)\n",
    "    h_eff = h_eff._mathematica_().Series((x,0,1)).Normal()._sage_()\n",
    "    h_eff = h_eff.subs(x=1/C)\n",
    "    '''\n",
    "    h_eff = SR(str(h_eff).replace('Sqrt','sqrt'))\n",
    "    eff_hamiltonian_tayl[diag,diag] = h_eff  * Omega^2 / 2\n",
    "\n",
    "print('\\n Done! ')\n",
    "#show(symround(eff_hamiltonian_tayl[s1.pos_gs,s1.pos_gs],digits=3))\n",
    "\n",
    "\n",
    "eff_hamiltonian_tayl_temp = eff_hamiltonian_tayl[s1.pos_gs,s1.pos_gs] \n",
    "\n",
    "\n",
    "\n",
    "\n",
    "\n",
    "lind_op_number = len(s1.lindblau_list)\n",
    "\n",
    "eff_lind_taylor = []\n",
    "eff_lind = []\n",
    "eff_lind_coeff = []\n",
    "for lind_op in range(lind_op_number):\n",
    "    print(f'{lind_op} out of {lind_op_number-1}')\n",
    "    eff_lind_taylor.append([])\n",
    "    eff_lind.append([])\n",
    "    L_matrix = s1.eff_lindblau_list[lind_op]\n",
    "    L_nonzeros = []\n",
    "    L_nonzeros_pos = []\n",
    "    for i in  range(L_matrix.nrows()):\n",
    "        for j in  range(L_matrix.ncols()):\n",
    "            if not str(symround(L_matrix[i,j]))==str(0):\n",
    "                L_nonzeros.append(L_matrix[i,j])\n",
    "                L_nonzeros_pos.append((i,j))\n",
    "    eff_lind_coeff.append(s1.L_coeffs[lind_op])\n",
    "    \n",
    "    for which in range(len(L_nonzeros)):\n",
    "\n",
    "        L_elem = L_nonzeros[which]\n",
    "        b = L_elem\n",
    "        \n",
    "        b = b._mathematica_().ReplaceAll(f'DE->DEg*gamma*C^({n})')._sage_()\n",
    "        #b = b.subs(DE = DEg*gamma*C^n)\n",
    "        \n",
    "        b = b._mathematica_().ReplaceAll(f'De1->Deg1*gamma*C^({n})')._sage_()\n",
    "        #b = b.subs(De1 = Deg1*gamma*C^n) #sqrt C scaling!?\n",
    "        \n",
    "        b = b._mathematica_().ReplaceAll(f'De2->Deg2*gamma*C^({n})')._sage_()\n",
    "        #b = b.subs(De2 = Deg2*gamma*C^n) #MAKE ZERO\n",
    "        \n",
    "        b = b._mathematica_().ReplaceAll(f'De3->Deg2*gamma*C^({n})')._sage_()\n",
    "        #b = b.subs(De3 = Deg3*gamma*C^n) #MAKE ZERO  \n",
    "        \n",
    "        #b = b.subs(phi = phi_val)\n",
    "        \n",
    "        #b = MMA_simplify(b)\n",
    "        \n",
    "        #b = b._mathematica_().ReplaceAll('g_f->g*(R_f)^(1/2)')._sage_()\n",
    "        b = b.subs(g_f=g*(R_f)^(1/2))\n",
    "\n",
    "        b = b._mathematica_().ReplaceAll('gamma_f->gamma*r_f')._sage_()\n",
    "        #b = b.subs(gamma_f=gamma*r_f)\n",
    "\n",
    "        b = b._mathematica_().ReplaceAll('gamma_g->gamma*r_g')._sage_()\n",
    "        #b = b.subs(gamma_g=gamma*r_g)\n",
    "        \n",
    "        #b = b._mathematica_().ReplaceAll(\"g-> (C*gamma*kappa_c)^(1/2)\")._sage_()\n",
    "        b = b.subs(g = (C*gamma*kappa_c)^(1/2)) \n",
    "        \n",
    "        b = b._mathematica_().ReplaceAll('v->(c*kappa_b*kappa_c)^(1/2)')._sage_()\n",
    "        \n",
    "        b = b.subs(c=C)\n",
    "        \n",
    "        b = SR(str(b).replace('Sqrt','sqrt'))\n",
    "        \n",
    "        eff_lind[lind_op].append(b)\n",
    "        \n",
    "print('\\n Done!')\n",
    "\n",
    "\n",
    "eff_hamiltonian_tayl = eff_hamiltonian_tayl_temp\n",
    "\n",
    "a = eff_hamiltonian_tayl[0,0]\n",
    "#a = symround( MMA_simplify(a,full=False) ,digits = 14)\n",
    "b = eff_hamiltonian_tayl[1,1]\n",
    "#b = symround(MMA_simplify(b,full=False),digits = 14)\n",
    "c = eff_hamiltonian_tayl[3,3]\n",
    "#c = symround(MMA_simplify(c,full=False),digits = 14)\n",
    "d = eff_hamiltonian_tayl[4,4]\n",
    "#d = symround(MMA_simplify(d,full=False),digits = 14)\n",
    "e = eff_hamiltonian_tayl[5,5]\n",
    "#e = symround(MMA_simplify(e,full=False),digits = 14)\n",
    "f = eff_hamiltonian_tayl[7,7]\n",
    "#f = symround(MMA_simplify(f,full=False),digits = 14)"
   ]
  },
  {
   "cell_type": "markdown",
   "id": "f1ddbf1c",
   "metadata": {},
   "source": [
    "# Isolate highest powers"
   ]
  },
  {
   "cell_type": "code",
   "execution_count": 112,
   "id": "64e94a3b",
   "metadata": {},
   "outputs": [],
   "source": [
    "\n",
    "    "
   ]
  },
  {
   "cell_type": "code",
   "execution_count": 109,
   "id": "e19d8131",
   "metadata": {},
   "outputs": [],
   "source": []
  },
  {
   "cell_type": "code",
   "execution_count": 689,
   "id": "e138f038",
   "metadata": {},
   "outputs": [],
   "source": [
    "a = eff_hamiltonian_tayl[0,0]\n",
    "#a = symround( MMA_simplify(a,full=False) ,digits = 14)\n",
    "b = eff_hamiltonian_tayl[1,1]\n",
    "#b = symround(MMA_simplify(b,full=False),digits = 14)\n",
    "c = eff_hamiltonian_tayl[3,3]\n",
    "#c = symround(MMA_simplify(c,full=False),digits = 14)\n",
    "d = eff_hamiltonian_tayl[4,4]\n",
    "#d = symround(MMA_simplify(d,full=False),digits = 14)\n",
    "e = eff_hamiltonian_tayl[5,5]\n",
    "#e = symround(MMA_simplify(e,full=False),digits = 14)\n",
    "f = eff_hamiltonian_tayl[7,7]\n",
    "#f = symround(MMA_simplify(f,full=False),digits = 14)\n",
    "\n",
    "phival = 0* np.pi \n",
    "R_fval = 1\n",
    "gamma_fval = gamma\n",
    "gamma_gval = gamma\n",
    "#modify abcdef\n",
    "a = (a + conjugate(a)).subs(phi=phival,R_f=R_fval ,gamma_g = gamma_gval , gamma_f = gamma_fval)._mathematica_().Together()._sage_()\n",
    "b = (b + conjugate(b)).subs(phi=phival,R_f=R_fval ,gamma_g = gamma_gval , gamma_f = gamma_fval)._mathematica_().Together()._sage_()\n",
    "c = (c + conjugate(c)).subs(phi=phival,R_f=R_fval ,gamma_g = gamma_gval , gamma_f = gamma_fval)._mathematica_().Together()._sage_()\n",
    "d = (d + conjugate(d)).subs(phi=phival,R_f=R_fval ,gamma_g = gamma_gval , gamma_f = gamma_fval)._mathematica_().Together()._sage_()\n",
    "e = (e + conjugate(e)).subs(phi=phival,R_f=R_fval ,gamma_g = gamma_gval , gamma_f = gamma_fval)._mathematica_().Together()._sage_()\n",
    "f = (f + conjugate(f)).subs(phi=phival,R_f=R_fval ,gamma_g = gamma_gval , gamma_f = gamma_fval)._mathematica_().Together()._sage_()"
   ]
  },
  {
   "cell_type": "code",
   "execution_count": 690,
   "id": "9759d4ba",
   "metadata": {},
   "outputs": [],
   "source": [
    "term_list = [a,b,c,d,e,f]\n",
    "high_c_limit = [  ]\n",
    "\n",
    "for term in term_list:\n",
    "    num = term._mathematica_().Numerator().Collect('C')._sage_().operands()[0]\n",
    "    den = term._mathematica_().Denominator().Collect('C')._sage_().operands()[0]\n",
    "    tayl = num/den\n",
    "    tayl = MMA_simplify(tayl,full=True)\n",
    "    high_c_limit.append(tayl)"
   ]
  },
  {
   "cell_type": "code",
   "execution_count": 691,
   "id": "c77fae01",
   "metadata": {},
   "outputs": [],
   "source": [
    "a = high_c_limit[0]\n",
    "b = high_c_limit[1]\n",
    "c = high_c_limit[2]\n",
    "d = high_c_limit[3]\n",
    "e = high_c_limit[4]\n",
    "f = high_c_limit[5]"
   ]
  },
  {
   "cell_type": "code",
   "execution_count": 738,
   "id": "c6e60c7d",
   "metadata": {},
   "outputs": [
    {
     "name": "stdout",
     "output_type": "stream",
     "text": [
      "Finished!\n"
     ]
    }
   ],
   "source": [
    "t_den = (a + e - b - d)._mathematica_().Together()._sage_()\n",
    "\n",
    "ttden = symround(t_den, show_del=True,digits=14  )\n",
    "numnum = 0\n",
    "dennum = 0\n",
    "'''\n",
    "while True:\n",
    "    print(f'numnum={numnum}  ,  dennum={dennum}')\n",
    "    num = ttden._mathematica_().Numerator().Collect('C')._sage_().operands()[numnum]\n",
    "    den = ttden._mathematica_().Denominator().Collect('C')._sage_().operands()[dennum]\n",
    "    tayl = num/den\n",
    "    taylsimp = MMA_simplify(tayl,full=True)\n",
    "    retaylsimp = taylsimp  #(taylsimp+conjugate(taylsimp))   #/2\n",
    "    taylf = retaylsimp._mathematica_().Together()._sage_()\n",
    "    taylf = symround(taylf,digits=14)\n",
    "    if str(taylf) == str(0):\n",
    "        numnum += 1\n",
    "    else:\n",
    "        break\n",
    "'''\n",
    "        \n",
    "print('Finished!')\n",
    "\n",
    "tg = np.pi / ttden"
   ]
  },
  {
   "cell_type": "code",
   "execution_count": 739,
   "id": "0f85eafd",
   "metadata": {},
   "outputs": [
    {
     "data": {
      "text/html": [
       "<html><script type=\"math/tex; mode=display\">\\newcommand{\\Bold}[1]{\\mathbf{#1}}\\frac{17. \\, {\\left({{{\\Delta E}}^\\gamma} {{{\\Delta e}}_{{  1}}^\\gamma} {\\left(0.50 \\, {{{\\Delta e}}_{{  1}}^\\gamma} + 0.50 \\, {{{\\Delta e}}_{{  2}}^\\gamma}\\right)} {{{\\Delta e}}_{{  2}}^\\gamma} + 0.25 \\, {{{\\Delta e}}_{{  1}}^\\gamma}^{2} {{{\\Delta e}}_{{  2}}^\\gamma}^{2} + {\\left({\\left({{{\\Delta e}}_{{  2}}^\\gamma}^{2} + 0.25\\right)} {{{\\Delta e}}_{{  1}}^\\gamma}^{2} + 0.50 \\, {{{\\Delta e}}_{{  1}}^\\gamma} {{{\\Delta e}}_{{  2}}^\\gamma} + 0.25 \\, {{{\\Delta e}}_{{  2}}^\\gamma}^{2}\\right)} {{{\\Delta E}}^\\gamma}^{2}\\right)} {\\left({\\left({{{\\Delta e}}_{{  1}}^\\gamma}^{2} + 0.25\\right)} {{{\\Delta E}}^\\gamma}^{2} + 0.50 \\, {{{\\Delta E}}^\\gamma} {{{\\Delta e}}_{{  1}}^\\gamma} + 0.25 \\, {{{\\Delta e}}_{{  1}}^\\gamma}^{2}\\right)} {\\left({\\left({{{\\Delta e}}_{{  2}}^\\gamma}^{2} + 0.25\\right)} {{{\\Delta E}}^\\gamma}^{2} + 0.50 \\, {{{\\Delta E}}^\\gamma} {{{\\Delta e}}_{{  2}}^\\gamma} + 0.25 \\, {{{\\Delta e}}_{{  2}}^\\gamma}^{2}\\right)} {\\left({{{\\Delta E}}^\\gamma}^{2} + 0.25\\right)} C {\\gamma}}{{\\left({\\left({\\left(0.083 \\, {{{\\Delta E}}^\\gamma} {{{\\Delta e}}_{{  1}}^\\gamma} - 0.021\\right)} {{{\\Delta E}}^\\gamma} - 0.021 \\, {{{\\Delta e}}_{{  1}}^\\gamma}\\right)} {{{\\Delta E}}^\\gamma}^{3} {{{\\Delta e}}_{{  1}}^\\gamma}^{2} + {\\left(0.17 \\, {{{\\Delta E}}^\\gamma}^{3} {{{\\Delta e}}_{{  1}}^\\gamma} + {\\left(0.33 \\, {{{\\Delta e}}_{{  1}}^\\gamma}^{2} - 0.042\\right)} {{{\\Delta E}}^\\gamma}^{2} - 0.12 \\, {{{\\Delta E}}^\\gamma} {{{\\Delta e}}_{{  1}}^\\gamma} - 0.083 \\, {{{\\Delta e}}_{{  1}}^\\gamma}^{2}\\right)} {{{\\Delta E}}^\\gamma}^{2} {{{\\Delta e}}_{{  1}}^\\gamma} {{{\\Delta e}}_{{  2}}^\\gamma} + {\\left({\\left({{{\\Delta e}}_{{  1}}^\\gamma}^{2} + 0.17\\right)} {{{\\Delta E}}^\\gamma}^{4} {{{\\Delta e}}_{{  1}}^\\gamma} + {\\left(0.50 \\, {{{\\Delta e}}_{{  1}}^\\gamma}^{2} - 0.021\\right)} {{{\\Delta E}}^\\gamma}^{3} + {\\left(0.50 \\, {{{\\Delta e}}_{{  1}}^\\gamma}^{2} - 0.12\\right)} {{{\\Delta E}}^\\gamma}^{2} {{{\\Delta e}}_{{  1}}^\\gamma} - 0.21 \\, {{{\\Delta E}}^\\gamma} {{{\\Delta e}}_{{  1}}^\\gamma}^{2} - 0.10 \\, {{{\\Delta e}}_{{  1}}^\\gamma}^{3}\\right)} {{{\\Delta E}}^\\gamma} {{{\\Delta e}}_{{  2}}^\\gamma}^{2} + {\\left({\\left({{{\\Delta e}}_{{  1}}^\\gamma}^{2} + 0.083\\right)} {{{\\Delta E}}^\\gamma}^{5} + {\\left(2 \\, {{{\\Delta e}}_{{  1}}^\\gamma}^{2} + 0.33\\right)} {{{\\Delta E}}^\\gamma}^{4} {{{\\Delta e}}_{{  1}}^\\gamma} + {\\left(0.50 \\, {{{\\Delta e}}_{{  1}}^\\gamma}^{2} - 0.021\\right)} {{{\\Delta E}}^\\gamma}^{3} + {\\left(0.33 \\, {{{\\Delta e}}_{{  1}}^\\gamma}^{2} - 0.083\\right)} {{{\\Delta E}}^\\gamma}^{2} {{{\\Delta e}}_{{  1}}^\\gamma} - 0.10 \\, {{{\\Delta E}}^\\gamma} {{{\\Delta e}}_{{  1}}^\\gamma}^{2} - 0.042 \\, {{{\\Delta e}}_{{  1}}^\\gamma}^{3}\\right)} {{{\\Delta e}}_{{  2}}^\\gamma}^{3}\\right)} {{{\\Delta E}}^\\gamma} {\\Omega}^{2}}</script></html>"
      ],
      "text/latex": [
       "$$\\newcommand{\\Bold}[1]{\\mathbf{#1}}\\frac{17. \\, {\\left({{{\\Delta E}}^\\gamma} {{{\\Delta e}}_{{  1}}^\\gamma} {\\left(0.50 \\, {{{\\Delta e}}_{{  1}}^\\gamma} + 0.50 \\, {{{\\Delta e}}_{{  2}}^\\gamma}\\right)} {{{\\Delta e}}_{{  2}}^\\gamma} + 0.25 \\, {{{\\Delta e}}_{{  1}}^\\gamma}^{2} {{{\\Delta e}}_{{  2}}^\\gamma}^{2} + {\\left({\\left({{{\\Delta e}}_{{  2}}^\\gamma}^{2} + 0.25\\right)} {{{\\Delta e}}_{{  1}}^\\gamma}^{2} + 0.50 \\, {{{\\Delta e}}_{{  1}}^\\gamma} {{{\\Delta e}}_{{  2}}^\\gamma} + 0.25 \\, {{{\\Delta e}}_{{  2}}^\\gamma}^{2}\\right)} {{{\\Delta E}}^\\gamma}^{2}\\right)} {\\left({\\left({{{\\Delta e}}_{{  1}}^\\gamma}^{2} + 0.25\\right)} {{{\\Delta E}}^\\gamma}^{2} + 0.50 \\, {{{\\Delta E}}^\\gamma} {{{\\Delta e}}_{{  1}}^\\gamma} + 0.25 \\, {{{\\Delta e}}_{{  1}}^\\gamma}^{2}\\right)} {\\left({\\left({{{\\Delta e}}_{{  2}}^\\gamma}^{2} + 0.25\\right)} {{{\\Delta E}}^\\gamma}^{2} + 0.50 \\, {{{\\Delta E}}^\\gamma} {{{\\Delta e}}_{{  2}}^\\gamma} + 0.25 \\, {{{\\Delta e}}_{{  2}}^\\gamma}^{2}\\right)} {\\left({{{\\Delta E}}^\\gamma}^{2} + 0.25\\right)} C {\\gamma}}{{\\left({\\left({\\left(0.083 \\, {{{\\Delta E}}^\\gamma} {{{\\Delta e}}_{{  1}}^\\gamma} - 0.021\\right)} {{{\\Delta E}}^\\gamma} - 0.021 \\, {{{\\Delta e}}_{{  1}}^\\gamma}\\right)} {{{\\Delta E}}^\\gamma}^{3} {{{\\Delta e}}_{{  1}}^\\gamma}^{2} + {\\left(0.17 \\, {{{\\Delta E}}^\\gamma}^{3} {{{\\Delta e}}_{{  1}}^\\gamma} + {\\left(0.33 \\, {{{\\Delta e}}_{{  1}}^\\gamma}^{2} - 0.042\\right)} {{{\\Delta E}}^\\gamma}^{2} - 0.12 \\, {{{\\Delta E}}^\\gamma} {{{\\Delta e}}_{{  1}}^\\gamma} - 0.083 \\, {{{\\Delta e}}_{{  1}}^\\gamma}^{2}\\right)} {{{\\Delta E}}^\\gamma}^{2} {{{\\Delta e}}_{{  1}}^\\gamma} {{{\\Delta e}}_{{  2}}^\\gamma} + {\\left({\\left({{{\\Delta e}}_{{  1}}^\\gamma}^{2} + 0.17\\right)} {{{\\Delta E}}^\\gamma}^{4} {{{\\Delta e}}_{{  1}}^\\gamma} + {\\left(0.50 \\, {{{\\Delta e}}_{{  1}}^\\gamma}^{2} - 0.021\\right)} {{{\\Delta E}}^\\gamma}^{3} + {\\left(0.50 \\, {{{\\Delta e}}_{{  1}}^\\gamma}^{2} - 0.12\\right)} {{{\\Delta E}}^\\gamma}^{2} {{{\\Delta e}}_{{  1}}^\\gamma} - 0.21 \\, {{{\\Delta E}}^\\gamma} {{{\\Delta e}}_{{  1}}^\\gamma}^{2} - 0.10 \\, {{{\\Delta e}}_{{  1}}^\\gamma}^{3}\\right)} {{{\\Delta E}}^\\gamma} {{{\\Delta e}}_{{  2}}^\\gamma}^{2} + {\\left({\\left({{{\\Delta e}}_{{  1}}^\\gamma}^{2} + 0.083\\right)} {{{\\Delta E}}^\\gamma}^{5} + {\\left(2 \\, {{{\\Delta e}}_{{  1}}^\\gamma}^{2} + 0.33\\right)} {{{\\Delta E}}^\\gamma}^{4} {{{\\Delta e}}_{{  1}}^\\gamma} + {\\left(0.50 \\, {{{\\Delta e}}_{{  1}}^\\gamma}^{2} - 0.021\\right)} {{{\\Delta E}}^\\gamma}^{3} + {\\left(0.33 \\, {{{\\Delta e}}_{{  1}}^\\gamma}^{2} - 0.083\\right)} {{{\\Delta E}}^\\gamma}^{2} {{{\\Delta e}}_{{  1}}^\\gamma} - 0.10 \\, {{{\\Delta E}}^\\gamma} {{{\\Delta e}}_{{  1}}^\\gamma}^{2} - 0.042 \\, {{{\\Delta e}}_{{  1}}^\\gamma}^{3}\\right)} {{{\\Delta e}}_{{  2}}^\\gamma}^{3}\\right)} {{{\\Delta E}}^\\gamma} {\\Omega}^{2}}$$"
      ],
      "text/plain": [
       "17.*(DEg*Deg1*(0.50*Deg1 + 0.50*Deg2)*Deg2 + 0.25*Deg1^2*Deg2^2 + ((Deg2^2 + 0.25)*Deg1^2 + 0.50*Deg1*Deg2 + 0.25*Deg2^2)*DEg^2)*((Deg1^2 + 0.25)*DEg^2 + 0.50*DEg*Deg1 + 0.25*Deg1^2)*((Deg2^2 + 0.25)*DEg^2 + 0.50*DEg*Deg2 + 0.25*Deg2^2)*(DEg^2 + 0.25)*C*gamma/((((0.083*DEg*Deg1 - 0.021)*DEg - 0.021*Deg1)*DEg^3*Deg1^2 + (0.17*DEg^3*Deg1 + (0.33*Deg1^2 - 0.042)*DEg^2 - 0.12*DEg*Deg1 - 0.083*Deg1^2)*DEg^2*Deg1*Deg2 + ((Deg1^2 + 0.17)*DEg^4*Deg1 + (0.50*Deg1^2 - 0.021)*DEg^3 + (0.50*Deg1^2 - 0.12)*DEg^2*Deg1 - 0.21*DEg*Deg1^2 - 0.10*Deg1^3)*DEg*Deg2^2 + ((Deg1^2 + 0.083)*DEg^5 + (2*Deg1^2 + 0.33)*DEg^4*Deg1 + (0.50*Deg1^2 - 0.021)*DEg^3 + (0.33*Deg1^2 - 0.083)*DEg^2*Deg1 - 0.10*DEg*Deg1^2 - 0.042*Deg1^3)*Deg2^3)*DEg*Omega^2)"
      ]
     },
     "metadata": {},
     "output_type": "display_data"
    }
   ],
   "source": [
    "show(symround(MMA_simplify(tg,full=True).subs()))"
   ]
  },
  {
   "cell_type": "code",
   "execution_count": 740,
   "id": "4f15aeb3",
   "metadata": {},
   "outputs": [
    {
     "name": "stdout",
     "output_type": "stream",
     "text": [
      "Finished!\n"
     ]
    }
   ],
   "source": [
    "t_den = (a + c - 2*b )._mathematica_().Together()._sage_()\n",
    "\n",
    "ttden = symround(t_den, show_del=True,digits=14  )\n",
    "\n",
    "print('Finished!')\n",
    "\n",
    "cond1 = tg*ttden"
   ]
  },
  {
   "cell_type": "code",
   "execution_count": 695,
   "id": "1a7d14d9",
   "metadata": {},
   "outputs": [
    {
     "data": {
      "text/html": [
       "<html><script type=\"math/tex; mode=display\">\\newcommand{\\Bold}[1]{\\mathbf{#1}}\\frac{{\\left({{{\\Delta E}}^\\gamma}^{3} {{{\\Delta e}}_{{  2}}^\\gamma} + {\\left({{{\\Delta e}}_{{  2}}^\\gamma}^{2} - 0.16667\\right)} {{{\\Delta E}}^\\gamma}^{2} - 0.25000 \\, {{{\\Delta E}}^\\gamma} {{{\\Delta e}}_{{  2}}^\\gamma} - 0.083333 \\, {{{\\Delta e}}_{{  2}}^\\gamma}^{2}\\right)} {\\left({{{\\Delta E}}^\\gamma} {{{\\Delta e}}_{{  1}}^\\gamma} {\\left(0.50000 \\, {{{\\Delta e}}_{{  1}}^\\gamma} + 0.50000 \\, {{{\\Delta e}}_{{  2}}^\\gamma}\\right)} {{{\\Delta e}}_{{  2}}^\\gamma} + 0.25000 \\, {{{\\Delta e}}_{{  1}}^\\gamma}^{2} {{{\\Delta e}}_{{  2}}^\\gamma}^{2} + {\\left({\\left({{{\\Delta e}}_{{  2}}^\\gamma}^{2} + 0.25000\\right)} {{{\\Delta e}}_{{  1}}^\\gamma}^{2} + 0.50000 \\, {{{\\Delta e}}_{{  1}}^\\gamma} {{{\\Delta e}}_{{  2}}^\\gamma} + 0.25000 \\, {{{\\Delta e}}_{{  2}}^\\gamma}^{2}\\right)} {{{\\Delta E}}^\\gamma}^{2}\\right)} {\\left(6.2832 \\, {\\left({{{\\Delta e}}_{{  1}}^\\gamma}^{2} + 0.25000\\right)} {{{\\Delta E}}^\\gamma}^{2} + 3.1416 \\, {{{\\Delta E}}^\\gamma} {{{\\Delta e}}_{{  1}}^\\gamma} + 1.5708 \\, {{{\\Delta e}}_{{  1}}^\\gamma}^{2}\\right)}}{{\\left({\\left({\\left({{{\\Delta e}}_{{  2}}^\\gamma}^{2} + 0.083307\\right)} {{{\\Delta e}}_{{  1}}^\\gamma}^{3} + {\\left({{{\\Delta e}}_{{  2}}^\\gamma}^{3} + 0.16667 \\, {{{\\Delta e}}_{{  2}}^\\gamma}\\right)} {{{\\Delta e}}_{{  1}}^\\gamma}^{2} + 0.16667 \\, {{{\\Delta e}}_{{  1}}^\\gamma} {{{\\Delta e}}_{{  2}}^\\gamma}^{2} + 0.083307 \\, {{{\\Delta e}}_{{  2}}^\\gamma}^{3}\\right)} {{{\\Delta E}}^\\gamma}^{5} + {{{\\Delta E}}^\\gamma} {{{\\Delta e}}_{{  1}}^\\gamma}^{2} {\\left(-0.10416 \\, {{{\\Delta e}}_{{  1}}^\\gamma} - 0.10416 \\, {{{\\Delta e}}_{{  2}}^\\gamma}\\right)} {{{\\Delta e}}_{{  2}}^\\gamma}^{2} - 0.041664 \\, {{{\\Delta e}}_{{  1}}^\\gamma}^{3} {{{\\Delta e}}_{{  2}}^\\gamma}^{3} + {\\left({\\left(2 \\, {{{\\Delta e}}_{{  2}}^\\gamma}^{3} + 0.33333 \\, {{{\\Delta e}}_{{  2}}^\\gamma}\\right)} {{{\\Delta e}}_{{  1}}^\\gamma}^{3} + {\\left(0.50000 \\, {{{\\Delta e}}_{{  2}}^\\gamma}^{2} - 0.020832\\right)} {{{\\Delta e}}_{{  1}}^\\gamma}^{2} + {\\left(0.33333 \\, {{{\\Delta e}}_{{  2}}^\\gamma}^{3} - 0.041664 \\, {{{\\Delta e}}_{{  2}}^\\gamma}\\right)} {{{\\Delta e}}_{{  1}}^\\gamma} - 0.020832 \\, {{{\\Delta e}}_{{  2}}^\\gamma}^{2}\\right)} {{{\\Delta E}}^\\gamma}^{4} + {\\left({\\left(0.33333 \\, {{{\\Delta e}}_{{  2}}^\\gamma}^{2} - 0.083307\\right)} {{{\\Delta e}}_{{  1}}^\\gamma}^{2} - 0.20832 \\, {{{\\Delta e}}_{{  1}}^\\gamma} {{{\\Delta e}}_{{  2}}^\\gamma} - 0.083307 \\, {{{\\Delta e}}_{{  2}}^\\gamma}^{2}\\right)} {{{\\Delta E}}^\\gamma}^{2} {{{\\Delta e}}_{{  1}}^\\gamma} {{{\\Delta e}}_{{  2}}^\\gamma} + {\\left({\\left(0.50000 \\, {{{\\Delta e}}_{{  2}}^\\gamma}^{2} - 0.020832\\right)} {{{\\Delta e}}_{{  1}}^\\gamma}^{3} + {\\left(0.50000 \\, {{{\\Delta e}}_{{  2}}^\\gamma}^{3} - 0.12501 \\, {{{\\Delta e}}_{{  2}}^\\gamma}\\right)} {{{\\Delta e}}_{{  1}}^\\gamma}^{2} - 0.12501 \\, {{{\\Delta e}}_{{  1}}^\\gamma} {{{\\Delta e}}_{{  2}}^\\gamma}^{2} - 0.020832 \\, {{{\\Delta e}}_{{  2}}^\\gamma}^{3}\\right)} {{{\\Delta E}}^\\gamma}^{3}\\right)} {\\left({\\left({{{\\Delta e}}_{{  2}}^\\gamma}^{2} + 1\\right)} {{{\\Delta E}}^\\gamma}^{2} + {{{\\Delta E}}^\\gamma} {{{\\Delta e}}_{{  2}}^\\gamma} + 0.25000 \\, {{{\\Delta e}}_{{  2}}^\\gamma}^{2}\\right)}}</script></html>"
      ],
      "text/latex": [
       "$$\\newcommand{\\Bold}[1]{\\mathbf{#1}}\\frac{{\\left({{{\\Delta E}}^\\gamma}^{3} {{{\\Delta e}}_{{  2}}^\\gamma} + {\\left({{{\\Delta e}}_{{  2}}^\\gamma}^{2} - 0.16667\\right)} {{{\\Delta E}}^\\gamma}^{2} - 0.25000 \\, {{{\\Delta E}}^\\gamma} {{{\\Delta e}}_{{  2}}^\\gamma} - 0.083333 \\, {{{\\Delta e}}_{{  2}}^\\gamma}^{2}\\right)} {\\left({{{\\Delta E}}^\\gamma} {{{\\Delta e}}_{{  1}}^\\gamma} {\\left(0.50000 \\, {{{\\Delta e}}_{{  1}}^\\gamma} + 0.50000 \\, {{{\\Delta e}}_{{  2}}^\\gamma}\\right)} {{{\\Delta e}}_{{  2}}^\\gamma} + 0.25000 \\, {{{\\Delta e}}_{{  1}}^\\gamma}^{2} {{{\\Delta e}}_{{  2}}^\\gamma}^{2} + {\\left({\\left({{{\\Delta e}}_{{  2}}^\\gamma}^{2} + 0.25000\\right)} {{{\\Delta e}}_{{  1}}^\\gamma}^{2} + 0.50000 \\, {{{\\Delta e}}_{{  1}}^\\gamma} {{{\\Delta e}}_{{  2}}^\\gamma} + 0.25000 \\, {{{\\Delta e}}_{{  2}}^\\gamma}^{2}\\right)} {{{\\Delta E}}^\\gamma}^{2}\\right)} {\\left(6.2832 \\, {\\left({{{\\Delta e}}_{{  1}}^\\gamma}^{2} + 0.25000\\right)} {{{\\Delta E}}^\\gamma}^{2} + 3.1416 \\, {{{\\Delta E}}^\\gamma} {{{\\Delta e}}_{{  1}}^\\gamma} + 1.5708 \\, {{{\\Delta e}}_{{  1}}^\\gamma}^{2}\\right)}}{{\\left({\\left({\\left({{{\\Delta e}}_{{  2}}^\\gamma}^{2} + 0.083307\\right)} {{{\\Delta e}}_{{  1}}^\\gamma}^{3} + {\\left({{{\\Delta e}}_{{  2}}^\\gamma}^{3} + 0.16667 \\, {{{\\Delta e}}_{{  2}}^\\gamma}\\right)} {{{\\Delta e}}_{{  1}}^\\gamma}^{2} + 0.16667 \\, {{{\\Delta e}}_{{  1}}^\\gamma} {{{\\Delta e}}_{{  2}}^\\gamma}^{2} + 0.083307 \\, {{{\\Delta e}}_{{  2}}^\\gamma}^{3}\\right)} {{{\\Delta E}}^\\gamma}^{5} + {{{\\Delta E}}^\\gamma} {{{\\Delta e}}_{{  1}}^\\gamma}^{2} {\\left(-0.10416 \\, {{{\\Delta e}}_{{  1}}^\\gamma} - 0.10416 \\, {{{\\Delta e}}_{{  2}}^\\gamma}\\right)} {{{\\Delta e}}_{{  2}}^\\gamma}^{2} - 0.041664 \\, {{{\\Delta e}}_{{  1}}^\\gamma}^{3} {{{\\Delta e}}_{{  2}}^\\gamma}^{3} + {\\left({\\left(2 \\, {{{\\Delta e}}_{{  2}}^\\gamma}^{3} + 0.33333 \\, {{{\\Delta e}}_{{  2}}^\\gamma}\\right)} {{{\\Delta e}}_{{  1}}^\\gamma}^{3} + {\\left(0.50000 \\, {{{\\Delta e}}_{{  2}}^\\gamma}^{2} - 0.020832\\right)} {{{\\Delta e}}_{{  1}}^\\gamma}^{2} + {\\left(0.33333 \\, {{{\\Delta e}}_{{  2}}^\\gamma}^{3} - 0.041664 \\, {{{\\Delta e}}_{{  2}}^\\gamma}\\right)} {{{\\Delta e}}_{{  1}}^\\gamma} - 0.020832 \\, {{{\\Delta e}}_{{  2}}^\\gamma}^{2}\\right)} {{{\\Delta E}}^\\gamma}^{4} + {\\left({\\left(0.33333 \\, {{{\\Delta e}}_{{  2}}^\\gamma}^{2} - 0.083307\\right)} {{{\\Delta e}}_{{  1}}^\\gamma}^{2} - 0.20832 \\, {{{\\Delta e}}_{{  1}}^\\gamma} {{{\\Delta e}}_{{  2}}^\\gamma} - 0.083307 \\, {{{\\Delta e}}_{{  2}}^\\gamma}^{2}\\right)} {{{\\Delta E}}^\\gamma}^{2} {{{\\Delta e}}_{{  1}}^\\gamma} {{{\\Delta e}}_{{  2}}^\\gamma} + {\\left({\\left(0.50000 \\, {{{\\Delta e}}_{{  2}}^\\gamma}^{2} - 0.020832\\right)} {{{\\Delta e}}_{{  1}}^\\gamma}^{3} + {\\left(0.50000 \\, {{{\\Delta e}}_{{  2}}^\\gamma}^{3} - 0.12501 \\, {{{\\Delta e}}_{{  2}}^\\gamma}\\right)} {{{\\Delta e}}_{{  1}}^\\gamma}^{2} - 0.12501 \\, {{{\\Delta e}}_{{  1}}^\\gamma} {{{\\Delta e}}_{{  2}}^\\gamma}^{2} - 0.020832 \\, {{{\\Delta e}}_{{  2}}^\\gamma}^{3}\\right)} {{{\\Delta E}}^\\gamma}^{3}\\right)} {\\left({\\left({{{\\Delta e}}_{{  2}}^\\gamma}^{2} + 1\\right)} {{{\\Delta E}}^\\gamma}^{2} + {{{\\Delta E}}^\\gamma} {{{\\Delta e}}_{{  2}}^\\gamma} + 0.25000 \\, {{{\\Delta e}}_{{  2}}^\\gamma}^{2}\\right)}}$$"
      ],
      "text/plain": [
       "(DEg^3*Deg2 + (Deg2^2 - 0.16667)*DEg^2 - 0.25000*DEg*Deg2 - 0.083333*Deg2^2)*(DEg*Deg1*(0.50000*Deg1 + 0.50000*Deg2)*Deg2 + 0.25000*Deg1^2*Deg2^2 + ((Deg2^2 + 0.25000)*Deg1^2 + 0.50000*Deg1*Deg2 + 0.25000*Deg2^2)*DEg^2)*(6.2832*(Deg1^2 + 0.25000)*DEg^2 + 3.1416*DEg*Deg1 + 1.5708*Deg1^2)/((((Deg2^2 + 0.083307)*Deg1^3 + (Deg2^3 + 0.16667*Deg2)*Deg1^2 + 0.16667*Deg1*Deg2^2 + 0.083307*Deg2^3)*DEg^5 + DEg*Deg1^2*(-0.10416*Deg1 - 0.10416*Deg2)*Deg2^2 - 0.041664*Deg1^3*Deg2^3 + ((2*Deg2^3 + 0.33333*Deg2)*Deg1^3 + (0.50000*Deg2^2 - 0.020832)*Deg1^2 + (0.33333*Deg2^3 - 0.041664*Deg2)*Deg1 - 0.020832*Deg2^2)*DEg^4 + ((0.33333*Deg2^2 - 0.083307)*Deg1^2 - 0.20832*Deg1*Deg2 - 0.083307*Deg2^2)*DEg^2*Deg1*Deg2 + ((0.50000*Deg2^2 - 0.020832)*Deg1^3 + (0.50000*Deg2^3 - 0.12501*Deg2)*Deg1^2 - 0.12501*Deg1*Deg2^2 - 0.020832*Deg2^3)*DEg^3)*((Deg2^2 + 1)*DEg^2 + DEg*Deg2 + 0.25000*Deg2^2))"
      ]
     },
     "metadata": {},
     "output_type": "display_data"
    }
   ],
   "source": [
    "show(symround(MMA_simplify(cond1,full= not True).subs(),digits =5))"
   ]
  },
  {
   "cell_type": "code",
   "execution_count": 741,
   "id": "f335995a",
   "metadata": {},
   "outputs": [
    {
     "data": {
      "text/html": [
       "<html><script type=\"math/tex; mode=display\">\\newcommand{\\Bold}[1]{\\mathbf{#1}}-\\frac{{{{\\Delta E}}^\\gamma}^{8} {{{\\Delta e}}_{{  1}}^\\gamma}^{4} {{{\\Delta e}}_{{  2}}^\\gamma}^{4} {\\Omega}^{2} + 1.2 \\, {{{\\Delta E}}^\\gamma}^{8} {{{\\Delta e}}_{{  1}}^\\gamma}^{4} {{{\\Delta e}}_{{  2}}^\\gamma}^{2} {\\Omega}^{2} + {{{\\Delta E}}^\\gamma}^{8} {{{\\Delta e}}_{{  1}}^\\gamma}^{3} {{{\\Delta e}}_{{  2}}^\\gamma}^{3} {\\Omega}^{2} + 1.5 \\, {{{\\Delta E}}^\\gamma}^{7} {{{\\Delta e}}_{{  1}}^\\gamma}^{4} {{{\\Delta e}}_{{  2}}^\\gamma}^{3} {\\Omega}^{2} + 0.50 \\, {{{\\Delta E}}^\\gamma}^{8} {{{\\Delta e}}_{{  1}}^\\gamma}^{2} {{{\\Delta e}}_{{  2}}^\\gamma}^{4} {\\Omega}^{2} + {{{\\Delta E}}^\\gamma}^{7} {{{\\Delta e}}_{{  1}}^\\gamma}^{3} {{{\\Delta e}}_{{  2}}^\\gamma}^{4} {\\Omega}^{2} + {{{\\Delta E}}^\\gamma}^{6} {{{\\Delta e}}_{{  1}}^\\gamma}^{4} {{{\\Delta e}}_{{  2}}^\\gamma}^{4} {\\Omega}^{2} + 0.25 \\, {{{\\Delta E}}^\\gamma}^{8} {{{\\Delta e}}_{{  1}}^\\gamma}^{4} {\\Omega}^{2} + 0.25 \\, {{{\\Delta E}}^\\gamma}^{8} {{{\\Delta e}}_{{  1}}^\\gamma}^{3} {{{\\Delta e}}_{{  2}}^\\gamma} {\\Omega}^{2} + 0.38 \\, {{{\\Delta E}}^\\gamma}^{7} {{{\\Delta e}}_{{  1}}^\\gamma}^{4} {{{\\Delta e}}_{{  2}}^\\gamma} {\\Omega}^{2} + 0.38 \\, {{{\\Delta E}}^\\gamma}^{8} {{{\\Delta e}}_{{  1}}^\\gamma}^{2} {{{\\Delta e}}_{{  2}}^\\gamma}^{2} {\\Omega}^{2} + 0.50 \\, {{{\\Delta E}}^\\gamma}^{7} {{{\\Delta e}}_{{  1}}^\\gamma}^{3} {{{\\Delta e}}_{{  2}}^\\gamma}^{2} {\\Omega}^{2} + 1.1 \\, {{{\\Delta E}}^\\gamma}^{6} {{{\\Delta e}}_{{  1}}^\\gamma}^{4} {{{\\Delta e}}_{{  2}}^\\gamma}^{2} {\\Omega}^{2} + 0.25 \\, {{{\\Delta E}}^\\gamma}^{8} {{{\\Delta e}}_{{  1}}^\\gamma} {{{\\Delta e}}_{{  2}}^\\gamma}^{3} {\\Omega}^{2} + 0.62 \\, {{{\\Delta E}}^\\gamma}^{7} {{{\\Delta e}}_{{  1}}^\\gamma}^{2} {{{\\Delta e}}_{{  2}}^\\gamma}^{3} {\\Omega}^{2} + {{{\\Delta E}}^\\gamma}^{6} {{{\\Delta e}}_{{  1}}^\\gamma}^{3} {{{\\Delta e}}_{{  2}}^\\gamma}^{3} {\\Omega}^{2} + 1.1 \\, {{{\\Delta E}}^\\gamma}^{5} {{{\\Delta e}}_{{  1}}^\\gamma}^{4} {{{\\Delta e}}_{{  2}}^\\gamma}^{3} {\\Omega}^{2} + 0.062 \\, {{{\\Delta E}}^\\gamma}^{8} {{{\\Delta e}}_{{  2}}^\\gamma}^{4} {\\Omega}^{2} + 0.25 \\, {{{\\Delta E}}^\\gamma}^{7} {{{\\Delta e}}_{{  1}}^\\gamma} {{{\\Delta e}}_{{  2}}^\\gamma}^{4} {\\Omega}^{2} + 0.62 \\, {{{\\Delta E}}^\\gamma}^{6} {{{\\Delta e}}_{{  1}}^\\gamma}^{2} {{{\\Delta e}}_{{  2}}^\\gamma}^{4} {\\Omega}^{2} + 0.75 \\, {{{\\Delta E}}^\\gamma}^{5} {{{\\Delta e}}_{{  1}}^\\gamma}^{3} {{{\\Delta e}}_{{  2}}^\\gamma}^{4} {\\Omega}^{2} + 0.38 \\, {{{\\Delta E}}^\\gamma}^{4} {{{\\Delta e}}_{{  1}}^\\gamma}^{4} {{{\\Delta e}}_{{  2}}^\\gamma}^{4} {\\Omega}^{2} + 0.062 \\, {{{\\Delta E}}^\\gamma}^{8} {{{\\Delta e}}_{{  1}}^\\gamma}^{2} {\\Omega}^{2} + 0.062 \\, {{{\\Delta E}}^\\gamma}^{7} {{{\\Delta e}}_{{  1}}^\\gamma}^{3} {\\Omega}^{2} + 0.19 \\, {{{\\Delta E}}^\\gamma}^{6} {{{\\Delta e}}_{{  1}}^\\gamma}^{4} {\\Omega}^{2} + 0.062 \\, {{{\\Delta E}}^\\gamma}^{8} {{{\\Delta e}}_{{  1}}^\\gamma} {{{\\Delta e}}_{{  2}}^\\gamma} {\\Omega}^{2} + 0.16 \\, {{{\\Delta E}}^\\gamma}^{7} {{{\\Delta e}}_{{  1}}^\\gamma}^{2} {{{\\Delta e}}_{{  2}}^\\gamma} {\\Omega}^{2} + 0.19 \\, {{{\\Delta E}}^\\gamma}^{6} {{{\\Delta e}}_{{  1}}^\\gamma}^{3} {{{\\Delta e}}_{{  2}}^\\gamma} {\\Omega}^{2} + 0.38 \\, {{{\\Delta E}}^\\gamma}^{5} {{{\\Delta e}}_{{  1}}^\\gamma}^{4} {{{\\Delta e}}_{{  2}}^\\gamma} {\\Omega}^{2} + 0.016 \\, {{{\\Delta E}}^\\gamma}^{8} {{{\\Delta e}}_{{  2}}^\\gamma}^{2} {\\Omega}^{2} + 0.062 \\, {{{\\Delta E}}^\\gamma}^{7} {{{\\Delta e}}_{{  1}}^\\gamma} {{{\\Delta e}}_{{  2}}^\\gamma}^{2} {\\Omega}^{2} + 0.25 \\, {{{\\Delta E}}^\\gamma}^{6} {{{\\Delta e}}_{{  1}}^\\gamma}^{2} {{{\\Delta e}}_{{  2}}^\\gamma}^{2} {\\Omega}^{2} + 0.50 \\, {{{\\Delta E}}^\\gamma}^{5} {{{\\Delta e}}_{{  1}}^\\gamma}^{3} {{{\\Delta e}}_{{  2}}^\\gamma}^{2} {\\Omega}^{2} + 0.42 \\, {{{\\Delta E}}^\\gamma}^{4} {{{\\Delta e}}_{{  1}}^\\gamma}^{4} {{{\\Delta e}}_{{  2}}^\\gamma}^{2} {\\Omega}^{2} + 0.12 \\, {{{\\Delta E}}^\\gamma}^{6} {{{\\Delta e}}_{{  1}}^\\gamma} {{{\\Delta e}}_{{  2}}^\\gamma}^{3} {\\Omega}^{2} + 0.44 \\, {{{\\Delta E}}^\\gamma}^{5} {{{\\Delta e}}_{{  1}}^\\gamma}^{2} {{{\\Delta e}}_{{  2}}^\\gamma}^{3} {\\Omega}^{2} + 0.56 \\, {{{\\Delta E}}^\\gamma}^{4} {{{\\Delta e}}_{{  1}}^\\gamma}^{3} {{{\\Delta e}}_{{  2}}^\\gamma}^{3} {\\Omega}^{2} + 0.28 \\, {{{\\Delta E}}^\\gamma}^{3} {{{\\Delta e}}_{{  1}}^\\gamma}^{4} {{{\\Delta e}}_{{  2}}^\\gamma}^{3} {\\Omega}^{2} + 0.031 \\, {{{\\Delta E}}^\\gamma}^{6} {{{\\Delta e}}_{{  2}}^\\gamma}^{4} {\\Omega}^{2} + 0.12 \\, {{{\\Delta E}}^\\gamma}^{5} {{{\\Delta e}}_{{  1}}^\\gamma} {{{\\Delta e}}_{{  2}}^\\gamma}^{4} {\\Omega}^{2} + 0.22 \\, {{{\\Delta E}}^\\gamma}^{4} {{{\\Delta e}}_{{  1}}^\\gamma}^{2} {{{\\Delta e}}_{{  2}}^\\gamma}^{4} {\\Omega}^{2} + 0.19 \\, {{{\\Delta E}}^\\gamma}^{3} {{{\\Delta e}}_{{  1}}^\\gamma}^{3} {{{\\Delta e}}_{{  2}}^\\gamma}^{4} {\\Omega}^{2} + 0.062 \\, {{{\\Delta E}}^\\gamma}^{2} {{{\\Delta e}}_{{  1}}^\\gamma}^{4} {{{\\Delta e}}_{{  2}}^\\gamma}^{4} {\\Omega}^{2} + 0.047 \\, {{{\\Delta E}}^\\gamma}^{6} {{{\\Delta e}}_{{  1}}^\\gamma}^{2} {\\Omega}^{2} + 0.078 \\, {{{\\Delta E}}^\\gamma}^{5} {{{\\Delta e}}_{{  1}}^\\gamma}^{3} {\\Omega}^{2} + 0.031 \\, {{{\\Delta E}}^\\gamma}^{4} {{{\\Delta e}}_{{  1}}^\\gamma}^{4} {\\Omega}^{2} + 0.047 \\, {{{\\Delta E}}^\\gamma}^{6} {{{\\Delta e}}_{{  1}}^\\gamma} {{{\\Delta e}}_{{  2}}^\\gamma} {\\Omega}^{2} + 0.20 \\, {{{\\Delta E}}^\\gamma}^{5} {{{\\Delta e}}_{{  1}}^\\gamma}^{2} {{{\\Delta e}}_{{  2}}^\\gamma} {\\Omega}^{2} + 0.22 \\, {{{\\Delta E}}^\\gamma}^{4} {{{\\Delta e}}_{{  1}}^\\gamma}^{3} {{{\\Delta e}}_{{  2}}^\\gamma} {\\Omega}^{2} + 0.070 \\, {{{\\Delta E}}^\\gamma}^{3} {{{\\Delta e}}_{{  1}}^\\gamma}^{4} {{{\\Delta e}}_{{  2}}^\\gamma} {\\Omega}^{2} + 0.012 \\, {{{\\Delta E}}^\\gamma}^{6} {{{\\Delta e}}_{{  2}}^\\gamma}^{2} {\\Omega}^{2} + 0.11 \\, {{{\\Delta E}}^\\gamma}^{5} {{{\\Delta e}}_{{  1}}^\\gamma} {{{\\Delta e}}_{{  2}}^\\gamma}^{2} {\\Omega}^{2} + 0.26 \\, {{{\\Delta E}}^\\gamma}^{4} {{{\\Delta e}}_{{  1}}^\\gamma}^{2} {{{\\Delta e}}_{{  2}}^\\gamma}^{2} {\\Omega}^{2} + 0.22 \\, {{{\\Delta E}}^\\gamma}^{3} {{{\\Delta e}}_{{  1}}^\\gamma}^{3} {{{\\Delta e}}_{{  2}}^\\gamma}^{2} {\\Omega}^{2} + 0.059 \\, {{{\\Delta E}}^\\gamma}^{2} {{{\\Delta e}}_{{  1}}^\\gamma}^{4} {{{\\Delta e}}_{{  2}}^\\gamma}^{2} {\\Omega}^{2} + 0.016 \\, {{{\\Delta E}}^\\gamma}^{5} {{{\\Delta e}}_{{  2}}^\\gamma}^{3} {\\Omega}^{2} + 0.078 \\, {{{\\Delta E}}^\\gamma}^{4} {{{\\Delta e}}_{{  1}}^\\gamma} {{{\\Delta e}}_{{  2}}^\\gamma}^{3} {\\Omega}^{2} + 0.13 \\, {{{\\Delta E}}^\\gamma}^{3} {{{\\Delta e}}_{{  1}}^\\gamma}^{2} {{{\\Delta e}}_{{  2}}^\\gamma}^{3} {\\Omega}^{2} + 0.094 \\, {{{\\Delta E}}^\\gamma}^{2} {{{\\Delta e}}_{{  1}}^\\gamma}^{3} {{{\\Delta e}}_{{  2}}^\\gamma}^{3} {\\Omega}^{2} + 0.023 \\, {{{\\Delta E}}^\\gamma} {{{\\Delta e}}_{{  1}}^\\gamma}^{4} {{{\\Delta e}}_{{  2}}^\\gamma}^{3} {\\Omega}^{2} + 0.0039 \\, {{{\\Delta E}}^\\gamma}^{4} {{{\\Delta e}}_{{  2}}^\\gamma}^{4} {\\Omega}^{2} + 0.016 \\, {{{\\Delta E}}^\\gamma}^{3} {{{\\Delta e}}_{{  1}}^\\gamma} {{{\\Delta e}}_{{  2}}^\\gamma}^{4} {\\Omega}^{2} + 0.023 \\, {{{\\Delta E}}^\\gamma}^{2} {{{\\Delta e}}_{{  1}}^\\gamma}^{2} {{{\\Delta e}}_{{  2}}^\\gamma}^{4} {\\Omega}^{2} + 0.016 \\, {{{\\Delta E}}^\\gamma} {{{\\Delta e}}_{{  1}}^\\gamma}^{3} {{{\\Delta e}}_{{  2}}^\\gamma}^{4} {\\Omega}^{2} + 0.0039 \\, {{{\\Delta e}}_{{  1}}^\\gamma}^{4} {{{\\Delta e}}_{{  2}}^\\gamma}^{4} {\\Omega}^{2}}{{\\left({{{\\Delta E}}^\\gamma}^{2} {{{\\Delta e}}_{{  1}}^\\gamma}^{2} {{{\\Delta e}}_{{  2}}^\\gamma}^{2} + {{{\\Delta E}}^\\gamma}^{2} {{{\\Delta e}}_{{  1}}^\\gamma}^{2} + {{{\\Delta E}}^\\gamma}^{2} {{{\\Delta e}}_{{  1}}^\\gamma} {{{\\Delta e}}_{{  2}}^\\gamma} + {{{\\Delta E}}^\\gamma} {{{\\Delta e}}_{{  1}}^\\gamma}^{2} {{{\\Delta e}}_{{  2}}^\\gamma} + 0.25 \\, {{{\\Delta E}}^\\gamma}^{2} {{{\\Delta e}}_{{  2}}^\\gamma}^{2} + 0.50 \\, {{{\\Delta E}}^\\gamma} {{{\\Delta e}}_{{  1}}^\\gamma} {{{\\Delta e}}_{{  2}}^\\gamma}^{2} + 0.25 \\, {{{\\Delta e}}_{{  1}}^\\gamma}^{2} {{{\\Delta e}}_{{  2}}^\\gamma}^{2}\\right)} {\\left({{{\\Delta E}}^\\gamma}^{2} {{{\\Delta e}}_{{  1}}^\\gamma}^{2} + 0.25 \\, {{{\\Delta E}}^\\gamma}^{2} + 0.50 \\, {{{\\Delta E}}^\\gamma} {{{\\Delta e}}_{{  1}}^\\gamma} + 0.25 \\, {{{\\Delta e}}_{{  1}}^\\gamma}^{2}\\right)} {\\left({{{\\Delta E}}^\\gamma}^{2} {{{\\Delta e}}_{{  2}}^\\gamma}^{2} + 0.25 \\, {{{\\Delta E}}^\\gamma}^{2} + 0.50 \\, {{{\\Delta E}}^\\gamma} {{{\\Delta e}}_{{  2}}^\\gamma} + 0.25 \\, {{{\\Delta e}}_{{  2}}^\\gamma}^{2}\\right)} {\\left({{{\\Delta E}}^\\gamma}^{2} + 0.25\\right)} C {{{\\Delta E}}^\\gamma} {\\gamma}}</script></html>"
      ],
      "text/latex": [
       "$$\\newcommand{\\Bold}[1]{\\mathbf{#1}}-\\frac{{{{\\Delta E}}^\\gamma}^{8} {{{\\Delta e}}_{{  1}}^\\gamma}^{4} {{{\\Delta e}}_{{  2}}^\\gamma}^{4} {\\Omega}^{2} + 1.2 \\, {{{\\Delta E}}^\\gamma}^{8} {{{\\Delta e}}_{{  1}}^\\gamma}^{4} {{{\\Delta e}}_{{  2}}^\\gamma}^{2} {\\Omega}^{2} + {{{\\Delta E}}^\\gamma}^{8} {{{\\Delta e}}_{{  1}}^\\gamma}^{3} {{{\\Delta e}}_{{  2}}^\\gamma}^{3} {\\Omega}^{2} + 1.5 \\, {{{\\Delta E}}^\\gamma}^{7} {{{\\Delta e}}_{{  1}}^\\gamma}^{4} {{{\\Delta e}}_{{  2}}^\\gamma}^{3} {\\Omega}^{2} + 0.50 \\, {{{\\Delta E}}^\\gamma}^{8} {{{\\Delta e}}_{{  1}}^\\gamma}^{2} {{{\\Delta e}}_{{  2}}^\\gamma}^{4} {\\Omega}^{2} + {{{\\Delta E}}^\\gamma}^{7} {{{\\Delta e}}_{{  1}}^\\gamma}^{3} {{{\\Delta e}}_{{  2}}^\\gamma}^{4} {\\Omega}^{2} + {{{\\Delta E}}^\\gamma}^{6} {{{\\Delta e}}_{{  1}}^\\gamma}^{4} {{{\\Delta e}}_{{  2}}^\\gamma}^{4} {\\Omega}^{2} + 0.25 \\, {{{\\Delta E}}^\\gamma}^{8} {{{\\Delta e}}_{{  1}}^\\gamma}^{4} {\\Omega}^{2} + 0.25 \\, {{{\\Delta E}}^\\gamma}^{8} {{{\\Delta e}}_{{  1}}^\\gamma}^{3} {{{\\Delta e}}_{{  2}}^\\gamma} {\\Omega}^{2} + 0.38 \\, {{{\\Delta E}}^\\gamma}^{7} {{{\\Delta e}}_{{  1}}^\\gamma}^{4} {{{\\Delta e}}_{{  2}}^\\gamma} {\\Omega}^{2} + 0.38 \\, {{{\\Delta E}}^\\gamma}^{8} {{{\\Delta e}}_{{  1}}^\\gamma}^{2} {{{\\Delta e}}_{{  2}}^\\gamma}^{2} {\\Omega}^{2} + 0.50 \\, {{{\\Delta E}}^\\gamma}^{7} {{{\\Delta e}}_{{  1}}^\\gamma}^{3} {{{\\Delta e}}_{{  2}}^\\gamma}^{2} {\\Omega}^{2} + 1.1 \\, {{{\\Delta E}}^\\gamma}^{6} {{{\\Delta e}}_{{  1}}^\\gamma}^{4} {{{\\Delta e}}_{{  2}}^\\gamma}^{2} {\\Omega}^{2} + 0.25 \\, {{{\\Delta E}}^\\gamma}^{8} {{{\\Delta e}}_{{  1}}^\\gamma} {{{\\Delta e}}_{{  2}}^\\gamma}^{3} {\\Omega}^{2} + 0.62 \\, {{{\\Delta E}}^\\gamma}^{7} {{{\\Delta e}}_{{  1}}^\\gamma}^{2} {{{\\Delta e}}_{{  2}}^\\gamma}^{3} {\\Omega}^{2} + {{{\\Delta E}}^\\gamma}^{6} {{{\\Delta e}}_{{  1}}^\\gamma}^{3} {{{\\Delta e}}_{{  2}}^\\gamma}^{3} {\\Omega}^{2} + 1.1 \\, {{{\\Delta E}}^\\gamma}^{5} {{{\\Delta e}}_{{  1}}^\\gamma}^{4} {{{\\Delta e}}_{{  2}}^\\gamma}^{3} {\\Omega}^{2} + 0.062 \\, {{{\\Delta E}}^\\gamma}^{8} {{{\\Delta e}}_{{  2}}^\\gamma}^{4} {\\Omega}^{2} + 0.25 \\, {{{\\Delta E}}^\\gamma}^{7} {{{\\Delta e}}_{{  1}}^\\gamma} {{{\\Delta e}}_{{  2}}^\\gamma}^{4} {\\Omega}^{2} + 0.62 \\, {{{\\Delta E}}^\\gamma}^{6} {{{\\Delta e}}_{{  1}}^\\gamma}^{2} {{{\\Delta e}}_{{  2}}^\\gamma}^{4} {\\Omega}^{2} + 0.75 \\, {{{\\Delta E}}^\\gamma}^{5} {{{\\Delta e}}_{{  1}}^\\gamma}^{3} {{{\\Delta e}}_{{  2}}^\\gamma}^{4} {\\Omega}^{2} + 0.38 \\, {{{\\Delta E}}^\\gamma}^{4} {{{\\Delta e}}_{{  1}}^\\gamma}^{4} {{{\\Delta e}}_{{  2}}^\\gamma}^{4} {\\Omega}^{2} + 0.062 \\, {{{\\Delta E}}^\\gamma}^{8} {{{\\Delta e}}_{{  1}}^\\gamma}^{2} {\\Omega}^{2} + 0.062 \\, {{{\\Delta E}}^\\gamma}^{7} {{{\\Delta e}}_{{  1}}^\\gamma}^{3} {\\Omega}^{2} + 0.19 \\, {{{\\Delta E}}^\\gamma}^{6} {{{\\Delta e}}_{{  1}}^\\gamma}^{4} {\\Omega}^{2} + 0.062 \\, {{{\\Delta E}}^\\gamma}^{8} {{{\\Delta e}}_{{  1}}^\\gamma} {{{\\Delta e}}_{{  2}}^\\gamma} {\\Omega}^{2} + 0.16 \\, {{{\\Delta E}}^\\gamma}^{7} {{{\\Delta e}}_{{  1}}^\\gamma}^{2} {{{\\Delta e}}_{{  2}}^\\gamma} {\\Omega}^{2} + 0.19 \\, {{{\\Delta E}}^\\gamma}^{6} {{{\\Delta e}}_{{  1}}^\\gamma}^{3} {{{\\Delta e}}_{{  2}}^\\gamma} {\\Omega}^{2} + 0.38 \\, {{{\\Delta E}}^\\gamma}^{5} {{{\\Delta e}}_{{  1}}^\\gamma}^{4} {{{\\Delta e}}_{{  2}}^\\gamma} {\\Omega}^{2} + 0.016 \\, {{{\\Delta E}}^\\gamma}^{8} {{{\\Delta e}}_{{  2}}^\\gamma}^{2} {\\Omega}^{2} + 0.062 \\, {{{\\Delta E}}^\\gamma}^{7} {{{\\Delta e}}_{{  1}}^\\gamma} {{{\\Delta e}}_{{  2}}^\\gamma}^{2} {\\Omega}^{2} + 0.25 \\, {{{\\Delta E}}^\\gamma}^{6} {{{\\Delta e}}_{{  1}}^\\gamma}^{2} {{{\\Delta e}}_{{  2}}^\\gamma}^{2} {\\Omega}^{2} + 0.50 \\, {{{\\Delta E}}^\\gamma}^{5} {{{\\Delta e}}_{{  1}}^\\gamma}^{3} {{{\\Delta e}}_{{  2}}^\\gamma}^{2} {\\Omega}^{2} + 0.42 \\, {{{\\Delta E}}^\\gamma}^{4} {{{\\Delta e}}_{{  1}}^\\gamma}^{4} {{{\\Delta e}}_{{  2}}^\\gamma}^{2} {\\Omega}^{2} + 0.12 \\, {{{\\Delta E}}^\\gamma}^{6} {{{\\Delta e}}_{{  1}}^\\gamma} {{{\\Delta e}}_{{  2}}^\\gamma}^{3} {\\Omega}^{2} + 0.44 \\, {{{\\Delta E}}^\\gamma}^{5} {{{\\Delta e}}_{{  1}}^\\gamma}^{2} {{{\\Delta e}}_{{  2}}^\\gamma}^{3} {\\Omega}^{2} + 0.56 \\, {{{\\Delta E}}^\\gamma}^{4} {{{\\Delta e}}_{{  1}}^\\gamma}^{3} {{{\\Delta e}}_{{  2}}^\\gamma}^{3} {\\Omega}^{2} + 0.28 \\, {{{\\Delta E}}^\\gamma}^{3} {{{\\Delta e}}_{{  1}}^\\gamma}^{4} {{{\\Delta e}}_{{  2}}^\\gamma}^{3} {\\Omega}^{2} + 0.031 \\, {{{\\Delta E}}^\\gamma}^{6} {{{\\Delta e}}_{{  2}}^\\gamma}^{4} {\\Omega}^{2} + 0.12 \\, {{{\\Delta E}}^\\gamma}^{5} {{{\\Delta e}}_{{  1}}^\\gamma} {{{\\Delta e}}_{{  2}}^\\gamma}^{4} {\\Omega}^{2} + 0.22 \\, {{{\\Delta E}}^\\gamma}^{4} {{{\\Delta e}}_{{  1}}^\\gamma}^{2} {{{\\Delta e}}_{{  2}}^\\gamma}^{4} {\\Omega}^{2} + 0.19 \\, {{{\\Delta E}}^\\gamma}^{3} {{{\\Delta e}}_{{  1}}^\\gamma}^{3} {{{\\Delta e}}_{{  2}}^\\gamma}^{4} {\\Omega}^{2} + 0.062 \\, {{{\\Delta E}}^\\gamma}^{2} {{{\\Delta e}}_{{  1}}^\\gamma}^{4} {{{\\Delta e}}_{{  2}}^\\gamma}^{4} {\\Omega}^{2} + 0.047 \\, {{{\\Delta E}}^\\gamma}^{6} {{{\\Delta e}}_{{  1}}^\\gamma}^{2} {\\Omega}^{2} + 0.078 \\, {{{\\Delta E}}^\\gamma}^{5} {{{\\Delta e}}_{{  1}}^\\gamma}^{3} {\\Omega}^{2} + 0.031 \\, {{{\\Delta E}}^\\gamma}^{4} {{{\\Delta e}}_{{  1}}^\\gamma}^{4} {\\Omega}^{2} + 0.047 \\, {{{\\Delta E}}^\\gamma}^{6} {{{\\Delta e}}_{{  1}}^\\gamma} {{{\\Delta e}}_{{  2}}^\\gamma} {\\Omega}^{2} + 0.20 \\, {{{\\Delta E}}^\\gamma}^{5} {{{\\Delta e}}_{{  1}}^\\gamma}^{2} {{{\\Delta e}}_{{  2}}^\\gamma} {\\Omega}^{2} + 0.22 \\, {{{\\Delta E}}^\\gamma}^{4} {{{\\Delta e}}_{{  1}}^\\gamma}^{3} {{{\\Delta e}}_{{  2}}^\\gamma} {\\Omega}^{2} + 0.070 \\, {{{\\Delta E}}^\\gamma}^{3} {{{\\Delta e}}_{{  1}}^\\gamma}^{4} {{{\\Delta e}}_{{  2}}^\\gamma} {\\Omega}^{2} + 0.012 \\, {{{\\Delta E}}^\\gamma}^{6} {{{\\Delta e}}_{{  2}}^\\gamma}^{2} {\\Omega}^{2} + 0.11 \\, {{{\\Delta E}}^\\gamma}^{5} {{{\\Delta e}}_{{  1}}^\\gamma} {{{\\Delta e}}_{{  2}}^\\gamma}^{2} {\\Omega}^{2} + 0.26 \\, {{{\\Delta E}}^\\gamma}^{4} {{{\\Delta e}}_{{  1}}^\\gamma}^{2} {{{\\Delta e}}_{{  2}}^\\gamma}^{2} {\\Omega}^{2} + 0.22 \\, {{{\\Delta E}}^\\gamma}^{3} {{{\\Delta e}}_{{  1}}^\\gamma}^{3} {{{\\Delta e}}_{{  2}}^\\gamma}^{2} {\\Omega}^{2} + 0.059 \\, {{{\\Delta E}}^\\gamma}^{2} {{{\\Delta e}}_{{  1}}^\\gamma}^{4} {{{\\Delta e}}_{{  2}}^\\gamma}^{2} {\\Omega}^{2} + 0.016 \\, {{{\\Delta E}}^\\gamma}^{5} {{{\\Delta e}}_{{  2}}^\\gamma}^{3} {\\Omega}^{2} + 0.078 \\, {{{\\Delta E}}^\\gamma}^{4} {{{\\Delta e}}_{{  1}}^\\gamma} {{{\\Delta e}}_{{  2}}^\\gamma}^{3} {\\Omega}^{2} + 0.13 \\, {{{\\Delta E}}^\\gamma}^{3} {{{\\Delta e}}_{{  1}}^\\gamma}^{2} {{{\\Delta e}}_{{  2}}^\\gamma}^{3} {\\Omega}^{2} + 0.094 \\, {{{\\Delta E}}^\\gamma}^{2} {{{\\Delta e}}_{{  1}}^\\gamma}^{3} {{{\\Delta e}}_{{  2}}^\\gamma}^{3} {\\Omega}^{2} + 0.023 \\, {{{\\Delta E}}^\\gamma} {{{\\Delta e}}_{{  1}}^\\gamma}^{4} {{{\\Delta e}}_{{  2}}^\\gamma}^{3} {\\Omega}^{2} + 0.0039 \\, {{{\\Delta E}}^\\gamma}^{4} {{{\\Delta e}}_{{  2}}^\\gamma}^{4} {\\Omega}^{2} + 0.016 \\, {{{\\Delta E}}^\\gamma}^{3} {{{\\Delta e}}_{{  1}}^\\gamma} {{{\\Delta e}}_{{  2}}^\\gamma}^{4} {\\Omega}^{2} + 0.023 \\, {{{\\Delta E}}^\\gamma}^{2} {{{\\Delta e}}_{{  1}}^\\gamma}^{2} {{{\\Delta e}}_{{  2}}^\\gamma}^{4} {\\Omega}^{2} + 0.016 \\, {{{\\Delta E}}^\\gamma} {{{\\Delta e}}_{{  1}}^\\gamma}^{3} {{{\\Delta e}}_{{  2}}^\\gamma}^{4} {\\Omega}^{2} + 0.0039 \\, {{{\\Delta e}}_{{  1}}^\\gamma}^{4} {{{\\Delta e}}_{{  2}}^\\gamma}^{4} {\\Omega}^{2}}{{\\left({{{\\Delta E}}^\\gamma}^{2} {{{\\Delta e}}_{{  1}}^\\gamma}^{2} {{{\\Delta e}}_{{  2}}^\\gamma}^{2} + {{{\\Delta E}}^\\gamma}^{2} {{{\\Delta e}}_{{  1}}^\\gamma}^{2} + {{{\\Delta E}}^\\gamma}^{2} {{{\\Delta e}}_{{  1}}^\\gamma} {{{\\Delta e}}_{{  2}}^\\gamma} + {{{\\Delta E}}^\\gamma} {{{\\Delta e}}_{{  1}}^\\gamma}^{2} {{{\\Delta e}}_{{  2}}^\\gamma} + 0.25 \\, {{{\\Delta E}}^\\gamma}^{2} {{{\\Delta e}}_{{  2}}^\\gamma}^{2} + 0.50 \\, {{{\\Delta E}}^\\gamma} {{{\\Delta e}}_{{  1}}^\\gamma} {{{\\Delta e}}_{{  2}}^\\gamma}^{2} + 0.25 \\, {{{\\Delta e}}_{{  1}}^\\gamma}^{2} {{{\\Delta e}}_{{  2}}^\\gamma}^{2}\\right)} {\\left({{{\\Delta E}}^\\gamma}^{2} {{{\\Delta e}}_{{  1}}^\\gamma}^{2} + 0.25 \\, {{{\\Delta E}}^\\gamma}^{2} + 0.50 \\, {{{\\Delta E}}^\\gamma} {{{\\Delta e}}_{{  1}}^\\gamma} + 0.25 \\, {{{\\Delta e}}_{{  1}}^\\gamma}^{2}\\right)} {\\left({{{\\Delta E}}^\\gamma}^{2} {{{\\Delta e}}_{{  2}}^\\gamma}^{2} + 0.25 \\, {{{\\Delta E}}^\\gamma}^{2} + 0.50 \\, {{{\\Delta E}}^\\gamma} {{{\\Delta e}}_{{  2}}^\\gamma} + 0.25 \\, {{{\\Delta e}}_{{  2}}^\\gamma}^{2}\\right)} {\\left({{{\\Delta E}}^\\gamma}^{2} + 0.25\\right)} C {{{\\Delta E}}^\\gamma} {\\gamma}}$$"
      ],
      "text/plain": [
       "-(DEg^8*Deg1^4*Deg2^4*Omega^2 + 1.2*DEg^8*Deg1^4*Deg2^2*Omega^2 + DEg^8*Deg1^3*Deg2^3*Omega^2 + 1.5*DEg^7*Deg1^4*Deg2^3*Omega^2 + 0.50*DEg^8*Deg1^2*Deg2^4*Omega^2 + DEg^7*Deg1^3*Deg2^4*Omega^2 + DEg^6*Deg1^4*Deg2^4*Omega^2 + 0.25*DEg^8*Deg1^4*Omega^2 + 0.25*DEg^8*Deg1^3*Deg2*Omega^2 + 0.38*DEg^7*Deg1^4*Deg2*Omega^2 + 0.38*DEg^8*Deg1^2*Deg2^2*Omega^2 + 0.50*DEg^7*Deg1^3*Deg2^2*Omega^2 + 1.1*DEg^6*Deg1^4*Deg2^2*Omega^2 + 0.25*DEg^8*Deg1*Deg2^3*Omega^2 + 0.62*DEg^7*Deg1^2*Deg2^3*Omega^2 + DEg^6*Deg1^3*Deg2^3*Omega^2 + 1.1*DEg^5*Deg1^4*Deg2^3*Omega^2 + 0.062*DEg^8*Deg2^4*Omega^2 + 0.25*DEg^7*Deg1*Deg2^4*Omega^2 + 0.62*DEg^6*Deg1^2*Deg2^4*Omega^2 + 0.75*DEg^5*Deg1^3*Deg2^4*Omega^2 + 0.38*DEg^4*Deg1^4*Deg2^4*Omega^2 + 0.062*DEg^8*Deg1^2*Omega^2 + 0.062*DEg^7*Deg1^3*Omega^2 + 0.19*DEg^6*Deg1^4*Omega^2 + 0.062*DEg^8*Deg1*Deg2*Omega^2 + 0.16*DEg^7*Deg1^2*Deg2*Omega^2 + 0.19*DEg^6*Deg1^3*Deg2*Omega^2 + 0.38*DEg^5*Deg1^4*Deg2*Omega^2 + 0.016*DEg^8*Deg2^2*Omega^2 + 0.062*DEg^7*Deg1*Deg2^2*Omega^2 + 0.25*DEg^6*Deg1^2*Deg2^2*Omega^2 + 0.50*DEg^5*Deg1^3*Deg2^2*Omega^2 + 0.42*DEg^4*Deg1^4*Deg2^2*Omega^2 + 0.12*DEg^6*Deg1*Deg2^3*Omega^2 + 0.44*DEg^5*Deg1^2*Deg2^3*Omega^2 + 0.56*DEg^4*Deg1^3*Deg2^3*Omega^2 + 0.28*DEg^3*Deg1^4*Deg2^3*Omega^2 + 0.031*DEg^6*Deg2^4*Omega^2 + 0.12*DEg^5*Deg1*Deg2^4*Omega^2 + 0.22*DEg^4*Deg1^2*Deg2^4*Omega^2 + 0.19*DEg^3*Deg1^3*Deg2^4*Omega^2 + 0.062*DEg^2*Deg1^4*Deg2^4*Omega^2 + 0.047*DEg^6*Deg1^2*Omega^2 + 0.078*DEg^5*Deg1^3*Omega^2 + 0.031*DEg^4*Deg1^4*Omega^2 + 0.047*DEg^6*Deg1*Deg2*Omega^2 + 0.20*DEg^5*Deg1^2*Deg2*Omega^2 + 0.22*DEg^4*Deg1^3*Deg2*Omega^2 + 0.070*DEg^3*Deg1^4*Deg2*Omega^2 + 0.012*DEg^6*Deg2^2*Omega^2 + 0.11*DEg^5*Deg1*Deg2^2*Omega^2 + 0.26*DEg^4*Deg1^2*Deg2^2*Omega^2 + 0.22*DEg^3*Deg1^3*Deg2^2*Omega^2 + 0.059*DEg^2*Deg1^4*Deg2^2*Omega^2 + 0.016*DEg^5*Deg2^3*Omega^2 + 0.078*DEg^4*Deg1*Deg2^3*Omega^2 + 0.13*DEg^3*Deg1^2*Deg2^3*Omega^2 + 0.094*DEg^2*Deg1^3*Deg2^3*Omega^2 + 0.023*DEg*Deg1^4*Deg2^3*Omega^2 + 0.0039*DEg^4*Deg2^4*Omega^2 + 0.016*DEg^3*Deg1*Deg2^4*Omega^2 + 0.023*DEg^2*Deg1^2*Deg2^4*Omega^2 + 0.016*DEg*Deg1^3*Deg2^4*Omega^2 + 0.0039*Deg1^4*Deg2^4*Omega^2)/((DEg^2*Deg1^2*Deg2^2 + DEg^2*Deg1^2 + DEg^2*Deg1*Deg2 + DEg*Deg1^2*Deg2 + 0.25*DEg^2*Deg2^2 + 0.50*DEg*Deg1*Deg2^2 + 0.25*Deg1^2*Deg2^2)*(DEg^2*Deg1^2 + 0.25*DEg^2 + 0.50*DEg*Deg1 + 0.25*Deg1^2)*(DEg^2*Deg2^2 + 0.25*DEg^2 + 0.50*DEg*Deg2 + 0.25*Deg2^2)*(DEg^2 + 0.25)*C*DEg*gamma)"
      ]
     },
     "metadata": {},
     "output_type": "display_data"
    }
   ],
   "source": [
    "# f added\n",
    "t_den = (2*a - 2*b -d + f )._mathematica_().Together()._sage_()\n",
    "ttden = symround(t_den, show_del=True,digits=14 )\n",
    "\n",
    "taylnf = ttden\n",
    "show(symround(taylnf,show_del=False))\n",
    "\n",
    "cond2 = taylnf*tg\n",
    "cond2 = MMA_simplify(cond2,full=not True)"
   ]
  },
  {
   "cell_type": "code",
   "execution_count": null,
   "id": "c6fdc704",
   "metadata": {},
   "outputs": [],
   "source": []
  },
  {
   "cell_type": "code",
   "execution_count": 697,
   "id": "3d4c0ac3",
   "metadata": {},
   "outputs": [
    {
     "data": {
      "text/html": [
       "<html><script type=\"math/tex; mode=display\">\\newcommand{\\Bold}[1]{\\mathbf{#1}}\\frac{{\\left({\\left({\\left({{{\\Delta e}}_{{  2}}^\\gamma}^{4} + 1.2 \\, {{{\\Delta e}}_{{  2}}^\\gamma}^{2} + 0.25\\right)} {{{\\Delta e}}_{{  1}}^\\gamma}^{4} + {\\left({{{\\Delta e}}_{{  2}}^\\gamma}^{3} + 0.25 \\, {{{\\Delta e}}_{{  2}}^\\gamma}\\right)} {{{\\Delta e}}_{{  1}}^\\gamma}^{3} + 0.062 \\, {{{\\Delta e}}_{{  2}}^\\gamma}^{4} + {\\left(0.50 \\, {{{\\Delta e}}_{{  2}}^\\gamma}^{4} + 0.38 \\, {{{\\Delta e}}_{{  2}}^\\gamma}^{2} + 0.062\\right)} {{{\\Delta e}}_{{  1}}^\\gamma}^{2} + {\\left(0.25 \\, {{{\\Delta e}}_{{  2}}^\\gamma}^{3} + 0.062 \\, {{{\\Delta e}}_{{  2}}^\\gamma}\\right)} {{{\\Delta e}}_{{  1}}^\\gamma} + 0.016 \\, {{{\\Delta e}}_{{  2}}^\\gamma}^{2}\\right)} {{{\\Delta E}}^\\gamma}^{8} + {\\left({\\left(1.5 \\, {{{\\Delta e}}_{{  2}}^\\gamma}^{3} + 0.38 \\, {{{\\Delta e}}_{{  2}}^\\gamma}\\right)} {{{\\Delta e}}_{{  1}}^\\gamma}^{3} + 0.25 \\, {{{\\Delta e}}_{{  2}}^\\gamma}^{4} + {\\left({{{\\Delta e}}_{{  2}}^\\gamma}^{4} + 0.50 \\, {{{\\Delta e}}_{{  2}}^\\gamma}^{2} + 0.062\\right)} {{{\\Delta e}}_{{  1}}^\\gamma}^{2} + {\\left(0.62 \\, {{{\\Delta e}}_{{  2}}^\\gamma}^{3} + 0.16 \\, {{{\\Delta e}}_{{  2}}^\\gamma}\\right)} {{{\\Delta e}}_{{  1}}^\\gamma} + 0.062 \\, {{{\\Delta e}}_{{  2}}^\\gamma}^{2}\\right)} {{{\\Delta E}}^\\gamma}^{7} {{{\\Delta e}}_{{  1}}^\\gamma} + {{{\\Delta E}}^\\gamma} {{{\\Delta e}}_{{  1}}^\\gamma}^{3} {\\left(0.023 \\, {{{\\Delta e}}_{{  1}}^\\gamma} + 0.016 \\, {{{\\Delta e}}_{{  2}}^\\gamma}\\right)} {{{\\Delta e}}_{{  2}}^\\gamma}^{3} + 0.0039 \\, {{{\\Delta e}}_{{  1}}^\\gamma}^{4} {{{\\Delta e}}_{{  2}}^\\gamma}^{4} + {\\left({\\left({{{\\Delta e}}_{{  2}}^\\gamma}^{4} + 1.1 \\, {{{\\Delta e}}_{{  2}}^\\gamma}^{2} + 0.19\\right)} {{{\\Delta e}}_{{  1}}^\\gamma}^{4} + {\\left({{{\\Delta e}}_{{  2}}^\\gamma}^{3} + 0.19 \\, {{{\\Delta e}}_{{  2}}^\\gamma}\\right)} {{{\\Delta e}}_{{  1}}^\\gamma}^{3} + 0.031 \\, {{{\\Delta e}}_{{  2}}^\\gamma}^{4} + {\\left(0.62 \\, {{{\\Delta e}}_{{  2}}^\\gamma}^{4} + 0.25 \\, {{{\\Delta e}}_{{  2}}^\\gamma}^{2} + 0.047\\right)} {{{\\Delta e}}_{{  1}}^\\gamma}^{2} + {\\left(0.12 \\, {{{\\Delta e}}_{{  2}}^\\gamma}^{3} + 0.047 \\, {{{\\Delta e}}_{{  2}}^\\gamma}\\right)} {{{\\Delta e}}_{{  1}}^\\gamma} + 0.012 \\, {{{\\Delta e}}_{{  2}}^\\gamma}^{2}\\right)} {{{\\Delta E}}^\\gamma}^{6} + {\\left({\\left(0.062 \\, {{{\\Delta e}}_{{  2}}^\\gamma}^{2} + 0.059\\right)} {{{\\Delta e}}_{{  1}}^\\gamma}^{2} + 0.094 \\, {{{\\Delta e}}_{{  1}}^\\gamma} {{{\\Delta e}}_{{  2}}^\\gamma} + 0.023 \\, {{{\\Delta e}}_{{  2}}^\\gamma}^{2}\\right)} {{{\\Delta E}}^\\gamma}^{2} {{{\\Delta e}}_{{  1}}^\\gamma}^{2} {{{\\Delta e}}_{{  2}}^\\gamma}^{2} + {\\left({\\left(1.1 \\, {{{\\Delta e}}_{{  2}}^\\gamma}^{3} + 0.38 \\, {{{\\Delta e}}_{{  2}}^\\gamma}\\right)} {{{\\Delta e}}_{{  1}}^\\gamma}^{4} + {\\left(0.75 \\, {{{\\Delta e}}_{{  2}}^\\gamma}^{4} + 0.50 \\, {{{\\Delta e}}_{{  2}}^\\gamma}^{2} + 0.078\\right)} {{{\\Delta e}}_{{  1}}^\\gamma}^{3} + {\\left(0.44 \\, {{{\\Delta e}}_{{  2}}^\\gamma}^{3} + 0.20 \\, {{{\\Delta e}}_{{  2}}^\\gamma}\\right)} {{{\\Delta e}}_{{  1}}^\\gamma}^{2} + 0.016 \\, {{{\\Delta e}}_{{  2}}^\\gamma}^{3} + {\\left(0.12 \\, {{{\\Delta e}}_{{  2}}^\\gamma}^{4} + 0.11 \\, {{{\\Delta e}}_{{  2}}^\\gamma}^{2}\\right)} {{{\\Delta e}}_{{  1}}^\\gamma}\\right)} {{{\\Delta E}}^\\gamma}^{5} + {\\left({\\left(0.28 \\, {{{\\Delta e}}_{{  2}}^\\gamma}^{2} + 0.070\\right)} {{{\\Delta e}}_{{  1}}^\\gamma}^{3} + {\\left(0.19 \\, {{{\\Delta e}}_{{  2}}^\\gamma}^{3} + 0.22 \\, {{{\\Delta e}}_{{  2}}^\\gamma}\\right)} {{{\\Delta e}}_{{  1}}^\\gamma}^{2} + 0.13 \\, {{{\\Delta e}}_{{  1}}^\\gamma} {{{\\Delta e}}_{{  2}}^\\gamma}^{2} + 0.016 \\, {{{\\Delta e}}_{{  2}}^\\gamma}^{3}\\right)} {{{\\Delta E}}^\\gamma}^{3} {{{\\Delta e}}_{{  1}}^\\gamma} {{{\\Delta e}}_{{  2}}^\\gamma} + {\\left({\\left(0.38 \\, {{{\\Delta e}}_{{  2}}^\\gamma}^{4} + 0.42 \\, {{{\\Delta e}}_{{  2}}^\\gamma}^{2} + 0.031\\right)} {{{\\Delta e}}_{{  1}}^\\gamma}^{4} + {\\left(0.56 \\, {{{\\Delta e}}_{{  2}}^\\gamma}^{3} + 0.22 \\, {{{\\Delta e}}_{{  2}}^\\gamma}\\right)} {{{\\Delta e}}_{{  1}}^\\gamma}^{3} + 0.078 \\, {{{\\Delta e}}_{{  1}}^\\gamma} {{{\\Delta e}}_{{  2}}^\\gamma}^{3} + 0.0039 \\, {{{\\Delta e}}_{{  2}}^\\gamma}^{4} + {\\left(0.22 \\, {{{\\Delta e}}_{{  2}}^\\gamma}^{4} + 0.26 \\, {{{\\Delta e}}_{{  2}}^\\gamma}^{2}\\right)} {{{\\Delta e}}_{{  1}}^\\gamma}^{2}\\right)} {{{\\Delta E}}^\\gamma}^{4}\\right)} {\\left({{{\\Delta E}}^\\gamma} {{{\\Delta e}}_{{  1}}^\\gamma} {\\left(-8.4 \\, {{{\\Delta e}}_{{  1}}^\\gamma} - 8.4 \\, {{{\\Delta e}}_{{  2}}^\\gamma}\\right)} {{{\\Delta e}}_{{  2}}^\\gamma} - 4.2 \\, {{{\\Delta e}}_{{  1}}^\\gamma}^{2} {{{\\Delta e}}_{{  2}}^\\gamma}^{2} + {\\left({\\left(-17. \\, {{{\\Delta e}}_{{  2}}^\\gamma}^{2} - 4.2\\right)} {{{\\Delta e}}_{{  1}}^\\gamma}^{2} - 8.4 \\, {{{\\Delta e}}_{{  1}}^\\gamma} {{{\\Delta e}}_{{  2}}^\\gamma} - 4.2 \\, {{{\\Delta e}}_{{  2}}^\\gamma}^{2}\\right)} {{{\\Delta E}}^\\gamma}^{2}\\right)}}{{\\left({\\left({\\left({{{\\Delta e}}_{{  2}}^\\gamma}^{2} + 0.083\\right)} {{{\\Delta e}}_{{  1}}^\\gamma}^{3} + {\\left({{{\\Delta e}}_{{  2}}^\\gamma}^{3} + 0.17 \\, {{{\\Delta e}}_{{  2}}^\\gamma}\\right)} {{{\\Delta e}}_{{  1}}^\\gamma}^{2} + 0.17 \\, {{{\\Delta e}}_{{  1}}^\\gamma} {{{\\Delta e}}_{{  2}}^\\gamma}^{2} + 0.083 \\, {{{\\Delta e}}_{{  2}}^\\gamma}^{3}\\right)} {{{\\Delta E}}^\\gamma}^{5} + {{{\\Delta E}}^\\gamma} {{{\\Delta e}}_{{  1}}^\\gamma}^{2} {\\left(-0.10 \\, {{{\\Delta e}}_{{  1}}^\\gamma} - 0.10 \\, {{{\\Delta e}}_{{  2}}^\\gamma}\\right)} {{{\\Delta e}}_{{  2}}^\\gamma}^{2} - 0.042 \\, {{{\\Delta e}}_{{  1}}^\\gamma}^{3} {{{\\Delta e}}_{{  2}}^\\gamma}^{3} + {\\left({\\left(2 \\, {{{\\Delta e}}_{{  2}}^\\gamma}^{3} + 0.33 \\, {{{\\Delta e}}_{{  2}}^\\gamma}\\right)} {{{\\Delta e}}_{{  1}}^\\gamma}^{3} + {\\left(0.50 \\, {{{\\Delta e}}_{{  2}}^\\gamma}^{2} - 0.021\\right)} {{{\\Delta e}}_{{  1}}^\\gamma}^{2} + {\\left(0.33 \\, {{{\\Delta e}}_{{  2}}^\\gamma}^{3} - 0.042 \\, {{{\\Delta e}}_{{  2}}^\\gamma}\\right)} {{{\\Delta e}}_{{  1}}^\\gamma} - 0.021 \\, {{{\\Delta e}}_{{  2}}^\\gamma}^{2}\\right)} {{{\\Delta E}}^\\gamma}^{4} + {\\left({\\left(0.33 \\, {{{\\Delta e}}_{{  2}}^\\gamma}^{2} - 0.083\\right)} {{{\\Delta e}}_{{  1}}^\\gamma}^{2} - 0.21 \\, {{{\\Delta e}}_{{  1}}^\\gamma} {{{\\Delta e}}_{{  2}}^\\gamma} - 0.083 \\, {{{\\Delta e}}_{{  2}}^\\gamma}^{2}\\right)} {{{\\Delta E}}^\\gamma}^{2} {{{\\Delta e}}_{{  1}}^\\gamma} {{{\\Delta e}}_{{  2}}^\\gamma} + {\\left({\\left(0.50 \\, {{{\\Delta e}}_{{  2}}^\\gamma}^{2} - 0.021\\right)} {{{\\Delta e}}_{{  1}}^\\gamma}^{3} + {\\left(0.50 \\, {{{\\Delta e}}_{{  2}}^\\gamma}^{3} - 0.12 \\, {{{\\Delta e}}_{{  2}}^\\gamma}\\right)} {{{\\Delta e}}_{{  1}}^\\gamma}^{2} - 0.12 \\, {{{\\Delta e}}_{{  1}}^\\gamma} {{{\\Delta e}}_{{  2}}^\\gamma}^{2} - 0.021 \\, {{{\\Delta e}}_{{  2}}^\\gamma}^{3}\\right)} {{{\\Delta E}}^\\gamma}^{3}\\right)} {\\left({{{\\Delta E}}^\\gamma} {\\left({{{\\Delta e}}_{{  1}}^\\gamma} + 0.50 \\, {{{\\Delta e}}_{{  2}}^\\gamma}\\right)} {{{\\Delta e}}_{{  1}}^\\gamma} {{{\\Delta e}}_{{  2}}^\\gamma} + 0.25 \\, {{{\\Delta e}}_{{  1}}^\\gamma}^{2} {{{\\Delta e}}_{{  2}}^\\gamma}^{2} + {\\left({\\left({{{\\Delta e}}_{{  2}}^\\gamma}^{2} + 1\\right)} {{{\\Delta e}}_{{  1}}^\\gamma}^{2} + {{{\\Delta e}}_{{  1}}^\\gamma} {{{\\Delta e}}_{{  2}}^\\gamma} + 0.25 \\, {{{\\Delta e}}_{{  2}}^\\gamma}^{2}\\right)} {{{\\Delta E}}^\\gamma}^{2}\\right)} {{{\\Delta E}}^\\gamma}^{2}}</script></html>"
      ],
      "text/latex": [
       "$$\\newcommand{\\Bold}[1]{\\mathbf{#1}}\\frac{{\\left({\\left({\\left({{{\\Delta e}}_{{  2}}^\\gamma}^{4} + 1.2 \\, {{{\\Delta e}}_{{  2}}^\\gamma}^{2} + 0.25\\right)} {{{\\Delta e}}_{{  1}}^\\gamma}^{4} + {\\left({{{\\Delta e}}_{{  2}}^\\gamma}^{3} + 0.25 \\, {{{\\Delta e}}_{{  2}}^\\gamma}\\right)} {{{\\Delta e}}_{{  1}}^\\gamma}^{3} + 0.062 \\, {{{\\Delta e}}_{{  2}}^\\gamma}^{4} + {\\left(0.50 \\, {{{\\Delta e}}_{{  2}}^\\gamma}^{4} + 0.38 \\, {{{\\Delta e}}_{{  2}}^\\gamma}^{2} + 0.062\\right)} {{{\\Delta e}}_{{  1}}^\\gamma}^{2} + {\\left(0.25 \\, {{{\\Delta e}}_{{  2}}^\\gamma}^{3} + 0.062 \\, {{{\\Delta e}}_{{  2}}^\\gamma}\\right)} {{{\\Delta e}}_{{  1}}^\\gamma} + 0.016 \\, {{{\\Delta e}}_{{  2}}^\\gamma}^{2}\\right)} {{{\\Delta E}}^\\gamma}^{8} + {\\left({\\left(1.5 \\, {{{\\Delta e}}_{{  2}}^\\gamma}^{3} + 0.38 \\, {{{\\Delta e}}_{{  2}}^\\gamma}\\right)} {{{\\Delta e}}_{{  1}}^\\gamma}^{3} + 0.25 \\, {{{\\Delta e}}_{{  2}}^\\gamma}^{4} + {\\left({{{\\Delta e}}_{{  2}}^\\gamma}^{4} + 0.50 \\, {{{\\Delta e}}_{{  2}}^\\gamma}^{2} + 0.062\\right)} {{{\\Delta e}}_{{  1}}^\\gamma}^{2} + {\\left(0.62 \\, {{{\\Delta e}}_{{  2}}^\\gamma}^{3} + 0.16 \\, {{{\\Delta e}}_{{  2}}^\\gamma}\\right)} {{{\\Delta e}}_{{  1}}^\\gamma} + 0.062 \\, {{{\\Delta e}}_{{  2}}^\\gamma}^{2}\\right)} {{{\\Delta E}}^\\gamma}^{7} {{{\\Delta e}}_{{  1}}^\\gamma} + {{{\\Delta E}}^\\gamma} {{{\\Delta e}}_{{  1}}^\\gamma}^{3} {\\left(0.023 \\, {{{\\Delta e}}_{{  1}}^\\gamma} + 0.016 \\, {{{\\Delta e}}_{{  2}}^\\gamma}\\right)} {{{\\Delta e}}_{{  2}}^\\gamma}^{3} + 0.0039 \\, {{{\\Delta e}}_{{  1}}^\\gamma}^{4} {{{\\Delta e}}_{{  2}}^\\gamma}^{4} + {\\left({\\left({{{\\Delta e}}_{{  2}}^\\gamma}^{4} + 1.1 \\, {{{\\Delta e}}_{{  2}}^\\gamma}^{2} + 0.19\\right)} {{{\\Delta e}}_{{  1}}^\\gamma}^{4} + {\\left({{{\\Delta e}}_{{  2}}^\\gamma}^{3} + 0.19 \\, {{{\\Delta e}}_{{  2}}^\\gamma}\\right)} {{{\\Delta e}}_{{  1}}^\\gamma}^{3} + 0.031 \\, {{{\\Delta e}}_{{  2}}^\\gamma}^{4} + {\\left(0.62 \\, {{{\\Delta e}}_{{  2}}^\\gamma}^{4} + 0.25 \\, {{{\\Delta e}}_{{  2}}^\\gamma}^{2} + 0.047\\right)} {{{\\Delta e}}_{{  1}}^\\gamma}^{2} + {\\left(0.12 \\, {{{\\Delta e}}_{{  2}}^\\gamma}^{3} + 0.047 \\, {{{\\Delta e}}_{{  2}}^\\gamma}\\right)} {{{\\Delta e}}_{{  1}}^\\gamma} + 0.012 \\, {{{\\Delta e}}_{{  2}}^\\gamma}^{2}\\right)} {{{\\Delta E}}^\\gamma}^{6} + {\\left({\\left(0.062 \\, {{{\\Delta e}}_{{  2}}^\\gamma}^{2} + 0.059\\right)} {{{\\Delta e}}_{{  1}}^\\gamma}^{2} + 0.094 \\, {{{\\Delta e}}_{{  1}}^\\gamma} {{{\\Delta e}}_{{  2}}^\\gamma} + 0.023 \\, {{{\\Delta e}}_{{  2}}^\\gamma}^{2}\\right)} {{{\\Delta E}}^\\gamma}^{2} {{{\\Delta e}}_{{  1}}^\\gamma}^{2} {{{\\Delta e}}_{{  2}}^\\gamma}^{2} + {\\left({\\left(1.1 \\, {{{\\Delta e}}_{{  2}}^\\gamma}^{3} + 0.38 \\, {{{\\Delta e}}_{{  2}}^\\gamma}\\right)} {{{\\Delta e}}_{{  1}}^\\gamma}^{4} + {\\left(0.75 \\, {{{\\Delta e}}_{{  2}}^\\gamma}^{4} + 0.50 \\, {{{\\Delta e}}_{{  2}}^\\gamma}^{2} + 0.078\\right)} {{{\\Delta e}}_{{  1}}^\\gamma}^{3} + {\\left(0.44 \\, {{{\\Delta e}}_{{  2}}^\\gamma}^{3} + 0.20 \\, {{{\\Delta e}}_{{  2}}^\\gamma}\\right)} {{{\\Delta e}}_{{  1}}^\\gamma}^{2} + 0.016 \\, {{{\\Delta e}}_{{  2}}^\\gamma}^{3} + {\\left(0.12 \\, {{{\\Delta e}}_{{  2}}^\\gamma}^{4} + 0.11 \\, {{{\\Delta e}}_{{  2}}^\\gamma}^{2}\\right)} {{{\\Delta e}}_{{  1}}^\\gamma}\\right)} {{{\\Delta E}}^\\gamma}^{5} + {\\left({\\left(0.28 \\, {{{\\Delta e}}_{{  2}}^\\gamma}^{2} + 0.070\\right)} {{{\\Delta e}}_{{  1}}^\\gamma}^{3} + {\\left(0.19 \\, {{{\\Delta e}}_{{  2}}^\\gamma}^{3} + 0.22 \\, {{{\\Delta e}}_{{  2}}^\\gamma}\\right)} {{{\\Delta e}}_{{  1}}^\\gamma}^{2} + 0.13 \\, {{{\\Delta e}}_{{  1}}^\\gamma} {{{\\Delta e}}_{{  2}}^\\gamma}^{2} + 0.016 \\, {{{\\Delta e}}_{{  2}}^\\gamma}^{3}\\right)} {{{\\Delta E}}^\\gamma}^{3} {{{\\Delta e}}_{{  1}}^\\gamma} {{{\\Delta e}}_{{  2}}^\\gamma} + {\\left({\\left(0.38 \\, {{{\\Delta e}}_{{  2}}^\\gamma}^{4} + 0.42 \\, {{{\\Delta e}}_{{  2}}^\\gamma}^{2} + 0.031\\right)} {{{\\Delta e}}_{{  1}}^\\gamma}^{4} + {\\left(0.56 \\, {{{\\Delta e}}_{{  2}}^\\gamma}^{3} + 0.22 \\, {{{\\Delta e}}_{{  2}}^\\gamma}\\right)} {{{\\Delta e}}_{{  1}}^\\gamma}^{3} + 0.078 \\, {{{\\Delta e}}_{{  1}}^\\gamma} {{{\\Delta e}}_{{  2}}^\\gamma}^{3} + 0.0039 \\, {{{\\Delta e}}_{{  2}}^\\gamma}^{4} + {\\left(0.22 \\, {{{\\Delta e}}_{{  2}}^\\gamma}^{4} + 0.26 \\, {{{\\Delta e}}_{{  2}}^\\gamma}^{2}\\right)} {{{\\Delta e}}_{{  1}}^\\gamma}^{2}\\right)} {{{\\Delta E}}^\\gamma}^{4}\\right)} {\\left({{{\\Delta E}}^\\gamma} {{{\\Delta e}}_{{  1}}^\\gamma} {\\left(-8.4 \\, {{{\\Delta e}}_{{  1}}^\\gamma} - 8.4 \\, {{{\\Delta e}}_{{  2}}^\\gamma}\\right)} {{{\\Delta e}}_{{  2}}^\\gamma} - 4.2 \\, {{{\\Delta e}}_{{  1}}^\\gamma}^{2} {{{\\Delta e}}_{{  2}}^\\gamma}^{2} + {\\left({\\left(-17. \\, {{{\\Delta e}}_{{  2}}^\\gamma}^{2} - 4.2\\right)} {{{\\Delta e}}_{{  1}}^\\gamma}^{2} - 8.4 \\, {{{\\Delta e}}_{{  1}}^\\gamma} {{{\\Delta e}}_{{  2}}^\\gamma} - 4.2 \\, {{{\\Delta e}}_{{  2}}^\\gamma}^{2}\\right)} {{{\\Delta E}}^\\gamma}^{2}\\right)}}{{\\left({\\left({\\left({{{\\Delta e}}_{{  2}}^\\gamma}^{2} + 0.083\\right)} {{{\\Delta e}}_{{  1}}^\\gamma}^{3} + {\\left({{{\\Delta e}}_{{  2}}^\\gamma}^{3} + 0.17 \\, {{{\\Delta e}}_{{  2}}^\\gamma}\\right)} {{{\\Delta e}}_{{  1}}^\\gamma}^{2} + 0.17 \\, {{{\\Delta e}}_{{  1}}^\\gamma} {{{\\Delta e}}_{{  2}}^\\gamma}^{2} + 0.083 \\, {{{\\Delta e}}_{{  2}}^\\gamma}^{3}\\right)} {{{\\Delta E}}^\\gamma}^{5} + {{{\\Delta E}}^\\gamma} {{{\\Delta e}}_{{  1}}^\\gamma}^{2} {\\left(-0.10 \\, {{{\\Delta e}}_{{  1}}^\\gamma} - 0.10 \\, {{{\\Delta e}}_{{  2}}^\\gamma}\\right)} {{{\\Delta e}}_{{  2}}^\\gamma}^{2} - 0.042 \\, {{{\\Delta e}}_{{  1}}^\\gamma}^{3} {{{\\Delta e}}_{{  2}}^\\gamma}^{3} + {\\left({\\left(2 \\, {{{\\Delta e}}_{{  2}}^\\gamma}^{3} + 0.33 \\, {{{\\Delta e}}_{{  2}}^\\gamma}\\right)} {{{\\Delta e}}_{{  1}}^\\gamma}^{3} + {\\left(0.50 \\, {{{\\Delta e}}_{{  2}}^\\gamma}^{2} - 0.021\\right)} {{{\\Delta e}}_{{  1}}^\\gamma}^{2} + {\\left(0.33 \\, {{{\\Delta e}}_{{  2}}^\\gamma}^{3} - 0.042 \\, {{{\\Delta e}}_{{  2}}^\\gamma}\\right)} {{{\\Delta e}}_{{  1}}^\\gamma} - 0.021 \\, {{{\\Delta e}}_{{  2}}^\\gamma}^{2}\\right)} {{{\\Delta E}}^\\gamma}^{4} + {\\left({\\left(0.33 \\, {{{\\Delta e}}_{{  2}}^\\gamma}^{2} - 0.083\\right)} {{{\\Delta e}}_{{  1}}^\\gamma}^{2} - 0.21 \\, {{{\\Delta e}}_{{  1}}^\\gamma} {{{\\Delta e}}_{{  2}}^\\gamma} - 0.083 \\, {{{\\Delta e}}_{{  2}}^\\gamma}^{2}\\right)} {{{\\Delta E}}^\\gamma}^{2} {{{\\Delta e}}_{{  1}}^\\gamma} {{{\\Delta e}}_{{  2}}^\\gamma} + {\\left({\\left(0.50 \\, {{{\\Delta e}}_{{  2}}^\\gamma}^{2} - 0.021\\right)} {{{\\Delta e}}_{{  1}}^\\gamma}^{3} + {\\left(0.50 \\, {{{\\Delta e}}_{{  2}}^\\gamma}^{3} - 0.12 \\, {{{\\Delta e}}_{{  2}}^\\gamma}\\right)} {{{\\Delta e}}_{{  1}}^\\gamma}^{2} - 0.12 \\, {{{\\Delta e}}_{{  1}}^\\gamma} {{{\\Delta e}}_{{  2}}^\\gamma}^{2} - 0.021 \\, {{{\\Delta e}}_{{  2}}^\\gamma}^{3}\\right)} {{{\\Delta E}}^\\gamma}^{3}\\right)} {\\left({{{\\Delta E}}^\\gamma} {\\left({{{\\Delta e}}_{{  1}}^\\gamma} + 0.50 \\, {{{\\Delta e}}_{{  2}}^\\gamma}\\right)} {{{\\Delta e}}_{{  1}}^\\gamma} {{{\\Delta e}}_{{  2}}^\\gamma} + 0.25 \\, {{{\\Delta e}}_{{  1}}^\\gamma}^{2} {{{\\Delta e}}_{{  2}}^\\gamma}^{2} + {\\left({\\left({{{\\Delta e}}_{{  2}}^\\gamma}^{2} + 1\\right)} {{{\\Delta e}}_{{  1}}^\\gamma}^{2} + {{{\\Delta e}}_{{  1}}^\\gamma} {{{\\Delta e}}_{{  2}}^\\gamma} + 0.25 \\, {{{\\Delta e}}_{{  2}}^\\gamma}^{2}\\right)} {{{\\Delta E}}^\\gamma}^{2}\\right)} {{{\\Delta E}}^\\gamma}^{2}}$$"
      ],
      "text/plain": [
       "(((Deg2^4 + 1.2*Deg2^2 + 0.25)*Deg1^4 + (Deg2^3 + 0.25*Deg2)*Deg1^3 + 0.062*Deg2^4 + (0.50*Deg2^4 + 0.38*Deg2^2 + 0.062)*Deg1^2 + (0.25*Deg2^3 + 0.062*Deg2)*Deg1 + 0.016*Deg2^2)*DEg^8 + ((1.5*Deg2^3 + 0.38*Deg2)*Deg1^3 + 0.25*Deg2^4 + (Deg2^4 + 0.50*Deg2^2 + 0.062)*Deg1^2 + (0.62*Deg2^3 + 0.16*Deg2)*Deg1 + 0.062*Deg2^2)*DEg^7*Deg1 + DEg*Deg1^3*(0.023*Deg1 + 0.016*Deg2)*Deg2^3 + 0.0039*Deg1^4*Deg2^4 + ((Deg2^4 + 1.1*Deg2^2 + 0.19)*Deg1^4 + (Deg2^3 + 0.19*Deg2)*Deg1^3 + 0.031*Deg2^4 + (0.62*Deg2^4 + 0.25*Deg2^2 + 0.047)*Deg1^2 + (0.12*Deg2^3 + 0.047*Deg2)*Deg1 + 0.012*Deg2^2)*DEg^6 + ((0.062*Deg2^2 + 0.059)*Deg1^2 + 0.094*Deg1*Deg2 + 0.023*Deg2^2)*DEg^2*Deg1^2*Deg2^2 + ((1.1*Deg2^3 + 0.38*Deg2)*Deg1^4 + (0.75*Deg2^4 + 0.50*Deg2^2 + 0.078)*Deg1^3 + (0.44*Deg2^3 + 0.20*Deg2)*Deg1^2 + 0.016*Deg2^3 + (0.12*Deg2^4 + 0.11*Deg2^2)*Deg1)*DEg^5 + ((0.28*Deg2^2 + 0.070)*Deg1^3 + (0.19*Deg2^3 + 0.22*Deg2)*Deg1^2 + 0.13*Deg1*Deg2^2 + 0.016*Deg2^3)*DEg^3*Deg1*Deg2 + ((0.38*Deg2^4 + 0.42*Deg2^2 + 0.031)*Deg1^4 + (0.56*Deg2^3 + 0.22*Deg2)*Deg1^3 + 0.078*Deg1*Deg2^3 + 0.0039*Deg2^4 + (0.22*Deg2^4 + 0.26*Deg2^2)*Deg1^2)*DEg^4)*(DEg*Deg1*(-8.4*Deg1 - 8.4*Deg2)*Deg2 - 4.2*Deg1^2*Deg2^2 + ((-17.*Deg2^2 - 4.2)*Deg1^2 - 8.4*Deg1*Deg2 - 4.2*Deg2^2)*DEg^2)/((((Deg2^2 + 0.083)*Deg1^3 + (Deg2^3 + 0.17*Deg2)*Deg1^2 + 0.17*Deg1*Deg2^2 + 0.083*Deg2^3)*DEg^5 + DEg*Deg1^2*(-0.10*Deg1 - 0.10*Deg2)*Deg2^2 - 0.042*Deg1^3*Deg2^3 + ((2*Deg2^3 + 0.33*Deg2)*Deg1^3 + (0.50*Deg2^2 - 0.021)*Deg1^2 + (0.33*Deg2^3 - 0.042*Deg2)*Deg1 - 0.021*Deg2^2)*DEg^4 + ((0.33*Deg2^2 - 0.083)*Deg1^2 - 0.21*Deg1*Deg2 - 0.083*Deg2^2)*DEg^2*Deg1*Deg2 + ((0.50*Deg2^2 - 0.021)*Deg1^3 + (0.50*Deg2^3 - 0.12*Deg2)*Deg1^2 - 0.12*Deg1*Deg2^2 - 0.021*Deg2^3)*DEg^3)*(DEg*(Deg1 + 0.50*Deg2)*Deg1*Deg2 + 0.25*Deg1^2*Deg2^2 + ((Deg2^2 + 1)*Deg1^2 + Deg1*Deg2 + 0.25*Deg2^2)*DEg^2)*DEg^2)"
      ]
     },
     "metadata": {},
     "output_type": "display_data"
    }
   ],
   "source": [
    "show(symround(MMA_simplify(cond2,full=not True),show_del=False))"
   ]
  },
  {
   "cell_type": "code",
   "execution_count": 742,
   "id": "3fed6386",
   "metadata": {},
   "outputs": [
    {
     "data": {
      "text/html": [
       "<html><script type=\"math/tex; mode=display\">\\newcommand{\\Bold}[1]{\\mathbf{#1}}\\frac{{\\left({{{\\Delta E}}^\\gamma}^{3} {{{\\Delta e}}_{{  2}}^\\gamma} + {\\left({{{\\Delta e}}_{{  2}}^\\gamma}^{2} - 0.17\\right)} {{{\\Delta E}}^\\gamma}^{2} - 0.25 \\, {{{\\Delta E}}^\\gamma} {{{\\Delta e}}_{{  2}}^\\gamma} - 0.083 \\, {{{\\Delta e}}_{{  2}}^\\gamma}^{2}\\right)} {\\left({{{\\Delta E}}^\\gamma} {{{\\Delta e}}_{{  1}}^\\gamma} {\\left(0.50 \\, {{{\\Delta e}}_{{  1}}^\\gamma} + 0.50 \\, {{{\\Delta e}}_{{  2}}^\\gamma}\\right)} {{{\\Delta e}}_{{  2}}^\\gamma} + 0.25 \\, {{{\\Delta e}}_{{  1}}^\\gamma}^{2} {{{\\Delta e}}_{{  2}}^\\gamma}^{2} + {\\left({\\left({{{\\Delta e}}_{{  2}}^\\gamma}^{2} + 0.25\\right)} {{{\\Delta e}}_{{  1}}^\\gamma}^{2} + 0.50 \\, {{{\\Delta e}}_{{  1}}^\\gamma} {{{\\Delta e}}_{{  2}}^\\gamma} + 0.25 \\, {{{\\Delta e}}_{{  2}}^\\gamma}^{2}\\right)} {{{\\Delta E}}^\\gamma}^{2}\\right)} {\\left(6.3 \\, {\\left({{{\\Delta e}}_{{  1}}^\\gamma}^{2} + 0.25\\right)} {{{\\Delta E}}^\\gamma}^{2} + 3.2 \\, {{{\\Delta E}}^\\gamma} {{{\\Delta e}}_{{  1}}^\\gamma} + 1.6 \\, {{{\\Delta e}}_{{  1}}^\\gamma}^{2}\\right)}}{{\\left({\\left({\\left(0.083 \\, {{{\\Delta E}}^\\gamma} {{{\\Delta e}}_{{  1}}^\\gamma} - 0.021\\right)} {{{\\Delta E}}^\\gamma} - 0.021 \\, {{{\\Delta e}}_{{  1}}^\\gamma}\\right)} {{{\\Delta E}}^\\gamma}^{3} {{{\\Delta e}}_{{  1}}^\\gamma}^{2} + {\\left(0.17 \\, {{{\\Delta E}}^\\gamma}^{3} {{{\\Delta e}}_{{  1}}^\\gamma} + {\\left(0.33 \\, {{{\\Delta e}}_{{  1}}^\\gamma}^{2} - 0.042\\right)} {{{\\Delta E}}^\\gamma}^{2} - 0.12 \\, {{{\\Delta E}}^\\gamma} {{{\\Delta e}}_{{  1}}^\\gamma} - 0.083 \\, {{{\\Delta e}}_{{  1}}^\\gamma}^{2}\\right)} {{{\\Delta E}}^\\gamma}^{2} {{{\\Delta e}}_{{  1}}^\\gamma} {{{\\Delta e}}_{{  2}}^\\gamma} + {\\left({\\left({{{\\Delta e}}_{{  1}}^\\gamma}^{2} + 0.17\\right)} {{{\\Delta E}}^\\gamma}^{4} {{{\\Delta e}}_{{  1}}^\\gamma} + {\\left(0.50 \\, {{{\\Delta e}}_{{  1}}^\\gamma}^{2} - 0.021\\right)} {{{\\Delta E}}^\\gamma}^{3} + {\\left(0.50 \\, {{{\\Delta e}}_{{  1}}^\\gamma}^{2} - 0.12\\right)} {{{\\Delta E}}^\\gamma}^{2} {{{\\Delta e}}_{{  1}}^\\gamma} - 0.21 \\, {{{\\Delta E}}^\\gamma} {{{\\Delta e}}_{{  1}}^\\gamma}^{2} - 0.10 \\, {{{\\Delta e}}_{{  1}}^\\gamma}^{3}\\right)} {{{\\Delta E}}^\\gamma} {{{\\Delta e}}_{{  2}}^\\gamma}^{2} + {\\left({\\left({{{\\Delta e}}_{{  1}}^\\gamma}^{2} + 0.083\\right)} {{{\\Delta E}}^\\gamma}^{5} + {\\left(2 \\, {{{\\Delta e}}_{{  1}}^\\gamma}^{2} + 0.33\\right)} {{{\\Delta E}}^\\gamma}^{4} {{{\\Delta e}}_{{  1}}^\\gamma} + {\\left(0.50 \\, {{{\\Delta e}}_{{  1}}^\\gamma}^{2} - 0.021\\right)} {{{\\Delta E}}^\\gamma}^{3} + {\\left(0.33 \\, {{{\\Delta e}}_{{  1}}^\\gamma}^{2} - 0.083\\right)} {{{\\Delta E}}^\\gamma}^{2} {{{\\Delta e}}_{{  1}}^\\gamma} - 0.10 \\, {{{\\Delta E}}^\\gamma} {{{\\Delta e}}_{{  1}}^\\gamma}^{2} - 0.042 \\, {{{\\Delta e}}_{{  1}}^\\gamma}^{3}\\right)} {{{\\Delta e}}_{{  2}}^\\gamma}^{3}\\right)} {\\left({\\left({{{\\Delta e}}_{{  2}}^\\gamma}^{2} + 1\\right)} {{{\\Delta E}}^\\gamma}^{2} + {{{\\Delta E}}^\\gamma} {{{\\Delta e}}_{{  2}}^\\gamma} + 0.25 \\, {{{\\Delta e}}_{{  2}}^\\gamma}^{2}\\right)}}</script></html>"
      ],
      "text/latex": [
       "$$\\newcommand{\\Bold}[1]{\\mathbf{#1}}\\frac{{\\left({{{\\Delta E}}^\\gamma}^{3} {{{\\Delta e}}_{{  2}}^\\gamma} + {\\left({{{\\Delta e}}_{{  2}}^\\gamma}^{2} - 0.17\\right)} {{{\\Delta E}}^\\gamma}^{2} - 0.25 \\, {{{\\Delta E}}^\\gamma} {{{\\Delta e}}_{{  2}}^\\gamma} - 0.083 \\, {{{\\Delta e}}_{{  2}}^\\gamma}^{2}\\right)} {\\left({{{\\Delta E}}^\\gamma} {{{\\Delta e}}_{{  1}}^\\gamma} {\\left(0.50 \\, {{{\\Delta e}}_{{  1}}^\\gamma} + 0.50 \\, {{{\\Delta e}}_{{  2}}^\\gamma}\\right)} {{{\\Delta e}}_{{  2}}^\\gamma} + 0.25 \\, {{{\\Delta e}}_{{  1}}^\\gamma}^{2} {{{\\Delta e}}_{{  2}}^\\gamma}^{2} + {\\left({\\left({{{\\Delta e}}_{{  2}}^\\gamma}^{2} + 0.25\\right)} {{{\\Delta e}}_{{  1}}^\\gamma}^{2} + 0.50 \\, {{{\\Delta e}}_{{  1}}^\\gamma} {{{\\Delta e}}_{{  2}}^\\gamma} + 0.25 \\, {{{\\Delta e}}_{{  2}}^\\gamma}^{2}\\right)} {{{\\Delta E}}^\\gamma}^{2}\\right)} {\\left(6.3 \\, {\\left({{{\\Delta e}}_{{  1}}^\\gamma}^{2} + 0.25\\right)} {{{\\Delta E}}^\\gamma}^{2} + 3.2 \\, {{{\\Delta E}}^\\gamma} {{{\\Delta e}}_{{  1}}^\\gamma} + 1.6 \\, {{{\\Delta e}}_{{  1}}^\\gamma}^{2}\\right)}}{{\\left({\\left({\\left(0.083 \\, {{{\\Delta E}}^\\gamma} {{{\\Delta e}}_{{  1}}^\\gamma} - 0.021\\right)} {{{\\Delta E}}^\\gamma} - 0.021 \\, {{{\\Delta e}}_{{  1}}^\\gamma}\\right)} {{{\\Delta E}}^\\gamma}^{3} {{{\\Delta e}}_{{  1}}^\\gamma}^{2} + {\\left(0.17 \\, {{{\\Delta E}}^\\gamma}^{3} {{{\\Delta e}}_{{  1}}^\\gamma} + {\\left(0.33 \\, {{{\\Delta e}}_{{  1}}^\\gamma}^{2} - 0.042\\right)} {{{\\Delta E}}^\\gamma}^{2} - 0.12 \\, {{{\\Delta E}}^\\gamma} {{{\\Delta e}}_{{  1}}^\\gamma} - 0.083 \\, {{{\\Delta e}}_{{  1}}^\\gamma}^{2}\\right)} {{{\\Delta E}}^\\gamma}^{2} {{{\\Delta e}}_{{  1}}^\\gamma} {{{\\Delta e}}_{{  2}}^\\gamma} + {\\left({\\left({{{\\Delta e}}_{{  1}}^\\gamma}^{2} + 0.17\\right)} {{{\\Delta E}}^\\gamma}^{4} {{{\\Delta e}}_{{  1}}^\\gamma} + {\\left(0.50 \\, {{{\\Delta e}}_{{  1}}^\\gamma}^{2} - 0.021\\right)} {{{\\Delta E}}^\\gamma}^{3} + {\\left(0.50 \\, {{{\\Delta e}}_{{  1}}^\\gamma}^{2} - 0.12\\right)} {{{\\Delta E}}^\\gamma}^{2} {{{\\Delta e}}_{{  1}}^\\gamma} - 0.21 \\, {{{\\Delta E}}^\\gamma} {{{\\Delta e}}_{{  1}}^\\gamma}^{2} - 0.10 \\, {{{\\Delta e}}_{{  1}}^\\gamma}^{3}\\right)} {{{\\Delta E}}^\\gamma} {{{\\Delta e}}_{{  2}}^\\gamma}^{2} + {\\left({\\left({{{\\Delta e}}_{{  1}}^\\gamma}^{2} + 0.083\\right)} {{{\\Delta E}}^\\gamma}^{5} + {\\left(2 \\, {{{\\Delta e}}_{{  1}}^\\gamma}^{2} + 0.33\\right)} {{{\\Delta E}}^\\gamma}^{4} {{{\\Delta e}}_{{  1}}^\\gamma} + {\\left(0.50 \\, {{{\\Delta e}}_{{  1}}^\\gamma}^{2} - 0.021\\right)} {{{\\Delta E}}^\\gamma}^{3} + {\\left(0.33 \\, {{{\\Delta e}}_{{  1}}^\\gamma}^{2} - 0.083\\right)} {{{\\Delta E}}^\\gamma}^{2} {{{\\Delta e}}_{{  1}}^\\gamma} - 0.10 \\, {{{\\Delta E}}^\\gamma} {{{\\Delta e}}_{{  1}}^\\gamma}^{2} - 0.042 \\, {{{\\Delta e}}_{{  1}}^\\gamma}^{3}\\right)} {{{\\Delta e}}_{{  2}}^\\gamma}^{3}\\right)} {\\left({\\left({{{\\Delta e}}_{{  2}}^\\gamma}^{2} + 1\\right)} {{{\\Delta E}}^\\gamma}^{2} + {{{\\Delta E}}^\\gamma} {{{\\Delta e}}_{{  2}}^\\gamma} + 0.25 \\, {{{\\Delta e}}_{{  2}}^\\gamma}^{2}\\right)}}$$"
      ],
      "text/plain": [
       "(DEg^3*Deg2 + (Deg2^2 - 0.17)*DEg^2 - 0.25*DEg*Deg2 - 0.083*Deg2^2)*(DEg*Deg1*(0.50*Deg1 + 0.50*Deg2)*Deg2 + 0.25*Deg1^2*Deg2^2 + ((Deg2^2 + 0.25)*Deg1^2 + 0.50*Deg1*Deg2 + 0.25*Deg2^2)*DEg^2)*(6.3*(Deg1^2 + 0.25)*DEg^2 + 3.2*DEg*Deg1 + 1.6*Deg1^2)/((((0.083*DEg*Deg1 - 0.021)*DEg - 0.021*Deg1)*DEg^3*Deg1^2 + (0.17*DEg^3*Deg1 + (0.33*Deg1^2 - 0.042)*DEg^2 - 0.12*DEg*Deg1 - 0.083*Deg1^2)*DEg^2*Deg1*Deg2 + ((Deg1^2 + 0.17)*DEg^4*Deg1 + (0.50*Deg1^2 - 0.021)*DEg^3 + (0.50*Deg1^2 - 0.12)*DEg^2*Deg1 - 0.21*DEg*Deg1^2 - 0.10*Deg1^3)*DEg*Deg2^2 + ((Deg1^2 + 0.083)*DEg^5 + (2*Deg1^2 + 0.33)*DEg^4*Deg1 + (0.50*Deg1^2 - 0.021)*DEg^3 + (0.33*Deg1^2 - 0.083)*DEg^2*Deg1 - 0.10*DEg*Deg1^2 - 0.042*Deg1^3)*Deg2^3)*((Deg2^2 + 1)*DEg^2 + DEg*Deg2 + 0.25*Deg2^2))"
      ]
     },
     "metadata": {},
     "output_type": "display_data"
    },
    {
     "name": "stdout",
     "output_type": "stream",
     "text": [
      "\n",
      "\n",
      "\n",
      "\n"
     ]
    },
    {
     "data": {
      "text/html": [
       "<html><script type=\"math/tex; mode=display\">\\newcommand{\\Bold}[1]{\\mathbf{#1}}\\frac{{\\left(-17. \\, {\\left({\\left(0.25 \\, {{{\\Delta e}}_{{  1}}^\\gamma}^{2} + 0.062\\right)} {{{\\Delta E}}^\\gamma}^{4} + 0.062 \\, {{{\\Delta E}}^\\gamma}^{3} {{{\\Delta e}}_{{  1}}^\\gamma} + {\\left(0.19 \\, {{{\\Delta e}}_{{  1}}^\\gamma}^{2} + 0.047\\right)} {{{\\Delta E}}^\\gamma}^{2} + 0.078 \\, {{{\\Delta E}}^\\gamma} {{{\\Delta e}}_{{  1}}^\\gamma} + 0.031 \\, {{{\\Delta e}}_{{  1}}^\\gamma}^{2}\\right)} {{{\\Delta E}}^\\gamma}^{4} {{{\\Delta e}}_{{  1}}^\\gamma}^{2} - 17. \\, {\\left({\\left({{{\\Delta E}}^\\gamma}^{2} + 0.25\\right)}^{2} {{{\\Delta e}}_{{  1}}^\\gamma}^{4} + {\\left(0.50 \\, {{{\\Delta E}}^\\gamma}^{2} + 0.38\\right)} {{{\\Delta E}}^\\gamma}^{2} {{{\\Delta e}}_{{  1}}^\\gamma}^{2} + {\\left({{{\\Delta E}}^\\gamma}^{2} + 0.25\\right)} {{{\\Delta E}}^\\gamma} {{{\\Delta e}}_{{  1}}^\\gamma}^{3} + 0.062 \\, {{{\\Delta E}}^\\gamma}^{4} + 0.25 \\, {{{\\Delta E}}^\\gamma}^{3} {{{\\Delta e}}_{{  1}}^\\gamma}\\right)} {\\left({{{\\Delta E}}^\\gamma}^{2} + 0.25\\right)}^{2} {{{\\Delta e}}_{{  2}}^\\gamma}^{4} - 17. \\, {\\left({\\left(0.25 \\, {{{\\Delta e}}_{{  1}}^\\gamma}^{2} + 0.062\\right)} {{{\\Delta E}}^\\gamma}^{5} + {\\left(0.38 \\, {{{\\Delta e}}_{{  1}}^\\gamma}^{2} + 0.16\\right)} {{{\\Delta E}}^\\gamma}^{4} {{{\\Delta e}}_{{  1}}^\\gamma} + {\\left(0.19 \\, {{{\\Delta e}}_{{  1}}^\\gamma}^{2} + 0.047\\right)} {{{\\Delta E}}^\\gamma}^{3} + {\\left(0.38 \\, {{{\\Delta e}}_{{  1}}^\\gamma}^{2} + 0.20\\right)} {{{\\Delta E}}^\\gamma}^{2} {{{\\Delta e}}_{{  1}}^\\gamma} + 0.22 \\, {{{\\Delta E}}^\\gamma} {{{\\Delta e}}_{{  1}}^\\gamma}^{2} + 0.070 \\, {{{\\Delta e}}_{{  1}}^\\gamma}^{3}\\right)} {{{\\Delta E}}^\\gamma}^{3} {{{\\Delta e}}_{{  1}}^\\gamma} {{{\\Delta e}}_{{  2}}^\\gamma} - 17. \\, {\\left({\\left(1.2 \\, {{{\\Delta e}}_{{  1}}^\\gamma}^{4} + 0.38 \\, {{{\\Delta e}}_{{  1}}^\\gamma}^{2} + 0.016\\right)} {{{\\Delta E}}^\\gamma}^{6} + {\\left(0.50 \\, {{{\\Delta e}}_{{  1}}^\\gamma}^{2} + 0.062\\right)} {{{\\Delta E}}^\\gamma}^{5} {{{\\Delta e}}_{{  1}}^\\gamma} + {\\left(1.1 \\, {{{\\Delta e}}_{{  1}}^\\gamma}^{4} + 0.25 \\, {{{\\Delta e}}_{{  1}}^\\gamma}^{2} + 0.012\\right)} {{{\\Delta E}}^\\gamma}^{4} + {\\left(0.50 \\, {{{\\Delta e}}_{{  1}}^\\gamma}^{2} + 0.11\\right)} {{{\\Delta E}}^\\gamma}^{3} {{{\\Delta e}}_{{  1}}^\\gamma} + {\\left(0.42 \\, {{{\\Delta e}}_{{  1}}^\\gamma}^{2} + 0.26\\right)} {{{\\Delta E}}^\\gamma}^{2} {{{\\Delta e}}_{{  1}}^\\gamma}^{2} + 0.22 \\, {{{\\Delta E}}^\\gamma} {{{\\Delta e}}_{{  1}}^\\gamma}^{3} + 0.059 \\, {{{\\Delta e}}_{{  1}}^\\gamma}^{4}\\right)} {{{\\Delta E}}^\\gamma}^{2} {{{\\Delta e}}_{{  2}}^\\gamma}^{2} - 17. \\, {\\left({\\left({{{\\Delta e}}_{{  1}}^\\gamma}^{2} + 0.25\\right)} {{{\\Delta E}}^\\gamma}^{7} {{{\\Delta e}}_{{  1}}^\\gamma} + {\\left(1.5 \\, {{{\\Delta e}}_{{  1}}^\\gamma}^{2} + 0.62\\right)} {{{\\Delta E}}^\\gamma}^{6} {{{\\Delta e}}_{{  1}}^\\gamma}^{2} + {\\left({{{\\Delta e}}_{{  1}}^\\gamma}^{2} + 0.12\\right)} {{{\\Delta E}}^\\gamma}^{5} {{{\\Delta e}}_{{  1}}^\\gamma} + {\\left(1.1 \\, {{{\\Delta e}}_{{  1}}^\\gamma}^{4} + 0.44 \\, {{{\\Delta e}}_{{  1}}^\\gamma}^{2} + 0.016\\right)} {{{\\Delta E}}^\\gamma}^{4} + {\\left(0.56 \\, {{{\\Delta e}}_{{  1}}^\\gamma}^{2} + 0.078\\right)} {{{\\Delta E}}^\\gamma}^{3} {{{\\Delta e}}_{{  1}}^\\gamma} + {\\left(0.28 \\, {{{\\Delta e}}_{{  1}}^\\gamma}^{2} + 0.13\\right)} {{{\\Delta E}}^\\gamma}^{2} {{{\\Delta e}}_{{  1}}^\\gamma}^{2} + 0.094 \\, {{{\\Delta E}}^\\gamma} {{{\\Delta e}}_{{  1}}^\\gamma}^{3} + 0.023 \\, {{{\\Delta e}}_{{  1}}^\\gamma}^{4}\\right)} {{{\\Delta E}}^\\gamma} {{{\\Delta e}}_{{  2}}^\\gamma}^{3}\\right)} {\\left({{{\\Delta E}}^\\gamma} {{{\\Delta e}}_{{  1}}^\\gamma} {\\left(0.50 \\, {{{\\Delta e}}_{{  1}}^\\gamma} + 0.50 \\, {{{\\Delta e}}_{{  2}}^\\gamma}\\right)} {{{\\Delta e}}_{{  2}}^\\gamma} + 0.25 \\, {{{\\Delta e}}_{{  1}}^\\gamma}^{2} {{{\\Delta e}}_{{  2}}^\\gamma}^{2} + {\\left({\\left({{{\\Delta e}}_{{  2}}^\\gamma}^{2} + 0.25\\right)} {{{\\Delta e}}_{{  1}}^\\gamma}^{2} + 0.50 \\, {{{\\Delta e}}_{{  1}}^\\gamma} {{{\\Delta e}}_{{  2}}^\\gamma} + 0.25 \\, {{{\\Delta e}}_{{  2}}^\\gamma}^{2}\\right)} {{{\\Delta E}}^\\gamma}^{2}\\right)}}{{\\left({\\left({\\left(0.083 \\, {{{\\Delta E}}^\\gamma} {{{\\Delta e}}_{{  1}}^\\gamma} - 0.021\\right)} {{{\\Delta E}}^\\gamma} - 0.021 \\, {{{\\Delta e}}_{{  1}}^\\gamma}\\right)} {{{\\Delta E}}^\\gamma}^{3} {{{\\Delta e}}_{{  1}}^\\gamma}^{2} + {\\left(0.17 \\, {{{\\Delta E}}^\\gamma}^{3} {{{\\Delta e}}_{{  1}}^\\gamma} + {\\left(0.33 \\, {{{\\Delta e}}_{{  1}}^\\gamma}^{2} - 0.042\\right)} {{{\\Delta E}}^\\gamma}^{2} - 0.12 \\, {{{\\Delta E}}^\\gamma} {{{\\Delta e}}_{{  1}}^\\gamma} - 0.083 \\, {{{\\Delta e}}_{{  1}}^\\gamma}^{2}\\right)} {{{\\Delta E}}^\\gamma}^{2} {{{\\Delta e}}_{{  1}}^\\gamma} {{{\\Delta e}}_{{  2}}^\\gamma} + {\\left({\\left({{{\\Delta e}}_{{  1}}^\\gamma}^{2} + 0.17\\right)} {{{\\Delta E}}^\\gamma}^{4} {{{\\Delta e}}_{{  1}}^\\gamma} + {\\left(0.50 \\, {{{\\Delta e}}_{{  1}}^\\gamma}^{2} - 0.021\\right)} {{{\\Delta E}}^\\gamma}^{3} + {\\left(0.50 \\, {{{\\Delta e}}_{{  1}}^\\gamma}^{2} - 0.12\\right)} {{{\\Delta E}}^\\gamma}^{2} {{{\\Delta e}}_{{  1}}^\\gamma} - 0.21 \\, {{{\\Delta E}}^\\gamma} {{{\\Delta e}}_{{  1}}^\\gamma}^{2} - 0.10 \\, {{{\\Delta e}}_{{  1}}^\\gamma}^{3}\\right)} {{{\\Delta E}}^\\gamma} {{{\\Delta e}}_{{  2}}^\\gamma}^{2} + {\\left({\\left({{{\\Delta e}}_{{  1}}^\\gamma}^{2} + 0.083\\right)} {{{\\Delta E}}^\\gamma}^{5} + {\\left(2 \\, {{{\\Delta e}}_{{  1}}^\\gamma}^{2} + 0.33\\right)} {{{\\Delta E}}^\\gamma}^{4} {{{\\Delta e}}_{{  1}}^\\gamma} + {\\left(0.50 \\, {{{\\Delta e}}_{{  1}}^\\gamma}^{2} - 0.021\\right)} {{{\\Delta E}}^\\gamma}^{3} + {\\left(0.33 \\, {{{\\Delta e}}_{{  1}}^\\gamma}^{2} - 0.083\\right)} {{{\\Delta E}}^\\gamma}^{2} {{{\\Delta e}}_{{  1}}^\\gamma} - 0.10 \\, {{{\\Delta E}}^\\gamma} {{{\\Delta e}}_{{  1}}^\\gamma}^{2} - 0.042 \\, {{{\\Delta e}}_{{  1}}^\\gamma}^{3}\\right)} {{{\\Delta e}}_{{  2}}^\\gamma}^{3}\\right)} {\\left({{{\\Delta E}}^\\gamma}^{2} {{{\\Delta e}}_{{  1}}^\\gamma}^{2} + {\\left({{{\\Delta E}}^\\gamma} + {{{\\Delta e}}_{{  1}}^\\gamma}\\right)} {{{\\Delta E}}^\\gamma} {{{\\Delta e}}_{{  1}}^\\gamma} {{{\\Delta e}}_{{  2}}^\\gamma} + {\\left({\\left({{{\\Delta e}}_{{  1}}^\\gamma}^{2} + 0.25\\right)} {{{\\Delta E}}^\\gamma}^{2} + 0.50 \\, {{{\\Delta E}}^\\gamma} {{{\\Delta e}}_{{  1}}^\\gamma} + 0.25 \\, {{{\\Delta e}}_{{  1}}^\\gamma}^{2}\\right)} {{{\\Delta e}}_{{  2}}^\\gamma}^{2}\\right)} {{{\\Delta E}}^\\gamma}^{2}}</script></html>"
      ],
      "text/latex": [
       "$$\\newcommand{\\Bold}[1]{\\mathbf{#1}}\\frac{{\\left(-17. \\, {\\left({\\left(0.25 \\, {{{\\Delta e}}_{{  1}}^\\gamma}^{2} + 0.062\\right)} {{{\\Delta E}}^\\gamma}^{4} + 0.062 \\, {{{\\Delta E}}^\\gamma}^{3} {{{\\Delta e}}_{{  1}}^\\gamma} + {\\left(0.19 \\, {{{\\Delta e}}_{{  1}}^\\gamma}^{2} + 0.047\\right)} {{{\\Delta E}}^\\gamma}^{2} + 0.078 \\, {{{\\Delta E}}^\\gamma} {{{\\Delta e}}_{{  1}}^\\gamma} + 0.031 \\, {{{\\Delta e}}_{{  1}}^\\gamma}^{2}\\right)} {{{\\Delta E}}^\\gamma}^{4} {{{\\Delta e}}_{{  1}}^\\gamma}^{2} - 17. \\, {\\left({\\left({{{\\Delta E}}^\\gamma}^{2} + 0.25\\right)}^{2} {{{\\Delta e}}_{{  1}}^\\gamma}^{4} + {\\left(0.50 \\, {{{\\Delta E}}^\\gamma}^{2} + 0.38\\right)} {{{\\Delta E}}^\\gamma}^{2} {{{\\Delta e}}_{{  1}}^\\gamma}^{2} + {\\left({{{\\Delta E}}^\\gamma}^{2} + 0.25\\right)} {{{\\Delta E}}^\\gamma} {{{\\Delta e}}_{{  1}}^\\gamma}^{3} + 0.062 \\, {{{\\Delta E}}^\\gamma}^{4} + 0.25 \\, {{{\\Delta E}}^\\gamma}^{3} {{{\\Delta e}}_{{  1}}^\\gamma}\\right)} {\\left({{{\\Delta E}}^\\gamma}^{2} + 0.25\\right)}^{2} {{{\\Delta e}}_{{  2}}^\\gamma}^{4} - 17. \\, {\\left({\\left(0.25 \\, {{{\\Delta e}}_{{  1}}^\\gamma}^{2} + 0.062\\right)} {{{\\Delta E}}^\\gamma}^{5} + {\\left(0.38 \\, {{{\\Delta e}}_{{  1}}^\\gamma}^{2} + 0.16\\right)} {{{\\Delta E}}^\\gamma}^{4} {{{\\Delta e}}_{{  1}}^\\gamma} + {\\left(0.19 \\, {{{\\Delta e}}_{{  1}}^\\gamma}^{2} + 0.047\\right)} {{{\\Delta E}}^\\gamma}^{3} + {\\left(0.38 \\, {{{\\Delta e}}_{{  1}}^\\gamma}^{2} + 0.20\\right)} {{{\\Delta E}}^\\gamma}^{2} {{{\\Delta e}}_{{  1}}^\\gamma} + 0.22 \\, {{{\\Delta E}}^\\gamma} {{{\\Delta e}}_{{  1}}^\\gamma}^{2} + 0.070 \\, {{{\\Delta e}}_{{  1}}^\\gamma}^{3}\\right)} {{{\\Delta E}}^\\gamma}^{3} {{{\\Delta e}}_{{  1}}^\\gamma} {{{\\Delta e}}_{{  2}}^\\gamma} - 17. \\, {\\left({\\left(1.2 \\, {{{\\Delta e}}_{{  1}}^\\gamma}^{4} + 0.38 \\, {{{\\Delta e}}_{{  1}}^\\gamma}^{2} + 0.016\\right)} {{{\\Delta E}}^\\gamma}^{6} + {\\left(0.50 \\, {{{\\Delta e}}_{{  1}}^\\gamma}^{2} + 0.062\\right)} {{{\\Delta E}}^\\gamma}^{5} {{{\\Delta e}}_{{  1}}^\\gamma} + {\\left(1.1 \\, {{{\\Delta e}}_{{  1}}^\\gamma}^{4} + 0.25 \\, {{{\\Delta e}}_{{  1}}^\\gamma}^{2} + 0.012\\right)} {{{\\Delta E}}^\\gamma}^{4} + {\\left(0.50 \\, {{{\\Delta e}}_{{  1}}^\\gamma}^{2} + 0.11\\right)} {{{\\Delta E}}^\\gamma}^{3} {{{\\Delta e}}_{{  1}}^\\gamma} + {\\left(0.42 \\, {{{\\Delta e}}_{{  1}}^\\gamma}^{2} + 0.26\\right)} {{{\\Delta E}}^\\gamma}^{2} {{{\\Delta e}}_{{  1}}^\\gamma}^{2} + 0.22 \\, {{{\\Delta E}}^\\gamma} {{{\\Delta e}}_{{  1}}^\\gamma}^{3} + 0.059 \\, {{{\\Delta e}}_{{  1}}^\\gamma}^{4}\\right)} {{{\\Delta E}}^\\gamma}^{2} {{{\\Delta e}}_{{  2}}^\\gamma}^{2} - 17. \\, {\\left({\\left({{{\\Delta e}}_{{  1}}^\\gamma}^{2} + 0.25\\right)} {{{\\Delta E}}^\\gamma}^{7} {{{\\Delta e}}_{{  1}}^\\gamma} + {\\left(1.5 \\, {{{\\Delta e}}_{{  1}}^\\gamma}^{2} + 0.62\\right)} {{{\\Delta E}}^\\gamma}^{6} {{{\\Delta e}}_{{  1}}^\\gamma}^{2} + {\\left({{{\\Delta e}}_{{  1}}^\\gamma}^{2} + 0.12\\right)} {{{\\Delta E}}^\\gamma}^{5} {{{\\Delta e}}_{{  1}}^\\gamma} + {\\left(1.1 \\, {{{\\Delta e}}_{{  1}}^\\gamma}^{4} + 0.44 \\, {{{\\Delta e}}_{{  1}}^\\gamma}^{2} + 0.016\\right)} {{{\\Delta E}}^\\gamma}^{4} + {\\left(0.56 \\, {{{\\Delta e}}_{{  1}}^\\gamma}^{2} + 0.078\\right)} {{{\\Delta E}}^\\gamma}^{3} {{{\\Delta e}}_{{  1}}^\\gamma} + {\\left(0.28 \\, {{{\\Delta e}}_{{  1}}^\\gamma}^{2} + 0.13\\right)} {{{\\Delta E}}^\\gamma}^{2} {{{\\Delta e}}_{{  1}}^\\gamma}^{2} + 0.094 \\, {{{\\Delta E}}^\\gamma} {{{\\Delta e}}_{{  1}}^\\gamma}^{3} + 0.023 \\, {{{\\Delta e}}_{{  1}}^\\gamma}^{4}\\right)} {{{\\Delta E}}^\\gamma} {{{\\Delta e}}_{{  2}}^\\gamma}^{3}\\right)} {\\left({{{\\Delta E}}^\\gamma} {{{\\Delta e}}_{{  1}}^\\gamma} {\\left(0.50 \\, {{{\\Delta e}}_{{  1}}^\\gamma} + 0.50 \\, {{{\\Delta e}}_{{  2}}^\\gamma}\\right)} {{{\\Delta e}}_{{  2}}^\\gamma} + 0.25 \\, {{{\\Delta e}}_{{  1}}^\\gamma}^{2} {{{\\Delta e}}_{{  2}}^\\gamma}^{2} + {\\left({\\left({{{\\Delta e}}_{{  2}}^\\gamma}^{2} + 0.25\\right)} {{{\\Delta e}}_{{  1}}^\\gamma}^{2} + 0.50 \\, {{{\\Delta e}}_{{  1}}^\\gamma} {{{\\Delta e}}_{{  2}}^\\gamma} + 0.25 \\, {{{\\Delta e}}_{{  2}}^\\gamma}^{2}\\right)} {{{\\Delta E}}^\\gamma}^{2}\\right)}}{{\\left({\\left({\\left(0.083 \\, {{{\\Delta E}}^\\gamma} {{{\\Delta e}}_{{  1}}^\\gamma} - 0.021\\right)} {{{\\Delta E}}^\\gamma} - 0.021 \\, {{{\\Delta e}}_{{  1}}^\\gamma}\\right)} {{{\\Delta E}}^\\gamma}^{3} {{{\\Delta e}}_{{  1}}^\\gamma}^{2} + {\\left(0.17 \\, {{{\\Delta E}}^\\gamma}^{3} {{{\\Delta e}}_{{  1}}^\\gamma} + {\\left(0.33 \\, {{{\\Delta e}}_{{  1}}^\\gamma}^{2} - 0.042\\right)} {{{\\Delta E}}^\\gamma}^{2} - 0.12 \\, {{{\\Delta E}}^\\gamma} {{{\\Delta e}}_{{  1}}^\\gamma} - 0.083 \\, {{{\\Delta e}}_{{  1}}^\\gamma}^{2}\\right)} {{{\\Delta E}}^\\gamma}^{2} {{{\\Delta e}}_{{  1}}^\\gamma} {{{\\Delta e}}_{{  2}}^\\gamma} + {\\left({\\left({{{\\Delta e}}_{{  1}}^\\gamma}^{2} + 0.17\\right)} {{{\\Delta E}}^\\gamma}^{4} {{{\\Delta e}}_{{  1}}^\\gamma} + {\\left(0.50 \\, {{{\\Delta e}}_{{  1}}^\\gamma}^{2} - 0.021\\right)} {{{\\Delta E}}^\\gamma}^{3} + {\\left(0.50 \\, {{{\\Delta e}}_{{  1}}^\\gamma}^{2} - 0.12\\right)} {{{\\Delta E}}^\\gamma}^{2} {{{\\Delta e}}_{{  1}}^\\gamma} - 0.21 \\, {{{\\Delta E}}^\\gamma} {{{\\Delta e}}_{{  1}}^\\gamma}^{2} - 0.10 \\, {{{\\Delta e}}_{{  1}}^\\gamma}^{3}\\right)} {{{\\Delta E}}^\\gamma} {{{\\Delta e}}_{{  2}}^\\gamma}^{2} + {\\left({\\left({{{\\Delta e}}_{{  1}}^\\gamma}^{2} + 0.083\\right)} {{{\\Delta E}}^\\gamma}^{5} + {\\left(2 \\, {{{\\Delta e}}_{{  1}}^\\gamma}^{2} + 0.33\\right)} {{{\\Delta E}}^\\gamma}^{4} {{{\\Delta e}}_{{  1}}^\\gamma} + {\\left(0.50 \\, {{{\\Delta e}}_{{  1}}^\\gamma}^{2} - 0.021\\right)} {{{\\Delta E}}^\\gamma}^{3} + {\\left(0.33 \\, {{{\\Delta e}}_{{  1}}^\\gamma}^{2} - 0.083\\right)} {{{\\Delta E}}^\\gamma}^{2} {{{\\Delta e}}_{{  1}}^\\gamma} - 0.10 \\, {{{\\Delta E}}^\\gamma} {{{\\Delta e}}_{{  1}}^\\gamma}^{2} - 0.042 \\, {{{\\Delta e}}_{{  1}}^\\gamma}^{3}\\right)} {{{\\Delta e}}_{{  2}}^\\gamma}^{3}\\right)} {\\left({{{\\Delta E}}^\\gamma}^{2} {{{\\Delta e}}_{{  1}}^\\gamma}^{2} + {\\left({{{\\Delta E}}^\\gamma} + {{{\\Delta e}}_{{  1}}^\\gamma}\\right)} {{{\\Delta E}}^\\gamma} {{{\\Delta e}}_{{  1}}^\\gamma} {{{\\Delta e}}_{{  2}}^\\gamma} + {\\left({\\left({{{\\Delta e}}_{{  1}}^\\gamma}^{2} + 0.25\\right)} {{{\\Delta E}}^\\gamma}^{2} + 0.50 \\, {{{\\Delta E}}^\\gamma} {{{\\Delta e}}_{{  1}}^\\gamma} + 0.25 \\, {{{\\Delta e}}_{{  1}}^\\gamma}^{2}\\right)} {{{\\Delta e}}_{{  2}}^\\gamma}^{2}\\right)} {{{\\Delta E}}^\\gamma}^{2}}$$"
      ],
      "text/plain": [
       "(-17.*((0.25*Deg1^2 + 0.062)*DEg^4 + 0.062*DEg^3*Deg1 + (0.19*Deg1^2 + 0.047)*DEg^2 + 0.078*DEg*Deg1 + 0.031*Deg1^2)*DEg^4*Deg1^2 - 17.*((DEg^2 + 0.25)^2*Deg1^4 + (0.50*DEg^2 + 0.38)*DEg^2*Deg1^2 + (DEg^2 + 0.25)*DEg*Deg1^3 + 0.062*DEg^4 + 0.25*DEg^3*Deg1)*(DEg^2 + 0.25)^2*Deg2^4 - 17.*((0.25*Deg1^2 + 0.062)*DEg^5 + (0.38*Deg1^2 + 0.16)*DEg^4*Deg1 + (0.19*Deg1^2 + 0.047)*DEg^3 + (0.38*Deg1^2 + 0.20)*DEg^2*Deg1 + 0.22*DEg*Deg1^2 + 0.070*Deg1^3)*DEg^3*Deg1*Deg2 - 17.*((1.2*Deg1^4 + 0.38*Deg1^2 + 0.016)*DEg^6 + (0.50*Deg1^2 + 0.062)*DEg^5*Deg1 + (1.1*Deg1^4 + 0.25*Deg1^2 + 0.012)*DEg^4 + (0.50*Deg1^2 + 0.11)*DEg^3*Deg1 + (0.42*Deg1^2 + 0.26)*DEg^2*Deg1^2 + 0.22*DEg*Deg1^3 + 0.059*Deg1^4)*DEg^2*Deg2^2 - 17.*((Deg1^2 + 0.25)*DEg^7*Deg1 + (1.5*Deg1^2 + 0.62)*DEg^6*Deg1^2 + (Deg1^2 + 0.12)*DEg^5*Deg1 + (1.1*Deg1^4 + 0.44*Deg1^2 + 0.016)*DEg^4 + (0.56*Deg1^2 + 0.078)*DEg^3*Deg1 + (0.28*Deg1^2 + 0.13)*DEg^2*Deg1^2 + 0.094*DEg*Deg1^3 + 0.023*Deg1^4)*DEg*Deg2^3)*(DEg*Deg1*(0.50*Deg1 + 0.50*Deg2)*Deg2 + 0.25*Deg1^2*Deg2^2 + ((Deg2^2 + 0.25)*Deg1^2 + 0.50*Deg1*Deg2 + 0.25*Deg2^2)*DEg^2)/((((0.083*DEg*Deg1 - 0.021)*DEg - 0.021*Deg1)*DEg^3*Deg1^2 + (0.17*DEg^3*Deg1 + (0.33*Deg1^2 - 0.042)*DEg^2 - 0.12*DEg*Deg1 - 0.083*Deg1^2)*DEg^2*Deg1*Deg2 + ((Deg1^2 + 0.17)*DEg^4*Deg1 + (0.50*Deg1^2 - 0.021)*DEg^3 + (0.50*Deg1^2 - 0.12)*DEg^2*Deg1 - 0.21*DEg*Deg1^2 - 0.10*Deg1^3)*DEg*Deg2^2 + ((Deg1^2 + 0.083)*DEg^5 + (2*Deg1^2 + 0.33)*DEg^4*Deg1 + (0.50*Deg1^2 - 0.021)*DEg^3 + (0.33*Deg1^2 - 0.083)*DEg^2*Deg1 - 0.10*DEg*Deg1^2 - 0.042*Deg1^3)*Deg2^3)*(DEg^2*Deg1^2 + (DEg + Deg1)*DEg*Deg1*Deg2 + ((Deg1^2 + 0.25)*DEg^2 + 0.50*DEg*Deg1 + 0.25*Deg1^2)*Deg2^2)*DEg^2)"
      ]
     },
     "metadata": {},
     "output_type": "display_data"
    }
   ],
   "source": [
    "cond1 = MMA_simplify(cond1,full=True)\n",
    "show(symround(cond1))\n",
    "print('\\n\\n\\n')\n",
    "cond2 = MMA_simplify(cond2,full=True)\n",
    "show(symround(cond2))"
   ]
  },
  {
   "cell_type": "code",
   "execution_count": 743,
   "id": "bb77bc57",
   "metadata": {},
   "outputs": [],
   "source": [
    "var('D1', domain='positive',latex_name='D_1')\n",
    "var('D2', domain='positive',latex_name='D_2')\n",
    "cond1sub = cond1.subs(Deg1 = DEg *D1 , Deg2 = DEg *D2 )\n",
    "cond1sub = MMA_simplify(cond1sub,full=True)\n",
    "cond2sub = cond2.subs(Deg1 = DEg *D1 , Deg2 = DEg *D2 )\n",
    "cond2sub = MMA_simplify(cond2sub,full=True)"
   ]
  },
  {
   "cell_type": "code",
   "execution_count": 744,
   "id": "4bbd6b83",
   "metadata": {},
   "outputs": [
    {
     "data": {
      "text/html": [
       "<html><script type=\"math/tex; mode=display\">\\newcommand{\\Bold}[1]{\\mathbf{#1}}\\frac{{\\left({\\left({\\left({\\left({{{\\Delta E}}^\\gamma}^{2} + 0.25\\right)} {D_2} + 0.50\\right)} {D_2} + 0.25\\right)} {D_1}^{2} + {D_1} {D_2} {\\left(0.50 \\, {D_2} + 0.50\\right)} + 0.25 \\, {D_2}^{2}\\right)} {\\left({\\left({\\left({{{\\Delta E}}^\\gamma}^{2} + 0.25\\right)} {D_1} + 0.50\\right)} {D_1} + 0.25\\right)} {\\left(3.2 \\, {\\left({\\left({{{\\Delta E}}^\\gamma}^{2} - 0.083\\right)} {D_2} + {{{\\Delta E}}^\\gamma}^{2} - 0.25\\right)} {D_2} - 0.52\\right)}}{{\\left({\\left({\\left({\\left({D_2} + 0.50\\right)} {D_2} {{{\\Delta E}}^\\gamma}^{4} + {\\left({D_2} {\\left(0.17 \\, {D_2} + 0.25\\right)} + 0.17\\right)} {{{\\Delta E}}^\\gamma}^{2} + {D_2} {\\left(-0.021 \\, {D_2} - 0.052\\right)} - 0.042\\right)} {D_2} + 0.042 \\, {{{\\Delta E}}^\\gamma}^{2} - 0.010\\right)} {D_1}^{3} + {\\left({\\left({\\left({\\left(0.50 \\, {{{\\Delta E}}^\\gamma}^{4} + 0.25 \\, {{{\\Delta E}}^\\gamma}^{2} - 0.052\\right)} {D_2} + 0.25 \\, {{{\\Delta E}}^\\gamma}^{2} - 0.10\\right)} {D_2} + 0.083 \\, {{{\\Delta E}}^\\gamma}^{2} - 0.062\\right)} {D_2} - 0.010\\right)} {D_1}^{2} + {\\left({\\left({\\left(0.17 \\, {{{\\Delta E}}^\\gamma}^{2} - 0.042\\right)} {D_2} + 0.083 \\, {{{\\Delta E}}^\\gamma}^{2} - 0.062\\right)} {D_2} - 0.021\\right)} {D_1} {D_2} + {\\left({\\left(0.042 \\, {{{\\Delta E}}^\\gamma}^{2} - 0.010\\right)} {D_2} - 0.010\\right)} {D_2}^{2}\\right)} {\\left({\\left({{{\\Delta E}}^\\gamma}^{2} + 0.25\\right)} {D_2}^{2} + {D_2} + 1\\right)}}</script></html>"
      ],
      "text/latex": [
       "$$\\newcommand{\\Bold}[1]{\\mathbf{#1}}\\frac{{\\left({\\left({\\left({\\left({{{\\Delta E}}^\\gamma}^{2} + 0.25\\right)} {D_2} + 0.50\\right)} {D_2} + 0.25\\right)} {D_1}^{2} + {D_1} {D_2} {\\left(0.50 \\, {D_2} + 0.50\\right)} + 0.25 \\, {D_2}^{2}\\right)} {\\left({\\left({\\left({{{\\Delta E}}^\\gamma}^{2} + 0.25\\right)} {D_1} + 0.50\\right)} {D_1} + 0.25\\right)} {\\left(3.2 \\, {\\left({\\left({{{\\Delta E}}^\\gamma}^{2} - 0.083\\right)} {D_2} + {{{\\Delta E}}^\\gamma}^{2} - 0.25\\right)} {D_2} - 0.52\\right)}}{{\\left({\\left({\\left({\\left({D_2} + 0.50\\right)} {D_2} {{{\\Delta E}}^\\gamma}^{4} + {\\left({D_2} {\\left(0.17 \\, {D_2} + 0.25\\right)} + 0.17\\right)} {{{\\Delta E}}^\\gamma}^{2} + {D_2} {\\left(-0.021 \\, {D_2} - 0.052\\right)} - 0.042\\right)} {D_2} + 0.042 \\, {{{\\Delta E}}^\\gamma}^{2} - 0.010\\right)} {D_1}^{3} + {\\left({\\left({\\left({\\left(0.50 \\, {{{\\Delta E}}^\\gamma}^{4} + 0.25 \\, {{{\\Delta E}}^\\gamma}^{2} - 0.052\\right)} {D_2} + 0.25 \\, {{{\\Delta E}}^\\gamma}^{2} - 0.10\\right)} {D_2} + 0.083 \\, {{{\\Delta E}}^\\gamma}^{2} - 0.062\\right)} {D_2} - 0.010\\right)} {D_1}^{2} + {\\left({\\left({\\left(0.17 \\, {{{\\Delta E}}^\\gamma}^{2} - 0.042\\right)} {D_2} + 0.083 \\, {{{\\Delta E}}^\\gamma}^{2} - 0.062\\right)} {D_2} - 0.021\\right)} {D_1} {D_2} + {\\left({\\left(0.042 \\, {{{\\Delta E}}^\\gamma}^{2} - 0.010\\right)} {D_2} - 0.010\\right)} {D_2}^{2}\\right)} {\\left({\\left({{{\\Delta E}}^\\gamma}^{2} + 0.25\\right)} {D_2}^{2} + {D_2} + 1\\right)}}$$"
      ],
      "text/plain": [
       "((((DEg^2 + 0.25)*D2 + 0.50)*D2 + 0.25)*D1^2 + D1*D2*(0.50*D2 + 0.50) + 0.25*D2^2)*(((DEg^2 + 0.25)*D1 + 0.50)*D1 + 0.25)*(3.2*((DEg^2 - 0.083)*D2 + DEg^2 - 0.25)*D2 - 0.52)/(((((D2 + 0.50)*D2*DEg^4 + (D2*(0.17*D2 + 0.25) + 0.17)*DEg^2 + D2*(-0.021*D2 - 0.052) - 0.042)*D2 + 0.042*DEg^2 - 0.010)*D1^3 + ((((0.50*DEg^4 + 0.25*DEg^2 - 0.052)*D2 + 0.25*DEg^2 - 0.10)*D2 + 0.083*DEg^2 - 0.062)*D2 - 0.010)*D1^2 + (((0.17*DEg^2 - 0.042)*D2 + 0.083*DEg^2 - 0.062)*D2 - 0.021)*D1*D2 + ((0.042*DEg^2 - 0.010)*D2 - 0.010)*D2^2)*((DEg^2 + 0.25)*D2^2 + D2 + 1))"
      ]
     },
     "metadata": {},
     "output_type": "display_data"
    },
    {
     "data": {
      "text/html": [
       "<html><script type=\"math/tex; mode=display\">\\newcommand{\\Bold}[1]{\\mathbf{#1}}\\frac{{\\left({\\left(1.00000000000000 \\, {D_2}^{4} {{{\\Delta E}}^\\gamma}^{8} + {\\left({\\left(1.00000000000000 \\, {D_2} + 1.500000000000001\\right)} {D_2} + 1.25000000000000\\right)} {D_2}^{2} {{{\\Delta E}}^\\gamma}^{6} + {\\left({\\left({\\left({D_2} {\\left(0.3750000000000001 \\, {D_2} + 1.125000000000001\\right)} + 1.062500000000000\\right)} {D_2} + 0.3750000000000001\\right)} {D_2} + 0.2500000000000000\\right)} {{{\\Delta E}}^\\gamma}^{4} + {\\left({\\left({\\left({D_2} {\\left(0.0625000000000000 \\, {D_2} + 0.2812500000000002\\right)} + 0.421875000000000\\right)} {D_2} + 0.3750000000000001\\right)} {D_2} + 0.1874999999999999\\right)} {{{\\Delta E}}^\\gamma}^{2} + {\\left({\\left({D_2} {\\left(0.00390625000000000 \\, {D_2} + 0.02343750000000001\\right)} + 0.0585937500000000\\right)} {D_2} + 0.0703125000000000\\right)} {D_2} + 0.03124999999999999\\right)} {D_1}^{4} + {\\left({\\left(1.00000000000000 \\, {D_2} + 1.00000000000000\\right)} {D_2}^{3} {{{\\Delta E}}^\\gamma}^{6} + {\\left({\\left({D_2} {\\left(0.750000000000000 \\, {D_2} + 1.000000000000000\\right)} + 0.500000000000000\\right)} {D_2} + 0.250000000000000\\right)} {D_2} {{{\\Delta E}}^\\gamma}^{4} + {\\left({\\left({\\left({D_2} {\\left(0.1874999999999999 \\, {D_2} + 0.562500000000000\\right)} + 0.4999999999999996\\right)} {D_2} + 0.1874999999999998\\right)} {D_2} + 0.0624999999999999\\right)} {{{\\Delta E}}^\\gamma}^{2} + {\\left({\\left({D_2} {\\left(0.01562500000000000 \\, {D_2} + 0.0937500000000000\\right)} + 0.2187499999999999\\right)} {D_2} + 0.218750000000000\\right)} {D_2} + 0.0781250000000000\\right)} {D_1}^{3} + {\\left({\\left(0.500000000000000 \\, {D_2}^{3} {{{\\Delta E}}^\\gamma}^{6} + {\\left({D_2} {\\left(0.625000000000000 \\, {D_2} + 0.625000000000000\\right)} + 0.3749999999999997\\right)} {D_2} {{{\\Delta E}}^\\gamma}^{4} + {\\left({\\left({D_2} {\\left(0.2187499999999999 \\, {D_2} + 0.4375000000000002\\right)} + 0.2500000000000001\\right)} {D_2} + 0.1562500000000000\\right)} {{{\\Delta E}}^\\gamma}^{2} + {\\left({D_2} {\\left(0.0234375000000000 \\, {D_2} + 0.1328124999999999\\right)} + 0.257812500000000\\right)} {D_2} + 0.195312500000000\\right)} {D_2} + 0.0625000000000000 \\, {{{\\Delta E}}^\\gamma}^{2} + 0.0468750000000000\\right)} {D_1}^{2} + {\\left({\\left({D_2} {\\left(0.250000000000000 \\, {D_2} + 0.2500000000000000\\right)} {{{\\Delta E}}^\\gamma}^{4} + {\\left({D_2} {\\left(0.1250000000000001 \\, {D_2} + 0.1250000000000001\\right)} + 0.0625000000000000\\right)} {{{\\Delta E}}^\\gamma}^{2} + {D_2} {\\left(0.0156250000000000 \\, {D_2} + 0.0781250000000000\\right)} + 0.109375000000000\\right)} {D_2} + 0.0625000000000000 \\, {{{\\Delta E}}^\\gamma}^{2} + 0.04687500000000001\\right)} {D_1} {D_2} + {\\left({\\left(0.0625000000000001 \\, {\\left(1.00000000000000 \\, {{{\\Delta E}}^\\gamma}^{2} + 0.250000000000000\\right)}^{2} {D_2} + 0.01562500000000000\\right)} {D_2} + 0.01562500000000000 \\, {{{\\Delta E}}^\\gamma}^{2} + 0.0117187500000000\\right)} {D_2}^{2}\\right)} {\\left(-8.37758040957278 \\, {\\left({\\left({\\left(1.00000000000000 \\, {{{\\Delta E}}^\\gamma}^{2} + 0.250000000000000\\right)} {D_2} + 0.500000000000000\\right)} {D_2} + 0.250000000000000\\right)} {D_1}^{2} - 8.37758040957278 \\, {D_1} {D_2} {\\left(0.500000000000000 \\, {D_2} + 0.500000000000000\\right)} - 2.09439510239320 \\, {D_2}^{2}\\right)}}{{\\left({\\left({\\left({\\left(1.00000000000000 \\, {D_2} + 0.500000000000000\\right)} {D_2} {{{\\Delta E}}^\\gamma}^{4} + {\\left({D_2} {\\left(0.1666666666666667 \\, {D_2} + 0.250000000000000\\right)} + 0.1666666666666667\\right)} {{{\\Delta E}}^\\gamma}^{2} + {D_2} {\\left(-0.02083333333333333 \\, {D_2} - 0.0520833333333334\\right)} - 0.0416666666666667\\right)} {D_2} + 0.04166666666666666 \\, {{{\\Delta E}}^\\gamma}^{2} - 0.01041666666666667\\right)} {D_1}^{3} + {\\left({\\left({\\left({\\left(0.500000000000000 \\, {{{\\Delta E}}^\\gamma}^{4} + 0.2500000000000001 \\, {{{\\Delta E}}^\\gamma}^{2} - 0.0520833333333333\\right)} {D_2} + 0.250000000000000 \\, {{{\\Delta E}}^\\gamma}^{2} - 0.1041666666666667\\right)} {D_2} + 0.0833333333333333 \\, {{{\\Delta E}}^\\gamma}^{2} - 0.0625000000000000\\right)} {D_2} - 0.0104166666666667\\right)} {D_1}^{2} + {\\left({\\left({\\left(0.1666666666666667 \\, {{{\\Delta E}}^\\gamma}^{2} - 0.04166666666666666\\right)} {D_2} + 0.0833333333333333 \\, {{{\\Delta E}}^\\gamma}^{2} - 0.0625000000000000\\right)} {D_2} - 0.0208333333333333\\right)} {D_1} {D_2} + {\\left({\\left(0.0416666666666667 \\, {{{\\Delta E}}^\\gamma}^{2} - 0.01041666666666667\\right)} {D_2} - 0.01041666666666667\\right)} {D_2}^{2}\\right)} {\\left({\\left({\\left({\\left(1.00000000000000 \\, {{{\\Delta E}}^\\gamma}^{2} + 0.250000000000000\\right)} {D_2} + 1.00000000000000\\right)} {D_2} + 1.00000000000000\\right)} {D_1}^{2} + {D_1} {D_2} {\\left(0.500000000000000 \\, {D_2} + 1.00000000000000\\right)} + 0.250000000000000 \\, {D_2}^{2}\\right)}}</script></html>"
      ],
      "text/latex": [
       "$$\\newcommand{\\Bold}[1]{\\mathbf{#1}}\\frac{{\\left({\\left(1.00000000000000 \\, {D_2}^{4} {{{\\Delta E}}^\\gamma}^{8} + {\\left({\\left(1.00000000000000 \\, {D_2} + 1.500000000000001\\right)} {D_2} + 1.25000000000000\\right)} {D_2}^{2} {{{\\Delta E}}^\\gamma}^{6} + {\\left({\\left({\\left({D_2} {\\left(0.3750000000000001 \\, {D_2} + 1.125000000000001\\right)} + 1.062500000000000\\right)} {D_2} + 0.3750000000000001\\right)} {D_2} + 0.2500000000000000\\right)} {{{\\Delta E}}^\\gamma}^{4} + {\\left({\\left({\\left({D_2} {\\left(0.0625000000000000 \\, {D_2} + 0.2812500000000002\\right)} + 0.421875000000000\\right)} {D_2} + 0.3750000000000001\\right)} {D_2} + 0.1874999999999999\\right)} {{{\\Delta E}}^\\gamma}^{2} + {\\left({\\left({D_2} {\\left(0.00390625000000000 \\, {D_2} + 0.02343750000000001\\right)} + 0.0585937500000000\\right)} {D_2} + 0.0703125000000000\\right)} {D_2} + 0.03124999999999999\\right)} {D_1}^{4} + {\\left({\\left(1.00000000000000 \\, {D_2} + 1.00000000000000\\right)} {D_2}^{3} {{{\\Delta E}}^\\gamma}^{6} + {\\left({\\left({D_2} {\\left(0.750000000000000 \\, {D_2} + 1.000000000000000\\right)} + 0.500000000000000\\right)} {D_2} + 0.250000000000000\\right)} {D_2} {{{\\Delta E}}^\\gamma}^{4} + {\\left({\\left({\\left({D_2} {\\left(0.1874999999999999 \\, {D_2} + 0.562500000000000\\right)} + 0.4999999999999996\\right)} {D_2} + 0.1874999999999998\\right)} {D_2} + 0.0624999999999999\\right)} {{{\\Delta E}}^\\gamma}^{2} + {\\left({\\left({D_2} {\\left(0.01562500000000000 \\, {D_2} + 0.0937500000000000\\right)} + 0.2187499999999999\\right)} {D_2} + 0.218750000000000\\right)} {D_2} + 0.0781250000000000\\right)} {D_1}^{3} + {\\left({\\left(0.500000000000000 \\, {D_2}^{3} {{{\\Delta E}}^\\gamma}^{6} + {\\left({D_2} {\\left(0.625000000000000 \\, {D_2} + 0.625000000000000\\right)} + 0.3749999999999997\\right)} {D_2} {{{\\Delta E}}^\\gamma}^{4} + {\\left({\\left({D_2} {\\left(0.2187499999999999 \\, {D_2} + 0.4375000000000002\\right)} + 0.2500000000000001\\right)} {D_2} + 0.1562500000000000\\right)} {{{\\Delta E}}^\\gamma}^{2} + {\\left({D_2} {\\left(0.0234375000000000 \\, {D_2} + 0.1328124999999999\\right)} + 0.257812500000000\\right)} {D_2} + 0.195312500000000\\right)} {D_2} + 0.0625000000000000 \\, {{{\\Delta E}}^\\gamma}^{2} + 0.0468750000000000\\right)} {D_1}^{2} + {\\left({\\left({D_2} {\\left(0.250000000000000 \\, {D_2} + 0.2500000000000000\\right)} {{{\\Delta E}}^\\gamma}^{4} + {\\left({D_2} {\\left(0.1250000000000001 \\, {D_2} + 0.1250000000000001\\right)} + 0.0625000000000000\\right)} {{{\\Delta E}}^\\gamma}^{2} + {D_2} {\\left(0.0156250000000000 \\, {D_2} + 0.0781250000000000\\right)} + 0.109375000000000\\right)} {D_2} + 0.0625000000000000 \\, {{{\\Delta E}}^\\gamma}^{2} + 0.04687500000000001\\right)} {D_1} {D_2} + {\\left({\\left(0.0625000000000001 \\, {\\left(1.00000000000000 \\, {{{\\Delta E}}^\\gamma}^{2} + 0.250000000000000\\right)}^{2} {D_2} + 0.01562500000000000\\right)} {D_2} + 0.01562500000000000 \\, {{{\\Delta E}}^\\gamma}^{2} + 0.0117187500000000\\right)} {D_2}^{2}\\right)} {\\left(-8.37758040957278 \\, {\\left({\\left({\\left(1.00000000000000 \\, {{{\\Delta E}}^\\gamma}^{2} + 0.250000000000000\\right)} {D_2} + 0.500000000000000\\right)} {D_2} + 0.250000000000000\\right)} {D_1}^{2} - 8.37758040957278 \\, {D_1} {D_2} {\\left(0.500000000000000 \\, {D_2} + 0.500000000000000\\right)} - 2.09439510239320 \\, {D_2}^{2}\\right)}}{{\\left({\\left({\\left({\\left(1.00000000000000 \\, {D_2} + 0.500000000000000\\right)} {D_2} {{{\\Delta E}}^\\gamma}^{4} + {\\left({D_2} {\\left(0.1666666666666667 \\, {D_2} + 0.250000000000000\\right)} + 0.1666666666666667\\right)} {{{\\Delta E}}^\\gamma}^{2} + {D_2} {\\left(-0.02083333333333333 \\, {D_2} - 0.0520833333333334\\right)} - 0.0416666666666667\\right)} {D_2} + 0.04166666666666666 \\, {{{\\Delta E}}^\\gamma}^{2} - 0.01041666666666667\\right)} {D_1}^{3} + {\\left({\\left({\\left({\\left(0.500000000000000 \\, {{{\\Delta E}}^\\gamma}^{4} + 0.2500000000000001 \\, {{{\\Delta E}}^\\gamma}^{2} - 0.0520833333333333\\right)} {D_2} + 0.250000000000000 \\, {{{\\Delta E}}^\\gamma}^{2} - 0.1041666666666667\\right)} {D_2} + 0.0833333333333333 \\, {{{\\Delta E}}^\\gamma}^{2} - 0.0625000000000000\\right)} {D_2} - 0.0104166666666667\\right)} {D_1}^{2} + {\\left({\\left({\\left(0.1666666666666667 \\, {{{\\Delta E}}^\\gamma}^{2} - 0.04166666666666666\\right)} {D_2} + 0.0833333333333333 \\, {{{\\Delta E}}^\\gamma}^{2} - 0.0625000000000000\\right)} {D_2} - 0.0208333333333333\\right)} {D_1} {D_2} + {\\left({\\left(0.0416666666666667 \\, {{{\\Delta E}}^\\gamma}^{2} - 0.01041666666666667\\right)} {D_2} - 0.01041666666666667\\right)} {D_2}^{2}\\right)} {\\left({\\left({\\left({\\left(1.00000000000000 \\, {{{\\Delta E}}^\\gamma}^{2} + 0.250000000000000\\right)} {D_2} + 1.00000000000000\\right)} {D_2} + 1.00000000000000\\right)} {D_1}^{2} + {D_1} {D_2} {\\left(0.500000000000000 \\, {D_2} + 1.00000000000000\\right)} + 0.250000000000000 \\, {D_2}^{2}\\right)}}$$"
      ],
      "text/plain": [
       "((1.00000000000000*D2^4*DEg^8 + ((1.00000000000000*D2 + 1.500000000000001)*D2 + 1.25000000000000)*D2^2*DEg^6 + (((D2*(0.3750000000000001*D2 + 1.125000000000001) + 1.062500000000000)*D2 + 0.3750000000000001)*D2 + 0.2500000000000000)*DEg^4 + (((D2*(0.0625000000000000*D2 + 0.2812500000000002) + 0.421875000000000)*D2 + 0.3750000000000001)*D2 + 0.1874999999999999)*DEg^2 + ((D2*(0.00390625000000000*D2 + 0.02343750000000001) + 0.0585937500000000)*D2 + 0.0703125000000000)*D2 + 0.03124999999999999)*D1^4 + ((1.00000000000000*D2 + 1.00000000000000)*D2^3*DEg^6 + ((D2*(0.750000000000000*D2 + 1.000000000000000) + 0.500000000000000)*D2 + 0.250000000000000)*D2*DEg^4 + (((D2*(0.1874999999999999*D2 + 0.562500000000000) + 0.4999999999999996)*D2 + 0.1874999999999998)*D2 + 0.0624999999999999)*DEg^2 + ((D2*(0.01562500000000000*D2 + 0.0937500000000000) + 0.2187499999999999)*D2 + 0.218750000000000)*D2 + 0.0781250000000000)*D1^3 + ((0.500000000000000*D2^3*DEg^6 + (D2*(0.625000000000000*D2 + 0.625000000000000) + 0.3749999999999997)*D2*DEg^4 + ((D2*(0.2187499999999999*D2 + 0.4375000000000002) + 0.2500000000000001)*D2 + 0.1562500000000000)*DEg^2 + (D2*(0.0234375000000000*D2 + 0.1328124999999999) + 0.257812500000000)*D2 + 0.195312500000000)*D2 + 0.0625000000000000*DEg^2 + 0.0468750000000000)*D1^2 + ((D2*(0.250000000000000*D2 + 0.2500000000000000)*DEg^4 + (D2*(0.1250000000000001*D2 + 0.1250000000000001) + 0.0625000000000000)*DEg^2 + D2*(0.0156250000000000*D2 + 0.0781250000000000) + 0.109375000000000)*D2 + 0.0625000000000000*DEg^2 + 0.04687500000000001)*D1*D2 + ((0.0625000000000001*(1.00000000000000*DEg^2 + 0.250000000000000)^2*D2 + 0.01562500000000000)*D2 + 0.01562500000000000*DEg^2 + 0.0117187500000000)*D2^2)*(-8.37758040957278*(((1.00000000000000*DEg^2 + 0.250000000000000)*D2 + 0.500000000000000)*D2 + 0.250000000000000)*D1^2 - 8.37758040957278*D1*D2*(0.500000000000000*D2 + 0.500000000000000) - 2.09439510239320*D2^2)/(((((1.00000000000000*D2 + 0.500000000000000)*D2*DEg^4 + (D2*(0.1666666666666667*D2 + 0.250000000000000) + 0.1666666666666667)*DEg^2 + D2*(-0.02083333333333333*D2 - 0.0520833333333334) - 0.0416666666666667)*D2 + 0.04166666666666666*DEg^2 - 0.01041666666666667)*D1^3 + ((((0.500000000000000*DEg^4 + 0.2500000000000001*DEg^2 - 0.0520833333333333)*D2 + 0.250000000000000*DEg^2 - 0.1041666666666667)*D2 + 0.0833333333333333*DEg^2 - 0.0625000000000000)*D2 - 0.0104166666666667)*D1^2 + (((0.1666666666666667*DEg^2 - 0.04166666666666666)*D2 + 0.0833333333333333*DEg^2 - 0.0625000000000000)*D2 - 0.0208333333333333)*D1*D2 + ((0.0416666666666667*DEg^2 - 0.01041666666666667)*D2 - 0.01041666666666667)*D2^2)*((((1.00000000000000*DEg^2 + 0.250000000000000)*D2 + 1.00000000000000)*D2 + 1.00000000000000)*D1^2 + D1*D2*(0.500000000000000*D2 + 1.00000000000000) + 0.250000000000000*D2^2))"
      ]
     },
     "metadata": {},
     "output_type": "display_data"
    }
   ],
   "source": [
    "show(symround(cond1sub))\n",
    "show((cond2sub))"
   ]
  },
  {
   "cell_type": "code",
   "execution_count": 745,
   "id": "8cce85a8",
   "metadata": {},
   "outputs": [
    {
     "data": {
      "image/png": "[encoded data removed]",
      "text/plain": [
       "Graphics object consisting of 1 graphics primitive"
      ]
     },
     "execution_count": 745,
     "metadata": {},
     "output_type": "execute_result"
    }
   ],
   "source": [
    "DEgval = 1\n",
    "plot(cond1sub.subs(DEg=DEgval,D1=100)/(2*np.pi),(D2,0.001,5), gridlines=True)"
   ]
  },
  {
   "cell_type": "code",
   "execution_count": 746,
   "id": "9fad18ee",
   "metadata": {},
   "outputs": [
    {
     "data": {
      "image/png": "[encoded data removed]",
      "text/plain": [
       "Graphics object consisting of 1 graphics primitive"
      ]
     },
     "execution_count": 746,
     "metadata": {},
     "output_type": "execute_result"
    }
   ],
   "source": [
    "plot(cond2sub.subs(DEg=DEgval,D1=100)/(2*np.pi),(D2,0.05,5), gridlines=True)"
   ]
  },
  {
   "cell_type": "code",
   "execution_count": 750,
   "id": "0ad76bf7",
   "metadata": {},
   "outputs": [
    {
     "name": "stdout",
     "output_type": "stream",
     "text": [
      "99.9900000000000 0.3644643570027668\n",
      "99.9800000000000 0.3599350668897898\n",
      "99.9700000000000 0.3554056736030553\n",
      "99.9600000000000 0.3508761774384901\n",
      "99.9500000000000 0.34634657869174035\n",
      "99.9400000000000 0.3418168776581645\n",
      "99.9300000000000 0.33728707463284735\n",
      "99.9200000000000 0.3327571699106322\n",
      "99.9100000000000 0.3282271637861136\n",
      "99.9000000000000 0.3236970565535806\n",
      "99.8900000000000 0.31916684850704513\n",
      "99.8800000000000 0.3146365399403237\n",
      "99.8700000000000 0.31010613114690955\n",
      "99.8600000000000 0.3055756224200401\n",
      "99.8500000000000 0.30104501405267214\n",
      "99.8400000000000 0.29651430633757414\n",
      "99.8300000000000 0.29198349956714864\n",
      "99.8200000000000 0.2874525940336312\n",
      "99.8100000000000 0.2829215900289306\n",
      "99.8000000000000 0.27839048784473164\n",
      "99.7900000000000 0.273859287772396\n",
      "99.7800000000000 0.26932799010310404\n",
      "99.7700000000000 0.26479659512772713\n",
      "99.7600000000000 0.2602651031369092\n",
      "99.7500000000000 0.25573351442099934\n",
      "99.7400000000000 0.2512018292700837\n",
      "99.7300000000000 0.2466700479740318\n",
      "99.7200000000000 0.24213817082240752\n",
      "99.7100000000000 0.23760619810456163\n",
      "99.7000000000000 0.2330741301095216\n",
      "99.6900000000000 0.22854196712616215\n",
      "99.6800000000000 0.22400970944300624\n",
      "99.6700000000000 0.21947735734832818\n",
      "99.6600000000000 0.2149449111302033\n",
      "99.6500000000000 0.21041237107641564\n",
      "99.6400000000000 0.20587973747444366\n",
      "99.6300000000000 0.2013470106116202\n",
      "99.6200000000000 0.19681419077495832\n",
      "99.6100000000000 0.1922812782511798\n",
      "99.6000000000000 0.18774827332681454\n",
      "99.5900000000000 0.1832151762881331\n",
      "99.5800000000000 0.1786819874211112\n",
      "99.5700000000000 0.17414870701153262\n",
      "99.5600000000000 0.16961533534484374\n",
      "99.5500000000000 0.16508187270633812\n",
      "99.5400000000000 0.1605483193809789\n",
      "99.5300000000000 0.15601467565351612\n",
      "99.5200000000000 0.15148094180840488\n",
      "99.5100000000000 0.1469471181299582\n",
      "99.5000000000000 0.14241320490205212\n",
      "99.4900000000000 0.13787920240851648\n",
      "99.4800000000000 0.1333451109328081\n",
      "99.4700000000000 0.12881093075815286\n",
      "99.4600000000000 0.12427666216754574\n",
      "99.4500000000000 0.11974230544372233\n",
      "99.4400000000000 0.11520786086916956\n",
      "99.4300000000000 0.11067332872615054\n",
      "99.4200000000000 0.1061387092966406\n",
      "99.4100000000000 0.10160400286236992\n",
      "99.4000000000000 0.09706920970488042\n",
      "99.3900000000000 0.0925343301054049\n",
      "99.3800000000000 0.08799936434493105\n",
      "99.3700000000000 0.08346431270424759\n",
      "99.3600000000000 0.07892917546386613\n",
      "99.3500000000000 0.07439395290403539\n",
      "99.3400000000000 0.06985864530481933\n",
      "99.3300000000000 0.06532325294594798\n",
      "99.3200000000000 0.0607877761070057\n",
      "99.3100000000000 0.056252215067246425\n",
      "99.3000000000000 0.051716570105746484\n",
      "99.2900000000000 0.04718084150131574\n",
      "99.2800000000000 0.04264502953249405\n",
      "99.2700000000000 0.03810913447761877\n",
      "99.2600000000000 0.03357315661476079\n",
      "99.2500000000000 0.02903709622175299\n",
      "99.2400000000000 0.024500953576215068\n",
      "99.2300000000000 0.01996472895550383\n",
      "99.2200000000000 0.015428422636695416\n",
      "99.2100000000000 0.010892034896677671\n",
      "99.2000000000000 0.006355566012096858\n",
      "99.1900000000000 0.0018190162593434422\n",
      "94.7900000000000 0.0015058317810883182\n",
      "90.3800000000000 0.00047922802177069457\n",
      "Interrupting Mathematica...\n"
     ]
    },
    {
     "ename": "KeyboardInterrupt",
     "evalue": "Ctrl-c pressed while running Mathematica",
     "output_type": "error",
     "traceback": [
      "\u001b[0;31m---------------------------------------------------------------------------\u001b[0m",
      "\u001b[0;31mKeyboardInterrupt\u001b[0m                         Traceback (most recent call last)",
      "\u001b[0;32m/opt/SageMath/SageMath/local/lib/python3.9/site-packages/sage/interfaces/expect.py\u001b[0m in \u001b[0;36m_eval_line\u001b[0;34m(self, line, allow_use_file, wait_for_prompt, restart_if_needed)\u001b[0m\n\u001b[1;32m    982\u001b[0m                     \u001b[0;32melse\u001b[0m\u001b[0;34m:\u001b[0m\u001b[0;34m\u001b[0m\u001b[0;34m\u001b[0m\u001b[0m\n\u001b[0;32m--> 983\u001b[0;31m                         \u001b[0mE\u001b[0m\u001b[0;34m.\u001b[0m\u001b[0mexpect\u001b[0m\u001b[0;34m(\u001b[0m\u001b[0mself\u001b[0m\u001b[0;34m.\u001b[0m\u001b[0m_prompt\u001b[0m\u001b[0;34m)\u001b[0m\u001b[0;34m\u001b[0m\u001b[0;34m\u001b[0m\u001b[0m\n\u001b[0m\u001b[1;32m    984\u001b[0m                 \u001b[0;32mexcept\u001b[0m \u001b[0mpexpect\u001b[0m\u001b[0;34m.\u001b[0m\u001b[0mEOF\u001b[0m \u001b[0;32mas\u001b[0m \u001b[0mmsg\u001b[0m\u001b[0;34m:\u001b[0m\u001b[0;34m\u001b[0m\u001b[0;34m\u001b[0m\u001b[0m\n",
      "\u001b[0;32m/opt/SageMath/SageMath/local/lib/python3.9/site-packages/pexpect/spawnbase.py\u001b[0m in \u001b[0;36mexpect\u001b[0;34m(self, pattern, timeout, searchwindowsize, async_, **kw)\u001b[0m\n\u001b[1;32m    342\u001b[0m         \u001b[0mcompiled_pattern_list\u001b[0m \u001b[0;34m=\u001b[0m \u001b[0mself\u001b[0m\u001b[0;34m.\u001b[0m\u001b[0mcompile_pattern_list\u001b[0m\u001b[0;34m(\u001b[0m\u001b[0mpattern\u001b[0m\u001b[0;34m)\u001b[0m\u001b[0;34m\u001b[0m\u001b[0;34m\u001b[0m\u001b[0m\n\u001b[0;32m--> 343\u001b[0;31m         return self.expect_list(compiled_pattern_list,\n\u001b[0m\u001b[1;32m    344\u001b[0m                 timeout, searchwindowsize, async_)\n",
      "\u001b[0;32m/opt/SageMath/SageMath/local/lib/python3.9/site-packages/pexpect/spawnbase.py\u001b[0m in \u001b[0;36mexpect_list\u001b[0;34m(self, pattern_list, timeout, searchwindowsize, async_, **kw)\u001b[0m\n\u001b[1;32m    371\u001b[0m         \u001b[0;32melse\u001b[0m\u001b[0;34m:\u001b[0m\u001b[0;34m\u001b[0m\u001b[0;34m\u001b[0m\u001b[0m\n\u001b[0;32m--> 372\u001b[0;31m             \u001b[0;32mreturn\u001b[0m \u001b[0mexp\u001b[0m\u001b[0;34m.\u001b[0m\u001b[0mexpect_loop\u001b[0m\u001b[0;34m(\u001b[0m\u001b[0mtimeout\u001b[0m\u001b[0;34m)\u001b[0m\u001b[0;34m\u001b[0m\u001b[0;34m\u001b[0m\u001b[0m\n\u001b[0m\u001b[1;32m    373\u001b[0m \u001b[0;34m\u001b[0m\u001b[0m\n",
      "\u001b[0;32m/opt/SageMath/SageMath/local/lib/python3.9/site-packages/pexpect/expect.py\u001b[0m in \u001b[0;36mexpect_loop\u001b[0;34m(self, timeout)\u001b[0m\n\u001b[1;32m    168\u001b[0m                 \u001b[0;31m# Still have time left, so read more data\u001b[0m\u001b[0;34m\u001b[0m\u001b[0;34m\u001b[0m\u001b[0;34m\u001b[0m\u001b[0m\n\u001b[0;32m--> 169\u001b[0;31m                 \u001b[0mincoming\u001b[0m \u001b[0;34m=\u001b[0m \u001b[0mspawn\u001b[0m\u001b[0;34m.\u001b[0m\u001b[0mread_nonblocking\u001b[0m\u001b[0;34m(\u001b[0m\u001b[0mspawn\u001b[0m\u001b[0;34m.\u001b[0m\u001b[0mmaxread\u001b[0m\u001b[0;34m,\u001b[0m \u001b[0mtimeout\u001b[0m\u001b[0;34m)\u001b[0m\u001b[0;34m\u001b[0m\u001b[0;34m\u001b[0m\u001b[0m\n\u001b[0m\u001b[1;32m    170\u001b[0m                 \u001b[0;32mif\u001b[0m \u001b[0mself\u001b[0m\u001b[0;34m.\u001b[0m\u001b[0mspawn\u001b[0m\u001b[0;34m.\u001b[0m\u001b[0mdelayafterread\u001b[0m \u001b[0;32mis\u001b[0m \u001b[0;32mnot\u001b[0m \u001b[0;32mNone\u001b[0m\u001b[0;34m:\u001b[0m\u001b[0;34m\u001b[0m\u001b[0;34m\u001b[0m\u001b[0m\n",
      "\u001b[0;32m/opt/SageMath/SageMath/local/lib/python3.9/site-packages/pexpect/pty_spawn.py\u001b[0m in \u001b[0;36mread_nonblocking\u001b[0;34m(self, size, timeout)\u001b[0m\n\u001b[1;32m    499\u001b[0m         \u001b[0;31m# (possibly timeout=None), we call select() with a timeout.\u001b[0m\u001b[0;34m\u001b[0m\u001b[0;34m\u001b[0m\u001b[0;34m\u001b[0m\u001b[0m\n\u001b[0;32m--> 500\u001b[0;31m         \u001b[0;32mif\u001b[0m \u001b[0;34m(\u001b[0m\u001b[0mtimeout\u001b[0m \u001b[0;34m!=\u001b[0m \u001b[0;36m0\u001b[0m\u001b[0;34m)\u001b[0m \u001b[0;32mand\u001b[0m \u001b[0mselect\u001b[0m\u001b[0;34m(\u001b[0m\u001b[0mtimeout\u001b[0m\u001b[0;34m)\u001b[0m\u001b[0;34m:\u001b[0m\u001b[0;34m\u001b[0m\u001b[0;34m\u001b[0m\u001b[0m\n\u001b[0m\u001b[1;32m    501\u001b[0m             \u001b[0;32mreturn\u001b[0m \u001b[0msuper\u001b[0m\u001b[0;34m(\u001b[0m\u001b[0mspawn\u001b[0m\u001b[0;34m,\u001b[0m \u001b[0mself\u001b[0m\u001b[0;34m)\u001b[0m\u001b[0;34m.\u001b[0m\u001b[0mread_nonblocking\u001b[0m\u001b[0;34m(\u001b[0m\u001b[0msize\u001b[0m\u001b[0;34m)\u001b[0m\u001b[0;34m\u001b[0m\u001b[0;34m\u001b[0m\u001b[0m\n",
      "\u001b[0;32m/opt/SageMath/SageMath/local/lib/python3.9/site-packages/pexpect/pty_spawn.py\u001b[0m in \u001b[0;36mselect\u001b[0;34m(timeout)\u001b[0m\n\u001b[1;32m    449\u001b[0m             \u001b[0;32mdef\u001b[0m \u001b[0mselect\u001b[0m\u001b[0;34m(\u001b[0m\u001b[0mtimeout\u001b[0m\u001b[0;34m)\u001b[0m\u001b[0;34m:\u001b[0m\u001b[0;34m\u001b[0m\u001b[0;34m\u001b[0m\u001b[0m\n\u001b[0;32m--> 450\u001b[0;31m                 \u001b[0;32mreturn\u001b[0m \u001b[0mselect_ignore_interrupts\u001b[0m\u001b[0;34m(\u001b[0m\u001b[0;34m[\u001b[0m\u001b[0mself\u001b[0m\u001b[0;34m.\u001b[0m\u001b[0mchild_fd\u001b[0m\u001b[0;34m]\u001b[0m\u001b[0;34m,\u001b[0m \u001b[0;34m[\u001b[0m\u001b[0;34m]\u001b[0m\u001b[0;34m,\u001b[0m \u001b[0;34m[\u001b[0m\u001b[0;34m]\u001b[0m\u001b[0;34m,\u001b[0m \u001b[0mtimeout\u001b[0m\u001b[0;34m)\u001b[0m\u001b[0;34m[\u001b[0m\u001b[0;36m0\u001b[0m\u001b[0;34m]\u001b[0m\u001b[0;34m\u001b[0m\u001b[0;34m\u001b[0m\u001b[0m\n\u001b[0m\u001b[1;32m    451\u001b[0m \u001b[0;34m\u001b[0m\u001b[0m\n",
      "\u001b[0;32m/opt/SageMath/SageMath/local/lib/python3.9/site-packages/pexpect/utils.py\u001b[0m in \u001b[0;36mselect_ignore_interrupts\u001b[0;34m(iwtd, owtd, ewtd, timeout)\u001b[0m\n\u001b[1;32m    142\u001b[0m         \u001b[0;32mtry\u001b[0m\u001b[0;34m:\u001b[0m\u001b[0;34m\u001b[0m\u001b[0;34m\u001b[0m\u001b[0m\n\u001b[0;32m--> 143\u001b[0;31m             \u001b[0;32mreturn\u001b[0m \u001b[0mselect\u001b[0m\u001b[0;34m.\u001b[0m\u001b[0mselect\u001b[0m\u001b[0;34m(\u001b[0m\u001b[0miwtd\u001b[0m\u001b[0;34m,\u001b[0m \u001b[0mowtd\u001b[0m\u001b[0;34m,\u001b[0m \u001b[0mewtd\u001b[0m\u001b[0;34m,\u001b[0m \u001b[0mtimeout\u001b[0m\u001b[0;34m)\u001b[0m\u001b[0;34m\u001b[0m\u001b[0;34m\u001b[0m\u001b[0m\n\u001b[0m\u001b[1;32m    144\u001b[0m         \u001b[0;32mexcept\u001b[0m \u001b[0mInterruptedError\u001b[0m\u001b[0;34m:\u001b[0m\u001b[0;34m\u001b[0m\u001b[0;34m\u001b[0m\u001b[0m\n",
      "\u001b[0;32msrc/cysignals/signals.pyx\u001b[0m in \u001b[0;36mcysignals.signals.python_check_interrupt\u001b[0;34m()\u001b[0m\n",
      "\u001b[0;31mKeyboardInterrupt\u001b[0m: ",
      "\nDuring handling of the above exception, another exception occurred:\n",
      "\u001b[0;31mKeyboardInterrupt\u001b[0m                         Traceback (most recent call last)",
      "\u001b[0;32m<ipython-input-750-93f9ee173e25>\u001b[0m in \u001b[0;36m<module>\u001b[0;34m\u001b[0m\n\u001b[1;32m     10\u001b[0m     \u001b[0meq1s\u001b[0m \u001b[0;34m=\u001b[0m \u001b[0mcond2sub\u001b[0m\u001b[0;34m.\u001b[0m\u001b[0msubs\u001b[0m\u001b[0;34m(\u001b[0m\u001b[0mD1\u001b[0m\u001b[0;34m=\u001b[0m\u001b[0mD1val\u001b[0m \u001b[0;34m,\u001b[0m \u001b[0mDEg\u001b[0m\u001b[0;34m=\u001b[0m\u001b[0mDEgval\u001b[0m\u001b[0;34m)\u001b[0m \u001b[0;34m==\u001b[0m \u001b[0;34m-\u001b[0m \u001b[0mInteger\u001b[0m\u001b[0;34m(\u001b[0m\u001b[0;36m380\u001b[0m\u001b[0;34m)\u001b[0m \u001b[0;34m*\u001b[0m\u001b[0mInteger\u001b[0m\u001b[0;34m(\u001b[0m\u001b[0;36m2\u001b[0m\u001b[0;34m)\u001b[0m\u001b[0;34m*\u001b[0m\u001b[0mnp\u001b[0m\u001b[0;34m.\u001b[0m\u001b[0mpi\u001b[0m\u001b[0;34m\u001b[0m\u001b[0;34m\u001b[0m\u001b[0m\n\u001b[1;32m     11\u001b[0m     \u001b[0;31m#eq1s = MMA_simplify(eq1s)\u001b[0m\u001b[0;34m\u001b[0m\u001b[0;34m\u001b[0m\u001b[0;34m\u001b[0m\u001b[0m\n\u001b[0;32m---> 12\u001b[0;31m     \u001b[0msol\u001b[0m \u001b[0;34m=\u001b[0m \u001b[0meq1s\u001b[0m\u001b[0;34m.\u001b[0m\u001b[0m_mathematica_\u001b[0m\u001b[0;34m(\u001b[0m\u001b[0;34m)\u001b[0m\u001b[0;34m.\u001b[0m\u001b[0mNSolve\u001b[0m\u001b[0;34m(\u001b[0m\u001b[0;34m\"PositiveReals\"\u001b[0m\u001b[0;34m)\u001b[0m\u001b[0;34m[\u001b[0m\u001b[0mInteger\u001b[0m\u001b[0;34m(\u001b[0m\u001b[0;36m2\u001b[0m\u001b[0;34m)\u001b[0m\u001b[0;34m]\u001b[0m\u001b[0;34m[\u001b[0m\u001b[0mInteger\u001b[0m\u001b[0;34m(\u001b[0m\u001b[0;36m1\u001b[0m\u001b[0;34m)\u001b[0m\u001b[0;34m]\u001b[0m\u001b[0;34m[\u001b[0m\u001b[0mInteger\u001b[0m\u001b[0;34m(\u001b[0m\u001b[0;36m2\u001b[0m\u001b[0;34m)\u001b[0m\u001b[0;34m]\u001b[0m\u001b[0;34m.\u001b[0m\u001b[0m_sage_\u001b[0m\u001b[0;34m(\u001b[0m\u001b[0;34m)\u001b[0m\u001b[0;34m\u001b[0m\u001b[0;34m\u001b[0m\u001b[0m\n\u001b[0m\u001b[1;32m     13\u001b[0m     \u001b[0;31m#eq1s = eq1s.numerator()/eq1s.denominator()\u001b[0m\u001b[0;34m\u001b[0m\u001b[0;34m\u001b[0m\u001b[0;34m\u001b[0m\u001b[0m\n\u001b[1;32m     14\u001b[0m     \u001b[0;31m#eq = eq1s+2*np.pi == 0 #2*pi ??\u001b[0m\u001b[0;34m\u001b[0m\u001b[0;34m\u001b[0m\u001b[0;34m\u001b[0m\u001b[0m\n",
      "\u001b[0;32m/opt/SageMath/SageMath/local/lib/python3.9/site-packages/sage/interfaces/interface.py\u001b[0m in \u001b[0;36m__call__\u001b[0;34m(self, *args, **kwds)\u001b[0m\n\u001b[1;32m    677\u001b[0m \u001b[0;34m\u001b[0m\u001b[0m\n\u001b[1;32m    678\u001b[0m     \u001b[0;32mdef\u001b[0m \u001b[0m__call__\u001b[0m\u001b[0;34m(\u001b[0m\u001b[0mself\u001b[0m\u001b[0;34m,\u001b[0m \u001b[0;34m*\u001b[0m\u001b[0margs\u001b[0m\u001b[0;34m,\u001b[0m \u001b[0;34m**\u001b[0m\u001b[0mkwds\u001b[0m\u001b[0;34m)\u001b[0m\u001b[0;34m:\u001b[0m\u001b[0;34m\u001b[0m\u001b[0;34m\u001b[0m\u001b[0m\n\u001b[0;32m--> 679\u001b[0;31m         \u001b[0;32mreturn\u001b[0m \u001b[0mself\u001b[0m\u001b[0;34m.\u001b[0m\u001b[0m_obj\u001b[0m\u001b[0;34m.\u001b[0m\u001b[0mparent\u001b[0m\u001b[0;34m(\u001b[0m\u001b[0;34m)\u001b[0m\u001b[0;34m.\u001b[0m\u001b[0mfunction_call\u001b[0m\u001b[0;34m(\u001b[0m\u001b[0mself\u001b[0m\u001b[0;34m.\u001b[0m\u001b[0m_name\u001b[0m\u001b[0;34m,\u001b[0m \u001b[0;34m[\u001b[0m\u001b[0mself\u001b[0m\u001b[0;34m.\u001b[0m\u001b[0m_obj\u001b[0m\u001b[0;34m]\u001b[0m \u001b[0;34m+\u001b[0m \u001b[0mlist\u001b[0m\u001b[0;34m(\u001b[0m\u001b[0margs\u001b[0m\u001b[0;34m)\u001b[0m\u001b[0;34m,\u001b[0m \u001b[0mkwds\u001b[0m\u001b[0;34m)\u001b[0m\u001b[0;34m\u001b[0m\u001b[0;34m\u001b[0m\u001b[0m\n\u001b[0m\u001b[1;32m    680\u001b[0m \u001b[0;34m\u001b[0m\u001b[0m\n\u001b[1;32m    681\u001b[0m     \u001b[0;32mdef\u001b[0m \u001b[0mhelp\u001b[0m\u001b[0;34m(\u001b[0m\u001b[0mself\u001b[0m\u001b[0;34m)\u001b[0m\u001b[0;34m:\u001b[0m\u001b[0;34m\u001b[0m\u001b[0;34m\u001b[0m\u001b[0m\n",
      "\u001b[0;32m/opt/SageMath/SageMath/local/lib/python3.9/site-packages/sage/interfaces/interface.py\u001b[0m in \u001b[0;36mfunction_call\u001b[0;34m(self, function, args, kwds)\u001b[0m\n\u001b[1;32m    598\u001b[0m                                        \u001b[0;34m[\u001b[0m\u001b[0ms\u001b[0m\u001b[0;34m.\u001b[0m\u001b[0mname\u001b[0m\u001b[0;34m(\u001b[0m\u001b[0;34m)\u001b[0m \u001b[0;32mfor\u001b[0m \u001b[0ms\u001b[0m \u001b[0;32min\u001b[0m \u001b[0margs\u001b[0m\u001b[0;34m]\u001b[0m\u001b[0;34m,\u001b[0m\u001b[0;34m\u001b[0m\u001b[0;34m\u001b[0m\u001b[0m\n\u001b[1;32m    599\u001b[0m                                        ['%s=%s'%(key,value.name()) for key, value in kwds.items()])\n\u001b[0;32m--> 600\u001b[0;31m         \u001b[0;32mreturn\u001b[0m \u001b[0mself\u001b[0m\u001b[0;34m.\u001b[0m\u001b[0mnew\u001b[0m\u001b[0;34m(\u001b[0m\u001b[0ms\u001b[0m\u001b[0;34m)\u001b[0m\u001b[0;34m\u001b[0m\u001b[0;34m\u001b[0m\u001b[0m\n\u001b[0m\u001b[1;32m    601\u001b[0m \u001b[0;34m\u001b[0m\u001b[0m\n\u001b[1;32m    602\u001b[0m     \u001b[0;32mdef\u001b[0m \u001b[0m_function_call_string\u001b[0m\u001b[0;34m(\u001b[0m\u001b[0mself\u001b[0m\u001b[0;34m,\u001b[0m \u001b[0mfunction\u001b[0m\u001b[0;34m,\u001b[0m \u001b[0margs\u001b[0m\u001b[0;34m,\u001b[0m \u001b[0mkwds\u001b[0m\u001b[0;34m)\u001b[0m\u001b[0;34m:\u001b[0m\u001b[0;34m\u001b[0m\u001b[0;34m\u001b[0m\u001b[0m\n",
      "\u001b[0;32m/opt/SageMath/SageMath/local/lib/python3.9/site-packages/sage/interfaces/interface.py\u001b[0m in \u001b[0;36mnew\u001b[0;34m(self, code)\u001b[0m\n\u001b[1;32m    367\u001b[0m \u001b[0;34m\u001b[0m\u001b[0m\n\u001b[1;32m    368\u001b[0m     \u001b[0;32mdef\u001b[0m \u001b[0mnew\u001b[0m\u001b[0;34m(\u001b[0m\u001b[0mself\u001b[0m\u001b[0;34m,\u001b[0m \u001b[0mcode\u001b[0m\u001b[0;34m)\u001b[0m\u001b[0;34m:\u001b[0m\u001b[0;34m\u001b[0m\u001b[0;34m\u001b[0m\u001b[0m\n\u001b[0;32m--> 369\u001b[0;31m         \u001b[0;32mreturn\u001b[0m \u001b[0mself\u001b[0m\u001b[0;34m(\u001b[0m\u001b[0mcode\u001b[0m\u001b[0;34m)\u001b[0m\u001b[0;34m\u001b[0m\u001b[0;34m\u001b[0m\u001b[0m\n\u001b[0m\u001b[1;32m    370\u001b[0m \u001b[0;34m\u001b[0m\u001b[0m\n\u001b[1;32m    371\u001b[0m     \u001b[0;31m###################################################################\u001b[0m\u001b[0;34m\u001b[0m\u001b[0;34m\u001b[0m\u001b[0;34m\u001b[0m\u001b[0m\n",
      "\u001b[0;32m/opt/SageMath/SageMath/local/lib/python3.9/site-packages/sage/interfaces/interface.py\u001b[0m in \u001b[0;36m__call__\u001b[0;34m(self, x, name)\u001b[0m\n\u001b[1;32m    293\u001b[0m \u001b[0;34m\u001b[0m\u001b[0m\n\u001b[1;32m    294\u001b[0m         \u001b[0;32mif\u001b[0m \u001b[0misinstance\u001b[0m\u001b[0;34m(\u001b[0m\u001b[0mx\u001b[0m\u001b[0;34m,\u001b[0m \u001b[0mstr\u001b[0m\u001b[0;34m)\u001b[0m\u001b[0;34m:\u001b[0m\u001b[0;34m\u001b[0m\u001b[0;34m\u001b[0m\u001b[0m\n\u001b[0;32m--> 295\u001b[0;31m             \u001b[0;32mreturn\u001b[0m \u001b[0mcls\u001b[0m\u001b[0;34m(\u001b[0m\u001b[0mself\u001b[0m\u001b[0;34m,\u001b[0m \u001b[0mx\u001b[0m\u001b[0;34m,\u001b[0m \u001b[0mname\u001b[0m\u001b[0;34m=\u001b[0m\u001b[0mname\u001b[0m\u001b[0;34m)\u001b[0m\u001b[0;34m\u001b[0m\u001b[0;34m\u001b[0m\u001b[0m\n\u001b[0m\u001b[1;32m    296\u001b[0m         \u001b[0;32mtry\u001b[0m\u001b[0;34m:\u001b[0m\u001b[0;34m\u001b[0m\u001b[0;34m\u001b[0m\u001b[0m\n\u001b[1;32m    297\u001b[0m             \u001b[0;31m# Special methods do not and should not have an option to\u001b[0m\u001b[0;34m\u001b[0m\u001b[0;34m\u001b[0m\u001b[0;34m\u001b[0m\u001b[0m\n",
      "\u001b[0;32m/opt/SageMath/SageMath/local/lib/python3.9/site-packages/sage/interfaces/expect.py\u001b[0m in \u001b[0;36m__init__\u001b[0;34m(self, parent, value, is_name, name)\u001b[0m\n\u001b[1;32m   1466\u001b[0m         \u001b[0;32melse\u001b[0m\u001b[0;34m:\u001b[0m\u001b[0;34m\u001b[0m\u001b[0;34m\u001b[0m\u001b[0m\n\u001b[1;32m   1467\u001b[0m             \u001b[0;32mtry\u001b[0m\u001b[0;34m:\u001b[0m\u001b[0;34m\u001b[0m\u001b[0;34m\u001b[0m\u001b[0m\n\u001b[0;32m-> 1468\u001b[0;31m                 \u001b[0mself\u001b[0m\u001b[0;34m.\u001b[0m\u001b[0m_name\u001b[0m \u001b[0;34m=\u001b[0m \u001b[0mparent\u001b[0m\u001b[0;34m.\u001b[0m\u001b[0m_create\u001b[0m\u001b[0;34m(\u001b[0m\u001b[0mvalue\u001b[0m\u001b[0;34m,\u001b[0m \u001b[0mname\u001b[0m\u001b[0;34m=\u001b[0m\u001b[0mname\u001b[0m\u001b[0;34m)\u001b[0m\u001b[0;34m\u001b[0m\u001b[0;34m\u001b[0m\u001b[0m\n\u001b[0m\u001b[1;32m   1469\u001b[0m             \u001b[0;31m# Convert ValueError and RuntimeError to TypeError for\u001b[0m\u001b[0;34m\u001b[0m\u001b[0;34m\u001b[0m\u001b[0;34m\u001b[0m\u001b[0m\n\u001b[1;32m   1470\u001b[0m             \u001b[0;31m# coercion to work properly.\u001b[0m\u001b[0;34m\u001b[0m\u001b[0;34m\u001b[0m\u001b[0;34m\u001b[0m\u001b[0m\n",
      "\u001b[0;32m/opt/SageMath/SageMath/local/lib/python3.9/site-packages/sage/interfaces/interface.py\u001b[0m in \u001b[0;36m_create\u001b[0;34m(self, value, name)\u001b[0m\n\u001b[1;32m    498\u001b[0m     \u001b[0;32mdef\u001b[0m \u001b[0m_create\u001b[0m\u001b[0;34m(\u001b[0m\u001b[0mself\u001b[0m\u001b[0;34m,\u001b[0m \u001b[0mvalue\u001b[0m\u001b[0;34m,\u001b[0m \u001b[0mname\u001b[0m\u001b[0;34m=\u001b[0m\u001b[0;32mNone\u001b[0m\u001b[0;34m)\u001b[0m\u001b[0;34m:\u001b[0m\u001b[0;34m\u001b[0m\u001b[0;34m\u001b[0m\u001b[0m\n\u001b[1;32m    499\u001b[0m         \u001b[0mname\u001b[0m \u001b[0;34m=\u001b[0m \u001b[0mself\u001b[0m\u001b[0;34m.\u001b[0m\u001b[0m_next_var_name\u001b[0m\u001b[0;34m(\u001b[0m\u001b[0;34m)\u001b[0m \u001b[0;32mif\u001b[0m \u001b[0mname\u001b[0m \u001b[0;32mis\u001b[0m \u001b[0;32mNone\u001b[0m \u001b[0;32melse\u001b[0m \u001b[0mname\u001b[0m\u001b[0;34m\u001b[0m\u001b[0;34m\u001b[0m\u001b[0m\n\u001b[0;32m--> 500\u001b[0;31m         \u001b[0mself\u001b[0m\u001b[0;34m.\u001b[0m\u001b[0mset\u001b[0m\u001b[0;34m(\u001b[0m\u001b[0mname\u001b[0m\u001b[0;34m,\u001b[0m \u001b[0mvalue\u001b[0m\u001b[0;34m)\u001b[0m\u001b[0;34m\u001b[0m\u001b[0;34m\u001b[0m\u001b[0m\n\u001b[0m\u001b[1;32m    501\u001b[0m         \u001b[0;32mreturn\u001b[0m \u001b[0mname\u001b[0m\u001b[0;34m\u001b[0m\u001b[0;34m\u001b[0m\u001b[0m\n\u001b[1;32m    502\u001b[0m \u001b[0;34m\u001b[0m\u001b[0m\n",
      "\u001b[0;32m/opt/SageMath/SageMath/local/lib/python3.9/site-packages/sage/interfaces/mathematica.py\u001b[0m in \u001b[0;36mset\u001b[0;34m(self, var, value)\u001b[0m\n\u001b[1;32m    579\u001b[0m         \u001b[0mcmd\u001b[0m \u001b[0;34m=\u001b[0m \u001b[0;34m'%s=%s;'\u001b[0m\u001b[0;34m%\u001b[0m\u001b[0;34m(\u001b[0m\u001b[0mvar\u001b[0m\u001b[0;34m,\u001b[0m\u001b[0mvalue\u001b[0m\u001b[0;34m)\u001b[0m\u001b[0;34m\u001b[0m\u001b[0;34m\u001b[0m\u001b[0m\n\u001b[1;32m    580\u001b[0m         \u001b[0;31m#out = self.eval(cmd)\u001b[0m\u001b[0;34m\u001b[0m\u001b[0;34m\u001b[0m\u001b[0;34m\u001b[0m\u001b[0m\n\u001b[0;32m--> 581\u001b[0;31m         \u001b[0mout\u001b[0m \u001b[0;34m=\u001b[0m \u001b[0mself\u001b[0m\u001b[0;34m.\u001b[0m\u001b[0m_eval_line\u001b[0m\u001b[0;34m(\u001b[0m\u001b[0mcmd\u001b[0m\u001b[0;34m,\u001b[0m \u001b[0mallow_use_file\u001b[0m\u001b[0;34m=\u001b[0m\u001b[0;32mTrue\u001b[0m\u001b[0;34m)\u001b[0m\u001b[0;34m\u001b[0m\u001b[0;34m\u001b[0m\u001b[0m\n\u001b[0m\u001b[1;32m    582\u001b[0m         \u001b[0;32mif\u001b[0m \u001b[0mlen\u001b[0m\u001b[0;34m(\u001b[0m\u001b[0mout\u001b[0m\u001b[0;34m)\u001b[0m \u001b[0;34m>\u001b[0m \u001b[0;36m8\u001b[0m\u001b[0;34m:\u001b[0m\u001b[0;34m\u001b[0m\u001b[0;34m\u001b[0m\u001b[0m\n\u001b[1;32m    583\u001b[0m             \u001b[0;32mraise\u001b[0m \u001b[0mTypeError\u001b[0m\u001b[0;34m(\u001b[0m\u001b[0;34m\"Error executing code in Mathematica\\nCODE:\\n\\t%s\\nMathematica ERROR:\\n\\t%s\"\u001b[0m\u001b[0;34m%\u001b[0m\u001b[0;34m(\u001b[0m\u001b[0mcmd\u001b[0m\u001b[0;34m,\u001b[0m \u001b[0mout\u001b[0m\u001b[0;34m)\u001b[0m\u001b[0;34m)\u001b[0m\u001b[0;34m\u001b[0m\u001b[0;34m\u001b[0m\u001b[0m\n",
      "\u001b[0;32m/opt/SageMath/SageMath/local/lib/python3.9/site-packages/sage/interfaces/mathematica.py\u001b[0m in \u001b[0;36m_eval_line\u001b[0;34m(self, line, allow_use_file, wait_for_prompt, restart_if_needed)\u001b[0m\n\u001b[1;32m    605\u001b[0m \u001b[0;34m\u001b[0m\u001b[0m\n\u001b[1;32m    606\u001b[0m     \u001b[0;32mdef\u001b[0m \u001b[0m_eval_line\u001b[0m\u001b[0;34m(\u001b[0m\u001b[0mself\u001b[0m\u001b[0;34m,\u001b[0m \u001b[0mline\u001b[0m\u001b[0;34m,\u001b[0m  \u001b[0mallow_use_file\u001b[0m\u001b[0;34m=\u001b[0m\u001b[0;32mTrue\u001b[0m\u001b[0;34m,\u001b[0m \u001b[0mwait_for_prompt\u001b[0m\u001b[0;34m=\u001b[0m\u001b[0;32mTrue\u001b[0m\u001b[0;34m,\u001b[0m \u001b[0mrestart_if_needed\u001b[0m\u001b[0;34m=\u001b[0m\u001b[0;32mFalse\u001b[0m\u001b[0;34m)\u001b[0m\u001b[0;34m:\u001b[0m\u001b[0;34m\u001b[0m\u001b[0;34m\u001b[0m\u001b[0m\n\u001b[0;32m--> 607\u001b[0;31m         s = Expect._eval_line(self, line,\n\u001b[0m\u001b[1;32m    608\u001b[0m              allow_use_file=allow_use_file, wait_for_prompt=wait_for_prompt)\n\u001b[1;32m    609\u001b[0m         \u001b[0;32mreturn\u001b[0m \u001b[0mstr\u001b[0m\u001b[0;34m(\u001b[0m\u001b[0ms\u001b[0m\u001b[0;34m)\u001b[0m\u001b[0;34m.\u001b[0m\u001b[0mstrip\u001b[0m\u001b[0;34m(\u001b[0m\u001b[0;34m'\\n'\u001b[0m\u001b[0;34m)\u001b[0m\u001b[0;34m\u001b[0m\u001b[0;34m\u001b[0m\u001b[0m\n",
      "\u001b[0;32m/opt/SageMath/SageMath/local/lib/python3.9/site-packages/sage/interfaces/expect.py\u001b[0m in \u001b[0;36m_eval_line\u001b[0;34m(self, line, allow_use_file, wait_for_prompt, restart_if_needed)\u001b[0m\n\u001b[1;32m   1013\u001b[0m         \u001b[0;32mexcept\u001b[0m \u001b[0mKeyboardInterrupt\u001b[0m\u001b[0;34m:\u001b[0m\u001b[0;34m\u001b[0m\u001b[0;34m\u001b[0m\u001b[0m\n\u001b[1;32m   1014\u001b[0m             \u001b[0mself\u001b[0m\u001b[0;34m.\u001b[0m\u001b[0m_keyboard_interrupt\u001b[0m\u001b[0;34m(\u001b[0m\u001b[0;34m)\u001b[0m\u001b[0;34m\u001b[0m\u001b[0;34m\u001b[0m\u001b[0m\n\u001b[0;32m-> 1015\u001b[0;31m             \u001b[0;32mraise\u001b[0m \u001b[0mKeyboardInterrupt\u001b[0m\u001b[0;34m(\u001b[0m\u001b[0;34m\"Ctrl-c pressed while running %s\"\u001b[0m \u001b[0;34m%\u001b[0m \u001b[0mself\u001b[0m\u001b[0;34m)\u001b[0m\u001b[0;34m\u001b[0m\u001b[0;34m\u001b[0m\u001b[0m\n\u001b[0m\u001b[1;32m   1016\u001b[0m         \u001b[0;32mif\u001b[0m \u001b[0mself\u001b[0m\u001b[0;34m.\u001b[0m\u001b[0m_terminal_echo\u001b[0m\u001b[0;34m:\u001b[0m\u001b[0;34m\u001b[0m\u001b[0;34m\u001b[0m\u001b[0m\n\u001b[1;32m   1017\u001b[0m             \u001b[0mi\u001b[0m \u001b[0;34m=\u001b[0m \u001b[0mout\u001b[0m\u001b[0;34m.\u001b[0m\u001b[0mfind\u001b[0m\u001b[0;34m(\u001b[0m\u001b[0;34m\"\\n\"\u001b[0m\u001b[0;34m)\u001b[0m\u001b[0;34m\u001b[0m\u001b[0;34m\u001b[0m\u001b[0m\n",
      "\u001b[0;31mKeyboardInterrupt\u001b[0m: Ctrl-c pressed while running Mathematica"
     ]
    }
   ],
   "source": [
    "#search for simultaneous roots\n",
    "tol =1e-6\n",
    "D1val= 100\n",
    "DEgval = 1\n",
    "valp=10\n",
    "p = -2\n",
    "minsol = 1\n",
    "while D1val>0.75:\n",
    "    D1val = D1val - 10^p\n",
    "    eq1s = cond2sub.subs(D1=D1val , DEg=DEgval) == - 380 *2*np.pi\n",
    "    #eq1s = MMA_simplify(eq1s)\n",
    "    sol = eq1s._mathematica_().NSolve(\"PositiveReals\")[2][1][2]._sage_()\n",
    "    #eq1s = eq1s.numerator()/eq1s.denominator()\n",
    "    #eq = eq1s+2*np.pi == 0 #2*pi ??\n",
    "    #sol = solve(eq,D2)\n",
    "    #sol = sol[0].rhs().n()\n",
    "    \n",
    "    eq2s = cond1sub.subs(D1=D1val , DEg=DEgval, D2=sol)/(2*np.pi)\n",
    "\n",
    "    val = np.mod(float(abs(eq2s.n())) , 1)\n",
    "\n",
    "    #val = abs(eq2s-2*np.pi)\n",
    "    \n",
    "    if val > 0.5:\n",
    "        val = 1-val\n",
    "    \n",
    "    #print(f'precision: {p}')\n",
    "    \n",
    "    \n",
    "    if abs(val)<tol:\n",
    "        break\n",
    "        \n",
    "    if abs(val)<abs(valp):\n",
    "        valp = val\n",
    "        minsolD1 = D1val\n",
    "        minsolD2 = sol\n",
    "        print(D1val.n(), valp)\n",
    "\n",
    "    \n",
    "\n",
    "print('Finished')\n",
    "\n",
    "print('\\n\\n')\n",
    "\n",
    "print(valp ,minsolDEg.n() ,minsolD2)\n"
   ]
  },
  {
   "cell_type": "code",
   "execution_count": 751,
   "id": "893d9e47",
   "metadata": {},
   "outputs": [
    {
     "data": {
      "text/plain": [
       "25.0004792280218"
      ]
     },
     "execution_count": 751,
     "metadata": {},
     "output_type": "execute_result"
    }
   ],
   "source": [
    "cond1sub.subs(DEg=1,D1=minsolD1,D2=minsolD2)/(2*np.pi)"
   ]
  },
  {
   "cell_type": "code",
   "execution_count": 752,
   "id": "6e182900",
   "metadata": {},
   "outputs": [
    {
     "data": {
      "text/plain": [
       "-380.000000000000"
      ]
     },
     "execution_count": 752,
     "metadata": {},
     "output_type": "execute_result"
    }
   ],
   "source": [
    "cond2sub.subs(DEg=1,D1=minsolD1,D2=minsolD2)/(2*np.pi)"
   ]
  },
  {
   "cell_type": "markdown",
   "id": "94fa4024",
   "metadata": {},
   "source": [
    "# Test if gate works"
   ]
  },
  {
   "cell_type": "code",
   "execution_count": 773,
   "id": "73fa2022",
   "metadata": {},
   "outputs": [],
   "source": [
    "Cval = 10^20\n",
    "phival = 0* np.pi \n",
    "R_fval = 1\n",
    "gamma_fval = gamma\n",
    "gamma_gval = gamma\n",
    "DEgval = 1\n",
    "Deg2val = DEgval*minsolD2#*0.99999\n",
    "Deg1val = DEgval*minsolD1#*0.99999\n"
   ]
  },
  {
   "cell_type": "code",
   "execution_count": 774,
   "id": "65e892e9",
   "metadata": {},
   "outputs": [],
   "source": [
    "eff_hval = eff_hamiltonian_tayl.subs(DEg=DEgval,C=Cval,phi=phival,R_f=R_fval,gamma_f=gamma_fval,gamma_g=gamma_gval,Deg2=Deg2val,Deg1= Deg1val)\n",
    "eff_hval = (eff_hval + conjugate(eff_hval))\n",
    "\n",
    "a_val = eff_hval[0,0]\n",
    "#a_val = a.subs(DEg=DEgval,C=Cval,phi=phival,R_f=R_fval,gamma_f=gamma_fval,gamma_g=gamma_gval,Deg2=Deg2val,Deg1= Deg1val)\n",
    "\n",
    "b_val = eff_hval[1,1]\n",
    "#b_val = b.subs(DEg=DEgval,C=Cval,phi=phival,R_f=R_fval,gamma_f=gamma_fval,gamma_g=gamma_gval,Deg2=Deg2val,Deg1= Deg1val)\n",
    "\n",
    "c_val = eff_hval[3,3]\n",
    "#c_val = c.subs(DEg=DEgval,C=Cval,phi=phival,R_f=R_fval,gamma_f=gamma_fval,gamma_g=gamma_gval,Deg2=Deg2val,Deg1= Deg1val)\n",
    "\n",
    "d_val = eff_hval[4,4]\n",
    "#d_val = d.subs(DEg=DEgval,C=Cval,phi=phival,R_f=R_fval,gamma_f=gamma_fval,gamma_g=gamma_gval,Deg2=Deg2val,Deg1= Deg1val)\n",
    "\n",
    "e_val = eff_hval[5,5]\n",
    "#e_val = e.subs(DEg=DEgval,C=Cval,phi=phival,R_f=R_fval,gamma_f=gamma_fval,gamma_g=gamma_gval,Deg2=Deg2val,Deg1= Deg1val)\n",
    "\n",
    "f_val = eff_hval[7,7]\n",
    "#f_val = f.subs(DEg=DEgval,C=Cval,phi=phival,R_f=R_fval,gamma_f=gamma_fval,gamma_g=gamma_gval,Deg2=Deg2val,Deg1= Deg1val)\n"
   ]
  },
  {
   "cell_type": "code",
   "execution_count": null,
   "id": "50ff26d8",
   "metadata": {},
   "outputs": [],
   "source": []
  },
  {
   "cell_type": "code",
   "execution_count": 775,
   "id": "517f3a03",
   "metadata": {},
   "outputs": [],
   "source": [
    "U = sg.copy(eff_hval)\n",
    "\n",
    "tgval = np.pi /(a_val+e_val-b_val-d_val)\n",
    "\n",
    "t1 = (a_val-b_val)*tgval\n",
    "t2 = t1\n",
    "t3 = (a_val-d_val)*tgval\n",
    "\n",
    "R = [0 , t1, t2, t1+t2, t3, t1+t3, t2+t3, t1+t2+t3 ]\n",
    "\n",
    "for i in range(8):\n",
    "    U[i,i] = exp( (R[i] + (eff_hval[i,i]-a_val)*tgval )*I )\n",
    "    \n",
    "for i in range(8):\n",
    "    U[i,i] = U[i,i]"
   ]
  },
  {
   "cell_type": "code",
   "execution_count": 776,
   "id": "779addae",
   "metadata": {},
   "outputs": [
    {
     "data": {
      "text/html": [
       "<html><script type=\"math/tex; mode=display\">\\newcommand{\\Bold}[1]{\\mathbf{#1}}\\left(\\begin{array}{rrrrrrrr}\n",
       "1 & 0 & 0 & 0 & 0 & 0 & 0 & 0 \\\\\n",
       "0 & 1 & 0 & 0 & 0 & 0 & 0 & 0 \\\\\n",
       "0 & 0 & 1 & 0 & 0 & 0 & 0 & 0 \\\\\n",
       "0 & 0 & 0 & 0.999997789988032 + 0.00210238413523237i & 0 & 0 & 0 & 0 \\\\\n",
       "0 & 0 & 0 & 0 & 1 & 0 & 0 & 0 \\\\\n",
       "0 & 0 & 0 & 0 & 0 & -1.00000000000000 - 3.72912471594138 \\times 10^{-13}i & 0 & 0 \\\\\n",
       "0 & 0 & 0 & 0 & 0 & 0 & -1.00000000000000 - 3.72912471594138 \\times 10^{-13}i & 0 \\\\\n",
       "0 & 0 & 0 & 0 & 0 & 0 & 0 & 0.999228168579532 + 0.0392818929940237i\n",
       "\\end{array}\\right)</script></html>"
      ],
      "text/latex": [
       "$$\\newcommand{\\Bold}[1]{\\mathbf{#1}}\\left(\\begin{array}{rrrrrrrr}\n",
       "1 & 0 & 0 & 0 & 0 & 0 & 0 & 0 \\\\\n",
       "0 & 1 & 0 & 0 & 0 & 0 & 0 & 0 \\\\\n",
       "0 & 0 & 1 & 0 & 0 & 0 & 0 & 0 \\\\\n",
       "0 & 0 & 0 & 0.999997789988032 + 0.00210238413523237i & 0 & 0 & 0 & 0 \\\\\n",
       "0 & 0 & 0 & 0 & 1 & 0 & 0 & 0 \\\\\n",
       "0 & 0 & 0 & 0 & 0 & -1.00000000000000 - 3.72912471594138 \\times 10^{-13}i & 0 & 0 \\\\\n",
       "0 & 0 & 0 & 0 & 0 & 0 & -1.00000000000000 - 3.72912471594138 \\times 10^{-13}i & 0 \\\\\n",
       "0 & 0 & 0 & 0 & 0 & 0 & 0 & 0.999228168579532 + 0.0392818929940237i\n",
       "\\end{array}\\right)$$"
      ],
      "text/plain": [
       "[                                         1                                          0                                          0                                          0                                          0                                          0                                          0                                          0]\n",
       "[                                         0                                          1                                          0                                          0                                          0                                          0                                          0                                          0]\n",
       "[                                         0                                          0                                          1                                          0                                          0                                          0                                          0                                          0]\n",
       "[                                         0                                          0                                          0  0.999997789988032 + 0.00210238413523237*I                                          0                                          0                                          0                                          0]\n",
       "[                                         0                                          0                                          0                                          0                                          1                                          0                                          0                                          0]\n",
       "[                                         0                                          0                                          0                                          0                                          0 -1.00000000000000 - 3.72912471594138e-13*I                                          0                                          0]\n",
       "[                                         0                                          0                                          0                                          0                                          0                                          0 -1.00000000000000 - 3.72912471594138e-13*I                                          0]\n",
       "[                                         0                                          0                                          0                                          0                                          0                                          0                                          0   0.999228168579532 + 0.0392818929940237*I]"
      ]
     },
     "metadata": {},
     "output_type": "display_data"
    }
   ],
   "source": [
    "show(U)"
   ]
  },
  {
   "cell_type": "markdown",
   "id": "7b078430",
   "metadata": {},
   "source": [
    "# ------------------------------------------------------------------------------------------------------------------------------------------------------------------------------------------------------------------------------------------------------------------------------------------------------------------------------------------------------------------------------------------------------------------------------------------------------------------------------------------------------------------------------------------------------------------------------------------------------------\n"
   ]
  },
  {
   "cell_type": "code",
   "execution_count": 17,
   "id": "bf8b66cb",
   "metadata": {},
   "outputs": [],
   "source": [
    "Cval = 10^7\n",
    "phival = np.pi / 3\n",
    "R_fval = 1\n",
    "gamma_fval = gamma\n",
    "gamma_gval = gamma\n",
    "Deg1val = 1\n",
    "Deg2val = 4\n",
    "Deg3val = 5\n",
    "DEgval = DEg\n",
    "\n",
    "aa = a.subs(Deg3 = Deg3val,C=Cval,phi=phival,R_f=R_fval,gamma_f=gamma_fval,gamma_g=gamma_gval,Deg2=Deg2val,Deg1=Deg1val,DEg = DEgval )\n",
    "aa += conjugate(aa)\n",
    "aa = symround( MMA_simplify(aa,full=True) ,digits=14)\n",
    "\n",
    "bb = b.subs(Deg3 = Deg3val,C=Cval,phi=phival,R_f=R_fval,gamma_f=gamma_fval,gamma_g=gamma_gval,Deg2=Deg2val,Deg1=Deg1val,DEg = DEgval )\n",
    "bb += conjugate(bb)\n",
    "bb = symround( MMA_simplify(bb,full=True) ,digits=14)\n",
    "\n",
    "cc = c.subs(Deg3 = Deg3val,C=Cval,phi=phival,R_f=R_fval,gamma_f=gamma_fval,gamma_g=gamma_gval,Deg2=Deg2val,Deg1=Deg1val,DEg = DEgval )\n",
    "cc += conjugate(cc)\n",
    "cc = symround( MMA_simplify(cc,full=True) ,digits=14)\n",
    "\n",
    "dd = d.subs(Deg3 = Deg3val,C=Cval,phi=phival,R_f=R_fval,gamma_f=gamma_fval,gamma_g=gamma_gval,Deg2=Deg2val,Deg1=Deg1val,DEg = DEgval )\n",
    "dd += conjugate(dd)\n",
    "dd = symround( MMA_simplify(dd,full=True) ,digits=14)\n",
    "\n",
    "ee = e.subs(Deg3 = Deg3val,C=Cval,phi=phival,R_f=R_fval,gamma_f=gamma_fval,gamma_g=gamma_gval,Deg2=Deg2val,Deg1=Deg1val,DEg = DEgval )\n",
    "ee += conjugate(ee)\n",
    "ee = symround( MMA_simplify(ee,full=True) ,digits=14)\n",
    "\n",
    "ff = f.subs(Deg3 = Deg3val,C=Cval,phi=phival,R_f=R_fval,gamma_f=gamma_fval,gamma_g=gamma_gval,Deg2=Deg2val,Deg1=Deg1val,DEg = DEgval )\n",
    "ff += conjugate(ff)\n",
    "ff = MMA_simplify(ff,full=not True) \n",
    "\n",
    "tg = np.pi / (aa+ee-bb-dd)\n",
    "\n",
    "tg = MMA_simplify(tg)\n",
    "\n",
    "cond1 = (aa-2*bb+cc)*tg\n",
    "\n",
    "cond1 = symround(MMA_simplify(cond1))\n",
    "\n",
    "#cond1s = cond1.subs(C=Cval,phi=phival,R_f=R_fval,gamma_f=gamma_fval,gamma_g=gamma_gval,Deg2=Deg2val,Deg1=Deg1val )\n"
   ]
  },
  {
   "cell_type": "code",
   "execution_count": 18,
   "id": "c4955dfc",
   "metadata": {},
   "outputs": [
    {
     "data": {
      "image/png": "[encoded data removed]",
      "text/plain": [
       "Graphics object consisting of 1 graphics primitive"
      ]
     },
     "execution_count": 18,
     "metadata": {},
     "output_type": "execute_result"
    }
   ],
   "source": [
    "plot(cond1,(DEg,0.0005,300),scale='semilogx'  )"
   ]
  },
  {
   "cell_type": "code",
   "execution_count": 32,
   "id": "944f6fcc",
   "metadata": {},
   "outputs": [
    {
     "ename": "SyntaxError",
     "evalue": "unmatched ')' (<ipython-input-32-1f1307b050aa>, line 1)",
     "output_type": "error",
     "traceback": [
      "\u001b[0;36m  File \u001b[0;32m\"<ipython-input-32-1f1307b050aa>\"\u001b[0;36m, line \u001b[0;32m1\u001b[0m\n\u001b[0;31m    show(RR(tg*aa).subs(DEg=Integer(1))*gamma/Omega**Integer(2)))\u001b[0m\n\u001b[0m                                                                ^\u001b[0m\n\u001b[0;31mSyntaxError\u001b[0m\u001b[0;31m:\u001b[0m unmatched ')'\n"
     ]
    }
   ],
   "source": [
    "show(RR(tg*aa).subs(DEg=1)*gamma/Omega^2))"
   ]
  },
  {
   "cell_type": "code",
   "execution_count": 40,
   "id": "7d1ddeb2",
   "metadata": {},
   "outputs": [
    {
     "data": {
      "text/html": [
       "<html><script type=\"math/tex; mode=display\">\\newcommand{\\Bold}[1]{\\mathbf{#1}}2.14624669741875 \\times 10^{15}</script></html>"
      ],
      "text/latex": [
       "$$\\newcommand{\\Bold}[1]{\\mathbf{#1}}2.14624669741875 \\times 10^{15}$$"
      ],
      "text/plain": [
       "2.14624669741875e15"
      ]
     },
     "metadata": {},
     "output_type": "display_data"
    }
   ],
   "source": [
    "show(((symround((tg*aa).subs(DEg=1)))).n())"
   ]
  },
  {
   "cell_type": "code",
   "execution_count": 35,
   "id": "416fd5eb",
   "metadata": {},
   "outputs": [
    {
     "data": {
      "text/html": [
       "<html><script type=\"math/tex; mode=display\">\\newcommand{\\Bold}[1]{\\mathbf{#1}}-2.6 \\times 10^{7} + 1.4 \\times 10^{-9}i</script></html>"
      ],
      "text/latex": [
       "$$\\newcommand{\\Bold}[1]{\\mathbf{#1}}-2.6 \\times 10^{7} + 1.4 \\times 10^{-9}i$$"
      ],
      "text/plain": [
       "-2.6e7 + 1.4e-9*I"
      ]
     },
     "metadata": {},
     "output_type": "display_data"
    }
   ],
   "source": [
    "show((symround((tg*ff).subs(DEg=1))))"
   ]
  },
  {
   "cell_type": "markdown",
   "id": "f56a611a",
   "metadata": {},
   "source": [
    "# ------------------------------------------------------------------------------------------------------------------------------------------------------------------------------------------------------------------------------------------------------------------------------------------------------------------------------------------------------------------------------------------------------------------------------------------------------------------------------------------------------------------------------------------------------------------------------------------------------------"
   ]
  },
  {
   "cell_type": "markdown",
   "id": "474bda37",
   "metadata": {},
   "source": [
    "# Second order approx"
   ]
  },
  {
   "cell_type": "code",
   "execution_count": 96,
   "id": "ecada484",
   "metadata": {},
   "outputs": [
    {
     "name": "stdout",
     "output_type": "stream",
     "text": [
      "symround: Deleted coefficient 1.1e-16\n",
      "symround: Deleted coefficient 1.1e-16\n"
     ]
    },
    {
     "data": {
      "text/html": [
       "<html><script type=\"math/tex; mode=display\">\\newcommand{\\Bold}[1]{\\mathbf{#1}}\\frac{0.50 \\, {\\left(C^{4} {\\left(e^{\\left(4 i \\, {\\phi}\\right)} - 1\\right)}^{2} - 4 \\, C^{3} e^{\\left(4 i \\, {\\phi}\\right)} - 1.2 \\, C^{2} e^{\\left(4 i \\, {\\phi}\\right)} - 0.12 \\, C e^{\\left(4 i \\, {\\phi}\\right)} - 0.0039 \\, e^{\\left(4 i \\, {\\phi}\\right)}\\right)} {\\Omega}^{2}}{{\\left({\\left(C^{4} {\\left(e^{\\left(4 i \\, {\\phi}\\right)} - 1\\right)}^{2} - 4 \\, C^{3} e^{\\left(4 i \\, {\\phi}\\right)} - 1.2 \\, C^{2} e^{\\left(4 i \\, {\\phi}\\right)} - 0.12 \\, C e^{\\left(4 i \\, {\\phi}\\right)} - 0.0039 \\, e^{\\left(4 i \\, {\\phi}\\right)}\\right)} C {{{\\Delta E}}^\\gamma} + {\\left(2 i \\, C^{3} + 1.2i \\, C^{2} + 0.19i \\, C + 0.0078i\\right)} R_{f} e^{\\left(4 i \\, {\\phi}\\right)}\\right)} C {\\gamma} + {\\left(-0.50i \\, C^{4} {\\left(e^{\\left(4 i \\, {\\phi}\\right)} - 1\\right)}^{2} + 2 i \\, C^{3} e^{\\left(4 i \\, {\\phi}\\right)} + 0.62i \\, C^{2} e^{\\left(4 i \\, {\\phi}\\right)} + 0.062i \\, C e^{\\left(4 i \\, {\\phi}\\right)} + 0.0020i \\, e^{\\left(4 i \\, {\\phi}\\right)}\\right)} {\\gamma_f} + {\\left(-0.50i \\, C^{4} {\\left(e^{\\left(4 i \\, {\\phi}\\right)} - 1\\right)}^{2} + 2 i \\, C^{3} e^{\\left(4 i \\, {\\phi}\\right)} + 0.62i \\, C^{2} e^{\\left(4 i \\, {\\phi}\\right)} + 0.062i \\, C e^{\\left(4 i \\, {\\phi}\\right)} + 0.0020i \\, e^{\\left(4 i \\, {\\phi}\\right)}\\right)} {\\gamma_g}}</script></html>"
      ],
      "text/latex": [
       "$$\\newcommand{\\Bold}[1]{\\mathbf{#1}}\\frac{0.50 \\, {\\left(C^{4} {\\left(e^{\\left(4 i \\, {\\phi}\\right)} - 1\\right)}^{2} - 4 \\, C^{3} e^{\\left(4 i \\, {\\phi}\\right)} - 1.2 \\, C^{2} e^{\\left(4 i \\, {\\phi}\\right)} - 0.12 \\, C e^{\\left(4 i \\, {\\phi}\\right)} - 0.0039 \\, e^{\\left(4 i \\, {\\phi}\\right)}\\right)} {\\Omega}^{2}}{{\\left({\\left(C^{4} {\\left(e^{\\left(4 i \\, {\\phi}\\right)} - 1\\right)}^{2} - 4 \\, C^{3} e^{\\left(4 i \\, {\\phi}\\right)} - 1.2 \\, C^{2} e^{\\left(4 i \\, {\\phi}\\right)} - 0.12 \\, C e^{\\left(4 i \\, {\\phi}\\right)} - 0.0039 \\, e^{\\left(4 i \\, {\\phi}\\right)}\\right)} C {{{\\Delta E}}^\\gamma} + {\\left(2 i \\, C^{3} + 1.2i \\, C^{2} + 0.19i \\, C + 0.0078i\\right)} R_{f} e^{\\left(4 i \\, {\\phi}\\right)}\\right)} C {\\gamma} + {\\left(-0.50i \\, C^{4} {\\left(e^{\\left(4 i \\, {\\phi}\\right)} - 1\\right)}^{2} + 2 i \\, C^{3} e^{\\left(4 i \\, {\\phi}\\right)} + 0.62i \\, C^{2} e^{\\left(4 i \\, {\\phi}\\right)} + 0.062i \\, C e^{\\left(4 i \\, {\\phi}\\right)} + 0.0020i \\, e^{\\left(4 i \\, {\\phi}\\right)}\\right)} {\\gamma_f} + {\\left(-0.50i \\, C^{4} {\\left(e^{\\left(4 i \\, {\\phi}\\right)} - 1\\right)}^{2} + 2 i \\, C^{3} e^{\\left(4 i \\, {\\phi}\\right)} + 0.62i \\, C^{2} e^{\\left(4 i \\, {\\phi}\\right)} + 0.062i \\, C e^{\\left(4 i \\, {\\phi}\\right)} + 0.0020i \\, e^{\\left(4 i \\, {\\phi}\\right)}\\right)} {\\gamma_g}}$$"
      ],
      "text/plain": [
       "0.50*(C^4*(e^(4*I*phi) - 1)^2 - 4*C^3*e^(4*I*phi) - 1.2*C^2*e^(4*I*phi) - 0.12*C*e^(4*I*phi) - 0.0039*e^(4*I*phi))*Omega^2/(((C^4*(e^(4*I*phi) - 1)^2 - 4*C^3*e^(4*I*phi) - 1.2*C^2*e^(4*I*phi) - 0.12*C*e^(4*I*phi) - 0.0039*e^(4*I*phi))*C*DEg + (2*I*C^3 + 1.2*I*C^2 + 0.19*I*C + 0.0078*I)*R_f*e^(4*I*phi))*C*gamma + (-0.50*I*C^4*(e^(4*I*phi) - 1)^2 + 2*I*C^3*e^(4*I*phi) + 0.62*I*C^2*e^(4*I*phi) + 0.062*I*C*e^(4*I*phi) + 0.0020*I*e^(4*I*phi))*gamma_f + (-0.50*I*C^4*(e^(4*I*phi) - 1)^2 + 2*I*C^3*e^(4*I*phi) + 0.62*I*C^2*e^(4*I*phi) + 0.062*I*C*e^(4*I*phi) + 0.0020*I*e^(4*I*phi))*gamma_g)"
      ]
     },
     "metadata": {},
     "output_type": "display_data"
    },
    {
     "name": "stdout",
     "output_type": "stream",
     "text": [
      "symround: Deleted coefficient 1.1e-16\n",
      "symround: Deleted coefficient 1.1e-16\n"
     ]
    },
    {
     "data": {
      "text/html": [
       "<html><script type=\"math/tex; mode=display\">\\newcommand{\\Bold}[1]{\\mathbf{#1}}\\frac{0.50 \\, {\\left(C^{6} {{{\\Delta e}}_{{  2}}^\\gamma} {\\left(e^{\\left(4 i \\, {\\phi}\\right)} - 1\\right)}^{2} - 4 \\, C^{5} {{{\\Delta e}}_{{  2}}^\\gamma} e^{\\left(4 i \\, {\\phi}\\right)} + {\\left({\\left(-1.2 \\, {{{\\Delta e}}_{{  2}}^\\gamma} + 3 i\\right)} e^{\\left(4 i \\, {\\phi}\\right)} - 0.50i \\, e^{\\left(8 i \\, {\\phi}\\right)} - 0.50i\\right)} C^{4} + C^{3} {\\left(-0.12 \\, {{{\\Delta e}}_{{  2}}^\\gamma} + 3.2i\\right)} e^{\\left(4 i \\, {\\phi}\\right)} + C^{2} {\\left(-0.0039 \\, {{{\\Delta e}}_{{  2}}^\\gamma} + 0.81i\\right)} e^{\\left(4 i \\, {\\phi}\\right)} + 0.070i \\, C e^{\\left(4 i \\, {\\phi}\\right)} + 0.0020i \\, e^{\\left(4 i \\, {\\phi}\\right)}\\right)} {\\Omega}^{2}}{{\\left({\\left(C^{6} {{{\\Delta e}}_{{  2}}^\\gamma} {\\left(e^{\\left(4 i \\, {\\phi}\\right)} - 1\\right)}^{2} - 4 \\, C^{5} {{{\\Delta e}}_{{  2}}^\\gamma} e^{\\left(4 i \\, {\\phi}\\right)} + {\\left({\\left(-1.2 \\, {{{\\Delta e}}_{{  2}}^\\gamma} + 3 i\\right)} e^{\\left(4 i \\, {\\phi}\\right)} - 0.50i \\, e^{\\left(8 i \\, {\\phi}\\right)} - 0.50i\\right)} C^{4} + C^{3} {\\left(-0.12 \\, {{{\\Delta e}}_{{  2}}^\\gamma} + 3.2i\\right)} e^{\\left(4 i \\, {\\phi}\\right)} + C^{2} {\\left(-0.0039 \\, {{{\\Delta e}}_{{  2}}^\\gamma} + 0.81i\\right)} e^{\\left(4 i \\, {\\phi}\\right)} + 0.070i \\, C e^{\\left(4 i \\, {\\phi}\\right)} + 0.0020i \\, e^{\\left(4 i \\, {\\phi}\\right)}\\right)} C {{{\\Delta E}}^\\gamma} + {\\left(2 i \\, C^{5} {{{\\Delta e}}_{{  2}}^\\gamma} + 1.2i \\, C^{4} {{{\\Delta e}}_{{  2}}^\\gamma} + C^{3} {\\left(0.19i \\, {{{\\Delta e}}_{{  2}}^\\gamma} + 1.8\\right)} + C^{2} {\\left(0.0078i \\, {{{\\Delta e}}_{{  2}}^\\gamma} + 0.88\\right)} + 0.11 \\, C + 0.0039\\right)} R_{f} e^{\\left(4 i \\, {\\phi}\\right)}\\right)} C {\\gamma} + {\\left(-0.50i \\, C^{6} {{{\\Delta e}}_{{  2}}^\\gamma} {\\left(e^{\\left(4 i \\, {\\phi}\\right)} - 1\\right)}^{2} + 2 i \\, C^{5} {{{\\Delta e}}_{{  2}}^\\gamma} e^{\\left(4 i \\, {\\phi}\\right)} + {\\left({\\left(0.62i \\, {{{\\Delta e}}_{{  2}}^\\gamma} + 1.5\\right)} e^{\\left(4 i \\, {\\phi}\\right)} - 0.25 \\, e^{\\left(8 i \\, {\\phi}\\right)} - 0.25\\right)} C^{4} + C^{3} {\\left(0.062i \\, {{{\\Delta e}}_{{  2}}^\\gamma} + 1.6\\right)} e^{\\left(4 i \\, {\\phi}\\right)} + C^{2} {\\left(0.0020i \\, {{{\\Delta e}}_{{  2}}^\\gamma} + 0.41\\right)} e^{\\left(4 i \\, {\\phi}\\right)} + 0.035 \\, C e^{\\left(4 i \\, {\\phi}\\right)} + 0.00098 \\, e^{\\left(4 i \\, {\\phi}\\right)}\\right)} {\\gamma_f} + {\\left(-0.50i \\, C^{6} {{{\\Delta e}}_{{  2}}^\\gamma} {\\left(e^{\\left(4 i \\, {\\phi}\\right)} - 1\\right)}^{2} + 2 i \\, C^{5} {{{\\Delta e}}_{{  2}}^\\gamma} e^{\\left(4 i \\, {\\phi}\\right)} + {\\left({\\left(0.62i \\, {{{\\Delta e}}_{{  2}}^\\gamma} + 1.5\\right)} e^{\\left(4 i \\, {\\phi}\\right)} - 0.25 \\, e^{\\left(8 i \\, {\\phi}\\right)} - 0.25\\right)} C^{4} + C^{3} {\\left(0.062i \\, {{{\\Delta e}}_{{  2}}^\\gamma} + 1.6\\right)} e^{\\left(4 i \\, {\\phi}\\right)} + C^{2} {\\left(0.0020i \\, {{{\\Delta e}}_{{  2}}^\\gamma} + 0.41\\right)} e^{\\left(4 i \\, {\\phi}\\right)} + 0.035 \\, C e^{\\left(4 i \\, {\\phi}\\right)} + 0.00098 \\, e^{\\left(4 i \\, {\\phi}\\right)}\\right)} {\\gamma_g}}</script></html>"
      ],
      "text/latex": [
       "$$\\newcommand{\\Bold}[1]{\\mathbf{#1}}\\frac{0.50 \\, {\\left(C^{6} {{{\\Delta e}}_{{  2}}^\\gamma} {\\left(e^{\\left(4 i \\, {\\phi}\\right)} - 1\\right)}^{2} - 4 \\, C^{5} {{{\\Delta e}}_{{  2}}^\\gamma} e^{\\left(4 i \\, {\\phi}\\right)} + {\\left({\\left(-1.2 \\, {{{\\Delta e}}_{{  2}}^\\gamma} + 3 i\\right)} e^{\\left(4 i \\, {\\phi}\\right)} - 0.50i \\, e^{\\left(8 i \\, {\\phi}\\right)} - 0.50i\\right)} C^{4} + C^{3} {\\left(-0.12 \\, {{{\\Delta e}}_{{  2}}^\\gamma} + 3.2i\\right)} e^{\\left(4 i \\, {\\phi}\\right)} + C^{2} {\\left(-0.0039 \\, {{{\\Delta e}}_{{  2}}^\\gamma} + 0.81i\\right)} e^{\\left(4 i \\, {\\phi}\\right)} + 0.070i \\, C e^{\\left(4 i \\, {\\phi}\\right)} + 0.0020i \\, e^{\\left(4 i \\, {\\phi}\\right)}\\right)} {\\Omega}^{2}}{{\\left({\\left(C^{6} {{{\\Delta e}}_{{  2}}^\\gamma} {\\left(e^{\\left(4 i \\, {\\phi}\\right)} - 1\\right)}^{2} - 4 \\, C^{5} {{{\\Delta e}}_{{  2}}^\\gamma} e^{\\left(4 i \\, {\\phi}\\right)} + {\\left({\\left(-1.2 \\, {{{\\Delta e}}_{{  2}}^\\gamma} + 3 i\\right)} e^{\\left(4 i \\, {\\phi}\\right)} - 0.50i \\, e^{\\left(8 i \\, {\\phi}\\right)} - 0.50i\\right)} C^{4} + C^{3} {\\left(-0.12 \\, {{{\\Delta e}}_{{  2}}^\\gamma} + 3.2i\\right)} e^{\\left(4 i \\, {\\phi}\\right)} + C^{2} {\\left(-0.0039 \\, {{{\\Delta e}}_{{  2}}^\\gamma} + 0.81i\\right)} e^{\\left(4 i \\, {\\phi}\\right)} + 0.070i \\, C e^{\\left(4 i \\, {\\phi}\\right)} + 0.0020i \\, e^{\\left(4 i \\, {\\phi}\\right)}\\right)} C {{{\\Delta E}}^\\gamma} + {\\left(2 i \\, C^{5} {{{\\Delta e}}_{{  2}}^\\gamma} + 1.2i \\, C^{4} {{{\\Delta e}}_{{  2}}^\\gamma} + C^{3} {\\left(0.19i \\, {{{\\Delta e}}_{{  2}}^\\gamma} + 1.8\\right)} + C^{2} {\\left(0.0078i \\, {{{\\Delta e}}_{{  2}}^\\gamma} + 0.88\\right)} + 0.11 \\, C + 0.0039\\right)} R_{f} e^{\\left(4 i \\, {\\phi}\\right)}\\right)} C {\\gamma} + {\\left(-0.50i \\, C^{6} {{{\\Delta e}}_{{  2}}^\\gamma} {\\left(e^{\\left(4 i \\, {\\phi}\\right)} - 1\\right)}^{2} + 2 i \\, C^{5} {{{\\Delta e}}_{{  2}}^\\gamma} e^{\\left(4 i \\, {\\phi}\\right)} + {\\left({\\left(0.62i \\, {{{\\Delta e}}_{{  2}}^\\gamma} + 1.5\\right)} e^{\\left(4 i \\, {\\phi}\\right)} - 0.25 \\, e^{\\left(8 i \\, {\\phi}\\right)} - 0.25\\right)} C^{4} + C^{3} {\\left(0.062i \\, {{{\\Delta e}}_{{  2}}^\\gamma} + 1.6\\right)} e^{\\left(4 i \\, {\\phi}\\right)} + C^{2} {\\left(0.0020i \\, {{{\\Delta e}}_{{  2}}^\\gamma} + 0.41\\right)} e^{\\left(4 i \\, {\\phi}\\right)} + 0.035 \\, C e^{\\left(4 i \\, {\\phi}\\right)} + 0.00098 \\, e^{\\left(4 i \\, {\\phi}\\right)}\\right)} {\\gamma_f} + {\\left(-0.50i \\, C^{6} {{{\\Delta e}}_{{  2}}^\\gamma} {\\left(e^{\\left(4 i \\, {\\phi}\\right)} - 1\\right)}^{2} + 2 i \\, C^{5} {{{\\Delta e}}_{{  2}}^\\gamma} e^{\\left(4 i \\, {\\phi}\\right)} + {\\left({\\left(0.62i \\, {{{\\Delta e}}_{{  2}}^\\gamma} + 1.5\\right)} e^{\\left(4 i \\, {\\phi}\\right)} - 0.25 \\, e^{\\left(8 i \\, {\\phi}\\right)} - 0.25\\right)} C^{4} + C^{3} {\\left(0.062i \\, {{{\\Delta e}}_{{  2}}^\\gamma} + 1.6\\right)} e^{\\left(4 i \\, {\\phi}\\right)} + C^{2} {\\left(0.0020i \\, {{{\\Delta e}}_{{  2}}^\\gamma} + 0.41\\right)} e^{\\left(4 i \\, {\\phi}\\right)} + 0.035 \\, C e^{\\left(4 i \\, {\\phi}\\right)} + 0.00098 \\, e^{\\left(4 i \\, {\\phi}\\right)}\\right)} {\\gamma_g}}$$"
      ],
      "text/plain": [
       "0.50*(C^6*Deg2*(e^(4*I*phi) - 1)^2 - 4*C^5*Deg2*e^(4*I*phi) + ((-1.2*Deg2 + 3*I)*e^(4*I*phi) - 0.50*I*e^(8*I*phi) - 0.50*I)*C^4 + C^3*(-0.12*Deg2 + 3.2*I)*e^(4*I*phi) + C^2*(-0.0039*Deg2 + 0.81*I)*e^(4*I*phi) + 0.070*I*C*e^(4*I*phi) + 0.0020*I*e^(4*I*phi))*Omega^2/(((C^6*Deg2*(e^(4*I*phi) - 1)^2 - 4*C^5*Deg2*e^(4*I*phi) + ((-1.2*Deg2 + 3*I)*e^(4*I*phi) - 0.50*I*e^(8*I*phi) - 0.50*I)*C^4 + C^3*(-0.12*Deg2 + 3.2*I)*e^(4*I*phi) + C^2*(-0.0039*Deg2 + 0.81*I)*e^(4*I*phi) + 0.070*I*C*e^(4*I*phi) + 0.0020*I*e^(4*I*phi))*C*DEg + (2*I*C^5*Deg2 + 1.2*I*C^4*Deg2 + C^3*(0.19*I*Deg2 + 1.8) + C^2*(0.0078*I*Deg2 + 0.88) + 0.11*C + 0.0039)*R_f*e^(4*I*phi))*C*gamma + (-0.50*I*C^6*Deg2*(e^(4*I*phi) - 1)^2 + 2*I*C^5*Deg2*e^(4*I*phi) + ((0.62*I*Deg2 + 1.5)*e^(4*I*phi) - 0.25*e^(8*I*phi) - 0.25)*C^4 + C^3*(0.062*I*Deg2 + 1.6)*e^(4*I*phi) + C^2*(0.0020*I*Deg2 + 0.41)*e^(4*I*phi) + 0.035*C*e^(4*I*phi) + 0.00098*e^(4*I*phi))*gamma_f + (-0.50*I*C^6*Deg2*(e^(4*I*phi) - 1)^2 + 2*I*C^5*Deg2*e^(4*I*phi) + ((0.62*I*Deg2 + 1.5)*e^(4*I*phi) - 0.25*e^(8*I*phi) - 0.25)*C^4 + C^3*(0.062*I*Deg2 + 1.6)*e^(4*I*phi) + C^2*(0.0020*I*Deg2 + 0.41)*e^(4*I*phi) + 0.035*C*e^(4*I*phi) + 0.00098*e^(4*I*phi))*gamma_g)"
      ]
     },
     "metadata": {},
     "output_type": "display_data"
    },
    {
     "name": "stdout",
     "output_type": "stream",
     "text": [
      "symround: Deleted coefficient 1.1e-16\n",
      "symround: Deleted coefficient 1.1e-16\n"
     ]
    },
    {
     "data": {
      "text/html": [
       "<html><script type=\"math/tex; mode=display\">\\newcommand{\\Bold}[1]{\\mathbf{#1}}\\frac{0.50 \\, {\\left(C^{8} {{{\\Delta e}}_{{  2}}^\\gamma}^{2} {\\left(e^{\\left(4 i \\, {\\phi}\\right)} - 1\\right)}^{2} - 4 \\, C^{7} {{{\\Delta e}}_{{  2}}^\\gamma}^{2} e^{\\left(4 i \\, {\\phi}\\right)} + {\\left({\\left(-1.2 \\, {{{\\Delta e}}_{{  2}}^\\gamma} + 6 i\\right)} e^{\\left(4 i \\, {\\phi}\\right)} - i \\, e^{\\left(8 i \\, {\\phi}\\right)} - i\\right)} C^{6} {{{\\Delta e}}_{{  2}}^\\gamma} + C^{5} {{{\\Delta e}}_{{  2}}^\\gamma} {\\left(-0.12 \\, {{{\\Delta e}}_{{  2}}^\\gamma} + 6.5i\\right)} e^{\\left(4 i \\, {\\phi}\\right)} + {\\left({\\left(-0.0039 \\, {{{\\Delta e}}_{{  2}}^\\gamma}^{2} + 1.6i \\, {{{\\Delta e}}_{{  2}}^\\gamma} + 3.5\\right)} e^{\\left(4 i \\, {\\phi}\\right)} - 0.25 \\, e^{\\left(8 i \\, {\\phi}\\right)} - 0.25\\right)} C^{4} + C^{3} {\\left(0.14i \\, {{{\\Delta e}}_{{  2}}^\\gamma} + 2.5\\right)} e^{\\left(4 i \\, {\\phi}\\right)} + C^{2} {\\left(0.0039i \\, {{{\\Delta e}}_{{  2}}^\\gamma} + 0.52\\right)} e^{\\left(4 i \\, {\\phi}\\right)} + 0.039 \\, C e^{\\left(4 i \\, {\\phi}\\right)} + 0.00098 \\, e^{\\left(4 i \\, {\\phi}\\right)}\\right)} {\\Omega}^{2}}{{\\left({\\left(C^{8} {{{\\Delta e}}_{{  2}}^\\gamma}^{2} {\\left(e^{\\left(4 i \\, {\\phi}\\right)} - 1\\right)}^{2} - 4 \\, C^{7} {{{\\Delta e}}_{{  2}}^\\gamma}^{2} e^{\\left(4 i \\, {\\phi}\\right)} + {\\left({\\left(-1.2 \\, {{{\\Delta e}}_{{  2}}^\\gamma} + 6 i\\right)} e^{\\left(4 i \\, {\\phi}\\right)} - i \\, e^{\\left(8 i \\, {\\phi}\\right)} - i\\right)} C^{6} {{{\\Delta e}}_{{  2}}^\\gamma} + C^{5} {{{\\Delta e}}_{{  2}}^\\gamma} {\\left(-0.12 \\, {{{\\Delta e}}_{{  2}}^\\gamma} + 6.5i\\right)} e^{\\left(4 i \\, {\\phi}\\right)} + {\\left({\\left(-0.0039 \\, {{{\\Delta e}}_{{  2}}^\\gamma}^{2} + 1.6i \\, {{{\\Delta e}}_{{  2}}^\\gamma} + 3.5\\right)} e^{\\left(4 i \\, {\\phi}\\right)} - 0.25 \\, e^{\\left(8 i \\, {\\phi}\\right)} - 0.25\\right)} C^{4} + C^{3} {\\left(0.14i \\, {{{\\Delta e}}_{{  2}}^\\gamma} + 2.5\\right)} e^{\\left(4 i \\, {\\phi}\\right)} + C^{2} {\\left(0.0039i \\, {{{\\Delta e}}_{{  2}}^\\gamma} + 0.52\\right)} e^{\\left(4 i \\, {\\phi}\\right)} + 0.039 \\, C e^{\\left(4 i \\, {\\phi}\\right)} + 0.00098 \\, e^{\\left(4 i \\, {\\phi}\\right)}\\right)} C {{{\\Delta E}}^\\gamma} + {\\left(2 i \\, C^{7} {{{\\Delta e}}_{{  2}}^\\gamma}^{2} + 1.2i \\, C^{6} {{{\\Delta e}}_{{  2}}^\\gamma}^{2} + C^{5} {{{\\Delta e}}_{{  2}}^\\gamma} {\\left(0.19i \\, {{{\\Delta e}}_{{  2}}^\\gamma} + 3.5\\right)} + C^{4} {{{\\Delta e}}_{{  2}}^\\gamma} {\\left(0.0078i \\, {{{\\Delta e}}_{{  2}}^\\gamma} + 1.8\\right)} + C^{3} {\\left(0.22 \\, {{{\\Delta e}}_{{  2}}^\\gamma} - 1.5i\\right)} + C^{2} {\\left(0.0078 \\, {{{\\Delta e}}_{{  2}}^\\gamma} - 0.59i\\right)} - 0.062i \\, C - 0.0020i\\right)} R_{f} e^{\\left(4 i \\, {\\phi}\\right)}\\right)} C {\\gamma} + {\\left(-0.50i \\, C^{8} {{{\\Delta e}}_{{  2}}^\\gamma}^{2} {\\left(e^{\\left(4 i \\, {\\phi}\\right)} - 1\\right)}^{2} + 2 i \\, C^{7} {{{\\Delta e}}_{{  2}}^\\gamma}^{2} e^{\\left(4 i \\, {\\phi}\\right)} + {\\left({\\left(0.62i \\, {{{\\Delta e}}_{{  2}}^\\gamma} + 3\\right)} e^{\\left(4 i \\, {\\phi}\\right)} - 0.50 \\, e^{\\left(8 i \\, {\\phi}\\right)} - 0.50\\right)} C^{6} {{{\\Delta e}}_{{  2}}^\\gamma} + C^{5} {{{\\Delta e}}_{{  2}}^\\gamma} {\\left(0.062i \\, {{{\\Delta e}}_{{  2}}^\\gamma} + 3.2\\right)} e^{\\left(4 i \\, {\\phi}\\right)} + {\\left({\\left(0.0020i \\, {{{\\Delta e}}_{{  2}}^\\gamma}^{2} + 0.81 \\, {{{\\Delta e}}_{{  2}}^\\gamma} - 1.8i\\right)} e^{\\left(4 i \\, {\\phi}\\right)} + 0.12i \\, e^{\\left(8 i \\, {\\phi}\\right)} + 0.12i\\right)} C^{4} + C^{3} {\\left(0.070 \\, {{{\\Delta e}}_{{  2}}^\\gamma} - 1.2i\\right)} e^{\\left(4 i \\, {\\phi}\\right)} + C^{2} {\\left(0.0020 \\, {{{\\Delta e}}_{{  2}}^\\gamma} - 0.26i\\right)} e^{\\left(4 i \\, {\\phi}\\right)} - 0.020i \\, C e^{\\left(4 i \\, {\\phi}\\right)} - 0.00049i \\, e^{\\left(4 i \\, {\\phi}\\right)}\\right)} {\\gamma_f} + {\\left(-0.50i \\, C^{8} {{{\\Delta e}}_{{  2}}^\\gamma}^{2} {\\left(e^{\\left(4 i \\, {\\phi}\\right)} - 1\\right)}^{2} + 2 i \\, C^{7} {{{\\Delta e}}_{{  2}}^\\gamma}^{2} e^{\\left(4 i \\, {\\phi}\\right)} + {\\left({\\left(0.62i \\, {{{\\Delta e}}_{{  2}}^\\gamma} + 3\\right)} e^{\\left(4 i \\, {\\phi}\\right)} - 0.50 \\, e^{\\left(8 i \\, {\\phi}\\right)} - 0.50\\right)} C^{6} {{{\\Delta e}}_{{  2}}^\\gamma} + C^{5} {{{\\Delta e}}_{{  2}}^\\gamma} {\\left(0.062i \\, {{{\\Delta e}}_{{  2}}^\\gamma} + 3.2\\right)} e^{\\left(4 i \\, {\\phi}\\right)} + {\\left({\\left(0.0020i \\, {{{\\Delta e}}_{{  2}}^\\gamma}^{2} + 0.81 \\, {{{\\Delta e}}_{{  2}}^\\gamma} - 1.8i\\right)} e^{\\left(4 i \\, {\\phi}\\right)} + 0.12i \\, e^{\\left(8 i \\, {\\phi}\\right)} + 0.12i\\right)} C^{4} + C^{3} {\\left(0.070 \\, {{{\\Delta e}}_{{  2}}^\\gamma} - 1.2i\\right)} e^{\\left(4 i \\, {\\phi}\\right)} + C^{2} {\\left(0.0020 \\, {{{\\Delta e}}_{{  2}}^\\gamma} - 0.26i\\right)} e^{\\left(4 i \\, {\\phi}\\right)} - 0.020i \\, C e^{\\left(4 i \\, {\\phi}\\right)} - 0.00049i \\, e^{\\left(4 i \\, {\\phi}\\right)}\\right)} {\\gamma_g}}</script></html>"
      ],
      "text/latex": [
       "$$\\newcommand{\\Bold}[1]{\\mathbf{#1}}\\frac{0.50 \\, {\\left(C^{8} {{{\\Delta e}}_{{  2}}^\\gamma}^{2} {\\left(e^{\\left(4 i \\, {\\phi}\\right)} - 1\\right)}^{2} - 4 \\, C^{7} {{{\\Delta e}}_{{  2}}^\\gamma}^{2} e^{\\left(4 i \\, {\\phi}\\right)} + {\\left({\\left(-1.2 \\, {{{\\Delta e}}_{{  2}}^\\gamma} + 6 i\\right)} e^{\\left(4 i \\, {\\phi}\\right)} - i \\, e^{\\left(8 i \\, {\\phi}\\right)} - i\\right)} C^{6} {{{\\Delta e}}_{{  2}}^\\gamma} + C^{5} {{{\\Delta e}}_{{  2}}^\\gamma} {\\left(-0.12 \\, {{{\\Delta e}}_{{  2}}^\\gamma} + 6.5i\\right)} e^{\\left(4 i \\, {\\phi}\\right)} + {\\left({\\left(-0.0039 \\, {{{\\Delta e}}_{{  2}}^\\gamma}^{2} + 1.6i \\, {{{\\Delta e}}_{{  2}}^\\gamma} + 3.5\\right)} e^{\\left(4 i \\, {\\phi}\\right)} - 0.25 \\, e^{\\left(8 i \\, {\\phi}\\right)} - 0.25\\right)} C^{4} + C^{3} {\\left(0.14i \\, {{{\\Delta e}}_{{  2}}^\\gamma} + 2.5\\right)} e^{\\left(4 i \\, {\\phi}\\right)} + C^{2} {\\left(0.0039i \\, {{{\\Delta e}}_{{  2}}^\\gamma} + 0.52\\right)} e^{\\left(4 i \\, {\\phi}\\right)} + 0.039 \\, C e^{\\left(4 i \\, {\\phi}\\right)} + 0.00098 \\, e^{\\left(4 i \\, {\\phi}\\right)}\\right)} {\\Omega}^{2}}{{\\left({\\left(C^{8} {{{\\Delta e}}_{{  2}}^\\gamma}^{2} {\\left(e^{\\left(4 i \\, {\\phi}\\right)} - 1\\right)}^{2} - 4 \\, C^{7} {{{\\Delta e}}_{{  2}}^\\gamma}^{2} e^{\\left(4 i \\, {\\phi}\\right)} + {\\left({\\left(-1.2 \\, {{{\\Delta e}}_{{  2}}^\\gamma} + 6 i\\right)} e^{\\left(4 i \\, {\\phi}\\right)} - i \\, e^{\\left(8 i \\, {\\phi}\\right)} - i\\right)} C^{6} {{{\\Delta e}}_{{  2}}^\\gamma} + C^{5} {{{\\Delta e}}_{{  2}}^\\gamma} {\\left(-0.12 \\, {{{\\Delta e}}_{{  2}}^\\gamma} + 6.5i\\right)} e^{\\left(4 i \\, {\\phi}\\right)} + {\\left({\\left(-0.0039 \\, {{{\\Delta e}}_{{  2}}^\\gamma}^{2} + 1.6i \\, {{{\\Delta e}}_{{  2}}^\\gamma} + 3.5\\right)} e^{\\left(4 i \\, {\\phi}\\right)} - 0.25 \\, e^{\\left(8 i \\, {\\phi}\\right)} - 0.25\\right)} C^{4} + C^{3} {\\left(0.14i \\, {{{\\Delta e}}_{{  2}}^\\gamma} + 2.5\\right)} e^{\\left(4 i \\, {\\phi}\\right)} + C^{2} {\\left(0.0039i \\, {{{\\Delta e}}_{{  2}}^\\gamma} + 0.52\\right)} e^{\\left(4 i \\, {\\phi}\\right)} + 0.039 \\, C e^{\\left(4 i \\, {\\phi}\\right)} + 0.00098 \\, e^{\\left(4 i \\, {\\phi}\\right)}\\right)} C {{{\\Delta E}}^\\gamma} + {\\left(2 i \\, C^{7} {{{\\Delta e}}_{{  2}}^\\gamma}^{2} + 1.2i \\, C^{6} {{{\\Delta e}}_{{  2}}^\\gamma}^{2} + C^{5} {{{\\Delta e}}_{{  2}}^\\gamma} {\\left(0.19i \\, {{{\\Delta e}}_{{  2}}^\\gamma} + 3.5\\right)} + C^{4} {{{\\Delta e}}_{{  2}}^\\gamma} {\\left(0.0078i \\, {{{\\Delta e}}_{{  2}}^\\gamma} + 1.8\\right)} + C^{3} {\\left(0.22 \\, {{{\\Delta e}}_{{  2}}^\\gamma} - 1.5i\\right)} + C^{2} {\\left(0.0078 \\, {{{\\Delta e}}_{{  2}}^\\gamma} - 0.59i\\right)} - 0.062i \\, C - 0.0020i\\right)} R_{f} e^{\\left(4 i \\, {\\phi}\\right)}\\right)} C {\\gamma} + {\\left(-0.50i \\, C^{8} {{{\\Delta e}}_{{  2}}^\\gamma}^{2} {\\left(e^{\\left(4 i \\, {\\phi}\\right)} - 1\\right)}^{2} + 2 i \\, C^{7} {{{\\Delta e}}_{{  2}}^\\gamma}^{2} e^{\\left(4 i \\, {\\phi}\\right)} + {\\left({\\left(0.62i \\, {{{\\Delta e}}_{{  2}}^\\gamma} + 3\\right)} e^{\\left(4 i \\, {\\phi}\\right)} - 0.50 \\, e^{\\left(8 i \\, {\\phi}\\right)} - 0.50\\right)} C^{6} {{{\\Delta e}}_{{  2}}^\\gamma} + C^{5} {{{\\Delta e}}_{{  2}}^\\gamma} {\\left(0.062i \\, {{{\\Delta e}}_{{  2}}^\\gamma} + 3.2\\right)} e^{\\left(4 i \\, {\\phi}\\right)} + {\\left({\\left(0.0020i \\, {{{\\Delta e}}_{{  2}}^\\gamma}^{2} + 0.81 \\, {{{\\Delta e}}_{{  2}}^\\gamma} - 1.8i\\right)} e^{\\left(4 i \\, {\\phi}\\right)} + 0.12i \\, e^{\\left(8 i \\, {\\phi}\\right)} + 0.12i\\right)} C^{4} + C^{3} {\\left(0.070 \\, {{{\\Delta e}}_{{  2}}^\\gamma} - 1.2i\\right)} e^{\\left(4 i \\, {\\phi}\\right)} + C^{2} {\\left(0.0020 \\, {{{\\Delta e}}_{{  2}}^\\gamma} - 0.26i\\right)} e^{\\left(4 i \\, {\\phi}\\right)} - 0.020i \\, C e^{\\left(4 i \\, {\\phi}\\right)} - 0.00049i \\, e^{\\left(4 i \\, {\\phi}\\right)}\\right)} {\\gamma_f} + {\\left(-0.50i \\, C^{8} {{{\\Delta e}}_{{  2}}^\\gamma}^{2} {\\left(e^{\\left(4 i \\, {\\phi}\\right)} - 1\\right)}^{2} + 2 i \\, C^{7} {{{\\Delta e}}_{{  2}}^\\gamma}^{2} e^{\\left(4 i \\, {\\phi}\\right)} + {\\left({\\left(0.62i \\, {{{\\Delta e}}_{{  2}}^\\gamma} + 3\\right)} e^{\\left(4 i \\, {\\phi}\\right)} - 0.50 \\, e^{\\left(8 i \\, {\\phi}\\right)} - 0.50\\right)} C^{6} {{{\\Delta e}}_{{  2}}^\\gamma} + C^{5} {{{\\Delta e}}_{{  2}}^\\gamma} {\\left(0.062i \\, {{{\\Delta e}}_{{  2}}^\\gamma} + 3.2\\right)} e^{\\left(4 i \\, {\\phi}\\right)} + {\\left({\\left(0.0020i \\, {{{\\Delta e}}_{{  2}}^\\gamma}^{2} + 0.81 \\, {{{\\Delta e}}_{{  2}}^\\gamma} - 1.8i\\right)} e^{\\left(4 i \\, {\\phi}\\right)} + 0.12i \\, e^{\\left(8 i \\, {\\phi}\\right)} + 0.12i\\right)} C^{4} + C^{3} {\\left(0.070 \\, {{{\\Delta e}}_{{  2}}^\\gamma} - 1.2i\\right)} e^{\\left(4 i \\, {\\phi}\\right)} + C^{2} {\\left(0.0020 \\, {{{\\Delta e}}_{{  2}}^\\gamma} - 0.26i\\right)} e^{\\left(4 i \\, {\\phi}\\right)} - 0.020i \\, C e^{\\left(4 i \\, {\\phi}\\right)} - 0.00049i \\, e^{\\left(4 i \\, {\\phi}\\right)}\\right)} {\\gamma_g}}$$"
      ],
      "text/plain": [
       "0.50*(C^8*Deg2^2*(e^(4*I*phi) - 1)^2 - 4*C^7*Deg2^2*e^(4*I*phi) + ((-1.2*Deg2 + 6*I)*e^(4*I*phi) - I*e^(8*I*phi) - I)*C^6*Deg2 + C^5*Deg2*(-0.12*Deg2 + 6.5*I)*e^(4*I*phi) + ((-0.0039*Deg2^2 + 1.6*I*Deg2 + 3.5)*e^(4*I*phi) - 0.25*e^(8*I*phi) - 0.25)*C^4 + C^3*(0.14*I*Deg2 + 2.5)*e^(4*I*phi) + C^2*(0.0039*I*Deg2 + 0.52)*e^(4*I*phi) + 0.039*C*e^(4*I*phi) + 0.00098*e^(4*I*phi))*Omega^2/(((C^8*Deg2^2*(e^(4*I*phi) - 1)^2 - 4*C^7*Deg2^2*e^(4*I*phi) + ((-1.2*Deg2 + 6*I)*e^(4*I*phi) - I*e^(8*I*phi) - I)*C^6*Deg2 + C^5*Deg2*(-0.12*Deg2 + 6.5*I)*e^(4*I*phi) + ((-0.0039*Deg2^2 + 1.6*I*Deg2 + 3.5)*e^(4*I*phi) - 0.25*e^(8*I*phi) - 0.25)*C^4 + C^3*(0.14*I*Deg2 + 2.5)*e^(4*I*phi) + C^2*(0.0039*I*Deg2 + 0.52)*e^(4*I*phi) + 0.039*C*e^(4*I*phi) + 0.00098*e^(4*I*phi))*C*DEg + (2*I*C^7*Deg2^2 + 1.2*I*C^6*Deg2^2 + C^5*Deg2*(0.19*I*Deg2 + 3.5) + C^4*Deg2*(0.0078*I*Deg2 + 1.8) + C^3*(0.22*Deg2 - 1.5*I) + C^2*(0.0078*Deg2 - 0.59*I) - 0.062*I*C - 0.0020*I)*R_f*e^(4*I*phi))*C*gamma + (-0.50*I*C^8*Deg2^2*(e^(4*I*phi) - 1)^2 + 2*I*C^7*Deg2^2*e^(4*I*phi) + ((0.62*I*Deg2 + 3)*e^(4*I*phi) - 0.50*e^(8*I*phi) - 0.50)*C^6*Deg2 + C^5*Deg2*(0.062*I*Deg2 + 3.2)*e^(4*I*phi) + ((0.0020*I*Deg2^2 + 0.81*Deg2 - 1.8*I)*e^(4*I*phi) + 0.12*I*e^(8*I*phi) + 0.12*I)*C^4 + C^3*(0.070*Deg2 - 1.2*I)*e^(4*I*phi) + C^2*(0.0020*Deg2 - 0.26*I)*e^(4*I*phi) - 0.020*I*C*e^(4*I*phi) - 0.00049*I*e^(4*I*phi))*gamma_f + (-0.50*I*C^8*Deg2^2*(e^(4*I*phi) - 1)^2 + 2*I*C^7*Deg2^2*e^(4*I*phi) + ((0.62*I*Deg2 + 3)*e^(4*I*phi) - 0.50*e^(8*I*phi) - 0.50)*C^6*Deg2 + C^5*Deg2*(0.062*I*Deg2 + 3.2)*e^(4*I*phi) + ((0.0020*I*Deg2^2 + 0.81*Deg2 - 1.8*I)*e^(4*I*phi) + 0.12*I*e^(8*I*phi) + 0.12*I)*C^4 + C^3*(0.070*Deg2 - 1.2*I)*e^(4*I*phi) + C^2*(0.0020*Deg2 - 0.26*I)*e^(4*I*phi) - 0.020*I*C*e^(4*I*phi) - 0.00049*I*e^(4*I*phi))*gamma_g)"
      ]
     },
     "metadata": {},
     "output_type": "display_data"
    },
    {
     "name": "stdout",
     "output_type": "stream",
     "text": [
      "symround: Deleted coefficient 1.1e-16\n",
      "symround: Deleted coefficient 1.1e-16\n"
     ]
    },
    {
     "data": {
      "text/html": [
       "<html><script type=\"math/tex; mode=display\">\\newcommand{\\Bold}[1]{\\mathbf{#1}}\\frac{0.50 \\, {\\left(C^{6} {{{\\Delta e}}_{{  1}}^\\gamma} {\\left(e^{\\left(4 i \\, {\\phi}\\right)} - 1\\right)}^{2} - 4 \\, C^{5} {{{\\Delta e}}_{{  1}}^\\gamma} e^{\\left(4 i \\, {\\phi}\\right)} + {\\left({\\left(-1.2 \\, {{{\\Delta e}}_{{  1}}^\\gamma} + 3 i\\right)} e^{\\left(4 i \\, {\\phi}\\right)} - 0.50i \\, e^{\\left(8 i \\, {\\phi}\\right)} - 0.50i\\right)} C^{4} + C^{3} {\\left(-0.12 \\, {{{\\Delta e}}_{{  1}}^\\gamma} + 3.2i\\right)} e^{\\left(4 i \\, {\\phi}\\right)} + C^{2} {\\left(-0.0039 \\, {{{\\Delta e}}_{{  1}}^\\gamma} + 0.81i\\right)} e^{\\left(4 i \\, {\\phi}\\right)} + 0.070i \\, C e^{\\left(4 i \\, {\\phi}\\right)} + 0.0020i \\, e^{\\left(4 i \\, {\\phi}\\right)}\\right)} {\\Omega}^{2}}{{\\left({\\left(C^{6} {{{\\Delta e}}_{{  1}}^\\gamma} {\\left(e^{\\left(4 i \\, {\\phi}\\right)} - 1\\right)}^{2} - 4 \\, C^{5} {{{\\Delta e}}_{{  1}}^\\gamma} e^{\\left(4 i \\, {\\phi}\\right)} + {\\left({\\left(-1.2 \\, {{{\\Delta e}}_{{  1}}^\\gamma} + 3 i\\right)} e^{\\left(4 i \\, {\\phi}\\right)} - 0.50i \\, e^{\\left(8 i \\, {\\phi}\\right)} - 0.50i\\right)} C^{4} + C^{3} {\\left(-0.12 \\, {{{\\Delta e}}_{{  1}}^\\gamma} + 3.2i\\right)} e^{\\left(4 i \\, {\\phi}\\right)} + C^{2} {\\left(-0.0039 \\, {{{\\Delta e}}_{{  1}}^\\gamma} + 0.81i\\right)} e^{\\left(4 i \\, {\\phi}\\right)} + 0.070i \\, C e^{\\left(4 i \\, {\\phi}\\right)} + 0.0020i \\, e^{\\left(4 i \\, {\\phi}\\right)}\\right)} C {{{\\Delta E}}^\\gamma} + {\\left(2 i \\, C^{5} {{{\\Delta e}}_{{  1}}^\\gamma} + 1.2i \\, C^{4} {{{\\Delta e}}_{{  1}}^\\gamma} + C^{3} {\\left(0.19i \\, {{{\\Delta e}}_{{  1}}^\\gamma} + 2\\right)} + C^{2} {\\left(0.0078i \\, {{{\\Delta e}}_{{  1}}^\\gamma} + 0.88\\right)} + 0.11 \\, C + 0.0039\\right)} R_{f} e^{\\left(4 i \\, {\\phi}\\right)}\\right)} C {\\gamma} + {\\left(-0.50i \\, C^{6} {{{\\Delta e}}_{{  1}}^\\gamma} {\\left(e^{\\left(4 i \\, {\\phi}\\right)} - 1\\right)}^{2} + 2 i \\, C^{5} {{{\\Delta e}}_{{  1}}^\\gamma} e^{\\left(4 i \\, {\\phi}\\right)} + {\\left({\\left(0.62i \\, {{{\\Delta e}}_{{  1}}^\\gamma} + 1.5\\right)} e^{\\left(4 i \\, {\\phi}\\right)} - 0.25 \\, e^{\\left(8 i \\, {\\phi}\\right)} - 0.25\\right)} C^{4} + C^{3} {\\left(0.062i \\, {{{\\Delta e}}_{{  1}}^\\gamma} + 1.6\\right)} e^{\\left(4 i \\, {\\phi}\\right)} + C^{2} {\\left(0.0020i \\, {{{\\Delta e}}_{{  1}}^\\gamma} + 0.41\\right)} e^{\\left(4 i \\, {\\phi}\\right)} + 0.035 \\, C e^{\\left(4 i \\, {\\phi}\\right)} + 0.00098 \\, e^{\\left(4 i \\, {\\phi}\\right)}\\right)} {\\gamma_f} + {\\left(-0.50i \\, C^{6} {{{\\Delta e}}_{{  1}}^\\gamma} {\\left(e^{\\left(4 i \\, {\\phi}\\right)} - 1\\right)}^{2} + 2 i \\, C^{5} {{{\\Delta e}}_{{  1}}^\\gamma} e^{\\left(4 i \\, {\\phi}\\right)} + {\\left({\\left(0.62i \\, {{{\\Delta e}}_{{  1}}^\\gamma} + 1.5\\right)} e^{\\left(4 i \\, {\\phi}\\right)} - 0.25 \\, e^{\\left(8 i \\, {\\phi}\\right)} - 0.25\\right)} C^{4} + C^{3} {\\left(0.062i \\, {{{\\Delta e}}_{{  1}}^\\gamma} + 1.6\\right)} e^{\\left(4 i \\, {\\phi}\\right)} + C^{2} {\\left(0.0020i \\, {{{\\Delta e}}_{{  1}}^\\gamma} + 0.41\\right)} e^{\\left(4 i \\, {\\phi}\\right)} + 0.035 \\, C e^{\\left(4 i \\, {\\phi}\\right)} + 0.00098 \\, e^{\\left(4 i \\, {\\phi}\\right)}\\right)} {\\gamma_g}}</script></html>"
      ],
      "text/latex": [
       "$$\\newcommand{\\Bold}[1]{\\mathbf{#1}}\\frac{0.50 \\, {\\left(C^{6} {{{\\Delta e}}_{{  1}}^\\gamma} {\\left(e^{\\left(4 i \\, {\\phi}\\right)} - 1\\right)}^{2} - 4 \\, C^{5} {{{\\Delta e}}_{{  1}}^\\gamma} e^{\\left(4 i \\, {\\phi}\\right)} + {\\left({\\left(-1.2 \\, {{{\\Delta e}}_{{  1}}^\\gamma} + 3 i\\right)} e^{\\left(4 i \\, {\\phi}\\right)} - 0.50i \\, e^{\\left(8 i \\, {\\phi}\\right)} - 0.50i\\right)} C^{4} + C^{3} {\\left(-0.12 \\, {{{\\Delta e}}_{{  1}}^\\gamma} + 3.2i\\right)} e^{\\left(4 i \\, {\\phi}\\right)} + C^{2} {\\left(-0.0039 \\, {{{\\Delta e}}_{{  1}}^\\gamma} + 0.81i\\right)} e^{\\left(4 i \\, {\\phi}\\right)} + 0.070i \\, C e^{\\left(4 i \\, {\\phi}\\right)} + 0.0020i \\, e^{\\left(4 i \\, {\\phi}\\right)}\\right)} {\\Omega}^{2}}{{\\left({\\left(C^{6} {{{\\Delta e}}_{{  1}}^\\gamma} {\\left(e^{\\left(4 i \\, {\\phi}\\right)} - 1\\right)}^{2} - 4 \\, C^{5} {{{\\Delta e}}_{{  1}}^\\gamma} e^{\\left(4 i \\, {\\phi}\\right)} + {\\left({\\left(-1.2 \\, {{{\\Delta e}}_{{  1}}^\\gamma} + 3 i\\right)} e^{\\left(4 i \\, {\\phi}\\right)} - 0.50i \\, e^{\\left(8 i \\, {\\phi}\\right)} - 0.50i\\right)} C^{4} + C^{3} {\\left(-0.12 \\, {{{\\Delta e}}_{{  1}}^\\gamma} + 3.2i\\right)} e^{\\left(4 i \\, {\\phi}\\right)} + C^{2} {\\left(-0.0039 \\, {{{\\Delta e}}_{{  1}}^\\gamma} + 0.81i\\right)} e^{\\left(4 i \\, {\\phi}\\right)} + 0.070i \\, C e^{\\left(4 i \\, {\\phi}\\right)} + 0.0020i \\, e^{\\left(4 i \\, {\\phi}\\right)}\\right)} C {{{\\Delta E}}^\\gamma} + {\\left(2 i \\, C^{5} {{{\\Delta e}}_{{  1}}^\\gamma} + 1.2i \\, C^{4} {{{\\Delta e}}_{{  1}}^\\gamma} + C^{3} {\\left(0.19i \\, {{{\\Delta e}}_{{  1}}^\\gamma} + 2\\right)} + C^{2} {\\left(0.0078i \\, {{{\\Delta e}}_{{  1}}^\\gamma} + 0.88\\right)} + 0.11 \\, C + 0.0039\\right)} R_{f} e^{\\left(4 i \\, {\\phi}\\right)}\\right)} C {\\gamma} + {\\left(-0.50i \\, C^{6} {{{\\Delta e}}_{{  1}}^\\gamma} {\\left(e^{\\left(4 i \\, {\\phi}\\right)} - 1\\right)}^{2} + 2 i \\, C^{5} {{{\\Delta e}}_{{  1}}^\\gamma} e^{\\left(4 i \\, {\\phi}\\right)} + {\\left({\\left(0.62i \\, {{{\\Delta e}}_{{  1}}^\\gamma} + 1.5\\right)} e^{\\left(4 i \\, {\\phi}\\right)} - 0.25 \\, e^{\\left(8 i \\, {\\phi}\\right)} - 0.25\\right)} C^{4} + C^{3} {\\left(0.062i \\, {{{\\Delta e}}_{{  1}}^\\gamma} + 1.6\\right)} e^{\\left(4 i \\, {\\phi}\\right)} + C^{2} {\\left(0.0020i \\, {{{\\Delta e}}_{{  1}}^\\gamma} + 0.41\\right)} e^{\\left(4 i \\, {\\phi}\\right)} + 0.035 \\, C e^{\\left(4 i \\, {\\phi}\\right)} + 0.00098 \\, e^{\\left(4 i \\, {\\phi}\\right)}\\right)} {\\gamma_f} + {\\left(-0.50i \\, C^{6} {{{\\Delta e}}_{{  1}}^\\gamma} {\\left(e^{\\left(4 i \\, {\\phi}\\right)} - 1\\right)}^{2} + 2 i \\, C^{5} {{{\\Delta e}}_{{  1}}^\\gamma} e^{\\left(4 i \\, {\\phi}\\right)} + {\\left({\\left(0.62i \\, {{{\\Delta e}}_{{  1}}^\\gamma} + 1.5\\right)} e^{\\left(4 i \\, {\\phi}\\right)} - 0.25 \\, e^{\\left(8 i \\, {\\phi}\\right)} - 0.25\\right)} C^{4} + C^{3} {\\left(0.062i \\, {{{\\Delta e}}_{{  1}}^\\gamma} + 1.6\\right)} e^{\\left(4 i \\, {\\phi}\\right)} + C^{2} {\\left(0.0020i \\, {{{\\Delta e}}_{{  1}}^\\gamma} + 0.41\\right)} e^{\\left(4 i \\, {\\phi}\\right)} + 0.035 \\, C e^{\\left(4 i \\, {\\phi}\\right)} + 0.00098 \\, e^{\\left(4 i \\, {\\phi}\\right)}\\right)} {\\gamma_g}}$$"
      ],
      "text/plain": [
       "0.50*(C^6*Deg1*(e^(4*I*phi) - 1)^2 - 4*C^5*Deg1*e^(4*I*phi) + ((-1.2*Deg1 + 3*I)*e^(4*I*phi) - 0.50*I*e^(8*I*phi) - 0.50*I)*C^4 + C^3*(-0.12*Deg1 + 3.2*I)*e^(4*I*phi) + C^2*(-0.0039*Deg1 + 0.81*I)*e^(4*I*phi) + 0.070*I*C*e^(4*I*phi) + 0.0020*I*e^(4*I*phi))*Omega^2/(((C^6*Deg1*(e^(4*I*phi) - 1)^2 - 4*C^5*Deg1*e^(4*I*phi) + ((-1.2*Deg1 + 3*I)*e^(4*I*phi) - 0.50*I*e^(8*I*phi) - 0.50*I)*C^4 + C^3*(-0.12*Deg1 + 3.2*I)*e^(4*I*phi) + C^2*(-0.0039*Deg1 + 0.81*I)*e^(4*I*phi) + 0.070*I*C*e^(4*I*phi) + 0.0020*I*e^(4*I*phi))*C*DEg + (2*I*C^5*Deg1 + 1.2*I*C^4*Deg1 + C^3*(0.19*I*Deg1 + 2) + C^2*(0.0078*I*Deg1 + 0.88) + 0.11*C + 0.0039)*R_f*e^(4*I*phi))*C*gamma + (-0.50*I*C^6*Deg1*(e^(4*I*phi) - 1)^2 + 2*I*C^5*Deg1*e^(4*I*phi) + ((0.62*I*Deg1 + 1.5)*e^(4*I*phi) - 0.25*e^(8*I*phi) - 0.25)*C^4 + C^3*(0.062*I*Deg1 + 1.6)*e^(4*I*phi) + C^2*(0.0020*I*Deg1 + 0.41)*e^(4*I*phi) + 0.035*C*e^(4*I*phi) + 0.00098*e^(4*I*phi))*gamma_f + (-0.50*I*C^6*Deg1*(e^(4*I*phi) - 1)^2 + 2*I*C^5*Deg1*e^(4*I*phi) + ((0.62*I*Deg1 + 1.5)*e^(4*I*phi) - 0.25*e^(8*I*phi) - 0.25)*C^4 + C^3*(0.062*I*Deg1 + 1.6)*e^(4*I*phi) + C^2*(0.0020*I*Deg1 + 0.41)*e^(4*I*phi) + 0.035*C*e^(4*I*phi) + 0.00098*e^(4*I*phi))*gamma_g)"
      ]
     },
     "metadata": {},
     "output_type": "display_data"
    },
    {
     "name": "stdout",
     "output_type": "stream",
     "text": [
      "symround: Deleted coefficient 1.1e-16\n",
      "symround: Deleted coefficient 1.1e-16\n"
     ]
    },
    {
     "data": {
      "text/html": [
       "<html><script type=\"math/tex; mode=display\">\\newcommand{\\Bold}[1]{\\mathbf{#1}}\\frac{0.50 \\, {\\left(C^{8} {{{\\Delta e}}_{{  1}}^\\gamma} {{{\\Delta e}}_{{  2}}^\\gamma} {\\left(e^{\\left(4 i \\, {\\phi}\\right)} - 1\\right)}^{2} - 4 \\, C^{7} {{{\\Delta e}}_{{  1}}^\\gamma} {{{\\Delta e}}_{{  2}}^\\gamma} e^{\\left(4 i \\, {\\phi}\\right)} + {\\left({\\left({\\left(-1.2 \\, {{{\\Delta e}}_{{  2}}^\\gamma} + 3 i\\right)} e^{\\left(4 i \\, {\\phi}\\right)} - 0.50i \\, e^{\\left(8 i \\, {\\phi}\\right)} - 0.50i\\right)} {{{\\Delta e}}_{{  1}}^\\gamma} + {{{\\Delta e}}_{{  2}}^\\gamma} {\\left(-0.50i \\, e^{\\left(8 i \\, {\\phi}\\right)} + 3 i \\, e^{\\left(4 i \\, {\\phi}\\right)} - 0.50i\\right)}\\right)} C^{6} + {\\left({{{\\Delta e}}_{{  1}}^\\gamma} {\\left(-0.12 \\, {{{\\Delta e}}_{{  2}}^\\gamma} + 3.2i\\right)} + 3.2i \\, {{{\\Delta e}}_{{  2}}^\\gamma}\\right)} C^{5} e^{\\left(4 i \\, {\\phi}\\right)} + {\\left({\\left(-0.0039 \\, {{{\\Delta e}}_{{  1}}^\\gamma} {{{\\Delta e}}_{{  2}}^\\gamma} + 0.81i \\, {{{\\Delta e}}_{{  1}}^\\gamma} + 0.81i \\, {{{\\Delta e}}_{{  2}}^\\gamma} + 3.2\\right)} e^{\\left(4 i \\, {\\phi}\\right)} - 0.25 \\, e^{\\left(8 i \\, {\\phi}\\right)} - 0.25\\right)} C^{4} + C^{3} {\\left(0.070i \\, {{{\\Delta e}}_{{  1}}^\\gamma} + 0.070i \\, {{{\\Delta e}}_{{  2}}^\\gamma} + 2.5\\right)} e^{\\left(4 i \\, {\\phi}\\right)} + C^{2} {\\left(0.0020i \\, {{{\\Delta e}}_{{  1}}^\\gamma} + 0.0020i \\, {{{\\Delta e}}_{{  2}}^\\gamma} + 0.52\\right)} e^{\\left(4 i \\, {\\phi}\\right)} + 0.039 \\, C e^{\\left(4 i \\, {\\phi}\\right)} + 0.00098 \\, e^{\\left(4 i \\, {\\phi}\\right)}\\right)} {\\Omega}^{2}}{{\\left({\\left(C^{8} {{{\\Delta e}}_{{  1}}^\\gamma} {{{\\Delta e}}_{{  2}}^\\gamma} {\\left(e^{\\left(4 i \\, {\\phi}\\right)} - 1\\right)}^{2} - 4 \\, C^{7} {{{\\Delta e}}_{{  1}}^\\gamma} {{{\\Delta e}}_{{  2}}^\\gamma} e^{\\left(4 i \\, {\\phi}\\right)} + {\\left({\\left({\\left(-1.2 \\, {{{\\Delta e}}_{{  2}}^\\gamma} + 3 i\\right)} e^{\\left(4 i \\, {\\phi}\\right)} - 0.50i \\, e^{\\left(8 i \\, {\\phi}\\right)} - 0.50i\\right)} {{{\\Delta e}}_{{  1}}^\\gamma} + {{{\\Delta e}}_{{  2}}^\\gamma} {\\left(-0.50i \\, e^{\\left(8 i \\, {\\phi}\\right)} + 3 i \\, e^{\\left(4 i \\, {\\phi}\\right)} - 0.50i\\right)}\\right)} C^{6} + {\\left({{{\\Delta e}}_{{  1}}^\\gamma} {\\left(-0.12 \\, {{{\\Delta e}}_{{  2}}^\\gamma} + 3.2i\\right)} + 3.2i \\, {{{\\Delta e}}_{{  2}}^\\gamma}\\right)} C^{5} e^{\\left(4 i \\, {\\phi}\\right)} + {\\left({\\left(-0.0039 \\, {{{\\Delta e}}_{{  1}}^\\gamma} {{{\\Delta e}}_{{  2}}^\\gamma} + 0.81i \\, {{{\\Delta e}}_{{  1}}^\\gamma} + 0.81i \\, {{{\\Delta e}}_{{  2}}^\\gamma} + 3.2\\right)} e^{\\left(4 i \\, {\\phi}\\right)} - 0.25 \\, e^{\\left(8 i \\, {\\phi}\\right)} - 0.25\\right)} C^{4} + C^{3} {\\left(0.070i \\, {{{\\Delta e}}_{{  1}}^\\gamma} + 0.070i \\, {{{\\Delta e}}_{{  2}}^\\gamma} + 2.5\\right)} e^{\\left(4 i \\, {\\phi}\\right)} + C^{2} {\\left(0.0020i \\, {{{\\Delta e}}_{{  1}}^\\gamma} + 0.0020i \\, {{{\\Delta e}}_{{  2}}^\\gamma} + 0.52\\right)} e^{\\left(4 i \\, {\\phi}\\right)} + 0.039 \\, C e^{\\left(4 i \\, {\\phi}\\right)} + 0.00098 \\, e^{\\left(4 i \\, {\\phi}\\right)}\\right)} C {{{\\Delta E}}^\\gamma} + {\\left(2 i \\, C^{7} {{{\\Delta e}}_{{  1}}^\\gamma} {{{\\Delta e}}_{{  2}}^\\gamma} + 1.2i \\, C^{6} {{{\\Delta e}}_{{  1}}^\\gamma} {{{\\Delta e}}_{{  2}}^\\gamma} + {\\left(0.19i \\, {{{\\Delta e}}_{{  1}}^\\gamma} {{{\\Delta e}}_{{  2}}^\\gamma} + 1.8 \\, {{{\\Delta e}}_{{  1}}^\\gamma} + 2 \\, {{{\\Delta e}}_{{  2}}^\\gamma}\\right)} C^{5} + {\\left(0.0078i \\, {{{\\Delta e}}_{{  1}}^\\gamma} {{{\\Delta e}}_{{  2}}^\\gamma} + 0.88 \\, {{{\\Delta e}}_{{  1}}^\\gamma} + 0.88 \\, {{{\\Delta e}}_{{  2}}^\\gamma}\\right)} C^{4} + C^{3} {\\left(0.11 \\, {{{\\Delta e}}_{{  1}}^\\gamma} + 0.11 \\, {{{\\Delta e}}_{{  2}}^\\gamma} - 1.6i\\right)} + C^{2} {\\left(0.0039 \\, {{{\\Delta e}}_{{  1}}^\\gamma} + 0.0039 \\, {{{\\Delta e}}_{{  2}}^\\gamma} - 0.59i\\right)} - 0.062i \\, C - 0.0020i\\right)} R_{f} e^{\\left(4 i \\, {\\phi}\\right)}\\right)} C {\\gamma} + {\\left(-0.50i \\, C^{8} {{{\\Delta e}}_{{  1}}^\\gamma} {{{\\Delta e}}_{{  2}}^\\gamma} {\\left(e^{\\left(4 i \\, {\\phi}\\right)} - 1\\right)}^{2} + 2 i \\, C^{7} {{{\\Delta e}}_{{  1}}^\\gamma} {{{\\Delta e}}_{{  2}}^\\gamma} e^{\\left(4 i \\, {\\phi}\\right)} + {\\left({\\left({\\left(0.62i \\, {{{\\Delta e}}_{{  2}}^\\gamma} + 1.5\\right)} e^{\\left(4 i \\, {\\phi}\\right)} - 0.25 \\, e^{\\left(8 i \\, {\\phi}\\right)} - 0.25\\right)} {{{\\Delta e}}_{{  1}}^\\gamma} + {{{\\Delta e}}_{{  2}}^\\gamma} {\\left(-0.25 \\, e^{\\left(8 i \\, {\\phi}\\right)} + 1.5 \\, e^{\\left(4 i \\, {\\phi}\\right)} - 0.25\\right)}\\right)} C^{6} + {\\left({{{\\Delta e}}_{{  1}}^\\gamma} {\\left(0.062i \\, {{{\\Delta e}}_{{  2}}^\\gamma} + 1.6\\right)} + 1.6 \\, {{{\\Delta e}}_{{  2}}^\\gamma}\\right)} C^{5} e^{\\left(4 i \\, {\\phi}\\right)} + {\\left({\\left(0.0020i \\, {{{\\Delta e}}_{{  1}}^\\gamma} {{{\\Delta e}}_{{  2}}^\\gamma} + 0.41 \\, {{{\\Delta e}}_{{  1}}^\\gamma} + 0.41 \\, {{{\\Delta e}}_{{  2}}^\\gamma} - 1.6i\\right)} e^{\\left(4 i \\, {\\phi}\\right)} + 0.12i \\, e^{\\left(8 i \\, {\\phi}\\right)} + 0.12i\\right)} C^{4} + C^{3} {\\left(0.035 \\, {{{\\Delta e}}_{{  1}}^\\gamma} + 0.035 \\, {{{\\Delta e}}_{{  2}}^\\gamma} - 1.2i\\right)} e^{\\left(4 i \\, {\\phi}\\right)} + C^{2} {\\left(0.00098 \\, {{{\\Delta e}}_{{  1}}^\\gamma} + 0.00098 \\, {{{\\Delta e}}_{{  2}}^\\gamma} - 0.26i\\right)} e^{\\left(4 i \\, {\\phi}\\right)} - 0.020i \\, C e^{\\left(4 i \\, {\\phi}\\right)} - 0.00049i \\, e^{\\left(4 i \\, {\\phi}\\right)}\\right)} {\\gamma_f} + {\\left(-0.50i \\, C^{8} {{{\\Delta e}}_{{  1}}^\\gamma} {{{\\Delta e}}_{{  2}}^\\gamma} {\\left(e^{\\left(4 i \\, {\\phi}\\right)} - 1\\right)}^{2} + 2 i \\, C^{7} {{{\\Delta e}}_{{  1}}^\\gamma} {{{\\Delta e}}_{{  2}}^\\gamma} e^{\\left(4 i \\, {\\phi}\\right)} + {\\left({\\left({\\left(0.62i \\, {{{\\Delta e}}_{{  2}}^\\gamma} + 1.5\\right)} e^{\\left(4 i \\, {\\phi}\\right)} - 0.25 \\, e^{\\left(8 i \\, {\\phi}\\right)} - 0.25\\right)} {{{\\Delta e}}_{{  1}}^\\gamma} + {{{\\Delta e}}_{{  2}}^\\gamma} {\\left(-0.25 \\, e^{\\left(8 i \\, {\\phi}\\right)} + 1.5 \\, e^{\\left(4 i \\, {\\phi}\\right)} - 0.25\\right)}\\right)} C^{6} + {\\left({{{\\Delta e}}_{{  1}}^\\gamma} {\\left(0.062i \\, {{{\\Delta e}}_{{  2}}^\\gamma} + 1.6\\right)} + 1.6 \\, {{{\\Delta e}}_{{  2}}^\\gamma}\\right)} C^{5} e^{\\left(4 i \\, {\\phi}\\right)} + {\\left({\\left(0.0020i \\, {{{\\Delta e}}_{{  1}}^\\gamma} {{{\\Delta e}}_{{  2}}^\\gamma} + 0.41 \\, {{{\\Delta e}}_{{  1}}^\\gamma} + 0.41 \\, {{{\\Delta e}}_{{  2}}^\\gamma} - 1.6i\\right)} e^{\\left(4 i \\, {\\phi}\\right)} + 0.12i \\, e^{\\left(8 i \\, {\\phi}\\right)} + 0.12i\\right)} C^{4} + C^{3} {\\left(0.035 \\, {{{\\Delta e}}_{{  1}}^\\gamma} + 0.035 \\, {{{\\Delta e}}_{{  2}}^\\gamma} - 1.2i\\right)} e^{\\left(4 i \\, {\\phi}\\right)} + C^{2} {\\left(0.00098 \\, {{{\\Delta e}}_{{  1}}^\\gamma} + 0.00098 \\, {{{\\Delta e}}_{{  2}}^\\gamma} - 0.26i\\right)} e^{\\left(4 i \\, {\\phi}\\right)} - 0.020i \\, C e^{\\left(4 i \\, {\\phi}\\right)} - 0.00049i \\, e^{\\left(4 i \\, {\\phi}\\right)}\\right)} {\\gamma_g}}</script></html>"
      ],
      "text/latex": [
       "$$\\newcommand{\\Bold}[1]{\\mathbf{#1}}\\frac{0.50 \\, {\\left(C^{8} {{{\\Delta e}}_{{  1}}^\\gamma} {{{\\Delta e}}_{{  2}}^\\gamma} {\\left(e^{\\left(4 i \\, {\\phi}\\right)} - 1\\right)}^{2} - 4 \\, C^{7} {{{\\Delta e}}_{{  1}}^\\gamma} {{{\\Delta e}}_{{  2}}^\\gamma} e^{\\left(4 i \\, {\\phi}\\right)} + {\\left({\\left({\\left(-1.2 \\, {{{\\Delta e}}_{{  2}}^\\gamma} + 3 i\\right)} e^{\\left(4 i \\, {\\phi}\\right)} - 0.50i \\, e^{\\left(8 i \\, {\\phi}\\right)} - 0.50i\\right)} {{{\\Delta e}}_{{  1}}^\\gamma} + {{{\\Delta e}}_{{  2}}^\\gamma} {\\left(-0.50i \\, e^{\\left(8 i \\, {\\phi}\\right)} + 3 i \\, e^{\\left(4 i \\, {\\phi}\\right)} - 0.50i\\right)}\\right)} C^{6} + {\\left({{{\\Delta e}}_{{  1}}^\\gamma} {\\left(-0.12 \\, {{{\\Delta e}}_{{  2}}^\\gamma} + 3.2i\\right)} + 3.2i \\, {{{\\Delta e}}_{{  2}}^\\gamma}\\right)} C^{5} e^{\\left(4 i \\, {\\phi}\\right)} + {\\left({\\left(-0.0039 \\, {{{\\Delta e}}_{{  1}}^\\gamma} {{{\\Delta e}}_{{  2}}^\\gamma} + 0.81i \\, {{{\\Delta e}}_{{  1}}^\\gamma} + 0.81i \\, {{{\\Delta e}}_{{  2}}^\\gamma} + 3.2\\right)} e^{\\left(4 i \\, {\\phi}\\right)} - 0.25 \\, e^{\\left(8 i \\, {\\phi}\\right)} - 0.25\\right)} C^{4} + C^{3} {\\left(0.070i \\, {{{\\Delta e}}_{{  1}}^\\gamma} + 0.070i \\, {{{\\Delta e}}_{{  2}}^\\gamma} + 2.5\\right)} e^{\\left(4 i \\, {\\phi}\\right)} + C^{2} {\\left(0.0020i \\, {{{\\Delta e}}_{{  1}}^\\gamma} + 0.0020i \\, {{{\\Delta e}}_{{  2}}^\\gamma} + 0.52\\right)} e^{\\left(4 i \\, {\\phi}\\right)} + 0.039 \\, C e^{\\left(4 i \\, {\\phi}\\right)} + 0.00098 \\, e^{\\left(4 i \\, {\\phi}\\right)}\\right)} {\\Omega}^{2}}{{\\left({\\left(C^{8} {{{\\Delta e}}_{{  1}}^\\gamma} {{{\\Delta e}}_{{  2}}^\\gamma} {\\left(e^{\\left(4 i \\, {\\phi}\\right)} - 1\\right)}^{2} - 4 \\, C^{7} {{{\\Delta e}}_{{  1}}^\\gamma} {{{\\Delta e}}_{{  2}}^\\gamma} e^{\\left(4 i \\, {\\phi}\\right)} + {\\left({\\left({\\left(-1.2 \\, {{{\\Delta e}}_{{  2}}^\\gamma} + 3 i\\right)} e^{\\left(4 i \\, {\\phi}\\right)} - 0.50i \\, e^{\\left(8 i \\, {\\phi}\\right)} - 0.50i\\right)} {{{\\Delta e}}_{{  1}}^\\gamma} + {{{\\Delta e}}_{{  2}}^\\gamma} {\\left(-0.50i \\, e^{\\left(8 i \\, {\\phi}\\right)} + 3 i \\, e^{\\left(4 i \\, {\\phi}\\right)} - 0.50i\\right)}\\right)} C^{6} + {\\left({{{\\Delta e}}_{{  1}}^\\gamma} {\\left(-0.12 \\, {{{\\Delta e}}_{{  2}}^\\gamma} + 3.2i\\right)} + 3.2i \\, {{{\\Delta e}}_{{  2}}^\\gamma}\\right)} C^{5} e^{\\left(4 i \\, {\\phi}\\right)} + {\\left({\\left(-0.0039 \\, {{{\\Delta e}}_{{  1}}^\\gamma} {{{\\Delta e}}_{{  2}}^\\gamma} + 0.81i \\, {{{\\Delta e}}_{{  1}}^\\gamma} + 0.81i \\, {{{\\Delta e}}_{{  2}}^\\gamma} + 3.2\\right)} e^{\\left(4 i \\, {\\phi}\\right)} - 0.25 \\, e^{\\left(8 i \\, {\\phi}\\right)} - 0.25\\right)} C^{4} + C^{3} {\\left(0.070i \\, {{{\\Delta e}}_{{  1}}^\\gamma} + 0.070i \\, {{{\\Delta e}}_{{  2}}^\\gamma} + 2.5\\right)} e^{\\left(4 i \\, {\\phi}\\right)} + C^{2} {\\left(0.0020i \\, {{{\\Delta e}}_{{  1}}^\\gamma} + 0.0020i \\, {{{\\Delta e}}_{{  2}}^\\gamma} + 0.52\\right)} e^{\\left(4 i \\, {\\phi}\\right)} + 0.039 \\, C e^{\\left(4 i \\, {\\phi}\\right)} + 0.00098 \\, e^{\\left(4 i \\, {\\phi}\\right)}\\right)} C {{{\\Delta E}}^\\gamma} + {\\left(2 i \\, C^{7} {{{\\Delta e}}_{{  1}}^\\gamma} {{{\\Delta e}}_{{  2}}^\\gamma} + 1.2i \\, C^{6} {{{\\Delta e}}_{{  1}}^\\gamma} {{{\\Delta e}}_{{  2}}^\\gamma} + {\\left(0.19i \\, {{{\\Delta e}}_{{  1}}^\\gamma} {{{\\Delta e}}_{{  2}}^\\gamma} + 1.8 \\, {{{\\Delta e}}_{{  1}}^\\gamma} + 2 \\, {{{\\Delta e}}_{{  2}}^\\gamma}\\right)} C^{5} + {\\left(0.0078i \\, {{{\\Delta e}}_{{  1}}^\\gamma} {{{\\Delta e}}_{{  2}}^\\gamma} + 0.88 \\, {{{\\Delta e}}_{{  1}}^\\gamma} + 0.88 \\, {{{\\Delta e}}_{{  2}}^\\gamma}\\right)} C^{4} + C^{3} {\\left(0.11 \\, {{{\\Delta e}}_{{  1}}^\\gamma} + 0.11 \\, {{{\\Delta e}}_{{  2}}^\\gamma} - 1.6i\\right)} + C^{2} {\\left(0.0039 \\, {{{\\Delta e}}_{{  1}}^\\gamma} + 0.0039 \\, {{{\\Delta e}}_{{  2}}^\\gamma} - 0.59i\\right)} - 0.062i \\, C - 0.0020i\\right)} R_{f} e^{\\left(4 i \\, {\\phi}\\right)}\\right)} C {\\gamma} + {\\left(-0.50i \\, C^{8} {{{\\Delta e}}_{{  1}}^\\gamma} {{{\\Delta e}}_{{  2}}^\\gamma} {\\left(e^{\\left(4 i \\, {\\phi}\\right)} - 1\\right)}^{2} + 2 i \\, C^{7} {{{\\Delta e}}_{{  1}}^\\gamma} {{{\\Delta e}}_{{  2}}^\\gamma} e^{\\left(4 i \\, {\\phi}\\right)} + {\\left({\\left({\\left(0.62i \\, {{{\\Delta e}}_{{  2}}^\\gamma} + 1.5\\right)} e^{\\left(4 i \\, {\\phi}\\right)} - 0.25 \\, e^{\\left(8 i \\, {\\phi}\\right)} - 0.25\\right)} {{{\\Delta e}}_{{  1}}^\\gamma} + {{{\\Delta e}}_{{  2}}^\\gamma} {\\left(-0.25 \\, e^{\\left(8 i \\, {\\phi}\\right)} + 1.5 \\, e^{\\left(4 i \\, {\\phi}\\right)} - 0.25\\right)}\\right)} C^{6} + {\\left({{{\\Delta e}}_{{  1}}^\\gamma} {\\left(0.062i \\, {{{\\Delta e}}_{{  2}}^\\gamma} + 1.6\\right)} + 1.6 \\, {{{\\Delta e}}_{{  2}}^\\gamma}\\right)} C^{5} e^{\\left(4 i \\, {\\phi}\\right)} + {\\left({\\left(0.0020i \\, {{{\\Delta e}}_{{  1}}^\\gamma} {{{\\Delta e}}_{{  2}}^\\gamma} + 0.41 \\, {{{\\Delta e}}_{{  1}}^\\gamma} + 0.41 \\, {{{\\Delta e}}_{{  2}}^\\gamma} - 1.6i\\right)} e^{\\left(4 i \\, {\\phi}\\right)} + 0.12i \\, e^{\\left(8 i \\, {\\phi}\\right)} + 0.12i\\right)} C^{4} + C^{3} {\\left(0.035 \\, {{{\\Delta e}}_{{  1}}^\\gamma} + 0.035 \\, {{{\\Delta e}}_{{  2}}^\\gamma} - 1.2i\\right)} e^{\\left(4 i \\, {\\phi}\\right)} + C^{2} {\\left(0.00098 \\, {{{\\Delta e}}_{{  1}}^\\gamma} + 0.00098 \\, {{{\\Delta e}}_{{  2}}^\\gamma} - 0.26i\\right)} e^{\\left(4 i \\, {\\phi}\\right)} - 0.020i \\, C e^{\\left(4 i \\, {\\phi}\\right)} - 0.00049i \\, e^{\\left(4 i \\, {\\phi}\\right)}\\right)} {\\gamma_f} + {\\left(-0.50i \\, C^{8} {{{\\Delta e}}_{{  1}}^\\gamma} {{{\\Delta e}}_{{  2}}^\\gamma} {\\left(e^{\\left(4 i \\, {\\phi}\\right)} - 1\\right)}^{2} + 2 i \\, C^{7} {{{\\Delta e}}_{{  1}}^\\gamma} {{{\\Delta e}}_{{  2}}^\\gamma} e^{\\left(4 i \\, {\\phi}\\right)} + {\\left({\\left({\\left(0.62i \\, {{{\\Delta e}}_{{  2}}^\\gamma} + 1.5\\right)} e^{\\left(4 i \\, {\\phi}\\right)} - 0.25 \\, e^{\\left(8 i \\, {\\phi}\\right)} - 0.25\\right)} {{{\\Delta e}}_{{  1}}^\\gamma} + {{{\\Delta e}}_{{  2}}^\\gamma} {\\left(-0.25 \\, e^{\\left(8 i \\, {\\phi}\\right)} + 1.5 \\, e^{\\left(4 i \\, {\\phi}\\right)} - 0.25\\right)}\\right)} C^{6} + {\\left({{{\\Delta e}}_{{  1}}^\\gamma} {\\left(0.062i \\, {{{\\Delta e}}_{{  2}}^\\gamma} + 1.6\\right)} + 1.6 \\, {{{\\Delta e}}_{{  2}}^\\gamma}\\right)} C^{5} e^{\\left(4 i \\, {\\phi}\\right)} + {\\left({\\left(0.0020i \\, {{{\\Delta e}}_{{  1}}^\\gamma} {{{\\Delta e}}_{{  2}}^\\gamma} + 0.41 \\, {{{\\Delta e}}_{{  1}}^\\gamma} + 0.41 \\, {{{\\Delta e}}_{{  2}}^\\gamma} - 1.6i\\right)} e^{\\left(4 i \\, {\\phi}\\right)} + 0.12i \\, e^{\\left(8 i \\, {\\phi}\\right)} + 0.12i\\right)} C^{4} + C^{3} {\\left(0.035 \\, {{{\\Delta e}}_{{  1}}^\\gamma} + 0.035 \\, {{{\\Delta e}}_{{  2}}^\\gamma} - 1.2i\\right)} e^{\\left(4 i \\, {\\phi}\\right)} + C^{2} {\\left(0.00098 \\, {{{\\Delta e}}_{{  1}}^\\gamma} + 0.00098 \\, {{{\\Delta e}}_{{  2}}^\\gamma} - 0.26i\\right)} e^{\\left(4 i \\, {\\phi}\\right)} - 0.020i \\, C e^{\\left(4 i \\, {\\phi}\\right)} - 0.00049i \\, e^{\\left(4 i \\, {\\phi}\\right)}\\right)} {\\gamma_g}}$$"
      ],
      "text/plain": [
       "0.50*(C^8*Deg1*Deg2*(e^(4*I*phi) - 1)^2 - 4*C^7*Deg1*Deg2*e^(4*I*phi) + (((-1.2*Deg2 + 3*I)*e^(4*I*phi) - 0.50*I*e^(8*I*phi) - 0.50*I)*Deg1 + Deg2*(-0.50*I*e^(8*I*phi) + 3*I*e^(4*I*phi) - 0.50*I))*C^6 + (Deg1*(-0.12*Deg2 + 3.2*I) + 3.2*I*Deg2)*C^5*e^(4*I*phi) + ((-0.0039*Deg1*Deg2 + 0.81*I*Deg1 + 0.81*I*Deg2 + 3.2)*e^(4*I*phi) - 0.25*e^(8*I*phi) - 0.25)*C^4 + C^3*(0.070*I*Deg1 + 0.070*I*Deg2 + 2.5)*e^(4*I*phi) + C^2*(0.0020*I*Deg1 + 0.0020*I*Deg2 + 0.52)*e^(4*I*phi) + 0.039*C*e^(4*I*phi) + 0.00098*e^(4*I*phi))*Omega^2/(((C^8*Deg1*Deg2*(e^(4*I*phi) - 1)^2 - 4*C^7*Deg1*Deg2*e^(4*I*phi) + (((-1.2*Deg2 + 3*I)*e^(4*I*phi) - 0.50*I*e^(8*I*phi) - 0.50*I)*Deg1 + Deg2*(-0.50*I*e^(8*I*phi) + 3*I*e^(4*I*phi) - 0.50*I))*C^6 + (Deg1*(-0.12*Deg2 + 3.2*I) + 3.2*I*Deg2)*C^5*e^(4*I*phi) + ((-0.0039*Deg1*Deg2 + 0.81*I*Deg1 + 0.81*I*Deg2 + 3.2)*e^(4*I*phi) - 0.25*e^(8*I*phi) - 0.25)*C^4 + C^3*(0.070*I*Deg1 + 0.070*I*Deg2 + 2.5)*e^(4*I*phi) + C^2*(0.0020*I*Deg1 + 0.0020*I*Deg2 + 0.52)*e^(4*I*phi) + 0.039*C*e^(4*I*phi) + 0.00098*e^(4*I*phi))*C*DEg + (2*I*C^7*Deg1*Deg2 + 1.2*I*C^6*Deg1*Deg2 + (0.19*I*Deg1*Deg2 + 1.8*Deg1 + 2*Deg2)*C^5 + (0.0078*I*Deg1*Deg2 + 0.88*Deg1 + 0.88*Deg2)*C^4 + C^3*(0.11*Deg1 + 0.11*Deg2 - 1.6*I) + C^2*(0.0039*Deg1 + 0.0039*Deg2 - 0.59*I) - 0.062*I*C - 0.0020*I)*R_f*e^(4*I*phi))*C*gamma + (-0.50*I*C^8*Deg1*Deg2*(e^(4*I*phi) - 1)^2 + 2*I*C^7*Deg1*Deg2*e^(4*I*phi) + (((0.62*I*Deg2 + 1.5)*e^(4*I*phi) - 0.25*e^(8*I*phi) - 0.25)*Deg1 + Deg2*(-0.25*e^(8*I*phi) + 1.5*e^(4*I*phi) - 0.25))*C^6 + (Deg1*(0.062*I*Deg2 + 1.6) + 1.6*Deg2)*C^5*e^(4*I*phi) + ((0.0020*I*Deg1*Deg2 + 0.41*Deg1 + 0.41*Deg2 - 1.6*I)*e^(4*I*phi) + 0.12*I*e^(8*I*phi) + 0.12*I)*C^4 + C^3*(0.035*Deg1 + 0.035*Deg2 - 1.2*I)*e^(4*I*phi) + C^2*(0.00098*Deg1 + 0.00098*Deg2 - 0.26*I)*e^(4*I*phi) - 0.020*I*C*e^(4*I*phi) - 0.00049*I*e^(4*I*phi))*gamma_f + (-0.50*I*C^8*Deg1*Deg2*(e^(4*I*phi) - 1)^2 + 2*I*C^7*Deg1*Deg2*e^(4*I*phi) + (((0.62*I*Deg2 + 1.5)*e^(4*I*phi) - 0.25*e^(8*I*phi) - 0.25)*Deg1 + Deg2*(-0.25*e^(8*I*phi) + 1.5*e^(4*I*phi) - 0.25))*C^6 + (Deg1*(0.062*I*Deg2 + 1.6) + 1.6*Deg2)*C^5*e^(4*I*phi) + ((0.0020*I*Deg1*Deg2 + 0.41*Deg1 + 0.41*Deg2 - 1.6*I)*e^(4*I*phi) + 0.12*I*e^(8*I*phi) + 0.12*I)*C^4 + C^3*(0.035*Deg1 + 0.035*Deg2 - 1.2*I)*e^(4*I*phi) + C^2*(0.00098*Deg1 + 0.00098*Deg2 - 0.26*I)*e^(4*I*phi) - 0.020*I*C*e^(4*I*phi) - 0.00049*I*e^(4*I*phi))*gamma_g)"
      ]
     },
     "metadata": {},
     "output_type": "display_data"
    }
   ],
   "source": [
    "term_list = [a,b,c,d,e]\n",
    "high_c_limit = [  ]\n",
    "\n",
    "for term in term_list:\n",
    "    show(symround(term))\n",
    "    num = term._mathematica_().Numerator().Collect('C')._sage_().operands()[0]\n",
    "    den = term._mathematica_().Denominator().Collect('C')._sage_().operands()[1]\n",
    "    tayl = num/den\n",
    "    num = term._mathematica_().Numerator().Collect('C')._sage_().operands()[1]\n",
    "    den = term._mathematica_().Denominator().Collect('C')._sage_().operands()[0]\n",
    "    tayl += num/den\n",
    "    tayl = MMA_simplify(tayl)\n",
    "    high_c_limit.append(tayl)"
   ]
  },
  {
   "cell_type": "code",
   "execution_count": 94,
   "id": "1c4549a3",
   "metadata": {},
   "outputs": [
    {
     "data": {
      "text/html": [
       "<html><script type=\"math/tex; mode=display\">\\newcommand{\\Bold}[1]{\\mathbf{#1}}\\frac{{\\left(-0.12 \\, C^{2} {\\left(e^{\\left(4 i \\, {\\phi}\\right)} - 1\\right)}^{4} - 2 \\, e^{\\left(8 i \\, {\\phi}\\right)}\\right)} {\\Omega}^{2} e^{\\left(-4 i \\, {\\phi}\\right)}}{C^{3} {{{\\Delta E}}^\\gamma} {\\gamma} {\\left(e^{\\left(4 i \\, {\\phi}\\right)} - 1\\right)}^{2}}</script></html>"
      ],
      "text/latex": [
       "$$\\newcommand{\\Bold}[1]{\\mathbf{#1}}\\frac{{\\left(-0.12 \\, C^{2} {\\left(e^{\\left(4 i \\, {\\phi}\\right)} - 1\\right)}^{4} - 2 \\, e^{\\left(8 i \\, {\\phi}\\right)}\\right)} {\\Omega}^{2} e^{\\left(-4 i \\, {\\phi}\\right)}}{C^{3} {{{\\Delta E}}^\\gamma} {\\gamma} {\\left(e^{\\left(4 i \\, {\\phi}\\right)} - 1\\right)}^{2}}$$"
      ],
      "text/plain": [
       "(-0.12*C^2*(e^(4*I*phi) - 1)^4 - 2*e^(8*I*phi))*Omega^2*e^(-4*I*phi)/(C^3*DEg*gamma*(e^(4*I*phi) - 1)^2)"
      ]
     },
     "metadata": {},
     "output_type": "display_data"
    }
   ],
   "source": [
    "show(symround(high_c_limit[3]))"
   ]
  },
  {
   "cell_type": "code",
   "execution_count": 98,
   "id": "01ce7749",
   "metadata": {},
   "outputs": [
    {
     "name": "stdout",
     "output_type": "stream",
     "text": [
      "symround: Deleted coefficient 1.1e-16\n",
      "symround: Deleted coefficient 1.1e-16\n"
     ]
    },
    {
     "data": {
      "text/html": [
       "<html><script type=\"math/tex; mode=display\">\\newcommand{\\Bold}[1]{\\mathbf{#1}}\\frac{0.50 \\, {\\left(C^{4} {\\left(e^{\\left(4 i \\, {\\phi}\\right)} - 1\\right)}^{2} - 4 \\, C^{3} e^{\\left(4 i \\, {\\phi}\\right)} - 1.2 \\, C^{2} e^{\\left(4 i \\, {\\phi}\\right)} - 0.12 \\, C e^{\\left(4 i \\, {\\phi}\\right)} - 0.0039 \\, e^{\\left(4 i \\, {\\phi}\\right)}\\right)} {\\Omega}^{2}}{{\\left({\\left(C^{4} {\\left(e^{\\left(4 i \\, {\\phi}\\right)} - 1\\right)}^{2} - 4 \\, C^{3} e^{\\left(4 i \\, {\\phi}\\right)} - 1.2 \\, C^{2} e^{\\left(4 i \\, {\\phi}\\right)} - 0.12 \\, C e^{\\left(4 i \\, {\\phi}\\right)} - 0.0039 \\, e^{\\left(4 i \\, {\\phi}\\right)}\\right)} C {{{\\Delta E}}^\\gamma} + {\\left(2 i \\, C^{3} + 1.2i \\, C^{2} + 0.19i \\, C + 0.0078i\\right)} R_{f} e^{\\left(4 i \\, {\\phi}\\right)}\\right)} C {\\gamma} + {\\left(-0.50i \\, C^{4} {\\left(e^{\\left(4 i \\, {\\phi}\\right)} - 1\\right)}^{2} + 2 i \\, C^{3} e^{\\left(4 i \\, {\\phi}\\right)} + 0.62i \\, C^{2} e^{\\left(4 i \\, {\\phi}\\right)} + 0.062i \\, C e^{\\left(4 i \\, {\\phi}\\right)} + 0.0020i \\, e^{\\left(4 i \\, {\\phi}\\right)}\\right)} {\\gamma_f} + {\\left(-0.50i \\, C^{4} {\\left(e^{\\left(4 i \\, {\\phi}\\right)} - 1\\right)}^{2} + 2 i \\, C^{3} e^{\\left(4 i \\, {\\phi}\\right)} + 0.62i \\, C^{2} e^{\\left(4 i \\, {\\phi}\\right)} + 0.062i \\, C e^{\\left(4 i \\, {\\phi}\\right)} + 0.0020i \\, e^{\\left(4 i \\, {\\phi}\\right)}\\right)} {\\gamma_g}}</script></html>"
      ],
      "text/latex": [
       "$$\\newcommand{\\Bold}[1]{\\mathbf{#1}}\\frac{0.50 \\, {\\left(C^{4} {\\left(e^{\\left(4 i \\, {\\phi}\\right)} - 1\\right)}^{2} - 4 \\, C^{3} e^{\\left(4 i \\, {\\phi}\\right)} - 1.2 \\, C^{2} e^{\\left(4 i \\, {\\phi}\\right)} - 0.12 \\, C e^{\\left(4 i \\, {\\phi}\\right)} - 0.0039 \\, e^{\\left(4 i \\, {\\phi}\\right)}\\right)} {\\Omega}^{2}}{{\\left({\\left(C^{4} {\\left(e^{\\left(4 i \\, {\\phi}\\right)} - 1\\right)}^{2} - 4 \\, C^{3} e^{\\left(4 i \\, {\\phi}\\right)} - 1.2 \\, C^{2} e^{\\left(4 i \\, {\\phi}\\right)} - 0.12 \\, C e^{\\left(4 i \\, {\\phi}\\right)} - 0.0039 \\, e^{\\left(4 i \\, {\\phi}\\right)}\\right)} C {{{\\Delta E}}^\\gamma} + {\\left(2 i \\, C^{3} + 1.2i \\, C^{2} + 0.19i \\, C + 0.0078i\\right)} R_{f} e^{\\left(4 i \\, {\\phi}\\right)}\\right)} C {\\gamma} + {\\left(-0.50i \\, C^{4} {\\left(e^{\\left(4 i \\, {\\phi}\\right)} - 1\\right)}^{2} + 2 i \\, C^{3} e^{\\left(4 i \\, {\\phi}\\right)} + 0.62i \\, C^{2} e^{\\left(4 i \\, {\\phi}\\right)} + 0.062i \\, C e^{\\left(4 i \\, {\\phi}\\right)} + 0.0020i \\, e^{\\left(4 i \\, {\\phi}\\right)}\\right)} {\\gamma_f} + {\\left(-0.50i \\, C^{4} {\\left(e^{\\left(4 i \\, {\\phi}\\right)} - 1\\right)}^{2} + 2 i \\, C^{3} e^{\\left(4 i \\, {\\phi}\\right)} + 0.62i \\, C^{2} e^{\\left(4 i \\, {\\phi}\\right)} + 0.062i \\, C e^{\\left(4 i \\, {\\phi}\\right)} + 0.0020i \\, e^{\\left(4 i \\, {\\phi}\\right)}\\right)} {\\gamma_g}}$$"
      ],
      "text/plain": [
       "0.50*(C^4*(e^(4*I*phi) - 1)^2 - 4*C^3*e^(4*I*phi) - 1.2*C^2*e^(4*I*phi) - 0.12*C*e^(4*I*phi) - 0.0039*e^(4*I*phi))*Omega^2/(((C^4*(e^(4*I*phi) - 1)^2 - 4*C^3*e^(4*I*phi) - 1.2*C^2*e^(4*I*phi) - 0.12*C*e^(4*I*phi) - 0.0039*e^(4*I*phi))*C*DEg + (2*I*C^3 + 1.2*I*C^2 + 0.19*I*C + 0.0078*I)*R_f*e^(4*I*phi))*C*gamma + (-0.50*I*C^4*(e^(4*I*phi) - 1)^2 + 2*I*C^3*e^(4*I*phi) + 0.62*I*C^2*e^(4*I*phi) + 0.062*I*C*e^(4*I*phi) + 0.0020*I*e^(4*I*phi))*gamma_f + (-0.50*I*C^4*(e^(4*I*phi) - 1)^2 + 2*I*C^3*e^(4*I*phi) + 0.62*I*C^2*e^(4*I*phi) + 0.062*I*C*e^(4*I*phi) + 0.0020*I*e^(4*I*phi))*gamma_g)"
      ]
     },
     "metadata": {},
     "output_type": "display_data"
    },
    {
     "name": "stdout",
     "output_type": "stream",
     "text": [
      "symround: Deleted coefficient 1.1e-16\n",
      "symround: Deleted coefficient 1.1e-16\n"
     ]
    },
    {
     "data": {
      "text/html": [
       "<html><script type=\"math/tex; mode=display\">\\newcommand{\\Bold}[1]{\\mathbf{#1}}\\frac{0.50 \\, {\\left(C^{6} {{{\\Delta e}}_{{  2}}^\\gamma} {\\left(e^{\\left(4 i \\, {\\phi}\\right)} - 1\\right)}^{2} - 4 \\, C^{5} {{{\\Delta e}}_{{  2}}^\\gamma} e^{\\left(4 i \\, {\\phi}\\right)} + {\\left({\\left(-1.2 \\, {{{\\Delta e}}_{{  2}}^\\gamma} + 3 i\\right)} e^{\\left(4 i \\, {\\phi}\\right)} - 0.50i \\, e^{\\left(8 i \\, {\\phi}\\right)} - 0.50i\\right)} C^{4} + C^{3} {\\left(-0.12 \\, {{{\\Delta e}}_{{  2}}^\\gamma} + 3.2i\\right)} e^{\\left(4 i \\, {\\phi}\\right)} + C^{2} {\\left(-0.0039 \\, {{{\\Delta e}}_{{  2}}^\\gamma} + 0.81i\\right)} e^{\\left(4 i \\, {\\phi}\\right)} + 0.070i \\, C e^{\\left(4 i \\, {\\phi}\\right)} + 0.0020i \\, e^{\\left(4 i \\, {\\phi}\\right)}\\right)} {\\Omega}^{2}}{{\\left({\\left(C^{6} {{{\\Delta e}}_{{  2}}^\\gamma} {\\left(e^{\\left(4 i \\, {\\phi}\\right)} - 1\\right)}^{2} - 4 \\, C^{5} {{{\\Delta e}}_{{  2}}^\\gamma} e^{\\left(4 i \\, {\\phi}\\right)} + {\\left({\\left(-1.2 \\, {{{\\Delta e}}_{{  2}}^\\gamma} + 3 i\\right)} e^{\\left(4 i \\, {\\phi}\\right)} - 0.50i \\, e^{\\left(8 i \\, {\\phi}\\right)} - 0.50i\\right)} C^{4} + C^{3} {\\left(-0.12 \\, {{{\\Delta e}}_{{  2}}^\\gamma} + 3.2i\\right)} e^{\\left(4 i \\, {\\phi}\\right)} + C^{2} {\\left(-0.0039 \\, {{{\\Delta e}}_{{  2}}^\\gamma} + 0.81i\\right)} e^{\\left(4 i \\, {\\phi}\\right)} + 0.070i \\, C e^{\\left(4 i \\, {\\phi}\\right)} + 0.0020i \\, e^{\\left(4 i \\, {\\phi}\\right)}\\right)} C {{{\\Delta E}}^\\gamma} + {\\left(2 i \\, C^{5} {{{\\Delta e}}_{{  2}}^\\gamma} + 1.2i \\, C^{4} {{{\\Delta e}}_{{  2}}^\\gamma} + C^{3} {\\left(0.19i \\, {{{\\Delta e}}_{{  2}}^\\gamma} + 1.8\\right)} + C^{2} {\\left(0.0078i \\, {{{\\Delta e}}_{{  2}}^\\gamma} + 0.88\\right)} + 0.11 \\, C + 0.0039\\right)} R_{f} e^{\\left(4 i \\, {\\phi}\\right)}\\right)} C {\\gamma} + {\\left(-0.50i \\, C^{6} {{{\\Delta e}}_{{  2}}^\\gamma} {\\left(e^{\\left(4 i \\, {\\phi}\\right)} - 1\\right)}^{2} + 2 i \\, C^{5} {{{\\Delta e}}_{{  2}}^\\gamma} e^{\\left(4 i \\, {\\phi}\\right)} + {\\left({\\left(0.62i \\, {{{\\Delta e}}_{{  2}}^\\gamma} + 1.5\\right)} e^{\\left(4 i \\, {\\phi}\\right)} - 0.25 \\, e^{\\left(8 i \\, {\\phi}\\right)} - 0.25\\right)} C^{4} + C^{3} {\\left(0.062i \\, {{{\\Delta e}}_{{  2}}^\\gamma} + 1.6\\right)} e^{\\left(4 i \\, {\\phi}\\right)} + C^{2} {\\left(0.0020i \\, {{{\\Delta e}}_{{  2}}^\\gamma} + 0.41\\right)} e^{\\left(4 i \\, {\\phi}\\right)} + 0.035 \\, C e^{\\left(4 i \\, {\\phi}\\right)} + 0.00098 \\, e^{\\left(4 i \\, {\\phi}\\right)}\\right)} {\\gamma_f} + {\\left(-0.50i \\, C^{6} {{{\\Delta e}}_{{  2}}^\\gamma} {\\left(e^{\\left(4 i \\, {\\phi}\\right)} - 1\\right)}^{2} + 2 i \\, C^{5} {{{\\Delta e}}_{{  2}}^\\gamma} e^{\\left(4 i \\, {\\phi}\\right)} + {\\left({\\left(0.62i \\, {{{\\Delta e}}_{{  2}}^\\gamma} + 1.5\\right)} e^{\\left(4 i \\, {\\phi}\\right)} - 0.25 \\, e^{\\left(8 i \\, {\\phi}\\right)} - 0.25\\right)} C^{4} + C^{3} {\\left(0.062i \\, {{{\\Delta e}}_{{  2}}^\\gamma} + 1.6\\right)} e^{\\left(4 i \\, {\\phi}\\right)} + C^{2} {\\left(0.0020i \\, {{{\\Delta e}}_{{  2}}^\\gamma} + 0.41\\right)} e^{\\left(4 i \\, {\\phi}\\right)} + 0.035 \\, C e^{\\left(4 i \\, {\\phi}\\right)} + 0.00098 \\, e^{\\left(4 i \\, {\\phi}\\right)}\\right)} {\\gamma_g}}</script></html>"
      ],
      "text/latex": [
       "$$\\newcommand{\\Bold}[1]{\\mathbf{#1}}\\frac{0.50 \\, {\\left(C^{6} {{{\\Delta e}}_{{  2}}^\\gamma} {\\left(e^{\\left(4 i \\, {\\phi}\\right)} - 1\\right)}^{2} - 4 \\, C^{5} {{{\\Delta e}}_{{  2}}^\\gamma} e^{\\left(4 i \\, {\\phi}\\right)} + {\\left({\\left(-1.2 \\, {{{\\Delta e}}_{{  2}}^\\gamma} + 3 i\\right)} e^{\\left(4 i \\, {\\phi}\\right)} - 0.50i \\, e^{\\left(8 i \\, {\\phi}\\right)} - 0.50i\\right)} C^{4} + C^{3} {\\left(-0.12 \\, {{{\\Delta e}}_{{  2}}^\\gamma} + 3.2i\\right)} e^{\\left(4 i \\, {\\phi}\\right)} + C^{2} {\\left(-0.0039 \\, {{{\\Delta e}}_{{  2}}^\\gamma} + 0.81i\\right)} e^{\\left(4 i \\, {\\phi}\\right)} + 0.070i \\, C e^{\\left(4 i \\, {\\phi}\\right)} + 0.0020i \\, e^{\\left(4 i \\, {\\phi}\\right)}\\right)} {\\Omega}^{2}}{{\\left({\\left(C^{6} {{{\\Delta e}}_{{  2}}^\\gamma} {\\left(e^{\\left(4 i \\, {\\phi}\\right)} - 1\\right)}^{2} - 4 \\, C^{5} {{{\\Delta e}}_{{  2}}^\\gamma} e^{\\left(4 i \\, {\\phi}\\right)} + {\\left({\\left(-1.2 \\, {{{\\Delta e}}_{{  2}}^\\gamma} + 3 i\\right)} e^{\\left(4 i \\, {\\phi}\\right)} - 0.50i \\, e^{\\left(8 i \\, {\\phi}\\right)} - 0.50i\\right)} C^{4} + C^{3} {\\left(-0.12 \\, {{{\\Delta e}}_{{  2}}^\\gamma} + 3.2i\\right)} e^{\\left(4 i \\, {\\phi}\\right)} + C^{2} {\\left(-0.0039 \\, {{{\\Delta e}}_{{  2}}^\\gamma} + 0.81i\\right)} e^{\\left(4 i \\, {\\phi}\\right)} + 0.070i \\, C e^{\\left(4 i \\, {\\phi}\\right)} + 0.0020i \\, e^{\\left(4 i \\, {\\phi}\\right)}\\right)} C {{{\\Delta E}}^\\gamma} + {\\left(2 i \\, C^{5} {{{\\Delta e}}_{{  2}}^\\gamma} + 1.2i \\, C^{4} {{{\\Delta e}}_{{  2}}^\\gamma} + C^{3} {\\left(0.19i \\, {{{\\Delta e}}_{{  2}}^\\gamma} + 1.8\\right)} + C^{2} {\\left(0.0078i \\, {{{\\Delta e}}_{{  2}}^\\gamma} + 0.88\\right)} + 0.11 \\, C + 0.0039\\right)} R_{f} e^{\\left(4 i \\, {\\phi}\\right)}\\right)} C {\\gamma} + {\\left(-0.50i \\, C^{6} {{{\\Delta e}}_{{  2}}^\\gamma} {\\left(e^{\\left(4 i \\, {\\phi}\\right)} - 1\\right)}^{2} + 2 i \\, C^{5} {{{\\Delta e}}_{{  2}}^\\gamma} e^{\\left(4 i \\, {\\phi}\\right)} + {\\left({\\left(0.62i \\, {{{\\Delta e}}_{{  2}}^\\gamma} + 1.5\\right)} e^{\\left(4 i \\, {\\phi}\\right)} - 0.25 \\, e^{\\left(8 i \\, {\\phi}\\right)} - 0.25\\right)} C^{4} + C^{3} {\\left(0.062i \\, {{{\\Delta e}}_{{  2}}^\\gamma} + 1.6\\right)} e^{\\left(4 i \\, {\\phi}\\right)} + C^{2} {\\left(0.0020i \\, {{{\\Delta e}}_{{  2}}^\\gamma} + 0.41\\right)} e^{\\left(4 i \\, {\\phi}\\right)} + 0.035 \\, C e^{\\left(4 i \\, {\\phi}\\right)} + 0.00098 \\, e^{\\left(4 i \\, {\\phi}\\right)}\\right)} {\\gamma_f} + {\\left(-0.50i \\, C^{6} {{{\\Delta e}}_{{  2}}^\\gamma} {\\left(e^{\\left(4 i \\, {\\phi}\\right)} - 1\\right)}^{2} + 2 i \\, C^{5} {{{\\Delta e}}_{{  2}}^\\gamma} e^{\\left(4 i \\, {\\phi}\\right)} + {\\left({\\left(0.62i \\, {{{\\Delta e}}_{{  2}}^\\gamma} + 1.5\\right)} e^{\\left(4 i \\, {\\phi}\\right)} - 0.25 \\, e^{\\left(8 i \\, {\\phi}\\right)} - 0.25\\right)} C^{4} + C^{3} {\\left(0.062i \\, {{{\\Delta e}}_{{  2}}^\\gamma} + 1.6\\right)} e^{\\left(4 i \\, {\\phi}\\right)} + C^{2} {\\left(0.0020i \\, {{{\\Delta e}}_{{  2}}^\\gamma} + 0.41\\right)} e^{\\left(4 i \\, {\\phi}\\right)} + 0.035 \\, C e^{\\left(4 i \\, {\\phi}\\right)} + 0.00098 \\, e^{\\left(4 i \\, {\\phi}\\right)}\\right)} {\\gamma_g}}$$"
      ],
      "text/plain": [
       "0.50*(C^6*Deg2*(e^(4*I*phi) - 1)^2 - 4*C^5*Deg2*e^(4*I*phi) + ((-1.2*Deg2 + 3*I)*e^(4*I*phi) - 0.50*I*e^(8*I*phi) - 0.50*I)*C^4 + C^3*(-0.12*Deg2 + 3.2*I)*e^(4*I*phi) + C^2*(-0.0039*Deg2 + 0.81*I)*e^(4*I*phi) + 0.070*I*C*e^(4*I*phi) + 0.0020*I*e^(4*I*phi))*Omega^2/(((C^6*Deg2*(e^(4*I*phi) - 1)^2 - 4*C^5*Deg2*e^(4*I*phi) + ((-1.2*Deg2 + 3*I)*e^(4*I*phi) - 0.50*I*e^(8*I*phi) - 0.50*I)*C^4 + C^3*(-0.12*Deg2 + 3.2*I)*e^(4*I*phi) + C^2*(-0.0039*Deg2 + 0.81*I)*e^(4*I*phi) + 0.070*I*C*e^(4*I*phi) + 0.0020*I*e^(4*I*phi))*C*DEg + (2*I*C^5*Deg2 + 1.2*I*C^4*Deg2 + C^3*(0.19*I*Deg2 + 1.8) + C^2*(0.0078*I*Deg2 + 0.88) + 0.11*C + 0.0039)*R_f*e^(4*I*phi))*C*gamma + (-0.50*I*C^6*Deg2*(e^(4*I*phi) - 1)^2 + 2*I*C^5*Deg2*e^(4*I*phi) + ((0.62*I*Deg2 + 1.5)*e^(4*I*phi) - 0.25*e^(8*I*phi) - 0.25)*C^4 + C^3*(0.062*I*Deg2 + 1.6)*e^(4*I*phi) + C^2*(0.0020*I*Deg2 + 0.41)*e^(4*I*phi) + 0.035*C*e^(4*I*phi) + 0.00098*e^(4*I*phi))*gamma_f + (-0.50*I*C^6*Deg2*(e^(4*I*phi) - 1)^2 + 2*I*C^5*Deg2*e^(4*I*phi) + ((0.62*I*Deg2 + 1.5)*e^(4*I*phi) - 0.25*e^(8*I*phi) - 0.25)*C^4 + C^3*(0.062*I*Deg2 + 1.6)*e^(4*I*phi) + C^2*(0.0020*I*Deg2 + 0.41)*e^(4*I*phi) + 0.035*C*e^(4*I*phi) + 0.00098*e^(4*I*phi))*gamma_g)"
      ]
     },
     "metadata": {},
     "output_type": "display_data"
    }
   ],
   "source": [
    "show(symround(a))\n",
    "show(symround(b))"
   ]
  },
  {
   "cell_type": "code",
   "execution_count": 71,
   "id": "bf5db711",
   "metadata": {},
   "outputs": [],
   "source": [
    "#for f\n",
    "den1 = f._mathematica_().Denominator().Collect('C')._sage_().operands()[0]\n",
    "num = f._mathematica_().Numerator()._sage_()\n",
    "den2 = num.denominator().operands()[0]\n",
    "num1 = num.numerator()._mathematica_().Collect('C')._sage_().operands()[0]\n",
    "\n",
    "tayl = num1 / (den1*den2)._mathematica_().Collect('C')._sage_().operands()[0]\n"
   ]
  },
  {
   "cell_type": "code",
   "execution_count": 85,
   "id": "eb93861e",
   "metadata": {},
   "outputs": [
    {
     "data": {
      "text/html": [
       "<html><script type=\"math/tex; mode=display\">\\newcommand{\\Bold}[1]{\\mathbf{#1}}C^{8} {{{\\Delta e}}_{{  1}}^\\gamma} {{{\\Delta e}}_{{  2}}^\\gamma} {\\Omega}^{2} {\\left(e^{\\left(4 i \\, {\\phi}\\right)} - 1\\right)}^{2}</script></html>"
      ],
      "text/latex": [
       "$$\\newcommand{\\Bold}[1]{\\mathbf{#1}}C^{8} {{{\\Delta e}}_{{  1}}^\\gamma} {{{\\Delta e}}_{{  2}}^\\gamma} {\\Omega}^{2} {\\left(e^{\\left(4 i \\, {\\phi}\\right)} - 1\\right)}^{2}$$"
      ],
      "text/plain": [
       "C^8*Deg1*Deg2*Omega^2*(e^(4*I*phi) - 1)^2"
      ]
     },
     "metadata": {},
     "output_type": "display_data"
    },
    {
     "data": {
      "text/html": [
       "<html><script type=\"math/tex; mode=display\">\\newcommand{\\Bold}[1]{\\mathbf{#1}}2 \\, C^{10} {{{\\Delta E}}^\\gamma} {{{\\Delta e}}_{{  1}}^\\gamma} {{{\\Delta e}}_{{  2}}^\\gamma} {\\gamma} {\\left(e^{\\left(4 i \\, {\\phi}\\right)} - 1\\right)}^{2}</script></html>"
      ],
      "text/latex": [
       "$$\\newcommand{\\Bold}[1]{\\mathbf{#1}}2 \\, C^{10} {{{\\Delta E}}^\\gamma} {{{\\Delta e}}_{{  1}}^\\gamma} {{{\\Delta e}}_{{  2}}^\\gamma} {\\gamma} {\\left(e^{\\left(4 i \\, {\\phi}\\right)} - 1\\right)}^{2}$$"
      ],
      "text/plain": [
       "2*C^10*DEg*Deg1*Deg2*gamma*(e^(4*I*phi) - 1)^2"
      ]
     },
     "metadata": {},
     "output_type": "display_data"
    },
    {
     "data": {
      "text/html": [
       "<html><script type=\"math/tex; mode=display\">\\newcommand{\\Bold}[1]{\\mathbf{#1}}-4 \\, C^{7} {{{\\Delta e}}_{{  1}}^\\gamma} {{{\\Delta e}}_{{  2}}^\\gamma} {\\Omega}^{2} e^{\\left(4 i \\, {\\phi}\\right)}</script></html>"
      ],
      "text/latex": [
       "$$\\newcommand{\\Bold}[1]{\\mathbf{#1}}-4 \\, C^{7} {{{\\Delta e}}_{{  1}}^\\gamma} {{{\\Delta e}}_{{  2}}^\\gamma} {\\Omega}^{2} e^{\\left(4 i \\, {\\phi}\\right)}$$"
      ],
      "text/plain": [
       "-4*C^7*Deg1*Deg2*Omega^2*e^(4*I*phi)"
      ]
     },
     "metadata": {},
     "output_type": "display_data"
    },
    {
     "data": {
      "text/html": [
       "<html><script type=\"math/tex; mode=display\">\\newcommand{\\Bold}[1]{\\mathbf{#1}}-8 \\, C^{9} {{{\\Delta E}}^\\gamma} {{{\\Delta e}}_{{  1}}^\\gamma} {{{\\Delta e}}_{{  2}}^\\gamma} {\\gamma} e^{\\left(4 i \\, {\\phi}\\right)}</script></html>"
      ],
      "text/latex": [
       "$$\\newcommand{\\Bold}[1]{\\mathbf{#1}}-8 \\, C^{9} {{{\\Delta E}}^\\gamma} {{{\\Delta e}}_{{  1}}^\\gamma} {{{\\Delta e}}_{{  2}}^\\gamma} {\\gamma} e^{\\left(4 i \\, {\\phi}\\right)}$$"
      ],
      "text/plain": [
       "-8*C^9*DEg*Deg1*Deg2*gamma*e^(4*I*phi)"
      ]
     },
     "metadata": {},
     "output_type": "display_data"
    }
   ],
   "source": [
    "show(symround(term._mathematica_().Numerator().Collect('C')._sage_().operands()[0]))\n",
    "show(symround(term._mathematica_().Denominator().Collect('C')._sage_().operands()[0]))\n",
    "show(symround(term._mathematica_().Numerator().Collect('C')._sage_().operands()[1]))\n",
    "show(symround(term._mathematica_().Denominator().Collect('C')._sage_().operands()[1]))"
   ]
  },
  {
   "cell_type": "code",
   "execution_count": 74,
   "id": "da8c8927",
   "metadata": {},
   "outputs": [
    {
     "name": "stdout",
     "output_type": "stream",
     "text": [
      "Numerator\n"
     ]
    },
    {
     "data": {
      "text/html": [
       "<html><script type=\"math/tex; mode=display\">\\newcommand{\\Bold}[1]{\\mathbf{#1}}\\left(0.056161 - 0.81765i\\right) \\, C^{14} {\\Omega}^{2} + \\left(6.8691 + 0.21066i\\right) \\, C^{13} {\\Omega}^{2} + \\left(0.82545 + 19.578i\\right) \\, C^{12} {\\Omega}^{2} - \\left(22.841 - 4.4959i\\right) \\, C^{11} {\\Omega}^{2} - \\left(5.9134 + 13.235i\\right) \\, C^{10} {\\Omega}^{2} + \\left(4.0359 - 3.5502i\\right) \\, C^{9} {\\Omega}^{2} + \\left(1.1441 + 0.57523i\\right) \\, C^{8} {\\Omega}^{2} + \\left(0.00055998 + 0.20505i\\right) \\, C^{7} {\\Omega}^{2} - \\left(0.018997 - 0.011773i\\right) \\, C^{6} {\\Omega}^{2} - \\left(0.0015053 + 0.00059595i\\right) \\, C^{5} {\\Omega}^{2} - \\left(0.000025104 + 0.000067457i\\right) \\, C^{4} {\\Omega}^{2} + \\left(5.2004 \\times 10^{-7} - 1.4316 \\times 10^{-6}i\\right) \\, C^{3} {\\Omega}^{2}</script></html>"
      ],
      "text/latex": [
       "$$\\newcommand{\\Bold}[1]{\\mathbf{#1}}\\left(0.056161 - 0.81765i\\right) \\, C^{14} {\\Omega}^{2} + \\left(6.8691 + 0.21066i\\right) \\, C^{13} {\\Omega}^{2} + \\left(0.82545 + 19.578i\\right) \\, C^{12} {\\Omega}^{2} - \\left(22.841 - 4.4959i\\right) \\, C^{11} {\\Omega}^{2} - \\left(5.9134 + 13.235i\\right) \\, C^{10} {\\Omega}^{2} + \\left(4.0359 - 3.5502i\\right) \\, C^{9} {\\Omega}^{2} + \\left(1.1441 + 0.57523i\\right) \\, C^{8} {\\Omega}^{2} + \\left(0.00055998 + 0.20505i\\right) \\, C^{7} {\\Omega}^{2} - \\left(0.018997 - 0.011773i\\right) \\, C^{6} {\\Omega}^{2} - \\left(0.0015053 + 0.00059595i\\right) \\, C^{5} {\\Omega}^{2} - \\left(0.000025104 + 0.000067457i\\right) \\, C^{4} {\\Omega}^{2} + \\left(5.2004 \\times 10^{-7} - 1.4316 \\times 10^{-6}i\\right) \\, C^{3} {\\Omega}^{2}$$"
      ],
      "text/plain": [
       "(0.056161 - 0.81765*I)*C^14*Omega^2 + (6.8691 + 0.21066*I)*C^13*Omega^2 + (0.82545 + 19.578*I)*C^12*Omega^2 - (22.841 - 4.4959*I)*C^11*Omega^2 - (5.9134 + 13.235*I)*C^10*Omega^2 + (4.0359 - 3.5502*I)*C^9*Omega^2 + (1.1441 + 0.57523*I)*C^8*Omega^2 + (0.00055998 + 0.20505*I)*C^7*Omega^2 - (0.018997 - 0.011773*I)*C^6*Omega^2 - (0.0015053 + 0.00059595*I)*C^5*Omega^2 - (0.000025104 + 0.000067457*I)*C^4*Omega^2 + (5.2004e-7 - 1.4316e-6*I)*C^3*Omega^2"
      ]
     },
     "metadata": {},
     "output_type": "display_data"
    },
    {
     "name": "stdout",
     "output_type": "stream",
     "text": [
      "\n",
      "\n",
      "Denominator\n"
     ]
    },
    {
     "data": {
      "text/html": [
       "<html><script type=\"math/tex; mode=display\">\\newcommand{\\Bold}[1]{\\mathbf{#1}}C^{16} + \\left(3.2784 + 18.272i\\right) \\, C^{15} - \\left(132.07 - 51.765i\\right) \\, C^{14} - \\left(326.79 + 476.93i\\right) \\, C^{13} + \\left(874.91 - 1047.6i\\right) \\, C^{12} + \\left(1794.0 + 659.69i\\right) \\, C^{11} + \\left(141.38 + 1604.8i\\right) \\, C^{10} - \\left(714.03 - 505.66i\\right) \\, C^{9} - \\left(307.14 + 112.82i\\right) \\, C^{8} - \\left(26.909 + 83.859i\\right) \\, C^{7} + \\left(9.0668 - 14.880i\\right) \\, C^{6} + \\left(2.4879 - 0.54149i\\right) \\, C^{5} + \\left(0.23313 + 0.14088i\\right) \\, C^{4} + \\left(0.0066964 + 0.019682i\\right) \\, C^{3} - \\left(0.00031884 - 0.0010254i\\right) \\, C^{2} - \\left(0.000024953 - 0.000022188i\\right) \\, C - 4.4432 \\times 10^{-7} + 1.2771 \\times 10^{-7}i</script></html>"
      ],
      "text/latex": [
       "$$\\newcommand{\\Bold}[1]{\\mathbf{#1}}C^{16} + \\left(3.2784 + 18.272i\\right) \\, C^{15} - \\left(132.07 - 51.765i\\right) \\, C^{14} - \\left(326.79 + 476.93i\\right) \\, C^{13} + \\left(874.91 - 1047.6i\\right) \\, C^{12} + \\left(1794.0 + 659.69i\\right) \\, C^{11} + \\left(141.38 + 1604.8i\\right) \\, C^{10} - \\left(714.03 - 505.66i\\right) \\, C^{9} - \\left(307.14 + 112.82i\\right) \\, C^{8} - \\left(26.909 + 83.859i\\right) \\, C^{7} + \\left(9.0668 - 14.880i\\right) \\, C^{6} + \\left(2.4879 - 0.54149i\\right) \\, C^{5} + \\left(0.23313 + 0.14088i\\right) \\, C^{4} + \\left(0.0066964 + 0.019682i\\right) \\, C^{3} - \\left(0.00031884 - 0.0010254i\\right) \\, C^{2} - \\left(0.000024953 - 0.000022188i\\right) \\, C - 4.4432 \\times 10^{-7} + 1.2771 \\times 10^{-7}i$$"
      ],
      "text/plain": [
       "C^16 + (3.2784 + 18.272*I)*C^15 - (132.07 - 51.765*I)*C^14 - (326.79 + 476.93*I)*C^13 + (874.91 - 1047.6*I)*C^12 + (1794.0 + 659.69*I)*C^11 + (141.38 + 1604.8*I)*C^10 - (714.03 - 505.66*I)*C^9 - (307.14 + 112.82*I)*C^8 - (26.909 + 83.859*I)*C^7 + (9.0668 - 14.880*I)*C^6 + (2.4879 - 0.54149*I)*C^5 + (0.23313 + 0.14088*I)*C^4 + (0.0066964 + 0.019682*I)*C^3 - (0.00031884 - 0.0010254*I)*C^2 - (0.000024953 - 0.000022188*I)*C - 4.4432e-7 + 1.2771e-7*I"
      ]
     },
     "metadata": {},
     "output_type": "display_data"
    }
   ],
   "source": [
    "m=0\n",
    "x = symround(f.subs(R_f=2.1,Deg1=np.sqrt(2)*C^m,Deg2=np.e*C^m,DEg=np.sqrt(5)*C^m,r_g=np.sqrt(3),gamma=0.3,r_f=0.1*np.sqrt(2), phi=np.pi/10,gamma_f=1.45,gamma_g=3),digits=14)\n",
    "x = x._mathematica_().Together().sage()\n",
    "print('Numerator')\n",
    "show(symround(x._mathematica_().Numerator()._sage_().expand(),digits=5))\n",
    "print('\\n\\nDenominator')\n",
    "show(symround(x._mathematica_().Denominator()._sage_().expand(),digits=5))"
   ]
  },
  {
   "cell_type": "code",
   "execution_count": 248,
   "id": "31f015d8",
   "metadata": {},
   "outputs": [
    {
     "name": "stdout",
     "output_type": "stream",
     "text": [
      "coeff:\n"
     ]
    },
    {
     "data": {
      "text/html": [
       "<html><script type=\"math/tex; mode=display\">\\newcommand{\\Bold}[1]{\\mathbf{#1}}\\sqrt{\\gamma_{g}}</script></html>"
      ],
      "text/latex": [
       "$$\\newcommand{\\Bold}[1]{\\mathbf{#1}}\\sqrt{\\gamma_{g}}$$"
      ],
      "text/plain": [
       "sqrt(gamma_g)"
      ]
     },
     "metadata": {},
     "output_type": "display_data"
    }
   ],
   "source": [
    "#m = 3\n",
    "\n",
    "lindop = 7\n",
    "pos = 7\n",
    "\n",
    "err = eff_lind[lindop][pos].subs(Omega=1,kappa_c=5.61,kappa_b=1.79, R_f=2.1,Deg1=np.sqrt(2)*C^m,Deg2=np.e*C^m,DEg=np.sqrt(5)*C^m,r_g=np.sqrt(3),gamma=0.3,r_f=0.1*np.sqrt(2), phi=np.pi/10,gamma_f=1.45,gamma_g=3)\n",
    "\n",
    "err = err._mathematica_().Together()._sage_() \n",
    "err = SR(str(( err)).replace('Sqrt','sqrt'))\n",
    "#err = SR(str(MMA_simplify( err,full=False )).replace('Sqrt','sqrt')).simplify()\n",
    "#show( symround( err ,digits=1) )\n",
    "print(f'coeff:')\n",
    "show(eff_lind_coeff[lindop])"
   ]
  },
  {
   "cell_type": "code",
   "execution_count": 249,
   "id": "93dfa6fd",
   "metadata": {},
   "outputs": [
    {
     "name": "stdout",
     "output_type": "stream",
     "text": [
      "Numerator\n"
     ]
    },
    {
     "ename": "AttributeError",
     "evalue": "'list' object has no attribute '_mathematica_'",
     "output_type": "error",
     "traceback": [
      "\u001b[0;31m---------------------------------------------------------------------------\u001b[0m",
      "\u001b[0;31mAttributeError\u001b[0m                            Traceback (most recent call last)",
      "\u001b[0;32m<ipython-input-249-1220bf790bed>\u001b[0m in \u001b[0;36m<module>\u001b[0;34m\u001b[0m\n\u001b[1;32m      4\u001b[0m \u001b[0mprint\u001b[0m\u001b[0;34m(\u001b[0m\u001b[0;34m'Numerator'\u001b[0m\u001b[0;34m)\u001b[0m\u001b[0;34m\u001b[0m\u001b[0;34m\u001b[0m\u001b[0m\n\u001b[1;32m      5\u001b[0m \u001b[0;34m\u001b[0m\u001b[0m\n\u001b[0;32m----> 6\u001b[0;31m \u001b[0mshow\u001b[0m\u001b[0;34m(\u001b[0m\u001b[0msymround\u001b[0m\u001b[0;34m(\u001b[0m\u001b[0mq\u001b[0m\u001b[0;34m.\u001b[0m\u001b[0m_mathematica_\u001b[0m\u001b[0;34m(\u001b[0m\u001b[0;34m)\u001b[0m\u001b[0;34m.\u001b[0m\u001b[0mNumerator\u001b[0m\u001b[0;34m(\u001b[0m\u001b[0;34m)\u001b[0m\u001b[0;34m.\u001b[0m\u001b[0m_sage_\u001b[0m\u001b[0;34m(\u001b[0m\u001b[0;34m)\u001b[0m\u001b[0;34m,\u001b[0m\u001b[0mdigits\u001b[0m\u001b[0;34m=\u001b[0m\u001b[0mInteger\u001b[0m\u001b[0;34m(\u001b[0m\u001b[0;36m3\u001b[0m\u001b[0;34m)\u001b[0m\u001b[0;34m)\u001b[0m\u001b[0;34m.\u001b[0m\u001b[0mexpand\u001b[0m\u001b[0;34m(\u001b[0m\u001b[0;34m)\u001b[0m\u001b[0;34m)\u001b[0m\u001b[0;34m\u001b[0m\u001b[0;34m\u001b[0m\u001b[0m\n\u001b[0m\u001b[1;32m      7\u001b[0m \u001b[0;34m\u001b[0m\u001b[0m\n\u001b[1;32m      8\u001b[0m \u001b[0mprint\u001b[0m\u001b[0;34m(\u001b[0m\u001b[0mobtain_exponent\u001b[0m\u001b[0;34m(\u001b[0m\u001b[0msymround\u001b[0m\u001b[0;34m(\u001b[0m\u001b[0mq\u001b[0m\u001b[0;34m.\u001b[0m\u001b[0m_mathematica_\u001b[0m\u001b[0;34m(\u001b[0m\u001b[0;34m)\u001b[0m\u001b[0;34m.\u001b[0m\u001b[0mNumerator\u001b[0m\u001b[0;34m(\u001b[0m\u001b[0;34m)\u001b[0m\u001b[0;34m.\u001b[0m\u001b[0m_sage_\u001b[0m\u001b[0;34m(\u001b[0m\u001b[0;34m)\u001b[0m\u001b[0;34m,\u001b[0m\u001b[0mdigits\u001b[0m\u001b[0;34m=\u001b[0m\u001b[0mInteger\u001b[0m\u001b[0;34m(\u001b[0m\u001b[0;36m3\u001b[0m\u001b[0;34m)\u001b[0m\u001b[0;34m)\u001b[0m\u001b[0;34m.\u001b[0m\u001b[0mexpand\u001b[0m\u001b[0;34m(\u001b[0m\u001b[0;34m)\u001b[0m\u001b[0;34m)\u001b[0m\u001b[0;34m)\u001b[0m\u001b[0;34m\u001b[0m\u001b[0;34m\u001b[0m\u001b[0m\n",
      "\u001b[0;31mAttributeError\u001b[0m: 'list' object has no attribute '_mathematica_'"
     ]
    }
   ],
   "source": [
    "el = 0\n",
    "q = (symround(err._mathematica_().Numerator()._sage_() ,tol=1e-30 ).expand().operands()[el])\n",
    "\n",
    "print('Numerator')\n",
    "\n",
    "show(symround(q._mathematica_().Numerator()._sage_(),digits=3).expand())\n",
    "\n",
    "print(obtain_exponent(symround(q._mathematica_().Numerator()._sage_(),digits=3).expand()))\n",
    "\n",
    "print('\\n\\nDenominator')\n",
    "show(symround(q._mathematica_().Denominator()._sage_(),digits=3).expand())\n",
    "print(obtain_exponent(symround(q._mathematica_().Denominator()._sage_(),digits=3).expand()))\n",
    "\n",
    "print('\\n\\nextra Denominator')\n",
    "show( symround(err._mathematica_().Denominator()._sage_().expand(),digits=3))\n",
    "\n",
    "print(obtain_exponent(symround(err._mathematica_().Denominator()._sage_().expand(),digits=3)))"
   ]
  },
  {
   "cell_type": "code",
   "execution_count": 234,
   "id": "31ddb98f",
   "metadata": {
    "scrolled": true
   },
   "outputs": [
    {
     "data": {
      "text/html": [
       "<html><script type=\"math/tex; mode=display\">\\newcommand{\\Bold}[1]{\\mathbf{#1}}-\\left(22. - 7.2i\\right) \\, C^{12} + \\left(60. + 190.i\\right) \\, C^{12.} - \\left(162 i - 496\\right) \\, C^{11} - \\left(420 i + 152\\right) \\, C^{10.} + \\left(14. + 6.8i\\right) \\, C^{10} - \\left(56. + 180.i\\right) \\, C^{9.5} - \\left(60. - 20.i\\right) \\, C^{9} - \\left(6.1 + 20.i\\right) \\, C^{8.5} - \\left(14. - 4.4i\\right) \\, C^{8} + \\left(0.23 + 0.72i\\right) \\, C^{7.5} - \\left(0.92 - 0.30i\\right) \\, C^{7} + \\left(0.063 + 0.20i\\right) \\, C^{6.5} - \\left(0.0073 - 0.0023i\\right) \\, C^{6} + \\left(0.0022 + 0.0067i\\right) \\, C^{5.5} + \\left(0.00082 - 0.00026i\\right) \\, C^{5} - \\left(0.000010 + 0.000032i\\right) \\, C^{4.5} + \\left(7.7 \\times 10^{-21} + 1.5 \\times 10^{-20}i\\right) \\, C^{4} + \\left(4.4 \\times 10^{-22} - 1.4 \\times 10^{-21}i\\right) \\, C^{3.5}</script></html>"
      ],
      "text/latex": [
       "$$\\newcommand{\\Bold}[1]{\\mathbf{#1}}-\\left(22. - 7.2i\\right) \\, C^{12} + \\left(60. + 190.i\\right) \\, C^{12.} - \\left(162 i - 496\\right) \\, C^{11} - \\left(420 i + 152\\right) \\, C^{10.} + \\left(14. + 6.8i\\right) \\, C^{10} - \\left(56. + 180.i\\right) \\, C^{9.5} - \\left(60. - 20.i\\right) \\, C^{9} - \\left(6.1 + 20.i\\right) \\, C^{8.5} - \\left(14. - 4.4i\\right) \\, C^{8} + \\left(0.23 + 0.72i\\right) \\, C^{7.5} - \\left(0.92 - 0.30i\\right) \\, C^{7} + \\left(0.063 + 0.20i\\right) \\, C^{6.5} - \\left(0.0073 - 0.0023i\\right) \\, C^{6} + \\left(0.0022 + 0.0067i\\right) \\, C^{5.5} + \\left(0.00082 - 0.00026i\\right) \\, C^{5} - \\left(0.000010 + 0.000032i\\right) \\, C^{4.5} + \\left(7.7 \\times 10^{-21} + 1.5 \\times 10^{-20}i\\right) \\, C^{4} + \\left(4.4 \\times 10^{-22} - 1.4 \\times 10^{-21}i\\right) \\, C^{3.5}$$"
      ],
      "text/plain": [
       "-(22. - 7.2*I)*C^12 + (60. + 190.*I)*C^12. - (162*I - 496)*C^11 - (420*I + 152)*C^10. + (14. + 6.8*I)*C^10 - (56. + 180.*I)*C^9.5 - (60. - 20.*I)*C^9 - (6.1 + 20.*I)*C^8.5 - (14. - 4.4*I)*C^8 + (0.23 + 0.72*I)*C^7.5 - (0.92 - 0.30*I)*C^7 + (0.063 + 0.20*I)*C^6.5 - (0.0073 - 0.0023*I)*C^6 + (0.0022 + 0.0067*I)*C^5.5 + (0.00082 - 0.00026*I)*C^5 - (0.000010 + 0.000032*I)*C^4.5 + (7.7e-21 + 1.5e-20*I)*C^4 + (4.4e-22 - 1.4e-21*I)*C^3.5"
      ]
     },
     "metadata": {},
     "output_type": "display_data"
    }
   ],
   "source": [
    "show(symround(err._mathematica_().Numerator()._sage_().expand(),tol=1e-30))\n",
    "#show(symround( err.numerator().expand()))"
   ]
  },
  {
   "cell_type": "code",
   "execution_count": 235,
   "id": "8f113cbf",
   "metadata": {},
   "outputs": [
    {
     "data": {
      "text/html": [
       "<html><script type=\"math/tex; mode=display\">\\newcommand{\\Bold}[1]{\\mathbf{#1}}\\left(4.4 + 15.i\\right) \\, C^{13} - \\left(63 i - 226\\right) \\, C^{12.} - \\left(1216 i + 328\\right) \\, C^{12} + \\left(720 i - 2720\\right) \\, C^{12.} + \\left(1536 i + 420\\right) \\, C^{11} + \\left(624 i - 2976\\right) \\, C^{10.} + \\left(3776 i + 808\\right) \\, C^{10} - \\left(166 i - 214\\right) \\, C^{9.5} + \\left(1456 i + 142\\right) \\, C^{9} - \\left(71 i - 504\\right) \\, C^{8.5} - \\left(0.66 - 180.i\\right) \\, C^{8} + \\left(120. - 5.7i\\right) \\, C^{7.5} - \\left(1.1 - 0.55i\\right) \\, C^{7} + \\left(11. - 0.052i\\right) \\, C^{6.5} - \\left(0.040 + 1.6i\\right) \\, C^{6} + \\left(0.39 + 0.0046i\\right) \\, C^{5.5} + \\left(0.00018 - 0.12i\\right) \\, C^{5} - \\left(0.0026 - 6.9 \\times 10^{-18}i\\right) \\, C^{4.5} - \\left(1.2 \\times 10^{-18} + 0.0023i\\right) \\, C^{4} - \\left(0.00031 - 4.2 \\times 10^{-19}i\\right) \\, C^{3.5} + \\left(5.3 \\times 10^{-20} + 0.000012i\\right) \\, C^{3} - \\left(1.1 \\times 10^{-21} + 5.8 \\times 10^{-21}i\\right) \\, C^{2.5} - \\left(3.0 \\times 10^{-22} - 4.1 \\times 10^{-22}i\\right) \\, C^{2}</script></html>"
      ],
      "text/latex": [
       "$$\\newcommand{\\Bold}[1]{\\mathbf{#1}}\\left(4.4 + 15.i\\right) \\, C^{13} - \\left(63 i - 226\\right) \\, C^{12.} - \\left(1216 i + 328\\right) \\, C^{12} + \\left(720 i - 2720\\right) \\, C^{12.} + \\left(1536 i + 420\\right) \\, C^{11} + \\left(624 i - 2976\\right) \\, C^{10.} + \\left(3776 i + 808\\right) \\, C^{10} - \\left(166 i - 214\\right) \\, C^{9.5} + \\left(1456 i + 142\\right) \\, C^{9} - \\left(71 i - 504\\right) \\, C^{8.5} - \\left(0.66 - 180.i\\right) \\, C^{8} + \\left(120. - 5.7i\\right) \\, C^{7.5} - \\left(1.1 - 0.55i\\right) \\, C^{7} + \\left(11. - 0.052i\\right) \\, C^{6.5} - \\left(0.040 + 1.6i\\right) \\, C^{6} + \\left(0.39 + 0.0046i\\right) \\, C^{5.5} + \\left(0.00018 - 0.12i\\right) \\, C^{5} - \\left(0.0026 - 6.9 \\times 10^{-18}i\\right) \\, C^{4.5} - \\left(1.2 \\times 10^{-18} + 0.0023i\\right) \\, C^{4} - \\left(0.00031 - 4.2 \\times 10^{-19}i\\right) \\, C^{3.5} + \\left(5.3 \\times 10^{-20} + 0.000012i\\right) \\, C^{3} - \\left(1.1 \\times 10^{-21} + 5.8 \\times 10^{-21}i\\right) \\, C^{2.5} - \\left(3.0 \\times 10^{-22} - 4.1 \\times 10^{-22}i\\right) \\, C^{2}$$"
      ],
      "text/plain": [
       "(4.4 + 15.*I)*C^13 - (63*I - 226)*C^12. - (1216*I + 328)*C^12 + (720*I - 2720)*C^12. + (1536*I + 420)*C^11 + (624*I - 2976)*C^10. + (3776*I + 808)*C^10 - (166*I - 214)*C^9.5 + (1456*I + 142)*C^9 - (71*I - 504)*C^8.5 - (0.66 - 180.*I)*C^8 + (120. - 5.7*I)*C^7.5 - (1.1 - 0.55*I)*C^7 + (11. - 0.052*I)*C^6.5 - (0.040 + 1.6*I)*C^6 + (0.39 + 0.0046*I)*C^5.5 + (0.00018 - 0.12*I)*C^5 - (0.0026 - 6.9e-18*I)*C^4.5 - (1.2e-18 + 0.0023*I)*C^4 - (0.00031 - 4.2e-19*I)*C^3.5 + (5.3e-20 + 0.000012*I)*C^3 - (1.1e-21 + 5.8e-21*I)*C^2.5 - (3.0e-22 - 4.1e-22*I)*C^2"
      ]
     },
     "metadata": {},
     "output_type": "display_data"
    }
   ],
   "source": [
    "#show(symround(err.denominator().expand()))\n",
    "den = err._mathematica_().Denominator()._sage_().expand()\n",
    "den = SR(str(MMA_simplify( den,full=False )).replace('Sqrt','sqrt')).simplify()\n",
    "show(symround(den,tol=1e-30))"
   ]
  },
  {
   "cell_type": "markdown",
   "id": "594aef05",
   "metadata": {},
   "source": [
    "# Testing for auto"
   ]
  },
  {
   "cell_type": "code",
   "execution_count": 251,
   "id": "cf0b2c1e",
   "metadata": {},
   "outputs": [],
   "source": [
    "def obtain_exponent(expr):\n",
    "    expr = SR(str(( expr)).replace('Sqrt','sqrt'))\n",
    "    try:\n",
    "        exp = expr.op[0].op[0].op[0].op[1]\n",
    "    except:\n",
    "        try:\n",
    "            exp = expr.op[0].op[0].op[1]\n",
    "        except:\n",
    "            try:\n",
    "                exp = expr.op[0].op[1]\n",
    "            except:\n",
    "                exp = 0\n",
    "    return exp\n",
    "\n",
    "def obtain_expr_exp(expr):\n",
    "    try:\n",
    "        el = 0    \n",
    "        q = (expr._mathematica_().Numerator()._sage_() .expand().operands()[el])\n",
    "        q = SR(str(( q)).replace('Sqrt','sqrt'))\n",
    "        test_bool = (str(q._mathematica_().Numerator()._sage_().expand().denominator()) == str(1))\n",
    "        num_exp = (obtain_exponent(q._mathematica_().Numerator()._sage_().expand()))\n",
    "        den1_exp = (obtain_exponent(q._mathematica_().Denominator()._sage_().expand()))\n",
    "        den2_exp = (obtain_exponent(expr._mathematica_().Denominator()._sage_().expand()))\n",
    "        res = num_exp-den1_exp-den2_exp\n",
    "        if not test_bool:\n",
    "            #show(q)\n",
    "            res = obtain_exponent(q.numerator())-obtain_exponent(q.denominator())\n",
    "            return res\n",
    "        return res\n",
    "    except:\n",
    "        #print('altern')\n",
    "        den_exp = obtain_exponent( expr._mathematica_().Denominator()._sage_().expand())\n",
    "        num_exp = obtain_exponent( expr._mathematica_().Numerator()._sage_().expand())\n",
    "        return num_exp-den_exp\n"
   ]
  },
  {
   "cell_type": "code",
   "execution_count": 252,
   "id": "920d5027",
   "metadata": {},
   "outputs": [
    {
     "data": {
      "text/html": [
       "<html><script type=\"math/tex; mode=display\">\\newcommand{\\Bold}[1]{\\mathbf{#1}}0 \\sqrt{\\kappa_{c}}</script></html>"
      ],
      "text/latex": [
       "$$\\newcommand{\\Bold}[1]{\\mathbf{#1}}0 \\sqrt{\\kappa_{c}}$$"
      ],
      "text/plain": [
       "0 sqrt(kappa_c)"
      ]
     },
     "metadata": {},
     "output_type": "display_data"
    },
    {
     "name": "stdout",
     "output_type": "stream",
     "text": [
      "-3/2\n",
      "-3/2\n",
      "-3/2\n",
      "-3/2\n",
      "-3/2\n",
      "-3/2\n",
      "-3/2\n",
      "1.00000000000000\n"
     ]
    },
    {
     "data": {
      "text/html": [
       "<html><script type=\"math/tex; mode=display\">\\newcommand{\\Bold}[1]{\\mathbf{#1}}1 \\sqrt{\\gamma}</script></html>"
      ],
      "text/latex": [
       "$$\\newcommand{\\Bold}[1]{\\mathbf{#1}}1 \\sqrt{\\gamma}$$"
      ],
      "text/plain": [
       "1 sqrt(gamma)"
      ]
     },
     "metadata": {},
     "output_type": "display_data"
    },
    {
     "name": "stdout",
     "output_type": "stream",
     "text": [
      "-2\n",
      "-2\n",
      "-2\n",
      "-2\n"
     ]
    },
    {
     "data": {
      "text/html": [
       "<html><script type=\"math/tex; mode=display\">\\newcommand{\\Bold}[1]{\\mathbf{#1}}2 \\sqrt{\\kappa_{b}}</script></html>"
      ],
      "text/latex": [
       "$$\\newcommand{\\Bold}[1]{\\mathbf{#1}}2 \\sqrt{\\kappa_{b}}$$"
      ],
      "text/plain": [
       "2 sqrt(kappa_b)"
      ]
     },
     "metadata": {},
     "output_type": "display_data"
    },
    {
     "name": "stdout",
     "output_type": "stream",
     "text": [
      "-1\n",
      "-1\n",
      "-1\n",
      "-1\n",
      "-1\n",
      "-1\n",
      "-1\n",
      "-1.19194450083240e6 + 866010.722099827*I\n"
     ]
    },
    {
     "data": {
      "text/html": [
       "<html><script type=\"math/tex; mode=display\">\\newcommand{\\Bold}[1]{\\mathbf{#1}}3 \\sqrt{\\kappa_{c}}</script></html>"
      ],
      "text/latex": [
       "$$\\newcommand{\\Bold}[1]{\\mathbf{#1}}3 \\sqrt{\\kappa_{c}}$$"
      ],
      "text/plain": [
       "3 sqrt(kappa_c)"
      ]
     },
     "metadata": {},
     "output_type": "display_data"
    },
    {
     "name": "stdout",
     "output_type": "stream",
     "text": [
      "-3/2\n",
      "-3/2\n",
      "-3/2\n",
      "-3/2\n",
      "-3/2\n",
      "-3/2\n",
      "-3/2\n",
      "-3/2\n"
     ]
    },
    {
     "data": {
      "text/html": [
       "<html><script type=\"math/tex; mode=display\">\\newcommand{\\Bold}[1]{\\mathbf{#1}}4 \\sqrt{\\gamma}</script></html>"
      ],
      "text/latex": [
       "$$\\newcommand{\\Bold}[1]{\\mathbf{#1}}4 \\sqrt{\\gamma}$$"
      ],
      "text/plain": [
       "4 sqrt(gamma)"
      ]
     },
     "metadata": {},
     "output_type": "display_data"
    },
    {
     "name": "stdout",
     "output_type": "stream",
     "text": [
      "-2\n",
      "-2\n",
      "-2\n",
      "-2\n"
     ]
    },
    {
     "data": {
      "text/html": [
       "<html><script type=\"math/tex; mode=display\">\\newcommand{\\Bold}[1]{\\mathbf{#1}}5 \\sqrt{\\kappa_{b}}</script></html>"
      ],
      "text/latex": [
       "$$\\newcommand{\\Bold}[1]{\\mathbf{#1}}5 \\sqrt{\\kappa_{b}}$$"
      ],
      "text/plain": [
       "5 sqrt(kappa_b)"
      ]
     },
     "metadata": {},
     "output_type": "display_data"
    },
    {
     "name": "stdout",
     "output_type": "stream",
     "text": [
      "-1\n",
      "-1\n",
      "-1\n",
      "-1\n",
      "-1\n",
      "-1\n",
      "-1\n",
      "-1.00000000000000\n"
     ]
    },
    {
     "data": {
      "text/html": [
       "<html><script type=\"math/tex; mode=display\">\\newcommand{\\Bold}[1]{\\mathbf{#1}}6 \\sqrt{\\kappa_{c}}</script></html>"
      ],
      "text/latex": [
       "$$\\newcommand{\\Bold}[1]{\\mathbf{#1}}6 \\sqrt{\\kappa_{c}}$$"
      ],
      "text/plain": [
       "6 sqrt(kappa_c)"
      ]
     },
     "metadata": {},
     "output_type": "display_data"
    },
    {
     "name": "stdout",
     "output_type": "stream",
     "text": [
      "-3/2\n",
      "-3/2\n",
      "-3/2\n",
      "-3/2\n",
      "-3/2\n",
      "-3/2\n",
      "-3/2\n",
      "-1.19194100083240e6 + 866010.722099827*I\n"
     ]
    },
    {
     "data": {
      "text/html": [
       "<html><script type=\"math/tex; mode=display\">\\newcommand{\\Bold}[1]{\\mathbf{#1}}7 \\sqrt{\\gamma_{g}}</script></html>"
      ],
      "text/latex": [
       "$$\\newcommand{\\Bold}[1]{\\mathbf{#1}}7 \\sqrt{\\gamma_{g}}$$"
      ],
      "text/plain": [
       "7 sqrt(gamma_g)"
      ]
     },
     "metadata": {},
     "output_type": "display_data"
    },
    {
     "name": "stdout",
     "output_type": "stream",
     "text": [
      "-1\n",
      "-1\n",
      "-1\n",
      "-1\n",
      "-1\n",
      "-1\n",
      "-1\n",
      "-1\n"
     ]
    },
    {
     "data": {
      "text/html": [
       "<html><script type=\"math/tex; mode=display\">\\newcommand{\\Bold}[1]{\\mathbf{#1}}8 \\sqrt{\\gamma_{f}}</script></html>"
      ],
      "text/latex": [
       "$$\\newcommand{\\Bold}[1]{\\mathbf{#1}}8 \\sqrt{\\gamma_{f}}$$"
      ],
      "text/plain": [
       "8 sqrt(gamma_f)"
      ]
     },
     "metadata": {},
     "output_type": "display_data"
    },
    {
     "name": "stdout",
     "output_type": "stream",
     "text": [
      "-1\n",
      "-1\n",
      "-1\n",
      "-1\n",
      "-1\n",
      "-1\n",
      "-1\n",
      "-1\n"
     ]
    },
    {
     "data": {
      "text/html": [
       "<html><script type=\"math/tex; mode=display\">\\newcommand{\\Bold}[1]{\\mathbf{#1}}9 \\sqrt{\\kappa_{b}}</script></html>"
      ],
      "text/latex": [
       "$$\\newcommand{\\Bold}[1]{\\mathbf{#1}}9 \\sqrt{\\kappa_{b}}$$"
      ],
      "text/plain": [
       "9 sqrt(kappa_b)"
      ]
     },
     "metadata": {},
     "output_type": "display_data"
    },
    {
     "name": "stdout",
     "output_type": "stream",
     "text": [
      "-1\n",
      "-1\n",
      "-1\n",
      "-1\n",
      "-1\n",
      "-1\n",
      "-1\n",
      "-1\n"
     ]
    },
    {
     "data": {
      "text/html": [
       "<html><script type=\"math/tex; mode=display\">\\newcommand{\\Bold}[1]{\\mathbf{#1}}10 \\sqrt{\\kappa_{c}}</script></html>"
      ],
      "text/latex": [
       "$$\\newcommand{\\Bold}[1]{\\mathbf{#1}}10 \\sqrt{\\kappa_{c}}$$"
      ],
      "text/plain": [
       "10 sqrt(kappa_c)"
      ]
     },
     "metadata": {},
     "output_type": "display_data"
    },
    {
     "name": "stdout",
     "output_type": "stream",
     "text": [
      "-3/2\n",
      "-3/2\n",
      "-3/2\n",
      "-3/2\n",
      "-3/2\n",
      "-3/2\n",
      "-3/2\n",
      "-3/2\n"
     ]
    },
    {
     "data": {
      "text/html": [
       "<html><script type=\"math/tex; mode=display\">\\newcommand{\\Bold}[1]{\\mathbf{#1}}11 \\sqrt{\\gamma}</script></html>"
      ],
      "text/latex": [
       "$$\\newcommand{\\Bold}[1]{\\mathbf{#1}}11 \\sqrt{\\gamma}$$"
      ],
      "text/plain": [
       "11 sqrt(gamma)"
      ]
     },
     "metadata": {},
     "output_type": "display_data"
    },
    {
     "name": "stdout",
     "output_type": "stream",
     "text": [
      "-2\n",
      "-2\n",
      "-2\n",
      "-2\n"
     ]
    },
    {
     "data": {
      "text/html": [
       "<html><script type=\"math/tex; mode=display\">\\newcommand{\\Bold}[1]{\\mathbf{#1}}12 \\sqrt{\\kappa_{b}}</script></html>"
      ],
      "text/latex": [
       "$$\\newcommand{\\Bold}[1]{\\mathbf{#1}}12 \\sqrt{\\kappa_{b}}$$"
      ],
      "text/plain": [
       "12 sqrt(kappa_b)"
      ]
     },
     "metadata": {},
     "output_type": "display_data"
    },
    {
     "name": "stdout",
     "output_type": "stream",
     "text": [
      "-1\n",
      "-1\n",
      "-1\n",
      "-1\n",
      "-1\n",
      "-1\n",
      "-1\n",
      "-1\n"
     ]
    }
   ],
   "source": [
    "#mx = -100\n",
    "m = 1\n",
    "for lindop in range(13):\n",
    "    show(lindop,eff_lind_coeff[lindop]  )\n",
    "    pos = 0\n",
    "    more = True\n",
    "    while(more):\n",
    "        try: \n",
    "            err = eff_lind[lindop][pos].subs(Omega=1,kappa_c=5.61,kappa_b=1.79, R_f=2.1,Deg1=np.sqrt(2)*C^m,Deg2=np.e*C^m,DEg=np.sqrt(5)*C^m,r_g=np.sqrt(3),gamma=0.3,r_f=0.1*np.sqrt(2), phi=np.pi/10,gamma_f=1.45,gamma_g=3)\n",
    "            err = err._mathematica_().Together()._sage_() \n",
    "            exp = obtain_expr_exp(err)\n",
    "            if exp > mx:\n",
    "                mx = exp\n",
    "            pos += 1\n",
    "            print(exp)\n",
    "        except IndexError:\n",
    "            more = False"
   ]
  },
  {
   "cell_type": "code",
   "execution_count": 63,
   "id": "a1139301",
   "metadata": {},
   "outputs": [
    {
     "data": {
      "text/html": [
       "<html><script type=\"math/tex; mode=display\">\\newcommand{\\Bold}[1]{\\mathbf{#1}}1.00000000000000</script></html>"
      ],
      "text/latex": [
       "$$\\newcommand{\\Bold}[1]{\\mathbf{#1}}1.00000000000000$$"
      ],
      "text/plain": [
       "1.00000000000000"
      ]
     },
     "metadata": {},
     "output_type": "display_data"
    }
   ],
   "source": [
    "show(mx)"
   ]
  },
  {
   "cell_type": "code",
   "execution_count": 179,
   "id": "aa470180",
   "metadata": {},
   "outputs": [
    {
     "data": {
      "text/html": [
       "<html><script type=\"math/tex; mode=display\">\\newcommand{\\Bold}[1]{\\mathbf{#1}}\\frac{2.36854385646540 \\, {\\left(\\left(2.2737367544323206 \\times 10^{-13} - 5513.660907473835i\\right) \\, C^{\\frac{7}{2}} + \\left(2.842170943040401 \\times 10^{-14} - 689.2076134342294i\\right) \\, C^{\\frac{5}{2}}\\right)}}{{\\left(9426.862830620365 \\, C^{5} + \\left(27285.3681027740 - 44079.8476731565i\\right) \\, C^{4} + \\left(8526.67753211688 - 98508.8580175064i\\right) \\, C^{3} + \\left(852.667753211688 - 29482.7478931105i\\right) \\, C^{2} + \\left(26.6458672878653 - 2878.20639191472i\\right) \\, C - 88.3799230197386i\\right)}^{1.00000000000000}}</script></html>"
      ],
      "text/latex": [
       "$$\\newcommand{\\Bold}[1]{\\mathbf{#1}}\\frac{2.36854385646540 \\, {\\left(\\left(2.2737367544323206 \\times 10^{-13} - 5513.660907473835i\\right) \\, C^{\\frac{7}{2}} + \\left(2.842170943040401 \\times 10^{-14} - 689.2076134342294i\\right) \\, C^{\\frac{5}{2}}\\right)}}{{\\left(9426.862830620365 \\, C^{5} + \\left(27285.3681027740 - 44079.8476731565i\\right) \\, C^{4} + \\left(8526.67753211688 - 98508.8580175064i\\right) \\, C^{3} + \\left(852.667753211688 - 29482.7478931105i\\right) \\, C^{2} + \\left(26.6458672878653 - 2878.20639191472i\\right) \\, C - 88.3799230197386i\\right)}^{1.00000000000000}}$$"
      ],
      "text/plain": [
       "2.36854385646540*((2.2737367544323206e-13 - 5513.660907473835*I)*C^(7/2) + (2.842170943040401e-14 - 689.2076134342294*I)*C^(5/2))/(9426.862830620365*C^5 + (27285.3681027740 - 44079.8476731565*I)*C^4 + (8526.67753211688 - 98508.8580175064*I)*C^3 + (852.667753211688 - 29482.7478931105*I)*C^2 + (26.6458672878653 - 2878.20639191472*I)*C - 88.3799230197386*I)^1.00000000000000"
      ]
     },
     "metadata": {},
     "output_type": "display_data"
    }
   ],
   "source": [
    "show(expr)"
   ]
  },
  {
   "cell_type": "code",
   "execution_count": 182,
   "id": "f8b64c4b",
   "metadata": {},
   "outputs": [],
   "source": []
  },
  {
   "cell_type": "code",
   "execution_count": 187,
   "id": "7ae7bd19",
   "metadata": {},
   "outputs": [
    {
     "data": {
      "text/plain": [
       "7/2"
      ]
     },
     "execution_count": 187,
     "metadata": {},
     "output_type": "execute_result"
    }
   ],
   "source": []
  },
  {
   "cell_type": "code",
   "execution_count": 188,
   "id": "b0ad42c0",
   "metadata": {},
   "outputs": [],
   "source": [
    "#TEST\n",
    "def obtain_exponent(expr):\n",
    "    try:\n",
    "        orde = SR(str(( expr)).replace('Sqrt','sqrt')).Order()\n",
    "        exp = orde.op[0].op[0].op[0].op[1]\n",
    "    except TypeError:\n",
    "        exp = 0\n",
    "    return exp\n",
    "\n",
    "orde.op[0].op[0].op[0].op[1]"
   ]
  },
  {
   "cell_type": "code",
   "execution_count": null,
   "id": "99a9dc78",
   "metadata": {},
   "outputs": [],
   "source": [
    "el = 0\n",
    "q = (symround(err._mathematica_().Numerator()._sage_() ,tol=1e-30 ).expand().operands()[el])\n",
    "\n",
    "print('Numerator')\n",
    "\n",
    "show(symround(q._mathematica_().Numerator()._sage_(),digits=3).expand())\n",
    "\n",
    "print(obtain_exponent(symround(q._mathematica_().Numerator()._sage_(),digits=3).expand()))\n",
    "\n",
    "print('\\n\\nDenominator')\n",
    "show(symround(q._mathematica_().Denominator()._sage_(),digits=3).expand())\n",
    "print(obtain_exponent(symround(q._mathematica_().Denominator()._sage_(),digits=3).expand()))\n",
    "\n",
    "print('\\n\\nextra Denominator')\n",
    "show( symround(err._mathematica_().Denominator()._sage_().expand(),digits=3))\n",
    "\n",
    "print(obtain_exponent(symround(err._mathematica_().Denominator()._sage_().expand(),digits=3)))"
   ]
  },
  {
   "cell_type": "code",
   "execution_count": 242,
   "id": "d7758542",
   "metadata": {},
   "outputs": [
    {
     "name": "stdout",
     "output_type": "stream",
     "text": [
      "symround: Deleted coefficient 3.8e-18\n",
      "symround: Deleted coefficient -3.8e-18\n"
     ]
    },
    {
     "data": {
      "text/html": [
       "<html><script type=\"math/tex; mode=display\">\\newcommand{\\Bold}[1]{\\mathbf{#1}}-0.12 \\, C^{28} - 1.7 \\, C^{27} - 2.8 \\, C^{26} - 7.9 \\, C^{25} - 8.4 \\, C^{24} - 13. \\, C^{23} - 9.5 \\, C^{22} - 9.2 \\, C^{21} - 2.9 \\, C^{20} - 0.22 \\, C^{19} + 2.8 \\, C^{18} + 3.4 \\, C^{17} + 3.0 \\, C^{16} + 2.1 \\, C^{15} + 1.1 \\, C^{14} + 0.54 \\, C^{13} + 0.21 \\, C^{12} + 0.069 \\, C^{11} + 0.018 \\, C^{10} + 0.0036 \\, C^{9} + 0.00050 \\, C^{8} + 0.000048 \\, C^{7} + \\left(3.0 \\times 10^{-6}\\right) \\, C^{6} + \\left(1.2 \\times 10^{-7}\\right) \\, C^{5} + \\left(2.6 \\times 10^{-9}\\right) \\, C^{4} + \\left(2.6 \\times 10^{-11}\\right) \\, C^{3}</script></html>"
      ],
      "text/latex": [
       "$$\\newcommand{\\Bold}[1]{\\mathbf{#1}}-0.12 \\, C^{28} - 1.7 \\, C^{27} - 2.8 \\, C^{26} - 7.9 \\, C^{25} - 8.4 \\, C^{24} - 13. \\, C^{23} - 9.5 \\, C^{22} - 9.2 \\, C^{21} - 2.9 \\, C^{20} - 0.22 \\, C^{19} + 2.8 \\, C^{18} + 3.4 \\, C^{17} + 3.0 \\, C^{16} + 2.1 \\, C^{15} + 1.1 \\, C^{14} + 0.54 \\, C^{13} + 0.21 \\, C^{12} + 0.069 \\, C^{11} + 0.018 \\, C^{10} + 0.0036 \\, C^{9} + 0.00050 \\, C^{8} + 0.000048 \\, C^{7} + \\left(3.0 \\times 10^{-6}\\right) \\, C^{6} + \\left(1.2 \\times 10^{-7}\\right) \\, C^{5} + \\left(2.6 \\times 10^{-9}\\right) \\, C^{4} + \\left(2.6 \\times 10^{-11}\\right) \\, C^{3}$$"
      ],
      "text/plain": [
       "-0.12*C^28 - 1.7*C^27 - 2.8*C^26 - 7.9*C^25 - 8.4*C^24 - 13.*C^23 - 9.5*C^22 - 9.2*C^21 - 2.9*C^20 - 0.22*C^19 + 2.8*C^18 + 3.4*C^17 + 3.0*C^16 + 2.1*C^15 + 1.1*C^14 + 0.54*C^13 + 0.21*C^12 + 0.069*C^11 + 0.018*C^10 + 0.0036*C^9 + 0.00050*C^8 + 0.000048*C^7 + (3.0e-6)*C^6 + (1.2e-7)*C^5 + (2.6e-9)*C^4 + (2.6e-11)*C^3"
      ]
     },
     "metadata": {},
     "output_type": "display_data"
    },
    {
     "data": {
      "text/html": [
       "<html><script type=\"math/tex; mode=display\">\\newcommand{\\Bold}[1]{\\mathbf{#1}}C^{30} + 2.9 \\, C^{29} + 17. \\, C^{28} + 34 \\, C^{27} + 105 \\, C^{26} + 162 \\, C^{25} + 332 \\, C^{24} + 420 \\, C^{23} + 616 \\, C^{22} + 656 \\, C^{21} + 728 \\, C^{20} + 648 \\, C^{19} + 560 \\, C^{18} + 416 \\, C^{17} + 284 \\, C^{16} + 172 \\, C^{15} + 92 \\, C^{14} + 44. \\, C^{13} + 18. \\, C^{12} + 6.2 \\, C^{11} + 1.9 \\, C^{10} + 0.46 \\, C^{9} + 0.088 \\, C^{8} + 0.013 \\, C^{7} + 0.0014 \\, C^{6} + 0.00012 \\, C^{5} + \\left(6.8 \\times 10^{-6}\\right) \\, C^{4} + \\left(2.8 \\times 10^{-7}\\right) \\, C^{3} + \\left(7.7 \\times 10^{-9}\\right) \\, C^{2} + \\left(1.3 \\times 10^{-10}\\right) \\, C</script></html>"
      ],
      "text/latex": [
       "$$\\newcommand{\\Bold}[1]{\\mathbf{#1}}C^{30} + 2.9 \\, C^{29} + 17. \\, C^{28} + 34 \\, C^{27} + 105 \\, C^{26} + 162 \\, C^{25} + 332 \\, C^{24} + 420 \\, C^{23} + 616 \\, C^{22} + 656 \\, C^{21} + 728 \\, C^{20} + 648 \\, C^{19} + 560 \\, C^{18} + 416 \\, C^{17} + 284 \\, C^{16} + 172 \\, C^{15} + 92 \\, C^{14} + 44. \\, C^{13} + 18. \\, C^{12} + 6.2 \\, C^{11} + 1.9 \\, C^{10} + 0.46 \\, C^{9} + 0.088 \\, C^{8} + 0.013 \\, C^{7} + 0.0014 \\, C^{6} + 0.00012 \\, C^{5} + \\left(6.8 \\times 10^{-6}\\right) \\, C^{4} + \\left(2.8 \\times 10^{-7}\\right) \\, C^{3} + \\left(7.7 \\times 10^{-9}\\right) \\, C^{2} + \\left(1.3 \\times 10^{-10}\\right) \\, C$$"
      ],
      "text/plain": [
       "C^30 + 2.9*C^29 + 17.*C^28 + 34*C^27 + 105*C^26 + 162*C^25 + 332*C^24 + 420*C^23 + 616*C^22 + 656*C^21 + 728*C^20 + 648*C^19 + 560*C^18 + 416*C^17 + 284*C^16 + 172*C^15 + 92*C^14 + 44.*C^13 + 18.*C^12 + 6.2*C^11 + 1.9*C^10 + 0.46*C^9 + 0.088*C^8 + 0.013*C^7 + 0.0014*C^6 + 0.00012*C^5 + (6.8e-6)*C^4 + (2.8e-7)*C^3 + (7.7e-9)*C^2 + (1.3e-10)*C"
      ]
     },
     "metadata": {},
     "output_type": "display_data"
    }
   ],
   "source": [
    "fsimp = symround(f.subs(Omega=1,DEg=1,phi=phival,R_f=R_fval,gamma_f=gamma_fval,gamma_g=gamma_gval,Deg2=1,Deg1= 1,gamma=1).subs(gamma=1))\n",
    "\n",
    "fsimp = MMA_simplify(fsimp)\n",
    "fsimp = MMA_simplify(fsimp+conjugate(fsimp),full=True)\n",
    "\n",
    "show(symround(fsimp._mathematica_().Collect('C').Numerator()._sage_().expand(),show_del=False))\n",
    "\n",
    "show(symround(fsimp._mathematica_().Collect('C').Denominator()._sage_().expand(),show_del=False))"
   ]
  },
  {
   "cell_type": "code",
   "execution_count": 249,
   "id": "54bd856e",
   "metadata": {},
   "outputs": [
    {
     "name": "stdout",
     "output_type": "stream",
     "text": [
      "symround: Deleted coefficient -1.4e-14\n"
     ]
    },
    {
     "data": {
      "text/html": [
       "<html><script type=\"math/tex; mode=display\">\\newcommand{\\Bold}[1]{\\mathbf{#1}}-22. \\, C^{5}</script></html>"
      ],
      "text/latex": [
       "$$\\newcommand{\\Bold}[1]{\\mathbf{#1}}-22. \\, C^{5}$$"
      ],
      "text/plain": [
       "-22.*C^5"
      ]
     },
     "metadata": {},
     "output_type": "display_data"
    },
    {
     "data": {
      "text/html": [
       "<html><script type=\"math/tex; mode=display\">\\newcommand{\\Bold}[1]{\\mathbf{#1}}1</script></html>"
      ],
      "text/latex": [
       "$$\\newcommand{\\Bold}[1]{\\mathbf{#1}}1$$"
      ],
      "text/plain": [
       "1"
      ]
     },
     "metadata": {},
     "output_type": "display_data"
    }
   ],
   "source": [
    "fsimp = symround(tg.subs(Omega=1,DEg=1,phi=phival,R_f=R_fval,gamma_f=gamma_fval,gamma_g=gamma_gval,Deg2=1,Deg1= 1,gamma=1).subs(gamma=1))\n",
    "\n",
    "fsimp = MMA_simplify(fsimp)\n",
    "fsimp = MMA_simplify(fsimp+conjugate(fsimp),full=True)\n",
    "\n",
    "show(symround(fsimp._mathematica_().Collect('C').Numerator()._sage_().expand(),show_del=False))\n",
    "\n",
    "show(symround(fsimp._mathematica_().Collect('C').Denominator()._sage_().expand(),show_del=False))"
   ]
  },
  {
   "cell_type": "code",
   "execution_count": 264,
   "id": "47b61e40",
   "metadata": {},
   "outputs": [
    {
     "data": {
      "text/plain": [
       "DEg"
      ]
     },
     "execution_count": 264,
     "metadata": {},
     "output_type": "execute_result"
    }
   ],
   "source": [
    "var('DEg', domain='positive' , latex_name =r'{{\\Delta E}}^\\gamma')"
   ]
  },
  {
   "cell_type": "code",
   "execution_count": 84,
   "id": "faceebf9",
   "metadata": {},
   "outputs": [
    {
     "name": "stdout",
     "output_type": "stream",
     "text": [
      "symround: Deleted coefficient 1.3e-15\n",
      "symround: Deleted coefficient 2.3e-14\n",
      "symround: Deleted coefficient 4.6e-14\n",
      "symround: Deleted coefficient 4.4e-14\n",
      "symround: Deleted coefficient -2.0e-14\n",
      "symround: Deleted coefficient 7.1e-14\n",
      "symround: Deleted coefficient 3.9e-14\n",
      "symround: Deleted coefficient -8.7e-14\n",
      "symround: Deleted coefficient -1.4e-14\n",
      "symround: Deleted coefficient -1.7e-14\n",
      "symround: Deleted coefficient 1.3e-15\n",
      "symround: Deleted coefficient 2.7e-15\n",
      "symround: Deleted coefficient -8.9e-16\n",
      "symround: Deleted coefficient -1.1e-16\n",
      "symround: Deleted coefficient 1.4e-17\n",
      "symround: Deleted coefficient -1.7e-18\n",
      "symround: Deleted coefficient 4.3e-19\n",
      "symround: Deleted coefficient -5.4e-20\n",
      "symround: Deleted coefficient 1.1e-22\n",
      "symround: Deleted coefficient -4.1e-25\n",
      "symround: Deleted coefficient -1.0e-13\n",
      "symround: Deleted coefficient 2.0e-28\n",
      "symround: Deleted coefficient -7.1e-16\n"
     ]
    },
    {
     "data": {
      "text/html": [
       "<html><script type=\"math/tex; mode=display\">\\newcommand{\\Bold}[1]{\\mathbf{#1}}-0.40 \\, C^{35} {\\Omega}^{2} - 1.0 \\, C^{34} {\\Omega}^{2} - 3.4 \\, C^{33} {\\Omega}^{2} - 6.9 \\, C^{32} {\\Omega}^{2} - 12. \\, C^{31} {\\Omega}^{2} - 20. \\, C^{30} {\\Omega}^{2} - 25. \\, C^{29} {\\Omega}^{2} - 32. \\, C^{28} {\\Omega}^{2} - 32. \\, C^{27} {\\Omega}^{2} - 32 \\, C^{26} {\\Omega}^{2} - 26. \\, C^{25} {\\Omega}^{2} - 22. \\, C^{24} {\\Omega}^{2} - 15. \\, C^{23} {\\Omega}^{2} - 9.8 \\, C^{22} {\\Omega}^{2} - 5.6 \\, C^{21} {\\Omega}^{2} - 3.0 \\, C^{20} {\\Omega}^{2} - 1.4 \\, C^{19} {\\Omega}^{2} - 0.59 \\, C^{18} {\\Omega}^{2} - 0.22 \\, C^{17} {\\Omega}^{2} - 0.073 \\, C^{16} {\\Omega}^{2} - 0.021 \\, C^{15} {\\Omega}^{2} - 0.0052 \\, C^{14} {\\Omega}^{2} - 0.0010 \\, C^{13} {\\Omega}^{2} - 0.00017 \\, C^{12} {\\Omega}^{2} - 0.000020 \\, C^{11} {\\Omega}^{2} - \\left(1.9 \\times 10^{-6}\\right) \\, C^{10} {\\Omega}^{2} - \\left(1.3 \\times 10^{-7}\\right) \\, C^{9} {\\Omega}^{2} - \\left(7.0 \\times 10^{-9}\\right) \\, C^{8} {\\Omega}^{2} - \\left(2.6 \\times 10^{-10}\\right) \\, C^{7} {\\Omega}^{2} - \\left(6.6 \\times 10^{-12}\\right) \\, C^{6} {\\Omega}^{2}</script></html>"
      ],
      "text/latex": [
       "$$\\newcommand{\\Bold}[1]{\\mathbf{#1}}-0.40 \\, C^{35} {\\Omega}^{2} - 1.0 \\, C^{34} {\\Omega}^{2} - 3.4 \\, C^{33} {\\Omega}^{2} - 6.9 \\, C^{32} {\\Omega}^{2} - 12. \\, C^{31} {\\Omega}^{2} - 20. \\, C^{30} {\\Omega}^{2} - 25. \\, C^{29} {\\Omega}^{2} - 32. \\, C^{28} {\\Omega}^{2} - 32. \\, C^{27} {\\Omega}^{2} - 32 \\, C^{26} {\\Omega}^{2} - 26. \\, C^{25} {\\Omega}^{2} - 22. \\, C^{24} {\\Omega}^{2} - 15. \\, C^{23} {\\Omega}^{2} - 9.8 \\, C^{22} {\\Omega}^{2} - 5.6 \\, C^{21} {\\Omega}^{2} - 3.0 \\, C^{20} {\\Omega}^{2} - 1.4 \\, C^{19} {\\Omega}^{2} - 0.59 \\, C^{18} {\\Omega}^{2} - 0.22 \\, C^{17} {\\Omega}^{2} - 0.073 \\, C^{16} {\\Omega}^{2} - 0.021 \\, C^{15} {\\Omega}^{2} - 0.0052 \\, C^{14} {\\Omega}^{2} - 0.0010 \\, C^{13} {\\Omega}^{2} - 0.00017 \\, C^{12} {\\Omega}^{2} - 0.000020 \\, C^{11} {\\Omega}^{2} - \\left(1.9 \\times 10^{-6}\\right) \\, C^{10} {\\Omega}^{2} - \\left(1.3 \\times 10^{-7}\\right) \\, C^{9} {\\Omega}^{2} - \\left(7.0 \\times 10^{-9}\\right) \\, C^{8} {\\Omega}^{2} - \\left(2.6 \\times 10^{-10}\\right) \\, C^{7} {\\Omega}^{2} - \\left(6.6 \\times 10^{-12}\\right) \\, C^{6} {\\Omega}^{2}$$"
      ],
      "text/plain": [
       "-0.40*C^35*Omega^2 - 1.0*C^34*Omega^2 - 3.4*C^33*Omega^2 - 6.9*C^32*Omega^2 - 12.*C^31*Omega^2 - 20.*C^30*Omega^2 - 25.*C^29*Omega^2 - 32.*C^28*Omega^2 - 32.*C^27*Omega^2 - 32*C^26*Omega^2 - 26.*C^25*Omega^2 - 22.*C^24*Omega^2 - 15.*C^23*Omega^2 - 9.8*C^22*Omega^2 - 5.6*C^21*Omega^2 - 3.0*C^20*Omega^2 - 1.4*C^19*Omega^2 - 0.59*C^18*Omega^2 - 0.22*C^17*Omega^2 - 0.073*C^16*Omega^2 - 0.021*C^15*Omega^2 - 0.0052*C^14*Omega^2 - 0.0010*C^13*Omega^2 - 0.00017*C^12*Omega^2 - 0.000020*C^11*Omega^2 - (1.9e-6)*C^10*Omega^2 - (1.3e-7)*C^9*Omega^2 - (7.0e-9)*C^8*Omega^2 - (2.6e-10)*C^7*Omega^2 - (6.6e-12)*C^6*Omega^2"
      ]
     },
     "metadata": {},
     "output_type": "display_data"
    },
    {
     "name": "stdout",
     "output_type": "stream",
     "text": [
      "\n",
      "\n",
      "\n",
      "symround: Deleted coefficient 3.6e-15\n",
      "symround: Deleted coefficient 4.4e-15\n",
      "symround: Deleted coefficient 4.4e-14\n",
      "symround: Deleted coefficient 5.8e-14\n",
      "symround: Deleted coefficient -7.2e-15\n",
      "symround: Deleted coefficient 1.8e-14\n",
      "symround: Deleted coefficient -3.1e-13\n",
      "symround: Deleted coefficient -1.1e-13\n",
      "symround: Deleted coefficient -2.7e-13\n",
      "symround: Deleted coefficient -8.9e-14\n",
      "symround: Deleted coefficient 2.7e-14\n",
      "symround: Deleted coefficient -5.1e-14\n",
      "symround: Deleted coefficient -5.2e-14\n",
      "symround: Deleted coefficient -3.5e-14\n",
      "symround: Deleted coefficient -2.7e-14\n",
      "symround: Deleted coefficient -5.3e-15\n",
      "symround: Deleted coefficient 1.4e-15\n",
      "symround: Deleted coefficient 1.8e-15\n",
      "symround: Deleted coefficient 3.7e-16\n",
      "symround: Deleted coefficient 4.4e-17\n",
      "symround: Deleted coefficient -1.6e-17\n",
      "symround: Deleted coefficient -1.3e-18\n",
      "symround: Deleted coefficient 1.6e-19\n",
      "symround: Deleted coefficient -4.2e-22\n",
      "symround: Deleted coefficient -1.3e-23\n",
      "symround: Deleted coefficient -3.3e-24\n",
      "symround: Deleted coefficient -5.2e-26\n",
      "symround: Deleted coefficient 2.4e-27\n",
      "symround: Deleted coefficient 4.2e-14\n",
      "symround: Deleted coefficient 1.6e-30\n",
      "symround: Deleted coefficient 5.0e-16\n",
      "symround: Deleted coefficient 2.5e-32\n",
      "symround: Deleted coefficient 2.8e-18\n"
     ]
    },
    {
     "data": {
      "text/html": [
       "<html><script type=\"math/tex; mode=display\">\\newcommand{\\Bold}[1]{\\mathbf{#1}}C^{36} + 2.1 \\, C^{35} + 11. \\, C^{34} + 20. \\, C^{33} + 52. \\, C^{32} + 78 \\, C^{31} + 140 \\, C^{30} + 182 \\, C^{29} + 250 \\, C^{28} + 276 \\, C^{27} + 300 \\, C^{26} + 280 \\, C^{25} + 252 \\, C^{24} + 200 \\, C^{23} + 148 \\, C^{22} + 99 \\, C^{21} + 60. \\, C^{20} + 34. \\, C^{19} + 17. \\, C^{18} + 7.6 \\, C^{17} + 3.1 \\, C^{16} + 1.1 \\, C^{15} + 0.34 \\, C^{14} + 0.093 \\, C^{13} + 0.021 \\, C^{12} + 0.0040 \\, C^{11} + 0.00063 \\, C^{10} + 0.000078 \\, C^{9} + \\left(8.0 \\times 10^{-6}\\right) \\, C^{8} + \\left(6.4 \\times 10^{-7}\\right) \\, C^{7} + \\left(4.1 \\times 10^{-8}\\right) \\, C^{6} + \\left(2.0 \\times 10^{-9}\\right) \\, C^{5} + \\left(7.7 \\times 10^{-11}\\right) \\, C^{4} + \\left(2.2 \\times 10^{-12}\\right) \\, C^{3}</script></html>"
      ],
      "text/latex": [
       "$$\\newcommand{\\Bold}[1]{\\mathbf{#1}}C^{36} + 2.1 \\, C^{35} + 11. \\, C^{34} + 20. \\, C^{33} + 52. \\, C^{32} + 78 \\, C^{31} + 140 \\, C^{30} + 182 \\, C^{29} + 250 \\, C^{28} + 276 \\, C^{27} + 300 \\, C^{26} + 280 \\, C^{25} + 252 \\, C^{24} + 200 \\, C^{23} + 148 \\, C^{22} + 99 \\, C^{21} + 60. \\, C^{20} + 34. \\, C^{19} + 17. \\, C^{18} + 7.6 \\, C^{17} + 3.1 \\, C^{16} + 1.1 \\, C^{15} + 0.34 \\, C^{14} + 0.093 \\, C^{13} + 0.021 \\, C^{12} + 0.0040 \\, C^{11} + 0.00063 \\, C^{10} + 0.000078 \\, C^{9} + \\left(8.0 \\times 10^{-6}\\right) \\, C^{8} + \\left(6.4 \\times 10^{-7}\\right) \\, C^{7} + \\left(4.1 \\times 10^{-8}\\right) \\, C^{6} + \\left(2.0 \\times 10^{-9}\\right) \\, C^{5} + \\left(7.7 \\times 10^{-11}\\right) \\, C^{4} + \\left(2.2 \\times 10^{-12}\\right) \\, C^{3}$$"
      ],
      "text/plain": [
       "C^36 + 2.1*C^35 + 11.*C^34 + 20.*C^33 + 52.*C^32 + 78*C^31 + 140*C^30 + 182*C^29 + 250*C^28 + 276*C^27 + 300*C^26 + 280*C^25 + 252*C^24 + 200*C^23 + 148*C^22 + 99*C^21 + 60.*C^20 + 34.*C^19 + 17.*C^18 + 7.6*C^17 + 3.1*C^16 + 1.1*C^15 + 0.34*C^14 + 0.093*C^13 + 0.021*C^12 + 0.0040*C^11 + 0.00063*C^10 + 0.000078*C^9 + (8.0e-6)*C^8 + (6.4e-7)*C^7 + (4.1e-8)*C^6 + (2.0e-9)*C^5 + (7.7e-11)*C^4 + (2.2e-12)*C^3"
      ]
     },
     "metadata": {},
     "output_type": "display_data"
    }
   ],
   "source": [
    "Cval = C\n",
    "phival = np.pi /3\n",
    "R_fval = 1\n",
    "gamma_fval = 1\n",
    "gamma_gval = 1\n",
    "Deg1val = 1\n",
    "Deg2val = 1\n",
    "Deg3val = 1\n",
    "DEgval = 1\n",
    "\n",
    "aa = f.subs(Deg3 = Deg3val,C=Cval,phi=phival,R_f=R_fval,gamma_f=gamma_fval,gamma_g=gamma_gval,Deg2=Deg2val,Deg1=Deg1val,DEg = DEgval,gamma=1 )\n",
    "aa =  aa._mathematica_().Together().Collect('C')._sage_()\n",
    "show(symround(aa._mathematica_().Numerator()._sage_().expand()))\n",
    "\n",
    "print('\\n\\n')\n",
    "\n",
    "show(symround(aa._mathematica_().Denominator()._sage_().expand()))"
   ]
  },
  {
   "cell_type": "code",
   "execution_count": 101,
   "id": "f531cb43",
   "metadata": {},
   "outputs": [
    {
     "data": {
      "text/html": [
       "<html><script type=\"math/tex; mode=display\">\\newcommand{\\Bold}[1]{\\mathbf{#1}}{\\left({{{\\Delta E}}^\\gamma}^{6} {{{\\Delta e}}_{{  2}}^\\gamma}^{6} {\\gamma}^{6} + 1.2 \\, {{{\\Delta E}}^\\gamma}^{6} {{{\\Delta e}}_{{  2}}^\\gamma}^{4} {\\gamma}^{6} + 1.5 \\, {{{\\Delta E}}^\\gamma}^{5} {{{\\Delta e}}_{{  2}}^\\gamma}^{5} {\\gamma}^{6} + 0.75 \\, {{{\\Delta E}}^\\gamma}^{4} {{{\\Delta e}}_{{  2}}^\\gamma}^{6} {\\gamma}^{6} + 0.25 \\, {{{\\Delta E}}^\\gamma}^{6} {{{\\Delta e}}_{{  2}}^\\gamma}^{2} {\\gamma}^{6} + 0.75 \\, {{{\\Delta E}}^\\gamma}^{5} {{{\\Delta e}}_{{  2}}^\\gamma}^{3} {\\gamma}^{6} + 1.1 \\, {{{\\Delta E}}^\\gamma}^{4} {{{\\Delta e}}_{{  2}}^\\gamma}^{4} {\\gamma}^{6} + 0.75 \\, {{{\\Delta E}}^\\gamma}^{3} {{{\\Delta e}}_{{  2}}^\\gamma}^{5} {\\gamma}^{6} + 0.19 \\, {{{\\Delta E}}^\\gamma}^{2} {{{\\Delta e}}_{{  2}}^\\gamma}^{6} {\\gamma}^{6} + 0.062 \\, {{{\\Delta E}}^\\gamma}^{4} {{{\\Delta e}}_{{  2}}^\\gamma}^{2} {\\gamma}^{6} + 0.19 \\, {{{\\Delta E}}^\\gamma}^{3} {{{\\Delta e}}_{{  2}}^\\gamma}^{3} {\\gamma}^{6} + 0.20 \\, {{{\\Delta E}}^\\gamma}^{2} {{{\\Delta e}}_{{  2}}^\\gamma}^{4} {\\gamma}^{6} + 0.094 \\, {{{\\Delta E}}^\\gamma} {{{\\Delta e}}_{{  2}}^\\gamma}^{5} {\\gamma}^{6} + 0.016 \\, {{{\\Delta e}}_{{  2}}^\\gamma}^{6} {\\gamma}^{6}\\right)} C^{30}</script></html>"
      ],
      "text/latex": [
       "$$\\newcommand{\\Bold}[1]{\\mathbf{#1}}{\\left({{{\\Delta E}}^\\gamma}^{6} {{{\\Delta e}}_{{  2}}^\\gamma}^{6} {\\gamma}^{6} + 1.2 \\, {{{\\Delta E}}^\\gamma}^{6} {{{\\Delta e}}_{{  2}}^\\gamma}^{4} {\\gamma}^{6} + 1.5 \\, {{{\\Delta E}}^\\gamma}^{5} {{{\\Delta e}}_{{  2}}^\\gamma}^{5} {\\gamma}^{6} + 0.75 \\, {{{\\Delta E}}^\\gamma}^{4} {{{\\Delta e}}_{{  2}}^\\gamma}^{6} {\\gamma}^{6} + 0.25 \\, {{{\\Delta E}}^\\gamma}^{6} {{{\\Delta e}}_{{  2}}^\\gamma}^{2} {\\gamma}^{6} + 0.75 \\, {{{\\Delta E}}^\\gamma}^{5} {{{\\Delta e}}_{{  2}}^\\gamma}^{3} {\\gamma}^{6} + 1.1 \\, {{{\\Delta E}}^\\gamma}^{4} {{{\\Delta e}}_{{  2}}^\\gamma}^{4} {\\gamma}^{6} + 0.75 \\, {{{\\Delta E}}^\\gamma}^{3} {{{\\Delta e}}_{{  2}}^\\gamma}^{5} {\\gamma}^{6} + 0.19 \\, {{{\\Delta E}}^\\gamma}^{2} {{{\\Delta e}}_{{  2}}^\\gamma}^{6} {\\gamma}^{6} + 0.062 \\, {{{\\Delta E}}^\\gamma}^{4} {{{\\Delta e}}_{{  2}}^\\gamma}^{2} {\\gamma}^{6} + 0.19 \\, {{{\\Delta E}}^\\gamma}^{3} {{{\\Delta e}}_{{  2}}^\\gamma}^{3} {\\gamma}^{6} + 0.20 \\, {{{\\Delta E}}^\\gamma}^{2} {{{\\Delta e}}_{{  2}}^\\gamma}^{4} {\\gamma}^{6} + 0.094 \\, {{{\\Delta E}}^\\gamma} {{{\\Delta e}}_{{  2}}^\\gamma}^{5} {\\gamma}^{6} + 0.016 \\, {{{\\Delta e}}_{{  2}}^\\gamma}^{6} {\\gamma}^{6}\\right)} C^{30}$$"
      ],
      "text/plain": [
       "(DEg^6*Deg2^6*gamma^6 + 1.2*DEg^6*Deg2^4*gamma^6 + 1.5*DEg^5*Deg2^5*gamma^6 + 0.75*DEg^4*Deg2^6*gamma^6 + 0.25*DEg^6*Deg2^2*gamma^6 + 0.75*DEg^5*Deg2^3*gamma^6 + 1.1*DEg^4*Deg2^4*gamma^6 + 0.75*DEg^3*Deg2^5*gamma^6 + 0.19*DEg^2*Deg2^6*gamma^6 + 0.062*DEg^4*Deg2^2*gamma^6 + 0.19*DEg^3*Deg2^3*gamma^6 + 0.20*DEg^2*Deg2^4*gamma^6 + 0.094*DEg*Deg2^5*gamma^6 + 0.016*Deg2^6*gamma^6)*C^30"
      ]
     },
     "metadata": {},
     "output_type": "display_data"
    }
   ],
   "source": [
    "show(symround(den))"
   ]
  },
  {
   "cell_type": "code",
   "execution_count": null,
   "id": "a4ef9843",
   "metadata": {},
   "outputs": [],
   "source": []
  }
 ],
 "metadata": {
  "kernelspec": {
   "display_name": "SageMath 9.3",
   "language": "sage",
   "name": "sagemath"
  },
  "language_info": {
   "codemirror_mode": {
    "name": "ipython",
    "version": 3
   },
   "file_extension": ".py",
   "mimetype": "text/x-python",
   "name": "python",
   "nbconvert_exporter": "python",
   "pygments_lexer": "ipython3",
   "version": "3.9.2"
  }
 },
 "nbformat": 4,
 "nbformat_minor": 5
}
